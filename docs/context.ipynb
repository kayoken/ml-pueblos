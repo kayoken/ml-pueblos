{
 "cells": [
  {
   "cell_type": "markdown",
   "metadata": {},
   "source": [
    "https://www.centreforcities.org/reader/urban-demographics-2/why-do-people-live-where-they-do/\n",
    "\n",
    "\"The cost of housing was the most commonly selected reason for why residents chose to live in their neighbourhood in the national poll (28 per cent of respondents). Being close to friends and family was second (28 per cent), and the size and type of housing available was third (22 per cent).\""
   ]
  },
  {
   "cell_type": "markdown",
   "metadata": {},
   "source": [
    "\"pull\" factors to move to rural areas: https://www.gov.scot/publications/factors-influencing-rural-migration-decisions-scotland-analysis-evidence/pages/4/"
   ]
  },
  {
   "cell_type": "markdown",
   "metadata": {},
   "source": [
    "- Working remotely? --> Internet\n",
    "\n",
    "- Cost of life\n",
    "\n",
    "- Climate? --> https://www.aemet.es/es/serviciosclimaticos/datosclimatologicos/valoresclimatologicos\n",
    "\n",
    "- contact to nature\n",
    "\n",
    "- distance to a city\n",
    "\n",
    "- subsidies for people relocating? --> https://www.creandotuprovincia.es/10-ayudas-para-emprender-en-el-mundo-rural-en-2025.htm\n",
    "\n",
    "- ammenities: gym, library, bar, supermarket, restaurant, shops\n",
    "\n",
    "- transport\n",
    "\n",
    "- Education? --> schools\n",
    "\n",
    "- employement opportunities\n",
    "\n",
    "- family? couple? single?\n"
   ]
  },
  {
   "cell_type": "markdown",
   "metadata": {},
   "source": [
    "### Definition of score\n"
   ]
  }
 ],
 "metadata": {
  "language_info": {
   "name": "python"
  }
 },
 "nbformat": 4,
 "nbformat_minor": 2
}
