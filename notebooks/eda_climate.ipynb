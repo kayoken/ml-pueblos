{
 "cells": [
  {
   "cell_type": "code",
   "execution_count": null,
   "metadata": {
    "execution": {
     "iopub.execute_input": "2025-02-17T09:35:03.857879Z",
     "iopub.status.busy": "2025-02-17T09:35:03.857629Z",
     "iopub.status.idle": "2025-02-17T09:35:04.183757Z",
     "shell.execute_reply": "2025-02-17T09:35:04.183478Z"
    }
   },
   "outputs": [],
   "source": [
    "import sys\n",
    "import os\n",
    "import re\n",
    "sys.path.insert(0, os.path.abspath(os.path.join(os.getcwd(), '..')))\n",
    "import pandas as pd\n",
    "import plotly.express as px\n",
    "import numpy as np\n",
    "\n",
    "import geopandas as gpd\n",
    "from pyproj import Transformer\n",
    "from scripts.utils import split_column_at\n",
    "from scripts.accent_cleaner import AccentCleaner\n",
    "#from deep_translator import GoogleTranslator"
   ]
  },
  {
   "cell_type": "code",
   "execution_count": null,
   "metadata": {
    "execution": {
     "iopub.execute_input": "2025-02-17T09:35:04.185057Z",
     "iopub.status.busy": "2025-02-17T09:35:04.184944Z",
     "iopub.status.idle": "2025-02-17T09:35:04.191909Z",
     "shell.execute_reply": "2025-02-17T09:35:04.191620Z"
    }
   },
   "outputs": [],
   "source": [
    "df_climate = pd.read_csv(\"../data/raw/spain_municipalities_climate_final.csv\")"
   ]
  },
  {
   "cell_type": "code",
   "execution_count": null,
   "metadata": {
    "execution": {
     "iopub.execute_input": "2025-02-17T09:35:04.193031Z",
     "iopub.status.busy": "2025-02-17T09:35:04.192946Z",
     "iopub.status.idle": "2025-02-17T09:35:04.199163Z",
     "shell.execute_reply": "2025-02-17T09:35:04.198902Z"
    }
   },
   "outputs": [],
   "source": [
    "df_climate"
   ]
  },
  {
   "cell_type": "code",
   "execution_count": null,
   "metadata": {
    "execution": {
     "iopub.execute_input": "2025-02-17T09:35:04.214268Z",
     "iopub.status.busy": "2025-02-17T09:35:04.214139Z",
     "iopub.status.idle": "2025-02-17T09:35:04.216535Z",
     "shell.execute_reply": "2025-02-17T09:35:04.216321Z"
    }
   },
   "outputs": [],
   "source": [
    "df_climate[\"Koppen_Climate\"].unique()"
   ]
  },
  {
   "cell_type": "code",
   "execution_count": null,
   "metadata": {
    "execution": {
     "iopub.execute_input": "2025-02-17T09:35:04.217661Z",
     "iopub.status.busy": "2025-02-17T09:35:04.217576Z",
     "iopub.status.idle": "2025-02-17T09:35:04.219830Z",
     "shell.execute_reply": "2025-02-17T09:35:04.219627Z"
    }
   },
   "outputs": [],
   "source": [
    "climate_translation_dict = {\n",
    "    'Csa': 'Cfb',\n",
    "    'Csb': 'Cfa',\n",
    "    'BSh': 'BSk',\n",
    "    'Cfa': 'Csa',\n",
    "    'BWk': 'Bsh',\n",
    "    'Cwb': 'Csb',\n",
    "    'Bsk': 'Csa',\n",
    "}\n",
    "\n",
    "df_climate['Koppen_Climate'] = df_climate['Koppen_Climate'].map(climate_translation_dict)"
   ]
  },
  {
   "cell_type": "code",
   "execution_count": null,
   "metadata": {
    "execution": {
     "iopub.execute_input": "2025-02-17T09:35:04.220822Z",
     "iopub.status.busy": "2025-02-17T09:35:04.220730Z",
     "iopub.status.idle": "2025-02-17T09:35:04.222602Z",
     "shell.execute_reply": "2025-02-17T09:35:04.222374Z"
    }
   },
   "outputs": [],
   "source": [
    "df_climate.loc[df_climate['municipality'] == 'Queralbs', 'Koppen_Climate'] = \"Cfb\""
   ]
  },
  {
   "cell_type": "code",
   "execution_count": null,
   "metadata": {
    "execution": {
     "iopub.execute_input": "2025-02-17T09:35:04.223586Z",
     "iopub.status.busy": "2025-02-17T09:35:04.223521Z",
     "iopub.status.idle": "2025-02-17T09:35:04.227703Z",
     "shell.execute_reply": "2025-02-17T09:35:04.227436Z"
    }
   },
   "outputs": [],
   "source": [
    "df_climate"
   ]
  },
  {
   "cell_type": "code",
   "execution_count": null,
   "metadata": {
    "execution": {
     "iopub.execute_input": "2025-02-17T09:35:04.228741Z",
     "iopub.status.busy": "2025-02-17T09:35:04.228669Z",
     "iopub.status.idle": "2025-02-17T09:35:04.232729Z",
     "shell.execute_reply": "2025-02-17T09:35:04.232442Z"
    }
   },
   "outputs": [],
   "source": [
    "koppen_descriptions = {\n",
    "    \"BWh\": \"Hot Desert Climate - Dry and very hot.\",\n",
    "    \"BWk\": \"Cold Desert Climate - Dry with large temperature variations.\",\n",
    "    \"BSh\": \"Hot Semi-Arid Climate - Dry with higher temperatures.\",\n",
    "    \"BSk\": \"Cold Semi-Arid Climate - Dry, but with lower temperatures.\",\n",
    "    \"Csa\": \"Mediterranean Hot Summer - Hot, dry summers and mild, wet winters.\",\n",
    "    \"Csb\": \"Mediterranean Warm Summer - Cooler, wet winters and warm, dry summers.\",\n",
    "    \"Cfa\": \"Humid Subtropical - Hot summers with year-round precipitation.\",\n",
    "    \"Cfb\": \"Oceanic Climate - Mild temperatures and consistent rainfall.\",\n",
    "    \"Cwb\": \"Subtropical High Altitude - Moderate temperatures, wet summers.\"\n",
    "}\n",
    "\n",
    "# Convert to DataFrame for merging\n",
    "df_koppen = pd.DataFrame(list(koppen_descriptions.items()), columns=[\"Koppen_Climate\", \"description\"])\n",
    "\n",
    "# Merge climate descriptions with the municipalities dataset\n",
    "df_climate = df_climate.merge(df_koppen, on=\"Koppen_Climate\", how=\"left\")"
   ]
  },
  {
   "cell_type": "code",
   "execution_count": null,
   "metadata": {
    "execution": {
     "iopub.execute_input": "2025-02-17T09:35:04.233746Z",
     "iopub.status.busy": "2025-02-17T09:35:04.233680Z",
     "iopub.status.idle": "2025-02-17T09:35:04.456936Z",
     "shell.execute_reply": "2025-02-17T09:35:04.456693Z"
    }
   },
   "outputs": [],
   "source": [
    "import matplotlib.pyplot as plt\n",
    "\n",
    "# Count occurrences of each climate type\n",
    "climate_counts = df_climate['Koppen_Climate'].value_counts()\n",
    "\n",
    "# Plot the histogram\n",
    "plt.figure(figsize=(8, 5))\n",
    "climate_counts.plot(kind='bar')\n",
    "\n",
    "# Customize the plot\n",
    "plt.xlabel(\"Köppen Climate Type\")\n",
    "plt.ylabel(\"Number of Municipalities\")\n",
    "plt.title(\"Distribution of Köppen Climate Types\")\n",
    "plt.xticks(rotation=45)  # Rotate x-axis labels if needed\n",
    "plt.grid(axis='y', linestyle='--', alpha=0.7)\n",
    "\n",
    "# Show plot\n",
    "plt.show()\n"
   ]
  },
  {
   "cell_type": "code",
   "execution_count": null,
   "metadata": {
    "execution": {
     "iopub.execute_input": "2025-02-17T09:35:04.458059Z",
     "iopub.status.busy": "2025-02-17T09:35:04.457964Z",
     "iopub.status.idle": "2025-02-17T09:35:04.676792Z",
     "shell.execute_reply": "2025-02-17T09:35:04.676492Z"
    }
   },
   "outputs": [],
   "source": [
    "\n",
    "import plotly.express as px\n",
    "\n",
    "# Create the Interactive Map with Hover Text\n",
    "fig = px.scatter_mapbox(df_climate, \n",
    "                        lat=\"latitude\",  \n",
    "                        lon=\"longitude\",  \n",
    "                        color=\"Koppen_Climate\",  \n",
    "                        hover_data=[\"Koppen_Climate\", \"description\"],  # Shows climate and description on hover\n",
    "                        zoom=5,\n",
    "                        size_max=50,\n",
    "                        color_discrete_sequence=px.colors.qualitative.Set1  \n",
    "                        )\n",
    "\n",
    "# Set map style\n",
    "fig.update_layout(mapbox_style=\"open-street-map\")\n",
    "\n",
    "# Show the figure\n",
    "fig.show()\n"
   ]
  },
  {
   "cell_type": "code",
   "execution_count": null,
   "metadata": {
    "execution": {
     "iopub.execute_input": "2025-02-17T09:35:04.716113Z",
     "iopub.status.busy": "2025-02-17T09:35:04.715999Z",
     "iopub.status.idle": "2025-02-17T09:35:04.718443Z",
     "shell.execute_reply": "2025-02-17T09:35:04.718206Z"
    }
   },
   "outputs": [],
   "source": [
    "df_climate[\"province\"].unique()"
   ]
  },
  {
   "cell_type": "code",
   "execution_count": null,
   "metadata": {},
   "outputs": [],
   "source": [
    "df_climate.to_csv(\"../data/processed/filtered_climate.csv\", index=False)"
   ]
  }
 ],
 "metadata": {
  "kernelspec": {
   "display_name": ".venv",
   "language": "python",
   "name": "python3"
  },
  "language_info": {
   "codemirror_mode": {
    "name": "ipython",
    "version": 3
   },
   "file_extension": ".py",
   "mimetype": "text/x-python",
   "name": "python",
   "nbconvert_exporter": "python",
   "pygments_lexer": "ipython3",
   "version": "3.11.3"
  }
 },
 "nbformat": 4,
 "nbformat_minor": 2
}
