{
 "cells": [
  {
   "cell_type": "code",
   "execution_count": null,
   "metadata": {},
   "outputs": [],
   "source": [
    "import pandas as pd\n",
    "import numpy as np\n",
    "import seaborn as sns\n",
    "import plotly.express as px\n",
    "import matplotlib.pyplot as plt\n",
    "from sklearn.preprocessing import OneHotEncoder\n",
    "from sklearn.preprocessing import StandardScaler, MinMaxScaler\n",
    "pd.set_option('display.max_columns', None)\n",
    "# eye candy plots\n",
    "plt.style.use('https://github.com/dhaitz/matplotlib-stylesheets/raw/master/pitayasmoothie-light.mplstyle')"
   ]
  },
  {
   "cell_type": "code",
   "execution_count": null,
   "metadata": {},
   "outputs": [],
   "source": [
    "df = pd.read_csv(\"../../data/processed/2_aggregated_pueblos.csv\")\n",
    "df.shape"
   ]
  },
  {
   "cell_type": "code",
   "execution_count": null,
   "metadata": {},
   "outputs": [],
   "source": [
    "df['province'].unique()\n",
    "df[df.towns_in_vicinity.isnull()]\n",
    "\n",
    "df = df.dropna(subset=['towns_in_vicinity'])\n"
   ]
  },
  {
   "cell_type": "code",
   "execution_count": null,
   "metadata": {},
   "outputs": [],
   "source": [
    "province_to_autonomous_community = {\n",
    "    'Álava': 'País Vasco',\n",
    "    'Albacete': 'Castilla-La Mancha',\n",
    "    'Alicante': 'Comunidad Valenciana',\n",
    "    'Almería': 'Andalucía',\n",
    "    'Ávila': 'Castilla y León',\n",
    "    'Badajoz': 'Extremadura',\n",
    "    'Illes Balears': 'Illes Balears',\n",
    "    'Barcelona': 'Cataluña',\n",
    "    'Burgos': 'Castilla y León',\n",
    "    'Cáceres': 'Extremadura',\n",
    "    'Cádiz': 'Andalucía',\n",
    "    'Castellón': 'Comunidad Valenciana',\n",
    "    'Ciudad Real': 'Castilla-La Mancha',\n",
    "    'Córdoba': 'Andalucía',\n",
    "    'A Coruña': 'Galicia',\n",
    "    'Cuenca': 'Castilla-La Mancha',\n",
    "    'Girona': 'Cataluña',\n",
    "    'Granada': 'Andalucía',\n",
    "    'Guadalajara': 'Castilla-La Mancha',\n",
    "    'Gipuzkoa': 'País Vasco',\n",
    "    'Huelva': 'Andalucía',\n",
    "    'Huesca': 'Aragón',\n",
    "    'Jaén': 'Andalucía',\n",
    "    'León': 'Castilla y León',\n",
    "    'Lleida': 'Cataluña',\n",
    "    'La Rioja': 'La Rioja',\n",
    "    'Lugo': 'Galicia',\n",
    "    'Madrid': 'Comunidad de Madrid',\n",
    "    'Málaga': 'Andalucía',\n",
    "    'Murcia': 'Murcia',\n",
    "    'Navarra': 'Navarra',\n",
    "    'Ourense': 'Galicia',\n",
    "    'Asturias': 'Asturias',\n",
    "    'Palencia': 'Castilla y León',\n",
    "    'Pontevedra': 'Galicia',\n",
    "    'Salamanca': 'Castilla y León',\n",
    "    'Santa Cruz de Tenerife': 'Canarias',\n",
    "    'Cantabria': 'Cantabria',\n",
    "    'Segovia': 'Castilla y León',\n",
    "    'Sevilla': 'Andalucía',\n",
    "    'Soria': 'Castilla y León',\n",
    "    'Tarragona': 'Cataluña',\n",
    "    'Teruel': 'Aragón',\n",
    "    'Toledo': 'Castilla-La Mancha',\n",
    "    'Valencia': 'Comunidad Valenciana',\n",
    "    'Valladolid': 'Castilla y León',\n",
    "    'Bizkaia': 'País Vasco',\n",
    "    'Zamora': 'Castilla y León',\n",
    "    'Zaragoza': 'Aragón'\n",
    "}"
   ]
  },
  {
   "cell_type": "code",
   "execution_count": null,
   "metadata": {},
   "outputs": [],
   "source": [
    "df['autonomous_community'] = df['province'].map(province_to_autonomous_community)"
   ]
  },
  {
   "cell_type": "code",
   "execution_count": null,
   "metadata": {},
   "outputs": [],
   "source": [
    "df = df.drop(columns=[col for col in df.columns if col.startswith('n_')])\n",
    "df = df.sort_values(['latitude', 'longitude'], ascending=False)"
   ]
  },
  {
   "cell_type": "markdown",
   "metadata": {},
   "source": [
    "## Scoring Hospitals"
   ]
  },
  {
   "cell_type": "code",
   "execution_count": null,
   "metadata": {},
   "outputs": [],
   "source": [
    "df.reset_index(drop=True, inplace=True)\n",
    "df"
   ]
  },
  {
   "cell_type": "code",
   "execution_count": null,
   "metadata": {},
   "outputs": [],
   "source": [
    "\n",
    "\n",
    "# define bins for the hospital distance (adjust thresholds as needed)\n",
    "hospital_bins = [df['closest_distance_hospital'].min() - 0.001, 5, 10, 15, 20, 25, 30, df['closest_distance_hospital'].max()]\n",
    "school_bins = [df['closest_distance_school'].min() - 0.001, 5, 10, 15, 20, 25, 30, df['closest_distance_school'].max()]\n",
    "labels = ['<5', '5-10', '10-15', '15-20', '20-25', '25-30', '30+']\n",
    "\n",
    "# bin the values into categories\n",
    "df['closest_distance_hospital_bin'] = pd.cut(df['closest_distance_hospital'], bins=hospital_bins, labels=labels, include_lowest=True)\n",
    "df['closest_distance_school_bin'] = pd.cut(df['closest_distance_school'], bins=school_bins, labels=labels, include_lowest=True)\n",
    "\n",
    "# apply score based on the bins (10 is best)\n",
    "score_mapping = {\n",
    "    '<5': 10,\n",
    "    '5-10': 8,\n",
    "    '10-15': 6,\n",
    "    '15-20': 4,\n",
    "    '20-25': 3,\n",
    "    '25-30': 2,\n",
    "    '30+': 1\n",
    "}\n",
    "\n",
    "df['hospital_distance_score'] = df['closest_distance_hospital_bin'].map(score_mapping)\n",
    "df['school_distance_score'] = df['closest_distance_school_bin'].map(score_mapping)\n",
    "\n",
    "# second step\n",
    "def combine_scores(row, column):\n",
    "    base_score = row[column]\n",
    "    vicinity = row[column]\n",
    "    if vicinity:\n",
    "        neighbor_scores = df.loc[df[\"cmun\"].isin([vicinity]), column]\n",
    "        if not neighbor_scores.empty:\n",
    "            avg_neighbor_score = neighbor_scores.mean()\n",
    "        else:\n",
    "            avg_neighbor_score = 0\n",
    "        return (base_score + avg_neighbor_score) / 2\n",
    "    else:\n",
    "        return base_score\n",
    "\n",
    "df[\"hospital_score_area\"] = df.apply(lambda row: combine_scores(row, column=\"hospital_distance_score\"), axis=1)\n",
    "df[\"school_score_area\"] = df.apply(lambda row: combine_scores(row, column=\"school_distance_score\"), axis=1)"
   ]
  },
  {
   "cell_type": "code",
   "execution_count": null,
   "metadata": {},
   "outputs": [],
   "source": [
    "df.drop(columns=[\"closest_distance_hospital_bin\", \"closest_distance_school_bin\"], axis=1, inplace=True)"
   ]
  },
  {
   "cell_type": "code",
   "execution_count": null,
   "metadata": {},
   "outputs": [],
   "source": [
    "score_mapping = {\n",
    "    '<5': 10,\n",
    "    '5-10': 8,\n",
    "    '10-15': 6,\n",
    "    '15-20': 4,\n",
    "    '20-25': 3,\n",
    "    '25-30': 2,\n",
    "    '30+': 1\n",
    "}\n",
    "\n",
    "\n",
    "airport_score_mapping = {\n",
    "    '<10': 10,\n",
    "    '10-15': 8,\n",
    "    '15-30': 6,\n",
    "    '30-50': 4,\n",
    "    '50-100': 3,\n",
    "    '100+': 1\n",
    "}\n",
    "\n",
    "df_transport = df[['closest_distance_train', 'closest_distance_airport' ]]\n",
    "\n",
    "train_bins = [df['closest_distance_train'].min() - 0.001, 5, 10, 15, 20, 25, 30, df['closest_distance_train'].max()]\n",
    "train_labels = ['<5', '5-10', '10-15', '15-20', '20-25', '25-30', '30+']\n",
    "\n",
    "airport_bins = [df['closest_distance_airport'].min() - 0.001, 10, 15, 30, 50, 100, df['closest_distance_airport'].max()]\n",
    "airport_labels = ['<10', '10-15', '15-30', '30-50', '50-100', '100+']\n",
    "\n",
    "# bin the train and airport distances using the provided bins and labels\n",
    "df['train_distance_bin'] = pd.cut(df['closest_distance_train'], bins=train_bins, labels=train_labels, include_lowest=True)\n",
    "df['airport_distance_bin'] = pd.cut(df['closest_distance_airport'], bins=airport_bins, labels=airport_labels, include_lowest=True)\n",
    "\n",
    "# map the binned categories to scores using the score_mapping\n",
    "df['train_distance_score'] = df['train_distance_bin'].map(score_mapping)\n",
    "df['airport_distance_score'] = df['airport_distance_bin'].map(airport_score_mapping)\n",
    "\n",
    "# compute a weighted transportation score (equal weight is used here; adjust weights if needed)\n",
    "df['transport_score'] = (pd.to_numeric(df['train_distance_score']) + pd.to_numeric(df['airport_distance_score'])) / 2\n",
    "\n"
   ]
  },
  {
   "cell_type": "code",
   "execution_count": null,
   "metadata": {},
   "outputs": [],
   "source": [
    "df.sample(6)"
   ]
  },
  {
   "cell_type": "code",
   "execution_count": null,
   "metadata": {},
   "outputs": [],
   "source": [
    "df.drop(columns=[col for col in df.columns if col.endswith('_bin')], inplace=True)"
   ]
  },
  {
   "cell_type": "code",
   "execution_count": 151,
   "metadata": {},
   "outputs": [],
   "source": [
    "df.to_csv(\"../../data/processed/3_aggregated_pueblos.csv\", index=False)"
   ]
  }
 ],
 "metadata": {
  "kernelspec": {
   "display_name": ".venv",
   "language": "python",
   "name": "python3"
  },
  "language_info": {
   "codemirror_mode": {
    "name": "ipython",
    "version": 3
   },
   "file_extension": ".py",
   "mimetype": "text/x-python",
   "name": "python",
   "nbconvert_exporter": "python",
   "pygments_lexer": "ipython3",
   "version": "3.11.3"
  }
 },
 "nbformat": 4,
 "nbformat_minor": 2
}
