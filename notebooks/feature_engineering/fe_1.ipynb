{
 "cells": [
  {
   "cell_type": "code",
   "execution_count": null,
   "metadata": {},
   "outputs": [],
   "source": [
    "import pandas as pd\n",
    "import numpy as np\n",
    "import seaborn as sns\n",
    "import plotly.express as px\n",
    "import matplotlib.pyplot as plt\n",
    "from sklearn.preprocessing import OneHotEncoder\n",
    "from sklearn.preprocessing import StandardScaler, MinMaxScaler\n",
    "# from sklearn.metrics import confusion_matrix, accuracy_score\n",
    "\n",
    "\n",
    "# from sklearn.cluster import KMeans, DBSCAN, AgglomerativeClustering\n",
    "# import time\n",
    "# import scipy.cluster.hierarchy as sch\n",
    "# from sklearn.neighbors import NearestNeighbors\n",
    "\n",
    "\n",
    "# eye candy plots\n",
    "plt.style.use('https://github.com/dhaitz/matplotlib-stylesheets/raw/master/pitayasmoothie-light.mplstyle')\n",
    "# source https://github.com/dhaitz/matplotlib-stylesheets\n",
    "\n",
    "# from sklearn.model_selection import train_test_split, cross_val_score\n",
    "# from sklearn.model_selection import GridSearchCV, RandomizedSearchCV\n",
    "# from sklearn.linear_model import SGDClassifier\n",
    "# from sklearn.neighbors import KNeighborsClassifier"
   ]
  },
  {
   "cell_type": "code",
   "execution_count": null,
   "metadata": {},
   "outputs": [],
   "source": [
    "df = pd.read_csv(\"../../data/processed/aggregated_pueblos.csv\")"
   ]
  },
  {
   "cell_type": "code",
   "execution_count": null,
   "metadata": {},
   "outputs": [],
   "source": [
    "df.province.unique()"
   ]
  },
  {
   "cell_type": "code",
   "execution_count": null,
   "metadata": {},
   "outputs": [],
   "source": [
    "df = df.drop(df[df['province'].isin([\"Illes Balears\", \"Santa Cruz de Tenerife\"])].index)"
   ]
  },
  {
   "cell_type": "code",
   "execution_count": null,
   "metadata": {},
   "outputs": [],
   "source": [
    "sns.histplot(df, x=\"total_population\", bins=30)\n"
   ]
  },
  {
   "cell_type": "code",
   "execution_count": null,
   "metadata": {},
   "outputs": [],
   "source": [
    "# Plotting the boxplot\n",
    "sns.boxplot(df[\"total_population\"], color=\"teal\")"
   ]
  },
  {
   "cell_type": "code",
   "execution_count": null,
   "metadata": {},
   "outputs": [],
   "source": [
    "# Define function to print the whiskers of a boxplot\n",
    "\n",
    "def calculate_whiskers(df, column):\n",
    "    \"\"\"\n",
    "    Calculate the lower and upper whiskers for a specified column in a DataFrame.\n",
    "\n",
    "    Parameters:\n",
    "        df (pd.DataFrame): The DataFrame containing the data.\n",
    "        column (str): The column name to calculate whiskers for.\n",
    "\n",
    "    Returns:\n",
    "        tuple: (lower_whisker, upper_whisker)\n",
    "    \"\"\"\n",
    "    # Get descriptive statistics for the column\n",
    "    stats = df[column].describe()\n",
    "    Q1 = stats['25%']\n",
    "    Q3 = stats['75%']\n",
    "    IQR = Q3 - Q1\n",
    "\n",
    "    # Calculate the lower whisker\n",
    "    lower_whisker = max(\n",
    "        df[column][df[column] >= (Q1 - 1.5 * IQR)].min(), \n",
    "        df[column].min()\n",
    "    )\n",
    "    \n",
    "    # Calculate the upper whisker\n",
    "    upper_whisker = min(\n",
    "        df[column][df[column] <= (Q3 + 1.5 * IQR)].max(), \n",
    "        df[column].max()\n",
    "    )\n",
    "    \n",
    "    return lower_whisker, upper_whisker"
   ]
  },
  {
   "cell_type": "code",
   "execution_count": null,
   "metadata": {},
   "outputs": [],
   "source": [
    "lower, upper = calculate_whiskers(df, \"total_population\")\n",
    "print(\"Upper Whisker total population\", upper)"
   ]
  },
  {
   "cell_type": "code",
   "execution_count": null,
   "metadata": {},
   "outputs": [],
   "source": [
    "df.info()"
   ]
  },
  {
   "cell_type": "code",
   "execution_count": null,
   "metadata": {},
   "outputs": [],
   "source": [
    "df_cities = df.query(\"total_population > 20000\")"
   ]
  },
  {
   "cell_type": "code",
   "execution_count": null,
   "metadata": {},
   "outputs": [],
   "source": [
    "title = \"Cities in Spain\"\n",
    "\n",
    "lats = df_cities.latitude\n",
    "lons = df_cities.longitude\n",
    "\n",
    "fig = px.scatter_map(df_cities, \n",
    "                     lat=lats, \n",
    "                     lon=lons,\n",
    "                     hover_data=[\"municipality\"],\n",
    "                     color_continuous_scale=px.colors.carto.Aggrnyl,\n",
    "                     zoom=5,\n",
    "                     size_max=50  # Increase max size of markers\n",
    "                     )\n",
    "\n",
    "# Adjust the size reference to make small points more visible\n",
    "fig.update_traces(marker=dict(sizeref=1000))  # Decrease this value to make points larger\n",
    "\n",
    "fig.update_geos(fitbounds=\"locations\")\n",
    "fig.update_layout(height=1000, width=1000)\n",
    "fig.update_layout(mapbox_style=\"open-street-map\")\n",
    "fig.update_layout(margin={\"r\":50,\"t\":50,\"l\":50,\"b\":50})\n",
    "fig.update_layout(\n",
    "    coloraxis_colorbar=dict(title='asdf')\n",
    ")\n",
    "fig.update_layout(title=\"Major in Spain \")\n",
    "\n",
    "fig.show()"
   ]
  },
  {
   "cell_type": "code",
   "execution_count": null,
   "metadata": {},
   "outputs": [],
   "source": [
    "df_cities.to_csv(\"../../data/processed/split_cities.csv\")"
   ]
  },
  {
   "cell_type": "code",
   "execution_count": null,
   "metadata": {},
   "outputs": [],
   "source": [
    "df_cities"
   ]
  },
  {
   "cell_type": "code",
   "execution_count": null,
   "metadata": {},
   "outputs": [],
   "source": [
    "# df = df.query(\"total_population <= 6000\")"
   ]
  },
  {
   "cell_type": "code",
   "execution_count": null,
   "metadata": {},
   "outputs": [],
   "source": [
    "sns.histplot(df, x=\"total_population\", bins=30)"
   ]
  },
  {
   "cell_type": "code",
   "execution_count": null,
   "metadata": {},
   "outputs": [],
   "source": [
    "# Plotting the boxplot\n",
    "sns.boxplot(df[\"total_population\"], color=\"teal\")"
   ]
  },
  {
   "cell_type": "code",
   "execution_count": null,
   "metadata": {},
   "outputs": [],
   "source": [
    "df\n"
   ]
  },
  {
   "cell_type": "code",
   "execution_count": null,
   "metadata": {},
   "outputs": [],
   "source": [
    "df.columns"
   ]
  },
  {
   "cell_type": "code",
   "execution_count": null,
   "metadata": {},
   "outputs": [],
   "source": [
    "# Create the figure and first y-axis\n",
    "fig, ax1 = plt.subplots(figsize=(10, 6))\n",
    "\n",
    "# Plot the bar chart for total cost\n",
    "sns.countplot(data=df, x= \"province\",order=df[\"province\"].value_counts().index, ax=ax1, color=\"teal\", alpha = 0.8)\n",
    "plt.xticks(rotation=90)\n"
   ]
  },
  {
   "cell_type": "code",
   "execution_count": null,
   "metadata": {},
   "outputs": [],
   "source": [
    "# Group by province and sum the total population\n",
    "df_grouped = df.groupby(\"province\", as_index=False)[\"total_population\"].sum()\n",
    "\n",
    "# Sort the grouped DataFrame by total_population in descending order\n",
    "df_sorted = df_grouped.sort_values(by=\"total_population\", ascending=False)\n",
    "\n",
    "# Create the figure and first y-axis\n",
    "fig, ax1 = plt.subplots(figsize=(10, 6))\n",
    "\n",
    "# Plot the bar chart with ordered categories\n",
    "sns.barplot(x=df_sorted.province, y=df_sorted.total_population, ax=ax1, color=\"teal\", order=df_sorted.province, alpha = 0.8)\n",
    "\n",
    "ax1.set_ylabel(\"Population\", fontsize=12)\n",
    "ax1.set_xlabel(\"Province\", fontsize=12)\n",
    "ax1.tick_params(axis='y')\n",
    "ax1.tick_params(axis='x', rotation=90)\n",
    "ax1.set_title(\"Total Population living in small towns per province\", fontsize=14, pad=15)\n",
    "\n",
    "plt.show()\n",
    "\n"
   ]
  },
  {
   "cell_type": "code",
   "execution_count": null,
   "metadata": {},
   "outputs": [],
   "source": [
    "# Group by province and calculate the average population per municipality\n",
    "df_grouped = df.groupby(\"province\", as_index=False)[\"total_population\"].mean()\n",
    "\n",
    "# Sort the grouped DataFrame by average total_population in descending order\n",
    "df_sorted = df_grouped.sort_values(by=\"total_population\", ascending=False)\n",
    "\n",
    "# Create the figure and first y-axis\n",
    "fig, ax1 = plt.subplots(figsize=(10, 6))\n",
    "\n",
    "# Plot the bar chart with ordered categories\n",
    "sns.barplot(x=df_sorted.province, y=df_sorted.total_population, ax=ax1, color=\"teal\", order=df_sorted.province, alpha = 0.8)\n",
    "\n",
    "ax1.set_ylabel(\"Average Population per Municipality\", fontsize=12)\n",
    "ax1.set_xlabel(\"Province\", fontsize=12)\n",
    "ax1.tick_params(axis='y')\n",
    "ax1.tick_params(axis='x', rotation=90)\n",
    "ax1.set_title(\"Average Population per Municipality in Each Province\", fontsize=14, pad=15)\n",
    "\n",
    "plt.show()\n"
   ]
  },
  {
   "cell_type": "code",
   "execution_count": null,
   "metadata": {},
   "outputs": [],
   "source": [
    "# Define function to categorize connectivity levels\n",
    "def categorize_population(size):\n",
    "    if size >= 3000:\n",
    "        return \"Big\"\n",
    "    elif size >= 500:\n",
    "        return \"Mid\"\n",
    "    elif size >= 100:\n",
    "        return \"Small\"\n",
    "    else:\n",
    "        return \"Very Small\"\n",
    "\n",
    "# Apply the function to create a new column\n",
    "df[\"town_size\"] = df[\"total_population\"].apply(categorize_population)"
   ]
  },
  {
   "cell_type": "code",
   "execution_count": null,
   "metadata": {},
   "outputs": [],
   "source": [
    "df"
   ]
  },
  {
   "cell_type": "code",
   "execution_count": null,
   "metadata": {},
   "outputs": [],
   "source": [
    "order = [\"Very Small\", \"Small\", \"Mid\", \"Big\"]"
   ]
  },
  {
   "cell_type": "code",
   "execution_count": null,
   "metadata": {},
   "outputs": [],
   "source": [
    "# Create the figure and first y-axis\n",
    "fig, ax1 = plt.subplots(figsize=(10, 6))\n",
    "\n",
    "# Plot the bar chart for total cost\n",
    "sns.countplot(data=df, x= \"town_size\",order=order, ax=ax1, color=\"teal\", alpha = 0.8)"
   ]
  },
  {
   "cell_type": "markdown",
   "metadata": {},
   "source": [
    "What questions would be useful to answer with this EDA?"
   ]
  },
  {
   "cell_type": "code",
   "execution_count": null,
   "metadata": {},
   "outputs": [],
   "source": [
    "# Group by province and calculate the average population per municipality\n",
    "df_connectivity = df[['vdsl_30mbps', 'fixed_wireless', 'ftth', 'hfc', 'reception_30mbps','reception_100mbps', 'reception_1gbps', '4g', '5g', '5g_3,5ghz']]\n",
    "\n",
    "# Plot the bar chart with ordered categories\n",
    "sns.pairplot(df_connectivity)\n"
   ]
  },
  {
   "cell_type": "markdown",
   "metadata": {},
   "source": [
    "Meanings of the Connectivity Indicators:\n",
    "\n",
    "Each of these refers to a different type of broadband or mobile network connectivity in a town. Here's what they mean:\n",
    "\n",
    "vdsl_30mbps → Availability of VDSL (Very-high-bit-rate Digital Subscriber Line) at 30 Mbps. A faster version of DSL that uses telephone lines.\n",
    "fixed_wireless → Percentage of coverage by Fixed Wireless Access (FWA), which provides broadband via radio signals instead of cables.\n",
    "ftth → Fiber-to-the-Home (FTTH) availability, meaning direct fiber optic connections to residences (highest speed and reliability).\n",
    "hfc → Hybrid Fiber-Coaxial (HFC) availability, a mix of fiber optics and coaxial cable (used in cable internet services).\n",
    "reception_30mbps → Percentage of the area that can receive at least 30 Mbps (regardless of technology).\n",
    "reception_100mbps → Percentage of the area that can receive at least 100 Mbps.\n",
    "reception_1gbps → Percentage of the area that can receive at least 1 Gbps (1000 Mbps).\n",
    "4g → Coverage of 4G mobile network.\n",
    "5g → Coverage of 5G mobile network (general).\n",
    "5g_3,5ghz → Coverage of 5G at 3.5 GHz, a specific frequency band that offers higher speeds and lower latency.\n",
    "\n",
    "The 3 Most Important Metrics to Define Connectivity in a Town:\n",
    "\n",
    "ftth (Fiber-to-the-Home)\n",
    "Why? It's the gold standard for broadband, offering the fastest speeds, low latency, and high reliability.\n",
    "Key Impact: Towns with high FTTH coverage have superior internet quality.\n",
    "\n",
    "reception_100mbps or reception_1gbps\n",
    "Why? This metric shows how much of the town has access to fast internet speeds (regardless of the technology).\n",
    "Key Impact: Ensures people and businesses can get modern broadband speeds.\n",
    "\n",
    "5g or 5g_3,5ghz\n",
    "Why? 5G is essential for mobile and future-proof connectivity (low latency, high-speed mobile broadband).\n",
    "Key Impact: Towns with strong 5G networks can support smart city applications, IoT, and next-gen mobile services."
   ]
  },
  {
   "cell_type": "code",
   "execution_count": null,
   "metadata": {},
   "outputs": [],
   "source": [
    "# Group by province and calculate the average population per municipality\n",
    "df_connectivity = df[[ 'ftth','reception_100mbps', '4g']]\n",
    "\n",
    "# Plot the bar chart with ordered categories\n",
    "sns.pairplot(df_connectivity)\n"
   ]
  },
  {
   "cell_type": "markdown",
   "metadata": {},
   "source": [
    "### **Adjusted Weight Distribution**\n",
    "| **Factor**            | **New Weight (%)** | **Reasoning** |\n",
    "|-----------------------|-------------------|--------------|\n",
    "| `ftth`               | **50%**            | Fiber is the most important for stable, high-speed connectivity. |\n",
    "| `reception_100mbps`  | **35%**            | Ensures fast broadband availability, even if not fiber. |\n",
    "| `4g`                 | **15%**            | Still essential for mobile broadband, but not the primary factor. |"
   ]
  },
  {
   "cell_type": "code",
   "execution_count": null,
   "metadata": {},
   "outputs": [],
   "source": [
    "# Define new weights\n",
    "weights = {\n",
    "    'ftth': 0.5,\n",
    "    'reception_100mbps': 0.35,\n",
    "    '4g': 0.15\n",
    "}\n",
    "\n",
    "# Compute the adjusted Connectivity Score\n",
    "df[\"connectivity_score\"] = (\n",
    "    df[\"ftth\"] * weights[\"ftth\"] +\n",
    "    df[\"reception_100mbps\"] * weights[\"reception_100mbps\"] +\n",
    "    df[\"4g\"] * weights[\"4g\"]\n",
    ")\n"
   ]
  },
  {
   "cell_type": "markdown",
   "metadata": {},
   "source": [
    "### **Connectivity Score Categories**\n",
    "| **Score Range**  | **Category**          | **Description** |\n",
    "|------------------|----------------------|----------------|\n",
    "| **80 - 100**     | **Excellent**         | Strong fiber coverage and high-speed internet. |\n",
    "| **60 - 79**      | **Good**              | Decent broadband with fiber or high-speed non-fiber options. |\n",
    "| **40 - 59**      | **Moderate**          | Some high-speed coverage, but fiber may be limited. |\n",
    "| **20 - 39**      | **Weak**              | Basic connectivity with limited high-speed access. |\n",
    "| **0 - 19**       | **Poor**              | Very poor or no access to high-speed internet. |"
   ]
  },
  {
   "cell_type": "code",
   "execution_count": null,
   "metadata": {},
   "outputs": [],
   "source": [
    "# Define function to categorize connectivity levels\n",
    "def categorize_connectivity(score):\n",
    "    if score >= 0.8:\n",
    "        return \"Excellent\"\n",
    "    elif score >= 0.6:\n",
    "        return \"Good\"\n",
    "    elif score >= 0.4:\n",
    "        return \"Moderate\"\n",
    "    elif score >= 0.2:\n",
    "        return \"Weak\"\n",
    "    else:\n",
    "        return \"Poor\"\n",
    "\n",
    "# Apply the function to create a new column\n",
    "df[\"connectivity_category\"] = df[\"connectivity_score\"].apply(categorize_connectivity)\n"
   ]
  },
  {
   "cell_type": "code",
   "execution_count": null,
   "metadata": {},
   "outputs": [],
   "source": [
    "df"
   ]
  },
  {
   "cell_type": "code",
   "execution_count": null,
   "metadata": {},
   "outputs": [],
   "source": [
    "sns.histplot(df, x=\"connectivity_category\", bins=30, color = \"teal\", alpha = 0.8)"
   ]
  },
  {
   "cell_type": "code",
   "execution_count": null,
   "metadata": {},
   "outputs": [],
   "source": [
    "df.drop(columns=[\"ftth\", \"hfc\", \"reception_30mbps\", \"reception_100mbps\", \"reception_1gbps\", \"4g\", \"5g\", \"5g_3,5ghz\", 'vdsl_30mbps','fixed_wireless'], axis=1, inplace=True)"
   ]
  },
  {
   "cell_type": "code",
   "execution_count": null,
   "metadata": {},
   "outputs": [],
   "source": [
    "df[['n_industry', 'n_construction',\n",
    "       'n_info_communications', 'n_financial_insurance', 'n_real_estate',\n",
    "       'n_professional_technical', 'n_eduation_health_social', 'n_other']].describe()"
   ]
  },
  {
   "cell_type": "code",
   "execution_count": null,
   "metadata": {},
   "outputs": [],
   "source": [
    "title = \"Villages in Spain\"\n",
    "\n",
    "lats = df.latitude\n",
    "lons = df.longitude\n",
    "\n",
    "fig = px.scatter_map(df, \n",
    "                     lat=lats, \n",
    "                     lon=lons,\n",
    "                     hover_data=[\"municipality\"],\n",
    "                     color_continuous_scale=px.colors.carto.Aggrnyl,\n",
    "                     zoom=5,\n",
    "                     size_max=50  # Increase max size of markers\n",
    "                     )\n",
    "# Adjust the size reference to make small points more visible\n",
    "fig.update_traces(marker=dict(sizeref=1000))  # Decrease this value to make points larger\n",
    "\n",
    "fig.update_geos(fitbounds=\"locations\")\n",
    "fig.update_layout(height=1000, width=1000)\n",
    "fig.update_layout(mapbox_style=\"open-street-map\")\n",
    "fig.update_layout(margin={\"r\":50,\"t\":50,\"l\":50,\"b\":50})\n",
    "fig.update_layout(\n",
    "    coloraxis_colorbar=dict(title='asdf')\n",
    ")\n",
    "fig.update_layout(title=\"Major in Spain \")\n",
    "\n",
    "\n",
    "fig.show()"
   ]
  },
  {
   "cell_type": "code",
   "execution_count": null,
   "metadata": {},
   "outputs": [],
   "source": [
    "df[['latitude', 'longitude']].describe()"
   ]
  },
  {
   "cell_type": "code",
   "execution_count": null,
   "metadata": {},
   "outputs": [],
   "source": [
    "bins = {'lat': np.arange(df['latitude'].min(), df['latitude'].max(), 0.5), 'lon': np.arange(df['longitude'].min(), df['longitude'].max(), 0.5)}"
   ]
  },
  {
   "cell_type": "markdown",
   "metadata": {},
   "source": [
    "1. make bins of lat, long\n",
    "2. sort pueplos into the bins\n",
    "3rd -> for each pueblo: have a look at 1 lower and 1 higer (lat, long)"
   ]
  },
  {
   "cell_type": "code",
   "execution_count": null,
   "metadata": {},
   "outputs": [],
   "source": [
    "df = df.copy()\n",
    "\n",
    "df['lat_bin'] = pd.cut(df['latitude'], bins['lat'], labels=False, include_lowest=True)\n",
    "df['lon_bin'] = pd.cut(df['longitude'], bins['lon'], labels=False, include_lowest=True)\n",
    "df['lat_bin'] = df['lat_bin'].fillna(-1).astype(int)\n",
    "df['lon_bin'] = df['lon_bin'].fillna(-1).astype(int)\n",
    "df\n"
   ]
  },
  {
   "cell_type": "code",
   "execution_count": null,
   "metadata": {},
   "outputs": [],
   "source": [
    "from geopy.distance import geodesic\n",
    "lon_max = df['lon_bin'].max()\n",
    "lat_max = df['lat_bin'].max()\n",
    "\n",
    "def get_towns_in_vicinity(row: pd.Series, distance):\n",
    "    cmuns = []\n",
    "    # Properly handle edge bins and include all surrounding quadrants\n",
    "    for idx in range(max(0, row['lon_bin'] - 1), min(lon_max + 1, row['lon_bin'] + 2)):\n",
    "        for idy in range(max(0, row['lat_bin'] - 1), min(lat_max + 1, row['lat_bin'] + 2)):\n",
    "            cmuns.extend(df.loc[(df['lat_bin'] == idy) & (df['lon_bin'] == idx), 'cmun'].tolist())\n",
    "    # Get the origin coordinates\n",
    "    origin = (row['latitude'], row['longitude'])\n",
    "    # Select rows for comparison\n",
    "    new_df = df[df[\"cmun\"].isin(cmuns)].copy()\n",
    "    # Remove the current town if necessary\n",
    "    new_df = new_df[new_df['cmun'] != row['cmun']]\n",
    "    # Calculate distances\n",
    "    new_df[\"distance\"] = [geodesic(origin, (lat, lon)).kilometers for lat, lon in zip(new_df[\"latitude\"], new_df[\"longitude\"])]\n",
    "    new_df = new_df[new_df[\"distance\"] < distance]\n",
    "    return new_df['cmun'].to_list()\n"
   ]
  },
  {
   "cell_type": "code",
   "execution_count": null,
   "metadata": {},
   "outputs": [],
   "source": [
    "# Apply the function\n",
    "df['towns_in_vicinity'] = df.apply(lambda x: get_towns_in_vicinity(x, 40), axis=1)"
   ]
  },
  {
   "cell_type": "code",
   "execution_count": null,
   "metadata": {},
   "outputs": [],
   "source": [
    "df_economy = df[['n_industry', 'n_construction',\n",
    "       'n_info_communications', 'n_financial_insurance', 'n_real_estate',\n",
    "       'n_professional_technical', 'n_eduation_health_social', 'n_other']]\n",
    "\n",
    "# Define weights for each economic indicator (summing to 1)\n",
    "economy_weights = {\n",
    "    'n_industry': 0.2,\n",
    "    'n_construction': 0.15,\n",
    "    'n_info_communications': 0.1,\n",
    "    'n_financial_insurance': 0.1,\n",
    "    'n_real_estate': 0.1,\n",
    "    'n_professional_technical': 0.15,\n",
    "    'n_eduation_health_social': 0.1,\n",
    "    'n_other': 0.1\n",
    "}\n",
    "\n",
    "# Calculate a weighted economy score using the defined weights\n",
    "df[\"economy_score\"] = df_economy.multiply(pd.Series(economy_weights)).sum(axis=1)\n"
   ]
  },
  {
   "cell_type": "code",
   "execution_count": null,
   "metadata": {},
   "outputs": [],
   "source": [
    "def combine_economy_scores(row):\n",
    "    base_score = row[\"economy_score\"]\n",
    "    vicinity = row[\"towns_in_vicinity\"]\n",
    "    if vicinity:\n",
    "        neighbor_scores = df.loc[df[\"cmun\"].isin(vicinity), \"economy_score\"]\n",
    "        if not neighbor_scores.empty:\n",
    "            avg_neighbor_score = neighbor_scores.mean()\n",
    "        else:\n",
    "            avg_neighbor_score = 0\n",
    "        return (base_score + avg_neighbor_score) / 2\n",
    "    else:\n",
    "        return base_score\n",
    "\n",
    "df[\"economy_score_area\"] = df.apply(combine_economy_scores, axis=1)"
   ]
  },
  {
   "cell_type": "code",
   "execution_count": null,
   "metadata": {},
   "outputs": [],
   "source": [
    "pd.set_option('display.max_columns', None)"
   ]
  },
  {
   "cell_type": "code",
   "execution_count": null,
   "metadata": {},
   "outputs": [],
   "source": [
    "df"
   ]
  },
  {
   "cell_type": "code",
   "execution_count": null,
   "metadata": {},
   "outputs": [],
   "source": [
    "df.columns"
   ]
  },
  {
   "cell_type": "code",
   "execution_count": null,
   "metadata": {},
   "outputs": [],
   "source": [
    "sns.histplot(df.latitude)"
   ]
  },
  {
   "cell_type": "code",
   "execution_count": null,
   "metadata": {},
   "outputs": [],
   "source": [
    "sns.histplot(df.longitude)"
   ]
  },
  {
   "cell_type": "code",
   "execution_count": null,
   "metadata": {},
   "outputs": [],
   "source": [
    "df[\"towns_in_vicinity\"] = df[\"towns_in_vicinity\"].apply(\n",
    "    lambda x: \", \".join(map(str, x)) if isinstance(x, list) else x\n",
    ")"
   ]
  },
  {
   "cell_type": "code",
   "execution_count": null,
   "metadata": {},
   "outputs": [],
   "source": [
    "type(df.iloc[0]['towns_in_vicinity'])\n",
    "\n",
    "df.query(\"municipality == 'Ferreries'\")"
   ]
  },
  {
   "cell_type": "code",
   "execution_count": null,
   "metadata": {},
   "outputs": [],
   "source": [
    "df.to_csv(\"../../data/processed/2_aggregated_pueblos.csv\", index=False)"
   ]
  },
  {
   "cell_type": "code",
   "execution_count": null,
   "metadata": {},
   "outputs": [],
   "source": [
    "df.towns_in_vicinity.isnull().sum()"
   ]
  },
  {
   "cell_type": "code",
   "execution_count": null,
   "metadata": {},
   "outputs": [],
   "source": [
    "df"
   ]
  },
  {
   "cell_type": "code",
   "execution_count": null,
   "metadata": {},
   "outputs": [],
   "source": []
  }
 ],
 "metadata": {
  "kernelspec": {
   "display_name": ".venv",
   "language": "python",
   "name": "python3"
  },
  "language_info": {
   "codemirror_mode": {
    "name": "ipython",
    "version": 3
   },
   "file_extension": ".py",
   "mimetype": "text/x-python",
   "name": "python",
   "nbconvert_exporter": "python",
   "pygments_lexer": "ipython3",
   "version": "3.11.3"
  }
 },
 "nbformat": 4,
 "nbformat_minor": 2
}
