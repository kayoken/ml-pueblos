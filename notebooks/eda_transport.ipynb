{
 "cells": [
  {
   "cell_type": "code",
   "execution_count": 1,
   "metadata": {},
   "outputs": [],
   "source": [
    "import sys\n",
    "import os\n",
    "import re\n",
    "sys.path.insert(0, os.path.abspath(os.path.join(os.getcwd(), '..')))\n",
    "import pandas as pd\n",
    "import plotly.express as px\n",
    "import numpy as np\n",
    "import geopandas as gpd\n",
    "from pyproj import Transformer\n",
    "from scripts.utils import split_column_at\n",
    "from scripts.accent_cleaner import AccentCleaner\n",
    "#from deep_translator import GoogleTranslator"
   ]
  },
  {
   "cell_type": "markdown",
   "metadata": {},
   "source": [
    "### Airports"
   ]
  },
  {
   "cell_type": "code",
   "execution_count": 2,
   "metadata": {},
   "outputs": [
    {
     "data": {
      "text/html": [
       "<div>\n",
       "<style scoped>\n",
       "    .dataframe tbody tr th:only-of-type {\n",
       "        vertical-align: middle;\n",
       "    }\n",
       "\n",
       "    .dataframe tbody tr th {\n",
       "        vertical-align: top;\n",
       "    }\n",
       "\n",
       "    .dataframe thead th {\n",
       "        text-align: right;\n",
       "    }\n",
       "</style>\n",
       "<table border=\"1\" class=\"dataframe\">\n",
       "  <thead>\n",
       "    <tr style=\"text-align: right;\">\n",
       "      <th></th>\n",
       "      <th>airport_id</th>\n",
       "      <th>airport_name</th>\n",
       "      <th>latitude</th>\n",
       "      <th>longitude</th>\n",
       "    </tr>\n",
       "  </thead>\n",
       "  <tbody>\n",
       "    <tr>\n",
       "      <th>0</th>\n",
       "      <td>1</td>\n",
       "      <td>Aeropuerto de Jerez</td>\n",
       "      <td>36.743828</td>\n",
       "      <td>-6.062658</td>\n",
       "    </tr>\n",
       "    <tr>\n",
       "      <th>1</th>\n",
       "      <td>2</td>\n",
       "      <td>Aeropuerto de Vigo</td>\n",
       "      <td>42.225740</td>\n",
       "      <td>-8.630491</td>\n",
       "    </tr>\n",
       "    <tr>\n",
       "      <th>2</th>\n",
       "      <td>3</td>\n",
       "      <td>Aeropuerto de Badajoz</td>\n",
       "      <td>38.889845</td>\n",
       "      <td>-6.821121</td>\n",
       "    </tr>\n",
       "    <tr>\n",
       "      <th>3</th>\n",
       "      <td>4</td>\n",
       "      <td>Aeropuerto de Granada - Jaén F.G.L.</td>\n",
       "      <td>37.186826</td>\n",
       "      <td>-3.778613</td>\n",
       "    </tr>\n",
       "    <tr>\n",
       "      <th>4</th>\n",
       "      <td>5</td>\n",
       "      <td>Aeropuerto de Almería</td>\n",
       "      <td>36.844781</td>\n",
       "      <td>-2.371234</td>\n",
       "    </tr>\n",
       "  </tbody>\n",
       "</table>\n",
       "</div>"
      ],
      "text/plain": [
       "   airport_id                         airport_name   latitude  longitude\n",
       "0           1                  Aeropuerto de Jerez  36.743828  -6.062658\n",
       "1           2                   Aeropuerto de Vigo  42.225740  -8.630491\n",
       "2           3                Aeropuerto de Badajoz  38.889845  -6.821121\n",
       "3           4  Aeropuerto de Granada - Jaén F.G.L.  37.186826  -3.778613\n",
       "4           5                Aeropuerto de Almería  36.844781  -2.371234"
      ]
     },
     "execution_count": 2,
     "metadata": {},
     "output_type": "execute_result"
    }
   ],
   "source": [
    "# Read the GeoJSON file\n",
    "gdf = gpd.read_file('../data/raw/spanish_airports.geojson')\n",
    "# Ensure that the geometry column contains points\n",
    "# Extract latitude and longitude from the geometry column\n",
    "gdf['latitude'] = gdf.geometry.y\n",
    "gdf['longitude'] = gdf.geometry.x\n",
    "\n",
    "# Now drop the geometry column if you don't need it anymore\n",
    "df_airports = gdf.drop(columns='geometry')\n",
    "\n",
    "df_airports.rename(columns={\"Texto\": \"airport_name\", \"OBJECTID\": \"airport_id\", \"lat\": \"latitude\", \"lon\": \"longitude\"}, inplace=True)\n",
    "df_airports.head()"
   ]
  },
  {
   "cell_type": "code",
   "execution_count": 3,
   "metadata": {},
   "outputs": [
    {
     "data": {
      "application/vnd.plotly.v1+json": {
       "config": {
        "plotlyServerURL": "https://plot.ly"
       },
       "data": [
        {
         "hovertemplate": "latitude=%{lat}<br>longitude=%{lon}<extra></extra>",
         "lat": {
          "bdata": "wugIvzVfQkD6YqIJ5RxFQJJuIm/mcUNAF6h46emXQkD4YMLJIWxCQKNWE2qyeURAKtgsxOpvQ0A2LdOnd/M8QAJJB99AnzxAvGuqIF58PEApBv9L+gc8QPykHxalCzxAoz0DT13uO0B3dIBrmdA7QC2sLwv2x0VAWz9OK8HaREBEQljwi7ZFQGec79KerUVAC8ifiLimRUAbsh7kA+xCQK8g3HS/pkVAcbOfd/w+RECMfFOfjXlDQI7Nqst8EEJAfql085UkQ0AoOlU77aVEQJz3o7BaLUVArj4TPDryQUCcUl5iWHM8QFvdd8VR80RAYUa6vM4JRUAEjad+f0tFQOB7fwHUOkVABk8AunAvREAqgrxOkVZCQIkyC969o0FA+elqZqfuQ0AaimkX9OJCQOkIhxZixkNAu6nzCu9hRUCCf2A7wJJEQMmlkAiwwkRAMlrTut5yRUBhzgRWurVCQEnZTTj9zENALNFbD9i+Q0DkGp5DiHBFQGQKkJLU1URA",
          "dtype": "f8"
         },
         "legendgroup": "",
         "lon": {
          "bdata": "RqQjdSlAGMDPtq+8z0IhwFQm29LTSBvASM3rRpk6DsAUHbNqSfgCwEPaOLAGAxbANxefxnP29T9sBq8zxTUrwKu9e2vvwDHA9BsG2f5YMMDAeoKlQzYxwIFuKEZHkzDAWbEqOTHGLsA/XnRrD+MxwLFGM7JmIRjAup0Iv5xkE8AFB6FtIJUOwJGgW+lqqvy/RH3oJlFEB8B0d1ATRmMTwIIKcuVHwSDAfXfuDU2cDMBub/KdhM/9v15zV99awxXAVN3hdvMG4r/V7I28Ia4AQFl/Uhs2+QzARLddrJQ5FcCPjeJffrsrwHnEmbE2HAZAef8DNhlU1L/Vo1KeK54WwMo+fbnIiQLAMo2HQuRHDsAioR3snvwRwMidFTHBpQfAQcyI97LiEEAvelmYvSTqv1x/WBjH2gVAe6cTZc1I+r8C812UPInyP4I3H/+c1gBAOR4n/P7VIMDaPczMMJgXwLBv8MNmpAVAhx1yBtzA3r+UbDpzadkFwNYu01cw9/C/",
          "dtype": "f8"
         },
         "marker": {
          "color": "#636efa",
          "sizeref": 1000
         },
         "mode": "markers",
         "name": "",
         "showlegend": false,
         "subplot": "map",
         "type": "scattermap"
        }
       ],
       "layout": {
        "coloraxis": {
         "colorbar": {
          "title": {
           "text": "asdf"
          }
         }
        },
        "geo": {
         "fitbounds": "locations"
        },
        "height": 1000,
        "legend": {
         "tracegroupgap": 0
        },
        "map": {
         "center": {
          "lat": 38.24756209331752,
          "lon": -4.921515881956593
         },
         "domain": {
          "x": [
           0,
           1
          ],
          "y": [
           0,
           1
          ]
         },
         "zoom": 5
        },
        "mapbox": {
         "center": {
          "lat": 38.24756209331752,
          "lon": -4.921515881956593
         },
         "style": "open-street-map",
         "zoom": 5
        },
        "margin": {
         "b": 50,
         "l": 50,
         "r": 50,
         "t": 50
        },
        "template": {
         "data": {
          "bar": [
           {
            "error_x": {
             "color": "#2a3f5f"
            },
            "error_y": {
             "color": "#2a3f5f"
            },
            "marker": {
             "line": {
              "color": "#E5ECF6",
              "width": 0.5
             },
             "pattern": {
              "fillmode": "overlay",
              "size": 10,
              "solidity": 0.2
             }
            },
            "type": "bar"
           }
          ],
          "barpolar": [
           {
            "marker": {
             "line": {
              "color": "#E5ECF6",
              "width": 0.5
             },
             "pattern": {
              "fillmode": "overlay",
              "size": 10,
              "solidity": 0.2
             }
            },
            "type": "barpolar"
           }
          ],
          "carpet": [
           {
            "aaxis": {
             "endlinecolor": "#2a3f5f",
             "gridcolor": "white",
             "linecolor": "white",
             "minorgridcolor": "white",
             "startlinecolor": "#2a3f5f"
            },
            "baxis": {
             "endlinecolor": "#2a3f5f",
             "gridcolor": "white",
             "linecolor": "white",
             "minorgridcolor": "white",
             "startlinecolor": "#2a3f5f"
            },
            "type": "carpet"
           }
          ],
          "choropleth": [
           {
            "colorbar": {
             "outlinewidth": 0,
             "ticks": ""
            },
            "type": "choropleth"
           }
          ],
          "contour": [
           {
            "colorbar": {
             "outlinewidth": 0,
             "ticks": ""
            },
            "colorscale": [
             [
              0,
              "#0d0887"
             ],
             [
              0.1111111111111111,
              "#46039f"
             ],
             [
              0.2222222222222222,
              "#7201a8"
             ],
             [
              0.3333333333333333,
              "#9c179e"
             ],
             [
              0.4444444444444444,
              "#bd3786"
             ],
             [
              0.5555555555555556,
              "#d8576b"
             ],
             [
              0.6666666666666666,
              "#ed7953"
             ],
             [
              0.7777777777777778,
              "#fb9f3a"
             ],
             [
              0.8888888888888888,
              "#fdca26"
             ],
             [
              1,
              "#f0f921"
             ]
            ],
            "type": "contour"
           }
          ],
          "contourcarpet": [
           {
            "colorbar": {
             "outlinewidth": 0,
             "ticks": ""
            },
            "type": "contourcarpet"
           }
          ],
          "heatmap": [
           {
            "colorbar": {
             "outlinewidth": 0,
             "ticks": ""
            },
            "colorscale": [
             [
              0,
              "#0d0887"
             ],
             [
              0.1111111111111111,
              "#46039f"
             ],
             [
              0.2222222222222222,
              "#7201a8"
             ],
             [
              0.3333333333333333,
              "#9c179e"
             ],
             [
              0.4444444444444444,
              "#bd3786"
             ],
             [
              0.5555555555555556,
              "#d8576b"
             ],
             [
              0.6666666666666666,
              "#ed7953"
             ],
             [
              0.7777777777777778,
              "#fb9f3a"
             ],
             [
              0.8888888888888888,
              "#fdca26"
             ],
             [
              1,
              "#f0f921"
             ]
            ],
            "type": "heatmap"
           }
          ],
          "histogram": [
           {
            "marker": {
             "pattern": {
              "fillmode": "overlay",
              "size": 10,
              "solidity": 0.2
             }
            },
            "type": "histogram"
           }
          ],
          "histogram2d": [
           {
            "colorbar": {
             "outlinewidth": 0,
             "ticks": ""
            },
            "colorscale": [
             [
              0,
              "#0d0887"
             ],
             [
              0.1111111111111111,
              "#46039f"
             ],
             [
              0.2222222222222222,
              "#7201a8"
             ],
             [
              0.3333333333333333,
              "#9c179e"
             ],
             [
              0.4444444444444444,
              "#bd3786"
             ],
             [
              0.5555555555555556,
              "#d8576b"
             ],
             [
              0.6666666666666666,
              "#ed7953"
             ],
             [
              0.7777777777777778,
              "#fb9f3a"
             ],
             [
              0.8888888888888888,
              "#fdca26"
             ],
             [
              1,
              "#f0f921"
             ]
            ],
            "type": "histogram2d"
           }
          ],
          "histogram2dcontour": [
           {
            "colorbar": {
             "outlinewidth": 0,
             "ticks": ""
            },
            "colorscale": [
             [
              0,
              "#0d0887"
             ],
             [
              0.1111111111111111,
              "#46039f"
             ],
             [
              0.2222222222222222,
              "#7201a8"
             ],
             [
              0.3333333333333333,
              "#9c179e"
             ],
             [
              0.4444444444444444,
              "#bd3786"
             ],
             [
              0.5555555555555556,
              "#d8576b"
             ],
             [
              0.6666666666666666,
              "#ed7953"
             ],
             [
              0.7777777777777778,
              "#fb9f3a"
             ],
             [
              0.8888888888888888,
              "#fdca26"
             ],
             [
              1,
              "#f0f921"
             ]
            ],
            "type": "histogram2dcontour"
           }
          ],
          "mesh3d": [
           {
            "colorbar": {
             "outlinewidth": 0,
             "ticks": ""
            },
            "type": "mesh3d"
           }
          ],
          "parcoords": [
           {
            "line": {
             "colorbar": {
              "outlinewidth": 0,
              "ticks": ""
             }
            },
            "type": "parcoords"
           }
          ],
          "pie": [
           {
            "automargin": true,
            "type": "pie"
           }
          ],
          "scatter": [
           {
            "fillpattern": {
             "fillmode": "overlay",
             "size": 10,
             "solidity": 0.2
            },
            "type": "scatter"
           }
          ],
          "scatter3d": [
           {
            "line": {
             "colorbar": {
              "outlinewidth": 0,
              "ticks": ""
             }
            },
            "marker": {
             "colorbar": {
              "outlinewidth": 0,
              "ticks": ""
             }
            },
            "type": "scatter3d"
           }
          ],
          "scattercarpet": [
           {
            "marker": {
             "colorbar": {
              "outlinewidth": 0,
              "ticks": ""
             }
            },
            "type": "scattercarpet"
           }
          ],
          "scattergeo": [
           {
            "marker": {
             "colorbar": {
              "outlinewidth": 0,
              "ticks": ""
             }
            },
            "type": "scattergeo"
           }
          ],
          "scattergl": [
           {
            "marker": {
             "colorbar": {
              "outlinewidth": 0,
              "ticks": ""
             }
            },
            "type": "scattergl"
           }
          ],
          "scattermap": [
           {
            "marker": {
             "colorbar": {
              "outlinewidth": 0,
              "ticks": ""
             }
            },
            "type": "scattermap"
           }
          ],
          "scattermapbox": [
           {
            "marker": {
             "colorbar": {
              "outlinewidth": 0,
              "ticks": ""
             }
            },
            "type": "scattermapbox"
           }
          ],
          "scatterpolar": [
           {
            "marker": {
             "colorbar": {
              "outlinewidth": 0,
              "ticks": ""
             }
            },
            "type": "scatterpolar"
           }
          ],
          "scatterpolargl": [
           {
            "marker": {
             "colorbar": {
              "outlinewidth": 0,
              "ticks": ""
             }
            },
            "type": "scatterpolargl"
           }
          ],
          "scatterternary": [
           {
            "marker": {
             "colorbar": {
              "outlinewidth": 0,
              "ticks": ""
             }
            },
            "type": "scatterternary"
           }
          ],
          "surface": [
           {
            "colorbar": {
             "outlinewidth": 0,
             "ticks": ""
            },
            "colorscale": [
             [
              0,
              "#0d0887"
             ],
             [
              0.1111111111111111,
              "#46039f"
             ],
             [
              0.2222222222222222,
              "#7201a8"
             ],
             [
              0.3333333333333333,
              "#9c179e"
             ],
             [
              0.4444444444444444,
              "#bd3786"
             ],
             [
              0.5555555555555556,
              "#d8576b"
             ],
             [
              0.6666666666666666,
              "#ed7953"
             ],
             [
              0.7777777777777778,
              "#fb9f3a"
             ],
             [
              0.8888888888888888,
              "#fdca26"
             ],
             [
              1,
              "#f0f921"
             ]
            ],
            "type": "surface"
           }
          ],
          "table": [
           {
            "cells": {
             "fill": {
              "color": "#EBF0F8"
             },
             "line": {
              "color": "white"
             }
            },
            "header": {
             "fill": {
              "color": "#C8D4E3"
             },
             "line": {
              "color": "white"
             }
            },
            "type": "table"
           }
          ]
         },
         "layout": {
          "annotationdefaults": {
           "arrowcolor": "#2a3f5f",
           "arrowhead": 0,
           "arrowwidth": 1
          },
          "autotypenumbers": "strict",
          "coloraxis": {
           "colorbar": {
            "outlinewidth": 0,
            "ticks": ""
           }
          },
          "colorscale": {
           "diverging": [
            [
             0,
             "#8e0152"
            ],
            [
             0.1,
             "#c51b7d"
            ],
            [
             0.2,
             "#de77ae"
            ],
            [
             0.3,
             "#f1b6da"
            ],
            [
             0.4,
             "#fde0ef"
            ],
            [
             0.5,
             "#f7f7f7"
            ],
            [
             0.6,
             "#e6f5d0"
            ],
            [
             0.7,
             "#b8e186"
            ],
            [
             0.8,
             "#7fbc41"
            ],
            [
             0.9,
             "#4d9221"
            ],
            [
             1,
             "#276419"
            ]
           ],
           "sequential": [
            [
             0,
             "#0d0887"
            ],
            [
             0.1111111111111111,
             "#46039f"
            ],
            [
             0.2222222222222222,
             "#7201a8"
            ],
            [
             0.3333333333333333,
             "#9c179e"
            ],
            [
             0.4444444444444444,
             "#bd3786"
            ],
            [
             0.5555555555555556,
             "#d8576b"
            ],
            [
             0.6666666666666666,
             "#ed7953"
            ],
            [
             0.7777777777777778,
             "#fb9f3a"
            ],
            [
             0.8888888888888888,
             "#fdca26"
            ],
            [
             1,
             "#f0f921"
            ]
           ],
           "sequentialminus": [
            [
             0,
             "#0d0887"
            ],
            [
             0.1111111111111111,
             "#46039f"
            ],
            [
             0.2222222222222222,
             "#7201a8"
            ],
            [
             0.3333333333333333,
             "#9c179e"
            ],
            [
             0.4444444444444444,
             "#bd3786"
            ],
            [
             0.5555555555555556,
             "#d8576b"
            ],
            [
             0.6666666666666666,
             "#ed7953"
            ],
            [
             0.7777777777777778,
             "#fb9f3a"
            ],
            [
             0.8888888888888888,
             "#fdca26"
            ],
            [
             1,
             "#f0f921"
            ]
           ]
          },
          "colorway": [
           "#636efa",
           "#EF553B",
           "#00cc96",
           "#ab63fa",
           "#FFA15A",
           "#19d3f3",
           "#FF6692",
           "#B6E880",
           "#FF97FF",
           "#FECB52"
          ],
          "font": {
           "color": "#2a3f5f"
          },
          "geo": {
           "bgcolor": "white",
           "lakecolor": "white",
           "landcolor": "#E5ECF6",
           "showlakes": true,
           "showland": true,
           "subunitcolor": "white"
          },
          "hoverlabel": {
           "align": "left"
          },
          "hovermode": "closest",
          "mapbox": {
           "style": "light"
          },
          "paper_bgcolor": "white",
          "plot_bgcolor": "#E5ECF6",
          "polar": {
           "angularaxis": {
            "gridcolor": "white",
            "linecolor": "white",
            "ticks": ""
           },
           "bgcolor": "#E5ECF6",
           "radialaxis": {
            "gridcolor": "white",
            "linecolor": "white",
            "ticks": ""
           }
          },
          "scene": {
           "xaxis": {
            "backgroundcolor": "#E5ECF6",
            "gridcolor": "white",
            "gridwidth": 2,
            "linecolor": "white",
            "showbackground": true,
            "ticks": "",
            "zerolinecolor": "white"
           },
           "yaxis": {
            "backgroundcolor": "#E5ECF6",
            "gridcolor": "white",
            "gridwidth": 2,
            "linecolor": "white",
            "showbackground": true,
            "ticks": "",
            "zerolinecolor": "white"
           },
           "zaxis": {
            "backgroundcolor": "#E5ECF6",
            "gridcolor": "white",
            "gridwidth": 2,
            "linecolor": "white",
            "showbackground": true,
            "ticks": "",
            "zerolinecolor": "white"
           }
          },
          "shapedefaults": {
           "line": {
            "color": "#2a3f5f"
           }
          },
          "ternary": {
           "aaxis": {
            "gridcolor": "white",
            "linecolor": "white",
            "ticks": ""
           },
           "baxis": {
            "gridcolor": "white",
            "linecolor": "white",
            "ticks": ""
           },
           "bgcolor": "#E5ECF6",
           "caxis": {
            "gridcolor": "white",
            "linecolor": "white",
            "ticks": ""
           }
          },
          "title": {
           "x": 0.05
          },
          "xaxis": {
           "automargin": true,
           "gridcolor": "white",
           "linecolor": "white",
           "ticks": "",
           "title": {
            "standoff": 15
           },
           "zerolinecolor": "white",
           "zerolinewidth": 2
          },
          "yaxis": {
           "automargin": true,
           "gridcolor": "white",
           "linecolor": "white",
           "ticks": "",
           "title": {
            "standoff": 15
           },
           "zerolinecolor": "white",
           "zerolinewidth": 2
          }
         }
        },
        "title": {
         "text": "Airports in Spain "
        },
        "width": 1000
       }
      }
     },
     "metadata": {},
     "output_type": "display_data"
    }
   ],
   "source": [
    "title = \"Airports in Spain\"\n",
    "\n",
    "lats = df_airports.latitude\n",
    "lons = df_airports.longitude\n",
    "\n",
    "fig = px.scatter_map(df_airports, \n",
    "                     lat=lats, \n",
    "                     lon=lons,\n",
    "                     color_continuous_scale=px.colors.carto.Aggrnyl,\n",
    "                     zoom=5,\n",
    "                     size_max=50  # Increase max size of markers\n",
    "                     )\n",
    "\n",
    "# Adjust the size reference to make small points more visible\n",
    "fig.update_traces(marker=dict(sizeref=1000))  # Decrease this value to make points larger\n",
    "\n",
    "fig.update_geos(fitbounds=\"locations\")\n",
    "fig.update_layout(height=1000, width=1000)\n",
    "fig.update_layout(mapbox_style=\"open-street-map\")\n",
    "fig.update_layout(margin={\"r\":50,\"t\":50,\"l\":50,\"b\":50})\n",
    "fig.update_layout(\n",
    "    coloraxis_colorbar=dict(title='asdf')\n",
    ")\n",
    "fig.update_layout(title=\"Airports in Spain \")\n",
    "\n",
    "fig.show()"
   ]
  },
  {
   "cell_type": "code",
   "execution_count": 4,
   "metadata": {},
   "outputs": [],
   "source": [
    "df_airports.to_csv(\"../data/processed/filtered_airports.csv\", index=False)"
   ]
  },
  {
   "cell_type": "markdown",
   "metadata": {},
   "source": [
    "### Trains"
   ]
  },
  {
   "cell_type": "code",
   "execution_count": 5,
   "metadata": {},
   "outputs": [],
   "source": [
    "df_trains = pd.read_csv(\"../data/raw/listado_completo_av_ld_md.csv\", sep=\";\", decimal=\",\")\n",
    "df_trains = df_trains.drop([\"PAIS\", \"C.P.\", \"DIRECCIÓN\"], axis = 1)\n",
    "df_trains.rename(columns={\" CÓDIGO\": \"station_code\",\n",
    "                          \"DESCRIPCION\": \"station_name\",\n",
    "                          \"LATITUD\": \"latitude\",\n",
    "                          \"POBLACION\": \"municipality\",\n",
    "                          \"PROVINCIA\": \"province\",\n",
    "                          \"LONGITUD\": \"longitude\"}, inplace=True)"
   ]
  },
  {
   "cell_type": "code",
   "execution_count": 6,
   "metadata": {},
   "outputs": [
    {
     "data": {
      "text/plain": [
       "station_code     0\n",
       "station_name     0\n",
       "latitude         0\n",
       "longitude        0\n",
       "municipality     0\n",
       "province        43\n",
       "dtype: int64"
      ]
     },
     "execution_count": 6,
     "metadata": {},
     "output_type": "execute_result"
    }
   ],
   "source": [
    "df_trains.isnull().sum()"
   ]
  },
  {
   "cell_type": "code",
   "execution_count": 7,
   "metadata": {},
   "outputs": [
    {
     "data": {
      "text/html": [
       "<div>\n",
       "<style scoped>\n",
       "    .dataframe tbody tr th:only-of-type {\n",
       "        vertical-align: middle;\n",
       "    }\n",
       "\n",
       "    .dataframe tbody tr th {\n",
       "        vertical-align: top;\n",
       "    }\n",
       "\n",
       "    .dataframe thead th {\n",
       "        text-align: right;\n",
       "    }\n",
       "</style>\n",
       "<table border=\"1\" class=\"dataframe\">\n",
       "  <thead>\n",
       "    <tr style=\"text-align: right;\">\n",
       "      <th></th>\n",
       "      <th>station_code</th>\n",
       "      <th>station_name</th>\n",
       "      <th>latitude</th>\n",
       "      <th>longitude</th>\n",
       "      <th>municipality</th>\n",
       "      <th>province</th>\n",
       "      <th>province_clean</th>\n",
       "      <th>municipality_clean</th>\n",
       "    </tr>\n",
       "  </thead>\n",
       "  <tbody>\n",
       "    <tr>\n",
       "      <th>0</th>\n",
       "      <td>11208</td>\n",
       "      <td>VITORIA/GASTEIZ</td>\n",
       "      <td>42.841528</td>\n",
       "      <td>-2.672665</td>\n",
       "      <td>Vitoria-Gasteiz</td>\n",
       "      <td>Araba/Álava</td>\n",
       "      <td>araba/alava</td>\n",
       "      <td>vitoria-gasteiz</td>\n",
       "    </tr>\n",
       "    <tr>\n",
       "      <th>1</th>\n",
       "      <td>11212</td>\n",
       "      <td>AGURAIN/SALVATIERRA DE ALAVA</td>\n",
       "      <td>42.846437</td>\n",
       "      <td>-2.389227</td>\n",
       "      <td>Salvatierra/Agurain</td>\n",
       "      <td>Araba/Álava</td>\n",
       "      <td>araba/alava</td>\n",
       "      <td>salvatierra/agurain</td>\n",
       "    </tr>\n",
       "    <tr>\n",
       "      <th>2</th>\n",
       "      <td>11213</td>\n",
       "      <td>ARAIA</td>\n",
       "      <td>42.869471</td>\n",
       "      <td>-2.306802</td>\n",
       "      <td>Arraia-Maeztu</td>\n",
       "      <td>Araba/Álava</td>\n",
       "      <td>araba/alava</td>\n",
       "      <td>arraia-maeztu</td>\n",
       "    </tr>\n",
       "    <tr>\n",
       "      <th>3</th>\n",
       "      <td>11203</td>\n",
       "      <td>MANZANOS</td>\n",
       "      <td>42.742875</td>\n",
       "      <td>-2.867530</td>\n",
       "      <td>Ribera Baja/Erribera Beitia</td>\n",
       "      <td>Araba/Álava</td>\n",
       "      <td>araba/alava</td>\n",
       "      <td>ribera baja/erribera beitia</td>\n",
       "    </tr>\n",
       "    <tr>\n",
       "      <th>4</th>\n",
       "      <td>11205</td>\n",
       "      <td>NANCLARES-LANGRAIZ</td>\n",
       "      <td>42.816234</td>\n",
       "      <td>-2.804934</td>\n",
       "      <td>Iruña Oka/Iruña de Oca</td>\n",
       "      <td>Araba/Álava</td>\n",
       "      <td>araba/alava</td>\n",
       "      <td>iruna oka/iruna de oca</td>\n",
       "    </tr>\n",
       "    <tr>\n",
       "      <th>...</th>\n",
       "      <td>...</td>\n",
       "      <td>...</td>\n",
       "      <td>...</td>\n",
       "      <td>...</td>\n",
       "      <td>...</td>\n",
       "      <td>...</td>\n",
       "      <td>...</td>\n",
       "      <td>...</td>\n",
       "    </tr>\n",
       "    <tr>\n",
       "      <th>641</th>\n",
       "      <td>94536</td>\n",
       "      <td>MANGUALDE</td>\n",
       "      <td>40.586500</td>\n",
       "      <td>-7.760260</td>\n",
       "      <td>MANGUALDE</td>\n",
       "      <td>NaN</td>\n",
       "      <td>nan</td>\n",
       "      <td>mangualde</td>\n",
       "    </tr>\n",
       "    <tr>\n",
       "      <th>642</th>\n",
       "      <td>94543</td>\n",
       "      <td>CELORICO-BEIRA</td>\n",
       "      <td>40.665200</td>\n",
       "      <td>-7.382460</td>\n",
       "      <td>CELORICO DA BEIRA</td>\n",
       "      <td>NaN</td>\n",
       "      <td>nan</td>\n",
       "      <td>celorico da beira</td>\n",
       "    </tr>\n",
       "    <tr>\n",
       "      <th>643</th>\n",
       "      <td>94551</td>\n",
       "      <td>GUARDA</td>\n",
       "      <td>40.552710</td>\n",
       "      <td>-7.239840</td>\n",
       "      <td>GUARDA</td>\n",
       "      <td>NaN</td>\n",
       "      <td>nan</td>\n",
       "      <td>guarda</td>\n",
       "    </tr>\n",
       "    <tr>\n",
       "      <th>644</th>\n",
       "      <td>94563</td>\n",
       "      <td>VILAR FORMOSO</td>\n",
       "      <td>40.606450</td>\n",
       "      <td>-6.829100</td>\n",
       "      <td>VILAR FORMOSO</td>\n",
       "      <td>NaN</td>\n",
       "      <td>nan</td>\n",
       "      <td>vilar formoso</td>\n",
       "    </tr>\n",
       "    <tr>\n",
       "      <th>645</th>\n",
       "      <td>95100</td>\n",
       "      <td>DELICIAS-EMPALME</td>\n",
       "      <td>40.400270</td>\n",
       "      <td>-3.692470</td>\n",
       "      <td>Madrid</td>\n",
       "      <td>NaN</td>\n",
       "      <td>nan</td>\n",
       "      <td>madrid</td>\n",
       "    </tr>\n",
       "  </tbody>\n",
       "</table>\n",
       "<p>646 rows × 8 columns</p>\n",
       "</div>"
      ],
      "text/plain": [
       "     station_code                  station_name   latitude  longitude   \n",
       "0           11208               VITORIA/GASTEIZ  42.841528  -2.672665  \\\n",
       "1           11212  AGURAIN/SALVATIERRA DE ALAVA  42.846437  -2.389227   \n",
       "2           11213                         ARAIA  42.869471  -2.306802   \n",
       "3           11203                      MANZANOS  42.742875  -2.867530   \n",
       "4           11205            NANCLARES-LANGRAIZ  42.816234  -2.804934   \n",
       "..            ...                           ...        ...        ...   \n",
       "641         94536                     MANGUALDE  40.586500  -7.760260   \n",
       "642         94543                CELORICO-BEIRA  40.665200  -7.382460   \n",
       "643         94551                        GUARDA  40.552710  -7.239840   \n",
       "644         94563                 VILAR FORMOSO  40.606450  -6.829100   \n",
       "645         95100              DELICIAS-EMPALME  40.400270  -3.692470   \n",
       "\n",
       "                    municipality     province province_clean   \n",
       "0                Vitoria-Gasteiz  Araba/Álava    araba/alava  \\\n",
       "1            Salvatierra/Agurain  Araba/Álava    araba/alava   \n",
       "2                  Arraia-Maeztu  Araba/Álava    araba/alava   \n",
       "3    Ribera Baja/Erribera Beitia  Araba/Álava    araba/alava   \n",
       "4         Iruña Oka/Iruña de Oca  Araba/Álava    araba/alava   \n",
       "..                           ...          ...            ...   \n",
       "641                    MANGUALDE          NaN            nan   \n",
       "642            CELORICO DA BEIRA          NaN            nan   \n",
       "643                       GUARDA          NaN            nan   \n",
       "644                VILAR FORMOSO          NaN            nan   \n",
       "645                       Madrid          NaN            nan   \n",
       "\n",
       "              municipality_clean  \n",
       "0                vitoria-gasteiz  \n",
       "1            salvatierra/agurain  \n",
       "2                  arraia-maeztu  \n",
       "3    ribera baja/erribera beitia  \n",
       "4         iruna oka/iruna de oca  \n",
       "..                           ...  \n",
       "641                    mangualde  \n",
       "642            celorico da beira  \n",
       "643                       guarda  \n",
       "644                vilar formoso  \n",
       "645                       madrid  \n",
       "\n",
       "[646 rows x 8 columns]"
      ]
     },
     "execution_count": 7,
     "metadata": {},
     "output_type": "execute_result"
    }
   ],
   "source": [
    "cleaner = AccentCleaner([df_trains], columns=[\"province\", \"municipality\"])\n",
    "cleaner.cleanAccents()\n",
    "df_trains"
   ]
  },
  {
   "cell_type": "code",
   "execution_count": 8,
   "metadata": {},
   "outputs": [],
   "source": [
    "df_trains[\"municipality_clean\"] = df_trains[\"municipality_clean\"].str.split(\"/\", expand=False)\n",
    "df_trains[\"province_clean\"] = df_trains[\"province_clean\"].str.split(\"/\", expand=False)\n",
    "\n",
    "df_trains[\"municipality_clean\"] = df_trains[\"municipality_clean\"].apply(\n",
    "    lambda x: x[0] if len(x) == 1 else x[1]\n",
    ")\n",
    "df_trains[\"province_clean\"] = df_trains[\"province_clean\"].apply(\n",
    "    lambda x: x[0] if len(x) == 1 else x[1]\n",
    ")\n",
    "\n",
    "\n"
   ]
  },
  {
   "cell_type": "code",
   "execution_count": 9,
   "metadata": {},
   "outputs": [
    {
     "data": {
      "text/html": [
       "<div>\n",
       "<style scoped>\n",
       "    .dataframe tbody tr th:only-of-type {\n",
       "        vertical-align: middle;\n",
       "    }\n",
       "\n",
       "    .dataframe tbody tr th {\n",
       "        vertical-align: top;\n",
       "    }\n",
       "\n",
       "    .dataframe thead th {\n",
       "        text-align: right;\n",
       "    }\n",
       "</style>\n",
       "<table border=\"1\" class=\"dataframe\">\n",
       "  <thead>\n",
       "    <tr style=\"text-align: right;\">\n",
       "      <th></th>\n",
       "      <th>station_code</th>\n",
       "      <th>station_name</th>\n",
       "      <th>latitude</th>\n",
       "      <th>longitude</th>\n",
       "      <th>municipality</th>\n",
       "      <th>province</th>\n",
       "      <th>province_clean</th>\n",
       "      <th>municipality_clean</th>\n",
       "    </tr>\n",
       "  </thead>\n",
       "  <tbody>\n",
       "    <tr>\n",
       "      <th>103</th>\n",
       "      <td>37305</td>\n",
       "      <td>ALMADENEJOS-ALMADEN</td>\n",
       "      <td>38.740577</td>\n",
       "      <td>-4.730331</td>\n",
       "      <td>Almadén</td>\n",
       "      <td>Ciudad Real</td>\n",
       "      <td>ciudad real</td>\n",
       "      <td>almaden</td>\n",
       "    </tr>\n",
       "    <tr>\n",
       "      <th>636</th>\n",
       "      <td>94428</td>\n",
       "      <td>ENTRONCAMENTO</td>\n",
       "      <td>39.461440</td>\n",
       "      <td>-8.473070</td>\n",
       "      <td>ENTRONCAMENTO</td>\n",
       "      <td>NaN</td>\n",
       "      <td>nan</td>\n",
       "      <td>entroncamento</td>\n",
       "    </tr>\n",
       "    <tr>\n",
       "      <th>359</th>\n",
       "      <td>11006</td>\n",
       "      <td>QUINTANA DEL PUENTE</td>\n",
       "      <td>42.080031</td>\n",
       "      <td>-4.198594</td>\n",
       "      <td>Quintana del Puente</td>\n",
       "      <td>Palencia</td>\n",
       "      <td>palencia</td>\n",
       "      <td>quintana del puente</td>\n",
       "    </tr>\n",
       "    <tr>\n",
       "      <th>395</th>\n",
       "      <td>22401</td>\n",
       "      <td>TUI</td>\n",
       "      <td>42.056554</td>\n",
       "      <td>-8.643011</td>\n",
       "      <td>Tui</td>\n",
       "      <td>Pontevedra</td>\n",
       "      <td>pontevedra</td>\n",
       "      <td>tui</td>\n",
       "    </tr>\n",
       "    <tr>\n",
       "      <th>235</th>\n",
       "      <td>20111</td>\n",
       "      <td>BEMBIBRE</td>\n",
       "      <td>42.609579</td>\n",
       "      <td>-6.422201</td>\n",
       "      <td>Bembibre</td>\n",
       "      <td>León</td>\n",
       "      <td>leon</td>\n",
       "      <td>bembibre</td>\n",
       "    </tr>\n",
       "    <tr>\n",
       "      <th>57</th>\n",
       "      <td>37600</td>\n",
       "      <td>ALJUCEN</td>\n",
       "      <td>38.936409</td>\n",
       "      <td>-6.407883</td>\n",
       "      <td>Aljucén</td>\n",
       "      <td>Badajoz</td>\n",
       "      <td>badajoz</td>\n",
       "      <td>aljucen</td>\n",
       "    </tr>\n",
       "    <tr>\n",
       "      <th>143</th>\n",
       "      <td>23013</td>\n",
       "      <td>OSEBE</td>\n",
       "      <td>42.825301</td>\n",
       "      <td>-8.615838</td>\n",
       "      <td>Teo</td>\n",
       "      <td>Coruña, A</td>\n",
       "      <td>coruna, a</td>\n",
       "      <td>teo</td>\n",
       "    </tr>\n",
       "    <tr>\n",
       "      <th>266</th>\n",
       "      <td>78406</td>\n",
       "      <td>BELLPUIG</td>\n",
       "      <td>41.632559</td>\n",
       "      <td>1.012974</td>\n",
       "      <td>Bellpuig</td>\n",
       "      <td>Lleida</td>\n",
       "      <td>lleida</td>\n",
       "      <td>bellpuig</td>\n",
       "    </tr>\n",
       "    <tr>\n",
       "      <th>227</th>\n",
       "      <td>56004</td>\n",
       "      <td>JODAR-UBEDA</td>\n",
       "      <td>37.913342</td>\n",
       "      <td>-3.350202</td>\n",
       "      <td>Jódar</td>\n",
       "      <td>Jaén</td>\n",
       "      <td>jaen</td>\n",
       "      <td>jodar</td>\n",
       "    </tr>\n",
       "    <tr>\n",
       "      <th>556</th>\n",
       "      <td>70500</td>\n",
       "      <td>ARIZA</td>\n",
       "      <td>41.309662</td>\n",
       "      <td>-2.059545</td>\n",
       "      <td>Ariza</td>\n",
       "      <td>Zaragoza</td>\n",
       "      <td>zaragoza</td>\n",
       "      <td>ariza</td>\n",
       "    </tr>\n",
       "    <tr>\n",
       "      <th>535</th>\n",
       "      <td>10502</td>\n",
       "      <td>MATAPOZUELOS</td>\n",
       "      <td>41.421913</td>\n",
       "      <td>-4.801383</td>\n",
       "      <td>Matapozuelos</td>\n",
       "      <td>Valladolid</td>\n",
       "      <td>valladolid</td>\n",
       "      <td>matapozuelos</td>\n",
       "    </tr>\n",
       "    <tr>\n",
       "      <th>336</th>\n",
       "      <td>80005</td>\n",
       "      <td>UHARTE-ARAKIL</td>\n",
       "      <td>42.920515</td>\n",
       "      <td>-1.974767</td>\n",
       "      <td>Uharte Arakil</td>\n",
       "      <td>Navarra</td>\n",
       "      <td>navarra</td>\n",
       "      <td>uharte arakil</td>\n",
       "    </tr>\n",
       "    <tr>\n",
       "      <th>610</th>\n",
       "      <td>87079</td>\n",
       "      <td>TOULOUSE MATABIAU</td>\n",
       "      <td>43.611439</td>\n",
       "      <td>1.454144</td>\n",
       "      <td>TOULOUSE</td>\n",
       "      <td>NaN</td>\n",
       "      <td>nan</td>\n",
       "      <td>toulouse</td>\n",
       "    </tr>\n",
       "    <tr>\n",
       "      <th>462</th>\n",
       "      <td>71208</td>\n",
       "      <td>FAIO-LA POBLA DE MASSALUCA</td>\n",
       "      <td>41.225015</td>\n",
       "      <td>0.351073</td>\n",
       "      <td>Pobla de Massaluca, La</td>\n",
       "      <td>Tarragona</td>\n",
       "      <td>tarragona</td>\n",
       "      <td>pobla de massaluca, la</td>\n",
       "    </tr>\n",
       "    <tr>\n",
       "      <th>458</th>\n",
       "      <td>71304</td>\n",
       "      <td>PRADELL</td>\n",
       "      <td>41.133329</td>\n",
       "      <td>0.858616</td>\n",
       "      <td>Pradell de la Teixeta</td>\n",
       "      <td>Tarragona</td>\n",
       "      <td>tarragona</td>\n",
       "      <td>pradell de la teixeta</td>\n",
       "    </tr>\n",
       "    <tr>\n",
       "      <th>167</th>\n",
       "      <td>79305</td>\n",
       "      <td>CAMALLERA</td>\n",
       "      <td>42.122320</td>\n",
       "      <td>2.965381</td>\n",
       "      <td>Saus, Camallera i Llampaies</td>\n",
       "      <td>Girona</td>\n",
       "      <td>girona</td>\n",
       "      <td>saus, camallera i llampaies</td>\n",
       "    </tr>\n",
       "    <tr>\n",
       "      <th>204</th>\n",
       "      <td>43015</td>\n",
       "      <td>NIEBLA-PUERTA DEL BUEY</td>\n",
       "      <td>37.358497</td>\n",
       "      <td>-6.681256</td>\n",
       "      <td>Niebla</td>\n",
       "      <td>Huelva</td>\n",
       "      <td>huelva</td>\n",
       "      <td>niebla</td>\n",
       "    </tr>\n",
       "    <tr>\n",
       "      <th>96</th>\n",
       "      <td>65306</td>\n",
       "      <td>TORREBLANCA</td>\n",
       "      <td>40.212217</td>\n",
       "      <td>0.198985</td>\n",
       "      <td>Torreblanca</td>\n",
       "      <td>Castellón/Castelló</td>\n",
       "      <td>castello</td>\n",
       "      <td>torreblanca</td>\n",
       "    </tr>\n",
       "    <tr>\n",
       "      <th>101</th>\n",
       "      <td>50102</td>\n",
       "      <td>VALDEPEÑAS</td>\n",
       "      <td>38.763297</td>\n",
       "      <td>-3.395942</td>\n",
       "      <td>Valdepeñas</td>\n",
       "      <td>Ciudad Real</td>\n",
       "      <td>ciudad real</td>\n",
       "      <td>valdepenas</td>\n",
       "    </tr>\n",
       "    <tr>\n",
       "      <th>460</th>\n",
       "      <td>71302</td>\n",
       "      <td>CAPÇANES</td>\n",
       "      <td>41.102078</td>\n",
       "      <td>0.780339</td>\n",
       "      <td>Capçanes</td>\n",
       "      <td>Tarragona</td>\n",
       "      <td>tarragona</td>\n",
       "      <td>capçanes</td>\n",
       "    </tr>\n",
       "  </tbody>\n",
       "</table>\n",
       "</div>"
      ],
      "text/plain": [
       "     station_code                station_name   latitude  longitude   \n",
       "103         37305         ALMADENEJOS-ALMADEN  38.740577  -4.730331  \\\n",
       "636         94428               ENTRONCAMENTO  39.461440  -8.473070   \n",
       "359         11006         QUINTANA DEL PUENTE  42.080031  -4.198594   \n",
       "395         22401                         TUI  42.056554  -8.643011   \n",
       "235         20111                    BEMBIBRE  42.609579  -6.422201   \n",
       "57          37600                     ALJUCEN  38.936409  -6.407883   \n",
       "143         23013                       OSEBE  42.825301  -8.615838   \n",
       "266         78406                    BELLPUIG  41.632559   1.012974   \n",
       "227         56004                 JODAR-UBEDA  37.913342  -3.350202   \n",
       "556         70500                       ARIZA  41.309662  -2.059545   \n",
       "535         10502                MATAPOZUELOS  41.421913  -4.801383   \n",
       "336         80005               UHARTE-ARAKIL  42.920515  -1.974767   \n",
       "610         87079           TOULOUSE MATABIAU  43.611439   1.454144   \n",
       "462         71208  FAIO-LA POBLA DE MASSALUCA  41.225015   0.351073   \n",
       "458         71304                     PRADELL  41.133329   0.858616   \n",
       "167         79305                   CAMALLERA  42.122320   2.965381   \n",
       "204         43015      NIEBLA-PUERTA DEL BUEY  37.358497  -6.681256   \n",
       "96          65306                 TORREBLANCA  40.212217   0.198985   \n",
       "101         50102                  VALDEPEÑAS  38.763297  -3.395942   \n",
       "460         71302                    CAPÇANES  41.102078   0.780339   \n",
       "\n",
       "                    municipality            province province_clean   \n",
       "103                      Almadén         Ciudad Real    ciudad real  \\\n",
       "636                ENTRONCAMENTO                 NaN            nan   \n",
       "359          Quintana del Puente            Palencia       palencia   \n",
       "395                          Tui          Pontevedra     pontevedra   \n",
       "235                     Bembibre                León           leon   \n",
       "57                       Aljucén             Badajoz        badajoz   \n",
       "143                          Teo           Coruña, A      coruna, a   \n",
       "266                     Bellpuig              Lleida         lleida   \n",
       "227                        Jódar                Jaén           jaen   \n",
       "556                        Ariza            Zaragoza       zaragoza   \n",
       "535                 Matapozuelos          Valladolid     valladolid   \n",
       "336                Uharte Arakil             Navarra        navarra   \n",
       "610                     TOULOUSE                 NaN            nan   \n",
       "462       Pobla de Massaluca, La           Tarragona      tarragona   \n",
       "458        Pradell de la Teixeta           Tarragona      tarragona   \n",
       "167  Saus, Camallera i Llampaies              Girona         girona   \n",
       "204                       Niebla              Huelva         huelva   \n",
       "96                   Torreblanca  Castellón/Castelló       castello   \n",
       "101                   Valdepeñas         Ciudad Real    ciudad real   \n",
       "460                     Capçanes           Tarragona      tarragona   \n",
       "\n",
       "              municipality_clean  \n",
       "103                      almaden  \n",
       "636                entroncamento  \n",
       "359          quintana del puente  \n",
       "395                          tui  \n",
       "235                     bembibre  \n",
       "57                       aljucen  \n",
       "143                          teo  \n",
       "266                     bellpuig  \n",
       "227                        jodar  \n",
       "556                        ariza  \n",
       "535                 matapozuelos  \n",
       "336                uharte arakil  \n",
       "610                     toulouse  \n",
       "462       pobla de massaluca, la  \n",
       "458        pradell de la teixeta  \n",
       "167  saus, camallera i llampaies  \n",
       "204                       niebla  \n",
       "96                   torreblanca  \n",
       "101                   valdepenas  \n",
       "460                     capçanes  "
      ]
     },
     "execution_count": 9,
     "metadata": {},
     "output_type": "execute_result"
    }
   ],
   "source": [
    "df_trains.sample(20)"
   ]
  },
  {
   "cell_type": "code",
   "execution_count": 10,
   "metadata": {},
   "outputs": [],
   "source": [
    "df_trains['station_name'] = df_trains['station_name'].str.title()\n",
    "df_trains['municipality'] = df_trains['municipality'].str.lower()\n",
    "df_trains['province'] = df_trains['province'].str.lower()"
   ]
  },
  {
   "cell_type": "code",
   "execution_count": 11,
   "metadata": {},
   "outputs": [
    {
     "data": {
      "text/html": [
       "<div>\n",
       "<style scoped>\n",
       "    .dataframe tbody tr th:only-of-type {\n",
       "        vertical-align: middle;\n",
       "    }\n",
       "\n",
       "    .dataframe tbody tr th {\n",
       "        vertical-align: top;\n",
       "    }\n",
       "\n",
       "    .dataframe thead th {\n",
       "        text-align: right;\n",
       "    }\n",
       "</style>\n",
       "<table border=\"1\" class=\"dataframe\">\n",
       "  <thead>\n",
       "    <tr style=\"text-align: right;\">\n",
       "      <th></th>\n",
       "      <th>station_code</th>\n",
       "      <th>station_name</th>\n",
       "      <th>latitude</th>\n",
       "      <th>longitude</th>\n",
       "      <th>province_clean</th>\n",
       "      <th>municipality_clean</th>\n",
       "    </tr>\n",
       "  </thead>\n",
       "  <tbody>\n",
       "    <tr>\n",
       "      <th>0</th>\n",
       "      <td>11208</td>\n",
       "      <td>Vitoria/Gasteiz</td>\n",
       "      <td>42.841528</td>\n",
       "      <td>-2.672665</td>\n",
       "      <td>alava</td>\n",
       "      <td>vitoria-gasteiz</td>\n",
       "    </tr>\n",
       "    <tr>\n",
       "      <th>1</th>\n",
       "      <td>11212</td>\n",
       "      <td>Agurain/Salvatierra De Alava</td>\n",
       "      <td>42.846437</td>\n",
       "      <td>-2.389227</td>\n",
       "      <td>alava</td>\n",
       "      <td>agurain</td>\n",
       "    </tr>\n",
       "    <tr>\n",
       "      <th>2</th>\n",
       "      <td>11213</td>\n",
       "      <td>Araia</td>\n",
       "      <td>42.869471</td>\n",
       "      <td>-2.306802</td>\n",
       "      <td>alava</td>\n",
       "      <td>arraia-maeztu</td>\n",
       "    </tr>\n",
       "    <tr>\n",
       "      <th>3</th>\n",
       "      <td>11203</td>\n",
       "      <td>Manzanos</td>\n",
       "      <td>42.742875</td>\n",
       "      <td>-2.867530</td>\n",
       "      <td>alava</td>\n",
       "      <td>erribera beitia</td>\n",
       "    </tr>\n",
       "    <tr>\n",
       "      <th>4</th>\n",
       "      <td>11205</td>\n",
       "      <td>Nanclares-Langraiz</td>\n",
       "      <td>42.816234</td>\n",
       "      <td>-2.804934</td>\n",
       "      <td>alava</td>\n",
       "      <td>iruna de oca</td>\n",
       "    </tr>\n",
       "    <tr>\n",
       "      <th>...</th>\n",
       "      <td>...</td>\n",
       "      <td>...</td>\n",
       "      <td>...</td>\n",
       "      <td>...</td>\n",
       "      <td>...</td>\n",
       "      <td>...</td>\n",
       "    </tr>\n",
       "    <tr>\n",
       "      <th>641</th>\n",
       "      <td>94536</td>\n",
       "      <td>Mangualde</td>\n",
       "      <td>40.586500</td>\n",
       "      <td>-7.760260</td>\n",
       "      <td>nan</td>\n",
       "      <td>mangualde</td>\n",
       "    </tr>\n",
       "    <tr>\n",
       "      <th>642</th>\n",
       "      <td>94543</td>\n",
       "      <td>Celorico-Beira</td>\n",
       "      <td>40.665200</td>\n",
       "      <td>-7.382460</td>\n",
       "      <td>nan</td>\n",
       "      <td>celorico da beira</td>\n",
       "    </tr>\n",
       "    <tr>\n",
       "      <th>643</th>\n",
       "      <td>94551</td>\n",
       "      <td>Guarda</td>\n",
       "      <td>40.552710</td>\n",
       "      <td>-7.239840</td>\n",
       "      <td>nan</td>\n",
       "      <td>guarda</td>\n",
       "    </tr>\n",
       "    <tr>\n",
       "      <th>644</th>\n",
       "      <td>94563</td>\n",
       "      <td>Vilar Formoso</td>\n",
       "      <td>40.606450</td>\n",
       "      <td>-6.829100</td>\n",
       "      <td>nan</td>\n",
       "      <td>vilar formoso</td>\n",
       "    </tr>\n",
       "    <tr>\n",
       "      <th>645</th>\n",
       "      <td>95100</td>\n",
       "      <td>Delicias-Empalme</td>\n",
       "      <td>40.400270</td>\n",
       "      <td>-3.692470</td>\n",
       "      <td>nan</td>\n",
       "      <td>madrid</td>\n",
       "    </tr>\n",
       "  </tbody>\n",
       "</table>\n",
       "<p>646 rows × 6 columns</p>\n",
       "</div>"
      ],
      "text/plain": [
       "     station_code                  station_name   latitude  longitude   \n",
       "0           11208               Vitoria/Gasteiz  42.841528  -2.672665  \\\n",
       "1           11212  Agurain/Salvatierra De Alava  42.846437  -2.389227   \n",
       "2           11213                         Araia  42.869471  -2.306802   \n",
       "3           11203                      Manzanos  42.742875  -2.867530   \n",
       "4           11205            Nanclares-Langraiz  42.816234  -2.804934   \n",
       "..            ...                           ...        ...        ...   \n",
       "641         94536                     Mangualde  40.586500  -7.760260   \n",
       "642         94543                Celorico-Beira  40.665200  -7.382460   \n",
       "643         94551                        Guarda  40.552710  -7.239840   \n",
       "644         94563                 Vilar Formoso  40.606450  -6.829100   \n",
       "645         95100              Delicias-Empalme  40.400270  -3.692470   \n",
       "\n",
       "    province_clean municipality_clean  \n",
       "0            alava    vitoria-gasteiz  \n",
       "1            alava            agurain  \n",
       "2            alava      arraia-maeztu  \n",
       "3            alava    erribera beitia  \n",
       "4            alava       iruna de oca  \n",
       "..             ...                ...  \n",
       "641            nan          mangualde  \n",
       "642            nan  celorico da beira  \n",
       "643            nan             guarda  \n",
       "644            nan      vilar formoso  \n",
       "645            nan             madrid  \n",
       "\n",
       "[646 rows x 6 columns]"
      ]
     },
     "execution_count": 11,
     "metadata": {},
     "output_type": "execute_result"
    }
   ],
   "source": [
    "if len(df_trains[\"province\"]):\n",
    "    df_trains.drop(columns=[\"province\", \"municipality\"], inplace=True)\n",
    "\n",
    "df_trains"
   ]
  },
  {
   "cell_type": "code",
   "execution_count": 12,
   "metadata": {},
   "outputs": [
    {
     "data": {
      "application/vnd.plotly.v1+json": {
       "config": {
        "plotlyServerURL": "https://plot.ly"
       },
       "data": [
        {
         "customdata": [
          [
           "vitoria-gasteiz",
           "Vitoria/Gasteiz"
          ],
          [
           "agurain",
           "Agurain/Salvatierra De Alava"
          ],
          [
           "arraia-maeztu",
           "Araia"
          ],
          [
           "erribera beitia",
           "Manzanos"
          ],
          [
           "iruna de oca",
           "Nanclares-Langraiz"
          ],
          [
           "alegria-dulantzi",
           "Alegria-Dulantzi"
          ],
          [
           "albacete",
           "Albacete Los Llanos"
          ],
          [
           "gineta, la",
           "La Gineta"
          ],
          [
           "hellin",
           "Hellin"
          ],
          [
           "villarrobledo",
           "Villarrobledo"
          ],
          [
           "minaya",
           "Minaya"
          ],
          [
           "roda, la",
           "La Roda De Albacete"
          ],
          [
           "almansa",
           "Almansa"
          ],
          [
           "caudete",
           "Caudete"
          ],
          [
           "villena",
           "Villena Alta Velocidad"
          ],
          [
           "villena",
           "Villena"
          ],
          [
           "villena",
           "La Encina"
          ],
          [
           "elda",
           "Elda-Petrer"
          ],
          [
           "sax",
           "Sax"
          ],
          [
           "novelda",
           "Novelda-Aspe"
          ],
          [
           "alcoi",
           "Alcoi"
          ],
          [
           "cocentaina",
           "Cocentaina"
          ],
          [
           "agres",
           "Agres"
          ],
          [
           "almeria",
           "Almeria"
          ],
          [
           "gergal",
           "Gergal"
          ],
          [
           "finana",
           "Fiñana"
          ],
          [
           "gador",
           "Gador"
          ],
          [
           "avila",
           "Avila"
          ],
          [
           "tornadizos de avila",
           "Guimorcondo"
          ],
          [
           "arevalo",
           "Arevalo"
          ],
          [
           "navas del marques, las",
           "Las Navas Del Marques"
          ],
          [
           "navalperal de pinares",
           "Navalperal"
          ],
          [
           "herradon de pinares",
           "Herradon-La Cañada"
          ],
          [
           "crespos",
           "Crespos"
          ],
          [
           "cardenosa",
           "Cardeñosa De Avila"
          ],
          [
           "san pedro del arroyo",
           "San Pedro Del Arroyo"
          ],
          [
           "narros del castillo",
           "Narros Del Castillo"
          ],
          [
           "badajoz",
           "Badajoz"
          ],
          [
           "guadiana del caudillo",
           "Guadiana"
          ],
          [
           "almendralejo",
           "Almendralejo"
          ],
          [
           "villafranca de los barros",
           "Villafranca De Los Barros"
          ],
          [
           "santos de maimona, los",
           "Los Santos De Maimona"
          ],
          [
           "zafra",
           "Zafra Feria"
          ],
          [
           "zafra",
           "Zafra"
          ],
          [
           "fregenal de la sierra",
           "Fregenal De La Sierra"
          ],
          [
           "don benito",
           "Don Benito"
          ],
          [
           "castuera",
           "Castuera"
          ],
          [
           "campanario",
           "Campanario"
          ],
          [
           "guarena",
           "Guareña"
          ],
          [
           "valdetorres",
           "Valdetorres"
          ],
          [
           "montijo",
           "Montijo"
          ],
          [
           "montijo",
           "Montijo-El Molino"
          ],
          [
           "san vicente de alcantara",
           "San Vicente De Alcantara"
          ],
          [
           "cabeza del buey",
           "Cabeza Del Buey"
          ],
          [
           "cabeza del buey",
           "Almorchon"
          ],
          [
           "villanueva de la serena",
           "Villanueva De La Serena"
          ],
          [
           "merida",
           "Merida"
          ],
          [
           "aljucen",
           "Aljucen"
          ],
          [
           "calamonte",
           "Calamonte"
          ],
          [
           "garrovilla, la",
           "Garrovilla-Las Vegas"
          ],
          [
           "llerena",
           "Llerena"
          ],
          [
           "fuente del arco",
           "Fuente Del Arco"
          ],
          [
           "aguilar de segarra",
           "Aguilar De Segarra"
          ],
          [
           "rajadell",
           "Rajadell"
          ],
          [
           "calaf",
           "Calaf"
          ],
          [
           "calaf",
           "Seguers-Sant Pere Sallavinera"
          ],
          [
           "sant marti sesgueioles",
           "Sant Marti Sesgueioles"
          ],
          [
           "burgos",
           "Burgos Rosa De Lima"
          ],
          [
           "villaquiran de los infantes",
           "Villaquiran"
          ],
          [
           "miranda de ebro",
           "Miranda De Ebro"
          ],
          [
           "briviesca",
           "Briviesca"
          ],
          [
           "pancorbo",
           "Pancorbo"
          ],
          [
           "condado de trevino",
           "La Puebla De Arganzon"
          ],
          [
           "caceres",
           "Caceres"
          ],
          [
           "navalmoral de la mata",
           "Navalmoral De La Mata"
          ],
          [
           "valencia de alcantara",
           "Valencia De Alcantara"
          ],
          [
           "casatejada",
           "Casatejada"
          ],
          [
           "mirabel",
           "Mirabel"
          ],
          [
           "casas de millan",
           "Casas De Millan"
          ],
          [
           "plasencia",
           "Plasencia"
          ],
          [
           "malpartida de plasencia",
           "Monfragüe"
          ],
          [
           "canaveral",
           "Cañaveral"
          ],
          [
           "caceres",
           "Arroyo De Malpartida"
          ],
          [
           "algeciras",
           "Algeciras"
          ],
          [
           "jimena de la frontera",
           "San Pablo"
          ],
          [
           "jimena de la frontera",
           "Jimena De La Frontera"
          ],
          [
           "castellar de la frontera",
           "Almoraima"
          ],
          [
           "san roque",
           "San Roque-La Linea"
          ],
          [
           "barrios, los",
           "Los Barrios"
          ],
          [
           "setenil de las bodegas",
           "Setenil"
          ],
          [
           "barracas",
           "Barracas"
          ],
          [
           "vinaròs",
           "Vinaros"
          ],
          [
           "benicàssim",
           "Benicassim"
          ],
          [
           "alcalà de xivert",
           "Alcala De Chivert"
          ],
          [
           "benicarlo",
           "Benicarlo-Peñiscola"
          ],
          [
           "orpesa",
           "Orpesa"
          ],
          [
           "torreblanca",
           "Torreblanca"
          ],
          [
           "ciudad real",
           "Ciudad Real"
          ],
          [
           "manzanares",
           "Manzanares"
          ],
          [
           "daimiel",
           "Daimiel"
          ],
          [
           "almagro",
           "Almagro"
          ],
          [
           "valdepenas",
           "Valdepeñas"
          ],
          [
           "brazatortas",
           "Brazatortas-Veredas"
          ],
          [
           "almaden",
           "Almadenejos-Almaden"
          ],
          [
           "guadalmez",
           "Guadalmez-Los Pedroches"
          ],
          [
           "puertollano",
           "Puertollano"
          ],
          [
           "puertollano",
           "Puertollano (Av)"
          ],
          [
           "alcazar de san juan",
           "Alcazar De San Juan"
          ],
          [
           "campo de criptana",
           "Campo De Criptana"
          ],
          [
           "socuellamos",
           "Socuellamos"
          ],
          [
           "alcazar de san juan",
           "Cinco Casas"
          ],
          [
           "santa cruz de mudela",
           "Santa Cruz De Mudela"
          ],
          [
           "almuradiel",
           "Almuradiel-Viso Del Marques"
          ],
          [
           "cordoba",
           "Cordoba"
          ],
          [
           "cordoba",
           "Campus Universitario De Rabanales"
          ],
          [
           "villanueva de cordoba",
           "Villanueva De Cordoba"
          ],
          [
           "puente genil",
           "Puente Genil-Herrera"
          ],
          [
           "villa del rio",
           "Villa Del Rio"
          ],
          [
           "palma del rio",
           "Palma Del Rio"
          ],
          [
           "posadas",
           "Posadas"
          ],
          [
           "coruna, a",
           "A Coruña"
          ],
          [
           "cerceda",
           "Cerceda-Meirama"
          ],
          [
           "coruna, a",
           "Elviña-Universidade"
          ],
          [
           "curtis",
           "Teixeiro"
          ],
          [
           "curtis",
           "Curtis"
          ],
          [
           "betanzos",
           "Betanzos-Infesta"
          ],
          [
           "betanzos",
           "Betanzos-Cidade"
          ],
          [
           "oza-cesuras",
           "Oza Dos Rios"
          ],
          [
           "oza-cesuras",
           "Piñoi"
          ],
          [
           "oza-cesuras",
           "Cesuras"
          ],
          [
           "fene",
           "Perlio"
          ],
          [
           "neda",
           "Neda"
          ],
          [
           "fene",
           "Barallobre"
          ],
          [
           "mino",
           "Perbes"
          ],
          [
           "pontedeume",
           "Pontedeume"
          ],
          [
           "cabanas",
           "Cabanas"
          ],
          [
           "mino",
           "Miño"
          ],
          [
           "cambre",
           "Cecebre"
          ],
          [
           "cambre",
           "Cambre"
          ],
          [
           "culleredo",
           "O Burgo-Santiago"
          ],
          [
           "ordes",
           "Ordes"
          ],
          [
           "arteixo",
           "Uxes"
          ],
          [
           "santiago de compostela",
           "Santiago De Compostela"
          ],
          [
           "teo",
           "Osebe"
          ],
          [
           "padron",
           "Padron"
          ],
          [
           "padron",
           "Padron Barbanza"
          ],
          [
           "cuenca",
           "Cuenca Fernando Zobel"
          ],
          [
           "cuenca",
           "Cuenca"
          ],
          [
           "chillaron de cuenca",
           "Chillaron"
          ],
          [
           "canada del hoyo",
           "Cañada Del Hoyo"
          ],
          [
           "carboneras de guadazaon",
           "Carboneras De Guadazaon"
          ],
          [
           "arguisuelas",
           "Arguisuelas"
          ],
          [
           "villora",
           "Villora"
          ],
          [
           "yemeda",
           "Yemeda-Cardenete"
          ],
          [
           "tarancon",
           "Tarancon"
          ],
          [
           "huete",
           "Huete"
          ],
          [
           "huete",
           "Castillejo Del Romeral"
          ],
          [
           "villar y velasco",
           "Cuevas De Velasco"
          ],
          [
           "girona",
           "Girona"
          ],
          [
           "sils",
           "Sils"
          ],
          [
           "caldes de malavella",
           "Caldes De Malavella"
          ],
          [
           "riudellots de la selva",
           "Riudellots"
          ],
          [
           "fornells de la selva",
           "Fornells De La Selva"
          ],
          [
           "celrà",
           "Celra"
          ],
          [
           "bordils",
           "Bordils-Juia"
          ],
          [
           "flaçà",
           "Flaça"
          ],
          [
           "sant jordi desvalls",
           "Sant Jordi Desvalls"
          ],
          [
           "saus, camallera i llampaies",
           "Camallera"
          ],
          [
           "vilamalla",
           "Vilamalla"
          ],
          [
           "sant miquel de fluvià",
           "Sant Miquel De Fluvia"
          ],
          [
           "llançà",
           "Llança"
          ],
          [
           "vilajuïga",
           "Vilajuiga"
          ],
          [
           "colera",
           "Colera"
          ],
          [
           "portbou",
           "Portbou"
          ],
          [
           "figueres",
           "Figueres"
          ],
          [
           "figueres",
           "Figueres-Vilafant"
          ],
          [
           "granada",
           "Granada"
          ],
          [
           "loja",
           "Loja-San Francisco"
          ],
          [
           "guadix",
           "Guadix"
          ],
          [
           "benalua",
           "Benalua De Guadix"
          ],
          [
           "morelabor",
           "Moreda"
          ],
          [
           "iznalloz",
           "Iznalloz"
          ],
          [
           "guadalajara",
           "Guadalajara-Yebes"
          ],
          [
           "yunquera de henares",
           "Yunquera De Henares"
          ],
          [
           "humanes",
           "Humanes De Mohernando"
          ],
          [
           "jadraque",
           "Jadraque"
          ],
          [
           "espinosa de henares",
           "Carrascosa De Henares"
          ],
          [
           "siguenza",
           "Sigüenza"
          ],
          [
           "espinosa de henares",
           "Espinosa De Henares"
          ],
          [
           "matillas",
           "Matillas"
          ],
          [
           "baides",
           "Baides"
          ],
          [
           "huelva",
           "Huelva-Termino"
          ],
          [
           "calanas",
           "Calañas"
          ],
          [
           "calanas",
           "Los Milanos"
          ],
          [
           "calanas",
           "El Cobujon"
          ],
          [
           "cerro de andevalo, el",
           "El Tamujoso"
          ],
          [
           "cortegana",
           "Valdelamusa"
          ],
          [
           "almonaster la real",
           "Almonaster-Cortegana"
          ],
          [
           "jabugo",
           "Jabugo-Galaroza"
          ],
          [
           "cumbres mayores",
           "Cumbres Mayores"
          ],
          [
           "san bartolome de la torre",
           "Belmonte"
          ],
          [
           "gibraleon",
           "Gibraleon"
          ],
          [
           "san juan del puerto",
           "San Juan Del Puerto"
          ],
          [
           "palma del condado, la",
           "La Palma Del Condado"
          ],
          [
           "niebla",
           "Niebla-Puerta Del Buey"
          ],
          [
           "villarrasa",
           "Villarrasa"
          ],
          [
           "escacena del campo",
           "Escacena"
          ],
          [
           "huesca",
           "Huesca"
          ],
          [
           "sarinena",
           "Sariñena"
          ],
          [
           "tardienta",
           "Tardienta"
          ],
          [
           "granen",
           "Grañen"
          ],
          [
           "monzon",
           "Monzon-Rio Cinca"
          ],
          [
           "binefar",
           "Binefar"
          ],
          [
           "sabinanigo",
           "Sabiñanigo"
          ],
          [
           "caldearenas",
           "Caldearenas-Aquilue"
          ],
          [
           "jaca",
           "Jaca"
          ],
          [
           "castiello de jaca",
           "Castiello-Pueblo"
          ],
          [
           "ayerbe",
           "Ayerbe"
          ],
          [
           "penas de riglos, las",
           "Riglos-Concilio"
          ],
          [
           "penas de riglos, las",
           "Riglos"
          ],
          [
           "sotonera, la",
           "Plasencia Del Monte"
          ],
          [
           "penas de riglos, las",
           "Santa Maria Y La Peña"
          ],
          [
           "caldearenas",
           "Anzanigo"
          ],
          [
           "villanua",
           "Villanua-Letranz"
          ],
          [
           "canfranc",
           "Canfranc"
          ],
          [
           "jaen",
           "Jaen"
          ],
          [
           "vilches",
           "Vilches"
          ],
          [
           "jodar",
           "Jodar-Ubeda"
          ],
          [
           "linares",
           "Linares-Baeza"
          ],
          [
           "cabra del santo cristo",
           "Cabra Del Santo Cristo Y Alicun"
          ],
          [
           "mengibar",
           "Mengibar-Artichuela"
          ],
          [
           "espeluy",
           "Espeluy"
          ],
          [
           "andujar",
           "Andujar"
          ],
          [
           "leon",
           "Leon"
          ],
          [
           "villanueva de las manzanas",
           "Palanquinos"
          ],
          [
           "bembibre",
           "Bembibre"
          ],
          [
           "sahagun",
           "Sahagun"
          ],
          [
           "santas martas",
           "Santas Martas"
          ],
          [
           "grajal de campos",
           "Grajal"
          ],
          [
           "burgo ranero, el",
           "El Burgo Ranero"
          ],
          [
           "villarejo de orbigo",
           "Veguellina"
          ],
          [
           "villagaton",
           "Brañuelas"
          ],
          [
           "torre del bierzo",
           "Torre Del Bierzo"
          ],
          [
           "torre del bierzo",
           "La Granja"
          ],
          [
           "santovenia de la valdoncina",
           "Quintana-Raneros"
          ],
          [
           "santa marina del rey",
           "Villabante"
          ],
          [
           "valderrey",
           "Barrientos"
          ],
          [
           "san justo de la vega",
           "Nistal"
          ],
          [
           "magaz de cepeda",
           "Vega-Magaz"
          ],
          [
           "magaz de cepeda",
           "Porqueros"
          ],
          [
           "congosto",
           "San Miguel De Las Dueñas"
          ],
          [
           "ponferrada",
           "Ponferrada"
          ],
          [
           "toral de los vados",
           "Toral De Los Vados"
          ],
          [
           "carracedelo",
           "Villadepalos"
          ],
          [
           "pola de gordon, la",
           "La Pola De Gordon"
          ],
          [
           "robla, la",
           "La Robla"
          ],
          [
           "pola de gordon, la",
           "Santa Lucia"
          ],
          [
           "villamanin",
           "Villamanin"
          ],
          [
           "villamanin",
           "Busdongo"
          ],
          [
           "astorga",
           "Astorga"
          ],
          [
           "lleida",
           "Lleida-Pirineus"
          ],
          [
           "puigverd de lleida",
           "Puigverd De Lleida-Artesa De Lleida"
          ],
          [
           "cervera",
           "Cervera"
          ],
          [
           "bell-lloc d'urgell",
           "Bell-Lloc D'Urgell"
          ],
          [
           "mollerussa",
           "Mollerussa"
          ],
          [
           "golmes",
           "Golmes"
          ],
          [
           "bellpuig",
           "Bellpuig"
          ],
          [
           "castellnou de seana",
           "Castellnou De Seana"
          ],
          [
           "sant guim de freixenet",
           "Sant Guim De Freixenet"
          ],
          [
           "tàrrega",
           "Tarrega"
          ],
          [
           "anglesola",
           "Anglesola"
          ],
          [
           "borges blanques, les",
           "Les Borges Blanques"
          ],
          [
           "floresta, la",
           "La Floresta"
          ],
          [
           "juneda",
           "Juneda"
          ],
          [
           "vinaixa",
           "Vinaixa"
          ],
          [
           "logrono",
           "Logroño"
          ],
          [
           "agoncillo",
           "Agoncillo"
          ],
          [
           "haro",
           "Haro"
          ],
          [
           "calahorra",
           "Calahorra"
          ],
          [
           "alcanadre",
           "Alcanadre"
          ],
          [
           "alfaro",
           "Alfaro"
          ],
          [
           "rincon de soto",
           "Rincon De Soto"
          ],
          [
           "lugo",
           "Lugo"
          ],
          [
           "guitiriz",
           "Guitiriz"
          ],
          [
           "ribas de sil",
           "San Clodio-Quiroga"
          ],
          [
           "pobra do brollon, a",
           "Pobra De Brollon"
          ],
          [
           "rabade",
           "Rabade"
          ],
          [
           "begonte",
           "Baamonde"
          ],
          [
           "guitiriz",
           "Parga"
          ],
          [
           "quiroga",
           "Montefurado"
          ],
          [
           "monforte de lemos",
           "Monforte De Lemos"
          ],
          [
           "panton",
           "San Estevo Do Sil"
          ],
          [
           "sober",
           "Canabal"
          ],
          [
           "panton",
           "San Pedro Do Sil"
          ],
          [
           "sober",
           "Areas"
          ],
          [
           "sarria",
           "Sarria"
          ],
          [
           "sarria",
           "Pedrelo-Celtigos"
          ],
          [
           "madrid",
           "Madrid-Puerta De Atocha"
          ],
          [
           "zarzalejo",
           "Zarzalejo"
          ],
          [
           "robledo de chavela",
           "Robledo De Chavela"
          ],
          [
           "santa maria de la alameda",
           "Santa Maria De La Alameda-Peguerinos"
          ],
          [
           "santa maria de la alameda",
           "El Pimpollar"
          ],
          [
           "aranjuez",
           "Castillejo-Añover"
          ],
          [
           "guadarrama",
           "Tablada"
          ],
          [
           "antequera",
           "Antequera"
          ],
          [
           "campillos",
           "Campillos"
          ],
          [
           "almargen",
           "Almargen-Cañete La Real"
          ],
          [
           "arriate",
           "Arriate"
          ],
          [
           "benaojan",
           "Benaojan-Montejaque"
          ],
          [
           "cortes de la frontera",
           "Cortes De La Frontera"
          ],
          [
           "jimera de libar",
           "Jimera De Libar"
          ],
          [
           "ronda",
           "Ronda"
          ],
          [
           "gaucin",
           "Gaucin"
          ],
          [
           "antequera",
           "Antequera-Santa Ana"
          ],
          [
           "antequera",
           "Bobadilla"
          ],
          [
           "alora",
           "El Chorro-Caminito Del Rey"
          ],
          [
           "alora",
           "Las Mellizas"
          ],
          [
           "cartagena",
           "Cartagena"
          ],
          [
           "calasparra",
           "Calasparra"
          ],
          [
           "cieza",
           "Cieza"
          ],
          [
           "torre-pacheco",
           "Balsicas-Mar Menor"
          ],
          [
           "archena",
           "Archena-Fortuna"
          ],
          [
           "torre-pacheco",
           "Torre-Pacheco"
          ],
          [
           "iruna",
           "Pamplona"
          ],
          [
           "tafalla",
           "Tafalla"
          ],
          [
           "villafranca",
           "Villafranca De Navarra"
          ],
          [
           "marcilla",
           "Marcilla De Navarra"
          ],
          [
           "erriberri",
           "Olite/Erriberri"
          ],
          [
           "tudela",
           "Tudela De Navarra"
          ],
          [
           "cortes",
           "Cortes De Navarra"
          ],
          [
           "ribaforada",
           "Ribaforada"
          ],
          [
           "lodosa",
           "Feculas-Navarra"
          ],
          [
           "castejon",
           "Castejon De Ebro"
          ],
          [
           "alsasua",
           "Altsasu"
          ],
          [
           "alsasua",
           "Altsasu-Pueblo"
          ],
          [
           "etxarri aranatz",
           "Etxarri-Aranatz"
          ],
          [
           "uharte arakil",
           "Uharte-Arakil"
          ],
          [
           "ourense",
           "Ourense"
          ],
          [
           "ourense",
           "Ourense-San Francisco"
          ],
          [
           "rubia",
           "Covas"
          ],
          [
           "barco de valdeorras, o",
           "O Barco De Valdeorras"
          ],
          [
           "rubia",
           "Quereño"
          ],
          [
           "carballeda de valdeorras",
           "Sobradelo"
          ],
          [
           "vilamartin de valdeorras",
           "Vilamartin De Valdeorras"
          ],
          [
           "rua, a",
           "A Rua-Petin"
          ],
          [
           "ribadavia",
           "Ribadavia"
          ],
          [
           "peroxa, a",
           "Os Peares"
          ],
          [
           "cenlle",
           "Barbantes"
          ],
          [
           "carballino, o",
           "O Carballiño"
          ],
          [
           "irixo, o",
           "O Irixo"
          ],
          [
           "gudina, a",
           "A Gudiña"
          ],
          [
           "maside",
           "A Friela-Maside"
          ],
          [
           "coles",
           "Barra De Miño"
          ],
          [
           "lena",
           "Linares-Congostinas"
          ],
          [
           "palencia",
           "Palencia"
          ],
          [
           "grijota",
           "Grijota"
          ],
          [
           "venta de banos",
           "Venta De Baños"
          ],
          [
           "duenas",
           "Dueñas"
          ],
          [
           "magaz de pisuerga",
           "Magaz"
          ],
          [
           "quintana del puente",
           "Quintana Del Puente"
          ],
          [
           "paredes de nava",
           "Paredes De Nava"
          ],
          [
           "becerril de campos",
           "Becerril"
          ],
          [
           "cisneros",
           "Cisneros"
          ],
          [
           "villada",
           "Villada"
          ],
          [
           "herrera de pisuerga",
           "Herrera Del Pisuerga"
          ],
          [
           "monzon de campos",
           "Monzon De Campos"
          ],
          [
           "monzon de campos",
           "El Carrion"
          ],
          [
           "amusco",
           "Amusco"
          ],
          [
           "pina de campos",
           "Piña"
          ],
          [
           "fromista",
           "Fromista"
          ],
          [
           "osorno la mayor",
           "Osorno"
          ],
          [
           "alar del rey",
           "Alar Del Rey"
          ],
          [
           "espinosa de villagonzalo",
           "Espinosa De Villagonzalo"
          ],
          [
           "aguilar de campoo",
           "Mave"
          ],
          [
           "aguilar de campoo",
           "Aguilar De Campoo"
          ],
          [
           "pomar de valdivia",
           "Quintanilla De Las Torres"
          ],
          [
           "pontevedra",
           "Pontevedra-Universidad"
          ],
          [
           "pontevedra",
           "Pontevedra"
          ],
          [
           "vigo",
           "Vigo Urzaiz"
          ],
          [
           "vigo",
           "Vigo-Guixar"
          ],
          [
           "porrino, o",
           "O Porriño"
          ],
          [
           "crecente",
           "Filgueira"
          ],
          [
           "crecente",
           "Frieira"
          ],
          [
           "arbo",
           "Arbo"
          ],
          [
           "neves, as",
           "As Neves"
          ],
          [
           "salvaterra de mino",
           "Salvaterra"
          ],
          [
           "crecente",
           "Pousa-Crecente"
          ],
          [
           "arbo",
           "Sela"
          ],
          [
           "lalin",
           "Lalin"
          ],
          [
           "vilagarcia de arousa",
           "Vilagarcia De Arousa"
          ],
          [
           "catoira",
           "Catoira"
          ],
          [
           "pontecesures",
           "Pontecesures"
          ],
          [
           "soutomaior",
           "Arcade"
          ],
          [
           "barro",
           "Portela"
          ],
          [
           "redondela",
           "Cesantes"
          ],
          [
           "tui",
           "Tui"
          ],
          [
           "tui",
           "Guillarei"
          ],
          [
           "tui",
           "Caldelas"
          ],
          [
           "redondela",
           "Redondela"
          ],
          [
           "redondela",
           "Redondela-Picota"
          ],
          [
           "redondela",
           "Redondela-Av"
          ],
          [
           "salamanca",
           "Salamanca"
          ],
          [
           "penaranda de bracamonte",
           "Peñaranda De Bracamonte"
          ],
          [
           "villar de gallimazo",
           "Villar De Gallimazo"
          ],
          [
           "babilafuente",
           "Babilafuente"
          ],
          [
           "san morales",
           "San Morales"
          ],
          [
           "aldealengua",
           "Aldealengua"
          ],
          [
           "cantalapiedra",
           "Cantalapiedra"
          ],
          [
           "pedroso de la armuna, el",
           "El Pedroso De La Armuña"
          ],
          [
           "gomecello",
           "Gomecello"
          ],
          [
           "moriscos",
           "Moriscos"
          ],
          [
           "fuentes de onoro",
           "Fuentes De Oñoro"
          ],
          [
           "pitiegua",
           "Pitiegua"
          ],
          [
           "ciudad rodrigo",
           "Ciudad Rodrigo"
          ],
          [
           "segovia",
           "Segovia-Guiomar"
          ],
          [
           "segovia",
           "Segovia"
          ],
          [
           "espinar, el",
           "Gudillos"
          ],
          [
           "espinar, el",
           "El Espinar"
          ],
          [
           "espinar, el",
           "San Rafael"
          ],
          [
           "navas de riofrio",
           "Navas De Riofrio-La Losa"
          ],
          [
           "ortigosa del monte",
           "Ortigosa Del Monte"
          ],
          [
           "otero de herreros",
           "Otero-Herreros"
          ],
          [
           "otero de herreros",
           "Los Angeles De San Rafael"
          ],
          [
           "guadalcanal",
           "Guadalcanal"
          ],
          [
           "penaflor",
           "Peñaflor"
          ],
          [
           "pedrera",
           "Pedrera"
          ],
          [
           "arahal",
           "Arahal"
          ],
          [
           "marchena",
           "Marchena"
          ],
          [
           "osuna",
           "Osuna"
          ],
          [
           "carrion de los cespedes",
           "Carrion De Los Cespedes"
          ],
          [
           "soria",
           "Soria"
          ],
          [
           "almazan",
           "Almazan-Villa"
          ],
          [
           "medinaceli",
           "Torralba"
          ],
          [
           "medinaceli",
           "Medinaceli"
          ],
          [
           "arcos de jalon",
           "Arcos De Jalon"
          ],
          [
           "santa maria de huerta",
           "Santa Maria De Huerta"
          ],
          [
           "quintana redonda",
           "Quintana Redonda"
          ],
          [
           "tardelcuende",
           "Tardelcuende"
          ],
          [
           "tarragona",
           "Tarragona"
          ],
          [
           "altafulla",
           "Altafulla-Tamarit"
          ],
          [
           "reus",
           "Reus"
          ],
          [
           "borges del camp, les",
           "Les Borges Del Camp"
          ],
          [
           "montblanc",
           "Montblanc"
          ],
          [
           "vimbodi i poblet",
           "Vimbodi I Poblet"
          ],
          [
           "espluga de francoli, l'",
           "L'Espluga De Francoli"
          ],
          [
           "riba, la",
           "La Riba"
          ],
          [
           "alcover",
           "Alcover"
          ],
          [
           "selva del camp, la",
           "La Selva Del Camp"
          ],
          [
           "vila-seca",
           "Vila-Seca"
          ],
          [
           "vilaverd",
           "Vilaverd"
          ],
          [
           "valls",
           "La Plana-Picamoixons"
          ],
          [
           "tortosa",
           "Tortosa"
          ],
          [
           "ulldecona",
           "Ulldecona-Alcanar-La Senia"
          ],
          [
           "flix",
           "Flix"
          ],
          [
           "tarragona",
           "Camp De Tarragona"
          ],
          [
           "mora la nova",
           "Mora La Nova"
          ],
          [
           "riudecanyes",
           "Riudecanyes-Botarell"
          ],
          [
           "argentera, l'",
           "Duesaigües-L'Argentera"
          ],
          [
           "pradell de la teixeta",
           "Pradell"
          ],
          [
           "marçà",
           "Marça-Falset"
          ],
          [
           "capçanes",
           "Capçanes"
          ],
          [
           "guiamets, els",
           "Els Guiamets"
          ],
          [
           "pobla de massaluca, la",
           "Faio-La Pobla De Massaluca"
          ],
          [
           "riba-roja d'ebre",
           "Riba-Roja D'Ebre"
          ],
          [
           "asco",
           "Asco"
          ],
          [
           "valls",
           "Valls"
          ],
          [
           "torredembarra",
           "Torredembarra"
          ],
          [
           "salou",
           "Salou"
          ],
          [
           "salou",
           "Port Aventura"
          ],
          [
           "cambrils",
           "Cambrils"
          ],
          [
           "ametlla de mar, l'",
           "L'Ametlla De Mar"
          ],
          [
           "roda de berà",
           "Roda De Bara"
          ],
          [
           "roda de berà",
           "Roda De Mar"
          ],
          [
           "salomo",
           "Salomo"
          ],
          [
           "vilabella",
           "Vilabella"
          ],
          [
           "nulles",
           "Nulles-Brafim"
          ],
          [
           "vandellòs i l'hospitalet de l'infant",
           "L'Hospitalet De L'Infant"
          ],
          [
           "mont-roig del camp",
           "Mont-Roig Del Camp"
          ],
          [
           "camarles",
           "Camarles-Deltebre"
          ],
          [
           "ampolla, l'",
           "L'Ampolla-Perello-Deltebre"
          ],
          [
           "aldea, l'",
           "L'Aldea-Amposta-Tortosa"
          ],
          [
           "tortosa",
           "Camp-Redo"
          ],
          [
           "teruel",
           "Teruel"
          ],
          [
           "calamocha",
           "Calamocha"
          ],
          [
           "monreal del campo",
           "Monreal Del Campo"
          ],
          [
           "caminreal",
           "Caminreal-Fuentes Claras"
          ],
          [
           "santa eulalia",
           "Santa Eulalia Del Campo"
          ],
          [
           "cella",
           "Cella"
          ],
          [
           "torrijo del campo",
           "Torrijo Del Campo"
          ],
          [
           "villafranca del campo",
           "Villafranca Del Campo"
          ],
          [
           "puebla de valverde, la",
           "Puerto Escandon"
          ],
          [
           "puebla de valverde, la",
           "Puebla De Valverde"
          ],
          [
           "sarrion",
           "Sarrion"
          ],
          [
           "mora de rubielos",
           "Mora De Rubielos"
          ],
          [
           "rubielos de mora",
           "Rubielos De Mora"
          ],
          [
           "ferreruela de huerva",
           "Ferreruela"
          ],
          [
           "villahermosa del campo",
           "Villahermosa"
          ],
          [
           "calamocha",
           "Cuencabuena"
          ],
          [
           "calamocha",
           "Lechago"
          ],
          [
           "calamocha",
           "Navarrete"
          ],
          [
           "puebla de hijar, la",
           "La Puebla De Hijar"
          ],
          [
           "samper de calanda",
           "Samper"
          ],
          [
           "toledo",
           "Toledo"
          ],
          [
           "illescas",
           "Illescas"
          ],
          [
           "ocana",
           "Ocaña"
          ],
          [
           "ontigola",
           "Ontigola"
          ],
          [
           "noblejas",
           "Noblejas"
          ],
          [
           "villarrubia de santiago",
           "Villarrubia De Santiago"
          ],
          [
           "santa cruz de la zarza",
           "Santa Cruz De La Zarza"
          ],
          [
           "torrijos",
           "Torrijos"
          ],
          [
           "erustes",
           "Erustes"
          ],
          [
           "oropesa",
           "Oropesa De Toledo"
          ],
          [
           "talavera de la reina",
           "Talavera De La Reina"
          ],
          [
           "montearagon",
           "Montearagon"
          ],
          [
           "villasequilla",
           "Villasequilla"
          ],
          [
           "tembleque",
           "Tembleque"
          ],
          [
           "romeral, el",
           "El Romeral"
          ],
          [
           "quero",
           "Quero"
          ],
          [
           "villacanas",
           "Villacañas"
          ],
          [
           "valencia",
           "Valencia Joaquin Sorolla"
          ],
          [
           "utiel",
           "Las Cuevas"
          ],
          [
           "camporrobles",
           "Camporrobles"
          ],
          [
           "requena",
           "Requena-Utiel"
          ],
          [
           "benigànim",
           "Beniganim"
          ],
          [
           "pobla del duc, la",
           "La Pobla Del Duc"
          ],
          [
           "albaida",
           "Albaida"
          ],
          [
           "ontinyent",
           "Ontinyent"
          ],
          [
           "agullent",
           "Agullent"
          ],
          [
           "bufali",
           "Bufali"
          ],
          [
           "montaverner",
           "Montaberner"
          ],
          [
           "genoves",
           "Genoves"
          ],
          [
           "valladolid",
           "Valladolid-Campo Grande"
          ],
          [
           "valladolid",
           "Valladolid Universidad"
          ],
          [
           "viana de cega",
           "Viana"
          ],
          [
           "pozaldez",
           "Pozaldez"
          ],
          [
           "matapozuelos",
           "Matapozuelos"
          ],
          [
           "valdestillas",
           "Valdestillas"
          ],
          [
           "cabezon de pisuerga",
           "Cabezon Del Pisuerga"
          ],
          [
           "corcos",
           "Corcos-Aguilarejo"
          ],
          [
           "cubillas de santa marta",
           "Cubillas De Santa Marta"
          ],
          [
           "medina del campo",
           "Medina Del Campo A.V."
          ],
          [
           "medina del campo",
           "Medina Del Campo"
          ],
          [
           "campillo, el",
           "Campillo"
          ],
          [
           "carpio",
           "El Carpio"
          ],
          [
           "fresno el viejo",
           "Fresno El Viejo"
          ],
          [
           "nava del rey",
           "Nava Del Rey"
          ],
          [
           "zamora",
           "Zamora"
          ],
          [
           "carbajales de alba",
           "Carbajales De Alba"
          ],
          [
           "puebla de sanabria",
           "Puebla De Sanabria"
          ],
          [
           "ferreruela",
           "Ferreruela De Tabara"
          ],
          [
           "riofrio de aliste",
           "Abejera"
          ],
          [
           "riofrio de aliste",
           "Sarracin De Aliste"
          ],
          [
           "riofrio de aliste",
           "Cabañas De Aliste"
          ],
          [
           "manzanal de arriba",
           "Linarejos-Pedroso"
          ],
          [
           "toro",
           "Toro"
          ],
          [
           "ateca",
           "Ateca"
          ],
          [
           "ariza",
           "Ariza"
          ],
          [
           "alhama de aragon",
           "Alhama De Aragon"
          ],
          [
           "bubierca",
           "Bubierca"
          ],
          [
           "mores",
           "Mores"
          ],
          [
           "mores",
           "Purroy"
          ],
          [
           "morata de jalon",
           "Morata De Jalon"
          ],
          [
           "ricla",
           "Ricla-La Almunia"
          ],
          [
           "calatorao",
           "Calatorao"
          ],
          [
           "epila",
           "Epila"
          ],
          [
           "monreal de ariza",
           "Monreal De Ariza"
          ],
          [
           "cetina",
           "Cetina"
          ],
          [
           "terrer",
           "Terrer"
          ],
          [
           "salillas de jalon",
           "Salillas De Jalon"
          ],
          [
           "rueda de jalon",
           "Rueda De Jalon-Lumpiaque"
          ],
          [
           "plasencia de jalon",
           "Plasencia De Jalon"
          ],
          [
           "grisen",
           "Grisen"
          ],
          [
           "paracuellos de la ribera",
           "Paracuellos-Sabiñan"
          ],
          [
           "sabinan",
           "Sabiñan"
          ],
          [
           "calatayud",
           "Calatayud"
          ],
          [
           "calatayud",
           "Embid De Jalon"
          ],
          [
           "carinena",
           "Cariñena"
          ],
          [
           "maria de huerva",
           "Maria De Huerva"
          ],
          [
           "muel",
           "Arañales De Muel"
          ],
          [
           "longares",
           "Longares"
          ],
          [
           "encinacorba",
           "Encinacorba"
          ],
          [
           "villarreal de huerva",
           "Villarreal De Huerva"
          ],
          [
           "villadoz",
           "Villadoz"
          ],
          [
           "badules",
           "Badules"
          ],
          [
           "alagon",
           "Alagon"
          ],
          [
           "cabanas de ebro",
           "Cabañas De Ebro"
          ],
          [
           "luceni",
           "Luceni"
          ],
          [
           "gallur",
           "Gallur"
          ],
          [
           "pedrola",
           "Pedrola"
          ],
          [
           "caspe",
           "Caspe"
          ],
          [
           "caspe",
           "Val De Pilas"
          ],
          [
           "fuentes de ebro",
           "Fuentes De Ebro"
          ],
          [
           "quinto",
           "Quinto"
          ],
          [
           "zaida, la",
           "La Zaida-Sastago"
          ],
          [
           "fabara",
           "Fabara"
          ],
          [
           "nonaspe",
           "Nonaspe"
          ],
          [
           "zuera",
           "Zuera"
          ],
          [
           "villanueva de gallego",
           "Villanueva De Gallego"
          ],
          [
           "elx",
           "Elx Alta Velocidad"
          ],
          [
           "huercal de almeria",
           "Huercal-Viator"
          ],
          [
           "cambrils",
           "Cambrils"
          ],
          [
           "l'hospitalet de l'infant",
           "L'Hospitalet De L'Infant"
          ],
          [
           "palacios de sanabria",
           "Sanabria Alta Velocidad"
          ],
          [
           "hendaya",
           "Hendaya"
          ],
          [
           "latour de carol",
           "Latour De Carol"
          ],
          [
           "cerbere",
           "Cerbere"
          ],
          [
           "les aubrais orleans",
           "Les Aubrais Orleans"
          ],
          [
           "paris",
           "Paris Austerlitz"
          ],
          [
           "paris",
           "Paris Gare Lyon"
          ],
          [
           "beziers",
           "Beziers"
          ],
          [
           "toulouse",
           "Toulouse Matabiau"
          ],
          [
           "poitiers",
           "Poitiers"
          ],
          [
           "narbonne",
           "Narbonne"
          ],
          [
           "marselle cedex",
           "Marseille St Charles"
          ],
          [
           "montpellier",
           "Montpellier St Roch"
          ],
          [
           "sete",
           "Sete"
          ],
          [
           "carcassonne",
           "Carcassonne"
          ],
          [
           "agde",
           "Agde"
          ],
          [
           "nimes",
           "Nimes"
          ],
          [
           "lyon",
           "Lyon Part Dieu"
          ],
          [
           "perpignan",
           "Perpignan"
          ],
          [
           "blois",
           "Blois"
          ],
          [
           "rhone - alpes",
           "Valence Tgv Rhone Alpes Sud"
          ],
          [
           "avignon",
           "Avignon Tgv"
          ],
          [
           "aix en provence",
           "Aix En Provence Tgv"
          ],
          [
           "valença do minho",
           "Valença Do Minho"
          ],
          [
           "montpellier",
           "Montpellier Sai"
          ],
          [
           "avignon",
           "Avignon"
          ],
          [
           "avignon",
           "Avignon Tgv"
          ],
          [
           "aix-en-provence",
           "Aix-En-Provence Tgv"
          ],
          [
           "montpellier",
           "Montpellier Sud De France"
          ],
          [
           "vila nova de famalicão",
           "Nine"
          ],
          [
           "viana do castelo",
           "Viana Do Castelo"
          ],
          [
           "oporto",
           "Porto-Campanha"
          ],
          [
           "lisboa",
           "Lisboa-Santa Apolonia"
          ],
          [
           "lisboa",
           "Lisboa-Oriente"
          ],
          [
           "entroncamento",
           "Entroncamento"
          ],
          [
           "caxarias",
           "Caxarias"
          ],
          [
           "pombal",
           "Pombal"
          ],
          [
           "coimbra",
           "Coimbra-B"
          ],
          [
           "vimieiro",
           "Sta. Comba Dao"
          ],
          [
           "mangualde",
           "Mangualde"
          ],
          [
           "celorico da beira",
           "Celorico-Beira"
          ],
          [
           "guarda",
           "Guarda"
          ],
          [
           "vilar formoso",
           "Vilar Formoso"
          ],
          [
           "madrid",
           "Delicias-Empalme"
          ]
         ],
         "hovertemplate": "latitude=%{lat}<br>longitude=%{lon}<br>municipality_clean=%{customdata[0]}<br>station_name=%{customdata[1]}<extra></extra>",
         "lat": {
          "bdata": "3lPeM7drRUBW0FkLWGxFQMIn59VKb0VAYACGihZfRUBi72peemhFQCiz5mymbEVA9WD3wgmAQ0AUqkDSTI5DQLPttDUiQUNA/Y3RlWOhQ0ABpgwc0J5DQNP1RNeFmUNAc+2wLhNvQ0DSRr/HqltDQJn8BXHUSkNARgckYd9QQ0Bjyizn92FDQMEaZ9MRPkNAL3TbdLpFQ0DrQDENHjRDQPoqVJLQWkNA124Wis9eQ0C/oOC9/mVDQP5fGivWakJACFbVy++NQkA1Z9iDpJdCQJFSv8HNeUJAo+pXOh9URECL01riElNEQMCvkSQIhkRAXXepx2xLREA7PrVVpEtEQMCw/Pm2TERA7QZ2oV5vREBurB/2nV5EQPAkMyjkZkRAjVoGQexuREDLviuC/3FDQBTiNr8GdkNARwYURaNXQ0DkkvR6QUhDQAtmp3qNOUNAUz9vKlI2Q0CwBRjx+DRDQOd90j93FUNArbKl/cV7Q0CF4tjEE15DQAtnElA8bUNAkkSKXMtyQ0CPri2X6HRDQPeOv1nvdENAojFJG/10Q0CSTQNQ1rBDQOc5It+lXENA8BpPXypZQ0A1+RwOAXxDQM3HWujvdUNAThiDPdx3Q0BAOitYmXFDQJESFnAqdUNACsEFNGweQ0AaN5CJ7xRDQAOxbOaQ3kRAhh3GpL/dRECBhBczeN1EQC+i7Zi630RAi0qPS8HZREAO4l70cC9FQJ/gB4yaG0VAvs3RmWpYRUA5pAf0eEVFQMz5GGKrUEVAKnxsgfNhRUBnmNpSB7tDQFqZlZKK8kNAQFcRJKW2Q0BER7yGKvJDQAvBYO3e7kNAmzdOCvPnQ0AtVEhD1wJEQJtUNNb+90NAN2fpr/zkQ0C+0G3T6btDQJp63SIwEEJAYWQTquU7QkCovwOoTjZCQI72iU11I0JA5Omm3mQbQkCjLZ3FQRZCQESWu4VkbkJAHXIz3IABREAvgDovXzxEQLuNFxxvB0RAVHQkl/8mRECf25WnvTZEQOmr9Y/PC0RAIBW16ikbREAVUE3uHH5DQMjK1Mm+gENAHBKty9+HQ0A+zF62nXJDQEURUrezYUNAafUf45tVQ0DU1/M1y15DQJVgFn+AWUNAs0uvKIBYQ0CzS68ogFhDQKMTUzO1skNAMpOoF3yyQ0B8kuCyr6NDQD33eeerlUNAtyqJ7INSQ0CBFly91EFDQGt4H+y58UJA62S6Idf0QkC7ODtjqSBDQPT+mgcLrkJAnSqEep/9QkBAleTK6ttCQDze5Lfo5kJAICbhQh6tRUCQK5pzlZpFQI9SCU/oqkVAR57azxiSRUBMz6qFSJBFQEWYR6OnokVAFiTH51+kRUBUjsni/ptFQAVQjCyZkkVAXslEACaWRUA78Hvli7xFQFr6K79nv0VA5cY+EkC7RUAqLthXaLBFQERT0bO0tEVAM9cO6zK1RUCbNoh70atFQE8eu7DapEVAR7DMti6lRUCUSnhCr6hFQHbTd8jehEVAqk5iaxGmRUCy+n7FdW9FQJUtknajaUVAYAZjRKJeRUDcVy/Q/2NFQARSBx6EBERASf4WU58IREAf2zLgLA1EQO0+bI4Y+kNAfsETH0TzQ0CMoZxoV+tDQNv+8E6Z30NA3zZTIR7gQ0CrgZzm0wBEQAu45/nTEkRA4eb5eI0RREANHgE35hNEQD1UCQVb/URA25VMBGDnRECdYQ+SqutEQHi2R2+48kRA3LS+7a73REBip7PuegNFQLF0mfW9BEVAu+dluREGRUCkIgSavghFQF2SXi+oD0VAHXACeLAbRUA+6xotBxZFQPfq46HvLkVAKuJ0kq0pRUDNJEW/ETRFQL8YgPxbNkVAFWbrKu4hRUBj+D4L+CBFQMnmqnmOl0JAGjGzz2OWQkCIbebrjahCQOavkLkyrEJAmh652i+3QkDFZLuMrLJCQNINXgVCS0RAo3cq4J5fRECXOPJAZGpEQLmKxW8Kd0RAHvzEAfRzREDRIAVPIYlEQJBKsaNxdERAfVuwVBd6REABMnTsoIBEQJhp+1dWoEJArRVtjnPTQkB+jLlrCctCQEoH6/8cwkJAyKpSxDPcQkDfGtgqweRCQAH0oEVb80JA20R3Wsj2QkDR2bi00AZDQK+ytikeu0JA9KW3PxevQkD4bB0c7KdCQHGHl/EAskJAgJ2bNuOtQkCQDrSnibFCQNo5zQLtskJACbO/ohERRUBNwApLl+hEQEKN59jm/ERALdeR2Q/4REBktr8O9/REQMXgBiHF7ERAaGWxA51CRUB6K1yg7jJFQM0PEljvSUVAzW0MS01QRUDRiySLRSNFQJc8+U+SKEVAnFX6ZCAsRUBsntlkQxpFQLgGtkqwMEVAZj+c0aAzRUDyQ6URM1hFQI8GpoktYEVAbeF5qdjjQkBLrmLxmxtDQINIK2Po9EJA0nKgh9oIQ0BeGa/UDtRCQG4OIfgp/UJAYutjT0wBQ0AyOEpenQNDQF1OCYhJTEVA1fvXA/c6RUBKa8KsBk5FQLhdw2dGL0VAgRmdPeE6RUCCmDp+XilFQHGk2HZ/NkVA6WSp9X43RUBF2VvK+VBFQN3u5T45TEVAnG9E96xNRUDQhrKmaEZFQPP9eb92O0VAgCiYMQU1RUBAtKBBVDZFQLqJtVPORkVAwJMWLqtMRUDORCJ+D0tFQOOmBprPRUVADhKifEFFRUD7wnXWuERFQI+lD11QbUVAylAVU+lmRUDkfPuE/W9FQAeP29Tld0VAEEXc9wN+RUBPG3owzjpFQHznvGt1z0RA2w6y0d7GREAv5wjPOtZEQPxnFx3a0ERALiF6rd/QREAxm1t8ZdFEQARmz6/30ERAXvex3ZjRREBBXN7B9NNEQFMztbY600RApVZOMb3SREBwTAXLx8JEQGd7mc2IwERASbZf45/FREDP3J57arZEQFapj3aSOkVAfFbjtsc4RUDTO8vitEpFQEOYkTDCJ0VAXAWMiSg0RUAFYE2v3hdFQGRxpNh2HUVAhiHNs+2BRUBABXbr65ZFQHam0HmNO0VAcVga+FFERUDM0HgiiI9FQEu9uJ4ylkVAZhAf2PGURUANNQpJZjJFQM4GT9fJQ0VA6BrBIa82RUBA3NWryD1FQAWaGUf2OUVA/YCsTJ06RUC+VMeFXmRFQJJaKJmcakVAaKOEquIzREAcBMLz90REQCetrvmnQkRAIoTsYdRIRECjZv6HqkhEQIkX+haM+UNArFYm/FJaREBLJCyFm4NCQKNgIc4ehEJAKq6FtCGAQkBJhncUQmVCQEeaLnpdW0JAvrylQXZMQkCLBAlAklRCQFDFjVvMX0JAfqHs0itFQkCJRWf0/ohCQPASQUHOhEJA1k3O9SJ0QkDJ2YUwyG9CQPwutlpxzUJASymeaXgiQ0AGKLJ7lx9DQFtn1xjP6EJA17CVhtAQQ0DNbKF1nt9CQNssA3OZaUVAXLhiNUxDRUDrVs9J7yNFQBN2m4HbKkVATjlwGBY+RUCk374OnAdFQFJgAUwZ9URAWjW+5aD/RECjpTwEnzRFQJaYwt4fFkVAKl2wCopyRUCvpZHgV3JFQJ3OXzKfdEVAHT1+b9N1RUCRy8nV2SxFQOTndXqUKkVAwqONI9Y8RUCcqABziDVFQK4Sh8fZNUVAdmT2wxk1RUDc/HVdrjRFQG1CtRxDMkVAV8DzQYUlRUADyeDNvzlFQOzdH+9VK0VAj8dnDTk3RUBL/szFhEJFQN2YnrDEB0VARfRr66c0RUBFUfsIVzNFQPFneLMGjUVAoSsRqP4BRUAJPIs5YwZFQJzmeGBb9URA6wkBr4XvREDXbOUl//xEQPLWVHE+CkVAJ5EzA0sTRUC5ROSqaA1FQIlnZOt0GEVAl6671GMfRUDvCAK/oUxFQIc2W9SCDUVAoz808+QORUCuremLzhZFQGRVKeIZG0VAvwrw3eYhRUCyFY/mIzVFQDFutC0UVEVAuqC+ZU49RUAd7n5wmVxFQC6PNSODZEVA7Z48LNRoRUCQgqeQKzhFQLxXrUz4NUVAKM9hYwMeRUBs6GZ/oB5FQHG1qRUBFUVACsWxiSccRUDa5Vsf1hNFQJO00e+xDUVAYzsp3acJRUBJDn0ccgpFQNcnyu9+EUVA5yBDIsgLRUA6CQDp9lBFQM/AI4UNTUVA9Fq/TwtWRUBaa4NuilxFQFtMIrGTK0VAKgU4GEVCRUC7b8Z6tCdFQDT6LCo9B0VA7hUnCGgIRUBrfTYXJAdFQJ7uPPGcJEVAOKUXELUkRUD/0MyTayRFQDGvyFRmfERAMW3unvJyREDd0mpI3HlEQKB16E92fERA8piByvh9REC+53blaX1EQFYIUPgRkURAZS4VwDmKREBVOrO4WoVEQAE35tB9gURA902rMp1MREBiTPp7KYhEQPP3nAXrTURAiOBu/4B0RECKyoY1lXdEQHjt0obDW0RAXiwMkdNeREDDfB5Ig1tEQGlavR6nbURAZTDrapdqREBv7lRlhGZEQNpxw++mY0RAXYzcLo8LQ0A6tvnajtpCQLJWow12nEJAvtu8cVKiQkClFxC1yKpCQLcHxmbsnUJA88gfDDyvQkA2YhwSreBEQAaeew+XvkRASriQR3CRRECldQqoJpVEQDoB8sqam0RAUr2QacihREDDxqti4NFEQPff77z5y0RAHTehtUeOREAue8hKgpFEQCsBjMKJlERA9RSU/U6VREDa5zHKM7BEQMogLYSLs0RAgnLbvkezREBUoSafw6hEQJfoh2x7oURAlZo90AqbREAscdNVcI5EQOqOan02q0RAADIZMy6nREDauuU0VWdEQNWeSOZHTERAGF5J8lydREAd7n5wmZhEQAAsPHmijURAY9tYP+yRREC8uOi/YpJEQOBNt+wQkURASokTTsGQRECkkSrlEI1EQJT3cTRHjERAGlBvRs2cRECbUC3H0J9EQA9SpodXl0RAVvTiHxGlREB8taM4R5JEQF8kWSzqiURAQH7buGqLRECxicxc4IhEQBVjT/FucURA46qy74qXREDEpAkl3ZdEQKtGCsCanERA91DssqmeREAlQbgCCqBEQG+3yU15f0RAIB7TJMKFREDYYrfPKmNEQCBqkaPvZ0RADGAlenRgRECiLxi3LGFEQGrqK/6lK0RA0EVDxqNzREA6CQDp9mVEQPRCS2jcbERA3FCMh1JJREAjzP6KRjpEQNZwkXu6aURAS6shcY9XREAnHNVE+iJEQEjKcQIuG0RAxQvYxLgSREARV87eGQ9EQLt9VpkpDkRAf/rPmh+IREDBFmDE441EQFFgS9kzgURA+ylEdpR6REC9yjVg63dEQIMWEjC6nERAXy+oylKXREDI3Gv3Ye5DQAS/V754D0RAnml4aXn7Q0AOx6mMNQBEQErBCTt7/ENAU9GztK77Q0AIFzyWiPxDQAKVO31O/UNAZusq7on5Q0Am6Iqt+/VDQLFJIws9/ENAzPitjPz6Q0DBzxMqk/BDQGgO/5953ENA7DzgcNXYQ0ATB3U2icBDQLAXrx6cz0NAwggrX+G6Q0Bwd3u1SM9DQMv4UtOJ0kNAw3hy8sfCQ0BVlcfkHnhDQP1s5LopdUNASxweZz9sQ0CL89znnWdDQN5Ij5VOakNAUOZ6NgZvQ0DHc8esKHFDQJnn0gmyfENACfYELjTSREA/xty1hNREQK7RF+cUw0RAVwUPeAWvRECCIJs/AbZEQFKco46OvkRAUrJBy1/eREB8365NGeJEQNbIrrSM50RA9wZfmEylREDgJYKCnKhEQF+zXDY6oURArkp9tJObRECSZAxiVphEQMacDDPZqkRA7+U+OQrCREBMmB9uPddEQNn5yPfWBUVAH9lcNc/hRECxpx3+mudEQDaEdMKV7ERAaPwMuWPtRECp55PLNflEQDMEtjmEwURAHh+Ih4upREBZ584Co6dEQK02WmmtpURAP74pUZuoREAlICbhQr1EQJCk/0AUvURAcERSZt68REDcDUf8L8BEQHO0T2yqw0RAQ3QIHAnOREAkWSzqOKZEQAox8g3gpURAKHqFqj2pREDCL/XzpshEQMt4pXbQ0URA5ayZxkDYREDOD20RYt9EQI4hADj2tkRAtq0cENe4REDbCxaYX6xEQMZ6tILwtURAGV9qOvGqREBgkzXqIcVEQLP7nw0KvERA10v4SsWzREBr9TAP9KREQF+nosIimURARmLd0zCVREAm01dG2ZFEQLFgLB294kRA5pyOtuDkRECcgTbewulEQAzcy8f/7kRA4wlzcQrnREAPttjts55EQIyQcBBjnURArsIc8/DBREAdLoN7r7VEQBulprgFqURARnh7EAKeREC2aAHaVptEQNSS2P9K8ERAO1owTAHiREDsUbgehR9DQMVVZd8VcUJAdxA7U+iIREAVUn5S7X9EQKd0sP7PBUVAeweJ/hqtRUBVSzrKwTpFQI4CRMGMOEVA3ZbIBWf2R0CHUnsRbWtIQN8zEqERbEhAfoy5awmrRUDdPxaiQ85FQFBUNqypSkdAldOeknOYRUDeVKTC2KZFQMR3YtaLzUVAesN95Na0RUAo8bkT7JtFQJZ7gVmhqEVAqODwgojqRUCVYkfjUOFGQHZQiesYWUVA3xtDAHDKR0CUwVHy6n5GQEZ4exAC9kVAKXXJOEa6RUBxyXGndARFQIW2nEtxzUVAv9TPm4r4RUDS4/c2/fVFQHyb/uxHukVAgIKLFTXMRUDDR8SUSLpEQIWUn1T72ERA7C+7Jw+TREDsF+yGbVtDQLX9KytNYkNAe4hGdxC7Q0BPdcjNcNtDQBr6J7hY9UNAm6xRD9EcREAuHAjJAjJEQFCNl24SS0RATKYKRiVVREAJFoczv0ZEQGFUUiegTURA88gfDDwzREA=",
          "dtype": "f8"
         },
         "legendgroup": "",
         "lon": {
          "bdata": "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",
          "dtype": "f8"
         },
         "marker": {
          "color": "#636efa",
          "sizeref": 1000
         },
         "mode": "markers",
         "name": "",
         "showlegend": false,
         "subplot": "map",
         "type": "scattermap"
        }
       ],
       "layout": {
        "coloraxis": {
         "colorbar": {
          "title": {
           "text": "asdf"
          }
         }
        },
        "geo": {
         "fitbounds": "locations"
        },
        "height": 1000,
        "legend": {
         "tracegroupgap": 0
        },
        "map": {
         "center": {
          "lat": 40.92518961842106,
          "lon": -3.2729253099071207
         },
         "domain": {
          "x": [
           0,
           1
          ],
          "y": [
           0,
           1
          ]
         },
         "zoom": 5
        },
        "mapbox": {
         "center": {
          "lat": 40.92518961842106,
          "lon": -3.2729253099071207
         },
         "style": "open-street-map",
         "zoom": 5
        },
        "margin": {
         "b": 50,
         "l": 50,
         "r": 50,
         "t": 50
        },
        "template": {
         "data": {
          "bar": [
           {
            "error_x": {
             "color": "#2a3f5f"
            },
            "error_y": {
             "color": "#2a3f5f"
            },
            "marker": {
             "line": {
              "color": "#E5ECF6",
              "width": 0.5
             },
             "pattern": {
              "fillmode": "overlay",
              "size": 10,
              "solidity": 0.2
             }
            },
            "type": "bar"
           }
          ],
          "barpolar": [
           {
            "marker": {
             "line": {
              "color": "#E5ECF6",
              "width": 0.5
             },
             "pattern": {
              "fillmode": "overlay",
              "size": 10,
              "solidity": 0.2
             }
            },
            "type": "barpolar"
           }
          ],
          "carpet": [
           {
            "aaxis": {
             "endlinecolor": "#2a3f5f",
             "gridcolor": "white",
             "linecolor": "white",
             "minorgridcolor": "white",
             "startlinecolor": "#2a3f5f"
            },
            "baxis": {
             "endlinecolor": "#2a3f5f",
             "gridcolor": "white",
             "linecolor": "white",
             "minorgridcolor": "white",
             "startlinecolor": "#2a3f5f"
            },
            "type": "carpet"
           }
          ],
          "choropleth": [
           {
            "colorbar": {
             "outlinewidth": 0,
             "ticks": ""
            },
            "type": "choropleth"
           }
          ],
          "contour": [
           {
            "colorbar": {
             "outlinewidth": 0,
             "ticks": ""
            },
            "colorscale": [
             [
              0,
              "#0d0887"
             ],
             [
              0.1111111111111111,
              "#46039f"
             ],
             [
              0.2222222222222222,
              "#7201a8"
             ],
             [
              0.3333333333333333,
              "#9c179e"
             ],
             [
              0.4444444444444444,
              "#bd3786"
             ],
             [
              0.5555555555555556,
              "#d8576b"
             ],
             [
              0.6666666666666666,
              "#ed7953"
             ],
             [
              0.7777777777777778,
              "#fb9f3a"
             ],
             [
              0.8888888888888888,
              "#fdca26"
             ],
             [
              1,
              "#f0f921"
             ]
            ],
            "type": "contour"
           }
          ],
          "contourcarpet": [
           {
            "colorbar": {
             "outlinewidth": 0,
             "ticks": ""
            },
            "type": "contourcarpet"
           }
          ],
          "heatmap": [
           {
            "colorbar": {
             "outlinewidth": 0,
             "ticks": ""
            },
            "colorscale": [
             [
              0,
              "#0d0887"
             ],
             [
              0.1111111111111111,
              "#46039f"
             ],
             [
              0.2222222222222222,
              "#7201a8"
             ],
             [
              0.3333333333333333,
              "#9c179e"
             ],
             [
              0.4444444444444444,
              "#bd3786"
             ],
             [
              0.5555555555555556,
              "#d8576b"
             ],
             [
              0.6666666666666666,
              "#ed7953"
             ],
             [
              0.7777777777777778,
              "#fb9f3a"
             ],
             [
              0.8888888888888888,
              "#fdca26"
             ],
             [
              1,
              "#f0f921"
             ]
            ],
            "type": "heatmap"
           }
          ],
          "histogram": [
           {
            "marker": {
             "pattern": {
              "fillmode": "overlay",
              "size": 10,
              "solidity": 0.2
             }
            },
            "type": "histogram"
           }
          ],
          "histogram2d": [
           {
            "colorbar": {
             "outlinewidth": 0,
             "ticks": ""
            },
            "colorscale": [
             [
              0,
              "#0d0887"
             ],
             [
              0.1111111111111111,
              "#46039f"
             ],
             [
              0.2222222222222222,
              "#7201a8"
             ],
             [
              0.3333333333333333,
              "#9c179e"
             ],
             [
              0.4444444444444444,
              "#bd3786"
             ],
             [
              0.5555555555555556,
              "#d8576b"
             ],
             [
              0.6666666666666666,
              "#ed7953"
             ],
             [
              0.7777777777777778,
              "#fb9f3a"
             ],
             [
              0.8888888888888888,
              "#fdca26"
             ],
             [
              1,
              "#f0f921"
             ]
            ],
            "type": "histogram2d"
           }
          ],
          "histogram2dcontour": [
           {
            "colorbar": {
             "outlinewidth": 0,
             "ticks": ""
            },
            "colorscale": [
             [
              0,
              "#0d0887"
             ],
             [
              0.1111111111111111,
              "#46039f"
             ],
             [
              0.2222222222222222,
              "#7201a8"
             ],
             [
              0.3333333333333333,
              "#9c179e"
             ],
             [
              0.4444444444444444,
              "#bd3786"
             ],
             [
              0.5555555555555556,
              "#d8576b"
             ],
             [
              0.6666666666666666,
              "#ed7953"
             ],
             [
              0.7777777777777778,
              "#fb9f3a"
             ],
             [
              0.8888888888888888,
              "#fdca26"
             ],
             [
              1,
              "#f0f921"
             ]
            ],
            "type": "histogram2dcontour"
           }
          ],
          "mesh3d": [
           {
            "colorbar": {
             "outlinewidth": 0,
             "ticks": ""
            },
            "type": "mesh3d"
           }
          ],
          "parcoords": [
           {
            "line": {
             "colorbar": {
              "outlinewidth": 0,
              "ticks": ""
             }
            },
            "type": "parcoords"
           }
          ],
          "pie": [
           {
            "automargin": true,
            "type": "pie"
           }
          ],
          "scatter": [
           {
            "fillpattern": {
             "fillmode": "overlay",
             "size": 10,
             "solidity": 0.2
            },
            "type": "scatter"
           }
          ],
          "scatter3d": [
           {
            "line": {
             "colorbar": {
              "outlinewidth": 0,
              "ticks": ""
             }
            },
            "marker": {
             "colorbar": {
              "outlinewidth": 0,
              "ticks": ""
             }
            },
            "type": "scatter3d"
           }
          ],
          "scattercarpet": [
           {
            "marker": {
             "colorbar": {
              "outlinewidth": 0,
              "ticks": ""
             }
            },
            "type": "scattercarpet"
           }
          ],
          "scattergeo": [
           {
            "marker": {
             "colorbar": {
              "outlinewidth": 0,
              "ticks": ""
             }
            },
            "type": "scattergeo"
           }
          ],
          "scattergl": [
           {
            "marker": {
             "colorbar": {
              "outlinewidth": 0,
              "ticks": ""
             }
            },
            "type": "scattergl"
           }
          ],
          "scattermap": [
           {
            "marker": {
             "colorbar": {
              "outlinewidth": 0,
              "ticks": ""
             }
            },
            "type": "scattermap"
           }
          ],
          "scattermapbox": [
           {
            "marker": {
             "colorbar": {
              "outlinewidth": 0,
              "ticks": ""
             }
            },
            "type": "scattermapbox"
           }
          ],
          "scatterpolar": [
           {
            "marker": {
             "colorbar": {
              "outlinewidth": 0,
              "ticks": ""
             }
            },
            "type": "scatterpolar"
           }
          ],
          "scatterpolargl": [
           {
            "marker": {
             "colorbar": {
              "outlinewidth": 0,
              "ticks": ""
             }
            },
            "type": "scatterpolargl"
           }
          ],
          "scatterternary": [
           {
            "marker": {
             "colorbar": {
              "outlinewidth": 0,
              "ticks": ""
             }
            },
            "type": "scatterternary"
           }
          ],
          "surface": [
           {
            "colorbar": {
             "outlinewidth": 0,
             "ticks": ""
            },
            "colorscale": [
             [
              0,
              "#0d0887"
             ],
             [
              0.1111111111111111,
              "#46039f"
             ],
             [
              0.2222222222222222,
              "#7201a8"
             ],
             [
              0.3333333333333333,
              "#9c179e"
             ],
             [
              0.4444444444444444,
              "#bd3786"
             ],
             [
              0.5555555555555556,
              "#d8576b"
             ],
             [
              0.6666666666666666,
              "#ed7953"
             ],
             [
              0.7777777777777778,
              "#fb9f3a"
             ],
             [
              0.8888888888888888,
              "#fdca26"
             ],
             [
              1,
              "#f0f921"
             ]
            ],
            "type": "surface"
           }
          ],
          "table": [
           {
            "cells": {
             "fill": {
              "color": "#EBF0F8"
             },
             "line": {
              "color": "white"
             }
            },
            "header": {
             "fill": {
              "color": "#C8D4E3"
             },
             "line": {
              "color": "white"
             }
            },
            "type": "table"
           }
          ]
         },
         "layout": {
          "annotationdefaults": {
           "arrowcolor": "#2a3f5f",
           "arrowhead": 0,
           "arrowwidth": 1
          },
          "autotypenumbers": "strict",
          "coloraxis": {
           "colorbar": {
            "outlinewidth": 0,
            "ticks": ""
           }
          },
          "colorscale": {
           "diverging": [
            [
             0,
             "#8e0152"
            ],
            [
             0.1,
             "#c51b7d"
            ],
            [
             0.2,
             "#de77ae"
            ],
            [
             0.3,
             "#f1b6da"
            ],
            [
             0.4,
             "#fde0ef"
            ],
            [
             0.5,
             "#f7f7f7"
            ],
            [
             0.6,
             "#e6f5d0"
            ],
            [
             0.7,
             "#b8e186"
            ],
            [
             0.8,
             "#7fbc41"
            ],
            [
             0.9,
             "#4d9221"
            ],
            [
             1,
             "#276419"
            ]
           ],
           "sequential": [
            [
             0,
             "#0d0887"
            ],
            [
             0.1111111111111111,
             "#46039f"
            ],
            [
             0.2222222222222222,
             "#7201a8"
            ],
            [
             0.3333333333333333,
             "#9c179e"
            ],
            [
             0.4444444444444444,
             "#bd3786"
            ],
            [
             0.5555555555555556,
             "#d8576b"
            ],
            [
             0.6666666666666666,
             "#ed7953"
            ],
            [
             0.7777777777777778,
             "#fb9f3a"
            ],
            [
             0.8888888888888888,
             "#fdca26"
            ],
            [
             1,
             "#f0f921"
            ]
           ],
           "sequentialminus": [
            [
             0,
             "#0d0887"
            ],
            [
             0.1111111111111111,
             "#46039f"
            ],
            [
             0.2222222222222222,
             "#7201a8"
            ],
            [
             0.3333333333333333,
             "#9c179e"
            ],
            [
             0.4444444444444444,
             "#bd3786"
            ],
            [
             0.5555555555555556,
             "#d8576b"
            ],
            [
             0.6666666666666666,
             "#ed7953"
            ],
            [
             0.7777777777777778,
             "#fb9f3a"
            ],
            [
             0.8888888888888888,
             "#fdca26"
            ],
            [
             1,
             "#f0f921"
            ]
           ]
          },
          "colorway": [
           "#636efa",
           "#EF553B",
           "#00cc96",
           "#ab63fa",
           "#FFA15A",
           "#19d3f3",
           "#FF6692",
           "#B6E880",
           "#FF97FF",
           "#FECB52"
          ],
          "font": {
           "color": "#2a3f5f"
          },
          "geo": {
           "bgcolor": "white",
           "lakecolor": "white",
           "landcolor": "#E5ECF6",
           "showlakes": true,
           "showland": true,
           "subunitcolor": "white"
          },
          "hoverlabel": {
           "align": "left"
          },
          "hovermode": "closest",
          "mapbox": {
           "style": "light"
          },
          "paper_bgcolor": "white",
          "plot_bgcolor": "#E5ECF6",
          "polar": {
           "angularaxis": {
            "gridcolor": "white",
            "linecolor": "white",
            "ticks": ""
           },
           "bgcolor": "#E5ECF6",
           "radialaxis": {
            "gridcolor": "white",
            "linecolor": "white",
            "ticks": ""
           }
          },
          "scene": {
           "xaxis": {
            "backgroundcolor": "#E5ECF6",
            "gridcolor": "white",
            "gridwidth": 2,
            "linecolor": "white",
            "showbackground": true,
            "ticks": "",
            "zerolinecolor": "white"
           },
           "yaxis": {
            "backgroundcolor": "#E5ECF6",
            "gridcolor": "white",
            "gridwidth": 2,
            "linecolor": "white",
            "showbackground": true,
            "ticks": "",
            "zerolinecolor": "white"
           },
           "zaxis": {
            "backgroundcolor": "#E5ECF6",
            "gridcolor": "white",
            "gridwidth": 2,
            "linecolor": "white",
            "showbackground": true,
            "ticks": "",
            "zerolinecolor": "white"
           }
          },
          "shapedefaults": {
           "line": {
            "color": "#2a3f5f"
           }
          },
          "ternary": {
           "aaxis": {
            "gridcolor": "white",
            "linecolor": "white",
            "ticks": ""
           },
           "baxis": {
            "gridcolor": "white",
            "linecolor": "white",
            "ticks": ""
           },
           "bgcolor": "#E5ECF6",
           "caxis": {
            "gridcolor": "white",
            "linecolor": "white",
            "ticks": ""
           }
          },
          "title": {
           "x": 0.05
          },
          "xaxis": {
           "automargin": true,
           "gridcolor": "white",
           "linecolor": "white",
           "ticks": "",
           "title": {
            "standoff": 15
           },
           "zerolinecolor": "white",
           "zerolinewidth": 2
          },
          "yaxis": {
           "automargin": true,
           "gridcolor": "white",
           "linecolor": "white",
           "ticks": "",
           "title": {
            "standoff": 15
           },
           "zerolinecolor": "white",
           "zerolinewidth": 2
          }
         }
        },
        "title": {
         "text": "Train Stations in Spain "
        },
        "width": 1000
       }
      }
     },
     "metadata": {},
     "output_type": "display_data"
    }
   ],
   "source": [
    "title = \"Train Stations (LD, MD, High Speed) in Spain\"\n",
    "\n",
    "lats = df_trains.latitude\n",
    "lons = df_trains.longitude\n",
    "\n",
    "fig = px.scatter_map(df_trains, \n",
    "                     lat=lats, \n",
    "                     lon=lons,\n",
    "                     hover_data=[\"municipality_clean\", \"station_name\"], \n",
    "                     color_continuous_scale=px.colors.carto.Aggrnyl,\n",
    "                     zoom=5,\n",
    "                     size_max=50  # Increase max size of markers\n",
    "                     )\n",
    "\n",
    "# Adjust the size reference to make small points more visible\n",
    "fig.update_traces(marker=dict(sizeref=1000))  # Decrease this value to make points larger\n",
    "\n",
    "fig.update_geos(fitbounds=\"locations\")\n",
    "fig.update_layout(height=1000, width=1000)\n",
    "fig.update_layout(mapbox_style=\"open-street-map\")\n",
    "fig.update_layout(margin={\"r\":50,\"t\":50,\"l\":50,\"b\":50})\n",
    "fig.update_layout(\n",
    "    coloraxis_colorbar=dict(title='asdf')\n",
    ")\n",
    "fig.update_layout(title=\"Train Stations in Spain \")\n",
    "\n",
    "fig.show()"
   ]
  },
  {
   "cell_type": "code",
   "execution_count": 13,
   "metadata": {},
   "outputs": [],
   "source": [
    "df_trains.to_csv(\"../data/processed/filtered_trains.csv\", index=False)"
   ]
  }
 ],
 "metadata": {
  "kernelspec": {
   "display_name": ".venv",
   "language": "python",
   "name": "python3"
  },
  "language_info": {
   "codemirror_mode": {
    "name": "ipython",
    "version": 3
   },
   "file_extension": ".py",
   "mimetype": "text/x-python",
   "name": "python",
   "nbconvert_exporter": "python",
   "pygments_lexer": "ipython3",
   "version": "3.11.3"
  }
 },
 "nbformat": 4,
 "nbformat_minor": 2
}
