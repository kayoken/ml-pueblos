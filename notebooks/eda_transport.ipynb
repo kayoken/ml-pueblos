{
 "cells": [
  {
   "cell_type": "code",
   "execution_count": 1,
   "metadata": {
    "execution": {
     "iopub.execute_input": "2025-02-17T09:35:05.442836Z",
     "iopub.status.busy": "2025-02-17T09:35:05.442415Z",
     "iopub.status.idle": "2025-02-17T09:35:05.765956Z",
     "shell.execute_reply": "2025-02-17T09:35:05.765658Z"
    }
   },
   "outputs": [],
   "source": [
    "import sys\n",
    "import os\n",
    "import re\n",
    "sys.path.insert(0, os.path.abspath(os.path.join(os.getcwd(), '..')))\n",
    "import pandas as pd\n",
    "import plotly.express as px\n",
    "import numpy as np\n",
    "import geopandas as gpd\n",
    "from pyproj import Transformer\n",
    "from scripts.utils import split_column_at\n",
    "from scripts.accent_cleaner import AccentCleaner\n",
    "#from deep_translator import GoogleTranslator"
   ]
  },
  {
   "cell_type": "markdown",
   "metadata": {},
   "source": [
    "### Airports"
   ]
  },
  {
   "cell_type": "code",
   "execution_count": 2,
   "metadata": {
    "execution": {
     "iopub.execute_input": "2025-02-17T09:35:05.767501Z",
     "iopub.status.busy": "2025-02-17T09:35:05.767369Z",
     "iopub.status.idle": "2025-02-17T09:35:05.786293Z",
     "shell.execute_reply": "2025-02-17T09:35:05.785983Z"
    }
   },
   "outputs": [
    {
     "data": {
      "text/html": [
       "<div>\n",
       "<style scoped>\n",
       "    .dataframe tbody tr th:only-of-type {\n",
       "        vertical-align: middle;\n",
       "    }\n",
       "\n",
       "    .dataframe tbody tr th {\n",
       "        vertical-align: top;\n",
       "    }\n",
       "\n",
       "    .dataframe thead th {\n",
       "        text-align: right;\n",
       "    }\n",
       "</style>\n",
       "<table border=\"1\" class=\"dataframe\">\n",
       "  <thead>\n",
       "    <tr style=\"text-align: right;\">\n",
       "      <th></th>\n",
       "      <th>airport_id</th>\n",
       "      <th>airport_name</th>\n",
       "      <th>latitude</th>\n",
       "      <th>longitude</th>\n",
       "    </tr>\n",
       "  </thead>\n",
       "  <tbody>\n",
       "    <tr>\n",
       "      <th>0</th>\n",
       "      <td>1</td>\n",
       "      <td>Aeropuerto de Jerez</td>\n",
       "      <td>36.743828</td>\n",
       "      <td>-6.062658</td>\n",
       "    </tr>\n",
       "    <tr>\n",
       "      <th>1</th>\n",
       "      <td>2</td>\n",
       "      <td>Aeropuerto de Vigo</td>\n",
       "      <td>42.225740</td>\n",
       "      <td>-8.630491</td>\n",
       "    </tr>\n",
       "    <tr>\n",
       "      <th>2</th>\n",
       "      <td>3</td>\n",
       "      <td>Aeropuerto de Badajoz</td>\n",
       "      <td>38.889845</td>\n",
       "      <td>-6.821121</td>\n",
       "    </tr>\n",
       "    <tr>\n",
       "      <th>3</th>\n",
       "      <td>4</td>\n",
       "      <td>Aeropuerto de Granada - Jaén F.G.L.</td>\n",
       "      <td>37.186826</td>\n",
       "      <td>-3.778613</td>\n",
       "    </tr>\n",
       "    <tr>\n",
       "      <th>4</th>\n",
       "      <td>5</td>\n",
       "      <td>Aeropuerto de Almería</td>\n",
       "      <td>36.844781</td>\n",
       "      <td>-2.371234</td>\n",
       "    </tr>\n",
       "  </tbody>\n",
       "</table>\n",
       "</div>"
      ],
      "text/plain": [
       "   airport_id                         airport_name   latitude  longitude\n",
       "0           1                  Aeropuerto de Jerez  36.743828  -6.062658\n",
       "1           2                   Aeropuerto de Vigo  42.225740  -8.630491\n",
       "2           3                Aeropuerto de Badajoz  38.889845  -6.821121\n",
       "3           4  Aeropuerto de Granada - Jaén F.G.L.  37.186826  -3.778613\n",
       "4           5                Aeropuerto de Almería  36.844781  -2.371234"
      ]
     },
     "execution_count": 2,
     "metadata": {},
     "output_type": "execute_result"
    }
   ],
   "source": [
    "# Read the GeoJSON file\n",
    "gdf = gpd.read_file('../data/raw/spanish_airports.geojson')\n",
    "# Ensure that the geometry column contains points\n",
    "# Extract latitude and longitude from the geometry column\n",
    "gdf['latitude'] = gdf.geometry.y\n",
    "gdf['longitude'] = gdf.geometry.x\n",
    "\n",
    "# Now drop the geometry column if you don't need it anymore\n",
    "df_airports = gdf.drop(columns='geometry')\n",
    "\n",
    "df_airports.rename(columns={\"Texto\": \"airport_name\", \"OBJECTID\": \"airport_id\", \"lat\": \"latitude\", \"lon\": \"longitude\"}, inplace=True)\n",
    "df_airports.head()"
   ]
  },
  {
   "cell_type": "code",
   "execution_count": 3,
   "metadata": {},
   "outputs": [
    {
     "data": {
      "text/html": [
       "<div>\n",
       "<style scoped>\n",
       "    .dataframe tbody tr th:only-of-type {\n",
       "        vertical-align: middle;\n",
       "    }\n",
       "\n",
       "    .dataframe tbody tr th {\n",
       "        vertical-align: top;\n",
       "    }\n",
       "\n",
       "    .dataframe thead th {\n",
       "        text-align: right;\n",
       "    }\n",
       "</style>\n",
       "<table border=\"1\" class=\"dataframe\">\n",
       "  <thead>\n",
       "    <tr style=\"text-align: right;\">\n",
       "      <th></th>\n",
       "      <th>airport_id</th>\n",
       "      <th>airport</th>\n",
       "      <th>latitude</th>\n",
       "      <th>longitude</th>\n",
       "    </tr>\n",
       "  </thead>\n",
       "  <tbody>\n",
       "    <tr>\n",
       "      <th>0</th>\n",
       "      <td>1</td>\n",
       "      <td>Jerez</td>\n",
       "      <td>36.743828</td>\n",
       "      <td>-6.062658</td>\n",
       "    </tr>\n",
       "    <tr>\n",
       "      <th>1</th>\n",
       "      <td>2</td>\n",
       "      <td>Vigo</td>\n",
       "      <td>42.225740</td>\n",
       "      <td>-8.630491</td>\n",
       "    </tr>\n",
       "    <tr>\n",
       "      <th>2</th>\n",
       "      <td>3</td>\n",
       "      <td>Badajoz</td>\n",
       "      <td>38.889845</td>\n",
       "      <td>-6.821121</td>\n",
       "    </tr>\n",
       "    <tr>\n",
       "      <th>3</th>\n",
       "      <td>4</td>\n",
       "      <td>Granada - Jaén F.G.L.</td>\n",
       "      <td>37.186826</td>\n",
       "      <td>-3.778613</td>\n",
       "    </tr>\n",
       "    <tr>\n",
       "      <th>4</th>\n",
       "      <td>5</td>\n",
       "      <td>Almería</td>\n",
       "      <td>36.844781</td>\n",
       "      <td>-2.371234</td>\n",
       "    </tr>\n",
       "  </tbody>\n",
       "</table>\n",
       "</div>"
      ],
      "text/plain": [
       "   airport_id                airport   latitude  longitude\n",
       "0           1                  Jerez  36.743828  -6.062658\n",
       "1           2                   Vigo  42.225740  -8.630491\n",
       "2           3                Badajoz  38.889845  -6.821121\n",
       "3           4  Granada - Jaén F.G.L.  37.186826  -3.778613\n",
       "4           5                Almería  36.844781  -2.371234"
      ]
     },
     "execution_count": 3,
     "metadata": {},
     "output_type": "execute_result"
    }
   ],
   "source": [
    "df_airports[\"airport_name\"] = df_airports[\"airport_name\"].str.replace(r\"^Aeropuerto de \", \"\", regex=True)\n",
    "df_airports.rename(columns={\"airport_name\": \"airport\"}, inplace=True)\n",
    "df_airports.head()"
   ]
  },
  {
   "cell_type": "code",
   "execution_count": 4,
   "metadata": {},
   "outputs": [],
   "source": [
    "df_airports[\"airport\"] = df_airports[\"airport\"].replace(\"Girona - Costa Brava\", \"Gerona - Costa Brava\")\n",
    "df_airports[\"airport\"] = df_airports[\"airport\"].replace(\"Lanzarote\", \"César Manrique - Lanzarote\")\n",
    "df_airports[\"airport\"] = df_airports[\"airport\"].replace(\"Barcelona - El prat\", \"Josep Tarradellas Barcelona-El Prat\")\n",
    "df_airports[\"airport\"] = df_airports[\"airport\"].replace(\"Granada - Jaén F.G.L.\", \"Federico García Lorca Granada-Jaén\")\n",
    "df_airports[\"airport\"] = df_airports[\"airport\"].replace(\"Murcia - San Javier\", \"Internacional Región de Murcia\")\n",
    "df_airports[\"airport\"] = df_airports[\"airport\"].replace(\"Huesca Pirineos\", \"Huesca-Pirineos\")\n",
    "df_airports[\"airport\"] = df_airports[\"airport\"].replace(\"Tenerife Norte \", \"Tenerife Norte-Ciudad de La Laguna\")\n",
    "df_airports[\"airport\"] = df_airports[\"airport\"].replace(\"Santiago\", \"Santiago-Rosalía de Castro\")\n",
    "df_airports[\"airport\"] = df_airports[\"airport\"].replace(\"Santander-Seve Ballesteros\", \"Severiano Ballesteros-Santander\")\n",
    "df_airports[\"airport\"] = df_airports[\"airport\"].replace(\"A Coruña\", \"La Coruña\")\n",
    "df_airports[\"airport\"] = df_airports[\"airport\"].replace(\"Alicante - Elche\", \"Alicante-Elche Miguel Hernández\")"
   ]
  },
  {
   "cell_type": "code",
   "execution_count": 5,
   "metadata": {},
   "outputs": [
    {
     "data": {
      "text/html": [
       "<div>\n",
       "<style scoped>\n",
       "    .dataframe tbody tr th:only-of-type {\n",
       "        vertical-align: middle;\n",
       "    }\n",
       "\n",
       "    .dataframe tbody tr th {\n",
       "        vertical-align: top;\n",
       "    }\n",
       "\n",
       "    .dataframe thead th {\n",
       "        text-align: right;\n",
       "    }\n",
       "</style>\n",
       "<table border=\"1\" class=\"dataframe\">\n",
       "  <thead>\n",
       "    <tr style=\"text-align: right;\">\n",
       "      <th></th>\n",
       "      <th>airport</th>\n",
       "      <th>latitude</th>\n",
       "      <th>longitude</th>\n",
       "      <th>airport_clean</th>\n",
       "    </tr>\n",
       "  </thead>\n",
       "  <tbody>\n",
       "    <tr>\n",
       "      <th>0</th>\n",
       "      <td>Jerez</td>\n",
       "      <td>36.743828</td>\n",
       "      <td>-6.062658</td>\n",
       "      <td>jerez</td>\n",
       "    </tr>\n",
       "    <tr>\n",
       "      <th>1</th>\n",
       "      <td>Vigo</td>\n",
       "      <td>42.225740</td>\n",
       "      <td>-8.630491</td>\n",
       "      <td>vigo</td>\n",
       "    </tr>\n",
       "    <tr>\n",
       "      <th>2</th>\n",
       "      <td>Badajoz</td>\n",
       "      <td>38.889845</td>\n",
       "      <td>-6.821121</td>\n",
       "      <td>badajoz</td>\n",
       "    </tr>\n",
       "    <tr>\n",
       "      <th>3</th>\n",
       "      <td>Federico García Lorca Granada-Jaén</td>\n",
       "      <td>37.186826</td>\n",
       "      <td>-3.778613</td>\n",
       "      <td>federicogarcíalorcagranada-jaén</td>\n",
       "    </tr>\n",
       "    <tr>\n",
       "      <th>4</th>\n",
       "      <td>Almería</td>\n",
       "      <td>36.844781</td>\n",
       "      <td>-2.371234</td>\n",
       "      <td>almería</td>\n",
       "    </tr>\n",
       "  </tbody>\n",
       "</table>\n",
       "</div>"
      ],
      "text/plain": [
       "                              airport   latitude  longitude  \\\n",
       "0                               Jerez  36.743828  -6.062658   \n",
       "1                                Vigo  42.225740  -8.630491   \n",
       "2                             Badajoz  38.889845  -6.821121   \n",
       "3  Federico García Lorca Granada-Jaén  37.186826  -3.778613   \n",
       "4                             Almería  36.844781  -2.371234   \n",
       "\n",
       "                     airport_clean  \n",
       "0                            jerez  \n",
       "1                             vigo  \n",
       "2                          badajoz  \n",
       "3  federicogarcíalorcagranada-jaén  \n",
       "4                          almería  "
      ]
     },
     "execution_count": 5,
     "metadata": {},
     "output_type": "execute_result"
    }
   ],
   "source": [
    "df_airports[\"airport_clean\"] = df_airports[\"airport\"].str.replace(\" \", \"\", regex=False)\n",
    "df_airports[\"airport_clean\"] = df_airports[\"airport_clean\"].astype(str)  # Ensure string type\n",
    "df_airports[\"airport_clean\"] = df_airports[\"airport_clean\"].str.strip()  # Remove leading/trailing spaces\n",
    "df_airports[\"airport_clean\"] = df_airports[\"airport_clean\"].str.replace(r\"\\s+\", \" \", regex=True)  # Remove extra spaces\n",
    "df_airports[\"airport_clean\"] = df_airports[\"airport_clean\"].str.replace(r\"[\\u200b\\u2060]\", \"\", regex=True)  # Remove zero-width spaces\n",
    "df_airports[\"airport_clean\"] = df_airports[\"airport_clean\"].str.lower()\n",
    "\n",
    "\n",
    "df_airports.drop(\"airport_id\", axis=1, inplace=True)\n",
    "df_airports.head()"
   ]
  },
  {
   "cell_type": "code",
   "execution_count": 6,
   "metadata": {},
   "outputs": [],
   "source": [
    "airports_info = pd.read_csv(\"../data/raw/airports_info.csv\")\n",
    "airports_info.drop([\"web-scraper-order\", \"web-scraper-start-url\", \"runways\"], axis = 1, inplace = True)"
   ]
  },
  {
   "cell_type": "code",
   "execution_count": 7,
   "metadata": {},
   "outputs": [
    {
     "data": {
      "text/html": [
       "<div>\n",
       "<style scoped>\n",
       "    .dataframe tbody tr th:only-of-type {\n",
       "        vertical-align: middle;\n",
       "    }\n",
       "\n",
       "    .dataframe tbody tr th {\n",
       "        vertical-align: top;\n",
       "    }\n",
       "\n",
       "    .dataframe thead th {\n",
       "        text-align: right;\n",
       "    }\n",
       "</style>\n",
       "<table border=\"1\" class=\"dataframe\">\n",
       "  <thead>\n",
       "    <tr style=\"text-align: right;\">\n",
       "      <th></th>\n",
       "      <th>airport</th>\n",
       "      <th>y_passengers</th>\n",
       "    </tr>\n",
       "  </thead>\n",
       "  <tbody>\n",
       "    <tr>\n",
       "      <th>0</th>\n",
       "      <td>Adolfo Suárez Madrid-Barajas</td>\n",
       "      <td>60 220 984</td>\n",
       "    </tr>\n",
       "    <tr>\n",
       "      <th>1</th>\n",
       "      <td>Albacete[3]​</td>\n",
       "      <td>2 644</td>\n",
       "    </tr>\n",
       "    <tr>\n",
       "      <th>2</th>\n",
       "      <td>Alicante-Elche Miguel Hernández</td>\n",
       "      <td>15 747 678</td>\n",
       "    </tr>\n",
       "    <tr>\n",
       "      <th>3</th>\n",
       "      <td>Almería</td>\n",
       "      <td>775 393</td>\n",
       "    </tr>\n",
       "    <tr>\n",
       "      <th>4</th>\n",
       "      <td>Asturias</td>\n",
       "      <td>1 974 850</td>\n",
       "    </tr>\n",
       "  </tbody>\n",
       "</table>\n",
       "</div>"
      ],
      "text/plain": [
       "                           airport y_passengers\n",
       "0     Adolfo Suárez Madrid-Barajas   60 220 984\n",
       "1                     Albacete[3]​        2 644\n",
       "2  Alicante-Elche Miguel Hernández   15 747 678\n",
       "3                          Almería      775 393\n",
       "4                         Asturias    1 974 850"
      ]
     },
     "execution_count": 7,
     "metadata": {},
     "output_type": "execute_result"
    }
   ],
   "source": [
    "airports_info.head()"
   ]
  },
  {
   "cell_type": "code",
   "execution_count": 8,
   "metadata": {},
   "outputs": [
    {
     "data": {
      "text/html": [
       "<div>\n",
       "<style scoped>\n",
       "    .dataframe tbody tr th:only-of-type {\n",
       "        vertical-align: middle;\n",
       "    }\n",
       "\n",
       "    .dataframe tbody tr th {\n",
       "        vertical-align: top;\n",
       "    }\n",
       "\n",
       "    .dataframe thead th {\n",
       "        text-align: right;\n",
       "    }\n",
       "</style>\n",
       "<table border=\"1\" class=\"dataframe\">\n",
       "  <thead>\n",
       "    <tr style=\"text-align: right;\">\n",
       "      <th></th>\n",
       "      <th>airport</th>\n",
       "      <th>y_passengers</th>\n",
       "      <th>airport_clean</th>\n",
       "    </tr>\n",
       "  </thead>\n",
       "  <tbody>\n",
       "    <tr>\n",
       "      <th>0</th>\n",
       "      <td>Adolfo Suárez Madrid-Barajas</td>\n",
       "      <td>60 220 984</td>\n",
       "      <td>adolfosuárezmadrid-barajas</td>\n",
       "    </tr>\n",
       "    <tr>\n",
       "      <th>1</th>\n",
       "      <td>Albacete​</td>\n",
       "      <td>2 644</td>\n",
       "      <td>albacete</td>\n",
       "    </tr>\n",
       "    <tr>\n",
       "      <th>2</th>\n",
       "      <td>Alicante-Elche Miguel Hernández</td>\n",
       "      <td>15 747 678</td>\n",
       "      <td>alicante-elchemiguelhernández</td>\n",
       "    </tr>\n",
       "    <tr>\n",
       "      <th>3</th>\n",
       "      <td>Almería</td>\n",
       "      <td>775 393</td>\n",
       "      <td>almería</td>\n",
       "    </tr>\n",
       "    <tr>\n",
       "      <th>4</th>\n",
       "      <td>Asturias</td>\n",
       "      <td>1 974 850</td>\n",
       "      <td>asturias</td>\n",
       "    </tr>\n",
       "  </tbody>\n",
       "</table>\n",
       "</div>"
      ],
      "text/plain": [
       "                           airport y_passengers                  airport_clean\n",
       "0     Adolfo Suárez Madrid-Barajas   60 220 984     adolfosuárezmadrid-barajas\n",
       "1                        Albacete​        2 644                       albacete\n",
       "2  Alicante-Elche Miguel Hernández   15 747 678  alicante-elchemiguelhernández\n",
       "3                          Almería      775 393                        almería\n",
       "4                         Asturias    1 974 850                       asturias"
      ]
     },
     "execution_count": 8,
     "metadata": {},
     "output_type": "execute_result"
    }
   ],
   "source": [
    "airports_info[\"airport\"] = airports_info[\"airport\"].str.replace(r\"\\[.*?\\]\", \"\", regex=True).str.strip()\n",
    "airports_info[\"airport_clean\"] = airports_info[\"airport\"].str.replace(\" \", \"\", regex=False)\n",
    "airports_info[\"airport_clean\"] = airports_info[\"airport_clean\"].astype(str)  # Ensure string type\n",
    "airports_info[\"airport_clean\"] = airports_info[\"airport_clean\"].str.strip()  # Remove leading/trailing spaces\n",
    "airports_info[\"airport_clean\"] = airports_info[\"airport_clean\"].str.replace(r\"\\s+\", \" \", regex=True)  # Remove extra spaces\n",
    "airports_info[\"airport_clean\"] = airports_info[\"airport_clean\"].str.replace(r\"[\\u200b\\u2060]\", \"\", regex=True)  # Remove zero-width spaces\n",
    "airports_info[\"airport_clean\"] = airports_info[\"airport_clean\"].str.lower()\n",
    "airports_info.head()"
   ]
  },
  {
   "cell_type": "code",
   "execution_count": 9,
   "metadata": {},
   "outputs": [
    {
     "data": {
      "text/html": [
       "<div>\n",
       "<style scoped>\n",
       "    .dataframe tbody tr th:only-of-type {\n",
       "        vertical-align: middle;\n",
       "    }\n",
       "\n",
       "    .dataframe tbody tr th {\n",
       "        vertical-align: top;\n",
       "    }\n",
       "\n",
       "    .dataframe thead th {\n",
       "        text-align: right;\n",
       "    }\n",
       "</style>\n",
       "<table border=\"1\" class=\"dataframe\">\n",
       "  <thead>\n",
       "    <tr style=\"text-align: right;\">\n",
       "      <th></th>\n",
       "      <th>airport</th>\n",
       "      <th>y_passengers</th>\n",
       "      <th>airport_clean</th>\n",
       "    </tr>\n",
       "  </thead>\n",
       "  <tbody>\n",
       "    <tr>\n",
       "      <th>0</th>\n",
       "      <td>Adolfo Suárez Madrid-Barajas</td>\n",
       "      <td>60220984</td>\n",
       "      <td>adolfosuárezmadrid-barajas</td>\n",
       "    </tr>\n",
       "  </tbody>\n",
       "</table>\n",
       "</div>"
      ],
      "text/plain": [
       "                        airport y_passengers               airport_clean\n",
       "0  Adolfo Suárez Madrid-Barajas     60220984  adolfosuárezmadrid-barajas"
      ]
     },
     "execution_count": 9,
     "metadata": {},
     "output_type": "execute_result"
    }
   ],
   "source": [
    "airports_info[\"y_passengers\"] = airports_info[\"y_passengers\"].str.replace(r\" \", \"\", regex=True)\n",
    "airports_info[\"y_passengers\"].astype(int)\n",
    "airports_info.head(1)"
   ]
  },
  {
   "cell_type": "code",
   "execution_count": 10,
   "metadata": {},
   "outputs": [],
   "source": [
    "airports_info = airports_info.sort_values(by=\"airport_clean\", ascending=True).reset_index(drop=True)"
   ]
  },
  {
   "cell_type": "code",
   "execution_count": 11,
   "metadata": {},
   "outputs": [],
   "source": [
    "df_airports = df_airports.sort_values(by=\"airport_clean\", ascending=True).reset_index(drop=True)\n"
   ]
  },
  {
   "cell_type": "code",
   "execution_count": 12,
   "metadata": {},
   "outputs": [
    {
     "data": {
      "text/plain": [
       "airport_x        0\n",
       "latitude         0\n",
       "longitude        0\n",
       "airport_clean    0\n",
       "airport_y        2\n",
       "y_passengers     2\n",
       "dtype: int64"
      ]
     },
     "execution_count": 12,
     "metadata": {},
     "output_type": "execute_result"
    }
   ],
   "source": [
    "# Show all rows and columns\n",
    "pd.set_option(\"display.max_rows\", None)  # Show all rows\n",
    "pd.set_option(\"display.max_columns\", None)  # Show all columns\n",
    "airports = pd.merge(left = df_airports, right = airports_info, on= \"airport_clean\", how=\"outer\")\n",
    "airports.isna().sum()"
   ]
  },
  {
   "cell_type": "code",
   "execution_count": 13,
   "metadata": {},
   "outputs": [],
   "source": [
    "airports = airports[airports[\"airport_x\"] != \"Helipuerto de Algeciras\"]\n",
    "airports = airports[airports[\"airport_x\"] != \"Helipuerto de Ceuta\"]\n"
   ]
  },
  {
   "cell_type": "code",
   "execution_count": 14,
   "metadata": {},
   "outputs": [],
   "source": [
    "airports = airports.drop([\"airport_clean\", \"airport_y\"], axis =1)"
   ]
  },
  {
   "cell_type": "code",
   "execution_count": 15,
   "metadata": {},
   "outputs": [
    {
     "data": {
      "text/html": [
       "<div>\n",
       "<style scoped>\n",
       "    .dataframe tbody tr th:only-of-type {\n",
       "        vertical-align: middle;\n",
       "    }\n",
       "\n",
       "    .dataframe tbody tr th {\n",
       "        vertical-align: top;\n",
       "    }\n",
       "\n",
       "    .dataframe thead th {\n",
       "        text-align: right;\n",
       "    }\n",
       "</style>\n",
       "<table border=\"1\" class=\"dataframe\">\n",
       "  <thead>\n",
       "    <tr style=\"text-align: right;\">\n",
       "      <th></th>\n",
       "      <th>airport_x</th>\n",
       "      <th>latitude</th>\n",
       "      <th>longitude</th>\n",
       "      <th>y_passengers</th>\n",
       "    </tr>\n",
       "  </thead>\n",
       "  <tbody>\n",
       "    <tr>\n",
       "      <th>0</th>\n",
       "      <td>Adolfo Suárez Madrid - Barajas</td>\n",
       "      <td>40.492080</td>\n",
       "      <td>-3.576319</td>\n",
       "      <td>60220984</td>\n",
       "    </tr>\n",
       "    <tr>\n",
       "      <th>1</th>\n",
       "      <td>Albacete</td>\n",
       "      <td>38.949634</td>\n",
       "      <td>-1.863164</td>\n",
       "      <td>2644</td>\n",
       "    </tr>\n",
       "    <tr>\n",
       "      <th>2</th>\n",
       "      <td>Alicante-Elche Miguel Hernández</td>\n",
       "      <td>38.285826</td>\n",
       "      <td>-0.563349</td>\n",
       "      <td>15747678</td>\n",
       "    </tr>\n",
       "    <tr>\n",
       "      <th>3</th>\n",
       "      <td>Almería</td>\n",
       "      <td>36.844781</td>\n",
       "      <td>-2.371234</td>\n",
       "      <td>775393</td>\n",
       "    </tr>\n",
       "    <tr>\n",
       "      <th>4</th>\n",
       "      <td>Asturias</td>\n",
       "      <td>43.562196</td>\n",
       "      <td>-6.032618</td>\n",
       "      <td>1974850</td>\n",
       "    </tr>\n",
       "  </tbody>\n",
       "</table>\n",
       "</div>"
      ],
      "text/plain": [
       "                         airport_x   latitude  longitude y_passengers\n",
       "0   Adolfo Suárez Madrid - Barajas  40.492080  -3.576319     60220984\n",
       "1                         Albacete  38.949634  -1.863164         2644\n",
       "2  Alicante-Elche Miguel Hernández  38.285826  -0.563349     15747678\n",
       "3                          Almería  36.844781  -2.371234       775393\n",
       "4                         Asturias  43.562196  -6.032618      1974850"
      ]
     },
     "execution_count": 15,
     "metadata": {},
     "output_type": "execute_result"
    }
   ],
   "source": [
    "airports.head()"
   ]
  },
  {
   "cell_type": "code",
   "execution_count": 16,
   "metadata": {},
   "outputs": [],
   "source": [
    "airports.rename(columns={\"airport_x\": \"airport\"}, inplace=True)"
   ]
  },
  {
   "cell_type": "code",
   "execution_count": 17,
   "metadata": {},
   "outputs": [],
   "source": [
    "# Convert 'y_passengers' to numeric, forcing errors to NaN if needed\n",
    "airports[\"y_passengers\"] = pd.to_numeric(airports[\"y_passengers\"], errors=\"coerce\")\n"
   ]
  },
  {
   "cell_type": "code",
   "execution_count": 18,
   "metadata": {},
   "outputs": [],
   "source": [
    "airports.to_csv(\"../data/processed/filtered_files/filtered_airports.csv\", index=False)"
   ]
  },
  {
   "cell_type": "code",
   "execution_count": 98,
   "metadata": {
    "execution": {
     "iopub.execute_input": "2025-02-17T09:35:05.787417Z",
     "iopub.status.busy": "2025-02-17T09:35:05.787320Z",
     "iopub.status.idle": "2025-02-17T09:35:05.960642Z",
     "shell.execute_reply": "2025-02-17T09:35:05.960241Z"
    }
   },
   "outputs": [
    {
     "name": "stderr",
     "output_type": "stream",
     "text": [
      "C:\\Users\\Marina\\AppData\\Local\\Temp\\ipykernel_21716\\775054605.py:6: DeprecationWarning:\n",
      "\n",
      "*scatter_mapbox* is deprecated! Use *scatter_map* instead. Learn more at: https://plotly.com/python/mapbox-to-maplibre/\n",
      "\n"
     ]
    },
    {
     "data": {
      "application/vnd.plotly.v1+json": {
       "config": {
        "plotlyServerURL": "https://plot.ly"
       },
       "data": [
        {
         "customdata": {
          "bdata": "AAAAwDG3jEFxs593/D5EQH137g1NnAzAAAAAAACopECMfFOfjXlDQG5v8p2Ez/2/AAAAwEsJbkF+qXTzlSRDQFTd4XbzBuK/AAAAAMKpJ0H4YMLJIWxCQBQds2pJ+ALAAAAAAEIiPkEtrC8L9sdFQLFGM7JmIRjAAAAAAFCT80CSbiJv5nFDQFQm29LTSBvAAAAAQO4rWEELyJ+IuKZFQER96CZRRAfAAAAAAACqr0Cc96OwWi1FQFl/Uhs2+QzAAAAAwHNUX0E2LdOnd/M8QGwGrzPFNSvAAAAAAAAyt0Absh7kA+xCQHR3UBNGYxPAAAAAAORiEkF3dIBrmdA7QD9edGsP4zHAAAAAAIq4L0EXqHjp6ZdCQEjN60aZOg7AAAAAQE/3VkGcUl5iWHM8QI+N4l9+uyvAAAAAAB81OEFb3XfFUfNEQHnEmbE2HAZAAAAAwDShakGjPQNPXe47QFmxKjkxxi7AAAAAAABAcUBhRrq8zglFQHn/AzYZVNS/AAAAwCEJYUEq2CzE6m9DQDcXn8Zz9vU/AAAAAMjJKkEaimkX9OJCQC96WZi9JOq/AAAAAICWK0HC6Ai/NV9CQEakI3UpQBjAAAAAwGt4h0EoOlU77aVEQNXsjbwhrgBAAAAAALYaM0GvINx0v6ZFQIIKcuVHwSDAAAAAAGCq+0ApBv9L+gc8QMB6gqVDNjHAAAAAAPXiNEECSQffQJ88QKu9e2vvwDHAAAAAAED67kAEjad+f0tFQNWjUp4rnhbAAAAAAABW0EDge38B1DpFQMo+fbnIiQLAAAAAAACQnkAGTwC6cC9EQDKNh0LkRw7AAAAAADSVHkGJMgvevaNBQMidFTHBpQfAAAAAgM/cTkH56Wpmp+5DQEHMiPey4hBAAAAAUCtPdUEqgrxOkVZCQCKhHeye/BHAAAAAMDyqfUHpCIcWYsZDQFx/WBjH2gVAAAAAACgcCEG7qfMK72FFQHunE2XNSPq/AAAAAFbnL0GCf2A7wJJEQALzXZQ8ifI/AAAAAAA/uEDJpZAIsMJEQII3H/+c1gBAAAAAAMCW1ECjVhNqsnlEQEPaOLAGAxbAAAAAAJh1HUFnnO/Snq1FQJGgW+lqqvy/AAAAgBL9SkEyWtO63nJFQDkeJ/z+1SDAAAAAAOnzMkFEQljwi7ZFQAUHoW0glQ7AAAAAAFnKXkFhzgRWurVCQNo9zMwwmBfAAAAAAICmw0BJ2U04/cxDQLBv8MNmpAVAAAAAgBlZV0G8a6ogXnw8QPQbBtn+WDDAAAAAgAuIZ0H8pB8WpQs8QIFuKEZHkzDAAAAAoH35YkEs0VsP2L5DQIcdcgbcwN6/AAAAANiACUFbP04rwdpEQLqdCL+cZBPAAAAAAB1WMUH6YqIJ5RxFQM+2r7zPQiHAAAAAAKTqEkHkGp5DiHBFQJRsOnNp2QXAAAAAAPTsJEFkCpCS1NVEQNYu01cw9/C/",
          "dtype": "f8",
          "shape": "46, 3"
         },
         "hovertemplate": "<b>%{hovertext}</b><br><br>scaled_size=%{marker.size}<br>y_passengers=%{customdata[0]}<extra></extra>",
         "hovertext": [
          "Adolfo Suárez Madrid - Barajas",
          "Albacete",
          "Alicante-Elche Miguel Hernández",
          "Almería",
          "Asturias",
          "Badajoz",
          "Bilbao",
          "Burgos",
          "César Manrique - Lanzarote",
          "Córdoba",
          "El Hierro",
          "Federico García Lorca Granada-Jaén",
          "Fuerteventura",
          "Gerona - Costa Brava",
          "Gran Canaria",
          "Huesca-Pirineos",
          "Ibiza",
          "Internacional Región de Murcia",
          "Jerez",
          "Josep Tarradellas Barcelona-El Prat",
          "La Coruña",
          "La Gomera",
          "La Palma",
          "León",
          "Logroño - Agoncillo",
          "Madrid - Cuatro vientos",
          "Melilla",
          "Menorca",
          "Málaga - Costa del Sol",
          "Palma de Mallorca",
          "Pamplona",
          "Reus",
          "Sabadell",
          "Salamanca ",
          "San Sebastián",
          "Santiago-Rosalía de Castro",
          "Severiano Ballesteros-Santander",
          "Sevilla",
          "Son Bonet",
          "Tenerife Norte-Ciudad de La Laguna",
          "Tenerife Sur ",
          "Valencia",
          "Valladolid",
          "Vigo",
          "Vitoria",
          "Zaragoza"
         ],
         "lat": {
          "bdata": "cbOfd/w+RECMfFOfjXlDQH6pdPOVJENA+GDCySFsQkAtrC8L9sdFQJJuIm/mcUNAC8ifiLimRUCc96OwWi1FQDYt06d38zxAG7Ie5APsQkB3dIBrmdA7QBeoeOnpl0JAnFJeYlhzPEBb3XfFUfNEQKM9A09d7jtAYUa6vM4JRUAq2CzE6m9DQBqKaRf04kJAwugIvzVfQkAoOlU77aVEQK8g3HS/pkVAKQb/S/oHPEACSQffQJ88QASNp35/S0VA4Ht/AdQ6RUAGTwC6cC9EQIkyC969o0FA+elqZqfuQ0AqgrxOkVZCQOkIhxZixkNAu6nzCu9hRUCCf2A7wJJEQMmlkAiwwkRAo1YTarJ5REBnnO/Snq1FQDJa07reckVAREJY8Iu2RUBhzgRWurVCQEnZTTj9zENAvGuqIF58PED8pB8WpQs8QCzRWw/YvkNAWz9OK8HaRED6YqIJ5RxFQOQankOIcEVAZAqQktTVREA=",
          "dtype": "f8"
         },
         "legendgroup": "",
         "lon": {
          "bdata": "fXfuDU2cDMBub/KdhM/9v1Td4XbzBuK/FB2zakn4AsCxRjOyZiEYwFQm29LTSBvARH3oJlFEB8BZf1IbNvkMwGwGrzPFNSvAdHdQE0ZjE8A/XnRrD+MxwEjN60aZOg7Aj43iX367K8B5xJmxNhwGQFmxKjkxxi7Aef8DNhlU1L83F5/Gc/b1Py96WZi9JOq/RqQjdSlAGMDV7I28Ia4AQIIKcuVHwSDAwHqCpUM2McCrvXtr78AxwNWjUp4rnhbAyj59uciJAsAyjYdC5EcOwMidFTHBpQfAQcyI97LiEEAioR3snvwRwFx/WBjH2gVAe6cTZc1I+r8C812UPInyP4I3H/+c1gBAQ9o4sAYDFsCRoFvpaqr8vzkeJ/z+1SDABQehbSCVDsDaPczMMJgXwLBv8MNmpAVA9BsG2f5YMMCBbihGR5MwwIcdcgbcwN6/up0Iv5xkE8DPtq+8z0IhwJRsOnNp2QXA1i7TVzD38L8=",
          "dtype": "f8"
         },
         "marker": {
          "color": "#636efa",
          "size": {
           "bdata": "mpmZmfT4JkFmZmZmZoZAQM3MzMxvBwhBzczMzDTuwkAAAAAAaBvYQJqZmZkZUo9AMzMzM1hW80DNzMzMzFRJQJqZmZlcEPlAZmZmZmaOUkBmZmZmBmutQGZmZmZuYMlAmpmZmXJf8kBmZmZmsl3TQM3MzMzDTQVBmpmZmZmZC0CamZmZz0H7QJqZmZk5bsVAAAAAAAASxkCamZmZvMYiQTMzMzMjkc5AZmZmZuYhlkDNzMzMkLXQQDMzMzMzyIhAMzMzMzMjakAzMzMzM3M4QM3MzMxcd7hAAAAAAKaw6EBmZmamIgwRQZqZmVljuxdBmpmZmblJo0BmZmZm3oXJQJqZmZmZZVNAmpmZmZl4cEBmZmZmRpG3QAAAAABCl+VAZmZmZg5TzkDNzMzM4KH4QM3MzMzMcF9AAAAAAK6t8kBmZmZmPNMCQTMzMzP8W/5AMzMzMxNnpEAzMzMz+7zLQJqZmZk5RK5AAAAAAJC9wEA=",
           "dtype": "f8"
          },
          "sizemode": "area",
          "sizeref": 1000
         },
         "mode": "markers",
         "name": "",
         "showlegend": false,
         "subplot": "mapbox",
         "type": "scattermapbox"
        }
       ],
       "layout": {
        "coloraxis": {
         "colorbar": {
          "title": {
           "text": "Population"
          }
         }
        },
        "geo": {
         "fitbounds": "locations"
        },
        "height": 600,
        "legend": {
         "itemsizing": "constant",
         "tracegroupgap": 0
        },
        "mapbox": {
         "center": {
          "lat": 38.344821083466975,
          "lon": -4.901864234553551
         },
         "domain": {
          "x": [
           0,
           1
          ],
          "y": [
           0,
           1
          ]
         },
         "style": "open-street-map",
         "zoom": 5
        },
        "margin": {
         "b": 50,
         "l": 50,
         "r": 50,
         "t": 50
        },
        "template": {
         "data": {
          "bar": [
           {
            "error_x": {
             "color": "#2a3f5f"
            },
            "error_y": {
             "color": "#2a3f5f"
            },
            "marker": {
             "line": {
              "color": "#E5ECF6",
              "width": 0.5
             },
             "pattern": {
              "fillmode": "overlay",
              "size": 10,
              "solidity": 0.2
             }
            },
            "type": "bar"
           }
          ],
          "barpolar": [
           {
            "marker": {
             "line": {
              "color": "#E5ECF6",
              "width": 0.5
             },
             "pattern": {
              "fillmode": "overlay",
              "size": 10,
              "solidity": 0.2
             }
            },
            "type": "barpolar"
           }
          ],
          "carpet": [
           {
            "aaxis": {
             "endlinecolor": "#2a3f5f",
             "gridcolor": "white",
             "linecolor": "white",
             "minorgridcolor": "white",
             "startlinecolor": "#2a3f5f"
            },
            "baxis": {
             "endlinecolor": "#2a3f5f",
             "gridcolor": "white",
             "linecolor": "white",
             "minorgridcolor": "white",
             "startlinecolor": "#2a3f5f"
            },
            "type": "carpet"
           }
          ],
          "choropleth": [
           {
            "colorbar": {
             "outlinewidth": 0,
             "ticks": ""
            },
            "type": "choropleth"
           }
          ],
          "contour": [
           {
            "colorbar": {
             "outlinewidth": 0,
             "ticks": ""
            },
            "colorscale": [
             [
              0,
              "#0d0887"
             ],
             [
              0.1111111111111111,
              "#46039f"
             ],
             [
              0.2222222222222222,
              "#7201a8"
             ],
             [
              0.3333333333333333,
              "#9c179e"
             ],
             [
              0.4444444444444444,
              "#bd3786"
             ],
             [
              0.5555555555555556,
              "#d8576b"
             ],
             [
              0.6666666666666666,
              "#ed7953"
             ],
             [
              0.7777777777777778,
              "#fb9f3a"
             ],
             [
              0.8888888888888888,
              "#fdca26"
             ],
             [
              1,
              "#f0f921"
             ]
            ],
            "type": "contour"
           }
          ],
          "contourcarpet": [
           {
            "colorbar": {
             "outlinewidth": 0,
             "ticks": ""
            },
            "type": "contourcarpet"
           }
          ],
          "heatmap": [
           {
            "colorbar": {
             "outlinewidth": 0,
             "ticks": ""
            },
            "colorscale": [
             [
              0,
              "#0d0887"
             ],
             [
              0.1111111111111111,
              "#46039f"
             ],
             [
              0.2222222222222222,
              "#7201a8"
             ],
             [
              0.3333333333333333,
              "#9c179e"
             ],
             [
              0.4444444444444444,
              "#bd3786"
             ],
             [
              0.5555555555555556,
              "#d8576b"
             ],
             [
              0.6666666666666666,
              "#ed7953"
             ],
             [
              0.7777777777777778,
              "#fb9f3a"
             ],
             [
              0.8888888888888888,
              "#fdca26"
             ],
             [
              1,
              "#f0f921"
             ]
            ],
            "type": "heatmap"
           }
          ],
          "histogram": [
           {
            "marker": {
             "pattern": {
              "fillmode": "overlay",
              "size": 10,
              "solidity": 0.2
             }
            },
            "type": "histogram"
           }
          ],
          "histogram2d": [
           {
            "colorbar": {
             "outlinewidth": 0,
             "ticks": ""
            },
            "colorscale": [
             [
              0,
              "#0d0887"
             ],
             [
              0.1111111111111111,
              "#46039f"
             ],
             [
              0.2222222222222222,
              "#7201a8"
             ],
             [
              0.3333333333333333,
              "#9c179e"
             ],
             [
              0.4444444444444444,
              "#bd3786"
             ],
             [
              0.5555555555555556,
              "#d8576b"
             ],
             [
              0.6666666666666666,
              "#ed7953"
             ],
             [
              0.7777777777777778,
              "#fb9f3a"
             ],
             [
              0.8888888888888888,
              "#fdca26"
             ],
             [
              1,
              "#f0f921"
             ]
            ],
            "type": "histogram2d"
           }
          ],
          "histogram2dcontour": [
           {
            "colorbar": {
             "outlinewidth": 0,
             "ticks": ""
            },
            "colorscale": [
             [
              0,
              "#0d0887"
             ],
             [
              0.1111111111111111,
              "#46039f"
             ],
             [
              0.2222222222222222,
              "#7201a8"
             ],
             [
              0.3333333333333333,
              "#9c179e"
             ],
             [
              0.4444444444444444,
              "#bd3786"
             ],
             [
              0.5555555555555556,
              "#d8576b"
             ],
             [
              0.6666666666666666,
              "#ed7953"
             ],
             [
              0.7777777777777778,
              "#fb9f3a"
             ],
             [
              0.8888888888888888,
              "#fdca26"
             ],
             [
              1,
              "#f0f921"
             ]
            ],
            "type": "histogram2dcontour"
           }
          ],
          "mesh3d": [
           {
            "colorbar": {
             "outlinewidth": 0,
             "ticks": ""
            },
            "type": "mesh3d"
           }
          ],
          "parcoords": [
           {
            "line": {
             "colorbar": {
              "outlinewidth": 0,
              "ticks": ""
             }
            },
            "type": "parcoords"
           }
          ],
          "pie": [
           {
            "automargin": true,
            "type": "pie"
           }
          ],
          "scatter": [
           {
            "fillpattern": {
             "fillmode": "overlay",
             "size": 10,
             "solidity": 0.2
            },
            "type": "scatter"
           }
          ],
          "scatter3d": [
           {
            "line": {
             "colorbar": {
              "outlinewidth": 0,
              "ticks": ""
             }
            },
            "marker": {
             "colorbar": {
              "outlinewidth": 0,
              "ticks": ""
             }
            },
            "type": "scatter3d"
           }
          ],
          "scattercarpet": [
           {
            "marker": {
             "colorbar": {
              "outlinewidth": 0,
              "ticks": ""
             }
            },
            "type": "scattercarpet"
           }
          ],
          "scattergeo": [
           {
            "marker": {
             "colorbar": {
              "outlinewidth": 0,
              "ticks": ""
             }
            },
            "type": "scattergeo"
           }
          ],
          "scattergl": [
           {
            "marker": {
             "colorbar": {
              "outlinewidth": 0,
              "ticks": ""
             }
            },
            "type": "scattergl"
           }
          ],
          "scattermap": [
           {
            "marker": {
             "colorbar": {
              "outlinewidth": 0,
              "ticks": ""
             }
            },
            "type": "scattermap"
           }
          ],
          "scattermapbox": [
           {
            "marker": {
             "colorbar": {
              "outlinewidth": 0,
              "ticks": ""
             }
            },
            "type": "scattermapbox"
           }
          ],
          "scatterpolar": [
           {
            "marker": {
             "colorbar": {
              "outlinewidth": 0,
              "ticks": ""
             }
            },
            "type": "scatterpolar"
           }
          ],
          "scatterpolargl": [
           {
            "marker": {
             "colorbar": {
              "outlinewidth": 0,
              "ticks": ""
             }
            },
            "type": "scatterpolargl"
           }
          ],
          "scatterternary": [
           {
            "marker": {
             "colorbar": {
              "outlinewidth": 0,
              "ticks": ""
             }
            },
            "type": "scatterternary"
           }
          ],
          "surface": [
           {
            "colorbar": {
             "outlinewidth": 0,
             "ticks": ""
            },
            "colorscale": [
             [
              0,
              "#0d0887"
             ],
             [
              0.1111111111111111,
              "#46039f"
             ],
             [
              0.2222222222222222,
              "#7201a8"
             ],
             [
              0.3333333333333333,
              "#9c179e"
             ],
             [
              0.4444444444444444,
              "#bd3786"
             ],
             [
              0.5555555555555556,
              "#d8576b"
             ],
             [
              0.6666666666666666,
              "#ed7953"
             ],
             [
              0.7777777777777778,
              "#fb9f3a"
             ],
             [
              0.8888888888888888,
              "#fdca26"
             ],
             [
              1,
              "#f0f921"
             ]
            ],
            "type": "surface"
           }
          ],
          "table": [
           {
            "cells": {
             "fill": {
              "color": "#EBF0F8"
             },
             "line": {
              "color": "white"
             }
            },
            "header": {
             "fill": {
              "color": "#C8D4E3"
             },
             "line": {
              "color": "white"
             }
            },
            "type": "table"
           }
          ]
         },
         "layout": {
          "annotationdefaults": {
           "arrowcolor": "#2a3f5f",
           "arrowhead": 0,
           "arrowwidth": 1
          },
          "autotypenumbers": "strict",
          "coloraxis": {
           "colorbar": {
            "outlinewidth": 0,
            "ticks": ""
           }
          },
          "colorscale": {
           "diverging": [
            [
             0,
             "#8e0152"
            ],
            [
             0.1,
             "#c51b7d"
            ],
            [
             0.2,
             "#de77ae"
            ],
            [
             0.3,
             "#f1b6da"
            ],
            [
             0.4,
             "#fde0ef"
            ],
            [
             0.5,
             "#f7f7f7"
            ],
            [
             0.6,
             "#e6f5d0"
            ],
            [
             0.7,
             "#b8e186"
            ],
            [
             0.8,
             "#7fbc41"
            ],
            [
             0.9,
             "#4d9221"
            ],
            [
             1,
             "#276419"
            ]
           ],
           "sequential": [
            [
             0,
             "#0d0887"
            ],
            [
             0.1111111111111111,
             "#46039f"
            ],
            [
             0.2222222222222222,
             "#7201a8"
            ],
            [
             0.3333333333333333,
             "#9c179e"
            ],
            [
             0.4444444444444444,
             "#bd3786"
            ],
            [
             0.5555555555555556,
             "#d8576b"
            ],
            [
             0.6666666666666666,
             "#ed7953"
            ],
            [
             0.7777777777777778,
             "#fb9f3a"
            ],
            [
             0.8888888888888888,
             "#fdca26"
            ],
            [
             1,
             "#f0f921"
            ]
           ],
           "sequentialminus": [
            [
             0,
             "#0d0887"
            ],
            [
             0.1111111111111111,
             "#46039f"
            ],
            [
             0.2222222222222222,
             "#7201a8"
            ],
            [
             0.3333333333333333,
             "#9c179e"
            ],
            [
             0.4444444444444444,
             "#bd3786"
            ],
            [
             0.5555555555555556,
             "#d8576b"
            ],
            [
             0.6666666666666666,
             "#ed7953"
            ],
            [
             0.7777777777777778,
             "#fb9f3a"
            ],
            [
             0.8888888888888888,
             "#fdca26"
            ],
            [
             1,
             "#f0f921"
            ]
           ]
          },
          "colorway": [
           "#636efa",
           "#EF553B",
           "#00cc96",
           "#ab63fa",
           "#FFA15A",
           "#19d3f3",
           "#FF6692",
           "#B6E880",
           "#FF97FF",
           "#FECB52"
          ],
          "font": {
           "color": "#2a3f5f"
          },
          "geo": {
           "bgcolor": "white",
           "lakecolor": "white",
           "landcolor": "#E5ECF6",
           "showlakes": true,
           "showland": true,
           "subunitcolor": "white"
          },
          "hoverlabel": {
           "align": "left"
          },
          "hovermode": "closest",
          "mapbox": {
           "style": "light"
          },
          "paper_bgcolor": "white",
          "plot_bgcolor": "#E5ECF6",
          "polar": {
           "angularaxis": {
            "gridcolor": "white",
            "linecolor": "white",
            "ticks": ""
           },
           "bgcolor": "#E5ECF6",
           "radialaxis": {
            "gridcolor": "white",
            "linecolor": "white",
            "ticks": ""
           }
          },
          "scene": {
           "xaxis": {
            "backgroundcolor": "#E5ECF6",
            "gridcolor": "white",
            "gridwidth": 2,
            "linecolor": "white",
            "showbackground": true,
            "ticks": "",
            "zerolinecolor": "white"
           },
           "yaxis": {
            "backgroundcolor": "#E5ECF6",
            "gridcolor": "white",
            "gridwidth": 2,
            "linecolor": "white",
            "showbackground": true,
            "ticks": "",
            "zerolinecolor": "white"
           },
           "zaxis": {
            "backgroundcolor": "#E5ECF6",
            "gridcolor": "white",
            "gridwidth": 2,
            "linecolor": "white",
            "showbackground": true,
            "ticks": "",
            "zerolinecolor": "white"
           }
          },
          "shapedefaults": {
           "line": {
            "color": "#2a3f5f"
           }
          },
          "ternary": {
           "aaxis": {
            "gridcolor": "white",
            "linecolor": "white",
            "ticks": ""
           },
           "baxis": {
            "gridcolor": "white",
            "linecolor": "white",
            "ticks": ""
           },
           "bgcolor": "#E5ECF6",
           "caxis": {
            "gridcolor": "white",
            "linecolor": "white",
            "ticks": ""
           }
          },
          "title": {
           "x": 0.05
          },
          "xaxis": {
           "automargin": true,
           "gridcolor": "white",
           "linecolor": "white",
           "ticks": "",
           "title": {
            "standoff": 15
           },
           "zerolinecolor": "white",
           "zerolinewidth": 2
          },
          "yaxis": {
           "automargin": true,
           "gridcolor": "white",
           "linecolor": "white",
           "ticks": "",
           "title": {
            "standoff": 15
           },
           "zerolinecolor": "white",
           "zerolinewidth": 2
          }
         }
        },
        "title": {
         "text": "Airports in Spain and traffic"
        },
        "width": 1000
       }
      }
     },
     "metadata": {},
     "output_type": "display_data"
    }
   ],
   "source": [
    "lats = airports.latitude\n",
    "lons = airports.longitude\n",
    "\n",
    "airports[\"scaled_size\"] = airports[\"y_passengers\"] / 80\n",
    "\n",
    "fig = px.scatter_mapbox(airports, \n",
    "                        lat=\"latitude\", \n",
    "                        lon=\"longitude\",\n",
    "                        size=\"scaled_size\",  \n",
    "                        hover_name=\"airport\",  # Main hover title\n",
    "                        hover_data={\"y_passengers\": True,  # Show passenger count\n",
    "                                    \"latitude\": False,  # Hide latitude\n",
    "                                    \"longitude\": False},  # Hide longitude\n",
    "                        color_continuous_scale=px.colors.carto.Aggrnyl,\n",
    "                        zoom=5,\n",
    "                        size_max=5)\n",
    "\n",
    "\n",
    "# Adjust the size reference to make small points more visible\n",
    "fig.update_traces(marker=dict(sizeref=1000))  # Decrease this value to make points larger\n",
    "\n",
    "fig.update_geos(fitbounds=\"locations\")\n",
    "fig.update_layout(height=600, width=1000)\n",
    "fig.update_layout(mapbox_style=\"open-street-map\")\n",
    "fig.update_layout(margin={\"r\":50,\"t\":50,\"l\":50,\"b\":50})\n",
    "fig.update_layout(\n",
    "    coloraxis_colorbar=dict(title='Population')\n",
    ")\n",
    "fig.update_layout(title=\"Airports in Spain and traffic\")\n",
    "\n",
    "fig.show()"
   ]
  },
  {
   "cell_type": "code",
   "execution_count": null,
   "metadata": {
    "execution": {
     "iopub.execute_input": "2025-02-17T09:35:05.996360Z",
     "iopub.status.busy": "2025-02-17T09:35:05.996216Z",
     "iopub.status.idle": "2025-02-17T09:35:05.999195Z",
     "shell.execute_reply": "2025-02-17T09:35:05.998913Z"
    }
   },
   "outputs": [],
   "source": []
  },
  {
   "cell_type": "markdown",
   "metadata": {},
   "source": [
    "### Trains - Medium Distance, Long Distance, High Speed"
   ]
  },
  {
   "cell_type": "code",
   "execution_count": 100,
   "metadata": {
    "execution": {
     "iopub.execute_input": "2025-02-17T09:35:06.000498Z",
     "iopub.status.busy": "2025-02-17T09:35:06.000397Z",
     "iopub.status.idle": "2025-02-17T09:35:06.004141Z",
     "shell.execute_reply": "2025-02-17T09:35:06.003861Z"
    }
   },
   "outputs": [],
   "source": [
    "df_trains = pd.read_csv(\"../data/raw/listado_completo_av_ld_md.csv\", sep=\";\", decimal=\",\")"
   ]
  },
  {
   "cell_type": "code",
   "execution_count": 101,
   "metadata": {},
   "outputs": [
    {
     "data": {
      "text/plain": [
       "(646, 9)"
      ]
     },
     "execution_count": 101,
     "metadata": {},
     "output_type": "execute_result"
    }
   ],
   "source": [
    "df_trains.shape"
   ]
  },
  {
   "cell_type": "code",
   "execution_count": 102,
   "metadata": {},
   "outputs": [],
   "source": [
    "## get rid of unnecesary columns in trains\n",
    "df_trains = df_trains.drop([\"C.P.\", \"DIRECCIÓN\"], axis = 1)\n",
    "\n",
    "## rename to english\n",
    "df_trains.rename(columns={\" CÓDIGO\": \"station_code\",\n",
    "                          \"DESCRIPCION\": \"station_name\",\n",
    "                          \"LATITUD\": \"latitude\",\n",
    "                          \"POBLACION\": \"municipality\",\n",
    "                          \"PROVINCIA\": \"province\",\n",
    "                          \"LONGITUD\": \"longitude\"}, inplace=True)"
   ]
  },
  {
   "cell_type": "code",
   "execution_count": 103,
   "metadata": {},
   "outputs": [],
   "source": [
    "df_trains = df_trains.drop(df_trains[df_trains[\"PAIS\"] == \"Francia\"].index)\n",
    "df_trains = df_trains.drop(df_trains[df_trains[\"PAIS\"] == \"Portugal\"].index)\n",
    "df_trains = df_trains.drop([\"PAIS\"], axis = 1)\n"
   ]
  },
  {
   "cell_type": "code",
   "execution_count": 104,
   "metadata": {},
   "outputs": [],
   "source": [
    "df_trains['station_name'] = df_trains['station_name'].str.title()\n",
    "df_trains['municipality'] = df_trains['municipality'].str.title()\n",
    "df_trains['province'] = df_trains['province'].str.lower()"
   ]
  },
  {
   "cell_type": "code",
   "execution_count": 105,
   "metadata": {
    "execution": {
     "iopub.execute_input": "2025-02-17T09:35:06.015209Z",
     "iopub.status.busy": "2025-02-17T09:35:06.015146Z",
     "iopub.status.idle": "2025-02-17T09:35:06.017816Z",
     "shell.execute_reply": "2025-02-17T09:35:06.017611Z"
    }
   },
   "outputs": [],
   "source": [
    "# df_trains[\"municipality_clean\"] = df_trains[\"municipality_clean\"].str.split(\"/\", expand=False)\n",
    "# df_trains[\"province_clean\"] = df_trains[\"province_clean\"].str.split(\"/\", expand=False)\n",
    "\n",
    "# df_trains[\"municipality_clean\"] = df_trains[\"municipality_clean\"].apply(\n",
    "#     lambda x: x[0] if len(x) == 1 else x[1]\n",
    "# )\n",
    "# df_trains[\"province_clean\"] = df_trains[\"province_clean\"].apply(\n",
    "#     lambda x: x[0] if len(x) == 1 else x[1]\n",
    "# )"
   ]
  },
  {
   "cell_type": "code",
   "execution_count": 106,
   "metadata": {
    "execution": {
     "iopub.execute_input": "2025-02-17T09:35:06.028002Z",
     "iopub.status.busy": "2025-02-17T09:35:06.027919Z",
     "iopub.status.idle": "2025-02-17T09:35:06.032536Z",
     "shell.execute_reply": "2025-02-17T09:35:06.032264Z"
    }
   },
   "outputs": [
    {
     "data": {
      "text/html": [
       "<div>\n",
       "<style scoped>\n",
       "    .dataframe tbody tr th:only-of-type {\n",
       "        vertical-align: middle;\n",
       "    }\n",
       "\n",
       "    .dataframe tbody tr th {\n",
       "        vertical-align: top;\n",
       "    }\n",
       "\n",
       "    .dataframe thead th {\n",
       "        text-align: right;\n",
       "    }\n",
       "</style>\n",
       "<table border=\"1\" class=\"dataframe\">\n",
       "  <thead>\n",
       "    <tr style=\"text-align: right;\">\n",
       "      <th></th>\n",
       "      <th>station_code</th>\n",
       "      <th>station_name</th>\n",
       "      <th>latitude</th>\n",
       "      <th>longitude</th>\n",
       "      <th>municipality</th>\n",
       "      <th>province</th>\n",
       "    </tr>\n",
       "  </thead>\n",
       "  <tbody>\n",
       "    <tr>\n",
       "      <th>0</th>\n",
       "      <td>11208</td>\n",
       "      <td>Vitoria/Gasteiz</td>\n",
       "      <td>42.841528</td>\n",
       "      <td>-2.672665</td>\n",
       "      <td>Vitoria-Gasteiz</td>\n",
       "      <td>araba/álava</td>\n",
       "    </tr>\n",
       "    <tr>\n",
       "      <th>1</th>\n",
       "      <td>11212</td>\n",
       "      <td>Agurain/Salvatierra De Alava</td>\n",
       "      <td>42.846437</td>\n",
       "      <td>-2.389227</td>\n",
       "      <td>Salvatierra/Agurain</td>\n",
       "      <td>araba/álava</td>\n",
       "    </tr>\n",
       "    <tr>\n",
       "      <th>2</th>\n",
       "      <td>11213</td>\n",
       "      <td>Araia</td>\n",
       "      <td>42.869471</td>\n",
       "      <td>-2.306802</td>\n",
       "      <td>Arraia-Maeztu</td>\n",
       "      <td>araba/álava</td>\n",
       "    </tr>\n",
       "    <tr>\n",
       "      <th>3</th>\n",
       "      <td>11203</td>\n",
       "      <td>Manzanos</td>\n",
       "      <td>42.742875</td>\n",
       "      <td>-2.867530</td>\n",
       "      <td>Ribera Baja/Erribera Beitia</td>\n",
       "      <td>araba/álava</td>\n",
       "    </tr>\n",
       "    <tr>\n",
       "      <th>4</th>\n",
       "      <td>11205</td>\n",
       "      <td>Nanclares-Langraiz</td>\n",
       "      <td>42.816234</td>\n",
       "      <td>-2.804934</td>\n",
       "      <td>Iruña Oka/Iruña De Oca</td>\n",
       "      <td>araba/álava</td>\n",
       "    </tr>\n",
       "  </tbody>\n",
       "</table>\n",
       "</div>"
      ],
      "text/plain": [
       "   station_code                  station_name   latitude  longitude  \\\n",
       "0         11208               Vitoria/Gasteiz  42.841528  -2.672665   \n",
       "1         11212  Agurain/Salvatierra De Alava  42.846437  -2.389227   \n",
       "2         11213                         Araia  42.869471  -2.306802   \n",
       "3         11203                      Manzanos  42.742875  -2.867530   \n",
       "4         11205            Nanclares-Langraiz  42.816234  -2.804934   \n",
       "\n",
       "                  municipality     province  \n",
       "0              Vitoria-Gasteiz  araba/álava  \n",
       "1          Salvatierra/Agurain  araba/álava  \n",
       "2                Arraia-Maeztu  araba/álava  \n",
       "3  Ribera Baja/Erribera Beitia  araba/álava  \n",
       "4       Iruña Oka/Iruña De Oca  araba/álava  "
      ]
     },
     "execution_count": 106,
     "metadata": {},
     "output_type": "execute_result"
    }
   ],
   "source": [
    "# if len(df_trains[\"province\"]):\n",
    "#     df_trains.drop(columns=[\"province\", \"municipality\"], inplace=True)\n",
    "\n",
    "df_trains.head()"
   ]
  },
  {
   "cell_type": "code",
   "execution_count": 107,
   "metadata": {
    "execution": {
     "iopub.execute_input": "2025-02-17T09:35:06.033670Z",
     "iopub.status.busy": "2025-02-17T09:35:06.033600Z",
     "iopub.status.idle": "2025-02-17T09:35:06.073158Z",
     "shell.execute_reply": "2025-02-17T09:35:06.072851Z"
    }
   },
   "outputs": [
    {
     "data": {
      "application/vnd.plotly.v1+json": {
       "config": {
        "plotlyServerURL": "https://plot.ly"
       },
       "data": [
        {
         "hovertemplate": "latitude=%{lat}<br>longitude=%{lon}<extra></extra>",
         "lat": {
          "bdata": "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",
          "dtype": "f8"
         },
         "legendgroup": "",
         "lon": {
          "bdata": "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",
          "dtype": "f8"
         },
         "marker": {
          "color": "#636efa",
          "sizeref": 1000
         },
         "mode": "markers",
         "name": "",
         "showlegend": false,
         "subplot": "map",
         "type": "scattermap"
        }
       ],
       "layout": {
        "coloraxis": {
         "colorbar": {
          "title": {
           "text": "asdf"
          }
         }
        },
        "geo": {
         "fitbounds": "locations"
        },
        "height": 1000,
        "legend": {
         "tracegroupgap": 0
        },
        "map": {
         "center": {
          "lat": 40.78400177599338,
          "lon": -3.453637558278146
         },
         "domain": {
          "x": [
           0,
           1
          ],
          "y": [
           0,
           1
          ]
         },
         "zoom": 5
        },
        "mapbox": {
         "center": {
          "lat": 40.78400177599338,
          "lon": -3.453637558278146
         },
         "style": "open-street-map",
         "zoom": 5
        },
        "margin": {
         "b": 50,
         "l": 50,
         "r": 50,
         "t": 50
        },
        "template": {
         "data": {
          "bar": [
           {
            "error_x": {
             "color": "#2a3f5f"
            },
            "error_y": {
             "color": "#2a3f5f"
            },
            "marker": {
             "line": {
              "color": "#E5ECF6",
              "width": 0.5
             },
             "pattern": {
              "fillmode": "overlay",
              "size": 10,
              "solidity": 0.2
             }
            },
            "type": "bar"
           }
          ],
          "barpolar": [
           {
            "marker": {
             "line": {
              "color": "#E5ECF6",
              "width": 0.5
             },
             "pattern": {
              "fillmode": "overlay",
              "size": 10,
              "solidity": 0.2
             }
            },
            "type": "barpolar"
           }
          ],
          "carpet": [
           {
            "aaxis": {
             "endlinecolor": "#2a3f5f",
             "gridcolor": "white",
             "linecolor": "white",
             "minorgridcolor": "white",
             "startlinecolor": "#2a3f5f"
            },
            "baxis": {
             "endlinecolor": "#2a3f5f",
             "gridcolor": "white",
             "linecolor": "white",
             "minorgridcolor": "white",
             "startlinecolor": "#2a3f5f"
            },
            "type": "carpet"
           }
          ],
          "choropleth": [
           {
            "colorbar": {
             "outlinewidth": 0,
             "ticks": ""
            },
            "type": "choropleth"
           }
          ],
          "contour": [
           {
            "colorbar": {
             "outlinewidth": 0,
             "ticks": ""
            },
            "colorscale": [
             [
              0,
              "#0d0887"
             ],
             [
              0.1111111111111111,
              "#46039f"
             ],
             [
              0.2222222222222222,
              "#7201a8"
             ],
             [
              0.3333333333333333,
              "#9c179e"
             ],
             [
              0.4444444444444444,
              "#bd3786"
             ],
             [
              0.5555555555555556,
              "#d8576b"
             ],
             [
              0.6666666666666666,
              "#ed7953"
             ],
             [
              0.7777777777777778,
              "#fb9f3a"
             ],
             [
              0.8888888888888888,
              "#fdca26"
             ],
             [
              1,
              "#f0f921"
             ]
            ],
            "type": "contour"
           }
          ],
          "contourcarpet": [
           {
            "colorbar": {
             "outlinewidth": 0,
             "ticks": ""
            },
            "type": "contourcarpet"
           }
          ],
          "heatmap": [
           {
            "colorbar": {
             "outlinewidth": 0,
             "ticks": ""
            },
            "colorscale": [
             [
              0,
              "#0d0887"
             ],
             [
              0.1111111111111111,
              "#46039f"
             ],
             [
              0.2222222222222222,
              "#7201a8"
             ],
             [
              0.3333333333333333,
              "#9c179e"
             ],
             [
              0.4444444444444444,
              "#bd3786"
             ],
             [
              0.5555555555555556,
              "#d8576b"
             ],
             [
              0.6666666666666666,
              "#ed7953"
             ],
             [
              0.7777777777777778,
              "#fb9f3a"
             ],
             [
              0.8888888888888888,
              "#fdca26"
             ],
             [
              1,
              "#f0f921"
             ]
            ],
            "type": "heatmap"
           }
          ],
          "histogram": [
           {
            "marker": {
             "pattern": {
              "fillmode": "overlay",
              "size": 10,
              "solidity": 0.2
             }
            },
            "type": "histogram"
           }
          ],
          "histogram2d": [
           {
            "colorbar": {
             "outlinewidth": 0,
             "ticks": ""
            },
            "colorscale": [
             [
              0,
              "#0d0887"
             ],
             [
              0.1111111111111111,
              "#46039f"
             ],
             [
              0.2222222222222222,
              "#7201a8"
             ],
             [
              0.3333333333333333,
              "#9c179e"
             ],
             [
              0.4444444444444444,
              "#bd3786"
             ],
             [
              0.5555555555555556,
              "#d8576b"
             ],
             [
              0.6666666666666666,
              "#ed7953"
             ],
             [
              0.7777777777777778,
              "#fb9f3a"
             ],
             [
              0.8888888888888888,
              "#fdca26"
             ],
             [
              1,
              "#f0f921"
             ]
            ],
            "type": "histogram2d"
           }
          ],
          "histogram2dcontour": [
           {
            "colorbar": {
             "outlinewidth": 0,
             "ticks": ""
            },
            "colorscale": [
             [
              0,
              "#0d0887"
             ],
             [
              0.1111111111111111,
              "#46039f"
             ],
             [
              0.2222222222222222,
              "#7201a8"
             ],
             [
              0.3333333333333333,
              "#9c179e"
             ],
             [
              0.4444444444444444,
              "#bd3786"
             ],
             [
              0.5555555555555556,
              "#d8576b"
             ],
             [
              0.6666666666666666,
              "#ed7953"
             ],
             [
              0.7777777777777778,
              "#fb9f3a"
             ],
             [
              0.8888888888888888,
              "#fdca26"
             ],
             [
              1,
              "#f0f921"
             ]
            ],
            "type": "histogram2dcontour"
           }
          ],
          "mesh3d": [
           {
            "colorbar": {
             "outlinewidth": 0,
             "ticks": ""
            },
            "type": "mesh3d"
           }
          ],
          "parcoords": [
           {
            "line": {
             "colorbar": {
              "outlinewidth": 0,
              "ticks": ""
             }
            },
            "type": "parcoords"
           }
          ],
          "pie": [
           {
            "automargin": true,
            "type": "pie"
           }
          ],
          "scatter": [
           {
            "fillpattern": {
             "fillmode": "overlay",
             "size": 10,
             "solidity": 0.2
            },
            "type": "scatter"
           }
          ],
          "scatter3d": [
           {
            "line": {
             "colorbar": {
              "outlinewidth": 0,
              "ticks": ""
             }
            },
            "marker": {
             "colorbar": {
              "outlinewidth": 0,
              "ticks": ""
             }
            },
            "type": "scatter3d"
           }
          ],
          "scattercarpet": [
           {
            "marker": {
             "colorbar": {
              "outlinewidth": 0,
              "ticks": ""
             }
            },
            "type": "scattercarpet"
           }
          ],
          "scattergeo": [
           {
            "marker": {
             "colorbar": {
              "outlinewidth": 0,
              "ticks": ""
             }
            },
            "type": "scattergeo"
           }
          ],
          "scattergl": [
           {
            "marker": {
             "colorbar": {
              "outlinewidth": 0,
              "ticks": ""
             }
            },
            "type": "scattergl"
           }
          ],
          "scattermap": [
           {
            "marker": {
             "colorbar": {
              "outlinewidth": 0,
              "ticks": ""
             }
            },
            "type": "scattermap"
           }
          ],
          "scattermapbox": [
           {
            "marker": {
             "colorbar": {
              "outlinewidth": 0,
              "ticks": ""
             }
            },
            "type": "scattermapbox"
           }
          ],
          "scatterpolar": [
           {
            "marker": {
             "colorbar": {
              "outlinewidth": 0,
              "ticks": ""
             }
            },
            "type": "scatterpolar"
           }
          ],
          "scatterpolargl": [
           {
            "marker": {
             "colorbar": {
              "outlinewidth": 0,
              "ticks": ""
             }
            },
            "type": "scatterpolargl"
           }
          ],
          "scatterternary": [
           {
            "marker": {
             "colorbar": {
              "outlinewidth": 0,
              "ticks": ""
             }
            },
            "type": "scatterternary"
           }
          ],
          "surface": [
           {
            "colorbar": {
             "outlinewidth": 0,
             "ticks": ""
            },
            "colorscale": [
             [
              0,
              "#0d0887"
             ],
             [
              0.1111111111111111,
              "#46039f"
             ],
             [
              0.2222222222222222,
              "#7201a8"
             ],
             [
              0.3333333333333333,
              "#9c179e"
             ],
             [
              0.4444444444444444,
              "#bd3786"
             ],
             [
              0.5555555555555556,
              "#d8576b"
             ],
             [
              0.6666666666666666,
              "#ed7953"
             ],
             [
              0.7777777777777778,
              "#fb9f3a"
             ],
             [
              0.8888888888888888,
              "#fdca26"
             ],
             [
              1,
              "#f0f921"
             ]
            ],
            "type": "surface"
           }
          ],
          "table": [
           {
            "cells": {
             "fill": {
              "color": "#EBF0F8"
             },
             "line": {
              "color": "white"
             }
            },
            "header": {
             "fill": {
              "color": "#C8D4E3"
             },
             "line": {
              "color": "white"
             }
            },
            "type": "table"
           }
          ]
         },
         "layout": {
          "annotationdefaults": {
           "arrowcolor": "#2a3f5f",
           "arrowhead": 0,
           "arrowwidth": 1
          },
          "autotypenumbers": "strict",
          "coloraxis": {
           "colorbar": {
            "outlinewidth": 0,
            "ticks": ""
           }
          },
          "colorscale": {
           "diverging": [
            [
             0,
             "#8e0152"
            ],
            [
             0.1,
             "#c51b7d"
            ],
            [
             0.2,
             "#de77ae"
            ],
            [
             0.3,
             "#f1b6da"
            ],
            [
             0.4,
             "#fde0ef"
            ],
            [
             0.5,
             "#f7f7f7"
            ],
            [
             0.6,
             "#e6f5d0"
            ],
            [
             0.7,
             "#b8e186"
            ],
            [
             0.8,
             "#7fbc41"
            ],
            [
             0.9,
             "#4d9221"
            ],
            [
             1,
             "#276419"
            ]
           ],
           "sequential": [
            [
             0,
             "#0d0887"
            ],
            [
             0.1111111111111111,
             "#46039f"
            ],
            [
             0.2222222222222222,
             "#7201a8"
            ],
            [
             0.3333333333333333,
             "#9c179e"
            ],
            [
             0.4444444444444444,
             "#bd3786"
            ],
            [
             0.5555555555555556,
             "#d8576b"
            ],
            [
             0.6666666666666666,
             "#ed7953"
            ],
            [
             0.7777777777777778,
             "#fb9f3a"
            ],
            [
             0.8888888888888888,
             "#fdca26"
            ],
            [
             1,
             "#f0f921"
            ]
           ],
           "sequentialminus": [
            [
             0,
             "#0d0887"
            ],
            [
             0.1111111111111111,
             "#46039f"
            ],
            [
             0.2222222222222222,
             "#7201a8"
            ],
            [
             0.3333333333333333,
             "#9c179e"
            ],
            [
             0.4444444444444444,
             "#bd3786"
            ],
            [
             0.5555555555555556,
             "#d8576b"
            ],
            [
             0.6666666666666666,
             "#ed7953"
            ],
            [
             0.7777777777777778,
             "#fb9f3a"
            ],
            [
             0.8888888888888888,
             "#fdca26"
            ],
            [
             1,
             "#f0f921"
            ]
           ]
          },
          "colorway": [
           "#636efa",
           "#EF553B",
           "#00cc96",
           "#ab63fa",
           "#FFA15A",
           "#19d3f3",
           "#FF6692",
           "#B6E880",
           "#FF97FF",
           "#FECB52"
          ],
          "font": {
           "color": "#2a3f5f"
          },
          "geo": {
           "bgcolor": "white",
           "lakecolor": "white",
           "landcolor": "#E5ECF6",
           "showlakes": true,
           "showland": true,
           "subunitcolor": "white"
          },
          "hoverlabel": {
           "align": "left"
          },
          "hovermode": "closest",
          "mapbox": {
           "style": "light"
          },
          "paper_bgcolor": "white",
          "plot_bgcolor": "#E5ECF6",
          "polar": {
           "angularaxis": {
            "gridcolor": "white",
            "linecolor": "white",
            "ticks": ""
           },
           "bgcolor": "#E5ECF6",
           "radialaxis": {
            "gridcolor": "white",
            "linecolor": "white",
            "ticks": ""
           }
          },
          "scene": {
           "xaxis": {
            "backgroundcolor": "#E5ECF6",
            "gridcolor": "white",
            "gridwidth": 2,
            "linecolor": "white",
            "showbackground": true,
            "ticks": "",
            "zerolinecolor": "white"
           },
           "yaxis": {
            "backgroundcolor": "#E5ECF6",
            "gridcolor": "white",
            "gridwidth": 2,
            "linecolor": "white",
            "showbackground": true,
            "ticks": "",
            "zerolinecolor": "white"
           },
           "zaxis": {
            "backgroundcolor": "#E5ECF6",
            "gridcolor": "white",
            "gridwidth": 2,
            "linecolor": "white",
            "showbackground": true,
            "ticks": "",
            "zerolinecolor": "white"
           }
          },
          "shapedefaults": {
           "line": {
            "color": "#2a3f5f"
           }
          },
          "ternary": {
           "aaxis": {
            "gridcolor": "white",
            "linecolor": "white",
            "ticks": ""
           },
           "baxis": {
            "gridcolor": "white",
            "linecolor": "white",
            "ticks": ""
           },
           "bgcolor": "#E5ECF6",
           "caxis": {
            "gridcolor": "white",
            "linecolor": "white",
            "ticks": ""
           }
          },
          "title": {
           "x": 0.05
          },
          "xaxis": {
           "automargin": true,
           "gridcolor": "white",
           "linecolor": "white",
           "ticks": "",
           "title": {
            "standoff": 15
           },
           "zerolinecolor": "white",
           "zerolinewidth": 2
          },
          "yaxis": {
           "automargin": true,
           "gridcolor": "white",
           "linecolor": "white",
           "ticks": "",
           "title": {
            "standoff": 15
           },
           "zerolinecolor": "white",
           "zerolinewidth": 2
          }
         }
        },
        "title": {
         "text": "Train Stations in Spain "
        },
        "width": 1000
       }
      }
     },
     "metadata": {},
     "output_type": "display_data"
    }
   ],
   "source": [
    "title = \"Train Stations (LD, MD, High Speed) in Spain\"\n",
    "\n",
    "lats = df_trains.latitude\n",
    "lons = df_trains.longitude\n",
    "\n",
    "fig = px.scatter_map(df_trains, \n",
    "                     lat=lats, \n",
    "                     lon=lons,\n",
    "                     color_continuous_scale=px.colors.carto.Aggrnyl,\n",
    "                     zoom=5,\n",
    "                     size_max=50  # Increase max size of markers\n",
    "                     )\n",
    "\n",
    "# Adjust the size reference to make small points more visible\n",
    "fig.update_traces(marker=dict(sizeref=1000))  # Decrease this value to make points larger\n",
    "\n",
    "fig.update_geos(fitbounds=\"locations\")\n",
    "fig.update_layout(height=1000, width=1000)\n",
    "fig.update_layout(mapbox_style=\"open-street-map\")\n",
    "fig.update_layout(margin={\"r\":50,\"t\":50,\"l\":50,\"b\":50})\n",
    "fig.update_layout(\n",
    "    coloraxis_colorbar=dict(title='asdf')\n",
    ")\n",
    "fig.update_layout(title=\"Train Stations in Spain \")\n",
    "\n",
    "fig.show()"
   ]
  },
  {
   "cell_type": "code",
   "execution_count": 108,
   "metadata": {
    "execution": {
     "iopub.execute_input": "2025-02-17T09:35:06.103026Z",
     "iopub.status.busy": "2025-02-17T09:35:06.102890Z",
     "iopub.status.idle": "2025-02-17T09:35:06.106408Z",
     "shell.execute_reply": "2025-02-17T09:35:06.106071Z"
    }
   },
   "outputs": [],
   "source": [
    "df_trains.to_csv(\"../data/processed/filtered_files/filtered_trains.csv\", index=False)"
   ]
  },
  {
   "cell_type": "markdown",
   "metadata": {},
   "source": [
    "### Trains - Regional"
   ]
  },
  {
   "cell_type": "code",
   "execution_count": 109,
   "metadata": {},
   "outputs": [],
   "source": [
    "df_trains_regional = pd.read_csv(\"../data/raw/listado-estaciones-completo-act.csv\",encoding=\"ISO-8859-1\", sep=\";\", decimal=\",\")"
   ]
  },
  {
   "cell_type": "code",
   "execution_count": 110,
   "metadata": {},
   "outputs": [
    {
     "data": {
      "text/html": [
       "<div>\n",
       "<style scoped>\n",
       "    .dataframe tbody tr th:only-of-type {\n",
       "        vertical-align: middle;\n",
       "    }\n",
       "\n",
       "    .dataframe tbody tr th {\n",
       "        vertical-align: top;\n",
       "    }\n",
       "\n",
       "    .dataframe thead th {\n",
       "        text-align: right;\n",
       "    }\n",
       "</style>\n",
       "<table border=\"1\" class=\"dataframe\">\n",
       "  <thead>\n",
       "    <tr style=\"text-align: right;\">\n",
       "      <th></th>\n",
       "      <th>CODIGO</th>\n",
       "      <th>DESCRIPCION</th>\n",
       "      <th>LATITUD</th>\n",
       "      <th>LONGITUD</th>\n",
       "      <th>DIRECION</th>\n",
       "      <th>CP</th>\n",
       "      <th>POBLACION</th>\n",
       "      <th>PROVINCIA</th>\n",
       "      <th>PAIS</th>\n",
       "      <th>CERCANIAS</th>\n",
       "      <th>FEVE</th>\n",
       "      <th>COMUN</th>\n",
       "    </tr>\n",
       "  </thead>\n",
       "  <tbody>\n",
       "    <tr>\n",
       "      <th>0</th>\n",
       "      <td>01001</td>\n",
       "      <td>EL SORBITO (APD-CGD)</td>\n",
       "      <td>37.2084750</td>\n",
       "      <td>-5.7066420</td>\n",
       "      <td>NaN</td>\n",
       "      <td>NaN</td>\n",
       "      <td>ALCALÁ DE GUADAÍRA</td>\n",
       "      <td>SEVILLA</td>\n",
       "      <td>ESPAÑA</td>\n",
       "      <td>NO</td>\n",
       "      <td>NO</td>\n",
       "      <td>NaN</td>\n",
       "    </tr>\n",
       "    <tr>\n",
       "      <th>1</th>\n",
       "      <td>01002</td>\n",
       "      <td>LA TRINIDAD   (APT-CGD)</td>\n",
       "      <td>NaN</td>\n",
       "      <td>NaN</td>\n",
       "      <td>NaN</td>\n",
       "      <td>NaN</td>\n",
       "      <td>ALCALÁ DE GUADAÍRA</td>\n",
       "      <td>SEVILLA</td>\n",
       "      <td>ESPAÑA</td>\n",
       "      <td>NO</td>\n",
       "      <td>NO</td>\n",
       "      <td>NaN</td>\n",
       "    </tr>\n",
       "    <tr>\n",
       "      <th>2</th>\n",
       "      <td>01003</td>\n",
       "      <td>ARAHAL</td>\n",
       "      <td>37.2680810</td>\n",
       "      <td>-5.5485140</td>\n",
       "      <td>Calle Virgen de los Dolores, S/N</td>\n",
       "      <td>41600</td>\n",
       "      <td>ARAHAL</td>\n",
       "      <td>SEVILLA</td>\n",
       "      <td>ESPAÑA</td>\n",
       "      <td>NO</td>\n",
       "      <td>NO</td>\n",
       "      <td>NaN</td>\n",
       "    </tr>\n",
       "    <tr>\n",
       "      <th>3</th>\n",
       "      <td>01004</td>\n",
       "      <td>PARADAS (APD-CGD)</td>\n",
       "      <td>NaN</td>\n",
       "      <td>NaN</td>\n",
       "      <td>NaN</td>\n",
       "      <td>NaN</td>\n",
       "      <td>PARADAS</td>\n",
       "      <td>SEVILLA</td>\n",
       "      <td>ESPAÑA</td>\n",
       "      <td>NO</td>\n",
       "      <td>NO</td>\n",
       "      <td>NaN</td>\n",
       "    </tr>\n",
       "    <tr>\n",
       "      <th>4</th>\n",
       "      <td>01005</td>\n",
       "      <td>MARCHENA</td>\n",
       "      <td>37.3342820</td>\n",
       "      <td>-5.4255190</td>\n",
       "      <td>Avenida Maestro Santos Ruano, 8</td>\n",
       "      <td>41620</td>\n",
       "      <td>MARCHENA</td>\n",
       "      <td>SEVILLA</td>\n",
       "      <td>ESPAÑA</td>\n",
       "      <td>NO</td>\n",
       "      <td>NO</td>\n",
       "      <td>NaN</td>\n",
       "    </tr>\n",
       "  </tbody>\n",
       "</table>\n",
       "</div>"
      ],
      "text/plain": [
       "  CODIGO                               DESCRIPCION     LATITUD    LONGITUD  \\\n",
       "0  01001  EL SORBITO (APD-CGD)                      37.2084750  -5.7066420   \n",
       "1  01002  LA TRINIDAD   (APT-CGD)                          NaN         NaN   \n",
       "2  01003  ARAHAL                                    37.2680810  -5.5485140   \n",
       "3  01004  PARADAS (APD-CGD)                                NaN         NaN   \n",
       "4  01005  MARCHENA                                  37.3342820  -5.4255190   \n",
       "\n",
       "                           DIRECION     CP           POBLACION PROVINCIA  \\\n",
       "0                               NaN    NaN  ALCALÁ DE GUADAÍRA   SEVILLA   \n",
       "1                               NaN    NaN  ALCALÁ DE GUADAÍRA   SEVILLA   \n",
       "2  Calle Virgen de los Dolores, S/N  41600              ARAHAL   SEVILLA   \n",
       "3                               NaN    NaN             PARADAS   SEVILLA   \n",
       "4   Avenida Maestro Santos Ruano, 8  41620            MARCHENA   SEVILLA   \n",
       "\n",
       "     PAIS CERCANIAS FEVE COMUN  \n",
       "0  ESPAÑA        NO   NO   NaN  \n",
       "1  ESPAÑA        NO   NO   NaN  \n",
       "2  ESPAÑA        NO   NO   NaN  \n",
       "3  ESPAÑA        NO   NO   NaN  \n",
       "4  ESPAÑA        NO   NO   NaN  "
      ]
     },
     "execution_count": 110,
     "metadata": {},
     "output_type": "execute_result"
    }
   ],
   "source": [
    "df_trains_regional.head()"
   ]
  },
  {
   "cell_type": "code",
   "execution_count": 111,
   "metadata": {},
   "outputs": [
    {
     "data": {
      "text/plain": [
       "CODIGO            0\n",
       "DESCRIPCION       2\n",
       "LATITUD         597\n",
       "LONGITUD        597\n",
       "DIRECION       1233\n",
       "CP             1268\n",
       "POBLACION        21\n",
       "PROVINCIA       154\n",
       "PAIS              3\n",
       "CERCANIAS         0\n",
       "FEVE              0\n",
       "COMUN          2704\n",
       "dtype: int64"
      ]
     },
     "execution_count": 111,
     "metadata": {},
     "output_type": "execute_result"
    }
   ],
   "source": [
    "df_trains_regional.isna().sum()"
   ]
  },
  {
   "cell_type": "code",
   "execution_count": 112,
   "metadata": {},
   "outputs": [],
   "source": [
    "df_trains_regional = df_trains_regional.drop([\"DIRECION\", \"PROVINCIA\", \"FEVE\", \"COMUN\", \"CP\"], axis=1)\n",
    "df_trains_regional.rename(columns={\"CODIGO\": \"station_code\",\n",
    "                          \"DESCRIPCION\": \"station_name\",\n",
    "                          \"LATITUD\": \"latitude\",\n",
    "                          \"POBLACION\": \"municipality\",\n",
    "                          \"LONGITUD\": \"longitude\",\n",
    "                          \"CERCANIAS\": \"suburban_train\" }, inplace=True)"
   ]
  },
  {
   "cell_type": "code",
   "execution_count": 113,
   "metadata": {},
   "outputs": [
    {
     "data": {
      "text/plain": [
       "array(['ESPAÑA', nan, 'ITALIA', 'SUIZA', 'FRANCIA', 'PORTUGAL'],\n",
       "      dtype=object)"
      ]
     },
     "execution_count": 113,
     "metadata": {},
     "output_type": "execute_result"
    }
   ],
   "source": [
    "df_trains_regional[\"PAIS\"].unique()"
   ]
  },
  {
   "cell_type": "code",
   "execution_count": 114,
   "metadata": {},
   "outputs": [],
   "source": [
    "df_trains_regional = df_trains_regional.drop(df_trains_regional[df_trains_regional[\"PAIS\"] == \"FRANCIA\"].index)\n",
    "df_trains_regional = df_trains_regional.drop(df_trains_regional[df_trains_regional[\"PAIS\"] == \"PORTUGAL\"].index)\n",
    "df_trains_regional = df_trains_regional.drop(df_trains_regional[df_trains_regional[\"PAIS\"] == \"SUIZA\"].index)\n",
    "\n",
    "df_trains_regional = df_trains_regional.drop([\"PAIS\"], axis = 1)"
   ]
  },
  {
   "cell_type": "code",
   "execution_count": 115,
   "metadata": {},
   "outputs": [],
   "source": [
    "# I will remove these ones for now, to not overcomplicate. the municipality could be figured out at some point in the future. \n",
    "df_trains_regional = df_trains_regional.dropna(subset=[\"municipality\"])"
   ]
  },
  {
   "cell_type": "code",
   "execution_count": 116,
   "metadata": {},
   "outputs": [],
   "source": [
    "df_trains_regional['station_name'] = df_trains_regional['station_name'].str.title()\n",
    "df_trains_regional['municipality'] = df_trains_regional['municipality'].str.title()"
   ]
  },
  {
   "cell_type": "code",
   "execution_count": 117,
   "metadata": {},
   "outputs": [
    {
     "data": {
      "text/plain": [
       "station_code        0\n",
       "station_name        2\n",
       "latitude          532\n",
       "longitude         532\n",
       "municipality        0\n",
       "suburban_train      0\n",
       "dtype: int64"
      ]
     },
     "execution_count": 117,
     "metadata": {},
     "output_type": "execute_result"
    }
   ],
   "source": [
    "df_trains_regional.isna().sum()"
   ]
  },
  {
   "cell_type": "code",
   "execution_count": 118,
   "metadata": {},
   "outputs": [],
   "source": [
    "df_trains_regional[['municipality_1', 'municipality_2']] = df_trains_regional['municipality'].str.split('/', n=1, expand=True)"
   ]
  },
  {
   "cell_type": "code",
   "execution_count": 119,
   "metadata": {},
   "outputs": [],
   "source": [
    "municipalities_to_change = ['Karrantza Harana',\n",
    "       'Iruña Oka', 'Olazti', 'Altsasu', 'Donostia',\n",
    "       'Peníscola',  'Borriana', 'Hiriberri']\n",
    "\n",
    "# Assign \"change\" to the new column where language=True and municipality_1 is in the list\n",
    "df_trains_regional.loc[\n",
    "    (df_trains_regional[\"municipality_1\"].isin(municipalities_to_change)), \n",
    "    \"change\"\n",
    "] = \"change\""
   ]
  },
  {
   "cell_type": "code",
   "execution_count": 120,
   "metadata": {},
   "outputs": [],
   "source": [
    "df_trains_regional.loc[df_trains_regional[\"change\"] == \"change\", [\"municipality_1\", \"municipality_2\"]] = df_trains_regional.loc[df_trains_regional[\"change\"] == \"change\", [\"municipality_2\", \"municipality_1\"]].values"
   ]
  },
  {
   "cell_type": "code",
   "execution_count": 121,
   "metadata": {},
   "outputs": [
    {
     "data": {
      "text/plain": [
       "station_code         0\n",
       "station_name         2\n",
       "latitude           532\n",
       "longitude          532\n",
       "municipality         0\n",
       "suburban_train       0\n",
       "municipality_1       0\n",
       "municipality_2    2562\n",
       "change            2626\n",
       "dtype: int64"
      ]
     },
     "execution_count": 121,
     "metadata": {},
     "output_type": "execute_result"
    }
   ],
   "source": [
    "df_trains_regional.isna().sum()"
   ]
  },
  {
   "cell_type": "code",
   "execution_count": 122,
   "metadata": {},
   "outputs": [
    {
     "data": {
      "text/html": [
       "<div>\n",
       "<style scoped>\n",
       "    .dataframe tbody tr th:only-of-type {\n",
       "        vertical-align: middle;\n",
       "    }\n",
       "\n",
       "    .dataframe tbody tr th {\n",
       "        vertical-align: top;\n",
       "    }\n",
       "\n",
       "    .dataframe thead th {\n",
       "        text-align: right;\n",
       "    }\n",
       "</style>\n",
       "<table border=\"1\" class=\"dataframe\">\n",
       "  <thead>\n",
       "    <tr style=\"text-align: right;\">\n",
       "      <th></th>\n",
       "      <th>cmun</th>\n",
       "      <th>municipality</th>\n",
       "      <th>municipality_1</th>\n",
       "      <th>municipality_2</th>\n",
       "      <th>province</th>\n",
       "      <th>autonomous_community</th>\n",
       "      <th>latitude</th>\n",
       "      <th>longitude</th>\n",
       "      <th>altitude</th>\n",
       "    </tr>\n",
       "  </thead>\n",
       "  <tbody>\n",
       "    <tr>\n",
       "      <th>0</th>\n",
       "      <td>1001</td>\n",
       "      <td>Alegría-Dulantzi</td>\n",
       "      <td>alegriadulantzi</td>\n",
       "      <td>NaN</td>\n",
       "      <td>Álava</td>\n",
       "      <td>País Vasco</td>\n",
       "      <td>42.84149</td>\n",
       "      <td>-2.513507</td>\n",
       "      <td>561.6857</td>\n",
       "    </tr>\n",
       "    <tr>\n",
       "      <th>1</th>\n",
       "      <td>1002</td>\n",
       "      <td>Amurrio</td>\n",
       "      <td>amurrio</td>\n",
       "      <td>NaN</td>\n",
       "      <td>Álava</td>\n",
       "      <td>País Vasco</td>\n",
       "      <td>43.05265</td>\n",
       "      <td>-3.001022</td>\n",
       "      <td>219.6910</td>\n",
       "    </tr>\n",
       "    <tr>\n",
       "      <th>2</th>\n",
       "      <td>1003</td>\n",
       "      <td>Aramaio</td>\n",
       "      <td>aramaio</td>\n",
       "      <td>NaN</td>\n",
       "      <td>Álava</td>\n",
       "      <td>País Vasco</td>\n",
       "      <td>43.05400</td>\n",
       "      <td>-2.566000</td>\n",
       "      <td>381.8797</td>\n",
       "    </tr>\n",
       "    <tr>\n",
       "      <th>3</th>\n",
       "      <td>1004</td>\n",
       "      <td>Artziniega</td>\n",
       "      <td>artziniega</td>\n",
       "      <td>NaN</td>\n",
       "      <td>Álava</td>\n",
       "      <td>País Vasco</td>\n",
       "      <td>43.12220</td>\n",
       "      <td>-3.128209</td>\n",
       "      <td>196.9808</td>\n",
       "    </tr>\n",
       "    <tr>\n",
       "      <th>4</th>\n",
       "      <td>1006</td>\n",
       "      <td>Armiñón</td>\n",
       "      <td>arminon</td>\n",
       "      <td>NaN</td>\n",
       "      <td>Álava</td>\n",
       "      <td>País Vasco</td>\n",
       "      <td>42.72305</td>\n",
       "      <td>-2.872574</td>\n",
       "      <td>463.5815</td>\n",
       "    </tr>\n",
       "  </tbody>\n",
       "</table>\n",
       "</div>"
      ],
      "text/plain": [
       "   cmun      municipality   municipality_1 municipality_2 province  \\\n",
       "0  1001  Alegría-Dulantzi  alegriadulantzi            NaN    Álava   \n",
       "1  1002           Amurrio          amurrio            NaN    Álava   \n",
       "2  1003           Aramaio          aramaio            NaN    Álava   \n",
       "3  1004        Artziniega       artziniega            NaN    Álava   \n",
       "4  1006           Armiñón          arminon            NaN    Álava   \n",
       "\n",
       "  autonomous_community  latitude  longitude  altitude  \n",
       "0           País Vasco  42.84149  -2.513507  561.6857  \n",
       "1           País Vasco  43.05265  -3.001022  219.6910  \n",
       "2           País Vasco  43.05400  -2.566000  381.8797  \n",
       "3           País Vasco  43.12220  -3.128209  196.9808  \n",
       "4           País Vasco  42.72305  -2.872574  463.5815  "
      ]
     },
     "execution_count": 122,
     "metadata": {},
     "output_type": "execute_result"
    }
   ],
   "source": [
    "municipality_coordinates = pd.read_csv(\"../data/processed/filtered_files/filtered_municipalities.csv\")\n",
    "municipality_coordinates.head()"
   ]
  },
  {
   "cell_type": "code",
   "execution_count": 123,
   "metadata": {},
   "outputs": [],
   "source": [
    "from unidecode import unidecode\n",
    "\n",
    "# Function to clean a column (remove accents, normalize case)\n",
    "def clean_column(column):\n",
    "    return column.apply(lambda x: unidecode(str(x)).strip().lower() if pd.notna(x) else x)\n",
    "\n",
    "# Apply cleaning to df_municipalities\n",
    "df_trains_regional[\"municipality_1\"] = clean_column(df_trains_regional[\"municipality_1\"])\n",
    "df_trains_regional[\"municipality_2\"] = clean_column(df_trains_regional[\"municipality_2\"])"
   ]
  },
  {
   "cell_type": "code",
   "execution_count": 124,
   "metadata": {},
   "outputs": [
    {
     "data": {
      "text/html": [
       "<div>\n",
       "<style scoped>\n",
       "    .dataframe tbody tr th:only-of-type {\n",
       "        vertical-align: middle;\n",
       "    }\n",
       "\n",
       "    .dataframe tbody tr th {\n",
       "        vertical-align: top;\n",
       "    }\n",
       "\n",
       "    .dataframe thead th {\n",
       "        text-align: right;\n",
       "    }\n",
       "</style>\n",
       "<table border=\"1\" class=\"dataframe\">\n",
       "  <thead>\n",
       "    <tr style=\"text-align: right;\">\n",
       "      <th></th>\n",
       "      <th>station_code</th>\n",
       "      <th>station_name</th>\n",
       "      <th>latitude</th>\n",
       "      <th>longitude</th>\n",
       "      <th>municipality</th>\n",
       "      <th>suburban_train</th>\n",
       "      <th>municipality_1</th>\n",
       "      <th>municipality_2</th>\n",
       "      <th>change</th>\n",
       "    </tr>\n",
       "  </thead>\n",
       "  <tbody>\n",
       "    <tr>\n",
       "      <th>0</th>\n",
       "      <td>01001</td>\n",
       "      <td>El Sorbito (Apd-Cgd)</td>\n",
       "      <td>37.2084750</td>\n",
       "      <td>-5.7066420</td>\n",
       "      <td>Alcalá De Guadaíra</td>\n",
       "      <td>NO</td>\n",
       "      <td>alcaladeguadaira</td>\n",
       "      <td>None</td>\n",
       "      <td>NaN</td>\n",
       "    </tr>\n",
       "    <tr>\n",
       "      <th>1</th>\n",
       "      <td>01002</td>\n",
       "      <td>La Trinidad   (Apt-Cgd)</td>\n",
       "      <td>NaN</td>\n",
       "      <td>NaN</td>\n",
       "      <td>Alcalá De Guadaíra</td>\n",
       "      <td>NO</td>\n",
       "      <td>alcaladeguadaira</td>\n",
       "      <td>None</td>\n",
       "      <td>NaN</td>\n",
       "    </tr>\n",
       "    <tr>\n",
       "      <th>2</th>\n",
       "      <td>01003</td>\n",
       "      <td>Arahal</td>\n",
       "      <td>37.2680810</td>\n",
       "      <td>-5.5485140</td>\n",
       "      <td>Arahal</td>\n",
       "      <td>NO</td>\n",
       "      <td>arahal</td>\n",
       "      <td>None</td>\n",
       "      <td>NaN</td>\n",
       "    </tr>\n",
       "    <tr>\n",
       "      <th>3</th>\n",
       "      <td>01004</td>\n",
       "      <td>Paradas (Apd-Cgd)</td>\n",
       "      <td>NaN</td>\n",
       "      <td>NaN</td>\n",
       "      <td>Paradas</td>\n",
       "      <td>NO</td>\n",
       "      <td>paradas</td>\n",
       "      <td>None</td>\n",
       "      <td>NaN</td>\n",
       "    </tr>\n",
       "    <tr>\n",
       "      <th>4</th>\n",
       "      <td>01005</td>\n",
       "      <td>Marchena</td>\n",
       "      <td>37.3342820</td>\n",
       "      <td>-5.4255190</td>\n",
       "      <td>Marchena</td>\n",
       "      <td>NO</td>\n",
       "      <td>marchena</td>\n",
       "      <td>None</td>\n",
       "      <td>NaN</td>\n",
       "    </tr>\n",
       "  </tbody>\n",
       "</table>\n",
       "</div>"
      ],
      "text/plain": [
       "  station_code                              station_name    latitude  \\\n",
       "0        01001  El Sorbito (Apd-Cgd)                      37.2084750   \n",
       "1        01002  La Trinidad   (Apt-Cgd)                          NaN   \n",
       "2        01003  Arahal                                    37.2680810   \n",
       "3        01004  Paradas (Apd-Cgd)                                NaN   \n",
       "4        01005  Marchena                                  37.3342820   \n",
       "\n",
       "    longitude        municipality suburban_train    municipality_1  \\\n",
       "0  -5.7066420  Alcalá De Guadaíra             NO  alcaladeguadaira   \n",
       "1         NaN  Alcalá De Guadaíra             NO  alcaladeguadaira   \n",
       "2  -5.5485140              Arahal             NO            arahal   \n",
       "3         NaN             Paradas             NO           paradas   \n",
       "4  -5.4255190            Marchena             NO          marchena   \n",
       "\n",
       "  municipality_2 change  \n",
       "0           None    NaN  \n",
       "1           None    NaN  \n",
       "2           None    NaN  \n",
       "3           None    NaN  \n",
       "4           None    NaN  "
      ]
     },
     "execution_count": 124,
     "metadata": {},
     "output_type": "execute_result"
    }
   ],
   "source": [
    "df_trains_regional[\"municipality_1\"] = df_trains_regional[\"municipality_1\"].str.strip()  # Remove leading/trailing spaces\n",
    "df_trains_regional[\"municipality_1\"] = df_trains_regional[\"municipality_1\"].str.replace(r\"\\s+\", \" \", regex=True)  # Remove extra spaces\n",
    "df_trains_regional[\"municipality_1\"] = df_trains_regional[\"municipality_1\"].str.replace(r\"[\\u200b\\u2060]\", \"\", regex=True)  # Remove zero-width spaces\n",
    "df_trains_regional[\"municipality_1\"] = df_trains_regional[\"municipality_1\"].str.replace(\" \", \"\", regex=True)  # Remove zero-width spaces\n",
    "df_trains_regional['municipality_1'] = df_trains_regional['municipality_1'].str.replace(r'/.*', '', regex=True)\n",
    "df_trains_regional['municipality_1'] = df_trains_regional['municipality_1'].str.replace(\",\",\"\")\n",
    "df_trains_regional['municipality_1'] = df_trains_regional['municipality_1'].str.replace(\"(\",\"\")\n",
    "df_trains_regional['municipality_1'] = df_trains_regional['municipality_1'].str.replace(\")\",\"\")\n",
    "\n",
    "df_trains_regional[\"municipality_2\"] = df_trains_regional[\"municipality_2\"].str.strip()  # Remove leading/trailing spaces\n",
    "df_trains_regional[\"municipality_2\"] = df_trains_regional[\"municipality_2\"].str.replace(r\"\\s+\", \" \", regex=True)  # Remove extra spaces\n",
    "df_trains_regional[\"municipality_2\"] = df_trains_regional[\"municipality_2\"].str.replace(r\"[\\u200b\\u2060]\", \"\", regex=True)  # Remove zero-width spaces\n",
    "df_trains_regional[\"municipality_2\"] = df_trains_regional[\"municipality_2\"].str.replace(\" \", \"\", regex=True)  # Remove zero-width spaces\n",
    "df_trains_regional['municipality_2'] = df_trains_regional['municipality_2'].str.replace(r'/.*', '', regex=True)\n",
    "df_trains_regional['municipality_2'] = df_trains_regional['municipality_2'].str.replace(\",\",\"\")\n",
    "df_trains_regional['municipality_2'] = df_trains_regional['municipality_2'].str.replace(\"(\",\"\")\n",
    "df_trains_regional['municipality_2'] = df_trains_regional['municipality_2'].str.replace(\")\",\"\")\n",
    "\n",
    "df_trains_regional.head()"
   ]
  },
  {
   "cell_type": "code",
   "execution_count": 125,
   "metadata": {},
   "outputs": [
    {
     "data": {
      "text/plain": [
       "(2643, 9)"
      ]
     },
     "execution_count": 125,
     "metadata": {},
     "output_type": "execute_result"
    }
   ],
   "source": [
    "df_trains_regional.shape"
   ]
  },
  {
   "cell_type": "code",
   "execution_count": 126,
   "metadata": {},
   "outputs": [
    {
     "data": {
      "text/plain": [
       "station_code         0\n",
       "station_name         2\n",
       "latitude           532\n",
       "longitude          532\n",
       "municipality         0\n",
       "suburban_train       0\n",
       "municipality_1       0\n",
       "municipality_2    2562\n",
       "change            2626\n",
       "dtype: int64"
      ]
     },
     "execution_count": 126,
     "metadata": {},
     "output_type": "execute_result"
    }
   ],
   "source": [
    "df_trains_regional.isna().sum()"
   ]
  },
  {
   "cell_type": "markdown",
   "metadata": {},
   "source": [
    "---"
   ]
  },
  {
   "cell_type": "code",
   "execution_count": 127,
   "metadata": {},
   "outputs": [],
   "source": [
    "merge_1 = df_trains_regional.merge(municipality_coordinates, on = \"municipality_1\", how=\"left\")"
   ]
  },
  {
   "cell_type": "code",
   "execution_count": 128,
   "metadata": {},
   "outputs": [
    {
     "data": {
      "text/plain": [
       "station_code               0\n",
       "station_name               2\n",
       "latitude_x               532\n",
       "longitude_x              532\n",
       "municipality_x             0\n",
       "suburban_train             0\n",
       "municipality_1             0\n",
       "municipality_2_x        2562\n",
       "change                  2626\n",
       "cmun                      98\n",
       "municipality_y            98\n",
       "municipality_2_y        2591\n",
       "province                  98\n",
       "autonomous_community      98\n",
       "latitude_y                98\n",
       "longitude_y               98\n",
       "altitude                  98\n",
       "dtype: int64"
      ]
     },
     "execution_count": 128,
     "metadata": {},
     "output_type": "execute_result"
    }
   ],
   "source": [
    "merge_1.isna().sum()"
   ]
  },
  {
   "cell_type": "code",
   "execution_count": 129,
   "metadata": {},
   "outputs": [],
   "source": [
    "merge_1 = merge_1.dropna(subset=['latitude_y'])"
   ]
  },
  {
   "cell_type": "code",
   "execution_count": 130,
   "metadata": {},
   "outputs": [],
   "source": [
    "merge_2 = df_trains_regional.merge(municipality_coordinates, left_on=\"municipality_1\", right_on=\"municipality_2\", how=\"left\")"
   ]
  },
  {
   "cell_type": "code",
   "execution_count": 131,
   "metadata": {},
   "outputs": [],
   "source": [
    "merge_2 = merge_2.dropna(subset=['latitude_y'])"
   ]
  },
  {
   "cell_type": "code",
   "execution_count": 132,
   "metadata": {},
   "outputs": [],
   "source": [
    "merged_df = pd.concat([merge_1, merge_2])"
   ]
  },
  {
   "cell_type": "code",
   "execution_count": 133,
   "metadata": {},
   "outputs": [
    {
     "data": {
      "text/plain": [
       "(2547, 19)"
      ]
     },
     "execution_count": 133,
     "metadata": {},
     "output_type": "execute_result"
    }
   ],
   "source": [
    "merged_df.shape"
   ]
  },
  {
   "cell_type": "code",
   "execution_count": 134,
   "metadata": {},
   "outputs": [],
   "source": [
    "merge_3 = df_trains_regional.merge(municipality_coordinates, left_on=\"municipality_2\", right_on=\"municipality_1\", how=\"left\")"
   ]
  },
  {
   "cell_type": "code",
   "execution_count": 135,
   "metadata": {},
   "outputs": [],
   "source": [
    "merge_3 = merge_3.dropna(subset=['latitude_y'])"
   ]
  },
  {
   "cell_type": "code",
   "execution_count": 136,
   "metadata": {},
   "outputs": [],
   "source": [
    "merged_df = pd.concat([merged_df, merge_3])"
   ]
  },
  {
   "cell_type": "code",
   "execution_count": 137,
   "metadata": {},
   "outputs": [
    {
     "data": {
      "text/plain": [
       "(2557, 19)"
      ]
     },
     "execution_count": 137,
     "metadata": {},
     "output_type": "execute_result"
    }
   ],
   "source": [
    "merged_df.shape"
   ]
  },
  {
   "cell_type": "code",
   "execution_count": 138,
   "metadata": {},
   "outputs": [],
   "source": [
    "# Fill missing values in municipality_2 with \"none\" (as a string)\n",
    "df_trains_regional[\"municipality_2\"] = df_trains_regional[\"municipality_2\"].fillna(\"none\")\n",
    "# Fill missing values in municipality_2 with \"none\" (as a string)\n",
    "municipality_coordinates[\"municipality_2\"] = municipality_coordinates[\"municipality_2\"].fillna(\"none\")"
   ]
  },
  {
   "cell_type": "code",
   "execution_count": 139,
   "metadata": {},
   "outputs": [
    {
     "data": {
      "text/html": [
       "<div>\n",
       "<style scoped>\n",
       "    .dataframe tbody tr th:only-of-type {\n",
       "        vertical-align: middle;\n",
       "    }\n",
       "\n",
       "    .dataframe tbody tr th {\n",
       "        vertical-align: top;\n",
       "    }\n",
       "\n",
       "    .dataframe thead th {\n",
       "        text-align: right;\n",
       "    }\n",
       "</style>\n",
       "<table border=\"1\" class=\"dataframe\">\n",
       "  <thead>\n",
       "    <tr style=\"text-align: right;\">\n",
       "      <th></th>\n",
       "      <th>station_code</th>\n",
       "      <th>station_name</th>\n",
       "      <th>latitude</th>\n",
       "      <th>longitude</th>\n",
       "      <th>municipality</th>\n",
       "      <th>suburban_train</th>\n",
       "      <th>municipality_1</th>\n",
       "      <th>municipality_2</th>\n",
       "      <th>change</th>\n",
       "    </tr>\n",
       "  </thead>\n",
       "  <tbody>\n",
       "    <tr>\n",
       "      <th>0</th>\n",
       "      <td>01001</td>\n",
       "      <td>El Sorbito (Apd-Cgd)</td>\n",
       "      <td>37.2084750</td>\n",
       "      <td>-5.7066420</td>\n",
       "      <td>Alcalá De Guadaíra</td>\n",
       "      <td>NO</td>\n",
       "      <td>alcaladeguadaira</td>\n",
       "      <td>none</td>\n",
       "      <td>NaN</td>\n",
       "    </tr>\n",
       "    <tr>\n",
       "      <th>1</th>\n",
       "      <td>01002</td>\n",
       "      <td>La Trinidad   (Apt-Cgd)</td>\n",
       "      <td>NaN</td>\n",
       "      <td>NaN</td>\n",
       "      <td>Alcalá De Guadaíra</td>\n",
       "      <td>NO</td>\n",
       "      <td>alcaladeguadaira</td>\n",
       "      <td>none</td>\n",
       "      <td>NaN</td>\n",
       "    </tr>\n",
       "    <tr>\n",
       "      <th>2</th>\n",
       "      <td>01003</td>\n",
       "      <td>Arahal</td>\n",
       "      <td>37.2680810</td>\n",
       "      <td>-5.5485140</td>\n",
       "      <td>Arahal</td>\n",
       "      <td>NO</td>\n",
       "      <td>arahal</td>\n",
       "      <td>none</td>\n",
       "      <td>NaN</td>\n",
       "    </tr>\n",
       "    <tr>\n",
       "      <th>3</th>\n",
       "      <td>01004</td>\n",
       "      <td>Paradas (Apd-Cgd)</td>\n",
       "      <td>NaN</td>\n",
       "      <td>NaN</td>\n",
       "      <td>Paradas</td>\n",
       "      <td>NO</td>\n",
       "      <td>paradas</td>\n",
       "      <td>none</td>\n",
       "      <td>NaN</td>\n",
       "    </tr>\n",
       "    <tr>\n",
       "      <th>4</th>\n",
       "      <td>01005</td>\n",
       "      <td>Marchena</td>\n",
       "      <td>37.3342820</td>\n",
       "      <td>-5.4255190</td>\n",
       "      <td>Marchena</td>\n",
       "      <td>NO</td>\n",
       "      <td>marchena</td>\n",
       "      <td>none</td>\n",
       "      <td>NaN</td>\n",
       "    </tr>\n",
       "  </tbody>\n",
       "</table>\n",
       "</div>"
      ],
      "text/plain": [
       "  station_code                              station_name    latitude  \\\n",
       "0        01001  El Sorbito (Apd-Cgd)                      37.2084750   \n",
       "1        01002  La Trinidad   (Apt-Cgd)                          NaN   \n",
       "2        01003  Arahal                                    37.2680810   \n",
       "3        01004  Paradas (Apd-Cgd)                                NaN   \n",
       "4        01005  Marchena                                  37.3342820   \n",
       "\n",
       "    longitude        municipality suburban_train    municipality_1  \\\n",
       "0  -5.7066420  Alcalá De Guadaíra             NO  alcaladeguadaira   \n",
       "1         NaN  Alcalá De Guadaíra             NO  alcaladeguadaira   \n",
       "2  -5.5485140              Arahal             NO            arahal   \n",
       "3         NaN             Paradas             NO           paradas   \n",
       "4  -5.4255190            Marchena             NO          marchena   \n",
       "\n",
       "  municipality_2 change  \n",
       "0           none    NaN  \n",
       "1           none    NaN  \n",
       "2           none    NaN  \n",
       "3           none    NaN  \n",
       "4           none    NaN  "
      ]
     },
     "execution_count": 139,
     "metadata": {},
     "output_type": "execute_result"
    }
   ],
   "source": [
    "df_trains_regional.head()"
   ]
  },
  {
   "cell_type": "code",
   "execution_count": 140,
   "metadata": {},
   "outputs": [],
   "source": [
    "municipality_coordinates = municipality_coordinates[municipality_coordinates[\"municipality_2\"] != \"none\"]\n",
    "df_trains_regional = df_trains_regional[df_trains_regional[\"municipality_2\"] != \"none\"]"
   ]
  },
  {
   "cell_type": "code",
   "execution_count": 141,
   "metadata": {},
   "outputs": [],
   "source": [
    "# Perform merges on all combinations\n",
    "merge_4 = df_trains_regional.merge(municipality_coordinates, left_on=\"municipality_2\", right_on=\"municipality_2\", how=\"left\")"
   ]
  },
  {
   "cell_type": "code",
   "execution_count": 142,
   "metadata": {},
   "outputs": [
    {
     "data": {
      "text/plain": [
       "station_code             0\n",
       "station_name             0\n",
       "latitude_x              28\n",
       "longitude_x             28\n",
       "municipality_x           0\n",
       "suburban_train           0\n",
       "municipality_1_x         0\n",
       "municipality_2           0\n",
       "change                  64\n",
       "cmun                    31\n",
       "municipality_y          31\n",
       "municipality_1_y        31\n",
       "province                31\n",
       "autonomous_community    31\n",
       "latitude_y              31\n",
       "longitude_y             31\n",
       "altitude                31\n",
       "dtype: int64"
      ]
     },
     "execution_count": 142,
     "metadata": {},
     "output_type": "execute_result"
    }
   ],
   "source": [
    "merge_4.isna().sum()"
   ]
  },
  {
   "cell_type": "code",
   "execution_count": 143,
   "metadata": {},
   "outputs": [],
   "source": [
    "merge_4 = merge_4.dropna(subset=['latitude_y'])"
   ]
  },
  {
   "cell_type": "code",
   "execution_count": 144,
   "metadata": {},
   "outputs": [],
   "source": [
    "# Concatenate results and drop duplicates\n",
    "merged_df = pd.concat([merged_df, merge_4])"
   ]
  },
  {
   "cell_type": "code",
   "execution_count": 145,
   "metadata": {},
   "outputs": [
    {
     "data": {
      "text/plain": [
       "station_code               0\n",
       "station_name               1\n",
       "latitude_x               541\n",
       "longitude_x              541\n",
       "municipality_x             0\n",
       "suburban_train             0\n",
       "municipality_1            62\n",
       "municipality_2_x        2531\n",
       "change                  2595\n",
       "cmun                       0\n",
       "municipality_y             0\n",
       "municipality_2_y        2553\n",
       "province                   0\n",
       "autonomous_community       0\n",
       "latitude_y                 0\n",
       "longitude_y                0\n",
       "altitude                   0\n",
       "municipality_1_x        2545\n",
       "municipality_1_y        2545\n",
       "municipality_2          2557\n",
       "dtype: int64"
      ]
     },
     "execution_count": 145,
     "metadata": {},
     "output_type": "execute_result"
    }
   ],
   "source": [
    "merged_df.isna().sum()"
   ]
  },
  {
   "cell_type": "code",
   "execution_count": 146,
   "metadata": {},
   "outputs": [
    {
     "name": "stderr",
     "output_type": "stream",
     "text": [
      "C:\\Users\\Marina\\AppData\\Local\\Temp\\ipykernel_21716\\2203639066.py:2: FutureWarning:\n",
      "\n",
      "A value is trying to be set on a copy of a DataFrame or Series through chained assignment using an inplace method.\n",
      "The behavior will change in pandas 3.0. This inplace method will never work because the intermediate object on which we are setting values always behaves as a copy.\n",
      "\n",
      "For example, when doing 'df[col].method(value, inplace=True)', try using 'df.method({col: value}, inplace=True)' or df[col] = df[col].method(value) instead, to perform the operation inplace on the original object.\n",
      "\n",
      "\n",
      "\n",
      "C:\\Users\\Marina\\AppData\\Local\\Temp\\ipykernel_21716\\2203639066.py:3: FutureWarning:\n",
      "\n",
      "A value is trying to be set on a copy of a DataFrame or Series through chained assignment using an inplace method.\n",
      "The behavior will change in pandas 3.0. This inplace method will never work because the intermediate object on which we are setting values always behaves as a copy.\n",
      "\n",
      "For example, when doing 'df[col].method(value, inplace=True)', try using 'df.method({col: value}, inplace=True)' or df[col] = df[col].method(value) instead, to perform the operation inplace on the original object.\n",
      "\n",
      "\n",
      "\n"
     ]
    }
   ],
   "source": [
    "# Replacing the NAs by the municipality coordinates. Not as accurate, but accurate enough. \n",
    "merged_df['latitude_x'].fillna(merged_df['latitude_y'], inplace=True)\n",
    "merged_df['longitude_x'].fillna(merged_df['longitude_y'], inplace=True)"
   ]
  },
  {
   "cell_type": "code",
   "execution_count": 147,
   "metadata": {},
   "outputs": [
    {
     "data": {
      "text/plain": [
       "station_code               0\n",
       "station_name               1\n",
       "latitude_x                 0\n",
       "longitude_x                0\n",
       "municipality_x             0\n",
       "suburban_train             0\n",
       "municipality_1            62\n",
       "municipality_2_x        2531\n",
       "change                  2595\n",
       "cmun                       0\n",
       "municipality_y             0\n",
       "municipality_2_y        2553\n",
       "province                   0\n",
       "autonomous_community       0\n",
       "latitude_y                 0\n",
       "longitude_y                0\n",
       "altitude                   0\n",
       "municipality_1_x        2545\n",
       "municipality_1_y        2545\n",
       "municipality_2          2557\n",
       "dtype: int64"
      ]
     },
     "execution_count": 147,
     "metadata": {},
     "output_type": "execute_result"
    }
   ],
   "source": [
    "merged_df.isna().sum()"
   ]
  },
  {
   "cell_type": "code",
   "execution_count": 148,
   "metadata": {},
   "outputs": [
    {
     "data": {
      "text/html": [
       "<div>\n",
       "<style scoped>\n",
       "    .dataframe tbody tr th:only-of-type {\n",
       "        vertical-align: middle;\n",
       "    }\n",
       "\n",
       "    .dataframe tbody tr th {\n",
       "        vertical-align: top;\n",
       "    }\n",
       "\n",
       "    .dataframe thead th {\n",
       "        text-align: right;\n",
       "    }\n",
       "</style>\n",
       "<table border=\"1\" class=\"dataframe\">\n",
       "  <thead>\n",
       "    <tr style=\"text-align: right;\">\n",
       "      <th></th>\n",
       "      <th>cmun</th>\n",
       "      <th>municipality_x</th>\n",
       "      <th>latitude_x</th>\n",
       "      <th>longitude_x</th>\n",
       "      <th>station_code</th>\n",
       "      <th>suburban_train</th>\n",
       "      <th>station_name</th>\n",
       "    </tr>\n",
       "  </thead>\n",
       "  <tbody>\n",
       "    <tr>\n",
       "      <th>1437</th>\n",
       "      <td>46131.0</td>\n",
       "      <td>Gandia</td>\n",
       "      <td>38.96902</td>\n",
       "      <td>-0.185187</td>\n",
       "      <td>43960</td>\n",
       "      <td>NO</td>\n",
       "      <td>Final Playa Gandia (Bus)</td>\n",
       "    </tr>\n",
       "    <tr>\n",
       "      <th>2568</th>\n",
       "      <td>15037.0</td>\n",
       "      <td>Fisterra</td>\n",
       "      <td>42.90507</td>\n",
       "      <td>-9.264338</td>\n",
       "      <td>99119</td>\n",
       "      <td>NO</td>\n",
       "      <td>Fisterra-Bus</td>\n",
       "    </tr>\n",
       "    <tr>\n",
       "      <th>1031</th>\n",
       "      <td>37156.0</td>\n",
       "      <td>Guijuelo</td>\n",
       "      <td>40.55514</td>\n",
       "      <td>-5.673656</td>\n",
       "      <td>30016</td>\n",
       "      <td>NO</td>\n",
       "      <td>Guijuelo Y Campillo</td>\n",
       "    </tr>\n",
       "    <tr>\n",
       "      <th>309</th>\n",
       "      <td>33055.0</td>\n",
       "      <td>Ribadedeva</td>\n",
       "      <td>43.3827200</td>\n",
       "      <td>-4.5570900</td>\n",
       "      <td>05579</td>\n",
       "      <td>NO</td>\n",
       "      <td>Colombres</td>\n",
       "    </tr>\n",
       "    <tr>\n",
       "      <th>483</th>\n",
       "      <td>47085.0</td>\n",
       "      <td>Medina Del Campo</td>\n",
       "      <td>41.3174590</td>\n",
       "      <td>-4.9100710</td>\n",
       "      <td>08240</td>\n",
       "      <td>NO</td>\n",
       "      <td>Medina Del Campo Alta Velocidad</td>\n",
       "    </tr>\n",
       "    <tr>\n",
       "      <th>1352</th>\n",
       "      <td>21010.0</td>\n",
       "      <td>Ayamonte</td>\n",
       "      <td>37.21466</td>\n",
       "      <td>-7.409819</td>\n",
       "      <td>42107</td>\n",
       "      <td>NO</td>\n",
       "      <td>Ayamonte (Apd)</td>\n",
       "    </tr>\n",
       "    <tr>\n",
       "      <th>1710</th>\n",
       "      <td>3066.0</td>\n",
       "      <td>Elda</td>\n",
       "      <td>38.4848790</td>\n",
       "      <td>-0.8010900</td>\n",
       "      <td>60905</td>\n",
       "      <td>NO</td>\n",
       "      <td>Elda-Petrer</td>\n",
       "    </tr>\n",
       "    <tr>\n",
       "      <th>993</th>\n",
       "      <td>36002.0</td>\n",
       "      <td>Barro</td>\n",
       "      <td>42.5178010</td>\n",
       "      <td>-8.6546090</td>\n",
       "      <td>23005</td>\n",
       "      <td>NO</td>\n",
       "      <td>Portela</td>\n",
       "    </tr>\n",
       "    <tr>\n",
       "      <th>501</th>\n",
       "      <td>28047.0</td>\n",
       "      <td>Collado Villalba</td>\n",
       "      <td>40.6265067</td>\n",
       "      <td>-4.0081871</td>\n",
       "      <td>10200</td>\n",
       "      <td>SI</td>\n",
       "      <td>Villalba De Guadarrama</td>\n",
       "    </tr>\n",
       "    <tr>\n",
       "      <th>1232</th>\n",
       "      <td>28079.0</td>\n",
       "      <td>Madrid</td>\n",
       "      <td>40.3666963</td>\n",
       "      <td>-3.7046002</td>\n",
       "      <td>35703</td>\n",
       "      <td>SI</td>\n",
       "      <td>Orcasitas</td>\n",
       "    </tr>\n",
       "  </tbody>\n",
       "</table>\n",
       "</div>"
      ],
      "text/plain": [
       "         cmun    municipality_x  latitude_x longitude_x station_code  \\\n",
       "1437  46131.0            Gandia    38.96902   -0.185187        43960   \n",
       "2568  15037.0          Fisterra    42.90507   -9.264338        99119   \n",
       "1031  37156.0          Guijuelo    40.55514   -5.673656        30016   \n",
       "309   33055.0        Ribadedeva  43.3827200  -4.5570900        05579   \n",
       "483   47085.0  Medina Del Campo  41.3174590  -4.9100710        08240   \n",
       "1352  21010.0          Ayamonte    37.21466   -7.409819        42107   \n",
       "1710   3066.0              Elda  38.4848790  -0.8010900        60905   \n",
       "993   36002.0             Barro  42.5178010  -8.6546090        23005   \n",
       "501   28047.0  Collado Villalba  40.6265067  -4.0081871        10200   \n",
       "1232  28079.0            Madrid  40.3666963  -3.7046002        35703   \n",
       "\n",
       "     suburban_train                              station_name  \n",
       "1437             NO  Final Playa Gandia (Bus)                  \n",
       "2568             NO  Fisterra-Bus                              \n",
       "1031             NO  Guijuelo Y Campillo                       \n",
       "309              NO  Colombres                                 \n",
       "483              NO  Medina Del Campo Alta Velocidad           \n",
       "1352             NO  Ayamonte (Apd)                            \n",
       "1710             NO  Elda-Petrer                               \n",
       "993              NO  Portela                                   \n",
       "501              SI  Villalba De Guadarrama                    \n",
       "1232             SI  Orcasitas                                 "
      ]
     },
     "execution_count": 148,
     "metadata": {},
     "output_type": "execute_result"
    }
   ],
   "source": [
    "merged_df = merged_df[[\"cmun\", \"municipality_x\", \"latitude_x\", \"longitude_x\", \"station_code\", \"suburban_train\", \"station_name\"]].drop_duplicates(keep=\"first\")\n",
    "\n",
    "merged_df.sample(10)"
   ]
  },
  {
   "cell_type": "markdown",
   "metadata": {},
   "source": [
    "---"
   ]
  },
  {
   "cell_type": "code",
   "execution_count": 149,
   "metadata": {},
   "outputs": [],
   "source": [
    "df_transformed = merged_df.groupby([\"cmun\", \"municipality_x\"]).agg(\n",
    "    count_of_stations=(\"station_code\", \"count\"),\n",
    "    suburban_train=(\"suburban_train\", lambda x: \"yes\" if \"SI\" in x.values else \"no\")\n",
    ").reset_index()\n"
   ]
  },
  {
   "cell_type": "code",
   "execution_count": 150,
   "metadata": {},
   "outputs": [
    {
     "data": {
      "text/html": [
       "<div>\n",
       "<style scoped>\n",
       "    .dataframe tbody tr th:only-of-type {\n",
       "        vertical-align: middle;\n",
       "    }\n",
       "\n",
       "    .dataframe tbody tr th {\n",
       "        vertical-align: top;\n",
       "    }\n",
       "\n",
       "    .dataframe thead th {\n",
       "        text-align: right;\n",
       "    }\n",
       "</style>\n",
       "<table border=\"1\" class=\"dataframe\">\n",
       "  <thead>\n",
       "    <tr style=\"text-align: right;\">\n",
       "      <th></th>\n",
       "      <th>cmun</th>\n",
       "      <th>municipality_x</th>\n",
       "      <th>count_of_stations</th>\n",
       "      <th>suburban_train</th>\n",
       "    </tr>\n",
       "  </thead>\n",
       "  <tbody>\n",
       "    <tr>\n",
       "      <th>0</th>\n",
       "      <td>1002.0</td>\n",
       "      <td>Amurrio</td>\n",
       "      <td>5</td>\n",
       "      <td>yes</td>\n",
       "    </tr>\n",
       "    <tr>\n",
       "      <th>1</th>\n",
       "      <td>1009.0</td>\n",
       "      <td>Asparrena</td>\n",
       "      <td>1</td>\n",
       "      <td>no</td>\n",
       "    </tr>\n",
       "    <tr>\n",
       "      <th>2</th>\n",
       "      <td>1010.0</td>\n",
       "      <td>Ayala/Aiara</td>\n",
       "      <td>1</td>\n",
       "      <td>yes</td>\n",
       "    </tr>\n",
       "    <tr>\n",
       "      <th>3</th>\n",
       "      <td>1036.0</td>\n",
       "      <td>Laudio/Llodio</td>\n",
       "      <td>3</td>\n",
       "      <td>yes</td>\n",
       "    </tr>\n",
       "    <tr>\n",
       "      <th>4</th>\n",
       "      <td>1046.0</td>\n",
       "      <td>Erriberagoitia/Ribera Alta</td>\n",
       "      <td>2</td>\n",
       "      <td>yes</td>\n",
       "    </tr>\n",
       "  </tbody>\n",
       "</table>\n",
       "</div>"
      ],
      "text/plain": [
       "     cmun              municipality_x  count_of_stations suburban_train\n",
       "0  1002.0                     Amurrio                  5            yes\n",
       "1  1009.0                   Asparrena                  1             no\n",
       "2  1010.0                 Ayala/Aiara                  1            yes\n",
       "3  1036.0               Laudio/Llodio                  3            yes\n",
       "4  1046.0  Erriberagoitia/Ribera Alta                  2            yes"
      ]
     },
     "execution_count": 150,
     "metadata": {},
     "output_type": "execute_result"
    }
   ],
   "source": [
    "df_transformed.head()"
   ]
  },
  {
   "cell_type": "code",
   "execution_count": 151,
   "metadata": {},
   "outputs": [],
   "source": [
    "df_transformed[\"cmun\"] = df_transformed[\"cmun\"].astype(\"Int64\")"
   ]
  },
  {
   "cell_type": "code",
   "execution_count": 152,
   "metadata": {},
   "outputs": [],
   "source": [
    "df_transformed.rename(columns={\"municipality_x\": \"municipality\"}, inplace=True)"
   ]
  },
  {
   "cell_type": "code",
   "execution_count": 155,
   "metadata": {},
   "outputs": [
    {
     "data": {
      "text/html": [
       "<div>\n",
       "<style scoped>\n",
       "    .dataframe tbody tr th:only-of-type {\n",
       "        vertical-align: middle;\n",
       "    }\n",
       "\n",
       "    .dataframe tbody tr th {\n",
       "        vertical-align: top;\n",
       "    }\n",
       "\n",
       "    .dataframe thead th {\n",
       "        text-align: right;\n",
       "    }\n",
       "</style>\n",
       "<table border=\"1\" class=\"dataframe\">\n",
       "  <thead>\n",
       "    <tr style=\"text-align: right;\">\n",
       "      <th></th>\n",
       "      <th>cmun</th>\n",
       "      <th>municipality</th>\n",
       "      <th>count_of_stations</th>\n",
       "      <th>suburban_train</th>\n",
       "    </tr>\n",
       "  </thead>\n",
       "  <tbody>\n",
       "    <tr>\n",
       "      <th>0</th>\n",
       "      <td>1002</td>\n",
       "      <td>Amurrio</td>\n",
       "      <td>5</td>\n",
       "      <td>1</td>\n",
       "    </tr>\n",
       "    <tr>\n",
       "      <th>1</th>\n",
       "      <td>1009</td>\n",
       "      <td>Asparrena</td>\n",
       "      <td>1</td>\n",
       "      <td>0</td>\n",
       "    </tr>\n",
       "    <tr>\n",
       "      <th>2</th>\n",
       "      <td>1010</td>\n",
       "      <td>Ayala/Aiara</td>\n",
       "      <td>1</td>\n",
       "      <td>1</td>\n",
       "    </tr>\n",
       "    <tr>\n",
       "      <th>3</th>\n",
       "      <td>1036</td>\n",
       "      <td>Laudio/Llodio</td>\n",
       "      <td>3</td>\n",
       "      <td>1</td>\n",
       "    </tr>\n",
       "    <tr>\n",
       "      <th>4</th>\n",
       "      <td>1046</td>\n",
       "      <td>Erriberagoitia/Ribera Alta</td>\n",
       "      <td>2</td>\n",
       "      <td>1</td>\n",
       "    </tr>\n",
       "  </tbody>\n",
       "</table>\n",
       "</div>"
      ],
      "text/plain": [
       "   cmun                municipality  count_of_stations  suburban_train\n",
       "0  1002                     Amurrio                  5               1\n",
       "1  1009                   Asparrena                  1               0\n",
       "2  1010                 Ayala/Aiara                  1               1\n",
       "3  1036               Laudio/Llodio                  3               1\n",
       "4  1046  Erriberagoitia/Ribera Alta                  2               1"
      ]
     },
     "execution_count": 155,
     "metadata": {},
     "output_type": "execute_result"
    }
   ],
   "source": [
    "df_transformed.head()"
   ]
  },
  {
   "cell_type": "code",
   "execution_count": 154,
   "metadata": {},
   "outputs": [],
   "source": [
    "df_transformed['suburban_train'] = df_transformed['suburban_train'].str.lower().map({'yes': 1, 'no': 0})\n"
   ]
  },
  {
   "cell_type": "code",
   "execution_count": 156,
   "metadata": {},
   "outputs": [],
   "source": [
    "df_transformed.to_csv(\"../data/processed/filtered_files/filtered_regional_trains.csv\", index=False)"
   ]
  }
 ],
 "metadata": {
  "kernelspec": {
   "display_name": ".venv",
   "language": "python",
   "name": "python3"
  },
  "language_info": {
   "codemirror_mode": {
    "name": "ipython",
    "version": 3
   },
   "file_extension": ".py",
   "mimetype": "text/x-python",
   "name": "python",
   "nbconvert_exporter": "python",
   "pygments_lexer": "ipython3",
   "version": "3.11.3"
  }
 },
 "nbformat": 4,
 "nbformat_minor": 2
}
