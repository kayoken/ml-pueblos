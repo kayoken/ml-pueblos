{
 "cells": [
  {
   "cell_type": "code",
   "execution_count": null,
   "metadata": {
    "execution": {
     "iopub.execute_input": "2025-02-17T09:35:05.442836Z",
     "iopub.status.busy": "2025-02-17T09:35:05.442415Z",
     "iopub.status.idle": "2025-02-17T09:35:05.765956Z",
     "shell.execute_reply": "2025-02-17T09:35:05.765658Z"
    }
   },
   "outputs": [],
   "source": [
    "import sys\n",
    "import os\n",
    "import re\n",
    "sys.path.insert(0, os.path.abspath(os.path.join(os.getcwd(), '..')))\n",
    "import pandas as pd\n",
    "import plotly.express as px\n",
    "import numpy as np\n",
    "import geopandas as gpd\n",
    "from pyproj import Transformer\n",
    "from scripts.utils import split_column_at\n",
    "from scripts.accent_cleaner import AccentCleaner\n",
    "#from deep_translator import GoogleTranslator"
   ]
  },
  {
   "cell_type": "markdown",
   "metadata": {},
   "source": [
    "### Airports"
   ]
  },
  {
   "cell_type": "code",
   "execution_count": null,
   "metadata": {
    "execution": {
     "iopub.execute_input": "2025-02-17T09:35:05.767501Z",
     "iopub.status.busy": "2025-02-17T09:35:05.767369Z",
     "iopub.status.idle": "2025-02-17T09:35:05.786293Z",
     "shell.execute_reply": "2025-02-17T09:35:05.785983Z"
    }
   },
   "outputs": [],
   "source": [
    "# Read the GeoJSON file\n",
    "gdf = gpd.read_file('../data/raw/spanish_airports.geojson')\n",
    "# Ensure that the geometry column contains points\n",
    "# Extract latitude and longitude from the geometry column\n",
    "gdf['latitude'] = gdf.geometry.y\n",
    "gdf['longitude'] = gdf.geometry.x\n",
    "\n",
    "# Now drop the geometry column if you don't need it anymore\n",
    "df_airports = gdf.drop(columns='geometry')\n",
    "\n",
    "df_airports.rename(columns={\"Texto\": \"airport_name\", \"OBJECTID\": \"airport_id\", \"lat\": \"latitude\", \"lon\": \"longitude\"}, inplace=True)\n",
    "df_airports.head()"
   ]
  },
  {
   "cell_type": "code",
   "execution_count": null,
   "metadata": {
    "execution": {
     "iopub.execute_input": "2025-02-17T09:35:05.787417Z",
     "iopub.status.busy": "2025-02-17T09:35:05.787320Z",
     "iopub.status.idle": "2025-02-17T09:35:05.960642Z",
     "shell.execute_reply": "2025-02-17T09:35:05.960241Z"
    }
   },
   "outputs": [],
   "source": [
    "title = \"Airports in Spain\"\n",
    "\n",
    "lats = df_airports.latitude\n",
    "lons = df_airports.longitude\n",
    "\n",
    "fig = px.scatter_map(df_airports, \n",
    "                     lat=lats, \n",
    "                     lon=lons,\n",
    "                     color_continuous_scale=px.colors.carto.Aggrnyl,\n",
    "                     zoom=5,\n",
    "                     size_max=50  # Increase max size of markers\n",
    "                     )\n",
    "\n",
    "# Adjust the size reference to make small points more visible\n",
    "fig.update_traces(marker=dict(sizeref=1000))  # Decrease this value to make points larger\n",
    "\n",
    "fig.update_geos(fitbounds=\"locations\")\n",
    "fig.update_layout(height=1000, width=1000)\n",
    "fig.update_layout(mapbox_style=\"open-street-map\")\n",
    "fig.update_layout(margin={\"r\":50,\"t\":50,\"l\":50,\"b\":50})\n",
    "fig.update_layout(\n",
    "    coloraxis_colorbar=dict(title='asdf')\n",
    ")\n",
    "fig.update_layout(title=\"Airports in Spain \")\n",
    "\n",
    "fig.show()"
   ]
  },
  {
   "cell_type": "code",
   "execution_count": null,
   "metadata": {
    "execution": {
     "iopub.execute_input": "2025-02-17T09:35:05.996360Z",
     "iopub.status.busy": "2025-02-17T09:35:05.996216Z",
     "iopub.status.idle": "2025-02-17T09:35:05.999195Z",
     "shell.execute_reply": "2025-02-17T09:35:05.998913Z"
    }
   },
   "outputs": [],
   "source": [
    "df_airports.to_csv(\"../data/processed/filtered_airports.csv\", index=False)"
   ]
  },
  {
   "cell_type": "markdown",
   "metadata": {},
   "source": [
    "### Trains"
   ]
  },
  {
   "cell_type": "code",
   "execution_count": null,
   "metadata": {
    "execution": {
     "iopub.execute_input": "2025-02-17T09:35:06.000498Z",
     "iopub.status.busy": "2025-02-17T09:35:06.000397Z",
     "iopub.status.idle": "2025-02-17T09:35:06.004141Z",
     "shell.execute_reply": "2025-02-17T09:35:06.003861Z"
    }
   },
   "outputs": [],
   "source": [
    "df_trains = pd.read_csv(\"../data/raw/listado_completo_av_ld_md.csv\", sep=\";\", decimal=\",\")\n",
    "df_trains = df_trains.drop([\"PAIS\", \"C.P.\", \"DIRECCIÓN\"], axis = 1)\n",
    "df_trains.rename(columns={\" CÓDIGO\": \"station_code\",\n",
    "                          \"DESCRIPCION\": \"station_name\",\n",
    "                          \"LATITUD\": \"latitude\",\n",
    "                          \"POBLACION\": \"municipality\",\n",
    "                          \"PROVINCIA\": \"province\",\n",
    "                          \"LONGITUD\": \"longitude\"}, inplace=True)"
   ]
  },
  {
   "cell_type": "code",
   "execution_count": null,
   "metadata": {
    "execution": {
     "iopub.execute_input": "2025-02-17T09:35:06.005243Z",
     "iopub.status.busy": "2025-02-17T09:35:06.005177Z",
     "iopub.status.idle": "2025-02-17T09:35:06.007509Z",
     "shell.execute_reply": "2025-02-17T09:35:06.007289Z"
    }
   },
   "outputs": [],
   "source": [
    "df_trains.isnull().sum()"
   ]
  },
  {
   "cell_type": "code",
   "execution_count": null,
   "metadata": {
    "execution": {
     "iopub.execute_input": "2025-02-17T09:35:06.008553Z",
     "iopub.status.busy": "2025-02-17T09:35:06.008485Z",
     "iopub.status.idle": "2025-02-17T09:35:06.014135Z",
     "shell.execute_reply": "2025-02-17T09:35:06.013907Z"
    }
   },
   "outputs": [],
   "source": [
    "cleaner = AccentCleaner([df_trains], columns=[\"province\", \"municipality\"])\n",
    "cleaner.cleanAccents()\n",
    "df_trains"
   ]
  },
  {
   "cell_type": "code",
   "execution_count": null,
   "metadata": {
    "execution": {
     "iopub.execute_input": "2025-02-17T09:35:06.015209Z",
     "iopub.status.busy": "2025-02-17T09:35:06.015146Z",
     "iopub.status.idle": "2025-02-17T09:35:06.017816Z",
     "shell.execute_reply": "2025-02-17T09:35:06.017611Z"
    }
   },
   "outputs": [],
   "source": [
    "df_trains[\"municipality_clean\"] = df_trains[\"municipality_clean\"].str.split(\"/\", expand=False)\n",
    "df_trains[\"province_clean\"] = df_trains[\"province_clean\"].str.split(\"/\", expand=False)\n",
    "\n",
    "df_trains[\"municipality_clean\"] = df_trains[\"municipality_clean\"].apply(\n",
    "    lambda x: x[0] if len(x) == 1 else x[1]\n",
    ")\n",
    "df_trains[\"province_clean\"] = df_trains[\"province_clean\"].apply(\n",
    "    lambda x: x[0] if len(x) == 1 else x[1]\n",
    ")\n",
    "\n",
    "\n"
   ]
  },
  {
   "cell_type": "code",
   "execution_count": null,
   "metadata": {
    "execution": {
     "iopub.execute_input": "2025-02-17T09:35:06.018907Z",
     "iopub.status.busy": "2025-02-17T09:35:06.018836Z",
     "iopub.status.idle": "2025-02-17T09:35:06.022798Z",
     "shell.execute_reply": "2025-02-17T09:35:06.022556Z"
    }
   },
   "outputs": [],
   "source": [
    "df_trains.sample(20)"
   ]
  },
  {
   "cell_type": "code",
   "execution_count": null,
   "metadata": {
    "execution": {
     "iopub.execute_input": "2025-02-17T09:35:06.024055Z",
     "iopub.status.busy": "2025-02-17T09:35:06.023960Z",
     "iopub.status.idle": "2025-02-17T09:35:06.026675Z",
     "shell.execute_reply": "2025-02-17T09:35:06.026366Z"
    }
   },
   "outputs": [],
   "source": [
    "df_trains['station_name'] = df_trains['station_name'].str.title()\n",
    "df_trains['municipality'] = df_trains['municipality'].str.lower()\n",
    "df_trains['province'] = df_trains['province'].str.lower()"
   ]
  },
  {
   "cell_type": "code",
   "execution_count": null,
   "metadata": {
    "execution": {
     "iopub.execute_input": "2025-02-17T09:35:06.028002Z",
     "iopub.status.busy": "2025-02-17T09:35:06.027919Z",
     "iopub.status.idle": "2025-02-17T09:35:06.032536Z",
     "shell.execute_reply": "2025-02-17T09:35:06.032264Z"
    }
   },
   "outputs": [],
   "source": [
    "if len(df_trains[\"province\"]):\n",
    "    df_trains.drop(columns=[\"province\", \"municipality\"], inplace=True)\n",
    "\n",
    "df_trains"
   ]
  },
  {
   "cell_type": "code",
   "execution_count": null,
   "metadata": {
    "execution": {
     "iopub.execute_input": "2025-02-17T09:35:06.033670Z",
     "iopub.status.busy": "2025-02-17T09:35:06.033600Z",
     "iopub.status.idle": "2025-02-17T09:35:06.073158Z",
     "shell.execute_reply": "2025-02-17T09:35:06.072851Z"
    }
   },
   "outputs": [],
   "source": [
    "title = \"Train Stations (LD, MD, High Speed) in Spain\"\n",
    "\n",
    "lats = df_trains.latitude\n",
    "lons = df_trains.longitude\n",
    "\n",
    "fig = px.scatter_map(df_trains, \n",
    "                     lat=lats, \n",
    "                     lon=lons,\n",
    "                     hover_data=[\"municipality_clean\", \"station_name\"], \n",
    "                     color_continuous_scale=px.colors.carto.Aggrnyl,\n",
    "                     zoom=5,\n",
    "                     size_max=50  # Increase max size of markers\n",
    "                     )\n",
    "\n",
    "# Adjust the size reference to make small points more visible\n",
    "fig.update_traces(marker=dict(sizeref=1000))  # Decrease this value to make points larger\n",
    "\n",
    "fig.update_geos(fitbounds=\"locations\")\n",
    "fig.update_layout(height=1000, width=1000)\n",
    "fig.update_layout(mapbox_style=\"open-street-map\")\n",
    "fig.update_layout(margin={\"r\":50,\"t\":50,\"l\":50,\"b\":50})\n",
    "fig.update_layout(\n",
    "    coloraxis_colorbar=dict(title='asdf')\n",
    ")\n",
    "fig.update_layout(title=\"Train Stations in Spain \")\n",
    "\n",
    "fig.show()"
   ]
  },
  {
   "cell_type": "code",
   "execution_count": null,
   "metadata": {
    "execution": {
     "iopub.execute_input": "2025-02-17T09:35:06.103026Z",
     "iopub.status.busy": "2025-02-17T09:35:06.102890Z",
     "iopub.status.idle": "2025-02-17T09:35:06.106408Z",
     "shell.execute_reply": "2025-02-17T09:35:06.106071Z"
    }
   },
   "outputs": [],
   "source": [
    "df_trains.to_csv(\"../data/processed/filtered_trains.csv\", index=False)"
   ]
  }
 ],
 "metadata": {
  "kernelspec": {
   "display_name": ".venv",
   "language": "python",
   "name": "python3"
  },
  "language_info": {
   "codemirror_mode": {
    "name": "ipython",
    "version": 3
   },
   "file_extension": ".py",
   "mimetype": "text/x-python",
   "name": "python",
   "nbconvert_exporter": "python",
   "pygments_lexer": "ipython3",
   "version": "3.11.3"
  }
 },
 "nbformat": 4,
 "nbformat_minor": 2
}
