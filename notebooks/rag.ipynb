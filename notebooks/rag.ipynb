{
 "cells": [
  {
   "cell_type": "markdown",
   "metadata": {},
   "source": [
    "### Retrieval-augmented generation (RAG)"
   ]
  },
  {
   "cell_type": "markdown",
   "metadata": {},
   "source": [
    "Retrieval-augmented generation (RAG) is an AI framework that synergizes the capabilities of LLMs and information retrieval systems. It's useful to answer questions or generate content leveraging external knowledge. There are two main steps in RAG: \n",
    "1) **retrieval**: retrieve relevant information from a knowledge base **with text embeddings stored in a vector store**; \n",
    "2) **generation**: insert the **relevant information to the prompt** for the LLM to generate information. "
   ]
  },
  {
   "cell_type": "markdown",
   "metadata": {},
   "source": [
    "### Documentation\n",
    "\n",
    "- Mistral API: https://docs.mistral.ai/api/\n",
    "- Langchain: https://python.langchain.com/docs/introduction/"
   ]
  },
  {
   "cell_type": "code",
   "execution_count": 1,
   "metadata": {},
   "outputs": [],
   "source": [
    "import os\n",
    "from dotenv import load_dotenv\n",
    "from mistralai import Mistral\n",
    "import warnings\n",
    "warnings.filterwarnings(\"ignore\")\n",
    "from langchain.prompts.prompt import PromptTemplate\n",
    "\n",
    "\n",
    "from langchain_community.document_loaders import TextLoader\n",
    "from langchain_mistralai.chat_models import ChatMistralAI\n",
    "from langchain_mistralai.embeddings import MistralAIEmbeddings\n",
    "from langchain_community.vectorstores import FAISS\n",
    "from langchain.text_splitter import RecursiveCharacterTextSplitter\n",
    "from langchain.chains.combine_documents import create_stuff_documents_chain\n",
    "from langchain_core.prompts import ChatPromptTemplate\n",
    "from langchain.chains import create_retrieval_chain\n"
   ]
  },
  {
   "cell_type": "code",
   "execution_count": 2,
   "metadata": {},
   "outputs": [
    {
     "data": {
      "text/plain": [
       "True"
      ]
     },
     "execution_count": 2,
     "metadata": {},
     "output_type": "execute_result"
    }
   ],
   "source": [
    "# Load environment variables\n",
    "load_dotenv()"
   ]
  },
  {
   "cell_type": "code",
   "execution_count": 3,
   "metadata": {},
   "outputs": [],
   "source": [
    "langchain_api_key = os.getenv(\"LANGCHAIN_API_KEY\")\n",
    "mistral_api_key = os.getenv(\"MISTRAL_API_KEY\")"
   ]
  },
  {
   "cell_type": "code",
   "execution_count": 41,
   "metadata": {},
   "outputs": [],
   "source": [
    "loader = TextLoader(\"../data/rag/towns.txt\", encoding=\"utf-8\")\n",
    "# loader = TextLoader(\"../data/rag/Growth_and_decline_in_rural_Spain.pdf\")"
   ]
  },
  {
   "cell_type": "code",
   "execution_count": 13,
   "metadata": {},
   "outputs": [],
   "source": [
    "docs = loader.load()"
   ]
  },
  {
   "cell_type": "code",
   "execution_count": 14,
   "metadata": {},
   "outputs": [
    {
     "data": {
      "text/plain": [
       "[Document(metadata={'source': '../towns.txt'}, page_content='Galapagar is a town of 20,000 habitants. It is in Madrid. It has a warm climate in summer and cold in winter. It has several schools in the surroundings and two hospitals nearby. Its job situation is good enough. It has excellent connections, and the cost of living is 140 EUR a day. It is not close to the beach.\\n\\nSantander is a town of 170,000 habitants. It is in Cantabria. It has mild summers and cool winters. It has several schools in the surroundings and three hospitals nearby. Its job situation is fair. It has excellent connections, and the cost of living is 120 EUR a day. It is close to the beach.\\n\\nSegovia is a town of 55,000 habitants. It is in Castilla y León. It has a continental climate with cold winters and warm summers. It has several schools in the surroundings and two hospitals nearby. Its job situation is moderate. It has good connections, and the cost of living is 110 EUR a day. It is not close to the beach.\\n\\nSalou is a town of 27,000 habitants. It is in Tarragona. It has a Mediterranean climate with hot summers and mild winters. It has several schools in the surroundings and one hospital nearby. Its job situation is seasonal. It has good connections, and the cost of living is 130 EUR a day. It is close to the beach.\\n\\nToledo is a town of 85,000 habitants. It is in Castilla-La Mancha. It has hot summers and cold winters. It has several schools in the surroundings and two hospitals nearby. Its job situation is fair. It has good connections, and the cost of living is 125 EUR a day. It is not close to the beach.\\n\\nÁvila is a town of 58,000 habitants. It is in Castilla y León. It has very cold winters and warm summers. It has several schools in the surroundings and one hospital nearby. Its job situation is moderate. It has good connections, and the cost of living is 110 EUR a day. It is not close to the beach.\\n\\nLugo is a town of 97,000 habitants. It is in Galicia. It has cool and rainy weather throughout the year. It has several schools in the surroundings and two hospitals nearby. Its job situation is moderate. It has good connections, and the cost of living is 115 EUR a day. It is not close to the beach.\\n\\nTorrevieja is a town of 82,000 habitants. It is in Alicante. It has a warm Mediterranean climate. It has several schools in the surroundings and one hospital nearby. Its job situation is seasonal. It has good connections, and the cost of living is 135 EUR a day. It is close to the beach.\\n\\nManresa is a town of 78,000 habitants. It is in Barcelona. It has warm summers and cool winters. It has several schools in the surroundings and two hospitals nearby. Its job situation is fair. It has excellent connections, and the cost of living is 140 EUR a day. It is not close to the beach.\\n\\nMérida is a town of 60,000 habitants. It is in Extremadura. It has hot summers and mild winters. It has several schools in the surroundings and two hospitals nearby. Its job situation is fair. It has good connections, and the cost of living is 120 EUR a day. It is not close to the beach.\\n\\nGandía is a town of 75,000 habitants. It is in Valencia. It has a Mediterranean climate with warm summers and mild winters. It has several schools in the surroundings and two hospitals nearby. Its job situation is seasonal. It has good connections, and the cost of living is 135 EUR a day. It is close to the beach.\\n\\nCuenca is a town of 54,000 habitants. It is in Castilla-La Mancha. It has cold winters and warm summers. It has several schools in the surroundings and two hospitals nearby. Its job situation is moderate. It has good connections, and the cost of living is 115 EUR a day. It is not close to the beach.\\n\\nFerrol is a town of 65,000 habitants. It is in Galicia. It has mild temperatures and frequent rain. It has several schools in the surroundings and one hospital nearby. Its job situation is moderate. It has good connections, and the cost of living is 110 EUR a day. It is close to the beach.\\n\\nRonda is a town of 34,000 habitants. It is in Málaga. It has warm summers and mild winters. It has several schools in the surroundings and one hospital nearby. Its job situation is fair. It has good connections, and the cost of living is 120 EUR a day. It is not close to the beach.\\n\\nPalencia is a town of 79,000 habitants. It is in Castilla y León. It has cold winters and mild summers. It has several schools in the surroundings and two hospitals nearby. Its job situation is moderate. It has good connections, and the cost of living is 115 EUR a day. It is not close to the beach.\\n\\nSanlúcar de Barrameda is a town of 69,000 habitants. It is in Cádiz. It has a warm climate with mild winters. It has several schools in the surroundings and one hospital nearby. Its job situation is seasonal. It has good connections, and the cost of living is 125 EUR a day. It is close to the beach.\\n\\nCáceres is a town of 96,000 habitants. It is in Extremadura. It has hot summers and mild winters. It has several schools in the surroundings and two hospitals nearby. Its job situation is moderate. It has good connections, and the cost of living is 120 EUR a day. It is not close to the beach.\\n\\nCastellón de la Plana is a town of 171,000 habitants. It is in Valencia. It has a Mediterranean climate with warm summers and mild winters. It has several schools in the surroundings and three hospitals nearby. Its job situation is fair. It has good connections, and the cost of living is 130 EUR a day. It is close to the beach.\\n\\nPonferrada is a town of 64,000 habitants. It is in Castilla y León. It has cold winters and warm summers. It has several schools in the surroundings and two hospitals nearby. Its job situation is moderate. It has good connections, and the cost of living is 115 EUR a day. It is not close to the beach.\\n\\nEstepona is a town of 70,000 habitants. It is in Málaga. It has warm summers and mild winters. It has several schools in the surroundings and one hospital nearby. Its job situation is seasonal. It has good connections, and the cost of living is 130 EUR a day. It is close to the beach.')]"
      ]
     },
     "execution_count": 14,
     "metadata": {},
     "output_type": "execute_result"
    }
   ],
   "source": [
    "docs"
   ]
  },
  {
   "cell_type": "code",
   "execution_count": 15,
   "metadata": {},
   "outputs": [],
   "source": [
    "text_splitter = RecursiveCharacterTextSplitter()\n",
    "documents = text_splitter.split_documents(docs)"
   ]
  },
  {
   "cell_type": "code",
   "execution_count": 20,
   "metadata": {},
   "outputs": [
    {
     "data": {
      "text/plain": [
       "[Document(metadata={'source': '../towns.txt'}, page_content='Galapagar is a town of 20,000 habitants. It is in Madrid. It has a warm climate in summer and cold in winter. It has several schools in the surroundings and two hospitals nearby. Its job situation is good enough. It has excellent connections, and the cost of living is 140 EUR a day. It is not close to the beach.\\n\\nSantander is a town of 170,000 habitants. It is in Cantabria. It has mild summers and cool winters. It has several schools in the surroundings and three hospitals nearby. Its job situation is fair. It has excellent connections, and the cost of living is 120 EUR a day. It is close to the beach.\\n\\nSegovia is a town of 55,000 habitants. It is in Castilla y León. It has a continental climate with cold winters and warm summers. It has several schools in the surroundings and two hospitals nearby. Its job situation is moderate. It has good connections, and the cost of living is 110 EUR a day. It is not close to the beach.\\n\\nSalou is a town of 27,000 habitants. It is in Tarragona. It has a Mediterranean climate with hot summers and mild winters. It has several schools in the surroundings and one hospital nearby. Its job situation is seasonal. It has good connections, and the cost of living is 130 EUR a day. It is close to the beach.\\n\\nToledo is a town of 85,000 habitants. It is in Castilla-La Mancha. It has hot summers and cold winters. It has several schools in the surroundings and two hospitals nearby. Its job situation is fair. It has good connections, and the cost of living is 125 EUR a day. It is not close to the beach.\\n\\nÁvila is a town of 58,000 habitants. It is in Castilla y León. It has very cold winters and warm summers. It has several schools in the surroundings and one hospital nearby. Its job situation is moderate. It has good connections, and the cost of living is 110 EUR a day. It is not close to the beach.\\n\\nLugo is a town of 97,000 habitants. It is in Galicia. It has cool and rainy weather throughout the year. It has several schools in the surroundings and two hospitals nearby. Its job situation is moderate. It has good connections, and the cost of living is 115 EUR a day. It is not close to the beach.\\n\\nTorrevieja is a town of 82,000 habitants. It is in Alicante. It has a warm Mediterranean climate. It has several schools in the surroundings and one hospital nearby. Its job situation is seasonal. It has good connections, and the cost of living is 135 EUR a day. It is close to the beach.\\n\\nManresa is a town of 78,000 habitants. It is in Barcelona. It has warm summers and cool winters. It has several schools in the surroundings and two hospitals nearby. Its job situation is fair. It has excellent connections, and the cost of living is 140 EUR a day. It is not close to the beach.\\n\\nMérida is a town of 60,000 habitants. It is in Extremadura. It has hot summers and mild winters. It has several schools in the surroundings and two hospitals nearby. Its job situation is fair. It has good connections, and the cost of living is 120 EUR a day. It is not close to the beach.\\n\\nGandía is a town of 75,000 habitants. It is in Valencia. It has a Mediterranean climate with warm summers and mild winters. It has several schools in the surroundings and two hospitals nearby. Its job situation is seasonal. It has good connections, and the cost of living is 135 EUR a day. It is close to the beach.\\n\\nCuenca is a town of 54,000 habitants. It is in Castilla-La Mancha. It has cold winters and warm summers. It has several schools in the surroundings and two hospitals nearby. Its job situation is moderate. It has good connections, and the cost of living is 115 EUR a day. It is not close to the beach.\\n\\nFerrol is a town of 65,000 habitants. It is in Galicia. It has mild temperatures and frequent rain. It has several schools in the surroundings and one hospital nearby. Its job situation is moderate. It has good connections, and the cost of living is 110 EUR a day. It is close to the beach.'),\n",
       " Document(metadata={'source': '../towns.txt'}, page_content='Ronda is a town of 34,000 habitants. It is in Málaga. It has warm summers and mild winters. It has several schools in the surroundings and one hospital nearby. Its job situation is fair. It has good connections, and the cost of living is 120 EUR a day. It is not close to the beach.\\n\\nPalencia is a town of 79,000 habitants. It is in Castilla y León. It has cold winters and mild summers. It has several schools in the surroundings and two hospitals nearby. Its job situation is moderate. It has good connections, and the cost of living is 115 EUR a day. It is not close to the beach.\\n\\nSanlúcar de Barrameda is a town of 69,000 habitants. It is in Cádiz. It has a warm climate with mild winters. It has several schools in the surroundings and one hospital nearby. Its job situation is seasonal. It has good connections, and the cost of living is 125 EUR a day. It is close to the beach.\\n\\nCáceres is a town of 96,000 habitants. It is in Extremadura. It has hot summers and mild winters. It has several schools in the surroundings and two hospitals nearby. Its job situation is moderate. It has good connections, and the cost of living is 120 EUR a day. It is not close to the beach.\\n\\nCastellón de la Plana is a town of 171,000 habitants. It is in Valencia. It has a Mediterranean climate with warm summers and mild winters. It has several schools in the surroundings and three hospitals nearby. Its job situation is fair. It has good connections, and the cost of living is 130 EUR a day. It is close to the beach.\\n\\nPonferrada is a town of 64,000 habitants. It is in Castilla y León. It has cold winters and warm summers. It has several schools in the surroundings and two hospitals nearby. Its job situation is moderate. It has good connections, and the cost of living is 115 EUR a day. It is not close to the beach.\\n\\nEstepona is a town of 70,000 habitants. It is in Málaga. It has warm summers and mild winters. It has several schools in the surroundings and one hospital nearby. Its job situation is seasonal. It has good connections, and the cost of living is 130 EUR a day. It is close to the beach.')]"
      ]
     },
     "execution_count": 20,
     "metadata": {},
     "output_type": "execute_result"
    }
   ],
   "source": [
    "documents"
   ]
  },
  {
   "cell_type": "code",
   "execution_count": 21,
   "metadata": {},
   "outputs": [],
   "source": [
    "# Define the embedding model\n",
    "embeddings = MistralAIEmbeddings(model=\"mistral-embed\", api_key= os.getenv(\"MISTRAL_API_KEY\"))"
   ]
  },
  {
   "cell_type": "code",
   "execution_count": 22,
   "metadata": {},
   "outputs": [
    {
     "data": {
      "text/plain": [
       "MistralAIEmbeddings(client=<httpx.Client object at 0x0000026F1572A890>, async_client=<httpx.AsyncClient object at 0x0000026F06D2E950>, mistral_api_key=SecretStr('**********'), endpoint='https://api.mistral.ai/v1/', max_retries=5, timeout=120, wait_time=30, max_concurrent_requests=64, tokenizer=<langchain_mistralai.embeddings.DummyTokenizer object at 0x0000026F07588410>, model='mistral-embed')"
      ]
     },
     "execution_count": 22,
     "metadata": {},
     "output_type": "execute_result"
    }
   ],
   "source": [
    "embeddings"
   ]
  },
  {
   "cell_type": "code",
   "execution_count": 24,
   "metadata": {},
   "outputs": [],
   "source": [
    "# Create the vector store \n",
    "vector = FAISS.from_documents(documents, embeddings)"
   ]
  },
  {
   "cell_type": "code",
   "execution_count": 30,
   "metadata": {},
   "outputs": [],
   "source": [
    "# Define a retriever interface\n",
    "retriever = vector.as_retriever()\n",
    "# Define LLM\n",
    "model = ChatMistralAI(api_key= os.getenv(\"MISTRAL_API_KEY\"))"
   ]
  },
  {
   "cell_type": "code",
   "execution_count": 33,
   "metadata": {},
   "outputs": [],
   "source": [
    "# Define prompt template\n",
    "prompt = ChatPromptTemplate.from_template(\"\"\"Answer the following question based only on the provided context:\n",
    "\n",
    "<context>\n",
    "{context}\n",
    "</context>\n",
    "\n",
    "Question: {input}\"\"\")\n"
   ]
  },
  {
   "cell_type": "code",
   "execution_count": 34,
   "metadata": {},
   "outputs": [],
   "source": [
    "# Create a retrieval chain to answer questions\n",
    "document_chain = create_stuff_documents_chain(model, prompt)\n",
    "retrieval_chain = create_retrieval_chain(retriever, document_chain)"
   ]
  },
  {
   "cell_type": "code",
   "execution_count": 37,
   "metadata": {},
   "outputs": [],
   "source": [
    "response = retrieval_chain.invoke({\"input\": \"I would like to live in a sunny city with more than 5000 habitants, anywhere in spain\"})"
   ]
  },
  {
   "cell_type": "code",
   "execution_count": 39,
   "metadata": {},
   "outputs": [
    {
     "name": "stdout",
     "output_type": "stream",
     "text": [
      "Based on the context provided, there are several sunny cities in Spain with more than 5000 habitants that you might consider:\n",
      "\n",
      "* Galapagar (20,000 habitants) in Madrid has a warm climate in the summer and a cold climate in the winter.\n",
      "* Santander (170,000 habitants) in Cantabria has mild summers and cool winters.\n",
      "* Segovia (55,000 habitants) in Castilla y León has a continental climate with cold winters and warm summers.\n",
      "* Salou (27,000 habitants) in Tarragona has a Mediterranean climate with hot summers and mild winters.\n",
      "* Toledo (85,000 habitants) in Castilla-La Mancha has hot summers and cold winters.\n",
      "* Ávila (58,000 habitants) in Castilla y León has very cold winters and warm summers.\n",
      "* Torrevieja (82,000 habitants) in Alicante has a warm Mediterranean climate.\n",
      "* Gandía (75,000 habitants) in Valencia has a Mediterranean climate with warm summers and mild winters.\n",
      "* Castellón de la Plana (171,000 habitants) in Valencia has a Mediterranean climate with warm summers and mild winters.\n",
      "* Estepona (70,000 habitants) in Málaga has warm summers and mild winters.\n",
      "\n",
      "All of these cities have several schools in the surroundings and good connections. The cost of living varies, but it is generally around 110-140 EUR a day. Only some of these cities are close to the beach, so if that is a priority for you, you may want to consider Salou, Torrevieja, Gandía, or Estepona.\n"
     ]
    }
   ],
   "source": [
    "print(response[\"answer\"])"
   ]
  }
 ],
 "metadata": {
  "kernelspec": {
   "display_name": ".venv",
   "language": "python",
   "name": "python3"
  },
  "language_info": {
   "codemirror_mode": {
    "name": "ipython",
    "version": 3
   },
   "file_extension": ".py",
   "mimetype": "text/x-python",
   "name": "python",
   "nbconvert_exporter": "python",
   "pygments_lexer": "ipython3",
   "version": "3.11.3"
  }
 },
 "nbformat": 4,
 "nbformat_minor": 2
}
