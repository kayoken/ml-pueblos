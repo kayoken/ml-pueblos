{
 "cells": [
  {
   "cell_type": "markdown",
   "metadata": {},
   "source": [
    "### Retrieval-augmented generation (RAG)"
   ]
  },
  {
   "cell_type": "markdown",
   "metadata": {},
   "source": [
    "Retrieval-augmented generation (RAG) is an AI framework that synergizes the capabilities of LLMs and information retrieval systems. It's useful to answer questions or generate content leveraging external knowledge. There are two main steps in RAG: \n",
    "1) **retrieval**: retrieve relevant information from a knowledge base **with text embeddings stored in a vector store**; \n",
    "2) **generation**: insert the **relevant information to the prompt** for the LLM to generate information. "
   ]
  },
  {
   "cell_type": "markdown",
   "metadata": {},
   "source": [
    "### Documentation\n",
    "\n",
    "- Mistral API: https://docs.mistral.ai/api/\n",
    "- Langchain: https://python.langchain.com/docs/introduction/"
   ]
  },
  {
   "cell_type": "code",
   "execution_count": 1,
   "metadata": {},
   "outputs": [],
   "source": [
    "import os\n",
    "from dotenv import load_dotenv\n",
    "from mistralai import Mistral\n",
    "import warnings\n",
    "warnings.filterwarnings(\"ignore\")\n",
    "from langchain.prompts.prompt import PromptTemplate\n",
    "\n",
    "\n",
    "from langchain_community.document_loaders import TextLoader\n",
    "from langchain_mistralai.chat_models import ChatMistralAI\n",
    "from langchain_mistralai.embeddings import MistralAIEmbeddings\n",
    "from langchain_community.vectorstores import FAISS\n",
    "from langchain.text_splitter import RecursiveCharacterTextSplitter\n",
    "from langchain.chains.combine_documents import create_stuff_documents_chain\n",
    "from langchain_core.prompts import ChatPromptTemplate\n",
    "from langchain.chains import create_retrieval_chain\n"
   ]
  },
  {
   "cell_type": "code",
   "execution_count": 2,
   "metadata": {},
   "outputs": [
    {
     "data": {
      "text/plain": [
       "True"
      ]
     },
     "execution_count": 2,
     "metadata": {},
     "output_type": "execute_result"
    }
   ],
   "source": [
    "# Load environment variables\n",
    "load_dotenv()"
   ]
  },
  {
   "cell_type": "code",
   "execution_count": 3,
   "metadata": {},
   "outputs": [],
   "source": [
    "langchain_api_key = os.getenv(\"LANGCHAIN_API_KEY\")\n",
    "mistral_api_key = os.getenv(\"MISTRAL_API_KEY\")"
   ]
  },
  {
   "cell_type": "code",
   "execution_count": 24,
   "metadata": {},
   "outputs": [],
   "source": [
    "client = Mistral(api_key=mistral_api_key)"
   ]
  },
  {
   "cell_type": "code",
   "execution_count": 4,
   "metadata": {},
   "outputs": [],
   "source": [
    "loader = TextLoader(\"../data/rag/towns.txt\", encoding=\"utf-8\")\n",
    "# loader = TextLoader(\"../data/rag/Growth_and_decline_in_rural_Spain.pdf\")"
   ]
  },
  {
   "cell_type": "code",
   "execution_count": 5,
   "metadata": {},
   "outputs": [],
   "source": [
    "docs = loader.load()"
   ]
  },
  {
   "cell_type": "code",
   "execution_count": 6,
   "metadata": {},
   "outputs": [
    {
     "data": {
      "text/plain": [
       "[Document(metadata={'source': '../data/rag/towns.txt'}, page_content='Galapagar is a town of 20,000 habitants. It is in Madrid. It has a warm climate in summer and cold in winter. It has several schools in the surroundings and two hospitals nearby. Its job situation is good enough. It has excellent connections, and the cost of living is 140 EUR a day. It is not close to the beach.\\n\\nSantander is a town of 170,000 habitants. It is in Cantabria. It has mild summers and cool winters. It has several schools in the surroundings and three hospitals nearby. Its job situation is fair. It has excellent connections, and the cost of living is 120 EUR a day. It is close to the beach.\\n\\nSegovia is a town of 55,000 habitants. It is in Castilla y León. It has a continental climate with cold winters and warm summers. It has several schools in the surroundings and two hospitals nearby. Its job situation is moderate. It has good connections, and the cost of living is 110 EUR a day. It is not close to the beach.\\n\\nSalou is a town of 27,000 habitants. It is in Tarragona. It has a Mediterranean climate with hot summers and mild winters. It has several schools in the surroundings and one hospital nearby. Its job situation is seasonal. It has good connections, and the cost of living is 130 EUR a day. It is close to the beach.\\n\\nToledo is a town of 85,000 habitants. It is in Castilla-La Mancha. It has hot summers and cold winters. It has several schools in the surroundings and two hospitals nearby. Its job situation is fair. It has good connections, and the cost of living is 125 EUR a day. It is not close to the beach.\\n\\nÁvila is a town of 58,000 habitants. It is in Castilla y León. It has very cold winters and warm summers. It has several schools in the surroundings and one hospital nearby. Its job situation is moderate. It has good connections, and the cost of living is 110 EUR a day. It is not close to the beach.\\n\\nLugo is a town of 97,000 habitants. It is in Galicia. It has cool and rainy weather throughout the year. It has several schools in the surroundings and two hospitals nearby. Its job situation is moderate. It has good connections, and the cost of living is 115 EUR a day. It is not close to the beach.\\n\\nTorrevieja is a town of 82,000 habitants. It is in Alicante. It has a warm Mediterranean climate. It has several schools in the surroundings and one hospital nearby. Its job situation is seasonal. It has good connections, and the cost of living is 135 EUR a day. It is close to the beach.\\n\\nManresa is a town of 78,000 habitants. It is in Barcelona. It has warm summers and cool winters. It has several schools in the surroundings and two hospitals nearby. Its job situation is fair. It has excellent connections, and the cost of living is 140 EUR a day. It is not close to the beach.\\n\\nMérida is a town of 60,000 habitants. It is in Extremadura. It has hot summers and mild winters. It has several schools in the surroundings and two hospitals nearby. Its job situation is fair. It has good connections, and the cost of living is 120 EUR a day. It is not close to the beach.\\n\\nGandía is a town of 75,000 habitants. It is in Valencia. It has a Mediterranean climate with warm summers and mild winters. It has several schools in the surroundings and two hospitals nearby. Its job situation is seasonal. It has good connections, and the cost of living is 135 EUR a day. It is close to the beach.\\n\\nCuenca is a town of 54,000 habitants. It is in Castilla-La Mancha. It has cold winters and warm summers. It has several schools in the surroundings and two hospitals nearby. Its job situation is moderate. It has good connections, and the cost of living is 115 EUR a day. It is not close to the beach.\\n\\nFerrol is a town of 65,000 habitants. It is in Galicia. It has mild temperatures and frequent rain. It has several schools in the surroundings and one hospital nearby. Its job situation is moderate. It has good connections, and the cost of living is 110 EUR a day. It is close to the beach.\\n\\nRonda is a town of 34,000 habitants. It is in Málaga. It has warm summers and mild winters. It has several schools in the surroundings and one hospital nearby. Its job situation is fair. It has good connections, and the cost of living is 120 EUR a day. It is not close to the beach.\\n\\nPalencia is a town of 79,000 habitants. It is in Castilla y León. It has cold winters and mild summers. It has several schools in the surroundings and two hospitals nearby. Its job situation is moderate. It has good connections, and the cost of living is 115 EUR a day. It is not close to the beach.\\n\\nSanlúcar de Barrameda is a town of 69,000 habitants. It is in Cádiz. It has a warm climate with mild winters. It has several schools in the surroundings and one hospital nearby. Its job situation is seasonal. It has good connections, and the cost of living is 125 EUR a day. It is close to the beach.\\n\\nCáceres is a town of 96,000 habitants. It is in Extremadura. It has hot summers and mild winters. It has several schools in the surroundings and two hospitals nearby. Its job situation is moderate. It has good connections, and the cost of living is 120 EUR a day. It is not close to the beach.\\n\\nCastellón de la Plana is a town of 171,000 habitants. It is in Valencia. It has a Mediterranean climate with warm summers and mild winters. It has several schools in the surroundings and three hospitals nearby. Its job situation is fair. It has good connections, and the cost of living is 130 EUR a day. It is close to the beach.\\n\\nPonferrada is a town of 64,000 habitants. It is in Castilla y León. It has cold winters and warm summers. It has several schools in the surroundings and two hospitals nearby. Its job situation is moderate. It has good connections, and the cost of living is 115 EUR a day. It is not close to the beach.\\n\\nEstepona is a town of 70,000 habitants. It is in Málaga. It has warm summers and mild winters. It has several schools in the surroundings and one hospital nearby. Its job situation is seasonal. It has good connections, and the cost of living is 130 EUR a day. It is close to the beach.')]"
      ]
     },
     "execution_count": 6,
     "metadata": {},
     "output_type": "execute_result"
    }
   ],
   "source": [
    "docs"
   ]
  },
  {
   "cell_type": "code",
   "execution_count": 7,
   "metadata": {},
   "outputs": [],
   "source": [
    "text_splitter = RecursiveCharacterTextSplitter()\n",
    "documents = text_splitter.split_documents(docs)"
   ]
  },
  {
   "cell_type": "code",
   "execution_count": 8,
   "metadata": {},
   "outputs": [
    {
     "data": {
      "text/plain": [
       "[Document(metadata={'source': '../data/rag/towns.txt'}, page_content='Galapagar is a town of 20,000 habitants. It is in Madrid. It has a warm climate in summer and cold in winter. It has several schools in the surroundings and two hospitals nearby. Its job situation is good enough. It has excellent connections, and the cost of living is 140 EUR a day. It is not close to the beach.\\n\\nSantander is a town of 170,000 habitants. It is in Cantabria. It has mild summers and cool winters. It has several schools in the surroundings and three hospitals nearby. Its job situation is fair. It has excellent connections, and the cost of living is 120 EUR a day. It is close to the beach.\\n\\nSegovia is a town of 55,000 habitants. It is in Castilla y León. It has a continental climate with cold winters and warm summers. It has several schools in the surroundings and two hospitals nearby. Its job situation is moderate. It has good connections, and the cost of living is 110 EUR a day. It is not close to the beach.\\n\\nSalou is a town of 27,000 habitants. It is in Tarragona. It has a Mediterranean climate with hot summers and mild winters. It has several schools in the surroundings and one hospital nearby. Its job situation is seasonal. It has good connections, and the cost of living is 130 EUR a day. It is close to the beach.\\n\\nToledo is a town of 85,000 habitants. It is in Castilla-La Mancha. It has hot summers and cold winters. It has several schools in the surroundings and two hospitals nearby. Its job situation is fair. It has good connections, and the cost of living is 125 EUR a day. It is not close to the beach.\\n\\nÁvila is a town of 58,000 habitants. It is in Castilla y León. It has very cold winters and warm summers. It has several schools in the surroundings and one hospital nearby. Its job situation is moderate. It has good connections, and the cost of living is 110 EUR a day. It is not close to the beach.\\n\\nLugo is a town of 97,000 habitants. It is in Galicia. It has cool and rainy weather throughout the year. It has several schools in the surroundings and two hospitals nearby. Its job situation is moderate. It has good connections, and the cost of living is 115 EUR a day. It is not close to the beach.\\n\\nTorrevieja is a town of 82,000 habitants. It is in Alicante. It has a warm Mediterranean climate. It has several schools in the surroundings and one hospital nearby. Its job situation is seasonal. It has good connections, and the cost of living is 135 EUR a day. It is close to the beach.\\n\\nManresa is a town of 78,000 habitants. It is in Barcelona. It has warm summers and cool winters. It has several schools in the surroundings and two hospitals nearby. Its job situation is fair. It has excellent connections, and the cost of living is 140 EUR a day. It is not close to the beach.\\n\\nMérida is a town of 60,000 habitants. It is in Extremadura. It has hot summers and mild winters. It has several schools in the surroundings and two hospitals nearby. Its job situation is fair. It has good connections, and the cost of living is 120 EUR a day. It is not close to the beach.\\n\\nGandía is a town of 75,000 habitants. It is in Valencia. It has a Mediterranean climate with warm summers and mild winters. It has several schools in the surroundings and two hospitals nearby. Its job situation is seasonal. It has good connections, and the cost of living is 135 EUR a day. It is close to the beach.\\n\\nCuenca is a town of 54,000 habitants. It is in Castilla-La Mancha. It has cold winters and warm summers. It has several schools in the surroundings and two hospitals nearby. Its job situation is moderate. It has good connections, and the cost of living is 115 EUR a day. It is not close to the beach.\\n\\nFerrol is a town of 65,000 habitants. It is in Galicia. It has mild temperatures and frequent rain. It has several schools in the surroundings and one hospital nearby. Its job situation is moderate. It has good connections, and the cost of living is 110 EUR a day. It is close to the beach.'),\n",
       " Document(metadata={'source': '../data/rag/towns.txt'}, page_content='Ronda is a town of 34,000 habitants. It is in Málaga. It has warm summers and mild winters. It has several schools in the surroundings and one hospital nearby. Its job situation is fair. It has good connections, and the cost of living is 120 EUR a day. It is not close to the beach.\\n\\nPalencia is a town of 79,000 habitants. It is in Castilla y León. It has cold winters and mild summers. It has several schools in the surroundings and two hospitals nearby. Its job situation is moderate. It has good connections, and the cost of living is 115 EUR a day. It is not close to the beach.\\n\\nSanlúcar de Barrameda is a town of 69,000 habitants. It is in Cádiz. It has a warm climate with mild winters. It has several schools in the surroundings and one hospital nearby. Its job situation is seasonal. It has good connections, and the cost of living is 125 EUR a day. It is close to the beach.\\n\\nCáceres is a town of 96,000 habitants. It is in Extremadura. It has hot summers and mild winters. It has several schools in the surroundings and two hospitals nearby. Its job situation is moderate. It has good connections, and the cost of living is 120 EUR a day. It is not close to the beach.\\n\\nCastellón de la Plana is a town of 171,000 habitants. It is in Valencia. It has a Mediterranean climate with warm summers and mild winters. It has several schools in the surroundings and three hospitals nearby. Its job situation is fair. It has good connections, and the cost of living is 130 EUR a day. It is close to the beach.\\n\\nPonferrada is a town of 64,000 habitants. It is in Castilla y León. It has cold winters and warm summers. It has several schools in the surroundings and two hospitals nearby. Its job situation is moderate. It has good connections, and the cost of living is 115 EUR a day. It is not close to the beach.\\n\\nEstepona is a town of 70,000 habitants. It is in Málaga. It has warm summers and mild winters. It has several schools in the surroundings and one hospital nearby. Its job situation is seasonal. It has good connections, and the cost of living is 130 EUR a day. It is close to the beach.')]"
      ]
     },
     "execution_count": 8,
     "metadata": {},
     "output_type": "execute_result"
    }
   ],
   "source": [
    "documents"
   ]
  },
  {
   "cell_type": "code",
   "execution_count": 9,
   "metadata": {},
   "outputs": [],
   "source": [
    "# Define the embedding model\n",
    "embeddings = MistralAIEmbeddings(model=\"mistral-embed\", api_key= os.getenv(\"MISTRAL_API_KEY\"))"
   ]
  },
  {
   "cell_type": "code",
   "execution_count": 10,
   "metadata": {},
   "outputs": [
    {
     "data": {
      "text/plain": [
       "MistralAIEmbeddings(client=<httpx.Client object at 0x00000244FDF6DA10>, async_client=<httpx.AsyncClient object at 0x00000244EFA8A690>, mistral_api_key=SecretStr('**********'), endpoint='https://api.mistral.ai/v1/', max_retries=5, timeout=120, wait_time=30, max_concurrent_requests=64, tokenizer=<langchain_mistralai.embeddings.DummyTokenizer object at 0x00000244EFC8FA90>, model='mistral-embed')"
      ]
     },
     "execution_count": 10,
     "metadata": {},
     "output_type": "execute_result"
    }
   ],
   "source": [
    "embeddings"
   ]
  },
  {
   "cell_type": "code",
   "execution_count": 11,
   "metadata": {},
   "outputs": [],
   "source": [
    "# Create the vector store \n",
    "vector = FAISS.from_documents(documents, embeddings)"
   ]
  },
  {
   "cell_type": "code",
   "execution_count": 12,
   "metadata": {},
   "outputs": [],
   "source": [
    "# Define a retriever interface\n",
    "retriever = vector.as_retriever()\n",
    "# Define LLM\n",
    "pueblos_model = ChatMistralAI(api_key= os.getenv(\"MISTRAL_API_KEY\"))"
   ]
  },
  {
   "cell_type": "code",
   "execution_count": 13,
   "metadata": {},
   "outputs": [],
   "source": [
    "# Define prompt template\n",
    "prompt = ChatPromptTemplate.from_template(\"\"\"Answer the following question following based only on the provided context:\n",
    "\n",
    "<context>\n",
    "{context}\n",
    "</context>\n",
    "\n",
    "Question: {input}\n",
    "                                          \n",
    "Answer should provide a selection of the 3 most likely cities for the user, and a description of each of them, then ask if they have any preference of transports or schools\"\"\")\n"
   ]
  },
  {
   "cell_type": "code",
   "execution_count": 14,
   "metadata": {},
   "outputs": [],
   "source": [
    "# Create a retrieval chain to answer questions\n",
    "document_chain = create_stuff_documents_chain(pueblos_model, prompt)\n",
    "retrieval_chain = create_retrieval_chain(retriever, document_chain)"
   ]
  },
  {
   "cell_type": "code",
   "execution_count": 15,
   "metadata": {},
   "outputs": [],
   "source": [
    "response = retrieval_chain.invoke({\"input\": \"I would like to live in a sunny city with more than 5000 habitants, anywhere in spain\"})"
   ]
  },
  {
   "cell_type": "code",
   "execution_count": 16,
   "metadata": {},
   "outputs": [
    {
     "name": "stdout",
     "output_type": "stream",
     "text": [
      "Based on your preference to live in a sunny city with a population of more than 50,000 inhabitants, I have selected the following three cities in Spain:\n",
      "\n",
      "1. Torrevieja, Alicante: With a population of 82,000 inhabitants, Torrevieja has a warm Mediterranean climate, with hot summers and mild winters. It is close to the beach and has several schools in the surroundings and one hospital nearby. Its job situation is seasonal. The cost of living in Torrevieja is 135 EUR a day, and it has good connections.\n",
      "\n",
      "2. Gandía, Valencia: With a population of 75,000 inhabitants, Gandía has a Mediterranean climate, with warm summers and mild winters. It is close to the beach and has several schools in the surroundings and two hospitals nearby. Its job situation is seasonal. The cost of living in Gandía is 135 EUR a day, and it has good connections.\n",
      "\n",
      "3. Manresa, Barcelona: With a population of 78,000 inhabitants, Manresa has warm summers and cool winters. It is not close to the beach, but it has several schools in the surroundings and two hospitals nearby. Its job situation is fair. The cost of living in Manresa is 140 EUR a day, and it has excellent connections.\n",
      "\n",
      "Do you have any preference for transportation or schools? I can provide more information according to your needs.\n"
     ]
    }
   ],
   "source": [
    "print(response[\"answer\"])"
   ]
  },
  {
   "cell_type": "markdown",
   "metadata": {},
   "source": [
    "### Work on conversation"
   ]
  },
  {
   "cell_type": "markdown",
   "metadata": {},
   "source": [
    "\n",
    "| **Role**     | **Purpose**                                                                |\n",
    "|--------------|----------------------------------------------------------------------------|\n",
    "| `system`     | Sets the behavior, tone, and personality of the AI.                        |\n",
    "| `user`       | Represents the user's input or questions to the AI.                        |\n",
    "| `assistant`  | The AI's response to the user based on previous context and system prompt.  |\n",
    "\n",
    "\n",
    "https://docs.mistral.ai/capabilities/completion/#tag/batch/operation/jobs_api_routes_batch_cancel_batch_job\n"
   ]
  },
  {
   "cell_type": "code",
   "execution_count": 17,
   "metadata": {},
   "outputs": [],
   "source": [
    "# Initialize the message history\n",
    "messages = [\n",
    "    {\"role\": \"system\", \"content\": \"You are a helpful assistant, original from a small town in Spain and dedicated to help out people find a new location to live, while fighting depopulation. You should always keep a friendly and conscious mindset, and try to understand better user needs and preferences to provide the best solutions\"}\n",
    "]"
   ]
  },
  {
   "cell_type": "code",
   "execution_count": 38,
   "metadata": {},
   "outputs": [],
   "source": [
    "# Function chat with pueblos assistant\n",
    "def chat_with_pueblos_assistant(user_input):\n",
    "    # Add user message to conversation history\n",
    "    messages.append({\"role\": \"user\", \"content\": user_input})\n",
    "\n",
    "    # Send the conversation history to Mistral\n",
    "    response = client.chat.parse(\n",
    "        model=pueblos_model,  # available options also: mistral-small, mistral-tiny\n",
    "        messages=messages,\n",
    "        response_format= {\"type\": \"json_object\"},\n",
    "        temperature = 0\n",
    "    )\n",
    "    # Extract AI's reply\n",
    "    pueblos_reply = response.choices[0].message.content\n",
    "    \n",
    "    # Append AI reply to conversation history\n",
    "    messages.append({\"role\": \"assistant\", \"content\": pueblos_reply})\n",
    "    return pueblos_reply\n"
   ]
  },
  {
   "cell_type": "code",
   "execution_count": null,
   "metadata": {},
   "outputs": [
    {
     "name": "stdout",
     "output_type": "stream",
     "text": [
      "You: Hi, who are you?\n"
     ]
    },
    {
     "ename": "AttributeError",
     "evalue": "'dict' object has no attribute 'model_json_schema'",
     "output_type": "error",
     "traceback": [
      "\u001b[1;31m---------------------------------------------------------------------------\u001b[0m",
      "\u001b[1;31mAttributeError\u001b[0m                            Traceback (most recent call last)",
      "Cell \u001b[1;32mIn[39], line 3\u001b[0m\n\u001b[0;32m      1\u001b[0m user_input \u001b[38;5;241m=\u001b[39m \u001b[38;5;124m\"\u001b[39m\u001b[38;5;124mHi, who are you?\u001b[39m\u001b[38;5;124m\"\u001b[39m\n\u001b[0;32m      2\u001b[0m \u001b[38;5;28mprint\u001b[39m(\u001b[38;5;124m\"\u001b[39m\u001b[38;5;124mYou:\u001b[39m\u001b[38;5;124m\"\u001b[39m, user_input)\n\u001b[1;32m----> 3\u001b[0m \u001b[38;5;28mprint\u001b[39m(\u001b[38;5;124m\"\u001b[39m\u001b[38;5;124mPueblos asistant:\u001b[39m\u001b[38;5;124m\"\u001b[39m, \u001b[43mchat_with_pueblos_assistant\u001b[49m\u001b[43m(\u001b[49m\u001b[43muser_input\u001b[49m\u001b[43m)\u001b[49m)\n",
      "Cell \u001b[1;32mIn[38], line 7\u001b[0m, in \u001b[0;36mchat_with_pueblos_assistant\u001b[1;34m(user_input)\u001b[0m\n\u001b[0;32m      4\u001b[0m messages\u001b[38;5;241m.\u001b[39mappend({\u001b[38;5;124m\"\u001b[39m\u001b[38;5;124mrole\u001b[39m\u001b[38;5;124m\"\u001b[39m: \u001b[38;5;124m\"\u001b[39m\u001b[38;5;124muser\u001b[39m\u001b[38;5;124m\"\u001b[39m, \u001b[38;5;124m\"\u001b[39m\u001b[38;5;124mcontent\u001b[39m\u001b[38;5;124m\"\u001b[39m: user_input})\n\u001b[0;32m      6\u001b[0m \u001b[38;5;66;03m# Send the conversation history to Mistral\u001b[39;00m\n\u001b[1;32m----> 7\u001b[0m response \u001b[38;5;241m=\u001b[39m \u001b[43mclient\u001b[49m\u001b[38;5;241;43m.\u001b[39;49m\u001b[43mchat\u001b[49m\u001b[38;5;241;43m.\u001b[39;49m\u001b[43mparse\u001b[49m\u001b[43m(\u001b[49m\n\u001b[0;32m      8\u001b[0m \u001b[43m    \u001b[49m\u001b[43mmodel\u001b[49m\u001b[38;5;241;43m=\u001b[39;49m\u001b[43mpueblos_model\u001b[49m\u001b[43m,\u001b[49m\u001b[43m  \u001b[49m\u001b[38;5;66;43;03m# available options also: mistral-small, mistral-tiny\u001b[39;49;00m\n\u001b[0;32m      9\u001b[0m \u001b[43m    \u001b[49m\u001b[43mmessages\u001b[49m\u001b[38;5;241;43m=\u001b[39;49m\u001b[43mmessages\u001b[49m\u001b[43m,\u001b[49m\n\u001b[0;32m     10\u001b[0m \u001b[43m    \u001b[49m\u001b[43mresponse_format\u001b[49m\u001b[38;5;241;43m=\u001b[39;49m\u001b[43m \u001b[49m\u001b[43m{\u001b[49m\u001b[38;5;124;43m\"\u001b[39;49m\u001b[38;5;124;43mtype\u001b[39;49m\u001b[38;5;124;43m\"\u001b[39;49m\u001b[43m:\u001b[49m\u001b[43m \u001b[49m\u001b[38;5;124;43m\"\u001b[39;49m\u001b[38;5;124;43mjson_object\u001b[39;49m\u001b[38;5;124;43m\"\u001b[39;49m\u001b[43m}\u001b[49m\u001b[43m,\u001b[49m\n\u001b[0;32m     11\u001b[0m \u001b[43m    \u001b[49m\u001b[43mtemperature\u001b[49m\u001b[43m \u001b[49m\u001b[38;5;241;43m=\u001b[39;49m\u001b[43m \u001b[49m\u001b[38;5;241;43m0\u001b[39;49m\n\u001b[0;32m     12\u001b[0m \u001b[43m\u001b[49m\u001b[43m)\u001b[49m\n\u001b[0;32m     13\u001b[0m \u001b[38;5;66;03m# Extract AI's reply\u001b[39;00m\n\u001b[0;32m     14\u001b[0m pueblos_reply \u001b[38;5;241m=\u001b[39m response\u001b[38;5;241m.\u001b[39mchoices[\u001b[38;5;241m0\u001b[39m]\u001b[38;5;241m.\u001b[39mmessage\u001b[38;5;241m.\u001b[39mcontent\n",
      "File \u001b[1;32md:\\DS\\ml-pueblos\\.venv\\Lib\\site-packages\\mistralai\\chat.py:37\u001b[0m, in \u001b[0;36mChat.parse\u001b[1;34m(self, response_format, **kwargs)\u001b[0m\n\u001b[0;32m     30\u001b[0m \u001b[38;5;250m\u001b[39m\u001b[38;5;124;03m\"\"\"\u001b[39;00m\n\u001b[0;32m     31\u001b[0m \u001b[38;5;124;03mParse the response using the provided response format.\u001b[39;00m\n\u001b[0;32m     32\u001b[0m \u001b[38;5;124;03m:param Type[CustomPydanticModel] response_format: The Pydantic model to parse the response into\u001b[39;00m\n\u001b[0;32m     33\u001b[0m \u001b[38;5;124;03m:param Any **kwargs Additional keyword arguments to pass to the .complete method\u001b[39;00m\n\u001b[0;32m     34\u001b[0m \u001b[38;5;124;03m:return: The parsed response\u001b[39;00m\n\u001b[0;32m     35\u001b[0m \u001b[38;5;124;03m\"\"\"\u001b[39;00m\n\u001b[0;32m     36\u001b[0m \u001b[38;5;66;03m# Convert the input Pydantic Model to a strict JSON ready to be passed to chat.complete\u001b[39;00m\n\u001b[1;32m---> 37\u001b[0m json_response_format \u001b[38;5;241m=\u001b[39m \u001b[43mresponse_format_from_pydantic_model\u001b[49m\u001b[43m(\u001b[49m\u001b[43mresponse_format\u001b[49m\u001b[43m)\u001b[49m\n\u001b[0;32m     38\u001b[0m \u001b[38;5;66;03m# Run the inference\u001b[39;00m\n\u001b[0;32m     39\u001b[0m response \u001b[38;5;241m=\u001b[39m \u001b[38;5;28mself\u001b[39m\u001b[38;5;241m.\u001b[39mcomplete(\u001b[38;5;241m*\u001b[39m\u001b[38;5;241m*\u001b[39mkwargs, response_format\u001b[38;5;241m=\u001b[39mjson_response_format)\n",
      "File \u001b[1;32md:\\DS\\ml-pueblos\\.venv\\Lib\\site-packages\\mistralai\\extra\\utils\\response_format.py:13\u001b[0m, in \u001b[0;36mresponse_format_from_pydantic_model\u001b[1;34m(model)\u001b[0m\n\u001b[0;32m      9\u001b[0m \u001b[38;5;28;01mdef\u001b[39;00m\u001b[38;5;250m \u001b[39m\u001b[38;5;21mresponse_format_from_pydantic_model\u001b[39m(\n\u001b[0;32m     10\u001b[0m     model: \u001b[38;5;28mtype\u001b[39m[CustomPydanticModel],\n\u001b[0;32m     11\u001b[0m ) \u001b[38;5;241m-\u001b[39m\u001b[38;5;241m>\u001b[39m ResponseFormat:\n\u001b[0;32m     12\u001b[0m \u001b[38;5;250m    \u001b[39m\u001b[38;5;124;03m\"\"\"Generate a strict JSON schema from a pydantic model.\"\"\"\u001b[39;00m\n\u001b[1;32m---> 13\u001b[0m     model_schema \u001b[38;5;241m=\u001b[39m rec_strict_json_schema(\u001b[43mmodel\u001b[49m\u001b[38;5;241;43m.\u001b[39;49m\u001b[43mmodel_json_schema\u001b[49m())\n\u001b[0;32m     14\u001b[0m     json_schema \u001b[38;5;241m=\u001b[39m JSONSchema\u001b[38;5;241m.\u001b[39mmodel_validate(\n\u001b[0;32m     15\u001b[0m         {\u001b[38;5;124m\"\u001b[39m\u001b[38;5;124mname\u001b[39m\u001b[38;5;124m\"\u001b[39m: model\u001b[38;5;241m.\u001b[39m\u001b[38;5;18m__name__\u001b[39m, \u001b[38;5;124m\"\u001b[39m\u001b[38;5;124mschema\u001b[39m\u001b[38;5;124m\"\u001b[39m: model_schema, \u001b[38;5;124m\"\u001b[39m\u001b[38;5;124mstrict\u001b[39m\u001b[38;5;124m\"\u001b[39m: \u001b[38;5;28;01mTrue\u001b[39;00m}\n\u001b[0;32m     16\u001b[0m     )\n\u001b[0;32m     17\u001b[0m     \u001b[38;5;28;01mreturn\u001b[39;00m ResponseFormat(\u001b[38;5;28mtype\u001b[39m\u001b[38;5;241m=\u001b[39m\u001b[38;5;124m\"\u001b[39m\u001b[38;5;124mjson_schema\u001b[39m\u001b[38;5;124m\"\u001b[39m, json_schema\u001b[38;5;241m=\u001b[39mjson_schema)\n",
      "\u001b[1;31mAttributeError\u001b[0m: 'dict' object has no attribute 'model_json_schema'"
     ]
    }
   ],
   "source": [
    "user_input = \"Hi, who are you?\"\n",
    "print(\"You:\", user_input)\n",
    "print(\"Pueblos asistant:\", chat_with_pueblos_assistant(user_input))"
   ]
  },
  {
   "cell_type": "code",
   "execution_count": null,
   "metadata": {},
   "outputs": [],
   "source": [
    "user_input = \"Can you explain quantum mechanics?\"\n",
    "print(\"You:\", user_input)\n",
    "print(\"Mistral AI:\", chat_with_pueblos_assistant(user_input))"
   ]
  },
  {
   "cell_type": "code",
   "execution_count": null,
   "metadata": {},
   "outputs": [],
   "source": [
    "\n",
    "# ✅ Example conversation\n",
    "while True:\n",
    "    user_input = input(\"You: \")\n",
    "    if user_input.lower() in [\"exit\", \"quit\"]:\n",
    "        break\n",
    "    \n",
    "    ai_response = chat_with_mistral(user_input)\n",
    "    print(\"Mistral AI:\", ai_response)\n"
   ]
  }
 ],
 "metadata": {
  "kernelspec": {
   "display_name": ".venv",
   "language": "python",
   "name": "python3"
  },
  "language_info": {
   "codemirror_mode": {
    "name": "ipython",
    "version": 3
   },
   "file_extension": ".py",
   "mimetype": "text/x-python",
   "name": "python",
   "nbconvert_exporter": "python",
   "pygments_lexer": "ipython3",
   "version": "3.11.3"
  }
 },
 "nbformat": 4,
 "nbformat_minor": 2
}
