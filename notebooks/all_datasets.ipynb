{
 "cells": [
  {
   "cell_type": "code",
   "execution_count": 1,
   "metadata": {
    "execution": {
     "iopub.execute_input": "2025-02-14T09:33:50.495981Z",
     "iopub.status.busy": "2025-02-14T09:33:50.494828Z",
     "iopub.status.idle": "2025-02-14T09:33:51.269424Z",
     "shell.execute_reply": "2025-02-14T09:33:51.268370Z"
    }
   },
   "outputs": [],
   "source": [
    "import pandas as pd\n",
    "import plotly.express as px\n",
    "import numpy as np"
   ]
  },
  {
   "cell_type": "code",
   "execution_count": 2,
   "metadata": {
    "execution": {
     "iopub.execute_input": "2025-02-14T09:33:51.273144Z",
     "iopub.status.busy": "2025-02-14T09:33:51.272605Z",
     "iopub.status.idle": "2025-02-14T09:33:51.278408Z",
     "shell.execute_reply": "2025-02-14T09:33:51.277418Z"
    }
   },
   "outputs": [],
   "source": [
    "import glob\n",
    "from IPython.display import display\n",
    "\n",
    "# Load the data\n",
    "\n",
    "# Get list of all CSV filenames in the folder\n",
    "csv_files = glob.glob('../data/processed/*.csv')\n",
    "\n",
    "# Read each csv file and store the resulting DataFrame in a list\n",
    "dfs = [(pd.read_csv(file), file.title()) for file in csv_files]\n",
    "\n",
    "# Optionally, concatenate them into a single DataFrame\n",
    "# df_all = pd.concat(dfs, ignore_index=True)\n",
    "\n",
    "for df in dfs:\n",
    "    print()\n",
    "    print()\n",
    "    display(df[1], df[0].sample(20))"
   ]
  },
  {
   "cell_type": "code",
   "execution_count": null,
   "metadata": {},
   "outputs": [],
   "source": []
  }
 ],
 "metadata": {
  "kernelspec": {
   "display_name": ".venv",
   "language": "python",
   "name": "python3"
  },
  "language_info": {
   "codemirror_mode": {
    "name": "ipython",
    "version": 3
   },
   "file_extension": ".py",
   "mimetype": "text/x-python",
   "name": "python",
   "nbconvert_exporter": "python",
   "pygments_lexer": "ipython3",
   "version": "3.11.3"
  }
 },
 "nbformat": 4,
 "nbformat_minor": 2
}
