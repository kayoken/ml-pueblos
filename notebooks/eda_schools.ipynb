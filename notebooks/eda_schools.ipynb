{
 "cells": [
  {
   "cell_type": "code",
   "execution_count": null,
   "metadata": {
    "execution": {
     "iopub.execute_input": "2025-02-17T09:35:37.836405Z",
     "iopub.status.busy": "2025-02-17T09:35:37.836249Z",
     "iopub.status.idle": "2025-02-17T09:35:38.175178Z",
     "shell.execute_reply": "2025-02-17T09:35:38.174813Z"
    }
   },
   "outputs": [],
   "source": [
    "import sys\n",
    "import os\n",
    "import re\n",
    "sys.path.insert(0, os.path.abspath(os.path.join(os.getcwd(), '..')))\n",
    "import pandas as pd\n",
    "import plotly.express as px\n",
    "import numpy as np\n",
    "import geopandas as gpd\n",
    "from pyproj import Transformer\n",
    "from scripts.utils import split_column_at\n",
    "from scripts.accent_cleaner import AccentCleaner\n",
    "#from deep_translator import GoogleTranslator"
   ]
  },
  {
   "cell_type": "code",
   "execution_count": null,
   "metadata": {
    "execution": {
     "iopub.execute_input": "2025-02-17T09:35:38.176530Z",
     "iopub.status.busy": "2025-02-17T09:35:38.176424Z",
     "iopub.status.idle": "2025-02-17T09:35:38.493403Z",
     "shell.execute_reply": "2025-02-17T09:35:38.493091Z"
    }
   },
   "outputs": [],
   "source": [
    "# Read the GeoJSON file\n",
    "gdf = gpd.read_file('../data/raw/spanish_schools.geojson')\n",
    "\n",
    "# Ensure that the geometry column contains points\n",
    "# Extract latitude and longitude from the geometry column\n",
    "gdf['latitude'] = gdf.geometry.y\n",
    "gdf['longitude'] = gdf.geometry.x\n",
    "\n",
    "# Now drop the geometry column if you don't need it anymore\n",
    "df_schools = gdf.drop(columns='geometry')\n",
    "\n",
    "df_schools.rename(columns={\"Gestion\": \"public_private\",\n",
    "                            \"OBJECTID\": \"school_id\", \n",
    "                            \"Gestion\": \"public_private\",\n",
    "                            \"Nombre\": \"name\",\n",
    "                            \"Tipo\": \"type\"},\n",
    "                            inplace=True)\n",
    "\n",
    "df_schools.drop([\"Direccion\", \"CodigoPostal\", \"Fuente\", \"Municipio\"], axis=1,  inplace=True)\n",
    "\n",
    "# I dropped Municipio because we don't have the code, and maybe not needed as we can just calculate distance\n",
    "\n",
    "df_schools.head()"
   ]
  },
  {
   "cell_type": "code",
   "execution_count": null,
   "metadata": {
    "execution": {
     "iopub.execute_input": "2025-02-17T09:35:38.495128Z",
     "iopub.status.busy": "2025-02-17T09:35:38.494962Z",
     "iopub.status.idle": "2025-02-17T09:35:38.498421Z",
     "shell.execute_reply": "2025-02-17T09:35:38.498126Z"
    }
   },
   "outputs": [],
   "source": [
    "df_schools[\"public_private\"].unique()"
   ]
  },
  {
   "cell_type": "code",
   "execution_count": null,
   "metadata": {
    "execution": {
     "iopub.execute_input": "2025-02-17T09:35:38.499522Z",
     "iopub.status.busy": "2025-02-17T09:35:38.499436Z",
     "iopub.status.idle": "2025-02-17T09:35:38.504457Z",
     "shell.execute_reply": "2025-02-17T09:35:38.504193Z"
    }
   },
   "outputs": [],
   "source": [
    "df_schools"
   ]
  },
  {
   "cell_type": "code",
   "execution_count": null,
   "metadata": {
    "execution": {
     "iopub.execute_input": "2025-02-17T09:35:38.505733Z",
     "iopub.status.busy": "2025-02-17T09:35:38.505629Z",
     "iopub.status.idle": "2025-02-17T09:35:38.510843Z",
     "shell.execute_reply": "2025-02-17T09:35:38.510578Z"
    }
   },
   "outputs": [],
   "source": [
    "translation_map = {\n",
    "    'Público': 'Public',\n",
    "    'Concertado': 'Charter',\n",
    "    'Privado': 'Private'\n",
    "}\n",
    "\n",
    "# Replace values in the column\n",
    "df_schools[\"public_private\"] = df_schools[\"public_private\"].replace(translation_map)\n",
    "\n",
    "# Print unique values to confirm the change\n",
    "print(df_schools[\"public_private\"].unique())\n"
   ]
  },
  {
   "cell_type": "code",
   "execution_count": null,
   "metadata": {
    "execution": {
     "iopub.execute_input": "2025-02-17T09:35:38.512089Z",
     "iopub.status.busy": "2025-02-17T09:35:38.512019Z",
     "iopub.status.idle": "2025-02-17T09:35:38.516393Z",
     "shell.execute_reply": "2025-02-17T09:35:38.516198Z"
    }
   },
   "outputs": [],
   "source": [
    "df_schools[\"type\"].unique()\n"
   ]
  },
  {
   "cell_type": "code",
   "execution_count": null,
   "metadata": {
    "execution": {
     "iopub.execute_input": "2025-02-17T09:35:38.517571Z",
     "iopub.status.busy": "2025-02-17T09:35:38.517496Z",
     "iopub.status.idle": "2025-02-17T09:35:38.524033Z",
     "shell.execute_reply": "2025-02-17T09:35:38.523327Z"
    }
   },
   "outputs": [],
   "source": [
    "df_schools['type'] = df_schools['type'].str.capitalize()"
   ]
  },
  {
   "cell_type": "code",
   "execution_count": null,
   "metadata": {
    "execution": {
     "iopub.execute_input": "2025-02-17T09:35:38.525376Z",
     "iopub.status.busy": "2025-02-17T09:35:38.525261Z",
     "iopub.status.idle": "2025-02-17T09:35:38.529772Z",
     "shell.execute_reply": "2025-02-17T09:35:38.529449Z"
    }
   },
   "outputs": [],
   "source": [
    "df_schools"
   ]
  },
  {
   "cell_type": "code",
   "execution_count": null,
   "metadata": {
    "execution": {
     "iopub.execute_input": "2025-02-17T09:35:38.531084Z",
     "iopub.status.busy": "2025-02-17T09:35:38.530981Z",
     "iopub.status.idle": "2025-02-17T09:35:38.582525Z",
     "shell.execute_reply": "2025-02-17T09:35:38.582234Z"
    }
   },
   "outputs": [],
   "source": [
    "df_schools.to_csv(\"../data/processed/filtered_schools.csv\", index=False)"
   ]
  },
  {
   "cell_type": "code",
   "execution_count": null,
   "metadata": {
    "execution": {
     "iopub.execute_input": "2025-02-17T09:35:38.583799Z",
     "iopub.status.busy": "2025-02-17T09:35:38.583726Z",
     "iopub.status.idle": "2025-02-17T09:35:38.777375Z",
     "shell.execute_reply": "2025-02-17T09:35:38.776947Z"
    }
   },
   "outputs": [],
   "source": [
    "title = \"Schools in Spain\"\n",
    "\n",
    "lats = df_schools.latitude\n",
    "lons = df_schools.longitude\n",
    "\n",
    "fig = px.scatter_map(df_schools, \n",
    "                     lat=lats, \n",
    "                     lon=lons,\n",
    "                     color_continuous_scale=px.colors.carto.Aggrnyl,\n",
    "                     zoom=5,\n",
    "                     size_max=50  # Increase max size of markers\n",
    "                     )\n",
    "\n",
    "# Adjust the size reference to make small points more visible\n",
    "fig.update_traces(marker=dict(sizeref=1000))  # Decrease this value to make points larger\n",
    "\n",
    "fig.update_geos(fitbounds=\"locations\")\n",
    "fig.update_layout(height=1000, width=1000)\n",
    "fig.update_layout(mapbox_style=\"open-street-map\")\n",
    "fig.update_layout(margin={\"r\":50,\"t\":50,\"l\":50,\"b\":50})\n",
    "fig.update_layout(\n",
    "    coloraxis_colorbar=dict(title='asdf')\n",
    ")\n",
    "fig.update_layout(title=\"Schools in Spain \")\n",
    "\n",
    "fig.show()\n",
    "\n",
    "### looks like there might be missing data in CLM"
   ]
  },
  {
   "cell_type": "code",
   "execution_count": null,
   "metadata": {
    "execution": {
     "iopub.execute_input": "2025-02-17T09:35:38.815183Z",
     "iopub.status.busy": "2025-02-17T09:35:38.815073Z",
     "iopub.status.idle": "2025-02-17T09:35:38.816655Z",
     "shell.execute_reply": "2025-02-17T09:35:38.816403Z"
    }
   },
   "outputs": [],
   "source": [
    "# Translate function\n",
    "\n",
    "# def translate_text(text):\n",
    "#     if pd.isna(text):  # Handle NaN values\n",
    "#         return text\n",
    "#     return GoogleTranslator(source='auto', target='en').translate(text)\n",
    "\n",
    "# # Apply translation to unique values\n",
    "# df_schools[\"type\"] = df_schools[\"type\"].apply(translate_text)\n",
    "\n",
    "# # Check unique values after translation\n",
    "# print(df_schools[\"type\"].unique())\n"
   ]
  }
 ],
 "metadata": {
  "kernelspec": {
   "display_name": ".venv",
   "language": "python",
   "name": "python3"
  },
  "language_info": {
   "codemirror_mode": {
    "name": "ipython",
    "version": 3
   },
   "file_extension": ".py",
   "mimetype": "text/x-python",
   "name": "python",
   "nbconvert_exporter": "python",
   "pygments_lexer": "ipython3",
   "version": "3.11.3"
  }
 },
 "nbformat": 4,
 "nbformat_minor": 2
}
