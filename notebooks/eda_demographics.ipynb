{
 "cells": [
  {
   "cell_type": "code",
   "execution_count": null,
   "metadata": {
    "execution": {
     "iopub.execute_input": "2025-02-17T09:35:06.825073Z",
     "iopub.status.busy": "2025-02-17T09:35:06.824933Z",
     "iopub.status.idle": "2025-02-17T09:35:07.105298Z",
     "shell.execute_reply": "2025-02-17T09:35:07.105034Z"
    }
   },
   "outputs": [],
   "source": [
    "import sys\n",
    "import os\n",
    "sys.path.insert(0, os.path.abspath(os.path.join(os.getcwd(), '..')))\n",
    "\n",
    "import pandas as pd\n",
    "import plotly.express as px\n",
    "import numpy as np\n",
    "\n",
    "from scripts.accent_cleaner import AccentCleaner\n",
    "from scripts.column_aligner import ColumnAligner\n",
    "from scripts.utils import split_at_char, replace_with"
   ]
  },
  {
   "cell_type": "code",
   "execution_count": null,
   "metadata": {
    "execution": {
     "iopub.execute_input": "2025-02-17T09:35:07.106511Z",
     "iopub.status.busy": "2025-02-17T09:35:07.106406Z",
     "iopub.status.idle": "2025-02-17T09:35:10.423683Z",
     "shell.execute_reply": "2025-02-17T09:35:10.423255Z"
    }
   },
   "outputs": [],
   "source": [
    "df_raw = pd.read_csv(\"../data/raw/68542.csv\", sep=\";\", decimal=\",\")"
   ]
  },
  {
   "cell_type": "code",
   "execution_count": null,
   "metadata": {
    "execution": {
     "iopub.execute_input": "2025-02-17T09:35:10.425184Z",
     "iopub.status.busy": "2025-02-17T09:35:10.425103Z",
     "iopub.status.idle": "2025-02-17T09:35:10.430217Z",
     "shell.execute_reply": "2025-02-17T09:35:10.429856Z"
    }
   },
   "outputs": [],
   "source": [
    "df_raw.head()"
   ]
  },
  {
   "cell_type": "code",
   "execution_count": null,
   "metadata": {
    "execution": {
     "iopub.execute_input": "2025-02-17T09:35:10.431492Z",
     "iopub.status.busy": "2025-02-17T09:35:10.431411Z",
     "iopub.status.idle": "2025-02-17T09:35:10.435383Z",
     "shell.execute_reply": "2025-02-17T09:35:10.435077Z"
    }
   },
   "outputs": [],
   "source": [
    "df_raw.info()"
   ]
  },
  {
   "cell_type": "code",
   "execution_count": null,
   "metadata": {
    "execution": {
     "iopub.execute_input": "2025-02-17T09:35:10.436426Z",
     "iopub.status.busy": "2025-02-17T09:35:10.436366Z",
     "iopub.status.idle": "2025-02-17T09:35:10.581613Z",
     "shell.execute_reply": "2025-02-17T09:35:10.581236Z"
    }
   },
   "outputs": [],
   "source": [
    "df_raw.sample(15)"
   ]
  },
  {
   "cell_type": "code",
   "execution_count": null,
   "metadata": {
    "execution": {
     "iopub.execute_input": "2025-02-17T09:35:10.582922Z",
     "iopub.status.busy": "2025-02-17T09:35:10.582833Z",
     "iopub.status.idle": "2025-02-17T09:35:10.827814Z",
     "shell.execute_reply": "2025-02-17T09:35:10.827485Z"
    }
   },
   "outputs": [],
   "source": [
    "df_raw.drop(columns=['National Total'], inplace=True)"
   ]
  },
  {
   "cell_type": "code",
   "execution_count": null,
   "metadata": {
    "execution": {
     "iopub.execute_input": "2025-02-17T09:35:10.829147Z",
     "iopub.status.busy": "2025-02-17T09:35:10.829059Z",
     "iopub.status.idle": "2025-02-17T09:35:11.414550Z",
     "shell.execute_reply": "2025-02-17T09:35:11.414230Z"
    }
   },
   "outputs": [],
   "source": [
    "df_raw.isnull().sum()"
   ]
  },
  {
   "cell_type": "code",
   "execution_count": null,
   "metadata": {
    "execution": {
     "iopub.execute_input": "2025-02-17T09:35:11.415774Z",
     "iopub.status.busy": "2025-02-17T09:35:11.415691Z",
     "iopub.status.idle": "2025-02-17T09:35:11.531636Z",
     "shell.execute_reply": "2025-02-17T09:35:11.531389Z"
    }
   },
   "outputs": [],
   "source": [
    "df_municipalities_null = df_raw[df_raw['Municipalities'].isnull()]\n",
    "df_municipalities_null[df_municipalities_null[\"Provinces\"] == \"08 Barcelona\"]"
   ]
  },
  {
   "cell_type": "markdown",
   "metadata": {},
   "source": [
    "### We have information about provinces without the municipalities, we should drop them"
   ]
  },
  {
   "cell_type": "code",
   "execution_count": null,
   "metadata": {
    "execution": {
     "iopub.execute_input": "2025-02-17T09:35:11.532965Z",
     "iopub.status.busy": "2025-02-17T09:35:11.532884Z",
     "iopub.status.idle": "2025-02-17T09:35:11.749143Z",
     "shell.execute_reply": "2025-02-17T09:35:11.748831Z"
    }
   },
   "outputs": [],
   "source": [
    "df_raw[df_raw['Provinces'] == \"25 Lleida\"].sample(5)"
   ]
  },
  {
   "cell_type": "code",
   "execution_count": null,
   "metadata": {
    "execution": {
     "iopub.execute_input": "2025-02-17T09:35:11.750303Z",
     "iopub.status.busy": "2025-02-17T09:35:11.750233Z",
     "iopub.status.idle": "2025-02-17T09:35:12.053223Z",
     "shell.execute_reply": "2025-02-17T09:35:12.052988Z"
    }
   },
   "outputs": [],
   "source": [
    "\n",
    "prov_null = df_raw[[\"Provinces\", \"Municipalities\"]]\n",
    "\n",
    "prov_null[(prov_null[\"Provinces\"].isnull()) & (prov_null[\"Municipalities\"].isnull())]"
   ]
  },
  {
   "cell_type": "code",
   "execution_count": null,
   "metadata": {
    "execution": {
     "iopub.execute_input": "2025-02-17T09:35:12.054371Z",
     "iopub.status.busy": "2025-02-17T09:35:12.054295Z",
     "iopub.status.idle": "2025-02-17T09:35:12.168981Z",
     "shell.execute_reply": "2025-02-17T09:35:12.168689Z"
    }
   },
   "outputs": [],
   "source": [
    "\n",
    "prov_null[(prov_null[\"Provinces\"].isnull())]"
   ]
  },
  {
   "cell_type": "code",
   "execution_count": null,
   "metadata": {
    "execution": {
     "iopub.execute_input": "2025-02-17T09:35:12.170155Z",
     "iopub.status.busy": "2025-02-17T09:35:12.170078Z",
     "iopub.status.idle": "2025-02-17T09:35:12.290902Z",
     "shell.execute_reply": "2025-02-17T09:35:12.290652Z"
    }
   },
   "outputs": [],
   "source": [
    "df_raw[df_raw['Total'].isnull()].sample(30)"
   ]
  },
  {
   "cell_type": "code",
   "execution_count": null,
   "metadata": {
    "execution": {
     "iopub.execute_input": "2025-02-17T09:35:12.292081Z",
     "iopub.status.busy": "2025-02-17T09:35:12.292013Z",
     "iopub.status.idle": "2025-02-17T09:35:12.434856Z",
     "shell.execute_reply": "2025-02-17T09:35:12.434556Z"
    }
   },
   "outputs": [],
   "source": [
    "df_raw.sample(20)"
   ]
  },
  {
   "cell_type": "code",
   "execution_count": null,
   "metadata": {
    "execution": {
     "iopub.execute_input": "2025-02-17T09:35:12.436255Z",
     "iopub.status.busy": "2025-02-17T09:35:12.436152Z",
     "iopub.status.idle": "2025-02-17T09:35:13.249842Z",
     "shell.execute_reply": "2025-02-17T09:35:13.249548Z"
    }
   },
   "outputs": [],
   "source": [
    "df_raw = df_raw.dropna(subset=[\"Provinces\", \"Municipalities\", \"Total\"], how=\"any\")"
   ]
  },
  {
   "cell_type": "code",
   "execution_count": null,
   "metadata": {
    "execution": {
     "iopub.execute_input": "2025-02-17T09:35:13.251076Z",
     "iopub.status.busy": "2025-02-17T09:35:13.251002Z",
     "iopub.status.idle": "2025-02-17T09:35:13.389913Z",
     "shell.execute_reply": "2025-02-17T09:35:13.389613Z"
    }
   },
   "outputs": [],
   "source": [
    "df_2024 = df_raw[df_raw['Periodo'] == 2024].copy()"
   ]
  },
  {
   "cell_type": "code",
   "execution_count": null,
   "metadata": {
    "execution": {
     "iopub.execute_input": "2025-02-17T09:35:13.391163Z",
     "iopub.status.busy": "2025-02-17T09:35:13.391082Z",
     "iopub.status.idle": "2025-02-17T09:35:13.393458Z",
     "shell.execute_reply": "2025-02-17T09:35:13.393038Z"
    }
   },
   "outputs": [],
   "source": [
    "df_2024.reset_index(drop=True, inplace=True)"
   ]
  },
  {
   "cell_type": "code",
   "execution_count": null,
   "metadata": {
    "execution": {
     "iopub.execute_input": "2025-02-17T09:35:13.394617Z",
     "iopub.status.busy": "2025-02-17T09:35:13.394527Z",
     "iopub.status.idle": "2025-02-17T09:35:13.396663Z",
     "shell.execute_reply": "2025-02-17T09:35:13.396379Z"
    }
   },
   "outputs": [],
   "source": [
    "idx = pd.Index([\"Provinces\", \"Municipalities\", \"Sex\", \"Age\", \"Periodo\", \"Total\"])\n",
    "eng = pd.Index([\"province\", \"municipality\", \"sex\", \"age\", \"year\", \"total\"])\n",
    "\n",
    "df_2024.rename(columns=dict(zip(idx, eng)), inplace=True)"
   ]
  },
  {
   "cell_type": "markdown",
   "metadata": {},
   "source": [
    "### Get the correct types"
   ]
  },
  {
   "cell_type": "code",
   "execution_count": null,
   "metadata": {
    "execution": {
     "iopub.execute_input": "2025-02-17T09:35:13.397854Z",
     "iopub.status.busy": "2025-02-17T09:35:13.397783Z",
     "iopub.status.idle": "2025-02-17T09:35:13.917943Z",
     "shell.execute_reply": "2025-02-17T09:35:13.917599Z"
    }
   },
   "outputs": [],
   "source": [
    "df_2024[\"total\"] = pd.to_numeric(df_2024[\"total\"].str.replace(\".\", \"\", regex=False)).astype(\"int32\")"
   ]
  },
  {
   "cell_type": "code",
   "execution_count": null,
   "metadata": {
    "execution": {
     "iopub.execute_input": "2025-02-17T09:35:13.919115Z",
     "iopub.status.busy": "2025-02-17T09:35:13.919052Z",
     "iopub.status.idle": "2025-02-17T09:35:14.021529Z",
     "shell.execute_reply": "2025-02-17T09:35:14.021211Z"
    }
   },
   "outputs": [],
   "source": [
    "df_2024 = df_2024[df_2024[\"age\"] != \"All ages\"]"
   ]
  },
  {
   "cell_type": "code",
   "execution_count": null,
   "metadata": {
    "execution": {
     "iopub.execute_input": "2025-02-17T09:35:14.022792Z",
     "iopub.status.busy": "2025-02-17T09:35:14.022711Z",
     "iopub.status.idle": "2025-02-17T09:35:14.299212Z",
     "shell.execute_reply": "2025-02-17T09:35:14.298950Z"
    }
   },
   "outputs": [],
   "source": [
    "(df_2024[\"age\"].str.contains(r\"^\\d\"))"
   ]
  },
  {
   "cell_type": "code",
   "execution_count": null,
   "metadata": {
    "execution": {
     "iopub.execute_input": "2025-02-17T09:35:14.300296Z",
     "iopub.status.busy": "2025-02-17T09:35:14.300217Z",
     "iopub.status.idle": "2025-02-17T09:35:14.303555Z",
     "shell.execute_reply": "2025-02-17T09:35:14.303342Z"
    }
   },
   "outputs": [],
   "source": [
    "df_2024.head()"
   ]
  },
  {
   "cell_type": "code",
   "execution_count": null,
   "metadata": {
    "execution": {
     "iopub.execute_input": "2025-02-17T09:35:14.304488Z",
     "iopub.status.busy": "2025-02-17T09:35:14.304431Z",
     "iopub.status.idle": "2025-02-17T09:35:25.340939Z",
     "shell.execute_reply": "2025-02-17T09:35:25.340570Z"
    }
   },
   "outputs": [],
   "source": [
    "from scripts.utils import split_column_at\n",
    "df_2024[\"age\"] = split_column_at(df_2024, \"age\", \" \", index=0)\n",
    "df_2024[\"province\"] = split_column_at(df_2024, \"province\", \" \", index=1)\n",
    "df_2024[\"cprov\"] = split_column_at(df_2024, \"province\", \" \", index=0)\n",
    "df_2024[\"cmun\"] = split_column_at(df_2024, \"municipality\", \" \", index=0)\n",
    "df_2024[\"municipality\"] = split_column_at(df_2024, \"municipality\", \" \", index=1)"
   ]
  },
  {
   "cell_type": "code",
   "execution_count": null,
   "metadata": {
    "execution": {
     "iopub.execute_input": "2025-02-17T09:35:25.342482Z",
     "iopub.status.busy": "2025-02-17T09:35:25.342312Z",
     "iopub.status.idle": "2025-02-17T09:35:25.347181Z",
     "shell.execute_reply": "2025-02-17T09:35:25.346894Z"
    }
   },
   "outputs": [],
   "source": [
    "df_2024"
   ]
  },
  {
   "cell_type": "code",
   "execution_count": null,
   "metadata": {
    "execution": {
     "iopub.execute_input": "2025-02-17T09:35:25.348233Z",
     "iopub.status.busy": "2025-02-17T09:35:25.348166Z",
     "iopub.status.idle": "2025-02-17T09:35:25.516165Z",
     "shell.execute_reply": "2025-02-17T09:35:25.515760Z"
    }
   },
   "outputs": [],
   "source": [
    "df_2024.drop(\"cprov\", axis = 1, inplace=True)"
   ]
  },
  {
   "cell_type": "code",
   "execution_count": null,
   "metadata": {
    "execution": {
     "iopub.execute_input": "2025-02-17T09:35:25.517418Z",
     "iopub.status.busy": "2025-02-17T09:35:25.517351Z",
     "iopub.status.idle": "2025-02-17T09:35:26.074892Z",
     "shell.execute_reply": "2025-02-17T09:35:26.074555Z"
    }
   },
   "outputs": [],
   "source": [
    "df_2024[\"age\"] = pd.to_numeric(df_2024[\"age\"].str.replace(\".\", \"\", regex=False)).astype(\"int32\")"
   ]
  },
  {
   "cell_type": "code",
   "execution_count": null,
   "metadata": {
    "execution": {
     "iopub.execute_input": "2025-02-17T09:35:26.076602Z",
     "iopub.status.busy": "2025-02-17T09:35:26.076486Z",
     "iopub.status.idle": "2025-02-17T09:35:28.360151Z",
     "shell.execute_reply": "2025-02-17T09:35:28.359730Z"
    }
   },
   "outputs": [],
   "source": [
    "cleaner = AccentCleaner([df_2024], ['municipality', 'province'])\n",
    "cleaner.cleanAccents()"
   ]
  },
  {
   "cell_type": "code",
   "execution_count": null,
   "metadata": {
    "execution": {
     "iopub.execute_input": "2025-02-17T09:35:28.361916Z",
     "iopub.status.busy": "2025-02-17T09:35:28.361791Z",
     "iopub.status.idle": "2025-02-17T09:35:28.388097Z",
     "shell.execute_reply": "2025-02-17T09:35:28.387843Z"
    }
   },
   "outputs": [],
   "source": [
    "df_2024.sample(10)"
   ]
  },
  {
   "cell_type": "code",
   "execution_count": null,
   "metadata": {
    "execution": {
     "iopub.execute_input": "2025-02-17T09:35:28.389248Z",
     "iopub.status.busy": "2025-02-17T09:35:28.389166Z",
     "iopub.status.idle": "2025-02-17T09:35:29.737568Z",
     "shell.execute_reply": "2025-02-17T09:35:29.737282Z"
    }
   },
   "outputs": [],
   "source": [
    "df_2024[\"province\"] = split_column_at(df_2024, \"province\", \" \", index=0)"
   ]
  },
  {
   "cell_type": "code",
   "execution_count": null,
   "metadata": {
    "execution": {
     "iopub.execute_input": "2025-02-17T09:35:29.738834Z",
     "iopub.status.busy": "2025-02-17T09:35:29.738768Z",
     "iopub.status.idle": "2025-02-17T09:35:30.330774Z",
     "shell.execute_reply": "2025-02-17T09:35:30.330335Z"
    }
   },
   "outputs": [],
   "source": [
    "df_2024[\"cmun\"] = pd.to_numeric(df_2024[\"cmun\"].str.replace(\".\", \"\", regex=False)).astype(\"int32\")"
   ]
  },
  {
   "cell_type": "code",
   "execution_count": null,
   "metadata": {
    "execution": {
     "iopub.execute_input": "2025-02-17T09:35:30.332638Z",
     "iopub.status.busy": "2025-02-17T09:35:30.332440Z",
     "iopub.status.idle": "2025-02-17T09:35:30.484649Z",
     "shell.execute_reply": "2025-02-17T09:35:30.484411Z"
    }
   },
   "outputs": [],
   "source": [
    "df_2024.sample(10)"
   ]
  },
  {
   "cell_type": "code",
   "execution_count": null,
   "metadata": {},
   "outputs": [],
   "source": [
    "df_2024.to_csv(\"../data/large_files/filtered_age.csv\", index=False)"
   ]
  },
  {
   "cell_type": "markdown",
   "metadata": {},
   "source": [
    "## Grouping\n"
   ]
  },
  {
   "cell_type": "code",
   "execution_count": null,
   "metadata": {
    "execution": {
     "iopub.execute_input": "2025-02-17T09:35:30.485788Z",
     "iopub.status.busy": "2025-02-17T09:35:30.485713Z",
     "iopub.status.idle": "2025-02-17T09:35:31.352560Z",
     "shell.execute_reply": "2025-02-17T09:35:31.352196Z"
    }
   },
   "outputs": [],
   "source": [
    "df_ages_bined = pd.read_csv(\"../data/large_files/filtered_age.csv\")\n",
    "\n",
    "df_ages_bined.shape\n",
    "df_ages_bined.head()"
   ]
  },
  {
   "cell_type": "code",
   "execution_count": null,
   "metadata": {
    "execution": {
     "iopub.execute_input": "2025-02-17T09:35:31.353839Z",
     "iopub.status.busy": "2025-02-17T09:35:31.353756Z",
     "iopub.status.idle": "2025-02-17T09:35:31.429915Z",
     "shell.execute_reply": "2025-02-17T09:35:31.429620Z"
    }
   },
   "outputs": [],
   "source": [
    "df_demographics = df_ages_bined.query(\"sex != 'Total'\")"
   ]
  },
  {
   "cell_type": "code",
   "execution_count": null,
   "metadata": {
    "execution": {
     "iopub.execute_input": "2025-02-17T09:35:31.431272Z",
     "iopub.status.busy": "2025-02-17T09:35:31.431186Z",
     "iopub.status.idle": "2025-02-17T09:35:31.534225Z",
     "shell.execute_reply": "2025-02-17T09:35:31.534000Z"
    }
   },
   "outputs": [],
   "source": [
    "df_demographics.isna().sum()"
   ]
  },
  {
   "cell_type": "code",
   "execution_count": null,
   "metadata": {
    "execution": {
     "iopub.execute_input": "2025-02-17T09:35:31.535348Z",
     "iopub.status.busy": "2025-02-17T09:35:31.535277Z",
     "iopub.status.idle": "2025-02-17T09:35:31.643864Z",
     "shell.execute_reply": "2025-02-17T09:35:31.643632Z"
    }
   },
   "outputs": [],
   "source": [
    "def assign_age_group(age):\n",
    "    if age <= 17:\n",
    "        return '0-17'\n",
    "    elif age <= 24:\n",
    "        return '18-24'\n",
    "    elif age <= 34:\n",
    "        return '25-34'\n",
    "    elif age <= 54:\n",
    "        return '35-54'\n",
    "    else:\n",
    "        return '55+'\n",
    "\n",
    "df_demographics['age_group'] = df_demographics['age'].apply(assign_age_group)"
   ]
  },
  {
   "cell_type": "code",
   "execution_count": null,
   "metadata": {
    "execution": {
     "iopub.execute_input": "2025-02-17T09:35:31.644920Z",
     "iopub.status.busy": "2025-02-17T09:35:31.644853Z",
     "iopub.status.idle": "2025-02-17T09:35:31.673975Z",
     "shell.execute_reply": "2025-02-17T09:35:31.673738Z"
    }
   },
   "outputs": [],
   "source": [
    "df_demographics[\"age_group\"].unique()"
   ]
  },
  {
   "cell_type": "code",
   "execution_count": null,
   "metadata": {
    "execution": {
     "iopub.execute_input": "2025-02-17T09:35:31.675055Z",
     "iopub.status.busy": "2025-02-17T09:35:31.674996Z",
     "iopub.status.idle": "2025-02-17T09:35:31.745694Z",
     "shell.execute_reply": "2025-02-17T09:35:31.745365Z"
    }
   },
   "outputs": [],
   "source": [
    "# 2. Pivot the table to have one column per age group\n",
    "#    We group by 'cmun' (or whichever municipality identifier you prefer)\n",
    "pivot_df = df_demographics.pivot_table(\n",
    "    index='cmun',\n",
    "    columns='age_group',\n",
    "    values='total',\n",
    "    aggfunc='sum',\n",
    "    fill_value=0  # fill missing combinations with 0\n",
    ").reset_index()\n"
   ]
  },
  {
   "cell_type": "code",
   "execution_count": null,
   "metadata": {
    "execution": {
     "iopub.execute_input": "2025-02-17T09:35:31.746876Z",
     "iopub.status.busy": "2025-02-17T09:35:31.746781Z",
     "iopub.status.idle": "2025-02-17T09:35:31.751679Z",
     "shell.execute_reply": "2025-02-17T09:35:31.751265Z"
    }
   },
   "outputs": [],
   "source": [
    "age_group_order = ['0-17', '18-24', '25-34', '35-54', '55+']\n",
    "pivot_df = pivot_df[['cmun'] + [grp for grp in age_group_order if grp in pivot_df.columns]]\n",
    "pivot_df[\"total_population\"] = pivot_df[\"0-17\"] + pivot_df[\"18-24\"] + pivot_df[\"25-34\"] + pivot_df[\"35-54\"] + pivot_df[\"55+\"]\n",
    "\n",
    "pivot_df"
   ]
  },
  {
   "cell_type": "code",
   "execution_count": null,
   "metadata": {
    "execution": {
     "iopub.execute_input": "2025-02-17T09:35:31.753171Z",
     "iopub.status.busy": "2025-02-17T09:35:31.753065Z",
     "iopub.status.idle": "2025-02-17T09:35:31.828139Z",
     "shell.execute_reply": "2025-02-17T09:35:31.827793Z"
    }
   },
   "outputs": [],
   "source": [
    "pivot_df_sex = df_demographics.pivot_table(\n",
    "    index='cmun',\n",
    "    columns='sex',\n",
    "    values='total',\n",
    "    aggfunc='sum',\n",
    "    fill_value=0  # fill missing combinations with 0\n",
    ").reset_index()"
   ]
  },
  {
   "cell_type": "code",
   "execution_count": null,
   "metadata": {
    "execution": {
     "iopub.execute_input": "2025-02-17T09:35:31.829662Z",
     "iopub.status.busy": "2025-02-17T09:35:31.829569Z",
     "iopub.status.idle": "2025-02-17T09:35:31.858277Z",
     "shell.execute_reply": "2025-02-17T09:35:31.857979Z"
    }
   },
   "outputs": [],
   "source": [
    "df_demographics[\"sex\"].unique()"
   ]
  },
  {
   "cell_type": "code",
   "execution_count": null,
   "metadata": {
    "execution": {
     "iopub.execute_input": "2025-02-17T09:35:31.859687Z",
     "iopub.status.busy": "2025-02-17T09:35:31.859600Z",
     "iopub.status.idle": "2025-02-17T09:35:31.864401Z",
     "shell.execute_reply": "2025-02-17T09:35:31.864062Z"
    }
   },
   "outputs": [],
   "source": [
    "sex_group_order = ['Males', 'Females']\n",
    "\n",
    "pivot_df_sex = pivot_df_sex[['cmun'] + [grp for grp in sex_group_order if grp in pivot_df_sex.columns]]\n",
    "pivot_df_sex.rename(columns={\"Males\": \"male\", \"Females\": \"female\"}, inplace=True)\n",
    "\n",
    "pivot_df_sex[\"total_sex\"] = pivot_df_sex[\"male\"] + pivot_df_sex[\"female\"]\n",
    "pivot_df_sex"
   ]
  },
  {
   "cell_type": "code",
   "execution_count": null,
   "metadata": {
    "execution": {
     "iopub.execute_input": "2025-02-17T09:35:31.865652Z",
     "iopub.status.busy": "2025-02-17T09:35:31.865578Z",
     "iopub.status.idle": "2025-02-17T09:35:32.512399Z",
     "shell.execute_reply": "2025-02-17T09:35:32.512050Z"
    }
   },
   "outputs": [],
   "source": [
    "df_demographics_combined = pivot_df.merge(df_demographics, on='cmun', how='left')\n",
    "df_demographics_combined = pivot_df_sex.merge(df_demographics_combined, on='cmun', how='left')\n",
    "\n",
    "df_demographics_combined\n"
   ]
  },
  {
   "cell_type": "code",
   "execution_count": null,
   "metadata": {
    "execution": {
     "iopub.execute_input": "2025-02-17T09:35:32.513664Z",
     "iopub.status.busy": "2025-02-17T09:35:32.513588Z",
     "iopub.status.idle": "2025-02-17T09:35:32.565986Z",
     "shell.execute_reply": "2025-02-17T09:35:32.565596Z"
    }
   },
   "outputs": [],
   "source": [
    "df_demographics_combined = df_demographics_combined.drop([\"year\", \"municipality\", \"province\", \"total_sex\"], axis = 1)\n",
    "\n"
   ]
  },
  {
   "cell_type": "code",
   "execution_count": null,
   "metadata": {
    "execution": {
     "iopub.execute_input": "2025-02-17T09:35:32.567343Z",
     "iopub.status.busy": "2025-02-17T09:35:32.567261Z",
     "iopub.status.idle": "2025-02-17T09:35:32.572697Z",
     "shell.execute_reply": "2025-02-17T09:35:32.572393Z"
    }
   },
   "outputs": [],
   "source": [
    "df_demographics_combined"
   ]
  },
  {
   "cell_type": "code",
   "execution_count": null,
   "metadata": {
    "execution": {
     "iopub.execute_input": "2025-02-17T09:35:32.574121Z",
     "iopub.status.busy": "2025-02-17T09:35:32.574031Z",
     "iopub.status.idle": "2025-02-17T09:35:32.602699Z",
     "shell.execute_reply": "2025-02-17T09:35:32.602347Z"
    }
   },
   "outputs": [],
   "source": [
    "df_demographics_combined = df_demographics_combined[[\"cmun\", \"municipality_clean\", \"province_clean\", \"0-17\", \"18-24\", \"25-34\", \"35-54\",\"55+\", \"male\", \"female\",\"total_population\"]]"
   ]
  },
  {
   "cell_type": "code",
   "execution_count": null,
   "metadata": {
    "execution": {
     "iopub.execute_input": "2025-02-17T09:35:32.604084Z",
     "iopub.status.busy": "2025-02-17T09:35:32.603994Z",
     "iopub.status.idle": "2025-02-17T09:35:32.608960Z",
     "shell.execute_reply": "2025-02-17T09:35:32.608662Z"
    }
   },
   "outputs": [],
   "source": [
    "df_demographics_combined"
   ]
  },
  {
   "cell_type": "code",
   "execution_count": null,
   "metadata": {
    "execution": {
     "iopub.execute_input": "2025-02-17T09:35:32.610115Z",
     "iopub.status.busy": "2025-02-17T09:35:32.610026Z",
     "iopub.status.idle": "2025-02-17T09:35:32.756013Z",
     "shell.execute_reply": "2025-02-17T09:35:32.755727Z"
    }
   },
   "outputs": [],
   "source": [
    "df_demographics_combined = df_demographics_combined.drop_duplicates()\n",
    "df_demographics_combined"
   ]
  },
  {
   "cell_type": "code",
   "execution_count": null,
   "metadata": {
    "execution": {
     "iopub.execute_input": "2025-02-17T09:35:32.757367Z",
     "iopub.status.busy": "2025-02-17T09:35:32.757279Z",
     "iopub.status.idle": "2025-02-17T09:35:32.774404Z",
     "shell.execute_reply": "2025-02-17T09:35:32.774038Z"
    }
   },
   "outputs": [],
   "source": [
    "df_demographics_combined.to_csv(\"../data/processed/filtered_demographics.csv\", index=False)"
   ]
  }
 ],
 "metadata": {
  "kernelspec": {
   "display_name": ".venv",
   "language": "python",
   "name": "python3"
  },
  "language_info": {
   "codemirror_mode": {
    "name": "ipython",
    "version": 3
   },
   "file_extension": ".py",
   "mimetype": "text/x-python",
   "name": "python",
   "nbconvert_exporter": "python",
   "pygments_lexer": "ipython3",
   "version": "3.11.3"
  }
 },
 "nbformat": 4,
 "nbformat_minor": 2
}
