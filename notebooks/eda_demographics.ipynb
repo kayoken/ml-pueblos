{
 "cells": [
  {
   "cell_type": "code",
   "execution_count": null,
   "metadata": {},
   "outputs": [],
   "source": [
    "import sys\n",
    "import os\n",
    "sys.path.insert(0, os.path.abspath(os.path.join(os.getcwd(), '..')))\n",
    "\n",
    "import pandas as pd\n",
    "import plotly.express as px\n",
    "import numpy as np\n",
    "\n",
    "from scripts.accent_cleaner import AccentCleaner\n",
    "from scripts.column_aligner import ColumnAligner\n",
    "from scripts.utils import split_at_char, replace_with"
   ]
  },
  {
   "cell_type": "code",
   "execution_count": null,
   "metadata": {},
   "outputs": [],
   "source": [
    "df_raw = pd.read_csv(\"../data/raw/68542.csv\", sep=\";\", decimal=\",\")"
   ]
  },
  {
   "cell_type": "code",
   "execution_count": null,
   "metadata": {},
   "outputs": [],
   "source": [
    "df_raw.head()"
   ]
  },
  {
   "cell_type": "code",
   "execution_count": null,
   "metadata": {},
   "outputs": [],
   "source": [
    "df_raw.info()"
   ]
  },
  {
   "cell_type": "code",
   "execution_count": null,
   "metadata": {},
   "outputs": [],
   "source": [
    "df_raw.sample(15)"
   ]
  },
  {
   "cell_type": "code",
   "execution_count": null,
   "metadata": {},
   "outputs": [],
   "source": [
    "df_raw.drop(columns=['National Total'], inplace=True)"
   ]
  },
  {
   "cell_type": "code",
   "execution_count": null,
   "metadata": {},
   "outputs": [],
   "source": [
    "df_raw.isnull().sum()"
   ]
  },
  {
   "cell_type": "code",
   "execution_count": null,
   "metadata": {},
   "outputs": [],
   "source": [
    "df_municipalities_null = df_raw[df_raw['Municipalities'].isnull()]\n",
    "df_municipalities_null[df_municipalities_null[\"Provinces\"] == \"08 Barcelona\"]"
   ]
  },
  {
   "cell_type": "markdown",
   "metadata": {},
   "source": [
    "### We have information about provinces without the municipalities, we should drop them"
   ]
  },
  {
   "cell_type": "code",
   "execution_count": null,
   "metadata": {},
   "outputs": [],
   "source": [
    "df_raw[df_raw['Provinces'] == \"25 Lleida\"].sample(5)"
   ]
  },
  {
   "cell_type": "code",
   "execution_count": null,
   "metadata": {},
   "outputs": [],
   "source": [
    "\n",
    "prov_null = df_raw[[\"Provinces\", \"Municipalities\"]]\n",
    "\n",
    "prov_null[(prov_null[\"Provinces\"].isnull()) & (prov_null[\"Municipalities\"].isnull())]"
   ]
  },
  {
   "cell_type": "code",
   "execution_count": null,
   "metadata": {},
   "outputs": [],
   "source": [
    "\n",
    "prov_null[(prov_null[\"Provinces\"].isnull())]"
   ]
  },
  {
   "cell_type": "code",
   "execution_count": null,
   "metadata": {},
   "outputs": [],
   "source": [
    "df_raw[df_raw['Total'].isnull()].sample(30)"
   ]
  },
  {
   "cell_type": "code",
   "execution_count": null,
   "metadata": {},
   "outputs": [],
   "source": [
    "df_raw.sample(20)"
   ]
  },
  {
   "cell_type": "code",
   "execution_count": null,
   "metadata": {},
   "outputs": [],
   "source": [
    "df_raw = df_raw.dropna(subset=[\"Provinces\", \"Municipalities\", \"Total\"], how=\"any\")"
   ]
  },
  {
   "cell_type": "code",
   "execution_count": null,
   "metadata": {},
   "outputs": [],
   "source": [
    "df_2024 = df_raw[df_raw['Periodo'] == 2024].copy()"
   ]
  },
  {
   "cell_type": "code",
   "execution_count": null,
   "metadata": {},
   "outputs": [],
   "source": [
    "df_2024.reset_index(drop=True, inplace=True)"
   ]
  },
  {
   "cell_type": "code",
   "execution_count": null,
   "metadata": {},
   "outputs": [],
   "source": [
    "idx = pd.Index([\"Provinces\", \"Municipalities\", \"Sex\", \"Age\", \"Periodo\", \"Total\"])\n",
    "eng = pd.Index([\"province\", \"municipality\", \"sex\", \"age\", \"year\", \"total\"])\n",
    "\n",
    "df_2024.rename(columns=dict(zip(idx, eng)), inplace=True)"
   ]
  },
  {
   "cell_type": "markdown",
   "metadata": {},
   "source": [
    "### Get the correct types"
   ]
  },
  {
   "cell_type": "code",
   "execution_count": null,
   "metadata": {},
   "outputs": [],
   "source": [
    "df_2024[\"total\"] = pd.to_numeric(df_2024[\"total\"].str.replace(\".\", \"\", regex=False)).astype(\"int32\")"
   ]
  },
  {
   "cell_type": "code",
   "execution_count": null,
   "metadata": {},
   "outputs": [],
   "source": [
    "df_2024 = df_2024[df_2024[\"age\"] != \"All ages\"]"
   ]
  },
  {
   "cell_type": "code",
   "execution_count": null,
   "metadata": {},
   "outputs": [],
   "source": [
    "(df_2024[\"age\"].str.contains(r\"^\\d\"))"
   ]
  },
  {
   "cell_type": "code",
   "execution_count": null,
   "metadata": {},
   "outputs": [],
   "source": [
    "df_2024.head()"
   ]
  },
  {
   "cell_type": "code",
   "execution_count": null,
   "metadata": {},
   "outputs": [],
   "source": [
    "from scripts.utils import split_column_at\n",
    "df_2024[\"age\"] = split_column_at(df_2024, \"age\", \" \", index=0)\n",
    "df_2024[\"province\"] = split_column_at(df_2024, \"province\", \" \", index=1)\n",
    "df_2024[\"cprov\"] = split_column_at(df_2024, \"province\", \" \", index=0)\n",
    "df_2024[\"cmun\"] = split_column_at(df_2024, \"municipality\", \" \", index=0)\n",
    "df_2024[\"municipality\"] = split_column_at(df_2024, \"municipality\", \" \", index=1)"
   ]
  },
  {
   "cell_type": "code",
   "execution_count": null,
   "metadata": {},
   "outputs": [],
   "source": [
    "df_2024"
   ]
  },
  {
   "cell_type": "code",
   "execution_count": null,
   "metadata": {},
   "outputs": [],
   "source": [
    "df_2024.drop(\"cprov\", axis = 1, inplace=True)"
   ]
  },
  {
   "cell_type": "code",
   "execution_count": null,
   "metadata": {},
   "outputs": [],
   "source": [
    "df_2024[\"age\"] = pd.to_numeric(df_2024[\"age\"].str.replace(\".\", \"\", regex=False)).astype(\"int32\")"
   ]
  },
  {
   "cell_type": "code",
   "execution_count": null,
   "metadata": {},
   "outputs": [],
   "source": [
    "cleaner = AccentCleaner([df_2024], ['municipality', 'province'])\n",
    "cleaner.cleanAccents()"
   ]
  },
  {
   "cell_type": "code",
   "execution_count": null,
   "metadata": {},
   "outputs": [],
   "source": [
    "df_2024.sample(10)"
   ]
  },
  {
   "cell_type": "code",
   "execution_count": null,
   "metadata": {},
   "outputs": [],
   "source": [
    "df_2024[\"province\"] = split_column_at(df_2024, \"province\", \" \", index=0)"
   ]
  },
  {
   "cell_type": "code",
   "execution_count": null,
   "metadata": {},
   "outputs": [],
   "source": [
    "df_2024[\"cmun\"] = pd.to_numeric(df_2024[\"cmun\"].str.replace(\".\", \"\", regex=False)).astype(\"int32\")"
   ]
  },
  {
   "cell_type": "code",
   "execution_count": null,
   "metadata": {},
   "outputs": [],
   "source": [
    "df_2024.sample(10)"
   ]
  },
  {
   "cell_type": "code",
   "execution_count": null,
   "metadata": {},
   "outputs": [],
   "source": [
    "df_2024.to_csv(\"../data/large_files/filtered_age.csv\", index=False)"
   ]
  },
  {
   "cell_type": "markdown",
   "metadata": {},
   "source": [
    "## Grouping\n"
   ]
  },
  {
   "cell_type": "code",
   "execution_count": null,
   "metadata": {},
   "outputs": [],
   "source": [
    "df_ages_bined = pd.read_csv(\"../data/large_files/filtered_age.csv\")\n",
    "\n",
    "df_ages_bined.shape\n",
    "df_ages_bined.head()"
   ]
  },
  {
   "cell_type": "code",
   "execution_count": null,
   "metadata": {},
   "outputs": [],
   "source": [
    "df_demographics = df_ages_bined.query(\"sex != 'Total'\")"
   ]
  },
  {
   "cell_type": "code",
   "execution_count": null,
   "metadata": {},
   "outputs": [],
   "source": [
    "df_demographics.isna().sum()"
   ]
  },
  {
   "cell_type": "code",
   "execution_count": null,
   "metadata": {},
   "outputs": [],
   "source": [
    "def assign_age_group(age):\n",
    "    if age <= 17:\n",
    "        return '0-17'\n",
    "    elif age <= 24:\n",
    "        return '18-24'\n",
    "    elif age <= 34:\n",
    "        return '25-34'\n",
    "    elif age <= 54:\n",
    "        return '35-54'\n",
    "    else:\n",
    "        return '55+'\n",
    "\n",
    "df_demographics['age_group'] = df_demographics['age'].apply(assign_age_group)"
   ]
  },
  {
   "cell_type": "code",
   "execution_count": null,
   "metadata": {},
   "outputs": [],
   "source": [
    "df_demographics[\"age_group\"].unique()"
   ]
  },
  {
   "cell_type": "code",
   "execution_count": null,
   "metadata": {},
   "outputs": [],
   "source": [
    "# 2. Pivot the table to have one column per age group\n",
    "#    We group by 'cmun' (or whichever municipality identifier you prefer)\n",
    "pivot_df = df_demographics.pivot_table(\n",
    "    index='cmun',\n",
    "    columns='age_group',\n",
    "    values='total',\n",
    "    aggfunc='sum',\n",
    "    fill_value=0  # fill missing combinations with 0\n",
    ").reset_index()\n"
   ]
  },
  {
   "cell_type": "code",
   "execution_count": null,
   "metadata": {},
   "outputs": [],
   "source": [
    "age_group_order = ['0-17', '18-24', '25-34', '35-54', '55+']\n",
    "pivot_df = pivot_df[['cmun'] + [grp for grp in age_group_order if grp in pivot_df.columns]]\n",
    "pivot_df[\"total_population\"] = pivot_df[\"0-17\"] + pivot_df[\"18-24\"] + pivot_df[\"25-34\"] + pivot_df[\"35-54\"] + pivot_df[\"55+\"]\n",
    "\n",
    "pivot_df"
   ]
  },
  {
   "cell_type": "code",
   "execution_count": null,
   "metadata": {},
   "outputs": [],
   "source": [
    "pivot_df_sex = df_demographics.pivot_table(\n",
    "    index='cmun',\n",
    "    columns='sex',\n",
    "    values='total',\n",
    "    aggfunc='sum',\n",
    "    fill_value=0  # fill missing combinations with 0\n",
    ").reset_index()"
   ]
  },
  {
   "cell_type": "code",
   "execution_count": null,
   "metadata": {},
   "outputs": [],
   "source": [
    "df_demographics[\"sex\"].unique()"
   ]
  },
  {
   "cell_type": "code",
   "execution_count": null,
   "metadata": {},
   "outputs": [],
   "source": [
    "sex_group_order = ['Males', 'Females']\n",
    "\n",
    "pivot_df_sex = pivot_df_sex[['cmun'] + [grp for grp in sex_group_order if grp in pivot_df_sex.columns]]\n",
    "pivot_df_sex.rename(columns={\"Males\": \"male\", \"Females\": \"female\"}, inplace=True)\n",
    "\n",
    "pivot_df_sex[\"total_sex\"] = pivot_df_sex[\"male\"] + pivot_df_sex[\"female\"]\n",
    "pivot_df_sex"
   ]
  },
  {
   "cell_type": "code",
   "execution_count": null,
   "metadata": {},
   "outputs": [],
   "source": [
    "df_demographics_combined = pivot_df.merge(df_demographics, on='cmun', how='left')\n",
    "df_demographics_combined = pivot_df_sex.merge(df_demographics_combined, on='cmun', how='left')\n",
    "\n",
    "df_demographics_combined\n"
   ]
  },
  {
   "cell_type": "code",
   "execution_count": null,
   "metadata": {},
   "outputs": [],
   "source": [
    "df_demographics_combined = df_demographics_combined.drop([\"year\", \"municipality\", \"province\", \"total_sex\"], axis = 1)\n",
    "\n"
   ]
  },
  {
   "cell_type": "code",
   "execution_count": null,
   "metadata": {},
   "outputs": [],
   "source": [
    "df_demographics_combined"
   ]
  },
  {
   "cell_type": "code",
   "execution_count": null,
   "metadata": {},
   "outputs": [],
   "source": [
    "df_demographics_combined = df_demographics_combined[[\"cmun\", \"municipality_clean\", \"province_clean\", \"0-17\", \"18-24\", \"25-34\", \"35-54\",\"55+\", \"male\", \"female\",\"total_population\"]]"
   ]
  },
  {
   "cell_type": "code",
   "execution_count": null,
   "metadata": {},
   "outputs": [],
   "source": [
    "df_demographics_combined"
   ]
  },
  {
   "cell_type": "code",
   "execution_count": null,
   "metadata": {},
   "outputs": [],
   "source": [
    "df_demographics_combined = df_demographics_combined.drop_duplicates()\n",
    "df_demographics_combined"
   ]
  },
  {
   "cell_type": "code",
   "execution_count": null,
   "metadata": {},
   "outputs": [],
   "source": [
    "df_demographics_combined.to_csv(\"../data/processed/filtered_demographics.csv\", index=False)"
   ]
  }
 ],
 "metadata": {
  "kernelspec": {
   "display_name": ".venv",
   "language": "python",
   "name": "python3"
  },
  "language_info": {
   "codemirror_mode": {
    "name": "ipython",
    "version": 3
   },
   "file_extension": ".py",
   "mimetype": "text/x-python",
   "name": "python",
   "nbconvert_exporter": "python",
   "pygments_lexer": "ipython3",
   "version": "3.11.3"
  }
 },
 "nbformat": 4,
 "nbformat_minor": 2
}
