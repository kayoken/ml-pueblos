{
 "cells": [
  {
   "cell_type": "markdown",
   "metadata": {},
   "source": [
    "## Geographical Data and Main Information of Municipalities"
   ]
  },
  {
   "cell_type": "markdown",
   "metadata": {},
   "source": [
    "### Main notes\n",
    "\n",
    "* We have had a lot of problems when matching different languages\n",
    "* From the original dataset, we have lost 97 municipalities that we weren't able to match with coordinates. \n",
    "* We have dropped Population data from this dataset, as it will be covered in a different notebook (demographics)"
   ]
  },
  {
   "cell_type": "code",
   "execution_count": 1,
   "metadata": {
    "execution": {
     "iopub.execute_input": "2025-03-04T13:23:31.021521Z",
     "iopub.status.busy": "2025-03-04T13:23:31.021441Z",
     "iopub.status.idle": "2025-03-04T13:23:31.319237Z",
     "shell.execute_reply": "2025-03-04T13:23:31.318963Z"
    }
   },
   "outputs": [],
   "source": [
    "import sys\n",
    "import os\n",
    "import numpy as np\n",
    "from unidecode import unidecode\n",
    "sys.path.insert(0, os.path.abspath(os.path.join(os.getcwd(), '..')))\n",
    "import pandas as pd\n",
    "\n",
    "# from scripts.utils import split_at_char, replace_with"
   ]
  },
  {
   "cell_type": "code",
   "execution_count": 2,
   "metadata": {
    "execution": {
     "iopub.execute_input": "2025-03-04T13:23:31.320578Z",
     "iopub.status.busy": "2025-03-04T13:23:31.320471Z",
     "iopub.status.idle": "2025-03-04T13:23:31.333304Z",
     "shell.execute_reply": "2025-03-04T13:23:31.333018Z"
    }
   },
   "outputs": [],
   "source": [
    "df_municipalities = pd.read_csv(\n",
    "    \"../../data/raw/population_towns.csv\", \n",
    "    encoding=\"ISO-8859-1\",  # or \"latin1\",\n",
    "    sep=\";\",\n",
    "    decimal=\",\")\n",
    "df_municipalities_coordinates = pd.read_csv(\n",
    "    \"../../data/raw/coordinates_towns_spain.csv\",\n",
    "    encoding=\"ISO-8859-1\",  # or \"latin1\"\n",
    "    sep=\";\",\n",
    "    decimal=\",\"\n",
    ")"
   ]
  },
  {
   "cell_type": "code",
   "execution_count": 3,
   "metadata": {
    "execution": {
     "iopub.execute_input": "2025-03-04T13:23:31.334563Z",
     "iopub.status.busy": "2025-03-04T13:23:31.334468Z",
     "iopub.status.idle": "2025-03-04T13:23:31.337288Z",
     "shell.execute_reply": "2025-03-04T13:23:31.337082Z"
    }
   },
   "outputs": [
    {
     "data": {
      "text/plain": [
       "(8132, 7)"
      ]
     },
     "execution_count": 3,
     "metadata": {},
     "output_type": "execute_result"
    }
   ],
   "source": [
    "df_municipalities.shape"
   ]
  },
  {
   "cell_type": "code",
   "execution_count": 4,
   "metadata": {
    "execution": {
     "iopub.execute_input": "2025-03-04T13:23:31.338254Z",
     "iopub.status.busy": "2025-03-04T13:23:31.338193Z",
     "iopub.status.idle": "2025-03-04T13:23:31.339972Z",
     "shell.execute_reply": "2025-03-04T13:23:31.339785Z"
    }
   },
   "outputs": [
    {
     "data": {
      "text/plain": [
       "(8112, 9)"
      ]
     },
     "execution_count": 4,
     "metadata": {},
     "output_type": "execute_result"
    }
   ],
   "source": [
    "df_municipalities_coordinates.shape"
   ]
  },
  {
   "cell_type": "code",
   "execution_count": 5,
   "metadata": {
    "execution": {
     "iopub.execute_input": "2025-03-04T13:23:31.340840Z",
     "iopub.status.busy": "2025-03-04T13:23:31.340784Z",
     "iopub.status.idle": "2025-03-04T13:23:31.342563Z",
     "shell.execute_reply": "2025-03-04T13:23:31.342356Z"
    }
   },
   "outputs": [],
   "source": [
    "df_municipalities.rename(columns={\n",
    "                          \"PROVINCIA\": \"province\",\n",
    "                          \"NOMBRE\": \"municipality\",\n",
    "                          \"POB24\": \"population\",\n",
    "                          \"MUJERES\": \"female\",\n",
    "                          \"HOMBRES\": \"male\" }, inplace=True)"
   ]
  },
  {
   "cell_type": "code",
   "execution_count": 6,
   "metadata": {
    "execution": {
     "iopub.execute_input": "2025-03-04T13:23:31.343557Z",
     "iopub.status.busy": "2025-03-04T13:23:31.343495Z",
     "iopub.status.idle": "2025-03-04T13:23:31.345797Z",
     "shell.execute_reply": "2025-03-04T13:23:31.345558Z"
    }
   },
   "outputs": [],
   "source": [
    "df_municipalities_coordinates.rename(columns={\"Comunidad\": \"autonomous_community\",\n",
    "                          \"Provincia\": \"province\",\n",
    "                            \"Población\": \"municipality\",\n",
    "                          \"Habitantes\": \"population\",\n",
    "                            \"Hombres\": \"male\",\n",
    "                            \"Mujeres\": \"female\",\n",
    "                          \"Latitud\": \"latitude\",\n",
    "                          \"Longitud\": \"longitude\",\n",
    "                          \"Altitud\": \"altitude\" }, inplace=True)"
   ]
  },
  {
   "cell_type": "code",
   "execution_count": 7,
   "metadata": {
    "execution": {
     "iopub.execute_input": "2025-03-04T13:23:31.346864Z",
     "iopub.status.busy": "2025-03-04T13:23:31.346801Z",
     "iopub.status.idle": "2025-03-04T13:23:31.349217Z",
     "shell.execute_reply": "2025-03-04T13:23:31.348966Z"
    }
   },
   "outputs": [],
   "source": [
    "df_municipalities = df_municipalities.drop([\"population\", \"female\", \"male\"], axis = 1)\n",
    "df_municipalities_coordinates = df_municipalities_coordinates.drop([\"population\", \"female\", \"male\"], axis = 1)"
   ]
  },
  {
   "cell_type": "code",
   "execution_count": 8,
   "metadata": {
    "execution": {
     "iopub.execute_input": "2025-03-04T13:23:31.350345Z",
     "iopub.status.busy": "2025-03-04T13:23:31.350274Z",
     "iopub.status.idle": "2025-03-04T13:23:31.353322Z",
     "shell.execute_reply": "2025-03-04T13:23:31.353116Z"
    }
   },
   "outputs": [],
   "source": [
    "province_replacements = {\n",
    "    'Vizcaya': 'Bizkaia',\n",
    "    'Alicante/Alacant': 'Alicante',\n",
    "    'Castellón/Castelló': 'Castellón',\n",
    "    'Valencia/València': 'Valencia',\n",
    "    'Guipúzcoa': 'Gipuzkoa'\n",
    "}\n",
    "\n",
    "df_municipalities_coordinates[\"province\"] = df_municipalities_coordinates[\"province\"].replace(province_replacements)\n"
   ]
  },
  {
   "cell_type": "code",
   "execution_count": 9,
   "metadata": {
    "execution": {
     "iopub.execute_input": "2025-03-04T13:23:31.354286Z",
     "iopub.status.busy": "2025-03-04T13:23:31.354230Z",
     "iopub.status.idle": "2025-03-04T13:23:31.356887Z",
     "shell.execute_reply": "2025-03-04T13:23:31.356671Z"
    }
   },
   "outputs": [],
   "source": [
    "community_replacements = {\n",
    "    'Catalunya': 'Cataluña'\n",
    "}\n",
    "\n",
    "df_municipalities_coordinates[\"autonomous_community\"] = df_municipalities_coordinates[\"autonomous_community\"].replace(province_replacements)"
   ]
  },
  {
   "cell_type": "markdown",
   "metadata": {},
   "source": [
    "# Split columns and clean"
   ]
  },
  {
   "cell_type": "code",
   "execution_count": 10,
   "metadata": {
    "execution": {
     "iopub.execute_input": "2025-03-04T13:23:31.357820Z",
     "iopub.status.busy": "2025-03-04T13:23:31.357765Z",
     "iopub.status.idle": "2025-03-04T13:23:31.362411Z",
     "shell.execute_reply": "2025-03-04T13:23:31.362224Z"
    }
   },
   "outputs": [],
   "source": [
    "# Split municipality names into two columns\n",
    "df_municipalities[['municipality_1', 'municipality_2']] = df_municipalities['municipality'].str.split('/', n=1, expand=True)\n",
    "\n",
    "# Fill missing values in municipality_2 with \"none\" (as a string)\n",
    "df_municipalities[\"municipality_2\"] = df_municipalities[\"municipality_2\"].fillna(\"none\")\n"
   ]
  },
  {
   "cell_type": "code",
   "execution_count": 11,
   "metadata": {
    "execution": {
     "iopub.execute_input": "2025-03-04T13:23:31.363479Z",
     "iopub.status.busy": "2025-03-04T13:23:31.363424Z",
     "iopub.status.idle": "2025-03-04T13:23:31.367993Z",
     "shell.execute_reply": "2025-03-04T13:23:31.367753Z"
    }
   },
   "outputs": [],
   "source": [
    "#split municipality names into two columns\n",
    "df_municipalities_coordinates[['municipality_1', 'municipality_2']] = df_municipalities_coordinates['municipality'].str.split('/', n=1, expand=True)\n",
    "\n",
    "# Fill missing values in municipality_2 with \"none\" (as a string)\n",
    "df_municipalities_coordinates[\"municipality_2\"] = df_municipalities_coordinates[\"municipality_2\"].fillna(\"none\")"
   ]
  },
  {
   "cell_type": "code",
   "execution_count": 12,
   "metadata": {
    "execution": {
     "iopub.execute_input": "2025-03-04T13:23:31.369115Z",
     "iopub.status.busy": "2025-03-04T13:23:31.369055Z",
     "iopub.status.idle": "2025-03-04T13:23:31.384819Z",
     "shell.execute_reply": "2025-03-04T13:23:31.384589Z"
    }
   },
   "outputs": [],
   "source": [
    "# Function to clean a column (remove accents, normalize case)\n",
    "def clean_column(column):\n",
    "    return column.apply(lambda x: unidecode(str(x)).strip().lower() if pd.notna(x) else x)\n",
    "\n",
    "# Apply cleaning to df_municipalities\n",
    "df_municipalities[\"municipality_1\"] = clean_column(df_municipalities[\"municipality_1\"])\n",
    "df_municipalities[\"municipality_2\"] = clean_column(df_municipalities[\"municipality_2\"])\n",
    "\n",
    "# Apply cleaning to df_municipalities_coordinates\n",
    "df_municipalities_coordinates[\"municipality_1\"] = clean_column(df_municipalities_coordinates[\"municipality_1\"])\n",
    "df_municipalities_coordinates[\"municipality_2\"] = clean_column(df_municipalities_coordinates[\"municipality_2\"])"
   ]
  },
  {
   "cell_type": "code",
   "execution_count": 13,
   "metadata": {
    "execution": {
     "iopub.execute_input": "2025-03-04T13:23:31.386070Z",
     "iopub.status.busy": "2025-03-04T13:23:31.385963Z",
     "iopub.status.idle": "2025-03-04T13:23:31.395973Z",
     "shell.execute_reply": "2025-03-04T13:23:31.395756Z"
    }
   },
   "outputs": [],
   "source": [
    "df_municipalities['municipality_1'] = df_municipalities['municipality_1'].str.replace(\" \",\"\")\n",
    "df_municipalities['municipality_1'] = df_municipalities['municipality_1'].str.replace(\",\",\"\")\n",
    "df_municipalities['municipality_1'] = df_municipalities['municipality_1'].str.replace(\"(\",\"\")\n",
    "df_municipalities['municipality_1'] = df_municipalities['municipality_1'].str.replace(\")\",\"\")\n",
    "df_municipalities['municipality_1'] = df_municipalities['municipality_1'].str.replace(\"-\",\"\")\n",
    "df_municipalities['municipality_1'] = df_municipalities['municipality_1'].str.replace(\"ñ\",\"n\")\n",
    "\n",
    "df_municipalities['municipality_2'] = df_municipalities['municipality_2'].str.replace(\" \",\"\")\n",
    "df_municipalities['municipality_2'] = df_municipalities['municipality_2'].str.replace(\",\",\"\")\n",
    "df_municipalities['municipality_2'] = df_municipalities['municipality_2'].str.replace(\"(\",\"\")\n",
    "df_municipalities['municipality_2'] = df_municipalities['municipality_2'].str.replace(\")\",\"\")\n",
    "df_municipalities['municipality_2'] = df_municipalities['municipality_2'].str.replace(\"-\",\"\")\n",
    "df_municipalities['municipality_2'] = df_municipalities['municipality_2'].str.replace(\"ñ\",\"n\")"
   ]
  },
  {
   "cell_type": "code",
   "execution_count": 14,
   "metadata": {
    "execution": {
     "iopub.execute_input": "2025-03-04T13:23:31.397046Z",
     "iopub.status.busy": "2025-03-04T13:23:31.396985Z",
     "iopub.status.idle": "2025-03-04T13:23:31.407232Z",
     "shell.execute_reply": "2025-03-04T13:23:31.406941Z"
    }
   },
   "outputs": [],
   "source": [
    "df_municipalities_coordinates['municipality_1'] = df_municipalities_coordinates['municipality_1'].str.replace(\" \",\"\")\n",
    "df_municipalities_coordinates['municipality_1'] = df_municipalities_coordinates['municipality_1'].str.replace(\",\",\"\")\n",
    "df_municipalities_coordinates['municipality_1'] = df_municipalities_coordinates['municipality_1'].str.replace(\"(\",\"\")\n",
    "df_municipalities_coordinates['municipality_1'] = df_municipalities_coordinates['municipality_1'].str.replace(\")\",\"\")\n",
    "df_municipalities_coordinates['municipality_1'] = df_municipalities_coordinates['municipality_1'].str.replace(\"-\",\"\")\n",
    "df_municipalities_coordinates['municipality_1'] = df_municipalities_coordinates['municipality_1'].str.replace(\"ñ\",\"n\")\n",
    "\n",
    "df_municipalities_coordinates['municipality_2'] = df_municipalities_coordinates['municipality_2'].str.replace(\" \",\"\")\n",
    "df_municipalities_coordinates['municipality_2'] = df_municipalities_coordinates['municipality_2'].str.replace(\",\",\"\")\n",
    "df_municipalities_coordinates['municipality_2'] = df_municipalities_coordinates['municipality_2'].str.replace(\"(\",\"\")\n",
    "df_municipalities_coordinates['municipality_2'] = df_municipalities_coordinates['municipality_2'].str.replace(\")\",\"\")\n",
    "df_municipalities_coordinates['municipality_2'] = df_municipalities_coordinates['municipality_2'].str.replace(\"-\",\"\")\n",
    "df_municipalities_coordinates['municipality_2'] = df_municipalities_coordinates['municipality_2'].str.replace(\"ñ\",\"n\")"
   ]
  },
  {
   "cell_type": "markdown",
   "metadata": {},
   "source": [
    "# Merging DFs"
   ]
  },
  {
   "cell_type": "code",
   "execution_count": 15,
   "metadata": {
    "execution": {
     "iopub.execute_input": "2025-03-04T13:23:31.408369Z",
     "iopub.status.busy": "2025-03-04T13:23:31.408302Z",
     "iopub.status.idle": "2025-03-04T13:23:31.411609Z",
     "shell.execute_reply": "2025-03-04T13:23:31.411078Z"
    }
   },
   "outputs": [],
   "source": [
    "df_municipalities.loc[df_municipalities[\"municipality_2\"].isna(), \"language\"] = \"language\"\n",
    "df_municipalities_coordinates.loc[df_municipalities_coordinates[\"municipality_2\"].isna(), \"language\"] = \"language\""
   ]
  },
  {
   "cell_type": "code",
   "execution_count": 16,
   "metadata": {
    "execution": {
     "iopub.execute_input": "2025-03-04T13:23:31.412895Z",
     "iopub.status.busy": "2025-03-04T13:23:31.412814Z",
     "iopub.status.idle": "2025-03-04T13:23:31.418470Z",
     "shell.execute_reply": "2025-03-04T13:23:31.418241Z"
    }
   },
   "outputs": [],
   "source": [
    "merge_1 = df_municipalities.merge(df_municipalities_coordinates, on = \"municipality_1\", how=\"left\")"
   ]
  },
  {
   "cell_type": "code",
   "execution_count": 17,
   "metadata": {
    "execution": {
     "iopub.execute_input": "2025-03-04T13:23:31.419617Z",
     "iopub.status.busy": "2025-03-04T13:23:31.419546Z",
     "iopub.status.idle": "2025-03-04T13:23:31.422271Z",
     "shell.execute_reply": "2025-03-04T13:23:31.422080Z"
    }
   },
   "outputs": [],
   "source": [
    "merge_1 = merge_1.dropna(subset=['latitude'])"
   ]
  },
  {
   "cell_type": "code",
   "execution_count": 18,
   "metadata": {
    "execution": {
     "iopub.execute_input": "2025-03-04T13:23:31.423215Z",
     "iopub.status.busy": "2025-03-04T13:23:31.423157Z",
     "iopub.status.idle": "2025-03-04T13:23:31.427117Z",
     "shell.execute_reply": "2025-03-04T13:23:31.426895Z"
    }
   },
   "outputs": [],
   "source": [
    "merge_2 = df_municipalities.merge(df_municipalities_coordinates, left_on=\"municipality_1\", right_on=\"municipality_2\", how=\"left\")"
   ]
  },
  {
   "cell_type": "code",
   "execution_count": 19,
   "metadata": {
    "execution": {
     "iopub.execute_input": "2025-03-04T13:23:31.428053Z",
     "iopub.status.busy": "2025-03-04T13:23:31.427996Z",
     "iopub.status.idle": "2025-03-04T13:23:31.430300Z",
     "shell.execute_reply": "2025-03-04T13:23:31.430018Z"
    }
   },
   "outputs": [],
   "source": [
    "merge_2 = merge_2.dropna(subset=['latitude'])"
   ]
  },
  {
   "cell_type": "code",
   "execution_count": 20,
   "metadata": {
    "execution": {
     "iopub.execute_input": "2025-03-04T13:23:31.431309Z",
     "iopub.status.busy": "2025-03-04T13:23:31.431246Z",
     "iopub.status.idle": "2025-03-04T13:23:31.434195Z",
     "shell.execute_reply": "2025-03-04T13:23:31.433955Z"
    }
   },
   "outputs": [],
   "source": [
    "merged_df = pd.concat([merge_1, merge_2])"
   ]
  },
  {
   "cell_type": "code",
   "execution_count": 21,
   "metadata": {
    "execution": {
     "iopub.execute_input": "2025-03-04T13:23:31.435297Z",
     "iopub.status.busy": "2025-03-04T13:23:31.435233Z",
     "iopub.status.idle": "2025-03-04T13:23:31.437372Z",
     "shell.execute_reply": "2025-03-04T13:23:31.437181Z"
    }
   },
   "outputs": [
    {
     "data": {
      "text/plain": [
       "(8069, 17)"
      ]
     },
     "execution_count": 21,
     "metadata": {},
     "output_type": "execute_result"
    }
   ],
   "source": [
    "merged_df.shape"
   ]
  },
  {
   "cell_type": "code",
   "execution_count": 22,
   "metadata": {
    "execution": {
     "iopub.execute_input": "2025-03-04T13:23:31.438306Z",
     "iopub.status.busy": "2025-03-04T13:23:31.438250Z",
     "iopub.status.idle": "2025-03-04T13:23:31.441728Z",
     "shell.execute_reply": "2025-03-04T13:23:31.441528Z"
    }
   },
   "outputs": [
    {
     "data": {
      "text/plain": [
       "CPRO                       0\n",
       "province_x                 0\n",
       "CMUN                       0\n",
       "municipality_x             0\n",
       "municipality_1            28\n",
       "municipality_2_x           0\n",
       "language_x              8069\n",
       "autonomous_community       0\n",
       "province_y                 0\n",
       "municipality_y             0\n",
       "latitude                   0\n",
       "longitude                  0\n",
       "altitude                   0\n",
       "municipality_2_y           0\n",
       "language_y              8069\n",
       "municipality_1_x        8041\n",
       "municipality_1_y        8041\n",
       "dtype: int64"
      ]
     },
     "execution_count": 22,
     "metadata": {},
     "output_type": "execute_result"
    }
   ],
   "source": [
    "merged_df.isna().sum()"
   ]
  },
  {
   "cell_type": "code",
   "execution_count": 23,
   "metadata": {
    "execution": {
     "iopub.execute_input": "2025-03-04T13:23:31.442687Z",
     "iopub.status.busy": "2025-03-04T13:23:31.442633Z",
     "iopub.status.idle": "2025-03-04T13:23:31.444367Z",
     "shell.execute_reply": "2025-03-04T13:23:31.444154Z"
    }
   },
   "outputs": [
    {
     "data": {
      "text/plain": [
       "(8069, 17)"
      ]
     },
     "execution_count": 23,
     "metadata": {},
     "output_type": "execute_result"
    }
   ],
   "source": [
    "merged_df.shape"
   ]
  },
  {
   "cell_type": "code",
   "execution_count": 24,
   "metadata": {
    "execution": {
     "iopub.execute_input": "2025-03-04T13:23:31.445803Z",
     "iopub.status.busy": "2025-03-04T13:23:31.445740Z",
     "iopub.status.idle": "2025-03-04T13:23:31.449993Z",
     "shell.execute_reply": "2025-03-04T13:23:31.449765Z"
    }
   },
   "outputs": [],
   "source": [
    "merge_3 = df_municipalities.merge(df_municipalities_coordinates, left_on=\"municipality_2\", right_on=\"municipality_1\", how=\"left\")"
   ]
  },
  {
   "cell_type": "code",
   "execution_count": 25,
   "metadata": {
    "execution": {
     "iopub.execute_input": "2025-03-04T13:23:31.450962Z",
     "iopub.status.busy": "2025-03-04T13:23:31.450904Z",
     "iopub.status.idle": "2025-03-04T13:23:31.453215Z",
     "shell.execute_reply": "2025-03-04T13:23:31.453015Z"
    }
   },
   "outputs": [],
   "source": [
    "merge_3 = merge_3.dropna(subset=['latitude'])"
   ]
  },
  {
   "cell_type": "code",
   "execution_count": 26,
   "metadata": {
    "execution": {
     "iopub.execute_input": "2025-03-04T13:23:31.454182Z",
     "iopub.status.busy": "2025-03-04T13:23:31.454128Z",
     "iopub.status.idle": "2025-03-04T13:23:31.456583Z",
     "shell.execute_reply": "2025-03-04T13:23:31.456298Z"
    }
   },
   "outputs": [],
   "source": [
    "merged_df = pd.concat([merged_df, merge_3])"
   ]
  },
  {
   "cell_type": "code",
   "execution_count": 27,
   "metadata": {
    "execution": {
     "iopub.execute_input": "2025-03-04T13:23:31.457493Z",
     "iopub.status.busy": "2025-03-04T13:23:31.457435Z",
     "iopub.status.idle": "2025-03-04T13:23:31.459130Z",
     "shell.execute_reply": "2025-03-04T13:23:31.458936Z"
    }
   },
   "outputs": [
    {
     "data": {
      "text/plain": [
       "(8099, 17)"
      ]
     },
     "execution_count": 27,
     "metadata": {},
     "output_type": "execute_result"
    }
   ],
   "source": [
    "merged_df.shape"
   ]
  },
  {
   "cell_type": "code",
   "execution_count": 28,
   "metadata": {
    "execution": {
     "iopub.execute_input": "2025-03-04T13:23:31.460030Z",
     "iopub.status.busy": "2025-03-04T13:23:31.459969Z",
     "iopub.status.idle": "2025-03-04T13:23:31.463342Z",
     "shell.execute_reply": "2025-03-04T13:23:31.463120Z"
    }
   },
   "outputs": [
    {
     "data": {
      "text/plain": [
       "CPRO                       0\n",
       "province_x                 0\n",
       "CMUN                       0\n",
       "municipality_x             0\n",
       "municipality_1            58\n",
       "municipality_2_x           0\n",
       "language_x              8099\n",
       "autonomous_community       0\n",
       "province_y                 0\n",
       "municipality_y             0\n",
       "latitude                   0\n",
       "longitude                  0\n",
       "altitude                   0\n",
       "municipality_2_y           0\n",
       "language_y              8099\n",
       "municipality_1_x        8041\n",
       "municipality_1_y        8041\n",
       "dtype: int64"
      ]
     },
     "execution_count": 28,
     "metadata": {},
     "output_type": "execute_result"
    }
   ],
   "source": [
    "merged_df.isna().sum()"
   ]
  },
  {
   "cell_type": "code",
   "execution_count": 29,
   "metadata": {
    "execution": {
     "iopub.execute_input": "2025-03-04T13:23:31.464338Z",
     "iopub.status.busy": "2025-03-04T13:23:31.464278Z",
     "iopub.status.idle": "2025-03-04T13:23:31.466834Z",
     "shell.execute_reply": "2025-03-04T13:23:31.466594Z"
    }
   },
   "outputs": [],
   "source": [
    "df_municipalities_coordinates = df_municipalities_coordinates[df_municipalities_coordinates[\"municipality_2\"] != \"none\"]\n",
    "df_municipalities = df_municipalities[df_municipalities[\"municipality_2\"] != \"none\"]\n"
   ]
  },
  {
   "cell_type": "code",
   "execution_count": 30,
   "metadata": {
    "execution": {
     "iopub.execute_input": "2025-03-04T13:23:31.467987Z",
     "iopub.status.busy": "2025-03-04T13:23:31.467921Z",
     "iopub.status.idle": "2025-03-04T13:23:31.470667Z",
     "shell.execute_reply": "2025-03-04T13:23:31.470330Z"
    }
   },
   "outputs": [],
   "source": [
    "# Perform merges on all combinations\n",
    "merge_4 = df_municipalities.merge(df_municipalities_coordinates, left_on=\"municipality_2\", right_on=\"municipality_2\", how=\"left\")"
   ]
  },
  {
   "cell_type": "code",
   "execution_count": 31,
   "metadata": {
    "execution": {
     "iopub.execute_input": "2025-03-04T13:23:31.471668Z",
     "iopub.status.busy": "2025-03-04T13:23:31.471607Z",
     "iopub.status.idle": "2025-03-04T13:23:31.473931Z",
     "shell.execute_reply": "2025-03-04T13:23:31.473736Z"
    }
   },
   "outputs": [
    {
     "data": {
      "text/plain": [
       "CPRO                      0\n",
       "province_x                0\n",
       "CMUN                      0\n",
       "municipality_x            0\n",
       "municipality_1_x          0\n",
       "municipality_2            0\n",
       "language_x              126\n",
       "autonomous_community     62\n",
       "province_y               62\n",
       "municipality_y           62\n",
       "latitude                 62\n",
       "longitude                62\n",
       "altitude                 62\n",
       "municipality_1_y         62\n",
       "language_y              126\n",
       "dtype: int64"
      ]
     },
     "execution_count": 31,
     "metadata": {},
     "output_type": "execute_result"
    }
   ],
   "source": [
    "merge_4.isna().sum()"
   ]
  },
  {
   "cell_type": "code",
   "execution_count": 32,
   "metadata": {
    "execution": {
     "iopub.execute_input": "2025-03-04T13:23:31.474861Z",
     "iopub.status.busy": "2025-03-04T13:23:31.474802Z",
     "iopub.status.idle": "2025-03-04T13:23:31.476759Z",
     "shell.execute_reply": "2025-03-04T13:23:31.476446Z"
    }
   },
   "outputs": [],
   "source": [
    "merge_4 = merge_4.dropna(subset=['latitude'])"
   ]
  },
  {
   "cell_type": "code",
   "execution_count": 33,
   "metadata": {
    "execution": {
     "iopub.execute_input": "2025-03-04T13:23:31.477677Z",
     "iopub.status.busy": "2025-03-04T13:23:31.477617Z",
     "iopub.status.idle": "2025-03-04T13:23:31.484721Z",
     "shell.execute_reply": "2025-03-04T13:23:31.484426Z"
    }
   },
   "outputs": [],
   "source": [
    "# Concatenate results and drop duplicates\n",
    "merged_df = pd.concat([merged_df, merge_4])"
   ]
  },
  {
   "cell_type": "code",
   "execution_count": 34,
   "metadata": {
    "execution": {
     "iopub.execute_input": "2025-03-04T13:23:31.485712Z",
     "iopub.status.busy": "2025-03-04T13:23:31.485653Z",
     "iopub.status.idle": "2025-03-04T13:23:31.491359Z",
     "shell.execute_reply": "2025-03-04T13:23:31.491168Z"
    }
   },
   "outputs": [
    {
     "data": {
      "text/plain": [
       "22"
      ]
     },
     "execution_count": 34,
     "metadata": {},
     "output_type": "execute_result"
    }
   ],
   "source": [
    "merged_df.duplicated().sum()"
   ]
  },
  {
   "cell_type": "code",
   "execution_count": 35,
   "metadata": {
    "execution": {
     "iopub.execute_input": "2025-03-04T13:23:31.492278Z",
     "iopub.status.busy": "2025-03-04T13:23:31.492221Z",
     "iopub.status.idle": "2025-03-04T13:23:31.501701Z",
     "shell.execute_reply": "2025-03-04T13:23:31.501485Z"
    }
   },
   "outputs": [
    {
     "data": {
      "text/html": [
       "<div>\n",
       "<style scoped>\n",
       "    .dataframe tbody tr th:only-of-type {\n",
       "        vertical-align: middle;\n",
       "    }\n",
       "\n",
       "    .dataframe tbody tr th {\n",
       "        vertical-align: top;\n",
       "    }\n",
       "\n",
       "    .dataframe thead th {\n",
       "        text-align: right;\n",
       "    }\n",
       "</style>\n",
       "<table border=\"1\" class=\"dataframe\">\n",
       "  <thead>\n",
       "    <tr style=\"text-align: right;\">\n",
       "      <th></th>\n",
       "      <th>CPRO</th>\n",
       "      <th>province_x</th>\n",
       "      <th>CMUN</th>\n",
       "      <th>municipality_x</th>\n",
       "      <th>municipality_1</th>\n",
       "      <th>municipality_2_x</th>\n",
       "      <th>language_x</th>\n",
       "      <th>autonomous_community</th>\n",
       "      <th>province_y</th>\n",
       "      <th>municipality_y</th>\n",
       "      <th>latitude</th>\n",
       "      <th>longitude</th>\n",
       "      <th>altitude</th>\n",
       "      <th>municipality_2_y</th>\n",
       "      <th>language_y</th>\n",
       "      <th>municipality_1_x</th>\n",
       "      <th>municipality_1_y</th>\n",
       "      <th>municipality_2</th>\n",
       "    </tr>\n",
       "  </thead>\n",
       "  <tbody>\n",
       "    <tr>\n",
       "      <th>0</th>\n",
       "      <td>1</td>\n",
       "      <td>Álava</td>\n",
       "      <td>1</td>\n",
       "      <td>Alegría-Dulantzi</td>\n",
       "      <td>alegriadulantzi</td>\n",
       "      <td>none</td>\n",
       "      <td>NaN</td>\n",
       "      <td>País Vasco</td>\n",
       "      <td>Álava</td>\n",
       "      <td>Alegría-Dulantzi</td>\n",
       "      <td>42.84149</td>\n",
       "      <td>-2.513507</td>\n",
       "      <td>561.6857</td>\n",
       "      <td>none</td>\n",
       "      <td>NaN</td>\n",
       "      <td>NaN</td>\n",
       "      <td>NaN</td>\n",
       "      <td>NaN</td>\n",
       "    </tr>\n",
       "    <tr>\n",
       "      <th>1</th>\n",
       "      <td>1</td>\n",
       "      <td>Álava</td>\n",
       "      <td>2</td>\n",
       "      <td>Amurrio</td>\n",
       "      <td>amurrio</td>\n",
       "      <td>none</td>\n",
       "      <td>NaN</td>\n",
       "      <td>País Vasco</td>\n",
       "      <td>Álava</td>\n",
       "      <td>Amurrio</td>\n",
       "      <td>43.05265</td>\n",
       "      <td>-3.001022</td>\n",
       "      <td>219.6910</td>\n",
       "      <td>none</td>\n",
       "      <td>NaN</td>\n",
       "      <td>NaN</td>\n",
       "      <td>NaN</td>\n",
       "      <td>NaN</td>\n",
       "    </tr>\n",
       "    <tr>\n",
       "      <th>2</th>\n",
       "      <td>1</td>\n",
       "      <td>Álava</td>\n",
       "      <td>3</td>\n",
       "      <td>Aramaio</td>\n",
       "      <td>aramaio</td>\n",
       "      <td>none</td>\n",
       "      <td>NaN</td>\n",
       "      <td>País Vasco</td>\n",
       "      <td>Álava</td>\n",
       "      <td>Aramaio</td>\n",
       "      <td>43.05400</td>\n",
       "      <td>-2.566000</td>\n",
       "      <td>381.8797</td>\n",
       "      <td>none</td>\n",
       "      <td>NaN</td>\n",
       "      <td>NaN</td>\n",
       "      <td>NaN</td>\n",
       "      <td>NaN</td>\n",
       "    </tr>\n",
       "    <tr>\n",
       "      <th>3</th>\n",
       "      <td>1</td>\n",
       "      <td>Álava</td>\n",
       "      <td>4</td>\n",
       "      <td>Artziniega</td>\n",
       "      <td>artziniega</td>\n",
       "      <td>none</td>\n",
       "      <td>NaN</td>\n",
       "      <td>País Vasco</td>\n",
       "      <td>Álava</td>\n",
       "      <td>Artziniega</td>\n",
       "      <td>43.12220</td>\n",
       "      <td>-3.128209</td>\n",
       "      <td>196.9808</td>\n",
       "      <td>none</td>\n",
       "      <td>NaN</td>\n",
       "      <td>NaN</td>\n",
       "      <td>NaN</td>\n",
       "      <td>NaN</td>\n",
       "    </tr>\n",
       "    <tr>\n",
       "      <th>4</th>\n",
       "      <td>1</td>\n",
       "      <td>Álava</td>\n",
       "      <td>6</td>\n",
       "      <td>Armiñón</td>\n",
       "      <td>arminon</td>\n",
       "      <td>none</td>\n",
       "      <td>NaN</td>\n",
       "      <td>País Vasco</td>\n",
       "      <td>Álava</td>\n",
       "      <td>Armiñón</td>\n",
       "      <td>42.72305</td>\n",
       "      <td>-2.872574</td>\n",
       "      <td>463.5815</td>\n",
       "      <td>none</td>\n",
       "      <td>NaN</td>\n",
       "      <td>NaN</td>\n",
       "      <td>NaN</td>\n",
       "      <td>NaN</td>\n",
       "    </tr>\n",
       "    <tr>\n",
       "      <th>...</th>\n",
       "      <td>...</td>\n",
       "      <td>...</td>\n",
       "      <td>...</td>\n",
       "      <td>...</td>\n",
       "      <td>...</td>\n",
       "      <td>...</td>\n",
       "      <td>...</td>\n",
       "      <td>...</td>\n",
       "      <td>...</td>\n",
       "      <td>...</td>\n",
       "      <td>...</td>\n",
       "      <td>...</td>\n",
       "      <td>...</td>\n",
       "      <td>...</td>\n",
       "      <td>...</td>\n",
       "      <td>...</td>\n",
       "      <td>...</td>\n",
       "      <td>...</td>\n",
       "    </tr>\n",
       "    <tr>\n",
       "      <th>112</th>\n",
       "      <td>31</td>\n",
       "      <td>Navarra</td>\n",
       "      <td>260</td>\n",
       "      <td>Valle de Yerri/Deierri</td>\n",
       "      <td>NaN</td>\n",
       "      <td>NaN</td>\n",
       "      <td>NaN</td>\n",
       "      <td>Navarra</td>\n",
       "      <td>Navarra</td>\n",
       "      <td>Valle de Yerri/Deierri</td>\n",
       "      <td>42.71667</td>\n",
       "      <td>-2.000000</td>\n",
       "      <td>508.0046</td>\n",
       "      <td>NaN</td>\n",
       "      <td>NaN</td>\n",
       "      <td>valledeyerri</td>\n",
       "      <td>valledeyerri</td>\n",
       "      <td>deierri</td>\n",
       "    </tr>\n",
       "    <tr>\n",
       "      <th>116</th>\n",
       "      <td>31</td>\n",
       "      <td>Navarra</td>\n",
       "      <td>907</td>\n",
       "      <td>Zizur Mayor/Zizur Nagusia</td>\n",
       "      <td>NaN</td>\n",
       "      <td>NaN</td>\n",
       "      <td>NaN</td>\n",
       "      <td>Navarra</td>\n",
       "      <td>Navarra</td>\n",
       "      <td>Zizur Mayor/Zizur Nagusia</td>\n",
       "      <td>42.78680</td>\n",
       "      <td>-1.690832</td>\n",
       "      <td>441.8872</td>\n",
       "      <td>NaN</td>\n",
       "      <td>NaN</td>\n",
       "      <td>zizurmayor</td>\n",
       "      <td>zizurmayor</td>\n",
       "      <td>zizurnagusia</td>\n",
       "    </tr>\n",
       "    <tr>\n",
       "      <th>119</th>\n",
       "      <td>46</td>\n",
       "      <td>Valencia</td>\n",
       "      <td>175</td>\n",
       "      <td>Montitxelvo/Montichelvo</td>\n",
       "      <td>NaN</td>\n",
       "      <td>NaN</td>\n",
       "      <td>NaN</td>\n",
       "      <td>Valencia</td>\n",
       "      <td>Valencia</td>\n",
       "      <td>Montitxelvo/Montichelvo</td>\n",
       "      <td>38.89122</td>\n",
       "      <td>-0.338918</td>\n",
       "      <td>267.0021</td>\n",
       "      <td>NaN</td>\n",
       "      <td>NaN</td>\n",
       "      <td>montitxelvo</td>\n",
       "      <td>montitxelvo</td>\n",
       "      <td>montichelvo</td>\n",
       "    </tr>\n",
       "    <tr>\n",
       "      <th>124</th>\n",
       "      <td>48</td>\n",
       "      <td>Bizkaia</td>\n",
       "      <td>22</td>\n",
       "      <td>Karrantza Harana/Valle de Carranza</td>\n",
       "      <td>NaN</td>\n",
       "      <td>NaN</td>\n",
       "      <td>NaN</td>\n",
       "      <td>País Vasco</td>\n",
       "      <td>Bizkaia</td>\n",
       "      <td>Karrantza Harana/Valle de Carranza</td>\n",
       "      <td>43.22528</td>\n",
       "      <td>-3.359444</td>\n",
       "      <td>173.5333</td>\n",
       "      <td>NaN</td>\n",
       "      <td>NaN</td>\n",
       "      <td>karrantzaharana</td>\n",
       "      <td>karrantzaharana</td>\n",
       "      <td>valledecarranza</td>\n",
       "    </tr>\n",
       "    <tr>\n",
       "      <th>125</th>\n",
       "      <td>48</td>\n",
       "      <td>Bizkaia</td>\n",
       "      <td>74</td>\n",
       "      <td>Urduña/Orduña</td>\n",
       "      <td>NaN</td>\n",
       "      <td>NaN</td>\n",
       "      <td>NaN</td>\n",
       "      <td>País Vasco</td>\n",
       "      <td>Bizkaia</td>\n",
       "      <td>Urduña/Orduña</td>\n",
       "      <td>42.99445</td>\n",
       "      <td>-3.009623</td>\n",
       "      <td>291.8751</td>\n",
       "      <td>NaN</td>\n",
       "      <td>NaN</td>\n",
       "      <td>urduna</td>\n",
       "      <td>urduna</td>\n",
       "      <td>orduna</td>\n",
       "    </tr>\n",
       "  </tbody>\n",
       "</table>\n",
       "<p>8141 rows × 18 columns</p>\n",
       "</div>"
      ],
      "text/plain": [
       "     CPRO province_x  CMUN                      municipality_x  \\\n",
       "0       1      Álava     1                    Alegría-Dulantzi   \n",
       "1       1      Álava     2                             Amurrio   \n",
       "2       1      Álava     3                             Aramaio   \n",
       "3       1      Álava     4                          Artziniega   \n",
       "4       1      Álava     6                             Armiñón   \n",
       "..    ...        ...   ...                                 ...   \n",
       "112    31    Navarra   260              Valle de Yerri/Deierri   \n",
       "116    31    Navarra   907           Zizur Mayor/Zizur Nagusia   \n",
       "119    46   Valencia   175             Montitxelvo/Montichelvo   \n",
       "124    48    Bizkaia    22  Karrantza Harana/Valle de Carranza   \n",
       "125    48    Bizkaia    74                       Urduña/Orduña   \n",
       "\n",
       "      municipality_1 municipality_2_x language_x autonomous_community  \\\n",
       "0    alegriadulantzi             none        NaN           País Vasco   \n",
       "1            amurrio             none        NaN           País Vasco   \n",
       "2            aramaio             none        NaN           País Vasco   \n",
       "3         artziniega             none        NaN           País Vasco   \n",
       "4            arminon             none        NaN           País Vasco   \n",
       "..               ...              ...        ...                  ...   \n",
       "112              NaN              NaN        NaN              Navarra   \n",
       "116              NaN              NaN        NaN              Navarra   \n",
       "119              NaN              NaN        NaN             Valencia   \n",
       "124              NaN              NaN        NaN           País Vasco   \n",
       "125              NaN              NaN        NaN           País Vasco   \n",
       "\n",
       "    province_y                      municipality_y  latitude  longitude  \\\n",
       "0        Álava                    Alegría-Dulantzi  42.84149  -2.513507   \n",
       "1        Álava                             Amurrio  43.05265  -3.001022   \n",
       "2        Álava                             Aramaio  43.05400  -2.566000   \n",
       "3        Álava                          Artziniega  43.12220  -3.128209   \n",
       "4        Álava                             Armiñón  42.72305  -2.872574   \n",
       "..         ...                                 ...       ...        ...   \n",
       "112    Navarra              Valle de Yerri/Deierri  42.71667  -2.000000   \n",
       "116    Navarra           Zizur Mayor/Zizur Nagusia  42.78680  -1.690832   \n",
       "119   Valencia             Montitxelvo/Montichelvo  38.89122  -0.338918   \n",
       "124    Bizkaia  Karrantza Harana/Valle de Carranza  43.22528  -3.359444   \n",
       "125    Bizkaia                       Urduña/Orduña  42.99445  -3.009623   \n",
       "\n",
       "     altitude municipality_2_y language_y municipality_1_x municipality_1_y  \\\n",
       "0    561.6857             none        NaN              NaN              NaN   \n",
       "1    219.6910             none        NaN              NaN              NaN   \n",
       "2    381.8797             none        NaN              NaN              NaN   \n",
       "3    196.9808             none        NaN              NaN              NaN   \n",
       "4    463.5815             none        NaN              NaN              NaN   \n",
       "..        ...              ...        ...              ...              ...   \n",
       "112  508.0046              NaN        NaN     valledeyerri     valledeyerri   \n",
       "116  441.8872              NaN        NaN       zizurmayor       zizurmayor   \n",
       "119  267.0021              NaN        NaN      montitxelvo      montitxelvo   \n",
       "124  173.5333              NaN        NaN  karrantzaharana  karrantzaharana   \n",
       "125  291.8751              NaN        NaN           urduna           urduna   \n",
       "\n",
       "      municipality_2  \n",
       "0                NaN  \n",
       "1                NaN  \n",
       "2                NaN  \n",
       "3                NaN  \n",
       "4                NaN  \n",
       "..               ...  \n",
       "112          deierri  \n",
       "116     zizurnagusia  \n",
       "119      montichelvo  \n",
       "124  valledecarranza  \n",
       "125           orduna  \n",
       "\n",
       "[8141 rows x 18 columns]"
      ]
     },
     "execution_count": 35,
     "metadata": {},
     "output_type": "execute_result"
    }
   ],
   "source": [
    "merged_df.drop_duplicates()"
   ]
  },
  {
   "cell_type": "code",
   "execution_count": 36,
   "metadata": {
    "execution": {
     "iopub.execute_input": "2025-03-04T13:23:31.502695Z",
     "iopub.status.busy": "2025-03-04T13:23:31.502635Z",
     "iopub.status.idle": "2025-03-04T13:23:31.505862Z",
     "shell.execute_reply": "2025-03-04T13:23:31.505555Z"
    }
   },
   "outputs": [],
   "source": [
    "merged_df = merged_df.drop_duplicates(subset=['municipality_x', 'municipality_y'])"
   ]
  },
  {
   "cell_type": "code",
   "execution_count": 37,
   "metadata": {
    "execution": {
     "iopub.execute_input": "2025-03-04T13:23:31.506889Z",
     "iopub.status.busy": "2025-03-04T13:23:31.506825Z",
     "iopub.status.idle": "2025-03-04T13:23:31.508531Z",
     "shell.execute_reply": "2025-03-04T13:23:31.508334Z"
    }
   },
   "outputs": [
    {
     "data": {
      "text/plain": [
       "(8022, 18)"
      ]
     },
     "execution_count": 37,
     "metadata": {},
     "output_type": "execute_result"
    }
   ],
   "source": [
    "merged_df.shape"
   ]
  },
  {
   "cell_type": "code",
   "execution_count": 38,
   "metadata": {
    "execution": {
     "iopub.execute_input": "2025-03-04T13:23:31.509364Z",
     "iopub.status.busy": "2025-03-04T13:23:31.509311Z",
     "iopub.status.idle": "2025-03-04T13:23:31.513447Z",
     "shell.execute_reply": "2025-03-04T13:23:31.513179Z"
    }
   },
   "outputs": [
    {
     "data": {
      "text/plain": [
       "CPRO                       0\n",
       "province_x                 0\n",
       "CMUN                       0\n",
       "municipality_x             0\n",
       "municipality_1            32\n",
       "municipality_2_x           0\n",
       "language_x              8022\n",
       "autonomous_community       0\n",
       "province_y                 0\n",
       "municipality_y             0\n",
       "latitude                   0\n",
       "longitude                  0\n",
       "altitude                   0\n",
       "municipality_2_y           0\n",
       "language_y              8022\n",
       "municipality_1_x        7990\n",
       "municipality_1_y        7990\n",
       "municipality_2          8022\n",
       "dtype: int64"
      ]
     },
     "execution_count": 38,
     "metadata": {},
     "output_type": "execute_result"
    }
   ],
   "source": [
    "merged_df.isna().sum()"
   ]
  },
  {
   "cell_type": "markdown",
   "metadata": {},
   "source": [
    "---"
   ]
  },
  {
   "cell_type": "markdown",
   "metadata": {},
   "source": [
    "## Now clean and match on municipalities SPA"
   ]
  },
  {
   "cell_type": "code",
   "execution_count": 39,
   "metadata": {
    "execution": {
     "iopub.execute_input": "2025-03-04T13:23:31.514631Z",
     "iopub.status.busy": "2025-03-04T13:23:31.514566Z",
     "iopub.status.idle": "2025-03-04T13:23:31.516563Z",
     "shell.execute_reply": "2025-03-04T13:23:31.516362Z"
    }
   },
   "outputs": [
    {
     "data": {
      "text/plain": [
       "Index(['CPRO', 'province_x', 'CMUN', 'municipality_x', 'municipality_1',\n",
       "       'municipality_2_x', 'language_x', 'autonomous_community', 'province_y',\n",
       "       'municipality_y', 'latitude', 'longitude', 'altitude',\n",
       "       'municipality_2_y', 'language_y', 'municipality_1_x',\n",
       "       'municipality_1_y', 'municipality_2'],\n",
       "      dtype='object')"
      ]
     },
     "execution_count": 39,
     "metadata": {},
     "output_type": "execute_result"
    }
   ],
   "source": [
    "merged_df.columns"
   ]
  },
  {
   "cell_type": "code",
   "execution_count": 40,
   "metadata": {
    "execution": {
     "iopub.execute_input": "2025-03-04T13:23:31.517526Z",
     "iopub.status.busy": "2025-03-04T13:23:31.517473Z",
     "iopub.status.idle": "2025-03-04T13:23:31.519785Z",
     "shell.execute_reply": "2025-03-04T13:23:31.519589Z"
    }
   },
   "outputs": [],
   "source": [
    "merged_df = merged_df[['CPRO', 'province_x', 'CMUN', 'municipality_x', 'municipality_1', 'municipality_2', 'municipality_1_y', 'municipality_2_y', 'autonomous_community',   'latitude', 'longitude', 'altitude']]"
   ]
  },
  {
   "cell_type": "code",
   "execution_count": 41,
   "metadata": {
    "execution": {
     "iopub.execute_input": "2025-03-04T13:23:31.520758Z",
     "iopub.status.busy": "2025-03-04T13:23:31.520704Z",
     "iopub.status.idle": "2025-03-04T13:23:31.523220Z",
     "shell.execute_reply": "2025-03-04T13:23:31.523000Z"
    }
   },
   "outputs": [],
   "source": [
    "mask = (merged_df[\"municipality_1\"].isna()) & (merged_df[\"municipality_2\"].isna())\n",
    "\n",
    "merged_df.loc[mask, \"municipality_1\"] = merged_df.loc[mask, \"municipality_1_y\"].copy()\n",
    "merged_df.loc[mask, \"municipality_2\"] = merged_df.loc[mask, \"municipality_2_y\"].copy()\n"
   ]
  },
  {
   "cell_type": "code",
   "execution_count": 42,
   "metadata": {
    "execution": {
     "iopub.execute_input": "2025-03-04T13:23:31.524200Z",
     "iopub.status.busy": "2025-03-04T13:23:31.524138Z",
     "iopub.status.idle": "2025-03-04T13:23:31.527045Z",
     "shell.execute_reply": "2025-03-04T13:23:31.526845Z"
    }
   },
   "outputs": [
    {
     "data": {
      "text/plain": [
       "CPRO                       0\n",
       "province_x                 0\n",
       "CMUN                       0\n",
       "municipality_x             0\n",
       "municipality_1             0\n",
       "municipality_2          7990\n",
       "municipality_1_y        7990\n",
       "municipality_2_y           0\n",
       "autonomous_community       0\n",
       "latitude                   0\n",
       "longitude                  0\n",
       "altitude                   0\n",
       "dtype: int64"
      ]
     },
     "execution_count": 42,
     "metadata": {},
     "output_type": "execute_result"
    }
   ],
   "source": [
    "merged_df.isna().sum()"
   ]
  },
  {
   "cell_type": "code",
   "execution_count": 43,
   "metadata": {
    "execution": {
     "iopub.execute_input": "2025-03-04T13:23:31.527945Z",
     "iopub.status.busy": "2025-03-04T13:23:31.527889Z",
     "iopub.status.idle": "2025-03-04T13:23:31.529569Z",
     "shell.execute_reply": "2025-03-04T13:23:31.529357Z"
    }
   },
   "outputs": [
    {
     "data": {
      "text/plain": [
       "Index(['CPRO', 'province_x', 'CMUN', 'municipality_x', 'municipality_1',\n",
       "       'municipality_2', 'municipality_1_y', 'municipality_2_y',\n",
       "       'autonomous_community', 'latitude', 'longitude', 'altitude'],\n",
       "      dtype='object')"
      ]
     },
     "execution_count": 43,
     "metadata": {},
     "output_type": "execute_result"
    }
   ],
   "source": [
    "merged_df.columns"
   ]
  },
  {
   "cell_type": "code",
   "execution_count": 44,
   "metadata": {
    "execution": {
     "iopub.execute_input": "2025-03-04T13:23:31.530457Z",
     "iopub.status.busy": "2025-03-04T13:23:31.530403Z",
     "iopub.status.idle": "2025-03-04T13:23:31.532320Z",
     "shell.execute_reply": "2025-03-04T13:23:31.532131Z"
    }
   },
   "outputs": [],
   "source": [
    "merged_df = merged_df[['CPRO', 'province_x', 'CMUN', 'municipality_x', 'municipality_1',\n",
    "       'municipality_2', \n",
    "       'autonomous_community', 'latitude', 'longitude', 'altitude']]"
   ]
  },
  {
   "cell_type": "code",
   "execution_count": 45,
   "metadata": {
    "execution": {
     "iopub.execute_input": "2025-03-04T13:23:31.533239Z",
     "iopub.status.busy": "2025-03-04T13:23:31.533169Z",
     "iopub.status.idle": "2025-03-04T13:23:31.534737Z",
     "shell.execute_reply": "2025-03-04T13:23:31.534531Z"
    }
   },
   "outputs": [],
   "source": [
    "merged_df.rename(columns={      \"province_x\": \"province\",\n",
    "                          \"municipality_x\": \"municipality\", \n",
    "                         }, inplace=True)"
   ]
  },
  {
   "cell_type": "code",
   "execution_count": 46,
   "metadata": {
    "execution": {
     "iopub.execute_input": "2025-03-04T13:23:31.535613Z",
     "iopub.status.busy": "2025-03-04T13:23:31.535552Z",
     "iopub.status.idle": "2025-03-04T13:23:31.537365Z",
     "shell.execute_reply": "2025-03-04T13:23:31.537151Z"
    }
   },
   "outputs": [
    {
     "data": {
      "text/plain": [
       "(8022, 10)"
      ]
     },
     "execution_count": 46,
     "metadata": {},
     "output_type": "execute_result"
    }
   ],
   "source": [
    "merged_df.shape"
   ]
  },
  {
   "cell_type": "code",
   "execution_count": 47,
   "metadata": {
    "execution": {
     "iopub.execute_input": "2025-03-04T13:23:31.538431Z",
     "iopub.status.busy": "2025-03-04T13:23:31.538374Z",
     "iopub.status.idle": "2025-03-04T13:23:31.543996Z",
     "shell.execute_reply": "2025-03-04T13:23:31.543801Z"
    }
   },
   "outputs": [],
   "source": [
    "def get_zeros(stringlength, fill_length):\n",
    "    if stringlength < fill_length:\n",
    "        return '0'* (fill_length - stringlength)\n",
    "    return None\n",
    "\n",
    "\n",
    "merged_df[\"CPRO\"] = merged_df[\"CPRO\"].astype(str)\n",
    "merged_df[\"CMUN\"] = merged_df[\"CMUN\"].astype(str)\n",
    "\n",
    "merged_df[\"CPRO\"] = merged_df[\"CPRO\"].apply(lambda x: '0' + x if len(x) < 2 else x )\n",
    "merged_df[\"CMUN\"] = merged_df[\"CMUN\"].apply(lambda x: get_zeros(len(x), 3) + x if len(x) < 3 else x)\n",
    "\n",
    "merged_df['cmun'] = merged_df[\"CPRO\"] + merged_df[\"CMUN\"]\n",
    "merged_df.cmun = merged_df.cmun.astype(\"int32\")"
   ]
  },
  {
   "cell_type": "code",
   "execution_count": 48,
   "metadata": {
    "execution": {
     "iopub.execute_input": "2025-03-04T13:23:31.544871Z",
     "iopub.status.busy": "2025-03-04T13:23:31.544818Z",
     "iopub.status.idle": "2025-03-04T13:23:31.548981Z",
     "shell.execute_reply": "2025-03-04T13:23:31.548801Z"
    }
   },
   "outputs": [
    {
     "data": {
      "text/html": [
       "<div>\n",
       "<style scoped>\n",
       "    .dataframe tbody tr th:only-of-type {\n",
       "        vertical-align: middle;\n",
       "    }\n",
       "\n",
       "    .dataframe tbody tr th {\n",
       "        vertical-align: top;\n",
       "    }\n",
       "\n",
       "    .dataframe thead th {\n",
       "        text-align: right;\n",
       "    }\n",
       "</style>\n",
       "<table border=\"1\" class=\"dataframe\">\n",
       "  <thead>\n",
       "    <tr style=\"text-align: right;\">\n",
       "      <th></th>\n",
       "      <th>CPRO</th>\n",
       "      <th>province</th>\n",
       "      <th>CMUN</th>\n",
       "      <th>municipality</th>\n",
       "      <th>municipality_1</th>\n",
       "      <th>municipality_2</th>\n",
       "      <th>autonomous_community</th>\n",
       "      <th>latitude</th>\n",
       "      <th>longitude</th>\n",
       "      <th>altitude</th>\n",
       "      <th>cmun</th>\n",
       "    </tr>\n",
       "  </thead>\n",
       "  <tbody>\n",
       "    <tr>\n",
       "      <th>0</th>\n",
       "      <td>01</td>\n",
       "      <td>Álava</td>\n",
       "      <td>001</td>\n",
       "      <td>Alegría-Dulantzi</td>\n",
       "      <td>alegriadulantzi</td>\n",
       "      <td>NaN</td>\n",
       "      <td>País Vasco</td>\n",
       "      <td>42.84149</td>\n",
       "      <td>-2.513507</td>\n",
       "      <td>561.68570</td>\n",
       "      <td>1001</td>\n",
       "    </tr>\n",
       "    <tr>\n",
       "      <th>1</th>\n",
       "      <td>01</td>\n",
       "      <td>Álava</td>\n",
       "      <td>002</td>\n",
       "      <td>Amurrio</td>\n",
       "      <td>amurrio</td>\n",
       "      <td>NaN</td>\n",
       "      <td>País Vasco</td>\n",
       "      <td>43.05265</td>\n",
       "      <td>-3.001022</td>\n",
       "      <td>219.69100</td>\n",
       "      <td>1002</td>\n",
       "    </tr>\n",
       "    <tr>\n",
       "      <th>2</th>\n",
       "      <td>01</td>\n",
       "      <td>Álava</td>\n",
       "      <td>003</td>\n",
       "      <td>Aramaio</td>\n",
       "      <td>aramaio</td>\n",
       "      <td>NaN</td>\n",
       "      <td>País Vasco</td>\n",
       "      <td>43.05400</td>\n",
       "      <td>-2.566000</td>\n",
       "      <td>381.87970</td>\n",
       "      <td>1003</td>\n",
       "    </tr>\n",
       "    <tr>\n",
       "      <th>3</th>\n",
       "      <td>01</td>\n",
       "      <td>Álava</td>\n",
       "      <td>004</td>\n",
       "      <td>Artziniega</td>\n",
       "      <td>artziniega</td>\n",
       "      <td>NaN</td>\n",
       "      <td>País Vasco</td>\n",
       "      <td>43.12220</td>\n",
       "      <td>-3.128209</td>\n",
       "      <td>196.98080</td>\n",
       "      <td>1004</td>\n",
       "    </tr>\n",
       "    <tr>\n",
       "      <th>4</th>\n",
       "      <td>01</td>\n",
       "      <td>Álava</td>\n",
       "      <td>006</td>\n",
       "      <td>Armiñón</td>\n",
       "      <td>arminon</td>\n",
       "      <td>NaN</td>\n",
       "      <td>País Vasco</td>\n",
       "      <td>42.72305</td>\n",
       "      <td>-2.872574</td>\n",
       "      <td>463.58150</td>\n",
       "      <td>1006</td>\n",
       "    </tr>\n",
       "    <tr>\n",
       "      <th>...</th>\n",
       "      <td>...</td>\n",
       "      <td>...</td>\n",
       "      <td>...</td>\n",
       "      <td>...</td>\n",
       "      <td>...</td>\n",
       "      <td>...</td>\n",
       "      <td>...</td>\n",
       "      <td>...</td>\n",
       "      <td>...</td>\n",
       "      <td>...</td>\n",
       "      <td>...</td>\n",
       "    </tr>\n",
       "    <tr>\n",
       "      <th>1875</th>\n",
       "      <td>12</td>\n",
       "      <td>Castellón</td>\n",
       "      <td>072</td>\n",
       "      <td>Llucena/Lucena del Cid</td>\n",
       "      <td>lucenadelcid</td>\n",
       "      <td>none</td>\n",
       "      <td>Valencia</td>\n",
       "      <td>40.13850</td>\n",
       "      <td>-0.279997</td>\n",
       "      <td>564.10640</td>\n",
       "      <td>12072</td>\n",
       "    </tr>\n",
       "    <tr>\n",
       "      <th>1945</th>\n",
       "      <td>12</td>\n",
       "      <td>Castellón</td>\n",
       "      <td>901</td>\n",
       "      <td>Alqueries, les/Alquerías del Niño Perdido</td>\n",
       "      <td>alqueriasdelninoperdido</td>\n",
       "      <td>none</td>\n",
       "      <td>Valencia</td>\n",
       "      <td>39.89653</td>\n",
       "      <td>-0.113446</td>\n",
       "      <td>25.46689</td>\n",
       "      <td>12901</td>\n",
       "    </tr>\n",
       "    <tr>\n",
       "      <th>6997</th>\n",
       "      <td>46</td>\n",
       "      <td>Valencia</td>\n",
       "      <td>013</td>\n",
       "      <td>Alboraia/Alboraya</td>\n",
       "      <td>alboraya</td>\n",
       "      <td>none</td>\n",
       "      <td>Valencia</td>\n",
       "      <td>39.49935</td>\n",
       "      <td>-0.349783</td>\n",
       "      <td>10.95999</td>\n",
       "      <td>46013</td>\n",
       "    </tr>\n",
       "    <tr>\n",
       "      <th>7160</th>\n",
       "      <td>46</td>\n",
       "      <td>Valencia</td>\n",
       "      <td>176</td>\n",
       "      <td>Montroi/Montroy</td>\n",
       "      <td>montroy</td>\n",
       "      <td>none</td>\n",
       "      <td>Valencia</td>\n",
       "      <td>39.34037</td>\n",
       "      <td>-0.614546</td>\n",
       "      <td>142.12200</td>\n",
       "      <td>46176</td>\n",
       "    </tr>\n",
       "    <tr>\n",
       "      <th>7239</th>\n",
       "      <td>46</td>\n",
       "      <td>Valencia</td>\n",
       "      <td>255</td>\n",
       "      <td>Vilallonga/Villalonga</td>\n",
       "      <td>villalonga</td>\n",
       "      <td>none</td>\n",
       "      <td>Valencia</td>\n",
       "      <td>38.88487</td>\n",
       "      <td>-0.209364</td>\n",
       "      <td>110.53350</td>\n",
       "      <td>46255</td>\n",
       "    </tr>\n",
       "  </tbody>\n",
       "</table>\n",
       "<p>8022 rows × 11 columns</p>\n",
       "</div>"
      ],
      "text/plain": [
       "     CPRO   province CMUN                               municipality  \\\n",
       "0      01      Álava  001                           Alegría-Dulantzi   \n",
       "1      01      Álava  002                                    Amurrio   \n",
       "2      01      Álava  003                                    Aramaio   \n",
       "3      01      Álava  004                                 Artziniega   \n",
       "4      01      Álava  006                                    Armiñón   \n",
       "...   ...        ...  ...                                        ...   \n",
       "1875   12  Castellón  072                     Llucena/Lucena del Cid   \n",
       "1945   12  Castellón  901  Alqueries, les/Alquerías del Niño Perdido   \n",
       "6997   46   Valencia  013                          Alboraia/Alboraya   \n",
       "7160   46   Valencia  176                            Montroi/Montroy   \n",
       "7239   46   Valencia  255                      Vilallonga/Villalonga   \n",
       "\n",
       "               municipality_1 municipality_2 autonomous_community  latitude  \\\n",
       "0             alegriadulantzi            NaN           País Vasco  42.84149   \n",
       "1                     amurrio            NaN           País Vasco  43.05265   \n",
       "2                     aramaio            NaN           País Vasco  43.05400   \n",
       "3                  artziniega            NaN           País Vasco  43.12220   \n",
       "4                     arminon            NaN           País Vasco  42.72305   \n",
       "...                       ...            ...                  ...       ...   \n",
       "1875             lucenadelcid           none             Valencia  40.13850   \n",
       "1945  alqueriasdelninoperdido           none             Valencia  39.89653   \n",
       "6997                 alboraya           none             Valencia  39.49935   \n",
       "7160                  montroy           none             Valencia  39.34037   \n",
       "7239               villalonga           none             Valencia  38.88487   \n",
       "\n",
       "      longitude   altitude   cmun  \n",
       "0     -2.513507  561.68570   1001  \n",
       "1     -3.001022  219.69100   1002  \n",
       "2     -2.566000  381.87970   1003  \n",
       "3     -3.128209  196.98080   1004  \n",
       "4     -2.872574  463.58150   1006  \n",
       "...         ...        ...    ...  \n",
       "1875  -0.279997  564.10640  12072  \n",
       "1945  -0.113446   25.46689  12901  \n",
       "6997  -0.349783   10.95999  46013  \n",
       "7160  -0.614546  142.12200  46176  \n",
       "7239  -0.209364  110.53350  46255  \n",
       "\n",
       "[8022 rows x 11 columns]"
      ]
     },
     "execution_count": 48,
     "metadata": {},
     "output_type": "execute_result"
    }
   ],
   "source": [
    "merged_df"
   ]
  },
  {
   "cell_type": "code",
   "execution_count": 49,
   "metadata": {
    "execution": {
     "iopub.execute_input": "2025-03-04T13:23:31.549925Z",
     "iopub.status.busy": "2025-03-04T13:23:31.549867Z",
     "iopub.status.idle": "2025-03-04T13:23:31.551851Z",
     "shell.execute_reply": "2025-03-04T13:23:31.551654Z"
    }
   },
   "outputs": [],
   "source": [
    "merged_df = merged_df[['cmun', 'municipality', 'municipality_1', 'municipality_2','province',  \n",
    "       'autonomous_community', 'latitude', 'longitude', 'altitude', ]]"
   ]
  },
  {
   "cell_type": "code",
   "execution_count": 50,
   "metadata": {
    "execution": {
     "iopub.execute_input": "2025-03-04T13:23:31.552731Z",
     "iopub.status.busy": "2025-03-04T13:23:31.552677Z",
     "iopub.status.idle": "2025-03-04T13:23:31.555275Z",
     "shell.execute_reply": "2025-03-04T13:23:31.555082Z"
    }
   },
   "outputs": [
    {
     "data": {
      "text/plain": [
       "cmun                       0\n",
       "municipality               0\n",
       "municipality_1             0\n",
       "municipality_2          7990\n",
       "province                   0\n",
       "autonomous_community       0\n",
       "latitude                   0\n",
       "longitude                  0\n",
       "altitude                   0\n",
       "dtype: int64"
      ]
     },
     "execution_count": 50,
     "metadata": {},
     "output_type": "execute_result"
    }
   ],
   "source": [
    "merged_df.isna().sum()"
   ]
  },
  {
   "cell_type": "code",
   "execution_count": 51,
   "metadata": {
    "execution": {
     "iopub.execute_input": "2025-03-04T13:23:31.556211Z",
     "iopub.status.busy": "2025-03-04T13:23:31.556153Z",
     "iopub.status.idle": "2025-03-04T13:23:31.559076Z",
     "shell.execute_reply": "2025-03-04T13:23:31.558887Z"
    }
   },
   "outputs": [
    {
     "data": {
      "text/html": [
       "<div>\n",
       "<style scoped>\n",
       "    .dataframe tbody tr th:only-of-type {\n",
       "        vertical-align: middle;\n",
       "    }\n",
       "\n",
       "    .dataframe tbody tr th {\n",
       "        vertical-align: top;\n",
       "    }\n",
       "\n",
       "    .dataframe thead th {\n",
       "        text-align: right;\n",
       "    }\n",
       "</style>\n",
       "<table border=\"1\" class=\"dataframe\">\n",
       "  <thead>\n",
       "    <tr style=\"text-align: right;\">\n",
       "      <th></th>\n",
       "      <th>cmun</th>\n",
       "      <th>municipality</th>\n",
       "      <th>municipality_1</th>\n",
       "      <th>municipality_2</th>\n",
       "      <th>province</th>\n",
       "      <th>autonomous_community</th>\n",
       "      <th>latitude</th>\n",
       "      <th>longitude</th>\n",
       "      <th>altitude</th>\n",
       "    </tr>\n",
       "  </thead>\n",
       "  <tbody>\n",
       "  </tbody>\n",
       "</table>\n",
       "</div>"
      ],
      "text/plain": [
       "Empty DataFrame\n",
       "Columns: [cmun, municipality, municipality_1, municipality_2, province, autonomous_community, latitude, longitude, altitude]\n",
       "Index: []"
      ]
     },
     "execution_count": 51,
     "metadata": {},
     "output_type": "execute_result"
    }
   ],
   "source": [
    "merged_df[merged_df[\"municipality\"] == \"Donostia\"]"
   ]
  },
  {
   "cell_type": "markdown",
   "metadata": {},
   "source": [
    "### Add Towns in Vicinity"
   ]
  },
  {
   "cell_type": "code",
   "execution_count": 52,
   "metadata": {
    "execution": {
     "iopub.execute_input": "2025-03-04T13:23:31.559989Z",
     "iopub.status.busy": "2025-03-04T13:23:31.559930Z",
     "iopub.status.idle": "2025-03-04T13:23:31.564110Z",
     "shell.execute_reply": "2025-03-04T13:23:31.563929Z"
    }
   },
   "outputs": [
    {
     "data": {
      "text/html": [
       "<div>\n",
       "<style scoped>\n",
       "    .dataframe tbody tr th:only-of-type {\n",
       "        vertical-align: middle;\n",
       "    }\n",
       "\n",
       "    .dataframe tbody tr th {\n",
       "        vertical-align: top;\n",
       "    }\n",
       "\n",
       "    .dataframe thead th {\n",
       "        text-align: right;\n",
       "    }\n",
       "</style>\n",
       "<table border=\"1\" class=\"dataframe\">\n",
       "  <thead>\n",
       "    <tr style=\"text-align: right;\">\n",
       "      <th></th>\n",
       "      <th>latitude</th>\n",
       "      <th>longitude</th>\n",
       "    </tr>\n",
       "  </thead>\n",
       "  <tbody>\n",
       "    <tr>\n",
       "      <th>count</th>\n",
       "      <td>8022.000000</td>\n",
       "      <td>8022.000000</td>\n",
       "    </tr>\n",
       "    <tr>\n",
       "      <th>mean</th>\n",
       "      <td>40.731519</td>\n",
       "      <td>-3.114249</td>\n",
       "    </tr>\n",
       "    <tr>\n",
       "      <th>std</th>\n",
       "      <td>2.119782</td>\n",
       "      <td>3.027940</td>\n",
       "    </tr>\n",
       "    <tr>\n",
       "      <th>min</th>\n",
       "      <td>27.725500</td>\n",
       "      <td>-18.024300</td>\n",
       "    </tr>\n",
       "    <tr>\n",
       "      <th>25%</th>\n",
       "      <td>39.875645</td>\n",
       "      <td>-5.122889</td>\n",
       "    </tr>\n",
       "    <tr>\n",
       "      <th>50%</th>\n",
       "      <td>41.192105</td>\n",
       "      <td>-3.238809</td>\n",
       "    </tr>\n",
       "    <tr>\n",
       "      <th>75%</th>\n",
       "      <td>42.132542</td>\n",
       "      <td>-1.146779</td>\n",
       "    </tr>\n",
       "    <tr>\n",
       "      <th>max</th>\n",
       "      <td>43.769200</td>\n",
       "      <td>4.289603</td>\n",
       "    </tr>\n",
       "  </tbody>\n",
       "</table>\n",
       "</div>"
      ],
      "text/plain": [
       "          latitude    longitude\n",
       "count  8022.000000  8022.000000\n",
       "mean     40.731519    -3.114249\n",
       "std       2.119782     3.027940\n",
       "min      27.725500   -18.024300\n",
       "25%      39.875645    -5.122889\n",
       "50%      41.192105    -3.238809\n",
       "75%      42.132542    -1.146779\n",
       "max      43.769200     4.289603"
      ]
     },
     "execution_count": 52,
     "metadata": {},
     "output_type": "execute_result"
    }
   ],
   "source": [
    "merged_df[['latitude', 'longitude']].describe()"
   ]
  },
  {
   "cell_type": "code",
   "execution_count": 53,
   "metadata": {
    "execution": {
     "iopub.execute_input": "2025-03-04T13:23:31.565066Z",
     "iopub.status.busy": "2025-03-04T13:23:31.565011Z",
     "iopub.status.idle": "2025-03-04T13:23:31.566726Z",
     "shell.execute_reply": "2025-03-04T13:23:31.566535Z"
    }
   },
   "outputs": [],
   "source": [
    "bins = {'lat': np.arange(merged_df['latitude'].min(), merged_df['latitude'].max(), 0.5), 'lon': np.arange(merged_df['longitude'].min(), merged_df['longitude'].max(), 0.5)}"
   ]
  },
  {
   "cell_type": "markdown",
   "metadata": {},
   "source": [
    "1. make bins of lat, long\n",
    "2. sort pueplos into the bins\n",
    "3rd -> for each pueblo: have a look at 1 lower and 1 higer (lat, long)"
   ]
  },
  {
   "cell_type": "code",
   "execution_count": 54,
   "metadata": {
    "execution": {
     "iopub.execute_input": "2025-03-04T13:23:31.567751Z",
     "iopub.status.busy": "2025-03-04T13:23:31.567689Z",
     "iopub.status.idle": "2025-03-04T13:23:31.574006Z",
     "shell.execute_reply": "2025-03-04T13:23:31.573812Z"
    }
   },
   "outputs": [
    {
     "data": {
      "text/html": [
       "<div>\n",
       "<style scoped>\n",
       "    .dataframe tbody tr th:only-of-type {\n",
       "        vertical-align: middle;\n",
       "    }\n",
       "\n",
       "    .dataframe tbody tr th {\n",
       "        vertical-align: top;\n",
       "    }\n",
       "\n",
       "    .dataframe thead th {\n",
       "        text-align: right;\n",
       "    }\n",
       "</style>\n",
       "<table border=\"1\" class=\"dataframe\">\n",
       "  <thead>\n",
       "    <tr style=\"text-align: right;\">\n",
       "      <th></th>\n",
       "      <th>cmun</th>\n",
       "      <th>municipality</th>\n",
       "      <th>municipality_1</th>\n",
       "      <th>municipality_2</th>\n",
       "      <th>province</th>\n",
       "      <th>autonomous_community</th>\n",
       "      <th>latitude</th>\n",
       "      <th>longitude</th>\n",
       "      <th>altitude</th>\n",
       "      <th>lat_bin</th>\n",
       "      <th>lon_bin</th>\n",
       "    </tr>\n",
       "  </thead>\n",
       "  <tbody>\n",
       "    <tr>\n",
       "      <th>0</th>\n",
       "      <td>1001</td>\n",
       "      <td>Alegría-Dulantzi</td>\n",
       "      <td>alegriadulantzi</td>\n",
       "      <td>NaN</td>\n",
       "      <td>Álava</td>\n",
       "      <td>País Vasco</td>\n",
       "      <td>42.84149</td>\n",
       "      <td>-2.513507</td>\n",
       "      <td>561.68570</td>\n",
       "      <td>30</td>\n",
       "      <td>31</td>\n",
       "    </tr>\n",
       "    <tr>\n",
       "      <th>1</th>\n",
       "      <td>1002</td>\n",
       "      <td>Amurrio</td>\n",
       "      <td>amurrio</td>\n",
       "      <td>NaN</td>\n",
       "      <td>Álava</td>\n",
       "      <td>País Vasco</td>\n",
       "      <td>43.05265</td>\n",
       "      <td>-3.001022</td>\n",
       "      <td>219.69100</td>\n",
       "      <td>30</td>\n",
       "      <td>30</td>\n",
       "    </tr>\n",
       "    <tr>\n",
       "      <th>2</th>\n",
       "      <td>1003</td>\n",
       "      <td>Aramaio</td>\n",
       "      <td>aramaio</td>\n",
       "      <td>NaN</td>\n",
       "      <td>Álava</td>\n",
       "      <td>País Vasco</td>\n",
       "      <td>43.05400</td>\n",
       "      <td>-2.566000</td>\n",
       "      <td>381.87970</td>\n",
       "      <td>30</td>\n",
       "      <td>30</td>\n",
       "    </tr>\n",
       "    <tr>\n",
       "      <th>3</th>\n",
       "      <td>1004</td>\n",
       "      <td>Artziniega</td>\n",
       "      <td>artziniega</td>\n",
       "      <td>NaN</td>\n",
       "      <td>Álava</td>\n",
       "      <td>País Vasco</td>\n",
       "      <td>43.12220</td>\n",
       "      <td>-3.128209</td>\n",
       "      <td>196.98080</td>\n",
       "      <td>30</td>\n",
       "      <td>29</td>\n",
       "    </tr>\n",
       "    <tr>\n",
       "      <th>4</th>\n",
       "      <td>1006</td>\n",
       "      <td>Armiñón</td>\n",
       "      <td>arminon</td>\n",
       "      <td>NaN</td>\n",
       "      <td>Álava</td>\n",
       "      <td>País Vasco</td>\n",
       "      <td>42.72305</td>\n",
       "      <td>-2.872574</td>\n",
       "      <td>463.58150</td>\n",
       "      <td>29</td>\n",
       "      <td>30</td>\n",
       "    </tr>\n",
       "    <tr>\n",
       "      <th>...</th>\n",
       "      <td>...</td>\n",
       "      <td>...</td>\n",
       "      <td>...</td>\n",
       "      <td>...</td>\n",
       "      <td>...</td>\n",
       "      <td>...</td>\n",
       "      <td>...</td>\n",
       "      <td>...</td>\n",
       "      <td>...</td>\n",
       "      <td>...</td>\n",
       "      <td>...</td>\n",
       "    </tr>\n",
       "    <tr>\n",
       "      <th>1875</th>\n",
       "      <td>12072</td>\n",
       "      <td>Llucena/Lucena del Cid</td>\n",
       "      <td>lucenadelcid</td>\n",
       "      <td>none</td>\n",
       "      <td>Castellón</td>\n",
       "      <td>Valencia</td>\n",
       "      <td>40.13850</td>\n",
       "      <td>-0.279997</td>\n",
       "      <td>564.10640</td>\n",
       "      <td>24</td>\n",
       "      <td>35</td>\n",
       "    </tr>\n",
       "    <tr>\n",
       "      <th>1945</th>\n",
       "      <td>12901</td>\n",
       "      <td>Alqueries, les/Alquerías del Niño Perdido</td>\n",
       "      <td>alqueriasdelninoperdido</td>\n",
       "      <td>none</td>\n",
       "      <td>Castellón</td>\n",
       "      <td>Valencia</td>\n",
       "      <td>39.89653</td>\n",
       "      <td>-0.113446</td>\n",
       "      <td>25.46689</td>\n",
       "      <td>24</td>\n",
       "      <td>35</td>\n",
       "    </tr>\n",
       "    <tr>\n",
       "      <th>6997</th>\n",
       "      <td>46013</td>\n",
       "      <td>Alboraia/Alboraya</td>\n",
       "      <td>alboraya</td>\n",
       "      <td>none</td>\n",
       "      <td>Valencia</td>\n",
       "      <td>Valencia</td>\n",
       "      <td>39.49935</td>\n",
       "      <td>-0.349783</td>\n",
       "      <td>10.95999</td>\n",
       "      <td>23</td>\n",
       "      <td>35</td>\n",
       "    </tr>\n",
       "    <tr>\n",
       "      <th>7160</th>\n",
       "      <td>46176</td>\n",
       "      <td>Montroi/Montroy</td>\n",
       "      <td>montroy</td>\n",
       "      <td>none</td>\n",
       "      <td>Valencia</td>\n",
       "      <td>Valencia</td>\n",
       "      <td>39.34037</td>\n",
       "      <td>-0.614546</td>\n",
       "      <td>142.12200</td>\n",
       "      <td>23</td>\n",
       "      <td>34</td>\n",
       "    </tr>\n",
       "    <tr>\n",
       "      <th>7239</th>\n",
       "      <td>46255</td>\n",
       "      <td>Vilallonga/Villalonga</td>\n",
       "      <td>villalonga</td>\n",
       "      <td>none</td>\n",
       "      <td>Valencia</td>\n",
       "      <td>Valencia</td>\n",
       "      <td>38.88487</td>\n",
       "      <td>-0.209364</td>\n",
       "      <td>110.53350</td>\n",
       "      <td>22</td>\n",
       "      <td>35</td>\n",
       "    </tr>\n",
       "  </tbody>\n",
       "</table>\n",
       "<p>8022 rows × 11 columns</p>\n",
       "</div>"
      ],
      "text/plain": [
       "       cmun                               municipality  \\\n",
       "0      1001                           Alegría-Dulantzi   \n",
       "1      1002                                    Amurrio   \n",
       "2      1003                                    Aramaio   \n",
       "3      1004                                 Artziniega   \n",
       "4      1006                                    Armiñón   \n",
       "...     ...                                        ...   \n",
       "1875  12072                     Llucena/Lucena del Cid   \n",
       "1945  12901  Alqueries, les/Alquerías del Niño Perdido   \n",
       "6997  46013                          Alboraia/Alboraya   \n",
       "7160  46176                            Montroi/Montroy   \n",
       "7239  46255                      Vilallonga/Villalonga   \n",
       "\n",
       "               municipality_1 municipality_2   province autonomous_community  \\\n",
       "0             alegriadulantzi            NaN      Álava           País Vasco   \n",
       "1                     amurrio            NaN      Álava           País Vasco   \n",
       "2                     aramaio            NaN      Álava           País Vasco   \n",
       "3                  artziniega            NaN      Álava           País Vasco   \n",
       "4                     arminon            NaN      Álava           País Vasco   \n",
       "...                       ...            ...        ...                  ...   \n",
       "1875             lucenadelcid           none  Castellón             Valencia   \n",
       "1945  alqueriasdelninoperdido           none  Castellón             Valencia   \n",
       "6997                 alboraya           none   Valencia             Valencia   \n",
       "7160                  montroy           none   Valencia             Valencia   \n",
       "7239               villalonga           none   Valencia             Valencia   \n",
       "\n",
       "      latitude  longitude   altitude  lat_bin  lon_bin  \n",
       "0     42.84149  -2.513507  561.68570       30       31  \n",
       "1     43.05265  -3.001022  219.69100       30       30  \n",
       "2     43.05400  -2.566000  381.87970       30       30  \n",
       "3     43.12220  -3.128209  196.98080       30       29  \n",
       "4     42.72305  -2.872574  463.58150       29       30  \n",
       "...        ...        ...        ...      ...      ...  \n",
       "1875  40.13850  -0.279997  564.10640       24       35  \n",
       "1945  39.89653  -0.113446   25.46689       24       35  \n",
       "6997  39.49935  -0.349783   10.95999       23       35  \n",
       "7160  39.34037  -0.614546  142.12200       23       34  \n",
       "7239  38.88487  -0.209364  110.53350       22       35  \n",
       "\n",
       "[8022 rows x 11 columns]"
      ]
     },
     "execution_count": 54,
     "metadata": {},
     "output_type": "execute_result"
    }
   ],
   "source": [
    "merged_df = merged_df.copy()\n",
    "\n",
    "merged_df['lat_bin'] = pd.cut(merged_df['latitude'], bins['lat'], labels=False, include_lowest=True)\n",
    "merged_df['lon_bin'] = pd.cut(merged_df['longitude'], bins['lon'], labels=False, include_lowest=True)\n",
    "merged_df['lat_bin'] = merged_df['lat_bin'].fillna(-1).astype(int)\n",
    "merged_df['lon_bin'] = merged_df['lon_bin'].fillna(-1).astype(int)\n",
    "merged_df\n"
   ]
  },
  {
   "cell_type": "code",
   "execution_count": 55,
   "metadata": {
    "execution": {
     "iopub.execute_input": "2025-03-04T13:23:31.575149Z",
     "iopub.status.busy": "2025-03-04T13:23:31.575042Z",
     "iopub.status.idle": "2025-03-04T13:23:32.420926Z",
     "shell.execute_reply": "2025-03-04T13:23:32.420674Z"
    }
   },
   "outputs": [],
   "source": [
    "from geopy.distance import geodesic\n",
    "lon_max = merged_df['lon_bin'].max()\n",
    "lat_max = merged_df['lat_bin'].max()\n",
    "\n",
    "def get_towns_in_vicinity(row: pd.Series, distance):\n",
    "    cmuns = []\n",
    "    # Properly handle edge bins and include all surrounding quadrants\n",
    "    for idx in range(max(0, row['lon_bin'] - 1), min(lon_max + 1, row['lon_bin'] + 2)):\n",
    "        for idy in range(max(0, row['lat_bin'] - 1), min(lat_max + 1, row['lat_bin'] + 2)):\n",
    "            cmuns.extend(merged_df.loc[(merged_df['lat_bin'] == idy) & (merged_df['lon_bin'] == idx), 'cmun'].tolist())\n",
    "    # Get the origin coordinates\n",
    "    origin = (row['latitude'], row['longitude'])\n",
    "    # Select rows for comparison\n",
    "    new_df = merged_df[merged_df[\"cmun\"].isin(cmuns)].copy()\n",
    "    # Remove the current town if necessary\n",
    "    new_df = new_df[new_df['cmun'] != row['cmun']]\n",
    "    # Calculate distances\n",
    "    new_df[\"distance\"] = [geodesic(origin, (lat, lon)).kilometers for lat, lon in zip(new_df[\"latitude\"], new_df[\"longitude\"])]\n",
    "    new_df = new_df[new_df[\"distance\"] < distance]\n",
    "    return new_df['cmun'].to_list()\n"
   ]
  },
  {
   "cell_type": "code",
   "execution_count": 56,
   "metadata": {
    "execution": {
     "iopub.execute_input": "2025-03-04T13:23:32.422138Z",
     "iopub.status.busy": "2025-03-04T13:23:32.422033Z",
     "iopub.status.idle": "2025-03-04T13:25:44.747900Z",
     "shell.execute_reply": "2025-03-04T13:25:44.747489Z"
    }
   },
   "outputs": [],
   "source": [
    "# Apply the function\n",
    "merged_df['towns_in_vicinity'] = merged_df.apply(lambda x: get_towns_in_vicinity(x, 40), axis=1)"
   ]
  },
  {
   "cell_type": "code",
   "execution_count": 57,
   "metadata": {
    "execution": {
     "iopub.execute_input": "2025-03-04T13:25:44.749501Z",
     "iopub.status.busy": "2025-03-04T13:25:44.749360Z",
     "iopub.status.idle": "2025-03-04T13:25:44.804538Z",
     "shell.execute_reply": "2025-03-04T13:25:44.804201Z"
    }
   },
   "outputs": [],
   "source": [
    "merged_df[\"towns_in_vicinity\"] = merged_df[\"towns_in_vicinity\"].apply(\n",
    "    lambda x: \", \".join(map(str, x)) if isinstance(x, list) else x\n",
    ")"
   ]
  },
  {
   "cell_type": "code",
   "execution_count": 58,
   "metadata": {
    "execution": {
     "iopub.execute_input": "2025-03-04T13:25:44.805749Z",
     "iopub.status.busy": "2025-03-04T13:25:44.805672Z",
     "iopub.status.idle": "2025-03-04T13:25:44.807368Z",
     "shell.execute_reply": "2025-03-04T13:25:44.807151Z"
    }
   },
   "outputs": [],
   "source": [
    "merged_df.reset_index(drop=True, inplace=True)"
   ]
  },
  {
   "cell_type": "code",
   "execution_count": 59,
   "metadata": {
    "execution": {
     "iopub.execute_input": "2025-03-04T13:25:44.808430Z",
     "iopub.status.busy": "2025-03-04T13:25:44.808371Z",
     "iopub.status.idle": "2025-03-04T13:25:44.813073Z",
     "shell.execute_reply": "2025-03-04T13:25:44.812785Z"
    }
   },
   "outputs": [
    {
     "data": {
      "text/html": [
       "<div>\n",
       "<style scoped>\n",
       "    .dataframe tbody tr th:only-of-type {\n",
       "        vertical-align: middle;\n",
       "    }\n",
       "\n",
       "    .dataframe tbody tr th {\n",
       "        vertical-align: top;\n",
       "    }\n",
       "\n",
       "    .dataframe thead th {\n",
       "        text-align: right;\n",
       "    }\n",
       "</style>\n",
       "<table border=\"1\" class=\"dataframe\">\n",
       "  <thead>\n",
       "    <tr style=\"text-align: right;\">\n",
       "      <th></th>\n",
       "      <th>cmun</th>\n",
       "      <th>municipality</th>\n",
       "      <th>municipality_1</th>\n",
       "      <th>municipality_2</th>\n",
       "      <th>province</th>\n",
       "      <th>autonomous_community</th>\n",
       "      <th>latitude</th>\n",
       "      <th>longitude</th>\n",
       "      <th>altitude</th>\n",
       "      <th>lat_bin</th>\n",
       "      <th>lon_bin</th>\n",
       "      <th>towns_in_vicinity</th>\n",
       "    </tr>\n",
       "  </thead>\n",
       "  <tbody>\n",
       "    <tr>\n",
       "      <th>0</th>\n",
       "      <td>1001</td>\n",
       "      <td>Alegría-Dulantzi</td>\n",
       "      <td>alegriadulantzi</td>\n",
       "      <td>NaN</td>\n",
       "      <td>Álava</td>\n",
       "      <td>País Vasco</td>\n",
       "      <td>42.84149</td>\n",
       "      <td>-2.513507</td>\n",
       "      <td>561.6857</td>\n",
       "      <td>30</td>\n",
       "      <td>31</td>\n",
       "      <td>1003, 1006, 1009, 1011, 1013, 1014, 1016, 1017...</td>\n",
       "    </tr>\n",
       "    <tr>\n",
       "      <th>1</th>\n",
       "      <td>1002</td>\n",
       "      <td>Amurrio</td>\n",
       "      <td>amurrio</td>\n",
       "      <td>NaN</td>\n",
       "      <td>Álava</td>\n",
       "      <td>País Vasco</td>\n",
       "      <td>43.05265</td>\n",
       "      <td>-3.001022</td>\n",
       "      <td>219.6910</td>\n",
       "      <td>30</td>\n",
       "      <td>30</td>\n",
       "      <td>1003, 1004, 1006, 1010, 1018, 1020, 1036, 1042...</td>\n",
       "    </tr>\n",
       "    <tr>\n",
       "      <th>2</th>\n",
       "      <td>1003</td>\n",
       "      <td>Aramaio</td>\n",
       "      <td>aramaio</td>\n",
       "      <td>NaN</td>\n",
       "      <td>Álava</td>\n",
       "      <td>País Vasco</td>\n",
       "      <td>43.05400</td>\n",
       "      <td>-2.566000</td>\n",
       "      <td>381.8797</td>\n",
       "      <td>30</td>\n",
       "      <td>30</td>\n",
       "      <td>1001, 1002, 1009, 1013, 1018, 1020, 1021, 1027...</td>\n",
       "    </tr>\n",
       "    <tr>\n",
       "      <th>3</th>\n",
       "      <td>1004</td>\n",
       "      <td>Artziniega</td>\n",
       "      <td>artziniega</td>\n",
       "      <td>NaN</td>\n",
       "      <td>Álava</td>\n",
       "      <td>País Vasco</td>\n",
       "      <td>43.12220</td>\n",
       "      <td>-3.128209</td>\n",
       "      <td>196.9808</td>\n",
       "      <td>30</td>\n",
       "      <td>29</td>\n",
       "      <td>1002, 1010, 1018, 1020, 1036, 1042, 1049, 1054...</td>\n",
       "    </tr>\n",
       "    <tr>\n",
       "      <th>4</th>\n",
       "      <td>1006</td>\n",
       "      <td>Armiñón</td>\n",
       "      <td>arminon</td>\n",
       "      <td>NaN</td>\n",
       "      <td>Álava</td>\n",
       "      <td>País Vasco</td>\n",
       "      <td>42.72305</td>\n",
       "      <td>-2.872574</td>\n",
       "      <td>463.5815</td>\n",
       "      <td>29</td>\n",
       "      <td>30</td>\n",
       "      <td>1001, 1002, 1011, 1013, 1014, 1016, 1018, 1019...</td>\n",
       "    </tr>\n",
       "  </tbody>\n",
       "</table>\n",
       "</div>"
      ],
      "text/plain": [
       "   cmun      municipality   municipality_1 municipality_2 province  \\\n",
       "0  1001  Alegría-Dulantzi  alegriadulantzi            NaN    Álava   \n",
       "1  1002           Amurrio          amurrio            NaN    Álava   \n",
       "2  1003           Aramaio          aramaio            NaN    Álava   \n",
       "3  1004        Artziniega       artziniega            NaN    Álava   \n",
       "4  1006           Armiñón          arminon            NaN    Álava   \n",
       "\n",
       "  autonomous_community  latitude  longitude  altitude  lat_bin  lon_bin  \\\n",
       "0           País Vasco  42.84149  -2.513507  561.6857       30       31   \n",
       "1           País Vasco  43.05265  -3.001022  219.6910       30       30   \n",
       "2           País Vasco  43.05400  -2.566000  381.8797       30       30   \n",
       "3           País Vasco  43.12220  -3.128209  196.9808       30       29   \n",
       "4           País Vasco  42.72305  -2.872574  463.5815       29       30   \n",
       "\n",
       "                                   towns_in_vicinity  \n",
       "0  1003, 1006, 1009, 1011, 1013, 1014, 1016, 1017...  \n",
       "1  1003, 1004, 1006, 1010, 1018, 1020, 1036, 1042...  \n",
       "2  1001, 1002, 1009, 1013, 1018, 1020, 1021, 1027...  \n",
       "3  1002, 1010, 1018, 1020, 1036, 1042, 1049, 1054...  \n",
       "4  1001, 1002, 1011, 1013, 1014, 1016, 1018, 1019...  "
      ]
     },
     "execution_count": 59,
     "metadata": {},
     "output_type": "execute_result"
    }
   ],
   "source": [
    "merged_df.head()"
   ]
  },
  {
   "cell_type": "code",
   "execution_count": 60,
   "metadata": {
    "execution": {
     "iopub.execute_input": "2025-03-04T13:25:44.814278Z",
     "iopub.status.busy": "2025-03-04T13:25:44.814188Z",
     "iopub.status.idle": "2025-03-04T13:25:44.880611Z",
     "shell.execute_reply": "2025-03-04T13:25:44.880104Z"
    }
   },
   "outputs": [],
   "source": [
    "merged_df.to_csv(\"../../data/processed/filtered_files/filtered_municipalities.csv\", index=False)"
   ]
  }
 ],
 "metadata": {
  "kernelspec": {
   "display_name": ".venv",
   "language": "python",
   "name": "python3"
  },
  "language_info": {
   "codemirror_mode": {
    "name": "ipython",
    "version": 3
   },
   "file_extension": ".py",
   "mimetype": "text/x-python",
   "name": "python",
   "nbconvert_exporter": "python",
   "pygments_lexer": "ipython3",
   "version": "3.11.3"
  }
 },
 "nbformat": 4,
 "nbformat_minor": 2
}
