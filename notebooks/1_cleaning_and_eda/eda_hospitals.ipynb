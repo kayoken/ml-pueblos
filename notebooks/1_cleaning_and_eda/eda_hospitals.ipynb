{
 "cells": [
  {
   "cell_type": "code",
   "execution_count": 1,
   "metadata": {
    "execution": {
     "iopub.execute_input": "2025-02-17T09:35:34.303439Z",
     "iopub.status.busy": "2025-02-17T09:35:34.303144Z",
     "iopub.status.idle": "2025-02-17T09:35:34.679131Z",
     "shell.execute_reply": "2025-02-17T09:35:34.678830Z"
    }
   },
   "outputs": [],
   "source": [
    "import pandas as pd"
   ]
  },
  {
   "cell_type": "code",
   "execution_count": 2,
   "metadata": {
    "execution": {
     "iopub.execute_input": "2025-02-17T09:35:34.680481Z",
     "iopub.status.busy": "2025-02-17T09:35:34.680364Z",
     "iopub.status.idle": "2025-02-17T09:35:34.688101Z",
     "shell.execute_reply": "2025-02-17T09:35:34.687871Z"
    }
   },
   "outputs": [
    {
     "data": {
      "text/plain": [
       "Index(['OBJECTID', 'CODCNH', 'NOMBRE', 'DIRECCION', 'TELEFONO', 'TELEFONO2',\n",
       "       'TELEFAX', 'CODMU', 'MUNICIPIOS', 'CODPROV', 'PROVINCIAS', 'CODAUTO',\n",
       "       'COMUNIDADES', 'CODPOSTAL', 'NCAMAS', 'CODFI', 'FINALIDAD_ASISITENCIAL',\n",
       "       'CODPAT', 'DEPENDENCIA_PATRIMONIAL', 'CODFU', 'DEPENDENCIA_FUNCIONAL',\n",
       "       'ACREDOCENT', 'ESCOMPLE', 'FORCOMPLE', 'CODIDCOM', 'ALTA', 'CERRADO',\n",
       "       'CAPITAL', 'CIERREFECH', 'CONCIERTO', 'EMAIL', 'TAC', 'RM', 'GAM',\n",
       "       'HEM', 'ASD', 'LIT', 'BCO', 'ALI', 'SPECT', 'PET', 'MAMOS', 'DO',\n",
       "       'DIAL', 'X', 'Y', 'CalidadGeocodificacion'],\n",
       "      dtype='object')"
      ]
     },
     "execution_count": 2,
     "metadata": {},
     "output_type": "execute_result"
    }
   ],
   "source": [
    "df = pd.read_csv(\"../../data/raw/hospitals_spain.csv\")\n",
    "df.columns"
   ]
  },
  {
   "cell_type": "markdown",
   "metadata": {},
   "source": [
    "The column names in the hospitals dataset are:\n",
    "\n",
    "- **Identification**\n",
    "    - `OBJECTID`: Object identifier\n",
    "    - `CODCNH`: Hospital code\n",
    "    - `NOMBRE`: Hospital name\n",
    "    - `CODIDCOM`: Community identifier code\n",
    "\n",
    "- **Contact Information**\n",
    "    - `DIRECCION`: Address\n",
    "    - `TELEFONO`: Phone\n",
    "    - `TELEFONO2`: Secondary phone\n",
    "    - `TELEFAX`: Fax\n",
    "    - `EMAIL`: Email address\n",
    "    - `CODPOSTAL`: Postal code\n",
    "\n",
    "- **Location**\n",
    "    - `CODMU`: Municipality code\n",
    "    - `MUNICIPIOS`: Municipality name \n",
    "    - `CODPROV`: Province code\n",
    "    - `PROVINCIAS`: Province name\n",
    "    - `CODAUTO`: Autonomous community code \n",
    "    - `COMUNIDADES`: Autonomous community name\n",
    "    - `X`: Longitude coordinate\n",
    "    - `Y`: Latitude coordinate\n",
    "    - `CalidadGeocodificacion`: Geocoding quality\n",
    "    - `CAPITAL`: Capital city indicator\n",
    "\n",
    "- **Hospital Information**\n",
    "    - `NCAMAS`: Number of beds\n",
    "    - `CODFI`: Healthcare purpose code\n",
    "    - `FINALIDAD_ASISITENCIAL`: Healthcare purpose description\n",
    "    - `CODPAT`: Asset ownership code\n",
    "    - `DEPENDENCIA_PATRIMONIAL`: Asset ownership description\n",
    "    - `CODFU`: Functional dependency code\n",
    "    - `DEPENDENCIA_FUNCIONAL`: Functional dependency description\n",
    "\n",
    "- **Status & Certifications**\n",
    "    - `ACREDOCENT`: Teaching accreditation\n",
    "    - `ESCOMPLE`: Complementary center\n",
    "    - `FORCOMPLE`: Complementary form\n",
    "    - `ALTA`: Active status\n",
    "    - `CERRADO`: Closed status\n",
    "    - `CIERREFECH`: Closing date\n",
    "    - `CONCIERTO`: Agreement status\n",
    "\n",
    "- **Equipment & Services**\n",
    "    - `TAC`: CT scanner\n",
    "    - `RM`: MRI\n",
    "    - `GAM`: Gamma camera\n",
    "    - `HEM`: Hemodynamics\n",
    "    - `ASD`: Assistant diagnostic systems\n",
    "    - `LIT`: Lithotripsy\n",
    "    - `BCO`: Blood bank\n",
    "    - `ALI`: Other\n",
    "    - `SPECT`: SPECT scanner\n",
    "    - `PET`: PET scanner\n",
    "    - `MAMOS`: Mammography\n",
    "    - `DO`: Other diagnostic\n",
    "    - `DIAL`: Dialysis"
   ]
  },
  {
   "cell_type": "code",
   "execution_count": 3,
   "metadata": {
    "execution": {
     "iopub.execute_input": "2025-02-17T09:35:34.689148Z",
     "iopub.status.busy": "2025-02-17T09:35:34.689085Z",
     "iopub.status.idle": "2025-02-17T09:35:34.691087Z",
     "shell.execute_reply": "2025-02-17T09:35:34.690871Z"
    }
   },
   "outputs": [
    {
     "data": {
      "text/plain": [
       "Index(['OBJECTID', 'CODCNH', 'NOMBRE', 'DIRECCION', 'TELEFONO', 'TELEFONO2',\n",
       "       'TELEFAX', 'CODMU', 'MUNICIPIOS', 'CODPROV', 'PROVINCIAS', 'CODAUTO',\n",
       "       'COMUNIDADES', 'CODPOSTAL', 'NCAMAS', 'CODFI', 'FINALIDAD_ASISITENCIAL',\n",
       "       'CODPAT', 'DEPENDENCIA_PATRIMONIAL', 'CODFU', 'DEPENDENCIA_FUNCIONAL',\n",
       "       'ACREDOCENT', 'ESCOMPLE', 'FORCOMPLE', 'CODIDCOM', 'ALTA', 'CERRADO',\n",
       "       'CAPITAL', 'CIERREFECH', 'CONCIERTO', 'EMAIL', 'TAC', 'RM', 'GAM',\n",
       "       'HEM', 'ASD', 'LIT', 'BCO', 'ALI', 'SPECT', 'PET', 'MAMOS', 'DO',\n",
       "       'DIAL', 'X', 'Y', 'CalidadGeocodificacion'],\n",
       "      dtype='object')"
      ]
     },
     "execution_count": 3,
     "metadata": {},
     "output_type": "execute_result"
    }
   ],
   "source": [
    "df.columns"
   ]
  },
  {
   "cell_type": "code",
   "execution_count": 4,
   "metadata": {
    "execution": {
     "iopub.execute_input": "2025-02-17T09:35:34.692153Z",
     "iopub.status.busy": "2025-02-17T09:35:34.692042Z",
     "iopub.status.idle": "2025-02-17T09:35:34.694174Z",
     "shell.execute_reply": "2025-02-17T09:35:34.693937Z"
    }
   },
   "outputs": [],
   "source": [
    "df.rename(columns={\"NOMBRE\": \"hospital_name\", \n",
    "                   \"CODMU\": \"cmun\",\n",
    "                   \"MUNICIPIOS\": \"municipality\", \n",
    "                   \"NCAMAS\": \"n_beds\",\n",
    "                   \"FINALIDAD_ASISITENCIAL\": \"type\", \n",
    "                   \"DEPENDENCIA_PATRIMONIAL\": \"management\",  \n",
    "                   \"X\": \"longitude\", \n",
    "                   \"Y\": \"latitude\"}, inplace=True)\n"
   ]
  },
  {
   "cell_type": "code",
   "execution_count": 5,
   "metadata": {
    "execution": {
     "iopub.execute_input": "2025-02-17T09:35:34.695291Z",
     "iopub.status.busy": "2025-02-17T09:35:34.695204Z",
     "iopub.status.idle": "2025-02-17T09:35:34.697417Z",
     "shell.execute_reply": "2025-02-17T09:35:34.697172Z"
    }
   },
   "outputs": [],
   "source": [
    "hospital_columns = [\n",
    "    'hospital_name',\n",
    "    \"municipality\",\n",
    "    'cmun',\n",
    "    'n_beds',\n",
    "    'type',\n",
    "    'management',\n",
    "    'latitude',\n",
    "    'longitude'\n",
    "]\n",
    "df = df[hospital_columns]\n"
   ]
  },
  {
   "cell_type": "code",
   "execution_count": 6,
   "metadata": {
    "execution": {
     "iopub.execute_input": "2025-02-17T09:35:34.698469Z",
     "iopub.status.busy": "2025-02-17T09:35:34.698399Z",
     "iopub.status.idle": "2025-02-17T09:35:34.704658Z",
     "shell.execute_reply": "2025-02-17T09:35:34.704414Z"
    }
   },
   "outputs": [
    {
     "data": {
      "text/html": [
       "<div>\n",
       "<style scoped>\n",
       "    .dataframe tbody tr th:only-of-type {\n",
       "        vertical-align: middle;\n",
       "    }\n",
       "\n",
       "    .dataframe tbody tr th {\n",
       "        vertical-align: top;\n",
       "    }\n",
       "\n",
       "    .dataframe thead th {\n",
       "        text-align: right;\n",
       "    }\n",
       "</style>\n",
       "<table border=\"1\" class=\"dataframe\">\n",
       "  <thead>\n",
       "    <tr style=\"text-align: right;\">\n",
       "      <th></th>\n",
       "      <th>hospital_name</th>\n",
       "      <th>municipality</th>\n",
       "      <th>cmun</th>\n",
       "      <th>n_beds</th>\n",
       "      <th>type</th>\n",
       "      <th>management</th>\n",
       "      <th>latitude</th>\n",
       "      <th>longitude</th>\n",
       "    </tr>\n",
       "  </thead>\n",
       "  <tbody>\n",
       "    <tr>\n",
       "      <th>386</th>\n",
       "      <td>HOSPITAL RICARDO BERMINGHAM (FUNDACIÓN MATIA)</td>\n",
       "      <td>Donostia/San Sebastián</td>\n",
       "      <td>200697</td>\n",
       "      <td>105</td>\n",
       "      <td>GERIATRÍA Y/O LARGA ESTANCIA</td>\n",
       "      <td>OTRO PRIVADO BENÉFICO</td>\n",
       "      <td>43.303946</td>\n",
       "      <td>-2.001225</td>\n",
       "    </tr>\n",
       "    <tr>\n",
       "      <th>126</th>\n",
       "      <td>CENTRE MÈDIC SANT JORDI DE SANT ANDREU</td>\n",
       "      <td>Barcelona</td>\n",
       "      <td>80193</td>\n",
       "      <td>57</td>\n",
       "      <td>GENERAL</td>\n",
       "      <td>PRIVADO NO BENÉFICO</td>\n",
       "      <td>41.436230</td>\n",
       "      <td>2.192942</td>\n",
       "    </tr>\n",
       "    <tr>\n",
       "      <th>95</th>\n",
       "      <td>HOSPITAL UNIVERSITARI SON ESPASES</td>\n",
       "      <td>Palma de Mallorca</td>\n",
       "      <td>70407</td>\n",
       "      <td>839</td>\n",
       "      <td>GENERAL</td>\n",
       "      <td>SEGURIDAD SOCIAL</td>\n",
       "      <td>39.607233</td>\n",
       "      <td>2.644755</td>\n",
       "    </tr>\n",
       "    <tr>\n",
       "      <th>149</th>\n",
       "      <td>CLÍNICA SANT JOSEP</td>\n",
       "      <td>Manresa</td>\n",
       "      <td>81136</td>\n",
       "      <td>95</td>\n",
       "      <td>GENERAL</td>\n",
       "      <td>OTRO PRIVADO BENÉFICO</td>\n",
       "      <td>41.722743</td>\n",
       "      <td>1.831829</td>\n",
       "    </tr>\n",
       "    <tr>\n",
       "      <th>646</th>\n",
       "      <td>HOSPITAL SANTA MARIA NAI</td>\n",
       "      <td>Ourense</td>\n",
       "      <td>320548</td>\n",
       "      <td>0</td>\n",
       "      <td>GENERAL</td>\n",
       "      <td>ENTIDADES PÚBLICAS</td>\n",
       "      <td>42.327011</td>\n",
       "      <td>-7.858838</td>\n",
       "    </tr>\n",
       "    <tr>\n",
       "      <th>602</th>\n",
       "      <td>HOSPITAL VALLE DEL GUADALHORCE DE CÁRTAMA</td>\n",
       "      <td>Cártama</td>\n",
       "      <td>290385</td>\n",
       "      <td>0</td>\n",
       "      <td>GENERAL</td>\n",
       "      <td>COMUNIDAD AUTÓNOMA</td>\n",
       "      <td>36.714875</td>\n",
       "      <td>-4.651688</td>\n",
       "    </tr>\n",
       "    <tr>\n",
       "      <th>833</th>\n",
       "      <td>HOSPITAL PROVINCIAL NUESTRA SEÑORA DE LA MISER...</td>\n",
       "      <td>Toledo</td>\n",
       "      <td>451685</td>\n",
       "      <td>0</td>\n",
       "      <td>GENERAL</td>\n",
       "      <td>DIPUTACIÓN O CABILDO</td>\n",
       "      <td>39.861311</td>\n",
       "      <td>-4.014511</td>\n",
       "    </tr>\n",
       "    <tr>\n",
       "      <th>775</th>\n",
       "      <td>HOSPITAL QUIRONSALUD INFANTA LUISA</td>\n",
       "      <td>Sevilla</td>\n",
       "      <td>410917</td>\n",
       "      <td>139</td>\n",
       "      <td>GENERAL</td>\n",
       "      <td>PRIVADO NO BENÉFICO</td>\n",
       "      <td>37.381500</td>\n",
       "      <td>-6.008345</td>\n",
       "    </tr>\n",
       "    <tr>\n",
       "      <th>825</th>\n",
       "      <td>UNITAT DE REFERÈNCIA DE PSIQUIATRIA I TRASTORN...</td>\n",
       "      <td>Reus</td>\n",
       "      <td>431233</td>\n",
       "      <td>20</td>\n",
       "      <td>PSIQUIÁTRICO</td>\n",
       "      <td>PRIVADO NO BENÉFICO</td>\n",
       "      <td>41.144428</td>\n",
       "      <td>1.122489</td>\n",
       "    </tr>\n",
       "    <tr>\n",
       "      <th>204</th>\n",
       "      <td>CENTRE COLLSEROLA MUTUAL</td>\n",
       "      <td>Barcelona</td>\n",
       "      <td>80193</td>\n",
       "      <td>34</td>\n",
       "      <td>GERIATRÍA Y/O LARGA ESTANCIA</td>\n",
       "      <td>PRIVADO NO BENÉFICO</td>\n",
       "      <td>41.435010</td>\n",
       "      <td>2.147063</td>\n",
       "    </tr>\n",
       "  </tbody>\n",
       "</table>\n",
       "</div>"
      ],
      "text/plain": [
       "                                         hospital_name  \\\n",
       "386      HOSPITAL RICARDO BERMINGHAM (FUNDACIÓN MATIA)   \n",
       "126             CENTRE MÈDIC SANT JORDI DE SANT ANDREU   \n",
       "95                   HOSPITAL UNIVERSITARI SON ESPASES   \n",
       "149                                 CLÍNICA SANT JOSEP   \n",
       "646                           HOSPITAL SANTA MARIA NAI   \n",
       "602          HOSPITAL VALLE DEL GUADALHORCE DE CÁRTAMA   \n",
       "833  HOSPITAL PROVINCIAL NUESTRA SEÑORA DE LA MISER...   \n",
       "775                 HOSPITAL QUIRONSALUD INFANTA LUISA   \n",
       "825  UNITAT DE REFERÈNCIA DE PSIQUIATRIA I TRASTORN...   \n",
       "204                           CENTRE COLLSEROLA MUTUAL   \n",
       "\n",
       "               municipality    cmun  n_beds                          type  \\\n",
       "386  Donostia/San Sebastián  200697     105  GERIATRÍA Y/O LARGA ESTANCIA   \n",
       "126               Barcelona   80193      57                       GENERAL   \n",
       "95        Palma de Mallorca   70407     839                       GENERAL   \n",
       "149                 Manresa   81136      95                       GENERAL   \n",
       "646                 Ourense  320548       0                       GENERAL   \n",
       "602                 Cártama  290385       0                       GENERAL   \n",
       "833                  Toledo  451685       0                       GENERAL   \n",
       "775                 Sevilla  410917     139                       GENERAL   \n",
       "825                    Reus  431233      20                  PSIQUIÁTRICO   \n",
       "204               Barcelona   80193      34  GERIATRÍA Y/O LARGA ESTANCIA   \n",
       "\n",
       "                management   latitude  longitude  \n",
       "386  OTRO PRIVADO BENÉFICO  43.303946  -2.001225  \n",
       "126    PRIVADO NO BENÉFICO  41.436230   2.192942  \n",
       "95        SEGURIDAD SOCIAL  39.607233   2.644755  \n",
       "149  OTRO PRIVADO BENÉFICO  41.722743   1.831829  \n",
       "646     ENTIDADES PÚBLICAS  42.327011  -7.858838  \n",
       "602     COMUNIDAD AUTÓNOMA  36.714875  -4.651688  \n",
       "833   DIPUTACIÓN O CABILDO  39.861311  -4.014511  \n",
       "775    PRIVADO NO BENÉFICO  37.381500  -6.008345  \n",
       "825    PRIVADO NO BENÉFICO  41.144428   1.122489  \n",
       "204    PRIVADO NO BENÉFICO  41.435010   2.147063  "
      ]
     },
     "execution_count": 6,
     "metadata": {},
     "output_type": "execute_result"
    }
   ],
   "source": [
    "df.sample(10)"
   ]
  },
  {
   "cell_type": "code",
   "execution_count": 7,
   "metadata": {
    "execution": {
     "iopub.execute_input": "2025-02-17T09:35:34.705787Z",
     "iopub.status.busy": "2025-02-17T09:35:34.705706Z",
     "iopub.status.idle": "2025-02-17T09:35:34.708817Z",
     "shell.execute_reply": "2025-02-17T09:35:34.708568Z"
    }
   },
   "outputs": [],
   "source": [
    "df['hospital_name'] =df['hospital_name'].str.title()\n",
    "df['municipality'] = df['municipality'].str.lower()\n",
    "df['type'] = df['type'].str.capitalize()\n",
    "df['management'] = df['management'].str.title()"
   ]
  },
  {
   "cell_type": "code",
   "execution_count": 8,
   "metadata": {
    "execution": {
     "iopub.execute_input": "2025-02-17T09:35:34.709959Z",
     "iopub.status.busy": "2025-02-17T09:35:34.709871Z",
     "iopub.status.idle": "2025-02-17T09:35:34.712305Z",
     "shell.execute_reply": "2025-02-17T09:35:34.712049Z"
    }
   },
   "outputs": [
    {
     "data": {
      "text/plain": [
       "array(['Psiquiátrico', 'Médico-quirúrgico', 'General',\n",
       "       'Geriatría y/o larga estancia', 'Rehabilitación psicofísica',\n",
       "       'Materno-infantil', 'Quirúrgico',\n",
       "       'Traumatología y/o rehabilitación', 'Otra finalidad', 'Infantil',\n",
       "       'Otros monográficos', 'Oftálmico u orl', 'Oncológico', 'Maternal'],\n",
       "      dtype=object)"
      ]
     },
     "execution_count": 8,
     "metadata": {},
     "output_type": "execute_result"
    }
   ],
   "source": [
    "df[\"type\"].unique()"
   ]
  },
  {
   "cell_type": "code",
   "execution_count": 9,
   "metadata": {
    "execution": {
     "iopub.execute_input": "2025-02-17T09:35:34.713551Z",
     "iopub.status.busy": "2025-02-17T09:35:34.713481Z",
     "iopub.status.idle": "2025-02-17T09:35:34.715372Z",
     "shell.execute_reply": "2025-02-17T09:35:34.715154Z"
    }
   },
   "outputs": [],
   "source": [
    "translation_dict = {\n",
    "    'Psiquiátrico': 'Psychiatric',\n",
    "    'Médico-quirúrgico': 'Medical-surgical',\n",
    "    'General': 'General',\n",
    "    'Geriatría y/o larga estancia': 'Geriatrics and/or long-term care',\n",
    "    'Rehabilitación psicofísica': 'Psychophysical rehabilitation',\n",
    "    'Materno-infantil': 'Maternal-infant',\n",
    "    'Quirúrgico': 'Surgical',\n",
    "    'Traumatología y/o rehabilitación': 'Traumatology and/or rehabilitation',\n",
    "    'Otra finalidad': 'Other purpose',\n",
    "    'Infantil': 'Pediatric',\n",
    "    'Otros monográficos': 'Other specialized',\n",
    "    'Oftálmico u orl': 'Ophthalmologic or ENT',\n",
    "    'Oncológico': 'Oncological',\n",
    "    'Maternal': 'Maternity'\n",
    "}\n"
   ]
  },
  {
   "cell_type": "code",
   "execution_count": 10,
   "metadata": {
    "execution": {
     "iopub.execute_input": "2025-02-17T09:35:34.716612Z",
     "iopub.status.busy": "2025-02-17T09:35:34.716525Z",
     "iopub.status.idle": "2025-02-17T09:35:34.718604Z",
     "shell.execute_reply": "2025-02-17T09:35:34.718386Z"
    }
   },
   "outputs": [],
   "source": [
    "df['type'] = df['type'].map(translation_dict)"
   ]
  },
  {
   "cell_type": "code",
   "execution_count": 11,
   "metadata": {
    "execution": {
     "iopub.execute_input": "2025-02-17T09:35:34.719728Z",
     "iopub.status.busy": "2025-02-17T09:35:34.719664Z",
     "iopub.status.idle": "2025-02-17T09:35:34.721785Z",
     "shell.execute_reply": "2025-02-17T09:35:34.721565Z"
    }
   },
   "outputs": [
    {
     "data": {
      "text/plain": [
       "array(['Comunidad Autónoma', 'Privado No Benéfico', 'Seguridad Social',\n",
       "       'Diputación O Cabildo', 'Otro Privado Benéfico',\n",
       "       'Ministerio De Interior', 'Entidades Públicas',\n",
       "       'Privado-Benéfico (Iglesia)', 'Municipio', 'Matep',\n",
       "       'Privado-Benéfico (Cruz Roja)', 'Otra Dependencia Patrimonial',\n",
       "       'Ministerio De Defensa'], dtype=object)"
      ]
     },
     "execution_count": 11,
     "metadata": {},
     "output_type": "execute_result"
    }
   ],
   "source": [
    "df[\"management\"].unique()"
   ]
  },
  {
   "cell_type": "code",
   "execution_count": 12,
   "metadata": {
    "execution": {
     "iopub.execute_input": "2025-02-17T09:35:34.722810Z",
     "iopub.status.busy": "2025-02-17T09:35:34.722741Z",
     "iopub.status.idle": "2025-02-17T09:35:34.724508Z",
     "shell.execute_reply": "2025-02-17T09:35:34.724267Z"
    }
   },
   "outputs": [],
   "source": [
    "management_translation_dict = {\n",
    "    'Comunidad Autónoma': 'Autonomous Community',\n",
    "    'Privado No Benéfico': 'Private Non-Profit',\n",
    "    'Seguridad Social': 'Social Security',\n",
    "    'Diputación O Cabildo': 'Provincial Council or Island Council',\n",
    "    'Otro Privado Benéfico': 'Other Private Non-Profit',\n",
    "    'Ministerio De Interior': 'Ministry of Interior',\n",
    "    'Entidades Públicas': 'Public Entities',\n",
    "    'Privado-Benéfico (Iglesia)': 'Private Non-Profit (Church)',\n",
    "    'Municipio': 'Municipality',\n",
    "    'Matep': 'Matep',  # Assuming Matep is a specific term or acronym.\n",
    "    'Privado-Benéfico (Cruz Roja)': 'Private Non-Profit (Red Cross)',\n",
    "    'Otra Dependencia Patrimonial': 'Other Patrimonial Dependency',\n",
    "    'Ministerio De Defensa': 'Ministry of Defense'\n",
    "}\n"
   ]
  },
  {
   "cell_type": "code",
   "execution_count": 13,
   "metadata": {
    "execution": {
     "iopub.execute_input": "2025-02-17T09:35:34.725456Z",
     "iopub.status.busy": "2025-02-17T09:35:34.725392Z",
     "iopub.status.idle": "2025-02-17T09:35:34.727257Z",
     "shell.execute_reply": "2025-02-17T09:35:34.727026Z"
    }
   },
   "outputs": [],
   "source": [
    "df['management'] = df['management'].map(management_translation_dict)"
   ]
  },
  {
   "cell_type": "code",
   "execution_count": 14,
   "metadata": {
    "execution": {
     "iopub.execute_input": "2025-02-17T09:35:34.728291Z",
     "iopub.status.busy": "2025-02-17T09:35:34.728213Z",
     "iopub.status.idle": "2025-02-17T09:35:34.731611Z",
     "shell.execute_reply": "2025-02-17T09:35:34.731349Z"
    }
   },
   "outputs": [
    {
     "data": {
      "text/html": [
       "<div>\n",
       "<style scoped>\n",
       "    .dataframe tbody tr th:only-of-type {\n",
       "        vertical-align: middle;\n",
       "    }\n",
       "\n",
       "    .dataframe tbody tr th {\n",
       "        vertical-align: top;\n",
       "    }\n",
       "\n",
       "    .dataframe thead th {\n",
       "        text-align: right;\n",
       "    }\n",
       "</style>\n",
       "<table border=\"1\" class=\"dataframe\">\n",
       "  <thead>\n",
       "    <tr style=\"text-align: right;\">\n",
       "      <th></th>\n",
       "      <th>hospital_name</th>\n",
       "      <th>municipality</th>\n",
       "      <th>cmun</th>\n",
       "      <th>n_beds</th>\n",
       "      <th>type</th>\n",
       "      <th>management</th>\n",
       "      <th>latitude</th>\n",
       "      <th>longitude</th>\n",
       "    </tr>\n",
       "  </thead>\n",
       "  <tbody>\n",
       "    <tr>\n",
       "      <th>0</th>\n",
       "      <td>Red De Salud Mental De Araba (Hospital Psiquiá...</td>\n",
       "      <td>vitoria-gasteiz</td>\n",
       "      <td>10590</td>\n",
       "      <td>207</td>\n",
       "      <td>Psychiatric</td>\n",
       "      <td>Autonomous Community</td>\n",
       "      <td>42.835656</td>\n",
       "      <td>-2.678612</td>\n",
       "    </tr>\n",
       "    <tr>\n",
       "      <th>1</th>\n",
       "      <td>Hospital San José</td>\n",
       "      <td>vitoria-gasteiz</td>\n",
       "      <td>10590</td>\n",
       "      <td>63</td>\n",
       "      <td>Medical-surgical</td>\n",
       "      <td>Private Non-Profit</td>\n",
       "      <td>42.849661</td>\n",
       "      <td>-2.676640</td>\n",
       "    </tr>\n",
       "    <tr>\n",
       "      <th>2</th>\n",
       "      <td>Hospital Quirónsalud Vitoria</td>\n",
       "      <td>vitoria-gasteiz</td>\n",
       "      <td>10590</td>\n",
       "      <td>26</td>\n",
       "      <td>General</td>\n",
       "      <td>Private Non-Profit</td>\n",
       "      <td>42.849761</td>\n",
       "      <td>-2.668035</td>\n",
       "    </tr>\n",
       "    <tr>\n",
       "      <th>3</th>\n",
       "      <td>Hospital De Cuidados San Onofre, S.L. (Hospita...</td>\n",
       "      <td>vitoria-gasteiz</td>\n",
       "      <td>10590</td>\n",
       "      <td>82</td>\n",
       "      <td>Geriatrics and/or long-term care</td>\n",
       "      <td>Private Non-Profit</td>\n",
       "      <td>42.837582</td>\n",
       "      <td>-2.680386</td>\n",
       "    </tr>\n",
       "    <tr>\n",
       "      <th>4</th>\n",
       "      <td>Hospital De Leza</td>\n",
       "      <td>laguardia</td>\n",
       "      <td>10318</td>\n",
       "      <td>63</td>\n",
       "      <td>General</td>\n",
       "      <td>Autonomous Community</td>\n",
       "      <td>42.575989</td>\n",
       "      <td>-2.638635</td>\n",
       "    </tr>\n",
       "  </tbody>\n",
       "</table>\n",
       "</div>"
      ],
      "text/plain": [
       "                                       hospital_name     municipality   cmun  \\\n",
       "0  Red De Salud Mental De Araba (Hospital Psiquiá...  vitoria-gasteiz  10590   \n",
       "1                                  Hospital San José  vitoria-gasteiz  10590   \n",
       "2                       Hospital Quirónsalud Vitoria  vitoria-gasteiz  10590   \n",
       "3  Hospital De Cuidados San Onofre, S.L. (Hospita...  vitoria-gasteiz  10590   \n",
       "4                                   Hospital De Leza        laguardia  10318   \n",
       "\n",
       "   n_beds                              type            management   latitude  \\\n",
       "0     207                       Psychiatric  Autonomous Community  42.835656   \n",
       "1      63                  Medical-surgical    Private Non-Profit  42.849661   \n",
       "2      26                           General    Private Non-Profit  42.849761   \n",
       "3      82  Geriatrics and/or long-term care    Private Non-Profit  42.837582   \n",
       "4      63                           General  Autonomous Community  42.575989   \n",
       "\n",
       "   longitude  \n",
       "0  -2.678612  \n",
       "1  -2.676640  \n",
       "2  -2.668035  \n",
       "3  -2.680386  \n",
       "4  -2.638635  "
      ]
     },
     "execution_count": 14,
     "metadata": {},
     "output_type": "execute_result"
    }
   ],
   "source": [
    "df.head()"
   ]
  },
  {
   "cell_type": "code",
   "execution_count": 15,
   "metadata": {
    "execution": {
     "iopub.execute_input": "2025-02-17T09:35:34.732849Z",
     "iopub.status.busy": "2025-02-17T09:35:34.732778Z",
     "iopub.status.idle": "2025-02-17T09:35:34.737345Z",
     "shell.execute_reply": "2025-02-17T09:35:34.737125Z"
    }
   },
   "outputs": [
    {
     "data": {
      "text/html": [
       "<div>\n",
       "<style scoped>\n",
       "    .dataframe tbody tr th:only-of-type {\n",
       "        vertical-align: middle;\n",
       "    }\n",
       "\n",
       "    .dataframe tbody tr th {\n",
       "        vertical-align: top;\n",
       "    }\n",
       "\n",
       "    .dataframe thead th {\n",
       "        text-align: right;\n",
       "    }\n",
       "</style>\n",
       "<table border=\"1\" class=\"dataframe\">\n",
       "  <thead>\n",
       "    <tr style=\"text-align: right;\">\n",
       "      <th></th>\n",
       "      <th>hospital_name</th>\n",
       "      <th>municipality</th>\n",
       "      <th>cmun</th>\n",
       "      <th>n_beds</th>\n",
       "      <th>type</th>\n",
       "      <th>management</th>\n",
       "      <th>latitude</th>\n",
       "      <th>longitude</th>\n",
       "    </tr>\n",
       "  </thead>\n",
       "  <tbody>\n",
       "    <tr>\n",
       "      <th>0</th>\n",
       "      <td>Red De Salud Mental De Araba (Hospital Psiquiá...</td>\n",
       "      <td>vitoria-gasteiz</td>\n",
       "      <td>10590</td>\n",
       "      <td>207</td>\n",
       "      <td>Psychiatric</td>\n",
       "      <td>Autonomous Community</td>\n",
       "      <td>42.835656</td>\n",
       "      <td>-2.678612</td>\n",
       "    </tr>\n",
       "    <tr>\n",
       "      <th>1</th>\n",
       "      <td>Hospital San José</td>\n",
       "      <td>vitoria-gasteiz</td>\n",
       "      <td>10590</td>\n",
       "      <td>63</td>\n",
       "      <td>Medical-surgical</td>\n",
       "      <td>Private Non-Profit</td>\n",
       "      <td>42.849661</td>\n",
       "      <td>-2.676640</td>\n",
       "    </tr>\n",
       "    <tr>\n",
       "      <th>2</th>\n",
       "      <td>Hospital Quirónsalud Vitoria</td>\n",
       "      <td>vitoria-gasteiz</td>\n",
       "      <td>10590</td>\n",
       "      <td>26</td>\n",
       "      <td>General</td>\n",
       "      <td>Private Non-Profit</td>\n",
       "      <td>42.849761</td>\n",
       "      <td>-2.668035</td>\n",
       "    </tr>\n",
       "    <tr>\n",
       "      <th>3</th>\n",
       "      <td>Hospital De Cuidados San Onofre, S.L. (Hospita...</td>\n",
       "      <td>vitoria-gasteiz</td>\n",
       "      <td>10590</td>\n",
       "      <td>82</td>\n",
       "      <td>Geriatrics and/or long-term care</td>\n",
       "      <td>Private Non-Profit</td>\n",
       "      <td>42.837582</td>\n",
       "      <td>-2.680386</td>\n",
       "    </tr>\n",
       "    <tr>\n",
       "      <th>4</th>\n",
       "      <td>Hospital De Leza</td>\n",
       "      <td>laguardia</td>\n",
       "      <td>10318</td>\n",
       "      <td>63</td>\n",
       "      <td>General</td>\n",
       "      <td>Autonomous Community</td>\n",
       "      <td>42.575989</td>\n",
       "      <td>-2.638635</td>\n",
       "    </tr>\n",
       "    <tr>\n",
       "      <th>...</th>\n",
       "      <td>...</td>\n",
       "      <td>...</td>\n",
       "      <td>...</td>\n",
       "      <td>...</td>\n",
       "      <td>...</td>\n",
       "      <td>...</td>\n",
       "      <td>...</td>\n",
       "      <td>...</td>\n",
       "    </tr>\n",
       "    <tr>\n",
       "      <th>919</th>\n",
       "      <td>Hospital De Rehabilitacion Psiquiatrica Prisma</td>\n",
       "      <td>zaragoza</td>\n",
       "      <td>502973</td>\n",
       "      <td>50</td>\n",
       "      <td>Psychiatric</td>\n",
       "      <td>Private Non-Profit</td>\n",
       "      <td>41.711449</td>\n",
       "      <td>-0.841290</td>\n",
       "    </tr>\n",
       "    <tr>\n",
       "      <th>920</th>\n",
       "      <td>Centro Sanitario Cinco Villas</td>\n",
       "      <td>ejea de los caballeros</td>\n",
       "      <td>500956</td>\n",
       "      <td>32</td>\n",
       "      <td>Other purpose</td>\n",
       "      <td>Autonomous Community</td>\n",
       "      <td>42.126721</td>\n",
       "      <td>-1.125290</td>\n",
       "    </tr>\n",
       "    <tr>\n",
       "      <th>921</th>\n",
       "      <td>Hospital Viamed Montecanal</td>\n",
       "      <td>zaragoza</td>\n",
       "      <td>502973</td>\n",
       "      <td>68</td>\n",
       "      <td>General</td>\n",
       "      <td>Private Non-Profit</td>\n",
       "      <td>41.639042</td>\n",
       "      <td>-0.948738</td>\n",
       "    </tr>\n",
       "    <tr>\n",
       "      <th>922</th>\n",
       "      <td>Hospital Universitario De Ceuta</td>\n",
       "      <td>ceuta</td>\n",
       "      <td>510013</td>\n",
       "      <td>252</td>\n",
       "      <td>General</td>\n",
       "      <td>Social Security</td>\n",
       "      <td>35.880332</td>\n",
       "      <td>-5.341853</td>\n",
       "    </tr>\n",
       "    <tr>\n",
       "      <th>923</th>\n",
       "      <td>Hospital Comarcal</td>\n",
       "      <td>melilla</td>\n",
       "      <td>520018</td>\n",
       "      <td>168</td>\n",
       "      <td>General</td>\n",
       "      <td>Social Security</td>\n",
       "      <td>35.286308</td>\n",
       "      <td>-2.947355</td>\n",
       "    </tr>\n",
       "  </tbody>\n",
       "</table>\n",
       "<p>924 rows × 8 columns</p>\n",
       "</div>"
      ],
      "text/plain": [
       "                                         hospital_name  \\\n",
       "0    Red De Salud Mental De Araba (Hospital Psiquiá...   \n",
       "1                                    Hospital San José   \n",
       "2                         Hospital Quirónsalud Vitoria   \n",
       "3    Hospital De Cuidados San Onofre, S.L. (Hospita...   \n",
       "4                                     Hospital De Leza   \n",
       "..                                                 ...   \n",
       "919     Hospital De Rehabilitacion Psiquiatrica Prisma   \n",
       "920                      Centro Sanitario Cinco Villas   \n",
       "921                         Hospital Viamed Montecanal   \n",
       "922                    Hospital Universitario De Ceuta   \n",
       "923                                  Hospital Comarcal   \n",
       "\n",
       "               municipality    cmun  n_beds                              type  \\\n",
       "0           vitoria-gasteiz   10590     207                       Psychiatric   \n",
       "1           vitoria-gasteiz   10590      63                  Medical-surgical   \n",
       "2           vitoria-gasteiz   10590      26                           General   \n",
       "3           vitoria-gasteiz   10590      82  Geriatrics and/or long-term care   \n",
       "4                 laguardia   10318      63                           General   \n",
       "..                      ...     ...     ...                               ...   \n",
       "919                zaragoza  502973      50                       Psychiatric   \n",
       "920  ejea de los caballeros  500956      32                     Other purpose   \n",
       "921                zaragoza  502973      68                           General   \n",
       "922                   ceuta  510013     252                           General   \n",
       "923                 melilla  520018     168                           General   \n",
       "\n",
       "               management   latitude  longitude  \n",
       "0    Autonomous Community  42.835656  -2.678612  \n",
       "1      Private Non-Profit  42.849661  -2.676640  \n",
       "2      Private Non-Profit  42.849761  -2.668035  \n",
       "3      Private Non-Profit  42.837582  -2.680386  \n",
       "4    Autonomous Community  42.575989  -2.638635  \n",
       "..                    ...        ...        ...  \n",
       "919    Private Non-Profit  41.711449  -0.841290  \n",
       "920  Autonomous Community  42.126721  -1.125290  \n",
       "921    Private Non-Profit  41.639042  -0.948738  \n",
       "922       Social Security  35.880332  -5.341853  \n",
       "923       Social Security  35.286308  -2.947355  \n",
       "\n",
       "[924 rows x 8 columns]"
      ]
     },
     "execution_count": 15,
     "metadata": {},
     "output_type": "execute_result"
    }
   ],
   "source": [
    "df"
   ]
  },
  {
   "cell_type": "code",
   "execution_count": 16,
   "metadata": {
    "execution": {
     "iopub.execute_input": "2025-02-17T09:35:34.738347Z",
     "iopub.status.busy": "2025-02-17T09:35:34.738290Z",
     "iopub.status.idle": "2025-02-17T09:35:34.740347Z",
     "shell.execute_reply": "2025-02-17T09:35:34.740144Z"
    }
   },
   "outputs": [],
   "source": [
    "df[\"cmun\"] = df[\"cmun\"].apply(lambda x: int(str(x)[:-1]) if len(str(x)) > 5 else x)\n"
   ]
  },
  {
   "cell_type": "code",
   "execution_count": 17,
   "metadata": {
    "execution": {
     "iopub.execute_input": "2025-02-17T09:35:34.741623Z",
     "iopub.status.busy": "2025-02-17T09:35:34.741542Z",
     "iopub.status.idle": "2025-02-17T09:35:34.745520Z",
     "shell.execute_reply": "2025-02-17T09:35:34.745278Z"
    }
   },
   "outputs": [
    {
     "data": {
      "text/html": [
       "<div>\n",
       "<style scoped>\n",
       "    .dataframe tbody tr th:only-of-type {\n",
       "        vertical-align: middle;\n",
       "    }\n",
       "\n",
       "    .dataframe tbody tr th {\n",
       "        vertical-align: top;\n",
       "    }\n",
       "\n",
       "    .dataframe thead th {\n",
       "        text-align: right;\n",
       "    }\n",
       "</style>\n",
       "<table border=\"1\" class=\"dataframe\">\n",
       "  <thead>\n",
       "    <tr style=\"text-align: right;\">\n",
       "      <th></th>\n",
       "      <th>hospital_name</th>\n",
       "      <th>municipality</th>\n",
       "      <th>cmun</th>\n",
       "      <th>n_beds</th>\n",
       "      <th>type</th>\n",
       "      <th>management</th>\n",
       "      <th>latitude</th>\n",
       "      <th>longitude</th>\n",
       "    </tr>\n",
       "  </thead>\n",
       "  <tbody>\n",
       "    <tr>\n",
       "      <th>0</th>\n",
       "      <td>Red De Salud Mental De Araba (Hospital Psiquiá...</td>\n",
       "      <td>vitoria-gasteiz</td>\n",
       "      <td>10590</td>\n",
       "      <td>207</td>\n",
       "      <td>Psychiatric</td>\n",
       "      <td>Autonomous Community</td>\n",
       "      <td>42.835656</td>\n",
       "      <td>-2.678612</td>\n",
       "    </tr>\n",
       "    <tr>\n",
       "      <th>1</th>\n",
       "      <td>Hospital San José</td>\n",
       "      <td>vitoria-gasteiz</td>\n",
       "      <td>10590</td>\n",
       "      <td>63</td>\n",
       "      <td>Medical-surgical</td>\n",
       "      <td>Private Non-Profit</td>\n",
       "      <td>42.849661</td>\n",
       "      <td>-2.676640</td>\n",
       "    </tr>\n",
       "    <tr>\n",
       "      <th>2</th>\n",
       "      <td>Hospital Quirónsalud Vitoria</td>\n",
       "      <td>vitoria-gasteiz</td>\n",
       "      <td>10590</td>\n",
       "      <td>26</td>\n",
       "      <td>General</td>\n",
       "      <td>Private Non-Profit</td>\n",
       "      <td>42.849761</td>\n",
       "      <td>-2.668035</td>\n",
       "    </tr>\n",
       "    <tr>\n",
       "      <th>3</th>\n",
       "      <td>Hospital De Cuidados San Onofre, S.L. (Hospita...</td>\n",
       "      <td>vitoria-gasteiz</td>\n",
       "      <td>10590</td>\n",
       "      <td>82</td>\n",
       "      <td>Geriatrics and/or long-term care</td>\n",
       "      <td>Private Non-Profit</td>\n",
       "      <td>42.837582</td>\n",
       "      <td>-2.680386</td>\n",
       "    </tr>\n",
       "    <tr>\n",
       "      <th>4</th>\n",
       "      <td>Hospital De Leza</td>\n",
       "      <td>laguardia</td>\n",
       "      <td>10318</td>\n",
       "      <td>63</td>\n",
       "      <td>General</td>\n",
       "      <td>Autonomous Community</td>\n",
       "      <td>42.575989</td>\n",
       "      <td>-2.638635</td>\n",
       "    </tr>\n",
       "    <tr>\n",
       "      <th>...</th>\n",
       "      <td>...</td>\n",
       "      <td>...</td>\n",
       "      <td>...</td>\n",
       "      <td>...</td>\n",
       "      <td>...</td>\n",
       "      <td>...</td>\n",
       "      <td>...</td>\n",
       "      <td>...</td>\n",
       "    </tr>\n",
       "    <tr>\n",
       "      <th>919</th>\n",
       "      <td>Hospital De Rehabilitacion Psiquiatrica Prisma</td>\n",
       "      <td>zaragoza</td>\n",
       "      <td>50297</td>\n",
       "      <td>50</td>\n",
       "      <td>Psychiatric</td>\n",
       "      <td>Private Non-Profit</td>\n",
       "      <td>41.711449</td>\n",
       "      <td>-0.841290</td>\n",
       "    </tr>\n",
       "    <tr>\n",
       "      <th>920</th>\n",
       "      <td>Centro Sanitario Cinco Villas</td>\n",
       "      <td>ejea de los caballeros</td>\n",
       "      <td>50095</td>\n",
       "      <td>32</td>\n",
       "      <td>Other purpose</td>\n",
       "      <td>Autonomous Community</td>\n",
       "      <td>42.126721</td>\n",
       "      <td>-1.125290</td>\n",
       "    </tr>\n",
       "    <tr>\n",
       "      <th>921</th>\n",
       "      <td>Hospital Viamed Montecanal</td>\n",
       "      <td>zaragoza</td>\n",
       "      <td>50297</td>\n",
       "      <td>68</td>\n",
       "      <td>General</td>\n",
       "      <td>Private Non-Profit</td>\n",
       "      <td>41.639042</td>\n",
       "      <td>-0.948738</td>\n",
       "    </tr>\n",
       "    <tr>\n",
       "      <th>922</th>\n",
       "      <td>Hospital Universitario De Ceuta</td>\n",
       "      <td>ceuta</td>\n",
       "      <td>51001</td>\n",
       "      <td>252</td>\n",
       "      <td>General</td>\n",
       "      <td>Social Security</td>\n",
       "      <td>35.880332</td>\n",
       "      <td>-5.341853</td>\n",
       "    </tr>\n",
       "    <tr>\n",
       "      <th>923</th>\n",
       "      <td>Hospital Comarcal</td>\n",
       "      <td>melilla</td>\n",
       "      <td>52001</td>\n",
       "      <td>168</td>\n",
       "      <td>General</td>\n",
       "      <td>Social Security</td>\n",
       "      <td>35.286308</td>\n",
       "      <td>-2.947355</td>\n",
       "    </tr>\n",
       "  </tbody>\n",
       "</table>\n",
       "<p>924 rows × 8 columns</p>\n",
       "</div>"
      ],
      "text/plain": [
       "                                         hospital_name  \\\n",
       "0    Red De Salud Mental De Araba (Hospital Psiquiá...   \n",
       "1                                    Hospital San José   \n",
       "2                         Hospital Quirónsalud Vitoria   \n",
       "3    Hospital De Cuidados San Onofre, S.L. (Hospita...   \n",
       "4                                     Hospital De Leza   \n",
       "..                                                 ...   \n",
       "919     Hospital De Rehabilitacion Psiquiatrica Prisma   \n",
       "920                      Centro Sanitario Cinco Villas   \n",
       "921                         Hospital Viamed Montecanal   \n",
       "922                    Hospital Universitario De Ceuta   \n",
       "923                                  Hospital Comarcal   \n",
       "\n",
       "               municipality   cmun  n_beds                              type  \\\n",
       "0           vitoria-gasteiz  10590     207                       Psychiatric   \n",
       "1           vitoria-gasteiz  10590      63                  Medical-surgical   \n",
       "2           vitoria-gasteiz  10590      26                           General   \n",
       "3           vitoria-gasteiz  10590      82  Geriatrics and/or long-term care   \n",
       "4                 laguardia  10318      63                           General   \n",
       "..                      ...    ...     ...                               ...   \n",
       "919                zaragoza  50297      50                       Psychiatric   \n",
       "920  ejea de los caballeros  50095      32                     Other purpose   \n",
       "921                zaragoza  50297      68                           General   \n",
       "922                   ceuta  51001     252                           General   \n",
       "923                 melilla  52001     168                           General   \n",
       "\n",
       "               management   latitude  longitude  \n",
       "0    Autonomous Community  42.835656  -2.678612  \n",
       "1      Private Non-Profit  42.849661  -2.676640  \n",
       "2      Private Non-Profit  42.849761  -2.668035  \n",
       "3      Private Non-Profit  42.837582  -2.680386  \n",
       "4    Autonomous Community  42.575989  -2.638635  \n",
       "..                    ...        ...        ...  \n",
       "919    Private Non-Profit  41.711449  -0.841290  \n",
       "920  Autonomous Community  42.126721  -1.125290  \n",
       "921    Private Non-Profit  41.639042  -0.948738  \n",
       "922       Social Security  35.880332  -5.341853  \n",
       "923       Social Security  35.286308  -2.947355  \n",
       "\n",
       "[924 rows x 8 columns]"
      ]
     },
     "execution_count": 17,
     "metadata": {},
     "output_type": "execute_result"
    }
   ],
   "source": [
    "df"
   ]
  },
  {
   "cell_type": "code",
   "execution_count": 18,
   "metadata": {
    "execution": {
     "iopub.execute_input": "2025-02-17T09:35:34.746586Z",
     "iopub.status.busy": "2025-02-17T09:35:34.746525Z",
     "iopub.status.idle": "2025-02-17T09:35:34.748458Z",
     "shell.execute_reply": "2025-02-17T09:35:34.748211Z"
    }
   },
   "outputs": [],
   "source": [
    "df = df[[\"cmun\", \"hospital_name\", \"n_beds\", \"type\", \"management\", \"latitude\", \"longitude\"]]"
   ]
  },
  {
   "cell_type": "code",
   "execution_count": 19,
   "metadata": {
    "execution": {
     "iopub.execute_input": "2025-02-17T09:35:34.749347Z",
     "iopub.status.busy": "2025-02-17T09:35:34.749292Z",
     "iopub.status.idle": "2025-02-17T09:35:34.751542Z",
     "shell.execute_reply": "2025-02-17T09:35:34.751346Z"
    }
   },
   "outputs": [
    {
     "data": {
      "text/plain": [
       "cmun             0\n",
       "hospital_name    0\n",
       "n_beds           0\n",
       "type             0\n",
       "management       0\n",
       "latitude         0\n",
       "longitude        0\n",
       "dtype: int64"
      ]
     },
     "execution_count": 19,
     "metadata": {},
     "output_type": "execute_result"
    }
   ],
   "source": [
    "df.isna().sum()"
   ]
  },
  {
   "cell_type": "code",
   "execution_count": 21,
   "metadata": {
    "execution": {
     "iopub.execute_input": "2025-02-17T09:35:34.752534Z",
     "iopub.status.busy": "2025-02-17T09:35:34.752457Z",
     "iopub.status.idle": "2025-02-17T09:35:34.756708Z",
     "shell.execute_reply": "2025-02-17T09:35:34.756459Z"
    }
   },
   "outputs": [],
   "source": [
    "df.to_csv(\"../../data/processed/filtered_files/filtered_hospitals.csv\", index=False)"
   ]
  }
 ],
 "metadata": {
  "kernelspec": {
   "display_name": ".venv",
   "language": "python",
   "name": "python3"
  },
  "language_info": {
   "codemirror_mode": {
    "name": "ipython",
    "version": 3
   },
   "file_extension": ".py",
   "mimetype": "text/x-python",
   "name": "python",
   "nbconvert_exporter": "python",
   "pygments_lexer": "ipython3",
   "version": "3.11.3"
  }
 },
 "nbformat": 4,
 "nbformat_minor": 2
}
