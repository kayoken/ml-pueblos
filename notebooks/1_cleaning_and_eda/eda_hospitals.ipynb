{
 "cells": [
  {
   "cell_type": "code",
   "execution_count": 1,
   "metadata": {
    "execution": {
     "iopub.execute_input": "2025-03-04T13:23:26.952511Z",
     "iopub.status.busy": "2025-03-04T13:23:26.952285Z",
     "iopub.status.idle": "2025-03-04T13:23:27.357069Z",
     "shell.execute_reply": "2025-03-04T13:23:27.356771Z"
    }
   },
   "outputs": [],
   "source": [
    "import pandas as pd"
   ]
  },
  {
   "cell_type": "code",
   "execution_count": 2,
   "metadata": {
    "execution": {
     "iopub.execute_input": "2025-03-04T13:23:27.358370Z",
     "iopub.status.busy": "2025-03-04T13:23:27.358239Z",
     "iopub.status.idle": "2025-03-04T13:23:27.367081Z",
     "shell.execute_reply": "2025-03-04T13:23:27.366751Z"
    }
   },
   "outputs": [
    {
     "data": {
      "text/plain": [
       "Index(['OBJECTID', 'CODCNH', 'NOMBRE', 'DIRECCION', 'TELEFONO', 'TELEFONO2',\n",
       "       'TELEFAX', 'CODMU', 'MUNICIPIOS', 'CODPROV', 'PROVINCIAS', 'CODAUTO',\n",
       "       'COMUNIDADES', 'CODPOSTAL', 'NCAMAS', 'CODFI', 'FINALIDAD_ASISITENCIAL',\n",
       "       'CODPAT', 'DEPENDENCIA_PATRIMONIAL', 'CODFU', 'DEPENDENCIA_FUNCIONAL',\n",
       "       'ACREDOCENT', 'ESCOMPLE', 'FORCOMPLE', 'CODIDCOM', 'ALTA', 'CERRADO',\n",
       "       'CAPITAL', 'CIERREFECH', 'CONCIERTO', 'EMAIL', 'TAC', 'RM', 'GAM',\n",
       "       'HEM', 'ASD', 'LIT', 'BCO', 'ALI', 'SPECT', 'PET', 'MAMOS', 'DO',\n",
       "       'DIAL', 'X', 'Y', 'CalidadGeocodificacion'],\n",
       "      dtype='object')"
      ]
     },
     "execution_count": 2,
     "metadata": {},
     "output_type": "execute_result"
    }
   ],
   "source": [
    "df = pd.read_csv(\"../../data/raw/hospitals_spain.csv\")\n",
    "df.columns"
   ]
  },
  {
   "cell_type": "markdown",
   "metadata": {},
   "source": [
    "The column names in the hospitals dataset are:\n",
    "\n",
    "- **Identification**\n",
    "    - `OBJECTID`: Object identifier\n",
    "    - `CODCNH`: Hospital code\n",
    "    - `NOMBRE`: Hospital name\n",
    "    - `CODIDCOM`: Community identifier code\n",
    "\n",
    "- **Contact Information**\n",
    "    - `DIRECCION`: Address\n",
    "    - `TELEFONO`: Phone\n",
    "    - `TELEFONO2`: Secondary phone\n",
    "    - `TELEFAX`: Fax\n",
    "    - `EMAIL`: Email address\n",
    "    - `CODPOSTAL`: Postal code\n",
    "\n",
    "- **Location**\n",
    "    - `CODMU`: Municipality code\n",
    "    - `MUNICIPIOS`: Municipality name \n",
    "    - `CODPROV`: Province code\n",
    "    - `PROVINCIAS`: Province name\n",
    "    - `CODAUTO`: Autonomous community code \n",
    "    - `COMUNIDADES`: Autonomous community name\n",
    "    - `X`: Longitude coordinate\n",
    "    - `Y`: Latitude coordinate\n",
    "    - `CalidadGeocodificacion`: Geocoding quality\n",
    "    - `CAPITAL`: Capital city indicator\n",
    "\n",
    "- **Hospital Information**\n",
    "    - `NCAMAS`: Number of beds\n",
    "    - `CODFI`: Healthcare purpose code\n",
    "    - `FINALIDAD_ASISITENCIAL`: Healthcare purpose description\n",
    "    - `CODPAT`: Asset ownership code\n",
    "    - `DEPENDENCIA_PATRIMONIAL`: Asset ownership description\n",
    "    - `CODFU`: Functional dependency code\n",
    "    - `DEPENDENCIA_FUNCIONAL`: Functional dependency description\n",
    "\n",
    "- **Status & Certifications**\n",
    "    - `ACREDOCENT`: Teaching accreditation\n",
    "    - `ESCOMPLE`: Complementary center\n",
    "    - `FORCOMPLE`: Complementary form\n",
    "    - `ALTA`: Active status\n",
    "    - `CERRADO`: Closed status\n",
    "    - `CIERREFECH`: Closing date\n",
    "    - `CONCIERTO`: Agreement status\n",
    "\n",
    "- **Equipment & Services**\n",
    "    - `TAC`: CT scanner\n",
    "    - `RM`: MRI\n",
    "    - `GAM`: Gamma camera\n",
    "    - `HEM`: Hemodynamics\n",
    "    - `ASD`: Assistant diagnostic systems\n",
    "    - `LIT`: Lithotripsy\n",
    "    - `BCO`: Blood bank\n",
    "    - `ALI`: Other\n",
    "    - `SPECT`: SPECT scanner\n",
    "    - `PET`: PET scanner\n",
    "    - `MAMOS`: Mammography\n",
    "    - `DO`: Other diagnostic\n",
    "    - `DIAL`: Dialysis"
   ]
  },
  {
   "cell_type": "code",
   "execution_count": 3,
   "metadata": {
    "execution": {
     "iopub.execute_input": "2025-03-04T13:23:27.368274Z",
     "iopub.status.busy": "2025-03-04T13:23:27.368175Z",
     "iopub.status.idle": "2025-03-04T13:23:27.370238Z",
     "shell.execute_reply": "2025-03-04T13:23:27.370028Z"
    }
   },
   "outputs": [
    {
     "data": {
      "text/plain": [
       "Index(['OBJECTID', 'CODCNH', 'NOMBRE', 'DIRECCION', 'TELEFONO', 'TELEFONO2',\n",
       "       'TELEFAX', 'CODMU', 'MUNICIPIOS', 'CODPROV', 'PROVINCIAS', 'CODAUTO',\n",
       "       'COMUNIDADES', 'CODPOSTAL', 'NCAMAS', 'CODFI', 'FINALIDAD_ASISITENCIAL',\n",
       "       'CODPAT', 'DEPENDENCIA_PATRIMONIAL', 'CODFU', 'DEPENDENCIA_FUNCIONAL',\n",
       "       'ACREDOCENT', 'ESCOMPLE', 'FORCOMPLE', 'CODIDCOM', 'ALTA', 'CERRADO',\n",
       "       'CAPITAL', 'CIERREFECH', 'CONCIERTO', 'EMAIL', 'TAC', 'RM', 'GAM',\n",
       "       'HEM', 'ASD', 'LIT', 'BCO', 'ALI', 'SPECT', 'PET', 'MAMOS', 'DO',\n",
       "       'DIAL', 'X', 'Y', 'CalidadGeocodificacion'],\n",
       "      dtype='object')"
      ]
     },
     "execution_count": 3,
     "metadata": {},
     "output_type": "execute_result"
    }
   ],
   "source": [
    "df.columns"
   ]
  },
  {
   "cell_type": "code",
   "execution_count": 4,
   "metadata": {
    "execution": {
     "iopub.execute_input": "2025-03-04T13:23:27.371134Z",
     "iopub.status.busy": "2025-03-04T13:23:27.371064Z",
     "iopub.status.idle": "2025-03-04T13:23:27.373053Z",
     "shell.execute_reply": "2025-03-04T13:23:27.372816Z"
    }
   },
   "outputs": [],
   "source": [
    "df.rename(columns={\"NOMBRE\": \"hospital_name\", \n",
    "                   \"CODMU\": \"cmun\",\n",
    "                   \"MUNICIPIOS\": \"municipality\", \n",
    "                   \"NCAMAS\": \"n_beds\",\n",
    "                   \"FINALIDAD_ASISITENCIAL\": \"type\", \n",
    "                   \"DEPENDENCIA_PATRIMONIAL\": \"management\",  \n",
    "                   \"X\": \"longitude\", \n",
    "                   \"Y\": \"latitude\"}, inplace=True)\n"
   ]
  },
  {
   "cell_type": "code",
   "execution_count": 5,
   "metadata": {
    "execution": {
     "iopub.execute_input": "2025-03-04T13:23:27.374031Z",
     "iopub.status.busy": "2025-03-04T13:23:27.373951Z",
     "iopub.status.idle": "2025-03-04T13:23:27.377229Z",
     "shell.execute_reply": "2025-03-04T13:23:27.376997Z"
    }
   },
   "outputs": [],
   "source": [
    "hospital_columns = [\n",
    "    'hospital_name',\n",
    "    \"municipality\",\n",
    "    'cmun',\n",
    "    'n_beds',\n",
    "    'type',\n",
    "    'management',\n",
    "    'latitude',\n",
    "    'longitude'\n",
    "]\n",
    "df = df[hospital_columns]\n"
   ]
  },
  {
   "cell_type": "code",
   "execution_count": 6,
   "metadata": {
    "execution": {
     "iopub.execute_input": "2025-03-04T13:23:27.378396Z",
     "iopub.status.busy": "2025-03-04T13:23:27.378334Z",
     "iopub.status.idle": "2025-03-04T13:23:27.383453Z",
     "shell.execute_reply": "2025-03-04T13:23:27.383242Z"
    }
   },
   "outputs": [
    {
     "data": {
      "text/html": [
       "<div>\n",
       "<style scoped>\n",
       "    .dataframe tbody tr th:only-of-type {\n",
       "        vertical-align: middle;\n",
       "    }\n",
       "\n",
       "    .dataframe tbody tr th {\n",
       "        vertical-align: top;\n",
       "    }\n",
       "\n",
       "    .dataframe thead th {\n",
       "        text-align: right;\n",
       "    }\n",
       "</style>\n",
       "<table border=\"1\" class=\"dataframe\">\n",
       "  <thead>\n",
       "    <tr style=\"text-align: right;\">\n",
       "      <th></th>\n",
       "      <th>hospital_name</th>\n",
       "      <th>municipality</th>\n",
       "      <th>cmun</th>\n",
       "      <th>n_beds</th>\n",
       "      <th>type</th>\n",
       "      <th>management</th>\n",
       "      <th>latitude</th>\n",
       "      <th>longitude</th>\n",
       "    </tr>\n",
       "  </thead>\n",
       "  <tbody>\n",
       "    <tr>\n",
       "      <th>88</th>\n",
       "      <td>CLINICA JUANEDA MAHON</td>\n",
       "      <td>Maó-Mahón</td>\n",
       "      <td>70321</td>\n",
       "      <td>18</td>\n",
       "      <td>GENERAL</td>\n",
       "      <td>PRIVADO NO BENÉFICO</td>\n",
       "      <td>39.885291</td>\n",
       "      <td>4.256293</td>\n",
       "    </tr>\n",
       "    <tr>\n",
       "      <th>368</th>\n",
       "      <td>HOSPITAL GENERAL DEL H.U. VIRGEN DE LAS NIEVES</td>\n",
       "      <td>Granada</td>\n",
       "      <td>180877</td>\n",
       "      <td>0</td>\n",
       "      <td>GENERAL</td>\n",
       "      <td>COMUNIDAD AUTÓNOMA</td>\n",
       "      <td>37.189759</td>\n",
       "      <td>-3.612516</td>\n",
       "    </tr>\n",
       "    <tr>\n",
       "      <th>609</th>\n",
       "      <td>SANATORIO DOCTOR MUÑOZ S.L.</td>\n",
       "      <td>Murcia</td>\n",
       "      <td>300308</td>\n",
       "      <td>50</td>\n",
       "      <td>PSIQUIÁTRICO</td>\n",
       "      <td>PRIVADO NO BENÉFICO</td>\n",
       "      <td>37.926461</td>\n",
       "      <td>-1.166097</td>\n",
       "    </tr>\n",
       "    <tr>\n",
       "      <th>533</th>\n",
       "      <td>HOSPITAL UNIVERSITARIO HM  MONTEPRÍNCIPE</td>\n",
       "      <td>Boadilla del Monte</td>\n",
       "      <td>280225</td>\n",
       "      <td>170</td>\n",
       "      <td>GENERAL</td>\n",
       "      <td>PRIVADO NO BENÉFICO</td>\n",
       "      <td>40.413140</td>\n",
       "      <td>-3.843965</td>\n",
       "    </tr>\n",
       "    <tr>\n",
       "      <th>464</th>\n",
       "      <td>CENTRO SOCIOSANITARIO DE CONVALECENCIA LOS JAZ...</td>\n",
       "      <td>Haro</td>\n",
       "      <td>260717</td>\n",
       "      <td>26</td>\n",
       "      <td>GERIATRÍA Y/O LARGA ESTANCIA</td>\n",
       "      <td>COMUNIDAD AUTÓNOMA</td>\n",
       "      <td>42.569420</td>\n",
       "      <td>-2.846431</td>\n",
       "    </tr>\n",
       "    <tr>\n",
       "      <th>366</th>\n",
       "      <td>CENTRE SOCIOSANITARI PARC HOSPITALARI MARTÍ I ...</td>\n",
       "      <td>Salt</td>\n",
       "      <td>171557</td>\n",
       "      <td>120</td>\n",
       "      <td>GERIATRÍA Y/O LARGA ESTANCIA</td>\n",
       "      <td>COMUNIDAD AUTÓNOMA</td>\n",
       "      <td>41.972332</td>\n",
       "      <td>2.797594</td>\n",
       "    </tr>\n",
       "    <tr>\n",
       "      <th>298</th>\n",
       "      <td>HOSPITAL SANTA BÁRBARA</td>\n",
       "      <td>Puertollano</td>\n",
       "      <td>130718</td>\n",
       "      <td>141</td>\n",
       "      <td>GENERAL</td>\n",
       "      <td>SEGURIDAD SOCIAL</td>\n",
       "      <td>38.706182</td>\n",
       "      <td>-4.110963</td>\n",
       "    </tr>\n",
       "    <tr>\n",
       "      <th>653</th>\n",
       "      <td>CLÍNICA ASTURIAS</td>\n",
       "      <td>Oviedo</td>\n",
       "      <td>330447</td>\n",
       "      <td>46</td>\n",
       "      <td>GENERAL</td>\n",
       "      <td>PRIVADO NO BENÉFICO</td>\n",
       "      <td>43.367645</td>\n",
       "      <td>-5.856092</td>\n",
       "    </tr>\n",
       "    <tr>\n",
       "      <th>859</th>\n",
       "      <td>HOSPITAL GENERAL DE REQUENA</td>\n",
       "      <td>Requena</td>\n",
       "      <td>462135</td>\n",
       "      <td>113</td>\n",
       "      <td>GENERAL</td>\n",
       "      <td>COMUNIDAD AUTÓNOMA</td>\n",
       "      <td>39.488391</td>\n",
       "      <td>-1.089556</td>\n",
       "    </tr>\n",
       "    <tr>\n",
       "      <th>489</th>\n",
       "      <td>HOSPITAL SAN RAFAEL</td>\n",
       "      <td>Madrid</td>\n",
       "      <td>280796</td>\n",
       "      <td>188</td>\n",
       "      <td>GENERAL</td>\n",
       "      <td>PRIVADO-BENÉFICO (IGLESIA)</td>\n",
       "      <td>40.451960</td>\n",
       "      <td>-3.681448</td>\n",
       "    </tr>\n",
       "  </tbody>\n",
       "</table>\n",
       "</div>"
      ],
      "text/plain": [
       "                                         hospital_name        municipality  \\\n",
       "88                               CLINICA JUANEDA MAHON           Maó-Mahón   \n",
       "368     HOSPITAL GENERAL DEL H.U. VIRGEN DE LAS NIEVES             Granada   \n",
       "609                        SANATORIO DOCTOR MUÑOZ S.L.              Murcia   \n",
       "533           HOSPITAL UNIVERSITARIO HM  MONTEPRÍNCIPE  Boadilla del Monte   \n",
       "464  CENTRO SOCIOSANITARIO DE CONVALECENCIA LOS JAZ...                Haro   \n",
       "366  CENTRE SOCIOSANITARI PARC HOSPITALARI MARTÍ I ...                Salt   \n",
       "298                             HOSPITAL SANTA BÁRBARA         Puertollano   \n",
       "653                                   CLÍNICA ASTURIAS              Oviedo   \n",
       "859                        HOSPITAL GENERAL DE REQUENA             Requena   \n",
       "489                                HOSPITAL SAN RAFAEL              Madrid   \n",
       "\n",
       "       cmun  n_beds                          type                  management  \\\n",
       "88    70321      18                       GENERAL         PRIVADO NO BENÉFICO   \n",
       "368  180877       0                       GENERAL          COMUNIDAD AUTÓNOMA   \n",
       "609  300308      50                  PSIQUIÁTRICO         PRIVADO NO BENÉFICO   \n",
       "533  280225     170                       GENERAL         PRIVADO NO BENÉFICO   \n",
       "464  260717      26  GERIATRÍA Y/O LARGA ESTANCIA          COMUNIDAD AUTÓNOMA   \n",
       "366  171557     120  GERIATRÍA Y/O LARGA ESTANCIA          COMUNIDAD AUTÓNOMA   \n",
       "298  130718     141                       GENERAL            SEGURIDAD SOCIAL   \n",
       "653  330447      46                       GENERAL         PRIVADO NO BENÉFICO   \n",
       "859  462135     113                       GENERAL          COMUNIDAD AUTÓNOMA   \n",
       "489  280796     188                       GENERAL  PRIVADO-BENÉFICO (IGLESIA)   \n",
       "\n",
       "      latitude  longitude  \n",
       "88   39.885291   4.256293  \n",
       "368  37.189759  -3.612516  \n",
       "609  37.926461  -1.166097  \n",
       "533  40.413140  -3.843965  \n",
       "464  42.569420  -2.846431  \n",
       "366  41.972332   2.797594  \n",
       "298  38.706182  -4.110963  \n",
       "653  43.367645  -5.856092  \n",
       "859  39.488391  -1.089556  \n",
       "489  40.451960  -3.681448  "
      ]
     },
     "execution_count": 6,
     "metadata": {},
     "output_type": "execute_result"
    }
   ],
   "source": [
    "df.sample(10)"
   ]
  },
  {
   "cell_type": "code",
   "execution_count": 7,
   "metadata": {
    "execution": {
     "iopub.execute_input": "2025-03-04T13:23:27.384486Z",
     "iopub.status.busy": "2025-03-04T13:23:27.384411Z",
     "iopub.status.idle": "2025-03-04T13:23:27.387104Z",
     "shell.execute_reply": "2025-03-04T13:23:27.386916Z"
    }
   },
   "outputs": [],
   "source": [
    "df['hospital_name'] =df['hospital_name'].str.title()\n",
    "df['municipality'] = df['municipality'].str.lower()\n",
    "df['type'] = df['type'].str.capitalize()\n",
    "df['management'] = df['management'].str.title()"
   ]
  },
  {
   "cell_type": "code",
   "execution_count": 8,
   "metadata": {
    "execution": {
     "iopub.execute_input": "2025-03-04T13:23:27.388032Z",
     "iopub.status.busy": "2025-03-04T13:23:27.387960Z",
     "iopub.status.idle": "2025-03-04T13:23:27.389913Z",
     "shell.execute_reply": "2025-03-04T13:23:27.389704Z"
    }
   },
   "outputs": [
    {
     "data": {
      "text/plain": [
       "array(['Psiquiátrico', 'Médico-quirúrgico', 'General',\n",
       "       'Geriatría y/o larga estancia', 'Rehabilitación psicofísica',\n",
       "       'Materno-infantil', 'Quirúrgico',\n",
       "       'Traumatología y/o rehabilitación', 'Otra finalidad', 'Infantil',\n",
       "       'Otros monográficos', 'Oftálmico u orl', 'Oncológico', 'Maternal'],\n",
       "      dtype=object)"
      ]
     },
     "execution_count": 8,
     "metadata": {},
     "output_type": "execute_result"
    }
   ],
   "source": [
    "df[\"type\"].unique()"
   ]
  },
  {
   "cell_type": "code",
   "execution_count": 9,
   "metadata": {
    "execution": {
     "iopub.execute_input": "2025-03-04T13:23:27.390779Z",
     "iopub.status.busy": "2025-03-04T13:23:27.390724Z",
     "iopub.status.idle": "2025-03-04T13:23:27.392329Z",
     "shell.execute_reply": "2025-03-04T13:23:27.392140Z"
    }
   },
   "outputs": [],
   "source": [
    "translation_dict = {\n",
    "    'Psiquiátrico': 'Psychiatric',\n",
    "    'Médico-quirúrgico': 'Medical-surgical',\n",
    "    'General': 'General',\n",
    "    'Geriatría y/o larga estancia': 'Geriatrics and/or long-term care',\n",
    "    'Rehabilitación psicofísica': 'Psychophysical rehabilitation',\n",
    "    'Materno-infantil': 'Maternal-infant',\n",
    "    'Quirúrgico': 'Surgical',\n",
    "    'Traumatología y/o rehabilitación': 'Traumatology and/or rehabilitation',\n",
    "    'Otra finalidad': 'Other purpose',\n",
    "    'Infantil': 'Pediatric',\n",
    "    'Otros monográficos': 'Other specialized',\n",
    "    'Oftálmico u orl': 'Ophthalmologic or ENT',\n",
    "    'Oncológico': 'Oncological',\n",
    "    'Maternal': 'Maternity'\n",
    "}\n"
   ]
  },
  {
   "cell_type": "code",
   "execution_count": 10,
   "metadata": {
    "execution": {
     "iopub.execute_input": "2025-03-04T13:23:27.393272Z",
     "iopub.status.busy": "2025-03-04T13:23:27.393202Z",
     "iopub.status.idle": "2025-03-04T13:23:27.394889Z",
     "shell.execute_reply": "2025-03-04T13:23:27.394698Z"
    }
   },
   "outputs": [],
   "source": [
    "df['type'] = df['type'].map(translation_dict)"
   ]
  },
  {
   "cell_type": "code",
   "execution_count": 11,
   "metadata": {
    "execution": {
     "iopub.execute_input": "2025-03-04T13:23:27.395784Z",
     "iopub.status.busy": "2025-03-04T13:23:27.395731Z",
     "iopub.status.idle": "2025-03-04T13:23:27.397622Z",
     "shell.execute_reply": "2025-03-04T13:23:27.397435Z"
    }
   },
   "outputs": [
    {
     "data": {
      "text/plain": [
       "array(['Comunidad Autónoma', 'Privado No Benéfico', 'Seguridad Social',\n",
       "       'Diputación O Cabildo', 'Otro Privado Benéfico',\n",
       "       'Ministerio De Interior', 'Entidades Públicas',\n",
       "       'Privado-Benéfico (Iglesia)', 'Municipio', 'Matep',\n",
       "       'Privado-Benéfico (Cruz Roja)', 'Otra Dependencia Patrimonial',\n",
       "       'Ministerio De Defensa'], dtype=object)"
      ]
     },
     "execution_count": 11,
     "metadata": {},
     "output_type": "execute_result"
    }
   ],
   "source": [
    "df[\"management\"].unique()"
   ]
  },
  {
   "cell_type": "code",
   "execution_count": 12,
   "metadata": {
    "execution": {
     "iopub.execute_input": "2025-03-04T13:23:27.398606Z",
     "iopub.status.busy": "2025-03-04T13:23:27.398538Z",
     "iopub.status.idle": "2025-03-04T13:23:27.400296Z",
     "shell.execute_reply": "2025-03-04T13:23:27.400065Z"
    }
   },
   "outputs": [],
   "source": [
    "management_translation_dict = {\n",
    "    'Comunidad Autónoma': 'Autonomous Community',\n",
    "    'Privado No Benéfico': 'Private Non-Profit',\n",
    "    'Seguridad Social': 'Social Security',\n",
    "    'Diputación O Cabildo': 'Provincial Council or Island Council',\n",
    "    'Otro Privado Benéfico': 'Other Private Non-Profit',\n",
    "    'Ministerio De Interior': 'Ministry of Interior',\n",
    "    'Entidades Públicas': 'Public Entities',\n",
    "    'Privado-Benéfico (Iglesia)': 'Private Non-Profit (Church)',\n",
    "    'Municipio': 'Municipality',\n",
    "    'Matep': 'Matep',  # Assuming Matep is a specific term or acronym.\n",
    "    'Privado-Benéfico (Cruz Roja)': 'Private Non-Profit (Red Cross)',\n",
    "    'Otra Dependencia Patrimonial': 'Other Patrimonial Dependency',\n",
    "    'Ministerio De Defensa': 'Ministry of Defense'\n",
    "}\n"
   ]
  },
  {
   "cell_type": "code",
   "execution_count": 13,
   "metadata": {
    "execution": {
     "iopub.execute_input": "2025-03-04T13:23:27.401212Z",
     "iopub.status.busy": "2025-03-04T13:23:27.401149Z",
     "iopub.status.idle": "2025-03-04T13:23:27.402807Z",
     "shell.execute_reply": "2025-03-04T13:23:27.402621Z"
    }
   },
   "outputs": [],
   "source": [
    "df['management'] = df['management'].map(management_translation_dict)"
   ]
  },
  {
   "cell_type": "code",
   "execution_count": 14,
   "metadata": {
    "execution": {
     "iopub.execute_input": "2025-03-04T13:23:27.403703Z",
     "iopub.status.busy": "2025-03-04T13:23:27.403632Z",
     "iopub.status.idle": "2025-03-04T13:23:27.407106Z",
     "shell.execute_reply": "2025-03-04T13:23:27.406894Z"
    }
   },
   "outputs": [
    {
     "data": {
      "text/html": [
       "<div>\n",
       "<style scoped>\n",
       "    .dataframe tbody tr th:only-of-type {\n",
       "        vertical-align: middle;\n",
       "    }\n",
       "\n",
       "    .dataframe tbody tr th {\n",
       "        vertical-align: top;\n",
       "    }\n",
       "\n",
       "    .dataframe thead th {\n",
       "        text-align: right;\n",
       "    }\n",
       "</style>\n",
       "<table border=\"1\" class=\"dataframe\">\n",
       "  <thead>\n",
       "    <tr style=\"text-align: right;\">\n",
       "      <th></th>\n",
       "      <th>hospital_name</th>\n",
       "      <th>municipality</th>\n",
       "      <th>cmun</th>\n",
       "      <th>n_beds</th>\n",
       "      <th>type</th>\n",
       "      <th>management</th>\n",
       "      <th>latitude</th>\n",
       "      <th>longitude</th>\n",
       "    </tr>\n",
       "  </thead>\n",
       "  <tbody>\n",
       "    <tr>\n",
       "      <th>0</th>\n",
       "      <td>Red De Salud Mental De Araba (Hospital Psiquiá...</td>\n",
       "      <td>vitoria-gasteiz</td>\n",
       "      <td>10590</td>\n",
       "      <td>207</td>\n",
       "      <td>Psychiatric</td>\n",
       "      <td>Autonomous Community</td>\n",
       "      <td>42.835656</td>\n",
       "      <td>-2.678612</td>\n",
       "    </tr>\n",
       "    <tr>\n",
       "      <th>1</th>\n",
       "      <td>Hospital San José</td>\n",
       "      <td>vitoria-gasteiz</td>\n",
       "      <td>10590</td>\n",
       "      <td>63</td>\n",
       "      <td>Medical-surgical</td>\n",
       "      <td>Private Non-Profit</td>\n",
       "      <td>42.849661</td>\n",
       "      <td>-2.676640</td>\n",
       "    </tr>\n",
       "    <tr>\n",
       "      <th>2</th>\n",
       "      <td>Hospital Quirónsalud Vitoria</td>\n",
       "      <td>vitoria-gasteiz</td>\n",
       "      <td>10590</td>\n",
       "      <td>26</td>\n",
       "      <td>General</td>\n",
       "      <td>Private Non-Profit</td>\n",
       "      <td>42.849761</td>\n",
       "      <td>-2.668035</td>\n",
       "    </tr>\n",
       "    <tr>\n",
       "      <th>3</th>\n",
       "      <td>Hospital De Cuidados San Onofre, S.L. (Hospita...</td>\n",
       "      <td>vitoria-gasteiz</td>\n",
       "      <td>10590</td>\n",
       "      <td>82</td>\n",
       "      <td>Geriatrics and/or long-term care</td>\n",
       "      <td>Private Non-Profit</td>\n",
       "      <td>42.837582</td>\n",
       "      <td>-2.680386</td>\n",
       "    </tr>\n",
       "    <tr>\n",
       "      <th>4</th>\n",
       "      <td>Hospital De Leza</td>\n",
       "      <td>laguardia</td>\n",
       "      <td>10318</td>\n",
       "      <td>63</td>\n",
       "      <td>General</td>\n",
       "      <td>Autonomous Community</td>\n",
       "      <td>42.575989</td>\n",
       "      <td>-2.638635</td>\n",
       "    </tr>\n",
       "  </tbody>\n",
       "</table>\n",
       "</div>"
      ],
      "text/plain": [
       "                                       hospital_name     municipality   cmun  \\\n",
       "0  Red De Salud Mental De Araba (Hospital Psiquiá...  vitoria-gasteiz  10590   \n",
       "1                                  Hospital San José  vitoria-gasteiz  10590   \n",
       "2                       Hospital Quirónsalud Vitoria  vitoria-gasteiz  10590   \n",
       "3  Hospital De Cuidados San Onofre, S.L. (Hospita...  vitoria-gasteiz  10590   \n",
       "4                                   Hospital De Leza        laguardia  10318   \n",
       "\n",
       "   n_beds                              type            management   latitude  \\\n",
       "0     207                       Psychiatric  Autonomous Community  42.835656   \n",
       "1      63                  Medical-surgical    Private Non-Profit  42.849661   \n",
       "2      26                           General    Private Non-Profit  42.849761   \n",
       "3      82  Geriatrics and/or long-term care    Private Non-Profit  42.837582   \n",
       "4      63                           General  Autonomous Community  42.575989   \n",
       "\n",
       "   longitude  \n",
       "0  -2.678612  \n",
       "1  -2.676640  \n",
       "2  -2.668035  \n",
       "3  -2.680386  \n",
       "4  -2.638635  "
      ]
     },
     "execution_count": 14,
     "metadata": {},
     "output_type": "execute_result"
    }
   ],
   "source": [
    "df.head()"
   ]
  },
  {
   "cell_type": "code",
   "execution_count": 15,
   "metadata": {
    "execution": {
     "iopub.execute_input": "2025-03-04T13:23:27.408094Z",
     "iopub.status.busy": "2025-03-04T13:23:27.408031Z",
     "iopub.status.idle": "2025-03-04T13:23:27.411802Z",
     "shell.execute_reply": "2025-03-04T13:23:27.411583Z"
    }
   },
   "outputs": [
    {
     "data": {
      "text/html": [
       "<div>\n",
       "<style scoped>\n",
       "    .dataframe tbody tr th:only-of-type {\n",
       "        vertical-align: middle;\n",
       "    }\n",
       "\n",
       "    .dataframe tbody tr th {\n",
       "        vertical-align: top;\n",
       "    }\n",
       "\n",
       "    .dataframe thead th {\n",
       "        text-align: right;\n",
       "    }\n",
       "</style>\n",
       "<table border=\"1\" class=\"dataframe\">\n",
       "  <thead>\n",
       "    <tr style=\"text-align: right;\">\n",
       "      <th></th>\n",
       "      <th>hospital_name</th>\n",
       "      <th>municipality</th>\n",
       "      <th>cmun</th>\n",
       "      <th>n_beds</th>\n",
       "      <th>type</th>\n",
       "      <th>management</th>\n",
       "      <th>latitude</th>\n",
       "      <th>longitude</th>\n",
       "    </tr>\n",
       "  </thead>\n",
       "  <tbody>\n",
       "    <tr>\n",
       "      <th>0</th>\n",
       "      <td>Red De Salud Mental De Araba (Hospital Psiquiá...</td>\n",
       "      <td>vitoria-gasteiz</td>\n",
       "      <td>10590</td>\n",
       "      <td>207</td>\n",
       "      <td>Psychiatric</td>\n",
       "      <td>Autonomous Community</td>\n",
       "      <td>42.835656</td>\n",
       "      <td>-2.678612</td>\n",
       "    </tr>\n",
       "    <tr>\n",
       "      <th>1</th>\n",
       "      <td>Hospital San José</td>\n",
       "      <td>vitoria-gasteiz</td>\n",
       "      <td>10590</td>\n",
       "      <td>63</td>\n",
       "      <td>Medical-surgical</td>\n",
       "      <td>Private Non-Profit</td>\n",
       "      <td>42.849661</td>\n",
       "      <td>-2.676640</td>\n",
       "    </tr>\n",
       "    <tr>\n",
       "      <th>2</th>\n",
       "      <td>Hospital Quirónsalud Vitoria</td>\n",
       "      <td>vitoria-gasteiz</td>\n",
       "      <td>10590</td>\n",
       "      <td>26</td>\n",
       "      <td>General</td>\n",
       "      <td>Private Non-Profit</td>\n",
       "      <td>42.849761</td>\n",
       "      <td>-2.668035</td>\n",
       "    </tr>\n",
       "    <tr>\n",
       "      <th>3</th>\n",
       "      <td>Hospital De Cuidados San Onofre, S.L. (Hospita...</td>\n",
       "      <td>vitoria-gasteiz</td>\n",
       "      <td>10590</td>\n",
       "      <td>82</td>\n",
       "      <td>Geriatrics and/or long-term care</td>\n",
       "      <td>Private Non-Profit</td>\n",
       "      <td>42.837582</td>\n",
       "      <td>-2.680386</td>\n",
       "    </tr>\n",
       "    <tr>\n",
       "      <th>4</th>\n",
       "      <td>Hospital De Leza</td>\n",
       "      <td>laguardia</td>\n",
       "      <td>10318</td>\n",
       "      <td>63</td>\n",
       "      <td>General</td>\n",
       "      <td>Autonomous Community</td>\n",
       "      <td>42.575989</td>\n",
       "      <td>-2.638635</td>\n",
       "    </tr>\n",
       "    <tr>\n",
       "      <th>...</th>\n",
       "      <td>...</td>\n",
       "      <td>...</td>\n",
       "      <td>...</td>\n",
       "      <td>...</td>\n",
       "      <td>...</td>\n",
       "      <td>...</td>\n",
       "      <td>...</td>\n",
       "      <td>...</td>\n",
       "    </tr>\n",
       "    <tr>\n",
       "      <th>919</th>\n",
       "      <td>Hospital De Rehabilitacion Psiquiatrica Prisma</td>\n",
       "      <td>zaragoza</td>\n",
       "      <td>502973</td>\n",
       "      <td>50</td>\n",
       "      <td>Psychiatric</td>\n",
       "      <td>Private Non-Profit</td>\n",
       "      <td>41.711449</td>\n",
       "      <td>-0.841290</td>\n",
       "    </tr>\n",
       "    <tr>\n",
       "      <th>920</th>\n",
       "      <td>Centro Sanitario Cinco Villas</td>\n",
       "      <td>ejea de los caballeros</td>\n",
       "      <td>500956</td>\n",
       "      <td>32</td>\n",
       "      <td>Other purpose</td>\n",
       "      <td>Autonomous Community</td>\n",
       "      <td>42.126721</td>\n",
       "      <td>-1.125290</td>\n",
       "    </tr>\n",
       "    <tr>\n",
       "      <th>921</th>\n",
       "      <td>Hospital Viamed Montecanal</td>\n",
       "      <td>zaragoza</td>\n",
       "      <td>502973</td>\n",
       "      <td>68</td>\n",
       "      <td>General</td>\n",
       "      <td>Private Non-Profit</td>\n",
       "      <td>41.639042</td>\n",
       "      <td>-0.948738</td>\n",
       "    </tr>\n",
       "    <tr>\n",
       "      <th>922</th>\n",
       "      <td>Hospital Universitario De Ceuta</td>\n",
       "      <td>ceuta</td>\n",
       "      <td>510013</td>\n",
       "      <td>252</td>\n",
       "      <td>General</td>\n",
       "      <td>Social Security</td>\n",
       "      <td>35.880332</td>\n",
       "      <td>-5.341853</td>\n",
       "    </tr>\n",
       "    <tr>\n",
       "      <th>923</th>\n",
       "      <td>Hospital Comarcal</td>\n",
       "      <td>melilla</td>\n",
       "      <td>520018</td>\n",
       "      <td>168</td>\n",
       "      <td>General</td>\n",
       "      <td>Social Security</td>\n",
       "      <td>35.286308</td>\n",
       "      <td>-2.947355</td>\n",
       "    </tr>\n",
       "  </tbody>\n",
       "</table>\n",
       "<p>924 rows × 8 columns</p>\n",
       "</div>"
      ],
      "text/plain": [
       "                                         hospital_name  \\\n",
       "0    Red De Salud Mental De Araba (Hospital Psiquiá...   \n",
       "1                                    Hospital San José   \n",
       "2                         Hospital Quirónsalud Vitoria   \n",
       "3    Hospital De Cuidados San Onofre, S.L. (Hospita...   \n",
       "4                                     Hospital De Leza   \n",
       "..                                                 ...   \n",
       "919     Hospital De Rehabilitacion Psiquiatrica Prisma   \n",
       "920                      Centro Sanitario Cinco Villas   \n",
       "921                         Hospital Viamed Montecanal   \n",
       "922                    Hospital Universitario De Ceuta   \n",
       "923                                  Hospital Comarcal   \n",
       "\n",
       "               municipality    cmun  n_beds                              type  \\\n",
       "0           vitoria-gasteiz   10590     207                       Psychiatric   \n",
       "1           vitoria-gasteiz   10590      63                  Medical-surgical   \n",
       "2           vitoria-gasteiz   10590      26                           General   \n",
       "3           vitoria-gasteiz   10590      82  Geriatrics and/or long-term care   \n",
       "4                 laguardia   10318      63                           General   \n",
       "..                      ...     ...     ...                               ...   \n",
       "919                zaragoza  502973      50                       Psychiatric   \n",
       "920  ejea de los caballeros  500956      32                     Other purpose   \n",
       "921                zaragoza  502973      68                           General   \n",
       "922                   ceuta  510013     252                           General   \n",
       "923                 melilla  520018     168                           General   \n",
       "\n",
       "               management   latitude  longitude  \n",
       "0    Autonomous Community  42.835656  -2.678612  \n",
       "1      Private Non-Profit  42.849661  -2.676640  \n",
       "2      Private Non-Profit  42.849761  -2.668035  \n",
       "3      Private Non-Profit  42.837582  -2.680386  \n",
       "4    Autonomous Community  42.575989  -2.638635  \n",
       "..                    ...        ...        ...  \n",
       "919    Private Non-Profit  41.711449  -0.841290  \n",
       "920  Autonomous Community  42.126721  -1.125290  \n",
       "921    Private Non-Profit  41.639042  -0.948738  \n",
       "922       Social Security  35.880332  -5.341853  \n",
       "923       Social Security  35.286308  -2.947355  \n",
       "\n",
       "[924 rows x 8 columns]"
      ]
     },
     "execution_count": 15,
     "metadata": {},
     "output_type": "execute_result"
    }
   ],
   "source": [
    "df"
   ]
  },
  {
   "cell_type": "code",
   "execution_count": 16,
   "metadata": {
    "execution": {
     "iopub.execute_input": "2025-03-04T13:23:27.412759Z",
     "iopub.status.busy": "2025-03-04T13:23:27.412688Z",
     "iopub.status.idle": "2025-03-04T13:23:27.414656Z",
     "shell.execute_reply": "2025-03-04T13:23:27.414470Z"
    }
   },
   "outputs": [],
   "source": [
    "df[\"cmun\"] = df[\"cmun\"].apply(lambda x: int(str(x)[:-1]) if len(str(x)) > 5 else x)\n"
   ]
  },
  {
   "cell_type": "code",
   "execution_count": 17,
   "metadata": {
    "execution": {
     "iopub.execute_input": "2025-03-04T13:23:27.415595Z",
     "iopub.status.busy": "2025-03-04T13:23:27.415525Z",
     "iopub.status.idle": "2025-03-04T13:23:27.419377Z",
     "shell.execute_reply": "2025-03-04T13:23:27.419188Z"
    }
   },
   "outputs": [
    {
     "data": {
      "text/html": [
       "<div>\n",
       "<style scoped>\n",
       "    .dataframe tbody tr th:only-of-type {\n",
       "        vertical-align: middle;\n",
       "    }\n",
       "\n",
       "    .dataframe tbody tr th {\n",
       "        vertical-align: top;\n",
       "    }\n",
       "\n",
       "    .dataframe thead th {\n",
       "        text-align: right;\n",
       "    }\n",
       "</style>\n",
       "<table border=\"1\" class=\"dataframe\">\n",
       "  <thead>\n",
       "    <tr style=\"text-align: right;\">\n",
       "      <th></th>\n",
       "      <th>hospital_name</th>\n",
       "      <th>municipality</th>\n",
       "      <th>cmun</th>\n",
       "      <th>n_beds</th>\n",
       "      <th>type</th>\n",
       "      <th>management</th>\n",
       "      <th>latitude</th>\n",
       "      <th>longitude</th>\n",
       "    </tr>\n",
       "  </thead>\n",
       "  <tbody>\n",
       "    <tr>\n",
       "      <th>0</th>\n",
       "      <td>Red De Salud Mental De Araba (Hospital Psiquiá...</td>\n",
       "      <td>vitoria-gasteiz</td>\n",
       "      <td>10590</td>\n",
       "      <td>207</td>\n",
       "      <td>Psychiatric</td>\n",
       "      <td>Autonomous Community</td>\n",
       "      <td>42.835656</td>\n",
       "      <td>-2.678612</td>\n",
       "    </tr>\n",
       "    <tr>\n",
       "      <th>1</th>\n",
       "      <td>Hospital San José</td>\n",
       "      <td>vitoria-gasteiz</td>\n",
       "      <td>10590</td>\n",
       "      <td>63</td>\n",
       "      <td>Medical-surgical</td>\n",
       "      <td>Private Non-Profit</td>\n",
       "      <td>42.849661</td>\n",
       "      <td>-2.676640</td>\n",
       "    </tr>\n",
       "    <tr>\n",
       "      <th>2</th>\n",
       "      <td>Hospital Quirónsalud Vitoria</td>\n",
       "      <td>vitoria-gasteiz</td>\n",
       "      <td>10590</td>\n",
       "      <td>26</td>\n",
       "      <td>General</td>\n",
       "      <td>Private Non-Profit</td>\n",
       "      <td>42.849761</td>\n",
       "      <td>-2.668035</td>\n",
       "    </tr>\n",
       "    <tr>\n",
       "      <th>3</th>\n",
       "      <td>Hospital De Cuidados San Onofre, S.L. (Hospita...</td>\n",
       "      <td>vitoria-gasteiz</td>\n",
       "      <td>10590</td>\n",
       "      <td>82</td>\n",
       "      <td>Geriatrics and/or long-term care</td>\n",
       "      <td>Private Non-Profit</td>\n",
       "      <td>42.837582</td>\n",
       "      <td>-2.680386</td>\n",
       "    </tr>\n",
       "    <tr>\n",
       "      <th>4</th>\n",
       "      <td>Hospital De Leza</td>\n",
       "      <td>laguardia</td>\n",
       "      <td>10318</td>\n",
       "      <td>63</td>\n",
       "      <td>General</td>\n",
       "      <td>Autonomous Community</td>\n",
       "      <td>42.575989</td>\n",
       "      <td>-2.638635</td>\n",
       "    </tr>\n",
       "    <tr>\n",
       "      <th>...</th>\n",
       "      <td>...</td>\n",
       "      <td>...</td>\n",
       "      <td>...</td>\n",
       "      <td>...</td>\n",
       "      <td>...</td>\n",
       "      <td>...</td>\n",
       "      <td>...</td>\n",
       "      <td>...</td>\n",
       "    </tr>\n",
       "    <tr>\n",
       "      <th>919</th>\n",
       "      <td>Hospital De Rehabilitacion Psiquiatrica Prisma</td>\n",
       "      <td>zaragoza</td>\n",
       "      <td>50297</td>\n",
       "      <td>50</td>\n",
       "      <td>Psychiatric</td>\n",
       "      <td>Private Non-Profit</td>\n",
       "      <td>41.711449</td>\n",
       "      <td>-0.841290</td>\n",
       "    </tr>\n",
       "    <tr>\n",
       "      <th>920</th>\n",
       "      <td>Centro Sanitario Cinco Villas</td>\n",
       "      <td>ejea de los caballeros</td>\n",
       "      <td>50095</td>\n",
       "      <td>32</td>\n",
       "      <td>Other purpose</td>\n",
       "      <td>Autonomous Community</td>\n",
       "      <td>42.126721</td>\n",
       "      <td>-1.125290</td>\n",
       "    </tr>\n",
       "    <tr>\n",
       "      <th>921</th>\n",
       "      <td>Hospital Viamed Montecanal</td>\n",
       "      <td>zaragoza</td>\n",
       "      <td>50297</td>\n",
       "      <td>68</td>\n",
       "      <td>General</td>\n",
       "      <td>Private Non-Profit</td>\n",
       "      <td>41.639042</td>\n",
       "      <td>-0.948738</td>\n",
       "    </tr>\n",
       "    <tr>\n",
       "      <th>922</th>\n",
       "      <td>Hospital Universitario De Ceuta</td>\n",
       "      <td>ceuta</td>\n",
       "      <td>51001</td>\n",
       "      <td>252</td>\n",
       "      <td>General</td>\n",
       "      <td>Social Security</td>\n",
       "      <td>35.880332</td>\n",
       "      <td>-5.341853</td>\n",
       "    </tr>\n",
       "    <tr>\n",
       "      <th>923</th>\n",
       "      <td>Hospital Comarcal</td>\n",
       "      <td>melilla</td>\n",
       "      <td>52001</td>\n",
       "      <td>168</td>\n",
       "      <td>General</td>\n",
       "      <td>Social Security</td>\n",
       "      <td>35.286308</td>\n",
       "      <td>-2.947355</td>\n",
       "    </tr>\n",
       "  </tbody>\n",
       "</table>\n",
       "<p>924 rows × 8 columns</p>\n",
       "</div>"
      ],
      "text/plain": [
       "                                         hospital_name  \\\n",
       "0    Red De Salud Mental De Araba (Hospital Psiquiá...   \n",
       "1                                    Hospital San José   \n",
       "2                         Hospital Quirónsalud Vitoria   \n",
       "3    Hospital De Cuidados San Onofre, S.L. (Hospita...   \n",
       "4                                     Hospital De Leza   \n",
       "..                                                 ...   \n",
       "919     Hospital De Rehabilitacion Psiquiatrica Prisma   \n",
       "920                      Centro Sanitario Cinco Villas   \n",
       "921                         Hospital Viamed Montecanal   \n",
       "922                    Hospital Universitario De Ceuta   \n",
       "923                                  Hospital Comarcal   \n",
       "\n",
       "               municipality   cmun  n_beds                              type  \\\n",
       "0           vitoria-gasteiz  10590     207                       Psychiatric   \n",
       "1           vitoria-gasteiz  10590      63                  Medical-surgical   \n",
       "2           vitoria-gasteiz  10590      26                           General   \n",
       "3           vitoria-gasteiz  10590      82  Geriatrics and/or long-term care   \n",
       "4                 laguardia  10318      63                           General   \n",
       "..                      ...    ...     ...                               ...   \n",
       "919                zaragoza  50297      50                       Psychiatric   \n",
       "920  ejea de los caballeros  50095      32                     Other purpose   \n",
       "921                zaragoza  50297      68                           General   \n",
       "922                   ceuta  51001     252                           General   \n",
       "923                 melilla  52001     168                           General   \n",
       "\n",
       "               management   latitude  longitude  \n",
       "0    Autonomous Community  42.835656  -2.678612  \n",
       "1      Private Non-Profit  42.849661  -2.676640  \n",
       "2      Private Non-Profit  42.849761  -2.668035  \n",
       "3      Private Non-Profit  42.837582  -2.680386  \n",
       "4    Autonomous Community  42.575989  -2.638635  \n",
       "..                    ...        ...        ...  \n",
       "919    Private Non-Profit  41.711449  -0.841290  \n",
       "920  Autonomous Community  42.126721  -1.125290  \n",
       "921    Private Non-Profit  41.639042  -0.948738  \n",
       "922       Social Security  35.880332  -5.341853  \n",
       "923       Social Security  35.286308  -2.947355  \n",
       "\n",
       "[924 rows x 8 columns]"
      ]
     },
     "execution_count": 17,
     "metadata": {},
     "output_type": "execute_result"
    }
   ],
   "source": [
    "df"
   ]
  },
  {
   "cell_type": "code",
   "execution_count": 18,
   "metadata": {
    "execution": {
     "iopub.execute_input": "2025-03-04T13:23:27.420338Z",
     "iopub.status.busy": "2025-03-04T13:23:27.420265Z",
     "iopub.status.idle": "2025-03-04T13:23:27.422190Z",
     "shell.execute_reply": "2025-03-04T13:23:27.422010Z"
    }
   },
   "outputs": [],
   "source": [
    "df = df[[\"cmun\", \"hospital_name\", \"n_beds\", \"type\", \"management\", \"latitude\", \"longitude\"]]"
   ]
  },
  {
   "cell_type": "code",
   "execution_count": 19,
   "metadata": {
    "execution": {
     "iopub.execute_input": "2025-03-04T13:23:27.423077Z",
     "iopub.status.busy": "2025-03-04T13:23:27.423020Z",
     "iopub.status.idle": "2025-03-04T13:23:27.425319Z",
     "shell.execute_reply": "2025-03-04T13:23:27.425128Z"
    }
   },
   "outputs": [
    {
     "data": {
      "text/plain": [
       "cmun             0\n",
       "hospital_name    0\n",
       "n_beds           0\n",
       "type             0\n",
       "management       0\n",
       "latitude         0\n",
       "longitude        0\n",
       "dtype: int64"
      ]
     },
     "execution_count": 19,
     "metadata": {},
     "output_type": "execute_result"
    }
   ],
   "source": [
    "df.isna().sum()"
   ]
  },
  {
   "cell_type": "code",
   "execution_count": 20,
   "metadata": {
    "execution": {
     "iopub.execute_input": "2025-03-04T13:23:27.426301Z",
     "iopub.status.busy": "2025-03-04T13:23:27.426235Z",
     "iopub.status.idle": "2025-03-04T13:23:27.430368Z",
     "shell.execute_reply": "2025-03-04T13:23:27.430159Z"
    }
   },
   "outputs": [],
   "source": [
    "df.to_csv(\"../../data/processed/filtered_files/filtered_hospitals.csv\", index=False)"
   ]
  }
 ],
 "metadata": {
  "kernelspec": {
   "display_name": ".venv",
   "language": "python",
   "name": "python3"
  },
  "language_info": {
   "codemirror_mode": {
    "name": "ipython",
    "version": 3
   },
   "file_extension": ".py",
   "mimetype": "text/x-python",
   "name": "python",
   "nbconvert_exporter": "python",
   "pygments_lexer": "ipython3",
   "version": "3.11.3"
  }
 },
 "nbformat": 4,
 "nbformat_minor": 2
}
