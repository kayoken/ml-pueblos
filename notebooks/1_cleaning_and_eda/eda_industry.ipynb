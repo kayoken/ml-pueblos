{
 "cells": [
  {
   "cell_type": "code",
   "execution_count": 1,
   "metadata": {
    "execution": {
     "iopub.execute_input": "2025-03-04T13:25:45.880956Z",
     "iopub.status.busy": "2025-03-04T13:25:45.880721Z",
     "iopub.status.idle": "2025-03-04T13:25:46.254374Z",
     "shell.execute_reply": "2025-03-04T13:25:46.254087Z"
    }
   },
   "outputs": [],
   "source": [
    "import sys\n",
    "import os\n",
    "sys.path.insert(0, os.path.abspath(os.path.join(os.getcwd(), '..')))\n",
    "import pandas as pd"
   ]
  },
  {
   "cell_type": "code",
   "execution_count": 2,
   "metadata": {
    "execution": {
     "iopub.execute_input": "2025-03-04T13:25:46.255865Z",
     "iopub.status.busy": "2025-03-04T13:25:46.255664Z",
     "iopub.status.idle": "2025-03-04T13:25:46.714285Z",
     "shell.execute_reply": "2025-03-04T13:25:46.713816Z"
    }
   },
   "outputs": [],
   "source": [
    "df_industry = pd.read_csv(\"../../data/raw/industry.csv\", sep=\";\")"
   ]
  },
  {
   "cell_type": "code",
   "execution_count": 3,
   "metadata": {
    "execution": {
     "iopub.execute_input": "2025-03-04T13:25:46.715874Z",
     "iopub.status.busy": "2025-03-04T13:25:46.715755Z",
     "iopub.status.idle": "2025-03-04T13:25:46.790897Z",
     "shell.execute_reply": "2025-03-04T13:25:46.790629Z"
    }
   },
   "outputs": [
    {
     "name": "stdout",
     "output_type": "stream",
     "text": [
      "<class 'pandas.core.frame.DataFrame'>\n",
      "RangeIndex: 1171027 entries, 0 to 1171026\n",
      "Data columns (total 6 columns):\n",
      " #   Column                 Non-Null Count    Dtype \n",
      "---  ------                 --------------    ----- \n",
      " 0   Totales Territoriales  1171027 non-null  object\n",
      " 1   Provincias             1170884 non-null  object\n",
      " 2   Municipios             1163448 non-null  object\n",
      " 3   Grupos CNAE            1171027 non-null  object\n",
      " 4   Periodo                1171027 non-null  int64 \n",
      " 5   Total                  380174 non-null   object\n",
      "dtypes: int64(1), object(5)\n",
      "memory usage: 53.6+ MB\n"
     ]
    }
   ],
   "source": [
    "df_industry.info()"
   ]
  },
  {
   "cell_type": "code",
   "execution_count": 4,
   "metadata": {
    "execution": {
     "iopub.execute_input": "2025-03-04T13:25:46.792100Z",
     "iopub.status.busy": "2025-03-04T13:25:46.792028Z",
     "iopub.status.idle": "2025-03-04T13:25:46.860975Z",
     "shell.execute_reply": "2025-03-04T13:25:46.860678Z"
    }
   },
   "outputs": [
    {
     "data": {
      "text/plain": [
       "Totales Territoriales         0\n",
       "Provincias                  143\n",
       "Municipios                 7579\n",
       "Grupos CNAE                   0\n",
       "Periodo                       0\n",
       "Total                    790853\n",
       "dtype: int64"
      ]
     },
     "execution_count": 4,
     "metadata": {},
     "output_type": "execute_result"
    }
   ],
   "source": [
    "df_industry.isna().sum()"
   ]
  },
  {
   "cell_type": "code",
   "execution_count": 5,
   "metadata": {
    "execution": {
     "iopub.execute_input": "2025-03-04T13:25:46.862372Z",
     "iopub.status.busy": "2025-03-04T13:25:46.862300Z",
     "iopub.status.idle": "2025-03-04T13:25:46.864534Z",
     "shell.execute_reply": "2025-03-04T13:25:46.864235Z"
    }
   },
   "outputs": [],
   "source": [
    "df_industry.rename(columns={\"Totales Territoriales\": \"territory_total\", \n",
    "                   \"Provincias\": \"province\",\n",
    "                   \"Municipios\": \"municipality\", \n",
    "                   \"Grupos CNAE\": \"sector\",\n",
    "                   \"Periodo\": \"period\", \n",
    "                   \"Total\": \"total\"},\n",
    "                    inplace=True)"
   ]
  },
  {
   "cell_type": "code",
   "execution_count": 6,
   "metadata": {
    "execution": {
     "iopub.execute_input": "2025-03-04T13:25:46.865852Z",
     "iopub.status.busy": "2025-03-04T13:25:46.865782Z",
     "iopub.status.idle": "2025-03-04T13:25:46.871416Z",
     "shell.execute_reply": "2025-03-04T13:25:46.871191Z"
    }
   },
   "outputs": [
    {
     "data": {
      "text/html": [
       "<div>\n",
       "<style scoped>\n",
       "    .dataframe tbody tr th:only-of-type {\n",
       "        vertical-align: middle;\n",
       "    }\n",
       "\n",
       "    .dataframe tbody tr th {\n",
       "        vertical-align: top;\n",
       "    }\n",
       "\n",
       "    .dataframe thead th {\n",
       "        text-align: right;\n",
       "    }\n",
       "</style>\n",
       "<table border=\"1\" class=\"dataframe\">\n",
       "  <thead>\n",
       "    <tr style=\"text-align: right;\">\n",
       "      <th></th>\n",
       "      <th>territory_total</th>\n",
       "      <th>province</th>\n",
       "      <th>municipality</th>\n",
       "      <th>sector</th>\n",
       "      <th>period</th>\n",
       "      <th>total</th>\n",
       "    </tr>\n",
       "  </thead>\n",
       "  <tbody>\n",
       "    <tr>\n",
       "      <th>0</th>\n",
       "      <td>Total Nacional</td>\n",
       "      <td>NaN</td>\n",
       "      <td>NaN</td>\n",
       "      <td>Total</td>\n",
       "      <td>2024</td>\n",
       "      <td>3.255.276</td>\n",
       "    </tr>\n",
       "    <tr>\n",
       "      <th>1</th>\n",
       "      <td>Total Nacional</td>\n",
       "      <td>NaN</td>\n",
       "      <td>NaN</td>\n",
       "      <td>Total</td>\n",
       "      <td>2023</td>\n",
       "      <td>3.207.580</td>\n",
       "    </tr>\n",
       "    <tr>\n",
       "      <th>2</th>\n",
       "      <td>Total Nacional</td>\n",
       "      <td>NaN</td>\n",
       "      <td>NaN</td>\n",
       "      <td>Total</td>\n",
       "      <td>2022</td>\n",
       "      <td>3.430.663</td>\n",
       "    </tr>\n",
       "    <tr>\n",
       "      <th>3</th>\n",
       "      <td>Total Nacional</td>\n",
       "      <td>NaN</td>\n",
       "      <td>NaN</td>\n",
       "      <td>Total</td>\n",
       "      <td>2021</td>\n",
       "      <td>3.366.570</td>\n",
       "    </tr>\n",
       "    <tr>\n",
       "      <th>4</th>\n",
       "      <td>Total Nacional</td>\n",
       "      <td>NaN</td>\n",
       "      <td>NaN</td>\n",
       "      <td>Total</td>\n",
       "      <td>2020</td>\n",
       "      <td>3.404.428</td>\n",
       "    </tr>\n",
       "    <tr>\n",
       "      <th>...</th>\n",
       "      <td>...</td>\n",
       "      <td>...</td>\n",
       "      <td>...</td>\n",
       "      <td>...</td>\n",
       "      <td>...</td>\n",
       "      <td>...</td>\n",
       "    </tr>\n",
       "    <tr>\n",
       "      <th>1171022</th>\n",
       "      <td>Total Nacional</td>\n",
       "      <td>52 Melilla</td>\n",
       "      <td>52001 Melilla</td>\n",
       "      <td>Total servicios</td>\n",
       "      <td>2016</td>\n",
       "      <td>1.414</td>\n",
       "    </tr>\n",
       "    <tr>\n",
       "      <th>1171023</th>\n",
       "      <td>Total Nacional</td>\n",
       "      <td>52 Melilla</td>\n",
       "      <td>52001 Melilla</td>\n",
       "      <td>Total servicios</td>\n",
       "      <td>2015</td>\n",
       "      <td>1.339</td>\n",
       "    </tr>\n",
       "    <tr>\n",
       "      <th>1171024</th>\n",
       "      <td>Total Nacional</td>\n",
       "      <td>52 Melilla</td>\n",
       "      <td>52001 Melilla</td>\n",
       "      <td>Total servicios</td>\n",
       "      <td>2014</td>\n",
       "      <td>1.226</td>\n",
       "    </tr>\n",
       "    <tr>\n",
       "      <th>1171025</th>\n",
       "      <td>Total Nacional</td>\n",
       "      <td>52 Melilla</td>\n",
       "      <td>52001 Melilla</td>\n",
       "      <td>Total servicios</td>\n",
       "      <td>2013</td>\n",
       "      <td>1.244</td>\n",
       "    </tr>\n",
       "    <tr>\n",
       "      <th>1171026</th>\n",
       "      <td>Total Nacional</td>\n",
       "      <td>52 Melilla</td>\n",
       "      <td>52001 Melilla</td>\n",
       "      <td>Total servicios</td>\n",
       "      <td>2012</td>\n",
       "      <td>1.215</td>\n",
       "    </tr>\n",
       "  </tbody>\n",
       "</table>\n",
       "<p>1171027 rows × 6 columns</p>\n",
       "</div>"
      ],
      "text/plain": [
       "        territory_total    province   municipality           sector  period  \\\n",
       "0        Total Nacional         NaN            NaN            Total    2024   \n",
       "1        Total Nacional         NaN            NaN            Total    2023   \n",
       "2        Total Nacional         NaN            NaN            Total    2022   \n",
       "3        Total Nacional         NaN            NaN            Total    2021   \n",
       "4        Total Nacional         NaN            NaN            Total    2020   \n",
       "...                 ...         ...            ...              ...     ...   \n",
       "1171022  Total Nacional  52 Melilla  52001 Melilla  Total servicios    2016   \n",
       "1171023  Total Nacional  52 Melilla  52001 Melilla  Total servicios    2015   \n",
       "1171024  Total Nacional  52 Melilla  52001 Melilla  Total servicios    2014   \n",
       "1171025  Total Nacional  52 Melilla  52001 Melilla  Total servicios    2013   \n",
       "1171026  Total Nacional  52 Melilla  52001 Melilla  Total servicios    2012   \n",
       "\n",
       "             total  \n",
       "0        3.255.276  \n",
       "1        3.207.580  \n",
       "2        3.430.663  \n",
       "3        3.366.570  \n",
       "4        3.404.428  \n",
       "...            ...  \n",
       "1171022      1.414  \n",
       "1171023      1.339  \n",
       "1171024      1.226  \n",
       "1171025      1.244  \n",
       "1171026      1.215  \n",
       "\n",
       "[1171027 rows x 6 columns]"
      ]
     },
     "execution_count": 6,
     "metadata": {},
     "output_type": "execute_result"
    }
   ],
   "source": [
    "df_industry"
   ]
  },
  {
   "cell_type": "code",
   "execution_count": 7,
   "metadata": {
    "execution": {
     "iopub.execute_input": "2025-03-04T13:25:46.872455Z",
     "iopub.status.busy": "2025-03-04T13:25:46.872388Z",
     "iopub.status.idle": "2025-03-04T13:25:46.880892Z",
     "shell.execute_reply": "2025-03-04T13:25:46.880589Z"
    }
   },
   "outputs": [],
   "source": [
    "df_industry = df_industry.query(\"period == 2024\")"
   ]
  },
  {
   "cell_type": "code",
   "execution_count": 8,
   "metadata": {
    "execution": {
     "iopub.execute_input": "2025-03-04T13:25:46.882079Z",
     "iopub.status.busy": "2025-03-04T13:25:46.882004Z",
     "iopub.status.idle": "2025-03-04T13:25:46.891199Z",
     "shell.execute_reply": "2025-03-04T13:25:46.890961Z"
    }
   },
   "outputs": [
    {
     "name": "stdout",
     "output_type": "stream",
     "text": [
      "<class 'pandas.core.frame.DataFrame'>\n",
      "Index: 90079 entries, 0 to 1171014\n",
      "Data columns (total 6 columns):\n",
      " #   Column           Non-Null Count  Dtype \n",
      "---  ------           --------------  ----- \n",
      " 0   territory_total  90079 non-null  object\n",
      " 1   province         90068 non-null  object\n",
      " 2   municipality     89496 non-null  object\n",
      " 3   sector           90079 non-null  object\n",
      " 4   period           90079 non-null  int64 \n",
      " 5   total            29195 non-null  object\n",
      "dtypes: int64(1), object(5)\n",
      "memory usage: 4.8+ MB\n"
     ]
    }
   ],
   "source": [
    "df_industry.info()"
   ]
  },
  {
   "cell_type": "code",
   "execution_count": 9,
   "metadata": {
    "execution": {
     "iopub.execute_input": "2025-03-04T13:25:46.892317Z",
     "iopub.status.busy": "2025-03-04T13:25:46.892252Z",
     "iopub.status.idle": "2025-03-04T13:25:46.900429Z",
     "shell.execute_reply": "2025-03-04T13:25:46.900199Z"
    }
   },
   "outputs": [
    {
     "data": {
      "text/plain": [
       "territory_total        0\n",
       "province              11\n",
       "municipality         583\n",
       "sector                 0\n",
       "period                 0\n",
       "total              60884\n",
       "dtype: int64"
      ]
     },
     "execution_count": 9,
     "metadata": {},
     "output_type": "execute_result"
    }
   ],
   "source": [
    "df_industry.isna().sum()"
   ]
  },
  {
   "cell_type": "code",
   "execution_count": 10,
   "metadata": {
    "execution": {
     "iopub.execute_input": "2025-03-04T13:25:46.901424Z",
     "iopub.status.busy": "2025-03-04T13:25:46.901361Z",
     "iopub.status.idle": "2025-03-04T13:25:46.904699Z",
     "shell.execute_reply": "2025-03-04T13:25:46.904479Z"
    }
   },
   "outputs": [
    {
     "data": {
      "text/plain": [
       "array(['Total Nacional'], dtype=object)"
      ]
     },
     "execution_count": 10,
     "metadata": {},
     "output_type": "execute_result"
    }
   ],
   "source": [
    "df_industry[\"territory_total\"].unique()"
   ]
  },
  {
   "cell_type": "code",
   "execution_count": 11,
   "metadata": {
    "execution": {
     "iopub.execute_input": "2025-03-04T13:25:46.905689Z",
     "iopub.status.busy": "2025-03-04T13:25:46.905629Z",
     "iopub.status.idle": "2025-03-04T13:25:46.909413Z",
     "shell.execute_reply": "2025-03-04T13:25:46.909170Z"
    }
   },
   "outputs": [],
   "source": [
    "df_industry = df_industry.drop([\"territory_total\", \"period\"], axis=1)"
   ]
  },
  {
   "cell_type": "code",
   "execution_count": 12,
   "metadata": {
    "execution": {
     "iopub.execute_input": "2025-03-04T13:25:46.910423Z",
     "iopub.status.busy": "2025-03-04T13:25:46.910364Z",
     "iopub.status.idle": "2025-03-04T13:25:46.914453Z",
     "shell.execute_reply": "2025-03-04T13:25:46.914229Z"
    }
   },
   "outputs": [
    {
     "data": {
      "text/plain": [
       "array(['Total', 'B_E Industria', 'F Construcción',\n",
       "       'Comercio, transporte y hostelería',\n",
       "       'J Información y comunicaciones',\n",
       "       'K Actividades financieras y de seguros',\n",
       "       'L Actividades inmobiliarias',\n",
       "       'Actividades profesionales y técnicas',\n",
       "       'Educación, sanidad y servicios sociales',\n",
       "       'Otros servicios personales', 'Total servicios'], dtype=object)"
      ]
     },
     "execution_count": 12,
     "metadata": {},
     "output_type": "execute_result"
    }
   ],
   "source": [
    "df_industry[\"sector\"].unique()"
   ]
  },
  {
   "cell_type": "code",
   "execution_count": 13,
   "metadata": {
    "execution": {
     "iopub.execute_input": "2025-03-04T13:25:46.915491Z",
     "iopub.status.busy": "2025-03-04T13:25:46.915427Z",
     "iopub.status.idle": "2025-03-04T13:25:46.920851Z",
     "shell.execute_reply": "2025-03-04T13:25:46.920623Z"
    }
   },
   "outputs": [],
   "source": [
    "df_industry = df_industry.query(\"sector != 'Total servicios'\")"
   ]
  },
  {
   "cell_type": "code",
   "execution_count": 14,
   "metadata": {
    "execution": {
     "iopub.execute_input": "2025-03-04T13:25:46.921857Z",
     "iopub.status.busy": "2025-03-04T13:25:46.921800Z",
     "iopub.status.idle": "2025-03-04T13:25:46.926310Z",
     "shell.execute_reply": "2025-03-04T13:25:46.926084Z"
    }
   },
   "outputs": [],
   "source": [
    "df_industry = df_industry.query(\"sector != 'Total'\")"
   ]
  },
  {
   "cell_type": "code",
   "execution_count": 15,
   "metadata": {
    "execution": {
     "iopub.execute_input": "2025-03-04T13:25:46.927402Z",
     "iopub.status.busy": "2025-03-04T13:25:46.927341Z",
     "iopub.status.idle": "2025-03-04T13:25:46.928963Z",
     "shell.execute_reply": "2025-03-04T13:25:46.928744Z"
    }
   },
   "outputs": [],
   "source": [
    "translations = {\n",
    "    'B_E Industria': 'n_industry',\n",
    "    'F Construcción': 'n_construction',\n",
    "    'Comercio, transporte y hostelería': 'n_trade_transport_hospitality',\n",
    "    'J Información y comunicaciones': 'n_info_communications',\n",
    "    'K Actividades financieras y de seguros': 'n_financial_insurance',\n",
    "    'L Actividades inmobiliarias': 'n_real_estate',\n",
    "    'Actividades profesionales y técnicas': 'n_professional_technical',\n",
    "    'Educación, sanidad y servicios sociales': 'n_eduation_health_social',\n",
    "    'Otros servicios personales': 'n_other',\n",
    "}\n"
   ]
  },
  {
   "cell_type": "code",
   "execution_count": 16,
   "metadata": {
    "execution": {
     "iopub.execute_input": "2025-03-04T13:25:46.929909Z",
     "iopub.status.busy": "2025-03-04T13:25:46.929847Z",
     "iopub.status.idle": "2025-03-04T13:25:46.933727Z",
     "shell.execute_reply": "2025-03-04T13:25:46.933506Z"
    }
   },
   "outputs": [],
   "source": [
    "df_industry['sector'] = df_industry['sector'].map(translations)"
   ]
  },
  {
   "cell_type": "code",
   "execution_count": 17,
   "metadata": {
    "execution": {
     "iopub.execute_input": "2025-03-04T13:25:46.934694Z",
     "iopub.status.busy": "2025-03-04T13:25:46.934637Z",
     "iopub.status.idle": "2025-03-04T13:25:46.940275Z",
     "shell.execute_reply": "2025-03-04T13:25:46.940061Z"
    }
   },
   "outputs": [
    {
     "data": {
      "text/plain": [
       "province            9\n",
       "municipality      477\n",
       "sector              0\n",
       "total           55890\n",
       "dtype: int64"
      ]
     },
     "execution_count": 17,
     "metadata": {},
     "output_type": "execute_result"
    }
   ],
   "source": [
    "df_industry.isna().sum()"
   ]
  },
  {
   "cell_type": "code",
   "execution_count": 18,
   "metadata": {
    "execution": {
     "iopub.execute_input": "2025-03-04T13:25:46.941301Z",
     "iopub.status.busy": "2025-03-04T13:25:46.941240Z",
     "iopub.status.idle": "2025-03-04T13:25:46.947140Z",
     "shell.execute_reply": "2025-03-04T13:25:46.946960Z"
    }
   },
   "outputs": [
    {
     "name": "stdout",
     "output_type": "stream",
     "text": [
      "<class 'pandas.core.frame.DataFrame'>\n",
      "Index: 73701 entries, 13 to 1171001\n",
      "Data columns (total 4 columns):\n",
      " #   Column        Non-Null Count  Dtype \n",
      "---  ------        --------------  ----- \n",
      " 0   province      73692 non-null  object\n",
      " 1   municipality  73224 non-null  object\n",
      " 2   sector        73701 non-null  object\n",
      " 3   total         17811 non-null  object\n",
      "dtypes: object(4)\n",
      "memory usage: 2.8+ MB\n"
     ]
    }
   ],
   "source": [
    "df_industry.info()"
   ]
  },
  {
   "cell_type": "code",
   "execution_count": 19,
   "metadata": {
    "execution": {
     "iopub.execute_input": "2025-03-04T13:25:46.948049Z",
     "iopub.status.busy": "2025-03-04T13:25:46.947990Z",
     "iopub.status.idle": "2025-03-04T13:25:46.951196Z",
     "shell.execute_reply": "2025-03-04T13:25:46.950925Z"
    }
   },
   "outputs": [
    {
     "data": {
      "text/html": [
       "<div>\n",
       "<style scoped>\n",
       "    .dataframe tbody tr th:only-of-type {\n",
       "        vertical-align: middle;\n",
       "    }\n",
       "\n",
       "    .dataframe tbody tr th {\n",
       "        vertical-align: top;\n",
       "    }\n",
       "\n",
       "    .dataframe thead th {\n",
       "        text-align: right;\n",
       "    }\n",
       "</style>\n",
       "<table border=\"1\" class=\"dataframe\">\n",
       "  <thead>\n",
       "    <tr style=\"text-align: right;\">\n",
       "      <th></th>\n",
       "      <th>province</th>\n",
       "      <th>municipality</th>\n",
       "      <th>sector</th>\n",
       "      <th>total</th>\n",
       "    </tr>\n",
       "  </thead>\n",
       "  <tbody>\n",
       "    <tr>\n",
       "      <th>13</th>\n",
       "      <td>NaN</td>\n",
       "      <td>NaN</td>\n",
       "      <td>n_industry</td>\n",
       "      <td>175.806</td>\n",
       "    </tr>\n",
       "    <tr>\n",
       "      <th>26</th>\n",
       "      <td>NaN</td>\n",
       "      <td>NaN</td>\n",
       "      <td>n_construction</td>\n",
       "      <td>383.622</td>\n",
       "    </tr>\n",
       "    <tr>\n",
       "      <th>39</th>\n",
       "      <td>NaN</td>\n",
       "      <td>NaN</td>\n",
       "      <td>n_trade_transport_hospitality</td>\n",
       "      <td>1.104.814</td>\n",
       "    </tr>\n",
       "    <tr>\n",
       "      <th>52</th>\n",
       "      <td>NaN</td>\n",
       "      <td>NaN</td>\n",
       "      <td>n_info_communications</td>\n",
       "      <td>71.979</td>\n",
       "    </tr>\n",
       "    <tr>\n",
       "      <th>65</th>\n",
       "      <td>NaN</td>\n",
       "      <td>NaN</td>\n",
       "      <td>n_financial_insurance</td>\n",
       "      <td>76.243</td>\n",
       "    </tr>\n",
       "    <tr>\n",
       "      <th>...</th>\n",
       "      <td>...</td>\n",
       "      <td>...</td>\n",
       "      <td>...</td>\n",
       "      <td>...</td>\n",
       "    </tr>\n",
       "    <tr>\n",
       "      <th>1170949</th>\n",
       "      <td>52 Melilla</td>\n",
       "      <td>52001 Melilla</td>\n",
       "      <td>n_financial_insurance</td>\n",
       "      <td>46</td>\n",
       "    </tr>\n",
       "    <tr>\n",
       "      <th>1170962</th>\n",
       "      <td>52 Melilla</td>\n",
       "      <td>52001 Melilla</td>\n",
       "      <td>n_real_estate</td>\n",
       "      <td>100</td>\n",
       "    </tr>\n",
       "    <tr>\n",
       "      <th>1170975</th>\n",
       "      <td>52 Melilla</td>\n",
       "      <td>52001 Melilla</td>\n",
       "      <td>n_professional_technical</td>\n",
       "      <td>616</td>\n",
       "    </tr>\n",
       "    <tr>\n",
       "      <th>1170988</th>\n",
       "      <td>52 Melilla</td>\n",
       "      <td>52001 Melilla</td>\n",
       "      <td>n_eduation_health_social</td>\n",
       "      <td>389</td>\n",
       "    </tr>\n",
       "    <tr>\n",
       "      <th>1171001</th>\n",
       "      <td>52 Melilla</td>\n",
       "      <td>52001 Melilla</td>\n",
       "      <td>n_other</td>\n",
       "      <td>512</td>\n",
       "    </tr>\n",
       "  </tbody>\n",
       "</table>\n",
       "<p>73701 rows × 4 columns</p>\n",
       "</div>"
      ],
      "text/plain": [
       "           province   municipality                         sector      total\n",
       "13              NaN            NaN                     n_industry    175.806\n",
       "26              NaN            NaN                 n_construction    383.622\n",
       "39              NaN            NaN  n_trade_transport_hospitality  1.104.814\n",
       "52              NaN            NaN          n_info_communications     71.979\n",
       "65              NaN            NaN          n_financial_insurance     76.243\n",
       "...             ...            ...                            ...        ...\n",
       "1170949  52 Melilla  52001 Melilla          n_financial_insurance         46\n",
       "1170962  52 Melilla  52001 Melilla                  n_real_estate        100\n",
       "1170975  52 Melilla  52001 Melilla       n_professional_technical        616\n",
       "1170988  52 Melilla  52001 Melilla       n_eduation_health_social        389\n",
       "1171001  52 Melilla  52001 Melilla                        n_other        512\n",
       "\n",
       "[73701 rows x 4 columns]"
      ]
     },
     "execution_count": 19,
     "metadata": {},
     "output_type": "execute_result"
    }
   ],
   "source": [
    "df_industry"
   ]
  },
  {
   "cell_type": "code",
   "execution_count": 20,
   "metadata": {
    "execution": {
     "iopub.execute_input": "2025-03-04T13:25:46.952140Z",
     "iopub.status.busy": "2025-03-04T13:25:46.952079Z",
     "iopub.status.idle": "2025-03-04T13:25:46.956698Z",
     "shell.execute_reply": "2025-03-04T13:25:46.956470Z"
    }
   },
   "outputs": [],
   "source": [
    "df_industry = df_industry.dropna(subset=['municipality'])"
   ]
  },
  {
   "cell_type": "code",
   "execution_count": 21,
   "metadata": {
    "execution": {
     "iopub.execute_input": "2025-03-04T13:25:46.957762Z",
     "iopub.status.busy": "2025-03-04T13:25:46.957690Z",
     "iopub.status.idle": "2025-03-04T13:25:46.962763Z",
     "shell.execute_reply": "2025-03-04T13:25:46.962524Z"
    }
   },
   "outputs": [
    {
     "data": {
      "text/html": [
       "<div>\n",
       "<style scoped>\n",
       "    .dataframe tbody tr th:only-of-type {\n",
       "        vertical-align: middle;\n",
       "    }\n",
       "\n",
       "    .dataframe tbody tr th {\n",
       "        vertical-align: top;\n",
       "    }\n",
       "\n",
       "    .dataframe thead th {\n",
       "        text-align: right;\n",
       "    }\n",
       "</style>\n",
       "<table border=\"1\" class=\"dataframe\">\n",
       "  <thead>\n",
       "    <tr style=\"text-align: right;\">\n",
       "      <th></th>\n",
       "      <th>province</th>\n",
       "      <th>municipality</th>\n",
       "      <th>sector</th>\n",
       "      <th>total</th>\n",
       "    </tr>\n",
       "  </thead>\n",
       "  <tbody>\n",
       "    <tr>\n",
       "      <th>299</th>\n",
       "      <td>01 Araba/Álava</td>\n",
       "      <td>01001 Alegría-Dulantzi</td>\n",
       "      <td>n_industry</td>\n",
       "      <td>18</td>\n",
       "    </tr>\n",
       "    <tr>\n",
       "      <th>312</th>\n",
       "      <td>01 Araba/Álava</td>\n",
       "      <td>01001 Alegría-Dulantzi</td>\n",
       "      <td>n_construction</td>\n",
       "      <td>30</td>\n",
       "    </tr>\n",
       "    <tr>\n",
       "      <th>325</th>\n",
       "      <td>01 Araba/Álava</td>\n",
       "      <td>01001 Alegría-Dulantzi</td>\n",
       "      <td>n_trade_transport_hospitality</td>\n",
       "      <td>51</td>\n",
       "    </tr>\n",
       "    <tr>\n",
       "      <th>442</th>\n",
       "      <td>01 Araba/Álava</td>\n",
       "      <td>01002 Amurrio</td>\n",
       "      <td>n_industry</td>\n",
       "      <td>63</td>\n",
       "    </tr>\n",
       "    <tr>\n",
       "      <th>455</th>\n",
       "      <td>01 Araba/Álava</td>\n",
       "      <td>01002 Amurrio</td>\n",
       "      <td>n_construction</td>\n",
       "      <td>89</td>\n",
       "    </tr>\n",
       "    <tr>\n",
       "      <th>...</th>\n",
       "      <td>...</td>\n",
       "      <td>...</td>\n",
       "      <td>...</td>\n",
       "      <td>...</td>\n",
       "    </tr>\n",
       "    <tr>\n",
       "      <th>1170949</th>\n",
       "      <td>52 Melilla</td>\n",
       "      <td>52001 Melilla</td>\n",
       "      <td>n_financial_insurance</td>\n",
       "      <td>46</td>\n",
       "    </tr>\n",
       "    <tr>\n",
       "      <th>1170962</th>\n",
       "      <td>52 Melilla</td>\n",
       "      <td>52001 Melilla</td>\n",
       "      <td>n_real_estate</td>\n",
       "      <td>100</td>\n",
       "    </tr>\n",
       "    <tr>\n",
       "      <th>1170975</th>\n",
       "      <td>52 Melilla</td>\n",
       "      <td>52001 Melilla</td>\n",
       "      <td>n_professional_technical</td>\n",
       "      <td>616</td>\n",
       "    </tr>\n",
       "    <tr>\n",
       "      <th>1170988</th>\n",
       "      <td>52 Melilla</td>\n",
       "      <td>52001 Melilla</td>\n",
       "      <td>n_eduation_health_social</td>\n",
       "      <td>389</td>\n",
       "    </tr>\n",
       "    <tr>\n",
       "      <th>1171001</th>\n",
       "      <td>52 Melilla</td>\n",
       "      <td>52001 Melilla</td>\n",
       "      <td>n_other</td>\n",
       "      <td>512</td>\n",
       "    </tr>\n",
       "  </tbody>\n",
       "</table>\n",
       "<p>17334 rows × 4 columns</p>\n",
       "</div>"
      ],
      "text/plain": [
       "               province            municipality  \\\n",
       "299      01 Araba/Álava  01001 Alegría-Dulantzi   \n",
       "312      01 Araba/Álava  01001 Alegría-Dulantzi   \n",
       "325      01 Araba/Álava  01001 Alegría-Dulantzi   \n",
       "442      01 Araba/Álava           01002 Amurrio   \n",
       "455      01 Araba/Álava           01002 Amurrio   \n",
       "...                 ...                     ...   \n",
       "1170949      52 Melilla           52001 Melilla   \n",
       "1170962      52 Melilla           52001 Melilla   \n",
       "1170975      52 Melilla           52001 Melilla   \n",
       "1170988      52 Melilla           52001 Melilla   \n",
       "1171001      52 Melilla           52001 Melilla   \n",
       "\n",
       "                                sector total  \n",
       "299                         n_industry    18  \n",
       "312                     n_construction    30  \n",
       "325      n_trade_transport_hospitality    51  \n",
       "442                         n_industry    63  \n",
       "455                     n_construction    89  \n",
       "...                                ...   ...  \n",
       "1170949          n_financial_insurance    46  \n",
       "1170962                  n_real_estate   100  \n",
       "1170975       n_professional_technical   616  \n",
       "1170988       n_eduation_health_social   389  \n",
       "1171001                        n_other   512  \n",
       "\n",
       "[17334 rows x 4 columns]"
      ]
     },
     "execution_count": 21,
     "metadata": {},
     "output_type": "execute_result"
    }
   ],
   "source": [
    "df_industry.dropna(subset=['total'])"
   ]
  },
  {
   "cell_type": "code",
   "execution_count": 22,
   "metadata": {
    "execution": {
     "iopub.execute_input": "2025-03-04T13:25:46.963775Z",
     "iopub.status.busy": "2025-03-04T13:25:46.963691Z",
     "iopub.status.idle": "2025-03-04T13:25:47.006180Z",
     "shell.execute_reply": "2025-03-04T13:25:47.005950Z"
    }
   },
   "outputs": [
    {
     "name": "stderr",
     "output_type": "stream",
     "text": [
      "/var/folders/w9/bt5d4t050m7fd91t2r7l1mlh0000gn/T/ipykernel_29551/4288882118.py:1: SettingWithCopyWarning: \n",
      "A value is trying to be set on a copy of a slice from a DataFrame.\n",
      "Try using .loc[row_indexer,col_indexer] = value instead\n",
      "\n",
      "See the caveats in the documentation: https://pandas.pydata.org/pandas-docs/stable/user_guide/indexing.html#returning-a-view-versus-a-copy\n",
      "  df_industry[['cod_prov', 'province']] = df_industry['province'].str.split(' ', n=1, expand=True)\n"
     ]
    },
    {
     "data": {
      "text/html": [
       "<div>\n",
       "<style scoped>\n",
       "    .dataframe tbody tr th:only-of-type {\n",
       "        vertical-align: middle;\n",
       "    }\n",
       "\n",
       "    .dataframe tbody tr th {\n",
       "        vertical-align: top;\n",
       "    }\n",
       "\n",
       "    .dataframe thead th {\n",
       "        text-align: right;\n",
       "    }\n",
       "</style>\n",
       "<table border=\"1\" class=\"dataframe\">\n",
       "  <thead>\n",
       "    <tr style=\"text-align: right;\">\n",
       "      <th></th>\n",
       "      <th>province</th>\n",
       "      <th>municipality</th>\n",
       "      <th>sector</th>\n",
       "      <th>total</th>\n",
       "      <th>cod_prov</th>\n",
       "    </tr>\n",
       "  </thead>\n",
       "  <tbody>\n",
       "    <tr>\n",
       "      <th>299</th>\n",
       "      <td>Araba/Álava</td>\n",
       "      <td>01001 Alegría-Dulantzi</td>\n",
       "      <td>n_industry</td>\n",
       "      <td>18</td>\n",
       "      <td>01</td>\n",
       "    </tr>\n",
       "    <tr>\n",
       "      <th>312</th>\n",
       "      <td>Araba/Álava</td>\n",
       "      <td>01001 Alegría-Dulantzi</td>\n",
       "      <td>n_construction</td>\n",
       "      <td>30</td>\n",
       "      <td>01</td>\n",
       "    </tr>\n",
       "    <tr>\n",
       "      <th>325</th>\n",
       "      <td>Araba/Álava</td>\n",
       "      <td>01001 Alegría-Dulantzi</td>\n",
       "      <td>n_trade_transport_hospitality</td>\n",
       "      <td>51</td>\n",
       "      <td>01</td>\n",
       "    </tr>\n",
       "    <tr>\n",
       "      <th>338</th>\n",
       "      <td>Araba/Álava</td>\n",
       "      <td>01001 Alegría-Dulantzi</td>\n",
       "      <td>n_info_communications</td>\n",
       "      <td>NaN</td>\n",
       "      <td>01</td>\n",
       "    </tr>\n",
       "    <tr>\n",
       "      <th>351</th>\n",
       "      <td>Araba/Álava</td>\n",
       "      <td>01001 Alegría-Dulantzi</td>\n",
       "      <td>n_financial_insurance</td>\n",
       "      <td>NaN</td>\n",
       "      <td>01</td>\n",
       "    </tr>\n",
       "    <tr>\n",
       "      <th>...</th>\n",
       "      <td>...</td>\n",
       "      <td>...</td>\n",
       "      <td>...</td>\n",
       "      <td>...</td>\n",
       "      <td>...</td>\n",
       "    </tr>\n",
       "    <tr>\n",
       "      <th>1170949</th>\n",
       "      <td>Melilla</td>\n",
       "      <td>52001 Melilla</td>\n",
       "      <td>n_financial_insurance</td>\n",
       "      <td>46</td>\n",
       "      <td>52</td>\n",
       "    </tr>\n",
       "    <tr>\n",
       "      <th>1170962</th>\n",
       "      <td>Melilla</td>\n",
       "      <td>52001 Melilla</td>\n",
       "      <td>n_real_estate</td>\n",
       "      <td>100</td>\n",
       "      <td>52</td>\n",
       "    </tr>\n",
       "    <tr>\n",
       "      <th>1170975</th>\n",
       "      <td>Melilla</td>\n",
       "      <td>52001 Melilla</td>\n",
       "      <td>n_professional_technical</td>\n",
       "      <td>616</td>\n",
       "      <td>52</td>\n",
       "    </tr>\n",
       "    <tr>\n",
       "      <th>1170988</th>\n",
       "      <td>Melilla</td>\n",
       "      <td>52001 Melilla</td>\n",
       "      <td>n_eduation_health_social</td>\n",
       "      <td>389</td>\n",
       "      <td>52</td>\n",
       "    </tr>\n",
       "    <tr>\n",
       "      <th>1171001</th>\n",
       "      <td>Melilla</td>\n",
       "      <td>52001 Melilla</td>\n",
       "      <td>n_other</td>\n",
       "      <td>512</td>\n",
       "      <td>52</td>\n",
       "    </tr>\n",
       "  </tbody>\n",
       "</table>\n",
       "<p>73224 rows × 5 columns</p>\n",
       "</div>"
      ],
      "text/plain": [
       "            province            municipality                         sector  \\\n",
       "299      Araba/Álava  01001 Alegría-Dulantzi                     n_industry   \n",
       "312      Araba/Álava  01001 Alegría-Dulantzi                 n_construction   \n",
       "325      Araba/Álava  01001 Alegría-Dulantzi  n_trade_transport_hospitality   \n",
       "338      Araba/Álava  01001 Alegría-Dulantzi          n_info_communications   \n",
       "351      Araba/Álava  01001 Alegría-Dulantzi          n_financial_insurance   \n",
       "...              ...                     ...                            ...   \n",
       "1170949      Melilla           52001 Melilla          n_financial_insurance   \n",
       "1170962      Melilla           52001 Melilla                  n_real_estate   \n",
       "1170975      Melilla           52001 Melilla       n_professional_technical   \n",
       "1170988      Melilla           52001 Melilla       n_eduation_health_social   \n",
       "1171001      Melilla           52001 Melilla                        n_other   \n",
       "\n",
       "        total cod_prov  \n",
       "299        18       01  \n",
       "312        30       01  \n",
       "325        51       01  \n",
       "338       NaN       01  \n",
       "351       NaN       01  \n",
       "...       ...      ...  \n",
       "1170949    46       52  \n",
       "1170962   100       52  \n",
       "1170975   616       52  \n",
       "1170988   389       52  \n",
       "1171001   512       52  \n",
       "\n",
       "[73224 rows x 5 columns]"
      ]
     },
     "execution_count": 22,
     "metadata": {},
     "output_type": "execute_result"
    }
   ],
   "source": [
    "df_industry[['cod_prov', 'province']] = df_industry['province'].str.split(' ', n=1, expand=True)\n",
    "df_industry"
   ]
  },
  {
   "cell_type": "code",
   "execution_count": 23,
   "metadata": {
    "execution": {
     "iopub.execute_input": "2025-03-04T13:25:47.007252Z",
     "iopub.status.busy": "2025-03-04T13:25:47.007180Z",
     "iopub.status.idle": "2025-03-04T13:25:47.033068Z",
     "shell.execute_reply": "2025-03-04T13:25:47.032818Z"
    }
   },
   "outputs": [
    {
     "name": "stderr",
     "output_type": "stream",
     "text": [
      "/var/folders/w9/bt5d4t050m7fd91t2r7l1mlh0000gn/T/ipykernel_29551/552059495.py:1: SettingWithCopyWarning: \n",
      "A value is trying to be set on a copy of a slice from a DataFrame.\n",
      "Try using .loc[row_indexer,col_indexer] = value instead\n",
      "\n",
      "See the caveats in the documentation: https://pandas.pydata.org/pandas-docs/stable/user_guide/indexing.html#returning-a-view-versus-a-copy\n",
      "  df_industry[['cmun', 'municipality']] = df_industry['municipality'].str.split(' ', n=1, expand=True)\n"
     ]
    }
   ],
   "source": [
    "df_industry[['cmun', 'municipality']] = df_industry['municipality'].str.split(' ', n=1, expand=True)"
   ]
  },
  {
   "cell_type": "code",
   "execution_count": 24,
   "metadata": {
    "execution": {
     "iopub.execute_input": "2025-03-04T13:25:47.034163Z",
     "iopub.status.busy": "2025-03-04T13:25:47.034085Z",
     "iopub.status.idle": "2025-03-04T13:25:47.038325Z",
     "shell.execute_reply": "2025-03-04T13:25:47.038050Z"
    }
   },
   "outputs": [],
   "source": [
    "df_industry = df_industry[[\"cmun\",\"municipality\",\"province\",\"sector\", \"total\"]]"
   ]
  },
  {
   "cell_type": "code",
   "execution_count": 25,
   "metadata": {
    "execution": {
     "iopub.execute_input": "2025-03-04T13:25:47.039335Z",
     "iopub.status.busy": "2025-03-04T13:25:47.039274Z",
     "iopub.status.idle": "2025-03-04T13:25:47.043546Z",
     "shell.execute_reply": "2025-03-04T13:25:47.043303Z"
    }
   },
   "outputs": [],
   "source": [
    "df_industry.query(\"total == '.'\")\n",
    "df_industry.loc[df_industry['total'] == '.', 'total'] = '0'\n"
   ]
  },
  {
   "cell_type": "code",
   "execution_count": 26,
   "metadata": {
    "execution": {
     "iopub.execute_input": "2025-03-04T13:25:47.044493Z",
     "iopub.status.busy": "2025-03-04T13:25:47.044434Z",
     "iopub.status.idle": "2025-03-04T13:25:47.047524Z",
     "shell.execute_reply": "2025-03-04T13:25:47.047325Z"
    }
   },
   "outputs": [
    {
     "data": {
      "text/plain": [
       "array(['n_industry', 'n_construction', 'n_trade_transport_hospitality',\n",
       "       'n_info_communications', 'n_financial_insurance', 'n_real_estate',\n",
       "       'n_professional_technical', 'n_eduation_health_social', 'n_other'],\n",
       "      dtype=object)"
      ]
     },
     "execution_count": 26,
     "metadata": {},
     "output_type": "execute_result"
    }
   ],
   "source": [
    "df_industry[\"sector\"].unique()"
   ]
  },
  {
   "cell_type": "code",
   "execution_count": 27,
   "metadata": {
    "execution": {
     "iopub.execute_input": "2025-03-04T13:25:47.048474Z",
     "iopub.status.busy": "2025-03-04T13:25:47.048410Z",
     "iopub.status.idle": "2025-03-04T13:25:47.072169Z",
     "shell.execute_reply": "2025-03-04T13:25:47.071930Z"
    }
   },
   "outputs": [],
   "source": [
    "pivot_df = df_industry.pivot_table(\n",
    "    index='cmun',\n",
    "    columns='sector',\n",
    "    values='total',\n",
    "    aggfunc='sum',\n",
    "    fill_value=0  # fill missing combinations with 0\n",
    ").reset_index()\n"
   ]
  },
  {
   "cell_type": "code",
   "execution_count": 28,
   "metadata": {
    "execution": {
     "iopub.execute_input": "2025-03-04T13:25:47.073284Z",
     "iopub.status.busy": "2025-03-04T13:25:47.073222Z",
     "iopub.status.idle": "2025-03-04T13:25:47.075635Z",
     "shell.execute_reply": "2025-03-04T13:25:47.075429Z"
    }
   },
   "outputs": [],
   "source": [
    "industry_group_order = ['n_industry', 'n_construction', 'N_trade_transport_hospitality',\n",
    "       'n_info_communications', 'n_financial_insurance', 'n_real_estate',\n",
    "       'n_professional_technical', 'n_eduation_health_social', 'n_other']\n",
    "pivot_df = pivot_df[['cmun'] + [grp for grp in industry_group_order if grp in pivot_df.columns]]\n"
   ]
  },
  {
   "cell_type": "code",
   "execution_count": 29,
   "metadata": {
    "execution": {
     "iopub.execute_input": "2025-03-04T13:25:47.076556Z",
     "iopub.status.busy": "2025-03-04T13:25:47.076487Z",
     "iopub.status.idle": "2025-03-04T13:25:47.080116Z",
     "shell.execute_reply": "2025-03-04T13:25:47.079922Z"
    }
   },
   "outputs": [
    {
     "data": {
      "text/html": [
       "<div>\n",
       "<style scoped>\n",
       "    .dataframe tbody tr th:only-of-type {\n",
       "        vertical-align: middle;\n",
       "    }\n",
       "\n",
       "    .dataframe tbody tr th {\n",
       "        vertical-align: top;\n",
       "    }\n",
       "\n",
       "    .dataframe thead th {\n",
       "        text-align: right;\n",
       "    }\n",
       "</style>\n",
       "<table border=\"1\" class=\"dataframe\">\n",
       "  <thead>\n",
       "    <tr style=\"text-align: right;\">\n",
       "      <th>sector</th>\n",
       "      <th>cmun</th>\n",
       "      <th>n_industry</th>\n",
       "      <th>n_construction</th>\n",
       "      <th>n_info_communications</th>\n",
       "      <th>n_financial_insurance</th>\n",
       "      <th>n_real_estate</th>\n",
       "      <th>n_professional_technical</th>\n",
       "      <th>n_eduation_health_social</th>\n",
       "      <th>n_other</th>\n",
       "    </tr>\n",
       "  </thead>\n",
       "  <tbody>\n",
       "    <tr>\n",
       "      <th>0</th>\n",
       "      <td>01001</td>\n",
       "      <td>18</td>\n",
       "      <td>30</td>\n",
       "      <td>0</td>\n",
       "      <td>0</td>\n",
       "      <td>0</td>\n",
       "      <td>0</td>\n",
       "      <td>0</td>\n",
       "      <td>0</td>\n",
       "    </tr>\n",
       "    <tr>\n",
       "      <th>1</th>\n",
       "      <td>01002</td>\n",
       "      <td>63</td>\n",
       "      <td>89</td>\n",
       "      <td>7</td>\n",
       "      <td>10</td>\n",
       "      <td>5</td>\n",
       "      <td>86</td>\n",
       "      <td>46</td>\n",
       "      <td>51</td>\n",
       "    </tr>\n",
       "    <tr>\n",
       "      <th>2</th>\n",
       "      <td>01003</td>\n",
       "      <td>6</td>\n",
       "      <td>4</td>\n",
       "      <td>0</td>\n",
       "      <td>0</td>\n",
       "      <td>0</td>\n",
       "      <td>0</td>\n",
       "      <td>0</td>\n",
       "      <td>0</td>\n",
       "    </tr>\n",
       "    <tr>\n",
       "      <th>3</th>\n",
       "      <td>01004</td>\n",
       "      <td>5</td>\n",
       "      <td>14</td>\n",
       "      <td>0</td>\n",
       "      <td>0</td>\n",
       "      <td>0</td>\n",
       "      <td>0</td>\n",
       "      <td>0</td>\n",
       "      <td>0</td>\n",
       "    </tr>\n",
       "    <tr>\n",
       "      <th>4</th>\n",
       "      <td>01006</td>\n",
       "      <td>0</td>\n",
       "      <td>0</td>\n",
       "      <td>0</td>\n",
       "      <td>0</td>\n",
       "      <td>0</td>\n",
       "      <td>0</td>\n",
       "      <td>0</td>\n",
       "      <td>0</td>\n",
       "    </tr>\n",
       "    <tr>\n",
       "      <th>...</th>\n",
       "      <td>...</td>\n",
       "      <td>...</td>\n",
       "      <td>...</td>\n",
       "      <td>...</td>\n",
       "      <td>...</td>\n",
       "      <td>...</td>\n",
       "      <td>...</td>\n",
       "      <td>...</td>\n",
       "      <td>...</td>\n",
       "    </tr>\n",
       "    <tr>\n",
       "      <th>8131</th>\n",
       "      <td>50901</td>\n",
       "      <td>0</td>\n",
       "      <td>0</td>\n",
       "      <td>0</td>\n",
       "      <td>0</td>\n",
       "      <td>0</td>\n",
       "      <td>0</td>\n",
       "      <td>0</td>\n",
       "      <td>0</td>\n",
       "    </tr>\n",
       "    <tr>\n",
       "      <th>8132</th>\n",
       "      <td>50902</td>\n",
       "      <td>0</td>\n",
       "      <td>0</td>\n",
       "      <td>0</td>\n",
       "      <td>0</td>\n",
       "      <td>0</td>\n",
       "      <td>0</td>\n",
       "      <td>0</td>\n",
       "      <td>0</td>\n",
       "    </tr>\n",
       "    <tr>\n",
       "      <th>8133</th>\n",
       "      <td>50903</td>\n",
       "      <td>4</td>\n",
       "      <td>18</td>\n",
       "      <td>0</td>\n",
       "      <td>0</td>\n",
       "      <td>0</td>\n",
       "      <td>0</td>\n",
       "      <td>0</td>\n",
       "      <td>0</td>\n",
       "    </tr>\n",
       "    <tr>\n",
       "      <th>8134</th>\n",
       "      <td>51001</td>\n",
       "      <td>62</td>\n",
       "      <td>260</td>\n",
       "      <td>48</td>\n",
       "      <td>35</td>\n",
       "      <td>115</td>\n",
       "      <td>496</td>\n",
       "      <td>303</td>\n",
       "      <td>446</td>\n",
       "    </tr>\n",
       "    <tr>\n",
       "      <th>8135</th>\n",
       "      <td>52001</td>\n",
       "      <td>117</td>\n",
       "      <td>424</td>\n",
       "      <td>49</td>\n",
       "      <td>46</td>\n",
       "      <td>100</td>\n",
       "      <td>616</td>\n",
       "      <td>389</td>\n",
       "      <td>512</td>\n",
       "    </tr>\n",
       "  </tbody>\n",
       "</table>\n",
       "<p>8136 rows × 9 columns</p>\n",
       "</div>"
      ],
      "text/plain": [
       "sector   cmun n_industry n_construction n_info_communications  \\\n",
       "0       01001         18             30                     0   \n",
       "1       01002         63             89                     7   \n",
       "2       01003          6              4                     0   \n",
       "3       01004          5             14                     0   \n",
       "4       01006          0              0                     0   \n",
       "...       ...        ...            ...                   ...   \n",
       "8131    50901          0              0                     0   \n",
       "8132    50902          0              0                     0   \n",
       "8133    50903          4             18                     0   \n",
       "8134    51001         62            260                    48   \n",
       "8135    52001        117            424                    49   \n",
       "\n",
       "sector n_financial_insurance n_real_estate n_professional_technical  \\\n",
       "0                          0             0                        0   \n",
       "1                         10             5                       86   \n",
       "2                          0             0                        0   \n",
       "3                          0             0                        0   \n",
       "4                          0             0                        0   \n",
       "...                      ...           ...                      ...   \n",
       "8131                       0             0                        0   \n",
       "8132                       0             0                        0   \n",
       "8133                       0             0                        0   \n",
       "8134                      35           115                      496   \n",
       "8135                      46           100                      616   \n",
       "\n",
       "sector n_eduation_health_social n_other  \n",
       "0                             0       0  \n",
       "1                            46      51  \n",
       "2                             0       0  \n",
       "3                             0       0  \n",
       "4                             0       0  \n",
       "...                         ...     ...  \n",
       "8131                          0       0  \n",
       "8132                          0       0  \n",
       "8133                          0       0  \n",
       "8134                        303     446  \n",
       "8135                        389     512  \n",
       "\n",
       "[8136 rows x 9 columns]"
      ]
     },
     "execution_count": 29,
     "metadata": {},
     "output_type": "execute_result"
    }
   ],
   "source": [
    "pivot_df"
   ]
  },
  {
   "cell_type": "code",
   "execution_count": 30,
   "metadata": {
    "execution": {
     "iopub.execute_input": "2025-03-04T13:25:47.081081Z",
     "iopub.status.busy": "2025-03-04T13:25:47.081020Z",
     "iopub.status.idle": "2025-03-04T13:25:47.084100Z",
     "shell.execute_reply": "2025-03-04T13:25:47.083904Z"
    }
   },
   "outputs": [
    {
     "data": {
      "text/plain": [
       "sector\n",
       "cmun                        0\n",
       "n_industry                  0\n",
       "n_construction              0\n",
       "n_info_communications       0\n",
       "n_financial_insurance       0\n",
       "n_real_estate               0\n",
       "n_professional_technical    0\n",
       "n_eduation_health_social    0\n",
       "n_other                     0\n",
       "dtype: int64"
      ]
     },
     "execution_count": 30,
     "metadata": {},
     "output_type": "execute_result"
    }
   ],
   "source": [
    "pivot_df.isna().sum()"
   ]
  },
  {
   "cell_type": "code",
   "execution_count": 31,
   "metadata": {
    "execution": {
     "iopub.execute_input": "2025-03-04T13:25:47.085108Z",
     "iopub.status.busy": "2025-03-04T13:25:47.085032Z",
     "iopub.status.idle": "2025-03-04T13:25:47.089476Z",
     "shell.execute_reply": "2025-03-04T13:25:47.089266Z"
    }
   },
   "outputs": [
    {
     "name": "stderr",
     "output_type": "stream",
     "text": [
      "/var/folders/w9/bt5d4t050m7fd91t2r7l1mlh0000gn/T/ipykernel_29551/1428541013.py:1: SettingWithCopyWarning: \n",
      "A value is trying to be set on a copy of a slice from a DataFrame\n",
      "\n",
      "See the caveats in the documentation: https://pandas.pydata.org/pandas-docs/stable/user_guide/indexing.html#returning-a-view-versus-a-copy\n",
      "  df_industry.drop([\"sector\", \"total\"], axis=1, inplace=True)\n"
     ]
    }
   ],
   "source": [
    "df_industry.drop([\"sector\", \"total\"], axis=1, inplace=True)"
   ]
  },
  {
   "cell_type": "code",
   "execution_count": 32,
   "metadata": {
    "execution": {
     "iopub.execute_input": "2025-03-04T13:25:47.090387Z",
     "iopub.status.busy": "2025-03-04T13:25:47.090330Z",
     "iopub.status.idle": "2025-03-04T13:25:47.100295Z",
     "shell.execute_reply": "2025-03-04T13:25:47.100053Z"
    }
   },
   "outputs": [],
   "source": [
    "df_industry= df_industry.drop_duplicates()"
   ]
  },
  {
   "cell_type": "code",
   "execution_count": 33,
   "metadata": {
    "execution": {
     "iopub.execute_input": "2025-03-04T13:25:47.101364Z",
     "iopub.status.busy": "2025-03-04T13:25:47.101298Z",
     "iopub.status.idle": "2025-03-04T13:25:47.104269Z",
     "shell.execute_reply": "2025-03-04T13:25:47.104066Z"
    }
   },
   "outputs": [
    {
     "data": {
      "text/html": [
       "<div>\n",
       "<style scoped>\n",
       "    .dataframe tbody tr th:only-of-type {\n",
       "        vertical-align: middle;\n",
       "    }\n",
       "\n",
       "    .dataframe tbody tr th {\n",
       "        vertical-align: top;\n",
       "    }\n",
       "\n",
       "    .dataframe thead th {\n",
       "        text-align: right;\n",
       "    }\n",
       "</style>\n",
       "<table border=\"1\" class=\"dataframe\">\n",
       "  <thead>\n",
       "    <tr style=\"text-align: right;\">\n",
       "      <th></th>\n",
       "      <th>cmun</th>\n",
       "      <th>municipality</th>\n",
       "      <th>province</th>\n",
       "    </tr>\n",
       "  </thead>\n",
       "  <tbody>\n",
       "    <tr>\n",
       "      <th>299</th>\n",
       "      <td>01001</td>\n",
       "      <td>Alegría-Dulantzi</td>\n",
       "      <td>Araba/Álava</td>\n",
       "    </tr>\n",
       "    <tr>\n",
       "      <th>442</th>\n",
       "      <td>01002</td>\n",
       "      <td>Amurrio</td>\n",
       "      <td>Araba/Álava</td>\n",
       "    </tr>\n",
       "    <tr>\n",
       "      <th>585</th>\n",
       "      <td>01003</td>\n",
       "      <td>Aramaio</td>\n",
       "      <td>Araba/Álava</td>\n",
       "    </tr>\n",
       "    <tr>\n",
       "      <th>728</th>\n",
       "      <td>01004</td>\n",
       "      <td>Artziniega</td>\n",
       "      <td>Araba/Álava</td>\n",
       "    </tr>\n",
       "    <tr>\n",
       "      <th>871</th>\n",
       "      <td>01006</td>\n",
       "      <td>Armiñón</td>\n",
       "      <td>Araba/Álava</td>\n",
       "    </tr>\n",
       "    <tr>\n",
       "      <th>...</th>\n",
       "      <td>...</td>\n",
       "      <td>...</td>\n",
       "      <td>...</td>\n",
       "    </tr>\n",
       "    <tr>\n",
       "      <th>1170039</th>\n",
       "      <td>50901</td>\n",
       "      <td>Biel</td>\n",
       "      <td>Zaragoza</td>\n",
       "    </tr>\n",
       "    <tr>\n",
       "      <th>1170182</th>\n",
       "      <td>50902</td>\n",
       "      <td>Marracos</td>\n",
       "      <td>Zaragoza</td>\n",
       "    </tr>\n",
       "    <tr>\n",
       "      <th>1170325</th>\n",
       "      <td>50903</td>\n",
       "      <td>Villamayor de Gállego</td>\n",
       "      <td>Zaragoza</td>\n",
       "    </tr>\n",
       "    <tr>\n",
       "      <th>1170611</th>\n",
       "      <td>51001</td>\n",
       "      <td>Ceuta</td>\n",
       "      <td>Ceuta</td>\n",
       "    </tr>\n",
       "    <tr>\n",
       "      <th>1170897</th>\n",
       "      <td>52001</td>\n",
       "      <td>Melilla</td>\n",
       "      <td>Melilla</td>\n",
       "    </tr>\n",
       "  </tbody>\n",
       "</table>\n",
       "<p>8136 rows × 3 columns</p>\n",
       "</div>"
      ],
      "text/plain": [
       "          cmun           municipality     province\n",
       "299      01001       Alegría-Dulantzi  Araba/Álava\n",
       "442      01002                Amurrio  Araba/Álava\n",
       "585      01003                Aramaio  Araba/Álava\n",
       "728      01004             Artziniega  Araba/Álava\n",
       "871      01006                Armiñón  Araba/Álava\n",
       "...        ...                    ...          ...\n",
       "1170039  50901                   Biel     Zaragoza\n",
       "1170182  50902               Marracos     Zaragoza\n",
       "1170325  50903  Villamayor de Gállego     Zaragoza\n",
       "1170611  51001                  Ceuta        Ceuta\n",
       "1170897  52001                Melilla      Melilla\n",
       "\n",
       "[8136 rows x 3 columns]"
      ]
     },
     "execution_count": 33,
     "metadata": {},
     "output_type": "execute_result"
    }
   ],
   "source": [
    "df_industry"
   ]
  },
  {
   "cell_type": "code",
   "execution_count": 34,
   "metadata": {
    "execution": {
     "iopub.execute_input": "2025-03-04T13:25:47.105212Z",
     "iopub.status.busy": "2025-03-04T13:25:47.105157Z",
     "iopub.status.idle": "2025-03-04T13:25:47.112275Z",
     "shell.execute_reply": "2025-03-04T13:25:47.112070Z"
    }
   },
   "outputs": [
    {
     "data": {
      "text/html": [
       "<div>\n",
       "<style scoped>\n",
       "    .dataframe tbody tr th:only-of-type {\n",
       "        vertical-align: middle;\n",
       "    }\n",
       "\n",
       "    .dataframe tbody tr th {\n",
       "        vertical-align: top;\n",
       "    }\n",
       "\n",
       "    .dataframe thead th {\n",
       "        text-align: right;\n",
       "    }\n",
       "</style>\n",
       "<table border=\"1\" class=\"dataframe\">\n",
       "  <thead>\n",
       "    <tr style=\"text-align: right;\">\n",
       "      <th></th>\n",
       "      <th>cmun</th>\n",
       "      <th>municipality</th>\n",
       "      <th>province</th>\n",
       "      <th>n_industry</th>\n",
       "      <th>n_construction</th>\n",
       "      <th>n_info_communications</th>\n",
       "      <th>n_financial_insurance</th>\n",
       "      <th>n_real_estate</th>\n",
       "      <th>n_professional_technical</th>\n",
       "      <th>n_eduation_health_social</th>\n",
       "      <th>n_other</th>\n",
       "    </tr>\n",
       "  </thead>\n",
       "  <tbody>\n",
       "    <tr>\n",
       "      <th>0</th>\n",
       "      <td>01001</td>\n",
       "      <td>Alegría-Dulantzi</td>\n",
       "      <td>Araba/Álava</td>\n",
       "      <td>18</td>\n",
       "      <td>30</td>\n",
       "      <td>0</td>\n",
       "      <td>0</td>\n",
       "      <td>0</td>\n",
       "      <td>0</td>\n",
       "      <td>0</td>\n",
       "      <td>0</td>\n",
       "    </tr>\n",
       "    <tr>\n",
       "      <th>1</th>\n",
       "      <td>01002</td>\n",
       "      <td>Amurrio</td>\n",
       "      <td>Araba/Álava</td>\n",
       "      <td>63</td>\n",
       "      <td>89</td>\n",
       "      <td>7</td>\n",
       "      <td>10</td>\n",
       "      <td>5</td>\n",
       "      <td>86</td>\n",
       "      <td>46</td>\n",
       "      <td>51</td>\n",
       "    </tr>\n",
       "    <tr>\n",
       "      <th>2</th>\n",
       "      <td>01003</td>\n",
       "      <td>Aramaio</td>\n",
       "      <td>Araba/Álava</td>\n",
       "      <td>6</td>\n",
       "      <td>4</td>\n",
       "      <td>0</td>\n",
       "      <td>0</td>\n",
       "      <td>0</td>\n",
       "      <td>0</td>\n",
       "      <td>0</td>\n",
       "      <td>0</td>\n",
       "    </tr>\n",
       "    <tr>\n",
       "      <th>3</th>\n",
       "      <td>01004</td>\n",
       "      <td>Artziniega</td>\n",
       "      <td>Araba/Álava</td>\n",
       "      <td>5</td>\n",
       "      <td>14</td>\n",
       "      <td>0</td>\n",
       "      <td>0</td>\n",
       "      <td>0</td>\n",
       "      <td>0</td>\n",
       "      <td>0</td>\n",
       "      <td>0</td>\n",
       "    </tr>\n",
       "    <tr>\n",
       "      <th>4</th>\n",
       "      <td>01006</td>\n",
       "      <td>Armiñón</td>\n",
       "      <td>Araba/Álava</td>\n",
       "      <td>0</td>\n",
       "      <td>0</td>\n",
       "      <td>0</td>\n",
       "      <td>0</td>\n",
       "      <td>0</td>\n",
       "      <td>0</td>\n",
       "      <td>0</td>\n",
       "      <td>0</td>\n",
       "    </tr>\n",
       "    <tr>\n",
       "      <th>5</th>\n",
       "      <td>01008</td>\n",
       "      <td>Arratzua-Ubarrundia</td>\n",
       "      <td>Araba/Álava</td>\n",
       "      <td>0</td>\n",
       "      <td>0</td>\n",
       "      <td>0</td>\n",
       "      <td>0</td>\n",
       "      <td>0</td>\n",
       "      <td>0</td>\n",
       "      <td>0</td>\n",
       "      <td>0</td>\n",
       "    </tr>\n",
       "    <tr>\n",
       "      <th>6</th>\n",
       "      <td>01009</td>\n",
       "      <td>Asparrena</td>\n",
       "      <td>Araba/Álava</td>\n",
       "      <td>14</td>\n",
       "      <td>7</td>\n",
       "      <td>0</td>\n",
       "      <td>0</td>\n",
       "      <td>0</td>\n",
       "      <td>0</td>\n",
       "      <td>0</td>\n",
       "      <td>0</td>\n",
       "    </tr>\n",
       "    <tr>\n",
       "      <th>7</th>\n",
       "      <td>01010</td>\n",
       "      <td>Ayala/Aiara</td>\n",
       "      <td>Araba/Álava</td>\n",
       "      <td>26</td>\n",
       "      <td>27</td>\n",
       "      <td>0</td>\n",
       "      <td>0</td>\n",
       "      <td>0</td>\n",
       "      <td>0</td>\n",
       "      <td>0</td>\n",
       "      <td>0</td>\n",
       "    </tr>\n",
       "    <tr>\n",
       "      <th>8</th>\n",
       "      <td>01011</td>\n",
       "      <td>Baños de Ebro/Mañueta</td>\n",
       "      <td>Araba/Álava</td>\n",
       "      <td>0</td>\n",
       "      <td>0</td>\n",
       "      <td>0</td>\n",
       "      <td>0</td>\n",
       "      <td>0</td>\n",
       "      <td>0</td>\n",
       "      <td>0</td>\n",
       "      <td>0</td>\n",
       "    </tr>\n",
       "    <tr>\n",
       "      <th>9</th>\n",
       "      <td>01013</td>\n",
       "      <td>Barrundia</td>\n",
       "      <td>Araba/Álava</td>\n",
       "      <td>0</td>\n",
       "      <td>0</td>\n",
       "      <td>0</td>\n",
       "      <td>0</td>\n",
       "      <td>0</td>\n",
       "      <td>0</td>\n",
       "      <td>0</td>\n",
       "      <td>0</td>\n",
       "    </tr>\n",
       "    <tr>\n",
       "      <th>10</th>\n",
       "      <td>01014</td>\n",
       "      <td>Berantevilla</td>\n",
       "      <td>Araba/Álava</td>\n",
       "      <td>0</td>\n",
       "      <td>0</td>\n",
       "      <td>0</td>\n",
       "      <td>0</td>\n",
       "      <td>0</td>\n",
       "      <td>0</td>\n",
       "      <td>0</td>\n",
       "      <td>0</td>\n",
       "    </tr>\n",
       "    <tr>\n",
       "      <th>11</th>\n",
       "      <td>01016</td>\n",
       "      <td>Bernedo</td>\n",
       "      <td>Araba/Álava</td>\n",
       "      <td>0</td>\n",
       "      <td>0</td>\n",
       "      <td>0</td>\n",
       "      <td>0</td>\n",
       "      <td>0</td>\n",
       "      <td>0</td>\n",
       "      <td>0</td>\n",
       "      <td>0</td>\n",
       "    </tr>\n",
       "    <tr>\n",
       "      <th>12</th>\n",
       "      <td>01017</td>\n",
       "      <td>Campezo/Kanpezu</td>\n",
       "      <td>Araba/Álava</td>\n",
       "      <td>6</td>\n",
       "      <td>12</td>\n",
       "      <td>0</td>\n",
       "      <td>0</td>\n",
       "      <td>0</td>\n",
       "      <td>0</td>\n",
       "      <td>0</td>\n",
       "      <td>0</td>\n",
       "    </tr>\n",
       "    <tr>\n",
       "      <th>13</th>\n",
       "      <td>01018</td>\n",
       "      <td>Zigoitia</td>\n",
       "      <td>Araba/Álava</td>\n",
       "      <td>16</td>\n",
       "      <td>18</td>\n",
       "      <td>0</td>\n",
       "      <td>0</td>\n",
       "      <td>0</td>\n",
       "      <td>0</td>\n",
       "      <td>0</td>\n",
       "      <td>0</td>\n",
       "    </tr>\n",
       "    <tr>\n",
       "      <th>14</th>\n",
       "      <td>01019</td>\n",
       "      <td>Kripan</td>\n",
       "      <td>Araba/Álava</td>\n",
       "      <td>0</td>\n",
       "      <td>0</td>\n",
       "      <td>0</td>\n",
       "      <td>0</td>\n",
       "      <td>0</td>\n",
       "      <td>0</td>\n",
       "      <td>0</td>\n",
       "      <td>0</td>\n",
       "    </tr>\n",
       "    <tr>\n",
       "      <th>15</th>\n",
       "      <td>01020</td>\n",
       "      <td>Kuartango</td>\n",
       "      <td>Araba/Álava</td>\n",
       "      <td>0</td>\n",
       "      <td>0</td>\n",
       "      <td>0</td>\n",
       "      <td>0</td>\n",
       "      <td>0</td>\n",
       "      <td>0</td>\n",
       "      <td>0</td>\n",
       "      <td>0</td>\n",
       "    </tr>\n",
       "    <tr>\n",
       "      <th>16</th>\n",
       "      <td>01021</td>\n",
       "      <td>Elburgo/Burgelu</td>\n",
       "      <td>Araba/Álava</td>\n",
       "      <td>0</td>\n",
       "      <td>0</td>\n",
       "      <td>0</td>\n",
       "      <td>0</td>\n",
       "      <td>0</td>\n",
       "      <td>0</td>\n",
       "      <td>0</td>\n",
       "      <td>0</td>\n",
       "    </tr>\n",
       "    <tr>\n",
       "      <th>17</th>\n",
       "      <td>01022</td>\n",
       "      <td>Elciego</td>\n",
       "      <td>Araba/Álava</td>\n",
       "      <td>0</td>\n",
       "      <td>0</td>\n",
       "      <td>0</td>\n",
       "      <td>0</td>\n",
       "      <td>0</td>\n",
       "      <td>0</td>\n",
       "      <td>0</td>\n",
       "      <td>0</td>\n",
       "    </tr>\n",
       "    <tr>\n",
       "      <th>18</th>\n",
       "      <td>01023</td>\n",
       "      <td>Elvillar/Bilar</td>\n",
       "      <td>Araba/Álava</td>\n",
       "      <td>0</td>\n",
       "      <td>0</td>\n",
       "      <td>0</td>\n",
       "      <td>0</td>\n",
       "      <td>0</td>\n",
       "      <td>0</td>\n",
       "      <td>0</td>\n",
       "      <td>0</td>\n",
       "    </tr>\n",
       "    <tr>\n",
       "      <th>19</th>\n",
       "      <td>01027</td>\n",
       "      <td>Iruraiz-Gauna</td>\n",
       "      <td>Araba/Álava</td>\n",
       "      <td>0</td>\n",
       "      <td>0</td>\n",
       "      <td>0</td>\n",
       "      <td>0</td>\n",
       "      <td>0</td>\n",
       "      <td>0</td>\n",
       "      <td>0</td>\n",
       "      <td>0</td>\n",
       "    </tr>\n",
       "  </tbody>\n",
       "</table>\n",
       "</div>"
      ],
      "text/plain": [
       "     cmun           municipality     province n_industry n_construction  \\\n",
       "0   01001       Alegría-Dulantzi  Araba/Álava         18             30   \n",
       "1   01002                Amurrio  Araba/Álava         63             89   \n",
       "2   01003                Aramaio  Araba/Álava          6              4   \n",
       "3   01004             Artziniega  Araba/Álava          5             14   \n",
       "4   01006                Armiñón  Araba/Álava          0              0   \n",
       "5   01008    Arratzua-Ubarrundia  Araba/Álava          0              0   \n",
       "6   01009              Asparrena  Araba/Álava         14              7   \n",
       "7   01010            Ayala/Aiara  Araba/Álava         26             27   \n",
       "8   01011  Baños de Ebro/Mañueta  Araba/Álava          0              0   \n",
       "9   01013              Barrundia  Araba/Álava          0              0   \n",
       "10  01014           Berantevilla  Araba/Álava          0              0   \n",
       "11  01016                Bernedo  Araba/Álava          0              0   \n",
       "12  01017        Campezo/Kanpezu  Araba/Álava          6             12   \n",
       "13  01018               Zigoitia  Araba/Álava         16             18   \n",
       "14  01019                 Kripan  Araba/Álava          0              0   \n",
       "15  01020              Kuartango  Araba/Álava          0              0   \n",
       "16  01021        Elburgo/Burgelu  Araba/Álava          0              0   \n",
       "17  01022                Elciego  Araba/Álava          0              0   \n",
       "18  01023         Elvillar/Bilar  Araba/Álava          0              0   \n",
       "19  01027          Iruraiz-Gauna  Araba/Álava          0              0   \n",
       "\n",
       "   n_info_communications n_financial_insurance n_real_estate  \\\n",
       "0                      0                     0             0   \n",
       "1                      7                    10             5   \n",
       "2                      0                     0             0   \n",
       "3                      0                     0             0   \n",
       "4                      0                     0             0   \n",
       "5                      0                     0             0   \n",
       "6                      0                     0             0   \n",
       "7                      0                     0             0   \n",
       "8                      0                     0             0   \n",
       "9                      0                     0             0   \n",
       "10                     0                     0             0   \n",
       "11                     0                     0             0   \n",
       "12                     0                     0             0   \n",
       "13                     0                     0             0   \n",
       "14                     0                     0             0   \n",
       "15                     0                     0             0   \n",
       "16                     0                     0             0   \n",
       "17                     0                     0             0   \n",
       "18                     0                     0             0   \n",
       "19                     0                     0             0   \n",
       "\n",
       "   n_professional_technical n_eduation_health_social n_other  \n",
       "0                         0                        0       0  \n",
       "1                        86                       46      51  \n",
       "2                         0                        0       0  \n",
       "3                         0                        0       0  \n",
       "4                         0                        0       0  \n",
       "5                         0                        0       0  \n",
       "6                         0                        0       0  \n",
       "7                         0                        0       0  \n",
       "8                         0                        0       0  \n",
       "9                         0                        0       0  \n",
       "10                        0                        0       0  \n",
       "11                        0                        0       0  \n",
       "12                        0                        0       0  \n",
       "13                        0                        0       0  \n",
       "14                        0                        0       0  \n",
       "15                        0                        0       0  \n",
       "16                        0                        0       0  \n",
       "17                        0                        0       0  \n",
       "18                        0                        0       0  \n",
       "19                        0                        0       0  "
      ]
     },
     "execution_count": 34,
     "metadata": {},
     "output_type": "execute_result"
    }
   ],
   "source": [
    "df_industry = df_industry.merge(pivot_df, how =\"left\")\n",
    "df_industry.head(20)"
   ]
  },
  {
   "cell_type": "code",
   "execution_count": 35,
   "metadata": {
    "execution": {
     "iopub.execute_input": "2025-03-04T13:25:47.113329Z",
     "iopub.status.busy": "2025-03-04T13:25:47.113261Z",
     "iopub.status.idle": "2025-03-04T13:25:47.115238Z",
     "shell.execute_reply": "2025-03-04T13:25:47.115043Z"
    }
   },
   "outputs": [],
   "source": [
    "df_industry.drop([\"municipality\", \"province\"], axis = 1, inplace=True)"
   ]
  },
  {
   "cell_type": "code",
   "execution_count": 36,
   "metadata": {
    "execution": {
     "iopub.execute_input": "2025-03-04T13:25:47.116193Z",
     "iopub.status.busy": "2025-03-04T13:25:47.116138Z",
     "iopub.status.idle": "2025-03-04T13:25:47.125034Z",
     "shell.execute_reply": "2025-03-04T13:25:47.124718Z"
    }
   },
   "outputs": [],
   "source": [
    "df_industry.to_csv(\"../../data/processed/filtered_files/filtered_industry.csv\", index=False)"
   ]
  }
 ],
 "metadata": {
  "kernelspec": {
   "display_name": ".venv",
   "language": "python",
   "name": "python3"
  },
  "language_info": {
   "codemirror_mode": {
    "name": "ipython",
    "version": 3
   },
   "file_extension": ".py",
   "mimetype": "text/x-python",
   "name": "python",
   "nbconvert_exporter": "python",
   "pygments_lexer": "ipython3",
   "version": "3.11.3"
  }
 },
 "nbformat": 4,
 "nbformat_minor": 2
}
