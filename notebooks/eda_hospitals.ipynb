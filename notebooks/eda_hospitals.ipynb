{
 "cells": [
  {
   "cell_type": "code",
   "execution_count": null,
   "metadata": {},
   "outputs": [],
   "source": [
    "import pandas as pd\n",
    "import plotly.express as px\n",
    "import numpy as np"
   ]
  },
  {
   "cell_type": "code",
   "execution_count": 2,
   "metadata": {},
   "outputs": [
    {
     "data": {
      "text/plain": [
       "Index(['OBJECTID', 'CODCNH', 'NOMBRE', 'DIRECCION', 'TELEFONO', 'TELEFONO2',\n",
       "       'TELEFAX', 'CODMU', 'MUNICIPIOS', 'CODPROV', 'PROVINCIAS', 'CODAUTO',\n",
       "       'COMUNIDADES', 'CODPOSTAL', 'NCAMAS', 'CODFI', 'FINALIDAD_ASISITENCIAL',\n",
       "       'CODPAT', 'DEPENDENCIA_PATRIMONIAL', 'CODFU', 'DEPENDENCIA_FUNCIONAL',\n",
       "       'ACREDOCENT', 'ESCOMPLE', 'FORCOMPLE', 'CODIDCOM', 'ALTA', 'CERRADO',\n",
       "       'CAPITAL', 'CIERREFECH', 'CONCIERTO', 'EMAIL', 'TAC', 'RM', 'GAM',\n",
       "       'HEM', 'ASD', 'LIT', 'BCO', 'ALI', 'SPECT', 'PET', 'MAMOS', 'DO',\n",
       "       'DIAL', 'X', 'Y', 'CalidadGeocodificacion'],\n",
       "      dtype='object')"
      ]
     },
     "execution_count": 2,
     "metadata": {},
     "output_type": "execute_result"
    }
   ],
   "source": [
    "df_hospitals = pd.read_csv(\"../data/hospitals_spain.csv\")\n",
    "df_hospitals.columns"
   ]
  },
  {
   "cell_type": "markdown",
   "metadata": {},
   "source": [
    "The column names in the hospitals dataset are:\n",
    "\n",
    "- **Identification**\n",
    "    - `OBJECTID`: Object identifier\n",
    "    - `CODCNH`: Hospital code\n",
    "    - `NOMBRE`: Hospital name\n",
    "    - `CODIDCOM`: Community identifier code\n",
    "\n",
    "- **Contact Information**\n",
    "    - `DIRECCION`: Address\n",
    "    - `TELEFONO`: Phone\n",
    "    - `TELEFONO2`: Secondary phone\n",
    "    - `TELEFAX`: Fax\n",
    "    - `EMAIL`: Email address\n",
    "    - `CODPOSTAL`: Postal code\n",
    "\n",
    "- **Location**\n",
    "    - `CODMU`: Municipality code\n",
    "    - `MUNICIPIOS`: Municipality name \n",
    "    - `CODPROV`: Province code\n",
    "    - `PROVINCIAS`: Province name\n",
    "    - `CODAUTO`: Autonomous community code \n",
    "    - `COMUNIDADES`: Autonomous community name\n",
    "    - `X`: Longitude coordinate\n",
    "    - `Y`: Latitude coordinate\n",
    "    - `CalidadGeocodificacion`: Geocoding quality\n",
    "    - `CAPITAL`: Capital city indicator\n",
    "\n",
    "- **Hospital Information**\n",
    "    - `NCAMAS`: Number of beds\n",
    "    - `CODFI`: Healthcare purpose code\n",
    "    - `FINALIDAD_ASISITENCIAL`: Healthcare purpose description\n",
    "    - `CODPAT`: Asset ownership code\n",
    "    - `DEPENDENCIA_PATRIMONIAL`: Asset ownership description\n",
    "    - `CODFU`: Functional dependency code\n",
    "    - `DEPENDENCIA_FUNCIONAL`: Functional dependency description\n",
    "\n",
    "- **Status & Certifications**\n",
    "    - `ACREDOCENT`: Teaching accreditation\n",
    "    - `ESCOMPLE`: Complementary center\n",
    "    - `FORCOMPLE`: Complementary form\n",
    "    - `ALTA`: Active status\n",
    "    - `CERRADO`: Closed status\n",
    "    - `CIERREFECH`: Closing date\n",
    "    - `CONCIERTO`: Agreement status\n",
    "\n",
    "- **Equipment & Services**\n",
    "    - `TAC`: CT scanner\n",
    "    - `RM`: MRI\n",
    "    - `GAM`: Gamma camera\n",
    "    - `HEM`: Hemodynamics\n",
    "    - `ASD`: Assistant diagnostic systems\n",
    "    - `LIT`: Lithotripsy\n",
    "    - `BCO`: Blood bank\n",
    "    - `ALI`: Other\n",
    "    - `SPECT`: SPECT scanner\n",
    "    - `PET`: PET scanner\n",
    "    - `MAMOS`: Mammography\n",
    "    - `DO`: Other diagnostic\n",
    "    - `DIAL`: Dialysis"
   ]
  },
  {
   "cell_type": "code",
   "execution_count": 3,
   "metadata": {},
   "outputs": [],
   "source": [
    "hospital_dict = {\n",
    "    'NOMBRE': 1,\n",
    "    'CODMU': 1,\n",
    "    'MUNICIPIOS': 1,\n",
    "    'CODAUTO': 1,\n",
    "    'COMUNIDADES': 1,\n",
    "    'NCAMAS': 1,\n",
    "    'FINALIDAD_ASISITENCIAL': 1,\n",
    "    'DEPENDENCIA_PATRIMONIAL': 1,\n",
    "    'X': 1,\n",
    "    'Y': 1,\n",
    "}"
   ]
  },
  {
   "cell_type": "code",
   "execution_count": 4,
   "metadata": {},
   "outputs": [
    {
     "data": {
      "text/plain": [
       "CIERREFECH                 923\n",
       "CODIDCOM                   809\n",
       "TELEFONO2                  574\n",
       "EMAIL                      156\n",
       "TELEFAX                     66\n",
       "TELEFONO                     2\n",
       "LIT                          0\n",
       "CAPITAL                      0\n",
       "CONCIERTO                    0\n",
       "TAC                          0\n",
       "RM                           0\n",
       "GAM                          0\n",
       "HEM                          0\n",
       "ASD                          0\n",
       "OBJECTID                     0\n",
       "BCO                          0\n",
       "CERRADO                      0\n",
       "SPECT                        0\n",
       "PET                          0\n",
       "MAMOS                        0\n",
       "DO                           0\n",
       "DIAL                         0\n",
       "X                            0\n",
       "Y                            0\n",
       "ALI                          0\n",
       "FORCOMPLE                    0\n",
       "ALTA                         0\n",
       "CODPOSTAL                    0\n",
       "NOMBRE                       0\n",
       "DIRECCION                    0\n",
       "CODMU                        0\n",
       "MUNICIPIOS                   0\n",
       "CODPROV                      0\n",
       "PROVINCIAS                   0\n",
       "CODAUTO                      0\n",
       "COMUNIDADES                  0\n",
       "NCAMAS                       0\n",
       "CODCNH                       0\n",
       "CODFI                        0\n",
       "FINALIDAD_ASISITENCIAL       0\n",
       "CODPAT                       0\n",
       "DEPENDENCIA_PATRIMONIAL      0\n",
       "CODFU                        0\n",
       "DEPENDENCIA_FUNCIONAL        0\n",
       "ACREDOCENT                   0\n",
       "ESCOMPLE                     0\n",
       "CalidadGeocodificacion       0\n",
       "dtype: int64"
      ]
     },
     "execution_count": 4,
     "metadata": {},
     "output_type": "execute_result"
    }
   ],
   "source": [
    "is_null = df_hospitals.isnull().sum().sort_values(ascending=False)\n",
    "is_null"
   ]
  }
 ],
 "metadata": {
  "kernelspec": {
   "display_name": ".venv",
   "language": "python",
   "name": "python3"
  },
  "language_info": {
   "codemirror_mode": {
    "name": "ipython",
    "version": 3
   },
   "file_extension": ".py",
   "mimetype": "text/x-python",
   "name": "python",
   "nbconvert_exporter": "python",
   "pygments_lexer": "ipython3",
   "version": "3.11.3"
  }
 },
 "nbformat": 4,
 "nbformat_minor": 2
}
