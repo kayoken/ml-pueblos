{
 "cells": [
  {
   "cell_type": "code",
   "execution_count": null,
   "metadata": {
    "execution": {
     "iopub.execute_input": "2025-02-17T09:35:34.303439Z",
     "iopub.status.busy": "2025-02-17T09:35:34.303144Z",
     "iopub.status.idle": "2025-02-17T09:35:34.679131Z",
     "shell.execute_reply": "2025-02-17T09:35:34.678830Z"
    }
   },
   "outputs": [],
   "source": [
    "import pandas as pd\n",
    "import plotly.express as px\n",
    "import numpy as np"
   ]
  },
  {
   "cell_type": "code",
   "execution_count": null,
   "metadata": {
    "execution": {
     "iopub.execute_input": "2025-02-17T09:35:34.680481Z",
     "iopub.status.busy": "2025-02-17T09:35:34.680364Z",
     "iopub.status.idle": "2025-02-17T09:35:34.688101Z",
     "shell.execute_reply": "2025-02-17T09:35:34.687871Z"
    }
   },
   "outputs": [],
   "source": [
    "df = pd.read_csv(\"../data/raw/hospitals_spain.csv\")\n",
    "df.columns"
   ]
  },
  {
   "cell_type": "markdown",
   "metadata": {},
   "source": [
    "The column names in the hospitals dataset are:\n",
    "\n",
    "- **Identification**\n",
    "    - `OBJECTID`: Object identifier\n",
    "    - `CODCNH`: Hospital code\n",
    "    - `NOMBRE`: Hospital name\n",
    "    - `CODIDCOM`: Community identifier code\n",
    "\n",
    "- **Contact Information**\n",
    "    - `DIRECCION`: Address\n",
    "    - `TELEFONO`: Phone\n",
    "    - `TELEFONO2`: Secondary phone\n",
    "    - `TELEFAX`: Fax\n",
    "    - `EMAIL`: Email address\n",
    "    - `CODPOSTAL`: Postal code\n",
    "\n",
    "- **Location**\n",
    "    - `CODMU`: Municipality code\n",
    "    - `MUNICIPIOS`: Municipality name \n",
    "    - `CODPROV`: Province code\n",
    "    - `PROVINCIAS`: Province name\n",
    "    - `CODAUTO`: Autonomous community code \n",
    "    - `COMUNIDADES`: Autonomous community name\n",
    "    - `X`: Longitude coordinate\n",
    "    - `Y`: Latitude coordinate\n",
    "    - `CalidadGeocodificacion`: Geocoding quality\n",
    "    - `CAPITAL`: Capital city indicator\n",
    "\n",
    "- **Hospital Information**\n",
    "    - `NCAMAS`: Number of beds\n",
    "    - `CODFI`: Healthcare purpose code\n",
    "    - `FINALIDAD_ASISITENCIAL`: Healthcare purpose description\n",
    "    - `CODPAT`: Asset ownership code\n",
    "    - `DEPENDENCIA_PATRIMONIAL`: Asset ownership description\n",
    "    - `CODFU`: Functional dependency code\n",
    "    - `DEPENDENCIA_FUNCIONAL`: Functional dependency description\n",
    "\n",
    "- **Status & Certifications**\n",
    "    - `ACREDOCENT`: Teaching accreditation\n",
    "    - `ESCOMPLE`: Complementary center\n",
    "    - `FORCOMPLE`: Complementary form\n",
    "    - `ALTA`: Active status\n",
    "    - `CERRADO`: Closed status\n",
    "    - `CIERREFECH`: Closing date\n",
    "    - `CONCIERTO`: Agreement status\n",
    "\n",
    "- **Equipment & Services**\n",
    "    - `TAC`: CT scanner\n",
    "    - `RM`: MRI\n",
    "    - `GAM`: Gamma camera\n",
    "    - `HEM`: Hemodynamics\n",
    "    - `ASD`: Assistant diagnostic systems\n",
    "    - `LIT`: Lithotripsy\n",
    "    - `BCO`: Blood bank\n",
    "    - `ALI`: Other\n",
    "    - `SPECT`: SPECT scanner\n",
    "    - `PET`: PET scanner\n",
    "    - `MAMOS`: Mammography\n",
    "    - `DO`: Other diagnostic\n",
    "    - `DIAL`: Dialysis"
   ]
  },
  {
   "cell_type": "code",
   "execution_count": null,
   "metadata": {
    "execution": {
     "iopub.execute_input": "2025-02-17T09:35:34.689148Z",
     "iopub.status.busy": "2025-02-17T09:35:34.689085Z",
     "iopub.status.idle": "2025-02-17T09:35:34.691087Z",
     "shell.execute_reply": "2025-02-17T09:35:34.690871Z"
    }
   },
   "outputs": [],
   "source": [
    "df.columns"
   ]
  },
  {
   "cell_type": "code",
   "execution_count": null,
   "metadata": {
    "execution": {
     "iopub.execute_input": "2025-02-17T09:35:34.692153Z",
     "iopub.status.busy": "2025-02-17T09:35:34.692042Z",
     "iopub.status.idle": "2025-02-17T09:35:34.694174Z",
     "shell.execute_reply": "2025-02-17T09:35:34.693937Z"
    }
   },
   "outputs": [],
   "source": [
    "df.rename(columns={\"NOMBRE\": \"hospital_name\", \n",
    "                   \"CODMU\": \"cmun\",\n",
    "                   \"MUNICIPIOS\": \"municipality\", \n",
    "                   \"NCAMAS\": \"n_beds\",\n",
    "                   \"FINALIDAD_ASISITENCIAL\": \"type\", \n",
    "                   \"DEPENDENCIA_PATRIMONIAL\": \"management\",  \n",
    "                   \"X\": \"longitude\", \n",
    "                   \"Y\": \"latitude\"}, inplace=True)\n"
   ]
  },
  {
   "cell_type": "code",
   "execution_count": null,
   "metadata": {
    "execution": {
     "iopub.execute_input": "2025-02-17T09:35:34.695291Z",
     "iopub.status.busy": "2025-02-17T09:35:34.695204Z",
     "iopub.status.idle": "2025-02-17T09:35:34.697417Z",
     "shell.execute_reply": "2025-02-17T09:35:34.697172Z"
    }
   },
   "outputs": [],
   "source": [
    "hospital_columns = [\n",
    "    'hospital_name',\n",
    "    \"municipality\",\n",
    "    'cmun',\n",
    "    'n_beds',\n",
    "    'type',\n",
    "    'management',\n",
    "    'latitude',\n",
    "    'longitude'\n",
    "]\n",
    "df = df[hospital_columns]\n"
   ]
  },
  {
   "cell_type": "code",
   "execution_count": null,
   "metadata": {
    "execution": {
     "iopub.execute_input": "2025-02-17T09:35:34.698469Z",
     "iopub.status.busy": "2025-02-17T09:35:34.698399Z",
     "iopub.status.idle": "2025-02-17T09:35:34.704658Z",
     "shell.execute_reply": "2025-02-17T09:35:34.704414Z"
    }
   },
   "outputs": [],
   "source": [
    "df.sample(10)"
   ]
  },
  {
   "cell_type": "code",
   "execution_count": null,
   "metadata": {
    "execution": {
     "iopub.execute_input": "2025-02-17T09:35:34.705787Z",
     "iopub.status.busy": "2025-02-17T09:35:34.705706Z",
     "iopub.status.idle": "2025-02-17T09:35:34.708817Z",
     "shell.execute_reply": "2025-02-17T09:35:34.708568Z"
    }
   },
   "outputs": [],
   "source": [
    "df['hospital_name'] =df['hospital_name'].str.title()\n",
    "df['municipality'] = df['municipality'].str.lower()\n",
    "df['type'] = df['type'].str.capitalize()\n",
    "df['management'] = df['management'].str.title()"
   ]
  },
  {
   "cell_type": "code",
   "execution_count": null,
   "metadata": {
    "execution": {
     "iopub.execute_input": "2025-02-17T09:35:34.709959Z",
     "iopub.status.busy": "2025-02-17T09:35:34.709871Z",
     "iopub.status.idle": "2025-02-17T09:35:34.712305Z",
     "shell.execute_reply": "2025-02-17T09:35:34.712049Z"
    }
   },
   "outputs": [],
   "source": [
    "df[\"type\"].unique()"
   ]
  },
  {
   "cell_type": "code",
   "execution_count": null,
   "metadata": {
    "execution": {
     "iopub.execute_input": "2025-02-17T09:35:34.713551Z",
     "iopub.status.busy": "2025-02-17T09:35:34.713481Z",
     "iopub.status.idle": "2025-02-17T09:35:34.715372Z",
     "shell.execute_reply": "2025-02-17T09:35:34.715154Z"
    }
   },
   "outputs": [],
   "source": [
    "translation_dict = {\n",
    "    'Psiquiátrico': 'Psychiatric',\n",
    "    'Médico-quirúrgico': 'Medical-surgical',\n",
    "    'General': 'General',\n",
    "    'Geriatría y/o larga estancia': 'Geriatrics and/or long-term care',\n",
    "    'Rehabilitación psicofísica': 'Psychophysical rehabilitation',\n",
    "    'Materno-infantil': 'Maternal-infant',\n",
    "    'Quirúrgico': 'Surgical',\n",
    "    'Traumatología y/o rehabilitación': 'Traumatology and/or rehabilitation',\n",
    "    'Otra finalidad': 'Other purpose',\n",
    "    'Infantil': 'Pediatric',\n",
    "    'Otros monográficos': 'Other specialized',\n",
    "    'Oftálmico u orl': 'Ophthalmologic or ENT',\n",
    "    'Oncológico': 'Oncological',\n",
    "    'Maternal': 'Maternity'\n",
    "}\n"
   ]
  },
  {
   "cell_type": "code",
   "execution_count": null,
   "metadata": {
    "execution": {
     "iopub.execute_input": "2025-02-17T09:35:34.716612Z",
     "iopub.status.busy": "2025-02-17T09:35:34.716525Z",
     "iopub.status.idle": "2025-02-17T09:35:34.718604Z",
     "shell.execute_reply": "2025-02-17T09:35:34.718386Z"
    }
   },
   "outputs": [],
   "source": [
    "df['type'] = df['type'].map(translation_dict)"
   ]
  },
  {
   "cell_type": "code",
   "execution_count": null,
   "metadata": {
    "execution": {
     "iopub.execute_input": "2025-02-17T09:35:34.719728Z",
     "iopub.status.busy": "2025-02-17T09:35:34.719664Z",
     "iopub.status.idle": "2025-02-17T09:35:34.721785Z",
     "shell.execute_reply": "2025-02-17T09:35:34.721565Z"
    }
   },
   "outputs": [],
   "source": [
    "df[\"management\"].unique()"
   ]
  },
  {
   "cell_type": "code",
   "execution_count": null,
   "metadata": {
    "execution": {
     "iopub.execute_input": "2025-02-17T09:35:34.722810Z",
     "iopub.status.busy": "2025-02-17T09:35:34.722741Z",
     "iopub.status.idle": "2025-02-17T09:35:34.724508Z",
     "shell.execute_reply": "2025-02-17T09:35:34.724267Z"
    }
   },
   "outputs": [],
   "source": [
    "management_translation_dict = {\n",
    "    'Comunidad Autónoma': 'Autonomous Community',\n",
    "    'Privado No Benéfico': 'Private Non-Profit',\n",
    "    'Seguridad Social': 'Social Security',\n",
    "    'Diputación O Cabildo': 'Provincial Council or Island Council',\n",
    "    'Otro Privado Benéfico': 'Other Private Non-Profit',\n",
    "    'Ministerio De Interior': 'Ministry of Interior',\n",
    "    'Entidades Públicas': 'Public Entities',\n",
    "    'Privado-Benéfico (Iglesia)': 'Private Non-Profit (Church)',\n",
    "    'Municipio': 'Municipality',\n",
    "    'Matep': 'Matep',  # Assuming Matep is a specific term or acronym.\n",
    "    'Privado-Benéfico (Cruz Roja)': 'Private Non-Profit (Red Cross)',\n",
    "    'Otra Dependencia Patrimonial': 'Other Patrimonial Dependency',\n",
    "    'Ministerio De Defensa': 'Ministry of Defense'\n",
    "}\n"
   ]
  },
  {
   "cell_type": "code",
   "execution_count": null,
   "metadata": {
    "execution": {
     "iopub.execute_input": "2025-02-17T09:35:34.725456Z",
     "iopub.status.busy": "2025-02-17T09:35:34.725392Z",
     "iopub.status.idle": "2025-02-17T09:35:34.727257Z",
     "shell.execute_reply": "2025-02-17T09:35:34.727026Z"
    }
   },
   "outputs": [],
   "source": [
    "df['management'] = df['management'].map(management_translation_dict)"
   ]
  },
  {
   "cell_type": "code",
   "execution_count": null,
   "metadata": {
    "execution": {
     "iopub.execute_input": "2025-02-17T09:35:34.728291Z",
     "iopub.status.busy": "2025-02-17T09:35:34.728213Z",
     "iopub.status.idle": "2025-02-17T09:35:34.731611Z",
     "shell.execute_reply": "2025-02-17T09:35:34.731349Z"
    }
   },
   "outputs": [],
   "source": [
    "df.head()"
   ]
  },
  {
   "cell_type": "code",
   "execution_count": null,
   "metadata": {
    "execution": {
     "iopub.execute_input": "2025-02-17T09:35:34.732849Z",
     "iopub.status.busy": "2025-02-17T09:35:34.732778Z",
     "iopub.status.idle": "2025-02-17T09:35:34.737345Z",
     "shell.execute_reply": "2025-02-17T09:35:34.737125Z"
    }
   },
   "outputs": [],
   "source": [
    "df"
   ]
  },
  {
   "cell_type": "code",
   "execution_count": null,
   "metadata": {
    "execution": {
     "iopub.execute_input": "2025-02-17T09:35:34.738347Z",
     "iopub.status.busy": "2025-02-17T09:35:34.738290Z",
     "iopub.status.idle": "2025-02-17T09:35:34.740347Z",
     "shell.execute_reply": "2025-02-17T09:35:34.740144Z"
    }
   },
   "outputs": [],
   "source": [
    "df[\"cmun\"] = df[\"cmun\"].apply(lambda x: int(str(x)[:-1]) if len(str(x)) > 5 else x)\n"
   ]
  },
  {
   "cell_type": "code",
   "execution_count": null,
   "metadata": {
    "execution": {
     "iopub.execute_input": "2025-02-17T09:35:34.741623Z",
     "iopub.status.busy": "2025-02-17T09:35:34.741542Z",
     "iopub.status.idle": "2025-02-17T09:35:34.745520Z",
     "shell.execute_reply": "2025-02-17T09:35:34.745278Z"
    }
   },
   "outputs": [],
   "source": [
    "df"
   ]
  },
  {
   "cell_type": "code",
   "execution_count": null,
   "metadata": {
    "execution": {
     "iopub.execute_input": "2025-02-17T09:35:34.746586Z",
     "iopub.status.busy": "2025-02-17T09:35:34.746525Z",
     "iopub.status.idle": "2025-02-17T09:35:34.748458Z",
     "shell.execute_reply": "2025-02-17T09:35:34.748211Z"
    }
   },
   "outputs": [],
   "source": [
    "df = df[[\"cmun\", \"hospital_name\", \"n_beds\", \"type\", \"management\", \"latitude\", \"longitude\"]]"
   ]
  },
  {
   "cell_type": "code",
   "execution_count": null,
   "metadata": {
    "execution": {
     "iopub.execute_input": "2025-02-17T09:35:34.749347Z",
     "iopub.status.busy": "2025-02-17T09:35:34.749292Z",
     "iopub.status.idle": "2025-02-17T09:35:34.751542Z",
     "shell.execute_reply": "2025-02-17T09:35:34.751346Z"
    }
   },
   "outputs": [],
   "source": [
    "df.isna().sum()"
   ]
  },
  {
   "cell_type": "code",
   "execution_count": null,
   "metadata": {
    "execution": {
     "iopub.execute_input": "2025-02-17T09:35:34.752534Z",
     "iopub.status.busy": "2025-02-17T09:35:34.752457Z",
     "iopub.status.idle": "2025-02-17T09:35:34.756708Z",
     "shell.execute_reply": "2025-02-17T09:35:34.756459Z"
    }
   },
   "outputs": [],
   "source": [
    "df.to_csv(\"../data/processed/filtered_hospitals.csv\", index=False)"
   ]
  }
 ],
 "metadata": {
  "kernelspec": {
   "display_name": ".venv",
   "language": "python",
   "name": "python3"
  },
  "language_info": {
   "codemirror_mode": {
    "name": "ipython",
    "version": 3
   },
   "file_extension": ".py",
   "mimetype": "text/x-python",
   "name": "python",
   "nbconvert_exporter": "python",
   "pygments_lexer": "ipython3",
   "version": "3.11.3"
  }
 },
 "nbformat": 4,
 "nbformat_minor": 2
}
