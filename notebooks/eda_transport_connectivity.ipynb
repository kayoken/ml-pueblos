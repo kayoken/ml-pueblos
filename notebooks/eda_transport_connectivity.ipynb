{
 "cells": [
  {
   "cell_type": "code",
   "execution_count": 8,
   "metadata": {},
   "outputs": [],
   "source": [
    "import pandas as pd\n",
    "import plotly.express as px\n",
    "import numpy as np\n",
    "import geopandas as gpd\n",
    "from pyproj import Transformer"
   ]
  },
  {
   "cell_type": "markdown",
   "metadata": {},
   "source": [
    "### Airports"
   ]
  },
  {
   "cell_type": "code",
   "execution_count": 9,
   "metadata": {},
   "outputs": [
    {
     "data": {
      "text/html": [
       "<div>\n",
       "<style scoped>\n",
       "    .dataframe tbody tr th:only-of-type {\n",
       "        vertical-align: middle;\n",
       "    }\n",
       "\n",
       "    .dataframe tbody tr th {\n",
       "        vertical-align: top;\n",
       "    }\n",
       "\n",
       "    .dataframe thead th {\n",
       "        text-align: right;\n",
       "    }\n",
       "</style>\n",
       "<table border=\"1\" class=\"dataframe\">\n",
       "  <thead>\n",
       "    <tr style=\"text-align: right;\">\n",
       "      <th></th>\n",
       "      <th>airport_id</th>\n",
       "      <th>airport_name</th>\n",
       "      <th>latitude</th>\n",
       "      <th>longitude</th>\n",
       "    </tr>\n",
       "  </thead>\n",
       "  <tbody>\n",
       "    <tr>\n",
       "      <th>0</th>\n",
       "      <td>1</td>\n",
       "      <td>Aeropuerto de Jerez</td>\n",
       "      <td>36.743828</td>\n",
       "      <td>-6.062658</td>\n",
       "    </tr>\n",
       "    <tr>\n",
       "      <th>1</th>\n",
       "      <td>2</td>\n",
       "      <td>Aeropuerto de Vigo</td>\n",
       "      <td>42.225740</td>\n",
       "      <td>-8.630491</td>\n",
       "    </tr>\n",
       "    <tr>\n",
       "      <th>2</th>\n",
       "      <td>3</td>\n",
       "      <td>Aeropuerto de Badajoz</td>\n",
       "      <td>38.889845</td>\n",
       "      <td>-6.821121</td>\n",
       "    </tr>\n",
       "    <tr>\n",
       "      <th>3</th>\n",
       "      <td>4</td>\n",
       "      <td>Aeropuerto de Granada - Jaén F.G.L.</td>\n",
       "      <td>37.186826</td>\n",
       "      <td>-3.778613</td>\n",
       "    </tr>\n",
       "    <tr>\n",
       "      <th>4</th>\n",
       "      <td>5</td>\n",
       "      <td>Aeropuerto de Almería</td>\n",
       "      <td>36.844781</td>\n",
       "      <td>-2.371234</td>\n",
       "    </tr>\n",
       "  </tbody>\n",
       "</table>\n",
       "</div>"
      ],
      "text/plain": [
       "   airport_id                         airport_name   latitude  longitude\n",
       "0           1                  Aeropuerto de Jerez  36.743828  -6.062658\n",
       "1           2                   Aeropuerto de Vigo  42.225740  -8.630491\n",
       "2           3                Aeropuerto de Badajoz  38.889845  -6.821121\n",
       "3           4  Aeropuerto de Granada - Jaén F.G.L.  37.186826  -3.778613\n",
       "4           5                Aeropuerto de Almería  36.844781  -2.371234"
      ]
     },
     "execution_count": 9,
     "metadata": {},
     "output_type": "execute_result"
    }
   ],
   "source": [
    "# Read the GeoJSON file\n",
    "gdf = gpd.read_file('../data/raw/spanish_airports.geojson')\n",
    "# Ensure that the geometry column contains points\n",
    "# Extract latitude and longitude from the geometry column\n",
    "gdf['latitude'] = gdf.geometry.y\n",
    "gdf['longitude'] = gdf.geometry.x\n",
    "\n",
    "# Now drop the geometry column if you don't need it anymore\n",
    "df_airports = gdf.drop(columns='geometry')\n",
    "\n",
    "df_airports.rename(columns={\"Texto\": \"airport_name\", \"OBJECTID\": \"airport_id\", \"lat\": \"latitude\", \"lon\": \"longitude\"}, inplace=True)\n",
    "df_airports.head()"
   ]
  },
  {
   "cell_type": "code",
   "execution_count": 16,
   "metadata": {},
   "outputs": [
    {
     "data": {
      "application/vnd.plotly.v1+json": {
       "config": {
        "plotlyServerURL": "https://plot.ly"
       },
       "data": [
        {
         "hovertemplate": "latitude=%{lat}<br>longitude=%{lon}<extra></extra>",
         "lat": {
          "bdata": "wugIvzVfQkD6YqIJ5RxFQJJuIm/mcUNAF6h46emXQkD4YMLJIWxCQKNWE2qyeURAKtgsxOpvQ0A2LdOnd/M8QAJJB99AnzxAvGuqIF58PEApBv9L+gc8QPykHxalCzxAoz0DT13uO0B3dIBrmdA7QC2sLwv2x0VAWz9OK8HaREBEQljwi7ZFQGec79KerUVAC8ifiLimRUAbsh7kA+xCQK8g3HS/pkVAcbOfd/w+RECMfFOfjXlDQI7Nqst8EEJAfql085UkQ0AoOlU77aVEQJz3o7BaLUVArj4TPDryQUCcUl5iWHM8QFvdd8VR80RAYUa6vM4JRUAEjad+f0tFQOB7fwHUOkVABk8AunAvREAqgrxOkVZCQIkyC969o0FA+elqZqfuQ0AaimkX9OJCQOkIhxZixkNAu6nzCu9hRUCCf2A7wJJEQMmlkAiwwkRAMlrTut5yRUBhzgRWurVCQEnZTTj9zENALNFbD9i+Q0DkGp5DiHBFQGQKkJLU1URA",
          "dtype": "f8"
         },
         "legendgroup": "",
         "lon": {
          "bdata": "RqQjdSlAGMDPtq+8z0IhwFQm29LTSBvASM3rRpk6DsAUHbNqSfgCwEPaOLAGAxbANxefxnP29T9sBq8zxTUrwKu9e2vvwDHA9BsG2f5YMMDAeoKlQzYxwIFuKEZHkzDAWbEqOTHGLsA/XnRrD+MxwLFGM7JmIRjAup0Iv5xkE8AFB6FtIJUOwJGgW+lqqvy/RH3oJlFEB8B0d1ATRmMTwIIKcuVHwSDAfXfuDU2cDMBub/KdhM/9v15zV99awxXAVN3hdvMG4r/V7I28Ia4AQFl/Uhs2+QzARLddrJQ5FcCPjeJffrsrwHnEmbE2HAZAef8DNhlU1L/Vo1KeK54WwMo+fbnIiQLAMo2HQuRHDsAioR3snvwRwMidFTHBpQfAQcyI97LiEEAvelmYvSTqv1x/WBjH2gVAe6cTZc1I+r8C812UPInyP4I3H/+c1gBAOR4n/P7VIMDaPczMMJgXwLBv8MNmpAVAhx1yBtzA3r+UbDpzadkFwNYu01cw9/C/",
          "dtype": "f8"
         },
         "marker": {
          "color": "#636efa",
          "sizeref": 1000
         },
         "mode": "markers",
         "name": "",
         "showlegend": false,
         "subplot": "map",
         "type": "scattermap"
        }
       ],
       "layout": {
        "coloraxis": {
         "colorbar": {
          "title": {
           "text": "asdf"
          }
         }
        },
        "geo": {
         "fitbounds": "locations"
        },
        "height": 1000,
        "legend": {
         "tracegroupgap": 0
        },
        "map": {
         "center": {
          "lat": 38.24756209331752,
          "lon": -4.921515881956593
         },
         "domain": {
          "x": [
           0,
           1
          ],
          "y": [
           0,
           1
          ]
         },
         "zoom": 5
        },
        "mapbox": {
         "center": {
          "lat": 38.24756209331752,
          "lon": -4.921515881956593
         },
         "style": "open-street-map",
         "zoom": 5
        },
        "margin": {
         "b": 50,
         "l": 50,
         "r": 50,
         "t": 50
        },
        "template": {
         "data": {
          "bar": [
           {
            "error_x": {
             "color": "#2a3f5f"
            },
            "error_y": {
             "color": "#2a3f5f"
            },
            "marker": {
             "line": {
              "color": "#E5ECF6",
              "width": 0.5
             },
             "pattern": {
              "fillmode": "overlay",
              "size": 10,
              "solidity": 0.2
             }
            },
            "type": "bar"
           }
          ],
          "barpolar": [
           {
            "marker": {
             "line": {
              "color": "#E5ECF6",
              "width": 0.5
             },
             "pattern": {
              "fillmode": "overlay",
              "size": 10,
              "solidity": 0.2
             }
            },
            "type": "barpolar"
           }
          ],
          "carpet": [
           {
            "aaxis": {
             "endlinecolor": "#2a3f5f",
             "gridcolor": "white",
             "linecolor": "white",
             "minorgridcolor": "white",
             "startlinecolor": "#2a3f5f"
            },
            "baxis": {
             "endlinecolor": "#2a3f5f",
             "gridcolor": "white",
             "linecolor": "white",
             "minorgridcolor": "white",
             "startlinecolor": "#2a3f5f"
            },
            "type": "carpet"
           }
          ],
          "choropleth": [
           {
            "colorbar": {
             "outlinewidth": 0,
             "ticks": ""
            },
            "type": "choropleth"
           }
          ],
          "contour": [
           {
            "colorbar": {
             "outlinewidth": 0,
             "ticks": ""
            },
            "colorscale": [
             [
              0,
              "#0d0887"
             ],
             [
              0.1111111111111111,
              "#46039f"
             ],
             [
              0.2222222222222222,
              "#7201a8"
             ],
             [
              0.3333333333333333,
              "#9c179e"
             ],
             [
              0.4444444444444444,
              "#bd3786"
             ],
             [
              0.5555555555555556,
              "#d8576b"
             ],
             [
              0.6666666666666666,
              "#ed7953"
             ],
             [
              0.7777777777777778,
              "#fb9f3a"
             ],
             [
              0.8888888888888888,
              "#fdca26"
             ],
             [
              1,
              "#f0f921"
             ]
            ],
            "type": "contour"
           }
          ],
          "contourcarpet": [
           {
            "colorbar": {
             "outlinewidth": 0,
             "ticks": ""
            },
            "type": "contourcarpet"
           }
          ],
          "heatmap": [
           {
            "colorbar": {
             "outlinewidth": 0,
             "ticks": ""
            },
            "colorscale": [
             [
              0,
              "#0d0887"
             ],
             [
              0.1111111111111111,
              "#46039f"
             ],
             [
              0.2222222222222222,
              "#7201a8"
             ],
             [
              0.3333333333333333,
              "#9c179e"
             ],
             [
              0.4444444444444444,
              "#bd3786"
             ],
             [
              0.5555555555555556,
              "#d8576b"
             ],
             [
              0.6666666666666666,
              "#ed7953"
             ],
             [
              0.7777777777777778,
              "#fb9f3a"
             ],
             [
              0.8888888888888888,
              "#fdca26"
             ],
             [
              1,
              "#f0f921"
             ]
            ],
            "type": "heatmap"
           }
          ],
          "histogram": [
           {
            "marker": {
             "pattern": {
              "fillmode": "overlay",
              "size": 10,
              "solidity": 0.2
             }
            },
            "type": "histogram"
           }
          ],
          "histogram2d": [
           {
            "colorbar": {
             "outlinewidth": 0,
             "ticks": ""
            },
            "colorscale": [
             [
              0,
              "#0d0887"
             ],
             [
              0.1111111111111111,
              "#46039f"
             ],
             [
              0.2222222222222222,
              "#7201a8"
             ],
             [
              0.3333333333333333,
              "#9c179e"
             ],
             [
              0.4444444444444444,
              "#bd3786"
             ],
             [
              0.5555555555555556,
              "#d8576b"
             ],
             [
              0.6666666666666666,
              "#ed7953"
             ],
             [
              0.7777777777777778,
              "#fb9f3a"
             ],
             [
              0.8888888888888888,
              "#fdca26"
             ],
             [
              1,
              "#f0f921"
             ]
            ],
            "type": "histogram2d"
           }
          ],
          "histogram2dcontour": [
           {
            "colorbar": {
             "outlinewidth": 0,
             "ticks": ""
            },
            "colorscale": [
             [
              0,
              "#0d0887"
             ],
             [
              0.1111111111111111,
              "#46039f"
             ],
             [
              0.2222222222222222,
              "#7201a8"
             ],
             [
              0.3333333333333333,
              "#9c179e"
             ],
             [
              0.4444444444444444,
              "#bd3786"
             ],
             [
              0.5555555555555556,
              "#d8576b"
             ],
             [
              0.6666666666666666,
              "#ed7953"
             ],
             [
              0.7777777777777778,
              "#fb9f3a"
             ],
             [
              0.8888888888888888,
              "#fdca26"
             ],
             [
              1,
              "#f0f921"
             ]
            ],
            "type": "histogram2dcontour"
           }
          ],
          "mesh3d": [
           {
            "colorbar": {
             "outlinewidth": 0,
             "ticks": ""
            },
            "type": "mesh3d"
           }
          ],
          "parcoords": [
           {
            "line": {
             "colorbar": {
              "outlinewidth": 0,
              "ticks": ""
             }
            },
            "type": "parcoords"
           }
          ],
          "pie": [
           {
            "automargin": true,
            "type": "pie"
           }
          ],
          "scatter": [
           {
            "fillpattern": {
             "fillmode": "overlay",
             "size": 10,
             "solidity": 0.2
            },
            "type": "scatter"
           }
          ],
          "scatter3d": [
           {
            "line": {
             "colorbar": {
              "outlinewidth": 0,
              "ticks": ""
             }
            },
            "marker": {
             "colorbar": {
              "outlinewidth": 0,
              "ticks": ""
             }
            },
            "type": "scatter3d"
           }
          ],
          "scattercarpet": [
           {
            "marker": {
             "colorbar": {
              "outlinewidth": 0,
              "ticks": ""
             }
            },
            "type": "scattercarpet"
           }
          ],
          "scattergeo": [
           {
            "marker": {
             "colorbar": {
              "outlinewidth": 0,
              "ticks": ""
             }
            },
            "type": "scattergeo"
           }
          ],
          "scattergl": [
           {
            "marker": {
             "colorbar": {
              "outlinewidth": 0,
              "ticks": ""
             }
            },
            "type": "scattergl"
           }
          ],
          "scattermap": [
           {
            "marker": {
             "colorbar": {
              "outlinewidth": 0,
              "ticks": ""
             }
            },
            "type": "scattermap"
           }
          ],
          "scattermapbox": [
           {
            "marker": {
             "colorbar": {
              "outlinewidth": 0,
              "ticks": ""
             }
            },
            "type": "scattermapbox"
           }
          ],
          "scatterpolar": [
           {
            "marker": {
             "colorbar": {
              "outlinewidth": 0,
              "ticks": ""
             }
            },
            "type": "scatterpolar"
           }
          ],
          "scatterpolargl": [
           {
            "marker": {
             "colorbar": {
              "outlinewidth": 0,
              "ticks": ""
             }
            },
            "type": "scatterpolargl"
           }
          ],
          "scatterternary": [
           {
            "marker": {
             "colorbar": {
              "outlinewidth": 0,
              "ticks": ""
             }
            },
            "type": "scatterternary"
           }
          ],
          "surface": [
           {
            "colorbar": {
             "outlinewidth": 0,
             "ticks": ""
            },
            "colorscale": [
             [
              0,
              "#0d0887"
             ],
             [
              0.1111111111111111,
              "#46039f"
             ],
             [
              0.2222222222222222,
              "#7201a8"
             ],
             [
              0.3333333333333333,
              "#9c179e"
             ],
             [
              0.4444444444444444,
              "#bd3786"
             ],
             [
              0.5555555555555556,
              "#d8576b"
             ],
             [
              0.6666666666666666,
              "#ed7953"
             ],
             [
              0.7777777777777778,
              "#fb9f3a"
             ],
             [
              0.8888888888888888,
              "#fdca26"
             ],
             [
              1,
              "#f0f921"
             ]
            ],
            "type": "surface"
           }
          ],
          "table": [
           {
            "cells": {
             "fill": {
              "color": "#EBF0F8"
             },
             "line": {
              "color": "white"
             }
            },
            "header": {
             "fill": {
              "color": "#C8D4E3"
             },
             "line": {
              "color": "white"
             }
            },
            "type": "table"
           }
          ]
         },
         "layout": {
          "annotationdefaults": {
           "arrowcolor": "#2a3f5f",
           "arrowhead": 0,
           "arrowwidth": 1
          },
          "autotypenumbers": "strict",
          "coloraxis": {
           "colorbar": {
            "outlinewidth": 0,
            "ticks": ""
           }
          },
          "colorscale": {
           "diverging": [
            [
             0,
             "#8e0152"
            ],
            [
             0.1,
             "#c51b7d"
            ],
            [
             0.2,
             "#de77ae"
            ],
            [
             0.3,
             "#f1b6da"
            ],
            [
             0.4,
             "#fde0ef"
            ],
            [
             0.5,
             "#f7f7f7"
            ],
            [
             0.6,
             "#e6f5d0"
            ],
            [
             0.7,
             "#b8e186"
            ],
            [
             0.8,
             "#7fbc41"
            ],
            [
             0.9,
             "#4d9221"
            ],
            [
             1,
             "#276419"
            ]
           ],
           "sequential": [
            [
             0,
             "#0d0887"
            ],
            [
             0.1111111111111111,
             "#46039f"
            ],
            [
             0.2222222222222222,
             "#7201a8"
            ],
            [
             0.3333333333333333,
             "#9c179e"
            ],
            [
             0.4444444444444444,
             "#bd3786"
            ],
            [
             0.5555555555555556,
             "#d8576b"
            ],
            [
             0.6666666666666666,
             "#ed7953"
            ],
            [
             0.7777777777777778,
             "#fb9f3a"
            ],
            [
             0.8888888888888888,
             "#fdca26"
            ],
            [
             1,
             "#f0f921"
            ]
           ],
           "sequentialminus": [
            [
             0,
             "#0d0887"
            ],
            [
             0.1111111111111111,
             "#46039f"
            ],
            [
             0.2222222222222222,
             "#7201a8"
            ],
            [
             0.3333333333333333,
             "#9c179e"
            ],
            [
             0.4444444444444444,
             "#bd3786"
            ],
            [
             0.5555555555555556,
             "#d8576b"
            ],
            [
             0.6666666666666666,
             "#ed7953"
            ],
            [
             0.7777777777777778,
             "#fb9f3a"
            ],
            [
             0.8888888888888888,
             "#fdca26"
            ],
            [
             1,
             "#f0f921"
            ]
           ]
          },
          "colorway": [
           "#636efa",
           "#EF553B",
           "#00cc96",
           "#ab63fa",
           "#FFA15A",
           "#19d3f3",
           "#FF6692",
           "#B6E880",
           "#FF97FF",
           "#FECB52"
          ],
          "font": {
           "color": "#2a3f5f"
          },
          "geo": {
           "bgcolor": "white",
           "lakecolor": "white",
           "landcolor": "#E5ECF6",
           "showlakes": true,
           "showland": true,
           "subunitcolor": "white"
          },
          "hoverlabel": {
           "align": "left"
          },
          "hovermode": "closest",
          "mapbox": {
           "style": "light"
          },
          "paper_bgcolor": "white",
          "plot_bgcolor": "#E5ECF6",
          "polar": {
           "angularaxis": {
            "gridcolor": "white",
            "linecolor": "white",
            "ticks": ""
           },
           "bgcolor": "#E5ECF6",
           "radialaxis": {
            "gridcolor": "white",
            "linecolor": "white",
            "ticks": ""
           }
          },
          "scene": {
           "xaxis": {
            "backgroundcolor": "#E5ECF6",
            "gridcolor": "white",
            "gridwidth": 2,
            "linecolor": "white",
            "showbackground": true,
            "ticks": "",
            "zerolinecolor": "white"
           },
           "yaxis": {
            "backgroundcolor": "#E5ECF6",
            "gridcolor": "white",
            "gridwidth": 2,
            "linecolor": "white",
            "showbackground": true,
            "ticks": "",
            "zerolinecolor": "white"
           },
           "zaxis": {
            "backgroundcolor": "#E5ECF6",
            "gridcolor": "white",
            "gridwidth": 2,
            "linecolor": "white",
            "showbackground": true,
            "ticks": "",
            "zerolinecolor": "white"
           }
          },
          "shapedefaults": {
           "line": {
            "color": "#2a3f5f"
           }
          },
          "ternary": {
           "aaxis": {
            "gridcolor": "white",
            "linecolor": "white",
            "ticks": ""
           },
           "baxis": {
            "gridcolor": "white",
            "linecolor": "white",
            "ticks": ""
           },
           "bgcolor": "#E5ECF6",
           "caxis": {
            "gridcolor": "white",
            "linecolor": "white",
            "ticks": ""
           }
          },
          "title": {
           "x": 0.05
          },
          "xaxis": {
           "automargin": true,
           "gridcolor": "white",
           "linecolor": "white",
           "ticks": "",
           "title": {
            "standoff": 15
           },
           "zerolinecolor": "white",
           "zerolinewidth": 2
          },
          "yaxis": {
           "automargin": true,
           "gridcolor": "white",
           "linecolor": "white",
           "ticks": "",
           "title": {
            "standoff": 15
           },
           "zerolinecolor": "white",
           "zerolinewidth": 2
          }
         }
        },
        "title": {
         "text": "airports in spain "
        },
        "width": 1000
       }
      }
     },
     "metadata": {},
     "output_type": "display_data"
    }
   ],
   "source": [
    "title = \"Airports in Spain\"\n",
    "\n",
    "lats = df_airports.latitude\n",
    "lons = df_airports.longitude\n",
    "\n",
    "fig = px.scatter_map(df_airports, \n",
    "                     lat=lats, \n",
    "                     lon=lons,\n",
    "                     color_continuous_scale=px.colors.carto.Aggrnyl,\n",
    "                     zoom=5,\n",
    "                     size_max=50  # Increase max size of markers\n",
    "                     )\n",
    "\n",
    "# Adjust the size reference to make small points more visible\n",
    "fig.update_traces(marker=dict(sizeref=1000))  # Decrease this value to make points larger\n",
    "\n",
    "fig.update_geos(fitbounds=\"locations\")\n",
    "fig.update_layout(height=1000, width=1000)\n",
    "fig.update_layout(mapbox_style=\"open-street-map\")\n",
    "fig.update_layout(margin={\"r\":50,\"t\":50,\"l\":50,\"b\":50})\n",
    "fig.update_layout(\n",
    "    coloraxis_colorbar=dict(title='asdf')\n",
    ")\n",
    "fig.update_layout(title=\"airports in spain \")\n",
    "\n",
    "fig.show()"
   ]
  },
  {
   "cell_type": "code",
   "execution_count": null,
   "metadata": {},
   "outputs": [],
   "source": [
    "df_airports.to_csv(\"../data/processed/filtered_airports.csv\", index=False)"
   ]
  },
  {
   "cell_type": "markdown",
   "metadata": {},
   "source": [
    "### Connectivity"
   ]
  },
  {
   "cell_type": "code",
   "execution_count": 18,
   "metadata": {},
   "outputs": [
    {
     "data": {
      "text/html": [
       "<div>\n",
       "<style scoped>\n",
       "    .dataframe tbody tr th:only-of-type {\n",
       "        vertical-align: middle;\n",
       "    }\n",
       "\n",
       "    .dataframe tbody tr th {\n",
       "        vertical-align: top;\n",
       "    }\n",
       "\n",
       "    .dataframe thead th {\n",
       "        text-align: right;\n",
       "    }\n",
       "</style>\n",
       "<table border=\"1\" class=\"dataframe\">\n",
       "  <thead>\n",
       "    <tr style=\"text-align: right;\">\n",
       "      <th></th>\n",
       "      <th>municipality_code</th>\n",
       "      <th>municipality</th>\n",
       "      <th>population</th>\n",
       "      <th>housing</th>\n",
       "      <th>VDSL_30Mbps</th>\n",
       "      <th>fixed_wireless</th>\n",
       "      <th>FTTH</th>\n",
       "      <th>HFC</th>\n",
       "      <th>reception_30Mbps</th>\n",
       "      <th>reception_100Mbps</th>\n",
       "      <th>reception_1Gbps</th>\n",
       "      <th>4G</th>\n",
       "      <th>5G</th>\n",
       "      <th>5G_3,5GHz</th>\n",
       "    </tr>\n",
       "  </thead>\n",
       "  <tbody>\n",
       "    <tr>\n",
       "      <th>0</th>\n",
       "      <td>1001</td>\n",
       "      <td>Alegría-Dulantzi</td>\n",
       "      <td>2.960</td>\n",
       "      <td>1.275</td>\n",
       "      <td>29,18%</td>\n",
       "      <td>100,00%</td>\n",
       "      <td>98,59%</td>\n",
       "      <td>0,00%</td>\n",
       "      <td>99,98%</td>\n",
       "      <td>80,71%</td>\n",
       "      <td>14,90%</td>\n",
       "      <td>100,00%</td>\n",
       "      <td>0,90%</td>\n",
       "      <td>0,00%</td>\n",
       "    </tr>\n",
       "    <tr>\n",
       "      <th>1</th>\n",
       "      <td>1002</td>\n",
       "      <td>Amurrio</td>\n",
       "      <td>10.281</td>\n",
       "      <td>4.937</td>\n",
       "      <td>10,07%</td>\n",
       "      <td>99,82%</td>\n",
       "      <td>91,84%</td>\n",
       "      <td>0,28%</td>\n",
       "      <td>93,49%</td>\n",
       "      <td>86,98%</td>\n",
       "      <td>89,39%</td>\n",
       "      <td>100,00%</td>\n",
       "      <td>95,61%</td>\n",
       "      <td>0,00%</td>\n",
       "    </tr>\n",
       "    <tr>\n",
       "      <th>2</th>\n",
       "      <td>1003</td>\n",
       "      <td>Aramaio</td>\n",
       "      <td>1.431</td>\n",
       "      <td>738</td>\n",
       "      <td>20,97%</td>\n",
       "      <td>93,50%</td>\n",
       "      <td>84,55%</td>\n",
       "      <td>0,00%</td>\n",
       "      <td>89,21%</td>\n",
       "      <td>78,42%</td>\n",
       "      <td>83,87%</td>\n",
       "      <td>99,96%</td>\n",
       "      <td>59,65%</td>\n",
       "      <td>0,00%</td>\n",
       "    </tr>\n",
       "    <tr>\n",
       "      <th>3</th>\n",
       "      <td>1004</td>\n",
       "      <td>Artziniega</td>\n",
       "      <td>1.810</td>\n",
       "      <td>1.099</td>\n",
       "      <td>10,51%</td>\n",
       "      <td>99,73%</td>\n",
       "      <td>86,53%</td>\n",
       "      <td>0,00%</td>\n",
       "      <td>97,68%</td>\n",
       "      <td>95,37%</td>\n",
       "      <td>97,08%</td>\n",
       "      <td>100,00%</td>\n",
       "      <td>84,00%</td>\n",
       "      <td>0,00%</td>\n",
       "    </tr>\n",
       "    <tr>\n",
       "      <th>4</th>\n",
       "      <td>1006</td>\n",
       "      <td>Armiñón</td>\n",
       "      <td>235</td>\n",
       "      <td>180</td>\n",
       "      <td>0,00%</td>\n",
       "      <td>52,78%</td>\n",
       "      <td>87,22%</td>\n",
       "      <td>0,00%</td>\n",
       "      <td>98,88%</td>\n",
       "      <td>83,80%</td>\n",
       "      <td>89,50%</td>\n",
       "      <td>96,32%</td>\n",
       "      <td>0,15%</td>\n",
       "      <td>0,00%</td>\n",
       "    </tr>\n",
       "    <tr>\n",
       "      <th>...</th>\n",
       "      <td>...</td>\n",
       "      <td>...</td>\n",
       "      <td>...</td>\n",
       "      <td>...</td>\n",
       "      <td>...</td>\n",
       "      <td>...</td>\n",
       "      <td>...</td>\n",
       "      <td>...</td>\n",
       "      <td>...</td>\n",
       "      <td>...</td>\n",
       "      <td>...</td>\n",
       "      <td>...</td>\n",
       "      <td>...</td>\n",
       "      <td>...</td>\n",
       "    </tr>\n",
       "    <tr>\n",
       "      <th>8126</th>\n",
       "      <td>14902</td>\n",
       "      <td>La Guijarrosa</td>\n",
       "      <td>1.341</td>\n",
       "      <td>643</td>\n",
       "      <td>0,00%</td>\n",
       "      <td>95,33%</td>\n",
       "      <td>78,07%</td>\n",
       "      <td>0,00%</td>\n",
       "      <td>89,34%</td>\n",
       "      <td>89,34%</td>\n",
       "      <td>86,46%</td>\n",
       "      <td>100,00%</td>\n",
       "      <td>4,87%</td>\n",
       "      <td>0,00%</td>\n",
       "    </tr>\n",
       "    <tr>\n",
       "      <th>8127</th>\n",
       "      <td>18077</td>\n",
       "      <td>Fornes</td>\n",
       "      <td>519</td>\n",
       "      <td>357</td>\n",
       "      <td>0,00%</td>\n",
       "      <td>100,00%</td>\n",
       "      <td>95,24%</td>\n",
       "      <td>0,00%</td>\n",
       "      <td>99,16%</td>\n",
       "      <td>95,22%</td>\n",
       "      <td>95,24%</td>\n",
       "      <td>100,00%</td>\n",
       "      <td>30,71%</td>\n",
       "      <td>0,00%</td>\n",
       "    </tr>\n",
       "    <tr>\n",
       "      <th>8128</th>\n",
       "      <td>18916</td>\n",
       "      <td>Torrenueva Costa</td>\n",
       "      <td>3.038</td>\n",
       "      <td>5.583</td>\n",
       "      <td>0,00%</td>\n",
       "      <td>99,98%</td>\n",
       "      <td>97,85%</td>\n",
       "      <td>0,00%</td>\n",
       "      <td>99,89%</td>\n",
       "      <td>97,83%</td>\n",
       "      <td>96,69%</td>\n",
       "      <td>100,00%</td>\n",
       "      <td>100,00%</td>\n",
       "      <td>100,00%</td>\n",
       "    </tr>\n",
       "    <tr>\n",
       "      <th>8129</th>\n",
       "      <td>21902</td>\n",
       "      <td>La Zarza-Perrunal</td>\n",
       "      <td>1.230</td>\n",
       "      <td>1.086</td>\n",
       "      <td>0,00%</td>\n",
       "      <td>100,00%</td>\n",
       "      <td>100,00%</td>\n",
       "      <td>0,00%</td>\n",
       "      <td>100,00%</td>\n",
       "      <td>100,00%</td>\n",
       "      <td>87,86%</td>\n",
       "      <td>100,00%</td>\n",
       "      <td>100,00%</td>\n",
       "      <td>0,00%</td>\n",
       "    </tr>\n",
       "    <tr>\n",
       "      <th>8130</th>\n",
       "      <td>41904</td>\n",
       "      <td>El Palmar de Troya</td>\n",
       "      <td>2.343</td>\n",
       "      <td>937</td>\n",
       "      <td>0,00%</td>\n",
       "      <td>11,63%</td>\n",
       "      <td>95,20%</td>\n",
       "      <td>0,00%</td>\n",
       "      <td>94,59%</td>\n",
       "      <td>94,59%</td>\n",
       "      <td>92,21%</td>\n",
       "      <td>100,00%</td>\n",
       "      <td>12,81%</td>\n",
       "      <td>0,00%</td>\n",
       "    </tr>\n",
       "  </tbody>\n",
       "</table>\n",
       "<p>8131 rows × 14 columns</p>\n",
       "</div>"
      ],
      "text/plain": [
       "      municipality_code        municipality population housing VDSL_30Mbps  \\\n",
       "0                  1001    Alegría-Dulantzi      2.960   1.275      29,18%   \n",
       "1                  1002             Amurrio     10.281   4.937      10,07%   \n",
       "2                  1003             Aramaio      1.431     738      20,97%   \n",
       "3                  1004          Artziniega      1.810   1.099      10,51%   \n",
       "4                  1006             Armiñón        235     180       0,00%   \n",
       "...                 ...                 ...        ...     ...         ...   \n",
       "8126              14902       La Guijarrosa      1.341     643       0,00%   \n",
       "8127              18077              Fornes        519     357       0,00%   \n",
       "8128              18916    Torrenueva Costa      3.038   5.583       0,00%   \n",
       "8129              21902   La Zarza-Perrunal      1.230   1.086       0,00%   \n",
       "8130              41904  El Palmar de Troya      2.343     937       0,00%   \n",
       "\n",
       "     fixed_wireless     FTTH    HFC reception_30Mbps reception_100Mbps  \\\n",
       "0           100,00%   98,59%  0,00%           99,98%            80,71%   \n",
       "1            99,82%   91,84%  0,28%           93,49%            86,98%   \n",
       "2            93,50%   84,55%  0,00%           89,21%            78,42%   \n",
       "3            99,73%   86,53%  0,00%           97,68%            95,37%   \n",
       "4            52,78%   87,22%  0,00%           98,88%            83,80%   \n",
       "...             ...      ...    ...              ...               ...   \n",
       "8126         95,33%   78,07%  0,00%           89,34%            89,34%   \n",
       "8127        100,00%   95,24%  0,00%           99,16%            95,22%   \n",
       "8128         99,98%   97,85%  0,00%           99,89%            97,83%   \n",
       "8129        100,00%  100,00%  0,00%          100,00%           100,00%   \n",
       "8130         11,63%   95,20%  0,00%           94,59%            94,59%   \n",
       "\n",
       "     reception_1Gbps       4G       5G 5G_3,5GHz  \n",
       "0             14,90%  100,00%    0,90%     0,00%  \n",
       "1             89,39%  100,00%   95,61%     0,00%  \n",
       "2             83,87%   99,96%   59,65%     0,00%  \n",
       "3             97,08%  100,00%   84,00%     0,00%  \n",
       "4             89,50%   96,32%    0,15%     0,00%  \n",
       "...              ...      ...      ...       ...  \n",
       "8126          86,46%  100,00%    4,87%     0,00%  \n",
       "8127          95,24%  100,00%   30,71%     0,00%  \n",
       "8128          96,69%  100,00%  100,00%   100,00%  \n",
       "8129          87,86%  100,00%  100,00%     0,00%  \n",
       "8130          92,21%  100,00%   12,81%     0,00%  \n",
       "\n",
       "[8131 rows x 14 columns]"
      ]
     },
     "execution_count": 18,
     "metadata": {},
     "output_type": "execute_result"
    }
   ],
   "source": [
    "df_connectivity = pd.read_csv(\"../data/raw/conectivity_municipality.csv\", encoding=\"ISO-8859-1\", sep=\";\", decimal=\",\")\n",
    "\n",
    "df_connectivity.drop([\"Community\", \"Province\"], axis=1)"
   ]
  }
 ],
 "metadata": {
  "kernelspec": {
   "display_name": ".venv",
   "language": "python",
   "name": "python3"
  },
  "language_info": {
   "codemirror_mode": {
    "name": "ipython",
    "version": 3
   },
   "file_extension": ".py",
   "mimetype": "text/x-python",
   "name": "python",
   "nbconvert_exporter": "python",
   "pygments_lexer": "ipython3",
   "version": "3.11.3"
  }
 },
 "nbformat": 4,
 "nbformat_minor": 2
}
