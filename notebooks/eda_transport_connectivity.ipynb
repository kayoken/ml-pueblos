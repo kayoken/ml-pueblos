{
 "cells": [
  {
   "cell_type": "code",
   "execution_count": 14,
   "metadata": {},
   "outputs": [],
   "source": [
    "import pandas as pd\n",
    "import plotly.express as px\n",
    "import numpy as np\n",
    "import geopandas as gpd\n",
    "from pyproj import Transformer\n",
    "from deep_translator import GoogleTranslator"
   ]
  },
  {
   "cell_type": "markdown",
   "metadata": {},
   "source": [
    "### Airports"
   ]
  },
  {
   "cell_type": "code",
   "execution_count": 15,
   "metadata": {},
   "outputs": [
    {
     "data": {
      "text/html": [
       "<div>\n",
       "<style scoped>\n",
       "    .dataframe tbody tr th:only-of-type {\n",
       "        vertical-align: middle;\n",
       "    }\n",
       "\n",
       "    .dataframe tbody tr th {\n",
       "        vertical-align: top;\n",
       "    }\n",
       "\n",
       "    .dataframe thead th {\n",
       "        text-align: right;\n",
       "    }\n",
       "</style>\n",
       "<table border=\"1\" class=\"dataframe\">\n",
       "  <thead>\n",
       "    <tr style=\"text-align: right;\">\n",
       "      <th></th>\n",
       "      <th>airport_id</th>\n",
       "      <th>airport_name</th>\n",
       "      <th>latitude</th>\n",
       "      <th>longitude</th>\n",
       "    </tr>\n",
       "  </thead>\n",
       "  <tbody>\n",
       "    <tr>\n",
       "      <th>0</th>\n",
       "      <td>1</td>\n",
       "      <td>Aeropuerto de Jerez</td>\n",
       "      <td>36.743828</td>\n",
       "      <td>-6.062658</td>\n",
       "    </tr>\n",
       "    <tr>\n",
       "      <th>1</th>\n",
       "      <td>2</td>\n",
       "      <td>Aeropuerto de Vigo</td>\n",
       "      <td>42.225740</td>\n",
       "      <td>-8.630491</td>\n",
       "    </tr>\n",
       "    <tr>\n",
       "      <th>2</th>\n",
       "      <td>3</td>\n",
       "      <td>Aeropuerto de Badajoz</td>\n",
       "      <td>38.889845</td>\n",
       "      <td>-6.821121</td>\n",
       "    </tr>\n",
       "    <tr>\n",
       "      <th>3</th>\n",
       "      <td>4</td>\n",
       "      <td>Aeropuerto de Granada - Jaén F.G.L.</td>\n",
       "      <td>37.186826</td>\n",
       "      <td>-3.778613</td>\n",
       "    </tr>\n",
       "    <tr>\n",
       "      <th>4</th>\n",
       "      <td>5</td>\n",
       "      <td>Aeropuerto de Almería</td>\n",
       "      <td>36.844781</td>\n",
       "      <td>-2.371234</td>\n",
       "    </tr>\n",
       "  </tbody>\n",
       "</table>\n",
       "</div>"
      ],
      "text/plain": [
       "   airport_id                         airport_name   latitude  longitude\n",
       "0           1                  Aeropuerto de Jerez  36.743828  -6.062658\n",
       "1           2                   Aeropuerto de Vigo  42.225740  -8.630491\n",
       "2           3                Aeropuerto de Badajoz  38.889845  -6.821121\n",
       "3           4  Aeropuerto de Granada - Jaén F.G.L.  37.186826  -3.778613\n",
       "4           5                Aeropuerto de Almería  36.844781  -2.371234"
      ]
     },
     "execution_count": 15,
     "metadata": {},
     "output_type": "execute_result"
    }
   ],
   "source": [
    "# Read the GeoJSON file\n",
    "gdf = gpd.read_file('../data/raw/spanish_airports.geojson')\n",
    "# Ensure that the geometry column contains points\n",
    "# Extract latitude and longitude from the geometry column\n",
    "gdf['latitude'] = gdf.geometry.y\n",
    "gdf['longitude'] = gdf.geometry.x\n",
    "\n",
    "# Now drop the geometry column if you don't need it anymore\n",
    "df_airports = gdf.drop(columns='geometry')\n",
    "\n",
    "df_airports.rename(columns={\"Texto\": \"airport_name\", \"OBJECTID\": \"airport_id\", \"lat\": \"latitude\", \"lon\": \"longitude\"}, inplace=True)\n",
    "df_airports.head()"
   ]
  },
  {
   "cell_type": "code",
   "execution_count": 16,
   "metadata": {},
   "outputs": [
    {
     "data": {
      "application/vnd.plotly.v1+json": {
       "config": {
        "plotlyServerURL": "https://plot.ly"
       },
       "data": [
        {
         "hovertemplate": "latitude=%{lat}<br>longitude=%{lon}<extra></extra>",
         "lat": {
          "bdata": "wugIvzVfQkD6YqIJ5RxFQJJuIm/mcUNAF6h46emXQkD4YMLJIWxCQKNWE2qyeURAKtgsxOpvQ0A2LdOnd/M8QAJJB99AnzxAvGuqIF58PEApBv9L+gc8QPykHxalCzxAoz0DT13uO0B3dIBrmdA7QC2sLwv2x0VAWz9OK8HaREBEQljwi7ZFQGec79KerUVAC8ifiLimRUAbsh7kA+xCQK8g3HS/pkVAcbOfd/w+RECMfFOfjXlDQI7Nqst8EEJAfql085UkQ0AoOlU77aVEQJz3o7BaLUVArj4TPDryQUCcUl5iWHM8QFvdd8VR80RAYUa6vM4JRUAEjad+f0tFQOB7fwHUOkVABk8AunAvREAqgrxOkVZCQIkyC969o0FA+elqZqfuQ0AaimkX9OJCQOkIhxZixkNAu6nzCu9hRUCCf2A7wJJEQMmlkAiwwkRAMlrTut5yRUBhzgRWurVCQEnZTTj9zENALNFbD9i+Q0DkGp5DiHBFQGQKkJLU1URA",
          "dtype": "f8"
         },
         "legendgroup": "",
         "lon": {
          "bdata": "RqQjdSlAGMDPtq+8z0IhwFQm29LTSBvASM3rRpk6DsAUHbNqSfgCwEPaOLAGAxbANxefxnP29T9sBq8zxTUrwKu9e2vvwDHA9BsG2f5YMMDAeoKlQzYxwIFuKEZHkzDAWbEqOTHGLsA/XnRrD+MxwLFGM7JmIRjAup0Iv5xkE8AFB6FtIJUOwJGgW+lqqvy/RH3oJlFEB8B0d1ATRmMTwIIKcuVHwSDAfXfuDU2cDMBub/KdhM/9v15zV99awxXAVN3hdvMG4r/V7I28Ia4AQFl/Uhs2+QzARLddrJQ5FcCPjeJffrsrwHnEmbE2HAZAef8DNhlU1L/Vo1KeK54WwMo+fbnIiQLAMo2HQuRHDsAioR3snvwRwMidFTHBpQfAQcyI97LiEEAvelmYvSTqv1x/WBjH2gVAe6cTZc1I+r8C812UPInyP4I3H/+c1gBAOR4n/P7VIMDaPczMMJgXwLBv8MNmpAVAhx1yBtzA3r+UbDpzadkFwNYu01cw9/C/",
          "dtype": "f8"
         },
         "marker": {
          "color": "#636efa",
          "sizeref": 1000
         },
         "mode": "markers",
         "name": "",
         "showlegend": false,
         "subplot": "map",
         "type": "scattermap"
        }
       ],
       "layout": {
        "coloraxis": {
         "colorbar": {
          "title": {
           "text": "asdf"
          }
         }
        },
        "geo": {
         "fitbounds": "locations"
        },
        "height": 1000,
        "legend": {
         "tracegroupgap": 0
        },
        "map": {
         "center": {
          "lat": 38.24756209331752,
          "lon": -4.921515881956593
         },
         "domain": {
          "x": [
           0,
           1
          ],
          "y": [
           0,
           1
          ]
         },
         "zoom": 5
        },
        "mapbox": {
         "center": {
          "lat": 38.24756209331752,
          "lon": -4.921515881956593
         },
         "style": "open-street-map",
         "zoom": 5
        },
        "margin": {
         "b": 50,
         "l": 50,
         "r": 50,
         "t": 50
        },
        "template": {
         "data": {
          "bar": [
           {
            "error_x": {
             "color": "#2a3f5f"
            },
            "error_y": {
             "color": "#2a3f5f"
            },
            "marker": {
             "line": {
              "color": "#E5ECF6",
              "width": 0.5
             },
             "pattern": {
              "fillmode": "overlay",
              "size": 10,
              "solidity": 0.2
             }
            },
            "type": "bar"
           }
          ],
          "barpolar": [
           {
            "marker": {
             "line": {
              "color": "#E5ECF6",
              "width": 0.5
             },
             "pattern": {
              "fillmode": "overlay",
              "size": 10,
              "solidity": 0.2
             }
            },
            "type": "barpolar"
           }
          ],
          "carpet": [
           {
            "aaxis": {
             "endlinecolor": "#2a3f5f",
             "gridcolor": "white",
             "linecolor": "white",
             "minorgridcolor": "white",
             "startlinecolor": "#2a3f5f"
            },
            "baxis": {
             "endlinecolor": "#2a3f5f",
             "gridcolor": "white",
             "linecolor": "white",
             "minorgridcolor": "white",
             "startlinecolor": "#2a3f5f"
            },
            "type": "carpet"
           }
          ],
          "choropleth": [
           {
            "colorbar": {
             "outlinewidth": 0,
             "ticks": ""
            },
            "type": "choropleth"
           }
          ],
          "contour": [
           {
            "colorbar": {
             "outlinewidth": 0,
             "ticks": ""
            },
            "colorscale": [
             [
              0,
              "#0d0887"
             ],
             [
              0.1111111111111111,
              "#46039f"
             ],
             [
              0.2222222222222222,
              "#7201a8"
             ],
             [
              0.3333333333333333,
              "#9c179e"
             ],
             [
              0.4444444444444444,
              "#bd3786"
             ],
             [
              0.5555555555555556,
              "#d8576b"
             ],
             [
              0.6666666666666666,
              "#ed7953"
             ],
             [
              0.7777777777777778,
              "#fb9f3a"
             ],
             [
              0.8888888888888888,
              "#fdca26"
             ],
             [
              1,
              "#f0f921"
             ]
            ],
            "type": "contour"
           }
          ],
          "contourcarpet": [
           {
            "colorbar": {
             "outlinewidth": 0,
             "ticks": ""
            },
            "type": "contourcarpet"
           }
          ],
          "heatmap": [
           {
            "colorbar": {
             "outlinewidth": 0,
             "ticks": ""
            },
            "colorscale": [
             [
              0,
              "#0d0887"
             ],
             [
              0.1111111111111111,
              "#46039f"
             ],
             [
              0.2222222222222222,
              "#7201a8"
             ],
             [
              0.3333333333333333,
              "#9c179e"
             ],
             [
              0.4444444444444444,
              "#bd3786"
             ],
             [
              0.5555555555555556,
              "#d8576b"
             ],
             [
              0.6666666666666666,
              "#ed7953"
             ],
             [
              0.7777777777777778,
              "#fb9f3a"
             ],
             [
              0.8888888888888888,
              "#fdca26"
             ],
             [
              1,
              "#f0f921"
             ]
            ],
            "type": "heatmap"
           }
          ],
          "histogram": [
           {
            "marker": {
             "pattern": {
              "fillmode": "overlay",
              "size": 10,
              "solidity": 0.2
             }
            },
            "type": "histogram"
           }
          ],
          "histogram2d": [
           {
            "colorbar": {
             "outlinewidth": 0,
             "ticks": ""
            },
            "colorscale": [
             [
              0,
              "#0d0887"
             ],
             [
              0.1111111111111111,
              "#46039f"
             ],
             [
              0.2222222222222222,
              "#7201a8"
             ],
             [
              0.3333333333333333,
              "#9c179e"
             ],
             [
              0.4444444444444444,
              "#bd3786"
             ],
             [
              0.5555555555555556,
              "#d8576b"
             ],
             [
              0.6666666666666666,
              "#ed7953"
             ],
             [
              0.7777777777777778,
              "#fb9f3a"
             ],
             [
              0.8888888888888888,
              "#fdca26"
             ],
             [
              1,
              "#f0f921"
             ]
            ],
            "type": "histogram2d"
           }
          ],
          "histogram2dcontour": [
           {
            "colorbar": {
             "outlinewidth": 0,
             "ticks": ""
            },
            "colorscale": [
             [
              0,
              "#0d0887"
             ],
             [
              0.1111111111111111,
              "#46039f"
             ],
             [
              0.2222222222222222,
              "#7201a8"
             ],
             [
              0.3333333333333333,
              "#9c179e"
             ],
             [
              0.4444444444444444,
              "#bd3786"
             ],
             [
              0.5555555555555556,
              "#d8576b"
             ],
             [
              0.6666666666666666,
              "#ed7953"
             ],
             [
              0.7777777777777778,
              "#fb9f3a"
             ],
             [
              0.8888888888888888,
              "#fdca26"
             ],
             [
              1,
              "#f0f921"
             ]
            ],
            "type": "histogram2dcontour"
           }
          ],
          "mesh3d": [
           {
            "colorbar": {
             "outlinewidth": 0,
             "ticks": ""
            },
            "type": "mesh3d"
           }
          ],
          "parcoords": [
           {
            "line": {
             "colorbar": {
              "outlinewidth": 0,
              "ticks": ""
             }
            },
            "type": "parcoords"
           }
          ],
          "pie": [
           {
            "automargin": true,
            "type": "pie"
           }
          ],
          "scatter": [
           {
            "fillpattern": {
             "fillmode": "overlay",
             "size": 10,
             "solidity": 0.2
            },
            "type": "scatter"
           }
          ],
          "scatter3d": [
           {
            "line": {
             "colorbar": {
              "outlinewidth": 0,
              "ticks": ""
             }
            },
            "marker": {
             "colorbar": {
              "outlinewidth": 0,
              "ticks": ""
             }
            },
            "type": "scatter3d"
           }
          ],
          "scattercarpet": [
           {
            "marker": {
             "colorbar": {
              "outlinewidth": 0,
              "ticks": ""
             }
            },
            "type": "scattercarpet"
           }
          ],
          "scattergeo": [
           {
            "marker": {
             "colorbar": {
              "outlinewidth": 0,
              "ticks": ""
             }
            },
            "type": "scattergeo"
           }
          ],
          "scattergl": [
           {
            "marker": {
             "colorbar": {
              "outlinewidth": 0,
              "ticks": ""
             }
            },
            "type": "scattergl"
           }
          ],
          "scattermap": [
           {
            "marker": {
             "colorbar": {
              "outlinewidth": 0,
              "ticks": ""
             }
            },
            "type": "scattermap"
           }
          ],
          "scattermapbox": [
           {
            "marker": {
             "colorbar": {
              "outlinewidth": 0,
              "ticks": ""
             }
            },
            "type": "scattermapbox"
           }
          ],
          "scatterpolar": [
           {
            "marker": {
             "colorbar": {
              "outlinewidth": 0,
              "ticks": ""
             }
            },
            "type": "scatterpolar"
           }
          ],
          "scatterpolargl": [
           {
            "marker": {
             "colorbar": {
              "outlinewidth": 0,
              "ticks": ""
             }
            },
            "type": "scatterpolargl"
           }
          ],
          "scatterternary": [
           {
            "marker": {
             "colorbar": {
              "outlinewidth": 0,
              "ticks": ""
             }
            },
            "type": "scatterternary"
           }
          ],
          "surface": [
           {
            "colorbar": {
             "outlinewidth": 0,
             "ticks": ""
            },
            "colorscale": [
             [
              0,
              "#0d0887"
             ],
             [
              0.1111111111111111,
              "#46039f"
             ],
             [
              0.2222222222222222,
              "#7201a8"
             ],
             [
              0.3333333333333333,
              "#9c179e"
             ],
             [
              0.4444444444444444,
              "#bd3786"
             ],
             [
              0.5555555555555556,
              "#d8576b"
             ],
             [
              0.6666666666666666,
              "#ed7953"
             ],
             [
              0.7777777777777778,
              "#fb9f3a"
             ],
             [
              0.8888888888888888,
              "#fdca26"
             ],
             [
              1,
              "#f0f921"
             ]
            ],
            "type": "surface"
           }
          ],
          "table": [
           {
            "cells": {
             "fill": {
              "color": "#EBF0F8"
             },
             "line": {
              "color": "white"
             }
            },
            "header": {
             "fill": {
              "color": "#C8D4E3"
             },
             "line": {
              "color": "white"
             }
            },
            "type": "table"
           }
          ]
         },
         "layout": {
          "annotationdefaults": {
           "arrowcolor": "#2a3f5f",
           "arrowhead": 0,
           "arrowwidth": 1
          },
          "autotypenumbers": "strict",
          "coloraxis": {
           "colorbar": {
            "outlinewidth": 0,
            "ticks": ""
           }
          },
          "colorscale": {
           "diverging": [
            [
             0,
             "#8e0152"
            ],
            [
             0.1,
             "#c51b7d"
            ],
            [
             0.2,
             "#de77ae"
            ],
            [
             0.3,
             "#f1b6da"
            ],
            [
             0.4,
             "#fde0ef"
            ],
            [
             0.5,
             "#f7f7f7"
            ],
            [
             0.6,
             "#e6f5d0"
            ],
            [
             0.7,
             "#b8e186"
            ],
            [
             0.8,
             "#7fbc41"
            ],
            [
             0.9,
             "#4d9221"
            ],
            [
             1,
             "#276419"
            ]
           ],
           "sequential": [
            [
             0,
             "#0d0887"
            ],
            [
             0.1111111111111111,
             "#46039f"
            ],
            [
             0.2222222222222222,
             "#7201a8"
            ],
            [
             0.3333333333333333,
             "#9c179e"
            ],
            [
             0.4444444444444444,
             "#bd3786"
            ],
            [
             0.5555555555555556,
             "#d8576b"
            ],
            [
             0.6666666666666666,
             "#ed7953"
            ],
            [
             0.7777777777777778,
             "#fb9f3a"
            ],
            [
             0.8888888888888888,
             "#fdca26"
            ],
            [
             1,
             "#f0f921"
            ]
           ],
           "sequentialminus": [
            [
             0,
             "#0d0887"
            ],
            [
             0.1111111111111111,
             "#46039f"
            ],
            [
             0.2222222222222222,
             "#7201a8"
            ],
            [
             0.3333333333333333,
             "#9c179e"
            ],
            [
             0.4444444444444444,
             "#bd3786"
            ],
            [
             0.5555555555555556,
             "#d8576b"
            ],
            [
             0.6666666666666666,
             "#ed7953"
            ],
            [
             0.7777777777777778,
             "#fb9f3a"
            ],
            [
             0.8888888888888888,
             "#fdca26"
            ],
            [
             1,
             "#f0f921"
            ]
           ]
          },
          "colorway": [
           "#636efa",
           "#EF553B",
           "#00cc96",
           "#ab63fa",
           "#FFA15A",
           "#19d3f3",
           "#FF6692",
           "#B6E880",
           "#FF97FF",
           "#FECB52"
          ],
          "font": {
           "color": "#2a3f5f"
          },
          "geo": {
           "bgcolor": "white",
           "lakecolor": "white",
           "landcolor": "#E5ECF6",
           "showlakes": true,
           "showland": true,
           "subunitcolor": "white"
          },
          "hoverlabel": {
           "align": "left"
          },
          "hovermode": "closest",
          "mapbox": {
           "style": "light"
          },
          "paper_bgcolor": "white",
          "plot_bgcolor": "#E5ECF6",
          "polar": {
           "angularaxis": {
            "gridcolor": "white",
            "linecolor": "white",
            "ticks": ""
           },
           "bgcolor": "#E5ECF6",
           "radialaxis": {
            "gridcolor": "white",
            "linecolor": "white",
            "ticks": ""
           }
          },
          "scene": {
           "xaxis": {
            "backgroundcolor": "#E5ECF6",
            "gridcolor": "white",
            "gridwidth": 2,
            "linecolor": "white",
            "showbackground": true,
            "ticks": "",
            "zerolinecolor": "white"
           },
           "yaxis": {
            "backgroundcolor": "#E5ECF6",
            "gridcolor": "white",
            "gridwidth": 2,
            "linecolor": "white",
            "showbackground": true,
            "ticks": "",
            "zerolinecolor": "white"
           },
           "zaxis": {
            "backgroundcolor": "#E5ECF6",
            "gridcolor": "white",
            "gridwidth": 2,
            "linecolor": "white",
            "showbackground": true,
            "ticks": "",
            "zerolinecolor": "white"
           }
          },
          "shapedefaults": {
           "line": {
            "color": "#2a3f5f"
           }
          },
          "ternary": {
           "aaxis": {
            "gridcolor": "white",
            "linecolor": "white",
            "ticks": ""
           },
           "baxis": {
            "gridcolor": "white",
            "linecolor": "white",
            "ticks": ""
           },
           "bgcolor": "#E5ECF6",
           "caxis": {
            "gridcolor": "white",
            "linecolor": "white",
            "ticks": ""
           }
          },
          "title": {
           "x": 0.05
          },
          "xaxis": {
           "automargin": true,
           "gridcolor": "white",
           "linecolor": "white",
           "ticks": "",
           "title": {
            "standoff": 15
           },
           "zerolinecolor": "white",
           "zerolinewidth": 2
          },
          "yaxis": {
           "automargin": true,
           "gridcolor": "white",
           "linecolor": "white",
           "ticks": "",
           "title": {
            "standoff": 15
           },
           "zerolinecolor": "white",
           "zerolinewidth": 2
          }
         }
        },
        "title": {
         "text": "Airports in Spain "
        },
        "width": 1000
       }
      }
     },
     "metadata": {},
     "output_type": "display_data"
    }
   ],
   "source": [
    "title = \"Airports in Spain\"\n",
    "\n",
    "lats = df_airports.latitude\n",
    "lons = df_airports.longitude\n",
    "\n",
    "fig = px.scatter_map(df_airports, \n",
    "                     lat=lats, \n",
    "                     lon=lons,\n",
    "                     color_continuous_scale=px.colors.carto.Aggrnyl,\n",
    "                     zoom=5,\n",
    "                     size_max=50  # Increase max size of markers\n",
    "                     )\n",
    "\n",
    "# Adjust the size reference to make small points more visible\n",
    "fig.update_traces(marker=dict(sizeref=1000))  # Decrease this value to make points larger\n",
    "\n",
    "fig.update_geos(fitbounds=\"locations\")\n",
    "fig.update_layout(height=1000, width=1000)\n",
    "fig.update_layout(mapbox_style=\"open-street-map\")\n",
    "fig.update_layout(margin={\"r\":50,\"t\":50,\"l\":50,\"b\":50})\n",
    "fig.update_layout(\n",
    "    coloraxis_colorbar=dict(title='asdf')\n",
    ")\n",
    "fig.update_layout(title=\"Airports in Spain \")\n",
    "\n",
    "fig.show()"
   ]
  },
  {
   "cell_type": "code",
   "execution_count": 17,
   "metadata": {},
   "outputs": [],
   "source": [
    "df_airports.to_csv(\"../data/processed/filtered_airports.csv\", index=False)"
   ]
  },
  {
   "cell_type": "markdown",
   "metadata": {},
   "source": [
    "### Connectivity"
   ]
  },
  {
   "cell_type": "code",
   "execution_count": 18,
   "metadata": {},
   "outputs": [
    {
     "data": {
      "text/html": [
       "<div>\n",
       "<style scoped>\n",
       "    .dataframe tbody tr th:only-of-type {\n",
       "        vertical-align: middle;\n",
       "    }\n",
       "\n",
       "    .dataframe tbody tr th {\n",
       "        vertical-align: top;\n",
       "    }\n",
       "\n",
       "    .dataframe thead th {\n",
       "        text-align: right;\n",
       "    }\n",
       "</style>\n",
       "<table border=\"1\" class=\"dataframe\">\n",
       "  <thead>\n",
       "    <tr style=\"text-align: right;\">\n",
       "      <th></th>\n",
       "      <th>municipality_code</th>\n",
       "      <th>municipality</th>\n",
       "      <th>population</th>\n",
       "      <th>number_of_houses</th>\n",
       "      <th>VDSL_30Mbps</th>\n",
       "      <th>fixed_wireless</th>\n",
       "      <th>FTTH</th>\n",
       "      <th>HFC</th>\n",
       "      <th>reception_30Mbps</th>\n",
       "      <th>reception_100Mbps</th>\n",
       "      <th>reception_1Gbps</th>\n",
       "      <th>4G</th>\n",
       "      <th>5G</th>\n",
       "      <th>5G_3,5GHz</th>\n",
       "    </tr>\n",
       "  </thead>\n",
       "  <tbody>\n",
       "    <tr>\n",
       "      <th>0</th>\n",
       "      <td>1001</td>\n",
       "      <td>Alegría-Dulantzi</td>\n",
       "      <td>2.960</td>\n",
       "      <td>1.275</td>\n",
       "      <td>29,18%</td>\n",
       "      <td>100,00%</td>\n",
       "      <td>98,59%</td>\n",
       "      <td>0,00%</td>\n",
       "      <td>99,98%</td>\n",
       "      <td>80,71%</td>\n",
       "      <td>14,90%</td>\n",
       "      <td>100,00%</td>\n",
       "      <td>0,90%</td>\n",
       "      <td>0,00%</td>\n",
       "    </tr>\n",
       "    <tr>\n",
       "      <th>1</th>\n",
       "      <td>1002</td>\n",
       "      <td>Amurrio</td>\n",
       "      <td>10.281</td>\n",
       "      <td>4.937</td>\n",
       "      <td>10,07%</td>\n",
       "      <td>99,82%</td>\n",
       "      <td>91,84%</td>\n",
       "      <td>0,28%</td>\n",
       "      <td>93,49%</td>\n",
       "      <td>86,98%</td>\n",
       "      <td>89,39%</td>\n",
       "      <td>100,00%</td>\n",
       "      <td>95,61%</td>\n",
       "      <td>0,00%</td>\n",
       "    </tr>\n",
       "    <tr>\n",
       "      <th>2</th>\n",
       "      <td>1003</td>\n",
       "      <td>Aramaio</td>\n",
       "      <td>1.431</td>\n",
       "      <td>738</td>\n",
       "      <td>20,97%</td>\n",
       "      <td>93,50%</td>\n",
       "      <td>84,55%</td>\n",
       "      <td>0,00%</td>\n",
       "      <td>89,21%</td>\n",
       "      <td>78,42%</td>\n",
       "      <td>83,87%</td>\n",
       "      <td>99,96%</td>\n",
       "      <td>59,65%</td>\n",
       "      <td>0,00%</td>\n",
       "    </tr>\n",
       "    <tr>\n",
       "      <th>3</th>\n",
       "      <td>1004</td>\n",
       "      <td>Artziniega</td>\n",
       "      <td>1.810</td>\n",
       "      <td>1.099</td>\n",
       "      <td>10,51%</td>\n",
       "      <td>99,73%</td>\n",
       "      <td>86,53%</td>\n",
       "      <td>0,00%</td>\n",
       "      <td>97,68%</td>\n",
       "      <td>95,37%</td>\n",
       "      <td>97,08%</td>\n",
       "      <td>100,00%</td>\n",
       "      <td>84,00%</td>\n",
       "      <td>0,00%</td>\n",
       "    </tr>\n",
       "    <tr>\n",
       "      <th>4</th>\n",
       "      <td>1006</td>\n",
       "      <td>Armiñón</td>\n",
       "      <td>235</td>\n",
       "      <td>180</td>\n",
       "      <td>0,00%</td>\n",
       "      <td>52,78%</td>\n",
       "      <td>87,22%</td>\n",
       "      <td>0,00%</td>\n",
       "      <td>98,88%</td>\n",
       "      <td>83,80%</td>\n",
       "      <td>89,50%</td>\n",
       "      <td>96,32%</td>\n",
       "      <td>0,15%</td>\n",
       "      <td>0,00%</td>\n",
       "    </tr>\n",
       "    <tr>\n",
       "      <th>...</th>\n",
       "      <td>...</td>\n",
       "      <td>...</td>\n",
       "      <td>...</td>\n",
       "      <td>...</td>\n",
       "      <td>...</td>\n",
       "      <td>...</td>\n",
       "      <td>...</td>\n",
       "      <td>...</td>\n",
       "      <td>...</td>\n",
       "      <td>...</td>\n",
       "      <td>...</td>\n",
       "      <td>...</td>\n",
       "      <td>...</td>\n",
       "      <td>...</td>\n",
       "    </tr>\n",
       "    <tr>\n",
       "      <th>8126</th>\n",
       "      <td>14902</td>\n",
       "      <td>La Guijarrosa</td>\n",
       "      <td>1.341</td>\n",
       "      <td>643</td>\n",
       "      <td>0,00%</td>\n",
       "      <td>95,33%</td>\n",
       "      <td>78,07%</td>\n",
       "      <td>0,00%</td>\n",
       "      <td>89,34%</td>\n",
       "      <td>89,34%</td>\n",
       "      <td>86,46%</td>\n",
       "      <td>100,00%</td>\n",
       "      <td>4,87%</td>\n",
       "      <td>0,00%</td>\n",
       "    </tr>\n",
       "    <tr>\n",
       "      <th>8127</th>\n",
       "      <td>18077</td>\n",
       "      <td>Fornes</td>\n",
       "      <td>519</td>\n",
       "      <td>357</td>\n",
       "      <td>0,00%</td>\n",
       "      <td>100,00%</td>\n",
       "      <td>95,24%</td>\n",
       "      <td>0,00%</td>\n",
       "      <td>99,16%</td>\n",
       "      <td>95,22%</td>\n",
       "      <td>95,24%</td>\n",
       "      <td>100,00%</td>\n",
       "      <td>30,71%</td>\n",
       "      <td>0,00%</td>\n",
       "    </tr>\n",
       "    <tr>\n",
       "      <th>8128</th>\n",
       "      <td>18916</td>\n",
       "      <td>Torrenueva Costa</td>\n",
       "      <td>3.038</td>\n",
       "      <td>5.583</td>\n",
       "      <td>0,00%</td>\n",
       "      <td>99,98%</td>\n",
       "      <td>97,85%</td>\n",
       "      <td>0,00%</td>\n",
       "      <td>99,89%</td>\n",
       "      <td>97,83%</td>\n",
       "      <td>96,69%</td>\n",
       "      <td>100,00%</td>\n",
       "      <td>100,00%</td>\n",
       "      <td>100,00%</td>\n",
       "    </tr>\n",
       "    <tr>\n",
       "      <th>8129</th>\n",
       "      <td>21902</td>\n",
       "      <td>La Zarza-Perrunal</td>\n",
       "      <td>1.230</td>\n",
       "      <td>1.086</td>\n",
       "      <td>0,00%</td>\n",
       "      <td>100,00%</td>\n",
       "      <td>100,00%</td>\n",
       "      <td>0,00%</td>\n",
       "      <td>100,00%</td>\n",
       "      <td>100,00%</td>\n",
       "      <td>87,86%</td>\n",
       "      <td>100,00%</td>\n",
       "      <td>100,00%</td>\n",
       "      <td>0,00%</td>\n",
       "    </tr>\n",
       "    <tr>\n",
       "      <th>8130</th>\n",
       "      <td>41904</td>\n",
       "      <td>El Palmar de Troya</td>\n",
       "      <td>2.343</td>\n",
       "      <td>937</td>\n",
       "      <td>0,00%</td>\n",
       "      <td>11,63%</td>\n",
       "      <td>95,20%</td>\n",
       "      <td>0,00%</td>\n",
       "      <td>94,59%</td>\n",
       "      <td>94,59%</td>\n",
       "      <td>92,21%</td>\n",
       "      <td>100,00%</td>\n",
       "      <td>12,81%</td>\n",
       "      <td>0,00%</td>\n",
       "    </tr>\n",
       "  </tbody>\n",
       "</table>\n",
       "<p>8131 rows × 14 columns</p>\n",
       "</div>"
      ],
      "text/plain": [
       "      municipality_code        municipality population number_of_houses  \\\n",
       "0                  1001    Alegría-Dulantzi      2.960            1.275   \n",
       "1                  1002             Amurrio     10.281            4.937   \n",
       "2                  1003             Aramaio      1.431              738   \n",
       "3                  1004          Artziniega      1.810            1.099   \n",
       "4                  1006             Armiñón        235              180   \n",
       "...                 ...                 ...        ...              ...   \n",
       "8126              14902       La Guijarrosa      1.341              643   \n",
       "8127              18077              Fornes        519              357   \n",
       "8128              18916    Torrenueva Costa      3.038            5.583   \n",
       "8129              21902   La Zarza-Perrunal      1.230            1.086   \n",
       "8130              41904  El Palmar de Troya      2.343              937   \n",
       "\n",
       "     VDSL_30Mbps fixed_wireless     FTTH    HFC reception_30Mbps  \\\n",
       "0         29,18%        100,00%   98,59%  0,00%           99,98%   \n",
       "1         10,07%         99,82%   91,84%  0,28%           93,49%   \n",
       "2         20,97%         93,50%   84,55%  0,00%           89,21%   \n",
       "3         10,51%         99,73%   86,53%  0,00%           97,68%   \n",
       "4          0,00%         52,78%   87,22%  0,00%           98,88%   \n",
       "...          ...            ...      ...    ...              ...   \n",
       "8126       0,00%         95,33%   78,07%  0,00%           89,34%   \n",
       "8127       0,00%        100,00%   95,24%  0,00%           99,16%   \n",
       "8128       0,00%         99,98%   97,85%  0,00%           99,89%   \n",
       "8129       0,00%        100,00%  100,00%  0,00%          100,00%   \n",
       "8130       0,00%         11,63%   95,20%  0,00%           94,59%   \n",
       "\n",
       "     reception_100Mbps reception_1Gbps       4G       5G 5G_3,5GHz  \n",
       "0               80,71%          14,90%  100,00%    0,90%     0,00%  \n",
       "1               86,98%          89,39%  100,00%   95,61%     0,00%  \n",
       "2               78,42%          83,87%   99,96%   59,65%     0,00%  \n",
       "3               95,37%          97,08%  100,00%   84,00%     0,00%  \n",
       "4               83,80%          89,50%   96,32%    0,15%     0,00%  \n",
       "...                ...             ...      ...      ...       ...  \n",
       "8126            89,34%          86,46%  100,00%    4,87%     0,00%  \n",
       "8127            95,22%          95,24%  100,00%   30,71%     0,00%  \n",
       "8128            97,83%          96,69%  100,00%  100,00%   100,00%  \n",
       "8129           100,00%          87,86%  100,00%  100,00%     0,00%  \n",
       "8130            94,59%          92,21%  100,00%   12,81%     0,00%  \n",
       "\n",
       "[8131 rows x 14 columns]"
      ]
     },
     "execution_count": 18,
     "metadata": {},
     "output_type": "execute_result"
    }
   ],
   "source": [
    "df_connectivity = pd.read_csv(\"../data/raw/conectivity_municipality.csv\", encoding=\"ISO-8859-1\", sep=\";\", decimal=\",\")\n",
    "\n",
    "df_connectivity.drop([\"Community\", \"Province\"], axis=1, inplace = True)\n",
    "df_connectivity.rename(columns={\"housing\": \"number_of_houses\"}, inplace=True)\n",
    "\n",
    "\n",
    "\n",
    "df_connectivity"
   ]
  },
  {
   "cell_type": "code",
   "execution_count": 19,
   "metadata": {},
   "outputs": [
    {
     "name": "stdout",
     "output_type": "stream",
     "text": [
      "<class 'pandas.core.frame.DataFrame'>\n",
      "RangeIndex: 8131 entries, 0 to 8130\n",
      "Data columns (total 14 columns):\n",
      " #   Column             Non-Null Count  Dtype \n",
      "---  ------             --------------  ----- \n",
      " 0   municipality_code  8131 non-null   int64 \n",
      " 1   municipality       8131 non-null   object\n",
      " 2   population         8131 non-null   object\n",
      " 3   number_of_houses   8131 non-null   object\n",
      " 4   VDSL_30Mbps        8131 non-null   object\n",
      " 5   fixed_wireless     8131 non-null   object\n",
      " 6   FTTH               8131 non-null   object\n",
      " 7   HFC                8131 non-null   object\n",
      " 8   reception_30Mbps   8131 non-null   object\n",
      " 9   reception_100Mbps  8131 non-null   object\n",
      " 10  reception_1Gbps    8131 non-null   object\n",
      " 11  4G                 8131 non-null   object\n",
      " 12  5G                 8131 non-null   object\n",
      " 13  5G_3,5GHz          8131 non-null   object\n",
      "dtypes: int64(1), object(13)\n",
      "memory usage: 889.5+ KB\n"
     ]
    }
   ],
   "source": [
    "df_connectivity.info()"
   ]
  },
  {
   "cell_type": "code",
   "execution_count": 20,
   "metadata": {},
   "outputs": [],
   "source": [
    "df_connectivity.to_csv(\"../data/processed/filtered_connectivity.csv\", index=False)"
   ]
  },
  {
   "cell_type": "markdown",
   "metadata": {},
   "source": [
    "### Schools"
   ]
  },
  {
   "cell_type": "code",
   "execution_count": 21,
   "metadata": {},
   "outputs": [
    {
     "data": {
      "text/html": [
       "<div>\n",
       "<style scoped>\n",
       "    .dataframe tbody tr th:only-of-type {\n",
       "        vertical-align: middle;\n",
       "    }\n",
       "\n",
       "    .dataframe tbody tr th {\n",
       "        vertical-align: top;\n",
       "    }\n",
       "\n",
       "    .dataframe thead th {\n",
       "        text-align: right;\n",
       "    }\n",
       "</style>\n",
       "<table border=\"1\" class=\"dataframe\">\n",
       "  <thead>\n",
       "    <tr style=\"text-align: right;\">\n",
       "      <th></th>\n",
       "      <th>school_id</th>\n",
       "      <th>public_private</th>\n",
       "      <th>type</th>\n",
       "      <th>name</th>\n",
       "      <th>latitude</th>\n",
       "      <th>longitude</th>\n",
       "    </tr>\n",
       "  </thead>\n",
       "  <tbody>\n",
       "    <tr>\n",
       "      <th>0</th>\n",
       "      <td>1</td>\n",
       "      <td>Público</td>\n",
       "      <td>COLEGIO PÚBLICO DE EDUCACIÓN INFANTIL Y PRIMAR...</td>\n",
       "      <td>CPEIP Abarzuza Zumadia HLHIP</td>\n",
       "      <td>42.726290</td>\n",
       "      <td>-2.022176</td>\n",
       "    </tr>\n",
       "    <tr>\n",
       "      <th>1</th>\n",
       "      <td>2</td>\n",
       "      <td>Público</td>\n",
       "      <td>ESCUELA PÚBLICA DE MÚSICA</td>\n",
       "      <td>Esc. Mús. Púb. Ablitas</td>\n",
       "      <td>41.975297</td>\n",
       "      <td>-1.640062</td>\n",
       "    </tr>\n",
       "    <tr>\n",
       "      <th>2</th>\n",
       "      <td>3</td>\n",
       "      <td>Público</td>\n",
       "      <td>ESCUELA INFANTIL</td>\n",
       "      <td>EI Ablitas Mi Cole</td>\n",
       "      <td>41.974719</td>\n",
       "      <td>-1.641089</td>\n",
       "    </tr>\n",
       "    <tr>\n",
       "      <th>3</th>\n",
       "      <td>4</td>\n",
       "      <td>Público</td>\n",
       "      <td>COLEGIO DE EDUCACIÓN INFANTIL Y PRIMARIA</td>\n",
       "      <td>CPEIP Ablitas S. Babil HLHIP</td>\n",
       "      <td>41.974047</td>\n",
       "      <td>-1.641728</td>\n",
       "    </tr>\n",
       "    <tr>\n",
       "      <th>4</th>\n",
       "      <td>5</td>\n",
       "      <td>Público</td>\n",
       "      <td>COLEGIO DE EDUCACIÓN INFANTIL Y PRIMARIA</td>\n",
       "      <td>CPEIP Aibar G. V. Casamayor HLHIP</td>\n",
       "      <td>42.590753</td>\n",
       "      <td>-1.361802</td>\n",
       "    </tr>\n",
       "  </tbody>\n",
       "</table>\n",
       "</div>"
      ],
      "text/plain": [
       "   school_id public_private  \\\n",
       "0          1        Público   \n",
       "1          2        Público   \n",
       "2          3        Público   \n",
       "3          4        Público   \n",
       "4          5        Público   \n",
       "\n",
       "                                                type  \\\n",
       "0  COLEGIO PÚBLICO DE EDUCACIÓN INFANTIL Y PRIMAR...   \n",
       "1                          ESCUELA PÚBLICA DE MÚSICA   \n",
       "2                                   ESCUELA INFANTIL   \n",
       "3           COLEGIO DE EDUCACIÓN INFANTIL Y PRIMARIA   \n",
       "4           COLEGIO DE EDUCACIÓN INFANTIL Y PRIMARIA   \n",
       "\n",
       "                                name   latitude  longitude  \n",
       "0       CPEIP Abarzuza Zumadia HLHIP  42.726290  -2.022176  \n",
       "1             Esc. Mús. Púb. Ablitas  41.975297  -1.640062  \n",
       "2                 EI Ablitas Mi Cole  41.974719  -1.641089  \n",
       "3       CPEIP Ablitas S. Babil HLHIP  41.974047  -1.641728  \n",
       "4  CPEIP Aibar G. V. Casamayor HLHIP  42.590753  -1.361802  "
      ]
     },
     "execution_count": 21,
     "metadata": {},
     "output_type": "execute_result"
    }
   ],
   "source": [
    "# Read the GeoJSON file\n",
    "gdf = gpd.read_file('../data/raw/spanish_schools.geojson')\n",
    "\n",
    "# Ensure that the geometry column contains points\n",
    "# Extract latitude and longitude from the geometry column\n",
    "gdf['latitude'] = gdf.geometry.y\n",
    "gdf['longitude'] = gdf.geometry.x\n",
    "\n",
    "# Now drop the geometry column if you don't need it anymore\n",
    "df_schools = gdf.drop(columns='geometry')\n",
    "\n",
    "df_schools.rename(columns={\"Gestion\": \"public_private\",\n",
    "                            \"OBJECTID\": \"school_id\", \n",
    "                            \"Gestion\": \"public_private\",\n",
    "                            \"Nombre\": \"name\",\n",
    "                            \"Tipo\": \"type\"},\n",
    "                            inplace=True)\n",
    "\n",
    "df_schools.drop([\"Direccion\", \"CodigoPostal\", \"Fuente\", \"Municipio\"], axis=1,  inplace=True)\n",
    "\n",
    "# I dropped Municipio because we don't have the code, and maybe not needed as we can just calculate distance\n",
    "\n",
    "df_schools.head()"
   ]
  },
  {
   "cell_type": "code",
   "execution_count": 22,
   "metadata": {},
   "outputs": [
    {
     "data": {
      "text/plain": [
       "array(['Público', 'Concertado', 'Privado', None], dtype=object)"
      ]
     },
     "execution_count": 22,
     "metadata": {},
     "output_type": "execute_result"
    }
   ],
   "source": [
    "df_schools[\"public_private\"].unique()"
   ]
  },
  {
   "cell_type": "code",
   "execution_count": 23,
   "metadata": {},
   "outputs": [
    {
     "name": "stdout",
     "output_type": "stream",
     "text": [
      "['Public' 'Charter' 'Private' None]\n"
     ]
    }
   ],
   "source": [
    "translation_map = {\n",
    "    'Público': 'Public',\n",
    "    'Concertado': 'Charter',\n",
    "    'Privado': 'Private'\n",
    "}\n",
    "\n",
    "# Replace values in the column\n",
    "df_schools[\"public_private\"] = df_schools[\"public_private\"].replace(translation_map)\n",
    "\n",
    "# Print unique values to confirm the change\n",
    "print(df_schools[\"public_private\"].unique())\n"
   ]
  },
  {
   "cell_type": "code",
   "execution_count": 24,
   "metadata": {},
   "outputs": [
    {
     "data": {
      "text/plain": [
       "array(['COLEGIO PÚBLICO DE EDUCACIÓN INFANTIL Y PRIMARIA/HAUR ETA LEHEN HEZKUNTZAKO IKASTETXE PUBLIKOA',\n",
       "       'ESCUELA PÚBLICA DE MÚSICA', 'ESCUELA INFANTIL',\n",
       "       'COLEGIO DE EDUCACIÓN INFANTIL Y PRIMARIA',\n",
       "       'INSTITUTO DE EDUCACIÓN SECUNDARIA/BIGARREN HEZKUNTZAKO INSTITUTUA',\n",
       "       'ESCUELA PÚBLICA DE MÚSICA Y DANZA',\n",
       "       'AULA DE EDUCACIÓN DE ADULTOS', 'CENTRO INTEGRADO POLITÉCNICO',\n",
       "       'CENTRO PRIVADO DE EDUCACIÓN INFANTIL Y PRIMARIA',\n",
       "       'CENTRO PRIVADO DE EDUCACIÓN SECUNDARIA OBLIGATORIA',\n",
       "       'CENTRO PRIVADO DE EDUCACIÓN INFANTIL',\n",
       "       'INSTITUTO DE EDUCACIÓN SECUNDARIA OBLIGATORIA/DERRIGORREZKO BIGARREN HEZKUNTZAKO INSTITUTUA',\n",
       "       'INSTITUTO DE EDUCACIÓN SECUNDARIA OBLIGATORIA',\n",
       "       'INSTITUTO DE EDUCACIÓN SECUNDARIA',\n",
       "       'CENTRO PRIVADO DE EDUCACIÓN INFANTIL, PRIMARIA Y ESO', ' ',\n",
       "       'CENTRO INTEGRADO',\n",
       "       'CENTRO PRIVADO DE EDUCACIÓN INFANTIL PRIMARIA Y SECUNDARIA',\n",
       "       'ESCUELA PRIVADA DE MÚSICA',\n",
       "       'CENTRO PRIVADO DE FORMACIÓN PROFESIONAL ESPECÍFICA',\n",
       "       'CENTRO PRIVADO DE EDUCACIÓN ESPECIAL', 'ESCUELA DE ARTE',\n",
       "       'CENTRO INTEGRADO POLITÉCNICO/IKASTETXE INTEGRATU POLITEKNIKOA',\n",
       "       'CENTRO PRIVADO DE EDUCACIÓN SECUNDARIA',\n",
       "       'COLEGIO DE EDUCACIÓN INFANTIL PRIMARIA Y PRIMER CICLO DE ESO',\n",
       "       'CENTRO DOCENTE PRIVADO EXTRANJERO EN ESPAÑA',\n",
       "       'CENTRO PÚBLICO DE EDUCACIÓN DE PERSONAS ADULTAS',\n",
       "       'CENTRO INTEGRADO SUPERIOR DE ENERGÍAS RENOVABLES',\n",
       "       'COLEGIO DE EDUCACIÓN PRIMARIA',\n",
       "       'CENTRO PRIVADO AUTORIZADO DE ENSEÑANZAS DEPORTIVAS',\n",
       "       'CENTRO INTEGRADO PRIVADO', 'CENTRO DE EDUCACIÓN ESPECIAL',\n",
       "       'CONSERVATORIO SUPERIOR DE MÚSICA',\n",
       "       'CENTRO PRIVADO AUTORIZADO SUPERIOR DE DISEÑO',\n",
       "       'ESCUELA PRIVADA DE MÚSICA Y DANZA',\n",
       "       'ESCUELA DE ARTE Y SUPERIOR DE DISEÑO / ARTE ETA GOI MAILAKO DISEINU ESKOLA',\n",
       "       'ESCUELA PÚBLICA DE DANZA', 'ESCUELA OFICIAL DE IDIOMAS',\n",
       "       'CENTRO PRIVADO DE EDUCACIÓN PRIMARIA',\n",
       "       'CENTRO INTEGRADO EN ADMINISTRACIÓN, COMERCIO E INFORMÁTICA',\n",
       "       'CONSERVATORIO PROFESIONAL DE MÚSICA', 'ESCUELA PRIVADA DE DANZA',\n",
       "       'COLEGIO RURAL AGRUPADO DE ED. INF. Y PRIMARIA/HAUR ETA LEHEN HEZKUNTZAKO HERRI IKASTETXE BATERATUA',\n",
       "       \"COL·LEGI D'EDUCACIÓ INFANTIL I PRIMÀRIA\",\n",
       "       \"CENTRE PRIVAT D'EDUCACIÓ INFANTIL I PRIMÀRIA\",\n",
       "       \"COL·LEGI D'EDUCACIÓ PRIMÀRIA\", \"CENTRE D'EDUCACIÓ ESPECIAL\",\n",
       "       \"CENTRE PRIVAT D'EDUCACIÓ INFANTIL, PRIMÀRIA I SECUNDÀRIA\",\n",
       "       \"INSTITUT D'EDUCACIÓ SECUNDÀRIA\",\n",
       "       \"CENTRE PRIVAT D'EDUCACIÓ INFANTIL\",\n",
       "       \"CENTRE PRIVAT D'EDUCACIÓ PRIMÀRIA I SECUNDÀRIA\",\n",
       "       'CENTRE DOCENT PRIVAT ESTRANGER',\n",
       "       'ESCOLA INFANTIL DE PRIMER CICLE',\n",
       "       'INSTITUT DE FORMACIÓ PROFESSIONAL SUPERIOR',\n",
       "       \"CENTRE PRIVAT D'EDUCACIÓ INFANTIL DE PRIMER CICLE\",\n",
       "       \"CENTRE PRIVAT D'EDUCACIÓ SECUNDÀRIA\",\n",
       "       \"CENTRE PRIVAT D'EDUCACIÓ PRIMÀRIA\",\n",
       "       \"ESCOLA D'ART I SUPERIOR DE DISSENY\",\n",
       "       'CENTRE PRIVAT FORMACIÓ PROFESSIONAL ESPECÍFICA',\n",
       "       \"CENTRE PRIVAT D'EDUCACIÓ ESPECIAL\", 'ESCOLA INFANTIL',\n",
       "       'CENTRE INTEGRAT PÚBLIC DE FORMACIÓ PROFESSIONAL',\n",
       "       'CENTRE PÚBLIC DE FORMACIÓ DE PERSONES ADULTES',\n",
       "       'CONSERVATORI SUPERIOR DE MÚSICA',\n",
       "       'CENTRE DOCENT PÚBLIC DE FORMACIÓ BÀSICA DE PERSONES ADULTES',\n",
       "       'CONSERVATORI PROFESSIONAL DE MÚSICA', \"ESCOLA OFICIAL D'IDIOMES\",\n",
       "       'ESCOLA PÚBLICA DE MÚSICA I DANSA',\n",
       "       'CONSERVATORI PROFESSIONAL DE DANSA', 'ESCOLA PRIVADA DE MÚSICA',\n",
       "       'CENTRE AUTORITZAT ELEMENTAL DE DANSA',\n",
       "       'CENTRE AUTORITZAT ELEMENTAL DE MÚSICA',\n",
       "       'ESCOLA PÚBLICA DE MÚSICA', 'ESCOLA PÚBLICA DE DANSA',\n",
       "       'CONSERVATORI ELEMENTAL DE DANSA',\n",
       "       'ESCOLA PRIVADA DE MÚSICA I DANSA',\n",
       "       'CONSERVATORI ELEMENTAL DE MÚSICA', \"SECCIÓ D'EDUCACIÓ SECUNDÀRIA\",\n",
       "       'COL·LEGI RURAL AGRUPAT', 'CONSERVATORI SUPERIOR DE DANSA',\n",
       "       'ESCOLA EUROPEA',\n",
       "       \"CENTRE AUTORITZAT D'ENSENYANCES ARTÍSTIQUES PROFESSIONALS DE MÚSICA\",\n",
       "       'ESCOLA PRIVADA DE DANSA',\n",
       "       'CENTRE DOCENT PRIVAT DE FORMACIÓ BÀSICA DE PERSONES ADULTES',\n",
       "       \"CENTRE AUTORITZAT D'ENSENYAMENTS ESPORTIUS\",\n",
       "       'CENTRE PRIVAT DE BATXILLERAT',\n",
       "       \"CENTRE AUTORITZAT D'ENSENYANCES ARTÍSTIQUES PROFESSIONALS DE DANSA\",\n",
       "       'CENTRE PÚBLIC INTEGRAT', 'ESCOLA LLAR',\n",
       "       'ESCOLA SUPERIOR DE CERÀMICA', 'ESCOLA DE CAPACITACIÓ AGRÀRIA',\n",
       "       \"CENTRE PRIVAT D'EDUCACIÓ INFANTIL I SECUNDÀRIA\",\n",
       "       'CENTRE INTEGRAT DE MÚSICA I ENS. RÈGIM GENERAL',\n",
       "       \"ESCOLA D'ART I SUPERIOR DE CERÀMICA\",\n",
       "       'ESCOLA DE VITICULTURA I ENOLOGIA',\n",
       "       \"CENTRE AUT. D'ENSENYANCES ARTÍSTIQUES PROFESSIONALS D'ARTS PLÀSTIQUES I DISSENY\",\n",
       "       \"ESCOLA SUPERIOR D'ART DRAMÀTIC\",\n",
       "       \"CENTRE PÚBLIC D'EDUCACIÓ A DISTÀNCIA\",\n",
       "       'CENTRE AUTORITZAT SUPERIOR DE MÚSICA',\n",
       "       'COLEGIO DE EDUCACIÓN INFANTIL, PRIMARIA Y SECUNDARIA',\n",
       "       'COLEGIO DE EDUCACIÓN  SECUNDARIA', 'CENTRO EDUCACIÓN ESPECIAL',\n",
       "       'CENTROS EDUCACIÓN ADULTOS',\n",
       "       'CENTRO REGIONAL DE ENSEÑANZAS INTEGRADAS ',\n",
       "       'COLEGIO DE EDUCACIÓN PRIMARIA Y SECUNDARIA',\n",
       "       'COLEGIO PÚBLICO DE EDUCACIÓN ESPECIAL',\n",
       "       'CENTRO PRIVADO DE FORMACIÓN PROFESIONAL', '',\n",
       "       'COLEGIO RURAL AGRUPADO',\n",
       "       'CENTRO PRIVADO DE EDUCACIÓN INFANTIL PRIMARIA Y SE',\n",
       "       'SECCIÓN DE INSTITUTO DE EDUCACIÓN SECUNDARIA',\n",
       "       'EQUIPO DE ORIENTACIÓN EDUCATIVA Y PSICOPEDAGÓGICA',\n",
       "       'CENTRO DE EDUCACIÓN OBLIGATORIA',\n",
       "       'CONSERVATORIO ELEMENTAL DE MÚSICA', 'SERVICIOS CENTRALES',\n",
       "       'ESCUELA SUPERIOR DE DISEÑO',\n",
       "       'CENTRO PRIVADO DE EDUCACIÓN INFANTIL Y SECUNDARIA',\n",
       "       'CENTRO PÚBLICO INTEGRADO DE FORMACIÓN PROFESIONAL',\n",
       "       'EQUIPO DE ATENCIÓN DE LA RIOJA',\n",
       "       'CENTRO DOCENTE DE FORMACIÓN MILITAR',\n",
       "       'CONSERVATORIO PROFESIONAL DE MUSICA',\n",
       "       'COLEGIO DE EDUCACION INFANTIL Y PRIMARIA',\n",
       "       'CENTRO PUBLICO DE EDUCACION DE PERSONAS ADULTAS',\n",
       "       'CENTRO PUBLICO INTEGRADO DE FORMACION PROFESIONAL',\n",
       "       'CENTRO PRIVADO DE EDUCACION INFANTIL PRIMARIA Y SECUNDARIA',\n",
       "       'CENTRO PRIVADO DE EDUCACION SECUNDARIA',\n",
       "       'CENTRO PRIVADO DE EDUCACION INFANTIL Y PRIMARIA',\n",
       "       'CENTRO PRIVADO DE EDUCACION PRIMARIA Y SECUNDARIA',\n",
       "       'CENTRO PRIVADO AUTORIZADO DE ENSEÑANZAS DEPORTIVAS DE FÚTBOL',\n",
       "       'CENTRO PRIVADO AUTORIZADO DE ENSEÑANZAS DEPORTIVAS DE INVIERNO',\n",
       "       'CENTRO PRIVADO AUTORIZADO DE ENSEÑANZAS DEPORTIVAS DE HÍPICA',\n",
       "       'CENTRO PRIVADO AUTORIZADO ELEMENTAL DE MUSICA',\n",
       "       'CENTRO PRIVADO DE EDUCACION ESPECIAL',\n",
       "       'CENTRO PRIVADO DE EDUCACION INFANTIL',\n",
       "       'CENTRO PRIVADO DE FORMACION PROFESIONAL ESPECIFICA',\n",
       "       'ESCUELA DE ARTE Y SUPERIOR DE DISEÑO Y DE CONS. Y RESTAUR. DE BIENES CULTURALES',\n",
       "       'ESCUELA DE ARTE Y SUPERIOR DE DISEÑO',\n",
       "       'ESCUELA DE ARTE Y SUPERIOR DE CONSERVACIÓN Y RESTAURACIÓN DE BIENES CULTURALES',\n",
       "       'ESCUELA DE EDUCACION INFANTIL', 'ESCUELA DE MUSICA',\n",
       "       'INSTITUTO DE EDUCACION SECUNDARIA',\n",
       "       'CENTRO PRIVADO INTEGRADO DE FORMACION PROFESIONAL',\n",
       "       'ESCUELA DE DANZA',\n",
       "       'INSTITUTO DE EDUCACION SECUNDARIA OBLIGATORIA',\n",
       "       'CONSERVATORIO SUPERIOR DE MUSICA',\n",
       "       'COLEGIO DE EDUCACION ESPECIAL',\n",
       "       'CONSERVATORIO ELEMENTAL DE MUSICA',\n",
       "       'CENTRO PRIVADO AUTORIZADO DE ARTES PLASTICAS Y DISEÑO',\n",
       "       'CENTRO PRIVADO AUTORIZADO PROFESIONAL DE DANZA',\n",
       "       'CENTRO PRIVADO AUTORIZADO PROFESIONAL DE MUSICA',\n",
       "       'CENTRO PRIVADO DOCENTE EXTRANJERO EN ESPAÑA',\n",
       "       'ESCUELA DE MUSICA Y DANZA',\n",
       "       'CENTRO AUTORIZADO SUPERIOR DE ARTE DRAMATICO',\n",
       "       'CENTRO AUTORIZADO DEL VIDRIO', 'COLEGIO DE EDUCACION PRIMARIA',\n",
       "       'CENTRO PRIVADO DE EDUCACION PRIMARIA',\n",
       "       'CENTRO PRIVADO AUTORIZADO ELEMENTAL DE DANZA',\n",
       "       'CENTRO PRIVADO AUTORIZADO DE ENSEÑANZAS DEPORTIVAS DE SALVAMENTO Y SOCORRISMO',\n",
       "       'INSTITUTO DE FORMACIÓN PROFESIONAL MARÍTIMO PESQUERA',\n",
       "       'CENTRO PRIVADO DE EDUCACIÓN INFANTIL, PRIMARIA Y SECUNDARIA',\n",
       "       'CENTRO PRIVADO DOCENTE EXTRANJERO MIXTO',\n",
       "       'CENTRO AUTORIZADO DE EDUCACIÓN DE PERSONAS ADULTAS',\n",
       "       'ESCUELA DE EDUCACIÓN INFANTIL',\n",
       "       'INSTITUTO DE FORMACIÓN PROFESIONAL AGRARIA',\n",
       "       'CENTRO PRIVADO DE EDUCACIÓN PRIMARIA Y SECUNDARIA',\n",
       "       'CENTRO DE EDUCACIÓN DE PERSONAS ADULTAS',\n",
       "       'CENTRO PRIVADO DOCENTE EXTRANJERO PURO',\n",
       "       'CENTRO DE EDUCACIÓN A DISTANCIA', 'AULA DE IDIOMAS',\n",
       "       'ESCUELA INSULAR DE MÚSICA', 'ESCUELA MUNICIPAL DE MÚSICA',\n",
       "       'CENTRO AUTORIZADO DE MÚSICA DE GRADOS ELEMENTAL Y MEDIO',\n",
       "       'ESCUELA MUNICIPAL DE MÚSICA Y DANZA',\n",
       "       'CENTRO AUTORIZADO DE DANZA DE GRADO ELEMENTAL',\n",
       "       'CONSERVATORIO INSULAR DE MÚSICA DE GRADO ELEMENTAL',\n",
       "       'CENTRO AUTORIZADO SUPERIOR DE ARTE DRAMÁTICO',\n",
       "       'ESCUELA COMARCAL DE MÚSICA', 'ESCUELA MUNICIPAL DE DANZA',\n",
       "       'CENTRO AUTORIZADO DE MÚSICA DE GRADO ELEMENTAL',\n",
       "       'CENTRO AUTORIZADO DE E. DEPORTIVAS DE GRADO MEDIO Y SUPERIOR',\n",
       "       'CENTRO INTEGRADO DE FORMACIÓN PROFESIONAL',\n",
       "       'CENTRO AUTORIZADO DE ENSEÑANZAS DEPORTIVAS DE GRADO MEDIO',\n",
       "       'CENTRO INTEGRADO PRIVADO DE FORMACIÓN PROFESIONAL',\n",
       "       'CENTRO PRIV.DE FORMACIÓN PROFESIONAL Y ENSEÑANZAS DEPORTIVAS',\n",
       "       'AULAS HOSPITALARIAS', 'CENTROS ED. ESPECIAL', 'INFANTIL 3-6',\n",
       "       'INFANTIL 0-3', 'FORMACIÓN OCUPACIONAL', 'PERSONAS ADULTAS',\n",
       "       'CFP ESPECÍFICA', 'CIFP INTEGRADOS',\n",
       "       'ENSEÑANZAS DEPORTIVAS / 10. CIFP INTEGRADOS',\n",
       "       'BILINGÜE FP / 10. CIFP INTEGRADOS', 'CONCERTADO/PRIVADO',\n",
       "       'BILINGÜE PRIMARIA / 18. PRIMARIA / 26. CONCERTADO/PRIVADO',\n",
       "       'BILINGÜE PRIMARIA / 2. BILINGÜE SECUNDARIA / 26. CONCERTADO/PRIVADO',\n",
       "       'BILINGÜE PRIMARIA / 2. BILINGÜE SECUNDARIA / 18. PRIMARIA / 26. CONCERTADO/PRIVADO',\n",
       "       'PRIMARIA / 26. CONCERTADO/PRIVADO',\n",
       "       'BILINGÜE SECUNDARIA / 18. PRIMARIA / 26. CONCERTADO-PRIVADO',\n",
       "       'BILINGÜE PRIMARIA /2. BILINGÜE SECUNDARIA / 18. PRIMARIA / 26. CONCERTADO-PRIVADO',\n",
       "       'BILINGÜE PRIMARIA / 2. BILINGÜE SECUNDARIA', 'CONSERVATORIOS',\n",
       "       'BILINGÜE PRIMARIA / 17. INFANTIL 3-6 / 18. PRIMARIA',\n",
       "       'EQUIPOS ORIENTACIÓN',\n",
       "       'BILINGÜE PRIMARIA / 17. INFANTIL 3-6 /  18. PRIMARIA',\n",
       "       'INFANTIL 3-6 / 18. PRIMARIA',\n",
       "       'BILINGÜE PRIMARIA / 17. INTANTIL 3-6 / 18. PRIMARIA',\n",
       "       'INFANTIL 3-6 / 22. ESCUELA-HOGAR-RESIDENCIA', 'BILINGÜE PRIMARIA',\n",
       "       'BILINGÜE PRIMARIA / 17. INFANTIL 3-6', 'IES',\n",
       "       'BILINGÜE SECUNDARIA / 13. IES CON FP / 23. IES', 'CPR',\n",
       "       'BILINGÜE PRIMARIA / 18. PRIMARIA / 17. INFANTIL 3-6',\n",
       "       'BILINGÜE PRIMARIA / 2. BILINGÜE SECUNDARIA / 17. INFANTIL 3-6 / 22. ESCUELA-HOGAR-RESIDENCIA / 24. CPEB',\n",
       "       'BILINGÜE SECUNDARIA / 17. INFANTIL 3-6 / 24. CPEB',\n",
       "       'INFANTIL 3-6 / 22. ESCUELA-HOGAR-RESIDENCIA / 24. CPEB',\n",
       "       'INFANTIL 3-6 / 24. CPEB',\n",
       "       'BILINGÜE PRIMARIA / 2. BILINGÜE SECUNDARIA / 17. INFANTIL 3-6 / 24. CPEB',\n",
       "       'BILINGÜE PRIMARIA / 22. ESCUELA-HOGAR-RESIDENCIA / 24. CPEB',\n",
       "       'BILINGÜE PRIMARIA / 2. BILINGÜE SECUNDARIA / 17. INFANTIL 3-6 / 18. PRIMARIA',\n",
       "       'INFANTIL 0-3\\n', 'ESCUELA OFICIAL IDIOMAS / 15. THAT ENGLISH',\n",
       "       'ESCUELA OFICIAL IDIOMAS', 'BILINGÜE SECUNDARIA / 23. IES',\n",
       "       'ESCUELAS DE ARTE / 25. ESCUELA  ARTE', 'ESCUELAS DE ARTE',\n",
       "       'BILINGÜE SECUNDARIA / 8. BACH. ARTE / 13. IES CON FP / 23. IES',\n",
       "       'IES CON FP / 23. IES', 'BILINGÜE SECUNDARIA',\n",
       "       'BILINGÜE SECUNDARIA / 3. BILINGÜE FP / 13. IES CON FP / 23. IES',\n",
       "       'IES CON FP / 22. ESCUELA-HOGAR-RESIDENCIA / 23. IES',\n",
       "       'THAT ENGLISH', 'INFANTIL 3-6 AÑOS', 'INFANTIL 3-6 L',\n",
       "       'COLEGIO PUBLICO', 'INSTITUTO DE EDUCACION SECUNDARIA (IES)',\n",
       "       'ESCUELA OFICIAL DE IDIOMAS (EOI)',\n",
       "       'CENTRO PRIVADO CON VARIAS ENSEÑANZAS DE REGIMEN GENERAL',\n",
       "       'ESCUELA SUPERIOR DE ARTES PLASTICAS Y DISEÑO',\n",
       "       'CONSERVATORIO DE MUSICA O DANZA',\n",
       "       'COLEGIO PUBLICO DE EDUCACION ESPECIAL', 'RESIDENCIA',\n",
       "       'INSTITUTO DE FORMACION PROFESIONAL',\n",
       "       'ESCUELA PUBLICA DE MUSICA Y/O DANZA',\n",
       "       'CENTRO PRIVADO DE EDUCACION DE PERSONAS ADULTAS',\n",
       "       'ESCUELA PRIVADA DE MUSICA Y/O DANZA',\n",
       "       'CENTRO PRIVADO DE EDUCACION  ESPECIAL',\n",
       "       'CENTRO PRIVADO SUPERIOR DE ARTES PLASTICAS Y DISEÑO',\n",
       "       'CENTRO PRIVADO DE MOSICA O DANZA',\n",
       "       'CENTRO PRIVADO DE ENSEÑANZAS DEPORTIVAS', 'COLEGIO PÚBLICO RURAL',\n",
       "       'CENTRO DOCENTE PRIVADO',\n",
       "       'SECCIÓN DE EDUCACIÓN SECUNDARIA OBLIGATORIA', 'EINF2C EPRI',\n",
       "       'EINF2C EPRI ESO BATX CFPM PFI', 'EINF2C EPRI ESO',\n",
       "       'EINF2C EPRI ESO AA01 CFPM PFI', 'EINF2C EPRI ESO BATX',\n",
       "       'EINF1C EINF2C EPRI', 'CFPM CFPS PFI',\n",
       "       'EINF2C EPRI ESO BATX CFPM AA03 CFPS ADULTS',\n",
       "       'EINF1C EINF2C EPRI ESO', 'EINF2C EPRI ESO BATX CFPM AA03 CFPS',\n",
       "       'EINF1C EINF2C EPRI ESO BATX', 'ESO BATX CFPM AA03 CFPS PFI',\n",
       "       'ESO BATX PFI', 'ESO BATX CFPM CFPS', 'BATX CFAM CFAS ESDI', 'EE',\n",
       "       'EINF1C', 'EPRI', 'ESTR', 'EINF1C EINF2C',\n",
       "       'CFPM AA03 CFPS PFI ADULTS', 'EE PFI',\n",
       "       'EINF1C EINF2C EPRI ESO BATX CFPS CFAS',\n",
       "       'EINF1C EINF2C EPRI ESO BATX CFPM AA03 CFPS TEGM TEGS',\n",
       "       'EINF2C EPRI ESO BATX CFPM AA03 CFPS TEGM TEGS',\n",
       "       'EINF1C EINF2C EPRI ESO BATX CFPM AA03 CFPS', 'BATX', 'ESO BATX',\n",
       "       'ESO BATX AA01 CFPM AA03 CFPS CFAS ADULTS',\n",
       "       'EINF1C EINF2C EPRI ESO BATX CFPM TEGM TEGS',\n",
       "       'EINF2C EPRI ESO BATX CFPS',\n",
       "       'EINF2C EPRI ESO BATX CFPS PFI ADULTS',\n",
       "       'EINF1C EINF2C EPRI ESO BATX CFPS',\n",
       "       'EINF2C EPRI ESO BATX CFPM CFPS', 'EINF2C EPRI ESO BATX AA03 CFPS',\n",
       "       'EINF2C EPRI ESO PFI', 'EPRI ESO BATX AA01 CFPM AA03 CFPS ADULTS',\n",
       "       'EINF2C EPRI ESO BATX CFPM',\n",
       "       'EINF2C EPRI ESO BATX AA01 CFPM AA03 CFPS PFI ADULTS',\n",
       "       'EINF1C EINF2C EPRI ESO BATX AA01 AA03 TEGM TEGS', 'ESO CFPM CFPS',\n",
       "       'BATX CFPM CFPS', 'EE ADULTS',\n",
       "       'EINF2C EPRI ESO BATX AA01 AA03 ADULTS',\n",
       "       'EINF2C EPRI ESO BATX AA01 AA03 CFPS PFI',\n",
       "       'ESO BATX CFPM AA03 CFPS', 'EE PFI ADULTS',\n",
       "       'BATX CFPM AA03 CFPS PFI TEGM TEGS',\n",
       "       'ESO BATX AA01 CFPM AA03 CFPS IFE PFI TEGM',\n",
       "       'BATX AA03 CFPS ADULTS', 'ESO BATX CFPM CFPS TEGM', 'CFPS',\n",
       "       'CFPM CFPS CFAS TEGM TEGS', 'BATX CFPM AA03 CFPS PFI CFAM ADULTS',\n",
       "       'AA01 CFPM AA03 CFPS PFI', 'ESO CFPS', 'EINF2C EPRI ESO BATX AA01',\n",
       "       'ESO BATX CFPM CFPS PFI', 'EINF2C EPRI ESO AA01',\n",
       "       'EPRI ESO BATX CFPM AA03 CFPS',\n",
       "       'EINF2C EPRI ESO BATX AA01 CFPM AA03 CFPS',\n",
       "       'EPRI ESO BATX CFPM CFPS', 'CFPM AA03 CFPS IFE PFI', 'CFPM CFPS',\n",
       "       'EINF1C EINF2C EPRI ESO BATX AA01 AA03 PFI ADULTS',\n",
       "       'BATX AA01 CFPM AA03 CFPS PFI', 'ESO',\n",
       "       'EINF1C EINF2C EPRI ESO BATX AA01 CFPM AA03 CFPS TEGM TEGS',\n",
       "       'ESO BATX CFPM', 'CFPM',\n",
       "       'EINF2C EPRI ESO BATX AA01 CFPM AA03 CFPS PFI TEGM ADULTS',\n",
       "       'ESO BATX CFPM CFPS TEGM TEGS',\n",
       "       'EINF2C EPRI ESO BATX CFPS TEGM TEGS', 'EPRI ESO MUSE MUSP',\n",
       "       'EINF2C EPRI ESO CFPM CFPS',\n",
       "       'EINF2C EPRI ESO BATX CFPM AA03 CFPS CFAS TEGM', 'CFPM PPAS CFPS',\n",
       "       'CFPM AA03 CFPS PFI',\n",
       "       'EINF1C EINF2C EPRI ESO BATX AA01 CFPM AA03 CFPS TEGM ADULTS',\n",
       "       'EINF2C EPRI ESO CFPM', 'ESO BATX CFPM AA03 CFPS IFE PFI',\n",
       "       'EINF2C EPRI ESO CFPM CFPS TEGM',\n",
       "       'EINF2C EPRI ESO AA01 CFPM CFPS PFI',\n",
       "       'EINF1C EINF2C EPRI ESO BATX CFPM CFPS',\n",
       "       'ESO BATX CFPM AA03 CFPS PFI TEGM', 'ESO BATX TEGS',\n",
       "       'EINF2C EPRI ESO BATX CFPM AA03 CFPS TEGM',\n",
       "       'EINF2C EPRI ESO BATX AA01 CFPM AA03 CFPS ADULTS',\n",
       "       'ESO BATX AA01 CFPM CFPS', 'ESO BATX CFPM AA03',\n",
       "       'BATX CFPM AA03 CFPS PFI', 'BATX CFPM AA03 CFPS',\n",
       "       'CFPM CFPS ADULTS', 'ESO AA01 CFPM PFI',\n",
       "       'ESO BATX AA01 CFPM AA03 CFPS PFI',\n",
       "       'BATX CFPM AA03 CFPS PFI ADULTS', 'CFPM CFPS PFI ADULTS',\n",
       "       'BATX CFPM AA03 CFPS TEGM TEGS',\n",
       "       'BATX AA01 CFPM AA03 CFPS PFI ADULTS',\n",
       "       'ESO BATX AA01 CFPM AA03 CFPS', 'BATX CFPM AA03 CFPS ADULTS',\n",
       "       'ESO BATX CFPM CFPS IFE', 'ESO BATX CFPM CFPS PFI TEGM TEGS',\n",
       "       'PFI ADULTS', 'EE IFE', 'PFI',\n",
       "       'EINF2C BATX CFPM AA03 CFPS PFI TEGM ADULTS',\n",
       "       'ESO BATX CFPM AA03 CFPS PFI ADULTS', 'CFPM CFPS TEGM',\n",
       "       'ESO BATX AA03', 'MUSP', 'ADR', 'MUSS', 'MUSE', 'CFAM CFAS',\n",
       "       'BATX CFAS', 'CFAS', 'AA03 CFAM CFAS', 'IDI',\n",
       "       'EINF2C EPRI ESO BATX AA01 CFPM AA03 CFPS PFI TEGM',\n",
       "       'ESO BATX CFPM AA03 CFPS IFE PFI TEGM', 'DANE MUSE', 'CFPM PFI',\n",
       "       'IFE PFI', 'DANE', 'CFPM PFI ADULTS', 'CFPM CFPS IFE',\n",
       "       'ESO BATX CFPM IFE PFI', 'BATX CFAM CFAS', 'AA01 ADULTS', 'ADULTS',\n",
       "       'CFAM CFAS ESDI', 'ESO BATX AA01 CFPM AA03 CFPS ADULTS',\n",
       "       'ESO BATX CFPM PFI', 'EPRI ESO', 'CRBC',\n",
       "       'EINF2C EPRI ESO BATX CFPM CFPS TEGM ADULTS',\n",
       "       'ESO BATX CFPM AA03 CFPS IDI ADULTS', 'PFI CFAM CFAS',\n",
       "       'ESO BATX CFPS', 'ESO BATX CFPM AA03 CFPS TEGM TEGS',\n",
       "       'EPRI ESO CFPM CFPS', 'ESO BATX CFPM IFE', 'ESO BATX ESCS',\n",
       "       'ESO BATX CFPM AA03 CFPS IFE', 'EPRI ESO BATX DANE DANP MUSE MUSP',\n",
       "       'CFPM CFPS CFAS', 'ESCS DANE', 'CFPS CFAS', 'AA01 PFI ADULTS',\n",
       "       'ESDI', 'EE IFE PFI', 'ESO BATX DANP', 'DANS', 'ESO CFPM CFPS IFE',\n",
       "       'ESO CFPM', 'CFPS ADULTS', 'TEGM TEGS', 'EINF2C',\n",
       "       'EINF1C EINF2C EPRI ESO BATX CFPM CFPS TEGM TEGS',\n",
       "       'EINF1C EINF2C EPRI ESO BATX AA01 CFPM AA03 CFPS',\n",
       "       'CFPM CFPS TEGM TEGS', 'EINF1C EPRI ESO', 'ESO PFI',\n",
       "       'CFPM CFPS TEGM TEGS ADULTS', 'CFPM ADULTS', 'CFPM CFPS IFE PFI',\n",
       "       'CFPM CFPS PFI TEGM TEGS', 'ESCM ESCS', 'ESCS', 'CFPM TEGM TEGS',\n",
       "       'BATX CFPM CFPS PFI', 'ESO CFPM CFPS IFE TEGM', 'CFPM TEGM',\n",
       "       'CFPS CFAM CFAS', 'EINF2C EPRI ESO CFPM CFPS PFI TEGM',\n",
       "       'EINF1C EINF2C EPRI ESO BATX CFPM AA03', 'ESO BATX CFPM CFPS CFAM',\n",
       "       'EINF2C EPRI PFI', 'CFPS CFAM', 'TEGM',\n",
       "       'EINF1C EINF2C EPRI ESO BATX PFI',\n",
       "       'EINF1C EINF2C EPRI ESO BATX AA01 AA03 CFPS TEGM',\n",
       "       'CFPM CFPS PFI TEGM ADULTS',\n",
       "       'ESO BATX AA01 CFPM AA03 CFPS PFI ADULTS',\n",
       "       'CFPM AA03 CFPS IFE PFI TEGM TEGS',\n",
       "       'EINF1C EINF2C EPRI ESO BATX CFPM', 'CFPM AA03 CFPS IFE',\n",
       "       'ESCS MUSP', 'ESO BATX AA03 TEGM TEGS', 'ESO BATX AA01 AA03 PFI',\n",
       "       'AA03 TEGM TEGS', 'EINF1C EINF2C EPRI ADULTS',\n",
       "       'EINF1C EINF2C EPRI ESO BATX AA01 CFPM AA03 CFPS PFI',\n",
       "       'EINF1C EINF2C EPRI ESO CFPM CFPS',\n",
       "       'EINF1C EINF2C EPRI ESO BATX AA01 CFPM AA03',\n",
       "       'EINF1C EINF2C EPRI ESO BATX TEGM TEGS',\n",
       "       'BATX AA01 CFPM AA03 CFPS', 'EINF1C EINF2C EPRI ESO CFPM',\n",
       "       'ESO BATX AA01 CFPM AA03 CFPS IFE CFAS',\n",
       "       'ESO BATX CFPM AA03 CFPS IFE PFI TEGM TEGS', 'CFAS ESDI', 'DANP',\n",
       "       'BATX CFPM AA03 CFPS IFE PFI TEGM TEGS',\n",
       "       'IKASTETXEA / CENTRO ESCOLAR',\n",
       "       'LAGUNTZEKO ZENTROA / CENTRO DE APOYO',\n",
       "       'ZENTRO ADMINISTRATIBOA / CENTRO ADMINISTRATIVO', 'CEIP', 'CPI',\n",
       "       'CEP', 'ESCO', 'EMUSPR', 'EEI', 'EFOG', 'EFAG', 'CEEPR',\n",
       "       'CEN. PUB.', 'CIFP', 'CEE', 'INSTITUTO', 'ESMU', 'CMUS', 'CEMU',\n",
       "       'EOI', 'EPAPU', 'CRA', 'ES', 'EDANPR', 'CFEA', 'CE.ART', 'CEDA',\n",
       "       'CADFS', 'CAD', 'CPREX', 'EASD', 'CDAN', 'ESDA', 'CADF',\n",
       "       'ESCUELA HOGAR', 'CENTRO DE PROFESORES Y RECURSOS',\n",
       "       'RESIDENCIA ESCOLAR', 'CENTRO RURAL AGRUPADO',\n",
       "       'COLEGIO PÚBLICO DE EDUCACIÓN INFANTIL Y PRIMARIA', 'COLEGIO',\n",
       "       'CENTRO PÚBLICO DE EDUCACIÓN PRIMARIA',\n",
       "       'COLEGIO DE EDUCACIÓN ESPECIAL',\n",
       "       'CENTRO PÚBLICO DE EDUCACIÓN ESPECIAL',\n",
       "       'COLEGIOS DE FORMACIÓN PROFESIONAL', 'EDUCACIÓN INFANTIL',\n",
       "       'COLEGIO DE EDUCACIÓN INFANTIL',\n",
       "       'SECCIÓN INSTITUTO DE EDUCACIÓN SECUNDARIA',\n",
       "       'CENTRO DE FORMACIÓN AGRARIA',\n",
       "       'ESCUELA DE FORMACIÓN AGRARIA ( CONCERTADA )',\n",
       "       'CENTRO RURAL DE INNOVACIÓN EDUCATIVA',\n",
       "       'ESCUELA DE ARTES Y OFICIOS',\n",
       "       'CENTRO DE EDUCACIÓN PERMANENTE DE ADULTOS',\n",
       "       'ESCUELA SUPERIOR DE ARTE DRAMÁTICO',\n",
       "       'CONSERVATORIO OFICIAL DE MÚSICA',\n",
       "       'AULA DE EDUCACIÓN PERMANENTE DE ADULTOS'], dtype=object)"
      ]
     },
     "execution_count": 24,
     "metadata": {},
     "output_type": "execute_result"
    }
   ],
   "source": [
    "df_schools[\"type\"].unique()"
   ]
  },
  {
   "cell_type": "code",
   "execution_count": 13,
   "metadata": {},
   "outputs": [
    {
     "ename": "NameError",
     "evalue": "name 'df_schools' is not defined",
     "output_type": "error",
     "traceback": [
      "\u001b[1;31m---------------------------------------------------------------------------\u001b[0m",
      "\u001b[1;31mNameError\u001b[0m                                 Traceback (most recent call last)",
      "Cell \u001b[1;32mIn[13], line 8\u001b[0m\n\u001b[0;32m      5\u001b[0m     \u001b[38;5;28;01mreturn\u001b[39;00m GoogleTranslator(source\u001b[38;5;241m=\u001b[39m\u001b[38;5;124m'\u001b[39m\u001b[38;5;124mauto\u001b[39m\u001b[38;5;124m'\u001b[39m, target\u001b[38;5;241m=\u001b[39m\u001b[38;5;124m'\u001b[39m\u001b[38;5;124men\u001b[39m\u001b[38;5;124m'\u001b[39m)\u001b[38;5;241m.\u001b[39mtranslate(text)\n\u001b[0;32m      7\u001b[0m \u001b[38;5;66;03m# Apply translation to unique values\u001b[39;00m\n\u001b[1;32m----> 8\u001b[0m df_schools[\u001b[38;5;124m\"\u001b[39m\u001b[38;5;124mtype\u001b[39m\u001b[38;5;124m\"\u001b[39m] \u001b[38;5;241m=\u001b[39m \u001b[43mdf_schools\u001b[49m[\u001b[38;5;124m\"\u001b[39m\u001b[38;5;124mtype\u001b[39m\u001b[38;5;124m\"\u001b[39m]\u001b[38;5;241m.\u001b[39mapply(translate_text)\n\u001b[0;32m     10\u001b[0m \u001b[38;5;66;03m# Check unique values after translation\u001b[39;00m\n\u001b[0;32m     11\u001b[0m \u001b[38;5;28mprint\u001b[39m(df_schools[\u001b[38;5;124m\"\u001b[39m\u001b[38;5;124mtype\u001b[39m\u001b[38;5;124m\"\u001b[39m]\u001b[38;5;241m.\u001b[39munique())\n",
      "\u001b[1;31mNameError\u001b[0m: name 'df_schools' is not defined"
     ]
    }
   ],
   "source": [
    "# Translate function\n",
    "def translate_text(text):\n",
    "    if pd.isna(text):  # Handle NaN values\n",
    "        return text\n",
    "    return GoogleTranslator(source='auto', target='en').translate(text)\n",
    "\n",
    "# Apply translation to unique values\n",
    "df_schools[\"type\"] = df_schools[\"type\"].apply(translate_text)\n",
    "\n",
    "# Check unique values after translation\n",
    "print(df_schools[\"type\"].unique())\n"
   ]
  },
  {
   "cell_type": "code",
   "execution_count": null,
   "metadata": {},
   "outputs": [],
   "source": []
  }
 ],
 "metadata": {
  "kernelspec": {
   "display_name": ".venv",
   "language": "python",
   "name": "python3"
  },
  "language_info": {
   "codemirror_mode": {
    "name": "ipython",
    "version": 3
   },
   "file_extension": ".py",
   "mimetype": "text/x-python",
   "name": "python",
   "nbconvert_exporter": "python",
   "pygments_lexer": "ipython3",
   "version": "3.11.3"
  }
 },
 "nbformat": 4,
 "nbformat_minor": 2
}
