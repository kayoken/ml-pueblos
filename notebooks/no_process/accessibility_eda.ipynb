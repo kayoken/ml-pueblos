{
 "cells": [
  {
   "cell_type": "code",
   "execution_count": 2,
   "metadata": {},
   "outputs": [
    {
     "name": "stdout",
     "output_type": "stream",
     "text": [
      "INFO: Pandarallel will run on 12 workers.\n",
      "INFO: Pandarallel will use standard multiprocessing data transfer (pipe) to transfer data between the main process and workers.\n"
     ]
    }
   ],
   "source": [
    "import sys\n",
    "import os\n",
    "sys.path.insert(0, os.path.abspath(os.path.join(os.getcwd(), '../..')))\n",
    "\n",
    "import pandas as pd\n",
    "import numpy as np\n",
    "from geopy.distance import geodesic\n",
    "from scripts.locator import Locator"
   ]
  },
  {
   "cell_type": "markdown",
   "metadata": {},
   "source": [
    "### accessibility score: \n",
    "- distance to airport \n",
    "- distance to train stations\n",
    "- altitude?"
   ]
  },
  {
   "cell_type": "code",
   "execution_count": 3,
   "metadata": {},
   "outputs": [],
   "source": [
    "df_municipalities = pd.read_csv(\"../../data/processed/filtered_municipalities.csv\")\n",
    "df_airports = pd.read_csv(\"../../data/processed/filtered_airports.csv\")\n",
    "df_railway = pd.read_csv(\"../../data/processed/filtered_trains.csv\")"
   ]
  },
  {
   "cell_type": "code",
   "execution_count": null,
   "metadata": {},
   "outputs": [],
   "source": [
    "df_municipalities.head()"
   ]
  },
  {
   "cell_type": "code",
   "execution_count": null,
   "metadata": {},
   "outputs": [],
   "source": [
    "df_airports.head()"
   ]
  },
  {
   "cell_type": "code",
   "execution_count": null,
   "metadata": {},
   "outputs": [],
   "source": [
    "df_railway.sample(15)"
   ]
  },
  {
   "cell_type": "code",
   "execution_count": null,
   "metadata": {},
   "outputs": [],
   "source": [
    "# Apply the function to each row in the towns DataFrame and create two new columns\n",
    "df_municipalities[['closest_distance_airport', 'nearest_airport']] = Locator(df_municipalities, df_airports, 'airport_name').result\n",
    "df_municipalities[['closest_distance_train', 'nearest_train_station']]  = Locator(df_municipalities, df_railway, 'station_name').result"
   ]
  },
  {
   "cell_type": "code",
   "execution_count": null,
   "metadata": {},
   "outputs": [],
   "source": [
    "df_municipalities.to_csv(\"../data/scored/accessibility.csv\", index=False)"
   ]
  },
  {
   "cell_type": "code",
   "execution_count": null,
   "metadata": {},
   "outputs": [],
   "source": [
    "df_accessibility = df_municipalities[[\"cmun\", \"municipality_name\", \"province\", \"altitude\", \"longitude\", \"latitude\", \"nearest_airport\", \"closest_distance\", \"nearest_train_station\", \"closest_distance_train\"]]"
   ]
  },
  {
   "cell_type": "code",
   "execution_count": null,
   "metadata": {},
   "outputs": [],
   "source": [
    "# df_municipalities = pd.read_csv(\"../data/processed/filtered_municipalities.csv\")\n",
    "# df_accessibility = pd.read_csv(\"../../data/scored/accessibility.csv\")\n",
    "df_hospitals = pd.read_csv(\"../../data/processed/filtered_hospitals.csv\")"
   ]
  },
  {
   "cell_type": "code",
   "execution_count": null,
   "metadata": {},
   "outputs": [],
   "source": [
    "df_accessibility = df_accessibility[[\"cmun\", \"municipality_name\", \"province\", \"altitude\", \"longitude\", \"latitude\", \"nearest_airport\", \"closest_distance_airport\", \"nearest_train_station\", \"closest_distance_train\"]]\n",
    "df_hospitals_general = df_hospitals.query(\"type == 'General'\")\n",
    "\n",
    "# Apply the function to each row in the towns DataFrame and create two new columns\n",
    "df_accessibility[['closest_distance_hospital', 'nearest_hospital']] = Locator(df_accessibility, df_hospitals_general, 'hospital_name').result"
   ]
  },
  {
   "cell_type": "code",
   "execution_count": null,
   "metadata": {},
   "outputs": [],
   "source": [
    "df_accessibility.to_csv(\"../../data/scored/accessibility.csv\", index=False)"
   ]
  }
 ],
 "metadata": {
  "kernelspec": {
   "display_name": ".venv",
   "language": "python",
   "name": "python3"
  },
  "language_info": {
   "codemirror_mode": {
    "name": "ipython",
    "version": 3
   },
   "file_extension": ".py",
   "mimetype": "text/x-python",
   "name": "python",
   "nbconvert_exporter": "python",
   "pygments_lexer": "ipython3",
   "version": "3.11.3"
  }
 },
 "nbformat": 4,
 "nbformat_minor": 2
}
