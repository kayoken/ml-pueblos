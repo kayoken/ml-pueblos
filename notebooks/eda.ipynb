{
 "cells": [
  {
   "cell_type": "markdown",
   "metadata": {},
   "source": [
    "## Basic EDA for first incoming data"
   ]
  },
  {
   "cell_type": "code",
   "execution_count": null,
   "metadata": {},
   "outputs": [],
   "source": [
    "import pandas as pd\n",
    "import plotly.express as px\n",
    "import numpy as np"
   ]
  },
  {
   "cell_type": "code",
   "execution_count": null,
   "metadata": {},
   "outputs": [],
   "source": [
    "df_communities = pd.read_csv(\"../data/population_towns.csv\", sep=\";\")\n",
    "df_coordinates = pd.read_csv(\n",
    "    \"../data/coordinates_towns_spain.csv\",\n",
    "    encoding=\"ISO-8859-1\",  # or \"latin1\"\n",
    "    sep=\";\",\n",
    "    decimal=\",\"\n",
    ")\n"
   ]
  },
  {
   "cell_type": "code",
   "execution_count": null,
   "metadata": {},
   "outputs": [],
   "source": [
    "columns_communities_english = ['province_code', 'province', 'municipality_code', 'municipality_name', 'population', 'male', 'female']\n",
    "columns_coordinates_english = ['community', 'province', 'municipality_name', 'latitude', 'longitude', 'altitude',\n",
    "    'population', 'male', 'female']\n",
    "\n",
    "\n",
    "def map_cols_es_en(es: list, en: list):\n",
    "    dict_cols = dict(zip(es, en))\n",
    "    return dict_cols.values()\n",
    "\n",
    "\n",
    "df_communities.columns = map_cols_es_en(df_communities.columns.to_list(), columns_communities_english)\n",
    "df_coordinates.columns = map_cols_es_en(df_coordinates.columns.to_list(), columns_coordinates_english)"
   ]
  },
  {
   "cell_type": "code",
   "execution_count": null,
   "metadata": {},
   "outputs": [],
   "source": [
    "df_communities[df_communities['municipality_name'] == \"Galapagar\"]"
   ]
  },
  {
   "cell_type": "code",
   "execution_count": null,
   "metadata": {},
   "outputs": [],
   "source": [
    "df_coordinates[df_coordinates['municipality_name'] == \"Galapagar\"]"
   ]
  },
  {
   "cell_type": "code",
   "execution_count": null,
   "metadata": {},
   "outputs": [],
   "source": [
    "df = pd.merge(df_communities, df_coordinates[[\"latitude\", \"longitude\", \"altitude\", \"municipality_name\"]], \n",
    "              on='municipality_name', \n",
    "              how='left')"
   ]
  },
  {
   "cell_type": "code",
   "execution_count": null,
   "metadata": {},
   "outputs": [],
   "source": [
    "df.info()"
   ]
  },
  {
   "cell_type": "code",
   "execution_count": null,
   "metadata": {},
   "outputs": [],
   "source": [
    "# Display rows with any NaN values and count them\n",
    "nan_rows = df[df.isna().any(axis=1)]\n",
    "nan_rows"
   ]
  },
  {
   "cell_type": "markdown",
   "metadata": {},
   "source": [
    "## Problems\n",
    "\n",
    "Spelling is different in the two dataset, we might have to remove the accents first"
   ]
  },
  {
   "cell_type": "code",
   "execution_count": 456,
   "metadata": {},
   "outputs": [
    {
     "data": {
      "text/html": [
       "<div>\n",
       "<style scoped>\n",
       "    .dataframe tbody tr th:only-of-type {\n",
       "        vertical-align: middle;\n",
       "    }\n",
       "\n",
       "    .dataframe tbody tr th {\n",
       "        vertical-align: top;\n",
       "    }\n",
       "\n",
       "    .dataframe thead th {\n",
       "        text-align: right;\n",
       "    }\n",
       "</style>\n",
       "<table border=\"1\" class=\"dataframe\">\n",
       "  <thead>\n",
       "    <tr style=\"text-align: right;\">\n",
       "      <th></th>\n",
       "      <th>province_code</th>\n",
       "      <th>province</th>\n",
       "      <th>municipality_code</th>\n",
       "      <th>municipality_name</th>\n",
       "      <th>population</th>\n",
       "      <th>male</th>\n",
       "      <th>female</th>\n",
       "    </tr>\n",
       "  </thead>\n",
       "  <tbody>\n",
       "    <tr>\n",
       "      <th>768</th>\n",
       "      <td>6</td>\n",
       "      <td>Badajoz</td>\n",
       "      <td>139</td>\n",
       "      <td>Valencia de las Torres</td>\n",
       "      <td>480</td>\n",
       "      <td>256</td>\n",
       "      <td>224</td>\n",
       "    </tr>\n",
       "    <tr>\n",
       "      <th>769</th>\n",
       "      <td>6</td>\n",
       "      <td>Badajoz</td>\n",
       "      <td>140</td>\n",
       "      <td>Valencia del Mombuey</td>\n",
       "      <td>713</td>\n",
       "      <td>369</td>\n",
       "      <td>344</td>\n",
       "    </tr>\n",
       "    <tr>\n",
       "      <th>770</th>\n",
       "      <td>6</td>\n",
       "      <td>Badajoz</td>\n",
       "      <td>141</td>\n",
       "      <td>Valencia del Ventoso</td>\n",
       "      <td>1885</td>\n",
       "      <td>953</td>\n",
       "      <td>932</td>\n",
       "    </tr>\n",
       "    <tr>\n",
       "      <th>1745</th>\n",
       "      <td>10</td>\n",
       "      <td>Cáceres</td>\n",
       "      <td>203</td>\n",
       "      <td>Valencia de Alcántara</td>\n",
       "      <td>5196</td>\n",
       "      <td>2562</td>\n",
       "      <td>2634</td>\n",
       "    </tr>\n",
       "    <tr>\n",
       "      <th>3779</th>\n",
       "      <td>24</td>\n",
       "      <td>León</td>\n",
       "      <td>188</td>\n",
       "      <td>Valencia de Don Juan</td>\n",
       "      <td>5094</td>\n",
       "      <td>2470</td>\n",
       "      <td>2624</td>\n",
       "    </tr>\n",
       "    <tr>\n",
       "      <th>7234</th>\n",
       "      <td>46</td>\n",
       "      <td>Valencia/València</td>\n",
       "      <td>250</td>\n",
       "      <td>València</td>\n",
       "      <td>825948</td>\n",
       "      <td>391970</td>\n",
       "      <td>433978</td>\n",
       "    </tr>\n",
       "  </tbody>\n",
       "</table>\n",
       "</div>"
      ],
      "text/plain": [
       "      province_code           province  municipality_code  \\\n",
       "768               6            Badajoz                139   \n",
       "769               6            Badajoz                140   \n",
       "770               6            Badajoz                141   \n",
       "1745             10            Cáceres                203   \n",
       "3779             24               León                188   \n",
       "7234             46  Valencia/València                250   \n",
       "\n",
       "           municipality_name  population    male  female  \n",
       "768   Valencia de las Torres         480     256     224  \n",
       "769     Valencia del Mombuey         713     369     344  \n",
       "770     Valencia del Ventoso        1885     953     932  \n",
       "1745   Valencia de Alcántara        5196    2562    2634  \n",
       "3779    Valencia de Don Juan        5094    2470    2624  \n",
       "7234                València      825948  391970  433978  "
      ]
     },
     "execution_count": 456,
     "metadata": {},
     "output_type": "execute_result"
    }
   ],
   "source": [
    "df_communities[df_communities['municipality_name'].str.contains(r'Val.*ncia', case=False, na=False)]"
   ]
  },
  {
   "cell_type": "code",
   "execution_count": 457,
   "metadata": {},
   "outputs": [
    {
     "data": {
      "text/html": [
       "<div>\n",
       "<style scoped>\n",
       "    .dataframe tbody tr th:only-of-type {\n",
       "        vertical-align: middle;\n",
       "    }\n",
       "\n",
       "    .dataframe tbody tr th {\n",
       "        vertical-align: top;\n",
       "    }\n",
       "\n",
       "    .dataframe thead th {\n",
       "        text-align: right;\n",
       "    }\n",
       "</style>\n",
       "<table border=\"1\" class=\"dataframe\">\n",
       "  <thead>\n",
       "    <tr style=\"text-align: right;\">\n",
       "      <th></th>\n",
       "      <th>community</th>\n",
       "      <th>province</th>\n",
       "      <th>municipality_name</th>\n",
       "      <th>latitude</th>\n",
       "      <th>longitude</th>\n",
       "      <th>altitude</th>\n",
       "      <th>population</th>\n",
       "      <th>male</th>\n",
       "      <th>female</th>\n",
       "    </tr>\n",
       "  </thead>\n",
       "  <tbody>\n",
       "    <tr>\n",
       "      <th>3479</th>\n",
       "      <td>Castilla León</td>\n",
       "      <td>León</td>\n",
       "      <td>Valencia de Don Juan</td>\n",
       "      <td>42.29401</td>\n",
       "      <td>-5.519861</td>\n",
       "      <td>767.8869</td>\n",
       "      <td>5083</td>\n",
       "      <td>2505</td>\n",
       "      <td>2578</td>\n",
       "    </tr>\n",
       "    <tr>\n",
       "      <th>6024</th>\n",
       "      <td>Extremadura</td>\n",
       "      <td>Badajoz</td>\n",
       "      <td>Valencia de las Torres</td>\n",
       "      <td>38.40500</td>\n",
       "      <td>-6.003782</td>\n",
       "      <td>514.0270</td>\n",
       "      <td>687</td>\n",
       "      <td>358</td>\n",
       "      <td>329</td>\n",
       "    </tr>\n",
       "    <tr>\n",
       "      <th>6025</th>\n",
       "      <td>Extremadura</td>\n",
       "      <td>Badajoz</td>\n",
       "      <td>Valencia del Mombuey</td>\n",
       "      <td>38.24256</td>\n",
       "      <td>-7.119643</td>\n",
       "      <td>295.6457</td>\n",
       "      <td>782</td>\n",
       "      <td>400</td>\n",
       "      <td>382</td>\n",
       "    </tr>\n",
       "    <tr>\n",
       "      <th>6026</th>\n",
       "      <td>Extremadura</td>\n",
       "      <td>Badajoz</td>\n",
       "      <td>Valencia del Ventoso</td>\n",
       "      <td>38.26500</td>\n",
       "      <td>-6.474613</td>\n",
       "      <td>496.0627</td>\n",
       "      <td>2249</td>\n",
       "      <td>1130</td>\n",
       "      <td>1119</td>\n",
       "    </tr>\n",
       "    <tr>\n",
       "      <th>6250</th>\n",
       "      <td>Extremadura</td>\n",
       "      <td>Cáceres</td>\n",
       "      <td>Valencia de Alcántara</td>\n",
       "      <td>39.41135</td>\n",
       "      <td>-7.246899</td>\n",
       "      <td>462.1811</td>\n",
       "      <td>6178</td>\n",
       "      <td>3070</td>\n",
       "      <td>3108</td>\n",
       "    </tr>\n",
       "    <tr>\n",
       "      <th>8094</th>\n",
       "      <td>Valencia</td>\n",
       "      <td>Valencia/València</td>\n",
       "      <td>Valencia</td>\n",
       "      <td>39.47024</td>\n",
       "      <td>-0.376805</td>\n",
       "      <td>23.3349</td>\n",
       "      <td>814208</td>\n",
       "      <td>392300</td>\n",
       "      <td>421908</td>\n",
       "    </tr>\n",
       "  </tbody>\n",
       "</table>\n",
       "</div>"
      ],
      "text/plain": [
       "          community           province       municipality_name  latitude  \\\n",
       "3479  Castilla León               León    Valencia de Don Juan  42.29401   \n",
       "6024    Extremadura            Badajoz  Valencia de las Torres  38.40500   \n",
       "6025    Extremadura            Badajoz    Valencia del Mombuey  38.24256   \n",
       "6026    Extremadura            Badajoz    Valencia del Ventoso  38.26500   \n",
       "6250    Extremadura            Cáceres   Valencia de Alcántara  39.41135   \n",
       "8094       Valencia  Valencia/València                Valencia  39.47024   \n",
       "\n",
       "      longitude  altitude  population    male  female  \n",
       "3479  -5.519861  767.8869        5083    2505    2578  \n",
       "6024  -6.003782  514.0270         687     358     329  \n",
       "6025  -7.119643  295.6457         782     400     382  \n",
       "6026  -6.474613  496.0627        2249    1130    1119  \n",
       "6250  -7.246899  462.1811        6178    3070    3108  \n",
       "8094  -0.376805   23.3349      814208  392300  421908  "
      ]
     },
     "execution_count": 457,
     "metadata": {},
     "output_type": "execute_result"
    }
   ],
   "source": [
    "df_coordinates[df_coordinates['municipality_name'].str.contains(r'Val.*ncia', case=False, na=False)]"
   ]
  },
  {
   "cell_type": "code",
   "execution_count": null,
   "metadata": {},
   "outputs": [],
   "source": [
    "title = \"Communities in Spain\"\n",
    "\n",
    "lats = df.latitude\n",
    "lons = df.longitude\n",
    "\n",
    "fig = px.scatter_map(df, \n",
    "                     lat=lats, \n",
    "                     lon=lons,\n",
    "                     hover_data=[\"municipality_name\", \"altitude\"], \n",
    "                     size='population',\n",
    "                     color='population',\n",
    "                     color_continuous_scale=px.colors.carto.Aggrnyl,\n",
    "                     zoom=5,\n",
    "                     size_max=50  # Increase max size of markers\n",
    "                     )\n",
    "\n",
    "# Adjust the size reference to make small points more visible\n",
    "fig.update_traces(marker=dict(sizeref=1000))  # Decrease this value to make points larger\n",
    "\n",
    "fig.update_geos(fitbounds=\"locations\")\n",
    "fig.update_layout(height=1000, width=1000)\n",
    "fig.update_layout(mapbox_style=\"open-street-map\")\n",
    "fig.update_layout(margin={\"r\":50,\"t\":50,\"l\":50,\"b\":50})\n",
    "fig.update_layout(\n",
    "    coloraxis_colorbar=dict(title='Population')\n",
    ")\n",
    "fig.update_layout(title=\"Communities in Spain by population size\")\n",
    "\n",
    "fig.show()"
   ]
  },
  {
   "cell_type": "code",
   "execution_count": null,
   "metadata": {},
   "outputs": [],
   "source": [
    "df[df[\"municipality_name\"] == \"València\"]"
   ]
  },
  {
   "cell_type": "code",
   "execution_count": null,
   "metadata": {},
   "outputs": [],
   "source": [
    "df_communities[df_communities[\"municipality_name\"] == \"València\"]"
   ]
  },
  {
   "cell_type": "code",
   "execution_count": null,
   "metadata": {},
   "outputs": [],
   "source": [
    "df_coordinates[df_coordinates[\"municipality_name\"] == \"Valencia\"]"
   ]
  }
 ],
 "metadata": {
  "kernelspec": {
   "display_name": ".venv",
   "language": "python",
   "name": "python3"
  },
  "language_info": {
   "codemirror_mode": {
    "name": "ipython",
    "version": 3
   },
   "file_extension": ".py",
   "mimetype": "text/x-python",
   "name": "python",
   "nbconvert_exporter": "python",
   "pygments_lexer": "ipython3",
   "version": "3.11.3"
  }
 },
 "nbformat": 4,
 "nbformat_minor": 2
}
