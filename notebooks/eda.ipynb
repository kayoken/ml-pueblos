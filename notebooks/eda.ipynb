{
 "cells": [
  {
   "cell_type": "markdown",
   "metadata": {},
   "source": [
    "## Basic EDA for first incoming data"
   ]
  },
  {
   "cell_type": "code",
   "execution_count": 54,
   "metadata": {},
   "outputs": [],
   "source": [
    "import sys\n",
    "import os\n",
    "sys.path.insert(0, os.path.abspath(os.path.join(os.getcwd(), '..')))\n",
    "\n",
    "import pandas as pd\n",
    "import plotly.express as px\n",
    "import numpy as np\n",
    "\n",
    "from scripts.accents_cleaner import AccentsCleaner"
   ]
  },
  {
   "cell_type": "code",
   "execution_count": 55,
   "metadata": {},
   "outputs": [],
   "source": [
    "df_communities = pd.read_csv(\"../data/population_towns.csv\", sep=\";\")\n",
    "df_coordinates = pd.read_csv(\n",
    "    \"../data/coordinates_towns_spain.csv\",\n",
    "    encoding=\"ISO-8859-1\",  # or \"latin1\"\n",
    "    sep=\";\",\n",
    "    decimal=\",\"\n",
    ")"
   ]
  },
  {
   "cell_type": "code",
   "execution_count": 56,
   "metadata": {},
   "outputs": [],
   "source": [
    "columns_communities_english = ['province_code', 'province', 'municipality_code', 'municipality_name', 'population', 'male', 'female']\n",
    "columns_coordinates_english = ['community', 'province', 'municipality_name', 'latitude', 'longitude', 'altitude',\n",
    "    'population', 'male', 'female']\n",
    "\n",
    "\n",
    "def map_cols_es_en(es: list, en: list):\n",
    "    dict_cols = dict(zip(es, en))\n",
    "    return dict_cols.values()\n",
    "\n",
    "\n",
    "df_communities.columns = map_cols_es_en(df_communities.columns.to_list(), columns_communities_english)\n",
    "df_coordinates.columns = map_cols_es_en(df_coordinates.columns.to_list(), columns_coordinates_english)"
   ]
  },
  {
   "cell_type": "code",
   "execution_count": 57,
   "metadata": {},
   "outputs": [
    {
     "data": {
      "text/html": [
       "<div>\n",
       "<style scoped>\n",
       "    .dataframe tbody tr th:only-of-type {\n",
       "        vertical-align: middle;\n",
       "    }\n",
       "\n",
       "    .dataframe tbody tr th {\n",
       "        vertical-align: top;\n",
       "    }\n",
       "\n",
       "    .dataframe thead th {\n",
       "        text-align: right;\n",
       "    }\n",
       "</style>\n",
       "<table border=\"1\" class=\"dataframe\">\n",
       "  <thead>\n",
       "    <tr style=\"text-align: right;\">\n",
       "      <th></th>\n",
       "      <th>province_code</th>\n",
       "      <th>province</th>\n",
       "      <th>municipality_code</th>\n",
       "      <th>municipality_name</th>\n",
       "      <th>population</th>\n",
       "      <th>male</th>\n",
       "      <th>female</th>\n",
       "      <th>municipality_name_clean</th>\n",
       "      <th>province_clean</th>\n",
       "    </tr>\n",
       "  </thead>\n",
       "  <tbody>\n",
       "    <tr>\n",
       "      <th>0</th>\n",
       "      <td>1</td>\n",
       "      <td>Araba/Álava</td>\n",
       "      <td>1</td>\n",
       "      <td>Alegría-Dulantzi</td>\n",
       "      <td>2971</td>\n",
       "      <td>1531</td>\n",
       "      <td>1440</td>\n",
       "      <td>alegria-dulantzi</td>\n",
       "      <td>araba/alava</td>\n",
       "    </tr>\n",
       "    <tr>\n",
       "      <th>1</th>\n",
       "      <td>1</td>\n",
       "      <td>Araba/Álava</td>\n",
       "      <td>2</td>\n",
       "      <td>Amurrio</td>\n",
       "      <td>10330</td>\n",
       "      <td>5149</td>\n",
       "      <td>5181</td>\n",
       "      <td>amurrio</td>\n",
       "      <td>araba/alava</td>\n",
       "    </tr>\n",
       "    <tr>\n",
       "      <th>2</th>\n",
       "      <td>1</td>\n",
       "      <td>Araba/Álava</td>\n",
       "      <td>3</td>\n",
       "      <td>Aramaio</td>\n",
       "      <td>1381</td>\n",
       "      <td>709</td>\n",
       "      <td>672</td>\n",
       "      <td>aramaio</td>\n",
       "      <td>araba/alava</td>\n",
       "    </tr>\n",
       "    <tr>\n",
       "      <th>3</th>\n",
       "      <td>1</td>\n",
       "      <td>Araba/Álava</td>\n",
       "      <td>4</td>\n",
       "      <td>Artziniega</td>\n",
       "      <td>1856</td>\n",
       "      <td>913</td>\n",
       "      <td>943</td>\n",
       "      <td>artziniega</td>\n",
       "      <td>araba/alava</td>\n",
       "    </tr>\n",
       "    <tr>\n",
       "      <th>4</th>\n",
       "      <td>1</td>\n",
       "      <td>Araba/Álava</td>\n",
       "      <td>6</td>\n",
       "      <td>Armiñón</td>\n",
       "      <td>247</td>\n",
       "      <td>127</td>\n",
       "      <td>120</td>\n",
       "      <td>arminon</td>\n",
       "      <td>araba/alava</td>\n",
       "    </tr>\n",
       "    <tr>\n",
       "      <th>...</th>\n",
       "      <td>...</td>\n",
       "      <td>...</td>\n",
       "      <td>...</td>\n",
       "      <td>...</td>\n",
       "      <td>...</td>\n",
       "      <td>...</td>\n",
       "      <td>...</td>\n",
       "      <td>...</td>\n",
       "      <td>...</td>\n",
       "    </tr>\n",
       "    <tr>\n",
       "      <th>8127</th>\n",
       "      <td>50</td>\n",
       "      <td>Zaragoza</td>\n",
       "      <td>901</td>\n",
       "      <td>Biel</td>\n",
       "      <td>170</td>\n",
       "      <td>104</td>\n",
       "      <td>66</td>\n",
       "      <td>biel</td>\n",
       "      <td>zaragoza</td>\n",
       "    </tr>\n",
       "    <tr>\n",
       "      <th>8128</th>\n",
       "      <td>50</td>\n",
       "      <td>Zaragoza</td>\n",
       "      <td>902</td>\n",
       "      <td>Marracos</td>\n",
       "      <td>85</td>\n",
       "      <td>43</td>\n",
       "      <td>42</td>\n",
       "      <td>marracos</td>\n",
       "      <td>zaragoza</td>\n",
       "    </tr>\n",
       "    <tr>\n",
       "      <th>8129</th>\n",
       "      <td>50</td>\n",
       "      <td>Zaragoza</td>\n",
       "      <td>903</td>\n",
       "      <td>Villamayor de Gállego</td>\n",
       "      <td>2854</td>\n",
       "      <td>1446</td>\n",
       "      <td>1408</td>\n",
       "      <td>villamayor de gallego</td>\n",
       "      <td>zaragoza</td>\n",
       "    </tr>\n",
       "    <tr>\n",
       "      <th>8130</th>\n",
       "      <td>51</td>\n",
       "      <td>Ceuta</td>\n",
       "      <td>1</td>\n",
       "      <td>Ceuta</td>\n",
       "      <td>83229</td>\n",
       "      <td>41980</td>\n",
       "      <td>41249</td>\n",
       "      <td>ceuta</td>\n",
       "      <td>ceuta</td>\n",
       "    </tr>\n",
       "    <tr>\n",
       "      <th>8131</th>\n",
       "      <td>52</td>\n",
       "      <td>Melilla</td>\n",
       "      <td>1</td>\n",
       "      <td>Melilla</td>\n",
       "      <td>85811</td>\n",
       "      <td>43154</td>\n",
       "      <td>42657</td>\n",
       "      <td>melilla</td>\n",
       "      <td>melilla</td>\n",
       "    </tr>\n",
       "  </tbody>\n",
       "</table>\n",
       "<p>8132 rows × 9 columns</p>\n",
       "</div>"
      ],
      "text/plain": [
       "      province_code     province  municipality_code      municipality_name  \\\n",
       "0                 1  Araba/Álava                  1       Alegría-Dulantzi   \n",
       "1                 1  Araba/Álava                  2                Amurrio   \n",
       "2                 1  Araba/Álava                  3                Aramaio   \n",
       "3                 1  Araba/Álava                  4             Artziniega   \n",
       "4                 1  Araba/Álava                  6                Armiñón   \n",
       "...             ...          ...                ...                    ...   \n",
       "8127             50     Zaragoza                901                   Biel   \n",
       "8128             50     Zaragoza                902               Marracos   \n",
       "8129             50     Zaragoza                903  Villamayor de Gállego   \n",
       "8130             51        Ceuta                  1                  Ceuta   \n",
       "8131             52      Melilla                  1                Melilla   \n",
       "\n",
       "      population   male  female municipality_name_clean province_clean  \n",
       "0           2971   1531    1440        alegria-dulantzi    araba/alava  \n",
       "1          10330   5149    5181                 amurrio    araba/alava  \n",
       "2           1381    709     672                 aramaio    araba/alava  \n",
       "3           1856    913     943              artziniega    araba/alava  \n",
       "4            247    127     120                 arminon    araba/alava  \n",
       "...          ...    ...     ...                     ...            ...  \n",
       "8127         170    104      66                    biel       zaragoza  \n",
       "8128          85     43      42                marracos       zaragoza  \n",
       "8129        2854   1446    1408   villamayor de gallego       zaragoza  \n",
       "8130       83229  41980   41249                   ceuta          ceuta  \n",
       "8131       85811  43154   42657                 melilla        melilla  \n",
       "\n",
       "[8132 rows x 9 columns]"
      ]
     },
     "execution_count": 57,
     "metadata": {},
     "output_type": "execute_result"
    }
   ],
   "source": [
    "cleaner = AccentsCleaner([df_communities, df_coordinates], ['municipality_name', 'province'])\n",
    "cleaner.clean()\n",
    "\n",
    "df_coordinates[df_coordinates['municipality_name_clean'] == 'valencia']\n",
    "df_coordinates[df_coordinates['municipality_name_clean'].duplicated()]\n",
    "df_coordinates\n",
    "df_communities"
   ]
  },
  {
   "cell_type": "code",
   "execution_count": 58,
   "metadata": {},
   "outputs": [
    {
     "data": {
      "text/html": [
       "<div>\n",
       "<style scoped>\n",
       "    .dataframe tbody tr th:only-of-type {\n",
       "        vertical-align: middle;\n",
       "    }\n",
       "\n",
       "    .dataframe tbody tr th {\n",
       "        vertical-align: top;\n",
       "    }\n",
       "\n",
       "    .dataframe thead th {\n",
       "        text-align: right;\n",
       "    }\n",
       "</style>\n",
       "<table border=\"1\" class=\"dataframe\">\n",
       "  <thead>\n",
       "    <tr style=\"text-align: right;\">\n",
       "      <th></th>\n",
       "      <th>community</th>\n",
       "      <th>province</th>\n",
       "      <th>municipality_name</th>\n",
       "      <th>latitude</th>\n",
       "      <th>longitude</th>\n",
       "      <th>altitude</th>\n",
       "      <th>population</th>\n",
       "      <th>male</th>\n",
       "      <th>female</th>\n",
       "      <th>municipality_name_clean</th>\n",
       "      <th>province_clean</th>\n",
       "    </tr>\n",
       "  </thead>\n",
       "  <tbody>\n",
       "  </tbody>\n",
       "</table>\n",
       "</div>"
      ],
      "text/plain": [
       "Empty DataFrame\n",
       "Columns: [community, province, municipality_name, latitude, longitude, altitude, population, male, female, municipality_name_clean, province_clean]\n",
       "Index: []"
      ]
     },
     "execution_count": 58,
     "metadata": {},
     "output_type": "execute_result"
    }
   ],
   "source": [
    "df_coordinates[df_coordinates['province_clean'] == 'araba']"
   ]
  },
  {
   "cell_type": "code",
   "execution_count": 59,
   "metadata": {},
   "outputs": [
    {
     "data": {
      "text/html": [
       "<div>\n",
       "<style scoped>\n",
       "    .dataframe tbody tr th:only-of-type {\n",
       "        vertical-align: middle;\n",
       "    }\n",
       "\n",
       "    .dataframe tbody tr th {\n",
       "        vertical-align: top;\n",
       "    }\n",
       "\n",
       "    .dataframe thead th {\n",
       "        text-align: right;\n",
       "    }\n",
       "</style>\n",
       "<table border=\"1\" class=\"dataframe\">\n",
       "  <thead>\n",
       "    <tr style=\"text-align: right;\">\n",
       "      <th></th>\n",
       "      <th>province_code</th>\n",
       "      <th>province</th>\n",
       "      <th>municipality_code</th>\n",
       "      <th>municipality_name</th>\n",
       "      <th>population</th>\n",
       "      <th>male</th>\n",
       "      <th>female</th>\n",
       "      <th>municipality_name_clean</th>\n",
       "      <th>province_clean</th>\n",
       "    </tr>\n",
       "  </thead>\n",
       "  <tbody>\n",
       "    <tr>\n",
       "      <th>8034</th>\n",
       "      <td>50</td>\n",
       "      <td>Zaragoza</td>\n",
       "      <td>205</td>\n",
       "      <td>Pedrosas, Las</td>\n",
       "      <td>113</td>\n",
       "      <td>56</td>\n",
       "      <td>57</td>\n",
       "      <td>pedrosas, las</td>\n",
       "      <td>zaragoza</td>\n",
       "    </tr>\n",
       "  </tbody>\n",
       "</table>\n",
       "</div>"
      ],
      "text/plain": [
       "      province_code  province  municipality_code municipality_name  \\\n",
       "8034             50  Zaragoza                205     Pedrosas, Las   \n",
       "\n",
       "      population  male  female municipality_name_clean province_clean  \n",
       "8034         113    56      57           pedrosas, las       zaragoza  "
      ]
     },
     "execution_count": 59,
     "metadata": {},
     "output_type": "execute_result"
    }
   ],
   "source": [
    "df_communities\n",
    "df_communities[df_communities['municipality_name_clean'] == \"pedrosas, las\"]"
   ]
  },
  {
   "cell_type": "code",
   "execution_count": 60,
   "metadata": {},
   "outputs": [
    {
     "data": {
      "text/html": [
       "<div>\n",
       "<style scoped>\n",
       "    .dataframe tbody tr th:only-of-type {\n",
       "        vertical-align: middle;\n",
       "    }\n",
       "\n",
       "    .dataframe tbody tr th {\n",
       "        vertical-align: top;\n",
       "    }\n",
       "\n",
       "    .dataframe thead th {\n",
       "        text-align: right;\n",
       "    }\n",
       "</style>\n",
       "<table border=\"1\" class=\"dataframe\">\n",
       "  <thead>\n",
       "    <tr style=\"text-align: right;\">\n",
       "      <th></th>\n",
       "      <th>community</th>\n",
       "      <th>province</th>\n",
       "      <th>municipality_name</th>\n",
       "      <th>latitude</th>\n",
       "      <th>longitude</th>\n",
       "      <th>altitude</th>\n",
       "      <th>population</th>\n",
       "      <th>male</th>\n",
       "      <th>female</th>\n",
       "      <th>municipality_name_clean</th>\n",
       "      <th>province_clean</th>\n",
       "    </tr>\n",
       "  </thead>\n",
       "  <tbody>\n",
       "    <tr>\n",
       "      <th>1407</th>\n",
       "      <td>Aragón</td>\n",
       "      <td>Zaragoza</td>\n",
       "      <td>Pedrosas (Las)</td>\n",
       "      <td>42.03822</td>\n",
       "      <td>-0.876332</td>\n",
       "      <td>459.5541</td>\n",
       "      <td>120</td>\n",
       "      <td>64</td>\n",
       "      <td>56</td>\n",
       "      <td>pedrosas (las)</td>\n",
       "      <td>zaragoza</td>\n",
       "    </tr>\n",
       "  </tbody>\n",
       "</table>\n",
       "</div>"
      ],
      "text/plain": [
       "     community  province municipality_name  latitude  longitude  altitude  \\\n",
       "1407    Aragón  Zaragoza    Pedrosas (Las)  42.03822  -0.876332  459.5541   \n",
       "\n",
       "      population  male  female municipality_name_clean province_clean  \n",
       "1407         120    64      56          pedrosas (las)       zaragoza  "
      ]
     },
     "execution_count": 60,
     "metadata": {},
     "output_type": "execute_result"
    }
   ],
   "source": [
    "df_coordinates[df_coordinates['municipality_name'] == \"Amurrio\"]\n",
    "df_coordinates[df_coordinates['municipality_name_clean'] == \"pedrosas\"]\n",
    "df_coordinates[df_coordinates['municipality_name'].str.contains(r'pedrosas', case=False, na=False)]"
   ]
  },
  {
   "cell_type": "code",
   "execution_count": null,
   "metadata": {},
   "outputs": [],
   "source": []
  },
  {
   "cell_type": "code",
   "execution_count": 61,
   "metadata": {},
   "outputs": [],
   "source": [
    "df = pd.merge(df_communities, df_coordinates[['altitude', 'longitude', 'latitude', 'municipality_name_clean', 'province_clean']], \n",
    "              on=['municipality_name_clean', 'province_clean'], \n",
    "              how='left')\n",
    "\n",
    "# df = pd.merge(df_coordinates[['altitude', 'longitude', 'latitude', 'municipality_name_clean', 'province_clean']], df_communities, \n",
    "#               on=['municipality_name_clean', 'province_clean'], \n",
    "#               how='left')"
   ]
  },
  {
   "cell_type": "code",
   "execution_count": 62,
   "metadata": {},
   "outputs": [
    {
     "data": {
      "text/html": [
       "<div>\n",
       "<style scoped>\n",
       "    .dataframe tbody tr th:only-of-type {\n",
       "        vertical-align: middle;\n",
       "    }\n",
       "\n",
       "    .dataframe tbody tr th {\n",
       "        vertical-align: top;\n",
       "    }\n",
       "\n",
       "    .dataframe thead th {\n",
       "        text-align: right;\n",
       "    }\n",
       "</style>\n",
       "<table border=\"1\" class=\"dataframe\">\n",
       "  <thead>\n",
       "    <tr style=\"text-align: right;\">\n",
       "      <th></th>\n",
       "      <th>province_code</th>\n",
       "      <th>province</th>\n",
       "      <th>municipality_code</th>\n",
       "      <th>municipality_name</th>\n",
       "      <th>population</th>\n",
       "      <th>male</th>\n",
       "      <th>female</th>\n",
       "      <th>municipality_name_clean</th>\n",
       "      <th>province_clean</th>\n",
       "      <th>altitude</th>\n",
       "      <th>longitude</th>\n",
       "      <th>latitude</th>\n",
       "    </tr>\n",
       "  </thead>\n",
       "  <tbody>\n",
       "    <tr>\n",
       "      <th>0</th>\n",
       "      <td>1</td>\n",
       "      <td>Araba/Álava</td>\n",
       "      <td>1</td>\n",
       "      <td>Alegría-Dulantzi</td>\n",
       "      <td>2971</td>\n",
       "      <td>1531</td>\n",
       "      <td>1440</td>\n",
       "      <td>alegria-dulantzi</td>\n",
       "      <td>araba/alava</td>\n",
       "      <td>NaN</td>\n",
       "      <td>NaN</td>\n",
       "      <td>NaN</td>\n",
       "    </tr>\n",
       "    <tr>\n",
       "      <th>1</th>\n",
       "      <td>1</td>\n",
       "      <td>Araba/Álava</td>\n",
       "      <td>2</td>\n",
       "      <td>Amurrio</td>\n",
       "      <td>10330</td>\n",
       "      <td>5149</td>\n",
       "      <td>5181</td>\n",
       "      <td>amurrio</td>\n",
       "      <td>araba/alava</td>\n",
       "      <td>NaN</td>\n",
       "      <td>NaN</td>\n",
       "      <td>NaN</td>\n",
       "    </tr>\n",
       "    <tr>\n",
       "      <th>2</th>\n",
       "      <td>1</td>\n",
       "      <td>Araba/Álava</td>\n",
       "      <td>3</td>\n",
       "      <td>Aramaio</td>\n",
       "      <td>1381</td>\n",
       "      <td>709</td>\n",
       "      <td>672</td>\n",
       "      <td>aramaio</td>\n",
       "      <td>araba/alava</td>\n",
       "      <td>NaN</td>\n",
       "      <td>NaN</td>\n",
       "      <td>NaN</td>\n",
       "    </tr>\n",
       "    <tr>\n",
       "      <th>3</th>\n",
       "      <td>1</td>\n",
       "      <td>Araba/Álava</td>\n",
       "      <td>4</td>\n",
       "      <td>Artziniega</td>\n",
       "      <td>1856</td>\n",
       "      <td>913</td>\n",
       "      <td>943</td>\n",
       "      <td>artziniega</td>\n",
       "      <td>araba/alava</td>\n",
       "      <td>NaN</td>\n",
       "      <td>NaN</td>\n",
       "      <td>NaN</td>\n",
       "    </tr>\n",
       "    <tr>\n",
       "      <th>4</th>\n",
       "      <td>1</td>\n",
       "      <td>Araba/Álava</td>\n",
       "      <td>6</td>\n",
       "      <td>Armiñón</td>\n",
       "      <td>247</td>\n",
       "      <td>127</td>\n",
       "      <td>120</td>\n",
       "      <td>arminon</td>\n",
       "      <td>araba/alava</td>\n",
       "      <td>NaN</td>\n",
       "      <td>NaN</td>\n",
       "      <td>NaN</td>\n",
       "    </tr>\n",
       "    <tr>\n",
       "      <th>...</th>\n",
       "      <td>...</td>\n",
       "      <td>...</td>\n",
       "      <td>...</td>\n",
       "      <td>...</td>\n",
       "      <td>...</td>\n",
       "      <td>...</td>\n",
       "      <td>...</td>\n",
       "      <td>...</td>\n",
       "      <td>...</td>\n",
       "      <td>...</td>\n",
       "      <td>...</td>\n",
       "      <td>...</td>\n",
       "    </tr>\n",
       "    <tr>\n",
       "      <th>8127</th>\n",
       "      <td>50</td>\n",
       "      <td>Zaragoza</td>\n",
       "      <td>901</td>\n",
       "      <td>Biel</td>\n",
       "      <td>170</td>\n",
       "      <td>104</td>\n",
       "      <td>66</td>\n",
       "      <td>biel</td>\n",
       "      <td>zaragoza</td>\n",
       "      <td>754.24450</td>\n",
       "      <td>-0.936588</td>\n",
       "      <td>42.38749</td>\n",
       "    </tr>\n",
       "    <tr>\n",
       "      <th>8128</th>\n",
       "      <td>50</td>\n",
       "      <td>Zaragoza</td>\n",
       "      <td>902</td>\n",
       "      <td>Marracos</td>\n",
       "      <td>85</td>\n",
       "      <td>43</td>\n",
       "      <td>42</td>\n",
       "      <td>marracos</td>\n",
       "      <td>zaragoza</td>\n",
       "      <td>404.73610</td>\n",
       "      <td>-0.776047</td>\n",
       "      <td>42.09059</td>\n",
       "    </tr>\n",
       "    <tr>\n",
       "      <th>8129</th>\n",
       "      <td>50</td>\n",
       "      <td>Zaragoza</td>\n",
       "      <td>903</td>\n",
       "      <td>Villamayor de Gállego</td>\n",
       "      <td>2854</td>\n",
       "      <td>1446</td>\n",
       "      <td>1408</td>\n",
       "      <td>villamayor de gallego</td>\n",
       "      <td>zaragoza</td>\n",
       "      <td>231.12340</td>\n",
       "      <td>-0.773315</td>\n",
       "      <td>41.68518</td>\n",
       "    </tr>\n",
       "    <tr>\n",
       "      <th>8130</th>\n",
       "      <td>51</td>\n",
       "      <td>Ceuta</td>\n",
       "      <td>1</td>\n",
       "      <td>Ceuta</td>\n",
       "      <td>83229</td>\n",
       "      <td>41980</td>\n",
       "      <td>41249</td>\n",
       "      <td>ceuta</td>\n",
       "      <td>ceuta</td>\n",
       "      <td>13.47725</td>\n",
       "      <td>-5.316195</td>\n",
       "      <td>35.88829</td>\n",
       "    </tr>\n",
       "    <tr>\n",
       "      <th>8131</th>\n",
       "      <td>52</td>\n",
       "      <td>Melilla</td>\n",
       "      <td>1</td>\n",
       "      <td>Melilla</td>\n",
       "      <td>85811</td>\n",
       "      <td>43154</td>\n",
       "      <td>42657</td>\n",
       "      <td>melilla</td>\n",
       "      <td>melilla</td>\n",
       "      <td>10.33370</td>\n",
       "      <td>-2.938794</td>\n",
       "      <td>35.29234</td>\n",
       "    </tr>\n",
       "  </tbody>\n",
       "</table>\n",
       "<p>8132 rows × 12 columns</p>\n",
       "</div>"
      ],
      "text/plain": [
       "      province_code     province  municipality_code      municipality_name  \\\n",
       "0                 1  Araba/Álava                  1       Alegría-Dulantzi   \n",
       "1                 1  Araba/Álava                  2                Amurrio   \n",
       "2                 1  Araba/Álava                  3                Aramaio   \n",
       "3                 1  Araba/Álava                  4             Artziniega   \n",
       "4                 1  Araba/Álava                  6                Armiñón   \n",
       "...             ...          ...                ...                    ...   \n",
       "8127             50     Zaragoza                901                   Biel   \n",
       "8128             50     Zaragoza                902               Marracos   \n",
       "8129             50     Zaragoza                903  Villamayor de Gállego   \n",
       "8130             51        Ceuta                  1                  Ceuta   \n",
       "8131             52      Melilla                  1                Melilla   \n",
       "\n",
       "      population   male  female municipality_name_clean province_clean  \\\n",
       "0           2971   1531    1440        alegria-dulantzi    araba/alava   \n",
       "1          10330   5149    5181                 amurrio    araba/alava   \n",
       "2           1381    709     672                 aramaio    araba/alava   \n",
       "3           1856    913     943              artziniega    araba/alava   \n",
       "4            247    127     120                 arminon    araba/alava   \n",
       "...          ...    ...     ...                     ...            ...   \n",
       "8127         170    104      66                    biel       zaragoza   \n",
       "8128          85     43      42                marracos       zaragoza   \n",
       "8129        2854   1446    1408   villamayor de gallego       zaragoza   \n",
       "8130       83229  41980   41249                   ceuta          ceuta   \n",
       "8131       85811  43154   42657                 melilla        melilla   \n",
       "\n",
       "       altitude  longitude  latitude  \n",
       "0           NaN        NaN       NaN  \n",
       "1           NaN        NaN       NaN  \n",
       "2           NaN        NaN       NaN  \n",
       "3           NaN        NaN       NaN  \n",
       "4           NaN        NaN       NaN  \n",
       "...         ...        ...       ...  \n",
       "8127  754.24450  -0.936588  42.38749  \n",
       "8128  404.73610  -0.776047  42.09059  \n",
       "8129  231.12340  -0.773315  41.68518  \n",
       "8130   13.47725  -5.316195  35.88829  \n",
       "8131   10.33370  -2.938794  35.29234  \n",
       "\n",
       "[8132 rows x 12 columns]"
      ]
     },
     "execution_count": 62,
     "metadata": {},
     "output_type": "execute_result"
    }
   ],
   "source": [
    "df"
   ]
  },
  {
   "cell_type": "code",
   "execution_count": 64,
   "metadata": {},
   "outputs": [],
   "source": [
    "df.isnull().sum()\n",
    "df = df.dropna()"
   ]
  },
  {
   "cell_type": "code",
   "execution_count": 65,
   "metadata": {},
   "outputs": [
    {
     "data": {
      "text/html": [
       "<div>\n",
       "<style scoped>\n",
       "    .dataframe tbody tr th:only-of-type {\n",
       "        vertical-align: middle;\n",
       "    }\n",
       "\n",
       "    .dataframe tbody tr th {\n",
       "        vertical-align: top;\n",
       "    }\n",
       "\n",
       "    .dataframe thead th {\n",
       "        text-align: right;\n",
       "    }\n",
       "</style>\n",
       "<table border=\"1\" class=\"dataframe\">\n",
       "  <thead>\n",
       "    <tr style=\"text-align: right;\">\n",
       "      <th></th>\n",
       "      <th>province_code</th>\n",
       "      <th>province</th>\n",
       "      <th>municipality_code</th>\n",
       "      <th>municipality_name</th>\n",
       "      <th>population</th>\n",
       "      <th>male</th>\n",
       "      <th>female</th>\n",
       "      <th>municipality_name_clean</th>\n",
       "      <th>province_clean</th>\n",
       "      <th>altitude</th>\n",
       "      <th>longitude</th>\n",
       "      <th>latitude</th>\n",
       "    </tr>\n",
       "  </thead>\n",
       "  <tbody>\n",
       "  </tbody>\n",
       "</table>\n",
       "</div>"
      ],
      "text/plain": [
       "Empty DataFrame\n",
       "Columns: [province_code, province, municipality_code, municipality_name, population, male, female, municipality_name_clean, province_clean, altitude, longitude, latitude]\n",
       "Index: []"
      ]
     },
     "execution_count": 65,
     "metadata": {},
     "output_type": "execute_result"
    }
   ],
   "source": [
    "# Display rows with any NaN values and count them\n",
    "nan_rows = df[df.isna().any(axis=1)]\n",
    "nan_rows"
   ]
  },
  {
   "cell_type": "code",
   "execution_count": 66,
   "metadata": {},
   "outputs": [
    {
     "data": {
      "text/html": [
       "<div>\n",
       "<style scoped>\n",
       "    .dataframe tbody tr th:only-of-type {\n",
       "        vertical-align: middle;\n",
       "    }\n",
       "\n",
       "    .dataframe tbody tr th {\n",
       "        vertical-align: top;\n",
       "    }\n",
       "\n",
       "    .dataframe thead th {\n",
       "        text-align: right;\n",
       "    }\n",
       "</style>\n",
       "<table border=\"1\" class=\"dataframe\">\n",
       "  <thead>\n",
       "    <tr style=\"text-align: right;\">\n",
       "      <th></th>\n",
       "      <th>province_code</th>\n",
       "      <th>province</th>\n",
       "      <th>municipality_code</th>\n",
       "      <th>municipality_name</th>\n",
       "      <th>population</th>\n",
       "      <th>male</th>\n",
       "      <th>female</th>\n",
       "      <th>municipality_name_clean</th>\n",
       "      <th>province_clean</th>\n",
       "      <th>altitude</th>\n",
       "      <th>longitude</th>\n",
       "      <th>latitude</th>\n",
       "    </tr>\n",
       "  </thead>\n",
       "  <tbody>\n",
       "    <tr>\n",
       "      <th>51</th>\n",
       "      <td>2</td>\n",
       "      <td>Albacete</td>\n",
       "      <td>1</td>\n",
       "      <td>Abengibre</td>\n",
       "      <td>759</td>\n",
       "      <td>374</td>\n",
       "      <td>385</td>\n",
       "      <td>abengibre</td>\n",
       "      <td>albacete</td>\n",
       "      <td>635.97630</td>\n",
       "      <td>-1.544182</td>\n",
       "      <td>39.20999</td>\n",
       "    </tr>\n",
       "    <tr>\n",
       "      <th>52</th>\n",
       "      <td>2</td>\n",
       "      <td>Albacete</td>\n",
       "      <td>2</td>\n",
       "      <td>Alatoz</td>\n",
       "      <td>497</td>\n",
       "      <td>267</td>\n",
       "      <td>230</td>\n",
       "      <td>alatoz</td>\n",
       "      <td>albacete</td>\n",
       "      <td>856.58100</td>\n",
       "      <td>-1.361155</td>\n",
       "      <td>39.09464</td>\n",
       "    </tr>\n",
       "    <tr>\n",
       "      <th>53</th>\n",
       "      <td>2</td>\n",
       "      <td>Albacete</td>\n",
       "      <td>3</td>\n",
       "      <td>Albacete</td>\n",
       "      <td>174137</td>\n",
       "      <td>85115</td>\n",
       "      <td>89022</td>\n",
       "      <td>albacete</td>\n",
       "      <td>albacete</td>\n",
       "      <td>685.95730</td>\n",
       "      <td>-1.860070</td>\n",
       "      <td>38.99765</td>\n",
       "    </tr>\n",
       "    <tr>\n",
       "      <th>54</th>\n",
       "      <td>2</td>\n",
       "      <td>Albacete</td>\n",
       "      <td>4</td>\n",
       "      <td>Albatana</td>\n",
       "      <td>663</td>\n",
       "      <td>342</td>\n",
       "      <td>321</td>\n",
       "      <td>albatana</td>\n",
       "      <td>albacete</td>\n",
       "      <td>583.85090</td>\n",
       "      <td>-1.524207</td>\n",
       "      <td>38.56977</td>\n",
       "    </tr>\n",
       "    <tr>\n",
       "      <th>55</th>\n",
       "      <td>2</td>\n",
       "      <td>Albacete</td>\n",
       "      <td>5</td>\n",
       "      <td>Alborea</td>\n",
       "      <td>676</td>\n",
       "      <td>363</td>\n",
       "      <td>313</td>\n",
       "      <td>alborea</td>\n",
       "      <td>albacete</td>\n",
       "      <td>700.43820</td>\n",
       "      <td>-1.395870</td>\n",
       "      <td>39.27951</td>\n",
       "    </tr>\n",
       "    <tr>\n",
       "      <th>...</th>\n",
       "      <td>...</td>\n",
       "      <td>...</td>\n",
       "      <td>...</td>\n",
       "      <td>...</td>\n",
       "      <td>...</td>\n",
       "      <td>...</td>\n",
       "      <td>...</td>\n",
       "      <td>...</td>\n",
       "      <td>...</td>\n",
       "      <td>...</td>\n",
       "      <td>...</td>\n",
       "      <td>...</td>\n",
       "    </tr>\n",
       "    <tr>\n",
       "      <th>8127</th>\n",
       "      <td>50</td>\n",
       "      <td>Zaragoza</td>\n",
       "      <td>901</td>\n",
       "      <td>Biel</td>\n",
       "      <td>170</td>\n",
       "      <td>104</td>\n",
       "      <td>66</td>\n",
       "      <td>biel</td>\n",
       "      <td>zaragoza</td>\n",
       "      <td>754.24450</td>\n",
       "      <td>-0.936588</td>\n",
       "      <td>42.38749</td>\n",
       "    </tr>\n",
       "    <tr>\n",
       "      <th>8128</th>\n",
       "      <td>50</td>\n",
       "      <td>Zaragoza</td>\n",
       "      <td>902</td>\n",
       "      <td>Marracos</td>\n",
       "      <td>85</td>\n",
       "      <td>43</td>\n",
       "      <td>42</td>\n",
       "      <td>marracos</td>\n",
       "      <td>zaragoza</td>\n",
       "      <td>404.73610</td>\n",
       "      <td>-0.776047</td>\n",
       "      <td>42.09059</td>\n",
       "    </tr>\n",
       "    <tr>\n",
       "      <th>8129</th>\n",
       "      <td>50</td>\n",
       "      <td>Zaragoza</td>\n",
       "      <td>903</td>\n",
       "      <td>Villamayor de Gállego</td>\n",
       "      <td>2854</td>\n",
       "      <td>1446</td>\n",
       "      <td>1408</td>\n",
       "      <td>villamayor de gallego</td>\n",
       "      <td>zaragoza</td>\n",
       "      <td>231.12340</td>\n",
       "      <td>-0.773315</td>\n",
       "      <td>41.68518</td>\n",
       "    </tr>\n",
       "    <tr>\n",
       "      <th>8130</th>\n",
       "      <td>51</td>\n",
       "      <td>Ceuta</td>\n",
       "      <td>1</td>\n",
       "      <td>Ceuta</td>\n",
       "      <td>83229</td>\n",
       "      <td>41980</td>\n",
       "      <td>41249</td>\n",
       "      <td>ceuta</td>\n",
       "      <td>ceuta</td>\n",
       "      <td>13.47725</td>\n",
       "      <td>-5.316195</td>\n",
       "      <td>35.88829</td>\n",
       "    </tr>\n",
       "    <tr>\n",
       "      <th>8131</th>\n",
       "      <td>52</td>\n",
       "      <td>Melilla</td>\n",
       "      <td>1</td>\n",
       "      <td>Melilla</td>\n",
       "      <td>85811</td>\n",
       "      <td>43154</td>\n",
       "      <td>42657</td>\n",
       "      <td>melilla</td>\n",
       "      <td>melilla</td>\n",
       "      <td>10.33370</td>\n",
       "      <td>-2.938794</td>\n",
       "      <td>35.29234</td>\n",
       "    </tr>\n",
       "  </tbody>\n",
       "</table>\n",
       "<p>6792 rows × 12 columns</p>\n",
       "</div>"
      ],
      "text/plain": [
       "      province_code  province  municipality_code      municipality_name  \\\n",
       "51                2  Albacete                  1              Abengibre   \n",
       "52                2  Albacete                  2                 Alatoz   \n",
       "53                2  Albacete                  3               Albacete   \n",
       "54                2  Albacete                  4               Albatana   \n",
       "55                2  Albacete                  5                Alborea   \n",
       "...             ...       ...                ...                    ...   \n",
       "8127             50  Zaragoza                901                   Biel   \n",
       "8128             50  Zaragoza                902               Marracos   \n",
       "8129             50  Zaragoza                903  Villamayor de Gállego   \n",
       "8130             51     Ceuta                  1                  Ceuta   \n",
       "8131             52   Melilla                  1                Melilla   \n",
       "\n",
       "      population   male  female municipality_name_clean province_clean  \\\n",
       "51           759    374     385               abengibre       albacete   \n",
       "52           497    267     230                  alatoz       albacete   \n",
       "53        174137  85115   89022                albacete       albacete   \n",
       "54           663    342     321                albatana       albacete   \n",
       "55           676    363     313                 alborea       albacete   \n",
       "...          ...    ...     ...                     ...            ...   \n",
       "8127         170    104      66                    biel       zaragoza   \n",
       "8128          85     43      42                marracos       zaragoza   \n",
       "8129        2854   1446    1408   villamayor de gallego       zaragoza   \n",
       "8130       83229  41980   41249                   ceuta          ceuta   \n",
       "8131       85811  43154   42657                 melilla        melilla   \n",
       "\n",
       "       altitude  longitude  latitude  \n",
       "51    635.97630  -1.544182  39.20999  \n",
       "52    856.58100  -1.361155  39.09464  \n",
       "53    685.95730  -1.860070  38.99765  \n",
       "54    583.85090  -1.524207  38.56977  \n",
       "55    700.43820  -1.395870  39.27951  \n",
       "...         ...        ...       ...  \n",
       "8127  754.24450  -0.936588  42.38749  \n",
       "8128  404.73610  -0.776047  42.09059  \n",
       "8129  231.12340  -0.773315  41.68518  \n",
       "8130   13.47725  -5.316195  35.88829  \n",
       "8131   10.33370  -2.938794  35.29234  \n",
       "\n",
       "[6792 rows x 12 columns]"
      ]
     },
     "execution_count": 66,
     "metadata": {},
     "output_type": "execute_result"
    }
   ],
   "source": [
    "df"
   ]
  },
  {
   "cell_type": "markdown",
   "metadata": {},
   "source": [
    "## Problems\n",
    "\n",
    "Spelling is different in the two dataset, we might have to remove the accents first"
   ]
  },
  {
   "cell_type": "code",
   "execution_count": 67,
   "metadata": {},
   "outputs": [
    {
     "data": {
      "text/html": [
       "<div>\n",
       "<style scoped>\n",
       "    .dataframe tbody tr th:only-of-type {\n",
       "        vertical-align: middle;\n",
       "    }\n",
       "\n",
       "    .dataframe tbody tr th {\n",
       "        vertical-align: top;\n",
       "    }\n",
       "\n",
       "    .dataframe thead th {\n",
       "        text-align: right;\n",
       "    }\n",
       "</style>\n",
       "<table border=\"1\" class=\"dataframe\">\n",
       "  <thead>\n",
       "    <tr style=\"text-align: right;\">\n",
       "      <th></th>\n",
       "      <th>province_code</th>\n",
       "      <th>province</th>\n",
       "      <th>municipality_code</th>\n",
       "      <th>municipality_name</th>\n",
       "      <th>population</th>\n",
       "      <th>male</th>\n",
       "      <th>female</th>\n",
       "      <th>municipality_name_clean</th>\n",
       "      <th>province_clean</th>\n",
       "    </tr>\n",
       "  </thead>\n",
       "  <tbody>\n",
       "    <tr>\n",
       "      <th>768</th>\n",
       "      <td>6</td>\n",
       "      <td>Badajoz</td>\n",
       "      <td>139</td>\n",
       "      <td>Valencia de las Torres</td>\n",
       "      <td>480</td>\n",
       "      <td>256</td>\n",
       "      <td>224</td>\n",
       "      <td>valencia de las torres</td>\n",
       "      <td>badajoz</td>\n",
       "    </tr>\n",
       "    <tr>\n",
       "      <th>769</th>\n",
       "      <td>6</td>\n",
       "      <td>Badajoz</td>\n",
       "      <td>140</td>\n",
       "      <td>Valencia del Mombuey</td>\n",
       "      <td>713</td>\n",
       "      <td>369</td>\n",
       "      <td>344</td>\n",
       "      <td>valencia del mombuey</td>\n",
       "      <td>badajoz</td>\n",
       "    </tr>\n",
       "    <tr>\n",
       "      <th>770</th>\n",
       "      <td>6</td>\n",
       "      <td>Badajoz</td>\n",
       "      <td>141</td>\n",
       "      <td>Valencia del Ventoso</td>\n",
       "      <td>1885</td>\n",
       "      <td>953</td>\n",
       "      <td>932</td>\n",
       "      <td>valencia del ventoso</td>\n",
       "      <td>badajoz</td>\n",
       "    </tr>\n",
       "    <tr>\n",
       "      <th>1745</th>\n",
       "      <td>10</td>\n",
       "      <td>Cáceres</td>\n",
       "      <td>203</td>\n",
       "      <td>Valencia de Alcántara</td>\n",
       "      <td>5196</td>\n",
       "      <td>2562</td>\n",
       "      <td>2634</td>\n",
       "      <td>valencia de alcantara</td>\n",
       "      <td>caceres</td>\n",
       "    </tr>\n",
       "    <tr>\n",
       "      <th>3779</th>\n",
       "      <td>24</td>\n",
       "      <td>León</td>\n",
       "      <td>188</td>\n",
       "      <td>Valencia de Don Juan</td>\n",
       "      <td>5094</td>\n",
       "      <td>2470</td>\n",
       "      <td>2624</td>\n",
       "      <td>valencia de don juan</td>\n",
       "      <td>leon</td>\n",
       "    </tr>\n",
       "    <tr>\n",
       "      <th>7234</th>\n",
       "      <td>46</td>\n",
       "      <td>Valencia/València</td>\n",
       "      <td>250</td>\n",
       "      <td>València</td>\n",
       "      <td>825948</td>\n",
       "      <td>391970</td>\n",
       "      <td>433978</td>\n",
       "      <td>valencia</td>\n",
       "      <td>valencia/valencia</td>\n",
       "    </tr>\n",
       "  </tbody>\n",
       "</table>\n",
       "</div>"
      ],
      "text/plain": [
       "      province_code           province  municipality_code  \\\n",
       "768               6            Badajoz                139   \n",
       "769               6            Badajoz                140   \n",
       "770               6            Badajoz                141   \n",
       "1745             10            Cáceres                203   \n",
       "3779             24               León                188   \n",
       "7234             46  Valencia/València                250   \n",
       "\n",
       "           municipality_name  population    male  female  \\\n",
       "768   Valencia de las Torres         480     256     224   \n",
       "769     Valencia del Mombuey         713     369     344   \n",
       "770     Valencia del Ventoso        1885     953     932   \n",
       "1745   Valencia de Alcántara        5196    2562    2634   \n",
       "3779    Valencia de Don Juan        5094    2470    2624   \n",
       "7234                València      825948  391970  433978   \n",
       "\n",
       "     municipality_name_clean     province_clean  \n",
       "768   valencia de las torres            badajoz  \n",
       "769     valencia del mombuey            badajoz  \n",
       "770     valencia del ventoso            badajoz  \n",
       "1745   valencia de alcantara            caceres  \n",
       "3779    valencia de don juan               leon  \n",
       "7234                valencia  valencia/valencia  "
      ]
     },
     "execution_count": 67,
     "metadata": {},
     "output_type": "execute_result"
    }
   ],
   "source": [
    "df_communities[df_communities['municipality_name'].str.contains(r'Val.*ncia', case=False, na=False)]"
   ]
  },
  {
   "cell_type": "code",
   "execution_count": 68,
   "metadata": {},
   "outputs": [
    {
     "data": {
      "text/html": [
       "<div>\n",
       "<style scoped>\n",
       "    .dataframe tbody tr th:only-of-type {\n",
       "        vertical-align: middle;\n",
       "    }\n",
       "\n",
       "    .dataframe tbody tr th {\n",
       "        vertical-align: top;\n",
       "    }\n",
       "\n",
       "    .dataframe thead th {\n",
       "        text-align: right;\n",
       "    }\n",
       "</style>\n",
       "<table border=\"1\" class=\"dataframe\">\n",
       "  <thead>\n",
       "    <tr style=\"text-align: right;\">\n",
       "      <th></th>\n",
       "      <th>community</th>\n",
       "      <th>province</th>\n",
       "      <th>municipality_name</th>\n",
       "      <th>latitude</th>\n",
       "      <th>longitude</th>\n",
       "      <th>altitude</th>\n",
       "      <th>population</th>\n",
       "      <th>male</th>\n",
       "      <th>female</th>\n",
       "      <th>municipality_name_clean</th>\n",
       "      <th>province_clean</th>\n",
       "    </tr>\n",
       "  </thead>\n",
       "  <tbody>\n",
       "    <tr>\n",
       "      <th>3479</th>\n",
       "      <td>Castilla León</td>\n",
       "      <td>León</td>\n",
       "      <td>Valencia de Don Juan</td>\n",
       "      <td>42.29401</td>\n",
       "      <td>-5.519861</td>\n",
       "      <td>767.8869</td>\n",
       "      <td>5083</td>\n",
       "      <td>2505</td>\n",
       "      <td>2578</td>\n",
       "      <td>valencia de don juan</td>\n",
       "      <td>leon</td>\n",
       "    </tr>\n",
       "    <tr>\n",
       "      <th>6024</th>\n",
       "      <td>Extremadura</td>\n",
       "      <td>Badajoz</td>\n",
       "      <td>Valencia de las Torres</td>\n",
       "      <td>38.40500</td>\n",
       "      <td>-6.003782</td>\n",
       "      <td>514.0270</td>\n",
       "      <td>687</td>\n",
       "      <td>358</td>\n",
       "      <td>329</td>\n",
       "      <td>valencia de las torres</td>\n",
       "      <td>badajoz</td>\n",
       "    </tr>\n",
       "    <tr>\n",
       "      <th>6025</th>\n",
       "      <td>Extremadura</td>\n",
       "      <td>Badajoz</td>\n",
       "      <td>Valencia del Mombuey</td>\n",
       "      <td>38.24256</td>\n",
       "      <td>-7.119643</td>\n",
       "      <td>295.6457</td>\n",
       "      <td>782</td>\n",
       "      <td>400</td>\n",
       "      <td>382</td>\n",
       "      <td>valencia del mombuey</td>\n",
       "      <td>badajoz</td>\n",
       "    </tr>\n",
       "    <tr>\n",
       "      <th>6026</th>\n",
       "      <td>Extremadura</td>\n",
       "      <td>Badajoz</td>\n",
       "      <td>Valencia del Ventoso</td>\n",
       "      <td>38.26500</td>\n",
       "      <td>-6.474613</td>\n",
       "      <td>496.0627</td>\n",
       "      <td>2249</td>\n",
       "      <td>1130</td>\n",
       "      <td>1119</td>\n",
       "      <td>valencia del ventoso</td>\n",
       "      <td>badajoz</td>\n",
       "    </tr>\n",
       "    <tr>\n",
       "      <th>6250</th>\n",
       "      <td>Extremadura</td>\n",
       "      <td>Cáceres</td>\n",
       "      <td>Valencia de Alcántara</td>\n",
       "      <td>39.41135</td>\n",
       "      <td>-7.246899</td>\n",
       "      <td>462.1811</td>\n",
       "      <td>6178</td>\n",
       "      <td>3070</td>\n",
       "      <td>3108</td>\n",
       "      <td>valencia de alcantara</td>\n",
       "      <td>caceres</td>\n",
       "    </tr>\n",
       "    <tr>\n",
       "      <th>8094</th>\n",
       "      <td>Valencia</td>\n",
       "      <td>Valencia/València</td>\n",
       "      <td>Valencia</td>\n",
       "      <td>39.47024</td>\n",
       "      <td>-0.376805</td>\n",
       "      <td>23.3349</td>\n",
       "      <td>814208</td>\n",
       "      <td>392300</td>\n",
       "      <td>421908</td>\n",
       "      <td>valencia</td>\n",
       "      <td>valencia/valencia</td>\n",
       "    </tr>\n",
       "  </tbody>\n",
       "</table>\n",
       "</div>"
      ],
      "text/plain": [
       "          community           province       municipality_name  latitude  \\\n",
       "3479  Castilla León               León    Valencia de Don Juan  42.29401   \n",
       "6024    Extremadura            Badajoz  Valencia de las Torres  38.40500   \n",
       "6025    Extremadura            Badajoz    Valencia del Mombuey  38.24256   \n",
       "6026    Extremadura            Badajoz    Valencia del Ventoso  38.26500   \n",
       "6250    Extremadura            Cáceres   Valencia de Alcántara  39.41135   \n",
       "8094       Valencia  Valencia/València                Valencia  39.47024   \n",
       "\n",
       "      longitude  altitude  population    male  female municipality_name_clean  \\\n",
       "3479  -5.519861  767.8869        5083    2505    2578    valencia de don juan   \n",
       "6024  -6.003782  514.0270         687     358     329  valencia de las torres   \n",
       "6025  -7.119643  295.6457         782     400     382    valencia del mombuey   \n",
       "6026  -6.474613  496.0627        2249    1130    1119    valencia del ventoso   \n",
       "6250  -7.246899  462.1811        6178    3070    3108   valencia de alcantara   \n",
       "8094  -0.376805   23.3349      814208  392300  421908                valencia   \n",
       "\n",
       "         province_clean  \n",
       "3479               leon  \n",
       "6024            badajoz  \n",
       "6025            badajoz  \n",
       "6026            badajoz  \n",
       "6250            caceres  \n",
       "8094  valencia/valencia  "
      ]
     },
     "execution_count": 68,
     "metadata": {},
     "output_type": "execute_result"
    }
   ],
   "source": [
    "df_coordinates[df_coordinates['municipality_name'].str.contains(r'Val.*ncia', case=False, na=False)]"
   ]
  },
  {
   "cell_type": "code",
   "execution_count": 69,
   "metadata": {},
   "outputs": [
    {
     "data": {
      "application/vnd.plotly.v1+json": {
       "config": {
        "plotlyServerURL": "https://plot.ly"
       },
       "data": [
        {
         "customdata": [
          [
           "Abengibre",
           635.9763
          ],
          [
           "Alatoz",
           856.581
          ],
          [
           "Albacete",
           685.9573
          ],
          [
           "Albatana",
           583.8509
          ],
          [
           "Alborea",
           700.4382
          ],
          [
           "Alcadozo",
           926.3744
          ],
          [
           "Alcalá del Júcar",
           564.6768
          ],
          [
           "Alcaraz",
           946.7922
          ],
          [
           "Almansa",
           699.0923
          ],
          [
           "Alpera",
           855.4849
          ],
          [
           "Ayna",
           705.988
          ],
          [
           "Balazote",
           774.1191
          ],
          [
           "Balsa de Ves",
           753.8686
          ],
          [
           "Barrax",
           730.8005
          ],
          [
           "Bienservida",
           892.105
          ],
          [
           "Bogarra",
           877.0484
          ],
          [
           "Bonete",
           892.0386
          ],
          [
           "Carcelén",
           917.2548
          ],
          [
           "Casas de Juan Núñez",
           708.0665
          ],
          [
           "Casas de Lázaro",
           955.0565
          ],
          [
           "Casas de Ves",
           705.2325
          ],
          [
           "Casas-Ibáñez",
           708.7758
          ],
          [
           "Caudete",
           576.1887
          ],
          [
           "Cenizate",
           709.0714
          ],
          [
           "Corral-Rubio",
           874.6991
          ],
          [
           "Cotillas",
           937.312
          ],
          [
           "Chinchilla de Monte-Aragón",
           886.0651
          ],
          [
           "Elche de la Sierra",
           641.3206
          ],
          [
           "Férez",
           678.098
          ],
          [
           "Fuensanta",
           704.071
          ],
          [
           "Fuente-Álamo",
           823.3177
          ],
          [
           "Fuentealbilla",
           664.727
          ],
          [
           "Golosalvo",
           737.8311
          ],
          [
           "Hellín",
           571.8438
          ],
          [
           "Higueruela",
           1038.131
          ],
          [
           "Hoya-Gonzalo",
           935.8157
          ],
          [
           "Jorquera",
           620.2926
          ],
          [
           "Letur",
           746.7882
          ],
          [
           "Lezuza",
           916.73
          ],
          [
           "Liétor",
           671.197
          ],
          [
           "Madrigueras",
           692.8739
          ],
          [
           "Mahora",
           667.1957
          ],
          [
           "Masegoso",
           1109.367
          ],
          [
           "Minaya",
           725.5837
          ],
          [
           "Molinicos",
           857.9905
          ],
          [
           "Montalvos",
           710
          ],
          [
           "Montealegre del Castillo",
           811.8585
          ],
          [
           "Motilleja",
           679.5121
          ],
          [
           "Munera",
           934.6063
          ],
          [
           "Navas de Jorquera",
           711
          ],
          [
           "Nerpio",
           1084.768
          ],
          [
           "Ontur",
           656.9244
          ],
          [
           "Ossa de Montiel",
           911.2698
          ],
          [
           "Paterna del Madera",
           1136.959
          ],
          [
           "Peñascosa",
           1170.48
          ],
          [
           "Peñas de San Pedro",
           1023.151
          ],
          [
           "Pétrola",
           878.49
          ],
          [
           "Povedilla",
           871.9346
          ],
          [
           "Pozohondo",
           872.5624
          ],
          [
           "Pozo-Lorente",
           773.0806
          ],
          [
           "Pozuelo",
           850.8868
          ],
          [
           "Riópar",
           971.0583
          ],
          [
           "Robledo",
           1029.824
          ],
          [
           "Salobre",
           924.4268
          ],
          [
           "San Pedro",
           844.3685
          ],
          [
           "Socovos",
           751.4481
          ],
          [
           "Tarazona de la Mancha",
           715.6435
          ],
          [
           "Tobarra",
           642.4951
          ],
          [
           "Valdeganga",
           668.1237
          ],
          [
           "Vianos",
           1117.031
          ],
          [
           "Villa de Ves",
           741.5894
          ],
          [
           "Villalgordo del Júcar",
           687.8445
          ],
          [
           "Villamalea",
           743.7635
          ],
          [
           "Villapalacios",
           837.8229
          ],
          [
           "Villarrobledo",
           728.5291
          ],
          [
           "Villatoya",
           416.7317
          ],
          [
           "Villavaliente",
           728.5188
          ],
          [
           "Villaverde de Guadalimar",
           796.1951
          ],
          [
           "Viveros",
           1012.303
          ],
          [
           "Yeste",
           862.6873
          ],
          [
           "Pozo Cañada",
           826.6574
          ],
          [
           "Agost",
           332.424
          ],
          [
           "Agres",
           724.617
          ],
          [
           "Aigües",
           325.356
          ],
          [
           "Albatera",
           21.50101
          ],
          [
           "Alcalalí",
           290.6824
          ],
          [
           "Alcoleja",
           751.6678
          ],
          [
           "Alfafara",
           587.1841
          ],
          [
           "Algorfa",
           29.95276
          ],
          [
           "Algueña",
           536.0125
          ],
          [
           "Almoradí",
           17.38357
          ],
          [
           "Almudaina",
           575.8386
          ],
          [
           "Altea",
           21.23566
          ],
          [
           "Aspe",
           230.3877
          ],
          [
           "Balones",
           663.7676
          ],
          [
           "Banyeres de Mariola",
           825.7204
          ],
          [
           "Benasau",
           695.5562
          ],
          [
           "Beneixama",
           595.4329
          ],
          [
           "Benejúzar",
           25.65035
          ],
          [
           "Benferri",
           54.47756
          ],
          [
           "Beniarbeig",
           46.27847
          ],
          [
           "Beniarrés",
           391.1873
          ],
          [
           "Benigembla",
           310.3394
          ],
          [
           "Benidoleig",
           102.7022
          ],
          [
           "Benidorm",
           21.19977
          ],
          [
           "Benifallim",
           730.8427
          ],
          [
           "Benifato",
           654.8287
          ],
          [
           "Benijófar",
           35.03075
          ],
          [
           "Benilloba",
           535.0692
          ],
          [
           "Benillup",
           561.1097
          ],
          [
           "Benimantell",
           562.9584
          ],
          [
           "Benimarfull",
           427.3933
          ],
          [
           "Benimassot",
           729.0436
          ],
          [
           "Benimeli",
           95.25533
          ],
          [
           "Benissa",
           253.765
          ],
          [
           "Biar",
           703.2366
          ],
          [
           "Bigastro",
           29.8936
          ],
          [
           "Bolulla",
           220.4359
          ],
          [
           "Busot",
           331.5273
          ],
          [
           "Callosa d'en Sarrià",
           254.6619
          ],
          [
           "Callosa de Segura",
           22.56134
          ],
          [
           "Cañada",
           561.0671
          ],
          [
           "Castalla",
           685.3792
          ],
          [
           "Castell de Castells",
           425.5766
          ],
          [
           "Catral",
           11
          ],
          [
           "Cocentaina",
           446.2317
          ],
          [
           "Confrides",
           789.8048
          ],
          [
           "Cox",
           20.62896
          ],
          [
           "Crevillent",
           120.1649
          ],
          [
           "Quatretondeta",
           622.546
          ],
          [
           "Daya Nueva",
           8.224919
          ],
          [
           "Daya Vieja",
           6.833565
          ],
          [
           "Dénia",
           11.78009
          ],
          [
           "Dolores",
           9.227216
          ],
          [
           "Elda",
           413.189
          ],
          [
           "Famorca",
           691.6473
          ],
          [
           "Finestrat",
           261.4681
          ],
          [
           "Formentera del Segura",
           10.79573
          ],
          [
           "Gata de Gorgos",
           85.46293
          ],
          [
           "Gaianes",
           414.3354
          ],
          [
           "Gorga",
           555.8732
          ],
          [
           "Granja de Rocamora",
           18.04087
          ],
          [
           "Guardamar del Segura",
           26.48124
          ],
          [
           "Hondón de los Frailes",
           418.041
          ],
          [
           "Ibi",
           753.7646
          ],
          [
           "Jacarilla",
           27.33402
          ],
          [
           "Xaló",
           196.9115
          ],
          [
           "Llíber",
           185.6137
          ],
          [
           "Millena",
           634.1902
          ],
          [
           "Monforte del Cid",
           223.6606
          ],
          [
           "Mutxamel",
           65.50282
          ],
          [
           "Murla",
           291.5551
          ],
          [
           "Muro de Alcoy",
           411.4849
          ],
          [
           "Novelda",
           247.5291
          ],
          [
           "Ondara",
           37.3018
          ],
          [
           "Onil",
           676.8312
          ],
          [
           "Orba",
           160.1064
          ],
          [
           "Orxeta",
           186.9968
          ],
          [
           "Orihuela",
           36.18137
          ],
          [
           "Parcent",
           289.9498
          ],
          [
           "Pedreguer",
           87.95199
          ],
          [
           "Pego",
           83.52785
          ],
          [
           "Penàguila",
           689.5314
          ],
          [
           "Petrer",
           437.8267
          ],
          [
           "Planes",
           444.3655
          ],
          [
           "Polop",
           237.3766
          ],
          [
           "Rafal",
           16.86083
          ],
          [
           "Redován",
           26.24458
          ],
          [
           "Relleu",
           439.6355
          ],
          [
           "Rojales",
           13.9656
          ],
          [
           "Sagra",
           113.3374
          ],
          [
           "Salinas",
           491.3814
          ],
          [
           "Sanet y Negrals",
           92.4516
          ],
          [
           "San Fulgencio",
           7.573623
          ],
          [
           "Sant Joan d'Alacant",
           41.32392
          ],
          [
           "San Miguel de Salinas",
           77.87773
          ],
          [
           "Santa Pola",
           10
          ],
          [
           "Sax",
           480.8817
          ],
          [
           "Sella",
           421.4968
          ],
          [
           "Senija",
           239.5632
          ],
          [
           "Tàrbena",
           573.9403
          ],
          [
           "Teulada",
           181.3972
          ],
          [
           "Tibi",
           493.401
          ],
          [
           "Tollos",
           771.4578
          ],
          [
           "Tormos",
           130.5348
          ],
          [
           "Torrevieja",
           15.69942
          ],
          [
           "Villena",
           522.7245
          ],
          [
           "Pilar de la Horadada",
           32.33976
          ],
          [
           "San Isidro",
           10.8566
          ],
          [
           "Abla",
           871.1684
          ],
          [
           "Abrucena",
           976.9387
          ],
          [
           "Adra",
           10.97898
          ],
          [
           "Albanchez",
           481.3123
          ],
          [
           "Alboloduy",
           388.4346
          ],
          [
           "Albox",
           426.4268
          ],
          [
           "Alcolea",
           744.6956
          ],
          [
           "Alcóntar",
           955.1331
          ],
          [
           "Alcudia de Monteagud",
           1018.354
          ],
          [
           "Alhabia",
           288.056
          ],
          [
           "Alhama de Almería",
           523.1963
          ],
          [
           "Alicún",
           420.4872
          ],
          [
           "Almería",
           27.00703
          ],
          [
           "Almócita",
           831.1343
          ],
          [
           "Alsodux",
           312.0394
          ],
          [
           "Antas",
           107.2613
          ],
          [
           "Arboleas",
           288.0828
          ],
          [
           "Armuña de Almanzora",
           625.5285
          ],
          [
           "Bacares",
           1202.631
          ],
          [
           "Bayárcal",
           1271.166
          ],
          [
           "Bayarque",
           816.2208
          ],
          [
           "Bédar",
           391.56
          ],
          [
           "Beires",
           919.2347
          ],
          [
           "Benahadux",
           113.9746
          ],
          [
           "Benitagla",
           945.0856
          ],
          [
           "Benizalón",
           933.7475
          ],
          [
           "Bentarique",
           319.8048
          ],
          [
           "Berja",
           340.7863
          ],
          [
           "Canjáyar",
           607.9745
          ],
          [
           "Cantoria",
           388.6553
          ],
          [
           "Carboneras",
           6.721787
          ],
          [
           "Castro de Filabres",
           943.7071
          ],
          [
           "Cóbdar",
           606.9962
          ],
          [
           "Cuevas del Almanzora",
           97.29103
          ],
          [
           "Chercos",
           789.6791
          ],
          [
           "Chirivel",
           1039.713
          ],
          [
           "Dalías",
           415.9644
          ],
          [
           "Enix",
           720.6339
          ],
          [
           "Felix",
           822.4271
          ],
          [
           "Fines",
           448.7018
          ],
          [
           "Fiñana",
           950.4163
          ],
          [
           "Fondón",
           858.4697
          ],
          [
           "Gádor",
           169.0004
          ],
          [
           "Garrucha",
           2.56615
          ],
          [
           "Gérgal",
           750.5009
          ],
          [
           "Huécija",
           410.0447
          ],
          [
           "Huércal de Almería",
           72.52909
          ],
          [
           "Huércal-Overa",
           284.6117
          ],
          [
           "Íllar",
           428.1185
          ],
          [
           "Instinción",
           434.57
          ],
          [
           "Laroya",
           854.0873
          ],
          [
           "Láujar de Andarax",
           910.9894
          ],
          [
           "Líjar",
           593.4965
          ],
          [
           "Lubrín",
           521.5203
          ],
          [
           "Lucainena de las Torres",
           533.8752
          ],
          [
           "Lúcar",
           901.753
          ],
          [
           "Macael",
           538.7327
          ],
          [
           "María",
           1196.435
          ],
          [
           "Mojácar",
           165.0597
          ],
          [
           "Nacimiento",
           596.8992
          ],
          [
           "Níjar",
           353.1248
          ],
          [
           "Ohanes",
           953.4253
          ],
          [
           "Olula de Castro",
           1054.839
          ],
          [
           "Olula del Río",
           486.5961
          ],
          [
           "Oria",
           1038.982
          ],
          [
           "Padules",
           745.1029
          ],
          [
           "Partaloa",
           548.585
          ],
          [
           "Paterna del Río",
           1201.81
          ],
          [
           "Pechina",
           107.5108
          ],
          [
           "Pulpí",
           194.9947
          ],
          [
           "Purchena",
           540.9984
          ],
          [
           "Rágol",
           404.8323
          ],
          [
           "Rioja",
           133.2092
          ],
          [
           "Roquetas de Mar",
           11.84886
          ],
          [
           "Santa Cruz de Marchena",
           328.9739
          ],
          [
           "Santa Fe de Mondújar",
           210.5975
          ],
          [
           "Senés",
           1007.387
          ],
          [
           "Serón",
           800.137
          ],
          [
           "Sierro",
           721.0729
          ],
          [
           "Somontín",
           816.8105
          ],
          [
           "Sorbas",
           391.5779
          ],
          [
           "Suflí",
           636.8499
          ],
          [
           "Tabernas",
           405.9641
          ],
          [
           "Taberno",
           702.8022
          ],
          [
           "Tahal",
           1008.582
          ],
          [
           "Terque",
           282.4351
          ],
          [
           "Tíjola",
           685.379
          ],
          [
           "Turre",
           49.41454
          ],
          [
           "Turrillas",
           840.3381
          ],
          [
           "Uleila del Campo",
           629.6137
          ],
          [
           "Urrácal",
           744.7553
          ],
          [
           "Velefique",
           937.5716
          ],
          [
           "Vélez-Blanco",
           1072.432
          ],
          [
           "Vélez-Rubio",
           842.2859
          ],
          [
           "Vera",
           102.0657
          ],
          [
           "Viator",
           74.79173
          ],
          [
           "Vícar",
           276.2602
          ],
          [
           "Zurgena",
           248.1582
          ],
          [
           "Adanero",
           905.2096
          ],
          [
           "Albornos",
           909.7402
          ],
          [
           "Aldeanueva de Santa Cruz",
           1166.277
          ],
          [
           "Aldeaseca",
           861.7283
          ],
          [
           "Amavida",
           1175.522
          ],
          [
           "Arenas de San Pedro",
           514.0571
          ],
          [
           "Arevalillo",
           1137.772
          ],
          [
           "Arévalo",
           826.179
          ],
          [
           "Aveinte",
           1000.345
          ],
          [
           "Avellaneda",
           1351.883
          ],
          [
           "Ávila",
           1129.841
          ],
          [
           "Barromán",
           795.3719
          ],
          [
           "Becedas",
           1100.157
          ],
          [
           "Becedillas",
           1055.372
          ],
          [
           "Bercial de Zapardiel",
           806.9874
          ],
          [
           "Bernuy-Zapardiel",
           865.666
          ],
          [
           "Berrocalejo de Aragona",
           1093.834
          ],
          [
           "Blascomillán",
           949.7968
          ],
          [
           "Blasconuño de Matacabras",
           786.0962
          ],
          [
           "Blascosancho",
           904.3203
          ],
          [
           "Bohoyo",
           1152.302
          ],
          [
           "Bonilla de la Sierra",
           1078.679
          ],
          [
           "Brabos",
           981.4635
          ],
          [
           "Bularros",
           1169.908
          ],
          [
           "Burgohondo",
           841.5716
          ],
          [
           "Cabezas de Alambre",
           889.5198
          ],
          [
           "Cabezas del Pozo",
           844.806
          ],
          [
           "Cabezas del Villar",
           1047.323
          ],
          [
           "Cabizuela",
           880.9836
          ],
          [
           "Canales",
           856.6454
          ],
          [
           "Candeleda",
           432.1873
          ],
          [
           "Cantiveros",
           878.133
          ],
          [
           "Cardeñosa",
           1106.686
          ],
          [
           "Casas del Puerto",
           1181.79
          ],
          [
           "Casasola",
           1316.782
          ],
          [
           "Casavieja",
           560.0256
          ],
          [
           "Casillas",
           1033.86
          ],
          [
           "Castellanos de Zapardiel",
           784.2825
          ],
          [
           "Cebreros",
           762.6259
          ],
          [
           "Cepeda la Mora",
           1496.214
          ],
          [
           "Cillán",
           1213.872
          ],
          [
           "Cisla",
           849.4051
          ],
          [
           "Collado de Contreras",
           916.2794
          ],
          [
           "Collado del Mirón",
           1166.182
          ],
          [
           "Constanzana",
           890.7895
          ],
          [
           "Crespos",
           924.7823
          ],
          [
           "Cuevas del Valle",
           850.9416
          ],
          [
           "Chamartín",
           1200.419
          ],
          [
           "Donjimeno",
           885.1403
          ],
          [
           "Donvidas",
           863.8016
          ],
          [
           "Espinosa de los Caballeros",
           859.3159
          ],
          [
           "Flores de Ávila",
           894.5298
          ],
          [
           "Fontiveros",
           883.9694
          ],
          [
           "Fresnedilla",
           622.42
          ],
          [
           "Fuente el Saúz",
           872.8679
          ],
          [
           "Fuentes de Año",
           825.9651
          ],
          [
           "Gallegos de Altamiros",
           1243.297
          ],
          [
           "Gallegos de Sobrinos",
           1165.116
          ],
          [
           "Garganta del Villar",
           1468.859
          ],
          [
           "Gavilanes",
           666.3435
          ],
          [
           "Gemuño",
           1103.707
          ],
          [
           "Gilbuena",
           1046.664
          ],
          [
           "Gil García",
           1149.134
          ],
          [
           "Gimialcón",
           949.9352
          ],
          [
           "Gotarrendura",
           931.7262
          ],
          [
           "Grandes y San Martín",
           1004.375
          ],
          [
           "Guisando",
           760.2384
          ],
          [
           "Gutierre-Muñoz",
           885.0555
          ],
          [
           "Hernansancho",
           907.3092
          ],
          [
           "Herradón de Pinares",
           1339.181
          ],
          [
           "Herreros de Suso",
           1014.149
          ],
          [
           "Higuera de las Dueñas",
           636.0223
          ],
          [
           "Horcajo de las Torres",
           817.9778
          ],
          [
           "Hoyocasero",
           1340.283
          ],
          [
           "Hoyorredondo",
           1041.056
          ],
          [
           "Hoyos del Collado",
           1496.277
          ],
          [
           "Hoyos del Espino",
           1476.058
          ],
          [
           "Hoyos de Miguel Muñoz",
           1537.814
          ],
          [
           "Hurtumpascual",
           1170.533
          ],
          [
           "Junciana",
           996.5219
          ],
          [
           "Langa",
           867.0062
          ],
          [
           "Lanzahíta",
           452.3451
          ],
          [
           "Madrigal de las Altas Torres",
           811.4847
          ],
          [
           "Maello",
           1031.561
          ],
          [
           "Malpartida de Corneja",
           1023.512
          ],
          [
           "Mamblas",
           820.2225
          ],
          [
           "Mancera de Arriba",
           938.9207
          ],
          [
           "Marlín",
           1214.861
          ],
          [
           "Martiherrero",
           1228.818
          ],
          [
           "Martínez",
           1100.179
          ],
          [
           "Mediana de Voltoya",
           1112.355
          ],
          [
           "Medinilla",
           1066.206
          ],
          [
           "Mengamuñoz",
           1348.081
          ],
          [
           "Mesegar de Corneja",
           1022.489
          ],
          [
           "Mijares",
           864.0565
          ],
          [
           "Mingorría",
           1034.813
          ],
          [
           "Mironcillo",
           1119.956
          ],
          [
           "Mirueña de los Infanzones",
           1132.032
          ],
          [
           "Mombeltrán",
           638.0334
          ],
          [
           "Monsalupe",
           1001.826
          ],
          [
           "Moraleja de Matacabras",
           784.5509
          ],
          [
           "Muñana",
           1166.34
          ],
          [
           "Muñico",
           1088.301
          ],
          [
           "Muñogalindo",
           1126.354
          ],
          [
           "Muñogrande",
           945.0131
          ],
          [
           "Muñomer del Peco",
           897.2045
          ],
          [
           "Muñopepe",
           1136.208
          ],
          [
           "Muñosancho",
           904.1495
          ],
          [
           "Muñotello",
           1153.327
          ],
          [
           "Narrillos del Álamo",
           1119.065
          ],
          [
           "Narrillos del Rebollar",
           1393.928
          ],
          [
           "Narros del Castillo",
           955.416
          ],
          [
           "Narros del Puerto",
           1150.127
          ],
          [
           "Narros de Saldueña",
           899.7995
          ],
          [
           "Navacepedilla de Corneja",
           1254.679
          ],
          [
           "Nava de Arévalo",
           867.2231
          ],
          [
           "Nava del Barco",
           1143.579
          ],
          [
           "Navadijos",
           1522.013
          ],
          [
           "Navaescurial",
           1204.329
          ],
          [
           "Navahondilla",
           722.1689
          ],
          [
           "Navalacruz",
           1242.845
          ],
          [
           "Navalmoral",
           1059.723
          ],
          [
           "Navalonguilla",
           1166.513
          ],
          [
           "Navalosa",
           1302.457
          ],
          [
           "Navalperal de Pinares",
           1276.434
          ],
          [
           "Navalperal de Tormes",
           1301.761
          ],
          [
           "Navaluenga",
           761.1091
          ],
          [
           "Navaquesera",
           1510.378
          ],
          [
           "Navarredonda de Gredos",
           1533.715
          ],
          [
           "Navarredondilla",
           1133.272
          ],
          [
           "Navarrevisca",
           1125.35
          ],
          [
           "Navatalgordo",
           1277.847
          ],
          [
           "Navatejares",
           1045.835
          ],
          [
           "Neila de San Miguel",
           1163.344
          ],
          [
           "Niharra",
           1092.125
          ],
          [
           "Ojos-Albos",
           1228.249
          ],
          [
           "Orbita",
           868.4173
          ],
          [
           "Padiernos",
           1106
          ],
          [
           "Pajares de Adaja",
           881.6708
          ],
          [
           "Palacios de Goda",
           820.0026
          ],
          [
           "Papatrigo",
           889
          ],
          [
           "Pascualcobo",
           1065.825
          ],
          [
           "Pedro Bernardo",
           802.8278
          ],
          [
           "Pedro-Rodríguez",
           877.0702
          ],
          [
           "Peguerinos",
           1361.598
          ],
          [
           "Peñalba de Ávila",
           1073.66
          ],
          [
           "Piedrahíta",
           1064.406
          ],
          [
           "Piedralaves",
           712.4528
          ],
          [
           "Poveda",
           1201.02
          ],
          [
           "Poyales del Hoyo",
           554.1748
          ],
          [
           "Pozanco",
           909.6544
          ],
          [
           "Pradosegar",
           1171.21
          ],
          [
           "Puerto Castilla",
           1169.832
          ],
          [
           "Rasueros",
           831.9698
          ],
          [
           "Riocabado",
           909.7188
          ],
          [
           "Riofrío",
           1186.845
          ],
          [
           "Rivilla de Barajas",
           899.2758
          ],
          [
           "Salobral",
           1087.409
          ],
          [
           "Salvadiós",
           951.5007
          ],
          [
           "San Bartolomé de Béjar",
           1120.649
          ],
          [
           "San Bartolomé de Corneja",
           993.1846
          ],
          [
           "San Bartolomé de Pinares",
           1047.196
          ],
          [
           "Sanchidrián",
           924.6989
          ],
          [
           "Sanchorreja",
           1312.153
          ],
          [
           "San Esteban de los Patos",
           1118.933
          ],
          [
           "San Esteban del Valle",
           795.9105
          ],
          [
           "San Esteban de Zapardiel",
           780.4639
          ],
          [
           "San García de Ingelmos",
           1067
          ],
          [
           "San Juan de la Encinilla",
           913.4266
          ],
          [
           "San Juan de la Nava",
           1126.167
          ],
          [
           "San Juan del Molinillo",
           1141.855
          ],
          [
           "San Juan del Olmo",
           1287.153
          ],
          [
           "San Lorenzo de Tormes",
           1028.796
          ],
          [
           "San Martín de la Vega del Alberche",
           1510.816
          ],
          [
           "San Martín del Pimpollar",
           1336.265
          ],
          [
           "San Miguel de Corneja",
           1063.416
          ],
          [
           "San Miguel de Serrezuela",
           1094.398
          ],
          [
           "San Pascual",
           883.3102
          ],
          [
           "San Pedro del Arroyo",
           938.8323
          ],
          [
           "Santa Cruz del Valle",
           733.2361
          ],
          [
           "Santa Cruz de Pinares",
           1004.647
          ],
          [
           "Santa María del Arroyo",
           1130.864
          ],
          [
           "Santa María del Berrocal",
           1051.094
          ],
          [
           "Santa María de los Caballeros",
           1041.178
          ],
          [
           "Santa María del Tiétar",
           695.9569
          ],
          [
           "Santiago del Collado",
           1221.392
          ],
          [
           "Santo Domingo de las Posadas",
           928.1381
          ],
          [
           "Santo Tomé de Zabarcos",
           958.0378
          ],
          [
           "San Vicente de Arévalo",
           877.5375
          ],
          [
           "Serranillos",
           1222.104
          ],
          [
           "Sigeres",
           962.441
          ],
          [
           "Sinlabajos",
           826.5585
          ],
          [
           "Solana de Ávila",
           1148.975
          ],
          [
           "Solana de Rioalmar",
           1122.234
          ],
          [
           "Solosancho",
           1120.799
          ],
          [
           "Sotalbo",
           1159.905
          ],
          [
           "Sotillo de la Adrada",
           643.7815
          ],
          [
           "Tiñosillos",
           872.8295
          ],
          [
           "Tolbaños",
           1112.758
          ],
          [
           "Tormellas",
           1063.159
          ],
          [
           "Tornadizos de Ávila",
           1197.256
          ],
          [
           "Tórtoles",
           1242.698
          ],
          [
           "Umbrías",
           1102.692
          ],
          [
           "Vadillo de la Sierra",
           1347.321
          ],
          [
           "Valdecasa",
           1367.423
          ],
          [
           "Vega de Santa María",
           946.2527
          ],
          [
           "Velayos",
           937.4861
          ],
          [
           "Villaflor",
           981.3378
          ],
          [
           "Villafranca de la Sierra",
           1105.417
          ],
          [
           "Villanueva de Gómez",
           888.3561
          ],
          [
           "Villanueva del Aceral",
           846.7498
          ],
          [
           "Villanueva del Campillo",
           1446.368
          ],
          [
           "Villar de Corneja",
           998.0105
          ],
          [
           "Villarejo del Valle",
           830.5555
          ],
          [
           "Villatoro",
           1195.601
          ],
          [
           "Viñegra de Moraña",
           907.2875
          ],
          [
           "Vita",
           991.2439
          ],
          [
           "Zapardiel de la Cañada",
           1143.392
          ],
          [
           "Zapardiel de la Ribera",
           1356.206
          ],
          [
           "San Juan de Gredos",
           1530.967
          ],
          [
           "Santa María del Cubillo",
           1212.193
          ],
          [
           "Diego del Carpio",
           1018.423
          ],
          [
           "Santiago del Tormes",
           1539.357
          ],
          [
           "Villanueva de Ávila",
           1060.641
          ],
          [
           "Acedera",
           308.0381
          ],
          [
           "Aceuchal",
           307
          ],
          [
           "Ahillones",
           579.7605
          ],
          [
           "Alange",
           322.5832
          ],
          [
           "Alburquerque",
           442.164
          ],
          [
           "Alconchel",
           284.3204
          ],
          [
           "Alconera",
           518.1642
          ],
          [
           "Aljucén",
           249.3199
          ],
          [
           "Almendral",
           329.3619
          ],
          [
           "Almendralejo",
           336.7314
          ],
          [
           "Arroyo de San Serván",
           225.0338
          ],
          [
           "Atalaya",
           503.989
          ],
          [
           "Azuaga",
           588.9749
          ],
          [
           "Badajoz",
           192.0375
          ],
          [
           "Barcarrota",
           488.5576
          ],
          [
           "Baterno",
           561.4879
          ],
          [
           "Benquerencia de la Serena",
           668.4374
          ],
          [
           "Berlanga",
           567.5744
          ],
          [
           "Bienvenida",
           610.3852
          ],
          [
           "Bodonal de la Sierra",
           611.0769
          ],
          [
           "Burguillos del Cerro",
           404.4514
          ],
          [
           "Cabeza del Buey",
           536.211
          ],
          [
           "Cabeza la Vaca",
           759.3353
          ],
          [
           "Calamonte",
           225.6309
          ],
          [
           "Calera de León",
           698.5616
          ],
          [
           "Calzadilla de los Barros",
           560.012
          ],
          [
           "Campanario",
           399.8418
          ],
          [
           "Campillo de Llerena",
           499.8665
          ],
          [
           "Capilla",
           494.1088
          ],
          [
           "Carmonita",
           380.518
          ],
          [
           "Casas de Don Pedro",
           386.5399
          ],
          [
           "Casas de Reina",
           633.2156
          ],
          [
           "Castilblanco",
           503.2614
          ],
          [
           "Castuera",
           507.8511
          ],
          [
           "Cordobilla de Lácara",
           304.6748
          ],
          [
           "Corte de Peleas",
           242.0632
          ],
          [
           "Cristina",
           292.6012
          ],
          [
           "Cheles",
           196.9729
          ],
          [
           "Don Álvaro",
           261.4249
          ],
          [
           "Don Benito",
           286.0323
          ],
          [
           "Entrín Bajo",
           243.4635
          ],
          [
           "Esparragalejo",
           221.896
          ],
          [
           "Esparragosa de la Serena",
           454.5637
          ],
          [
           "Esparragosa de Lares",
           471.0262
          ],
          [
           "Feria",
           558.8891
          ],
          [
           "Fregenal de la Sierra",
           563.0306
          ],
          [
           "Fuenlabrada de los Montes",
           544.9579
          ],
          [
           "Fuente de Cantos",
           583.8423
          ],
          [
           "Fuente del Arco",
           698.8098
          ],
          [
           "Fuente del Maestre",
           445.575
          ],
          [
           "Fuentes de León",
           759.8053
          ],
          [
           "Garbayuela",
           487.4009
          ],
          [
           "Garlitos",
           538.7179
          ],
          [
           "Granja de Torrehermosa",
           590.6907
          ],
          [
           "Guareña",
           285.5005
          ],
          [
           "Helechosa de los Montes",
           441.6037
          ],
          [
           "Herrera del Duque",
           459.3652
          ],
          [
           "Higuera de la Serena",
           476.8962
          ],
          [
           "Higuera de Llerena",
           517.9836
          ],
          [
           "Higuera de Vargas",
           361.537
          ],
          [
           "Higuera la Real",
           623.5339
          ],
          [
           "Hinojosa del Valle",
           441.5001
          ],
          [
           "Hornachos",
           484.8826
          ],
          [
           "Jerez de los Caballeros",
           486.1686
          ],
          [
           "Lobón",
           242.9643
          ],
          [
           "Llera",
           488.1218
          ],
          [
           "Llerena",
           644.6722
          ],
          [
           "Magacela",
           473.8124
          ],
          [
           "Maguilla",
           527.6955
          ],
          [
           "Malcocinado",
           625.1129
          ],
          [
           "Malpartida de la Serena",
           483.3142
          ],
          [
           "Manchita",
           335.4408
          ],
          [
           "Medellín",
           250.0114
          ],
          [
           "Medina de las Torres",
           526.7921
          ],
          [
           "Mengabril",
           253
          ],
          [
           "Mérida",
           227.433
          ],
          [
           "Mirandilla",
           294.3425
          ],
          [
           "Monesterio",
           754.8566
          ],
          [
           "Montemolín",
           617.7222
          ],
          [
           "Monterrubio de la Serena",
           553.7913
          ],
          [
           "Montijo",
           203.0528
          ],
          [
           "Navalvillar de Pela",
           349.6248
          ],
          [
           "Nogales",
           372.3395
          ],
          [
           "Oliva de la Frontera",
           376.0301
          ],
          [
           "Oliva de Mérida",
           322.3082
          ],
          [
           "Olivenza",
           258.1104
          ],
          [
           "Orellana de la Sierra",
           398.1514
          ],
          [
           "Orellana la Vieja",
           359.3995
          ],
          [
           "Palomas",
           322.4935
          ],
          [
           "Peñalsordo",
           431.0298
          ],
          [
           "Peraleda del Zaucejo",
           542.9088
          ],
          [
           "Puebla de Alcocer",
           534.4778
          ],
          [
           "Puebla de la Calzada",
           191.7965
          ],
          [
           "Puebla de la Reina",
           375.599
          ],
          [
           "Puebla del Maestre",
           554.0134
          ],
          [
           "Puebla del Prior",
           381.7524
          ],
          [
           "Puebla de Obando",
           380.0834
          ],
          [
           "Puebla de Sancho Pérez",
           522.9659
          ],
          [
           "Quintana de la Serena",
           409.9685
          ],
          [
           "Reina",
           717.8853
          ],
          [
           "Rena",
           261.9456
          ],
          [
           "Retamal de Llerena",
           464.8723
          ],
          [
           "Ribera del Fresno",
           398.8069
          ],
          [
           "Risco",
           493.8158
          ],
          [
           "Salvaleón",
           529.4485
          ],
          [
           "Salvatierra de los Barros",
           625.0818
          ],
          [
           "Sancti-Spíritus",
           486.562
          ],
          [
           "San Pedro de Mérida",
           281.0936
          ],
          [
           "Santa Amalia",
           255.474
          ],
          [
           "Santa Marta",
           345.2148
          ],
          [
           "San Vicente de Alcántara",
           502.4301
          ],
          [
           "Segura de León",
           681.7979
          ],
          [
           "Siruela",
           512.6407
          ],
          [
           "Solana de los Barros",
           266.4142
          ],
          [
           "Talarrubias",
           439.8815
          ],
          [
           "Talavera la Real",
           187.5183
          ],
          [
           "Táliga",
           304.307
          ],
          [
           "Tamurejo",
           546.1544
          ],
          [
           "Torre de Miguel Sesmero",
           323.1891
          ],
          [
           "Torremayor",
           195.9215
          ],
          [
           "Torremejía",
           291.6581
          ],
          [
           "Trasierra",
           700.4008
          ],
          [
           "Trujillanos",
           257.3852
          ],
          [
           "Usagre",
           561.4595
          ],
          [
           "Valdecaballeros",
           383.3043
          ],
          [
           "Valdetorres",
           244.8665
          ],
          [
           "Valencia de las Torres",
           514.027
          ],
          [
           "Valencia del Mombuey",
           295.6457
          ],
          [
           "Valencia del Ventoso",
           496.0627
          ],
          [
           "Valverde de Burguillos",
           412.0819
          ],
          [
           "Valverde de Leganés",
           291.0059
          ],
          [
           "Valverde de Llerena",
           575.8016
          ],
          [
           "Valverde de Mérida",
           271.6688
          ],
          [
           "Valle de la Serena",
           429.2383
          ],
          [
           "Valle de Matamoros",
           588.3872
          ],
          [
           "Valle de Santa Ana",
           492.5686
          ],
          [
           "Villafranca de los Barros",
           424.6475
          ],
          [
           "Villagarcía de la Torre",
           592.4898
          ],
          [
           "Villagonzalo",
           238.0459
          ],
          [
           "Villalba de los Barros",
           310.169
          ],
          [
           "Villanueva de la Serena",
           298.9061
          ],
          [
           "Villanueva del Fresno",
           255.68
          ],
          [
           "Villar del Rey",
           247.6167
          ],
          [
           "Villar de Rena",
           268.562
          ],
          [
           "Villarta de los Montes",
           546.1343
          ],
          [
           "Zafra",
           517.2546
          ],
          [
           "Zahínos",
           345.8639
          ],
          [
           "Zalamea de la Serena",
           482.5517
          ],
          [
           "Zarza-Capilla",
           533.903
          ],
          [
           "Valdelacalzada",
           184.8226
          ],
          [
           "Pueblonuevo del Guadiana",
           181.9205
          ],
          [
           "Abrera",
           109.4215
          ],
          [
           "Aguilar de Segarra",
           485.7191
          ],
          [
           "Alella",
           98.87153
          ],
          [
           "Alpens",
           871.324
          ],
          [
           "Arenys de Mar",
           13.99495
          ],
          [
           "Arenys de Munt",
           135.549
          ],
          [
           "Argençola",
           713.9279
          ],
          [
           "Argentona",
           92.69514
          ],
          [
           "Artés",
           318.0594
          ],
          [
           "Avià",
           666.2902
          ],
          [
           "Avinyó",
           358.056
          ],
          [
           "Avinyonet del Penedès",
           283.9233
          ],
          [
           "Aiguafreda",
           410.6152
          ],
          [
           "Badalona",
           16.7426
          ],
          [
           "Bagà",
           756.5488
          ],
          [
           "Balenyà",
           593.3597
          ],
          [
           "Balsareny",
           332.1174
          ],
          [
           "Barcelona",
           19.99069
          ],
          [
           "Begues",
           371.5191
          ],
          [
           "Bellprat",
           644.4128
          ],
          [
           "Berga",
           717.4442
          ],
          [
           "Borredà",
           854.1898
          ],
          [
           "Cabrera d'Anoia",
           298.3023
          ],
          [
           "Cabrera de Mar",
           91.71696
          ],
          [
           "Cabrils",
           143.7525
          ],
          [
           "Calaf",
           682.8802
          ],
          [
           "Caldes d'Estrac",
           26.84373
          ],
          [
           "Caldes de Montbui",
           207.0234
          ],
          [
           "Calders",
           553.9763
          ],
          [
           "Calella",
           11.84439
          ],
          [
           "Calonge de Segarra",
           600.3174
          ],
          [
           "Calldetenes",
           492.9868
          ],
          [
           "Callús",
           259.3951
          ],
          [
           "Campins",
           326.2226
          ],
          [
           "Canet de Mar",
           20.65502
          ],
          [
           "Canovelles",
           152.383
          ],
          [
           "Cànoves i Samalús",
           353.0184
          ],
          [
           "Canyelles",
           141.6833
          ],
          [
           "Capellades",
           371.6293
          ],
          [
           "Capolat",
           1256.905
          ],
          [
           "Cardedeu",
           195.9439
          ],
          [
           "Cardona",
           513.4745
          ],
          [
           "Carme",
           333.2925
          ],
          [
           "Casserres",
           589.9404
          ],
          [
           "Castellar del Riu",
           1513.436
          ],
          [
           "Castellar del Vallès",
           326.716
          ],
          [
           "Castellar de n'Hug",
           1395.379
          ],
          [
           "Castellbell i el Vilar",
           204.0168
          ],
          [
           "Castellbisbal",
           155.6016
          ],
          [
           "Castellcir",
           777.0593
          ],
          [
           "Castelldefels",
           11.07469
          ],
          [
           "Castell de l'Areny",
           968.3701
          ],
          [
           "Castellet i la Gornal",
           136.4205
          ],
          [
           "Castellfollit del Boix",
           698.686
          ],
          [
           "Castellfollit de Riubregós",
           490.0403
          ],
          [
           "Castellgalí",
           253.3427
          ],
          [
           "Castellnou de Bages",
           495.1176
          ],
          [
           "Castellolí",
           398.4724
          ],
          [
           "Castellterçol",
           726.6985
          ],
          [
           "Castellví de la Marca",
           245.9974
          ],
          [
           "Castellví de Rosanes",
           180.9096
          ],
          [
           "Centelles",
           520.1739
          ],
          [
           "Cervelló",
           124.1015
          ],
          [
           "Collbató",
           356.3489
          ],
          [
           "Collsuspina",
           903.0676
          ],
          [
           "Copons",
           427.6519
          ],
          [
           "Corbera de Llobregat",
           247.6125
          ],
          [
           "Cornellà de Llobregat",
           34.61025
          ],
          [
           "Cubelles",
           17.76687
          ],
          [
           "Dosrius",
           145.7481
          ],
          [
           "Esparreguera",
           186.3232
          ],
          [
           "Esplugues de Llobregat",
           102.3782
          ],
          [
           "Fígols",
           1165.989
          ],
          [
           "Fogars de Montclús",
           387.6345
          ],
          [
           "Fogars de la Selva",
           103.0012
          ],
          [
           "Folgueroles",
           549.4312
          ],
          [
           "Fonollosa",
           543.1286
          ],
          [
           "Font-rubí",
           570.7221
          ],
          [
           "Gallifa",
           499.525
          ],
          [
           "Gavà",
           17.60962
          ],
          [
           "Gaià",
           476.878
          ],
          [
           "Gelida",
           179.6132
          ],
          [
           "Gironella",
           448.126
          ],
          [
           "Gisclareny",
           1322.767
          ],
          [
           "Granera",
           770.4465
          ],
          [
           "Granollers",
           153.9423
          ],
          [
           "Gualba",
           179.8176
          ],
          [
           "Sant Salvador de Guardiola",
           328.5852
          ],
          [
           "Guardiola de Berguedà",
           736.9873
          ],
          [
           "Gurb",
           510.7029
          ],
          [
           "Igualada",
           324.2647
          ],
          [
           "Jorba",
           392.2477
          ],
          [
           "Llinars del Vallès",
           188.906
          ],
          [
           "Lliçà d'Amunt",
           130.7585
          ],
          [
           "Lliçà de Vall",
           116.4834
          ],
          [
           "Lluçà",
           751.5039
          ],
          [
           "Malgrat de Mar",
           9.097663
          ],
          [
           "Malla",
           575.686
          ],
          [
           "Manlleu",
           453.0776
          ],
          [
           "Manresa",
           236.034
          ],
          [
           "Martorell",
           66.23137
          ],
          [
           "Martorelles",
           115.5095
          ],
          [
           "Masquefa",
           258.067
          ],
          [
           "Matadepera",
           421.1513
          ],
          [
           "Mataró",
           20.37009
          ],
          [
           "Mediona",
           526.9124
          ],
          [
           "Molins de Rei",
           33.16643
          ],
          [
           "Mollet del Vallès",
           74.09034
          ],
          [
           "Montcada i Reixac",
           37.0056
          ],
          [
           "Montgat",
           22.97567
          ],
          [
           "Monistrol de Montserrat",
           168.2423
          ],
          [
           "Monistrol de Calders",
           452.798
          ],
          [
           "Muntanyola",
           802.8712
          ],
          [
           "Montclar",
           699.5048
          ],
          [
           "Montesquiu",
           575.4601
          ],
          [
           "Montmajor",
           757.0117
          ],
          [
           "Montmaneu",
           714.0361
          ],
          [
           "Figaró-Montmany",
           326.0451
          ],
          [
           "Montmeló",
           84.53434
          ],
          [
           "Montornès del Vallès",
           100.0693
          ],
          [
           "Montseny",
           535.3168
          ],
          [
           "Moià",
           730.1093
          ],
          [
           "Mura",
           470.6466
          ],
          [
           "Navarcles",
           255.0479
          ],
          [
           "Navàs",
           371.9668
          ],
          [
           "Òdena",
           404.7818
          ],
          [
           "Olvan",
           566.9895
          ],
          [
           "Olèrdola",
           179.9567
          ],
          [
           "Olesa de Bonesvalls",
           273.3946
          ],
          [
           "Olesa de Montserrat",
           105.909
          ],
          [
           "Olivella",
           207.4666
          ],
          [
           "Olost",
           572.0165
          ],
          [
           "Orís",
           570.6917
          ],
          [
           "Oristà",
           467.3857
          ],
          [
           "Orpí",
           482.553
          ],
          [
           "Òrrius",
           254.5491
          ],
          [
           "Pacs del Penedès",
           210.873
          ],
          [
           "Palafolls",
           10.6715
          ],
          [
           "Palau-solità i Plegamans",
           137.2143
          ],
          [
           "Pallejà",
           43.74018
          ],
          [
           "Parets del Vallès",
           97.48323
          ],
          [
           "Perafita",
           753.5203
          ],
          [
           "Piera",
           282.576
          ],
          [
           "Pineda de Mar",
           12.10963
          ],
          [
           "Polinyà",
           129.1282
          ],
          [
           "Pontons",
           588.9841
          ],
          [
           "Prats de Lluçanès",
           709.0973
          ],
          [
           "Premià de Mar",
           13.17984
          ],
          [
           "Puigdàlber",
           239.9502
          ],
          [
           "Puig-reig",
           444.6947
          ],
          [
           "Pujalt",
           749.2104
          ],
          [
           "Rajadell",
           343.1941
          ],
          [
           "Rellinars",
           344.744
          ],
          [
           "Ripollet",
           81.84142
          ],
          [
           "Roda de Ter",
           454.8112
          ],
          [
           "Rubí",
           133.4794
          ],
          [
           "Rubió",
           600.4712
          ],
          [
           "Sabadell",
           198.7852
          ],
          [
           "Sagàs",
           712.4318
          ],
          [
           "Sant Pere Sallavinera",
           587.7723
          ],
          [
           "Saldes",
           1233.967
          ],
          [
           "Sallent",
           279.7943
          ],
          [
           "Santpedor",
           324.6286
          ],
          [
           "Sant Iscle de Vallalta",
           127
          ],
          [
           "Sant Adrià de Besòs",
           18.77083
          ],
          [
           "Sant Agustí de Lluçanès",
           831.834
          ],
          [
           "Sant Andreu de la Barca",
           48.89596
          ],
          [
           "Sant Andreu de Llavaneres",
           112.0381
          ],
          [
           "Sant Antoni de Vilamajor",
           260.0836
          ],
          [
           "Sant Bartomeu del Grau",
           877.1983
          ],
          [
           "Sant Boi de Llobregat",
           22.73825
          ],
          [
           "Sant Boi de Lluçanès",
           807
          ],
          [
           "Sant Celoni",
           157.3233
          ],
          [
           "Sant Cebrià de Vallalta",
           77.32714
          ],
          [
           "Sant Climent de Llobregat",
           80.42606
          ],
          [
           "Sant Cugat del Vallès",
           130.2749
          ],
          [
           "Sant Cugat Sesgarrigues",
           269.0334
          ],
          [
           "Sant Esteve de Palautordera",
           237.4874
          ],
          [
           "Sant Esteve Sesrovires",
           178.7557
          ],
          [
           "Sant Fost de Campsentelles",
           112.3262
          ],
          [
           "Sant Feliu de Codines",
           486.7332
          ],
          [
           "Sant Feliu de Llobregat",
           31.72373
          ],
          [
           "Sant Feliu Sasserra",
           617.3484
          ],
          [
           "Sant Fruitós de Bages",
           261.4637
          ],
          [
           "Vilassar de Dalt",
           133.6058
          ],
          [
           "Sant Hipòlit de Voltregà",
           531.1494
          ],
          [
           "Sant Jaume de Frontanyà",
           1074.112
          ],
          [
           "Sant Joan Despí",
           20.53358
          ],
          [
           "Sant Joan de Vilatorrada",
           228.8402
          ],
          [
           "Vilassar de Mar",
           10.80674
          ],
          [
           "Sant Julià de Vilatorta",
           599.2924
          ],
          [
           "Sant Just Desvern",
           122.1042
          ],
          [
           "Sant Llorenç d'Hortons",
           216.0685
          ],
          [
           "Sant Llorenç Savall",
           487.5616
          ],
          [
           "Sant Martí de Centelles",
           724.98
          ],
          [
           "Sant Martí d'Albars",
           628.8278
          ],
          [
           "Sant Martí de Tous",
           444.6292
          ],
          [
           "Sant Martí Sarroca",
           296.2319
          ],
          [
           "Sant Martí Sesgueioles",
           646.0749
          ],
          [
           "Sant Mateu de Bages",
           572.9196
          ],
          [
           "Premià de Dalt",
           133.3237
          ],
          [
           "Sant Pere de Ribes",
           45.06723
          ],
          [
           "Sant Pere de Riudebitlles",
           252.1739
          ],
          [
           "Sant Pere de Torelló",
           621.7791
          ],
          [
           "Sant Pere de Vilamajor",
           298.7486
          ],
          [
           "Sant Pol de Mar",
           13.29345
          ],
          [
           "Sant Quintí de Mediona",
           333.5246
          ],
          [
           "Sant Quirze de Besora",
           572.5922
          ],
          [
           "Sant Quirze del Vallès",
           165.9138
          ],
          [
           "Sant Quirze Safaja",
           603.6134
          ],
          [
           "Sant Sadurní d'Anoia",
           168.4416
          ],
          [
           "Sant Sadurní d'Osormort",
           533.9646
          ],
          [
           "Marganell",
           313.6546
          ],
          [
           "Santa Cecília de Voltregà",
           522.2773
          ],
          [
           "Santa Coloma de Cervelló",
           76.92886
          ],
          [
           "Santa Coloma de Gramenet",
           37.66038
          ],
          [
           "Santa Eugènia de Berga",
           536.6241
          ],
          [
           "Santa Eulàlia de Riuprimer",
           575.5924
          ],
          [
           "Santa Eulàlia de Ronçana",
           221.9401
          ],
          [
           "Santa Fe del Penedès",
           239.9169
          ],
          [
           "Santa Margarida de Montbui",
           388.9097
          ],
          [
           "Santa Margarida i els Monjos",
           171.3222
          ],
          [
           "Barberà del Vallès",
           142.2961
          ],
          [
           "Santa Maria de Besora",
           871.7925
          ],
          [
           "Santa Maria de Merlès",
           518.8036
          ],
          [
           "Santa Maria de Martorelles",
           178.528
          ],
          [
           "Santa Maria de Miralles",
           553.0007
          ],
          [
           "Santa Maria d'Oló",
           515.0869
          ],
          [
           "Santa Maria de Palautordera",
           211.9186
          ],
          [
           "Santa Perpètua de Mogoda",
           81.15939
          ],
          [
           "Santa Susanna",
           50.67278
          ],
          [
           "Sant Vicenç de Castellet",
           175.3337
          ],
          [
           "Sant Vicenç dels Horts",
           32.74398
          ],
          [
           "Sant Vicenç de Montalt",
           177.863
          ],
          [
           "Sant Vicenç de Torelló",
           558.8644
          ],
          [
           "Cerdanyola del Vallès",
           87.2362
          ],
          [
           "Sentmenat",
           229.8691
          ],
          [
           "Cercs",
           749.4134
          ],
          [
           "Seva",
           672.0496
          ],
          [
           "Sitges",
           9.967733
          ],
          [
           "Sobremunt",
           881.4683
          ],
          [
           "Sora",
           695.3496
          ],
          [
           "Subirats",
           274.2937
          ],
          [
           "Súria",
           284.714
          ],
          [
           "Tavèrnoles",
           529.109
          ],
          [
           "Tagamanent",
           348.8652
          ],
          [
           "Talamanca",
           553.4589
          ],
          [
           "Taradell",
           633.068
          ],
          [
           "Terrassa",
           285.6018
          ],
          [
           "Tavertet",
           868.5259
          ],
          [
           "Teià",
           117.6808
          ],
          [
           "Tiana",
           124.7599
          ],
          [
           "Tona",
           602.5104
          ],
          [
           "Tordera",
           31.37682
          ],
          [
           "Torelló",
           507.7611
          ],
          [
           "Torrelavit",
           201.7227
          ],
          [
           "Torrelles de Foix",
           380.5124
          ],
          [
           "Torrelles de Llobregat",
           154.783
          ],
          [
           "Ullastrell",
           314.4088
          ],
          [
           "Vacarisses",
           406.7665
          ],
          [
           "Vallbona d'Anoia",
           297.2954
          ],
          [
           "Vallcebre",
           1127.919
          ],
          [
           "Vallgorguina",
           223.2106
          ],
          [
           "Vallirana",
           184.8448
          ],
          [
           "Vallromanes",
           155.1461
          ],
          [
           "Veciana",
           556.9959
          ],
          [
           "Vic",
           505.4679
          ],
          [
           "Vilada",
           724.7032
          ],
          [
           "Viladecavalls",
           265.7476
          ],
          [
           "Viladecans",
           19.77518
          ],
          [
           "Vilanova del Camí",
           313.7972
          ],
          [
           "Vilanova de Sau",
           557.92
          ],
          [
           "Vilobí del Penedès",
           284.1465
          ],
          [
           "Vilafranca del Penedès",
           230.5926
          ],
          [
           "Vilalba Sasserra",
           221.1936
          ],
          [
           "Vilanova i la Geltrú",
           25.03975
          ],
          [
           "Viver i Serrateix",
           724.3826
          ],
          [
           "Rupit i Pruit",
           843.8084
          ],
          [
           "Vilanova del Vallès",
           92.16563
          ],
          [
           "Sant Julià de Cerdanyola",
           967.7538
          ],
          [
           "Badia del Vallès",
           122.4438
          ],
          [
           "Abajas",
           837.949
          ],
          [
           "Adrada de Haza",
           824.687
          ],
          [
           "Aguas Cándidas",
           712.041
          ],
          [
           "Aguilar de Bureba",
           689.226
          ],
          [
           "Albillos",
           832.9681
          ],
          [
           "Alcocero de Mola",
           799.6028
          ],
          [
           "Alfoz de Bricia",
           847.3563
          ],
          [
           "Alfoz de Santa Gadea",
           882.3184
          ],
          [
           "Altable",
           711.29
          ],
          [
           "Ameyugo",
           553.5253
          ],
          [
           "Anguix",
           814.4943
          ],
          [
           "Aranda de Duero",
           805.1658
          ],
          [
           "Arandilla",
           885.0873
          ],
          [
           "Arauzo de Miel",
           1003.22
          ],
          [
           "Arauzo de Salce",
           944.5539
          ],
          [
           "Arauzo de Torre",
           922.907
          ],
          [
           "Arcos",
           851.1382
          ],
          [
           "Arenillas de Riopisuerga",
           788.459
          ],
          [
           "Arija",
           844.3306
          ],
          [
           "Arlanzón",
           995.9109
          ],
          [
           "Arraya de Oca",
           926.2366
          ],
          [
           "Atapuerca",
           953.9974
          ],
          [
           "Avellanosa de Muñó",
           870.7616
          ],
          [
           "Bahabón de Esgueva",
           916.0064
          ],
          [
           "Baños de Valdearados",
           870.1116
          ],
          [
           "Bañuelos de Bureba",
           784.2388
          ],
          [
           "Barbadillo de Herreros",
           1408.983
          ],
          [
           "Barbadillo del Mercado",
           955.1722
          ],
          [
           "Barbadillo del Pez",
           1053.858
          ],
          [
           "Barrio de Muñó",
           782.927
          ],
          [
           "Barrios de Colina",
           964.8784
          ],
          [
           "Basconcillos del Tozo",
           910.5488
          ],
          [
           "Bascuñana",
           800.0485
          ],
          [
           "Belbimbre",
           793.7833
          ],
          [
           "Belorado",
           773.8459
          ],
          [
           "Berberana",
           620.4984
          ],
          [
           "Berlangas de Roa",
           781.4107
          ],
          [
           "Berzosa de Bureba",
           679.3917
          ],
          [
           "Bozoó",
           572.3182
          ],
          [
           "Brazacorta",
           909.0886
          ],
          [
           "Briviesca",
           725
          ],
          [
           "Bugedo",
           533.7709
          ],
          [
           "Buniel",
           819.815
          ],
          [
           "Burgos",
           865.8016
          ],
          [
           "Busto de Bureba",
           708.1784
          ],
          [
           "Cabañes de Esgueva",
           885.2454
          ],
          [
           "Cabezón de la Sierra",
           1016.805
          ],
          [
           "Cavia",
           815.5443
          ],
          [
           "Caleruega",
           955.7069
          ],
          [
           "Campillo de Aranda",
           912.9706
          ],
          [
           "Campolara",
           971.9648
          ],
          [
           "Canicosa de la Sierra",
           1130.863
          ],
          [
           "Cantabrana",
           636.0662
          ],
          [
           "Carazo",
           1127.545
          ],
          [
           "Carcedo de Bureba",
           751.9003
          ],
          [
           "Carcedo de Burgos",
           989.6016
          ],
          [
           "Cardeñadijo",
           899.719
          ],
          [
           "Cardeñajimeno",
           924.9677
          ],
          [
           "Cardeñuela Riopico",
           926.5973
          ],
          [
           "Carrias",
           821.5297
          ],
          [
           "Cascajares de Bureba",
           802.5067
          ],
          [
           "Cascajares de la Sierra",
           927.9459
          ],
          [
           "Castellanos de Castro",
           873.9877
          ],
          [
           "Castildelgado",
           768.4348
          ],
          [
           "Castil de Peones",
           790.1807
          ],
          [
           "Castrillo de la Reina",
           978.027
          ],
          [
           "Castrillo de la Vega",
           808.438
          ],
          [
           "Castrillo del Val",
           942.9785
          ],
          [
           "Castrillo de Riopisuerga",
           816.8545
          ],
          [
           "Castrojeriz",
           816.0674
          ],
          [
           "Cayuela",
           821.8987
          ],
          [
           "Cebrecos",
           950.4548
          ],
          [
           "Celada del Camino",
           796.4451
          ],
          [
           "Cerezo de Río Tirón",
           650.4071
          ],
          [
           "Cerratón de Juarros",
           959.26
          ],
          [
           "Ciadoncha",
           789.7081
          ],
          [
           "Cillaperlata",
           540.39
          ],
          [
           "Cilleruelo de Abajo",
           915.1015
          ],
          [
           "Cilleruelo de Arriba",
           966.1483
          ],
          [
           "Ciruelos de Cervera",
           1019.25
          ],
          [
           "Cogollos",
           887.1991
          ],
          [
           "Condado de Treviño",
           561.0759
          ],
          [
           "Contreras",
           1023.346
          ],
          [
           "Coruña del Conde",
           907.8076
          ],
          [
           "Covarrubias",
           895.1803
          ],
          [
           "Cubillo del Campo",
           991.9786
          ],
          [
           "Cubo de Bureba",
           685
          ],
          [
           "Cuevas de San Clemente",
           1030.792
          ],
          [
           "Encío",
           588.3317
          ],
          [
           "Espinosa de Cervera",
           1030.725
          ],
          [
           "Espinosa del Camino",
           894.847
          ],
          [
           "Espinosa de los Monteros",
           753.3468
          ],
          [
           "Estépar",
           810.9069
          ],
          [
           "Fontioso",
           959.9049
          ],
          [
           "Frandovínez",
           823.8157
          ],
          [
           "Fresneda de la Sierra Tirón",
           983.1557
          ],
          [
           "Fresneña",
           843.5111
          ],
          [
           "Fresnillo de las Dueñas",
           803.7737
          ],
          [
           "Fresno de Río Tirón",
           706.4641
          ],
          [
           "Fresno de Rodilla",
           975.9765
          ],
          [
           "Frías",
           552.6826
          ],
          [
           "Fuentebureba",
           679.7742
          ],
          [
           "Fuentecén",
           823.7171
          ],
          [
           "Fuentelcésped",
           891.0616
          ],
          [
           "Fuentelisendo",
           829.7731
          ],
          [
           "Fuentemolinos",
           881.0905
          ],
          [
           "Fuentenebro",
           917.0896
          ],
          [
           "Fuentespina",
           824.6624
          ],
          [
           "Galbarros",
           942.7526
          ],
          [
           "Grijalba",
           813.0934
          ],
          [
           "Grisaleña",
           743.1436
          ],
          [
           "Gumiel de Izán",
           857.4003
          ],
          [
           "Gumiel de Mercado",
           836.8545
          ],
          [
           "Hacinas",
           999.0156
          ],
          [
           "Haza",
           902.7407
          ],
          [
           "Hontanas",
           864.0971
          ],
          [
           "Hontangas",
           839.5234
          ],
          [
           "Hontoria de la Cantera",
           942.0605
          ],
          [
           "Hontoria del Pinar",
           1059.013
          ],
          [
           "Hontoria de Valdearados",
           867.0024
          ],
          [
           "Hornillos del Camino",
           821.6969
          ],
          [
           "Hortigüela",
           937.3899
          ],
          [
           "Hoyales de Roa",
           795.561
          ],
          [
           "Huérmeces",
           886.0017
          ],
          [
           "Huerta de Arriba",
           1206.336
          ],
          [
           "Huerta de Rey",
           991.6105
          ],
          [
           "Humada",
           954.9947
          ],
          [
           "Hurones",
           915.0182
          ],
          [
           "Ibeas de Juarros",
           932.6844
          ],
          [
           "Ibrillos",
           739.1857
          ],
          [
           "Iglesiarrubia",
           886.8805
          ],
          [
           "Iglesias",
           850.6342
          ],
          [
           "Isar",
           835.423
          ],
          [
           "Itero del Castillo",
           775.8432
          ],
          [
           "Jaramillo de la Fuente",
           1056.931
          ],
          [
           "Jaramillo Quemado",
           975.7737
          ],
          [
           "Junta de Traslaloma",
           674.0426
          ],
          [
           "Junta de Villalba de Losa",
           665.9935
          ],
          [
           "Jurisdicción de Lara",
           991.6866
          ],
          [
           "Jurisdicción de San Zadornil",
           645.5733
          ],
          [
           "Lerma",
           861.3351
          ],
          [
           "Llano de Bureba",
           643.2963
          ],
          [
           "Madrigal del Monte",
           936.2405
          ],
          [
           "Madrigalejo del Monte",
           893.5258
          ],
          [
           "Mahamud",
           829.49
          ],
          [
           "Mambrilla de Castrejón",
           825.6786
          ],
          [
           "Mambrillas de Lara",
           991.4476
          ],
          [
           "Mamolar",
           1087.678
          ],
          [
           "Manciles",
           883.8896
          ],
          [
           "Mazuela",
           823.2963
          ],
          [
           "Mecerreyes",
           988.3194
          ],
          [
           "Medina de Pomar",
           600.9326
          ],
          [
           "Melgar de Fernamental",
           804.4712
          ],
          [
           "Merindad de Cuesta-Urria",
           914.2464
          ],
          [
           "Merindad de Montija",
           739.4695
          ],
          [
           "Merindad de Sotoscueva",
           760.6615
          ],
          [
           "Merindad de Valdeporres",
           754.3774
          ],
          [
           "Merindad de Valdivielso",
           594.3845
          ],
          [
           "Milagros",
           848.9799
          ],
          [
           "Miranda de Ebro",
           465.1602
          ],
          [
           "Miraveche",
           804.4718
          ],
          [
           "Modúbar de la Emparedada",
           887.0018
          ],
          [
           "Monasterio de la Sierra",
           1169.284
          ],
          [
           "Monasterio de Rodilla",
           877.2269
          ],
          [
           "Moncalvillo",
           1049.716
          ],
          [
           "Monterrubio de la Demanda",
           1209.271
          ],
          [
           "Montorio",
           945.1601
          ],
          [
           "Moradillo de Roa",
           919.9839
          ],
          [
           "Nava de Roa",
           785.074
          ],
          [
           "Navas de Bureba",
           764.6017
          ],
          [
           "Nebreda",
           916.8637
          ],
          [
           "Neila",
           1180.486
          ],
          [
           "Olmedillo de Roa",
           840.8633
          ],
          [
           "Olmillos de Muñó",
           807.4762
          ],
          [
           "Oña",
           585.5073
          ],
          [
           "Oquillas",
           913.3432
          ],
          [
           "Orbaneja Riopico",
           911.2252
          ],
          [
           "Padilla de Abajo",
           798.9708
          ],
          [
           "Padilla de Arriba",
           830.7649
          ],
          [
           "Padrones de Bureba",
           781.8212
          ],
          [
           "Palacios de la Sierra",
           1065.092
          ],
          [
           "Palacios de Riopisuerga",
           777.4734
          ],
          [
           "Palazuelos de la Sierra",
           1107.045
          ],
          [
           "Palazuelos de Muñó",
           786.5093
          ],
          [
           "Pampliega",
           807.5865
          ],
          [
           "Pancorbo",
           631.5779
          ],
          [
           "Pardilla",
           883.9958
          ],
          [
           "Partido de la Sierra en Tobalina",
           919.4133
          ],
          [
           "Pedrosa de Duero",
           840.3677
          ],
          [
           "Pedrosa del Páramo",
           943.9882
          ],
          [
           "Pedrosa del Príncipe",
           772.689
          ],
          [
           "Pedrosa de Río Úrbel",
           844.2335
          ],
          [
           "Peñaranda de Duero",
           863.9903
          ],
          [
           "Peral de Arlanza",
           774.4771
          ],
          [
           "Piérnigas",
           742.1521
          ],
          [
           "Pineda de la Sierra",
           1207.499
          ],
          [
           "Pineda Trasmonte",
           951.4017
          ],
          [
           "Pinilla de los Barruecos",
           1078.882
          ],
          [
           "Pinilla de los Moros",
           972.2211
          ],
          [
           "Pinilla Trasmonte",
           935.5198
          ],
          [
           "Poza de la Sal",
           756.3673
          ],
          [
           "Prádanos de Bureba",
           757.1823
          ],
          [
           "Pradoluengo",
           967.4692
          ],
          [
           "Presencio",
           812.668
          ],
          [
           "Puentedura",
           863.5676
          ],
          [
           "Quemada",
           845.9969
          ],
          [
           "Quintanabureba",
           685.0708
          ],
          [
           "Quintana del Pidio",
           845.543
          ],
          [
           "Quintanaélez",
           706.2351
          ],
          [
           "Quintanaortuño",
           866.8036
          ],
          [
           "Quintanapalla",
           926.6073
          ],
          [
           "Quintanar de la Sierra",
           1123.957
          ],
          [
           "Quintanavides",
           821.1276
          ],
          [
           "Quintanilla de la Mata",
           879.5328
          ],
          [
           "Quintanilla del Coco",
           944.5446
          ],
          [
           "Quintanilla San García",
           728.1328
          ],
          [
           "Quintanilla Vivar",
           847.6979
          ],
          [
           "Rabanera del Pinar",
           1089.831
          ],
          [
           "Rábanos",
           1169.908
          ],
          [
           "Rabé de las Calzadas",
           828.6588
          ],
          [
           "Rebolledo de la Torre",
           946.585
          ],
          [
           "Redecilla del Camino",
           742.664
          ],
          [
           "Redecilla del Campo",
           744.6154
          ],
          [
           "Regumiel de la Sierra",
           1119.525
          ],
          [
           "Reinoso",
           857.253
          ],
          [
           "Retuerta",
           898.2924
          ],
          [
           "Revilla del Campo",
           943.8928
          ],
          [
           "Revillarruz",
           887.4633
          ],
          [
           "Revilla Vallejera",
           790.5965
          ],
          [
           "Rezmondo",
           829.0405
          ],
          [
           "Riocavado de la Sierra",
           1138.1
          ],
          [
           "Roa",
           816.1801
          ],
          [
           "Rojas",
           722.4857
          ],
          [
           "Royuela de Río Franco",
           836.2991
          ],
          [
           "Rubena",
           907.232
          ],
          [
           "Rublacedo de Abajo",
           791.6646
          ],
          [
           "Rucandio",
           814.6119
          ],
          [
           "Salas de Bureba",
           636.4282
          ],
          [
           "Salas de los Infantes",
           955.1323
          ],
          [
           "Saldaña de Burgos",
           865.5466
          ],
          [
           "Salinillas de Bureba",
           864.7104
          ],
          [
           "San Adrián de Juarros",
           1046.845
          ],
          [
           "San Juan del Monte",
           840.6755
          ],
          [
           "San Mamés de Burgos",
           839.3281
          ],
          [
           "San Martín de Rubiales",
           807.8439
          ],
          [
           "San Millán de Lara",
           1091.387
          ],
          [
           "Santa Cecilia",
           838.1049
          ],
          [
           "Santa Cruz de la Salceda",
           877.335
          ],
          [
           "Santa Cruz del Valle Urbión",
           966.4688
          ],
          [
           "Santa Gadea del Cid",
           504.1093
          ],
          [
           "Santa Inés",
           855.8006
          ],
          [
           "Santa María del Campo",
           820.0243
          ],
          [
           "Santa María del Invierno",
           856.8571
          ],
          [
           "Santa María del Mercadillo",
           961.0493
          ],
          [
           "Santa Olalla de Bureba",
           842.1753
          ],
          [
           "Santibáñez de Esgueva",
           916.1117
          ],
          [
           "Santibáñez del Val",
           940.0613
          ],
          [
           "Santo Domingo de Silos",
           1003.193
          ],
          [
           "San Vicente del Valle",
           959.6901
          ],
          [
           "Sargentes de la Lora",
           1016.58
          ],
          [
           "Sarracín",
           861.6798
          ],
          [
           "Sasamón",
           822.8265
          ],
          [
           "Solarana",
           903.6647
          ],
          [
           "Sordillos",
           820.5914
          ],
          [
           "Sotillo de la Ribera",
           846.7383
          ],
          [
           "Sotragero",
           848.6204
          ],
          [
           "Sotresgudo",
           867.8129
          ],
          [
           "Susinos del Páramo",
           891.6351
          ],
          [
           "Tamarón",
           819.7283
          ],
          [
           "Tardajos",
           820.7985
          ],
          [
           "Tejada",
           1088.137
          ],
          [
           "Terradillos de Esgueva",
           871.492
          ],
          [
           "Tinieblas de la Sierra",
           1117.56
          ],
          [
           "Tobar",
           881.2235
          ],
          [
           "Tordómar",
           810.6567
          ],
          [
           "Torrecilla del Monte",
           940.4993
          ],
          [
           "Torregalindo",
           837.1947
          ],
          [
           "Torrelara",
           994.3602
          ],
          [
           "Torrepadre",
           804.0082
          ],
          [
           "Torresandino",
           855.1797
          ],
          [
           "Tórtoles de Esgueva",
           847.5756
          ],
          [
           "Tosantos",
           821.4364
          ],
          [
           "Trespaderne",
           553.7908
          ],
          [
           "Tubilla del Agua",
           765.2631
          ],
          [
           "Tubilla del Lago",
           890.4365
          ],
          [
           "Úrbel del Castillo",
           939.2537
          ],
          [
           "Vadocondes",
           811.2837
          ],
          [
           "Valdeande",
           953.6688
          ],
          [
           "Valdezate",
           819.2969
          ],
          [
           "Valdorros",
           902.2606
          ],
          [
           "Valmala",
           992.0233
          ],
          [
           "Vallarta de Bureba",
           716.6888
          ],
          [
           "Valle de Manzanedo",
           620.3103
          ],
          [
           "Valle de Mena",
           316.4509
          ],
          [
           "Valle de Oca",
           861.2545
          ],
          [
           "Valle de Tobalina",
           551.9635
          ],
          [
           "Valle de Valdebezana",
           837.9944
          ],
          [
           "Valle de Valdelaguna",
           1153.362
          ],
          [
           "Valle de Valdelucio",
           956.92
          ],
          [
           "Valle de Zamanzas",
           732.0581
          ],
          [
           "Vallejera",
           809.662
          ],
          [
           "Valles de Palenzuela",
           800.1052
          ],
          [
           "Valluércanes",
           702.7288
          ],
          [
           "Vileña",
           664.5483
          ],
          [
           "Viloria de Rioja",
           797.8878
          ],
          [
           "Vilviestre del Pinar",
           1125.399
          ],
          [
           "Villadiego",
           839.8806
          ],
          [
           "Villaescusa de Roa",
           897.6312
          ],
          [
           "Villaescusa la Sombría",
           905.8726
          ],
          [
           "Villaespasa",
           960.8056
          ],
          [
           "Villafranca Montes de Oca",
           957.1002
          ],
          [
           "Villafruela",
           909.7965
          ],
          [
           "Villagalijo",
           896.4912
          ],
          [
           "Villagonzalo Pedernales",
           901.259
          ],
          [
           "Villahoz",
           825.1154
          ],
          [
           "Villalba de Duero",
           812.4379
          ],
          [
           "Villalbilla de Burgos",
           840.6373
          ],
          [
           "Villalbilla de Gumiel",
           912.6685
          ],
          [
           "Villaldemiro",
           808.5146
          ],
          [
           "Villalmanzo",
           856.2233
          ],
          [
           "Villamayor de los Montes",
           886.0144
          ],
          [
           "Villamayor de Treviño",
           820.1368
          ],
          [
           "Villambistia",
           853.298
          ],
          [
           "Villamedianilla",
           799.8643
          ],
          [
           "Villamiel de la Sierra",
           1149.774
          ],
          [
           "Villangómez",
           845.0154
          ],
          [
           "Villanueva de Argaño",
           837.6054
          ],
          [
           "Villanueva de Carazo",
           1059.717
          ],
          [
           "Villanueva de Gumiel",
           844.9825
          ],
          [
           "Villanueva de Teba",
           722.023
          ],
          [
           "Villaquirán de la Puebla",
           812.8803
          ],
          [
           "Villaquirán de los Infantes",
           814.3567
          ],
          [
           "Villariezo",
           862.4636
          ],
          [
           "Villasandino",
           792.2771
          ],
          [
           "Villasur de Herreros",
           1030.04
          ],
          [
           "Villatuelda",
           858.7932
          ],
          [
           "Villaverde del Monte",
           848.5208
          ],
          [
           "Villaverde-Mogina",
           773.155
          ],
          [
           "Villayerno Morquillas",
           911.3355
          ],
          [
           "Villazopeque",
           782.1231
          ],
          [
           "Villegas",
           823
          ],
          [
           "Villoruebo",
           1121.721
          ],
          [
           "Vizcaínos",
           1025.813
          ],
          [
           "Zael",
           843.672
          ],
          [
           "Zarzosa de Río Pisuerga",
           821.7172
          ],
          [
           "Zazuar",
           839.9166
          ],
          [
           "Zuñeda",
           719.7062
          ],
          [
           "Quintanilla del Agua y Tordueles",
           886.2692
          ],
          [
           "Valle de Santibáñez",
           956.8112
          ],
          [
           "Villarcayo de Merindad de Castilla la Vieja",
           598.8633
          ],
          [
           "Valle de las Navas",
           880.0316
          ],
          [
           "Valle de Sedano",
           758.8844
          ],
          [
           "Merindad de Río Ubierna",
           965.3793
          ],
          [
           "Alfoz de Quintanadueñas",
           847.4794
          ],
          [
           "Valle de Losa",
           697.9474
          ],
          [
           "Abadía",
           452.6463
          ],
          [
           "Abertura",
           401.0113
          ],
          [
           "Acebo",
           514.3077
          ],
          [
           "Acehúche",
           338.1039
          ],
          [
           "Aceituna",
           484.0965
          ],
          [
           "Ahigal",
           389.4077
          ],
          [
           "Albalá",
           499.4348
          ],
          [
           "Alcántara",
           230.2392
          ],
          [
           "Alcollarín",
           314.6408
          ],
          [
           "Alcuéscar",
           473.301
          ],
          [
           "Aldeacentenera",
           566.658
          ],
          [
           "Aldea del Cano",
           397.4777
          ],
          [
           "Aldeanueva de la Vera",
           652.1578
          ],
          [
           "Aldeanueva del Camino",
           527.226
          ],
          [
           "Aldehuela de Jerte",
           260.1803
          ],
          [
           "Alía",
           578.4503
          ],
          [
           "Aliseda",
           325.5008
          ],
          [
           "Almaraz",
           272.2951
          ],
          [
           "Almoharín",
           305.6157
          ],
          [
           "Arroyo de la Luz",
           348.1518
          ],
          [
           "Arroyomolinos de la Vera",
           608.2899
          ],
          [
           "Arroyomolinos",
           397.1799
          ],
          [
           "Baños de Montemayor",
           700.7947
          ],
          [
           "Barrado",
           776.6094
          ],
          [
           "Belvís de Monroy",
           391.3559
          ],
          [
           "Benquerencia",
           444.9597
          ],
          [
           "Berrocalejo",
           375.8121
          ],
          [
           "Berzocana",
           718.6393
          ],
          [
           "Bohonal de Ibor",
           349.8538
          ],
          [
           "Botija",
           424.9815
          ],
          [
           "Brozas",
           410.4544
          ],
          [
           "Cabañas del Castillo",
           760.3389
          ],
          [
           "Cabezabellosa",
           855.8938
          ],
          [
           "Cabezuela del Valle",
           514.3602
          ],
          [
           "Cabrero",
           739.8882
          ],
          [
           "Cáceres",
           434.6162
          ],
          [
           "Cachorrilla",
           316.3804
          ],
          [
           "Cadalso",
           448.0928
          ],
          [
           "Calzadilla",
           359.1857
          ],
          [
           "Caminomorisco",
           467.3217
          ],
          [
           "Campillo de Deleitosa",
           491.2502
          ],
          [
           "Campo Lugar",
           303.4392
          ],
          [
           "Cañamero",
           609.7376
          ],
          [
           "Cañaveral",
           353.1965
          ],
          [
           "Carbajo",
           336.2229
          ],
          [
           "Carcaboso",
           275.1561
          ],
          [
           "Carrascalejo",
           591.9044
          ],
          [
           "Casar de Cáceres",
           366.4607
          ],
          [
           "Casar de Palomero",
           524.2137
          ],
          [
           "Casares de las Hurdes",
           688.3028
          ],
          [
           "Casas de Don Antonio",
           390.6183
          ],
          [
           "Casas de Don Gómez",
           322.1144
          ],
          [
           "Casas del Castañar",
           662.9862
          ],
          [
           "Casas del Monte",
           578.4438
          ],
          [
           "Casas de Millán",
           456.3329
          ],
          [
           "Casas de Miravete",
           442.9554
          ],
          [
           "Casatejada",
           273.4576
          ],
          [
           "Casillas de Coria",
           244.7277
          ],
          [
           "Castañar de Ibor",
           663.5353
          ],
          [
           "Ceclavín",
           329.5323
          ],
          [
           "Cedillo",
           265.7721
          ],
          [
           "Cerezo",
           394.5923
          ],
          [
           "Cilleros",
           448.878
          ],
          [
           "Conquista de la Sierra",
           441.5334
          ],
          [
           "Coria",
           239.4233
          ],
          [
           "Cuacos de Yuste",
           527.3668
          ],
          [
           "Deleitosa",
           566.3511
          ],
          [
           "Descargamaría",
           509.1357
          ],
          [
           "Eljas",
           578.0947
          ],
          [
           "Escurial",
           322.175
          ],
          [
           "Fresnedoso de Ibor",
           518.2465
          ],
          [
           "Galisteo",
           281.1528
          ],
          [
           "Garciaz",
           663.9293
          ],
          [
           "Garganta la Olla",
           587.8572
          ],
          [
           "Gargantilla",
           641.0802
          ],
          [
           "Gargüera",
           526.4066
          ],
          [
           "Garrovillas de Alconétar",
           326.4898
          ],
          [
           "Garvín",
           501.7299
          ],
          [
           "Gata",
           665.3049
          ],
          [
           "Guadalupe",
           616.1213
          ],
          [
           "Guijo de Coria",
           446.9364
          ],
          [
           "Guijo de Galisteo",
           428.5826
          ],
          [
           "Guijo de Granadilla",
           390.9599
          ],
          [
           "Guijo de Santa Bárbara",
           865.0514
          ],
          [
           "Herguijuela",
           464.2786
          ],
          [
           "Hernán-Pérez",
           440.8669
          ],
          [
           "Herrera de Alcántara",
           255.0923
          ],
          [
           "Herreruela",
           324.7979
          ],
          [
           "Hervás",
           664.4932
          ],
          [
           "Hinojal",
           348.0721
          ],
          [
           "Holguera",
           280.2364
          ],
          [
           "Hoyos",
           525.2888
          ],
          [
           "Huélaga",
           283.5962
          ],
          [
           "Ibahernando",
           536.6814
          ],
          [
           "Jaraicejo",
           504.3943
          ],
          [
           "Jaraíz de la Vera",
           568.9706
          ],
          [
           "Jarandilla de la Vera",
           604.6482
          ],
          [
           "Jarilla",
           480.6181
          ],
          [
           "Jerte",
           593.6707
          ],
          [
           "Ladrillar",
           709.2778
          ],
          [
           "Logrosán",
           482.4496
          ],
          [
           "Losar de la Vera",
           533.0191
          ],
          [
           "Madrigal de la Vera",
           407.2852
          ],
          [
           "Madrigalejo",
           294.8462
          ],
          [
           "Madroñera",
           591.7178
          ],
          [
           "Majadas",
           260.0658
          ],
          [
           "Malpartida de Cáceres",
           374.2109
          ],
          [
           "Malpartida de Plasencia",
           442.2609
          ],
          [
           "Marchagaz",
           516.7504
          ],
          [
           "Mata de Alcántara",
           344.6729
          ],
          [
           "Membrío",
           327.1987
          ],
          [
           "Mesas de Ibor",
           488.5139
          ],
          [
           "Miajadas",
           299.2762
          ],
          [
           "Millanes",
           361.245
          ],
          [
           "Mirabel",
           504.2706
          ],
          [
           "Mohedas de Granadilla",
           448.7007
          ],
          [
           "Monroy",
           378.6369
          ],
          [
           "Montánchez",
           696.2783
          ],
          [
           "Montehermoso",
           397.063
          ],
          [
           "Moraleja",
           261.4155
          ],
          [
           "Morcillo",
           272.8168
          ],
          [
           "Navaconcejo",
           477.2957
          ],
          [
           "Navalmoral de la Mata",
           315.4144
          ],
          [
           "Navalvillar de Ibor",
           667.4202
          ],
          [
           "Navas del Madroño",
           434.7237
          ],
          [
           "Navezuelas",
           941.8161
          ],
          [
           "Nuñomoral",
           496.7727
          ],
          [
           "Oliva de Plasencia",
           408.5221
          ],
          [
           "Palomero",
           453.1881
          ],
          [
           "Pasarón de la Vera",
           600.1179
          ],
          [
           "Pedroso de Acim",
           470.9969
          ],
          [
           "Peraleda de la Mata",
           334.5811
          ],
          [
           "Peraleda de San Román",
           472.4771
          ],
          [
           "Perales del Puerto",
           434.3814
          ],
          [
           "Pescueza",
           333.9729
          ],
          [
           "Piedras Albas",
           362.7316
          ],
          [
           "Pinofranqueado",
           457.8624
          ],
          [
           "Piornal",
           1169.494
          ],
          [
           "Plasencia",
           366.9232
          ],
          [
           "Plasenzuela",
           426.8089
          ],
          [
           "Portaje",
           377.8726
          ],
          [
           "Portezuelo",
           361.0681
          ],
          [
           "Pozuelo de Zarzón",
           465.7742
          ],
          [
           "Puerto de Santa Cruz",
           450.3737
          ],
          [
           "Rebollar",
           610.1049
          ],
          [
           "Riolobos",
           267.9027
          ],
          [
           "Robledillo de Gata",
           607.127
          ],
          [
           "Robledillo de la Vera",
           453.7922
          ],
          [
           "Robledillo de Trujillo",
           500.2191
          ],
          [
           "Robledollano",
           708.3437
          ],
          [
           "Romangordo",
           419.6048
          ],
          [
           "Ruanes",
           482.6433
          ],
          [
           "Salorino",
           328.6313
          ],
          [
           "Salvatierra de Santiago",
           438.1557
          ],
          [
           "San Martín de Trevejo",
           617.9815
          ],
          [
           "Santa Ana",
           488.676
          ],
          [
           "Santa Cruz de la Sierra",
           453.5517
          ],
          [
           "Santa Cruz de Paniagua",
           478.2463
          ],
          [
           "Santa Marta de Magasca",
           376.2589
          ],
          [
           "Santiago de Alcántara",
           346.0968
          ],
          [
           "Santiago del Campo",
           344.4483
          ],
          [
           "Santibáñez el Alto",
           645.5109
          ],
          [
           "Santibáñez el Bajo",
           374.1523
          ],
          [
           "Saucedilla",
           261.0471
          ],
          [
           "Segura de Toro",
           636.4227
          ],
          [
           "Serradilla",
           408.8365
          ],
          [
           "Serrejón",
           338.5384
          ],
          [
           "Sierra de Fuentes",
           439.375
          ],
          [
           "Talaván",
           402.4283
          ],
          [
           "Talaveruela de la Vera",
           574.3057
          ],
          [
           "Talayuela",
           287.0548
          ],
          [
           "Tejeda de Tiétar",
           446.3588
          ],
          [
           "Toril",
           258.9532
          ],
          [
           "Tornavacas",
           863.4183
          ],
          [
           "Torrecilla de los Ángeles",
           466.4605
          ],
          [
           "Torrecillas de la Tiesa",
           501.9348
          ],
          [
           "Torre de Don Miguel",
           555.9983
          ],
          [
           "Torre de Santa María",
           490.2715
          ],
          [
           "Torrejoncillo",
           323.6587
          ],
          [
           "Torrejón el Rubio",
           304.923
          ],
          [
           "Torremenga",
           528.885
          ],
          [
           "Torremocha",
           444.2932
          ],
          [
           "Torreorgaz",
           430.9886
          ],
          [
           "Torrequemada",
           441.6732
          ],
          [
           "Trujillo",
           529.2547
          ],
          [
           "Valdastillas",
           615.739
          ],
          [
           "Valdecañas de Tajo",
           368.6411
          ],
          [
           "Valdefuentes",
           478.5953
          ],
          [
           "Valdehúncar",
           372.1376
          ],
          [
           "Valdelacasa de Tajo",
           453.4802
          ],
          [
           "Valdemorales",
           440.133
          ],
          [
           "Valdeobispo",
           334.7701
          ],
          [
           "Valencia de Alcántara",
           462.1811
          ],
          [
           "Valverde de la Vera",
           504.3288
          ],
          [
           "Valverde del Fresno",
           492.8723
          ],
          [
           "Viandar de la Vera",
           548.8549
          ],
          [
           "Villa del Campo",
           469.004
          ],
          [
           "Villa del Rey",
           338.1065
          ],
          [
           "Villamesías",
           363.7874
          ],
          [
           "Villamiel",
           745.9667
          ],
          [
           "Villanueva de la Sierra",
           500.2086
          ],
          [
           "Villanueva de la Vera",
           512.8276
          ],
          [
           "Villar del Pedroso",
           495.528
          ],
          [
           "Villar de Plasencia",
           450.0623
          ],
          [
           "Villasbuenas de Gata",
           424.338
          ],
          [
           "Zarza de Granadilla",
           398.6644
          ],
          [
           "Zarza de Montánchez",
           452.4351
          ],
          [
           "Zarza la Mayor",
           303.9268
          ],
          [
           "Zorita",
           429.6986
          ],
          [
           "Rosalejo",
           278.185
          ],
          [
           "Alcalá de los Gazules",
           158.3963
          ],
          [
           "Alcalá del Valle",
           623.3366
          ],
          [
           "Algar",
           213.0833
          ],
          [
           "Algeciras",
           22.40544
          ],
          [
           "Algodonales",
           370.124
          ],
          [
           "Arcos de la Frontera",
           139.2057
          ],
          [
           "Barbate",
           15.97273
          ],
          [
           "Benaocaz",
           792.0704
          ],
          [
           "Bornos",
           153.5913
          ],
          [
           "Cádiz",
           15.42415
          ],
          [
           "Castellar de la Frontera",
           30.78278
          ],
          [
           "Conil de la Frontera",
           33.70992
          ],
          [
           "Chiclana de la Frontera",
           13.2455
          ],
          [
           "Chipiona",
           11.72497
          ],
          [
           "Espera",
           147.471
          ],
          [
           "Grazalema",
           830.5287
          ],
          [
           "Jerez de la Frontera",
           55.74849
          ],
          [
           "Jimena de la Frontera",
           131.443
          ],
          [
           "Olvera",
           606.7288
          ],
          [
           "Paterna de Rivera",
           125.9705
          ],
          [
           "Prado del Rey",
           423.1529
          ],
          [
           "Puerto Real",
           11.78617
          ],
          [
           "Puerto Serrano",
           162.2749
          ],
          [
           "Rota",
           14.28653
          ],
          [
           "San Fernando",
           21.14313
          ],
          [
           "Sanlúcar de Barrameda",
           11.0011
          ],
          [
           "San Roque",
           106.1072
          ],
          [
           "Setenil de las Bodegas",
           555.0465
          ],
          [
           "Tarifa",
           14.66109
          ],
          [
           "Torre Alháquime",
           471.3644
          ],
          [
           "Trebujena",
           72.16942
          ],
          [
           "Ubrique",
           326.7233
          ],
          [
           "Vejer de la Frontera",
           178.6806
          ],
          [
           "Villaluenga del Rosario",
           874.9724
          ],
          [
           "Villamartín",
           167.8091
          ],
          [
           "Zahara",
           507.4048
          ],
          [
           "Benalup-Casas Viejas",
           75.25459
          ],
          [
           "San José del Valle",
           142.0624
          ],
          [
           "Atzeneta del Maestrat",
           405.6302
          ],
          [
           "Aín",
           497.9523
          ],
          [
           "Albocàsser",
           534.062
          ],
          [
           "Alcalà de Xivert",
           159.6516
          ],
          [
           "Alcudia de Veo",
           476.4656
          ],
          [
           "Alfondeguilla",
           217.8936
          ],
          [
           "Algimia de Almonacid",
           496.8173
          ],
          [
           "Almedíjar",
           400.144
          ],
          [
           "Almenara",
           39.3216
          ],
          [
           "Altura",
           405.5518
          ],
          [
           "Arañuel",
           413.3797
          ],
          [
           "Argelita",
           312.0536
          ],
          [
           "Artana",
           256.8818
          ],
          [
           "Ayódar",
           388.7343
          ],
          [
           "Azuébar",
           277.0367
          ],
          [
           "Barracas",
           985.0495
          ],
          [
           "Betxí",
           99.3914
          ],
          [
           "Bejís",
           762.8378
          ],
          [
           "Benafer",
           588.7029
          ],
          [
           "Benafigos",
           932.0203
          ],
          [
           "Benicarló",
           17.99488
          ],
          [
           "Borriol",
           189.3589
          ],
          [
           "Borriana/Burriana",
           20.2599
          ],
          [
           "Cabanes",
           282.71
          ],
          [
           "Càlig",
           120.5571
          ],
          [
           "Canet lo Roig",
           327.9641
          ],
          [
           "Castell de Cabres",
           1137.328
          ],
          [
           "Castellfort",
           1170.34
          ],
          [
           "Castellnovo",
           370.4679
          ],
          [
           "Castillo de Villamalefa",
           817.1827
          ],
          [
           "Catí",
           663.7772
          ],
          [
           "Caudiel",
           635.6085
          ],
          [
           "Cervera del Maestre",
           262.3612
          ],
          [
           "Cinctorres",
           907.1009
          ],
          [
           "Cirat",
           390.5959
          ],
          [
           "Cortes de Arenoso",
           970.9901
          ],
          [
           "Costur",
           459.0224
          ],
          [
           "Culla",
           1086.087
          ],
          [
           "Chilches/Xilxes",
           9.052402
          ],
          [
           "Chóvar",
           416.2556
          ],
          [
           "Eslida",
           346.7823
          ],
          [
           "Espadilla",
           275.2972
          ],
          [
           "Fanzara",
           224.8748
          ],
          [
           "Figueroles",
           366.5962
          ],
          [
           "Forcall",
           704.9049
          ],
          [
           "Fuente la Reina",
           813.2039
          ],
          [
           "Fuentes de Ayódar",
           505.947
          ],
          [
           "Gaibiel",
           515.2784
          ],
          [
           "Geldo",
           304.1663
          ],
          [
           "Higueras",
           668.3716
          ],
          [
           "Jérica",
           491.4277
          ],
          [
           "Ludiente",
           429.9383
          ],
          [
           "Matet",
           574.554
          ],
          [
           "Moncofa",
           8.799705
          ],
          [
           "Montán",
           554.3556
          ],
          [
           "Montanejos",
           471.2018
          ],
          [
           "Morella",
           932.5529
          ],
          [
           "Navajas",
           389.9204
          ],
          [
           "Nules",
           18
          ],
          [
           "Olocau del Rey",
           1041.123
          ],
          [
           "Onda",
           192.7921
          ],
          [
           "Palanques",
           670.4368
          ],
          [
           "Pavías",
           743.4716
          ],
          [
           "Peníscola/Peñíscola",
           6.325546
          ],
          [
           "Pina de Montalgrao",
           1035.532
          ],
          [
           "Portell de Morella",
           1073.041
          ],
          [
           "Puebla de Arenoso",
           631.926
          ],
          [
           "Ribesalbes",
           190.1019
          ],
          [
           "Rossell",
           462.5298
          ],
          [
           "Sacañet",
           1010.367
          ],
          [
           "Sant Jordi/San Jorge",
           102.6032
          ],
          [
           "Sant Mateu",
           331.4508
          ],
          [
           "San Rafael del Río",
           249.5198
          ],
          [
           "Santa Magdalena de Pulpis",
           123.8502
          ],
          [
           "Segorbe",
           375.6049
          ],
          [
           "Sierra Engarcerán",
           750.2902
          ],
          [
           "Soneja",
           267.8589
          ],
          [
           "Sot de Ferrer",
           235.5191
          ],
          [
           "Tales",
           247.6615
          ],
          [
           "Teresa",
           626.5689
          ],
          [
           "Tírig",
           468.7827
          ],
          [
           "Todolella",
           783.9756
          ],
          [
           "Toga",
           296.1505
          ],
          [
           "Torás",
           774.2517
          ],
          [
           "Torralba del Pinar",
           731.1648
          ],
          [
           "Torreblanca",
           34.1963
          ],
          [
           "Torrechiva",
           349.2405
          ],
          [
           "Traiguera",
           253.9798
          ],
          [
           "Vallat",
           263.3033
          ],
          [
           "Vall d'Alba",
           299.7388
          ],
          [
           "Vall de Almonacid",
           436.3145
          ],
          [
           "Vallibona",
           661.4194
          ],
          [
           "Vilafamés",
           318.6055
          ],
          [
           "Villahermosa del Río",
           739.1841
          ],
          [
           "Villamalur",
           638.889
          ],
          [
           "Vilanova d'Alcolea",
           349.054
          ],
          [
           "Villanueva de Viver",
           895.2736
          ],
          [
           "Vilar de Canes",
           663.0408
          ],
          [
           "Vila-real",
           46.86089
          ],
          [
           "Villores",
           732.9604
          ],
          [
           "Vinaròs",
           12.0655
          ],
          [
           "Viver",
           552.3644
          ],
          [
           "Zorita del Maestrazgo",
           652.5302
          ],
          [
           "Zucaina",
           813.7024
          ],
          [
           "Sant Joan de Moró",
           189.6783
          ],
          [
           "Abenójar",
           615.0128
          ],
          [
           "Agudo",
           570.6345
          ],
          [
           "Alamillo",
           446.2332
          ],
          [
           "Albaladejo",
           929.5974
          ],
          [
           "Alcázar de San Juan",
           645.0808
          ],
          [
           "Alcoba",
           639.0863
          ],
          [
           "Alcolea de Calatrava",
           651.9843
          ],
          [
           "Alcubillas",
           805.7009
          ],
          [
           "Aldea del Rey",
           668
          ],
          [
           "Alhambra",
           862.3749
          ],
          [
           "Almadén",
           575.5337
          ],
          [
           "Almadenejos",
           522.0008
          ],
          [
           "Almagro",
           649.1187
          ],
          [
           "Almedina",
           895.957
          ],
          [
           "Almodóvar del Campo",
           673.6144
          ],
          [
           "Almuradiel",
           808.8304
          ],
          [
           "Anchuras",
           548.6761
          ],
          [
           "Arenas de San Juan",
           627.8014
          ],
          [
           "Argamasilla de Alba",
           676.2275
          ],
          [
           "Argamasilla de Calatrava",
           677.0089
          ],
          [
           "Arroba de los Montes",
           623.9471
          ],
          [
           "Ballesteros de Calatrava",
           660.202
          ],
          [
           "Bolaños de Calatrava",
           649.2621
          ],
          [
           "Brazatortas",
           712.3827
          ],
          [
           "Cabezarados",
           687
          ],
          [
           "Cabezarrubias del Puerto",
           737.0226
          ],
          [
           "Calzada de Calatrava",
           648.8996
          ],
          [
           "Campo de Criptana",
           697.7733
          ],
          [
           "Cañada de Calatrava",
           644.0776
          ],
          [
           "Caracuel de Calatrava",
           643.8336
          ],
          [
           "Carrión de Calatrava",
           618.5354
          ],
          [
           "Carrizosa",
           822.2133
          ],
          [
           "Castellar de Santiago",
           830.7982
          ],
          [
           "Ciudad Real",
           636.7003
          ],
          [
           "Corral de Calatrava",
           594.7799
          ],
          [
           "Cózar",
           863.0718
          ],
          [
           "Chillón",
           526.6155
          ],
          [
           "Daimiel",
           628.4135
          ],
          [
           "Fernán Caballero",
           613.9147
          ],
          [
           "Fontanarejo",
           648.4183
          ],
          [
           "Fuencaliente",
           684.3738
          ],
          [
           "Fuenllana",
           909.6342
          ],
          [
           "Fuente el Fresno",
           694.6024
          ],
          [
           "Granátula de Calatrava",
           659.4633
          ],
          [
           "Guadalmez",
           363.9143
          ],
          [
           "Herencia",
           646.795
          ],
          [
           "Hinojosas de Calatrava",
           762.2877
          ],
          [
           "Horcajo de los Montes",
           586.9252
          ],
          [
           "Luciana",
           541.933
          ],
          [
           "Malagón",
           633.9963
          ],
          [
           "Manzanares",
           665.636
          ],
          [
           "Membrilla",
           667.7634
          ],
          [
           "Mestanza",
           742.0979
          ],
          [
           "Miguelturra",
           630.9375
          ],
          [
           "Montiel",
           900.929
          ],
          [
           "Moral de Calatrava",
           673.0731
          ],
          [
           "Navalpino",
           619.7184
          ],
          [
           "Navas de Estena",
           666.7495
          ],
          [
           "Pedro Muñoz",
           660.1461
          ],
          [
           "Picón",
           602.3293
          ],
          [
           "Piedrabuena",
           584.9067
          ],
          [
           "Poblete",
           625.8102
          ],
          [
           "Porzuna",
           649.3252
          ],
          [
           "Pozuelo de Calatrava",
           627.6234
          ],
          [
           "Puebla de Don Rodrigo",
           501.1769
          ],
          [
           "Puebla del Príncipe",
           940.8134
          ],
          [
           "Puerto Lápice",
           676.8574
          ],
          [
           "Puertollano",
           710.2035
          ],
          [
           "Retuerta del Bullaque",
           733.4877
          ],
          [
           "Saceruela",
           578.8517
          ],
          [
           "San Carlos del Valle",
           757.9612
          ],
          [
           "San Lorenzo de Calatrava",
           765.8392
          ],
          [
           "Santa Cruz de los Cáñamos",
           985.9399
          ],
          [
           "Santa Cruz de Mudela",
           717.6976
          ],
          [
           "Socuéllamos",
           676.6555
          ],
          [
           "Solana del Pino",
           740.4377
          ],
          [
           "Terrinches",
           930.9041
          ],
          [
           "Tomelloso",
           667.3932
          ],
          [
           "Torralba de Calatrava",
           621.1816
          ],
          [
           "Torre de Juan Abad",
           828.8683
          ],
          [
           "Torrenueva",
           733.0852
          ],
          [
           "Valdemanco del Esteras",
           578.7386
          ],
          [
           "Valdepeñas",
           710.3396
          ],
          [
           "Valenzuela de Calatrava",
           658.9473
          ],
          [
           "Villahermosa",
           959.6011
          ],
          [
           "Villamanrique",
           849.2779
          ],
          [
           "Villamayor de Calatrava",
           663.199
          ],
          [
           "Villanueva de la Fuente",
           1008.476
          ],
          [
           "Villanueva de los Infantes",
           884.9601
          ],
          [
           "Villanueva de San Carlos",
           652.488
          ],
          [
           "Villar del Pozo",
           637.9165
          ],
          [
           "Villarrubia de los Ojos",
           629.3639
          ],
          [
           "Villarta de San Juan",
           626.9672
          ],
          [
           "Viso del Marqués",
           781.8405
          ],
          [
           "Ruidera",
           799.8744
          ],
          [
           "Arenales de San Gregorio",
           645.2104
          ],
          [
           "Llanos del Caudillo",
           648.3378
          ],
          [
           "Adamuz",
           245.2438
          ],
          [
           "Aguilar de la Frontera",
           374.5963
          ],
          [
           "Alcaracejos",
           611.311
          ],
          [
           "Almedinilla",
           643.6762
          ],
          [
           "Almodóvar del Río",
           119.838
          ],
          [
           "Añora",
           629.9739
          ],
          [
           "Baena",
           432.8641
          ],
          [
           "Belalcázar",
           492.9109
          ],
          [
           "Belmez",
           530.0388
          ],
          [
           "Benamejí",
           458.9315
          ],
          [
           "Bujalance",
           345.5078
          ],
          [
           "Cabra",
           503.6198
          ],
          [
           "Cañete de las Torres",
           320.6117
          ],
          [
           "Carcabuey",
           628.2857
          ],
          [
           "Cardeña",
           747.5234
          ],
          [
           "Castro del Río",
           229.5285
          ],
          [
           "Conquista",
           597.3675
          ],
          [
           "Córdoba",
           131.9102
          ],
          [
           "Doña Mencía",
           598.4364
          ],
          [
           "Dos Torres",
           589.4772
          ],
          [
           "Encinas Reales",
           446.9231
          ],
          [
           "Espejo",
           391.4622
          ],
          [
           "Espiel",
           548.5708
          ],
          [
           "Fernán-Núñez",
           310.7925
          ],
          [
           "Fuente la Lancha",
           559.9954
          ],
          [
           "Fuente Obejuna",
           622.7498
          ],
          [
           "Fuente Palmera",
           160.0771
          ],
          [
           "Fuente-Tójar",
           589.3212
          ],
          [
           "Guadalcázar",
           161.6661
          ],
          [
           "Hinojosa del Duque",
           551.713
          ],
          [
           "Hornachuelos",
           177.4551
          ],
          [
           "Iznájar",
           519.9057
          ],
          [
           "Lucena",
           494.1765
          ],
          [
           "Luque",
           662.4076
          ],
          [
           "Montalbán de Córdoba",
           277.8563
          ],
          [
           "Montemayor",
           386.187
          ],
          [
           "Montilla",
           385.7791
          ],
          [
           "Montoro",
           201.329
          ],
          [
           "Monturque",
           376.9995
          ],
          [
           "Moriles",
           379.1501
          ],
          [
           "Nueva Carteya",
           444.7657
          ],
          [
           "Obejo",
           692.8661
          ],
          [
           "Palenciana",
           396.5208
          ],
          [
           "Palma del Río",
           60.91507
          ],
          [
           "Pedro Abad",
           163.2774
          ],
          [
           "Pedroche",
           623.1253
          ],
          [
           "Peñarroya-Pueblonuevo",
           541.6902
          ],
          [
           "Posadas",
           88.41434
          ],
          [
           "Pozoblanco",
           652.3784
          ],
          [
           "Priego de Córdoba",
           657.6609
          ],
          [
           "Puente Genil",
           219.0715
          ],
          [
           "Rute",
           632.5386
          ],
          [
           "San Sebastián de los Ballesteros",
           306.4553
          ],
          [
           "Santaella",
           238.2158
          ],
          [
           "Santa Eufemia",
           547.0313
          ],
          [
           "Torrecampo",
           576.4257
          ],
          [
           "Valenzuela",
           341.0233
          ],
          [
           "Valsequillo",
           578.0466
          ],
          [
           "Villa del Río",
           164.0046
          ],
          [
           "Villafranca de Córdoba",
           143.0544
          ],
          [
           "Villaharta",
           578.8654
          ],
          [
           "Villanueva de Córdoba",
           728.5879
          ],
          [
           "Villanueva del Duque",
           583.8452
          ],
          [
           "Villanueva del Rey",
           556.6314
          ],
          [
           "Villaralto",
           586.7803
          ],
          [
           "Villaviciosa de Córdoba",
           699.2513
          ],
          [
           "Zuheros",
           652.7948
          ],
          [
           "Abia de la Obispalía",
           1027.756
          ],
          [
           "Alarcón",
           804.5475
          ],
          [
           "Albaladejo del Cuende",
           873.7691
          ],
          [
           "Albalate de las Nogueras",
           836.6561
          ],
          [
           "Albendea",
           836.6441
          ],
          [
           "Alcalá de la Vega",
           1149.662
          ],
          [
           "Alcantud",
           846.5696
          ],
          [
           "Alcázar del Rey",
           868.6633
          ],
          [
           "Alcohujate",
           805.8046
          ],
          [
           "Alconchel de la Estrella",
           830.2779
          ],
          [
           "Algarra",
           1260.539
          ],
          [
           "Aliaguilla",
           1004.316
          ],
          [
           "Almendros",
           867.5738
          ],
          [
           "Almodóvar del Pinar",
           993.7385
          ],
          [
           "Almonacid del Marquesado",
           893.4148
          ],
          [
           "Altarejos",
           882.3251
          ],
          [
           "Arandilla del Arroyo",
           891.51
          ],
          [
           "Arcos de la Sierra",
           1008.144
          ],
          [
           "Chillarón de Cuenca",
           918.1243
          ],
          [
           "Arguisuelas",
           1051.319
          ],
          [
           "Arrancacepas",
           921.0117
          ],
          [
           "Atalaya del Cañavate",
           818.4755
          ],
          [
           "Barajas de Melo",
           707.7529
          ],
          [
           "Barchín del Hoyo",
           953.0204
          ],
          [
           "Bascuñana de San Pedro",
           1049.3
          ],
          [
           "Beamud",
           1337.114
          ],
          [
           "Belinchón",
           765.4058
          ],
          [
           "Belmonte",
           747.8671
          ],
          [
           "Belmontejo",
           842.4863
          ],
          [
           "Beteta",
           1221.365
          ],
          [
           "Boniches",
           1031.188
          ],
          [
           "Buciegas",
           806.0385
          ],
          [
           "Buenache de Alarcón",
           814.0424
          ],
          [
           "Buenache de la Sierra",
           1296.91
          ],
          [
           "Buendía",
           740.683
          ],
          [
           "Campillo de Altobuey",
           934.0833
          ],
          [
           "Campillos-Paravientos",
           1161.948
          ],
          [
           "Campillos-Sierra",
           1253.863
          ],
          [
           "Canalejas del Arroyo",
           793.2876
          ],
          [
           "Cañada del Hoyo",
           1021.962
          ],
          [
           "Cañada Juncosa",
           806.1784
          ],
          [
           "Cañamares",
           886.0988
          ],
          [
           "Cañaveras",
           807.5058
          ],
          [
           "Cañaveruelas",
           802.4179
          ],
          [
           "Cañete",
           1077.501
          ],
          [
           "Cañizares",
           1040.13
          ],
          [
           "Carboneras de Guadazaón",
           1022.764
          ],
          [
           "Cardenete",
           955.3456
          ],
          [
           "Carrascosa",
           1258.964
          ],
          [
           "Carrascosa de Haro",
           775.2598
          ],
          [
           "Casas de Benítez",
           748.9084
          ],
          [
           "Casas de Fernando Alonso",
           725.363
          ],
          [
           "Casas de Garcimolina",
           1149.788
          ],
          [
           "Casas de Guijarro",
           752.5666
          ],
          [
           "Casas de Haro",
           723.1393
          ],
          [
           "Casas de los Pinos",
           725.2875
          ],
          [
           "Casasimarro",
           761.5946
          ],
          [
           "Castejón",
           860.5991
          ],
          [
           "Castillejo de Iniesta",
           824.4532
          ],
          [
           "Castillejo-Sierra",
           1007.348
          ],
          [
           "Castillo-Albaráñez",
           902.1082
          ],
          [
           "Castillo de Garcimuñoz",
           929.5831
          ],
          [
           "Cervera del Llano",
           895.8052
          ],
          [
           "Cuenca",
           930.4124
          ],
          [
           "Cueva del Hierro",
           1332.456
          ],
          [
           "Chumillas",
           1070.247
          ],
          [
           "Enguídanos",
           748.1066
          ],
          [
           "Fresneda de Altarejos",
           901.7247
          ],
          [
           "Fresneda de la Sierra",
           992.2727
          ],
          [
           "Fuente de Pedro Naharro",
           776.6147
          ],
          [
           "Fuentelespino de Haro",
           845.7111
          ],
          [
           "Fuentelespino de Moya",
           1109.693
          ],
          [
           "Fuentes",
           1015.49
          ],
          [
           "Fuertescusa",
           983.9594
          ],
          [
           "Gabaldón",
           926.3343
          ],
          [
           "Garaballa",
           936.6948
          ],
          [
           "Gascueña",
           929.3591
          ],
          [
           "Graja de Campalbo",
           1099.037
          ],
          [
           "Graja de Iniesta",
           836.5309
          ],
          [
           "Henarejos",
           1078.359
          ],
          [
           "Honrubia",
           809.0587
          ],
          [
           "Hontanaya",
           816.0445
          ],
          [
           "Hontecillas",
           824.0103
          ],
          [
           "Horcajo de Santiago",
           750.2389
          ],
          [
           "Huélamo",
           1283.993
          ],
          [
           "Huelves",
           819.4783
          ],
          [
           "Huérguina",
           1114.769
          ],
          [
           "Huerta de la Obispalía",
           905.3899
          ],
          [
           "Huerta del Marquesado",
           1278.528
          ],
          [
           "Huete",
           806.872
          ],
          [
           "Iniesta",
           755.802
          ],
          [
           "Laguna del Marquesado",
           1324.043
          ],
          [
           "Lagunaseca",
           1362.387
          ],
          [
           "Landete",
           985.8491
          ],
          [
           "Ledaña",
           733.5328
          ],
          [
           "Leganiel",
           760.6712
          ],
          [
           "Mariana",
           968.0659
          ],
          [
           "Masegosa",
           1378.719
          ],
          [
           "Minglanilla",
           805.3
          ],
          [
           "Mira",
           820.1528
          ],
          [
           "Monreal del Llano",
           733.7571
          ],
          [
           "Montalbanejo",
           907.4093
          ],
          [
           "Montalbo",
           884.257
          ],
          [
           "Monteagudo de las Salinas",
           1011.875
          ],
          [
           "Mota de Altarejos",
           859.7838
          ],
          [
           "Mota del Cuervo",
           708
          ],
          [
           "Motilla del Palancar",
           837.0458
          ],
          [
           "Moya",
           1073.251
          ],
          [
           "Narboneta",
           849.3128
          ],
          [
           "Olivares de Júcar",
           920.282
          ],
          [
           "Olmeda de la Cuesta",
           899.1359
          ],
          [
           "Olmeda del Rey",
           937.1072
          ],
          [
           "Olmedilla de Alarcón",
           824.7698
          ],
          [
           "Olmedilla de Eliz",
           872.5022
          ],
          [
           "Osa de la Vega",
           767.8908
          ],
          [
           "Pajarón",
           1056.773
          ],
          [
           "Pajaroncillo",
           980.0659
          ],
          [
           "Palomares del Campo",
           877.8651
          ],
          [
           "Palomera",
           1073.156
          ],
          [
           "Paracuellos",
           965.203
          ],
          [
           "Paredes",
           836.0471
          ],
          [
           "Pinarejo",
           873.2295
          ],
          [
           "Pineda de Gigüela",
           974.069
          ],
          [
           "Piqueras del Castillo",
           922.2267
          ],
          [
           "Portalrubio de Guadamejud",
           818.1326
          ],
          [
           "Portilla",
           1066.127
          ],
          [
           "Poyatos",
           1238.396
          ],
          [
           "Pozoamargo",
           754.7365
          ],
          [
           "Priego",
           859.0313
          ],
          [
           "Puebla de Almenara",
           851.6243
          ],
          [
           "Puebla del Salvador",
           849.067
          ],
          [
           "Quintanar del Rey",
           731.144
          ],
          [
           "Rada de Haro",
           817.4881
          ],
          [
           "Reíllo",
           1010.97
          ],
          [
           "Rozalén del Monte",
           874.4917
          ],
          [
           "Saceda-Trasierra",
           914.9257
          ],
          [
           "Saelices",
           926.687
          ],
          [
           "Salinas del Manzano",
           1129.487
          ],
          [
           "Salmeroncillos",
           784.0395
          ],
          [
           "Salvacañete",
           1177.807
          ],
          [
           "San Clemente",
           718.2497
          ],
          [
           "San Lorenzo de la Parrilla",
           958.508
          ],
          [
           "San Martín de Boniches",
           1204.745
          ],
          [
           "San Pedro Palmiches",
           827.0442
          ],
          [
           "Santa Cruz de Moya",
           764.4127
          ],
          [
           "Santa María del Campo Rus",
           789.3281
          ],
          [
           "Santa María de los Llanos",
           723.399
          ],
          [
           "Santa María del Val",
           1208.035
          ],
          [
           "Sisante",
           745.213
          ],
          [
           "Solera de Gabaldón",
           1049.117
          ],
          [
           "Talayuelas",
           989.6467
          ],
          [
           "Tarancón",
           817.9774
          ],
          [
           "Tébar",
           892.4076
          ],
          [
           "Tejadillos",
           1221.846
          ],
          [
           "Tinajas",
           868.139
          ],
          [
           "Torralba",
           910.9871
          ],
          [
           "Torrejoncillo del Rey",
           925.6471
          ],
          [
           "Torrubia del Campo",
           804.85
          ],
          [
           "Torrubia del Castillo",
           844.5839
          ],
          [
           "Tragacete",
           1280.023
          ],
          [
           "Tresjuncos",
           794.4161
          ],
          [
           "Tribaldos",
           829.7798
          ],
          [
           "Uclés",
           836.3397
          ],
          [
           "Uña",
           1133.798
          ],
          [
           "Valdemeca",
           1316.776
          ],
          [
           "Valdemorillo de la Sierra",
           1193.025
          ],
          [
           "Valdemoro-Sierra",
           1117.267
          ],
          [
           "Valdeolivas",
           927.0674
          ],
          [
           "Valhermoso de la Fuente",
           800.9288
          ],
          [
           "Valsalobre",
           1219.73
          ],
          [
           "Valverde de Júcar",
           846.4824
          ],
          [
           "Valverdejo",
           865.129
          ],
          [
           "Vara de Rey",
           820.9382
          ],
          [
           "Vega del Codorno",
           1390.018
          ],
          [
           "Vellisca",
           944.9796
          ],
          [
           "Villaconejos de Trabaque",
           808.2476
          ],
          [
           "Villaescusa de Haro",
           826.9725
          ],
          [
           "Villagarcía del Llano",
           733.049
          ],
          [
           "Villalba de la Sierra",
           992.4644
          ],
          [
           "Villalba del Rey",
           788.1654
          ],
          [
           "Villalgordo del Marquesado",
           861.0096
          ],
          [
           "Villalpardo",
           771.2595
          ],
          [
           "Villamayor de Santiago",
           775.3732
          ],
          [
           "Villanueva de Guadamejud",
           805.5494
          ],
          [
           "Villanueva de la Jara",
           767.3646
          ],
          [
           "Villar de Cañas",
           817.3677
          ],
          [
           "Villar de Domingo García",
           938.7158
          ],
          [
           "Villar de la Encina",
           843.0084
          ],
          [
           "Villar del Humo",
           997.0957
          ],
          [
           "Villar del Infantado",
           767.527
          ],
          [
           "Villar de Olalla",
           901.751
          ],
          [
           "Villarejo de Fuentes",
           864.325
          ],
          [
           "Villarejo de la Peñuela",
           941.4399
          ],
          [
           "Villarejo-Periesteban",
           919.6758
          ],
          [
           "Villares del Saz",
           867.2699
          ],
          [
           "Villarrubio",
           825.1577
          ],
          [
           "Villarta",
           758.9042
          ],
          [
           "Villas de la Ventosa",
           844.56
          ],
          [
           "Villaverde y Pasaconsol",
           859.9142
          ],
          [
           "Víllora",
           878.9189
          ],
          [
           "Vindel",
           898.5792
          ],
          [
           "Yémeda",
           866.7178
          ],
          [
           "Zafra de Záncara",
           898.8863
          ],
          [
           "Zafrilla",
           1418.941
          ],
          [
           "Zarza de Tajo",
           708.5762
          ],
          [
           "Zarzuela",
           1040.219
          ],
          [
           "Campos del Paraíso",
           914.1959
          ],
          [
           "Valdetórtola",
           898.9784
          ],
          [
           "Fuentenava de Jábaga",
           969.4885
          ],
          [
           "Pozorrubielos de la Mancha",
           784.6632
          ],
          [
           "Sotorribas",
           989.6494
          ],
          [
           "Villar y Velasco",
           975.5555
          ],
          [
           "Agullana",
           170.1884
          ],
          [
           "Aiguaviva",
           156.0045
          ],
          [
           "Albanyà",
           240.982
          ],
          [
           "Albons",
           11.20031
          ],
          [
           "Alp",
           1140.202
          ],
          [
           "Amer",
           187.6956
          ],
          [
           "Anglès",
           163.2895
          ],
          [
           "Arbúcies",
           294.5572
          ],
          [
           "Argelaguer",
           189.7633
          ],
          [
           "Avinyonet de Puigventós",
           68.95233
          ],
          [
           "Begur",
           206.9355
          ],
          [
           "Banyoles",
           180.4805
          ],
          [
           "Bàscara",
           66.21327
          ],
          [
           "Bellcaire d'Empordà",
           16.70415
          ],
          [
           "Besalú",
           153.8543
          ],
          [
           "Bescanó",
           103.575
          ],
          [
           "Beuda",
           330.3628
          ],
          [
           "Blanes",
           12.55464
          ],
          [
           "Bolvir",
           1111.693
          ],
          [
           "Bordils",
           39.80887
          ],
          [
           "Borrassà",
           73.4845
          ],
          [
           "Breda",
           165.5123
          ],
          [
           "Boadella i les Escaules",
           90.38374
          ],
          [
           "Cabanes",
           23.85813
          ],
          [
           "Cabanelles",
           186.2474
          ],
          [
           "Cadaqués",
           8.404613
          ],
          [
           "Caldes de Malavella",
           99.86514
          ],
          [
           "Camós",
           162.4646
          ],
          [
           "Campdevànol",
           735.8078
          ],
          [
           "Campelles",
           1312.842
          ],
          [
           "Campllong",
           111.6642
          ],
          [
           "Camprodon",
           949.9839
          ],
          [
           "Canet d'Adri",
           225.7504
          ],
          [
           "Cantallops",
           199.0593
          ],
          [
           "Capmany",
           102.8205
          ],
          [
           "Queralbs",
           1212.268
          ],
          [
           "Cassà de la Selva",
           157.0528
          ],
          [
           "Castellfollit de la Roca",
           299.2567
          ],
          [
           "Castelló d'Empúries",
           19.59589
          ],
          [
           "Celrà",
           74.95261
          ],
          [
           "Cervià de Ter",
           41.124
          ],
          [
           "Cistella",
           131.848
          ],
          [
           "Siurana",
           30.35726
          ],
          [
           "Colera",
           15.71049
          ],
          [
           "Colomers",
           27.86927
          ],
          [
           "Cornellà del Terri",
           97.63062
          ],
          [
           "Corçà",
           43
          ],
          [
           "Crespià",
           134.7197
          ],
          [
           "Darnius",
           195.8332
          ],
          [
           "Das",
           1210.801
          ],
          [
           "Espinelves",
           721.2335
          ],
          [
           "Espolla",
           110.9502
          ],
          [
           "Esponellà",
           124.58
          ],
          [
           "Figueres",
           44.94663
          ],
          [
           "Flaçà",
           34.53658
          ],
          [
           "Foixà",
           77.76812
          ],
          [
           "Fontanals de Cerdanya",
           1296.071
          ],
          [
           "Fontanilles",
           11.98482
          ],
          [
           "Fontcoberta",
           224.6868
          ],
          [
           "Fornells de la Selva",
           100.7511
          ],
          [
           "Fortià",
           5.550827
          ],
          [
           "Garrigàs",
           106.7004
          ],
          [
           "Garrigoles",
           87.58198
          ],
          [
           "Garriguella",
           60.73549
          ],
          [
           "Ger",
           1124.158
          ],
          [
           "Girona",
           69.02268
          ],
          [
           "Gombrèn",
           913.7407
          ],
          [
           "Gualta",
           10.82926
          ],
          [
           "Guils de Cerdanya",
           1345.239
          ],
          [
           "Hostalric",
           98.26152
          ],
          [
           "Isòvol",
           1044.986
          ],
          [
           "Jafre",
           26.08789
          ],
          [
           "Juià",
           103.731
          ],
          [
           "Lladó",
           203.6406
          ],
          [
           "Llagostera",
           137.2177
          ],
          [
           "Llambilles",
           123.2293
          ],
          [
           "Llanars",
           987.0015
          ],
          [
           "Llançà",
           26.3534
          ],
          [
           "Llers",
           164.3831
          ],
          [
           "Llívia",
           1201.004
          ],
          [
           "Lloret de Mar",
           14.34469
          ],
          [
           "Madremanya",
           171.2928
          ],
          [
           "Maià de Montcal",
           222.8625
          ],
          [
           "Meranges",
           1552.41
          ],
          [
           "Masarac",
           80.04425
          ],
          [
           "Massanes",
           139.9525
          ],
          [
           "Maçanet de Cabrenys",
           348.9143
          ],
          [
           "Maçanet de la Selva",
           98.14079
          ],
          [
           "Mieres",
           275.4319
          ],
          [
           "Mollet de Peralada",
           56.86679
          ],
          [
           "Molló",
           1178.97
          ],
          [
           "Montagut i Oix",
           278.7967
          ],
          [
           "Mont-ras",
           56.59036
          ],
          [
           "Navata",
           147.3417
          ],
          [
           "Ogassa",
           955.7571
          ],
          [
           "Olot",
           445.0352
          ],
          [
           "Ordis",
           97.83067
          ],
          [
           "Osor",
           350.0396
          ],
          [
           "Palafrugell",
           68.42641
          ],
          [
           "Palamós",
           14.00687
          ],
          [
           "Palau de Santa Eulàlia",
           81.56111
          ],
          [
           "Palau-saverdera",
           94.26295
          ],
          [
           "Palau-sator",
           19.59593
          ],
          [
           "Palol de Revardit",
           134.0089
          ],
          [
           "Pals",
           19.10723
          ],
          [
           "Pardines",
           1231.859
          ],
          [
           "Parlavà",
           30.01262
          ],
          [
           "Pau",
           27.27005
          ],
          [
           "Pedret i Marzà",
           28.24896
          ],
          [
           "Peralada",
           33.71151
          ],
          [
           "Planoles",
           1138.85
          ],
          [
           "Pont de Molins",
           46.54617
          ],
          [
           "Pontós",
           90.42199
          ],
          [
           "Porqueres",
           183.2214
          ],
          [
           "Portbou",
           12.24183
          ],
          [
           "Puigcerdà",
           1184.155
          ],
          [
           "Quart",
           98.03844
          ],
          [
           "Rabós",
           114.9361
          ],
          [
           "Regencós",
           74.76754
          ],
          [
           "Ribes de Freser",
           919.8904
          ],
          [
           "Riells i Viabrea",
           96.39582
          ],
          [
           "Ripoll",
           696.5365
          ],
          [
           "Riudarenes",
           90
          ],
          [
           "Riudaura",
           578.0961
          ],
          [
           "Riudellots de la Selva",
           100.0308
          ],
          [
           "Riumors",
           3.91416
          ],
          [
           "Roses",
           6.046805
          ],
          [
           "Rupià",
           63.82626
          ],
          [
           "Sales de Llierca",
           266.1104
          ],
          [
           "Salt",
           87.70262
          ],
          [
           "Sant Andreu Salou",
           132.717
          ],
          [
           "Sant Climent Sescebes",
           83.43581
          ],
          [
           "Sant Feliu de Buixalleu",
           400.1262
          ],
          [
           "Sant Feliu de Guíxols",
           9.581546
          ],
          [
           "Sant Feliu de Pallerols",
           467.6071
          ],
          [
           "Sant Ferriol",
           195.0925
          ],
          [
           "Sant Gregori",
           105.9555
          ],
          [
           "Sant Hilari Sacalm",
           798.2343
          ],
          [
           "Sant Jaume de Llierca",
           212.891
          ],
          [
           "Sant Jordi Desvalls",
           52.30774
          ],
          [
           "Sant Joan de les Abadesses",
           778.5472
          ],
          [
           "Sant Joan de Mollet",
           47.70493
          ],
          [
           "Sant Julià de Ramis",
           174.7159
          ],
          [
           "Vallfogona de Ripollès",
           948.5323
          ],
          [
           "Sant Llorenç de la Muga",
           170.0117
          ],
          [
           "Sant Martí de Llémena",
           249.9684
          ],
          [
           "Sant Martí Vell",
           72.49802
          ],
          [
           "Sant Miquel de Campmajor",
           225.4033
          ],
          [
           "Sant Miquel de Fluvià",
           30.44114
          ],
          [
           "Sant Mori",
           39.63519
          ],
          [
           "Sant Pau de Segúries",
           860.9708
          ],
          [
           "Sant Pere Pescador",
           7.999541
          ],
          [
           "Santa Coloma de Farners",
           140.2747
          ],
          [
           "Santa Cristina d'Aro",
           54.80076
          ],
          [
           "Santa Llogaia d'Àlguema",
           42.30609
          ],
          [
           "Sant Aniol de Finestres",
           403.899
          ],
          [
           "Santa Pau",
           496.2841
          ],
          [
           "Sant Joan les Fonts",
           340.3424
          ],
          [
           "Sarrià de Ter",
           59.73502
          ],
          [
           "Saus, Camallera i Llampaies",
           94.31184
          ],
          [
           "Serinyà",
           188.9648
          ],
          [
           "Serra de Daró",
           12.04134
          ],
          [
           "Setcases",
           1265.82
          ],
          [
           "Sils",
           78.97491
          ],
          [
           "Susqueda",
           337.0181
          ],
          [
           "Terrades",
           227.8623
          ],
          [
           "Torrent",
           39.58279
          ],
          [
           "Torroella de Fluvià",
           9.374322
          ],
          [
           "Torroella de Montgrí",
           31.4563
          ],
          [
           "Tortellà",
           278.4685
          ],
          [
           "Toses",
           1426.833
          ],
          [
           "Tossa de Mar",
           11.30567
          ],
          [
           "Ultramort",
           21.90849
          ],
          [
           "Ullà",
           24.18182
          ],
          [
           "Ullastret",
           42.31542
          ],
          [
           "Urús",
           1269.748
          ],
          [
           "Vall-llobrega",
           61.32427
          ],
          [
           "Ventalló",
           29.75963
          ],
          [
           "Verges",
           18.31838
          ],
          [
           "Vidrà",
           984.6575
          ],
          [
           "Vidreres",
           95.18577
          ],
          [
           "Vilabertran",
           20
          ],
          [
           "Vilablareix",
           115.8257
          ],
          [
           "Viladasens",
           90.55965
          ],
          [
           "Viladamat",
           7.623611
          ],
          [
           "Vilademuls",
           121.4595
          ],
          [
           "Viladrau",
           826.043
          ],
          [
           "Vilafant",
           54.1561
          ],
          [
           "Vilaür",
           67.55302
          ],
          [
           "Vilajuïga",
           27.58708
          ],
          [
           "Vilallonga de Ter",
           1063.586
          ],
          [
           "Vilamacolum",
           6
          ],
          [
           "Vilamalla",
           45.89511
          ],
          [
           "Vilamaniscle",
           148.8217
          ],
          [
           "Vilanant",
           100.9817
          ],
          [
           "Vila-sacra",
           13.35783
          ],
          [
           "Vilopriu",
           71.60316
          ],
          [
           "Vilobí d'Onyar",
           121.8775
          ],
          [
           "Biure",
           67.65877
          ],
          [
           "Cruïlles, Monells i Sant Sadurní de l'Heura",
           110.6651
          ],
          [
           "Forallac",
           50.96644
          ],
          [
           "Sant Julià del Llor i Bonmatí",
           156.8956
          ],
          [
           "Agrón",
           1057.493
          ],
          [
           "Alamedilla",
           867.9614
          ],
          [
           "Albolote",
           650.2138
          ],
          [
           "Albondón",
           894.4161
          ],
          [
           "Albuñán",
           1115.975
          ],
          [
           "Albuñol",
           247.2122
          ],
          [
           "Albuñuelas",
           728.1844
          ],
          [
           "Aldeire",
           1274.015
          ],
          [
           "Alfacar",
           915.6451
          ],
          [
           "Algarinejo",
           596.2101
          ],
          [
           "Alhama de Granada",
           890.953
          ],
          [
           "Alhendín",
           736.6528
          ],
          [
           "Alicún de Ortega",
           692.778
          ],
          [
           "Almegíjar",
           811.4709
          ],
          [
           "Almuñécar",
           24.01802
          ],
          [
           "Alquife",
           1202.946
          ],
          [
           "Arenas del Rey",
           870.3409
          ],
          [
           "Armilla",
           671.618
          ],
          [
           "Atarfe",
           604.92
          ],
          [
           "Baza",
           850.2978
          ],
          [
           "Beas de Granada",
           1068.34
          ],
          [
           "Beas de Guadix",
           955.7032
          ],
          [
           "Benalúa",
           858.6871
          ],
          [
           "Benalúa de las Villas",
           848.7814
          ],
          [
           "Benamaurel",
           719.2347
          ],
          [
           "Bérchules",
           1330.123
          ],
          [
           "Bubión",
           1298.578
          ],
          [
           "Busquístar",
           1160.204
          ],
          [
           "Cacín",
           701.9979
          ],
          [
           "Cádiar",
           926.387
          ],
          [
           "Cájar",
           730.5661
          ],
          [
           "Calicasas",
           764.5505
          ],
          [
           "Campotéjar",
           925.5419
          ],
          [
           "Caniles",
           914.9191
          ],
          [
           "Cáñar",
           1026.397
          ],
          [
           "Capileira",
           1444.893
          ],
          [
           "Carataunas",
           761.6864
          ],
          [
           "Cástaras",
           1021.059
          ],
          [
           "Castilléjar",
           770.9531
          ],
          [
           "Castril",
           904.8172
          ],
          [
           "Cenes de la Vega",
           746.4172
          ],
          [
           "Cijuela",
           539.7335
          ],
          [
           "Cogollos de Guadix",
           1142.019
          ],
          [
           "Cogollos de la Vega",
           997.7243
          ],
          [
           "Colomera",
           855.0217
          ],
          [
           "Cortes de Baza",
           707.9819
          ],
          [
           "Cortes y Graena",
           976.4355
          ],
          [
           "Cúllar",
           895.665
          ],
          [
           "Cúllar Vega",
           643.1689
          ],
          [
           "Chauchina",
           552.4158
          ],
          [
           "Chimeneas",
           699.7101
          ],
          [
           "Churriana de la Vega",
           657.35
          ],
          [
           "Darro",
           1115.744
          ],
          [
           "Dehesas de Guadix",
           684.2996
          ],
          [
           "Deifontes",
           744.6108
          ],
          [
           "Diezma",
           1227.448
          ],
          [
           "Dílar",
           878.0067
          ],
          [
           "Dólar",
           1204.454
          ],
          [
           "Dúdar",
           812.0253
          ],
          [
           "Dúrcal",
           786.6514
          ],
          [
           "Escúzar",
           873.6536
          ],
          [
           "Ferreira",
           1267.67
          ],
          [
           "Fonelas",
           785.6204
          ],
          [
           "Freila",
           824.4169
          ],
          [
           "Fuente Vaqueros",
           545.4914
          ],
          [
           "Galera",
           837.2482
          ],
          [
           "Gobernador",
           1039.05
          ],
          [
           "Gójar",
           791.8748
          ],
          [
           "Gor",
           1241.51
          ],
          [
           "Gorafe",
           847.6644
          ],
          [
           "Granada",
           697.486
          ],
          [
           "Guadahortuna",
           968.3403
          ],
          [
           "Guadix",
           919.4025
          ],
          [
           "Gualchos",
           335.95
          ],
          [
           "Güéjar Sierra",
           1098.16
          ],
          [
           "Güevéjar",
           876.2341
          ],
          [
           "Huélago",
           914.9307
          ],
          [
           "Huéneja",
           1155.85
          ],
          [
           "Huéscar",
           959.9781
          ],
          [
           "Huétor de Santillán",
           1019.823
          ],
          [
           "Huétor Tájar",
           489
          ],
          [
           "Huétor Vega",
           739.9867
          ],
          [
           "Íllora",
           775.8689
          ],
          [
           "Ítrabo",
           384.3103
          ],
          [
           "Iznalloz",
           816.3354
          ],
          [
           "Jayena",
           911.8392
          ],
          [
           "Jérez del Marquesado",
           1237.271
          ],
          [
           "Jete",
           134.2804
          ],
          [
           "Jun",
           763.6108
          ],
          [
           "Juviles",
           1258.52
          ],
          [
           "Láchar",
           559.7148
          ],
          [
           "Lanjarón",
           662.3086
          ],
          [
           "Lanteira",
           1279.618
          ],
          [
           "Lecrín",
           705.3149
          ],
          [
           "Lentegí",
           638.0128
          ],
          [
           "Lobras",
           917.7236
          ],
          [
           "Loja",
           456.7311
          ],
          [
           "Lugros",
           1241.42
          ],
          [
           "Lújar",
           509.9037
          ],
          [
           "Maracena",
           649.4002
          ],
          [
           "Marchal",
           926.4476
          ],
          [
           "Moclín",
           1061.082
          ],
          [
           "Molvízar",
           239.2467
          ],
          [
           "Monachil",
           811.2473
          ],
          [
           "Montefrío",
           835.1361
          ],
          [
           "Montejícar",
           1145.294
          ],
          [
           "Montillana",
           1019.378
          ],
          [
           "Moraleda de Zafayona",
           621.8634
          ],
          [
           "Motril",
           41.48437
          ],
          [
           "Murtas",
           1134.923
          ],
          [
           "Nigüelas",
           927.8786
          ],
          [
           "Nívar",
           1038.031
          ],
          [
           "Ogíjares",
           721.7737
          ],
          [
           "Orce",
           932.2527
          ],
          [
           "Órgiva",
           465.8732
          ],
          [
           "Otívar",
           266.5227
          ],
          [
           "Padul",
           757.9304
          ],
          [
           "Pampaneira",
           1054.911
          ],
          [
           "Pedro Martínez",
           1036.34
          ],
          [
           "Peligros",
           687.5328
          ],
          [
           "Pinos Genil",
           777.8843
          ],
          [
           "Pinos Puente",
           575.2888
          ],
          [
           "Píñar",
           912.619
          ],
          [
           "Polícar",
           1146.402
          ],
          [
           "Polopos",
           783.9265
          ],
          [
           "Pórtugos",
           1312.607
          ],
          [
           "Puebla de Don Fadrique",
           1160.896
          ],
          [
           "Pulianas",
           728.1589
          ],
          [
           "Purullena",
           907.9955
          ],
          [
           "Quéntar",
           855.6412
          ],
          [
           "Rubite",
           778.7302
          ],
          [
           "Salar",
           545.4207
          ],
          [
           "Salobreña",
           20.95912
          ],
          [
           "Santa Cruz del Comercio",
           737.3204
          ],
          [
           "Santa Fe",
           582.6545
          ],
          [
           "Soportújar",
           944.0207
          ],
          [
           "Sorvilán",
           769.9988
          ],
          [
           "Torre-Cardela",
           1219.53
          ],
          [
           "Torvizcón",
           667.7946
          ],
          [
           "Trevélez",
           1542.32
          ],
          [
           "Turón",
           698.5202
          ],
          [
           "Ugíjar",
           547.5222
          ],
          [
           "Válor",
           901.9865
          ],
          [
           "Vélez de Benaudalla",
           170.5154
          ],
          [
           "Ventas de Huelma",
           858.721
          ],
          [
           "Villanueva de las Torres",
           645.9392
          ],
          [
           "Villanueva Mesía",
           493.5079
          ],
          [
           "Víznar",
           1074.323
          ],
          [
           "Zafarraya",
           896.4373
          ],
          [
           "Zújar",
           771.5205
          ],
          [
           "Nevada",
           792.3126
          ],
          [
           "Alpujarra de la Sierra",
           1238.541
          ],
          [
           "Valle del Zalabí",
           1245.152
          ],
          [
           "Villamena",
           762.7578
          ],
          [
           "Morelábor",
           1023.947
          ],
          [
           "Vegas del Genil",
           615
          ],
          [
           "Cuevas del Campo",
           832.7582
          ],
          [
           "Zagra",
           680.0646
          ],
          [
           "Abánades",
           1031.429
          ],
          [
           "Ablanque",
           1045.646
          ],
          [
           "Adobes",
           1379.7
          ],
          [
           "Alaminos",
           1063.001
          ],
          [
           "Alarilla",
           830.985
          ],
          [
           "Albalate de Zorita",
           776.8889
          ],
          [
           "Albares",
           748.9675
          ],
          [
           "Albendiego",
           1191.034
          ],
          [
           "Alcocer",
           784.08
          ],
          [
           "Alcolea de las Peñas",
           1008.211
          ],
          [
           "Alcolea del Pinar",
           1201.03
          ],
          [
           "Alcoroches",
           1411.883
          ],
          [
           "Aldeanueva de Guadalajara",
           950.4051
          ],
          [
           "Algar de Mesa",
           922.8428
          ],
          [
           "Algora",
           1111.185
          ],
          [
           "Alhóndiga",
           811.9917
          ],
          [
           "Alique",
           920.197
          ],
          [
           "Almadrones",
           1054.043
          ],
          [
           "Almoguera",
           658.963
          ],
          [
           "Almonacid de Zorita",
           710.4469
          ],
          [
           "Alocén",
           954.1763
          ],
          [
           "Alovera",
           648.2296
          ],
          [
           "Alustante",
           1398.75
          ],
          [
           "Angón",
           981.9118
          ],
          [
           "Anguita",
           1123.483
          ],
          [
           "Anquela del Ducado",
           1186.507
          ],
          [
           "Anquela del Pedregal",
           1281.853
          ],
          [
           "Aranzueque",
           686.1259
          ],
          [
           "Arbancón",
           902.12
          ],
          [
           "Arbeteta",
           989.9099
          ],
          [
           "Argecilla",
           956.304
          ],
          [
           "Armallones",
           1206.545
          ],
          [
           "Armuña de Tajuña",
           718.0318
          ],
          [
           "Arroyo de las Fraguas",
           1225.092
          ],
          [
           "Atanzón",
           952.7128
          ],
          [
           "Atienza",
           1153.596
          ],
          [
           "Auñón",
           771.4276
          ],
          [
           "Azuqueca de Henares",
           633.6434
          ],
          [
           "Baides",
           841.8666
          ],
          [
           "Baños de Tajo",
           1257.18
          ],
          [
           "Bañuelos",
           1156.416
          ],
          [
           "Barriopedro",
           893.6289
          ],
          [
           "Berninches",
           930.7506
          ],
          [
           "Brihuega",
           912.4825
          ],
          [
           "Budia",
           897.6595
          ],
          [
           "Bujalaro",
           847.1917
          ],
          [
           "Bustares",
           1289.387
          ],
          [
           "Cabanillas del Campo",
           686.0259
          ],
          [
           "Campillo de Dueñas",
           1117.296
          ],
          [
           "Campillo de Ranas",
           1097.048
          ],
          [
           "Campisábalos",
           1349.99
          ],
          [
           "Canredondo",
           1159.82
          ],
          [
           "Cantalojas",
           1314.269
          ],
          [
           "Cañizar",
           783.3613
          ],
          [
           "Casa de Uceda",
           915.0853
          ],
          [
           "Casas de San Galindo",
           1028.008
          ],
          [
           "Caspueñas",
           857.5028
          ],
          [
           "Castejón de Henares",
           959.337
          ],
          [
           "Castellar de la Muela",
           1210.087
          ],
          [
           "Castilforte",
           986.4266
          ],
          [
           "Castilnuevo",
           1084.918
          ],
          [
           "Cendejas de Enmedio",
           912.9671
          ],
          [
           "Cendejas de la Torre",
           957.337
          ],
          [
           "Centenera",
           818.259
          ],
          [
           "Cifuentes",
           897.1795
          ],
          [
           "Cincovillas",
           1016.226
          ],
          [
           "Ciruelas",
           823.9545
          ],
          [
           "Ciruelos del Pinar",
           1265.071
          ],
          [
           "Cobeta",
           1125.074
          ],
          [
           "Cogollor",
           945.5419
          ],
          [
           "Cogolludo",
           878.9348
          ],
          [
           "Condemios de Abajo",
           1313.768
          ],
          [
           "Condemios de Arriba",
           1312.75
          ],
          [
           "Congostrina",
           1010.113
          ],
          [
           "Copernal",
           844.6374
          ],
          [
           "Corduente",
           1058.495
          ],
          [
           "Checa",
           1364.288
          ],
          [
           "Chequilla",
           1357.645
          ],
          [
           "Chiloeches",
           793.2838
          ],
          [
           "Chillarón del Rey",
           793.6684
          ],
          [
           "Driebes",
           729.485
          ],
          [
           "Durón",
           736.4201
          ],
          [
           "Embid",
           1084.913
          ],
          [
           "Escamilla",
           1021.877
          ],
          [
           "Escariche",
           791.7507
          ],
          [
           "Escopete",
           869.3793
          ],
          [
           "Espinosa de Henares",
           769.5982
          ],
          [
           "Esplegares",
           1151.916
          ],
          [
           "Establés",
           1148.052
          ],
          [
           "Estriégana",
           1103.077
          ],
          [
           "Fontanar",
           688
          ],
          [
           "Fuembellida",
           1224.531
          ],
          [
           "Fuencemillán",
           832.7535
          ],
          [
           "Fuentelahiguera de Albatages",
           900.9053
          ],
          [
           "Fuentelencina",
           969.9274
          ],
          [
           "Fuentelsaz",
           1122.968
          ],
          [
           "Fuentelviejo",
           902.558
          ],
          [
           "Fuentenovilla",
           800.5488
          ],
          [
           "Gajanejos",
           1031.304
          ],
          [
           "Galápagos",
           736.8546
          ],
          [
           "Galve de Sorbe",
           1364.459
          ],
          [
           "Gascueña de Bornova",
           1207.064
          ],
          [
           "Guadalajara",
           714.2177
          ],
          [
           "Henche",
           821.3327
          ],
          [
           "Heras de Ayuso",
           708.7994
          ],
          [
           "Herrería",
           1085.296
          ],
          [
           "Hiendelaencina",
           1087.683
          ],
          [
           "Hijes",
           1162.066
          ],
          [
           "Hita",
           855.7426
          ],
          [
           "Hombrados",
           1234.546
          ],
          [
           "Hontoba",
           733.9285
          ],
          [
           "Horche",
           921.676
          ],
          [
           "Hortezuela de Océn",
           1096.975
          ],
          [
           "Huérmeces del Cerro",
           874.1462
          ],
          [
           "Huertahernando",
           1151.298
          ],
          [
           "Hueva",
           895.2715
          ],
          [
           "Humanes",
           749.6636
          ],
          [
           "Illana",
           750.5403
          ],
          [
           "Iniéstola",
           1157.162
          ],
          [
           "Irueste",
           854.0027
          ],
          [
           "Jadraque",
           829.6091
          ],
          [
           "Jirueque",
           836.55
          ],
          [
           "Ledanca",
           916.9545
          ],
          [
           "Loranca de Tajuña",
           674.3804
          ],
          [
           "Lupiana",
           768.1111
          ],
          [
           "Luzaga",
           1066.36
          ],
          [
           "Luzón",
           1181.69
          ],
          [
           "Majaelrayo",
           1193.425
          ],
          [
           "Málaga del Fresno",
           784.2536
          ],
          [
           "Malaguilla",
           824.4382
          ],
          [
           "Mandayona",
           869.4004
          ],
          [
           "Mantiel",
           922.6431
          ],
          [
           "Maranchón",
           1250.432
          ],
          [
           "Marchamalo",
           675.0148
          ],
          [
           "Masegoso de Tajuña",
           887.7745
          ],
          [
           "Matarrubia",
           864.5784
          ],
          [
           "Matillas",
           817.9203
          ],
          [
           "Mazarete",
           1211.015
          ],
          [
           "Mazuecos",
           708.3503
          ],
          [
           "Medranda",
           818.2693
          ],
          [
           "Megina",
           1250.206
          ],
          [
           "Membrillera",
           830.0648
          ],
          [
           "Miedes de Atienza",
           1150.024
          ],
          [
           "Milmarcos",
           1061.394
          ],
          [
           "Millana",
           819.1633
          ],
          [
           "Mirabueno",
           1069.348
          ],
          [
           "Miralrío",
           1039.837
          ],
          [
           "Mochales",
           993.5259
          ],
          [
           "Mohernando",
           781.8551
          ],
          [
           "Molina de Aragón",
           1066.345
          ],
          [
           "Monasterio",
           931.1225
          ],
          [
           "Mondéjar",
           798.318
          ],
          [
           "Montarrón",
           836.7844
          ],
          [
           "Moratilla de los Meleros",
           843.6528
          ],
          [
           "Morenilla",
           1188.845
          ],
          [
           "Muduex",
           818.524
          ],
          [
           "Negredo",
           986.1238
          ],
          [
           "Ocentejo",
           861.1108
          ],
          [
           "Olmeda de Cobeta",
           1136.275
          ],
          [
           "Orea",
           1501.279
          ],
          [
           "Pálmaces de Jadraque",
           916.1491
          ],
          [
           "Pardos",
           1185.159
          ],
          [
           "Paredes de Sigüenza",
           1002.631
          ],
          [
           "Pareja",
           753.7086
          ],
          [
           "Pastrana",
           760.5256
          ],
          [
           "Peñalén",
           1349.393
          ],
          [
           "Peñalver",
           941.0283
          ],
          [
           "Peralejos de las Truchas",
           1195.926
          ],
          [
           "Peralveche",
           1109.689
          ],
          [
           "Pinilla de Jadraque",
           837.084
          ],
          [
           "Pinilla de Molina",
           1218.99
          ],
          [
           "Pioz",
           877.6891
          ],
          [
           "Piqueras",
           1377.206
          ],
          [
           "Poveda de la Sierra",
           1188.949
          ],
          [
           "Pozo de Almoguera",
           783.4164
          ],
          [
           "Pozo de Guadalajara",
           890.155
          ],
          [
           "Prádena de Atienza",
           1143.877
          ],
          [
           "Prados Redondos",
           1158.477
          ],
          [
           "Puebla de Beleña",
           920.8109
          ],
          [
           "Puebla de Valles",
           846.1002
          ],
          [
           "Quer",
           706.5587
          ],
          [
           "Rebollosa de Jadraque",
           1028.823
          ],
          [
           "Renera",
           758.5328
          ],
          [
           "Retiendas",
           889.69
          ],
          [
           "Riba de Saelices",
           987.1724
          ],
          [
           "Rillo de Gallo",
           1056.004
          ],
          [
           "Riofrío del Llano",
           1018.82
          ],
          [
           "Robledillo de Mohernando",
           885.8916
          ],
          [
           "Robledo de Corpes",
           1151.281
          ],
          [
           "Romanillos de Atienza",
           1105.959
          ],
          [
           "Romanones",
           750.4893
          ],
          [
           "Rueda de la Sierra",
           1149.894
          ],
          [
           "Sacecorbo",
           1120.788
          ],
          [
           "Sacedón",
           744.1919
          ],
          [
           "Saelices de la Sal",
           994.9368
          ],
          [
           "Salmerón",
           826.9052
          ],
          [
           "San Andrés del Congosto",
           867.291
          ],
          [
           "San Andrés del Rey",
           1020.218
          ],
          [
           "Santiuste",
           917.553
          ],
          [
           "Saúca",
           1105.572
          ],
          [
           "Sayatón",
           653.2286
          ],
          [
           "Selas",
           1213.464
          ],
          [
           "Setiles",
           1260.147
          ],
          [
           "Sienes",
           1035.452
          ],
          [
           "Sigüenza",
           997.2746
          ],
          [
           "Solanillos del Extremo",
           997.022
          ],
          [
           "Somolinos",
           1253.444
          ],
          [
           "Sotodosos",
           1138.66
          ],
          [
           "Tamajón",
           1034.312
          ],
          [
           "Taragudo",
           765.4358
          ],
          [
           "Taravilla",
           1318.905
          ],
          [
           "Tartanedo",
           1189.511
          ],
          [
           "Tendilla",
           798.4559
          ],
          [
           "Terzaga",
           1178.228
          ],
          [
           "Tierzo",
           1144.808
          ],
          [
           "Tordelrábano",
           1019.433
          ],
          [
           "Tordellego",
           1248.824
          ],
          [
           "Tordesilos",
           1344.611
          ],
          [
           "Torija",
           969.4859
          ],
          [
           "Torrecuadrada de Molina",
           1188.343
          ],
          [
           "Torrecuadradilla",
           1020.426
          ],
          [
           "Torre del Burgo",
           722.6486
          ],
          [
           "Torrejón del Rey",
           720.3807
          ],
          [
           "Torremocha de Jadraque",
           934.535
          ],
          [
           "Torremocha del Campo",
           1087.207
          ],
          [
           "Torremocha del Pinar",
           1278.072
          ],
          [
           "Torremochuela",
           1169.329
          ],
          [
           "Torrubia",
           1168.836
          ],
          [
           "Tórtola de Henares",
           723.7584
          ],
          [
           "Tortuera",
           1112.692
          ],
          [
           "Tortuero",
           896.6824
          ],
          [
           "Traíd",
           1391.918
          ],
          [
           "Trijueque",
           997.5736
          ],
          [
           "Trillo",
           734.2948
          ],
          [
           "Uceda",
           778.0472
          ],
          [
           "Ujados",
           1148.512
          ],
          [
           "Utande",
           838.1349
          ],
          [
           "Valdarachas",
           765.6512
          ],
          [
           "Valdearenas",
           786.662
          ],
          [
           "Valdeavellano",
           967.1561
          ],
          [
           "Valdeaveruelo",
           731.2949
          ],
          [
           "Valdeconcha",
           740.5092
          ],
          [
           "Valdegrudas",
           925.311
          ],
          [
           "Valdelcubo",
           1019.085
          ],
          [
           "Valdenuño Fernández",
           846.8645
          ],
          [
           "Valdepeñas de la Sierra",
           914.8377
          ],
          [
           "Valderrebollo",
           875.3423
          ],
          [
           "Valdesotos",
           835.3204
          ],
          [
           "Valfermoso de Tajuña",
           958.9691
          ],
          [
           "Valhermoso",
           1229.919
          ],
          [
           "Valtablado del Río",
           842.2578
          ],
          [
           "Valverde de los Arroyos",
           1258.747
          ],
          [
           "Viana de Jadraque",
           868.2767
          ],
          [
           "Villanueva de Alcorón",
           1267.838
          ],
          [
           "Villanueva de Argecilla",
           1024.961
          ],
          [
           "Villanueva de la Torre",
           694
          ],
          [
           "Villares de Jadraque",
           1037.886
          ],
          [
           "Villaseca de Henares",
           856.4547
          ],
          [
           "Villaseca de Uceda",
           914.4682
          ],
          [
           "Villel de Mesa",
           933.9042
          ],
          [
           "Viñuelas",
           903.8938
          ],
          [
           "Yebes",
           890.4029
          ],
          [
           "Yebra",
           753.6019
          ],
          [
           "Yélamos de Abajo",
           916.2587
          ],
          [
           "Yélamos de Arriba",
           947.1408
          ],
          [
           "Yunquera de Henares",
           695.682
          ],
          [
           "Zaorejas",
           1225.005
          ],
          [
           "Zarzuela de Jadraque",
           1040.29
          ],
          [
           "Zorita de los Canes",
           596.4229
          ],
          [
           "Semillas",
           1201.821
          ],
          [
           "Alájar",
           578.1751
          ],
          [
           "Aljaraque",
           36.69819
          ],
          [
           "Almonaster la Real",
           581.577
          ],
          [
           "Almonte",
           77.07417
          ],
          [
           "Alosno",
           183.9688
          ],
          [
           "Aracena",
           673.9959
          ],
          [
           "Aroche",
           407.155
          ],
          [
           "Arroyomolinos de León",
           599.7921
          ],
          [
           "Ayamonte",
           3.156081
          ],
          [
           "Beas",
           120.9826
          ],
          [
           "Berrocal",
           465.0762
          ],
          [
           "Bollullos Par del Condado",
           116.0159
          ],
          [
           "Bonares",
           82.23658
          ],
          [
           "Cabezas Rubias",
           222.5471
          ],
          [
           "Cala",
           594.0731
          ],
          [
           "Calañas",
           297.4208
          ],
          [
           "Campofrío",
           518.697
          ],
          [
           "Cañaveral de León",
           545.9366
          ],
          [
           "Cartaya",
           24.17416
          ],
          [
           "Castaño del Robledo",
           739.8133
          ],
          [
           "Corteconcepción",
           581.7432
          ],
          [
           "Cortegana",
           686.309
          ],
          [
           "Cortelazor",
           624.8343
          ],
          [
           "Cumbres de Enmedio",
           592.3164
          ],
          [
           "Cumbres de San Bartolomé",
           579.4737
          ],
          [
           "Cumbres Mayores",
           694.7698
          ],
          [
           "Chucena",
           148.2157
          ],
          [
           "Encinasola",
           430.9646
          ],
          [
           "Escacena del Campo",
           172
          ],
          [
           "Fuenteheridos",
           711.6528
          ],
          [
           "Galaroza",
           562.1963
          ],
          [
           "Gibraleón",
           29.21607
          ],
          [
           "Higuera de la Sierra",
           627.3121
          ],
          [
           "Hinojales",
           615.3049
          ],
          [
           "Hinojos",
           83.66503
          ],
          [
           "Huelva",
           20.74414
          ],
          [
           "Isla Cristina",
           6.336774
          ],
          [
           "Jabugo",
           658.2429
          ],
          [
           "Lepe",
           24.5359
          ],
          [
           "Linares de la Sierra",
           490.7656
          ],
          [
           "Lucena del Puerto",
           83.68538
          ],
          [
           "Manzanilla",
           163.7289
          ],
          [
           "Minas de Riotinto",
           417.6434
          ],
          [
           "Moguer",
           53.91101
          ],
          [
           "Nerva",
           336.9252
          ],
          [
           "Niebla",
           42.88836
          ],
          [
           "Palos de la Frontera",
           29.09229
          ],
          [
           "Paterna del Campo",
           184.3562
          ],
          [
           "Paymogo",
           180.5523
          ],
          [
           "Puebla de Guzmán",
           212.8246
          ],
          [
           "Puerto Moral",
           519.9462
          ],
          [
           "Punta Umbría",
           7.50116
          ],
          [
           "Rociana del Condado",
           97.39848
          ],
          [
           "Rosal de la Frontera",
           221.4779
          ],
          [
           "San Bartolomé de la Torre",
           131.2254
          ],
          [
           "San Juan del Puerto",
           8
          ],
          [
           "Sanlúcar de Guadiana",
           15.38703
          ],
          [
           "San Silvestre de Guzmán",
           152.8138
          ],
          [
           "Santa Ana la Real",
           637.6948
          ],
          [
           "Santa Bárbara de Casa",
           310.5924
          ],
          [
           "Santa Olalla del Cala",
           518.6226
          ],
          [
           "Trigueros",
           78.58913
          ],
          [
           "Valdelarco",
           619.3045
          ],
          [
           "Valverde del Camino",
           282.4763
          ],
          [
           "Villablanca",
           95.63974
          ],
          [
           "Villalba del Alcor",
           161.8071
          ],
          [
           "Villanueva de las Cruces",
           119.6258
          ],
          [
           "Villanueva de los Castillejos",
           225
          ],
          [
           "Villarrasa",
           66.98409
          ],
          [
           "Zalamea la Real",
           409.5469
          ],
          [
           "Zufre",
           441.5297
          ],
          [
           "Abiego",
           527.2344
          ],
          [
           "Abizanda",
           603.4579
          ],
          [
           "Adahuesca",
           605.8567
          ],
          [
           "Agüero",
           665.527
          ],
          [
           "Aisa",
           1818.995
          ],
          [
           "Albalate de Cinca",
           193.5133
          ],
          [
           "Albalatillo",
           261.1216
          ],
          [
           "Albelda",
           364.2167
          ],
          [
           "Albero Alto",
           438.0544
          ],
          [
           "Albero Bajo",
           400
          ],
          [
           "Alberuela de Tubo",
           350.1249
          ],
          [
           "Alcalá de Gurrea",
           446.0858
          ],
          [
           "Alcalá del Obispo",
           512.0583
          ],
          [
           "Alcampell",
           503.4557
          ],
          [
           "Alcolea de Cinca",
           196.6943
          ],
          [
           "Alcubierre",
           452.4926
          ],
          [
           "Alerre",
           500
          ],
          [
           "Alfántega",
           248.8059
          ],
          [
           "Almudévar",
           401.6333
          ],
          [
           "Almunia de San Juan",
           352.0343
          ],
          [
           "Almuniente",
           340.9094
          ],
          [
           "Alquézar",
           629.8254
          ],
          [
           "Altorricón",
           264.4067
          ],
          [
           "Angüés",
           540
          ],
          [
           "Ansó",
           866.3192
          ],
          [
           "Antillón",
           488.7307
          ],
          [
           "Aragüés del Puerto",
           948.0828
          ],
          [
           "Arén",
           754.0966
          ],
          [
           "Argavieso",
           471.885
          ],
          [
           "Arguis",
           1058.686
          ],
          [
           "Ayerbe",
           592.9154
          ],
          [
           "Azanuy-Alins",
           449.2497
          ],
          [
           "Azara",
           440
          ],
          [
           "Azlor",
           487.5061
          ],
          [
           "Baélls",
           613.6285
          ],
          [
           "Bailo",
           700.7607
          ],
          [
           "Baldellou",
           464.8766
          ],
          [
           "Ballobar",
           158.806
          ],
          [
           "Banastás",
           534.7084
          ],
          [
           "Barbastro",
           336.4226
          ],
          [
           "Barbués",
           360.2759
          ],
          [
           "Barbuñales",
           459.5806
          ],
          [
           "Bárcabo",
           718.25
          ],
          [
           "Belver de Cinca",
           195.5677
          ],
          [
           "Benabarre",
           720.4813
          ],
          [
           "Benasque",
           1158.04
          ],
          [
           "Berbegal",
           513.5282
          ],
          [
           "Bielsa",
           1021.674
          ],
          [
           "Bierge",
           571.966
          ],
          [
           "Biescas",
           866.7526
          ],
          [
           "Binaced",
           281.8098
          ],
          [
           "Binéfar",
           288.9169
          ],
          [
           "Bisaurri",
           1059.666
          ],
          [
           "Biscarrués",
           460.8647
          ],
          [
           "Blecua y Torres",
           462.2051
          ],
          [
           "Boltaña",
           581.7597
          ],
          [
           "Bonansa",
           1248.454
          ],
          [
           "Borau",
           993.8726
          ],
          [
           "Broto",
           900.7473
          ],
          [
           "Caldearenas",
           646.5828
          ],
          [
           "Campo",
           666.6902
          ],
          [
           "Camporrélls",
           619.9485
          ],
          [
           "Canal de Berdún",
           657.1034
          ],
          [
           "Candasnos",
           285.8304
          ],
          [
           "Canfranc",
           1056.137
          ],
          [
           "Capdesaso",
           308.4349
          ],
          [
           "Capella",
           506.7932
          ],
          [
           "Casbas de Huesca",
           560.2505
          ],
          [
           "Castejón del Puente",
           346.0452
          ],
          [
           "Castejón de Monegros",
           470.3977
          ],
          [
           "Castejón de Sos",
           914.6373
          ],
          [
           "Castelflorite",
           310.2441
          ],
          [
           "Castiello de Jaca",
           898.745
          ],
          [
           "Castigaleu",
           836.4407
          ],
          [
           "Castillazuelo",
           362.4823
          ],
          [
           "Castillonroy",
           460.0535
          ],
          [
           "Colungo",
           592.0106
          ],
          [
           "Chalamera",
           194.1678
          ],
          [
           "Chía",
           1178.088
          ],
          [
           "Chimillas",
           521.475
          ],
          [
           "Esplús",
           280.312
          ],
          [
           "Estada",
           370.5751
          ],
          [
           "Estadilla",
           452.7106
          ],
          [
           "Estopiñán del Castillo",
           734.6618
          ],
          [
           "Fago",
           900
          ],
          [
           "Fanlo",
           1362.342
          ],
          [
           "Fiscal",
           768.2214
          ],
          [
           "Fonz",
           442.3823
          ],
          [
           "Foradada del Toscar",
           984.6446
          ],
          [
           "Fraga",
           129.2042
          ],
          [
           "Gistaín",
           1436.18
          ],
          [
           "Grañén",
           328.7679
          ],
          [
           "Graus",
           457.7887
          ],
          [
           "Gurrea de Gállego",
           339.3757
          ],
          [
           "Hoz de Jaca",
           1257.866
          ],
          [
           "Huerto",
           372.563
          ],
          [
           "Huesca",
           467
          ],
          [
           "Ibieca",
           640
          ],
          [
           "Igriés",
           602.9488
          ],
          [
           "Ilche",
           321.2749
          ],
          [
           "Isábena",
           793.2245
          ],
          [
           "Jaca",
           815.3232
          ],
          [
           "Jasa",
           950.1556
          ],
          [
           "Labuerda",
           568.3488
          ],
          [
           "Laluenga",
           469.2747
          ],
          [
           "Lalueza",
           287.3316
          ],
          [
           "Lanaja",
           373.5856
          ],
          [
           "Laperdiguera",
           460.3023
          ],
          [
           "Lascellas-Ponzano",
           520
          ],
          [
           "Lascuarre",
           639.2742
          ],
          [
           "Laspaúles",
           1445.999
          ],
          [
           "Laspuña",
           699.6177
          ],
          [
           "Loarre",
           778.4832
          ],
          [
           "Loporzano",
           575.7261
          ],
          [
           "Loscorrales",
           622.3267
          ],
          [
           "Monesma y Cajigar",
           1022.985
          ],
          [
           "Monflorite-Lascasas",
           435.7766
          ],
          [
           "Montanuy",
           1190.101
          ],
          [
           "Monzón",
           283.2903
          ],
          [
           "Naval",
           605.8396
          ],
          [
           "Novales",
           448.5544
          ],
          [
           "Nueno",
           725.6004
          ],
          [
           "Olvena",
           516.8267
          ],
          [
           "Ontiñena",
           203.3611
          ],
          [
           "Osso de Cinca",
           171.382
          ],
          [
           "Palo",
           706.9058
          ],
          [
           "Panticosa",
           1168.466
          ],
          [
           "Peñalba",
           248.4572
          ],
          [
           "Peralta de Alcofea",
           401.0762
          ],
          [
           "Peralta de Calasanz",
           749.5464
          ],
          [
           "Peraltilla",
           425.7468
          ],
          [
           "Perarrúa",
           509.4039
          ],
          [
           "Pertusa",
           349.1424
          ],
          [
           "Piracés",
           420.6216
          ],
          [
           "Plan",
           1009.788
          ],
          [
           "Poleñino",
           296.7819
          ],
          [
           "Pozán de Vero",
           395.2215
          ],
          [
           "Puente de Montañana",
           533.9636
          ],
          [
           "Puértolas",
           1167.452
          ],
          [
           "Pueyo de Santa Cruz",
           253.1434
          ],
          [
           "Quicena",
           478.8754
          ],
          [
           "Robres",
           401.188
          ],
          [
           "Sabiñánigo",
           798.9523
          ],
          [
           "Sahún",
           1150.486
          ],
          [
           "Salas Altas",
           532.2599
          ],
          [
           "Salas Bajas",
           445.015
          ],
          [
           "Salillas",
           417.588
          ],
          [
           "Sallent de Gállego",
           1311.04
          ],
          [
           "San Esteban de Litera",
           429.2248
          ],
          [
           "Sangarrén",
           364.8689
          ],
          [
           "San Juan de Plan",
           1160.746
          ],
          [
           "Santa Cilia",
           645.163
          ],
          [
           "Santa Cruz de la Serós",
           782.9228
          ],
          [
           "Santaliestra y San Quílez",
           560.1749
          ],
          [
           "Sariñena",
           287.0003
          ],
          [
           "Secastilla",
           603.276
          ],
          [
           "Seira",
           898.3008
          ],
          [
           "Sena",
           218.4069
          ],
          [
           "Senés de Alcubierre",
           390.8914
          ],
          [
           "Sesa",
           443.4355
          ],
          [
           "Sesué",
           1010.999
          ],
          [
           "Siétamo",
           552.3276
          ],
          [
           "Sopeira",
           749.4668
          ],
          [
           "Tamarite de Litera",
           361.4778
          ],
          [
           "Tardienta",
           383.5266
          ],
          [
           "Tella-Sin",
           873.3126
          ],
          [
           "Tierz",
           465.9984
          ],
          [
           "Tolva",
           680.778
          ],
          [
           "Torralba de Aragón",
           391.9379
          ],
          [
           "Torre la Ribera",
           1119.165
          ],
          [
           "Torrente de Cinca",
           113.8372
          ],
          [
           "Torres de Alcanadre",
           390.6137
          ],
          [
           "Torres de Barbués",
           356.6004
          ],
          [
           "Tramaced",
           401.6354
          ],
          [
           "Valfarta",
           366.5498
          ],
          [
           "Valle de Bardají",
           953.4558
          ],
          [
           "Valle de Lierp",
           1064.261
          ],
          [
           "Velilla de Cinca",
           129.0712
          ],
          [
           "Viacamp y Litera",
           892.478
          ],
          [
           "Vicién",
           397.6077
          ],
          [
           "Villanova",
           982.9814
          ],
          [
           "Villanúa",
           955.9241
          ],
          [
           "Villanueva de Sigena",
           231.32
          ],
          [
           "Yebra de Basa",
           890.7194
          ],
          [
           "Yésero",
           1076.43
          ],
          [
           "Zaidín",
           162.6138
          ],
          [
           "Valle de Hecho",
           836.0576
          ],
          [
           "Puente la Reina de Jaca",
           621.0272
          ],
          [
           "San Miguel del Cinca",
           264.1327
          ],
          [
           "Lupiñén-Ortilla",
           464.1017
          ],
          [
           "Santa María de Dulcis",
           444.2901
          ],
          [
           "Aínsa-Sobrarbe",
           533.0886
          ],
          [
           "Hoz y Costean",
           567.6984
          ],
          [
           "Vencillón",
           199.0715
          ],
          [
           "Albanchez de Mágina",
           838.4496
          ],
          [
           "Alcalá la Real",
           929.4698
          ],
          [
           "Alcaudete",
           660.8123
          ],
          [
           "Aldeaquemada",
           700.2711
          ],
          [
           "Andújar",
           215.333
          ],
          [
           "Arjona",
           436.5915
          ],
          [
           "Arjonilla",
           348.891
          ],
          [
           "Arquillos",
           382.3034
          ],
          [
           "Baeza",
           759.475
          ],
          [
           "Bailén",
           350.999
          ],
          [
           "Baños de la Encina",
           419.4892
          ],
          [
           "Beas de Segura",
           581.1347
          ],
          [
           "Begíjar",
           556.9252
          ],
          [
           "Bélmez de la Moraleda",
           863.7288
          ],
          [
           "Benatae",
           854.9232
          ],
          [
           "Cabra del Santo Cristo",
           946.8475
          ],
          [
           "Cambil",
           766.1705
          ],
          [
           "Campillo de Arenas",
           873.8444
          ],
          [
           "Canena",
           522.5807
          ],
          [
           "Carboneros",
           403.3349
          ],
          [
           "Castellar",
           755.1962
          ],
          [
           "Castillo de Locubín",
           702.9443
          ],
          [
           "Cazalilla",
           299.448
          ],
          [
           "Cazorla",
           803.9982
          ],
          [
           "Chiclana de Segura",
           849.2234
          ],
          [
           "Chilluévar",
           731.5903
          ],
          [
           "Escañuela",
           319.1237
          ],
          [
           "Espeluy",
           279.3584
          ],
          [
           "Frailes",
           965.3821
          ],
          [
           "Fuensanta de Martos",
           739.0327
          ],
          [
           "Fuerte del Rey",
           436.6272
          ],
          [
           "Génave",
           828.0142
          ],
          [
           "Guarromán",
           348.1273
          ],
          [
           "Lahiguera",
           372.6848
          ],
          [
           "Higuera de Calatrava",
           327.069
          ],
          [
           "Hinojares",
           662.6468
          ],
          [
           "Hornos",
           856.1879
          ],
          [
           "Huelma",
           957.8574
          ],
          [
           "Huesa",
           633.4688
          ],
          [
           "Ibros",
           595.4207
          ],
          [
           "Iznatoraf",
           1037.591
          ],
          [
           "Jabalquinto",
           487.9245
          ],
          [
           "Jaén",
           576.3939
          ],
          [
           "Jamilena",
           754.0273
          ],
          [
           "Jimena",
           610.7731
          ],
          [
           "Jódar",
           650.8392
          ],
          [
           "Larva",
           736.2119
          ],
          [
           "Linares",
           410.825
          ],
          [
           "Lopera",
           272.2022
          ],
          [
           "Lupión",
           500.9033
          ],
          [
           "Mancha Real",
           759.8338
          ],
          [
           "Marmolejo",
           244.3259
          ],
          [
           "Martos",
           739.3722
          ],
          [
           "Mengíbar",
           322.3982
          ],
          [
           "Montizón",
           644.2109
          ],
          [
           "Navas de San Juan",
           660.0787
          ],
          [
           "Noalejo",
           1090.677
          ],
          [
           "Orcera",
           758.6879
          ],
          [
           "Peal de Becerro",
           548.8191
          ],
          [
           "Pegalajar",
           795.4036
          ],
          [
           "Porcuna",
           468.4524
          ],
          [
           "Pozo Alcón",
           866.2172
          ],
          [
           "Puente de Génave",
           546.5222
          ],
          [
           "Quesada",
           679.3597
          ],
          [
           "Rus",
           589.6185
          ],
          [
           "Sabiote",
           829.248
          ],
          [
           "Santa Elena",
           744.1349
          ],
          [
           "Santiago de Calatrava",
           391.0764
          ],
          [
           "Santisteban del Puerto",
           706.2657
          ],
          [
           "Santo Tomé",
           450.9806
          ],
          [
           "Segura de la Sierra",
           1110.403
          ],
          [
           "Siles",
           831.9842
          ],
          [
           "Sorihuela del Guadalimar",
           630.3478
          ],
          [
           "Torreblascopedro",
           329.4734
          ],
          [
           "Torredonjimeno",
           585.9095
          ],
          [
           "Torreperogil",
           757.6904
          ],
          [
           "Torres",
           885.6928
          ],
          [
           "Torres de Albánchez",
           830.6685
          ],
          [
           "Úbeda",
           737.4617
          ],
          [
           "Valdepeñas de Jaén",
           921.3818
          ],
          [
           "Vilches",
           546.2039
          ],
          [
           "Villacarrillo",
           793.0148
          ],
          [
           "Villanueva de la Reina",
           220.4884
          ],
          [
           "Villanueva del Arzobispo",
           673.1283
          ],
          [
           "Villardompardo",
           443.1493
          ],
          [
           "Villarrodrigo",
           870.652
          ],
          [
           "Cárcheles",
           797.9011
          ],
          [
           "Bedmar y Garcíez",
           645.4688
          ],
          [
           "Villatorres",
           302.4043
          ],
          [
           "Santiago-Pontones",
           1229.572
          ],
          [
           "Arroyo del Ojanco",
           540.2305
          ],
          [
           "Acebedo",
           1156.151
          ],
          [
           "Algadefe",
           740.688
          ],
          [
           "Alija del Infantado",
           740.0895
          ],
          [
           "Almanza",
           920.5887
          ],
          [
           "Ardón",
           781.1647
          ],
          [
           "Arganza",
           591.5208
          ],
          [
           "Astorga",
           877.6437
          ],
          [
           "Balboa",
           688.6499
          ],
          [
           "Barjas",
           845.5484
          ],
          [
           "Bembibre",
           650.2163
          ],
          [
           "Benavides",
           843.1052
          ],
          [
           "Benuza",
           790.2425
          ],
          [
           "Bercianos del Páramo",
           820.048
          ],
          [
           "Bercianos del Real Camino",
           854.1403
          ],
          [
           "Berlanga del Bierzo",
           794.8105
          ],
          [
           "Boca de Huérgano",
           1111.524
          ],
          [
           "Boñar",
           976.9141
          ],
          [
           "Borrenes",
           557.0456
          ],
          [
           "Brazuelo",
           968.3392
          ],
          [
           "Burón",
           1098.104
          ],
          [
           "Bustillo del Páramo",
           847.2374
          ],
          [
           "Cabañas Raras",
           564.647
          ],
          [
           "Cabreros del Río",
           764.4465
          ],
          [
           "Cabrillanes",
           1248.003
          ],
          [
           "Cacabelos",
           483.8384
          ],
          [
           "Calzada del Coto",
           823.7811
          ],
          [
           "Campazas",
           767.0551
          ],
          [
           "Campo de Villavidel",
           769.7337
          ],
          [
           "Camponaraya",
           490.8461
          ],
          [
           "Cármenes",
           1168.941
          ],
          [
           "Carracedelo",
           454.8716
          ],
          [
           "Carrizo",
           891.8846
          ],
          [
           "Carrocera",
           1050.971
          ],
          [
           "Carucedo",
           506.0289
          ],
          [
           "Castilfalé",
           824.5781
          ],
          [
           "Castrillo de Cabrera",
           1064.227
          ],
          [
           "Castrillo de la Valduerna",
           909.4456
          ],
          [
           "Castrocalbón",
           809.9485
          ],
          [
           "Castrocontrigo",
           915
          ],
          [
           "Castropodame",
           746.3535
          ],
          [
           "Castrotierra de Valmadrigal",
           849
          ],
          [
           "Cea",
           840.9099
          ],
          [
           "Cebanico",
           951.4104
          ],
          [
           "Cebrones del Río",
           759.5551
          ],
          [
           "Cimanes de la Vega",
           722.0102
          ],
          [
           "Cimanes del Tejar",
           900.9469
          ],
          [
           "Cistierna",
           948.1119
          ],
          [
           "Congosto",
           691.2043
          ],
          [
           "Corbillos de los Oteros",
           792
          ],
          [
           "Corullón",
           484.8051
          ],
          [
           "Crémenes",
           995.2369
          ],
          [
           "Cuadros",
           903.5613
          ],
          [
           "Cubillas de los Oteros",
           772.6264
          ],
          [
           "Cubillas de Rueda",
           893.3711
          ],
          [
           "Cubillos del Sil",
           584.8532
          ],
          [
           "Chozas de Abajo",
           882.439
          ],
          [
           "Destriana",
           893.5352
          ],
          [
           "Encinedo",
           983.8217
          ],
          [
           "Escobar de Campos",
           823.3975
          ],
          [
           "Fabero",
           700.0787
          ],
          [
           "Folgoso de la Ribera",
           777.3079
          ],
          [
           "Fresno de la Vega",
           754
          ],
          [
           "Fuentes de Carbajal",
           805.9653
          ],
          [
           "Garrafe de Torío",
           918.4145
          ],
          [
           "Gordaliza del Pino",
           822.9027
          ],
          [
           "Gordoncillo",
           749.6256
          ],
          [
           "Gradefes",
           855.98
          ],
          [
           "Grajal de Campos",
           804.4705
          ],
          [
           "Gusendos de los Oteros",
           799.3569
          ],
          [
           "Hospital de Órbigo",
           819.4772
          ],
          [
           "Igüeña",
           917.6442
          ],
          [
           "Izagre",
           783.4506
          ],
          [
           "Joarilla de las Matas",
           791.1022
          ],
          [
           "Laguna Dalga",
           800.6324
          ],
          [
           "Laguna de Negrillos",
           782
          ],
          [
           "León",
           841.3373
          ],
          [
           "Lucillo",
           1221.828
          ],
          [
           "Luyego",
           1050.455
          ],
          [
           "Llamas de la Ribera",
           897.8275
          ],
          [
           "Magaz de Cepeda",
           895.6011
          ],
          [
           "Mansilla de las Mulas",
           797.9987
          ],
          [
           "Mansilla Mayor",
           792.6296
          ],
          [
           "Maraña",
           1240.478
          ],
          [
           "Matadeón de los Oteros",
           862.5037
          ],
          [
           "Matallana de Torío",
           1012.9
          ],
          [
           "Matanza",
           832.1714
          ],
          [
           "Molinaseca",
           581.7184
          ],
          [
           "Murias de Paredes",
           1247.882
          ],
          [
           "Noceda del Bierzo",
           829.9746
          ],
          [
           "Oencia",
           842.3768
          ],
          [
           "Onzonilla",
           806.4099
          ],
          [
           "Oseja de Sajambre",
           762.0876
          ],
          [
           "Pajares de los Oteros",
           790.4992
          ],
          [
           "Palacios de la Valduerna",
           795.884
          ],
          [
           "Palacios del Sil",
           876.0037
          ],
          [
           "Páramo del Sil",
           873.4056
          ],
          [
           "Peranzanes",
           944.1578
          ],
          [
           "Pobladura de Pelayo García",
           797
          ],
          [
           "Ponferrada",
           537.8424
          ],
          [
           "Posada de Valdeón",
           915.0911
          ],
          [
           "Pozuelo del Páramo",
           757.3731
          ],
          [
           "Prado de la Guzpeña",
           1052.656
          ],
          [
           "Priaranza del Bierzo",
           512.7617
          ],
          [
           "Prioro",
           1116.744
          ],
          [
           "Puebla de Lillo",
           1142.314
          ],
          [
           "Puente de Domingo Flórez",
           376.8705
          ],
          [
           "Quintana del Castillo",
           1015.925
          ],
          [
           "Quintana del Marco",
           747.4242
          ],
          [
           "Quintana y Congosto",
           815.3561
          ],
          [
           "Regueras de Arriba",
           768.0805
          ],
          [
           "Reyero",
           1147.963
          ],
          [
           "Riaño",
           1110.109
          ],
          [
           "Riego de la Vega",
           809.6022
          ],
          [
           "Riello",
           1050.043
          ],
          [
           "Rioseco de Tapia",
           954.6298
          ],
          [
           "Roperuelos del Páramo",
           772
          ],
          [
           "Sabero",
           984.9694
          ],
          [
           "Sahagún",
           823.8625
          ],
          [
           "San Adrián del Valle",
           731.8175
          ],
          [
           "San Andrés del Rabanedo",
           855.3212
          ],
          [
           "Sancedo",
           685.0873
          ],
          [
           "San Cristóbal de la Polantera",
           799.5095
          ],
          [
           "San Emiliano",
           1182.807
          ],
          [
           "San Esteban de Nogales",
           785.158
          ],
          [
           "San Justo de la Vega",
           851.7037
          ],
          [
           "San Millán de los Caballeros",
           750.4792
          ],
          [
           "San Pedro Bercianos",
           823.5859
          ],
          [
           "Santa Colomba de Curueño",
           926.4728
          ],
          [
           "Santa Colomba de Somoza",
           998.198
          ],
          [
           "Santa Cristina de Valmadrigal",
           806.7304
          ],
          [
           "Santa Elena de Jamuz",
           767.0479
          ],
          [
           "Santa María de la Isla",
           788.8663
          ],
          [
           "Santa María del Monte de Cea",
           889.7578
          ],
          [
           "Santa María del Páramo",
           812.0701
          ],
          [
           "Santa María de Ordás",
           949.3904
          ],
          [
           "Santa Marina del Rey",
           845.9294
          ],
          [
           "Santas Martas",
           834.6781
          ],
          [
           "Santiago Millas",
           933.2487
          ],
          [
           "Santovenia de la Valdoncina",
           839.5405
          ],
          [
           "Sariegos",
           870.648
          ],
          [
           "Sena de Luna",
           1146.444
          ],
          [
           "Sobrado",
           441.7868
          ],
          [
           "Soto de la Vega",
           779.906
          ],
          [
           "Soto y Amío",
           1063.305
          ],
          [
           "Toral de los Guzmanes",
           744.2477
          ],
          [
           "Toreno",
           653.8434
          ],
          [
           "Torre del Bierzo",
           738.916
          ],
          [
           "Trabadelo",
           573.4517
          ],
          [
           "Truchas",
           1119.999
          ],
          [
           "Turcia",
           850.9941
          ],
          [
           "Urdiales del Páramo",
           810.6698
          ],
          [
           "Valdefresno",
           871.7318
          ],
          [
           "Valdefuentes del Páramo",
           786.8314
          ],
          [
           "Valdelugueros",
           1194.567
          ],
          [
           "Valdemora",
           777.129
          ],
          [
           "Valdepiélago",
           1030.69
          ],
          [
           "Valdepolo",
           873.5519
          ],
          [
           "Valderas",
           752.0427
          ],
          [
           "Valderrey",
           830.6566
          ],
          [
           "Valderrueda",
           1023.137
          ],
          [
           "Valdesamario",
           1021.253
          ],
          [
           "Val de San Lorenzo",
           886.899
          ],
          [
           "Valdevimbre",
           810.7202
          ],
          [
           "Valencia de Don Juan",
           767.8869
          ],
          [
           "Valverde de la Virgen",
           890.2882
          ],
          [
           "Valverde-Enrique",
           833.2962
          ],
          [
           "Vallecillo",
           846.0903
          ],
          [
           "Vegacervera",
           1046.433
          ],
          [
           "Vega de Espinareda",
           607.2139
          ],
          [
           "Vega de Infanzones",
           780
          ],
          [
           "Vega de Valcarce",
           629.737
          ],
          [
           "Vegaquemada",
           938.0208
          ],
          [
           "Vegas del Condado",
           862
          ],
          [
           "Villablino",
           989.2762
          ],
          [
           "Villabraz",
           847.0239
          ],
          [
           "Villadangos del Páramo",
           899.3542
          ],
          [
           "Villademor de la Vega",
           748.9046
          ],
          [
           "Villafranca del Bierzo",
           518.9436
          ],
          [
           "Villagatón",
           1015.718
          ],
          [
           "Villamandos",
           727.7506
          ],
          [
           "Villamañán",
           762.7079
          ],
          [
           "Villamartín de Don Sancho",
           892.331
          ],
          [
           "Villamejil",
           909.9926
          ],
          [
           "Villamol",
           819.0361
          ],
          [
           "Villamontán de la Valduerna",
           822.5558
          ],
          [
           "Villamoratiel de las Matas",
           845.7986
          ],
          [
           "Villanueva de las Manzanas",
           780.3629
          ],
          [
           "Villaobispo de Otero",
           868.2292
          ],
          [
           "Villaquejida",
           724.3493
          ],
          [
           "Villaquilambre",
           864.2917
          ],
          [
           "Villarejo de Órbigo",
           816.7586
          ],
          [
           "Villares de Órbigo",
           831.3205
          ],
          [
           "Villasabariego",
           851.8769
          ],
          [
           "Villaselán",
           862.9064
          ],
          [
           "Villaturiel",
           797.6174
          ],
          [
           "Villazala",
           799.6208
          ],
          [
           "Villazanzo de Valderaduey",
           916.1418
          ],
          [
           "Zotes del Páramo",
           782.1282
          ],
          [
           "Villamanín",
           1138.44
          ],
          [
           "Villaornate y Castro",
           737.9659
          ],
          [
           "Abella de la Conca",
           952.1764
          ],
          [
           "Àger",
           607.9741
          ],
          [
           "Agramunt",
           338.7131
          ],
          [
           "Alàs i Cerc",
           745.4337
          ],
          [
           "Albatàrrec",
           151.8978
          ],
          [
           "Albesa",
           238.3108
          ],
          [
           "Alcanó",
           216.0127
          ],
          [
           "Alcarràs",
           136.5219
          ],
          [
           "Alcoletge",
           213.2258
          ],
          [
           "Alfarràs",
           298.5017
          ],
          [
           "Alfés",
           233.033
          ],
          [
           "Algerri",
           347.6021
          ],
          [
           "Alguaire",
           282.0707
          ],
          [
           "Alins",
           1056.239
          ],
          [
           "Almacelles",
           249.5397
          ],
          [
           "Almatret",
           468.0571
          ],
          [
           "Almenar",
           300.9621
          ],
          [
           "Alòs de Balaguer",
           298.3662
          ],
          [
           "Alpicat",
           264.9039
          ],
          [
           "Alt Àneu",
           1091.135
          ],
          [
           "Naut Aran",
           1273.032
          ],
          [
           "Anglesola",
           342
          ],
          [
           "Arbeca",
           306.752
          ],
          [
           "Arres",
           1300.125
          ],
          [
           "Arsèguel",
           985.8667
          ],
          [
           "Artesa de Lleida",
           201.7782
          ],
          [
           "Artesa de Segre",
           332.3418
          ],
          [
           "Aspa",
           256.8022
          ],
          [
           "Aitona",
           114.3093
          ],
          [
           "Baix Pallars",
           606.2668
          ],
          [
           "Balaguer",
           227.2513
          ],
          [
           "Barbens",
           284.5768
          ],
          [
           "Bassella",
           413.0881
          ],
          [
           "Bausen",
           904.0203
          ],
          [
           "Belianes",
           375.9277
          ],
          [
           "Bellcaire d'Urgell",
           264.6959
          ],
          [
           "Bell-lloc d'Urgell",
           199.3234
          ],
          [
           "Bellmunt d'Urgell",
           347.8303
          ],
          [
           "Bellpuig",
           293.6344
          ],
          [
           "Bellver de Cerdanya",
           1033.611
          ],
          [
           "Bellvís",
           209
          ],
          [
           "Benavent de Segrià",
           234.1884
          ],
          [
           "Biosca",
           433.4449
          ],
          [
           "Bovera",
           302.8737
          ],
          [
           "Bossòst",
           712.4904
          ],
          [
           "Cabanabona",
           427.6726
          ],
          [
           "Cabó",
           722.8973
          ],
          [
           "Camarasa",
           259.0302
          ],
          [
           "Canejan",
           824.3683
          ],
          [
           "Castellar de la Ribera",
           645.1425
          ],
          [
           "Castelldans",
           354.4236
          ],
          [
           "Castellnou de Seana",
           275.9631
          ],
          [
           "Castelló de Farfanya",
           322.9813
          ],
          [
           "Castellserà",
           269.1279
          ],
          [
           "Cava",
           1260.723
          ],
          [
           "Cervera",
           514.1133
          ],
          [
           "Cervià de les Garrigues",
           455.9915
          ],
          [
           "Ciutadilla",
           490.5793
          ],
          [
           "Clariana de Cardener",
           505.0493
          ],
          [
           "Coll de Nargó",
           562.6977
          ],
          [
           "Corbins",
           195.6501
          ],
          [
           "Cubells",
           470.9419
          ],
          [
           "Espot",
           1329.839
          ],
          [
           "Estaràs",
           592.5443
          ],
          [
           "Esterri d'Àneu",
           958.5542
          ],
          [
           "Esterri de Cardós",
           1192.209
          ],
          [
           "Estamariu",
           1044.079
          ],
          [
           "Farrera",
           1347.608
          ],
          [
           "Fondarella",
           239.177
          ],
          [
           "Foradada",
           433.8825
          ],
          [
           "Fulleda",
           580.2524
          ],
          [
           "Gavet de la Conca",
           419.0891
          ],
          [
           "Golmés",
           270.857
          ],
          [
           "Gósol",
           1425.53
          ],
          [
           "Granyanella",
           507.9074
          ],
          [
           "Granyena de Segarra",
           585.0941
          ],
          [
           "Granyena de les Garrigues",
           357.5183
          ],
          [
           "Guimerà",
           512.8314
          ],
          [
           "Guissona",
           494.9318
          ],
          [
           "Guixers",
           877.1038
          ],
          [
           "Ivars de Noguera",
           326.9235
          ],
          [
           "Ivars d'Urgell",
           265.9485
          ],
          [
           "Ivorra",
           553.0552
          ],
          [
           "Isona i Conca Dellà",
           659.2741
          ],
          [
           "Juncosa",
           572.8483
          ],
          [
           "Juneda",
           266.91
          ],
          [
           "Lleida",
           166.4499
          ],
          [
           "Les",
           638.8151
          ],
          [
           "Linyola",
           249.5356
          ],
          [
           "Lladorre",
           1071.652
          ],
          [
           "Lladurs",
           820
          ],
          [
           "Llardecans",
           397.0908
          ],
          [
           "Llavorsí",
           796.6211
          ],
          [
           "Lles de Cerdanya",
           1467.283
          ],
          [
           "Llimiana",
           753.4308
          ],
          [
           "Llobera",
           846.8084
          ],
          [
           "Maldà",
           418.2859
          ],
          [
           "Massalcoreig",
           94.94318
          ],
          [
           "Massoteres",
           503.74
          ],
          [
           "Maials",
           374.7433
          ],
          [
           "Menàrguens",
           208.0313
          ],
          [
           "Miralcamp",
           267.9695
          ],
          [
           "Mollerussa",
           255.1743
          ],
          [
           "Montgai",
           285.5883
          ],
          [
           "Montellà i Martinet",
           960.6633
          ],
          [
           "Montferrer i Castellbò",
           718.1434
          ],
          [
           "Montoliu de Segarra",
           683.5535
          ],
          [
           "Montoliu de Lleida",
           148.1022
          ],
          [
           "Montornès de Segarra",
           586.9286
          ],
          [
           "Nalec",
           468.2451
          ],
          [
           "Navès",
           602.2256
          ],
          [
           "Odèn",
           1283.885
          ],
          [
           "Oliana",
           456.1855
          ],
          [
           "Oliola",
           415.9434
          ],
          [
           "Olius",
           555.1147
          ],
          [
           "Organyà",
           551.4544
          ],
          [
           "Os de Balaguer",
           462.0808
          ],
          [
           "Ossó de Sió",
           387.8812
          ],
          [
           "Conca de Dalt",
           502.1039
          ],
          [
           "Penelles",
           283.3288
          ],
          [
           "Peramola",
           565.0052
          ],
          [
           "Pinell de Solsonès",
           632.7087
          ],
          [
           "Pinós",
           798.8068
          ],
          [
           "Bellaguarda",
           630.9696
          ],
          [
           "Ponts",
           365.3082
          ],
          [
           "Prats i Sansor",
           1104.549
          ],
          [
           "Preixana",
           310.7234
          ],
          [
           "Preixens",
           310.299
          ],
          [
           "Prullans",
           1148.77
          ],
          [
           "Puiggròs",
           316.5753
          ],
          [
           "Puigverd d'Agramunt",
           347.943
          ],
          [
           "Puigverd de Lleida",
           211.46
          ],
          [
           "Rialp",
           716.666
          ],
          [
           "Ribera d'Urgellet",
           647.853
          ],
          [
           "Riner",
           698.1688
          ],
          [
           "Rosselló",
           257
          ],
          [
           "Salàs de Pallars",
           544.2087
          ],
          [
           "Sanaüja",
           405.1787
          ],
          [
           "Sant Guim de Freixenet",
           742.983
          ],
          [
           "Sant Llorenç de Morunys",
           931.3393
          ],
          [
           "Sant Ramon",
           660.8257
          ],
          [
           "Sant Esteve de la Sarga",
           906.1107
          ],
          [
           "Sant Guim de la Plana",
           554.3297
          ],
          [
           "Sarroca de Lleida",
           194.3455
          ],
          [
           "Sarroca de Bellera",
           958.9928
          ],
          [
           "Senterada",
           735.4564
          ],
          [
           "Seròs",
           105.2147
          ],
          [
           "Sidamon",
           230.7424
          ],
          [
           "Solsona",
           679.2817
          ],
          [
           "Soriguera",
           1182.144
          ],
          [
           "Sort",
           690.4686
          ],
          [
           "Soses",
           124.5909
          ],
          [
           "Sudanell",
           156.6789
          ],
          [
           "Sunyer",
           213.2605
          ],
          [
           "Talarn",
           543.7527
          ],
          [
           "Talavera",
           757.597
          ],
          [
           "Tàrrega",
           382.5588
          ],
          [
           "Tarrés",
           585.189
          ],
          [
           "Tarroja de Segarra",
           467.2543
          ],
          [
           "Térmens",
           208.6154
          ],
          [
           "Tírvia",
           1019.093
          ],
          [
           "Tiurana",
           395.5405
          ],
          [
           "Torà",
           436.7267
          ],
          [
           "Tornabous",
           294.4711
          ],
          [
           "Torrebesses",
           262.0064
          ],
          [
           "Torrefarrera",
           218.273
          ],
          [
           "Torregrossa",
           238.2074
          ],
          [
           "Torrelameu",
           202.6676
          ],
          [
           "Torres de Segre",
           125.5436
          ],
          [
           "Torre-serona",
           194.7614
          ],
          [
           "Tremp",
           470.7209
          ],
          [
           "Vallbona de les Monges",
           494.5486
          ],
          [
           "Vallfogona de Balaguer",
           232.8295
          ],
          [
           "Verdú",
           437.169
          ],
          [
           "Vielha e Mijaran",
           990.1799
          ],
          [
           "Vilagrassa",
           355.2005
          ],
          [
           "Vilaller",
           980.9213
          ],
          [
           "Vilamòs",
           1260.609
          ],
          [
           "Vilanova de Bellpuig",
           293.5143
          ],
          [
           "Vilanova de l'Aguda",
           398.3846
          ],
          [
           "Vilanova de Meià",
           608.9849
          ],
          [
           "Vilanova de Segrià",
           255.3218
          ],
          [
           "Vila-sana",
           249.5091
          ],
          [
           "Vilanova de la Barca",
           197.9396
          ],
          [
           "Vinaixa",
           483.3008
          ],
          [
           "Vall de Cardós",
           938.0867
          ],
          [
           "Sant Martí de Riucorb",
           407.3113
          ],
          [
           "Castell de Mur",
           867.5153
          ],
          [
           "Ribera d'Ondara",
           557.7328
          ],
          [
           "Torrefeta i Florejacs",
           473.3801
          ],
          [
           "Fígols i Alinyà",
           638.1115
          ],
          [
           "Josa i Tuixén",
           1182.531
          ],
          [
           "Gimenells i el Pla de la Font",
           258.7494
          ],
          [
           "Riu de Cerdanya",
           1174.395
          ],
          [
           "Abadín",
           475.1587
          ],
          [
           "Alfoz",
           56.10721
          ],
          [
           "Antas de Ulla",
           558.4615
          ],
          [
           "Baleira",
           661.8257
          ],
          [
           "Barreiros",
           193.2786
          ],
          [
           "Becerreá",
           641.6993
          ],
          [
           "Begonte",
           416.7638
          ],
          [
           "Bóveda",
           358.4192
          ],
          [
           "Carballedo",
           556.9655
          ],
          [
           "Castro de Rei",
           431.6718
          ],
          [
           "Castroverde",
           589.1481
          ],
          [
           "Cervantes",
           648.1846
          ],
          [
           "Cervo",
           59.01057
          ],
          [
           "Cospeito",
           426.1127
          ],
          [
           "Chantada",
           491.9615
          ],
          [
           "Folgoso do Courel",
           597.0881
          ],
          [
           "Foz",
           6.783125
          ],
          [
           "Friol",
           483.822
          ],
          [
           "Xermade",
           468.3652
          ],
          [
           "Guitiriz",
           448.572
          ],
          [
           "Guntín",
           465.0538
          ],
          [
           "Xove",
           61.07624
          ],
          [
           "Láncara",
           409.2137
          ],
          [
           "Lourenzá",
           56.24402
          ],
          [
           "Lugo",
           468.2347
          ],
          [
           "Meira",
           488.5347
          ],
          [
           "Mondoñedo",
           132.6622
          ],
          [
           "Monforte de Lemos",
           299.166
          ],
          [
           "Monterroso",
           542.8273
          ],
          [
           "Muras",
           486.4558
          ],
          [
           "Navia de Suarna",
           324.8547
          ],
          [
           "Negueira de Muñiz",
           358.476
          ],
          [
           "Ourol",
           253.6125
          ],
          [
           "Outeiro de Rei",
           410.7439
          ],
          [
           "Palas de Rei",
           558.8809
          ],
          [
           "Pantón",
           304.506
          ],
          [
           "Paradela",
           559.2864
          ],
          [
           "Pedrafita do Cebreiro",
           1110.924
          ],
          [
           "Pol",
           530.1712
          ],
          [
           "Portomarín",
           387.5597
          ],
          [
           "Quiroga",
           268.3575
          ],
          [
           "Ribadeo",
           41.25553
          ],
          [
           "Ribas de Sil",
           532.9442
          ],
          [
           "Ribeira de Piquín",
           616.5509
          ],
          [
           "Riotorto",
           393.7881
          ],
          [
           "Samos",
           542.352
          ],
          [
           "Rábade",
           404.1569
          ],
          [
           "Sarria",
           447.6552
          ],
          [
           "Sober",
           398.1687
          ],
          [
           "Taboada",
           542.3445
          ],
          [
           "Trabada",
           214.7123
          ],
          [
           "Triacastela",
           671.5583
          ],
          [
           "Vilalba",
           452.9068
          ],
          [
           "Viveiro",
           21.87932
          ],
          [
           "Baralla",
           488.2265
          ],
          [
           "Burela",
           62.66413
          ],
          [
           "Ajalvir",
           680.1722
          ],
          [
           "Alameda del Valle",
           1109.934
          ],
          [
           "Alcalá de Henares",
           593.7416
          ],
          [
           "Alcobendas",
           694.4304
          ],
          [
           "Alcorcón",
           717.5549
          ],
          [
           "Aldea del Fresno",
           476.7994
          ],
          [
           "Algete",
           712.8972
          ],
          [
           "Alpedrete",
           916.7029
          ],
          [
           "Ambite",
           667.338
          ],
          [
           "Anchuelo",
           761.7067
          ],
          [
           "Aranjuez",
           502.3892
          ],
          [
           "Arganda del Rey",
           626.9236
          ],
          [
           "Arroyomolinos",
           597.4142
          ],
          [
           "Batres",
           603.6849
          ],
          [
           "Becerril de la Sierra",
           1086.586
          ],
          [
           "Belmonte de Tajo",
           732.0183
          ],
          [
           "Berzosa del Lozoya",
           1079.826
          ],
          [
           "Boadilla del Monte",
           673.7737
          ],
          [
           "Braojos",
           1189.477
          ],
          [
           "Brea de Tajo",
           722.8417
          ],
          [
           "Brunete",
           654.7903
          ],
          [
           "Buitrago del Lozoya",
           977.8387
          ],
          [
           "Bustarviejo",
           1217.359
          ],
          [
           "Cabanillas de la Sierra",
           921.8676
          ],
          [
           "Cadalso de los Vidrios",
           799.9886
          ],
          [
           "Camarma de Esteruelas",
           639.19
          ],
          [
           "Campo Real",
           765.6791
          ],
          [
           "Canencia",
           1142.31
          ],
          [
           "Carabaña",
           612.9524
          ],
          [
           "Casarrubuelos",
           624.7643
          ],
          [
           "Cenicientos",
           778.7822
          ],
          [
           "Cercedilla",
           1191.372
          ],
          [
           "Cervera de Buitrago",
           916.3304
          ],
          [
           "Ciempozuelos",
           580.2641
          ],
          [
           "Cobeña",
           677.4468
          ],
          [
           "Colmenar del Arroyo",
           679.1825
          ],
          [
           "Colmenar de Oreja",
           756.9265
          ],
          [
           "Colmenarejo",
           875.1868
          ],
          [
           "Colmenar Viejo",
           880.6345
          ],
          [
           "Collado Mediano",
           1029.724
          ],
          [
           "Collado Villalba",
           875.7213
          ],
          [
           "Corpa",
           819.1653
          ],
          [
           "Coslada",
           628.7247
          ],
          [
           "Cubas de la Sagra",
           648.7275
          ],
          [
           "Chapinería",
           679.6159
          ],
          [
           "Chinchón",
           777.1609
          ],
          [
           "Daganzo de Arriba",
           665.5711
          ],
          [
           "Estremera",
           643.0197
          ],
          [
           "Fresnedillas de la Oliva",
           895.7322
          ],
          [
           "Fresno de Torote",
           657.2809
          ],
          [
           "Fuenlabrada",
           679.0076
          ],
          [
           "Fuente el Saz de Jarama",
           642.1251
          ],
          [
           "Fuentidueña de Tajo",
           565.6978
          ],
          [
           "Galapagar",
           884.4304
          ],
          [
           "Garganta de los Montes",
           1125.801
          ],
          [
           "Gargantilla del Lozoya y Pinilla de Buitrago",
           1136.591
          ],
          [
           "Gascones",
           1046.484
          ],
          [
           "Getafe",
           632.1449
          ],
          [
           "Griñón",
           676.9866
          ],
          [
           "Guadalix de la Sierra",
           841
          ],
          [
           "Guadarrama",
           965.5875
          ],
          [
           "Horcajuelo de la Sierra",
           1138.176
          ],
          [
           "Hoyo de Manzanares",
           1005.688
          ],
          [
           "Humanes de Madrid",
           675.6912
          ],
          [
           "Leganés",
           658.15
          ],
          [
           "Loeches",
           639.8891
          ],
          [
           "Lozoya",
           1111.051
          ],
          [
           "Madarcos",
           1057.624
          ],
          [
           "Madrid",
           653.0047
          ],
          [
           "Majadahonda",
           743.4514
          ],
          [
           "Manzanares el Real",
           917.528
          ],
          [
           "Meco",
           670.2038
          ],
          [
           "Mejorada del Campo",
           580.1962
          ],
          [
           "Miraflores de la Sierra",
           1149.553
          ],
          [
           "Montejo de la Sierra",
           1151.855
          ],
          [
           "Moraleja de Enmedio",
           682.4211
          ],
          [
           "Moralzarzal",
           982.0547
          ],
          [
           "Morata de Tajuña",
           559.4251
          ],
          [
           "Móstoles",
           665.2133
          ],
          [
           "Navacerrada",
           1193.742
          ],
          [
           "Navalafuente",
           906.057
          ],
          [
           "Navalagamella",
           759.7007
          ],
          [
           "Navalcarnero",
           672.8241
          ],
          [
           "Navarredonda y San Mamés",
           1219.314
          ],
          [
           "Navas del Rey",
           717.2259
          ],
          [
           "Nuevo Baztán",
           834.9736
          ],
          [
           "Olmeda de las Fuentes",
           785.2642
          ],
          [
           "Orusco de Tajuña",
           662.3139
          ],
          [
           "Paracuellos de Jarama",
           692.0413
          ],
          [
           "Parla",
           651.0903
          ],
          [
           "Patones",
           713.0287
          ],
          [
           "Pedrezuela",
           869.5692
          ],
          [
           "Pelayos de la Presa",
           561.4791
          ],
          [
           "Perales de Tajuña",
           577.9905
          ],
          [
           "Pezuela de las Torres",
           855.1563
          ],
          [
           "Pinilla del Valle",
           1097.138
          ],
          [
           "Pinto",
           609.3594
          ],
          [
           "Piñuécar-Gandullas",
           1063.421
          ],
          [
           "Pozuelo de Alarcón",
           697.1177
          ],
          [
           "Pozuelo del Rey",
           807.1237
          ],
          [
           "Prádena del Rincón",
           1114.976
          ],
          [
           "Puebla de la Sierra",
           1160.507
          ],
          [
           "Quijorna",
           574.5786
          ],
          [
           "Rascafría",
           1157.038
          ],
          [
           "Redueña",
           823.9578
          ],
          [
           "Ribatejada",
           761.6322
          ],
          [
           "Rivas-Vaciamadrid",
           560.5495
          ],
          [
           "Robledillo de la Jara",
           1017.706
          ],
          [
           "Robledo de Chavela",
           893.4601
          ],
          [
           "Robregordo",
           1297.608
          ],
          [
           "Rozas de Puerto Real",
           876.1035
          ],
          [
           "San Agustín del Guadalix",
           667.7155
          ],
          [
           "San Fernando de Henares",
           591.3853
          ],
          [
           "San Lorenzo de El Escorial",
           1052.468
          ],
          [
           "San Martín de la Vega",
           517.0689
          ],
          [
           "San Martín de Valdeiglesias",
           677.8516
          ],
          [
           "San Sebastián de los Reyes",
           681.644
          ],
          [
           "Santa María de la Alameda",
           1411.015
          ],
          [
           "Santorcaz",
           864.0168
          ],
          [
           "Serranillos del Valle",
           650.8673
          ],
          [
           "Sevilla la Nueva",
           674.3175
          ],
          [
           "Somosierra",
           1436.419
          ],
          [
           "Soto del Real",
           922.4442
          ],
          [
           "Talamanca de Jarama",
           655.0905
          ],
          [
           "Tielmes",
           580.7983
          ],
          [
           "Titulcia",
           514.1019
          ],
          [
           "Torrejón de Ardoz",
           591.0876
          ],
          [
           "Torrejón de la Calzada",
           632.9291
          ],
          [
           "Torrejón de Velasco",
           609.1476
          ],
          [
           "Torrelaguna",
           742.3256
          ],
          [
           "Torrelodones",
           847.145
          ],
          [
           "Torremocha de Jarama",
           705.3375
          ],
          [
           "Torres de la Alameda",
           668.0449
          ],
          [
           "Valdaracete",
           737.9929
          ],
          [
           "Valdeavero",
           713.679
          ],
          [
           "Valdelaguna",
           710.8623
          ],
          [
           "Valdemanco",
           1133.363
          ],
          [
           "Valdemaqueda",
           864.9176
          ],
          [
           "Valdemorillo",
           820.9337
          ],
          [
           "Valdemoro",
           612.726
          ],
          [
           "Valdeolmos-Alalpardo",
           680.2087
          ],
          [
           "Valdepiélagos",
           744.8907
          ],
          [
           "Valdetorres de Jarama",
           651.753
          ],
          [
           "Valdilecha",
           724.2806
          ],
          [
           "Valverde de Alcalá",
           733.9373
          ],
          [
           "Velilla de San Antonio",
           555.8903
          ],
          [
           "Venturada",
           883.1885
          ],
          [
           "Villaconejos",
           635.7664
          ],
          [
           "Villa del Prado",
           512.4543
          ],
          [
           "Villalbilla",
           744.6702
          ],
          [
           "Villamanrique de Tajo",
           549.4291
          ],
          [
           "Villamanta",
           550.4752
          ],
          [
           "Villamantilla",
           550.092
          ],
          [
           "Villanueva de la Cañada",
           655.8425
          ],
          [
           "Villanueva del Pardillo",
           653.1323
          ],
          [
           "Villanueva de Perales",
           594.7557
          ],
          [
           "Villar del Olmo",
           680.3748
          ],
          [
           "Villarejo de Salvanés",
           759.0782
          ],
          [
           "Villaviciosa de Odón",
           647.7311
          ],
          [
           "Villavieja del Lozoya",
           1062.474
          ],
          [
           "Zarzalejo",
           1105.808
          ],
          [
           "Lozoyuela-Navas-Sieteiglesias",
           1022.991
          ],
          [
           "Puentes Viejas",
           1065.958
          ],
          [
           "Tres Cantos",
           744.3729
          ],
          [
           "Alameda",
           431.0601
          ],
          [
           "Alcaucín",
           506.8431
          ],
          [
           "Alfarnate",
           890.3339
          ],
          [
           "Alfarnatejo",
           853.526
          ],
          [
           "Algarrobo",
           76.22504
          ],
          [
           "Algatocín",
           711.4503
          ],
          [
           "Alhaurín de la Torre",
           55.9206
          ],
          [
           "Alhaurín el Grande",
           262.0032
          ],
          [
           "Almáchar",
           251.3838
          ],
          [
           "Almargen",
           511.2607
          ],
          [
           "Almogía",
           369.3161
          ],
          [
           "Álora",
           217.7383
          ],
          [
           "Alozaina",
           367.5125
          ],
          [
           "Alpandeire",
           691.1627
          ],
          [
           "Antequera",
           519.31
          ],
          [
           "Árchez",
           434.6224
          ],
          [
           "Archidona",
           711.6459
          ],
          [
           "Ardales",
           408.7493
          ],
          [
           "Arenas",
           395.6026
          ],
          [
           "Arriate",
           596.1475
          ],
          [
           "Atajate",
           743.5022
          ],
          [
           "Benadalid",
           694.8373
          ],
          [
           "Benahavís",
           169.0831
          ],
          [
           "Benalauría",
           680.5325
          ],
          [
           "Benalmádena",
           246.0654
          ],
          [
           "Benamargosa",
           107.37
          ],
          [
           "Benamocarra",
           129.8485
          ],
          [
           "Benaoján",
           565.6541
          ],
          [
           "Benarrabá",
           536.6716
          ],
          [
           "Campillos",
           458.5459
          ],
          [
           "Canillas de Aceituno",
           653.6641
          ],
          [
           "Canillas de Albaida",
           579.2617
          ],
          [
           "Cañete la Real",
           750.4806
          ],
          [
           "Carratraca",
           527.6124
          ],
          [
           "Cartajima",
           835.1337
          ],
          [
           "Cártama",
           103.493
          ],
          [
           "Casabermeja",
           543.2839
          ],
          [
           "Casarabonela",
           469.9098
          ],
          [
           "Casares",
           395.2425
          ],
          [
           "Coín",
           212.3918
          ],
          [
           "Colmenar",
           674.2641
          ],
          [
           "Comares",
           691.9902
          ],
          [
           "Cómpeta",
           631.6203
          ],
          [
           "Cortes de la Frontera",
           623.0131
          ],
          [
           "Cuevas Bajas",
           316.253
          ],
          [
           "Cuevas del Becerro",
           727.9931
          ],
          [
           "Cuevas de San Marcos",
           407.2341
          ],
          [
           "Cútar",
           297.5281
          ],
          [
           "Estepona",
           9.655864
          ],
          [
           "Faraján",
           632.2032
          ],
          [
           "Frigiliana",
           326.0266
          ],
          [
           "Fuengirola",
           9.702183
          ],
          [
           "Fuente de Piedra",
           444.6066
          ],
          [
           "Gaucín",
           609.3961
          ],
          [
           "Genalguacil",
           508.3251
          ],
          [
           "Guaro",
           347.6602
          ],
          [
           "Humilladero",
           447
          ],
          [
           "Igualeja",
           692.6473
          ],
          [
           "Istán",
           295.7882
          ],
          [
           "Iznate",
           305.813
          ],
          [
           "Jimera de Líbar",
           548.8419
          ],
          [
           "Jubrique",
           556.0103
          ],
          [
           "Júzcar",
           622.4206
          ],
          [
           "Macharaviaya",
           232.853
          ],
          [
           "Málaga",
           20.76588
          ],
          [
           "Manilva",
           135.0445
          ],
          [
           "Marbella",
           23.81581
          ],
          [
           "Mijas",
           421.1643
          ],
          [
           "Moclinejo",
           443.1213
          ],
          [
           "Mollina",
           476.1912
          ],
          [
           "Monda",
           359.9482
          ],
          [
           "Montejaque",
           696.3243
          ],
          [
           "Nerja",
           25.00439
          ],
          [
           "Ojén",
           314.1743
          ],
          [
           "Parauta",
           819.9631
          ],
          [
           "Periana",
           570.6861
          ],
          [
           "Pizarra",
           88.95549
          ],
          [
           "Pujerra",
           781.4251
          ],
          [
           "Rincón de la Victoria",
           3.764837
          ],
          [
           "Riogordo",
           390.2326
          ],
          [
           "Ronda",
           721.0318
          ],
          [
           "Salares",
           585.0521
          ],
          [
           "Sayalonga",
           364.6231
          ],
          [
           "Sedella",
           697.3375
          ],
          [
           "Sierra de Yeguas",
           451.5096
          ],
          [
           "Teba",
           541.6072
          ],
          [
           "Tolox",
           305.9531
          ],
          [
           "Torrox",
           146.8773
          ],
          [
           "Totalán",
           285.3225
          ],
          [
           "Valle de Abdalajís",
           345.6492
          ],
          [
           "Vélez-Málaga",
           55.92748
          ],
          [
           "Villanueva de Algaidas",
           542.5474
          ],
          [
           "Villanueva del Rosario",
           694.9512
          ],
          [
           "Villanueva del Trabuco",
           685.7935
          ],
          [
           "Villanueva de Tapia",
           659.881
          ],
          [
           "Viñuela",
           166.8159
          ],
          [
           "Yunquera",
           675.0898
          ],
          [
           "Torremolinos",
           52.33766
          ],
          [
           "Abanilla",
           215.4028
          ],
          [
           "Abarán",
           200.7275
          ],
          [
           "Águilas",
           8.231929
          ],
          [
           "Albudeite",
           180.3854
          ],
          [
           "Alcantarilla",
           73.48013
          ],
          [
           "Aledo",
           604.458
          ],
          [
           "Alguazas",
           84.25748
          ],
          [
           "Alhama de Murcia",
           201.4063
          ],
          [
           "Archena",
           105.1455
          ],
          [
           "Beniel",
           31.7415
          ],
          [
           "Blanca",
           149.6207
          ],
          [
           "Bullas",
           647.6263
          ],
          [
           "Calasparra",
           356.5284
          ],
          [
           "Campos del Río",
           181.1191
          ],
          [
           "Caravaca de la Cruz",
           636.1376
          ],
          [
           "Cartagena",
           11.15692
          ],
          [
           "Cehegín",
           540.0687
          ],
          [
           "Ceutí",
           93.69875
          ],
          [
           "Cieza",
           189.8739
          ],
          [
           "Fortuna",
           204.3466
          ],
          [
           "Fuente Álamo de Murcia",
           131.1901
          ],
          [
           "Jumilla",
           502.642
          ],
          [
           "Librilla",
           174.8965
          ],
          [
           "Lorca",
           336.2687
          ],
          [
           "Lorquí",
           92.61366
          ],
          [
           "Mazarrón",
           65.57575
          ],
          [
           "Molina de Segura",
           94.52602
          ],
          [
           "Moratalla",
           630.5613
          ],
          [
           "Mula",
           295.3519
          ],
          [
           "Murcia",
           51.07087
          ],
          [
           "Ojós",
           128.2413
          ],
          [
           "Pliego",
           386.3144
          ],
          [
           "Puerto Lumbreras",
           470.1874
          ],
          [
           "Ricote",
           293.4324
          ],
          [
           "San Javier",
           26.81056
          ],
          [
           "San Pedro del Pinatar",
           16.43622
          ],
          [
           "Torre-Pacheco",
           41.09187
          ],
          [
           "Totana",
           259.0672
          ],
          [
           "Ulea",
           126.4072
          ],
          [
           "Villanueva del Río Segura",
           138.7037
          ],
          [
           "Yecla",
           604.7735
          ],
          [
           "Santomera",
           39.86995
          ],
          [
           "Abáigar",
           485.6676
          ],
          [
           "Abaurregaina/Abaurrea Alta",
           1050.703
          ],
          [
           "Abaurrepea/Abaurrea Baja",
           1050.703
          ],
          [
           "Aberin",
           507.0975
          ],
          [
           "Ablitas",
           390.1332
          ],
          [
           "Adiós",
           480.1988
          ],
          [
           "Aguilar de Codés",
           722.7128
          ],
          [
           "Aibar/Oibar",
           551.8924
          ],
          [
           "Altsasu/Alsasua",
           531.4604
          ],
          [
           "Allo",
           429.8232
          ],
          [
           "Améscoa Baja",
           928.2976
          ],
          [
           "Andosilla",
           316.7053
          ],
          [
           "Anue",
           799.0044
          ],
          [
           "Añorbe",
           573.9486
          ],
          [
           "Aoiz/Agoitz",
           501.6778
          ],
          [
           "Araitz",
           228.7052
          ],
          [
           "Arantza",
           267.3421
          ],
          [
           "Aranguren",
           622.8678
          ],
          [
           "Arano",
           455.9649
          ],
          [
           "Arakil",
           438.7797
          ],
          [
           "Aras",
           636.3009
          ],
          [
           "Arbizu",
           494.9281
          ],
          [
           "Arce/Artzi",
           762.4823
          ],
          [
           "Arellano",
           644.5254
          ],
          [
           "Areso",
           462.8911
          ],
          [
           "Arguedas",
           266.3666
          ],
          [
           "Aria",
           860.5184
          ],
          [
           "Aribe",
           701.3161
          ],
          [
           "Armañanzas",
           496.7855
          ],
          [
           "Arróniz",
           564.7612
          ],
          [
           "Arruazu",
           469.7116
          ],
          [
           "Artajona",
           450.9516
          ],
          [
           "Artazu",
           440.7018
          ],
          [
           "Azagra",
           293.2846
          ],
          [
           "Azuelo",
           611.0732
          ],
          [
           "Bakaiku",
           518.6227
          ],
          [
           "Barásoain",
           530.6812
          ],
          [
           "Barbarin",
           602.2934
          ],
          [
           "Bargota",
           589.0367
          ],
          [
           "Barillas",
           388.5261
          ],
          [
           "Basaburua",
           659.5215
          ],
          [
           "Baztan",
           431.7236
          ],
          [
           "Beire",
           367.1117
          ],
          [
           "Belascoáin",
           423.4454
          ],
          [
           "Berbinzana",
           318.8264
          ],
          [
           "Bertizarana",
           135.3993
          ],
          [
           "Betelu",
           236.0627
          ],
          [
           "Biurrun-Olcoz",
           603.0551
          ],
          [
           "Buñuel",
           247
          ],
          [
           "Auritz/Burguete",
           895.7919
          ],
          [
           "Burgui/Burgi",
           627.7626
          ],
          [
           "Burlada/Burlata",
           436.4857
          ],
          [
           "Cabanillas",
           261.1255
          ],
          [
           "Cabredo",
           660.035
          ],
          [
           "Cadreita",
           287.9483
          ],
          [
           "Caparroso",
           303
          ],
          [
           "Cárcar",
           335.9902
          ],
          [
           "Carcastillo",
           354.3764
          ],
          [
           "Cascante",
           365.7855
          ],
          [
           "Cáseda",
           428.3817
          ],
          [
           "Castejón",
           279.5263
          ],
          [
           "Castillonuevo",
           774.6876
          ],
          [
           "Cintruénigo",
           399.6217
          ],
          [
           "Ziordia",
           554.5064
          ],
          [
           "Cizur",
           464.4124
          ],
          [
           "Corella",
           376.7392
          ],
          [
           "Cortes",
           259
          ],
          [
           "Desojo",
           522.1982
          ],
          [
           "Dicastillo",
           557.3284
          ],
          [
           "Donamaria",
           198.6831
          ],
          [
           "Etxalar",
           102.0956
          ],
          [
           "Etxauri",
           412.8882
          ],
          [
           "Elgorriaga",
           149.3327
          ],
          [
           "Noáin (Valle de Elorz)/Noain (Elortzibar)",
           459.8526
          ],
          [
           "Eratsun",
           518.8293
          ],
          [
           "Ergoiena",
           583.5241
          ],
          [
           "Erro",
           661.9404
          ],
          [
           "Ezcároz/Ezkaroze",
           741.0762
          ],
          [
           "Eslava",
           545.7512
          ],
          [
           "Esparza de Salazar/Espartza Zaraitzu",
           705.2322
          ],
          [
           "Espronceda",
           539.9223
          ],
          [
           "Esteribar",
           804.6992
          ],
          [
           "Etayo",
           572.3201
          ],
          [
           "Eulate",
           730.8936
          ],
          [
           "Ezcabarte",
           473.964
          ],
          [
           "Ezkurra",
           525.4611
          ],
          [
           "Ezprogui",
           524.7435
          ],
          [
           "Falces",
           296.4245
          ],
          [
           "Fitero",
           428.2101
          ],
          [
           "Fontellas",
           278.3386
          ],
          [
           "Funes",
           304.42
          ],
          [
           "Fustiñana",
           260.782
          ],
          [
           "Galar",
           548.4805
          ],
          [
           "Gallués/Galoze",
           634.5071
          ],
          [
           "Garaioa",
           779.7978
          ],
          [
           "Garde",
           745.9025
          ],
          [
           "Garínoain",
           537.0995
          ],
          [
           "Garralda",
           846.9196
          ],
          [
           "Genevilla",
           616.5192
          ],
          [
           "Goizueta",
           157.4991
          ],
          [
           "Goñi",
           885.0417
          ],
          [
           "Güesa/Gorza",
           656.9835
          ],
          [
           "Guirguillano",
           614.8031
          ],
          [
           "Huarte/Uharte",
           443.3268
          ],
          [
           "Ibargoiti",
           589.6138
          ],
          [
           "Igúzquiza",
           521.692
          ],
          [
           "Imotz",
           708.5986
          ],
          [
           "Irañeta",
           462.9885
          ],
          [
           "Isaba/Izaba",
           792.2268
          ],
          [
           "Ituren",
           157.9286
          ],
          [
           "Iturmendi",
           527.0626
          ],
          [
           "Izagaondoa",
           656.3472
          ],
          [
           "Izalzu/Itzaltzu",
           813.3014
          ],
          [
           "Jaurrieta",
           915.8698
          ],
          [
           "Javier",
           453.4229
          ],
          [
           "Beintza-Labaien",
           446.4482
          ],
          [
           "Lakuntza",
           493.4403
          ],
          [
           "Lana",
           583.7512
          ],
          [
           "Lantz",
           632.9497
          ],
          [
           "Lapoblación",
           966.2166
          ],
          [
           "Larraga",
           397.0584
          ],
          [
           "Larraona",
           771.8146
          ],
          [
           "Larraun",
           667.3818
          ],
          [
           "Lazagurría",
           393.9949
          ],
          [
           "Legarda",
           476.2949
          ],
          [
           "Legaria",
           476.4376
          ],
          [
           "Leitza",
           475.8446
          ],
          [
           "Lerga",
           614.0958
          ],
          [
           "Lerín",
           435.6659
          ],
          [
           "Lesaka",
           77.67777
          ],
          [
           "Lezaun",
           823.1769
          ],
          [
           "Liédena",
           434.2063
          ],
          [
           "Lodosa",
           329.6654
          ],
          [
           "Lónguida/Longida",
           480.7935
          ],
          [
           "Lumbier",
           468.2798
          ],
          [
           "Luquin",
           595.0789
          ],
          [
           "Mañeru",
           456.9252
          ],
          [
           "Marañón",
           631.9917
          ],
          [
           "Marcilla",
           293.0134
          ],
          [
           "Mélida",
           351.4484
          ],
          [
           "Mendavia",
           358.8896
          ],
          [
           "Mendaza",
           648.1318
          ],
          [
           "Mendigorria",
           400.2758
          ],
          [
           "Metauten",
           526.5096
          ],
          [
           "Milagro",
           294.1204
          ],
          [
           "Mirafuentes",
           644
          ],
          [
           "Miranda de Arga",
           337.395
          ],
          [
           "Monteagudo",
           403.3899
          ],
          [
           "Morentin",
           535.4586
          ],
          [
           "Mues",
           518.3762
          ],
          [
           "Murchante",
           318.6382
          ],
          [
           "Murieta",
           467.4558
          ],
          [
           "Murillo el Cuende",
           338.5544
          ],
          [
           "Murillo el Fruto",
           362.163
          ],
          [
           "Muruzábal",
           442.5836
          ],
          [
           "Nazar",
           740.0682
          ],
          [
           "Obanos",
           414.2519
          ],
          [
           "Oco",
           492.338
          ],
          [
           "Ochagavía/Otsagabia",
           763.3962
          ],
          [
           "Odieta",
           535.4056
          ],
          [
           "Olaibar",
           479.1287
          ],
          [
           "Olazti/Olazagutía",
           542.6686
          ],
          [
           "Olejua",
           574.1867
          ],
          [
           "Cendea de Olza/Oltza Zendea",
           431.3969
          ],
          [
           "Orbara",
           757.6503
          ],
          [
           "Orísoain",
           578.1315
          ],
          [
           "Oronz/Orontze",
           723.6107
          ],
          [
           "Oteiza",
           510.9438
          ],
          [
           "Pamplona/Iruña",
           458.1406
          ],
          [
           "Petilla de Aragón",
           831.5078
          ],
          [
           "Piedramillera",
           617.1473
          ],
          [
           "Pitillas",
           351.164
          ],
          [
           "Puente la Reina/Gares",
           348.5276
          ],
          [
           "Ribaforada",
           263.6679
          ],
          [
           "Roncal/Erronkari",
           699.3717
          ],
          [
           "Orreaga/Roncesvalles",
           954.5584
          ],
          [
           "Sada",
           485.6982
          ],
          [
           "Saldías",
           553.2933
          ],
          [
           "San Adrián",
           298.6025
          ],
          [
           "Sangüesa/Zangoza",
           399.6167
          ],
          [
           "San Martín de Unx",
           597.6311
          ],
          [
           "Sansol",
           494.1248
          ],
          [
           "Santacara",
           351.041
          ],
          [
           "Doneztebe/Santesteban",
           130.5545
          ],
          [
           "Sarriés/Sartze",
           687.5157
          ],
          [
           "Sartaguda",
           338.0532
          ],
          [
           "Sesma",
           434.409
          ],
          [
           "Sorlada",
           570.1953
          ],
          [
           "Sunbilla",
           106.4811
          ],
          [
           "Tafalla",
           433.6423
          ],
          [
           "Tiebas-Muruarte de Reta",
           574.0651
          ],
          [
           "Tirapu",
           498.1133
          ],
          [
           "Torralba del Río",
           626.2723
          ],
          [
           "Torres del Río",
           461.8875
          ],
          [
           "Tudela",
           268.958
          ],
          [
           "Tulebras",
           372.949
          ],
          [
           "Ucar",
           503.2144
          ],
          [
           "Ultzama",
           546.3792
          ],
          [
           "Unciti",
           605.3009
          ],
          [
           "Urdazubi/Urdax",
           98.64223
          ],
          [
           "Urdiain",
           551.1738
          ],
          [
           "Urraul Alto",
           573.8953
          ],
          [
           "Urraul Bajo",
           458.3008
          ],
          [
           "Urroz-Villa",
           527.5408
          ],
          [
           "Urzainqui/Urzainki",
           733.1646
          ],
          [
           "Uterga",
           494.9627
          ],
          [
           "Uztárroz/Uztarroze",
           856.1575
          ],
          [
           "Luzaide/Valcarlos",
           364.558
          ],
          [
           "Valtierra",
           270.1983
          ],
          [
           "Viana",
           475.407
          ],
          [
           "Vidángoz/Bidankoze",
           769.7194
          ],
          [
           "Bidaurreta",
           444.6025
          ],
          [
           "Villafranca",
           292.0777
          ],
          [
           "Villamayor de Monjardín",
           673.8203
          ],
          [
           "Hiriberri/Villanueva de Aezkoa",
           922.5541
          ],
          [
           "Villatuerta",
           440.6565
          ],
          [
           "Villava/Atarrabia",
           434.213
          ],
          [
           "Igantzi",
           208.3124
          ],
          [
           "Valle de Yerri/Deierri",
           508.0046
          ],
          [
           "Yesa",
           494.9805
          ],
          [
           "Zubieta",
           210.3568
          ],
          [
           "Zugarramurdi",
           209.7609
          ],
          [
           "Zúñiga",
           577.4291
          ],
          [
           "Berriozar",
           430.5623
          ],
          [
           "Irurtzun",
           472.6737
          ],
          [
           "Beriáin",
           499.5828
          ],
          [
           "Orkoien",
           442.7829
          ],
          [
           "Zizur Mayor/Zizur Nagusia",
           441.8872
          ],
          [
           "Lekunberri",
           567.6735
          ],
          [
           "Allariz",
           460.7867
          ],
          [
           "Amoeiro",
           442.1121
          ],
          [
           "Avión",
           446.5516
          ],
          [
           "Baltar",
           823.1027
          ],
          [
           "Bande",
           723.6759
          ],
          [
           "Baños de Molgas",
           513.4908
          ],
          [
           "Barbadás",
           241.3901
          ],
          [
           "Beade",
           202.2736
          ],
          [
           "Beariz",
           641.1476
          ],
          [
           "Boborás",
           432.1264
          ],
          [
           "Calvos de Randín",
           910.7596
          ],
          [
           "Carballeda de Valdeorras",
           587.8499
          ],
          [
           "Carballeda de Avia",
           250.0053
          ],
          [
           "Cartelle",
           366.1181
          ],
          [
           "Castrelo do Val",
           433.7377
          ],
          [
           "Castrelo de Miño",
           198.8711
          ],
          [
           "Castro Caldelas",
           625.1702
          ],
          [
           "Celanova",
           525.2849
          ],
          [
           "Cenlle",
           406.6471
          ],
          [
           "Coles",
           356.0888
          ],
          [
           "Cortegada",
           144.2422
          ],
          [
           "Cualedro",
           842.0068
          ],
          [
           "Chandrexa de Queixa",
           990.6727
          ],
          [
           "Entrimo",
           501.8381
          ],
          [
           "Esgos",
           579.329
          ],
          [
           "Xinzo de Limia",
           624.355
          ],
          [
           "Gomesende",
           403.7807
          ],
          [
           "Xunqueira de Ambía",
           541.0165
          ],
          [
           "Xunqueira de Espadanedo",
           688.6356
          ],
          [
           "Larouco",
           533.1442
          ],
          [
           "Laza",
           479.0535
          ],
          [
           "Leiro",
           88.74213
          ],
          [
           "Lobeira",
           605.1371
          ],
          [
           "Lobios",
           477.3125
          ],
          [
           "Maceda",
           582.2949
          ],
          [
           "Manzaneda",
           642.83
          ],
          [
           "Maside",
           379.7209
          ],
          [
           "Melón",
           482.1991
          ],
          [
           "Montederramo",
           906.4658
          ],
          [
           "Monterrei",
           511.1087
          ],
          [
           "Muíños",
           585.7645
          ],
          [
           "Nogueira de Ramuín",
           613.3605
          ],
          [
           "Oímbra",
           389.4346
          ],
          [
           "Ourense",
           144.5574
          ],
          [
           "Paderne de Allariz",
           440.9869
          ],
          [
           "Padrenda",
           273.543
          ],
          [
           "Parada de Sil",
           662.7356
          ],
          [
           "Petín",
           300.702
          ],
          [
           "Piñor",
           553.8872
          ],
          [
           "Porqueira",
           640.7926
          ],
          [
           "Pontedeva",
           144.9253
          ],
          [
           "Punxín",
           320.7976
          ],
          [
           "Quintela de Leirado",
           365.5756
          ],
          [
           "Rairiz de Veiga",
           620
          ],
          [
           "Ramirás",
           364.6565
          ],
          [
           "Ribadavia",
           103.0358
          ],
          [
           "San Xoán de Río",
           879.6433
          ],
          [
           "Riós",
           805.391
          ],
          [
           "Rubiá",
           548.2453
          ],
          [
           "San Amaro",
           482.8099
          ],
          [
           "San Cibrao das Viñas",
           271.6895
          ],
          [
           "San Cristovo de Cea",
           510.0587
          ],
          [
           "Sandiás",
           639.2228
          ],
          [
           "Sarreaus",
           650.4904
          ],
          [
           "Taboadela",
           387.0332
          ],
          [
           "Toén",
           375.3269
          ],
          [
           "Trasmiras",
           644.9832
          ],
          [
           "Verea",
           727.3734
          ],
          [
           "Verín",
           387.786
          ],
          [
           "Viana do Bolo",
           703.6934
          ],
          [
           "Vilamarín",
           504.0667
          ],
          [
           "Vilamartín de Valdeorras",
           319.5154
          ],
          [
           "Vilar de Barrio",
           665.1714
          ],
          [
           "Vilar de Santos",
           638.7435
          ],
          [
           "Vilardevós",
           741.3065
          ],
          [
           "Vilariño de Conso",
           796.0936
          ],
          [
           "Allande",
           580.7288
          ],
          [
           "Aller",
           870.3992
          ],
          [
           "Amieva",
           595.183
          ],
          [
           "Avilés",
           8.896673
          ],
          [
           "Belmonte de Miranda",
           220.3919
          ],
          [
           "Bimenes",
           320.1294
          ],
          [
           "Boal",
           461.5823
          ],
          [
           "Cabrales",
           135.4523
          ],
          [
           "Cabranes",
           290.5875
          ],
          [
           "Candamo",
           40.71626
          ],
          [
           "Cangas del Narcea",
           395.787
          ],
          [
           "Cangas de Onís",
           83.8837
          ],
          [
           "Caravia",
           362.6237
          ],
          [
           "Carreño",
           84.34576
          ],
          [
           "Caso",
           623.0895
          ],
          [
           "Castrillón",
           86.8708
          ],
          [
           "Castropol",
           22.08328
          ],
          [
           "Coaña",
           80.89793
          ],
          [
           "Colunga",
           17.92281
          ],
          [
           "Corvera de Asturias",
           56.71637
          ],
          [
           "Cudillero",
           69.32003
          ],
          [
           "Degaña",
           847.1716
          ],
          [
           "Gijón",
           10.46988
          ],
          [
           "Gozón",
           23.33944
          ],
          [
           "Grado",
           70.00195
          ],
          [
           "Grandas de Salime",
           567.9332
          ],
          [
           "Ibias",
           363.6068
          ],
          [
           "Illano",
           336.2966
          ],
          [
           "Illas",
           156.5609
          ],
          [
           "Langreo",
           216.0747
          ],
          [
           "Laviana",
           297.8459
          ],
          [
           "Lena",
           316.1207
          ],
          [
           "Valdés",
           18.18302
          ],
          [
           "Llanera",
           234.8832
          ],
          [
           "Llanes",
           19.37611
          ],
          [
           "Mieres",
           210.1827
          ],
          [
           "Morcín",
           236.8473
          ],
          [
           "Muros de Nalón",
           114.3644
          ],
          [
           "Nava",
           244.3763
          ],
          [
           "Navia",
           8.619591
          ],
          [
           "Noreña",
           207.6058
          ],
          [
           "Onís",
           198.1296
          ],
          [
           "Oviedo",
           238.8659
          ],
          [
           "Parres",
           139.5952
          ],
          [
           "Peñamellera Alta",
           185.3078
          ],
          [
           "Peñamellera Baja",
           260.1066
          ],
          [
           "Pesoz",
           317.0693
          ],
          [
           "Piloña",
           180.9473
          ],
          [
           "Ponga",
           706.3737
          ],
          [
           "Pravia",
           41.19317
          ],
          [
           "Proaza",
           201.1137
          ],
          [
           "Quirós",
           596.6254
          ],
          [
           "Ribadedeva",
           73.00428
          ],
          [
           "Ribadesella",
           23.78174
          ],
          [
           "Ribera de Arriba",
           201.4535
          ],
          [
           "Riosa",
           1073.679
          ],
          [
           "Salas",
           243.8303
          ],
          [
           "San Martín del Rey Aurelio",
           266.8616
          ],
          [
           "San Martín de Oscos",
           701.4034
          ],
          [
           "Santa Eulalia de Oscos",
           547.0981
          ],
          [
           "San Tirso de Abres",
           40.88018
          ],
          [
           "Santo Adriano",
           475.4342
          ],
          [
           "Sariego",
           283.0529
          ],
          [
           "Siero",
           266.4884
          ],
          [
           "Sobrescobio",
           579.3365
          ],
          [
           "Somiedo",
           1017.7
          ],
          [
           "Soto del Barco",
           68.42937
          ],
          [
           "Tapia de Casariego",
           25.45387
          ],
          [
           "Taramundi",
           279.6605
          ],
          [
           "Teverga",
           693.9147
          ],
          [
           "Tineo",
           671.4896
          ],
          [
           "Vegadeo",
           5.833657
          ],
          [
           "Villanueva de Oscos",
           645.1224
          ],
          [
           "Villaviciosa",
           8.267545
          ],
          [
           "Villayón",
           372.2103
          ],
          [
           "Yernes y Tameza",
           687.0248
          ],
          [
           "Abarca de Campos",
           758.1901
          ],
          [
           "Abia de las Torres",
           836.1696
          ],
          [
           "Aguilar de Campoo",
           897.081
          ],
          [
           "Alar del Rey",
           853.8849
          ],
          [
           "Alba de Cerrato",
           780.3799
          ],
          [
           "Amayuelas de Arriba",
           787.3027
          ],
          [
           "Ampudia",
           794.2702
          ],
          [
           "Amusco",
           773.6923
          ],
          [
           "Antigüedad",
           833.6262
          ],
          [
           "Arconada",
           804.9647
          ],
          [
           "Astudillo",
           788.4464
          ],
          [
           "Autilla del Pino",
           870.6778
          ],
          [
           "Autillo de Campos",
           762.9597
          ],
          [
           "Ayuela",
           952.0762
          ],
          [
           "Baltanás",
           784.0414
          ],
          [
           "Venta de Baños",
           722.1985
          ],
          [
           "Baquerín de Campos",
           749.9719
          ],
          [
           "Bárcena de Campos",
           845.1735
          ],
          [
           "Barruelo de Santullán",
           1051.277
          ],
          [
           "Báscones de Ojeda",
           962.8129
          ],
          [
           "Becerril de Campos",
           769.5222
          ],
          [
           "Belmonte de Campos",
           743.8493
          ],
          [
           "Berzosilla",
           826.7042
          ],
          [
           "Boada de Campos",
           748
          ],
          [
           "Boadilla del Camino",
           782.657
          ],
          [
           "Boadilla de Rioseco",
           783.1019
          ],
          [
           "Brañosera",
           1200.068
          ],
          [
           "Buenavista de Valdavia",
           926.9855
          ],
          [
           "Bustillo de la Vega",
           885
          ],
          [
           "Bustillo del Páramo de Carrión",
           854.3857
          ],
          [
           "Calahorra de Boedo",
           868.8841
          ],
          [
           "Calzada de los Molinos",
           827.0596
          ],
          [
           "Capillas",
           760.7122
          ],
          [
           "Cardeñosa de Volpejera",
           827.3951
          ],
          [
           "Carrión de los Condes",
           837.2867
          ],
          [
           "Castil de Vela",
           759.6097
          ],
          [
           "Castrejón de la Peña",
           1121.003
          ],
          [
           "Castrillo de Don Juan",
           830.5445
          ],
          [
           "Castrillo de Onielo",
           821.9319
          ],
          [
           "Castrillo de Villavega",
           851.3707
          ],
          [
           "Castromocho",
           758.2964
          ],
          [
           "Cervatos de la Cueza",
           853.0574
          ],
          [
           "Cervera de Pisuerga",
           1007.858
          ],
          [
           "Cevico de la Torre",
           754.6013
          ],
          [
           "Cevico Navero",
           829.4386
          ],
          [
           "Cisneros",
           804.7203
          ],
          [
           "Cobos de Cerrato",
           819.4964
          ],
          [
           "Collazos de Boedo",
           916.8154
          ],
          [
           "Congosto de Valdavia",
           973.56
          ],
          [
           "Cordovilla la Real",
           745.9448
          ],
          [
           "Cubillas de Cerrato",
           743.376
          ],
          [
           "Dehesa de Montejo",
           1091.726
          ],
          [
           "Dehesa de Romanos",
           943.8187
          ],
          [
           "Dueñas",
           723.9095
          ],
          [
           "Espinosa de Cerrato",
           864.7267
          ],
          [
           "Espinosa de Villagonzalo",
           831.9033
          ],
          [
           "Frechilla",
           775.0347
          ],
          [
           "Fresno del Río",
           1015.25
          ],
          [
           "Frómista",
           783.3309
          ],
          [
           "Fuentes de Nava",
           756.5685
          ],
          [
           "Fuentes de Valdepero",
           796.7946
          ],
          [
           "Grijota",
           746.9368
          ],
          [
           "Guardo",
           1095.632
          ],
          [
           "Guaza de Campos",
           794.0911
          ],
          [
           "Hérmedes de Cerrato",
           900.4366
          ],
          [
           "Herrera de Pisuerga",
           847.2326
          ],
          [
           "Herrera de Valdecañas",
           778.0357
          ],
          [
           "Hontoria de Cerrato",
           744.5811
          ],
          [
           "Hornillos de Cerrato",
           794.4394
          ],
          [
           "Husillos",
           744.5184
          ],
          [
           "Itero de la Vega",
           770.6241
          ],
          [
           "Lagartos",
           914.8121
          ],
          [
           "Lantadilla",
           788.4019
          ],
          [
           "Ledigos",
           876.8804
          ],
          [
           "Lomas",
           825.279
          ],
          [
           "Magaz de Pisuerga",
           731.0358
          ],
          [
           "Manquillos",
           776.0267
          ],
          [
           "Mantinos",
           1068.459
          ],
          [
           "Marcilla de Campos",
           816.3467
          ],
          [
           "Mazariegos",
           739.4893
          ],
          [
           "Mazuecos de Valdeginate",
           781.7784
          ],
          [
           "Melgar de Yuso",
           771.8138
          ],
          [
           "Meneses de Campos",
           749.4305
          ],
          [
           "Micieces de Ojeda",
           935.5956
          ],
          [
           "Monzón de Campos",
           751.6661
          ],
          [
           "Moratinos",
           858.9825
          ],
          [
           "Mudá",
           997.7184
          ],
          [
           "Nogal de las Huertas",
           846.8398
          ],
          [
           "Olea de Boedo",
           929.4524
          ],
          [
           "Olmos de Ojeda",
           926.6885
          ],
          [
           "Osornillo",
           812.6404
          ],
          [
           "Palencia",
           745.8375
          ],
          [
           "Palenzuela",
           797.952
          ],
          [
           "Páramo de Boedo",
           877.6904
          ],
          [
           "Paredes de Nava",
           784.7175
          ],
          [
           "Payo de Ojeda",
           1001.883
          ],
          [
           "Pedraza de Campos",
           755.1041
          ],
          [
           "Pedrosa de la Vega",
           892.6549
          ],
          [
           "Perales",
           777.6556
          ],
          [
           "Pino del Río",
           997.0795
          ],
          [
           "Piña de Campos",
           764
          ],
          [
           "Población de Arroyo",
           856.0229
          ],
          [
           "Población de Campos",
           783.4893
          ],
          [
           "Población de Cerrato",
           757.9332
          ],
          [
           "Polentinos",
           1274.941
          ],
          [
           "Pomar de Valdivia",
           933.123
          ],
          [
           "Poza de la Vega",
           948.2457
          ],
          [
           "Pozo de Urama",
           822.1624
          ],
          [
           "Prádanos de Ojeda",
           940.287
          ],
          [
           "Quintana del Puente",
           749.798
          ],
          [
           "Quintanilla de Onsoña",
           887
          ],
          [
           "Reinoso de Cerrato",
           743.1708
          ],
          [
           "Renedo de la Vega",
           874.2899
          ],
          [
           "Requena de Campos",
           797.9777
          ],
          [
           "Respenda de la Peña",
           1013.032
          ],
          [
           "Revenga de Campos",
           787.4664
          ],
          [
           "Revilla de Collazos",
           932.0509
          ],
          [
           "Ribas de Campos",
           774.9756
          ],
          [
           "Riberos de la Cueza",
           832.8394
          ],
          [
           "Saldaña",
           916.6245
          ],
          [
           "Salinas de Pisuerga",
           944.0237
          ],
          [
           "San Cebrián de Campos",
           790.2224
          ],
          [
           "San Cebrián de Mudá",
           1037.153
          ],
          [
           "San Cristóbal de Boedo",
           869.1218
          ],
          [
           "San Mamés de Campos",
           820.2789
          ],
          [
           "San Román de la Cuba",
           807.9491
          ],
          [
           "Santa Cecilia del Alcor",
           842.3927
          ],
          [
           "Santa Cruz de Boedo",
           846.978
          ],
          [
           "Santervás de la Vega",
           923.4318
          ],
          [
           "Santibáñez de Ecla",
           948.8027
          ],
          [
           "Santibáñez de la Peña",
           1111.072
          ],
          [
           "Santoyo",
           795.4398
          ],
          [
           "Sotobañado y Priorato",
           893.8764
          ],
          [
           "Soto de Cerrato",
           727
          ],
          [
           "Tabanera de Cerrato",
           839.3667
          ],
          [
           "Tabanera de Valdavia",
           976.2473
          ],
          [
           "Támara de Campos",
           792.7064
          ],
          [
           "Tariego de Cerrato",
           736.2674
          ],
          [
           "Torquemada",
           746.9241
          ],
          [
           "Torremormojón",
           773.3138
          ],
          [
           "Triollo",
           1301.146
          ],
          [
           "Valbuena de Pisuerga",
           775.9148
          ],
          [
           "Valdeolmillos",
           786.3863
          ],
          [
           "Valderrábano",
           955.5308
          ],
          [
           "Valde-Ucieza",
           819.1132
          ],
          [
           "Valle de Cerrato",
           816.1359
          ],
          [
           "Velilla del Río Carrión",
           1121.064
          ],
          [
           "Vertavillo",
           813.3558
          ],
          [
           "Villabasta de Valdavia",
           923.1686
          ],
          [
           "Villacidaler",
           793.0969
          ],
          [
           "Villaconancio",
           815.3722
          ],
          [
           "Villada",
           798.712
          ],
          [
           "Villaeles de Valdavia",
           885.7921
          ],
          [
           "Villahán",
           805.9824
          ],
          [
           "Villaherreros",
           826
          ],
          [
           "Villalaco",
           760.3248
          ],
          [
           "Villalba de Guardo",
           1052.94
          ],
          [
           "Villalcázar de Sirga",
           807.4279
          ],
          [
           "Villalcón",
           826.2475
          ],
          [
           "Villalobón",
           756.4676
          ],
          [
           "Villaluenga de la Vega",
           916
          ],
          [
           "Villamartín de Campos",
           750.0041
          ],
          [
           "Villamediana",
           785.6046
          ],
          [
           "Villameriel",
           904.6328
          ],
          [
           "Villamoronta",
           857.4798
          ],
          [
           "Villamuera de la Cueza",
           835.5288
          ],
          [
           "Villamuriel de Cerrato",
           727.2947
          ],
          [
           "Villanueva del Rebollar",
           840
          ],
          [
           "Villanuño de Valdavia",
           872.7621
          ],
          [
           "Villaprovedo",
           871.5985
          ],
          [
           "Villarmentero de Campos",
           789.4766
          ],
          [
           "Villarrabé",
           902.7899
          ],
          [
           "Villarramiel",
           767.2833
          ],
          [
           "Villasarracino",
           841.2697
          ],
          [
           "Villasila de Valdavia",
           867.3951
          ],
          [
           "Villaturde",
           843.3107
          ],
          [
           "Villaumbrales",
           760.1631
          ],
          [
           "Villaviudas",
           764.9033
          ],
          [
           "Villerías de Campos",
           755.412
          ],
          [
           "Villodre",
           766.6766
          ],
          [
           "Villodrigo",
           764.4204
          ],
          [
           "Villoldo",
           790.9491
          ],
          [
           "Villota del Páramo",
           1001.102
          ],
          [
           "Villovieco",
           787.0002
          ],
          [
           "Osorno la Mayor",
           808.4557
          ],
          [
           "Valle del Retortillo",
           800.4486
          ],
          [
           "Loma de Ucieza",
           841.5579
          ],
          [
           "Arbo",
           150.7691
          ],
          [
           "Barro",
           66.8885
          ],
          [
           "Baiona",
           21.20054
          ],
          [
           "Bueu",
           44.66146
          ],
          [
           "Caldas de Reis",
           27.27038
          ],
          [
           "Cambados",
           14.76714
          ],
          [
           "Campo Lameiro",
           243.4357
          ],
          [
           "Cangas",
           10.73197
          ],
          [
           "Catoira",
           18.32608
          ],
          [
           "Covelo",
           380.7574
          ],
          [
           "Crecente",
           197.8595
          ],
          [
           "Cuntis",
           160.0568
          ],
          [
           "Dozón",
           748.7759
          ],
          [
           "Forcarei",
           592.3196
          ],
          [
           "Fornelos de Montes",
           331.3943
          ],
          [
           "Agolada",
           583.5956
          ],
          [
           "Gondomar",
           17.18025
          ],
          [
           "Lalín",
           557.2646
          ],
          [
           "Marín",
           19.78863
          ],
          [
           "Meaño",
           118.3362
          ],
          [
           "Meis",
           58.83432
          ],
          [
           "Moaña",
           129.5525
          ],
          [
           "Mondariz",
           117.1311
          ],
          [
           "Mondariz-Balneario",
           62.12397
          ],
          [
           "Moraña",
           381.2427
          ],
          [
           "Mos",
           212.5747
          ],
          [
           "Nigrán",
           56.04147
          ],
          [
           "Oia",
           24.84615
          ],
          [
           "Pazos de Borbén",
           236.8124
          ],
          [
           "Pontevedra",
           18.60786
          ],
          [
           "Portas",
           129.5794
          ],
          [
           "Poio",
           195.026
          ],
          [
           "Ponteareas",
           41.39864
          ],
          [
           "Ponte Caldelas",
           292.4084
          ],
          [
           "Pontecesures",
           19.25962
          ],
          [
           "Redondela",
           15.94175
          ],
          [
           "Ribadumia",
           26.51637
          ],
          [
           "Rodeiro",
           630.3114
          ],
          [
           "Salceda de Caselas",
           75.80363
          ],
          [
           "Salvaterra de Miño",
           32.76922
          ],
          [
           "Sanxenxo",
           7.093974
          ],
          [
           "Silleda",
           483.7768
          ],
          [
           "Soutomaior",
           118.3894
          ],
          [
           "Tomiño",
           40.81437
          ],
          [
           "Tui",
           43.46014
          ],
          [
           "Valga",
           45.98117
          ],
          [
           "Vigo",
           104.1391
          ],
          [
           "Vilaboa",
           72.6324
          ],
          [
           "Vila de Cruces",
           476.3511
          ],
          [
           "Vilagarcía de Arousa",
           11.04834
          ],
          [
           "Vilanova de Arousa",
           5.737418
          ],
          [
           "Abusejo",
           841.0999
          ],
          [
           "Agallas",
           801.2192
          ],
          [
           "Ahigal de los Aceiteros",
           643.92
          ],
          [
           "Ahigal de Villarino",
           765.2227
          ],
          [
           "Alaraz",
           884.6996
          ],
          [
           "Alba de Tormes",
           812.1788
          ],
          [
           "Alba de Yeltes",
           786.7349
          ],
          [
           "Alconada",
           831
          ],
          [
           "Aldeacipreste",
           867.7499
          ],
          [
           "Aldeadávila de la Ribera",
           685.362
          ],
          [
           "Aldea del Obispo",
           688.4317
          ],
          [
           "Aldealengua",
           789.8329
          ],
          [
           "Aldeanueva de Figueroa",
           869.1683
          ],
          [
           "Aldeanueva de la Sierra",
           980.8896
          ],
          [
           "Aldearrodrigo",
           782.8179
          ],
          [
           "Aldearrubia",
           813.3408
          ],
          [
           "Aldeaseca de Alba",
           864.6688
          ],
          [
           "Aldeaseca de la Frontera",
           870.618
          ],
          [
           "Aldeatejada",
           796.4962
          ],
          [
           "Aldeavieja de Tormes",
           911.0995
          ],
          [
           "Aldehuela de la Bóveda",
           790.1174
          ],
          [
           "Aldehuela de Yeltes",
           834.0591
          ],
          [
           "Almenara de Tormes",
           782.0564
          ],
          [
           "Almendra",
           765.9304
          ],
          [
           "Anaya de Alba",
           881.7967
          ],
          [
           "Añover de Tormes",
           804.0237
          ],
          [
           "Arabayona de Mógica",
           851.54
          ],
          [
           "Arapiles",
           841.4503
          ],
          [
           "Arcediano",
           825.3879
          ],
          [
           "Armenteros",
           1051.29
          ],
          [
           "San Miguel del Robledo",
           1016.15
          ],
          [
           "Babilafuente",
           800.2728
          ],
          [
           "Bañobárez",
           745.1431
          ],
          [
           "Barbadillo",
           805.1871
          ],
          [
           "Barbalos",
           904.4462
          ],
          [
           "Barceo",
           725.3111
          ],
          [
           "Barruecopardo",
           714.7976
          ],
          [
           "Béjar",
           946.3267
          ],
          [
           "Beleña",
           885.9651
          ],
          [
           "Bermellar",
           634.8019
          ],
          [
           "Berrocal de Huebra",
           901.111
          ],
          [
           "Berrocal de Salvatierra",
           903.2983
          ],
          [
           "Boada",
           780.2197
          ],
          [
           "Bogajo",
           711.4703
          ],
          [
           "Bóveda del Río Almar",
           882.0773
          ],
          [
           "Brincones",
           764.189
          ],
          [
           "Buenamadre",
           759.6102
          ],
          [
           "Buenavista",
           941.6581
          ],
          [
           "Cabezabellosa de la Calzada",
           855.9011
          ],
          [
           "Cabeza del Caballo",
           730.4404
          ],
          [
           "Cabrerizos",
           825.5041
          ],
          [
           "Cabrillas",
           798.0694
          ],
          [
           "Calvarrasa de Abajo",
           800.4495
          ],
          [
           "Calvarrasa de Arriba",
           850.1463
          ],
          [
           "Calzada de Don Diego",
           815.0586
          ],
          [
           "Calzada de Valdunciel",
           801.944
          ],
          [
           "Campillo de Azaba",
           654.696
          ],
          [
           "Candelario",
           1091.34
          ],
          [
           "Canillas de Abajo",
           811.4039
          ],
          [
           "Cantagallo",
           915.337
          ],
          [
           "Cantalapiedra",
           784.8248
          ],
          [
           "Cantalpino",
           809.6198
          ],
          [
           "Cantaracillo",
           913.4099
          ],
          [
           "Carbajosa de la Sagrada",
           793.0272
          ],
          [
           "Carpio de Azaba",
           682.3234
          ],
          [
           "Carrascal de Barregas",
           794.4115
          ],
          [
           "Carrascal del Obispo",
           899.0852
          ],
          [
           "Casafranca",
           929.7108
          ],
          [
           "Casillas de Flores",
           856.6022
          ],
          [
           "Castellanos de Moriscos",
           834.6884
          ],
          [
           "Castillejo de Martín Viejo",
           667.963
          ],
          [
           "Castraz",
           761.6857
          ],
          [
           "Cepeda",
           627.2601
          ],
          [
           "Cereceda de la Sierra",
           981.321
          ],
          [
           "Cerezal de Peñahorcada",
           701.7072
          ],
          [
           "Cerralbo",
           680.7393
          ],
          [
           "Cespedosa de Tormes",
           1026.923
          ],
          [
           "Cilleros de la Bastida",
           1066.91
          ],
          [
           "Cipérez",
           774.0986
          ],
          [
           "Ciudad Rodrigo",
           642.403
          ],
          [
           "Coca de Alba",
           835.9797
          ],
          [
           "Colmenar de Montemayor",
           832.6315
          ],
          [
           "Cordovilla",
           829.8961
          ],
          [
           "Cristóbal",
           879.3582
          ],
          [
           "Chagarcía Medianero",
           1037.603
          ],
          [
           "Dios le Guarde",
           827.7272
          ],
          [
           "Doñinos de Ledesma",
           847.0023
          ],
          [
           "Doñinos de Salamanca",
           825.1975
          ],
          [
           "Éjeme",
           814.8564
          ],
          [
           "Encina de San Silvestre",
           803.7103
          ],
          [
           "Encinas de Abajo",
           791.9091
          ],
          [
           "Encinas de Arriba",
           817.2836
          ],
          [
           "Encinasola de los Comendadores",
           708.7699
          ],
          [
           "Endrinal",
           923.6503
          ],
          [
           "Escurial de la Sierra",
           958.3282
          ],
          [
           "Espadaña",
           785.398
          ],
          [
           "Espeja",
           698.6036
          ],
          [
           "Espino de la Orbada",
           799.1531
          ],
          [
           "Florida de Liébana",
           767.7192
          ],
          [
           "Forfoleda",
           792
          ],
          [
           "Frades de la Sierra",
           969.7409
          ],
          [
           "Fresnedoso",
           1020.359
          ],
          [
           "Fresno Alhándiga",
           831.5128
          ],
          [
           "Fuenteguinaldo",
           857.3421
          ],
          [
           "Fuenteliante",
           722.4082
          ],
          [
           "Fuenterroble de Salvatierra",
           952.5548
          ],
          [
           "Fuentes de Béjar",
           906.1965
          ],
          [
           "Fuentes de Oñoro",
           737.6271
          ],
          [
           "Gajates",
           854.1697
          ],
          [
           "Galindo y Perahuy",
           798.0319
          ],
          [
           "Galinduste",
           947.1396
          ],
          [
           "Galisancho",
           820.5486
          ],
          [
           "Gallegos de Argañán",
           664.0316
          ],
          [
           "Gallegos de Solmirón",
           1109.974
          ],
          [
           "Garcibuey",
           699.9051
          ],
          [
           "Garcihernández",
           815.0062
          ],
          [
           "Garcirrey",
           812.2611
          ],
          [
           "Gejuelo del Barro",
           807.9324
          ],
          [
           "Golpejas",
           783.9107
          ],
          [
           "Gomecello",
           843.8534
          ],
          [
           "Guadramiro",
           748.9703
          ],
          [
           "Guijo de Ávila",
           972.0184
          ],
          [
           "Guijuelo",
           1015.943
          ],
          [
           "Herguijuela de Ciudad Rodrigo",
           805.5259
          ],
          [
           "Herguijuela de la Sierra",
           649.6334
          ],
          [
           "Herguijuela del Campo",
           925.9821
          ],
          [
           "Hinojosa de Duero",
           608.4411
          ],
          [
           "Horcajo de Montemayor",
           736.9137
          ],
          [
           "Horcajo Medianero",
           1001.317
          ],
          [
           "Huerta",
           788.3081
          ],
          [
           "Iruelos",
           780.4797
          ],
          [
           "Ituero de Azaba",
           669.289
          ],
          [
           "Juzbado",
           795.5882
          ],
          [
           "Lagunilla",
           932.2834
          ],
          [
           "Larrodrigo",
           867.775
          ],
          [
           "Ledesma",
           773.7244
          ],
          [
           "Ledrada",
           884.9431
          ],
          [
           "Linares de Riofrío",
           957.4563
          ],
          [
           "Lumbrales",
           675.5071
          ],
          [
           "Macotera",
           893.4735
          ],
          [
           "Machacón",
           807.2266
          ],
          [
           "Madroñal",
           674.8745
          ],
          [
           "Malpartida",
           897.3098
          ],
          [
           "Mancera de Abajo",
           897.7108
          ],
          [
           "Martiago",
           811.0814
          ],
          [
           "Martinamor",
           954.91
          ],
          [
           "Martín de Yeltes",
           762.9928
          ],
          [
           "Masueco",
           680.6115
          ],
          [
           "Castellanos de Villiquera",
           829.2123
          ],
          [
           "Matilla de los Caños del Río",
           826.0807
          ],
          [
           "Membribe de la Sierra",
           1025.661
          ],
          [
           "Mieza",
           662.1299
          ],
          [
           "Miranda de Azán",
           821.7861
          ],
          [
           "Miranda del Castañar",
           636.434
          ],
          [
           "Mogarraz",
           782.6704
          ],
          [
           "Molinillo",
           725.483
          ],
          [
           "Monforte de la Sierra",
           821.5292
          ],
          [
           "Monleón",
           872.0361
          ],
          [
           "Monleras",
           752.909
          ],
          [
           "Monsagro",
           965.6917
          ],
          [
           "Montejo",
           927.8253
          ],
          [
           "Montemayor del Río",
           643.6966
          ],
          [
           "Monterrubio de Armuña",
           799.7922
          ],
          [
           "Monterrubio de la Sierra",
           964.4607
          ],
          [
           "Morasverdes",
           896.1119
          ],
          [
           "Morille",
           933.8912
          ],
          [
           "Moríñigo",
           803.5493
          ],
          [
           "Moriscos",
           844.4398
          ],
          [
           "Moronta",
           764.1678
          ],
          [
           "Mozárbez",
           874.7148
          ],
          [
           "Narros de Matalayegua",
           985.0504
          ],
          [
           "Navacarros",
           1126.157
          ],
          [
           "Nava de Béjar",
           1046.605
          ],
          [
           "Nava de Francia",
           1042.738
          ],
          [
           "Nava de Sotrobal",
           856.4819
          ],
          [
           "Navales",
           847.2195
          ],
          [
           "Navalmoral de Béjar",
           926.4265
          ],
          [
           "Navamorales",
           989.564
          ],
          [
           "Navarredonda de la Rinconada",
           1026.249
          ],
          [
           "Navasfrías",
           903.6105
          ],
          [
           "Negrilla de Palencia",
           824.7216
          ],
          [
           "Olmedo de Camaces",
           711.8811
          ],
          [
           "Pajares de la Laguna",
           827.5972
          ],
          [
           "Palacios del Arzobispo",
           823.892
          ],
          [
           "Palaciosrubios",
           806.4166
          ],
          [
           "Palencia de Negrilla",
           824.9493
          ],
          [
           "Parada de Arriba",
           824.8565
          ],
          [
           "Parada de Rubiales",
           845.3183
          ],
          [
           "Paradinas de San Juan",
           852.3538
          ],
          [
           "Pastores",
           769.4645
          ],
          [
           "Pedraza de Alba",
           896.6031
          ],
          [
           "Pedrosillo de Alba",
           837.5592
          ],
          [
           "Pedrosillo de los Aires",
           956.5556
          ],
          [
           "Pedrosillo el Ralo",
           815.6058
          ],
          [
           "Pelabravo",
           815.6241
          ],
          [
           "Pelarrodríguez",
           756.4791
          ],
          [
           "Pelayos",
           935.5426
          ],
          [
           "Peñacaballera",
           874.3146
          ],
          [
           "Peñaparda",
           863.9899
          ],
          [
           "Peñaranda de Bracamonte",
           899.5543
          ],
          [
           "Peñarandilla",
           821.0045
          ],
          [
           "Peralejos de Abajo",
           773.447
          ],
          [
           "Peralejos de Arriba",
           788.0662
          ],
          [
           "Pereña de la Ribera",
           698.2541
          ],
          [
           "Peromingo",
           791.4692
          ],
          [
           "Pinedas",
           790.9607
          ],
          [
           "Pitiegua",
           846.9292
          ],
          [
           "Pizarral",
           908.2397
          ],
          [
           "Poveda de las Cintas",
           807.0439
          ],
          [
           "Pozos de Hinojo",
           735.0233
          ],
          [
           "Puebla de Azaba",
           665.5089
          ],
          [
           "Puebla de San Medel",
           967.3432
          ],
          [
           "Puebla de Yeltes",
           881.7862
          ],
          [
           "Puente del Congosto",
           941.1274
          ],
          [
           "Puertas",
           784.341
          ],
          [
           "Puerto de Béjar",
           929.1489
          ],
          [
           "Puerto Seguro",
           641.8528
          ],
          [
           "Rágama",
           847.4322
          ],
          [
           "Retortillo",
           735.7136
          ],
          [
           "Robleda",
           837.2068
          ],
          [
           "Robliza de Cojos",
           818.6881
          ],
          [
           "Rollán",
           802.2749
          ],
          [
           "Saelices el Chico",
           658.7722
          ],
          [
           "Salamanca",
           802.7915
          ],
          [
           "Saldeana",
           664.0504
          ],
          [
           "Salmoral",
           910.3112
          ],
          [
           "Salvatierra de Tormes",
           900.8209
          ],
          [
           "San Cristóbal de la Cuesta",
           820.1966
          ],
          [
           "Sancti-Spíritus",
           760.9977
          ],
          [
           "Sanchón de la Ribera",
           725.8375
          ],
          [
           "Sanchón de la Sagrada",
           862.8228
          ],
          [
           "Sanchotello",
           938.9756
          ],
          [
           "Sando",
           838.4528
          ],
          [
           "San Esteban de la Sierra",
           631.8868
          ],
          [
           "San Felices de los Gallegos",
           667.4055
          ],
          [
           "San Martín del Castañar",
           841.831
          ],
          [
           "San Miguel de Valero",
           932.705
          ],
          [
           "San Morales",
           794.9968
          ],
          [
           "San Muñoz",
           783.1349
          ],
          [
           "San Pedro del Valle",
           790.4227
          ],
          [
           "San Pedro de Rozados",
           975.6448
          ],
          [
           "San Pelayo de Guareña",
           789.7009
          ],
          [
           "Santa María de Sando",
           824.6718
          ],
          [
           "Santa Marta de Tormes",
           779.7791
          ],
          [
           "Santiago de la Puebla",
           868.9525
          ],
          [
           "Santibáñez de Béjar",
           922.2231
          ],
          [
           "Santibáñez de la Sierra",
           615.7195
          ],
          [
           "Santiz",
           892
          ],
          [
           "Sardón de los Frailes",
           737.1103
          ],
          [
           "Saucelle",
           666.158
          ],
          [
           "Sepulcro-Hilario",
           831.1911
          ],
          [
           "Sequeros",
           943.9675
          ],
          [
           "Serradilla del Arroyo",
           853.9916
          ],
          [
           "Serradilla del Llano",
           876.2202
          ],
          [
           "Sieteiglesias de Tormes",
           821
          ],
          [
           "Sobradillo",
           652.3832
          ],
          [
           "Sorihuela",
           1001.709
          ],
          [
           "Sotoserrano",
           509.2324
          ],
          [
           "Tabera de Abajo",
           810.5211
          ],
          [
           "Tamames",
           901.3917
          ],
          [
           "Tarazona de Guareña",
           770.5272
          ],
          [
           "Tardáguila",
           831.7318
          ],
          [
           "Tejeda y Segoyuela",
           929.616
          ],
          [
           "Tenebrón",
           824.368
          ],
          [
           "Terradillos",
           890.0266
          ],
          [
           "Topas",
           824.9239
          ],
          [
           "Tordillos",
           838.7855
          ],
          [
           "Torresmenudas",
           789.4065
          ],
          [
           "Trabanca",
           743.7527
          ],
          [
           "Tremedal de Tormes",
           767.5543
          ],
          [
           "Valdecarros",
           883.4447
          ],
          [
           "Valdefuentes de Sangusín",
           897.4296
          ],
          [
           "Valdehijaderos",
           778.0461
          ],
          [
           "Valdelacasa",
           957.9121
          ],
          [
           "Valdelageve",
           657.5203
          ],
          [
           "Valdelosa",
           841.7576
          ],
          [
           "Valdemierque",
           938.8387
          ],
          [
           "Valderrodrigo",
           733.0906
          ],
          [
           "Valdunciel",
           806.5008
          ],
          [
           "Valero",
           595.4124
          ],
          [
           "Valsalabroso",
           729.0405
          ],
          [
           "Valverde de Valdelacasa",
           804.0566
          ],
          [
           "Valverdón",
           767.7844
          ],
          [
           "Vallejera de Riofrío",
           1140.328
          ],
          [
           "Vecinos",
           888.3599
          ],
          [
           "Vega de Tirados",
           783.0811
          ],
          [
           "Ventosa del Río Almar",
           853.9965
          ],
          [
           "Vilvestre",
           582.2014
          ],
          [
           "Villaflores",
           794.5469
          ],
          [
           "Villagonzalo de Tormes",
           805.2603
          ],
          [
           "Villalba de los Llanos",
           835.8166
          ],
          [
           "Villamayor",
           786.5375
          ],
          [
           "Villanueva del Conde",
           800.9477
          ],
          [
           "Villar de Argañán",
           717.7349
          ],
          [
           "Villar de Ciervo",
           678.7781
          ],
          [
           "Villar de Gallimazo",
           857.1204
          ],
          [
           "Villar de la Yegua",
           711.8369
          ],
          [
           "Villar de Peralonso",
           820.0938
          ],
          [
           "Villar de Samaniego",
           743.1362
          ],
          [
           "Villares de la Reina",
           817.9556
          ],
          [
           "Villares de Yeltes",
           719.8795
          ],
          [
           "Villarino de los Aires",
           605.4351
          ],
          [
           "Villarmayor",
           827.4609
          ],
          [
           "Villarmuerto",
           767.4649
          ],
          [
           "Villasbuenas",
           734.7009
          ],
          [
           "Villasdardo",
           813.8005
          ],
          [
           "Villaseco de los Gamitos",
           834.4906
          ],
          [
           "Villaseco de los Reyes",
           771.2275
          ],
          [
           "Villasrubias",
           850.7972
          ],
          [
           "Villaverde de Guareña",
           829.9338
          ],
          [
           "Villavieja de Yeltes",
           741.9375
          ],
          [
           "Villoria",
           818.5666
          ],
          [
           "Villoruela",
           824.9141
          ],
          [
           "Vitigudino",
           763.2999
          ],
          [
           "Yecla de Yeltes",
           721.6814
          ],
          [
           "Zamarra",
           777.2296
          ],
          [
           "Zamayón",
           813.7863
          ],
          [
           "Zarapicos",
           783.1765
          ],
          [
           "Zorita de la Frontera",
           830.3544
          ],
          [
           "Adeje",
           288.9392
          ],
          [
           "Agulo",
           199.3272
          ],
          [
           "Alajeró",
           821.5216
          ],
          [
           "Arafo",
           432.3514
          ],
          [
           "Arico",
           362.0416
          ],
          [
           "Arona",
           630.8655
          ],
          [
           "Barlovento",
           560.6917
          ],
          [
           "Breña Alta",
           370.9761
          ],
          [
           "Breña Baja",
           539.2067
          ],
          [
           "Buenavista del Norte",
           127.8591
          ],
          [
           "Candelaria",
           10
          ],
          [
           "Fasnia",
           482.8613
          ],
          [
           "Frontera",
           339.0463
          ],
          [
           "Fuencaliente de la Palma",
           604.7274
          ],
          [
           "Garachico",
           11.52424
          ],
          [
           "Garafía",
           899.6116
          ],
          [
           "Granadilla de Abona",
           647.0933
          ],
          [
           "Guía de Isora",
           590.0607
          ],
          [
           "Güímar",
           307.1391
          ],
          [
           "Hermigua",
           127.1466
          ],
          [
           "Icod de los Vinos",
           229.9812
          ],
          [
           "San Cristóbal de La Laguna",
           548.1752
          ],
          [
           "Puerto de la Cruz",
           53.82357
          ],
          [
           "Puntagorda",
           849.1637
          ],
          [
           "Puntallana",
           494.2469
          ],
          [
           "San Andrés y Sauces",
           60.90185
          ],
          [
           "San Juan de la Rambla",
           50.26696
          ],
          [
           "San Miguel de Abona",
           604.5886
          ],
          [
           "San Sebastián de la Gomera",
           2.807406
          ],
          [
           "Santa Cruz de la Palma",
           3.883548
          ],
          [
           "Santa Cruz de Tenerife",
           41.29388
          ],
          [
           "Santa Úrsula",
           284.0858
          ],
          [
           "Santiago del Teide",
           929.3008
          ],
          [
           "Tacoronte",
           488.9084
          ],
          [
           "Tazacorte",
           124.7486
          ],
          [
           "Tegueste",
           412.2942
          ],
          [
           "Tijarafe",
           615.9692
          ],
          [
           "Valverde",
           588.4797
          ],
          [
           "Valle Gran Rey",
           607.2831
          ],
          [
           "Vallehermoso",
           181.5817
          ],
          [
           "Villa de Mazo",
           965.7053
          ],
          [
           "Alfoz de Lloredo",
           191.1736
          ],
          [
           "Ampuero",
           14.41542
          ],
          [
           "Anievas",
           307.6791
          ],
          [
           "Arenas de Iguña",
           175.7548
          ],
          [
           "Argoños",
           7.686848
          ],
          [
           "Arnuero",
           58.03693
          ],
          [
           "Arredondo",
           162.1712
          ],
          [
           "Bárcena de Cicero",
           8.115047
          ],
          [
           "Bárcena de Pie de Concha",
           341.4135
          ],
          [
           "Bareyo",
           74.22401
          ],
          [
           "Cabezón de la Sal",
           126.715
          ],
          [
           "Cabezón de Liébana",
           368.491
          ],
          [
           "Cabuérniga",
           279.0297
          ],
          [
           "Camaleño",
           442.6653
          ],
          [
           "Camargo",
           27.12142
          ],
          [
           "Campoo de Yuso",
           854.9267
          ],
          [
           "Cartes",
           34.01722
          ],
          [
           "Castañeda",
           51.33138
          ],
          [
           "Castro-Urdiales",
           13.48153
          ],
          [
           "Cieza",
           238.8728
          ],
          [
           "Cillorigo de Liébana",
           491.4029
          ],
          [
           "Colindres",
           7.550448
          ],
          [
           "Comillas",
           24.99873
          ],
          [
           "Corvera de Toranzo",
           317.1393
          ],
          [
           "Campoo de Enmedio",
           878.4844
          ],
          [
           "Entrambasaguas",
           44.69009
          ],
          [
           "Escalante",
           8.192403
          ],
          [
           "Guriezo",
           13.48724
          ],
          [
           "Hazas de Cesto",
           66.35742
          ],
          [
           "Hermandad de Campoo de Suso",
           912.019
          ],
          [
           "Herrerías",
           193.9438
          ],
          [
           "Lamasón",
           315.1235
          ],
          [
           "Laredo",
           13.43072
          ],
          [
           "Liendo",
           29.383
          ],
          [
           "Liérganes",
           87.95516
          ],
          [
           "Limpias",
           305.4288
          ],
          [
           "Luena",
           495.1068
          ],
          [
           "Marina de Cudeyo",
           16.28183
          ],
          [
           "Mazcuerras",
           133.059
          ],
          [
           "Medio Cudeyo",
           37.2541
          ],
          [
           "Meruelo",
           35.97668
          ],
          [
           "Miengo",
           14.39486
          ],
          [
           "Miera",
           338.0346
          ],
          [
           "Molledo",
           248.2709
          ],
          [
           "Noja",
           24.97051
          ],
          [
           "Penagos",
           129.0727
          ],
          [
           "Peñarrubia",
           475.7796
          ],
          [
           "Pesaguero",
           608.4185
          ],
          [
           "Pesquera",
           614.1819
          ],
          [
           "Piélagos",
           39.58884
          ],
          [
           "Polaciones",
           887.2664
          ],
          [
           "Polanco",
           52.85626
          ],
          [
           "Potes",
           309.7742
          ],
          [
           "Puente Viesgo",
           70.55008
          ],
          [
           "Ramales de la Victoria",
           86.5575
          ],
          [
           "Rasines",
           88.65132
          ],
          [
           "Reinosa",
           853.8888
          ],
          [
           "Reocín",
           115.7464
          ],
          [
           "Ribamontán al Mar",
           29.16733
          ],
          [
           "Ribamontán al Monte",
           59.71571
          ],
          [
           "Rionansa",
           210.4719
          ],
          [
           "Riotuerto",
           126.3817
          ],
          [
           "Ruente",
           189.9705
          ],
          [
           "Ruesga",
           149.2516
          ],
          [
           "Ruiloba",
           44.85384
          ],
          [
           "San Felices de Buelna",
           105.392
          ],
          [
           "San Miguel de Aguayo",
           839.2117
          ],
          [
           "San Pedro del Romeral",
           755.9124
          ],
          [
           "San Roque de Riomiera",
           378.2011
          ],
          [
           "Santa Cruz de Bezana",
           42.96122
          ],
          [
           "Santa María de Cayón",
           94.75117
          ],
          [
           "Santander",
           4.1
          ],
          [
           "Santillana del Mar",
           84.16537
          ],
          [
           "Santiurde de Reinosa",
           647.917
          ],
          [
           "Santiurde de Toranzo",
           122.0352
          ],
          [
           "Santoña",
           8.660443
          ],
          [
           "San Vicente de la Barquera",
           3.441201
          ],
          [
           "Saro",
           162.4471
          ],
          [
           "Selaya",
           242.945
          ],
          [
           "Soba",
           320.8042
          ],
          [
           "Solórzano",
           89.04234
          ],
          [
           "Suances",
           90.53543
          ],
          [
           "Torrelavega",
           24.9647
          ],
          [
           "Tresviso",
           888.7922
          ],
          [
           "Tudanca",
           420.3354
          ],
          [
           "Udías",
           169.41
          ],
          [
           "Valdáliga",
           46.15511
          ],
          [
           "Valdeolea",
           930.1546
          ],
          [
           "Valdeprado del Río",
           914.2877
          ],
          [
           "Valderredible",
           725.1385
          ],
          [
           "Val de San Vicente",
           32.28376
          ],
          [
           "Vega de Liébana",
           1232.006
          ],
          [
           "Vega de Pas",
           357.8255
          ],
          [
           "Villacarriedo",
           213.2215
          ],
          [
           "Villaescusa",
           22.27066
          ],
          [
           "Villafufre",
           224.6329
          ],
          [
           "Valle de Villaverde",
           194.6136
          ],
          [
           "Voto",
           30.99223
          ],
          [
           "Abades",
           972.9816
          ],
          [
           "Adrada de Pirón",
           1025.208
          ],
          [
           "Adrados",
           885.7927
          ],
          [
           "Aguilafuente",
           890.7866
          ],
          [
           "Alconada de Maderuelo",
           941.0287
          ],
          [
           "Aldealcorvo",
           954.9659
          ],
          [
           "Aldealengua de Pedraza",
           1224.668
          ],
          [
           "Aldealengua de Santa María",
           956.4097
          ],
          [
           "Aldeanueva de la Serrezuela",
           1133.43
          ],
          [
           "Aldeanueva del Codonal",
           860.4335
          ],
          [
           "Aldea Real",
           1180.345
          ],
          [
           "Aldeasoña",
           829.5284
          ],
          [
           "Aldehorno",
           961.0057
          ],
          [
           "Aldehuela del Codonal",
           860.6868
          ],
          [
           "Aldeonte",
           966.3133
          ],
          [
           "Anaya",
           888.5967
          ],
          [
           "Añe",
           876.4594
          ],
          [
           "Arahuetes",
           1094.234
          ],
          [
           "Arcones",
           1151.102
          ],
          [
           "Arevalillo de Cega",
           1042.221
          ],
          [
           "Armuña",
           908.2159
          ],
          [
           "Ayllón",
           1000.703
          ],
          [
           "Barbolla",
           942.1429
          ],
          [
           "Basardilla",
           1094.927
          ],
          [
           "Bercial",
           972.6617
          ],
          [
           "Bercimuel",
           967.4302
          ],
          [
           "Bernardos",
           901.9694
          ],
          [
           "Bernuy de Porreros",
           1016.847
          ],
          [
           "Boceguillas",
           962.1383
          ],
          [
           "Brieva",
           1090.915
          ],
          [
           "Caballar",
           1009.216
          ],
          [
           "Cabañas de Polendos",
           940.3881
          ],
          [
           "Cabezuela",
           950.7864
          ],
          [
           "Calabazas de Fuentidueña",
           909.485
          ],
          [
           "Campo de San Pedro",
           970.5167
          ],
          [
           "Cantalejo",
           963.2977
          ],
          [
           "Cantimpalos",
           909.5023
          ],
          [
           "Carbonero el Mayor",
           922.6301
          ],
          [
           "Carrascal del Río",
           856.5717
          ],
          [
           "Casla",
           1077.447
          ],
          [
           "Castillejo de Mesleón",
           1015.715
          ],
          [
           "Castro de Fuentidueña",
           1099.253
          ],
          [
           "Castrojimeno",
           1083.13
          ],
          [
           "Castroserna de Abajo",
           986.5969
          ],
          [
           "Castroserracín",
           1136.012
          ],
          [
           "Cedillo de la Torre",
           1021.628
          ],
          [
           "Cerezo de Abajo",
           1047.832
          ],
          [
           "Cerezo de Arriba",
           1128.88
          ],
          [
           "Cilleruelo de San Mamés",
           986.2485
          ],
          [
           "Cobos de Fuentidueña",
           837.217
          ],
          [
           "Coca",
           783.8333
          ],
          [
           "Codorniz",
           889.9684
          ],
          [
           "Collado Hermoso",
           1220.754
          ],
          [
           "Condado de Castilnovo",
           998.777
          ],
          [
           "Corral de Ayllón",
           1027.357
          ],
          [
           "Cubillo",
           1066.817
          ],
          [
           "Cuéllar",
           873.2888
          ],
          [
           "Chañe",
           767.6998
          ],
          [
           "Domingo García",
           899.2606
          ],
          [
           "Donhierro",
           804.6583
          ],
          [
           "Duruelo",
           1012.408
          ],
          [
           "Encinas",
           1009.99
          ],
          [
           "Encinillas",
           949.6232
          ],
          [
           "Escalona del Prado",
           896.3405
          ],
          [
           "Escarabajosa de Cabezas",
           884.6951
          ],
          [
           "Escobar de Polendos",
           905.3851
          ],
          [
           "Espirdo",
           1067.382
          ],
          [
           "Fresneda de Cuéllar",
           766.7217
          ],
          [
           "Fresno de Cantespino",
           1037.505
          ],
          [
           "Fresno de la Fuente",
           1040.055
          ],
          [
           "Frumales",
           820
          ],
          [
           "Fuente de Santa Cruz",
           831.7021
          ],
          [
           "Fuente el Olmo de Fuentidueña",
           851.1677
          ],
          [
           "Fuente el Olmo de Íscar",
           775.7598
          ],
          [
           "Fuentepelayo",
           869.318
          ],
          [
           "Fuentepiñel",
           891.1735
          ],
          [
           "Fuenterrebollo",
           929.0509
          ],
          [
           "Fuentesaúco de Fuentidueña",
           897.0123
          ],
          [
           "Fuentesoto",
           942.894
          ],
          [
           "Fuentidueña",
           838.3236
          ],
          [
           "Gallegos",
           1234.033
          ],
          [
           "Garcillán",
           917
          ],
          [
           "Gomezserracín",
           805
          ],
          [
           "Grajera",
           1012.895
          ],
          [
           "Honrubia de la Cuesta",
           993.7116
          ],
          [
           "Hontalbilla",
           893.8555
          ],
          [
           "Hontanares de Eresma",
           880.4162
          ],
          [
           "Ituero y Lama",
           1002.227
          ],
          [
           "Juarros de Riomoros",
           916.307
          ],
          [
           "Juarros de Voltoya",
           853.621
          ],
          [
           "Labajos",
           1063.336
          ],
          [
           "Laguna de Contreras",
           801.9667
          ],
          [
           "Languilla",
           947.9021
          ],
          [
           "Lastras de Cuéllar",
           902.9059
          ],
          [
           "Lastras del Pozo",
           966.7155
          ],
          [
           "Maderuelo",
           948.9968
          ],
          [
           "Marazuela",
           909.9414
          ],
          [
           "Martín Miguel",
           916.2261
          ],
          [
           "Martín Muñoz de la Dehesa",
           835.0771
          ],
          [
           "Martín Muñoz de las Posadas",
           895.8978
          ],
          [
           "Marugán",
           958.082
          ],
          [
           "Matabuena",
           1157.678
          ],
          [
           "Mata de Cuéllar",
           753
          ],
          [
           "Melque de Cercos",
           859.2445
          ],
          [
           "Membibre de la Hoz",
           866.361
          ],
          [
           "Migueláñez",
           885.0084
          ],
          [
           "Montejo de Arévalo",
           801.1225
          ],
          [
           "Montejo de la Vega de la Serrezuela",
           865.232
          ],
          [
           "Monterrubio",
           948.3826
          ],
          [
           "Moral de Hornuez",
           1095.375
          ],
          [
           "Mozoncillo",
           947.8896
          ],
          [
           "Muñopedro",
           1023
          ],
          [
           "Muñoveros",
           962.0355
          ],
          [
           "Nava de la Asunción",
           807.3397
          ],
          [
           "Navafría",
           1203.15
          ],
          [
           "Navalilla",
           900.9603
          ],
          [
           "Navalmanzano",
           840.0873
          ],
          [
           "Navares de Ayuso",
           1013.812
          ],
          [
           "Navares de Enmedio",
           1041.241
          ],
          [
           "Navares de las Cuevas",
           1115.182
          ],
          [
           "Navas de Oro",
           808.3718
          ],
          [
           "Navas de San Antonio",
           1165.014
          ],
          [
           "Nieva",
           842.8079
          ],
          [
           "Olombrada",
           874.9899
          ],
          [
           "Orejana",
           1060.189
          ],
          [
           "Ortigosa de Pestaño",
           858.879
          ],
          [
           "Otero de Herreros",
           1140.483
          ],
          [
           "Pajarejos",
           988.6074
          ],
          [
           "Palazuelos de Eresma",
           1084.439
          ],
          [
           "Pedraza",
           1048.704
          ],
          [
           "Pelayos del Arroyo",
           1142.212
          ],
          [
           "Perosillo",
           833.2657
          ],
          [
           "Pinarejos",
           821
          ],
          [
           "Pinarnegrillo",
           856
          ],
          [
           "Prádena",
           1121.578
          ],
          [
           "Puebla de Pedraza",
           949.6524
          ],
          [
           "Rapariegos",
           857.2944
          ],
          [
           "Rebollo",
           985.6013
          ],
          [
           "Remondo",
           755.8116
          ],
          [
           "Riaguas de San Bartolomé",
           931.5925
          ],
          [
           "Riaza",
           1194.166
          ],
          [
           "Ribota",
           1032.616
          ],
          [
           "Riofrío de Riaza",
           1322.25
          ],
          [
           "Roda de Eresma",
           938.513
          ],
          [
           "Sacramenia",
           850.554
          ],
          [
           "Samboal",
           795
          ],
          [
           "San Cristóbal de Cuéllar",
           809.5489
          ],
          [
           "San Cristóbal de la Vega",
           858.2177
          ],
          [
           "Sanchonuño",
           805.1132
          ],
          [
           "Sangarcía",
           945.6377
          ],
          [
           "San Martín y Mudrián",
           818.941
          ],
          [
           "San Miguel de Bernuy",
           840.4734
          ],
          [
           "San Pedro de Gaíllos",
           988.7416
          ],
          [
           "Santa María la Real de Nieva",
           900.8523
          ],
          [
           "Santa Marta del Cerro",
           1024.784
          ],
          [
           "Santiuste de Pedraza",
           1156.046
          ],
          [
           "Santiuste de San Juan Bautista",
           820.4395
          ],
          [
           "Santo Domingo de Pirón",
           1083.149
          ],
          [
           "Santo Tomé del Puerto",
           1269.86
          ],
          [
           "Sauquillo de Cabezas",
           908.03
          ],
          [
           "Sebúlcor",
           938.8392
          ],
          [
           "Segovia",
           1012.785
          ],
          [
           "Sepúlveda",
           976.1324
          ],
          [
           "Sequera de Fresno",
           1000.115
          ],
          [
           "Sotillo",
           982.9819
          ],
          [
           "Sotosalbos",
           1163.243
          ],
          [
           "Tabanera la Luenga",
           905.6036
          ],
          [
           "Tolocirio",
           809.3814
          ],
          [
           "Torreadrada",
           1087.067
          ],
          [
           "Torrecaballeros",
           1159.816
          ],
          [
           "Torrecilla del Pinar",
           871.2332
          ],
          [
           "Torreiglesias",
           1019.401
          ],
          [
           "Torre Val de San Pedro",
           1118.942
          ],
          [
           "Trescasas",
           1117.163
          ],
          [
           "Turégano",
           943.3245
          ],
          [
           "Urueñas",
           1051.304
          ],
          [
           "Valdeprados",
           987.1275
          ],
          [
           "Valdevacas de Montejo",
           1121.339
          ],
          [
           "Valdevacas y Guijar",
           1097.263
          ],
          [
           "Valseca",
           942.7326
          ],
          [
           "Valtiendas",
           918.6631
          ],
          [
           "Valverde del Majano",
           924.8687
          ],
          [
           "Valle de Tabladillo",
           940.5837
          ],
          [
           "Vallelado",
           779.4292
          ],
          [
           "Valleruela de Pedraza",
           1093.092
          ],
          [
           "Valleruela de Sepúlveda",
           1095.099
          ],
          [
           "Veganzones",
           916.5224
          ],
          [
           "Vegas de Matute",
           1020.674
          ],
          [
           "Ventosilla y Tejadilla",
           1126.269
          ],
          [
           "Villacastín",
           1102.828
          ],
          [
           "Villaverde de Íscar",
           763.1172
          ],
          [
           "Villaverde de Montejo",
           1043.897
          ],
          [
           "Villeguillo",
           770.3413
          ],
          [
           "Yanguas de Eresma",
           889.0092
          ],
          [
           "Zarzuela del Monte",
           1005.036
          ],
          [
           "Zarzuela del Pinar",
           877.3031
          ],
          [
           "Ortigosa del Monte",
           1107.927
          ],
          [
           "Cozuelos de Fuentidueña",
           878.4466
          ],
          [
           "Marazoleja",
           912.3766
          ],
          [
           "Navas de Riofrío",
           1102.874
          ],
          [
           "Cuevas de Provanco",
           887.5039
          ],
          [
           "San Cristóbal de Segovia",
           1075.621
          ],
          [
           "Aguadulce",
           269.4199
          ],
          [
           "Alanís",
           674.499
          ],
          [
           "Albaida del Aljarafe",
           165.9894
          ],
          [
           "Alcalá de Guadaíra",
           55.89719
          ],
          [
           "Alcalá del Río",
           27.89068
          ],
          [
           "Alcolea del Río",
           31.59125
          ],
          [
           "Algámitas",
           426.4051
          ],
          [
           "Almadén de la Plata",
           454.1956
          ],
          [
           "Almensilla",
           46.3095
          ],
          [
           "Arahal",
           119.1923
          ],
          [
           "Aznalcázar",
           66.94781
          ],
          [
           "Aznalcóllar",
           142.9431
          ],
          [
           "Badolatosa",
           223.3192
          ],
          [
           "Benacazón",
           122.7115
          ],
          [
           "Bollullos de la Mitación",
           89.16615
          ],
          [
           "Bormujos",
           100.3896
          ],
          [
           "Brenes",
           20.4634
          ],
          [
           "Burguillos",
           82.8983
          ],
          [
           "Camas",
           10.96704
          ],
          [
           "Cantillana",
           31.12143
          ],
          [
           "Carmona",
           217.9807
          ],
          [
           "Carrión de los Céspedes",
           101.1786
          ],
          [
           "Casariche",
           307.1805
          ],
          [
           "Castilblanco de los Arroyos",
           328.9605
          ],
          [
           "Castilleja de Guzmán",
           132.0701
          ],
          [
           "Castilleja de la Cuesta",
           99.49868
          ],
          [
           "Castilleja del Campo",
           117.3369
          ],
          [
           "Cazalla de la Sierra",
           589.1179
          ],
          [
           "Constantina",
           562.725
          ],
          [
           "Coria del Río",
           12.71133
          ],
          [
           "Coripe",
           322.8958
          ],
          [
           "Dos Hermanas",
           47.75739
          ],
          [
           "Écija",
           109
          ],
          [
           "Espartinas",
           129.527
          ],
          [
           "Estepa",
           536.463
          ],
          [
           "Fuentes de Andalucía",
           181.6506
          ],
          [
           "Gelves",
           9.087679
          ],
          [
           "Gerena",
           91.18767
          ],
          [
           "Gilena",
           466
          ],
          [
           "Gines",
           122.6012
          ],
          [
           "Guadalcanal",
           666.4088
          ],
          [
           "Guillena",
           23.11958
          ],
          [
           "Herrera",
           250.9977
          ],
          [
           "Huévar del Aljarafe",
           72.44372
          ],
          [
           "Lebrija",
           36.06404
          ],
          [
           "Lora de Estepa",
           447.5596
          ],
          [
           "Lora del Río",
           42.94636
          ],
          [
           "Mairena del Alcor",
           131.1066
          ],
          [
           "Mairena del Aljarafe",
           67.95491
          ],
          [
           "Marchena",
           132.541
          ],
          [
           "Marinaleda",
           211.5678
          ],
          [
           "Martín de la Jara",
           403.103
          ],
          [
           "Montellano",
           270.6418
          ],
          [
           "Morón de la Frontera",
           231.4267
          ],
          [
           "Olivares",
           173.8805
          ],
          [
           "Osuna",
           291.4922
          ],
          [
           "Palomares del Río",
           38.78385
          ],
          [
           "Paradas",
           124.3341
          ],
          [
           "Pedrera",
           456.6477
          ],
          [
           "Peñaflor",
           56.938
          ],
          [
           "Pilas",
           69.78975
          ],
          [
           "Pruna",
           546.836
          ],
          [
           "Salteras",
           153.2617
          ],
          [
           "San Juan de Aznalfarache",
           52.55407
          ],
          [
           "Sanlúcar la Mayor",
           135.8951
          ],
          [
           "San Nicolás del Puerto",
           588.4053
          ],
          [
           "Santiponce",
           16.95212
          ],
          [
           "Sevilla",
           8.265573
          ],
          [
           "Tocina",
           29.86999
          ],
          [
           "Tomares",
           69.09997
          ],
          [
           "Umbrete",
           126.0343
          ],
          [
           "Utrera",
           49.07016
          ],
          [
           "Valencina de la Concepción",
           150.983
          ],
          [
           "Villamanrique de la Condesa",
           32.61857
          ],
          [
           "Villanueva del Ariscal",
           152.3999
          ],
          [
           "Villanueva del Río y Minas",
           55.40402
          ],
          [
           "Villanueva de San Juan",
           467.6487
          ],
          [
           "Villaverde del Río",
           19.56544
          ],
          [
           "Cañada Rosal",
           157.5748
          ],
          [
           "Isla Mayor",
           4
          ],
          [
           "Abejar",
           1145.182
          ],
          [
           "Adradas",
           1053.24
          ],
          [
           "Ágreda",
           939.9912
          ],
          [
           "Alconaba",
           1008.273
          ],
          [
           "Alcubilla de Avellaneda",
           926.149
          ],
          [
           "Alcubilla de las Peñas",
           1123.342
          ],
          [
           "Aldealafuente",
           1008.722
          ],
          [
           "Aldealices",
           1133.837
          ],
          [
           "Aldealpozo",
           1056.476
          ],
          [
           "Aldealseñor",
           1090.4
          ],
          [
           "Aldehuela de Periáñez",
           1053.012
          ],
          [
           "Alentisque",
           1060.366
          ],
          [
           "Aliud",
           1012.084
          ],
          [
           "Almajano",
           1054
          ],
          [
           "Almaluez",
           823.894
          ],
          [
           "Almarza",
           1152.273
          ],
          [
           "Almazán",
           962.2736
          ],
          [
           "Almazul",
           981.7079
          ],
          [
           "Almenar de Soria",
           1020.456
          ],
          [
           "Alpanseque",
           1113.177
          ],
          [
           "Arancón",
           1064.569
          ],
          [
           "Arcos de Jalón",
           829.8203
          ],
          [
           "Arenillas",
           1097.583
          ],
          [
           "Arévalo de la Sierra",
           1209.113
          ],
          [
           "Ausejo de la Sierra",
           1097.726
          ],
          [
           "Baraona",
           1122.398
          ],
          [
           "Barca",
           956.5942
          ],
          [
           "Barcones",
           1095.072
          ],
          [
           "Bayubas de Abajo",
           921.9889
          ],
          [
           "Bayubas de Arriba",
           960.613
          ],
          [
           "Beratón",
           1386.368
          ],
          [
           "Berlanga de Duero",
           937.0346
          ],
          [
           "Blacos",
           989.2947
          ],
          [
           "Bliecos",
           1044.849
          ],
          [
           "Borjabad",
           1014.908
          ],
          [
           "Borobia",
           1115.851
          ],
          [
           "Buberos",
           1022.386
          ],
          [
           "Buitrago",
           1033.595
          ],
          [
           "Burgo de Osma-Ciudad de Osma",
           902.5478
          ],
          [
           "Cabrejas del Campo",
           992.3073
          ],
          [
           "Cabrejas del Pinar",
           1157.918
          ],
          [
           "Calatañazor",
           1058.661
          ],
          [
           "Caltojar",
           968.6671
          ],
          [
           "Candilichera",
           1004.845
          ],
          [
           "Cañamaque",
           961.6105
          ],
          [
           "Carabantes",
           1004.526
          ],
          [
           "Caracena",
           1079.824
          ],
          [
           "Carrascosa de Abajo",
           1021.172
          ],
          [
           "Carrascosa de la Sierra",
           1185.388
          ],
          [
           "Casarejos",
           1084.931
          ],
          [
           "Castilfrío de la Sierra",
           1204.084
          ],
          [
           "Castilruiz",
           1012.292
          ],
          [
           "Castillejo de Robledo",
           958.3167
          ],
          [
           "Centenera de Andaluz",
           945.2386
          ],
          [
           "Cerbón",
           1118.104
          ],
          [
           "Cidones",
           1088.646
          ],
          [
           "Cigudosa",
           744.5455
          ],
          [
           "Cihuela",
           823.4209
          ],
          [
           "Ciria",
           1037.322
          ],
          [
           "Cirujales del Río",
           1068.647
          ],
          [
           "Coscurita",
           964.2791
          ],
          [
           "Covaleda",
           1200.42
          ],
          [
           "Cubilla",
           1091.318
          ],
          [
           "Cubo de la Solana",
           992.694
          ],
          [
           "Cueva de Ágreda",
           1297.624
          ],
          [
           "Dévanos",
           936.56
          ],
          [
           "Deza",
           883.1517
          ],
          [
           "Duruelo de la Sierra",
           1192.476
          ],
          [
           "Escobosa de Almazán",
           1086.438
          ],
          [
           "Espeja de San Marcelino",
           1032.547
          ],
          [
           "Espejón",
           1032.613
          ],
          [
           "Estepa de San Juan",
           1254.505
          ],
          [
           "Frechilla de Almazán",
           984.3314
          ],
          [
           "Fresno de Caracena",
           954.0523
          ],
          [
           "Fuentearmegil",
           986.2681
          ],
          [
           "Fuentecambrón",
           1016.823
          ],
          [
           "Fuentecantos",
           1030.378
          ],
          [
           "Fuentelmonge",
           866.837
          ],
          [
           "Fuentelsaz de Soria",
           1072.903
          ],
          [
           "Fuentepinilla",
           938.7756
          ],
          [
           "Fuentes de Magaña",
           1142.983
          ],
          [
           "Fuentestrún",
           1010.144
          ],
          [
           "Garray",
           1013.721
          ],
          [
           "Golmayo",
           1051.163
          ],
          [
           "Gómara",
           1048.483
          ],
          [
           "Gormaz",
           957.7652
          ],
          [
           "Herrera de Soria",
           1094.928
          ],
          [
           "Hinojosa del Campo",
           1033.897
          ],
          [
           "Langa de Duero",
           844.9768
          ],
          [
           "Liceras",
           1125.616
          ],
          [
           "Magaña",
           954.0438
          ],
          [
           "Maján",
           1145.01
          ],
          [
           "Matalebreras",
           995.2419
          ],
          [
           "Matamala de Almazán",
           946.6416
          ],
          [
           "Medinaceli",
           1201.395
          ],
          [
           "Miño de Medinaceli",
           1158.736
          ],
          [
           "Miño de San Esteban",
           942.0782
          ],
          [
           "Molinos de Duero",
           1101.836
          ],
          [
           "Momblona",
           1063.584
          ],
          [
           "Monteagudo de las Vicarías",
           792.3184
          ],
          [
           "Montejo de Tiermes",
           1157.937
          ],
          [
           "Montenegro de Cameros",
           1243.88
          ],
          [
           "Morón de Almazán",
           1007.026
          ],
          [
           "Muriel de la Fuente",
           1018.385
          ],
          [
           "Muriel Viejo",
           1090.473
          ],
          [
           "Nafría de Ucero",
           1021.318
          ],
          [
           "Narros",
           1112.726
          ],
          [
           "Navaleno",
           1117.306
          ],
          [
           "Nepas",
           1041.625
          ],
          [
           "Nolay",
           1073.411
          ],
          [
           "Noviercas",
           1096.912
          ],
          [
           "Ólvega",
           1040.087
          ],
          [
           "Oncala",
           1300.732
          ],
          [
           "Pinilla del Campo",
           1047.87
          ],
          [
           "Portillo de Soria",
           1024.967
          ],
          [
           "Pozalmuro",
           1049.624
          ],
          [
           "Quintana Redonda",
           1025.763
          ],
          [
           "Quintanas de Gormaz",
           937.9619
          ],
          [
           "Quiñonería",
           1182.47
          ],
          [
           "Rebollar",
           1134.53
          ],
          [
           "Recuerda",
           897.7146
          ],
          [
           "Rello",
           1069.715
          ],
          [
           "Renieblas",
           1038.175
          ],
          [
           "Retortillo de Soria",
           1241.513
          ],
          [
           "Reznos",
           1054.53
          ],
          [
           "Rioseco de Soria",
           1010.689
          ],
          [
           "Rollamienta",
           1140.99
          ],
          [
           "Salduero",
           1103.849
          ],
          [
           "San Esteban de Gormaz",
           859.9746
          ],
          [
           "San Felices",
           925.8511
          ],
          [
           "San Leonardo de Yagüe",
           1040.925
          ],
          [
           "San Pedro Manrique",
           1075.933
          ],
          [
           "Santa Cruz de Yanguas",
           1215.854
          ],
          [
           "Santa María de Huerta",
           771.3453
          ],
          [
           "Santa María de las Hoyas",
           1071.299
          ],
          [
           "Serón de Nágima",
           948.1932
          ],
          [
           "Soliedra",
           1099.303
          ],
          [
           "Soria",
           1064.823
          ],
          [
           "Sotillo del Rincón",
           1112.06
          ],
          [
           "Suellacabras",
           1196.337
          ],
          [
           "Tajahuerce",
           1055.238
          ],
          [
           "Tajueco",
           931.3216
          ],
          [
           "Talveila",
           1065.593
          ],
          [
           "Tardelcuende",
           994.6984
          ],
          [
           "Taroda",
           1028.943
          ],
          [
           "Tejado",
           989.0667
          ],
          [
           "Torlengua",
           863.2959
          ],
          [
           "Torreblacos",
           971.5205
          ],
          [
           "Torrubia de Soria",
           1045.725
          ],
          [
           "Trévago",
           1043.339
          ],
          [
           "Ucero",
           963.3094
          ],
          [
           "Vadillo",
           1103.603
          ],
          [
           "Valdeavellano de Tera",
           1141.217
          ],
          [
           "Valdegeña",
           1065.195
          ],
          [
           "Valdelagua del Cerro",
           1119.735
          ],
          [
           "Valdemaluque",
           946.3261
          ],
          [
           "Valdenebro",
           935.8683
          ],
          [
           "Valdeprado",
           844.049
          ],
          [
           "Valderrodilla",
           936.3094
          ],
          [
           "Valtajeros",
           1243.831
          ],
          [
           "Velamazán",
           975.5469
          ],
          [
           "Velilla de la Sierra",
           1032.823
          ],
          [
           "Velilla de los Ajos",
           1002.944
          ],
          [
           "Viana de Duero",
           992.69
          ],
          [
           "Villaciervos",
           1182.621
          ],
          [
           "Villanueva de Gormaz",
           967.6007
          ],
          [
           "Villar del Ala",
           1147.78
          ],
          [
           "Villar del Campo",
           1035.49
          ],
          [
           "Villar del Río",
           1008.998
          ],
          [
           "Villasayas",
           1026.527
          ],
          [
           "Villaseca de Arciel",
           1006.2
          ],
          [
           "Vinuesa",
           1105.639
          ],
          [
           "Vizmanos",
           1200.711
          ],
          [
           "Vozmediano",
           884.5366
          ],
          [
           "Yanguas",
           988.0257
          ],
          [
           "Yelo",
           1124.461
          ],
          [
           "Aiguamúrcia",
           275.8484
          ],
          [
           "Albinyana",
           164.6246
          ],
          [
           "Alcanar",
           76.73789
          ],
          [
           "Alcover",
           243.6683
          ],
          [
           "Aldover",
           22.51767
          ],
          [
           "Alfara de Carles",
           330.2164
          ],
          [
           "Alforja",
           377.2571
          ],
          [
           "Alió",
           260.8962
          ],
          [
           "Almoster",
           279.3624
          ],
          [
           "Altafulla",
           40.74033
          ],
          [
           "Amposta",
           13.08101
          ],
          [
           "Arbolí",
           722.0569
          ],
          [
           "Arnes",
           502.1081
          ],
          [
           "Ascó",
           47.97315
          ],
          [
           "Banyeres del Penedès",
           161.0753
          ],
          [
           "Barberà de la Conca",
           445.4714
          ],
          [
           "Batea",
           366.6695
          ],
          [
           "Bellmunt del Priorat",
           265.5596
          ],
          [
           "Bellvei",
           103.1995
          ],
          [
           "Benifallet",
           20.97804
          ],
          [
           "Benissanet",
           30.95802
          ],
          [
           "Blancafort",
           428.1689
          ],
          [
           "Bonastre",
           178.1962
          ],
          [
           "Bot",
           289.0362
          ],
          [
           "Botarell",
           191.7195
          ],
          [
           "Bràfim",
           241.3834
          ],
          [
           "Cabacés",
           321.5059
          ],
          [
           "Cabra del Camp",
           496.1121
          ],
          [
           "Calafell",
           49.04614
          ],
          [
           "Cambrils",
           8.722612
          ],
          [
           "Capafonts",
           744.4973
          ],
          [
           "Capçanes",
           216.5009
          ],
          [
           "Caseres",
           325.9239
          ],
          [
           "Castellvell del Camp",
           211.4699
          ],
          [
           "Colldejou",
           418.8255
          ],
          [
           "Conesa",
           703.0317
          ],
          [
           "Constantí",
           71.37662
          ],
          [
           "Corbera d'Ebre",
           298.1901
          ],
          [
           "Cornudella de Montsant",
           538.842
          ],
          [
           "Creixell",
           37.14136
          ],
          [
           "Cunit",
           13.48558
          ],
          [
           "Xerta",
           15.96906
          ],
          [
           "Duesaigües",
           257.8097
          ],
          [
           "Falset",
           372
          ],
          [
           "Figuerola del Camp",
           494.4908
          ],
          [
           "Flix",
           89.04555
          ],
          [
           "Forès",
           812.8558
          ],
          [
           "Freginals",
           112.4258
          ],
          [
           "Gandesa",
           377.5729
          ],
          [
           "Garcia",
           45.94114
          ],
          [
           "Ginestar",
           28.55884
          ],
          [
           "Godall",
           174.054
          ],
          [
           "Gratallops",
           315.0264
          ],
          [
           "Horta de Sant Joan",
           524.2277
          ],
          [
           "Llorac",
           644.8692
          ],
          [
           "Llorenç del Penedès",
           164.474
          ],
          [
           "Margalef",
           377.8307
          ],
          [
           "Marçà",
           318.0693
          ],
          [
           "Mas de Barberans",
           360.4406
          ],
          [
           "Masdenverge",
           47.8704
          ],
          [
           "Masllorenç",
           308.2999
          ],
          [
           "Maspujols",
           203.1914
          ],
          [
           "Miravet",
           31.31219
          ],
          [
           "Montblanc",
           352.0974
          ],
          [
           "Montbrió del Camp",
           136.6262
          ],
          [
           "Montferri",
           232.4649
          ],
          [
           "Mont-ral",
           856.2275
          ],
          [
           "Mont-roig del Camp",
           99.48418
          ],
          [
           "Móra d'Ebre",
           51.02542
          ],
          [
           "Móra la Nova",
           39.38612
          ],
          [
           "Nulles",
           226.6075
          ],
          [
           "Passanant i Belltall",
           715.6676
          ],
          [
           "Paüls",
           306.6884
          ],
          [
           "Perafort",
           124.8244
          ],
          [
           "Pira",
           395.6909
          ],
          [
           "Poboleda",
           363.0493
          ],
          [
           "Porrera",
           309.0124
          ],
          [
           "Pradell de la Teixeta",
           470.191
          ],
          [
           "Prades",
           949.0946
          ],
          [
           "Prat de Comte",
           347.2015
          ],
          [
           "Pratdip",
           235.3322
          ],
          [
           "Puigpelat",
           253.6263
          ],
          [
           "Querol",
           530.1125
          ],
          [
           "Rasquera",
           175.2991
          ],
          [
           "Renau",
           170.6811
          ],
          [
           "Reus",
           127.8296
          ],
          [
           "Riba-roja d'Ebre",
           88.89165
          ],
          [
           "Riudecanyes",
           187.1033
          ],
          [
           "Riudecols",
           296.2064
          ],
          [
           "Riudoms",
           113.1621
          ],
          [
           "Rocafort de Queralt",
           564.9393
          ],
          [
           "Rodonyà",
           319.4084
          ],
          [
           "Roquetes",
           16.51928
          ],
          [
           "Salomó",
           168.8046
          ],
          [
           "Sant Jaume dels Domenys",
           212.2896
          ],
          [
           "Santa Bàrbara",
           86.20828
          ],
          [
           "Santa Coloma de Queralt",
           687.3315
          ],
          [
           "Santa Oliva",
           97.12163
          ],
          [
           "Pontils",
           549.0671
          ],
          [
           "Sarral",
           468.9105
          ],
          [
           "Savallà del Comtat",
           815.1319
          ],
          [
           "Senan",
           628.7389
          ],
          [
           "Solivella",
           492.9866
          ],
          [
           "Tarragona",
           26.26264
          ],
          [
           "Tivenys",
           15.66767
          ],
          [
           "Tivissa",
           317.5723
          ],
          [
           "Torredembarra",
           20.92576
          ],
          [
           "Torroja del Priorat",
           337.0303
          ],
          [
           "Tortosa",
           15.76711
          ],
          [
           "Ulldecona",
           143.1908
          ],
          [
           "Ulldemolins",
           644.6638
          ],
          [
           "Vallclara",
           626.184
          ],
          [
           "Vallfogona de Riucorb",
           579.2309
          ],
          [
           "Vallmoll",
           165.112
          ],
          [
           "Valls",
           226.6943
          ],
          [
           "Vandellòs i l'Hospitalet de l'Infant",
           270.6138
          ],
          [
           "Vespella de Gaià",
           176.4136
          ],
          [
           "Vilabella",
           256.6517
          ],
          [
           "Vilallonga del Camp",
           116.4445
          ],
          [
           "Vilanova d'Escornalbou",
           234.1977
          ],
          [
           "Vilanova de Prades",
           889.7278
          ],
          [
           "Vilaplana",
           367.4236
          ],
          [
           "Vila-rodona",
           257.237
          ],
          [
           "Vila-seca",
           46.76463
          ],
          [
           "Vilaverd",
           269.632
          ],
          [
           "Vilalba dels Arcs",
           454.0479
          ],
          [
           "Vimbodí i Poblet",
           479.068
          ],
          [
           "Vinebre",
           44.57071
          ],
          [
           "Vinyols i els Arcs",
           94.72616
          ],
          [
           "Deltebre",
           3
          ],
          [
           "Sant Jaume d'Enveja",
           3
          ],
          [
           "Camarles",
           8.301858
          ],
          [
           "Salou",
           5.432057
          ],
          [
           "Ababuj",
           1368.157
          ],
          [
           "Abejuela",
           1164.137
          ],
          [
           "Aguatón",
           1226.572
          ],
          [
           "Aguaviva",
           547.9809
          ],
          [
           "Aguilar del Alfambra",
           1299.894
          ],
          [
           "Alacón",
           685.4042
          ],
          [
           "Alba",
           978.1422
          ],
          [
           "Albalate del Arzobispo",
           347.3883
          ],
          [
           "Albarracín",
           1157.773
          ],
          [
           "Albentosa",
           951.7792
          ],
          [
           "Alcaine",
           652.5018
          ],
          [
           "Alcalá de la Selva",
           1403.888
          ],
          [
           "Alcañiz",
           341.0952
          ],
          [
           "Alcorisa",
           639.8223
          ],
          [
           "Alfambra",
           1045.46
          ],
          [
           "Aliaga",
           1111.888
          ],
          [
           "Almohaja",
           1198.996
          ],
          [
           "Alobras",
           1108.156
          ],
          [
           "Alpeñés",
           1228.397
          ],
          [
           "Allepuz",
           1449.011
          ],
          [
           "Alloza",
           664.2663
          ],
          [
           "Allueva",
           1199.221
          ],
          [
           "Anadón",
           1114.096
          ],
          [
           "Andorra",
           721.1627
          ],
          [
           "Arcos de las Salinas",
           1062.09
          ],
          [
           "Arens de Lledó",
           365.9177
          ],
          [
           "Argente",
           1250.66
          ],
          [
           "Ariño",
           524.2899
          ],
          [
           "Azaila",
           275.2942
          ],
          [
           "Bádenas",
           1000.731
          ],
          [
           "Báguena",
           806.7857
          ],
          [
           "Bañón",
           1136.515
          ],
          [
           "Barrachina",
           1043.846
          ],
          [
           "Bea",
           1130.035
          ],
          [
           "Beceite",
           556.1799
          ],
          [
           "Belmonte de San José",
           658.2455
          ],
          [
           "Bello",
           1007.419
          ],
          [
           "Berge",
           719.4134
          ],
          [
           "Bezas",
           1175.002
          ],
          [
           "Blancas",
           1049.592
          ],
          [
           "Blesa",
           770.5961
          ],
          [
           "Bordón",
           821.2313
          ],
          [
           "Bronchales",
           1574.81
          ],
          [
           "Bueña",
           1221.145
          ],
          [
           "Burbáguena",
           817.4083
          ],
          [
           "Cabra de Mora",
           1092.803
          ],
          [
           "Calaceite",
           515.0114
          ],
          [
           "Calamocha",
           885.8004
          ],
          [
           "Calanda",
           459.9382
          ],
          [
           "Calomarde",
           1319.318
          ],
          [
           "Camañas",
           1234.744
          ],
          [
           "Camarena de la Sierra",
           1299.181
          ],
          [
           "Camarillas",
           1322.207
          ],
          [
           "Caminreal",
           922.4971
          ],
          [
           "Cantavieja",
           1303.577
          ],
          [
           "Cañada de Benatanduz",
           1420.062
          ],
          [
           "Cañada Vellida",
           1314.846
          ],
          [
           "Cañizar del Olivar",
           961.6534
          ],
          [
           "Cascante del Río",
           986.0148
          ],
          [
           "Castejón de Tornos",
           1084.944
          ],
          [
           "Castel de Cabra",
           1089.548
          ],
          [
           "Castelnou",
           194.6102
          ],
          [
           "Castelserás",
           359.8336
          ],
          [
           "Castellote",
           791.4321
          ],
          [
           "Cedrillas",
           1353.48
          ],
          [
           "Celadas",
           1119.179
          ],
          [
           "Cella",
           1033.89
          ],
          [
           "Corbalán",
           1262.557
          ],
          [
           "Cortes de Aragón",
           930.5992
          ],
          [
           "Cosa",
           1192.21
          ],
          [
           "Cretas",
           569.0511
          ],
          [
           "Crivillén",
           795.6636
          ],
          [
           "Cubla",
           1095.818
          ],
          [
           "Cucalón",
           1034.456
          ],
          [
           "Cuevas de Almudén",
           1274.424
          ],
          [
           "Cuevas Labradas",
           967.5995
          ],
          [
           "Ejulve",
           1111.811
          ],
          [
           "Escorihuela",
           1135.115
          ],
          [
           "Escucha",
           1070.983
          ],
          [
           "Estercuel",
           822.3273
          ],
          [
           "Ferreruela de Huerva",
           1016.397
          ],
          [
           "Fonfría",
           1248.398
          ],
          [
           "Formiche Alto",
           1119.593
          ],
          [
           "Fórnoles",
           713.966
          ],
          [
           "Fortanete",
           1366.681
          ],
          [
           "Foz-Calanda",
           503.1189
          ],
          [
           "Frías de Albarracín",
           1459.496
          ],
          [
           "Fuenferrada",
           1109.536
          ],
          [
           "Fuentes Calientes",
           1218.51
          ],
          [
           "Fuentes Claras",
           911.9739
          ],
          [
           "Fuentes de Rubielos",
           960.2522
          ],
          [
           "Fuentespalda",
           717.0623
          ],
          [
           "Galve",
           1184.569
          ],
          [
           "Gargallo",
           944.585
          ],
          [
           "Gea de Albarracín",
           1039.181
          ],
          [
           "Griegos",
           1601.854
          ],
          [
           "Guadalaviar",
           1526.078
          ],
          [
           "Gúdar",
           1583.481
          ],
          [
           "Híjar",
           286.6444
          ],
          [
           "Hinojosa de Jarque",
           1217.436
          ],
          [
           "Huesa del Común",
           874.5453
          ],
          [
           "Jabaloyas",
           1405.788
          ],
          [
           "Jarque de la Val",
           1263.365
          ],
          [
           "Jatiel",
           209.4427
          ],
          [
           "Jorcas",
           1337.114
          ],
          [
           "Josa",
           772.5401
          ],
          [
           "Lagueruela",
           1070.561
          ],
          [
           "Lanzuela",
           1013.573
          ],
          [
           "Libros",
           780.3804
          ],
          [
           "Lidón",
           1210.994
          ],
          [
           "Linares de Mora",
           1315.215
          ],
          [
           "Loscos",
           982.0676
          ],
          [
           "Lledó",
           462.8823
          ],
          [
           "Maicas",
           956.8483
          ],
          [
           "Manzanera",
           992.3011
          ],
          [
           "Martín del Río",
           916.4581
          ],
          [
           "Mas de las Matas",
           501.934
          ],
          [
           "Mazaleón",
           351.4925
          ],
          [
           "Mezquita de Jarque",
           1257.285
          ],
          [
           "Mirambel",
           917.4668
          ],
          [
           "Miravete de la Sierra",
           1224.324
          ],
          [
           "Molinos",
           845.5135
          ],
          [
           "Monforte de Moyuela",
           1010.717
          ],
          [
           "Monreal del Campo",
           944.271
          ],
          [
           "Monroyo",
           863.434
          ],
          [
           "Montalbán",
           852.6946
          ],
          [
           "Monteagudo del Castillo",
           1463.322
          ],
          [
           "Monterde de Albarracín",
           1284.938
          ],
          [
           "Mora de Rubielos",
           1052.556
          ],
          [
           "Moscardón",
           1402.289
          ],
          [
           "Mosqueruela",
           1476.994
          ],
          [
           "Muniesa",
           785.425
          ],
          [
           "Noguera de Albarracín",
           1394.706
          ],
          [
           "Nogueras",
           855.6604
          ],
          [
           "Nogueruelas",
           1136.51
          ],
          [
           "Obón",
           690.8731
          ],
          [
           "Odón",
           1091.026
          ],
          [
           "Ojos Negros",
           1155.657
          ],
          [
           "Olba",
           657.7572
          ],
          [
           "Oliete",
           544.2368
          ],
          [
           "Orihuela del Tremedal",
           1444.746
          ],
          [
           "Orrios",
           1054.297
          ],
          [
           "Palomar de Arroyos",
           1206.51
          ],
          [
           "Pancrudo",
           1238.756
          ],
          [
           "Peñarroya de Tastavins",
           743.4257
          ],
          [
           "Peracense",
           1219.819
          ],
          [
           "Peralejos",
           1004.824
          ],
          [
           "Perales del Alfambra",
           1167.249
          ],
          [
           "Pitarque",
           994.9604
          ],
          [
           "Plou",
           905.438
          ],
          [
           "Pozondón",
           1410.839
          ],
          [
           "Pozuel del Campo",
           1115.931
          ],
          [
           "Puertomingalvo",
           1452.379
          ],
          [
           "Ráfales",
           630.261
          ],
          [
           "Rillo",
           1271.442
          ],
          [
           "Riodeva",
           973.0439
          ],
          [
           "Ródenas",
           1372.425
          ],
          [
           "Royuela",
           1214.825
          ],
          [
           "Rubiales",
           1156.471
          ],
          [
           "Rubielos de la Cérida",
           1230.612
          ],
          [
           "Rubielos de Mora",
           940.7538
          ],
          [
           "Salcedillo",
           1194.813
          ],
          [
           "Saldón",
           1406.871
          ],
          [
           "Samper de Calanda",
           253.1136
          ],
          [
           "San Agustín",
           968.0305
          ],
          [
           "San Martín del Río",
           784.4639
          ],
          [
           "Santa Cruz de Nogueras",
           888.4601
          ],
          [
           "Santa Eulalia",
           988.6647
          ],
          [
           "Sarrión",
           988.1364
          ],
          [
           "Segura de los Baños",
           1122.329
          ],
          [
           "Seno",
           799.8929
          ],
          [
           "Singra",
           1041.093
          ],
          [
           "Terriente",
           1435.32
          ],
          [
           "Teruel",
           927.4562
          ],
          [
           "Toril y Masegoso",
           1488.103
          ],
          [
           "Tormón",
           1062.348
          ],
          [
           "Tornos",
           1023.637
          ],
          [
           "Torralba de los Sisones",
           1046.971
          ],
          [
           "Torrecilla de Alcañiz",
           443.3759
          ],
          [
           "Torrecilla del Rebollar",
           1146.378
          ],
          [
           "Torre de Arcas",
           743.3999
          ],
          [
           "Torre de las Arcas",
           952.6594
          ],
          [
           "Torre del Compte",
           504.8756
          ],
          [
           "Torrelacárcel",
           980.6982
          ],
          [
           "Torre los Negros",
           1082.536
          ],
          [
           "Torremocha de Jiloca",
           983.9276
          ],
          [
           "Torres de Albarracín",
           1228.083
          ],
          [
           "Torrevelilla",
           610.9653
          ],
          [
           "Torrijas",
           1356.925
          ],
          [
           "Torrijo del Campo",
           923.381
          ],
          [
           "Tramacastiel",
           887.387
          ],
          [
           "Tramacastilla",
           1251.911
          ],
          [
           "Tronchón",
           1096.603
          ],
          [
           "Urrea de Gaén",
           313.7285
          ],
          [
           "Utrillas",
           945.4211
          ],
          [
           "Valacloche",
           1003.039
          ],
          [
           "Valbona",
           951.9821
          ],
          [
           "Valdealgorfa",
           513.6993
          ],
          [
           "Valdecuenca",
           1329.863
          ],
          [
           "Valdelinares",
           1699.088
          ],
          [
           "Valdeltormo",
           426.9926
          ],
          [
           "Valderrobres",
           506.0121
          ],
          [
           "Valjunquera",
           557.3394
          ],
          [
           "Veguillas de la Sierra",
           1267.169
          ],
          [
           "Villafranca del Campo",
           962.5623
          ],
          [
           "Villahermosa del Campo",
           957.9505
          ],
          [
           "Villanueva del Rebollar de la Sierra",
           1090.223
          ],
          [
           "Villar del Cobo",
           1437.745
          ],
          [
           "Villar del Salz",
           1215.276
          ],
          [
           "Villarluengo",
           1112.27
          ],
          [
           "Villarquemado",
           998.2739
          ],
          [
           "Villarroya de los Pinares",
           1326.217
          ],
          [
           "Villastar",
           860.7039
          ],
          [
           "Villel",
           839.2695
          ],
          [
           "Vinaceite",
           303.0283
          ],
          [
           "Visiedo",
           1187.011
          ],
          [
           "Vivel del Río Martín",
           974.8438
          ],
          [
           "Ajofrín",
           771.9454
          ],
          [
           "Alameda de la Sagra",
           595.9953
          ],
          [
           "Albarreal de Tajo",
           452.7595
          ],
          [
           "Alcabón",
           529.2844
          ],
          [
           "Alcañizo",
           373.982
          ],
          [
           "Alcaudete de la Jara",
           408.8566
          ],
          [
           "Alcolea de Tajo",
           353.2964
          ],
          [
           "Aldea en Cabo",
           478.3156
          ],
          [
           "Aldeanueva de Barbarroya",
           492.4827
          ],
          [
           "Aldeanueva de San Bartolomé",
           572.8758
          ],
          [
           "Almendral de la Cañada",
           625.25
          ],
          [
           "Almonacid de Toledo",
           715.1904
          ],
          [
           "Almorox",
           535.3524
          ],
          [
           "Añover de Tajo",
           591.5134
          ],
          [
           "Arcicóllar",
           543.9216
          ],
          [
           "Argés",
           653.7512
          ],
          [
           "Azután",
           337.5748
          ],
          [
           "Barcience",
           517.1357
          ],
          [
           "Bargas",
           599.7254
          ],
          [
           "Belvís de la Jara",
           451.4582
          ],
          [
           "Borox",
           582.6509
          ],
          [
           "Buenaventura",
           433.1037
          ],
          [
           "Burguillos de Toledo",
           679.2315
          ],
          [
           "Burujón",
           501.4543
          ],
          [
           "Cabañas de la Sagra",
           551
          ],
          [
           "Cabañas de Yepes",
           706.7368
          ],
          [
           "Cabezamesada",
           736.1016
          ],
          [
           "Calera y Chozas",
           394.1816
          ],
          [
           "Caleruela",
           374.1803
          ],
          [
           "Calzada de Oropesa",
           351.9175
          ],
          [
           "Camarena",
           575.9206
          ],
          [
           "Camarenilla",
           509.2571
          ],
          [
           "Camuñas",
           672.9465
          ],
          [
           "Cardiel de los Montes",
           407.2493
          ],
          [
           "Carmena",
           562
          ],
          [
           "Carranque",
           660.4978
          ],
          [
           "Carriches",
           553.2783
          ],
          [
           "Casarrubios del Monte",
           616.3093
          ],
          [
           "Casasbuenas",
           687.2794
          ],
          [
           "Castillo de Bayuela",
           549.2681
          ],
          [
           "Cazalegas",
           440.9979
          ],
          [
           "Cebolla",
           428.8371
          ],
          [
           "Cedillo del Condado",
           647.5012
          ],
          [
           "Cervera de los Montes",
           536.5416
          ],
          [
           "Ciruelos",
           708.9604
          ],
          [
           "Cobeja",
           508.5462
          ],
          [
           "Cobisa",
           676.1328
          ],
          [
           "Consuegra",
           709.5399
          ],
          [
           "Corral de Almaguer",
           705.971
          ],
          [
           "Cuerva",
           773.9889
          ],
          [
           "Chozas de Canales",
           544.3453
          ],
          [
           "Chueca",
           742.0029
          ],
          [
           "Domingo Pérez",
           497.8713
          ],
          [
           "Dosbarrios",
           709.6131
          ],
          [
           "Erustes",
           536.0446
          ],
          [
           "Escalona",
           463.5558
          ],
          [
           "Escalonilla",
           547.6719
          ],
          [
           "Espinoso del Rey",
           724.8951
          ],
          [
           "Esquivias",
           611.5911
          ],
          [
           "Fuensalida",
           595.3815
          ],
          [
           "Gálvez",
           709.8111
          ],
          [
           "Garciotum",
           468.3595
          ],
          [
           "Gerindote",
           552.425
          ],
          [
           "Guadamur",
           636.7328
          ],
          [
           "Herreruela de Oropesa",
           378.2414
          ],
          [
           "Hinojosa de San Vicente",
           659.1536
          ],
          [
           "Hontanar",
           840.3611
          ],
          [
           "Hormigos",
           464.7229
          ],
          [
           "Huecas",
           552.931
          ],
          [
           "Huerta de Valdecarábanos",
           627.6873
          ],
          [
           "Illán de Vacas",
           480.7694
          ],
          [
           "Illescas",
           592.8992
          ],
          [
           "Lagartera",
           396.1818
          ],
          [
           "Layos",
           651.8649
          ],
          [
           "Lillo",
           685.3505
          ],
          [
           "Lominchar",
           646.8894
          ],
          [
           "Lucillos",
           477.0321
          ],
          [
           "Madridejos",
           688.0627
          ],
          [
           "Magán",
           483.2254
          ],
          [
           "Malpica de Tajo",
           397.5589
          ],
          [
           "Manzaneque",
           718.4171
          ],
          [
           "Maqueda",
           489.5274
          ],
          [
           "Marjaliza",
           857.3539
          ],
          [
           "Marrupe",
           592.5861
          ],
          [
           "Mascaraque",
           714.0005
          ],
          [
           "Mazarambroz",
           778.5905
          ],
          [
           "Mejorada",
           548.898
          ],
          [
           "Menasalbas",
           704.96
          ],
          [
           "Méntrida",
           533.4263
          ],
          [
           "Mesegar de Tajo",
           482.0789
          ],
          [
           "Miguel Esteban",
           682.11
          ],
          [
           "Mocejón",
           481.0487
          ],
          [
           "Mohedas de la Jara",
           643.3585
          ],
          [
           "Montearagón",
           432.5179
          ],
          [
           "Montesclaros",
           558.0593
          ],
          [
           "Mora",
           722.1462
          ],
          [
           "Nambroca",
           677.4409
          ],
          [
           "Navahermosa",
           735.2842
          ],
          [
           "Navalcán",
           394.0665
          ],
          [
           "Navalmoralejo",
           427.2085
          ],
          [
           "Navamorcuende",
           771.2516
          ],
          [
           "Noblejas",
           743.8586
          ],
          [
           "Noez",
           757.0864
          ],
          [
           "Nombela",
           492.1309
          ],
          [
           "Novés",
           566.3942
          ],
          [
           "Numancia de la Sagra",
           526
          ],
          [
           "Nuño Gómez",
           473.3011
          ],
          [
           "Ocaña",
           735.3221
          ],
          [
           "Olías del Rey",
           592.4843
          ],
          [
           "Ontígola",
           609.2897
          ],
          [
           "Orgaz",
           748.8485
          ],
          [
           "Oropesa",
           421.104
          ],
          [
           "Otero",
           463.8867
          ],
          [
           "Palomeque",
           609.2781
          ],
          [
           "Pantoja",
           523.6249
          ],
          [
           "Paredes de Escalona",
           488.917
          ],
          [
           "Parrillas",
           397.2186
          ],
          [
           "Pelahustán",
           673.2676
          ],
          [
           "Pepino",
           444.1442
          ],
          [
           "Polán",
           652.066
          ],
          [
           "Portillo de Toledo",
           594.792
          ],
          [
           "Puerto de San Vicente",
           752.8705
          ],
          [
           "Pulgar",
           724.0479
          ],
          [
           "Quero",
           648.4975
          ],
          [
           "Quintanar de la Orden",
           696
          ],
          [
           "Quismondo",
           549.3548
          ],
          [
           "Recas",
           567.7425
          ],
          [
           "Retamoso de la Jara",
           608.0787
          ],
          [
           "Rielves",
           495.0737
          ],
          [
           "Robledo del Mazo",
           733.2631
          ],
          [
           "San Bartolomé de las Abiertas",
           555.0835
          ],
          [
           "San Martín de Montalbán",
           655.0389
          ],
          [
           "San Martín de Pusa",
           501.6586
          ],
          [
           "San Pablo de los Montes",
           910.0876
          ],
          [
           "San Román de los Montes",
           452.9428
          ],
          [
           "Santa Ana de Pusa",
           579.5608
          ],
          [
           "Santa Cruz de la Zarza",
           778.1476
          ],
          [
           "Santa Cruz del Retamar",
           596.1041
          ],
          [
           "Santa Olalla",
           487.3168
          ],
          [
           "Sartajada",
           460.2389
          ],
          [
           "Segurilla",
           566.5943
          ],
          [
           "Seseña",
           612.9283
          ],
          [
           "Sevilleja de la Jara",
           670.1891
          ],
          [
           "Sonseca",
           759.9934
          ],
          [
           "Sotillo de las Palomas",
           565.0426
          ],
          [
           "Talavera de la Reina",
           373.9266
          ],
          [
           "Tembleque",
           638.9656
          ],
          [
           "Toledo",
           524.0618
          ],
          [
           "Torralba de Oropesa",
           378.0818
          ],
          [
           "Torrecilla de la Jara",
           642.9003
          ],
          [
           "Torrico",
           443.2747
          ],
          [
           "Torrijos",
           531.6115
          ],
          [
           "Totanés",
           730.3002
          ],
          [
           "Turleque",
           693.6431
          ],
          [
           "Ugena",
           656.1516
          ],
          [
           "Urda",
           767.5526
          ],
          [
           "Valdeverdeja",
           477.4793
          ],
          [
           "Valmojado",
           657.4002
          ],
          [
           "Velada",
           438.305
          ],
          [
           "Villacañas",
           667.0467
          ],
          [
           "Villafranca de los Caballeros",
           646.3422
          ],
          [
           "Villaluenga de la Sagra",
           528
          ],
          [
           "Villamiel de Toledo",
           486.4659
          ],
          [
           "Villaminaya",
           728.4374
          ],
          [
           "Villamuelas",
           591.9915
          ],
          [
           "Villanueva de Alcardete",
           728.4774
          ],
          [
           "Villanueva de Bogas",
           655.7781
          ],
          [
           "Villarejo de Montalbán",
           533.8467
          ],
          [
           "Villarrubia de Santiago",
           755.729
          ],
          [
           "Villaseca de la Sagra",
           485.9981
          ],
          [
           "Villasequilla",
           510.8198
          ],
          [
           "Villatobas",
           736.1024
          ],
          [
           "Yeles",
           551.9601
          ],
          [
           "Yepes",
           698.4963
          ],
          [
           "Yuncler",
           536.7993
          ],
          [
           "Yunclillos",
           515.6655
          ],
          [
           "Yuncos",
           546.3137
          ],
          [
           "Santo Domingo-Caudilla",
           547.0987
          ],
          [
           "Ademuz",
           753.2866
          ],
          [
           "Ador",
           99.2018
          ],
          [
           "Atzeneta d'Albaida",
           397.5668
          ],
          [
           "Agullent",
           426.091
          ],
          [
           "Alaquàs",
           46.73926
          ],
          [
           "Albaida",
           344.094
          ],
          [
           "Albal",
           13.72922
          ],
          [
           "Albalat de la Ribera",
           16.92992
          ],
          [
           "Albalat dels Sorells",
           20.43682
          ],
          [
           "Albalat dels Tarongers",
           102.3577
          ],
          [
           "Alberic",
           33.56151
          ],
          [
           "Alborache",
           314.9452
          ],
          [
           "Albuixech",
           12
          ],
          [
           "Alcàsser",
           29.1877
          ],
          [
           "Alcàntera de Xúquer",
           45
          ],
          [
           "Alzira",
           27.81557
          ],
          [
           "Alcublas",
           779.1219
          ],
          [
           "Aldaia",
           49.20547
          ],
          [
           "Alfafar",
           14.41185
          ],
          [
           "Alfauir",
           89.19871
          ],
          [
           "Alfara del Patriarca",
           34
          ],
          [
           "Alfarrasí",
           201.9004
          ],
          [
           "Algemesí",
           23.95206
          ],
          [
           "Alginet",
           33.26551
          ],
          [
           "Almàssera",
           13.57227
          ],
          [
           "Almiserà",
           147.6635
          ],
          [
           "Almoines",
           37.68532
          ],
          [
           "Almussafes",
           12.22051
          ],
          [
           "Alpuente",
           967.8577
          ],
          [
           "Andilla",
           898.008
          ],
          [
           "Anna",
           206.8878
          ],
          [
           "Antella",
           45.31253
          ],
          [
           "Aras de los Olmos",
           941.6501
          ],
          [
           "Aielo de Malferit",
           282.5617
          ],
          [
           "Aielo de Rugat",
           267.1081
          ],
          [
           "Ayora",
           600.3483
          ],
          [
           "Barxeta",
           119.2042
          ],
          [
           "Barx",
           345.9779
          ],
          [
           "Bèlgida",
           276.6864
          ],
          [
           "Bellreguard",
           30.94795
          ],
          [
           "Bellús",
           135.4684
          ],
          [
           "Benagéber",
           783.6801
          ],
          [
           "Benaguasil",
           129.399
          ],
          [
           "Benavites",
           39.9698
          ],
          [
           "Beneixida",
           57.80067
          ],
          [
           "Benetússer",
           16.70827
          ],
          [
           "Beniarjó",
           48.86893
          ],
          [
           "Beniatjar",
           393.6027
          ],
          [
           "Benicolet",
           246.7301
          ],
          [
           "Benifairó de les Valls",
           57.70965
          ],
          [
           "Benifairó de la Valldigna",
           40.15332
          ],
          [
           "Benifaió",
           25.18363
          ],
          [
           "Beniflá",
           49
          ],
          [
           "Benimodo",
           48.09188
          ],
          [
           "Benimuslem",
           25.46984
          ],
          [
           "Beniparrell",
           9.134038
          ],
          [
           "Benirredrà",
           32.96222
          ],
          [
           "Benissoda",
           334.6183
          ],
          [
           "Bétera",
           107.5116
          ],
          [
           "Bicorp",
           293.4095
          ],
          [
           "Bocairent",
           625.4228
          ],
          [
           "Bolbaite",
           243.4025
          ],
          [
           "Bonrepòs i Mirambell",
           16.36778
          ],
          [
           "Bufali",
           238.4063
          ],
          [
           "Bugarra",
           180.4909
          ],
          [
           "Buñol",
           357.3485
          ],
          [
           "Burjassot",
           43.95247
          ],
          [
           "Calles",
           356.5529
          ],
          [
           "Camporrobles",
           914.2482
          ],
          [
           "Canals",
           161.0747
          ],
          [
           "Canet d'En Berenguer",
           14.79732
          ],
          [
           "Carcaixent",
           30.51869
          ],
          [
           "Càrcer",
           43
          ],
          [
           "Carlet",
           55.64799
          ],
          [
           "Carrícola",
           336.8991
          ],
          [
           "Casas Altas",
           728.7411
          ],
          [
           "Casas Bajas",
           694.5356
          ],
          [
           "Casinos",
           321.9998
          ],
          [
           "Castelló de Rugat",
           321.0983
          ],
          [
           "Castellonet de la Conquesta",
           183.2389
          ],
          [
           "Castielfabib",
           922.0709
          ],
          [
           "Catadau",
           96.20319
          ],
          [
           "Catarroja",
           16.26744
          ],
          [
           "Caudete de las Fuentes",
           783.4852
          ],
          [
           "Cerdà",
           148.9015
          ],
          [
           "Cofrentes",
           382.015
          ],
          [
           "Corbera",
           17.43971
          ],
          [
           "Cortes de Pallás",
           426.9374
          ],
          [
           "Cotes",
           43.87196
          ],
          [
           "Quart de les Valls",
           55.67834
          ],
          [
           "Quart de Poblet",
           48
          ],
          [
           "Quartell",
           45.31203
          ],
          [
           "Quatretonda",
           225.2918
          ],
          [
           "Cullera",
           12.5917
          ],
          [
           "Chelva",
           475.5616
          ],
          [
           "Chella",
           227.4745
          ],
          [
           "Chera",
           642.4711
          ],
          [
           "Cheste",
           220.9698
          ],
          [
           "Xirivella",
           35.01973
          ],
          [
           "Chiva",
           279.1065
          ],
          [
           "Chulilla",
           319.9139
          ],
          [
           "Daimús",
           12.69039
          ],
          [
           "Domeño",
           209.0107
          ],
          [
           "Dos Aguas",
           362.2265
          ],
          [
           "Emperador",
           19.49965
          ],
          [
           "Enguera",
           313.453
          ],
          [
           "Estivella",
           118.094
          ],
          [
           "Estubeny",
           167.0915
          ],
          [
           "Faura",
           41.90349
          ],
          [
           "Favara",
           10.1655
          ],
          [
           "Fontanars dels Alforins",
           628.7396
          ],
          [
           "Fortaleny",
           10.85651
          ],
          [
           "Foios",
           21.95792
          ],
          [
           "Fuenterrobles",
           890.5018
          ],
          [
           "Gavarda",
           35.14901
          ],
          [
           "Gandia",
           36.61599
          ],
          [
           "Gestalgar",
           195.7673
          ],
          [
           "Gilet",
           146.7077
          ],
          [
           "Godella",
           49.22687
          ],
          [
           "Godelleta",
           265.5036
          ],
          [
           "Guadassuar",
           33.0038
          ],
          [
           "Guardamar de la Safor",
           12
          ],
          [
           "Higueruelas",
           772.9467
          ],
          [
           "Jalance",
           447.1678
          ],
          [
           "Xeraco",
           13.36815
          ],
          [
           "Jarafuel",
           591.8452
          ],
          [
           "Xàtiva",
           118.2864
          ],
          [
           "Xeresa",
           34.05847
          ],
          [
           "Llíria",
           179.2893
          ],
          [
           "Loriguilla",
           112.4705
          ],
          [
           "Losa del Obispo",
           386.8517
          ],
          [
           "Llutxent",
           295.1466
          ],
          [
           "Llocnou d'En Fenollet",
           96.64848
          ],
          [
           "Llocnou de la Corona",
           6
          ],
          [
           "Llocnou de Sant Jeroni",
           153.7695
          ],
          [
           "Llanera de Ranes",
           145.5483
          ],
          [
           "Llaurí",
           17.93051
          ],
          [
           "Llombai",
           102.9383
          ],
          [
           "Macastre",
           372.9472
          ],
          [
           "Manises",
           51.54403
          ],
          [
           "Manuel",
           52.98642
          ],
          [
           "Marines",
           216.1194
          ],
          [
           "Massalfassar",
           15.84554
          ],
          [
           "Massamagrell",
           20.72736
          ],
          [
           "Massanassa",
           18.94774
          ],
          [
           "Meliana",
           17.93604
          ],
          [
           "Millares",
           363.7968
          ],
          [
           "Miramar",
           13.39062
          ],
          [
           "Mislata",
           33.95041
          ],
          [
           "Moncada",
           34.29377
          ],
          [
           "Montserrat",
           167.5811
          ],
          [
           "Montaverner",
           188.4312
          ],
          [
           "Montesa",
           286.9374
          ],
          [
           "Montitxelvo/Montichelvo",
           267.0021
          ],
          [
           "Museros",
           21.05551
          ],
          [
           "Navarrés",
           279.2114
          ],
          [
           "Oliva",
           32.63683
          ],
          [
           "Olocau",
           276.5376
          ],
          [
           "Ontinyent",
           357.7181
          ],
          [
           "Otos",
           326.1026
          ],
          [
           "Paiporta",
           25.99648
          ],
          [
           "Palma de Gandía",
           67.23204
          ],
          [
           "Palmera",
           25.12042
          ],
          [
           "Paterna",
           59.44596
          ],
          [
           "Pedralba",
           157.6005
          ],
          [
           "Petrés",
           79.98814
          ],
          [
           "Picanya",
           29.60459
          ],
          [
           "Picassent",
           55.50201
          ],
          [
           "Piles",
           13.96428
          ],
          [
           "Pinet",
           352.6049
          ],
          [
           "Polinyà de Xúquer",
           15.4143
          ],
          [
           "Potries",
           66.22852
          ],
          [
           "Puebla de San Miguel",
           1097.674
          ],
          [
           "Puçol",
           12.53519
          ],
          [
           "Quesa",
           223.3543
          ],
          [
           "Rafelcofer",
           36.06348
          ],
          [
           "Rafelguaraf",
           48.39763
          ],
          [
           "Ráfol de Salem",
           295.8902
          ],
          [
           "Requena",
           701.6198
          ],
          [
           "Riba-roja de Túria",
           100.1154
          ],
          [
           "Riola",
           12.24097
          ],
          [
           "Rocafort",
           40.4511
          ],
          [
           "Rotglà i Corberà",
           125.9154
          ],
          [
           "Rugat",
           294.8879
          ],
          [
           "Salem",
           371.894
          ],
          [
           "Sedaví",
           13.74977
          ],
          [
           "Segart",
           273.3418
          ],
          [
           "Sellent",
           82.35025
          ],
          [
           "Sempere",
           169.2104
          ],
          [
           "Senyera",
           42.80965
          ],
          [
           "Serra",
           354.7964
          ],
          [
           "Siete Aguas",
           706.5231
          ],
          [
           "Silla",
           13
          ],
          [
           "Simat de la Valldigna",
           59.11103
          ],
          [
           "Sinarcas",
           896.1122
          ],
          [
           "Sollana",
           6.460212
          ],
          [
           "Sot de Chera",
           345.3529
          ],
          [
           "Sueca",
           13.82494
          ],
          [
           "Sumacàrcer",
           59.70922
          ],
          [
           "Tavernes Blanques",
           17.46152
          ],
          [
           "Tavernes de la Valldigna",
           24.54434
          ],
          [
           "Teresa de Cofrentes",
           535.5968
          ],
          [
           "Terrateig",
           258.0876
          ],
          [
           "Titaguas",
           838.8098
          ],
          [
           "Torrebaja",
           744.5679
          ],
          [
           "Torrella",
           150.0653
          ],
          [
           "Torrent",
           51.56449
          ],
          [
           "Torres Torres",
           187.0952
          ],
          [
           "Tous",
           100.126
          ],
          [
           "Tuéjar",
           608.8101
          ],
          [
           "Turís",
           278.5063
          ],
          [
           "Utiel",
           740.0797
          ],
          [
           "València",
           23.3349
          ],
          [
           "Vallada",
           292.5007
          ],
          [
           "Vallanca",
           967.4936
          ],
          [
           "Vallés",
           118.1331
          ],
          [
           "Venta del Moro",
           720.7908
          ],
          [
           "Vilamarxant",
           106.5428
          ],
          [
           "Villar del Arzobispo",
           519.1837
          ],
          [
           "Villargordo del Cabriel",
           850.9744
          ],
          [
           "Vinalesa",
           27
          ],
          [
           "Yátova",
           441.8114
          ],
          [
           "Zarra",
           576.0366
          ],
          [
           "Gátova",
           595.0809
          ],
          [
           "San Antonio de Benagéber",
           117.6917
          ],
          [
           "Benicull de Xúquer",
           24.44505
          ],
          [
           "Adalia",
           774.0638
          ],
          [
           "Aguasal",
           754.7618
          ],
          [
           "Aguilar de Campos",
           775.4413
          ],
          [
           "Alaejos",
           754.8231
          ],
          [
           "Alcazarén",
           739.1025
          ],
          [
           "Aldea de San Miguel",
           742.0247
          ],
          [
           "Aldeamayor de San Martín",
           705.3611
          ],
          [
           "Almenara de Adaja",
           780.494
          ],
          [
           "Amusquillo",
           775.3448
          ],
          [
           "Arroyo de la Encomienda",
           693.9595
          ],
          [
           "Ataquines",
           795.7349
          ],
          [
           "Bahabón",
           884.0493
          ],
          [
           "Barcial de la Loma",
           739.793
          ],
          [
           "Barruelo del Valle",
           821.5405
          ],
          [
           "Becilla de Valderaduey",
           735.9683
          ],
          [
           "Benafarces",
           737.5884
          ],
          [
           "Bercero",
           740.9147
          ],
          [
           "Berceruelo",
           775.9297
          ],
          [
           "Berrueces",
           770.9304
          ],
          [
           "Bobadilla del Campo",
           756.3861
          ],
          [
           "Bocigas",
           774.3849
          ],
          [
           "Bocos de Duero",
           756.6528
          ],
          [
           "Boecillo",
           725.8821
          ],
          [
           "Bolaños de Campos",
           712
          ],
          [
           "Brahojos de Medina",
           753.1693
          ],
          [
           "Bustillo de Chaves",
           817.1871
          ],
          [
           "Cabezón de Pisuerga",
           705.7026
          ],
          [
           "Cabezón de Valderaduey",
           756.4937
          ],
          [
           "Cabreros del Monte",
           729.8631
          ],
          [
           "Campaspero",
           901.7211
          ],
          [
           "Camporredondo",
           803.1887
          ],
          [
           "Canalejas de Peñafiel",
           903.6031
          ],
          [
           "Canillas de Esgueva",
           810.6504
          ],
          [
           "Carpio",
           764.988
          ],
          [
           "Casasola de Arión",
           709.0289
          ],
          [
           "Castrejón de Trabancos",
           741.9911
          ],
          [
           "Castrillo de Duero",
           808.0878
          ],
          [
           "Castrillo-Tejeriego",
           790.9167
          ],
          [
           "Castrobol",
           773.2532
          ],
          [
           "Castrodeza",
           758.6043
          ],
          [
           "Castromembibre",
           783.701
          ],
          [
           "Castromonte",
           840.7011
          ],
          [
           "Castronuevo de Esgueva",
           756.0091
          ],
          [
           "Castronuño",
           679.5443
          ],
          [
           "Castroponce",
           739.4788
          ],
          [
           "Castroverde de Cerrato",
           781.6545
          ],
          [
           "Ceinos de Campos",
           764.9077
          ],
          [
           "Cervillego de la Cruz",
           756.5815
          ],
          [
           "Cigales",
           749.6985
          ],
          [
           "Ciguñuela",
           821.8818
          ],
          [
           "Cistérniga",
           737.3728
          ],
          [
           "Cogeces de Íscar",
           735.7125
          ],
          [
           "Cogeces del Monte",
           888.127
          ],
          [
           "Corcos",
           790.5931
          ],
          [
           "Corrales de Duero",
           815.4689
          ],
          [
           "Cubillas de Santa Marta",
           777.5655
          ],
          [
           "Cuenca de Campos",
           776.9031
          ],
          [
           "Curiel de Duero",
           791.8405
          ],
          [
           "Encinas de Esgueva",
           809.3292
          ],
          [
           "Esguevillas de Esgueva",
           781.1326
          ],
          [
           "Fombellida",
           796.8898
          ],
          [
           "Fompedraza",
           891.0166
          ],
          [
           "Fontihoyuelo",
           813.03
          ],
          [
           "Fresno el Viejo",
           761.5059
          ],
          [
           "Fuensaldaña",
           744.3545
          ],
          [
           "Fuente el Sol",
           759
          ],
          [
           "Fuente-Olmedo",
           795.1333
          ],
          [
           "Gallegos de Hornija",
           715.3704
          ],
          [
           "Gatón de Campos",
           760.637
          ],
          [
           "Geria",
           721.1685
          ],
          [
           "Herrín de Campos",
           776.4446
          ],
          [
           "Hornillos de Eresma",
           722.429
          ],
          [
           "Íscar",
           766.1356
          ],
          [
           "Laguna de Duero",
           704.4346
          ],
          [
           "Langayo",
           820.6713
          ],
          [
           "Lomoviejo",
           769.1982
          ],
          [
           "Llano de Olmedo",
           780.7407
          ],
          [
           "Manzanillo",
           793.6913
          ],
          [
           "Marzales",
           707.8522
          ],
          [
           "Matapozuelos",
           728.4459
          ],
          [
           "Matilla de los Caños",
           742.8641
          ],
          [
           "Mayorga",
           768.469
          ],
          [
           "Medina del Campo",
           723.588
          ],
          [
           "Medina de Rioseco",
           753.9636
          ],
          [
           "Megeces",
           743.8407
          ],
          [
           "Melgar de Abajo",
           806.2461
          ],
          [
           "Melgar de Arriba",
           793.4097
          ],
          [
           "Mojados",
           719.6595
          ],
          [
           "Monasterio de Vega",
           772.8459
          ],
          [
           "Montealegre de Campos",
           810.0027
          ],
          [
           "Montemayor de Pililla",
           868.4648
          ],
          [
           "Moral de la Reina",
           766.6082
          ],
          [
           "Moraleja de las Panaderas",
           731.7545
          ],
          [
           "Morales de Campos",
           748.6636
          ],
          [
           "Mota del Marqués",
           741.4532
          ],
          [
           "Mucientes",
           763.4631
          ],
          [
           "Muriel",
           777.2006
          ],
          [
           "Nava del Rey",
           746.9993
          ],
          [
           "Nueva Villa de las Torres",
           744.9686
          ],
          [
           "Olivares de Duero",
           743.037
          ],
          [
           "Olmedo",
           772.1889
          ],
          [
           "Olmos de Esgueva",
           732.9462
          ],
          [
           "Olmos de Peñafiel",
           790.216
          ],
          [
           "Palazuelo de Vedija",
           787.4673
          ],
          [
           "Pedrajas de San Esteban",
           754
          ],
          [
           "Pedrosa del Rey",
           720.1923
          ],
          [
           "Peñafiel",
           760.3983
          ],
          [
           "Peñaflor de Hornija",
           840.8401
          ],
          [
           "Pesquera de Duero",
           747.1731
          ],
          [
           "Piña de Esgueva",
           749.317
          ],
          [
           "Piñel de Abajo",
           786.3028
          ],
          [
           "Piñel de Arriba",
           830.6583
          ],
          [
           "Pollos",
           669.3666
          ],
          [
           "Portillo",
           847.6613
          ],
          [
           "Pozal de Gallinas",
           728.573
          ],
          [
           "Pozaldez",
           790.4047
          ],
          [
           "Pozuelo de la Orden",
           724.2658
          ],
          [
           "Puras",
           803.8533
          ],
          [
           "Quintanilla de Arriba",
           741.261
          ],
          [
           "Quintanilla del Molar",
           747.7817
          ],
          [
           "Quintanilla de Onésimo",
           728.6448
          ],
          [
           "Quintanilla de Trigueros",
           795.2899
          ],
          [
           "Rábano",
           780.519
          ],
          [
           "Ramiro",
           760.1485
          ],
          [
           "Renedo de Esgueva",
           714
          ],
          [
           "Roales de Campos",
           743.9281
          ],
          [
           "Robladillo",
           773.9286
          ],
          [
           "Roturas",
           824.9166
          ],
          [
           "Rubí de Bracamonte",
           754.1117
          ],
          [
           "Rueda",
           736.6745
          ],
          [
           "Saelices de Mayorga",
           769.856
          ],
          [
           "Salvador de Zapardiel",
           771.4283
          ],
          [
           "San Cebrián de Mazote",
           763.8837
          ],
          [
           "San Llorente",
           881.8113
          ],
          [
           "San Martín de Valvení",
           736.2048
          ],
          [
           "San Miguel del Arroyo",
           823.384
          ],
          [
           "San Miguel del Pino",
           677.4659
          ],
          [
           "San Pablo de la Moraleja",
           795.316
          ],
          [
           "San Pedro de Latarce",
           708.7725
          ],
          [
           "San Pelayo",
           772.2509
          ],
          [
           "San Román de Hornija",
           672.574
          ],
          [
           "San Salvador",
           722.0958
          ],
          [
           "Santa Eufemia del Arroyo",
           714.4111
          ],
          [
           "Santervás de Campos",
           767.0978
          ],
          [
           "Santibáñez de Valcorba",
           749.9538
          ],
          [
           "Santovenia de Pisuerga",
           695.9589
          ],
          [
           "San Vicente del Palacio",
           747
          ],
          [
           "Sardón de Duero",
           720.0624
          ],
          [
           "Serrada",
           726.9307
          ],
          [
           "Siete Iglesias de Trabancos",
           726.464
          ],
          [
           "Simancas",
           715.7623
          ],
          [
           "Tamariz de Campos",
           750.1976
          ],
          [
           "Tiedra",
           821.9064
          ],
          [
           "Tordehumos",
           753.7995
          ],
          [
           "Tordesillas",
           700.5994
          ],
          [
           "Torrecilla de la Abadesa",
           685.116
          ],
          [
           "Torrecilla de la Orden",
           776.2607
          ],
          [
           "Torrecilla de la Torre",
           755.2628
          ],
          [
           "Torre de Esgueva",
           810.9865
          ],
          [
           "Torre de Peñafiel",
           792.0806
          ],
          [
           "Torrelobatón",
           750.7936
          ],
          [
           "Torrescárcela",
           891.451
          ],
          [
           "Traspinedo",
           736.7956
          ],
          [
           "Trigueros del Valle",
           762.3388
          ],
          [
           "Tudela de Duero",
           708.5769
          ],
          [
           "Urones de Castroponce",
           751.2286
          ],
          [
           "Urueña",
           832.098
          ],
          [
           "Valbuena de Duero",
           734.545
          ],
          [
           "Valdearcos de la Vega",
           783.0189
          ],
          [
           "Valdenebro de los Valles",
           808.7703
          ],
          [
           "Valdestillas",
           703
          ],
          [
           "Valdunquillo",
           742.0706
          ],
          [
           "Valoria la Buena",
           730.0471
          ],
          [
           "Valverde de Campos",
           770.9928
          ],
          [
           "Valladolid",
           699.4927
          ],
          [
           "Vega de Ruiponce",
           751.2102
          ],
          [
           "Vega de Valdetronco",
           712.2534
          ],
          [
           "Velascálvaro",
           744.2465
          ],
          [
           "Velilla",
           784.9809
          ],
          [
           "Velliza",
           776.5533
          ],
          [
           "Ventosa de la Cuesta",
           764.8138
          ],
          [
           "Viana de Cega",
           691.8729
          ],
          [
           "Viloria",
           873.8669
          ],
          [
           "Villabáñez",
           740.6144
          ],
          [
           "Villabaruz de Campos",
           751.3663
          ],
          [
           "Villabrágima",
           727.4385
          ],
          [
           "Villacarralón",
           790.7327
          ],
          [
           "Villacid de Campos",
           779.7687
          ],
          [
           "Villaco",
           783.8756
          ],
          [
           "Villafrades de Campos",
           763.1504
          ],
          [
           "Villafranca de Duero",
           657
          ],
          [
           "Villafrechós",
           744.8799
          ],
          [
           "Villafuerte",
           819.951
          ],
          [
           "Villagarcía de Campos",
           719.0961
          ],
          [
           "Villagómez la Nueva",
           754.6724
          ],
          [
           "Villalán de Campos",
           755.7052
          ],
          [
           "Villalar de los Comuneros",
           710.9124
          ],
          [
           "Villalba de la Loma",
           769.6681
          ],
          [
           "Villalba de los Alcores",
           847.8523
          ],
          [
           "Villalbarba",
           719.6545
          ],
          [
           "Villalón de Campos",
           788.3907
          ],
          [
           "Villamuriel de Campos",
           738.6995
          ],
          [
           "Villán de Tordesillas",
           751.797
          ],
          [
           "Villanubla",
           842.8672
          ],
          [
           "Villanueva de Duero",
           691.0079
          ],
          [
           "Villanueva de la Condesa",
           786.3748
          ],
          [
           "Villanueva de los Caballeros",
           712.459
          ],
          [
           "Villanueva de los Infantes",
           743.701
          ],
          [
           "Villanueva de San Mancio",
           744.4049
          ],
          [
           "Villardefrades",
           726.2296
          ],
          [
           "Villarmentero de Esgueva",
           729.276
          ],
          [
           "Villasexmir",
           725.1
          ],
          [
           "Villavaquerín",
           765.7326
          ],
          [
           "Villavellid",
           770.2872
          ],
          [
           "Villaverde de Medina",
           733.2005
          ],
          [
           "Villavicencio de los Caballeros",
           722.9398
          ],
          [
           "Wamba",
           787.3964
          ],
          [
           "Zaratán",
           752.6955
          ],
          [
           "Abezames",
           734.649
          ],
          [
           "Alcañices",
           800.8787
          ],
          [
           "Alcubilla de Nogales",
           780.9072
          ],
          [
           "Alfaraz de Sayago",
           823.1807
          ],
          [
           "Algodre",
           660.188
          ],
          [
           "Almaraz de Duero",
           724.4616
          ],
          [
           "Almeida de Sayago",
           788.2532
          ],
          [
           "Andavías",
           700.6663
          ],
          [
           "Arcenillas",
           701.8715
          ],
          [
           "Arcos de la Polvorosa",
           701.8065
          ],
          [
           "Argañín",
           741.4979
          ],
          [
           "Argujillo",
           767.8745
          ],
          [
           "Arquillinos",
           670.2195
          ],
          [
           "Arrabalde",
           774.8352
          ],
          [
           "Aspariegos",
           670.0681
          ],
          [
           "Asturianos",
           968.9544
          ],
          [
           "Ayoó de Vidriales",
           796.757
          ],
          [
           "Barcial del Barco",
           716.0553
          ],
          [
           "Belver de los Montes",
           691.9913
          ],
          [
           "Benavente",
           723.4604
          ],
          [
           "Benegiles",
           647
          ],
          [
           "Bermillo de Sayago",
           794.7465
          ],
          [
           "Bretó",
           695.636
          ],
          [
           "Bretocino",
           714.0786
          ],
          [
           "Brime de Sog",
           764.0367
          ],
          [
           "Brime de Urz",
           719.4198
          ],
          [
           "Burganes de Valverde",
           709.8783
          ],
          [
           "Bustillo del Oro",
           705.8235
          ],
          [
           "Cabañas de Sayago",
           766.5292
          ],
          [
           "Calzadilla de Tera",
           752.9898
          ],
          [
           "Camarzana de Tera",
           736.6218
          ],
          [
           "Cañizal",
           789.5921
          ],
          [
           "Cañizo",
           676.3501
          ],
          [
           "Carbajales de Alba",
           757.5706
          ],
          [
           "Carbellino",
           766.8657
          ],
          [
           "Casaseca de Campeán",
           762.1086
          ],
          [
           "Casaseca de las Chanas",
           711.7141
          ],
          [
           "Castrillo de la Guareña",
           735.9915
          ],
          [
           "Castrogonzalo",
           729.8262
          ],
          [
           "Castronuevo",
           690.7584
          ],
          [
           "Castroverde de Campos",
           709.8859
          ],
          [
           "Cazurra",
           727.3829
          ],
          [
           "Cerecinos de Campos",
           699.6163
          ],
          [
           "Cerecinos del Carrizal",
           684.9042
          ],
          [
           "Cernadilla",
           909.2853
          ],
          [
           "Cobreros",
           1001.473
          ],
          [
           "Coomonte",
           734.2988
          ],
          [
           "Coreses",
           648.8304
          ],
          [
           "Cotanes del Monte",
           716.3132
          ],
          [
           "Cubillos",
           670
          ],
          [
           "Cubo de Benavente",
           812.4978
          ],
          [
           "Cuelgamures",
           806.4151
          ],
          [
           "Entrala",
           705.7349
          ],
          [
           "Espadañedo",
           1036.841
          ],
          [
           "Faramontanos de Tábara",
           724.9462
          ],
          [
           "Fariza",
           699.1072
          ],
          [
           "Fermoselle",
           678.808
          ],
          [
           "Ferreras de Abajo",
           822.2217
          ],
          [
           "Ferreras de Arriba",
           898.3244
          ],
          [
           "Ferreruela",
           830.2149
          ],
          [
           "Figueruela de Arriba",
           860.8643
          ],
          [
           "Fonfría",
           826.7355
          ],
          [
           "Fresno de la Polvorosa",
           723.4755
          ],
          [
           "Fresno de la Ribera",
           655.308
          ],
          [
           "Fresno de Sayago",
           800.6821
          ],
          [
           "Friera de Valverde",
           718.6683
          ],
          [
           "Fuente Encalada",
           755.1226
          ],
          [
           "Fuentelapeña",
           744.6506
          ],
          [
           "Fuentesaúco",
           805
          ],
          [
           "Fuentes de Ropel",
           721.5773
          ],
          [
           "Fuentesecas",
           771.0013
          ],
          [
           "Fuentespreadas",
           763.1371
          ],
          [
           "Galende",
           964.0846
          ],
          [
           "Gallegos del Pan",
           692.2368
          ],
          [
           "Gallegos del Río",
           717.4845
          ],
          [
           "Gamones",
           753.5652
          ],
          [
           "Gema",
           712.2343
          ],
          [
           "Granja de Moreruela",
           715.2015
          ],
          [
           "Granucillo",
           725.7559
          ],
          [
           "Guarrate",
           728.3583
          ],
          [
           "Hermisende",
           838.3806
          ],
          [
           "Jambrina",
           708.1685
          ],
          [
           "Justel",
           987.8643
          ],
          [
           "Losacino",
           696.3899
          ],
          [
           "Losacio",
           749.7023
          ],
          [
           "Lubián",
           1034.373
          ],
          [
           "Luelmo",
           774.9664
          ],
          [
           "Madridanos",
           650
          ],
          [
           "Mahide",
           824.5887
          ],
          [
           "Maire de Castroponce",
           738.4753
          ],
          [
           "Malva",
           716.3611
          ],
          [
           "Manganeses de la Lampreana",
           704.8086
          ],
          [
           "Manganeses de la Polvorosa",
           721.1735
          ],
          [
           "Manzanal de Arriba",
           891.8854
          ],
          [
           "Manzanal del Barco",
           710.2052
          ],
          [
           "Manzanal de los Infantes",
           922.5501
          ],
          [
           "Matilla de Arzón",
           741.0653
          ],
          [
           "Matilla la Seca",
           740.5352
          ],
          [
           "Mayalde",
           871.8036
          ],
          [
           "Melgar de Tera",
           747.1895
          ],
          [
           "Micereces de Tera",
           719.7667
          ],
          [
           "Milles de la Polvorosa",
           704.9008
          ],
          [
           "Molacillos",
           639.7747
          ],
          [
           "Molezuelas de la Carballeda",
           803.29
          ],
          [
           "Mombuey",
           892.9008
          ],
          [
           "Monfarracinos",
           643.5111
          ],
          [
           "Montamarta",
           693.1759
          ],
          [
           "Moral de Sayago",
           745.4995
          ],
          [
           "Moraleja del Vino",
           686
          ],
          [
           "Moraleja de Sayago",
           796.6891
          ],
          [
           "Morales del Vino",
           699.6177
          ],
          [
           "Morales de Rey",
           724.2993
          ],
          [
           "Morales de Toro",
           706.527
          ],
          [
           "Morales de Valverde",
           724.1026
          ],
          [
           "Moralina",
           764.3427
          ],
          [
           "Moreruela de los Infanzones",
           671.5699
          ],
          [
           "Moreruela de Tábara",
           698
          ],
          [
           "Muelas de los Caballeros",
           994.2617
          ],
          [
           "Muelas del Pan",
           765.3066
          ],
          [
           "Muga de Sayago",
           788.1932
          ],
          [
           "Navianos de Valverde",
           710.5422
          ],
          [
           "Olmillos de Castro",
           770.5227
          ],
          [
           "Otero de Bodas",
           827.4964
          ],
          [
           "Pajares de la Lampreana",
           692.6044
          ],
          [
           "Palacios del Pan",
           719.6092
          ],
          [
           "Palacios de Sanabria",
           964.4566
          ],
          [
           "Pedralba de la Pradería",
           992.087
          ],
          [
           "Peleagonzalo",
           648.9901
          ],
          [
           "Peleas de Abajo",
           711.8881
          ],
          [
           "Peñausende",
           868.9768
          ],
          [
           "Peque",
           851.3065
          ],
          [
           "Pereruela",
           768.8405
          ],
          [
           "Perilla de Castro",
           723.7376
          ],
          [
           "Pías",
           1049.735
          ],
          [
           "Piedrahita de Castro",
           700.9993
          ],
          [
           "Pinilla de Toro",
           764.5831
          ],
          [
           "Pino del Oro",
           738.6063
          ],
          [
           "Pobladura del Valle",
           738.1398
          ],
          [
           "Pobladura de Valderaduey",
           668.3034
          ],
          [
           "Porto",
           1207.48
          ],
          [
           "Pozoantiguo",
           713.8331
          ],
          [
           "Pozuelo de Tábara",
           702.0159
          ],
          [
           "Prado",
           712.8901
          ],
          [
           "Puebla de Sanabria",
           937.181
          ],
          [
           "Pueblica de Valverde",
           727.9575
          ],
          [
           "Quintanilla del Monte",
           694.7986
          ],
          [
           "Quintanilla del Olmo",
           695.5483
          ],
          [
           "Quintanilla de Urz",
           716.7808
          ],
          [
           "Quiruelas de Vidriales",
           714.9902
          ],
          [
           "Rabanales",
           840.1841
          ],
          [
           "Rábano de Aliste",
           804.8948
          ],
          [
           "Requejo",
           991.0104
          ],
          [
           "Revellinos",
           697
          ],
          [
           "Riofrío de Aliste",
           791.1357
          ],
          [
           "Rionegro del Puente",
           801.0129
          ],
          [
           "Roales",
           743.9281
          ],
          [
           "Robleda-Cervantes",
           1019.21
          ],
          [
           "Roelos de Sayago",
           774.9606
          ],
          [
           "Rosinos de la Requejada",
           1012.096
          ],
          [
           "Salce",
           747.0807
          ],
          [
           "Samir de los Caños",
           792.2667
          ],
          [
           "San Agustín del Pozo",
           695.4661
          ],
          [
           "San Cebrián de Castro",
           689.8808
          ],
          [
           "San Cristóbal de Entreviñas",
           716.2618
          ],
          [
           "San Esteban del Molar",
           732.3524
          ],
          [
           "San Justo",
           1075.053
          ],
          [
           "San Martín de Valderaduey",
           686.815
          ],
          [
           "San Miguel de la Ribera",
           753.823
          ],
          [
           "San Miguel del Valle",
           738.6041
          ],
          [
           "San Pedro de Ceque",
           761.2156
          ],
          [
           "San Pedro de la Nave-Almendra",
           712.9648
          ],
          [
           "Santa Clara de Avedillo",
           772.0454
          ],
          [
           "Santa Colomba de las Monjas",
           702.0335
          ],
          [
           "Santa Cristina de la Polvorosa",
           709.6334
          ],
          [
           "Santa Croya de Tera",
           725
          ],
          [
           "Santa Eufemia del Barco",
           712.1947
          ],
          [
           "Santa María de la Vega",
           730.9682
          ],
          [
           "Santa María de Valverde",
           733.6366
          ],
          [
           "Santibáñez de Tera",
           729.7665
          ],
          [
           "Santibáñez de Vidriales",
           743.3671
          ],
          [
           "Santovenia",
           714.5436
          ],
          [
           "San Vicente de la Cabeza",
           756.4977
          ],
          [
           "San Vitero",
           865.2906
          ],
          [
           "Sanzoles",
           719.1744
          ],
          [
           "Tábara",
           751.6248
          ],
          [
           "Tapioles",
           688.6124
          ],
          [
           "Toro",
           730.0003
          ],
          [
           "Torregamones",
           784.8227
          ],
          [
           "Torres del Carrizal",
           648
          ],
          [
           "Trabazos",
           728.6976
          ],
          [
           "Trefacio",
           976.9877
          ],
          [
           "Uña de Quintana",
           782.5795
          ],
          [
           "Vadillo de la Guareña",
           717.0134
          ],
          [
           "Valcabado",
           682.3292
          ],
          [
           "Valdefinjas",
           722.6641
          ],
          [
           "Valdescorriel",
           734.973
          ],
          [
           "Vallesa de la Guareña",
           765.7673
          ],
          [
           "Vega de Tera",
           763.4651
          ],
          [
           "Vega de Villalobos",
           732.9785
          ],
          [
           "Vegalatrave",
           692.9553
          ],
          [
           "Venialbo",
           714.8421
          ],
          [
           "Vezdemarbán",
           767.9186
          ],
          [
           "Vidayanes",
           704.1667
          ],
          [
           "Videmala",
           776.7166
          ],
          [
           "Villabrázaro",
           726.3007
          ],
          [
           "Villabuena del Puente",
           702.1939
          ],
          [
           "Villadepera",
           726.3047
          ],
          [
           "Villaescusa",
           824.9127
          ],
          [
           "Villafáfila",
           688.5735
          ],
          [
           "Villaferrueña",
           744.5328
          ],
          [
           "Villageriz",
           775.0306
          ],
          [
           "Villalazán",
           660.7059
          ],
          [
           "Villalba de la Lampreana",
           683.9111
          ],
          [
           "Villalcampo",
           784.3217
          ],
          [
           "Villalobos",
           725.785
          ],
          [
           "Villalonso",
           722.1978
          ],
          [
           "Villalpando",
           693.7587
          ],
          [
           "Villalube",
           733.0415
          ],
          [
           "Villamayor de Campos",
           695.6239
          ],
          [
           "Villamor de los Escuderos",
           836.3304
          ],
          [
           "Villanázar",
           709.184
          ],
          [
           "Villanueva de Azoague",
           703.6188
          ],
          [
           "Villanueva de Campeán",
           760.7177
          ],
          [
           "Villanueva de las Peras",
           746.8168
          ],
          [
           "Villanueva del Campo",
           757.225
          ],
          [
           "Villaralbo",
           636.7354
          ],
          [
           "Villardeciervos",
           855.7898
          ],
          [
           "Villar de Fallaves",
           696.1533
          ],
          [
           "Villar del Buey",
           776.983
          ],
          [
           "Villardiegua de la Ribera",
           764.6822
          ],
          [
           "Villárdiga",
           684.5942
          ],
          [
           "Villardondiego",
           736.6719
          ],
          [
           "Villarrín de Campos",
           685.7974
          ],
          [
           "Villaseco del Pan",
           753.9724
          ],
          [
           "Villavendimio",
           726.9139
          ],
          [
           "Villaveza del Agua",
           702.1813
          ],
          [
           "Villaveza de Valverde",
           711.7657
          ],
          [
           "Viñas",
           752.655
          ],
          [
           "Zamora",
           657.1658
          ],
          [
           "Abanto",
           922.4666
          ],
          [
           "Acered",
           835.0305
          ],
          [
           "Agón",
           321.5412
          ],
          [
           "Aguarón",
           667.286
          ],
          [
           "Aguilón",
           689.9364
          ],
          [
           "Ainzón",
           434.0218
          ],
          [
           "Aladrén",
           780.4907
          ],
          [
           "Alagón",
           238.9708
          ],
          [
           "Alarba",
           848.114
          ],
          [
           "Alberite de San Juan",
           377.7354
          ],
          [
           "Albeta",
           421.3977
          ],
          [
           "Alborge",
           158.166
          ],
          [
           "Alcalá de Ebro",
           222.1754
          ],
          [
           "Alcalá de Moncayo",
           754.1453
          ],
          [
           "Alconchel de Ariza",
           889.6893
          ],
          [
           "Aldehuela de Liestos",
           993.9887
          ],
          [
           "Alfajarín",
           196.5611
          ],
          [
           "Alfamén",
           447.2267
          ],
          [
           "Alforque",
           164.0169
          ],
          [
           "Alhama de Aragón",
           663.7305
          ],
          [
           "Almochuel",
           275.4481
          ],
          [
           "Almonacid de la Cuba",
           483.7066
          ],
          [
           "Almonacid de la Sierra",
           605.9109
          ],
          [
           "Alpartir",
           507.0749
          ],
          [
           "Ambel",
           587.8949
          ],
          [
           "Anento",
           927.0677
          ],
          [
           "Aniñón",
           713.344
          ],
          [
           "Añón de Moncayo",
           830.1616
          ],
          [
           "Aranda de Moncayo",
           905.0275
          ],
          [
           "Arándiga",
           464.0809
          ],
          [
           "Ardisa",
           422.0101
          ],
          [
           "Ariza",
           713.859
          ],
          [
           "Artieda",
           630.9939
          ],
          [
           "Asín",
           583.3365
          ],
          [
           "Atea",
           846.9442
          ],
          [
           "Ateca",
           599.9296
          ],
          [
           "Azuara",
           580.366
          ],
          [
           "Badules",
           918.8503
          ],
          [
           "Bagüés",
           808.4211
          ],
          [
           "Balconchán",
           890.5054
          ],
          [
           "Bárboles",
           260.1506
          ],
          [
           "Bardallur",
           284.6658
          ],
          [
           "Belchite",
           443.8954
          ],
          [
           "Belmonte de Gracián",
           705.7676
          ],
          [
           "Berdejo",
           969.7459
          ],
          [
           "Berrueco",
           1093.496
          ],
          [
           "Bijuesca",
           927.1331
          ],
          [
           "Biota",
           490.6575
          ],
          [
           "Bisimbre",
           321.3621
          ],
          [
           "Boquiñeni",
           227.7671
          ],
          [
           "Bordalba",
           933.4196
          ],
          [
           "Borja",
           452.7229
          ],
          [
           "Botorrita",
           376.1743
          ],
          [
           "Brea de Aragón",
           575.503
          ],
          [
           "Bubierca",
           654.7245
          ],
          [
           "Bujaraloz",
           329.2621
          ],
          [
           "Bulbuente",
           519.8422
          ],
          [
           "Bureta",
           409.647
          ],
          [
           "Cabañas de Ebro",
           218.6309
          ],
          [
           "Cabolafuente",
           945.4361
          ],
          [
           "Cadrete",
           305.3771
          ],
          [
           "Calatayud",
           541.744
          ],
          [
           "Calatorao",
           344.1744
          ],
          [
           "Calcena",
           856.4086
          ],
          [
           "Calmarza",
           841.7386
          ],
          [
           "Campillo de Aragón",
           1050.241
          ],
          [
           "Carenas",
           662.4408
          ],
          [
           "Cariñena",
           600.7257
          ],
          [
           "Caspe",
           162.4285
          ],
          [
           "Castejón de Alarba",
           927.9485
          ],
          [
           "Castejón de las Armas",
           604.1856
          ],
          [
           "Castejón de Valdejasa",
           525.1101
          ],
          [
           "Castiliscar",
           483.1245
          ],
          [
           "Cervera de la Cañada",
           677.2734
          ],
          [
           "Cerveruela",
           807.4222
          ],
          [
           "Cetina",
           693.1022
          ],
          [
           "Cimballa",
           913.0313
          ],
          [
           "Cinco Olivas",
           154.3324
          ],
          [
           "Clarés de Ribota",
           948.5849
          ],
          [
           "Codo",
           342.8191
          ],
          [
           "Codos",
           748.881
          ],
          [
           "Contamina",
           668.5798
          ],
          [
           "Cosuenda",
           632.6768
          ],
          [
           "Cuarte de Huerva",
           268.2757
          ],
          [
           "Cubel",
           1107.119
          ],
          [
           "Chiprana",
           152.1577
          ],
          [
           "Chodes",
           413.5298
          ],
          [
           "Daroca",
           783.9178
          ],
          [
           "Ejea de los Caballeros",
           343.5083
          ],
          [
           "Embid de Ariza",
           780.9568
          ],
          [
           "Encinacorba",
           756.7845
          ],
          [
           "Épila",
           313.3686
          ],
          [
           "Erla",
           430.376
          ],
          [
           "Escatrón",
           144.0067
          ],
          [
           "Fabara",
           237.3806
          ],
          [
           "Farlete",
           410.4063
          ],
          [
           "Fayón",
           196.4334
          ],
          [
           "Figueruelas",
           255.9903
          ],
          [
           "Fombuena",
           1015.665
          ],
          [
           "Fréscano",
           302.2807
          ],
          [
           "Fuendejalón",
           470.615
          ],
          [
           "Fuendetodos",
           751.9825
          ],
          [
           "Fuentes de Ebro",
           192.7446
          ],
          [
           "Fuentes de Jiloca",
           687.3452
          ],
          [
           "Gallocanta",
           1020.754
          ],
          [
           "Gallur",
           243.1283
          ],
          [
           "Gelsa",
           153.7756
          ],
          [
           "Godojos",
           764.7232
          ],
          [
           "Gotor",
           607.3821
          ],
          [
           "Grisel",
           623.9782
          ],
          [
           "Grisén",
           246.7064
          ],
          [
           "Herrera de los Navarros",
           815.6729
          ],
          [
           "Ibdes",
           741.9872
          ],
          [
           "Illueca",
           589.6152
          ],
          [
           "Isuerre",
           640.5793
          ],
          [
           "Jaraba",
           763.7606
          ],
          [
           "Jaulín",
           516.2281
          ],
          [
           "Lagata",
           526.7678
          ],
          [
           "Langa del Castillo",
           882.7292
          ],
          [
           "Layana",
           484.5312
          ],
          [
           "Lécera",
           531.8742
          ],
          [
           "Leciñena",
           418.5828
          ],
          [
           "Lechón",
           985.0991
          ],
          [
           "Letux",
           517.6309
          ],
          [
           "Litago",
           780.5075
          ],
          [
           "Lituénigo",
           763.7889
          ],
          [
           "Lobera de Onsella",
           658.759
          ],
          [
           "Longares",
           535.3199
          ],
          [
           "Longás",
           739.2802
          ],
          [
           "Lucena de Jalón",
           347.0133
          ],
          [
           "Luceni",
           234.3191
          ],
          [
           "Luesia",
           804.2617
          ],
          [
           "Luesma",
           943.9291
          ],
          [
           "Lumpiaque",
           314.7662
          ],
          [
           "Luna",
           467.4077
          ],
          [
           "Maella",
           285.3151
          ],
          [
           "Magallón",
           395.1459
          ],
          [
           "Mainar",
           868.0479
          ],
          [
           "Malanquilla",
           1046.061
          ],
          [
           "Maleján",
           466.0901
          ],
          [
           "Malón",
           427.1692
          ],
          [
           "Maluenda",
           595.9858
          ],
          [
           "Mallén",
           287.8513
          ],
          [
           "Manchones",
           740.1449
          ],
          [
           "Mara",
           691.8807
          ],
          [
           "María de Huerva",
           332.9163
          ],
          [
           "Mediana de Aragón",
           289.3042
          ],
          [
           "Mequinenza",
           92.34655
          ],
          [
           "Mesones de Isuela",
           538.4012
          ],
          [
           "Mezalocha",
           491.086
          ],
          [
           "Mianos",
           651.1317
          ],
          [
           "Miedes de Aragón",
           771.8868
          ],
          [
           "Monegrillo",
           441.6924
          ],
          [
           "Moneva",
           652.3671
          ],
          [
           "Monreal de Ariza",
           751.1902
          ],
          [
           "Monterde",
           804.4403
          ],
          [
           "Montón",
           693.9522
          ],
          [
           "Morata de Jalón",
           421.1948
          ],
          [
           "Morata de Jiloca",
           625.0764
          ],
          [
           "Morés",
           457.6555
          ],
          [
           "Moros",
           704.5184
          ],
          [
           "Moyuela",
           745.7245
          ],
          [
           "Mozota",
           397.1876
          ],
          [
           "Muel",
           434.2508
          ],
          [
           "Munébrega",
           747.0544
          ],
          [
           "Murero",
           713.1721
          ],
          [
           "Murillo de Gállego",
           530.8543
          ],
          [
           "Navardún",
           493.5045
          ],
          [
           "Nigüella",
           497.1727
          ],
          [
           "Nombrevilla",
           908.814
          ],
          [
           "Nonaspe",
           176.9074
          ],
          [
           "Novallas",
           431.939
          ],
          [
           "Novillas",
           240.4928
          ],
          [
           "Nuévalos",
           717.2357
          ],
          [
           "Nuez de Ebro",
           181.9229
          ],
          [
           "Olvés",
           783.3309
          ],
          [
           "Orcajo",
           926.5969
          ],
          [
           "Orera",
           738.5802
          ],
          [
           "Orés",
           645.9177
          ],
          [
           "Oseja",
           825.8478
          ],
          [
           "Osera de Ebro",
           174.2535
          ],
          [
           "Paniza",
           707.4536
          ],
          [
           "Paracuellos de Jiloca",
           570.9234
          ],
          [
           "Paracuellos de la Ribera",
           459.8566
          ],
          [
           "Pastriz",
           186.568
          ],
          [
           "Pedrola",
           234.6053
          ],
          [
           "Perdiguera",
           467.8797
          ],
          [
           "Piedratajada",
           420.7992
          ],
          [
           "Pina de Ebro",
           160.1591
          ],
          [
           "Pinseque",
           229.0275
          ],
          [
           "Plasencia de Jalón",
           276.0325
          ],
          [
           "Pleitas",
           259.7592
          ],
          [
           "Plenas",
           813.9236
          ],
          [
           "Pomer",
           1119.364
          ],
          [
           "Pozuel de Ariza",
           775.4199
          ],
          [
           "Pozuelo de Aragón",
           412.067
          ],
          [
           "Pradilla de Ebro",
           228.6879
          ],
          [
           "Puebla de Albortón",
           476.9889
          ],
          [
           "Puendeluna",
           392.1512
          ],
          [
           "Purujosa",
           951.7919
          ],
          [
           "Quinto",
           174.2326
          ],
          [
           "Remolinos",
           230.4963
          ],
          [
           "Retascón",
           888.5198
          ],
          [
           "Ricla",
           369.2624
          ],
          [
           "Romanos",
           948.4423
          ],
          [
           "Rueda de Jalón",
           316.6192
          ],
          [
           "Ruesca",
           760.8224
          ],
          [
           "Sádaba",
           445.3837
          ],
          [
           "Salillas de Jalón",
           334.7121
          ],
          [
           "Salvatierra de Esca",
           585.1468
          ],
          [
           "Samper del Salz",
           535.9286
          ],
          [
           "San Martín de la Virgen de Moncayo",
           819.6014
          ],
          [
           "San Mateo de Gállego",
           281.4621
          ],
          [
           "Santa Cruz de Grío",
           636.499
          ],
          [
           "Santa Cruz de Moncayo",
           627.8763
          ],
          [
           "Santa Eulalia de Gállego",
           501.9988
          ],
          [
           "Santed",
           1060.648
          ],
          [
           "Sástago",
           149.263
          ],
          [
           "Sabiñán",
           451.3482
          ],
          [
           "Sediles",
           735.8391
          ],
          [
           "Sestrica",
           566.4533
          ],
          [
           "Sierra de Luna",
           458.6502
          ],
          [
           "Sigüés",
           519.9214
          ],
          [
           "Sisamón",
           1027.812
          ],
          [
           "Sobradiel",
           207.2028
          ],
          [
           "Sos del Rey Católico",
           631.5082
          ],
          [
           "Tabuenca",
           773.7258
          ],
          [
           "Talamantes",
           873.8474
          ],
          [
           "Tarazona",
           487.6725
          ],
          [
           "Tauste",
           274.6931
          ],
          [
           "Terrer",
           561.5784
          ],
          [
           "Tierga",
           631.0844
          ],
          [
           "Tobed",
           659.6277
          ],
          [
           "Torralba de los Frailes",
           1095.4
          ],
          [
           "Torralba de Ribota",
           647.3879
          ],
          [
           "Torralbilla",
           883.6472
          ],
          [
           "Torrehermosa",
           844.7177
          ],
          [
           "Torrelapaja",
           991.0995
          ],
          [
           "Torrellas",
           570.2052
          ],
          [
           "Torres de Berrellén",
           215.0211
          ],
          [
           "Torrijo de la Cañada",
           794.6323
          ],
          [
           "Tosos",
           584.2983
          ],
          [
           "Trasmoz",
           726.384
          ],
          [
           "Trasobares",
           671.2911
          ],
          [
           "Uncastillo",
           621.2198
          ],
          [
           "Undués de Lerda",
           622.4462
          ],
          [
           "Urrea de Jalón",
           287.5544
          ],
          [
           "Urriés",
           552.7125
          ],
          [
           "Used",
           1044.506
          ],
          [
           "Utebo",
           208.7015
          ],
          [
           "Valdehorna",
           879.848
          ],
          [
           "Val de San Martín",
           981.3766
          ],
          [
           "Valmadrid",
           523.022
          ],
          [
           "Valpalmas",
           492.2236
          ],
          [
           "Valtorres",
           676.4613
          ],
          [
           "Velilla de Ebro",
           153.2637
          ],
          [
           "Velilla de Jiloca",
           604.6818
          ],
          [
           "Vera de Moncayo",
           631.6308
          ],
          [
           "Vierlas",
           449.5351
          ],
          [
           "Villadoz",
           890.6553
          ],
          [
           "Villafeliche",
           684.1865
          ],
          [
           "Villafranca de Ebro",
           176.0309
          ],
          [
           "Villalba de Perejil",
           624.0992
          ],
          [
           "Villalengua",
           762.2932
          ],
          [
           "Villanueva de Gállego",
           251.0012
          ],
          [
           "Villanueva de Jiloca",
           775.7328
          ],
          [
           "Villanueva de Huerva",
           545.6921
          ],
          [
           "Villar de los Navarros",
           800.2396
          ],
          [
           "Villarreal de Huerva",
           867.4806
          ],
          [
           "Villarroya de la Sierra",
           738.6608
          ],
          [
           "Villarroya del Campo",
           924.395
          ],
          [
           "Vistabella",
           755.5722
          ],
          [
           "Zaragoza",
           204.0027
          ],
          [
           "Zuera",
           285
          ],
          [
           "Biel",
           754.2445
          ],
          [
           "Marracos",
           404.7361
          ],
          [
           "Villamayor de Gállego",
           231.1234
          ],
          [
           "Ceuta",
           13.47725
          ],
          [
           "Melilla",
           10.3337
          ]
         ],
         "hovertemplate": "population=%{marker.color}<br>latitude=%{lat}<br>longitude=%{lon}<br>municipality_name=%{customdata[0]}<br>altitude=%{customdata[1]}<extra></extra>",
         "lat": {
          "bdata": "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",
          "dtype": "f8"
         },
         "legendgroup": "",
         "lon": {
          "bdata": "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",
          "dtype": "f8"
         },
         "marker": {
          "color": {
           "bdata": "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",
           "dtype": "i4"
          },
          "coloraxis": "coloraxis",
          "size": {
           "bdata": "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",
           "dtype": "i4"
          },
          "sizemode": "area",
          "sizeref": 1000
         },
         "mode": "markers",
         "name": "",
         "showlegend": false,
         "subplot": "map",
         "type": "scattermap"
        }
       ],
       "layout": {
        "coloraxis": {
         "colorbar": {
          "title": {
           "text": "Population"
          }
         },
         "colorscale": [
          [
           0,
           "rgb(36, 86, 104)"
          ],
          [
           0.16666666666666666,
           "rgb(15, 114, 121)"
          ],
          [
           0.3333333333333333,
           "rgb(13, 143, 129)"
          ],
          [
           0.5,
           "rgb(57, 171, 126)"
          ],
          [
           0.6666666666666666,
           "rgb(110, 197, 116)"
          ],
          [
           0.8333333333333334,
           "rgb(169, 220, 103)"
          ],
          [
           1,
           "rgb(237, 239, 93)"
          ]
         ]
        },
        "geo": {
         "fitbounds": "locations"
        },
        "height": 1000,
        "legend": {
         "itemsizing": "constant",
         "tracegroupgap": 0
        },
        "map": {
         "center": {
          "lat": 40.680656656360426,
          "lon": -3.099928725868669
         },
         "domain": {
          "x": [
           0,
           1
          ],
          "y": [
           0,
           1
          ]
         },
         "zoom": 5
        },
        "mapbox": {
         "center": {
          "lat": 40.680656656360426,
          "lon": -3.099928725868669
         },
         "style": "open-street-map",
         "zoom": 5
        },
        "margin": {
         "b": 50,
         "l": 50,
         "r": 50,
         "t": 50
        },
        "template": {
         "data": {
          "bar": [
           {
            "error_x": {
             "color": "#2a3f5f"
            },
            "error_y": {
             "color": "#2a3f5f"
            },
            "marker": {
             "line": {
              "color": "#E5ECF6",
              "width": 0.5
             },
             "pattern": {
              "fillmode": "overlay",
              "size": 10,
              "solidity": 0.2
             }
            },
            "type": "bar"
           }
          ],
          "barpolar": [
           {
            "marker": {
             "line": {
              "color": "#E5ECF6",
              "width": 0.5
             },
             "pattern": {
              "fillmode": "overlay",
              "size": 10,
              "solidity": 0.2
             }
            },
            "type": "barpolar"
           }
          ],
          "carpet": [
           {
            "aaxis": {
             "endlinecolor": "#2a3f5f",
             "gridcolor": "white",
             "linecolor": "white",
             "minorgridcolor": "white",
             "startlinecolor": "#2a3f5f"
            },
            "baxis": {
             "endlinecolor": "#2a3f5f",
             "gridcolor": "white",
             "linecolor": "white",
             "minorgridcolor": "white",
             "startlinecolor": "#2a3f5f"
            },
            "type": "carpet"
           }
          ],
          "choropleth": [
           {
            "colorbar": {
             "outlinewidth": 0,
             "ticks": ""
            },
            "type": "choropleth"
           }
          ],
          "contour": [
           {
            "colorbar": {
             "outlinewidth": 0,
             "ticks": ""
            },
            "colorscale": [
             [
              0,
              "#0d0887"
             ],
             [
              0.1111111111111111,
              "#46039f"
             ],
             [
              0.2222222222222222,
              "#7201a8"
             ],
             [
              0.3333333333333333,
              "#9c179e"
             ],
             [
              0.4444444444444444,
              "#bd3786"
             ],
             [
              0.5555555555555556,
              "#d8576b"
             ],
             [
              0.6666666666666666,
              "#ed7953"
             ],
             [
              0.7777777777777778,
              "#fb9f3a"
             ],
             [
              0.8888888888888888,
              "#fdca26"
             ],
             [
              1,
              "#f0f921"
             ]
            ],
            "type": "contour"
           }
          ],
          "contourcarpet": [
           {
            "colorbar": {
             "outlinewidth": 0,
             "ticks": ""
            },
            "type": "contourcarpet"
           }
          ],
          "heatmap": [
           {
            "colorbar": {
             "outlinewidth": 0,
             "ticks": ""
            },
            "colorscale": [
             [
              0,
              "#0d0887"
             ],
             [
              0.1111111111111111,
              "#46039f"
             ],
             [
              0.2222222222222222,
              "#7201a8"
             ],
             [
              0.3333333333333333,
              "#9c179e"
             ],
             [
              0.4444444444444444,
              "#bd3786"
             ],
             [
              0.5555555555555556,
              "#d8576b"
             ],
             [
              0.6666666666666666,
              "#ed7953"
             ],
             [
              0.7777777777777778,
              "#fb9f3a"
             ],
             [
              0.8888888888888888,
              "#fdca26"
             ],
             [
              1,
              "#f0f921"
             ]
            ],
            "type": "heatmap"
           }
          ],
          "histogram": [
           {
            "marker": {
             "pattern": {
              "fillmode": "overlay",
              "size": 10,
              "solidity": 0.2
             }
            },
            "type": "histogram"
           }
          ],
          "histogram2d": [
           {
            "colorbar": {
             "outlinewidth": 0,
             "ticks": ""
            },
            "colorscale": [
             [
              0,
              "#0d0887"
             ],
             [
              0.1111111111111111,
              "#46039f"
             ],
             [
              0.2222222222222222,
              "#7201a8"
             ],
             [
              0.3333333333333333,
              "#9c179e"
             ],
             [
              0.4444444444444444,
              "#bd3786"
             ],
             [
              0.5555555555555556,
              "#d8576b"
             ],
             [
              0.6666666666666666,
              "#ed7953"
             ],
             [
              0.7777777777777778,
              "#fb9f3a"
             ],
             [
              0.8888888888888888,
              "#fdca26"
             ],
             [
              1,
              "#f0f921"
             ]
            ],
            "type": "histogram2d"
           }
          ],
          "histogram2dcontour": [
           {
            "colorbar": {
             "outlinewidth": 0,
             "ticks": ""
            },
            "colorscale": [
             [
              0,
              "#0d0887"
             ],
             [
              0.1111111111111111,
              "#46039f"
             ],
             [
              0.2222222222222222,
              "#7201a8"
             ],
             [
              0.3333333333333333,
              "#9c179e"
             ],
             [
              0.4444444444444444,
              "#bd3786"
             ],
             [
              0.5555555555555556,
              "#d8576b"
             ],
             [
              0.6666666666666666,
              "#ed7953"
             ],
             [
              0.7777777777777778,
              "#fb9f3a"
             ],
             [
              0.8888888888888888,
              "#fdca26"
             ],
             [
              1,
              "#f0f921"
             ]
            ],
            "type": "histogram2dcontour"
           }
          ],
          "mesh3d": [
           {
            "colorbar": {
             "outlinewidth": 0,
             "ticks": ""
            },
            "type": "mesh3d"
           }
          ],
          "parcoords": [
           {
            "line": {
             "colorbar": {
              "outlinewidth": 0,
              "ticks": ""
             }
            },
            "type": "parcoords"
           }
          ],
          "pie": [
           {
            "automargin": true,
            "type": "pie"
           }
          ],
          "scatter": [
           {
            "fillpattern": {
             "fillmode": "overlay",
             "size": 10,
             "solidity": 0.2
            },
            "type": "scatter"
           }
          ],
          "scatter3d": [
           {
            "line": {
             "colorbar": {
              "outlinewidth": 0,
              "ticks": ""
             }
            },
            "marker": {
             "colorbar": {
              "outlinewidth": 0,
              "ticks": ""
             }
            },
            "type": "scatter3d"
           }
          ],
          "scattercarpet": [
           {
            "marker": {
             "colorbar": {
              "outlinewidth": 0,
              "ticks": ""
             }
            },
            "type": "scattercarpet"
           }
          ],
          "scattergeo": [
           {
            "marker": {
             "colorbar": {
              "outlinewidth": 0,
              "ticks": ""
             }
            },
            "type": "scattergeo"
           }
          ],
          "scattergl": [
           {
            "marker": {
             "colorbar": {
              "outlinewidth": 0,
              "ticks": ""
             }
            },
            "type": "scattergl"
           }
          ],
          "scattermap": [
           {
            "marker": {
             "colorbar": {
              "outlinewidth": 0,
              "ticks": ""
             }
            },
            "type": "scattermap"
           }
          ],
          "scattermapbox": [
           {
            "marker": {
             "colorbar": {
              "outlinewidth": 0,
              "ticks": ""
             }
            },
            "type": "scattermapbox"
           }
          ],
          "scatterpolar": [
           {
            "marker": {
             "colorbar": {
              "outlinewidth": 0,
              "ticks": ""
             }
            },
            "type": "scatterpolar"
           }
          ],
          "scatterpolargl": [
           {
            "marker": {
             "colorbar": {
              "outlinewidth": 0,
              "ticks": ""
             }
            },
            "type": "scatterpolargl"
           }
          ],
          "scatterternary": [
           {
            "marker": {
             "colorbar": {
              "outlinewidth": 0,
              "ticks": ""
             }
            },
            "type": "scatterternary"
           }
          ],
          "surface": [
           {
            "colorbar": {
             "outlinewidth": 0,
             "ticks": ""
            },
            "colorscale": [
             [
              0,
              "#0d0887"
             ],
             [
              0.1111111111111111,
              "#46039f"
             ],
             [
              0.2222222222222222,
              "#7201a8"
             ],
             [
              0.3333333333333333,
              "#9c179e"
             ],
             [
              0.4444444444444444,
              "#bd3786"
             ],
             [
              0.5555555555555556,
              "#d8576b"
             ],
             [
              0.6666666666666666,
              "#ed7953"
             ],
             [
              0.7777777777777778,
              "#fb9f3a"
             ],
             [
              0.8888888888888888,
              "#fdca26"
             ],
             [
              1,
              "#f0f921"
             ]
            ],
            "type": "surface"
           }
          ],
          "table": [
           {
            "cells": {
             "fill": {
              "color": "#EBF0F8"
             },
             "line": {
              "color": "white"
             }
            },
            "header": {
             "fill": {
              "color": "#C8D4E3"
             },
             "line": {
              "color": "white"
             }
            },
            "type": "table"
           }
          ]
         },
         "layout": {
          "annotationdefaults": {
           "arrowcolor": "#2a3f5f",
           "arrowhead": 0,
           "arrowwidth": 1
          },
          "autotypenumbers": "strict",
          "coloraxis": {
           "colorbar": {
            "outlinewidth": 0,
            "ticks": ""
           }
          },
          "colorscale": {
           "diverging": [
            [
             0,
             "#8e0152"
            ],
            [
             0.1,
             "#c51b7d"
            ],
            [
             0.2,
             "#de77ae"
            ],
            [
             0.3,
             "#f1b6da"
            ],
            [
             0.4,
             "#fde0ef"
            ],
            [
             0.5,
             "#f7f7f7"
            ],
            [
             0.6,
             "#e6f5d0"
            ],
            [
             0.7,
             "#b8e186"
            ],
            [
             0.8,
             "#7fbc41"
            ],
            [
             0.9,
             "#4d9221"
            ],
            [
             1,
             "#276419"
            ]
           ],
           "sequential": [
            [
             0,
             "#0d0887"
            ],
            [
             0.1111111111111111,
             "#46039f"
            ],
            [
             0.2222222222222222,
             "#7201a8"
            ],
            [
             0.3333333333333333,
             "#9c179e"
            ],
            [
             0.4444444444444444,
             "#bd3786"
            ],
            [
             0.5555555555555556,
             "#d8576b"
            ],
            [
             0.6666666666666666,
             "#ed7953"
            ],
            [
             0.7777777777777778,
             "#fb9f3a"
            ],
            [
             0.8888888888888888,
             "#fdca26"
            ],
            [
             1,
             "#f0f921"
            ]
           ],
           "sequentialminus": [
            [
             0,
             "#0d0887"
            ],
            [
             0.1111111111111111,
             "#46039f"
            ],
            [
             0.2222222222222222,
             "#7201a8"
            ],
            [
             0.3333333333333333,
             "#9c179e"
            ],
            [
             0.4444444444444444,
             "#bd3786"
            ],
            [
             0.5555555555555556,
             "#d8576b"
            ],
            [
             0.6666666666666666,
             "#ed7953"
            ],
            [
             0.7777777777777778,
             "#fb9f3a"
            ],
            [
             0.8888888888888888,
             "#fdca26"
            ],
            [
             1,
             "#f0f921"
            ]
           ]
          },
          "colorway": [
           "#636efa",
           "#EF553B",
           "#00cc96",
           "#ab63fa",
           "#FFA15A",
           "#19d3f3",
           "#FF6692",
           "#B6E880",
           "#FF97FF",
           "#FECB52"
          ],
          "font": {
           "color": "#2a3f5f"
          },
          "geo": {
           "bgcolor": "white",
           "lakecolor": "white",
           "landcolor": "#E5ECF6",
           "showlakes": true,
           "showland": true,
           "subunitcolor": "white"
          },
          "hoverlabel": {
           "align": "left"
          },
          "hovermode": "closest",
          "mapbox": {
           "style": "light"
          },
          "paper_bgcolor": "white",
          "plot_bgcolor": "#E5ECF6",
          "polar": {
           "angularaxis": {
            "gridcolor": "white",
            "linecolor": "white",
            "ticks": ""
           },
           "bgcolor": "#E5ECF6",
           "radialaxis": {
            "gridcolor": "white",
            "linecolor": "white",
            "ticks": ""
           }
          },
          "scene": {
           "xaxis": {
            "backgroundcolor": "#E5ECF6",
            "gridcolor": "white",
            "gridwidth": 2,
            "linecolor": "white",
            "showbackground": true,
            "ticks": "",
            "zerolinecolor": "white"
           },
           "yaxis": {
            "backgroundcolor": "#E5ECF6",
            "gridcolor": "white",
            "gridwidth": 2,
            "linecolor": "white",
            "showbackground": true,
            "ticks": "",
            "zerolinecolor": "white"
           },
           "zaxis": {
            "backgroundcolor": "#E5ECF6",
            "gridcolor": "white",
            "gridwidth": 2,
            "linecolor": "white",
            "showbackground": true,
            "ticks": "",
            "zerolinecolor": "white"
           }
          },
          "shapedefaults": {
           "line": {
            "color": "#2a3f5f"
           }
          },
          "ternary": {
           "aaxis": {
            "gridcolor": "white",
            "linecolor": "white",
            "ticks": ""
           },
           "baxis": {
            "gridcolor": "white",
            "linecolor": "white",
            "ticks": ""
           },
           "bgcolor": "#E5ECF6",
           "caxis": {
            "gridcolor": "white",
            "linecolor": "white",
            "ticks": ""
           }
          },
          "title": {
           "x": 0.05
          },
          "xaxis": {
           "automargin": true,
           "gridcolor": "white",
           "linecolor": "white",
           "ticks": "",
           "title": {
            "standoff": 15
           },
           "zerolinecolor": "white",
           "zerolinewidth": 2
          },
          "yaxis": {
           "automargin": true,
           "gridcolor": "white",
           "linecolor": "white",
           "ticks": "",
           "title": {
            "standoff": 15
           },
           "zerolinecolor": "white",
           "zerolinewidth": 2
          }
         }
        },
        "title": {
         "text": "Communities in Spain by population size"
        },
        "width": 1000
       }
      }
     },
     "metadata": {},
     "output_type": "display_data"
    }
   ],
   "source": [
    "title = \"Communities in Spain\"\n",
    "\n",
    "lats = df.latitude\n",
    "lons = df.longitude\n",
    "\n",
    "fig = px.scatter_map(df, \n",
    "                     lat=lats, \n",
    "                     lon=lons,\n",
    "                     hover_data=[\"municipality_name\", \"altitude\"], \n",
    "                     size='population',\n",
    "                     color='population',\n",
    "                     color_continuous_scale=px.colors.carto.Aggrnyl,\n",
    "                     zoom=5,\n",
    "                     size_max=50  # Increase max size of markers\n",
    "                     )\n",
    "\n",
    "# Adjust the size reference to make small points more visible\n",
    "fig.update_traces(marker=dict(sizeref=1000))  # Decrease this value to make points larger\n",
    "\n",
    "fig.update_geos(fitbounds=\"locations\")\n",
    "fig.update_layout(height=1000, width=1000)\n",
    "fig.update_layout(mapbox_style=\"open-street-map\")\n",
    "fig.update_layout(margin={\"r\":50,\"t\":50,\"l\":50,\"b\":50})\n",
    "fig.update_layout(\n",
    "    coloraxis_colorbar=dict(title='Population')\n",
    ")\n",
    "fig.update_layout(title=\"Communities in Spain by population size\")\n",
    "\n",
    "fig.show()"
   ]
  },
  {
   "cell_type": "code",
   "execution_count": null,
   "metadata": {},
   "outputs": [],
   "source": [
    "df[df[\"municipality_name\"] == \"València\"]"
   ]
  },
  {
   "cell_type": "code",
   "execution_count": null,
   "metadata": {},
   "outputs": [],
   "source": [
    "df_communities[df_communities[\"municipality_name\"] == \"València\"]"
   ]
  },
  {
   "cell_type": "code",
   "execution_count": null,
   "metadata": {},
   "outputs": [],
   "source": [
    "df_coordinates[df_coordinates[\"municipality_name\"] == \"Valencia\"]"
   ]
  }
 ],
 "metadata": {
  "kernelspec": {
   "display_name": ".venv",
   "language": "python",
   "name": "python3"
  },
  "language_info": {
   "codemirror_mode": {
    "name": "ipython",
    "version": 3
   },
   "file_extension": ".py",
   "mimetype": "text/x-python",
   "name": "python",
   "nbconvert_exporter": "python",
   "pygments_lexer": "ipython3",
   "version": "3.11.3"
  }
 },
 "nbformat": 4,
 "nbformat_minor": 2
}
