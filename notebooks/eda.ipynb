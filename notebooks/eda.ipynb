{
 "cells": [
  {
   "cell_type": "markdown",
   "metadata": {},
   "source": [
    "## Basic EDA for first incoming data"
   ]
  },
  {
   "cell_type": "code",
   "execution_count": 16,
   "metadata": {},
   "outputs": [],
   "source": [
    "import sys\n",
    "import os\n",
    "import re\n",
    "sys.path.insert(0, os.path.abspath(os.path.join(os.getcwd(), '..')))\n",
    "\n",
    "import pandas as pd\n",
    "import plotly.express as px\n",
    "import numpy as np\n",
    "\n",
    "from scripts.accent_cleaner import AccentCleaner\n",
    "from scripts.column_aligner import ColumnAligner"
   ]
  },
  {
   "cell_type": "code",
   "execution_count": 17,
   "metadata": {},
   "outputs": [],
   "source": [
    "df_communities = pd.read_csv(\n",
    "    \"../data/raw/population_towns.csv\", \n",
    "    encoding=\"ISO-8859-1\",  # or \"latin1\",\n",
    "    sep=\";\",\n",
    "    decimal=\",\")\n",
    "df_coordinates = pd.read_csv(\n",
    "    \"../data/raw/coordinates_towns_spain.csv\",\n",
    "    encoding=\"ISO-8859-1\",  # or \"latin1\"\n",
    "    sep=\";\",\n",
    "    decimal=\",\"\n",
    ")"
   ]
  },
  {
   "cell_type": "code",
   "execution_count": 18,
   "metadata": {},
   "outputs": [],
   "source": [
    "columns_communities_english = ['province_code', 'province', 'municipality_code', 'municipality_name', 'population', 'male', 'female']\n",
    "columns_coordinates_english = ['community', 'province', 'municipality_name', 'latitude', 'longitude', 'altitude',\n",
    "    'population', 'male', 'female']\n",
    "\n",
    "\n",
    "def map_cols_es_en(es: list, en: list):\n",
    "    dict_cols = dict(zip(es, en))\n",
    "    return dict_cols.values()\n",
    "\n",
    "\n",
    "df_communities.columns = map_cols_es_en(df_communities.columns.to_list(), columns_communities_english)\n",
    "df_coordinates.columns = map_cols_es_en(df_coordinates.columns.to_list(), columns_coordinates_english)"
   ]
  },
  {
   "cell_type": "code",
   "execution_count": 19,
   "metadata": {},
   "outputs": [],
   "source": [
    "cleaner = AccentCleaner([df_communities, df_coordinates], ['municipality_name', 'province'])\n",
    "cleaner.cleanAccents()\n",
    "\n",
    "aligner = ColumnAligner(df_communities, df_coordinates, 'municipality_name_clean', re.compile(r\"\\*,\\s\"))\n",
    "aligner.alignColumns()\n",
    "\n",
    "# df_coordinates.sample(50)"
   ]
  },
  {
   "cell_type": "code",
   "execution_count": 20,
   "metadata": {},
   "outputs": [
    {
     "data": {
      "text/html": [
       "<div>\n",
       "<style scoped>\n",
       "    .dataframe tbody tr th:only-of-type {\n",
       "        vertical-align: middle;\n",
       "    }\n",
       "\n",
       "    .dataframe tbody tr th {\n",
       "        vertical-align: top;\n",
       "    }\n",
       "\n",
       "    .dataframe thead th {\n",
       "        text-align: right;\n",
       "    }\n",
       "</style>\n",
       "<table border=\"1\" class=\"dataframe\">\n",
       "  <thead>\n",
       "    <tr style=\"text-align: right;\">\n",
       "      <th></th>\n",
       "      <th>community</th>\n",
       "      <th>province</th>\n",
       "      <th>municipality_name</th>\n",
       "      <th>latitude</th>\n",
       "      <th>longitude</th>\n",
       "      <th>altitude</th>\n",
       "      <th>population</th>\n",
       "      <th>male</th>\n",
       "      <th>female</th>\n",
       "      <th>municipality_name_clean</th>\n",
       "      <th>province_clean</th>\n",
       "    </tr>\n",
       "  </thead>\n",
       "  <tbody>\n",
       "    <tr>\n",
       "      <th>5760</th>\n",
       "      <td>Catalunya</td>\n",
       "      <td>Tarragona</td>\n",
       "      <td>Flix</td>\n",
       "      <td>41.22744</td>\n",
       "      <td>0.544696</td>\n",
       "      <td>89.04555</td>\n",
       "      <td>4098</td>\n",
       "      <td>2081</td>\n",
       "      <td>2017</td>\n",
       "      <td>flix</td>\n",
       "      <td>tarragona</td>\n",
       "    </tr>\n",
       "    <tr>\n",
       "      <th>926</th>\n",
       "      <td>Aragón</td>\n",
       "      <td>Huesca</td>\n",
       "      <td>Sallent de Gállego</td>\n",
       "      <td>42.77204</td>\n",
       "      <td>-0.334784</td>\n",
       "      <td>1311.04000</td>\n",
       "      <td>1480</td>\n",
       "      <td>748</td>\n",
       "      <td>732</td>\n",
       "      <td>sallent de gallego</td>\n",
       "      <td>huesca</td>\n",
       "    </tr>\n",
       "    <tr>\n",
       "      <th>6223</th>\n",
       "      <td>Extremadura</td>\n",
       "      <td>Cáceres</td>\n",
       "      <td>Serrejón</td>\n",
       "      <td>39.81802</td>\n",
       "      <td>-5.802053</td>\n",
       "      <td>338.53840</td>\n",
       "      <td>444</td>\n",
       "      <td>216</td>\n",
       "      <td>228</td>\n",
       "      <td>serrejon</td>\n",
       "      <td>caceres</td>\n",
       "    </tr>\n",
       "    <tr>\n",
       "      <th>7535</th>\n",
       "      <td>País Vasco</td>\n",
       "      <td>Vizcaya</td>\n",
       "      <td>Mendexa</td>\n",
       "      <td>43.34639</td>\n",
       "      <td>-2.483333</td>\n",
       "      <td>163.86730</td>\n",
       "      <td>437</td>\n",
       "      <td>229</td>\n",
       "      <td>208</td>\n",
       "      <td>mendexa</td>\n",
       "      <td>vizcaya</td>\n",
       "    </tr>\n",
       "    <tr>\n",
       "      <th>2736</th>\n",
       "      <td>Castilla León</td>\n",
       "      <td>Ávila</td>\n",
       "      <td>Chamartín</td>\n",
       "      <td>40.70156</td>\n",
       "      <td>-4.958119</td>\n",
       "      <td>1200.41900</td>\n",
       "      <td>93</td>\n",
       "      <td>56</td>\n",
       "      <td>37</td>\n",
       "      <td>chamartin</td>\n",
       "      <td>avila</td>\n",
       "    </tr>\n",
       "    <tr>\n",
       "      <th>1271</th>\n",
       "      <td>Aragón</td>\n",
       "      <td>Zaragoza</td>\n",
       "      <td>Cabañas de Ebro</td>\n",
       "      <td>41.79571</td>\n",
       "      <td>-1.163833</td>\n",
       "      <td>218.63090</td>\n",
       "      <td>558</td>\n",
       "      <td>297</td>\n",
       "      <td>261</td>\n",
       "      <td>cabanas de ebro</td>\n",
       "      <td>zaragoza</td>\n",
       "    </tr>\n",
       "    <tr>\n",
       "      <th>2756</th>\n",
       "      <td>Castilla León</td>\n",
       "      <td>Ávila</td>\n",
       "      <td>Gallegos de Sobrinos</td>\n",
       "      <td>40.71639</td>\n",
       "      <td>-5.111902</td>\n",
       "      <td>1165.11600</td>\n",
       "      <td>81</td>\n",
       "      <td>38</td>\n",
       "      <td>43</td>\n",
       "      <td>gallegos de sobrinos</td>\n",
       "      <td>avila</td>\n",
       "    </tr>\n",
       "    <tr>\n",
       "      <th>5338</th>\n",
       "      <td>Catalunya</td>\n",
       "      <td>Girona</td>\n",
       "      <td>Llosses (Les)</td>\n",
       "      <td>42.15003</td>\n",
       "      <td>2.115517</td>\n",
       "      <td>906.84280</td>\n",
       "      <td>234</td>\n",
       "      <td>134</td>\n",
       "      <td>100</td>\n",
       "      <td>llosses, les</td>\n",
       "      <td>girona</td>\n",
       "    </tr>\n",
       "    <tr>\n",
       "      <th>6446</th>\n",
       "      <td>Galicia</td>\n",
       "      <td>Ourense</td>\n",
       "      <td>Carballiño (O)</td>\n",
       "      <td>42.42981</td>\n",
       "      <td>-8.077559</td>\n",
       "      <td>401.19740</td>\n",
       "      <td>14114</td>\n",
       "      <td>6631</td>\n",
       "      <td>7483</td>\n",
       "      <td>carballino, o</td>\n",
       "      <td>ourense</td>\n",
       "    </tr>\n",
       "    <tr>\n",
       "      <th>432</th>\n",
       "      <td>Andalucía</td>\n",
       "      <td>Huelva</td>\n",
       "      <td>Lepe</td>\n",
       "      <td>37.25432</td>\n",
       "      <td>-7.203348</td>\n",
       "      <td>24.53590</td>\n",
       "      <td>25886</td>\n",
       "      <td>13332</td>\n",
       "      <td>12554</td>\n",
       "      <td>lepe</td>\n",
       "      <td>huelva</td>\n",
       "    </tr>\n",
       "    <tr>\n",
       "      <th>4296</th>\n",
       "      <td>Castilla León</td>\n",
       "      <td>Soria</td>\n",
       "      <td>Almarza</td>\n",
       "      <td>41.94652</td>\n",
       "      <td>-2.469083</td>\n",
       "      <td>1152.27300</td>\n",
       "      <td>655</td>\n",
       "      <td>376</td>\n",
       "      <td>279</td>\n",
       "      <td>almarza</td>\n",
       "      <td>soria</td>\n",
       "    </tr>\n",
       "    <tr>\n",
       "      <th>884</th>\n",
       "      <td>Aragón</td>\n",
       "      <td>Huesca</td>\n",
       "      <td>Laspaúles</td>\n",
       "      <td>42.47078</td>\n",
       "      <td>0.598496</td>\n",
       "      <td>1445.99900</td>\n",
       "      <td>309</td>\n",
       "      <td>184</td>\n",
       "      <td>125</td>\n",
       "      <td>laspaules</td>\n",
       "      <td>huesca</td>\n",
       "    </tr>\n",
       "    <tr>\n",
       "      <th>6730</th>\n",
       "      <td>La Rioja</td>\n",
       "      <td>La Rioja</td>\n",
       "      <td>Laguna de Cameros</td>\n",
       "      <td>42.17510</td>\n",
       "      <td>-2.542447</td>\n",
       "      <td>1043.96700</td>\n",
       "      <td>143</td>\n",
       "      <td>86</td>\n",
       "      <td>57</td>\n",
       "      <td>laguna de cameros</td>\n",
       "      <td>la rioja</td>\n",
       "    </tr>\n",
       "    <tr>\n",
       "      <th>6414</th>\n",
       "      <td>Galicia</td>\n",
       "      <td>Lugo</td>\n",
       "      <td>Riotorto</td>\n",
       "      <td>43.35972</td>\n",
       "      <td>-7.254445</td>\n",
       "      <td>393.78810</td>\n",
       "      <td>1522</td>\n",
       "      <td>747</td>\n",
       "      <td>775</td>\n",
       "      <td>riotorto</td>\n",
       "      <td>lugo</td>\n",
       "    </tr>\n",
       "    <tr>\n",
       "      <th>1813</th>\n",
       "      <td>Castilla La Mancha</td>\n",
       "      <td>Albacete</td>\n",
       "      <td>Madrigueras</td>\n",
       "      <td>39.23705</td>\n",
       "      <td>-1.800167</td>\n",
       "      <td>692.87390</td>\n",
       "      <td>4938</td>\n",
       "      <td>2543</td>\n",
       "      <td>2395</td>\n",
       "      <td>madrigueras</td>\n",
       "      <td>albacete</td>\n",
       "    </tr>\n",
       "    <tr>\n",
       "      <th>3483</th>\n",
       "      <td>Castilla León</td>\n",
       "      <td>León</td>\n",
       "      <td>Vecilla (La)</td>\n",
       "      <td>42.84916</td>\n",
       "      <td>-5.405795</td>\n",
       "      <td>1009.37200</td>\n",
       "      <td>437</td>\n",
       "      <td>221</td>\n",
       "      <td>216</td>\n",
       "      <td>vecilla, la</td>\n",
       "      <td>leon</td>\n",
       "    </tr>\n",
       "    <tr>\n",
       "      <th>5824</th>\n",
       "      <td>Catalunya</td>\n",
       "      <td>Tarragona</td>\n",
       "      <td>Riba-roja d'Ebre</td>\n",
       "      <td>41.25058</td>\n",
       "      <td>0.487664</td>\n",
       "      <td>88.89165</td>\n",
       "      <td>1348</td>\n",
       "      <td>717</td>\n",
       "      <td>631</td>\n",
       "      <td>riba-roja d'ebre</td>\n",
       "      <td>tarragona</td>\n",
       "    </tr>\n",
       "    <tr>\n",
       "      <th>2579</th>\n",
       "      <td>Castilla La Mancha</td>\n",
       "      <td>Toledo</td>\n",
       "      <td>Mejorada</td>\n",
       "      <td>40.01009</td>\n",
       "      <td>-4.881894</td>\n",
       "      <td>548.89800</td>\n",
       "      <td>1340</td>\n",
       "      <td>701</td>\n",
       "      <td>639</td>\n",
       "      <td>mejorada</td>\n",
       "      <td>toledo</td>\n",
       "    </tr>\n",
       "    <tr>\n",
       "      <th>2109</th>\n",
       "      <td>Castilla La Mancha</td>\n",
       "      <td>Cuenca</td>\n",
       "      <td>Pozorrubio</td>\n",
       "      <td>39.81689</td>\n",
       "      <td>-2.951034</td>\n",
       "      <td>787.58570</td>\n",
       "      <td>394</td>\n",
       "      <td>193</td>\n",
       "      <td>201</td>\n",
       "      <td>pozorrubio</td>\n",
       "      <td>cuenca</td>\n",
       "    </tr>\n",
       "    <tr>\n",
       "      <th>2151</th>\n",
       "      <td>Castilla La Mancha</td>\n",
       "      <td>Cuenca</td>\n",
       "      <td>Valdemeca</td>\n",
       "      <td>40.22374</td>\n",
       "      <td>-1.741087</td>\n",
       "      <td>1316.77600</td>\n",
       "      <td>116</td>\n",
       "      <td>61</td>\n",
       "      <td>55</td>\n",
       "      <td>valdemeca</td>\n",
       "      <td>cuenca</td>\n",
       "    </tr>\n",
       "    <tr>\n",
       "      <th>5424</th>\n",
       "      <td>Catalunya</td>\n",
       "      <td>Girona</td>\n",
       "      <td>Serinyà</td>\n",
       "      <td>42.17041</td>\n",
       "      <td>2.744267</td>\n",
       "      <td>188.96480</td>\n",
       "      <td>1095</td>\n",
       "      <td>556</td>\n",
       "      <td>539</td>\n",
       "      <td>serinyà</td>\n",
       "      <td>girona</td>\n",
       "    </tr>\n",
       "    <tr>\n",
       "      <th>1238</th>\n",
       "      <td>Aragón</td>\n",
       "      <td>Zaragoza</td>\n",
       "      <td>Aranda de Moncayo</td>\n",
       "      <td>41.57757</td>\n",
       "      <td>-1.791696</td>\n",
       "      <td>905.02750</td>\n",
       "      <td>223</td>\n",
       "      <td>126</td>\n",
       "      <td>97</td>\n",
       "      <td>aranda de moncayo</td>\n",
       "      <td>zaragoza</td>\n",
       "    </tr>\n",
       "    <tr>\n",
       "      <th>3379</th>\n",
       "      <td>Castilla León</td>\n",
       "      <td>León</td>\n",
       "      <td>Gradefes</td>\n",
       "      <td>42.62492</td>\n",
       "      <td>-5.227446</td>\n",
       "      <td>855.98000</td>\n",
       "      <td>1092</td>\n",
       "      <td>556</td>\n",
       "      <td>536</td>\n",
       "      <td>gradefes</td>\n",
       "      <td>leon</td>\n",
       "    </tr>\n",
       "    <tr>\n",
       "      <th>7534</th>\n",
       "      <td>País Vasco</td>\n",
       "      <td>Vizcaya</td>\n",
       "      <td>Mendata</td>\n",
       "      <td>43.28333</td>\n",
       "      <td>-2.633333</td>\n",
       "      <td>107.88860</td>\n",
       "      <td>382</td>\n",
       "      <td>202</td>\n",
       "      <td>180</td>\n",
       "      <td>mendata</td>\n",
       "      <td>vizcaya</td>\n",
       "    </tr>\n",
       "    <tr>\n",
       "      <th>2224</th>\n",
       "      <td>Castilla La Mancha</td>\n",
       "      <td>Guadalajara</td>\n",
       "      <td>Arbancón</td>\n",
       "      <td>40.96434</td>\n",
       "      <td>-3.114865</td>\n",
       "      <td>902.12000</td>\n",
       "      <td>188</td>\n",
       "      <td>110</td>\n",
       "      <td>78</td>\n",
       "      <td>arbancon</td>\n",
       "      <td>guadalajara</td>\n",
       "    </tr>\n",
       "    <tr>\n",
       "      <th>7992</th>\n",
       "      <td>Valencia</td>\n",
       "      <td>Valencia/València</td>\n",
       "      <td>Llombai</td>\n",
       "      <td>39.28243</td>\n",
       "      <td>-0.572480</td>\n",
       "      <td>102.93830</td>\n",
       "      <td>2811</td>\n",
       "      <td>1435</td>\n",
       "      <td>1376</td>\n",
       "      <td>llombai</td>\n",
       "      <td>valencia/valencia</td>\n",
       "    </tr>\n",
       "    <tr>\n",
       "      <th>3359</th>\n",
       "      <td>Castilla León</td>\n",
       "      <td>León</td>\n",
       "      <td>Cistierna</td>\n",
       "      <td>42.80286</td>\n",
       "      <td>-5.125302</td>\n",
       "      <td>948.11190</td>\n",
       "      <td>3721</td>\n",
       "      <td>1812</td>\n",
       "      <td>1909</td>\n",
       "      <td>cistierna</td>\n",
       "      <td>leon</td>\n",
       "    </tr>\n",
       "    <tr>\n",
       "      <th>175</th>\n",
       "      <td>Andalucía</td>\n",
       "      <td>Córdoba</td>\n",
       "      <td>Fuente Obejuna</td>\n",
       "      <td>38.26675</td>\n",
       "      <td>-5.419834</td>\n",
       "      <td>622.74980</td>\n",
       "      <td>5269</td>\n",
       "      <td>2683</td>\n",
       "      <td>2586</td>\n",
       "      <td>fuente obejuna</td>\n",
       "      <td>cordoba</td>\n",
       "    </tr>\n",
       "    <tr>\n",
       "      <th>1209</th>\n",
       "      <td>Aragón</td>\n",
       "      <td>Zaragoza</td>\n",
       "      <td>Acered</td>\n",
       "      <td>41.17023</td>\n",
       "      <td>-1.604282</td>\n",
       "      <td>835.03050</td>\n",
       "      <td>169</td>\n",
       "      <td>91</td>\n",
       "      <td>78</td>\n",
       "      <td>acered</td>\n",
       "      <td>zaragoza</td>\n",
       "    </tr>\n",
       "    <tr>\n",
       "      <th>2162</th>\n",
       "      <td>Castilla La Mancha</td>\n",
       "      <td>Cuenca</td>\n",
       "      <td>Vega del Codorno</td>\n",
       "      <td>40.42466</td>\n",
       "      <td>-1.913025</td>\n",
       "      <td>1390.01800</td>\n",
       "      <td>172</td>\n",
       "      <td>91</td>\n",
       "      <td>81</td>\n",
       "      <td>vega del codorno</td>\n",
       "      <td>cuenca</td>\n",
       "    </tr>\n",
       "  </tbody>\n",
       "</table>\n",
       "</div>"
      ],
      "text/plain": [
       "               community           province     municipality_name  latitude  \\\n",
       "5760           Catalunya          Tarragona                  Flix  41.22744   \n",
       "926               Aragón             Huesca    Sallent de Gállego  42.77204   \n",
       "6223         Extremadura            Cáceres              Serrejón  39.81802   \n",
       "7535          País Vasco            Vizcaya               Mendexa  43.34639   \n",
       "2736       Castilla León              Ávila             Chamartín  40.70156   \n",
       "1271              Aragón           Zaragoza       Cabañas de Ebro  41.79571   \n",
       "2756       Castilla León              Ávila  Gallegos de Sobrinos  40.71639   \n",
       "5338           Catalunya             Girona         Llosses (Les)  42.15003   \n",
       "6446             Galicia            Ourense        Carballiño (O)  42.42981   \n",
       "432            Andalucía             Huelva                  Lepe  37.25432   \n",
       "4296       Castilla León              Soria               Almarza  41.94652   \n",
       "884               Aragón             Huesca             Laspaúles  42.47078   \n",
       "6730            La Rioja           La Rioja     Laguna de Cameros  42.17510   \n",
       "6414             Galicia               Lugo              Riotorto  43.35972   \n",
       "1813  Castilla La Mancha           Albacete           Madrigueras  39.23705   \n",
       "3483       Castilla León               León          Vecilla (La)  42.84916   \n",
       "5824           Catalunya          Tarragona      Riba-roja d'Ebre  41.25058   \n",
       "2579  Castilla La Mancha             Toledo              Mejorada  40.01009   \n",
       "2109  Castilla La Mancha             Cuenca            Pozorrubio  39.81689   \n",
       "2151  Castilla La Mancha             Cuenca             Valdemeca  40.22374   \n",
       "5424           Catalunya             Girona               Serinyà  42.17041   \n",
       "1238              Aragón           Zaragoza     Aranda de Moncayo  41.57757   \n",
       "3379       Castilla León               León              Gradefes  42.62492   \n",
       "7534          País Vasco            Vizcaya               Mendata  43.28333   \n",
       "2224  Castilla La Mancha        Guadalajara              Arbancón  40.96434   \n",
       "7992            Valencia  Valencia/València               Llombai  39.28243   \n",
       "3359       Castilla León               León             Cistierna  42.80286   \n",
       "175            Andalucía            Córdoba        Fuente Obejuna  38.26675   \n",
       "1209              Aragón           Zaragoza                Acered  41.17023   \n",
       "2162  Castilla La Mancha             Cuenca      Vega del Codorno  40.42466   \n",
       "\n",
       "      longitude    altitude  population   male  female  \\\n",
       "5760   0.544696    89.04555        4098   2081    2017   \n",
       "926   -0.334784  1311.04000        1480    748     732   \n",
       "6223  -5.802053   338.53840         444    216     228   \n",
       "7535  -2.483333   163.86730         437    229     208   \n",
       "2736  -4.958119  1200.41900          93     56      37   \n",
       "1271  -1.163833   218.63090         558    297     261   \n",
       "2756  -5.111902  1165.11600          81     38      43   \n",
       "5338   2.115517   906.84280         234    134     100   \n",
       "6446  -8.077559   401.19740       14114   6631    7483   \n",
       "432   -7.203348    24.53590       25886  13332   12554   \n",
       "4296  -2.469083  1152.27300         655    376     279   \n",
       "884    0.598496  1445.99900         309    184     125   \n",
       "6730  -2.542447  1043.96700         143     86      57   \n",
       "6414  -7.254445   393.78810        1522    747     775   \n",
       "1813  -1.800167   692.87390        4938   2543    2395   \n",
       "3483  -5.405795  1009.37200         437    221     216   \n",
       "5824   0.487664    88.89165        1348    717     631   \n",
       "2579  -4.881894   548.89800        1340    701     639   \n",
       "2109  -2.951034   787.58570         394    193     201   \n",
       "2151  -1.741087  1316.77600         116     61      55   \n",
       "5424   2.744267   188.96480        1095    556     539   \n",
       "1238  -1.791696   905.02750         223    126      97   \n",
       "3379  -5.227446   855.98000        1092    556     536   \n",
       "7534  -2.633333   107.88860         382    202     180   \n",
       "2224  -3.114865   902.12000         188    110      78   \n",
       "7992  -0.572480   102.93830        2811   1435    1376   \n",
       "3359  -5.125302   948.11190        3721   1812    1909   \n",
       "175   -5.419834   622.74980        5269   2683    2586   \n",
       "1209  -1.604282   835.03050         169     91      78   \n",
       "2162  -1.913025  1390.01800         172     91      81   \n",
       "\n",
       "     municipality_name_clean     province_clean  \n",
       "5760                    flix          tarragona  \n",
       "926       sallent de gallego             huesca  \n",
       "6223                serrejon            caceres  \n",
       "7535                 mendexa            vizcaya  \n",
       "2736               chamartin              avila  \n",
       "1271         cabanas de ebro           zaragoza  \n",
       "2756    gallegos de sobrinos              avila  \n",
       "5338            llosses, les             girona  \n",
       "6446           carballino, o            ourense  \n",
       "432                     lepe             huelva  \n",
       "4296                 almarza              soria  \n",
       "884                laspaules             huesca  \n",
       "6730       laguna de cameros           la rioja  \n",
       "6414                riotorto               lugo  \n",
       "1813             madrigueras           albacete  \n",
       "3483             vecilla, la               leon  \n",
       "5824        riba-roja d'ebre          tarragona  \n",
       "2579                mejorada             toledo  \n",
       "2109              pozorrubio             cuenca  \n",
       "2151               valdemeca             cuenca  \n",
       "5424                 serinyà             girona  \n",
       "1238       aranda de moncayo           zaragoza  \n",
       "3379                gradefes               leon  \n",
       "7534                 mendata            vizcaya  \n",
       "2224                arbancon        guadalajara  \n",
       "7992                 llombai  valencia/valencia  \n",
       "3359               cistierna               leon  \n",
       "175           fuente obejuna            cordoba  \n",
       "1209                  acered           zaragoza  \n",
       "2162        vega del codorno             cuenca  "
      ]
     },
     "execution_count": 20,
     "metadata": {},
     "output_type": "execute_result"
    }
   ],
   "source": [
    "df_coordinates.sample(30)"
   ]
  },
  {
   "cell_type": "code",
   "execution_count": 21,
   "metadata": {},
   "outputs": [
    {
     "data": {
      "text/html": [
       "<div>\n",
       "<style scoped>\n",
       "    .dataframe tbody tr th:only-of-type {\n",
       "        vertical-align: middle;\n",
       "    }\n",
       "\n",
       "    .dataframe tbody tr th {\n",
       "        vertical-align: top;\n",
       "    }\n",
       "\n",
       "    .dataframe thead th {\n",
       "        text-align: right;\n",
       "    }\n",
       "</style>\n",
       "<table border=\"1\" class=\"dataframe\">\n",
       "  <thead>\n",
       "    <tr style=\"text-align: right;\">\n",
       "      <th></th>\n",
       "      <th>province_code</th>\n",
       "      <th>province</th>\n",
       "      <th>municipality_code</th>\n",
       "      <th>municipality_name</th>\n",
       "      <th>population</th>\n",
       "      <th>male</th>\n",
       "      <th>female</th>\n",
       "      <th>municipality_name_clean</th>\n",
       "      <th>province_clean</th>\n",
       "    </tr>\n",
       "  </thead>\n",
       "  <tbody>\n",
       "    <tr>\n",
       "      <th>8034</th>\n",
       "      <td>50</td>\n",
       "      <td>Zaragoza</td>\n",
       "      <td>205</td>\n",
       "      <td>Pedrosas, Las</td>\n",
       "      <td>113</td>\n",
       "      <td>56</td>\n",
       "      <td>57</td>\n",
       "      <td>pedrosas, las</td>\n",
       "      <td>zaragoza</td>\n",
       "    </tr>\n",
       "  </tbody>\n",
       "</table>\n",
       "</div>"
      ],
      "text/plain": [
       "      province_code  province  municipality_code municipality_name  \\\n",
       "8034             50  Zaragoza                205     Pedrosas, Las   \n",
       "\n",
       "      population  male  female municipality_name_clean province_clean  \n",
       "8034         113    56      57           pedrosas, las       zaragoza  "
      ]
     },
     "execution_count": 21,
     "metadata": {},
     "output_type": "execute_result"
    }
   ],
   "source": [
    "df_communities\n",
    "df_communities[df_communities['municipality_name_clean'] == \"pedrosas, las\"]"
   ]
  },
  {
   "cell_type": "code",
   "execution_count": 22,
   "metadata": {},
   "outputs": [
    {
     "data": {
      "text/html": [
       "<div>\n",
       "<style scoped>\n",
       "    .dataframe tbody tr th:only-of-type {\n",
       "        vertical-align: middle;\n",
       "    }\n",
       "\n",
       "    .dataframe tbody tr th {\n",
       "        vertical-align: top;\n",
       "    }\n",
       "\n",
       "    .dataframe thead th {\n",
       "        text-align: right;\n",
       "    }\n",
       "</style>\n",
       "<table border=\"1\" class=\"dataframe\">\n",
       "  <thead>\n",
       "    <tr style=\"text-align: right;\">\n",
       "      <th></th>\n",
       "      <th>community</th>\n",
       "      <th>province</th>\n",
       "      <th>municipality_name</th>\n",
       "      <th>latitude</th>\n",
       "      <th>longitude</th>\n",
       "      <th>altitude</th>\n",
       "      <th>population</th>\n",
       "      <th>male</th>\n",
       "      <th>female</th>\n",
       "      <th>municipality_name_clean</th>\n",
       "      <th>province_clean</th>\n",
       "    </tr>\n",
       "  </thead>\n",
       "  <tbody>\n",
       "    <tr>\n",
       "      <th>1407</th>\n",
       "      <td>Aragón</td>\n",
       "      <td>Zaragoza</td>\n",
       "      <td>Pedrosas (Las)</td>\n",
       "      <td>42.03822</td>\n",
       "      <td>-0.876332</td>\n",
       "      <td>459.5541</td>\n",
       "      <td>120</td>\n",
       "      <td>64</td>\n",
       "      <td>56</td>\n",
       "      <td>pedrosas, las</td>\n",
       "      <td>zaragoza</td>\n",
       "    </tr>\n",
       "  </tbody>\n",
       "</table>\n",
       "</div>"
      ],
      "text/plain": [
       "     community  province municipality_name  latitude  longitude  altitude  \\\n",
       "1407    Aragón  Zaragoza    Pedrosas (Las)  42.03822  -0.876332  459.5541   \n",
       "\n",
       "      population  male  female municipality_name_clean province_clean  \n",
       "1407         120    64      56           pedrosas, las       zaragoza  "
      ]
     },
     "execution_count": 22,
     "metadata": {},
     "output_type": "execute_result"
    }
   ],
   "source": [
    "df_coordinates[df_coordinates['municipality_name'] == \"Amurrio\"]\n",
    "df_coordinates[df_coordinates['municipality_name_clean'] == \"pedrosas\"]\n",
    "df_coordinates[df_coordinates['municipality_name'].str.contains(r'pedrosas', case=False, na=False)]"
   ]
  },
  {
   "cell_type": "code",
   "execution_count": 23,
   "metadata": {},
   "outputs": [],
   "source": [
    "df = pd.merge(df_communities, df_coordinates[['altitude', 'longitude', 'latitude', 'municipality_name_clean', 'province_clean']], \n",
    "              on=['municipality_name_clean', 'province_clean'], \n",
    "              how='left')\n",
    "\n",
    "# df = pd.merge(df_coordinates[['altitude', 'longitude', 'latitude', 'municipality_name_clean', 'province_clean']], df_communities, \n",
    "#               on=['municipality_name_clean', 'province_clean'], \n",
    "#               how='left')"
   ]
  },
  {
   "cell_type": "code",
   "execution_count": 24,
   "metadata": {},
   "outputs": [
    {
     "data": {
      "text/html": [
       "<div>\n",
       "<style scoped>\n",
       "    .dataframe tbody tr th:only-of-type {\n",
       "        vertical-align: middle;\n",
       "    }\n",
       "\n",
       "    .dataframe tbody tr th {\n",
       "        vertical-align: top;\n",
       "    }\n",
       "\n",
       "    .dataframe thead th {\n",
       "        text-align: right;\n",
       "    }\n",
       "</style>\n",
       "<table border=\"1\" class=\"dataframe\">\n",
       "  <thead>\n",
       "    <tr style=\"text-align: right;\">\n",
       "      <th></th>\n",
       "      <th>province_code</th>\n",
       "      <th>province</th>\n",
       "      <th>municipality_code</th>\n",
       "      <th>municipality_name</th>\n",
       "      <th>population</th>\n",
       "      <th>male</th>\n",
       "      <th>female</th>\n",
       "      <th>municipality_name_clean</th>\n",
       "      <th>province_clean</th>\n",
       "      <th>altitude</th>\n",
       "      <th>longitude</th>\n",
       "      <th>latitude</th>\n",
       "    </tr>\n",
       "  </thead>\n",
       "  <tbody>\n",
       "    <tr>\n",
       "      <th>0</th>\n",
       "      <td>1</td>\n",
       "      <td>Álava</td>\n",
       "      <td>1</td>\n",
       "      <td>Alegría-Dulantzi</td>\n",
       "      <td>2971</td>\n",
       "      <td>1531</td>\n",
       "      <td>1440</td>\n",
       "      <td>alegria-dulantzi</td>\n",
       "      <td>alava</td>\n",
       "      <td>561.68570</td>\n",
       "      <td>-2.513507</td>\n",
       "      <td>42.84149</td>\n",
       "    </tr>\n",
       "    <tr>\n",
       "      <th>1</th>\n",
       "      <td>1</td>\n",
       "      <td>Álava</td>\n",
       "      <td>2</td>\n",
       "      <td>Amurrio</td>\n",
       "      <td>10330</td>\n",
       "      <td>5149</td>\n",
       "      <td>5181</td>\n",
       "      <td>amurrio</td>\n",
       "      <td>alava</td>\n",
       "      <td>219.69100</td>\n",
       "      <td>-3.001022</td>\n",
       "      <td>43.05265</td>\n",
       "    </tr>\n",
       "    <tr>\n",
       "      <th>2</th>\n",
       "      <td>1</td>\n",
       "      <td>Álava</td>\n",
       "      <td>3</td>\n",
       "      <td>Aramaio</td>\n",
       "      <td>1381</td>\n",
       "      <td>709</td>\n",
       "      <td>672</td>\n",
       "      <td>aramaio</td>\n",
       "      <td>alava</td>\n",
       "      <td>381.87970</td>\n",
       "      <td>-2.566000</td>\n",
       "      <td>43.05400</td>\n",
       "    </tr>\n",
       "    <tr>\n",
       "      <th>3</th>\n",
       "      <td>1</td>\n",
       "      <td>Álava</td>\n",
       "      <td>4</td>\n",
       "      <td>Artziniega</td>\n",
       "      <td>1856</td>\n",
       "      <td>913</td>\n",
       "      <td>943</td>\n",
       "      <td>artziniega</td>\n",
       "      <td>alava</td>\n",
       "      <td>196.98080</td>\n",
       "      <td>-3.128209</td>\n",
       "      <td>43.12220</td>\n",
       "    </tr>\n",
       "    <tr>\n",
       "      <th>4</th>\n",
       "      <td>1</td>\n",
       "      <td>Álava</td>\n",
       "      <td>6</td>\n",
       "      <td>Armiñón</td>\n",
       "      <td>247</td>\n",
       "      <td>127</td>\n",
       "      <td>120</td>\n",
       "      <td>arminon</td>\n",
       "      <td>alava</td>\n",
       "      <td>463.58150</td>\n",
       "      <td>-2.872574</td>\n",
       "      <td>42.72305</td>\n",
       "    </tr>\n",
       "    <tr>\n",
       "      <th>...</th>\n",
       "      <td>...</td>\n",
       "      <td>...</td>\n",
       "      <td>...</td>\n",
       "      <td>...</td>\n",
       "      <td>...</td>\n",
       "      <td>...</td>\n",
       "      <td>...</td>\n",
       "      <td>...</td>\n",
       "      <td>...</td>\n",
       "      <td>...</td>\n",
       "      <td>...</td>\n",
       "      <td>...</td>\n",
       "    </tr>\n",
       "    <tr>\n",
       "      <th>8128</th>\n",
       "      <td>50</td>\n",
       "      <td>Zaragoza</td>\n",
       "      <td>901</td>\n",
       "      <td>Biel</td>\n",
       "      <td>170</td>\n",
       "      <td>104</td>\n",
       "      <td>66</td>\n",
       "      <td>biel</td>\n",
       "      <td>zaragoza</td>\n",
       "      <td>754.24450</td>\n",
       "      <td>-0.936588</td>\n",
       "      <td>42.38749</td>\n",
       "    </tr>\n",
       "    <tr>\n",
       "      <th>8129</th>\n",
       "      <td>50</td>\n",
       "      <td>Zaragoza</td>\n",
       "      <td>902</td>\n",
       "      <td>Marracos</td>\n",
       "      <td>85</td>\n",
       "      <td>43</td>\n",
       "      <td>42</td>\n",
       "      <td>marracos</td>\n",
       "      <td>zaragoza</td>\n",
       "      <td>404.73610</td>\n",
       "      <td>-0.776047</td>\n",
       "      <td>42.09059</td>\n",
       "    </tr>\n",
       "    <tr>\n",
       "      <th>8130</th>\n",
       "      <td>50</td>\n",
       "      <td>Zaragoza</td>\n",
       "      <td>903</td>\n",
       "      <td>Villamayor de Gállego</td>\n",
       "      <td>2854</td>\n",
       "      <td>1446</td>\n",
       "      <td>1408</td>\n",
       "      <td>villamayor de gallego</td>\n",
       "      <td>zaragoza</td>\n",
       "      <td>231.12340</td>\n",
       "      <td>-0.773315</td>\n",
       "      <td>41.68518</td>\n",
       "    </tr>\n",
       "    <tr>\n",
       "      <th>8131</th>\n",
       "      <td>51</td>\n",
       "      <td>Ceuta</td>\n",
       "      <td>1</td>\n",
       "      <td>Ceuta</td>\n",
       "      <td>83229</td>\n",
       "      <td>41980</td>\n",
       "      <td>41249</td>\n",
       "      <td>ceuta</td>\n",
       "      <td>ceuta</td>\n",
       "      <td>13.47725</td>\n",
       "      <td>-5.316195</td>\n",
       "      <td>35.88829</td>\n",
       "    </tr>\n",
       "    <tr>\n",
       "      <th>8132</th>\n",
       "      <td>52</td>\n",
       "      <td>Melilla</td>\n",
       "      <td>1</td>\n",
       "      <td>Melilla</td>\n",
       "      <td>85811</td>\n",
       "      <td>43154</td>\n",
       "      <td>42657</td>\n",
       "      <td>melilla</td>\n",
       "      <td>melilla</td>\n",
       "      <td>10.33370</td>\n",
       "      <td>-2.938794</td>\n",
       "      <td>35.29234</td>\n",
       "    </tr>\n",
       "  </tbody>\n",
       "</table>\n",
       "<p>8133 rows × 12 columns</p>\n",
       "</div>"
      ],
      "text/plain": [
       "      province_code  province  municipality_code      municipality_name  \\\n",
       "0                 1     Álava                  1       Alegría-Dulantzi   \n",
       "1                 1     Álava                  2                Amurrio   \n",
       "2                 1     Álava                  3                Aramaio   \n",
       "3                 1     Álava                  4             Artziniega   \n",
       "4                 1     Álava                  6                Armiñón   \n",
       "...             ...       ...                ...                    ...   \n",
       "8128             50  Zaragoza                901                   Biel   \n",
       "8129             50  Zaragoza                902               Marracos   \n",
       "8130             50  Zaragoza                903  Villamayor de Gállego   \n",
       "8131             51     Ceuta                  1                  Ceuta   \n",
       "8132             52   Melilla                  1                Melilla   \n",
       "\n",
       "      population   male  female municipality_name_clean province_clean  \\\n",
       "0           2971   1531    1440        alegria-dulantzi          alava   \n",
       "1          10330   5149    5181                 amurrio          alava   \n",
       "2           1381    709     672                 aramaio          alava   \n",
       "3           1856    913     943              artziniega          alava   \n",
       "4            247    127     120                 arminon          alava   \n",
       "...          ...    ...     ...                     ...            ...   \n",
       "8128         170    104      66                    biel       zaragoza   \n",
       "8129          85     43      42                marracos       zaragoza   \n",
       "8130        2854   1446    1408   villamayor de gallego       zaragoza   \n",
       "8131       83229  41980   41249                   ceuta          ceuta   \n",
       "8132       85811  43154   42657                 melilla        melilla   \n",
       "\n",
       "       altitude  longitude  latitude  \n",
       "0     561.68570  -2.513507  42.84149  \n",
       "1     219.69100  -3.001022  43.05265  \n",
       "2     381.87970  -2.566000  43.05400  \n",
       "3     196.98080  -3.128209  43.12220  \n",
       "4     463.58150  -2.872574  42.72305  \n",
       "...         ...        ...       ...  \n",
       "8128  754.24450  -0.936588  42.38749  \n",
       "8129  404.73610  -0.776047  42.09059  \n",
       "8130  231.12340  -0.773315  41.68518  \n",
       "8131   13.47725  -5.316195  35.88829  \n",
       "8132   10.33370  -2.938794  35.29234  \n",
       "\n",
       "[8133 rows x 12 columns]"
      ]
     },
     "execution_count": 24,
     "metadata": {},
     "output_type": "execute_result"
    }
   ],
   "source": [
    "df"
   ]
  },
  {
   "cell_type": "code",
   "execution_count": 25,
   "metadata": {},
   "outputs": [
    {
     "data": {
      "text/plain": [
       "province_code                0\n",
       "province                     0\n",
       "municipality_code            0\n",
       "municipality_name            0\n",
       "population                   0\n",
       "male                         0\n",
       "female                       0\n",
       "municipality_name_clean      0\n",
       "province_clean               0\n",
       "altitude                   896\n",
       "longitude                  896\n",
       "latitude                   896\n",
       "dtype: int64"
      ]
     },
     "execution_count": 25,
     "metadata": {},
     "output_type": "execute_result"
    }
   ],
   "source": [
    "df.isnull().sum()"
   ]
  },
  {
   "cell_type": "code",
   "execution_count": 26,
   "metadata": {},
   "outputs": [
    {
     "data": {
      "text/html": [
       "<div>\n",
       "<style scoped>\n",
       "    .dataframe tbody tr th:only-of-type {\n",
       "        vertical-align: middle;\n",
       "    }\n",
       "\n",
       "    .dataframe tbody tr th {\n",
       "        vertical-align: top;\n",
       "    }\n",
       "\n",
       "    .dataframe thead th {\n",
       "        text-align: right;\n",
       "    }\n",
       "</style>\n",
       "<table border=\"1\" class=\"dataframe\">\n",
       "  <thead>\n",
       "    <tr style=\"text-align: right;\">\n",
       "      <th></th>\n",
       "      <th>province_code</th>\n",
       "      <th>province</th>\n",
       "      <th>municipality_code</th>\n",
       "      <th>municipality_name</th>\n",
       "      <th>population</th>\n",
       "      <th>male</th>\n",
       "      <th>female</th>\n",
       "      <th>municipality_name_clean</th>\n",
       "      <th>province_clean</th>\n",
       "      <th>altitude</th>\n",
       "      <th>longitude</th>\n",
       "      <th>latitude</th>\n",
       "    </tr>\n",
       "  </thead>\n",
       "  <tbody>\n",
       "    <tr>\n",
       "      <th>5</th>\n",
       "      <td>1</td>\n",
       "      <td>Álava</td>\n",
       "      <td>8</td>\n",
       "      <td>Arratzua-Ubarrundia</td>\n",
       "      <td>1047</td>\n",
       "      <td>552</td>\n",
       "      <td>495</td>\n",
       "      <td>arratzua-ubarrundia</td>\n",
       "      <td>alava</td>\n",
       "      <td>NaN</td>\n",
       "      <td>NaN</td>\n",
       "      <td>NaN</td>\n",
       "    </tr>\n",
       "    <tr>\n",
       "      <th>28</th>\n",
       "      <td>1</td>\n",
       "      <td>Álava</td>\n",
       "      <td>39</td>\n",
       "      <td>Moreda de Álava/Moreda Araba</td>\n",
       "      <td>215</td>\n",
       "      <td>114</td>\n",
       "      <td>101</td>\n",
       "      <td>moreda de alava/moreda araba</td>\n",
       "      <td>alava</td>\n",
       "      <td>NaN</td>\n",
       "      <td>NaN</td>\n",
       "      <td>NaN</td>\n",
       "    </tr>\n",
       "    <tr>\n",
       "      <th>34</th>\n",
       "      <td>1</td>\n",
       "      <td>Álava</td>\n",
       "      <td>47</td>\n",
       "      <td>Ribera Baja/Erriberabeitia</td>\n",
       "      <td>1439</td>\n",
       "      <td>767</td>\n",
       "      <td>672</td>\n",
       "      <td>ribera baja/erriberabeitia</td>\n",
       "      <td>alava</td>\n",
       "      <td>NaN</td>\n",
       "      <td>NaN</td>\n",
       "      <td>NaN</td>\n",
       "    </tr>\n",
       "    <tr>\n",
       "      <th>36</th>\n",
       "      <td>1</td>\n",
       "      <td>Álava</td>\n",
       "      <td>51</td>\n",
       "      <td>Agurain/Salvatierra</td>\n",
       "      <td>5155</td>\n",
       "      <td>2601</td>\n",
       "      <td>2554</td>\n",
       "      <td>agurain/salvatierra</td>\n",
       "      <td>alava</td>\n",
       "      <td>NaN</td>\n",
       "      <td>NaN</td>\n",
       "      <td>NaN</td>\n",
       "    </tr>\n",
       "    <tr>\n",
       "      <th>43</th>\n",
       "      <td>1</td>\n",
       "      <td>Álava</td>\n",
       "      <td>58</td>\n",
       "      <td>Legutio</td>\n",
       "      <td>2086</td>\n",
       "      <td>1078</td>\n",
       "      <td>1008</td>\n",
       "      <td>legutio</td>\n",
       "      <td>alava</td>\n",
       "      <td>NaN</td>\n",
       "      <td>NaN</td>\n",
       "      <td>NaN</td>\n",
       "    </tr>\n",
       "    <tr>\n",
       "      <th>...</th>\n",
       "      <td>...</td>\n",
       "      <td>...</td>\n",
       "      <td>...</td>\n",
       "      <td>...</td>\n",
       "      <td>...</td>\n",
       "      <td>...</td>\n",
       "      <td>...</td>\n",
       "      <td>...</td>\n",
       "      <td>...</td>\n",
       "      <td>...</td>\n",
       "      <td>...</td>\n",
       "      <td>...</td>\n",
       "    </tr>\n",
       "    <tr>\n",
       "      <th>7589</th>\n",
       "      <td>48</td>\n",
       "      <td>Bizkaia</td>\n",
       "      <td>916</td>\n",
       "      <td>Usansolo</td>\n",
       "      <td>4572</td>\n",
       "      <td>2250</td>\n",
       "      <td>2322</td>\n",
       "      <td>usansolo</td>\n",
       "      <td>bizkaia</td>\n",
       "      <td>NaN</td>\n",
       "      <td>NaN</td>\n",
       "      <td>NaN</td>\n",
       "    </tr>\n",
       "    <tr>\n",
       "      <th>7612</th>\n",
       "      <td>49</td>\n",
       "      <td>Zamora</td>\n",
       "      <td>24</td>\n",
       "      <td>Bóveda de Toro, La</td>\n",
       "      <td>676</td>\n",
       "      <td>348</td>\n",
       "      <td>328</td>\n",
       "      <td>boveda de toro, la</td>\n",
       "      <td>zamora</td>\n",
       "      <td>NaN</td>\n",
       "      <td>NaN</td>\n",
       "      <td>NaN</td>\n",
       "    </tr>\n",
       "    <tr>\n",
       "      <th>7639</th>\n",
       "      <td>49</td>\n",
       "      <td>Zamora</td>\n",
       "      <td>54</td>\n",
       "      <td>Corrales del Vino</td>\n",
       "      <td>929</td>\n",
       "      <td>461</td>\n",
       "      <td>468</td>\n",
       "      <td>corrales del vino</td>\n",
       "      <td>zamora</td>\n",
       "      <td>NaN</td>\n",
       "      <td>NaN</td>\n",
       "      <td>NaN</td>\n",
       "    </tr>\n",
       "    <tr>\n",
       "      <th>7785</th>\n",
       "      <td>49</td>\n",
       "      <td>Zamora</td>\n",
       "      <td>220</td>\n",
       "      <td>Torre del Valle, La</td>\n",
       "      <td>125</td>\n",
       "      <td>68</td>\n",
       "      <td>57</td>\n",
       "      <td>torre del valle, la</td>\n",
       "      <td>zamora</td>\n",
       "      <td>NaN</td>\n",
       "      <td>NaN</td>\n",
       "      <td>NaN</td>\n",
       "    </tr>\n",
       "    <tr>\n",
       "      <th>7962</th>\n",
       "      <td>50</td>\n",
       "      <td>Zaragoza</td>\n",
       "      <td>130</td>\n",
       "      <td>Jarque de Moncayo</td>\n",
       "      <td>381</td>\n",
       "      <td>201</td>\n",
       "      <td>180</td>\n",
       "      <td>jarque de moncayo</td>\n",
       "      <td>zaragoza</td>\n",
       "      <td>NaN</td>\n",
       "      <td>NaN</td>\n",
       "      <td>NaN</td>\n",
       "    </tr>\n",
       "  </tbody>\n",
       "</table>\n",
       "<p>896 rows × 12 columns</p>\n",
       "</div>"
      ],
      "text/plain": [
       "      province_code  province  municipality_code  \\\n",
       "5                 1     Álava                  8   \n",
       "28                1     Álava                 39   \n",
       "34                1     Álava                 47   \n",
       "36                1     Álava                 51   \n",
       "43                1     Álava                 58   \n",
       "...             ...       ...                ...   \n",
       "7589             48   Bizkaia                916   \n",
       "7612             49    Zamora                 24   \n",
       "7639             49    Zamora                 54   \n",
       "7785             49    Zamora                220   \n",
       "7962             50  Zaragoza                130   \n",
       "\n",
       "                 municipality_name  population  male  female  \\\n",
       "5              Arratzua-Ubarrundia        1047   552     495   \n",
       "28    Moreda de Álava/Moreda Araba         215   114     101   \n",
       "34      Ribera Baja/Erriberabeitia        1439   767     672   \n",
       "36             Agurain/Salvatierra        5155  2601    2554   \n",
       "43                         Legutio        2086  1078    1008   \n",
       "...                            ...         ...   ...     ...   \n",
       "7589                      Usansolo        4572  2250    2322   \n",
       "7612            Bóveda de Toro, La         676   348     328   \n",
       "7639             Corrales del Vino         929   461     468   \n",
       "7785           Torre del Valle, La         125    68      57   \n",
       "7962             Jarque de Moncayo         381   201     180   \n",
       "\n",
       "           municipality_name_clean province_clean  altitude  longitude  \\\n",
       "5              arratzua-ubarrundia          alava       NaN        NaN   \n",
       "28    moreda de alava/moreda araba          alava       NaN        NaN   \n",
       "34      ribera baja/erriberabeitia          alava       NaN        NaN   \n",
       "36             agurain/salvatierra          alava       NaN        NaN   \n",
       "43                         legutio          alava       NaN        NaN   \n",
       "...                            ...            ...       ...        ...   \n",
       "7589                      usansolo        bizkaia       NaN        NaN   \n",
       "7612            boveda de toro, la         zamora       NaN        NaN   \n",
       "7639             corrales del vino         zamora       NaN        NaN   \n",
       "7785           torre del valle, la         zamora       NaN        NaN   \n",
       "7962             jarque de moncayo       zaragoza       NaN        NaN   \n",
       "\n",
       "      latitude  \n",
       "5          NaN  \n",
       "28         NaN  \n",
       "34         NaN  \n",
       "36         NaN  \n",
       "43         NaN  \n",
       "...        ...  \n",
       "7589       NaN  \n",
       "7612       NaN  \n",
       "7639       NaN  \n",
       "7785       NaN  \n",
       "7962       NaN  \n",
       "\n",
       "[896 rows x 12 columns]"
      ]
     },
     "execution_count": 26,
     "metadata": {},
     "output_type": "execute_result"
    }
   ],
   "source": [
    "# Display rows with any NaN values and count them\n",
    "nan_rows = df[df.isna().any(axis=1)]\n",
    "nan_rows"
   ]
  },
  {
   "cell_type": "code",
   "execution_count": 28,
   "metadata": {},
   "outputs": [
    {
     "data": {
      "text/html": [
       "<div>\n",
       "<style scoped>\n",
       "    .dataframe tbody tr th:only-of-type {\n",
       "        vertical-align: middle;\n",
       "    }\n",
       "\n",
       "    .dataframe tbody tr th {\n",
       "        vertical-align: top;\n",
       "    }\n",
       "\n",
       "    .dataframe thead th {\n",
       "        text-align: right;\n",
       "    }\n",
       "</style>\n",
       "<table border=\"1\" class=\"dataframe\">\n",
       "  <thead>\n",
       "    <tr style=\"text-align: right;\">\n",
       "      <th></th>\n",
       "      <th>province_code</th>\n",
       "      <th>province</th>\n",
       "      <th>municipality_code</th>\n",
       "      <th>municipality_name</th>\n",
       "      <th>population</th>\n",
       "      <th>male</th>\n",
       "      <th>female</th>\n",
       "      <th>municipality_name_clean</th>\n",
       "      <th>province_clean</th>\n",
       "      <th>altitude</th>\n",
       "      <th>longitude</th>\n",
       "      <th>latitude</th>\n",
       "    </tr>\n",
       "  </thead>\n",
       "  <tbody>\n",
       "    <tr>\n",
       "      <th>0</th>\n",
       "      <td>1</td>\n",
       "      <td>Álava</td>\n",
       "      <td>1</td>\n",
       "      <td>Alegría-Dulantzi</td>\n",
       "      <td>2971</td>\n",
       "      <td>1531</td>\n",
       "      <td>1440</td>\n",
       "      <td>alegria-dulantzi</td>\n",
       "      <td>alava</td>\n",
       "      <td>561.68570</td>\n",
       "      <td>-2.513507</td>\n",
       "      <td>42.84149</td>\n",
       "    </tr>\n",
       "    <tr>\n",
       "      <th>1</th>\n",
       "      <td>1</td>\n",
       "      <td>Álava</td>\n",
       "      <td>2</td>\n",
       "      <td>Amurrio</td>\n",
       "      <td>10330</td>\n",
       "      <td>5149</td>\n",
       "      <td>5181</td>\n",
       "      <td>amurrio</td>\n",
       "      <td>alava</td>\n",
       "      <td>219.69100</td>\n",
       "      <td>-3.001022</td>\n",
       "      <td>43.05265</td>\n",
       "    </tr>\n",
       "    <tr>\n",
       "      <th>2</th>\n",
       "      <td>1</td>\n",
       "      <td>Álava</td>\n",
       "      <td>3</td>\n",
       "      <td>Aramaio</td>\n",
       "      <td>1381</td>\n",
       "      <td>709</td>\n",
       "      <td>672</td>\n",
       "      <td>aramaio</td>\n",
       "      <td>alava</td>\n",
       "      <td>381.87970</td>\n",
       "      <td>-2.566000</td>\n",
       "      <td>43.05400</td>\n",
       "    </tr>\n",
       "    <tr>\n",
       "      <th>3</th>\n",
       "      <td>1</td>\n",
       "      <td>Álava</td>\n",
       "      <td>4</td>\n",
       "      <td>Artziniega</td>\n",
       "      <td>1856</td>\n",
       "      <td>913</td>\n",
       "      <td>943</td>\n",
       "      <td>artziniega</td>\n",
       "      <td>alava</td>\n",
       "      <td>196.98080</td>\n",
       "      <td>-3.128209</td>\n",
       "      <td>43.12220</td>\n",
       "    </tr>\n",
       "    <tr>\n",
       "      <th>4</th>\n",
       "      <td>1</td>\n",
       "      <td>Álava</td>\n",
       "      <td>6</td>\n",
       "      <td>Armiñón</td>\n",
       "      <td>247</td>\n",
       "      <td>127</td>\n",
       "      <td>120</td>\n",
       "      <td>arminon</td>\n",
       "      <td>alava</td>\n",
       "      <td>463.58150</td>\n",
       "      <td>-2.872574</td>\n",
       "      <td>42.72305</td>\n",
       "    </tr>\n",
       "    <tr>\n",
       "      <th>...</th>\n",
       "      <td>...</td>\n",
       "      <td>...</td>\n",
       "      <td>...</td>\n",
       "      <td>...</td>\n",
       "      <td>...</td>\n",
       "      <td>...</td>\n",
       "      <td>...</td>\n",
       "      <td>...</td>\n",
       "      <td>...</td>\n",
       "      <td>...</td>\n",
       "      <td>...</td>\n",
       "      <td>...</td>\n",
       "    </tr>\n",
       "    <tr>\n",
       "      <th>8128</th>\n",
       "      <td>50</td>\n",
       "      <td>Zaragoza</td>\n",
       "      <td>901</td>\n",
       "      <td>Biel</td>\n",
       "      <td>170</td>\n",
       "      <td>104</td>\n",
       "      <td>66</td>\n",
       "      <td>biel</td>\n",
       "      <td>zaragoza</td>\n",
       "      <td>754.24450</td>\n",
       "      <td>-0.936588</td>\n",
       "      <td>42.38749</td>\n",
       "    </tr>\n",
       "    <tr>\n",
       "      <th>8129</th>\n",
       "      <td>50</td>\n",
       "      <td>Zaragoza</td>\n",
       "      <td>902</td>\n",
       "      <td>Marracos</td>\n",
       "      <td>85</td>\n",
       "      <td>43</td>\n",
       "      <td>42</td>\n",
       "      <td>marracos</td>\n",
       "      <td>zaragoza</td>\n",
       "      <td>404.73610</td>\n",
       "      <td>-0.776047</td>\n",
       "      <td>42.09059</td>\n",
       "    </tr>\n",
       "    <tr>\n",
       "      <th>8130</th>\n",
       "      <td>50</td>\n",
       "      <td>Zaragoza</td>\n",
       "      <td>903</td>\n",
       "      <td>Villamayor de Gállego</td>\n",
       "      <td>2854</td>\n",
       "      <td>1446</td>\n",
       "      <td>1408</td>\n",
       "      <td>villamayor de gallego</td>\n",
       "      <td>zaragoza</td>\n",
       "      <td>231.12340</td>\n",
       "      <td>-0.773315</td>\n",
       "      <td>41.68518</td>\n",
       "    </tr>\n",
       "    <tr>\n",
       "      <th>8131</th>\n",
       "      <td>51</td>\n",
       "      <td>Ceuta</td>\n",
       "      <td>1</td>\n",
       "      <td>Ceuta</td>\n",
       "      <td>83229</td>\n",
       "      <td>41980</td>\n",
       "      <td>41249</td>\n",
       "      <td>ceuta</td>\n",
       "      <td>ceuta</td>\n",
       "      <td>13.47725</td>\n",
       "      <td>-5.316195</td>\n",
       "      <td>35.88829</td>\n",
       "    </tr>\n",
       "    <tr>\n",
       "      <th>8132</th>\n",
       "      <td>52</td>\n",
       "      <td>Melilla</td>\n",
       "      <td>1</td>\n",
       "      <td>Melilla</td>\n",
       "      <td>85811</td>\n",
       "      <td>43154</td>\n",
       "      <td>42657</td>\n",
       "      <td>melilla</td>\n",
       "      <td>melilla</td>\n",
       "      <td>10.33370</td>\n",
       "      <td>-2.938794</td>\n",
       "      <td>35.29234</td>\n",
       "    </tr>\n",
       "  </tbody>\n",
       "</table>\n",
       "<p>8133 rows × 12 columns</p>\n",
       "</div>"
      ],
      "text/plain": [
       "      province_code  province  municipality_code      municipality_name  \\\n",
       "0                 1     Álava                  1       Alegría-Dulantzi   \n",
       "1                 1     Álava                  2                Amurrio   \n",
       "2                 1     Álava                  3                Aramaio   \n",
       "3                 1     Álava                  4             Artziniega   \n",
       "4                 1     Álava                  6                Armiñón   \n",
       "...             ...       ...                ...                    ...   \n",
       "8128             50  Zaragoza                901                   Biel   \n",
       "8129             50  Zaragoza                902               Marracos   \n",
       "8130             50  Zaragoza                903  Villamayor de Gállego   \n",
       "8131             51     Ceuta                  1                  Ceuta   \n",
       "8132             52   Melilla                  1                Melilla   \n",
       "\n",
       "      population   male  female municipality_name_clean province_clean  \\\n",
       "0           2971   1531    1440        alegria-dulantzi          alava   \n",
       "1          10330   5149    5181                 amurrio          alava   \n",
       "2           1381    709     672                 aramaio          alava   \n",
       "3           1856    913     943              artziniega          alava   \n",
       "4            247    127     120                 arminon          alava   \n",
       "...          ...    ...     ...                     ...            ...   \n",
       "8128         170    104      66                    biel       zaragoza   \n",
       "8129          85     43      42                marracos       zaragoza   \n",
       "8130        2854   1446    1408   villamayor de gallego       zaragoza   \n",
       "8131       83229  41980   41249                   ceuta          ceuta   \n",
       "8132       85811  43154   42657                 melilla        melilla   \n",
       "\n",
       "       altitude  longitude  latitude  \n",
       "0     561.68570  -2.513507  42.84149  \n",
       "1     219.69100  -3.001022  43.05265  \n",
       "2     381.87970  -2.566000  43.05400  \n",
       "3     196.98080  -3.128209  43.12220  \n",
       "4     463.58150  -2.872574  42.72305  \n",
       "...         ...        ...       ...  \n",
       "8128  754.24450  -0.936588  42.38749  \n",
       "8129  404.73610  -0.776047  42.09059  \n",
       "8130  231.12340  -0.773315  41.68518  \n",
       "8131   13.47725  -5.316195  35.88829  \n",
       "8132   10.33370  -2.938794  35.29234  \n",
       "\n",
       "[8133 rows x 12 columns]"
      ]
     },
     "execution_count": 28,
     "metadata": {},
     "output_type": "execute_result"
    }
   ],
   "source": [
    "df"
   ]
  },
  {
   "cell_type": "markdown",
   "metadata": {},
   "source": [
    "## Problems\n",
    "\n",
    "Spelling is different in the two dataset, we might have to remove the accents first"
   ]
  },
  {
   "cell_type": "code",
   "execution_count": 29,
   "metadata": {},
   "outputs": [
    {
     "data": {
      "text/html": [
       "<div>\n",
       "<style scoped>\n",
       "    .dataframe tbody tr th:only-of-type {\n",
       "        vertical-align: middle;\n",
       "    }\n",
       "\n",
       "    .dataframe tbody tr th {\n",
       "        vertical-align: top;\n",
       "    }\n",
       "\n",
       "    .dataframe thead th {\n",
       "        text-align: right;\n",
       "    }\n",
       "</style>\n",
       "<table border=\"1\" class=\"dataframe\">\n",
       "  <thead>\n",
       "    <tr style=\"text-align: right;\">\n",
       "      <th></th>\n",
       "      <th>province_code</th>\n",
       "      <th>province</th>\n",
       "      <th>municipality_code</th>\n",
       "      <th>municipality_name</th>\n",
       "      <th>population</th>\n",
       "      <th>male</th>\n",
       "      <th>female</th>\n",
       "      <th>municipality_name_clean</th>\n",
       "      <th>province_clean</th>\n",
       "    </tr>\n",
       "  </thead>\n",
       "  <tbody>\n",
       "    <tr>\n",
       "      <th>768</th>\n",
       "      <td>6</td>\n",
       "      <td>Badajoz</td>\n",
       "      <td>139</td>\n",
       "      <td>Valencia de las Torres</td>\n",
       "      <td>480</td>\n",
       "      <td>256</td>\n",
       "      <td>224</td>\n",
       "      <td>valencia de las torres</td>\n",
       "      <td>badajoz</td>\n",
       "    </tr>\n",
       "    <tr>\n",
       "      <th>769</th>\n",
       "      <td>6</td>\n",
       "      <td>Badajoz</td>\n",
       "      <td>140</td>\n",
       "      <td>Valencia del Mombuey</td>\n",
       "      <td>713</td>\n",
       "      <td>369</td>\n",
       "      <td>344</td>\n",
       "      <td>valencia del mombuey</td>\n",
       "      <td>badajoz</td>\n",
       "    </tr>\n",
       "    <tr>\n",
       "      <th>770</th>\n",
       "      <td>6</td>\n",
       "      <td>Badajoz</td>\n",
       "      <td>141</td>\n",
       "      <td>Valencia del Ventoso</td>\n",
       "      <td>1885</td>\n",
       "      <td>953</td>\n",
       "      <td>932</td>\n",
       "      <td>valencia del ventoso</td>\n",
       "      <td>badajoz</td>\n",
       "    </tr>\n",
       "    <tr>\n",
       "      <th>1745</th>\n",
       "      <td>10</td>\n",
       "      <td>Cáceres</td>\n",
       "      <td>203</td>\n",
       "      <td>Valencia de Alcántara</td>\n",
       "      <td>5196</td>\n",
       "      <td>2562</td>\n",
       "      <td>2634</td>\n",
       "      <td>valencia de alcantara</td>\n",
       "      <td>caceres</td>\n",
       "    </tr>\n",
       "    <tr>\n",
       "      <th>3779</th>\n",
       "      <td>24</td>\n",
       "      <td>León</td>\n",
       "      <td>188</td>\n",
       "      <td>Valencia de Don Juan</td>\n",
       "      <td>5094</td>\n",
       "      <td>2470</td>\n",
       "      <td>2624</td>\n",
       "      <td>valencia de don juan</td>\n",
       "      <td>leon</td>\n",
       "    </tr>\n",
       "    <tr>\n",
       "      <th>7234</th>\n",
       "      <td>46</td>\n",
       "      <td>Valencia</td>\n",
       "      <td>250</td>\n",
       "      <td>València</td>\n",
       "      <td>825948</td>\n",
       "      <td>391970</td>\n",
       "      <td>433978</td>\n",
       "      <td>valencia</td>\n",
       "      <td>valencia</td>\n",
       "    </tr>\n",
       "  </tbody>\n",
       "</table>\n",
       "</div>"
      ],
      "text/plain": [
       "      province_code  province  municipality_code       municipality_name  \\\n",
       "768               6   Badajoz                139  Valencia de las Torres   \n",
       "769               6   Badajoz                140    Valencia del Mombuey   \n",
       "770               6   Badajoz                141    Valencia del Ventoso   \n",
       "1745             10   Cáceres                203   Valencia de Alcántara   \n",
       "3779             24      León                188    Valencia de Don Juan   \n",
       "7234             46  Valencia                250                València   \n",
       "\n",
       "      population    male  female municipality_name_clean province_clean  \n",
       "768          480     256     224  valencia de las torres        badajoz  \n",
       "769          713     369     344    valencia del mombuey        badajoz  \n",
       "770         1885     953     932    valencia del ventoso        badajoz  \n",
       "1745        5196    2562    2634   valencia de alcantara        caceres  \n",
       "3779        5094    2470    2624    valencia de don juan           leon  \n",
       "7234      825948  391970  433978                valencia       valencia  "
      ]
     },
     "execution_count": 29,
     "metadata": {},
     "output_type": "execute_result"
    }
   ],
   "source": [
    "df_communities[df_communities['municipality_name'].str.contains(r'Val.*ncia', case=False, na=False)]"
   ]
  },
  {
   "cell_type": "code",
   "execution_count": 30,
   "metadata": {},
   "outputs": [
    {
     "data": {
      "text/html": [
       "<div>\n",
       "<style scoped>\n",
       "    .dataframe tbody tr th:only-of-type {\n",
       "        vertical-align: middle;\n",
       "    }\n",
       "\n",
       "    .dataframe tbody tr th {\n",
       "        vertical-align: top;\n",
       "    }\n",
       "\n",
       "    .dataframe thead th {\n",
       "        text-align: right;\n",
       "    }\n",
       "</style>\n",
       "<table border=\"1\" class=\"dataframe\">\n",
       "  <thead>\n",
       "    <tr style=\"text-align: right;\">\n",
       "      <th></th>\n",
       "      <th>community</th>\n",
       "      <th>province</th>\n",
       "      <th>municipality_name</th>\n",
       "      <th>latitude</th>\n",
       "      <th>longitude</th>\n",
       "      <th>altitude</th>\n",
       "      <th>population</th>\n",
       "      <th>male</th>\n",
       "      <th>female</th>\n",
       "      <th>municipality_name_clean</th>\n",
       "      <th>province_clean</th>\n",
       "    </tr>\n",
       "  </thead>\n",
       "  <tbody>\n",
       "    <tr>\n",
       "      <th>3479</th>\n",
       "      <td>Castilla León</td>\n",
       "      <td>León</td>\n",
       "      <td>Valencia de Don Juan</td>\n",
       "      <td>42.29401</td>\n",
       "      <td>-5.519861</td>\n",
       "      <td>767.8869</td>\n",
       "      <td>5083</td>\n",
       "      <td>2505</td>\n",
       "      <td>2578</td>\n",
       "      <td>valencia de don juan</td>\n",
       "      <td>leon</td>\n",
       "    </tr>\n",
       "    <tr>\n",
       "      <th>6024</th>\n",
       "      <td>Extremadura</td>\n",
       "      <td>Badajoz</td>\n",
       "      <td>Valencia de las Torres</td>\n",
       "      <td>38.40500</td>\n",
       "      <td>-6.003782</td>\n",
       "      <td>514.0270</td>\n",
       "      <td>687</td>\n",
       "      <td>358</td>\n",
       "      <td>329</td>\n",
       "      <td>valencia de las torres</td>\n",
       "      <td>badajoz</td>\n",
       "    </tr>\n",
       "    <tr>\n",
       "      <th>6025</th>\n",
       "      <td>Extremadura</td>\n",
       "      <td>Badajoz</td>\n",
       "      <td>Valencia del Mombuey</td>\n",
       "      <td>38.24256</td>\n",
       "      <td>-7.119643</td>\n",
       "      <td>295.6457</td>\n",
       "      <td>782</td>\n",
       "      <td>400</td>\n",
       "      <td>382</td>\n",
       "      <td>valencia del mombuey</td>\n",
       "      <td>badajoz</td>\n",
       "    </tr>\n",
       "    <tr>\n",
       "      <th>6026</th>\n",
       "      <td>Extremadura</td>\n",
       "      <td>Badajoz</td>\n",
       "      <td>Valencia del Ventoso</td>\n",
       "      <td>38.26500</td>\n",
       "      <td>-6.474613</td>\n",
       "      <td>496.0627</td>\n",
       "      <td>2249</td>\n",
       "      <td>1130</td>\n",
       "      <td>1119</td>\n",
       "      <td>valencia del ventoso</td>\n",
       "      <td>badajoz</td>\n",
       "    </tr>\n",
       "    <tr>\n",
       "      <th>6250</th>\n",
       "      <td>Extremadura</td>\n",
       "      <td>Cáceres</td>\n",
       "      <td>Valencia de Alcántara</td>\n",
       "      <td>39.41135</td>\n",
       "      <td>-7.246899</td>\n",
       "      <td>462.1811</td>\n",
       "      <td>6178</td>\n",
       "      <td>3070</td>\n",
       "      <td>3108</td>\n",
       "      <td>valencia de alcantara</td>\n",
       "      <td>caceres</td>\n",
       "    </tr>\n",
       "    <tr>\n",
       "      <th>8094</th>\n",
       "      <td>Valencia</td>\n",
       "      <td>Valencia/València</td>\n",
       "      <td>Valencia</td>\n",
       "      <td>39.47024</td>\n",
       "      <td>-0.376805</td>\n",
       "      <td>23.3349</td>\n",
       "      <td>814208</td>\n",
       "      <td>392300</td>\n",
       "      <td>421908</td>\n",
       "      <td>valencia</td>\n",
       "      <td>valencia/valencia</td>\n",
       "    </tr>\n",
       "  </tbody>\n",
       "</table>\n",
       "</div>"
      ],
      "text/plain": [
       "          community           province       municipality_name  latitude  \\\n",
       "3479  Castilla León               León    Valencia de Don Juan  42.29401   \n",
       "6024    Extremadura            Badajoz  Valencia de las Torres  38.40500   \n",
       "6025    Extremadura            Badajoz    Valencia del Mombuey  38.24256   \n",
       "6026    Extremadura            Badajoz    Valencia del Ventoso  38.26500   \n",
       "6250    Extremadura            Cáceres   Valencia de Alcántara  39.41135   \n",
       "8094       Valencia  Valencia/València                Valencia  39.47024   \n",
       "\n",
       "      longitude  altitude  population    male  female municipality_name_clean  \\\n",
       "3479  -5.519861  767.8869        5083    2505    2578    valencia de don juan   \n",
       "6024  -6.003782  514.0270         687     358     329  valencia de las torres   \n",
       "6025  -7.119643  295.6457         782     400     382    valencia del mombuey   \n",
       "6026  -6.474613  496.0627        2249    1130    1119    valencia del ventoso   \n",
       "6250  -7.246899  462.1811        6178    3070    3108   valencia de alcantara   \n",
       "8094  -0.376805   23.3349      814208  392300  421908                valencia   \n",
       "\n",
       "         province_clean  \n",
       "3479               leon  \n",
       "6024            badajoz  \n",
       "6025            badajoz  \n",
       "6026            badajoz  \n",
       "6250            caceres  \n",
       "8094  valencia/valencia  "
      ]
     },
     "execution_count": 30,
     "metadata": {},
     "output_type": "execute_result"
    }
   ],
   "source": [
    "df_coordinates[df_coordinates['municipality_name'].str.contains(r'Val.*ncia', case=False, na=False)]"
   ]
  },
  {
   "cell_type": "code",
   "execution_count": 31,
   "metadata": {},
   "outputs": [
    {
     "data": {
      "application/vnd.plotly.v1+json": {
       "config": {
        "plotlyServerURL": "https://plot.ly"
       },
       "data": [
        {
         "customdata": [
          [
           "Alegría-Dulantzi",
           561.6857
          ],
          [
           "Amurrio",
           219.691
          ],
          [
           "Aramaio",
           381.8797
          ],
          [
           "Artziniega",
           196.9808
          ],
          [
           "Armiñón",
           463.5815
          ],
          [
           "Arratzua-Ubarrundia",
           null
          ],
          [
           "Asparrena",
           631.652
          ],
          [
           "Ayala/Aiara",
           300.2789
          ],
          [
           "Baños de Ebro/Mañueta",
           428.0221
          ],
          [
           "Barrundia",
           555.0674
          ],
          [
           "Berantevilla",
           468.8318
          ],
          [
           "Bernedo",
           713.1542
          ],
          [
           "Campezo/Kanpezu",
           742.2458
          ],
          [
           "Zigoitia",
           599.7416
          ],
          [
           "Kripan",
           695.0848
          ],
          [
           "Kuartango",
           572.6608
          ],
          [
           "Elburgo/Burgelu",
           540.8835
          ],
          [
           "Elciego",
           461.4185
          ],
          [
           "Elvillar/Bilar",
           592
          ],
          [
           "Iruraiz-Gauna",
           601.8067
          ],
          [
           "Labastida/Bastida",
           547.173
          ],
          [
           "Lagrán",
           749.7421
          ],
          [
           "Laguardia",
           629.8966
          ],
          [
           "Lanciego/Lantziego",
           548.5494
          ],
          [
           "Lapuebla de Labarca",
           445.6386
          ],
          [
           "Leza",
           573.1453
          ],
          [
           "Laudio/Llodio",
           127.9116
          ],
          [
           "Arraia-Maeztu",
           657.7902
          ],
          [
           "Moreda de Álava/Moreda Araba",
           null
          ],
          [
           "Navaridas",
           524.3116
          ],
          [
           "Okondo",
           145.3144
          ],
          [
           "Oyón-Oion",
           437.9938
          ],
          [
           "Peñacerrada-Urizaharra",
           749.8625
          ],
          [
           "Erriberagoitia/Ribera Alta",
           479.5812
          ],
          [
           "Ribera Baja/Erriberabeitia",
           null
          ],
          [
           "Añana",
           628.5115
          ],
          [
           "Agurain/Salvatierra",
           null
          ],
          [
           "Samaniego",
           578.5411
          ],
          [
           "San Millán/Donemiliaga",
           596.2991
          ],
          [
           "Urkabustaiz",
           680.2825
          ],
          [
           "Valdegovía/Gaubea",
           574.0443
          ],
          [
           "Harana/Valle de Arana",
           831.0966
          ],
          [
           "Villabuena de Álava/Eskuernaga",
           486.5453
          ],
          [
           "Legutio",
           null
          ],
          [
           "Vitoria-Gasteiz",
           534.3582
          ],
          [
           "Yécora/Iekora",
           688.1754
          ],
          [
           "Zalduondo",
           608.8599
          ],
          [
           "Zambrana",
           455.7371
          ],
          [
           "Zuia",
           803.4551
          ],
          [
           "Iruña Oka/Iruña de Oca",
           498.6791
          ],
          [
           "Lantarón",
           615.6439
          ],
          [
           "Abengibre",
           635.9763
          ],
          [
           "Alatoz",
           856.581
          ],
          [
           "Albacete",
           685.9573
          ],
          [
           "Albatana",
           583.8509
          ],
          [
           "Alborea",
           700.4382
          ],
          [
           "Alcadozo",
           926.3744
          ],
          [
           "Alcalá del Júcar",
           564.6768
          ],
          [
           "Alcaraz",
           946.7922
          ],
          [
           "Almansa",
           699.0923
          ],
          [
           "Alpera",
           855.4849
          ],
          [
           "Ayna",
           705.988
          ],
          [
           "Balazote",
           774.1191
          ],
          [
           "Balsa de Ves",
           753.8686
          ],
          [
           "Ballestero, El",
           1022.816
          ],
          [
           "Barrax",
           730.8005
          ],
          [
           "Bienservida",
           892.105
          ],
          [
           "Bogarra",
           877.0484
          ],
          [
           "Bonete",
           892.0386
          ],
          [
           "Bonillo, El",
           1068.339
          ],
          [
           "Carcelén",
           917.2548
          ],
          [
           "Casas de Juan Núñez",
           708.0665
          ],
          [
           "Casas de Lázaro",
           955.0565
          ],
          [
           "Casas de Ves",
           705.2325
          ],
          [
           "Casas-Ibáñez",
           708.7758
          ],
          [
           "Caudete",
           576.1887
          ],
          [
           "Cenizate",
           709.0714
          ],
          [
           "Corral-Rubio",
           874.6991
          ],
          [
           "Cotillas",
           937.312
          ],
          [
           "Chinchilla de Monte-Aragón",
           886.0651
          ],
          [
           "Elche de la Sierra",
           641.3206
          ],
          [
           "Férez",
           678.098
          ],
          [
           "Fuensanta",
           704.071
          ],
          [
           "Fuente-Álamo",
           823.3177
          ],
          [
           "Fuentealbilla",
           664.727
          ],
          [
           "Gineta, La",
           691.8901
          ],
          [
           "Golosalvo",
           737.8311
          ],
          [
           "Hellín",
           571.8438
          ],
          [
           "Herrera, La",
           715.7388
          ],
          [
           "Higueruela",
           1038.131
          ],
          [
           "Hoya-Gonzalo",
           935.8157
          ],
          [
           "Jorquera",
           620.2926
          ],
          [
           "Letur",
           746.7882
          ],
          [
           "Lezuza",
           916.73
          ],
          [
           "Liétor",
           671.197
          ],
          [
           "Madrigueras",
           692.8739
          ],
          [
           "Mahora",
           667.1957
          ],
          [
           "Masegoso",
           1109.367
          ],
          [
           "Minaya",
           725.5837
          ],
          [
           "Molinicos",
           857.9905
          ],
          [
           "Montalvos",
           710
          ],
          [
           "Montealegre del Castillo",
           811.8585
          ],
          [
           "Motilleja",
           679.5121
          ],
          [
           "Munera",
           934.6063
          ],
          [
           "Navas de Jorquera",
           711
          ],
          [
           "Nerpio",
           1084.768
          ],
          [
           "Ontur",
           656.9244
          ],
          [
           "Ossa de Montiel",
           911.2698
          ],
          [
           "Paterna del Madera",
           1136.959
          ],
          [
           "Peñascosa",
           1170.48
          ],
          [
           "Peñas de San Pedro",
           1023.151
          ],
          [
           "Pétrola",
           878.49
          ],
          [
           "Povedilla",
           871.9346
          ],
          [
           "Pozohondo",
           872.5624
          ],
          [
           "Pozo-Lorente",
           773.0806
          ],
          [
           "Pozuelo",
           850.8868
          ],
          [
           "Recueja, La",
           541.1991
          ],
          [
           "Riópar",
           971.0583
          ],
          [
           "Robledo",
           1029.824
          ],
          [
           "Roda, La",
           679.9437
          ],
          [
           "Salobre",
           924.4268
          ],
          [
           "San Pedro",
           844.3685
          ],
          [
           "Socovos",
           751.4481
          ],
          [
           "Tarazona de la Mancha",
           715.6435
          ],
          [
           "Tobarra",
           642.4951
          ],
          [
           "Valdeganga",
           668.1237
          ],
          [
           "Vianos",
           1117.031
          ],
          [
           "Villa de Ves",
           741.5894
          ],
          [
           "Villalgordo del Júcar",
           687.8445
          ],
          [
           "Villamalea",
           743.7635
          ],
          [
           "Villapalacios",
           837.8229
          ],
          [
           "Villarrobledo",
           728.5291
          ],
          [
           "Villatoya",
           416.7317
          ],
          [
           "Villavaliente",
           728.5188
          ],
          [
           "Villaverde de Guadalimar",
           796.1951
          ],
          [
           "Viveros",
           1012.303
          ],
          [
           "Yeste",
           862.6873
          ],
          [
           "Pozo Cañada",
           826.6574
          ],
          [
           "Atzúbia, l'",
           null
          ],
          [
           "Agost",
           null
          ],
          [
           "Agres",
           null
          ],
          [
           "Aigües",
           null
          ],
          [
           "Albatera",
           null
          ],
          [
           "Alcalalí",
           null
          ],
          [
           "Alcosser",
           null
          ],
          [
           "Alcoleja",
           null
          ],
          [
           "Alcoi/Alcoy",
           null
          ],
          [
           "Alfafara",
           null
          ],
          [
           "Alfàs del Pi, l'",
           null
          ],
          [
           "Algorfa",
           null
          ],
          [
           "Algueña",
           null
          ],
          [
           "Alacant/Alicante",
           null
          ],
          [
           "Almoradí",
           null
          ],
          [
           "Almudaina",
           null
          ],
          [
           "Alqueria d'Asnar, l'",
           null
          ],
          [
           "Altea",
           null
          ],
          [
           "Aspe",
           null
          ],
          [
           "Balones",
           null
          ],
          [
           "Banyeres de Mariola",
           null
          ],
          [
           "Benasau",
           null
          ],
          [
           "Beneixama",
           null
          ],
          [
           "Benejúzar",
           null
          ],
          [
           "Benferri",
           null
          ],
          [
           "Beniarbeig",
           null
          ],
          [
           "Beniardà",
           null
          ],
          [
           "Beniarrés",
           null
          ],
          [
           "Benigembla",
           null
          ],
          [
           "Benidoleig",
           null
          ],
          [
           "Benidorm",
           null
          ],
          [
           "Benifallim",
           null
          ],
          [
           "Benifato",
           null
          ],
          [
           "Benijófar",
           null
          ],
          [
           "Benilloba",
           null
          ],
          [
           "Benillup",
           null
          ],
          [
           "Benimantell",
           null
          ],
          [
           "Benimarfull",
           null
          ],
          [
           "Benimassot",
           null
          ],
          [
           "Benimeli",
           null
          ],
          [
           "Benissa",
           null
          ],
          [
           "Poble Nou de Benitatxell, el/Benitachell",
           null
          ],
          [
           "Biar",
           null
          ],
          [
           "Bigastro",
           null
          ],
          [
           "Bolulla",
           null
          ],
          [
           "Busot",
           null
          ],
          [
           "Calp",
           null
          ],
          [
           "Callosa d'en Sarrià",
           null
          ],
          [
           "Callosa de Segura",
           null
          ],
          [
           "Campello, el",
           null
          ],
          [
           "Camp de Mirra, el/Campo de Mirra",
           null
          ],
          [
           "Cañada",
           null
          ],
          [
           "Castalla",
           null
          ],
          [
           "Castell de Castells",
           null
          ],
          [
           "Catral",
           null
          ],
          [
           "Cocentaina",
           null
          ],
          [
           "Confrides",
           null
          ],
          [
           "Cox",
           null
          ],
          [
           "Crevillent",
           null
          ],
          [
           "Quatretondeta",
           null
          ],
          [
           "Daya Nueva",
           null
          ],
          [
           "Daya Vieja",
           null
          ],
          [
           "Dénia",
           null
          ],
          [
           "Dolores",
           null
          ],
          [
           "Elx/Elche",
           null
          ],
          [
           "Elda",
           null
          ],
          [
           "Fageca",
           null
          ],
          [
           "Famorca",
           null
          ],
          [
           "Finestrat",
           null
          ],
          [
           "Formentera del Segura",
           null
          ],
          [
           "Gata de Gorgos",
           null
          ],
          [
           "Gaianes",
           null
          ],
          [
           "Gorga",
           null
          ],
          [
           "Granja de Rocamora",
           null
          ],
          [
           "Castell de Guadalest, el",
           null
          ],
          [
           "Guardamar del Segura",
           null
          ],
          [
           "Fondó de les Neus, el/Hondón de las Nieves",
           null
          ],
          [
           "Hondón de los Frailes",
           null
          ],
          [
           "Ibi",
           null
          ],
          [
           "Jacarilla",
           null
          ],
          [
           "Xaló",
           null
          ],
          [
           "Xàbia/Jávea",
           null
          ],
          [
           "Xixona/Jijona",
           null
          ],
          [
           "Orxa, l'/Lorcha",
           null
          ],
          [
           "Llíber",
           null
          ],
          [
           "Millena",
           null
          ],
          [
           "Monforte del Cid",
           null
          ],
          [
           "Monòver/Monóvar",
           null
          ],
          [
           "Mutxamel",
           null
          ],
          [
           "Murla",
           null
          ],
          [
           "Muro de Alcoy",
           null
          ],
          [
           "Novelda",
           null
          ],
          [
           "Nucia, la",
           null
          ],
          [
           "Ondara",
           null
          ],
          [
           "Onil",
           null
          ],
          [
           "Orba",
           null
          ],
          [
           "Orxeta",
           null
          ],
          [
           "Orihuela",
           null
          ],
          [
           "Parcent",
           null
          ],
          [
           "Pedreguer",
           null
          ],
          [
           "Pego",
           null
          ],
          [
           "Penàguila",
           null
          ],
          [
           "Petrer",
           null
          ],
          [
           "Pinós, el/Pinoso",
           null
          ],
          [
           "Planes",
           null
          ],
          [
           "Polop",
           null
          ],
          [
           "Rafal",
           null
          ],
          [
           "Ràfol d'Almúnia, el",
           null
          ],
          [
           "Redován",
           null
          ],
          [
           "Relleu",
           null
          ],
          [
           "Rojales",
           null
          ],
          [
           "Romana, la",
           null
          ],
          [
           "Sagra",
           null
          ],
          [
           "Salinas",
           null
          ],
          [
           "Sanet y Negrals",
           null
          ],
          [
           "San Fulgencio",
           null
          ],
          [
           "Sant Joan d'Alacant",
           null
          ],
          [
           "San Miguel de Salinas",
           null
          ],
          [
           "Santa Pola",
           null
          ],
          [
           "Sant Vicent del Raspeig/San Vicente del Raspeig",
           null
          ],
          [
           "Sax",
           null
          ],
          [
           "Sella",
           null
          ],
          [
           "Senija",
           null
          ],
          [
           "Tàrbena",
           null
          ],
          [
           "Teulada",
           null
          ],
          [
           "Tibi",
           null
          ],
          [
           "Tollos",
           null
          ],
          [
           "Tormos",
           null
          ],
          [
           "Torre de les Maçanes, la/Torremanzanas",
           null
          ],
          [
           "Torrevieja",
           null
          ],
          [
           "Vall d'Alcalà, la",
           null
          ],
          [
           "Vall d'Ebo, la",
           null
          ],
          [
           "Vall de Gallinera, la",
           null
          ],
          [
           "Vall de Laguar, la",
           null
          ],
          [
           "Verger, el",
           null
          ],
          [
           "Vila Joiosa, la/Villajoyosa",
           null
          ],
          [
           "Villena",
           null
          ],
          [
           "Poblets, els",
           null
          ],
          [
           "Pilar de la Horadada",
           null
          ],
          [
           "Montesinos, Los",
           null
          ],
          [
           "San Isidro",
           null
          ],
          [
           "Abla",
           871.1684
          ],
          [
           "Abrucena",
           976.9387
          ],
          [
           "Adra",
           10.97898
          ],
          [
           "Albanchez",
           481.3123
          ],
          [
           "Alboloduy",
           388.4346
          ],
          [
           "Albox",
           426.4268
          ],
          [
           "Alcolea",
           744.6956
          ],
          [
           "Alcóntar",
           955.1331
          ],
          [
           "Alcudia de Monteagud",
           1018.354
          ],
          [
           "Alhabia",
           288.056
          ],
          [
           "Alhama de Almería",
           523.1963
          ],
          [
           "Alicún",
           420.4872
          ],
          [
           "Almería",
           27.00703
          ],
          [
           "Almócita",
           831.1343
          ],
          [
           "Alsodux",
           312.0394
          ],
          [
           "Antas",
           107.2613
          ],
          [
           "Arboleas",
           288.0828
          ],
          [
           "Armuña de Almanzora",
           625.5285
          ],
          [
           "Bacares",
           1202.631
          ],
          [
           "Bayárcal",
           1271.166
          ],
          [
           "Bayarque",
           816.2208
          ],
          [
           "Bédar",
           391.56
          ],
          [
           "Beires",
           919.2347
          ],
          [
           "Benahadux",
           113.9746
          ],
          [
           "Benitagla",
           945.0856
          ],
          [
           "Benizalón",
           933.7475
          ],
          [
           "Bentarique",
           319.8048
          ],
          [
           "Berja",
           340.7863
          ],
          [
           "Canjáyar",
           607.9745
          ],
          [
           "Cantoria",
           388.6553
          ],
          [
           "Carboneras",
           6.721787
          ],
          [
           "Castro de Filabres",
           943.7071
          ],
          [
           "Cóbdar",
           606.9962
          ],
          [
           "Cuevas del Almanzora",
           97.29103
          ],
          [
           "Chercos",
           789.6791
          ],
          [
           "Chirivel",
           1039.713
          ],
          [
           "Dalías",
           415.9644
          ],
          [
           "Enix",
           720.6339
          ],
          [
           "Felix",
           822.4271
          ],
          [
           "Fines",
           448.7018
          ],
          [
           "Fiñana",
           950.4163
          ],
          [
           "Fondón",
           858.4697
          ],
          [
           "Gádor",
           169.0004
          ],
          [
           "Gallardos, Los",
           113.9905
          ],
          [
           "Garrucha",
           2.56615
          ],
          [
           "Gérgal",
           750.5009
          ],
          [
           "Huécija",
           410.0447
          ],
          [
           "Huércal de Almería",
           72.52909
          ],
          [
           "Huércal-Overa",
           284.6117
          ],
          [
           "Íllar",
           428.1185
          ],
          [
           "Instinción",
           434.57
          ],
          [
           "Laroya",
           854.0873
          ],
          [
           "Láujar de Andarax",
           910.9894
          ],
          [
           "Líjar",
           593.4965
          ],
          [
           "Lubrín",
           521.5203
          ],
          [
           "Lucainena de las Torres",
           533.8752
          ],
          [
           "Lúcar",
           901.753
          ],
          [
           "Macael",
           538.7327
          ],
          [
           "María",
           1196.435
          ],
          [
           "Mojácar",
           165.0597
          ],
          [
           "Nacimiento",
           596.8992
          ],
          [
           "Níjar",
           353.1248
          ],
          [
           "Ohanes",
           953.4253
          ],
          [
           "Olula de Castro",
           1054.839
          ],
          [
           "Olula del Río",
           486.5961
          ],
          [
           "Oria",
           1038.982
          ],
          [
           "Padules",
           745.1029
          ],
          [
           "Partaloa",
           548.585
          ],
          [
           "Paterna del Río",
           1201.81
          ],
          [
           "Pechina",
           107.5108
          ],
          [
           "Pulpí",
           194.9947
          ],
          [
           "Purchena",
           540.9984
          ],
          [
           "Rágol",
           404.8323
          ],
          [
           "Rioja",
           133.2092
          ],
          [
           "Roquetas de Mar",
           11.84886
          ],
          [
           "Santa Cruz de Marchena",
           328.9739
          ],
          [
           "Santa Fe de Mondújar",
           210.5975
          ],
          [
           "Senés",
           1007.387
          ],
          [
           "Serón",
           800.137
          ],
          [
           "Sierro",
           721.0729
          ],
          [
           "Somontín",
           816.8105
          ],
          [
           "Sorbas",
           391.5779
          ],
          [
           "Suflí",
           636.8499
          ],
          [
           "Tabernas",
           405.9641
          ],
          [
           "Taberno",
           702.8022
          ],
          [
           "Tahal",
           1008.582
          ],
          [
           "Terque",
           282.4351
          ],
          [
           "Tíjola",
           685.379
          ],
          [
           "Turre",
           49.41454
          ],
          [
           "Turrillas",
           840.3381
          ],
          [
           "Uleila del Campo",
           629.6137
          ],
          [
           "Urrácal",
           744.7553
          ],
          [
           "Velefique",
           937.5716
          ],
          [
           "Vélez-Blanco",
           1072.432
          ],
          [
           "Vélez-Rubio",
           842.2859
          ],
          [
           "Vera",
           102.0657
          ],
          [
           "Viator",
           74.79173
          ],
          [
           "Vícar",
           276.2602
          ],
          [
           "Zurgena",
           248.1582
          ],
          [
           "Tres Villas, Las",
           693.0934
          ],
          [
           "Ejido, El",
           80
          ],
          [
           "Mojonera, La",
           41.25403
          ],
          [
           "Balanegra",
           null
          ],
          [
           "Adanero",
           905.2096
          ],
          [
           "Adrada, La",
           622.7286
          ],
          [
           "Albornos",
           909.7402
          ],
          [
           "Aldeanueva de Santa Cruz",
           1166.277
          ],
          [
           "Aldeaseca",
           861.7283
          ],
          [
           "Aldehuela, La",
           959.1974
          ],
          [
           "Amavida",
           1175.522
          ],
          [
           "Arenal, El",
           890.2292
          ],
          [
           "Arenas de San Pedro",
           514.0571
          ],
          [
           "Arevalillo",
           1137.772
          ],
          [
           "Arévalo",
           826.179
          ],
          [
           "Aveinte",
           1000.345
          ],
          [
           "Avellaneda",
           1351.883
          ],
          [
           "Ávila",
           1129.841
          ],
          [
           "Barco de Ávila, El",
           1018.091
          ],
          [
           "Barraco, El",
           1007.118
          ],
          [
           "Barromán",
           795.3719
          ],
          [
           "Becedas",
           1100.157
          ],
          [
           "Becedillas",
           1055.372
          ],
          [
           "Bercial de Zapardiel",
           806.9874
          ],
          [
           "Berlanas, Las",
           947.4949
          ],
          [
           "Bernuy-Zapardiel",
           865.666
          ],
          [
           "Berrocalejo de Aragona",
           1093.834
          ],
          [
           "Blascomillán",
           949.7968
          ],
          [
           "Blasconuño de Matacabras",
           786.0962
          ],
          [
           "Blascosancho",
           904.3203
          ],
          [
           "Bohodón, El",
           884
          ],
          [
           "Bohoyo",
           1152.302
          ],
          [
           "Bonilla de la Sierra",
           1078.679
          ],
          [
           "Brabos",
           981.4635
          ],
          [
           "Bularros",
           1169.908
          ],
          [
           "Burgohondo",
           841.5716
          ],
          [
           "Cabezas de Alambre",
           889.5198
          ],
          [
           "Cabezas del Pozo",
           844.806
          ],
          [
           "Cabezas del Villar",
           1047.323
          ],
          [
           "Cabizuela",
           880.9836
          ],
          [
           "Canales",
           856.6454
          ],
          [
           "Candeleda",
           432.1873
          ],
          [
           "Cantiveros",
           878.133
          ],
          [
           "Cardeñosa",
           1106.686
          ],
          [
           "Carrera, La",
           1055.56
          ],
          [
           "Casas del Puerto",
           1181.79
          ],
          [
           "Casasola",
           1316.782
          ],
          [
           "Casavieja",
           560.0256
          ],
          [
           "Casillas",
           1033.86
          ],
          [
           "Castellanos de Zapardiel",
           784.2825
          ],
          [
           "Cebreros",
           762.6259
          ],
          [
           "Cepeda la Mora",
           1496.214
          ],
          [
           "Cillán",
           1213.872
          ],
          [
           "Cisla",
           849.4051
          ],
          [
           "Colilla, La",
           1137.412
          ],
          [
           "Collado de Contreras",
           916.2794
          ],
          [
           "Collado del Mirón",
           1166.182
          ],
          [
           "Constanzana",
           890.7895
          ],
          [
           "Crespos",
           924.7823
          ],
          [
           "Cuevas del Valle",
           850.9416
          ],
          [
           "Chamartín",
           1200.419
          ],
          [
           "Donjimeno",
           885.1403
          ],
          [
           "Donvidas",
           863.8016
          ],
          [
           "Espinosa de los Caballeros",
           859.3159
          ],
          [
           "Flores de Ávila",
           894.5298
          ],
          [
           "Fontiveros",
           883.9694
          ],
          [
           "Fresnedilla",
           622.42
          ],
          [
           "Fresno, El",
           1077.998
          ],
          [
           "Fuente el Saúz",
           872.8679
          ],
          [
           "Fuentes de Año",
           825.9651
          ],
          [
           "Gallegos de Altamiros",
           1243.297
          ],
          [
           "Gallegos de Sobrinos",
           1165.116
          ],
          [
           "Garganta del Villar",
           1468.859
          ],
          [
           "Gavilanes",
           666.3435
          ],
          [
           "Gemuño",
           1103.707
          ],
          [
           "Gilbuena",
           1046.664
          ],
          [
           "Gil García",
           1149.134
          ],
          [
           "Gimialcón",
           949.9352
          ],
          [
           "Gotarrendura",
           931.7262
          ],
          [
           "Grandes y San Martín",
           1004.375
          ],
          [
           "Guisando",
           760.2384
          ],
          [
           "Gutierre-Muñoz",
           885.0555
          ],
          [
           "Hernansancho",
           907.3092
          ],
          [
           "Herradón de Pinares",
           1339.181
          ],
          [
           "Herreros de Suso",
           1014.149
          ],
          [
           "Higuera de las Dueñas",
           636.0223
          ],
          [
           "Hija de Dios, La",
           1190.105
          ],
          [
           "Horcajada, La",
           1013.886
          ],
          [
           "Horcajo de las Torres",
           817.9778
          ],
          [
           "Hornillo, El",
           750.8702
          ],
          [
           "Hoyocasero",
           1340.283
          ],
          [
           "Hoyo de Pinares, El",
           850.6945
          ],
          [
           "Hoyorredondo",
           1041.056
          ],
          [
           "Hoyos del Collado",
           1496.277
          ],
          [
           "Hoyos del Espino",
           1476.058
          ],
          [
           "Hoyos de Miguel Muñoz",
           1537.814
          ],
          [
           "Hurtumpascual",
           1170.533
          ],
          [
           "Junciana",
           996.5219
          ],
          [
           "Langa",
           867.0062
          ],
          [
           "Lanzahíta",
           452.3451
          ],
          [
           "Losar del Barco, El",
           1011.311
          ],
          [
           "Llanos de Tormes, Los",
           1051.062
          ],
          [
           "Madrigal de las Altas Torres",
           811.4847
          ],
          [
           "Maello",
           1031.561
          ],
          [
           "Malpartida de Corneja",
           1023.512
          ],
          [
           "Mamblas",
           820.2225
          ],
          [
           "Mancera de Arriba",
           938.9207
          ],
          [
           "Manjabálago y Ortigosa de Rioalmar",
           null
          ],
          [
           "Marlín",
           1214.861
          ],
          [
           "Martiherrero",
           1228.818
          ],
          [
           "Martínez",
           1100.179
          ],
          [
           "Mediana de Voltoya",
           1112.355
          ],
          [
           "Medinilla",
           1066.206
          ],
          [
           "Mengamuñoz",
           1348.081
          ],
          [
           "Mesegar de Corneja",
           1022.489
          ],
          [
           "Mijares",
           864.0565
          ],
          [
           "Mingorría",
           1034.813
          ],
          [
           "Mirón, El",
           1261.807
          ],
          [
           "Mironcillo",
           1119.956
          ],
          [
           "Mirueña de los Infanzones",
           1132.032
          ],
          [
           "Mombeltrán",
           638.0334
          ],
          [
           "Monsalupe",
           1001.826
          ],
          [
           "Moraleja de Matacabras",
           784.5509
          ],
          [
           "Muñana",
           1166.34
          ],
          [
           "Muñico",
           1088.301
          ],
          [
           "Muñogalindo",
           1126.354
          ],
          [
           "Muñogrande",
           945.0131
          ],
          [
           "Muñomer del Peco",
           897.2045
          ],
          [
           "Muñopepe",
           1136.208
          ],
          [
           "Muñosancho",
           904.1495
          ],
          [
           "Muñotello",
           1153.327
          ],
          [
           "Narrillos del Álamo",
           1119.065
          ],
          [
           "Narrillos del Rebollar",
           1393.928
          ],
          [
           "Narros del Castillo",
           955.416
          ],
          [
           "Narros del Puerto",
           1150.127
          ],
          [
           "Narros de Saldueña",
           899.7995
          ],
          [
           "Navacepedilla de Corneja",
           1254.679
          ],
          [
           "Nava de Arévalo",
           867.2231
          ],
          [
           "Nava del Barco",
           1143.579
          ],
          [
           "Navadijos",
           1522.013
          ],
          [
           "Navaescurial",
           1204.329
          ],
          [
           "Navahondilla",
           722.1689
          ],
          [
           "Navalacruz",
           1242.845
          ],
          [
           "Navalmoral",
           1059.723
          ],
          [
           "Navalonguilla",
           1166.513
          ],
          [
           "Navalosa",
           1302.457
          ],
          [
           "Navalperal de Pinares",
           1276.434
          ],
          [
           "Navalperal de Tormes",
           1301.761
          ],
          [
           "Navaluenga",
           761.1091
          ],
          [
           "Navaquesera",
           1510.378
          ],
          [
           "Navarredonda de Gredos",
           1533.715
          ],
          [
           "Navarredondilla",
           1133.272
          ],
          [
           "Navarrevisca",
           1125.35
          ],
          [
           "Navas del Marqués, Las",
           1301.798
          ],
          [
           "Navatalgordo",
           1277.847
          ],
          [
           "Navatejares",
           1045.835
          ],
          [
           "Neila de San Miguel",
           1163.344
          ],
          [
           "Niharra",
           1092.125
          ],
          [
           "Ojos-Albos",
           1228.249
          ],
          [
           "Orbita",
           868.4173
          ],
          [
           "Oso, El",
           896.0026
          ],
          [
           "Padiernos",
           1106
          ],
          [
           "Pajares de Adaja",
           881.6708
          ],
          [
           "Palacios de Goda",
           820.0026
          ],
          [
           "Papatrigo",
           889
          ],
          [
           "Parral, El",
           1049.357
          ],
          [
           "Pascualcobo",
           1065.825
          ],
          [
           "Pedro Bernardo",
           802.8278
          ],
          [
           "Pedro-Rodríguez",
           877.0702
          ],
          [
           "Peguerinos",
           1361.598
          ],
          [
           "Peñalba de Ávila",
           1073.66
          ],
          [
           "Piedrahíta",
           1064.406
          ],
          [
           "Piedralaves",
           712.4528
          ],
          [
           "Poveda",
           1201.02
          ],
          [
           "Poyales del Hoyo",
           554.1748
          ],
          [
           "Pozanco",
           909.6544
          ],
          [
           "Pradosegar",
           1171.21
          ],
          [
           "Puerto Castilla",
           1169.832
          ],
          [
           "Rasueros",
           831.9698
          ],
          [
           "Riocabado",
           909.7188
          ],
          [
           "Riofrío",
           1186.845
          ],
          [
           "Rivilla de Barajas",
           899.2758
          ],
          [
           "Salobral",
           1087.409
          ],
          [
           "Salvadiós",
           951.5007
          ],
          [
           "San Bartolomé de Béjar",
           1120.649
          ],
          [
           "San Bartolomé de Corneja",
           993.1846
          ],
          [
           "San Bartolomé de Pinares",
           1047.196
          ],
          [
           "Sanchidrián",
           924.6989
          ],
          [
           "Sanchorreja",
           1312.153
          ],
          [
           "San Esteban de los Patos",
           1118.933
          ],
          [
           "San Esteban del Valle",
           795.9105
          ],
          [
           "San Esteban de Zapardiel",
           780.4639
          ],
          [
           "San García de Ingelmos",
           1067
          ],
          [
           "San Juan de la Encinilla",
           913.4266
          ],
          [
           "San Juan de la Nava",
           1126.167
          ],
          [
           "San Juan del Molinillo",
           1141.855
          ],
          [
           "San Juan del Olmo",
           1287.153
          ],
          [
           "San Lorenzo de Tormes",
           1028.796
          ],
          [
           "San Martín de la Vega del Alberche",
           1510.816
          ],
          [
           "San Martín del Pimpollar",
           1336.265
          ],
          [
           "San Miguel de Corneja",
           1063.416
          ],
          [
           "San Miguel de Serrezuela",
           1094.398
          ],
          [
           "San Pascual",
           883.3102
          ],
          [
           "San Pedro del Arroyo",
           938.8323
          ],
          [
           "Santa Cruz del Valle",
           733.2361
          ],
          [
           "Santa Cruz de Pinares",
           1004.647
          ],
          [
           "Santa María del Arroyo",
           1130.864
          ],
          [
           "Santa María del Berrocal",
           1051.094
          ],
          [
           "Santa María de los Caballeros",
           1041.178
          ],
          [
           "Santa María del Tiétar",
           695.9569
          ],
          [
           "Santiago del Collado",
           1221.392
          ],
          [
           "Santo Domingo de las Posadas",
           928.1381
          ],
          [
           "Santo Tomé de Zabarcos",
           958.0378
          ],
          [
           "San Vicente de Arévalo",
           877.5375
          ],
          [
           "Serrada, La",
           1108.781
          ],
          [
           "Serranillos",
           1222.104
          ],
          [
           "Sigeres",
           962.441
          ],
          [
           "Sinlabajos",
           826.5585
          ],
          [
           "Solana de Ávila",
           1148.975
          ],
          [
           "Solana de Rioalmar",
           1122.234
          ],
          [
           "Solosancho",
           1120.799
          ],
          [
           "Sotalbo",
           1159.905
          ],
          [
           "Sotillo de la Adrada",
           643.7815
          ],
          [
           "Tiemblo, El",
           699.9511
          ],
          [
           "Tiñosillos",
           872.8295
          ],
          [
           "Tolbaños",
           1112.758
          ],
          [
           "Tormellas",
           1063.159
          ],
          [
           "Tornadizos de Ávila",
           1197.256
          ],
          [
           "Tórtoles",
           1242.698
          ],
          [
           "Torre, La",
           1131.327
          ],
          [
           "Umbrías",
           1102.692
          ],
          [
           "Vadillo de la Sierra",
           1347.321
          ],
          [
           "Valdecasa",
           1367.423
          ],
          [
           "Vega de Santa María",
           946.2527
          ],
          [
           "Velayos",
           937.4861
          ],
          [
           "Villaflor",
           981.3378
          ],
          [
           "Villafranca de la Sierra",
           1105.417
          ],
          [
           "Villanueva de Gómez",
           888.3561
          ],
          [
           "Villanueva del Aceral",
           846.7498
          ],
          [
           "Villanueva del Campillo",
           1446.368
          ],
          [
           "Villar de Corneja",
           998.0105
          ],
          [
           "Villarejo del Valle",
           830.5555
          ],
          [
           "Villatoro",
           1195.601
          ],
          [
           "Viñegra de Moraña",
           907.2875
          ],
          [
           "Vita",
           991.2439
          ],
          [
           "Zapardiel de la Cañada",
           1143.392
          ],
          [
           "Zapardiel de la Ribera",
           1356.206
          ],
          [
           "San Juan de Gredos",
           1530.967
          ],
          [
           "Santa María del Cubillo",
           1212.193
          ],
          [
           "Diego del Carpio",
           1018.423
          ],
          [
           "Santiago del Tormes",
           1539.357
          ],
          [
           "Villanueva de Ávila",
           1060.641
          ],
          [
           "Acedera",
           308.0381
          ],
          [
           "Aceuchal",
           307
          ],
          [
           "Ahillones",
           579.7605
          ],
          [
           "Alange",
           322.5832
          ],
          [
           "Albuera, La",
           249.9245
          ],
          [
           "Alburquerque",
           442.164
          ],
          [
           "Alconchel",
           284.3204
          ],
          [
           "Alconera",
           518.1642
          ],
          [
           "Aljucén",
           249.3199
          ],
          [
           "Almendral",
           329.3619
          ],
          [
           "Almendralejo",
           336.7314
          ],
          [
           "Arroyo de San Serván",
           225.0338
          ],
          [
           "Atalaya",
           503.989
          ],
          [
           "Azuaga",
           588.9749
          ],
          [
           "Badajoz",
           192.0375
          ],
          [
           "Barcarrota",
           488.5576
          ],
          [
           "Baterno",
           561.4879
          ],
          [
           "Benquerencia de la Serena",
           668.4374
          ],
          [
           "Berlanga",
           567.5744
          ],
          [
           "Bienvenida",
           610.3852
          ],
          [
           "Bodonal de la Sierra",
           611.0769
          ],
          [
           "Burguillos del Cerro",
           404.4514
          ],
          [
           "Cabeza del Buey",
           536.211
          ],
          [
           "Cabeza la Vaca",
           759.3353
          ],
          [
           "Calamonte",
           225.6309
          ],
          [
           "Calera de León",
           698.5616
          ],
          [
           "Calzadilla de los Barros",
           560.012
          ],
          [
           "Campanario",
           399.8418
          ],
          [
           "Campillo de Llerena",
           499.8665
          ],
          [
           "Capilla",
           494.1088
          ],
          [
           "Carmonita",
           380.518
          ],
          [
           "Carrascalejo, El",
           298.9797
          ],
          [
           "Casas de Don Pedro",
           386.5399
          ],
          [
           "Casas de Reina",
           633.2156
          ],
          [
           "Castilblanco",
           503.2614
          ],
          [
           "Castuera",
           507.8511
          ],
          [
           "Codosera, La",
           317.7365
          ],
          [
           "Cordobilla de Lácara",
           304.6748
          ],
          [
           "Coronada, La",
           361.9379
          ],
          [
           "Corte de Peleas",
           242.0632
          ],
          [
           "Cristina",
           292.6012
          ],
          [
           "Cheles",
           196.9729
          ],
          [
           "Don Álvaro",
           261.4249
          ],
          [
           "Don Benito",
           286.0323
          ],
          [
           "Entrín Bajo",
           243.4635
          ],
          [
           "Esparragalejo",
           221.896
          ],
          [
           "Esparragosa de la Serena",
           454.5637
          ],
          [
           "Esparragosa de Lares",
           471.0262
          ],
          [
           "Feria",
           558.8891
          ],
          [
           "Fregenal de la Sierra",
           563.0306
          ],
          [
           "Fuenlabrada de los Montes",
           544.9579
          ],
          [
           "Fuente de Cantos",
           583.8423
          ],
          [
           "Fuente del Arco",
           698.8098
          ],
          [
           "Fuente del Maestre",
           445.575
          ],
          [
           "Fuentes de León",
           759.8053
          ],
          [
           "Garbayuela",
           487.4009
          ],
          [
           "Garlitos",
           538.7179
          ],
          [
           "Garrovilla, La",
           207.8057
          ],
          [
           "Granja de Torrehermosa",
           590.6907
          ],
          [
           "Guareña",
           285.5005
          ],
          [
           "Haba, La",
           311.9093
          ],
          [
           "Helechosa de los Montes",
           441.6037
          ],
          [
           "Herrera del Duque",
           459.3652
          ],
          [
           "Higuera de la Serena",
           476.8962
          ],
          [
           "Higuera de Llerena",
           517.9836
          ],
          [
           "Higuera de Vargas",
           361.537
          ],
          [
           "Higuera la Real",
           623.5339
          ],
          [
           "Hinojosa del Valle",
           441.5001
          ],
          [
           "Hornachos",
           484.8826
          ],
          [
           "Jerez de los Caballeros",
           486.1686
          ],
          [
           "Lapa, La",
           467.7335
          ],
          [
           "Lobón",
           242.9643
          ],
          [
           "Llera",
           488.1218
          ],
          [
           "Llerena",
           644.6722
          ],
          [
           "Magacela",
           473.8124
          ],
          [
           "Maguilla",
           527.6955
          ],
          [
           "Malcocinado",
           625.1129
          ],
          [
           "Malpartida de la Serena",
           483.3142
          ],
          [
           "Manchita",
           335.4408
          ],
          [
           "Medellín",
           250.0114
          ],
          [
           "Medina de las Torres",
           526.7921
          ],
          [
           "Mengabril",
           253
          ],
          [
           "Mérida",
           227.433
          ],
          [
           "Mirandilla",
           294.3425
          ],
          [
           "Monesterio",
           754.8566
          ],
          [
           "Montemolín",
           617.7222
          ],
          [
           "Monterrubio de la Serena",
           553.7913
          ],
          [
           "Montijo",
           203.0528
          ],
          [
           "Morera, La",
           426.6002
          ],
          [
           "Nava de Santiago, La",
           265.6057
          ],
          [
           "Navalvillar de Pela",
           349.6248
          ],
          [
           "Nogales",
           372.3395
          ],
          [
           "Oliva de la Frontera",
           376.0301
          ],
          [
           "Oliva de Mérida",
           322.3082
          ],
          [
           "Olivenza",
           258.1104
          ],
          [
           "Orellana de la Sierra",
           398.1514
          ],
          [
           "Orellana la Vieja",
           359.3995
          ],
          [
           "Palomas",
           322.4935
          ],
          [
           "Parra, La",
           521.9587
          ],
          [
           "Peñalsordo",
           431.0298
          ],
          [
           "Peraleda del Zaucejo",
           542.9088
          ],
          [
           "Puebla de Alcocer",
           534.4778
          ],
          [
           "Puebla de la Calzada",
           191.7965
          ],
          [
           "Puebla de la Reina",
           375.599
          ],
          [
           "Puebla del Maestre",
           554.0134
          ],
          [
           "Puebla del Prior",
           381.7524
          ],
          [
           "Puebla de Obando",
           380.0834
          ],
          [
           "Puebla de Sancho Pérez",
           522.9659
          ],
          [
           "Quintana de la Serena",
           409.9685
          ],
          [
           "Reina",
           717.8853
          ],
          [
           "Rena",
           261.9456
          ],
          [
           "Retamal de Llerena",
           464.8723
          ],
          [
           "Ribera del Fresno",
           398.8069
          ],
          [
           "Risco",
           493.8158
          ],
          [
           "Roca de la Sierra, La",
           248.0425
          ],
          [
           "Salvaleón",
           529.4485
          ],
          [
           "Salvatierra de los Barros",
           625.0818
          ],
          [
           "Sancti-Spíritus",
           486.562
          ],
          [
           "San Pedro de Mérida",
           281.0936
          ],
          [
           "Santa Amalia",
           255.474
          ],
          [
           "Santa Marta",
           345.2148
          ],
          [
           "Santos de Maimona, Los",
           534.4554
          ],
          [
           "San Vicente de Alcántara",
           502.4301
          ],
          [
           "Segura de León",
           681.7979
          ],
          [
           "Siruela",
           512.6407
          ],
          [
           "Solana de los Barros",
           266.4142
          ],
          [
           "Talarrubias",
           439.8815
          ],
          [
           "Talavera la Real",
           187.5183
          ],
          [
           "Táliga",
           304.307
          ],
          [
           "Tamurejo",
           546.1544
          ],
          [
           "Torre de Miguel Sesmero",
           323.1891
          ],
          [
           "Torremayor",
           195.9215
          ],
          [
           "Torremejía",
           291.6581
          ],
          [
           "Trasierra",
           700.4008
          ],
          [
           "Trujillanos",
           257.3852
          ],
          [
           "Usagre",
           561.4595
          ],
          [
           "Valdecaballeros",
           383.3043
          ],
          [
           "Valdetorres",
           244.8665
          ],
          [
           "Valencia de las Torres",
           514.027
          ],
          [
           "Valencia del Mombuey",
           295.6457
          ],
          [
           "Valencia del Ventoso",
           496.0627
          ],
          [
           "Valverde de Burguillos",
           412.0819
          ],
          [
           "Valverde de Leganés",
           291.0059
          ],
          [
           "Valverde de Llerena",
           575.8016
          ],
          [
           "Valverde de Mérida",
           271.6688
          ],
          [
           "Valle de la Serena",
           429.2383
          ],
          [
           "Valle de Matamoros",
           588.3872
          ],
          [
           "Valle de Santa Ana",
           492.5686
          ],
          [
           "Villafranca de los Barros",
           424.6475
          ],
          [
           "Villagarcía de la Torre",
           592.4898
          ],
          [
           "Villagonzalo",
           238.0459
          ],
          [
           "Villalba de los Barros",
           310.169
          ],
          [
           "Villanueva de la Serena",
           298.9061
          ],
          [
           "Villanueva del Fresno",
           255.68
          ],
          [
           "Villar del Rey",
           247.6167
          ],
          [
           "Villar de Rena",
           268.562
          ],
          [
           "Villarta de los Montes",
           546.1343
          ],
          [
           "Zafra",
           517.2546
          ],
          [
           "Zahínos",
           345.8639
          ],
          [
           "Zalamea de la Serena",
           482.5517
          ],
          [
           "Zarza-Capilla",
           533.903
          ],
          [
           "Zarza, La",
           285.378
          ],
          [
           "Valdelacalzada",
           184.8226
          ],
          [
           "Pueblonuevo del Guadiana",
           181.9205
          ],
          [
           "Guadiana",
           null
          ],
          [
           "Alaró",
           224.2227
          ],
          [
           "Alaior",
           114
          ],
          [
           "Alcúdia",
           15.67431
          ],
          [
           "Algaida",
           193.2809
          ],
          [
           "Andratx",
           60.20264
          ],
          [
           "Artà",
           130.6105
          ],
          [
           "Banyalbufar",
           109.7573
          ],
          [
           "Binissalem",
           129.6953
          ],
          [
           "Búger",
           93.89581
          ],
          [
           "Bunyola",
           216.3141
          ],
          [
           "Calvià",
           114.0867
          ],
          [
           "Campanet",
           127.2656
          ],
          [
           "Campos",
           22.76925
          ],
          [
           "Capdepera",
           117.9911
          ],
          [
           "Ciutadella de Menorca",
           26.66946
          ],
          [
           "Consell",
           148.8572
          ],
          [
           "Costitx",
           135.5031
          ],
          [
           "Deià",
           null
          ],
          [
           "Escorca",
           690.5303
          ],
          [
           "Esporles",
           187.8363
          ],
          [
           "Estellencs",
           151.0275
          ],
          [
           "Felanitx",
           116.2949
          ],
          [
           "Ferreries",
           74.94495
          ],
          [
           "Formentera",
           21.56246
          ],
          [
           "Fornalutx",
           148.4023
          ],
          [
           "Eivissa",
           9.813921
          ],
          [
           "Inca",
           116.5367
          ],
          [
           "Lloret de Vistalegre",
           159.5069
          ],
          [
           "Lloseta",
           166.5043
          ],
          [
           "Llubí",
           69.92153
          ],
          [
           "Llucmajor",
           138.0817
          ],
          [
           "Maó",
           39.57444
          ],
          [
           "Manacor",
           75.37592
          ],
          [
           "Mancor de la Vall",
           205.7321
          ],
          [
           "Maria de la Salut",
           86.95065
          ],
          [
           "Marratxí",
           125.666
          ],
          [
           "Mercadal, Es",
           58.13219
          ],
          [
           "Montuïri",
           152.9209
          ],
          [
           "Muro",
           62.19497
          ],
          [
           "Palma",
           31.92724
          ],
          [
           "Petra",
           112.8493
          ],
          [
           "Pollença",
           49.42315
          ],
          [
           "Porreres",
           130.0504
          ],
          [
           "Pobla, Sa",
           24.64385
          ],
          [
           "Puigpunyent",
           221.9999
          ],
          [
           "Sant Antoni de Portmany",
           4.347667
          ],
          [
           "Sencelles",
           117.951
          ],
          [
           "Sant Josep de sa Talaia",
           201.3573
          ],
          [
           "Sant Joan",
           138.863
          ],
          [
           "Sant Joan de Labritja",
           189.9139
          ],
          [
           "Sant Llorenç des Cardassar",
           73.45789
          ],
          [
           "Sant Lluís",
           59.16509
          ],
          [
           "Santa Eugènia",
           130.224
          ],
          [
           "Santa Eulària des Riu",
           null
          ],
          [
           "Santa Margalida",
           80.91718
          ],
          [
           "Santa María del Camí",
           128.8374
          ],
          [
           "Santanyí",
           62.64299
          ],
          [
           "Selva",
           193.6428
          ],
          [
           "Salines, Ses",
           42.5712
          ],
          [
           "Sineu",
           141.6883
          ],
          [
           "Sóller",
           42.06099
          ],
          [
           "Son Servera",
           73.98268
          ],
          [
           "Valldemossa",
           415.1554
          ],
          [
           "Castell, Es",
           19.78382
          ],
          [
           "Vilafranca de Bonany",
           98.93115
          ],
          [
           "Ariany",
           122.6419
          ],
          [
           "Migjorn Gran, Es",
           114.6791
          ],
          [
           "Abrera",
           109.4215
          ],
          [
           "Aguilar de Segarra",
           485.7191
          ],
          [
           "Alella",
           98.87153
          ],
          [
           "Alpens",
           871.324
          ],
          [
           "Ametlla del Vallès, L'",
           292.0488
          ],
          [
           "Arenys de Mar",
           13.99495
          ],
          [
           "Arenys de Munt",
           135.549
          ],
          [
           "Argençola",
           713.9279
          ],
          [
           "Argentona",
           92.69514
          ],
          [
           "Artés",
           318.0594
          ],
          [
           "Avià",
           666.2902
          ],
          [
           "Avinyó",
           358.056
          ],
          [
           "Avinyonet del Penedès",
           283.9233
          ],
          [
           "Aiguafreda",
           410.6152
          ],
          [
           "Badalona",
           16.7426
          ],
          [
           "Bagà",
           756.5488
          ],
          [
           "Balenyà",
           593.3597
          ],
          [
           "Balsareny",
           332.1174
          ],
          [
           "Barcelona",
           19.99069
          ],
          [
           "Begues",
           371.5191
          ],
          [
           "Bellprat",
           644.4128
          ],
          [
           "Berga",
           717.4442
          ],
          [
           "Bigues i Riells del Fai",
           null
          ],
          [
           "Borredà",
           854.1898
          ],
          [
           "Bruc, El",
           486.0568
          ],
          [
           "Brull, El",
           844.6136
          ],
          [
           "Cabanyes, Les",
           255.9891
          ],
          [
           "Cabrera d'Anoia",
           298.3023
          ],
          [
           "Cabrera de Mar",
           91.71696
          ],
          [
           "Cabrils",
           143.7525
          ],
          [
           "Calaf",
           682.8802
          ],
          [
           "Caldes d'Estrac",
           26.84373
          ],
          [
           "Caldes de Montbui",
           207.0234
          ],
          [
           "Calders",
           553.9763
          ],
          [
           "Calella",
           11.84439
          ],
          [
           "Calonge de Segarra",
           600.3174
          ],
          [
           "Calldetenes",
           492.9868
          ],
          [
           "Callús",
           259.3951
          ],
          [
           "Campins",
           326.2226
          ],
          [
           "Canet de Mar",
           20.65502
          ],
          [
           "Canovelles",
           152.383
          ],
          [
           "Cànoves i Samalús",
           353.0184
          ],
          [
           "Canyelles",
           141.6833
          ],
          [
           "Capellades",
           371.6293
          ],
          [
           "Capolat",
           1256.905
          ],
          [
           "Cardedeu",
           195.9439
          ],
          [
           "Cardona",
           513.4745
          ],
          [
           "Carme",
           333.2925
          ],
          [
           "Casserres",
           589.9404
          ],
          [
           "Castellar del Riu",
           1513.436
          ],
          [
           "Castellar del Vallès",
           326.716
          ],
          [
           "Castellar de n'Hug",
           1395.379
          ],
          [
           "Castellbell i el Vilar",
           204.0168
          ],
          [
           "Castellbisbal",
           155.6016
          ],
          [
           "Castellcir",
           777.0593
          ],
          [
           "Castelldefels",
           11.07469
          ],
          [
           "Castell de l'Areny",
           968.3701
          ],
          [
           "Castellet i la Gornal",
           136.4205
          ],
          [
           "Castellfollit del Boix",
           698.686
          ],
          [
           "Castellfollit de Riubregós",
           490.0403
          ],
          [
           "Castellgalí",
           253.3427
          ],
          [
           "Castellnou de Bages",
           495.1176
          ],
          [
           "Castellolí",
           398.4724
          ],
          [
           "Castellterçol",
           726.6985
          ],
          [
           "Castellví de la Marca",
           245.9974
          ],
          [
           "Castellví de Rosanes",
           180.9096
          ],
          [
           "Centelles",
           520.1739
          ],
          [
           "Cervelló",
           124.1015
          ],
          [
           "Collbató",
           356.3489
          ],
          [
           "Collsuspina",
           903.0676
          ],
          [
           "Copons",
           427.6519
          ],
          [
           "Corbera de Llobregat",
           247.6125
          ],
          [
           "Cornellà de Llobregat",
           34.61025
          ],
          [
           "Cubelles",
           17.76687
          ],
          [
           "Dosrius",
           145.7481
          ],
          [
           "Esparreguera",
           186.3232
          ],
          [
           "Esplugues de Llobregat",
           102.3782
          ],
          [
           "Espunyola, L'",
           800.0547
          ],
          [
           "Estany, L'",
           871.5331
          ],
          [
           "Fígols",
           1165.989
          ],
          [
           "Fogars de Montclús",
           387.6345
          ],
          [
           "Fogars de la Selva",
           103.0012
          ],
          [
           "Folgueroles",
           549.4312
          ],
          [
           "Fonollosa",
           543.1286
          ],
          [
           "Font-rubí",
           570.7221
          ],
          [
           "Franqueses del Vallès, Les",
           193.2448
          ],
          [
           "Gallifa",
           499.525
          ],
          [
           "Garriga, La",
           254.3281
          ],
          [
           "Gavà",
           17.60962
          ],
          [
           "Gaià",
           476.878
          ],
          [
           "Gelida",
           179.6132
          ],
          [
           "Gironella",
           448.126
          ],
          [
           "Gisclareny",
           1322.767
          ],
          [
           "Granada, La",
           262.5426
          ],
          [
           "Granera",
           770.4465
          ],
          [
           "Granollers",
           153.9423
          ],
          [
           "Gualba",
           179.8176
          ],
          [
           "Sant Salvador de Guardiola",
           328.5852
          ],
          [
           "Guardiola de Berguedà",
           736.9873
          ],
          [
           "Gurb",
           510.7029
          ],
          [
           "Hospitalet de Llobregat, L'",
           15.67791
          ],
          [
           "Igualada",
           324.2647
          ],
          [
           "Jorba",
           392.2477
          ],
          [
           "Llacuna, La",
           2.997324
          ],
          [
           "Llagosta, La",
           54.71911
          ],
          [
           "Llinars del Vallès",
           188.906
          ],
          [
           "Lliçà d'Amunt",
           130.7585
          ],
          [
           "Lliçà de Vall",
           116.4834
          ],
          [
           "Lluçà",
           751.5039
          ],
          [
           "Malgrat de Mar",
           9.097663
          ],
          [
           "Malla",
           575.686
          ],
          [
           "Manlleu",
           453.0776
          ],
          [
           "Manresa",
           236.034
          ],
          [
           "Martorell",
           66.23137
          ],
          [
           "Martorelles",
           115.5095
          ],
          [
           "Masies de Roda, Les",
           null
          ],
          [
           "Masies de Voltregà, Les",
           536.5225
          ],
          [
           "Masnou, El",
           10.36085
          ],
          [
           "Masquefa",
           258.067
          ],
          [
           "Matadepera",
           421.1513
          ],
          [
           "Mataró",
           20.37009
          ],
          [
           "Mediona",
           526.9124
          ],
          [
           "Molins de Rei",
           33.16643
          ],
          [
           "Mollet del Vallès",
           74.09034
          ],
          [
           "Montcada i Reixac",
           37.0056
          ],
          [
           "Montgat",
           22.97567
          ],
          [
           "Monistrol de Montserrat",
           168.2423
          ],
          [
           "Monistrol de Calders",
           452.798
          ],
          [
           "Muntanyola",
           802.8712
          ],
          [
           "Montclar",
           699.5048
          ],
          [
           "Montesquiu",
           575.4601
          ],
          [
           "Montmajor",
           757.0117
          ],
          [
           "Montmaneu",
           714.0361
          ],
          [
           "Figaró-Montmany",
           326.0451
          ],
          [
           "Montmeló",
           84.53434
          ],
          [
           "Montornès del Vallès",
           100.0693
          ],
          [
           "Montseny",
           535.3168
          ],
          [
           "Moià",
           730.1093
          ],
          [
           "Mura",
           470.6466
          ],
          [
           "Navarcles",
           255.0479
          ],
          [
           "Navàs",
           371.9668
          ],
          [
           "Nou de Berguedà, La",
           865.2148
          ],
          [
           "Òdena",
           404.7818
          ],
          [
           "Olvan",
           566.9895
          ],
          [
           "Olèrdola",
           179.9567
          ],
          [
           "Olesa de Bonesvalls",
           273.3946
          ],
          [
           "Olesa de Montserrat",
           105.909
          ],
          [
           "Olivella",
           207.4666
          ],
          [
           "Olost",
           572.0165
          ],
          [
           "Orís",
           570.6917
          ],
          [
           "Oristà",
           467.3857
          ],
          [
           "Orpí",
           482.553
          ],
          [
           "Òrrius",
           254.5491
          ],
          [
           "Pacs del Penedès",
           210.873
          ],
          [
           "Palafolls",
           10.6715
          ],
          [
           "Palau-solità i Plegamans",
           137.2143
          ],
          [
           "Pallejà",
           43.74018
          ],
          [
           "Papiol, El",
           129.2383
          ],
          [
           "Parets del Vallès",
           97.48323
          ],
          [
           "Perafita",
           753.5203
          ],
          [
           "Piera",
           282.576
          ],
          [
           "Hostalets de Pierola, Els",
           369.2267
          ],
          [
           "Pineda de Mar",
           12.10963
          ],
          [
           "Pla del Penedès, El",
           227.2813
          ],
          [
           "Pobla de Claramunt, La",
           272.2743
          ],
          [
           "Pobla de Lillet, La",
           854.4056
          ],
          [
           "Polinyà",
           129.1282
          ],
          [
           "Pontons",
           588.9841
          ],
          [
           "Prat de Llobregat, El",
           10.36917
          ],
          [
           "Prats de Rei, Els",
           614.0353
          ],
          [
           "Prats de Lluçanès",
           709.0973
          ],
          [
           "Premià de Mar",
           13.17984
          ],
          [
           "Puigdàlber",
           239.9502
          ],
          [
           "Puig-reig",
           444.6947
          ],
          [
           "Pujalt",
           749.2104
          ],
          [
           "Quar, La",
           850.0149
          ],
          [
           "Rajadell",
           343.1941
          ],
          [
           "Rellinars",
           344.744
          ],
          [
           "Ripollet",
           81.84142
          ],
          [
           "Roca del Vallès, La",
           131.0679
          ],
          [
           "Pont de Vilomara i Rocafort, El",
           203.9381
          ],
          [
           "Roda de Ter",
           454.8112
          ],
          [
           "Rubí",
           133.4794
          ],
          [
           "Rubió",
           600.4712
          ],
          [
           "Sabadell",
           198.7852
          ],
          [
           "Sagàs",
           712.4318
          ],
          [
           "Sant Pere Sallavinera",
           587.7723
          ],
          [
           "Saldes",
           1233.967
          ],
          [
           "Sallent",
           279.7943
          ],
          [
           "Santpedor",
           324.6286
          ],
          [
           "Sant Iscle de Vallalta",
           127
          ],
          [
           "Sant Adrià de Besòs",
           18.77083
          ],
          [
           "Sant Agustí de Lluçanès",
           831.834
          ],
          [
           "Sant Andreu de la Barca",
           48.89596
          ],
          [
           "Sant Andreu de Llavaneres",
           112.0381
          ],
          [
           "Sant Antoni de Vilamajor",
           260.0836
          ],
          [
           "Sant Bartomeu del Grau",
           877.1983
          ],
          [
           "Sant Boi de Llobregat",
           22.73825
          ],
          [
           "Sant Boi de Lluçanès",
           807
          ],
          [
           "Sant Celoni",
           157.3233
          ],
          [
           "Sant Cebrià de Vallalta",
           77.32714
          ],
          [
           "Sant Climent de Llobregat",
           80.42606
          ],
          [
           "Sant Cugat del Vallès",
           130.2749
          ],
          [
           "Sant Cugat Sesgarrigues",
           269.0334
          ],
          [
           "Sant Esteve de Palautordera",
           237.4874
          ],
          [
           "Sant Esteve Sesrovires",
           178.7557
          ],
          [
           "Sant Fost de Campsentelles",
           112.3262
          ],
          [
           "Sant Feliu de Codines",
           486.7332
          ],
          [
           "Sant Feliu de Llobregat",
           31.72373
          ],
          [
           "Sant Feliu Sasserra",
           617.3484
          ],
          [
           "Sant Fruitós de Bages",
           261.4637
          ],
          [
           "Vilassar de Dalt",
           133.6058
          ],
          [
           "Sant Hipòlit de Voltregà",
           531.1494
          ],
          [
           "Sant Jaume de Frontanyà",
           1074.112
          ],
          [
           "Sant Joan Despí",
           20.53358
          ],
          [
           "Sant Joan de Vilatorrada",
           228.8402
          ],
          [
           "Vilassar de Mar",
           10.80674
          ],
          [
           "Sant Julià de Vilatorta",
           599.2924
          ],
          [
           "Sant Just Desvern",
           122.1042
          ],
          [
           "Sant Llorenç d'Hortons",
           216.0685
          ],
          [
           "Sant Llorenç Savall",
           487.5616
          ],
          [
           "Sant Martí de Centelles",
           724.98
          ],
          [
           "Sant Martí d'Albars",
           628.8278
          ],
          [
           "Sant Martí de Tous",
           444.6292
          ],
          [
           "Sant Martí Sarroca",
           296.2319
          ],
          [
           "Sant Martí Sesgueioles",
           646.0749
          ],
          [
           "Sant Mateu de Bages",
           572.9196
          ],
          [
           "Premià de Dalt",
           133.3237
          ],
          [
           "Sant Pere de Ribes",
           45.06723
          ],
          [
           "Sant Pere de Riudebitlles",
           252.1739
          ],
          [
           "Sant Pere de Torelló",
           621.7791
          ],
          [
           "Sant Pere de Vilamajor",
           298.7486
          ],
          [
           "Sant Pol de Mar",
           13.29345
          ],
          [
           "Sant Quintí de Mediona",
           333.5246
          ],
          [
           "Sant Quirze de Besora",
           572.5922
          ],
          [
           "Sant Quirze del Vallès",
           165.9138
          ],
          [
           "Sant Quirze Safaja",
           603.6134
          ],
          [
           "Sant Sadurní d'Anoia",
           168.4416
          ],
          [
           "Sant Sadurní d'Osormort",
           533.9646
          ],
          [
           "Marganell",
           313.6546
          ],
          [
           "Santa Cecília de Voltregà",
           522.2773
          ],
          [
           "Santa Coloma de Cervelló",
           76.92886
          ],
          [
           "Santa Coloma de Gramenet",
           37.66038
          ],
          [
           "Santa Eugènia de Berga",
           536.6241
          ],
          [
           "Santa Eulàlia de Riuprimer",
           575.5924
          ],
          [
           "Santa Eulàlia de Ronçana",
           221.9401
          ],
          [
           "Santa Fe del Penedès",
           239.9169
          ],
          [
           "Santa Margarida de Montbui",
           388.9097
          ],
          [
           "Santa Margarida i els Monjos",
           171.3222
          ],
          [
           "Barberà del Vallès",
           142.2961
          ],
          [
           "Santa Maria de Besora",
           871.7925
          ],
          [
           "Esquirol, L'",
           null
          ],
          [
           "Santa Maria de Merlès",
           518.8036
          ],
          [
           "Santa Maria de Martorelles",
           178.528
          ],
          [
           "Santa Maria de Miralles",
           553.0007
          ],
          [
           "Santa Maria d'Oló",
           515.0869
          ],
          [
           "Santa Maria de Palautordera",
           211.9186
          ],
          [
           "Santa Perpètua de Mogoda",
           81.15939
          ],
          [
           "Santa Susanna",
           50.67278
          ],
          [
           "Sant Vicenç de Castellet",
           175.3337
          ],
          [
           "Sant Vicenç dels Horts",
           32.74398
          ],
          [
           "Sant Vicenç de Montalt",
           177.863
          ],
          [
           "Sant Vicenç de Torelló",
           558.8644
          ],
          [
           "Cerdanyola del Vallès",
           87.2362
          ],
          [
           "Sentmenat",
           229.8691
          ],
          [
           "Cercs",
           749.4134
          ],
          [
           "Seva",
           672.0496
          ],
          [
           "Sitges",
           9.967733
          ],
          [
           "Sobremunt",
           881.4683
          ],
          [
           "Sora",
           695.3496
          ],
          [
           "Subirats",
           274.2937
          ],
          [
           "Súria",
           284.714
          ],
          [
           "Tavèrnoles",
           529.109
          ],
          [
           "Tagamanent",
           348.8652
          ],
          [
           "Talamanca",
           553.4589
          ],
          [
           "Taradell",
           633.068
          ],
          [
           "Terrassa",
           285.6018
          ],
          [
           "Tavertet",
           868.5259
          ],
          [
           "Teià",
           117.6808
          ],
          [
           "Tiana",
           124.7599
          ],
          [
           "Tona",
           602.5104
          ],
          [
           "Tordera",
           31.37682
          ],
          [
           "Torelló",
           507.7611
          ],
          [
           "Torre de Claramunt, La",
           367.9993
          ],
          [
           "Torrelavit",
           201.7227
          ],
          [
           "Torrelles de Foix",
           380.5124
          ],
          [
           "Torrelles de Llobregat",
           154.783
          ],
          [
           "Ullastrell",
           314.4088
          ],
          [
           "Vacarisses",
           406.7665
          ],
          [
           "Vallbona d'Anoia",
           297.2954
          ],
          [
           "Vallcebre",
           1127.919
          ],
          [
           "Vallgorguina",
           223.2106
          ],
          [
           "Vallirana",
           184.8448
          ],
          [
           "Vallromanes",
           155.1461
          ],
          [
           "Veciana",
           556.9959
          ],
          [
           "Vic",
           505.4679
          ],
          [
           "Vilada",
           724.7032
          ],
          [
           "Viladecavalls",
           265.7476
          ],
          [
           "Viladecans",
           19.77518
          ],
          [
           "Vilanova del Camí",
           313.7972
          ],
          [
           "Vilanova de Sau",
           557.92
          ],
          [
           "Vilobí del Penedès",
           284.1465
          ],
          [
           "Vilafranca del Penedès",
           230.5926
          ],
          [
           "Vilalba Sasserra",
           221.1936
          ],
          [
           "Vilanova i la Geltrú",
           25.03975
          ],
          [
           "Viver i Serrateix",
           724.3826
          ],
          [
           "Rupit i Pruit",
           843.8084
          ],
          [
           "Vilanova del Vallès",
           92.16563
          ],
          [
           "Sant Julià de Cerdanyola",
           967.7538
          ],
          [
           "Badia del Vallès",
           122.4438
          ],
          [
           "Palma de Cervelló, La",
           110.9084
          ],
          [
           "Abajas",
           837.949
          ],
          [
           "Adrada de Haza",
           824.687
          ],
          [
           "Aguas Cándidas",
           712.041
          ],
          [
           "Aguilar de Bureba",
           689.226
          ],
          [
           "Albillos",
           832.9681
          ],
          [
           "Alcocero de Mola",
           799.6028
          ],
          [
           "Alfoz de Bricia",
           847.3563
          ],
          [
           "Alfoz de Santa Gadea",
           882.3184
          ],
          [
           "Altable",
           711.29
          ],
          [
           "Altos, Los",
           1026.667
          ],
          [
           "Ameyugo",
           553.5253
          ],
          [
           "Anguix",
           814.4943
          ],
          [
           "Aranda de Duero",
           805.1658
          ],
          [
           "Arandilla",
           885.0873
          ],
          [
           "Arauzo de Miel",
           1003.22
          ],
          [
           "Arauzo de Salce",
           944.5539
          ],
          [
           "Arauzo de Torre",
           922.907
          ],
          [
           "Arcos",
           851.1382
          ],
          [
           "Arenillas de Riopisuerga",
           788.459
          ],
          [
           "Arija",
           844.3306
          ],
          [
           "Arlanzón",
           995.9109
          ],
          [
           "Arraya de Oca",
           926.2366
          ],
          [
           "Atapuerca",
           953.9974
          ],
          [
           "Ausines, Los",
           914.6774
          ],
          [
           "Avellanosa de Muñó",
           870.7616
          ],
          [
           "Bahabón de Esgueva",
           916.0064
          ],
          [
           "Balbases, Los",
           811.7905
          ],
          [
           "Baños de Valdearados",
           870.1116
          ],
          [
           "Bañuelos de Bureba",
           784.2388
          ],
          [
           "Barbadillo de Herreros",
           1408.983
          ],
          [
           "Barbadillo del Mercado",
           955.1722
          ],
          [
           "Barbadillo del Pez",
           1053.858
          ],
          [
           "Barrio de Muñó",
           782.927
          ],
          [
           "Barrios de Bureba, Los",
           631.6701
          ],
          [
           "Barrios de Colina",
           964.8784
          ],
          [
           "Basconcillos del Tozo",
           910.5488
          ],
          [
           "Bascuñana",
           800.0485
          ],
          [
           "Belbimbre",
           793.7833
          ],
          [
           "Belorado",
           773.8459
          ],
          [
           "Berberana",
           620.4984
          ],
          [
           "Berlangas de Roa",
           781.4107
          ],
          [
           "Berzosa de Bureba",
           679.3917
          ],
          [
           "Bozoó",
           572.3182
          ],
          [
           "Brazacorta",
           909.0886
          ],
          [
           "Briviesca",
           725
          ],
          [
           "Bugedo",
           533.7709
          ],
          [
           "Buniel",
           819.815
          ],
          [
           "Burgos",
           865.8016
          ],
          [
           "Busto de Bureba",
           708.1784
          ],
          [
           "Cabañes de Esgueva",
           885.2454
          ],
          [
           "Cabezón de la Sierra",
           1016.805
          ],
          [
           "Cavia",
           815.5443
          ],
          [
           "Caleruega",
           955.7069
          ],
          [
           "Campillo de Aranda",
           912.9706
          ],
          [
           "Campolara",
           971.9648
          ],
          [
           "Canicosa de la Sierra",
           1130.863
          ],
          [
           "Cantabrana",
           636.0662
          ],
          [
           "Carazo",
           1127.545
          ],
          [
           "Carcedo de Bureba",
           751.9003
          ],
          [
           "Carcedo de Burgos",
           989.6016
          ],
          [
           "Cardeñadijo",
           899.719
          ],
          [
           "Cardeñajimeno",
           924.9677
          ],
          [
           "Cardeñuela Riopico",
           926.5973
          ],
          [
           "Carrias",
           821.5297
          ],
          [
           "Cascajares de Bureba",
           802.5067
          ],
          [
           "Cascajares de la Sierra",
           927.9459
          ],
          [
           "Castellanos de Castro",
           873.9877
          ],
          [
           "Castildelgado",
           768.4348
          ],
          [
           "Castil de Peones",
           790.1807
          ],
          [
           "Castrillo de la Reina",
           978.027
          ],
          [
           "Castrillo de la Vega",
           808.438
          ],
          [
           "Castrillo del Val",
           942.9785
          ],
          [
           "Castrillo de Riopisuerga",
           816.8545
          ],
          [
           "Castrillo Mota de Judíos",
           null
          ],
          [
           "Castrojeriz",
           816.0674
          ],
          [
           "Cayuela",
           821.8987
          ],
          [
           "Cebrecos",
           950.4548
          ],
          [
           "Celada del Camino",
           796.4451
          ],
          [
           "Cerezo de Río Tirón",
           650.4071
          ],
          [
           "Cerratón de Juarros",
           959.26
          ],
          [
           "Ciadoncha",
           789.7081
          ],
          [
           "Cillaperlata",
           540.39
          ],
          [
           "Cilleruelo de Abajo",
           915.1015
          ],
          [
           "Cilleruelo de Arriba",
           966.1483
          ],
          [
           "Ciruelos de Cervera",
           1019.25
          ],
          [
           "Cogollos",
           887.1991
          ],
          [
           "Condado de Treviño",
           561.0759
          ],
          [
           "Contreras",
           1023.346
          ],
          [
           "Coruña del Conde",
           907.8076
          ],
          [
           "Covarrubias",
           895.1803
          ],
          [
           "Cubillo del Campo",
           991.9786
          ],
          [
           "Cubo de Bureba",
           685
          ],
          [
           "Cueva de Roa, La",
           768.5865
          ],
          [
           "Cuevas de San Clemente",
           1030.792
          ],
          [
           "Encío",
           588.3317
          ],
          [
           "Espinosa de Cervera",
           1030.725
          ],
          [
           "Espinosa del Camino",
           894.847
          ],
          [
           "Espinosa de los Monteros",
           753.3468
          ],
          [
           "Estépar",
           810.9069
          ],
          [
           "Fontioso",
           959.9049
          ],
          [
           "Frandovínez",
           823.8157
          ],
          [
           "Fresneda de la Sierra Tirón",
           983.1557
          ],
          [
           "Fresneña",
           843.5111
          ],
          [
           "Fresnillo de las Dueñas",
           803.7737
          ],
          [
           "Fresno de Río Tirón",
           706.4641
          ],
          [
           "Fresno de Rodilla",
           975.9765
          ],
          [
           "Frías",
           552.6826
          ],
          [
           "Fuentebureba",
           679.7742
          ],
          [
           "Fuentecén",
           823.7171
          ],
          [
           "Fuentelcésped",
           891.0616
          ],
          [
           "Fuentelisendo",
           829.7731
          ],
          [
           "Fuentemolinos",
           881.0905
          ],
          [
           "Fuentenebro",
           917.0896
          ],
          [
           "Fuentespina",
           824.6624
          ],
          [
           "Galbarros",
           942.7526
          ],
          [
           "Gallega, La",
           1113.472
          ],
          [
           "Grijalba",
           813.0934
          ],
          [
           "Grisaleña",
           743.1436
          ],
          [
           "Gumiel de Izán",
           857.4003
          ],
          [
           "Gumiel de Mercado",
           836.8545
          ],
          [
           "Hacinas",
           999.0156
          ],
          [
           "Haza",
           902.7407
          ],
          [
           "Hontanas",
           864.0971
          ],
          [
           "Hontangas",
           839.5234
          ],
          [
           "Hontoria de la Cantera",
           942.0605
          ],
          [
           "Hontoria del Pinar",
           1059.013
          ],
          [
           "Hontoria de Valdearados",
           867.0024
          ],
          [
           "Hormazas, Las",
           1009.913
          ],
          [
           "Hornillos del Camino",
           821.6969
          ],
          [
           "Horra, La",
           807.9294
          ],
          [
           "Hortigüela",
           937.3899
          ],
          [
           "Hoyales de Roa",
           795.561
          ],
          [
           "Huérmeces",
           886.0017
          ],
          [
           "Huerta de Arriba",
           1206.336
          ],
          [
           "Huerta de Rey",
           991.6105
          ],
          [
           "Humada",
           954.9947
          ],
          [
           "Hurones",
           915.0182
          ],
          [
           "Ibeas de Juarros",
           932.6844
          ],
          [
           "Ibrillos",
           739.1857
          ],
          [
           "Iglesiarrubia",
           886.8805
          ],
          [
           "Iglesias",
           850.6342
          ],
          [
           "Isar",
           835.423
          ],
          [
           "Itero del Castillo",
           775.8432
          ],
          [
           "Jaramillo de la Fuente",
           1056.931
          ],
          [
           "Jaramillo Quemado",
           975.7737
          ],
          [
           "Junta de Traslaloma",
           674.0426
          ],
          [
           "Junta de Villalba de Losa",
           665.9935
          ],
          [
           "Jurisdicción de Lara",
           991.6866
          ],
          [
           "Jurisdicción de San Zadornil",
           645.5733
          ],
          [
           "Lerma",
           861.3351
          ],
          [
           "Llano de Bureba",
           643.2963
          ],
          [
           "Madrigal del Monte",
           936.2405
          ],
          [
           "Madrigalejo del Monte",
           893.5258
          ],
          [
           "Mahamud",
           829.49
          ],
          [
           "Mambrilla de Castrejón",
           825.6786
          ],
          [
           "Mambrillas de Lara",
           991.4476
          ],
          [
           "Mamolar",
           1087.678
          ],
          [
           "Manciles",
           883.8896
          ],
          [
           "Mazuela",
           823.2963
          ],
          [
           "Mecerreyes",
           988.3194
          ],
          [
           "Medina de Pomar",
           600.9326
          ],
          [
           "Melgar de Fernamental",
           804.4712
          ],
          [
           "Merindad de Cuesta-Urria",
           914.2464
          ],
          [
           "Merindad de Montija",
           739.4695
          ],
          [
           "Merindad de Sotoscueva",
           760.6615
          ],
          [
           "Merindad de Valdeporres",
           754.3774
          ],
          [
           "Merindad de Valdivielso",
           594.3845
          ],
          [
           "Milagros",
           848.9799
          ],
          [
           "Miranda de Ebro",
           465.1602
          ],
          [
           "Miraveche",
           804.4718
          ],
          [
           "Modúbar de la Emparedada",
           887.0018
          ],
          [
           "Monasterio de la Sierra",
           1169.284
          ],
          [
           "Monasterio de Rodilla",
           877.2269
          ],
          [
           "Moncalvillo",
           1049.716
          ],
          [
           "Monterrubio de la Demanda",
           1209.271
          ],
          [
           "Montorio",
           945.1601
          ],
          [
           "Moradillo de Roa",
           919.9839
          ],
          [
           "Nava de Roa",
           785.074
          ],
          [
           "Navas de Bureba",
           764.6017
          ],
          [
           "Nebreda",
           916.8637
          ],
          [
           "Neila",
           1180.486
          ],
          [
           "Olmedillo de Roa",
           840.8633
          ],
          [
           "Olmillos de Muñó",
           807.4762
          ],
          [
           "Oña",
           585.5073
          ],
          [
           "Oquillas",
           913.3432
          ],
          [
           "Orbaneja Riopico",
           911.2252
          ],
          [
           "Padilla de Abajo",
           798.9708
          ],
          [
           "Padilla de Arriba",
           830.7649
          ],
          [
           "Padrones de Bureba",
           781.8212
          ],
          [
           "Palacios de la Sierra",
           1065.092
          ],
          [
           "Palacios de Riopisuerga",
           777.4734
          ],
          [
           "Palazuelos de la Sierra",
           1107.045
          ],
          [
           "Palazuelos de Muñó",
           786.5093
          ],
          [
           "Pampliega",
           807.5865
          ],
          [
           "Pancorbo",
           631.5779
          ],
          [
           "Pardilla",
           883.9958
          ],
          [
           "Partido de la Sierra en Tobalina",
           919.4133
          ],
          [
           "Pedrosa de Duero",
           840.3677
          ],
          [
           "Pedrosa del Páramo",
           943.9882
          ],
          [
           "Pedrosa del Príncipe",
           772.689
          ],
          [
           "Pedrosa de Río Úrbel",
           844.2335
          ],
          [
           "Peñaranda de Duero",
           863.9903
          ],
          [
           "Peral de Arlanza",
           774.4771
          ],
          [
           "Piérnigas",
           742.1521
          ],
          [
           "Pineda de la Sierra",
           1207.499
          ],
          [
           "Pineda Trasmonte",
           951.4017
          ],
          [
           "Pinilla de los Barruecos",
           1078.882
          ],
          [
           "Pinilla de los Moros",
           972.2211
          ],
          [
           "Pinilla Trasmonte",
           935.5198
          ],
          [
           "Poza de la Sal",
           756.3673
          ],
          [
           "Prádanos de Bureba",
           757.1823
          ],
          [
           "Pradoluengo",
           967.4692
          ],
          [
           "Presencio",
           812.668
          ],
          [
           "Puebla de Arganzón, La",
           481.9095
          ],
          [
           "Puentedura",
           863.5676
          ],
          [
           "Quemada",
           845.9969
          ],
          [
           "Quintanabureba",
           685.0708
          ],
          [
           "Quintana del Pidio",
           845.543
          ],
          [
           "Quintanaélez",
           706.2351
          ],
          [
           "Quintanaortuño",
           866.8036
          ],
          [
           "Quintanapalla",
           926.6073
          ],
          [
           "Quintanar de la Sierra",
           1123.957
          ],
          [
           "Quintanavides",
           821.1276
          ],
          [
           "Quintanilla de la Mata",
           879.5328
          ],
          [
           "Quintanilla del Coco",
           944.5446
          ],
          [
           "Quintanillas, Las",
           845.5656
          ],
          [
           "Quintanilla San García",
           728.1328
          ],
          [
           "Quintanilla Vivar",
           847.6979
          ],
          [
           "Rabanera del Pinar",
           1089.831
          ],
          [
           "Rábanos",
           1169.908
          ],
          [
           "Rabé de las Calzadas",
           828.6588
          ],
          [
           "Rebolledo de la Torre",
           946.585
          ],
          [
           "Redecilla del Camino",
           742.664
          ],
          [
           "Redecilla del Campo",
           744.6154
          ],
          [
           "Regumiel de la Sierra",
           1119.525
          ],
          [
           "Reinoso",
           857.253
          ],
          [
           "Retuerta",
           898.2924
          ],
          [
           "Revilla y Ahedo, La",
           1016.2
          ],
          [
           "Revilla del Campo",
           943.8928
          ],
          [
           "Revillarruz",
           887.4633
          ],
          [
           "Revilla Vallejera",
           790.5965
          ],
          [
           "Rezmondo",
           829.0405
          ],
          [
           "Riocavado de la Sierra",
           1138.1
          ],
          [
           "Roa",
           816.1801
          ],
          [
           "Rojas",
           722.4857
          ],
          [
           "Royuela de Río Franco",
           836.2991
          ],
          [
           "Rubena",
           907.232
          ],
          [
           "Rublacedo de Abajo",
           791.6646
          ],
          [
           "Rucandio",
           814.6119
          ],
          [
           "Salas de Bureba",
           636.4282
          ],
          [
           "Salas de los Infantes",
           955.1323
          ],
          [
           "Saldaña de Burgos",
           865.5466
          ],
          [
           "Salinillas de Bureba",
           864.7104
          ],
          [
           "San Adrián de Juarros",
           1046.845
          ],
          [
           "San Juan del Monte",
           840.6755
          ],
          [
           "San Mamés de Burgos",
           839.3281
          ],
          [
           "San Martín de Rubiales",
           807.8439
          ],
          [
           "San Millán de Lara",
           1091.387
          ],
          [
           "Santa Cecilia",
           838.1049
          ],
          [
           "Santa Cruz de la Salceda",
           877.335
          ],
          [
           "Santa Cruz del Valle Urbión",
           966.4688
          ],
          [
           "Santa Gadea del Cid",
           504.1093
          ],
          [
           "Santa Inés",
           855.8006
          ],
          [
           "Santa María del Campo",
           820.0243
          ],
          [
           "Santa María del Invierno",
           856.8571
          ],
          [
           "Santa María del Mercadillo",
           961.0493
          ],
          [
           "Santa María Ribarredonda",
           null
          ],
          [
           "Santa Olalla de Bureba",
           842.1753
          ],
          [
           "Santibáñez de Esgueva",
           916.1117
          ],
          [
           "Santibáñez del Val",
           940.0613
          ],
          [
           "Santo Domingo de Silos",
           1003.193
          ],
          [
           "San Vicente del Valle",
           959.6901
          ],
          [
           "Sargentes de la Lora",
           1016.58
          ],
          [
           "Sarracín",
           861.6798
          ],
          [
           "Sasamón",
           822.8265
          ],
          [
           "Sequera de Haza, La",
           865.857
          ],
          [
           "Solarana",
           903.6647
          ],
          [
           "Sordillos",
           820.5914
          ],
          [
           "Sotillo de la Ribera",
           846.7383
          ],
          [
           "Sotragero",
           848.6204
          ],
          [
           "Sotresgudo",
           867.8129
          ],
          [
           "Susinos del Páramo",
           891.6351
          ],
          [
           "Tamarón",
           819.7283
          ],
          [
           "Tardajos",
           820.7985
          ],
          [
           "Tejada",
           1088.137
          ],
          [
           "Terradillos de Esgueva",
           871.492
          ],
          [
           "Tinieblas de la Sierra",
           1117.56
          ],
          [
           "Tobar",
           881.2235
          ],
          [
           "Tordómar",
           810.6567
          ],
          [
           "Torrecilla del Monte",
           940.4993
          ],
          [
           "Torregalindo",
           837.1947
          ],
          [
           "Torrelara",
           994.3602
          ],
          [
           "Torrepadre",
           804.0082
          ],
          [
           "Torresandino",
           855.1797
          ],
          [
           "Tórtoles de Esgueva",
           847.5756
          ],
          [
           "Tosantos",
           821.4364
          ],
          [
           "Trespaderne",
           553.7908
          ],
          [
           "Tubilla del Agua",
           765.2631
          ],
          [
           "Tubilla del Lago",
           890.4365
          ],
          [
           "Úrbel del Castillo",
           939.2537
          ],
          [
           "Vadocondes",
           811.2837
          ],
          [
           "Valdeande",
           953.6688
          ],
          [
           "Valdezate",
           819.2969
          ],
          [
           "Valdorros",
           902.2606
          ],
          [
           "Valmala",
           992.0233
          ],
          [
           "Vallarta de Bureba",
           716.6888
          ],
          [
           "Valle de Manzanedo",
           620.3103
          ],
          [
           "Valle de Mena",
           316.4509
          ],
          [
           "Valle de Oca",
           861.2545
          ],
          [
           "Valle de Tobalina",
           551.9635
          ],
          [
           "Valle de Valdebezana",
           837.9944
          ],
          [
           "Valle de Valdelaguna",
           1153.362
          ],
          [
           "Valle de Valdelucio",
           956.92
          ],
          [
           "Valle de Zamanzas",
           732.0581
          ],
          [
           "Vallejera",
           809.662
          ],
          [
           "Valles de Palenzuela",
           800.1052
          ],
          [
           "Valluércanes",
           702.7288
          ],
          [
           "Vid y Barrios, La",
           821.0573
          ],
          [
           "Vid de Bureba, La",
           695.98
          ],
          [
           "Vileña",
           664.5483
          ],
          [
           "Viloria de Rioja",
           797.8878
          ],
          [
           "Vilviestre del Pinar",
           1125.399
          ],
          [
           "Villadiego",
           839.8806
          ],
          [
           "Villaescusa de Roa",
           897.6312
          ],
          [
           "Villaescusa la Sombría",
           905.8726
          ],
          [
           "Villaespasa",
           960.8056
          ],
          [
           "Villafranca Montes de Oca",
           957.1002
          ],
          [
           "Villafruela",
           909.7965
          ],
          [
           "Villagalijo",
           896.4912
          ],
          [
           "Villagonzalo Pedernales",
           901.259
          ],
          [
           "Villahoz",
           825.1154
          ],
          [
           "Villalba de Duero",
           812.4379
          ],
          [
           "Villalbilla de Burgos",
           840.6373
          ],
          [
           "Villalbilla de Gumiel",
           912.6685
          ],
          [
           "Villaldemiro",
           808.5146
          ],
          [
           "Villalmanzo",
           856.2233
          ],
          [
           "Villamayor de los Montes",
           886.0144
          ],
          [
           "Villamayor de Treviño",
           820.1368
          ],
          [
           "Villambistia",
           853.298
          ],
          [
           "Villamedianilla",
           799.8643
          ],
          [
           "Villamiel de la Sierra",
           1149.774
          ],
          [
           "Villangómez",
           845.0154
          ],
          [
           "Villanueva de Argaño",
           837.6054
          ],
          [
           "Villanueva de Carazo",
           1059.717
          ],
          [
           "Villanueva de Gumiel",
           844.9825
          ],
          [
           "Villanueva de Teba",
           722.023
          ],
          [
           "Villaquirán de la Puebla",
           812.8803
          ],
          [
           "Villaquirán de los Infantes",
           814.3567
          ],
          [
           "Villariezo",
           862.4636
          ],
          [
           "Villasandino",
           792.2771
          ],
          [
           "Villasur de Herreros",
           1030.04
          ],
          [
           "Villatuelda",
           858.7932
          ],
          [
           "Villaverde del Monte",
           848.5208
          ],
          [
           "Villaverde-Mogina",
           773.155
          ],
          [
           "Villayerno Morquillas",
           911.3355
          ],
          [
           "Villazopeque",
           782.1231
          ],
          [
           "Villegas",
           823
          ],
          [
           "Villoruebo",
           1121.721
          ],
          [
           "Vizcaínos",
           1025.813
          ],
          [
           "Zael",
           843.672
          ],
          [
           "Zarzosa de Río Pisuerga",
           821.7172
          ],
          [
           "Zazuar",
           839.9166
          ],
          [
           "Zuñeda",
           719.7062
          ],
          [
           "Quintanilla del Agua y Tordueles",
           886.2692
          ],
          [
           "Valle de Santibáñez",
           956.8112
          ],
          [
           "Villarcayo de Merindad de Castilla la Vieja",
           598.8633
          ],
          [
           "Valle de las Navas",
           880.0316
          ],
          [
           "Valle de Sedano",
           758.8844
          ],
          [
           "Merindad de Río Ubierna",
           965.3793
          ],
          [
           "Alfoz de Quintanadueñas",
           847.4794
          ],
          [
           "Valle de Losa",
           697.9474
          ],
          [
           "Abadía",
           452.6463
          ],
          [
           "Abertura",
           401.0113
          ],
          [
           "Acebo",
           514.3077
          ],
          [
           "Acehúche",
           338.1039
          ],
          [
           "Aceituna",
           484.0965
          ],
          [
           "Ahigal",
           389.4077
          ],
          [
           "Albalá",
           499.4348
          ],
          [
           "Alcántara",
           230.2392
          ],
          [
           "Alcollarín",
           314.6408
          ],
          [
           "Alcuéscar",
           473.301
          ],
          [
           "Aldeacentenera",
           566.658
          ],
          [
           "Aldea del Cano",
           397.4777
          ],
          [
           "Aldea del Obispo, La",
           436.7204
          ],
          [
           "Aldeanueva de la Vera",
           652.1578
          ],
          [
           "Aldeanueva del Camino",
           527.226
          ],
          [
           "Aldehuela de Jerte",
           260.1803
          ],
          [
           "Alía",
           578.4503
          ],
          [
           "Aliseda",
           325.5008
          ],
          [
           "Almaraz",
           272.2951
          ],
          [
           "Almoharín",
           305.6157
          ],
          [
           "Arroyo de la Luz",
           348.1518
          ],
          [
           "Arroyomolinos de la Vera",
           608.2899
          ],
          [
           "Arroyomolinos",
           397.1799
          ],
          [
           "Baños de Montemayor",
           700.7947
          ],
          [
           "Barrado",
           776.6094
          ],
          [
           "Belvís de Monroy",
           391.3559
          ],
          [
           "Benquerencia",
           444.9597
          ],
          [
           "Berrocalejo",
           375.8121
          ],
          [
           "Berzocana",
           718.6393
          ],
          [
           "Bohonal de Ibor",
           349.8538
          ],
          [
           "Botija",
           424.9815
          ],
          [
           "Brozas",
           410.4544
          ],
          [
           "Cabañas del Castillo",
           760.3389
          ],
          [
           "Cabezabellosa",
           855.8938
          ],
          [
           "Cabezuela del Valle",
           514.3602
          ],
          [
           "Cabrero",
           739.8882
          ],
          [
           "Cáceres",
           434.6162
          ],
          [
           "Cachorrilla",
           316.3804
          ],
          [
           "Cadalso",
           448.0928
          ],
          [
           "Calzadilla",
           359.1857
          ],
          [
           "Caminomorisco",
           467.3217
          ],
          [
           "Campillo de Deleitosa",
           491.2502
          ],
          [
           "Campo Lugar",
           303.4392
          ],
          [
           "Cañamero",
           609.7376
          ],
          [
           "Cañaveral",
           353.1965
          ],
          [
           "Carbajo",
           336.2229
          ],
          [
           "Carcaboso",
           275.1561
          ],
          [
           "Carrascalejo",
           591.9044
          ],
          [
           "Casar de Cáceres",
           366.4607
          ],
          [
           "Casar de Palomero",
           524.2137
          ],
          [
           "Casares de las Hurdes",
           688.3028
          ],
          [
           "Casas de Don Antonio",
           390.6183
          ],
          [
           "Casas de Don Gómez",
           322.1144
          ],
          [
           "Casas del Castañar",
           662.9862
          ],
          [
           "Casas del Monte",
           578.4438
          ],
          [
           "Casas de Millán",
           456.3329
          ],
          [
           "Casas de Miravete",
           442.9554
          ],
          [
           "Casatejada",
           273.4576
          ],
          [
           "Casillas de Coria",
           244.7277
          ],
          [
           "Castañar de Ibor",
           663.5353
          ],
          [
           "Ceclavín",
           329.5323
          ],
          [
           "Cedillo",
           265.7721
          ],
          [
           "Cerezo",
           394.5923
          ],
          [
           "Cilleros",
           448.878
          ],
          [
           "Collado de la Vera",
           null
          ],
          [
           "Conquista de la Sierra",
           441.5334
          ],
          [
           "Coria",
           239.4233
          ],
          [
           "Cuacos de Yuste",
           527.3668
          ],
          [
           "Cumbre, La",
           480.9445
          ],
          [
           "Deleitosa",
           566.3511
          ],
          [
           "Descargamaría",
           509.1357
          ],
          [
           "Eljas",
           578.0947
          ],
          [
           "Escurial",
           322.175
          ],
          [
           "Fresnedoso de Ibor",
           518.2465
          ],
          [
           "Galisteo",
           281.1528
          ],
          [
           "Garciaz",
           663.9293
          ],
          [
           "Garganta, La",
           1132.181
          ],
          [
           "Garganta la Olla",
           587.8572
          ],
          [
           "Gargantilla",
           641.0802
          ],
          [
           "Gargüera",
           526.4066
          ],
          [
           "Garrovillas de Alconétar",
           326.4898
          ],
          [
           "Garvín",
           501.7299
          ],
          [
           "Gata",
           665.3049
          ],
          [
           "Gordo, El",
           321.6666
          ],
          [
           "Granja, La",
           416.166
          ],
          [
           "Guadalupe",
           616.1213
          ],
          [
           "Guijo de Coria",
           446.9364
          ],
          [
           "Guijo de Galisteo",
           428.5826
          ],
          [
           "Guijo de Granadilla",
           390.9599
          ],
          [
           "Guijo de Santa Bárbara",
           865.0514
          ],
          [
           "Herguijuela",
           464.2786
          ],
          [
           "Hernán-Pérez",
           440.8669
          ],
          [
           "Herrera de Alcántara",
           255.0923
          ],
          [
           "Herreruela",
           324.7979
          ],
          [
           "Hervás",
           664.4932
          ],
          [
           "Higuera de Albalat",
           null
          ],
          [
           "Hinojal",
           348.0721
          ],
          [
           "Holguera",
           280.2364
          ],
          [
           "Hoyos",
           525.2888
          ],
          [
           "Huélaga",
           283.5962
          ],
          [
           "Ibahernando",
           536.6814
          ],
          [
           "Jaraicejo",
           504.3943
          ],
          [
           "Jaraíz de la Vera",
           568.9706
          ],
          [
           "Jarandilla de la Vera",
           604.6482
          ],
          [
           "Jarilla",
           480.6181
          ],
          [
           "Jerte",
           593.6707
          ],
          [
           "Ladrillar",
           709.2778
          ],
          [
           "Logrosán",
           482.4496
          ],
          [
           "Losar de la Vera",
           533.0191
          ],
          [
           "Madrigal de la Vera",
           407.2852
          ],
          [
           "Madrigalejo",
           294.8462
          ],
          [
           "Madroñera",
           591.7178
          ],
          [
           "Majadas",
           260.0658
          ],
          [
           "Malpartida de Cáceres",
           374.2109
          ],
          [
           "Malpartida de Plasencia",
           442.2609
          ],
          [
           "Marchagaz",
           516.7504
          ],
          [
           "Mata de Alcántara",
           344.6729
          ],
          [
           "Membrío",
           327.1987
          ],
          [
           "Mesas de Ibor",
           488.5139
          ],
          [
           "Miajadas",
           299.2762
          ],
          [
           "Millanes",
           361.245
          ],
          [
           "Mirabel",
           504.2706
          ],
          [
           "Mohedas de Granadilla",
           448.7007
          ],
          [
           "Monroy",
           378.6369
          ],
          [
           "Montánchez",
           696.2783
          ],
          [
           "Montehermoso",
           397.063
          ],
          [
           "Moraleja",
           261.4155
          ],
          [
           "Morcillo",
           272.8168
          ],
          [
           "Navaconcejo",
           477.2957
          ],
          [
           "Navalmoral de la Mata",
           315.4144
          ],
          [
           "Navalvillar de Ibor",
           667.4202
          ],
          [
           "Navas del Madroño",
           434.7237
          ],
          [
           "Navezuelas",
           941.8161
          ],
          [
           "Nuñomoral",
           496.7727
          ],
          [
           "Oliva de Plasencia",
           408.5221
          ],
          [
           "Palomero",
           453.1881
          ],
          [
           "Pasarón de la Vera",
           600.1179
          ],
          [
           "Pedroso de Acim",
           470.9969
          ],
          [
           "Peraleda de la Mata",
           334.5811
          ],
          [
           "Peraleda de San Román",
           472.4771
          ],
          [
           "Perales del Puerto",
           434.3814
          ],
          [
           "Pescueza",
           333.9729
          ],
          [
           "Pesga, La",
           436.7784
          ],
          [
           "Piedras Albas",
           362.7316
          ],
          [
           "Pinofranqueado",
           457.8624
          ],
          [
           "Piornal",
           1169.494
          ],
          [
           "Plasencia",
           366.9232
          ],
          [
           "Plasenzuela",
           426.8089
          ],
          [
           "Portaje",
           377.8726
          ],
          [
           "Portezuelo",
           361.0681
          ],
          [
           "Pozuelo de Zarzón",
           465.7742
          ],
          [
           "Puerto de Santa Cruz",
           450.3737
          ],
          [
           "Rebollar",
           610.1049
          ],
          [
           "Riolobos",
           267.9027
          ],
          [
           "Robledillo de Gata",
           607.127
          ],
          [
           "Robledillo de la Vera",
           453.7922
          ],
          [
           "Robledillo de Trujillo",
           500.2191
          ],
          [
           "Robledollano",
           708.3437
          ],
          [
           "Romangordo",
           419.6048
          ],
          [
           "Ruanes",
           482.6433
          ],
          [
           "Salorino",
           328.6313
          ],
          [
           "Salvatierra de Santiago",
           438.1557
          ],
          [
           "San Martín de Trevejo",
           617.9815
          ],
          [
           "Santa Ana",
           488.676
          ],
          [
           "Santa Cruz de la Sierra",
           453.5517
          ],
          [
           "Santa Cruz de Paniagua",
           478.2463
          ],
          [
           "Santa Marta de Magasca",
           376.2589
          ],
          [
           "Santiago de Alcántara",
           346.0968
          ],
          [
           "Santiago del Campo",
           344.4483
          ],
          [
           "Santibáñez el Alto",
           645.5109
          ],
          [
           "Santibáñez el Bajo",
           374.1523
          ],
          [
           "Saucedilla",
           261.0471
          ],
          [
           "Segura de Toro",
           636.4227
          ],
          [
           "Serradilla",
           408.8365
          ],
          [
           "Serrejón",
           338.5384
          ],
          [
           "Sierra de Fuentes",
           439.375
          ],
          [
           "Talaván",
           402.4283
          ],
          [
           "Talaveruela de la Vera",
           574.3057
          ],
          [
           "Talayuela",
           287.0548
          ],
          [
           "Tejeda de Tiétar",
           446.3588
          ],
          [
           "Toril",
           258.9532
          ],
          [
           "Tornavacas",
           863.4183
          ],
          [
           "Torno, El",
           771.9241
          ],
          [
           "Torrecilla de los Ángeles",
           466.4605
          ],
          [
           "Torrecillas de la Tiesa",
           501.9348
          ],
          [
           "Torre de Don Miguel",
           555.9983
          ],
          [
           "Torre de Santa María",
           490.2715
          ],
          [
           "Torrejoncillo",
           323.6587
          ],
          [
           "Torrejón el Rubio",
           304.923
          ],
          [
           "Torremenga",
           528.885
          ],
          [
           "Torremocha",
           444.2932
          ],
          [
           "Torreorgaz",
           430.9886
          ],
          [
           "Torrequemada",
           441.6732
          ],
          [
           "Trujillo",
           529.2547
          ],
          [
           "Valdastillas",
           615.739
          ],
          [
           "Valdecañas de Tajo",
           368.6411
          ],
          [
           "Valdefuentes",
           478.5953
          ],
          [
           "Valdehúncar",
           372.1376
          ],
          [
           "Valdelacasa de Tajo",
           453.4802
          ],
          [
           "Valdemorales",
           440.133
          ],
          [
           "Valdeobispo",
           334.7701
          ],
          [
           "Valencia de Alcántara",
           462.1811
          ],
          [
           "Valverde de la Vera",
           504.3288
          ],
          [
           "Valverde del Fresno",
           492.8723
          ],
          [
           "Viandar de la Vera",
           548.8549
          ],
          [
           "Villa del Campo",
           469.004
          ],
          [
           "Villa del Rey",
           338.1065
          ],
          [
           "Villamesías",
           363.7874
          ],
          [
           "Villamiel",
           745.9667
          ],
          [
           "Villanueva de la Sierra",
           500.2086
          ],
          [
           "Villanueva de la Vera",
           512.8276
          ],
          [
           "Villar del Pedroso",
           495.528
          ],
          [
           "Villar de Plasencia",
           450.0623
          ],
          [
           "Villasbuenas de Gata",
           424.338
          ],
          [
           "Zarza de Granadilla",
           398.6644
          ],
          [
           "Zarza de Montánchez",
           452.4351
          ],
          [
           "Zarza la Mayor",
           303.9268
          ],
          [
           "Zorita",
           429.6986
          ],
          [
           "Rosalejo",
           278.185
          ],
          [
           "Vegaviana",
           null
          ],
          [
           "Alagón del Río",
           null
          ],
          [
           "Tiétar",
           null
          ],
          [
           "Pueblonuevo de Miramontes",
           null
          ],
          [
           "Alcalá de los Gazules",
           158.3963
          ],
          [
           "Alcalá del Valle",
           623.3366
          ],
          [
           "Algar",
           213.0833
          ],
          [
           "Algeciras",
           22.40544
          ],
          [
           "Algodonales",
           370.124
          ],
          [
           "Arcos de la Frontera",
           139.2057
          ],
          [
           "Barbate",
           15.97273
          ],
          [
           "Barrios, Los",
           null
          ],
          [
           "Benaocaz",
           792.0704
          ],
          [
           "Bornos",
           153.5913
          ],
          [
           "Bosque, El",
           273.1861
          ],
          [
           "Cádiz",
           15.42415
          ],
          [
           "Castellar de la Frontera",
           30.78278
          ],
          [
           "Conil de la Frontera",
           33.70992
          ],
          [
           "Chiclana de la Frontera",
           13.2455
          ],
          [
           "Chipiona",
           11.72497
          ],
          [
           "Espera",
           147.471
          ],
          [
           "Gastor, El",
           600.3022
          ],
          [
           "Grazalema",
           830.5287
          ],
          [
           "Jerez de la Frontera",
           55.74849
          ],
          [
           "Jimena de la Frontera",
           131.443
          ],
          [
           "Línea de la Concepción, La",
           10.4049
          ],
          [
           "Medina Sidonia",
           null
          ],
          [
           "Olvera",
           606.7288
          ],
          [
           "Paterna de Rivera",
           125.9705
          ],
          [
           "Prado del Rey",
           423.1529
          ],
          [
           "Puerto de Santa María, El",
           14.76373
          ],
          [
           "Puerto Real",
           11.78617
          ],
          [
           "Puerto Serrano",
           162.2749
          ],
          [
           "Rota",
           14.28653
          ],
          [
           "San Fernando",
           21.14313
          ],
          [
           "Sanlúcar de Barrameda",
           11.0011
          ],
          [
           "San Roque",
           106.1072
          ],
          [
           "Setenil de las Bodegas",
           555.0465
          ],
          [
           "Tarifa",
           14.66109
          ],
          [
           "Torre Alháquime",
           471.3644
          ],
          [
           "Trebujena",
           72.16942
          ],
          [
           "Ubrique",
           326.7233
          ],
          [
           "Vejer de la Frontera",
           178.6806
          ],
          [
           "Villaluenga del Rosario",
           874.9724
          ],
          [
           "Villamartín",
           167.8091
          ],
          [
           "Zahara",
           507.4048
          ],
          [
           "Benalup-Casas Viejas",
           75.25459
          ],
          [
           "San José del Valle",
           142.0624
          ],
          [
           "San Martín del Tesorillo",
           null
          ],
          [
           "Atzeneta del Maestrat",
           null
          ],
          [
           "Aín",
           null
          ],
          [
           "Albocàsser",
           null
          ],
          [
           "Alcalà de Xivert",
           null
          ],
          [
           "Alcora, l'",
           null
          ],
          [
           "Alcudia de Veo",
           null
          ],
          [
           "Alfondeguilla",
           null
          ],
          [
           "Algimia de Almonacid",
           null
          ],
          [
           "Almassora",
           null
          ],
          [
           "Almedíjar",
           null
          ],
          [
           "Almenara",
           null
          ],
          [
           "Altura",
           null
          ],
          [
           "Arañuel",
           null
          ],
          [
           "Ares del Maestrat",
           null
          ],
          [
           "Argelita",
           null
          ],
          [
           "Artana",
           null
          ],
          [
           "Ayódar",
           null
          ],
          [
           "Azuébar",
           null
          ],
          [
           "Barracas",
           null
          ],
          [
           "Betxí",
           null
          ],
          [
           "Bejís",
           null
          ],
          [
           "Benafer",
           null
          ],
          [
           "Benafigos",
           null
          ],
          [
           "Benassal",
           null
          ],
          [
           "Benicarló",
           null
          ],
          [
           "Benicàssim/Benicasim",
           null
          ],
          [
           "Benlloc",
           null
          ],
          [
           "Borriol",
           null
          ],
          [
           "Borriana/Burriana",
           null
          ],
          [
           "Cabanes",
           null
          ],
          [
           "Càlig",
           null
          ],
          [
           "Canet lo Roig",
           null
          ],
          [
           "Castell de Cabres",
           null
          ],
          [
           "Castellfort",
           null
          ],
          [
           "Castellnovo",
           null
          ],
          [
           "Castelló de la Plana",
           null
          ],
          [
           "Castillo de Villamalefa",
           null
          ],
          [
           "Catí",
           null
          ],
          [
           "Caudiel",
           null
          ],
          [
           "Cervera del Maestre",
           null
          ],
          [
           "Cinctorres",
           null
          ],
          [
           "Cirat",
           null
          ],
          [
           "Cortes de Arenoso",
           null
          ],
          [
           "Costur",
           null
          ],
          [
           "Coves de Vinromà, les",
           null
          ],
          [
           "Culla",
           null
          ],
          [
           "Xert",
           null
          ],
          [
           "Chilches/Xilxes",
           null
          ],
          [
           "Xodos/Chodos",
           null
          ],
          [
           "Chóvar",
           null
          ],
          [
           "Eslida",
           null
          ],
          [
           "Espadilla",
           null
          ],
          [
           "Fanzara",
           null
          ],
          [
           "Figueroles",
           null
          ],
          [
           "Forcall",
           null
          ],
          [
           "Fuente la Reina",
           null
          ],
          [
           "Fuentes de Ayódar",
           null
          ],
          [
           "Gaibiel",
           null
          ],
          [
           "Geldo",
           null
          ],
          [
           "Herbers",
           null
          ],
          [
           "Higueras",
           null
          ],
          [
           "Jana, la",
           null
          ],
          [
           "Jérica",
           null
          ],
          [
           "Llucena/Lucena del Cid",
           null
          ],
          [
           "Ludiente",
           null
          ],
          [
           "Llosa, la",
           null
          ],
          [
           "Mata de Morella, la",
           null
          ],
          [
           "Matet",
           null
          ],
          [
           "Moncofa",
           null
          ],
          [
           "Montán",
           null
          ],
          [
           "Montanejos",
           null
          ],
          [
           "Morella",
           null
          ],
          [
           "Navajas",
           null
          ],
          [
           "Nules",
           null
          ],
          [
           "Olocau del Rey",
           null
          ],
          [
           "Onda",
           null
          ],
          [
           "Orpesa/Oropesa del Mar",
           null
          ],
          [
           "Palanques",
           null
          ],
          [
           "Pavías",
           null
          ],
          [
           "Peníscola/Peñíscola",
           null
          ],
          [
           "Pina de Montalgrao",
           null
          ],
          [
           "Portell de Morella",
           null
          ],
          [
           "Puebla de Arenoso",
           null
          ],
          [
           "Pobla de Benifassà, la",
           null
          ],
          [
           "Pobla Tornesa, la",
           null
          ],
          [
           "Ribesalbes",
           null
          ],
          [
           "Rossell",
           null
          ],
          [
           "Sacañet",
           null
          ],
          [
           "Salzadella, la",
           null
          ],
          [
           "Sant Jordi/San Jorge",
           null
          ],
          [
           "Sant Mateu",
           null
          ],
          [
           "San Rafael del Río",
           null
          ],
          [
           "Santa Magdalena de Pulpis",
           null
          ],
          [
           "Serratella, la",
           null
          ],
          [
           "Segorbe",
           null
          ],
          [
           "Sierra Engarcerán",
           null
          ],
          [
           "Soneja",
           null
          ],
          [
           "Sot de Ferrer",
           null
          ],
          [
           "Suera/Sueras",
           null
          ],
          [
           "Tales",
           null
          ],
          [
           "Teresa",
           null
          ],
          [
           "Tírig",
           null
          ],
          [
           "Todolella",
           null
          ],
          [
           "Toga",
           null
          ],
          [
           "Torás",
           null
          ],
          [
           "Toro, El",
           null
          ],
          [
           "Torralba del Pinar",
           null
          ],
          [
           "Torreblanca",
           null
          ],
          [
           "Torrechiva",
           null
          ],
          [
           "Torre d'en Besora, la",
           null
          ],
          [
           "Torre d'en Doménec, la",
           null
          ],
          [
           "Traiguera",
           null
          ],
          [
           "Useres, les/Useras",
           null
          ],
          [
           "Vallat",
           null
          ],
          [
           "Vall d'Alba",
           null
          ],
          [
           "Vall de Almonacid",
           null
          ],
          [
           "Vall d'Uixó, la",
           null
          ],
          [
           "Vallibona",
           null
          ],
          [
           "Vilafamés",
           null
          ],
          [
           "Vilafranca/Villafranca del Cid",
           null
          ],
          [
           "Villahermosa del Río",
           null
          ],
          [
           "Villamalur",
           null
          ],
          [
           "Vilanova d'Alcolea",
           null
          ],
          [
           "Villanueva de Viver",
           null
          ],
          [
           "Vilar de Canes",
           null
          ],
          [
           "Vila-real",
           null
          ],
          [
           "Vilavella, la",
           null
          ],
          [
           "Villores",
           null
          ],
          [
           "Vinaròs",
           null
          ],
          [
           "Vistabella del Maestrat",
           null
          ],
          [
           "Viver",
           null
          ],
          [
           "Zorita del Maestrazgo",
           null
          ],
          [
           "Zucaina",
           null
          ],
          [
           "Alqueries, les/Alquerías del Niño Perdido",
           null
          ],
          [
           "Sant Joan de Moró",
           null
          ],
          [
           "Abenójar",
           615.0128
          ],
          [
           "Agudo",
           570.6345
          ],
          [
           "Alamillo",
           446.2332
          ],
          [
           "Albaladejo",
           929.5974
          ],
          [
           "Alcázar de San Juan",
           645.0808
          ],
          [
           "Alcoba",
           639.0863
          ],
          [
           "Alcolea de Calatrava",
           651.9843
          ],
          [
           "Alcubillas",
           805.7009
          ],
          [
           "Aldea del Rey",
           668
          ],
          [
           "Alhambra",
           862.3749
          ],
          [
           "Almadén",
           575.5337
          ],
          [
           "Almadenejos",
           522.0008
          ],
          [
           "Almagro",
           649.1187
          ],
          [
           "Almedina",
           895.957
          ],
          [
           "Almodóvar del Campo",
           673.6144
          ],
          [
           "Almuradiel",
           808.8304
          ],
          [
           "Anchuras",
           548.6761
          ],
          [
           "Arenas de San Juan",
           627.8014
          ],
          [
           "Argamasilla de Alba",
           676.2275
          ],
          [
           "Argamasilla de Calatrava",
           677.0089
          ],
          [
           "Arroba de los Montes",
           623.9471
          ],
          [
           "Ballesteros de Calatrava",
           660.202
          ],
          [
           "Bolaños de Calatrava",
           649.2621
          ],
          [
           "Brazatortas",
           712.3827
          ],
          [
           "Cabezarados",
           687
          ],
          [
           "Cabezarrubias del Puerto",
           737.0226
          ],
          [
           "Calzada de Calatrava",
           648.8996
          ],
          [
           "Campo de Criptana",
           697.7733
          ],
          [
           "Cañada de Calatrava",
           644.0776
          ],
          [
           "Caracuel de Calatrava",
           643.8336
          ],
          [
           "Carrión de Calatrava",
           618.5354
          ],
          [
           "Carrizosa",
           822.2133
          ],
          [
           "Castellar de Santiago",
           830.7982
          ],
          [
           "Ciudad Real",
           636.7003
          ],
          [
           "Corral de Calatrava",
           594.7799
          ],
          [
           "Cortijos, Los",
           788.311
          ],
          [
           "Cózar",
           863.0718
          ],
          [
           "Chillón",
           526.6155
          ],
          [
           "Daimiel",
           628.4135
          ],
          [
           "Fernán Caballero",
           613.9147
          ],
          [
           "Fontanarejo",
           648.4183
          ],
          [
           "Fuencaliente",
           684.3738
          ],
          [
           "Fuenllana",
           909.6342
          ],
          [
           "Fuente el Fresno",
           694.6024
          ],
          [
           "Granátula de Calatrava",
           659.4633
          ],
          [
           "Guadalmez",
           363.9143
          ],
          [
           "Herencia",
           646.795
          ],
          [
           "Hinojosas de Calatrava",
           762.2877
          ],
          [
           "Horcajo de los Montes",
           586.9252
          ],
          [
           "Labores, Las",
           650.0912
          ],
          [
           "Luciana",
           541.933
          ],
          [
           "Malagón",
           633.9963
          ],
          [
           "Manzanares",
           665.636
          ],
          [
           "Membrilla",
           667.7634
          ],
          [
           "Mestanza",
           742.0979
          ],
          [
           "Miguelturra",
           630.9375
          ],
          [
           "Montiel",
           900.929
          ],
          [
           "Moral de Calatrava",
           673.0731
          ],
          [
           "Navalpino",
           619.7184
          ],
          [
           "Navas de Estena",
           666.7495
          ],
          [
           "Pedro Muñoz",
           660.1461
          ],
          [
           "Picón",
           602.3293
          ],
          [
           "Piedrabuena",
           584.9067
          ],
          [
           "Poblete",
           625.8102
          ],
          [
           "Porzuna",
           649.3252
          ],
          [
           "Pozuelo de Calatrava",
           627.6234
          ],
          [
           "Pozuelos de Calatrava, Los",
           581.7253
          ],
          [
           "Puebla de Don Rodrigo",
           501.1769
          ],
          [
           "Puebla del Príncipe",
           940.8134
          ],
          [
           "Puerto Lápice",
           676.8574
          ],
          [
           "Puertollano",
           710.2035
          ],
          [
           "Retuerta del Bullaque",
           733.4877
          ],
          [
           "Saceruela",
           578.8517
          ],
          [
           "San Carlos del Valle",
           757.9612
          ],
          [
           "San Lorenzo de Calatrava",
           765.8392
          ],
          [
           "Santa Cruz de los Cáñamos",
           985.9399
          ],
          [
           "Santa Cruz de Mudela",
           717.6976
          ],
          [
           "Socuéllamos",
           676.6555
          ],
          [
           "Solana, La",
           772.6749
          ],
          [
           "Solana del Pino",
           740.4377
          ],
          [
           "Terrinches",
           930.9041
          ],
          [
           "Tomelloso",
           667.3932
          ],
          [
           "Torralba de Calatrava",
           621.1816
          ],
          [
           "Torre de Juan Abad",
           828.8683
          ],
          [
           "Torrenueva",
           733.0852
          ],
          [
           "Valdemanco del Esteras",
           578.7386
          ],
          [
           "Valdepeñas",
           710.3396
          ],
          [
           "Valenzuela de Calatrava",
           658.9473
          ],
          [
           "Villahermosa",
           959.6011
          ],
          [
           "Villamanrique",
           849.2779
          ],
          [
           "Villamayor de Calatrava",
           663.199
          ],
          [
           "Villanueva de la Fuente",
           1008.476
          ],
          [
           "Villanueva de los Infantes",
           884.9601
          ],
          [
           "Villanueva de San Carlos",
           652.488
          ],
          [
           "Villar del Pozo",
           637.9165
          ],
          [
           "Villarrubia de los Ojos",
           629.3639
          ],
          [
           "Villarta de San Juan",
           626.9672
          ],
          [
           "Viso del Marqués",
           781.8405
          ],
          [
           "Robledo, El",
           587.5879
          ],
          [
           "Ruidera",
           799.8744
          ],
          [
           "Arenales de San Gregorio",
           645.2104
          ],
          [
           "Llanos del Caudillo",
           648.3378
          ],
          [
           "Adamuz",
           245.2438
          ],
          [
           "Aguilar de la Frontera",
           374.5963
          ],
          [
           "Alcaracejos",
           611.311
          ],
          [
           "Almedinilla",
           643.6762
          ],
          [
           "Almodóvar del Río",
           119.838
          ],
          [
           "Añora",
           629.9739
          ],
          [
           "Baena",
           432.8641
          ],
          [
           "Belalcázar",
           492.9109
          ],
          [
           "Belmez",
           530.0388
          ],
          [
           "Benamejí",
           458.9315
          ],
          [
           "Blázquez, Los",
           594.3582
          ],
          [
           "Bujalance",
           345.5078
          ],
          [
           "Cabra",
           503.6198
          ],
          [
           "Cañete de las Torres",
           320.6117
          ],
          [
           "Carcabuey",
           628.2857
          ],
          [
           "Cardeña",
           747.5234
          ],
          [
           "Carlota, La",
           215.4566
          ],
          [
           "Carpio, El",
           180.5471
          ],
          [
           "Castro del Río",
           229.5285
          ],
          [
           "Conquista",
           597.3675
          ],
          [
           "Córdoba",
           131.9102
          ],
          [
           "Doña Mencía",
           598.4364
          ],
          [
           "Dos Torres",
           589.4772
          ],
          [
           "Encinas Reales",
           446.9231
          ],
          [
           "Espejo",
           391.4622
          ],
          [
           "Espiel",
           548.5708
          ],
          [
           "Fernán-Núñez",
           310.7925
          ],
          [
           "Fuente la Lancha",
           559.9954
          ],
          [
           "Fuente Obejuna",
           622.7498
          ],
          [
           "Fuente Palmera",
           160.0771
          ],
          [
           "Fuente-Tójar",
           589.3212
          ],
          [
           "Granjuela, La",
           554.3214
          ],
          [
           "Guadalcázar",
           161.6661
          ],
          [
           "Guijo, El",
           565.6235
          ],
          [
           "Hinojosa del Duque",
           551.713
          ],
          [
           "Hornachuelos",
           177.4551
          ],
          [
           "Iznájar",
           519.9057
          ],
          [
           "Lucena",
           494.1765
          ],
          [
           "Luque",
           662.4076
          ],
          [
           "Montalbán de Córdoba",
           277.8563
          ],
          [
           "Montemayor",
           386.187
          ],
          [
           "Montilla",
           385.7791
          ],
          [
           "Montoro",
           201.329
          ],
          [
           "Monturque",
           376.9995
          ],
          [
           "Moriles",
           379.1501
          ],
          [
           "Nueva Carteya",
           444.7657
          ],
          [
           "Obejo",
           692.8661
          ],
          [
           "Palenciana",
           396.5208
          ],
          [
           "Palma del Río",
           60.91507
          ],
          [
           "Pedro Abad",
           163.2774
          ],
          [
           "Pedroche",
           623.1253
          ],
          [
           "Peñarroya-Pueblonuevo",
           541.6902
          ],
          [
           "Posadas",
           88.41434
          ],
          [
           "Pozoblanco",
           652.3784
          ],
          [
           "Priego de Córdoba",
           657.6609
          ],
          [
           "Puente Genil",
           219.0715
          ],
          [
           "Rambla, La",
           331.6505
          ],
          [
           "Rute",
           632.5386
          ],
          [
           "San Sebastián de los Ballesteros",
           306.4553
          ],
          [
           "Santaella",
           238.2158
          ],
          [
           "Santa Eufemia",
           547.0313
          ],
          [
           "Torrecampo",
           576.4257
          ],
          [
           "Valenzuela",
           341.0233
          ],
          [
           "Valsequillo",
           578.0466
          ],
          [
           "Victoria, La",
           122.8182
          ],
          [
           "Villa del Río",
           164.0046
          ],
          [
           "Villafranca de Córdoba",
           143.0544
          ],
          [
           "Villaharta",
           578.8654
          ],
          [
           "Villanueva de Córdoba",
           728.5879
          ],
          [
           "Villanueva del Duque",
           583.8452
          ],
          [
           "Villanueva del Rey",
           556.6314
          ],
          [
           "Villaralto",
           586.7803
          ],
          [
           "Villaviciosa de Córdoba",
           699.2513
          ],
          [
           "Viso, El",
           578.6813
          ],
          [
           "Zuheros",
           652.7948
          ],
          [
           "Fuente Carreteros",
           null
          ],
          [
           "Guijarrosa, La",
           null
          ],
          [
           "Abegondo",
           99.71806
          ],
          [
           "Ames",
           216.3797
          ],
          [
           "Aranga",
           275.3901
          ],
          [
           "Ares",
           9.654655
          ],
          [
           "Arteixo",
           36.12324
          ],
          [
           "Arzúa",
           385.5346
          ],
          [
           "Baña, A",
           132.5069
          ],
          [
           "Bergondo",
           111.32
          ],
          [
           "Betanzos",
           30.77564
          ],
          [
           "Boimorto",
           486.9221
          ],
          [
           "Boiro",
           39.57637
          ],
          [
           "Boqueixón",
           295.4394
          ],
          [
           "Brión",
           113.9952
          ],
          [
           "Cabana de Bergantiños",
           91.22826
          ],
          [
           "Cabanas",
           14.01326
          ],
          [
           "Camariñas",
           8.057896
          ],
          [
           "Cambre",
           59.3171
          ],
          [
           "Capela, A",
           69.87862
          ],
          [
           "Carballo",
           108.2141
          ],
          [
           "Carnota",
           39.35276
          ],
          [
           "Carral",
           143.3725
          ],
          [
           "Cedeira",
           9.32181
          ],
          [
           "Cee",
           5.529384
          ],
          [
           "Cerceda",
           340.3528
          ],
          [
           "Cerdido",
           127.0117
          ],
          [
           "Coirós",
           214.9906
          ],
          [
           "Corcubión",
           12.05067
          ],
          [
           "Coristanco",
           121.6658
          ],
          [
           "Coruña, A",
           16.76067
          ],
          [
           "Culleredo",
           60.64721
          ],
          [
           "Curtis",
           524.2576
          ],
          [
           "Dodro",
           8.638529
          ],
          [
           "Dumbría",
           196.8048
          ],
          [
           "Fene",
           31.51714
          ],
          [
           "Ferrol",
           17.92745
          ],
          [
           "Fisterra",
           26.53479
          ],
          [
           "Frades",
           330.4912
          ],
          [
           "Irixoa",
           362.8766
          ],
          [
           "Laxe",
           10.11361
          ],
          [
           "Laracha, A",
           165.5166
          ],
          [
           "Lousame",
           76.47759
          ],
          [
           "Malpica de Bergantiños",
           18.54621
          ],
          [
           "Mañón",
           122.7509
          ],
          [
           "Mazaricos",
           309.7912
          ],
          [
           "Melide",
           456.2325
          ],
          [
           "Mesía",
           396.5716
          ],
          [
           "Miño",
           35.12242
          ],
          [
           "Moeche",
           124.2339
          ],
          [
           "Monfero",
           313.0533
          ],
          [
           "Mugardos",
           26.80462
          ],
          [
           "Muxía",
           10.06232
          ],
          [
           "Muros",
           13.47934
          ],
          [
           "Narón",
           54.86041
          ],
          [
           "Neda",
           17.3906
          ],
          [
           "Negreira",
           165.9285
          ],
          [
           "Noia",
           14.17139
          ],
          [
           "Oleiros",
           121.4051
          ],
          [
           "Ordes",
           287.7448
          ],
          [
           "Oroso",
           265.2925
          ],
          [
           "Ortigueira",
           12.5302
          ],
          [
           "Outes",
           155.6038
          ],
          [
           "Paderne",
           151.441
          ],
          [
           "Padrón",
           12.52071
          ],
          [
           "Pino, O",
           325.1911
          ],
          [
           "Pobra do Caramiñal, A",
           10.39054
          ],
          [
           "Ponteceso",
           9.338658
          ],
          [
           "Pontedeume",
           52.01764
          ],
          [
           "Pontes de García Rodríguez, As",
           346.5103
          ],
          [
           "Porto do Son",
           13.61645
          ],
          [
           "Rianxo",
           12.18667
          ],
          [
           "Ribeira",
           9.570827
          ],
          [
           "Rois",
           91.43814
          ],
          [
           "Sada",
           8.367744
          ],
          [
           "San Sadurniño",
           235.7317
          ],
          [
           "Santa Comba",
           357.9261
          ],
          [
           "Santiago de Compostela",
           250.5518
          ],
          [
           "Santiso",
           395.2911
          ],
          [
           "Sobrado",
           531.1628
          ],
          [
           "Somozas, As",
           365.4666
          ],
          [
           "Teo",
           210.1551
          ],
          [
           "Toques",
           550.1306
          ],
          [
           "Tordoia",
           372.4156
          ],
          [
           "Touro",
           322.1459
          ],
          [
           "Trazo",
           308.1545
          ],
          [
           "Valdoviño",
           168.3914
          ],
          [
           "Val do Dubra",
           308.1521
          ],
          [
           "Vedra",
           230.7933
          ],
          [
           "Vilasantar",
           442.1523
          ],
          [
           "Vilarmaior",
           195.4239
          ],
          [
           "Vimianzo",
           131.8647
          ],
          [
           "Zas",
           221.0706
          ],
          [
           "Cariño",
           9.662794
          ],
          [
           "Oza-Cesuras",
           null
          ],
          [
           "Abia de la Obispalía",
           1027.756
          ],
          [
           "Acebrón, El",
           765.3969
          ],
          [
           "Alarcón",
           804.5475
          ],
          [
           "Albaladejo del Cuende",
           873.7691
          ],
          [
           "Albalate de las Nogueras",
           836.6561
          ],
          [
           "Albendea",
           836.6441
          ],
          [
           "Alberca de Záncara, La",
           799.9388
          ],
          [
           "Alcalá de la Vega",
           1149.662
          ],
          [
           "Alcantud",
           846.5696
          ],
          [
           "Alcázar del Rey",
           868.6633
          ],
          [
           "Alcohujate",
           805.8046
          ],
          [
           "Alconchel de la Estrella",
           830.2779
          ],
          [
           "Algarra",
           1260.539
          ],
          [
           "Aliaguilla",
           1004.316
          ],
          [
           "Almarcha, La",
           850.5306
          ],
          [
           "Almendros",
           867.5738
          ],
          [
           "Almodóvar del Pinar",
           993.7385
          ],
          [
           "Almonacid del Marquesado",
           893.4148
          ],
          [
           "Altarejos",
           882.3251
          ],
          [
           "Arandilla del Arroyo",
           891.51
          ],
          [
           "Arcos de la Sierra",
           1008.144
          ],
          [
           "Chillarón de Cuenca",
           918.1243
          ],
          [
           "Arguisuelas",
           1051.319
          ],
          [
           "Arrancacepas",
           921.0117
          ],
          [
           "Atalaya del Cañavate",
           818.4755
          ],
          [
           "Barajas de Melo",
           707.7529
          ],
          [
           "Barchín del Hoyo",
           953.0204
          ],
          [
           "Bascuñana de San Pedro",
           1049.3
          ],
          [
           "Beamud",
           1337.114
          ],
          [
           "Belinchón",
           765.4058
          ],
          [
           "Belmonte",
           747.8671
          ],
          [
           "Belmontejo",
           842.4863
          ],
          [
           "Beteta",
           1221.365
          ],
          [
           "Boniches",
           1031.188
          ],
          [
           "Buciegas",
           806.0385
          ],
          [
           "Buenache de Alarcón",
           814.0424
          ],
          [
           "Buenache de la Sierra",
           1296.91
          ],
          [
           "Buendía",
           740.683
          ],
          [
           "Campillo de Altobuey",
           934.0833
          ],
          [
           "Campillos-Paravientos",
           1161.948
          ],
          [
           "Campillos-Sierra",
           1253.863
          ],
          [
           "Canalejas del Arroyo",
           793.2876
          ],
          [
           "Cañada del Hoyo",
           1021.962
          ],
          [
           "Cañada Juncosa",
           806.1784
          ],
          [
           "Cañamares",
           886.0988
          ],
          [
           "Cañavate, El",
           783.1061
          ],
          [
           "Cañaveras",
           807.5058
          ],
          [
           "Cañaveruelas",
           802.4179
          ],
          [
           "Cañete",
           1077.501
          ],
          [
           "Cañizares",
           1040.13
          ],
          [
           "Carboneras de Guadazaón",
           1022.764
          ],
          [
           "Cardenete",
           955.3456
          ],
          [
           "Carrascosa",
           1258.964
          ],
          [
           "Carrascosa de Haro",
           775.2598
          ],
          [
           "Casas de Benítez",
           748.9084
          ],
          [
           "Casas de Fernando Alonso",
           725.363
          ],
          [
           "Casas de Garcimolina",
           1149.788
          ],
          [
           "Casas de Guijarro",
           752.5666
          ],
          [
           "Casas de Haro",
           723.1393
          ],
          [
           "Casas de los Pinos",
           725.2875
          ],
          [
           "Casasimarro",
           761.5946
          ],
          [
           "Castejón",
           860.5991
          ],
          [
           "Castillejo de Iniesta",
           824.4532
          ],
          [
           "Castillejo-Sierra",
           1007.348
          ],
          [
           "Castillo-Albaráñez",
           902.1082
          ],
          [
           "Castillo de Garcimuñoz",
           929.5831
          ],
          [
           "Cervera del Llano",
           895.8052
          ],
          [
           "Cierva, La",
           1226.243
          ],
          [
           "Cuenca",
           930.4124
          ],
          [
           "Cueva del Hierro",
           1332.456
          ],
          [
           "Chumillas",
           1070.247
          ],
          [
           "Enguídanos",
           748.1066
          ],
          [
           "Fresneda de Altarejos",
           901.7247
          ],
          [
           "Fresneda de la Sierra",
           992.2727
          ],
          [
           "Frontera, La",
           979.7111
          ],
          [
           "Fuente de Pedro Naharro",
           776.6147
          ],
          [
           "Fuentelespino de Haro",
           845.7111
          ],
          [
           "Fuentelespino de Moya",
           1109.693
          ],
          [
           "Fuentes",
           1015.49
          ],
          [
           "Fuertescusa",
           983.9594
          ],
          [
           "Gabaldón",
           926.3343
          ],
          [
           "Garaballa",
           936.6948
          ],
          [
           "Gascueña",
           929.3591
          ],
          [
           "Graja de Campalbo",
           1099.037
          ],
          [
           "Graja de Iniesta",
           836.5309
          ],
          [
           "Henarejos",
           1078.359
          ],
          [
           "Herrumblar, El",
           774.7962
          ],
          [
           "Hinojosa, La",
           939.3533
          ],
          [
           "Hinojosos, Los",
           772.5016
          ],
          [
           "Hito, El",
           859.4034
          ],
          [
           "Honrubia",
           809.0587
          ],
          [
           "Hontanaya",
           816.0445
          ],
          [
           "Hontecillas",
           824.0103
          ],
          [
           "Horcajo de Santiago",
           750.2389
          ],
          [
           "Huélamo",
           1283.993
          ],
          [
           "Huelves",
           819.4783
          ],
          [
           "Huérguina",
           1114.769
          ],
          [
           "Huerta de la Obispalía",
           905.3899
          ],
          [
           "Huerta del Marquesado",
           1278.528
          ],
          [
           "Huete",
           806.872
          ],
          [
           "Iniesta",
           755.802
          ],
          [
           "Laguna del Marquesado",
           1324.043
          ],
          [
           "Lagunaseca",
           1362.387
          ],
          [
           "Landete",
           985.8491
          ],
          [
           "Ledaña",
           733.5328
          ],
          [
           "Leganiel",
           760.6712
          ],
          [
           "Majadas, Las",
           1393.425
          ],
          [
           "Mariana",
           968.0659
          ],
          [
           "Masegosa",
           1378.719
          ],
          [
           "Mesas, Las",
           683.0196
          ],
          [
           "Minglanilla",
           805.3
          ],
          [
           "Mira",
           820.1528
          ],
          [
           "Monreal del Llano",
           733.7571
          ],
          [
           "Montalbanejo",
           907.4093
          ],
          [
           "Montalbo",
           884.257
          ],
          [
           "Monteagudo de las Salinas",
           1011.875
          ],
          [
           "Mota de Altarejos",
           859.7838
          ],
          [
           "Mota del Cuervo",
           708
          ],
          [
           "Motilla del Palancar",
           837.0458
          ],
          [
           "Moya",
           1073.251
          ],
          [
           "Narboneta",
           849.3128
          ],
          [
           "Olivares de Júcar",
           920.282
          ],
          [
           "Olmeda de la Cuesta",
           899.1359
          ],
          [
           "Olmeda del Rey",
           937.1072
          ],
          [
           "Olmedilla de Alarcón",
           824.7698
          ],
          [
           "Olmedilla de Eliz",
           872.5022
          ],
          [
           "Osa de la Vega",
           767.8908
          ],
          [
           "Pajarón",
           1056.773
          ],
          [
           "Pajaroncillo",
           980.0659
          ],
          [
           "Palomares del Campo",
           877.8651
          ],
          [
           "Palomera",
           1073.156
          ],
          [
           "Paracuellos",
           965.203
          ],
          [
           "Paredes",
           836.0471
          ],
          [
           "Parra de las Vegas, La",
           1019.173
          ],
          [
           "Pedernoso, El",
           null
          ],
          [
           "Pedroñeras, Las",
           694.9729
          ],
          [
           "Peral, El",
           790.2858
          ],
          [
           "Peraleja, La",
           859.0751
          ],
          [
           "Pesquera, La",
           792.0108
          ],
          [
           "Picazo, El",
           699.0256
          ],
          [
           "Pinarejo",
           873.2295
          ],
          [
           "Pineda de Gigüela",
           974.069
          ],
          [
           "Piqueras del Castillo",
           922.2267
          ],
          [
           "Portalrubio de Guadamejud",
           818.1326
          ],
          [
           "Portilla",
           1066.127
          ],
          [
           "Poyatos",
           1238.396
          ],
          [
           "Pozoamargo",
           754.7365
          ],
          [
           "Pozorrubio de Santiago",
           null
          ],
          [
           "Pozuelo, El",
           1221.442
          ],
          [
           "Priego",
           859.0313
          ],
          [
           "Provencio, El",
           701.4172
          ],
          [
           "Puebla de Almenara",
           851.6243
          ],
          [
           "Valle de Altomira, El",
           null
          ],
          [
           "Puebla del Salvador",
           849.067
          ],
          [
           "Quintanar del Rey",
           731.144
          ],
          [
           "Rada de Haro",
           817.4881
          ],
          [
           "Reíllo",
           1010.97
          ],
          [
           "Rozalén del Monte",
           874.4917
          ],
          [
           "Saceda-Trasierra",
           914.9257
          ],
          [
           "Saelices",
           926.687
          ],
          [
           "Salinas del Manzano",
           1129.487
          ],
          [
           "Salmeroncillos",
           784.0395
          ],
          [
           "Salvacañete",
           1177.807
          ],
          [
           "San Clemente",
           718.2497
          ],
          [
           "San Lorenzo de la Parrilla",
           958.508
          ],
          [
           "San Martín de Boniches",
           1204.745
          ],
          [
           "San Pedro Palmiches",
           827.0442
          ],
          [
           "Santa Cruz de Moya",
           764.4127
          ],
          [
           "Santa María del Campo Rus",
           789.3281
          ],
          [
           "Santa María de los Llanos",
           723.399
          ],
          [
           "Santa María del Val",
           1208.035
          ],
          [
           "Sisante",
           745.213
          ],
          [
           "Solera de Gabaldón",
           1049.117
          ],
          [
           "Talayuelas",
           989.6467
          ],
          [
           "Tarancón",
           817.9774
          ],
          [
           "Tébar",
           892.4076
          ],
          [
           "Tejadillos",
           1221.846
          ],
          [
           "Tinajas",
           868.139
          ],
          [
           "Torralba",
           910.9871
          ],
          [
           "Torrejoncillo del Rey",
           925.6471
          ],
          [
           "Torrubia del Campo",
           804.85
          ],
          [
           "Torrubia del Castillo",
           844.5839
          ],
          [
           "Tragacete",
           1280.023
          ],
          [
           "Tresjuncos",
           794.4161
          ],
          [
           "Tribaldos",
           829.7798
          ],
          [
           "Uclés",
           836.3397
          ],
          [
           "Uña",
           1133.798
          ],
          [
           "Valdemeca",
           1316.776
          ],
          [
           "Valdemorillo de la Sierra",
           1193.025
          ],
          [
           "Valdemoro-Sierra",
           1117.267
          ],
          [
           "Valdeolivas",
           927.0674
          ],
          [
           "Valhermoso de la Fuente",
           800.9288
          ],
          [
           "Valsalobre",
           1219.73
          ],
          [
           "Valverde de Júcar",
           846.4824
          ],
          [
           "Valverdejo",
           865.129
          ],
          [
           "Vara de Rey",
           820.9382
          ],
          [
           "Vega del Codorno",
           1390.018
          ],
          [
           "Vellisca",
           944.9796
          ],
          [
           "Villaconejos de Trabaque",
           808.2476
          ],
          [
           "Villaescusa de Haro",
           826.9725
          ],
          [
           "Villagarcía del Llano",
           733.049
          ],
          [
           "Villalba de la Sierra",
           992.4644
          ],
          [
           "Villalba del Rey",
           788.1654
          ],
          [
           "Villalgordo del Marquesado",
           861.0096
          ],
          [
           "Villalpardo",
           771.2595
          ],
          [
           "Villamayor de Santiago",
           775.3732
          ],
          [
           "Villanueva de Guadamejud",
           805.5494
          ],
          [
           "Villanueva de la Jara",
           767.3646
          ],
          [
           "Villar de Cañas",
           817.3677
          ],
          [
           "Villar de Domingo García",
           938.7158
          ],
          [
           "Villar de la Encina",
           843.0084
          ],
          [
           "Villar del Humo",
           997.0957
          ],
          [
           "Villar del Infantado",
           767.527
          ],
          [
           "Villar de Olalla",
           901.751
          ],
          [
           "Villarejo de Fuentes",
           864.325
          ],
          [
           "Villarejo de la Peñuela",
           941.4399
          ],
          [
           "Villarejo-Periesteban",
           919.6758
          ],
          [
           "Villares del Saz",
           867.2699
          ],
          [
           "Villarrubio",
           825.1577
          ],
          [
           "Villarta",
           758.9042
          ],
          [
           "Villas de la Ventosa",
           844.56
          ],
          [
           "Villaverde y Pasaconsol",
           859.9142
          ],
          [
           "Víllora",
           878.9189
          ],
          [
           "Vindel",
           898.5792
          ],
          [
           "Yémeda",
           866.7178
          ],
          [
           "Zafra de Záncara",
           898.8863
          ],
          [
           "Zafrilla",
           1418.941
          ],
          [
           "Zarza de Tajo",
           708.5762
          ],
          [
           "Zarzuela",
           1040.219
          ],
          [
           "Campos del Paraíso",
           914.1959
          ],
          [
           "Valdetórtola",
           898.9784
          ],
          [
           "Valeras, Las",
           935.2037
          ],
          [
           "Fuentenava de Jábaga",
           969.4885
          ],
          [
           "Arcas",
           null
          ],
          [
           "Valdecolmenas, Los",
           940.6137
          ],
          [
           "Pozorrubielos de la Mancha",
           784.6632
          ],
          [
           "Sotorribas",
           989.6494
          ],
          [
           "Villar y Velasco",
           975.5555
          ],
          [
           "Agullana",
           170.1884
          ],
          [
           "Aiguaviva",
           156.0045
          ],
          [
           "Albanyà",
           240.982
          ],
          [
           "Albons",
           11.20031
          ],
          [
           "Far d'Empordà, El",
           34.56885
          ],
          [
           "Alp",
           1140.202
          ],
          [
           "Amer",
           187.6956
          ],
          [
           "Anglès",
           163.2895
          ],
          [
           "Arbúcies",
           294.5572
          ],
          [
           "Argelaguer",
           189.7633
          ],
          [
           "Armentera, L'",
           8.210299
          ],
          [
           "Avinyonet de Puigventós",
           68.95233
          ],
          [
           "Begur",
           206.9355
          ],
          [
           "Vajol, La",
           540.9069
          ],
          [
           "Banyoles",
           180.4805
          ],
          [
           "Bàscara",
           66.21327
          ],
          [
           "Bellcaire d'Empordà",
           16.70415
          ],
          [
           "Besalú",
           153.8543
          ],
          [
           "Bescanó",
           103.575
          ],
          [
           "Beuda",
           330.3628
          ],
          [
           "Bisbal d'Empordà, La",
           41.58906
          ],
          [
           "Blanes",
           12.55464
          ],
          [
           "Bolvir",
           1111.693
          ],
          [
           "Bordils",
           39.80887
          ],
          [
           "Borrassà",
           73.4845
          ],
          [
           "Breda",
           165.5123
          ],
          [
           "Brunyola i Sant Martí Sapresa",
           null
          ],
          [
           "Boadella i les Escaules",
           90.38374
          ],
          [
           "Cabanes",
           23.85813
          ],
          [
           "Cabanelles",
           186.2474
          ],
          [
           "Cadaqués",
           8.404613
          ],
          [
           "Caldes de Malavella",
           99.86514
          ],
          [
           "Calonge i Sant Antoni",
           null
          ],
          [
           "Camós",
           162.4646
          ],
          [
           "Campdevànol",
           735.8078
          ],
          [
           "Campelles",
           1312.842
          ],
          [
           "Campllong",
           111.6642
          ],
          [
           "Camprodon",
           949.9839
          ],
          [
           "Canet d'Adri",
           225.7504
          ],
          [
           "Cantallops",
           199.0593
          ],
          [
           "Capmany",
           102.8205
          ],
          [
           "Queralbs",
           1212.268
          ],
          [
           "Cassà de la Selva",
           157.0528
          ],
          [
           "Castellfollit de la Roca",
           299.2567
          ],
          [
           "Castelló d'Empúries",
           19.59589
          ],
          [
           "Castell d'Aro, Platja d'Aro i s'Agaró",
           null
          ],
          [
           "Celrà",
           74.95261
          ],
          [
           "Cervià de Ter",
           41.124
          ],
          [
           "Cistella",
           131.848
          ],
          [
           "Siurana",
           30.35726
          ],
          [
           "Colera",
           15.71049
          ],
          [
           "Colomers",
           27.86927
          ],
          [
           "Cornellà del Terri",
           97.63062
          ],
          [
           "Corçà",
           43
          ],
          [
           "Crespià",
           134.7197
          ],
          [
           "Darnius",
           195.8332
          ],
          [
           "Das",
           1210.801
          ],
          [
           "Escala, L'",
           19.85101
          ],
          [
           "Espinelves",
           721.2335
          ],
          [
           "Espolla",
           110.9502
          ],
          [
           "Esponellà",
           124.58
          ],
          [
           "Figueres",
           44.94663
          ],
          [
           "Flaçà",
           34.53658
          ],
          [
           "Foixà",
           77.76812
          ],
          [
           "Fontanals de Cerdanya",
           1296.071
          ],
          [
           "Fontanilles",
           11.98482
          ],
          [
           "Fontcoberta",
           224.6868
          ],
          [
           "Fornells de la Selva",
           100.7511
          ],
          [
           "Fortià",
           5.550827
          ],
          [
           "Garrigàs",
           106.7004
          ],
          [
           "Garrigoles",
           87.58198
          ],
          [
           "Garriguella",
           60.73549
          ],
          [
           "Ger",
           1124.158
          ],
          [
           "Girona",
           69.02268
          ],
          [
           "Gombrèn",
           913.7407
          ],
          [
           "Gualta",
           10.82926
          ],
          [
           "Guils de Cerdanya",
           1345.239
          ],
          [
           "Hostalric",
           98.26152
          ],
          [
           "Isòvol",
           1044.986
          ],
          [
           "Jafre",
           26.08789
          ],
          [
           "Jonquera, La",
           112.039
          ],
          [
           "Juià",
           103.731
          ],
          [
           "Lladó",
           203.6406
          ],
          [
           "Llagostera",
           137.2177
          ],
          [
           "Llambilles",
           123.2293
          ],
          [
           "Llanars",
           987.0015
          ],
          [
           "Llançà",
           26.3534
          ],
          [
           "Llers",
           164.3831
          ],
          [
           "Llívia",
           1201.004
          ],
          [
           "Lloret de Mar",
           14.34469
          ],
          [
           "Llosses, Les",
           906.8428
          ],
          [
           "Madremanya",
           171.2928
          ],
          [
           "Maià de Montcal",
           222.8625
          ],
          [
           "Meranges",
           1552.41
          ],
          [
           "Masarac",
           80.04425
          ],
          [
           "Massanes",
           139.9525
          ],
          [
           "Maçanet de Cabrenys",
           348.9143
          ],
          [
           "Maçanet de la Selva",
           98.14079
          ],
          [
           "Mieres",
           275.4319
          ],
          [
           "Mollet de Peralada",
           56.86679
          ],
          [
           "Molló",
           1178.97
          ],
          [
           "Montagut i Oix",
           278.7967
          ],
          [
           "Mont-ras",
           56.59036
          ],
          [
           "Navata",
           147.3417
          ],
          [
           "Ogassa",
           955.7571
          ],
          [
           "Olot",
           445.0352
          ],
          [
           "Ordis",
           97.83067
          ],
          [
           "Osor",
           350.0396
          ],
          [
           "Palafrugell",
           68.42641
          ],
          [
           "Palamós",
           14.00687
          ],
          [
           "Palau de Santa Eulàlia",
           81.56111
          ],
          [
           "Palau-saverdera",
           94.26295
          ],
          [
           "Palau-sator",
           19.59593
          ],
          [
           "Palol de Revardit",
           134.0089
          ],
          [
           "Pals",
           19.10723
          ],
          [
           "Pardines",
           1231.859
          ],
          [
           "Parlavà",
           30.01262
          ],
          [
           "Pau",
           27.27005
          ],
          [
           "Pedret i Marzà",
           28.24896
          ],
          [
           "Pera, La",
           78.5508
          ],
          [
           "Peralada",
           33.71151
          ],
          [
           "Planes d'Hostoles, Les",
           357.5643
          ],
          [
           "Planoles",
           1138.85
          ],
          [
           "Pont de Molins",
           46.54617
          ],
          [
           "Pontós",
           90.42199
          ],
          [
           "Porqueres",
           183.2214
          ],
          [
           "Portbou",
           12.24183
          ],
          [
           "Preses, Les",
           466.8972
          ],
          [
           "Port de la Selva, El",
           6.634849
          ],
          [
           "Puigcerdà",
           1184.155
          ],
          [
           "Quart",
           98.03844
          ],
          [
           "Rabós",
           114.9361
          ],
          [
           "Regencós",
           74.76754
          ],
          [
           "Ribes de Freser",
           919.8904
          ],
          [
           "Riells i Viabrea",
           96.39582
          ],
          [
           "Ripoll",
           696.5365
          ],
          [
           "Riudarenes",
           90
          ],
          [
           "Riudaura",
           578.0961
          ],
          [
           "Riudellots de la Selva",
           100.0308
          ],
          [
           "Riumors",
           3.91416
          ],
          [
           "Roses",
           6.046805
          ],
          [
           "Rupià",
           63.82626
          ],
          [
           "Sales de Llierca",
           266.1104
          ],
          [
           "Salt",
           87.70262
          ],
          [
           "Sant Andreu Salou",
           132.717
          ],
          [
           "Sant Climent Sescebes",
           83.43581
          ],
          [
           "Sant Feliu de Buixalleu",
           400.1262
          ],
          [
           "Sant Feliu de Guíxols",
           9.581546
          ],
          [
           "Sant Feliu de Pallerols",
           467.6071
          ],
          [
           "Sant Ferriol",
           195.0925
          ],
          [
           "Sant Gregori",
           105.9555
          ],
          [
           "Sant Hilari Sacalm",
           798.2343
          ],
          [
           "Sant Jaume de Llierca",
           212.891
          ],
          [
           "Sant Jordi Desvalls",
           52.30774
          ],
          [
           "Sant Joan de les Abadesses",
           778.5472
          ],
          [
           "Sant Joan de Mollet",
           47.70493
          ],
          [
           "Sant Julià de Ramis",
           174.7159
          ],
          [
           "Vallfogona de Ripollès",
           948.5323
          ],
          [
           "Sant Llorenç de la Muga",
           170.0117
          ],
          [
           "Sant Martí de Llémena",
           249.9684
          ],
          [
           "Sant Martí Vell",
           72.49802
          ],
          [
           "Sant Miquel de Campmajor",
           225.4033
          ],
          [
           "Sant Miquel de Fluvià",
           30.44114
          ],
          [
           "Sant Mori",
           39.63519
          ],
          [
           "Sant Pau de Segúries",
           860.9708
          ],
          [
           "Sant Pere Pescador",
           7.999541
          ],
          [
           "Santa Coloma de Farners",
           140.2747
          ],
          [
           "Santa Cristina d'Aro",
           54.80076
          ],
          [
           "Santa Llogaia d'Àlguema",
           42.30609
          ],
          [
           "Sant Aniol de Finestres",
           403.899
          ],
          [
           "Santa Pau",
           496.2841
          ],
          [
           "Sant Joan les Fonts",
           340.3424
          ],
          [
           "Sarrià de Ter",
           59.73502
          ],
          [
           "Saus, Camallera i Llampaies",
           94.31184
          ],
          [
           "Selva de Mar, La",
           53.85229
          ],
          [
           "Cellera de Ter, La",
           167.5866
          ],
          [
           "Serinyà",
           188.9648
          ],
          [
           "Serra de Daró",
           12.04134
          ],
          [
           "Setcases",
           1265.82
          ],
          [
           "Sils",
           78.97491
          ],
          [
           "Susqueda",
           337.0181
          ],
          [
           "Tallada d'Empordà, La",
           14.32662
          ],
          [
           "Terrades",
           227.8623
          ],
          [
           "Torrent",
           39.58279
          ],
          [
           "Torroella de Fluvià",
           9.374322
          ],
          [
           "Torroella de Montgrí",
           31.4563
          ],
          [
           "Tortellà",
           278.4685
          ],
          [
           "Toses",
           1426.833
          ],
          [
           "Tossa de Mar",
           11.30567
          ],
          [
           "Ultramort",
           21.90849
          ],
          [
           "Ullà",
           24.18182
          ],
          [
           "Ullastret",
           42.31542
          ],
          [
           "Urús",
           1269.748
          ],
          [
           "Vall d'en Bas, La",
           487.257
          ],
          [
           "Vall de Bianya, La",
           387.5479
          ],
          [
           "Vall-llobrega",
           61.32427
          ],
          [
           "Ventalló",
           29.75963
          ],
          [
           "Verges",
           18.31838
          ],
          [
           "Vidrà",
           984.6575
          ],
          [
           "Vidreres",
           95.18577
          ],
          [
           "Vilabertran",
           20
          ],
          [
           "Vilablareix",
           115.8257
          ],
          [
           "Viladasens",
           90.55965
          ],
          [
           "Viladamat",
           7.623611
          ],
          [
           "Vilademuls",
           121.4595
          ],
          [
           "Viladrau",
           826.043
          ],
          [
           "Vilafant",
           54.1561
          ],
          [
           "Vilaür",
           67.55302
          ],
          [
           "Vilajuïga",
           27.58708
          ],
          [
           "Vilallonga de Ter",
           1063.586
          ],
          [
           "Vilamacolum",
           6
          ],
          [
           "Vilamalla",
           45.89511
          ],
          [
           "Vilamaniscle",
           148.8217
          ],
          [
           "Vilanant",
           100.9817
          ],
          [
           "Vila-sacra",
           13.35783
          ],
          [
           "Vilopriu",
           71.60316
          ],
          [
           "Vilobí d'Onyar",
           121.8775
          ],
          [
           "Biure",
           67.65877
          ],
          [
           "Cruïlles, Monells i Sant Sadurní de l'Heura",
           110.6651
          ],
          [
           "Forallac",
           50.96644
          ],
          [
           "Sant Julià del Llor i Bonmatí",
           156.8956
          ],
          [
           "Agrón",
           1057.493
          ],
          [
           "Alamedilla",
           867.9614
          ],
          [
           "Albolote",
           650.2138
          ],
          [
           "Albondón",
           894.4161
          ],
          [
           "Albuñán",
           1115.975
          ],
          [
           "Albuñol",
           247.2122
          ],
          [
           "Albuñuelas",
           728.1844
          ],
          [
           "Aldeire",
           1274.015
          ],
          [
           "Alfacar",
           915.6451
          ],
          [
           "Algarinejo",
           596.2101
          ],
          [
           "Alhama de Granada",
           890.953
          ],
          [
           "Alhendín",
           736.6528
          ],
          [
           "Alicún de Ortega",
           692.778
          ],
          [
           "Almegíjar",
           811.4709
          ],
          [
           "Almuñécar",
           24.01802
          ],
          [
           "Alquife",
           1202.946
          ],
          [
           "Arenas del Rey",
           870.3409
          ],
          [
           "Armilla",
           671.618
          ],
          [
           "Atarfe",
           604.92
          ],
          [
           "Baza",
           850.2978
          ],
          [
           "Beas de Granada",
           1068.34
          ],
          [
           "Beas de Guadix",
           955.7032
          ],
          [
           "Benalúa",
           858.6871
          ],
          [
           "Benalúa de las Villas",
           848.7814
          ],
          [
           "Benamaurel",
           719.2347
          ],
          [
           "Bérchules",
           1330.123
          ],
          [
           "Bubión",
           1298.578
          ],
          [
           "Busquístar",
           1160.204
          ],
          [
           "Cacín",
           701.9979
          ],
          [
           "Cádiar",
           926.387
          ],
          [
           "Cájar",
           730.5661
          ],
          [
           "Calicasas",
           764.5505
          ],
          [
           "Campotéjar",
           925.5419
          ],
          [
           "Caniles",
           914.9191
          ],
          [
           "Cáñar",
           1026.397
          ],
          [
           "Capileira",
           1444.893
          ],
          [
           "Carataunas",
           761.6864
          ],
          [
           "Cástaras",
           1021.059
          ],
          [
           "Castilléjar",
           770.9531
          ],
          [
           "Castril",
           904.8172
          ],
          [
           "Cenes de la Vega",
           746.4172
          ],
          [
           "Cijuela",
           539.7335
          ],
          [
           "Cogollos de Guadix",
           1142.019
          ],
          [
           "Cogollos de la Vega",
           997.7243
          ],
          [
           "Colomera",
           855.0217
          ],
          [
           "Cortes de Baza",
           707.9819
          ],
          [
           "Cortes y Graena",
           976.4355
          ],
          [
           "Cúllar",
           895.665
          ],
          [
           "Cúllar Vega",
           643.1689
          ],
          [
           "Chauchina",
           552.4158
          ],
          [
           "Chimeneas",
           699.7101
          ],
          [
           "Churriana de la Vega",
           657.35
          ],
          [
           "Darro",
           1115.744
          ],
          [
           "Dehesas de Guadix",
           684.2996
          ],
          [
           "Dehesas Viejas",
           null
          ],
          [
           "Deifontes",
           744.6108
          ],
          [
           "Diezma",
           1227.448
          ],
          [
           "Dílar",
           878.0067
          ],
          [
           "Dólar",
           1204.454
          ],
          [
           "Dúdar",
           812.0253
          ],
          [
           "Dúrcal",
           786.6514
          ],
          [
           "Escúzar",
           873.6536
          ],
          [
           "Ferreira",
           1267.67
          ],
          [
           "Fonelas",
           785.6204
          ],
          [
           "Fornes",
           null
          ],
          [
           "Freila",
           824.4169
          ],
          [
           "Fuente Vaqueros",
           545.4914
          ],
          [
           "Galera",
           837.2482
          ],
          [
           "Gobernador",
           1039.05
          ],
          [
           "Gójar",
           791.8748
          ],
          [
           "Gor",
           1241.51
          ],
          [
           "Gorafe",
           847.6644
          ],
          [
           "Granada",
           697.486
          ],
          [
           "Guadahortuna",
           968.3403
          ],
          [
           "Guadix",
           919.4025
          ],
          [
           "Gualchos",
           335.95
          ],
          [
           "Güéjar Sierra",
           1098.16
          ],
          [
           "Güevéjar",
           876.2341
          ],
          [
           "Huélago",
           914.9307
          ],
          [
           "Huéneja",
           1155.85
          ],
          [
           "Huéscar",
           959.9781
          ],
          [
           "Huétor de Santillán",
           1019.823
          ],
          [
           "Huétor Tájar",
           489
          ],
          [
           "Huétor Vega",
           739.9867
          ],
          [
           "Íllora",
           775.8689
          ],
          [
           "Ítrabo",
           384.3103
          ],
          [
           "Iznalloz",
           816.3354
          ],
          [
           "Játar",
           null
          ],
          [
           "Jayena",
           911.8392
          ],
          [
           "Jérez del Marquesado",
           1237.271
          ],
          [
           "Jete",
           134.2804
          ],
          [
           "Jun",
           763.6108
          ],
          [
           "Juviles",
           1258.52
          ],
          [
           "Calahorra, La",
           null
          ],
          [
           "Láchar",
           559.7148
          ],
          [
           "Lanjarón",
           662.3086
          ],
          [
           "Lanteira",
           1279.618
          ],
          [
           "Lecrín",
           705.3149
          ],
          [
           "Lentegí",
           638.0128
          ],
          [
           "Lobras",
           917.7236
          ],
          [
           "Loja",
           456.7311
          ],
          [
           "Lugros",
           1241.42
          ],
          [
           "Lújar",
           509.9037
          ],
          [
           "Malahá, La",
           709.616
          ],
          [
           "Maracena",
           649.4002
          ],
          [
           "Marchal",
           926.4476
          ],
          [
           "Moclín",
           1061.082
          ],
          [
           "Molvízar",
           239.2467
          ],
          [
           "Monachil",
           811.2473
          ],
          [
           "Montefrío",
           835.1361
          ],
          [
           "Montejícar",
           1145.294
          ],
          [
           "Montillana",
           1019.378
          ],
          [
           "Moraleda de Zafayona",
           621.8634
          ],
          [
           "Motril",
           41.48437
          ],
          [
           "Murtas",
           1134.923
          ],
          [
           "Nigüelas",
           927.8786
          ],
          [
           "Nívar",
           1038.031
          ],
          [
           "Ogíjares",
           721.7737
          ],
          [
           "Orce",
           932.2527
          ],
          [
           "Órgiva",
           465.8732
          ],
          [
           "Otívar",
           266.5227
          ],
          [
           "Villa de Otura",
           null
          ],
          [
           "Padul",
           757.9304
          ],
          [
           "Pampaneira",
           1054.911
          ],
          [
           "Pedro Martínez",
           1036.34
          ],
          [
           "Peligros",
           687.5328
          ],
          [
           "Peza, La",
           996.5889
          ],
          [
           "Pinos Genil",
           777.8843
          ],
          [
           "Pinos Puente",
           575.2888
          ],
          [
           "Píñar",
           912.619
          ],
          [
           "Polícar",
           1146.402
          ],
          [
           "Polopos",
           783.9265
          ],
          [
           "Pórtugos",
           1312.607
          ],
          [
           "Puebla de Don Fadrique",
           1160.896
          ],
          [
           "Pulianas",
           728.1589
          ],
          [
           "Purullena",
           907.9955
          ],
          [
           "Quéntar",
           855.6412
          ],
          [
           "Rubite",
           778.7302
          ],
          [
           "Salar",
           545.4207
          ],
          [
           "Salobreña",
           20.95912
          ],
          [
           "Santa Cruz del Comercio",
           737.3204
          ],
          [
           "Santa Fe",
           582.6545
          ],
          [
           "Soportújar",
           944.0207
          ],
          [
           "Sorvilán",
           769.9988
          ],
          [
           "Torre-Cardela",
           1219.53
          ],
          [
           "Torvizcón",
           667.7946
          ],
          [
           "Trevélez",
           1542.32
          ],
          [
           "Turón",
           698.5202
          ],
          [
           "Ugíjar",
           547.5222
          ],
          [
           "Válor",
           901.9865
          ],
          [
           "Vélez de Benaudalla",
           170.5154
          ],
          [
           "Ventas de Huelma",
           858.721
          ],
          [
           "Villanueva de las Torres",
           645.9392
          ],
          [
           "Villanueva Mesía",
           493.5079
          ],
          [
           "Víznar",
           1074.323
          ],
          [
           "Zafarraya",
           896.4373
          ],
          [
           "Zubia, La",
           null
          ],
          [
           "Zújar",
           771.5205
          ],
          [
           "Taha, La",
           1100.905
          ],
          [
           "Valle, El",
           1245.152
          ],
          [
           "Nevada",
           792.3126
          ],
          [
           "Alpujarra de la Sierra",
           1238.541
          ],
          [
           "Gabias, Las",
           703.1069
          ],
          [
           "Guájares, Los",
           475.6051
          ],
          [
           "Valle del Zalabí",
           1245.152
          ],
          [
           "Villamena",
           762.7578
          ],
          [
           "Morelábor",
           1023.947
          ],
          [
           "Pinar, El",
           912.619
          ],
          [
           "Vegas del Genil",
           615
          ],
          [
           "Cuevas del Campo",
           832.7582
          ],
          [
           "Zagra",
           680.0646
          ],
          [
           "Valderrubio",
           null
          ],
          [
           "Domingo Pérez de Granada",
           null
          ],
          [
           "Torrenueva Costa",
           null
          ],
          [
           "Abánades",
           1031.429
          ],
          [
           "Ablanque",
           1045.646
          ],
          [
           "Adobes",
           1379.7
          ],
          [
           "Alaminos",
           1063.001
          ],
          [
           "Alarilla",
           830.985
          ],
          [
           "Albalate de Zorita",
           776.8889
          ],
          [
           "Albares",
           748.9675
          ],
          [
           "Albendiego",
           1191.034
          ],
          [
           "Alcocer",
           784.08
          ],
          [
           "Alcolea de las Peñas",
           1008.211
          ],
          [
           "Alcolea del Pinar",
           1201.03
          ],
          [
           "Alcoroches",
           1411.883
          ],
          [
           "Aldeanueva de Guadalajara",
           950.4051
          ],
          [
           "Algar de Mesa",
           922.8428
          ],
          [
           "Algora",
           1111.185
          ],
          [
           "Alhóndiga",
           811.9917
          ],
          [
           "Alique",
           920.197
          ],
          [
           "Almadrones",
           1054.043
          ],
          [
           "Almoguera",
           658.963
          ],
          [
           "Almonacid de Zorita",
           710.4469
          ],
          [
           "Alocén",
           954.1763
          ],
          [
           "Alovera",
           648.2296
          ],
          [
           "Alustante",
           1398.75
          ],
          [
           "Angón",
           981.9118
          ],
          [
           "Anguita",
           1123.483
          ],
          [
           "Anquela del Ducado",
           1186.507
          ],
          [
           "Anquela del Pedregal",
           1281.853
          ],
          [
           "Aranzueque",
           686.1259
          ],
          [
           "Arbancón",
           902.12
          ],
          [
           "Arbeteta",
           989.9099
          ],
          [
           "Argecilla",
           956.304
          ],
          [
           "Armallones",
           1206.545
          ],
          [
           "Armuña de Tajuña",
           718.0318
          ],
          [
           "Arroyo de las Fraguas",
           1225.092
          ],
          [
           "Atanzón",
           952.7128
          ],
          [
           "Atienza",
           1153.596
          ],
          [
           "Auñón",
           771.4276
          ],
          [
           "Azuqueca de Henares",
           633.6434
          ],
          [
           "Baides",
           841.8666
          ],
          [
           "Baños de Tajo",
           1257.18
          ],
          [
           "Bañuelos",
           1156.416
          ],
          [
           "Barriopedro",
           893.6289
          ],
          [
           "Berninches",
           930.7506
          ],
          [
           "Bodera, La",
           1130.464
          ],
          [
           "Brihuega",
           912.4825
          ],
          [
           "Budia",
           897.6595
          ],
          [
           "Bujalaro",
           847.1917
          ],
          [
           "Bustares",
           1289.387
          ],
          [
           "Cabanillas del Campo",
           686.0259
          ],
          [
           "Campillo de Dueñas",
           1117.296
          ],
          [
           "Campillo de Ranas",
           1097.048
          ],
          [
           "Campisábalos",
           1349.99
          ],
          [
           "Canredondo",
           1159.82
          ],
          [
           "Cantalojas",
           1314.269
          ],
          [
           "Cañizar",
           783.3613
          ],
          [
           "Cardoso de la Sierra, El",
           1283.771
          ],
          [
           "Casa de Uceda",
           915.0853
          ],
          [
           "Casar, El",
           829.6438
          ],
          [
           "Casas de San Galindo",
           1028.008
          ],
          [
           "Caspueñas",
           857.5028
          ],
          [
           "Castejón de Henares",
           959.337
          ],
          [
           "Castellar de la Muela",
           1210.087
          ],
          [
           "Castilforte",
           986.4266
          ],
          [
           "Castilnuevo",
           1084.918
          ],
          [
           "Cendejas de Enmedio",
           912.9671
          ],
          [
           "Cendejas de la Torre",
           957.337
          ],
          [
           "Centenera",
           818.259
          ],
          [
           "Cifuentes",
           897.1795
          ],
          [
           "Cincovillas",
           1016.226
          ],
          [
           "Ciruelas",
           823.9545
          ],
          [
           "Ciruelos del Pinar",
           1265.071
          ],
          [
           "Cobeta",
           1125.074
          ],
          [
           "Cogollor",
           945.5419
          ],
          [
           "Cogolludo",
           878.9348
          ],
          [
           "Condemios de Abajo",
           1313.768
          ],
          [
           "Condemios de Arriba",
           1312.75
          ],
          [
           "Congostrina",
           1010.113
          ],
          [
           "Copernal",
           844.6374
          ],
          [
           "Corduente",
           1058.495
          ],
          [
           "Cubillo de Uceda, El",
           894.9387
          ],
          [
           "Checa",
           1364.288
          ],
          [
           "Chequilla",
           1357.645
          ],
          [
           "Chiloeches",
           793.2838
          ],
          [
           "Chillarón del Rey",
           793.6684
          ],
          [
           "Driebes",
           729.485
          ],
          [
           "Durón",
           736.4201
          ],
          [
           "Embid",
           1084.913
          ],
          [
           "Escamilla",
           1021.877
          ],
          [
           "Escariche",
           791.7507
          ],
          [
           "Escopete",
           869.3793
          ],
          [
           "Espinosa de Henares",
           769.5982
          ],
          [
           "Esplegares",
           1151.916
          ],
          [
           "Establés",
           1148.052
          ],
          [
           "Estriégana",
           1103.077
          ],
          [
           "Fontanar",
           688
          ],
          [
           "Fuembellida",
           1224.531
          ],
          [
           "Fuencemillán",
           832.7535
          ],
          [
           "Fuentelahiguera de Albatages",
           900.9053
          ],
          [
           "Fuentelencina",
           969.9274
          ],
          [
           "Fuentelsaz",
           1122.968
          ],
          [
           "Fuentelviejo",
           902.558
          ],
          [
           "Fuentenovilla",
           800.5488
          ],
          [
           "Gajanejos",
           1031.304
          ],
          [
           "Galápagos",
           736.8546
          ],
          [
           "Galve de Sorbe",
           1364.459
          ],
          [
           "Gascueña de Bornova",
           1207.064
          ],
          [
           "Guadalajara",
           714.2177
          ],
          [
           "Henche",
           821.3327
          ],
          [
           "Heras de Ayuso",
           708.7994
          ],
          [
           "Herrería",
           1085.296
          ],
          [
           "Hiendelaencina",
           1087.683
          ],
          [
           "Hijes",
           1162.066
          ],
          [
           "Hita",
           855.7426
          ],
          [
           "Hombrados",
           1234.546
          ],
          [
           "Hontoba",
           733.9285
          ],
          [
           "Horche",
           921.676
          ],
          [
           "Hortezuela de Océn",
           1096.975
          ],
          [
           "Huerce, La",
           1270.942
          ],
          [
           "Huérmeces del Cerro",
           874.1462
          ],
          [
           "Huertahernando",
           1151.298
          ],
          [
           "Hueva",
           895.2715
          ],
          [
           "Humanes",
           749.6636
          ],
          [
           "Illana",
           750.5403
          ],
          [
           "Iniéstola",
           1157.162
          ],
          [
           "Inviernas, Las",
           971.1691
          ],
          [
           "Irueste",
           854.0027
          ],
          [
           "Jadraque",
           829.6091
          ],
          [
           "Jirueque",
           836.55
          ],
          [
           "Ledanca",
           916.9545
          ],
          [
           "Loranca de Tajuña",
           674.3804
          ],
          [
           "Lupiana",
           768.1111
          ],
          [
           "Luzaga",
           1066.36
          ],
          [
           "Luzón",
           1181.69
          ],
          [
           "Majaelrayo",
           1193.425
          ],
          [
           "Málaga del Fresno",
           784.2536
          ],
          [
           "Malaguilla",
           824.4382
          ],
          [
           "Mandayona",
           869.4004
          ],
          [
           "Mantiel",
           922.6431
          ],
          [
           "Maranchón",
           1250.432
          ],
          [
           "Marchamalo",
           675.0148
          ],
          [
           "Masegoso de Tajuña",
           887.7745
          ],
          [
           "Matarrubia",
           864.5784
          ],
          [
           "Matillas",
           817.9203
          ],
          [
           "Mazarete",
           1211.015
          ],
          [
           "Mazuecos",
           708.3503
          ],
          [
           "Medranda",
           818.2693
          ],
          [
           "Megina",
           1250.206
          ],
          [
           "Membrillera",
           830.0648
          ],
          [
           "Miedes de Atienza",
           1150.024
          ],
          [
           "Mierla, La",
           949.7092
          ],
          [
           "Milmarcos",
           1061.394
          ],
          [
           "Millana",
           819.1633
          ],
          [
           "Miñosa, La",
           1025.995
          ],
          [
           "Mirabueno",
           1069.348
          ],
          [
           "Miralrío",
           1039.837
          ],
          [
           "Mochales",
           993.5259
          ],
          [
           "Mohernando",
           781.8551
          ],
          [
           "Molina de Aragón",
           1066.345
          ],
          [
           "Monasterio",
           931.1225
          ],
          [
           "Mondéjar",
           798.318
          ],
          [
           "Montarrón",
           836.7844
          ],
          [
           "Moratilla de los Meleros",
           843.6528
          ],
          [
           "Morenilla",
           1188.845
          ],
          [
           "Muduex",
           818.524
          ],
          [
           "Navas de Jadraque, Las",
           1160.806
          ],
          [
           "Negredo",
           986.1238
          ],
          [
           "Ocentejo",
           861.1108
          ],
          [
           "Olivar, El",
           1039.425
          ],
          [
           "Olmeda de Cobeta",
           1136.275
          ],
          [
           "Olmeda de Jadraque, La",
           988.519
          ],
          [
           "Ordial, El",
           1233.109
          ],
          [
           "Orea",
           1501.279
          ],
          [
           "Pálmaces de Jadraque",
           916.1491
          ],
          [
           "Pardos",
           1185.159
          ],
          [
           "Paredes de Sigüenza",
           1002.631
          ],
          [
           "Pareja",
           753.7086
          ],
          [
           "Pastrana",
           760.5256
          ],
          [
           "Pedregal, El",
           1192.786
          ],
          [
           "Peñalén",
           1349.393
          ],
          [
           "Peñalver",
           941.0283
          ],
          [
           "Peralejos de las Truchas",
           1195.926
          ],
          [
           "Peralveche",
           1109.689
          ],
          [
           "Pinilla de Jadraque",
           837.084
          ],
          [
           "Pinilla de Molina",
           1218.99
          ],
          [
           "Pioz",
           877.6891
          ],
          [
           "Piqueras",
           1377.206
          ],
          [
           "Pobo de Dueñas, El",
           1265.469
          ],
          [
           "Poveda de la Sierra",
           1188.949
          ],
          [
           "Pozo de Almoguera",
           783.4164
          ],
          [
           "Pozo de Guadalajara",
           890.155
          ],
          [
           "Prádena de Atienza",
           1143.877
          ],
          [
           "Prados Redondos",
           1158.477
          ],
          [
           "Puebla de Beleña",
           920.8109
          ],
          [
           "Puebla de Valles",
           846.1002
          ],
          [
           "Quer",
           706.5587
          ],
          [
           "Rebollosa de Jadraque",
           1028.823
          ],
          [
           "Recuenco, El",
           978.4645
          ],
          [
           "Renera",
           758.5328
          ],
          [
           "Retiendas",
           889.69
          ],
          [
           "Riba de Saelices",
           987.1724
          ],
          [
           "Rillo de Gallo",
           1056.004
          ],
          [
           "Riofrío del Llano",
           1018.82
          ],
          [
           "Robledillo de Mohernando",
           885.8916
          ],
          [
           "Robledo de Corpes",
           1151.281
          ],
          [
           "Romanillos de Atienza",
           1105.959
          ],
          [
           "Romanones",
           750.4893
          ],
          [
           "Rueda de la Sierra",
           1149.894
          ],
          [
           "Sacecorbo",
           1120.788
          ],
          [
           "Sacedón",
           744.1919
          ],
          [
           "Saelices de la Sal",
           994.9368
          ],
          [
           "Salmerón",
           826.9052
          ],
          [
           "San Andrés del Congosto",
           867.291
          ],
          [
           "San Andrés del Rey",
           1020.218
          ],
          [
           "Santiuste",
           917.553
          ],
          [
           "Saúca",
           1105.572
          ],
          [
           "Sayatón",
           653.2286
          ],
          [
           "Selas",
           1213.464
          ],
          [
           "Setiles",
           1260.147
          ],
          [
           "Sienes",
           1035.452
          ],
          [
           "Sigüenza",
           997.2746
          ],
          [
           "Solanillos del Extremo",
           997.022
          ],
          [
           "Somolinos",
           1253.444
          ],
          [
           "Sotillo, El",
           1049.94
          ],
          [
           "Sotodosos",
           1138.66
          ],
          [
           "Tamajón",
           1034.312
          ],
          [
           "Taragudo",
           765.4358
          ],
          [
           "Taravilla",
           1318.905
          ],
          [
           "Tartanedo",
           1189.511
          ],
          [
           "Tendilla",
           798.4559
          ],
          [
           "Terzaga",
           1178.228
          ],
          [
           "Tierzo",
           1144.808
          ],
          [
           "Toba, La",
           945.3749
          ],
          [
           "Tordelrábano",
           1019.433
          ],
          [
           "Tordellego",
           1248.824
          ],
          [
           "Tordesilos",
           1344.611
          ],
          [
           "Torija",
           969.4859
          ],
          [
           "Torrecuadrada de Molina",
           1188.343
          ],
          [
           "Torrecuadradilla",
           1020.426
          ],
          [
           "Torre del Burgo",
           722.6486
          ],
          [
           "Torrejón del Rey",
           720.3807
          ],
          [
           "Torremocha de Jadraque",
           934.535
          ],
          [
           "Torremocha del Campo",
           1087.207
          ],
          [
           "Torremocha del Pinar",
           1278.072
          ],
          [
           "Torremochuela",
           1169.329
          ],
          [
           "Torrubia",
           1168.836
          ],
          [
           "Tórtola de Henares",
           723.7584
          ],
          [
           "Tortuera",
           1112.692
          ],
          [
           "Tortuero",
           896.6824
          ],
          [
           "Traíd",
           1391.918
          ],
          [
           "Trijueque",
           997.5736
          ],
          [
           "Trillo",
           734.2948
          ],
          [
           "Uceda",
           778.0472
          ],
          [
           "Ujados",
           1148.512
          ],
          [
           "Utande",
           838.1349
          ],
          [
           "Valdarachas",
           765.6512
          ],
          [
           "Valdearenas",
           786.662
          ],
          [
           "Valdeavellano",
           967.1561
          ],
          [
           "Valdeaveruelo",
           731.2949
          ],
          [
           "Valdeconcha",
           740.5092
          ],
          [
           "Valdegrudas",
           925.311
          ],
          [
           "Valdelcubo",
           1019.085
          ],
          [
           "Valdenuño Fernández",
           846.8645
          ],
          [
           "Valdepeñas de la Sierra",
           914.8377
          ],
          [
           "Valderrebollo",
           875.3423
          ],
          [
           "Valdesotos",
           835.3204
          ],
          [
           "Valfermoso de Tajuña",
           958.9691
          ],
          [
           "Valhermoso",
           1229.919
          ],
          [
           "Valtablado del Río",
           842.2578
          ],
          [
           "Valverde de los Arroyos",
           1258.747
          ],
          [
           "Viana de Jadraque",
           868.2767
          ],
          [
           "Villanueva de Alcorón",
           1267.838
          ],
          [
           "Villanueva de Argecilla",
           1024.961
          ],
          [
           "Villanueva de la Torre",
           694
          ],
          [
           "Villares de Jadraque",
           1037.886
          ],
          [
           "Villaseca de Henares",
           856.4547
          ],
          [
           "Villaseca de Uceda",
           914.4682
          ],
          [
           "Villel de Mesa",
           933.9042
          ],
          [
           "Viñuelas",
           903.8938
          ],
          [
           "Yebes",
           890.4029
          ],
          [
           "Yebra",
           753.6019
          ],
          [
           "Yélamos de Abajo",
           916.2587
          ],
          [
           "Yélamos de Arriba",
           947.1408
          ],
          [
           "Yunquera de Henares",
           695.682
          ],
          [
           "Yunta, La",
           1105.882
          ],
          [
           "Zaorejas",
           1225.005
          ],
          [
           "Zarzuela de Jadraque",
           1040.29
          ],
          [
           "Zorita de los Canes",
           596.4229
          ],
          [
           "Semillas",
           1201.821
          ],
          [
           "Abaltzisketa",
           null
          ],
          [
           "Aduna",
           null
          ],
          [
           "Aizarnazabal",
           null
          ],
          [
           "Albiztur",
           null
          ],
          [
           "Alegia",
           null
          ],
          [
           "Alkiza",
           null
          ],
          [
           "Altzo",
           null
          ],
          [
           "Amezketa",
           null
          ],
          [
           "Andoain",
           null
          ],
          [
           "Anoeta",
           null
          ],
          [
           "Antzuola",
           null
          ],
          [
           "Arama",
           null
          ],
          [
           "Aretxabaleta",
           null
          ],
          [
           "Asteasu",
           null
          ],
          [
           "Ataun",
           null
          ],
          [
           "Aia",
           null
          ],
          [
           "Azkoitia",
           null
          ],
          [
           "Azpeitia",
           null
          ],
          [
           "Beasain",
           null
          ],
          [
           "Beizama",
           null
          ],
          [
           "Belauntza",
           null
          ],
          [
           "Berastegi",
           null
          ],
          [
           "Berrobi",
           null
          ],
          [
           "Bidania-Goiatz",
           null
          ],
          [
           "Zegama",
           null
          ],
          [
           "Zerain",
           null
          ],
          [
           "Zestoa",
           null
          ],
          [
           "Zizurkil",
           null
          ],
          [
           "Deba",
           null
          ],
          [
           "Eibar",
           null
          ],
          [
           "Elduain",
           null
          ],
          [
           "Elgoibar",
           null
          ],
          [
           "Elgeta",
           null
          ],
          [
           "Eskoriatza",
           null
          ],
          [
           "Ezkio-Itsaso",
           null
          ],
          [
           "Hondarribia",
           null
          ],
          [
           "Gaintza",
           null
          ],
          [
           "Gabiria",
           null
          ],
          [
           "Getaria",
           null
          ],
          [
           "Hernani",
           null
          ],
          [
           "Hernialde",
           null
          ],
          [
           "Ibarra",
           null
          ],
          [
           "Idiazabal",
           null
          ],
          [
           "Ikaztegieta",
           null
          ],
          [
           "Irun",
           null
          ],
          [
           "Irura",
           null
          ],
          [
           "Itsasondo",
           null
          ],
          [
           "Larraul",
           null
          ],
          [
           "Lazkao",
           null
          ],
          [
           "Leaburu",
           null
          ],
          [
           "Legazpi",
           null
          ],
          [
           "Legorreta",
           null
          ],
          [
           "Lezo",
           null
          ],
          [
           "Lizartza",
           null
          ],
          [
           "Arrasate/Mondragón",
           null
          ],
          [
           "Mutriku",
           null
          ],
          [
           "Mutiloa",
           null
          ],
          [
           "Olaberria",
           null
          ],
          [
           "Oñati",
           null
          ],
          [
           "Orexa",
           null
          ],
          [
           "Orio",
           null
          ],
          [
           "Ormaiztegi",
           null
          ],
          [
           "Oiartzun",
           null
          ],
          [
           "Pasaia",
           null
          ],
          [
           "Soraluze-Placencia de las Armas",
           null
          ],
          [
           "Errezil",
           null
          ],
          [
           "Errenteria",
           null
          ],
          [
           "Leintz-Gatzaga",
           null
          ],
          [
           "Donostia/San Sebastián",
           null
          ],
          [
           "Segura",
           null
          ],
          [
           "Tolosa",
           null
          ],
          [
           "Urnieta",
           null
          ],
          [
           "Usurbil",
           null
          ],
          [
           "Bergara",
           null
          ],
          [
           "Villabona",
           null
          ],
          [
           "Ordizia",
           null
          ],
          [
           "Urretxu",
           null
          ],
          [
           "Zaldibia",
           null
          ],
          [
           "Zarautz",
           null
          ],
          [
           "Zumarraga",
           null
          ],
          [
           "Zumaia",
           null
          ],
          [
           "Mendaro",
           null
          ],
          [
           "Lasarte-Oria",
           null
          ],
          [
           "Astigarraga",
           null
          ],
          [
           "Baliarrain",
           null
          ],
          [
           "Orendain",
           null
          ],
          [
           "Altzaga",
           null
          ],
          [
           "Gaztelu",
           null
          ],
          [
           "Alájar",
           578.1751
          ],
          [
           "Aljaraque",
           36.69819
          ],
          [
           "Almendro, El",
           235.1584
          ],
          [
           "Almonaster la Real",
           581.577
          ],
          [
           "Almonte",
           77.07417
          ],
          [
           "Alosno",
           183.9688
          ],
          [
           "Aracena",
           673.9959
          ],
          [
           "Aroche",
           407.155
          ],
          [
           "Arroyomolinos de León",
           599.7921
          ],
          [
           "Ayamonte",
           3.156081
          ],
          [
           "Beas",
           120.9826
          ],
          [
           "Berrocal",
           465.0762
          ],
          [
           "Bollullos Par del Condado",
           116.0159
          ],
          [
           "Bonares",
           82.23658
          ],
          [
           "Cabezas Rubias",
           222.5471
          ],
          [
           "Cala",
           594.0731
          ],
          [
           "Calañas",
           297.4208
          ],
          [
           "Campillo, El",
           434.6812
          ],
          [
           "Campofrío",
           518.697
          ],
          [
           "Cañaveral de León",
           545.9366
          ],
          [
           "Cartaya",
           24.17416
          ],
          [
           "Castaño del Robledo",
           739.8133
          ],
          [
           "Cerro de Andévalo, El",
           301.119
          ],
          [
           "Corteconcepción",
           581.7432
          ],
          [
           "Cortegana",
           686.309
          ],
          [
           "Cortelazor",
           624.8343
          ],
          [
           "Cumbres de Enmedio",
           592.3164
          ],
          [
           "Cumbres de San Bartolomé",
           579.4737
          ],
          [
           "Cumbres Mayores",
           694.7698
          ],
          [
           "Chucena",
           148.2157
          ],
          [
           "Encinasola",
           430.9646
          ],
          [
           "Escacena del Campo",
           172
          ],
          [
           "Fuenteheridos",
           711.6528
          ],
          [
           "Galaroza",
           562.1963
          ],
          [
           "Gibraleón",
           29.21607
          ],
          [
           "Granada de Río-Tinto, La",
           0
          ],
          [
           "Granado, El",
           18.32656
          ],
          [
           "Higuera de la Sierra",
           627.3121
          ],
          [
           "Hinojales",
           615.3049
          ],
          [
           "Hinojos",
           83.66503
          ],
          [
           "Huelva",
           20.74414
          ],
          [
           "Isla Cristina",
           6.336774
          ],
          [
           "Jabugo",
           658.2429
          ],
          [
           "Lepe",
           24.5359
          ],
          [
           "Linares de la Sierra",
           490.7656
          ],
          [
           "Lucena del Puerto",
           83.68538
          ],
          [
           "Manzanilla",
           163.7289
          ],
          [
           "Marines, Los",
           723.576
          ],
          [
           "Minas de Riotinto",
           417.6434
          ],
          [
           "Moguer",
           53.91101
          ],
          [
           "Nava, La",
           424.0233
          ],
          [
           "Nerva",
           336.9252
          ],
          [
           "Niebla",
           42.88836
          ],
          [
           "Palma del Condado, La",
           96.01058
          ],
          [
           "Palos de la Frontera",
           29.09229
          ],
          [
           "Paterna del Campo",
           184.3562
          ],
          [
           "Paymogo",
           180.5523
          ],
          [
           "Puebla de Guzmán",
           212.8246
          ],
          [
           "Puerto Moral",
           519.9462
          ],
          [
           "Punta Umbría",
           7.50116
          ],
          [
           "Rociana del Condado",
           97.39848
          ],
          [
           "Rosal de la Frontera",
           221.4779
          ],
          [
           "San Bartolomé de la Torre",
           131.2254
          ],
          [
           "San Juan del Puerto",
           8
          ],
          [
           "Sanlúcar de Guadiana",
           15.38703
          ],
          [
           "San Silvestre de Guzmán",
           152.8138
          ],
          [
           "Santa Ana la Real",
           637.6948
          ],
          [
           "Santa Bárbara de Casa",
           310.5924
          ],
          [
           "Santa Olalla del Cala",
           518.6226
          ],
          [
           "Trigueros",
           78.58913
          ],
          [
           "Valdelarco",
           619.3045
          ],
          [
           "Valverde del Camino",
           282.4763
          ],
          [
           "Villablanca",
           95.63974
          ],
          [
           "Villalba del Alcor",
           161.8071
          ],
          [
           "Villanueva de las Cruces",
           119.6258
          ],
          [
           "Villanueva de los Castillejos",
           225
          ],
          [
           "Villarrasa",
           66.98409
          ],
          [
           "Zalamea la Real",
           409.5469
          ],
          [
           "Zufre",
           441.5297
          ],
          [
           "Zarza-Perrunal, La",
           null
          ],
          [
           "Abiego",
           527.2344
          ],
          [
           "Abizanda",
           603.4579
          ],
          [
           "Adahuesca",
           605.8567
          ],
          [
           "Agüero",
           665.527
          ],
          [
           "Aisa",
           1818.995
          ],
          [
           "Albalate de Cinca",
           193.5133
          ],
          [
           "Albalatillo",
           261.1216
          ],
          [
           "Albelda",
           364.2167
          ],
          [
           "Albero Alto",
           438.0544
          ],
          [
           "Albero Bajo",
           400
          ],
          [
           "Alberuela de Tubo",
           350.1249
          ],
          [
           "Alcalá de Gurrea",
           446.0858
          ],
          [
           "Alcalá del Obispo",
           512.0583
          ],
          [
           "Alcampell",
           503.4557
          ],
          [
           "Alcolea de Cinca",
           196.6943
          ],
          [
           "Alcubierre",
           452.4926
          ],
          [
           "Alerre",
           500
          ],
          [
           "Alfántega",
           248.8059
          ],
          [
           "Almudévar",
           401.6333
          ],
          [
           "Almunia de San Juan",
           352.0343
          ],
          [
           "Almuniente",
           340.9094
          ],
          [
           "Alquézar",
           629.8254
          ],
          [
           "Altorricón",
           264.4067
          ],
          [
           "Angüés",
           540
          ],
          [
           "Ansó",
           866.3192
          ],
          [
           "Antillón",
           488.7307
          ],
          [
           "Aragüés del Puerto",
           948.0828
          ],
          [
           "Arén",
           754.0966
          ],
          [
           "Argavieso",
           471.885
          ],
          [
           "Arguis",
           1058.686
          ],
          [
           "Ayerbe",
           592.9154
          ],
          [
           "Azanuy-Alins",
           449.2497
          ],
          [
           "Azara",
           440
          ],
          [
           "Azlor",
           487.5061
          ],
          [
           "Baélls",
           613.6285
          ],
          [
           "Bailo",
           700.7607
          ],
          [
           "Baldellou",
           464.8766
          ],
          [
           "Ballobar",
           158.806
          ],
          [
           "Banastás",
           534.7084
          ],
          [
           "Barbastro",
           336.4226
          ],
          [
           "Barbués",
           360.2759
          ],
          [
           "Barbuñales",
           459.5806
          ],
          [
           "Bárcabo",
           718.25
          ],
          [
           "Belver de Cinca",
           195.5677
          ],
          [
           "Benabarre",
           720.4813
          ],
          [
           "Benasque",
           1158.04
          ],
          [
           "Berbegal",
           513.5282
          ],
          [
           "Bielsa",
           1021.674
          ],
          [
           "Bierge",
           571.966
          ],
          [
           "Biescas",
           866.7526
          ],
          [
           "Binaced",
           281.8098
          ],
          [
           "Binéfar",
           288.9169
          ],
          [
           "Bisaurri",
           1059.666
          ],
          [
           "Biscarrués",
           460.8647
          ],
          [
           "Blecua y Torres",
           462.2051
          ],
          [
           "Boltaña",
           581.7597
          ],
          [
           "Bonansa",
           1248.454
          ],
          [
           "Borau",
           993.8726
          ],
          [
           "Broto",
           900.7473
          ],
          [
           "Caldearenas",
           646.5828
          ],
          [
           "Campo",
           666.6902
          ],
          [
           "Camporrélls",
           619.9485
          ],
          [
           "Canal de Berdún",
           657.1034
          ],
          [
           "Candasnos",
           285.8304
          ],
          [
           "Canfranc",
           1056.137
          ],
          [
           "Capdesaso",
           308.4349
          ],
          [
           "Capella",
           506.7932
          ],
          [
           "Casbas de Huesca",
           560.2505
          ],
          [
           "Castejón del Puente",
           346.0452
          ],
          [
           "Castejón de Monegros",
           470.3977
          ],
          [
           "Castejón de Sos",
           914.6373
          ],
          [
           "Castelflorite",
           310.2441
          ],
          [
           "Castiello de Jaca",
           898.745
          ],
          [
           "Castigaleu",
           836.4407
          ],
          [
           "Castillazuelo",
           362.4823
          ],
          [
           "Castillonroy",
           460.0535
          ],
          [
           "Colungo",
           592.0106
          ],
          [
           "Chalamera",
           194.1678
          ],
          [
           "Chía",
           1178.088
          ],
          [
           "Chimillas",
           521.475
          ],
          [
           "Esplús",
           280.312
          ],
          [
           "Estada",
           370.5751
          ],
          [
           "Estadilla",
           452.7106
          ],
          [
           "Estopiñán del Castillo",
           734.6618
          ],
          [
           "Fago",
           900
          ],
          [
           "Fanlo",
           1362.342
          ],
          [
           "Fiscal",
           768.2214
          ],
          [
           "Fonz",
           442.3823
          ],
          [
           "Foradada del Toscar",
           984.6446
          ],
          [
           "Fraga",
           129.2042
          ],
          [
           "Fueva, La",
           958.5854
          ],
          [
           "Gistaín",
           1436.18
          ],
          [
           "Grado, El",
           421.8172
          ],
          [
           "Grañén",
           328.7679
          ],
          [
           "Graus",
           457.7887
          ],
          [
           "Gurrea de Gállego",
           339.3757
          ],
          [
           "Hoz de Jaca",
           1257.866
          ],
          [
           "Huerto",
           372.563
          ],
          [
           "Huesca",
           467
          ],
          [
           "Ibieca",
           640
          ],
          [
           "Igriés",
           602.9488
          ],
          [
           "Ilche",
           321.2749
          ],
          [
           "Isábena",
           793.2245
          ],
          [
           "Jaca",
           815.3232
          ],
          [
           "Jasa",
           950.1556
          ],
          [
           "Labuerda",
           568.3488
          ],
          [
           "Laluenga",
           469.2747
          ],
          [
           "Lalueza",
           287.3316
          ],
          [
           "Lanaja",
           373.5856
          ],
          [
           "Laperdiguera",
           460.3023
          ],
          [
           "Lascellas-Ponzano",
           520
          ],
          [
           "Lascuarre",
           639.2742
          ],
          [
           "Laspaúles",
           1445.999
          ],
          [
           "Laspuña",
           699.6177
          ],
          [
           "Loarre",
           778.4832
          ],
          [
           "Loporzano",
           575.7261
          ],
          [
           "Loscorrales",
           622.3267
          ],
          [
           "Monesma y Cajigar",
           1022.985
          ],
          [
           "Monflorite-Lascasas",
           435.7766
          ],
          [
           "Montanuy",
           1190.101
          ],
          [
           "Monzón",
           283.2903
          ],
          [
           "Naval",
           605.8396
          ],
          [
           "Novales",
           448.5544
          ],
          [
           "Nueno",
           725.6004
          ],
          [
           "Olvena",
           516.8267
          ],
          [
           "Ontiñena",
           203.3611
          ],
          [
           "Osso de Cinca",
           171.382
          ],
          [
           "Palo",
           706.9058
          ],
          [
           "Panticosa",
           1168.466
          ],
          [
           "Peñalba",
           248.4572
          ],
          [
           "Peñas de Riglos, Las",
           675.6453
          ],
          [
           "Peralta de Alcofea",
           401.0762
          ],
          [
           "Peralta de Calasanz",
           749.5464
          ],
          [
           "Peraltilla",
           425.7468
          ],
          [
           "Perarrúa",
           509.4039
          ],
          [
           "Pertusa",
           349.1424
          ],
          [
           "Piracés",
           420.6216
          ],
          [
           "Plan",
           1009.788
          ],
          [
           "Poleñino",
           296.7819
          ],
          [
           "Pozán de Vero",
           395.2215
          ],
          [
           "Puebla de Castro, La",
           639.121
          ],
          [
           "Puente de Montañana",
           533.9636
          ],
          [
           "Puértolas",
           1167.452
          ],
          [
           "Pueyo de Araguás, El",
           683.9696
          ],
          [
           "Pueyo de Santa Cruz",
           253.1434
          ],
          [
           "Quicena",
           478.8754
          ],
          [
           "Robres",
           401.188
          ],
          [
           "Sabiñánigo",
           798.9523
          ],
          [
           "Sahún",
           1150.486
          ],
          [
           "Salas Altas",
           532.2599
          ],
          [
           "Salas Bajas",
           445.015
          ],
          [
           "Salillas",
           417.588
          ],
          [
           "Sallent de Gállego",
           1311.04
          ],
          [
           "San Esteban de Litera",
           429.2248
          ],
          [
           "Sangarrén",
           364.8689
          ],
          [
           "San Juan de Plan",
           1160.746
          ],
          [
           "Santa Cilia",
           645.163
          ],
          [
           "Santa Cruz de la Serós",
           782.9228
          ],
          [
           "Santaliestra y San Quílez",
           560.1749
          ],
          [
           "Sariñena",
           287.0003
          ],
          [
           "Secastilla",
           603.276
          ],
          [
           "Seira",
           898.3008
          ],
          [
           "Sena",
           218.4069
          ],
          [
           "Senés de Alcubierre",
           390.8914
          ],
          [
           "Sesa",
           443.4355
          ],
          [
           "Sesué",
           1010.999
          ],
          [
           "Siétamo",
           552.3276
          ],
          [
           "Sopeira",
           749.4668
          ],
          [
           "Tamarite de Litera",
           361.4778
          ],
          [
           "Tardienta",
           383.5266
          ],
          [
           "Tella-Sin",
           873.3126
          ],
          [
           "Tierz",
           465.9984
          ],
          [
           "Tolva",
           680.778
          ],
          [
           "Torla-Ordesa",
           null
          ],
          [
           "Torralba de Aragón",
           391.9379
          ],
          [
           "Torre la Ribera",
           1119.165
          ],
          [
           "Torrente de Cinca",
           113.8372
          ],
          [
           "Torres de Alcanadre",
           390.6137
          ],
          [
           "Torres de Barbués",
           356.6004
          ],
          [
           "Tramaced",
           401.6354
          ],
          [
           "Valfarta",
           366.5498
          ],
          [
           "Valle de Bardají",
           953.4558
          ],
          [
           "Valle de Lierp",
           1064.261
          ],
          [
           "Velilla de Cinca",
           129.0712
          ],
          [
           "Beranuy",
           null
          ],
          [
           "Viacamp y Litera",
           892.478
          ],
          [
           "Vicién",
           397.6077
          ],
          [
           "Villanova",
           982.9814
          ],
          [
           "Villanúa",
           955.9241
          ],
          [
           "Villanueva de Sigena",
           231.32
          ],
          [
           "Yebra de Basa",
           890.7194
          ],
          [
           "Yésero",
           1076.43
          ],
          [
           "Zaidín",
           162.6138
          ],
          [
           "Valle de Hecho",
           836.0576
          ],
          [
           "Puente la Reina de Jaca",
           621.0272
          ],
          [
           "San Miguel del Cinca",
           264.1327
          ],
          [
           "Sotonera, La",
           600.4966
          ],
          [
           "Lupiñén-Ortilla",
           464.1017
          ],
          [
           "Santa María de Dulcis",
           444.2901
          ],
          [
           "Aínsa-Sobrarbe",
           533.0886
          ],
          [
           "Hoz y Costean",
           567.6984
          ],
          [
           "Vencillón",
           199.0715
          ],
          [
           "Albanchez de Mágina",
           838.4496
          ],
          [
           "Alcalá la Real",
           929.4698
          ],
          [
           "Alcaudete",
           660.8123
          ],
          [
           "Aldeaquemada",
           700.2711
          ],
          [
           "Andújar",
           215.333
          ],
          [
           "Arjona",
           436.5915
          ],
          [
           "Arjonilla",
           348.891
          ],
          [
           "Arquillos",
           382.3034
          ],
          [
           "Baeza",
           759.475
          ],
          [
           "Bailén",
           350.999
          ],
          [
           "Baños de la Encina",
           419.4892
          ],
          [
           "Beas de Segura",
           581.1347
          ],
          [
           "Begíjar",
           556.9252
          ],
          [
           "Bélmez de la Moraleda",
           863.7288
          ],
          [
           "Benatae",
           854.9232
          ],
          [
           "Cabra del Santo Cristo",
           946.8475
          ],
          [
           "Cambil",
           766.1705
          ],
          [
           "Campillo de Arenas",
           873.8444
          ],
          [
           "Canena",
           522.5807
          ],
          [
           "Carboneros",
           403.3349
          ],
          [
           "Carolina, La",
           598.452
          ],
          [
           "Castellar",
           755.1962
          ],
          [
           "Castillo de Locubín",
           702.9443
          ],
          [
           "Cazalilla",
           299.448
          ],
          [
           "Cazorla",
           803.9982
          ],
          [
           "Chiclana de Segura",
           849.2234
          ],
          [
           "Chilluévar",
           731.5903
          ],
          [
           "Escañuela",
           319.1237
          ],
          [
           "Espeluy",
           279.3584
          ],
          [
           "Frailes",
           965.3821
          ],
          [
           "Fuensanta de Martos",
           739.0327
          ],
          [
           "Fuerte del Rey",
           436.6272
          ],
          [
           "Génave",
           828.0142
          ],
          [
           "Guardia de Jaén, La",
           617.7798
          ],
          [
           "Guarromán",
           348.1273
          ],
          [
           "Lahiguera",
           372.6848
          ],
          [
           "Higuera de Calatrava",
           327.069
          ],
          [
           "Hinojares",
           662.6468
          ],
          [
           "Hornos",
           856.1879
          ],
          [
           "Huelma",
           957.8574
          ],
          [
           "Huesa",
           633.4688
          ],
          [
           "Ibros",
           595.4207
          ],
          [
           "Iruela, La",
           940.507
          ],
          [
           "Iznatoraf",
           1037.591
          ],
          [
           "Jabalquinto",
           487.9245
          ],
          [
           "Jaén",
           576.3939
          ],
          [
           "Jamilena",
           754.0273
          ],
          [
           "Jimena",
           610.7731
          ],
          [
           "Jódar",
           650.8392
          ],
          [
           "Larva",
           736.2119
          ],
          [
           "Linares",
           410.825
          ],
          [
           "Lopera",
           272.2022
          ],
          [
           "Lupión",
           500.9033
          ],
          [
           "Mancha Real",
           759.8338
          ],
          [
           "Marmolejo",
           244.3259
          ],
          [
           "Martos",
           739.3722
          ],
          [
           "Mengíbar",
           322.3982
          ],
          [
           "Montizón",
           644.2109
          ],
          [
           "Navas de San Juan",
           660.0787
          ],
          [
           "Noalejo",
           1090.677
          ],
          [
           "Orcera",
           758.6879
          ],
          [
           "Peal de Becerro",
           548.8191
          ],
          [
           "Pegalajar",
           795.4036
          ],
          [
           "Porcuna",
           468.4524
          ],
          [
           "Pozo Alcón",
           866.2172
          ],
          [
           "Puente de Génave",
           546.5222
          ],
          [
           "Puerta de Segura, La",
           584.877
          ],
          [
           "Quesada",
           679.3597
          ],
          [
           "Rus",
           589.6185
          ],
          [
           "Sabiote",
           829.248
          ],
          [
           "Santa Elena",
           744.1349
          ],
          [
           "Santiago de Calatrava",
           391.0764
          ],
          [
           "Santisteban del Puerto",
           706.2657
          ],
          [
           "Santo Tomé",
           450.9806
          ],
          [
           "Segura de la Sierra",
           1110.403
          ],
          [
           "Siles",
           831.9842
          ],
          [
           "Sorihuela del Guadalimar",
           630.3478
          ],
          [
           "Torreblascopedro",
           329.4734
          ],
          [
           "Torredelcampo",
           null
          ],
          [
           "Torredonjimeno",
           585.9095
          ],
          [
           "Torreperogil",
           757.6904
          ],
          [
           "Torres",
           885.6928
          ],
          [
           "Torres de Albánchez",
           830.6685
          ],
          [
           "Úbeda",
           737.4617
          ],
          [
           "Valdepeñas de Jaén",
           921.3818
          ],
          [
           "Vilches",
           546.2039
          ],
          [
           "Villacarrillo",
           793.0148
          ],
          [
           "Villanueva de la Reina",
           220.4884
          ],
          [
           "Villanueva del Arzobispo",
           673.1283
          ],
          [
           "Villardompardo",
           443.1493
          ],
          [
           "Villares, Los",
           636.1295
          ],
          [
           "Villarrodrigo",
           870.652
          ],
          [
           "Cárcheles",
           797.9011
          ],
          [
           "Bedmar y Garcíez",
           645.4688
          ],
          [
           "Villatorres",
           302.4043
          ],
          [
           "Santiago-Pontones",
           1229.572
          ],
          [
           "Arroyo del Ojanco",
           540.2305
          ],
          [
           "Acebedo",
           1156.151
          ],
          [
           "Algadefe",
           740.688
          ],
          [
           "Alija del Infantado",
           740.0895
          ],
          [
           "Almanza",
           920.5887
          ],
          [
           "Antigua, La",
           753.6923
          ],
          [
           "Ardón",
           781.1647
          ],
          [
           "Arganza",
           591.5208
          ],
          [
           "Astorga",
           877.6437
          ],
          [
           "Balboa",
           688.6499
          ],
          [
           "Bañeza, La",
           779.588
          ],
          [
           "Barjas",
           845.5484
          ],
          [
           "Barrios de Luna, Los",
           1062.226
          ],
          [
           "Bembibre",
           650.2163
          ],
          [
           "Benavides",
           843.1052
          ],
          [
           "Benuza",
           790.2425
          ],
          [
           "Bercianos del Páramo",
           820.048
          ],
          [
           "Bercianos del Real Camino",
           854.1403
          ],
          [
           "Berlanga del Bierzo",
           794.8105
          ],
          [
           "Boca de Huérgano",
           1111.524
          ],
          [
           "Boñar",
           976.9141
          ],
          [
           "Borrenes",
           557.0456
          ],
          [
           "Brazuelo",
           968.3392
          ],
          [
           "Burgo Ranero, El",
           879.6293
          ],
          [
           "Burón",
           1098.104
          ],
          [
           "Bustillo del Páramo",
           847.2374
          ],
          [
           "Cabañas Raras",
           564.647
          ],
          [
           "Cabreros del Río",
           764.4465
          ],
          [
           "Cabrillanes",
           1248.003
          ],
          [
           "Cacabelos",
           483.8384
          ],
          [
           "Calzada del Coto",
           823.7811
          ],
          [
           "Campazas",
           767.0551
          ],
          [
           "Campo de Villavidel",
           769.7337
          ],
          [
           "Camponaraya",
           490.8461
          ],
          [
           "Valle de Ancares",
           null
          ],
          [
           "Cármenes",
           1168.941
          ],
          [
           "Carracedelo",
           454.8716
          ],
          [
           "Carrizo",
           891.8846
          ],
          [
           "Carrocera",
           1050.971
          ],
          [
           "Carucedo",
           506.0289
          ],
          [
           "Castilfalé",
           824.5781
          ],
          [
           "Castrillo de Cabrera",
           1064.227
          ],
          [
           "Castrillo de la Valduerna",
           909.4456
          ],
          [
           "Castrocalbón",
           809.9485
          ],
          [
           "Castrocontrigo",
           915
          ],
          [
           "Castropodame",
           746.3535
          ],
          [
           "Castrotierra de Valmadrigal",
           849
          ],
          [
           "Cea",
           840.9099
          ],
          [
           "Cebanico",
           951.4104
          ],
          [
           "Cebrones del Río",
           759.5551
          ],
          [
           "Cimanes de la Vega",
           722.0102
          ],
          [
           "Cimanes del Tejar",
           900.9469
          ],
          [
           "Cistierna",
           948.1119
          ],
          [
           "Congosto",
           691.2043
          ],
          [
           "Corbillos de los Oteros",
           792
          ],
          [
           "Corullón",
           484.8051
          ],
          [
           "Crémenes",
           995.2369
          ],
          [
           "Cuadros",
           903.5613
          ],
          [
           "Cubillas de los Oteros",
           772.6264
          ],
          [
           "Cubillas de Rueda",
           893.3711
          ],
          [
           "Cubillos del Sil",
           584.8532
          ],
          [
           "Chozas de Abajo",
           882.439
          ],
          [
           "Destriana",
           893.5352
          ],
          [
           "Encinedo",
           983.8217
          ],
          [
           "Ercina, La",
           1098.1
          ],
          [
           "Escobar de Campos",
           823.3975
          ],
          [
           "Fabero",
           700.0787
          ],
          [
           "Folgoso de la Ribera",
           777.3079
          ],
          [
           "Fresno de la Vega",
           754
          ],
          [
           "Fuentes de Carbajal",
           805.9653
          ],
          [
           "Garrafe de Torío",
           918.4145
          ],
          [
           "Gordaliza del Pino",
           822.9027
          ],
          [
           "Gordoncillo",
           749.6256
          ],
          [
           "Gradefes",
           855.98
          ],
          [
           "Grajal de Campos",
           804.4705
          ],
          [
           "Gusendos de los Oteros",
           799.3569
          ],
          [
           "Hospital de Órbigo",
           819.4772
          ],
          [
           "Igüeña",
           917.6442
          ],
          [
           "Izagre",
           783.4506
          ],
          [
           "Joarilla de las Matas",
           791.1022
          ],
          [
           "Laguna Dalga",
           800.6324
          ],
          [
           "Laguna de Negrillos",
           782
          ],
          [
           "León",
           841.3373
          ],
          [
           "Lucillo",
           1221.828
          ],
          [
           "Luyego",
           1050.455
          ],
          [
           "Llamas de la Ribera",
           897.8275
          ],
          [
           "Magaz de Cepeda",
           895.6011
          ],
          [
           "Mansilla de las Mulas",
           797.9987
          ],
          [
           "Mansilla Mayor",
           792.6296
          ],
          [
           "Maraña",
           1240.478
          ],
          [
           "Matadeón de los Oteros",
           862.5037
          ],
          [
           "Matallana de Torío",
           1012.9
          ],
          [
           "Matanza",
           832.1714
          ],
          [
           "Molinaseca",
           581.7184
          ],
          [
           "Murias de Paredes",
           1247.882
          ],
          [
           "Noceda del Bierzo",
           829.9746
          ],
          [
           "Oencia",
           842.3768
          ],
          [
           "Omañas, Las",
           936.036
          ],
          [
           "Onzonilla",
           806.4099
          ],
          [
           "Oseja de Sajambre",
           762.0876
          ],
          [
           "Pajares de los Oteros",
           790.4992
          ],
          [
           "Palacios de la Valduerna",
           795.884
          ],
          [
           "Palacios del Sil",
           876.0037
          ],
          [
           "Páramo del Sil",
           873.4056
          ],
          [
           "Peranzanes",
           944.1578
          ],
          [
           "Pobladura de Pelayo García",
           797
          ],
          [
           "Pola de Gordón, La",
           1012.029
          ],
          [
           "Ponferrada",
           537.8424
          ],
          [
           "Posada de Valdeón",
           915.0911
          ],
          [
           "Pozuelo del Páramo",
           757.3731
          ],
          [
           "Prado de la Guzpeña",
           1052.656
          ],
          [
           "Priaranza del Bierzo",
           512.7617
          ],
          [
           "Prioro",
           1116.744
          ],
          [
           "Puebla de Lillo",
           1142.314
          ],
          [
           "Puente de Domingo Flórez",
           376.8705
          ],
          [
           "Quintana del Castillo",
           1015.925
          ],
          [
           "Quintana del Marco",
           747.4242
          ],
          [
           "Quintana y Congosto",
           815.3561
          ],
          [
           "Regueras de Arriba",
           768.0805
          ],
          [
           "Reyero",
           1147.963
          ],
          [
           "Riaño",
           1110.109
          ],
          [
           "Riego de la Vega",
           809.6022
          ],
          [
           "Riello",
           1050.043
          ],
          [
           "Rioseco de Tapia",
           954.6298
          ],
          [
           "Robla, La",
           958.3334
          ],
          [
           "Roperuelos del Páramo",
           772
          ],
          [
           "Sabero",
           984.9694
          ],
          [
           "Sahagún",
           823.8625
          ],
          [
           "San Adrián del Valle",
           731.8175
          ],
          [
           "San Andrés del Rabanedo",
           855.3212
          ],
          [
           "Sancedo",
           685.0873
          ],
          [
           "San Cristóbal de la Polantera",
           799.5095
          ],
          [
           "San Emiliano",
           1182.807
          ],
          [
           "San Esteban de Nogales",
           785.158
          ],
          [
           "San Justo de la Vega",
           851.7037
          ],
          [
           "San Millán de los Caballeros",
           750.4792
          ],
          [
           "San Pedro Bercianos",
           823.5859
          ],
          [
           "Santa Colomba de Curueño",
           926.4728
          ],
          [
           "Santa Colomba de Somoza",
           998.198
          ],
          [
           "Santa Cristina de Valmadrigal",
           806.7304
          ],
          [
           "Santa Elena de Jamuz",
           767.0479
          ],
          [
           "Santa María de la Isla",
           788.8663
          ],
          [
           "Santa María del Monte de Cea",
           889.7578
          ],
          [
           "Santa María del Páramo",
           812.0701
          ],
          [
           "Santa María de Ordás",
           949.3904
          ],
          [
           "Santa Marina del Rey",
           845.9294
          ],
          [
           "Santas Martas",
           834.6781
          ],
          [
           "Santiago Millas",
           933.2487
          ],
          [
           "Santovenia de la Valdoncina",
           839.5405
          ],
          [
           "Sariegos",
           870.648
          ],
          [
           "Sena de Luna",
           1146.444
          ],
          [
           "Sobrado",
           441.7868
          ],
          [
           "Soto de la Vega",
           779.906
          ],
          [
           "Soto y Amío",
           1063.305
          ],
          [
           "Toral de los Guzmanes",
           744.2477
          ],
          [
           "Toreno",
           653.8434
          ],
          [
           "Torre del Bierzo",
           738.916
          ],
          [
           "Trabadelo",
           573.4517
          ],
          [
           "Truchas",
           1119.999
          ],
          [
           "Turcia",
           850.9941
          ],
          [
           "Urdiales del Páramo",
           810.6698
          ],
          [
           "Valdefresno",
           871.7318
          ],
          [
           "Valdefuentes del Páramo",
           786.8314
          ],
          [
           "Valdelugueros",
           1194.567
          ],
          [
           "Valdemora",
           777.129
          ],
          [
           "Valdepiélago",
           1030.69
          ],
          [
           "Valdepolo",
           873.5519
          ],
          [
           "Valderas",
           752.0427
          ],
          [
           "Valderrey",
           830.6566
          ],
          [
           "Valderrueda",
           1023.137
          ],
          [
           "Valdesamario",
           1021.253
          ],
          [
           "Val de San Lorenzo",
           886.899
          ],
          [
           "Valdevimbre",
           810.7202
          ],
          [
           "Valencia de Don Juan",
           767.8869
          ],
          [
           "Valverde de la Virgen",
           890.2882
          ],
          [
           "Valverde-Enrique",
           833.2962
          ],
          [
           "Vallecillo",
           846.0903
          ],
          [
           "Vecilla, La",
           1009.372
          ],
          [
           "Vegacervera",
           1046.433
          ],
          [
           "Vega de Espinareda",
           607.2139
          ],
          [
           "Vega de Infanzones",
           780
          ],
          [
           "Vega de Valcarce",
           629.737
          ],
          [
           "Vegaquemada",
           938.0208
          ],
          [
           "Vegas del Condado",
           862
          ],
          [
           "Villablino",
           989.2762
          ],
          [
           "Villabraz",
           847.0239
          ],
          [
           "Villadangos del Páramo",
           899.3542
          ],
          [
           "Toral de los Vados",
           null
          ],
          [
           "Villademor de la Vega",
           748.9046
          ],
          [
           "Villafranca del Bierzo",
           518.9436
          ],
          [
           "Villagatón",
           1015.718
          ],
          [
           "Villamandos",
           727.7506
          ],
          [
           "Villamañán",
           762.7079
          ],
          [
           "Villamartín de Don Sancho",
           892.331
          ],
          [
           "Villamejil",
           909.9926
          ],
          [
           "Villamol",
           819.0361
          ],
          [
           "Villamontán de la Valduerna",
           822.5558
          ],
          [
           "Villamoratiel de las Matas",
           845.7986
          ],
          [
           "Villanueva de las Manzanas",
           780.3629
          ],
          [
           "Villaobispo de Otero",
           868.2292
          ],
          [
           "Villaquejida",
           724.3493
          ],
          [
           "Villaquilambre",
           864.2917
          ],
          [
           "Villarejo de Órbigo",
           816.7586
          ],
          [
           "Villares de Órbigo",
           831.3205
          ],
          [
           "Villasabariego",
           851.8769
          ],
          [
           "Villaselán",
           862.9064
          ],
          [
           "Villaturiel",
           797.6174
          ],
          [
           "Villazala",
           799.6208
          ],
          [
           "Villazanzo de Valderaduey",
           916.1418
          ],
          [
           "Zotes del Páramo",
           782.1282
          ],
          [
           "Villamanín",
           1138.44
          ],
          [
           "Villaornate y Castro",
           737.9659
          ],
          [
           "Abella de la Conca",
           952.1764
          ],
          [
           "Àger",
           607.9741
          ],
          [
           "Agramunt",
           338.7131
          ],
          [
           "Alamús, Els",
           207.9185
          ],
          [
           "Alàs i Cerc",
           745.4337
          ],
          [
           "Albagés, L'",
           370.0416
          ],
          [
           "Albatàrrec",
           151.8978
          ],
          [
           "Albesa",
           238.3108
          ],
          [
           "Albi, L'",
           534.4882
          ],
          [
           "Alcanó",
           216.0127
          ],
          [
           "Alcarràs",
           136.5219
          ],
          [
           "Alcoletge",
           213.2258
          ],
          [
           "Alfarràs",
           298.5017
          ],
          [
           "Alfés",
           233.033
          ],
          [
           "Algerri",
           347.6021
          ],
          [
           "Alguaire",
           282.0707
          ],
          [
           "Alins",
           1056.239
          ],
          [
           "Almacelles",
           249.5397
          ],
          [
           "Almatret",
           468.0571
          ],
          [
           "Almenar",
           300.9621
          ],
          [
           "Alòs de Balaguer",
           298.3662
          ],
          [
           "Alpicat",
           264.9039
          ],
          [
           "Alt Àneu",
           1091.135
          ],
          [
           "Naut Aran",
           1273.032
          ],
          [
           "Anglesola",
           342
          ],
          [
           "Arbeca",
           306.752
          ],
          [
           "Pont de Bar, El",
           867.9058
          ],
          [
           "Arres",
           1300.125
          ],
          [
           "Arsèguel",
           985.8667
          ],
          [
           "Artesa de Lleida",
           201.7782
          ],
          [
           "Artesa de Segre",
           332.3418
          ],
          [
           "Sentiu de Sió, La",
           253.8751
          ],
          [
           "Aspa",
           256.8022
          ],
          [
           "Avellanes i Santa Linya, Les",
           571.9478
          ],
          [
           "Aitona",
           114.3093
          ],
          [
           "Baix Pallars",
           606.2668
          ],
          [
           "Balaguer",
           227.2513
          ],
          [
           "Barbens",
           284.5768
          ],
          [
           "Baronia de Rialb, La",
           598.8065
          ],
          [
           "Vall de Boí, La",
           1100
          ],
          [
           "Bassella",
           413.0881
          ],
          [
           "Bausen",
           904.0203
          ],
          [
           "Belianes",
           375.9277
          ],
          [
           "Bellcaire d'Urgell",
           264.6959
          ],
          [
           "Bell-lloc d'Urgell",
           199.3234
          ],
          [
           "Bellmunt d'Urgell",
           347.8303
          ],
          [
           "Bellpuig",
           293.6344
          ],
          [
           "Bellver de Cerdanya",
           1033.611
          ],
          [
           "Bellvís",
           209
          ],
          [
           "Benavent de Segrià",
           234.1884
          ],
          [
           "Biosca",
           433.4449
          ],
          [
           "Bovera",
           302.8737
          ],
          [
           "Bòrdes, Es",
           843.9403
          ],
          [
           "Borges Blanques, Les",
           305.5594
          ],
          [
           "Bossòst",
           712.4904
          ],
          [
           "Cabanabona",
           427.6726
          ],
          [
           "Cabó",
           722.8973
          ],
          [
           "Camarasa",
           259.0302
          ],
          [
           "Canejan",
           824.3683
          ],
          [
           "Castellar de la Ribera",
           645.1425
          ],
          [
           "Castelldans",
           354.4236
          ],
          [
           "Castellnou de Seana",
           275.9631
          ],
          [
           "Castelló de Farfanya",
           322.9813
          ],
          [
           "Castellserà",
           269.1279
          ],
          [
           "Cava",
           1260.723
          ],
          [
           "Cervera",
           514.1133
          ],
          [
           "Cervià de les Garrigues",
           455.9915
          ],
          [
           "Ciutadilla",
           490.5793
          ],
          [
           "Clariana de Cardener",
           505.0493
          ],
          [
           "Cogul, El",
           281.9914
          ],
          [
           "Coll de Nargó",
           562.6977
          ],
          [
           "Corbins",
           195.6501
          ],
          [
           "Cubells",
           470.9419
          ],
          [
           "Espluga Calba, L'",
           430.8572
          ],
          [
           "Espot",
           1329.839
          ],
          [
           "Estaràs",
           592.5443
          ],
          [
           "Esterri d'Àneu",
           958.5542
          ],
          [
           "Esterri de Cardós",
           1192.209
          ],
          [
           "Estamariu",
           1044.079
          ],
          [
           "Farrera",
           1347.608
          ],
          [
           "Floresta, La",
           326.3009
          ],
          [
           "Fondarella",
           239.177
          ],
          [
           "Foradada",
           433.8825
          ],
          [
           "Fuliola, La",
           273.3843
          ],
          [
           "Fulleda",
           580.2524
          ],
          [
           "Gavet de la Conca",
           419.0891
          ],
          [
           "Golmés",
           270.857
          ],
          [
           "Gósol",
           1425.53
          ],
          [
           "Granadella, La",
           519.9661
          ],
          [
           "Granja d'Escarp, La",
           86.5028
          ],
          [
           "Granyanella",
           507.9074
          ],
          [
           "Granyena de Segarra",
           585.0941
          ],
          [
           "Granyena de les Garrigues",
           357.5183
          ],
          [
           "Guimerà",
           512.8314
          ],
          [
           "Guissona",
           494.9318
          ],
          [
           "Guixers",
           877.1038
          ],
          [
           "Ivars de Noguera",
           326.9235
          ],
          [
           "Ivars d'Urgell",
           265.9485
          ],
          [
           "Ivorra",
           553.0552
          ],
          [
           "Isona i Conca Dellà",
           659.2741
          ],
          [
           "Juncosa",
           572.8483
          ],
          [
           "Juneda",
           266.91
          ],
          [
           "Lleida",
           166.4499
          ],
          [
           "Les",
           638.8151
          ],
          [
           "Linyola",
           249.5356
          ],
          [
           "Lladorre",
           1071.652
          ],
          [
           "Lladurs",
           820
          ],
          [
           "Llardecans",
           397.0908
          ],
          [
           "Llavorsí",
           796.6211
          ],
          [
           "Lles de Cerdanya",
           1467.283
          ],
          [
           "Llimiana",
           753.4308
          ],
          [
           "Llobera",
           846.8084
          ],
          [
           "Maldà",
           418.2859
          ],
          [
           "Massalcoreig",
           94.94318
          ],
          [
           "Massoteres",
           503.74
          ],
          [
           "Maials",
           374.7433
          ],
          [
           "Menàrguens",
           208.0313
          ],
          [
           "Miralcamp",
           267.9695
          ],
          [
           "Molsosa, La",
           641.0245
          ],
          [
           "Mollerussa",
           255.1743
          ],
          [
           "Montgai",
           285.5883
          ],
          [
           "Montellà i Martinet",
           960.6633
          ],
          [
           "Montferrer i Castellbò",
           718.1434
          ],
          [
           "Montoliu de Segarra",
           683.5535
          ],
          [
           "Montoliu de Lleida",
           148.1022
          ],
          [
           "Montornès de Segarra",
           586.9286
          ],
          [
           "Nalec",
           468.2451
          ],
          [
           "Navès",
           602.2256
          ],
          [
           "Odèn",
           1283.885
          ],
          [
           "Oliana",
           456.1855
          ],
          [
           "Oliola",
           415.9434
          ],
          [
           "Olius",
           555.1147
          ],
          [
           "Oluges, Les",
           520.3976
          ],
          [
           "Omellons, Els",
           383.1201
          ],
          [
           "Omells de na Gaia, Els",
           559.9135
          ],
          [
           "Organyà",
           551.4544
          ],
          [
           "Os de Balaguer",
           462.0808
          ],
          [
           "Ossó de Sió",
           387.8812
          ],
          [
           "Palau d'Anglesola, El",
           239.3142
          ],
          [
           "Conca de Dalt",
           502.1039
          ],
          [
           "Coma i la Pedra, La",
           961.528
          ],
          [
           "Penelles",
           283.3288
          ],
          [
           "Peramola",
           565.0052
          ],
          [
           "Pinell de Solsonès",
           632.7087
          ],
          [
           "Pinós",
           798.8068
          ],
          [
           "Poal, El",
           213.3557
          ],
          [
           "Pobla de Cérvoles, La",
           675.3557
          ],
          [
           "Bellaguarda",
           630.9696
          ],
          [
           "Pobla de Segur, La",
           513.2694
          ],
          [
           "Ponts",
           365.3082
          ],
          [
           "Pont de Suert, El",
           829.2844
          ],
          [
           "Portella, La",
           255.1998
          ],
          [
           "Prats i Sansor",
           1104.549
          ],
          [
           "Preixana",
           310.7234
          ],
          [
           "Preixens",
           310.299
          ],
          [
           "Prullans",
           1148.77
          ],
          [
           "Puiggròs",
           316.5753
          ],
          [
           "Puigverd d'Agramunt",
           347.943
          ],
          [
           "Puigverd de Lleida",
           211.46
          ],
          [
           "Rialp",
           716.666
          ],
          [
           "Ribera d'Urgellet",
           647.853
          ],
          [
           "Riner",
           698.1688
          ],
          [
           "Rosselló",
           257
          ],
          [
           "Salàs de Pallars",
           544.2087
          ],
          [
           "Sanaüja",
           405.1787
          ],
          [
           "Sant Guim de Freixenet",
           742.983
          ],
          [
           "Sant Llorenç de Morunys",
           931.3393
          ],
          [
           "Sant Ramon",
           660.8257
          ],
          [
           "Sant Esteve de la Sarga",
           906.1107
          ],
          [
           "Sant Guim de la Plana",
           554.3297
          ],
          [
           "Sarroca de Lleida",
           194.3455
          ],
          [
           "Sarroca de Bellera",
           958.9928
          ],
          [
           "Senterada",
           735.4564
          ],
          [
           "Seu d'Urgell, La",
           687.3732
          ],
          [
           "Seròs",
           105.2147
          ],
          [
           "Sidamon",
           230.7424
          ],
          [
           "Soleràs, El",
           389.3676
          ],
          [
           "Solsona",
           679.2817
          ],
          [
           "Soriguera",
           1182.144
          ],
          [
           "Sort",
           690.4686
          ],
          [
           "Soses",
           124.5909
          ],
          [
           "Sudanell",
           156.6789
          ],
          [
           "Sunyer",
           213.2605
          ],
          [
           "Talarn",
           543.7527
          ],
          [
           "Talavera",
           757.597
          ],
          [
           "Tàrrega",
           382.5588
          ],
          [
           "Tarrés",
           585.189
          ],
          [
           "Tarroja de Segarra",
           467.2543
          ],
          [
           "Térmens",
           208.6154
          ],
          [
           "Tírvia",
           1019.093
          ],
          [
           "Tiurana",
           395.5405
          ],
          [
           "Torà",
           436.7267
          ],
          [
           "Torms, Els",
           465.9422
          ],
          [
           "Tornabous",
           294.4711
          ],
          [
           "Torrebesses",
           262.0064
          ],
          [
           "Torre de Cabdella, La",
           1300
          ],
          [
           "Torrefarrera",
           218.273
          ],
          [
           "Torregrossa",
           238.2074
          ],
          [
           "Torrelameu",
           202.6676
          ],
          [
           "Torres de Segre",
           125.5436
          ],
          [
           "Torre-serona",
           194.7614
          ],
          [
           "Tremp",
           470.7209
          ],
          [
           "Vallbona de les Monges",
           494.5486
          ],
          [
           "Valls de Valira, Les",
           756.8403
          ],
          [
           "Vallfogona de Balaguer",
           232.8295
          ],
          [
           "Verdú",
           437.169
          ],
          [
           "Vielha e Mijaran",
           990.1799
          ],
          [
           "Vilagrassa",
           355.2005
          ],
          [
           "Vilaller",
           980.9213
          ],
          [
           "Vilamòs",
           1260.609
          ],
          [
           "Vilanova de Bellpuig",
           293.5143
          ],
          [
           "Vilanova de l'Aguda",
           398.3846
          ],
          [
           "Vilanova de Meià",
           608.9849
          ],
          [
           "Vilanova de Segrià",
           255.3218
          ],
          [
           "Vila-sana",
           249.5091
          ],
          [
           "Vilosell, El",
           655.3639
          ],
          [
           "Vilanova de la Barca",
           197.9396
          ],
          [
           "Vinaixa",
           483.3008
          ],
          [
           "Vall de Cardós",
           938.0867
          ],
          [
           "Sant Martí de Riucorb",
           407.3113
          ],
          [
           "Guingueta d'Àneu, La",
           950.3268
          ],
          [
           "Castell de Mur",
           867.5153
          ],
          [
           "Ribera d'Ondara",
           557.7328
          ],
          [
           "Valls d'Aguilar, Les",
           643.6229
          ],
          [
           "Torrefeta i Florejacs",
           473.3801
          ],
          [
           "Fígols i Alinyà",
           638.1115
          ],
          [
           "Vansa i Fórnols, La",
           1115.894
          ],
          [
           "Josa i Tuixén",
           1182.531
          ],
          [
           "Plans de Sió, Els",
           412.8737
          ],
          [
           "Gimenells i el Pla de la Font",
           258.7494
          ],
          [
           "Riu de Cerdanya",
           1174.395
          ],
          [
           "Ábalos",
           590.3367
          ],
          [
           "Agoncillo",
           346.0684
          ],
          [
           "Aguilar del Río Alhama",
           642.4493
          ],
          [
           "Ajamil de Cameros",
           1013.896
          ],
          [
           "Albelda de Iregua",
           527.8994
          ],
          [
           "Alberite",
           451.6525
          ],
          [
           "Alcanadre",
           346.884
          ],
          [
           "Aldeanueva de Ebro",
           347
          ],
          [
           "Alesanco",
           565.6456
          ],
          [
           "Alesón",
           573.7119
          ],
          [
           "Alfaro",
           308.5974
          ],
          [
           "Almarza de Cameros",
           1069.351
          ],
          [
           "Anguciana",
           479.3135
          ],
          [
           "Anguiano",
           652.6512
          ],
          [
           "Arenzana de Abajo",
           546.6681
          ],
          [
           "Arenzana de Arriba",
           597.5667
          ],
          [
           "Arnedillo",
           671.225
          ],
          [
           "Arnedo",
           529.8414
          ],
          [
           "Arrúbal",
           356.6617
          ],
          [
           "Ausejo",
           559.8897
          ],
          [
           "Autol",
           447.7715
          ],
          [
           "Azofra",
           549.5315
          ],
          [
           "Badarán",
           626.2255
          ],
          [
           "Bañares",
           594.9688
          ],
          [
           "Baños de Rioja",
           549.6365
          ],
          [
           "Baños de Río Tobía",
           579.7742
          ],
          [
           "Berceo",
           725.8651
          ],
          [
           "Bergasa",
           659.4448
          ],
          [
           "Bergasillas Bajera",
           835.3159
          ],
          [
           "Bezares",
           691.6075
          ],
          [
           "Bobadilla",
           575.4393
          ],
          [
           "Brieva de Cameros",
           962.1104
          ],
          [
           "Briñas",
           451.1893
          ],
          [
           "Briones",
           502.3963
          ],
          [
           "Cabezón de Cameros",
           933.9756
          ],
          [
           "Calahorra",
           350.8057
          ],
          [
           "Camprovín",
           655.001
          ],
          [
           "Canales de la Sierra",
           1034.365
          ],
          [
           "Canillas de Río Tuerto",
           622.8653
          ],
          [
           "Cañas",
           644.0715
          ],
          [
           "Cárdenas",
           569.4557
          ],
          [
           "Casalarreina",
           499.5124
          ],
          [
           "Castañares de Rioja",
           544.8438
          ],
          [
           "Castroviejo",
           957.0941
          ],
          [
           "Cellorigo",
           779.0795
          ],
          [
           "Cenicero",
           433.9284
          ],
          [
           "Cervera del Río Alhama",
           533.9604
          ],
          [
           "Cidamón",
           584.6813
          ],
          [
           "Cihuri",
           487.6716
          ],
          [
           "Cirueña",
           753.5059
          ],
          [
           "Clavijo",
           870.1968
          ],
          [
           "Cordovín",
           591.1239
          ],
          [
           "Corera",
           524.1997
          ],
          [
           "Cornago",
           700.761
          ],
          [
           "Corporales",
           729.3324
          ],
          [
           "Cuzcurrita de Río Tirón",
           518.9031
          ],
          [
           "Daroca de Rioja",
           718.0956
          ],
          [
           "Enciso",
           800.3494
          ],
          [
           "Entrena",
           556.1802
          ],
          [
           "Estollo",
           748.5827
          ],
          [
           "Ezcaray",
           813.0378
          ],
          [
           "Foncea",
           696.9241
          ],
          [
           "Fonzaleche",
           558.2291
          ],
          [
           "Fuenmayor",
           436.0469
          ],
          [
           "Galbárruli",
           656.6448
          ],
          [
           "Galilea",
           558.0848
          ],
          [
           "Gallinero de Cameros",
           1052.772
          ],
          [
           "Gimileo",
           480.4563
          ],
          [
           "Grañón",
           728.1026
          ],
          [
           "Grávalos",
           757.1207
          ],
          [
           "Haro",
           478.9891
          ],
          [
           "Herce",
           592.4082
          ],
          [
           "Herramélluri",
           572.0812
          ],
          [
           "Hervías",
           655.4955
          ],
          [
           "Hormilla",
           515.5236
          ],
          [
           "Hormilleja",
           492.3883
          ],
          [
           "Hornillos de Cameros",
           1145.726
          ],
          [
           "Hornos de Moncalvillo",
           677.0172
          ],
          [
           "Huércanos",
           514.9982
          ],
          [
           "Igea",
           568.7258
          ],
          [
           "Jalón de Cameros",
           869.4159
          ],
          [
           "Laguna de Cameros",
           1043.967
          ],
          [
           "Lagunilla del Jubera",
           612.0925
          ],
          [
           "Lardero",
           438.448
          ],
          [
           "Ledesma de la Cogolla",
           748.3919
          ],
          [
           "Leiva",
           586.0123
          ],
          [
           "Leza de Río Leza",
           574.0675
          ],
          [
           "Logroño",
           396.4728
          ],
          [
           "Lumbreras de Cameros",
           null
          ],
          [
           "Manjarrés",
           630.46
          ],
          [
           "Mansilla de la Sierra",
           959.0128
          ],
          [
           "Manzanares de Rioja",
           800.946
          ],
          [
           "Matute",
           685.0762
          ],
          [
           "Medrano",
           599.9323
          ],
          [
           "Munilla",
           801.2989
          ],
          [
           "Murillo de Río Leza",
           409.3719
          ],
          [
           "Muro de Aguas",
           881.153
          ],
          [
           "Muro en Cameros",
           1102.083
          ],
          [
           "Nájera",
           491.8676
          ],
          [
           "Nalda",
           621.6317
          ],
          [
           "Navajún",
           927.8933
          ],
          [
           "Navarrete",
           505.4879
          ],
          [
           "Nestares",
           861.1385
          ],
          [
           "Nieva de Cameros",
           1008.789
          ],
          [
           "Ocón",
           885.0756
          ],
          [
           "Ochánduri",
           550.3547
          ],
          [
           "Ojacastro",
           792.9922
          ],
          [
           "Ollauri",
           499.6054
          ],
          [
           "Ortigosa de Cameros",
           1061.807
          ],
          [
           "Pazuengos",
           1160.065
          ],
          [
           "Pedroso",
           1699.063
          ],
          [
           "Pinillos",
           1009.915
          ],
          [
           "Pradejón",
           364.7923
          ],
          [
           "Pradillo",
           884.1365
          ],
          [
           "Préjano",
           705.9279
          ],
          [
           "Quel",
           477.9927
          ],
          [
           "Rabanera",
           973.8629
          ],
          [
           "Rasillo de Cameros, El",
           1098.583
          ],
          [
           "Redal, El",
           530.1921
          ],
          [
           "Ribafrecha",
           499.8856
          ],
          [
           "Rincón de Soto",
           291.5012
          ],
          [
           "Robres del Castillo",
           732.1305
          ],
          [
           "Rodezno",
           546.4205
          ],
          [
           "Sajazarra",
           515.8929
          ],
          [
           "San Asensio",
           535.0013
          ],
          [
           "San Millán de la Cogolla",
           725.5252
          ],
          [
           "San Millán de Yécora",
           658
          ],
          [
           "San Román de Cameros",
           841.6791
          ],
          [
           "Santa Coloma",
           763.788
          ],
          [
           "Santa Engracia del Jubera",
           651.6323
          ],
          [
           "Santa Eulalia Bajera",
           633.9897
          ],
          [
           "Santo Domingo de la Calzada",
           641.3798
          ],
          [
           "San Torcuato",
           599.8317
          ],
          [
           "Santurde de Rioja",
           713.6771
          ],
          [
           "Santurdejo",
           776.8748
          ],
          [
           "San Vicente de la Sonsierra",
           499.6028
          ],
          [
           "Sojuela",
           666.7807
          ],
          [
           "Sorzano",
           722.3146
          ],
          [
           "Sotés",
           670.8347
          ],
          [
           "Soto en Cameros",
           732.1506
          ],
          [
           "Terroba",
           799.225
          ],
          [
           "Tirgo",
           521.4808
          ],
          [
           "Tobía",
           689.8137
          ],
          [
           "Tormantos",
           608.6924
          ],
          [
           "Torrecilla en Cameros",
           751.1946
          ],
          [
           "Torrecilla sobre Alesanco",
           613.0709
          ],
          [
           "Torre en Cameros",
           1134.403
          ],
          [
           "Torremontalbo",
           424.9834
          ],
          [
           "Treviana",
           586.3843
          ],
          [
           "Tricio",
           563.7631
          ],
          [
           "Tudelilla",
           541.8914
          ],
          [
           "Uruñuela",
           498.3737
          ],
          [
           "Valdemadera",
           965.7645
          ],
          [
           "Valgañón",
           937.2846
          ],
          [
           "Ventosa",
           640.8217
          ],
          [
           "Ventrosa",
           968.6185
          ],
          [
           "Viguera",
           687.5367
          ],
          [
           "Villalba de Rioja",
           552.1461
          ],
          [
           "Villalobar de Rioja",
           586.6432
          ],
          [
           "Villamediana de Iregua",
           444.9522
          ],
          [
           "Villanueva de Cameros",
           886.7664
          ],
          [
           "Villar de Arnedo, El",
           433.9665
          ],
          [
           "Villar de Torre",
           766.6995
          ],
          [
           "Villarejo",
           833.6031
          ],
          [
           "Villarroya",
           920.0107
          ],
          [
           "Villarta-Quintana",
           754.0377
          ],
          [
           "Villavelayo",
           952.2856
          ],
          [
           "Villaverde de Rioja",
           798.5352
          ],
          [
           "Villoslada de Cameros",
           1072.263
          ],
          [
           "Viniegra de Abajo",
           887.5325
          ],
          [
           "Viniegra de Arriba",
           1193.244
          ],
          [
           "Zarratón",
           560.7578
          ],
          [
           "Zarzosa",
           937.8779
          ],
          [
           "Zorraquín",
           872.1453
          ],
          [
           "Abadín",
           475.1587
          ],
          [
           "Alfoz",
           56.10721
          ],
          [
           "Antas de Ulla",
           558.4615
          ],
          [
           "Baleira",
           661.8257
          ],
          [
           "Barreiros",
           193.2786
          ],
          [
           "Becerreá",
           641.6993
          ],
          [
           "Begonte",
           416.7638
          ],
          [
           "Bóveda",
           358.4192
          ],
          [
           "Carballedo",
           556.9655
          ],
          [
           "Castro de Rei",
           431.6718
          ],
          [
           "Castroverde",
           589.1481
          ],
          [
           "Cervantes",
           648.1846
          ],
          [
           "Cervo",
           59.01057
          ],
          [
           "Corgo, O",
           423.9196
          ],
          [
           "Cospeito",
           426.1127
          ],
          [
           "Chantada",
           491.9615
          ],
          [
           "Folgoso do Courel",
           597.0881
          ],
          [
           "Fonsagrada, A",
           957.5945
          ],
          [
           "Foz",
           6.783125
          ],
          [
           "Friol",
           483.822
          ],
          [
           "Xermade",
           468.3652
          ],
          [
           "Guitiriz",
           448.572
          ],
          [
           "Guntín",
           465.0538
          ],
          [
           "Incio, O",
           733.6429
          ],
          [
           "Xove",
           61.07624
          ],
          [
           "Láncara",
           409.2137
          ],
          [
           "Lourenzá",
           56.24402
          ],
          [
           "Lugo",
           468.2347
          ],
          [
           "Meira",
           488.5347
          ],
          [
           "Mondoñedo",
           132.6622
          ],
          [
           "Monforte de Lemos",
           299.166
          ],
          [
           "Monterroso",
           542.8273
          ],
          [
           "Muras",
           486.4558
          ],
          [
           "Navia de Suarna",
           324.8547
          ],
          [
           "Negueira de Muñiz",
           358.476
          ],
          [
           "Nogais, As",
           512.5035
          ],
          [
           "Ourol",
           253.6125
          ],
          [
           "Outeiro de Rei",
           410.7439
          ],
          [
           "Palas de Rei",
           558.8809
          ],
          [
           "Pantón",
           304.506
          ],
          [
           "Paradela",
           559.2864
          ],
          [
           "Páramo, O",
           376.2073
          ],
          [
           "Pastoriza, A",
           545.8884
          ],
          [
           "Pedrafita do Cebreiro",
           1110.924
          ],
          [
           "Pol",
           530.1712
          ],
          [
           "Pobra do Brollón, A",
           384.0419
          ],
          [
           "Pontenova, A",
           84.54995
          ],
          [
           "Portomarín",
           387.5597
          ],
          [
           "Quiroga",
           268.3575
          ],
          [
           "Ribadeo",
           41.25553
          ],
          [
           "Ribas de Sil",
           532.9442
          ],
          [
           "Ribeira de Piquín",
           616.5509
          ],
          [
           "Riotorto",
           393.7881
          ],
          [
           "Samos",
           542.352
          ],
          [
           "Rábade",
           404.1569
          ],
          [
           "Sarria",
           447.6552
          ],
          [
           "Saviñao, O",
           450.5526
          ],
          [
           "Sober",
           398.1687
          ],
          [
           "Taboada",
           542.3445
          ],
          [
           "Trabada",
           214.7123
          ],
          [
           "Triacastela",
           671.5583
          ],
          [
           "Valadouro, O",
           262.7564
          ],
          [
           "Vicedo, O",
           13.50312
          ],
          [
           "Vilalba",
           452.9068
          ],
          [
           "Viveiro",
           21.87932
          ],
          [
           "Baralla",
           488.2265
          ],
          [
           "Burela",
           62.66413
          ],
          [
           "Acebeda, La",
           1266.542
          ],
          [
           "Ajalvir",
           680.1722
          ],
          [
           "Alameda del Valle",
           1109.934
          ],
          [
           "Álamo, El",
           606.2238
          ],
          [
           "Alcalá de Henares",
           593.7416
          ],
          [
           "Alcobendas",
           694.4304
          ],
          [
           "Alcorcón",
           717.5549
          ],
          [
           "Aldea del Fresno",
           476.7994
          ],
          [
           "Algete",
           712.8972
          ],
          [
           "Alpedrete",
           916.7029
          ],
          [
           "Ambite",
           667.338
          ],
          [
           "Anchuelo",
           761.7067
          ],
          [
           "Aranjuez",
           502.3892
          ],
          [
           "Arganda del Rey",
           626.9236
          ],
          [
           "Arroyomolinos",
           597.4142
          ],
          [
           "Atazar, El",
           900.2352
          ],
          [
           "Batres",
           603.6849
          ],
          [
           "Becerril de la Sierra",
           1086.586
          ],
          [
           "Belmonte de Tajo",
           732.0183
          ],
          [
           "Berzosa del Lozoya",
           1079.826
          ],
          [
           "Berrueco, El",
           937.1234
          ],
          [
           "Boadilla del Monte",
           673.7737
          ],
          [
           "Boalo, El",
           953.0439
          ],
          [
           "Braojos",
           1189.477
          ],
          [
           "Brea de Tajo",
           722.8417
          ],
          [
           "Brunete",
           654.7903
          ],
          [
           "Buitrago del Lozoya",
           977.8387
          ],
          [
           "Bustarviejo",
           1217.359
          ],
          [
           "Cabanillas de la Sierra",
           921.8676
          ],
          [
           "Cabrera, La",
           1040.395
          ],
          [
           "Cadalso de los Vidrios",
           799.9886
          ],
          [
           "Camarma de Esteruelas",
           639.19
          ],
          [
           "Campo Real",
           765.6791
          ],
          [
           "Canencia",
           1142.31
          ],
          [
           "Carabaña",
           612.9524
          ],
          [
           "Casarrubuelos",
           624.7643
          ],
          [
           "Cenicientos",
           778.7822
          ],
          [
           "Cercedilla",
           1191.372
          ],
          [
           "Cervera de Buitrago",
           916.3304
          ],
          [
           "Ciempozuelos",
           580.2641
          ],
          [
           "Cobeña",
           677.4468
          ],
          [
           "Colmenar del Arroyo",
           679.1825
          ],
          [
           "Colmenar de Oreja",
           756.9265
          ],
          [
           "Colmenarejo",
           875.1868
          ],
          [
           "Colmenar Viejo",
           880.6345
          ],
          [
           "Collado Mediano",
           1029.724
          ],
          [
           "Collado Villalba",
           875.7213
          ],
          [
           "Corpa",
           819.1653
          ],
          [
           "Coslada",
           628.7247
          ],
          [
           "Cubas de la Sagra",
           648.7275
          ],
          [
           "Chapinería",
           679.6159
          ],
          [
           "Chinchón",
           777.1609
          ],
          [
           "Daganzo de Arriba",
           665.5711
          ],
          [
           "Escorial, El",
           915.7729
          ],
          [
           "Estremera",
           643.0197
          ],
          [
           "Fresnedillas de la Oliva",
           895.7322
          ],
          [
           "Fresno de Torote",
           657.2809
          ],
          [
           "Fuenlabrada",
           679.0076
          ],
          [
           "Fuente el Saz de Jarama",
           642.1251
          ],
          [
           "Fuentidueña de Tajo",
           565.6978
          ],
          [
           "Galapagar",
           884.4304
          ],
          [
           "Garganta de los Montes",
           1125.801
          ],
          [
           "Gargantilla del Lozoya y Pinilla de Buitrago",
           1136.591
          ],
          [
           "Gascones",
           1046.484
          ],
          [
           "Getafe",
           632.1449
          ],
          [
           "Griñón",
           676.9866
          ],
          [
           "Guadalix de la Sierra",
           841
          ],
          [
           "Guadarrama",
           965.5875
          ],
          [
           "Hiruela, La",
           null
          ],
          [
           "Horcajo de la Sierra-Aoslos",
           null
          ],
          [
           "Horcajuelo de la Sierra",
           1138.176
          ],
          [
           "Hoyo de Manzanares",
           1005.688
          ],
          [
           "Humanes de Madrid",
           675.6912
          ],
          [
           "Leganés",
           658.15
          ],
          [
           "Loeches",
           639.8891
          ],
          [
           "Lozoya",
           1111.051
          ],
          [
           "Madarcos",
           1057.624
          ],
          [
           "Madrid",
           653.0047
          ],
          [
           "Majadahonda",
           743.4514
          ],
          [
           "Manzanares el Real",
           917.528
          ],
          [
           "Meco",
           670.2038
          ],
          [
           "Mejorada del Campo",
           580.1962
          ],
          [
           "Miraflores de la Sierra",
           1149.553
          ],
          [
           "Molar, El",
           819.3329
          ],
          [
           "Molinos, Los",
           1046.887
          ],
          [
           "Montejo de la Sierra",
           1151.855
          ],
          [
           "Moraleja de Enmedio",
           682.4211
          ],
          [
           "Moralzarzal",
           982.0547
          ],
          [
           "Morata de Tajuña",
           559.4251
          ],
          [
           "Móstoles",
           665.2133
          ],
          [
           "Navacerrada",
           1193.742
          ],
          [
           "Navalafuente",
           906.057
          ],
          [
           "Navalagamella",
           759.7007
          ],
          [
           "Navalcarnero",
           672.8241
          ],
          [
           "Navarredonda y San Mamés",
           1219.314
          ],
          [
           "Navas del Rey",
           717.2259
          ],
          [
           "Nuevo Baztán",
           834.9736
          ],
          [
           "Olmeda de las Fuentes",
           785.2642
          ],
          [
           "Orusco de Tajuña",
           662.3139
          ],
          [
           "Paracuellos de Jarama",
           692.0413
          ],
          [
           "Parla",
           651.0903
          ],
          [
           "Patones",
           713.0287
          ],
          [
           "Pedrezuela",
           869.5692
          ],
          [
           "Pelayos de la Presa",
           561.4791
          ],
          [
           "Perales de Tajuña",
           577.9905
          ],
          [
           "Pezuela de las Torres",
           855.1563
          ],
          [
           "Pinilla del Valle",
           1097.138
          ],
          [
           "Pinto",
           609.3594
          ],
          [
           "Piñuécar-Gandullas",
           1063.421
          ],
          [
           "Pozuelo de Alarcón",
           697.1177
          ],
          [
           "Pozuelo del Rey",
           807.1237
          ],
          [
           "Prádena del Rincón",
           1114.976
          ],
          [
           "Puebla de la Sierra",
           1160.507
          ],
          [
           "Quijorna",
           574.5786
          ],
          [
           "Rascafría",
           1157.038
          ],
          [
           "Redueña",
           823.9578
          ],
          [
           "Ribatejada",
           761.6322
          ],
          [
           "Rivas-Vaciamadrid",
           560.5495
          ],
          [
           "Robledillo de la Jara",
           1017.706
          ],
          [
           "Robledo de Chavela",
           893.4601
          ],
          [
           "Robregordo",
           1297.608
          ],
          [
           "Rozas de Madrid, Las",
           876.1035
          ],
          [
           "Rozas de Puerto Real",
           876.1035
          ],
          [
           "San Agustín del Guadalix",
           667.7155
          ],
          [
           "San Fernando de Henares",
           591.3853
          ],
          [
           "San Lorenzo de El Escorial",
           1052.468
          ],
          [
           "San Martín de la Vega",
           517.0689
          ],
          [
           "San Martín de Valdeiglesias",
           677.8516
          ],
          [
           "San Sebastián de los Reyes",
           681.644
          ],
          [
           "Santa María de la Alameda",
           1411.015
          ],
          [
           "Santorcaz",
           864.0168
          ],
          [
           "Santos de la Humosa, Los",
           875.056
          ],
          [
           "Serna del Monte, La",
           1072.925
          ],
          [
           "Serranillos del Valle",
           650.8673
          ],
          [
           "Sevilla la Nueva",
           674.3175
          ],
          [
           "Somosierra",
           1436.419
          ],
          [
           "Soto del Real",
           922.4442
          ],
          [
           "Talamanca de Jarama",
           655.0905
          ],
          [
           "Tielmes",
           580.7983
          ],
          [
           "Titulcia",
           514.1019
          ],
          [
           "Torrejón de Ardoz",
           591.0876
          ],
          [
           "Torrejón de la Calzada",
           632.9291
          ],
          [
           "Torrejón de Velasco",
           609.1476
          ],
          [
           "Torrelaguna",
           742.3256
          ],
          [
           "Torrelodones",
           847.145
          ],
          [
           "Torremocha de Jarama",
           705.3375
          ],
          [
           "Torres de la Alameda",
           668.0449
          ],
          [
           "Valdaracete",
           737.9929
          ],
          [
           "Valdeavero",
           713.679
          ],
          [
           "Valdelaguna",
           710.8623
          ],
          [
           "Valdemanco",
           1133.363
          ],
          [
           "Valdemaqueda",
           864.9176
          ],
          [
           "Valdemorillo",
           820.9337
          ],
          [
           "Valdemoro",
           612.726
          ],
          [
           "Valdeolmos-Alalpardo",
           680.2087
          ],
          [
           "Valdepiélagos",
           744.8907
          ],
          [
           "Valdetorres de Jarama",
           651.753
          ],
          [
           "Valdilecha",
           724.2806
          ],
          [
           "Valverde de Alcalá",
           733.9373
          ],
          [
           "Velilla de San Antonio",
           555.8903
          ],
          [
           "Vellón, El",
           894.388
          ],
          [
           "Venturada",
           883.1885
          ],
          [
           "Villaconejos",
           635.7664
          ],
          [
           "Villa del Prado",
           512.4543
          ],
          [
           "Villalbilla",
           744.6702
          ],
          [
           "Villamanrique de Tajo",
           549.4291
          ],
          [
           "Villamanta",
           550.4752
          ],
          [
           "Villamantilla",
           550.092
          ],
          [
           "Villanueva de la Cañada",
           655.8425
          ],
          [
           "Villanueva del Pardillo",
           653.1323
          ],
          [
           "Villanueva de Perales",
           594.7557
          ],
          [
           "Villar del Olmo",
           680.3748
          ],
          [
           "Villarejo de Salvanés",
           759.0782
          ],
          [
           "Villaviciosa de Odón",
           647.7311
          ],
          [
           "Villavieja del Lozoya",
           1062.474
          ],
          [
           "Zarzalejo",
           1105.808
          ],
          [
           "Lozoyuela-Navas-Sieteiglesias",
           1022.991
          ],
          [
           "Puentes Viejas",
           1065.958
          ],
          [
           "Tres Cantos",
           744.3729
          ],
          [
           "Alameda",
           431.0601
          ],
          [
           "Alcaucín",
           506.8431
          ],
          [
           "Alfarnate",
           890.3339
          ],
          [
           "Alfarnatejo",
           853.526
          ],
          [
           "Algarrobo",
           76.22504
          ],
          [
           "Algatocín",
           711.4503
          ],
          [
           "Alhaurín de la Torre",
           55.9206
          ],
          [
           "Alhaurín el Grande",
           262.0032
          ],
          [
           "Almáchar",
           251.3838
          ],
          [
           "Almargen",
           511.2607
          ],
          [
           "Almogía",
           369.3161
          ],
          [
           "Álora",
           217.7383
          ],
          [
           "Alozaina",
           367.5125
          ],
          [
           "Alpandeire",
           691.1627
          ],
          [
           "Antequera",
           519.31
          ],
          [
           "Árchez",
           434.6224
          ],
          [
           "Archidona",
           711.6459
          ],
          [
           "Ardales",
           408.7493
          ],
          [
           "Arenas",
           395.6026
          ],
          [
           "Arriate",
           596.1475
          ],
          [
           "Atajate",
           743.5022
          ],
          [
           "Benadalid",
           694.8373
          ],
          [
           "Benahavís",
           169.0831
          ],
          [
           "Benalauría",
           680.5325
          ],
          [
           "Benalmádena",
           246.0654
          ],
          [
           "Benamargosa",
           107.37
          ],
          [
           "Benamocarra",
           129.8485
          ],
          [
           "Benaoján",
           565.6541
          ],
          [
           "Benarrabá",
           536.6716
          ],
          [
           "Borge, El",
           253.297
          ],
          [
           "Burgo, El",
           578.5044
          ],
          [
           "Campillos",
           458.5459
          ],
          [
           "Canillas de Aceituno",
           653.6641
          ],
          [
           "Canillas de Albaida",
           579.2617
          ],
          [
           "Cañete la Real",
           750.4806
          ],
          [
           "Carratraca",
           527.6124
          ],
          [
           "Cartajima",
           835.1337
          ],
          [
           "Cártama",
           103.493
          ],
          [
           "Casabermeja",
           543.2839
          ],
          [
           "Casarabonela",
           469.9098
          ],
          [
           "Casares",
           395.2425
          ],
          [
           "Coín",
           212.3918
          ],
          [
           "Colmenar",
           674.2641
          ],
          [
           "Comares",
           691.9902
          ],
          [
           "Cómpeta",
           631.6203
          ],
          [
           "Cortes de la Frontera",
           623.0131
          ],
          [
           "Cuevas Bajas",
           316.253
          ],
          [
           "Cuevas del Becerro",
           727.9931
          ],
          [
           "Cuevas de San Marcos",
           407.2341
          ],
          [
           "Cútar",
           297.5281
          ],
          [
           "Estepona",
           9.655864
          ],
          [
           "Faraján",
           632.2032
          ],
          [
           "Frigiliana",
           326.0266
          ],
          [
           "Fuengirola",
           9.702183
          ],
          [
           "Fuente de Piedra",
           444.6066
          ],
          [
           "Gaucín",
           609.3961
          ],
          [
           "Genalguacil",
           508.3251
          ],
          [
           "Guaro",
           347.6602
          ],
          [
           "Humilladero",
           447
          ],
          [
           "Igualeja",
           692.6473
          ],
          [
           "Istán",
           295.7882
          ],
          [
           "Iznate",
           305.813
          ],
          [
           "Jimera de Líbar",
           548.8419
          ],
          [
           "Jubrique",
           556.0103
          ],
          [
           "Júzcar",
           622.4206
          ],
          [
           "Macharaviaya",
           232.853
          ],
          [
           "Málaga",
           20.76588
          ],
          [
           "Manilva",
           135.0445
          ],
          [
           "Marbella",
           23.81581
          ],
          [
           "Mijas",
           421.1643
          ],
          [
           "Moclinejo",
           443.1213
          ],
          [
           "Mollina",
           476.1912
          ],
          [
           "Monda",
           359.9482
          ],
          [
           "Montejaque",
           696.3243
          ],
          [
           "Nerja",
           25.00439
          ],
          [
           "Ojén",
           314.1743
          ],
          [
           "Parauta",
           819.9631
          ],
          [
           "Periana",
           570.6861
          ],
          [
           "Pizarra",
           88.95549
          ],
          [
           "Pujerra",
           781.4251
          ],
          [
           "Rincón de la Victoria",
           3.764837
          ],
          [
           "Riogordo",
           390.2326
          ],
          [
           "Ronda",
           721.0318
          ],
          [
           "Salares",
           585.0521
          ],
          [
           "Sayalonga",
           364.6231
          ],
          [
           "Sedella",
           697.3375
          ],
          [
           "Sierra de Yeguas",
           451.5096
          ],
          [
           "Teba",
           541.6072
          ],
          [
           "Tolox",
           305.9531
          ],
          [
           "Torrox",
           146.8773
          ],
          [
           "Totalán",
           285.3225
          ],
          [
           "Valle de Abdalajís",
           345.6492
          ],
          [
           "Vélez-Málaga",
           55.92748
          ],
          [
           "Villanueva de Algaidas",
           542.5474
          ],
          [
           "Villanueva del Rosario",
           694.9512
          ],
          [
           "Villanueva del Trabuco",
           685.7935
          ],
          [
           "Villanueva de Tapia",
           659.881
          ],
          [
           "Viñuela",
           166.8159
          ],
          [
           "Yunquera",
           675.0898
          ],
          [
           "Torremolinos",
           52.33766
          ],
          [
           "Villanueva de la Concepción",
           null
          ],
          [
           "Montecorto",
           null
          ],
          [
           "Serrato",
           null
          ],
          [
           "Abanilla",
           215.4028
          ],
          [
           "Abarán",
           200.7275
          ],
          [
           "Águilas",
           8.231929
          ],
          [
           "Albudeite",
           180.3854
          ],
          [
           "Alcantarilla",
           73.48013
          ],
          [
           "Aledo",
           604.458
          ],
          [
           "Alguazas",
           84.25748
          ],
          [
           "Alhama de Murcia",
           201.4063
          ],
          [
           "Archena",
           105.1455
          ],
          [
           "Beniel",
           31.7415
          ],
          [
           "Blanca",
           149.6207
          ],
          [
           "Bullas",
           647.6263
          ],
          [
           "Calasparra",
           356.5284
          ],
          [
           "Campos del Río",
           181.1191
          ],
          [
           "Caravaca de la Cruz",
           636.1376
          ],
          [
           "Cartagena",
           11.15692
          ],
          [
           "Cehegín",
           540.0687
          ],
          [
           "Ceutí",
           93.69875
          ],
          [
           "Cieza",
           189.8739
          ],
          [
           "Fortuna",
           204.3466
          ],
          [
           "Fuente Álamo de Murcia",
           131.1901
          ],
          [
           "Jumilla",
           502.642
          ],
          [
           "Librilla",
           174.8965
          ],
          [
           "Lorca",
           336.2687
          ],
          [
           "Lorquí",
           92.61366
          ],
          [
           "Mazarrón",
           65.57575
          ],
          [
           "Molina de Segura",
           94.52602
          ],
          [
           "Moratalla",
           630.5613
          ],
          [
           "Mula",
           295.3519
          ],
          [
           "Murcia",
           51.07087
          ],
          [
           "Ojós",
           128.2413
          ],
          [
           "Pliego",
           386.3144
          ],
          [
           "Puerto Lumbreras",
           470.1874
          ],
          [
           "Ricote",
           293.4324
          ],
          [
           "San Javier",
           26.81056
          ],
          [
           "San Pedro del Pinatar",
           16.43622
          ],
          [
           "Torre-Pacheco",
           41.09187
          ],
          [
           "Torres de Cotillas, Las",
           86.27866
          ],
          [
           "Totana",
           259.0672
          ],
          [
           "Ulea",
           126.4072
          ],
          [
           "Unión, La",
           112.227
          ],
          [
           "Villanueva del Río Segura",
           138.7037
          ],
          [
           "Yecla",
           604.7735
          ],
          [
           "Santomera",
           39.86995
          ],
          [
           "Alcázares, Los",
           2.761286
          ],
          [
           "Abáigar",
           485.6676
          ],
          [
           "Abárzuza/Abartzuza",
           null
          ],
          [
           "Abaurregaina/Abaurrea Alta",
           1050.703
          ],
          [
           "Abaurrepea/Abaurrea Baja",
           1050.703
          ],
          [
           "Aberin",
           507.0975
          ],
          [
           "Ablitas",
           390.1332
          ],
          [
           "Adiós",
           480.1988
          ],
          [
           "Aguilar de Codés",
           722.7128
          ],
          [
           "Aibar/Oibar",
           551.8924
          ],
          [
           "Altsasu/Alsasua",
           531.4604
          ],
          [
           "Allín/Allin",
           null
          ],
          [
           "Allo",
           429.8232
          ],
          [
           "Améscoa Baja",
           928.2976
          ],
          [
           "Ancín/Antzin",
           null
          ],
          [
           "Andosilla",
           316.7053
          ],
          [
           "Ansoáin/Antsoain",
           null
          ],
          [
           "Anue",
           799.0044
          ],
          [
           "Añorbe",
           573.9486
          ],
          [
           "Aoiz/Agoitz",
           501.6778
          ],
          [
           "Araitz",
           228.7052
          ],
          [
           "Aranarache/Aranaratxe",
           null
          ],
          [
           "Arantza",
           267.3421
          ],
          [
           "Aranguren",
           622.8678
          ],
          [
           "Arano",
           455.9649
          ],
          [
           "Arakil",
           438.7797
          ],
          [
           "Aras",
           636.3009
          ],
          [
           "Arbizu",
           494.9281
          ],
          [
           "Arce/Artzi",
           762.4823
          ],
          [
           "Arcos, Los",
           449.6534
          ],
          [
           "Arellano",
           644.5254
          ],
          [
           "Areso",
           462.8911
          ],
          [
           "Arguedas",
           266.3666
          ],
          [
           "Aria",
           860.5184
          ],
          [
           "Aribe",
           701.3161
          ],
          [
           "Armañanzas",
           496.7855
          ],
          [
           "Arróniz",
           564.7612
          ],
          [
           "Arruazu",
           469.7116
          ],
          [
           "Artajona",
           450.9516
          ],
          [
           "Artazu",
           440.7018
          ],
          [
           "Atetz",
           null
          ],
          [
           "Ayegui/Aiegi",
           null
          ],
          [
           "Azagra",
           293.2846
          ],
          [
           "Azuelo",
           611.0732
          ],
          [
           "Bakaiku",
           518.6227
          ],
          [
           "Barásoain",
           530.6812
          ],
          [
           "Barbarin",
           602.2934
          ],
          [
           "Bargota",
           589.0367
          ],
          [
           "Barillas",
           388.5261
          ],
          [
           "Basaburua",
           659.5215
          ],
          [
           "Baztan",
           431.7236
          ],
          [
           "Beire",
           367.1117
          ],
          [
           "Belascoáin",
           423.4454
          ],
          [
           "Berbinzana",
           318.8264
          ],
          [
           "Bertizarana",
           135.3993
          ],
          [
           "Betelu",
           236.0627
          ],
          [
           "Biurrun-Olcoz",
           603.0551
          ],
          [
           "Buñuel",
           247
          ],
          [
           "Auritz/Burguete",
           895.7919
          ],
          [
           "Burgui/Burgi",
           627.7626
          ],
          [
           "Burlada/Burlata",
           436.4857
          ],
          [
           "Busto, El",
           429.9118
          ],
          [
           "Cabanillas",
           261.1255
          ],
          [
           "Cabredo",
           660.035
          ],
          [
           "Cadreita",
           287.9483
          ],
          [
           "Caparroso",
           303
          ],
          [
           "Cárcar",
           335.9902
          ],
          [
           "Carcastillo",
           354.3764
          ],
          [
           "Cascante",
           365.7855
          ],
          [
           "Cáseda",
           428.3817
          ],
          [
           "Castejón",
           279.5263
          ],
          [
           "Castillonuevo",
           774.6876
          ],
          [
           "Cintruénigo",
           399.6217
          ],
          [
           "Ziordia",
           554.5064
          ],
          [
           "Cirauqui/Zirauki",
           null
          ],
          [
           "Ciriza/Ziritza",
           null
          ],
          [
           "Cizur",
           464.4124
          ],
          [
           "Corella",
           376.7392
          ],
          [
           "Cortes",
           259
          ],
          [
           "Desojo",
           522.1982
          ],
          [
           "Dicastillo",
           557.3284
          ],
          [
           "Donamaria",
           198.6831
          ],
          [
           "Etxalar",
           102.0956
          ],
          [
           "Echarri/Etxarri",
           null
          ],
          [
           "Etxarri Aranatz",
           null
          ],
          [
           "Etxauri",
           412.8882
          ],
          [
           "Valle de Egüés/Eguesibar",
           null
          ],
          [
           "Elgorriaga",
           149.3327
          ],
          [
           "Noáin (Valle de Elorz)/Noain (Elortzibar)",
           459.8526
          ],
          [
           "Enériz/Eneritz",
           null
          ],
          [
           "Eratsun",
           518.8293
          ],
          [
           "Ergoiena",
           583.5241
          ],
          [
           "Erro",
           661.9404
          ],
          [
           "Ezcároz/Ezkaroze",
           741.0762
          ],
          [
           "Eslava",
           545.7512
          ],
          [
           "Esparza de Salazar/Espartza Zaraitzu",
           705.2322
          ],
          [
           "Espronceda",
           539.9223
          ],
          [
           "Estella-Lizarra",
           null
          ],
          [
           "Esteribar",
           804.6992
          ],
          [
           "Etayo",
           572.3201
          ],
          [
           "Eulate",
           730.8936
          ],
          [
           "Ezcabarte",
           473.964
          ],
          [
           "Ezkurra",
           525.4611
          ],
          [
           "Ezprogui",
           524.7435
          ],
          [
           "Falces",
           296.4245
          ],
          [
           "Fitero",
           428.2101
          ],
          [
           "Fontellas",
           278.3386
          ],
          [
           "Funes",
           304.42
          ],
          [
           "Fustiñana",
           260.782
          ],
          [
           "Galar",
           548.4805
          ],
          [
           "Gallipienzo/Galipentzu",
           null
          ],
          [
           "Gallués/Galoze",
           634.5071
          ],
          [
           "Garaioa",
           779.7978
          ],
          [
           "Garde",
           745.9025
          ],
          [
           "Garínoain",
           537.0995
          ],
          [
           "Garralda",
           846.9196
          ],
          [
           "Genevilla",
           616.5192
          ],
          [
           "Goizueta",
           157.4991
          ],
          [
           "Goñi",
           885.0417
          ],
          [
           "Güesa/Gorza",
           656.9835
          ],
          [
           "Guesálaz/Gesalatz",
           null
          ],
          [
           "Guirguillano",
           614.8031
          ],
          [
           "Huarte/Uharte",
           443.3268
          ],
          [
           "Uharte Arakil",
           null
          ],
          [
           "Ibargoiti",
           589.6138
          ],
          [
           "Igúzquiza",
           521.692
          ],
          [
           "Imotz",
           708.5986
          ],
          [
           "Irañeta",
           462.9885
          ],
          [
           "Isaba/Izaba",
           792.2268
          ],
          [
           "Ituren",
           157.9286
          ],
          [
           "Iturmendi",
           527.0626
          ],
          [
           "Iza/Itza",
           null
          ],
          [
           "Izagaondoa",
           656.3472
          ],
          [
           "Izalzu/Itzaltzu",
           813.3014
          ],
          [
           "Jaurrieta",
           915.8698
          ],
          [
           "Javier",
           453.4229
          ],
          [
           "Juslapeña/Txulapain",
           null
          ],
          [
           "Beintza-Labaien",
           446.4482
          ],
          [
           "Lakuntza",
           493.4403
          ],
          [
           "Lana",
           583.7512
          ],
          [
           "Lantz",
           632.9497
          ],
          [
           "Lapoblación",
           966.2166
          ],
          [
           "Larraga",
           397.0584
          ],
          [
           "Larraona",
           771.8146
          ],
          [
           "Larraun",
           667.3818
          ],
          [
           "Lazagurría",
           393.9949
          ],
          [
           "Leache/Leatxe",
           null
          ],
          [
           "Legarda",
           476.2949
          ],
          [
           "Legaria",
           476.4376
          ],
          [
           "Leitza",
           475.8446
          ],
          [
           "Leoz/Leotz",
           null
          ],
          [
           "Lerga",
           614.0958
          ],
          [
           "Lerín",
           435.6659
          ],
          [
           "Lesaka",
           77.67777
          ],
          [
           "Lezaun",
           823.1769
          ],
          [
           "Liédena",
           434.2063
          ],
          [
           "Lizoain-Arriasgoiti/Lizoainibar-Arriasgoiti",
           null
          ],
          [
           "Lodosa",
           329.6654
          ],
          [
           "Lónguida/Longida",
           480.7935
          ],
          [
           "Lumbier",
           468.2798
          ],
          [
           "Luquin",
           595.0789
          ],
          [
           "Mañeru",
           456.9252
          ],
          [
           "Marañón",
           631.9917
          ],
          [
           "Marcilla",
           293.0134
          ],
          [
           "Mélida",
           351.4484
          ],
          [
           "Mendavia",
           358.8896
          ],
          [
           "Mendaza",
           648.1318
          ],
          [
           "Mendigorria",
           400.2758
          ],
          [
           "Metauten",
           526.5096
          ],
          [
           "Milagro",
           294.1204
          ],
          [
           "Mirafuentes",
           644
          ],
          [
           "Miranda de Arga",
           337.395
          ],
          [
           "Monreal/Elo",
           null
          ],
          [
           "Monteagudo",
           403.3899
          ],
          [
           "Morentin",
           535.4586
          ],
          [
           "Mues",
           518.3762
          ],
          [
           "Murchante",
           318.6382
          ],
          [
           "Murieta",
           467.4558
          ],
          [
           "Murillo el Cuende",
           338.5544
          ],
          [
           "Murillo el Fruto",
           362.163
          ],
          [
           "Muruzábal",
           442.5836
          ],
          [
           "Navascués/Nabaskoze",
           null
          ],
          [
           "Nazar",
           740.0682
          ],
          [
           "Obanos",
           414.2519
          ],
          [
           "Oco",
           492.338
          ],
          [
           "Ochagavía/Otsagabia",
           763.3962
          ],
          [
           "Odieta",
           535.4056
          ],
          [
           "Oiz",
           null
          ],
          [
           "Olaibar",
           479.1287
          ],
          [
           "Olazti/Olazagutía",
           542.6686
          ],
          [
           "Olejua",
           574.1867
          ],
          [
           "Olite/Erriberri",
           null
          ],
          [
           "Olóriz/Oloritz",
           null
          ],
          [
           "Cendea de Olza/Oltza Zendea",
           431.3969
          ],
          [
           "Valle de Ollo/Ollaran",
           null
          ],
          [
           "Orbaizeta",
           null
          ],
          [
           "Orbara",
           757.6503
          ],
          [
           "Orísoain",
           578.1315
          ],
          [
           "Oronz/Orontze",
           723.6107
          ],
          [
           "Oroz-Betelu/Orotz-Betelu",
           null
          ],
          [
           "Oteiza",
           510.9438
          ],
          [
           "Pamplona/Iruña",
           458.1406
          ],
          [
           "Peralta/Azkoien",
           null
          ],
          [
           "Petilla de Aragón",
           831.5078
          ],
          [
           "Piedramillera",
           617.1473
          ],
          [
           "Pitillas",
           351.164
          ],
          [
           "Puente la Reina/Gares",
           348.5276
          ],
          [
           "Pueyo/Puiu",
           null
          ],
          [
           "Ribaforada",
           263.6679
          ],
          [
           "Romanzado/Erromantzatua",
           null
          ],
          [
           "Roncal/Erronkari",
           699.3717
          ],
          [
           "Orreaga/Roncesvalles",
           954.5584
          ],
          [
           "Sada",
           485.6982
          ],
          [
           "Saldías",
           553.2933
          ],
          [
           "Salinas de Oro/Jaitz",
           null
          ],
          [
           "San Adrián",
           298.6025
          ],
          [
           "Sangüesa/Zangoza",
           399.6167
          ],
          [
           "San Martín de Unx",
           597.6311
          ],
          [
           "Sansol",
           494.1248
          ],
          [
           "Santacara",
           351.041
          ],
          [
           "Doneztebe/Santesteban",
           130.5545
          ],
          [
           "Sarriés/Sartze",
           687.5157
          ],
          [
           "Sartaguda",
           338.0532
          ],
          [
           "Sesma",
           434.409
          ],
          [
           "Sorlada",
           570.1953
          ],
          [
           "Sunbilla",
           106.4811
          ],
          [
           "Tafalla",
           433.6423
          ],
          [
           "Tiebas-Muruarte de Reta",
           574.0651
          ],
          [
           "Tirapu",
           498.1133
          ],
          [
           "Torralba del Río",
           626.2723
          ],
          [
           "Torres del Río",
           461.8875
          ],
          [
           "Tudela",
           268.958
          ],
          [
           "Tulebras",
           372.949
          ],
          [
           "Ucar",
           503.2144
          ],
          [
           "Ujué/Uxue",
           null
          ],
          [
           "Ultzama",
           546.3792
          ],
          [
           "Unciti",
           605.3009
          ],
          [
           "Unzué/Untzue",
           null
          ],
          [
           "Urdazubi/Urdax",
           98.64223
          ],
          [
           "Urdiain",
           551.1738
          ],
          [
           "Urraul Alto",
           573.8953
          ],
          [
           "Urraul Bajo",
           458.3008
          ],
          [
           "Urroz-Villa",
           527.5408
          ],
          [
           "Urroz",
           null
          ],
          [
           "Urzainqui/Urzainki",
           733.1646
          ],
          [
           "Uterga",
           494.9627
          ],
          [
           "Uztárroz/Uztarroze",
           856.1575
          ],
          [
           "Luzaide/Valcarlos",
           364.558
          ],
          [
           "Valtierra",
           270.1983
          ],
          [
           "Bera",
           null
          ],
          [
           "Viana",
           475.407
          ],
          [
           "Vidángoz/Bidankoze",
           769.7194
          ],
          [
           "Bidaurreta",
           444.6025
          ],
          [
           "Villafranca",
           292.0777
          ],
          [
           "Villamayor de Monjardín",
           673.8203
          ],
          [
           "Hiriberri/Villanueva de Aezkoa",
           922.5541
          ],
          [
           "Villatuerta",
           440.6565
          ],
          [
           "Villava/Atarrabia",
           434.213
          ],
          [
           "Igantzi",
           208.3124
          ],
          [
           "Valle de Yerri/Deierri",
           508.0046
          ],
          [
           "Yesa",
           494.9805
          ],
          [
           "Zabalza/Zabaltza",
           null
          ],
          [
           "Zubieta",
           210.3568
          ],
          [
           "Zugarramurdi",
           209.7609
          ],
          [
           "Zúñiga",
           577.4291
          ],
          [
           "Barañáin/Barañain",
           null
          ],
          [
           "Berrioplano/Berriobeiti",
           null
          ],
          [
           "Berriozar",
           430.5623
          ],
          [
           "Irurtzun",
           472.6737
          ],
          [
           "Beriáin",
           499.5828
          ],
          [
           "Orkoien",
           442.7829
          ],
          [
           "Zizur Mayor/Zizur Nagusia",
           441.8872
          ],
          [
           "Lekunberri",
           567.6735
          ],
          [
           "Allariz",
           460.7867
          ],
          [
           "Amoeiro",
           442.1121
          ],
          [
           "Arnoia, A",
           159.5033
          ],
          [
           "Avión",
           446.5516
          ],
          [
           "Baltar",
           823.1027
          ],
          [
           "Bande",
           723.6759
          ],
          [
           "Baños de Molgas",
           513.4908
          ],
          [
           "Barbadás",
           241.3901
          ],
          [
           "Barco de Valdeorras, O",
           324.8651
          ],
          [
           "Beade",
           202.2736
          ],
          [
           "Beariz",
           641.1476
          ],
          [
           "Blancos, Os",
           801.8071
          ],
          [
           "Boborás",
           432.1264
          ],
          [
           "Bola, A",
           479.8777
          ],
          [
           "Bolo, O",
           501.6701
          ],
          [
           "Calvos de Randín",
           910.7596
          ],
          [
           "Carballeda de Valdeorras",
           587.8499
          ],
          [
           "Carballeda de Avia",
           250.0053
          ],
          [
           "Carballiño, O",
           401.1974
          ],
          [
           "Cartelle",
           366.1181
          ],
          [
           "Castrelo do Val",
           433.7377
          ],
          [
           "Castrelo de Miño",
           198.8711
          ],
          [
           "Castro Caldelas",
           625.1702
          ],
          [
           "Celanova",
           525.2849
          ],
          [
           "Cenlle",
           406.6471
          ],
          [
           "Coles",
           356.0888
          ],
          [
           "Cortegada",
           144.2422
          ],
          [
           "Cualedro",
           842.0068
          ],
          [
           "Chandrexa de Queixa",
           990.6727
          ],
          [
           "Entrimo",
           501.8381
          ],
          [
           "Esgos",
           579.329
          ],
          [
           "Xinzo de Limia",
           624.355
          ],
          [
           "Gomesende",
           403.7807
          ],
          [
           "Gudiña, A",
           980.4539
          ],
          [
           "Irixo, O",
           561.9305
          ],
          [
           "Xunqueira de Ambía",
           541.0165
          ],
          [
           "Xunqueira de Espadanedo",
           688.6356
          ],
          [
           "Larouco",
           533.1442
          ],
          [
           "Laza",
           479.0535
          ],
          [
           "Leiro",
           88.74213
          ],
          [
           "Lobeira",
           605.1371
          ],
          [
           "Lobios",
           477.3125
          ],
          [
           "Maceda",
           582.2949
          ],
          [
           "Manzaneda",
           642.83
          ],
          [
           "Maside",
           379.7209
          ],
          [
           "Melón",
           482.1991
          ],
          [
           "Merca, A",
           488.3453
          ],
          [
           "Mezquita, A",
           991.7155
          ],
          [
           "Montederramo",
           906.4658
          ],
          [
           "Monterrei",
           511.1087
          ],
          [
           "Muíños",
           585.7645
          ],
          [
           "Nogueira de Ramuín",
           613.3605
          ],
          [
           "Oímbra",
           389.4346
          ],
          [
           "Ourense",
           144.5574
          ],
          [
           "Paderne de Allariz",
           440.9869
          ],
          [
           "Padrenda",
           273.543
          ],
          [
           "Parada de Sil",
           662.7356
          ],
          [
           "Pereiro de Aguiar, O",
           321.2264
          ],
          [
           "Peroxa, A",
           498.0891
          ],
          [
           "Petín",
           300.702
          ],
          [
           "Piñor",
           553.8872
          ],
          [
           "Porqueira",
           640.7926
          ],
          [
           "Pobra de Trives, A",
           745.8318
          ],
          [
           "Pontedeva",
           144.9253
          ],
          [
           "Punxín",
           320.7976
          ],
          [
           "Quintela de Leirado",
           365.5756
          ],
          [
           "Rairiz de Veiga",
           620
          ],
          [
           "Ramirás",
           364.6565
          ],
          [
           "Ribadavia",
           103.0358
          ],
          [
           "San Xoán de Río",
           879.6433
          ],
          [
           "Riós",
           805.391
          ],
          [
           "Rúa, A",
           297.6577
          ],
          [
           "Rubiá",
           548.2453
          ],
          [
           "San Amaro",
           482.8099
          ],
          [
           "San Cibrao das Viñas",
           271.6895
          ],
          [
           "San Cristovo de Cea",
           510.0587
          ],
          [
           "Sandiás",
           639.2228
          ],
          [
           "Sarreaus",
           650.4904
          ],
          [
           "Taboadela",
           387.0332
          ],
          [
           "Teixeira, A",
           846.8474
          ],
          [
           "Toén",
           375.3269
          ],
          [
           "Trasmiras",
           644.9832
          ],
          [
           "Veiga, A",
           882.0123
          ],
          [
           "Verea",
           727.3734
          ],
          [
           "Verín",
           387.786
          ],
          [
           "Viana do Bolo",
           703.6934
          ],
          [
           "Vilamarín",
           504.0667
          ],
          [
           "Vilamartín de Valdeorras",
           319.5154
          ],
          [
           "Vilar de Barrio",
           665.1714
          ],
          [
           "Vilar de Santos",
           638.7435
          ],
          [
           "Vilardevós",
           741.3065
          ],
          [
           "Vilariño de Conso",
           796.0936
          ],
          [
           "Allande",
           580.7288
          ],
          [
           "Aller",
           870.3992
          ],
          [
           "Amieva",
           595.183
          ],
          [
           "Avilés",
           8.896673
          ],
          [
           "Belmonte de Miranda",
           220.3919
          ],
          [
           "Bimenes",
           320.1294
          ],
          [
           "Boal",
           461.5823
          ],
          [
           "Cabrales",
           135.4523
          ],
          [
           "Cabranes",
           290.5875
          ],
          [
           "Candamo",
           40.71626
          ],
          [
           "Cangas del Narcea",
           395.787
          ],
          [
           "Cangas de Onís",
           83.8837
          ],
          [
           "Caravia",
           362.6237
          ],
          [
           "Carreño",
           84.34576
          ],
          [
           "Caso",
           623.0895
          ],
          [
           "Castrillón",
           86.8708
          ],
          [
           "Castropol",
           22.08328
          ],
          [
           "Coaña",
           80.89793
          ],
          [
           "Colunga",
           17.92281
          ],
          [
           "Corvera de Asturias",
           56.71637
          ],
          [
           "Cudillero",
           69.32003
          ],
          [
           "Degaña",
           847.1716
          ],
          [
           "Franco, El",
           54.68772
          ],
          [
           "Gijón",
           10.46988
          ],
          [
           "Gozón",
           23.33944
          ],
          [
           "Grado",
           70.00195
          ],
          [
           "Grandas de Salime",
           567.9332
          ],
          [
           "Ibias",
           363.6068
          ],
          [
           "Illano",
           336.2966
          ],
          [
           "Illas",
           156.5609
          ],
          [
           "Langreo",
           216.0747
          ],
          [
           "Laviana",
           297.8459
          ],
          [
           "Lena",
           316.1207
          ],
          [
           "Valdés",
           18.18302
          ],
          [
           "Llanera",
           234.8832
          ],
          [
           "Llanes",
           19.37611
          ],
          [
           "Mieres",
           210.1827
          ],
          [
           "Morcín",
           236.8473
          ],
          [
           "Muros de Nalón",
           114.3644
          ],
          [
           "Nava",
           244.3763
          ],
          [
           "Navia",
           8.619591
          ],
          [
           "Noreña",
           207.6058
          ],
          [
           "Onís",
           198.1296
          ],
          [
           "Oviedo",
           238.8659
          ],
          [
           "Parres",
           139.5952
          ],
          [
           "Peñamellera Alta",
           185.3078
          ],
          [
           "Peñamellera Baja",
           260.1066
          ],
          [
           "Pesoz",
           317.0693
          ],
          [
           "Piloña",
           180.9473
          ],
          [
           "Ponga",
           706.3737
          ],
          [
           "Pravia",
           41.19317
          ],
          [
           "Proaza",
           201.1137
          ],
          [
           "Quirós",
           596.6254
          ],
          [
           "Regueras, Las",
           183.5744
          ],
          [
           "Ribadedeva",
           73.00428
          ],
          [
           "Ribadesella",
           23.78174
          ],
          [
           "Ribera de Arriba",
           201.4535
          ],
          [
           "Riosa",
           1073.679
          ],
          [
           "Salas",
           243.8303
          ],
          [
           "San Martín del Rey Aurelio",
           266.8616
          ],
          [
           "San Martín de Oscos",
           701.4034
          ],
          [
           "Santa Eulalia de Oscos",
           547.0981
          ],
          [
           "San Tirso de Abres",
           40.88018
          ],
          [
           "Santo Adriano",
           475.4342
          ],
          [
           "Sariego",
           283.0529
          ],
          [
           "Siero",
           266.4884
          ],
          [
           "Sobrescobio",
           579.3365
          ],
          [
           "Somiedo",
           1017.7
          ],
          [
           "Soto del Barco",
           68.42937
          ],
          [
           "Tapia de Casariego",
           25.45387
          ],
          [
           "Taramundi",
           279.6605
          ],
          [
           "Teverga",
           693.9147
          ],
          [
           "Tineo",
           671.4896
          ],
          [
           "Vegadeo",
           5.833657
          ],
          [
           "Villanueva de Oscos",
           645.1224
          ],
          [
           "Villaviciosa",
           8.267545
          ],
          [
           "Villayón",
           372.2103
          ],
          [
           "Yernes y Tameza",
           687.0248
          ],
          [
           "Abarca de Campos",
           758.1901
          ],
          [
           "Abia de las Torres",
           836.1696
          ],
          [
           "Aguilar de Campoo",
           897.081
          ],
          [
           "Alar del Rey",
           853.8849
          ],
          [
           "Alba de Cerrato",
           780.3799
          ],
          [
           "Amayuelas de Arriba",
           787.3027
          ],
          [
           "Ampudia",
           794.2702
          ],
          [
           "Amusco",
           773.6923
          ],
          [
           "Antigüedad",
           833.6262
          ],
          [
           "Arconada",
           804.9647
          ],
          [
           "Astudillo",
           788.4464
          ],
          [
           "Autilla del Pino",
           870.6778
          ],
          [
           "Autillo de Campos",
           762.9597
          ],
          [
           "Ayuela",
           952.0762
          ],
          [
           "Baltanás",
           784.0414
          ],
          [
           "Venta de Baños",
           722.1985
          ],
          [
           "Baquerín de Campos",
           749.9719
          ],
          [
           "Bárcena de Campos",
           845.1735
          ],
          [
           "Barruelo de Santullán",
           1051.277
          ],
          [
           "Báscones de Ojeda",
           962.8129
          ],
          [
           "Becerril de Campos",
           769.5222
          ],
          [
           "Belmonte de Campos",
           743.8493
          ],
          [
           "Berzosilla",
           826.7042
          ],
          [
           "Boada de Campos",
           748
          ],
          [
           "Boadilla del Camino",
           782.657
          ],
          [
           "Boadilla de Rioseco",
           783.1019
          ],
          [
           "Brañosera",
           1200.068
          ],
          [
           "Buenavista de Valdavia",
           926.9855
          ],
          [
           "Bustillo de la Vega",
           885
          ],
          [
           "Bustillo del Páramo de Carrión",
           854.3857
          ],
          [
           "Calahorra de Boedo",
           868.8841
          ],
          [
           "Calzada de los Molinos",
           827.0596
          ],
          [
           "Capillas",
           760.7122
          ],
          [
           "Cardeñosa de Volpejera",
           827.3951
          ],
          [
           "Carrión de los Condes",
           837.2867
          ],
          [
           "Castil de Vela",
           759.6097
          ],
          [
           "Castrejón de la Peña",
           1121.003
          ],
          [
           "Castrillo de Don Juan",
           830.5445
          ],
          [
           "Castrillo de Onielo",
           821.9319
          ],
          [
           "Castrillo de Villavega",
           851.3707
          ],
          [
           "Castromocho",
           758.2964
          ],
          [
           "Cervatos de la Cueza",
           853.0574
          ],
          [
           "Cervera de Pisuerga",
           1007.858
          ],
          [
           "Cevico de la Torre",
           754.6013
          ],
          [
           "Cevico Navero",
           829.4386
          ],
          [
           "Cisneros",
           804.7203
          ],
          [
           "Cobos de Cerrato",
           819.4964
          ],
          [
           "Collazos de Boedo",
           916.8154
          ],
          [
           "Congosto de Valdavia",
           973.56
          ],
          [
           "Cordovilla la Real",
           745.9448
          ],
          [
           "Cubillas de Cerrato",
           743.376
          ],
          [
           "Dehesa de Montejo",
           1091.726
          ],
          [
           "Dehesa de Romanos",
           943.8187
          ],
          [
           "Dueñas",
           723.9095
          ],
          [
           "Espinosa de Cerrato",
           864.7267
          ],
          [
           "Espinosa de Villagonzalo",
           831.9033
          ],
          [
           "Frechilla",
           775.0347
          ],
          [
           "Fresno del Río",
           1015.25
          ],
          [
           "Frómista",
           783.3309
          ],
          [
           "Fuentes de Nava",
           756.5685
          ],
          [
           "Fuentes de Valdepero",
           796.7946
          ],
          [
           "Grijota",
           746.9368
          ],
          [
           "Guardo",
           1095.632
          ],
          [
           "Guaza de Campos",
           794.0911
          ],
          [
           "Hérmedes de Cerrato",
           900.4366
          ],
          [
           "Herrera de Pisuerga",
           847.2326
          ],
          [
           "Herrera de Valdecañas",
           778.0357
          ],
          [
           "Hontoria de Cerrato",
           744.5811
          ],
          [
           "Hornillos de Cerrato",
           794.4394
          ],
          [
           "Husillos",
           744.5184
          ],
          [
           "Itero de la Vega",
           770.6241
          ],
          [
           "Lagartos",
           914.8121
          ],
          [
           "Lantadilla",
           788.4019
          ],
          [
           "Vid de Ojeda, La",
           875.674
          ],
          [
           "Ledigos",
           876.8804
          ],
          [
           "Lomas",
           825.279
          ],
          [
           "Magaz de Pisuerga",
           731.0358
          ],
          [
           "Manquillos",
           776.0267
          ],
          [
           "Mantinos",
           1068.459
          ],
          [
           "Marcilla de Campos",
           816.3467
          ],
          [
           "Mazariegos",
           739.4893
          ],
          [
           "Mazuecos de Valdeginate",
           781.7784
          ],
          [
           "Melgar de Yuso",
           771.8138
          ],
          [
           "Meneses de Campos",
           749.4305
          ],
          [
           "Micieces de Ojeda",
           935.5956
          ],
          [
           "Monzón de Campos",
           751.6661
          ],
          [
           "Moratinos",
           858.9825
          ],
          [
           "Mudá",
           997.7184
          ],
          [
           "Nogal de las Huertas",
           846.8398
          ],
          [
           "Olea de Boedo",
           929.4524
          ],
          [
           "Olmos de Ojeda",
           926.6885
          ],
          [
           "Osornillo",
           812.6404
          ],
          [
           "Palencia",
           745.8375
          ],
          [
           "Palenzuela",
           797.952
          ],
          [
           "Páramo de Boedo",
           877.6904
          ],
          [
           "Paredes de Nava",
           784.7175
          ],
          [
           "Payo de Ojeda",
           1001.883
          ],
          [
           "Pedraza de Campos",
           755.1041
          ],
          [
           "Pedrosa de la Vega",
           892.6549
          ],
          [
           "Perales",
           777.6556
          ],
          [
           "Pino del Río",
           997.0795
          ],
          [
           "Piña de Campos",
           764
          ],
          [
           "Población de Arroyo",
           856.0229
          ],
          [
           "Población de Campos",
           783.4893
          ],
          [
           "Población de Cerrato",
           757.9332
          ],
          [
           "Polentinos",
           1274.941
          ],
          [
           "Pomar de Valdivia",
           933.123
          ],
          [
           "Poza de la Vega",
           948.2457
          ],
          [
           "Pozo de Urama",
           822.1624
          ],
          [
           "Prádanos de Ojeda",
           940.287
          ],
          [
           "Puebla de Valdavia, La",
           941.0842
          ],
          [
           "Quintana del Puente",
           749.798
          ],
          [
           "Quintanilla de Onsoña",
           887
          ],
          [
           "Reinoso de Cerrato",
           743.1708
          ],
          [
           "Renedo de la Vega",
           874.2899
          ],
          [
           "Requena de Campos",
           797.9777
          ],
          [
           "Respenda de la Peña",
           1013.032
          ],
          [
           "Revenga de Campos",
           787.4664
          ],
          [
           "Revilla de Collazos",
           932.0509
          ],
          [
           "Ribas de Campos",
           774.9756
          ],
          [
           "Riberos de la Cueza",
           832.8394
          ],
          [
           "Saldaña",
           916.6245
          ],
          [
           "Salinas de Pisuerga",
           944.0237
          ],
          [
           "San Cebrián de Campos",
           790.2224
          ],
          [
           "San Cebrián de Mudá",
           1037.153
          ],
          [
           "San Cristóbal de Boedo",
           869.1218
          ],
          [
           "San Mamés de Campos",
           820.2789
          ],
          [
           "San Román de la Cuba",
           807.9491
          ],
          [
           "Santa Cecilia del Alcor",
           842.3927
          ],
          [
           "Santa Cruz de Boedo",
           846.978
          ],
          [
           "Santervás de la Vega",
           923.4318
          ],
          [
           "Santibáñez de Ecla",
           948.8027
          ],
          [
           "Santibáñez de la Peña",
           1111.072
          ],
          [
           "Santoyo",
           795.4398
          ],
          [
           "Serna, La",
           868.7706
          ],
          [
           "Sotobañado y Priorato",
           893.8764
          ],
          [
           "Soto de Cerrato",
           727
          ],
          [
           "Tabanera de Cerrato",
           839.3667
          ],
          [
           "Tabanera de Valdavia",
           976.2473
          ],
          [
           "Támara de Campos",
           792.7064
          ],
          [
           "Tariego de Cerrato",
           736.2674
          ],
          [
           "Torquemada",
           746.9241
          ],
          [
           "Torremormojón",
           773.3138
          ],
          [
           "Triollo",
           1301.146
          ],
          [
           "Valbuena de Pisuerga",
           775.9148
          ],
          [
           "Valdeolmillos",
           786.3863
          ],
          [
           "Valderrábano",
           955.5308
          ],
          [
           "Valde-Ucieza",
           819.1132
          ],
          [
           "Valle de Cerrato",
           816.1359
          ],
          [
           "Velilla del Río Carrión",
           1121.064
          ],
          [
           "Vertavillo",
           813.3558
          ],
          [
           "Villabasta de Valdavia",
           923.1686
          ],
          [
           "Villacidaler",
           793.0969
          ],
          [
           "Villaconancio",
           815.3722
          ],
          [
           "Villada",
           798.712
          ],
          [
           "Villaeles de Valdavia",
           885.7921
          ],
          [
           "Villahán",
           805.9824
          ],
          [
           "Villaherreros",
           826
          ],
          [
           "Villalaco",
           760.3248
          ],
          [
           "Villalba de Guardo",
           1052.94
          ],
          [
           "Villalcázar de Sirga",
           807.4279
          ],
          [
           "Villalcón",
           826.2475
          ],
          [
           "Villalobón",
           756.4676
          ],
          [
           "Villaluenga de la Vega",
           916
          ],
          [
           "Villamartín de Campos",
           750.0041
          ],
          [
           "Villamediana",
           785.6046
          ],
          [
           "Villameriel",
           904.6328
          ],
          [
           "Villamoronta",
           857.4798
          ],
          [
           "Villamuera de la Cueza",
           835.5288
          ],
          [
           "Villamuriel de Cerrato",
           727.2947
          ],
          [
           "Villanueva del Rebollar",
           840
          ],
          [
           "Villanuño de Valdavia",
           872.7621
          ],
          [
           "Villaprovedo",
           871.5985
          ],
          [
           "Villarmentero de Campos",
           789.4766
          ],
          [
           "Villarrabé",
           902.7899
          ],
          [
           "Villarramiel",
           767.2833
          ],
          [
           "Villasarracino",
           841.2697
          ],
          [
           "Villasila de Valdavia",
           867.3951
          ],
          [
           "Villaturde",
           843.3107
          ],
          [
           "Villaumbrales",
           760.1631
          ],
          [
           "Villaviudas",
           764.9033
          ],
          [
           "Villerías de Campos",
           755.412
          ],
          [
           "Villodre",
           766.6766
          ],
          [
           "Villodrigo",
           764.4204
          ],
          [
           "Villoldo",
           790.9491
          ],
          [
           "Villota del Páramo",
           1001.102
          ],
          [
           "Villovieco",
           787.0002
          ],
          [
           "Osorno la Mayor",
           808.4557
          ],
          [
           "Valle del Retortillo",
           800.4486
          ],
          [
           "Loma de Ucieza",
           841.5579
          ],
          [
           "Pernía, La",
           1229.659
          ],
          [
           "Agaete",
           null
          ],
          [
           "Agüimes",
           null
          ],
          [
           "Antigua",
           null
          ],
          [
           "Arrecife",
           null
          ],
          [
           "Artenara",
           null
          ],
          [
           "Arucas",
           null
          ],
          [
           "Betancuria",
           null
          ],
          [
           "Firgas",
           null
          ],
          [
           "Gáldar",
           null
          ],
          [
           "Haría",
           null
          ],
          [
           "Ingenio",
           null
          ],
          [
           "Mogán",
           null
          ],
          [
           "Moya",
           null
          ],
          [
           "Oliva, La",
           null
          ],
          [
           "Pájara",
           null
          ],
          [
           "Palmas de Gran Canaria, Las",
           null
          ],
          [
           "Puerto del Rosario",
           null
          ],
          [
           "San Bartolomé",
           null
          ],
          [
           "San Bartolomé de Tirajana",
           null
          ],
          [
           "Aldea de San Nicolás, La",
           null
          ],
          [
           "Santa Brígida",
           null
          ],
          [
           "Santa Lucía de Tirajana",
           null
          ],
          [
           "Santa María de Guía de Gran Canaria",
           null
          ],
          [
           "Teguise",
           null
          ],
          [
           "Tejeda",
           null
          ],
          [
           "Telde",
           null
          ],
          [
           "Teror",
           null
          ],
          [
           "Tías",
           null
          ],
          [
           "Tinajo",
           null
          ],
          [
           "Tuineje",
           null
          ],
          [
           "Valsequillo de Gran Canaria",
           null
          ],
          [
           "Valleseco",
           null
          ],
          [
           "Vega de San Mateo",
           null
          ],
          [
           "Yaiza",
           null
          ],
          [
           "Arbo",
           150.7691
          ],
          [
           "Barro",
           66.8885
          ],
          [
           "Baiona",
           21.20054
          ],
          [
           "Bueu",
           44.66146
          ],
          [
           "Caldas de Reis",
           27.27038
          ],
          [
           "Cambados",
           14.76714
          ],
          [
           "Campo Lameiro",
           243.4357
          ],
          [
           "Cangas",
           10.73197
          ],
          [
           "Cañiza, A",
           568.6797
          ],
          [
           "Catoira",
           18.32608
          ],
          [
           "Covelo",
           380.7574
          ],
          [
           "Crecente",
           197.8595
          ],
          [
           "Cuntis",
           160.0568
          ],
          [
           "Dozón",
           748.7759
          ],
          [
           "Estrada, A",
           302.9033
          ],
          [
           "Forcarei",
           592.3196
          ],
          [
           "Fornelos de Montes",
           331.3943
          ],
          [
           "Agolada",
           583.5956
          ],
          [
           "Gondomar",
           17.18025
          ],
          [
           "Grove, O",
           14.24437
          ],
          [
           "Guarda, A",
           41.92845
          ],
          [
           "Lalín",
           557.2646
          ],
          [
           "Lama, A",
           97.33536
          ],
          [
           "Marín",
           19.78863
          ],
          [
           "Meaño",
           118.3362
          ],
          [
           "Meis",
           58.83432
          ],
          [
           "Moaña",
           129.5525
          ],
          [
           "Mondariz",
           117.1311
          ],
          [
           "Mondariz-Balneario",
           62.12397
          ],
          [
           "Moraña",
           381.2427
          ],
          [
           "Mos",
           212.5747
          ],
          [
           "Neves, As",
           162.8347
          ],
          [
           "Nigrán",
           56.04147
          ],
          [
           "Oia",
           24.84615
          ],
          [
           "Pazos de Borbén",
           236.8124
          ],
          [
           "Pontevedra",
           18.60786
          ],
          [
           "Porriño, O",
           40.00508
          ],
          [
           "Portas",
           129.5794
          ],
          [
           "Poio",
           195.026
          ],
          [
           "Ponteareas",
           41.39864
          ],
          [
           "Ponte Caldelas",
           292.4084
          ],
          [
           "Pontecesures",
           19.25962
          ],
          [
           "Redondela",
           15.94175
          ],
          [
           "Ribadumia",
           26.51637
          ],
          [
           "Rodeiro",
           630.3114
          ],
          [
           "Rosal, O",
           28.4151
          ],
          [
           "Salceda de Caselas",
           75.80363
          ],
          [
           "Salvaterra de Miño",
           32.76922
          ],
          [
           "Sanxenxo",
           7.093974
          ],
          [
           "Silleda",
           483.7768
          ],
          [
           "Soutomaior",
           118.3894
          ],
          [
           "Tomiño",
           40.81437
          ],
          [
           "Tui",
           43.46014
          ],
          [
           "Valga",
           45.98117
          ],
          [
           "Vigo",
           104.1391
          ],
          [
           "Vilaboa",
           72.6324
          ],
          [
           "Vila de Cruces",
           476.3511
          ],
          [
           "Vilagarcía de Arousa",
           11.04834
          ],
          [
           "Vilanova de Arousa",
           5.737418
          ],
          [
           "Illa de Arousa, A",
           0
          ],
          [
           "Cerdedo-Cotobade",
           null
          ],
          [
           "Abusejo",
           841.0999
          ],
          [
           "Agallas",
           801.2192
          ],
          [
           "Ahigal de los Aceiteros",
           643.92
          ],
          [
           "Ahigal de Villarino",
           765.2227
          ],
          [
           "Alameda de Gardón, La",
           717.412
          ],
          [
           "Alamedilla, La",
           757.1732
          ],
          [
           "Alaraz",
           884.6996
          ],
          [
           "Alba de Tormes",
           812.1788
          ],
          [
           "Alba de Yeltes",
           786.7349
          ],
          [
           "Alberca, La",
           1055.864
          ],
          [
           "Alberguería de Argañán, La",
           742.2288
          ],
          [
           "Alconada",
           831
          ],
          [
           "Aldeacipreste",
           867.7499
          ],
          [
           "Aldeadávila de la Ribera",
           685.362
          ],
          [
           "Aldea del Obispo",
           688.4317
          ],
          [
           "Aldealengua",
           789.8329
          ],
          [
           "Aldeanueva de Figueroa",
           869.1683
          ],
          [
           "Aldeanueva de la Sierra",
           980.8896
          ],
          [
           "Aldearrodrigo",
           782.8179
          ],
          [
           "Aldearrubia",
           813.3408
          ],
          [
           "Aldeaseca de Alba",
           864.6688
          ],
          [
           "Aldeaseca de la Frontera",
           870.618
          ],
          [
           "Aldeatejada",
           796.4962
          ],
          [
           "Aldeavieja de Tormes",
           911.0995
          ],
          [
           "Aldehuela de la Bóveda",
           790.1174
          ],
          [
           "Aldehuela de Yeltes",
           834.0591
          ],
          [
           "Almenara de Tormes",
           782.0564
          ],
          [
           "Almendra",
           765.9304
          ],
          [
           "Anaya de Alba",
           881.7967
          ],
          [
           "Añover de Tormes",
           804.0237
          ],
          [
           "Arabayona de Mógica",
           851.54
          ],
          [
           "Arapiles",
           841.4503
          ],
          [
           "Arcediano",
           825.3879
          ],
          [
           "Arco, El",
           null
          ],
          [
           "Armenteros",
           1051.29
          ],
          [
           "San Miguel del Robledo",
           1016.15
          ],
          [
           "Atalaya, La",
           795.277
          ],
          [
           "Babilafuente",
           800.2728
          ],
          [
           "Bañobárez",
           745.1431
          ],
          [
           "Barbadillo",
           805.1871
          ],
          [
           "Barbalos",
           904.4462
          ],
          [
           "Barceo",
           725.3111
          ],
          [
           "Barruecopardo",
           714.7976
          ],
          [
           "Bastida, La",
           1114.442
          ],
          [
           "Béjar",
           946.3267
          ],
          [
           "Beleña",
           885.9651
          ],
          [
           "Bermellar",
           634.8019
          ],
          [
           "Berrocal de Huebra",
           901.111
          ],
          [
           "Berrocal de Salvatierra",
           903.2983
          ],
          [
           "Boada",
           780.2197
          ],
          [
           "Bodón, El",
           794.6262
          ],
          [
           "Bogajo",
           711.4703
          ],
          [
           "Bouza, La",
           611.4578
          ],
          [
           "Bóveda del Río Almar",
           882.0773
          ],
          [
           "Brincones",
           764.189
          ],
          [
           "Buenamadre",
           759.6102
          ],
          [
           "Buenavista",
           941.6581
          ],
          [
           "Cabaco, El",
           964.9015
          ],
          [
           "Cabezabellosa de la Calzada",
           855.9011
          ],
          [
           "Cabeza de Béjar, La",
           1029.441
          ],
          [
           "Cabeza del Caballo",
           730.4404
          ],
          [
           "Cabrerizos",
           825.5041
          ],
          [
           "Cabrillas",
           798.0694
          ],
          [
           "Calvarrasa de Abajo",
           800.4495
          ],
          [
           "Calvarrasa de Arriba",
           850.1463
          ],
          [
           "Calzada de Béjar, La",
           794.4747
          ],
          [
           "Calzada de Don Diego",
           815.0586
          ],
          [
           "Calzada de Valdunciel",
           801.944
          ],
          [
           "Campillo de Azaba",
           654.696
          ],
          [
           "Campo de Peñaranda, El",
           837.7207
          ],
          [
           "Candelario",
           1091.34
          ],
          [
           "Canillas de Abajo",
           811.4039
          ],
          [
           "Cantagallo",
           915.337
          ],
          [
           "Cantalapiedra",
           784.8248
          ],
          [
           "Cantalpino",
           809.6198
          ],
          [
           "Cantaracillo",
           913.4099
          ],
          [
           "Carbajosa de la Sagrada",
           793.0272
          ],
          [
           "Carpio de Azaba",
           682.3234
          ],
          [
           "Carrascal de Barregas",
           794.4115
          ],
          [
           "Carrascal del Obispo",
           899.0852
          ],
          [
           "Casafranca",
           929.7108
          ],
          [
           "Casas del Conde, Las",
           679.6074
          ],
          [
           "Casillas de Flores",
           856.6022
          ],
          [
           "Castellanos de Moriscos",
           834.6884
          ],
          [
           "Castillejo de Martín Viejo",
           667.963
          ],
          [
           "Castraz",
           761.6857
          ],
          [
           "Cepeda",
           627.2601
          ],
          [
           "Cereceda de la Sierra",
           981.321
          ],
          [
           "Cerezal de Peñahorcada",
           701.7072
          ],
          [
           "Cerralbo",
           680.7393
          ],
          [
           "Cerro, El",
           988.4806
          ],
          [
           "Cespedosa de Tormes",
           1026.923
          ],
          [
           "Cilleros de la Bastida",
           1066.91
          ],
          [
           "Cipérez",
           774.0986
          ],
          [
           "Ciudad Rodrigo",
           642.403
          ],
          [
           "Coca de Alba",
           835.9797
          ],
          [
           "Colmenar de Montemayor",
           832.6315
          ],
          [
           "Cordovilla",
           829.8961
          ],
          [
           "Cristóbal",
           879.3582
          ],
          [
           "Cubo de Don Sancho, El",
           727.9621
          ],
          [
           "Chagarcía Medianero",
           1037.603
          ],
          [
           "Dios le Guarde",
           827.7272
          ],
          [
           "Doñinos de Ledesma",
           847.0023
          ],
          [
           "Doñinos de Salamanca",
           825.1975
          ],
          [
           "Éjeme",
           814.8564
          ],
          [
           "Encina, La",
           803.7103
          ],
          [
           "Encina de San Silvestre",
           803.7103
          ],
          [
           "Encinas de Abajo",
           791.9091
          ],
          [
           "Encinas de Arriba",
           817.2836
          ],
          [
           "Encinasola de los Comendadores",
           708.7699
          ],
          [
           "Endrinal",
           923.6503
          ],
          [
           "Escurial de la Sierra",
           958.3282
          ],
          [
           "Espadaña",
           785.398
          ],
          [
           "Espeja",
           698.6036
          ],
          [
           "Espino de la Orbada",
           799.1531
          ],
          [
           "Florida de Liébana",
           767.7192
          ],
          [
           "Forfoleda",
           792
          ],
          [
           "Frades de la Sierra",
           969.7409
          ],
          [
           "Fregeneda, La",
           524.0632
          ],
          [
           "Fresnedoso",
           1020.359
          ],
          [
           "Fresno Alhándiga",
           831.5128
          ],
          [
           "Fuente de San Esteban, La",
           769.7069
          ],
          [
           "Fuenteguinaldo",
           857.3421
          ],
          [
           "Fuenteliante",
           722.4082
          ],
          [
           "Fuenterroble de Salvatierra",
           952.5548
          ],
          [
           "Fuentes de Béjar",
           906.1965
          ],
          [
           "Fuentes de Oñoro",
           737.6271
          ],
          [
           "Gajates",
           854.1697
          ],
          [
           "Galindo y Perahuy",
           798.0319
          ],
          [
           "Galinduste",
           947.1396
          ],
          [
           "Galisancho",
           820.5486
          ],
          [
           "Gallegos de Argañán",
           664.0316
          ],
          [
           "Gallegos de Solmirón",
           1109.974
          ],
          [
           "Garcibuey",
           699.9051
          ],
          [
           "Garcihernández",
           815.0062
          ],
          [
           "Garcirrey",
           812.2611
          ],
          [
           "Gejuelo del Barro",
           807.9324
          ],
          [
           "Golpejas",
           783.9107
          ],
          [
           "Gomecello",
           843.8534
          ],
          [
           "Guadramiro",
           748.9703
          ],
          [
           "Guijo de Ávila",
           972.0184
          ],
          [
           "Guijuelo",
           1015.943
          ],
          [
           "Herguijuela de Ciudad Rodrigo",
           805.5259
          ],
          [
           "Herguijuela de la Sierra",
           649.6334
          ],
          [
           "Herguijuela del Campo",
           925.9821
          ],
          [
           "Hinojosa de Duero",
           608.4411
          ],
          [
           "Horcajo de Montemayor",
           736.9137
          ],
          [
           "Horcajo Medianero",
           1001.317
          ],
          [
           "Hoya, La",
           1247.21
          ],
          [
           "Huerta",
           788.3081
          ],
          [
           "Iruelos",
           780.4797
          ],
          [
           "Ituero de Azaba",
           669.289
          ],
          [
           "Juzbado",
           795.5882
          ],
          [
           "Lagunilla",
           932.2834
          ],
          [
           "Larrodrigo",
           867.775
          ],
          [
           "Ledesma",
           773.7244
          ],
          [
           "Ledrada",
           884.9431
          ],
          [
           "Linares de Riofrío",
           957.4563
          ],
          [
           "Lumbrales",
           675.5071
          ],
          [
           "Macotera",
           893.4735
          ],
          [
           "Machacón",
           807.2266
          ],
          [
           "Madroñal",
           674.8745
          ],
          [
           "Maíllo, El",
           985.4587
          ],
          [
           "Malpartida",
           897.3098
          ],
          [
           "Mancera de Abajo",
           897.7108
          ],
          [
           "Manzano, El",
           779.5687
          ],
          [
           "Martiago",
           811.0814
          ],
          [
           "Martinamor",
           954.91
          ],
          [
           "Martín de Yeltes",
           762.9928
          ],
          [
           "Masueco",
           680.6115
          ],
          [
           "Castellanos de Villiquera",
           829.2123
          ],
          [
           "Mata de Ledesma, La",
           814.1835
          ],
          [
           "Matilla de los Caños del Río",
           826.0807
          ],
          [
           "Maya, La",
           834.4459
          ],
          [
           "Membribe de la Sierra",
           1025.661
          ],
          [
           "Mieza",
           662.1299
          ],
          [
           "Milano, El",
           731.6552
          ],
          [
           "Miranda de Azán",
           821.7861
          ],
          [
           "Miranda del Castañar",
           636.434
          ],
          [
           "Mogarraz",
           782.6704
          ],
          [
           "Molinillo",
           725.483
          ],
          [
           "Monforte de la Sierra",
           821.5292
          ],
          [
           "Monleón",
           872.0361
          ],
          [
           "Monleras",
           752.909
          ],
          [
           "Monsagro",
           965.6917
          ],
          [
           "Montejo",
           927.8253
          ],
          [
           "Montemayor del Río",
           643.6966
          ],
          [
           "Monterrubio de Armuña",
           799.7922
          ],
          [
           "Monterrubio de la Sierra",
           964.4607
          ],
          [
           "Morasverdes",
           896.1119
          ],
          [
           "Morille",
           933.8912
          ],
          [
           "Moríñigo",
           803.5493
          ],
          [
           "Moriscos",
           844.4398
          ],
          [
           "Moronta",
           764.1678
          ],
          [
           "Mozárbez",
           874.7148
          ],
          [
           "Narros de Matalayegua",
           985.0504
          ],
          [
           "Navacarros",
           1126.157
          ],
          [
           "Nava de Béjar",
           1046.605
          ],
          [
           "Nava de Francia",
           1042.738
          ],
          [
           "Nava de Sotrobal",
           856.4819
          ],
          [
           "Navales",
           847.2195
          ],
          [
           "Navalmoral de Béjar",
           926.4265
          ],
          [
           "Navamorales",
           989.564
          ],
          [
           "Navarredonda de la Rinconada",
           1026.249
          ],
          [
           "Navasfrías",
           903.6105
          ],
          [
           "Negrilla de Palencia",
           824.7216
          ],
          [
           "Olmedo de Camaces",
           711.8811
          ],
          [
           "Orbada, La",
           819.0842
          ],
          [
           "Pajares de la Laguna",
           827.5972
          ],
          [
           "Palacios del Arzobispo",
           823.892
          ],
          [
           "Palaciosrubios",
           806.4166
          ],
          [
           "Palencia de Negrilla",
           824.9493
          ],
          [
           "Parada de Arriba",
           824.8565
          ],
          [
           "Parada de Rubiales",
           845.3183
          ],
          [
           "Paradinas de San Juan",
           852.3538
          ],
          [
           "Pastores",
           769.4645
          ],
          [
           "Payo, El",
           924.1714
          ],
          [
           "Pedraza de Alba",
           896.6031
          ],
          [
           "Pedrosillo de Alba",
           837.5592
          ],
          [
           "Pedrosillo de los Aires",
           956.5556
          ],
          [
           "Pedrosillo el Ralo",
           815.6058
          ],
          [
           "Pedroso de la Armuña, El",
           826.4706
          ],
          [
           "Pelabravo",
           815.6241
          ],
          [
           "Pelarrodríguez",
           756.4791
          ],
          [
           "Pelayos",
           935.5426
          ],
          [
           "Peña, La",
           698.4894
          ],
          [
           "Peñacaballera",
           874.3146
          ],
          [
           "Peñaparda",
           863.9899
          ],
          [
           "Peñaranda de Bracamonte",
           899.5543
          ],
          [
           "Peñarandilla",
           821.0045
          ],
          [
           "Peralejos de Abajo",
           773.447
          ],
          [
           "Peralejos de Arriba",
           788.0662
          ],
          [
           "Pereña de la Ribera",
           698.2541
          ],
          [
           "Peromingo",
           791.4692
          ],
          [
           "Pinedas",
           790.9607
          ],
          [
           "Pino de Tormes, El",
           761.6423
          ],
          [
           "Pitiegua",
           846.9292
          ],
          [
           "Pizarral",
           908.2397
          ],
          [
           "Poveda de las Cintas",
           807.0439
          ],
          [
           "Pozos de Hinojo",
           735.0233
          ],
          [
           "Puebla de Azaba",
           665.5089
          ],
          [
           "Puebla de San Medel",
           967.3432
          ],
          [
           "Puebla de Yeltes",
           881.7862
          ],
          [
           "Puente del Congosto",
           941.1274
          ],
          [
           "Puertas",
           784.341
          ],
          [
           "Puerto de Béjar",
           929.1489
          ],
          [
           "Puerto Seguro",
           641.8528
          ],
          [
           "Rágama",
           847.4322
          ],
          [
           "Redonda, La",
           669.5419
          ],
          [
           "Retortillo",
           735.7136
          ],
          [
           "Rinconada de la Sierra, La",
           1000.196
          ],
          [
           "Robleda",
           837.2068
          ],
          [
           "Robliza de Cojos",
           818.6881
          ],
          [
           "Rollán",
           802.2749
          ],
          [
           "Saelices el Chico",
           658.7722
          ],
          [
           "Sagrada, La",
           null
          ],
          [
           "Salamanca",
           802.7915
          ],
          [
           "Saldeana",
           664.0504
          ],
          [
           "Salmoral",
           910.3112
          ],
          [
           "Salvatierra de Tormes",
           900.8209
          ],
          [
           "San Cristóbal de la Cuesta",
           820.1966
          ],
          [
           "Sancti-Spíritus",
           760.9977
          ],
          [
           "Sanchón de la Ribera",
           725.8375
          ],
          [
           "Sanchón de la Sagrada",
           862.8228
          ],
          [
           "Sanchotello",
           938.9756
          ],
          [
           "Sando",
           838.4528
          ],
          [
           "San Esteban de la Sierra",
           631.8868
          ],
          [
           "San Felices de los Gallegos",
           667.4055
          ],
          [
           "San Martín del Castañar",
           841.831
          ],
          [
           "San Miguel de Valero",
           932.705
          ],
          [
           "San Morales",
           794.9968
          ],
          [
           "San Muñoz",
           783.1349
          ],
          [
           "San Pedro del Valle",
           790.4227
          ],
          [
           "San Pedro de Rozados",
           975.6448
          ],
          [
           "San Pelayo de Guareña",
           789.7009
          ],
          [
           "Santa María de Sando",
           824.6718
          ],
          [
           "Santa Marta de Tormes",
           779.7791
          ],
          [
           "Santiago de la Puebla",
           868.9525
          ],
          [
           "Santibáñez de Béjar",
           922.2231
          ],
          [
           "Santibáñez de la Sierra",
           615.7195
          ],
          [
           "Santiz",
           892
          ],
          [
           "Santos, Los",
           944.6475
          ],
          [
           "Sardón de los Frailes",
           737.1103
          ],
          [
           "Saucelle",
           666.158
          ],
          [
           "Sahugo, El",
           818.3651
          ],
          [
           "Sepulcro-Hilario",
           831.1911
          ],
          [
           "Sequeros",
           943.9675
          ],
          [
           "Serradilla del Arroyo",
           853.9916
          ],
          [
           "Serradilla del Llano",
           876.2202
          ],
          [
           "Sierpe, La",
           925.3212
          ],
          [
           "Sieteiglesias de Tormes",
           821
          ],
          [
           "Sobradillo",
           652.3832
          ],
          [
           "Sorihuela",
           1001.709
          ],
          [
           "Sotoserrano",
           509.2324
          ],
          [
           "Tabera de Abajo",
           810.5211
          ],
          [
           "Tala, La",
           918.5034
          ],
          [
           "Tamames",
           901.3917
          ],
          [
           "Tarazona de Guareña",
           770.5272
          ],
          [
           "Tardáguila",
           831.7318
          ],
          [
           "Tejado, El",
           976.1771
          ],
          [
           "Tejeda y Segoyuela",
           929.616
          ],
          [
           "Tenebrón",
           824.368
          ],
          [
           "Terradillos",
           890.0266
          ],
          [
           "Topas",
           824.9239
          ],
          [
           "Tordillos",
           838.7855
          ],
          [
           "Tornadizo, El",
           884.6722
          ],
          [
           "Torresmenudas",
           789.4065
          ],
          [
           "Trabanca",
           743.7527
          ],
          [
           "Tremedal de Tormes",
           767.5543
          ],
          [
           "Valdecarros",
           883.4447
          ],
          [
           "Valdefuentes de Sangusín",
           897.4296
          ],
          [
           "Valdehijaderos",
           778.0461
          ],
          [
           "Valdelacasa",
           957.9121
          ],
          [
           "Valdelageve",
           657.5203
          ],
          [
           "Valdelosa",
           841.7576
          ],
          [
           "Valdemierque",
           938.8387
          ],
          [
           "Valderrodrigo",
           733.0906
          ],
          [
           "Valdunciel",
           806.5008
          ],
          [
           "Valero",
           595.4124
          ],
          [
           "Valsalabroso",
           729.0405
          ],
          [
           "Valverde de Valdelacasa",
           804.0566
          ],
          [
           "Valverdón",
           767.7844
          ],
          [
           "Vallejera de Riofrío",
           1140.328
          ],
          [
           "Vecinos",
           888.3599
          ],
          [
           "Vega de Tirados",
           783.0811
          ],
          [
           "Veguillas, Las",
           1041.142
          ],
          [
           "Vellés, La",
           809.2722
          ],
          [
           "Ventosa del Río Almar",
           853.9965
          ],
          [
           "Vídola, La",
           697.9411
          ],
          [
           "Vilvestre",
           582.2014
          ],
          [
           "Villaflores",
           794.5469
          ],
          [
           "Villagonzalo de Tormes",
           805.2603
          ],
          [
           "Villalba de los Llanos",
           835.8166
          ],
          [
           "Villamayor",
           786.5375
          ],
          [
           "Villanueva del Conde",
           800.9477
          ],
          [
           "Villar de Argañán",
           717.7349
          ],
          [
           "Villar de Ciervo",
           678.7781
          ],
          [
           "Villar de Gallimazo",
           857.1204
          ],
          [
           "Villar de la Yegua",
           711.8369
          ],
          [
           "Villar de Peralonso",
           820.0938
          ],
          [
           "Villar de Samaniego",
           743.1362
          ],
          [
           "Villares de la Reina",
           817.9556
          ],
          [
           "Villares de Yeltes",
           719.8795
          ],
          [
           "Villarino de los Aires",
           605.4351
          ],
          [
           "Villarmayor",
           827.4609
          ],
          [
           "Villarmuerto",
           767.4649
          ],
          [
           "Villasbuenas",
           734.7009
          ],
          [
           "Villasdardo",
           813.8005
          ],
          [
           "Villaseco de los Gamitos",
           834.4906
          ],
          [
           "Villaseco de los Reyes",
           771.2275
          ],
          [
           "Villasrubias",
           850.7972
          ],
          [
           "Villaverde de Guareña",
           829.9338
          ],
          [
           "Villavieja de Yeltes",
           741.9375
          ],
          [
           "Villoria",
           818.5666
          ],
          [
           "Villoruela",
           824.9141
          ],
          [
           "Vitigudino",
           763.2999
          ],
          [
           "Yecla de Yeltes",
           721.6814
          ],
          [
           "Zamarra",
           777.2296
          ],
          [
           "Zamayón",
           813.7863
          ],
          [
           "Zarapicos",
           783.1765
          ],
          [
           "Zarza de Pumareda, La",
           702.669
          ],
          [
           "Zorita de la Frontera",
           830.3544
          ],
          [
           "Adeje",
           288.9392
          ],
          [
           "Agulo",
           199.3272
          ],
          [
           "Alajeró",
           821.5216
          ],
          [
           "Arafo",
           432.3514
          ],
          [
           "Arico",
           362.0416
          ],
          [
           "Arona",
           630.8655
          ],
          [
           "Barlovento",
           560.6917
          ],
          [
           "Breña Alta",
           370.9761
          ],
          [
           "Breña Baja",
           539.2067
          ],
          [
           "Buenavista del Norte",
           127.8591
          ],
          [
           "Candelaria",
           10
          ],
          [
           "Fasnia",
           482.8613
          ],
          [
           "Frontera",
           339.0463
          ],
          [
           "Fuencaliente de la Palma",
           604.7274
          ],
          [
           "Garachico",
           11.52424
          ],
          [
           "Garafía",
           899.6116
          ],
          [
           "Granadilla de Abona",
           647.0933
          ],
          [
           "Guancha, La",
           483.8696
          ],
          [
           "Guía de Isora",
           590.0607
          ],
          [
           "Güímar",
           307.1391
          ],
          [
           "Hermigua",
           127.1466
          ],
          [
           "Icod de los Vinos",
           229.9812
          ],
          [
           "San Cristóbal de La Laguna",
           548.1752
          ],
          [
           "Llanos de Aridane, Los",
           345.7089
          ],
          [
           "Matanza de Acentejo, La",
           282.3254
          ],
          [
           "Orotava, La",
           342.5714
          ],
          [
           "Paso, El",
           669.5245
          ],
          [
           "Puerto de la Cruz",
           53.82357
          ],
          [
           "Puntagorda",
           849.1637
          ],
          [
           "Puntallana",
           494.2469
          ],
          [
           "Realejos, Los",
           596.4269
          ],
          [
           "Rosario, El",
           722.4636
          ],
          [
           "San Andrés y Sauces",
           60.90185
          ],
          [
           "San Juan de la Rambla",
           50.26696
          ],
          [
           "San Miguel de Abona",
           604.5886
          ],
          [
           "San Sebastián de la Gomera",
           2.807406
          ],
          [
           "Santa Cruz de la Palma",
           3.883548
          ],
          [
           "Santa Cruz de Tenerife",
           41.29388
          ],
          [
           "Santa Úrsula",
           284.0858
          ],
          [
           "Santiago del Teide",
           929.3008
          ],
          [
           "Sauzal, El",
           323.1106
          ],
          [
           "Silos, Los",
           99.97398
          ],
          [
           "Tacoronte",
           488.9084
          ],
          [
           "Tanque, El",
           1027.389
          ],
          [
           "Tazacorte",
           124.7486
          ],
          [
           "Tegueste",
           412.2942
          ],
          [
           "Tijarafe",
           615.9692
          ],
          [
           "Valverde",
           588.4797
          ],
          [
           "Valle Gran Rey",
           607.2831
          ],
          [
           "Vallehermoso",
           181.5817
          ],
          [
           "Victoria de Acentejo, La",
           387.9303
          ],
          [
           "Vilaflor de Chasna",
           null
          ],
          [
           "Villa de Mazo",
           965.7053
          ],
          [
           "Pinar de El Hierro, El",
           1330.287
          ],
          [
           "Alfoz de Lloredo",
           191.1736
          ],
          [
           "Ampuero",
           14.41542
          ],
          [
           "Anievas",
           307.6791
          ],
          [
           "Arenas de Iguña",
           175.7548
          ],
          [
           "Argoños",
           7.686848
          ],
          [
           "Arnuero",
           58.03693
          ],
          [
           "Arredondo",
           162.1712
          ],
          [
           "Astillero, El",
           15.58059
          ],
          [
           "Bárcena de Cicero",
           8.115047
          ],
          [
           "Bárcena de Pie de Concha",
           341.4135
          ],
          [
           "Bareyo",
           74.22401
          ],
          [
           "Cabezón de la Sal",
           126.715
          ],
          [
           "Cabezón de Liébana",
           368.491
          ],
          [
           "Cabuérniga",
           279.0297
          ],
          [
           "Camaleño",
           442.6653
          ],
          [
           "Camargo",
           27.12142
          ],
          [
           "Campoo de Yuso",
           854.9267
          ],
          [
           "Cartes",
           34.01722
          ],
          [
           "Castañeda",
           51.33138
          ],
          [
           "Castro-Urdiales",
           13.48153
          ],
          [
           "Cieza",
           238.8728
          ],
          [
           "Cillorigo de Liébana",
           491.4029
          ],
          [
           "Colindres",
           7.550448
          ],
          [
           "Comillas",
           24.99873
          ],
          [
           "Corrales de Buelna, Los",
           92.81157
          ],
          [
           "Corvera de Toranzo",
           317.1393
          ],
          [
           "Campoo de Enmedio",
           878.4844
          ],
          [
           "Entrambasaguas",
           44.69009
          ],
          [
           "Escalante",
           8.192403
          ],
          [
           "Guriezo",
           13.48724
          ],
          [
           "Hazas de Cesto",
           66.35742
          ],
          [
           "Hermandad de Campoo de Suso",
           912.019
          ],
          [
           "Herrerías",
           193.9438
          ],
          [
           "Lamasón",
           315.1235
          ],
          [
           "Laredo",
           13.43072
          ],
          [
           "Liendo",
           29.383
          ],
          [
           "Liérganes",
           87.95516
          ],
          [
           "Limpias",
           305.4288
          ],
          [
           "Luena",
           495.1068
          ],
          [
           "Marina de Cudeyo",
           16.28183
          ],
          [
           "Mazcuerras",
           133.059
          ],
          [
           "Medio Cudeyo",
           37.2541
          ],
          [
           "Meruelo",
           35.97668
          ],
          [
           "Miengo",
           14.39486
          ],
          [
           "Miera",
           338.0346
          ],
          [
           "Molledo",
           248.2709
          ],
          [
           "Noja",
           24.97051
          ],
          [
           "Penagos",
           129.0727
          ],
          [
           "Peñarrubia",
           475.7796
          ],
          [
           "Pesaguero",
           608.4185
          ],
          [
           "Pesquera",
           614.1819
          ],
          [
           "Piélagos",
           39.58884
          ],
          [
           "Polaciones",
           887.2664
          ],
          [
           "Polanco",
           52.85626
          ],
          [
           "Potes",
           309.7742
          ],
          [
           "Puente Viesgo",
           70.55008
          ],
          [
           "Ramales de la Victoria",
           86.5575
          ],
          [
           "Rasines",
           88.65132
          ],
          [
           "Reinosa",
           853.8888
          ],
          [
           "Reocín",
           115.7464
          ],
          [
           "Ribamontán al Mar",
           29.16733
          ],
          [
           "Ribamontán al Monte",
           59.71571
          ],
          [
           "Rionansa",
           210.4719
          ],
          [
           "Riotuerto",
           126.3817
          ],
          [
           "Rozas de Valdearroyo, Las",
           854.1373
          ],
          [
           "Ruente",
           189.9705
          ],
          [
           "Ruesga",
           149.2516
          ],
          [
           "Ruiloba",
           44.85384
          ],
          [
           "San Felices de Buelna",
           105.392
          ],
          [
           "San Miguel de Aguayo",
           839.2117
          ],
          [
           "San Pedro del Romeral",
           755.9124
          ],
          [
           "San Roque de Riomiera",
           378.2011
          ],
          [
           "Santa Cruz de Bezana",
           42.96122
          ],
          [
           "Santa María de Cayón",
           94.75117
          ],
          [
           "Santander",
           4.1
          ],
          [
           "Santillana del Mar",
           84.16537
          ],
          [
           "Santiurde de Reinosa",
           647.917
          ],
          [
           "Santiurde de Toranzo",
           122.0352
          ],
          [
           "Santoña",
           8.660443
          ],
          [
           "San Vicente de la Barquera",
           3.441201
          ],
          [
           "Saro",
           162.4471
          ],
          [
           "Selaya",
           242.945
          ],
          [
           "Soba",
           320.8042
          ],
          [
           "Solórzano",
           89.04234
          ],
          [
           "Suances",
           90.53543
          ],
          [
           "Tojos, Los",
           623.6432
          ],
          [
           "Torrelavega",
           24.9647
          ],
          [
           "Tresviso",
           888.7922
          ],
          [
           "Tudanca",
           420.3354
          ],
          [
           "Udías",
           169.41
          ],
          [
           "Valdáliga",
           46.15511
          ],
          [
           "Valdeolea",
           930.1546
          ],
          [
           "Valdeprado del Río",
           914.2877
          ],
          [
           "Valderredible",
           725.1385
          ],
          [
           "Val de San Vicente",
           32.28376
          ],
          [
           "Vega de Liébana",
           1232.006
          ],
          [
           "Vega de Pas",
           357.8255
          ],
          [
           "Villacarriedo",
           213.2215
          ],
          [
           "Villaescusa",
           22.27066
          ],
          [
           "Villafufre",
           224.6329
          ],
          [
           "Valle de Villaverde",
           194.6136
          ],
          [
           "Voto",
           30.99223
          ],
          [
           "Abades",
           972.9816
          ],
          [
           "Adrada de Pirón",
           1025.208
          ],
          [
           "Adrados",
           885.7927
          ],
          [
           "Aguilafuente",
           890.7866
          ],
          [
           "Alconada de Maderuelo",
           941.0287
          ],
          [
           "Aldealcorvo",
           954.9659
          ],
          [
           "Aldealengua de Pedraza",
           1224.668
          ],
          [
           "Aldealengua de Santa María",
           956.4097
          ],
          [
           "Aldeanueva de la Serrezuela",
           1133.43
          ],
          [
           "Aldeanueva del Codonal",
           860.4335
          ],
          [
           "Aldea Real",
           1180.345
          ],
          [
           "Aldeasoña",
           829.5284
          ],
          [
           "Aldehorno",
           961.0057
          ],
          [
           "Aldehuela del Codonal",
           860.6868
          ],
          [
           "Aldeonte",
           966.3133
          ],
          [
           "Anaya",
           888.5967
          ],
          [
           "Añe",
           876.4594
          ],
          [
           "Arahuetes",
           1094.234
          ],
          [
           "Arcones",
           1151.102
          ],
          [
           "Arevalillo de Cega",
           1042.221
          ],
          [
           "Armuña",
           908.2159
          ],
          [
           "Ayllón",
           1000.703
          ],
          [
           "Barbolla",
           942.1429
          ],
          [
           "Basardilla",
           1094.927
          ],
          [
           "Bercial",
           972.6617
          ],
          [
           "Bercimuel",
           967.4302
          ],
          [
           "Bernardos",
           901.9694
          ],
          [
           "Bernuy de Porreros",
           1016.847
          ],
          [
           "Boceguillas",
           962.1383
          ],
          [
           "Brieva",
           1090.915
          ],
          [
           "Caballar",
           1009.216
          ],
          [
           "Cabañas de Polendos",
           940.3881
          ],
          [
           "Cabezuela",
           950.7864
          ],
          [
           "Calabazas de Fuentidueña",
           909.485
          ],
          [
           "Campo de San Pedro",
           970.5167
          ],
          [
           "Cantalejo",
           963.2977
          ],
          [
           "Cantimpalos",
           909.5023
          ],
          [
           "Carbonero el Mayor",
           922.6301
          ],
          [
           "Carrascal del Río",
           856.5717
          ],
          [
           "Casla",
           1077.447
          ],
          [
           "Castillejo de Mesleón",
           1015.715
          ],
          [
           "Castro de Fuentidueña",
           1099.253
          ],
          [
           "Castrojimeno",
           1083.13
          ],
          [
           "Castroserna de Abajo",
           986.5969
          ],
          [
           "Castroserracín",
           1136.012
          ],
          [
           "Cedillo de la Torre",
           1021.628
          ],
          [
           "Cerezo de Abajo",
           1047.832
          ],
          [
           "Cerezo de Arriba",
           1128.88
          ],
          [
           "Cilleruelo de San Mamés",
           986.2485
          ],
          [
           "Cobos de Fuentidueña",
           837.217
          ],
          [
           "Coca",
           783.8333
          ],
          [
           "Codorniz",
           889.9684
          ],
          [
           "Collado Hermoso",
           1220.754
          ],
          [
           "Condado de Castilnovo",
           998.777
          ],
          [
           "Corral de Ayllón",
           1027.357
          ],
          [
           "Cubillo",
           1066.817
          ],
          [
           "Cuéllar",
           873.2888
          ],
          [
           "Chañe",
           767.6998
          ],
          [
           "Domingo García",
           899.2606
          ],
          [
           "Donhierro",
           804.6583
          ],
          [
           "Duruelo",
           1012.408
          ],
          [
           "Encinas",
           1009.99
          ],
          [
           "Encinillas",
           949.6232
          ],
          [
           "Escalona del Prado",
           896.3405
          ],
          [
           "Escarabajosa de Cabezas",
           884.6951
          ],
          [
           "Escobar de Polendos",
           905.3851
          ],
          [
           "Espinar, El",
           null
          ],
          [
           "Espirdo",
           1067.382
          ],
          [
           "Fresneda de Cuéllar",
           766.7217
          ],
          [
           "Fresno de Cantespino",
           1037.505
          ],
          [
           "Fresno de la Fuente",
           1040.055
          ],
          [
           "Frumales",
           820
          ],
          [
           "Fuente de Santa Cruz",
           831.7021
          ],
          [
           "Fuente el Olmo de Fuentidueña",
           851.1677
          ],
          [
           "Fuente el Olmo de Íscar",
           775.7598
          ],
          [
           "Fuentepelayo",
           869.318
          ],
          [
           "Fuentepiñel",
           891.1735
          ],
          [
           "Fuenterrebollo",
           929.0509
          ],
          [
           "Fuentesaúco de Fuentidueña",
           897.0123
          ],
          [
           "Fuentesoto",
           942.894
          ],
          [
           "Fuentidueña",
           838.3236
          ],
          [
           "Gallegos",
           1234.033
          ],
          [
           "Garcillán",
           917
          ],
          [
           "Gomezserracín",
           805
          ],
          [
           "Grajera",
           1012.895
          ],
          [
           "Honrubia de la Cuesta",
           993.7116
          ],
          [
           "Hontalbilla",
           893.8555
          ],
          [
           "Hontanares de Eresma",
           880.4162
          ],
          [
           "Huertos, Los",
           874.0368
          ],
          [
           "Ituero y Lama",
           1002.227
          ],
          [
           "Juarros de Riomoros",
           916.307
          ],
          [
           "Juarros de Voltoya",
           853.621
          ],
          [
           "Labajos",
           1063.336
          ],
          [
           "Laguna de Contreras",
           801.9667
          ],
          [
           "Languilla",
           947.9021
          ],
          [
           "Lastras de Cuéllar",
           902.9059
          ],
          [
           "Lastras del Pozo",
           966.7155
          ],
          [
           "Lastrilla, La",
           1065.97
          ],
          [
           "Losa, La",
           null
          ],
          [
           "Maderuelo",
           948.9968
          ],
          [
           "Marazuela",
           909.9414
          ],
          [
           "Martín Miguel",
           916.2261
          ],
          [
           "Martín Muñoz de la Dehesa",
           835.0771
          ],
          [
           "Martín Muñoz de las Posadas",
           895.8978
          ],
          [
           "Marugán",
           958.082
          ],
          [
           "Matabuena",
           1157.678
          ],
          [
           "Mata de Cuéllar",
           753
          ],
          [
           "Matilla, La",
           1084.459
          ],
          [
           "Melque de Cercos",
           859.2445
          ],
          [
           "Membibre de la Hoz",
           866.361
          ],
          [
           "Migueláñez",
           885.0084
          ],
          [
           "Montejo de Arévalo",
           801.1225
          ],
          [
           "Montejo de la Vega de la Serrezuela",
           865.232
          ],
          [
           "Monterrubio",
           948.3826
          ],
          [
           "Moral de Hornuez",
           1095.375
          ],
          [
           "Mozoncillo",
           947.8896
          ],
          [
           "Muñopedro",
           1023
          ],
          [
           "Muñoveros",
           962.0355
          ],
          [
           "Nava de la Asunción",
           807.3397
          ],
          [
           "Navafría",
           1203.15
          ],
          [
           "Navalilla",
           900.9603
          ],
          [
           "Navalmanzano",
           840.0873
          ],
          [
           "Navares de Ayuso",
           1013.812
          ],
          [
           "Navares de Enmedio",
           1041.241
          ],
          [
           "Navares de las Cuevas",
           1115.182
          ],
          [
           "Navas de Oro",
           808.3718
          ],
          [
           "Navas de San Antonio",
           1165.014
          ],
          [
           "Nieva",
           842.8079
          ],
          [
           "Olombrada",
           874.9899
          ],
          [
           "Orejana",
           1060.189
          ],
          [
           "Ortigosa de Pestaño",
           858.879
          ],
          [
           "Otero de Herreros",
           1140.483
          ],
          [
           "Pajarejos",
           988.6074
          ],
          [
           "Palazuelos de Eresma",
           1084.439
          ],
          [
           "Pedraza",
           1048.704
          ],
          [
           "Pelayos del Arroyo",
           1142.212
          ],
          [
           "Perosillo",
           833.2657
          ],
          [
           "Pinarejos",
           821
          ],
          [
           "Pinarnegrillo",
           856
          ],
          [
           "Carabias",
           null
          ],
          [
           "Prádena",
           1121.578
          ],
          [
           "Puebla de Pedraza",
           949.6524
          ],
          [
           "Rapariegos",
           857.2944
          ],
          [
           "Rebollo",
           985.6013
          ],
          [
           "Remondo",
           755.8116
          ],
          [
           "Riaguas de San Bartolomé",
           931.5925
          ],
          [
           "Riaza",
           1194.166
          ],
          [
           "Ribota",
           1032.616
          ],
          [
           "Riofrío de Riaza",
           1322.25
          ],
          [
           "Roda de Eresma",
           938.513
          ],
          [
           "Sacramenia",
           850.554
          ],
          [
           "Samboal",
           795
          ],
          [
           "San Cristóbal de Cuéllar",
           809.5489
          ],
          [
           "San Cristóbal de la Vega",
           858.2177
          ],
          [
           "Sanchonuño",
           805.1132
          ],
          [
           "Sangarcía",
           945.6377
          ],
          [
           "Real Sitio de San Ildefonso",
           null
          ],
          [
           "San Martín y Mudrián",
           818.941
          ],
          [
           "San Miguel de Bernuy",
           840.4734
          ],
          [
           "San Pedro de Gaíllos",
           988.7416
          ],
          [
           "Santa María la Real de Nieva",
           900.8523
          ],
          [
           "Santa Marta del Cerro",
           1024.784
          ],
          [
           "Santiuste de Pedraza",
           1156.046
          ],
          [
           "Santiuste de San Juan Bautista",
           820.4395
          ],
          [
           "Santo Domingo de Pirón",
           1083.149
          ],
          [
           "Santo Tomé del Puerto",
           1269.86
          ],
          [
           "Sauquillo de Cabezas",
           908.03
          ],
          [
           "Sebúlcor",
           938.8392
          ],
          [
           "Segovia",
           1012.785
          ],
          [
           "Sepúlveda",
           976.1324
          ],
          [
           "Sequera de Fresno",
           1000.115
          ],
          [
           "Sotillo",
           982.9819
          ],
          [
           "Sotosalbos",
           1163.243
          ],
          [
           "Tabanera la Luenga",
           905.6036
          ],
          [
           "Tolocirio",
           809.3814
          ],
          [
           "Torreadrada",
           1087.067
          ],
          [
           "Torrecaballeros",
           1159.816
          ],
          [
           "Torrecilla del Pinar",
           871.2332
          ],
          [
           "Torreiglesias",
           1019.401
          ],
          [
           "Torre Val de San Pedro",
           1118.942
          ],
          [
           "Trescasas",
           1117.163
          ],
          [
           "Turégano",
           943.3245
          ],
          [
           "Urueñas",
           1051.304
          ],
          [
           "Valdeprados",
           987.1275
          ],
          [
           "Valdevacas de Montejo",
           1121.339
          ],
          [
           "Valdevacas y Guijar",
           1097.263
          ],
          [
           "Valseca",
           942.7326
          ],
          [
           "Valtiendas",
           918.6631
          ],
          [
           "Valverde del Majano",
           924.8687
          ],
          [
           "Valle de Tabladillo",
           940.5837
          ],
          [
           "Vallelado",
           779.4292
          ],
          [
           "Valleruela de Pedraza",
           1093.092
          ],
          [
           "Valleruela de Sepúlveda",
           1095.099
          ],
          [
           "Veganzones",
           916.5224
          ],
          [
           "Vegas de Matute",
           1020.674
          ],
          [
           "Ventosilla y Tejadilla",
           1126.269
          ],
          [
           "Villacastín",
           1102.828
          ],
          [
           "Villaverde de Íscar",
           763.1172
          ],
          [
           "Villaverde de Montejo",
           1043.897
          ],
          [
           "Villeguillo",
           770.3413
          ],
          [
           "Yanguas de Eresma",
           889.0092
          ],
          [
           "Zarzuela del Monte",
           1005.036
          ],
          [
           "Zarzuela del Pinar",
           877.3031
          ],
          [
           "Ortigosa del Monte",
           1107.927
          ],
          [
           "Cozuelos de Fuentidueña",
           878.4466
          ],
          [
           "Marazoleja",
           912.3766
          ],
          [
           "Navas de Riofrío",
           1102.874
          ],
          [
           "Cuevas de Provanco",
           887.5039
          ],
          [
           "San Cristóbal de Segovia",
           1075.621
          ],
          [
           "Aguadulce",
           269.4199
          ],
          [
           "Alanís",
           674.499
          ],
          [
           "Albaida del Aljarafe",
           165.9894
          ],
          [
           "Alcalá de Guadaíra",
           55.89719
          ],
          [
           "Alcalá del Río",
           27.89068
          ],
          [
           "Alcolea del Río",
           31.59125
          ],
          [
           "Algaba, La",
           11.90946
          ],
          [
           "Algámitas",
           426.4051
          ],
          [
           "Almadén de la Plata",
           454.1956
          ],
          [
           "Almensilla",
           46.3095
          ],
          [
           "Arahal",
           119.1923
          ],
          [
           "Aznalcázar",
           66.94781
          ],
          [
           "Aznalcóllar",
           142.9431
          ],
          [
           "Badolatosa",
           223.3192
          ],
          [
           "Benacazón",
           122.7115
          ],
          [
           "Bollullos de la Mitación",
           89.16615
          ],
          [
           "Bormujos",
           100.3896
          ],
          [
           "Brenes",
           20.4634
          ],
          [
           "Burguillos",
           82.8983
          ],
          [
           "Cabezas de San Juan, Las",
           66.06638
          ],
          [
           "Camas",
           10.96704
          ],
          [
           "Campana, La",
           138.4237
          ],
          [
           "Cantillana",
           31.12143
          ],
          [
           "Carmona",
           217.9807
          ],
          [
           "Carrión de los Céspedes",
           101.1786
          ],
          [
           "Casariche",
           307.1805
          ],
          [
           "Castilblanco de los Arroyos",
           328.9605
          ],
          [
           "Castilleja de Guzmán",
           132.0701
          ],
          [
           "Castilleja de la Cuesta",
           99.49868
          ],
          [
           "Castilleja del Campo",
           117.3369
          ],
          [
           "Castillo de las Guardas, El",
           344.4214
          ],
          [
           "Cazalla de la Sierra",
           589.1179
          ],
          [
           "Constantina",
           562.725
          ],
          [
           "Coria del Río",
           12.71133
          ],
          [
           "Coripe",
           322.8958
          ],
          [
           "Coronil, El",
           135
          ],
          [
           "Corrales, Los",
           387.234
          ],
          [
           "Dos Hermanas",
           47.75739
          ],
          [
           "Écija",
           109
          ],
          [
           "Espartinas",
           129.527
          ],
          [
           "Estepa",
           536.463
          ],
          [
           "Fuentes de Andalucía",
           181.6506
          ],
          [
           "Garrobo, El",
           269.6107
          ],
          [
           "Gelves",
           9.087679
          ],
          [
           "Gerena",
           91.18767
          ],
          [
           "Gilena",
           466
          ],
          [
           "Gines",
           122.6012
          ],
          [
           "Guadalcanal",
           666.4088
          ],
          [
           "Guillena",
           23.11958
          ],
          [
           "Herrera",
           250.9977
          ],
          [
           "Huévar del Aljarafe",
           72.44372
          ],
          [
           "Lantejuela",
           null
          ],
          [
           "Lebrija",
           36.06404
          ],
          [
           "Lora de Estepa",
           447.5596
          ],
          [
           "Lora del Río",
           42.94636
          ],
          [
           "Luisiana, La",
           170.004
          ],
          [
           "Madroño, El",
           357.1227
          ],
          [
           "Mairena del Alcor",
           131.1066
          ],
          [
           "Mairena del Aljarafe",
           67.95491
          ],
          [
           "Marchena",
           132.541
          ],
          [
           "Marinaleda",
           211.5678
          ],
          [
           "Martín de la Jara",
           403.103
          ],
          [
           "Molares, Los",
           78.48339
          ],
          [
           "Montellano",
           270.6418
          ],
          [
           "Morón de la Frontera",
           231.4267
          ],
          [
           "Navas de la Concepción, Las",
           433.0268
          ],
          [
           "Olivares",
           173.8805
          ],
          [
           "Osuna",
           291.4922
          ],
          [
           "Palacios y Villafranca, Los",
           8.847688
          ],
          [
           "Palomares del Río",
           38.78385
          ],
          [
           "Paradas",
           124.3341
          ],
          [
           "Pedrera",
           456.6477
          ],
          [
           "Pedroso, El",
           null
          ],
          [
           "Peñaflor",
           56.938
          ],
          [
           "Pilas",
           69.78975
          ],
          [
           "Pruna",
           546.836
          ],
          [
           "Puebla de Cazalla, La",
           173.4698
          ],
          [
           "Puebla de los Infantes, La",
           235.6329
          ],
          [
           "Puebla del Río, La",
           21.86605
          ],
          [
           "Real de la Jara, El",
           462.9557
          ],
          [
           "Rinconada, La",
           11.99988
          ],
          [
           "Roda de Andalucía, La",
           403.1315
          ],
          [
           "Ronquillo, El",
           337.517
          ],
          [
           "Rubio, El",
           207.1797
          ],
          [
           "Salteras",
           153.2617
          ],
          [
           "San Juan de Aznalfarache",
           52.55407
          ],
          [
           "Sanlúcar la Mayor",
           135.8951
          ],
          [
           "San Nicolás del Puerto",
           588.4053
          ],
          [
           "Santiponce",
           16.95212
          ],
          [
           "Saucejo, El",
           533.4467
          ],
          [
           "Sevilla",
           8.265573
          ],
          [
           "Tocina",
           29.86999
          ],
          [
           "Tomares",
           69.09997
          ],
          [
           "Umbrete",
           126.0343
          ],
          [
           "Utrera",
           49.07016
          ],
          [
           "Valencina de la Concepción",
           150.983
          ],
          [
           "Villamanrique de la Condesa",
           32.61857
          ],
          [
           "Villanueva del Ariscal",
           152.3999
          ],
          [
           "Villanueva del Río y Minas",
           55.40402
          ],
          [
           "Villanueva de San Juan",
           467.6487
          ],
          [
           "Villaverde del Río",
           19.56544
          ],
          [
           "Viso del Alcor, El",
           145.2844
          ],
          [
           "Cañada Rosal",
           157.5748
          ],
          [
           "Isla Mayor",
           4
          ],
          [
           "Cuervo de Sevilla, El",
           59.24586
          ],
          [
           "Palmar de Troya, El",
           null
          ],
          [
           "Abejar",
           1145.182
          ],
          [
           "Adradas",
           1053.24
          ],
          [
           "Ágreda",
           939.9912
          ],
          [
           "Alconaba",
           1008.273
          ],
          [
           "Alcubilla de Avellaneda",
           926.149
          ],
          [
           "Alcubilla de las Peñas",
           1123.342
          ],
          [
           "Aldealafuente",
           1008.722
          ],
          [
           "Aldealices",
           1133.837
          ],
          [
           "Aldealpozo",
           1056.476
          ],
          [
           "Aldealseñor",
           1090.4
          ],
          [
           "Aldehuela de Periáñez",
           1053.012
          ],
          [
           "Aldehuelas, Las",
           1267.252
          ],
          [
           "Alentisque",
           1060.366
          ],
          [
           "Aliud",
           1012.084
          ],
          [
           "Almajano",
           1054
          ],
          [
           "Almaluez",
           823.894
          ],
          [
           "Almarza",
           1152.273
          ],
          [
           "Almazán",
           962.2736
          ],
          [
           "Almazul",
           981.7079
          ],
          [
           "Almenar de Soria",
           1020.456
          ],
          [
           "Alpanseque",
           1113.177
          ],
          [
           "Arancón",
           1064.569
          ],
          [
           "Arcos de Jalón",
           829.8203
          ],
          [
           "Arenillas",
           1097.583
          ],
          [
           "Arévalo de la Sierra",
           1209.113
          ],
          [
           "Ausejo de la Sierra",
           1097.726
          ],
          [
           "Baraona",
           1122.398
          ],
          [
           "Barca",
           956.5942
          ],
          [
           "Barcones",
           1095.072
          ],
          [
           "Bayubas de Abajo",
           921.9889
          ],
          [
           "Bayubas de Arriba",
           960.613
          ],
          [
           "Beratón",
           1386.368
          ],
          [
           "Berlanga de Duero",
           937.0346
          ],
          [
           "Blacos",
           989.2947
          ],
          [
           "Bliecos",
           1044.849
          ],
          [
           "Borjabad",
           1014.908
          ],
          [
           "Borobia",
           1115.851
          ],
          [
           "Buberos",
           1022.386
          ],
          [
           "Buitrago",
           1033.595
          ],
          [
           "Burgo de Osma-Ciudad de Osma",
           902.5478
          ],
          [
           "Cabrejas del Campo",
           992.3073
          ],
          [
           "Cabrejas del Pinar",
           1157.918
          ],
          [
           "Calatañazor",
           1058.661
          ],
          [
           "Caltojar",
           968.6671
          ],
          [
           "Candilichera",
           1004.845
          ],
          [
           "Cañamaque",
           961.6105
          ],
          [
           "Carabantes",
           1004.526
          ],
          [
           "Caracena",
           1079.824
          ],
          [
           "Carrascosa de Abajo",
           1021.172
          ],
          [
           "Carrascosa de la Sierra",
           1185.388
          ],
          [
           "Casarejos",
           1084.931
          ],
          [
           "Castilfrío de la Sierra",
           1204.084
          ],
          [
           "Castilruiz",
           1012.292
          ],
          [
           "Castillejo de Robledo",
           958.3167
          ],
          [
           "Centenera de Andaluz",
           945.2386
          ],
          [
           "Cerbón",
           1118.104
          ],
          [
           "Cidones",
           1088.646
          ],
          [
           "Cigudosa",
           744.5455
          ],
          [
           "Cihuela",
           823.4209
          ],
          [
           "Ciria",
           1037.322
          ],
          [
           "Cirujales del Río",
           1068.647
          ],
          [
           "Coscurita",
           964.2791
          ],
          [
           "Covaleda",
           1200.42
          ],
          [
           "Cubilla",
           1091.318
          ],
          [
           "Cubo de la Solana",
           992.694
          ],
          [
           "Cueva de Ágreda",
           1297.624
          ],
          [
           "Dévanos",
           936.56
          ],
          [
           "Deza",
           883.1517
          ],
          [
           "Duruelo de la Sierra",
           1192.476
          ],
          [
           "Escobosa de Almazán",
           1086.438
          ],
          [
           "Espeja de San Marcelino",
           1032.547
          ],
          [
           "Espejón",
           1032.613
          ],
          [
           "Estepa de San Juan",
           1254.505
          ],
          [
           "Frechilla de Almazán",
           984.3314
          ],
          [
           "Fresno de Caracena",
           954.0523
          ],
          [
           "Fuentearmegil",
           986.2681
          ],
          [
           "Fuentecambrón",
           1016.823
          ],
          [
           "Fuentecantos",
           1030.378
          ],
          [
           "Fuentelmonge",
           866.837
          ],
          [
           "Fuentelsaz de Soria",
           1072.903
          ],
          [
           "Fuentepinilla",
           938.7756
          ],
          [
           "Fuentes de Magaña",
           1142.983
          ],
          [
           "Fuentestrún",
           1010.144
          ],
          [
           "Garray",
           1013.721
          ],
          [
           "Golmayo",
           1051.163
          ],
          [
           "Gómara",
           1048.483
          ],
          [
           "Gormaz",
           957.7652
          ],
          [
           "Herrera de Soria",
           1094.928
          ],
          [
           "Hinojosa del Campo",
           1033.897
          ],
          [
           "Langa de Duero",
           844.9768
          ],
          [
           "Liceras",
           1125.616
          ],
          [
           "Losilla, La",
           1175.729
          ],
          [
           "Magaña",
           954.0438
          ],
          [
           "Maján",
           1145.01
          ],
          [
           "Matalebreras",
           995.2419
          ],
          [
           "Matamala de Almazán",
           946.6416
          ],
          [
           "Medinaceli",
           1201.395
          ],
          [
           "Miño de Medinaceli",
           1158.736
          ],
          [
           "Miño de San Esteban",
           942.0782
          ],
          [
           "Molinos de Duero",
           1101.836
          ],
          [
           "Momblona",
           1063.584
          ],
          [
           "Monteagudo de las Vicarías",
           792.3184
          ],
          [
           "Montejo de Tiermes",
           1157.937
          ],
          [
           "Montenegro de Cameros",
           1243.88
          ],
          [
           "Morón de Almazán",
           1007.026
          ],
          [
           "Muriel de la Fuente",
           1018.385
          ],
          [
           "Muriel Viejo",
           1090.473
          ],
          [
           "Nafría de Ucero",
           1021.318
          ],
          [
           "Narros",
           1112.726
          ],
          [
           "Navaleno",
           1117.306
          ],
          [
           "Nepas",
           1041.625
          ],
          [
           "Nolay",
           1073.411
          ],
          [
           "Noviercas",
           1096.912
          ],
          [
           "Ólvega",
           1040.087
          ],
          [
           "Oncala",
           1300.732
          ],
          [
           "Pinilla del Campo",
           1047.87
          ],
          [
           "Portillo de Soria",
           1024.967
          ],
          [
           "Póveda de Soria, La",
           1298.482
          ],
          [
           "Pozalmuro",
           1049.624
          ],
          [
           "Quintana Redonda",
           1025.763
          ],
          [
           "Quintanas de Gormaz",
           937.9619
          ],
          [
           "Quiñonería",
           1182.47
          ],
          [
           "Rábanos, Los",
           1028.691
          ],
          [
           "Rebollar",
           1134.53
          ],
          [
           "Recuerda",
           897.7146
          ],
          [
           "Rello",
           1069.715
          ],
          [
           "Renieblas",
           1038.175
          ],
          [
           "Retortillo de Soria",
           1241.513
          ],
          [
           "Reznos",
           1054.53
          ],
          [
           "Riba de Escalote, La",
           1031.044
          ],
          [
           "Rioseco de Soria",
           1010.689
          ],
          [
           "Rollamienta",
           1140.99
          ],
          [
           "Royo, El",
           null
          ],
          [
           "Salduero",
           1103.849
          ],
          [
           "San Esteban de Gormaz",
           859.9746
          ],
          [
           "San Felices",
           925.8511
          ],
          [
           "San Leonardo de Yagüe",
           1040.925
          ],
          [
           "San Pedro Manrique",
           1075.933
          ],
          [
           "Santa Cruz de Yanguas",
           1215.854
          ],
          [
           "Santa María de Huerta",
           771.3453
          ],
          [
           "Santa María de las Hoyas",
           1071.299
          ],
          [
           "Serón de Nágima",
           948.1932
          ],
          [
           "Soliedra",
           1099.303
          ],
          [
           "Soria",
           1064.823
          ],
          [
           "Sotillo del Rincón",
           1112.06
          ],
          [
           "Suellacabras",
           1196.337
          ],
          [
           "Tajahuerce",
           1055.238
          ],
          [
           "Tajueco",
           931.3216
          ],
          [
           "Talveila",
           1065.593
          ],
          [
           "Tardelcuende",
           994.6984
          ],
          [
           "Taroda",
           1028.943
          ],
          [
           "Tejado",
           989.0667
          ],
          [
           "Torlengua",
           863.2959
          ],
          [
           "Torreblacos",
           971.5205
          ],
          [
           "Torrubia de Soria",
           1045.725
          ],
          [
           "Trévago",
           1043.339
          ],
          [
           "Ucero",
           963.3094
          ],
          [
           "Vadillo",
           1103.603
          ],
          [
           "Valdeavellano de Tera",
           1141.217
          ],
          [
           "Valdegeña",
           1065.195
          ],
          [
           "Valdelagua del Cerro",
           1119.735
          ],
          [
           "Valdemaluque",
           946.3261
          ],
          [
           "Valdenebro",
           935.8683
          ],
          [
           "Valdeprado",
           844.049
          ],
          [
           "Valderrodilla",
           936.3094
          ],
          [
           "Valtajeros",
           1243.831
          ],
          [
           "Velamazán",
           975.5469
          ],
          [
           "Velilla de la Sierra",
           1032.823
          ],
          [
           "Velilla de los Ajos",
           1002.944
          ],
          [
           "Viana de Duero",
           992.69
          ],
          [
           "Villaciervos",
           1182.621
          ],
          [
           "Villanueva de Gormaz",
           967.6007
          ],
          [
           "Villar del Ala",
           1147.78
          ],
          [
           "Villar del Campo",
           1035.49
          ],
          [
           "Villar del Río",
           1008.998
          ],
          [
           "Villares de Soria, Los",
           1060.938
          ],
          [
           "Villasayas",
           1026.527
          ],
          [
           "Villaseca de Arciel",
           1006.2
          ],
          [
           "Vinuesa",
           1105.639
          ],
          [
           "Vizmanos",
           1200.711
          ],
          [
           "Vozmediano",
           884.5366
          ],
          [
           "Yanguas",
           988.0257
          ],
          [
           "Yelo",
           1124.461
          ],
          [
           "Aiguamúrcia",
           275.8484
          ],
          [
           "Albinyana",
           164.6246
          ],
          [
           "Albiol, L'",
           820.2056
          ],
          [
           "Alcanar",
           76.73789
          ],
          [
           "Alcover",
           243.6683
          ],
          [
           "Aldover",
           22.51767
          ],
          [
           "Aleixar, L'",
           265.6363
          ],
          [
           "Alfara de Carles",
           330.2164
          ],
          [
           "Alforja",
           377.2571
          ],
          [
           "Alió",
           260.8962
          ],
          [
           "Almoster",
           279.3624
          ],
          [
           "Altafulla",
           40.74033
          ],
          [
           "Ametlla de Mar, L'",
           22.80147
          ],
          [
           "Amposta",
           13.08101
          ],
          [
           "Arbolí",
           722.0569
          ],
          [
           "Arboç, L'",
           159.0804
          ],
          [
           "Argentera, L'",
           343.2802
          ],
          [
           "Arnes",
           502.1081
          ],
          [
           "Ascó",
           47.97315
          ],
          [
           "Banyeres del Penedès",
           161.0753
          ],
          [
           "Barberà de la Conca",
           445.4714
          ],
          [
           "Batea",
           366.6695
          ],
          [
           "Bellmunt del Priorat",
           265.5596
          ],
          [
           "Bellvei",
           103.1995
          ],
          [
           "Benifallet",
           20.97804
          ],
          [
           "Benissanet",
           30.95802
          ],
          [
           "Bisbal de Falset, La",
           350.8352
          ],
          [
           "Bisbal del Penedès, La",
           186.8171
          ],
          [
           "Blancafort",
           428.1689
          ],
          [
           "Bonastre",
           178.1962
          ],
          [
           "Borges del Camp, Les",
           244.0695
          ],
          [
           "Bot",
           289.0362
          ],
          [
           "Botarell",
           191.7195
          ],
          [
           "Bràfim",
           241.3834
          ],
          [
           "Cabacés",
           321.5059
          ],
          [
           "Cabra del Camp",
           496.1121
          ],
          [
           "Calafell",
           49.04614
          ],
          [
           "Cambrils",
           8.722612
          ],
          [
           "Capafonts",
           744.4973
          ],
          [
           "Capçanes",
           216.5009
          ],
          [
           "Caseres",
           325.9239
          ],
          [
           "Castellvell del Camp",
           211.4699
          ],
          [
           "Catllar, El",
           74.44913
          ],
          [
           "Sénia, La",
           365.2491
          ],
          [
           "Colldejou",
           418.8255
          ],
          [
           "Conesa",
           703.0317
          ],
          [
           "Constantí",
           71.37662
          ],
          [
           "Corbera d'Ebre",
           298.1901
          ],
          [
           "Cornudella de Montsant",
           538.842
          ],
          [
           "Creixell",
           37.14136
          ],
          [
           "Cunit",
           13.48558
          ],
          [
           "Xerta",
           15.96906
          ],
          [
           "Duesaigües",
           257.8097
          ],
          [
           "Espluga de Francolí, L'",
           427.1004
          ],
          [
           "Falset",
           372
          ],
          [
           "Fatarella, La",
           506.5272
          ],
          [
           "Febró, La",
           740.9882
          ],
          [
           "Figuera, La",
           557.129
          ],
          [
           "Figuerola del Camp",
           494.4908
          ],
          [
           "Flix",
           89.04555
          ],
          [
           "Forès",
           812.8558
          ],
          [
           "Freginals",
           112.4258
          ],
          [
           "Galera, La",
           115
          ],
          [
           "Gandesa",
           377.5729
          ],
          [
           "Garcia",
           45.94114
          ],
          [
           "Garidells, Els",
           126.6692
          ],
          [
           "Ginestar",
           28.55884
          ],
          [
           "Godall",
           174.054
          ],
          [
           "Gratallops",
           315.0264
          ],
          [
           "Guiamets, Els",
           223.7729
          ],
          [
           "Horta de Sant Joan",
           524.2277
          ],
          [
           "Lloar, El",
           217.868
          ],
          [
           "Llorac",
           644.8692
          ],
          [
           "Llorenç del Penedès",
           164.474
          ],
          [
           "Margalef",
           377.8307
          ],
          [
           "Marçà",
           318.0693
          ],
          [
           "Mas de Barberans",
           360.4406
          ],
          [
           "Masdenverge",
           47.8704
          ],
          [
           "Masllorenç",
           308.2999
          ],
          [
           "Masó, La",
           113.9378
          ],
          [
           "Maspujols",
           203.1914
          ],
          [
           "Masroig, El",
           191.0335
          ],
          [
           "Milà, El",
           167.8536
          ],
          [
           "Miravet",
           31.31219
          ],
          [
           "Molar, El",
           221.6313
          ],
          [
           "Montblanc",
           352.0974
          ],
          [
           "Montbrió del Camp",
           136.6262
          ],
          [
           "Montferri",
           232.4649
          ],
          [
           "Montmell, El",
           433.5698
          ],
          [
           "Mont-ral",
           856.2275
          ],
          [
           "Mont-roig del Camp",
           99.48418
          ],
          [
           "Móra d'Ebre",
           51.02542
          ],
          [
           "Móra la Nova",
           39.38612
          ],
          [
           "Morell, El",
           100.157
          ],
          [
           "Morera de Montsant, La",
           753.5471
          ],
          [
           "Nou de Gaià, La",
           79.46999
          ],
          [
           "Nulles",
           226.6075
          ],
          [
           "Palma d'Ebre, La",
           338.6448
          ],
          [
           "Pallaresos, Els",
           125.749
          ],
          [
           "Passanant i Belltall",
           715.6676
          ],
          [
           "Paüls",
           306.6884
          ],
          [
           "Perafort",
           124.8244
          ],
          [
           "Perelló, El",
           151.6562
          ],
          [
           "Piles, Les",
           676.3849
          ],
          [
           "Pinell de Brai, El",
           176.9608
          ],
          [
           "Pira",
           395.6909
          ],
          [
           "Pla de Santa Maria, El",
           381.2327
          ],
          [
           "Pobla de Mafumet, La",
           100.1319
          ],
          [
           "Pobla de Massaluca, La",
           359.1324
          ],
          [
           "Pobla de Montornès, La",
           68.08212
          ],
          [
           "Poboleda",
           363.0493
          ],
          [
           "Pont d'Armentera, El",
           null
          ],
          [
           "Porrera",
           309.0124
          ],
          [
           "Pradell de la Teixeta",
           470.191
          ],
          [
           "Prades",
           949.0946
          ],
          [
           "Prat de Comte",
           347.2015
          ],
          [
           "Pratdip",
           235.3322
          ],
          [
           "Puigpelat",
           253.6263
          ],
          [
           "Querol",
           530.1125
          ],
          [
           "Rasquera",
           175.2991
          ],
          [
           "Renau",
           170.6811
          ],
          [
           "Reus",
           127.8296
          ],
          [
           "Riba, La",
           232.3366
          ],
          [
           "Riba-roja d'Ebre",
           88.89165
          ],
          [
           "Riera de Gaià, La",
           41
          ],
          [
           "Riudecanyes",
           187.1033
          ],
          [
           "Riudecols",
           296.2064
          ],
          [
           "Riudoms",
           113.1621
          ],
          [
           "Rocafort de Queralt",
           564.9393
          ],
          [
           "Roda de Berà",
           null
          ],
          [
           "Rodonyà",
           319.4084
          ],
          [
           "Roquetes",
           16.51928
          ],
          [
           "Rourell, El",
           114.257
          ],
          [
           "Salomó",
           168.8046
          ],
          [
           "Ràpita, La",
           null
          ],
          [
           "Sant Jaume dels Domenys",
           212.2896
          ],
          [
           "Santa Bàrbara",
           86.20828
          ],
          [
           "Santa Coloma de Queralt",
           687.3315
          ],
          [
           "Santa Oliva",
           97.12163
          ],
          [
           "Pontils",
           549.0671
          ],
          [
           "Sarral",
           468.9105
          ],
          [
           "Savallà del Comtat",
           815.1319
          ],
          [
           "Secuita, La",
           167.3639
          ],
          [
           "Selva del Camp, La",
           232.8907
          ],
          [
           "Senan",
           628.7389
          ],
          [
           "Solivella",
           492.9866
          ],
          [
           "Tarragona",
           26.26264
          ],
          [
           "Tivenys",
           15.66767
          ],
          [
           "Tivissa",
           317.5723
          ],
          [
           "Torre de Fontaubella, La",
           377.168
          ],
          [
           "Torre de l'Espanyol, La",
           155.5197
          ],
          [
           "Torredembarra",
           20.92576
          ],
          [
           "Torroja del Priorat",
           337.0303
          ],
          [
           "Tortosa",
           15.76711
          ],
          [
           "Ulldecona",
           143.1908
          ],
          [
           "Ulldemolins",
           644.6638
          ],
          [
           "Vallclara",
           626.184
          ],
          [
           "Vallfogona de Riucorb",
           579.2309
          ],
          [
           "Vallmoll",
           165.112
          ],
          [
           "Valls",
           226.6943
          ],
          [
           "Vandellòs i l'Hospitalet de l'Infant",
           270.6138
          ],
          [
           "Vendrell, El",
           55.17534
          ],
          [
           "Vespella de Gaià",
           176.4136
          ],
          [
           "Vilabella",
           256.6517
          ],
          [
           "Vilallonga del Camp",
           116.4445
          ],
          [
           "Vilanova d'Escornalbou",
           234.1977
          ],
          [
           "Vilanova de Prades",
           889.7278
          ],
          [
           "Vilaplana",
           367.4236
          ],
          [
           "Vila-rodona",
           257.237
          ],
          [
           "Vila-seca",
           46.76463
          ],
          [
           "Vilaverd",
           269.632
          ],
          [
           "Vilella Alta, La",
           326.739
          ],
          [
           "Vilella Baixa, La",
           207.4648
          ],
          [
           "Vilalba dels Arcs",
           454.0479
          ],
          [
           "Vimbodí i Poblet",
           479.068
          ],
          [
           "Vinebre",
           44.57071
          ],
          [
           "Vinyols i els Arcs",
           94.72616
          ],
          [
           "Deltebre",
           3
          ],
          [
           "Sant Jaume d'Enveja",
           3
          ],
          [
           "Camarles",
           8.301858
          ],
          [
           "Aldea, L'",
           10.09355
          ],
          [
           "Salou",
           5.432057
          ],
          [
           "Ampolla, L'",
           7.180099
          ],
          [
           "Canonja, La",
           null
          ],
          [
           "Ababuj",
           1368.157
          ],
          [
           "Abejuela",
           1164.137
          ],
          [
           "Aguatón",
           1226.572
          ],
          [
           "Aguaviva",
           547.9809
          ],
          [
           "Aguilar del Alfambra",
           1299.894
          ],
          [
           "Alacón",
           685.4042
          ],
          [
           "Alba",
           978.1422
          ],
          [
           "Albalate del Arzobispo",
           347.3883
          ],
          [
           "Albarracín",
           1157.773
          ],
          [
           "Albentosa",
           951.7792
          ],
          [
           "Alcaine",
           652.5018
          ],
          [
           "Alcalá de la Selva",
           1403.888
          ],
          [
           "Alcañiz",
           341.0952
          ],
          [
           "Alcorisa",
           639.8223
          ],
          [
           "Alfambra",
           1045.46
          ],
          [
           "Aliaga",
           1111.888
          ],
          [
           "Almohaja",
           1198.996
          ],
          [
           "Alobras",
           1108.156
          ],
          [
           "Alpeñés",
           1228.397
          ],
          [
           "Allepuz",
           1449.011
          ],
          [
           "Alloza",
           664.2663
          ],
          [
           "Allueva",
           1199.221
          ],
          [
           "Anadón",
           1114.096
          ],
          [
           "Andorra",
           721.1627
          ],
          [
           "Arcos de las Salinas",
           1062.09
          ],
          [
           "Arens de Lledó",
           365.9177
          ],
          [
           "Argente",
           1250.66
          ],
          [
           "Ariño",
           524.2899
          ],
          [
           "Azaila",
           275.2942
          ],
          [
           "Bádenas",
           1000.731
          ],
          [
           "Báguena",
           806.7857
          ],
          [
           "Bañón",
           1136.515
          ],
          [
           "Barrachina",
           1043.846
          ],
          [
           "Bea",
           1130.035
          ],
          [
           "Beceite",
           556.1799
          ],
          [
           "Belmonte de San José",
           658.2455
          ],
          [
           "Bello",
           1007.419
          ],
          [
           "Berge",
           719.4134
          ],
          [
           "Bezas",
           1175.002
          ],
          [
           "Blancas",
           1049.592
          ],
          [
           "Blesa",
           770.5961
          ],
          [
           "Bordón",
           821.2313
          ],
          [
           "Bronchales",
           1574.81
          ],
          [
           "Bueña",
           1221.145
          ],
          [
           "Burbáguena",
           817.4083
          ],
          [
           "Cabra de Mora",
           1092.803
          ],
          [
           "Calaceite",
           515.0114
          ],
          [
           "Calamocha",
           885.8004
          ],
          [
           "Calanda",
           459.9382
          ],
          [
           "Calomarde",
           1319.318
          ],
          [
           "Camañas",
           1234.744
          ],
          [
           "Camarena de la Sierra",
           1299.181
          ],
          [
           "Camarillas",
           1322.207
          ],
          [
           "Caminreal",
           922.4971
          ],
          [
           "Cantavieja",
           1303.577
          ],
          [
           "Cañada de Benatanduz",
           1420.062
          ],
          [
           "Cañada de Verich, La",
           743.9012
          ],
          [
           "Cañada Vellida",
           1314.846
          ],
          [
           "Cañizar del Olivar",
           961.6534
          ],
          [
           "Cascante del Río",
           986.0148
          ],
          [
           "Castejón de Tornos",
           1084.944
          ],
          [
           "Castel de Cabra",
           1089.548
          ],
          [
           "Castelnou",
           194.6102
          ],
          [
           "Castelserás",
           359.8336
          ],
          [
           "Castellar, El",
           1246.68
          ],
          [
           "Castellote",
           791.4321
          ],
          [
           "Cedrillas",
           1353.48
          ],
          [
           "Celadas",
           1119.179
          ],
          [
           "Cella",
           1033.89
          ],
          [
           "Cerollera, La",
           846.5733
          ],
          [
           "Codoñera, La",
           499.7471
          ],
          [
           "Corbalán",
           1262.557
          ],
          [
           "Cortes de Aragón",
           930.5992
          ],
          [
           "Cosa",
           1192.21
          ],
          [
           "Cretas",
           569.0511
          ],
          [
           "Crivillén",
           795.6636
          ],
          [
           "Cuba, La",
           878.1436
          ],
          [
           "Cubla",
           1095.818
          ],
          [
           "Cucalón",
           1034.456
          ],
          [
           "Cuervo, El",
           909.1442
          ],
          [
           "Cuevas de Almudén",
           1274.424
          ],
          [
           "Cuevas Labradas",
           967.5995
          ],
          [
           "Ejulve",
           1111.811
          ],
          [
           "Escorihuela",
           1135.115
          ],
          [
           "Escucha",
           1070.983
          ],
          [
           "Estercuel",
           822.3273
          ],
          [
           "Ferreruela de Huerva",
           1016.397
          ],
          [
           "Fonfría",
           1248.398
          ],
          [
           "Formiche Alto",
           1119.593
          ],
          [
           "Fórnoles",
           713.966
          ],
          [
           "Fortanete",
           1366.681
          ],
          [
           "Foz-Calanda",
           503.1189
          ],
          [
           "Fresneda, La",
           551.9633
          ],
          [
           "Frías de Albarracín",
           1459.496
          ],
          [
           "Fuenferrada",
           1109.536
          ],
          [
           "Fuentes Calientes",
           1218.51
          ],
          [
           "Fuentes Claras",
           911.9739
          ],
          [
           "Fuentes de Rubielos",
           960.2522
          ],
          [
           "Fuentespalda",
           717.0623
          ],
          [
           "Galve",
           1184.569
          ],
          [
           "Gargallo",
           944.585
          ],
          [
           "Gea de Albarracín",
           1039.181
          ],
          [
           "Ginebrosa, La",
           706.7698
          ],
          [
           "Griegos",
           1601.854
          ],
          [
           "Guadalaviar",
           1526.078
          ],
          [
           "Gúdar",
           1583.481
          ],
          [
           "Híjar",
           286.6444
          ],
          [
           "Hinojosa de Jarque",
           1217.436
          ],
          [
           "Hoz de la Vieja, La",
           932.5383
          ],
          [
           "Huesa del Común",
           874.5453
          ],
          [
           "Iglesuela del Cid, La",
           1231.687
          ],
          [
           "Jabaloyas",
           1405.788
          ],
          [
           "Jarque de la Val",
           1263.365
          ],
          [
           "Jatiel",
           209.4427
          ],
          [
           "Jorcas",
           1337.114
          ],
          [
           "Josa",
           772.5401
          ],
          [
           "Lagueruela",
           1070.561
          ],
          [
           "Lanzuela",
           1013.573
          ],
          [
           "Libros",
           780.3804
          ],
          [
           "Lidón",
           1210.994
          ],
          [
           "Linares de Mora",
           1315.215
          ],
          [
           "Loscos",
           982.0676
          ],
          [
           "Lledó",
           462.8823
          ],
          [
           "Maicas",
           956.8483
          ],
          [
           "Manzanera",
           992.3011
          ],
          [
           "Martín del Río",
           916.4581
          ],
          [
           "Mas de las Matas",
           501.934
          ],
          [
           "Mata de los Olmos, La",
           906.572
          ],
          [
           "Mata de los Olmos, La",
           867.6914
          ],
          [
           "Mazaleón",
           351.4925
          ],
          [
           "Mezquita de Jarque",
           1257.285
          ],
          [
           "Mirambel",
           917.4668
          ],
          [
           "Miravete de la Sierra",
           1224.324
          ],
          [
           "Molinos",
           845.5135
          ],
          [
           "Monforte de Moyuela",
           1010.717
          ],
          [
           "Monreal del Campo",
           944.271
          ],
          [
           "Monroyo",
           863.434
          ],
          [
           "Montalbán",
           852.6946
          ],
          [
           "Monteagudo del Castillo",
           1463.322
          ],
          [
           "Monterde de Albarracín",
           1284.938
          ],
          [
           "Mora de Rubielos",
           1052.556
          ],
          [
           "Moscardón",
           1402.289
          ],
          [
           "Mosqueruela",
           1476.994
          ],
          [
           "Muniesa",
           785.425
          ],
          [
           "Noguera de Albarracín",
           1394.706
          ],
          [
           "Nogueras",
           855.6604
          ],
          [
           "Nogueruelas",
           1136.51
          ],
          [
           "Obón",
           690.8731
          ],
          [
           "Odón",
           1091.026
          ],
          [
           "Ojos Negros",
           1155.657
          ],
          [
           "Olba",
           657.7572
          ],
          [
           "Oliete",
           544.2368
          ],
          [
           "Olmos, Los",
           null
          ],
          [
           "Orihuela del Tremedal",
           1444.746
          ],
          [
           "Orrios",
           1054.297
          ],
          [
           "Palomar de Arroyos",
           1206.51
          ],
          [
           "Pancrudo",
           1238.756
          ],
          [
           "Parras de Castellote, Las",
           703.3917
          ],
          [
           "Peñarroya de Tastavins",
           743.4257
          ],
          [
           "Peracense",
           1219.819
          ],
          [
           "Peralejos",
           1004.824
          ],
          [
           "Perales del Alfambra",
           1167.249
          ],
          [
           "Pitarque",
           994.9604
          ],
          [
           "Plou",
           905.438
          ],
          [
           "Pobo, El",
           1397.511
          ],
          [
           "Portellada, La",
           576.3449
          ],
          [
           "Pozondón",
           1410.839
          ],
          [
           "Pozuel del Campo",
           1115.931
          ],
          [
           "Puebla de Híjar, La",
           249.8602
          ],
          [
           "Puebla de Valverde, La",
           1122.581
          ],
          [
           "Puertomingalvo",
           1452.379
          ],
          [
           "Ráfales",
           630.261
          ],
          [
           "Rillo",
           1271.442
          ],
          [
           "Riodeva",
           973.0439
          ],
          [
           "Ródenas",
           1372.425
          ],
          [
           "Royuela",
           1214.825
          ],
          [
           "Rubiales",
           1156.471
          ],
          [
           "Rubielos de la Cérida",
           1230.612
          ],
          [
           "Rubielos de Mora",
           940.7538
          ],
          [
           "Salcedillo",
           1194.813
          ],
          [
           "Saldón",
           1406.871
          ],
          [
           "Samper de Calanda",
           253.1136
          ],
          [
           "San Agustín",
           968.0305
          ],
          [
           "San Martín del Río",
           784.4639
          ],
          [
           "Santa Cruz de Nogueras",
           888.4601
          ],
          [
           "Santa Eulalia",
           988.6647
          ],
          [
           "Sarrión",
           988.1364
          ],
          [
           "Segura de los Baños",
           1122.329
          ],
          [
           "Seno",
           799.8929
          ],
          [
           "Singra",
           1041.093
          ],
          [
           "Terriente",
           1435.32
          ],
          [
           "Teruel",
           927.4562
          ],
          [
           "Toril y Masegoso",
           1488.103
          ],
          [
           "Tormón",
           1062.348
          ],
          [
           "Tornos",
           1023.637
          ],
          [
           "Torralba de los Sisones",
           1046.971
          ],
          [
           "Torrecilla de Alcañiz",
           443.3759
          ],
          [
           "Torrecilla del Rebollar",
           1146.378
          ],
          [
           "Torre de Arcas",
           743.3999
          ],
          [
           "Torre de las Arcas",
           952.6594
          ],
          [
           "Torre del Compte",
           504.8756
          ],
          [
           "Torrelacárcel",
           980.6982
          ],
          [
           "Torre los Negros",
           1082.536
          ],
          [
           "Torremocha de Jiloca",
           983.9276
          ],
          [
           "Torres de Albarracín",
           1228.083
          ],
          [
           "Torrevelilla",
           610.9653
          ],
          [
           "Torrijas",
           1356.925
          ],
          [
           "Torrijo del Campo",
           923.381
          ],
          [
           "Tramacastiel",
           887.387
          ],
          [
           "Tramacastilla",
           1251.911
          ],
          [
           "Tronchón",
           1096.603
          ],
          [
           "Urrea de Gaén",
           313.7285
          ],
          [
           "Utrillas",
           945.4211
          ],
          [
           "Valacloche",
           1003.039
          ],
          [
           "Valbona",
           951.9821
          ],
          [
           "Valdealgorfa",
           513.6993
          ],
          [
           "Valdecuenca",
           1329.863
          ],
          [
           "Valdelinares",
           1699.088
          ],
          [
           "Valdeltormo",
           426.9926
          ],
          [
           "Valderrobres",
           506.0121
          ],
          [
           "Valjunquera",
           557.3394
          ],
          [
           "Vallecillo, El",
           1435.69
          ],
          [
           "Veguillas de la Sierra",
           1267.169
          ],
          [
           "Villafranca del Campo",
           962.5623
          ],
          [
           "Villahermosa del Campo",
           957.9505
          ],
          [
           "Villanueva del Rebollar de la Sierra",
           1090.223
          ],
          [
           "Villar del Cobo",
           1437.745
          ],
          [
           "Villar del Salz",
           1215.276
          ],
          [
           "Villarluengo",
           1112.27
          ],
          [
           "Villarquemado",
           998.2739
          ],
          [
           "Villarroya de los Pinares",
           1326.217
          ],
          [
           "Villastar",
           860.7039
          ],
          [
           "Villel",
           839.2695
          ],
          [
           "Vinaceite",
           303.0283
          ],
          [
           "Visiedo",
           1187.011
          ],
          [
           "Vivel del Río Martín",
           974.8438
          ],
          [
           "Zoma, La",
           1144.094
          ],
          [
           "Ajofrín",
           771.9454
          ],
          [
           "Alameda de la Sagra",
           595.9953
          ],
          [
           "Albarreal de Tajo",
           452.7595
          ],
          [
           "Alcabón",
           529.2844
          ],
          [
           "Alcañizo",
           373.982
          ],
          [
           "Alcaudete de la Jara",
           408.8566
          ],
          [
           "Alcolea de Tajo",
           353.2964
          ],
          [
           "Aldea en Cabo",
           478.3156
          ],
          [
           "Aldeanueva de Barbarroya",
           492.4827
          ],
          [
           "Aldeanueva de San Bartolomé",
           572.8758
          ],
          [
           "Almendral de la Cañada",
           625.25
          ],
          [
           "Almonacid de Toledo",
           715.1904
          ],
          [
           "Almorox",
           535.3524
          ],
          [
           "Añover de Tajo",
           591.5134
          ],
          [
           "Arcicóllar",
           543.9216
          ],
          [
           "Argés",
           653.7512
          ],
          [
           "Azután",
           337.5748
          ],
          [
           "Barcience",
           517.1357
          ],
          [
           "Bargas",
           599.7254
          ],
          [
           "Belvís de la Jara",
           451.4582
          ],
          [
           "Borox",
           582.6509
          ],
          [
           "Buenaventura",
           433.1037
          ],
          [
           "Burguillos de Toledo",
           679.2315
          ],
          [
           "Burujón",
           501.4543
          ],
          [
           "Cabañas de la Sagra",
           551
          ],
          [
           "Cabañas de Yepes",
           706.7368
          ],
          [
           "Cabezamesada",
           736.1016
          ],
          [
           "Calera y Chozas",
           394.1816
          ],
          [
           "Caleruela",
           374.1803
          ],
          [
           "Calzada de Oropesa",
           351.9175
          ],
          [
           "Camarena",
           575.9206
          ],
          [
           "Camarenilla",
           509.2571
          ],
          [
           "Campillo de la Jara, El",
           651.1703
          ],
          [
           "Camuñas",
           672.9465
          ],
          [
           "Cardiel de los Montes",
           407.2493
          ],
          [
           "Carmena",
           562
          ],
          [
           "Carpio de Tajo, El",
           482.838
          ],
          [
           "Carranque",
           660.4978
          ],
          [
           "Carriches",
           553.2783
          ],
          [
           "Casar de Escalona, El",
           466.5611
          ],
          [
           "Casarrubios del Monte",
           616.3093
          ],
          [
           "Casasbuenas",
           687.2794
          ],
          [
           "Castillo de Bayuela",
           549.2681
          ],
          [
           "Cazalegas",
           440.9979
          ],
          [
           "Cebolla",
           428.8371
          ],
          [
           "Cedillo del Condado",
           647.5012
          ],
          [
           "Cerralbos, Los",
           465.1712
          ],
          [
           "Cervera de los Montes",
           536.5416
          ],
          [
           "Ciruelos",
           708.9604
          ],
          [
           "Cobeja",
           508.5462
          ],
          [
           "Cobisa",
           676.1328
          ],
          [
           "Consuegra",
           709.5399
          ],
          [
           "Corral de Almaguer",
           705.971
          ],
          [
           "Cuerva",
           773.9889
          ],
          [
           "Chozas de Canales",
           544.3453
          ],
          [
           "Chueca",
           742.0029
          ],
          [
           "Domingo Pérez",
           497.8713
          ],
          [
           "Dosbarrios",
           709.6131
          ],
          [
           "Erustes",
           536.0446
          ],
          [
           "Escalona",
           463.5558
          ],
          [
           "Escalonilla",
           547.6719
          ],
          [
           "Espinoso del Rey",
           724.8951
          ],
          [
           "Esquivias",
           611.5911
          ],
          [
           "Estrella, La",
           549.2997
          ],
          [
           "Fuensalida",
           595.3815
          ],
          [
           "Gálvez",
           709.8111
          ],
          [
           "Garciotum",
           468.3595
          ],
          [
           "Gerindote",
           552.425
          ],
          [
           "Guadamur",
           636.7328
          ],
          [
           "Guardia, La",
           697.0734
          ],
          [
           "Herencias, Las",
           358.7523
          ],
          [
           "Herreruela de Oropesa",
           378.2414
          ],
          [
           "Hinojosa de San Vicente",
           659.1536
          ],
          [
           "Hontanar",
           840.3611
          ],
          [
           "Hormigos",
           464.7229
          ],
          [
           "Huecas",
           552.931
          ],
          [
           "Huerta de Valdecarábanos",
           627.6873
          ],
          [
           "Iglesuela del Tiétar, La",
           null
          ],
          [
           "Illán de Vacas",
           480.7694
          ],
          [
           "Illescas",
           592.8992
          ],
          [
           "Lagartera",
           396.1818
          ],
          [
           "Layos",
           651.8649
          ],
          [
           "Lillo",
           685.3505
          ],
          [
           "Lominchar",
           646.8894
          ],
          [
           "Lucillos",
           477.0321
          ],
          [
           "Madridejos",
           688.0627
          ],
          [
           "Magán",
           483.2254
          ],
          [
           "Malpica de Tajo",
           397.5589
          ],
          [
           "Manzaneque",
           718.4171
          ],
          [
           "Maqueda",
           489.5274
          ],
          [
           "Marjaliza",
           857.3539
          ],
          [
           "Marrupe",
           592.5861
          ],
          [
           "Mascaraque",
           714.0005
          ],
          [
           "Mata, La",
           567.7911
          ],
          [
           "Mazarambroz",
           778.5905
          ],
          [
           "Mejorada",
           548.898
          ],
          [
           "Menasalbas",
           704.96
          ],
          [
           "Méntrida",
           533.4263
          ],
          [
           "Mesegar de Tajo",
           482.0789
          ],
          [
           "Miguel Esteban",
           682.11
          ],
          [
           "Mocejón",
           481.0487
          ],
          [
           "Mohedas de la Jara",
           643.3585
          ],
          [
           "Montearagón",
           432.5179
          ],
          [
           "Montesclaros",
           558.0593
          ],
          [
           "Mora",
           722.1462
          ],
          [
           "Nambroca",
           677.4409
          ],
          [
           "Nava de Ricomalillo, La",
           650.6389
          ],
          [
           "Navahermosa",
           735.2842
          ],
          [
           "Navalcán",
           394.0665
          ],
          [
           "Navalmoralejo",
           427.2085
          ],
          [
           "Navalmorales, Los",
           659.6473
          ],
          [
           "Navalucillos, Los",
           742.7283
          ],
          [
           "Navamorcuende",
           771.2516
          ],
          [
           "Noblejas",
           743.8586
          ],
          [
           "Noez",
           757.0864
          ],
          [
           "Nombela",
           492.1309
          ],
          [
           "Novés",
           566.3942
          ],
          [
           "Numancia de la Sagra",
           526
          ],
          [
           "Nuño Gómez",
           473.3011
          ],
          [
           "Ocaña",
           735.3221
          ],
          [
           "Olías del Rey",
           592.4843
          ],
          [
           "Ontígola",
           609.2897
          ],
          [
           "Orgaz",
           748.8485
          ],
          [
           "Oropesa",
           421.104
          ],
          [
           "Otero",
           463.8867
          ],
          [
           "Palomeque",
           609.2781
          ],
          [
           "Pantoja",
           523.6249
          ],
          [
           "Paredes de Escalona",
           488.917
          ],
          [
           "Parrillas",
           397.2186
          ],
          [
           "Pelahustán",
           673.2676
          ],
          [
           "Pepino",
           444.1442
          ],
          [
           "Polán",
           652.066
          ],
          [
           "Portillo de Toledo",
           594.792
          ],
          [
           "Puebla de Almoradiel, La",
           695.3882
          ],
          [
           "Puebla de Montalbán, La",
           496.2206
          ],
          [
           "Pueblanueva, La",
           483.6057
          ],
          [
           "Puente del Arzobispo, El",
           338.4842
          ],
          [
           "Puerto de San Vicente",
           752.8705
          ],
          [
           "Pulgar",
           724.0479
          ],
          [
           "Quero",
           648.4975
          ],
          [
           "Quintanar de la Orden",
           696
          ],
          [
           "Quismondo",
           549.3548
          ],
          [
           "Real de San Vicente, El",
           755.4675
          ],
          [
           "Recas",
           567.7425
          ],
          [
           "Retamoso de la Jara",
           608.0787
          ],
          [
           "Rielves",
           495.0737
          ],
          [
           "Robledo del Mazo",
           733.2631
          ],
          [
           "Romeral, El",
           662
          ],
          [
           "San Bartolomé de las Abiertas",
           555.0835
          ],
          [
           "San Martín de Montalbán",
           655.0389
          ],
          [
           "San Martín de Pusa",
           501.6586
          ],
          [
           "San Pablo de los Montes",
           910.0876
          ],
          [
           "San Román de los Montes",
           452.9428
          ],
          [
           "Santa Ana de Pusa",
           579.5608
          ],
          [
           "Santa Cruz de la Zarza",
           778.1476
          ],
          [
           "Santa Cruz del Retamar",
           596.1041
          ],
          [
           "Santa Olalla",
           487.3168
          ],
          [
           "Sartajada",
           460.2389
          ],
          [
           "Segurilla",
           566.5943
          ],
          [
           "Seseña",
           612.9283
          ],
          [
           "Sevilleja de la Jara",
           670.1891
          ],
          [
           "Sonseca",
           759.9934
          ],
          [
           "Sotillo de las Palomas",
           565.0426
          ],
          [
           "Talavera de la Reina",
           373.9266
          ],
          [
           "Tembleque",
           638.9656
          ],
          [
           "Toboso, El",
           null
          ],
          [
           "Toledo",
           524.0618
          ],
          [
           "Torralba de Oropesa",
           378.0818
          ],
          [
           "Torrecilla de la Jara",
           642.9003
          ],
          [
           "Torre de Esteban Hambrán, La",
           560.457
          ],
          [
           "Torrico",
           443.2747
          ],
          [
           "Torrijos",
           531.6115
          ],
          [
           "Totanés",
           730.3002
          ],
          [
           "Turleque",
           693.6431
          ],
          [
           "Ugena",
           656.1516
          ],
          [
           "Urda",
           767.5526
          ],
          [
           "Valdeverdeja",
           477.4793
          ],
          [
           "Valmojado",
           657.4002
          ],
          [
           "Velada",
           438.305
          ],
          [
           "Ventas con Peña Aguilera, Las",
           792.7462
          ],
          [
           "Ventas de Retamosa, Las",
           625.0803
          ],
          [
           "Ventas de San Julián, Las",
           313.025
          ],
          [
           "Villacañas",
           667.0467
          ],
          [
           "Villa de Don Fadrique, La",
           674.587
          ],
          [
           "Villafranca de los Caballeros",
           646.3422
          ],
          [
           "Villaluenga de la Sagra",
           528
          ],
          [
           "Villamiel de Toledo",
           486.4659
          ],
          [
           "Villaminaya",
           728.4374
          ],
          [
           "Villamuelas",
           591.9915
          ],
          [
           "Villanueva de Alcardete",
           728.4774
          ],
          [
           "Villanueva de Bogas",
           655.7781
          ],
          [
           "Villarejo de Montalbán",
           533.8467
          ],
          [
           "Villarrubia de Santiago",
           755.729
          ],
          [
           "Villaseca de la Sagra",
           485.9981
          ],
          [
           "Villasequilla",
           510.8198
          ],
          [
           "Villatobas",
           736.1024
          ],
          [
           "Viso de San Juan, El",
           652.3853
          ],
          [
           "Yébenes, Los",
           820.0996
          ],
          [
           "Yeles",
           551.9601
          ],
          [
           "Yepes",
           698.4963
          ],
          [
           "Yuncler",
           536.7993
          ],
          [
           "Yunclillos",
           515.6655
          ],
          [
           "Yuncos",
           546.3137
          ],
          [
           "Santo Domingo-Caudilla",
           547.0987
          ],
          [
           "Ademuz",
           null
          ],
          [
           "Ador",
           null
          ],
          [
           "Atzeneta d'Albaida",
           null
          ],
          [
           "Agullent",
           null
          ],
          [
           "Alaquàs",
           null
          ],
          [
           "Albaida",
           null
          ],
          [
           "Albal",
           null
          ],
          [
           "Albalat de la Ribera",
           null
          ],
          [
           "Albalat dels Sorells",
           null
          ],
          [
           "Albalat dels Tarongers",
           null
          ],
          [
           "Alberic",
           null
          ],
          [
           "Alborache",
           null
          ],
          [
           "Alboraia/Alboraya",
           null
          ],
          [
           "Albuixech",
           null
          ],
          [
           "Alcàsser",
           null
          ],
          [
           "Alcàntera de Xúquer",
           null
          ],
          [
           "Alzira",
           null
          ],
          [
           "Alcublas",
           null
          ],
          [
           "Alcúdia, l'",
           null
          ],
          [
           "Alcúdia de Crespins, l'",
           null
          ],
          [
           "Aldaia",
           null
          ],
          [
           "Alfafar",
           null
          ],
          [
           "Alfauir",
           null
          ],
          [
           "Alfara de la Baronia",
           null
          ],
          [
           "Alfara del Patriarca",
           null
          ],
          [
           "Alfarb",
           null
          ],
          [
           "Alfarrasí",
           null
          ],
          [
           "Algar de Palància",
           null
          ],
          [
           "Algemesí",
           null
          ],
          [
           "Algímia d'Alfara",
           null
          ],
          [
           "Alginet",
           null
          ],
          [
           "Almàssera",
           null
          ],
          [
           "Almiserà",
           null
          ],
          [
           "Almoines",
           null
          ],
          [
           "Almussafes",
           null
          ],
          [
           "Alpuente",
           null
          ],
          [
           "Alqueria de la Comtessa, l'",
           null
          ],
          [
           "Andilla",
           null
          ],
          [
           "Anna",
           null
          ],
          [
           "Antella",
           null
          ],
          [
           "Aras de los Olmos",
           null
          ],
          [
           "Aielo de Malferit",
           null
          ],
          [
           "Aielo de Rugat",
           null
          ],
          [
           "Ayora",
           null
          ],
          [
           "Barxeta",
           null
          ],
          [
           "Barx",
           null
          ],
          [
           "Bèlgida",
           null
          ],
          [
           "Bellreguard",
           null
          ],
          [
           "Bellús",
           null
          ],
          [
           "Benagéber",
           null
          ],
          [
           "Benaguasil",
           null
          ],
          [
           "Benavites",
           null
          ],
          [
           "Beneixida",
           null
          ],
          [
           "Benetússer",
           null
          ],
          [
           "Beniarjó",
           null
          ],
          [
           "Beniatjar",
           null
          ],
          [
           "Benicolet",
           null
          ],
          [
           "Benifairó de les Valls",
           null
          ],
          [
           "Benifairó de la Valldigna",
           null
          ],
          [
           "Benifaió",
           null
          ],
          [
           "Beniflá",
           null
          ],
          [
           "Benigànim",
           null
          ],
          [
           "Benimodo",
           null
          ],
          [
           "Benimuslem",
           null
          ],
          [
           "Beniparrell",
           null
          ],
          [
           "Benirredrà",
           null
          ],
          [
           "Benissanó",
           null
          ],
          [
           "Benissoda",
           null
          ],
          [
           "Benissuera",
           null
          ],
          [
           "Bétera",
           null
          ],
          [
           "Bicorp",
           null
          ],
          [
           "Bocairent",
           null
          ],
          [
           "Bolbaite",
           null
          ],
          [
           "Bonrepòs i Mirambell",
           null
          ],
          [
           "Bufali",
           null
          ],
          [
           "Bugarra",
           null
          ],
          [
           "Buñol",
           null
          ],
          [
           "Burjassot",
           null
          ],
          [
           "Calles",
           null
          ],
          [
           "Camporrobles",
           null
          ],
          [
           "Canals",
           null
          ],
          [
           "Canet d'En Berenguer",
           null
          ],
          [
           "Carcaixent",
           null
          ],
          [
           "Càrcer",
           null
          ],
          [
           "Carlet",
           null
          ],
          [
           "Carrícola",
           null
          ],
          [
           "Casas Altas",
           null
          ],
          [
           "Casas Bajas",
           null
          ],
          [
           "Casinos",
           null
          ],
          [
           "Castelló de Rugat",
           null
          ],
          [
           "Castellonet de la Conquesta",
           null
          ],
          [
           "Castielfabib",
           null
          ],
          [
           "Catadau",
           null
          ],
          [
           "Catarroja",
           null
          ],
          [
           "Caudete de las Fuentes",
           null
          ],
          [
           "Cerdà",
           null
          ],
          [
           "Cofrentes",
           null
          ],
          [
           "Corbera",
           null
          ],
          [
           "Cortes de Pallás",
           null
          ],
          [
           "Cotes",
           null
          ],
          [
           "Quart de les Valls",
           null
          ],
          [
           "Quart de Poblet",
           null
          ],
          [
           "Quartell",
           null
          ],
          [
           "Quatretonda",
           null
          ],
          [
           "Cullera",
           null
          ],
          [
           "Chelva",
           null
          ],
          [
           "Chella",
           null
          ],
          [
           "Chera",
           null
          ],
          [
           "Cheste",
           null
          ],
          [
           "Xirivella",
           null
          ],
          [
           "Chiva",
           null
          ],
          [
           "Chulilla",
           null
          ],
          [
           "Daimús",
           null
          ],
          [
           "Domeño",
           null
          ],
          [
           "Dos Aguas",
           null
          ],
          [
           "Eliana, l'",
           null
          ],
          [
           "Emperador",
           null
          ],
          [
           "Enguera",
           null
          ],
          [
           "Énova, l'",
           null
          ],
          [
           "Estivella",
           null
          ],
          [
           "Estubeny",
           null
          ],
          [
           "Faura",
           null
          ],
          [
           "Favara",
           null
          ],
          [
           "Fontanars dels Alforins",
           null
          ],
          [
           "Fortaleny",
           null
          ],
          [
           "Foios",
           null
          ],
          [
           "Font d'en Carròs, la",
           null
          ],
          [
           "Font de la Figuera, la",
           null
          ],
          [
           "Fuenterrobles",
           null
          ],
          [
           "Gavarda",
           null
          ],
          [
           "Gandia",
           null
          ],
          [
           "Genovés, el",
           null
          ],
          [
           "Gestalgar",
           null
          ],
          [
           "Gilet",
           null
          ],
          [
           "Godella",
           null
          ],
          [
           "Godelleta",
           null
          ],
          [
           "Granja de la Costera, la",
           null
          ],
          [
           "Guadasséquies",
           null
          ],
          [
           "Guadassuar",
           null
          ],
          [
           "Guardamar de la Safor",
           null
          ],
          [
           "Higueruelas",
           null
          ],
          [
           "Jalance",
           null
          ],
          [
           "Xeraco",
           null
          ],
          [
           "Jarafuel",
           null
          ],
          [
           "Xàtiva",
           null
          ],
          [
           "Xeresa",
           null
          ],
          [
           "Llíria",
           null
          ],
          [
           "Loriguilla",
           null
          ],
          [
           "Losa del Obispo",
           null
          ],
          [
           "Llutxent",
           null
          ],
          [
           "Llocnou d'En Fenollet",
           null
          ],
          [
           "Llocnou de la Corona",
           null
          ],
          [
           "Llocnou de Sant Jeroni",
           null
          ],
          [
           "Llanera de Ranes",
           null
          ],
          [
           "Llaurí",
           null
          ],
          [
           "Llombai",
           null
          ],
          [
           "Llosa de Ranes, la",
           null
          ],
          [
           "Macastre",
           null
          ],
          [
           "Manises",
           null
          ],
          [
           "Manuel",
           null
          ],
          [
           "Marines",
           null
          ],
          [
           "Massalavés",
           null
          ],
          [
           "Massalfassar",
           null
          ],
          [
           "Massamagrell",
           null
          ],
          [
           "Massanassa",
           null
          ],
          [
           "Meliana",
           null
          ],
          [
           "Millares",
           null
          ],
          [
           "Miramar",
           null
          ],
          [
           "Mislata",
           null
          ],
          [
           "Moixent/Mogente",
           null
          ],
          [
           "Moncada",
           null
          ],
          [
           "Montserrat",
           null
          ],
          [
           "Montaverner",
           null
          ],
          [
           "Montesa",
           null
          ],
          [
           "Montitxelvo/Montichelvo",
           null
          ],
          [
           "Montroi/Montroy",
           null
          ],
          [
           "Museros",
           null
          ],
          [
           "Nàquera/Náquera",
           null
          ],
          [
           "Navarrés",
           null
          ],
          [
           "Novetlè",
           null
          ],
          [
           "Oliva",
           null
          ],
          [
           "Olocau",
           null
          ],
          [
           "Olleria, l'",
           null
          ],
          [
           "Ontinyent",
           null
          ],
          [
           "Otos",
           null
          ],
          [
           "Paiporta",
           null
          ],
          [
           "Palma de Gandía",
           null
          ],
          [
           "Palmera",
           null
          ],
          [
           "Palomar, el",
           null
          ],
          [
           "Paterna",
           null
          ],
          [
           "Pedralba",
           null
          ],
          [
           "Petrés",
           null
          ],
          [
           "Picanya",
           null
          ],
          [
           "Picassent",
           null
          ],
          [
           "Piles",
           null
          ],
          [
           "Pinet",
           null
          ],
          [
           "Polinyà de Xúquer",
           null
          ],
          [
           "Potries",
           null
          ],
          [
           "Pobla de Farnals, la",
           null
          ],
          [
           "Pobla del Duc, la",
           null
          ],
          [
           "Puebla de San Miguel",
           null
          ],
          [
           "Pobla de Vallbona, la",
           null
          ],
          [
           "Pobla Llarga, la",
           null
          ],
          [
           "Puig de Santa Maria, el",
           null
          ],
          [
           "Puçol",
           null
          ],
          [
           "Quesa",
           null
          ],
          [
           "Rafelbunyol",
           null
          ],
          [
           "Rafelcofer",
           null
          ],
          [
           "Rafelguaraf",
           null
          ],
          [
           "Ráfol de Salem",
           null
          ],
          [
           "Real de Gandia, el",
           null
          ],
          [
           "Real",
           null
          ],
          [
           "Requena",
           null
          ],
          [
           "Riba-roja de Túria",
           null
          ],
          [
           "Riola",
           null
          ],
          [
           "Rocafort",
           null
          ],
          [
           "Rotglà i Corberà",
           null
          ],
          [
           "Ròtova",
           null
          ],
          [
           "Rugat",
           null
          ],
          [
           "Sagunt/Sagunto",
           null
          ],
          [
           "Salem",
           null
          ],
          [
           "Sant Joanet",
           null
          ],
          [
           "Sedaví",
           null
          ],
          [
           "Segart",
           null
          ],
          [
           "Sellent",
           null
          ],
          [
           "Sempere",
           null
          ],
          [
           "Senyera",
           null
          ],
          [
           "Serra",
           null
          ],
          [
           "Siete Aguas",
           null
          ],
          [
           "Silla",
           null
          ],
          [
           "Simat de la Valldigna",
           null
          ],
          [
           "Sinarcas",
           null
          ],
          [
           "Sollana",
           null
          ],
          [
           "Sot de Chera",
           null
          ],
          [
           "Sueca",
           null
          ],
          [
           "Sumacàrcer",
           null
          ],
          [
           "Tavernes Blanques",
           null
          ],
          [
           "Tavernes de la Valldigna",
           null
          ],
          [
           "Teresa de Cofrentes",
           null
          ],
          [
           "Terrateig",
           null
          ],
          [
           "Titaguas",
           null
          ],
          [
           "Torrebaja",
           null
          ],
          [
           "Torrella",
           null
          ],
          [
           "Torrent",
           null
          ],
          [
           "Torres Torres",
           null
          ],
          [
           "Tous",
           null
          ],
          [
           "Tuéjar",
           null
          ],
          [
           "Turís",
           null
          ],
          [
           "Utiel",
           null
          ],
          [
           "València",
           null
          ],
          [
           "Vallada",
           null
          ],
          [
           "Vallanca",
           null
          ],
          [
           "Vallés",
           null
          ],
          [
           "Venta del Moro",
           null
          ],
          [
           "Vilallonga/Villalonga",
           null
          ],
          [
           "Vilamarxant",
           null
          ],
          [
           "Castelló",
           null
          ],
          [
           "Villar del Arzobispo",
           null
          ],
          [
           "Villargordo del Cabriel",
           null
          ],
          [
           "Vinalesa",
           null
          ],
          [
           "Yátova",
           null
          ],
          [
           "Yesa, La",
           null
          ],
          [
           "Zarra",
           null
          ],
          [
           "Gátova",
           null
          ],
          [
           "San Antonio de Benagéber",
           null
          ],
          [
           "Benicull de Xúquer",
           null
          ],
          [
           "Adalia",
           774.0638
          ],
          [
           "Aguasal",
           754.7618
          ],
          [
           "Aguilar de Campos",
           775.4413
          ],
          [
           "Alaejos",
           754.8231
          ],
          [
           "Alcazarén",
           739.1025
          ],
          [
           "Aldea de San Miguel",
           742.0247
          ],
          [
           "Aldeamayor de San Martín",
           705.3611
          ],
          [
           "Almenara de Adaja",
           780.494
          ],
          [
           "Amusquillo",
           775.3448
          ],
          [
           "Arroyo de la Encomienda",
           693.9595
          ],
          [
           "Ataquines",
           795.7349
          ],
          [
           "Bahabón",
           884.0493
          ],
          [
           "Barcial de la Loma",
           739.793
          ],
          [
           "Barruelo del Valle",
           821.5405
          ],
          [
           "Becilla de Valderaduey",
           735.9683
          ],
          [
           "Benafarces",
           737.5884
          ],
          [
           "Bercero",
           740.9147
          ],
          [
           "Berceruelo",
           775.9297
          ],
          [
           "Berrueces",
           770.9304
          ],
          [
           "Bobadilla del Campo",
           756.3861
          ],
          [
           "Bocigas",
           774.3849
          ],
          [
           "Bocos de Duero",
           756.6528
          ],
          [
           "Boecillo",
           725.8821
          ],
          [
           "Bolaños de Campos",
           712
          ],
          [
           "Brahojos de Medina",
           753.1693
          ],
          [
           "Bustillo de Chaves",
           817.1871
          ],
          [
           "Cabezón de Pisuerga",
           705.7026
          ],
          [
           "Cabezón de Valderaduey",
           756.4937
          ],
          [
           "Cabreros del Monte",
           729.8631
          ],
          [
           "Campaspero",
           901.7211
          ],
          [
           "Campillo, El",
           744.0497
          ],
          [
           "Camporredondo",
           803.1887
          ],
          [
           "Canalejas de Peñafiel",
           903.6031
          ],
          [
           "Canillas de Esgueva",
           810.6504
          ],
          [
           "Carpio",
           764.988
          ],
          [
           "Casasola de Arión",
           709.0289
          ],
          [
           "Castrejón de Trabancos",
           741.9911
          ],
          [
           "Castrillo de Duero",
           808.0878
          ],
          [
           "Castrillo-Tejeriego",
           790.9167
          ],
          [
           "Castrobol",
           773.2532
          ],
          [
           "Castrodeza",
           758.6043
          ],
          [
           "Castromembibre",
           783.701
          ],
          [
           "Castromonte",
           840.7011
          ],
          [
           "Castronuevo de Esgueva",
           756.0091
          ],
          [
           "Castronuño",
           679.5443
          ],
          [
           "Castroponce",
           739.4788
          ],
          [
           "Castroverde de Cerrato",
           781.6545
          ],
          [
           "Ceinos de Campos",
           764.9077
          ],
          [
           "Cervillego de la Cruz",
           756.5815
          ],
          [
           "Cigales",
           749.6985
          ],
          [
           "Ciguñuela",
           821.8818
          ],
          [
           "Cistérniga",
           737.3728
          ],
          [
           "Cogeces de Íscar",
           735.7125
          ],
          [
           "Cogeces del Monte",
           888.127
          ],
          [
           "Corcos",
           790.5931
          ],
          [
           "Corrales de Duero",
           815.4689
          ],
          [
           "Cubillas de Santa Marta",
           777.5655
          ],
          [
           "Cuenca de Campos",
           776.9031
          ],
          [
           "Curiel de Duero",
           791.8405
          ],
          [
           "Encinas de Esgueva",
           809.3292
          ],
          [
           "Esguevillas de Esgueva",
           781.1326
          ],
          [
           "Fombellida",
           796.8898
          ],
          [
           "Fompedraza",
           891.0166
          ],
          [
           "Fontihoyuelo",
           813.03
          ],
          [
           "Fresno el Viejo",
           761.5059
          ],
          [
           "Fuensaldaña",
           744.3545
          ],
          [
           "Fuente el Sol",
           759
          ],
          [
           "Fuente-Olmedo",
           795.1333
          ],
          [
           "Gallegos de Hornija",
           715.3704
          ],
          [
           "Gatón de Campos",
           760.637
          ],
          [
           "Geria",
           721.1685
          ],
          [
           "Herrín de Campos",
           776.4446
          ],
          [
           "Hornillos de Eresma",
           722.429
          ],
          [
           "Íscar",
           766.1356
          ],
          [
           "Laguna de Duero",
           704.4346
          ],
          [
           "Langayo",
           820.6713
          ],
          [
           "Lomoviejo",
           769.1982
          ],
          [
           "Llano de Olmedo",
           780.7407
          ],
          [
           "Manzanillo",
           793.6913
          ],
          [
           "Marzales",
           707.8522
          ],
          [
           "Matapozuelos",
           728.4459
          ],
          [
           "Matilla de los Caños",
           742.8641
          ],
          [
           "Mayorga",
           768.469
          ],
          [
           "Medina del Campo",
           723.588
          ],
          [
           "Medina de Rioseco",
           753.9636
          ],
          [
           "Megeces",
           743.8407
          ],
          [
           "Melgar de Abajo",
           806.2461
          ],
          [
           "Melgar de Arriba",
           793.4097
          ],
          [
           "Mojados",
           719.6595
          ],
          [
           "Monasterio de Vega",
           772.8459
          ],
          [
           "Montealegre de Campos",
           810.0027
          ],
          [
           "Montemayor de Pililla",
           868.4648
          ],
          [
           "Moral de la Reina",
           766.6082
          ],
          [
           "Moraleja de las Panaderas",
           731.7545
          ],
          [
           "Morales de Campos",
           748.6636
          ],
          [
           "Mota del Marqués",
           741.4532
          ],
          [
           "Mucientes",
           763.4631
          ],
          [
           "Mudarra, La",
           846.0627
          ],
          [
           "Muriel",
           777.2006
          ],
          [
           "Nava del Rey",
           746.9993
          ],
          [
           "Nueva Villa de las Torres",
           744.9686
          ],
          [
           "Olivares de Duero",
           743.037
          ],
          [
           "Olmedo",
           772.1889
          ],
          [
           "Olmos de Esgueva",
           732.9462
          ],
          [
           "Olmos de Peñafiel",
           790.216
          ],
          [
           "Palazuelo de Vedija",
           787.4673
          ],
          [
           "Parrilla, La",
           859.4028
          ],
          [
           "Pedraja de Portillo, La",
           719.7362
          ],
          [
           "Pedrajas de San Esteban",
           754
          ],
          [
           "Pedrosa del Rey",
           720.1923
          ],
          [
           "Peñafiel",
           760.3983
          ],
          [
           "Peñaflor de Hornija",
           840.8401
          ],
          [
           "Pesquera de Duero",
           747.1731
          ],
          [
           "Piña de Esgueva",
           749.317
          ],
          [
           "Piñel de Abajo",
           786.3028
          ],
          [
           "Piñel de Arriba",
           830.6583
          ],
          [
           "Pollos",
           669.3666
          ],
          [
           "Portillo",
           847.6613
          ],
          [
           "Pozal de Gallinas",
           728.573
          ],
          [
           "Pozaldez",
           790.4047
          ],
          [
           "Pozuelo de la Orden",
           724.2658
          ],
          [
           "Puras",
           803.8533
          ],
          [
           "Quintanilla de Arriba",
           741.261
          ],
          [
           "Quintanilla del Molar",
           747.7817
          ],
          [
           "Quintanilla de Onésimo",
           728.6448
          ],
          [
           "Quintanilla de Trigueros",
           795.2899
          ],
          [
           "Rábano",
           780.519
          ],
          [
           "Ramiro",
           760.1485
          ],
          [
           "Renedo de Esgueva",
           714
          ],
          [
           "Roales de Campos",
           743.9281
          ],
          [
           "Robladillo",
           773.9286
          ],
          [
           "Roturas",
           824.9166
          ],
          [
           "Rubí de Bracamonte",
           754.1117
          ],
          [
           "Rueda",
           736.6745
          ],
          [
           "Saelices de Mayorga",
           769.856
          ],
          [
           "Salvador de Zapardiel",
           771.4283
          ],
          [
           "San Cebrián de Mazote",
           763.8837
          ],
          [
           "San Llorente",
           881.8113
          ],
          [
           "San Martín de Valvení",
           736.2048
          ],
          [
           "San Miguel del Arroyo",
           823.384
          ],
          [
           "San Miguel del Pino",
           677.4659
          ],
          [
           "San Pablo de la Moraleja",
           795.316
          ],
          [
           "San Pedro de Latarce",
           708.7725
          ],
          [
           "San Pelayo",
           772.2509
          ],
          [
           "San Román de Hornija",
           672.574
          ],
          [
           "San Salvador",
           722.0958
          ],
          [
           "Santa Eufemia del Arroyo",
           714.4111
          ],
          [
           "Santervás de Campos",
           767.0978
          ],
          [
           "Santibáñez de Valcorba",
           749.9538
          ],
          [
           "Santovenia de Pisuerga",
           695.9589
          ],
          [
           "San Vicente del Palacio",
           747
          ],
          [
           "Sardón de Duero",
           720.0624
          ],
          [
           "Seca, La",
           733.1006
          ],
          [
           "Serrada",
           726.9307
          ],
          [
           "Siete Iglesias de Trabancos",
           726.464
          ],
          [
           "Simancas",
           715.7623
          ],
          [
           "Tamariz de Campos",
           750.1976
          ],
          [
           "Tiedra",
           821.9064
          ],
          [
           "Tordehumos",
           753.7995
          ],
          [
           "Tordesillas",
           700.5994
          ],
          [
           "Torrecilla de la Abadesa",
           685.116
          ],
          [
           "Torrecilla de la Orden",
           776.2607
          ],
          [
           "Torrecilla de la Torre",
           755.2628
          ],
          [
           "Torre de Esgueva",
           810.9865
          ],
          [
           "Torre de Peñafiel",
           792.0806
          ],
          [
           "Torrelobatón",
           750.7936
          ],
          [
           "Torrescárcela",
           891.451
          ],
          [
           "Traspinedo",
           736.7956
          ],
          [
           "Trigueros del Valle",
           762.3388
          ],
          [
           "Tudela de Duero",
           708.5769
          ],
          [
           "Unión de Campos, La",
           767.1444
          ],
          [
           "Urones de Castroponce",
           751.2286
          ],
          [
           "Urueña",
           832.098
          ],
          [
           "Valbuena de Duero",
           734.545
          ],
          [
           "Valdearcos de la Vega",
           783.0189
          ],
          [
           "Valdenebro de los Valles",
           808.7703
          ],
          [
           "Valdestillas",
           703
          ],
          [
           "Valdunquillo",
           742.0706
          ],
          [
           "Valoria la Buena",
           730.0471
          ],
          [
           "Valverde de Campos",
           770.9928
          ],
          [
           "Valladolid",
           699.4927
          ],
          [
           "Vega de Ruiponce",
           751.2102
          ],
          [
           "Vega de Valdetronco",
           712.2534
          ],
          [
           "Velascálvaro",
           744.2465
          ],
          [
           "Velilla",
           784.9809
          ],
          [
           "Velliza",
           776.5533
          ],
          [
           "Ventosa de la Cuesta",
           764.8138
          ],
          [
           "Viana de Cega",
           691.8729
          ],
          [
           "Viloria",
           873.8669
          ],
          [
           "Villabáñez",
           740.6144
          ],
          [
           "Villabaruz de Campos",
           751.3663
          ],
          [
           "Villabrágima",
           727.4385
          ],
          [
           "Villacarralón",
           790.7327
          ],
          [
           "Villacid de Campos",
           779.7687
          ],
          [
           "Villaco",
           783.8756
          ],
          [
           "Villafrades de Campos",
           763.1504
          ],
          [
           "Villafranca de Duero",
           657
          ],
          [
           "Villafrechós",
           744.8799
          ],
          [
           "Villafuerte",
           819.951
          ],
          [
           "Villagarcía de Campos",
           719.0961
          ],
          [
           "Villagómez la Nueva",
           754.6724
          ],
          [
           "Villalán de Campos",
           755.7052
          ],
          [
           "Villalar de los Comuneros",
           710.9124
          ],
          [
           "Villalba de la Loma",
           769.6681
          ],
          [
           "Villalba de los Alcores",
           847.8523
          ],
          [
           "Villalbarba",
           719.6545
          ],
          [
           "Villalón de Campos",
           788.3907
          ],
          [
           "Villamuriel de Campos",
           738.6995
          ],
          [
           "Villán de Tordesillas",
           751.797
          ],
          [
           "Villanubla",
           842.8672
          ],
          [
           "Villanueva de Duero",
           691.0079
          ],
          [
           "Villanueva de la Condesa",
           786.3748
          ],
          [
           "Villanueva de los Caballeros",
           712.459
          ],
          [
           "Villanueva de los Infantes",
           743.701
          ],
          [
           "Villanueva de San Mancio",
           744.4049
          ],
          [
           "Villardefrades",
           726.2296
          ],
          [
           "Villarmentero de Esgueva",
           729.276
          ],
          [
           "Villasexmir",
           725.1
          ],
          [
           "Villavaquerín",
           765.7326
          ],
          [
           "Villavellid",
           770.2872
          ],
          [
           "Villaverde de Medina",
           733.2005
          ],
          [
           "Villavicencio de los Caballeros",
           722.9398
          ],
          [
           "Wamba",
           787.3964
          ],
          [
           "Zaratán",
           752.6955
          ],
          [
           "Zarza, La",
           758.8602
          ],
          [
           "Abadiño",
           null
          ],
          [
           "Abanto y Ciérvana-Abanto Zierbena",
           null
          ],
          [
           "Amorebieta-Etxano",
           null
          ],
          [
           "Amoroto",
           null
          ],
          [
           "Arakaldo",
           null
          ],
          [
           "Arantzazu",
           null
          ],
          [
           "Munitibar-Arbatzegi Gerrikaitz",
           null
          ],
          [
           "Artzentales",
           null
          ],
          [
           "Arrankudiaga-Zollo",
           null
          ],
          [
           "Arrieta",
           null
          ],
          [
           "Arrigorriaga",
           null
          ],
          [
           "Bakio",
           null
          ],
          [
           "Barakaldo",
           null
          ],
          [
           "Barrika",
           null
          ],
          [
           "Basauri",
           null
          ],
          [
           "Berango",
           null
          ],
          [
           "Bermeo",
           null
          ],
          [
           "Berriatua",
           null
          ],
          [
           "Berriz",
           null
          ],
          [
           "Bilbao",
           null
          ],
          [
           "Busturia",
           null
          ],
          [
           "Karrantza Harana/Valle de Carranza",
           null
          ],
          [
           "Artea",
           null
          ],
          [
           "Zeanuri",
           null
          ],
          [
           "Zeberio",
           null
          ],
          [
           "Dima",
           null
          ],
          [
           "Durango",
           null
          ],
          [
           "Ea",
           null
          ],
          [
           "Etxebarri",
           null
          ],
          [
           "Etxebarria",
           null
          ],
          [
           "Elantxobe",
           null
          ],
          [
           "Elorrio",
           null
          ],
          [
           "Ereño",
           null
          ],
          [
           "Ermua",
           null
          ],
          [
           "Fruiz",
           null
          ],
          [
           "Galdakao",
           null
          ],
          [
           "Galdames",
           null
          ],
          [
           "Gamiz-Fika",
           null
          ],
          [
           "Garai",
           null
          ],
          [
           "Gatika",
           null
          ],
          [
           "Gautegiz Arteaga",
           null
          ],
          [
           "Gordexola",
           null
          ],
          [
           "Gorliz",
           null
          ],
          [
           "Getxo",
           null
          ],
          [
           "Güeñes",
           null
          ],
          [
           "Gernika-Lumo",
           null
          ],
          [
           "Gizaburuaga",
           null
          ],
          [
           "Ibarrangelu",
           null
          ],
          [
           "Ispaster",
           null
          ],
          [
           "Izurtza",
           null
          ],
          [
           "Lanestosa",
           null
          ],
          [
           "Larrabetzu",
           null
          ],
          [
           "Laukiz",
           null
          ],
          [
           "Leioa",
           null
          ],
          [
           "Lemoa",
           null
          ],
          [
           "Lemoiz",
           null
          ],
          [
           "Lekeitio",
           null
          ],
          [
           "Mallabia",
           null
          ],
          [
           "Mañaria",
           null
          ],
          [
           "Markina-Xemein",
           null
          ],
          [
           "Maruri-Jatabe",
           null
          ],
          [
           "Mendata",
           null
          ],
          [
           "Mendexa",
           null
          ],
          [
           "Meñaka",
           null
          ],
          [
           "Ugao-Miraballes",
           null
          ],
          [
           "Morga",
           null
          ],
          [
           "Muxika",
           null
          ],
          [
           "Mundaka",
           null
          ],
          [
           "Mungia",
           null
          ],
          [
           "Aulesti",
           null
          ],
          [
           "Muskiz",
           null
          ],
          [
           "Otxandio",
           null
          ],
          [
           "Ondarroa",
           null
          ],
          [
           "Urduña/Orduña",
           null
          ],
          [
           "Orozko",
           null
          ],
          [
           "Sukarrieta",
           null
          ],
          [
           "Plentzia",
           null
          ],
          [
           "Portugalete",
           null
          ],
          [
           "Errigoiti",
           null
          ],
          [
           "Valle de Trápaga-Trapagaran",
           null
          ],
          [
           "Lezama",
           null
          ],
          [
           "Santurtzi",
           null
          ],
          [
           "Ortuella",
           null
          ],
          [
           "Sestao",
           null
          ],
          [
           "Sopela",
           null
          ],
          [
           "Sopuerta",
           null
          ],
          [
           "Trucios-Turtzioz",
           null
          ],
          [
           "Ubide",
           null
          ],
          [
           "Urduliz",
           null
          ],
          [
           "Balmaseda",
           null
          ],
          [
           "Atxondo",
           null
          ],
          [
           "Bedia",
           null
          ],
          [
           "Areatza",
           null
          ],
          [
           "Igorre",
           null
          ],
          [
           "Zaldibar",
           null
          ],
          [
           "Zalla",
           null
          ],
          [
           "Zaratamo",
           null
          ],
          [
           "Derio",
           null
          ],
          [
           "Erandio",
           null
          ],
          [
           "Loiu",
           null
          ],
          [
           "Sondika",
           null
          ],
          [
           "Zamudio",
           null
          ],
          [
           "Forua",
           null
          ],
          [
           "Kortezubi",
           null
          ],
          [
           "Murueta",
           null
          ],
          [
           "Nabarniz",
           null
          ],
          [
           "Iurreta",
           null
          ],
          [
           "Ajangiz",
           null
          ],
          [
           "Alonsotegi",
           null
          ],
          [
           "Zierbena",
           null
          ],
          [
           "Arratzu",
           null
          ],
          [
           "Ziortza-Bolibar",
           null
          ],
          [
           "Usansolo",
           null
          ],
          [
           "Abezames",
           734.649
          ],
          [
           "Alcañices",
           800.8787
          ],
          [
           "Alcubilla de Nogales",
           780.9072
          ],
          [
           "Alfaraz de Sayago",
           823.1807
          ],
          [
           "Algodre",
           660.188
          ],
          [
           "Almaraz de Duero",
           724.4616
          ],
          [
           "Almeida de Sayago",
           788.2532
          ],
          [
           "Andavías",
           700.6663
          ],
          [
           "Arcenillas",
           701.8715
          ],
          [
           "Arcos de la Polvorosa",
           701.8065
          ],
          [
           "Argañín",
           741.4979
          ],
          [
           "Argujillo",
           767.8745
          ],
          [
           "Arquillinos",
           670.2195
          ],
          [
           "Arrabalde",
           774.8352
          ],
          [
           "Aspariegos",
           670.0681
          ],
          [
           "Asturianos",
           968.9544
          ],
          [
           "Ayoó de Vidriales",
           796.757
          ],
          [
           "Barcial del Barco",
           716.0553
          ],
          [
           "Belver de los Montes",
           691.9913
          ],
          [
           "Benavente",
           723.4604
          ],
          [
           "Benegiles",
           647
          ],
          [
           "Bermillo de Sayago",
           794.7465
          ],
          [
           "Bóveda de Toro, La",
           null
          ],
          [
           "Bretó",
           695.636
          ],
          [
           "Bretocino",
           714.0786
          ],
          [
           "Brime de Sog",
           764.0367
          ],
          [
           "Brime de Urz",
           719.4198
          ],
          [
           "Burganes de Valverde",
           709.8783
          ],
          [
           "Bustillo del Oro",
           705.8235
          ],
          [
           "Cabañas de Sayago",
           766.5292
          ],
          [
           "Calzadilla de Tera",
           752.9898
          ],
          [
           "Camarzana de Tera",
           736.6218
          ],
          [
           "Cañizal",
           789.5921
          ],
          [
           "Cañizo",
           676.3501
          ],
          [
           "Carbajales de Alba",
           757.5706
          ],
          [
           "Carbellino",
           766.8657
          ],
          [
           "Casaseca de Campeán",
           762.1086
          ],
          [
           "Casaseca de las Chanas",
           711.7141
          ],
          [
           "Castrillo de la Guareña",
           735.9915
          ],
          [
           "Castrogonzalo",
           729.8262
          ],
          [
           "Castronuevo",
           690.7584
          ],
          [
           "Castroverde de Campos",
           709.8859
          ],
          [
           "Cazurra",
           727.3829
          ],
          [
           "Cerecinos de Campos",
           699.6163
          ],
          [
           "Cerecinos del Carrizal",
           684.9042
          ],
          [
           "Cernadilla",
           909.2853
          ],
          [
           "Cobreros",
           1001.473
          ],
          [
           "Coomonte",
           734.2988
          ],
          [
           "Coreses",
           648.8304
          ],
          [
           "Corrales del Vino",
           null
          ],
          [
           "Cotanes del Monte",
           716.3132
          ],
          [
           "Cubillos",
           670
          ],
          [
           "Cubo de Benavente",
           812.4978
          ],
          [
           "Cubo de Tierra del Vino, El",
           841.0046
          ],
          [
           "Cuelgamures",
           806.4151
          ],
          [
           "Entrala",
           705.7349
          ],
          [
           "Espadañedo",
           1036.841
          ],
          [
           "Faramontanos de Tábara",
           724.9462
          ],
          [
           "Fariza",
           699.1072
          ],
          [
           "Fermoselle",
           678.808
          ],
          [
           "Ferreras de Abajo",
           822.2217
          ],
          [
           "Ferreras de Arriba",
           898.3244
          ],
          [
           "Ferreruela",
           830.2149
          ],
          [
           "Figueruela de Arriba",
           860.8643
          ],
          [
           "Fonfría",
           826.7355
          ],
          [
           "Fresno de la Polvorosa",
           723.4755
          ],
          [
           "Fresno de la Ribera",
           655.308
          ],
          [
           "Fresno de Sayago",
           800.6821
          ],
          [
           "Friera de Valverde",
           718.6683
          ],
          [
           "Fuente Encalada",
           755.1226
          ],
          [
           "Fuentelapeña",
           744.6506
          ],
          [
           "Fuentesaúco",
           805
          ],
          [
           "Fuentes de Ropel",
           721.5773
          ],
          [
           "Fuentesecas",
           771.0013
          ],
          [
           "Fuentespreadas",
           763.1371
          ],
          [
           "Galende",
           964.0846
          ],
          [
           "Gallegos del Pan",
           692.2368
          ],
          [
           "Gallegos del Río",
           717.4845
          ],
          [
           "Gamones",
           753.5652
          ],
          [
           "Gema",
           712.2343
          ],
          [
           "Granja de Moreruela",
           715.2015
          ],
          [
           "Granucillo",
           725.7559
          ],
          [
           "Guarrate",
           728.3583
          ],
          [
           "Hermisende",
           838.3806
          ],
          [
           "Hiniesta, La",
           695.3338
          ],
          [
           "Jambrina",
           708.1685
          ],
          [
           "Justel",
           987.8643
          ],
          [
           "Losacino",
           696.3899
          ],
          [
           "Losacio",
           749.7023
          ],
          [
           "Lubián",
           1034.373
          ],
          [
           "Luelmo",
           774.9664
          ],
          [
           "Maderal, El",
           832.0909
          ],
          [
           "Madridanos",
           650
          ],
          [
           "Mahide",
           824.5887
          ],
          [
           "Maire de Castroponce",
           738.4753
          ],
          [
           "Malva",
           716.3611
          ],
          [
           "Manganeses de la Lampreana",
           704.8086
          ],
          [
           "Manganeses de la Polvorosa",
           721.1735
          ],
          [
           "Manzanal de Arriba",
           891.8854
          ],
          [
           "Manzanal del Barco",
           710.2052
          ],
          [
           "Manzanal de los Infantes",
           922.5501
          ],
          [
           "Matilla de Arzón",
           741.0653
          ],
          [
           "Matilla la Seca",
           740.5352
          ],
          [
           "Mayalde",
           871.8036
          ],
          [
           "Melgar de Tera",
           747.1895
          ],
          [
           "Micereces de Tera",
           719.7667
          ],
          [
           "Milles de la Polvorosa",
           704.9008
          ],
          [
           "Molacillos",
           639.7747
          ],
          [
           "Molezuelas de la Carballeda",
           803.29
          ],
          [
           "Mombuey",
           892.9008
          ],
          [
           "Monfarracinos",
           643.5111
          ],
          [
           "Montamarta",
           693.1759
          ],
          [
           "Moral de Sayago",
           745.4995
          ],
          [
           "Moraleja del Vino",
           686
          ],
          [
           "Moraleja de Sayago",
           796.6891
          ],
          [
           "Morales del Vino",
           699.6177
          ],
          [
           "Morales de Rey",
           724.2993
          ],
          [
           "Morales de Toro",
           706.527
          ],
          [
           "Morales de Valverde",
           724.1026
          ],
          [
           "Moralina",
           764.3427
          ],
          [
           "Moreruela de los Infanzones",
           671.5699
          ],
          [
           "Moreruela de Tábara",
           698
          ],
          [
           "Muelas de los Caballeros",
           994.2617
          ],
          [
           "Muelas del Pan",
           765.3066
          ],
          [
           "Muga de Sayago",
           788.1932
          ],
          [
           "Navianos de Valverde",
           710.5422
          ],
          [
           "Olmillos de Castro",
           770.5227
          ],
          [
           "Otero de Bodas",
           827.4964
          ],
          [
           "Pajares de la Lampreana",
           692.6044
          ],
          [
           "Palacios del Pan",
           719.6092
          ],
          [
           "Palacios de Sanabria",
           964.4566
          ],
          [
           "Pedralba de la Pradería",
           992.087
          ],
          [
           "Pego, El",
           760.7218
          ],
          [
           "Peleagonzalo",
           648.9901
          ],
          [
           "Peleas de Abajo",
           711.8881
          ],
          [
           "Peñausende",
           868.9768
          ],
          [
           "Peque",
           851.3065
          ],
          [
           "Perdigón, El",
           732.0176
          ],
          [
           "Pereruela",
           768.8405
          ],
          [
           "Perilla de Castro",
           723.7376
          ],
          [
           "Pías",
           1049.735
          ],
          [
           "Piedrahita de Castro",
           700.9993
          ],
          [
           "Pinilla de Toro",
           764.5831
          ],
          [
           "Pino del Oro",
           738.6063
          ],
          [
           "Piñero, El",
           744.402
          ],
          [
           "Pobladura del Valle",
           738.1398
          ],
          [
           "Pobladura de Valderaduey",
           668.3034
          ],
          [
           "Porto",
           1207.48
          ],
          [
           "Pozoantiguo",
           713.8331
          ],
          [
           "Pozuelo de Tábara",
           702.0159
          ],
          [
           "Prado",
           712.8901
          ],
          [
           "Puebla de Sanabria",
           937.181
          ],
          [
           "Pueblica de Valverde",
           727.9575
          ],
          [
           "Quintanilla del Monte",
           694.7986
          ],
          [
           "Quintanilla del Olmo",
           695.5483
          ],
          [
           "Quintanilla de Urz",
           716.7808
          ],
          [
           "Quiruelas de Vidriales",
           714.9902
          ],
          [
           "Rabanales",
           840.1841
          ],
          [
           "Rábano de Aliste",
           804.8948
          ],
          [
           "Requejo",
           991.0104
          ],
          [
           "Revellinos",
           697
          ],
          [
           "Riofrío de Aliste",
           791.1357
          ],
          [
           "Rionegro del Puente",
           801.0129
          ],
          [
           "Roales",
           743.9281
          ],
          [
           "Robleda-Cervantes",
           1019.21
          ],
          [
           "Roelos de Sayago",
           774.9606
          ],
          [
           "Rosinos de la Requejada",
           1012.096
          ],
          [
           "Salce",
           747.0807
          ],
          [
           "Samir de los Caños",
           792.2667
          ],
          [
           "San Agustín del Pozo",
           695.4661
          ],
          [
           "San Cebrián de Castro",
           689.8808
          ],
          [
           "San Cristóbal de Entreviñas",
           716.2618
          ],
          [
           "San Esteban del Molar",
           732.3524
          ],
          [
           "San Justo",
           1075.053
          ],
          [
           "San Martín de Valderaduey",
           686.815
          ],
          [
           "San Miguel de la Ribera",
           753.823
          ],
          [
           "San Miguel del Valle",
           738.6041
          ],
          [
           "San Pedro de Ceque",
           761.2156
          ],
          [
           "San Pedro de la Nave-Almendra",
           712.9648
          ],
          [
           "Santa Clara de Avedillo",
           772.0454
          ],
          [
           "Santa Colomba de las Monjas",
           702.0335
          ],
          [
           "Santa Cristina de la Polvorosa",
           709.6334
          ],
          [
           "Santa Croya de Tera",
           725
          ],
          [
           "Santa Eufemia del Barco",
           712.1947
          ],
          [
           "Santa María de la Vega",
           730.9682
          ],
          [
           "Santa María de Valverde",
           733.6366
          ],
          [
           "Santibáñez de Tera",
           729.7665
          ],
          [
           "Santibáñez de Vidriales",
           743.3671
          ],
          [
           "Santovenia",
           714.5436
          ],
          [
           "San Vicente de la Cabeza",
           756.4977
          ],
          [
           "San Vitero",
           865.2906
          ],
          [
           "Sanzoles",
           719.1744
          ],
          [
           "Tábara",
           751.6248
          ],
          [
           "Tapioles",
           688.6124
          ],
          [
           "Toro",
           730.0003
          ],
          [
           "Torre del Valle, La",
           null
          ],
          [
           "Torregamones",
           784.8227
          ],
          [
           "Torres del Carrizal",
           648
          ],
          [
           "Trabazos",
           728.6976
          ],
          [
           "Trefacio",
           976.9877
          ],
          [
           "Uña de Quintana",
           782.5795
          ],
          [
           "Vadillo de la Guareña",
           717.0134
          ],
          [
           "Valcabado",
           682.3292
          ],
          [
           "Valdefinjas",
           722.6641
          ],
          [
           "Valdescorriel",
           734.973
          ],
          [
           "Vallesa de la Guareña",
           765.7673
          ],
          [
           "Vega de Tera",
           763.4651
          ],
          [
           "Vega de Villalobos",
           732.9785
          ],
          [
           "Vegalatrave",
           692.9553
          ],
          [
           "Venialbo",
           714.8421
          ],
          [
           "Vezdemarbán",
           767.9186
          ],
          [
           "Vidayanes",
           704.1667
          ],
          [
           "Videmala",
           776.7166
          ],
          [
           "Villabrázaro",
           726.3007
          ],
          [
           "Villabuena del Puente",
           702.1939
          ],
          [
           "Villadepera",
           726.3047
          ],
          [
           "Villaescusa",
           824.9127
          ],
          [
           "Villafáfila",
           688.5735
          ],
          [
           "Villaferrueña",
           744.5328
          ],
          [
           "Villageriz",
           775.0306
          ],
          [
           "Villalazán",
           660.7059
          ],
          [
           "Villalba de la Lampreana",
           683.9111
          ],
          [
           "Villalcampo",
           784.3217
          ],
          [
           "Villalobos",
           725.785
          ],
          [
           "Villalonso",
           722.1978
          ],
          [
           "Villalpando",
           693.7587
          ],
          [
           "Villalube",
           733.0415
          ],
          [
           "Villamayor de Campos",
           695.6239
          ],
          [
           "Villamor de los Escuderos",
           836.3304
          ],
          [
           "Villanázar",
           709.184
          ],
          [
           "Villanueva de Azoague",
           703.6188
          ],
          [
           "Villanueva de Campeán",
           760.7177
          ],
          [
           "Villanueva de las Peras",
           746.8168
          ],
          [
           "Villanueva del Campo",
           757.225
          ],
          [
           "Villaralbo",
           636.7354
          ],
          [
           "Villardeciervos",
           855.7898
          ],
          [
           "Villar de Fallaves",
           696.1533
          ],
          [
           "Villar del Buey",
           776.983
          ],
          [
           "Villardiegua de la Ribera",
           764.6822
          ],
          [
           "Villárdiga",
           684.5942
          ],
          [
           "Villardondiego",
           736.6719
          ],
          [
           "Villarrín de Campos",
           685.7974
          ],
          [
           "Villaseco del Pan",
           753.9724
          ],
          [
           "Villavendimio",
           726.9139
          ],
          [
           "Villaveza del Agua",
           702.1813
          ],
          [
           "Villaveza de Valverde",
           711.7657
          ],
          [
           "Viñas",
           752.655
          ],
          [
           "Zamora",
           657.1658
          ],
          [
           "Abanto",
           922.4666
          ],
          [
           "Acered",
           835.0305
          ],
          [
           "Agón",
           321.5412
          ],
          [
           "Aguarón",
           667.286
          ],
          [
           "Aguilón",
           689.9364
          ],
          [
           "Ainzón",
           434.0218
          ],
          [
           "Aladrén",
           780.4907
          ],
          [
           "Alagón",
           238.9708
          ],
          [
           "Alarba",
           848.114
          ],
          [
           "Alberite de San Juan",
           377.7354
          ],
          [
           "Albeta",
           421.3977
          ],
          [
           "Alborge",
           158.166
          ],
          [
           "Alcalá de Ebro",
           222.1754
          ],
          [
           "Alcalá de Moncayo",
           754.1453
          ],
          [
           "Alconchel de Ariza",
           889.6893
          ],
          [
           "Aldehuela de Liestos",
           993.9887
          ],
          [
           "Alfajarín",
           196.5611
          ],
          [
           "Alfamén",
           447.2267
          ],
          [
           "Alforque",
           164.0169
          ],
          [
           "Alhama de Aragón",
           663.7305
          ],
          [
           "Almochuel",
           275.4481
          ],
          [
           "Almolda, La",
           460.9749
          ],
          [
           "Almonacid de la Cuba",
           483.7066
          ],
          [
           "Almonacid de la Sierra",
           605.9109
          ],
          [
           "Almunia de Doña Godina, La",
           371.3371
          ],
          [
           "Alpartir",
           507.0749
          ],
          [
           "Ambel",
           587.8949
          ],
          [
           "Anento",
           927.0677
          ],
          [
           "Aniñón",
           713.344
          ],
          [
           "Añón de Moncayo",
           830.1616
          ],
          [
           "Aranda de Moncayo",
           905.0275
          ],
          [
           "Arándiga",
           464.0809
          ],
          [
           "Ardisa",
           422.0101
          ],
          [
           "Ariza",
           713.859
          ],
          [
           "Artieda",
           630.9939
          ],
          [
           "Asín",
           583.3365
          ],
          [
           "Atea",
           846.9442
          ],
          [
           "Ateca",
           599.9296
          ],
          [
           "Azuara",
           580.366
          ],
          [
           "Badules",
           918.8503
          ],
          [
           "Bagüés",
           808.4211
          ],
          [
           "Balconchán",
           890.5054
          ],
          [
           "Bárboles",
           260.1506
          ],
          [
           "Bardallur",
           284.6658
          ],
          [
           "Belchite",
           443.8954
          ],
          [
           "Belmonte de Gracián",
           705.7676
          ],
          [
           "Berdejo",
           969.7459
          ],
          [
           "Berrueco",
           1093.496
          ],
          [
           "Bijuesca",
           927.1331
          ],
          [
           "Biota",
           490.6575
          ],
          [
           "Bisimbre",
           321.3621
          ],
          [
           "Boquiñeni",
           227.7671
          ],
          [
           "Bordalba",
           933.4196
          ],
          [
           "Borja",
           452.7229
          ],
          [
           "Botorrita",
           376.1743
          ],
          [
           "Brea de Aragón",
           575.503
          ],
          [
           "Bubierca",
           654.7245
          ],
          [
           "Bujaraloz",
           329.2621
          ],
          [
           "Bulbuente",
           519.8422
          ],
          [
           "Bureta",
           409.647
          ],
          [
           "Burgo de Ebro, El",
           186
          ],
          [
           "Buste, El",
           682.9518
          ],
          [
           "Cabañas de Ebro",
           218.6309
          ],
          [
           "Cabolafuente",
           945.4361
          ],
          [
           "Cadrete",
           305.3771
          ],
          [
           "Calatayud",
           541.744
          ],
          [
           "Calatorao",
           344.1744
          ],
          [
           "Calcena",
           856.4086
          ],
          [
           "Calmarza",
           841.7386
          ],
          [
           "Campillo de Aragón",
           1050.241
          ],
          [
           "Carenas",
           662.4408
          ],
          [
           "Cariñena",
           600.7257
          ],
          [
           "Caspe",
           162.4285
          ],
          [
           "Castejón de Alarba",
           927.9485
          ],
          [
           "Castejón de las Armas",
           604.1856
          ],
          [
           "Castejón de Valdejasa",
           525.1101
          ],
          [
           "Castiliscar",
           483.1245
          ],
          [
           "Cervera de la Cañada",
           677.2734
          ],
          [
           "Cerveruela",
           807.4222
          ],
          [
           "Cetina",
           693.1022
          ],
          [
           "Cimballa",
           913.0313
          ],
          [
           "Cinco Olivas",
           154.3324
          ],
          [
           "Clarés de Ribota",
           948.5849
          ],
          [
           "Codo",
           342.8191
          ],
          [
           "Codos",
           748.881
          ],
          [
           "Contamina",
           668.5798
          ],
          [
           "Cosuenda",
           632.6768
          ],
          [
           "Cuarte de Huerva",
           268.2757
          ],
          [
           "Cubel",
           1107.119
          ],
          [
           "Cuerlas, Las",
           1006.177
          ],
          [
           "Chiprana",
           152.1577
          ],
          [
           "Chodes",
           413.5298
          ],
          [
           "Daroca",
           783.9178
          ],
          [
           "Ejea de los Caballeros",
           343.5083
          ],
          [
           "Embid de Ariza",
           780.9568
          ],
          [
           "Encinacorba",
           756.7845
          ],
          [
           "Épila",
           313.3686
          ],
          [
           "Erla",
           430.376
          ],
          [
           "Escatrón",
           144.0067
          ],
          [
           "Fabara",
           237.3806
          ],
          [
           "Farlete",
           410.4063
          ],
          [
           "Fayón",
           196.4334
          ],
          [
           "Fayos, Los",
           561.1594
          ],
          [
           "Figueruelas",
           255.9903
          ],
          [
           "Fombuena",
           1015.665
          ],
          [
           "Frago, El",
           595.4272
          ],
          [
           "Frasno, El",
           681.258
          ],
          [
           "Fréscano",
           302.2807
          ],
          [
           "Fuendejalón",
           470.615
          ],
          [
           "Fuendetodos",
           751.9825
          ],
          [
           "Fuentes de Ebro",
           192.7446
          ],
          [
           "Fuentes de Jiloca",
           687.3452
          ],
          [
           "Gallocanta",
           1020.754
          ],
          [
           "Gallur",
           243.1283
          ],
          [
           "Gelsa",
           153.7756
          ],
          [
           "Godojos",
           764.7232
          ],
          [
           "Gotor",
           607.3821
          ],
          [
           "Grisel",
           623.9782
          ],
          [
           "Grisén",
           246.7064
          ],
          [
           "Herrera de los Navarros",
           815.6729
          ],
          [
           "Ibdes",
           741.9872
          ],
          [
           "Illueca",
           589.6152
          ],
          [
           "Isuerre",
           640.5793
          ],
          [
           "Jaraba",
           763.7606
          ],
          [
           "Jarque de Moncayo",
           null
          ],
          [
           "Jaulín",
           516.2281
          ],
          [
           "Joyosa, La",
           216.2196
          ],
          [
           "Lagata",
           526.7678
          ],
          [
           "Langa del Castillo",
           882.7292
          ],
          [
           "Layana",
           484.5312
          ],
          [
           "Lécera",
           531.8742
          ],
          [
           "Leciñena",
           418.5828
          ],
          [
           "Lechón",
           985.0991
          ],
          [
           "Letux",
           517.6309
          ],
          [
           "Litago",
           780.5075
          ],
          [
           "Lituénigo",
           763.7889
          ],
          [
           "Lobera de Onsella",
           658.759
          ],
          [
           "Longares",
           535.3199
          ],
          [
           "Longás",
           739.2802
          ],
          [
           "Lucena de Jalón",
           347.0133
          ],
          [
           "Luceni",
           234.3191
          ],
          [
           "Luesia",
           804.2617
          ],
          [
           "Luesma",
           943.9291
          ],
          [
           "Lumpiaque",
           314.7662
          ],
          [
           "Luna",
           467.4077
          ],
          [
           "Maella",
           285.3151
          ],
          [
           "Magallón",
           395.1459
          ],
          [
           "Mainar",
           868.0479
          ],
          [
           "Malanquilla",
           1046.061
          ],
          [
           "Maleján",
           466.0901
          ],
          [
           "Malón",
           427.1692
          ],
          [
           "Maluenda",
           595.9858
          ],
          [
           "Mallén",
           287.8513
          ],
          [
           "Manchones",
           740.1449
          ],
          [
           "Mara",
           691.8807
          ],
          [
           "María de Huerva",
           332.9163
          ],
          [
           "Mediana de Aragón",
           289.3042
          ],
          [
           "Mequinenza",
           92.34655
          ],
          [
           "Mesones de Isuela",
           538.4012
          ],
          [
           "Mezalocha",
           491.086
          ],
          [
           "Mianos",
           651.1317
          ],
          [
           "Miedes de Aragón",
           771.8868
          ],
          [
           "Monegrillo",
           441.6924
          ],
          [
           "Moneva",
           652.3671
          ],
          [
           "Monreal de Ariza",
           751.1902
          ],
          [
           "Monterde",
           804.4403
          ],
          [
           "Montón",
           693.9522
          ],
          [
           "Morata de Jalón",
           421.1948
          ],
          [
           "Morata de Jiloca",
           625.0764
          ],
          [
           "Morés",
           457.6555
          ],
          [
           "Moros",
           704.5184
          ],
          [
           "Moyuela",
           745.7245
          ],
          [
           "Mozota",
           397.1876
          ],
          [
           "Muel",
           434.2508
          ],
          [
           "Muela, La",
           595.3652
          ],
          [
           "Munébrega",
           747.0544
          ],
          [
           "Murero",
           713.1721
          ],
          [
           "Murillo de Gállego",
           530.8543
          ],
          [
           "Navardún",
           493.5045
          ],
          [
           "Nigüella",
           497.1727
          ],
          [
           "Nombrevilla",
           908.814
          ],
          [
           "Nonaspe",
           176.9074
          ],
          [
           "Novallas",
           431.939
          ],
          [
           "Novillas",
           240.4928
          ],
          [
           "Nuévalos",
           717.2357
          ],
          [
           "Nuez de Ebro",
           181.9229
          ],
          [
           "Olvés",
           783.3309
          ],
          [
           "Orcajo",
           926.5969
          ],
          [
           "Orera",
           738.5802
          ],
          [
           "Orés",
           645.9177
          ],
          [
           "Oseja",
           825.8478
          ],
          [
           "Osera de Ebro",
           174.2535
          ],
          [
           "Paniza",
           707.4536
          ],
          [
           "Paracuellos de Jiloca",
           570.9234
          ],
          [
           "Paracuellos de la Ribera",
           459.8566
          ],
          [
           "Pastriz",
           186.568
          ],
          [
           "Pedrola",
           234.6053
          ],
          [
           "Pedrosas, Las",
           459.5541
          ],
          [
           "Perdiguera",
           467.8797
          ],
          [
           "Piedratajada",
           420.7992
          ],
          [
           "Pina de Ebro",
           160.1591
          ],
          [
           "Pinseque",
           229.0275
          ],
          [
           "Pintanos, Los",
           788.4658
          ],
          [
           "Plasencia de Jalón",
           276.0325
          ],
          [
           "Pleitas",
           259.7592
          ],
          [
           "Plenas",
           813.9236
          ],
          [
           "Pomer",
           1119.364
          ],
          [
           "Pozuel de Ariza",
           775.4199
          ],
          [
           "Pozuelo de Aragón",
           412.067
          ],
          [
           "Pradilla de Ebro",
           228.6879
          ],
          [
           "Puebla de Albortón",
           476.9889
          ],
          [
           "Puebla de Alfindén, La",
           192.6578
          ],
          [
           "Puendeluna",
           392.1512
          ],
          [
           "Purujosa",
           951.7919
          ],
          [
           "Quinto",
           174.2326
          ],
          [
           "Remolinos",
           230.4963
          ],
          [
           "Retascón",
           888.5198
          ],
          [
           "Ricla",
           369.2624
          ],
          [
           "Romanos",
           948.4423
          ],
          [
           "Rueda de Jalón",
           316.6192
          ],
          [
           "Ruesca",
           760.8224
          ],
          [
           "Sádaba",
           445.3837
          ],
          [
           "Salillas de Jalón",
           334.7121
          ],
          [
           "Salvatierra de Esca",
           585.1468
          ],
          [
           "Samper del Salz",
           535.9286
          ],
          [
           "San Martín de la Virgen de Moncayo",
           819.6014
          ],
          [
           "San Mateo de Gállego",
           281.4621
          ],
          [
           "Santa Cruz de Grío",
           636.499
          ],
          [
           "Santa Cruz de Moncayo",
           627.8763
          ],
          [
           "Santa Eulalia de Gállego",
           501.9988
          ],
          [
           "Santed",
           1060.648
          ],
          [
           "Sástago",
           149.263
          ],
          [
           "Sabiñán",
           451.3482
          ],
          [
           "Sediles",
           735.8391
          ],
          [
           "Sestrica",
           566.4533
          ],
          [
           "Sierra de Luna",
           458.6502
          ],
          [
           "Sigüés",
           519.9214
          ],
          [
           "Sisamón",
           1027.812
          ],
          [
           "Sobradiel",
           207.2028
          ],
          [
           "Sos del Rey Católico",
           631.5082
          ],
          [
           "Tabuenca",
           773.7258
          ],
          [
           "Talamantes",
           873.8474
          ],
          [
           "Tarazona",
           487.6725
          ],
          [
           "Tauste",
           274.6931
          ],
          [
           "Terrer",
           561.5784
          ],
          [
           "Tierga",
           631.0844
          ],
          [
           "Tobed",
           659.6277
          ],
          [
           "Torralba de los Frailes",
           1095.4
          ],
          [
           "Torralba de Ribota",
           647.3879
          ],
          [
           "Torralbilla",
           883.6472
          ],
          [
           "Torrehermosa",
           844.7177
          ],
          [
           "Torrelapaja",
           991.0995
          ],
          [
           "Torrellas",
           570.2052
          ],
          [
           "Torres de Berrellén",
           215.0211
          ],
          [
           "Torrijo de la Cañada",
           794.6323
          ],
          [
           "Tosos",
           584.2983
          ],
          [
           "Trasmoz",
           726.384
          ],
          [
           "Trasobares",
           671.2911
          ],
          [
           "Uncastillo",
           621.2198
          ],
          [
           "Undués de Lerda",
           622.4462
          ],
          [
           "Urrea de Jalón",
           287.5544
          ],
          [
           "Urriés",
           552.7125
          ],
          [
           "Used",
           1044.506
          ],
          [
           "Utebo",
           208.7015
          ],
          [
           "Valdehorna",
           879.848
          ],
          [
           "Val de San Martín",
           981.3766
          ],
          [
           "Valmadrid",
           523.022
          ],
          [
           "Valpalmas",
           492.2236
          ],
          [
           "Valtorres",
           676.4613
          ],
          [
           "Velilla de Ebro",
           153.2637
          ],
          [
           "Velilla de Jiloca",
           604.6818
          ],
          [
           "Vera de Moncayo",
           631.6308
          ],
          [
           "Vierlas",
           449.5351
          ],
          [
           "Vilueña, La",
           696.5842
          ],
          [
           "Villadoz",
           890.6553
          ],
          [
           "Villafeliche",
           684.1865
          ],
          [
           "Villafranca de Ebro",
           176.0309
          ],
          [
           "Villalba de Perejil",
           624.0992
          ],
          [
           "Villalengua",
           762.2932
          ],
          [
           "Villanueva de Gállego",
           251.0012
          ],
          [
           "Villanueva de Jiloca",
           775.7328
          ],
          [
           "Villanueva de Huerva",
           545.6921
          ],
          [
           "Villar de los Navarros",
           800.2396
          ],
          [
           "Villarreal de Huerva",
           867.4806
          ],
          [
           "Villarroya de la Sierra",
           738.6608
          ],
          [
           "Villarroya del Campo",
           924.395
          ],
          [
           "Vistabella",
           755.5722
          ],
          [
           "Zaida, La",
           158.4921
          ],
          [
           "Zaragoza",
           204.0027
          ],
          [
           "Zuera",
           285
          ],
          [
           "Biel",
           754.2445
          ],
          [
           "Marracos",
           404.7361
          ],
          [
           "Villamayor de Gállego",
           231.1234
          ],
          [
           "Ceuta",
           13.47725
          ],
          [
           "Melilla",
           10.3337
          ]
         ],
         "hovertemplate": "population=%{marker.color}<br>lat=%{lat}<br>lon=%{lon}<br>municipality_name=%{customdata[0]}<br>altitude=%{customdata[1]}<extra></extra>",
         "lat": {
          "bdata": "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",
          "dtype": "f8"
         },
         "legendgroup": "",
         "lon": {
          "bdata": "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",
          "dtype": "f8"
         },
         "marker": {
          "color": {
           "bdata": "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",
           "dtype": "i4"
          },
          "coloraxis": "coloraxis",
          "size": {
           "bdata": "mwsAAFooAABlBQAAQAcAAPcAAAAXBAAASwYAAH4LAAAjAQAAbwMAAMsBAAAiAgAAPQQAADQHAACyAAAAmAEAAIICAAC7AwAAPwEAACkCAAAdBgAAqgAAAMYFAACtAgAAWwMAANIAAAA+RgAANgMAANcAAAC/AAAAqgQAAFUNAAAuAQAATQMAAJ8FAACOAAAAIxQAACIBAADQAgAAtgUAADAEAADWAAAAIgEAACYIAACw7wMACQEAAMIAAAC6AQAARAkAACkOAACeAwAA9wIAAPEBAAA5qAIAlwIAAKQCAACBAgAAXQQAABgFAADZXgAA1AgAAGACAABLCQAAfAAAAJ0BAABIBwAAKAIAAOwCAADKAwAAQAoAAOcBAABRBQAANwEAACQCAADvEQAACSgAAIgEAAAuAQAAfgAAABISAAAMDgAAXQIAAB8BAABxCQAABwcAAEsKAABVAAAAXHgAAC8BAAB2BAAAUQIAAGYBAACaAwAAGQUAACcEAAAyEgAAuQUAAHQAAABrBQAAEQMAAFEAAAD2BwAAnAIAAEMNAAAVAgAAfgQAAGIHAACoCAAAUwEAAEgBAAC6BQAAmQIAAIgBAAARBgAAggEAANMBAADdAAAASQUAAIkBAAD6PAAAugEAAKEEAAB+BgAA5RcAAAsfAACpBwAAQAEAADcAAABoBAAAhQ8AADICAACuYgAAcQAAAMkAAAA2AQAAMQEAAM0JAACECgAAUgIAAPMTAABiAgAApQQAAPAzAAB+BQAAAwEAALoAAADU6wAAnQEAAMBOAABkDgAAPgUAAEB5BQDAVwAAdgAAAAcCAACbXQAA0VUAAIMAAACLHAAAqwAAAI8GAABBFgAABQgAAFAJAADrAAAASAQAAC8CAADDBAAApyMBAHQAAACQAAAAjw0AAOsCAABtAAAAJAIAAL8BAABgAAAAxQEAAB0wAADzEgAAMg4AAAcdAADmAQAALQ4AAMVoAAAXHwAAykwAAIh3AAC9AQAAyQQAAGYtAAC8AQAAzyQAAJMsAAAoAQAAxh0AAHl3AACGAAAAKAcAAJECAABetwAAph8AALi1AwA60gAAZAAAACwAAACIJAAAjRIAAAMaAAApAgAAHAEAALMKAAAaAQAAv0YAAIgKAAAeBQAAkl4AAEoIAADiCwAAs3UAAIscAABFAgAAiQMAAPkAAAAHIwAA3DEAAHFsAABJAgAAgSQAAGVmAABfSQAAYh0AABcfAABTCQAAbwMAAAhHAQD9AwAA7yEAAIgpAAAlAQAAHIUAANcgAAC4AgAAEhYAACQTAAC/AgAAXSAAAAgFAAAKQwAAcAoAALkBAADvBgAA0gIAANkkAAA+ZQAAQBsAAJyWAABt6wAAvCcAAFwCAAC4AgAAegIAACIyAAALBwAAJgAAAEgBAADoAgAAU3IBAK8AAADmAAAASAIAAIcDAACYFAAAG5AAAFGGAAB8CgAAJF0AADIWAAAICQAA+AQAANMEAACrYwAAqgIAAEkCAAB4MAAAPQMAAC0CAACAAAAA1QIAACYPAADXAAAAsxcDANIAAACKAAAAeg0AAN8QAABLAQAA7wAAACgBAADgAAAA0AMAAJQAAADIEgAAPAAAAPwAAADjAAAAizIAAG4EAADxDQAA+SAAAGUAAAC+AAAAjjsAAC8BAAAfBgAASRAAAFYCAAACAwAA7ggAAMAHAABtBAAA+wsAAP8LAABrKQAApwQAABkCAACYSAAAgVAAAMwBAADyAQAA0QAAAHoGAACJAQAAlAUAAMoCAAA5AwAANBUAAKsEAABdHQAA9QEAADSBAAAjAgAAtQAAAB0ZAACXCAAAuAEAAGsDAACMAQAAbxEAAIIuAAD9BQAAKgEAADUGAACUqgEA9QAAAO4BAAAWAQAAVQgAAHgBAAAMAgAA3QkAAOcAAAABEAAAwgMAAHcBAACAAQAA3Q0AAHEQAAAMAQAAMAMAAF4BAAD2AAAAjQcAANUZAAAgTAAAfxgAAKNwAACuCwAAPgIAABdgAQDlIQAAyAsAANAAAADsCgAArwAAAGYAAADLAAAAjwAAAIUAAADSAwAAJhkAADoAAACWHgAASQAAABcAAAD/4gAA+QgAAOsHAACvAAAAlwAAAEUAAACtAAAAQwEAAFQAAAA4AAAAqgAAAA4AAABkAAAAbgAAANYAAACjAAAAIwAAADcAAADhBAAAmQAAAFIAAADgAAAAWAAAACMAAACnEwAAYwAAAKMBAACgAAAAUwAAAD8AAAByBQAAnQIAAHEAAACnDAAAQgAAAE8AAABmAAAAdwEAAJEAAAAUAAAAYwAAAOIBAAAFAgAAPgAAAEgAAAAkAAAAYQAAAA4BAADVAgAAYQAAAE8CAACXAAAAWAAAADwAAAAtAAAAJwAAABECAACOAAAALwAAADAAAABCAAAApwAAACAAAADaAQAAQAAAAI4AAADvAQAAjAAAAA4BAABLAAAAyQEAALkBAAAYAQAANwEAAIcIAAA7AAAAHgAAAFgBAAAbAAAAKgAAACgAAADCAQAAFAMAAGcAAAA/AAAAEwUAALwCAABbAAAAxAAAAEYAAAAaAAAAHwAAAGkBAABsAAAAdQAAAE0AAAA2AAAAQgAAANsCAACaAQAAYgAAAHAAAABfAAAAlAMAADsAAAA1AAAA9gEAAFAAAAAsAQAASgAAAG8AAABoAAAAWAAAADEAAAA7AAAAIgAAAJgAAAAcAAAAagAAAGQAAACXAgAAUwAAAB0AAAA1AAAAYQEAAMwAAACcAQAAuQAAAEQBAAA6AwAATQAAAHwIAAArAAAAvgEAAJ4AAAArAQAA1hUAAO0AAAAyAAAAPgAAALcAAABgAAAARQAAAIEAAAATAQAAfwAAAI0BAADbAAAAPgAAACcAAAD2AgAAhgAAACYBAABpAAAAZQYAAGYIAAAhAAAA5wEAADwAAAB1AAAAYgAAAKAAAAB9AAAAvwAAADgAAABmAAAARwAAADEAAAAjAAAA6QEAAMQCAABPAAAAFAAAAN4CAAAoAAAAQgAAAEYAAACqAQAA6gAAAFEAAAAeAAAAmQAAANsAAABGAAAAagAAAC0AAAD1AQAAMAEAAKoAAABmAAAAfgEAAEgAAAApAgAAogAAAEUAAABHAAAApQAAAIcAAAD8AAAAKQAAAIcAAABkAAAAigAAAPYCAAD1AAAAixMAAK4RAAD0AgAAVgAAACMAAADRAQAAJgAAANQAAABkAAAAMwAAADgAAABWAAAA2QAAAGMAAACGAAAAcwAAAFwAAABlAAAAJAAAADoBAAChAAAAMAAAAEcAAABUAAAAXAAAAOQAAABCAQAAagAAAGsAAADjAAAAIgMAABwVAAAQAwAAEAcAAMgHAACGEwAAWgYAAPQCAAD/AAAArQQAAOyFAADdDwAAAgEAAKsdAAAqTAIAkQ0AAO4AAAAVAwAApggAAOUHAADhAwAAmgsAAK4RAADnBAAA6BcAAJYDAACtAgAAYRIAACIFAACRAAAACAIAAE0AAABaBQAAzwAAAEwDAAB5FQAA6QcAADsDAABkCAAAjQQAACMCAACZBAAALwMAAGCTAAAcAgAA1gUAAKUDAABWAwAAFwQAAIcSAACtBgAA8BEAAJQCAACnGQAAbggAANsBAAASAgAA9AgAAGwHAAD5GQAAvgQAADICAABHDQAAdwMAAFMBAABABwAAmggAAOABAABEDQAAmCMAACUBAACuCgAAIgMAAA0WAADyAQAAoQMAAFoBAAAGAgAA4QIAAL0IAACOBAAA6wEAANHpAADeBAAAhhAAAPMEAACXCAAAgDsAAMACAACSAwAA+RAAAIACAABIEwAAjwYAAN4tAAAFAQAADQoAAJYCAAAEBQAAOAMAAN8BAABTBAAA4xYAALcCAACSAgAAzAEAAA4HAABLCgAAZxEAAI4AAABlAgAArQEAAHMMAAB/AAAArQUAAHgGAAAXBgAAkQAAAF0DAABQDwAAMRAAAIYfAABUFAAAAAcAAOsGAADuCQAAuwwAALIUAACUAgAAxwAAANkEAADsAwAArggAAFECAABmBQAAuwYAABsEAABvBAAA4AEAAMkCAABdBwAADgEAAHoQAAA2AgAA8gMAAEUEAABMAQAAUwQAAEowAAB7AwAAxwQAAKcFAAC4ZAAAygwAACAIAAArBQAAiwEAAEdBAADNCgAAZw0AACsBAAARDQAAwwoAAKEHAACFCQAAlRcAADonAACzVAAApxgAAB4vAADDIAAAQQIAAEEkAACvBAAAQh0AAPPQAAAICwAAgy8AADwyAADFfAAALxEAAOwFAADNAgAAywAAAIQUAAB2AQAAokkAAPoTAAB9LAAAywIAANXRAABGiwAAUwYAADgZAADJCQAA6JsAANN2AAChugAApgYAAF0JAACPnAAARxgAAJAMAACzHwAAoZUGAHAMAAC6RAAAABcAACY5AADzBwAAwW8AADwPAADgcwAAtAgAACQbAABzJAAA2hsAAGsHAADqogAAvTUAAMcdAABXMgAAxhAAAAkUAAB1EQAAsDUAAOUvAADgBwAAXB4AAOgOAAD6AwAAmgYAANYyAAAjAQAA6ScAAA4BAAD2JAAAAkEAAPIkAADtAAAALDIAAMQXAADDCAAACQkAANAGAAAQCgAAC3cDAIYIAADEDwAAAA0AAJP6GQAmHQAARQAAAAhDAAA0JwAAowEAAPAIAAAlAQAA9AMAAK0GAACaEwAAVx4AACIOAAC7DAAAoEcAAFoEAACRTwAArgAAAIIKAABhCAAAXgIAACQ7AACgQwAA8wwAAPcUAAC/FQAAXAAAAHhKAADeEQAALgMAAIwGAACjAAAA6mIAAKQAAAAqEAAArDIAABADAABKDwEARQAAAHIKAADLAQAAlwAAACsJAACWBQAAkgIAANUKAAC0BgAAOggAAF8eAACvJQAA8RIAAIUBAABfAQAAbj0AAMVlAQBbQwAA/hcAABZYAAD9uQAABgEAAJEBAAApAAAA9gEAAJAGAADXCAAAMQYAAKYFAADrUAAArAAAAJlDAACHuwAAsgAAAKIfAAC/EwAAHgAAANcIAABUAAAAtfoAAMoGAACUDQAAuQMAAJgKAAC5RQQA+qEAADsDAADWAwAAHTMAAPQpAAB9PwAAzRoAACABAACxSwAAEAEAAGRTAABJOQEAW28AAHsTAADuAgAA3AwAAJ9fAAA2JwAAVyYAANYCAgBNCgAARGkAADvMAAAhkQAAUTEAAH4MAAD5AgAAyAIAAIQAAABLBAAA2AEAAMgAAACkBAAAyiIAAMFCAAB8AQAAUhoAAOgAAAAQGAAAKRgAAKMAAAB+DgAAkQMAAGoPAAAtCAAAZWAAAEMRAADABAAAXgEAADkCAACyAAAAJQMAAKcDAADSJgAAYDwAADEuAAALEQAAwUkAALYBAACTRAAAnwwAAA9zAABIBQAAMQkAAFUEAABrIQAABgIAAIgCAQApAgAAgAoAABdxAAB1AgAAiREAANIAAAAqAAAAUgIAAJgDAAAmmgAA0ioAACwQAAD0GgAAfD4BAO0AAADhYwMAmQAAAJ4AAAAtAQAADxsAACQeAACyBQAAWpYAAGwAAAC2aQAAnS4AAAwaAACvAwAAX0sBAD8CAABJSQAA9A4AAFYQAAA9gQEABwQAAAgMAAB8HwAACyQAAAUaAADatQAAdQIAACAkAABBJAAAZw4AABoAAAALiQAACSsAAKpSAADhDAAAkVEAADkKAAAaCgAA6wQAAIwAAAD7BAAAPw0AAGgBAAB9AgAAYikAAHl9AADBCQAAIAoAAE0TAADKFgAAyAkAAE8IAADBTgAAnQIAAHMyAABUAAAANAEAAMAAAACPIAAAc9kBAAQJAADPBQAA5x4AAGgBAAA1KQAAOB4AACeDAACkAAAA5QgAAK8AAABpAwAAiQAAADUEAAAYJwAAaGUAALcPAACTJwAAmG8AADgaAAAsCAAA9OIAAFElAACpBAAA1g4AAJV+AABlAAAA2wAAANEMAADKFwAAVQEAAFMBAADUAAAAvBoAAGR9AwCDAAAAohoAAFkkAAA/IQAAXEkAAPU6AAAaEAAA5QUAAGEKAAALGAAAgAgAAIsdAAB+BQAADwEAAH4MAABxPgAAtgoAAKwAAAB6wQAAuwEAAHoeAAAUBwEALDIAAD0BAAB+BAAAIKIAAAwDAAASEwEArwAAABkBAAAAFgAA6AAAAD4zAADkCwAAHAAAAM0AAAA7AAAAMgAAANYAAAApAAAARAAAAGUAAAAvAAAAugAAAGwAAACcAAAA3YMAAJsAAAASAQAALgAAAD0AAAArBwAApgAAAHMAAACoAQAANQAAALQAAAClAAAAYAAAAFQAAAAuAQAAPgEAAB8AAABoAAAAhgAAAEIAAAAgAAAAsgAAADcAAAAmAQAAEgAAADYAAAAqBwAAMAAAAMsAAAAaAAAAZgAAAC0AAACgGQAAvQAAAGQCAAAXrwIAjwAAAJUAAAAkAAAA+AAAAJABAACrAAAAMAAAAKgBAAAXAAAAJwAAACUAAADkAQAAlgUAAJEEAABvAAAAGAAAABsAAAAbAAAALgAAACMAAAAcAAAAngAAAG0CAAA3AwAAOgAAADQAAAAKAwAAvQAAADoAAABaAAAA6gEAAC0AAABGAAAAHgAAANEAAAAxAAAAYwAAAKUCAADRBQAAVwAAAGQAAAD5AQAAZQAAAGUAAABZAAAALQAAACkAAABVAAAAKgAAAHAGAAB6AgAANgAAAGAAAABhAAAAQgAAALUCAACgAAAAMQAAAA4BAAA4AAAA7QAAABEBAABjAAAAWwAAAIgAAAAwAwAAGwAAACcAAABwAAAANQAAAEgCAAB8AQAAlQAAACIAAABHAAAAYwAAAK4AAABiAgAApAAAAGMAAAAuAAAALwEAAGsAAADUAAAAmQAAAIAAAABxAwAAdAAAADUAAAClBQAAHQAAAC0AAACNAAAAHAEAAEcAAAAvAAAACgAAAHoAAABOAAAAKQAAAEIAAAD8CQAAMQAAAI8AAACwAAAAaQAAAGsAAAA4AAAAHAAAABUAAAA4AAAAvAAAAG0XAADpBQAADgEAAOACAACcAQAApQEAAJEBAACfAQAAsowAAF8AAAABAwAAKAAAAKkAAABMAAAAOAAAAJUAAACqAAAAxwAAABgAAAA3AAAAdwAAALMAAAAoAAAAtwMAADEAAABeAQAAQwAAAFwAAAA8AAAAowIAABIAAABdAAAANgAAACMBAAC1AQAAZgAAAFEAAADMAQAAWQAAAKMAAADzAAAA0QEAAKoAAAAnAAAAXgAAAGIAAABiAAAAIQAAAKEAAAAbAQAAOAAAAC4EAADPAAAALQIAAHoAAADuAAAAHwAAAJUAAAAvAAAAHAEAAHgAAADpBQAAQAAAAGwAAAAyAAAAhAEAAEQAAAB1AwAAYwAAAE8AAAD6AAAAXAAAAF0AAABDAAAALQEAABIAAAA7AAAAZQAAAF4AAAB6AgAAcwAAABEAAAA3AAAAxAgAADwAAACqAAAA2QAAACEAAABIAAAAgQAAAMAHAADJAAAAMAAAAFYAAACYAAAANgEAAIsAAAA9AAAAaQAAAIYAAABnAAAAoQAAAJsAAAALAgAAQwAAAGwAAABfAAAAJgAAAE0AAABGAAAA9wAAABwAAACFAAAABQEAAJADAAAbAAAATQAAABYAAADWAQAALQEAAKQBAAB2AAAANwAAAGADAAAjAAAAQAAAABcAAAAbAAAAKgEAAE8AAAB7AAAAIAAAAEEAAAA+AgAAgwEAADUAAADJAgAAgAAAAKsAAAA6AAAAbAEAAGIAAAB5AAAAdwEAABoAAAAqAAAAcwAAACwQAACjAAAAXwMAAOIBAAC/AAAASgEAAC0AAAAnAAAASwAAAD8AAAD1AAAAGAAAABsAAAAlAAAA+AEAAK8FAABaAAAAPAAAABYAAAB6AAAAjwAAADQAAABaBwAAHwEAAMICAADqBQAASgAAAFsAAACaAQAAoAAAADgAAAArAAAACQAAACsAAADoAAAAegAAABsAAAAXAQAAKgAAAC4AAACKAAAAzwIAALIAAAARAQAANQAAAGwAAABLAAAAzQAAADQAAABPAAAAPwAAACgAAABzAAAAHwAAANEAAAA5AAAATwEAAN8BAADPDwAAHwIAAJkBAACDBQAAVQgAAPABAABLAQAAcAEAAEACAAAlAwAARQIAAEUFAACRAgAAQwUAAAoBAACWCQAAUQIAAFgCAAAeAQAAzQcAAMACAABgAQAA6gIAALwGAABPBgAA8wYAAJAVAACqAQAALAMAAOECAAB+AQAA5wIAAFQAAAB8AAAAiwEAAPcBAAC8AAAA0gYAAJcBAABPAQAATwgAAF0BAAC5eAEAUgAAAJcBAADHAQAAYAQAAFQAAAAkAwAAQQYAAPADAACxAAAALQQAAOEAAAB9EQAA4QMAAHEBAACxAAAASgEAAEICAAAAAwAANAIAAHAAAABmBQAAWAEAAAgEAAD1BgAAsgEAAJMAAAATBgAAFAEAALcAAABSLwAAPQMAADwDAACqAgAAbAAAAEQDAABlAwAA7wAAAEMDAACYAgAAYQEAAHMDAABsAQAAtgAAAKcHAABeAAAASQUAAHEBAAA5AQAA2AYAAL0AAADPBQAA5wEAAGsBAAALAQAAmwEAAOAAAABFAQAAUQ8AAGQAAACEAQAAUQIAAFoDAADNAAAAIQIAALQBAABAGgAAHQsAAIsAAACwBAAAuQAAAG8HAAD1CgAA/QUAAKwGAAA8CQAA8wQAAL4PAABBEgAA7AAAAB4BAAA8AgAAmAAAAJokAADfAAAAeAIAAFIDAAB0AwAASAYAANIVAACyGQAAcQEAAPwHAACEQgAAegEAAOsEAACJAgAAsgQAACQBAAC9AQAAUAIAAFwAAACXBQAAFQEAAIcDAACWAAAAuwMAAH0AAADjBgAArgUAAJWbAAAGAgAAfAEAAM4AAACsAQAACAEAAMQAAACcBAAAXgAAAAMBAABwAQAAQAEAAPsAAABRAAAAGQIAAPgAAAC+AgAAMwEAAEIBAAAeAQAAJAEAANEBAAD3AAAAewEAAMYCAADiAwAAtAAAAMoFAACXAQAACAgAAAEDAAAtAQAAiBwAAP4CAACfAAAA3wMAAEEDAACAAgAAFwQAANwBAAAFAgAAzQoAABcCAABoAgAA4AIAAIwGAAAwAgAAqyEAAD8BAABgAAAATAQAALoAAABWAQAA1wAAAGICAABMFAAAwAEAAEkIAADaAAAAtwEAAHQAAAATAQAAewEAAO0BAAA+CAAALAIAAOcAAAD+AQAACwcAAAcCAABdBAAA4AQAADAFAABMAwAAjQMAAFYDAAAHAwAAZxQAAEgTAACcBQAAMugBAEMVAABGeQAAtVgAAFRfAADyAgAAbR0AAMkIAABCsQEAoAsAALxdAADCXgEAy00AAMEOAACiBgAAzgcAALhCAwAnGgAAsfoAAPQtAAC4HgAAgRUAACMWAABoXwEAp6QAAPIaAABwcwAAzW0BAPQQAQCOhQAAQAoAAOhIAAAeAwAAZxsAADdAAABzMgAAzgEAAIkvAABLBQAAPBwAAHgRAACzCgAAHQUAAIMAAAA6BQAACBwAAFUpAADVAAAAZgMAAAIBAABRbwAAIAEAADYaAADODgAAnwAAALEAAACSAAAAswcAALYAAABgAQAAwwAAANgVAACQAQAAqgAAAH4AAAAcBAAAp3MAAGJPAABbBAAAORcAAD+QAADxDAAAAAgAALsCAAAWAAAAvgAAAHQDAACbwAIAcQAAAPgCAADSAgAAgwIAALoBAADWAAAANwEAABcCAABJBwAA7QEAAK4CAAAWDAAAdAAAADgBAAARAwAAWQAAACkBAAAGAgAA3QEAADsAAABfAAAAxwAAAIsCAABFAAAALgAAALACAAC+BgAAjAUAAK8AAAASBAAAuAAAAFsAAABLHwAApQEAAIMCAAC+CQAATgMAAO42AACHAAAA2WQAAAkuAAAiAAAASQAAADAhAAB2AAAAmwAAAK4AAADwAAAALQUAAIsEAAB8AwAATQAAAKYCAABlBQAA1AcAABICAAAAAwAAcQAAAKglAAATBAAA6QUAAPIBAAA9AgAAQgMAAOcAAACwAQAAkwAAAGwAAAAMAQAABgEAADsAAAAqFgAAfwAAAKMAAAC2AAAAFAUAAMEDAABHAAAAHwwAABkBAACMfAAAQAAAAJIHAABbCAAA6gEAAGEAAABJAgAAYgAAAJwAAAAZzQAAAQwAADUAAABGdgAAaQEAAJAGAABvAAAArgAAANMRAAA8DgAALAUAAEQGAADNAQAA6wMAAJZ6AAA3AgAAUQUAAKIBAAApBgAAyQMAACYTAACJAQAAWSMAAOIBAABKFgAA8AIAABIBAAALBAAADRsAAKoWAACWAQAAaQEAACMvAADpAwAAKQEAAOgBAACPDgAAhDIAAGcAAACGAAAAoQwAAFIEAADiBgAAhSgBAGgEAABPAwAAgwMAAO0GAADtRAAAxQMAAOkAAADpAwAAyAAAAOcLAACuAgAAwwIAAAshAAD8AQAAGwMAACMCAABoAQAASh4AAFFFAADPFgAAkQIAANo9AACtBAAA7xMAAMMAAAAaAQAAjx0AALICAAD5EAAAfAsAALwNAAA2DwAAWQEAAHEEAACHAgAAYQMAAIuwAABjAwAABgIAAC8EAADFAAAA1wEAAB8PAAB9LwAAeTsAAEwBAABKAgAAq44AAAMMAACwAwAAbQoAAKMAAACZdwAAjQIAAK0GAAAwBAAAawIAAFsHAACxEgAAEAEAAC8AAACUJQAAigoAACEIAAAZBAAAFQIAAGkCAACRAgAA+w8AAJozAADdBQAAEwkAAC0fAADfBQAABEgAABsMAAACCwAALhMAAHsCAADeGwAAOE4AAPYKAAD7CAAAjgUAAC04AADlEAAAvB0AAHUBAAD77AQAfhEAAD0JAAC6CAAAaQwAACUJAACmJQAAUwEAAPoQAACzJgAAqQIAAJ4BAAAUBgAAWgEAAKMZAAAmEQAAmw4AAE6oAAD5CgAAUxEAAC0PAAA9VwAAWSMAAI0HAAA7DgAAuxQAACUIAACXBQAAQlAAAAELAACwBQAAMSgAADgcAAAyQgAAQlUAAJR0AAAOHQAAJSYAAFYDAAAvEgAAxgIAAOgDAAARBAAAagEAAB8JAADPGgAAFhMAAHoCAAC9IAAAfAUAAPYDAAAzBAAA+AsAAM8JAABgAgAAKwQAADUFAADKFQAALIAAAAcHAAAMGAAA9oQAAP8WAADbDAAAShsAAM0zAAAJBwAASkoAAGgQAAAFIAAAAhAAAOAMAADqEwAAzWAAAJ4EAABrewAA2A4AAHcaAACUGQAAPB4AAN0TAADsAwAAiwcAAI4GAABwFgAArc0DAG15AABVEAAAPAoAANgKAADyMAAA2voAAGASAABzCAAALgUAAGcLAABTLQAAGwwAAJMUAADHBAAAhw4AADYeAABPCQAAIhsAALAEAAAaBwAASxQAABwRAAD4HwAAdZkAAAQTAAAxGwAADDcAAL2VAADkMQAATR4AACoVAAChFwAAUwkAAEAgAADlEQAA4CMAAMYUAAAgHQAANiYAAGgjAAD8KQAA52kAACsRAAD0QgAArQoAAGckAADQhAEArQUAANoGAAAsBAAAZUoAAC4EAABtDAAAOw0AAKMLAADJGgAAlg4AAE4TAADNBAAA5AQAAJgaAAClEAAAaw4AAB8UAAA7AAAA5gAAALAAAADXAAAADwEAAHcAAAD7BQAARgAAADoAAACnAAAAGwAAAEsAAAAZAAAAYwIAAKcBAADuAAAAjQEAAKEBAADMAAAADgAAAFYAAABgAwAAgQAAABAAAABiAAAAzQMAAGUAAAAYAAAAMAAAALUBAADpBgAAgQAAAOsAAACIAAAAJgAAALgBAABtAAAApwEAAAYFAABuAAAAIAAAAJ0AAADmAAAA2QAAAMYBAACAAAAA3AAAAHYAAABLAwAAuAEAABMDAADaAQAARgAAAFsAAABCAwAAQAQAAB4AAABmAAAARAMAAIUBAACFDAAAggAAAGYAAAAhAAAAFQAAAIQAAADRAAAAJwAAALXQAAAZAAAANwAAACYBAAAmAAAAKQAAAJQAAAD1BAAA9QAAAGkAAADUAQAARQAAAJ8AAAA9AAAAggAAAFUAAABlAQAAgwAAABEDAADDAAAA0QIAAIIAAAAGBgAAAQEAADcAAACqDgAARgAAAFgAAAAsAAAAggAAAK0AAAAeBwAArREAADsAAAAxAAAAvwQAAEIGAADiAAAA2QAAADoBAAA+AAAA3wgAABIJAACZAwAALQAAAFQAAADBAgAAfAAAABsAAADpFwAAcxgAAJQAAAArAAAAKQEAABQAAAB7AAAAgAAAABMAAAC7AQAASwAAAD4AAAArAgAAvwAAAGMAAABEAAAAIwAAAF0EAAB2GQAAiAIAAEsAAADqAAAAwAIAALUAAAA3AAAAKAAAACoAAAA9AAAARwAAAAkBAAA1AQAAKwAAAJ0DAAA2CQAAOAEAAM0AAADFAAAAPB0AAC8AAABmAAAANgAAACkAAADQAQAASwAAAGYAAAAgAQAAnBoAAG4EAAAnAAAAOAAAAOgAAAANAgAAnAIAAD8AAAB8BgAAIQAAAHIDAABOQAAAJQEAAGcAAADDAAAAcQAAAFIBAAA4AQAAKgAAAAUBAAAGAQAAYgAAAOsAAABZAAAAUgAAADgAAABjAAAAygAAADsAAAAUAAAASQQAAFcAAADWAQAAjwAAAH0AAABFAQAAywEAAPUCAAAxAgAA4wEAAEAAAADoAwAAQgkAADUAAAAkCQAAcAEAANcAAACVAAAAsAAAAB8AAADoBQAAkAEAABIAAAB5AQAA7wEAANUAAABPAwAA3QAAAEEBAAB/AAAAEAAAABMAAABaAAAANQAAABIBAACjAAAAiAIAAHsAAAAcBgAAYgIAANgIAABHAAAApAAAAMMCAABMAAAAjQMAACIDAACoAAAAPgMAAHICAADABgAAbwkAAFEXAACuGQAAxAEAAC4EAACUBgAAlRAAAGAAAAB3UAAAIQQAAOECAAAXCgAAFRQAAMwAAACjLQAA1qQAAPEBAAAMBwAABQMAAFoPAACLAQAABAEAANIDAAAZAQAAZgsAAD0hAAAcMAAAxwIAAL4MAAClAAAAIAIAAN8JAADoAgAAWgEAALUCAADOAAAAvyoAAL0DAACDLwAAtTIAALkVAADlAwAAJgEAALQAAADrAQAAzQAAAFYJAAACBQAA+gAAACQCAAAOAQAAvSgAAP4AAACcAQAAtgEAAOu+AAB5BAAAJAEAABMCAACoAAAA3wUAAN0KAAAhAwAA2AEAALkAAADHAwAA7gEAABiiAQDEAAAAowEAADYCAABeEQAASgEAAIMBAABQDQAAVgEAAD0DAAAkJQAA2gIAAAMCAABPEwAA4AQAABgGAABopgAAxwAAACEBAADrAQAAcAAAACkBAABLAwAABAMAABofAABdAQAA1wAAAHYBAADoAwAAmgYAAL0FAADaAAAAppcAAJABAACiAQAA7F4AANtIAACIAAAA3wUAACwBAADRAQAA/AkAAKEAAACrAQAASAIAALwAAADCAQAA/wcAANIGAAAyAQAAQAIAACIBAADEEgAAOgQAAIUHAAAlBAAAGCcAAAMQAADmAAAAFwEAADcHAACTEQAAxCkAAI0JAAARAgAAXggAAAYBAACKTwAASgEAAJ4AAABwhAAArAAAAKMCAABuAwAACloAAJwGAADpAAAAkxAAAF4XAABRAwAAZwMAAC8NAAAOAgAAPA4AAN4AAAACAQAAwgIAAAgBAAD+AAAARwMAAKMAAADUAgAAwQgAAFk1AADqFgAAjQEAAHQBAABLBgAAJwwAABAVAACCAwAA3AAAAN4HAACuBAAA5QAAAL8AAABAGgAAYQAAAN4BAABZAQAArQAAAAQDAADpMAAAPAMAAL8AAACCGAAA1gAAAMMEAAAEAQAAzwAAAJMMAABGBQAAigMAAHsDAACjBAAAqQAAAFohAADYAwAAvA4AANQAAADsAQAAYgMAAJQEAABKFgAAqgAAAJsEAACLAQAAeAEAAMQEAADJAAAAkgEAACsDAADJAAAA8wwAAN8AAAAxBQAA5gYAAF0FAAD0AAAAHwIAAINMAADIAgAApgEAAL0cAAAaAwAAUAIAAJgWAAAfCQAAGRYAAJ8oAADGAQAARQEAAK9qAAAtAgAAYgIAAD1jAADnTwAAUlAAAPEDAAA8AQAACw0AAP0DAADGCAAAtwIAADcBAAA0AQAAGQIAAO0FAAB0FQAAkgIAAN0EAABCDwAAhQEAAEACAADjAAAA0gAAAAkFAACwBwAAaCAAAIIOAAB/AgAAJAgAAP4EAAABBwAAxgMAAGAPAACBHgAAlRYAANoEAAA1QQAAnwYAAH8BAACAAgAAPgoAACoDAAAPCQAAXgIAAHUBAAApHAAATQMAAC8BAADEAwAAEwIAAJoDAAAREgAAXAQAAO0AAADEGAAA6AIAAHUBAAANjQMAJgcAACVJAAC9FAAAbgsAAGQKAABmAQAAmQQAAEIcAACSBwAAnSkAAAYwAAC+JgAAvAMAACIUAABkAgAA3QMAAN4DAADjAwAAMRAAAIoAAACpAgAA8g4AAEwOAAAfAgAA3AgAAF4BAACGAAAAblEAADQBAADnAQAAUAcAACZXAACpAQAAyQ0AAKoKAACgIQAAuRQAAOQHAAAhBAAANwwAAPDoAAC1AQAA1wQAAC0EAADXOgAAfAQAACoWAAAOBAAAth0AAEAlAAA6AQAAewQAAJotAABTBAAAZgYAAOwlAAAkBAAACgEAAIcGAACBAQAAmggAAPwVAAAiCQAArwMAAKoBAAAlCgAAdDEAAAMCAAClOwAAFgEAAP8BAADIAgAAbQIAAL8CAADVAAAAAQoAAJQCAADuCwAAogIAAAcCAAC7BwAA5QMAAI0IAABYTgAAPwoAAPcCAACpAwAASAQAAKMDAAAWWwAAZQQAAEoIAADtAwAASwIAAGYDAAAlMAAA7wYAAHoDAAAdCAAAOAMAABoMAAA8AAAASQAAABwAAAA4AAAAiQAAAHoEAABgAgAALAAAADsBAAAOAAAAUAEAAH8AAABqAAAALgAAAGAAAACwAAAADwAAAEMAAABdBQAAkwIAAJsAAAARNQAAkQAAAAcAAACcAAAAMgAAAB0AAACMAQAAkgAAABAAAABIAAAANgAAAAgBAAAhAAAAVQAAAKYBAACfAAAANowAADMAAAAOAAAADQAAABgAAAAtAAAAFAAAAAALAADYAAAANQAAAEQAAABBLAAASgAAAJgAAABQAAAAUQAAAHUAAABJAAAAMgAAAG8AAAA8NQAAFAAAAIUAAAA7AAAAEwAAADgAAAAIAAAARwAAABgAAACMAAAApQYAABMAAACLAAAAGwAAAGcAAAATAAAAKgIAAA4AAABxAAAAEQAAAC4AAAAiAQAAbQAAAA8BAAAOAAAA4w8AAFQAAABWAQAAbwAAACEAAABBAAAAuQAAAE8AAACyAgAAIQAAACIAAAAMAAAATQoAAA4AAABVAAAAdgAAAD8BAABTAAAAOAAAAEcCAAA2AAAAvAoAAF8AAAAZAAAAHWMBAFQAAADrAAAAEQAAAG4AAAAVAAAASwEAACsAAAC3AQAAdgsAACEAAAA3AAAAKgAAADoAAABzAAAA+AYAAJcDAAASAAAANQAAAFYAAACyBQAALwAAAGMAAABIBgAARQEAAEQAAAA6AAAAOQAAAKoAAADPAAAAJAEAAB8AAADaAAAAMSEAAFAAAABPAAAAcwAAABsAAAAaAQAASQAAABsAAABhAAAAOwAAACYAAABGAAAAfAAAACAAAABVAAAANwAAACMAAACkAAAA0AwAAA8AAABUCwAAIAAAAGAAAAAwAAAAbQAAACYAAAANAAAADwAAAFQAAAA5AAAAEwAAACQAAADDAAAALgAAACIAAAAWAAAA3QEAAHsDAAA/AAAASwAAALUAAACiAAAASQAAADYAAAALAAAAVBQAACEAAABjAAAAaQAAAG0AAACjBgAANAAAAC4AAAA5AAAAPQAAABUEAAAKAAAAQAAAAGcAAAA1AAAAXgAAACkAAAA8AAAAtwAAACgAAAAhAAAAdgAAACYAAABhAAAAOwYAAC8AAACUAAAARAAAACUAAAAQAAAAMAAAAEUAAAAjAAAAVAAAACoAAADeEgAATQAAABoAAAAfAAAAIQAAAJoAAAAwAAAAKQAAAJ0AAABPAQAAFAAAACIAAABLAAAACwAAACgAAABaAAAA5AYAABYAAAAcAAAA7QEAALQYAAAXAAAAuAAAACMAAAAIAAAAGgAAAGgFAACdAAAAFQAAABMAAABaBgAAdAUAAOcMAAAcAAAAHwAAADcAAABbAAAAYQAAAAoFAAAtAAAANAAAACkAAABMAQAAlQAAABkAAAAfAAAASwAAABIAAAAIAAAAWwAAACkAAACUAAAAIAAAACgaAAAtAAAAHQAAADkAAACmAAAAtwAAAC0VAADyAQAAOgAAAFkAAADWEQAAWwAAAHMAAAA0AAAAQQAAAB0AAAA/AQAA8wEAAAwDAABEAQAAFAcAAGwBAAC9AQAArQMAAOM4AAAnCAAAFQgAALIAAAAaHAAAJwYAALUGAABdCAAAsS0AAGg7AACJNgAAggAAACABAABXBAAAKQIAABQCAAAFBgAAGAEAAP4OAACaCwAAFxUAAOJqAAD6AAAAQS0AAGoEAACREAAATAIAACFCAAB8AAAABAIAAFoLAACDTwAAPgEAABAQAADcCAAA9gEAAKj4AABnBwAAngIAAAABAACnFwAAhQEAAMYgAACpBQAAfBcAAJsCAABrVgAAoRQAAP0AAACmAwAAES0AAGwAAAAmGAAA9AQAAIooAACJPgAA4g4AAEQCAAC4mQAA0gAAAKXiAgC5BQAAjU4AAGoYAAAmGQAAhzgAAOMWAADLKQAAbRoAAMwGAABKWwAA1yUAAAsoAADUBwAAcEsAAFQeAACaAAAA9QAAAKsAAACpAAAAFwMAANlXAABaAwAA1wYAAB9hAACODwAAyCAAALULAACdAwAAdlQAABYRAAAgAQAAFzgAAAkYAADGAgAAXQQAAMcKAADeBwAA1AIAAH0BAACgUwAA4gAAANQIAAA9AgAAChIAADgBAAA9AAAAbAEAAMEGAAC+CAAA7AQAAA4JAAAuAwAAWQUAAFgzAAD0AAAA7QEAABsFAABFAQAA2A8AALovAgCJVAAAlAgAADlyAAATAQAAPA0AAKgIAACoAQAAgQ4AAP9bAAD/AAAA0RMAALwQAADVKQAAdzEAAFQNAAB3BAAAFwwAABgBAAAJPwAAMR8AAIcGAADEDwAAUyYAAKABAACEAgAA2AEAAGgEAAANCAAArh8AAO0AAABDMQAAowsAAOYMAAB8AQAAeAsAAFAIAACTCwAA3wIAAKUEAAAIAQAAowAAAM8AAACMAAAAOQEAAHYEAADTAAAAxQIAAIAAAABvAAAAGwEAABABAAB0AQAAfwIAAFUEAACQAQAA4QAAAIEAAACFCQAAxAIAALwBAABSAQAAwAUAAGwBAACdAQAAfgAAAHIAAAAyAQAAcAAAAKUAAAAqBAAAtwAAAKQAAACdAAAAWgAAAAcBAABSAAAAYAMAAEgBAACWRAAAWgAAAF8AAAB6AAAA9gQAAHEEAAA6CQAARQEAAOcBAADzAAAASQYAAEEGAACGJwAAswAAALsAAACsAAAATgQAAFYAAABVAAAAYAIAAO0AAADjAQAAngAAAEoBAACmAQAAZAIAAMkAAABfAQAAJAEAAE4BAADUAQAAZAMAAGcAAAAJAQAAVwAAAKYAAABCAQAAhAAAAIMAAABeAAAAmgEAAJgCAADWAAAANgMAAIgAAAAZAAAAdgAAAHsBAAB9AwAAqQAAAB48AABVAgAAdAAAAIIBAACgBgAANA0AAJMFAABNAAAA4gAAALDVAABoAAAA4QIAALkAAADtAAAAOzYAAF4AAACtAAAAzwAAAGQDAAB1BAAAWAAAAIsAAACHAAAA+wAAABYBAABfAQAALQIAAGgAAABFAAAA6gEAAOMAAADoRgAAEQEAAKUAAAA4AgAAQQAAAAECAACMAgAAIQAAAI0DAAC3AgAADAEAAEsCAADXAAAA1wAAAHAAAACIAAAAXwAAABcBAADNAAAA6wAAAKsBAABfAAAA4AAAAKsAAABDAQAAWgEAABMCAAB4JQAAPwEAACgBAAC0AAAAZQAAAOwFAACBAgAA3QAAAJcAAAD0AAAAvAAAAFMAAAAnEAAAlQAAAJIAAADcAQAANAAAAKIAAAB0AAAAqQIAAFQAAABlDQAAqQMAANkAAAA5AwAAhAAAAE8BAABrAAAAZAAAAHwEAABcAAAADgEAAGoAAAA2AAAANwAAADoAAAD7AQAARQAAACkAAACJAAAAqgAAADsCAABZAQAAoAAAAD4AAAD5BgAAHgMAAAgBAAAQAwAAhwMAAF0BAADRAAAADQkAAOcAAACJAQAAogMAAE1UAAADKAAAyAEAACOLAAAAFQAAyw0AAJUGAAA9PQAAcEMAAAMKAABoEwAAgwsAAOUFAACtAQAAcwYAAEgKAACnBgAA4QYAAFUCAABZOQAAVAwAAAAPAAADAwAAZBsAAGUDAAAqBQAAhgMAAE8CAAAPBgAArgsAAD4FAAAjAgAAYhQAAMgKAAA0BgAATwIAAFcBAAA9AgAAkhUAAHMJAADMCgAASwcAAHIDAACpBwAAyrUBAOIMAADSBAAAZiwAALQBAADd1wAA0w0AACYDAAB5LAAAaxkAAIRfAAAbJwAAMQYAADkRAAD3BgAAtQYAAJwUAAALCwAAExcAAMYRAACMCAAAxggAAFgTAABPDQAAxA4AAGIDAACRAgAAaREAAB0IAACYBgAAPQgAAAoEAABiCQAAeDYAAM0zAADJGwAAPwUAAOUCAACKgwAA5A0AAF4QAABQKAAAhAsAAEkeAACZAwAAvxcAAIYBAAANBQAACwoAAKsQAACNCgAAXwgAALgAAAAtAQAAPQIAAGECAABIAQAAJgIAACUDAABEKAAABwEAACcnAACRAAAAJgEAAN4fAAAmCQAAugEAAAoCAAC6AAAAQgEAAKoBAADmBgAALwEAADgBAACyAgAAIAEAACEEAAAWBQAAmAEAAMMCAAB/EgAA3wAAAGsAAADNAAAACBAAABMBAABNAQAAXw0AAK4IAAC4AQAA4wEAAD4AAABmAAAAjwAAAJEDAACdAgAAJgYAAGkAAAB6AQAAjwAAALMBAACzAQAA4gIAAFkLAACRBQAAsAAAADMDAAAAAgAAKggAAIkAAACBAQAAtwYAAHYKAACoAQAAaAIAAKkBAAAfAAAA3Q8AANYDAADdAQAATAAAAGgGAADvAAAANAEAAJ0DAADRAAAAfgAAALwDAAAZBAAAiQAAAPUAAAByAgAAFgQAAIPdAQBkAQAAKgIAABcDAABdAQAAfwYAAEQBAABvAAAA3QAAAMwEAACsAAAAaAMAAFQBAABdAgAAFQEAAAMBAACWBwAA4gAAAOsAAABhAQAATAMAAJEEAAAPAQAAYgEAABoLAAAS9gAAlQEAAIgBAABoAAAAuwIAAF0BAACOAgAAaQUAAM0CAAA/AQAAoAEAAAgBAACAAAAA2gEAAMoCAABGAgAAjwEAABUOAADzAQAA/QMAAF4JAABUAAAAvHQAABACAABxAgAAVAIAAPMAAADvBgAAvwAAAOIAAAD7AQAA7gEAABEBAAD3AwAAuwEAANEAAAC3CwAARQEAANEGAADwAgAAZwEAABAIAABEFQAAhgEAABoBAADVBQAAzQIAAPMBAAAnCwAAsAcAAD8BAACIAQAA2gMAAMEBAAAfCQAAMgEAAOYBAAA5AAAANAEAAL8EAADRBQAAoAEAADUDAACvAAAA7AEAAH4DAADmEwAAfh4AAJgAAABlAAAAegEAAAIBAADXBwAARwMAACgCAAC1AQAAggQAAB0eAABfAAAA0wQAANkGAAAjAQAAYwoAAHwCAAAVAQAANAQAAJAAAACNAgAAiAAAAKsCAAB4AAAA9gEAAAYCAAAjAwAA10gAADkLAAAzAgAAfAQAALQAAAAuBwAAVAIAAHABAACSAQAAbAMAAFEBAACeAAAAWgIAAP0VAAAgAwAAQgEAAFgBAADLCAAAMAYAAP4CAADvAAAAIicAAAoOAADaCgAAGQEAAKgBAACqCwAAEwEAAPAaAAAxAQAACg0AAHgAAADzGAAAxwEAAGsHAABXBQAAIQgAAKUAAABAAAAATgAAAAMGAACdDQAAxwEAANwAAACuAQAAKwoAAFQBAAApRQAAngMAAOcAAABcBAAA0gAAADwAAAAFAgAAzAQAADcJAAC2AAAAnBQAANQIAADdCAAAKgYAALAAAAD3AAAAGAEAAOsYAAB1BAAAQQAAAFkAAAAlAwAAZQAAAJAAAAB7AwAA0wIAACACAADhAwAAJwAAAD0lAACBAgAAwgAAAKEAAAChAAAASwIAAN4FAABXAQAASwEAAHsBAACiAAAAmQMAAD8AAACEAAAAfwAAAKQAAAAlAwAAwwAAANYEAABbAAAAAwEAAHwHAADXAAAA9gIAAK8DAACMAAAAkQAAAKMAAAD2AAAA0x0AAIYAAAA+AQAANgYAAGQAAAAWBAAAhgEAAJENAABjNQIA9QMAAL0KAAD+AAAAuQAAAKwBAABQAQAAHQEAAIMAAADRAAAA7AAAAEgCAADYAAAAmQMAABUDAABuBQAAZwAAALg8AAB9AgAAbAIAAIwEAAC0AAAA2wEAAFgAAABZAAAALAEAAOYAAAAvBwAAxAAAAOsDAACnAAAAvgAAAHkAAAArAwAAMwQAAMMAAACdCAAAsgEAABoBAACzAQAAZQEAAMsAAAAVAQAAjQIAAM0AAAAgAQAAxwsAAI8KAABMCQAA3wIAAPkAAACWAQAAiAEAAPwAAAACAQAA8AAAAIoFAACYAgAAxQMAAAYBAAAZDQAAXQEAAHsBAADGBAAA6wMAAO8BAAB/AAAAwQAAAH0BAABzAAAAngAAAB8yAABuBwAA/wIAADYBAAAIJQAAvAEAAKUIAABZBwAAgQMAADkBAAAbAgAAGAEAAG5IAAB9AAAAqgAAAEMFAACQAAAAQgAAALcEAACJAAAAUwMAABEBAAARAwAA/RIAAJIIAAD+AgAADgkAALMBAAB/FwAA3wAAACoDAADQBwAAdgMAAMgWAAB5AgAA+gEAAK8AAACQBAAAwQAAANIBAAApBAAA8QIAAMIAAABTBAAAwgEAAHcBAAChAgAAHQEAAKoAAADGAQAABgEAAF0CAADzAAAAvAAAAHoAAAAAAgAASQQAAGMAAAAAAQAAIgUAAKoBAABVAAAADw8AAHIKAACHAgAAgwoAAOABAABgAAAAkiYAACgAAACrAQAA6AEAAAcBAAAjAAAArAEAAHM7AAA1AgAAKAMAAAsTAADJAAAA7QEAAMcAAABTAAAARQYAAIoAAACqAAAAJAAAABUAAABlAAAAJgAAALsAAADtAgAAFgAAAOhhAACfAAAAUgAAACwAAABgAAAAgQAAACYEAACUAQAAOAAAAAoAAAArCAAAzwgAABEAAADIAAAAwQAAACgBAACfAAAAEQEAAB8BAAAqAAAAJQIAAEIAAACqAAAAYwYAAFYAAAAyCAAAXQAAAHwAAADODAAATwAAAJcBAAAQAAAAeAAAAN0AAAC5AAAAyy4AAFIBAABuAAAAiQAAAK8BAACHAAAADAAAAGIAAABIAwAAiQIAABcAAABzAAAAhgEAAIotAAAQAAAA9QAAACsAAAB8TgIAkwAAAGsAAAA9AAAAPQAAAFgAAABjAQAAYgAAAIEGAAA2AAAAIwAAAO4fAAAbBQAACAAAAN4LAABVAAAAVgAAAEsBAABSAAAAswAAADgBAADYAAAAGQAAAFoAAAATAAAAqg4AAEAAAADfAAAAWwgAAB8AAACZAAAAjgAAACkEAAC4DwAAGAAAAN4AAAB9AAAASwQAANcAAAAgAAAAfwAAAGcAAADAAAAAbwAAAMwYAABAAAAA/gAAAGAAAAD2AwAAkwIAANkAAAAEAQAAVQAAACcAAACrAAAALQAAAHoAAADKAQAANwAAAAgAAAAHAAAAkgAAAHYBAABvAQAA3gMAAAwAAACEAAAAvQAAADMAAAB7AQAAoQAAAEkAAAD3IwAARwAAAGkCAACTAAAAGwAAAAQAAACCAAAAKQAAAEsAAABcAQAASwAAACgAAAD/AAAADgAAAFYAAACpCAAA8wUAAB4HAABgBAAA1gsAAI8KAABZCwAAgQUAAPwHAACxEwAAwQkAAKMEAABYEAAAKg0AAHUQAACcHwAA0gMAACwMAADWJwAADg4AAKIGAAACFAAA4QkAAOQFAAD/DAAAxAkAADIIAACahAEA3AYAABgNAACASAAAMA4AAFgCAADTAwAA8AAAAK4DAADZAwAA7hQAAMMMAAAkCQAANwYAABAFAADjCgAAggMAAAYGAABTBgAATAgAAAYFAADxCwAA+iYAAIgDAADsAQAAmwQAAK4EAADbBQAAkzQAAKANAABRCAAAKQoAADsEAABhAgAAcgcAADUGAADbNQAAcTsAAJcJAABLJQAARAAAAP8SAAD/AAAAvigAAP4PAwAd2gEAOaYCAF4NAACvUgAAtzwAALkCAABwBQAAVPMAAHnoAABYkQAAawAAAJcHAACtGQAAfQcAAOcAAAAwAwAALwEBAGMhAADbAAAAQwIAACQsAAC1BwAADQsAAK0DAABqCwAAnAwAAKofAACSGgAA1QEAADAJAABzEAAAZAgAAN8dAAChAAAAHGYAAE8eAADfBwAAuCIAAJclAADF3gAAex0AAIoEAQAYAwAAeDsBAEwbAABSCgAAuhYAAM8pAAAYQwAAuwUAAC0HAAD0CQAARukCANMcAAAYCQAAWI0AAKABAACNAQAA7wAAANLlAgDeKQAA+BoAAKZCAABTAAAA6QAAAG8AAADaIwAAak4AACT2AgDwIwAAaQIAAEYAAADDIjQAix4BAE4lAAB0PQAAU2AAAOMbAABEJwAAexIAAHYBAADIFQAA+jgAAH8gAAD2QwMA2gwAAIgGAAAnDAAAq38AAJcAAAATDQAAqxwAAJgBAADnBQAAZmoAALEOAgBaAgAAQxkAAEAMAACHDAAA3QMAAMgAAADD2gAAuQAAACJdAQAMBQAAiwAAAF0AAAChDwAAqwYAACABAACEAwAAPY4BAIMAAAB1EgAASQAAAB6BAQBEAgAAwjUAAESYAAAvSQAA/VAAAMcjAAD5cgEA7QUAAOcDAADhCgAAaQAAABoSAAC5JQAAXwAAAOEkAAC1EQAA+goAAGsFAABSJQIAiigAAB0TAAB/EwAA5GIAAGwEAABOHgAAhQIAAB8HAABGBAAAHAQAAEEDAABUNwAAM0YBANgRAABrAgAAohMAAI0MAAApAgAAszYAAHYIAAD/CQAAtA0AAA0dAABQRgAAOQMAAAcLAABYBgAA91wAAKZGAACKBgAA5QgAANweAABZcgAARAEAAFIHAADLBQAABwMAAMTOAABJFQAAXQoAABYEAABzAQAA/RoAAEIDAAAZrAAA/2sAAIcHAAB5BwAAJBAAAAI1AABSCAAAAgEAAJOiAACbAQAAah8AANQJAADrBAAA6Q8AALsAAADqAAAAdSMAANEBAABWLwEAEAYAACsMAACUBQAAzgEAAK0DAADeBgAAMyEAAPEGAAAfAwAAMwYAABIDAADlAAAABnEAAOEPAADGCgAAJiEAANFkAADZDQAAQgUAAJcOAAC4CwAAPQUAAEUGAAAkDgAASwIAAE0yAQAcAQAA7gwAAGNPAQCOCwAANwYAAI0BAAClCQAAIA0AAAYDAABWBgAAswMAAI4BAABCAgAA4wAAAPoBAAAVBwkAs0YAABhtAgB2bAEAywQAAEkVAAClCwAAuAMAAKtWAABKEgAAGQEAABYNAADBJwAAIgEAAAbMAADaCgAAq4IAAMYAAABuBgAAWAIAAHwNAAB2DgAARgkAAE9UAAAIAwAAgwkAAOZPAQDrDwAASQ0AACIVAAB0BQAA1gcAADQLAAAVFQEA1gwAAE0CAADFAQAAPhgAAMgyAAApkgAAeAUAABuqAABUBAAA3CcAABpcAADwUQAADy0AAKkaAAARLgAALigAAGcIAACMZQAAgVoDAIw4AAAqMgAAIYoAAK8rAAAfSQAAf2oAAJEWAAAegAEAWh4AABuJAAC1LgEAqR0AALFEAAD5PQcAFAIAAHwPAACeRQAAvAQAACCMAAAicAAAipwAAIZXAAB/gwAAewMAAKFSAABoDwAAdYwAAMA/AAAyTAAAVgAAAAYCAAB3AAAAHQAAAH8BAABtCgAAvwAAAEsAAAD6AgAAHh4AAIMDAADhAwAA1wIAAFoBAABhCwAAkSkAAOYBAABzAgAAvwsAAAgCAABGAAAAawIAAPMxAABuAAAA5wMAAJsAAABUBAAALQEAAKcEAACfAAAACgEAAP8IAAAvAAAAIAAAADUAAAAeBAAAegAAAO4GAAB8AAAA2AAAAPYJAACsDgAAIQAAAFQBAABSAgAALgAAAPcAAADuAAAAQQMAALceAAAgAQAAgQAAAKICAACOAgAAfwEAAOwAAAALCQAA5gAAAL4AAABWUgAANgAAAGAFAABLAAAAlQgAAC0LAAB0BAAAawkAACMQAACvAwAAeREAAA8AAACNIAAAYQEAANEBAAChAAAAZA8AAAgiAABYDAAARgAAADsCAADEAQAALgMAAE4AAADxCQAAlgIAAKtXAADSAAAAFSEAAEcBAACZAAAAfgEAACsDAAAwAQAAagAAAEwAAABsAAAA+TcAAD0LAABGAAAADwEAAE4HAACIAAAAMwAAADEJAACuCAAA/gMAAP4JAACTCQAAYAkAAGIAAABdAAAAWgAAAIMAAAAOAgAAtAAAAEQAAAC0AgAArAAAACMAAACxAQAASQAAADkeAAAXAwAADgEAAC4BAACcAQAAqgAAAIEBAAAOAgAAsAEAAGQFAACfAAAAJgAAALQAAABvAAAANQIAANkAAAAtBQAAnQAAAJcAAAB+AAAAVQgAAGkAAACFAwAArgAAACgAAACSAAAAdwAAAMMLAADSAAAAKwAAAPcGAACcCgAA9wAAAF8BAAAgAQAAQxMAAC0BAAAvBQAAgwAAAMIBAAAyAAAAaQsAANwCAADPDQAAIwEAAMIEAAAGAQAANw4AADoAAACHAwAAAAIAAD0EAABrAAAATAAAAI8QAABYAQAAyAIAAJgCAAATAQAAdAAAACsAAACOAwAAPwAAAOgBAAB6AQAAhQAAAJcBAAC4BQAALwAAAPcPAADXAAAAMgcAALQBAAC7AAAAHQAAAEgAAAAzAAAAjwAAALYDAAChKwMAcxcAABoAAAAtAAAAEQIAAHILAABpAQAAdQ4AAL8AAADWAAAAFQAAAIAAAAB7AAAAcAAAAFEZAAD+EgAAbAEAAFkAAABaAwAARAcAADsAAAAtBQAA3wQAACsAAACiAgAAGioAAJQCAAAzAAAAYQAAAHMAAAAdlwAAmwAAAL4AAACsAAAAXAYAAOkAAAClAAAAbAEAAIICAACIAAAAQwEAAJQBAACtAAAATgAAAKsAAACMAAAANQEAAKAJAACzDgAAPREAAEwAAACqAAAABQwAAHEAAABjAAAA9AQAACAnAABPAgAAHgYAACIBAAApAQAAIgEAAOMAAABSAAAAlkwAAM8dAADBKwAADAkAAGUQAAABEAAA/D4AAKEGAAAKGQAAXwkAAMoDAAC/BgAAVQMAAMEFAADgBQAAqCsAAPQzAABuAQAAtQMAAMwCAACXCAAAQwQAABgDAACEAgAAPQUAAKoEAAD7NgAAxAkAALcDAAAMBQAA1gQAAF8WAAA0BAAAZAwAAAAEAAAyBgAA3gEAADcEAABOBAAAoCUAAJgCAACiBAAATQUAAEgFAAChAgAAtQEAAIwEAADJBQAAzgIAABwHAAAVCwAAHgMAALYKAABVBAAAfAcAAO4DAACeAgAAXQkAAIoFAAAACAAArwYAALuZAQBIBQAA/gUAAAoCAABLGgAA4QYAAF0DAABfBAAAQAMAALAHAADKAQAA8wIAAFICAACbBAAA5AUAAEgTAAAGAgAAfwUAAH8QAABuBQAADwQAAFYWAADFBwAAWQQAAC0EAADQBQAARgEAAB0JAADEBAAAdwMAALsDAADmNQAAsAoAAD4HAAAeBwAArwQAABsDAAB+BgAA/gEAAPoFAAAcJwAAWwIAAFcmAQByBQAAcQYAAGQFAAB0BwAASQQAAGsHAACdLAAArBgAAOwBAAAQKAAAkwUAAGxWAAC0DAAA+wwAAEwMAAAVPQAAIBMAAAwDAACgDgAAERkEAKUoAADYJQAACwMAAEoEAAAhAQAACgQAAIqVAAD8LwAAEygAAI8qAAByNgAA7TQAACSNAADpCQAAlgcAAFMUAACwHwAA7hMAANwCAAB/XQMAIBQAAAYCAACkBAAAhwAAAGEaAABAAgAAbh4AAKMCAACIBAAAUwcAAJ0GAACwFQAAPAcAALAGAAC/EgAALTwAAFABAACpAQAAkAEAACEBAADxBAAAcc0AAE0DAAApBAAA3w4AAPsNAAAuAgAAAwYAAEEiAABaDwAA+AAAAO47AAAoBAAAiAAAACYAAACqAAAApxoAAJADAABSAAAAJgAAAEMCAACaAQAAUAEAACwAAAAPBAAA2wAAAIIAAAA1AAAAzAQAALsYAAAWAAAANQAAAIgEAACGAAAA9QIAAB4AAAAvAAAAEAAAAHIAAABlAAAA/QAAACgBAAANAQAANwAAAFMAAAAxAQAASAAAADwAAADPBwAANwAAAEABAAC1AAAAWwAAAKgAAADFAAAA8QAAAOwIAADbAQAAsgAAAK4BAACAAAAAYwAAAIwAAACBAAAAQAAAAIcAAAAuAAAAGwoAAHwAAACaAAAAiAAAAKsAAADsAgAANwIAAOQBAADlCgAArBUAADcAAABKAAAAagcAAJ4AAABqAAAAqgAAAIkBAACQAAAAdQAAABEBAABaAAAAPgAAACkAAAAHBAAAOgAAAJEAAAA6AAAAygAAAE8AAAAPAQAAZQAAAEcAAABHAgAAOwAAAFAAAAAuAAAAJwAAAKoAAAA7AAAAwisBANcAAABoAAAAdwcAADkAAABIAAAAGAEAAHYAAACjAAAAwQAAACoAAAB6AAAAYgAAACgAAADqAQAApgAAABIAAAC1AAAAUQAAAPsAAAC0AAAAOQAAAMAAAAAdAAAAjQAAAIgAAABLAAAAmQAAADYAAAA1CwAASQEAAJcBAACWAAAAFAAAADEAAAA1AAAAXAAAADQAAACQAQAAKgAAAKYDAADAAAAAXQAAAJ4AAACwAAAAigAAABYAAABKAAAA9AEAAMYDAAAtAAAASgAAADQAAAA8AAAALwAAAEwAAABTAAAAaQQAAKcAAAAhAAAALgAAADIAAABCAwAAMAAAAGMAAADRAAAAPQAAAMkAAACuAAAAMAAAAGwHAAAHAgAAqQAAALcAAABpAAAA7wAAACUAAABsGQAAQwAAAF0AAAAuAAAAHAAAALAAAAAUAwAAhAAAADwAAACTAAAAbwIAAG4BAABMAAAAGAAAAGAAAABTAQAAKwEAAD4AAACmBAAAqAAAAMEAAAA5AQAAJhYAAJuBAAAINgAASQoBAAUEAAAYmAAALAMAAAgeAADrYAAAvxUAAOt/AAC3UgAAMx8AAP1zAABuVAAAFM4FAF6uAADzSwAAZNMAABkdAAB3SAAAKi0BADc3AAAoXQAAIgcAANORAQBOMgAA1lMAANEaAABGQAAAKCYAAJ0OAACwHgAAwUYAAEwKAABJDgAAXDAAAD0uAACOJQAAuDUAAKEGAABaaAAAthMAAMQMAAB2CQAAkgcAAKMRAADZAwAAq04AADcMAABlBgAA6ggAAP86AABFKgAAOScAADVPAADTCQAAWl4AAJAUAABfEgAAc0sAAEkRAADHAgAADhAAADA7AABeDgAAIEcAAAgMAAC6CwAAhUQBAOdQAADdCgAAEUQAAJxaAADMFQAAEAwAADBxAABcFAAAxAgAAG0ZAADWJAAA5ygAAPpFAACmIgAAoB0AANY1AAAuRAAAJxYAAFl8BADtFgAAqRMAAIGTAADxJwAA8RIAAEkWAACPAAAAhAAAAFgAAAAfAAAASgAAAGUAAADAAQAAAhQAAMgAAAAVBAAAYgAAAIYAAABbAAAAYAQAAPwAAADJAgAA/QAAAGIAAACWAAAABwIAAEAAAAD4AAAAGwoAAGMAAAAJAQAAtQAAADEBAACEAAAAtwAAAFkAAABFAQAA4wIAAGAAAABZAAAAugAAACsAAABkAAAAnQMAABgBAACGAQAASQAAADAAAAClAQAAGgAAALUuAAD7AAAAgwAAAEsAAABGAAAADAEAAPUAAACBAAAAMQAAAMQAAAA7AAAAbQAAAG0BAADhAAAASgAAADwAAADtAAAAghAAAEIBAACxBAAAZwIAAFUAAACDAAAAvAIAAI4AAAD6AAAASwMAAEYAAAAXAQAAjwMAACQDAAC+AAAA1B0AAHAAAACfBQAAuwAAAEQAAAA/AAAAqAAAAOsLAADNAAAAIgAAAC8BAAA+AAAAQwAAAG8AAABtAQAA8AEAABcAAADhAAAARi4AAF8AAACtAAAAbAAAAKIAAAB5AQAASQAAAH0AAABBAAAAoQgAAJAAAABkAAAAbAAAAGsCAADiAAAAlAAAAMwAAAD0AAAAIgAAANMAAAD1AAAA9AAAAMwAAACnAAAANAEAAGIAAAC1AAAA/wQAAIwCAABUAAAA/AAAAPQAAADxAwAAjAAAAMACAACQAQAARQEAAAgBAABtAAAAzAAAAJsBAAA3AAAAHwAAAJAAAACcAQAAfAAAAE4AAACEFQAARQAAAOIAAAA+AAAAQQIAAGUAAADNAAAAHgAAAB0BAAAfAAAAxwAAALcAAACsAQAAugAAAO0FAADRAQAAkQMAAOYFAADpAwAAvQEAAIcAAAAaAQAAUAAAAMUAAAA5AAAA+gAAAFIAAACDAQAA+wAAAL8CAABlAAAAZQIAAJ4AAABpAAAAsAAAAFgAAAC/AQAAfQEAAPwAAAArAAAANQAAAFUAAAD1AAAAfwAAAMYAAAAGAQAAMwUAAJQAAADlAAAA4AAAAFgAAAA2AgAATAAAAP4BAADGAAAAhQAAAEoAAAB4AAAAoAAAADcBAAA4AAAALAAAAJcAAABqAQAATAAAAF4AAAC2AAAAcgAAAJcAAAArAQAAigAAABABAADxAAAAgAEAADgAAAA5AQAA3AAAAHwAAAA6AQAAhwAAANcAAABWBQAAnwAAAEgAAABGAAAAmQAAADQBAACvFwAAtQAAAKsAAAAjAAAAOgEAAHoAAABeAAAAlQAAALYAAABAAAAAwgAAADQAAACOAAAAIQAAAI4AAADhAAAAQQAAAGABAAA3AAAAxQAAAEEAAACuAAAAZAAAAMkBAAC7AAAAUQEAAK0AAABSAAAA4jUCAGMAAABwAAAASAAAAHcEAADbAgAAQwAAADMAAADUAAAAcQAAAHQBAABeAQAA6gAAAC8BAABuAQAAyQAAAJEAAAANAQAAXAAAAF8AAACGOQAAGgEAALwBAACVAAAA5QAAAEQCAABlAAAA/AAAALUAAACdAAAAzwAAAPYAAACKAAAAKgAAAKQAAACtAAAAAAEAAAECAABjAAAATAAAABEDAAANAQAAxQAAAFMAAABhAAAAeQAAAJQMAAD/AQAAPAEAAFYAAAC4AAAAoAAAACMAAAA2AQAAvQAAAFQAAAC9AAAAQwAAAJQBAAA7AAAAgAAAAG4AAAAeAQAAdwAAADkAAAAIAQAASAAAANsAAACVAAAAEwEAABwCAABjAAAAawAAAIsBAAAEAQAA2AAAAG4AAAD1HQAArgAAAGIAAAD9AAAAxgAAAJsAAADMAAAATgAAAEMaAABgAAAA4wIAAJoAAAAoAAAApAAAABYAAACJAAAAKgEAAOwAAACKAAAAsAIAAOoEAADbAgAAOQkAAN4AAABHAAAAwAAAADEAAACFAAAAmAAAAHXFAABUBAAAFwgAAJAWAACgIwAAYFIBAN4HAAAEHQAA4BcAAEgSAAB7cAAA+gsAALARAABsBwAAPBMAAL8HAAA33wAA2RUAAHJYAADUVAAAXwcAAN1eAAACcgIAO08AAMgjAABZpgAA3B8AAJF6AAAzCQAAiwoAAJKSAAA/RgAAyBAAACgTAABiWgAAWiUAAM08AACfOQMAGjwAAFUwAAA+JAAAYRIAAKpgAADjCgAAzxEAAI0sAAB8CgAAlBQAAPYSAACKCwAAYSQAAE8HAADOEwAA2gcAAMMJAAB9EQAACwEAANwGAABQBwAA5wgAAN0BAAAjSAAAhRIAAKICAABVCAAA4h8AABwCAADmAwAAyQMAANZ2AAChAgAA6RYAALQMAADKggAAIgIAAFIFAABcIQAAYggAAD0qAABbCAAAmA4AAA4WAADgAgAAmgkAAEsHAABQBgAARQIAAPYAAAAAKgAAygQAAFYJAADHBwAAYAIAAEYUAAAtCAAABh4AAAcJAABlFAAAjgEAAMgFAACMCgAAzggAADoBAAAUAQAARgAAAJ9oAADKAAAAXxgAAEkFAABBCwAA9QsAAMoDAAB2IQAA0CAAAAcSAADqCQAA6gMAAIsGAAAFAQAAMAQAAD0DAAD4AgAASAkAAKgAAACwAQAAVgEAAAg2AACXJAAAFagCAHMQAAAAAQAAywYAAKQqAACYDwAA/AEAADYHAAA0BAAAWwQAAIQjAAB3AQAAz8kAADUAAACdAAAAsgMAAGgIAAB0AwAAQAEAAKMDAADsCgAAsgIAAAADAACVBgAAcQ8AAPwDAAD8AAAAgQsAAFsDAAAoAAAAewAAADQCAAAaAAAAEgAAAE8AAAA7AAAAKgAAAGwAAAAfAQAAQwAAADsAAAAYAAAANwAAAHcAAABCAAAAHwAAALQAAAASAAAA8QAAAFEEAACWAAAAiAAAAGkAAAAkAAAAzwEAAN8EAADRAgAAVgAAAEsAAADHAAAAkAIAABkAAAADAQAA5g0AAJMFAADGCQAAiAAAAJsAAABuAAAAMAAAAB8AAAAgAAAAGAAAAFEAAACRAAAAhgAAACMAAAAcAAAApwYAADMBAAB2AAAATwAAAE0AAABJAAAAOiUAAOUCAAAgAAAASwAAAKsAAAAoAAAAYAEAANQBAAAUAQAApgAAAKEnAABHBgAAqgAAACABAABNAAAAeAAAAGMAAACLAQAALQAAAAQDAABEAAAAUwEAAN8AAABkAAAAhQAAAF0AAAADAgAAcQIAAAABAAAxAAAAKwEAAH4GAACqAAAAwAEAAC0AAAC4AAAAagAAAHMAAABUAAAAMwEAAEAAAABZEgAAEwIAAGUAAAA1AAAABwEAADMBAAD5AAAA+wIAAM8AAAAHAQAARwAAAEEAAAArAAAAigAAAKEAAAB8AAAAOAAAACgAAACLAwAANQEAAJEAAADjCgAAFwEAAGEAAAAUBAAANQAAAFwAAAAZAAAA+gQAAG4BAAAAAQAA9wEAAD4AAAA1AAAAxgMAABgAAABQFwAAXQEAADAAAAAUAAAAwgAAAGAAAAA2AAAA1AEAADMAAADCAAAASgAAADwBAAAbAAAAYAgAACsAAAAbAAAA/QAAAEoBAADNAQAAmgAAAFMAAAADBAAAFwEAAFUUAAD7AAAAhgAAADcBAAB1AwAAMQAAAFUAAAAXAgAAMwAAAOoAAACJAAAA8QAAAEXJAADcAwAALwAAAB4AAACHAAAANQAAACQAAAAyAAAA2AUAALMAAAAAAQAAtAAAAFEEAAD5AwAAYgAAADwAAAAdAAAAUAAAANoAAABNAAAAZgQAAEoAAADYAgAAQQAAADQAAADFAAAAUwEAABEAAAD1BQAAUQIAABUAAAB4AAAAdQAAAPIBAACYAQAASwIAAGkAAABgAAAAtwEAAIQAAABRDAAA+gcAAIkGAACXDAAAeiwBANovAADPDAAAGkEAANkEAAAwBQAA/RkAANlLAAAWEwAAvxcAAAYMAAC+HAAA8ysAALpZAABTMgAAnxwAABpAAAAhcAAADBQAAOgpAACvdAAAOQoAALsUAAAOFAAALwsAAAFDAABkAgAA5wUAABUSAABuFgAAd3kAAK4EAABZEgAAgg8AAI4kAgBMmgAAYkAAAGowAABPHAAALAMAAOkoAADzHgAASg4AANQ0AADaCQAA8DYAAKYZAAAgDQAAFQ8AAGFsAAB4AwAADUcAABISAAAxAQAArl4AABq7AAC2SwAA+wkAAFMKAAA0DgAAdxsAAFxqAADwBQAAICUAAN5DAABllwAAPSQAAHsaAADdEwAAGggAAFYOAAAZNwAAzQkAAC8qAABvCwAAXy4AAPsFAABRngAAVBAAAJ8FAADaDAAAzBUAADJaAAAnOAAAWAIAALEhAAB1EAAAgH0KAJ0kAACQYwAAsiQAAM3LAACQHwAARRIAABobAACpEwAA6gMAAHIeAABuSwAAUg0AAJUWAAAMIgAAAgkAAIIBAAA6AAAAFgwAAMcAAABrAAAAOwAAAFMAAAAUAAAAEgAAABwAAAAeAAAAPAAAABgAAAAVAAAAtgAAAHwAAAByAgAAZBUAADwAAADYAAAAMwAAAEwAAAAJBgAAKgAAAEYAAABzAAAAegAAAGsAAAAZAAAAkAAAADwAAAApAAAAPwMAACYAAAAaAAAAHgAAAOQAAAAcAAAASgAAAFQUAAA1AAAAKwEAACsAAAAzAAAAaAAAABsAAAAWAAAADgAAABIAAAATAAAAkgAAACIAAACeAAAAXwAAABUAAAAeAAAAOgEAAA8AAAAnAAAARgAAABQAAABEAAAAJgYAABgAAACjAAAARQAAAEgAAAClAAAAAgQAABQAAACXAAAAgAAAAA0AAAAVAAAAEwAAAJYAAAAgAAAAQQAAAD0AAABAAAAATgAAADMAAAA0AAAAEQMAAPMLAAAgAQAAGgAAAAsAAAAZAAAAzAIAADEAAAANAAAAQAAAAAkAAABRAAAA/gAAAJ8CAABOAAAAKAAAAJ4AAAASAAAAsQAAAIwAAAAtAAAAygAAADcAAABLAAAAJAAAAEcAAADcAgAAMgAAADAAAACsAAAA/g4AAD0AAAASAAAADAAAAG4AAAAuAAAAAAIAAH8AAAAKAAAA3AEAACQAAAA+AAAAFAAAAG4AAACCAAAAFgAAAAgAAAB7AAAALAAAAPsAAACRAAAAdwsAADsAAACdBwAAawIAADgAAADyAAAAcQAAAHoAAAAhAAAALp8AAK8AAAAhAAAAFwAAADkAAABlAAAAqAEAAC4AAABgAAAALQAAABoAAAA4AAAALwAAAFsAAABTAAAA2gAAACUAAAANAAAAiQAAAF4AAAAIAAAAPgAAABMAAABDAAAAGwAAAA8AAAAxAAAAVgAAAAgAAAAyAAAAHgAAAJwAAABLAAAAPAAAABgAAABBAwAAHgAAACEAAABqAAAAJQAAAL0DAAB1CgAAGQIAANcmAADkFAAAcAMAAMIDAABpAQAA4wcAAPgBAAA6BQAAzhYAAM0cAABtWAAAgQAAAH4WAACBAAAAzwEAAEgGAAATDQAA1wEAAFUHAAAqAQAAcQkAAM4CAACiBAAA0AAAAEgQAACJAQAA+AIAANQIAAAqAgAAlgQAALgCAAAuAQAAKQUAAFR8AADxjwAAagAAAKwBAADwAAAAswsAAGIUAADaFQAAoAAAAHEAAADoGgAA+wMAAP8DAABeEAAAvD0AAIQEAADeAAAA6Q4AACgLAABUAwAAJAAAAHoAAABZAQAA/AwAACgAAACoAQAAxAIAAF4MAAAfAgAAygAAABoDAABkAgAA5QAAAAIBAACFBAAAZQAAAGUAAAB/CQAAagAAAFYCAAAjAgAAfQQAAD0CAAAgAQAAeQMAAOABAADFAAAAsAIAADMBAAB+HQAAOAwAANkBAAB9BwAAuAAAACI3AABeFgAA8gwAACYPAACKAAAAYwIAACgCAABPAQAAjhMAAKIAAAAgAgAAHAUAAFsLAADlAAAA0wMAAPIBAABVCQAAExAAAFgBAAABDQAATgEAAPIBAAChAQAAsgAAAJkCAAC5AAAA9wIAALUEAABPAgAAGAMAAJ4AAABqrQEAOQIAAGgEAAAPBwAAQQUAANAEAAD5GgAA9gAAAHAfAAAJAgAAsSAAAJMBAAANAgAAQz0AAPMKAADzDgAA8AoAAFgOAAB7AAAALwYAADIAAAAkBwAAuxYAAC4AAAByAgAAXycCAKgDAABgBgAAdwAAAHcCAABARgAAiQAAAMGJAACXGQAAoAEAAFkAAABhAAAAnwcAANdhAADAGwAA+J0AAPoBAADTAgAAkwkAAGICAABvAAAAKQIAAF4FAAASXQAA1AEAAIAAAADPAAAAYAIAAH0DAACoAQAAYAkAAK8uAABTDgAAQA0AAHcRAABaeAAAYQ4AADcXAABKAAAAOQAAABEAAAAjAgAAUgAAANAAAAC7AAAAjQcAAOoDAAArAQAAJwAAAHoBAAB3PwAAogwAAOcBAABZAQAADAAAAEUAAAAaAAAAfAAAACcCAAAeAAAAIgAAAFocAABuAAAAwgAAAMkAAAB4AgAAXwAAABgAAAAnAQAAmwAAAHMAAAAbAAAAMgIAAIcAAADVAAAA2AAAAEQAAACGAAAATAAAAHEAAADDAQAANwAAAGABAABCAAAAwAMAAL4RAABeDgAASgAAAH8AAACOAAAAeAAAAFsCAADPAgAAJwAAAFAAAAAmAAAAbwAAAEEAAABCAAAAVAAAAGMAAAAhAwAAOAAAAJcCAACHAgAASQEAAIIKAABNAAAAQQEAAHYAAABBAAAAPgAAADoCAABbAAAAMgAAADoAAABPAAAAXwAAAHMAAACIAAAAqQAAAI0AAAAEAwAAywAAAE4AAAAjAAAAngAAAEgAAADYAAAAGQEAAMsBAABwAAAAIwAAAFIAAACzAQAAnAAAACEBAACQAAAAVwAAANMBAADEAAAAjgAAAO0AAABJAAAA4AYAAGMAAABXAAAAOQAAAHkBAAA/AAAAPgAAADEAAAAnAAAAIwAAAEcAAAAYAAAAZgAAADgAAADpAAAAcAAAAJkAAAAjAAAAGwIAAHIBAADJBAAADwEAAA8BAADhAQAAUQAAAGsAAAAgAAAA5AAAAEsAAADtCQAANAEAAI0EAAArAAAAOgAAAFIGAAA9AAAAIAIAADwCAACCAAAAIAAAAMEAAAAfAAAAxQAAAEgBAAAmAQAAbwEAAHUAAADKAQAAdwAAAKAAAABxAAAAOQAAAMwBAABKAAAAWQAAAA8BAAA9AAAALgAAAGIAAADxAAAANgAAAEIAAACmAwAA0QEAAI0AAACVAAAAYgAAAHkAAAA9AAAA4QAAACsAAAAaAAAAZwIAAA0AAAAaAAAA2gIAAIkAAACIAAAAGAAAAPwDAADABAAAMAAAACYAAABLAAAA0gAAAGmPAAAiAAAAHwAAALYAAACSAAAAtAEAAHUAAABSAAAAFAAAAHoAAACDAAAAUAAAAGcAAAC/AAAAtgAAACQAAAD2AQAAOgAAAIIAAAA8AAAAuAEAAB4MAAAgAAAAwAAAAEQCAAAcAAAASwAAADEBAADxCQAASAEAACUAAAAYAAAAKAEAAF0AAAAwAAAAogAAADUAAACjAAAAZgMAAKMAAAAnAgAAUQEAALYAAACDAAAAPwAAABsAAAAuCQAAjxAAAPoCAAD5AgAAEwEAAH4GAAA9AwAAzQAAAM0BAACdAQAAWQEAAKMDAACoCQAA6hQAADoEAABmGwAAIQEAABkEAABbKwAAlAUAAJoQAAB5AQAAnw4AADQFAABZCAAAMgEAAEwBAAClEgAAyQAAAAYCAAAaEgAAXgIAAEIBAADnBgAAhgEAAEQDAABRBwAAKhUAAAoBAABQCAAAuhsAAMEAAACZAwAAMggAAKIMAADxEAAAqQEAAO8BAACnAgAAbAoAAJQRAAAeJgAAdRQAAOwEAAAXEwAA+QAAAIsBAACbCAAA4gAAANkOAADZBQAAogEAAMgWAAALAQAA3DAAAL4LAADXAAAAzwoAAPYGAABwCAAAGAMAAEgBAAB8AQAAlwAAAOADAABrAwAA6wYAAMMBAAACAAAAn30AACMFAACKAwAAvQkAAP8KAAB1AgAAdicAABIQAACOBgAAjgEAAPgBAAAIAQAAogAAAKgBAACTAwAA9gQAAGkFAAC1CQAAgRgAAMgAAAB9EgAANBQAAJoBAABMAgAAbQEAAMomAACCFAAAAwIAAAgOAABHBwAANgAAAEgIAABpBwAAVwIAAHAPAADeAwAAfwMAAIcNAADwFQAAqwAAAIU4AADzIgAAgBMAACMKAAAECgAArwEAAJ4EAADDDQAAgQAAAF8BAABLAQAAuwwAAFwPAAAqCQAAFxMAAGAfAABaCAAAfwQAAJMAAABABgAA0wMAALorAAAGBwAA1QMAAJ8TAABuAAAAWwMAAPwAAAAdAgAAWwIAAPcCAABcAgAAbAYAAEAIAABWAQAABBAAAMYPAACuDQAAZAAAAGIFAADVdQAAbAIAAEAsAAC3AAAAAksBANkHAAC7BgAA/lEBAMEAAADeAAAAjAcAAL4CAAATNwAAcwEAALQCAACqFgAAvgkAADUCAACjEgAAWwsAAF4EAABAEAAA5wAAABElAADhDQAAIRMAAEsQAAAtBAAA8QEAAGUCAACTCwAApAIAAE4AAAD/CQAAQwcAAD0KAAAqCwAAFBgAAHkWAAD5GQAApRUAAKkTAAAwAwAAHzIAAM0EAADsAwAAwQYAAJEEAABwCQAARnUAAFsYAACOQgAAdg0AAJkQAADsBQAAwSoAAL8FAACTZgAAQxEAALQpAACRBQAA57gAAKsCAAByMAAAPhUAAPOEAABzVgAA6QEAAGYCAAAnDgAAjAYAAJcEAAAeAgAAQG0AAFAEAAA8OQAA+B0AAB0BAABTCgAAYSMAALwCAAAIBgAARAEAACMKAABaBAAAiAEAAPcRAACgAAAApBQAADIGAADaBQAAgAIAAE8TAAAuAQAAqwAAADAwAACVAgAAiQIAAMI/AABzBwAA0QAAAF0CAAAOCQAAGAYAAGIvAAD2AQAAPxYAAAwJAACZAgAAKwgAABkGAAB7CQAA5QEAALkAAADAawAAMAIAADQQAAA1BQAA0A8AAJoAAAANAwAAJSYAALqeAAC/AQAApAQAAGc0AABbHgAARVMAAA4HAAAsQAAAYwAAAIsAAACnAAAAKQwAADAJAACQAAAAHwEAAJcLAAC+dQAA0AIAAG8BAABjBAAAZQwAAPYCAAA3AQAAEAQAAMBmAAB5BgAAnggAAHVeAACNBgAAhwkAAOsBAAA+IwAAAXwAAF1DAAClAgAAWw0AALMCAABSAQAAjUwAALUCAAChEgAAnAMAAF8GAABtAAAAVw4AAI0KAACzAwAA7QMAAFEeAABiDwAA+wcAALcCAAAMBAAA3zgBAAcLAAAwAgAALw8AAH00AABWEAAAJgEAANQBAABoFwAAXwIAABYCAAAjAwAAnBcAAPUCAACqdgAAJQkAAPVhAACKCAAACwIAAB8JAACcAwAAeQAAAEoCAAAhBAAA1AQAAM8KAACYDgAAwwUAABF+AADcCQAAgQcAABMHAABdCgAAQEMAAGkoAADuKgAASQEAAMwLAABJtAAAFREAAOlVAAC4JQAAWgYAAG4EAABBAgAAlQ0AAFMaAAB0IAAA7wsAAFEDAAAKZgAAeQkAAMghAABOjgAAuAEAAGRsAAAYBwAABAQAAFYCAABGJAEANAwAAHYEAABkLgAAp1gAAHsMAACUAAAA9wkAAFAEAAB0IwAAkQkAADMAAACwaQAA2REAAJckAAAyUwAAowIAAO4lAABeBQAALgkAANABAABuCgAAgwkAAARRAACmXgAA6gYAAEkeAACGBAAA9wQAAKsAAADRFgEAigEAAA4CAACcKgAApwAAAH8BAAAdAAAAZAQAAI0OAAD/BAAAlU4AANkMAACBBAAAqxMAALABAABAbwAAEgQAAKMlAADfRAAAXQIAACIBAADuAQAAhwEAAJYAAAA5XQEA7gIAAE0FAADRBAAAeB0AALctAABcmgwABwwAAIMAAACUAAAAhgQAAGkSAAAhKwAA8RoAAL8OAABSAgAAyw0AAMIIAADrAAAAggEAAK0BAACGKQAAeAQAADIAAAATAAAAAwEAAH8FAABmAgAA2gAAABMYAAAWAAAAYwAAAPxWAAA9AgAAXQAAAGQAAAA0AAAAyAAAAEYAAACxAAAAJAAAAF0AAAAcAQAASwAAAFEAAAAFEQAA/gAAAGUAAABBAAAANw8AACEAAAA4AAAA7AMAAMYAAACTAAAA/AAAAEkAAACqAwAA1wAAALAAAAB5AAAAmAAAAC0AAACOAAAAMQAAAEYBAACJAQAA/wIAAIAAAAC9AAAArAAAAFsAAAD0FAAAZgEAAEEkAACQAAAAhAIAANIAAABpAAAAlAEAAMAAAAB3AAAA2gAAAAIBAACvAAAAbwAAAB8AAABEAwAAWQgAAJkAAAAqAAAAbQAAACkAAADoAQAAcAAAAKsAAAD8GAAAe1kAAPoAAAChAAAAMwAAADAAAAApAAAA9wMAAHEAAACBBQAAgU4AALkRAACmAQAAcgAAAKIAAABBDQAATwAAAGkAAABcAwAAkgAAACYAAACCAAAASgEAALMCAACpAAAAbwAAAIUHAAAWAQAARwEAAOwNAADFAAAAJgAAAKQAAADgAQAAlwQAAE4NAACUAAAARBQAAF4BAACnAQAANgEAAKMAAABYAAAAMgIAAEAJAAAaAgAA9AEAADIAAAAtAAAAmwAAAC8AAADgAwAAZQAAALAAAAAuAAAAhA8AAKUAAABXAAAAGgAAANYAAABPBAAAbwAAAGcAAABnAAAAXgAAAFQAAACGAgAAbwEAAGsAAACyAQAAMAAAAC0BAAAXAAAASQAAAGwAAAC7AAAAXxIAAKAAAABfAgAA9QMAAFUEAACjAQAAohUAAFQAAAAaAQAAdwEAAL4hAAD6AAAA4wAAABwAAAA+AAAAOQAAAIIBAACkAAAA2AQAADoBAABSIgAAygAAAGQAAADLAAAAjwEAAEAAAAC5AAAATAYAAHQAAADpAgAAWwAAAEqWBABRAAAAWwAAAKMAAABxAAAAeQAAAGUAAAD0CAAASwEAAPsBAAAgAAAAGAQAAEIAAABSAAAASwAAAD0AAADxAAAA1AEAAFYAAAAgAQAAMwAAACAAAADqAQAAOgAAAIgBAABkAAAA2AUAADMAAAB6AAAAYwsAAOoEAAA7AAAAnQAAAHAAAABmAAAAiAAAAGYAAABDAAAAkQAAADUAAAARAgAA3QAAACcBAADvGAAAdgAAAD4eAADBJAAA3kwAAIoBAACgAAAAigEAANIBAADgAgAA7wMAAEMCAACwLgAABQsAAGCOAQANBgAAxJ0AAN8dAACSQgAA3wQAAPgRAAC5TwUAeAYAAJcKAADsAgAA4gQAADkEAADhBQAAv3QAAEoDAAClLgAABgMAAF0BAABiHAAAEAEAAAs9AABAAgAAxmAAADUDAABlBQAAVgEAAGEGAABuAwAArwYAAH8XAADNKAEAcxoAAIlCAADFAAAAqAIAAMgCAADmAAAA9gAAAP8HAADdBAAAq38AAAIOAAA5BQAA+xsAAIUEAAATAgAA1hMAADEEAAB8AQAAqAEAAP8CAABPEAAAnAEAAAkGAAAkBwAATUYAAIMCAADBHAAATQUAALEfAABrEAAAagoAAGEBAAAmEQAA3q4AAP8BAAB6LgAAmwkAAKe0AAC1IQAARG4AAFw6AADNCgAAAwIAAKQAAABPFgAA0R0AAEwFAABdBAAABwUAAOoQAADTCwAAfCAAAEsGAAAAHAAAVmAAADcJAADrEQAA8gwAALUDAAC8AQAAQgEAABIBAAAhDwAA2wEAAMwLAADVBQAAngEAAJkBAADcEQAAPAAAACUEAABsAAAAfAAAAIcAAACNAQAApgEAAKQBAADAAQAA2AAAAFAAAADaAAAAcQAAAMIAAADhAAAABAEAABIBAAD9AAAA/QAAAF5DAAAMAQAAAgQAAKQCAACmAAAAwwAAAHQAAABjAAAAagIAAE8AAACXAAAAHwEAAOoCAAClAQAAyQAAANIBAAC2AAAAVgAAAHUBAAB2AAAArgEAANoAAAAAAQAASgAAAOoAAABsAAAAbgAAACECAACzAAAADQQAAKEDAABSAAAAJwEAAHUAAAAqAQAAUAAAAH8AAABoAAAAVAEAAPABAAB9BAAAwwEAAGYBAACjAQAAPgEAAPsCAAByAAAAVgEAAI8AAAB/AAAAWQAAAFcCAABGBgAAaQEAACwAAAAiAQAAAAQAAHQAAADTAQAAXAAAAMUAAAD6AAAAaAAAADoBAADYAAAAMwEAAJUAAABOAAAAuwAAAFkAAAAiAQAAlQAAAKkAAADFAQAANgEAAIwAAABkAAAAtwEAAIECAABeAQAAgAAAAIcAAACdAAAAJAAAAJgAAABfAQAAngEAAMcAAADpAAAALgAAAIIBAADjAwAAHwIAAAYBAAAOBwAAKwEAAA0MAAAFAgAAlwMAAJYAAADbAAAARAEAACABAAC8AAAAaAIAAD0BAACjAAAAwQAAAKYAAAAYAQAA8AAAAOYAAADDAAAAHAEAACYBAAD/AAAAdwEAAHoAAACKAgAA8AEAAJQAAABeAAAAagAAALgAAACvAAAA1wAAABEBAAAjAAAAnAAAAL4AAACRAAAANQAAAFYFAACxAAAAXwAAAC0AAABhAAAAewIAAOgBAAA6AQAAbwAAAOUAAABXAgAA6gAAAP4DAACQAQAAigAAADEBAABVAAAAnAAAAKYAAAD5AAAAJgUAAG0AAADXAAAALQAAAPwAAAB3AAAApQEAAEIBAACfAAAA6AAAAAMEAAAEAQAAqQAAACIBAAAzAAAAZgEAAEwDAADjAAAAQwEAAK0BAADSAQAA7AIAAHwAAACxIAAAfQAAAOIAAACXAQAARgMAAKUAAAB5AAAA8wAAAJ8BAAA7AAAAgwAAAEQAAAAfAQAAWwAAAE8AAACvAQAAtwEAAEwAAACMAAAABwEAAEoCAACzAAAA7QAAALgBAABqAAAAQAAAAPgAAADUAAAAewEAAMEAAABPAAAAdwUAAJMAAABTAQAAbQEAAPkAAAB9AQAAdQAAAFkAAAD5AgAADQcAAIgBAAAxAAAAAgIAAHQAAAA+AAAAfwAAAJ8BAADPAAAAnAAAAKMAAABIAAAAoAAAAHLoAABQAAAAjQAAAIUAAABXAgAAEQEAABMEAAA+AAAAGh0AAF0AAABUAAAAjQAAAGYAAADzAAAAmQAAAE4AAAAxAAAAbwkAANYFAAA9AAAAnQMAABYAAAAfAgAA6QAAAPcCAAABHwAATQIAAP4AAABwAAAAqwIAANgAAAB1AAAACAEAAEwAAAA6BAAAVgAAAFkAAACIAAAAxAYAABkCAABRAAAAEQAAABMAAAAeAQAA5AAAAOUFAAC1AAAAJgAAACEAAABdAAAASAMAAFsAAADvAgAALwAAAEcUAABDAgAA4gUAADkAAAC5AwAA8AAAANAAAACQCgAAOwAAAOEBAAAyAAAAHxIAAIpNAABaCwAASAAAADoAAABwAAAApwAAAIANAADAKAAATwAAAFgAAADGAAAA1gAAAAMBAAAlAAAAKAIAAFAAAABmAAAARgAAAMkAAADZAAAAIQAAAEkBAAAIOwAAjwAAACkAAAD0AQAAZgAAAH8HAADtQgAAHQAAALYAAADVEQAAcwEAAJkEAAAXBAAAigEAAK4BAACFAAAA9gQAADcAAACGAAAAaQEAAMIAAAD7AgAAkQAAABcSAADRAAAAhQAAACsKAADaAwAANgAAADIBAABgAAAAeAIAAPgBAAB0AQAApwoAAB4AAAAnAQAAfQEAACQBAABsBAAAcwAAAG4AAABiAAAAVwIAAEIEAAAsAAAAZAEAAMAAAAB8AAAAGwAAAD4DAAAtAAAA4AAAAOsDAABLAQAAKQAAAF4DAACjAgAAKQgAAEUEAACrAAAASQAAABcBAAC6AQAAkwMAAIcLAABgAAAAoQAAAOMYAADJAQAAuAgAAAoBAADOAAAAHAAAAJMBAAB8AQAAdgAAAK0AAACYAAAAYAAAADoEAADrAAAALwEAAA0BAADjAAAAggAAAMIFAACkGQAAaQEAAFwAAADLAAAAJwAAAD4AAAAnAAAA9AMAAFsDAAD2AQAAMgEAAIsDAABvAAAAOgAAAGUAAABKAAAALAAAAKwBAAA/AgAAXwIAAHAAAAAZBQAAtg4AAHEAAAAgAgAAYQAAAI4JAADHEQAAJQAAAH4BAAAeAAAAbwAAABgAAAAYAAAA+QAAACICAACIAAAAGhkAACoAAAAdAAAAXAcAAP8DAABJAAAAhQsAAJEAAABFAQAAQgAAAOoEAABnAQAAwgAAAFIAAAASAQAAUQ0AAGgAAAB8AAAAZQAAAEcAAABDBAAAswIAAG8AAABUAQAAAwEAAEYAAAAvAAAAZwQAAEkCAAA3AQAAUgAAADMqAAChGgAASQIAALEAAADGAAAARAAAAKkAAAAoAAAASgAAAB0AAADnAAAA4gUAAMEAAACvAAAAUwAAAHoAAABnAgAANwAAALgBAAAxAAAABAEAAE5KAAAfAAAAOwAAAH8AAAB+AAAASwAAAM8AAABKAAAAOwEAAFoAAAA5AAAAUQAAAJ8AAABDAwAAVAAAACEBAADOEgAARQAAAHgBAACdAAAADQEAAJ0BAABFAAAAMwAAAKwBAACKewoABSIAAKoAAABVAAAAJgsAAB1FAQAzTwEA",
           "dtype": "i4"
          },
          "sizemode": "area",
          "sizeref": 1000
         },
         "mode": "markers",
         "name": "",
         "showlegend": false,
         "subplot": "map",
         "type": "scattermap"
        }
       ],
       "layout": {
        "coloraxis": {
         "colorbar": {
          "title": {
           "text": "Population"
          }
         },
         "colorscale": [
          [
           0,
           "rgb(36, 86, 104)"
          ],
          [
           0.16666666666666666,
           "rgb(15, 114, 121)"
          ],
          [
           0.3333333333333333,
           "rgb(13, 143, 129)"
          ],
          [
           0.5,
           "rgb(57, 171, 126)"
          ],
          [
           0.6666666666666666,
           "rgb(110, 197, 116)"
          ],
          [
           0.8333333333333334,
           "rgb(169, 220, 103)"
          ],
          [
           1,
           "rgb(237, 239, 93)"
          ]
         ]
        },
        "geo": {
         "fitbounds": "locations"
        },
        "height": 1000,
        "legend": {
         "itemsizing": "constant",
         "tracegroupgap": 0
        },
        "map": {
         "center": {
          "lat": 40.81827243056515,
          "lon": -3.2721294652203956
         },
         "domain": {
          "x": [
           0,
           1
          ],
          "y": [
           0,
           1
          ]
         },
         "zoom": 5
        },
        "mapbox": {
         "center": {
          "lat": 40.81827243056515,
          "lon": -3.2721294652203956
         },
         "style": "open-street-map",
         "zoom": 5
        },
        "margin": {
         "b": 50,
         "l": 50,
         "r": 50,
         "t": 50
        },
        "template": {
         "data": {
          "bar": [
           {
            "error_x": {
             "color": "#2a3f5f"
            },
            "error_y": {
             "color": "#2a3f5f"
            },
            "marker": {
             "line": {
              "color": "#E5ECF6",
              "width": 0.5
             },
             "pattern": {
              "fillmode": "overlay",
              "size": 10,
              "solidity": 0.2
             }
            },
            "type": "bar"
           }
          ],
          "barpolar": [
           {
            "marker": {
             "line": {
              "color": "#E5ECF6",
              "width": 0.5
             },
             "pattern": {
              "fillmode": "overlay",
              "size": 10,
              "solidity": 0.2
             }
            },
            "type": "barpolar"
           }
          ],
          "carpet": [
           {
            "aaxis": {
             "endlinecolor": "#2a3f5f",
             "gridcolor": "white",
             "linecolor": "white",
             "minorgridcolor": "white",
             "startlinecolor": "#2a3f5f"
            },
            "baxis": {
             "endlinecolor": "#2a3f5f",
             "gridcolor": "white",
             "linecolor": "white",
             "minorgridcolor": "white",
             "startlinecolor": "#2a3f5f"
            },
            "type": "carpet"
           }
          ],
          "choropleth": [
           {
            "colorbar": {
             "outlinewidth": 0,
             "ticks": ""
            },
            "type": "choropleth"
           }
          ],
          "contour": [
           {
            "colorbar": {
             "outlinewidth": 0,
             "ticks": ""
            },
            "colorscale": [
             [
              0,
              "#0d0887"
             ],
             [
              0.1111111111111111,
              "#46039f"
             ],
             [
              0.2222222222222222,
              "#7201a8"
             ],
             [
              0.3333333333333333,
              "#9c179e"
             ],
             [
              0.4444444444444444,
              "#bd3786"
             ],
             [
              0.5555555555555556,
              "#d8576b"
             ],
             [
              0.6666666666666666,
              "#ed7953"
             ],
             [
              0.7777777777777778,
              "#fb9f3a"
             ],
             [
              0.8888888888888888,
              "#fdca26"
             ],
             [
              1,
              "#f0f921"
             ]
            ],
            "type": "contour"
           }
          ],
          "contourcarpet": [
           {
            "colorbar": {
             "outlinewidth": 0,
             "ticks": ""
            },
            "type": "contourcarpet"
           }
          ],
          "heatmap": [
           {
            "colorbar": {
             "outlinewidth": 0,
             "ticks": ""
            },
            "colorscale": [
             [
              0,
              "#0d0887"
             ],
             [
              0.1111111111111111,
              "#46039f"
             ],
             [
              0.2222222222222222,
              "#7201a8"
             ],
             [
              0.3333333333333333,
              "#9c179e"
             ],
             [
              0.4444444444444444,
              "#bd3786"
             ],
             [
              0.5555555555555556,
              "#d8576b"
             ],
             [
              0.6666666666666666,
              "#ed7953"
             ],
             [
              0.7777777777777778,
              "#fb9f3a"
             ],
             [
              0.8888888888888888,
              "#fdca26"
             ],
             [
              1,
              "#f0f921"
             ]
            ],
            "type": "heatmap"
           }
          ],
          "histogram": [
           {
            "marker": {
             "pattern": {
              "fillmode": "overlay",
              "size": 10,
              "solidity": 0.2
             }
            },
            "type": "histogram"
           }
          ],
          "histogram2d": [
           {
            "colorbar": {
             "outlinewidth": 0,
             "ticks": ""
            },
            "colorscale": [
             [
              0,
              "#0d0887"
             ],
             [
              0.1111111111111111,
              "#46039f"
             ],
             [
              0.2222222222222222,
              "#7201a8"
             ],
             [
              0.3333333333333333,
              "#9c179e"
             ],
             [
              0.4444444444444444,
              "#bd3786"
             ],
             [
              0.5555555555555556,
              "#d8576b"
             ],
             [
              0.6666666666666666,
              "#ed7953"
             ],
             [
              0.7777777777777778,
              "#fb9f3a"
             ],
             [
              0.8888888888888888,
              "#fdca26"
             ],
             [
              1,
              "#f0f921"
             ]
            ],
            "type": "histogram2d"
           }
          ],
          "histogram2dcontour": [
           {
            "colorbar": {
             "outlinewidth": 0,
             "ticks": ""
            },
            "colorscale": [
             [
              0,
              "#0d0887"
             ],
             [
              0.1111111111111111,
              "#46039f"
             ],
             [
              0.2222222222222222,
              "#7201a8"
             ],
             [
              0.3333333333333333,
              "#9c179e"
             ],
             [
              0.4444444444444444,
              "#bd3786"
             ],
             [
              0.5555555555555556,
              "#d8576b"
             ],
             [
              0.6666666666666666,
              "#ed7953"
             ],
             [
              0.7777777777777778,
              "#fb9f3a"
             ],
             [
              0.8888888888888888,
              "#fdca26"
             ],
             [
              1,
              "#f0f921"
             ]
            ],
            "type": "histogram2dcontour"
           }
          ],
          "mesh3d": [
           {
            "colorbar": {
             "outlinewidth": 0,
             "ticks": ""
            },
            "type": "mesh3d"
           }
          ],
          "parcoords": [
           {
            "line": {
             "colorbar": {
              "outlinewidth": 0,
              "ticks": ""
             }
            },
            "type": "parcoords"
           }
          ],
          "pie": [
           {
            "automargin": true,
            "type": "pie"
           }
          ],
          "scatter": [
           {
            "fillpattern": {
             "fillmode": "overlay",
             "size": 10,
             "solidity": 0.2
            },
            "type": "scatter"
           }
          ],
          "scatter3d": [
           {
            "line": {
             "colorbar": {
              "outlinewidth": 0,
              "ticks": ""
             }
            },
            "marker": {
             "colorbar": {
              "outlinewidth": 0,
              "ticks": ""
             }
            },
            "type": "scatter3d"
           }
          ],
          "scattercarpet": [
           {
            "marker": {
             "colorbar": {
              "outlinewidth": 0,
              "ticks": ""
             }
            },
            "type": "scattercarpet"
           }
          ],
          "scattergeo": [
           {
            "marker": {
             "colorbar": {
              "outlinewidth": 0,
              "ticks": ""
             }
            },
            "type": "scattergeo"
           }
          ],
          "scattergl": [
           {
            "marker": {
             "colorbar": {
              "outlinewidth": 0,
              "ticks": ""
             }
            },
            "type": "scattergl"
           }
          ],
          "scattermap": [
           {
            "marker": {
             "colorbar": {
              "outlinewidth": 0,
              "ticks": ""
             }
            },
            "type": "scattermap"
           }
          ],
          "scattermapbox": [
           {
            "marker": {
             "colorbar": {
              "outlinewidth": 0,
              "ticks": ""
             }
            },
            "type": "scattermapbox"
           }
          ],
          "scatterpolar": [
           {
            "marker": {
             "colorbar": {
              "outlinewidth": 0,
              "ticks": ""
             }
            },
            "type": "scatterpolar"
           }
          ],
          "scatterpolargl": [
           {
            "marker": {
             "colorbar": {
              "outlinewidth": 0,
              "ticks": ""
             }
            },
            "type": "scatterpolargl"
           }
          ],
          "scatterternary": [
           {
            "marker": {
             "colorbar": {
              "outlinewidth": 0,
              "ticks": ""
             }
            },
            "type": "scatterternary"
           }
          ],
          "surface": [
           {
            "colorbar": {
             "outlinewidth": 0,
             "ticks": ""
            },
            "colorscale": [
             [
              0,
              "#0d0887"
             ],
             [
              0.1111111111111111,
              "#46039f"
             ],
             [
              0.2222222222222222,
              "#7201a8"
             ],
             [
              0.3333333333333333,
              "#9c179e"
             ],
             [
              0.4444444444444444,
              "#bd3786"
             ],
             [
              0.5555555555555556,
              "#d8576b"
             ],
             [
              0.6666666666666666,
              "#ed7953"
             ],
             [
              0.7777777777777778,
              "#fb9f3a"
             ],
             [
              0.8888888888888888,
              "#fdca26"
             ],
             [
              1,
              "#f0f921"
             ]
            ],
            "type": "surface"
           }
          ],
          "table": [
           {
            "cells": {
             "fill": {
              "color": "#EBF0F8"
             },
             "line": {
              "color": "white"
             }
            },
            "header": {
             "fill": {
              "color": "#C8D4E3"
             },
             "line": {
              "color": "white"
             }
            },
            "type": "table"
           }
          ]
         },
         "layout": {
          "annotationdefaults": {
           "arrowcolor": "#2a3f5f",
           "arrowhead": 0,
           "arrowwidth": 1
          },
          "autotypenumbers": "strict",
          "coloraxis": {
           "colorbar": {
            "outlinewidth": 0,
            "ticks": ""
           }
          },
          "colorscale": {
           "diverging": [
            [
             0,
             "#8e0152"
            ],
            [
             0.1,
             "#c51b7d"
            ],
            [
             0.2,
             "#de77ae"
            ],
            [
             0.3,
             "#f1b6da"
            ],
            [
             0.4,
             "#fde0ef"
            ],
            [
             0.5,
             "#f7f7f7"
            ],
            [
             0.6,
             "#e6f5d0"
            ],
            [
             0.7,
             "#b8e186"
            ],
            [
             0.8,
             "#7fbc41"
            ],
            [
             0.9,
             "#4d9221"
            ],
            [
             1,
             "#276419"
            ]
           ],
           "sequential": [
            [
             0,
             "#0d0887"
            ],
            [
             0.1111111111111111,
             "#46039f"
            ],
            [
             0.2222222222222222,
             "#7201a8"
            ],
            [
             0.3333333333333333,
             "#9c179e"
            ],
            [
             0.4444444444444444,
             "#bd3786"
            ],
            [
             0.5555555555555556,
             "#d8576b"
            ],
            [
             0.6666666666666666,
             "#ed7953"
            ],
            [
             0.7777777777777778,
             "#fb9f3a"
            ],
            [
             0.8888888888888888,
             "#fdca26"
            ],
            [
             1,
             "#f0f921"
            ]
           ],
           "sequentialminus": [
            [
             0,
             "#0d0887"
            ],
            [
             0.1111111111111111,
             "#46039f"
            ],
            [
             0.2222222222222222,
             "#7201a8"
            ],
            [
             0.3333333333333333,
             "#9c179e"
            ],
            [
             0.4444444444444444,
             "#bd3786"
            ],
            [
             0.5555555555555556,
             "#d8576b"
            ],
            [
             0.6666666666666666,
             "#ed7953"
            ],
            [
             0.7777777777777778,
             "#fb9f3a"
            ],
            [
             0.8888888888888888,
             "#fdca26"
            ],
            [
             1,
             "#f0f921"
            ]
           ]
          },
          "colorway": [
           "#636efa",
           "#EF553B",
           "#00cc96",
           "#ab63fa",
           "#FFA15A",
           "#19d3f3",
           "#FF6692",
           "#B6E880",
           "#FF97FF",
           "#FECB52"
          ],
          "font": {
           "color": "#2a3f5f"
          },
          "geo": {
           "bgcolor": "white",
           "lakecolor": "white",
           "landcolor": "#E5ECF6",
           "showlakes": true,
           "showland": true,
           "subunitcolor": "white"
          },
          "hoverlabel": {
           "align": "left"
          },
          "hovermode": "closest",
          "mapbox": {
           "style": "light"
          },
          "paper_bgcolor": "white",
          "plot_bgcolor": "#E5ECF6",
          "polar": {
           "angularaxis": {
            "gridcolor": "white",
            "linecolor": "white",
            "ticks": ""
           },
           "bgcolor": "#E5ECF6",
           "radialaxis": {
            "gridcolor": "white",
            "linecolor": "white",
            "ticks": ""
           }
          },
          "scene": {
           "xaxis": {
            "backgroundcolor": "#E5ECF6",
            "gridcolor": "white",
            "gridwidth": 2,
            "linecolor": "white",
            "showbackground": true,
            "ticks": "",
            "zerolinecolor": "white"
           },
           "yaxis": {
            "backgroundcolor": "#E5ECF6",
            "gridcolor": "white",
            "gridwidth": 2,
            "linecolor": "white",
            "showbackground": true,
            "ticks": "",
            "zerolinecolor": "white"
           },
           "zaxis": {
            "backgroundcolor": "#E5ECF6",
            "gridcolor": "white",
            "gridwidth": 2,
            "linecolor": "white",
            "showbackground": true,
            "ticks": "",
            "zerolinecolor": "white"
           }
          },
          "shapedefaults": {
           "line": {
            "color": "#2a3f5f"
           }
          },
          "ternary": {
           "aaxis": {
            "gridcolor": "white",
            "linecolor": "white",
            "ticks": ""
           },
           "baxis": {
            "gridcolor": "white",
            "linecolor": "white",
            "ticks": ""
           },
           "bgcolor": "#E5ECF6",
           "caxis": {
            "gridcolor": "white",
            "linecolor": "white",
            "ticks": ""
           }
          },
          "title": {
           "x": 0.05
          },
          "xaxis": {
           "automargin": true,
           "gridcolor": "white",
           "linecolor": "white",
           "ticks": "",
           "title": {
            "standoff": 15
           },
           "zerolinecolor": "white",
           "zerolinewidth": 2
          },
          "yaxis": {
           "automargin": true,
           "gridcolor": "white",
           "linecolor": "white",
           "ticks": "",
           "title": {
            "standoff": 15
           },
           "zerolinecolor": "white",
           "zerolinewidth": 2
          }
         }
        },
        "title": {
         "text": "Communities in Spain by population size"
        },
        "width": 1000
       }
      }
     },
     "metadata": {},
     "output_type": "display_data"
    }
   ],
   "source": [
    "title = \"Communities in Spain\"\n",
    "\n",
    "lats = df.latitude\n",
    "lons = df.longitude\n",
    "\n",
    "fig = px.scatter_map(df, \n",
    "                     lat=lats, \n",
    "                     lon=lons,\n",
    "                     hover_data=[\"municipality_name\", \"altitude\"], \n",
    "                     size='population',\n",
    "                     color='population',\n",
    "                     color_continuous_scale=px.colors.carto.Aggrnyl,\n",
    "                     zoom=5,\n",
    "                     size_max=50  # Increase max size of markers\n",
    "                     )\n",
    "\n",
    "# Adjust the size reference to make small points more visible\n",
    "fig.update_traces(marker=dict(sizeref=1000))  # Decrease this value to make points larger\n",
    "\n",
    "fig.update_geos(fitbounds=\"locations\")\n",
    "fig.update_layout(height=1000, width=1000)\n",
    "fig.update_layout(mapbox_style=\"open-street-map\")\n",
    "fig.update_layout(margin={\"r\":50,\"t\":50,\"l\":50,\"b\":50})\n",
    "fig.update_layout(\n",
    "    coloraxis_colorbar=dict(title='Population')\n",
    ")\n",
    "fig.update_layout(title=\"Communities in Spain by population size\")\n",
    "\n",
    "fig.show()"
   ]
  },
  {
   "cell_type": "code",
   "execution_count": 32,
   "metadata": {},
   "outputs": [
    {
     "data": {
      "text/html": [
       "<div>\n",
       "<style scoped>\n",
       "    .dataframe tbody tr th:only-of-type {\n",
       "        vertical-align: middle;\n",
       "    }\n",
       "\n",
       "    .dataframe tbody tr th {\n",
       "        vertical-align: top;\n",
       "    }\n",
       "\n",
       "    .dataframe thead th {\n",
       "        text-align: right;\n",
       "    }\n",
       "</style>\n",
       "<table border=\"1\" class=\"dataframe\">\n",
       "  <thead>\n",
       "    <tr style=\"text-align: right;\">\n",
       "      <th></th>\n",
       "      <th>province_code</th>\n",
       "      <th>province</th>\n",
       "      <th>municipality_code</th>\n",
       "      <th>municipality_name</th>\n",
       "      <th>population</th>\n",
       "      <th>male</th>\n",
       "      <th>female</th>\n",
       "      <th>municipality_name_clean</th>\n",
       "      <th>province_clean</th>\n",
       "      <th>altitude</th>\n",
       "      <th>longitude</th>\n",
       "      <th>latitude</th>\n",
       "    </tr>\n",
       "  </thead>\n",
       "  <tbody>\n",
       "    <tr>\n",
       "      <th>7235</th>\n",
       "      <td>46</td>\n",
       "      <td>Valencia</td>\n",
       "      <td>250</td>\n",
       "      <td>València</td>\n",
       "      <td>825948</td>\n",
       "      <td>391970</td>\n",
       "      <td>433978</td>\n",
       "      <td>valencia</td>\n",
       "      <td>valencia</td>\n",
       "      <td>NaN</td>\n",
       "      <td>NaN</td>\n",
       "      <td>NaN</td>\n",
       "    </tr>\n",
       "  </tbody>\n",
       "</table>\n",
       "</div>"
      ],
      "text/plain": [
       "      province_code  province  municipality_code municipality_name  \\\n",
       "7235             46  Valencia                250          València   \n",
       "\n",
       "      population    male  female municipality_name_clean province_clean  \\\n",
       "7235      825948  391970  433978                valencia       valencia   \n",
       "\n",
       "      altitude  longitude  latitude  \n",
       "7235       NaN        NaN       NaN  "
      ]
     },
     "execution_count": 32,
     "metadata": {},
     "output_type": "execute_result"
    }
   ],
   "source": [
    "df[df[\"municipality_name_clean\"] == \"valencia\"]"
   ]
  },
  {
   "cell_type": "code",
   "execution_count": 33,
   "metadata": {},
   "outputs": [
    {
     "data": {
      "text/html": [
       "<div>\n",
       "<style scoped>\n",
       "    .dataframe tbody tr th:only-of-type {\n",
       "        vertical-align: middle;\n",
       "    }\n",
       "\n",
       "    .dataframe tbody tr th {\n",
       "        vertical-align: top;\n",
       "    }\n",
       "\n",
       "    .dataframe thead th {\n",
       "        text-align: right;\n",
       "    }\n",
       "</style>\n",
       "<table border=\"1\" class=\"dataframe\">\n",
       "  <thead>\n",
       "    <tr style=\"text-align: right;\">\n",
       "      <th></th>\n",
       "      <th>province_code</th>\n",
       "      <th>province</th>\n",
       "      <th>municipality_code</th>\n",
       "      <th>municipality_name</th>\n",
       "      <th>population</th>\n",
       "      <th>male</th>\n",
       "      <th>female</th>\n",
       "      <th>municipality_name_clean</th>\n",
       "      <th>province_clean</th>\n",
       "    </tr>\n",
       "  </thead>\n",
       "  <tbody>\n",
       "    <tr>\n",
       "      <th>7234</th>\n",
       "      <td>46</td>\n",
       "      <td>Valencia</td>\n",
       "      <td>250</td>\n",
       "      <td>València</td>\n",
       "      <td>825948</td>\n",
       "      <td>391970</td>\n",
       "      <td>433978</td>\n",
       "      <td>valencia</td>\n",
       "      <td>valencia</td>\n",
       "    </tr>\n",
       "  </tbody>\n",
       "</table>\n",
       "</div>"
      ],
      "text/plain": [
       "      province_code  province  municipality_code municipality_name  \\\n",
       "7234             46  Valencia                250          València   \n",
       "\n",
       "      population    male  female municipality_name_clean province_clean  \n",
       "7234      825948  391970  433978                valencia       valencia  "
      ]
     },
     "execution_count": 33,
     "metadata": {},
     "output_type": "execute_result"
    }
   ],
   "source": [
    "df_communities[df_communities[\"municipality_name\"] == \"València\"]"
   ]
  },
  {
   "cell_type": "code",
   "execution_count": 34,
   "metadata": {},
   "outputs": [
    {
     "data": {
      "text/html": [
       "<div>\n",
       "<style scoped>\n",
       "    .dataframe tbody tr th:only-of-type {\n",
       "        vertical-align: middle;\n",
       "    }\n",
       "\n",
       "    .dataframe tbody tr th {\n",
       "        vertical-align: top;\n",
       "    }\n",
       "\n",
       "    .dataframe thead th {\n",
       "        text-align: right;\n",
       "    }\n",
       "</style>\n",
       "<table border=\"1\" class=\"dataframe\">\n",
       "  <thead>\n",
       "    <tr style=\"text-align: right;\">\n",
       "      <th></th>\n",
       "      <th>community</th>\n",
       "      <th>province</th>\n",
       "      <th>municipality_name</th>\n",
       "      <th>latitude</th>\n",
       "      <th>longitude</th>\n",
       "      <th>altitude</th>\n",
       "      <th>population</th>\n",
       "      <th>male</th>\n",
       "      <th>female</th>\n",
       "      <th>municipality_name_clean</th>\n",
       "      <th>province_clean</th>\n",
       "    </tr>\n",
       "  </thead>\n",
       "  <tbody>\n",
       "    <tr>\n",
       "      <th>8094</th>\n",
       "      <td>Valencia</td>\n",
       "      <td>Valencia/València</td>\n",
       "      <td>Valencia</td>\n",
       "      <td>39.47024</td>\n",
       "      <td>-0.376805</td>\n",
       "      <td>23.3349</td>\n",
       "      <td>814208</td>\n",
       "      <td>392300</td>\n",
       "      <td>421908</td>\n",
       "      <td>valencia</td>\n",
       "      <td>valencia/valencia</td>\n",
       "    </tr>\n",
       "  </tbody>\n",
       "</table>\n",
       "</div>"
      ],
      "text/plain": [
       "     community           province municipality_name  latitude  longitude  \\\n",
       "8094  Valencia  Valencia/València          Valencia  39.47024  -0.376805   \n",
       "\n",
       "      altitude  population    male  female municipality_name_clean  \\\n",
       "8094   23.3349      814208  392300  421908                valencia   \n",
       "\n",
       "         province_clean  \n",
       "8094  valencia/valencia  "
      ]
     },
     "execution_count": 34,
     "metadata": {},
     "output_type": "execute_result"
    }
   ],
   "source": [
    "df_coordinates[df_coordinates[\"municipality_name\"] == \"Valencia\"]"
   ]
  }
 ],
 "metadata": {
  "kernelspec": {
   "display_name": ".venv",
   "language": "python",
   "name": "python3"
  },
  "language_info": {
   "codemirror_mode": {
    "name": "ipython",
    "version": 3
   },
   "file_extension": ".py",
   "mimetype": "text/x-python",
   "name": "python",
   "nbconvert_exporter": "python",
   "pygments_lexer": "ipython3",
   "version": "3.11.3"
  }
 },
 "nbformat": 4,
 "nbformat_minor": 2
}
