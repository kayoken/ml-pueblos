{
 "cells": [
  {
   "cell_type": "markdown",
   "metadata": {},
   "source": [
    "## Basic EDA for first incoming data"
   ]
  },
  {
   "cell_type": "code",
   "execution_count": 128,
   "metadata": {},
   "outputs": [],
   "source": [
    "import sys\n",
    "import os\n",
    "import re\n",
    "sys.path.insert(0, os.path.abspath(os.path.join(os.getcwd(), '..')))\n",
    "\n",
    "import pandas as pd\n",
    "import plotly.express as px\n",
    "import numpy as np\n",
    "\n",
    "from scripts.accent_cleaner import AccentCleaner\n",
    "from scripts.column_aligner import ColumnAligner"
   ]
  },
  {
   "cell_type": "code",
   "execution_count": 129,
   "metadata": {},
   "outputs": [],
   "source": [
    "df_communities = pd.read_csv(\n",
    "    \"../data/raw/population_towns.csv\", \n",
    "    encoding=\"ISO-8859-1\",  # or \"latin1\",\n",
    "    sep=\";\",\n",
    "    decimal=\",\")\n",
    "df_coordinates = pd.read_csv(\n",
    "    \"../data/raw/coordinates_towns_spain.csv\",\n",
    "    encoding=\"ISO-8859-1\",  # or \"latin1\"\n",
    "    sep=\";\",\n",
    "    decimal=\",\"\n",
    ")"
   ]
  },
  {
   "cell_type": "code",
   "execution_count": 130,
   "metadata": {},
   "outputs": [],
   "source": [
    "columns_communities_english = ['province_code', 'province', 'municipality_code', 'municipality_name', 'population', 'male', 'female']\n",
    "columns_coordinates_english = ['community', 'province', 'municipality_name', 'latitude', 'longitude', 'altitude',\n",
    "    'population', 'male', 'female']\n",
    "\n",
    "\n",
    "def map_cols_es_en(es: list, en: list):\n",
    "    dict_cols = dict(zip(es, en))\n",
    "    return dict_cols.values()\n",
    "\n",
    "\n",
    "df_communities.columns = map_cols_es_en(df_communities.columns.to_list(), columns_communities_english)\n",
    "df_coordinates.columns = map_cols_es_en(df_coordinates.columns.to_list(), columns_coordinates_english)"
   ]
  },
  {
   "cell_type": "code",
   "execution_count": 131,
   "metadata": {},
   "outputs": [],
   "source": [
    "cleaner = AccentCleaner([df_communities, df_coordinates], ['municipality_name', 'province'])\n",
    "cleaner.cleanAccents()\n",
    "\n",
    "aligner = ColumnAligner(df_communities, df_coordinates, 'municipality_name_clean', re.compile(r\"\\*,\\s\"))\n",
    "stuff = aligner.alignColumns()\n",
    "\n",
    "commas = df_communities.municipality_name_clean.str.contains(r'.*, ')\n",
    "extract_list = df_communities[commas]['municipality_name_clean'].str.split(',').str[0].to_list()\n",
    "\n",
    "for elem in extract_list:\n",
    "    # Create a mask for rows in df_coordinates that contain the element\n",
    "    mask = df_coordinates['municipality_name_clean'].str.contains(elem + ' ', case=False, na=False)\n",
    "    # # Get the corresponding full name from df_communities\n",
    "    full_name = df_communities[df_communities['municipality_name_clean'].str.contains(f\"{elem},\", case=False, na=False)]['municipality_name_clean'].iloc[0]\n",
    "    # Update df_coordinates with the full name where mask is True\n",
    "    df_coordinates.loc[mask, 'municipality_name_clean'] = full_name\n",
    "\n",
    "# df_coordinates.sample(50)"
   ]
  },
  {
   "cell_type": "code",
   "execution_count": 132,
   "metadata": {},
   "outputs": [
    {
     "data": {
      "text/html": [
       "<div>\n",
       "<style scoped>\n",
       "    .dataframe tbody tr th:only-of-type {\n",
       "        vertical-align: middle;\n",
       "    }\n",
       "\n",
       "    .dataframe tbody tr th {\n",
       "        vertical-align: top;\n",
       "    }\n",
       "\n",
       "    .dataframe thead th {\n",
       "        text-align: right;\n",
       "    }\n",
       "</style>\n",
       "<table border=\"1\" class=\"dataframe\">\n",
       "  <thead>\n",
       "    <tr style=\"text-align: right;\">\n",
       "      <th></th>\n",
       "      <th>community</th>\n",
       "      <th>province</th>\n",
       "      <th>municipality_name</th>\n",
       "      <th>latitude</th>\n",
       "      <th>longitude</th>\n",
       "      <th>altitude</th>\n",
       "      <th>population</th>\n",
       "      <th>male</th>\n",
       "      <th>female</th>\n",
       "      <th>municipality_name_clean</th>\n",
       "      <th>province_clean</th>\n",
       "    </tr>\n",
       "  </thead>\n",
       "  <tbody>\n",
       "    <tr>\n",
       "      <th>328</th>\n",
       "      <td>Andalucía</td>\n",
       "      <td>Granada</td>\n",
       "      <td>Moclín</td>\n",
       "      <td>37.34158</td>\n",
       "      <td>-3.786422</td>\n",
       "      <td>1061.08200</td>\n",
       "      <td>4268</td>\n",
       "      <td>2122</td>\n",
       "      <td>2146</td>\n",
       "      <td>moclin</td>\n",
       "      <td>granada</td>\n",
       "    </tr>\n",
       "    <tr>\n",
       "      <th>6432</th>\n",
       "      <td>Galicia</td>\n",
       "      <td>Ourense</td>\n",
       "      <td>Baltar</td>\n",
       "      <td>41.94975</td>\n",
       "      <td>-7.716806</td>\n",
       "      <td>823.10270</td>\n",
       "      <td>1144</td>\n",
       "      <td>568</td>\n",
       "      <td>576</td>\n",
       "      <td>baltar</td>\n",
       "      <td>ourense</td>\n",
       "    </tr>\n",
       "    <tr>\n",
       "      <th>3303</th>\n",
       "      <td>Castilla León</td>\n",
       "      <td>Burgos</td>\n",
       "      <td>Zael</td>\n",
       "      <td>42.10968</td>\n",
       "      <td>-3.823925</td>\n",
       "      <td>843.67200</td>\n",
       "      <td>117</td>\n",
       "      <td>62</td>\n",
       "      <td>55</td>\n",
       "      <td>zael</td>\n",
       "      <td>burgos</td>\n",
       "    </tr>\n",
       "    <tr>\n",
       "      <th>2541</th>\n",
       "      <td>Castilla La Mancha</td>\n",
       "      <td>Toledo</td>\n",
       "      <td>Dosbarrios</td>\n",
       "      <td>39.88408</td>\n",
       "      <td>-3.476729</td>\n",
       "      <td>709.61310</td>\n",
       "      <td>2497</td>\n",
       "      <td>1271</td>\n",
       "      <td>1226</td>\n",
       "      <td>dosbarrios</td>\n",
       "      <td>toledo</td>\n",
       "    </tr>\n",
       "    <tr>\n",
       "      <th>1654</th>\n",
       "      <td>Canarias</td>\n",
       "      <td>Santa Cruz de Tenerife</td>\n",
       "      <td>Sauzal (El)</td>\n",
       "      <td>28.47941</td>\n",
       "      <td>-16.436610</td>\n",
       "      <td>323.11060</td>\n",
       "      <td>8996</td>\n",
       "      <td>4469</td>\n",
       "      <td>4527</td>\n",
       "      <td>sauzal, el</td>\n",
       "      <td>santa cruz de tenerife</td>\n",
       "    </tr>\n",
       "    <tr>\n",
       "      <th>7124</th>\n",
       "      <td>Navarra</td>\n",
       "      <td>Navarra</td>\n",
       "      <td>Castillonuevo</td>\n",
       "      <td>42.67852</td>\n",
       "      <td>-1.044187</td>\n",
       "      <td>774.68760</td>\n",
       "      <td>18</td>\n",
       "      <td>12</td>\n",
       "      <td>6</td>\n",
       "      <td>castillonuevo</td>\n",
       "      <td>navarra</td>\n",
       "    </tr>\n",
       "    <tr>\n",
       "      <th>3261</th>\n",
       "      <td>Castilla León</td>\n",
       "      <td>Burgos</td>\n",
       "      <td>Vid y Barrios (La)</td>\n",
       "      <td>41.62967</td>\n",
       "      <td>-3.490485</td>\n",
       "      <td>821.05730</td>\n",
       "      <td>276</td>\n",
       "      <td>159</td>\n",
       "      <td>117</td>\n",
       "      <td>vid y barrios, la</td>\n",
       "      <td>burgos</td>\n",
       "    </tr>\n",
       "    <tr>\n",
       "      <th>537</th>\n",
       "      <td>Andalucía</td>\n",
       "      <td>Jaén</td>\n",
       "      <td>Puerta de Segura (La)</td>\n",
       "      <td>38.34861</td>\n",
       "      <td>-2.737147</td>\n",
       "      <td>584.87700</td>\n",
       "      <td>2638</td>\n",
       "      <td>1313</td>\n",
       "      <td>1325</td>\n",
       "      <td>puerta de segura, la</td>\n",
       "      <td>jaen</td>\n",
       "    </tr>\n",
       "    <tr>\n",
       "      <th>5436</th>\n",
       "      <td>Catalunya</td>\n",
       "      <td>Girona</td>\n",
       "      <td>Toses</td>\n",
       "      <td>42.32076</td>\n",
       "      <td>2.014152</td>\n",
       "      <td>1426.83300</td>\n",
       "      <td>160</td>\n",
       "      <td>98</td>\n",
       "      <td>62</td>\n",
       "      <td>toses</td>\n",
       "      <td>girona</td>\n",
       "    </tr>\n",
       "    <tr>\n",
       "      <th>7810</th>\n",
       "      <td>Valencia</td>\n",
       "      <td>Castellón/Castelló</td>\n",
       "      <td>Sot de Ferrer</td>\n",
       "      <td>39.80494</td>\n",
       "      <td>-0.410224</td>\n",
       "      <td>235.51910</td>\n",
       "      <td>460</td>\n",
       "      <td>239</td>\n",
       "      <td>221</td>\n",
       "      <td>sot de ferrer</td>\n",
       "      <td>castellon/castello</td>\n",
       "    </tr>\n",
       "    <tr>\n",
       "      <th>5523</th>\n",
       "      <td>Catalunya</td>\n",
       "      <td>Lleida</td>\n",
       "      <td>Canejan</td>\n",
       "      <td>42.83821</td>\n",
       "      <td>0.738267</td>\n",
       "      <td>824.36830</td>\n",
       "      <td>104</td>\n",
       "      <td>57</td>\n",
       "      <td>47</td>\n",
       "      <td>canejan</td>\n",
       "      <td>lleida</td>\n",
       "    </tr>\n",
       "    <tr>\n",
       "      <th>6182</th>\n",
       "      <td>Extremadura</td>\n",
       "      <td>Cáceres</td>\n",
       "      <td>Oliva de Plasencia</td>\n",
       "      <td>40.11187</td>\n",
       "      <td>-6.086882</td>\n",
       "      <td>408.52210</td>\n",
       "      <td>286</td>\n",
       "      <td>155</td>\n",
       "      <td>131</td>\n",
       "      <td>oliva, la</td>\n",
       "      <td>caceres</td>\n",
       "    </tr>\n",
       "    <tr>\n",
       "      <th>7965</th>\n",
       "      <td>Valencia</td>\n",
       "      <td>Valencia/València</td>\n",
       "      <td>Foios</td>\n",
       "      <td>39.53762</td>\n",
       "      <td>-0.356513</td>\n",
       "      <td>21.95792</td>\n",
       "      <td>6671</td>\n",
       "      <td>3297</td>\n",
       "      <td>3374</td>\n",
       "      <td>foios</td>\n",
       "      <td>valencia/valencia</td>\n",
       "    </tr>\n",
       "    <tr>\n",
       "      <th>507</th>\n",
       "      <td>Andalucía</td>\n",
       "      <td>Jaén</td>\n",
       "      <td>Hinojares</td>\n",
       "      <td>37.71555</td>\n",
       "      <td>-2.999204</td>\n",
       "      <td>662.64680</td>\n",
       "      <td>409</td>\n",
       "      <td>210</td>\n",
       "      <td>199</td>\n",
       "      <td>hinojares</td>\n",
       "      <td>jaen</td>\n",
       "    </tr>\n",
       "    <tr>\n",
       "      <th>6365</th>\n",
       "      <td>Galicia</td>\n",
       "      <td>Lugo</td>\n",
       "      <td>Baralla</td>\n",
       "      <td>42.89286</td>\n",
       "      <td>-7.253127</td>\n",
       "      <td>488.22650</td>\n",
       "      <td>2955</td>\n",
       "      <td>1521</td>\n",
       "      <td>1434</td>\n",
       "      <td>baralla</td>\n",
       "      <td>lugo</td>\n",
       "    </tr>\n",
       "    <tr>\n",
       "      <th>3587</th>\n",
       "      <td>Castilla León</td>\n",
       "      <td>Palencia</td>\n",
       "      <td>Itero de la Vega</td>\n",
       "      <td>42.28725</td>\n",
       "      <td>-4.259860</td>\n",
       "      <td>770.62410</td>\n",
       "      <td>179</td>\n",
       "      <td>93</td>\n",
       "      <td>86</td>\n",
       "      <td>itero de la vega</td>\n",
       "      <td>palencia</td>\n",
       "    </tr>\n",
       "    <tr>\n",
       "      <th>5585</th>\n",
       "      <td>Catalunya</td>\n",
       "      <td>Lleida</td>\n",
       "      <td>Maldà</td>\n",
       "      <td>41.55087</td>\n",
       "      <td>1.039801</td>\n",
       "      <td>418.28590</td>\n",
       "      <td>261</td>\n",
       "      <td>141</td>\n",
       "      <td>120</td>\n",
       "      <td>maldà</td>\n",
       "      <td>lleida</td>\n",
       "    </tr>\n",
       "    <tr>\n",
       "      <th>3192</th>\n",
       "      <td>Castilla León</td>\n",
       "      <td>Burgos</td>\n",
       "      <td>San Adrián de Juarros</td>\n",
       "      <td>42.27420</td>\n",
       "      <td>-3.475125</td>\n",
       "      <td>1046.84500</td>\n",
       "      <td>67</td>\n",
       "      <td>38</td>\n",
       "      <td>29</td>\n",
       "      <td>san adrian de juarros</td>\n",
       "      <td>burgos</td>\n",
       "    </tr>\n",
       "    <tr>\n",
       "      <th>4956</th>\n",
       "      <td>Catalunya</td>\n",
       "      <td>Barcelona</td>\n",
       "      <td>Barcelona</td>\n",
       "      <td>41.38792</td>\n",
       "      <td>2.169919</td>\n",
       "      <td>19.99069</td>\n",
       "      <td>1621537</td>\n",
       "      <td>771570</td>\n",
       "      <td>849967</td>\n",
       "      <td>barcelona</td>\n",
       "      <td>barcelona</td>\n",
       "    </tr>\n",
       "    <tr>\n",
       "      <th>7136</th>\n",
       "      <td>Navarra</td>\n",
       "      <td>Navarra</td>\n",
       "      <td>Echarri</td>\n",
       "      <td>42.78057</td>\n",
       "      <td>-1.826431</td>\n",
       "      <td>403.14230</td>\n",
       "      <td>67</td>\n",
       "      <td>38</td>\n",
       "      <td>29</td>\n",
       "      <td>echarri</td>\n",
       "      <td>navarra</td>\n",
       "    </tr>\n",
       "    <tr>\n",
       "      <th>5439</th>\n",
       "      <td>Catalunya</td>\n",
       "      <td>Girona</td>\n",
       "      <td>Ullastret</td>\n",
       "      <td>42.00087</td>\n",
       "      <td>3.069931</td>\n",
       "      <td>42.31542</td>\n",
       "      <td>239</td>\n",
       "      <td>124</td>\n",
       "      <td>115</td>\n",
       "      <td>ullastret</td>\n",
       "      <td>girona</td>\n",
       "    </tr>\n",
       "    <tr>\n",
       "      <th>3114</th>\n",
       "      <td>Castilla León</td>\n",
       "      <td>Burgos</td>\n",
       "      <td>Moradillo de Roa</td>\n",
       "      <td>41.55196</td>\n",
       "      <td>-3.791871</td>\n",
       "      <td>919.98390</td>\n",
       "      <td>193</td>\n",
       "      <td>105</td>\n",
       "      <td>88</td>\n",
       "      <td>moradillo de roa</td>\n",
       "      <td>burgos</td>\n",
       "    </tr>\n",
       "    <tr>\n",
       "      <th>5149</th>\n",
       "      <td>Catalunya</td>\n",
       "      <td>Barcelona</td>\n",
       "      <td>Sant Fost de Campsentelles</td>\n",
       "      <td>41.51452</td>\n",
       "      <td>2.234791</td>\n",
       "      <td>112.32620</td>\n",
       "      <td>8234</td>\n",
       "      <td>4142</td>\n",
       "      <td>4092</td>\n",
       "      <td>sant fost de campsentelles</td>\n",
       "      <td>barcelona</td>\n",
       "    </tr>\n",
       "    <tr>\n",
       "      <th>5925</th>\n",
       "      <td>Extremadura</td>\n",
       "      <td>Badajoz</td>\n",
       "      <td>Cristina</td>\n",
       "      <td>38.83703</td>\n",
       "      <td>-6.100307</td>\n",
       "      <td>292.60120</td>\n",
       "      <td>562</td>\n",
       "      <td>296</td>\n",
       "      <td>266</td>\n",
       "      <td>cristina</td>\n",
       "      <td>badajoz</td>\n",
       "    </tr>\n",
       "    <tr>\n",
       "      <th>6427</th>\n",
       "      <td>Galicia</td>\n",
       "      <td>Lugo</td>\n",
       "      <td>Xove</td>\n",
       "      <td>43.68557</td>\n",
       "      <td>-7.512421</td>\n",
       "      <td>61.07624</td>\n",
       "      <td>3518</td>\n",
       "      <td>1757</td>\n",
       "      <td>1761</td>\n",
       "      <td>xove</td>\n",
       "      <td>lugo</td>\n",
       "    </tr>\n",
       "    <tr>\n",
       "      <th>4451</th>\n",
       "      <td>Castilla León</td>\n",
       "      <td>Soria</td>\n",
       "      <td>Villanueva de Gormaz</td>\n",
       "      <td>41.46755</td>\n",
       "      <td>-3.062313</td>\n",
       "      <td>967.60070</td>\n",
       "      <td>11</td>\n",
       "      <td>7</td>\n",
       "      <td>4</td>\n",
       "      <td>villanueva de gormaz</td>\n",
       "      <td>soria</td>\n",
       "    </tr>\n",
       "    <tr>\n",
       "      <th>5405</th>\n",
       "      <td>Catalunya</td>\n",
       "      <td>Girona</td>\n",
       "      <td>Sant Joan les Fonts</td>\n",
       "      <td>42.21240</td>\n",
       "      <td>2.511678</td>\n",
       "      <td>340.34240</td>\n",
       "      <td>2787</td>\n",
       "      <td>1421</td>\n",
       "      <td>1366</td>\n",
       "      <td>sant joan les fonts</td>\n",
       "      <td>girona</td>\n",
       "    </tr>\n",
       "    <tr>\n",
       "      <th>1568</th>\n",
       "      <td>Asturias</td>\n",
       "      <td>Asturias</td>\n",
       "      <td>Soto del Barco</td>\n",
       "      <td>43.53319</td>\n",
       "      <td>-6.069166</td>\n",
       "      <td>68.42937</td>\n",
       "      <td>4052</td>\n",
       "      <td>1982</td>\n",
       "      <td>2070</td>\n",
       "      <td>soto del barco</td>\n",
       "      <td>asturias</td>\n",
       "    </tr>\n",
       "    <tr>\n",
       "      <th>7434</th>\n",
       "      <td>País Vasco</td>\n",
       "      <td>Guipúzcoa</td>\n",
       "      <td>Oiartzun</td>\n",
       "      <td>43.29928</td>\n",
       "      <td>-1.857874</td>\n",
       "      <td>102.97210</td>\n",
       "      <td>9894</td>\n",
       "      <td>4963</td>\n",
       "      <td>4931</td>\n",
       "      <td>oiartzun</td>\n",
       "      <td>guipuzcoa</td>\n",
       "    </tr>\n",
       "    <tr>\n",
       "      <th>4143</th>\n",
       "      <td>Castilla León</td>\n",
       "      <td>Segovia</td>\n",
       "      <td>Fresno de la Fuente</td>\n",
       "      <td>41.39546</td>\n",
       "      <td>-3.644677</td>\n",
       "      <td>1040.05500</td>\n",
       "      <td>116</td>\n",
       "      <td>61</td>\n",
       "      <td>55</td>\n",
       "      <td>fresno, el</td>\n",
       "      <td>segovia</td>\n",
       "    </tr>\n",
       "  </tbody>\n",
       "</table>\n",
       "</div>"
      ],
      "text/plain": [
       "               community                province           municipality_name  \\\n",
       "328            Andalucía                 Granada                      Moclín   \n",
       "6432             Galicia                 Ourense                      Baltar   \n",
       "3303       Castilla León                  Burgos                        Zael   \n",
       "2541  Castilla La Mancha                  Toledo                  Dosbarrios   \n",
       "1654            Canarias  Santa Cruz de Tenerife                 Sauzal (El)   \n",
       "7124             Navarra                 Navarra               Castillonuevo   \n",
       "3261       Castilla León                  Burgos          Vid y Barrios (La)   \n",
       "537            Andalucía                    Jaén       Puerta de Segura (La)   \n",
       "5436           Catalunya                  Girona                       Toses   \n",
       "7810            Valencia      Castellón/Castelló               Sot de Ferrer   \n",
       "5523           Catalunya                  Lleida                     Canejan   \n",
       "6182         Extremadura                 Cáceres          Oliva de Plasencia   \n",
       "7965            Valencia       Valencia/València                       Foios   \n",
       "507            Andalucía                    Jaén                   Hinojares   \n",
       "6365             Galicia                    Lugo                     Baralla   \n",
       "3587       Castilla León                Palencia            Itero de la Vega   \n",
       "5585           Catalunya                  Lleida                       Maldà   \n",
       "3192       Castilla León                  Burgos       San Adrián de Juarros   \n",
       "4956           Catalunya               Barcelona                   Barcelona   \n",
       "7136             Navarra                 Navarra                     Echarri   \n",
       "5439           Catalunya                  Girona                   Ullastret   \n",
       "3114       Castilla León                  Burgos            Moradillo de Roa   \n",
       "5149           Catalunya               Barcelona  Sant Fost de Campsentelles   \n",
       "5925         Extremadura                 Badajoz                    Cristina   \n",
       "6427             Galicia                    Lugo                        Xove   \n",
       "4451       Castilla León                   Soria        Villanueva de Gormaz   \n",
       "5405           Catalunya                  Girona         Sant Joan les Fonts   \n",
       "1568            Asturias                Asturias              Soto del Barco   \n",
       "7434          País Vasco               Guipúzcoa                    Oiartzun   \n",
       "4143       Castilla León                 Segovia         Fresno de la Fuente   \n",
       "\n",
       "      latitude  longitude    altitude  population    male  female  \\\n",
       "328   37.34158  -3.786422  1061.08200        4268    2122    2146   \n",
       "6432  41.94975  -7.716806   823.10270        1144     568     576   \n",
       "3303  42.10968  -3.823925   843.67200         117      62      55   \n",
       "2541  39.88408  -3.476729   709.61310        2497    1271    1226   \n",
       "1654  28.47941 -16.436610   323.11060        8996    4469    4527   \n",
       "7124  42.67852  -1.044187   774.68760          18      12       6   \n",
       "3261  41.62967  -3.490485   821.05730         276     159     117   \n",
       "537   38.34861  -2.737147   584.87700        2638    1313    1325   \n",
       "5436  42.32076   2.014152  1426.83300         160      98      62   \n",
       "7810  39.80494  -0.410224   235.51910         460     239     221   \n",
       "5523  42.83821   0.738267   824.36830         104      57      47   \n",
       "6182  40.11187  -6.086882   408.52210         286     155     131   \n",
       "7965  39.53762  -0.356513    21.95792        6671    3297    3374   \n",
       "507   37.71555  -2.999204   662.64680         409     210     199   \n",
       "6365  42.89286  -7.253127   488.22650        2955    1521    1434   \n",
       "3587  42.28725  -4.259860   770.62410         179      93      86   \n",
       "5585  41.55087   1.039801   418.28590         261     141     120   \n",
       "3192  42.27420  -3.475125  1046.84500          67      38      29   \n",
       "4956  41.38792   2.169919    19.99069     1621537  771570  849967   \n",
       "7136  42.78057  -1.826431   403.14230          67      38      29   \n",
       "5439  42.00087   3.069931    42.31542         239     124     115   \n",
       "3114  41.55196  -3.791871   919.98390         193     105      88   \n",
       "5149  41.51452   2.234791   112.32620        8234    4142    4092   \n",
       "5925  38.83703  -6.100307   292.60120         562     296     266   \n",
       "6427  43.68557  -7.512421    61.07624        3518    1757    1761   \n",
       "4451  41.46755  -3.062313   967.60070          11       7       4   \n",
       "5405  42.21240   2.511678   340.34240        2787    1421    1366   \n",
       "1568  43.53319  -6.069166    68.42937        4052    1982    2070   \n",
       "7434  43.29928  -1.857874   102.97210        9894    4963    4931   \n",
       "4143  41.39546  -3.644677  1040.05500         116      61      55   \n",
       "\n",
       "         municipality_name_clean          province_clean  \n",
       "328                       moclin                 granada  \n",
       "6432                      baltar                 ourense  \n",
       "3303                        zael                  burgos  \n",
       "2541                  dosbarrios                  toledo  \n",
       "1654                  sauzal, el  santa cruz de tenerife  \n",
       "7124               castillonuevo                 navarra  \n",
       "3261           vid y barrios, la                  burgos  \n",
       "537         puerta de segura, la                    jaen  \n",
       "5436                       toses                  girona  \n",
       "7810               sot de ferrer      castellon/castello  \n",
       "5523                     canejan                  lleida  \n",
       "6182                   oliva, la                 caceres  \n",
       "7965                       foios       valencia/valencia  \n",
       "507                    hinojares                    jaen  \n",
       "6365                     baralla                    lugo  \n",
       "3587            itero de la vega                palencia  \n",
       "5585                       maldà                  lleida  \n",
       "3192       san adrian de juarros                  burgos  \n",
       "4956                   barcelona               barcelona  \n",
       "7136                     echarri                 navarra  \n",
       "5439                   ullastret                  girona  \n",
       "3114            moradillo de roa                  burgos  \n",
       "5149  sant fost de campsentelles               barcelona  \n",
       "5925                    cristina                 badajoz  \n",
       "6427                        xove                    lugo  \n",
       "4451        villanueva de gormaz                   soria  \n",
       "5405         sant joan les fonts                  girona  \n",
       "1568              soto del barco                asturias  \n",
       "7434                    oiartzun               guipuzcoa  \n",
       "4143                  fresno, el                 segovia  "
      ]
     },
     "execution_count": 132,
     "metadata": {},
     "output_type": "execute_result"
    }
   ],
   "source": [
    "df_coordinates.sample(30)"
   ]
  },
  {
   "cell_type": "code",
   "execution_count": 133,
   "metadata": {},
   "outputs": [
    {
     "data": {
      "text/html": [
       "<div>\n",
       "<style scoped>\n",
       "    .dataframe tbody tr th:only-of-type {\n",
       "        vertical-align: middle;\n",
       "    }\n",
       "\n",
       "    .dataframe tbody tr th {\n",
       "        vertical-align: top;\n",
       "    }\n",
       "\n",
       "    .dataframe thead th {\n",
       "        text-align: right;\n",
       "    }\n",
       "</style>\n",
       "<table border=\"1\" class=\"dataframe\">\n",
       "  <thead>\n",
       "    <tr style=\"text-align: right;\">\n",
       "      <th></th>\n",
       "      <th>province_code</th>\n",
       "      <th>province</th>\n",
       "      <th>municipality_code</th>\n",
       "      <th>municipality_name</th>\n",
       "      <th>population</th>\n",
       "      <th>male</th>\n",
       "      <th>female</th>\n",
       "      <th>municipality_name_clean</th>\n",
       "      <th>province_clean</th>\n",
       "    </tr>\n",
       "  </thead>\n",
       "  <tbody>\n",
       "    <tr>\n",
       "      <th>8034</th>\n",
       "      <td>50</td>\n",
       "      <td>Zaragoza</td>\n",
       "      <td>205</td>\n",
       "      <td>Pedrosas, Las</td>\n",
       "      <td>113</td>\n",
       "      <td>56</td>\n",
       "      <td>57</td>\n",
       "      <td>pedrosas, las</td>\n",
       "      <td>zaragoza</td>\n",
       "    </tr>\n",
       "  </tbody>\n",
       "</table>\n",
       "</div>"
      ],
      "text/plain": [
       "      province_code  province  municipality_code municipality_name  \\\n",
       "8034             50  Zaragoza                205     Pedrosas, Las   \n",
       "\n",
       "      population  male  female municipality_name_clean province_clean  \n",
       "8034         113    56      57           pedrosas, las       zaragoza  "
      ]
     },
     "execution_count": 133,
     "metadata": {},
     "output_type": "execute_result"
    }
   ],
   "source": [
    "df_communities\n",
    "df_communities[df_communities['municipality_name_clean'] == \"pedrosas, las\"]"
   ]
  },
  {
   "cell_type": "code",
   "execution_count": 134,
   "metadata": {},
   "outputs": [
    {
     "data": {
      "text/html": [
       "<div>\n",
       "<style scoped>\n",
       "    .dataframe tbody tr th:only-of-type {\n",
       "        vertical-align: middle;\n",
       "    }\n",
       "\n",
       "    .dataframe tbody tr th {\n",
       "        vertical-align: top;\n",
       "    }\n",
       "\n",
       "    .dataframe thead th {\n",
       "        text-align: right;\n",
       "    }\n",
       "</style>\n",
       "<table border=\"1\" class=\"dataframe\">\n",
       "  <thead>\n",
       "    <tr style=\"text-align: right;\">\n",
       "      <th></th>\n",
       "      <th>community</th>\n",
       "      <th>province</th>\n",
       "      <th>municipality_name</th>\n",
       "      <th>latitude</th>\n",
       "      <th>longitude</th>\n",
       "      <th>altitude</th>\n",
       "      <th>population</th>\n",
       "      <th>male</th>\n",
       "      <th>female</th>\n",
       "      <th>municipality_name_clean</th>\n",
       "      <th>province_clean</th>\n",
       "    </tr>\n",
       "  </thead>\n",
       "  <tbody>\n",
       "    <tr>\n",
       "      <th>1407</th>\n",
       "      <td>Aragón</td>\n",
       "      <td>Zaragoza</td>\n",
       "      <td>Pedrosas (Las)</td>\n",
       "      <td>42.03822</td>\n",
       "      <td>-0.876332</td>\n",
       "      <td>459.5541</td>\n",
       "      <td>120</td>\n",
       "      <td>64</td>\n",
       "      <td>56</td>\n",
       "      <td>pedrosas, las</td>\n",
       "      <td>zaragoza</td>\n",
       "    </tr>\n",
       "  </tbody>\n",
       "</table>\n",
       "</div>"
      ],
      "text/plain": [
       "     community  province municipality_name  latitude  longitude  altitude  \\\n",
       "1407    Aragón  Zaragoza    Pedrosas (Las)  42.03822  -0.876332  459.5541   \n",
       "\n",
       "      population  male  female municipality_name_clean province_clean  \n",
       "1407         120    64      56           pedrosas, las       zaragoza  "
      ]
     },
     "execution_count": 134,
     "metadata": {},
     "output_type": "execute_result"
    }
   ],
   "source": [
    "df_coordinates[df_coordinates['municipality_name'] == \"Amurrio\"]\n",
    "df_coordinates[df_coordinates['municipality_name_clean'] == \"pedrosas\"]\n",
    "df_coordinates[df_coordinates['municipality_name'].str.contains(r'pedrosas', case=False, na=False)]"
   ]
  },
  {
   "cell_type": "code",
   "execution_count": 136,
   "metadata": {},
   "outputs": [],
   "source": [
    "df = pd.merge(df_communities, df_coordinates[['altitude', 'longitude', 'latitude', 'municipality_name_clean', 'province_clean']], \n",
    "              on=['municipality_name_clean', 'province_clean'], \n",
    "              how='left')\n",
    "\n",
    "# df = pd.merge(df_coordinates[['altitude', 'longitude', 'latitude', 'municipality_name_clean', 'province_clean']], df_communities, \n",
    "#               on=['municipality_name_clean', 'province_clean'], \n",
    "#               how='left')"
   ]
  },
  {
   "cell_type": "code",
   "execution_count": 137,
   "metadata": {},
   "outputs": [
    {
     "data": {
      "text/html": [
       "<div>\n",
       "<style scoped>\n",
       "    .dataframe tbody tr th:only-of-type {\n",
       "        vertical-align: middle;\n",
       "    }\n",
       "\n",
       "    .dataframe tbody tr th {\n",
       "        vertical-align: top;\n",
       "    }\n",
       "\n",
       "    .dataframe thead th {\n",
       "        text-align: right;\n",
       "    }\n",
       "</style>\n",
       "<table border=\"1\" class=\"dataframe\">\n",
       "  <thead>\n",
       "    <tr style=\"text-align: right;\">\n",
       "      <th></th>\n",
       "      <th>province_code</th>\n",
       "      <th>province</th>\n",
       "      <th>municipality_code</th>\n",
       "      <th>municipality_name</th>\n",
       "      <th>population</th>\n",
       "      <th>male</th>\n",
       "      <th>female</th>\n",
       "      <th>municipality_name_clean</th>\n",
       "      <th>province_clean</th>\n",
       "      <th>altitude</th>\n",
       "      <th>longitude</th>\n",
       "      <th>latitude</th>\n",
       "    </tr>\n",
       "  </thead>\n",
       "  <tbody>\n",
       "    <tr>\n",
       "      <th>0</th>\n",
       "      <td>1</td>\n",
       "      <td>Álava</td>\n",
       "      <td>1</td>\n",
       "      <td>Alegría-Dulantzi</td>\n",
       "      <td>2971</td>\n",
       "      <td>1531</td>\n",
       "      <td>1440</td>\n",
       "      <td>alegria-dulantzi</td>\n",
       "      <td>alava</td>\n",
       "      <td>561.68570</td>\n",
       "      <td>-2.513507</td>\n",
       "      <td>42.84149</td>\n",
       "    </tr>\n",
       "    <tr>\n",
       "      <th>1</th>\n",
       "      <td>1</td>\n",
       "      <td>Álava</td>\n",
       "      <td>2</td>\n",
       "      <td>Amurrio</td>\n",
       "      <td>10330</td>\n",
       "      <td>5149</td>\n",
       "      <td>5181</td>\n",
       "      <td>amurrio</td>\n",
       "      <td>alava</td>\n",
       "      <td>219.69100</td>\n",
       "      <td>-3.001022</td>\n",
       "      <td>43.05265</td>\n",
       "    </tr>\n",
       "    <tr>\n",
       "      <th>2</th>\n",
       "      <td>1</td>\n",
       "      <td>Álava</td>\n",
       "      <td>3</td>\n",
       "      <td>Aramaio</td>\n",
       "      <td>1381</td>\n",
       "      <td>709</td>\n",
       "      <td>672</td>\n",
       "      <td>aramaio</td>\n",
       "      <td>alava</td>\n",
       "      <td>381.87970</td>\n",
       "      <td>-2.566000</td>\n",
       "      <td>43.05400</td>\n",
       "    </tr>\n",
       "    <tr>\n",
       "      <th>3</th>\n",
       "      <td>1</td>\n",
       "      <td>Álava</td>\n",
       "      <td>4</td>\n",
       "      <td>Artziniega</td>\n",
       "      <td>1856</td>\n",
       "      <td>913</td>\n",
       "      <td>943</td>\n",
       "      <td>artziniega</td>\n",
       "      <td>alava</td>\n",
       "      <td>196.98080</td>\n",
       "      <td>-3.128209</td>\n",
       "      <td>43.12220</td>\n",
       "    </tr>\n",
       "    <tr>\n",
       "      <th>4</th>\n",
       "      <td>1</td>\n",
       "      <td>Álava</td>\n",
       "      <td>6</td>\n",
       "      <td>Armiñón</td>\n",
       "      <td>247</td>\n",
       "      <td>127</td>\n",
       "      <td>120</td>\n",
       "      <td>arminon</td>\n",
       "      <td>alava</td>\n",
       "      <td>463.58150</td>\n",
       "      <td>-2.872574</td>\n",
       "      <td>42.72305</td>\n",
       "    </tr>\n",
       "    <tr>\n",
       "      <th>...</th>\n",
       "      <td>...</td>\n",
       "      <td>...</td>\n",
       "      <td>...</td>\n",
       "      <td>...</td>\n",
       "      <td>...</td>\n",
       "      <td>...</td>\n",
       "      <td>...</td>\n",
       "      <td>...</td>\n",
       "      <td>...</td>\n",
       "      <td>...</td>\n",
       "      <td>...</td>\n",
       "      <td>...</td>\n",
       "    </tr>\n",
       "    <tr>\n",
       "      <th>8136</th>\n",
       "      <td>50</td>\n",
       "      <td>Zaragoza</td>\n",
       "      <td>901</td>\n",
       "      <td>Biel</td>\n",
       "      <td>170</td>\n",
       "      <td>104</td>\n",
       "      <td>66</td>\n",
       "      <td>biel</td>\n",
       "      <td>zaragoza</td>\n",
       "      <td>754.24450</td>\n",
       "      <td>-0.936588</td>\n",
       "      <td>42.38749</td>\n",
       "    </tr>\n",
       "    <tr>\n",
       "      <th>8137</th>\n",
       "      <td>50</td>\n",
       "      <td>Zaragoza</td>\n",
       "      <td>902</td>\n",
       "      <td>Marracos</td>\n",
       "      <td>85</td>\n",
       "      <td>43</td>\n",
       "      <td>42</td>\n",
       "      <td>marracos</td>\n",
       "      <td>zaragoza</td>\n",
       "      <td>404.73610</td>\n",
       "      <td>-0.776047</td>\n",
       "      <td>42.09059</td>\n",
       "    </tr>\n",
       "    <tr>\n",
       "      <th>8138</th>\n",
       "      <td>50</td>\n",
       "      <td>Zaragoza</td>\n",
       "      <td>903</td>\n",
       "      <td>Villamayor de Gállego</td>\n",
       "      <td>2854</td>\n",
       "      <td>1446</td>\n",
       "      <td>1408</td>\n",
       "      <td>villamayor de gallego</td>\n",
       "      <td>zaragoza</td>\n",
       "      <td>231.12340</td>\n",
       "      <td>-0.773315</td>\n",
       "      <td>41.68518</td>\n",
       "    </tr>\n",
       "    <tr>\n",
       "      <th>8139</th>\n",
       "      <td>51</td>\n",
       "      <td>Ceuta</td>\n",
       "      <td>1</td>\n",
       "      <td>Ceuta</td>\n",
       "      <td>83229</td>\n",
       "      <td>41980</td>\n",
       "      <td>41249</td>\n",
       "      <td>ceuta</td>\n",
       "      <td>ceuta</td>\n",
       "      <td>13.47725</td>\n",
       "      <td>-5.316195</td>\n",
       "      <td>35.88829</td>\n",
       "    </tr>\n",
       "    <tr>\n",
       "      <th>8140</th>\n",
       "      <td>52</td>\n",
       "      <td>Melilla</td>\n",
       "      <td>1</td>\n",
       "      <td>Melilla</td>\n",
       "      <td>85811</td>\n",
       "      <td>43154</td>\n",
       "      <td>42657</td>\n",
       "      <td>melilla</td>\n",
       "      <td>melilla</td>\n",
       "      <td>10.33370</td>\n",
       "      <td>-2.938794</td>\n",
       "      <td>35.29234</td>\n",
       "    </tr>\n",
       "  </tbody>\n",
       "</table>\n",
       "<p>8141 rows × 12 columns</p>\n",
       "</div>"
      ],
      "text/plain": [
       "      province_code  province  municipality_code      municipality_name  \\\n",
       "0                 1     Álava                  1       Alegría-Dulantzi   \n",
       "1                 1     Álava                  2                Amurrio   \n",
       "2                 1     Álava                  3                Aramaio   \n",
       "3                 1     Álava                  4             Artziniega   \n",
       "4                 1     Álava                  6                Armiñón   \n",
       "...             ...       ...                ...                    ...   \n",
       "8136             50  Zaragoza                901                   Biel   \n",
       "8137             50  Zaragoza                902               Marracos   \n",
       "8138             50  Zaragoza                903  Villamayor de Gállego   \n",
       "8139             51     Ceuta                  1                  Ceuta   \n",
       "8140             52   Melilla                  1                Melilla   \n",
       "\n",
       "      population   male  female municipality_name_clean province_clean  \\\n",
       "0           2971   1531    1440        alegria-dulantzi          alava   \n",
       "1          10330   5149    5181                 amurrio          alava   \n",
       "2           1381    709     672                 aramaio          alava   \n",
       "3           1856    913     943              artziniega          alava   \n",
       "4            247    127     120                 arminon          alava   \n",
       "...          ...    ...     ...                     ...            ...   \n",
       "8136         170    104      66                    biel       zaragoza   \n",
       "8137          85     43      42                marracos       zaragoza   \n",
       "8138        2854   1446    1408   villamayor de gallego       zaragoza   \n",
       "8139       83229  41980   41249                   ceuta          ceuta   \n",
       "8140       85811  43154   42657                 melilla        melilla   \n",
       "\n",
       "       altitude  longitude  latitude  \n",
       "0     561.68570  -2.513507  42.84149  \n",
       "1     219.69100  -3.001022  43.05265  \n",
       "2     381.87970  -2.566000  43.05400  \n",
       "3     196.98080  -3.128209  43.12220  \n",
       "4     463.58150  -2.872574  42.72305  \n",
       "...         ...        ...       ...  \n",
       "8136  754.24450  -0.936588  42.38749  \n",
       "8137  404.73610  -0.776047  42.09059  \n",
       "8138  231.12340  -0.773315  41.68518  \n",
       "8139   13.47725  -5.316195  35.88829  \n",
       "8140   10.33370  -2.938794  35.29234  \n",
       "\n",
       "[8141 rows x 12 columns]"
      ]
     },
     "execution_count": 137,
     "metadata": {},
     "output_type": "execute_result"
    }
   ],
   "source": [
    "df"
   ]
  },
  {
   "cell_type": "code",
   "execution_count": 138,
   "metadata": {},
   "outputs": [
    {
     "data": {
      "text/plain": [
       "province_code                 0\n",
       "province                      0\n",
       "municipality_code             0\n",
       "municipality_name             0\n",
       "population                    0\n",
       "male                          0\n",
       "female                        0\n",
       "municipality_name_clean       0\n",
       "province_clean                0\n",
       "altitude                   1203\n",
       "longitude                  1203\n",
       "latitude                   1203\n",
       "dtype: int64"
      ]
     },
     "execution_count": 138,
     "metadata": {},
     "output_type": "execute_result"
    }
   ],
   "source": [
    "df.isnull().sum()"
   ]
  },
  {
   "cell_type": "code",
   "execution_count": 139,
   "metadata": {},
   "outputs": [
    {
     "data": {
      "text/html": [
       "<div>\n",
       "<style scoped>\n",
       "    .dataframe tbody tr th:only-of-type {\n",
       "        vertical-align: middle;\n",
       "    }\n",
       "\n",
       "    .dataframe tbody tr th {\n",
       "        vertical-align: top;\n",
       "    }\n",
       "\n",
       "    .dataframe thead th {\n",
       "        text-align: right;\n",
       "    }\n",
       "</style>\n",
       "<table border=\"1\" class=\"dataframe\">\n",
       "  <thead>\n",
       "    <tr style=\"text-align: right;\">\n",
       "      <th></th>\n",
       "      <th>province_code</th>\n",
       "      <th>province</th>\n",
       "      <th>municipality_code</th>\n",
       "      <th>municipality_name</th>\n",
       "      <th>population</th>\n",
       "      <th>male</th>\n",
       "      <th>female</th>\n",
       "      <th>municipality_name_clean</th>\n",
       "      <th>province_clean</th>\n",
       "      <th>altitude</th>\n",
       "      <th>longitude</th>\n",
       "      <th>latitude</th>\n",
       "    </tr>\n",
       "  </thead>\n",
       "  <tbody>\n",
       "    <tr>\n",
       "      <th>5</th>\n",
       "      <td>1</td>\n",
       "      <td>Álava</td>\n",
       "      <td>8</td>\n",
       "      <td>Arratzua-Ubarrundia</td>\n",
       "      <td>1047</td>\n",
       "      <td>552</td>\n",
       "      <td>495</td>\n",
       "      <td>arratzua-ubarrundia</td>\n",
       "      <td>alava</td>\n",
       "      <td>NaN</td>\n",
       "      <td>NaN</td>\n",
       "      <td>NaN</td>\n",
       "    </tr>\n",
       "    <tr>\n",
       "      <th>28</th>\n",
       "      <td>1</td>\n",
       "      <td>Álava</td>\n",
       "      <td>39</td>\n",
       "      <td>Moreda de Álava/Moreda Araba</td>\n",
       "      <td>215</td>\n",
       "      <td>114</td>\n",
       "      <td>101</td>\n",
       "      <td>moreda de alava/moreda araba</td>\n",
       "      <td>alava</td>\n",
       "      <td>NaN</td>\n",
       "      <td>NaN</td>\n",
       "      <td>NaN</td>\n",
       "    </tr>\n",
       "    <tr>\n",
       "      <th>34</th>\n",
       "      <td>1</td>\n",
       "      <td>Álava</td>\n",
       "      <td>47</td>\n",
       "      <td>Ribera Baja/Erriberabeitia</td>\n",
       "      <td>1439</td>\n",
       "      <td>767</td>\n",
       "      <td>672</td>\n",
       "      <td>ribera baja/erriberabeitia</td>\n",
       "      <td>alava</td>\n",
       "      <td>NaN</td>\n",
       "      <td>NaN</td>\n",
       "      <td>NaN</td>\n",
       "    </tr>\n",
       "    <tr>\n",
       "      <th>36</th>\n",
       "      <td>1</td>\n",
       "      <td>Álava</td>\n",
       "      <td>51</td>\n",
       "      <td>Agurain/Salvatierra</td>\n",
       "      <td>5155</td>\n",
       "      <td>2601</td>\n",
       "      <td>2554</td>\n",
       "      <td>agurain/salvatierra</td>\n",
       "      <td>alava</td>\n",
       "      <td>NaN</td>\n",
       "      <td>NaN</td>\n",
       "      <td>NaN</td>\n",
       "    </tr>\n",
       "    <tr>\n",
       "      <th>41</th>\n",
       "      <td>1</td>\n",
       "      <td>Álava</td>\n",
       "      <td>56</td>\n",
       "      <td>Harana/Valle de Arana</td>\n",
       "      <td>214</td>\n",
       "      <td>117</td>\n",
       "      <td>97</td>\n",
       "      <td>harana/valle de arana</td>\n",
       "      <td>alava</td>\n",
       "      <td>NaN</td>\n",
       "      <td>NaN</td>\n",
       "      <td>NaN</td>\n",
       "    </tr>\n",
       "    <tr>\n",
       "      <th>...</th>\n",
       "      <td>...</td>\n",
       "      <td>...</td>\n",
       "      <td>...</td>\n",
       "      <td>...</td>\n",
       "      <td>...</td>\n",
       "      <td>...</td>\n",
       "      <td>...</td>\n",
       "      <td>...</td>\n",
       "      <td>...</td>\n",
       "      <td>...</td>\n",
       "      <td>...</td>\n",
       "      <td>...</td>\n",
       "    </tr>\n",
       "    <tr>\n",
       "      <th>7906</th>\n",
       "      <td>50</td>\n",
       "      <td>Zaragoza</td>\n",
       "      <td>62</td>\n",
       "      <td>Burgo de Ebro, El</td>\n",
       "      <td>2704</td>\n",
       "      <td>1351</td>\n",
       "      <td>1353</td>\n",
       "      <td>burgo de ebro, el</td>\n",
       "      <td>zaragoza</td>\n",
       "      <td>NaN</td>\n",
       "      <td>NaN</td>\n",
       "      <td>NaN</td>\n",
       "    </tr>\n",
       "    <tr>\n",
       "      <th>7915</th>\n",
       "      <td>50</td>\n",
       "      <td>Zaragoza</td>\n",
       "      <td>71</td>\n",
       "      <td>Campillo de Aragón</td>\n",
       "      <td>112</td>\n",
       "      <td>67</td>\n",
       "      <td>45</td>\n",
       "      <td>campillo de aragon</td>\n",
       "      <td>zaragoza</td>\n",
       "      <td>NaN</td>\n",
       "      <td>NaN</td>\n",
       "      <td>NaN</td>\n",
       "    </tr>\n",
       "    <tr>\n",
       "      <th>7965</th>\n",
       "      <td>50</td>\n",
       "      <td>Zaragoza</td>\n",
       "      <td>124</td>\n",
       "      <td>Herrera de los Navarros</td>\n",
       "      <td>504</td>\n",
       "      <td>284</td>\n",
       "      <td>220</td>\n",
       "      <td>herrera de los navarros</td>\n",
       "      <td>zaragoza</td>\n",
       "      <td>NaN</td>\n",
       "      <td>NaN</td>\n",
       "      <td>NaN</td>\n",
       "    </tr>\n",
       "    <tr>\n",
       "      <th>7970</th>\n",
       "      <td>50</td>\n",
       "      <td>Zaragoza</td>\n",
       "      <td>130</td>\n",
       "      <td>Jarque de Moncayo</td>\n",
       "      <td>381</td>\n",
       "      <td>201</td>\n",
       "      <td>180</td>\n",
       "      <td>jarque de moncayo</td>\n",
       "      <td>zaragoza</td>\n",
       "      <td>NaN</td>\n",
       "      <td>NaN</td>\n",
       "      <td>NaN</td>\n",
       "    </tr>\n",
       "    <tr>\n",
       "      <th>8054</th>\n",
       "      <td>50</td>\n",
       "      <td>Zaragoza</td>\n",
       "      <td>216</td>\n",
       "      <td>Pozuelo de Aragón</td>\n",
       "      <td>249</td>\n",
       "      <td>133</td>\n",
       "      <td>116</td>\n",
       "      <td>pozuelo de aragon</td>\n",
       "      <td>zaragoza</td>\n",
       "      <td>NaN</td>\n",
       "      <td>NaN</td>\n",
       "      <td>NaN</td>\n",
       "    </tr>\n",
       "  </tbody>\n",
       "</table>\n",
       "<p>1203 rows × 12 columns</p>\n",
       "</div>"
      ],
      "text/plain": [
       "      province_code  province  municipality_code  \\\n",
       "5                 1     Álava                  8   \n",
       "28                1     Álava                 39   \n",
       "34                1     Álava                 47   \n",
       "36                1     Álava                 51   \n",
       "41                1     Álava                 56   \n",
       "...             ...       ...                ...   \n",
       "7906             50  Zaragoza                 62   \n",
       "7915             50  Zaragoza                 71   \n",
       "7965             50  Zaragoza                124   \n",
       "7970             50  Zaragoza                130   \n",
       "8054             50  Zaragoza                216   \n",
       "\n",
       "                 municipality_name  population  male  female  \\\n",
       "5              Arratzua-Ubarrundia        1047   552     495   \n",
       "28    Moreda de Álava/Moreda Araba         215   114     101   \n",
       "34      Ribera Baja/Erriberabeitia        1439   767     672   \n",
       "36             Agurain/Salvatierra        5155  2601    2554   \n",
       "41           Harana/Valle de Arana         214   117      97   \n",
       "...                            ...         ...   ...     ...   \n",
       "7906             Burgo de Ebro, El        2704  1351    1353   \n",
       "7915            Campillo de Aragón         112    67      45   \n",
       "7965       Herrera de los Navarros         504   284     220   \n",
       "7970             Jarque de Moncayo         381   201     180   \n",
       "8054             Pozuelo de Aragón         249   133     116   \n",
       "\n",
       "           municipality_name_clean province_clean  altitude  longitude  \\\n",
       "5              arratzua-ubarrundia          alava       NaN        NaN   \n",
       "28    moreda de alava/moreda araba          alava       NaN        NaN   \n",
       "34      ribera baja/erriberabeitia          alava       NaN        NaN   \n",
       "36             agurain/salvatierra          alava       NaN        NaN   \n",
       "41           harana/valle de arana          alava       NaN        NaN   \n",
       "...                            ...            ...       ...        ...   \n",
       "7906             burgo de ebro, el       zaragoza       NaN        NaN   \n",
       "7915            campillo de aragon       zaragoza       NaN        NaN   \n",
       "7965       herrera de los navarros       zaragoza       NaN        NaN   \n",
       "7970             jarque de moncayo       zaragoza       NaN        NaN   \n",
       "8054             pozuelo de aragon       zaragoza       NaN        NaN   \n",
       "\n",
       "      latitude  \n",
       "5          NaN  \n",
       "28         NaN  \n",
       "34         NaN  \n",
       "36         NaN  \n",
       "41         NaN  \n",
       "...        ...  \n",
       "7906       NaN  \n",
       "7915       NaN  \n",
       "7965       NaN  \n",
       "7970       NaN  \n",
       "8054       NaN  \n",
       "\n",
       "[1203 rows x 12 columns]"
      ]
     },
     "execution_count": 139,
     "metadata": {},
     "output_type": "execute_result"
    }
   ],
   "source": [
    "# Display rows with any NaN values and count them\n",
    "nan_rows = df[df.isna().any(axis=1)]\n",
    "nan_rows"
   ]
  },
  {
   "cell_type": "code",
   "execution_count": 140,
   "metadata": {},
   "outputs": [
    {
     "data": {
      "text/html": [
       "<div>\n",
       "<style scoped>\n",
       "    .dataframe tbody tr th:only-of-type {\n",
       "        vertical-align: middle;\n",
       "    }\n",
       "\n",
       "    .dataframe tbody tr th {\n",
       "        vertical-align: top;\n",
       "    }\n",
       "\n",
       "    .dataframe thead th {\n",
       "        text-align: right;\n",
       "    }\n",
       "</style>\n",
       "<table border=\"1\" class=\"dataframe\">\n",
       "  <thead>\n",
       "    <tr style=\"text-align: right;\">\n",
       "      <th></th>\n",
       "      <th>province_code</th>\n",
       "      <th>province</th>\n",
       "      <th>municipality_code</th>\n",
       "      <th>municipality_name</th>\n",
       "      <th>population</th>\n",
       "      <th>male</th>\n",
       "      <th>female</th>\n",
       "      <th>municipality_name_clean</th>\n",
       "      <th>province_clean</th>\n",
       "      <th>altitude</th>\n",
       "      <th>longitude</th>\n",
       "      <th>latitude</th>\n",
       "    </tr>\n",
       "  </thead>\n",
       "  <tbody>\n",
       "    <tr>\n",
       "      <th>0</th>\n",
       "      <td>1</td>\n",
       "      <td>Álava</td>\n",
       "      <td>1</td>\n",
       "      <td>Alegría-Dulantzi</td>\n",
       "      <td>2971</td>\n",
       "      <td>1531</td>\n",
       "      <td>1440</td>\n",
       "      <td>alegria-dulantzi</td>\n",
       "      <td>alava</td>\n",
       "      <td>561.68570</td>\n",
       "      <td>-2.513507</td>\n",
       "      <td>42.84149</td>\n",
       "    </tr>\n",
       "    <tr>\n",
       "      <th>1</th>\n",
       "      <td>1</td>\n",
       "      <td>Álava</td>\n",
       "      <td>2</td>\n",
       "      <td>Amurrio</td>\n",
       "      <td>10330</td>\n",
       "      <td>5149</td>\n",
       "      <td>5181</td>\n",
       "      <td>amurrio</td>\n",
       "      <td>alava</td>\n",
       "      <td>219.69100</td>\n",
       "      <td>-3.001022</td>\n",
       "      <td>43.05265</td>\n",
       "    </tr>\n",
       "    <tr>\n",
       "      <th>2</th>\n",
       "      <td>1</td>\n",
       "      <td>Álava</td>\n",
       "      <td>3</td>\n",
       "      <td>Aramaio</td>\n",
       "      <td>1381</td>\n",
       "      <td>709</td>\n",
       "      <td>672</td>\n",
       "      <td>aramaio</td>\n",
       "      <td>alava</td>\n",
       "      <td>381.87970</td>\n",
       "      <td>-2.566000</td>\n",
       "      <td>43.05400</td>\n",
       "    </tr>\n",
       "    <tr>\n",
       "      <th>3</th>\n",
       "      <td>1</td>\n",
       "      <td>Álava</td>\n",
       "      <td>4</td>\n",
       "      <td>Artziniega</td>\n",
       "      <td>1856</td>\n",
       "      <td>913</td>\n",
       "      <td>943</td>\n",
       "      <td>artziniega</td>\n",
       "      <td>alava</td>\n",
       "      <td>196.98080</td>\n",
       "      <td>-3.128209</td>\n",
       "      <td>43.12220</td>\n",
       "    </tr>\n",
       "    <tr>\n",
       "      <th>4</th>\n",
       "      <td>1</td>\n",
       "      <td>Álava</td>\n",
       "      <td>6</td>\n",
       "      <td>Armiñón</td>\n",
       "      <td>247</td>\n",
       "      <td>127</td>\n",
       "      <td>120</td>\n",
       "      <td>arminon</td>\n",
       "      <td>alava</td>\n",
       "      <td>463.58150</td>\n",
       "      <td>-2.872574</td>\n",
       "      <td>42.72305</td>\n",
       "    </tr>\n",
       "    <tr>\n",
       "      <th>...</th>\n",
       "      <td>...</td>\n",
       "      <td>...</td>\n",
       "      <td>...</td>\n",
       "      <td>...</td>\n",
       "      <td>...</td>\n",
       "      <td>...</td>\n",
       "      <td>...</td>\n",
       "      <td>...</td>\n",
       "      <td>...</td>\n",
       "      <td>...</td>\n",
       "      <td>...</td>\n",
       "      <td>...</td>\n",
       "    </tr>\n",
       "    <tr>\n",
       "      <th>8136</th>\n",
       "      <td>50</td>\n",
       "      <td>Zaragoza</td>\n",
       "      <td>901</td>\n",
       "      <td>Biel</td>\n",
       "      <td>170</td>\n",
       "      <td>104</td>\n",
       "      <td>66</td>\n",
       "      <td>biel</td>\n",
       "      <td>zaragoza</td>\n",
       "      <td>754.24450</td>\n",
       "      <td>-0.936588</td>\n",
       "      <td>42.38749</td>\n",
       "    </tr>\n",
       "    <tr>\n",
       "      <th>8137</th>\n",
       "      <td>50</td>\n",
       "      <td>Zaragoza</td>\n",
       "      <td>902</td>\n",
       "      <td>Marracos</td>\n",
       "      <td>85</td>\n",
       "      <td>43</td>\n",
       "      <td>42</td>\n",
       "      <td>marracos</td>\n",
       "      <td>zaragoza</td>\n",
       "      <td>404.73610</td>\n",
       "      <td>-0.776047</td>\n",
       "      <td>42.09059</td>\n",
       "    </tr>\n",
       "    <tr>\n",
       "      <th>8138</th>\n",
       "      <td>50</td>\n",
       "      <td>Zaragoza</td>\n",
       "      <td>903</td>\n",
       "      <td>Villamayor de Gállego</td>\n",
       "      <td>2854</td>\n",
       "      <td>1446</td>\n",
       "      <td>1408</td>\n",
       "      <td>villamayor de gallego</td>\n",
       "      <td>zaragoza</td>\n",
       "      <td>231.12340</td>\n",
       "      <td>-0.773315</td>\n",
       "      <td>41.68518</td>\n",
       "    </tr>\n",
       "    <tr>\n",
       "      <th>8139</th>\n",
       "      <td>51</td>\n",
       "      <td>Ceuta</td>\n",
       "      <td>1</td>\n",
       "      <td>Ceuta</td>\n",
       "      <td>83229</td>\n",
       "      <td>41980</td>\n",
       "      <td>41249</td>\n",
       "      <td>ceuta</td>\n",
       "      <td>ceuta</td>\n",
       "      <td>13.47725</td>\n",
       "      <td>-5.316195</td>\n",
       "      <td>35.88829</td>\n",
       "    </tr>\n",
       "    <tr>\n",
       "      <th>8140</th>\n",
       "      <td>52</td>\n",
       "      <td>Melilla</td>\n",
       "      <td>1</td>\n",
       "      <td>Melilla</td>\n",
       "      <td>85811</td>\n",
       "      <td>43154</td>\n",
       "      <td>42657</td>\n",
       "      <td>melilla</td>\n",
       "      <td>melilla</td>\n",
       "      <td>10.33370</td>\n",
       "      <td>-2.938794</td>\n",
       "      <td>35.29234</td>\n",
       "    </tr>\n",
       "  </tbody>\n",
       "</table>\n",
       "<p>8141 rows × 12 columns</p>\n",
       "</div>"
      ],
      "text/plain": [
       "      province_code  province  municipality_code      municipality_name  \\\n",
       "0                 1     Álava                  1       Alegría-Dulantzi   \n",
       "1                 1     Álava                  2                Amurrio   \n",
       "2                 1     Álava                  3                Aramaio   \n",
       "3                 1     Álava                  4             Artziniega   \n",
       "4                 1     Álava                  6                Armiñón   \n",
       "...             ...       ...                ...                    ...   \n",
       "8136             50  Zaragoza                901                   Biel   \n",
       "8137             50  Zaragoza                902               Marracos   \n",
       "8138             50  Zaragoza                903  Villamayor de Gállego   \n",
       "8139             51     Ceuta                  1                  Ceuta   \n",
       "8140             52   Melilla                  1                Melilla   \n",
       "\n",
       "      population   male  female municipality_name_clean province_clean  \\\n",
       "0           2971   1531    1440        alegria-dulantzi          alava   \n",
       "1          10330   5149    5181                 amurrio          alava   \n",
       "2           1381    709     672                 aramaio          alava   \n",
       "3           1856    913     943              artziniega          alava   \n",
       "4            247    127     120                 arminon          alava   \n",
       "...          ...    ...     ...                     ...            ...   \n",
       "8136         170    104      66                    biel       zaragoza   \n",
       "8137          85     43      42                marracos       zaragoza   \n",
       "8138        2854   1446    1408   villamayor de gallego       zaragoza   \n",
       "8139       83229  41980   41249                   ceuta          ceuta   \n",
       "8140       85811  43154   42657                 melilla        melilla   \n",
       "\n",
       "       altitude  longitude  latitude  \n",
       "0     561.68570  -2.513507  42.84149  \n",
       "1     219.69100  -3.001022  43.05265  \n",
       "2     381.87970  -2.566000  43.05400  \n",
       "3     196.98080  -3.128209  43.12220  \n",
       "4     463.58150  -2.872574  42.72305  \n",
       "...         ...        ...       ...  \n",
       "8136  754.24450  -0.936588  42.38749  \n",
       "8137  404.73610  -0.776047  42.09059  \n",
       "8138  231.12340  -0.773315  41.68518  \n",
       "8139   13.47725  -5.316195  35.88829  \n",
       "8140   10.33370  -2.938794  35.29234  \n",
       "\n",
       "[8141 rows x 12 columns]"
      ]
     },
     "execution_count": 140,
     "metadata": {},
     "output_type": "execute_result"
    }
   ],
   "source": [
    "df"
   ]
  },
  {
   "cell_type": "markdown",
   "metadata": {},
   "source": [
    "## Problems\n",
    "\n",
    "Spelling is different in the two dataset, we might have to remove the accents first"
   ]
  },
  {
   "cell_type": "code",
   "execution_count": 141,
   "metadata": {},
   "outputs": [
    {
     "data": {
      "text/html": [
       "<div>\n",
       "<style scoped>\n",
       "    .dataframe tbody tr th:only-of-type {\n",
       "        vertical-align: middle;\n",
       "    }\n",
       "\n",
       "    .dataframe tbody tr th {\n",
       "        vertical-align: top;\n",
       "    }\n",
       "\n",
       "    .dataframe thead th {\n",
       "        text-align: right;\n",
       "    }\n",
       "</style>\n",
       "<table border=\"1\" class=\"dataframe\">\n",
       "  <thead>\n",
       "    <tr style=\"text-align: right;\">\n",
       "      <th></th>\n",
       "      <th>province_code</th>\n",
       "      <th>province</th>\n",
       "      <th>municipality_code</th>\n",
       "      <th>municipality_name</th>\n",
       "      <th>population</th>\n",
       "      <th>male</th>\n",
       "      <th>female</th>\n",
       "      <th>municipality_name_clean</th>\n",
       "      <th>province_clean</th>\n",
       "    </tr>\n",
       "  </thead>\n",
       "  <tbody>\n",
       "    <tr>\n",
       "      <th>768</th>\n",
       "      <td>6</td>\n",
       "      <td>Badajoz</td>\n",
       "      <td>139</td>\n",
       "      <td>Valencia de las Torres</td>\n",
       "      <td>480</td>\n",
       "      <td>256</td>\n",
       "      <td>224</td>\n",
       "      <td>valencia de las torres</td>\n",
       "      <td>badajoz</td>\n",
       "    </tr>\n",
       "    <tr>\n",
       "      <th>769</th>\n",
       "      <td>6</td>\n",
       "      <td>Badajoz</td>\n",
       "      <td>140</td>\n",
       "      <td>Valencia del Mombuey</td>\n",
       "      <td>713</td>\n",
       "      <td>369</td>\n",
       "      <td>344</td>\n",
       "      <td>valencia del mombuey</td>\n",
       "      <td>badajoz</td>\n",
       "    </tr>\n",
       "    <tr>\n",
       "      <th>770</th>\n",
       "      <td>6</td>\n",
       "      <td>Badajoz</td>\n",
       "      <td>141</td>\n",
       "      <td>Valencia del Ventoso</td>\n",
       "      <td>1885</td>\n",
       "      <td>953</td>\n",
       "      <td>932</td>\n",
       "      <td>valencia del ventoso</td>\n",
       "      <td>badajoz</td>\n",
       "    </tr>\n",
       "    <tr>\n",
       "      <th>1745</th>\n",
       "      <td>10</td>\n",
       "      <td>Cáceres</td>\n",
       "      <td>203</td>\n",
       "      <td>Valencia de Alcántara</td>\n",
       "      <td>5196</td>\n",
       "      <td>2562</td>\n",
       "      <td>2634</td>\n",
       "      <td>valencia de alcantara</td>\n",
       "      <td>caceres</td>\n",
       "    </tr>\n",
       "    <tr>\n",
       "      <th>3779</th>\n",
       "      <td>24</td>\n",
       "      <td>León</td>\n",
       "      <td>188</td>\n",
       "      <td>Valencia de Don Juan</td>\n",
       "      <td>5094</td>\n",
       "      <td>2470</td>\n",
       "      <td>2624</td>\n",
       "      <td>valencia de don juan</td>\n",
       "      <td>leon</td>\n",
       "    </tr>\n",
       "    <tr>\n",
       "      <th>7234</th>\n",
       "      <td>46</td>\n",
       "      <td>Valencia</td>\n",
       "      <td>250</td>\n",
       "      <td>València</td>\n",
       "      <td>825948</td>\n",
       "      <td>391970</td>\n",
       "      <td>433978</td>\n",
       "      <td>valencia</td>\n",
       "      <td>valencia</td>\n",
       "    </tr>\n",
       "  </tbody>\n",
       "</table>\n",
       "</div>"
      ],
      "text/plain": [
       "      province_code  province  municipality_code       municipality_name  \\\n",
       "768               6   Badajoz                139  Valencia de las Torres   \n",
       "769               6   Badajoz                140    Valencia del Mombuey   \n",
       "770               6   Badajoz                141    Valencia del Ventoso   \n",
       "1745             10   Cáceres                203   Valencia de Alcántara   \n",
       "3779             24      León                188    Valencia de Don Juan   \n",
       "7234             46  Valencia                250                València   \n",
       "\n",
       "      population    male  female municipality_name_clean province_clean  \n",
       "768          480     256     224  valencia de las torres        badajoz  \n",
       "769          713     369     344    valencia del mombuey        badajoz  \n",
       "770         1885     953     932    valencia del ventoso        badajoz  \n",
       "1745        5196    2562    2634   valencia de alcantara        caceres  \n",
       "3779        5094    2470    2624    valencia de don juan           leon  \n",
       "7234      825948  391970  433978                valencia       valencia  "
      ]
     },
     "execution_count": 141,
     "metadata": {},
     "output_type": "execute_result"
    }
   ],
   "source": [
    "df_communities[df_communities['municipality_name'].str.contains(r'Val.*ncia', case=False, na=False)]"
   ]
  },
  {
   "cell_type": "code",
   "execution_count": 142,
   "metadata": {},
   "outputs": [
    {
     "data": {
      "text/html": [
       "<div>\n",
       "<style scoped>\n",
       "    .dataframe tbody tr th:only-of-type {\n",
       "        vertical-align: middle;\n",
       "    }\n",
       "\n",
       "    .dataframe tbody tr th {\n",
       "        vertical-align: top;\n",
       "    }\n",
       "\n",
       "    .dataframe thead th {\n",
       "        text-align: right;\n",
       "    }\n",
       "</style>\n",
       "<table border=\"1\" class=\"dataframe\">\n",
       "  <thead>\n",
       "    <tr style=\"text-align: right;\">\n",
       "      <th></th>\n",
       "      <th>community</th>\n",
       "      <th>province</th>\n",
       "      <th>municipality_name</th>\n",
       "      <th>latitude</th>\n",
       "      <th>longitude</th>\n",
       "      <th>altitude</th>\n",
       "      <th>population</th>\n",
       "      <th>male</th>\n",
       "      <th>female</th>\n",
       "      <th>municipality_name_clean</th>\n",
       "      <th>province_clean</th>\n",
       "    </tr>\n",
       "  </thead>\n",
       "  <tbody>\n",
       "    <tr>\n",
       "      <th>3479</th>\n",
       "      <td>Castilla León</td>\n",
       "      <td>León</td>\n",
       "      <td>Valencia de Don Juan</td>\n",
       "      <td>42.29401</td>\n",
       "      <td>-5.519861</td>\n",
       "      <td>767.8869</td>\n",
       "      <td>5083</td>\n",
       "      <td>2505</td>\n",
       "      <td>2578</td>\n",
       "      <td>valencia de don juan</td>\n",
       "      <td>leon</td>\n",
       "    </tr>\n",
       "    <tr>\n",
       "      <th>6024</th>\n",
       "      <td>Extremadura</td>\n",
       "      <td>Badajoz</td>\n",
       "      <td>Valencia de las Torres</td>\n",
       "      <td>38.40500</td>\n",
       "      <td>-6.003782</td>\n",
       "      <td>514.0270</td>\n",
       "      <td>687</td>\n",
       "      <td>358</td>\n",
       "      <td>329</td>\n",
       "      <td>valencia de las torres</td>\n",
       "      <td>badajoz</td>\n",
       "    </tr>\n",
       "    <tr>\n",
       "      <th>6025</th>\n",
       "      <td>Extremadura</td>\n",
       "      <td>Badajoz</td>\n",
       "      <td>Valencia del Mombuey</td>\n",
       "      <td>38.24256</td>\n",
       "      <td>-7.119643</td>\n",
       "      <td>295.6457</td>\n",
       "      <td>782</td>\n",
       "      <td>400</td>\n",
       "      <td>382</td>\n",
       "      <td>valencia del mombuey</td>\n",
       "      <td>badajoz</td>\n",
       "    </tr>\n",
       "    <tr>\n",
       "      <th>6026</th>\n",
       "      <td>Extremadura</td>\n",
       "      <td>Badajoz</td>\n",
       "      <td>Valencia del Ventoso</td>\n",
       "      <td>38.26500</td>\n",
       "      <td>-6.474613</td>\n",
       "      <td>496.0627</td>\n",
       "      <td>2249</td>\n",
       "      <td>1130</td>\n",
       "      <td>1119</td>\n",
       "      <td>valencia del ventoso</td>\n",
       "      <td>badajoz</td>\n",
       "    </tr>\n",
       "    <tr>\n",
       "      <th>6250</th>\n",
       "      <td>Extremadura</td>\n",
       "      <td>Cáceres</td>\n",
       "      <td>Valencia de Alcántara</td>\n",
       "      <td>39.41135</td>\n",
       "      <td>-7.246899</td>\n",
       "      <td>462.1811</td>\n",
       "      <td>6178</td>\n",
       "      <td>3070</td>\n",
       "      <td>3108</td>\n",
       "      <td>valencia de alcantara</td>\n",
       "      <td>caceres</td>\n",
       "    </tr>\n",
       "    <tr>\n",
       "      <th>8094</th>\n",
       "      <td>Valencia</td>\n",
       "      <td>Valencia/València</td>\n",
       "      <td>Valencia</td>\n",
       "      <td>39.47024</td>\n",
       "      <td>-0.376805</td>\n",
       "      <td>23.3349</td>\n",
       "      <td>814208</td>\n",
       "      <td>392300</td>\n",
       "      <td>421908</td>\n",
       "      <td>valencia</td>\n",
       "      <td>valencia/valencia</td>\n",
       "    </tr>\n",
       "  </tbody>\n",
       "</table>\n",
       "</div>"
      ],
      "text/plain": [
       "          community           province       municipality_name  latitude  \\\n",
       "3479  Castilla León               León    Valencia de Don Juan  42.29401   \n",
       "6024    Extremadura            Badajoz  Valencia de las Torres  38.40500   \n",
       "6025    Extremadura            Badajoz    Valencia del Mombuey  38.24256   \n",
       "6026    Extremadura            Badajoz    Valencia del Ventoso  38.26500   \n",
       "6250    Extremadura            Cáceres   Valencia de Alcántara  39.41135   \n",
       "8094       Valencia  Valencia/València                Valencia  39.47024   \n",
       "\n",
       "      longitude  altitude  population    male  female municipality_name_clean  \\\n",
       "3479  -5.519861  767.8869        5083    2505    2578    valencia de don juan   \n",
       "6024  -6.003782  514.0270         687     358     329  valencia de las torres   \n",
       "6025  -7.119643  295.6457         782     400     382    valencia del mombuey   \n",
       "6026  -6.474613  496.0627        2249    1130    1119    valencia del ventoso   \n",
       "6250  -7.246899  462.1811        6178    3070    3108   valencia de alcantara   \n",
       "8094  -0.376805   23.3349      814208  392300  421908                valencia   \n",
       "\n",
       "         province_clean  \n",
       "3479               leon  \n",
       "6024            badajoz  \n",
       "6025            badajoz  \n",
       "6026            badajoz  \n",
       "6250            caceres  \n",
       "8094  valencia/valencia  "
      ]
     },
     "execution_count": 142,
     "metadata": {},
     "output_type": "execute_result"
    }
   ],
   "source": [
    "df_coordinates[df_coordinates['municipality_name'].str.contains(r'Val.*ncia', case=False, na=False)]"
   ]
  },
  {
   "cell_type": "code",
   "execution_count": 108,
   "metadata": {},
   "outputs": [
    {
     "data": {
      "application/vnd.plotly.v1+json": {
       "config": {
        "plotlyServerURL": "https://plot.ly"
       },
       "data": [
        {
         "customdata": [
          [
           "Alegría-Dulantzi",
           561.6857
          ],
          [
           "Amurrio",
           219.691
          ],
          [
           "Aramaio",
           381.8797
          ],
          [
           "Artziniega",
           196.9808
          ],
          [
           "Armiñón",
           463.5815
          ],
          [
           "Arratzua-Ubarrundia",
           null
          ],
          [
           "Asparrena",
           631.652
          ],
          [
           "Ayala/Aiara",
           300.2789
          ],
          [
           "Baños de Ebro/Mañueta",
           428.0221
          ],
          [
           "Barrundia",
           555.0674
          ],
          [
           "Berantevilla",
           468.8318
          ],
          [
           "Bernedo",
           713.1542
          ],
          [
           "Campezo/Kanpezu",
           742.2458
          ],
          [
           "Zigoitia",
           599.7416
          ],
          [
           "Kripan",
           695.0848
          ],
          [
           "Kuartango",
           572.6608
          ],
          [
           "Elburgo/Burgelu",
           540.8835
          ],
          [
           "Elciego",
           461.4185
          ],
          [
           "Elvillar/Bilar",
           592
          ],
          [
           "Iruraiz-Gauna",
           601.8067
          ],
          [
           "Labastida/Bastida",
           547.173
          ],
          [
           "Lagrán",
           749.7421
          ],
          [
           "Laguardia",
           629.8966
          ],
          [
           "Lanciego/Lantziego",
           548.5494
          ],
          [
           "Lapuebla de Labarca",
           445.6386
          ],
          [
           "Leza",
           573.1453
          ],
          [
           "Laudio/Llodio",
           127.9116
          ],
          [
           "Arraia-Maeztu",
           657.7902
          ],
          [
           "Moreda de Álava/Moreda Araba",
           null
          ],
          [
           "Navaridas",
           524.3116
          ],
          [
           "Okondo",
           145.3144
          ],
          [
           "Oyón-Oion",
           437.9938
          ],
          [
           "Peñacerrada-Urizaharra",
           749.8625
          ],
          [
           "Erriberagoitia/Ribera Alta",
           479.5812
          ],
          [
           "Ribera Baja/Erriberabeitia",
           null
          ],
          [
           "Añana",
           628.5115
          ],
          [
           "Agurain/Salvatierra",
           null
          ],
          [
           "Samaniego",
           578.5411
          ],
          [
           "San Millán/Donemiliaga",
           596.2991
          ],
          [
           "Urkabustaiz",
           680.2825
          ],
          [
           "Valdegovía/Gaubea",
           574.0443
          ],
          [
           "Harana/Valle de Arana",
           null
          ],
          [
           "Villabuena de Álava/Eskuernaga",
           486.5453
          ],
          [
           "Legutio",
           null
          ],
          [
           "Vitoria-Gasteiz",
           534.3582
          ],
          [
           "Yécora/Iekora",
           688.1754
          ],
          [
           "Zalduondo",
           608.8599
          ],
          [
           "Zambrana",
           455.7371
          ],
          [
           "Zuia",
           803.4551
          ],
          [
           "Iruña Oka/Iruña de Oca",
           498.6791
          ],
          [
           "Lantarón",
           615.6439
          ],
          [
           "Abengibre",
           635.9763
          ],
          [
           "Alatoz",
           856.581
          ],
          [
           "Albacete",
           685.9573
          ],
          [
           "Albatana",
           583.8509
          ],
          [
           "Alborea",
           700.4382
          ],
          [
           "Alcadozo",
           926.3744
          ],
          [
           "Alcalá del Júcar",
           564.6768
          ],
          [
           "Alcaraz",
           946.7922
          ],
          [
           "Almansa",
           699.0923
          ],
          [
           "Alpera",
           855.4849
          ],
          [
           "Ayna",
           705.988
          ],
          [
           "Balazote",
           774.1191
          ],
          [
           "Balsa de Ves",
           753.8686
          ],
          [
           "Ballestero, El",
           1022.816
          ],
          [
           "Barrax",
           730.8005
          ],
          [
           "Bienservida",
           892.105
          ],
          [
           "Bogarra",
           877.0484
          ],
          [
           "Bonete",
           892.0386
          ],
          [
           "Bonillo, El",
           1068.339
          ],
          [
           "Carcelén",
           917.2548
          ],
          [
           "Casas de Juan Núñez",
           708.0665
          ],
          [
           "Casas de Lázaro",
           955.0565
          ],
          [
           "Casas de Ves",
           705.2325
          ],
          [
           "Casas-Ibáñez",
           708.7758
          ],
          [
           "Caudete",
           576.1887
          ],
          [
           "Cenizate",
           709.0714
          ],
          [
           "Corral-Rubio",
           874.6991
          ],
          [
           "Cotillas",
           937.312
          ],
          [
           "Chinchilla de Monte-Aragón",
           886.0651
          ],
          [
           "Elche de la Sierra",
           641.3206
          ],
          [
           "Férez",
           678.098
          ],
          [
           "Fuensanta",
           704.071
          ],
          [
           "Fuente-Álamo",
           823.3177
          ],
          [
           "Fuentealbilla",
           664.727
          ],
          [
           "Gineta, La",
           691.8901
          ],
          [
           "Golosalvo",
           737.8311
          ],
          [
           "Hellín",
           571.8438
          ],
          [
           "Herrera, La",
           715.7388
          ],
          [
           "Higueruela",
           1038.131
          ],
          [
           "Hoya-Gonzalo",
           935.8157
          ],
          [
           "Jorquera",
           620.2926
          ],
          [
           "Letur",
           746.7882
          ],
          [
           "Lezuza",
           916.73
          ],
          [
           "Liétor",
           671.197
          ],
          [
           "Madrigueras",
           692.8739
          ],
          [
           "Mahora",
           667.1957
          ],
          [
           "Masegoso",
           1109.367
          ],
          [
           "Minaya",
           725.5837
          ],
          [
           "Molinicos",
           857.9905
          ],
          [
           "Montalvos",
           710
          ],
          [
           "Montealegre del Castillo",
           811.8585
          ],
          [
           "Motilleja",
           679.5121
          ],
          [
           "Munera",
           934.6063
          ],
          [
           "Navas de Jorquera",
           711
          ],
          [
           "Nerpio",
           1084.768
          ],
          [
           "Ontur",
           656.9244
          ],
          [
           "Ossa de Montiel",
           911.2698
          ],
          [
           "Paterna del Madera",
           1136.959
          ],
          [
           "Peñascosa",
           1170.48
          ],
          [
           "Peñas de San Pedro",
           1023.151
          ],
          [
           "Pétrola",
           878.49
          ],
          [
           "Povedilla",
           871.9346
          ],
          [
           "Pozohondo",
           872.5624
          ],
          [
           "Pozo-Lorente",
           773.0806
          ],
          [
           "Pozuelo",
           850.8868
          ],
          [
           "Recueja, La",
           541.1991
          ],
          [
           "Riópar",
           971.0583
          ],
          [
           "Robledo",
           1029.824
          ],
          [
           "Roda, La",
           679.9437
          ],
          [
           "Salobre",
           924.4268
          ],
          [
           "San Pedro",
           844.3685
          ],
          [
           "Socovos",
           751.4481
          ],
          [
           "Tarazona de la Mancha",
           715.6435
          ],
          [
           "Tobarra",
           642.4951
          ],
          [
           "Valdeganga",
           668.1237
          ],
          [
           "Vianos",
           1117.031
          ],
          [
           "Villa de Ves",
           741.5894
          ],
          [
           "Villalgordo del Júcar",
           null
          ],
          [
           "Villamalea",
           743.7635
          ],
          [
           "Villapalacios",
           837.8229
          ],
          [
           "Villarrobledo",
           728.5291
          ],
          [
           "Villatoya",
           416.7317
          ],
          [
           "Villavaliente",
           728.5188
          ],
          [
           "Villaverde de Guadalimar",
           796.1951
          ],
          [
           "Viveros",
           1012.303
          ],
          [
           "Yeste",
           862.6873
          ],
          [
           "Pozo Cañada",
           826.6574
          ],
          [
           "Atzúbia, l'",
           null
          ],
          [
           "Agost",
           null
          ],
          [
           "Agres",
           null
          ],
          [
           "Aigües",
           null
          ],
          [
           "Albatera",
           null
          ],
          [
           "Alcalalí",
           null
          ],
          [
           "Alcosser",
           null
          ],
          [
           "Alcoleja",
           null
          ],
          [
           "Alcoi/Alcoy",
           null
          ],
          [
           "Alfafara",
           null
          ],
          [
           "Alfàs del Pi, l'",
           null
          ],
          [
           "Algorfa",
           null
          ],
          [
           "Algueña",
           null
          ],
          [
           "Alacant/Alicante",
           null
          ],
          [
           "Almoradí",
           null
          ],
          [
           "Almudaina",
           null
          ],
          [
           "Alqueria d'Asnar, l'",
           null
          ],
          [
           "Altea",
           null
          ],
          [
           "Aspe",
           null
          ],
          [
           "Balones",
           null
          ],
          [
           "Banyeres de Mariola",
           null
          ],
          [
           "Benasau",
           null
          ],
          [
           "Beneixama",
           null
          ],
          [
           "Benejúzar",
           null
          ],
          [
           "Benferri",
           null
          ],
          [
           "Beniarbeig",
           null
          ],
          [
           "Beniardà",
           null
          ],
          [
           "Beniarrés",
           null
          ],
          [
           "Benigembla",
           null
          ],
          [
           "Benidoleig",
           null
          ],
          [
           "Benidorm",
           null
          ],
          [
           "Benifallim",
           null
          ],
          [
           "Benifato",
           null
          ],
          [
           "Benijófar",
           null
          ],
          [
           "Benilloba",
           null
          ],
          [
           "Benillup",
           null
          ],
          [
           "Benimantell",
           null
          ],
          [
           "Benimarfull",
           null
          ],
          [
           "Benimassot",
           null
          ],
          [
           "Benimeli",
           null
          ],
          [
           "Benissa",
           null
          ],
          [
           "Poble Nou de Benitatxell, el/Benitachell",
           null
          ],
          [
           "Biar",
           null
          ],
          [
           "Bigastro",
           null
          ],
          [
           "Bolulla",
           null
          ],
          [
           "Busot",
           null
          ],
          [
           "Calp",
           null
          ],
          [
           "Callosa d'en Sarrià",
           null
          ],
          [
           "Callosa de Segura",
           null
          ],
          [
           "Campello, el",
           null
          ],
          [
           "Camp de Mirra, el/Campo de Mirra",
           null
          ],
          [
           "Cañada",
           null
          ],
          [
           "Castalla",
           null
          ],
          [
           "Castell de Castells",
           null
          ],
          [
           "Catral",
           null
          ],
          [
           "Cocentaina",
           null
          ],
          [
           "Confrides",
           null
          ],
          [
           "Cox",
           null
          ],
          [
           "Crevillent",
           null
          ],
          [
           "Quatretondeta",
           null
          ],
          [
           "Daya Nueva",
           null
          ],
          [
           "Daya Vieja",
           null
          ],
          [
           "Dénia",
           null
          ],
          [
           "Dolores",
           null
          ],
          [
           "Elx/Elche",
           null
          ],
          [
           "Elda",
           null
          ],
          [
           "Fageca",
           null
          ],
          [
           "Famorca",
           null
          ],
          [
           "Finestrat",
           null
          ],
          [
           "Formentera del Segura",
           null
          ],
          [
           "Gata de Gorgos",
           null
          ],
          [
           "Gaianes",
           null
          ],
          [
           "Gorga",
           null
          ],
          [
           "Granja de Rocamora",
           null
          ],
          [
           "Castell de Guadalest, el",
           null
          ],
          [
           "Guardamar del Segura",
           null
          ],
          [
           "Fondó de les Neus, el/Hondón de las Nieves",
           null
          ],
          [
           "Hondón de los Frailes",
           null
          ],
          [
           "Ibi",
           null
          ],
          [
           "Jacarilla",
           null
          ],
          [
           "Xaló",
           null
          ],
          [
           "Xàbia/Jávea",
           null
          ],
          [
           "Xixona/Jijona",
           null
          ],
          [
           "Orxa, l'/Lorcha",
           null
          ],
          [
           "Llíber",
           null
          ],
          [
           "Millena",
           null
          ],
          [
           "Monforte del Cid",
           null
          ],
          [
           "Monòver/Monóvar",
           null
          ],
          [
           "Mutxamel",
           null
          ],
          [
           "Murla",
           null
          ],
          [
           "Muro de Alcoy",
           null
          ],
          [
           "Novelda",
           null
          ],
          [
           "Nucia, la",
           null
          ],
          [
           "Ondara",
           null
          ],
          [
           "Onil",
           null
          ],
          [
           "Orba",
           null
          ],
          [
           "Orxeta",
           null
          ],
          [
           "Orihuela",
           null
          ],
          [
           "Parcent",
           null
          ],
          [
           "Pedreguer",
           null
          ],
          [
           "Pego",
           null
          ],
          [
           "Penàguila",
           null
          ],
          [
           "Petrer",
           null
          ],
          [
           "Pinós, el/Pinoso",
           null
          ],
          [
           "Planes",
           null
          ],
          [
           "Polop",
           null
          ],
          [
           "Rafal",
           null
          ],
          [
           "Ràfol d'Almúnia, el",
           null
          ],
          [
           "Redován",
           null
          ],
          [
           "Relleu",
           null
          ],
          [
           "Rojales",
           null
          ],
          [
           "Romana, la",
           null
          ],
          [
           "Sagra",
           null
          ],
          [
           "Salinas",
           null
          ],
          [
           "Sanet y Negrals",
           null
          ],
          [
           "San Fulgencio",
           null
          ],
          [
           "Sant Joan d'Alacant",
           null
          ],
          [
           "San Miguel de Salinas",
           null
          ],
          [
           "Santa Pola",
           null
          ],
          [
           "Sant Vicent del Raspeig/San Vicente del Raspeig",
           null
          ],
          [
           "Sax",
           null
          ],
          [
           "Sella",
           null
          ],
          [
           "Senija",
           null
          ],
          [
           "Tàrbena",
           null
          ],
          [
           "Teulada",
           null
          ],
          [
           "Tibi",
           null
          ],
          [
           "Tollos",
           null
          ],
          [
           "Tormos",
           null
          ],
          [
           "Torre de les Maçanes, la/Torremanzanas",
           null
          ],
          [
           "Torrevieja",
           null
          ],
          [
           "Vall d'Alcalà, la",
           null
          ],
          [
           "Vall d'Ebo, la",
           null
          ],
          [
           "Vall de Gallinera, la",
           null
          ],
          [
           "Vall de Laguar, la",
           null
          ],
          [
           "Verger, el",
           null
          ],
          [
           "Vila Joiosa, la/Villajoyosa",
           null
          ],
          [
           "Villena",
           null
          ],
          [
           "Poblets, els",
           null
          ],
          [
           "Pilar de la Horadada",
           null
          ],
          [
           "Montesinos, Los",
           null
          ],
          [
           "San Isidro",
           null
          ],
          [
           "Abla",
           871.1684
          ],
          [
           "Abrucena",
           976.9387
          ],
          [
           "Adra",
           10.97898
          ],
          [
           "Albanchez",
           481.3123
          ],
          [
           "Alboloduy",
           388.4346
          ],
          [
           "Albox",
           426.4268
          ],
          [
           "Alcolea",
           744.6956
          ],
          [
           "Alcóntar",
           955.1331
          ],
          [
           "Alcudia de Monteagud",
           null
          ],
          [
           "Alhabia",
           288.056
          ],
          [
           "Alhama de Almería",
           523.1963
          ],
          [
           "Alicún",
           420.4872
          ],
          [
           "Almería",
           27.00703
          ],
          [
           "Almócita",
           831.1343
          ],
          [
           "Alsodux",
           312.0394
          ],
          [
           "Antas",
           107.2613
          ],
          [
           "Arboleas",
           288.0828
          ],
          [
           "Armuña de Almanzora",
           625.5285
          ],
          [
           "Bacares",
           1202.631
          ],
          [
           "Bayárcal",
           1271.166
          ],
          [
           "Bayarque",
           816.2208
          ],
          [
           "Bédar",
           391.56
          ],
          [
           "Beires",
           919.2347
          ],
          [
           "Benahadux",
           113.9746
          ],
          [
           "Benitagla",
           945.0856
          ],
          [
           "Benizalón",
           933.7475
          ],
          [
           "Bentarique",
           319.8048
          ],
          [
           "Berja",
           340.7863
          ],
          [
           "Canjáyar",
           607.9745
          ],
          [
           "Cantoria",
           388.6553
          ],
          [
           "Carboneras",
           6.721787
          ],
          [
           "Castro de Filabres",
           943.7071
          ],
          [
           "Cóbdar",
           606.9962
          ],
          [
           "Cuevas del Almanzora",
           97.29103
          ],
          [
           "Chercos",
           789.6791
          ],
          [
           "Chirivel",
           1039.713
          ],
          [
           "Dalías",
           415.9644
          ],
          [
           "Enix",
           720.6339
          ],
          [
           "Felix",
           822.4271
          ],
          [
           "Fines",
           448.7018
          ],
          [
           "Fiñana",
           950.4163
          ],
          [
           "Fondón",
           858.4697
          ],
          [
           "Gádor",
           169.0004
          ],
          [
           "Gallardos, Los",
           113.9905
          ],
          [
           "Garrucha",
           2.56615
          ],
          [
           "Gérgal",
           750.5009
          ],
          [
           "Huécija",
           410.0447
          ],
          [
           "Huércal de Almería",
           72.52909
          ],
          [
           "Huércal-Overa",
           284.6117
          ],
          [
           "Íllar",
           428.1185
          ],
          [
           "Instinción",
           434.57
          ],
          [
           "Laroya",
           854.0873
          ],
          [
           "Láujar de Andarax",
           910.9894
          ],
          [
           "Líjar",
           593.4965
          ],
          [
           "Lubrín",
           521.5203
          ],
          [
           "Lucainena de las Torres",
           533.8752
          ],
          [
           "Lúcar",
           901.753
          ],
          [
           "Macael",
           538.7327
          ],
          [
           "María",
           1196.435
          ],
          [
           "Mojácar",
           165.0597
          ],
          [
           "Nacimiento",
           596.8992
          ],
          [
           "Níjar",
           353.1248
          ],
          [
           "Ohanes",
           953.4253
          ],
          [
           "Olula de Castro",
           1054.839
          ],
          [
           "Olula del Río",
           486.5961
          ],
          [
           "Oria",
           1038.982
          ],
          [
           "Padules",
           745.1029
          ],
          [
           "Partaloa",
           548.585
          ],
          [
           "Paterna del Río",
           1201.81
          ],
          [
           "Pechina",
           107.5108
          ],
          [
           "Pulpí",
           194.9947
          ],
          [
           "Purchena",
           540.9984
          ],
          [
           "Rágol",
           404.8323
          ],
          [
           "Rioja",
           133.2092
          ],
          [
           "Roquetas de Mar",
           11.84886
          ],
          [
           "Santa Cruz de Marchena",
           328.9739
          ],
          [
           "Santa Fe de Mondújar",
           210.5975
          ],
          [
           "Senés",
           1007.387
          ],
          [
           "Serón",
           800.137
          ],
          [
           "Sierro",
           721.0729
          ],
          [
           "Somontín",
           816.8105
          ],
          [
           "Sorbas",
           391.5779
          ],
          [
           "Suflí",
           636.8499
          ],
          [
           "Tabernas",
           405.9641
          ],
          [
           "Taberno",
           702.8022
          ],
          [
           "Tahal",
           1008.582
          ],
          [
           "Terque",
           282.4351
          ],
          [
           "Tíjola",
           685.379
          ],
          [
           "Turre",
           49.41454
          ],
          [
           "Turrillas",
           840.3381
          ],
          [
           "Uleila del Campo",
           629.6137
          ],
          [
           "Urrácal",
           744.7553
          ],
          [
           "Velefique",
           937.5716
          ],
          [
           "Vélez-Blanco",
           1072.432
          ],
          [
           "Vélez-Rubio",
           842.2859
          ],
          [
           "Vera",
           102.0657
          ],
          [
           "Viator",
           74.79173
          ],
          [
           "Vícar",
           276.2602
          ],
          [
           "Zurgena",
           248.1582
          ],
          [
           "Tres Villas, Las",
           693.0934
          ],
          [
           "Ejido, El",
           80
          ],
          [
           "Mojonera, La",
           41.25403
          ],
          [
           "Balanegra",
           null
          ],
          [
           "Adanero",
           905.2096
          ],
          [
           "Adrada, La",
           622.7286
          ],
          [
           "Albornos",
           909.7402
          ],
          [
           "Aldeanueva de Santa Cruz",
           1166.277
          ],
          [
           "Aldeaseca",
           861.7283
          ],
          [
           "Aldehuela, La",
           959.1974
          ],
          [
           "Amavida",
           1175.522
          ],
          [
           "Arenal, El",
           890.2292
          ],
          [
           "Arenas de San Pedro",
           514.0571
          ],
          [
           "Arevalillo",
           1137.772
          ],
          [
           "Arévalo",
           826.179
          ],
          [
           "Aveinte",
           1000.345
          ],
          [
           "Avellaneda",
           1351.883
          ],
          [
           "Ávila",
           1129.841
          ],
          [
           "Barco de Ávila, El",
           null
          ],
          [
           "Barraco, El",
           1007.118
          ],
          [
           "Barromán",
           795.3719
          ],
          [
           "Becedas",
           1100.157
          ],
          [
           "Becedillas",
           1055.372
          ],
          [
           "Bercial de Zapardiel",
           806.9874
          ],
          [
           "Berlanas, Las",
           947.4949
          ],
          [
           "Bernuy-Zapardiel",
           865.666
          ],
          [
           "Berrocalejo de Aragona",
           1093.834
          ],
          [
           "Blascomillán",
           949.7968
          ],
          [
           "Blasconuño de Matacabras",
           786.0962
          ],
          [
           "Blascosancho",
           904.3203
          ],
          [
           "Bohodón, El",
           884
          ],
          [
           "Bohoyo",
           1152.302
          ],
          [
           "Bonilla de la Sierra",
           1078.679
          ],
          [
           "Brabos",
           981.4635
          ],
          [
           "Bularros",
           1169.908
          ],
          [
           "Burgohondo",
           841.5716
          ],
          [
           "Cabezas de Alambre",
           889.5198
          ],
          [
           "Cabezas del Pozo",
           844.806
          ],
          [
           "Cabezas del Villar",
           1047.323
          ],
          [
           "Cabizuela",
           880.9836
          ],
          [
           "Canales",
           856.6454
          ],
          [
           "Candeleda",
           432.1873
          ],
          [
           "Cantiveros",
           878.133
          ],
          [
           "Cardeñosa",
           1106.686
          ],
          [
           "Carrera, La",
           1055.56
          ],
          [
           "Casas del Puerto",
           1181.79
          ],
          [
           "Casasola",
           1316.782
          ],
          [
           "Casavieja",
           560.0256
          ],
          [
           "Casillas",
           1033.86
          ],
          [
           "Castellanos de Zapardiel",
           784.2825
          ],
          [
           "Cebreros",
           762.6259
          ],
          [
           "Cepeda la Mora",
           1496.214
          ],
          [
           "Cillán",
           1213.872
          ],
          [
           "Cisla",
           849.4051
          ],
          [
           "Colilla, La",
           1137.412
          ],
          [
           "Collado de Contreras",
           916.2794
          ],
          [
           "Collado del Mirón",
           1166.182
          ],
          [
           "Constanzana",
           890.7895
          ],
          [
           "Crespos",
           924.7823
          ],
          [
           "Cuevas del Valle",
           850.9416
          ],
          [
           "Chamartín",
           1200.419
          ],
          [
           "Donjimeno",
           885.1403
          ],
          [
           "Donvidas",
           863.8016
          ],
          [
           "Espinosa de los Caballeros",
           859.3159
          ],
          [
           "Flores de Ávila",
           894.5298
          ],
          [
           "Fontiveros",
           883.9694
          ],
          [
           "Fresnedilla",
           622.42
          ],
          [
           "Fresno, El",
           1077.998
          ],
          [
           "Fuente el Saúz",
           872.8679
          ],
          [
           "Fuentes de Año",
           825.9651
          ],
          [
           "Gallegos de Altamiros",
           1243.297
          ],
          [
           "Gallegos de Sobrinos",
           1165.116
          ],
          [
           "Garganta del Villar",
           null
          ],
          [
           "Gavilanes",
           666.3435
          ],
          [
           "Gemuño",
           1103.707
          ],
          [
           "Gilbuena",
           1046.664
          ],
          [
           "Gil García",
           1149.134
          ],
          [
           "Gimialcón",
           949.9352
          ],
          [
           "Gotarrendura",
           931.7262
          ],
          [
           "Grandes y San Martín",
           1004.375
          ],
          [
           "Guisando",
           760.2384
          ],
          [
           "Gutierre-Muñoz",
           885.0555
          ],
          [
           "Hernansancho",
           907.3092
          ],
          [
           "Herradón de Pinares",
           1339.181
          ],
          [
           "Herreros de Suso",
           1014.149
          ],
          [
           "Higuera de las Dueñas",
           636.0223
          ],
          [
           "Hija de Dios, La",
           1190.105
          ],
          [
           "Horcajada, La",
           1013.886
          ],
          [
           "Horcajo de las Torres",
           817.9778
          ],
          [
           "Hornillo, El",
           750.8702
          ],
          [
           "Hoyocasero",
           1340.283
          ],
          [
           "Hoyo de Pinares, El",
           850.6945
          ],
          [
           "Hoyorredondo",
           1041.056
          ],
          [
           "Hoyos del Collado",
           1496.277
          ],
          [
           "Hoyos del Espino",
           1476.058
          ],
          [
           "Hoyos de Miguel Muñoz",
           1537.814
          ],
          [
           "Hurtumpascual",
           1170.533
          ],
          [
           "Junciana",
           996.5219
          ],
          [
           "Langa",
           867.0062
          ],
          [
           "Lanzahíta",
           452.3451
          ],
          [
           "Losar del Barco, El",
           1018.091
          ],
          [
           "Losar del Barco, El",
           1011.311
          ],
          [
           "Llanos de Tormes, Los",
           1051.062
          ],
          [
           "Madrigal de las Altas Torres",
           811.4847
          ],
          [
           "Maello",
           1031.561
          ],
          [
           "Malpartida de Corneja",
           1023.512
          ],
          [
           "Mamblas",
           820.2225
          ],
          [
           "Mancera de Arriba",
           938.9207
          ],
          [
           "Manjabálago y Ortigosa de Rioalmar",
           null
          ],
          [
           "Marlín",
           1214.861
          ],
          [
           "Martiherrero",
           1228.818
          ],
          [
           "Martínez",
           1100.179
          ],
          [
           "Mediana de Voltoya",
           1112.355
          ],
          [
           "Medinilla",
           1066.206
          ],
          [
           "Mengamuñoz",
           1348.081
          ],
          [
           "Mesegar de Corneja",
           1022.489
          ],
          [
           "Mijares",
           864.0565
          ],
          [
           "Mingorría",
           1034.813
          ],
          [
           "Mirón, El",
           1261.807
          ],
          [
           "Mironcillo",
           1119.956
          ],
          [
           "Mirueña de los Infanzones",
           1132.032
          ],
          [
           "Mombeltrán",
           638.0334
          ],
          [
           "Monsalupe",
           1001.826
          ],
          [
           "Moraleja de Matacabras",
           784.5509
          ],
          [
           "Muñana",
           1166.34
          ],
          [
           "Muñico",
           1088.301
          ],
          [
           "Muñogalindo",
           1126.354
          ],
          [
           "Muñogrande",
           945.0131
          ],
          [
           "Muñomer del Peco",
           897.2045
          ],
          [
           "Muñopepe",
           1136.208
          ],
          [
           "Muñosancho",
           904.1495
          ],
          [
           "Muñotello",
           1153.327
          ],
          [
           "Narrillos del Álamo",
           1119.065
          ],
          [
           "Narrillos del Rebollar",
           1393.928
          ],
          [
           "Narros del Castillo",
           955.416
          ],
          [
           "Narros del Puerto",
           1150.127
          ],
          [
           "Narros de Saldueña",
           899.7995
          ],
          [
           "Navacepedilla de Corneja",
           1254.679
          ],
          [
           "Nava de Arévalo",
           null
          ],
          [
           "Nava del Barco",
           null
          ],
          [
           "Navadijos",
           1522.013
          ],
          [
           "Navaescurial",
           1204.329
          ],
          [
           "Navahondilla",
           722.1689
          ],
          [
           "Navalacruz",
           1242.845
          ],
          [
           "Navalmoral",
           1059.723
          ],
          [
           "Navalonguilla",
           1166.513
          ],
          [
           "Navalosa",
           1302.457
          ],
          [
           "Navalperal de Pinares",
           null
          ],
          [
           "Navalperal de Tormes",
           null
          ],
          [
           "Navaluenga",
           761.1091
          ],
          [
           "Navaquesera",
           1510.378
          ],
          [
           "Navarredonda de Gredos",
           null
          ],
          [
           "Navarredondilla",
           1133.272
          ],
          [
           "Navarrevisca",
           1125.35
          ],
          [
           "Navas del Marqués, Las",
           1301.798
          ],
          [
           "Navatalgordo",
           1277.847
          ],
          [
           "Navatejares",
           1045.835
          ],
          [
           "Neila de San Miguel",
           1163.344
          ],
          [
           "Niharra",
           1092.125
          ],
          [
           "Ojos-Albos",
           1228.249
          ],
          [
           "Orbita",
           868.4173
          ],
          [
           "Oso, El",
           896.0026
          ],
          [
           "Padiernos",
           1106
          ],
          [
           "Pajares de Adaja",
           881.6708
          ],
          [
           "Palacios de Goda",
           820.0026
          ],
          [
           "Papatrigo",
           889
          ],
          [
           "Parral, El",
           1049.357
          ],
          [
           "Pascualcobo",
           1065.825
          ],
          [
           "Pedro Bernardo",
           802.8278
          ],
          [
           "Pedro-Rodríguez",
           877.0702
          ],
          [
           "Peguerinos",
           1361.598
          ],
          [
           "Peñalba de Ávila",
           1073.66
          ],
          [
           "Piedrahíta",
           1064.406
          ],
          [
           "Piedralaves",
           712.4528
          ],
          [
           "Poveda",
           1201.02
          ],
          [
           "Poyales del Hoyo",
           554.1748
          ],
          [
           "Pozanco",
           909.6544
          ],
          [
           "Pradosegar",
           1171.21
          ],
          [
           "Puerto Castilla",
           1169.832
          ],
          [
           "Rasueros",
           831.9698
          ],
          [
           "Riocabado",
           909.7188
          ],
          [
           "Riofrío",
           1186.845
          ],
          [
           "Rivilla de Barajas",
           899.2758
          ],
          [
           "Salobral",
           1087.409
          ],
          [
           "Salvadiós",
           951.5007
          ],
          [
           "San Bartolomé de Béjar",
           1120.649
          ],
          [
           "San Bartolomé de Corneja",
           993.1846
          ],
          [
           "San Bartolomé de Pinares",
           1047.196
          ],
          [
           "Sanchidrián",
           924.6989
          ],
          [
           "Sanchorreja",
           1312.153
          ],
          [
           "San Esteban de los Patos",
           1118.933
          ],
          [
           "San Esteban del Valle",
           795.9105
          ],
          [
           "San Esteban de Zapardiel",
           780.4639
          ],
          [
           "San García de Ingelmos",
           1067
          ],
          [
           "San Juan de la Encinilla",
           913.4266
          ],
          [
           "San Juan de la Nava",
           1126.167
          ],
          [
           "San Juan del Molinillo",
           1141.855
          ],
          [
           "San Juan del Olmo",
           1287.153
          ],
          [
           "San Lorenzo de Tormes",
           1028.796
          ],
          [
           "San Martín de la Vega del Alberche",
           1510.816
          ],
          [
           "San Martín del Pimpollar",
           1336.265
          ],
          [
           "San Miguel de Corneja",
           1063.416
          ],
          [
           "San Miguel de Serrezuela",
           1094.398
          ],
          [
           "San Pascual",
           883.3102
          ],
          [
           "San Pedro del Arroyo",
           938.8323
          ],
          [
           "Santa Cruz del Valle",
           733.2361
          ],
          [
           "Santa Cruz de Pinares",
           1004.647
          ],
          [
           "Santa María del Arroyo",
           1130.864
          ],
          [
           "Santa María del Berrocal",
           1051.094
          ],
          [
           "Santa María de los Caballeros",
           1041.178
          ],
          [
           "Santa María del Tiétar",
           695.9569
          ],
          [
           "Santiago del Collado",
           1221.392
          ],
          [
           "Santo Domingo de las Posadas",
           928.1381
          ],
          [
           "Santo Tomé de Zabarcos",
           958.0378
          ],
          [
           "San Vicente de Arévalo",
           877.5375
          ],
          [
           "Serrada, La",
           1108.781
          ],
          [
           "Serranillos",
           1222.104
          ],
          [
           "Sigeres",
           962.441
          ],
          [
           "Sinlabajos",
           826.5585
          ],
          [
           "Solana de Ávila",
           null
          ],
          [
           "Solana de Rioalmar",
           null
          ],
          [
           "Solosancho",
           1120.799
          ],
          [
           "Sotalbo",
           1159.905
          ],
          [
           "Sotillo de la Adrada",
           null
          ],
          [
           "Tiemblo, El",
           699.9511
          ],
          [
           "Tiñosillos",
           872.8295
          ],
          [
           "Tolbaños",
           1112.758
          ],
          [
           "Tormellas",
           1063.159
          ],
          [
           "Tornadizos de Ávila",
           1197.256
          ],
          [
           "Tórtoles",
           1242.698
          ],
          [
           "Torre, La",
           1131.327
          ],
          [
           "Umbrías",
           1102.692
          ],
          [
           "Vadillo de la Sierra",
           1347.321
          ],
          [
           "Valdecasa",
           1367.423
          ],
          [
           "Vega de Santa María",
           946.2527
          ],
          [
           "Velayos",
           937.4861
          ],
          [
           "Villaflor",
           981.3378
          ],
          [
           "Villafranca de la Sierra",
           1105.417
          ],
          [
           "Villanueva de Gómez",
           888.3561
          ],
          [
           "Villanueva del Aceral",
           846.7498
          ],
          [
           "Villanueva del Campillo",
           1446.368
          ],
          [
           "Villar de Corneja",
           998.0105
          ],
          [
           "Villarejo del Valle",
           830.5555
          ],
          [
           "Villatoro",
           1195.601
          ],
          [
           "Viñegra de Moraña",
           907.2875
          ],
          [
           "Vita",
           991.2439
          ],
          [
           "Zapardiel de la Cañada",
           1143.392
          ],
          [
           "Zapardiel de la Ribera",
           1356.206
          ],
          [
           "San Juan de Gredos",
           1530.967
          ],
          [
           "Santa María del Cubillo",
           1212.193
          ],
          [
           "Diego del Carpio",
           1018.423
          ],
          [
           "Santiago del Tormes",
           1539.357
          ],
          [
           "Villanueva de Ávila",
           1060.641
          ],
          [
           "Acedera",
           308.0381
          ],
          [
           "Aceuchal",
           307
          ],
          [
           "Ahillones",
           579.7605
          ],
          [
           "Alange",
           322.5832
          ],
          [
           "Albuera, La",
           249.9245
          ],
          [
           "Alburquerque",
           442.164
          ],
          [
           "Alconchel",
           284.3204
          ],
          [
           "Alconera",
           518.1642
          ],
          [
           "Aljucén",
           249.3199
          ],
          [
           "Almendral",
           329.3619
          ],
          [
           "Almendralejo",
           336.7314
          ],
          [
           "Arroyo de San Serván",
           null
          ],
          [
           "Atalaya",
           503.989
          ],
          [
           "Azuaga",
           588.9749
          ],
          [
           "Badajoz",
           192.0375
          ],
          [
           "Barcarrota",
           488.5576
          ],
          [
           "Baterno",
           561.4879
          ],
          [
           "Benquerencia de la Serena",
           668.4374
          ],
          [
           "Berlanga",
           567.5744
          ],
          [
           "Bienvenida",
           610.3852
          ],
          [
           "Bodonal de la Sierra",
           611.0769
          ],
          [
           "Burguillos del Cerro",
           404.4514
          ],
          [
           "Cabeza del Buey",
           536.211
          ],
          [
           "Cabeza la Vaca",
           759.3353
          ],
          [
           "Calamonte",
           225.6309
          ],
          [
           "Calera de León",
           698.5616
          ],
          [
           "Calzadilla de los Barros",
           560.012
          ],
          [
           "Campanario",
           399.8418
          ],
          [
           "Campillo de Llerena",
           null
          ],
          [
           "Capilla",
           494.1088
          ],
          [
           "Carmonita",
           380.518
          ],
          [
           "Carrascalejo, El",
           298.9797
          ],
          [
           "Casas de Don Pedro",
           386.5399
          ],
          [
           "Casas de Reina",
           633.2156
          ],
          [
           "Castilblanco",
           503.2614
          ],
          [
           "Castuera",
           507.8511
          ],
          [
           "Codosera, La",
           317.7365
          ],
          [
           "Cordobilla de Lácara",
           304.6748
          ],
          [
           "Coronada, La",
           361.9379
          ],
          [
           "Corte de Peleas",
           242.0632
          ],
          [
           "Cristina",
           292.6012
          ],
          [
           "Cheles",
           196.9729
          ],
          [
           "Don Álvaro",
           261.4249
          ],
          [
           "Don Benito",
           286.0323
          ],
          [
           "Entrín Bajo",
           243.4635
          ],
          [
           "Esparragalejo",
           221.896
          ],
          [
           "Esparragosa de la Serena",
           454.5637
          ],
          [
           "Esparragosa de Lares",
           471.0262
          ],
          [
           "Feria",
           558.8891
          ],
          [
           "Fregenal de la Sierra",
           563.0306
          ],
          [
           "Fuenlabrada de los Montes",
           544.9579
          ],
          [
           "Fuente de Cantos",
           583.8423
          ],
          [
           "Fuente del Arco",
           698.8098
          ],
          [
           "Fuente del Maestre",
           445.575
          ],
          [
           "Fuentes de León",
           759.8053
          ],
          [
           "Garbayuela",
           487.4009
          ],
          [
           "Garlitos",
           538.7179
          ],
          [
           "Garrovilla, La",
           207.8057
          ],
          [
           "Granja de Torrehermosa",
           null
          ],
          [
           "Guareña",
           285.5005
          ],
          [
           "Haba, La",
           311.9093
          ],
          [
           "Helechosa de los Montes",
           441.6037
          ],
          [
           "Herrera del Duque",
           null
          ],
          [
           "Higuera de la Serena",
           476.8962
          ],
          [
           "Higuera de Llerena",
           517.9836
          ],
          [
           "Higuera de Vargas",
           361.537
          ],
          [
           "Higuera la Real",
           623.5339
          ],
          [
           "Hinojosa del Valle",
           null
          ],
          [
           "Hornachos",
           484.8826
          ],
          [
           "Jerez de los Caballeros",
           486.1686
          ],
          [
           "Lapa, La",
           467.7335
          ],
          [
           "Lobón",
           242.9643
          ],
          [
           "Llera",
           488.1218
          ],
          [
           "Llerena",
           644.6722
          ],
          [
           "Magacela",
           473.8124
          ],
          [
           "Maguilla",
           527.6955
          ],
          [
           "Malcocinado",
           625.1129
          ],
          [
           "Malpartida de la Serena",
           483.3142
          ],
          [
           "Manchita",
           335.4408
          ],
          [
           "Medellín",
           250.0114
          ],
          [
           "Medina de las Torres",
           526.7921
          ],
          [
           "Mengabril",
           253
          ],
          [
           "Mérida",
           227.433
          ],
          [
           "Mirandilla",
           294.3425
          ],
          [
           "Monesterio",
           754.8566
          ],
          [
           "Montemolín",
           617.7222
          ],
          [
           "Monterrubio de la Serena",
           null
          ],
          [
           "Montijo",
           203.0528
          ],
          [
           "Morera, La",
           426.6002
          ],
          [
           "Nava de Santiago, La",
           null
          ],
          [
           "Navalvillar de Pela",
           349.6248
          ],
          [
           "Nogales",
           372.3395
          ],
          [
           "Oliva de la Frontera",
           null
          ],
          [
           "Oliva de Mérida",
           null
          ],
          [
           "Olivenza",
           258.1104
          ],
          [
           "Orellana de la Sierra",
           398.1514
          ],
          [
           "Orellana la Vieja",
           359.3995
          ],
          [
           "Palomas",
           322.4935
          ],
          [
           "Parra, La",
           521.9587
          ],
          [
           "Peñalsordo",
           431.0298
          ],
          [
           "Peraleda del Zaucejo",
           542.9088
          ],
          [
           "Puebla de Alcocer",
           534.4778
          ],
          [
           "Puebla de la Calzada",
           191.7965
          ],
          [
           "Puebla de la Reina",
           375.599
          ],
          [
           "Puebla del Maestre",
           554.0134
          ],
          [
           "Puebla del Prior",
           381.7524
          ],
          [
           "Puebla de Obando",
           380.0834
          ],
          [
           "Puebla de Sancho Pérez",
           522.9659
          ],
          [
           "Quintana de la Serena",
           409.9685
          ],
          [
           "Reina",
           717.8853
          ],
          [
           "Rena",
           261.9456
          ],
          [
           "Retamal de Llerena",
           464.8723
          ],
          [
           "Ribera del Fresno",
           398.8069
          ],
          [
           "Risco",
           493.8158
          ],
          [
           "Roca de la Sierra, La",
           248.0425
          ],
          [
           "Salvaleón",
           529.4485
          ],
          [
           "Salvatierra de los Barros",
           625.0818
          ],
          [
           "Sancti-Spíritus",
           486.562
          ],
          [
           "San Pedro de Mérida",
           281.0936
          ],
          [
           "Santa Amalia",
           255.474
          ],
          [
           "Santa Marta",
           345.2148
          ],
          [
           "Santos de Maimona, Los",
           null
          ],
          [
           "San Vicente de Alcántara",
           502.4301
          ],
          [
           "Segura de León",
           681.7979
          ],
          [
           "Siruela",
           512.6407
          ],
          [
           "Solana de los Barros",
           null
          ],
          [
           "Talarrubias",
           439.8815
          ],
          [
           "Talavera la Real",
           187.5183
          ],
          [
           "Táliga",
           304.307
          ],
          [
           "Tamurejo",
           546.1544
          ],
          [
           "Torre de Miguel Sesmero",
           null
          ],
          [
           "Torremayor",
           195.9215
          ],
          [
           "Torremejía",
           291.6581
          ],
          [
           "Trasierra",
           700.4008
          ],
          [
           "Trujillanos",
           257.3852
          ],
          [
           "Usagre",
           561.4595
          ],
          [
           "Valdecaballeros",
           383.3043
          ],
          [
           "Valdetorres",
           244.8665
          ],
          [
           "Valencia de las Torres",
           514.027
          ],
          [
           "Valencia del Mombuey",
           295.6457
          ],
          [
           "Valencia del Ventoso",
           496.0627
          ],
          [
           "Valverde de Burguillos",
           412.0819
          ],
          [
           "Valverde de Leganés",
           291.0059
          ],
          [
           "Valverde de Llerena",
           575.8016
          ],
          [
           "Valverde de Mérida",
           271.6688
          ],
          [
           "Valle de la Serena",
           null
          ],
          [
           "Valle de Matamoros",
           null
          ],
          [
           "Valle de Santa Ana",
           null
          ],
          [
           "Villafranca de los Barros",
           424.6475
          ],
          [
           "Villagarcía de la Torre",
           592.4898
          ],
          [
           "Villagonzalo",
           238.0459
          ],
          [
           "Villalba de los Barros",
           310.169
          ],
          [
           "Villanueva de la Serena",
           298.9061
          ],
          [
           "Villanueva del Fresno",
           255.68
          ],
          [
           "Villar del Rey",
           247.6167
          ],
          [
           "Villar de Rena",
           268.562
          ],
          [
           "Villarta de los Montes",
           546.1343
          ],
          [
           "Zafra",
           517.2546
          ],
          [
           "Zahínos",
           345.8639
          ],
          [
           "Zalamea de la Serena",
           482.5517
          ],
          [
           "Zarza-Capilla",
           533.903
          ],
          [
           "Zarza, La",
           285.378
          ],
          [
           "Valdelacalzada",
           184.8226
          ],
          [
           "Pueblonuevo del Guadiana",
           181.9205
          ],
          [
           "Guadiana",
           null
          ],
          [
           "Alaró",
           224.2227
          ],
          [
           "Alaior",
           114
          ],
          [
           "Alcúdia",
           15.67431
          ],
          [
           "Algaida",
           193.2809
          ],
          [
           "Andratx",
           60.20264
          ],
          [
           "Artà",
           130.6105
          ],
          [
           "Banyalbufar",
           109.7573
          ],
          [
           "Binissalem",
           129.6953
          ],
          [
           "Búger",
           93.89581
          ],
          [
           "Bunyola",
           216.3141
          ],
          [
           "Calvià",
           114.0867
          ],
          [
           "Campanet",
           127.2656
          ],
          [
           "Campos",
           22.76925
          ],
          [
           "Capdepera",
           117.9911
          ],
          [
           "Ciutadella de Menorca",
           26.66946
          ],
          [
           "Consell",
           148.8572
          ],
          [
           "Costitx",
           135.5031
          ],
          [
           "Deià",
           null
          ],
          [
           "Escorca",
           690.5303
          ],
          [
           "Esporles",
           187.8363
          ],
          [
           "Estellencs",
           151.0275
          ],
          [
           "Felanitx",
           116.2949
          ],
          [
           "Ferreries",
           74.94495
          ],
          [
           "Formentera",
           21.56246
          ],
          [
           "Fornalutx",
           148.4023
          ],
          [
           "Eivissa",
           9.813921
          ],
          [
           "Inca",
           116.5367
          ],
          [
           "Lloret de Vistalegre",
           159.5069
          ],
          [
           "Lloseta",
           166.5043
          ],
          [
           "Llubí",
           69.92153
          ],
          [
           "Llucmajor",
           138.0817
          ],
          [
           "Maó",
           39.57444
          ],
          [
           "Manacor",
           75.37592
          ],
          [
           "Mancor de la Vall",
           205.7321
          ],
          [
           "Maria de la Salut",
           86.95065
          ],
          [
           "Marratxí",
           125.666
          ],
          [
           "Mercadal, Es",
           58.13219
          ],
          [
           "Montuïri",
           152.9209
          ],
          [
           "Muro",
           62.19497
          ],
          [
           "Palma",
           31.92724
          ],
          [
           "Petra",
           112.8493
          ],
          [
           "Pollença",
           49.42315
          ],
          [
           "Porreres",
           130.0504
          ],
          [
           "Pobla, Sa",
           24.64385
          ],
          [
           "Puigpunyent",
           221.9999
          ],
          [
           "Sant Antoni de Portmany",
           4.347667
          ],
          [
           "Sencelles",
           117.951
          ],
          [
           "Sant Josep de sa Talaia",
           201.3573
          ],
          [
           "Sant Joan",
           138.863
          ],
          [
           "Sant Joan de Labritja",
           189.9139
          ],
          [
           "Sant Llorenç des Cardassar",
           73.45789
          ],
          [
           "Sant Lluís",
           59.16509
          ],
          [
           "Santa Eugènia",
           130.224
          ],
          [
           "Santa Eulària des Riu",
           null
          ],
          [
           "Santa Margalida",
           80.91718
          ],
          [
           "Santa María del Camí",
           128.8374
          ],
          [
           "Santanyí",
           62.64299
          ],
          [
           "Selva",
           193.6428
          ],
          [
           "Salines, Ses",
           42.5712
          ],
          [
           "Sineu",
           141.6883
          ],
          [
           "Sóller",
           42.06099
          ],
          [
           "Son Servera",
           73.98268
          ],
          [
           "Valldemossa",
           415.1554
          ],
          [
           "Castell, Es",
           19.78382
          ],
          [
           "Vilafranca de Bonany",
           98.93115
          ],
          [
           "Ariany",
           122.6419
          ],
          [
           "Migjorn Gran, Es",
           114.6791
          ],
          [
           "Abrera",
           109.4215
          ],
          [
           "Aguilar de Segarra",
           485.7191
          ],
          [
           "Alella",
           98.87153
          ],
          [
           "Alpens",
           871.324
          ],
          [
           "Ametlla del Vallès, L'",
           292.0488
          ],
          [
           "Arenys de Mar",
           13.99495
          ],
          [
           "Arenys de Munt",
           135.549
          ],
          [
           "Argençola",
           713.9279
          ],
          [
           "Argentona",
           92.69514
          ],
          [
           "Artés",
           318.0594
          ],
          [
           "Avià",
           666.2902
          ],
          [
           "Avinyó",
           358.056
          ],
          [
           "Avinyonet del Penedès",
           283.9233
          ],
          [
           "Aiguafreda",
           410.6152
          ],
          [
           "Badalona",
           16.7426
          ],
          [
           "Bagà",
           756.5488
          ],
          [
           "Balenyà",
           593.3597
          ],
          [
           "Balsareny",
           332.1174
          ],
          [
           "Barcelona",
           19.99069
          ],
          [
           "Begues",
           371.5191
          ],
          [
           "Bellprat",
           644.4128
          ],
          [
           "Berga",
           717.4442
          ],
          [
           "Bigues i Riells del Fai",
           null
          ],
          [
           "Borredà",
           854.1898
          ],
          [
           "Bruc, El",
           486.0568
          ],
          [
           "Brull, El",
           844.6136
          ],
          [
           "Cabanyes, Les",
           255.9891
          ],
          [
           "Cabrera d'Anoia",
           null
          ],
          [
           "Cabrera de Mar",
           null
          ],
          [
           "Cabrils",
           143.7525
          ],
          [
           "Calaf",
           682.8802
          ],
          [
           "Caldes d'Estrac",
           26.84373
          ],
          [
           "Caldes de Montbui",
           207.0234
          ],
          [
           "Calders",
           553.9763
          ],
          [
           "Calella",
           11.84439
          ],
          [
           "Calonge de Segarra",
           600.3174
          ],
          [
           "Calldetenes",
           492.9868
          ],
          [
           "Callús",
           259.3951
          ],
          [
           "Campins",
           326.2226
          ],
          [
           "Canet de Mar",
           20.65502
          ],
          [
           "Canovelles",
           152.383
          ],
          [
           "Cànoves i Samalús",
           353.0184
          ],
          [
           "Canyelles",
           141.6833
          ],
          [
           "Capellades",
           371.6293
          ],
          [
           "Capolat",
           1256.905
          ],
          [
           "Cardedeu",
           195.9439
          ],
          [
           "Cardona",
           513.4745
          ],
          [
           "Carme",
           333.2925
          ],
          [
           "Casserres",
           589.9404
          ],
          [
           "Castellar del Riu",
           null
          ],
          [
           "Castellar del Vallès",
           null
          ],
          [
           "Castellar de n'Hug",
           null
          ],
          [
           "Castellbell i el Vilar",
           204.0168
          ],
          [
           "Castellbisbal",
           155.6016
          ],
          [
           "Castellcir",
           777.0593
          ],
          [
           "Castelldefels",
           11.07469
          ],
          [
           "Castell de l'Areny",
           null
          ],
          [
           "Castellet i la Gornal",
           136.4205
          ],
          [
           "Castellfollit del Boix",
           698.686
          ],
          [
           "Castellfollit de Riubregós",
           490.0403
          ],
          [
           "Castellgalí",
           253.3427
          ],
          [
           "Castellnou de Bages",
           495.1176
          ],
          [
           "Castellolí",
           398.4724
          ],
          [
           "Castellterçol",
           726.6985
          ],
          [
           "Castellví de la Marca",
           245.9974
          ],
          [
           "Castellví de Rosanes",
           180.9096
          ],
          [
           "Centelles",
           520.1739
          ],
          [
           "Cervelló",
           124.1015
          ],
          [
           "Collbató",
           356.3489
          ],
          [
           "Collsuspina",
           903.0676
          ],
          [
           "Copons",
           427.6519
          ],
          [
           "Corbera de Llobregat",
           247.6125
          ],
          [
           "Cornellà de Llobregat",
           34.61025
          ],
          [
           "Cubelles",
           17.76687
          ],
          [
           "Dosrius",
           145.7481
          ],
          [
           "Esparreguera",
           186.3232
          ],
          [
           "Esplugues de Llobregat",
           102.3782
          ],
          [
           "Espunyola, L'",
           800.0547
          ],
          [
           "Estany, L'",
           871.5331
          ],
          [
           "Fígols",
           1165.989
          ],
          [
           "Fogars de Montclús",
           387.6345
          ],
          [
           "Fogars de la Selva",
           103.0012
          ],
          [
           "Folgueroles",
           549.4312
          ],
          [
           "Fonollosa",
           543.1286
          ],
          [
           "Font-rubí",
           570.7221
          ],
          [
           "Franqueses del Vallès, Les",
           193.2448
          ],
          [
           "Gallifa",
           499.525
          ],
          [
           "Garriga, La",
           254.3281
          ],
          [
           "Gavà",
           17.60962
          ],
          [
           "Gaià",
           476.878
          ],
          [
           "Gelida",
           179.6132
          ],
          [
           "Gironella",
           448.126
          ],
          [
           "Gisclareny",
           1322.767
          ],
          [
           "Granada, La",
           262.5426
          ],
          [
           "Granera",
           770.4465
          ],
          [
           "Granollers",
           153.9423
          ],
          [
           "Gualba",
           179.8176
          ],
          [
           "Sant Salvador de Guardiola",
           328.5852
          ],
          [
           "Guardiola de Berguedà",
           736.9873
          ],
          [
           "Gurb",
           510.7029
          ],
          [
           "Hospitalet de Llobregat, L'",
           15.67791
          ],
          [
           "Igualada",
           324.2647
          ],
          [
           "Jorba",
           392.2477
          ],
          [
           "Llacuna, La",
           2.997324
          ],
          [
           "Llagosta, La",
           54.71911
          ],
          [
           "Llinars del Vallès",
           188.906
          ],
          [
           "Lliçà d'Amunt",
           130.7585
          ],
          [
           "Lliçà de Vall",
           116.4834
          ],
          [
           "Lluçà",
           751.5039
          ],
          [
           "Malgrat de Mar",
           9.097663
          ],
          [
           "Malla",
           575.686
          ],
          [
           "Manlleu",
           453.0776
          ],
          [
           "Manresa",
           236.034
          ],
          [
           "Martorell",
           66.23137
          ],
          [
           "Martorelles",
           115.5095
          ],
          [
           "Masies de Roda, Les",
           null
          ],
          [
           "Masies de Voltregà, Les",
           536.5225
          ],
          [
           "Masnou, El",
           10.36085
          ],
          [
           "Masquefa",
           258.067
          ],
          [
           "Matadepera",
           421.1513
          ],
          [
           "Mataró",
           20.37009
          ],
          [
           "Mediona",
           526.9124
          ],
          [
           "Molins de Rei",
           33.16643
          ],
          [
           "Mollet del Vallès",
           74.09034
          ],
          [
           "Montcada i Reixac",
           37.0056
          ],
          [
           "Montgat",
           22.97567
          ],
          [
           "Monistrol de Montserrat",
           168.2423
          ],
          [
           "Monistrol de Calders",
           452.798
          ],
          [
           "Muntanyola",
           802.8712
          ],
          [
           "Montclar",
           699.5048
          ],
          [
           "Montesquiu",
           575.4601
          ],
          [
           "Montmajor",
           757.0117
          ],
          [
           "Montmaneu",
           714.0361
          ],
          [
           "Figaró-Montmany",
           326.0451
          ],
          [
           "Montmeló",
           84.53434
          ],
          [
           "Montornès del Vallès",
           100.0693
          ],
          [
           "Montseny",
           535.3168
          ],
          [
           "Moià",
           730.1093
          ],
          [
           "Mura",
           470.6466
          ],
          [
           "Navarcles",
           255.0479
          ],
          [
           "Navàs",
           371.9668
          ],
          [
           "Nou de Berguedà, La",
           865.2148
          ],
          [
           "Òdena",
           404.7818
          ],
          [
           "Olvan",
           566.9895
          ],
          [
           "Olèrdola",
           179.9567
          ],
          [
           "Olesa de Bonesvalls",
           273.3946
          ],
          [
           "Olesa de Montserrat",
           105.909
          ],
          [
           "Olivella",
           207.4666
          ],
          [
           "Olost",
           572.0165
          ],
          [
           "Orís",
           570.6917
          ],
          [
           "Oristà",
           467.3857
          ],
          [
           "Orpí",
           482.553
          ],
          [
           "Òrrius",
           254.5491
          ],
          [
           "Pacs del Penedès",
           210.873
          ],
          [
           "Palafolls",
           10.6715
          ],
          [
           "Palau-solità i Plegamans",
           137.2143
          ],
          [
           "Pallejà",
           43.74018
          ],
          [
           "Papiol, El",
           129.2383
          ],
          [
           "Parets del Vallès",
           97.48323
          ],
          [
           "Perafita",
           753.5203
          ],
          [
           "Piera",
           282.576
          ],
          [
           "Hostalets de Pierola, Els",
           369.2267
          ],
          [
           "Pineda de Mar",
           12.10963
          ],
          [
           "Pla del Penedès, El",
           227.2813
          ],
          [
           "Pobla de Claramunt, La",
           null
          ],
          [
           "Pobla de Lillet, La",
           null
          ],
          [
           "Polinyà",
           129.1282
          ],
          [
           "Pontons",
           588.9841
          ],
          [
           "Prat de Llobregat, El",
           10.36917
          ],
          [
           "Prats de Rei, Els",
           614.0353
          ],
          [
           "Prats de Lluçanès",
           709.0973
          ],
          [
           "Premià de Mar",
           13.17984
          ],
          [
           "Puigdàlber",
           239.9502
          ],
          [
           "Puig-reig",
           444.6947
          ],
          [
           "Pujalt",
           749.2104
          ],
          [
           "Quar, La",
           850.0149
          ],
          [
           "Rajadell",
           343.1941
          ],
          [
           "Rellinars",
           344.744
          ],
          [
           "Ripollet",
           81.84142
          ],
          [
           "Roca del Vallès, La",
           131.0679
          ],
          [
           "Pont de Vilomara i Rocafort, El",
           203.9381
          ],
          [
           "Roda de Ter",
           null
          ],
          [
           "Rubí",
           133.4794
          ],
          [
           "Rubió",
           600.4712
          ],
          [
           "Sabadell",
           198.7852
          ],
          [
           "Sagàs",
           712.4318
          ],
          [
           "Sant Pere Sallavinera",
           587.7723
          ],
          [
           "Saldes",
           1233.967
          ],
          [
           "Sallent",
           279.7943
          ],
          [
           "Santpedor",
           324.6286
          ],
          [
           "Sant Iscle de Vallalta",
           127
          ],
          [
           "Sant Adrià de Besòs",
           18.77083
          ],
          [
           "Sant Agustí de Lluçanès",
           831.834
          ],
          [
           "Sant Andreu de la Barca",
           48.89596
          ],
          [
           "Sant Andreu de Llavaneres",
           112.0381
          ],
          [
           "Sant Antoni de Vilamajor",
           260.0836
          ],
          [
           "Sant Bartomeu del Grau",
           877.1983
          ],
          [
           "Sant Boi de Llobregat",
           22.73825
          ],
          [
           "Sant Boi de Lluçanès",
           807
          ],
          [
           "Sant Celoni",
           157.3233
          ],
          [
           "Sant Cebrià de Vallalta",
           77.32714
          ],
          [
           "Sant Climent de Llobregat",
           80.42606
          ],
          [
           "Sant Cugat del Vallès",
           130.2749
          ],
          [
           "Sant Cugat Sesgarrigues",
           269.0334
          ],
          [
           "Sant Esteve de Palautordera",
           237.4874
          ],
          [
           "Sant Esteve Sesrovires",
           178.7557
          ],
          [
           "Sant Fost de Campsentelles",
           112.3262
          ],
          [
           "Sant Feliu de Codines",
           486.7332
          ],
          [
           "Sant Feliu de Llobregat",
           31.72373
          ],
          [
           "Sant Feliu Sasserra",
           617.3484
          ],
          [
           "Sant Fruitós de Bages",
           261.4637
          ],
          [
           "Vilassar de Dalt",
           133.6058
          ],
          [
           "Sant Hipòlit de Voltregà",
           531.1494
          ],
          [
           "Sant Jaume de Frontanyà",
           1074.112
          ],
          [
           "Sant Joan Despí",
           20.53358
          ],
          [
           "Sant Joan de Vilatorrada",
           228.8402
          ],
          [
           "Vilassar de Mar",
           10.80674
          ],
          [
           "Sant Julià de Vilatorta",
           599.2924
          ],
          [
           "Sant Just Desvern",
           122.1042
          ],
          [
           "Sant Llorenç d'Hortons",
           216.0685
          ],
          [
           "Sant Llorenç Savall",
           487.5616
          ],
          [
           "Sant Martí de Centelles",
           724.98
          ],
          [
           "Sant Martí d'Albars",
           628.8278
          ],
          [
           "Sant Martí de Tous",
           444.6292
          ],
          [
           "Sant Martí Sarroca",
           296.2319
          ],
          [
           "Sant Martí Sesgueioles",
           646.0749
          ],
          [
           "Sant Mateu de Bages",
           572.9196
          ],
          [
           "Premià de Dalt",
           133.3237
          ],
          [
           "Sant Pere de Ribes",
           45.06723
          ],
          [
           "Sant Pere de Riudebitlles",
           252.1739
          ],
          [
           "Sant Pere de Torelló",
           621.7791
          ],
          [
           "Sant Pere de Vilamajor",
           298.7486
          ],
          [
           "Sant Pol de Mar",
           13.29345
          ],
          [
           "Sant Quintí de Mediona",
           333.5246
          ],
          [
           "Sant Quirze de Besora",
           572.5922
          ],
          [
           "Sant Quirze del Vallès",
           165.9138
          ],
          [
           "Sant Quirze Safaja",
           603.6134
          ],
          [
           "Sant Sadurní d'Anoia",
           168.4416
          ],
          [
           "Sant Sadurní d'Osormort",
           533.9646
          ],
          [
           "Marganell",
           313.6546
          ],
          [
           "Santa Cecília de Voltregà",
           522.2773
          ],
          [
           "Santa Coloma de Cervelló",
           76.92886
          ],
          [
           "Santa Coloma de Gramenet",
           37.66038
          ],
          [
           "Santa Eugènia de Berga",
           536.6241
          ],
          [
           "Santa Eulàlia de Riuprimer",
           575.5924
          ],
          [
           "Santa Eulàlia de Ronçana",
           221.9401
          ],
          [
           "Santa Fe del Penedès",
           239.9169
          ],
          [
           "Santa Margarida de Montbui",
           388.9097
          ],
          [
           "Santa Margarida i els Monjos",
           171.3222
          ],
          [
           "Barberà del Vallès",
           142.2961
          ],
          [
           "Santa Maria de Besora",
           871.7925
          ],
          [
           "Esquirol, L'",
           null
          ],
          [
           "Santa Maria de Merlès",
           518.8036
          ],
          [
           "Santa Maria de Martorelles",
           178.528
          ],
          [
           "Santa Maria de Miralles",
           553.0007
          ],
          [
           "Santa Maria d'Oló",
           515.0869
          ],
          [
           "Santa Maria de Palautordera",
           211.9186
          ],
          [
           "Santa Perpètua de Mogoda",
           81.15939
          ],
          [
           "Santa Susanna",
           50.67278
          ],
          [
           "Sant Vicenç de Castellet",
           175.3337
          ],
          [
           "Sant Vicenç dels Horts",
           32.74398
          ],
          [
           "Sant Vicenç de Montalt",
           177.863
          ],
          [
           "Sant Vicenç de Torelló",
           558.8644
          ],
          [
           "Cerdanyola del Vallès",
           87.2362
          ],
          [
           "Sentmenat",
           229.8691
          ],
          [
           "Cercs",
           749.4134
          ],
          [
           "Seva",
           672.0496
          ],
          [
           "Sitges",
           9.967733
          ],
          [
           "Sobremunt",
           881.4683
          ],
          [
           "Sora",
           695.3496
          ],
          [
           "Subirats",
           274.2937
          ],
          [
           "Súria",
           284.714
          ],
          [
           "Tavèrnoles",
           529.109
          ],
          [
           "Tagamanent",
           348.8652
          ],
          [
           "Talamanca",
           553.4589
          ],
          [
           "Taradell",
           633.068
          ],
          [
           "Terrassa",
           285.6018
          ],
          [
           "Tavertet",
           868.5259
          ],
          [
           "Teià",
           117.6808
          ],
          [
           "Tiana",
           124.7599
          ],
          [
           "Tona",
           602.5104
          ],
          [
           "Tordera",
           31.37682
          ],
          [
           "Torelló",
           507.7611
          ],
          [
           "Torre de Claramunt, La",
           null
          ],
          [
           "Torrelavit",
           201.7227
          ],
          [
           "Torrelles de Foix",
           380.5124
          ],
          [
           "Torrelles de Llobregat",
           154.783
          ],
          [
           "Ullastrell",
           314.4088
          ],
          [
           "Vacarisses",
           406.7665
          ],
          [
           "Vallbona d'Anoia",
           297.2954
          ],
          [
           "Vallcebre",
           1127.919
          ],
          [
           "Vallgorguina",
           223.2106
          ],
          [
           "Vallirana",
           184.8448
          ],
          [
           "Vallromanes",
           155.1461
          ],
          [
           "Veciana",
           556.9959
          ],
          [
           "Vic",
           505.4679
          ],
          [
           "Vilada",
           724.7032
          ],
          [
           "Viladecavalls",
           265.7476
          ],
          [
           "Viladecans",
           19.77518
          ],
          [
           "Vilanova del Camí",
           313.7972
          ],
          [
           "Vilanova de Sau",
           557.92
          ],
          [
           "Vilobí del Penedès",
           284.1465
          ],
          [
           "Vilafranca del Penedès",
           230.5926
          ],
          [
           "Vilalba Sasserra",
           221.1936
          ],
          [
           "Vilanova i la Geltrú",
           25.03975
          ],
          [
           "Viver i Serrateix",
           724.3826
          ],
          [
           "Rupit i Pruit",
           843.8084
          ],
          [
           "Vilanova del Vallès",
           92.16563
          ],
          [
           "Sant Julià de Cerdanyola",
           967.7538
          ],
          [
           "Badia del Vallès",
           122.4438
          ],
          [
           "Palma de Cervelló, La",
           110.9084
          ],
          [
           "Abajas",
           837.949
          ],
          [
           "Adrada de Haza",
           null
          ],
          [
           "Aguas Cándidas",
           712.041
          ],
          [
           "Aguilar de Bureba",
           689.226
          ],
          [
           "Albillos",
           832.9681
          ],
          [
           "Alcocero de Mola",
           799.6028
          ],
          [
           "Alfoz de Bricia",
           847.3563
          ],
          [
           "Alfoz de Santa Gadea",
           882.3184
          ],
          [
           "Altable",
           711.29
          ],
          [
           "Altos, Los",
           1026.667
          ],
          [
           "Ameyugo",
           553.5253
          ],
          [
           "Anguix",
           814.4943
          ],
          [
           "Aranda de Duero",
           805.1658
          ],
          [
           "Arandilla",
           885.0873
          ],
          [
           "Arauzo de Miel",
           1003.22
          ],
          [
           "Arauzo de Salce",
           944.5539
          ],
          [
           "Arauzo de Torre",
           922.907
          ],
          [
           "Arcos",
           851.1382
          ],
          [
           "Arenillas de Riopisuerga",
           788.459
          ],
          [
           "Arija",
           844.3306
          ],
          [
           "Arlanzón",
           995.9109
          ],
          [
           "Arraya de Oca",
           926.2366
          ],
          [
           "Atapuerca",
           953.9974
          ],
          [
           "Ausines, Los",
           914.6774
          ],
          [
           "Avellanosa de Muñó",
           870.7616
          ],
          [
           "Bahabón de Esgueva",
           916.0064
          ],
          [
           "Balbases, Los",
           811.7905
          ],
          [
           "Baños de Valdearados",
           870.1116
          ],
          [
           "Bañuelos de Bureba",
           784.2388
          ],
          [
           "Barbadillo de Herreros",
           1408.983
          ],
          [
           "Barbadillo del Mercado",
           955.1722
          ],
          [
           "Barbadillo del Pez",
           1053.858
          ],
          [
           "Barrio de Muñó",
           782.927
          ],
          [
           "Barrios de Bureba, Los",
           null
          ],
          [
           "Barrios de Colina",
           null
          ],
          [
           "Basconcillos del Tozo",
           910.5488
          ],
          [
           "Bascuñana",
           800.0485
          ],
          [
           "Belbimbre",
           793.7833
          ],
          [
           "Belorado",
           773.8459
          ],
          [
           "Berberana",
           620.4984
          ],
          [
           "Berlangas de Roa",
           781.4107
          ],
          [
           "Berzosa de Bureba",
           679.3917
          ],
          [
           "Bozoó",
           572.3182
          ],
          [
           "Brazacorta",
           909.0886
          ],
          [
           "Briviesca",
           725
          ],
          [
           "Bugedo",
           533.7709
          ],
          [
           "Buniel",
           819.815
          ],
          [
           "Burgos",
           865.8016
          ],
          [
           "Busto de Bureba",
           null
          ],
          [
           "Cabañes de Esgueva",
           885.2454
          ],
          [
           "Cabezón de la Sierra",
           1016.805
          ],
          [
           "Cavia",
           815.5443
          ],
          [
           "Caleruega",
           955.7069
          ],
          [
           "Campillo de Aranda",
           null
          ],
          [
           "Campolara",
           971.9648
          ],
          [
           "Canicosa de la Sierra",
           1130.863
          ],
          [
           "Cantabrana",
           636.0662
          ],
          [
           "Carazo",
           1127.545
          ],
          [
           "Carcedo de Bureba",
           751.9003
          ],
          [
           "Carcedo de Burgos",
           989.6016
          ],
          [
           "Cardeñadijo",
           899.719
          ],
          [
           "Cardeñajimeno",
           924.9677
          ],
          [
           "Cardeñuela Riopico",
           926.5973
          ],
          [
           "Carrias",
           821.5297
          ],
          [
           "Cascajares de Bureba",
           802.5067
          ],
          [
           "Cascajares de la Sierra",
           927.9459
          ],
          [
           "Castellanos de Castro",
           873.9877
          ],
          [
           "Castildelgado",
           768.4348
          ],
          [
           "Castil de Peones",
           790.1807
          ],
          [
           "Castrillo de la Reina",
           978.027
          ],
          [
           "Castrillo de la Vega",
           808.438
          ],
          [
           "Castrillo del Val",
           942.9785
          ],
          [
           "Castrillo de Riopisuerga",
           816.8545
          ],
          [
           "Castrillo Mota de Judíos",
           null
          ],
          [
           "Castrojeriz",
           816.0674
          ],
          [
           "Cayuela",
           821.8987
          ],
          [
           "Cebrecos",
           950.4548
          ],
          [
           "Celada del Camino",
           796.4451
          ],
          [
           "Cerezo de Río Tirón",
           650.4071
          ],
          [
           "Cerratón de Juarros",
           959.26
          ],
          [
           "Ciadoncha",
           789.7081
          ],
          [
           "Cillaperlata",
           540.39
          ],
          [
           "Cilleruelo de Abajo",
           915.1015
          ],
          [
           "Cilleruelo de Arriba",
           966.1483
          ],
          [
           "Ciruelos de Cervera",
           1019.25
          ],
          [
           "Cogollos",
           887.1991
          ],
          [
           "Condado de Treviño",
           561.0759
          ],
          [
           "Contreras",
           1023.346
          ],
          [
           "Coruña del Conde",
           null
          ],
          [
           "Covarrubias",
           895.1803
          ],
          [
           "Cubillo del Campo",
           991.9786
          ],
          [
           "Cubo de Bureba",
           685
          ],
          [
           "Cueva de Roa, La",
           768.5865
          ],
          [
           "Cuevas de San Clemente",
           1030.792
          ],
          [
           "Encío",
           588.3317
          ],
          [
           "Espinosa de Cervera",
           1030.725
          ],
          [
           "Espinosa del Camino",
           894.847
          ],
          [
           "Espinosa de los Monteros",
           753.3468
          ],
          [
           "Estépar",
           810.9069
          ],
          [
           "Fontioso",
           959.9049
          ],
          [
           "Frandovínez",
           823.8157
          ],
          [
           "Fresneda de la Sierra Tirón",
           null
          ],
          [
           "Fresneña",
           843.5111
          ],
          [
           "Fresnillo de las Dueñas",
           803.7737
          ],
          [
           "Fresno de Río Tirón",
           null
          ],
          [
           "Fresno de Rodilla",
           null
          ],
          [
           "Frías",
           552.6826
          ],
          [
           "Fuentebureba",
           679.7742
          ],
          [
           "Fuentecén",
           823.7171
          ],
          [
           "Fuentelcésped",
           891.0616
          ],
          [
           "Fuentelisendo",
           829.7731
          ],
          [
           "Fuentemolinos",
           881.0905
          ],
          [
           "Fuentenebro",
           917.0896
          ],
          [
           "Fuentespina",
           824.6624
          ],
          [
           "Galbarros",
           942.7526
          ],
          [
           "Gallega, La",
           1113.472
          ],
          [
           "Grijalba",
           813.0934
          ],
          [
           "Grisaleña",
           743.1436
          ],
          [
           "Gumiel de Izán",
           857.4003
          ],
          [
           "Gumiel de Mercado",
           836.8545
          ],
          [
           "Hacinas",
           999.0156
          ],
          [
           "Haza",
           902.7407
          ],
          [
           "Hontanas",
           864.0971
          ],
          [
           "Hontangas",
           839.5234
          ],
          [
           "Hontoria de la Cantera",
           942.0605
          ],
          [
           "Hontoria del Pinar",
           1059.013
          ],
          [
           "Hontoria de Valdearados",
           867.0024
          ],
          [
           "Hormazas, Las",
           1009.913
          ],
          [
           "Hornillos del Camino",
           821.6969
          ],
          [
           "Horra, La",
           807.9294
          ],
          [
           "Hortigüela",
           937.3899
          ],
          [
           "Hoyales de Roa",
           795.561
          ],
          [
           "Huérmeces",
           886.0017
          ],
          [
           "Huerta de Arriba",
           1206.336
          ],
          [
           "Huerta de Rey",
           991.6105
          ],
          [
           "Humada",
           954.9947
          ],
          [
           "Hurones",
           915.0182
          ],
          [
           "Ibeas de Juarros",
           932.6844
          ],
          [
           "Ibrillos",
           739.1857
          ],
          [
           "Iglesiarrubia",
           886.8805
          ],
          [
           "Iglesias",
           850.6342
          ],
          [
           "Isar",
           835.423
          ],
          [
           "Itero del Castillo",
           775.8432
          ],
          [
           "Jaramillo de la Fuente",
           1056.931
          ],
          [
           "Jaramillo Quemado",
           975.7737
          ],
          [
           "Junta de Traslaloma",
           674.0426
          ],
          [
           "Junta de Villalba de Losa",
           665.9935
          ],
          [
           "Jurisdicción de Lara",
           991.6866
          ],
          [
           "Jurisdicción de San Zadornil",
           645.5733
          ],
          [
           "Lerma",
           861.3351
          ],
          [
           "Llano de Bureba",
           643.2963
          ],
          [
           "Madrigal del Monte",
           936.2405
          ],
          [
           "Madrigalejo del Monte",
           893.5258
          ],
          [
           "Mahamud",
           829.49
          ],
          [
           "Mambrilla de Castrejón",
           825.6786
          ],
          [
           "Mambrillas de Lara",
           991.4476
          ],
          [
           "Mamolar",
           1087.678
          ],
          [
           "Manciles",
           883.8896
          ],
          [
           "Mazuela",
           823.2963
          ],
          [
           "Mecerreyes",
           988.3194
          ],
          [
           "Medina de Pomar",
           600.9326
          ],
          [
           "Melgar de Fernamental",
           804.4712
          ],
          [
           "Merindad de Cuesta-Urria",
           914.2464
          ],
          [
           "Merindad de Montija",
           739.4695
          ],
          [
           "Merindad de Sotoscueva",
           760.6615
          ],
          [
           "Merindad de Valdeporres",
           754.3774
          ],
          [
           "Merindad de Valdivielso",
           594.3845
          ],
          [
           "Milagros",
           848.9799
          ],
          [
           "Miranda de Ebro",
           465.1602
          ],
          [
           "Miraveche",
           804.4718
          ],
          [
           "Modúbar de la Emparedada",
           887.0018
          ],
          [
           "Monasterio de la Sierra",
           1169.284
          ],
          [
           "Monasterio de Rodilla",
           877.2269
          ],
          [
           "Moncalvillo",
           1049.716
          ],
          [
           "Monterrubio de la Demanda",
           null
          ],
          [
           "Montorio",
           945.1601
          ],
          [
           "Moradillo de Roa",
           919.9839
          ],
          [
           "Nava de Roa",
           null
          ],
          [
           "Navas de Bureba",
           764.6017
          ],
          [
           "Nebreda",
           916.8637
          ],
          [
           "Neila",
           1180.486
          ],
          [
           "Olmedillo de Roa",
           840.8633
          ],
          [
           "Olmillos de Muñó",
           807.4762
          ],
          [
           "Oña",
           585.5073
          ],
          [
           "Oquillas",
           913.3432
          ],
          [
           "Orbaneja Riopico",
           911.2252
          ],
          [
           "Padilla de Abajo",
           798.9708
          ],
          [
           "Padilla de Arriba",
           830.7649
          ],
          [
           "Padrones de Bureba",
           781.8212
          ],
          [
           "Palacios de la Sierra",
           1065.092
          ],
          [
           "Palacios de Riopisuerga",
           777.4734
          ],
          [
           "Palazuelos de la Sierra",
           1107.045
          ],
          [
           "Palazuelos de Muñó",
           786.5093
          ],
          [
           "Pampliega",
           807.5865
          ],
          [
           "Pancorbo",
           631.5779
          ],
          [
           "Pardilla",
           883.9958
          ],
          [
           "Partido de la Sierra en Tobalina",
           919.4133
          ],
          [
           "Pedrosa de Duero",
           840.3677
          ],
          [
           "Pedrosa del Páramo",
           943.9882
          ],
          [
           "Pedrosa del Príncipe",
           772.689
          ],
          [
           "Pedrosa de Río Úrbel",
           844.2335
          ],
          [
           "Peñaranda de Duero",
           863.9903
          ],
          [
           "Peral de Arlanza",
           null
          ],
          [
           "Piérnigas",
           742.1521
          ],
          [
           "Pineda de la Sierra",
           1207.499
          ],
          [
           "Pineda Trasmonte",
           951.4017
          ],
          [
           "Pinilla de los Barruecos",
           1078.882
          ],
          [
           "Pinilla de los Moros",
           972.2211
          ],
          [
           "Pinilla Trasmonte",
           935.5198
          ],
          [
           "Poza de la Sal",
           756.3673
          ],
          [
           "Prádanos de Bureba",
           757.1823
          ],
          [
           "Pradoluengo",
           967.4692
          ],
          [
           "Presencio",
           812.668
          ],
          [
           "Puebla de Arganzón, La",
           481.9095
          ],
          [
           "Puentedura",
           863.5676
          ],
          [
           "Quemada",
           845.9969
          ],
          [
           "Quintanabureba",
           685.0708
          ],
          [
           "Quintana del Pidio",
           845.543
          ],
          [
           "Quintanaélez",
           706.2351
          ],
          [
           "Quintanaortuño",
           866.8036
          ],
          [
           "Quintanapalla",
           926.6073
          ],
          [
           "Quintanar de la Sierra",
           1123.957
          ],
          [
           "Quintanavides",
           821.1276
          ],
          [
           "Quintanilla de la Mata",
           879.5328
          ],
          [
           "Quintanilla del Coco",
           944.5446
          ],
          [
           "Quintanillas, Las",
           845.5656
          ],
          [
           "Quintanilla San García",
           728.1328
          ],
          [
           "Quintanilla Vivar",
           847.6979
          ],
          [
           "Rabanera del Pinar",
           1089.831
          ],
          [
           "Rábanos",
           1169.908
          ],
          [
           "Rabé de las Calzadas",
           828.6588
          ],
          [
           "Rebolledo de la Torre",
           946.585
          ],
          [
           "Redecilla del Camino",
           742.664
          ],
          [
           "Redecilla del Campo",
           744.6154
          ],
          [
           "Regumiel de la Sierra",
           1119.525
          ],
          [
           "Reinoso",
           857.253
          ],
          [
           "Retuerta",
           898.2924
          ],
          [
           "Revilla y Ahedo, La",
           1016.2
          ],
          [
           "Revilla del Campo",
           943.8928
          ],
          [
           "Revillarruz",
           887.4633
          ],
          [
           "Revilla Vallejera",
           790.5965
          ],
          [
           "Rezmondo",
           829.0405
          ],
          [
           "Riocavado de la Sierra",
           1138.1
          ],
          [
           "Roa",
           816.1801
          ],
          [
           "Rojas",
           722.4857
          ],
          [
           "Royuela de Río Franco",
           836.2991
          ],
          [
           "Rubena",
           907.232
          ],
          [
           "Rublacedo de Abajo",
           791.6646
          ],
          [
           "Rucandio",
           814.6119
          ],
          [
           "Salas de Bureba",
           636.4282
          ],
          [
           "Salas de los Infantes",
           955.1323
          ],
          [
           "Saldaña de Burgos",
           865.5466
          ],
          [
           "Salinillas de Bureba",
           864.7104
          ],
          [
           "San Adrián de Juarros",
           1046.845
          ],
          [
           "San Juan del Monte",
           840.6755
          ],
          [
           "San Mamés de Burgos",
           839.3281
          ],
          [
           "San Martín de Rubiales",
           807.8439
          ],
          [
           "San Millán de Lara",
           1091.387
          ],
          [
           "Santa Cecilia",
           838.1049
          ],
          [
           "Santa Cruz de la Salceda",
           877.335
          ],
          [
           "Santa Cruz del Valle Urbión",
           null
          ],
          [
           "Santa Gadea del Cid",
           504.1093
          ],
          [
           "Santa Inés",
           855.8006
          ],
          [
           "Santa María del Campo",
           820.0243
          ],
          [
           "Santa María del Invierno",
           856.8571
          ],
          [
           "Santa María del Mercadillo",
           961.0493
          ],
          [
           "Santa María Ribarredonda",
           null
          ],
          [
           "Santa Olalla de Bureba",
           842.1753
          ],
          [
           "Santibáñez de Esgueva",
           916.1117
          ],
          [
           "Santibáñez del Val",
           940.0613
          ],
          [
           "Santo Domingo de Silos",
           1003.193
          ],
          [
           "San Vicente del Valle",
           959.6901
          ],
          [
           "Sargentes de la Lora",
           1016.58
          ],
          [
           "Sarracín",
           861.6798
          ],
          [
           "Sasamón",
           822.8265
          ],
          [
           "Sequera de Haza, La",
           865.857
          ],
          [
           "Solarana",
           903.6647
          ],
          [
           "Sordillos",
           820.5914
          ],
          [
           "Sotillo de la Ribera",
           null
          ],
          [
           "Sotragero",
           848.6204
          ],
          [
           "Sotresgudo",
           867.8129
          ],
          [
           "Susinos del Páramo",
           891.6351
          ],
          [
           "Tamarón",
           819.7283
          ],
          [
           "Tardajos",
           820.7985
          ],
          [
           "Tejada",
           1088.137
          ],
          [
           "Terradillos de Esgueva",
           871.492
          ],
          [
           "Tinieblas de la Sierra",
           1117.56
          ],
          [
           "Tobar",
           881.2235
          ],
          [
           "Tordómar",
           810.6567
          ],
          [
           "Torrecilla del Monte",
           940.4993
          ],
          [
           "Torregalindo",
           837.1947
          ],
          [
           "Torrelara",
           994.3602
          ],
          [
           "Torrepadre",
           804.0082
          ],
          [
           "Torresandino",
           855.1797
          ],
          [
           "Tórtoles de Esgueva",
           847.5756
          ],
          [
           "Tosantos",
           821.4364
          ],
          [
           "Trespaderne",
           553.7908
          ],
          [
           "Tubilla del Agua",
           765.2631
          ],
          [
           "Tubilla del Lago",
           890.4365
          ],
          [
           "Úrbel del Castillo",
           939.2537
          ],
          [
           "Vadocondes",
           811.2837
          ],
          [
           "Valdeande",
           953.6688
          ],
          [
           "Valdezate",
           819.2969
          ],
          [
           "Valdorros",
           902.2606
          ],
          [
           "Valmala",
           992.0233
          ],
          [
           "Vallarta de Bureba",
           716.6888
          ],
          [
           "Valle de Manzanedo",
           null
          ],
          [
           "Valle de Mena",
           null
          ],
          [
           "Valle de Oca",
           null
          ],
          [
           "Valle de Tobalina",
           null
          ],
          [
           "Valle de Valdebezana",
           null
          ],
          [
           "Valle de Valdelaguna",
           null
          ],
          [
           "Valle de Valdelucio",
           null
          ],
          [
           "Valle de Zamanzas",
           null
          ],
          [
           "Vallejera",
           809.662
          ],
          [
           "Valles de Palenzuela",
           800.1052
          ],
          [
           "Valluércanes",
           702.7288
          ],
          [
           "Vid y Barrios, La",
           631.6701
          ],
          [
           "Vid y Barrios, La",
           964.8784
          ],
          [
           "Vid y Barrios, La",
           821.0573
          ],
          [
           "Vid de Bureba, La",
           695.98
          ],
          [
           "Vileña",
           664.5483
          ],
          [
           "Viloria de Rioja",
           797.8878
          ],
          [
           "Vilviestre del Pinar",
           1125.399
          ],
          [
           "Villadiego",
           839.8806
          ],
          [
           "Villaescusa de Roa",
           897.6312
          ],
          [
           "Villaescusa la Sombría",
           905.8726
          ],
          [
           "Villaespasa",
           960.8056
          ],
          [
           "Villafranca Montes de Oca",
           957.1002
          ],
          [
           "Villafruela",
           909.7965
          ],
          [
           "Villagalijo",
           896.4912
          ],
          [
           "Villagonzalo Pedernales",
           901.259
          ],
          [
           "Villahoz",
           825.1154
          ],
          [
           "Villalba de Duero",
           812.4379
          ],
          [
           "Villalbilla de Burgos",
           840.6373
          ],
          [
           "Villalbilla de Gumiel",
           912.6685
          ],
          [
           "Villaldemiro",
           808.5146
          ],
          [
           "Villalmanzo",
           856.2233
          ],
          [
           "Villamayor de los Montes",
           886.0144
          ],
          [
           "Villamayor de Treviño",
           820.1368
          ],
          [
           "Villambistia",
           853.298
          ],
          [
           "Villamedianilla",
           799.8643
          ],
          [
           "Villamiel de la Sierra",
           1149.774
          ],
          [
           "Villangómez",
           845.0154
          ],
          [
           "Villanueva de Argaño",
           837.6054
          ],
          [
           "Villanueva de Carazo",
           1059.717
          ],
          [
           "Villanueva de Gumiel",
           844.9825
          ],
          [
           "Villanueva de Teba",
           722.023
          ],
          [
           "Villaquirán de la Puebla",
           812.8803
          ],
          [
           "Villaquirán de los Infantes",
           814.3567
          ],
          [
           "Villariezo",
           862.4636
          ],
          [
           "Villasandino",
           792.2771
          ],
          [
           "Villasur de Herreros",
           1030.04
          ],
          [
           "Villatuelda",
           858.7932
          ],
          [
           "Villaverde del Monte",
           848.5208
          ],
          [
           "Villaverde-Mogina",
           773.155
          ],
          [
           "Villayerno Morquillas",
           911.3355
          ],
          [
           "Villazopeque",
           782.1231
          ],
          [
           "Villegas",
           823
          ],
          [
           "Villoruebo",
           1121.721
          ],
          [
           "Vizcaínos",
           1025.813
          ],
          [
           "Zael",
           843.672
          ],
          [
           "Zarzosa de Río Pisuerga",
           821.7172
          ],
          [
           "Zazuar",
           839.9166
          ],
          [
           "Zuñeda",
           719.7062
          ],
          [
           "Quintanilla del Agua y Tordueles",
           886.2692
          ],
          [
           "Valle de Santibáñez",
           null
          ],
          [
           "Villarcayo de Merindad de Castilla la Vieja",
           598.8633
          ],
          [
           "Valle de las Navas",
           null
          ],
          [
           "Valle de Sedano",
           null
          ],
          [
           "Merindad de Río Ubierna",
           965.3793
          ],
          [
           "Alfoz de Quintanadueñas",
           847.4794
          ],
          [
           "Valle de Losa",
           null
          ],
          [
           "Abadía",
           452.6463
          ],
          [
           "Abertura",
           401.0113
          ],
          [
           "Acebo",
           514.3077
          ],
          [
           "Acehúche",
           338.1039
          ],
          [
           "Aceituna",
           484.0965
          ],
          [
           "Ahigal",
           389.4077
          ],
          [
           "Albalá",
           499.4348
          ],
          [
           "Alcántara",
           230.2392
          ],
          [
           "Alcollarín",
           314.6408
          ],
          [
           "Alcuéscar",
           473.301
          ],
          [
           "Aldeacentenera",
           566.658
          ],
          [
           "Aldea del Cano",
           null
          ],
          [
           "Aldea del Obispo, La",
           null
          ],
          [
           "Aldeanueva de la Vera",
           652.1578
          ],
          [
           "Aldeanueva del Camino",
           527.226
          ],
          [
           "Aldehuela de Jerte",
           null
          ],
          [
           "Alía",
           578.4503
          ],
          [
           "Aliseda",
           325.5008
          ],
          [
           "Almaraz",
           272.2951
          ],
          [
           "Almoharín",
           305.6157
          ],
          [
           "Arroyo de la Luz",
           null
          ],
          [
           "Arroyomolinos de la Vera",
           null
          ],
          [
           "Arroyomolinos",
           397.1799
          ],
          [
           "Baños de Montemayor",
           700.7947
          ],
          [
           "Barrado",
           776.6094
          ],
          [
           "Belvís de Monroy",
           391.3559
          ],
          [
           "Benquerencia",
           444.9597
          ],
          [
           "Berrocalejo",
           375.8121
          ],
          [
           "Berzocana",
           718.6393
          ],
          [
           "Bohonal de Ibor",
           349.8538
          ],
          [
           "Botija",
           424.9815
          ],
          [
           "Brozas",
           410.4544
          ],
          [
           "Cabañas del Castillo",
           760.3389
          ],
          [
           "Cabezabellosa",
           855.8938
          ],
          [
           "Cabezuela del Valle",
           514.3602
          ],
          [
           "Cabrero",
           739.8882
          ],
          [
           "Cáceres",
           434.6162
          ],
          [
           "Cachorrilla",
           316.3804
          ],
          [
           "Cadalso",
           448.0928
          ],
          [
           "Calzadilla",
           359.1857
          ],
          [
           "Caminomorisco",
           467.3217
          ],
          [
           "Campillo de Deleitosa",
           null
          ],
          [
           "Campo Lugar",
           303.4392
          ],
          [
           "Cañamero",
           609.7376
          ],
          [
           "Cañaveral",
           353.1965
          ],
          [
           "Carbajo",
           336.2229
          ],
          [
           "Carcaboso",
           275.1561
          ],
          [
           "Carrascalejo",
           591.9044
          ],
          [
           "Casar de Cáceres",
           null
          ],
          [
           "Casar de Palomero",
           null
          ],
          [
           "Casares de las Hurdes",
           688.3028
          ],
          [
           "Casas de Don Antonio",
           390.6183
          ],
          [
           "Casas de Don Gómez",
           322.1144
          ],
          [
           "Casas del Castañar",
           662.9862
          ],
          [
           "Casas del Monte",
           578.4438
          ],
          [
           "Casas de Millán",
           456.3329
          ],
          [
           "Casas de Miravete",
           442.9554
          ],
          [
           "Casatejada",
           273.4576
          ],
          [
           "Casillas de Coria",
           244.7277
          ],
          [
           "Castañar de Ibor",
           663.5353
          ],
          [
           "Ceclavín",
           329.5323
          ],
          [
           "Cedillo",
           265.7721
          ],
          [
           "Cerezo",
           394.5923
          ],
          [
           "Cilleros",
           448.878
          ],
          [
           "Collado de la Vera",
           null
          ],
          [
           "Conquista de la Sierra",
           441.5334
          ],
          [
           "Coria",
           239.4233
          ],
          [
           "Cuacos de Yuste",
           527.3668
          ],
          [
           "Cumbre, La",
           480.9445
          ],
          [
           "Deleitosa",
           566.3511
          ],
          [
           "Descargamaría",
           509.1357
          ],
          [
           "Eljas",
           578.0947
          ],
          [
           "Escurial",
           322.175
          ],
          [
           "Fresnedoso de Ibor",
           null
          ],
          [
           "Galisteo",
           281.1528
          ],
          [
           "Garciaz",
           663.9293
          ],
          [
           "Garganta, La",
           1132.181
          ],
          [
           "Garganta, La",
           587.8572
          ],
          [
           "Garganta la Olla",
           null
          ],
          [
           "Gargantilla",
           641.0802
          ],
          [
           "Gargüera",
           526.4066
          ],
          [
           "Garrovillas de Alconétar",
           326.4898
          ],
          [
           "Garvín",
           501.7299
          ],
          [
           "Gata",
           665.3049
          ],
          [
           "Gordo, El",
           321.6666
          ],
          [
           "Granja, La",
           416.166
          ],
          [
           "Guadalupe",
           616.1213
          ],
          [
           "Guijo de Coria",
           null
          ],
          [
           "Guijo de Galisteo",
           null
          ],
          [
           "Guijo de Granadilla",
           null
          ],
          [
           "Guijo de Santa Bárbara",
           null
          ],
          [
           "Herguijuela",
           464.2786
          ],
          [
           "Hernán-Pérez",
           440.8669
          ],
          [
           "Herrera de Alcántara",
           null
          ],
          [
           "Herreruela",
           324.7979
          ],
          [
           "Hervás",
           664.4932
          ],
          [
           "Higuera de Albalat",
           null
          ],
          [
           "Hinojal",
           348.0721
          ],
          [
           "Holguera",
           280.2364
          ],
          [
           "Hoyos",
           525.2888
          ],
          [
           "Huélaga",
           283.5962
          ],
          [
           "Ibahernando",
           536.6814
          ],
          [
           "Jaraicejo",
           504.3943
          ],
          [
           "Jaraíz de la Vera",
           568.9706
          ],
          [
           "Jarandilla de la Vera",
           604.6482
          ],
          [
           "Jarilla",
           480.6181
          ],
          [
           "Jerte",
           593.6707
          ],
          [
           "Ladrillar",
           709.2778
          ],
          [
           "Logrosán",
           482.4496
          ],
          [
           "Losar de la Vera",
           533.0191
          ],
          [
           "Madrigal de la Vera",
           407.2852
          ],
          [
           "Madrigalejo",
           294.8462
          ],
          [
           "Madroñera",
           591.7178
          ],
          [
           "Majadas",
           260.0658
          ],
          [
           "Malpartida de Cáceres",
           374.2109
          ],
          [
           "Malpartida de Plasencia",
           442.2609
          ],
          [
           "Marchagaz",
           516.7504
          ],
          [
           "Mata de Alcántara",
           null
          ],
          [
           "Membrío",
           327.1987
          ],
          [
           "Mesas de Ibor",
           null
          ],
          [
           "Miajadas",
           299.2762
          ],
          [
           "Millanes",
           361.245
          ],
          [
           "Mirabel",
           504.2706
          ],
          [
           "Mohedas de Granadilla",
           448.7007
          ],
          [
           "Monroy",
           378.6369
          ],
          [
           "Montánchez",
           696.2783
          ],
          [
           "Montehermoso",
           397.063
          ],
          [
           "Moraleja",
           261.4155
          ],
          [
           "Morcillo",
           272.8168
          ],
          [
           "Navaconcejo",
           477.2957
          ],
          [
           "Navalmoral de la Mata",
           315.4144
          ],
          [
           "Navalvillar de Ibor",
           667.4202
          ],
          [
           "Navas del Madroño",
           434.7237
          ],
          [
           "Navezuelas",
           941.8161
          ],
          [
           "Nuñomoral",
           496.7727
          ],
          [
           "Oliva de Plasencia",
           null
          ],
          [
           "Palomero",
           453.1881
          ],
          [
           "Pasarón de la Vera",
           600.1179
          ],
          [
           "Pedroso de Acim",
           null
          ],
          [
           "Peraleda de la Mata",
           334.5811
          ],
          [
           "Peraleda de San Román",
           472.4771
          ],
          [
           "Perales del Puerto",
           434.3814
          ],
          [
           "Pescueza",
           333.9729
          ],
          [
           "Pesga, La",
           436.7784
          ],
          [
           "Piedras Albas",
           362.7316
          ],
          [
           "Pinofranqueado",
           457.8624
          ],
          [
           "Piornal",
           1169.494
          ],
          [
           "Plasencia",
           366.9232
          ],
          [
           "Plasenzuela",
           426.8089
          ],
          [
           "Portaje",
           377.8726
          ],
          [
           "Portezuelo",
           361.0681
          ],
          [
           "Pozuelo de Zarzón",
           null
          ],
          [
           "Puerto de Santa Cruz",
           450.3737
          ],
          [
           "Rebollar",
           610.1049
          ],
          [
           "Riolobos",
           267.9027
          ],
          [
           "Robledillo de Gata",
           607.127
          ],
          [
           "Robledillo de la Vera",
           453.7922
          ],
          [
           "Robledillo de Trujillo",
           500.2191
          ],
          [
           "Robledollano",
           708.3437
          ],
          [
           "Romangordo",
           419.6048
          ],
          [
           "Ruanes",
           482.6433
          ],
          [
           "Salorino",
           328.6313
          ],
          [
           "Salvatierra de Santiago",
           438.1557
          ],
          [
           "San Martín de Trevejo",
           617.9815
          ],
          [
           "Santa Ana",
           488.676
          ],
          [
           "Santa Cruz de la Sierra",
           453.5517
          ],
          [
           "Santa Cruz de Paniagua",
           478.2463
          ],
          [
           "Santa Marta de Magasca",
           376.2589
          ],
          [
           "Santiago de Alcántara",
           346.0968
          ],
          [
           "Santiago del Campo",
           344.4483
          ],
          [
           "Santibáñez el Alto",
           645.5109
          ],
          [
           "Santibáñez el Bajo",
           374.1523
          ],
          [
           "Saucedilla",
           261.0471
          ],
          [
           "Segura de Toro",
           636.4227
          ],
          [
           "Serradilla",
           408.8365
          ],
          [
           "Serrejón",
           338.5384
          ],
          [
           "Sierra de Fuentes",
           439.375
          ],
          [
           "Talaván",
           402.4283
          ],
          [
           "Talaveruela de la Vera",
           574.3057
          ],
          [
           "Talayuela",
           287.0548
          ],
          [
           "Tejeda de Tiétar",
           446.3588
          ],
          [
           "Toril",
           258.9532
          ],
          [
           "Tornavacas",
           863.4183
          ],
          [
           "Torno, El",
           771.9241
          ],
          [
           "Torrecilla de los Ángeles",
           466.4605
          ],
          [
           "Torrecillas de la Tiesa",
           501.9348
          ],
          [
           "Torre de Don Miguel",
           null
          ],
          [
           "Torre de Santa María",
           null
          ],
          [
           "Torrejoncillo",
           323.6587
          ],
          [
           "Torrejón el Rubio",
           304.923
          ],
          [
           "Torremenga",
           528.885
          ],
          [
           "Torremocha",
           444.2932
          ],
          [
           "Torreorgaz",
           430.9886
          ],
          [
           "Torrequemada",
           441.6732
          ],
          [
           "Trujillo",
           529.2547
          ],
          [
           "Valdastillas",
           615.739
          ],
          [
           "Valdecañas de Tajo",
           368.6411
          ],
          [
           "Valdefuentes",
           478.5953
          ],
          [
           "Valdehúncar",
           372.1376
          ],
          [
           "Valdelacasa de Tajo",
           453.4802
          ],
          [
           "Valdemorales",
           440.133
          ],
          [
           "Valdeobispo",
           334.7701
          ],
          [
           "Valencia de Alcántara",
           462.1811
          ],
          [
           "Valverde de la Vera",
           504.3288
          ],
          [
           "Valverde del Fresno",
           492.8723
          ],
          [
           "Viandar de la Vera",
           548.8549
          ],
          [
           "Villa del Campo",
           469.004
          ],
          [
           "Villa del Rey",
           338.1065
          ],
          [
           "Villamesías",
           363.7874
          ],
          [
           "Villamiel",
           745.9667
          ],
          [
           "Villanueva de la Sierra",
           500.2086
          ],
          [
           "Villanueva de la Vera",
           512.8276
          ],
          [
           "Villar del Pedroso",
           495.528
          ],
          [
           "Villar de Plasencia",
           450.0623
          ],
          [
           "Villasbuenas de Gata",
           424.338
          ],
          [
           "Zarza de Granadilla",
           null
          ],
          [
           "Zarza de Montánchez",
           null
          ],
          [
           "Zarza la Mayor",
           null
          ],
          [
           "Zorita",
           429.6986
          ],
          [
           "Rosalejo",
           278.185
          ],
          [
           "Vegaviana",
           null
          ],
          [
           "Alagón del Río",
           null
          ],
          [
           "Tiétar",
           null
          ],
          [
           "Pueblonuevo de Miramontes",
           null
          ],
          [
           "Alcalá de los Gazules",
           158.3963
          ],
          [
           "Alcalá del Valle",
           623.3366
          ],
          [
           "Algar",
           213.0833
          ],
          [
           "Algeciras",
           22.40544
          ],
          [
           "Algodonales",
           370.124
          ],
          [
           "Arcos de la Frontera",
           null
          ],
          [
           "Barbate",
           15.97273
          ],
          [
           "Barrios, Los",
           null
          ],
          [
           "Benaocaz",
           792.0704
          ],
          [
           "Bornos",
           153.5913
          ],
          [
           "Bosque, El",
           273.1861
          ],
          [
           "Cádiz",
           15.42415
          ],
          [
           "Castellar de la Frontera",
           null
          ],
          [
           "Conil de la Frontera",
           33.70992
          ],
          [
           "Chiclana de la Frontera",
           13.2455
          ],
          [
           "Chipiona",
           11.72497
          ],
          [
           "Espera",
           147.471
          ],
          [
           "Gastor, El",
           600.3022
          ],
          [
           "Grazalema",
           830.5287
          ],
          [
           "Jerez de la Frontera",
           55.74849
          ],
          [
           "Jimena de la Frontera",
           131.443
          ],
          [
           "Línea de la Concepción, La",
           10.4049
          ],
          [
           "Medina Sidonia",
           null
          ],
          [
           "Olvera",
           606.7288
          ],
          [
           "Paterna de Rivera",
           125.9705
          ],
          [
           "Prado del Rey",
           423.1529
          ],
          [
           "Puerto de Santa María, El",
           14.76373
          ],
          [
           "Puerto Real",
           11.78617
          ],
          [
           "Puerto Serrano",
           162.2749
          ],
          [
           "Rota",
           14.28653
          ],
          [
           "San Fernando",
           21.14313
          ],
          [
           "Sanlúcar de Barrameda",
           11.0011
          ],
          [
           "San Roque",
           106.1072
          ],
          [
           "Setenil de las Bodegas",
           555.0465
          ],
          [
           "Tarifa",
           14.66109
          ],
          [
           "Torre Alháquime",
           null
          ],
          [
           "Trebujena",
           72.16942
          ],
          [
           "Ubrique",
           326.7233
          ],
          [
           "Vejer de la Frontera",
           178.6806
          ],
          [
           "Villaluenga del Rosario",
           874.9724
          ],
          [
           "Villamartín",
           167.8091
          ],
          [
           "Zahara",
           507.4048
          ],
          [
           "Benalup-Casas Viejas",
           75.25459
          ],
          [
           "San José del Valle",
           142.0624
          ],
          [
           "San Martín del Tesorillo",
           null
          ],
          [
           "Atzeneta del Maestrat",
           null
          ],
          [
           "Aín",
           null
          ],
          [
           "Albocàsser",
           null
          ],
          [
           "Alcalà de Xivert",
           null
          ],
          [
           "Alcora, l'",
           null
          ],
          [
           "Alcudia de Veo",
           null
          ],
          [
           "Alfondeguilla",
           null
          ],
          [
           "Algimia de Almonacid",
           null
          ],
          [
           "Almassora",
           null
          ],
          [
           "Almedíjar",
           null
          ],
          [
           "Almenara",
           null
          ],
          [
           "Altura",
           null
          ],
          [
           "Arañuel",
           null
          ],
          [
           "Ares del Maestrat",
           null
          ],
          [
           "Argelita",
           null
          ],
          [
           "Artana",
           null
          ],
          [
           "Ayódar",
           null
          ],
          [
           "Azuébar",
           null
          ],
          [
           "Barracas",
           null
          ],
          [
           "Betxí",
           null
          ],
          [
           "Bejís",
           null
          ],
          [
           "Benafer",
           null
          ],
          [
           "Benafigos",
           null
          ],
          [
           "Benassal",
           null
          ],
          [
           "Benicarló",
           null
          ],
          [
           "Benicàssim/Benicasim",
           null
          ],
          [
           "Benlloc",
           null
          ],
          [
           "Borriol",
           null
          ],
          [
           "Borriana/Burriana",
           null
          ],
          [
           "Cabanes",
           null
          ],
          [
           "Càlig",
           null
          ],
          [
           "Canet lo Roig",
           null
          ],
          [
           "Castell de Cabres",
           null
          ],
          [
           "Castellfort",
           null
          ],
          [
           "Castellnovo",
           null
          ],
          [
           "Castelló de la Plana",
           null
          ],
          [
           "Castillo de Villamalefa",
           null
          ],
          [
           "Catí",
           null
          ],
          [
           "Caudiel",
           null
          ],
          [
           "Cervera del Maestre",
           null
          ],
          [
           "Cinctorres",
           null
          ],
          [
           "Cirat",
           null
          ],
          [
           "Cortes de Arenoso",
           null
          ],
          [
           "Costur",
           null
          ],
          [
           "Coves de Vinromà, les",
           null
          ],
          [
           "Culla",
           null
          ],
          [
           "Xert",
           null
          ],
          [
           "Chilches/Xilxes",
           null
          ],
          [
           "Xodos/Chodos",
           null
          ],
          [
           "Chóvar",
           null
          ],
          [
           "Eslida",
           null
          ],
          [
           "Espadilla",
           null
          ],
          [
           "Fanzara",
           null
          ],
          [
           "Figueroles",
           null
          ],
          [
           "Forcall",
           null
          ],
          [
           "Fuente la Reina",
           null
          ],
          [
           "Fuentes de Ayódar",
           null
          ],
          [
           "Gaibiel",
           null
          ],
          [
           "Geldo",
           null
          ],
          [
           "Herbers",
           null
          ],
          [
           "Higueras",
           null
          ],
          [
           "Jana, la",
           null
          ],
          [
           "Jérica",
           null
          ],
          [
           "Llucena/Lucena del Cid",
           null
          ],
          [
           "Ludiente",
           null
          ],
          [
           "Llosa, la",
           null
          ],
          [
           "Mata de Morella, la",
           null
          ],
          [
           "Matet",
           null
          ],
          [
           "Moncofa",
           null
          ],
          [
           "Montán",
           null
          ],
          [
           "Montanejos",
           null
          ],
          [
           "Morella",
           null
          ],
          [
           "Navajas",
           null
          ],
          [
           "Nules",
           null
          ],
          [
           "Olocau del Rey",
           null
          ],
          [
           "Onda",
           null
          ],
          [
           "Orpesa/Oropesa del Mar",
           null
          ],
          [
           "Palanques",
           null
          ],
          [
           "Pavías",
           null
          ],
          [
           "Peníscola/Peñíscola",
           null
          ],
          [
           "Pina de Montalgrao",
           null
          ],
          [
           "Portell de Morella",
           null
          ],
          [
           "Puebla de Arenoso",
           null
          ],
          [
           "Pobla de Benifassà, la",
           null
          ],
          [
           "Pobla Tornesa, la",
           null
          ],
          [
           "Ribesalbes",
           null
          ],
          [
           "Rossell",
           null
          ],
          [
           "Sacañet",
           null
          ],
          [
           "Salzadella, la",
           null
          ],
          [
           "Sant Jordi/San Jorge",
           null
          ],
          [
           "Sant Mateu",
           null
          ],
          [
           "San Rafael del Río",
           null
          ],
          [
           "Santa Magdalena de Pulpis",
           null
          ],
          [
           "Serratella, la",
           null
          ],
          [
           "Segorbe",
           null
          ],
          [
           "Sierra Engarcerán",
           null
          ],
          [
           "Soneja",
           null
          ],
          [
           "Sot de Ferrer",
           null
          ],
          [
           "Suera/Sueras",
           null
          ],
          [
           "Tales",
           null
          ],
          [
           "Teresa",
           null
          ],
          [
           "Tírig",
           null
          ],
          [
           "Todolella",
           null
          ],
          [
           "Toga",
           null
          ],
          [
           "Torás",
           null
          ],
          [
           "Toro, El",
           null
          ],
          [
           "Torralba del Pinar",
           null
          ],
          [
           "Torreblanca",
           null
          ],
          [
           "Torrechiva",
           null
          ],
          [
           "Torre d'en Besora, la",
           null
          ],
          [
           "Torre d'en Doménec, la",
           null
          ],
          [
           "Traiguera",
           null
          ],
          [
           "Useres, les/Useras",
           null
          ],
          [
           "Vallat",
           null
          ],
          [
           "Vall d'Alba",
           null
          ],
          [
           "Vall de Almonacid",
           null
          ],
          [
           "Vall d'Uixó, la",
           null
          ],
          [
           "Vallibona",
           null
          ],
          [
           "Vilafamés",
           null
          ],
          [
           "Vilafranca/Villafranca del Cid",
           null
          ],
          [
           "Villahermosa del Río",
           null
          ],
          [
           "Villamalur",
           null
          ],
          [
           "Vilanova d'Alcolea",
           null
          ],
          [
           "Villanueva de Viver",
           null
          ],
          [
           "Vilar de Canes",
           null
          ],
          [
           "Vila-real",
           null
          ],
          [
           "Vilavella, la",
           null
          ],
          [
           "Villores",
           null
          ],
          [
           "Vinaròs",
           null
          ],
          [
           "Vistabella del Maestrat",
           null
          ],
          [
           "Viver",
           null
          ],
          [
           "Zorita del Maestrazgo",
           null
          ],
          [
           "Zucaina",
           null
          ],
          [
           "Alqueries, les/Alquerías del Niño Perdido",
           null
          ],
          [
           "Sant Joan de Moró",
           null
          ],
          [
           "Abenójar",
           615.0128
          ],
          [
           "Agudo",
           570.6345
          ],
          [
           "Alamillo",
           446.2332
          ],
          [
           "Albaladejo",
           929.5974
          ],
          [
           "Alcázar de San Juan",
           645.0808
          ],
          [
           "Alcoba",
           639.0863
          ],
          [
           "Alcolea de Calatrava",
           651.9843
          ],
          [
           "Alcubillas",
           805.7009
          ],
          [
           "Aldea del Rey",
           null
          ],
          [
           "Alhambra",
           862.3749
          ],
          [
           "Almadén",
           575.5337
          ],
          [
           "Almadenejos",
           522.0008
          ],
          [
           "Almagro",
           649.1187
          ],
          [
           "Almedina",
           895.957
          ],
          [
           "Almodóvar del Campo",
           673.6144
          ],
          [
           "Almuradiel",
           808.8304
          ],
          [
           "Anchuras",
           548.6761
          ],
          [
           "Arenas de San Juan",
           627.8014
          ],
          [
           "Argamasilla de Alba",
           676.2275
          ],
          [
           "Argamasilla de Calatrava",
           677.0089
          ],
          [
           "Arroba de los Montes",
           623.9471
          ],
          [
           "Ballesteros de Calatrava",
           660.202
          ],
          [
           "Bolaños de Calatrava",
           649.2621
          ],
          [
           "Brazatortas",
           712.3827
          ],
          [
           "Cabezarados",
           687
          ],
          [
           "Cabezarrubias del Puerto",
           737.0226
          ],
          [
           "Calzada de Calatrava",
           648.8996
          ],
          [
           "Campo de Criptana",
           697.7733
          ],
          [
           "Cañada de Calatrava",
           644.0776
          ],
          [
           "Caracuel de Calatrava",
           643.8336
          ],
          [
           "Carrión de Calatrava",
           618.5354
          ],
          [
           "Carrizosa",
           822.2133
          ],
          [
           "Castellar de Santiago",
           null
          ],
          [
           "Ciudad Real",
           636.7003
          ],
          [
           "Corral de Calatrava",
           594.7799
          ],
          [
           "Cortijos, Los",
           788.311
          ],
          [
           "Cózar",
           863.0718
          ],
          [
           "Chillón",
           526.6155
          ],
          [
           "Daimiel",
           628.4135
          ],
          [
           "Fernán Caballero",
           613.9147
          ],
          [
           "Fontanarejo",
           648.4183
          ],
          [
           "Fuencaliente",
           684.3738
          ],
          [
           "Fuenllana",
           909.6342
          ],
          [
           "Fuente el Fresno",
           694.6024
          ],
          [
           "Granátula de Calatrava",
           659.4633
          ],
          [
           "Guadalmez",
           363.9143
          ],
          [
           "Herencia",
           646.795
          ],
          [
           "Hinojosas de Calatrava",
           762.2877
          ],
          [
           "Horcajo de los Montes",
           586.9252
          ],
          [
           "Labores, Las",
           650.0912
          ],
          [
           "Luciana",
           541.933
          ],
          [
           "Malagón",
           633.9963
          ],
          [
           "Manzanares",
           665.636
          ],
          [
           "Membrilla",
           667.7634
          ],
          [
           "Mestanza",
           742.0979
          ],
          [
           "Miguelturra",
           630.9375
          ],
          [
           "Montiel",
           900.929
          ],
          [
           "Moral de Calatrava",
           673.0731
          ],
          [
           "Navalpino",
           619.7184
          ],
          [
           "Navas de Estena",
           666.7495
          ],
          [
           "Pedro Muñoz",
           660.1461
          ],
          [
           "Picón",
           602.3293
          ],
          [
           "Piedrabuena",
           584.9067
          ],
          [
           "Poblete",
           625.8102
          ],
          [
           "Porzuna",
           649.3252
          ],
          [
           "Pozuelo de Calatrava",
           null
          ],
          [
           "Pozuelos de Calatrava, Los",
           581.7253
          ],
          [
           "Puebla de Don Rodrigo",
           501.1769
          ],
          [
           "Puebla del Príncipe",
           940.8134
          ],
          [
           "Puerto Lápice",
           676.8574
          ],
          [
           "Puertollano",
           710.2035
          ],
          [
           "Retuerta del Bullaque",
           733.4877
          ],
          [
           "Saceruela",
           578.8517
          ],
          [
           "San Carlos del Valle",
           757.9612
          ],
          [
           "San Lorenzo de Calatrava",
           765.8392
          ],
          [
           "Santa Cruz de los Cáñamos",
           985.9399
          ],
          [
           "Santa Cruz de Mudela",
           717.6976
          ],
          [
           "Socuéllamos",
           676.6555
          ],
          [
           "Solana, La",
           772.6749
          ],
          [
           "Solana, La",
           740.4377
          ],
          [
           "Solana del Pino",
           null
          ],
          [
           "Terrinches",
           930.9041
          ],
          [
           "Tomelloso",
           667.3932
          ],
          [
           "Torralba de Calatrava",
           621.1816
          ],
          [
           "Torre de Juan Abad",
           null
          ],
          [
           "Torrenueva",
           733.0852
          ],
          [
           "Valdemanco del Esteras",
           578.7386
          ],
          [
           "Valdepeñas",
           710.3396
          ],
          [
           "Valenzuela de Calatrava",
           658.9473
          ],
          [
           "Villahermosa",
           959.6011
          ],
          [
           "Villamanrique",
           849.2779
          ],
          [
           "Villamayor de Calatrava",
           663.199
          ],
          [
           "Villanueva de la Fuente",
           1008.476
          ],
          [
           "Villanueva de los Infantes",
           884.9601
          ],
          [
           "Villanueva de San Carlos",
           652.488
          ],
          [
           "Villar del Pozo",
           637.9165
          ],
          [
           "Villarrubia de los Ojos",
           629.3639
          ],
          [
           "Villarta de San Juan",
           626.9672
          ],
          [
           "Viso del Marqués",
           null
          ],
          [
           "Robledo, El",
           587.5879
          ],
          [
           "Ruidera",
           799.8744
          ],
          [
           "Arenales de San Gregorio",
           645.2104
          ],
          [
           "Llanos del Caudillo",
           648.3378
          ],
          [
           "Adamuz",
           245.2438
          ],
          [
           "Aguilar de la Frontera",
           374.5963
          ],
          [
           "Alcaracejos",
           611.311
          ],
          [
           "Almedinilla",
           643.6762
          ],
          [
           "Almodóvar del Río",
           119.838
          ],
          [
           "Añora",
           629.9739
          ],
          [
           "Baena",
           432.8641
          ],
          [
           "Belalcázar",
           492.9109
          ],
          [
           "Belmez",
           530.0388
          ],
          [
           "Benamejí",
           458.9315
          ],
          [
           "Blázquez, Los",
           594.3582
          ],
          [
           "Bujalance",
           345.5078
          ],
          [
           "Cabra",
           503.6198
          ],
          [
           "Cañete de las Torres",
           320.6117
          ],
          [
           "Carcabuey",
           628.2857
          ],
          [
           "Cardeña",
           747.5234
          ],
          [
           "Carlota, La",
           215.4566
          ],
          [
           "Carpio, El",
           180.5471
          ],
          [
           "Castro del Río",
           229.5285
          ],
          [
           "Conquista",
           597.3675
          ],
          [
           "Córdoba",
           131.9102
          ],
          [
           "Doña Mencía",
           598.4364
          ],
          [
           "Dos Torres",
           589.4772
          ],
          [
           "Encinas Reales",
           446.9231
          ],
          [
           "Espejo",
           391.4622
          ],
          [
           "Espiel",
           548.5708
          ],
          [
           "Fernán-Núñez",
           310.7925
          ],
          [
           "Fuente la Lancha",
           559.9954
          ],
          [
           "Fuente Obejuna",
           622.7498
          ],
          [
           "Fuente Palmera",
           160.0771
          ],
          [
           "Fuente-Tójar",
           589.3212
          ],
          [
           "Granjuela, La",
           554.3214
          ],
          [
           "Guadalcázar",
           161.6661
          ],
          [
           "Guijo, El",
           565.6235
          ],
          [
           "Hinojosa del Duque",
           null
          ],
          [
           "Hornachuelos",
           177.4551
          ],
          [
           "Iznájar",
           519.9057
          ],
          [
           "Lucena",
           494.1765
          ],
          [
           "Luque",
           662.4076
          ],
          [
           "Montalbán de Córdoba",
           277.8563
          ],
          [
           "Montemayor",
           386.187
          ],
          [
           "Montilla",
           385.7791
          ],
          [
           "Montoro",
           201.329
          ],
          [
           "Monturque",
           376.9995
          ],
          [
           "Moriles",
           379.1501
          ],
          [
           "Nueva Carteya",
           444.7657
          ],
          [
           "Obejo",
           692.8661
          ],
          [
           "Palenciana",
           396.5208
          ],
          [
           "Palma del Río",
           60.91507
          ],
          [
           "Pedro Abad",
           163.2774
          ],
          [
           "Pedroche",
           623.1253
          ],
          [
           "Peñarroya-Pueblonuevo",
           541.6902
          ],
          [
           "Posadas",
           88.41434
          ],
          [
           "Pozoblanco",
           652.3784
          ],
          [
           "Priego de Córdoba",
           657.6609
          ],
          [
           "Puente Genil",
           219.0715
          ],
          [
           "Rambla, La",
           331.6505
          ],
          [
           "Rute",
           632.5386
          ],
          [
           "San Sebastián de los Ballesteros",
           306.4553
          ],
          [
           "Santaella",
           238.2158
          ],
          [
           "Santa Eufemia",
           547.0313
          ],
          [
           "Torrecampo",
           576.4257
          ],
          [
           "Valenzuela",
           341.0233
          ],
          [
           "Valsequillo",
           578.0466
          ],
          [
           "Victoria, La",
           122.8182
          ],
          [
           "Villa del Río",
           164.0046
          ],
          [
           "Villafranca de Córdoba",
           143.0544
          ],
          [
           "Villaharta",
           578.8654
          ],
          [
           "Villanueva de Córdoba",
           728.5879
          ],
          [
           "Villanueva del Duque",
           583.8452
          ],
          [
           "Villanueva del Rey",
           556.6314
          ],
          [
           "Villaralto",
           586.7803
          ],
          [
           "Villaviciosa de Córdoba",
           699.2513
          ],
          [
           "Viso, El",
           578.6813
          ],
          [
           "Zuheros",
           652.7948
          ],
          [
           "Fuente Carreteros",
           null
          ],
          [
           "Guijarrosa, La",
           null
          ],
          [
           "Abegondo",
           99.71806
          ],
          [
           "Ames",
           216.3797
          ],
          [
           "Aranga",
           275.3901
          ],
          [
           "Ares",
           9.654655
          ],
          [
           "Arteixo",
           36.12324
          ],
          [
           "Arzúa",
           385.5346
          ],
          [
           "Baña, A",
           132.5069
          ],
          [
           "Baña, A",
           91.22826
          ],
          [
           "Bergondo",
           111.32
          ],
          [
           "Betanzos",
           30.77564
          ],
          [
           "Boimorto",
           486.9221
          ],
          [
           "Boiro",
           39.57637
          ],
          [
           "Boqueixón",
           295.4394
          ],
          [
           "Brión",
           113.9952
          ],
          [
           "Cabana de Bergantiños",
           null
          ],
          [
           "Cabanas",
           14.01326
          ],
          [
           "Camariñas",
           8.057896
          ],
          [
           "Cambre",
           59.3171
          ],
          [
           "Capela, A",
           69.87862
          ],
          [
           "Carballo",
           108.2141
          ],
          [
           "Carnota",
           39.35276
          ],
          [
           "Carral",
           143.3725
          ],
          [
           "Cedeira",
           9.32181
          ],
          [
           "Cee",
           5.529384
          ],
          [
           "Cerceda",
           340.3528
          ],
          [
           "Cerdido",
           127.0117
          ],
          [
           "Coirós",
           214.9906
          ],
          [
           "Corcubión",
           12.05067
          ],
          [
           "Coristanco",
           121.6658
          ],
          [
           "Coruña, A",
           16.76067
          ],
          [
           "Culleredo",
           60.64721
          ],
          [
           "Curtis",
           524.2576
          ],
          [
           "Dodro",
           8.638529
          ],
          [
           "Dumbría",
           196.8048
          ],
          [
           "Fene",
           31.51714
          ],
          [
           "Ferrol",
           17.92745
          ],
          [
           "Fisterra",
           26.53479
          ],
          [
           "Frades",
           330.4912
          ],
          [
           "Irixoa",
           362.8766
          ],
          [
           "Laxe",
           10.11361
          ],
          [
           "Laracha, A",
           165.5166
          ],
          [
           "Lousame",
           76.47759
          ],
          [
           "Malpica de Bergantiños",
           18.54621
          ],
          [
           "Mañón",
           122.7509
          ],
          [
           "Mazaricos",
           309.7912
          ],
          [
           "Melide",
           456.2325
          ],
          [
           "Mesía",
           396.5716
          ],
          [
           "Miño",
           35.12242
          ],
          [
           "Moeche",
           124.2339
          ],
          [
           "Monfero",
           313.0533
          ],
          [
           "Mugardos",
           26.80462
          ],
          [
           "Muxía",
           10.06232
          ],
          [
           "Muros",
           13.47934
          ],
          [
           "Narón",
           54.86041
          ],
          [
           "Neda",
           17.3906
          ],
          [
           "Negreira",
           165.9285
          ],
          [
           "Noia",
           14.17139
          ],
          [
           "Oleiros",
           121.4051
          ],
          [
           "Ordes",
           287.7448
          ],
          [
           "Oroso",
           265.2925
          ],
          [
           "Ortigueira",
           12.5302
          ],
          [
           "Outes",
           155.6038
          ],
          [
           "Paderne",
           151.441
          ],
          [
           "Padrón",
           12.52071
          ],
          [
           "Pino, O",
           325.1911
          ],
          [
           "Pobra do Caramiñal, A",
           10.39054
          ],
          [
           "Ponteceso",
           9.338658
          ],
          [
           "Pontedeume",
           52.01764
          ],
          [
           "Pontes de García Rodríguez, As",
           346.5103
          ],
          [
           "Porto do Son",
           13.61645
          ],
          [
           "Rianxo",
           12.18667
          ],
          [
           "Ribeira",
           9.570827
          ],
          [
           "Rois",
           91.43814
          ],
          [
           "Sada",
           8.367744
          ],
          [
           "San Sadurniño",
           235.7317
          ],
          [
           "Santa Comba",
           357.9261
          ],
          [
           "Santiago de Compostela",
           250.5518
          ],
          [
           "Santiso",
           395.2911
          ],
          [
           "Sobrado",
           531.1628
          ],
          [
           "Somozas, As",
           365.4666
          ],
          [
           "Teo",
           210.1551
          ],
          [
           "Toques",
           550.1306
          ],
          [
           "Tordoia",
           372.4156
          ],
          [
           "Touro",
           322.1459
          ],
          [
           "Trazo",
           308.1545
          ],
          [
           "Valdoviño",
           168.3914
          ],
          [
           "Val do Dubra",
           308.1521
          ],
          [
           "Vedra",
           230.7933
          ],
          [
           "Vilasantar",
           442.1523
          ],
          [
           "Vilarmaior",
           195.4239
          ],
          [
           "Vimianzo",
           131.8647
          ],
          [
           "Zas",
           221.0706
          ],
          [
           "Cariño",
           9.662794
          ],
          [
           "Oza-Cesuras",
           null
          ],
          [
           "Abia de la Obispalía",
           1027.756
          ],
          [
           "Acebrón, El",
           765.3969
          ],
          [
           "Alarcón",
           804.5475
          ],
          [
           "Albaladejo del Cuende",
           873.7691
          ],
          [
           "Albalate de las Nogueras",
           836.6561
          ],
          [
           "Albendea",
           836.6441
          ],
          [
           "Alberca de Záncara, La",
           null
          ],
          [
           "Alcalá de la Vega",
           1149.662
          ],
          [
           "Alcantud",
           846.5696
          ],
          [
           "Alcázar del Rey",
           868.6633
          ],
          [
           "Alcohujate",
           805.8046
          ],
          [
           "Alconchel de la Estrella",
           830.2779
          ],
          [
           "Algarra",
           1260.539
          ],
          [
           "Aliaguilla",
           1004.316
          ],
          [
           "Almarcha, La",
           850.5306
          ],
          [
           "Almendros",
           867.5738
          ],
          [
           "Almodóvar del Pinar",
           993.7385
          ],
          [
           "Almonacid del Marquesado",
           893.4148
          ],
          [
           "Altarejos",
           882.3251
          ],
          [
           "Arandilla del Arroyo",
           891.51
          ],
          [
           "Arcos de la Sierra",
           null
          ],
          [
           "Chillarón de Cuenca",
           918.1243
          ],
          [
           "Arguisuelas",
           1051.319
          ],
          [
           "Arrancacepas",
           921.0117
          ],
          [
           "Atalaya del Cañavate",
           null
          ],
          [
           "Barajas de Melo",
           707.7529
          ],
          [
           "Barchín del Hoyo",
           953.0204
          ],
          [
           "Bascuñana de San Pedro",
           1049.3
          ],
          [
           "Beamud",
           1337.114
          ],
          [
           "Belinchón",
           765.4058
          ],
          [
           "Belmonte",
           747.8671
          ],
          [
           "Belmontejo",
           842.4863
          ],
          [
           "Beteta",
           1221.365
          ],
          [
           "Boniches",
           1031.188
          ],
          [
           "Buciegas",
           806.0385
          ],
          [
           "Buenache de Alarcón",
           814.0424
          ],
          [
           "Buenache de la Sierra",
           1296.91
          ],
          [
           "Buendía",
           740.683
          ],
          [
           "Campillo de Altobuey",
           null
          ],
          [
           "Campillos-Paravientos",
           1161.948
          ],
          [
           "Campillos-Sierra",
           1253.863
          ],
          [
           "Canalejas del Arroyo",
           793.2876
          ],
          [
           "Cañada del Hoyo",
           1021.962
          ],
          [
           "Cañada Juncosa",
           806.1784
          ],
          [
           "Cañamares",
           886.0988
          ],
          [
           "Cañavate, El",
           783.1061
          ],
          [
           "Cañaveras",
           807.5058
          ],
          [
           "Cañaveruelas",
           802.4179
          ],
          [
           "Cañete",
           1077.501
          ],
          [
           "Cañizares",
           1040.13
          ],
          [
           "Carboneras de Guadazaón",
           1022.764
          ],
          [
           "Cardenete",
           955.3456
          ],
          [
           "Carrascosa",
           1258.964
          ],
          [
           "Carrascosa de Haro",
           775.2598
          ],
          [
           "Casas de Benítez",
           748.9084
          ],
          [
           "Casas de Fernando Alonso",
           725.363
          ],
          [
           "Casas de Garcimolina",
           1149.788
          ],
          [
           "Casas de Guijarro",
           752.5666
          ],
          [
           "Casas de Haro",
           723.1393
          ],
          [
           "Casas de los Pinos",
           725.2875
          ],
          [
           "Casasimarro",
           761.5946
          ],
          [
           "Castejón",
           860.5991
          ],
          [
           "Castillejo de Iniesta",
           824.4532
          ],
          [
           "Castillejo-Sierra",
           1007.348
          ],
          [
           "Castillo-Albaráñez",
           902.1082
          ],
          [
           "Castillo de Garcimuñoz",
           929.5831
          ],
          [
           "Cervera del Llano",
           895.8052
          ],
          [
           "Cierva, La",
           1226.243
          ],
          [
           "Cuenca",
           930.4124
          ],
          [
           "Cueva del Hierro",
           1332.456
          ],
          [
           "Chumillas",
           1070.247
          ],
          [
           "Enguídanos",
           748.1066
          ],
          [
           "Fresneda de Altarejos",
           null
          ],
          [
           "Fresneda de la Sierra",
           null
          ],
          [
           "Frontera, La",
           979.7111
          ],
          [
           "Fuente de Pedro Naharro",
           776.6147
          ],
          [
           "Fuentelespino de Haro",
           null
          ],
          [
           "Fuentelespino de Moya",
           null
          ],
          [
           "Fuentes",
           1015.49
          ],
          [
           "Fuertescusa",
           983.9594
          ],
          [
           "Gabaldón",
           926.3343
          ],
          [
           "Garaballa",
           936.6948
          ],
          [
           "Gascueña",
           929.3591
          ],
          [
           "Graja de Campalbo",
           1099.037
          ],
          [
           "Graja de Iniesta",
           836.5309
          ],
          [
           "Henarejos",
           1078.359
          ],
          [
           "Herrumblar, El",
           774.7962
          ],
          [
           "Hinojosa, La",
           939.3533
          ],
          [
           "Hinojosos, Los",
           772.5016
          ],
          [
           "Hito, El",
           859.4034
          ],
          [
           "Honrubia",
           809.0587
          ],
          [
           "Hontanaya",
           816.0445
          ],
          [
           "Hontecillas",
           824.0103
          ],
          [
           "Horcajo de Santiago",
           750.2389
          ],
          [
           "Huélamo",
           1283.993
          ],
          [
           "Huelves",
           819.4783
          ],
          [
           "Huérguina",
           1114.769
          ],
          [
           "Huerta de la Obispalía",
           905.3899
          ],
          [
           "Huerta del Marquesado",
           1278.528
          ],
          [
           "Huete",
           806.872
          ],
          [
           "Iniesta",
           755.802
          ],
          [
           "Laguna del Marquesado",
           1324.043
          ],
          [
           "Lagunaseca",
           1362.387
          ],
          [
           "Landete",
           985.8491
          ],
          [
           "Ledaña",
           733.5328
          ],
          [
           "Leganiel",
           760.6712
          ],
          [
           "Majadas, Las",
           1393.425
          ],
          [
           "Mariana",
           968.0659
          ],
          [
           "Masegosa",
           1378.719
          ],
          [
           "Mesas, Las",
           683.0196
          ],
          [
           "Minglanilla",
           805.3
          ],
          [
           "Mira",
           820.1528
          ],
          [
           "Monreal del Llano",
           733.7571
          ],
          [
           "Montalbanejo",
           907.4093
          ],
          [
           "Montalbo",
           884.257
          ],
          [
           "Monteagudo de las Salinas",
           1011.875
          ],
          [
           "Mota de Altarejos",
           859.7838
          ],
          [
           "Mota del Cuervo",
           708
          ],
          [
           "Motilla del Palancar",
           837.0458
          ],
          [
           "Moya",
           1073.251
          ],
          [
           "Narboneta",
           849.3128
          ],
          [
           "Olivares de Júcar",
           920.282
          ],
          [
           "Olmeda de la Cuesta",
           899.1359
          ],
          [
           "Olmeda del Rey",
           937.1072
          ],
          [
           "Olmedilla de Alarcón",
           824.7698
          ],
          [
           "Olmedilla de Eliz",
           872.5022
          ],
          [
           "Osa de la Vega",
           767.8908
          ],
          [
           "Pajarón",
           1056.773
          ],
          [
           "Pajaroncillo",
           980.0659
          ],
          [
           "Palomares del Campo",
           877.8651
          ],
          [
           "Palomera",
           1073.156
          ],
          [
           "Paracuellos",
           965.203
          ],
          [
           "Paredes",
           836.0471
          ],
          [
           "Parra de las Vegas, La",
           null
          ],
          [
           "Pedernoso, El",
           null
          ],
          [
           "Pedroñeras, Las",
           694.9729
          ],
          [
           "Peral, El",
           790.2858
          ],
          [
           "Peraleja, La",
           859.0751
          ],
          [
           "Pesquera, La",
           792.0108
          ],
          [
           "Picazo, El",
           699.0256
          ],
          [
           "Pinarejo",
           873.2295
          ],
          [
           "Pineda de Gigüela",
           974.069
          ],
          [
           "Piqueras del Castillo",
           922.2267
          ],
          [
           "Portalrubio de Guadamejud",
           null
          ],
          [
           "Portilla",
           1066.127
          ],
          [
           "Poyatos",
           1238.396
          ],
          [
           "Pozoamargo",
           754.7365
          ],
          [
           "Pozorrubio de Santiago",
           null
          ],
          [
           "Pozuelo, El",
           1221.442
          ],
          [
           "Priego",
           859.0313
          ],
          [
           "Provencio, El",
           701.4172
          ],
          [
           "Puebla de Almenara",
           851.6243
          ],
          [
           "Valle de Altomira, El",
           null
          ],
          [
           "Puebla del Salvador",
           849.067
          ],
          [
           "Quintanar del Rey",
           731.144
          ],
          [
           "Rada de Haro",
           817.4881
          ],
          [
           "Reíllo",
           1010.97
          ],
          [
           "Rozalén del Monte",
           874.4917
          ],
          [
           "Saceda-Trasierra",
           914.9257
          ],
          [
           "Saelices",
           926.687
          ],
          [
           "Salinas del Manzano",
           1129.487
          ],
          [
           "Salmeroncillos",
           784.0395
          ],
          [
           "Salvacañete",
           1177.807
          ],
          [
           "San Clemente",
           718.2497
          ],
          [
           "San Lorenzo de la Parrilla",
           958.508
          ],
          [
           "San Martín de Boniches",
           1204.745
          ],
          [
           "San Pedro Palmiches",
           827.0442
          ],
          [
           "Santa Cruz de Moya",
           764.4127
          ],
          [
           "Santa María del Campo Rus",
           789.3281
          ],
          [
           "Santa María de los Llanos",
           723.399
          ],
          [
           "Santa María del Val",
           1208.035
          ],
          [
           "Sisante",
           745.213
          ],
          [
           "Solera de Gabaldón",
           1049.117
          ],
          [
           "Talayuelas",
           989.6467
          ],
          [
           "Tarancón",
           817.9774
          ],
          [
           "Tébar",
           892.4076
          ],
          [
           "Tejadillos",
           1221.846
          ],
          [
           "Tinajas",
           868.139
          ],
          [
           "Torralba",
           910.9871
          ],
          [
           "Torrejoncillo del Rey",
           925.6471
          ],
          [
           "Torrubia del Campo",
           804.85
          ],
          [
           "Torrubia del Castillo",
           844.5839
          ],
          [
           "Tragacete",
           1280.023
          ],
          [
           "Tresjuncos",
           794.4161
          ],
          [
           "Tribaldos",
           829.7798
          ],
          [
           "Uclés",
           836.3397
          ],
          [
           "Uña",
           1133.798
          ],
          [
           "Valdemeca",
           1316.776
          ],
          [
           "Valdemorillo de la Sierra",
           1193.025
          ],
          [
           "Valdemoro-Sierra",
           1117.267
          ],
          [
           "Valdeolivas",
           927.0674
          ],
          [
           "Valhermoso de la Fuente",
           null
          ],
          [
           "Valsalobre",
           1219.73
          ],
          [
           "Valverde de Júcar",
           846.4824
          ],
          [
           "Valverdejo",
           865.129
          ],
          [
           "Vara de Rey",
           820.9382
          ],
          [
           "Vega del Codorno",
           1390.018
          ],
          [
           "Vellisca",
           944.9796
          ],
          [
           "Villaconejos de Trabaque",
           808.2476
          ],
          [
           "Villaescusa de Haro",
           826.9725
          ],
          [
           "Villagarcía del Llano",
           733.049
          ],
          [
           "Villalba de la Sierra",
           992.4644
          ],
          [
           "Villalba del Rey",
           788.1654
          ],
          [
           "Villalgordo del Marquesado",
           null
          ],
          [
           "Villalpardo",
           771.2595
          ],
          [
           "Villamayor de Santiago",
           775.3732
          ],
          [
           "Villanueva de Guadamejud",
           805.5494
          ],
          [
           "Villanueva de la Jara",
           767.3646
          ],
          [
           "Villar de Cañas",
           817.3677
          ],
          [
           "Villar de Domingo García",
           938.7158
          ],
          [
           "Villar de la Encina",
           843.0084
          ],
          [
           "Villar del Humo",
           997.0957
          ],
          [
           "Villar del Infantado",
           767.527
          ],
          [
           "Villar de Olalla",
           901.751
          ],
          [
           "Villarejo de Fuentes",
           864.325
          ],
          [
           "Villarejo de la Peñuela",
           941.4399
          ],
          [
           "Villarejo-Periesteban",
           919.6758
          ],
          [
           "Villares del Saz",
           null
          ],
          [
           "Villarrubio",
           825.1577
          ],
          [
           "Villarta",
           758.9042
          ],
          [
           "Villas de la Ventosa",
           844.56
          ],
          [
           "Villaverde y Pasaconsol",
           859.9142
          ],
          [
           "Víllora",
           878.9189
          ],
          [
           "Vindel",
           898.5792
          ],
          [
           "Yémeda",
           866.7178
          ],
          [
           "Zafra de Záncara",
           898.8863
          ],
          [
           "Zafrilla",
           1418.941
          ],
          [
           "Zarza de Tajo",
           null
          ],
          [
           "Zarzuela",
           1040.219
          ],
          [
           "Campos del Paraíso",
           914.1959
          ],
          [
           "Valdetórtola",
           898.9784
          ],
          [
           "Valeras, Las",
           935.2037
          ],
          [
           "Fuentenava de Jábaga",
           null
          ],
          [
           "Arcas",
           null
          ],
          [
           "Valdecolmenas, Los",
           940.6137
          ],
          [
           "Pozorrubielos de la Mancha",
           784.6632
          ],
          [
           "Sotorribas",
           989.6494
          ],
          [
           "Villar y Velasco",
           975.5555
          ],
          [
           "Agullana",
           170.1884
          ],
          [
           "Aiguaviva",
           156.0045
          ],
          [
           "Albanyà",
           240.982
          ],
          [
           "Albons",
           11.20031
          ],
          [
           "Far d'Empordà, El",
           34.56885
          ],
          [
           "Alp",
           1140.202
          ],
          [
           "Amer",
           187.6956
          ],
          [
           "Anglès",
           163.2895
          ],
          [
           "Arbúcies",
           294.5572
          ],
          [
           "Argelaguer",
           189.7633
          ],
          [
           "Armentera, L'",
           8.210299
          ],
          [
           "Avinyonet de Puigventós",
           68.95233
          ],
          [
           "Begur",
           206.9355
          ],
          [
           "Vajol, La",
           540.9069
          ],
          [
           "Banyoles",
           180.4805
          ],
          [
           "Bàscara",
           66.21327
          ],
          [
           "Bellcaire d'Empordà",
           16.70415
          ],
          [
           "Besalú",
           153.8543
          ],
          [
           "Bescanó",
           103.575
          ],
          [
           "Beuda",
           330.3628
          ],
          [
           "Bisbal d'Empordà, La",
           41.58906
          ],
          [
           "Blanes",
           12.55464
          ],
          [
           "Bolvir",
           1111.693
          ],
          [
           "Bordils",
           39.80887
          ],
          [
           "Borrassà",
           73.4845
          ],
          [
           "Breda",
           165.5123
          ],
          [
           "Brunyola i Sant Martí Sapresa",
           null
          ],
          [
           "Boadella i les Escaules",
           90.38374
          ],
          [
           "Cabanes",
           23.85813
          ],
          [
           "Cabanelles",
           186.2474
          ],
          [
           "Cadaqués",
           8.404613
          ],
          [
           "Caldes de Malavella",
           99.86514
          ],
          [
           "Calonge i Sant Antoni",
           null
          ],
          [
           "Camós",
           162.4646
          ],
          [
           "Campdevànol",
           735.8078
          ],
          [
           "Campelles",
           1312.842
          ],
          [
           "Campllong",
           111.6642
          ],
          [
           "Camprodon",
           949.9839
          ],
          [
           "Canet d'Adri",
           225.7504
          ],
          [
           "Cantallops",
           199.0593
          ],
          [
           "Capmany",
           102.8205
          ],
          [
           "Queralbs",
           1212.268
          ],
          [
           "Cassà de la Selva",
           157.0528
          ],
          [
           "Castellfollit de la Roca",
           299.2567
          ],
          [
           "Castelló d'Empúries",
           19.59589
          ],
          [
           "Castell d'Aro, Platja d'Aro i s'Agaró",
           null
          ],
          [
           "Celrà",
           74.95261
          ],
          [
           "Cervià de Ter",
           41.124
          ],
          [
           "Cistella",
           131.848
          ],
          [
           "Siurana",
           30.35726
          ],
          [
           "Colera",
           15.71049
          ],
          [
           "Colomers",
           27.86927
          ],
          [
           "Cornellà del Terri",
           97.63062
          ],
          [
           "Corçà",
           43
          ],
          [
           "Crespià",
           134.7197
          ],
          [
           "Darnius",
           195.8332
          ],
          [
           "Das",
           1210.801
          ],
          [
           "Escala, L'",
           19.85101
          ],
          [
           "Espinelves",
           721.2335
          ],
          [
           "Espolla",
           110.9502
          ],
          [
           "Esponellà",
           124.58
          ],
          [
           "Figueres",
           44.94663
          ],
          [
           "Flaçà",
           34.53658
          ],
          [
           "Foixà",
           77.76812
          ],
          [
           "Fontanals de Cerdanya",
           1296.071
          ],
          [
           "Fontanilles",
           11.98482
          ],
          [
           "Fontcoberta",
           224.6868
          ],
          [
           "Fornells de la Selva",
           100.7511
          ],
          [
           "Fortià",
           5.550827
          ],
          [
           "Garrigàs",
           106.7004
          ],
          [
           "Garrigoles",
           87.58198
          ],
          [
           "Garriguella",
           60.73549
          ],
          [
           "Ger",
           1124.158
          ],
          [
           "Girona",
           69.02268
          ],
          [
           "Gombrèn",
           913.7407
          ],
          [
           "Gualta",
           10.82926
          ],
          [
           "Guils de Cerdanya",
           1345.239
          ],
          [
           "Hostalric",
           98.26152
          ],
          [
           "Isòvol",
           1044.986
          ],
          [
           "Jafre",
           26.08789
          ],
          [
           "Jonquera, La",
           112.039
          ],
          [
           "Juià",
           103.731
          ],
          [
           "Lladó",
           203.6406
          ],
          [
           "Llagostera",
           137.2177
          ],
          [
           "Llambilles",
           123.2293
          ],
          [
           "Llanars",
           987.0015
          ],
          [
           "Llançà",
           26.3534
          ],
          [
           "Llers",
           164.3831
          ],
          [
           "Llívia",
           1201.004
          ],
          [
           "Lloret de Mar",
           14.34469
          ],
          [
           "Llosses, Les",
           906.8428
          ],
          [
           "Madremanya",
           171.2928
          ],
          [
           "Maià de Montcal",
           222.8625
          ],
          [
           "Meranges",
           1552.41
          ],
          [
           "Masarac",
           80.04425
          ],
          [
           "Massanes",
           139.9525
          ],
          [
           "Maçanet de Cabrenys",
           348.9143
          ],
          [
           "Maçanet de la Selva",
           98.14079
          ],
          [
           "Mieres",
           275.4319
          ],
          [
           "Mollet de Peralada",
           56.86679
          ],
          [
           "Molló",
           1178.97
          ],
          [
           "Montagut i Oix",
           278.7967
          ],
          [
           "Mont-ras",
           56.59036
          ],
          [
           "Navata",
           147.3417
          ],
          [
           "Ogassa",
           955.7571
          ],
          [
           "Olot",
           445.0352
          ],
          [
           "Ordis",
           97.83067
          ],
          [
           "Osor",
           350.0396
          ],
          [
           "Palafrugell",
           68.42641
          ],
          [
           "Palamós",
           14.00687
          ],
          [
           "Palau de Santa Eulàlia",
           81.56111
          ],
          [
           "Palau-saverdera",
           94.26295
          ],
          [
           "Palau-sator",
           19.59593
          ],
          [
           "Palol de Revardit",
           134.0089
          ],
          [
           "Pals",
           19.10723
          ],
          [
           "Pardines",
           1231.859
          ],
          [
           "Parlavà",
           30.01262
          ],
          [
           "Pau",
           27.27005
          ],
          [
           "Pedret i Marzà",
           28.24896
          ],
          [
           "Pera, La",
           78.5508
          ],
          [
           "Peralada",
           33.71151
          ],
          [
           "Planes d'Hostoles, Les",
           357.5643
          ],
          [
           "Planoles",
           1138.85
          ],
          [
           "Pont de Molins",
           46.54617
          ],
          [
           "Pontós",
           90.42199
          ],
          [
           "Porqueres",
           183.2214
          ],
          [
           "Portbou",
           12.24183
          ],
          [
           "Preses, Les",
           466.8972
          ],
          [
           "Port de la Selva, El",
           6.634849
          ],
          [
           "Puigcerdà",
           1184.155
          ],
          [
           "Quart",
           98.03844
          ],
          [
           "Rabós",
           114.9361
          ],
          [
           "Regencós",
           74.76754
          ],
          [
           "Ribes de Freser",
           919.8904
          ],
          [
           "Riells i Viabrea",
           96.39582
          ],
          [
           "Ripoll",
           696.5365
          ],
          [
           "Riudarenes",
           90
          ],
          [
           "Riudaura",
           578.0961
          ],
          [
           "Riudellots de la Selva",
           100.0308
          ],
          [
           "Riumors",
           3.91416
          ],
          [
           "Roses",
           6.046805
          ],
          [
           "Rupià",
           63.82626
          ],
          [
           "Sales de Llierca",
           266.1104
          ],
          [
           "Salt",
           87.70262
          ],
          [
           "Sant Andreu Salou",
           132.717
          ],
          [
           "Sant Climent Sescebes",
           83.43581
          ],
          [
           "Sant Feliu de Buixalleu",
           400.1262
          ],
          [
           "Sant Feliu de Guíxols",
           9.581546
          ],
          [
           "Sant Feliu de Pallerols",
           467.6071
          ],
          [
           "Sant Ferriol",
           195.0925
          ],
          [
           "Sant Gregori",
           105.9555
          ],
          [
           "Sant Hilari Sacalm",
           798.2343
          ],
          [
           "Sant Jaume de Llierca",
           212.891
          ],
          [
           "Sant Jordi Desvalls",
           52.30774
          ],
          [
           "Sant Joan de les Abadesses",
           778.5472
          ],
          [
           "Sant Joan de Mollet",
           47.70493
          ],
          [
           "Sant Julià de Ramis",
           174.7159
          ],
          [
           "Vallfogona de Ripollès",
           948.5323
          ],
          [
           "Sant Llorenç de la Muga",
           170.0117
          ],
          [
           "Sant Martí de Llémena",
           249.9684
          ],
          [
           "Sant Martí Vell",
           72.49802
          ],
          [
           "Sant Miquel de Campmajor",
           225.4033
          ],
          [
           "Sant Miquel de Fluvià",
           30.44114
          ],
          [
           "Sant Mori",
           39.63519
          ],
          [
           "Sant Pau de Segúries",
           860.9708
          ],
          [
           "Sant Pere Pescador",
           7.999541
          ],
          [
           "Santa Coloma de Farners",
           140.2747
          ],
          [
           "Santa Cristina d'Aro",
           54.80076
          ],
          [
           "Santa Llogaia d'Àlguema",
           42.30609
          ],
          [
           "Sant Aniol de Finestres",
           403.899
          ],
          [
           "Santa Pau",
           496.2841
          ],
          [
           "Sant Joan les Fonts",
           340.3424
          ],
          [
           "Sarrià de Ter",
           59.73502
          ],
          [
           "Saus, Camallera i Llampaies",
           94.31184
          ],
          [
           "Selva de Mar, La",
           53.85229
          ],
          [
           "Cellera de Ter, La",
           167.5866
          ],
          [
           "Serinyà",
           188.9648
          ],
          [
           "Serra de Daró",
           12.04134
          ],
          [
           "Setcases",
           1265.82
          ],
          [
           "Sils",
           78.97491
          ],
          [
           "Susqueda",
           337.0181
          ],
          [
           "Tallada d'Empordà, La",
           14.32662
          ],
          [
           "Terrades",
           227.8623
          ],
          [
           "Torrent",
           39.58279
          ],
          [
           "Torroella de Fluvià",
           9.374322
          ],
          [
           "Torroella de Montgrí",
           31.4563
          ],
          [
           "Tortellà",
           278.4685
          ],
          [
           "Toses",
           1426.833
          ],
          [
           "Tossa de Mar",
           11.30567
          ],
          [
           "Ultramort",
           21.90849
          ],
          [
           "Ullà",
           24.18182
          ],
          [
           "Ullastret",
           42.31542
          ],
          [
           "Urús",
           1269.748
          ],
          [
           "Vall d'en Bas, La",
           487.257
          ],
          [
           "Vall de Bianya, La",
           387.5479
          ],
          [
           "Vall-llobrega",
           61.32427
          ],
          [
           "Ventalló",
           29.75963
          ],
          [
           "Verges",
           18.31838
          ],
          [
           "Vidrà",
           984.6575
          ],
          [
           "Vidreres",
           95.18577
          ],
          [
           "Vilabertran",
           20
          ],
          [
           "Vilablareix",
           115.8257
          ],
          [
           "Viladasens",
           90.55965
          ],
          [
           "Viladamat",
           7.623611
          ],
          [
           "Vilademuls",
           121.4595
          ],
          [
           "Viladrau",
           826.043
          ],
          [
           "Vilafant",
           54.1561
          ],
          [
           "Vilaür",
           67.55302
          ],
          [
           "Vilajuïga",
           27.58708
          ],
          [
           "Vilallonga de Ter",
           1063.586
          ],
          [
           "Vilamacolum",
           6
          ],
          [
           "Vilamalla",
           45.89511
          ],
          [
           "Vilamaniscle",
           148.8217
          ],
          [
           "Vilanant",
           100.9817
          ],
          [
           "Vila-sacra",
           13.35783
          ],
          [
           "Vilopriu",
           71.60316
          ],
          [
           "Vilobí d'Onyar",
           121.8775
          ],
          [
           "Biure",
           67.65877
          ],
          [
           "Cruïlles, Monells i Sant Sadurní de l'Heura",
           110.6651
          ],
          [
           "Forallac",
           50.96644
          ],
          [
           "Sant Julià del Llor i Bonmatí",
           156.8956
          ],
          [
           "Agrón",
           1057.493
          ],
          [
           "Alamedilla",
           867.9614
          ],
          [
           "Albolote",
           650.2138
          ],
          [
           "Albondón",
           894.4161
          ],
          [
           "Albuñán",
           1115.975
          ],
          [
           "Albuñol",
           247.2122
          ],
          [
           "Albuñuelas",
           728.1844
          ],
          [
           "Aldeire",
           1274.015
          ],
          [
           "Alfacar",
           915.6451
          ],
          [
           "Algarinejo",
           596.2101
          ],
          [
           "Alhama de Granada",
           890.953
          ],
          [
           "Alhendín",
           736.6528
          ],
          [
           "Alicún de Ortega",
           692.778
          ],
          [
           "Almegíjar",
           811.4709
          ],
          [
           "Almuñécar",
           24.01802
          ],
          [
           "Alquife",
           1202.946
          ],
          [
           "Arenas del Rey",
           870.3409
          ],
          [
           "Armilla",
           671.618
          ],
          [
           "Atarfe",
           604.92
          ],
          [
           "Baza",
           850.2978
          ],
          [
           "Beas de Granada",
           1068.34
          ],
          [
           "Beas de Guadix",
           955.7032
          ],
          [
           "Benalúa",
           858.6871
          ],
          [
           "Benalúa de las Villas",
           848.7814
          ],
          [
           "Benamaurel",
           719.2347
          ],
          [
           "Bérchules",
           1330.123
          ],
          [
           "Bubión",
           1298.578
          ],
          [
           "Busquístar",
           1160.204
          ],
          [
           "Cacín",
           701.9979
          ],
          [
           "Cádiar",
           926.387
          ],
          [
           "Cájar",
           730.5661
          ],
          [
           "Calicasas",
           764.5505
          ],
          [
           "Campotéjar",
           925.5419
          ],
          [
           "Caniles",
           914.9191
          ],
          [
           "Cáñar",
           1026.397
          ],
          [
           "Capileira",
           1444.893
          ],
          [
           "Carataunas",
           761.6864
          ],
          [
           "Cástaras",
           1021.059
          ],
          [
           "Castilléjar",
           770.9531
          ],
          [
           "Castril",
           904.8172
          ],
          [
           "Cenes de la Vega",
           746.4172
          ],
          [
           "Cijuela",
           539.7335
          ],
          [
           "Cogollos de Guadix",
           1142.019
          ],
          [
           "Cogollos de la Vega",
           997.7243
          ],
          [
           "Colomera",
           855.0217
          ],
          [
           "Cortes de Baza",
           707.9819
          ],
          [
           "Cortes y Graena",
           976.4355
          ],
          [
           "Cúllar",
           895.665
          ],
          [
           "Cúllar Vega",
           643.1689
          ],
          [
           "Chauchina",
           552.4158
          ],
          [
           "Chimeneas",
           699.7101
          ],
          [
           "Churriana de la Vega",
           657.35
          ],
          [
           "Darro",
           1115.744
          ],
          [
           "Dehesas de Guadix",
           684.2996
          ],
          [
           "Dehesas Viejas",
           null
          ],
          [
           "Deifontes",
           744.6108
          ],
          [
           "Diezma",
           1227.448
          ],
          [
           "Dílar",
           878.0067
          ],
          [
           "Dólar",
           1204.454
          ],
          [
           "Dúdar",
           812.0253
          ],
          [
           "Dúrcal",
           786.6514
          ],
          [
           "Escúzar",
           873.6536
          ],
          [
           "Ferreira",
           1267.67
          ],
          [
           "Fonelas",
           785.6204
          ],
          [
           "Fornes",
           null
          ],
          [
           "Freila",
           824.4169
          ],
          [
           "Fuente Vaqueros",
           545.4914
          ],
          [
           "Galera",
           837.2482
          ],
          [
           "Gobernador",
           1039.05
          ],
          [
           "Gójar",
           791.8748
          ],
          [
           "Gor",
           1241.51
          ],
          [
           "Gorafe",
           847.6644
          ],
          [
           "Granada",
           697.486
          ],
          [
           "Guadahortuna",
           968.3403
          ],
          [
           "Guadix",
           919.4025
          ],
          [
           "Gualchos",
           335.95
          ],
          [
           "Güéjar Sierra",
           1098.16
          ],
          [
           "Güevéjar",
           876.2341
          ],
          [
           "Huélago",
           914.9307
          ],
          [
           "Huéneja",
           1155.85
          ],
          [
           "Huéscar",
           959.9781
          ],
          [
           "Huétor de Santillán",
           1019.823
          ],
          [
           "Huétor Tájar",
           489
          ],
          [
           "Huétor Vega",
           739.9867
          ],
          [
           "Íllora",
           775.8689
          ],
          [
           "Ítrabo",
           384.3103
          ],
          [
           "Iznalloz",
           816.3354
          ],
          [
           "Játar",
           null
          ],
          [
           "Jayena",
           911.8392
          ],
          [
           "Jérez del Marquesado",
           1237.271
          ],
          [
           "Jete",
           134.2804
          ],
          [
           "Jun",
           763.6108
          ],
          [
           "Juviles",
           1258.52
          ],
          [
           "Calahorra, La",
           null
          ],
          [
           "Láchar",
           559.7148
          ],
          [
           "Lanjarón",
           662.3086
          ],
          [
           "Lanteira",
           1279.618
          ],
          [
           "Lecrín",
           705.3149
          ],
          [
           "Lentegí",
           638.0128
          ],
          [
           "Lobras",
           917.7236
          ],
          [
           "Loja",
           456.7311
          ],
          [
           "Lugros",
           1241.42
          ],
          [
           "Lújar",
           509.9037
          ],
          [
           "Malahá, La",
           709.616
          ],
          [
           "Maracena",
           649.4002
          ],
          [
           "Marchal",
           926.4476
          ],
          [
           "Moclín",
           1061.082
          ],
          [
           "Molvízar",
           239.2467
          ],
          [
           "Monachil",
           811.2473
          ],
          [
           "Montefrío",
           835.1361
          ],
          [
           "Montejícar",
           1145.294
          ],
          [
           "Montillana",
           1019.378
          ],
          [
           "Moraleda de Zafayona",
           621.8634
          ],
          [
           "Motril",
           41.48437
          ],
          [
           "Murtas",
           1134.923
          ],
          [
           "Nigüelas",
           927.8786
          ],
          [
           "Nívar",
           1038.031
          ],
          [
           "Ogíjares",
           721.7737
          ],
          [
           "Orce",
           932.2527
          ],
          [
           "Órgiva",
           465.8732
          ],
          [
           "Otívar",
           266.5227
          ],
          [
           "Villa de Otura",
           null
          ],
          [
           "Padul",
           757.9304
          ],
          [
           "Pampaneira",
           1054.911
          ],
          [
           "Pedro Martínez",
           1036.34
          ],
          [
           "Peligros",
           687.5328
          ],
          [
           "Peza, La",
           996.5889
          ],
          [
           "Pinos Genil",
           null
          ],
          [
           "Pinos Puente",
           null
          ],
          [
           "Píñar",
           912.619
          ],
          [
           "Polícar",
           1146.402
          ],
          [
           "Polopos",
           783.9265
          ],
          [
           "Pórtugos",
           1312.607
          ],
          [
           "Puebla de Don Fadrique",
           1160.896
          ],
          [
           "Pulianas",
           728.1589
          ],
          [
           "Purullena",
           907.9955
          ],
          [
           "Quéntar",
           855.6412
          ],
          [
           "Rubite",
           778.7302
          ],
          [
           "Salar",
           545.4207
          ],
          [
           "Salobreña",
           20.95912
          ],
          [
           "Santa Cruz del Comercio",
           737.3204
          ],
          [
           "Santa Fe",
           582.6545
          ],
          [
           "Soportújar",
           944.0207
          ],
          [
           "Sorvilán",
           769.9988
          ],
          [
           "Torre-Cardela",
           1219.53
          ],
          [
           "Torvizcón",
           667.7946
          ],
          [
           "Trevélez",
           1542.32
          ],
          [
           "Turón",
           698.5202
          ],
          [
           "Ugíjar",
           547.5222
          ],
          [
           "Válor",
           901.9865
          ],
          [
           "Vélez de Benaudalla",
           170.5154
          ],
          [
           "Ventas de Huelma",
           858.721
          ],
          [
           "Villanueva de las Torres",
           645.9392
          ],
          [
           "Villanueva Mesía",
           493.5079
          ],
          [
           "Víznar",
           1074.323
          ],
          [
           "Zafarraya",
           896.4373
          ],
          [
           "Zubia, La",
           null
          ],
          [
           "Zújar",
           771.5205
          ],
          [
           "Taha, La",
           1100.905
          ],
          [
           "Valle, El",
           1245.152
          ],
          [
           "Valle, El",
           1245.152
          ],
          [
           "Nevada",
           792.3126
          ],
          [
           "Alpujarra de la Sierra",
           1238.541
          ],
          [
           "Gabias, Las",
           703.1069
          ],
          [
           "Guájares, Los",
           475.6051
          ],
          [
           "Valle del Zalabí",
           null
          ],
          [
           "Villamena",
           762.7578
          ],
          [
           "Morelábor",
           1023.947
          ],
          [
           "Pinar, El",
           912.619
          ],
          [
           "Vegas del Genil",
           615
          ],
          [
           "Cuevas del Campo",
           832.7582
          ],
          [
           "Zagra",
           680.0646
          ],
          [
           "Valderrubio",
           null
          ],
          [
           "Domingo Pérez de Granada",
           null
          ],
          [
           "Torrenueva Costa",
           null
          ],
          [
           "Abánades",
           1031.429
          ],
          [
           "Ablanque",
           1045.646
          ],
          [
           "Adobes",
           1379.7
          ],
          [
           "Alaminos",
           1063.001
          ],
          [
           "Alarilla",
           830.985
          ],
          [
           "Albalate de Zorita",
           776.8889
          ],
          [
           "Albares",
           748.9675
          ],
          [
           "Albendiego",
           1191.034
          ],
          [
           "Alcocer",
           784.08
          ],
          [
           "Alcolea de las Peñas",
           1008.211
          ],
          [
           "Alcolea del Pinar",
           1201.03
          ],
          [
           "Alcoroches",
           1411.883
          ],
          [
           "Aldeanueva de Guadalajara",
           950.4051
          ],
          [
           "Algar de Mesa",
           922.8428
          ],
          [
           "Algora",
           1111.185
          ],
          [
           "Alhóndiga",
           811.9917
          ],
          [
           "Alique",
           920.197
          ],
          [
           "Almadrones",
           1054.043
          ],
          [
           "Almoguera",
           658.963
          ],
          [
           "Almonacid de Zorita",
           710.4469
          ],
          [
           "Alocén",
           954.1763
          ],
          [
           "Alovera",
           648.2296
          ],
          [
           "Alustante",
           1398.75
          ],
          [
           "Angón",
           981.9118
          ],
          [
           "Anguita",
           1123.483
          ],
          [
           "Anquela del Ducado",
           1186.507
          ],
          [
           "Anquela del Pedregal",
           1281.853
          ],
          [
           "Aranzueque",
           686.1259
          ],
          [
           "Arbancón",
           902.12
          ],
          [
           "Arbeteta",
           989.9099
          ],
          [
           "Argecilla",
           956.304
          ],
          [
           "Armallones",
           1206.545
          ],
          [
           "Armuña de Tajuña",
           718.0318
          ],
          [
           "Arroyo de las Fraguas",
           null
          ],
          [
           "Atanzón",
           952.7128
          ],
          [
           "Atienza",
           1153.596
          ],
          [
           "Auñón",
           771.4276
          ],
          [
           "Azuqueca de Henares",
           633.6434
          ],
          [
           "Baides",
           841.8666
          ],
          [
           "Baños de Tajo",
           1257.18
          ],
          [
           "Bañuelos",
           1156.416
          ],
          [
           "Barriopedro",
           893.6289
          ],
          [
           "Berninches",
           930.7506
          ],
          [
           "Bodera, La",
           1130.464
          ],
          [
           "Brihuega",
           912.4825
          ],
          [
           "Budia",
           897.6595
          ],
          [
           "Bujalaro",
           847.1917
          ],
          [
           "Bustares",
           1289.387
          ],
          [
           "Cabanillas del Campo",
           686.0259
          ],
          [
           "Campillo de Dueñas",
           null
          ],
          [
           "Campillo de Ranas",
           null
          ],
          [
           "Campisábalos",
           1349.99
          ],
          [
           "Canredondo",
           1159.82
          ],
          [
           "Cantalojas",
           1314.269
          ],
          [
           "Cañizar",
           783.3613
          ],
          [
           "Cardoso de la Sierra, El",
           null
          ],
          [
           "Casa de Uceda",
           915.0853
          ],
          [
           "Casar, El",
           829.6438
          ],
          [
           "Casas de San Galindo",
           1028.008
          ],
          [
           "Caspueñas",
           857.5028
          ],
          [
           "Castejón de Henares",
           959.337
          ],
          [
           "Castellar de la Muela",
           null
          ],
          [
           "Castilforte",
           986.4266
          ],
          [
           "Castilnuevo",
           1084.918
          ],
          [
           "Cendejas de Enmedio",
           912.9671
          ],
          [
           "Cendejas de la Torre",
           957.337
          ],
          [
           "Centenera",
           818.259
          ],
          [
           "Cifuentes",
           897.1795
          ],
          [
           "Cincovillas",
           1016.226
          ],
          [
           "Ciruelas",
           823.9545
          ],
          [
           "Ciruelos del Pinar",
           1265.071
          ],
          [
           "Cobeta",
           1125.074
          ],
          [
           "Cogollor",
           945.5419
          ],
          [
           "Cogolludo",
           878.9348
          ],
          [
           "Condemios de Abajo",
           1313.768
          ],
          [
           "Condemios de Arriba",
           1312.75
          ],
          [
           "Congostrina",
           1010.113
          ],
          [
           "Copernal",
           844.6374
          ],
          [
           "Corduente",
           1058.495
          ],
          [
           "Cubillo de Uceda, El",
           894.9387
          ],
          [
           "Checa",
           1364.288
          ],
          [
           "Chequilla",
           1357.645
          ],
          [
           "Chiloeches",
           793.2838
          ],
          [
           "Chillarón del Rey",
           793.6684
          ],
          [
           "Driebes",
           729.485
          ],
          [
           "Durón",
           736.4201
          ],
          [
           "Embid",
           1084.913
          ],
          [
           "Escamilla",
           1021.877
          ],
          [
           "Escariche",
           791.7507
          ],
          [
           "Escopete",
           869.3793
          ],
          [
           "Espinosa de Henares",
           769.5982
          ],
          [
           "Esplegares",
           1151.916
          ],
          [
           "Establés",
           1148.052
          ],
          [
           "Estriégana",
           1103.077
          ],
          [
           "Fontanar",
           688
          ],
          [
           "Fuembellida",
           1224.531
          ],
          [
           "Fuencemillán",
           832.7535
          ],
          [
           "Fuentelahiguera de Albatages",
           900.9053
          ],
          [
           "Fuentelencina",
           969.9274
          ],
          [
           "Fuentelsaz",
           1122.968
          ],
          [
           "Fuentelviejo",
           902.558
          ],
          [
           "Fuentenovilla",
           800.5488
          ],
          [
           "Gajanejos",
           1031.304
          ],
          [
           "Galápagos",
           736.8546
          ],
          [
           "Galve de Sorbe",
           1364.459
          ],
          [
           "Gascueña de Bornova",
           1207.064
          ],
          [
           "Guadalajara",
           714.2177
          ],
          [
           "Henche",
           821.3327
          ],
          [
           "Heras de Ayuso",
           708.7994
          ],
          [
           "Herrería",
           1085.296
          ],
          [
           "Hiendelaencina",
           1087.683
          ],
          [
           "Hijes",
           1162.066
          ],
          [
           "Hita",
           855.7426
          ],
          [
           "Hombrados",
           1234.546
          ],
          [
           "Hontoba",
           733.9285
          ],
          [
           "Horche",
           921.676
          ],
          [
           "Hortezuela de Océn",
           1096.975
          ],
          [
           "Huerce, La",
           1270.942
          ],
          [
           "Huérmeces del Cerro",
           874.1462
          ],
          [
           "Huertahernando",
           1151.298
          ],
          [
           "Hueva",
           895.2715
          ],
          [
           "Humanes",
           749.6636
          ],
          [
           "Illana",
           750.5403
          ],
          [
           "Iniéstola",
           1157.162
          ],
          [
           "Inviernas, Las",
           971.1691
          ],
          [
           "Irueste",
           854.0027
          ],
          [
           "Jadraque",
           829.6091
          ],
          [
           "Jirueque",
           836.55
          ],
          [
           "Ledanca",
           916.9545
          ],
          [
           "Loranca de Tajuña",
           674.3804
          ],
          [
           "Lupiana",
           768.1111
          ],
          [
           "Luzaga",
           1066.36
          ],
          [
           "Luzón",
           1181.69
          ],
          [
           "Majaelrayo",
           1193.425
          ],
          [
           "Málaga del Fresno",
           784.2536
          ],
          [
           "Malaguilla",
           824.4382
          ],
          [
           "Mandayona",
           869.4004
          ],
          [
           "Mantiel",
           922.6431
          ],
          [
           "Maranchón",
           1250.432
          ],
          [
           "Marchamalo",
           675.0148
          ],
          [
           "Masegoso de Tajuña",
           null
          ],
          [
           "Matarrubia",
           864.5784
          ],
          [
           "Matillas",
           817.9203
          ],
          [
           "Mazarete",
           1211.015
          ],
          [
           "Mazuecos",
           708.3503
          ],
          [
           "Medranda",
           818.2693
          ],
          [
           "Megina",
           1250.206
          ],
          [
           "Membrillera",
           830.0648
          ],
          [
           "Miedes de Atienza",
           1150.024
          ],
          [
           "Mierla, La",
           949.7092
          ],
          [
           "Milmarcos",
           1061.394
          ],
          [
           "Millana",
           819.1633
          ],
          [
           "Miñosa, La",
           1025.995
          ],
          [
           "Mirabueno",
           1069.348
          ],
          [
           "Miralrío",
           1039.837
          ],
          [
           "Mochales",
           993.5259
          ],
          [
           "Mohernando",
           781.8551
          ],
          [
           "Molina de Aragón",
           1066.345
          ],
          [
           "Monasterio",
           931.1225
          ],
          [
           "Mondéjar",
           798.318
          ],
          [
           "Montarrón",
           836.7844
          ],
          [
           "Moratilla de los Meleros",
           843.6528
          ],
          [
           "Morenilla",
           1188.845
          ],
          [
           "Muduex",
           818.524
          ],
          [
           "Navas de Jadraque, Las",
           1160.806
          ],
          [
           "Negredo",
           986.1238
          ],
          [
           "Ocentejo",
           861.1108
          ],
          [
           "Olivar, El",
           1039.425
          ],
          [
           "Olmeda de Cobeta",
           1136.275
          ],
          [
           "Olmeda de Jadraque, La",
           988.519
          ],
          [
           "Ordial, El",
           1233.109
          ],
          [
           "Orea",
           1501.279
          ],
          [
           "Pálmaces de Jadraque",
           916.1491
          ],
          [
           "Pardos",
           1185.159
          ],
          [
           "Paredes de Sigüenza",
           1002.631
          ],
          [
           "Pareja",
           753.7086
          ],
          [
           "Pastrana",
           760.5256
          ],
          [
           "Pedregal, El",
           1192.786
          ],
          [
           "Peñalén",
           1349.393
          ],
          [
           "Peñalver",
           941.0283
          ],
          [
           "Peralejos de las Truchas",
           1195.926
          ],
          [
           "Peralveche",
           1109.689
          ],
          [
           "Pinilla de Jadraque",
           837.084
          ],
          [
           "Pinilla de Molina",
           1218.99
          ],
          [
           "Pioz",
           877.6891
          ],
          [
           "Piqueras",
           1377.206
          ],
          [
           "Pobo de Dueñas, El",
           null
          ],
          [
           "Poveda de la Sierra",
           1188.949
          ],
          [
           "Pozo de Almoguera",
           783.4164
          ],
          [
           "Pozo de Guadalajara",
           890.155
          ],
          [
           "Prádena de Atienza",
           1143.877
          ],
          [
           "Prados Redondos",
           1158.477
          ],
          [
           "Puebla de Beleña",
           920.8109
          ],
          [
           "Puebla de Valles",
           846.1002
          ],
          [
           "Quer",
           706.5587
          ],
          [
           "Rebollosa de Jadraque",
           null
          ],
          [
           "Recuenco, El",
           978.4645
          ],
          [
           "Renera",
           758.5328
          ],
          [
           "Retiendas",
           889.69
          ],
          [
           "Riba de Saelices",
           null
          ],
          [
           "Rillo de Gallo",
           1056.004
          ],
          [
           "Riofrío del Llano",
           1018.82
          ],
          [
           "Robledillo de Mohernando",
           885.8916
          ],
          [
           "Robledo de Corpes",
           null
          ],
          [
           "Romanillos de Atienza",
           1105.959
          ],
          [
           "Romanones",
           750.4893
          ],
          [
           "Rueda de la Sierra",
           1149.894
          ],
          [
           "Sacecorbo",
           1120.788
          ],
          [
           "Sacedón",
           744.1919
          ],
          [
           "Saelices de la Sal",
           994.9368
          ],
          [
           "Salmerón",
           826.9052
          ],
          [
           "San Andrés del Congosto",
           867.291
          ],
          [
           "San Andrés del Rey",
           1020.218
          ],
          [
           "Santiuste",
           917.553
          ],
          [
           "Saúca",
           1105.572
          ],
          [
           "Sayatón",
           653.2286
          ],
          [
           "Selas",
           1213.464
          ],
          [
           "Setiles",
           1260.147
          ],
          [
           "Sienes",
           1035.452
          ],
          [
           "Sigüenza",
           997.2746
          ],
          [
           "Solanillos del Extremo",
           997.022
          ],
          [
           "Somolinos",
           1253.444
          ],
          [
           "Sotillo, El",
           1049.94
          ],
          [
           "Sotodosos",
           1138.66
          ],
          [
           "Tamajón",
           1034.312
          ],
          [
           "Taragudo",
           765.4358
          ],
          [
           "Taravilla",
           1318.905
          ],
          [
           "Tartanedo",
           1189.511
          ],
          [
           "Tendilla",
           798.4559
          ],
          [
           "Terzaga",
           1178.228
          ],
          [
           "Tierzo",
           1144.808
          ],
          [
           "Toba, La",
           945.3749
          ],
          [
           "Tordelrábano",
           1019.433
          ],
          [
           "Tordellego",
           1248.824
          ],
          [
           "Tordesilos",
           1344.611
          ],
          [
           "Torija",
           969.4859
          ],
          [
           "Torrecuadrada de Molina",
           null
          ],
          [
           "Torrecuadradilla",
           1020.426
          ],
          [
           "Torre del Burgo",
           null
          ],
          [
           "Torrejón del Rey",
           720.3807
          ],
          [
           "Torremocha de Jadraque",
           934.535
          ],
          [
           "Torremocha del Campo",
           1087.207
          ],
          [
           "Torremocha del Pinar",
           1278.072
          ],
          [
           "Torremochuela",
           1169.329
          ],
          [
           "Torrubia",
           1168.836
          ],
          [
           "Tórtola de Henares",
           723.7584
          ],
          [
           "Tortuera",
           1112.692
          ],
          [
           "Tortuero",
           896.6824
          ],
          [
           "Traíd",
           1391.918
          ],
          [
           "Trijueque",
           997.5736
          ],
          [
           "Trillo",
           734.2948
          ],
          [
           "Uceda",
           778.0472
          ],
          [
           "Ujados",
           1148.512
          ],
          [
           "Utande",
           838.1349
          ],
          [
           "Valdarachas",
           765.6512
          ],
          [
           "Valdearenas",
           786.662
          ],
          [
           "Valdeavellano",
           967.1561
          ],
          [
           "Valdeaveruelo",
           731.2949
          ],
          [
           "Valdeconcha",
           740.5092
          ],
          [
           "Valdegrudas",
           925.311
          ],
          [
           "Valdelcubo",
           1019.085
          ],
          [
           "Valdenuño Fernández",
           846.8645
          ],
          [
           "Valdepeñas de la Sierra",
           914.8377
          ],
          [
           "Valderrebollo",
           875.3423
          ],
          [
           "Valdesotos",
           835.3204
          ],
          [
           "Valfermoso de Tajuña",
           null
          ],
          [
           "Valhermoso",
           1229.919
          ],
          [
           "Valtablado del Río",
           842.2578
          ],
          [
           "Valverde de los Arroyos",
           1258.747
          ],
          [
           "Viana de Jadraque",
           868.2767
          ],
          [
           "Villanueva de Alcorón",
           1267.838
          ],
          [
           "Villanueva de Argecilla",
           1024.961
          ],
          [
           "Villanueva de la Torre",
           694
          ],
          [
           "Villares de Jadraque",
           null
          ],
          [
           "Villaseca de Henares",
           null
          ],
          [
           "Villaseca de Uceda",
           null
          ],
          [
           "Villel de Mesa",
           933.9042
          ],
          [
           "Viñuelas",
           903.8938
          ],
          [
           "Yebes",
           890.4029
          ],
          [
           "Yebra",
           753.6019
          ],
          [
           "Yélamos de Abajo",
           916.2587
          ],
          [
           "Yélamos de Arriba",
           947.1408
          ],
          [
           "Yunquera de Henares",
           695.682
          ],
          [
           "Yunta, La",
           1105.882
          ],
          [
           "Zaorejas",
           1225.005
          ],
          [
           "Zarzuela de Jadraque",
           1040.29
          ],
          [
           "Zorita de los Canes",
           596.4229
          ],
          [
           "Semillas",
           1201.821
          ],
          [
           "Abaltzisketa",
           null
          ],
          [
           "Aduna",
           null
          ],
          [
           "Aizarnazabal",
           null
          ],
          [
           "Albiztur",
           null
          ],
          [
           "Alegia",
           null
          ],
          [
           "Alkiza",
           null
          ],
          [
           "Altzo",
           null
          ],
          [
           "Amezketa",
           null
          ],
          [
           "Andoain",
           null
          ],
          [
           "Anoeta",
           null
          ],
          [
           "Antzuola",
           null
          ],
          [
           "Arama",
           null
          ],
          [
           "Aretxabaleta",
           null
          ],
          [
           "Asteasu",
           null
          ],
          [
           "Ataun",
           null
          ],
          [
           "Aia",
           null
          ],
          [
           "Azkoitia",
           null
          ],
          [
           "Azpeitia",
           null
          ],
          [
           "Beasain",
           null
          ],
          [
           "Beizama",
           null
          ],
          [
           "Belauntza",
           null
          ],
          [
           "Berastegi",
           null
          ],
          [
           "Berrobi",
           null
          ],
          [
           "Bidania-Goiatz",
           null
          ],
          [
           "Zegama",
           null
          ],
          [
           "Zerain",
           null
          ],
          [
           "Zestoa",
           null
          ],
          [
           "Zizurkil",
           null
          ],
          [
           "Deba",
           null
          ],
          [
           "Eibar",
           null
          ],
          [
           "Elduain",
           null
          ],
          [
           "Elgoibar",
           null
          ],
          [
           "Elgeta",
           null
          ],
          [
           "Eskoriatza",
           null
          ],
          [
           "Ezkio-Itsaso",
           null
          ],
          [
           "Hondarribia",
           null
          ],
          [
           "Gaintza",
           null
          ],
          [
           "Gabiria",
           null
          ],
          [
           "Getaria",
           null
          ],
          [
           "Hernani",
           null
          ],
          [
           "Hernialde",
           null
          ],
          [
           "Ibarra",
           null
          ],
          [
           "Idiazabal",
           null
          ],
          [
           "Ikaztegieta",
           null
          ],
          [
           "Irun",
           null
          ],
          [
           "Irura",
           null
          ],
          [
           "Itsasondo",
           null
          ],
          [
           "Larraul",
           null
          ],
          [
           "Lazkao",
           null
          ],
          [
           "Leaburu",
           null
          ],
          [
           "Legazpi",
           null
          ],
          [
           "Legorreta",
           null
          ],
          [
           "Lezo",
           null
          ],
          [
           "Lizartza",
           null
          ],
          [
           "Arrasate/Mondragón",
           null
          ],
          [
           "Mutriku",
           null
          ],
          [
           "Mutiloa",
           null
          ],
          [
           "Olaberria",
           null
          ],
          [
           "Oñati",
           null
          ],
          [
           "Orexa",
           null
          ],
          [
           "Orio",
           null
          ],
          [
           "Ormaiztegi",
           null
          ],
          [
           "Oiartzun",
           null
          ],
          [
           "Pasaia",
           null
          ],
          [
           "Soraluze-Placencia de las Armas",
           null
          ],
          [
           "Errezil",
           null
          ],
          [
           "Errenteria",
           null
          ],
          [
           "Leintz-Gatzaga",
           null
          ],
          [
           "Donostia/San Sebastián",
           null
          ],
          [
           "Segura",
           null
          ],
          [
           "Tolosa",
           null
          ],
          [
           "Urnieta",
           null
          ],
          [
           "Usurbil",
           null
          ],
          [
           "Bergara",
           null
          ],
          [
           "Villabona",
           null
          ],
          [
           "Ordizia",
           null
          ],
          [
           "Urretxu",
           null
          ],
          [
           "Zaldibia",
           null
          ],
          [
           "Zarautz",
           null
          ],
          [
           "Zumarraga",
           null
          ],
          [
           "Zumaia",
           null
          ],
          [
           "Mendaro",
           null
          ],
          [
           "Lasarte-Oria",
           null
          ],
          [
           "Astigarraga",
           null
          ],
          [
           "Baliarrain",
           null
          ],
          [
           "Orendain",
           null
          ],
          [
           "Altzaga",
           null
          ],
          [
           "Gaztelu",
           null
          ],
          [
           "Alájar",
           578.1751
          ],
          [
           "Aljaraque",
           36.69819
          ],
          [
           "Almendro, El",
           235.1584
          ],
          [
           "Almonaster la Real",
           581.577
          ],
          [
           "Almonte",
           77.07417
          ],
          [
           "Alosno",
           183.9688
          ],
          [
           "Aracena",
           673.9959
          ],
          [
           "Aroche",
           407.155
          ],
          [
           "Arroyomolinos de León",
           null
          ],
          [
           "Ayamonte",
           3.156081
          ],
          [
           "Beas",
           120.9826
          ],
          [
           "Berrocal",
           465.0762
          ],
          [
           "Bollullos Par del Condado",
           116.0159
          ],
          [
           "Bonares",
           82.23658
          ],
          [
           "Cabezas Rubias",
           222.5471
          ],
          [
           "Cala",
           594.0731
          ],
          [
           "Calañas",
           297.4208
          ],
          [
           "Campillo, El",
           434.6812
          ],
          [
           "Campofrío",
           518.697
          ],
          [
           "Cañaveral de León",
           545.9366
          ],
          [
           "Cartaya",
           24.17416
          ],
          [
           "Castaño del Robledo",
           739.8133
          ],
          [
           "Cerro de Andévalo, El",
           null
          ],
          [
           "Corteconcepción",
           581.7432
          ],
          [
           "Cortegana",
           686.309
          ],
          [
           "Cortelazor",
           624.8343
          ],
          [
           "Cumbres de Enmedio",
           592.3164
          ],
          [
           "Cumbres de San Bartolomé",
           579.4737
          ],
          [
           "Cumbres Mayores",
           694.7698
          ],
          [
           "Chucena",
           148.2157
          ],
          [
           "Encinasola",
           430.9646
          ],
          [
           "Escacena del Campo",
           172
          ],
          [
           "Fuenteheridos",
           711.6528
          ],
          [
           "Galaroza",
           562.1963
          ],
          [
           "Gibraleón",
           29.21607
          ],
          [
           "Granada de Río-Tinto, La",
           null
          ],
          [
           "Granado, El",
           18.32656
          ],
          [
           "Higuera de la Sierra",
           627.3121
          ],
          [
           "Hinojales",
           615.3049
          ],
          [
           "Hinojos",
           83.66503
          ],
          [
           "Huelva",
           20.74414
          ],
          [
           "Isla Cristina",
           6.336774
          ],
          [
           "Jabugo",
           658.2429
          ],
          [
           "Lepe",
           24.5359
          ],
          [
           "Linares de la Sierra",
           490.7656
          ],
          [
           "Lucena del Puerto",
           83.68538
          ],
          [
           "Manzanilla",
           163.7289
          ],
          [
           "Marines, Los",
           723.576
          ],
          [
           "Minas de Riotinto",
           417.6434
          ],
          [
           "Moguer",
           53.91101
          ],
          [
           "Nava, La",
           424.0233
          ],
          [
           "Nerva",
           336.9252
          ],
          [
           "Niebla",
           42.88836
          ],
          [
           "Palma del Condado, La",
           96.01058
          ],
          [
           "Palos de la Frontera",
           29.09229
          ],
          [
           "Paterna del Campo",
           184.3562
          ],
          [
           "Paymogo",
           180.5523
          ],
          [
           "Puebla de Guzmán",
           212.8246
          ],
          [
           "Puerto Moral",
           519.9462
          ],
          [
           "Punta Umbría",
           7.50116
          ],
          [
           "Rociana del Condado",
           97.39848
          ],
          [
           "Rosal de la Frontera",
           null
          ],
          [
           "San Bartolomé de la Torre",
           131.2254
          ],
          [
           "San Juan del Puerto",
           8
          ],
          [
           "Sanlúcar de Guadiana",
           15.38703
          ],
          [
           "San Silvestre de Guzmán",
           152.8138
          ],
          [
           "Santa Ana la Real",
           637.6948
          ],
          [
           "Santa Bárbara de Casa",
           310.5924
          ],
          [
           "Santa Olalla del Cala",
           518.6226
          ],
          [
           "Trigueros",
           78.58913
          ],
          [
           "Valdelarco",
           619.3045
          ],
          [
           "Valverde del Camino",
           282.4763
          ],
          [
           "Villablanca",
           95.63974
          ],
          [
           "Villalba del Alcor",
           161.8071
          ],
          [
           "Villanueva de las Cruces",
           119.6258
          ],
          [
           "Villanueva de los Castillejos",
           225
          ],
          [
           "Villarrasa",
           66.98409
          ],
          [
           "Zalamea la Real",
           409.5469
          ],
          [
           "Zufre",
           441.5297
          ],
          [
           "Zarza-Perrunal, La",
           null
          ],
          [
           "Abiego",
           527.2344
          ],
          [
           "Abizanda",
           603.4579
          ],
          [
           "Adahuesca",
           605.8567
          ],
          [
           "Agüero",
           665.527
          ],
          [
           "Aisa",
           1818.995
          ],
          [
           "Albalate de Cinca",
           193.5133
          ],
          [
           "Albalatillo",
           261.1216
          ],
          [
           "Albelda",
           364.2167
          ],
          [
           "Albero Alto",
           438.0544
          ],
          [
           "Albero Bajo",
           400
          ],
          [
           "Alberuela de Tubo",
           350.1249
          ],
          [
           "Alcalá de Gurrea",
           446.0858
          ],
          [
           "Alcalá del Obispo",
           512.0583
          ],
          [
           "Alcampell",
           503.4557
          ],
          [
           "Alcolea de Cinca",
           196.6943
          ],
          [
           "Alcubierre",
           452.4926
          ],
          [
           "Alerre",
           500
          ],
          [
           "Alfántega",
           248.8059
          ],
          [
           "Almudévar",
           401.6333
          ],
          [
           "Almunia de San Juan",
           352.0343
          ],
          [
           "Almuniente",
           340.9094
          ],
          [
           "Alquézar",
           629.8254
          ],
          [
           "Altorricón",
           264.4067
          ],
          [
           "Angüés",
           540
          ],
          [
           "Ansó",
           866.3192
          ],
          [
           "Antillón",
           488.7307
          ],
          [
           "Aragüés del Puerto",
           948.0828
          ],
          [
           "Arén",
           754.0966
          ],
          [
           "Argavieso",
           471.885
          ],
          [
           "Arguis",
           1058.686
          ],
          [
           "Ayerbe",
           592.9154
          ],
          [
           "Azanuy-Alins",
           449.2497
          ],
          [
           "Azara",
           440
          ],
          [
           "Azlor",
           487.5061
          ],
          [
           "Baélls",
           613.6285
          ],
          [
           "Bailo",
           700.7607
          ],
          [
           "Baldellou",
           464.8766
          ],
          [
           "Ballobar",
           158.806
          ],
          [
           "Banastás",
           534.7084
          ],
          [
           "Barbastro",
           336.4226
          ],
          [
           "Barbués",
           360.2759
          ],
          [
           "Barbuñales",
           459.5806
          ],
          [
           "Bárcabo",
           718.25
          ],
          [
           "Belver de Cinca",
           195.5677
          ],
          [
           "Benabarre",
           720.4813
          ],
          [
           "Benasque",
           1158.04
          ],
          [
           "Berbegal",
           513.5282
          ],
          [
           "Bielsa",
           1021.674
          ],
          [
           "Bierge",
           571.966
          ],
          [
           "Biescas",
           866.7526
          ],
          [
           "Binaced",
           281.8098
          ],
          [
           "Binéfar",
           288.9169
          ],
          [
           "Bisaurri",
           1059.666
          ],
          [
           "Biscarrués",
           460.8647
          ],
          [
           "Blecua y Torres",
           462.2051
          ],
          [
           "Boltaña",
           581.7597
          ],
          [
           "Bonansa",
           1248.454
          ],
          [
           "Borau",
           993.8726
          ],
          [
           "Broto",
           900.7473
          ],
          [
           "Caldearenas",
           646.5828
          ],
          [
           "Campo",
           666.6902
          ],
          [
           "Camporrélls",
           619.9485
          ],
          [
           "Canal de Berdún",
           657.1034
          ],
          [
           "Candasnos",
           285.8304
          ],
          [
           "Canfranc",
           1056.137
          ],
          [
           "Capdesaso",
           308.4349
          ],
          [
           "Capella",
           506.7932
          ],
          [
           "Casbas de Huesca",
           560.2505
          ],
          [
           "Castejón del Puente",
           346.0452
          ],
          [
           "Castejón de Monegros",
           470.3977
          ],
          [
           "Castejón de Sos",
           914.6373
          ],
          [
           "Castelflorite",
           310.2441
          ],
          [
           "Castiello de Jaca",
           898.745
          ],
          [
           "Castigaleu",
           836.4407
          ],
          [
           "Castillazuelo",
           362.4823
          ],
          [
           "Castillonroy",
           460.0535
          ],
          [
           "Colungo",
           592.0106
          ],
          [
           "Chalamera",
           194.1678
          ],
          [
           "Chía",
           1178.088
          ],
          [
           "Chimillas",
           521.475
          ],
          [
           "Esplús",
           280.312
          ],
          [
           "Estada",
           370.5751
          ],
          [
           "Estadilla",
           452.7106
          ],
          [
           "Estopiñán del Castillo",
           734.6618
          ],
          [
           "Fago",
           900
          ],
          [
           "Fanlo",
           1362.342
          ],
          [
           "Fiscal",
           768.2214
          ],
          [
           "Fonz",
           442.3823
          ],
          [
           "Foradada del Toscar",
           984.6446
          ],
          [
           "Fraga",
           129.2042
          ],
          [
           "Fueva, La",
           958.5854
          ],
          [
           "Gistaín",
           1436.18
          ],
          [
           "Grado, El",
           421.8172
          ],
          [
           "Grañén",
           328.7679
          ],
          [
           "Graus",
           457.7887
          ],
          [
           "Gurrea de Gállego",
           339.3757
          ],
          [
           "Hoz de Jaca",
           1257.866
          ],
          [
           "Huerto",
           372.563
          ],
          [
           "Huesca",
           467
          ],
          [
           "Ibieca",
           640
          ],
          [
           "Igriés",
           602.9488
          ],
          [
           "Ilche",
           321.2749
          ],
          [
           "Isábena",
           793.2245
          ],
          [
           "Jaca",
           815.3232
          ],
          [
           "Jasa",
           950.1556
          ],
          [
           "Labuerda",
           568.3488
          ],
          [
           "Laluenga",
           469.2747
          ],
          [
           "Lalueza",
           287.3316
          ],
          [
           "Lanaja",
           373.5856
          ],
          [
           "Laperdiguera",
           460.3023
          ],
          [
           "Lascellas-Ponzano",
           520
          ],
          [
           "Lascuarre",
           639.2742
          ],
          [
           "Laspaúles",
           1445.999
          ],
          [
           "Laspuña",
           699.6177
          ],
          [
           "Loarre",
           778.4832
          ],
          [
           "Loporzano",
           575.7261
          ],
          [
           "Loscorrales",
           622.3267
          ],
          [
           "Monesma y Cajigar",
           1022.985
          ],
          [
           "Monflorite-Lascasas",
           435.7766
          ],
          [
           "Montanuy",
           1190.101
          ],
          [
           "Monzón",
           283.2903
          ],
          [
           "Naval",
           605.8396
          ],
          [
           "Novales",
           448.5544
          ],
          [
           "Nueno",
           725.6004
          ],
          [
           "Olvena",
           516.8267
          ],
          [
           "Ontiñena",
           203.3611
          ],
          [
           "Osso de Cinca",
           171.382
          ],
          [
           "Palo",
           706.9058
          ],
          [
           "Panticosa",
           1168.466
          ],
          [
           "Peñalba",
           248.4572
          ],
          [
           "Peñas de Riglos, Las",
           675.6453
          ],
          [
           "Peralta de Alcofea",
           401.0762
          ],
          [
           "Peralta de Calasanz",
           749.5464
          ],
          [
           "Peraltilla",
           425.7468
          ],
          [
           "Perarrúa",
           509.4039
          ],
          [
           "Pertusa",
           349.1424
          ],
          [
           "Piracés",
           420.6216
          ],
          [
           "Plan",
           1009.788
          ],
          [
           "Poleñino",
           296.7819
          ],
          [
           "Pozán de Vero",
           395.2215
          ],
          [
           "Puebla de Castro, La",
           639.121
          ],
          [
           "Puente de Montañana",
           533.9636
          ],
          [
           "Puértolas",
           1167.452
          ],
          [
           "Pueyo de Araguás, El",
           683.9696
          ],
          [
           "Pueyo de Santa Cruz",
           253.1434
          ],
          [
           "Quicena",
           478.8754
          ],
          [
           "Robres",
           401.188
          ],
          [
           "Sabiñánigo",
           798.9523
          ],
          [
           "Sahún",
           1150.486
          ],
          [
           "Salas Altas",
           532.2599
          ],
          [
           "Salas Bajas",
           445.015
          ],
          [
           "Salillas",
           417.588
          ],
          [
           "Sallent de Gállego",
           1311.04
          ],
          [
           "San Esteban de Litera",
           429.2248
          ],
          [
           "Sangarrén",
           364.8689
          ],
          [
           "San Juan de Plan",
           1160.746
          ],
          [
           "Santa Cilia",
           645.163
          ],
          [
           "Santa Cruz de la Serós",
           782.9228
          ],
          [
           "Santaliestra y San Quílez",
           560.1749
          ],
          [
           "Sariñena",
           287.0003
          ],
          [
           "Secastilla",
           603.276
          ],
          [
           "Seira",
           898.3008
          ],
          [
           "Sena",
           218.4069
          ],
          [
           "Senés de Alcubierre",
           390.8914
          ],
          [
           "Sesa",
           443.4355
          ],
          [
           "Sesué",
           1010.999
          ],
          [
           "Siétamo",
           552.3276
          ],
          [
           "Sopeira",
           749.4668
          ],
          [
           "Tamarite de Litera",
           361.4778
          ],
          [
           "Tardienta",
           383.5266
          ],
          [
           "Tella-Sin",
           873.3126
          ],
          [
           "Tierz",
           465.9984
          ],
          [
           "Tolva",
           680.778
          ],
          [
           "Torla-Ordesa",
           null
          ],
          [
           "Torralba de Aragón",
           391.9379
          ],
          [
           "Torre la Ribera",
           null
          ],
          [
           "Torrente de Cinca",
           113.8372
          ],
          [
           "Torres de Alcanadre",
           390.6137
          ],
          [
           "Torres de Barbués",
           356.6004
          ],
          [
           "Tramaced",
           401.6354
          ],
          [
           "Valfarta",
           366.5498
          ],
          [
           "Valle de Bardají",
           null
          ],
          [
           "Valle de Lierp",
           null
          ],
          [
           "Velilla de Cinca",
           129.0712
          ],
          [
           "Beranuy",
           null
          ],
          [
           "Viacamp y Litera",
           892.478
          ],
          [
           "Vicién",
           397.6077
          ],
          [
           "Villanova",
           982.9814
          ],
          [
           "Villanúa",
           955.9241
          ],
          [
           "Villanueva de Sigena",
           231.32
          ],
          [
           "Yebra de Basa",
           890.7194
          ],
          [
           "Yésero",
           1076.43
          ],
          [
           "Zaidín",
           162.6138
          ],
          [
           "Valle de Hecho",
           null
          ],
          [
           "Puente la Reina de Jaca",
           621.0272
          ],
          [
           "San Miguel del Cinca",
           264.1327
          ],
          [
           "Sotonera, La",
           600.4966
          ],
          [
           "Lupiñén-Ortilla",
           464.1017
          ],
          [
           "Santa María de Dulcis",
           444.2901
          ],
          [
           "Aínsa-Sobrarbe",
           533.0886
          ],
          [
           "Hoz y Costean",
           567.6984
          ],
          [
           "Vencillón",
           199.0715
          ],
          [
           "Albanchez de Mágina",
           838.4496
          ],
          [
           "Alcalá la Real",
           929.4698
          ],
          [
           "Alcaudete",
           660.8123
          ],
          [
           "Aldeaquemada",
           700.2711
          ],
          [
           "Andújar",
           215.333
          ],
          [
           "Arjona",
           436.5915
          ],
          [
           "Arjonilla",
           348.891
          ],
          [
           "Arquillos",
           382.3034
          ],
          [
           "Baeza",
           759.475
          ],
          [
           "Bailén",
           350.999
          ],
          [
           "Baños de la Encina",
           419.4892
          ],
          [
           "Beas de Segura",
           581.1347
          ],
          [
           "Begíjar",
           556.9252
          ],
          [
           "Bélmez de la Moraleda",
           863.7288
          ],
          [
           "Benatae",
           854.9232
          ],
          [
           "Cabra del Santo Cristo",
           946.8475
          ],
          [
           "Cambil",
           766.1705
          ],
          [
           "Campillo de Arenas",
           null
          ],
          [
           "Canena",
           522.5807
          ],
          [
           "Carboneros",
           403.3349
          ],
          [
           "Carolina, La",
           598.452
          ],
          [
           "Castellar",
           755.1962
          ],
          [
           "Castillo de Locubín",
           702.9443
          ],
          [
           "Cazalilla",
           299.448
          ],
          [
           "Cazorla",
           803.9982
          ],
          [
           "Chiclana de Segura",
           849.2234
          ],
          [
           "Chilluévar",
           731.5903
          ],
          [
           "Escañuela",
           319.1237
          ],
          [
           "Espeluy",
           279.3584
          ],
          [
           "Frailes",
           965.3821
          ],
          [
           "Fuensanta de Martos",
           739.0327
          ],
          [
           "Fuerte del Rey",
           436.6272
          ],
          [
           "Génave",
           828.0142
          ],
          [
           "Guardia de Jaén, La",
           null
          ],
          [
           "Guarromán",
           348.1273
          ],
          [
           "Lahiguera",
           372.6848
          ],
          [
           "Higuera de Calatrava",
           327.069
          ],
          [
           "Hinojares",
           662.6468
          ],
          [
           "Hornos",
           856.1879
          ],
          [
           "Huelma",
           957.8574
          ],
          [
           "Huesa",
           633.4688
          ],
          [
           "Ibros",
           595.4207
          ],
          [
           "Iruela, La",
           940.507
          ],
          [
           "Iznatoraf",
           1037.591
          ],
          [
           "Jabalquinto",
           487.9245
          ],
          [
           "Jaén",
           576.3939
          ],
          [
           "Jamilena",
           754.0273
          ],
          [
           "Jimena",
           610.7731
          ],
          [
           "Jódar",
           650.8392
          ],
          [
           "Larva",
           736.2119
          ],
          [
           "Linares",
           410.825
          ],
          [
           "Lopera",
           272.2022
          ],
          [
           "Lupión",
           500.9033
          ],
          [
           "Mancha Real",
           759.8338
          ],
          [
           "Marmolejo",
           244.3259
          ],
          [
           "Martos",
           739.3722
          ],
          [
           "Mengíbar",
           322.3982
          ],
          [
           "Montizón",
           644.2109
          ],
          [
           "Navas de San Juan",
           660.0787
          ],
          [
           "Noalejo",
           1090.677
          ],
          [
           "Orcera",
           758.6879
          ],
          [
           "Peal de Becerro",
           548.8191
          ],
          [
           "Pegalajar",
           795.4036
          ],
          [
           "Porcuna",
           468.4524
          ],
          [
           "Pozo Alcón",
           866.2172
          ],
          [
           "Puente de Génave",
           546.5222
          ],
          [
           "Puerta de Segura, La",
           584.877
          ],
          [
           "Quesada",
           679.3597
          ],
          [
           "Rus",
           589.6185
          ],
          [
           "Sabiote",
           829.248
          ],
          [
           "Santa Elena",
           744.1349
          ],
          [
           "Santiago de Calatrava",
           391.0764
          ],
          [
           "Santisteban del Puerto",
           706.2657
          ],
          [
           "Santo Tomé",
           450.9806
          ],
          [
           "Segura de la Sierra",
           1110.403
          ],
          [
           "Siles",
           831.9842
          ],
          [
           "Sorihuela del Guadalimar",
           630.3478
          ],
          [
           "Torreblascopedro",
           329.4734
          ],
          [
           "Torredelcampo",
           null
          ],
          [
           "Torredonjimeno",
           585.9095
          ],
          [
           "Torreperogil",
           757.6904
          ],
          [
           "Torres",
           885.6928
          ],
          [
           "Torres de Albánchez",
           830.6685
          ],
          [
           "Úbeda",
           737.4617
          ],
          [
           "Valdepeñas de Jaén",
           921.3818
          ],
          [
           "Vilches",
           546.2039
          ],
          [
           "Villacarrillo",
           793.0148
          ],
          [
           "Villanueva de la Reina",
           220.4884
          ],
          [
           "Villanueva del Arzobispo",
           673.1283
          ],
          [
           "Villardompardo",
           443.1493
          ],
          [
           "Villares, Los",
           636.1295
          ],
          [
           "Villarrodrigo",
           870.652
          ],
          [
           "Cárcheles",
           797.9011
          ],
          [
           "Bedmar y Garcíez",
           645.4688
          ],
          [
           "Villatorres",
           302.4043
          ],
          [
           "Santiago-Pontones",
           1229.572
          ],
          [
           "Arroyo del Ojanco",
           null
          ],
          [
           "Acebedo",
           1156.151
          ],
          [
           "Algadefe",
           740.688
          ],
          [
           "Alija del Infantado",
           740.0895
          ],
          [
           "Almanza",
           920.5887
          ],
          [
           "Antigua, La",
           753.6923
          ],
          [
           "Ardón",
           781.1647
          ],
          [
           "Arganza",
           591.5208
          ],
          [
           "Astorga",
           877.6437
          ],
          [
           "Balboa",
           688.6499
          ],
          [
           "Bañeza, La",
           779.588
          ],
          [
           "Barjas",
           845.5484
          ],
          [
           "Barrios de Luna, Los",
           null
          ],
          [
           "Bembibre",
           650.2163
          ],
          [
           "Benavides",
           843.1052
          ],
          [
           "Benuza",
           790.2425
          ],
          [
           "Bercianos del Páramo",
           820.048
          ],
          [
           "Bercianos del Real Camino",
           854.1403
          ],
          [
           "Berlanga del Bierzo",
           794.8105
          ],
          [
           "Boca de Huérgano",
           1111.524
          ],
          [
           "Boñar",
           976.9141
          ],
          [
           "Borrenes",
           557.0456
          ],
          [
           "Brazuelo",
           968.3392
          ],
          [
           "Burgo Ranero, El",
           null
          ],
          [
           "Burón",
           1098.104
          ],
          [
           "Bustillo del Páramo",
           847.2374
          ],
          [
           "Cabañas Raras",
           564.647
          ],
          [
           "Cabreros del Río",
           764.4465
          ],
          [
           "Cabrillanes",
           1248.003
          ],
          [
           "Cacabelos",
           483.8384
          ],
          [
           "Calzada del Coto",
           823.7811
          ],
          [
           "Campazas",
           767.0551
          ],
          [
           "Campo de Villavidel",
           769.7337
          ],
          [
           "Camponaraya",
           490.8461
          ],
          [
           "Valle de Ancares",
           null
          ],
          [
           "Cármenes",
           1168.941
          ],
          [
           "Carracedelo",
           454.8716
          ],
          [
           "Carrizo",
           891.8846
          ],
          [
           "Carrocera",
           1050.971
          ],
          [
           "Carucedo",
           506.0289
          ],
          [
           "Castilfalé",
           824.5781
          ],
          [
           "Castrillo de Cabrera",
           1064.227
          ],
          [
           "Castrillo de la Valduerna",
           909.4456
          ],
          [
           "Castrocalbón",
           809.9485
          ],
          [
           "Castrocontrigo",
           915
          ],
          [
           "Castropodame",
           746.3535
          ],
          [
           "Castrotierra de Valmadrigal",
           849
          ],
          [
           "Cea",
           840.9099
          ],
          [
           "Cebanico",
           951.4104
          ],
          [
           "Cebrones del Río",
           759.5551
          ],
          [
           "Cimanes de la Vega",
           722.0102
          ],
          [
           "Cimanes del Tejar",
           900.9469
          ],
          [
           "Cistierna",
           948.1119
          ],
          [
           "Congosto",
           691.2043
          ],
          [
           "Corbillos de los Oteros",
           792
          ],
          [
           "Corullón",
           484.8051
          ],
          [
           "Crémenes",
           995.2369
          ],
          [
           "Cuadros",
           903.5613
          ],
          [
           "Cubillas de los Oteros",
           772.6264
          ],
          [
           "Cubillas de Rueda",
           893.3711
          ],
          [
           "Cubillos del Sil",
           584.8532
          ],
          [
           "Chozas de Abajo",
           882.439
          ],
          [
           "Destriana",
           893.5352
          ],
          [
           "Encinedo",
           983.8217
          ],
          [
           "Ercina, La",
           1098.1
          ],
          [
           "Escobar de Campos",
           823.3975
          ],
          [
           "Fabero",
           700.0787
          ],
          [
           "Folgoso de la Ribera",
           null
          ],
          [
           "Fresno de la Vega",
           null
          ],
          [
           "Fuentes de Carbajal",
           805.9653
          ],
          [
           "Garrafe de Torío",
           918.4145
          ],
          [
           "Gordaliza del Pino",
           822.9027
          ],
          [
           "Gordoncillo",
           749.6256
          ],
          [
           "Gradefes",
           855.98
          ],
          [
           "Grajal de Campos",
           804.4705
          ],
          [
           "Gusendos de los Oteros",
           799.3569
          ],
          [
           "Hospital de Órbigo",
           819.4772
          ],
          [
           "Igüeña",
           917.6442
          ],
          [
           "Izagre",
           783.4506
          ],
          [
           "Joarilla de las Matas",
           791.1022
          ],
          [
           "Laguna Dalga",
           800.6324
          ],
          [
           "Laguna de Negrillos",
           782
          ],
          [
           "León",
           841.3373
          ],
          [
           "Lucillo",
           1221.828
          ],
          [
           "Luyego",
           1050.455
          ],
          [
           "Llamas de la Ribera",
           897.8275
          ],
          [
           "Magaz de Cepeda",
           895.6011
          ],
          [
           "Mansilla de las Mulas",
           797.9987
          ],
          [
           "Mansilla Mayor",
           792.6296
          ],
          [
           "Maraña",
           1240.478
          ],
          [
           "Matadeón de los Oteros",
           862.5037
          ],
          [
           "Matallana de Torío",
           1012.9
          ],
          [
           "Matanza",
           832.1714
          ],
          [
           "Molinaseca",
           581.7184
          ],
          [
           "Murias de Paredes",
           1247.882
          ],
          [
           "Noceda del Bierzo",
           829.9746
          ],
          [
           "Oencia",
           842.3768
          ],
          [
           "Omañas, Las",
           936.036
          ],
          [
           "Onzonilla",
           806.4099
          ],
          [
           "Oseja de Sajambre",
           762.0876
          ],
          [
           "Pajares de los Oteros",
           790.4992
          ],
          [
           "Palacios de la Valduerna",
           795.884
          ],
          [
           "Palacios del Sil",
           876.0037
          ],
          [
           "Páramo del Sil",
           null
          ],
          [
           "Peranzanes",
           944.1578
          ],
          [
           "Pobladura de Pelayo García",
           797
          ],
          [
           "Pola de Gordón, La",
           1012.029
          ],
          [
           "Ponferrada",
           537.8424
          ],
          [
           "Posada de Valdeón",
           915.0911
          ],
          [
           "Pozuelo del Páramo",
           null
          ],
          [
           "Prado de la Guzpeña",
           1052.656
          ],
          [
           "Priaranza del Bierzo",
           512.7617
          ],
          [
           "Prioro",
           1116.744
          ],
          [
           "Puebla de Lillo",
           1142.314
          ],
          [
           "Puente de Domingo Flórez",
           376.8705
          ],
          [
           "Quintana del Castillo",
           1015.925
          ],
          [
           "Quintana del Marco",
           747.4242
          ],
          [
           "Quintana y Congosto",
           815.3561
          ],
          [
           "Regueras de Arriba",
           null
          ],
          [
           "Reyero",
           1147.963
          ],
          [
           "Riaño",
           1110.109
          ],
          [
           "Riego de la Vega",
           809.6022
          ],
          [
           "Riello",
           1050.043
          ],
          [
           "Rioseco de Tapia",
           954.6298
          ],
          [
           "Robla, La",
           958.3334
          ],
          [
           "Roperuelos del Páramo",
           772
          ],
          [
           "Sabero",
           984.9694
          ],
          [
           "Sahagún",
           823.8625
          ],
          [
           "San Adrián del Valle",
           731.8175
          ],
          [
           "San Andrés del Rabanedo",
           855.3212
          ],
          [
           "Sancedo",
           685.0873
          ],
          [
           "San Cristóbal de la Polantera",
           799.5095
          ],
          [
           "San Emiliano",
           1182.807
          ],
          [
           "San Esteban de Nogales",
           785.158
          ],
          [
           "San Justo de la Vega",
           851.7037
          ],
          [
           "San Millán de los Caballeros",
           750.4792
          ],
          [
           "San Pedro Bercianos",
           823.5859
          ],
          [
           "Santa Colomba de Curueño",
           926.4728
          ],
          [
           "Santa Colomba de Somoza",
           998.198
          ],
          [
           "Santa Cristina de Valmadrigal",
           806.7304
          ],
          [
           "Santa Elena de Jamuz",
           767.0479
          ],
          [
           "Santa María de la Isla",
           788.8663
          ],
          [
           "Santa María del Monte de Cea",
           889.7578
          ],
          [
           "Santa María del Páramo",
           812.0701
          ],
          [
           "Santa María de Ordás",
           949.3904
          ],
          [
           "Santa Marina del Rey",
           845.9294
          ],
          [
           "Santas Martas",
           834.6781
          ],
          [
           "Santiago Millas",
           933.2487
          ],
          [
           "Santovenia de la Valdoncina",
           839.5405
          ],
          [
           "Sariegos",
           870.648
          ],
          [
           "Sena de Luna",
           1146.444
          ],
          [
           "Sobrado",
           441.7868
          ],
          [
           "Soto de la Vega",
           779.906
          ],
          [
           "Soto y Amío",
           1063.305
          ],
          [
           "Toral de los Guzmanes",
           744.2477
          ],
          [
           "Toreno",
           653.8434
          ],
          [
           "Torre del Bierzo",
           null
          ],
          [
           "Trabadelo",
           573.4517
          ],
          [
           "Truchas",
           1119.999
          ],
          [
           "Turcia",
           850.9941
          ],
          [
           "Urdiales del Páramo",
           810.6698
          ],
          [
           "Valdefresno",
           871.7318
          ],
          [
           "Valdefuentes del Páramo",
           786.8314
          ],
          [
           "Valdelugueros",
           1194.567
          ],
          [
           "Valdemora",
           777.129
          ],
          [
           "Valdepiélago",
           1030.69
          ],
          [
           "Valdepolo",
           873.5519
          ],
          [
           "Valderas",
           752.0427
          ],
          [
           "Valderrey",
           830.6566
          ],
          [
           "Valderrueda",
           1023.137
          ],
          [
           "Valdesamario",
           1021.253
          ],
          [
           "Val de San Lorenzo",
           886.899
          ],
          [
           "Valdevimbre",
           810.7202
          ],
          [
           "Valencia de Don Juan",
           767.8869
          ],
          [
           "Valverde de la Virgen",
           890.2882
          ],
          [
           "Valverde-Enrique",
           833.2962
          ],
          [
           "Vallecillo",
           846.0903
          ],
          [
           "Vecilla, La",
           1009.372
          ],
          [
           "Vegacervera",
           1046.433
          ],
          [
           "Vega de Espinareda",
           607.2139
          ],
          [
           "Vega de Infanzones",
           780
          ],
          [
           "Vega de Valcarce",
           629.737
          ],
          [
           "Vegaquemada",
           938.0208
          ],
          [
           "Vegas del Condado",
           862
          ],
          [
           "Villablino",
           989.2762
          ],
          [
           "Villabraz",
           847.0239
          ],
          [
           "Villadangos del Páramo",
           899.3542
          ],
          [
           "Toral de los Vados",
           null
          ],
          [
           "Villademor de la Vega",
           748.9046
          ],
          [
           "Villafranca del Bierzo",
           518.9436
          ],
          [
           "Villagatón",
           1015.718
          ],
          [
           "Villamandos",
           727.7506
          ],
          [
           "Villamañán",
           762.7079
          ],
          [
           "Villamartín de Don Sancho",
           892.331
          ],
          [
           "Villamejil",
           909.9926
          ],
          [
           "Villamol",
           819.0361
          ],
          [
           "Villamontán de la Valduerna",
           822.5558
          ],
          [
           "Villamoratiel de las Matas",
           845.7986
          ],
          [
           "Villanueva de las Manzanas",
           780.3629
          ],
          [
           "Villaobispo de Otero",
           868.2292
          ],
          [
           "Villaquejida",
           724.3493
          ],
          [
           "Villaquilambre",
           864.2917
          ],
          [
           "Villarejo de Órbigo",
           816.7586
          ],
          [
           "Villares de Órbigo",
           null
          ],
          [
           "Villasabariego",
           851.8769
          ],
          [
           "Villaselán",
           862.9064
          ],
          [
           "Villaturiel",
           797.6174
          ],
          [
           "Villazala",
           799.6208
          ],
          [
           "Villazanzo de Valderaduey",
           916.1418
          ],
          [
           "Zotes del Páramo",
           782.1282
          ],
          [
           "Villamanín",
           1138.44
          ],
          [
           "Villaornate y Castro",
           737.9659
          ],
          [
           "Abella de la Conca",
           952.1764
          ],
          [
           "Àger",
           607.9741
          ],
          [
           "Agramunt",
           338.7131
          ],
          [
           "Alamús, Els",
           207.9185
          ],
          [
           "Alàs i Cerc",
           745.4337
          ],
          [
           "Albagés, L'",
           370.0416
          ],
          [
           "Albatàrrec",
           151.8978
          ],
          [
           "Albesa",
           238.3108
          ],
          [
           "Albi, L'",
           534.4882
          ],
          [
           "Alcanó",
           216.0127
          ],
          [
           "Alcarràs",
           136.5219
          ],
          [
           "Alcoletge",
           213.2258
          ],
          [
           "Alfarràs",
           298.5017
          ],
          [
           "Alfés",
           233.033
          ],
          [
           "Algerri",
           347.6021
          ],
          [
           "Alguaire",
           282.0707
          ],
          [
           "Alins",
           1056.239
          ],
          [
           "Almacelles",
           249.5397
          ],
          [
           "Almatret",
           468.0571
          ],
          [
           "Almenar",
           300.9621
          ],
          [
           "Alòs de Balaguer",
           298.3662
          ],
          [
           "Alpicat",
           264.9039
          ],
          [
           "Alt Àneu",
           1091.135
          ],
          [
           "Naut Aran",
           1273.032
          ],
          [
           "Anglesola",
           342
          ],
          [
           "Arbeca",
           306.752
          ],
          [
           "Pont de Bar, El",
           867.9058
          ],
          [
           "Arres",
           1300.125
          ],
          [
           "Arsèguel",
           985.8667
          ],
          [
           "Artesa de Lleida",
           201.7782
          ],
          [
           "Artesa de Segre",
           332.3418
          ],
          [
           "Sentiu de Sió, La",
           253.8751
          ],
          [
           "Aspa",
           256.8022
          ],
          [
           "Avellanes i Santa Linya, Les",
           571.9478
          ],
          [
           "Aitona",
           114.3093
          ],
          [
           "Baix Pallars",
           606.2668
          ],
          [
           "Balaguer",
           227.2513
          ],
          [
           "Barbens",
           284.5768
          ],
          [
           "Baronia de Rialb, La",
           598.8065
          ],
          [
           "Vall de Boí, La",
           1100
          ],
          [
           "Bassella",
           413.0881
          ],
          [
           "Bausen",
           904.0203
          ],
          [
           "Belianes",
           375.9277
          ],
          [
           "Bellcaire d'Urgell",
           264.6959
          ],
          [
           "Bell-lloc d'Urgell",
           199.3234
          ],
          [
           "Bellmunt d'Urgell",
           347.8303
          ],
          [
           "Bellpuig",
           293.6344
          ],
          [
           "Bellver de Cerdanya",
           1033.611
          ],
          [
           "Bellvís",
           209
          ],
          [
           "Benavent de Segrià",
           234.1884
          ],
          [
           "Biosca",
           433.4449
          ],
          [
           "Bovera",
           302.8737
          ],
          [
           "Bòrdes, Es",
           843.9403
          ],
          [
           "Borges Blanques, Les",
           305.5594
          ],
          [
           "Bossòst",
           712.4904
          ],
          [
           "Cabanabona",
           427.6726
          ],
          [
           "Cabó",
           722.8973
          ],
          [
           "Camarasa",
           259.0302
          ],
          [
           "Canejan",
           824.3683
          ],
          [
           "Castellar de la Ribera",
           null
          ],
          [
           "Castelldans",
           354.4236
          ],
          [
           "Castellnou de Seana",
           275.9631
          ],
          [
           "Castelló de Farfanya",
           322.9813
          ],
          [
           "Castellserà",
           269.1279
          ],
          [
           "Cava",
           1260.723
          ],
          [
           "Cervera",
           514.1133
          ],
          [
           "Cervià de les Garrigues",
           455.9915
          ],
          [
           "Ciutadilla",
           490.5793
          ],
          [
           "Clariana de Cardener",
           505.0493
          ],
          [
           "Cogul, El",
           281.9914
          ],
          [
           "Coll de Nargó",
           562.6977
          ],
          [
           "Corbins",
           195.6501
          ],
          [
           "Cubells",
           470.9419
          ],
          [
           "Espluga Calba, L'",
           430.8572
          ],
          [
           "Espot",
           1329.839
          ],
          [
           "Estaràs",
           592.5443
          ],
          [
           "Esterri d'Àneu",
           958.5542
          ],
          [
           "Esterri de Cardós",
           1192.209
          ],
          [
           "Estamariu",
           1044.079
          ],
          [
           "Farrera",
           1347.608
          ],
          [
           "Floresta, La",
           326.3009
          ],
          [
           "Fondarella",
           239.177
          ],
          [
           "Foradada",
           433.8825
          ],
          [
           "Fuliola, La",
           273.3843
          ],
          [
           "Fulleda",
           580.2524
          ],
          [
           "Gavet de la Conca",
           419.0891
          ],
          [
           "Golmés",
           270.857
          ],
          [
           "Gósol",
           1425.53
          ],
          [
           "Granadella, La",
           519.9661
          ],
          [
           "Granja d'Escarp, La",
           null
          ],
          [
           "Granyanella",
           507.9074
          ],
          [
           "Granyena de Segarra",
           585.0941
          ],
          [
           "Granyena de les Garrigues",
           357.5183
          ],
          [
           "Guimerà",
           512.8314
          ],
          [
           "Guissona",
           494.9318
          ],
          [
           "Guixers",
           877.1038
          ],
          [
           "Ivars de Noguera",
           326.9235
          ],
          [
           "Ivars d'Urgell",
           265.9485
          ],
          [
           "Ivorra",
           553.0552
          ],
          [
           "Isona i Conca Dellà",
           659.2741
          ],
          [
           "Juncosa",
           572.8483
          ],
          [
           "Juneda",
           266.91
          ],
          [
           "Lleida",
           166.4499
          ],
          [
           "Les",
           638.8151
          ],
          [
           "Linyola",
           249.5356
          ],
          [
           "Lladorre",
           1071.652
          ],
          [
           "Lladurs",
           820
          ],
          [
           "Llardecans",
           397.0908
          ],
          [
           "Llavorsí",
           796.6211
          ],
          [
           "Lles de Cerdanya",
           1467.283
          ],
          [
           "Llimiana",
           753.4308
          ],
          [
           "Llobera",
           846.8084
          ],
          [
           "Maldà",
           418.2859
          ],
          [
           "Massalcoreig",
           94.94318
          ],
          [
           "Massoteres",
           503.74
          ],
          [
           "Maials",
           374.7433
          ],
          [
           "Menàrguens",
           208.0313
          ],
          [
           "Miralcamp",
           267.9695
          ],
          [
           "Molsosa, La",
           641.0245
          ],
          [
           "Mollerussa",
           255.1743
          ],
          [
           "Montgai",
           285.5883
          ],
          [
           "Montellà i Martinet",
           960.6633
          ],
          [
           "Montferrer i Castellbò",
           718.1434
          ],
          [
           "Montoliu de Segarra",
           683.5535
          ],
          [
           "Montoliu de Lleida",
           148.1022
          ],
          [
           "Montornès de Segarra",
           586.9286
          ],
          [
           "Nalec",
           468.2451
          ],
          [
           "Navès",
           602.2256
          ],
          [
           "Odèn",
           1283.885
          ],
          [
           "Oliana",
           456.1855
          ],
          [
           "Oliola",
           415.9434
          ],
          [
           "Olius",
           555.1147
          ],
          [
           "Oluges, Les",
           520.3976
          ],
          [
           "Omellons, Els",
           383.1201
          ],
          [
           "Omells de na Gaia, Els",
           559.9135
          ],
          [
           "Organyà",
           551.4544
          ],
          [
           "Os de Balaguer",
           462.0808
          ],
          [
           "Ossó de Sió",
           387.8812
          ],
          [
           "Palau d'Anglesola, El",
           239.3142
          ],
          [
           "Conca de Dalt",
           502.1039
          ],
          [
           "Coma i la Pedra, La",
           961.528
          ],
          [
           "Penelles",
           283.3288
          ],
          [
           "Peramola",
           565.0052
          ],
          [
           "Pinell de Solsonès",
           632.7087
          ],
          [
           "Pinós",
           798.8068
          ],
          [
           "Poal, El",
           213.3557
          ],
          [
           "Pobla de Cérvoles, La",
           null
          ],
          [
           "Bellaguarda",
           630.9696
          ],
          [
           "Pobla de Segur, La",
           null
          ],
          [
           "Ponts",
           365.3082
          ],
          [
           "Pont de Suert, El",
           829.2844
          ],
          [
           "Portella, La",
           255.1998
          ],
          [
           "Prats i Sansor",
           1104.549
          ],
          [
           "Preixana",
           310.7234
          ],
          [
           "Preixens",
           310.299
          ],
          [
           "Prullans",
           1148.77
          ],
          [
           "Puiggròs",
           316.5753
          ],
          [
           "Puigverd d'Agramunt",
           347.943
          ],
          [
           "Puigverd de Lleida",
           211.46
          ],
          [
           "Rialp",
           716.666
          ],
          [
           "Ribera d'Urgellet",
           647.853
          ],
          [
           "Riner",
           698.1688
          ],
          [
           "Rosselló",
           257
          ],
          [
           "Salàs de Pallars",
           544.2087
          ],
          [
           "Sanaüja",
           405.1787
          ],
          [
           "Sant Guim de Freixenet",
           742.983
          ],
          [
           "Sant Llorenç de Morunys",
           931.3393
          ],
          [
           "Sant Ramon",
           660.8257
          ],
          [
           "Sant Esteve de la Sarga",
           906.1107
          ],
          [
           "Sant Guim de la Plana",
           554.3297
          ],
          [
           "Sarroca de Lleida",
           194.3455
          ],
          [
           "Sarroca de Bellera",
           958.9928
          ],
          [
           "Senterada",
           735.4564
          ],
          [
           "Seu d'Urgell, La",
           687.3732
          ],
          [
           "Seròs",
           105.2147
          ],
          [
           "Sidamon",
           230.7424
          ],
          [
           "Soleràs, El",
           389.3676
          ],
          [
           "Solsona",
           679.2817
          ],
          [
           "Soriguera",
           1182.144
          ],
          [
           "Sort",
           690.4686
          ],
          [
           "Soses",
           124.5909
          ],
          [
           "Sudanell",
           156.6789
          ],
          [
           "Sunyer",
           213.2605
          ],
          [
           "Talarn",
           543.7527
          ],
          [
           "Talavera",
           757.597
          ],
          [
           "Tàrrega",
           382.5588
          ],
          [
           "Tarrés",
           585.189
          ],
          [
           "Tarroja de Segarra",
           467.2543
          ],
          [
           "Térmens",
           208.6154
          ],
          [
           "Tírvia",
           1019.093
          ],
          [
           "Tiurana",
           395.5405
          ],
          [
           "Torà",
           436.7267
          ],
          [
           "Torms, Els",
           465.9422
          ],
          [
           "Tornabous",
           294.4711
          ],
          [
           "Torrebesses",
           262.0064
          ],
          [
           "Torre de Cabdella, La",
           null
          ],
          [
           "Torrefarrera",
           218.273
          ],
          [
           "Torregrossa",
           238.2074
          ],
          [
           "Torrelameu",
           202.6676
          ],
          [
           "Torres de Segre",
           125.5436
          ],
          [
           "Torre-serona",
           194.7614
          ],
          [
           "Tremp",
           470.7209
          ],
          [
           "Vallbona de les Monges",
           494.5486
          ],
          [
           "Valls de Valira, Les",
           756.8403
          ],
          [
           "Vallfogona de Balaguer",
           232.8295
          ],
          [
           "Verdú",
           437.169
          ],
          [
           "Vielha e Mijaran",
           990.1799
          ],
          [
           "Vilagrassa",
           355.2005
          ],
          [
           "Vilaller",
           980.9213
          ],
          [
           "Vilamòs",
           1260.609
          ],
          [
           "Vilanova de Bellpuig",
           293.5143
          ],
          [
           "Vilanova de l'Aguda",
           398.3846
          ],
          [
           "Vilanova de Meià",
           608.9849
          ],
          [
           "Vilanova de Segrià",
           255.3218
          ],
          [
           "Vila-sana",
           249.5091
          ],
          [
           "Vilosell, El",
           655.3639
          ],
          [
           "Vilanova de la Barca",
           197.9396
          ],
          [
           "Vinaixa",
           483.3008
          ],
          [
           "Vall de Cardós",
           938.0867
          ],
          [
           "Sant Martí de Riucorb",
           407.3113
          ],
          [
           "Guingueta d'Àneu, La",
           950.3268
          ],
          [
           "Castell de Mur",
           null
          ],
          [
           "Ribera d'Ondara",
           557.7328
          ],
          [
           "Valls d'Aguilar, Les",
           643.6229
          ],
          [
           "Torrefeta i Florejacs",
           473.3801
          ],
          [
           "Fígols i Alinyà",
           638.1115
          ],
          [
           "Vansa i Fórnols, La",
           1115.894
          ],
          [
           "Josa i Tuixén",
           1182.531
          ],
          [
           "Plans de Sió, Els",
           412.8737
          ],
          [
           "Gimenells i el Pla de la Font",
           258.7494
          ],
          [
           "Riu de Cerdanya",
           1174.395
          ],
          [
           "Ábalos",
           590.3367
          ],
          [
           "Agoncillo",
           346.0684
          ],
          [
           "Aguilar del Río Alhama",
           642.4493
          ],
          [
           "Ajamil de Cameros",
           1013.896
          ],
          [
           "Albelda de Iregua",
           527.8994
          ],
          [
           "Alberite",
           451.6525
          ],
          [
           "Alcanadre",
           346.884
          ],
          [
           "Aldeanueva de Ebro",
           347
          ],
          [
           "Alesanco",
           565.6456
          ],
          [
           "Alesón",
           573.7119
          ],
          [
           "Alfaro",
           308.5974
          ],
          [
           "Almarza de Cameros",
           1069.351
          ],
          [
           "Anguciana",
           479.3135
          ],
          [
           "Anguiano",
           652.6512
          ],
          [
           "Arenzana de Abajo",
           546.6681
          ],
          [
           "Arenzana de Arriba",
           597.5667
          ],
          [
           "Arnedillo",
           671.225
          ],
          [
           "Arnedo",
           529.8414
          ],
          [
           "Arrúbal",
           356.6617
          ],
          [
           "Ausejo",
           559.8897
          ],
          [
           "Autol",
           447.7715
          ],
          [
           "Azofra",
           549.5315
          ],
          [
           "Badarán",
           626.2255
          ],
          [
           "Bañares",
           594.9688
          ],
          [
           "Baños de Rioja",
           549.6365
          ],
          [
           "Baños de Río Tobía",
           579.7742
          ],
          [
           "Berceo",
           725.8651
          ],
          [
           "Bergasa",
           659.4448
          ],
          [
           "Bergasillas Bajera",
           835.3159
          ],
          [
           "Bezares",
           691.6075
          ],
          [
           "Bobadilla",
           575.4393
          ],
          [
           "Brieva de Cameros",
           962.1104
          ],
          [
           "Briñas",
           451.1893
          ],
          [
           "Briones",
           502.3963
          ],
          [
           "Cabezón de Cameros",
           933.9756
          ],
          [
           "Calahorra",
           350.8057
          ],
          [
           "Camprovín",
           655.001
          ],
          [
           "Canales de la Sierra",
           1034.365
          ],
          [
           "Canillas de Río Tuerto",
           622.8653
          ],
          [
           "Cañas",
           644.0715
          ],
          [
           "Cárdenas",
           569.4557
          ],
          [
           "Casalarreina",
           499.5124
          ],
          [
           "Castañares de Rioja",
           544.8438
          ],
          [
           "Castroviejo",
           957.0941
          ],
          [
           "Cellorigo",
           779.0795
          ],
          [
           "Cenicero",
           433.9284
          ],
          [
           "Cervera del Río Alhama",
           533.9604
          ],
          [
           "Cidamón",
           584.6813
          ],
          [
           "Cihuri",
           487.6716
          ],
          [
           "Cirueña",
           753.5059
          ],
          [
           "Clavijo",
           870.1968
          ],
          [
           "Cordovín",
           591.1239
          ],
          [
           "Corera",
           524.1997
          ],
          [
           "Cornago",
           700.761
          ],
          [
           "Corporales",
           729.3324
          ],
          [
           "Cuzcurrita de Río Tirón",
           518.9031
          ],
          [
           "Daroca de Rioja",
           718.0956
          ],
          [
           "Enciso",
           800.3494
          ],
          [
           "Entrena",
           556.1802
          ],
          [
           "Estollo",
           748.5827
          ],
          [
           "Ezcaray",
           813.0378
          ],
          [
           "Foncea",
           696.9241
          ],
          [
           "Fonzaleche",
           558.2291
          ],
          [
           "Fuenmayor",
           436.0469
          ],
          [
           "Galbárruli",
           656.6448
          ],
          [
           "Galilea",
           558.0848
          ],
          [
           "Gallinero de Cameros",
           1052.772
          ],
          [
           "Gimileo",
           480.4563
          ],
          [
           "Grañón",
           728.1026
          ],
          [
           "Grávalos",
           757.1207
          ],
          [
           "Haro",
           478.9891
          ],
          [
           "Herce",
           592.4082
          ],
          [
           "Herramélluri",
           572.0812
          ],
          [
           "Hervías",
           655.4955
          ],
          [
           "Hormilla",
           515.5236
          ],
          [
           "Hormilleja",
           492.3883
          ],
          [
           "Hornillos de Cameros",
           1145.726
          ],
          [
           "Hornos de Moncalvillo",
           677.0172
          ],
          [
           "Huércanos",
           514.9982
          ],
          [
           "Igea",
           568.7258
          ],
          [
           "Jalón de Cameros",
           869.4159
          ],
          [
           "Laguna de Cameros",
           1043.967
          ],
          [
           "Lagunilla del Jubera",
           612.0925
          ],
          [
           "Lardero",
           438.448
          ],
          [
           "Ledesma de la Cogolla",
           748.3919
          ],
          [
           "Leiva",
           586.0123
          ],
          [
           "Leza de Río Leza",
           574.0675
          ],
          [
           "Logroño",
           396.4728
          ],
          [
           "Lumbreras de Cameros",
           null
          ],
          [
           "Manjarrés",
           630.46
          ],
          [
           "Mansilla de la Sierra",
           959.0128
          ],
          [
           "Manzanares de Rioja",
           800.946
          ],
          [
           "Matute",
           685.0762
          ],
          [
           "Medrano",
           599.9323
          ],
          [
           "Munilla",
           801.2989
          ],
          [
           "Murillo de Río Leza",
           409.3719
          ],
          [
           "Muro de Aguas",
           881.153
          ],
          [
           "Muro en Cameros",
           1102.083
          ],
          [
           "Nájera",
           491.8676
          ],
          [
           "Nalda",
           621.6317
          ],
          [
           "Navajún",
           927.8933
          ],
          [
           "Navarrete",
           505.4879
          ],
          [
           "Nestares",
           861.1385
          ],
          [
           "Nieva de Cameros",
           1008.789
          ],
          [
           "Ocón",
           885.0756
          ],
          [
           "Ochánduri",
           550.3547
          ],
          [
           "Ojacastro",
           792.9922
          ],
          [
           "Ollauri",
           499.6054
          ],
          [
           "Ortigosa de Cameros",
           1061.807
          ],
          [
           "Pazuengos",
           1160.065
          ],
          [
           "Pedroso",
           1699.063
          ],
          [
           "Pinillos",
           1009.915
          ],
          [
           "Pradejón",
           364.7923
          ],
          [
           "Pradillo",
           884.1365
          ],
          [
           "Préjano",
           705.9279
          ],
          [
           "Quel",
           477.9927
          ],
          [
           "Rabanera",
           973.8629
          ],
          [
           "Rasillo de Cameros, El",
           1098.583
          ],
          [
           "Redal, El",
           530.1921
          ],
          [
           "Ribafrecha",
           499.8856
          ],
          [
           "Rincón de Soto",
           291.5012
          ],
          [
           "Robres del Castillo",
           732.1305
          ],
          [
           "Rodezno",
           546.4205
          ],
          [
           "Sajazarra",
           515.8929
          ],
          [
           "San Asensio",
           535.0013
          ],
          [
           "San Millán de la Cogolla",
           725.5252
          ],
          [
           "San Millán de Yécora",
           658
          ],
          [
           "San Román de Cameros",
           841.6791
          ],
          [
           "Santa Coloma",
           763.788
          ],
          [
           "Santa Engracia del Jubera",
           651.6323
          ],
          [
           "Santa Eulalia Bajera",
           633.9897
          ],
          [
           "Santo Domingo de la Calzada",
           641.3798
          ],
          [
           "San Torcuato",
           599.8317
          ],
          [
           "Santurde de Rioja",
           713.6771
          ],
          [
           "Santurdejo",
           776.8748
          ],
          [
           "San Vicente de la Sonsierra",
           499.6028
          ],
          [
           "Sojuela",
           666.7807
          ],
          [
           "Sorzano",
           722.3146
          ],
          [
           "Sotés",
           670.8347
          ],
          [
           "Soto en Cameros",
           732.1506
          ],
          [
           "Terroba",
           799.225
          ],
          [
           "Tirgo",
           521.4808
          ],
          [
           "Tobía",
           689.8137
          ],
          [
           "Tormantos",
           608.6924
          ],
          [
           "Torrecilla en Cameros",
           751.1946
          ],
          [
           "Torrecilla sobre Alesanco",
           613.0709
          ],
          [
           "Torre en Cameros",
           null
          ],
          [
           "Torremontalbo",
           424.9834
          ],
          [
           "Treviana",
           586.3843
          ],
          [
           "Tricio",
           563.7631
          ],
          [
           "Tudelilla",
           541.8914
          ],
          [
           "Uruñuela",
           498.3737
          ],
          [
           "Valdemadera",
           965.7645
          ],
          [
           "Valgañón",
           937.2846
          ],
          [
           "Ventosa",
           640.8217
          ],
          [
           "Ventrosa",
           968.6185
          ],
          [
           "Viguera",
           687.5367
          ],
          [
           "Villalba de Rioja",
           552.1461
          ],
          [
           "Villalobar de Rioja",
           586.6432
          ],
          [
           "Villamediana de Iregua",
           444.9522
          ],
          [
           "Villanueva de Cameros",
           886.7664
          ],
          [
           "Villar de Arnedo, El",
           433.9665
          ],
          [
           "Villar de Torre",
           766.6995
          ],
          [
           "Villarejo",
           833.6031
          ],
          [
           "Villarroya",
           920.0107
          ],
          [
           "Villarta-Quintana",
           754.0377
          ],
          [
           "Villavelayo",
           952.2856
          ],
          [
           "Villaverde de Rioja",
           798.5352
          ],
          [
           "Villoslada de Cameros",
           1072.263
          ],
          [
           "Viniegra de Abajo",
           887.5325
          ],
          [
           "Viniegra de Arriba",
           1193.244
          ],
          [
           "Zarratón",
           560.7578
          ],
          [
           "Zarzosa",
           937.8779
          ],
          [
           "Zorraquín",
           872.1453
          ],
          [
           "Abadín",
           475.1587
          ],
          [
           "Alfoz",
           56.10721
          ],
          [
           "Antas de Ulla",
           558.4615
          ],
          [
           "Baleira",
           661.8257
          ],
          [
           "Barreiros",
           193.2786
          ],
          [
           "Becerreá",
           641.6993
          ],
          [
           "Begonte",
           416.7638
          ],
          [
           "Bóveda",
           358.4192
          ],
          [
           "Carballedo",
           556.9655
          ],
          [
           "Castro de Rei",
           431.6718
          ],
          [
           "Castroverde",
           589.1481
          ],
          [
           "Cervantes",
           648.1846
          ],
          [
           "Cervo",
           59.01057
          ],
          [
           "Corgo, O",
           423.9196
          ],
          [
           "Cospeito",
           426.1127
          ],
          [
           "Chantada",
           491.9615
          ],
          [
           "Folgoso do Courel",
           null
          ],
          [
           "Fonsagrada, A",
           957.5945
          ],
          [
           "Foz",
           6.783125
          ],
          [
           "Friol",
           483.822
          ],
          [
           "Xermade",
           468.3652
          ],
          [
           "Guitiriz",
           448.572
          ],
          [
           "Guntín",
           465.0538
          ],
          [
           "Incio, O",
           733.6429
          ],
          [
           "Xove",
           61.07624
          ],
          [
           "Láncara",
           409.2137
          ],
          [
           "Lourenzá",
           56.24402
          ],
          [
           "Lugo",
           468.2347
          ],
          [
           "Meira",
           488.5347
          ],
          [
           "Mondoñedo",
           132.6622
          ],
          [
           "Monforte de Lemos",
           299.166
          ],
          [
           "Monterroso",
           542.8273
          ],
          [
           "Muras",
           486.4558
          ],
          [
           "Navia de Suarna",
           324.8547
          ],
          [
           "Negueira de Muñiz",
           358.476
          ],
          [
           "Nogais, As",
           512.5035
          ],
          [
           "Ourol",
           253.6125
          ],
          [
           "Outeiro de Rei",
           410.7439
          ],
          [
           "Palas de Rei",
           558.8809
          ],
          [
           "Pantón",
           304.506
          ],
          [
           "Paradela",
           559.2864
          ],
          [
           "Páramo, O",
           376.2073
          ],
          [
           "Pastoriza, A",
           545.8884
          ],
          [
           "Pedrafita do Cebreiro",
           1110.924
          ],
          [
           "Pol",
           530.1712
          ],
          [
           "Pobra do Brollón, A",
           384.0419
          ],
          [
           "Pontenova, A",
           84.54995
          ],
          [
           "Portomarín",
           387.5597
          ],
          [
           "Quiroga",
           268.3575
          ],
          [
           "Ribadeo",
           41.25553
          ],
          [
           "Ribas de Sil",
           532.9442
          ],
          [
           "Ribeira de Piquín",
           616.5509
          ],
          [
           "Riotorto",
           393.7881
          ],
          [
           "Samos",
           542.352
          ],
          [
           "Rábade",
           404.1569
          ],
          [
           "Sarria",
           447.6552
          ],
          [
           "Saviñao, O",
           450.5526
          ],
          [
           "Sober",
           398.1687
          ],
          [
           "Taboada",
           542.3445
          ],
          [
           "Trabada",
           214.7123
          ],
          [
           "Triacastela",
           671.5583
          ],
          [
           "Valadouro, O",
           262.7564
          ],
          [
           "Vicedo, O",
           13.50312
          ],
          [
           "Vilalba",
           452.9068
          ],
          [
           "Viveiro",
           21.87932
          ],
          [
           "Baralla",
           488.2265
          ],
          [
           "Burela",
           62.66413
          ],
          [
           "Acebeda, La",
           1266.542
          ],
          [
           "Ajalvir",
           680.1722
          ],
          [
           "Alameda del Valle",
           1109.934
          ],
          [
           "Álamo, El",
           606.2238
          ],
          [
           "Alcalá de Henares",
           593.7416
          ],
          [
           "Alcobendas",
           694.4304
          ],
          [
           "Alcorcón",
           717.5549
          ],
          [
           "Aldea del Fresno",
           null
          ],
          [
           "Algete",
           712.8972
          ],
          [
           "Alpedrete",
           916.7029
          ],
          [
           "Ambite",
           667.338
          ],
          [
           "Anchuelo",
           761.7067
          ],
          [
           "Aranjuez",
           502.3892
          ],
          [
           "Arganda del Rey",
           626.9236
          ],
          [
           "Arroyomolinos",
           597.4142
          ],
          [
           "Atazar, El",
           900.2352
          ],
          [
           "Batres",
           603.6849
          ],
          [
           "Becerril de la Sierra",
           1086.586
          ],
          [
           "Belmonte de Tajo",
           732.0183
          ],
          [
           "Berzosa del Lozoya",
           1079.826
          ],
          [
           "Berrueco, El",
           937.1234
          ],
          [
           "Boadilla del Monte",
           673.7737
          ],
          [
           "Boalo, El",
           953.0439
          ],
          [
           "Braojos",
           1189.477
          ],
          [
           "Brea de Tajo",
           722.8417
          ],
          [
           "Brunete",
           654.7903
          ],
          [
           "Buitrago del Lozoya",
           977.8387
          ],
          [
           "Bustarviejo",
           1217.359
          ],
          [
           "Cabanillas de la Sierra",
           921.8676
          ],
          [
           "Cabrera, La",
           1040.395
          ],
          [
           "Cadalso de los Vidrios",
           799.9886
          ],
          [
           "Camarma de Esteruelas",
           639.19
          ],
          [
           "Campo Real",
           765.6791
          ],
          [
           "Canencia",
           1142.31
          ],
          [
           "Carabaña",
           612.9524
          ],
          [
           "Casarrubuelos",
           624.7643
          ],
          [
           "Cenicientos",
           778.7822
          ],
          [
           "Cercedilla",
           1191.372
          ],
          [
           "Cervera de Buitrago",
           916.3304
          ],
          [
           "Ciempozuelos",
           580.2641
          ],
          [
           "Cobeña",
           677.4468
          ],
          [
           "Colmenar del Arroyo",
           679.1825
          ],
          [
           "Colmenar de Oreja",
           756.9265
          ],
          [
           "Colmenarejo",
           875.1868
          ],
          [
           "Colmenar Viejo",
           880.6345
          ],
          [
           "Collado Mediano",
           1029.724
          ],
          [
           "Collado Villalba",
           875.7213
          ],
          [
           "Corpa",
           819.1653
          ],
          [
           "Coslada",
           628.7247
          ],
          [
           "Cubas de la Sagra",
           648.7275
          ],
          [
           "Chapinería",
           679.6159
          ],
          [
           "Chinchón",
           777.1609
          ],
          [
           "Daganzo de Arriba",
           665.5711
          ],
          [
           "Escorial, El",
           915.7729
          ],
          [
           "Estremera",
           643.0197
          ],
          [
           "Fresnedillas de la Oliva",
           895.7322
          ],
          [
           "Fresno de Torote",
           null
          ],
          [
           "Fuenlabrada",
           679.0076
          ],
          [
           "Fuente el Saz de Jarama",
           642.1251
          ],
          [
           "Fuentidueña de Tajo",
           565.6978
          ],
          [
           "Galapagar",
           884.4304
          ],
          [
           "Garganta de los Montes",
           null
          ],
          [
           "Gargantilla del Lozoya y Pinilla de Buitrago",
           1136.591
          ],
          [
           "Gascones",
           1046.484
          ],
          [
           "Getafe",
           632.1449
          ],
          [
           "Griñón",
           676.9866
          ],
          [
           "Guadalix de la Sierra",
           841
          ],
          [
           "Guadarrama",
           965.5875
          ],
          [
           "Hiruela, La",
           null
          ],
          [
           "Horcajo de la Sierra-Aoslos",
           null
          ],
          [
           "Horcajuelo de la Sierra",
           1138.176
          ],
          [
           "Hoyo de Manzanares",
           1005.688
          ],
          [
           "Humanes de Madrid",
           675.6912
          ],
          [
           "Leganés",
           658.15
          ],
          [
           "Loeches",
           639.8891
          ],
          [
           "Lozoya",
           1111.051
          ],
          [
           "Madarcos",
           1057.624
          ],
          [
           "Madrid",
           653.0047
          ],
          [
           "Majadahonda",
           743.4514
          ],
          [
           "Manzanares el Real",
           917.528
          ],
          [
           "Meco",
           670.2038
          ],
          [
           "Mejorada del Campo",
           580.1962
          ],
          [
           "Miraflores de la Sierra",
           1149.553
          ],
          [
           "Molar, El",
           819.3329
          ],
          [
           "Molinos, Los",
           1046.887
          ],
          [
           "Montejo de la Sierra",
           1151.855
          ],
          [
           "Moraleja de Enmedio",
           682.4211
          ],
          [
           "Moralzarzal",
           982.0547
          ],
          [
           "Morata de Tajuña",
           559.4251
          ],
          [
           "Móstoles",
           665.2133
          ],
          [
           "Navacerrada",
           1193.742
          ],
          [
           "Navalafuente",
           906.057
          ],
          [
           "Navalagamella",
           759.7007
          ],
          [
           "Navalcarnero",
           672.8241
          ],
          [
           "Navarredonda y San Mamés",
           null
          ],
          [
           "Navas del Rey",
           717.2259
          ],
          [
           "Nuevo Baztán",
           834.9736
          ],
          [
           "Olmeda de las Fuentes",
           785.2642
          ],
          [
           "Orusco de Tajuña",
           662.3139
          ],
          [
           "Paracuellos de Jarama",
           692.0413
          ],
          [
           "Parla",
           651.0903
          ],
          [
           "Patones",
           713.0287
          ],
          [
           "Pedrezuela",
           869.5692
          ],
          [
           "Pelayos de la Presa",
           561.4791
          ],
          [
           "Perales de Tajuña",
           577.9905
          ],
          [
           "Pezuela de las Torres",
           855.1563
          ],
          [
           "Pinilla del Valle",
           1097.138
          ],
          [
           "Pinto",
           609.3594
          ],
          [
           "Piñuécar-Gandullas",
           1063.421
          ],
          [
           "Pozuelo de Alarcón",
           null
          ],
          [
           "Pozuelo del Rey",
           null
          ],
          [
           "Prádena del Rincón",
           1114.976
          ],
          [
           "Puebla de la Sierra",
           1160.507
          ],
          [
           "Quijorna",
           574.5786
          ],
          [
           "Rascafría",
           1157.038
          ],
          [
           "Redueña",
           823.9578
          ],
          [
           "Ribatejada",
           761.6322
          ],
          [
           "Rivas-Vaciamadrid",
           560.5495
          ],
          [
           "Robledillo de la Jara",
           1017.706
          ],
          [
           "Robledo de Chavela",
           null
          ],
          [
           "Robregordo",
           1297.608
          ],
          [
           "Rozas de Madrid, Las",
           876.1035
          ],
          [
           "Rozas de Puerto Real",
           876.1035
          ],
          [
           "San Agustín del Guadalix",
           667.7155
          ],
          [
           "San Fernando de Henares",
           591.3853
          ],
          [
           "San Lorenzo de El Escorial",
           1052.468
          ],
          [
           "San Martín de la Vega",
           517.0689
          ],
          [
           "San Martín de Valdeiglesias",
           677.8516
          ],
          [
           "San Sebastián de los Reyes",
           681.644
          ],
          [
           "Santa María de la Alameda",
           1411.015
          ],
          [
           "Santorcaz",
           864.0168
          ],
          [
           "Santos de la Humosa, Los",
           null
          ],
          [
           "Serna del Monte, La",
           null
          ],
          [
           "Serranillos del Valle",
           650.8673
          ],
          [
           "Sevilla la Nueva",
           674.3175
          ],
          [
           "Somosierra",
           1436.419
          ],
          [
           "Soto del Real",
           922.4442
          ],
          [
           "Talamanca de Jarama",
           655.0905
          ],
          [
           "Tielmes",
           580.7983
          ],
          [
           "Titulcia",
           514.1019
          ],
          [
           "Torrejón de Ardoz",
           591.0876
          ],
          [
           "Torrejón de la Calzada",
           632.9291
          ],
          [
           "Torrejón de Velasco",
           609.1476
          ],
          [
           "Torrelaguna",
           742.3256
          ],
          [
           "Torrelodones",
           847.145
          ],
          [
           "Torremocha de Jarama",
           705.3375
          ],
          [
           "Torres de la Alameda",
           668.0449
          ],
          [
           "Valdaracete",
           737.9929
          ],
          [
           "Valdeavero",
           713.679
          ],
          [
           "Valdelaguna",
           710.8623
          ],
          [
           "Valdemanco",
           1133.363
          ],
          [
           "Valdemaqueda",
           864.9176
          ],
          [
           "Valdemorillo",
           820.9337
          ],
          [
           "Valdemoro",
           612.726
          ],
          [
           "Valdeolmos-Alalpardo",
           680.2087
          ],
          [
           "Valdepiélagos",
           744.8907
          ],
          [
           "Valdetorres de Jarama",
           651.753
          ],
          [
           "Valdilecha",
           724.2806
          ],
          [
           "Valverde de Alcalá",
           733.9373
          ],
          [
           "Velilla de San Antonio",
           555.8903
          ],
          [
           "Vellón, El",
           894.388
          ],
          [
           "Venturada",
           883.1885
          ],
          [
           "Villaconejos",
           635.7664
          ],
          [
           "Villa del Prado",
           512.4543
          ],
          [
           "Villalbilla",
           744.6702
          ],
          [
           "Villamanrique de Tajo",
           549.4291
          ],
          [
           "Villamanta",
           550.4752
          ],
          [
           "Villamantilla",
           550.092
          ],
          [
           "Villanueva de la Cañada",
           655.8425
          ],
          [
           "Villanueva del Pardillo",
           653.1323
          ],
          [
           "Villanueva de Perales",
           594.7557
          ],
          [
           "Villar del Olmo",
           680.3748
          ],
          [
           "Villarejo de Salvanés",
           759.0782
          ],
          [
           "Villaviciosa de Odón",
           647.7311
          ],
          [
           "Villavieja del Lozoya",
           1062.474
          ],
          [
           "Zarzalejo",
           1105.808
          ],
          [
           "Lozoyuela-Navas-Sieteiglesias",
           1022.991
          ],
          [
           "Puentes Viejas",
           1065.958
          ],
          [
           "Tres Cantos",
           744.3729
          ],
          [
           "Alameda",
           431.0601
          ],
          [
           "Alcaucín",
           506.8431
          ],
          [
           "Alfarnate",
           890.3339
          ],
          [
           "Alfarnatejo",
           853.526
          ],
          [
           "Algarrobo",
           76.22504
          ],
          [
           "Algatocín",
           711.4503
          ],
          [
           "Alhaurín de la Torre",
           55.9206
          ],
          [
           "Alhaurín el Grande",
           262.0032
          ],
          [
           "Almáchar",
           251.3838
          ],
          [
           "Almargen",
           511.2607
          ],
          [
           "Almogía",
           369.3161
          ],
          [
           "Álora",
           217.7383
          ],
          [
           "Alozaina",
           367.5125
          ],
          [
           "Alpandeire",
           691.1627
          ],
          [
           "Antequera",
           519.31
          ],
          [
           "Árchez",
           434.6224
          ],
          [
           "Archidona",
           711.6459
          ],
          [
           "Ardales",
           408.7493
          ],
          [
           "Arenas",
           395.6026
          ],
          [
           "Arriate",
           596.1475
          ],
          [
           "Atajate",
           743.5022
          ],
          [
           "Benadalid",
           694.8373
          ],
          [
           "Benahavís",
           169.0831
          ],
          [
           "Benalauría",
           680.5325
          ],
          [
           "Benalmádena",
           246.0654
          ],
          [
           "Benamargosa",
           107.37
          ],
          [
           "Benamocarra",
           129.8485
          ],
          [
           "Benaoján",
           565.6541
          ],
          [
           "Benarrabá",
           536.6716
          ],
          [
           "Borge, El",
           253.297
          ],
          [
           "Burgo, El",
           578.5044
          ],
          [
           "Campillos",
           458.5459
          ],
          [
           "Canillas de Aceituno",
           653.6641
          ],
          [
           "Canillas de Albaida",
           579.2617
          ],
          [
           "Cañete la Real",
           750.4806
          ],
          [
           "Carratraca",
           527.6124
          ],
          [
           "Cartajima",
           835.1337
          ],
          [
           "Cártama",
           103.493
          ],
          [
           "Casabermeja",
           543.2839
          ],
          [
           "Casarabonela",
           469.9098
          ],
          [
           "Casares",
           395.2425
          ],
          [
           "Coín",
           212.3918
          ],
          [
           "Colmenar",
           674.2641
          ],
          [
           "Comares",
           691.9902
          ],
          [
           "Cómpeta",
           631.6203
          ],
          [
           "Cortes de la Frontera",
           623.0131
          ],
          [
           "Cuevas Bajas",
           316.253
          ],
          [
           "Cuevas del Becerro",
           727.9931
          ],
          [
           "Cuevas de San Marcos",
           407.2341
          ],
          [
           "Cútar",
           297.5281
          ],
          [
           "Estepona",
           9.655864
          ],
          [
           "Faraján",
           632.2032
          ],
          [
           "Frigiliana",
           326.0266
          ],
          [
           "Fuengirola",
           9.702183
          ],
          [
           "Fuente de Piedra",
           444.6066
          ],
          [
           "Gaucín",
           609.3961
          ],
          [
           "Genalguacil",
           508.3251
          ],
          [
           "Guaro",
           347.6602
          ],
          [
           "Humilladero",
           447
          ],
          [
           "Igualeja",
           692.6473
          ],
          [
           "Istán",
           295.7882
          ],
          [
           "Iznate",
           305.813
          ],
          [
           "Jimera de Líbar",
           548.8419
          ],
          [
           "Jubrique",
           556.0103
          ],
          [
           "Júzcar",
           622.4206
          ],
          [
           "Macharaviaya",
           232.853
          ],
          [
           "Málaga",
           20.76588
          ],
          [
           "Manilva",
           135.0445
          ],
          [
           "Marbella",
           23.81581
          ],
          [
           "Mijas",
           421.1643
          ],
          [
           "Moclinejo",
           443.1213
          ],
          [
           "Mollina",
           476.1912
          ],
          [
           "Monda",
           359.9482
          ],
          [
           "Montejaque",
           696.3243
          ],
          [
           "Nerja",
           25.00439
          ],
          [
           "Ojén",
           314.1743
          ],
          [
           "Parauta",
           819.9631
          ],
          [
           "Periana",
           570.6861
          ],
          [
           "Pizarra",
           88.95549
          ],
          [
           "Pujerra",
           781.4251
          ],
          [
           "Rincón de la Victoria",
           3.764837
          ],
          [
           "Riogordo",
           390.2326
          ],
          [
           "Ronda",
           721.0318
          ],
          [
           "Salares",
           585.0521
          ],
          [
           "Sayalonga",
           364.6231
          ],
          [
           "Sedella",
           697.3375
          ],
          [
           "Sierra de Yeguas",
           451.5096
          ],
          [
           "Teba",
           541.6072
          ],
          [
           "Tolox",
           305.9531
          ],
          [
           "Torrox",
           146.8773
          ],
          [
           "Totalán",
           285.3225
          ],
          [
           "Valle de Abdalajís",
           null
          ],
          [
           "Vélez-Málaga",
           55.92748
          ],
          [
           "Villanueva de Algaidas",
           542.5474
          ],
          [
           "Villanueva del Rosario",
           694.9512
          ],
          [
           "Villanueva del Trabuco",
           685.7935
          ],
          [
           "Villanueva de Tapia",
           659.881
          ],
          [
           "Viñuela",
           166.8159
          ],
          [
           "Yunquera",
           675.0898
          ],
          [
           "Torremolinos",
           52.33766
          ],
          [
           "Villanueva de la Concepción",
           null
          ],
          [
           "Montecorto",
           null
          ],
          [
           "Serrato",
           null
          ],
          [
           "Abanilla",
           215.4028
          ],
          [
           "Abarán",
           200.7275
          ],
          [
           "Águilas",
           8.231929
          ],
          [
           "Albudeite",
           180.3854
          ],
          [
           "Alcantarilla",
           73.48013
          ],
          [
           "Aledo",
           604.458
          ],
          [
           "Alguazas",
           84.25748
          ],
          [
           "Alhama de Murcia",
           201.4063
          ],
          [
           "Archena",
           105.1455
          ],
          [
           "Beniel",
           31.7415
          ],
          [
           "Blanca",
           149.6207
          ],
          [
           "Bullas",
           647.6263
          ],
          [
           "Calasparra",
           356.5284
          ],
          [
           "Campos del Río",
           181.1191
          ],
          [
           "Caravaca de la Cruz",
           636.1376
          ],
          [
           "Cartagena",
           11.15692
          ],
          [
           "Cehegín",
           540.0687
          ],
          [
           "Ceutí",
           93.69875
          ],
          [
           "Cieza",
           189.8739
          ],
          [
           "Fortuna",
           204.3466
          ],
          [
           "Fuente Álamo de Murcia",
           null
          ],
          [
           "Jumilla",
           502.642
          ],
          [
           "Librilla",
           174.8965
          ],
          [
           "Lorca",
           336.2687
          ],
          [
           "Lorquí",
           92.61366
          ],
          [
           "Mazarrón",
           65.57575
          ],
          [
           "Molina de Segura",
           94.52602
          ],
          [
           "Moratalla",
           630.5613
          ],
          [
           "Mula",
           295.3519
          ],
          [
           "Murcia",
           51.07087
          ],
          [
           "Ojós",
           128.2413
          ],
          [
           "Pliego",
           386.3144
          ],
          [
           "Puerto Lumbreras",
           470.1874
          ],
          [
           "Ricote",
           293.4324
          ],
          [
           "San Javier",
           26.81056
          ],
          [
           "San Pedro del Pinatar",
           16.43622
          ],
          [
           "Torre-Pacheco",
           41.09187
          ],
          [
           "Torres de Cotillas, Las",
           86.27866
          ],
          [
           "Totana",
           259.0672
          ],
          [
           "Ulea",
           126.4072
          ],
          [
           "Unión, La",
           112.227
          ],
          [
           "Villanueva del Río Segura",
           138.7037
          ],
          [
           "Yecla",
           604.7735
          ],
          [
           "Santomera",
           39.86995
          ],
          [
           "Alcázares, Los",
           2.761286
          ],
          [
           "Abáigar",
           485.6676
          ],
          [
           "Abárzuza/Abartzuza",
           null
          ],
          [
           "Abaurregaina/Abaurrea Alta",
           1050.703
          ],
          [
           "Abaurrepea/Abaurrea Baja",
           1050.703
          ],
          [
           "Aberin",
           507.0975
          ],
          [
           "Ablitas",
           390.1332
          ],
          [
           "Adiós",
           480.1988
          ],
          [
           "Aguilar de Codés",
           722.7128
          ],
          [
           "Aibar/Oibar",
           551.8924
          ],
          [
           "Altsasu/Alsasua",
           531.4604
          ],
          [
           "Allín/Allin",
           null
          ],
          [
           "Allo",
           429.8232
          ],
          [
           "Améscoa Baja",
           928.2976
          ],
          [
           "Ancín/Antzin",
           null
          ],
          [
           "Andosilla",
           316.7053
          ],
          [
           "Ansoáin/Antsoain",
           null
          ],
          [
           "Anue",
           799.0044
          ],
          [
           "Añorbe",
           573.9486
          ],
          [
           "Aoiz/Agoitz",
           501.6778
          ],
          [
           "Araitz",
           228.7052
          ],
          [
           "Aranarache/Aranaratxe",
           null
          ],
          [
           "Arantza",
           267.3421
          ],
          [
           "Aranguren",
           622.8678
          ],
          [
           "Arano",
           455.9649
          ],
          [
           "Arakil",
           438.7797
          ],
          [
           "Aras",
           636.3009
          ],
          [
           "Arbizu",
           494.9281
          ],
          [
           "Arce/Artzi",
           762.4823
          ],
          [
           "Arcos, Los",
           449.6534
          ],
          [
           "Arellano",
           644.5254
          ],
          [
           "Areso",
           462.8911
          ],
          [
           "Arguedas",
           266.3666
          ],
          [
           "Aria",
           860.5184
          ],
          [
           "Aribe",
           701.3161
          ],
          [
           "Armañanzas",
           496.7855
          ],
          [
           "Arróniz",
           564.7612
          ],
          [
           "Arruazu",
           469.7116
          ],
          [
           "Artajona",
           450.9516
          ],
          [
           "Artazu",
           440.7018
          ],
          [
           "Atetz",
           null
          ],
          [
           "Ayegui/Aiegi",
           null
          ],
          [
           "Azagra",
           293.2846
          ],
          [
           "Azuelo",
           611.0732
          ],
          [
           "Bakaiku",
           518.6227
          ],
          [
           "Barásoain",
           530.6812
          ],
          [
           "Barbarin",
           602.2934
          ],
          [
           "Bargota",
           589.0367
          ],
          [
           "Barillas",
           388.5261
          ],
          [
           "Basaburua",
           659.5215
          ],
          [
           "Baztan",
           431.7236
          ],
          [
           "Beire",
           367.1117
          ],
          [
           "Belascoáin",
           423.4454
          ],
          [
           "Berbinzana",
           318.8264
          ],
          [
           "Bertizarana",
           135.3993
          ],
          [
           "Betelu",
           236.0627
          ],
          [
           "Biurrun-Olcoz",
           603.0551
          ],
          [
           "Buñuel",
           247
          ],
          [
           "Auritz/Burguete",
           895.7919
          ],
          [
           "Burgui/Burgi",
           627.7626
          ],
          [
           "Burlada/Burlata",
           436.4857
          ],
          [
           "Busto, El",
           429.9118
          ],
          [
           "Cabanillas",
           261.1255
          ],
          [
           "Cabredo",
           660.035
          ],
          [
           "Cadreita",
           287.9483
          ],
          [
           "Caparroso",
           303
          ],
          [
           "Cárcar",
           335.9902
          ],
          [
           "Carcastillo",
           354.3764
          ],
          [
           "Cascante",
           365.7855
          ],
          [
           "Cáseda",
           428.3817
          ],
          [
           "Castejón",
           279.5263
          ],
          [
           "Castillonuevo",
           774.6876
          ],
          [
           "Cintruénigo",
           399.6217
          ],
          [
           "Ziordia",
           554.5064
          ],
          [
           "Cirauqui/Zirauki",
           null
          ],
          [
           "Ciriza/Ziritza",
           null
          ],
          [
           "Cizur",
           464.4124
          ],
          [
           "Corella",
           376.7392
          ],
          [
           "Cortes",
           259
          ],
          [
           "Desojo",
           522.1982
          ],
          [
           "Dicastillo",
           557.3284
          ],
          [
           "Donamaria",
           198.6831
          ],
          [
           "Etxalar",
           102.0956
          ],
          [
           "Echarri/Etxarri",
           null
          ],
          [
           "Etxarri Aranatz",
           null
          ],
          [
           "Etxauri",
           412.8882
          ],
          [
           "Valle de Egüés/Eguesibar",
           null
          ],
          [
           "Elgorriaga",
           149.3327
          ],
          [
           "Noáin (Valle de Elorz)/Noain (Elortzibar)",
           null
          ],
          [
           "Enériz/Eneritz",
           null
          ],
          [
           "Eratsun",
           518.8293
          ],
          [
           "Ergoiena",
           583.5241
          ],
          [
           "Erro",
           661.9404
          ],
          [
           "Ezcároz/Ezkaroze",
           741.0762
          ],
          [
           "Eslava",
           545.7512
          ],
          [
           "Esparza de Salazar/Espartza Zaraitzu",
           705.2322
          ],
          [
           "Espronceda",
           539.9223
          ],
          [
           "Estella-Lizarra",
           null
          ],
          [
           "Esteribar",
           804.6992
          ],
          [
           "Etayo",
           572.3201
          ],
          [
           "Eulate",
           730.8936
          ],
          [
           "Ezcabarte",
           473.964
          ],
          [
           "Ezkurra",
           525.4611
          ],
          [
           "Ezprogui",
           524.7435
          ],
          [
           "Falces",
           296.4245
          ],
          [
           "Fitero",
           428.2101
          ],
          [
           "Fontellas",
           278.3386
          ],
          [
           "Funes",
           304.42
          ],
          [
           "Fustiñana",
           260.782
          ],
          [
           "Galar",
           548.4805
          ],
          [
           "Gallipienzo/Galipentzu",
           null
          ],
          [
           "Gallués/Galoze",
           634.5071
          ],
          [
           "Garaioa",
           779.7978
          ],
          [
           "Garde",
           745.9025
          ],
          [
           "Garínoain",
           537.0995
          ],
          [
           "Garralda",
           846.9196
          ],
          [
           "Genevilla",
           616.5192
          ],
          [
           "Goizueta",
           157.4991
          ],
          [
           "Goñi",
           885.0417
          ],
          [
           "Güesa/Gorza",
           656.9835
          ],
          [
           "Guesálaz/Gesalatz",
           null
          ],
          [
           "Guirguillano",
           614.8031
          ],
          [
           "Huarte/Uharte",
           443.3268
          ],
          [
           "Uharte Arakil",
           null
          ],
          [
           "Ibargoiti",
           589.6138
          ],
          [
           "Igúzquiza",
           521.692
          ],
          [
           "Imotz",
           708.5986
          ],
          [
           "Irañeta",
           462.9885
          ],
          [
           "Isaba/Izaba",
           792.2268
          ],
          [
           "Ituren",
           157.9286
          ],
          [
           "Iturmendi",
           527.0626
          ],
          [
           "Iza/Itza",
           null
          ],
          [
           "Izagaondoa",
           656.3472
          ],
          [
           "Izalzu/Itzaltzu",
           813.3014
          ],
          [
           "Jaurrieta",
           915.8698
          ],
          [
           "Javier",
           453.4229
          ],
          [
           "Juslapeña/Txulapain",
           null
          ],
          [
           "Beintza-Labaien",
           446.4482
          ],
          [
           "Lakuntza",
           493.4403
          ],
          [
           "Lana",
           583.7512
          ],
          [
           "Lantz",
           632.9497
          ],
          [
           "Lapoblación",
           966.2166
          ],
          [
           "Larraga",
           397.0584
          ],
          [
           "Larraona",
           771.8146
          ],
          [
           "Larraun",
           667.3818
          ],
          [
           "Lazagurría",
           393.9949
          ],
          [
           "Leache/Leatxe",
           null
          ],
          [
           "Legarda",
           476.2949
          ],
          [
           "Legaria",
           476.4376
          ],
          [
           "Leitza",
           475.8446
          ],
          [
           "Leoz/Leotz",
           null
          ],
          [
           "Lerga",
           614.0958
          ],
          [
           "Lerín",
           435.6659
          ],
          [
           "Lesaka",
           77.67777
          ],
          [
           "Lezaun",
           823.1769
          ],
          [
           "Liédena",
           434.2063
          ],
          [
           "Lizoain-Arriasgoiti/Lizoainibar-Arriasgoiti",
           null
          ],
          [
           "Lodosa",
           329.6654
          ],
          [
           "Lónguida/Longida",
           480.7935
          ],
          [
           "Lumbier",
           468.2798
          ],
          [
           "Luquin",
           595.0789
          ],
          [
           "Mañeru",
           456.9252
          ],
          [
           "Marañón",
           631.9917
          ],
          [
           "Marcilla",
           293.0134
          ],
          [
           "Mélida",
           351.4484
          ],
          [
           "Mendavia",
           358.8896
          ],
          [
           "Mendaza",
           648.1318
          ],
          [
           "Mendigorria",
           400.2758
          ],
          [
           "Metauten",
           526.5096
          ],
          [
           "Milagro",
           294.1204
          ],
          [
           "Mirafuentes",
           644
          ],
          [
           "Miranda de Arga",
           337.395
          ],
          [
           "Monreal/Elo",
           null
          ],
          [
           "Monteagudo",
           403.3899
          ],
          [
           "Morentin",
           535.4586
          ],
          [
           "Mues",
           518.3762
          ],
          [
           "Murchante",
           318.6382
          ],
          [
           "Murieta",
           467.4558
          ],
          [
           "Murillo el Cuende",
           338.5544
          ],
          [
           "Murillo el Fruto",
           362.163
          ],
          [
           "Muruzábal",
           442.5836
          ],
          [
           "Navascués/Nabaskoze",
           null
          ],
          [
           "Nazar",
           740.0682
          ],
          [
           "Obanos",
           414.2519
          ],
          [
           "Oco",
           492.338
          ],
          [
           "Ochagavía/Otsagabia",
           763.3962
          ],
          [
           "Odieta",
           535.4056
          ],
          [
           "Oiz",
           null
          ],
          [
           "Olaibar",
           479.1287
          ],
          [
           "Olazti/Olazagutía",
           542.6686
          ],
          [
           "Olejua",
           574.1867
          ],
          [
           "Olite/Erriberri",
           null
          ],
          [
           "Olóriz/Oloritz",
           null
          ],
          [
           "Cendea de Olza/Oltza Zendea",
           431.3969
          ],
          [
           "Valle de Ollo/Ollaran",
           null
          ],
          [
           "Orbaizeta",
           null
          ],
          [
           "Orbara",
           757.6503
          ],
          [
           "Orísoain",
           578.1315
          ],
          [
           "Oronz/Orontze",
           723.6107
          ],
          [
           "Oroz-Betelu/Orotz-Betelu",
           null
          ],
          [
           "Oteiza",
           510.9438
          ],
          [
           "Pamplona/Iruña",
           458.1406
          ],
          [
           "Peralta/Azkoien",
           null
          ],
          [
           "Petilla de Aragón",
           831.5078
          ],
          [
           "Piedramillera",
           617.1473
          ],
          [
           "Pitillas",
           351.164
          ],
          [
           "Puente la Reina/Gares",
           348.5276
          ],
          [
           "Pueyo/Puiu",
           null
          ],
          [
           "Ribaforada",
           263.6679
          ],
          [
           "Romanzado/Erromantzatua",
           null
          ],
          [
           "Roncal/Erronkari",
           699.3717
          ],
          [
           "Orreaga/Roncesvalles",
           954.5584
          ],
          [
           "Sada",
           485.6982
          ],
          [
           "Saldías",
           553.2933
          ],
          [
           "Salinas de Oro/Jaitz",
           null
          ],
          [
           "San Adrián",
           298.6025
          ],
          [
           "Sangüesa/Zangoza",
           399.6167
          ],
          [
           "San Martín de Unx",
           597.6311
          ],
          [
           "Sansol",
           494.1248
          ],
          [
           "Santacara",
           351.041
          ],
          [
           "Doneztebe/Santesteban",
           130.5545
          ],
          [
           "Sarriés/Sartze",
           687.5157
          ],
          [
           "Sartaguda",
           338.0532
          ],
          [
           "Sesma",
           434.409
          ],
          [
           "Sorlada",
           570.1953
          ],
          [
           "Sunbilla",
           106.4811
          ],
          [
           "Tafalla",
           433.6423
          ],
          [
           "Tiebas-Muruarte de Reta",
           574.0651
          ],
          [
           "Tirapu",
           498.1133
          ],
          [
           "Torralba del Río",
           626.2723
          ],
          [
           "Torres del Río",
           461.8875
          ],
          [
           "Tudela",
           268.958
          ],
          [
           "Tulebras",
           372.949
          ],
          [
           "Ucar",
           503.2144
          ],
          [
           "Ujué/Uxue",
           null
          ],
          [
           "Ultzama",
           546.3792
          ],
          [
           "Unciti",
           605.3009
          ],
          [
           "Unzué/Untzue",
           null
          ],
          [
           "Urdazubi/Urdax",
           98.64223
          ],
          [
           "Urdiain",
           551.1738
          ],
          [
           "Urraul Alto",
           573.8953
          ],
          [
           "Urraul Bajo",
           458.3008
          ],
          [
           "Urroz-Villa",
           527.5408
          ],
          [
           "Urroz",
           null
          ],
          [
           "Urzainqui/Urzainki",
           733.1646
          ],
          [
           "Uterga",
           494.9627
          ],
          [
           "Uztárroz/Uztarroze",
           856.1575
          ],
          [
           "Luzaide/Valcarlos",
           364.558
          ],
          [
           "Valtierra",
           270.1983
          ],
          [
           "Bera",
           null
          ],
          [
           "Viana",
           475.407
          ],
          [
           "Vidángoz/Bidankoze",
           769.7194
          ],
          [
           "Bidaurreta",
           444.6025
          ],
          [
           "Villafranca",
           292.0777
          ],
          [
           "Villamayor de Monjardín",
           673.8203
          ],
          [
           "Hiriberri/Villanueva de Aezkoa",
           922.5541
          ],
          [
           "Villatuerta",
           440.6565
          ],
          [
           "Villava/Atarrabia",
           434.213
          ],
          [
           "Igantzi",
           208.3124
          ],
          [
           "Valle de Yerri/Deierri",
           null
          ],
          [
           "Yesa",
           494.9805
          ],
          [
           "Zabalza/Zabaltza",
           null
          ],
          [
           "Zubieta",
           210.3568
          ],
          [
           "Zugarramurdi",
           209.7609
          ],
          [
           "Zúñiga",
           577.4291
          ],
          [
           "Barañáin/Barañain",
           null
          ],
          [
           "Berrioplano/Berriobeiti",
           null
          ],
          [
           "Berriozar",
           430.5623
          ],
          [
           "Irurtzun",
           472.6737
          ],
          [
           "Beriáin",
           499.5828
          ],
          [
           "Orkoien",
           442.7829
          ],
          [
           "Zizur Mayor/Zizur Nagusia",
           441.8872
          ],
          [
           "Lekunberri",
           567.6735
          ],
          [
           "Allariz",
           460.7867
          ],
          [
           "Amoeiro",
           442.1121
          ],
          [
           "Arnoia, A",
           159.5033
          ],
          [
           "Avión",
           446.5516
          ],
          [
           "Baltar",
           823.1027
          ],
          [
           "Bande",
           723.6759
          ],
          [
           "Baños de Molgas",
           513.4908
          ],
          [
           "Barbadás",
           241.3901
          ],
          [
           "Barco de Valdeorras, O",
           null
          ],
          [
           "Beade",
           202.2736
          ],
          [
           "Beariz",
           641.1476
          ],
          [
           "Blancos, Os",
           801.8071
          ],
          [
           "Boborás",
           432.1264
          ],
          [
           "Bola, A",
           479.8777
          ],
          [
           "Bolo, O",
           501.6701
          ],
          [
           "Calvos de Randín",
           910.7596
          ],
          [
           "Carballeda de Valdeorras",
           587.8499
          ],
          [
           "Carballeda de Avia",
           250.0053
          ],
          [
           "Carballiño, O",
           401.1974
          ],
          [
           "Cartelle",
           366.1181
          ],
          [
           "Castrelo do Val",
           433.7377
          ],
          [
           "Castrelo de Miño",
           198.8711
          ],
          [
           "Castro Caldelas",
           625.1702
          ],
          [
           "Celanova",
           525.2849
          ],
          [
           "Cenlle",
           406.6471
          ],
          [
           "Coles",
           356.0888
          ],
          [
           "Cortegada",
           144.2422
          ],
          [
           "Cualedro",
           842.0068
          ],
          [
           "Chandrexa de Queixa",
           990.6727
          ],
          [
           "Entrimo",
           501.8381
          ],
          [
           "Esgos",
           579.329
          ],
          [
           "Xinzo de Limia",
           624.355
          ],
          [
           "Gomesende",
           403.7807
          ],
          [
           "Gudiña, A",
           980.4539
          ],
          [
           "Irixo, O",
           561.9305
          ],
          [
           "Xunqueira de Ambía",
           541.0165
          ],
          [
           "Xunqueira de Espadanedo",
           688.6356
          ],
          [
           "Larouco",
           533.1442
          ],
          [
           "Laza",
           479.0535
          ],
          [
           "Leiro",
           88.74213
          ],
          [
           "Lobeira",
           605.1371
          ],
          [
           "Lobios",
           477.3125
          ],
          [
           "Maceda",
           582.2949
          ],
          [
           "Manzaneda",
           642.83
          ],
          [
           "Maside",
           379.7209
          ],
          [
           "Melón",
           482.1991
          ],
          [
           "Merca, A",
           488.3453
          ],
          [
           "Mezquita, A",
           991.7155
          ],
          [
           "Montederramo",
           906.4658
          ],
          [
           "Monterrei",
           511.1087
          ],
          [
           "Muíños",
           585.7645
          ],
          [
           "Nogueira de Ramuín",
           613.3605
          ],
          [
           "Oímbra",
           389.4346
          ],
          [
           "Ourense",
           144.5574
          ],
          [
           "Paderne de Allariz",
           440.9869
          ],
          [
           "Padrenda",
           273.543
          ],
          [
           "Parada de Sil",
           662.7356
          ],
          [
           "Pereiro de Aguiar, O",
           321.2264
          ],
          [
           "Peroxa, A",
           498.0891
          ],
          [
           "Petín",
           300.702
          ],
          [
           "Piñor",
           553.8872
          ],
          [
           "Porqueira",
           640.7926
          ],
          [
           "Pobra de Trives, A",
           745.8318
          ],
          [
           "Pontedeva",
           144.9253
          ],
          [
           "Punxín",
           320.7976
          ],
          [
           "Quintela de Leirado",
           365.5756
          ],
          [
           "Rairiz de Veiga",
           620
          ],
          [
           "Ramirás",
           364.6565
          ],
          [
           "Ribadavia",
           103.0358
          ],
          [
           "San Xoán de Río",
           879.6433
          ],
          [
           "Riós",
           805.391
          ],
          [
           "Rúa, A",
           297.6577
          ],
          [
           "Rubiá",
           548.2453
          ],
          [
           "San Amaro",
           482.8099
          ],
          [
           "San Cibrao das Viñas",
           271.6895
          ],
          [
           "San Cristovo de Cea",
           510.0587
          ],
          [
           "Sandiás",
           639.2228
          ],
          [
           "Sarreaus",
           650.4904
          ],
          [
           "Taboadela",
           387.0332
          ],
          [
           "Teixeira, A",
           846.8474
          ],
          [
           "Toén",
           375.3269
          ],
          [
           "Trasmiras",
           644.9832
          ],
          [
           "Veiga, A",
           882.0123
          ],
          [
           "Verea",
           727.3734
          ],
          [
           "Verín",
           387.786
          ],
          [
           "Viana do Bolo",
           703.6934
          ],
          [
           "Vilamarín",
           504.0667
          ],
          [
           "Vilamartín de Valdeorras",
           319.5154
          ],
          [
           "Vilar de Barrio",
           665.1714
          ],
          [
           "Vilar de Santos",
           638.7435
          ],
          [
           "Vilardevós",
           741.3065
          ],
          [
           "Vilariño de Conso",
           796.0936
          ],
          [
           "Allande",
           580.7288
          ],
          [
           "Aller",
           870.3992
          ],
          [
           "Amieva",
           595.183
          ],
          [
           "Avilés",
           8.896673
          ],
          [
           "Belmonte de Miranda",
           220.3919
          ],
          [
           "Bimenes",
           320.1294
          ],
          [
           "Boal",
           461.5823
          ],
          [
           "Cabrales",
           135.4523
          ],
          [
           "Cabranes",
           290.5875
          ],
          [
           "Candamo",
           40.71626
          ],
          [
           "Cangas del Narcea",
           395.787
          ],
          [
           "Cangas de Onís",
           83.8837
          ],
          [
           "Caravia",
           362.6237
          ],
          [
           "Carreño",
           84.34576
          ],
          [
           "Caso",
           623.0895
          ],
          [
           "Castrillón",
           86.8708
          ],
          [
           "Castropol",
           22.08328
          ],
          [
           "Coaña",
           80.89793
          ],
          [
           "Colunga",
           17.92281
          ],
          [
           "Corvera de Asturias",
           56.71637
          ],
          [
           "Cudillero",
           69.32003
          ],
          [
           "Degaña",
           847.1716
          ],
          [
           "Franco, El",
           54.68772
          ],
          [
           "Gijón",
           10.46988
          ],
          [
           "Gozón",
           23.33944
          ],
          [
           "Grado",
           70.00195
          ],
          [
           "Grandas de Salime",
           567.9332
          ],
          [
           "Ibias",
           363.6068
          ],
          [
           "Illano",
           336.2966
          ],
          [
           "Illas",
           156.5609
          ],
          [
           "Langreo",
           216.0747
          ],
          [
           "Laviana",
           297.8459
          ],
          [
           "Lena",
           316.1207
          ],
          [
           "Valdés",
           18.18302
          ],
          [
           "Llanera",
           234.8832
          ],
          [
           "Llanes",
           19.37611
          ],
          [
           "Mieres",
           210.1827
          ],
          [
           "Morcín",
           236.8473
          ],
          [
           "Muros de Nalón",
           114.3644
          ],
          [
           "Nava",
           244.3763
          ],
          [
           "Navia",
           8.619591
          ],
          [
           "Noreña",
           207.6058
          ],
          [
           "Onís",
           198.1296
          ],
          [
           "Oviedo",
           238.8659
          ],
          [
           "Parres",
           139.5952
          ],
          [
           "Peñamellera Alta",
           185.3078
          ],
          [
           "Peñamellera Baja",
           260.1066
          ],
          [
           "Pesoz",
           317.0693
          ],
          [
           "Piloña",
           180.9473
          ],
          [
           "Ponga",
           706.3737
          ],
          [
           "Pravia",
           41.19317
          ],
          [
           "Proaza",
           201.1137
          ],
          [
           "Quirós",
           596.6254
          ],
          [
           "Regueras, Las",
           183.5744
          ],
          [
           "Ribadedeva",
           73.00428
          ],
          [
           "Ribadesella",
           23.78174
          ],
          [
           "Ribera de Arriba",
           201.4535
          ],
          [
           "Riosa",
           1073.679
          ],
          [
           "Salas",
           243.8303
          ],
          [
           "San Martín del Rey Aurelio",
           266.8616
          ],
          [
           "San Martín de Oscos",
           701.4034
          ],
          [
           "Santa Eulalia de Oscos",
           547.0981
          ],
          [
           "San Tirso de Abres",
           40.88018
          ],
          [
           "Santo Adriano",
           475.4342
          ],
          [
           "Sariego",
           283.0529
          ],
          [
           "Siero",
           266.4884
          ],
          [
           "Sobrescobio",
           579.3365
          ],
          [
           "Somiedo",
           1017.7
          ],
          [
           "Soto del Barco",
           68.42937
          ],
          [
           "Tapia de Casariego",
           25.45387
          ],
          [
           "Taramundi",
           279.6605
          ],
          [
           "Teverga",
           693.9147
          ],
          [
           "Tineo",
           671.4896
          ],
          [
           "Vegadeo",
           5.833657
          ],
          [
           "Villanueva de Oscos",
           645.1224
          ],
          [
           "Villaviciosa",
           8.267545
          ],
          [
           "Villayón",
           372.2103
          ],
          [
           "Yernes y Tameza",
           687.0248
          ],
          [
           "Abarca de Campos",
           758.1901
          ],
          [
           "Abia de las Torres",
           836.1696
          ],
          [
           "Aguilar de Campoo",
           897.081
          ],
          [
           "Alar del Rey",
           853.8849
          ],
          [
           "Alba de Cerrato",
           780.3799
          ],
          [
           "Amayuelas de Arriba",
           787.3027
          ],
          [
           "Ampudia",
           794.2702
          ],
          [
           "Amusco",
           773.6923
          ],
          [
           "Antigüedad",
           833.6262
          ],
          [
           "Arconada",
           804.9647
          ],
          [
           "Astudillo",
           788.4464
          ],
          [
           "Autilla del Pino",
           870.6778
          ],
          [
           "Autillo de Campos",
           762.9597
          ],
          [
           "Ayuela",
           952.0762
          ],
          [
           "Baltanás",
           784.0414
          ],
          [
           "Venta de Baños",
           722.1985
          ],
          [
           "Baquerín de Campos",
           749.9719
          ],
          [
           "Bárcena de Campos",
           845.1735
          ],
          [
           "Barruelo de Santullán",
           1051.277
          ],
          [
           "Báscones de Ojeda",
           962.8129
          ],
          [
           "Becerril de Campos",
           769.5222
          ],
          [
           "Belmonte de Campos",
           743.8493
          ],
          [
           "Berzosilla",
           826.7042
          ],
          [
           "Boada de Campos",
           748
          ],
          [
           "Boadilla del Camino",
           782.657
          ],
          [
           "Boadilla de Rioseco",
           783.1019
          ],
          [
           "Brañosera",
           1200.068
          ],
          [
           "Buenavista de Valdavia",
           926.9855
          ],
          [
           "Bustillo de la Vega",
           885
          ],
          [
           "Bustillo del Páramo de Carrión",
           null
          ],
          [
           "Calahorra de Boedo",
           null
          ],
          [
           "Calzada de los Molinos",
           827.0596
          ],
          [
           "Capillas",
           760.7122
          ],
          [
           "Cardeñosa de Volpejera",
           827.3951
          ],
          [
           "Carrión de los Condes",
           837.2867
          ],
          [
           "Castil de Vela",
           759.6097
          ],
          [
           "Castrejón de la Peña",
           1121.003
          ],
          [
           "Castrillo de Don Juan",
           830.5445
          ],
          [
           "Castrillo de Onielo",
           821.9319
          ],
          [
           "Castrillo de Villavega",
           851.3707
          ],
          [
           "Castromocho",
           758.2964
          ],
          [
           "Cervatos de la Cueza",
           853.0574
          ],
          [
           "Cervera de Pisuerga",
           1007.858
          ],
          [
           "Cevico de la Torre",
           754.6013
          ],
          [
           "Cevico Navero",
           829.4386
          ],
          [
           "Cisneros",
           804.7203
          ],
          [
           "Cobos de Cerrato",
           819.4964
          ],
          [
           "Collazos de Boedo",
           916.8154
          ],
          [
           "Congosto de Valdavia",
           973.56
          ],
          [
           "Cordovilla la Real",
           745.9448
          ],
          [
           "Cubillas de Cerrato",
           743.376
          ],
          [
           "Dehesa de Montejo",
           1091.726
          ],
          [
           "Dehesa de Romanos",
           943.8187
          ],
          [
           "Dueñas",
           723.9095
          ],
          [
           "Espinosa de Cerrato",
           864.7267
          ],
          [
           "Espinosa de Villagonzalo",
           831.9033
          ],
          [
           "Frechilla",
           775.0347
          ],
          [
           "Fresno del Río",
           null
          ],
          [
           "Frómista",
           783.3309
          ],
          [
           "Fuentes de Nava",
           756.5685
          ],
          [
           "Fuentes de Valdepero",
           796.7946
          ],
          [
           "Grijota",
           746.9368
          ],
          [
           "Guardo",
           1095.632
          ],
          [
           "Guaza de Campos",
           794.0911
          ],
          [
           "Hérmedes de Cerrato",
           900.4366
          ],
          [
           "Herrera de Pisuerga",
           null
          ],
          [
           "Herrera de Valdecañas",
           null
          ],
          [
           "Hontoria de Cerrato",
           744.5811
          ],
          [
           "Hornillos de Cerrato",
           794.4394
          ],
          [
           "Husillos",
           744.5184
          ],
          [
           "Itero de la Vega",
           770.6241
          ],
          [
           "Lagartos",
           914.8121
          ],
          [
           "Lantadilla",
           788.4019
          ],
          [
           "Vid de Ojeda, La",
           875.674
          ],
          [
           "Ledigos",
           876.8804
          ],
          [
           "Lomas",
           825.279
          ],
          [
           "Magaz de Pisuerga",
           731.0358
          ],
          [
           "Manquillos",
           776.0267
          ],
          [
           "Mantinos",
           1068.459
          ],
          [
           "Marcilla de Campos",
           816.3467
          ],
          [
           "Mazariegos",
           739.4893
          ],
          [
           "Mazuecos de Valdeginate",
           781.7784
          ],
          [
           "Melgar de Yuso",
           771.8138
          ],
          [
           "Meneses de Campos",
           749.4305
          ],
          [
           "Micieces de Ojeda",
           935.5956
          ],
          [
           "Monzón de Campos",
           751.6661
          ],
          [
           "Moratinos",
           858.9825
          ],
          [
           "Mudá",
           997.7184
          ],
          [
           "Nogal de las Huertas",
           846.8398
          ],
          [
           "Olea de Boedo",
           929.4524
          ],
          [
           "Olmos de Ojeda",
           null
          ],
          [
           "Osornillo",
           812.6404
          ],
          [
           "Palencia",
           745.8375
          ],
          [
           "Palenzuela",
           797.952
          ],
          [
           "Páramo de Boedo",
           null
          ],
          [
           "Paredes de Nava",
           784.7175
          ],
          [
           "Payo de Ojeda",
           null
          ],
          [
           "Pedraza de Campos",
           755.1041
          ],
          [
           "Pedrosa de la Vega",
           892.6549
          ],
          [
           "Perales",
           777.6556
          ],
          [
           "Pino del Río",
           null
          ],
          [
           "Piña de Campos",
           764
          ],
          [
           "Población de Arroyo",
           856.0229
          ],
          [
           "Población de Campos",
           783.4893
          ],
          [
           "Población de Cerrato",
           757.9332
          ],
          [
           "Polentinos",
           1274.941
          ],
          [
           "Pomar de Valdivia",
           933.123
          ],
          [
           "Poza de la Vega",
           948.2457
          ],
          [
           "Pozo de Urama",
           822.1624
          ],
          [
           "Prádanos de Ojeda",
           940.287
          ],
          [
           "Puebla de Valdavia, La",
           941.0842
          ],
          [
           "Quintana del Puente",
           749.798
          ],
          [
           "Quintanilla de Onsoña",
           887
          ],
          [
           "Reinoso de Cerrato",
           null
          ],
          [
           "Renedo de la Vega",
           874.2899
          ],
          [
           "Requena de Campos",
           797.9777
          ],
          [
           "Respenda de la Peña",
           1013.032
          ],
          [
           "Revenga de Campos",
           787.4664
          ],
          [
           "Revilla de Collazos",
           932.0509
          ],
          [
           "Ribas de Campos",
           774.9756
          ],
          [
           "Riberos de la Cueza",
           832.8394
          ],
          [
           "Saldaña",
           916.6245
          ],
          [
           "Salinas de Pisuerga",
           944.0237
          ],
          [
           "San Cebrián de Campos",
           790.2224
          ],
          [
           "San Cebrián de Mudá",
           1037.153
          ],
          [
           "San Cristóbal de Boedo",
           869.1218
          ],
          [
           "San Mamés de Campos",
           820.2789
          ],
          [
           "San Román de la Cuba",
           807.9491
          ],
          [
           "Santa Cecilia del Alcor",
           842.3927
          ],
          [
           "Santa Cruz de Boedo",
           846.978
          ],
          [
           "Santervás de la Vega",
           923.4318
          ],
          [
           "Santibáñez de Ecla",
           948.8027
          ],
          [
           "Santibáñez de la Peña",
           1111.072
          ],
          [
           "Santoyo",
           795.4398
          ],
          [
           "Serna, La",
           868.7706
          ],
          [
           "Sotobañado y Priorato",
           893.8764
          ],
          [
           "Soto de Cerrato",
           727
          ],
          [
           "Tabanera de Cerrato",
           839.3667
          ],
          [
           "Tabanera de Valdavia",
           976.2473
          ],
          [
           "Támara de Campos",
           792.7064
          ],
          [
           "Tariego de Cerrato",
           736.2674
          ],
          [
           "Torquemada",
           746.9241
          ],
          [
           "Torremormojón",
           773.3138
          ],
          [
           "Triollo",
           1301.146
          ],
          [
           "Valbuena de Pisuerga",
           775.9148
          ],
          [
           "Valdeolmillos",
           786.3863
          ],
          [
           "Valderrábano",
           955.5308
          ],
          [
           "Valde-Ucieza",
           819.1132
          ],
          [
           "Valle de Cerrato",
           null
          ],
          [
           "Velilla del Río Carrión",
           1121.064
          ],
          [
           "Vertavillo",
           813.3558
          ],
          [
           "Villabasta de Valdavia",
           923.1686
          ],
          [
           "Villacidaler",
           793.0969
          ],
          [
           "Villaconancio",
           815.3722
          ],
          [
           "Villada",
           798.712
          ],
          [
           "Villaeles de Valdavia",
           885.7921
          ],
          [
           "Villahán",
           805.9824
          ],
          [
           "Villaherreros",
           826
          ],
          [
           "Villalaco",
           760.3248
          ],
          [
           "Villalba de Guardo",
           1052.94
          ],
          [
           "Villalcázar de Sirga",
           807.4279
          ],
          [
           "Villalcón",
           826.2475
          ],
          [
           "Villalobón",
           756.4676
          ],
          [
           "Villaluenga de la Vega",
           916
          ],
          [
           "Villamartín de Campos",
           750.0041
          ],
          [
           "Villamediana",
           785.6046
          ],
          [
           "Villameriel",
           904.6328
          ],
          [
           "Villamoronta",
           857.4798
          ],
          [
           "Villamuera de la Cueza",
           835.5288
          ],
          [
           "Villamuriel de Cerrato",
           727.2947
          ],
          [
           "Villanueva del Rebollar",
           840
          ],
          [
           "Villanuño de Valdavia",
           872.7621
          ],
          [
           "Villaprovedo",
           871.5985
          ],
          [
           "Villarmentero de Campos",
           789.4766
          ],
          [
           "Villarrabé",
           902.7899
          ],
          [
           "Villarramiel",
           767.2833
          ],
          [
           "Villasarracino",
           841.2697
          ],
          [
           "Villasila de Valdavia",
           867.3951
          ],
          [
           "Villaturde",
           843.3107
          ],
          [
           "Villaumbrales",
           760.1631
          ],
          [
           "Villaviudas",
           764.9033
          ],
          [
           "Villerías de Campos",
           755.412
          ],
          [
           "Villodre",
           766.6766
          ],
          [
           "Villodrigo",
           764.4204
          ],
          [
           "Villoldo",
           790.9491
          ],
          [
           "Villota del Páramo",
           1001.102
          ],
          [
           "Villovieco",
           787.0002
          ],
          [
           "Osorno la Mayor",
           808.4557
          ],
          [
           "Valle del Retortillo",
           null
          ],
          [
           "Loma de Ucieza",
           841.5579
          ],
          [
           "Pernía, La",
           1229.659
          ],
          [
           "Agaete",
           null
          ],
          [
           "Agüimes",
           null
          ],
          [
           "Antigua",
           null
          ],
          [
           "Arrecife",
           null
          ],
          [
           "Artenara",
           null
          ],
          [
           "Arucas",
           null
          ],
          [
           "Betancuria",
           null
          ],
          [
           "Firgas",
           null
          ],
          [
           "Gáldar",
           null
          ],
          [
           "Haría",
           null
          ],
          [
           "Ingenio",
           null
          ],
          [
           "Mogán",
           null
          ],
          [
           "Moya",
           null
          ],
          [
           "Oliva, La",
           null
          ],
          [
           "Pájara",
           null
          ],
          [
           "Palmas de Gran Canaria, Las",
           null
          ],
          [
           "Puerto del Rosario",
           null
          ],
          [
           "San Bartolomé",
           null
          ],
          [
           "San Bartolomé de Tirajana",
           null
          ],
          [
           "Aldea de San Nicolás, La",
           null
          ],
          [
           "Santa Brígida",
           null
          ],
          [
           "Santa Lucía de Tirajana",
           null
          ],
          [
           "Santa María de Guía de Gran Canaria",
           null
          ],
          [
           "Teguise",
           null
          ],
          [
           "Tejeda",
           null
          ],
          [
           "Telde",
           null
          ],
          [
           "Teror",
           null
          ],
          [
           "Tías",
           null
          ],
          [
           "Tinajo",
           null
          ],
          [
           "Tuineje",
           null
          ],
          [
           "Valsequillo de Gran Canaria",
           null
          ],
          [
           "Valleseco",
           null
          ],
          [
           "Vega de San Mateo",
           null
          ],
          [
           "Yaiza",
           null
          ],
          [
           "Arbo",
           150.7691
          ],
          [
           "Barro",
           66.8885
          ],
          [
           "Baiona",
           21.20054
          ],
          [
           "Bueu",
           44.66146
          ],
          [
           "Caldas de Reis",
           27.27038
          ],
          [
           "Cambados",
           14.76714
          ],
          [
           "Campo Lameiro",
           243.4357
          ],
          [
           "Cangas",
           10.73197
          ],
          [
           "Cañiza, A",
           568.6797
          ],
          [
           "Catoira",
           18.32608
          ],
          [
           "Covelo",
           380.7574
          ],
          [
           "Crecente",
           197.8595
          ],
          [
           "Cuntis",
           160.0568
          ],
          [
           "Dozón",
           748.7759
          ],
          [
           "Estrada, A",
           302.9033
          ],
          [
           "Forcarei",
           592.3196
          ],
          [
           "Fornelos de Montes",
           331.3943
          ],
          [
           "Agolada",
           583.5956
          ],
          [
           "Gondomar",
           17.18025
          ],
          [
           "Grove, O",
           14.24437
          ],
          [
           "Guarda, A",
           41.92845
          ],
          [
           "Lalín",
           557.2646
          ],
          [
           "Lama, A",
           97.33536
          ],
          [
           "Marín",
           19.78863
          ],
          [
           "Meaño",
           118.3362
          ],
          [
           "Meis",
           58.83432
          ],
          [
           "Moaña",
           129.5525
          ],
          [
           "Mondariz",
           117.1311
          ],
          [
           "Mondariz-Balneario",
           62.12397
          ],
          [
           "Moraña",
           381.2427
          ],
          [
           "Mos",
           212.5747
          ],
          [
           "Neves, As",
           162.8347
          ],
          [
           "Nigrán",
           56.04147
          ],
          [
           "Oia",
           24.84615
          ],
          [
           "Pazos de Borbén",
           236.8124
          ],
          [
           "Pontevedra",
           18.60786
          ],
          [
           "Porriño, O",
           40.00508
          ],
          [
           "Portas",
           129.5794
          ],
          [
           "Poio",
           195.026
          ],
          [
           "Ponteareas",
           41.39864
          ],
          [
           "Ponte Caldelas",
           292.4084
          ],
          [
           "Pontecesures",
           19.25962
          ],
          [
           "Redondela",
           15.94175
          ],
          [
           "Ribadumia",
           26.51637
          ],
          [
           "Rodeiro",
           630.3114
          ],
          [
           "Rosal, O",
           28.4151
          ],
          [
           "Salceda de Caselas",
           75.80363
          ],
          [
           "Salvaterra de Miño",
           32.76922
          ],
          [
           "Sanxenxo",
           7.093974
          ],
          [
           "Silleda",
           483.7768
          ],
          [
           "Soutomaior",
           118.3894
          ],
          [
           "Tomiño",
           40.81437
          ],
          [
           "Tui",
           43.46014
          ],
          [
           "Valga",
           45.98117
          ],
          [
           "Vigo",
           104.1391
          ],
          [
           "Vilaboa",
           72.6324
          ],
          [
           "Vila de Cruces",
           476.3511
          ],
          [
           "Vilagarcía de Arousa",
           11.04834
          ],
          [
           "Vilanova de Arousa",
           5.737418
          ],
          [
           "Illa de Arousa, A",
           0
          ],
          [
           "Cerdedo-Cotobade",
           null
          ],
          [
           "Abusejo",
           841.0999
          ],
          [
           "Agallas",
           801.2192
          ],
          [
           "Ahigal de los Aceiteros",
           643.92
          ],
          [
           "Ahigal de Villarino",
           765.2227
          ],
          [
           "Alameda de Gardón, La",
           717.412
          ],
          [
           "Alamedilla, La",
           757.1732
          ],
          [
           "Alaraz",
           884.6996
          ],
          [
           "Alba de Tormes",
           812.1788
          ],
          [
           "Alba de Yeltes",
           786.7349
          ],
          [
           "Alberca, La",
           1055.864
          ],
          [
           "Alberguería de Argañán, La",
           742.2288
          ],
          [
           "Alconada",
           831
          ],
          [
           "Aldeacipreste",
           867.7499
          ],
          [
           "Aldeadávila de la Ribera",
           685.362
          ],
          [
           "Aldea del Obispo",
           null
          ],
          [
           "Aldealengua",
           789.8329
          ],
          [
           "Aldeanueva de Figueroa",
           869.1683
          ],
          [
           "Aldeanueva de la Sierra",
           980.8896
          ],
          [
           "Aldearrodrigo",
           782.8179
          ],
          [
           "Aldearrubia",
           813.3408
          ],
          [
           "Aldeaseca de Alba",
           null
          ],
          [
           "Aldeaseca de la Frontera",
           null
          ],
          [
           "Aldeatejada",
           796.4962
          ],
          [
           "Aldeavieja de Tormes",
           911.0995
          ],
          [
           "Aldehuela de la Bóveda",
           null
          ],
          [
           "Aldehuela de Yeltes",
           null
          ],
          [
           "Almenara de Tormes",
           782.0564
          ],
          [
           "Almendra",
           765.9304
          ],
          [
           "Anaya de Alba",
           881.7967
          ],
          [
           "Añover de Tormes",
           804.0237
          ],
          [
           "Arabayona de Mógica",
           851.54
          ],
          [
           "Arapiles",
           841.4503
          ],
          [
           "Arcediano",
           825.3879
          ],
          [
           "Arco, El",
           null
          ],
          [
           "Armenteros",
           1051.29
          ],
          [
           "San Miguel del Robledo",
           1016.15
          ],
          [
           "Atalaya, La",
           795.277
          ],
          [
           "Babilafuente",
           800.2728
          ],
          [
           "Bañobárez",
           745.1431
          ],
          [
           "Barbadillo",
           805.1871
          ],
          [
           "Barbalos",
           904.4462
          ],
          [
           "Barceo",
           725.3111
          ],
          [
           "Barruecopardo",
           714.7976
          ],
          [
           "Bastida, La",
           1114.442
          ],
          [
           "Béjar",
           946.3267
          ],
          [
           "Beleña",
           885.9651
          ],
          [
           "Bermellar",
           634.8019
          ],
          [
           "Berrocal de Huebra",
           901.111
          ],
          [
           "Berrocal de Salvatierra",
           903.2983
          ],
          [
           "Boada",
           780.2197
          ],
          [
           "Bodón, El",
           794.6262
          ],
          [
           "Bogajo",
           711.4703
          ],
          [
           "Bouza, La",
           611.4578
          ],
          [
           "Bóveda del Río Almar",
           882.0773
          ],
          [
           "Brincones",
           764.189
          ],
          [
           "Buenamadre",
           759.6102
          ],
          [
           "Buenavista",
           941.6581
          ],
          [
           "Cabaco, El",
           964.9015
          ],
          [
           "Cabezabellosa de la Calzada",
           null
          ],
          [
           "Cabeza de Béjar, La",
           1029.441
          ],
          [
           "Cabeza del Caballo",
           730.4404
          ],
          [
           "Cabrerizos",
           825.5041
          ],
          [
           "Cabrillas",
           798.0694
          ],
          [
           "Calvarrasa de Abajo",
           800.4495
          ],
          [
           "Calvarrasa de Arriba",
           850.1463
          ],
          [
           "Calzada de Béjar, La",
           794.4747
          ],
          [
           "Calzada de Don Diego",
           815.0586
          ],
          [
           "Calzada de Valdunciel",
           801.944
          ],
          [
           "Campillo de Azaba",
           null
          ],
          [
           "Campo de Peñaranda, El",
           837.7207
          ],
          [
           "Candelario",
           1091.34
          ],
          [
           "Canillas de Abajo",
           811.4039
          ],
          [
           "Cantagallo",
           915.337
          ],
          [
           "Cantalapiedra",
           784.8248
          ],
          [
           "Cantalpino",
           809.6198
          ],
          [
           "Cantaracillo",
           913.4099
          ],
          [
           "Carbajosa de la Sagrada",
           793.0272
          ],
          [
           "Carpio de Azaba",
           null
          ],
          [
           "Carrascal de Barregas",
           794.4115
          ],
          [
           "Carrascal del Obispo",
           899.0852
          ],
          [
           "Casafranca",
           929.7108
          ],
          [
           "Casas del Conde, Las",
           679.6074
          ],
          [
           "Casillas de Flores",
           856.6022
          ],
          [
           "Castellanos de Moriscos",
           834.6884
          ],
          [
           "Castillejo de Martín Viejo",
           667.963
          ],
          [
           "Castraz",
           761.6857
          ],
          [
           "Cepeda",
           627.2601
          ],
          [
           "Cereceda de la Sierra",
           981.321
          ],
          [
           "Cerezal de Peñahorcada",
           701.7072
          ],
          [
           "Cerralbo",
           680.7393
          ],
          [
           "Cerro, El",
           988.4806
          ],
          [
           "Cespedosa de Tormes",
           1026.923
          ],
          [
           "Cilleros de la Bastida",
           1066.91
          ],
          [
           "Cipérez",
           774.0986
          ],
          [
           "Ciudad Rodrigo",
           642.403
          ],
          [
           "Coca de Alba",
           835.9797
          ],
          [
           "Colmenar de Montemayor",
           832.6315
          ],
          [
           "Cordovilla",
           829.8961
          ],
          [
           "Cristóbal",
           879.3582
          ],
          [
           "Cubo de Don Sancho, El",
           727.9621
          ],
          [
           "Chagarcía Medianero",
           1037.603
          ],
          [
           "Dios le Guarde",
           827.7272
          ],
          [
           "Doñinos de Ledesma",
           847.0023
          ],
          [
           "Doñinos de Salamanca",
           825.1975
          ],
          [
           "Éjeme",
           814.8564
          ],
          [
           "Encina, La",
           803.7103
          ],
          [
           "Encina, La",
           803.7103
          ],
          [
           "Encina de San Silvestre",
           null
          ],
          [
           "Encinas de Abajo",
           791.9091
          ],
          [
           "Encinas de Arriba",
           817.2836
          ],
          [
           "Encinasola de los Comendadores",
           708.7699
          ],
          [
           "Endrinal",
           923.6503
          ],
          [
           "Escurial de la Sierra",
           958.3282
          ],
          [
           "Espadaña",
           785.398
          ],
          [
           "Espeja",
           698.6036
          ],
          [
           "Espino de la Orbada",
           null
          ],
          [
           "Florida de Liébana",
           767.7192
          ],
          [
           "Forfoleda",
           792
          ],
          [
           "Frades de la Sierra",
           969.7409
          ],
          [
           "Fregeneda, La",
           524.0632
          ],
          [
           "Fresnedoso",
           1020.359
          ],
          [
           "Fresno Alhándiga",
           null
          ],
          [
           "Fuente de San Esteban, La",
           769.7069
          ],
          [
           "Fuenteguinaldo",
           857.3421
          ],
          [
           "Fuenteliante",
           722.4082
          ],
          [
           "Fuenterroble de Salvatierra",
           952.5548
          ],
          [
           "Fuentes de Béjar",
           906.1965
          ],
          [
           "Fuentes de Oñoro",
           737.6271
          ],
          [
           "Gajates",
           854.1697
          ],
          [
           "Galindo y Perahuy",
           798.0319
          ],
          [
           "Galinduste",
           947.1396
          ],
          [
           "Galisancho",
           820.5486
          ],
          [
           "Gallegos de Argañán",
           664.0316
          ],
          [
           "Gallegos de Solmirón",
           1109.974
          ],
          [
           "Garcibuey",
           699.9051
          ],
          [
           "Garcihernández",
           815.0062
          ],
          [
           "Garcirrey",
           812.2611
          ],
          [
           "Gejuelo del Barro",
           807.9324
          ],
          [
           "Golpejas",
           783.9107
          ],
          [
           "Gomecello",
           843.8534
          ],
          [
           "Guadramiro",
           748.9703
          ],
          [
           "Guijo de Ávila",
           null
          ],
          [
           "Guijuelo",
           1015.943
          ],
          [
           "Herguijuela de Ciudad Rodrigo",
           805.5259
          ],
          [
           "Herguijuela de la Sierra",
           649.6334
          ],
          [
           "Herguijuela del Campo",
           925.9821
          ],
          [
           "Hinojosa de Duero",
           null
          ],
          [
           "Horcajo de Montemayor",
           736.9137
          ],
          [
           "Horcajo Medianero",
           1001.317
          ],
          [
           "Hoya, La",
           1247.21
          ],
          [
           "Huerta",
           788.3081
          ],
          [
           "Iruelos",
           780.4797
          ],
          [
           "Ituero de Azaba",
           669.289
          ],
          [
           "Juzbado",
           795.5882
          ],
          [
           "Lagunilla",
           932.2834
          ],
          [
           "Larrodrigo",
           867.775
          ],
          [
           "Ledesma",
           773.7244
          ],
          [
           "Ledrada",
           884.9431
          ],
          [
           "Linares de Riofrío",
           957.4563
          ],
          [
           "Lumbrales",
           675.5071
          ],
          [
           "Macotera",
           893.4735
          ],
          [
           "Machacón",
           807.2266
          ],
          [
           "Madroñal",
           674.8745
          ],
          [
           "Maíllo, El",
           985.4587
          ],
          [
           "Malpartida",
           897.3098
          ],
          [
           "Mancera de Abajo",
           897.7108
          ],
          [
           "Manzano, El",
           779.5687
          ],
          [
           "Martiago",
           811.0814
          ],
          [
           "Martinamor",
           954.91
          ],
          [
           "Martín de Yeltes",
           762.9928
          ],
          [
           "Masueco",
           680.6115
          ],
          [
           "Castellanos de Villiquera",
           829.2123
          ],
          [
           "Mata de Ledesma, La",
           null
          ],
          [
           "Matilla de los Caños del Río",
           null
          ],
          [
           "Maya, La",
           834.4459
          ],
          [
           "Membribe de la Sierra",
           1025.661
          ],
          [
           "Mieza",
           662.1299
          ],
          [
           "Milano, El",
           731.6552
          ],
          [
           "Miranda de Azán",
           821.7861
          ],
          [
           "Miranda del Castañar",
           636.434
          ],
          [
           "Mogarraz",
           782.6704
          ],
          [
           "Molinillo",
           725.483
          ],
          [
           "Monforte de la Sierra",
           821.5292
          ],
          [
           "Monleón",
           872.0361
          ],
          [
           "Monleras",
           752.909
          ],
          [
           "Monsagro",
           965.6917
          ],
          [
           "Montejo",
           927.8253
          ],
          [
           "Montemayor del Río",
           643.6966
          ],
          [
           "Monterrubio de Armuña",
           null
          ],
          [
           "Monterrubio de la Sierra",
           null
          ],
          [
           "Morasverdes",
           896.1119
          ],
          [
           "Morille",
           933.8912
          ],
          [
           "Moríñigo",
           803.5493
          ],
          [
           "Moriscos",
           844.4398
          ],
          [
           "Moronta",
           764.1678
          ],
          [
           "Mozárbez",
           874.7148
          ],
          [
           "Narros de Matalayegua",
           985.0504
          ],
          [
           "Navacarros",
           1126.157
          ],
          [
           "Nava de Béjar",
           null
          ],
          [
           "Nava de Francia",
           null
          ],
          [
           "Nava de Sotrobal",
           null
          ],
          [
           "Navales",
           847.2195
          ],
          [
           "Navalmoral de Béjar",
           926.4265
          ],
          [
           "Navamorales",
           989.564
          ],
          [
           "Navarredonda de la Rinconada",
           null
          ],
          [
           "Navasfrías",
           903.6105
          ],
          [
           "Negrilla de Palencia",
           824.7216
          ],
          [
           "Olmedo de Camaces",
           711.8811
          ],
          [
           "Orbada, La",
           819.0842
          ],
          [
           "Pajares de la Laguna",
           827.5972
          ],
          [
           "Palacios del Arzobispo",
           823.892
          ],
          [
           "Palaciosrubios",
           806.4166
          ],
          [
           "Palencia de Negrilla",
           824.9493
          ],
          [
           "Parada de Arriba",
           824.8565
          ],
          [
           "Parada de Rubiales",
           845.3183
          ],
          [
           "Paradinas de San Juan",
           852.3538
          ],
          [
           "Pastores",
           769.4645
          ],
          [
           "Payo, El",
           924.1714
          ],
          [
           "Pedraza de Alba",
           896.6031
          ],
          [
           "Pedrosillo de Alba",
           837.5592
          ],
          [
           "Pedrosillo de los Aires",
           956.5556
          ],
          [
           "Pedrosillo el Ralo",
           815.6058
          ],
          [
           "Pedroso de la Armuña, El",
           null
          ],
          [
           "Pelabravo",
           815.6241
          ],
          [
           "Pelarrodríguez",
           756.4791
          ],
          [
           "Pelayos",
           935.5426
          ],
          [
           "Peña, La",
           698.4894
          ],
          [
           "Peñacaballera",
           874.3146
          ],
          [
           "Peñaparda",
           863.9899
          ],
          [
           "Peñaranda de Bracamonte",
           899.5543
          ],
          [
           "Peñarandilla",
           821.0045
          ],
          [
           "Peralejos de Abajo",
           773.447
          ],
          [
           "Peralejos de Arriba",
           788.0662
          ],
          [
           "Pereña de la Ribera",
           698.2541
          ],
          [
           "Peromingo",
           791.4692
          ],
          [
           "Pinedas",
           790.9607
          ],
          [
           "Pino de Tormes, El",
           null
          ],
          [
           "Pitiegua",
           846.9292
          ],
          [
           "Pizarral",
           908.2397
          ],
          [
           "Poveda de las Cintas",
           807.0439
          ],
          [
           "Pozos de Hinojo",
           735.0233
          ],
          [
           "Puebla de Azaba",
           665.5089
          ],
          [
           "Puebla de San Medel",
           967.3432
          ],
          [
           "Puebla de Yeltes",
           881.7862
          ],
          [
           "Puente del Congosto",
           941.1274
          ],
          [
           "Puertas",
           784.341
          ],
          [
           "Puerto de Béjar",
           929.1489
          ],
          [
           "Puerto Seguro",
           641.8528
          ],
          [
           "Rágama",
           847.4322
          ],
          [
           "Redonda, La",
           1026.249
          ],
          [
           "Redonda, La",
           669.5419
          ],
          [
           "Retortillo",
           735.7136
          ],
          [
           "Rinconada de la Sierra, La",
           null
          ],
          [
           "Robleda",
           837.2068
          ],
          [
           "Robliza de Cojos",
           818.6881
          ],
          [
           "Rollán",
           802.2749
          ],
          [
           "Saelices el Chico",
           658.7722
          ],
          [
           "Sagrada, La",
           null
          ],
          [
           "Salamanca",
           802.7915
          ],
          [
           "Saldeana",
           664.0504
          ],
          [
           "Salmoral",
           910.3112
          ],
          [
           "Salvatierra de Tormes",
           900.8209
          ],
          [
           "San Cristóbal de la Cuesta",
           820.1966
          ],
          [
           "Sancti-Spíritus",
           760.9977
          ],
          [
           "Sanchón de la Ribera",
           725.8375
          ],
          [
           "Sanchón de la Sagrada",
           862.8228
          ],
          [
           "Sanchotello",
           938.9756
          ],
          [
           "Sando",
           838.4528
          ],
          [
           "San Esteban de la Sierra",
           631.8868
          ],
          [
           "San Felices de los Gallegos",
           667.4055
          ],
          [
           "San Martín del Castañar",
           841.831
          ],
          [
           "San Miguel de Valero",
           932.705
          ],
          [
           "San Morales",
           794.9968
          ],
          [
           "San Muñoz",
           783.1349
          ],
          [
           "San Pedro del Valle",
           790.4227
          ],
          [
           "San Pedro de Rozados",
           975.6448
          ],
          [
           "San Pelayo de Guareña",
           789.7009
          ],
          [
           "Santa María de Sando",
           824.6718
          ],
          [
           "Santa Marta de Tormes",
           779.7791
          ],
          [
           "Santiago de la Puebla",
           868.9525
          ],
          [
           "Santibáñez de Béjar",
           922.2231
          ],
          [
           "Santibáñez de la Sierra",
           615.7195
          ],
          [
           "Santiz",
           892
          ],
          [
           "Santos, Los",
           944.6475
          ],
          [
           "Sardón de los Frailes",
           737.1103
          ],
          [
           "Saucelle",
           666.158
          ],
          [
           "Sahugo, El",
           818.3651
          ],
          [
           "Sepulcro-Hilario",
           831.1911
          ],
          [
           "Sequeros",
           943.9675
          ],
          [
           "Serradilla del Arroyo",
           853.9916
          ],
          [
           "Serradilla del Llano",
           876.2202
          ],
          [
           "Sierpe, La",
           925.3212
          ],
          [
           "Sieteiglesias de Tormes",
           821
          ],
          [
           "Sobradillo",
           652.3832
          ],
          [
           "Sorihuela",
           1001.709
          ],
          [
           "Sotoserrano",
           509.2324
          ],
          [
           "Tabera de Abajo",
           810.5211
          ],
          [
           "Tala, La",
           918.5034
          ],
          [
           "Tamames",
           901.3917
          ],
          [
           "Tarazona de Guareña",
           770.5272
          ],
          [
           "Tardáguila",
           831.7318
          ],
          [
           "Tejado, El",
           976.1771
          ],
          [
           "Tejeda y Segoyuela",
           929.616
          ],
          [
           "Tenebrón",
           824.368
          ],
          [
           "Terradillos",
           890.0266
          ],
          [
           "Topas",
           824.9239
          ],
          [
           "Tordillos",
           838.7855
          ],
          [
           "Tornadizo, El",
           884.6722
          ],
          [
           "Torresmenudas",
           789.4065
          ],
          [
           "Trabanca",
           743.7527
          ],
          [
           "Tremedal de Tormes",
           767.5543
          ],
          [
           "Valdecarros",
           883.4447
          ],
          [
           "Valdefuentes de Sangusín",
           897.4296
          ],
          [
           "Valdehijaderos",
           778.0461
          ],
          [
           "Valdelacasa",
           957.9121
          ],
          [
           "Valdelageve",
           657.5203
          ],
          [
           "Valdelosa",
           841.7576
          ],
          [
           "Valdemierque",
           938.8387
          ],
          [
           "Valderrodrigo",
           733.0906
          ],
          [
           "Valdunciel",
           806.5008
          ],
          [
           "Valero",
           595.4124
          ],
          [
           "Valsalabroso",
           729.0405
          ],
          [
           "Valverde de Valdelacasa",
           804.0566
          ],
          [
           "Valverdón",
           767.7844
          ],
          [
           "Vallejera de Riofrío",
           1140.328
          ],
          [
           "Vecinos",
           888.3599
          ],
          [
           "Vega de Tirados",
           783.0811
          ],
          [
           "Veguillas, Las",
           1041.142
          ],
          [
           "Vellés, La",
           809.2722
          ],
          [
           "Ventosa del Río Almar",
           853.9965
          ],
          [
           "Vídola, La",
           697.9411
          ],
          [
           "Vilvestre",
           582.2014
          ],
          [
           "Villaflores",
           794.5469
          ],
          [
           "Villagonzalo de Tormes",
           805.2603
          ],
          [
           "Villalba de los Llanos",
           835.8166
          ],
          [
           "Villamayor",
           786.5375
          ],
          [
           "Villanueva del Conde",
           800.9477
          ],
          [
           "Villar de Argañán",
           717.7349
          ],
          [
           "Villar de Ciervo",
           678.7781
          ],
          [
           "Villar de Gallimazo",
           857.1204
          ],
          [
           "Villar de la Yegua",
           711.8369
          ],
          [
           "Villar de Peralonso",
           820.0938
          ],
          [
           "Villar de Samaniego",
           743.1362
          ],
          [
           "Villares de la Reina",
           null
          ],
          [
           "Villares de Yeltes",
           null
          ],
          [
           "Villarino de los Aires",
           605.4351
          ],
          [
           "Villarmayor",
           827.4609
          ],
          [
           "Villarmuerto",
           767.4649
          ],
          [
           "Villasbuenas",
           734.7009
          ],
          [
           "Villasdardo",
           813.8005
          ],
          [
           "Villaseco de los Gamitos",
           834.4906
          ],
          [
           "Villaseco de los Reyes",
           771.2275
          ],
          [
           "Villasrubias",
           850.7972
          ],
          [
           "Villaverde de Guareña",
           829.9338
          ],
          [
           "Villavieja de Yeltes",
           741.9375
          ],
          [
           "Villoria",
           818.5666
          ],
          [
           "Villoruela",
           824.9141
          ],
          [
           "Vitigudino",
           763.2999
          ],
          [
           "Yecla de Yeltes",
           721.6814
          ],
          [
           "Zamarra",
           777.2296
          ],
          [
           "Zamayón",
           813.7863
          ],
          [
           "Zarapicos",
           783.1765
          ],
          [
           "Zarza de Pumareda, La",
           null
          ],
          [
           "Zorita de la Frontera",
           830.3544
          ],
          [
           "Adeje",
           288.9392
          ],
          [
           "Agulo",
           199.3272
          ],
          [
           "Alajeró",
           821.5216
          ],
          [
           "Arafo",
           432.3514
          ],
          [
           "Arico",
           362.0416
          ],
          [
           "Arona",
           630.8655
          ],
          [
           "Barlovento",
           560.6917
          ],
          [
           "Breña Alta",
           370.9761
          ],
          [
           "Breña Baja",
           539.2067
          ],
          [
           "Buenavista del Norte",
           127.8591
          ],
          [
           "Candelaria",
           10
          ],
          [
           "Fasnia",
           482.8613
          ],
          [
           "Frontera",
           339.0463
          ],
          [
           "Fuencaliente de la Palma",
           604.7274
          ],
          [
           "Garachico",
           11.52424
          ],
          [
           "Garafía",
           899.6116
          ],
          [
           "Granadilla de Abona",
           647.0933
          ],
          [
           "Guancha, La",
           483.8696
          ],
          [
           "Guía de Isora",
           590.0607
          ],
          [
           "Güímar",
           307.1391
          ],
          [
           "Hermigua",
           127.1466
          ],
          [
           "Icod de los Vinos",
           229.9812
          ],
          [
           "San Cristóbal de La Laguna",
           548.1752
          ],
          [
           "Llanos de Aridane, Los",
           345.7089
          ],
          [
           "Matanza de Acentejo, La",
           282.3254
          ],
          [
           "Orotava, La",
           342.5714
          ],
          [
           "Paso, El",
           669.5245
          ],
          [
           "Puerto de la Cruz",
           53.82357
          ],
          [
           "Puntagorda",
           849.1637
          ],
          [
           "Puntallana",
           494.2469
          ],
          [
           "Realejos, Los",
           596.4269
          ],
          [
           "Rosario, El",
           722.4636
          ],
          [
           "San Andrés y Sauces",
           60.90185
          ],
          [
           "San Juan de la Rambla",
           50.26696
          ],
          [
           "San Miguel de Abona",
           604.5886
          ],
          [
           "San Sebastián de la Gomera",
           2.807406
          ],
          [
           "Santa Cruz de la Palma",
           3.883548
          ],
          [
           "Santa Cruz de Tenerife",
           41.29388
          ],
          [
           "Santa Úrsula",
           284.0858
          ],
          [
           "Santiago del Teide",
           929.3008
          ],
          [
           "Sauzal, El",
           323.1106
          ],
          [
           "Silos, Los",
           99.97398
          ],
          [
           "Tacoronte",
           488.9084
          ],
          [
           "Tanque, El",
           1027.389
          ],
          [
           "Tazacorte",
           124.7486
          ],
          [
           "Tegueste",
           412.2942
          ],
          [
           "Tijarafe",
           615.9692
          ],
          [
           "Valverde",
           588.4797
          ],
          [
           "Valle Gran Rey",
           null
          ],
          [
           "Vallehermoso",
           181.5817
          ],
          [
           "Victoria de Acentejo, La",
           null
          ],
          [
           "Vilaflor de Chasna",
           null
          ],
          [
           "Villa de Mazo",
           965.7053
          ],
          [
           "Pinar de El Hierro, El",
           null
          ],
          [
           "Alfoz de Lloredo",
           191.1736
          ],
          [
           "Ampuero",
           14.41542
          ],
          [
           "Anievas",
           307.6791
          ],
          [
           "Arenas de Iguña",
           175.7548
          ],
          [
           "Argoños",
           7.686848
          ],
          [
           "Arnuero",
           58.03693
          ],
          [
           "Arredondo",
           162.1712
          ],
          [
           "Astillero, El",
           15.58059
          ],
          [
           "Bárcena de Cicero",
           8.115047
          ],
          [
           "Bárcena de Pie de Concha",
           341.4135
          ],
          [
           "Bareyo",
           74.22401
          ],
          [
           "Cabezón de la Sal",
           126.715
          ],
          [
           "Cabezón de Liébana",
           368.491
          ],
          [
           "Cabuérniga",
           279.0297
          ],
          [
           "Camaleño",
           442.6653
          ],
          [
           "Camargo",
           27.12142
          ],
          [
           "Campoo de Yuso",
           854.9267
          ],
          [
           "Cartes",
           34.01722
          ],
          [
           "Castañeda",
           51.33138
          ],
          [
           "Castro-Urdiales",
           13.48153
          ],
          [
           "Cieza",
           238.8728
          ],
          [
           "Cillorigo de Liébana",
           491.4029
          ],
          [
           "Colindres",
           7.550448
          ],
          [
           "Comillas",
           24.99873
          ],
          [
           "Corrales de Buelna, Los",
           null
          ],
          [
           "Corvera de Toranzo",
           317.1393
          ],
          [
           "Campoo de Enmedio",
           878.4844
          ],
          [
           "Entrambasaguas",
           44.69009
          ],
          [
           "Escalante",
           8.192403
          ],
          [
           "Guriezo",
           13.48724
          ],
          [
           "Hazas de Cesto",
           66.35742
          ],
          [
           "Hermandad de Campoo de Suso",
           912.019
          ],
          [
           "Herrerías",
           193.9438
          ],
          [
           "Lamasón",
           315.1235
          ],
          [
           "Laredo",
           13.43072
          ],
          [
           "Liendo",
           29.383
          ],
          [
           "Liérganes",
           87.95516
          ],
          [
           "Limpias",
           305.4288
          ],
          [
           "Luena",
           495.1068
          ],
          [
           "Marina de Cudeyo",
           16.28183
          ],
          [
           "Mazcuerras",
           133.059
          ],
          [
           "Medio Cudeyo",
           37.2541
          ],
          [
           "Meruelo",
           35.97668
          ],
          [
           "Miengo",
           14.39486
          ],
          [
           "Miera",
           338.0346
          ],
          [
           "Molledo",
           248.2709
          ],
          [
           "Noja",
           24.97051
          ],
          [
           "Penagos",
           129.0727
          ],
          [
           "Peñarrubia",
           475.7796
          ],
          [
           "Pesaguero",
           608.4185
          ],
          [
           "Pesquera",
           614.1819
          ],
          [
           "Piélagos",
           39.58884
          ],
          [
           "Polaciones",
           887.2664
          ],
          [
           "Polanco",
           52.85626
          ],
          [
           "Potes",
           309.7742
          ],
          [
           "Puente Viesgo",
           70.55008
          ],
          [
           "Ramales de la Victoria",
           86.5575
          ],
          [
           "Rasines",
           88.65132
          ],
          [
           "Reinosa",
           853.8888
          ],
          [
           "Reocín",
           115.7464
          ],
          [
           "Ribamontán al Mar",
           29.16733
          ],
          [
           "Ribamontán al Monte",
           59.71571
          ],
          [
           "Rionansa",
           210.4719
          ],
          [
           "Riotuerto",
           126.3817
          ],
          [
           "Rozas de Valdearroyo, Las",
           854.1373
          ],
          [
           "Ruente",
           189.9705
          ],
          [
           "Ruesga",
           149.2516
          ],
          [
           "Ruiloba",
           44.85384
          ],
          [
           "San Felices de Buelna",
           105.392
          ],
          [
           "San Miguel de Aguayo",
           839.2117
          ],
          [
           "San Pedro del Romeral",
           755.9124
          ],
          [
           "San Roque de Riomiera",
           378.2011
          ],
          [
           "Santa Cruz de Bezana",
           42.96122
          ],
          [
           "Santa María de Cayón",
           94.75117
          ],
          [
           "Santander",
           4.1
          ],
          [
           "Santillana del Mar",
           84.16537
          ],
          [
           "Santiurde de Reinosa",
           647.917
          ],
          [
           "Santiurde de Toranzo",
           122.0352
          ],
          [
           "Santoña",
           8.660443
          ],
          [
           "San Vicente de la Barquera",
           3.441201
          ],
          [
           "Saro",
           162.4471
          ],
          [
           "Selaya",
           242.945
          ],
          [
           "Soba",
           320.8042
          ],
          [
           "Solórzano",
           89.04234
          ],
          [
           "Suances",
           90.53543
          ],
          [
           "Tojos, Los",
           623.6432
          ],
          [
           "Torrelavega",
           24.9647
          ],
          [
           "Tresviso",
           888.7922
          ],
          [
           "Tudanca",
           420.3354
          ],
          [
           "Udías",
           169.41
          ],
          [
           "Valdáliga",
           46.15511
          ],
          [
           "Valdeolea",
           930.1546
          ],
          [
           "Valdeprado del Río",
           914.2877
          ],
          [
           "Valderredible",
           725.1385
          ],
          [
           "Val de San Vicente",
           32.28376
          ],
          [
           "Vega de Liébana",
           1232.006
          ],
          [
           "Vega de Pas",
           357.8255
          ],
          [
           "Villacarriedo",
           213.2215
          ],
          [
           "Villaescusa",
           22.27066
          ],
          [
           "Villafufre",
           224.6329
          ],
          [
           "Valle de Villaverde",
           null
          ],
          [
           "Voto",
           30.99223
          ],
          [
           "Abades",
           972.9816
          ],
          [
           "Adrada de Pirón",
           null
          ],
          [
           "Adrados",
           885.7927
          ],
          [
           "Aguilafuente",
           890.7866
          ],
          [
           "Alconada de Maderuelo",
           941.0287
          ],
          [
           "Aldealcorvo",
           954.9659
          ],
          [
           "Aldealengua de Pedraza",
           1224.668
          ],
          [
           "Aldealengua de Santa María",
           956.4097
          ],
          [
           "Aldeanueva de la Serrezuela",
           1133.43
          ],
          [
           "Aldeanueva del Codonal",
           860.4335
          ],
          [
           "Aldea Real",
           null
          ],
          [
           "Aldeasoña",
           829.5284
          ],
          [
           "Aldehorno",
           961.0057
          ],
          [
           "Aldehuela del Codonal",
           null
          ],
          [
           "Aldeonte",
           966.3133
          ],
          [
           "Anaya",
           888.5967
          ],
          [
           "Añe",
           876.4594
          ],
          [
           "Arahuetes",
           1094.234
          ],
          [
           "Arcones",
           1151.102
          ],
          [
           "Arevalillo de Cega",
           1042.221
          ],
          [
           "Armuña",
           908.2159
          ],
          [
           "Ayllón",
           1000.703
          ],
          [
           "Barbolla",
           942.1429
          ],
          [
           "Basardilla",
           1094.927
          ],
          [
           "Bercial",
           972.6617
          ],
          [
           "Bercimuel",
           967.4302
          ],
          [
           "Bernardos",
           901.9694
          ],
          [
           "Bernuy de Porreros",
           1016.847
          ],
          [
           "Boceguillas",
           962.1383
          ],
          [
           "Brieva",
           1090.915
          ],
          [
           "Caballar",
           1009.216
          ],
          [
           "Cabañas de Polendos",
           940.3881
          ],
          [
           "Cabezuela",
           950.7864
          ],
          [
           "Calabazas de Fuentidueña",
           909.485
          ],
          [
           "Campo de San Pedro",
           970.5167
          ],
          [
           "Cantalejo",
           963.2977
          ],
          [
           "Cantimpalos",
           909.5023
          ],
          [
           "Carbonero el Mayor",
           922.6301
          ],
          [
           "Carrascal del Río",
           856.5717
          ],
          [
           "Casla",
           1077.447
          ],
          [
           "Castillejo de Mesleón",
           1015.715
          ],
          [
           "Castro de Fuentidueña",
           1099.253
          ],
          [
           "Castrojimeno",
           1083.13
          ],
          [
           "Castroserna de Abajo",
           null
          ],
          [
           "Castroserracín",
           1136.012
          ],
          [
           "Cedillo de la Torre",
           1021.628
          ],
          [
           "Cerezo de Abajo",
           1047.832
          ],
          [
           "Cerezo de Arriba",
           1128.88
          ],
          [
           "Cilleruelo de San Mamés",
           986.2485
          ],
          [
           "Cobos de Fuentidueña",
           837.217
          ],
          [
           "Coca",
           783.8333
          ],
          [
           "Codorniz",
           889.9684
          ],
          [
           "Collado Hermoso",
           1220.754
          ],
          [
           "Condado de Castilnovo",
           998.777
          ],
          [
           "Corral de Ayllón",
           1027.357
          ],
          [
           "Cubillo",
           1066.817
          ],
          [
           "Cuéllar",
           873.2888
          ],
          [
           "Chañe",
           767.6998
          ],
          [
           "Domingo García",
           899.2606
          ],
          [
           "Donhierro",
           804.6583
          ],
          [
           "Duruelo",
           1012.408
          ],
          [
           "Encinas",
           1009.99
          ],
          [
           "Encinillas",
           949.6232
          ],
          [
           "Escalona del Prado",
           896.3405
          ],
          [
           "Escarabajosa de Cabezas",
           884.6951
          ],
          [
           "Escobar de Polendos",
           905.3851
          ],
          [
           "Espinar, El",
           null
          ],
          [
           "Espirdo",
           1067.382
          ],
          [
           "Fresneda de Cuéllar",
           null
          ],
          [
           "Fresno de Cantespino",
           null
          ],
          [
           "Fresno de la Fuente",
           null
          ],
          [
           "Frumales",
           820
          ],
          [
           "Fuente de Santa Cruz",
           831.7021
          ],
          [
           "Fuente el Olmo de Fuentidueña",
           851.1677
          ],
          [
           "Fuente el Olmo de Íscar",
           775.7598
          ],
          [
           "Fuentepelayo",
           869.318
          ],
          [
           "Fuentepiñel",
           891.1735
          ],
          [
           "Fuenterrebollo",
           929.0509
          ],
          [
           "Fuentesaúco de Fuentidueña",
           897.0123
          ],
          [
           "Fuentesoto",
           942.894
          ],
          [
           "Fuentidueña",
           838.3236
          ],
          [
           "Gallegos",
           1234.033
          ],
          [
           "Garcillán",
           917
          ],
          [
           "Gomezserracín",
           805
          ],
          [
           "Grajera",
           1012.895
          ],
          [
           "Honrubia de la Cuesta",
           993.7116
          ],
          [
           "Hontalbilla",
           893.8555
          ],
          [
           "Hontanares de Eresma",
           880.4162
          ],
          [
           "Huertos, Los",
           874.0368
          ],
          [
           "Ituero y Lama",
           1002.227
          ],
          [
           "Juarros de Riomoros",
           916.307
          ],
          [
           "Juarros de Voltoya",
           853.621
          ],
          [
           "Labajos",
           1063.336
          ],
          [
           "Laguna de Contreras",
           801.9667
          ],
          [
           "Languilla",
           947.9021
          ],
          [
           "Lastras de Cuéllar",
           902.9059
          ],
          [
           "Lastras del Pozo",
           966.7155
          ],
          [
           "Lastrilla, La",
           1065.97
          ],
          [
           "Losa, La",
           null
          ],
          [
           "Maderuelo",
           948.9968
          ],
          [
           "Marazuela",
           909.9414
          ],
          [
           "Martín Miguel",
           916.2261
          ],
          [
           "Martín Muñoz de la Dehesa",
           835.0771
          ],
          [
           "Martín Muñoz de las Posadas",
           895.8978
          ],
          [
           "Marugán",
           958.082
          ],
          [
           "Matabuena",
           1157.678
          ],
          [
           "Mata de Cuéllar",
           null
          ],
          [
           "Matilla, La",
           1084.459
          ],
          [
           "Melque de Cercos",
           859.2445
          ],
          [
           "Membibre de la Hoz",
           866.361
          ],
          [
           "Migueláñez",
           885.0084
          ],
          [
           "Montejo de Arévalo",
           801.1225
          ],
          [
           "Montejo de la Vega de la Serrezuela",
           865.232
          ],
          [
           "Monterrubio",
           948.3826
          ],
          [
           "Moral de Hornuez",
           1095.375
          ],
          [
           "Mozoncillo",
           947.8896
          ],
          [
           "Muñopedro",
           1023
          ],
          [
           "Muñoveros",
           962.0355
          ],
          [
           "Nava de la Asunción",
           null
          ],
          [
           "Navafría",
           1203.15
          ],
          [
           "Navalilla",
           900.9603
          ],
          [
           "Navalmanzano",
           840.0873
          ],
          [
           "Navares de Ayuso",
           1013.812
          ],
          [
           "Navares de Enmedio",
           1041.241
          ],
          [
           "Navares de las Cuevas",
           1115.182
          ],
          [
           "Navas de Oro",
           808.3718
          ],
          [
           "Navas de San Antonio",
           1165.014
          ],
          [
           "Nieva",
           842.8079
          ],
          [
           "Olombrada",
           874.9899
          ],
          [
           "Orejana",
           1060.189
          ],
          [
           "Ortigosa de Pestaño",
           858.879
          ],
          [
           "Otero de Herreros",
           1140.483
          ],
          [
           "Pajarejos",
           988.6074
          ],
          [
           "Palazuelos de Eresma",
           1084.439
          ],
          [
           "Pedraza",
           1048.704
          ],
          [
           "Pelayos del Arroyo",
           1142.212
          ],
          [
           "Perosillo",
           833.2657
          ],
          [
           "Pinarejos",
           821
          ],
          [
           "Pinarnegrillo",
           856
          ],
          [
           "Carabias",
           null
          ],
          [
           "Prádena",
           1121.578
          ],
          [
           "Puebla de Pedraza",
           949.6524
          ],
          [
           "Rapariegos",
           857.2944
          ],
          [
           "Rebollo",
           985.6013
          ],
          [
           "Remondo",
           755.8116
          ],
          [
           "Riaguas de San Bartolomé",
           931.5925
          ],
          [
           "Riaza",
           1194.166
          ],
          [
           "Ribota",
           1032.616
          ],
          [
           "Riofrío de Riaza",
           1322.25
          ],
          [
           "Roda de Eresma",
           null
          ],
          [
           "Sacramenia",
           850.554
          ],
          [
           "Samboal",
           795
          ],
          [
           "San Cristóbal de Cuéllar",
           809.5489
          ],
          [
           "San Cristóbal de la Vega",
           858.2177
          ],
          [
           "Sanchonuño",
           805.1132
          ],
          [
           "Sangarcía",
           945.6377
          ],
          [
           "Real Sitio de San Ildefonso",
           null
          ],
          [
           "San Martín y Mudrián",
           818.941
          ],
          [
           "San Miguel de Bernuy",
           840.4734
          ],
          [
           "San Pedro de Gaíllos",
           988.7416
          ],
          [
           "Santa María la Real de Nieva",
           900.8523
          ],
          [
           "Santa Marta del Cerro",
           1024.784
          ],
          [
           "Santiuste de Pedraza",
           1156.046
          ],
          [
           "Santiuste de San Juan Bautista",
           820.4395
          ],
          [
           "Santo Domingo de Pirón",
           1083.149
          ],
          [
           "Santo Tomé del Puerto",
           1269.86
          ],
          [
           "Sauquillo de Cabezas",
           908.03
          ],
          [
           "Sebúlcor",
           938.8392
          ],
          [
           "Segovia",
           1012.785
          ],
          [
           "Sepúlveda",
           976.1324
          ],
          [
           "Sequera de Fresno",
           1000.115
          ],
          [
           "Sotillo",
           982.9819
          ],
          [
           "Sotosalbos",
           1163.243
          ],
          [
           "Tabanera la Luenga",
           905.6036
          ],
          [
           "Tolocirio",
           809.3814
          ],
          [
           "Torreadrada",
           1087.067
          ],
          [
           "Torrecaballeros",
           1159.816
          ],
          [
           "Torrecilla del Pinar",
           871.2332
          ],
          [
           "Torreiglesias",
           1019.401
          ],
          [
           "Torre Val de San Pedro",
           null
          ],
          [
           "Trescasas",
           1117.163
          ],
          [
           "Turégano",
           943.3245
          ],
          [
           "Urueñas",
           1051.304
          ],
          [
           "Valdeprados",
           987.1275
          ],
          [
           "Valdevacas de Montejo",
           1121.339
          ],
          [
           "Valdevacas y Guijar",
           1097.263
          ],
          [
           "Valseca",
           942.7326
          ],
          [
           "Valtiendas",
           918.6631
          ],
          [
           "Valverde del Majano",
           924.8687
          ],
          [
           "Valle de Tabladillo",
           null
          ],
          [
           "Vallelado",
           779.4292
          ],
          [
           "Valleruela de Pedraza",
           1093.092
          ],
          [
           "Valleruela de Sepúlveda",
           1095.099
          ],
          [
           "Veganzones",
           916.5224
          ],
          [
           "Vegas de Matute",
           1020.674
          ],
          [
           "Ventosilla y Tejadilla",
           1126.269
          ],
          [
           "Villacastín",
           1102.828
          ],
          [
           "Villaverde de Íscar",
           763.1172
          ],
          [
           "Villaverde de Montejo",
           1043.897
          ],
          [
           "Villeguillo",
           770.3413
          ],
          [
           "Yanguas de Eresma",
           889.0092
          ],
          [
           "Zarzuela del Monte",
           1005.036
          ],
          [
           "Zarzuela del Pinar",
           877.3031
          ],
          [
           "Ortigosa del Monte",
           1107.927
          ],
          [
           "Cozuelos de Fuentidueña",
           878.4466
          ],
          [
           "Marazoleja",
           912.3766
          ],
          [
           "Navas de Riofrío",
           1102.874
          ],
          [
           "Cuevas de Provanco",
           887.5039
          ],
          [
           "San Cristóbal de Segovia",
           1075.621
          ],
          [
           "Aguadulce",
           269.4199
          ],
          [
           "Alanís",
           674.499
          ],
          [
           "Albaida del Aljarafe",
           165.9894
          ],
          [
           "Alcalá de Guadaíra",
           55.89719
          ],
          [
           "Alcalá del Río",
           27.89068
          ],
          [
           "Alcolea del Río",
           31.59125
          ],
          [
           "Algaba, La",
           11.90946
          ],
          [
           "Algámitas",
           426.4051
          ],
          [
           "Almadén de la Plata",
           454.1956
          ],
          [
           "Almensilla",
           46.3095
          ],
          [
           "Arahal",
           119.1923
          ],
          [
           "Aznalcázar",
           66.94781
          ],
          [
           "Aznalcóllar",
           142.9431
          ],
          [
           "Badolatosa",
           223.3192
          ],
          [
           "Benacazón",
           122.7115
          ],
          [
           "Bollullos de la Mitación",
           89.16615
          ],
          [
           "Bormujos",
           100.3896
          ],
          [
           "Brenes",
           20.4634
          ],
          [
           "Burguillos",
           82.8983
          ],
          [
           "Cabezas de San Juan, Las",
           66.06638
          ],
          [
           "Camas",
           10.96704
          ],
          [
           "Campana, La",
           138.4237
          ],
          [
           "Cantillana",
           31.12143
          ],
          [
           "Carmona",
           217.9807
          ],
          [
           "Carrión de los Céspedes",
           101.1786
          ],
          [
           "Casariche",
           307.1805
          ],
          [
           "Castilblanco de los Arroyos",
           328.9605
          ],
          [
           "Castilleja de Guzmán",
           132.0701
          ],
          [
           "Castilleja de la Cuesta",
           99.49868
          ],
          [
           "Castilleja del Campo",
           117.3369
          ],
          [
           "Castillo de las Guardas, El",
           344.4214
          ],
          [
           "Cazalla de la Sierra",
           589.1179
          ],
          [
           "Constantina",
           562.725
          ],
          [
           "Coria del Río",
           12.71133
          ],
          [
           "Coripe",
           322.8958
          ],
          [
           "Coronil, El",
           135
          ],
          [
           "Corrales, Los",
           387.234
          ],
          [
           "Dos Hermanas",
           47.75739
          ],
          [
           "Écija",
           109
          ],
          [
           "Espartinas",
           129.527
          ],
          [
           "Estepa",
           536.463
          ],
          [
           "Fuentes de Andalucía",
           181.6506
          ],
          [
           "Garrobo, El",
           269.6107
          ],
          [
           "Gelves",
           9.087679
          ],
          [
           "Gerena",
           91.18767
          ],
          [
           "Gilena",
           466
          ],
          [
           "Gines",
           122.6012
          ],
          [
           "Guadalcanal",
           666.4088
          ],
          [
           "Guillena",
           23.11958
          ],
          [
           "Herrera",
           250.9977
          ],
          [
           "Huévar del Aljarafe",
           72.44372
          ],
          [
           "Lantejuela",
           null
          ],
          [
           "Lebrija",
           36.06404
          ],
          [
           "Lora de Estepa",
           447.5596
          ],
          [
           "Lora del Río",
           42.94636
          ],
          [
           "Luisiana, La",
           170.004
          ],
          [
           "Madroño, El",
           357.1227
          ],
          [
           "Mairena del Alcor",
           131.1066
          ],
          [
           "Mairena del Aljarafe",
           67.95491
          ],
          [
           "Marchena",
           132.541
          ],
          [
           "Marinaleda",
           211.5678
          ],
          [
           "Martín de la Jara",
           403.103
          ],
          [
           "Molares, Los",
           78.48339
          ],
          [
           "Montellano",
           270.6418
          ],
          [
           "Morón de la Frontera",
           231.4267
          ],
          [
           "Navas de la Concepción, Las",
           433.0268
          ],
          [
           "Olivares",
           173.8805
          ],
          [
           "Osuna",
           291.4922
          ],
          [
           "Palacios y Villafranca, Los",
           8.847688
          ],
          [
           "Palomares del Río",
           38.78385
          ],
          [
           "Paradas",
           124.3341
          ],
          [
           "Pedrera",
           456.6477
          ],
          [
           "Pedroso, El",
           null
          ],
          [
           "Peñaflor",
           56.938
          ],
          [
           "Pilas",
           69.78975
          ],
          [
           "Pruna",
           546.836
          ],
          [
           "Puebla de Cazalla, La",
           173.4698
          ],
          [
           "Puebla de los Infantes, La",
           235.6329
          ],
          [
           "Puebla del Río, La",
           21.86605
          ],
          [
           "Real de la Jara, El",
           462.9557
          ],
          [
           "Rinconada, La",
           11.99988
          ],
          [
           "Roda de Andalucía, La",
           null
          ],
          [
           "Ronquillo, El",
           337.517
          ],
          [
           "Rubio, El",
           207.1797
          ],
          [
           "Salteras",
           153.2617
          ],
          [
           "San Juan de Aznalfarache",
           52.55407
          ],
          [
           "Sanlúcar la Mayor",
           135.8951
          ],
          [
           "San Nicolás del Puerto",
           588.4053
          ],
          [
           "Santiponce",
           16.95212
          ],
          [
           "Saucejo, El",
           533.4467
          ],
          [
           "Sevilla",
           8.265573
          ],
          [
           "Tocina",
           29.86999
          ],
          [
           "Tomares",
           69.09997
          ],
          [
           "Umbrete",
           126.0343
          ],
          [
           "Utrera",
           49.07016
          ],
          [
           "Valencina de la Concepción",
           null
          ],
          [
           "Villamanrique de la Condesa",
           32.61857
          ],
          [
           "Villanueva del Ariscal",
           152.3999
          ],
          [
           "Villanueva del Río y Minas",
           55.40402
          ],
          [
           "Villanueva de San Juan",
           467.6487
          ],
          [
           "Villaverde del Río",
           19.56544
          ],
          [
           "Viso del Alcor, El",
           null
          ],
          [
           "Cañada Rosal",
           157.5748
          ],
          [
           "Isla Mayor",
           4
          ],
          [
           "Cuervo de Sevilla, El",
           null
          ],
          [
           "Palmar de Troya, El",
           null
          ],
          [
           "Abejar",
           1145.182
          ],
          [
           "Adradas",
           1053.24
          ],
          [
           "Ágreda",
           939.9912
          ],
          [
           "Alconaba",
           1008.273
          ],
          [
           "Alcubilla de Avellaneda",
           926.149
          ],
          [
           "Alcubilla de las Peñas",
           1123.342
          ],
          [
           "Aldealafuente",
           1008.722
          ],
          [
           "Aldealices",
           1133.837
          ],
          [
           "Aldealpozo",
           1056.476
          ],
          [
           "Aldealseñor",
           1090.4
          ],
          [
           "Aldehuela de Periáñez",
           null
          ],
          [
           "Aldehuelas, Las",
           1267.252
          ],
          [
           "Alentisque",
           1060.366
          ],
          [
           "Aliud",
           1012.084
          ],
          [
           "Almajano",
           1054
          ],
          [
           "Almaluez",
           823.894
          ],
          [
           "Almarza",
           1152.273
          ],
          [
           "Almazán",
           962.2736
          ],
          [
           "Almazul",
           981.7079
          ],
          [
           "Almenar de Soria",
           1020.456
          ],
          [
           "Alpanseque",
           1113.177
          ],
          [
           "Arancón",
           1064.569
          ],
          [
           "Arcos de Jalón",
           null
          ],
          [
           "Arenillas",
           1097.583
          ],
          [
           "Arévalo de la Sierra",
           1209.113
          ],
          [
           "Ausejo de la Sierra",
           1097.726
          ],
          [
           "Baraona",
           1122.398
          ],
          [
           "Barca",
           956.5942
          ],
          [
           "Barcones",
           1095.072
          ],
          [
           "Bayubas de Abajo",
           921.9889
          ],
          [
           "Bayubas de Arriba",
           960.613
          ],
          [
           "Beratón",
           1386.368
          ],
          [
           "Berlanga de Duero",
           937.0346
          ],
          [
           "Blacos",
           989.2947
          ],
          [
           "Bliecos",
           1044.849
          ],
          [
           "Borjabad",
           1014.908
          ],
          [
           "Borobia",
           1115.851
          ],
          [
           "Buberos",
           1022.386
          ],
          [
           "Buitrago",
           1033.595
          ],
          [
           "Burgo de Osma-Ciudad de Osma",
           null
          ],
          [
           "Cabrejas del Campo",
           992.3073
          ],
          [
           "Cabrejas del Pinar",
           1157.918
          ],
          [
           "Calatañazor",
           1058.661
          ],
          [
           "Caltojar",
           968.6671
          ],
          [
           "Candilichera",
           1004.845
          ],
          [
           "Cañamaque",
           961.6105
          ],
          [
           "Carabantes",
           1004.526
          ],
          [
           "Caracena",
           1079.824
          ],
          [
           "Carrascosa de Abajo",
           1021.172
          ],
          [
           "Carrascosa de la Sierra",
           1185.388
          ],
          [
           "Casarejos",
           1084.931
          ],
          [
           "Castilfrío de la Sierra",
           1204.084
          ],
          [
           "Castilruiz",
           1012.292
          ],
          [
           "Castillejo de Robledo",
           958.3167
          ],
          [
           "Centenera de Andaluz",
           945.2386
          ],
          [
           "Cerbón",
           1118.104
          ],
          [
           "Cidones",
           1088.646
          ],
          [
           "Cigudosa",
           744.5455
          ],
          [
           "Cihuela",
           823.4209
          ],
          [
           "Ciria",
           1037.322
          ],
          [
           "Cirujales del Río",
           1068.647
          ],
          [
           "Coscurita",
           964.2791
          ],
          [
           "Covaleda",
           1200.42
          ],
          [
           "Cubilla",
           1091.318
          ],
          [
           "Cubo de la Solana",
           992.694
          ],
          [
           "Cueva de Ágreda",
           1297.624
          ],
          [
           "Dévanos",
           936.56
          ],
          [
           "Deza",
           883.1517
          ],
          [
           "Duruelo de la Sierra",
           1192.476
          ],
          [
           "Escobosa de Almazán",
           1086.438
          ],
          [
           "Espeja de San Marcelino",
           1032.547
          ],
          [
           "Espejón",
           1032.613
          ],
          [
           "Estepa de San Juan",
           1254.505
          ],
          [
           "Frechilla de Almazán",
           984.3314
          ],
          [
           "Fresno de Caracena",
           null
          ],
          [
           "Fuentearmegil",
           986.2681
          ],
          [
           "Fuentecambrón",
           1016.823
          ],
          [
           "Fuentecantos",
           1030.378
          ],
          [
           "Fuentelmonge",
           866.837
          ],
          [
           "Fuentelsaz de Soria",
           1072.903
          ],
          [
           "Fuentepinilla",
           938.7756
          ],
          [
           "Fuentes de Magaña",
           1142.983
          ],
          [
           "Fuentestrún",
           1010.144
          ],
          [
           "Garray",
           1013.721
          ],
          [
           "Golmayo",
           1051.163
          ],
          [
           "Gómara",
           1048.483
          ],
          [
           "Gormaz",
           957.7652
          ],
          [
           "Herrera de Soria",
           null
          ],
          [
           "Hinojosa del Campo",
           null
          ],
          [
           "Langa de Duero",
           844.9768
          ],
          [
           "Liceras",
           1125.616
          ],
          [
           "Losilla, La",
           1175.729
          ],
          [
           "Magaña",
           954.0438
          ],
          [
           "Maján",
           1145.01
          ],
          [
           "Matalebreras",
           995.2419
          ],
          [
           "Matamala de Almazán",
           946.6416
          ],
          [
           "Medinaceli",
           1201.395
          ],
          [
           "Miño de Medinaceli",
           1158.736
          ],
          [
           "Miño de San Esteban",
           942.0782
          ],
          [
           "Molinos de Duero",
           null
          ],
          [
           "Momblona",
           1063.584
          ],
          [
           "Monteagudo de las Vicarías",
           792.3184
          ],
          [
           "Montejo de Tiermes",
           1157.937
          ],
          [
           "Montenegro de Cameros",
           1243.88
          ],
          [
           "Morón de Almazán",
           1007.026
          ],
          [
           "Muriel de la Fuente",
           1018.385
          ],
          [
           "Muriel Viejo",
           1090.473
          ],
          [
           "Nafría de Ucero",
           1021.318
          ],
          [
           "Narros",
           1112.726
          ],
          [
           "Navaleno",
           1117.306
          ],
          [
           "Nepas",
           1041.625
          ],
          [
           "Nolay",
           1073.411
          ],
          [
           "Noviercas",
           1096.912
          ],
          [
           "Ólvega",
           1040.087
          ],
          [
           "Oncala",
           1300.732
          ],
          [
           "Pinilla del Campo",
           1047.87
          ],
          [
           "Portillo de Soria",
           1024.967
          ],
          [
           "Póveda de Soria, La",
           1298.482
          ],
          [
           "Pozalmuro",
           1049.624
          ],
          [
           "Quintana Redonda",
           1025.763
          ],
          [
           "Quintanas de Gormaz",
           937.9619
          ],
          [
           "Quiñonería",
           1182.47
          ],
          [
           "Rábanos, Los",
           1028.691
          ],
          [
           "Rebollar",
           1134.53
          ],
          [
           "Recuerda",
           897.7146
          ],
          [
           "Rello",
           1069.715
          ],
          [
           "Renieblas",
           1038.175
          ],
          [
           "Retortillo de Soria",
           1241.513
          ],
          [
           "Reznos",
           1054.53
          ],
          [
           "Riba de Escalote, La",
           null
          ],
          [
           "Rioseco de Soria",
           1010.689
          ],
          [
           "Rollamienta",
           1140.99
          ],
          [
           "Royo, El",
           null
          ],
          [
           "Salduero",
           1103.849
          ],
          [
           "San Esteban de Gormaz",
           859.9746
          ],
          [
           "San Felices",
           925.8511
          ],
          [
           "San Leonardo de Yagüe",
           1040.925
          ],
          [
           "San Pedro Manrique",
           1075.933
          ],
          [
           "Santa Cruz de Yanguas",
           1215.854
          ],
          [
           "Santa María de Huerta",
           771.3453
          ],
          [
           "Santa María de las Hoyas",
           1071.299
          ],
          [
           "Serón de Nágima",
           948.1932
          ],
          [
           "Soliedra",
           1099.303
          ],
          [
           "Soria",
           1064.823
          ],
          [
           "Sotillo del Rincón",
           null
          ],
          [
           "Suellacabras",
           1196.337
          ],
          [
           "Tajahuerce",
           1055.238
          ],
          [
           "Tajueco",
           931.3216
          ],
          [
           "Talveila",
           1065.593
          ],
          [
           "Tardelcuende",
           994.6984
          ],
          [
           "Taroda",
           1028.943
          ],
          [
           "Tejado",
           989.0667
          ],
          [
           "Torlengua",
           863.2959
          ],
          [
           "Torreblacos",
           971.5205
          ],
          [
           "Torrubia de Soria",
           1045.725
          ],
          [
           "Trévago",
           1043.339
          ],
          [
           "Ucero",
           963.3094
          ],
          [
           "Vadillo",
           1103.603
          ],
          [
           "Valdeavellano de Tera",
           1141.217
          ],
          [
           "Valdegeña",
           1065.195
          ],
          [
           "Valdelagua del Cerro",
           1119.735
          ],
          [
           "Valdemaluque",
           946.3261
          ],
          [
           "Valdenebro",
           935.8683
          ],
          [
           "Valdeprado",
           844.049
          ],
          [
           "Valderrodilla",
           936.3094
          ],
          [
           "Valtajeros",
           1243.831
          ],
          [
           "Velamazán",
           975.5469
          ],
          [
           "Velilla de la Sierra",
           1032.823
          ],
          [
           "Velilla de los Ajos",
           1002.944
          ],
          [
           "Viana de Duero",
           992.69
          ],
          [
           "Villaciervos",
           1182.621
          ],
          [
           "Villanueva de Gormaz",
           967.6007
          ],
          [
           "Villar del Ala",
           1147.78
          ],
          [
           "Villar del Campo",
           1035.49
          ],
          [
           "Villar del Río",
           1008.998
          ],
          [
           "Villares de Soria, Los",
           null
          ],
          [
           "Villasayas",
           1026.527
          ],
          [
           "Villaseca de Arciel",
           null
          ],
          [
           "Vinuesa",
           1105.639
          ],
          [
           "Vizmanos",
           1200.711
          ],
          [
           "Vozmediano",
           884.5366
          ],
          [
           "Yanguas",
           988.0257
          ],
          [
           "Yelo",
           1124.461
          ],
          [
           "Aiguamúrcia",
           275.8484
          ],
          [
           "Albinyana",
           164.6246
          ],
          [
           "Albiol, L'",
           820.2056
          ],
          [
           "Alcanar",
           76.73789
          ],
          [
           "Alcover",
           243.6683
          ],
          [
           "Aldover",
           22.51767
          ],
          [
           "Aleixar, L'",
           265.6363
          ],
          [
           "Alfara de Carles",
           330.2164
          ],
          [
           "Alforja",
           377.2571
          ],
          [
           "Alió",
           260.8962
          ],
          [
           "Almoster",
           279.3624
          ],
          [
           "Altafulla",
           40.74033
          ],
          [
           "Ametlla de Mar, L'",
           22.80147
          ],
          [
           "Amposta",
           13.08101
          ],
          [
           "Arbolí",
           722.0569
          ],
          [
           "Arboç, L'",
           159.0804
          ],
          [
           "Argentera, L'",
           343.2802
          ],
          [
           "Arnes",
           502.1081
          ],
          [
           "Ascó",
           47.97315
          ],
          [
           "Banyeres del Penedès",
           161.0753
          ],
          [
           "Barberà de la Conca",
           445.4714
          ],
          [
           "Batea",
           366.6695
          ],
          [
           "Bellmunt del Priorat",
           265.5596
          ],
          [
           "Bellvei",
           103.1995
          ],
          [
           "Benifallet",
           20.97804
          ],
          [
           "Benissanet",
           30.95802
          ],
          [
           "Bisbal de Falset, La",
           350.8352
          ],
          [
           "Bisbal del Penedès, La",
           186.8171
          ],
          [
           "Blancafort",
           428.1689
          ],
          [
           "Bonastre",
           178.1962
          ],
          [
           "Borges del Camp, Les",
           244.0695
          ],
          [
           "Bot",
           289.0362
          ],
          [
           "Botarell",
           191.7195
          ],
          [
           "Bràfim",
           241.3834
          ],
          [
           "Cabacés",
           321.5059
          ],
          [
           "Cabra del Camp",
           496.1121
          ],
          [
           "Calafell",
           49.04614
          ],
          [
           "Cambrils",
           8.722612
          ],
          [
           "Capafonts",
           744.4973
          ],
          [
           "Capçanes",
           216.5009
          ],
          [
           "Caseres",
           325.9239
          ],
          [
           "Castellvell del Camp",
           211.4699
          ],
          [
           "Catllar, El",
           74.44913
          ],
          [
           "Sénia, La",
           365.2491
          ],
          [
           "Colldejou",
           418.8255
          ],
          [
           "Conesa",
           703.0317
          ],
          [
           "Constantí",
           71.37662
          ],
          [
           "Corbera d'Ebre",
           298.1901
          ],
          [
           "Cornudella de Montsant",
           538.842
          ],
          [
           "Creixell",
           37.14136
          ],
          [
           "Cunit",
           13.48558
          ],
          [
           "Xerta",
           15.96906
          ],
          [
           "Duesaigües",
           257.8097
          ],
          [
           "Espluga de Francolí, L'",
           427.1004
          ],
          [
           "Falset",
           372
          ],
          [
           "Fatarella, La",
           506.5272
          ],
          [
           "Febró, La",
           740.9882
          ],
          [
           "Figuera, La",
           557.129
          ],
          [
           "Figuerola del Camp",
           494.4908
          ],
          [
           "Flix",
           89.04555
          ],
          [
           "Forès",
           812.8558
          ],
          [
           "Freginals",
           112.4258
          ],
          [
           "Galera, La",
           115
          ],
          [
           "Gandesa",
           377.5729
          ],
          [
           "Garcia",
           45.94114
          ],
          [
           "Garidells, Els",
           126.6692
          ],
          [
           "Ginestar",
           28.55884
          ],
          [
           "Godall",
           174.054
          ],
          [
           "Gratallops",
           315.0264
          ],
          [
           "Guiamets, Els",
           223.7729
          ],
          [
           "Horta de Sant Joan",
           524.2277
          ],
          [
           "Lloar, El",
           217.868
          ],
          [
           "Llorac",
           644.8692
          ],
          [
           "Llorenç del Penedès",
           164.474
          ],
          [
           "Margalef",
           377.8307
          ],
          [
           "Marçà",
           318.0693
          ],
          [
           "Mas de Barberans",
           360.4406
          ],
          [
           "Masdenverge",
           47.8704
          ],
          [
           "Masllorenç",
           308.2999
          ],
          [
           "Masó, La",
           113.9378
          ],
          [
           "Maspujols",
           203.1914
          ],
          [
           "Masroig, El",
           191.0335
          ],
          [
           "Milà, El",
           167.8536
          ],
          [
           "Miravet",
           31.31219
          ],
          [
           "Molar, El",
           221.6313
          ],
          [
           "Montblanc",
           352.0974
          ],
          [
           "Montbrió del Camp",
           136.6262
          ],
          [
           "Montferri",
           232.4649
          ],
          [
           "Montmell, El",
           433.5698
          ],
          [
           "Mont-ral",
           856.2275
          ],
          [
           "Mont-roig del Camp",
           99.48418
          ],
          [
           "Móra d'Ebre",
           51.02542
          ],
          [
           "Móra la Nova",
           39.38612
          ],
          [
           "Morell, El",
           100.157
          ],
          [
           "Morera de Montsant, La",
           null
          ],
          [
           "Nou de Gaià, La",
           79.46999
          ],
          [
           "Nulles",
           226.6075
          ],
          [
           "Palma d'Ebre, La",
           338.6448
          ],
          [
           "Pallaresos, Els",
           125.749
          ],
          [
           "Passanant i Belltall",
           715.6676
          ],
          [
           "Paüls",
           306.6884
          ],
          [
           "Perafort",
           124.8244
          ],
          [
           "Perelló, El",
           151.6562
          ],
          [
           "Piles, Les",
           676.3849
          ],
          [
           "Pinell de Brai, El",
           176.9608
          ],
          [
           "Pira",
           395.6909
          ],
          [
           "Pla de Santa Maria, El",
           381.2327
          ],
          [
           "Pobla de Mafumet, La",
           null
          ],
          [
           "Pobla de Massaluca, La",
           null
          ],
          [
           "Pobla de Montornès, La",
           null
          ],
          [
           "Poboleda",
           363.0493
          ],
          [
           "Pont d'Armentera, El",
           null
          ],
          [
           "Porrera",
           309.0124
          ],
          [
           "Pradell de la Teixeta",
           470.191
          ],
          [
           "Prades",
           949.0946
          ],
          [
           "Prat de Comte",
           347.2015
          ],
          [
           "Pratdip",
           235.3322
          ],
          [
           "Puigpelat",
           253.6263
          ],
          [
           "Querol",
           530.1125
          ],
          [
           "Rasquera",
           175.2991
          ],
          [
           "Renau",
           170.6811
          ],
          [
           "Reus",
           127.8296
          ],
          [
           "Riba, La",
           232.3366
          ],
          [
           "Riba-roja d'Ebre",
           88.89165
          ],
          [
           "Riera de Gaià, La",
           41
          ],
          [
           "Riudecanyes",
           187.1033
          ],
          [
           "Riudecols",
           296.2064
          ],
          [
           "Riudoms",
           113.1621
          ],
          [
           "Rocafort de Queralt",
           564.9393
          ],
          [
           "Roda de Berà",
           null
          ],
          [
           "Rodonyà",
           319.4084
          ],
          [
           "Roquetes",
           16.51928
          ],
          [
           "Rourell, El",
           114.257
          ],
          [
           "Salomó",
           168.8046
          ],
          [
           "Ràpita, La",
           null
          ],
          [
           "Sant Jaume dels Domenys",
           212.2896
          ],
          [
           "Santa Bàrbara",
           86.20828
          ],
          [
           "Santa Coloma de Queralt",
           687.3315
          ],
          [
           "Santa Oliva",
           97.12163
          ],
          [
           "Pontils",
           549.0671
          ],
          [
           "Sarral",
           468.9105
          ],
          [
           "Savallà del Comtat",
           815.1319
          ],
          [
           "Secuita, La",
           167.3639
          ],
          [
           "Selva del Camp, La",
           232.8907
          ],
          [
           "Senan",
           628.7389
          ],
          [
           "Solivella",
           492.9866
          ],
          [
           "Tarragona",
           26.26264
          ],
          [
           "Tivenys",
           15.66767
          ],
          [
           "Tivissa",
           317.5723
          ],
          [
           "Torre de Fontaubella, La",
           null
          ],
          [
           "Torre de l'Espanyol, La",
           null
          ],
          [
           "Torredembarra",
           20.92576
          ],
          [
           "Torroja del Priorat",
           337.0303
          ],
          [
           "Tortosa",
           15.76711
          ],
          [
           "Ulldecona",
           143.1908
          ],
          [
           "Ulldemolins",
           644.6638
          ],
          [
           "Vallclara",
           626.184
          ],
          [
           "Vallfogona de Riucorb",
           579.2309
          ],
          [
           "Vallmoll",
           165.112
          ],
          [
           "Valls",
           226.6943
          ],
          [
           "Vandellòs i l'Hospitalet de l'Infant",
           270.6138
          ],
          [
           "Vendrell, El",
           55.17534
          ],
          [
           "Vespella de Gaià",
           176.4136
          ],
          [
           "Vilabella",
           256.6517
          ],
          [
           "Vilallonga del Camp",
           116.4445
          ],
          [
           "Vilanova d'Escornalbou",
           234.1977
          ],
          [
           "Vilanova de Prades",
           889.7278
          ],
          [
           "Vilaplana",
           367.4236
          ],
          [
           "Vila-rodona",
           257.237
          ],
          [
           "Vila-seca",
           46.76463
          ],
          [
           "Vilaverd",
           269.632
          ],
          [
           "Vilella Alta, La",
           326.739
          ],
          [
           "Vilella Baixa, La",
           207.4648
          ],
          [
           "Vilalba dels Arcs",
           454.0479
          ],
          [
           "Vimbodí i Poblet",
           479.068
          ],
          [
           "Vinebre",
           44.57071
          ],
          [
           "Vinyols i els Arcs",
           94.72616
          ],
          [
           "Deltebre",
           3
          ],
          [
           "Sant Jaume d'Enveja",
           3
          ],
          [
           "Camarles",
           8.301858
          ],
          [
           "Aldea, L'",
           10.09355
          ],
          [
           "Salou",
           5.432057
          ],
          [
           "Ampolla, L'",
           7.180099
          ],
          [
           "Canonja, La",
           null
          ],
          [
           "Ababuj",
           1368.157
          ],
          [
           "Abejuela",
           1164.137
          ],
          [
           "Aguatón",
           1226.572
          ],
          [
           "Aguaviva",
           547.9809
          ],
          [
           "Aguilar del Alfambra",
           1299.894
          ],
          [
           "Alacón",
           685.4042
          ],
          [
           "Alba",
           978.1422
          ],
          [
           "Albalate del Arzobispo",
           347.3883
          ],
          [
           "Albarracín",
           1157.773
          ],
          [
           "Albentosa",
           951.7792
          ],
          [
           "Alcaine",
           652.5018
          ],
          [
           "Alcalá de la Selva",
           1403.888
          ],
          [
           "Alcañiz",
           341.0952
          ],
          [
           "Alcorisa",
           639.8223
          ],
          [
           "Alfambra",
           1045.46
          ],
          [
           "Aliaga",
           1111.888
          ],
          [
           "Almohaja",
           1198.996
          ],
          [
           "Alobras",
           1108.156
          ],
          [
           "Alpeñés",
           1228.397
          ],
          [
           "Allepuz",
           1449.011
          ],
          [
           "Alloza",
           664.2663
          ],
          [
           "Allueva",
           1199.221
          ],
          [
           "Anadón",
           1114.096
          ],
          [
           "Andorra",
           721.1627
          ],
          [
           "Arcos de las Salinas",
           null
          ],
          [
           "Arens de Lledó",
           365.9177
          ],
          [
           "Argente",
           1250.66
          ],
          [
           "Ariño",
           524.2899
          ],
          [
           "Azaila",
           275.2942
          ],
          [
           "Bádenas",
           1000.731
          ],
          [
           "Báguena",
           806.7857
          ],
          [
           "Bañón",
           1136.515
          ],
          [
           "Barrachina",
           1043.846
          ],
          [
           "Bea",
           1130.035
          ],
          [
           "Beceite",
           556.1799
          ],
          [
           "Belmonte de San José",
           658.2455
          ],
          [
           "Bello",
           1007.419
          ],
          [
           "Berge",
           719.4134
          ],
          [
           "Bezas",
           1175.002
          ],
          [
           "Blancas",
           1049.592
          ],
          [
           "Blesa",
           770.5961
          ],
          [
           "Bordón",
           821.2313
          ],
          [
           "Bronchales",
           1574.81
          ],
          [
           "Bueña",
           1221.145
          ],
          [
           "Burbáguena",
           817.4083
          ],
          [
           "Cabra de Mora",
           1092.803
          ],
          [
           "Calaceite",
           515.0114
          ],
          [
           "Calamocha",
           885.8004
          ],
          [
           "Calanda",
           459.9382
          ],
          [
           "Calomarde",
           1319.318
          ],
          [
           "Camañas",
           1234.744
          ],
          [
           "Camarena de la Sierra",
           1299.181
          ],
          [
           "Camarillas",
           1322.207
          ],
          [
           "Caminreal",
           922.4971
          ],
          [
           "Cantavieja",
           1303.577
          ],
          [
           "Cañada de Benatanduz",
           1420.062
          ],
          [
           "Cañada de Verich, La",
           743.9012
          ],
          [
           "Cañada Vellida",
           1314.846
          ],
          [
           "Cañizar del Olivar",
           961.6534
          ],
          [
           "Cascante del Río",
           986.0148
          ],
          [
           "Castejón de Tornos",
           1084.944
          ],
          [
           "Castel de Cabra",
           1089.548
          ],
          [
           "Castelnou",
           194.6102
          ],
          [
           "Castelserás",
           359.8336
          ],
          [
           "Castellar, El",
           1246.68
          ],
          [
           "Castellote",
           791.4321
          ],
          [
           "Cedrillas",
           1353.48
          ],
          [
           "Celadas",
           1119.179
          ],
          [
           "Cella",
           1033.89
          ],
          [
           "Cerollera, La",
           846.5733
          ],
          [
           "Codoñera, La",
           499.7471
          ],
          [
           "Corbalán",
           1262.557
          ],
          [
           "Cortes de Aragón",
           930.5992
          ],
          [
           "Cosa",
           1192.21
          ],
          [
           "Cretas",
           569.0511
          ],
          [
           "Crivillén",
           795.6636
          ],
          [
           "Cuba, La",
           878.1436
          ],
          [
           "Cubla",
           1095.818
          ],
          [
           "Cucalón",
           1034.456
          ],
          [
           "Cuervo, El",
           909.1442
          ],
          [
           "Cuevas de Almudén",
           1274.424
          ],
          [
           "Cuevas Labradas",
           967.5995
          ],
          [
           "Ejulve",
           1111.811
          ],
          [
           "Escorihuela",
           1135.115
          ],
          [
           "Escucha",
           1070.983
          ],
          [
           "Estercuel",
           822.3273
          ],
          [
           "Ferreruela de Huerva",
           1016.397
          ],
          [
           "Fonfría",
           1248.398
          ],
          [
           "Formiche Alto",
           1119.593
          ],
          [
           "Fórnoles",
           713.966
          ],
          [
           "Fortanete",
           1366.681
          ],
          [
           "Foz-Calanda",
           503.1189
          ],
          [
           "Fresneda, La",
           551.9633
          ],
          [
           "Frías de Albarracín",
           1459.496
          ],
          [
           "Fuenferrada",
           1109.536
          ],
          [
           "Fuentes Calientes",
           1218.51
          ],
          [
           "Fuentes Claras",
           911.9739
          ],
          [
           "Fuentes de Rubielos",
           960.2522
          ],
          [
           "Fuentespalda",
           717.0623
          ],
          [
           "Galve",
           1184.569
          ],
          [
           "Gargallo",
           944.585
          ],
          [
           "Gea de Albarracín",
           1039.181
          ],
          [
           "Ginebrosa, La",
           706.7698
          ],
          [
           "Griegos",
           1601.854
          ],
          [
           "Guadalaviar",
           1526.078
          ],
          [
           "Gúdar",
           1583.481
          ],
          [
           "Híjar",
           286.6444
          ],
          [
           "Hinojosa de Jarque",
           null
          ],
          [
           "Hoz de la Vieja, La",
           932.5383
          ],
          [
           "Huesa del Común",
           874.5453
          ],
          [
           "Iglesuela del Cid, La",
           1231.687
          ],
          [
           "Jabaloyas",
           1405.788
          ],
          [
           "Jarque de la Val",
           1263.365
          ],
          [
           "Jatiel",
           209.4427
          ],
          [
           "Jorcas",
           1337.114
          ],
          [
           "Josa",
           772.5401
          ],
          [
           "Lagueruela",
           1070.561
          ],
          [
           "Lanzuela",
           1013.573
          ],
          [
           "Libros",
           780.3804
          ],
          [
           "Lidón",
           1210.994
          ],
          [
           "Linares de Mora",
           1315.215
          ],
          [
           "Loscos",
           982.0676
          ],
          [
           "Lledó",
           462.8823
          ],
          [
           "Maicas",
           956.8483
          ],
          [
           "Manzanera",
           992.3011
          ],
          [
           "Martín del Río",
           916.4581
          ],
          [
           "Mas de las Matas",
           501.934
          ],
          [
           "Mata de los Olmos, La",
           null
          ],
          [
           "Mazaleón",
           351.4925
          ],
          [
           "Mezquita de Jarque",
           null
          ],
          [
           "Mirambel",
           917.4668
          ],
          [
           "Miravete de la Sierra",
           1224.324
          ],
          [
           "Molinos",
           845.5135
          ],
          [
           "Monforte de Moyuela",
           1010.717
          ],
          [
           "Monreal del Campo",
           944.271
          ],
          [
           "Monroyo",
           863.434
          ],
          [
           "Montalbán",
           852.6946
          ],
          [
           "Monteagudo del Castillo",
           1463.322
          ],
          [
           "Monterde de Albarracín",
           1284.938
          ],
          [
           "Mora de Rubielos",
           1052.556
          ],
          [
           "Moscardón",
           1402.289
          ],
          [
           "Mosqueruela",
           1476.994
          ],
          [
           "Muniesa",
           785.425
          ],
          [
           "Noguera de Albarracín",
           1394.706
          ],
          [
           "Nogueras",
           855.6604
          ],
          [
           "Nogueruelas",
           1136.51
          ],
          [
           "Obón",
           690.8731
          ],
          [
           "Odón",
           1091.026
          ],
          [
           "Ojos Negros",
           1155.657
          ],
          [
           "Olba",
           657.7572
          ],
          [
           "Oliete",
           544.2368
          ],
          [
           "Olmos, Los",
           null
          ],
          [
           "Orihuela del Tremedal",
           1444.746
          ],
          [
           "Orrios",
           1054.297
          ],
          [
           "Palomar de Arroyos",
           null
          ],
          [
           "Pancrudo",
           1238.756
          ],
          [
           "Parras de Castellote, Las",
           703.3917
          ],
          [
           "Peñarroya de Tastavins",
           743.4257
          ],
          [
           "Peracense",
           1219.819
          ],
          [
           "Peralejos",
           1004.824
          ],
          [
           "Perales del Alfambra",
           1167.249
          ],
          [
           "Pitarque",
           994.9604
          ],
          [
           "Plou",
           905.438
          ],
          [
           "Pobo, El",
           1397.511
          ],
          [
           "Portellada, La",
           576.3449
          ],
          [
           "Pozondón",
           1410.839
          ],
          [
           "Pozuel del Campo",
           1115.931
          ],
          [
           "Puebla de Híjar, La",
           249.8602
          ],
          [
           "Puebla de Valverde, La",
           1122.581
          ],
          [
           "Puertomingalvo",
           1452.379
          ],
          [
           "Ráfales",
           630.261
          ],
          [
           "Rillo",
           1271.442
          ],
          [
           "Riodeva",
           973.0439
          ],
          [
           "Ródenas",
           1372.425
          ],
          [
           "Royuela",
           1214.825
          ],
          [
           "Rubiales",
           1156.471
          ],
          [
           "Rubielos de la Cérida",
           1230.612
          ],
          [
           "Rubielos de Mora",
           940.7538
          ],
          [
           "Salcedillo",
           1194.813
          ],
          [
           "Saldón",
           1406.871
          ],
          [
           "Samper de Calanda",
           253.1136
          ],
          [
           "San Agustín",
           968.0305
          ],
          [
           "San Martín del Río",
           784.4639
          ],
          [
           "Santa Cruz de Nogueras",
           888.4601
          ],
          [
           "Santa Eulalia",
           988.6647
          ],
          [
           "Sarrión",
           988.1364
          ],
          [
           "Segura de los Baños",
           1122.329
          ],
          [
           "Seno",
           799.8929
          ],
          [
           "Singra",
           1041.093
          ],
          [
           "Terriente",
           1435.32
          ],
          [
           "Teruel",
           927.4562
          ],
          [
           "Toril y Masegoso",
           1488.103
          ],
          [
           "Tormón",
           1062.348
          ],
          [
           "Tornos",
           1023.637
          ],
          [
           "Torralba de los Sisones",
           1046.971
          ],
          [
           "Torrecilla de Alcañiz",
           443.3759
          ],
          [
           "Torrecilla del Rebollar",
           1146.378
          ],
          [
           "Torre de Arcas",
           null
          ],
          [
           "Torre de las Arcas",
           null
          ],
          [
           "Torre del Compte",
           null
          ],
          [
           "Torrelacárcel",
           980.6982
          ],
          [
           "Torre los Negros",
           null
          ],
          [
           "Torremocha de Jiloca",
           983.9276
          ],
          [
           "Torres de Albarracín",
           1228.083
          ],
          [
           "Torrevelilla",
           610.9653
          ],
          [
           "Torrijas",
           1356.925
          ],
          [
           "Torrijo del Campo",
           923.381
          ],
          [
           "Tramacastiel",
           887.387
          ],
          [
           "Tramacastilla",
           1251.911
          ],
          [
           "Tronchón",
           1096.603
          ],
          [
           "Urrea de Gaén",
           313.7285
          ],
          [
           "Utrillas",
           945.4211
          ],
          [
           "Valacloche",
           1003.039
          ],
          [
           "Valbona",
           951.9821
          ],
          [
           "Valdealgorfa",
           513.6993
          ],
          [
           "Valdecuenca",
           1329.863
          ],
          [
           "Valdelinares",
           1699.088
          ],
          [
           "Valdeltormo",
           426.9926
          ],
          [
           "Valderrobres",
           506.0121
          ],
          [
           "Valjunquera",
           557.3394
          ],
          [
           "Vallecillo, El",
           1435.69
          ],
          [
           "Veguillas de la Sierra",
           null
          ],
          [
           "Villafranca del Campo",
           962.5623
          ],
          [
           "Villahermosa del Campo",
           957.9505
          ],
          [
           "Villanueva del Rebollar de la Sierra",
           1090.223
          ],
          [
           "Villar del Cobo",
           1437.745
          ],
          [
           "Villar del Salz",
           1215.276
          ],
          [
           "Villarluengo",
           1112.27
          ],
          [
           "Villarquemado",
           998.2739
          ],
          [
           "Villarroya de los Pinares",
           1326.217
          ],
          [
           "Villastar",
           860.7039
          ],
          [
           "Villel",
           839.2695
          ],
          [
           "Vinaceite",
           303.0283
          ],
          [
           "Visiedo",
           1187.011
          ],
          [
           "Vivel del Río Martín",
           974.8438
          ],
          [
           "Zoma, La",
           1144.094
          ],
          [
           "Ajofrín",
           771.9454
          ],
          [
           "Alameda de la Sagra",
           595.9953
          ],
          [
           "Albarreal de Tajo",
           452.7595
          ],
          [
           "Alcabón",
           529.2844
          ],
          [
           "Alcañizo",
           373.982
          ],
          [
           "Alcaudete de la Jara",
           408.8566
          ],
          [
           "Alcolea de Tajo",
           353.2964
          ],
          [
           "Aldea en Cabo",
           null
          ],
          [
           "Aldeanueva de Barbarroya",
           492.4827
          ],
          [
           "Aldeanueva de San Bartolomé",
           572.8758
          ],
          [
           "Almendral de la Cañada",
           625.25
          ],
          [
           "Almonacid de Toledo",
           715.1904
          ],
          [
           "Almorox",
           535.3524
          ],
          [
           "Añover de Tajo",
           591.5134
          ],
          [
           "Arcicóllar",
           543.9216
          ],
          [
           "Argés",
           653.7512
          ],
          [
           "Azután",
           337.5748
          ],
          [
           "Barcience",
           517.1357
          ],
          [
           "Bargas",
           599.7254
          ],
          [
           "Belvís de la Jara",
           451.4582
          ],
          [
           "Borox",
           582.6509
          ],
          [
           "Buenaventura",
           433.1037
          ],
          [
           "Burguillos de Toledo",
           679.2315
          ],
          [
           "Burujón",
           501.4543
          ],
          [
           "Cabañas de la Sagra",
           551
          ],
          [
           "Cabañas de Yepes",
           706.7368
          ],
          [
           "Cabezamesada",
           736.1016
          ],
          [
           "Calera y Chozas",
           394.1816
          ],
          [
           "Caleruela",
           374.1803
          ],
          [
           "Calzada de Oropesa",
           351.9175
          ],
          [
           "Camarena",
           575.9206
          ],
          [
           "Camarenilla",
           509.2571
          ],
          [
           "Campillo de la Jara, El",
           null
          ],
          [
           "Camuñas",
           672.9465
          ],
          [
           "Cardiel de los Montes",
           407.2493
          ],
          [
           "Carmena",
           562
          ],
          [
           "Carpio de Tajo, El",
           null
          ],
          [
           "Carranque",
           660.4978
          ],
          [
           "Carriches",
           553.2783
          ],
          [
           "Casar de Escalona, El",
           null
          ],
          [
           "Casarrubios del Monte",
           616.3093
          ],
          [
           "Casasbuenas",
           687.2794
          ],
          [
           "Castillo de Bayuela",
           549.2681
          ],
          [
           "Cazalegas",
           440.9979
          ],
          [
           "Cebolla",
           428.8371
          ],
          [
           "Cedillo del Condado",
           647.5012
          ],
          [
           "Cerralbos, Los",
           465.1712
          ],
          [
           "Cervera de los Montes",
           536.5416
          ],
          [
           "Ciruelos",
           708.9604
          ],
          [
           "Cobeja",
           508.5462
          ],
          [
           "Cobisa",
           676.1328
          ],
          [
           "Consuegra",
           709.5399
          ],
          [
           "Corral de Almaguer",
           705.971
          ],
          [
           "Cuerva",
           773.9889
          ],
          [
           "Chozas de Canales",
           544.3453
          ],
          [
           "Chueca",
           742.0029
          ],
          [
           "Domingo Pérez",
           497.8713
          ],
          [
           "Dosbarrios",
           709.6131
          ],
          [
           "Erustes",
           536.0446
          ],
          [
           "Escalona",
           463.5558
          ],
          [
           "Escalonilla",
           547.6719
          ],
          [
           "Espinoso del Rey",
           null
          ],
          [
           "Esquivias",
           611.5911
          ],
          [
           "Estrella, La",
           549.2997
          ],
          [
           "Fuensalida",
           595.3815
          ],
          [
           "Gálvez",
           709.8111
          ],
          [
           "Garciotum",
           468.3595
          ],
          [
           "Gerindote",
           552.425
          ],
          [
           "Guadamur",
           636.7328
          ],
          [
           "Guardia, La",
           697.0734
          ],
          [
           "Herencias, Las",
           358.7523
          ],
          [
           "Herreruela de Oropesa",
           378.2414
          ],
          [
           "Hinojosa de San Vicente",
           null
          ],
          [
           "Hontanar",
           840.3611
          ],
          [
           "Hormigos",
           464.7229
          ],
          [
           "Huecas",
           552.931
          ],
          [
           "Huerta de Valdecarábanos",
           627.6873
          ],
          [
           "Iglesuela del Tiétar, La",
           null
          ],
          [
           "Illán de Vacas",
           480.7694
          ],
          [
           "Illescas",
           592.8992
          ],
          [
           "Lagartera",
           396.1818
          ],
          [
           "Layos",
           651.8649
          ],
          [
           "Lillo",
           685.3505
          ],
          [
           "Lominchar",
           646.8894
          ],
          [
           "Lucillos",
           477.0321
          ],
          [
           "Madridejos",
           688.0627
          ],
          [
           "Magán",
           483.2254
          ],
          [
           "Malpica de Tajo",
           397.5589
          ],
          [
           "Manzaneque",
           718.4171
          ],
          [
           "Maqueda",
           489.5274
          ],
          [
           "Marjaliza",
           857.3539
          ],
          [
           "Marrupe",
           592.5861
          ],
          [
           "Mascaraque",
           714.0005
          ],
          [
           "Mata, La",
           567.7911
          ],
          [
           "Mazarambroz",
           778.5905
          ],
          [
           "Mejorada",
           548.898
          ],
          [
           "Menasalbas",
           704.96
          ],
          [
           "Méntrida",
           533.4263
          ],
          [
           "Mesegar de Tajo",
           482.0789
          ],
          [
           "Miguel Esteban",
           682.11
          ],
          [
           "Mocejón",
           481.0487
          ],
          [
           "Mohedas de la Jara",
           643.3585
          ],
          [
           "Montearagón",
           432.5179
          ],
          [
           "Montesclaros",
           558.0593
          ],
          [
           "Mora",
           722.1462
          ],
          [
           "Nambroca",
           677.4409
          ],
          [
           "Nava de Ricomalillo, La",
           null
          ],
          [
           "Navahermosa",
           735.2842
          ],
          [
           "Navalcán",
           394.0665
          ],
          [
           "Navalmoralejo",
           427.2085
          ],
          [
           "Navalmorales, Los",
           659.6473
          ],
          [
           "Navalucillos, Los",
           742.7283
          ],
          [
           "Navamorcuende",
           771.2516
          ],
          [
           "Noblejas",
           743.8586
          ],
          [
           "Noez",
           757.0864
          ],
          [
           "Nombela",
           492.1309
          ],
          [
           "Novés",
           566.3942
          ],
          [
           "Numancia de la Sagra",
           526
          ],
          [
           "Nuño Gómez",
           473.3011
          ],
          [
           "Ocaña",
           735.3221
          ],
          [
           "Olías del Rey",
           592.4843
          ],
          [
           "Ontígola",
           609.2897
          ],
          [
           "Orgaz",
           748.8485
          ],
          [
           "Oropesa",
           421.104
          ],
          [
           "Otero",
           463.8867
          ],
          [
           "Palomeque",
           609.2781
          ],
          [
           "Pantoja",
           523.6249
          ],
          [
           "Paredes de Escalona",
           488.917
          ],
          [
           "Parrillas",
           397.2186
          ],
          [
           "Pelahustán",
           673.2676
          ],
          [
           "Pepino",
           444.1442
          ],
          [
           "Polán",
           652.066
          ],
          [
           "Portillo de Toledo",
           594.792
          ],
          [
           "Puebla de Almoradiel, La",
           695.3882
          ],
          [
           "Puebla de Montalbán, La",
           496.2206
          ],
          [
           "Pueblanueva, La",
           483.6057
          ],
          [
           "Puente del Arzobispo, El",
           338.4842
          ],
          [
           "Puerto de San Vicente",
           752.8705
          ],
          [
           "Pulgar",
           724.0479
          ],
          [
           "Quero",
           648.4975
          ],
          [
           "Quintanar de la Orden",
           696
          ],
          [
           "Quismondo",
           549.3548
          ],
          [
           "Real de San Vicente, El",
           755.4675
          ],
          [
           "Recas",
           567.7425
          ],
          [
           "Retamoso de la Jara",
           null
          ],
          [
           "Rielves",
           495.0737
          ],
          [
           "Robledo del Mazo",
           null
          ],
          [
           "Romeral, El",
           662
          ],
          [
           "San Bartolomé de las Abiertas",
           555.0835
          ],
          [
           "San Martín de Montalbán",
           655.0389
          ],
          [
           "San Martín de Pusa",
           501.6586
          ],
          [
           "San Pablo de los Montes",
           910.0876
          ],
          [
           "San Román de los Montes",
           452.9428
          ],
          [
           "Santa Ana de Pusa",
           579.5608
          ],
          [
           "Santa Cruz de la Zarza",
           778.1476
          ],
          [
           "Santa Cruz del Retamar",
           596.1041
          ],
          [
           "Santa Olalla",
           487.3168
          ],
          [
           "Sartajada",
           460.2389
          ],
          [
           "Segurilla",
           566.5943
          ],
          [
           "Seseña",
           612.9283
          ],
          [
           "Sevilleja de la Jara",
           670.1891
          ],
          [
           "Sonseca",
           759.9934
          ],
          [
           "Sotillo de las Palomas",
           null
          ],
          [
           "Talavera de la Reina",
           373.9266
          ],
          [
           "Tembleque",
           638.9656
          ],
          [
           "Toboso, El",
           null
          ],
          [
           "Toledo",
           524.0618
          ],
          [
           "Torralba de Oropesa",
           378.0818
          ],
          [
           "Torrecilla de la Jara",
           642.9003
          ],
          [
           "Torre de Esteban Hambrán, La",
           null
          ],
          [
           "Torrico",
           443.2747
          ],
          [
           "Torrijos",
           531.6115
          ],
          [
           "Totanés",
           730.3002
          ],
          [
           "Turleque",
           693.6431
          ],
          [
           "Ugena",
           656.1516
          ],
          [
           "Urda",
           767.5526
          ],
          [
           "Valdeverdeja",
           477.4793
          ],
          [
           "Valmojado",
           657.4002
          ],
          [
           "Velada",
           438.305
          ],
          [
           "Ventas con Peña Aguilera, Las",
           null
          ],
          [
           "Ventas de Retamosa, Las",
           625.0803
          ],
          [
           "Ventas de San Julián, Las",
           313.025
          ],
          [
           "Villacañas",
           667.0467
          ],
          [
           "Villa de Don Fadrique, La",
           674.587
          ],
          [
           "Villafranca de los Caballeros",
           646.3422
          ],
          [
           "Villaluenga de la Sagra",
           528
          ],
          [
           "Villamiel de Toledo",
           486.4659
          ],
          [
           "Villaminaya",
           728.4374
          ],
          [
           "Villamuelas",
           591.9915
          ],
          [
           "Villanueva de Alcardete",
           728.4774
          ],
          [
           "Villanueva de Bogas",
           655.7781
          ],
          [
           "Villarejo de Montalbán",
           533.8467
          ],
          [
           "Villarrubia de Santiago",
           755.729
          ],
          [
           "Villaseca de la Sagra",
           null
          ],
          [
           "Villasequilla",
           510.8198
          ],
          [
           "Villatobas",
           736.1024
          ],
          [
           "Viso de San Juan, El",
           null
          ],
          [
           "Yébenes, Los",
           820.0996
          ],
          [
           "Yeles",
           551.9601
          ],
          [
           "Yepes",
           698.4963
          ],
          [
           "Yuncler",
           536.7993
          ],
          [
           "Yunclillos",
           515.6655
          ],
          [
           "Yuncos",
           546.3137
          ],
          [
           "Santo Domingo-Caudilla",
           547.0987
          ],
          [
           "Ademuz",
           null
          ],
          [
           "Ador",
           null
          ],
          [
           "Atzeneta d'Albaida",
           null
          ],
          [
           "Agullent",
           null
          ],
          [
           "Alaquàs",
           null
          ],
          [
           "Albaida",
           null
          ],
          [
           "Albal",
           null
          ],
          [
           "Albalat de la Ribera",
           null
          ],
          [
           "Albalat dels Sorells",
           null
          ],
          [
           "Albalat dels Tarongers",
           null
          ],
          [
           "Alberic",
           null
          ],
          [
           "Alborache",
           null
          ],
          [
           "Alboraia/Alboraya",
           null
          ],
          [
           "Albuixech",
           null
          ],
          [
           "Alcàsser",
           null
          ],
          [
           "Alcàntera de Xúquer",
           null
          ],
          [
           "Alzira",
           null
          ],
          [
           "Alcublas",
           null
          ],
          [
           "Alcúdia, l'",
           null
          ],
          [
           "Alcúdia de Crespins, l'",
           null
          ],
          [
           "Aldaia",
           null
          ],
          [
           "Alfafar",
           null
          ],
          [
           "Alfauir",
           null
          ],
          [
           "Alfara de la Baronia",
           null
          ],
          [
           "Alfara del Patriarca",
           null
          ],
          [
           "Alfarb",
           null
          ],
          [
           "Alfarrasí",
           null
          ],
          [
           "Algar de Palància",
           null
          ],
          [
           "Algemesí",
           null
          ],
          [
           "Algímia d'Alfara",
           null
          ],
          [
           "Alginet",
           null
          ],
          [
           "Almàssera",
           null
          ],
          [
           "Almiserà",
           null
          ],
          [
           "Almoines",
           null
          ],
          [
           "Almussafes",
           null
          ],
          [
           "Alpuente",
           null
          ],
          [
           "Alqueria de la Comtessa, l'",
           null
          ],
          [
           "Andilla",
           null
          ],
          [
           "Anna",
           null
          ],
          [
           "Antella",
           null
          ],
          [
           "Aras de los Olmos",
           null
          ],
          [
           "Aielo de Malferit",
           null
          ],
          [
           "Aielo de Rugat",
           null
          ],
          [
           "Ayora",
           null
          ],
          [
           "Barxeta",
           null
          ],
          [
           "Barx",
           null
          ],
          [
           "Bèlgida",
           null
          ],
          [
           "Bellreguard",
           null
          ],
          [
           "Bellús",
           null
          ],
          [
           "Benagéber",
           null
          ],
          [
           "Benaguasil",
           null
          ],
          [
           "Benavites",
           null
          ],
          [
           "Beneixida",
           null
          ],
          [
           "Benetússer",
           null
          ],
          [
           "Beniarjó",
           null
          ],
          [
           "Beniatjar",
           null
          ],
          [
           "Benicolet",
           null
          ],
          [
           "Benifairó de les Valls",
           null
          ],
          [
           "Benifairó de la Valldigna",
           null
          ],
          [
           "Benifaió",
           null
          ],
          [
           "Beniflá",
           null
          ],
          [
           "Benigànim",
           null
          ],
          [
           "Benimodo",
           null
          ],
          [
           "Benimuslem",
           null
          ],
          [
           "Beniparrell",
           null
          ],
          [
           "Benirredrà",
           null
          ],
          [
           "Benissanó",
           null
          ],
          [
           "Benissoda",
           null
          ],
          [
           "Benissuera",
           null
          ],
          [
           "Bétera",
           null
          ],
          [
           "Bicorp",
           null
          ],
          [
           "Bocairent",
           null
          ],
          [
           "Bolbaite",
           null
          ],
          [
           "Bonrepòs i Mirambell",
           null
          ],
          [
           "Bufali",
           null
          ],
          [
           "Bugarra",
           null
          ],
          [
           "Buñol",
           null
          ],
          [
           "Burjassot",
           null
          ],
          [
           "Calles",
           null
          ],
          [
           "Camporrobles",
           null
          ],
          [
           "Canals",
           null
          ],
          [
           "Canet d'En Berenguer",
           null
          ],
          [
           "Carcaixent",
           null
          ],
          [
           "Càrcer",
           null
          ],
          [
           "Carlet",
           null
          ],
          [
           "Carrícola",
           null
          ],
          [
           "Casas Altas",
           null
          ],
          [
           "Casas Bajas",
           null
          ],
          [
           "Casinos",
           null
          ],
          [
           "Castelló de Rugat",
           null
          ],
          [
           "Castellonet de la Conquesta",
           null
          ],
          [
           "Castielfabib",
           null
          ],
          [
           "Catadau",
           null
          ],
          [
           "Catarroja",
           null
          ],
          [
           "Caudete de las Fuentes",
           null
          ],
          [
           "Cerdà",
           null
          ],
          [
           "Cofrentes",
           null
          ],
          [
           "Corbera",
           null
          ],
          [
           "Cortes de Pallás",
           null
          ],
          [
           "Cotes",
           null
          ],
          [
           "Quart de les Valls",
           null
          ],
          [
           "Quart de Poblet",
           null
          ],
          [
           "Quartell",
           null
          ],
          [
           "Quatretonda",
           null
          ],
          [
           "Cullera",
           null
          ],
          [
           "Chelva",
           null
          ],
          [
           "Chella",
           null
          ],
          [
           "Chera",
           null
          ],
          [
           "Cheste",
           null
          ],
          [
           "Xirivella",
           null
          ],
          [
           "Chiva",
           null
          ],
          [
           "Chulilla",
           null
          ],
          [
           "Daimús",
           null
          ],
          [
           "Domeño",
           null
          ],
          [
           "Dos Aguas",
           null
          ],
          [
           "Eliana, l'",
           null
          ],
          [
           "Emperador",
           null
          ],
          [
           "Enguera",
           null
          ],
          [
           "Énova, l'",
           null
          ],
          [
           "Estivella",
           null
          ],
          [
           "Estubeny",
           null
          ],
          [
           "Faura",
           null
          ],
          [
           "Favara",
           null
          ],
          [
           "Fontanars dels Alforins",
           null
          ],
          [
           "Fortaleny",
           null
          ],
          [
           "Foios",
           null
          ],
          [
           "Font d'en Carròs, la",
           null
          ],
          [
           "Font de la Figuera, la",
           null
          ],
          [
           "Fuenterrobles",
           null
          ],
          [
           "Gavarda",
           null
          ],
          [
           "Gandia",
           null
          ],
          [
           "Genovés, el",
           null
          ],
          [
           "Gestalgar",
           null
          ],
          [
           "Gilet",
           null
          ],
          [
           "Godella",
           null
          ],
          [
           "Godelleta",
           null
          ],
          [
           "Granja de la Costera, la",
           null
          ],
          [
           "Guadasséquies",
           null
          ],
          [
           "Guadassuar",
           null
          ],
          [
           "Guardamar de la Safor",
           null
          ],
          [
           "Higueruelas",
           null
          ],
          [
           "Jalance",
           null
          ],
          [
           "Xeraco",
           null
          ],
          [
           "Jarafuel",
           null
          ],
          [
           "Xàtiva",
           null
          ],
          [
           "Xeresa",
           null
          ],
          [
           "Llíria",
           null
          ],
          [
           "Loriguilla",
           null
          ],
          [
           "Losa del Obispo",
           null
          ],
          [
           "Llutxent",
           null
          ],
          [
           "Llocnou d'En Fenollet",
           null
          ],
          [
           "Llocnou de la Corona",
           null
          ],
          [
           "Llocnou de Sant Jeroni",
           null
          ],
          [
           "Llanera de Ranes",
           null
          ],
          [
           "Llaurí",
           null
          ],
          [
           "Llombai",
           null
          ],
          [
           "Llosa de Ranes, la",
           null
          ],
          [
           "Macastre",
           null
          ],
          [
           "Manises",
           null
          ],
          [
           "Manuel",
           null
          ],
          [
           "Marines",
           null
          ],
          [
           "Massalavés",
           null
          ],
          [
           "Massalfassar",
           null
          ],
          [
           "Massamagrell",
           null
          ],
          [
           "Massanassa",
           null
          ],
          [
           "Meliana",
           null
          ],
          [
           "Millares",
           null
          ],
          [
           "Miramar",
           null
          ],
          [
           "Mislata",
           null
          ],
          [
           "Moixent/Mogente",
           null
          ],
          [
           "Moncada",
           null
          ],
          [
           "Montserrat",
           null
          ],
          [
           "Montaverner",
           null
          ],
          [
           "Montesa",
           null
          ],
          [
           "Montitxelvo/Montichelvo",
           null
          ],
          [
           "Montroi/Montroy",
           null
          ],
          [
           "Museros",
           null
          ],
          [
           "Nàquera/Náquera",
           null
          ],
          [
           "Navarrés",
           null
          ],
          [
           "Novetlè",
           null
          ],
          [
           "Oliva",
           null
          ],
          [
           "Olocau",
           null
          ],
          [
           "Olleria, l'",
           null
          ],
          [
           "Ontinyent",
           null
          ],
          [
           "Otos",
           null
          ],
          [
           "Paiporta",
           null
          ],
          [
           "Palma de Gandía",
           null
          ],
          [
           "Palmera",
           null
          ],
          [
           "Palomar, el",
           null
          ],
          [
           "Paterna",
           null
          ],
          [
           "Pedralba",
           null
          ],
          [
           "Petrés",
           null
          ],
          [
           "Picanya",
           null
          ],
          [
           "Picassent",
           null
          ],
          [
           "Piles",
           null
          ],
          [
           "Pinet",
           null
          ],
          [
           "Polinyà de Xúquer",
           null
          ],
          [
           "Potries",
           null
          ],
          [
           "Pobla de Farnals, la",
           null
          ],
          [
           "Pobla del Duc, la",
           null
          ],
          [
           "Puebla de San Miguel",
           null
          ],
          [
           "Pobla de Vallbona, la",
           null
          ],
          [
           "Pobla Llarga, la",
           null
          ],
          [
           "Puig de Santa Maria, el",
           null
          ],
          [
           "Puçol",
           null
          ],
          [
           "Quesa",
           null
          ],
          [
           "Rafelbunyol",
           null
          ],
          [
           "Rafelcofer",
           null
          ],
          [
           "Rafelguaraf",
           null
          ],
          [
           "Ráfol de Salem",
           null
          ],
          [
           "Real de Gandia, el",
           null
          ],
          [
           "Real",
           null
          ],
          [
           "Requena",
           null
          ],
          [
           "Riba-roja de Túria",
           null
          ],
          [
           "Riola",
           null
          ],
          [
           "Rocafort",
           null
          ],
          [
           "Rotglà i Corberà",
           null
          ],
          [
           "Ròtova",
           null
          ],
          [
           "Rugat",
           null
          ],
          [
           "Sagunt/Sagunto",
           null
          ],
          [
           "Salem",
           null
          ],
          [
           "Sant Joanet",
           null
          ],
          [
           "Sedaví",
           null
          ],
          [
           "Segart",
           null
          ],
          [
           "Sellent",
           null
          ],
          [
           "Sempere",
           null
          ],
          [
           "Senyera",
           null
          ],
          [
           "Serra",
           null
          ],
          [
           "Siete Aguas",
           null
          ],
          [
           "Silla",
           null
          ],
          [
           "Simat de la Valldigna",
           null
          ],
          [
           "Sinarcas",
           null
          ],
          [
           "Sollana",
           null
          ],
          [
           "Sot de Chera",
           null
          ],
          [
           "Sueca",
           null
          ],
          [
           "Sumacàrcer",
           null
          ],
          [
           "Tavernes Blanques",
           null
          ],
          [
           "Tavernes de la Valldigna",
           null
          ],
          [
           "Teresa de Cofrentes",
           null
          ],
          [
           "Terrateig",
           null
          ],
          [
           "Titaguas",
           null
          ],
          [
           "Torrebaja",
           null
          ],
          [
           "Torrella",
           null
          ],
          [
           "Torrent",
           null
          ],
          [
           "Torres Torres",
           null
          ],
          [
           "Tous",
           null
          ],
          [
           "Tuéjar",
           null
          ],
          [
           "Turís",
           null
          ],
          [
           "Utiel",
           null
          ],
          [
           "València",
           null
          ],
          [
           "Vallada",
           null
          ],
          [
           "Vallanca",
           null
          ],
          [
           "Vallés",
           null
          ],
          [
           "Venta del Moro",
           null
          ],
          [
           "Vilallonga/Villalonga",
           null
          ],
          [
           "Vilamarxant",
           null
          ],
          [
           "Castelló",
           null
          ],
          [
           "Villar del Arzobispo",
           null
          ],
          [
           "Villargordo del Cabriel",
           null
          ],
          [
           "Vinalesa",
           null
          ],
          [
           "Yátova",
           null
          ],
          [
           "Yesa, La",
           null
          ],
          [
           "Zarra",
           null
          ],
          [
           "Gátova",
           null
          ],
          [
           "San Antonio de Benagéber",
           null
          ],
          [
           "Benicull de Xúquer",
           null
          ],
          [
           "Adalia",
           774.0638
          ],
          [
           "Aguasal",
           754.7618
          ],
          [
           "Aguilar de Campos",
           775.4413
          ],
          [
           "Alaejos",
           754.8231
          ],
          [
           "Alcazarén",
           739.1025
          ],
          [
           "Aldea de San Miguel",
           null
          ],
          [
           "Aldeamayor de San Martín",
           705.3611
          ],
          [
           "Almenara de Adaja",
           780.494
          ],
          [
           "Amusquillo",
           775.3448
          ],
          [
           "Arroyo de la Encomienda",
           null
          ],
          [
           "Ataquines",
           795.7349
          ],
          [
           "Bahabón",
           884.0493
          ],
          [
           "Barcial de la Loma",
           739.793
          ],
          [
           "Barruelo del Valle",
           821.5405
          ],
          [
           "Becilla de Valderaduey",
           735.9683
          ],
          [
           "Benafarces",
           737.5884
          ],
          [
           "Bercero",
           740.9147
          ],
          [
           "Berceruelo",
           775.9297
          ],
          [
           "Berrueces",
           770.9304
          ],
          [
           "Bobadilla del Campo",
           756.3861
          ],
          [
           "Bocigas",
           774.3849
          ],
          [
           "Bocos de Duero",
           756.6528
          ],
          [
           "Boecillo",
           725.8821
          ],
          [
           "Bolaños de Campos",
           712
          ],
          [
           "Brahojos de Medina",
           753.1693
          ],
          [
           "Bustillo de Chaves",
           817.1871
          ],
          [
           "Cabezón de Pisuerga",
           705.7026
          ],
          [
           "Cabezón de Valderaduey",
           756.4937
          ],
          [
           "Cabreros del Monte",
           729.8631
          ],
          [
           "Campaspero",
           901.7211
          ],
          [
           "Campillo, El",
           744.0497
          ],
          [
           "Camporredondo",
           803.1887
          ],
          [
           "Canalejas de Peñafiel",
           903.6031
          ],
          [
           "Canillas de Esgueva",
           810.6504
          ],
          [
           "Carpio",
           764.988
          ],
          [
           "Casasola de Arión",
           709.0289
          ],
          [
           "Castrejón de Trabancos",
           741.9911
          ],
          [
           "Castrillo de Duero",
           808.0878
          ],
          [
           "Castrillo-Tejeriego",
           790.9167
          ],
          [
           "Castrobol",
           773.2532
          ],
          [
           "Castrodeza",
           758.6043
          ],
          [
           "Castromembibre",
           783.701
          ],
          [
           "Castromonte",
           840.7011
          ],
          [
           "Castronuevo de Esgueva",
           756.0091
          ],
          [
           "Castronuño",
           679.5443
          ],
          [
           "Castroponce",
           739.4788
          ],
          [
           "Castroverde de Cerrato",
           781.6545
          ],
          [
           "Ceinos de Campos",
           764.9077
          ],
          [
           "Cervillego de la Cruz",
           756.5815
          ],
          [
           "Cigales",
           749.6985
          ],
          [
           "Ciguñuela",
           821.8818
          ],
          [
           "Cistérniga",
           737.3728
          ],
          [
           "Cogeces de Íscar",
           735.7125
          ],
          [
           "Cogeces del Monte",
           888.127
          ],
          [
           "Corcos",
           790.5931
          ],
          [
           "Corrales de Duero",
           null
          ],
          [
           "Cubillas de Santa Marta",
           777.5655
          ],
          [
           "Cuenca de Campos",
           776.9031
          ],
          [
           "Curiel de Duero",
           791.8405
          ],
          [
           "Encinas de Esgueva",
           809.3292
          ],
          [
           "Esguevillas de Esgueva",
           781.1326
          ],
          [
           "Fombellida",
           796.8898
          ],
          [
           "Fompedraza",
           891.0166
          ],
          [
           "Fontihoyuelo",
           813.03
          ],
          [
           "Fresno el Viejo",
           null
          ],
          [
           "Fuensaldaña",
           744.3545
          ],
          [
           "Fuente el Sol",
           759
          ],
          [
           "Fuente-Olmedo",
           795.1333
          ],
          [
           "Gallegos de Hornija",
           715.3704
          ],
          [
           "Gatón de Campos",
           760.637
          ],
          [
           "Geria",
           721.1685
          ],
          [
           "Herrín de Campos",
           776.4446
          ],
          [
           "Hornillos de Eresma",
           722.429
          ],
          [
           "Íscar",
           766.1356
          ],
          [
           "Laguna de Duero",
           704.4346
          ],
          [
           "Langayo",
           820.6713
          ],
          [
           "Lomoviejo",
           769.1982
          ],
          [
           "Llano de Olmedo",
           780.7407
          ],
          [
           "Manzanillo",
           793.6913
          ],
          [
           "Marzales",
           707.8522
          ],
          [
           "Matapozuelos",
           728.4459
          ],
          [
           "Matilla de los Caños",
           null
          ],
          [
           "Mayorga",
           768.469
          ],
          [
           "Medina del Campo",
           723.588
          ],
          [
           "Medina de Rioseco",
           753.9636
          ],
          [
           "Megeces",
           743.8407
          ],
          [
           "Melgar de Abajo",
           806.2461
          ],
          [
           "Melgar de Arriba",
           793.4097
          ],
          [
           "Mojados",
           719.6595
          ],
          [
           "Monasterio de Vega",
           772.8459
          ],
          [
           "Montealegre de Campos",
           810.0027
          ],
          [
           "Montemayor de Pililla",
           868.4648
          ],
          [
           "Moral de la Reina",
           766.6082
          ],
          [
           "Moraleja de las Panaderas",
           731.7545
          ],
          [
           "Morales de Campos",
           748.6636
          ],
          [
           "Mota del Marqués",
           741.4532
          ],
          [
           "Mucientes",
           763.4631
          ],
          [
           "Mudarra, La",
           846.0627
          ],
          [
           "Muriel",
           777.2006
          ],
          [
           "Nava del Rey",
           null
          ],
          [
           "Nueva Villa de las Torres",
           744.9686
          ],
          [
           "Olivares de Duero",
           743.037
          ],
          [
           "Olmedo",
           772.1889
          ],
          [
           "Olmos de Esgueva",
           null
          ],
          [
           "Olmos de Peñafiel",
           null
          ],
          [
           "Palazuelo de Vedija",
           787.4673
          ],
          [
           "Parrilla, La",
           859.4028
          ],
          [
           "Pedraja de Portillo, La",
           719.7362
          ],
          [
           "Pedrajas de San Esteban",
           754
          ],
          [
           "Pedrosa del Rey",
           720.1923
          ],
          [
           "Peñafiel",
           760.3983
          ],
          [
           "Peñaflor de Hornija",
           840.8401
          ],
          [
           "Pesquera de Duero",
           null
          ],
          [
           "Piña de Esgueva",
           749.317
          ],
          [
           "Piñel de Abajo",
           786.3028
          ],
          [
           "Piñel de Arriba",
           830.6583
          ],
          [
           "Pollos",
           669.3666
          ],
          [
           "Portillo",
           847.6613
          ],
          [
           "Pozal de Gallinas",
           728.573
          ],
          [
           "Pozaldez",
           790.4047
          ],
          [
           "Pozuelo de la Orden",
           null
          ],
          [
           "Puras",
           803.8533
          ],
          [
           "Quintanilla de Arriba",
           741.261
          ],
          [
           "Quintanilla del Molar",
           747.7817
          ],
          [
           "Quintanilla de Onésimo",
           728.6448
          ],
          [
           "Quintanilla de Trigueros",
           795.2899
          ],
          [
           "Rábano",
           780.519
          ],
          [
           "Ramiro",
           760.1485
          ],
          [
           "Renedo de Esgueva",
           714
          ],
          [
           "Roales de Campos",
           743.9281
          ],
          [
           "Robladillo",
           773.9286
          ],
          [
           "Roturas",
           824.9166
          ],
          [
           "Rubí de Bracamonte",
           754.1117
          ],
          [
           "Rueda",
           736.6745
          ],
          [
           "Saelices de Mayorga",
           769.856
          ],
          [
           "Salvador de Zapardiel",
           771.4283
          ],
          [
           "San Cebrián de Mazote",
           763.8837
          ],
          [
           "San Llorente",
           881.8113
          ],
          [
           "San Martín de Valvení",
           736.2048
          ],
          [
           "San Miguel del Arroyo",
           823.384
          ],
          [
           "San Miguel del Pino",
           677.4659
          ],
          [
           "San Pablo de la Moraleja",
           795.316
          ],
          [
           "San Pedro de Latarce",
           708.7725
          ],
          [
           "San Pelayo",
           772.2509
          ],
          [
           "San Román de Hornija",
           672.574
          ],
          [
           "San Salvador",
           722.0958
          ],
          [
           "Santa Eufemia del Arroyo",
           714.4111
          ],
          [
           "Santervás de Campos",
           767.0978
          ],
          [
           "Santibáñez de Valcorba",
           749.9538
          ],
          [
           "Santovenia de Pisuerga",
           695.9589
          ],
          [
           "San Vicente del Palacio",
           747
          ],
          [
           "Sardón de Duero",
           720.0624
          ],
          [
           "Seca, La",
           733.1006
          ],
          [
           "Serrada",
           726.9307
          ],
          [
           "Siete Iglesias de Trabancos",
           726.464
          ],
          [
           "Simancas",
           715.7623
          ],
          [
           "Tamariz de Campos",
           750.1976
          ],
          [
           "Tiedra",
           821.9064
          ],
          [
           "Tordehumos",
           753.7995
          ],
          [
           "Tordesillas",
           700.5994
          ],
          [
           "Torrecilla de la Abadesa",
           685.116
          ],
          [
           "Torrecilla de la Orden",
           776.2607
          ],
          [
           "Torrecilla de la Torre",
           755.2628
          ],
          [
           "Torre de Esgueva",
           null
          ],
          [
           "Torre de Peñafiel",
           null
          ],
          [
           "Torrelobatón",
           750.7936
          ],
          [
           "Torrescárcela",
           891.451
          ],
          [
           "Traspinedo",
           736.7956
          ],
          [
           "Trigueros del Valle",
           762.3388
          ],
          [
           "Tudela de Duero",
           708.5769
          ],
          [
           "Unión de Campos, La",
           null
          ],
          [
           "Urones de Castroponce",
           751.2286
          ],
          [
           "Urueña",
           832.098
          ],
          [
           "Valbuena de Duero",
           734.545
          ],
          [
           "Valdearcos de la Vega",
           null
          ],
          [
           "Valdenebro de los Valles",
           808.7703
          ],
          [
           "Valdestillas",
           703
          ],
          [
           "Valdunquillo",
           742.0706
          ],
          [
           "Valoria la Buena",
           730.0471
          ],
          [
           "Valverde de Campos",
           770.9928
          ],
          [
           "Valladolid",
           699.4927
          ],
          [
           "Vega de Ruiponce",
           751.2102
          ],
          [
           "Vega de Valdetronco",
           712.2534
          ],
          [
           "Velascálvaro",
           744.2465
          ],
          [
           "Velilla",
           784.9809
          ],
          [
           "Velliza",
           776.5533
          ],
          [
           "Ventosa de la Cuesta",
           764.8138
          ],
          [
           "Viana de Cega",
           691.8729
          ],
          [
           "Viloria",
           873.8669
          ],
          [
           "Villabáñez",
           740.6144
          ],
          [
           "Villabaruz de Campos",
           751.3663
          ],
          [
           "Villabrágima",
           727.4385
          ],
          [
           "Villacarralón",
           790.7327
          ],
          [
           "Villacid de Campos",
           779.7687
          ],
          [
           "Villaco",
           783.8756
          ],
          [
           "Villafrades de Campos",
           763.1504
          ],
          [
           "Villafranca de Duero",
           657
          ],
          [
           "Villafrechós",
           744.8799
          ],
          [
           "Villafuerte",
           819.951
          ],
          [
           "Villagarcía de Campos",
           719.0961
          ],
          [
           "Villagómez la Nueva",
           754.6724
          ],
          [
           "Villalán de Campos",
           755.7052
          ],
          [
           "Villalar de los Comuneros",
           710.9124
          ],
          [
           "Villalba de la Loma",
           769.6681
          ],
          [
           "Villalba de los Alcores",
           847.8523
          ],
          [
           "Villalbarba",
           719.6545
          ],
          [
           "Villalón de Campos",
           788.3907
          ],
          [
           "Villamuriel de Campos",
           738.6995
          ],
          [
           "Villán de Tordesillas",
           751.797
          ],
          [
           "Villanubla",
           842.8672
          ],
          [
           "Villanueva de Duero",
           691.0079
          ],
          [
           "Villanueva de la Condesa",
           786.3748
          ],
          [
           "Villanueva de los Caballeros",
           712.459
          ],
          [
           "Villanueva de los Infantes",
           743.701
          ],
          [
           "Villanueva de San Mancio",
           744.4049
          ],
          [
           "Villardefrades",
           726.2296
          ],
          [
           "Villarmentero de Esgueva",
           729.276
          ],
          [
           "Villasexmir",
           725.1
          ],
          [
           "Villavaquerín",
           765.7326
          ],
          [
           "Villavellid",
           770.2872
          ],
          [
           "Villaverde de Medina",
           733.2005
          ],
          [
           "Villavicencio de los Caballeros",
           722.9398
          ],
          [
           "Wamba",
           787.3964
          ],
          [
           "Zaratán",
           752.6955
          ],
          [
           "Zarza, La",
           758.8602
          ],
          [
           "Abadiño",
           null
          ],
          [
           "Abanto y Ciérvana-Abanto Zierbena",
           null
          ],
          [
           "Amorebieta-Etxano",
           null
          ],
          [
           "Amoroto",
           null
          ],
          [
           "Arakaldo",
           null
          ],
          [
           "Arantzazu",
           null
          ],
          [
           "Munitibar-Arbatzegi Gerrikaitz",
           null
          ],
          [
           "Artzentales",
           null
          ],
          [
           "Arrankudiaga-Zollo",
           null
          ],
          [
           "Arrieta",
           null
          ],
          [
           "Arrigorriaga",
           null
          ],
          [
           "Bakio",
           null
          ],
          [
           "Barakaldo",
           null
          ],
          [
           "Barrika",
           null
          ],
          [
           "Basauri",
           null
          ],
          [
           "Berango",
           null
          ],
          [
           "Bermeo",
           null
          ],
          [
           "Berriatua",
           null
          ],
          [
           "Berriz",
           null
          ],
          [
           "Bilbao",
           null
          ],
          [
           "Busturia",
           null
          ],
          [
           "Karrantza Harana/Valle de Carranza",
           null
          ],
          [
           "Artea",
           null
          ],
          [
           "Zeanuri",
           null
          ],
          [
           "Zeberio",
           null
          ],
          [
           "Dima",
           null
          ],
          [
           "Durango",
           null
          ],
          [
           "Ea",
           null
          ],
          [
           "Etxebarri",
           null
          ],
          [
           "Etxebarria",
           null
          ],
          [
           "Elantxobe",
           null
          ],
          [
           "Elorrio",
           null
          ],
          [
           "Ereño",
           null
          ],
          [
           "Ermua",
           null
          ],
          [
           "Fruiz",
           null
          ],
          [
           "Galdakao",
           null
          ],
          [
           "Galdames",
           null
          ],
          [
           "Gamiz-Fika",
           null
          ],
          [
           "Garai",
           null
          ],
          [
           "Gatika",
           null
          ],
          [
           "Gautegiz Arteaga",
           null
          ],
          [
           "Gordexola",
           null
          ],
          [
           "Gorliz",
           null
          ],
          [
           "Getxo",
           null
          ],
          [
           "Güeñes",
           null
          ],
          [
           "Gernika-Lumo",
           null
          ],
          [
           "Gizaburuaga",
           null
          ],
          [
           "Ibarrangelu",
           null
          ],
          [
           "Ispaster",
           null
          ],
          [
           "Izurtza",
           null
          ],
          [
           "Lanestosa",
           null
          ],
          [
           "Larrabetzu",
           null
          ],
          [
           "Laukiz",
           null
          ],
          [
           "Leioa",
           null
          ],
          [
           "Lemoa",
           null
          ],
          [
           "Lemoiz",
           null
          ],
          [
           "Lekeitio",
           null
          ],
          [
           "Mallabia",
           null
          ],
          [
           "Mañaria",
           null
          ],
          [
           "Markina-Xemein",
           null
          ],
          [
           "Maruri-Jatabe",
           null
          ],
          [
           "Mendata",
           null
          ],
          [
           "Mendexa",
           null
          ],
          [
           "Meñaka",
           null
          ],
          [
           "Ugao-Miraballes",
           null
          ],
          [
           "Morga",
           null
          ],
          [
           "Muxika",
           null
          ],
          [
           "Mundaka",
           null
          ],
          [
           "Mungia",
           null
          ],
          [
           "Aulesti",
           null
          ],
          [
           "Muskiz",
           null
          ],
          [
           "Otxandio",
           null
          ],
          [
           "Ondarroa",
           null
          ],
          [
           "Urduña/Orduña",
           null
          ],
          [
           "Orozko",
           null
          ],
          [
           "Sukarrieta",
           null
          ],
          [
           "Plentzia",
           null
          ],
          [
           "Portugalete",
           null
          ],
          [
           "Errigoiti",
           null
          ],
          [
           "Valle de Trápaga-Trapagaran",
           null
          ],
          [
           "Lezama",
           null
          ],
          [
           "Santurtzi",
           null
          ],
          [
           "Ortuella",
           null
          ],
          [
           "Sestao",
           null
          ],
          [
           "Sopela",
           null
          ],
          [
           "Sopuerta",
           null
          ],
          [
           "Trucios-Turtzioz",
           null
          ],
          [
           "Ubide",
           null
          ],
          [
           "Urduliz",
           null
          ],
          [
           "Balmaseda",
           null
          ],
          [
           "Atxondo",
           null
          ],
          [
           "Bedia",
           null
          ],
          [
           "Areatza",
           null
          ],
          [
           "Igorre",
           null
          ],
          [
           "Zaldibar",
           null
          ],
          [
           "Zalla",
           null
          ],
          [
           "Zaratamo",
           null
          ],
          [
           "Derio",
           null
          ],
          [
           "Erandio",
           null
          ],
          [
           "Loiu",
           null
          ],
          [
           "Sondika",
           null
          ],
          [
           "Zamudio",
           null
          ],
          [
           "Forua",
           null
          ],
          [
           "Kortezubi",
           null
          ],
          [
           "Murueta",
           null
          ],
          [
           "Nabarniz",
           null
          ],
          [
           "Iurreta",
           null
          ],
          [
           "Ajangiz",
           null
          ],
          [
           "Alonsotegi",
           null
          ],
          [
           "Zierbena",
           null
          ],
          [
           "Arratzu",
           null
          ],
          [
           "Ziortza-Bolibar",
           null
          ],
          [
           "Usansolo",
           null
          ],
          [
           "Abezames",
           734.649
          ],
          [
           "Alcañices",
           800.8787
          ],
          [
           "Alcubilla de Nogales",
           780.9072
          ],
          [
           "Alfaraz de Sayago",
           823.1807
          ],
          [
           "Algodre",
           660.188
          ],
          [
           "Almaraz de Duero",
           724.4616
          ],
          [
           "Almeida de Sayago",
           788.2532
          ],
          [
           "Andavías",
           700.6663
          ],
          [
           "Arcenillas",
           701.8715
          ],
          [
           "Arcos de la Polvorosa",
           null
          ],
          [
           "Argañín",
           741.4979
          ],
          [
           "Argujillo",
           767.8745
          ],
          [
           "Arquillinos",
           670.2195
          ],
          [
           "Arrabalde",
           774.8352
          ],
          [
           "Aspariegos",
           670.0681
          ],
          [
           "Asturianos",
           968.9544
          ],
          [
           "Ayoó de Vidriales",
           796.757
          ],
          [
           "Barcial del Barco",
           716.0553
          ],
          [
           "Belver de los Montes",
           691.9913
          ],
          [
           "Benavente",
           723.4604
          ],
          [
           "Benegiles",
           647
          ],
          [
           "Bermillo de Sayago",
           794.7465
          ],
          [
           "Bóveda de Toro, La",
           null
          ],
          [
           "Bretó",
           695.636
          ],
          [
           "Bretocino",
           714.0786
          ],
          [
           "Brime de Sog",
           764.0367
          ],
          [
           "Brime de Urz",
           719.4198
          ],
          [
           "Burganes de Valverde",
           709.8783
          ],
          [
           "Bustillo del Oro",
           705.8235
          ],
          [
           "Cabañas de Sayago",
           766.5292
          ],
          [
           "Calzadilla de Tera",
           752.9898
          ],
          [
           "Camarzana de Tera",
           736.6218
          ],
          [
           "Cañizal",
           789.5921
          ],
          [
           "Cañizo",
           676.3501
          ],
          [
           "Carbajales de Alba",
           757.5706
          ],
          [
           "Carbellino",
           766.8657
          ],
          [
           "Casaseca de Campeán",
           null
          ],
          [
           "Casaseca de las Chanas",
           null
          ],
          [
           "Castrillo de la Guareña",
           735.9915
          ],
          [
           "Castrogonzalo",
           729.8262
          ],
          [
           "Castronuevo",
           690.7584
          ],
          [
           "Castroverde de Campos",
           709.8859
          ],
          [
           "Cazurra",
           727.3829
          ],
          [
           "Cerecinos de Campos",
           699.6163
          ],
          [
           "Cerecinos del Carrizal",
           684.9042
          ],
          [
           "Cernadilla",
           909.2853
          ],
          [
           "Cobreros",
           1001.473
          ],
          [
           "Coomonte",
           734.2988
          ],
          [
           "Coreses",
           648.8304
          ],
          [
           "Corrales del Vino",
           null
          ],
          [
           "Cotanes del Monte",
           716.3132
          ],
          [
           "Cubillos",
           670
          ],
          [
           "Cubo de Benavente",
           812.4978
          ],
          [
           "Cubo de Tierra del Vino, El",
           841.0046
          ],
          [
           "Cuelgamures",
           806.4151
          ],
          [
           "Entrala",
           705.7349
          ],
          [
           "Espadañedo",
           1036.841
          ],
          [
           "Faramontanos de Tábara",
           724.9462
          ],
          [
           "Fariza",
           699.1072
          ],
          [
           "Fermoselle",
           678.808
          ],
          [
           "Ferreras de Abajo",
           822.2217
          ],
          [
           "Ferreras de Arriba",
           898.3244
          ],
          [
           "Ferreruela",
           830.2149
          ],
          [
           "Figueruela de Arriba",
           860.8643
          ],
          [
           "Fonfría",
           826.7355
          ],
          [
           "Fresno de la Polvorosa",
           null
          ],
          [
           "Fresno de la Ribera",
           null
          ],
          [
           "Fresno de Sayago",
           null
          ],
          [
           "Friera de Valverde",
           718.6683
          ],
          [
           "Fuente Encalada",
           755.1226
          ],
          [
           "Fuentelapeña",
           744.6506
          ],
          [
           "Fuentesaúco",
           805
          ],
          [
           "Fuentes de Ropel",
           721.5773
          ],
          [
           "Fuentesecas",
           771.0013
          ],
          [
           "Fuentespreadas",
           763.1371
          ],
          [
           "Galende",
           964.0846
          ],
          [
           "Gallegos del Pan",
           692.2368
          ],
          [
           "Gallegos del Río",
           717.4845
          ],
          [
           "Gamones",
           753.5652
          ],
          [
           "Gema",
           712.2343
          ],
          [
           "Granja de Moreruela",
           null
          ],
          [
           "Granucillo",
           725.7559
          ],
          [
           "Guarrate",
           728.3583
          ],
          [
           "Hermisende",
           838.3806
          ],
          [
           "Hiniesta, La",
           695.3338
          ],
          [
           "Jambrina",
           708.1685
          ],
          [
           "Justel",
           987.8643
          ],
          [
           "Losacino",
           696.3899
          ],
          [
           "Losacio",
           749.7023
          ],
          [
           "Lubián",
           1034.373
          ],
          [
           "Luelmo",
           774.9664
          ],
          [
           "Maderal, El",
           832.0909
          ],
          [
           "Madridanos",
           650
          ],
          [
           "Mahide",
           824.5887
          ],
          [
           "Maire de Castroponce",
           738.4753
          ],
          [
           "Malva",
           716.3611
          ],
          [
           "Manganeses de la Lampreana",
           704.8086
          ],
          [
           "Manganeses de la Polvorosa",
           721.1735
          ],
          [
           "Manzanal de Arriba",
           891.8854
          ],
          [
           "Manzanal del Barco",
           710.2052
          ],
          [
           "Manzanal de los Infantes",
           922.5501
          ],
          [
           "Matilla de Arzón",
           null
          ],
          [
           "Matilla la Seca",
           null
          ],
          [
           "Mayalde",
           871.8036
          ],
          [
           "Melgar de Tera",
           747.1895
          ],
          [
           "Micereces de Tera",
           719.7667
          ],
          [
           "Milles de la Polvorosa",
           704.9008
          ],
          [
           "Molacillos",
           639.7747
          ],
          [
           "Molezuelas de la Carballeda",
           803.29
          ],
          [
           "Mombuey",
           892.9008
          ],
          [
           "Monfarracinos",
           643.5111
          ],
          [
           "Montamarta",
           693.1759
          ],
          [
           "Moral de Sayago",
           745.4995
          ],
          [
           "Moraleja del Vino",
           686
          ],
          [
           "Moraleja de Sayago",
           796.6891
          ],
          [
           "Morales del Vino",
           699.6177
          ],
          [
           "Morales de Rey",
           724.2993
          ],
          [
           "Morales de Toro",
           706.527
          ],
          [
           "Morales de Valverde",
           724.1026
          ],
          [
           "Moralina",
           764.3427
          ],
          [
           "Moreruela de los Infanzones",
           671.5699
          ],
          [
           "Moreruela de Tábara",
           698
          ],
          [
           "Muelas de los Caballeros",
           994.2617
          ],
          [
           "Muelas del Pan",
           765.3066
          ],
          [
           "Muga de Sayago",
           788.1932
          ],
          [
           "Navianos de Valverde",
           710.5422
          ],
          [
           "Olmillos de Castro",
           770.5227
          ],
          [
           "Otero de Bodas",
           827.4964
          ],
          [
           "Pajares de la Lampreana",
           692.6044
          ],
          [
           "Palacios del Pan",
           719.6092
          ],
          [
           "Palacios de Sanabria",
           964.4566
          ],
          [
           "Pedralba de la Pradería",
           992.087
          ],
          [
           "Pego, El",
           760.7218
          ],
          [
           "Peleagonzalo",
           648.9901
          ],
          [
           "Peleas de Abajo",
           711.8881
          ],
          [
           "Peñausende",
           868.9768
          ],
          [
           "Peque",
           851.3065
          ],
          [
           "Perdigón, El",
           732.0176
          ],
          [
           "Pereruela",
           768.8405
          ],
          [
           "Perilla de Castro",
           723.7376
          ],
          [
           "Pías",
           1049.735
          ],
          [
           "Piedrahita de Castro",
           700.9993
          ],
          [
           "Pinilla de Toro",
           764.5831
          ],
          [
           "Pino del Oro",
           null
          ],
          [
           "Piñero, El",
           744.402
          ],
          [
           "Pobladura del Valle",
           738.1398
          ],
          [
           "Pobladura de Valderaduey",
           668.3034
          ],
          [
           "Porto",
           1207.48
          ],
          [
           "Pozoantiguo",
           713.8331
          ],
          [
           "Pozuelo de Tábara",
           null
          ],
          [
           "Prado",
           712.8901
          ],
          [
           "Puebla de Sanabria",
           937.181
          ],
          [
           "Pueblica de Valverde",
           727.9575
          ],
          [
           "Quintanilla del Monte",
           694.7986
          ],
          [
           "Quintanilla del Olmo",
           695.5483
          ],
          [
           "Quintanilla de Urz",
           716.7808
          ],
          [
           "Quiruelas de Vidriales",
           714.9902
          ],
          [
           "Rabanales",
           840.1841
          ],
          [
           "Rábano de Aliste",
           804.8948
          ],
          [
           "Requejo",
           991.0104
          ],
          [
           "Revellinos",
           697
          ],
          [
           "Riofrío de Aliste",
           791.1357
          ],
          [
           "Rionegro del Puente",
           801.0129
          ],
          [
           "Roales",
           743.9281
          ],
          [
           "Robleda-Cervantes",
           1019.21
          ],
          [
           "Roelos de Sayago",
           774.9606
          ],
          [
           "Rosinos de la Requejada",
           1012.096
          ],
          [
           "Salce",
           747.0807
          ],
          [
           "Samir de los Caños",
           792.2667
          ],
          [
           "San Agustín del Pozo",
           695.4661
          ],
          [
           "San Cebrián de Castro",
           689.8808
          ],
          [
           "San Cristóbal de Entreviñas",
           716.2618
          ],
          [
           "San Esteban del Molar",
           732.3524
          ],
          [
           "San Justo",
           1075.053
          ],
          [
           "San Martín de Valderaduey",
           686.815
          ],
          [
           "San Miguel de la Ribera",
           753.823
          ],
          [
           "San Miguel del Valle",
           738.6041
          ],
          [
           "San Pedro de Ceque",
           761.2156
          ],
          [
           "San Pedro de la Nave-Almendra",
           712.9648
          ],
          [
           "Santa Clara de Avedillo",
           772.0454
          ],
          [
           "Santa Colomba de las Monjas",
           702.0335
          ],
          [
           "Santa Cristina de la Polvorosa",
           709.6334
          ],
          [
           "Santa Croya de Tera",
           725
          ],
          [
           "Santa Eufemia del Barco",
           712.1947
          ],
          [
           "Santa María de la Vega",
           730.9682
          ],
          [
           "Santa María de Valverde",
           733.6366
          ],
          [
           "Santibáñez de Tera",
           729.7665
          ],
          [
           "Santibáñez de Vidriales",
           743.3671
          ],
          [
           "Santovenia",
           714.5436
          ],
          [
           "San Vicente de la Cabeza",
           756.4977
          ],
          [
           "San Vitero",
           865.2906
          ],
          [
           "Sanzoles",
           719.1744
          ],
          [
           "Tábara",
           751.6248
          ],
          [
           "Tapioles",
           688.6124
          ],
          [
           "Toro",
           730.0003
          ],
          [
           "Torre del Valle, La",
           null
          ],
          [
           "Torregamones",
           784.8227
          ],
          [
           "Torres del Carrizal",
           648
          ],
          [
           "Trabazos",
           728.6976
          ],
          [
           "Trefacio",
           976.9877
          ],
          [
           "Uña de Quintana",
           782.5795
          ],
          [
           "Vadillo de la Guareña",
           717.0134
          ],
          [
           "Valcabado",
           682.3292
          ],
          [
           "Valdefinjas",
           722.6641
          ],
          [
           "Valdescorriel",
           734.973
          ],
          [
           "Vallesa de la Guareña",
           765.7673
          ],
          [
           "Vega de Tera",
           763.4651
          ],
          [
           "Vega de Villalobos",
           732.9785
          ],
          [
           "Vegalatrave",
           692.9553
          ],
          [
           "Venialbo",
           714.8421
          ],
          [
           "Vezdemarbán",
           767.9186
          ],
          [
           "Vidayanes",
           704.1667
          ],
          [
           "Videmala",
           776.7166
          ],
          [
           "Villabrázaro",
           726.3007
          ],
          [
           "Villabuena del Puente",
           702.1939
          ],
          [
           "Villadepera",
           726.3047
          ],
          [
           "Villaescusa",
           824.9127
          ],
          [
           "Villafáfila",
           688.5735
          ],
          [
           "Villaferrueña",
           744.5328
          ],
          [
           "Villageriz",
           775.0306
          ],
          [
           "Villalazán",
           660.7059
          ],
          [
           "Villalba de la Lampreana",
           683.9111
          ],
          [
           "Villalcampo",
           784.3217
          ],
          [
           "Villalobos",
           725.785
          ],
          [
           "Villalonso",
           722.1978
          ],
          [
           "Villalpando",
           693.7587
          ],
          [
           "Villalube",
           733.0415
          ],
          [
           "Villamayor de Campos",
           695.6239
          ],
          [
           "Villamor de los Escuderos",
           836.3304
          ],
          [
           "Villanázar",
           709.184
          ],
          [
           "Villanueva de Azoague",
           703.6188
          ],
          [
           "Villanueva de Campeán",
           760.7177
          ],
          [
           "Villanueva de las Peras",
           746.8168
          ],
          [
           "Villanueva del Campo",
           757.225
          ],
          [
           "Villaralbo",
           636.7354
          ],
          [
           "Villardeciervos",
           855.7898
          ],
          [
           "Villar de Fallaves",
           696.1533
          ],
          [
           "Villar del Buey",
           776.983
          ],
          [
           "Villardiegua de la Ribera",
           764.6822
          ],
          [
           "Villárdiga",
           684.5942
          ],
          [
           "Villardondiego",
           736.6719
          ],
          [
           "Villarrín de Campos",
           685.7974
          ],
          [
           "Villaseco del Pan",
           753.9724
          ],
          [
           "Villavendimio",
           726.9139
          ],
          [
           "Villaveza del Agua",
           702.1813
          ],
          [
           "Villaveza de Valverde",
           711.7657
          ],
          [
           "Viñas",
           752.655
          ],
          [
           "Zamora",
           657.1658
          ],
          [
           "Abanto",
           922.4666
          ],
          [
           "Acered",
           835.0305
          ],
          [
           "Agón",
           321.5412
          ],
          [
           "Aguarón",
           667.286
          ],
          [
           "Aguilón",
           689.9364
          ],
          [
           "Ainzón",
           434.0218
          ],
          [
           "Aladrén",
           780.4907
          ],
          [
           "Alagón",
           238.9708
          ],
          [
           "Alarba",
           848.114
          ],
          [
           "Alberite de San Juan",
           377.7354
          ],
          [
           "Albeta",
           421.3977
          ],
          [
           "Alborge",
           158.166
          ],
          [
           "Alcalá de Ebro",
           222.1754
          ],
          [
           "Alcalá de Moncayo",
           754.1453
          ],
          [
           "Alconchel de Ariza",
           889.6893
          ],
          [
           "Aldehuela de Liestos",
           null
          ],
          [
           "Alfajarín",
           196.5611
          ],
          [
           "Alfamén",
           447.2267
          ],
          [
           "Alforque",
           164.0169
          ],
          [
           "Alhama de Aragón",
           663.7305
          ],
          [
           "Almochuel",
           275.4481
          ],
          [
           "Almolda, La",
           460.9749
          ],
          [
           "Almonacid de la Cuba",
           483.7066
          ],
          [
           "Almonacid de la Sierra",
           605.9109
          ],
          [
           "Almunia de Doña Godina, La",
           371.3371
          ],
          [
           "Alpartir",
           507.0749
          ],
          [
           "Ambel",
           587.8949
          ],
          [
           "Anento",
           927.0677
          ],
          [
           "Aniñón",
           713.344
          ],
          [
           "Añón de Moncayo",
           830.1616
          ],
          [
           "Aranda de Moncayo",
           905.0275
          ],
          [
           "Arándiga",
           464.0809
          ],
          [
           "Ardisa",
           422.0101
          ],
          [
           "Ariza",
           713.859
          ],
          [
           "Artieda",
           630.9939
          ],
          [
           "Asín",
           583.3365
          ],
          [
           "Atea",
           846.9442
          ],
          [
           "Ateca",
           599.9296
          ],
          [
           "Azuara",
           580.366
          ],
          [
           "Badules",
           918.8503
          ],
          [
           "Bagüés",
           808.4211
          ],
          [
           "Balconchán",
           890.5054
          ],
          [
           "Bárboles",
           260.1506
          ],
          [
           "Bardallur",
           284.6658
          ],
          [
           "Belchite",
           443.8954
          ],
          [
           "Belmonte de Gracián",
           705.7676
          ],
          [
           "Berdejo",
           969.7459
          ],
          [
           "Berrueco",
           1093.496
          ],
          [
           "Bijuesca",
           927.1331
          ],
          [
           "Biota",
           490.6575
          ],
          [
           "Bisimbre",
           321.3621
          ],
          [
           "Boquiñeni",
           227.7671
          ],
          [
           "Bordalba",
           933.4196
          ],
          [
           "Borja",
           452.7229
          ],
          [
           "Botorrita",
           376.1743
          ],
          [
           "Brea de Aragón",
           575.503
          ],
          [
           "Bubierca",
           654.7245
          ],
          [
           "Bujaraloz",
           329.2621
          ],
          [
           "Bulbuente",
           519.8422
          ],
          [
           "Bureta",
           409.647
          ],
          [
           "Burgo de Ebro, El",
           null
          ],
          [
           "Buste, El",
           682.9518
          ],
          [
           "Cabañas de Ebro",
           218.6309
          ],
          [
           "Cabolafuente",
           945.4361
          ],
          [
           "Cadrete",
           305.3771
          ],
          [
           "Calatayud",
           541.744
          ],
          [
           "Calatorao",
           344.1744
          ],
          [
           "Calcena",
           856.4086
          ],
          [
           "Calmarza",
           841.7386
          ],
          [
           "Campillo de Aragón",
           null
          ],
          [
           "Carenas",
           662.4408
          ],
          [
           "Cariñena",
           600.7257
          ],
          [
           "Caspe",
           162.4285
          ],
          [
           "Castejón de Alarba",
           927.9485
          ],
          [
           "Castejón de las Armas",
           604.1856
          ],
          [
           "Castejón de Valdejasa",
           525.1101
          ],
          [
           "Castiliscar",
           483.1245
          ],
          [
           "Cervera de la Cañada",
           677.2734
          ],
          [
           "Cerveruela",
           807.4222
          ],
          [
           "Cetina",
           693.1022
          ],
          [
           "Cimballa",
           913.0313
          ],
          [
           "Cinco Olivas",
           154.3324
          ],
          [
           "Clarés de Ribota",
           948.5849
          ],
          [
           "Codo",
           342.8191
          ],
          [
           "Codos",
           748.881
          ],
          [
           "Contamina",
           668.5798
          ],
          [
           "Cosuenda",
           632.6768
          ],
          [
           "Cuarte de Huerva",
           268.2757
          ],
          [
           "Cubel",
           1107.119
          ],
          [
           "Cuerlas, Las",
           1006.177
          ],
          [
           "Chiprana",
           152.1577
          ],
          [
           "Chodes",
           413.5298
          ],
          [
           "Daroca",
           783.9178
          ],
          [
           "Ejea de los Caballeros",
           343.5083
          ],
          [
           "Embid de Ariza",
           780.9568
          ],
          [
           "Encinacorba",
           756.7845
          ],
          [
           "Épila",
           313.3686
          ],
          [
           "Erla",
           430.376
          ],
          [
           "Escatrón",
           144.0067
          ],
          [
           "Fabara",
           237.3806
          ],
          [
           "Farlete",
           410.4063
          ],
          [
           "Fayón",
           196.4334
          ],
          [
           "Fayos, Los",
           561.1594
          ],
          [
           "Figueruelas",
           255.9903
          ],
          [
           "Fombuena",
           1015.665
          ],
          [
           "Frago, El",
           595.4272
          ],
          [
           "Frasno, El",
           681.258
          ],
          [
           "Fréscano",
           302.2807
          ],
          [
           "Fuendejalón",
           470.615
          ],
          [
           "Fuendetodos",
           751.9825
          ],
          [
           "Fuentes de Ebro",
           192.7446
          ],
          [
           "Fuentes de Jiloca",
           687.3452
          ],
          [
           "Gallocanta",
           1020.754
          ],
          [
           "Gallur",
           243.1283
          ],
          [
           "Gelsa",
           153.7756
          ],
          [
           "Godojos",
           764.7232
          ],
          [
           "Gotor",
           607.3821
          ],
          [
           "Grisel",
           623.9782
          ],
          [
           "Grisén",
           246.7064
          ],
          [
           "Herrera de los Navarros",
           null
          ],
          [
           "Ibdes",
           741.9872
          ],
          [
           "Illueca",
           589.6152
          ],
          [
           "Isuerre",
           640.5793
          ],
          [
           "Jaraba",
           763.7606
          ],
          [
           "Jarque de Moncayo",
           null
          ],
          [
           "Jaulín",
           516.2281
          ],
          [
           "Joyosa, La",
           216.2196
          ],
          [
           "Lagata",
           526.7678
          ],
          [
           "Langa del Castillo",
           882.7292
          ],
          [
           "Layana",
           484.5312
          ],
          [
           "Lécera",
           531.8742
          ],
          [
           "Leciñena",
           418.5828
          ],
          [
           "Lechón",
           985.0991
          ],
          [
           "Letux",
           517.6309
          ],
          [
           "Litago",
           780.5075
          ],
          [
           "Lituénigo",
           763.7889
          ],
          [
           "Lobera de Onsella",
           658.759
          ],
          [
           "Longares",
           535.3199
          ],
          [
           "Longás",
           739.2802
          ],
          [
           "Lucena de Jalón",
           347.0133
          ],
          [
           "Luceni",
           234.3191
          ],
          [
           "Luesia",
           804.2617
          ],
          [
           "Luesma",
           943.9291
          ],
          [
           "Lumpiaque",
           314.7662
          ],
          [
           "Luna",
           467.4077
          ],
          [
           "Maella",
           285.3151
          ],
          [
           "Magallón",
           395.1459
          ],
          [
           "Mainar",
           868.0479
          ],
          [
           "Malanquilla",
           1046.061
          ],
          [
           "Maleján",
           466.0901
          ],
          [
           "Malón",
           427.1692
          ],
          [
           "Maluenda",
           595.9858
          ],
          [
           "Mallén",
           287.8513
          ],
          [
           "Manchones",
           740.1449
          ],
          [
           "Mara",
           691.8807
          ],
          [
           "María de Huerva",
           332.9163
          ],
          [
           "Mediana de Aragón",
           289.3042
          ],
          [
           "Mequinenza",
           92.34655
          ],
          [
           "Mesones de Isuela",
           538.4012
          ],
          [
           "Mezalocha",
           491.086
          ],
          [
           "Mianos",
           651.1317
          ],
          [
           "Miedes de Aragón",
           771.8868
          ],
          [
           "Monegrillo",
           441.6924
          ],
          [
           "Moneva",
           652.3671
          ],
          [
           "Monreal de Ariza",
           751.1902
          ],
          [
           "Monterde",
           804.4403
          ],
          [
           "Montón",
           693.9522
          ],
          [
           "Morata de Jalón",
           421.1948
          ],
          [
           "Morata de Jiloca",
           625.0764
          ],
          [
           "Morés",
           457.6555
          ],
          [
           "Moros",
           704.5184
          ],
          [
           "Moyuela",
           745.7245
          ],
          [
           "Mozota",
           397.1876
          ],
          [
           "Muel",
           434.2508
          ],
          [
           "Muela, La",
           595.3652
          ],
          [
           "Munébrega",
           747.0544
          ],
          [
           "Murero",
           713.1721
          ],
          [
           "Murillo de Gállego",
           530.8543
          ],
          [
           "Navardún",
           493.5045
          ],
          [
           "Nigüella",
           497.1727
          ],
          [
           "Nombrevilla",
           908.814
          ],
          [
           "Nonaspe",
           176.9074
          ],
          [
           "Novallas",
           431.939
          ],
          [
           "Novillas",
           240.4928
          ],
          [
           "Nuévalos",
           717.2357
          ],
          [
           "Nuez de Ebro",
           181.9229
          ],
          [
           "Olvés",
           783.3309
          ],
          [
           "Orcajo",
           926.5969
          ],
          [
           "Orera",
           738.5802
          ],
          [
           "Orés",
           645.9177
          ],
          [
           "Oseja",
           825.8478
          ],
          [
           "Osera de Ebro",
           174.2535
          ],
          [
           "Paniza",
           707.4536
          ],
          [
           "Paracuellos de Jiloca",
           570.9234
          ],
          [
           "Paracuellos de la Ribera",
           459.8566
          ],
          [
           "Pastriz",
           186.568
          ],
          [
           "Pedrola",
           234.6053
          ],
          [
           "Pedrosas, Las",
           459.5541
          ],
          [
           "Perdiguera",
           467.8797
          ],
          [
           "Piedratajada",
           420.7992
          ],
          [
           "Pina de Ebro",
           160.1591
          ],
          [
           "Pinseque",
           229.0275
          ],
          [
           "Pintanos, Los",
           788.4658
          ],
          [
           "Plasencia de Jalón",
           276.0325
          ],
          [
           "Pleitas",
           259.7592
          ],
          [
           "Plenas",
           813.9236
          ],
          [
           "Pomer",
           1119.364
          ],
          [
           "Pozuel de Ariza",
           775.4199
          ],
          [
           "Pozuelo de Aragón",
           null
          ],
          [
           "Pradilla de Ebro",
           228.6879
          ],
          [
           "Puebla de Albortón",
           476.9889
          ],
          [
           "Puebla de Alfindén, La",
           192.6578
          ],
          [
           "Puendeluna",
           392.1512
          ],
          [
           "Purujosa",
           951.7919
          ],
          [
           "Quinto",
           174.2326
          ],
          [
           "Remolinos",
           230.4963
          ],
          [
           "Retascón",
           888.5198
          ],
          [
           "Ricla",
           369.2624
          ],
          [
           "Romanos",
           948.4423
          ],
          [
           "Rueda de Jalón",
           316.6192
          ],
          [
           "Ruesca",
           760.8224
          ],
          [
           "Sádaba",
           445.3837
          ],
          [
           "Salillas de Jalón",
           334.7121
          ],
          [
           "Salvatierra de Esca",
           585.1468
          ],
          [
           "Samper del Salz",
           535.9286
          ],
          [
           "San Martín de la Virgen de Moncayo",
           819.6014
          ],
          [
           "San Mateo de Gállego",
           281.4621
          ],
          [
           "Santa Cruz de Grío",
           636.499
          ],
          [
           "Santa Cruz de Moncayo",
           627.8763
          ],
          [
           "Santa Eulalia de Gállego",
           501.9988
          ],
          [
           "Santed",
           1060.648
          ],
          [
           "Sástago",
           149.263
          ],
          [
           "Sabiñán",
           451.3482
          ],
          [
           "Sediles",
           735.8391
          ],
          [
           "Sestrica",
           566.4533
          ],
          [
           "Sierra de Luna",
           458.6502
          ],
          [
           "Sigüés",
           519.9214
          ],
          [
           "Sisamón",
           1027.812
          ],
          [
           "Sobradiel",
           207.2028
          ],
          [
           "Sos del Rey Católico",
           631.5082
          ],
          [
           "Tabuenca",
           773.7258
          ],
          [
           "Talamantes",
           873.8474
          ],
          [
           "Tarazona",
           487.6725
          ],
          [
           "Tauste",
           274.6931
          ],
          [
           "Terrer",
           561.5784
          ],
          [
           "Tierga",
           631.0844
          ],
          [
           "Tobed",
           659.6277
          ],
          [
           "Torralba de los Frailes",
           1095.4
          ],
          [
           "Torralba de Ribota",
           647.3879
          ],
          [
           "Torralbilla",
           883.6472
          ],
          [
           "Torrehermosa",
           844.7177
          ],
          [
           "Torrelapaja",
           991.0995
          ],
          [
           "Torrellas",
           570.2052
          ],
          [
           "Torres de Berrellén",
           215.0211
          ],
          [
           "Torrijo de la Cañada",
           794.6323
          ],
          [
           "Tosos",
           584.2983
          ],
          [
           "Trasmoz",
           726.384
          ],
          [
           "Trasobares",
           671.2911
          ],
          [
           "Uncastillo",
           621.2198
          ],
          [
           "Undués de Lerda",
           622.4462
          ],
          [
           "Urrea de Jalón",
           287.5544
          ],
          [
           "Urriés",
           552.7125
          ],
          [
           "Used",
           1044.506
          ],
          [
           "Utebo",
           208.7015
          ],
          [
           "Valdehorna",
           879.848
          ],
          [
           "Val de San Martín",
           981.3766
          ],
          [
           "Valmadrid",
           523.022
          ],
          [
           "Valpalmas",
           492.2236
          ],
          [
           "Valtorres",
           676.4613
          ],
          [
           "Velilla de Ebro",
           153.2637
          ],
          [
           "Velilla de Jiloca",
           604.6818
          ],
          [
           "Vera de Moncayo",
           631.6308
          ],
          [
           "Vierlas",
           449.5351
          ],
          [
           "Vilueña, La",
           696.5842
          ],
          [
           "Villadoz",
           890.6553
          ],
          [
           "Villafeliche",
           684.1865
          ],
          [
           "Villafranca de Ebro",
           176.0309
          ],
          [
           "Villalba de Perejil",
           624.0992
          ],
          [
           "Villalengua",
           762.2932
          ],
          [
           "Villanueva de Gállego",
           251.0012
          ],
          [
           "Villanueva de Jiloca",
           775.7328
          ],
          [
           "Villanueva de Huerva",
           545.6921
          ],
          [
           "Villar de los Navarros",
           800.2396
          ],
          [
           "Villarreal de Huerva",
           867.4806
          ],
          [
           "Villarroya de la Sierra",
           738.6608
          ],
          [
           "Villarroya del Campo",
           924.395
          ],
          [
           "Vistabella",
           755.5722
          ],
          [
           "Zaida, La",
           158.4921
          ],
          [
           "Zaragoza",
           204.0027
          ],
          [
           "Zuera",
           285
          ],
          [
           "Biel",
           754.2445
          ],
          [
           "Marracos",
           404.7361
          ],
          [
           "Villamayor de Gállego",
           231.1234
          ],
          [
           "Ceuta",
           13.47725
          ],
          [
           "Melilla",
           10.3337
          ]
         ],
         "hovertemplate": "population=%{marker.color}<br>lat=%{lat}<br>lon=%{lon}<br>municipality_name=%{customdata[0]}<br>altitude=%{customdata[1]}<extra></extra>",
         "lat": {
          "bdata": "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",
          "dtype": "f8"
         },
         "legendgroup": "",
         "lon": {
          "bdata": "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",
          "dtype": "f8"
         },
         "marker": {
          "color": {
           "bdata": "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",
           "dtype": "i4"
          },
          "coloraxis": "coloraxis",
          "size": {
           "bdata": "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",
           "dtype": "i4"
          },
          "sizemode": "area",
          "sizeref": 1000
         },
         "mode": "markers",
         "name": "",
         "showlegend": false,
         "subplot": "map",
         "type": "scattermap"
        }
       ],
       "layout": {
        "coloraxis": {
         "colorbar": {
          "title": {
           "text": "Population"
          }
         },
         "colorscale": [
          [
           0,
           "rgb(36, 86, 104)"
          ],
          [
           0.16666666666666666,
           "rgb(15, 114, 121)"
          ],
          [
           0.3333333333333333,
           "rgb(13, 143, 129)"
          ],
          [
           0.5,
           "rgb(57, 171, 126)"
          ],
          [
           0.6666666666666666,
           "rgb(110, 197, 116)"
          ],
          [
           0.8333333333333334,
           "rgb(169, 220, 103)"
          ],
          [
           1,
           "rgb(237, 239, 93)"
          ]
         ]
        },
        "geo": {
         "fitbounds": "locations"
        },
        "height": 1000,
        "legend": {
         "itemsizing": "constant",
         "tracegroupgap": 0
        },
        "map": {
         "center": {
          "lat": 40.82628014557509,
          "lon": -3.2416430922311905
         },
         "domain": {
          "x": [
           0,
           1
          ],
          "y": [
           0,
           1
          ]
         },
         "zoom": 5
        },
        "mapbox": {
         "center": {
          "lat": 40.82628014557509,
          "lon": -3.2416430922311905
         },
         "style": "open-street-map",
         "zoom": 5
        },
        "margin": {
         "b": 50,
         "l": 50,
         "r": 50,
         "t": 50
        },
        "template": {
         "data": {
          "bar": [
           {
            "error_x": {
             "color": "#2a3f5f"
            },
            "error_y": {
             "color": "#2a3f5f"
            },
            "marker": {
             "line": {
              "color": "#E5ECF6",
              "width": 0.5
             },
             "pattern": {
              "fillmode": "overlay",
              "size": 10,
              "solidity": 0.2
             }
            },
            "type": "bar"
           }
          ],
          "barpolar": [
           {
            "marker": {
             "line": {
              "color": "#E5ECF6",
              "width": 0.5
             },
             "pattern": {
              "fillmode": "overlay",
              "size": 10,
              "solidity": 0.2
             }
            },
            "type": "barpolar"
           }
          ],
          "carpet": [
           {
            "aaxis": {
             "endlinecolor": "#2a3f5f",
             "gridcolor": "white",
             "linecolor": "white",
             "minorgridcolor": "white",
             "startlinecolor": "#2a3f5f"
            },
            "baxis": {
             "endlinecolor": "#2a3f5f",
             "gridcolor": "white",
             "linecolor": "white",
             "minorgridcolor": "white",
             "startlinecolor": "#2a3f5f"
            },
            "type": "carpet"
           }
          ],
          "choropleth": [
           {
            "colorbar": {
             "outlinewidth": 0,
             "ticks": ""
            },
            "type": "choropleth"
           }
          ],
          "contour": [
           {
            "colorbar": {
             "outlinewidth": 0,
             "ticks": ""
            },
            "colorscale": [
             [
              0,
              "#0d0887"
             ],
             [
              0.1111111111111111,
              "#46039f"
             ],
             [
              0.2222222222222222,
              "#7201a8"
             ],
             [
              0.3333333333333333,
              "#9c179e"
             ],
             [
              0.4444444444444444,
              "#bd3786"
             ],
             [
              0.5555555555555556,
              "#d8576b"
             ],
             [
              0.6666666666666666,
              "#ed7953"
             ],
             [
              0.7777777777777778,
              "#fb9f3a"
             ],
             [
              0.8888888888888888,
              "#fdca26"
             ],
             [
              1,
              "#f0f921"
             ]
            ],
            "type": "contour"
           }
          ],
          "contourcarpet": [
           {
            "colorbar": {
             "outlinewidth": 0,
             "ticks": ""
            },
            "type": "contourcarpet"
           }
          ],
          "heatmap": [
           {
            "colorbar": {
             "outlinewidth": 0,
             "ticks": ""
            },
            "colorscale": [
             [
              0,
              "#0d0887"
             ],
             [
              0.1111111111111111,
              "#46039f"
             ],
             [
              0.2222222222222222,
              "#7201a8"
             ],
             [
              0.3333333333333333,
              "#9c179e"
             ],
             [
              0.4444444444444444,
              "#bd3786"
             ],
             [
              0.5555555555555556,
              "#d8576b"
             ],
             [
              0.6666666666666666,
              "#ed7953"
             ],
             [
              0.7777777777777778,
              "#fb9f3a"
             ],
             [
              0.8888888888888888,
              "#fdca26"
             ],
             [
              1,
              "#f0f921"
             ]
            ],
            "type": "heatmap"
           }
          ],
          "histogram": [
           {
            "marker": {
             "pattern": {
              "fillmode": "overlay",
              "size": 10,
              "solidity": 0.2
             }
            },
            "type": "histogram"
           }
          ],
          "histogram2d": [
           {
            "colorbar": {
             "outlinewidth": 0,
             "ticks": ""
            },
            "colorscale": [
             [
              0,
              "#0d0887"
             ],
             [
              0.1111111111111111,
              "#46039f"
             ],
             [
              0.2222222222222222,
              "#7201a8"
             ],
             [
              0.3333333333333333,
              "#9c179e"
             ],
             [
              0.4444444444444444,
              "#bd3786"
             ],
             [
              0.5555555555555556,
              "#d8576b"
             ],
             [
              0.6666666666666666,
              "#ed7953"
             ],
             [
              0.7777777777777778,
              "#fb9f3a"
             ],
             [
              0.8888888888888888,
              "#fdca26"
             ],
             [
              1,
              "#f0f921"
             ]
            ],
            "type": "histogram2d"
           }
          ],
          "histogram2dcontour": [
           {
            "colorbar": {
             "outlinewidth": 0,
             "ticks": ""
            },
            "colorscale": [
             [
              0,
              "#0d0887"
             ],
             [
              0.1111111111111111,
              "#46039f"
             ],
             [
              0.2222222222222222,
              "#7201a8"
             ],
             [
              0.3333333333333333,
              "#9c179e"
             ],
             [
              0.4444444444444444,
              "#bd3786"
             ],
             [
              0.5555555555555556,
              "#d8576b"
             ],
             [
              0.6666666666666666,
              "#ed7953"
             ],
             [
              0.7777777777777778,
              "#fb9f3a"
             ],
             [
              0.8888888888888888,
              "#fdca26"
             ],
             [
              1,
              "#f0f921"
             ]
            ],
            "type": "histogram2dcontour"
           }
          ],
          "mesh3d": [
           {
            "colorbar": {
             "outlinewidth": 0,
             "ticks": ""
            },
            "type": "mesh3d"
           }
          ],
          "parcoords": [
           {
            "line": {
             "colorbar": {
              "outlinewidth": 0,
              "ticks": ""
             }
            },
            "type": "parcoords"
           }
          ],
          "pie": [
           {
            "automargin": true,
            "type": "pie"
           }
          ],
          "scatter": [
           {
            "fillpattern": {
             "fillmode": "overlay",
             "size": 10,
             "solidity": 0.2
            },
            "type": "scatter"
           }
          ],
          "scatter3d": [
           {
            "line": {
             "colorbar": {
              "outlinewidth": 0,
              "ticks": ""
             }
            },
            "marker": {
             "colorbar": {
              "outlinewidth": 0,
              "ticks": ""
             }
            },
            "type": "scatter3d"
           }
          ],
          "scattercarpet": [
           {
            "marker": {
             "colorbar": {
              "outlinewidth": 0,
              "ticks": ""
             }
            },
            "type": "scattercarpet"
           }
          ],
          "scattergeo": [
           {
            "marker": {
             "colorbar": {
              "outlinewidth": 0,
              "ticks": ""
             }
            },
            "type": "scattergeo"
           }
          ],
          "scattergl": [
           {
            "marker": {
             "colorbar": {
              "outlinewidth": 0,
              "ticks": ""
             }
            },
            "type": "scattergl"
           }
          ],
          "scattermap": [
           {
            "marker": {
             "colorbar": {
              "outlinewidth": 0,
              "ticks": ""
             }
            },
            "type": "scattermap"
           }
          ],
          "scattermapbox": [
           {
            "marker": {
             "colorbar": {
              "outlinewidth": 0,
              "ticks": ""
             }
            },
            "type": "scattermapbox"
           }
          ],
          "scatterpolar": [
           {
            "marker": {
             "colorbar": {
              "outlinewidth": 0,
              "ticks": ""
             }
            },
            "type": "scatterpolar"
           }
          ],
          "scatterpolargl": [
           {
            "marker": {
             "colorbar": {
              "outlinewidth": 0,
              "ticks": ""
             }
            },
            "type": "scatterpolargl"
           }
          ],
          "scatterternary": [
           {
            "marker": {
             "colorbar": {
              "outlinewidth": 0,
              "ticks": ""
             }
            },
            "type": "scatterternary"
           }
          ],
          "surface": [
           {
            "colorbar": {
             "outlinewidth": 0,
             "ticks": ""
            },
            "colorscale": [
             [
              0,
              "#0d0887"
             ],
             [
              0.1111111111111111,
              "#46039f"
             ],
             [
              0.2222222222222222,
              "#7201a8"
             ],
             [
              0.3333333333333333,
              "#9c179e"
             ],
             [
              0.4444444444444444,
              "#bd3786"
             ],
             [
              0.5555555555555556,
              "#d8576b"
             ],
             [
              0.6666666666666666,
              "#ed7953"
             ],
             [
              0.7777777777777778,
              "#fb9f3a"
             ],
             [
              0.8888888888888888,
              "#fdca26"
             ],
             [
              1,
              "#f0f921"
             ]
            ],
            "type": "surface"
           }
          ],
          "table": [
           {
            "cells": {
             "fill": {
              "color": "#EBF0F8"
             },
             "line": {
              "color": "white"
             }
            },
            "header": {
             "fill": {
              "color": "#C8D4E3"
             },
             "line": {
              "color": "white"
             }
            },
            "type": "table"
           }
          ]
         },
         "layout": {
          "annotationdefaults": {
           "arrowcolor": "#2a3f5f",
           "arrowhead": 0,
           "arrowwidth": 1
          },
          "autotypenumbers": "strict",
          "coloraxis": {
           "colorbar": {
            "outlinewidth": 0,
            "ticks": ""
           }
          },
          "colorscale": {
           "diverging": [
            [
             0,
             "#8e0152"
            ],
            [
             0.1,
             "#c51b7d"
            ],
            [
             0.2,
             "#de77ae"
            ],
            [
             0.3,
             "#f1b6da"
            ],
            [
             0.4,
             "#fde0ef"
            ],
            [
             0.5,
             "#f7f7f7"
            ],
            [
             0.6,
             "#e6f5d0"
            ],
            [
             0.7,
             "#b8e186"
            ],
            [
             0.8,
             "#7fbc41"
            ],
            [
             0.9,
             "#4d9221"
            ],
            [
             1,
             "#276419"
            ]
           ],
           "sequential": [
            [
             0,
             "#0d0887"
            ],
            [
             0.1111111111111111,
             "#46039f"
            ],
            [
             0.2222222222222222,
             "#7201a8"
            ],
            [
             0.3333333333333333,
             "#9c179e"
            ],
            [
             0.4444444444444444,
             "#bd3786"
            ],
            [
             0.5555555555555556,
             "#d8576b"
            ],
            [
             0.6666666666666666,
             "#ed7953"
            ],
            [
             0.7777777777777778,
             "#fb9f3a"
            ],
            [
             0.8888888888888888,
             "#fdca26"
            ],
            [
             1,
             "#f0f921"
            ]
           ],
           "sequentialminus": [
            [
             0,
             "#0d0887"
            ],
            [
             0.1111111111111111,
             "#46039f"
            ],
            [
             0.2222222222222222,
             "#7201a8"
            ],
            [
             0.3333333333333333,
             "#9c179e"
            ],
            [
             0.4444444444444444,
             "#bd3786"
            ],
            [
             0.5555555555555556,
             "#d8576b"
            ],
            [
             0.6666666666666666,
             "#ed7953"
            ],
            [
             0.7777777777777778,
             "#fb9f3a"
            ],
            [
             0.8888888888888888,
             "#fdca26"
            ],
            [
             1,
             "#f0f921"
            ]
           ]
          },
          "colorway": [
           "#636efa",
           "#EF553B",
           "#00cc96",
           "#ab63fa",
           "#FFA15A",
           "#19d3f3",
           "#FF6692",
           "#B6E880",
           "#FF97FF",
           "#FECB52"
          ],
          "font": {
           "color": "#2a3f5f"
          },
          "geo": {
           "bgcolor": "white",
           "lakecolor": "white",
           "landcolor": "#E5ECF6",
           "showlakes": true,
           "showland": true,
           "subunitcolor": "white"
          },
          "hoverlabel": {
           "align": "left"
          },
          "hovermode": "closest",
          "mapbox": {
           "style": "light"
          },
          "paper_bgcolor": "white",
          "plot_bgcolor": "#E5ECF6",
          "polar": {
           "angularaxis": {
            "gridcolor": "white",
            "linecolor": "white",
            "ticks": ""
           },
           "bgcolor": "#E5ECF6",
           "radialaxis": {
            "gridcolor": "white",
            "linecolor": "white",
            "ticks": ""
           }
          },
          "scene": {
           "xaxis": {
            "backgroundcolor": "#E5ECF6",
            "gridcolor": "white",
            "gridwidth": 2,
            "linecolor": "white",
            "showbackground": true,
            "ticks": "",
            "zerolinecolor": "white"
           },
           "yaxis": {
            "backgroundcolor": "#E5ECF6",
            "gridcolor": "white",
            "gridwidth": 2,
            "linecolor": "white",
            "showbackground": true,
            "ticks": "",
            "zerolinecolor": "white"
           },
           "zaxis": {
            "backgroundcolor": "#E5ECF6",
            "gridcolor": "white",
            "gridwidth": 2,
            "linecolor": "white",
            "showbackground": true,
            "ticks": "",
            "zerolinecolor": "white"
           }
          },
          "shapedefaults": {
           "line": {
            "color": "#2a3f5f"
           }
          },
          "ternary": {
           "aaxis": {
            "gridcolor": "white",
            "linecolor": "white",
            "ticks": ""
           },
           "baxis": {
            "gridcolor": "white",
            "linecolor": "white",
            "ticks": ""
           },
           "bgcolor": "#E5ECF6",
           "caxis": {
            "gridcolor": "white",
            "linecolor": "white",
            "ticks": ""
           }
          },
          "title": {
           "x": 0.05
          },
          "xaxis": {
           "automargin": true,
           "gridcolor": "white",
           "linecolor": "white",
           "ticks": "",
           "title": {
            "standoff": 15
           },
           "zerolinecolor": "white",
           "zerolinewidth": 2
          },
          "yaxis": {
           "automargin": true,
           "gridcolor": "white",
           "linecolor": "white",
           "ticks": "",
           "title": {
            "standoff": 15
           },
           "zerolinecolor": "white",
           "zerolinewidth": 2
          }
         }
        },
        "title": {
         "text": "Communities in Spain by population size"
        },
        "width": 1000
       }
      }
     },
     "metadata": {},
     "output_type": "display_data"
    }
   ],
   "source": [
    "title = \"Communities in Spain\"\n",
    "\n",
    "lats = df.latitude\n",
    "lons = df.longitude\n",
    "\n",
    "fig = px.scatter_map(df, \n",
    "                     lat=lats, \n",
    "                     lon=lons,\n",
    "                     hover_data=[\"municipality_name\", \"altitude\"], \n",
    "                     size='population',\n",
    "                     color='population',\n",
    "                     color_continuous_scale=px.colors.carto.Aggrnyl,\n",
    "                     zoom=5,\n",
    "                     size_max=50  # Increase max size of markers\n",
    "                     )\n",
    "\n",
    "# Adjust the size reference to make small points more visible\n",
    "fig.update_traces(marker=dict(sizeref=1000))  # Decrease this value to make points larger\n",
    "\n",
    "fig.update_geos(fitbounds=\"locations\")\n",
    "fig.update_layout(height=1000, width=1000)\n",
    "fig.update_layout(mapbox_style=\"open-street-map\")\n",
    "fig.update_layout(margin={\"r\":50,\"t\":50,\"l\":50,\"b\":50})\n",
    "fig.update_layout(\n",
    "    coloraxis_colorbar=dict(title='Population')\n",
    ")\n",
    "fig.update_layout(title=\"Communities in Spain by population size\")\n",
    "\n",
    "fig.show()"
   ]
  },
  {
   "cell_type": "code",
   "execution_count": 125,
   "metadata": {},
   "outputs": [
    {
     "data": {
      "text/html": [
       "<div>\n",
       "<style scoped>\n",
       "    .dataframe tbody tr th:only-of-type {\n",
       "        vertical-align: middle;\n",
       "    }\n",
       "\n",
       "    .dataframe tbody tr th {\n",
       "        vertical-align: top;\n",
       "    }\n",
       "\n",
       "    .dataframe thead th {\n",
       "        text-align: right;\n",
       "    }\n",
       "</style>\n",
       "<table border=\"1\" class=\"dataframe\">\n",
       "  <thead>\n",
       "    <tr style=\"text-align: right;\">\n",
       "      <th></th>\n",
       "      <th>province_code</th>\n",
       "      <th>province</th>\n",
       "      <th>municipality_code</th>\n",
       "      <th>municipality_name</th>\n",
       "      <th>population</th>\n",
       "      <th>male</th>\n",
       "      <th>female</th>\n",
       "      <th>municipality_name_clean</th>\n",
       "      <th>province_clean</th>\n",
       "      <th>altitude</th>\n",
       "      <th>longitude</th>\n",
       "      <th>latitude</th>\n",
       "    </tr>\n",
       "  </thead>\n",
       "  <tbody>\n",
       "    <tr>\n",
       "      <th>7243</th>\n",
       "      <td>46</td>\n",
       "      <td>Valencia</td>\n",
       "      <td>250</td>\n",
       "      <td>València</td>\n",
       "      <td>825948</td>\n",
       "      <td>391970</td>\n",
       "      <td>433978</td>\n",
       "      <td>valencia</td>\n",
       "      <td>valencia</td>\n",
       "      <td>NaN</td>\n",
       "      <td>NaN</td>\n",
       "      <td>NaN</td>\n",
       "    </tr>\n",
       "  </tbody>\n",
       "</table>\n",
       "</div>"
      ],
      "text/plain": [
       "      province_code  province  municipality_code municipality_name  \\\n",
       "7243             46  Valencia                250          València   \n",
       "\n",
       "      population    male  female municipality_name_clean province_clean  \\\n",
       "7243      825948  391970  433978                valencia       valencia   \n",
       "\n",
       "      altitude  longitude  latitude  \n",
       "7243       NaN        NaN       NaN  "
      ]
     },
     "execution_count": 125,
     "metadata": {},
     "output_type": "execute_result"
    }
   ],
   "source": [
    "df[df[\"municipality_name_clean\"] == \"valencia\"]"
   ]
  },
  {
   "cell_type": "code",
   "execution_count": 110,
   "metadata": {},
   "outputs": [
    {
     "data": {
      "text/html": [
       "<div>\n",
       "<style scoped>\n",
       "    .dataframe tbody tr th:only-of-type {\n",
       "        vertical-align: middle;\n",
       "    }\n",
       "\n",
       "    .dataframe tbody tr th {\n",
       "        vertical-align: top;\n",
       "    }\n",
       "\n",
       "    .dataframe thead th {\n",
       "        text-align: right;\n",
       "    }\n",
       "</style>\n",
       "<table border=\"1\" class=\"dataframe\">\n",
       "  <thead>\n",
       "    <tr style=\"text-align: right;\">\n",
       "      <th></th>\n",
       "      <th>province_code</th>\n",
       "      <th>province</th>\n",
       "      <th>municipality_code</th>\n",
       "      <th>municipality_name</th>\n",
       "      <th>population</th>\n",
       "      <th>male</th>\n",
       "      <th>female</th>\n",
       "      <th>municipality_name_clean</th>\n",
       "      <th>province_clean</th>\n",
       "    </tr>\n",
       "  </thead>\n",
       "  <tbody>\n",
       "    <tr>\n",
       "      <th>7234</th>\n",
       "      <td>46</td>\n",
       "      <td>Valencia</td>\n",
       "      <td>250</td>\n",
       "      <td>València</td>\n",
       "      <td>825948</td>\n",
       "      <td>391970</td>\n",
       "      <td>433978</td>\n",
       "      <td>valencia</td>\n",
       "      <td>valencia</td>\n",
       "    </tr>\n",
       "  </tbody>\n",
       "</table>\n",
       "</div>"
      ],
      "text/plain": [
       "      province_code  province  municipality_code municipality_name  \\\n",
       "7234             46  Valencia                250          València   \n",
       "\n",
       "      population    male  female municipality_name_clean province_clean  \n",
       "7234      825948  391970  433978                valencia       valencia  "
      ]
     },
     "execution_count": 110,
     "metadata": {},
     "output_type": "execute_result"
    }
   ],
   "source": [
    "df_communities[df_communities[\"municipality_name\"] == \"València\"]"
   ]
  },
  {
   "cell_type": "code",
   "execution_count": 126,
   "metadata": {},
   "outputs": [
    {
     "data": {
      "text/html": [
       "<div>\n",
       "<style scoped>\n",
       "    .dataframe tbody tr th:only-of-type {\n",
       "        vertical-align: middle;\n",
       "    }\n",
       "\n",
       "    .dataframe tbody tr th {\n",
       "        vertical-align: top;\n",
       "    }\n",
       "\n",
       "    .dataframe thead th {\n",
       "        text-align: right;\n",
       "    }\n",
       "</style>\n",
       "<table border=\"1\" class=\"dataframe\">\n",
       "  <thead>\n",
       "    <tr style=\"text-align: right;\">\n",
       "      <th></th>\n",
       "      <th>community</th>\n",
       "      <th>province</th>\n",
       "      <th>municipality_name</th>\n",
       "      <th>latitude</th>\n",
       "      <th>longitude</th>\n",
       "      <th>altitude</th>\n",
       "      <th>population</th>\n",
       "      <th>male</th>\n",
       "      <th>female</th>\n",
       "      <th>municipality_name_clean</th>\n",
       "      <th>province_clean</th>\n",
       "    </tr>\n",
       "  </thead>\n",
       "  <tbody>\n",
       "    <tr>\n",
       "      <th>8094</th>\n",
       "      <td>Valencia</td>\n",
       "      <td>Valencia/València</td>\n",
       "      <td>Valencia</td>\n",
       "      <td>39.47024</td>\n",
       "      <td>-0.376805</td>\n",
       "      <td>23.3349</td>\n",
       "      <td>814208</td>\n",
       "      <td>392300</td>\n",
       "      <td>421908</td>\n",
       "      <td>valencia</td>\n",
       "      <td>valencia/valencia</td>\n",
       "    </tr>\n",
       "  </tbody>\n",
       "</table>\n",
       "</div>"
      ],
      "text/plain": [
       "     community           province municipality_name  latitude  longitude  \\\n",
       "8094  Valencia  Valencia/València          Valencia  39.47024  -0.376805   \n",
       "\n",
       "      altitude  population    male  female municipality_name_clean  \\\n",
       "8094   23.3349      814208  392300  421908                valencia   \n",
       "\n",
       "         province_clean  \n",
       "8094  valencia/valencia  "
      ]
     },
     "execution_count": 126,
     "metadata": {},
     "output_type": "execute_result"
    }
   ],
   "source": [
    "df_coordinates[df_coordinates[\"municipality_name\"] == \"Valencia\"]"
   ]
  }
 ],
 "metadata": {
  "kernelspec": {
   "display_name": ".venv",
   "language": "python",
   "name": "python3"
  },
  "language_info": {
   "codemirror_mode": {
    "name": "ipython",
    "version": 3
   },
   "file_extension": ".py",
   "mimetype": "text/x-python",
   "name": "python",
   "nbconvert_exporter": "python",
   "pygments_lexer": "ipython3",
   "version": "3.11.3"
  }
 },
 "nbformat": 4,
 "nbformat_minor": 2
}
