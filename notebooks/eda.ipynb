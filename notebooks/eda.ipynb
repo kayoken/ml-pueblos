{
 "cells": [
  {
   "cell_type": "markdown",
   "metadata": {},
   "source": [
    "## Basic EDA for first incoming data"
   ]
  },
  {
   "cell_type": "code",
   "execution_count": 288,
   "metadata": {},
   "outputs": [],
   "source": [
    "import pandas as pd\n",
    "import plotly.express as px\n",
    "import numpy as np"
   ]
  },
  {
   "cell_type": "code",
   "execution_count": 399,
   "metadata": {},
   "outputs": [
    {
     "data": {
      "text/plain": [
       "Index(['OBJECTID', 'CODCNH', 'NOMBRE', 'DIRECCION', 'TELEFONO', 'TELEFONO2',\n",
       "       'TELEFAX', 'CODMU', 'MUNICIPIOS', 'CODPROV', 'PROVINCIAS', 'CODAUTO',\n",
       "       'COMUNIDADES', 'CODPOSTAL', 'NCAMAS', 'CODFI', 'FINALIDAD_ASISITENCIAL',\n",
       "       'CODPAT', 'DEPENDENCIA_PATRIMONIAL', 'CODFU', 'DEPENDENCIA_FUNCIONAL',\n",
       "       'ACREDOCENT', 'ESCOMPLE', 'FORCOMPLE', 'CODIDCOM', 'ALTA', 'CERRADO',\n",
       "       'CAPITAL', 'CIERREFECH', 'CONCIERTO', 'EMAIL', 'TAC', 'RM', 'GAM',\n",
       "       'HEM', 'ASD', 'LIT', 'BCO', 'ALI', 'SPECT', 'PET', 'MAMOS', 'DO',\n",
       "       'DIAL', 'X', 'Y', 'CalidadGeocodificacion'],\n",
       "      dtype='object')"
      ]
     },
     "execution_count": 399,
     "metadata": {},
     "output_type": "execute_result"
    }
   ],
   "source": [
    "df_communities = pd.read_csv(\"../data/population_towns.csv\", sep=\";\")\n",
    "df_coordinates = pd.read_csv(\n",
    "    \"../data/coordinates_towns_spain.csv\",\n",
    "    encoding=\"ISO-8859-1\",  # or \"latin1\"\n",
    "    sep=\";\",\n",
    "    decimal=\",\"\n",
    ")\n",
    "df_hospitals = pd.read_csv(\"../data/hospitals_spain.csv\")\n",
    "df_hospitals.columns"
   ]
  },
  {
   "cell_type": "markdown",
   "metadata": {},
   "source": [
    "The column names in the hospitals dataset are:\n",
    "\n",
    "- **Identification**\n",
    "    - `OBJECTID`: Object identifier\n",
    "    - `CODCNH`: Hospital code\n",
    "    - `NOMBRE`: Hospital name\n",
    "    - `CODIDCOM`: Community identifier code\n",
    "\n",
    "- **Contact Information**\n",
    "    - `DIRECCION`: Address\n",
    "    - `TELEFONO`: Phone\n",
    "    - `TELEFONO2`: Secondary phone\n",
    "    - `TELEFAX`: Fax\n",
    "    - `EMAIL`: Email address\n",
    "    - `CODPOSTAL`: Postal code\n",
    "\n",
    "- **Location**\n",
    "    - `CODMU`: Municipality code\n",
    "    - `MUNICIPIOS`: Municipality name \n",
    "    - `CODPROV`: Province code\n",
    "    - `PROVINCIAS`: Province name\n",
    "    - `CODAUTO`: Autonomous community code \n",
    "    - `COMUNIDADES`: Autonomous community name\n",
    "    - `X`: Longitude coordinate\n",
    "    - `Y`: Latitude coordinate\n",
    "    - `CalidadGeocodificacion`: Geocoding quality\n",
    "    - `CAPITAL`: Capital city indicator\n",
    "\n",
    "- **Hospital Information**\n",
    "    - `NCAMAS`: Number of beds\n",
    "    - `CODFI`: Healthcare purpose code\n",
    "    - `FINALIDAD_ASISITENCIAL`: Healthcare purpose description\n",
    "    - `CODPAT`: Asset ownership code\n",
    "    - `DEPENDENCIA_PATRIMONIAL`: Asset ownership description\n",
    "    - `CODFU`: Functional dependency code\n",
    "    - `DEPENDENCIA_FUNCIONAL`: Functional dependency description\n",
    "\n",
    "- **Status & Certifications**\n",
    "    - `ACREDOCENT`: Teaching accreditation\n",
    "    - `ESCOMPLE`: Complementary center\n",
    "    - `FORCOMPLE`: Complementary form\n",
    "    - `ALTA`: Active status\n",
    "    - `CERRADO`: Closed status\n",
    "    - `CIERREFECH`: Closing date\n",
    "    - `CONCIERTO`: Agreement status\n",
    "\n",
    "- **Equipment & Services**\n",
    "    - `TAC`: CT scanner\n",
    "    - `RM`: MRI\n",
    "    - `GAM`: Gamma camera\n",
    "    - `HEM`: Hemodynamics\n",
    "    - `ASD`: Assistant diagnostic systems\n",
    "    - `LIT`: Lithotripsy\n",
    "    - `BCO`: Blood bank\n",
    "    - `ALI`: Other\n",
    "    - `SPECT`: SPECT scanner\n",
    "    - `PET`: PET scanner\n",
    "    - `MAMOS`: Mammography\n",
    "    - `DO`: Other diagnostic\n",
    "    - `DIAL`: Dialysis"
   ]
  },
  {
   "cell_type": "code",
   "execution_count": null,
   "metadata": {},
   "outputs": [
    {
     "data": {
      "text/plain": [
       "{'OBJECTID': 1,\n",
       " 'CODCNH': 1,\n",
       " 'NOMBRE': 1,\n",
       " 'DIRECCION': 1,\n",
       " 'TELEFONO': 1,\n",
       " 'TELEFONO2': 1,\n",
       " 'TELEFAX': 1,\n",
       " 'CODMU': 1,\n",
       " 'MUNICIPIOS': 1,\n",
       " 'CODPROV': 1,\n",
       " 'PROVINCIAS': 1,\n",
       " 'CODAUTO': 1,\n",
       " 'COMUNIDADES': 1,\n",
       " 'CODPOSTAL': 1,\n",
       " 'NCAMAS': 1,\n",
       " 'CODFI': 1,\n",
       " 'FINALIDAD_ASISITENCIAL': 1,\n",
       " 'CODPAT': 1,\n",
       " 'DEPENDENCIA_PATRIMONIAL': 1,\n",
       " 'CODFU': 1,\n",
       " 'DEPENDENCIA_FUNCIONAL': 1,\n",
       " 'ACREDOCENT': 1,\n",
       " 'ESCOMPLE': 1,\n",
       " 'FORCOMPLE': 1,\n",
       " 'CODIDCOM': 1,\n",
       " 'ALTA': 1,\n",
       " 'CERRADO': 1,\n",
       " 'CAPITAL': 1,\n",
       " 'CIERREFECH': 1,\n",
       " 'CONCIERTO': 1,\n",
       " 'EMAIL': 1,\n",
       " 'TAC': 1,\n",
       " 'RM': 1,\n",
       " 'GAM': 1,\n",
       " 'HEM': 1,\n",
       " 'ASD': 1,\n",
       " 'LIT': 1,\n",
       " 'BCO': 1,\n",
       " 'ALI': 1,\n",
       " 'SPECT': 1,\n",
       " 'PET': 1,\n",
       " 'MAMOS': 1,\n",
       " 'DO': 1,\n",
       " 'DIAL': 1,\n",
       " 'X': 1,\n",
       " 'Y': 1,\n",
       " 'CalidadGeocodificacion': 1}"
      ]
     },
     "execution_count": 402,
     "metadata": {},
     "output_type": "execute_result"
    }
   ],
   "source": [
    "hospital_dict = {\n",
    "    'NOMBRE': 1,\n",
    "    'CODMU': 1,\n",
    "    'MUNICIPIOS': 1,\n",
    "    'CODAUTO': 1,\n",
    "    'COMUNIDADES': 1,\n",
    "    'NCAMAS': 1,\n",
    "    'FINALIDAD_ASISITENCIAL': 1,\n",
    "    'DEPENDENCIA_PATRIMONIAL': 1,\n",
    "    'X': 1,\n",
    "    'Y': 1,\n",
    "}"
   ]
  },
  {
   "cell_type": "code",
   "execution_count": 400,
   "metadata": {},
   "outputs": [
    {
     "data": {
      "text/html": [
       "<div>\n",
       "<style scoped>\n",
       "    .dataframe tbody tr th:only-of-type {\n",
       "        vertical-align: middle;\n",
       "    }\n",
       "\n",
       "    .dataframe tbody tr th {\n",
       "        vertical-align: top;\n",
       "    }\n",
       "\n",
       "    .dataframe thead th {\n",
       "        text-align: right;\n",
       "    }\n",
       "</style>\n",
       "<table border=\"1\" class=\"dataframe\">\n",
       "  <thead>\n",
       "    <tr style=\"text-align: right;\">\n",
       "      <th></th>\n",
       "      <th>OBJECTID</th>\n",
       "      <th>CODCNH</th>\n",
       "      <th>NOMBRE</th>\n",
       "      <th>DIRECCION</th>\n",
       "      <th>TELEFONO</th>\n",
       "      <th>TELEFONO2</th>\n",
       "      <th>TELEFAX</th>\n",
       "      <th>CODMU</th>\n",
       "      <th>MUNICIPIOS</th>\n",
       "      <th>CODPROV</th>\n",
       "      <th>...</th>\n",
       "      <th>BCO</th>\n",
       "      <th>ALI</th>\n",
       "      <th>SPECT</th>\n",
       "      <th>PET</th>\n",
       "      <th>MAMOS</th>\n",
       "      <th>DO</th>\n",
       "      <th>DIAL</th>\n",
       "      <th>X</th>\n",
       "      <th>Y</th>\n",
       "      <th>CalidadGeocodificacion</th>\n",
       "    </tr>\n",
       "  </thead>\n",
       "  <tbody>\n",
       "    <tr>\n",
       "      <th>0</th>\n",
       "      <td>1</td>\n",
       "      <td>10035</td>\n",
       "      <td>RED DE SALUD MENTAL DE ARABA (HOSPITAL PSIQUIÁ...</td>\n",
       "      <td>ÁLAVA, 43</td>\n",
       "      <td>945006555.0</td>\n",
       "      <td>NaN</td>\n",
       "      <td>945006587.0</td>\n",
       "      <td>10590</td>\n",
       "      <td>Vitoria-Gasteiz</td>\n",
       "      <td>1</td>\n",
       "      <td>...</td>\n",
       "      <td>0</td>\n",
       "      <td>0</td>\n",
       "      <td>0</td>\n",
       "      <td>0</td>\n",
       "      <td>0</td>\n",
       "      <td>0</td>\n",
       "      <td>0</td>\n",
       "      <td>-2.678612</td>\n",
       "      <td>42.835656</td>\n",
       "      <td>Manual</td>\n",
       "    </tr>\n",
       "    <tr>\n",
       "      <th>1</th>\n",
       "      <td>2</td>\n",
       "      <td>10040</td>\n",
       "      <td>HOSPITAL SAN JOSÉ</td>\n",
       "      <td>BEATO TOMÁS DE ZUMÁRRAGA, 10</td>\n",
       "      <td>945140900.0</td>\n",
       "      <td>NaN</td>\n",
       "      <td>945145709.0</td>\n",
       "      <td>10590</td>\n",
       "      <td>Vitoria-Gasteiz</td>\n",
       "      <td>1</td>\n",
       "      <td>...</td>\n",
       "      <td>0</td>\n",
       "      <td>0</td>\n",
       "      <td>0</td>\n",
       "      <td>0</td>\n",
       "      <td>1</td>\n",
       "      <td>1</td>\n",
       "      <td>1</td>\n",
       "      <td>-2.676640</td>\n",
       "      <td>42.849661</td>\n",
       "      <td>PointAddress</td>\n",
       "    </tr>\n",
       "    <tr>\n",
       "      <th>2</th>\n",
       "      <td>3</td>\n",
       "      <td>10053</td>\n",
       "      <td>HOSPITAL QUIRÓNSALUD VITORIA</td>\n",
       "      <td>ESPERANZA, 3</td>\n",
       "      <td>945252500.0</td>\n",
       "      <td>NaN</td>\n",
       "      <td>945279260.0</td>\n",
       "      <td>10590</td>\n",
       "      <td>Vitoria-Gasteiz</td>\n",
       "      <td>1</td>\n",
       "      <td>...</td>\n",
       "      <td>0</td>\n",
       "      <td>0</td>\n",
       "      <td>0</td>\n",
       "      <td>0</td>\n",
       "      <td>1</td>\n",
       "      <td>1</td>\n",
       "      <td>0</td>\n",
       "      <td>-2.668035</td>\n",
       "      <td>42.849761</td>\n",
       "      <td>PointAddress</td>\n",
       "    </tr>\n",
       "    <tr>\n",
       "      <th>3</th>\n",
       "      <td>4</td>\n",
       "      <td>10066</td>\n",
       "      <td>HOSPITAL DE CUIDADOS SAN ONOFRE, S.L. (HOSPITA...</td>\n",
       "      <td>SALVATIERRABIDE, 9</td>\n",
       "      <td>945142100.0</td>\n",
       "      <td>NaN</td>\n",
       "      <td>945143318.0</td>\n",
       "      <td>10590</td>\n",
       "      <td>Vitoria-Gasteiz</td>\n",
       "      <td>1</td>\n",
       "      <td>...</td>\n",
       "      <td>0</td>\n",
       "      <td>0</td>\n",
       "      <td>0</td>\n",
       "      <td>0</td>\n",
       "      <td>0</td>\n",
       "      <td>0</td>\n",
       "      <td>0</td>\n",
       "      <td>-2.680386</td>\n",
       "      <td>42.837582</td>\n",
       "      <td>PointAddress</td>\n",
       "    </tr>\n",
       "    <tr>\n",
       "      <th>4</th>\n",
       "      <td>5</td>\n",
       "      <td>10088</td>\n",
       "      <td>HOSPITAL DE LEZA</td>\n",
       "      <td>CTRA. VITORIA - LOGROÑO, KM. 59</td>\n",
       "      <td>945006900.0</td>\n",
       "      <td>945006876.0</td>\n",
       "      <td>945006901.0</td>\n",
       "      <td>10318</td>\n",
       "      <td>Laguardia</td>\n",
       "      <td>1</td>\n",
       "      <td>...</td>\n",
       "      <td>0</td>\n",
       "      <td>0</td>\n",
       "      <td>0</td>\n",
       "      <td>0</td>\n",
       "      <td>0</td>\n",
       "      <td>0</td>\n",
       "      <td>0</td>\n",
       "      <td>-2.638635</td>\n",
       "      <td>42.575989</td>\n",
       "      <td>Manual</td>\n",
       "    </tr>\n",
       "    <tr>\n",
       "      <th>...</th>\n",
       "      <td>...</td>\n",
       "      <td>...</td>\n",
       "      <td>...</td>\n",
       "      <td>...</td>\n",
       "      <td>...</td>\n",
       "      <td>...</td>\n",
       "      <td>...</td>\n",
       "      <td>...</td>\n",
       "      <td>...</td>\n",
       "      <td>...</td>\n",
       "      <td>...</td>\n",
       "      <td>...</td>\n",
       "      <td>...</td>\n",
       "      <td>...</td>\n",
       "      <td>...</td>\n",
       "      <td>...</td>\n",
       "      <td>...</td>\n",
       "      <td>...</td>\n",
       "      <td>...</td>\n",
       "      <td>...</td>\n",
       "      <td>...</td>\n",
       "    </tr>\n",
       "    <tr>\n",
       "      <th>919</th>\n",
       "      <td>920</td>\n",
       "      <td>500195</td>\n",
       "      <td>HOSPITAL DE REHABILITACION PSIQUIATRICA PRISMA</td>\n",
       "      <td>TORRE DEL CEREZO, Nº 17 Bº. DE SAN JUAN DE MOZ...</td>\n",
       "      <td>976151152.0</td>\n",
       "      <td>NaN</td>\n",
       "      <td>976151153.0</td>\n",
       "      <td>502973</td>\n",
       "      <td>Zaragoza</td>\n",
       "      <td>50</td>\n",
       "      <td>...</td>\n",
       "      <td>0</td>\n",
       "      <td>0</td>\n",
       "      <td>0</td>\n",
       "      <td>0</td>\n",
       "      <td>0</td>\n",
       "      <td>0</td>\n",
       "      <td>0</td>\n",
       "      <td>-0.841290</td>\n",
       "      <td>41.711449</td>\n",
       "      <td>Postal</td>\n",
       "    </tr>\n",
       "    <tr>\n",
       "      <th>920</th>\n",
       "      <td>921</td>\n",
       "      <td>500200</td>\n",
       "      <td>CENTRO SANITARIO CINCO VILLAS</td>\n",
       "      <td>ANTONIO MACHADO, S/N</td>\n",
       "      <td>976677978.0</td>\n",
       "      <td>976677973.0</td>\n",
       "      <td>976677972.0</td>\n",
       "      <td>500956</td>\n",
       "      <td>Ejea de los Caballeros</td>\n",
       "      <td>50</td>\n",
       "      <td>...</td>\n",
       "      <td>0</td>\n",
       "      <td>0</td>\n",
       "      <td>0</td>\n",
       "      <td>0</td>\n",
       "      <td>1</td>\n",
       "      <td>0</td>\n",
       "      <td>0</td>\n",
       "      <td>-1.125290</td>\n",
       "      <td>42.126721</td>\n",
       "      <td>Manual</td>\n",
       "    </tr>\n",
       "    <tr>\n",
       "      <th>921</th>\n",
       "      <td>922</td>\n",
       "      <td>500218</td>\n",
       "      <td>HOSPITAL VIAMED MONTECANAL</td>\n",
       "      <td>C/ FRANZ SCHUBERT, 2</td>\n",
       "      <td>876241818.0</td>\n",
       "      <td>NaN</td>\n",
       "      <td>876241822.0</td>\n",
       "      <td>502973</td>\n",
       "      <td>Zaragoza</td>\n",
       "      <td>50</td>\n",
       "      <td>...</td>\n",
       "      <td>0</td>\n",
       "      <td>0</td>\n",
       "      <td>0</td>\n",
       "      <td>0</td>\n",
       "      <td>1</td>\n",
       "      <td>0</td>\n",
       "      <td>0</td>\n",
       "      <td>-0.948738</td>\n",
       "      <td>41.639042</td>\n",
       "      <td>PointAddress</td>\n",
       "    </tr>\n",
       "    <tr>\n",
       "      <th>922</th>\n",
       "      <td>923</td>\n",
       "      <td>510039</td>\n",
       "      <td>HOSPITAL UNIVERSITARIO DE CEUTA</td>\n",
       "      <td>LOMA COLMENAR, S/N</td>\n",
       "      <td>856907000.0</td>\n",
       "      <td>NaN</td>\n",
       "      <td>856907066.0</td>\n",
       "      <td>510013</td>\n",
       "      <td>Ceuta</td>\n",
       "      <td>51</td>\n",
       "      <td>...</td>\n",
       "      <td>0</td>\n",
       "      <td>0</td>\n",
       "      <td>0</td>\n",
       "      <td>0</td>\n",
       "      <td>1</td>\n",
       "      <td>1</td>\n",
       "      <td>0</td>\n",
       "      <td>-5.341853</td>\n",
       "      <td>35.880332</td>\n",
       "      <td>Manual</td>\n",
       "    </tr>\n",
       "    <tr>\n",
       "      <th>923</th>\n",
       "      <td>924</td>\n",
       "      <td>520018</td>\n",
       "      <td>HOSPITAL COMARCAL</td>\n",
       "      <td>CTRA. REMONTA, 2</td>\n",
       "      <td>952698001.0</td>\n",
       "      <td>NaN</td>\n",
       "      <td>952698032.0</td>\n",
       "      <td>520018</td>\n",
       "      <td>Melilla</td>\n",
       "      <td>52</td>\n",
       "      <td>...</td>\n",
       "      <td>0</td>\n",
       "      <td>0</td>\n",
       "      <td>0</td>\n",
       "      <td>0</td>\n",
       "      <td>1</td>\n",
       "      <td>0</td>\n",
       "      <td>15</td>\n",
       "      <td>-2.947355</td>\n",
       "      <td>35.286308</td>\n",
       "      <td>Manual</td>\n",
       "    </tr>\n",
       "  </tbody>\n",
       "</table>\n",
       "<p>924 rows × 47 columns</p>\n",
       "</div>"
      ],
      "text/plain": [
       "     OBJECTID  CODCNH                                             NOMBRE  \\\n",
       "0           1   10035  RED DE SALUD MENTAL DE ARABA (HOSPITAL PSIQUIÁ...   \n",
       "1           2   10040                                  HOSPITAL SAN JOSÉ   \n",
       "2           3   10053                       HOSPITAL QUIRÓNSALUD VITORIA   \n",
       "3           4   10066  HOSPITAL DE CUIDADOS SAN ONOFRE, S.L. (HOSPITA...   \n",
       "4           5   10088                                   HOSPITAL DE LEZA   \n",
       "..        ...     ...                                                ...   \n",
       "919       920  500195     HOSPITAL DE REHABILITACION PSIQUIATRICA PRISMA   \n",
       "920       921  500200                      CENTRO SANITARIO CINCO VILLAS   \n",
       "921       922  500218                         HOSPITAL VIAMED MONTECANAL   \n",
       "922       923  510039                    HOSPITAL UNIVERSITARIO DE CEUTA   \n",
       "923       924  520018                                  HOSPITAL COMARCAL   \n",
       "\n",
       "                                             DIRECCION     TELEFONO  \\\n",
       "0                                            ÁLAVA, 43  945006555.0   \n",
       "1                         BEATO TOMÁS DE ZUMÁRRAGA, 10  945140900.0   \n",
       "2                                         ESPERANZA, 3  945252500.0   \n",
       "3                                   SALVATIERRABIDE, 9  945142100.0   \n",
       "4                      CTRA. VITORIA - LOGROÑO, KM. 59  945006900.0   \n",
       "..                                                 ...          ...   \n",
       "919  TORRE DEL CEREZO, Nº 17 Bº. DE SAN JUAN DE MOZ...  976151152.0   \n",
       "920                               ANTONIO MACHADO, S/N  976677978.0   \n",
       "921                               C/ FRANZ SCHUBERT, 2  876241818.0   \n",
       "922                                 LOMA COLMENAR, S/N  856907000.0   \n",
       "923                                   CTRA. REMONTA, 2  952698001.0   \n",
       "\n",
       "       TELEFONO2      TELEFAX   CODMU              MUNICIPIOS  CODPROV  ...  \\\n",
       "0            NaN  945006587.0   10590         Vitoria-Gasteiz        1  ...   \n",
       "1            NaN  945145709.0   10590         Vitoria-Gasteiz        1  ...   \n",
       "2            NaN  945279260.0   10590         Vitoria-Gasteiz        1  ...   \n",
       "3            NaN  945143318.0   10590         Vitoria-Gasteiz        1  ...   \n",
       "4    945006876.0  945006901.0   10318               Laguardia        1  ...   \n",
       "..           ...          ...     ...                     ...      ...  ...   \n",
       "919          NaN  976151153.0  502973                Zaragoza       50  ...   \n",
       "920  976677973.0  976677972.0  500956  Ejea de los Caballeros       50  ...   \n",
       "921          NaN  876241822.0  502973                Zaragoza       50  ...   \n",
       "922          NaN  856907066.0  510013                   Ceuta       51  ...   \n",
       "923          NaN  952698032.0  520018                 Melilla       52  ...   \n",
       "\n",
       "    BCO  ALI SPECT  PET  MAMOS  DO DIAL         X          Y  \\\n",
       "0     0    0     0    0      0   0    0 -2.678612  42.835656   \n",
       "1     0    0     0    0      1   1    1 -2.676640  42.849661   \n",
       "2     0    0     0    0      1   1    0 -2.668035  42.849761   \n",
       "3     0    0     0    0      0   0    0 -2.680386  42.837582   \n",
       "4     0    0     0    0      0   0    0 -2.638635  42.575989   \n",
       "..   ..  ...   ...  ...    ...  ..  ...       ...        ...   \n",
       "919   0    0     0    0      0   0    0 -0.841290  41.711449   \n",
       "920   0    0     0    0      1   0    0 -1.125290  42.126721   \n",
       "921   0    0     0    0      1   0    0 -0.948738  41.639042   \n",
       "922   0    0     0    0      1   1    0 -5.341853  35.880332   \n",
       "923   0    0     0    0      1   0   15 -2.947355  35.286308   \n",
       "\n",
       "     CalidadGeocodificacion  \n",
       "0                    Manual  \n",
       "1              PointAddress  \n",
       "2              PointAddress  \n",
       "3              PointAddress  \n",
       "4                    Manual  \n",
       "..                      ...  \n",
       "919                  Postal  \n",
       "920                  Manual  \n",
       "921            PointAddress  \n",
       "922                  Manual  \n",
       "923                  Manual  \n",
       "\n",
       "[924 rows x 47 columns]"
      ]
     },
     "execution_count": 400,
     "metadata": {},
     "output_type": "execute_result"
    }
   ],
   "source": [
    "df_hospitals"
   ]
  },
  {
   "cell_type": "code",
   "execution_count": 401,
   "metadata": {},
   "outputs": [
    {
     "data": {
      "text/plain": [
       "CIERREFECH                 923\n",
       "CODIDCOM                   809\n",
       "TELEFONO2                  574\n",
       "EMAIL                      156\n",
       "TELEFAX                     66\n",
       "TELEFONO                     2\n",
       "LIT                          0\n",
       "CAPITAL                      0\n",
       "CONCIERTO                    0\n",
       "TAC                          0\n",
       "RM                           0\n",
       "GAM                          0\n",
       "HEM                          0\n",
       "ASD                          0\n",
       "OBJECTID                     0\n",
       "BCO                          0\n",
       "CERRADO                      0\n",
       "SPECT                        0\n",
       "PET                          0\n",
       "MAMOS                        0\n",
       "DO                           0\n",
       "DIAL                         0\n",
       "X                            0\n",
       "Y                            0\n",
       "ALI                          0\n",
       "FORCOMPLE                    0\n",
       "ALTA                         0\n",
       "CODPOSTAL                    0\n",
       "NOMBRE                       0\n",
       "DIRECCION                    0\n",
       "CODMU                        0\n",
       "MUNICIPIOS                   0\n",
       "CODPROV                      0\n",
       "PROVINCIAS                   0\n",
       "CODAUTO                      0\n",
       "COMUNIDADES                  0\n",
       "NCAMAS                       0\n",
       "CODCNH                       0\n",
       "CODFI                        0\n",
       "FINALIDAD_ASISITENCIAL       0\n",
       "CODPAT                       0\n",
       "DEPENDENCIA_PATRIMONIAL      0\n",
       "CODFU                        0\n",
       "DEPENDENCIA_FUNCIONAL        0\n",
       "ACREDOCENT                   0\n",
       "ESCOMPLE                     0\n",
       "CalidadGeocodificacion       0\n",
       "dtype: int64"
      ]
     },
     "execution_count": 401,
     "metadata": {},
     "output_type": "execute_result"
    }
   ],
   "source": [
    "is_null = df_hospitals.isnull().sum().sort_values(ascending=False)\n",
    "is_null\n"
   ]
  },
  {
   "cell_type": "code",
   "execution_count": 291,
   "metadata": {},
   "outputs": [],
   "source": [
    "columns_communities_english = ['province_code', 'province', 'municipality_code', 'municipality_name', 'population', 'male', 'female']\n",
    "columns_coordinates_english = ['community', 'province', 'municipality_name', 'latitude', 'longitude', 'altitude',\n",
    "    'population', 'male', 'female']\n",
    "\n",
    "\n",
    "def map_cols_es_en(es: list, en: list):\n",
    "    dict_cols = dict(zip(es, en))\n",
    "    return dict_cols.values()\n",
    "\n",
    "\n",
    "df_communities.columns = map_cols_es_en(df_communities.columns.to_list(), columns_communities_english)\n",
    "df_coordinates.columns = map_cols_es_en(df_coordinates.columns.to_list(), columns_coordinates_english)"
   ]
  },
  {
   "cell_type": "code",
   "execution_count": 292,
   "metadata": {},
   "outputs": [
    {
     "data": {
      "text/html": [
       "<div>\n",
       "<style scoped>\n",
       "    .dataframe tbody tr th:only-of-type {\n",
       "        vertical-align: middle;\n",
       "    }\n",
       "\n",
       "    .dataframe tbody tr th {\n",
       "        vertical-align: top;\n",
       "    }\n",
       "\n",
       "    .dataframe thead th {\n",
       "        text-align: right;\n",
       "    }\n",
       "</style>\n",
       "<table border=\"1\" class=\"dataframe\">\n",
       "  <thead>\n",
       "    <tr style=\"text-align: right;\">\n",
       "      <th></th>\n",
       "      <th>province_code</th>\n",
       "      <th>province</th>\n",
       "      <th>municipality_code</th>\n",
       "      <th>municipality_name</th>\n",
       "      <th>population</th>\n",
       "      <th>male</th>\n",
       "      <th>female</th>\n",
       "    </tr>\n",
       "  </thead>\n",
       "  <tbody>\n",
       "    <tr>\n",
       "      <th>4350</th>\n",
       "      <td>28</td>\n",
       "      <td>Madrid</td>\n",
       "      <td>61</td>\n",
       "      <td>Galapagar</td>\n",
       "      <td>36184</td>\n",
       "      <td>17561</td>\n",
       "      <td>18623</td>\n",
       "    </tr>\n",
       "  </tbody>\n",
       "</table>\n",
       "</div>"
      ],
      "text/plain": [
       "      province_code province  municipality_code municipality_name  population  \\\n",
       "4350             28   Madrid                 61         Galapagar       36184   \n",
       "\n",
       "       male  female  \n",
       "4350  17561   18623  "
      ]
     },
     "execution_count": 292,
     "metadata": {},
     "output_type": "execute_result"
    }
   ],
   "source": [
    "df_communities[df_communities['municipality_name'] == \"Galapagar\"]"
   ]
  },
  {
   "cell_type": "code",
   "execution_count": 293,
   "metadata": {},
   "outputs": [
    {
     "data": {
      "text/html": [
       "<div>\n",
       "<style scoped>\n",
       "    .dataframe tbody tr th:only-of-type {\n",
       "        vertical-align: middle;\n",
       "    }\n",
       "\n",
       "    .dataframe tbody tr th {\n",
       "        vertical-align: top;\n",
       "    }\n",
       "\n",
       "    .dataframe thead th {\n",
       "        text-align: right;\n",
       "    }\n",
       "</style>\n",
       "<table border=\"1\" class=\"dataframe\">\n",
       "  <thead>\n",
       "    <tr style=\"text-align: right;\">\n",
       "      <th></th>\n",
       "      <th>community</th>\n",
       "      <th>province</th>\n",
       "      <th>municipality_name</th>\n",
       "      <th>latitude</th>\n",
       "      <th>longitude</th>\n",
       "      <th>altitude</th>\n",
       "      <th>population</th>\n",
       "      <th>male</th>\n",
       "      <th>female</th>\n",
       "    </tr>\n",
       "  </thead>\n",
       "  <tbody>\n",
       "    <tr>\n",
       "      <th>6883</th>\n",
       "      <td>Madrid</td>\n",
       "      <td>Madrid</td>\n",
       "      <td>Galapagar</td>\n",
       "      <td>40.57736</td>\n",
       "      <td>-4.00357</td>\n",
       "      <td>884.4304</td>\n",
       "      <td>31820</td>\n",
       "      <td>15936</td>\n",
       "      <td>15884</td>\n",
       "    </tr>\n",
       "  </tbody>\n",
       "</table>\n",
       "</div>"
      ],
      "text/plain": [
       "     community province municipality_name  latitude  longitude  altitude  \\\n",
       "6883    Madrid   Madrid         Galapagar  40.57736   -4.00357  884.4304   \n",
       "\n",
       "      population   male  female  \n",
       "6883       31820  15936   15884  "
      ]
     },
     "execution_count": 293,
     "metadata": {},
     "output_type": "execute_result"
    }
   ],
   "source": [
    "df_coordinates[df_coordinates['municipality_name'] == \"Galapagar\"]"
   ]
  },
  {
   "cell_type": "code",
   "execution_count": 356,
   "metadata": {},
   "outputs": [],
   "source": [
    "df = pd.merge(df_communities, df_coordinates[[\"latitude\", \"longitude\", \"altitude\", \"municipality_name\"]], \n",
    "              on='municipality_name', \n",
    "              how='outer')"
   ]
  },
  {
   "cell_type": "code",
   "execution_count": 362,
   "metadata": {},
   "outputs": [
    {
     "data": {
      "text/html": [
       "<div>\n",
       "<style scoped>\n",
       "    .dataframe tbody tr th:only-of-type {\n",
       "        vertical-align: middle;\n",
       "    }\n",
       "\n",
       "    .dataframe tbody tr th {\n",
       "        vertical-align: top;\n",
       "    }\n",
       "\n",
       "    .dataframe thead th {\n",
       "        text-align: right;\n",
       "    }\n",
       "</style>\n",
       "<table border=\"1\" class=\"dataframe\">\n",
       "  <thead>\n",
       "    <tr style=\"text-align: right;\">\n",
       "      <th></th>\n",
       "      <th>province_code</th>\n",
       "      <th>province</th>\n",
       "      <th>municipality_code</th>\n",
       "      <th>municipality_name</th>\n",
       "      <th>population</th>\n",
       "      <th>male</th>\n",
       "      <th>female</th>\n",
       "      <th>latitude</th>\n",
       "      <th>longitude</th>\n",
       "      <th>altitude</th>\n",
       "    </tr>\n",
       "  </thead>\n",
       "  <tbody>\n",
       "    <tr>\n",
       "      <th>0</th>\n",
       "      <td>44.0</td>\n",
       "      <td>Teruel</td>\n",
       "      <td>1.0</td>\n",
       "      <td>Ababuj</td>\n",
       "      <td>74.0</td>\n",
       "      <td>44.0</td>\n",
       "      <td>30.0</td>\n",
       "      <td>40.54846</td>\n",
       "      <td>-0.807783</td>\n",
       "      <td>1368.1570</td>\n",
       "    </tr>\n",
       "    <tr>\n",
       "      <th>1</th>\n",
       "      <td>40.0</td>\n",
       "      <td>Segovia</td>\n",
       "      <td>1.0</td>\n",
       "      <td>Abades</td>\n",
       "      <td>859.0</td>\n",
       "      <td>422.0</td>\n",
       "      <td>437.0</td>\n",
       "      <td>40.91547</td>\n",
       "      <td>-4.269130</td>\n",
       "      <td>972.9816</td>\n",
       "    </tr>\n",
       "    <tr>\n",
       "      <th>2</th>\n",
       "      <td>48.0</td>\n",
       "      <td>Bizkaia</td>\n",
       "      <td>1.0</td>\n",
       "      <td>Abadiño</td>\n",
       "      <td>7742.0</td>\n",
       "      <td>3858.0</td>\n",
       "      <td>3884.0</td>\n",
       "      <td>43.15000</td>\n",
       "      <td>-2.610278</td>\n",
       "      <td>139.5298</td>\n",
       "    </tr>\n",
       "    <tr>\n",
       "      <th>3</th>\n",
       "      <td>10.0</td>\n",
       "      <td>Cáceres</td>\n",
       "      <td>1.0</td>\n",
       "      <td>Abadía</td>\n",
       "      <td>331.0</td>\n",
       "      <td>183.0</td>\n",
       "      <td>148.0</td>\n",
       "      <td>40.26001</td>\n",
       "      <td>-5.977147</td>\n",
       "      <td>452.6463</td>\n",
       "    </tr>\n",
       "    <tr>\n",
       "      <th>4</th>\n",
       "      <td>27.0</td>\n",
       "      <td>Lugo</td>\n",
       "      <td>1.0</td>\n",
       "      <td>Abadín</td>\n",
       "      <td>2217.0</td>\n",
       "      <td>1103.0</td>\n",
       "      <td>1114.0</td>\n",
       "      <td>43.36666</td>\n",
       "      <td>-7.483333</td>\n",
       "      <td>475.1587</td>\n",
       "    </tr>\n",
       "    <tr>\n",
       "      <th>...</th>\n",
       "      <td>...</td>\n",
       "      <td>...</td>\n",
       "      <td>...</td>\n",
       "      <td>...</td>\n",
       "      <td>...</td>\n",
       "      <td>...</td>\n",
       "      <td>...</td>\n",
       "      <td>...</td>\n",
       "      <td>...</td>\n",
       "      <td>...</td>\n",
       "    </tr>\n",
       "    <tr>\n",
       "      <th>8902</th>\n",
       "      <td>8.0</td>\n",
       "      <td>Barcelona</td>\n",
       "      <td>153.0</td>\n",
       "      <td>Òrrius</td>\n",
       "      <td>805.0</td>\n",
       "      <td>405.0</td>\n",
       "      <td>400.0</td>\n",
       "      <td>41.55499</td>\n",
       "      <td>2.355113</td>\n",
       "      <td>254.5491</td>\n",
       "    </tr>\n",
       "    <tr>\n",
       "      <th>8903</th>\n",
       "      <td>42.0</td>\n",
       "      <td>Soria</td>\n",
       "      <td>134.0</td>\n",
       "      <td>Ólvega</td>\n",
       "      <td>3838.0</td>\n",
       "      <td>2034.0</td>\n",
       "      <td>1804.0</td>\n",
       "      <td>41.77938</td>\n",
       "      <td>-1.985618</td>\n",
       "      <td>1040.0870</td>\n",
       "    </tr>\n",
       "    <tr>\n",
       "      <th>8904</th>\n",
       "      <td>18.0</td>\n",
       "      <td>Granada</td>\n",
       "      <td>147.0</td>\n",
       "      <td>Órgiva</td>\n",
       "      <td>5674.0</td>\n",
       "      <td>2802.0</td>\n",
       "      <td>2872.0</td>\n",
       "      <td>36.90224</td>\n",
       "      <td>-3.423990</td>\n",
       "      <td>465.8732</td>\n",
       "    </tr>\n",
       "    <tr>\n",
       "      <th>8905</th>\n",
       "      <td>23.0</td>\n",
       "      <td>Jaén</td>\n",
       "      <td>92.0</td>\n",
       "      <td>Úbeda</td>\n",
       "      <td>33674.0</td>\n",
       "      <td>16380.0</td>\n",
       "      <td>17294.0</td>\n",
       "      <td>38.00809</td>\n",
       "      <td>-3.368519</td>\n",
       "      <td>737.4617</td>\n",
       "    </tr>\n",
       "    <tr>\n",
       "      <th>8906</th>\n",
       "      <td>9.0</td>\n",
       "      <td>Burgos</td>\n",
       "      <td>398.0</td>\n",
       "      <td>Úrbel del Castillo</td>\n",
       "      <td>58.0</td>\n",
       "      <td>43.0</td>\n",
       "      <td>15.0</td>\n",
       "      <td>42.62002</td>\n",
       "      <td>-3.843711</td>\n",
       "      <td>939.2537</td>\n",
       "    </tr>\n",
       "  </tbody>\n",
       "</table>\n",
       "<p>8907 rows × 10 columns</p>\n",
       "</div>"
      ],
      "text/plain": [
       "      province_code   province  municipality_code   municipality_name  \\\n",
       "0              44.0     Teruel                1.0              Ababuj   \n",
       "1              40.0    Segovia                1.0              Abades   \n",
       "2              48.0    Bizkaia                1.0             Abadiño   \n",
       "3              10.0    Cáceres                1.0              Abadía   \n",
       "4              27.0       Lugo                1.0              Abadín   \n",
       "...             ...        ...                ...                 ...   \n",
       "8902            8.0  Barcelona              153.0              Òrrius   \n",
       "8903           42.0      Soria              134.0              Ólvega   \n",
       "8904           18.0    Granada              147.0              Órgiva   \n",
       "8905           23.0       Jaén               92.0               Úbeda   \n",
       "8906            9.0     Burgos              398.0  Úrbel del Castillo   \n",
       "\n",
       "      population     male   female  latitude  longitude   altitude  \n",
       "0           74.0     44.0     30.0  40.54846  -0.807783  1368.1570  \n",
       "1          859.0    422.0    437.0  40.91547  -4.269130   972.9816  \n",
       "2         7742.0   3858.0   3884.0  43.15000  -2.610278   139.5298  \n",
       "3          331.0    183.0    148.0  40.26001  -5.977147   452.6463  \n",
       "4         2217.0   1103.0   1114.0  43.36666  -7.483333   475.1587  \n",
       "...          ...      ...      ...       ...        ...        ...  \n",
       "8902       805.0    405.0    400.0  41.55499   2.355113   254.5491  \n",
       "8903      3838.0   2034.0   1804.0  41.77938  -1.985618  1040.0870  \n",
       "8904      5674.0   2802.0   2872.0  36.90224  -3.423990   465.8732  \n",
       "8905     33674.0  16380.0  17294.0  38.00809  -3.368519   737.4617  \n",
       "8906        58.0     43.0     15.0  42.62002  -3.843711   939.2537  \n",
       "\n",
       "[8907 rows x 10 columns]"
      ]
     },
     "execution_count": 362,
     "metadata": {},
     "output_type": "execute_result"
    }
   ],
   "source": [
    "df.dropna(thresh=4)"
   ]
  },
  {
   "cell_type": "code",
   "execution_count": 338,
   "metadata": {},
   "outputs": [
    {
     "name": "stdout",
     "output_type": "stream",
     "text": [
      "<class 'pandas.core.frame.DataFrame'>\n",
      "RangeIndex: 8160 entries, 0 to 8159\n",
      "Data columns (total 10 columns):\n",
      " #   Column             Non-Null Count  Dtype  \n",
      "---  ------             --------------  -----  \n",
      " 0   province_code      8160 non-null   int64  \n",
      " 1   province           8160 non-null   object \n",
      " 2   municipality_code  8160 non-null   int64  \n",
      " 3   municipality_name  8160 non-null   object \n",
      " 4   population         8160 non-null   int64  \n",
      " 5   male               8160 non-null   int64  \n",
      " 6   female             8160 non-null   int64  \n",
      " 7   latitude           7393 non-null   float64\n",
      " 8   longitude          7393 non-null   float64\n",
      " 9   altitude           7393 non-null   float64\n",
      "dtypes: float64(3), int64(5), object(2)\n",
      "memory usage: 637.6+ KB\n"
     ]
    }
   ],
   "source": [
    "df.info()"
   ]
  },
  {
   "cell_type": "code",
   "execution_count": null,
   "metadata": {
    "vscode": {
     "languageId": "powershell"
    }
   },
   "outputs": [
    {
     "data": {
      "text/html": [
       "<div>\n",
       "<style scoped>\n",
       "    .dataframe tbody tr th:only-of-type {\n",
       "        vertical-align: middle;\n",
       "    }\n",
       "\n",
       "    .dataframe tbody tr th {\n",
       "        vertical-align: top;\n",
       "    }\n",
       "\n",
       "    .dataframe thead th {\n",
       "        text-align: right;\n",
       "    }\n",
       "</style>\n",
       "<table border=\"1\" class=\"dataframe\">\n",
       "  <thead>\n",
       "    <tr style=\"text-align: right;\">\n",
       "      <th></th>\n",
       "      <th>province_code</th>\n",
       "      <th>province</th>\n",
       "      <th>municipality_code</th>\n",
       "      <th>municipality_name</th>\n",
       "      <th>population</th>\n",
       "      <th>male</th>\n",
       "      <th>female</th>\n",
       "      <th>latitude</th>\n",
       "      <th>longitude</th>\n",
       "      <th>altitude</th>\n",
       "    </tr>\n",
       "  </thead>\n",
       "  <tbody>\n",
       "    <tr>\n",
       "      <th>35</th>\n",
       "      <td>NaN</td>\n",
       "      <td>NaN</td>\n",
       "      <td>NaN</td>\n",
       "      <td>Abárzuza</td>\n",
       "      <td>NaN</td>\n",
       "      <td>NaN</td>\n",
       "      <td>NaN</td>\n",
       "      <td>42.72641</td>\n",
       "      <td>-2.022548</td>\n",
       "      <td>568.4764</td>\n",
       "    </tr>\n",
       "    <tr>\n",
       "      <th>36</th>\n",
       "      <td>31.0</td>\n",
       "      <td>Navarra</td>\n",
       "      <td>2.0</td>\n",
       "      <td>Abárzuza/Abartzuza</td>\n",
       "      <td>518.0</td>\n",
       "      <td>258.0</td>\n",
       "      <td>260.0</td>\n",
       "      <td>NaN</td>\n",
       "      <td>NaN</td>\n",
       "      <td>NaN</td>\n",
       "    </tr>\n",
       "    <tr>\n",
       "      <th>37</th>\n",
       "      <td>NaN</td>\n",
       "      <td>NaN</td>\n",
       "      <td>NaN</td>\n",
       "      <td>Acebeda (La)</td>\n",
       "      <td>NaN</td>\n",
       "      <td>NaN</td>\n",
       "      <td>NaN</td>\n",
       "      <td>41.08697</td>\n",
       "      <td>-3.624634</td>\n",
       "      <td>1266.5420</td>\n",
       "    </tr>\n",
       "    <tr>\n",
       "      <th>38</th>\n",
       "      <td>28.0</td>\n",
       "      <td>Madrid</td>\n",
       "      <td>1.0</td>\n",
       "      <td>Acebeda, La</td>\n",
       "      <td>68.0</td>\n",
       "      <td>37.0</td>\n",
       "      <td>31.0</td>\n",
       "      <td>NaN</td>\n",
       "      <td>NaN</td>\n",
       "      <td>NaN</td>\n",
       "    </tr>\n",
       "    <tr>\n",
       "      <th>41</th>\n",
       "      <td>NaN</td>\n",
       "      <td>NaN</td>\n",
       "      <td>NaN</td>\n",
       "      <td>Acebrón (El)</td>\n",
       "      <td>NaN</td>\n",
       "      <td>NaN</td>\n",
       "      <td>NaN</td>\n",
       "      <td>39.90840</td>\n",
       "      <td>-2.984723</td>\n",
       "      <td>765.3969</td>\n",
       "    </tr>\n",
       "    <tr>\n",
       "      <th>...</th>\n",
       "      <td>...</td>\n",
       "      <td>...</td>\n",
       "      <td>...</td>\n",
       "      <td>...</td>\n",
       "      <td>...</td>\n",
       "      <td>...</td>\n",
       "      <td>...</td>\n",
       "      <td>...</td>\n",
       "      <td>...</td>\n",
       "      <td>...</td>\n",
       "    </tr>\n",
       "    <tr>\n",
       "      <th>8894</th>\n",
       "      <td>37.0</td>\n",
       "      <td>Salamanca</td>\n",
       "      <td>118.0</td>\n",
       "      <td>Éjeme</td>\n",
       "      <td>144.0</td>\n",
       "      <td>82.0</td>\n",
       "      <td>62.0</td>\n",
       "      <td>NaN</td>\n",
       "      <td>NaN</td>\n",
       "      <td>NaN</td>\n",
       "    </tr>\n",
       "    <tr>\n",
       "      <th>8895</th>\n",
       "      <td>46.0</td>\n",
       "      <td>Valencia/València</td>\n",
       "      <td>119.0</td>\n",
       "      <td>Énova, l'</td>\n",
       "      <td>924.0</td>\n",
       "      <td>477.0</td>\n",
       "      <td>447.0</td>\n",
       "      <td>NaN</td>\n",
       "      <td>NaN</td>\n",
       "      <td>NaN</td>\n",
       "    </tr>\n",
       "    <tr>\n",
       "      <th>8897</th>\n",
       "      <td>4.0</td>\n",
       "      <td>Almería</td>\n",
       "      <td>54.0</td>\n",
       "      <td>Íllar</td>\n",
       "      <td>460.0</td>\n",
       "      <td>237.0</td>\n",
       "      <td>223.0</td>\n",
       "      <td>NaN</td>\n",
       "      <td>NaN</td>\n",
       "      <td>NaN</td>\n",
       "    </tr>\n",
       "    <tr>\n",
       "      <th>8898</th>\n",
       "      <td>18.0</td>\n",
       "      <td>Granada</td>\n",
       "      <td>102.0</td>\n",
       "      <td>Íllora</td>\n",
       "      <td>9918.0</td>\n",
       "      <td>5012.0</td>\n",
       "      <td>4906.0</td>\n",
       "      <td>NaN</td>\n",
       "      <td>NaN</td>\n",
       "      <td>NaN</td>\n",
       "    </tr>\n",
       "    <tr>\n",
       "      <th>8900</th>\n",
       "      <td>18.0</td>\n",
       "      <td>Granada</td>\n",
       "      <td>103.0</td>\n",
       "      <td>Ítrabo</td>\n",
       "      <td>956.0</td>\n",
       "      <td>484.0</td>\n",
       "      <td>472.0</td>\n",
       "      <td>NaN</td>\n",
       "      <td>NaN</td>\n",
       "      <td>NaN</td>\n",
       "    </tr>\n",
       "  </tbody>\n",
       "</table>\n",
       "<p>1514 rows × 10 columns</p>\n",
       "</div>"
      ],
      "text/plain": [
       "      province_code           province  municipality_code   municipality_name  \\\n",
       "35              NaN                NaN                NaN            Abárzuza   \n",
       "36             31.0            Navarra                2.0  Abárzuza/Abartzuza   \n",
       "37              NaN                NaN                NaN        Acebeda (La)   \n",
       "38             28.0             Madrid                1.0         Acebeda, La   \n",
       "41              NaN                NaN                NaN        Acebrón (El)   \n",
       "...             ...                ...                ...                 ...   \n",
       "8894           37.0          Salamanca              118.0               Éjeme   \n",
       "8895           46.0  Valencia/València              119.0           Énova, l'   \n",
       "8897            4.0            Almería               54.0               Íllar   \n",
       "8898           18.0            Granada              102.0              Íllora   \n",
       "8900           18.0            Granada              103.0              Ítrabo   \n",
       "\n",
       "      population    male  female  latitude  longitude   altitude  \n",
       "35           NaN     NaN     NaN  42.72641  -2.022548   568.4764  \n",
       "36         518.0   258.0   260.0       NaN        NaN        NaN  \n",
       "37           NaN     NaN     NaN  41.08697  -3.624634  1266.5420  \n",
       "38          68.0    37.0    31.0       NaN        NaN        NaN  \n",
       "41           NaN     NaN     NaN  39.90840  -2.984723   765.3969  \n",
       "...          ...     ...     ...       ...        ...        ...  \n",
       "8894       144.0    82.0    62.0       NaN        NaN        NaN  \n",
       "8895       924.0   477.0   447.0       NaN        NaN        NaN  \n",
       "8897       460.0   237.0   223.0       NaN        NaN        NaN  \n",
       "8898      9918.0  5012.0  4906.0       NaN        NaN        NaN  \n",
       "8900       956.0   484.0   472.0       NaN        NaN        NaN  \n",
       "\n",
       "[1514 rows x 10 columns]"
      ]
     },
     "execution_count": 358,
     "metadata": {},
     "output_type": "execute_result"
    }
   ],
   "source": [
    "# Display rows with any NaN values and count them\n",
    "nan_rows = df[df.isna().any(axis=1)]\n",
    "nan_rows"
   ]
  },
  {
   "cell_type": "code",
   "execution_count": 355,
   "metadata": {},
   "outputs": [
    {
     "data": {
      "application/vnd.plotly.v1+json": {
       "config": {
        "plotlyServerURL": "https://plot.ly"
       },
       "data": [
        {
         "customdata": [
          [
           "Alegría-Dulantzi",
           561.6857
          ],
          [
           "Amurrio",
           219.691
          ],
          [
           "Aramaio",
           381.8797
          ],
          [
           "Artziniega",
           196.9808
          ],
          [
           "Armiñón",
           463.5815
          ],
          [
           "Arratzua-Ubarrundia",
           null
          ],
          [
           "Asparrena",
           631.652
          ],
          [
           "Ayala/Aiara",
           300.2789
          ],
          [
           "Baños de Ebro/Mañueta",
           428.0221
          ],
          [
           "Barrundia",
           555.0674
          ],
          [
           "Berantevilla",
           468.8318
          ],
          [
           "Bernedo",
           713.1542
          ],
          [
           "Campezo/Kanpezu",
           742.2458
          ],
          [
           "Zigoitia",
           599.7416
          ],
          [
           "Kripan",
           695.0848
          ],
          [
           "Kuartango",
           572.6608
          ],
          [
           "Elburgo/Burgelu",
           540.8835
          ],
          [
           "Elciego",
           461.4185
          ],
          [
           "Elvillar/Bilar",
           592
          ],
          [
           "Iruraiz-Gauna",
           601.8067
          ],
          [
           "Labastida/Bastida",
           547.173
          ],
          [
           "Lagrán",
           749.7421
          ],
          [
           "Laguardia",
           629.8966
          ],
          [
           "Lanciego/Lantziego",
           548.5494
          ],
          [
           "Lapuebla de Labarca",
           445.6386
          ],
          [
           "Leza",
           573.1453
          ],
          [
           "Laudio/Llodio",
           127.9116
          ],
          [
           "Arraia-Maeztu",
           657.7902
          ],
          [
           "Moreda de Álava/Moreda Araba",
           null
          ],
          [
           "Navaridas",
           524.3116
          ],
          [
           "Okondo",
           145.3144
          ],
          [
           "Oyón-Oion",
           437.9938
          ],
          [
           "Peñacerrada-Urizaharra",
           749.8625
          ],
          [
           "Erriberagoitia/Ribera Alta",
           479.5812
          ],
          [
           "Ribera Baja/Erriberabeitia",
           null
          ],
          [
           "Añana",
           628.5115
          ],
          [
           "Agurain/Salvatierra",
           null
          ],
          [
           "Samaniego",
           578.5411
          ],
          [
           "San Millán/Donemiliaga",
           596.2991
          ],
          [
           "Urkabustaiz",
           680.2825
          ],
          [
           "Valdegovía/Gaubea",
           574.0443
          ],
          [
           "Harana/Valle de Arana",
           831.0966
          ],
          [
           "Villabuena de Álava/Eskuernaga",
           486.5453
          ],
          [
           "Legutio",
           null
          ],
          [
           "Vitoria-Gasteiz",
           534.3582
          ],
          [
           "Yécora/Iekora",
           688.1754
          ],
          [
           "Zalduondo",
           608.8599
          ],
          [
           "Zambrana",
           455.7371
          ],
          [
           "Zuia",
           803.4551
          ],
          [
           "Iruña Oka/Iruña de Oca",
           498.6791
          ],
          [
           "Lantarón",
           615.6439
          ],
          [
           "Abengibre",
           635.9763
          ],
          [
           "Alatoz",
           856.581
          ],
          [
           "Albacete",
           685.9573
          ],
          [
           "Albatana",
           583.8509
          ],
          [
           "Alborea",
           700.4382
          ],
          [
           "Alcadozo",
           926.3744
          ],
          [
           "Alcalá del Júcar",
           564.6768
          ],
          [
           "Alcaraz",
           946.7922
          ],
          [
           "Almansa",
           699.0923
          ],
          [
           "Alpera",
           855.4849
          ],
          [
           "Ayna",
           705.988
          ],
          [
           "Balazote",
           774.1191
          ],
          [
           "Balsa de Ves",
           753.8686
          ],
          [
           "Ballestero, El",
           null
          ],
          [
           "Barrax",
           730.8005
          ],
          [
           "Bienservida",
           892.105
          ],
          [
           "Bogarra",
           877.0484
          ],
          [
           "Bonete",
           892.0386
          ],
          [
           "Bonillo, El",
           null
          ],
          [
           "Carcelén",
           917.2548
          ],
          [
           "Casas de Juan Núñez",
           708.0665
          ],
          [
           "Casas de Lázaro",
           955.0565
          ],
          [
           "Casas de Ves",
           705.2325
          ],
          [
           "Casas-Ibáñez",
           708.7758
          ],
          [
           "Caudete",
           576.1887
          ],
          [
           "Cenizate",
           709.0714
          ],
          [
           "Corral-Rubio",
           874.6991
          ],
          [
           "Cotillas",
           937.312
          ],
          [
           "Chinchilla de Monte-Aragón",
           886.0651
          ],
          [
           "Elche de la Sierra",
           641.3206
          ],
          [
           "Férez",
           678.098
          ],
          [
           "Fuensanta",
           704.071
          ],
          [
           "Fuente-Álamo",
           823.3177
          ],
          [
           "Fuentealbilla",
           664.727
          ],
          [
           "Gineta, La",
           null
          ],
          [
           "Golosalvo",
           737.8311
          ],
          [
           "Hellín",
           571.8438
          ],
          [
           "Herrera, La",
           null
          ],
          [
           "Higueruela",
           1038.131
          ],
          [
           "Hoya-Gonzalo",
           935.8157
          ],
          [
           "Jorquera",
           620.2926
          ],
          [
           "Letur",
           746.7882
          ],
          [
           "Lezuza",
           916.73
          ],
          [
           "Liétor",
           671.197
          ],
          [
           "Madrigueras",
           692.8739
          ],
          [
           "Mahora",
           667.1957
          ],
          [
           "Masegoso",
           1109.367
          ],
          [
           "Minaya",
           725.5837
          ],
          [
           "Molinicos",
           857.9905
          ],
          [
           "Montalvos",
           710
          ],
          [
           "Montealegre del Castillo",
           811.8585
          ],
          [
           "Motilleja",
           679.5121
          ],
          [
           "Munera",
           934.6063
          ],
          [
           "Navas de Jorquera",
           711
          ],
          [
           "Nerpio",
           1084.768
          ],
          [
           "Ontur",
           656.9244
          ],
          [
           "Ossa de Montiel",
           911.2698
          ],
          [
           "Paterna del Madera",
           1136.959
          ],
          [
           "Peñascosa",
           1170.48
          ],
          [
           "Peñas de San Pedro",
           1023.151
          ],
          [
           "Pétrola",
           878.49
          ],
          [
           "Povedilla",
           871.9346
          ],
          [
           "Pozohondo",
           872.5624
          ],
          [
           "Pozo-Lorente",
           773.0806
          ],
          [
           "Pozuelo",
           850.8868
          ],
          [
           "Recueja, La",
           null
          ],
          [
           "Riópar",
           971.0583
          ],
          [
           "Robledo",
           1029.824
          ],
          [
           "Roda, La",
           null
          ],
          [
           "Salobre",
           924.4268
          ],
          [
           "San Pedro",
           844.3685
          ],
          [
           "Socovos",
           751.4481
          ],
          [
           "Tarazona de la Mancha",
           715.6435
          ],
          [
           "Tobarra",
           642.4951
          ],
          [
           "Valdeganga",
           668.1237
          ],
          [
           "Vianos",
           1117.031
          ],
          [
           "Villa de Ves",
           741.5894
          ],
          [
           "Villalgordo del Júcar",
           687.8445
          ],
          [
           "Villamalea",
           743.7635
          ],
          [
           "Villapalacios",
           837.8229
          ],
          [
           "Villarrobledo",
           728.5291
          ],
          [
           "Villatoya",
           416.7317
          ],
          [
           "Villavaliente",
           728.5188
          ],
          [
           "Villaverde de Guadalimar",
           796.1951
          ],
          [
           "Viveros",
           1012.303
          ],
          [
           "Yeste",
           862.6873
          ],
          [
           "Pozo Cañada",
           826.6574
          ],
          [
           "Atzúbia, l'",
           null
          ],
          [
           "Agost",
           332.424
          ],
          [
           "Agres",
           724.617
          ],
          [
           "Aigües",
           325.356
          ],
          [
           "Albatera",
           21.50101
          ],
          [
           "Alcalalí",
           290.6824
          ],
          [
           "Alcosser",
           null
          ],
          [
           "Alcoleja",
           751.6678
          ],
          [
           "Alcoi/Alcoy",
           null
          ],
          [
           "Alfafara",
           587.1841
          ],
          [
           "Alfàs del Pi, l'",
           null
          ],
          [
           "Algorfa",
           29.95276
          ],
          [
           "Algueña",
           536.0125
          ],
          [
           "Alacant/Alicante",
           null
          ],
          [
           "Almoradí",
           17.38357
          ],
          [
           "Almudaina",
           575.8386
          ],
          [
           "Alqueria d'Asnar, l'",
           null
          ],
          [
           "Altea",
           21.23566
          ],
          [
           "Aspe",
           230.3877
          ],
          [
           "Balones",
           663.7676
          ],
          [
           "Banyeres de Mariola",
           825.7204
          ],
          [
           "Benasau",
           695.5562
          ],
          [
           "Beneixama",
           595.4329
          ],
          [
           "Benejúzar",
           25.65035
          ],
          [
           "Benferri",
           54.47756
          ],
          [
           "Beniarbeig",
           46.27847
          ],
          [
           "Beniardà",
           null
          ],
          [
           "Beniarrés",
           391.1873
          ],
          [
           "Benigembla",
           310.3394
          ],
          [
           "Benidoleig",
           102.7022
          ],
          [
           "Benidorm",
           21.19977
          ],
          [
           "Benifallim",
           730.8427
          ],
          [
           "Benifato",
           654.8287
          ],
          [
           "Benijófar",
           35.03075
          ],
          [
           "Benilloba",
           535.0692
          ],
          [
           "Benillup",
           561.1097
          ],
          [
           "Benimantell",
           562.9584
          ],
          [
           "Benimarfull",
           427.3933
          ],
          [
           "Benimassot",
           729.0436
          ],
          [
           "Benimeli",
           95.25533
          ],
          [
           "Benissa",
           253.765
          ],
          [
           "Poble Nou de Benitatxell, el/Benitachell",
           null
          ],
          [
           "Biar",
           703.2366
          ],
          [
           "Bigastro",
           29.8936
          ],
          [
           "Bolulla",
           220.4359
          ],
          [
           "Busot",
           331.5273
          ],
          [
           "Calp",
           null
          ],
          [
           "Callosa d'en Sarrià",
           null
          ],
          [
           "Callosa de Segura",
           22.56134
          ],
          [
           "Campello, el",
           null
          ],
          [
           "Camp de Mirra, el/Campo de Mirra",
           null
          ],
          [
           "Cañada",
           561.0671
          ],
          [
           "Castalla",
           685.3792
          ],
          [
           "Castell de Castells",
           425.5766
          ],
          [
           "Catral",
           11
          ],
          [
           "Cocentaina",
           446.2317
          ],
          [
           "Confrides",
           789.8048
          ],
          [
           "Cox",
           20.62896
          ],
          [
           "Crevillent",
           120.1649
          ],
          [
           "Quatretondeta",
           622.546
          ],
          [
           "Daya Nueva",
           8.224919
          ],
          [
           "Daya Vieja",
           6.833565
          ],
          [
           "Dénia",
           11.78009
          ],
          [
           "Dolores",
           9.227216
          ],
          [
           "Elx/Elche",
           null
          ],
          [
           "Elda",
           413.189
          ],
          [
           "Fageca",
           null
          ],
          [
           "Famorca",
           691.6473
          ],
          [
           "Finestrat",
           261.4681
          ],
          [
           "Formentera del Segura",
           10.79573
          ],
          [
           "Gata de Gorgos",
           85.46293
          ],
          [
           "Gaianes",
           414.3354
          ],
          [
           "Gorga",
           555.8732
          ],
          [
           "Granja de Rocamora",
           18.04087
          ],
          [
           "Castell de Guadalest, el",
           null
          ],
          [
           "Guardamar del Segura",
           26.48124
          ],
          [
           "Fondó de les Neus, el/Hondón de las Nieves",
           null
          ],
          [
           "Hondón de los Frailes",
           418.041
          ],
          [
           "Ibi",
           753.7646
          ],
          [
           "Jacarilla",
           27.33402
          ],
          [
           "Xaló",
           196.9115
          ],
          [
           "Xàbia/Jávea",
           null
          ],
          [
           "Xixona/Jijona",
           null
          ],
          [
           "Orxa, l'/Lorcha",
           null
          ],
          [
           "Llíber",
           185.6137
          ],
          [
           "Millena",
           634.1902
          ],
          [
           "Monforte del Cid",
           223.6606
          ],
          [
           "Monòver/Monóvar",
           null
          ],
          [
           "Mutxamel",
           65.50282
          ],
          [
           "Murla",
           291.5551
          ],
          [
           "Muro de Alcoy",
           411.4849
          ],
          [
           "Novelda",
           247.5291
          ],
          [
           "Nucia, la",
           null
          ],
          [
           "Ondara",
           37.3018
          ],
          [
           "Onil",
           676.8312
          ],
          [
           "Orba",
           160.1064
          ],
          [
           "Orxeta",
           186.9968
          ],
          [
           "Orihuela",
           36.18137
          ],
          [
           "Parcent",
           289.9498
          ],
          [
           "Pedreguer",
           87.95199
          ],
          [
           "Pego",
           83.52785
          ],
          [
           "Penàguila",
           689.5314
          ],
          [
           "Petrer",
           437.8267
          ],
          [
           "Pinós, el/Pinoso",
           null
          ],
          [
           "Planes",
           444.3655
          ],
          [
           "Polop",
           237.3766
          ],
          [
           "Rafal",
           16.86083
          ],
          [
           "Ràfol d'Almúnia, el",
           null
          ],
          [
           "Redován",
           26.24458
          ],
          [
           "Relleu",
           439.6355
          ],
          [
           "Rojales",
           13.9656
          ],
          [
           "Romana, la",
           null
          ],
          [
           "Sagra",
           113.3374
          ],
          [
           "Salinas",
           491.3814
          ],
          [
           "Sanet y Negrals",
           92.4516
          ],
          [
           "San Fulgencio",
           7.573623
          ],
          [
           "Sant Joan d'Alacant",
           41.32392
          ],
          [
           "San Miguel de Salinas",
           77.87773
          ],
          [
           "Santa Pola",
           10
          ],
          [
           "Sant Vicent del Raspeig/San Vicente del Raspeig",
           null
          ],
          [
           "Sax",
           480.8817
          ],
          [
           "Sella",
           421.4968
          ],
          [
           "Senija",
           239.5632
          ],
          [
           "Tàrbena",
           573.9403
          ],
          [
           "Teulada",
           181.3972
          ],
          [
           "Tibi",
           493.401
          ],
          [
           "Tollos",
           771.4578
          ],
          [
           "Tormos",
           130.5348
          ],
          [
           "Torre de les Maçanes, la/Torremanzanas",
           null
          ],
          [
           "Torrevieja",
           15.69942
          ],
          [
           "Vall d'Alcalà, la",
           null
          ],
          [
           "Vall d'Ebo, la",
           null
          ],
          [
           "Vall de Gallinera, la",
           null
          ],
          [
           "Vall de Laguar, la",
           null
          ],
          [
           "Verger, el",
           null
          ],
          [
           "Vila Joiosa, la/Villajoyosa",
           null
          ],
          [
           "Villena",
           522.7245
          ],
          [
           "Poblets, els",
           null
          ],
          [
           "Pilar de la Horadada",
           32.33976
          ],
          [
           "Montesinos, Los",
           null
          ],
          [
           "San Isidro",
           10.8566
          ],
          [
           "Abla",
           871.1684
          ],
          [
           "Abrucena",
           976.9387
          ],
          [
           "Adra",
           10.97898
          ],
          [
           "Albanchez",
           null
          ],
          [
           "Alboloduy",
           388.4346
          ],
          [
           "Albox",
           426.4268
          ],
          [
           "Alcolea",
           744.6956
          ],
          [
           "Alcóntar",
           955.1331
          ],
          [
           "Alcudia de Monteagud",
           1018.354
          ],
          [
           "Alhabia",
           288.056
          ],
          [
           "Alhama de Almería",
           523.1963
          ],
          [
           "Alicún",
           420.4872
          ],
          [
           "Almería",
           27.00703
          ],
          [
           "Almócita",
           831.1343
          ],
          [
           "Alsodux",
           312.0394
          ],
          [
           "Antas",
           107.2613
          ],
          [
           "Arboleas",
           288.0828
          ],
          [
           "Armuña de Almanzora",
           625.5285
          ],
          [
           "Bacares",
           1202.631
          ],
          [
           "Bayárcal",
           1271.166
          ],
          [
           "Bayarque",
           816.2208
          ],
          [
           "Bédar",
           391.56
          ],
          [
           "Beires",
           919.2347
          ],
          [
           "Benahadux",
           113.9746
          ],
          [
           "Benitagla",
           945.0856
          ],
          [
           "Benizalón",
           933.7475
          ],
          [
           "Bentarique",
           319.8048
          ],
          [
           "Berja",
           340.7863
          ],
          [
           "Canjáyar",
           607.9745
          ],
          [
           "Cantoria",
           388.6553
          ],
          [
           "Carboneras",
           6.721787
          ],
          [
           "Castro de Filabres",
           943.7071
          ],
          [
           "Cóbdar",
           606.9962
          ],
          [
           "Cuevas del Almanzora",
           97.29103
          ],
          [
           "Chercos",
           789.6791
          ],
          [
           "Chirivel",
           1039.713
          ],
          [
           "Dalías",
           415.9644
          ],
          [
           "Enix",
           720.6339
          ],
          [
           "Felix",
           822.4271
          ],
          [
           "Fines",
           448.7018
          ],
          [
           "Fiñana",
           950.4163
          ],
          [
           "Fondón",
           858.4697
          ],
          [
           "Gádor",
           169.0004
          ],
          [
           "Gallardos, Los",
           null
          ],
          [
           "Garrucha",
           2.56615
          ],
          [
           "Gérgal",
           750.5009
          ],
          [
           "Huécija",
           410.0447
          ],
          [
           "Huércal de Almería",
           72.52909
          ],
          [
           "Huércal-Overa",
           284.6117
          ],
          [
           "Íllar",
           null
          ],
          [
           "Instinción",
           434.57
          ],
          [
           "Laroya",
           854.0873
          ],
          [
           "Láujar de Andarax",
           910.9894
          ],
          [
           "Líjar",
           593.4965
          ],
          [
           "Lubrín",
           521.5203
          ],
          [
           "Lucainena de las Torres",
           533.8752
          ],
          [
           "Lúcar",
           901.753
          ],
          [
           "Macael",
           538.7327
          ],
          [
           "María",
           1196.435
          ],
          [
           "Mojácar",
           165.0597
          ],
          [
           "Nacimiento",
           596.8992
          ],
          [
           "Níjar",
           353.1248
          ],
          [
           "Ohanes",
           953.4253
          ],
          [
           "Olula de Castro",
           1054.839
          ],
          [
           "Olula del Río",
           486.5961
          ],
          [
           "Oria",
           1038.982
          ],
          [
           "Padules",
           745.1029
          ],
          [
           "Partaloa",
           548.585
          ],
          [
           "Paterna del Río",
           1201.81
          ],
          [
           "Pechina",
           107.5108
          ],
          [
           "Pulpí",
           194.9947
          ],
          [
           "Purchena",
           540.9984
          ],
          [
           "Rágol",
           404.8323
          ],
          [
           "Rioja",
           133.2092
          ],
          [
           "Roquetas de Mar",
           11.84886
          ],
          [
           "Santa Cruz de Marchena",
           328.9739
          ],
          [
           "Santa Fe de Mondújar",
           210.5975
          ],
          [
           "Senés",
           1007.387
          ],
          [
           "Serón",
           800.137
          ],
          [
           "Sierro",
           721.0729
          ],
          [
           "Somontín",
           816.8105
          ],
          [
           "Sorbas",
           391.5779
          ],
          [
           "Suflí",
           636.8499
          ],
          [
           "Tabernas",
           405.9641
          ],
          [
           "Taberno",
           702.8022
          ],
          [
           "Tahal",
           1008.582
          ],
          [
           "Terque",
           282.4351
          ],
          [
           "Tíjola",
           685.379
          ],
          [
           "Turre",
           49.41454
          ],
          [
           "Turrillas",
           840.3381
          ],
          [
           "Uleila del Campo",
           629.6137
          ],
          [
           "Urrácal",
           744.7553
          ],
          [
           "Velefique",
           937.5716
          ],
          [
           "Vélez-Blanco",
           1072.432
          ],
          [
           "Vélez-Rubio",
           842.2859
          ],
          [
           "Vera",
           102.0657
          ],
          [
           "Viator",
           74.79173
          ],
          [
           "Vícar",
           276.2602
          ],
          [
           "Zurgena",
           248.1582
          ],
          [
           "Tres Villas, Las",
           null
          ],
          [
           "Ejido, El",
           null
          ],
          [
           "Mojonera, La",
           null
          ],
          [
           "Balanegra",
           null
          ],
          [
           "Adanero",
           905.2096
          ],
          [
           "Adrada, La",
           null
          ],
          [
           "Albornos",
           909.7402
          ],
          [
           "Aldeanueva de Santa Cruz",
           1166.277
          ],
          [
           "Aldeaseca",
           861.7283
          ],
          [
           "Aldehuela, La",
           null
          ],
          [
           "Amavida",
           1175.522
          ],
          [
           "Arenal, El",
           null
          ],
          [
           "Arenas de San Pedro",
           514.0571
          ],
          [
           "Arevalillo",
           1137.772
          ],
          [
           "Arévalo",
           826.179
          ],
          [
           "Aveinte",
           1000.345
          ],
          [
           "Avellaneda",
           1351.883
          ],
          [
           "Ávila",
           1129.841
          ],
          [
           "Barco de Ávila, El",
           null
          ],
          [
           "Barraco, El",
           null
          ],
          [
           "Barromán",
           795.3719
          ],
          [
           "Becedas",
           1100.157
          ],
          [
           "Becedillas",
           1055.372
          ],
          [
           "Bercial de Zapardiel",
           806.9874
          ],
          [
           "Berlanas, Las",
           null
          ],
          [
           "Bernuy-Zapardiel",
           865.666
          ],
          [
           "Berrocalejo de Aragona",
           1093.834
          ],
          [
           "Blascomillán",
           949.7968
          ],
          [
           "Blasconuño de Matacabras",
           786.0962
          ],
          [
           "Blascosancho",
           904.3203
          ],
          [
           "Bohodón, El",
           null
          ],
          [
           "Bohoyo",
           1152.302
          ],
          [
           "Bonilla de la Sierra",
           1078.679
          ],
          [
           "Brabos",
           981.4635
          ],
          [
           "Bularros",
           1169.908
          ],
          [
           "Burgohondo",
           841.5716
          ],
          [
           "Cabezas de Alambre",
           889.5198
          ],
          [
           "Cabezas del Pozo",
           844.806
          ],
          [
           "Cabezas del Villar",
           1047.323
          ],
          [
           "Cabizuela",
           880.9836
          ],
          [
           "Canales",
           856.6454
          ],
          [
           "Candeleda",
           432.1873
          ],
          [
           "Cantiveros",
           878.133
          ],
          [
           "Cardeñosa",
           1106.686
          ],
          [
           "Carrera, La",
           null
          ],
          [
           "Casas del Puerto",
           1181.79
          ],
          [
           "Casasola",
           1316.782
          ],
          [
           "Casavieja",
           560.0256
          ],
          [
           "Casillas",
           1033.86
          ],
          [
           "Castellanos de Zapardiel",
           784.2825
          ],
          [
           "Cebreros",
           762.6259
          ],
          [
           "Cepeda la Mora",
           1496.214
          ],
          [
           "Cillán",
           1213.872
          ],
          [
           "Cisla",
           849.4051
          ],
          [
           "Colilla, La",
           null
          ],
          [
           "Collado de Contreras",
           916.2794
          ],
          [
           "Collado del Mirón",
           1166.182
          ],
          [
           "Constanzana",
           890.7895
          ],
          [
           "Crespos",
           924.7823
          ],
          [
           "Cuevas del Valle",
           850.9416
          ],
          [
           "Chamartín",
           1200.419
          ],
          [
           "Donjimeno",
           885.1403
          ],
          [
           "Donvidas",
           863.8016
          ],
          [
           "Espinosa de los Caballeros",
           859.3159
          ],
          [
           "Flores de Ávila",
           894.5298
          ],
          [
           "Fontiveros",
           883.9694
          ],
          [
           "Fresnedilla",
           622.42
          ],
          [
           "Fresno, El",
           null
          ],
          [
           "Fuente el Saúz",
           872.8679
          ],
          [
           "Fuentes de Año",
           825.9651
          ],
          [
           "Gallegos de Altamiros",
           1243.297
          ],
          [
           "Gallegos de Sobrinos",
           1165.116
          ],
          [
           "Garganta del Villar",
           1468.859
          ],
          [
           "Gavilanes",
           666.3435
          ],
          [
           "Gemuño",
           1103.707
          ],
          [
           "Gilbuena",
           1046.664
          ],
          [
           "Gil García",
           1149.134
          ],
          [
           "Gimialcón",
           949.9352
          ],
          [
           "Gotarrendura",
           931.7262
          ],
          [
           "Grandes y San Martín",
           1004.375
          ],
          [
           "Guisando",
           760.2384
          ],
          [
           "Gutierre-Muñoz",
           885.0555
          ],
          [
           "Hernansancho",
           907.3092
          ],
          [
           "Herradón de Pinares",
           1339.181
          ],
          [
           "Herreros de Suso",
           1014.149
          ],
          [
           "Higuera de las Dueñas",
           636.0223
          ],
          [
           "Hija de Dios, La",
           null
          ],
          [
           "Horcajada, La",
           null
          ],
          [
           "Horcajo de las Torres",
           817.9778
          ],
          [
           "Hornillo, El",
           null
          ],
          [
           "Hoyocasero",
           1340.283
          ],
          [
           "Hoyo de Pinares, El",
           null
          ],
          [
           "Hoyorredondo",
           1041.056
          ],
          [
           "Hoyos del Collado",
           1496.277
          ],
          [
           "Hoyos del Espino",
           1476.058
          ],
          [
           "Hoyos de Miguel Muñoz",
           1537.814
          ],
          [
           "Hurtumpascual",
           1170.533
          ],
          [
           "Junciana",
           996.5219
          ],
          [
           "Langa",
           867.0062
          ],
          [
           "Lanzahíta",
           452.3451
          ],
          [
           "Losar del Barco, El",
           null
          ],
          [
           "Llanos de Tormes, Los",
           null
          ],
          [
           "Madrigal de las Altas Torres",
           811.4847
          ],
          [
           "Maello",
           1031.561
          ],
          [
           "Malpartida de Corneja",
           1023.512
          ],
          [
           "Mamblas",
           820.2225
          ],
          [
           "Mancera de Arriba",
           938.9207
          ],
          [
           "Manjabálago y Ortigosa de Rioalmar",
           null
          ],
          [
           "Marlín",
           1214.861
          ],
          [
           "Martiherrero",
           1228.818
          ],
          [
           "Martínez",
           1100.179
          ],
          [
           "Mediana de Voltoya",
           1112.355
          ],
          [
           "Medinilla",
           1066.206
          ],
          [
           "Mengamuñoz",
           1348.081
          ],
          [
           "Mesegar de Corneja",
           1022.489
          ],
          [
           "Mijares",
           864.0565
          ],
          [
           "Mingorría",
           1034.813
          ],
          [
           "Mirón, El",
           null
          ],
          [
           "Mironcillo",
           1119.956
          ],
          [
           "Mirueña de los Infanzones",
           1132.032
          ],
          [
           "Mombeltrán",
           638.0334
          ],
          [
           "Monsalupe",
           1001.826
          ],
          [
           "Moraleja de Matacabras",
           784.5509
          ],
          [
           "Muñana",
           1166.34
          ],
          [
           "Muñico",
           1088.301
          ],
          [
           "Muñogalindo",
           1126.354
          ],
          [
           "Muñogrande",
           945.0131
          ],
          [
           "Muñomer del Peco",
           897.2045
          ],
          [
           "Muñopepe",
           1136.208
          ],
          [
           "Muñosancho",
           904.1495
          ],
          [
           "Muñotello",
           1153.327
          ],
          [
           "Narrillos del Álamo",
           1119.065
          ],
          [
           "Narrillos del Rebollar",
           1393.928
          ],
          [
           "Narros del Castillo",
           955.416
          ],
          [
           "Narros del Puerto",
           1150.127
          ],
          [
           "Narros de Saldueña",
           899.7995
          ],
          [
           "Navacepedilla de Corneja",
           1254.679
          ],
          [
           "Nava de Arévalo",
           867.2231
          ],
          [
           "Nava del Barco",
           1143.579
          ],
          [
           "Navadijos",
           1522.013
          ],
          [
           "Navaescurial",
           1204.329
          ],
          [
           "Navahondilla",
           722.1689
          ],
          [
           "Navalacruz",
           1242.845
          ],
          [
           "Navalmoral",
           1059.723
          ],
          [
           "Navalonguilla",
           1166.513
          ],
          [
           "Navalosa",
           1302.457
          ],
          [
           "Navalperal de Pinares",
           1276.434
          ],
          [
           "Navalperal de Tormes",
           1301.761
          ],
          [
           "Navaluenga",
           761.1091
          ],
          [
           "Navaquesera",
           1510.378
          ],
          [
           "Navarredonda de Gredos",
           1533.715
          ],
          [
           "Navarredondilla",
           1133.272
          ],
          [
           "Navarrevisca",
           1125.35
          ],
          [
           "Navas del Marqués, Las",
           null
          ],
          [
           "Navatalgordo",
           1277.847
          ],
          [
           "Navatejares",
           1045.835
          ],
          [
           "Neila de San Miguel",
           1163.344
          ],
          [
           "Niharra",
           1092.125
          ],
          [
           "Ojos-Albos",
           1228.249
          ],
          [
           "Orbita",
           868.4173
          ],
          [
           "Oso, El",
           null
          ],
          [
           "Padiernos",
           1106
          ],
          [
           "Pajares de Adaja",
           881.6708
          ],
          [
           "Palacios de Goda",
           820.0026
          ],
          [
           "Papatrigo",
           889
          ],
          [
           "Parral, El",
           null
          ],
          [
           "Pascualcobo",
           1065.825
          ],
          [
           "Pedro Bernardo",
           802.8278
          ],
          [
           "Pedro-Rodríguez",
           877.0702
          ],
          [
           "Peguerinos",
           1361.598
          ],
          [
           "Peñalba de Ávila",
           1073.66
          ],
          [
           "Piedrahíta",
           1064.406
          ],
          [
           "Piedralaves",
           712.4528
          ],
          [
           "Poveda",
           1201.02
          ],
          [
           "Poyales del Hoyo",
           554.1748
          ],
          [
           "Pozanco",
           909.6544
          ],
          [
           "Pradosegar",
           1171.21
          ],
          [
           "Puerto Castilla",
           1169.832
          ],
          [
           "Rasueros",
           831.9698
          ],
          [
           "Riocabado",
           909.7188
          ],
          [
           "Riofrío",
           1186.845
          ],
          [
           "Rivilla de Barajas",
           899.2758
          ],
          [
           "Salobral",
           1087.409
          ],
          [
           "Salvadiós",
           951.5007
          ],
          [
           "San Bartolomé de Béjar",
           1120.649
          ],
          [
           "San Bartolomé de Corneja",
           993.1846
          ],
          [
           "San Bartolomé de Pinares",
           1047.196
          ],
          [
           "Sanchidrián",
           924.6989
          ],
          [
           "Sanchorreja",
           1312.153
          ],
          [
           "San Esteban de los Patos",
           1118.933
          ],
          [
           "San Esteban del Valle",
           795.9105
          ],
          [
           "San Esteban de Zapardiel",
           780.4639
          ],
          [
           "San García de Ingelmos",
           1067
          ],
          [
           "San Juan de la Encinilla",
           913.4266
          ],
          [
           "San Juan de la Nava",
           1126.167
          ],
          [
           "San Juan del Molinillo",
           1141.855
          ],
          [
           "San Juan del Olmo",
           1287.153
          ],
          [
           "San Lorenzo de Tormes",
           1028.796
          ],
          [
           "San Martín de la Vega del Alberche",
           1510.816
          ],
          [
           "San Martín del Pimpollar",
           1336.265
          ],
          [
           "San Miguel de Corneja",
           1063.416
          ],
          [
           "San Miguel de Serrezuela",
           1094.398
          ],
          [
           "San Pascual",
           883.3102
          ],
          [
           "San Pedro del Arroyo",
           938.8323
          ],
          [
           "Santa Cruz del Valle",
           733.2361
          ],
          [
           "Santa Cruz de Pinares",
           1004.647
          ],
          [
           "Santa María del Arroyo",
           1130.864
          ],
          [
           "Santa María del Berrocal",
           1051.094
          ],
          [
           "Santa María de los Caballeros",
           1041.178
          ],
          [
           "Santa María del Tiétar",
           695.9569
          ],
          [
           "Santiago del Collado",
           1221.392
          ],
          [
           "Santo Domingo de las Posadas",
           928.1381
          ],
          [
           "Santo Tomé de Zabarcos",
           958.0378
          ],
          [
           "San Vicente de Arévalo",
           877.5375
          ],
          [
           "Serrada, La",
           null
          ],
          [
           "Serranillos",
           1222.104
          ],
          [
           "Sigeres",
           962.441
          ],
          [
           "Sinlabajos",
           826.5585
          ],
          [
           "Solana de Ávila",
           1148.975
          ],
          [
           "Solana de Rioalmar",
           1122.234
          ],
          [
           "Solosancho",
           1120.799
          ],
          [
           "Sotalbo",
           1159.905
          ],
          [
           "Sotillo de la Adrada",
           643.7815
          ],
          [
           "Tiemblo, El",
           null
          ],
          [
           "Tiñosillos",
           872.8295
          ],
          [
           "Tolbaños",
           1112.758
          ],
          [
           "Tormellas",
           1063.159
          ],
          [
           "Tornadizos de Ávila",
           1197.256
          ],
          [
           "Tórtoles",
           1242.698
          ],
          [
           "Torre, La",
           null
          ],
          [
           "Umbrías",
           1102.692
          ],
          [
           "Vadillo de la Sierra",
           1347.321
          ],
          [
           "Valdecasa",
           1367.423
          ],
          [
           "Vega de Santa María",
           946.2527
          ],
          [
           "Velayos",
           937.4861
          ],
          [
           "Villaflor",
           981.3378
          ],
          [
           "Villafranca de la Sierra",
           1105.417
          ],
          [
           "Villanueva de Gómez",
           888.3561
          ],
          [
           "Villanueva del Aceral",
           846.7498
          ],
          [
           "Villanueva del Campillo",
           1446.368
          ],
          [
           "Villar de Corneja",
           998.0105
          ],
          [
           "Villarejo del Valle",
           830.5555
          ],
          [
           "Villatoro",
           1195.601
          ],
          [
           "Viñegra de Moraña",
           907.2875
          ],
          [
           "Vita",
           991.2439
          ],
          [
           "Zapardiel de la Cañada",
           1143.392
          ],
          [
           "Zapardiel de la Ribera",
           1356.206
          ],
          [
           "San Juan de Gredos",
           1530.967
          ],
          [
           "Santa María del Cubillo",
           1212.193
          ],
          [
           "Diego del Carpio",
           1018.423
          ],
          [
           "Santiago del Tormes",
           1539.357
          ],
          [
           "Villanueva de Ávila",
           1060.641
          ],
          [
           "Acedera",
           308.0381
          ],
          [
           "Aceuchal",
           307
          ],
          [
           "Ahillones",
           579.7605
          ],
          [
           "Alange",
           322.5832
          ],
          [
           "Albuera, La",
           null
          ],
          [
           "Alburquerque",
           442.164
          ],
          [
           "Alconchel",
           284.3204
          ],
          [
           "Alconera",
           518.1642
          ],
          [
           "Aljucén",
           249.3199
          ],
          [
           "Almendral",
           329.3619
          ],
          [
           "Almendralejo",
           336.7314
          ],
          [
           "Arroyo de San Serván",
           225.0338
          ],
          [
           "Atalaya",
           503.989
          ],
          [
           "Azuaga",
           588.9749
          ],
          [
           "Badajoz",
           192.0375
          ],
          [
           "Barcarrota",
           488.5576
          ],
          [
           "Baterno",
           561.4879
          ],
          [
           "Benquerencia de la Serena",
           668.4374
          ],
          [
           "Berlanga",
           567.5744
          ],
          [
           "Bienvenida",
           610.3852
          ],
          [
           "Bodonal de la Sierra",
           611.0769
          ],
          [
           "Burguillos del Cerro",
           404.4514
          ],
          [
           "Cabeza del Buey",
           536.211
          ],
          [
           "Cabeza la Vaca",
           759.3353
          ],
          [
           "Calamonte",
           225.6309
          ],
          [
           "Calera de León",
           698.5616
          ],
          [
           "Calzadilla de los Barros",
           560.012
          ],
          [
           "Campanario",
           399.8418
          ],
          [
           "Campillo de Llerena",
           499.8665
          ],
          [
           "Capilla",
           494.1088
          ],
          [
           "Carmonita",
           380.518
          ],
          [
           "Carrascalejo, El",
           null
          ],
          [
           "Casas de Don Pedro",
           386.5399
          ],
          [
           "Casas de Reina",
           633.2156
          ],
          [
           "Castilblanco",
           503.2614
          ],
          [
           "Castuera",
           507.8511
          ],
          [
           "Codosera, La",
           null
          ],
          [
           "Cordobilla de Lácara",
           304.6748
          ],
          [
           "Coronada, La",
           null
          ],
          [
           "Corte de Peleas",
           242.0632
          ],
          [
           "Cristina",
           292.6012
          ],
          [
           "Cheles",
           196.9729
          ],
          [
           "Don Álvaro",
           261.4249
          ],
          [
           "Don Benito",
           286.0323
          ],
          [
           "Entrín Bajo",
           243.4635
          ],
          [
           "Esparragalejo",
           221.896
          ],
          [
           "Esparragosa de la Serena",
           454.5637
          ],
          [
           "Esparragosa de Lares",
           471.0262
          ],
          [
           "Feria",
           558.8891
          ],
          [
           "Fregenal de la Sierra",
           563.0306
          ],
          [
           "Fuenlabrada de los Montes",
           544.9579
          ],
          [
           "Fuente de Cantos",
           583.8423
          ],
          [
           "Fuente del Arco",
           698.8098
          ],
          [
           "Fuente del Maestre",
           445.575
          ],
          [
           "Fuentes de León",
           759.8053
          ],
          [
           "Garbayuela",
           487.4009
          ],
          [
           "Garlitos",
           538.7179
          ],
          [
           "Garrovilla, La",
           null
          ],
          [
           "Granja de Torrehermosa",
           590.6907
          ],
          [
           "Guareña",
           285.5005
          ],
          [
           "Haba, La",
           null
          ],
          [
           "Helechosa de los Montes",
           441.6037
          ],
          [
           "Herrera del Duque",
           459.3652
          ],
          [
           "Higuera de la Serena",
           476.8962
          ],
          [
           "Higuera de Llerena",
           517.9836
          ],
          [
           "Higuera de Vargas",
           361.537
          ],
          [
           "Higuera la Real",
           623.5339
          ],
          [
           "Hinojosa del Valle",
           441.5001
          ],
          [
           "Hornachos",
           484.8826
          ],
          [
           "Jerez de los Caballeros",
           486.1686
          ],
          [
           "Lapa, La",
           null
          ],
          [
           "Lobón",
           242.9643
          ],
          [
           "Llera",
           488.1218
          ],
          [
           "Llerena",
           644.6722
          ],
          [
           "Magacela",
           473.8124
          ],
          [
           "Maguilla",
           527.6955
          ],
          [
           "Malcocinado",
           625.1129
          ],
          [
           "Malpartida de la Serena",
           483.3142
          ],
          [
           "Manchita",
           335.4408
          ],
          [
           "Medellín",
           250.0114
          ],
          [
           "Medina de las Torres",
           526.7921
          ],
          [
           "Mengabril",
           253
          ],
          [
           "Mérida",
           227.433
          ],
          [
           "Mirandilla",
           294.3425
          ],
          [
           "Monesterio",
           754.8566
          ],
          [
           "Montemolín",
           617.7222
          ],
          [
           "Monterrubio de la Serena",
           553.7913
          ],
          [
           "Montijo",
           203.0528
          ],
          [
           "Morera, La",
           null
          ],
          [
           "Nava de Santiago, La",
           null
          ],
          [
           "Navalvillar de Pela",
           349.6248
          ],
          [
           "Nogales",
           372.3395
          ],
          [
           "Oliva de la Frontera",
           376.0301
          ],
          [
           "Oliva de Mérida",
           322.3082
          ],
          [
           "Olivenza",
           258.1104
          ],
          [
           "Orellana de la Sierra",
           398.1514
          ],
          [
           "Orellana la Vieja",
           359.3995
          ],
          [
           "Palomas",
           322.4935
          ],
          [
           "Parra, La",
           null
          ],
          [
           "Peñalsordo",
           431.0298
          ],
          [
           "Peraleda del Zaucejo",
           542.9088
          ],
          [
           "Puebla de Alcocer",
           534.4778
          ],
          [
           "Puebla de la Calzada",
           191.7965
          ],
          [
           "Puebla de la Reina",
           375.599
          ],
          [
           "Puebla del Maestre",
           554.0134
          ],
          [
           "Puebla del Prior",
           381.7524
          ],
          [
           "Puebla de Obando",
           380.0834
          ],
          [
           "Puebla de Sancho Pérez",
           522.9659
          ],
          [
           "Quintana de la Serena",
           409.9685
          ],
          [
           "Reina",
           717.8853
          ],
          [
           "Rena",
           261.9456
          ],
          [
           "Retamal de Llerena",
           464.8723
          ],
          [
           "Ribera del Fresno",
           398.8069
          ],
          [
           "Risco",
           493.8158
          ],
          [
           "Roca de la Sierra, La",
           null
          ],
          [
           "Salvaleón",
           529.4485
          ],
          [
           "Salvatierra de los Barros",
           625.0818
          ],
          [
           "Sancti-Spíritus",
           760.9977
          ],
          [
           "Sancti-Spíritus",
           486.562
          ],
          [
           "San Pedro de Mérida",
           281.0936
          ],
          [
           "Santa Amalia",
           255.474
          ],
          [
           "Santa Marta",
           345.2148
          ],
          [
           "Santos de Maimona, Los",
           null
          ],
          [
           "San Vicente de Alcántara",
           502.4301
          ],
          [
           "Segura de León",
           681.7979
          ],
          [
           "Siruela",
           512.6407
          ],
          [
           "Solana de los Barros",
           266.4142
          ],
          [
           "Talarrubias",
           439.8815
          ],
          [
           "Talavera la Real",
           187.5183
          ],
          [
           "Táliga",
           304.307
          ],
          [
           "Tamurejo",
           546.1544
          ],
          [
           "Torre de Miguel Sesmero",
           323.1891
          ],
          [
           "Torremayor",
           195.9215
          ],
          [
           "Torremejía",
           291.6581
          ],
          [
           "Trasierra",
           700.4008
          ],
          [
           "Trujillanos",
           257.3852
          ],
          [
           "Usagre",
           561.4595
          ],
          [
           "Valdecaballeros",
           383.3043
          ],
          [
           "Valdetorres",
           244.8665
          ],
          [
           "Valencia de las Torres",
           514.027
          ],
          [
           "Valencia del Mombuey",
           295.6457
          ],
          [
           "Valencia del Ventoso",
           496.0627
          ],
          [
           "Valverde de Burguillos",
           412.0819
          ],
          [
           "Valverde de Leganés",
           291.0059
          ],
          [
           "Valverde de Llerena",
           575.8016
          ],
          [
           "Valverde de Mérida",
           271.6688
          ],
          [
           "Valle de la Serena",
           429.2383
          ],
          [
           "Valle de Matamoros",
           588.3872
          ],
          [
           "Valle de Santa Ana",
           492.5686
          ],
          [
           "Villafranca de los Barros",
           424.6475
          ],
          [
           "Villagarcía de la Torre",
           592.4898
          ],
          [
           "Villagonzalo",
           238.0459
          ],
          [
           "Villalba de los Barros",
           310.169
          ],
          [
           "Villanueva de la Serena",
           298.9061
          ],
          [
           "Villanueva del Fresno",
           255.68
          ],
          [
           "Villar del Rey",
           247.6167
          ],
          [
           "Villar de Rena",
           268.562
          ],
          [
           "Villarta de los Montes",
           546.1343
          ],
          [
           "Zafra",
           517.2546
          ],
          [
           "Zahínos",
           345.8639
          ],
          [
           "Zalamea de la Serena",
           482.5517
          ],
          [
           "Zarza-Capilla",
           533.903
          ],
          [
           "Zarza, La",
           null
          ],
          [
           "Valdelacalzada",
           184.8226
          ],
          [
           "Pueblonuevo del Guadiana",
           181.9205
          ],
          [
           "Guadiana",
           null
          ],
          [
           "Alaró",
           224.2227
          ],
          [
           "Alaior",
           114
          ],
          [
           "Alcúdia",
           15.67431
          ],
          [
           "Algaida",
           193.2809
          ],
          [
           "Andratx",
           60.20264
          ],
          [
           "Artà",
           130.6105
          ],
          [
           "Banyalbufar",
           109.7573
          ],
          [
           "Binissalem",
           129.6953
          ],
          [
           "Búger",
           93.89581
          ],
          [
           "Bunyola",
           216.3141
          ],
          [
           "Calvià",
           114.0867
          ],
          [
           "Campanet",
           127.2656
          ],
          [
           "Campos",
           22.76925
          ],
          [
           "Capdepera",
           117.9911
          ],
          [
           "Ciutadella de Menorca",
           26.66946
          ],
          [
           "Consell",
           148.8572
          ],
          [
           "Costitx",
           135.5031
          ],
          [
           "Deià",
           null
          ],
          [
           "Escorca",
           690.5303
          ],
          [
           "Esporles",
           187.8363
          ],
          [
           "Estellencs",
           151.0275
          ],
          [
           "Felanitx",
           116.2949
          ],
          [
           "Ferreries",
           74.94495
          ],
          [
           "Formentera",
           21.56246
          ],
          [
           "Fornalutx",
           148.4023
          ],
          [
           "Eivissa",
           9.813921
          ],
          [
           "Inca",
           116.5367
          ],
          [
           "Lloret de Vistalegre",
           159.5069
          ],
          [
           "Lloseta",
           166.5043
          ],
          [
           "Llubí",
           69.92153
          ],
          [
           "Llucmajor",
           138.0817
          ],
          [
           "Maó",
           39.57444
          ],
          [
           "Manacor",
           75.37592
          ],
          [
           "Mancor de la Vall",
           205.7321
          ],
          [
           "Maria de la Salut",
           86.95065
          ],
          [
           "Marratxí",
           125.666
          ],
          [
           "Mercadal, Es",
           null
          ],
          [
           "Montuïri",
           152.9209
          ],
          [
           "Muro",
           62.19497
          ],
          [
           "Palma",
           31.92724
          ],
          [
           "Petra",
           112.8493
          ],
          [
           "Pollença",
           49.42315
          ],
          [
           "Porreres",
           130.0504
          ],
          [
           "Pobla, Sa",
           null
          ],
          [
           "Puigpunyent",
           221.9999
          ],
          [
           "Sant Antoni de Portmany",
           4.347667
          ],
          [
           "Sencelles",
           117.951
          ],
          [
           "Sant Josep de sa Talaia",
           201.3573
          ],
          [
           "Sant Joan",
           138.863
          ],
          [
           "Sant Joan de Labritja",
           189.9139
          ],
          [
           "Sant Llorenç des Cardassar",
           73.45789
          ],
          [
           "Sant Lluís",
           59.16509
          ],
          [
           "Santa Eugènia",
           130.224
          ],
          [
           "Santa Eulària des Riu",
           null
          ],
          [
           "Santa Margalida",
           80.91718
          ],
          [
           "Santa María del Camí",
           128.8374
          ],
          [
           "Santanyí",
           62.64299
          ],
          [
           "Selva",
           193.6428
          ],
          [
           "Salines, Ses",
           null
          ],
          [
           "Sineu",
           141.6883
          ],
          [
           "Sóller",
           42.06099
          ],
          [
           "Son Servera",
           73.98268
          ],
          [
           "Valldemossa",
           415.1554
          ],
          [
           "Castell, Es",
           null
          ],
          [
           "Vilafranca de Bonany",
           98.93115
          ],
          [
           "Ariany",
           122.6419
          ],
          [
           "Migjorn Gran, Es",
           null
          ],
          [
           "Abrera",
           109.4215
          ],
          [
           "Aguilar de Segarra",
           485.7191
          ],
          [
           "Alella",
           98.87153
          ],
          [
           "Alpens",
           871.324
          ],
          [
           "Ametlla del Vallès, L'",
           null
          ],
          [
           "Arenys de Mar",
           13.99495
          ],
          [
           "Arenys de Munt",
           135.549
          ],
          [
           "Argençola",
           713.9279
          ],
          [
           "Argentona",
           92.69514
          ],
          [
           "Artés",
           318.0594
          ],
          [
           "Avià",
           666.2902
          ],
          [
           "Avinyó",
           358.056
          ],
          [
           "Avinyonet del Penedès",
           283.9233
          ],
          [
           "Aiguafreda",
           410.6152
          ],
          [
           "Badalona",
           16.7426
          ],
          [
           "Bagà",
           756.5488
          ],
          [
           "Balenyà",
           593.3597
          ],
          [
           "Balsareny",
           332.1174
          ],
          [
           "Barcelona",
           19.99069
          ],
          [
           "Begues",
           371.5191
          ],
          [
           "Bellprat",
           644.4128
          ],
          [
           "Berga",
           717.4442
          ],
          [
           "Bigues i Riells del Fai",
           null
          ],
          [
           "Borredà",
           854.1898
          ],
          [
           "Bruc, El",
           null
          ],
          [
           "Brull, El",
           null
          ],
          [
           "Cabanyes, Les",
           null
          ],
          [
           "Cabrera d'Anoia",
           298.3023
          ],
          [
           "Cabrera de Mar",
           91.71696
          ],
          [
           "Cabrils",
           143.7525
          ],
          [
           "Calaf",
           682.8802
          ],
          [
           "Caldes d'Estrac",
           26.84373
          ],
          [
           "Caldes de Montbui",
           207.0234
          ],
          [
           "Calders",
           553.9763
          ],
          [
           "Calella",
           11.84439
          ],
          [
           "Calonge de Segarra",
           600.3174
          ],
          [
           "Calldetenes",
           492.9868
          ],
          [
           "Callús",
           259.3951
          ],
          [
           "Campins",
           326.2226
          ],
          [
           "Canet de Mar",
           20.65502
          ],
          [
           "Canovelles",
           152.383
          ],
          [
           "Cànoves i Samalús",
           353.0184
          ],
          [
           "Canyelles",
           141.6833
          ],
          [
           "Capellades",
           371.6293
          ],
          [
           "Capolat",
           1256.905
          ],
          [
           "Cardedeu",
           195.9439
          ],
          [
           "Cardona",
           513.4745
          ],
          [
           "Carme",
           333.2925
          ],
          [
           "Casserres",
           589.9404
          ],
          [
           "Castellar del Riu",
           1513.436
          ],
          [
           "Castellar del Vallès",
           326.716
          ],
          [
           "Castellar de n'Hug",
           1395.379
          ],
          [
           "Castellbell i el Vilar",
           204.0168
          ],
          [
           "Castellbisbal",
           155.6016
          ],
          [
           "Castellcir",
           777.0593
          ],
          [
           "Castelldefels",
           11.07469
          ],
          [
           "Castell de l'Areny",
           968.3701
          ],
          [
           "Castellet i la Gornal",
           136.4205
          ],
          [
           "Castellfollit del Boix",
           698.686
          ],
          [
           "Castellfollit de Riubregós",
           490.0403
          ],
          [
           "Castellgalí",
           253.3427
          ],
          [
           "Castellnou de Bages",
           495.1176
          ],
          [
           "Castellolí",
           398.4724
          ],
          [
           "Castellterçol",
           726.6985
          ],
          [
           "Castellví de la Marca",
           245.9974
          ],
          [
           "Castellví de Rosanes",
           180.9096
          ],
          [
           "Centelles",
           520.1739
          ],
          [
           "Cervelló",
           124.1015
          ],
          [
           "Collbató",
           356.3489
          ],
          [
           "Collsuspina",
           903.0676
          ],
          [
           "Copons",
           427.6519
          ],
          [
           "Corbera de Llobregat",
           247.6125
          ],
          [
           "Cornellà de Llobregat",
           34.61025
          ],
          [
           "Cubelles",
           17.76687
          ],
          [
           "Dosrius",
           145.7481
          ],
          [
           "Esparreguera",
           186.3232
          ],
          [
           "Esplugues de Llobregat",
           102.3782
          ],
          [
           "Espunyola, L'",
           null
          ],
          [
           "Estany, L'",
           null
          ],
          [
           "Fígols",
           1165.989
          ],
          [
           "Fogars de Montclús",
           387.6345
          ],
          [
           "Fogars de la Selva",
           103.0012
          ],
          [
           "Folgueroles",
           549.4312
          ],
          [
           "Fonollosa",
           543.1286
          ],
          [
           "Font-rubí",
           570.7221
          ],
          [
           "Franqueses del Vallès, Les",
           null
          ],
          [
           "Gallifa",
           499.525
          ],
          [
           "Garriga, La",
           null
          ],
          [
           "Gavà",
           17.60962
          ],
          [
           "Gaià",
           476.878
          ],
          [
           "Gelida",
           179.6132
          ],
          [
           "Gironella",
           448.126
          ],
          [
           "Gisclareny",
           1322.767
          ],
          [
           "Granada, La",
           null
          ],
          [
           "Granera",
           770.4465
          ],
          [
           "Granollers",
           153.9423
          ],
          [
           "Gualba",
           179.8176
          ],
          [
           "Sant Salvador de Guardiola",
           328.5852
          ],
          [
           "Guardiola de Berguedà",
           736.9873
          ],
          [
           "Gurb",
           510.7029
          ],
          [
           "Hospitalet de Llobregat, L'",
           null
          ],
          [
           "Igualada",
           324.2647
          ],
          [
           "Jorba",
           392.2477
          ],
          [
           "Llacuna, La",
           null
          ],
          [
           "Llagosta, La",
           null
          ],
          [
           "Llinars del Vallès",
           188.906
          ],
          [
           "Lliçà d'Amunt",
           130.7585
          ],
          [
           "Lliçà de Vall",
           116.4834
          ],
          [
           "Lluçà",
           751.5039
          ],
          [
           "Malgrat de Mar",
           9.097663
          ],
          [
           "Malla",
           575.686
          ],
          [
           "Manlleu",
           453.0776
          ],
          [
           "Manresa",
           236.034
          ],
          [
           "Martorell",
           66.23137
          ],
          [
           "Martorelles",
           115.5095
          ],
          [
           "Masies de Roda, Les",
           null
          ],
          [
           "Masies de Voltregà, Les",
           null
          ],
          [
           "Masnou, El",
           null
          ],
          [
           "Masquefa",
           258.067
          ],
          [
           "Matadepera",
           421.1513
          ],
          [
           "Mataró",
           20.37009
          ],
          [
           "Mediona",
           526.9124
          ],
          [
           "Molins de Rei",
           33.16643
          ],
          [
           "Mollet del Vallès",
           74.09034
          ],
          [
           "Montcada i Reixac",
           37.0056
          ],
          [
           "Montgat",
           22.97567
          ],
          [
           "Monistrol de Montserrat",
           168.2423
          ],
          [
           "Monistrol de Calders",
           452.798
          ],
          [
           "Muntanyola",
           802.8712
          ],
          [
           "Montclar",
           699.5048
          ],
          [
           "Montesquiu",
           575.4601
          ],
          [
           "Montmajor",
           757.0117
          ],
          [
           "Montmaneu",
           714.0361
          ],
          [
           "Figaró-Montmany",
           326.0451
          ],
          [
           "Montmeló",
           84.53434
          ],
          [
           "Montornès del Vallès",
           100.0693
          ],
          [
           "Montseny",
           535.3168
          ],
          [
           "Moià",
           730.1093
          ],
          [
           "Mura",
           470.6466
          ],
          [
           "Navarcles",
           255.0479
          ],
          [
           "Navàs",
           371.9668
          ],
          [
           "Nou de Berguedà, La",
           null
          ],
          [
           "Òdena",
           404.7818
          ],
          [
           "Olvan",
           566.9895
          ],
          [
           "Olèrdola",
           179.9567
          ],
          [
           "Olesa de Bonesvalls",
           273.3946
          ],
          [
           "Olesa de Montserrat",
           105.909
          ],
          [
           "Olivella",
           207.4666
          ],
          [
           "Olost",
           572.0165
          ],
          [
           "Orís",
           570.6917
          ],
          [
           "Oristà",
           467.3857
          ],
          [
           "Orpí",
           482.553
          ],
          [
           "Òrrius",
           254.5491
          ],
          [
           "Pacs del Penedès",
           210.873
          ],
          [
           "Palafolls",
           10.6715
          ],
          [
           "Palau-solità i Plegamans",
           137.2143
          ],
          [
           "Pallejà",
           43.74018
          ],
          [
           "Papiol, El",
           null
          ],
          [
           "Parets del Vallès",
           97.48323
          ],
          [
           "Perafita",
           753.5203
          ],
          [
           "Piera",
           282.576
          ],
          [
           "Hostalets de Pierola, Els",
           null
          ],
          [
           "Pineda de Mar",
           12.10963
          ],
          [
           "Pla del Penedès, El",
           null
          ],
          [
           "Pobla de Claramunt, La",
           null
          ],
          [
           "Pobla de Lillet, La",
           null
          ],
          [
           "Polinyà",
           129.1282
          ],
          [
           "Pontons",
           588.9841
          ],
          [
           "Prat de Llobregat, El",
           null
          ],
          [
           "Prats de Rei, Els",
           null
          ],
          [
           "Prats de Lluçanès",
           709.0973
          ],
          [
           "Premià de Mar",
           13.17984
          ],
          [
           "Puigdàlber",
           239.9502
          ],
          [
           "Puig-reig",
           444.6947
          ],
          [
           "Pujalt",
           749.2104
          ],
          [
           "Quar, La",
           null
          ],
          [
           "Rajadell",
           343.1941
          ],
          [
           "Rellinars",
           344.744
          ],
          [
           "Ripollet",
           81.84142
          ],
          [
           "Roca del Vallès, La",
           null
          ],
          [
           "Pont de Vilomara i Rocafort, El",
           null
          ],
          [
           "Roda de Ter",
           454.8112
          ],
          [
           "Rubí",
           133.4794
          ],
          [
           "Rubió",
           600.4712
          ],
          [
           "Sabadell",
           198.7852
          ],
          [
           "Sagàs",
           712.4318
          ],
          [
           "Sant Pere Sallavinera",
           587.7723
          ],
          [
           "Saldes",
           1233.967
          ],
          [
           "Sallent",
           279.7943
          ],
          [
           "Santpedor",
           324.6286
          ],
          [
           "Sant Iscle de Vallalta",
           127
          ],
          [
           "Sant Adrià de Besòs",
           18.77083
          ],
          [
           "Sant Agustí de Lluçanès",
           831.834
          ],
          [
           "Sant Andreu de la Barca",
           48.89596
          ],
          [
           "Sant Andreu de Llavaneres",
           112.0381
          ],
          [
           "Sant Antoni de Vilamajor",
           260.0836
          ],
          [
           "Sant Bartomeu del Grau",
           877.1983
          ],
          [
           "Sant Boi de Llobregat",
           22.73825
          ],
          [
           "Sant Boi de Lluçanès",
           807
          ],
          [
           "Sant Celoni",
           157.3233
          ],
          [
           "Sant Cebrià de Vallalta",
           77.32714
          ],
          [
           "Sant Climent de Llobregat",
           80.42606
          ],
          [
           "Sant Cugat del Vallès",
           130.2749
          ],
          [
           "Sant Cugat Sesgarrigues",
           269.0334
          ],
          [
           "Sant Esteve de Palautordera",
           237.4874
          ],
          [
           "Sant Esteve Sesrovires",
           178.7557
          ],
          [
           "Sant Fost de Campsentelles",
           112.3262
          ],
          [
           "Sant Feliu de Codines",
           486.7332
          ],
          [
           "Sant Feliu de Llobregat",
           31.72373
          ],
          [
           "Sant Feliu Sasserra",
           617.3484
          ],
          [
           "Sant Fruitós de Bages",
           261.4637
          ],
          [
           "Vilassar de Dalt",
           133.6058
          ],
          [
           "Sant Hipòlit de Voltregà",
           531.1494
          ],
          [
           "Sant Jaume de Frontanyà",
           1074.112
          ],
          [
           "Sant Joan Despí",
           20.53358
          ],
          [
           "Sant Joan de Vilatorrada",
           228.8402
          ],
          [
           "Vilassar de Mar",
           10.80674
          ],
          [
           "Sant Julià de Vilatorta",
           599.2924
          ],
          [
           "Sant Just Desvern",
           122.1042
          ],
          [
           "Sant Llorenç d'Hortons",
           216.0685
          ],
          [
           "Sant Llorenç Savall",
           487.5616
          ],
          [
           "Sant Martí de Centelles",
           724.98
          ],
          [
           "Sant Martí d'Albars",
           628.8278
          ],
          [
           "Sant Martí de Tous",
           444.6292
          ],
          [
           "Sant Martí Sarroca",
           296.2319
          ],
          [
           "Sant Martí Sesgueioles",
           646.0749
          ],
          [
           "Sant Mateu de Bages",
           572.9196
          ],
          [
           "Premià de Dalt",
           133.3237
          ],
          [
           "Sant Pere de Ribes",
           45.06723
          ],
          [
           "Sant Pere de Riudebitlles",
           252.1739
          ],
          [
           "Sant Pere de Torelló",
           621.7791
          ],
          [
           "Sant Pere de Vilamajor",
           298.7486
          ],
          [
           "Sant Pol de Mar",
           13.29345
          ],
          [
           "Sant Quintí de Mediona",
           333.5246
          ],
          [
           "Sant Quirze de Besora",
           572.5922
          ],
          [
           "Sant Quirze del Vallès",
           165.9138
          ],
          [
           "Sant Quirze Safaja",
           603.6134
          ],
          [
           "Sant Sadurní d'Anoia",
           168.4416
          ],
          [
           "Sant Sadurní d'Osormort",
           533.9646
          ],
          [
           "Marganell",
           313.6546
          ],
          [
           "Santa Cecília de Voltregà",
           522.2773
          ],
          [
           "Santa Coloma de Cervelló",
           76.92886
          ],
          [
           "Santa Coloma de Gramenet",
           37.66038
          ],
          [
           "Santa Eugènia de Berga",
           536.6241
          ],
          [
           "Santa Eulàlia de Riuprimer",
           575.5924
          ],
          [
           "Santa Eulàlia de Ronçana",
           221.9401
          ],
          [
           "Santa Fe del Penedès",
           239.9169
          ],
          [
           "Santa Margarida de Montbui",
           388.9097
          ],
          [
           "Santa Margarida i els Monjos",
           171.3222
          ],
          [
           "Barberà del Vallès",
           142.2961
          ],
          [
           "Santa Maria de Besora",
           871.7925
          ],
          [
           "Esquirol, L'",
           null
          ],
          [
           "Santa Maria de Merlès",
           518.8036
          ],
          [
           "Santa Maria de Martorelles",
           178.528
          ],
          [
           "Santa Maria de Miralles",
           553.0007
          ],
          [
           "Santa Maria d'Oló",
           515.0869
          ],
          [
           "Santa Maria de Palautordera",
           211.9186
          ],
          [
           "Santa Perpètua de Mogoda",
           81.15939
          ],
          [
           "Santa Susanna",
           50.67278
          ],
          [
           "Sant Vicenç de Castellet",
           175.3337
          ],
          [
           "Sant Vicenç dels Horts",
           32.74398
          ],
          [
           "Sant Vicenç de Montalt",
           177.863
          ],
          [
           "Sant Vicenç de Torelló",
           558.8644
          ],
          [
           "Cerdanyola del Vallès",
           87.2362
          ],
          [
           "Sentmenat",
           229.8691
          ],
          [
           "Cercs",
           749.4134
          ],
          [
           "Seva",
           672.0496
          ],
          [
           "Sitges",
           9.967733
          ],
          [
           "Sobremunt",
           881.4683
          ],
          [
           "Sora",
           695.3496
          ],
          [
           "Subirats",
           274.2937
          ],
          [
           "Súria",
           284.714
          ],
          [
           "Tavèrnoles",
           529.109
          ],
          [
           "Tagamanent",
           348.8652
          ],
          [
           "Talamanca",
           553.4589
          ],
          [
           "Taradell",
           633.068
          ],
          [
           "Terrassa",
           285.6018
          ],
          [
           "Tavertet",
           868.5259
          ],
          [
           "Teià",
           117.6808
          ],
          [
           "Tiana",
           124.7599
          ],
          [
           "Tona",
           602.5104
          ],
          [
           "Tordera",
           31.37682
          ],
          [
           "Torelló",
           507.7611
          ],
          [
           "Torre de Claramunt, La",
           null
          ],
          [
           "Torrelavit",
           201.7227
          ],
          [
           "Torrelles de Foix",
           380.5124
          ],
          [
           "Torrelles de Llobregat",
           154.783
          ],
          [
           "Ullastrell",
           314.4088
          ],
          [
           "Vacarisses",
           406.7665
          ],
          [
           "Vallbona d'Anoia",
           297.2954
          ],
          [
           "Vallcebre",
           1127.919
          ],
          [
           "Vallgorguina",
           223.2106
          ],
          [
           "Vallirana",
           184.8448
          ],
          [
           "Vallromanes",
           155.1461
          ],
          [
           "Veciana",
           556.9959
          ],
          [
           "Vic",
           505.4679
          ],
          [
           "Vilada",
           724.7032
          ],
          [
           "Viladecavalls",
           265.7476
          ],
          [
           "Viladecans",
           19.77518
          ],
          [
           "Vilanova del Camí",
           313.7972
          ],
          [
           "Vilanova de Sau",
           557.92
          ],
          [
           "Vilobí del Penedès",
           284.1465
          ],
          [
           "Vilafranca del Penedès",
           230.5926
          ],
          [
           "Vilalba Sasserra",
           221.1936
          ],
          [
           "Vilanova i la Geltrú",
           25.03975
          ],
          [
           "Viver i Serrateix",
           724.3826
          ],
          [
           "Rupit i Pruit",
           843.8084
          ],
          [
           "Vilanova del Vallès",
           92.16563
          ],
          [
           "Sant Julià de Cerdanyola",
           967.7538
          ],
          [
           "Badia del Vallès",
           122.4438
          ],
          [
           "Palma de Cervelló, La",
           null
          ],
          [
           "Abajas",
           837.949
          ],
          [
           "Adrada de Haza",
           824.687
          ],
          [
           "Aguas Cándidas",
           712.041
          ],
          [
           "Aguilar de Bureba",
           689.226
          ],
          [
           "Albillos",
           832.9681
          ],
          [
           "Alcocero de Mola",
           799.6028
          ],
          [
           "Alfoz de Bricia",
           847.3563
          ],
          [
           "Alfoz de Santa Gadea",
           882.3184
          ],
          [
           "Altable",
           711.29
          ],
          [
           "Altos, Los",
           null
          ],
          [
           "Ameyugo",
           553.5253
          ],
          [
           "Anguix",
           814.4943
          ],
          [
           "Aranda de Duero",
           805.1658
          ],
          [
           "Arandilla",
           885.0873
          ],
          [
           "Arauzo de Miel",
           1003.22
          ],
          [
           "Arauzo de Salce",
           944.5539
          ],
          [
           "Arauzo de Torre",
           922.907
          ],
          [
           "Arcos",
           851.1382
          ],
          [
           "Arenillas de Riopisuerga",
           788.459
          ],
          [
           "Arija",
           844.3306
          ],
          [
           "Arlanzón",
           995.9109
          ],
          [
           "Arraya de Oca",
           926.2366
          ],
          [
           "Atapuerca",
           953.9974
          ],
          [
           "Ausines, Los",
           null
          ],
          [
           "Avellanosa de Muñó",
           870.7616
          ],
          [
           "Bahabón de Esgueva",
           916.0064
          ],
          [
           "Balbases, Los",
           null
          ],
          [
           "Baños de Valdearados",
           870.1116
          ],
          [
           "Bañuelos de Bureba",
           784.2388
          ],
          [
           "Barbadillo de Herreros",
           1408.983
          ],
          [
           "Barbadillo del Mercado",
           955.1722
          ],
          [
           "Barbadillo del Pez",
           1053.858
          ],
          [
           "Barrio de Muñó",
           782.927
          ],
          [
           "Barrios de Bureba, Los",
           null
          ],
          [
           "Barrios de Colina",
           964.8784
          ],
          [
           "Basconcillos del Tozo",
           910.5488
          ],
          [
           "Bascuñana",
           800.0485
          ],
          [
           "Belbimbre",
           793.7833
          ],
          [
           "Belorado",
           773.8459
          ],
          [
           "Berberana",
           620.4984
          ],
          [
           "Berlangas de Roa",
           781.4107
          ],
          [
           "Berzosa de Bureba",
           679.3917
          ],
          [
           "Bozoó",
           572.3182
          ],
          [
           "Brazacorta",
           909.0886
          ],
          [
           "Briviesca",
           725
          ],
          [
           "Bugedo",
           533.7709
          ],
          [
           "Buniel",
           819.815
          ],
          [
           "Burgos",
           865.8016
          ],
          [
           "Busto de Bureba",
           708.1784
          ],
          [
           "Cabañes de Esgueva",
           885.2454
          ],
          [
           "Cabezón de la Sierra",
           1016.805
          ],
          [
           "Cavia",
           815.5443
          ],
          [
           "Caleruega",
           955.7069
          ],
          [
           "Campillo de Aranda",
           912.9706
          ],
          [
           "Campolara",
           971.9648
          ],
          [
           "Canicosa de la Sierra",
           1130.863
          ],
          [
           "Cantabrana",
           636.0662
          ],
          [
           "Carazo",
           1127.545
          ],
          [
           "Carcedo de Bureba",
           751.9003
          ],
          [
           "Carcedo de Burgos",
           989.6016
          ],
          [
           "Cardeñadijo",
           899.719
          ],
          [
           "Cardeñajimeno",
           924.9677
          ],
          [
           "Cardeñuela Riopico",
           926.5973
          ],
          [
           "Carrias",
           821.5297
          ],
          [
           "Cascajares de Bureba",
           802.5067
          ],
          [
           "Cascajares de la Sierra",
           927.9459
          ],
          [
           "Castellanos de Castro",
           873.9877
          ],
          [
           "Castildelgado",
           768.4348
          ],
          [
           "Castil de Peones",
           790.1807
          ],
          [
           "Castrillo de la Reina",
           978.027
          ],
          [
           "Castrillo de la Vega",
           808.438
          ],
          [
           "Castrillo del Val",
           942.9785
          ],
          [
           "Castrillo de Riopisuerga",
           816.8545
          ],
          [
           "Castrillo Mota de Judíos",
           null
          ],
          [
           "Castrojeriz",
           816.0674
          ],
          [
           "Cayuela",
           821.8987
          ],
          [
           "Cebrecos",
           950.4548
          ],
          [
           "Celada del Camino",
           796.4451
          ],
          [
           "Cerezo de Río Tirón",
           650.4071
          ],
          [
           "Cerratón de Juarros",
           959.26
          ],
          [
           "Ciadoncha",
           789.7081
          ],
          [
           "Cillaperlata",
           540.39
          ],
          [
           "Cilleruelo de Abajo",
           915.1015
          ],
          [
           "Cilleruelo de Arriba",
           966.1483
          ],
          [
           "Ciruelos de Cervera",
           1019.25
          ],
          [
           "Cogollos",
           887.1991
          ],
          [
           "Condado de Treviño",
           561.0759
          ],
          [
           "Contreras",
           1023.346
          ],
          [
           "Coruña del Conde",
           907.8076
          ],
          [
           "Covarrubias",
           895.1803
          ],
          [
           "Cubillo del Campo",
           991.9786
          ],
          [
           "Cubo de Bureba",
           685
          ],
          [
           "Cueva de Roa, La",
           null
          ],
          [
           "Cuevas de San Clemente",
           1030.792
          ],
          [
           "Encío",
           588.3317
          ],
          [
           "Espinosa de Cervera",
           1030.725
          ],
          [
           "Espinosa del Camino",
           894.847
          ],
          [
           "Espinosa de los Monteros",
           753.3468
          ],
          [
           "Estépar",
           810.9069
          ],
          [
           "Fontioso",
           959.9049
          ],
          [
           "Frandovínez",
           823.8157
          ],
          [
           "Fresneda de la Sierra Tirón",
           983.1557
          ],
          [
           "Fresneña",
           843.5111
          ],
          [
           "Fresnillo de las Dueñas",
           803.7737
          ],
          [
           "Fresno de Río Tirón",
           706.4641
          ],
          [
           "Fresno de Rodilla",
           975.9765
          ],
          [
           "Frías",
           552.6826
          ],
          [
           "Fuentebureba",
           679.7742
          ],
          [
           "Fuentecén",
           823.7171
          ],
          [
           "Fuentelcésped",
           891.0616
          ],
          [
           "Fuentelisendo",
           829.7731
          ],
          [
           "Fuentemolinos",
           881.0905
          ],
          [
           "Fuentenebro",
           917.0896
          ],
          [
           "Fuentespina",
           824.6624
          ],
          [
           "Galbarros",
           942.7526
          ],
          [
           "Gallega, La",
           null
          ],
          [
           "Grijalba",
           813.0934
          ],
          [
           "Grisaleña",
           743.1436
          ],
          [
           "Gumiel de Izán",
           857.4003
          ],
          [
           "Gumiel de Mercado",
           836.8545
          ],
          [
           "Hacinas",
           999.0156
          ],
          [
           "Haza",
           902.7407
          ],
          [
           "Hontanas",
           864.0971
          ],
          [
           "Hontangas",
           839.5234
          ],
          [
           "Hontoria de la Cantera",
           942.0605
          ],
          [
           "Hontoria del Pinar",
           1059.013
          ],
          [
           "Hontoria de Valdearados",
           867.0024
          ],
          [
           "Hormazas, Las",
           null
          ],
          [
           "Hornillos del Camino",
           821.6969
          ],
          [
           "Horra, La",
           null
          ],
          [
           "Hortigüela",
           937.3899
          ],
          [
           "Hoyales de Roa",
           795.561
          ],
          [
           "Huérmeces",
           886.0017
          ],
          [
           "Huerta de Arriba",
           1206.336
          ],
          [
           "Huerta de Rey",
           991.6105
          ],
          [
           "Humada",
           954.9947
          ],
          [
           "Hurones",
           915.0182
          ],
          [
           "Ibeas de Juarros",
           932.6844
          ],
          [
           "Ibrillos",
           739.1857
          ],
          [
           "Iglesiarrubia",
           886.8805
          ],
          [
           "Iglesias",
           850.6342
          ],
          [
           "Isar",
           835.423
          ],
          [
           "Itero del Castillo",
           775.8432
          ],
          [
           "Jaramillo de la Fuente",
           1056.931
          ],
          [
           "Jaramillo Quemado",
           975.7737
          ],
          [
           "Junta de Traslaloma",
           674.0426
          ],
          [
           "Junta de Villalba de Losa",
           665.9935
          ],
          [
           "Jurisdicción de Lara",
           991.6866
          ],
          [
           "Jurisdicción de San Zadornil",
           645.5733
          ],
          [
           "Lerma",
           861.3351
          ],
          [
           "Llano de Bureba",
           643.2963
          ],
          [
           "Madrigal del Monte",
           936.2405
          ],
          [
           "Madrigalejo del Monte",
           893.5258
          ],
          [
           "Mahamud",
           829.49
          ],
          [
           "Mambrilla de Castrejón",
           825.6786
          ],
          [
           "Mambrillas de Lara",
           991.4476
          ],
          [
           "Mamolar",
           1087.678
          ],
          [
           "Manciles",
           883.8896
          ],
          [
           "Mazuela",
           823.2963
          ],
          [
           "Mecerreyes",
           988.3194
          ],
          [
           "Medina de Pomar",
           600.9326
          ],
          [
           "Melgar de Fernamental",
           804.4712
          ],
          [
           "Merindad de Cuesta-Urria",
           914.2464
          ],
          [
           "Merindad de Montija",
           739.4695
          ],
          [
           "Merindad de Sotoscueva",
           760.6615
          ],
          [
           "Merindad de Valdeporres",
           754.3774
          ],
          [
           "Merindad de Valdivielso",
           594.3845
          ],
          [
           "Milagros",
           848.9799
          ],
          [
           "Miranda de Ebro",
           465.1602
          ],
          [
           "Miraveche",
           804.4718
          ],
          [
           "Modúbar de la Emparedada",
           887.0018
          ],
          [
           "Monasterio de la Sierra",
           1169.284
          ],
          [
           "Monasterio de Rodilla",
           877.2269
          ],
          [
           "Moncalvillo",
           1049.716
          ],
          [
           "Monterrubio de la Demanda",
           1209.271
          ],
          [
           "Montorio",
           945.1601
          ],
          [
           "Moradillo de Roa",
           919.9839
          ],
          [
           "Nava de Roa",
           785.074
          ],
          [
           "Navas de Bureba",
           764.6017
          ],
          [
           "Nebreda",
           916.8637
          ],
          [
           "Neila",
           1180.486
          ],
          [
           "Olmedillo de Roa",
           840.8633
          ],
          [
           "Olmillos de Muñó",
           807.4762
          ],
          [
           "Oña",
           585.5073
          ],
          [
           "Oquillas",
           913.3432
          ],
          [
           "Orbaneja Riopico",
           911.2252
          ],
          [
           "Padilla de Abajo",
           798.9708
          ],
          [
           "Padilla de Arriba",
           830.7649
          ],
          [
           "Padrones de Bureba",
           781.8212
          ],
          [
           "Palacios de la Sierra",
           1065.092
          ],
          [
           "Palacios de Riopisuerga",
           777.4734
          ],
          [
           "Palazuelos de la Sierra",
           1107.045
          ],
          [
           "Palazuelos de Muñó",
           786.5093
          ],
          [
           "Pampliega",
           807.5865
          ],
          [
           "Pancorbo",
           631.5779
          ],
          [
           "Pardilla",
           883.9958
          ],
          [
           "Partido de la Sierra en Tobalina",
           919.4133
          ],
          [
           "Pedrosa de Duero",
           840.3677
          ],
          [
           "Pedrosa del Páramo",
           943.9882
          ],
          [
           "Pedrosa del Príncipe",
           772.689
          ],
          [
           "Pedrosa de Río Úrbel",
           844.2335
          ],
          [
           "Peñaranda de Duero",
           863.9903
          ],
          [
           "Peral de Arlanza",
           774.4771
          ],
          [
           "Piérnigas",
           742.1521
          ],
          [
           "Pineda de la Sierra",
           1207.499
          ],
          [
           "Pineda Trasmonte",
           951.4017
          ],
          [
           "Pinilla de los Barruecos",
           1078.882
          ],
          [
           "Pinilla de los Moros",
           972.2211
          ],
          [
           "Pinilla Trasmonte",
           935.5198
          ],
          [
           "Poza de la Sal",
           756.3673
          ],
          [
           "Prádanos de Bureba",
           757.1823
          ],
          [
           "Pradoluengo",
           967.4692
          ],
          [
           "Presencio",
           812.668
          ],
          [
           "Puebla de Arganzón, La",
           null
          ],
          [
           "Puentedura",
           863.5676
          ],
          [
           "Quemada",
           845.9969
          ],
          [
           "Quintanabureba",
           685.0708
          ],
          [
           "Quintana del Pidio",
           845.543
          ],
          [
           "Quintanaélez",
           706.2351
          ],
          [
           "Quintanaortuño",
           866.8036
          ],
          [
           "Quintanapalla",
           926.6073
          ],
          [
           "Quintanar de la Sierra",
           1123.957
          ],
          [
           "Quintanavides",
           821.1276
          ],
          [
           "Quintanilla de la Mata",
           879.5328
          ],
          [
           "Quintanilla del Coco",
           944.5446
          ],
          [
           "Quintanillas, Las",
           null
          ],
          [
           "Quintanilla San García",
           728.1328
          ],
          [
           "Quintanilla Vivar",
           847.6979
          ],
          [
           "Rabanera del Pinar",
           1089.831
          ],
          [
           "Rábanos",
           1169.908
          ],
          [
           "Rabé de las Calzadas",
           828.6588
          ],
          [
           "Rebolledo de la Torre",
           946.585
          ],
          [
           "Redecilla del Camino",
           742.664
          ],
          [
           "Redecilla del Campo",
           744.6154
          ],
          [
           "Regumiel de la Sierra",
           1119.525
          ],
          [
           "Reinoso",
           857.253
          ],
          [
           "Retuerta",
           898.2924
          ],
          [
           "Revilla y Ahedo, La",
           null
          ],
          [
           "Revilla del Campo",
           943.8928
          ],
          [
           "Revillarruz",
           887.4633
          ],
          [
           "Revilla Vallejera",
           790.5965
          ],
          [
           "Rezmondo",
           829.0405
          ],
          [
           "Riocavado de la Sierra",
           1138.1
          ],
          [
           "Roa",
           816.1801
          ],
          [
           "Rojas",
           722.4857
          ],
          [
           "Royuela de Río Franco",
           836.2991
          ],
          [
           "Rubena",
           907.232
          ],
          [
           "Rublacedo de Abajo",
           791.6646
          ],
          [
           "Rucandio",
           814.6119
          ],
          [
           "Salas de Bureba",
           636.4282
          ],
          [
           "Salas de los Infantes",
           955.1323
          ],
          [
           "Saldaña de Burgos",
           865.5466
          ],
          [
           "Salinillas de Bureba",
           864.7104
          ],
          [
           "San Adrián de Juarros",
           1046.845
          ],
          [
           "San Juan del Monte",
           840.6755
          ],
          [
           "San Mamés de Burgos",
           839.3281
          ],
          [
           "San Martín de Rubiales",
           807.8439
          ],
          [
           "San Millán de Lara",
           1091.387
          ],
          [
           "Santa Cecilia",
           838.1049
          ],
          [
           "Santa Cruz de la Salceda",
           877.335
          ],
          [
           "Santa Cruz del Valle Urbión",
           966.4688
          ],
          [
           "Santa Gadea del Cid",
           504.1093
          ],
          [
           "Santa Inés",
           855.8006
          ],
          [
           "Santa María del Campo",
           820.0243
          ],
          [
           "Santa María del Invierno",
           856.8571
          ],
          [
           "Santa María del Mercadillo",
           961.0493
          ],
          [
           "Santa María Ribarredonda",
           null
          ],
          [
           "Santa Olalla de Bureba",
           842.1753
          ],
          [
           "Santibáñez de Esgueva",
           916.1117
          ],
          [
           "Santibáñez del Val",
           940.0613
          ],
          [
           "Santo Domingo de Silos",
           1003.193
          ],
          [
           "San Vicente del Valle",
           959.6901
          ],
          [
           "Sargentes de la Lora",
           1016.58
          ],
          [
           "Sarracín",
           861.6798
          ],
          [
           "Sasamón",
           822.8265
          ],
          [
           "Sequera de Haza, La",
           null
          ],
          [
           "Solarana",
           903.6647
          ],
          [
           "Sordillos",
           820.5914
          ],
          [
           "Sotillo de la Ribera",
           846.7383
          ],
          [
           "Sotragero",
           848.6204
          ],
          [
           "Sotresgudo",
           867.8129
          ],
          [
           "Susinos del Páramo",
           891.6351
          ],
          [
           "Tamarón",
           819.7283
          ],
          [
           "Tardajos",
           820.7985
          ],
          [
           "Tejada",
           1088.137
          ],
          [
           "Terradillos de Esgueva",
           871.492
          ],
          [
           "Tinieblas de la Sierra",
           1117.56
          ],
          [
           "Tobar",
           881.2235
          ],
          [
           "Tordómar",
           810.6567
          ],
          [
           "Torrecilla del Monte",
           940.4993
          ],
          [
           "Torregalindo",
           837.1947
          ],
          [
           "Torrelara",
           994.3602
          ],
          [
           "Torrepadre",
           804.0082
          ],
          [
           "Torresandino",
           855.1797
          ],
          [
           "Tórtoles de Esgueva",
           847.5756
          ],
          [
           "Tosantos",
           821.4364
          ],
          [
           "Trespaderne",
           553.7908
          ],
          [
           "Tubilla del Agua",
           765.2631
          ],
          [
           "Tubilla del Lago",
           890.4365
          ],
          [
           "Úrbel del Castillo",
           939.2537
          ],
          [
           "Vadocondes",
           811.2837
          ],
          [
           "Valdeande",
           953.6688
          ],
          [
           "Valdezate",
           819.2969
          ],
          [
           "Valdorros",
           902.2606
          ],
          [
           "Valmala",
           992.0233
          ],
          [
           "Vallarta de Bureba",
           716.6888
          ],
          [
           "Valle de Manzanedo",
           620.3103
          ],
          [
           "Valle de Mena",
           316.4509
          ],
          [
           "Valle de Oca",
           861.2545
          ],
          [
           "Valle de Tobalina",
           551.9635
          ],
          [
           "Valle de Valdebezana",
           837.9944
          ],
          [
           "Valle de Valdelaguna",
           1153.362
          ],
          [
           "Valle de Valdelucio",
           956.92
          ],
          [
           "Valle de Zamanzas",
           732.0581
          ],
          [
           "Vallejera",
           809.662
          ],
          [
           "Valles de Palenzuela",
           800.1052
          ],
          [
           "Valluércanes",
           702.7288
          ],
          [
           "Vid y Barrios, La",
           null
          ],
          [
           "Vid de Bureba, La",
           null
          ],
          [
           "Vileña",
           664.5483
          ],
          [
           "Viloria de Rioja",
           797.8878
          ],
          [
           "Vilviestre del Pinar",
           1125.399
          ],
          [
           "Villadiego",
           839.8806
          ],
          [
           "Villaescusa de Roa",
           897.6312
          ],
          [
           "Villaescusa la Sombría",
           905.8726
          ],
          [
           "Villaespasa",
           960.8056
          ],
          [
           "Villafranca Montes de Oca",
           957.1002
          ],
          [
           "Villafruela",
           909.7965
          ],
          [
           "Villagalijo",
           896.4912
          ],
          [
           "Villagonzalo Pedernales",
           901.259
          ],
          [
           "Villahoz",
           825.1154
          ],
          [
           "Villalba de Duero",
           812.4379
          ],
          [
           "Villalbilla de Burgos",
           840.6373
          ],
          [
           "Villalbilla de Gumiel",
           912.6685
          ],
          [
           "Villaldemiro",
           808.5146
          ],
          [
           "Villalmanzo",
           856.2233
          ],
          [
           "Villamayor de los Montes",
           886.0144
          ],
          [
           "Villamayor de Treviño",
           820.1368
          ],
          [
           "Villambistia",
           853.298
          ],
          [
           "Villamedianilla",
           799.8643
          ],
          [
           "Villamiel de la Sierra",
           1149.774
          ],
          [
           "Villangómez",
           845.0154
          ],
          [
           "Villanueva de Argaño",
           837.6054
          ],
          [
           "Villanueva de Carazo",
           1059.717
          ],
          [
           "Villanueva de Gumiel",
           844.9825
          ],
          [
           "Villanueva de Teba",
           722.023
          ],
          [
           "Villaquirán de la Puebla",
           812.8803
          ],
          [
           "Villaquirán de los Infantes",
           814.3567
          ],
          [
           "Villariezo",
           862.4636
          ],
          [
           "Villasandino",
           792.2771
          ],
          [
           "Villasur de Herreros",
           1030.04
          ],
          [
           "Villatuelda",
           858.7932
          ],
          [
           "Villaverde del Monte",
           848.5208
          ],
          [
           "Villaverde-Mogina",
           773.155
          ],
          [
           "Villayerno Morquillas",
           911.3355
          ],
          [
           "Villazopeque",
           782.1231
          ],
          [
           "Villegas",
           823
          ],
          [
           "Villoruebo",
           1121.721
          ],
          [
           "Vizcaínos",
           1025.813
          ],
          [
           "Zael",
           843.672
          ],
          [
           "Zarzosa de Río Pisuerga",
           821.7172
          ],
          [
           "Zazuar",
           839.9166
          ],
          [
           "Zuñeda",
           719.7062
          ],
          [
           "Quintanilla del Agua y Tordueles",
           886.2692
          ],
          [
           "Valle de Santibáñez",
           956.8112
          ],
          [
           "Villarcayo de Merindad de Castilla la Vieja",
           598.8633
          ],
          [
           "Valle de las Navas",
           880.0316
          ],
          [
           "Valle de Sedano",
           758.8844
          ],
          [
           "Merindad de Río Ubierna",
           965.3793
          ],
          [
           "Alfoz de Quintanadueñas",
           847.4794
          ],
          [
           "Valle de Losa",
           697.9474
          ],
          [
           "Abadía",
           452.6463
          ],
          [
           "Abertura",
           401.0113
          ],
          [
           "Acebo",
           514.3077
          ],
          [
           "Acehúche",
           338.1039
          ],
          [
           "Aceituna",
           484.0965
          ],
          [
           "Ahigal",
           389.4077
          ],
          [
           "Albalá",
           499.4348
          ],
          [
           "Alcántara",
           230.2392
          ],
          [
           "Alcollarín",
           314.6408
          ],
          [
           "Alcuéscar",
           473.301
          ],
          [
           "Aldeacentenera",
           566.658
          ],
          [
           "Aldea del Cano",
           397.4777
          ],
          [
           "Aldea del Obispo, La",
           null
          ],
          [
           "Aldeanueva de la Vera",
           652.1578
          ],
          [
           "Aldeanueva del Camino",
           527.226
          ],
          [
           "Aldehuela de Jerte",
           260.1803
          ],
          [
           "Alía",
           578.4503
          ],
          [
           "Aliseda",
           325.5008
          ],
          [
           "Almaraz",
           272.2951
          ],
          [
           "Almoharín",
           305.6157
          ],
          [
           "Arroyo de la Luz",
           348.1518
          ],
          [
           "Arroyomolinos de la Vera",
           608.2899
          ],
          [
           "Arroyomolinos",
           397.1799
          ],
          [
           "Arroyomolinos",
           597.4142
          ],
          [
           "Baños de Montemayor",
           700.7947
          ],
          [
           "Barrado",
           776.6094
          ],
          [
           "Belvís de Monroy",
           391.3559
          ],
          [
           "Benquerencia",
           444.9597
          ],
          [
           "Berrocalejo",
           375.8121
          ],
          [
           "Berzocana",
           718.6393
          ],
          [
           "Bohonal de Ibor",
           349.8538
          ],
          [
           "Botija",
           424.9815
          ],
          [
           "Brozas",
           410.4544
          ],
          [
           "Cabañas del Castillo",
           760.3389
          ],
          [
           "Cabezabellosa",
           855.8938
          ],
          [
           "Cabezuela del Valle",
           514.3602
          ],
          [
           "Cabrero",
           739.8882
          ],
          [
           "Cáceres",
           434.6162
          ],
          [
           "Cachorrilla",
           316.3804
          ],
          [
           "Cadalso",
           448.0928
          ],
          [
           "Calzadilla",
           359.1857
          ],
          [
           "Caminomorisco",
           467.3217
          ],
          [
           "Campillo de Deleitosa",
           491.2502
          ],
          [
           "Campo Lugar",
           303.4392
          ],
          [
           "Cañamero",
           609.7376
          ],
          [
           "Cañaveral",
           353.1965
          ],
          [
           "Carbajo",
           336.2229
          ],
          [
           "Carcaboso",
           275.1561
          ],
          [
           "Carrascalejo",
           591.9044
          ],
          [
           "Casar de Cáceres",
           366.4607
          ],
          [
           "Casar de Palomero",
           524.2137
          ],
          [
           "Casares de las Hurdes",
           688.3028
          ],
          [
           "Casas de Don Antonio",
           390.6183
          ],
          [
           "Casas de Don Gómez",
           322.1144
          ],
          [
           "Casas del Castañar",
           662.9862
          ],
          [
           "Casas del Monte",
           578.4438
          ],
          [
           "Casas de Millán",
           456.3329
          ],
          [
           "Casas de Miravete",
           442.9554
          ],
          [
           "Casatejada",
           273.4576
          ],
          [
           "Casillas de Coria",
           244.7277
          ],
          [
           "Castañar de Ibor",
           663.5353
          ],
          [
           "Ceclavín",
           329.5323
          ],
          [
           "Cedillo",
           265.7721
          ],
          [
           "Cerezo",
           394.5923
          ],
          [
           "Cilleros",
           448.878
          ],
          [
           "Collado de la Vera",
           null
          ],
          [
           "Conquista de la Sierra",
           441.5334
          ],
          [
           "Coria",
           239.4233
          ],
          [
           "Cuacos de Yuste",
           527.3668
          ],
          [
           "Cumbre, La",
           null
          ],
          [
           "Deleitosa",
           566.3511
          ],
          [
           "Descargamaría",
           509.1357
          ],
          [
           "Eljas",
           578.0947
          ],
          [
           "Escurial",
           322.175
          ],
          [
           "Fresnedoso de Ibor",
           518.2465
          ],
          [
           "Galisteo",
           281.1528
          ],
          [
           "Garciaz",
           663.9293
          ],
          [
           "Garganta, La",
           null
          ],
          [
           "Garganta la Olla",
           587.8572
          ],
          [
           "Gargantilla",
           641.0802
          ],
          [
           "Gargüera",
           526.4066
          ],
          [
           "Garrovillas de Alconétar",
           326.4898
          ],
          [
           "Garvín",
           501.7299
          ],
          [
           "Gata",
           665.3049
          ],
          [
           "Gordo, El",
           null
          ],
          [
           "Granja, La",
           null
          ],
          [
           "Guadalupe",
           616.1213
          ],
          [
           "Guijo de Coria",
           446.9364
          ],
          [
           "Guijo de Galisteo",
           428.5826
          ],
          [
           "Guijo de Granadilla",
           390.9599
          ],
          [
           "Guijo de Santa Bárbara",
           865.0514
          ],
          [
           "Herguijuela",
           464.2786
          ],
          [
           "Hernán-Pérez",
           440.8669
          ],
          [
           "Herrera de Alcántara",
           255.0923
          ],
          [
           "Herreruela",
           324.7979
          ],
          [
           "Hervás",
           664.4932
          ],
          [
           "Higuera de Albalat",
           null
          ],
          [
           "Hinojal",
           348.0721
          ],
          [
           "Holguera",
           280.2364
          ],
          [
           "Hoyos",
           525.2888
          ],
          [
           "Huélaga",
           283.5962
          ],
          [
           "Ibahernando",
           536.6814
          ],
          [
           "Jaraicejo",
           504.3943
          ],
          [
           "Jaraíz de la Vera",
           568.9706
          ],
          [
           "Jarandilla de la Vera",
           604.6482
          ],
          [
           "Jarilla",
           480.6181
          ],
          [
           "Jerte",
           593.6707
          ],
          [
           "Ladrillar",
           709.2778
          ],
          [
           "Logrosán",
           482.4496
          ],
          [
           "Losar de la Vera",
           533.0191
          ],
          [
           "Madrigal de la Vera",
           407.2852
          ],
          [
           "Madrigalejo",
           294.8462
          ],
          [
           "Madroñera",
           591.7178
          ],
          [
           "Majadas",
           260.0658
          ],
          [
           "Malpartida de Cáceres",
           374.2109
          ],
          [
           "Malpartida de Plasencia",
           442.2609
          ],
          [
           "Marchagaz",
           516.7504
          ],
          [
           "Mata de Alcántara",
           344.6729
          ],
          [
           "Membrío",
           327.1987
          ],
          [
           "Mesas de Ibor",
           488.5139
          ],
          [
           "Miajadas",
           299.2762
          ],
          [
           "Millanes",
           361.245
          ],
          [
           "Mirabel",
           504.2706
          ],
          [
           "Mohedas de Granadilla",
           448.7007
          ],
          [
           "Monroy",
           378.6369
          ],
          [
           "Montánchez",
           696.2783
          ],
          [
           "Montehermoso",
           397.063
          ],
          [
           "Moraleja",
           261.4155
          ],
          [
           "Morcillo",
           272.8168
          ],
          [
           "Navaconcejo",
           477.2957
          ],
          [
           "Navalmoral de la Mata",
           315.4144
          ],
          [
           "Navalvillar de Ibor",
           667.4202
          ],
          [
           "Navas del Madroño",
           434.7237
          ],
          [
           "Navezuelas",
           941.8161
          ],
          [
           "Nuñomoral",
           496.7727
          ],
          [
           "Oliva de Plasencia",
           408.5221
          ],
          [
           "Palomero",
           453.1881
          ],
          [
           "Pasarón de la Vera",
           600.1179
          ],
          [
           "Pedroso de Acim",
           470.9969
          ],
          [
           "Peraleda de la Mata",
           334.5811
          ],
          [
           "Peraleda de San Román",
           472.4771
          ],
          [
           "Perales del Puerto",
           434.3814
          ],
          [
           "Pescueza",
           333.9729
          ],
          [
           "Pesga, La",
           null
          ],
          [
           "Piedras Albas",
           362.7316
          ],
          [
           "Pinofranqueado",
           457.8624
          ],
          [
           "Piornal",
           1169.494
          ],
          [
           "Plasencia",
           366.9232
          ],
          [
           "Plasenzuela",
           426.8089
          ],
          [
           "Portaje",
           377.8726
          ],
          [
           "Portezuelo",
           361.0681
          ],
          [
           "Pozuelo de Zarzón",
           465.7742
          ],
          [
           "Puerto de Santa Cruz",
           450.3737
          ],
          [
           "Rebollar",
           1134.53
          ],
          [
           "Rebollar",
           610.1049
          ],
          [
           "Riolobos",
           267.9027
          ],
          [
           "Robledillo de Gata",
           607.127
          ],
          [
           "Robledillo de la Vera",
           453.7922
          ],
          [
           "Robledillo de Trujillo",
           500.2191
          ],
          [
           "Robledollano",
           708.3437
          ],
          [
           "Romangordo",
           419.6048
          ],
          [
           "Ruanes",
           482.6433
          ],
          [
           "Salorino",
           328.6313
          ],
          [
           "Salvatierra de Santiago",
           438.1557
          ],
          [
           "San Martín de Trevejo",
           617.9815
          ],
          [
           "Santa Ana",
           488.676
          ],
          [
           "Santa Cruz de la Sierra",
           453.5517
          ],
          [
           "Santa Cruz de Paniagua",
           478.2463
          ],
          [
           "Santa Marta de Magasca",
           376.2589
          ],
          [
           "Santiago de Alcántara",
           346.0968
          ],
          [
           "Santiago del Campo",
           344.4483
          ],
          [
           "Santibáñez el Alto",
           645.5109
          ],
          [
           "Santibáñez el Bajo",
           374.1523
          ],
          [
           "Saucedilla",
           261.0471
          ],
          [
           "Segura de Toro",
           636.4227
          ],
          [
           "Serradilla",
           408.8365
          ],
          [
           "Serrejón",
           338.5384
          ],
          [
           "Sierra de Fuentes",
           439.375
          ],
          [
           "Talaván",
           402.4283
          ],
          [
           "Talaveruela de la Vera",
           574.3057
          ],
          [
           "Talayuela",
           287.0548
          ],
          [
           "Tejeda de Tiétar",
           446.3588
          ],
          [
           "Toril",
           258.9532
          ],
          [
           "Tornavacas",
           863.4183
          ],
          [
           "Torno, El",
           null
          ],
          [
           "Torrecilla de los Ángeles",
           466.4605
          ],
          [
           "Torrecillas de la Tiesa",
           501.9348
          ],
          [
           "Torre de Don Miguel",
           555.9983
          ],
          [
           "Torre de Santa María",
           490.2715
          ],
          [
           "Torrejoncillo",
           323.6587
          ],
          [
           "Torrejón el Rubio",
           304.923
          ],
          [
           "Torremenga",
           528.885
          ],
          [
           "Torremocha",
           444.2932
          ],
          [
           "Torreorgaz",
           430.9886
          ],
          [
           "Torrequemada",
           441.6732
          ],
          [
           "Trujillo",
           529.2547
          ],
          [
           "Valdastillas",
           615.739
          ],
          [
           "Valdecañas de Tajo",
           368.6411
          ],
          [
           "Valdefuentes",
           478.5953
          ],
          [
           "Valdehúncar",
           372.1376
          ],
          [
           "Valdelacasa de Tajo",
           453.4802
          ],
          [
           "Valdemorales",
           440.133
          ],
          [
           "Valdeobispo",
           334.7701
          ],
          [
           "Valencia de Alcántara",
           462.1811
          ],
          [
           "Valverde de la Vera",
           504.3288
          ],
          [
           "Valverde del Fresno",
           492.8723
          ],
          [
           "Viandar de la Vera",
           548.8549
          ],
          [
           "Villa del Campo",
           469.004
          ],
          [
           "Villa del Rey",
           338.1065
          ],
          [
           "Villamesías",
           363.7874
          ],
          [
           "Villamiel",
           745.9667
          ],
          [
           "Villanueva de la Sierra",
           500.2086
          ],
          [
           "Villanueva de la Vera",
           512.8276
          ],
          [
           "Villar del Pedroso",
           495.528
          ],
          [
           "Villar de Plasencia",
           450.0623
          ],
          [
           "Villasbuenas de Gata",
           424.338
          ],
          [
           "Zarza de Granadilla",
           398.6644
          ],
          [
           "Zarza de Montánchez",
           452.4351
          ],
          [
           "Zarza la Mayor",
           303.9268
          ],
          [
           "Zorita",
           429.6986
          ],
          [
           "Rosalejo",
           278.185
          ],
          [
           "Vegaviana",
           null
          ],
          [
           "Alagón del Río",
           null
          ],
          [
           "Tiétar",
           null
          ],
          [
           "Pueblonuevo de Miramontes",
           null
          ],
          [
           "Alcalá de los Gazules",
           158.3963
          ],
          [
           "Alcalá del Valle",
           623.3366
          ],
          [
           "Algar",
           213.0833
          ],
          [
           "Algeciras",
           22.40544
          ],
          [
           "Algodonales",
           370.124
          ],
          [
           "Arcos de la Frontera",
           139.2057
          ],
          [
           "Barbate",
           15.97273
          ],
          [
           "Barrios, Los",
           null
          ],
          [
           "Benaocaz",
           792.0704
          ],
          [
           "Bornos",
           153.5913
          ],
          [
           "Bosque, El",
           null
          ],
          [
           "Cádiz",
           15.42415
          ],
          [
           "Castellar de la Frontera",
           30.78278
          ],
          [
           "Conil de la Frontera",
           33.70992
          ],
          [
           "Chiclana de la Frontera",
           13.2455
          ],
          [
           "Chipiona",
           11.72497
          ],
          [
           "Espera",
           147.471
          ],
          [
           "Gastor, El",
           null
          ],
          [
           "Grazalema",
           830.5287
          ],
          [
           "Jerez de la Frontera",
           55.74849
          ],
          [
           "Jimena de la Frontera",
           131.443
          ],
          [
           "Línea de la Concepción, La",
           null
          ],
          [
           "Medina Sidonia",
           null
          ],
          [
           "Olvera",
           606.7288
          ],
          [
           "Paterna de Rivera",
           125.9705
          ],
          [
           "Prado del Rey",
           423.1529
          ],
          [
           "Puerto de Santa María, El",
           null
          ],
          [
           "Puerto Real",
           11.78617
          ],
          [
           "Puerto Serrano",
           162.2749
          ],
          [
           "Rota",
           14.28653
          ],
          [
           "San Fernando",
           21.14313
          ],
          [
           "Sanlúcar de Barrameda",
           11.0011
          ],
          [
           "San Roque",
           106.1072
          ],
          [
           "Setenil de las Bodegas",
           555.0465
          ],
          [
           "Tarifa",
           14.66109
          ],
          [
           "Torre Alháquime",
           471.3644
          ],
          [
           "Trebujena",
           72.16942
          ],
          [
           "Ubrique",
           326.7233
          ],
          [
           "Vejer de la Frontera",
           178.6806
          ],
          [
           "Villaluenga del Rosario",
           874.9724
          ],
          [
           "Villamartín",
           167.8091
          ],
          [
           "Zahara",
           507.4048
          ],
          [
           "Benalup-Casas Viejas",
           75.25459
          ],
          [
           "San José del Valle",
           142.0624
          ],
          [
           "San Martín del Tesorillo",
           null
          ],
          [
           "Atzeneta del Maestrat",
           405.6302
          ],
          [
           "Aín",
           497.9523
          ],
          [
           "Albocàsser",
           534.062
          ],
          [
           "Alcalà de Xivert",
           159.6516
          ],
          [
           "Alcora, l'",
           null
          ],
          [
           "Alcudia de Veo",
           476.4656
          ],
          [
           "Alfondeguilla",
           217.8936
          ],
          [
           "Algimia de Almonacid",
           496.8173
          ],
          [
           "Almassora",
           null
          ],
          [
           "Almedíjar",
           400.144
          ],
          [
           "Almenara",
           39.3216
          ],
          [
           "Altura",
           405.5518
          ],
          [
           "Arañuel",
           413.3797
          ],
          [
           "Ares del Maestrat",
           null
          ],
          [
           "Argelita",
           312.0536
          ],
          [
           "Artana",
           256.8818
          ],
          [
           "Ayódar",
           388.7343
          ],
          [
           "Azuébar",
           277.0367
          ],
          [
           "Barracas",
           985.0495
          ],
          [
           "Betxí",
           99.3914
          ],
          [
           "Bejís",
           762.8378
          ],
          [
           "Benafer",
           588.7029
          ],
          [
           "Benafigos",
           932.0203
          ],
          [
           "Benassal",
           null
          ],
          [
           "Benicarló",
           17.99488
          ],
          [
           "Benicàssim/Benicasim",
           null
          ],
          [
           "Benlloc",
           null
          ],
          [
           "Borriol",
           189.3589
          ],
          [
           "Borriana/Burriana",
           20.2599
          ],
          [
           "Cabanes",
           23.85813
          ],
          [
           "Cabanes",
           282.71
          ],
          [
           "Càlig",
           120.5571
          ],
          [
           "Canet lo Roig",
           327.9641
          ],
          [
           "Castell de Cabres",
           1137.328
          ],
          [
           "Castellfort",
           1170.34
          ],
          [
           "Castellnovo",
           370.4679
          ],
          [
           "Castelló de la Plana",
           null
          ],
          [
           "Castillo de Villamalefa",
           817.1827
          ],
          [
           "Catí",
           663.7772
          ],
          [
           "Caudiel",
           635.6085
          ],
          [
           "Cervera del Maestre",
           262.3612
          ],
          [
           "Cinctorres",
           907.1009
          ],
          [
           "Cirat",
           390.5959
          ],
          [
           "Cortes de Arenoso",
           970.9901
          ],
          [
           "Costur",
           459.0224
          ],
          [
           "Coves de Vinromà, les",
           null
          ],
          [
           "Culla",
           1086.087
          ],
          [
           "Xert",
           null
          ],
          [
           "Chilches/Xilxes",
           9.052402
          ],
          [
           "Xodos/Chodos",
           null
          ],
          [
           "Chóvar",
           416.2556
          ],
          [
           "Eslida",
           346.7823
          ],
          [
           "Espadilla",
           275.2972
          ],
          [
           "Fanzara",
           224.8748
          ],
          [
           "Figueroles",
           366.5962
          ],
          [
           "Forcall",
           704.9049
          ],
          [
           "Fuente la Reina",
           813.2039
          ],
          [
           "Fuentes de Ayódar",
           505.947
          ],
          [
           "Gaibiel",
           515.2784
          ],
          [
           "Geldo",
           304.1663
          ],
          [
           "Herbers",
           null
          ],
          [
           "Higueras",
           668.3716
          ],
          [
           "Jana, la",
           null
          ],
          [
           "Jérica",
           491.4277
          ],
          [
           "Llucena/Lucena del Cid",
           null
          ],
          [
           "Ludiente",
           429.9383
          ],
          [
           "Llosa, la",
           null
          ],
          [
           "Mata de Morella, la",
           null
          ],
          [
           "Matet",
           574.554
          ],
          [
           "Moncofa",
           8.799705
          ],
          [
           "Montán",
           554.3556
          ],
          [
           "Montanejos",
           471.2018
          ],
          [
           "Morella",
           932.5529
          ],
          [
           "Navajas",
           389.9204
          ],
          [
           "Nules",
           18
          ],
          [
           "Olocau del Rey",
           1041.123
          ],
          [
           "Onda",
           192.7921
          ],
          [
           "Orpesa/Oropesa del Mar",
           null
          ],
          [
           "Palanques",
           670.4368
          ],
          [
           "Pavías",
           743.4716
          ],
          [
           "Peníscola/Peñíscola",
           6.325546
          ],
          [
           "Pina de Montalgrao",
           1035.532
          ],
          [
           "Portell de Morella",
           1073.041
          ],
          [
           "Puebla de Arenoso",
           631.926
          ],
          [
           "Pobla de Benifassà, la",
           null
          ],
          [
           "Pobla Tornesa, la",
           null
          ],
          [
           "Ribesalbes",
           190.1019
          ],
          [
           "Rossell",
           462.5298
          ],
          [
           "Sacañet",
           1010.367
          ],
          [
           "Salzadella, la",
           null
          ],
          [
           "Sant Jordi/San Jorge",
           102.6032
          ],
          [
           "Sant Mateu",
           331.4508
          ],
          [
           "San Rafael del Río",
           249.5198
          ],
          [
           "Santa Magdalena de Pulpis",
           123.8502
          ],
          [
           "Serratella, la",
           null
          ],
          [
           "Segorbe",
           375.6049
          ],
          [
           "Sierra Engarcerán",
           750.2902
          ],
          [
           "Soneja",
           267.8589
          ],
          [
           "Sot de Ferrer",
           235.5191
          ],
          [
           "Suera/Sueras",
           null
          ],
          [
           "Tales",
           247.6615
          ],
          [
           "Teresa",
           626.5689
          ],
          [
           "Tírig",
           468.7827
          ],
          [
           "Todolella",
           783.9756
          ],
          [
           "Toga",
           296.1505
          ],
          [
           "Torás",
           774.2517
          ],
          [
           "Toro, El",
           null
          ],
          [
           "Torralba del Pinar",
           731.1648
          ],
          [
           "Torreblanca",
           34.1963
          ],
          [
           "Torrechiva",
           349.2405
          ],
          [
           "Torre d'en Besora, la",
           null
          ],
          [
           "Torre d'en Doménec, la",
           null
          ],
          [
           "Traiguera",
           253.9798
          ],
          [
           "Useres, les/Useras",
           null
          ],
          [
           "Vallat",
           263.3033
          ],
          [
           "Vall d'Alba",
           299.7388
          ],
          [
           "Vall de Almonacid",
           436.3145
          ],
          [
           "Vall d'Uixó, la",
           null
          ],
          [
           "Vallibona",
           661.4194
          ],
          [
           "Vilafamés",
           318.6055
          ],
          [
           "Vilafranca/Villafranca del Cid",
           null
          ],
          [
           "Villahermosa del Río",
           739.1841
          ],
          [
           "Villamalur",
           638.889
          ],
          [
           "Vilanova d'Alcolea",
           349.054
          ],
          [
           "Villanueva de Viver",
           895.2736
          ],
          [
           "Vilar de Canes",
           663.0408
          ],
          [
           "Vila-real",
           46.86089
          ],
          [
           "Vilavella, la",
           null
          ],
          [
           "Villores",
           732.9604
          ],
          [
           "Vinaròs",
           12.0655
          ],
          [
           "Vistabella del Maestrat",
           null
          ],
          [
           "Viver",
           552.3644
          ],
          [
           "Zorita del Maestrazgo",
           652.5302
          ],
          [
           "Zucaina",
           813.7024
          ],
          [
           "Alqueries, les/Alquerías del Niño Perdido",
           null
          ],
          [
           "Sant Joan de Moró",
           189.6783
          ],
          [
           "Abenójar",
           615.0128
          ],
          [
           "Agudo",
           570.6345
          ],
          [
           "Alamillo",
           446.2332
          ],
          [
           "Albaladejo",
           929.5974
          ],
          [
           "Alcázar de San Juan",
           645.0808
          ],
          [
           "Alcoba",
           639.0863
          ],
          [
           "Alcolea de Calatrava",
           651.9843
          ],
          [
           "Alcubillas",
           805.7009
          ],
          [
           "Aldea del Rey",
           668
          ],
          [
           "Alhambra",
           862.3749
          ],
          [
           "Almadén",
           575.5337
          ],
          [
           "Almadenejos",
           522.0008
          ],
          [
           "Almagro",
           649.1187
          ],
          [
           "Almedina",
           895.957
          ],
          [
           "Almodóvar del Campo",
           673.6144
          ],
          [
           "Almuradiel",
           808.8304
          ],
          [
           "Anchuras",
           548.6761
          ],
          [
           "Arenas de San Juan",
           627.8014
          ],
          [
           "Argamasilla de Alba",
           676.2275
          ],
          [
           "Argamasilla de Calatrava",
           677.0089
          ],
          [
           "Arroba de los Montes",
           623.9471
          ],
          [
           "Ballesteros de Calatrava",
           660.202
          ],
          [
           "Bolaños de Calatrava",
           649.2621
          ],
          [
           "Brazatortas",
           712.3827
          ],
          [
           "Cabezarados",
           687
          ],
          [
           "Cabezarrubias del Puerto",
           737.0226
          ],
          [
           "Calzada de Calatrava",
           648.8996
          ],
          [
           "Campo de Criptana",
           697.7733
          ],
          [
           "Cañada de Calatrava",
           644.0776
          ],
          [
           "Caracuel de Calatrava",
           643.8336
          ],
          [
           "Carrión de Calatrava",
           618.5354
          ],
          [
           "Carrizosa",
           822.2133
          ],
          [
           "Castellar de Santiago",
           830.7982
          ],
          [
           "Ciudad Real",
           636.7003
          ],
          [
           "Corral de Calatrava",
           594.7799
          ],
          [
           "Cortijos, Los",
           null
          ],
          [
           "Cózar",
           863.0718
          ],
          [
           "Chillón",
           526.6155
          ],
          [
           "Daimiel",
           628.4135
          ],
          [
           "Fernán Caballero",
           613.9147
          ],
          [
           "Fontanarejo",
           648.4183
          ],
          [
           "Fuencaliente",
           684.3738
          ],
          [
           "Fuenllana",
           909.6342
          ],
          [
           "Fuente el Fresno",
           694.6024
          ],
          [
           "Granátula de Calatrava",
           659.4633
          ],
          [
           "Guadalmez",
           363.9143
          ],
          [
           "Herencia",
           646.795
          ],
          [
           "Hinojosas de Calatrava",
           762.2877
          ],
          [
           "Horcajo de los Montes",
           586.9252
          ],
          [
           "Labores, Las",
           null
          ],
          [
           "Luciana",
           541.933
          ],
          [
           "Malagón",
           633.9963
          ],
          [
           "Manzanares",
           665.636
          ],
          [
           "Membrilla",
           667.7634
          ],
          [
           "Mestanza",
           742.0979
          ],
          [
           "Miguelturra",
           630.9375
          ],
          [
           "Montiel",
           900.929
          ],
          [
           "Moral de Calatrava",
           673.0731
          ],
          [
           "Navalpino",
           619.7184
          ],
          [
           "Navas de Estena",
           666.7495
          ],
          [
           "Pedro Muñoz",
           660.1461
          ],
          [
           "Picón",
           602.3293
          ],
          [
           "Piedrabuena",
           584.9067
          ],
          [
           "Poblete",
           625.8102
          ],
          [
           "Porzuna",
           649.3252
          ],
          [
           "Pozuelo de Calatrava",
           627.6234
          ],
          [
           "Pozuelos de Calatrava, Los",
           null
          ],
          [
           "Puebla de Don Rodrigo",
           501.1769
          ],
          [
           "Puebla del Príncipe",
           940.8134
          ],
          [
           "Puerto Lápice",
           676.8574
          ],
          [
           "Puertollano",
           710.2035
          ],
          [
           "Retuerta del Bullaque",
           733.4877
          ],
          [
           "Saceruela",
           578.8517
          ],
          [
           "San Carlos del Valle",
           757.9612
          ],
          [
           "San Lorenzo de Calatrava",
           765.8392
          ],
          [
           "Santa Cruz de los Cáñamos",
           985.9399
          ],
          [
           "Santa Cruz de Mudela",
           717.6976
          ],
          [
           "Socuéllamos",
           676.6555
          ],
          [
           "Solana, La",
           null
          ],
          [
           "Solana del Pino",
           740.4377
          ],
          [
           "Terrinches",
           930.9041
          ],
          [
           "Tomelloso",
           667.3932
          ],
          [
           "Torralba de Calatrava",
           621.1816
          ],
          [
           "Torre de Juan Abad",
           828.8683
          ],
          [
           "Torrenueva",
           733.0852
          ],
          [
           "Valdemanco del Esteras",
           578.7386
          ],
          [
           "Valdepeñas",
           710.3396
          ],
          [
           "Valenzuela de Calatrava",
           658.9473
          ],
          [
           "Villahermosa",
           959.6011
          ],
          [
           "Villamanrique",
           849.2779
          ],
          [
           "Villamayor de Calatrava",
           663.199
          ],
          [
           "Villanueva de la Fuente",
           1008.476
          ],
          [
           "Villanueva de los Infantes",
           884.9601
          ],
          [
           "Villanueva de los Infantes",
           743.701
          ],
          [
           "Villanueva de San Carlos",
           652.488
          ],
          [
           "Villar del Pozo",
           637.9165
          ],
          [
           "Villarrubia de los Ojos",
           629.3639
          ],
          [
           "Villarta de San Juan",
           626.9672
          ],
          [
           "Viso del Marqués",
           781.8405
          ],
          [
           "Robledo, El",
           null
          ],
          [
           "Ruidera",
           799.8744
          ],
          [
           "Arenales de San Gregorio",
           645.2104
          ],
          [
           "Llanos del Caudillo",
           648.3378
          ],
          [
           "Adamuz",
           245.2438
          ],
          [
           "Aguilar de la Frontera",
           374.5963
          ],
          [
           "Alcaracejos",
           611.311
          ],
          [
           "Almedinilla",
           643.6762
          ],
          [
           "Almodóvar del Río",
           119.838
          ],
          [
           "Añora",
           629.9739
          ],
          [
           "Baena",
           432.8641
          ],
          [
           "Belalcázar",
           492.9109
          ],
          [
           "Belmez",
           530.0388
          ],
          [
           "Benamejí",
           458.9315
          ],
          [
           "Blázquez, Los",
           null
          ],
          [
           "Bujalance",
           345.5078
          ],
          [
           "Cabra",
           503.6198
          ],
          [
           "Cañete de las Torres",
           320.6117
          ],
          [
           "Carcabuey",
           628.2857
          ],
          [
           "Cardeña",
           747.5234
          ],
          [
           "Carlota, La",
           null
          ],
          [
           "Carpio, El",
           null
          ],
          [
           "Castro del Río",
           229.5285
          ],
          [
           "Conquista",
           597.3675
          ],
          [
           "Córdoba",
           131.9102
          ],
          [
           "Doña Mencía",
           598.4364
          ],
          [
           "Dos Torres",
           589.4772
          ],
          [
           "Encinas Reales",
           446.9231
          ],
          [
           "Espejo",
           391.4622
          ],
          [
           "Espiel",
           548.5708
          ],
          [
           "Fernán-Núñez",
           310.7925
          ],
          [
           "Fuente la Lancha",
           559.9954
          ],
          [
           "Fuente Obejuna",
           622.7498
          ],
          [
           "Fuente Palmera",
           160.0771
          ],
          [
           "Fuente-Tójar",
           589.3212
          ],
          [
           "Granjuela, La",
           null
          ],
          [
           "Guadalcázar",
           161.6661
          ],
          [
           "Guijo, El",
           null
          ],
          [
           "Hinojosa del Duque",
           551.713
          ],
          [
           "Hornachuelos",
           177.4551
          ],
          [
           "Iznájar",
           519.9057
          ],
          [
           "Lucena",
           494.1765
          ],
          [
           "Luque",
           662.4076
          ],
          [
           "Montalbán de Córdoba",
           277.8563
          ],
          [
           "Montemayor",
           386.187
          ],
          [
           "Montilla",
           385.7791
          ],
          [
           "Montoro",
           201.329
          ],
          [
           "Monturque",
           376.9995
          ],
          [
           "Moriles",
           379.1501
          ],
          [
           "Nueva Carteya",
           444.7657
          ],
          [
           "Obejo",
           692.8661
          ],
          [
           "Palenciana",
           396.5208
          ],
          [
           "Palma del Río",
           60.91507
          ],
          [
           "Pedro Abad",
           163.2774
          ],
          [
           "Pedroche",
           623.1253
          ],
          [
           "Peñarroya-Pueblonuevo",
           541.6902
          ],
          [
           "Posadas",
           88.41434
          ],
          [
           "Pozoblanco",
           652.3784
          ],
          [
           "Priego de Córdoba",
           657.6609
          ],
          [
           "Puente Genil",
           219.0715
          ],
          [
           "Rambla, La",
           null
          ],
          [
           "Rute",
           632.5386
          ],
          [
           "San Sebastián de los Ballesteros",
           306.4553
          ],
          [
           "Santaella",
           238.2158
          ],
          [
           "Santa Eufemia",
           547.0313
          ],
          [
           "Torrecampo",
           576.4257
          ],
          [
           "Valenzuela",
           341.0233
          ],
          [
           "Valsequillo",
           578.0466
          ],
          [
           "Victoria, La",
           null
          ],
          [
           "Villa del Río",
           164.0046
          ],
          [
           "Villafranca de Córdoba",
           143.0544
          ],
          [
           "Villaharta",
           578.8654
          ],
          [
           "Villanueva de Córdoba",
           728.5879
          ],
          [
           "Villanueva del Duque",
           583.8452
          ],
          [
           "Villanueva del Rey",
           556.6314
          ],
          [
           "Villaralto",
           586.7803
          ],
          [
           "Villaviciosa de Córdoba",
           699.2513
          ],
          [
           "Viso, El",
           null
          ],
          [
           "Zuheros",
           652.7948
          ],
          [
           "Fuente Carreteros",
           null
          ],
          [
           "Guijarrosa, La",
           null
          ],
          [
           "Abegondo",
           99.71806
          ],
          [
           "Ames",
           216.3797
          ],
          [
           "Aranga",
           275.3901
          ],
          [
           "Ares",
           9.654655
          ],
          [
           "Arteixo",
           36.12324
          ],
          [
           "Arzúa",
           385.5346
          ],
          [
           "Baña, A",
           null
          ],
          [
           "Bergondo",
           111.32
          ],
          [
           "Betanzos",
           30.77564
          ],
          [
           "Boimorto",
           486.9221
          ],
          [
           "Boiro",
           39.57637
          ],
          [
           "Boqueixón",
           295.4394
          ],
          [
           "Brión",
           113.9952
          ],
          [
           "Cabana de Bergantiños",
           91.22826
          ],
          [
           "Cabanas",
           14.01326
          ],
          [
           "Camariñas",
           8.057896
          ],
          [
           "Cambre",
           59.3171
          ],
          [
           "Capela, A",
           null
          ],
          [
           "Carballo",
           108.2141
          ],
          [
           "Carnota",
           39.35276
          ],
          [
           "Carral",
           143.3725
          ],
          [
           "Cedeira",
           9.32181
          ],
          [
           "Cee",
           5.529384
          ],
          [
           "Cerceda",
           340.3528
          ],
          [
           "Cerdido",
           127.0117
          ],
          [
           "Coirós",
           214.9906
          ],
          [
           "Corcubión",
           12.05067
          ],
          [
           "Coristanco",
           121.6658
          ],
          [
           "Coruña, A",
           null
          ],
          [
           "Culleredo",
           60.64721
          ],
          [
           "Curtis",
           524.2576
          ],
          [
           "Dodro",
           8.638529
          ],
          [
           "Dumbría",
           196.8048
          ],
          [
           "Fene",
           31.51714
          ],
          [
           "Ferrol",
           17.92745
          ],
          [
           "Fisterra",
           26.53479
          ],
          [
           "Frades",
           330.4912
          ],
          [
           "Irixoa",
           362.8766
          ],
          [
           "Laxe",
           10.11361
          ],
          [
           "Laracha, A",
           null
          ],
          [
           "Lousame",
           76.47759
          ],
          [
           "Malpica de Bergantiños",
           18.54621
          ],
          [
           "Mañón",
           122.7509
          ],
          [
           "Mazaricos",
           309.7912
          ],
          [
           "Melide",
           456.2325
          ],
          [
           "Mesía",
           396.5716
          ],
          [
           "Miño",
           35.12242
          ],
          [
           "Moeche",
           124.2339
          ],
          [
           "Monfero",
           313.0533
          ],
          [
           "Mugardos",
           26.80462
          ],
          [
           "Muxía",
           10.06232
          ],
          [
           "Muros",
           13.47934
          ],
          [
           "Narón",
           54.86041
          ],
          [
           "Neda",
           17.3906
          ],
          [
           "Negreira",
           165.9285
          ],
          [
           "Noia",
           14.17139
          ],
          [
           "Oleiros",
           121.4051
          ],
          [
           "Ordes",
           287.7448
          ],
          [
           "Oroso",
           265.2925
          ],
          [
           "Ortigueira",
           12.5302
          ],
          [
           "Outes",
           155.6038
          ],
          [
           "Paderne",
           151.441
          ],
          [
           "Padrón",
           12.52071
          ],
          [
           "Pino, O",
           null
          ],
          [
           "Pobra do Caramiñal, A",
           null
          ],
          [
           "Ponteceso",
           9.338658
          ],
          [
           "Pontedeume",
           52.01764
          ],
          [
           "Pontes de García Rodríguez, As",
           null
          ],
          [
           "Porto do Son",
           13.61645
          ],
          [
           "Rianxo",
           12.18667
          ],
          [
           "Ribeira",
           9.570827
          ],
          [
           "Rois",
           91.43814
          ],
          [
           "Sada",
           8.367744
          ],
          [
           "Sada",
           485.6982
          ],
          [
           "San Sadurniño",
           235.7317
          ],
          [
           "Santa Comba",
           357.9261
          ],
          [
           "Santiago de Compostela",
           250.5518
          ],
          [
           "Santiso",
           395.2911
          ],
          [
           "Sobrado",
           441.7868
          ],
          [
           "Sobrado",
           531.1628
          ],
          [
           "Somozas, As",
           null
          ],
          [
           "Teo",
           210.1551
          ],
          [
           "Toques",
           550.1306
          ],
          [
           "Tordoia",
           372.4156
          ],
          [
           "Touro",
           322.1459
          ],
          [
           "Trazo",
           308.1545
          ],
          [
           "Valdoviño",
           168.3914
          ],
          [
           "Val do Dubra",
           308.1521
          ],
          [
           "Vedra",
           230.7933
          ],
          [
           "Vilasantar",
           442.1523
          ],
          [
           "Vilarmaior",
           195.4239
          ],
          [
           "Vimianzo",
           131.8647
          ],
          [
           "Zas",
           221.0706
          ],
          [
           "Cariño",
           9.662794
          ],
          [
           "Oza-Cesuras",
           null
          ],
          [
           "Abia de la Obispalía",
           1027.756
          ],
          [
           "Acebrón, El",
           null
          ],
          [
           "Alarcón",
           804.5475
          ],
          [
           "Albaladejo del Cuende",
           873.7691
          ],
          [
           "Albalate de las Nogueras",
           836.6561
          ],
          [
           "Albendea",
           836.6441
          ],
          [
           "Alberca de Záncara, La",
           null
          ],
          [
           "Alcalá de la Vega",
           1149.662
          ],
          [
           "Alcantud",
           846.5696
          ],
          [
           "Alcázar del Rey",
           868.6633
          ],
          [
           "Alcohujate",
           805.8046
          ],
          [
           "Alconchel de la Estrella",
           830.2779
          ],
          [
           "Algarra",
           1260.539
          ],
          [
           "Aliaguilla",
           1004.316
          ],
          [
           "Almarcha, La",
           null
          ],
          [
           "Almendros",
           867.5738
          ],
          [
           "Almodóvar del Pinar",
           993.7385
          ],
          [
           "Almonacid del Marquesado",
           893.4148
          ],
          [
           "Altarejos",
           882.3251
          ],
          [
           "Arandilla del Arroyo",
           891.51
          ],
          [
           "Arcos de la Sierra",
           1008.144
          ],
          [
           "Chillarón de Cuenca",
           918.1243
          ],
          [
           "Arguisuelas",
           1051.319
          ],
          [
           "Arrancacepas",
           921.0117
          ],
          [
           "Atalaya del Cañavate",
           818.4755
          ],
          [
           "Barajas de Melo",
           707.7529
          ],
          [
           "Barchín del Hoyo",
           953.0204
          ],
          [
           "Bascuñana de San Pedro",
           1049.3
          ],
          [
           "Beamud",
           1337.114
          ],
          [
           "Belinchón",
           765.4058
          ],
          [
           "Belmonte",
           747.8671
          ],
          [
           "Belmontejo",
           842.4863
          ],
          [
           "Beteta",
           1221.365
          ],
          [
           "Boniches",
           1031.188
          ],
          [
           "Buciegas",
           806.0385
          ],
          [
           "Buenache de Alarcón",
           814.0424
          ],
          [
           "Buenache de la Sierra",
           1296.91
          ],
          [
           "Buendía",
           740.683
          ],
          [
           "Campillo de Altobuey",
           934.0833
          ],
          [
           "Campillos-Paravientos",
           1161.948
          ],
          [
           "Campillos-Sierra",
           1253.863
          ],
          [
           "Canalejas del Arroyo",
           793.2876
          ],
          [
           "Cañada del Hoyo",
           1021.962
          ],
          [
           "Cañada Juncosa",
           806.1784
          ],
          [
           "Cañamares",
           886.0988
          ],
          [
           "Cañavate, El",
           null
          ],
          [
           "Cañaveras",
           807.5058
          ],
          [
           "Cañaveruelas",
           802.4179
          ],
          [
           "Cañete",
           1077.501
          ],
          [
           "Cañizares",
           1040.13
          ],
          [
           "Carboneras de Guadazaón",
           1022.764
          ],
          [
           "Cardenete",
           955.3456
          ],
          [
           "Carrascosa",
           1258.964
          ],
          [
           "Carrascosa de Haro",
           775.2598
          ],
          [
           "Casas de Benítez",
           748.9084
          ],
          [
           "Casas de Fernando Alonso",
           725.363
          ],
          [
           "Casas de Garcimolina",
           1149.788
          ],
          [
           "Casas de Guijarro",
           752.5666
          ],
          [
           "Casas de Haro",
           723.1393
          ],
          [
           "Casas de los Pinos",
           725.2875
          ],
          [
           "Casasimarro",
           761.5946
          ],
          [
           "Castejón",
           860.5991
          ],
          [
           "Castejón",
           279.5263
          ],
          [
           "Castillejo de Iniesta",
           824.4532
          ],
          [
           "Castillejo-Sierra",
           1007.348
          ],
          [
           "Castillo-Albaráñez",
           902.1082
          ],
          [
           "Castillo de Garcimuñoz",
           929.5831
          ],
          [
           "Cervera del Llano",
           895.8052
          ],
          [
           "Cierva, La",
           null
          ],
          [
           "Cuenca",
           930.4124
          ],
          [
           "Cueva del Hierro",
           1332.456
          ],
          [
           "Chumillas",
           1070.247
          ],
          [
           "Enguídanos",
           748.1066
          ],
          [
           "Fresneda de Altarejos",
           901.7247
          ],
          [
           "Fresneda de la Sierra",
           992.2727
          ],
          [
           "Frontera, La",
           null
          ],
          [
           "Fuente de Pedro Naharro",
           776.6147
          ],
          [
           "Fuentelespino de Haro",
           845.7111
          ],
          [
           "Fuentelespino de Moya",
           1109.693
          ],
          [
           "Fuentes",
           1015.49
          ],
          [
           "Fuertescusa",
           983.9594
          ],
          [
           "Gabaldón",
           926.3343
          ],
          [
           "Garaballa",
           936.6948
          ],
          [
           "Gascueña",
           929.3591
          ],
          [
           "Graja de Campalbo",
           1099.037
          ],
          [
           "Graja de Iniesta",
           836.5309
          ],
          [
           "Henarejos",
           1078.359
          ],
          [
           "Herrumblar, El",
           null
          ],
          [
           "Hinojosa, La",
           null
          ],
          [
           "Hinojosos, Los",
           null
          ],
          [
           "Hito, El",
           null
          ],
          [
           "Honrubia",
           809.0587
          ],
          [
           "Hontanaya",
           816.0445
          ],
          [
           "Hontecillas",
           824.0103
          ],
          [
           "Horcajo de Santiago",
           750.2389
          ],
          [
           "Huélamo",
           1283.993
          ],
          [
           "Huelves",
           819.4783
          ],
          [
           "Huérguina",
           1114.769
          ],
          [
           "Huerta de la Obispalía",
           905.3899
          ],
          [
           "Huerta del Marquesado",
           1278.528
          ],
          [
           "Huete",
           806.872
          ],
          [
           "Iniesta",
           755.802
          ],
          [
           "Laguna del Marquesado",
           1324.043
          ],
          [
           "Lagunaseca",
           1362.387
          ],
          [
           "Landete",
           985.8491
          ],
          [
           "Ledaña",
           733.5328
          ],
          [
           "Leganiel",
           760.6712
          ],
          [
           "Majadas, Las",
           null
          ],
          [
           "Mariana",
           968.0659
          ],
          [
           "Masegosa",
           1378.719
          ],
          [
           "Mesas, Las",
           null
          ],
          [
           "Minglanilla",
           805.3
          ],
          [
           "Mira",
           820.1528
          ],
          [
           "Monreal del Llano",
           733.7571
          ],
          [
           "Montalbanejo",
           907.4093
          ],
          [
           "Montalbo",
           884.257
          ],
          [
           "Monteagudo de las Salinas",
           1011.875
          ],
          [
           "Mota de Altarejos",
           859.7838
          ],
          [
           "Mota del Cuervo",
           708
          ],
          [
           "Motilla del Palancar",
           837.0458
          ],
          [
           "Moya",
           553.071
          ],
          [
           "Moya",
           1073.251
          ],
          [
           "Narboneta",
           849.3128
          ],
          [
           "Olivares de Júcar",
           920.282
          ],
          [
           "Olmeda de la Cuesta",
           899.1359
          ],
          [
           "Olmeda del Rey",
           937.1072
          ],
          [
           "Olmedilla de Alarcón",
           824.7698
          ],
          [
           "Olmedilla de Eliz",
           872.5022
          ],
          [
           "Osa de la Vega",
           767.8908
          ],
          [
           "Pajarón",
           1056.773
          ],
          [
           "Pajaroncillo",
           980.0659
          ],
          [
           "Palomares del Campo",
           877.8651
          ],
          [
           "Palomera",
           1073.156
          ],
          [
           "Paracuellos",
           965.203
          ],
          [
           "Paredes",
           836.0471
          ],
          [
           "Parra de las Vegas, La",
           null
          ],
          [
           "Pedernoso, El",
           null
          ],
          [
           "Pedroñeras, Las",
           null
          ],
          [
           "Peral, El",
           null
          ],
          [
           "Peraleja, La",
           null
          ],
          [
           "Pesquera, La",
           null
          ],
          [
           "Picazo, El",
           null
          ],
          [
           "Pinarejo",
           873.2295
          ],
          [
           "Pineda de Gigüela",
           974.069
          ],
          [
           "Piqueras del Castillo",
           922.2267
          ],
          [
           "Portalrubio de Guadamejud",
           818.1326
          ],
          [
           "Portilla",
           1066.127
          ],
          [
           "Poyatos",
           1238.396
          ],
          [
           "Pozoamargo",
           754.7365
          ],
          [
           "Pozorrubio de Santiago",
           null
          ],
          [
           "Pozuelo, El",
           null
          ],
          [
           "Priego",
           859.0313
          ],
          [
           "Provencio, El",
           null
          ],
          [
           "Puebla de Almenara",
           851.6243
          ],
          [
           "Valle de Altomira, El",
           null
          ],
          [
           "Puebla del Salvador",
           849.067
          ],
          [
           "Quintanar del Rey",
           731.144
          ],
          [
           "Rada de Haro",
           817.4881
          ],
          [
           "Reíllo",
           1010.97
          ],
          [
           "Rozalén del Monte",
           874.4917
          ],
          [
           "Saceda-Trasierra",
           914.9257
          ],
          [
           "Saelices",
           926.687
          ],
          [
           "Salinas del Manzano",
           1129.487
          ],
          [
           "Salmeroncillos",
           784.0395
          ],
          [
           "Salvacañete",
           1177.807
          ],
          [
           "San Clemente",
           718.2497
          ],
          [
           "San Lorenzo de la Parrilla",
           958.508
          ],
          [
           "San Martín de Boniches",
           1204.745
          ],
          [
           "San Pedro Palmiches",
           827.0442
          ],
          [
           "Santa Cruz de Moya",
           764.4127
          ],
          [
           "Santa María del Campo Rus",
           789.3281
          ],
          [
           "Santa María de los Llanos",
           723.399
          ],
          [
           "Santa María del Val",
           1208.035
          ],
          [
           "Sisante",
           745.213
          ],
          [
           "Solera de Gabaldón",
           1049.117
          ],
          [
           "Talayuelas",
           989.6467
          ],
          [
           "Tarancón",
           817.9774
          ],
          [
           "Tébar",
           892.4076
          ],
          [
           "Tejadillos",
           1221.846
          ],
          [
           "Tinajas",
           868.139
          ],
          [
           "Torralba",
           910.9871
          ],
          [
           "Torrejoncillo del Rey",
           925.6471
          ],
          [
           "Torrubia del Campo",
           804.85
          ],
          [
           "Torrubia del Castillo",
           844.5839
          ],
          [
           "Tragacete",
           1280.023
          ],
          [
           "Tresjuncos",
           794.4161
          ],
          [
           "Tribaldos",
           829.7798
          ],
          [
           "Uclés",
           836.3397
          ],
          [
           "Uña",
           1133.798
          ],
          [
           "Valdemeca",
           1316.776
          ],
          [
           "Valdemorillo de la Sierra",
           1193.025
          ],
          [
           "Valdemoro-Sierra",
           1117.267
          ],
          [
           "Valdeolivas",
           927.0674
          ],
          [
           "Valhermoso de la Fuente",
           800.9288
          ],
          [
           "Valsalobre",
           1219.73
          ],
          [
           "Valverde de Júcar",
           846.4824
          ],
          [
           "Valverdejo",
           865.129
          ],
          [
           "Vara de Rey",
           820.9382
          ],
          [
           "Vega del Codorno",
           1390.018
          ],
          [
           "Vellisca",
           944.9796
          ],
          [
           "Villaconejos de Trabaque",
           808.2476
          ],
          [
           "Villaescusa de Haro",
           826.9725
          ],
          [
           "Villagarcía del Llano",
           733.049
          ],
          [
           "Villalba de la Sierra",
           992.4644
          ],
          [
           "Villalba del Rey",
           788.1654
          ],
          [
           "Villalgordo del Marquesado",
           861.0096
          ],
          [
           "Villalpardo",
           771.2595
          ],
          [
           "Villamayor de Santiago",
           775.3732
          ],
          [
           "Villanueva de Guadamejud",
           805.5494
          ],
          [
           "Villanueva de la Jara",
           767.3646
          ],
          [
           "Villar de Cañas",
           817.3677
          ],
          [
           "Villar de Domingo García",
           938.7158
          ],
          [
           "Villar de la Encina",
           843.0084
          ],
          [
           "Villar del Humo",
           997.0957
          ],
          [
           "Villar del Infantado",
           767.527
          ],
          [
           "Villar de Olalla",
           901.751
          ],
          [
           "Villarejo de Fuentes",
           864.325
          ],
          [
           "Villarejo de la Peñuela",
           941.4399
          ],
          [
           "Villarejo-Periesteban",
           919.6758
          ],
          [
           "Villares del Saz",
           867.2699
          ],
          [
           "Villarrubio",
           825.1577
          ],
          [
           "Villarta",
           758.9042
          ],
          [
           "Villas de la Ventosa",
           844.56
          ],
          [
           "Villaverde y Pasaconsol",
           859.9142
          ],
          [
           "Víllora",
           878.9189
          ],
          [
           "Vindel",
           898.5792
          ],
          [
           "Yémeda",
           866.7178
          ],
          [
           "Zafra de Záncara",
           898.8863
          ],
          [
           "Zafrilla",
           1418.941
          ],
          [
           "Zarza de Tajo",
           708.5762
          ],
          [
           "Zarzuela",
           1040.219
          ],
          [
           "Campos del Paraíso",
           914.1959
          ],
          [
           "Valdetórtola",
           898.9784
          ],
          [
           "Valeras, Las",
           null
          ],
          [
           "Fuentenava de Jábaga",
           969.4885
          ],
          [
           "Arcas",
           null
          ],
          [
           "Valdecolmenas, Los",
           null
          ],
          [
           "Pozorrubielos de la Mancha",
           784.6632
          ],
          [
           "Sotorribas",
           989.6494
          ],
          [
           "Villar y Velasco",
           975.5555
          ],
          [
           "Agullana",
           170.1884
          ],
          [
           "Aiguaviva",
           156.0045
          ],
          [
           "Albanyà",
           240.982
          ],
          [
           "Albons",
           11.20031
          ],
          [
           "Far d'Empordà, El",
           null
          ],
          [
           "Alp",
           1140.202
          ],
          [
           "Amer",
           187.6956
          ],
          [
           "Anglès",
           163.2895
          ],
          [
           "Arbúcies",
           294.5572
          ],
          [
           "Argelaguer",
           189.7633
          ],
          [
           "Armentera, L'",
           null
          ],
          [
           "Avinyonet de Puigventós",
           68.95233
          ],
          [
           "Begur",
           206.9355
          ],
          [
           "Vajol, La",
           null
          ],
          [
           "Banyoles",
           180.4805
          ],
          [
           "Bàscara",
           66.21327
          ],
          [
           "Bellcaire d'Empordà",
           16.70415
          ],
          [
           "Besalú",
           153.8543
          ],
          [
           "Bescanó",
           103.575
          ],
          [
           "Beuda",
           330.3628
          ],
          [
           "Bisbal d'Empordà, La",
           null
          ],
          [
           "Blanes",
           12.55464
          ],
          [
           "Bolvir",
           1111.693
          ],
          [
           "Bordils",
           39.80887
          ],
          [
           "Borrassà",
           73.4845
          ],
          [
           "Breda",
           165.5123
          ],
          [
           "Brunyola i Sant Martí Sapresa",
           null
          ],
          [
           "Boadella i les Escaules",
           90.38374
          ],
          [
           "Cabanes",
           23.85813
          ],
          [
           "Cabanes",
           282.71
          ],
          [
           "Cabanelles",
           186.2474
          ],
          [
           "Cadaqués",
           8.404613
          ],
          [
           "Caldes de Malavella",
           99.86514
          ],
          [
           "Calonge i Sant Antoni",
           null
          ],
          [
           "Camós",
           162.4646
          ],
          [
           "Campdevànol",
           735.8078
          ],
          [
           "Campelles",
           1312.842
          ],
          [
           "Campllong",
           111.6642
          ],
          [
           "Camprodon",
           949.9839
          ],
          [
           "Canet d'Adri",
           225.7504
          ],
          [
           "Cantallops",
           199.0593
          ],
          [
           "Capmany",
           102.8205
          ],
          [
           "Queralbs",
           1212.268
          ],
          [
           "Cassà de la Selva",
           157.0528
          ],
          [
           "Castellfollit de la Roca",
           299.2567
          ],
          [
           "Castelló d'Empúries",
           19.59589
          ],
          [
           "Castell d'Aro, Platja d'Aro i s'Agaró",
           null
          ],
          [
           "Celrà",
           74.95261
          ],
          [
           "Cervià de Ter",
           41.124
          ],
          [
           "Cistella",
           131.848
          ],
          [
           "Siurana",
           30.35726
          ],
          [
           "Colera",
           15.71049
          ],
          [
           "Colomers",
           27.86927
          ],
          [
           "Cornellà del Terri",
           97.63062
          ],
          [
           "Corçà",
           43
          ],
          [
           "Crespià",
           134.7197
          ],
          [
           "Darnius",
           195.8332
          ],
          [
           "Das",
           1210.801
          ],
          [
           "Escala, L'",
           null
          ],
          [
           "Espinelves",
           721.2335
          ],
          [
           "Espolla",
           110.9502
          ],
          [
           "Esponellà",
           124.58
          ],
          [
           "Figueres",
           44.94663
          ],
          [
           "Flaçà",
           34.53658
          ],
          [
           "Foixà",
           77.76812
          ],
          [
           "Fontanals de Cerdanya",
           1296.071
          ],
          [
           "Fontanilles",
           11.98482
          ],
          [
           "Fontcoberta",
           224.6868
          ],
          [
           "Fornells de la Selva",
           100.7511
          ],
          [
           "Fortià",
           5.550827
          ],
          [
           "Garrigàs",
           106.7004
          ],
          [
           "Garrigoles",
           87.58198
          ],
          [
           "Garriguella",
           60.73549
          ],
          [
           "Ger",
           1124.158
          ],
          [
           "Girona",
           69.02268
          ],
          [
           "Gombrèn",
           913.7407
          ],
          [
           "Gualta",
           10.82926
          ],
          [
           "Guils de Cerdanya",
           1345.239
          ],
          [
           "Hostalric",
           98.26152
          ],
          [
           "Isòvol",
           1044.986
          ],
          [
           "Jafre",
           26.08789
          ],
          [
           "Jonquera, La",
           null
          ],
          [
           "Juià",
           103.731
          ],
          [
           "Lladó",
           203.6406
          ],
          [
           "Llagostera",
           137.2177
          ],
          [
           "Llambilles",
           123.2293
          ],
          [
           "Llanars",
           987.0015
          ],
          [
           "Llançà",
           26.3534
          ],
          [
           "Llers",
           164.3831
          ],
          [
           "Llívia",
           1201.004
          ],
          [
           "Lloret de Mar",
           14.34469
          ],
          [
           "Llosses, Les",
           null
          ],
          [
           "Madremanya",
           171.2928
          ],
          [
           "Maià de Montcal",
           222.8625
          ],
          [
           "Meranges",
           1552.41
          ],
          [
           "Masarac",
           80.04425
          ],
          [
           "Massanes",
           139.9525
          ],
          [
           "Maçanet de Cabrenys",
           348.9143
          ],
          [
           "Maçanet de la Selva",
           98.14079
          ],
          [
           "Mieres",
           210.1827
          ],
          [
           "Mieres",
           275.4319
          ],
          [
           "Mollet de Peralada",
           56.86679
          ],
          [
           "Molló",
           1178.97
          ],
          [
           "Montagut i Oix",
           278.7967
          ],
          [
           "Mont-ras",
           56.59036
          ],
          [
           "Navata",
           147.3417
          ],
          [
           "Ogassa",
           955.7571
          ],
          [
           "Olot",
           445.0352
          ],
          [
           "Ordis",
           97.83067
          ],
          [
           "Osor",
           350.0396
          ],
          [
           "Palafrugell",
           68.42641
          ],
          [
           "Palamós",
           14.00687
          ],
          [
           "Palau de Santa Eulàlia",
           81.56111
          ],
          [
           "Palau-saverdera",
           94.26295
          ],
          [
           "Palau-sator",
           19.59593
          ],
          [
           "Palol de Revardit",
           134.0089
          ],
          [
           "Pals",
           19.10723
          ],
          [
           "Pardines",
           1231.859
          ],
          [
           "Parlavà",
           30.01262
          ],
          [
           "Pau",
           27.27005
          ],
          [
           "Pedret i Marzà",
           28.24896
          ],
          [
           "Pera, La",
           null
          ],
          [
           "Peralada",
           33.71151
          ],
          [
           "Planes d'Hostoles, Les",
           null
          ],
          [
           "Planoles",
           1138.85
          ],
          [
           "Pont de Molins",
           46.54617
          ],
          [
           "Pontós",
           90.42199
          ],
          [
           "Porqueres",
           183.2214
          ],
          [
           "Portbou",
           12.24183
          ],
          [
           "Preses, Les",
           null
          ],
          [
           "Port de la Selva, El",
           null
          ],
          [
           "Puigcerdà",
           1184.155
          ],
          [
           "Quart",
           98.03844
          ],
          [
           "Rabós",
           114.9361
          ],
          [
           "Regencós",
           74.76754
          ],
          [
           "Ribes de Freser",
           919.8904
          ],
          [
           "Riells i Viabrea",
           96.39582
          ],
          [
           "Ripoll",
           696.5365
          ],
          [
           "Riudarenes",
           90
          ],
          [
           "Riudaura",
           578.0961
          ],
          [
           "Riudellots de la Selva",
           100.0308
          ],
          [
           "Riumors",
           3.91416
          ],
          [
           "Roses",
           6.046805
          ],
          [
           "Rupià",
           63.82626
          ],
          [
           "Sales de Llierca",
           266.1104
          ],
          [
           "Salt",
           87.70262
          ],
          [
           "Sant Andreu Salou",
           132.717
          ],
          [
           "Sant Climent Sescebes",
           83.43581
          ],
          [
           "Sant Feliu de Buixalleu",
           400.1262
          ],
          [
           "Sant Feliu de Guíxols",
           9.581546
          ],
          [
           "Sant Feliu de Pallerols",
           467.6071
          ],
          [
           "Sant Ferriol",
           195.0925
          ],
          [
           "Sant Gregori",
           105.9555
          ],
          [
           "Sant Hilari Sacalm",
           798.2343
          ],
          [
           "Sant Jaume de Llierca",
           212.891
          ],
          [
           "Sant Jordi Desvalls",
           52.30774
          ],
          [
           "Sant Joan de les Abadesses",
           778.5472
          ],
          [
           "Sant Joan de Mollet",
           47.70493
          ],
          [
           "Sant Julià de Ramis",
           174.7159
          ],
          [
           "Vallfogona de Ripollès",
           948.5323
          ],
          [
           "Sant Llorenç de la Muga",
           170.0117
          ],
          [
           "Sant Martí de Llémena",
           249.9684
          ],
          [
           "Sant Martí Vell",
           72.49802
          ],
          [
           "Sant Miquel de Campmajor",
           225.4033
          ],
          [
           "Sant Miquel de Fluvià",
           30.44114
          ],
          [
           "Sant Mori",
           39.63519
          ],
          [
           "Sant Pau de Segúries",
           860.9708
          ],
          [
           "Sant Pere Pescador",
           7.999541
          ],
          [
           "Santa Coloma de Farners",
           140.2747
          ],
          [
           "Santa Cristina d'Aro",
           54.80076
          ],
          [
           "Santa Llogaia d'Àlguema",
           42.30609
          ],
          [
           "Sant Aniol de Finestres",
           403.899
          ],
          [
           "Santa Pau",
           496.2841
          ],
          [
           "Sant Joan les Fonts",
           340.3424
          ],
          [
           "Sarrià de Ter",
           59.73502
          ],
          [
           "Saus, Camallera i Llampaies",
           94.31184
          ],
          [
           "Selva de Mar, La",
           null
          ],
          [
           "Cellera de Ter, La",
           null
          ],
          [
           "Serinyà",
           188.9648
          ],
          [
           "Serra de Daró",
           12.04134
          ],
          [
           "Setcases",
           1265.82
          ],
          [
           "Sils",
           78.97491
          ],
          [
           "Susqueda",
           337.0181
          ],
          [
           "Tallada d'Empordà, La",
           null
          ],
          [
           "Terrades",
           227.8623
          ],
          [
           "Torrent",
           39.58279
          ],
          [
           "Torrent",
           51.56449
          ],
          [
           "Torroella de Fluvià",
           9.374322
          ],
          [
           "Torroella de Montgrí",
           31.4563
          ],
          [
           "Tortellà",
           278.4685
          ],
          [
           "Toses",
           1426.833
          ],
          [
           "Tossa de Mar",
           11.30567
          ],
          [
           "Ultramort",
           21.90849
          ],
          [
           "Ullà",
           24.18182
          ],
          [
           "Ullastret",
           42.31542
          ],
          [
           "Urús",
           1269.748
          ],
          [
           "Vall d'en Bas, La",
           null
          ],
          [
           "Vall de Bianya, La",
           null
          ],
          [
           "Vall-llobrega",
           61.32427
          ],
          [
           "Ventalló",
           29.75963
          ],
          [
           "Verges",
           18.31838
          ],
          [
           "Vidrà",
           984.6575
          ],
          [
           "Vidreres",
           95.18577
          ],
          [
           "Vilabertran",
           20
          ],
          [
           "Vilablareix",
           115.8257
          ],
          [
           "Viladasens",
           90.55965
          ],
          [
           "Viladamat",
           7.623611
          ],
          [
           "Vilademuls",
           121.4595
          ],
          [
           "Viladrau",
           826.043
          ],
          [
           "Vilafant",
           54.1561
          ],
          [
           "Vilaür",
           67.55302
          ],
          [
           "Vilajuïga",
           27.58708
          ],
          [
           "Vilallonga de Ter",
           1063.586
          ],
          [
           "Vilamacolum",
           6
          ],
          [
           "Vilamalla",
           45.89511
          ],
          [
           "Vilamaniscle",
           148.8217
          ],
          [
           "Vilanant",
           100.9817
          ],
          [
           "Vila-sacra",
           13.35783
          ],
          [
           "Vilopriu",
           71.60316
          ],
          [
           "Vilobí d'Onyar",
           121.8775
          ],
          [
           "Biure",
           67.65877
          ],
          [
           "Cruïlles, Monells i Sant Sadurní de l'Heura",
           110.6651
          ],
          [
           "Forallac",
           50.96644
          ],
          [
           "Sant Julià del Llor i Bonmatí",
           156.8956
          ],
          [
           "Agrón",
           1057.493
          ],
          [
           "Alamedilla",
           867.9614
          ],
          [
           "Albolote",
           650.2138
          ],
          [
           "Albondón",
           894.4161
          ],
          [
           "Albuñán",
           1115.975
          ],
          [
           "Albuñol",
           247.2122
          ],
          [
           "Albuñuelas",
           728.1844
          ],
          [
           "Aldeire",
           1274.015
          ],
          [
           "Alfacar",
           915.6451
          ],
          [
           "Algarinejo",
           596.2101
          ],
          [
           "Alhama de Granada",
           890.953
          ],
          [
           "Alhendín",
           736.6528
          ],
          [
           "Alicún de Ortega",
           692.778
          ],
          [
           "Almegíjar",
           811.4709
          ],
          [
           "Almuñécar",
           24.01802
          ],
          [
           "Alquife",
           1202.946
          ],
          [
           "Arenas del Rey",
           870.3409
          ],
          [
           "Armilla",
           671.618
          ],
          [
           "Atarfe",
           604.92
          ],
          [
           "Baza",
           850.2978
          ],
          [
           "Beas de Granada",
           1068.34
          ],
          [
           "Beas de Guadix",
           955.7032
          ],
          [
           "Benalúa",
           858.6871
          ],
          [
           "Benalúa de las Villas",
           848.7814
          ],
          [
           "Benamaurel",
           719.2347
          ],
          [
           "Bérchules",
           1330.123
          ],
          [
           "Bubión",
           1298.578
          ],
          [
           "Busquístar",
           1160.204
          ],
          [
           "Cacín",
           701.9979
          ],
          [
           "Cádiar",
           926.387
          ],
          [
           "Cájar",
           730.5661
          ],
          [
           "Calicasas",
           764.5505
          ],
          [
           "Campotéjar",
           925.5419
          ],
          [
           "Caniles",
           914.9191
          ],
          [
           "Cáñar",
           1026.397
          ],
          [
           "Capileira",
           1444.893
          ],
          [
           "Carataunas",
           761.6864
          ],
          [
           "Cástaras",
           1021.059
          ],
          [
           "Castilléjar",
           770.9531
          ],
          [
           "Castril",
           904.8172
          ],
          [
           "Cenes de la Vega",
           746.4172
          ],
          [
           "Cijuela",
           539.7335
          ],
          [
           "Cogollos de Guadix",
           1142.019
          ],
          [
           "Cogollos de la Vega",
           997.7243
          ],
          [
           "Colomera",
           855.0217
          ],
          [
           "Cortes de Baza",
           707.9819
          ],
          [
           "Cortes y Graena",
           976.4355
          ],
          [
           "Cúllar",
           895.665
          ],
          [
           "Cúllar Vega",
           643.1689
          ],
          [
           "Chauchina",
           552.4158
          ],
          [
           "Chimeneas",
           699.7101
          ],
          [
           "Churriana de la Vega",
           657.35
          ],
          [
           "Darro",
           1115.744
          ],
          [
           "Dehesas de Guadix",
           684.2996
          ],
          [
           "Dehesas Viejas",
           null
          ],
          [
           "Deifontes",
           744.6108
          ],
          [
           "Diezma",
           1227.448
          ],
          [
           "Dílar",
           878.0067
          ],
          [
           "Dólar",
           1204.454
          ],
          [
           "Dúdar",
           812.0253
          ],
          [
           "Dúrcal",
           786.6514
          ],
          [
           "Escúzar",
           873.6536
          ],
          [
           "Ferreira",
           1267.67
          ],
          [
           "Fonelas",
           785.6204
          ],
          [
           "Fornes",
           null
          ],
          [
           "Freila",
           824.4169
          ],
          [
           "Fuente Vaqueros",
           545.4914
          ],
          [
           "Galera",
           837.2482
          ],
          [
           "Gobernador",
           1039.05
          ],
          [
           "Gójar",
           791.8748
          ],
          [
           "Gor",
           1241.51
          ],
          [
           "Gorafe",
           847.6644
          ],
          [
           "Granada",
           697.486
          ],
          [
           "Guadahortuna",
           968.3403
          ],
          [
           "Guadix",
           919.4025
          ],
          [
           "Gualchos",
           335.95
          ],
          [
           "Güéjar Sierra",
           null
          ],
          [
           "Güevéjar",
           876.2341
          ],
          [
           "Huélago",
           914.9307
          ],
          [
           "Huéneja",
           1155.85
          ],
          [
           "Huéscar",
           959.9781
          ],
          [
           "Huétor de Santillán",
           1019.823
          ],
          [
           "Huétor Tájar",
           489
          ],
          [
           "Huétor Vega",
           739.9867
          ],
          [
           "Íllora",
           null
          ],
          [
           "Ítrabo",
           null
          ],
          [
           "Iznalloz",
           816.3354
          ],
          [
           "Játar",
           null
          ],
          [
           "Jayena",
           911.8392
          ],
          [
           "Jérez del Marquesado",
           null
          ],
          [
           "Jete",
           134.2804
          ],
          [
           "Jun",
           763.6108
          ],
          [
           "Juviles",
           1258.52
          ],
          [
           "Calahorra, La",
           null
          ],
          [
           "Láchar",
           559.7148
          ],
          [
           "Lanjarón",
           662.3086
          ],
          [
           "Lanteira",
           1279.618
          ],
          [
           "Lecrín",
           705.3149
          ],
          [
           "Lentegí",
           638.0128
          ],
          [
           "Lobras",
           917.7236
          ],
          [
           "Loja",
           456.7311
          ],
          [
           "Lugros",
           1241.42
          ],
          [
           "Lújar",
           509.9037
          ],
          [
           "Malahá, La",
           null
          ],
          [
           "Maracena",
           649.4002
          ],
          [
           "Marchal",
           926.4476
          ],
          [
           "Moclín",
           1061.082
          ],
          [
           "Molvízar",
           239.2467
          ],
          [
           "Monachil",
           811.2473
          ],
          [
           "Montefrío",
           835.1361
          ],
          [
           "Montejícar",
           1145.294
          ],
          [
           "Montillana",
           1019.378
          ],
          [
           "Moraleda de Zafayona",
           621.8634
          ],
          [
           "Motril",
           41.48437
          ],
          [
           "Murtas",
           1134.923
          ],
          [
           "Nigüelas",
           927.8786
          ],
          [
           "Nívar",
           1038.031
          ],
          [
           "Ogíjares",
           721.7737
          ],
          [
           "Orce",
           932.2527
          ],
          [
           "Órgiva",
           465.8732
          ],
          [
           "Otívar",
           266.5227
          ],
          [
           "Villa de Otura",
           null
          ],
          [
           "Padul",
           757.9304
          ],
          [
           "Pampaneira",
           1054.911
          ],
          [
           "Pedro Martínez",
           1036.34
          ],
          [
           "Peligros",
           687.5328
          ],
          [
           "Peza, La",
           null
          ],
          [
           "Pinos Genil",
           777.8843
          ],
          [
           "Pinos Puente",
           575.2888
          ],
          [
           "Píñar",
           912.619
          ],
          [
           "Polícar",
           1146.402
          ],
          [
           "Polopos",
           783.9265
          ],
          [
           "Pórtugos",
           1312.607
          ],
          [
           "Puebla de Don Fadrique",
           1160.896
          ],
          [
           "Pulianas",
           728.1589
          ],
          [
           "Purullena",
           907.9955
          ],
          [
           "Quéntar",
           855.6412
          ],
          [
           "Rubite",
           778.7302
          ],
          [
           "Salar",
           545.4207
          ],
          [
           "Salobreña",
           20.95912
          ],
          [
           "Santa Cruz del Comercio",
           737.3204
          ],
          [
           "Santa Fe",
           582.6545
          ],
          [
           "Soportújar",
           944.0207
          ],
          [
           "Sorvilán",
           769.9988
          ],
          [
           "Torre-Cardela",
           1219.53
          ],
          [
           "Torvizcón",
           667.7946
          ],
          [
           "Trevélez",
           1542.32
          ],
          [
           "Turón",
           698.5202
          ],
          [
           "Ugíjar",
           547.5222
          ],
          [
           "Válor",
           901.9865
          ],
          [
           "Vélez de Benaudalla",
           170.5154
          ],
          [
           "Ventas de Huelma",
           858.721
          ],
          [
           "Villanueva de las Torres",
           645.9392
          ],
          [
           "Villanueva Mesía",
           493.5079
          ],
          [
           "Víznar",
           1074.323
          ],
          [
           "Zafarraya",
           896.4373
          ],
          [
           "Zubia, La",
           null
          ],
          [
           "Zújar",
           771.5205
          ],
          [
           "Taha, La",
           null
          ],
          [
           "Valle, El",
           null
          ],
          [
           "Nevada",
           792.3126
          ],
          [
           "Alpujarra de la Sierra",
           1238.541
          ],
          [
           "Gabias, Las",
           null
          ],
          [
           "Guájares, Los",
           null
          ],
          [
           "Valle del Zalabí",
           1245.152
          ],
          [
           "Villamena",
           762.7578
          ],
          [
           "Morelábor",
           1023.947
          ],
          [
           "Pinar, El",
           null
          ],
          [
           "Vegas del Genil",
           615
          ],
          [
           "Cuevas del Campo",
           832.7582
          ],
          [
           "Zagra",
           680.0646
          ],
          [
           "Valderrubio",
           null
          ],
          [
           "Domingo Pérez de Granada",
           null
          ],
          [
           "Torrenueva Costa",
           null
          ],
          [
           "Abánades",
           1031.429
          ],
          [
           "Ablanque",
           1045.646
          ],
          [
           "Adobes",
           1379.7
          ],
          [
           "Alaminos",
           1063.001
          ],
          [
           "Alarilla",
           830.985
          ],
          [
           "Albalate de Zorita",
           776.8889
          ],
          [
           "Albares",
           748.9675
          ],
          [
           "Albendiego",
           1191.034
          ],
          [
           "Alcocer",
           784.08
          ],
          [
           "Alcolea de las Peñas",
           1008.211
          ],
          [
           "Alcolea del Pinar",
           1201.03
          ],
          [
           "Alcoroches",
           1411.883
          ],
          [
           "Aldeanueva de Guadalajara",
           950.4051
          ],
          [
           "Algar de Mesa",
           922.8428
          ],
          [
           "Algora",
           1111.185
          ],
          [
           "Alhóndiga",
           811.9917
          ],
          [
           "Alique",
           920.197
          ],
          [
           "Almadrones",
           1054.043
          ],
          [
           "Almoguera",
           658.963
          ],
          [
           "Almonacid de Zorita",
           710.4469
          ],
          [
           "Alocén",
           954.1763
          ],
          [
           "Alovera",
           648.2296
          ],
          [
           "Alustante",
           1398.75
          ],
          [
           "Angón",
           981.9118
          ],
          [
           "Anguita",
           1123.483
          ],
          [
           "Anquela del Ducado",
           1186.507
          ],
          [
           "Anquela del Pedregal",
           1281.853
          ],
          [
           "Aranzueque",
           686.1259
          ],
          [
           "Arbancón",
           902.12
          ],
          [
           "Arbeteta",
           989.9099
          ],
          [
           "Argecilla",
           956.304
          ],
          [
           "Armallones",
           1206.545
          ],
          [
           "Armuña de Tajuña",
           718.0318
          ],
          [
           "Arroyo de las Fraguas",
           1225.092
          ],
          [
           "Atanzón",
           952.7128
          ],
          [
           "Atienza",
           1153.596
          ],
          [
           "Auñón",
           771.4276
          ],
          [
           "Azuqueca de Henares",
           633.6434
          ],
          [
           "Baides",
           841.8666
          ],
          [
           "Baños de Tajo",
           1257.18
          ],
          [
           "Bañuelos",
           1156.416
          ],
          [
           "Barriopedro",
           893.6289
          ],
          [
           "Berninches",
           930.7506
          ],
          [
           "Bodera, La",
           null
          ],
          [
           "Brihuega",
           912.4825
          ],
          [
           "Budia",
           897.6595
          ],
          [
           "Bujalaro",
           847.1917
          ],
          [
           "Bustares",
           1289.387
          ],
          [
           "Cabanillas del Campo",
           686.0259
          ],
          [
           "Campillo de Dueñas",
           1117.296
          ],
          [
           "Campillo de Ranas",
           1097.048
          ],
          [
           "Campisábalos",
           1349.99
          ],
          [
           "Canredondo",
           1159.82
          ],
          [
           "Cantalojas",
           1314.269
          ],
          [
           "Cañizar",
           783.3613
          ],
          [
           "Cardoso de la Sierra, El",
           null
          ],
          [
           "Casa de Uceda",
           915.0853
          ],
          [
           "Casar, El",
           null
          ],
          [
           "Casas de San Galindo",
           1028.008
          ],
          [
           "Caspueñas",
           857.5028
          ],
          [
           "Castejón de Henares",
           959.337
          ],
          [
           "Castellar de la Muela",
           1210.087
          ],
          [
           "Castilforte",
           986.4266
          ],
          [
           "Castilnuevo",
           1084.918
          ],
          [
           "Cendejas de Enmedio",
           912.9671
          ],
          [
           "Cendejas de la Torre",
           957.337
          ],
          [
           "Centenera",
           818.259
          ],
          [
           "Cifuentes",
           897.1795
          ],
          [
           "Cincovillas",
           1016.226
          ],
          [
           "Ciruelas",
           823.9545
          ],
          [
           "Ciruelos del Pinar",
           1265.071
          ],
          [
           "Cobeta",
           1125.074
          ],
          [
           "Cogollor",
           945.5419
          ],
          [
           "Cogolludo",
           878.9348
          ],
          [
           "Condemios de Abajo",
           1313.768
          ],
          [
           "Condemios de Arriba",
           1312.75
          ],
          [
           "Congostrina",
           1010.113
          ],
          [
           "Copernal",
           844.6374
          ],
          [
           "Corduente",
           1058.495
          ],
          [
           "Cubillo de Uceda, El",
           null
          ],
          [
           "Checa",
           1364.288
          ],
          [
           "Chequilla",
           1357.645
          ],
          [
           "Chiloeches",
           793.2838
          ],
          [
           "Chillarón del Rey",
           793.6684
          ],
          [
           "Driebes",
           729.485
          ],
          [
           "Durón",
           736.4201
          ],
          [
           "Embid",
           1084.913
          ],
          [
           "Escamilla",
           1021.877
          ],
          [
           "Escariche",
           791.7507
          ],
          [
           "Escopete",
           869.3793
          ],
          [
           "Espinosa de Henares",
           769.5982
          ],
          [
           "Esplegares",
           1151.916
          ],
          [
           "Establés",
           1148.052
          ],
          [
           "Estriégana",
           1103.077
          ],
          [
           "Fontanar",
           688
          ],
          [
           "Fuembellida",
           1224.531
          ],
          [
           "Fuencemillán",
           832.7535
          ],
          [
           "Fuentelahiguera de Albatages",
           900.9053
          ],
          [
           "Fuentelencina",
           969.9274
          ],
          [
           "Fuentelsaz",
           1122.968
          ],
          [
           "Fuentelviejo",
           902.558
          ],
          [
           "Fuentenovilla",
           800.5488
          ],
          [
           "Gajanejos",
           1031.304
          ],
          [
           "Galápagos",
           736.8546
          ],
          [
           "Galve de Sorbe",
           1364.459
          ],
          [
           "Gascueña de Bornova",
           1207.064
          ],
          [
           "Guadalajara",
           714.2177
          ],
          [
           "Henche",
           821.3327
          ],
          [
           "Heras de Ayuso",
           708.7994
          ],
          [
           "Herrería",
           1085.296
          ],
          [
           "Hiendelaencina",
           1087.683
          ],
          [
           "Hijes",
           1162.066
          ],
          [
           "Hita",
           855.7426
          ],
          [
           "Hombrados",
           1234.546
          ],
          [
           "Hontoba",
           733.9285
          ],
          [
           "Horche",
           921.676
          ],
          [
           "Hortezuela de Océn",
           1096.975
          ],
          [
           "Huerce, La",
           null
          ],
          [
           "Huérmeces del Cerro",
           874.1462
          ],
          [
           "Huertahernando",
           1151.298
          ],
          [
           "Hueva",
           895.2715
          ],
          [
           "Humanes",
           749.6636
          ],
          [
           "Illana",
           750.5403
          ],
          [
           "Iniéstola",
           1157.162
          ],
          [
           "Inviernas, Las",
           null
          ],
          [
           "Irueste",
           854.0027
          ],
          [
           "Jadraque",
           829.6091
          ],
          [
           "Jirueque",
           836.55
          ],
          [
           "Ledanca",
           916.9545
          ],
          [
           "Loranca de Tajuña",
           674.3804
          ],
          [
           "Lupiana",
           768.1111
          ],
          [
           "Luzaga",
           1066.36
          ],
          [
           "Luzón",
           1181.69
          ],
          [
           "Majaelrayo",
           1193.425
          ],
          [
           "Málaga del Fresno",
           784.2536
          ],
          [
           "Malaguilla",
           824.4382
          ],
          [
           "Mandayona",
           869.4004
          ],
          [
           "Mantiel",
           922.6431
          ],
          [
           "Maranchón",
           1250.432
          ],
          [
           "Marchamalo",
           675.0148
          ],
          [
           "Masegoso de Tajuña",
           887.7745
          ],
          [
           "Matarrubia",
           864.5784
          ],
          [
           "Matillas",
           817.9203
          ],
          [
           "Mazarete",
           1211.015
          ],
          [
           "Mazuecos",
           708.3503
          ],
          [
           "Medranda",
           818.2693
          ],
          [
           "Megina",
           1250.206
          ],
          [
           "Membrillera",
           830.0648
          ],
          [
           "Miedes de Atienza",
           1150.024
          ],
          [
           "Mierla, La",
           null
          ],
          [
           "Milmarcos",
           1061.394
          ],
          [
           "Millana",
           819.1633
          ],
          [
           "Miñosa, La",
           null
          ],
          [
           "Mirabueno",
           1069.348
          ],
          [
           "Miralrío",
           1039.837
          ],
          [
           "Mochales",
           993.5259
          ],
          [
           "Mohernando",
           781.8551
          ],
          [
           "Molina de Aragón",
           1066.345
          ],
          [
           "Monasterio",
           931.1225
          ],
          [
           "Mondéjar",
           798.318
          ],
          [
           "Montarrón",
           836.7844
          ],
          [
           "Moratilla de los Meleros",
           843.6528
          ],
          [
           "Morenilla",
           1188.845
          ],
          [
           "Muduex",
           818.524
          ],
          [
           "Navas de Jadraque, Las",
           null
          ],
          [
           "Negredo",
           986.1238
          ],
          [
           "Ocentejo",
           861.1108
          ],
          [
           "Olivar, El",
           null
          ],
          [
           "Olmeda de Cobeta",
           1136.275
          ],
          [
           "Olmeda de Jadraque, La",
           null
          ],
          [
           "Ordial, El",
           null
          ],
          [
           "Orea",
           1501.279
          ],
          [
           "Pálmaces de Jadraque",
           916.1491
          ],
          [
           "Pardos",
           1185.159
          ],
          [
           "Paredes de Sigüenza",
           1002.631
          ],
          [
           "Pareja",
           753.7086
          ],
          [
           "Pastrana",
           760.5256
          ],
          [
           "Pedregal, El",
           null
          ],
          [
           "Peñalén",
           1349.393
          ],
          [
           "Peñalver",
           941.0283
          ],
          [
           "Peralejos de las Truchas",
           1195.926
          ],
          [
           "Peralveche",
           1109.689
          ],
          [
           "Pinilla de Jadraque",
           837.084
          ],
          [
           "Pinilla de Molina",
           1218.99
          ],
          [
           "Pioz",
           877.6891
          ],
          [
           "Piqueras",
           1377.206
          ],
          [
           "Pobo de Dueñas, El",
           null
          ],
          [
           "Poveda de la Sierra",
           1188.949
          ],
          [
           "Pozo de Almoguera",
           783.4164
          ],
          [
           "Pozo de Guadalajara",
           890.155
          ],
          [
           "Prádena de Atienza",
           1143.877
          ],
          [
           "Prados Redondos",
           1158.477
          ],
          [
           "Puebla de Beleña",
           920.8109
          ],
          [
           "Puebla de Valles",
           846.1002
          ],
          [
           "Quer",
           706.5587
          ],
          [
           "Rebollosa de Jadraque",
           1028.823
          ],
          [
           "Recuenco, El",
           null
          ],
          [
           "Renera",
           758.5328
          ],
          [
           "Retiendas",
           889.69
          ],
          [
           "Riba de Saelices",
           987.1724
          ],
          [
           "Rillo de Gallo",
           1056.004
          ],
          [
           "Riofrío del Llano",
           1018.82
          ],
          [
           "Robledillo de Mohernando",
           885.8916
          ],
          [
           "Robledo de Corpes",
           1151.281
          ],
          [
           "Romanillos de Atienza",
           1105.959
          ],
          [
           "Romanones",
           750.4893
          ],
          [
           "Rueda de la Sierra",
           1149.894
          ],
          [
           "Sacecorbo",
           1120.788
          ],
          [
           "Sacedón",
           744.1919
          ],
          [
           "Saelices de la Sal",
           994.9368
          ],
          [
           "Salmerón",
           826.9052
          ],
          [
           "San Andrés del Congosto",
           867.291
          ],
          [
           "San Andrés del Rey",
           1020.218
          ],
          [
           "Santiuste",
           917.553
          ],
          [
           "Saúca",
           1105.572
          ],
          [
           "Sayatón",
           653.2286
          ],
          [
           "Selas",
           1213.464
          ],
          [
           "Setiles",
           1260.147
          ],
          [
           "Sienes",
           1035.452
          ],
          [
           "Sigüenza",
           997.2746
          ],
          [
           "Solanillos del Extremo",
           997.022
          ],
          [
           "Somolinos",
           1253.444
          ],
          [
           "Sotillo, El",
           null
          ],
          [
           "Sotodosos",
           1138.66
          ],
          [
           "Tamajón",
           1034.312
          ],
          [
           "Taragudo",
           765.4358
          ],
          [
           "Taravilla",
           1318.905
          ],
          [
           "Tartanedo",
           1189.511
          ],
          [
           "Tendilla",
           798.4559
          ],
          [
           "Terzaga",
           1178.228
          ],
          [
           "Tierzo",
           1144.808
          ],
          [
           "Toba, La",
           null
          ],
          [
           "Tordelrábano",
           1019.433
          ],
          [
           "Tordellego",
           1248.824
          ],
          [
           "Tordesilos",
           1344.611
          ],
          [
           "Torija",
           969.4859
          ],
          [
           "Torrecuadrada de Molina",
           1188.343
          ],
          [
           "Torrecuadradilla",
           1020.426
          ],
          [
           "Torre del Burgo",
           722.6486
          ],
          [
           "Torrejón del Rey",
           720.3807
          ],
          [
           "Torremocha de Jadraque",
           934.535
          ],
          [
           "Torremocha del Campo",
           1087.207
          ],
          [
           "Torremocha del Pinar",
           1278.072
          ],
          [
           "Torremochuela",
           1169.329
          ],
          [
           "Torrubia",
           1168.836
          ],
          [
           "Tórtola de Henares",
           723.7584
          ],
          [
           "Tortuera",
           1112.692
          ],
          [
           "Tortuero",
           896.6824
          ],
          [
           "Traíd",
           1391.918
          ],
          [
           "Trijueque",
           997.5736
          ],
          [
           "Trillo",
           734.2948
          ],
          [
           "Uceda",
           778.0472
          ],
          [
           "Ujados",
           1148.512
          ],
          [
           "Utande",
           838.1349
          ],
          [
           "Valdarachas",
           765.6512
          ],
          [
           "Valdearenas",
           786.662
          ],
          [
           "Valdeavellano",
           967.1561
          ],
          [
           "Valdeaveruelo",
           731.2949
          ],
          [
           "Valdeconcha",
           740.5092
          ],
          [
           "Valdegrudas",
           925.311
          ],
          [
           "Valdelcubo",
           1019.085
          ],
          [
           "Valdenuño Fernández",
           846.8645
          ],
          [
           "Valdepeñas de la Sierra",
           914.8377
          ],
          [
           "Valderrebollo",
           875.3423
          ],
          [
           "Valdesotos",
           835.3204
          ],
          [
           "Valfermoso de Tajuña",
           958.9691
          ],
          [
           "Valhermoso",
           1229.919
          ],
          [
           "Valtablado del Río",
           842.2578
          ],
          [
           "Valverde de los Arroyos",
           1258.747
          ],
          [
           "Viana de Jadraque",
           868.2767
          ],
          [
           "Villanueva de Alcorón",
           1267.838
          ],
          [
           "Villanueva de Argecilla",
           1024.961
          ],
          [
           "Villanueva de la Torre",
           694
          ],
          [
           "Villares de Jadraque",
           1037.886
          ],
          [
           "Villaseca de Henares",
           856.4547
          ],
          [
           "Villaseca de Uceda",
           914.4682
          ],
          [
           "Villel de Mesa",
           933.9042
          ],
          [
           "Viñuelas",
           903.8938
          ],
          [
           "Yebes",
           890.4029
          ],
          [
           "Yebra",
           753.6019
          ],
          [
           "Yélamos de Abajo",
           916.2587
          ],
          [
           "Yélamos de Arriba",
           947.1408
          ],
          [
           "Yunquera de Henares",
           695.682
          ],
          [
           "Yunta, La",
           null
          ],
          [
           "Zaorejas",
           1225.005
          ],
          [
           "Zarzuela de Jadraque",
           1040.29
          ],
          [
           "Zorita de los Canes",
           596.4229
          ],
          [
           "Semillas",
           1201.821
          ],
          [
           "Abaltzisketa",
           369.3386
          ],
          [
           "Aduna",
           127.536
          ],
          [
           "Aizarnazabal",
           55.51113
          ],
          [
           "Albiztur",
           283.0236
          ],
          [
           "Alegia",
           98.53767
          ],
          [
           "Alkiza",
           330.265
          ],
          [
           "Altzo",
           215.736
          ],
          [
           "Amezketa",
           210.145
          ],
          [
           "Andoain",
           73.38616
          ],
          [
           "Anoeta",
           76.04242
          ],
          [
           "Antzuola",
           236.781
          ],
          [
           "Arama",
           160.9707
          ],
          [
           "Aretxabaleta",
           243.251
          ],
          [
           "Asteasu",
           114.908
          ],
          [
           "Ataun",
           306.0193
          ],
          [
           "Aia",
           308.1779
          ],
          [
           "Azkoitia",
           114.0646
          ],
          [
           "Azpeitia",
           85.31001
          ],
          [
           "Beasain",
           157.5788
          ],
          [
           "Beizama",
           493.4712
          ],
          [
           "Belauntza",
           216.8134
          ],
          [
           "Berastegi",
           404.8885
          ],
          [
           "Berrobi",
           162.8121
          ],
          [
           "Bidania-Goiatz",
           null
          ],
          [
           "Zegama",
           304.9531
          ],
          [
           "Zerain",
           331.8807
          ],
          [
           "Zestoa",
           68.75632
          ],
          [
           "Zizurkil",
           114.8392
          ],
          [
           "Deba",
           7.759184
          ],
          [
           "Eibar",
           130.9591
          ],
          [
           "Elduain",
           254.9981
          ],
          [
           "Elgoibar",
           50.11758
          ],
          [
           "Elgeta",
           466.9089
          ],
          [
           "Eskoriatza",
           283.6373
          ],
          [
           "Ezkio-Itsaso",
           427.0138
          ],
          [
           "Hondarribia",
           16.01497
          ],
          [
           "Gaintza",
           435.0464
          ],
          [
           "Gabiria",
           407.9997
          ],
          [
           "Getaria",
           31.46094
          ],
          [
           "Hernani",
           35.97763
          ],
          [
           "Hernialde",
           292.9313
          ],
          [
           "Ibarra",
           381.8797
          ],
          [
           "Idiazabal",
           216.831
          ],
          [
           "Ikaztegieta",
           115.8261
          ],
          [
           "Irun",
           25.16919
          ],
          [
           "Irura",
           65.21113
          ],
          [
           "Itsasondo",
           163.9407
          ],
          [
           "Larraul",
           237.0397
          ],
          [
           "Lazkao",
           163.6037
          ],
          [
           "Leaburu",
           291.6496
          ],
          [
           "Legazpi",
           409.8437
          ],
          [
           "Legorreta",
           122.1339
          ],
          [
           "Lezo",
           17.89582
          ],
          [
           "Lizartza",
           138.8465
          ],
          [
           "Arrasate/Mondragón",
           211.2374
          ],
          [
           "Mutriku",
           39.22861
          ],
          [
           "Mutiloa",
           242.8707
          ],
          [
           "Olaberria",
           321.9393
          ],
          [
           "Oñati",
           246.6335
          ],
          [
           "Orexa",
           407.6548
          ],
          [
           "Orio",
           14.71972
          ],
          [
           "Ormaiztegi",
           203.0768
          ],
          [
           "Oiartzun",
           102.9721
          ],
          [
           "Pasaia",
           0
          ],
          [
           "Soraluze-Placencia de las Armas",
           null
          ],
          [
           "Errezil",
           295.3495
          ],
          [
           "Errenteria",
           10.49794
          ],
          [
           "Leintz-Gatzaga",
           452.9091
          ],
          [
           "Donostia/San Sebastián",
           null
          ],
          [
           "Segura",
           245.1862
          ],
          [
           "Tolosa",
           80.21484
          ],
          [
           "Urnieta",
           53.07031
          ],
          [
           "Usurbil",
           34.0494
          ],
          [
           "Bergara",
           157.6092
          ],
          [
           "Villabona",
           54.3162
          ],
          [
           "Ordizia",
           153.6479
          ],
          [
           "Urretxu",
           356.4125
          ],
          [
           "Zaldibia",
           173.7619
          ],
          [
           "Zarautz",
           4.358158
          ],
          [
           "Zumarraga",
           356.2693
          ],
          [
           "Zumaia",
           7.985662
          ],
          [
           "Mendaro",
           15.47729
          ],
          [
           "Lasarte-Oria",
           19.10768
          ],
          [
           "Astigarraga",
           23.83108
          ],
          [
           "Baliarrain",
           298.5484
          ],
          [
           "Orendain",
           389.0253
          ],
          [
           "Altzaga",
           284.3419
          ],
          [
           "Gaztelu",
           454.0377
          ],
          [
           "Alájar",
           578.1751
          ],
          [
           "Aljaraque",
           36.69819
          ],
          [
           "Almendro, El",
           null
          ],
          [
           "Almonaster la Real",
           581.577
          ],
          [
           "Almonte",
           77.07417
          ],
          [
           "Alosno",
           183.9688
          ],
          [
           "Aracena",
           673.9959
          ],
          [
           "Aroche",
           407.155
          ],
          [
           "Arroyomolinos de León",
           599.7921
          ],
          [
           "Ayamonte",
           3.156081
          ],
          [
           "Beas",
           120.9826
          ],
          [
           "Berrocal",
           465.0762
          ],
          [
           "Bollullos Par del Condado",
           116.0159
          ],
          [
           "Bonares",
           82.23658
          ],
          [
           "Cabezas Rubias",
           222.5471
          ],
          [
           "Cala",
           594.0731
          ],
          [
           "Calañas",
           297.4208
          ],
          [
           "Campillo, El",
           null
          ],
          [
           "Campofrío",
           518.697
          ],
          [
           "Cañaveral de León",
           545.9366
          ],
          [
           "Cartaya",
           24.17416
          ],
          [
           "Castaño del Robledo",
           739.8133
          ],
          [
           "Cerro de Andévalo, El",
           null
          ],
          [
           "Corteconcepción",
           581.7432
          ],
          [
           "Cortegana",
           686.309
          ],
          [
           "Cortelazor",
           624.8343
          ],
          [
           "Cumbres de Enmedio",
           592.3164
          ],
          [
           "Cumbres de San Bartolomé",
           579.4737
          ],
          [
           "Cumbres Mayores",
           694.7698
          ],
          [
           "Chucena",
           148.2157
          ],
          [
           "Encinasola",
           430.9646
          ],
          [
           "Escacena del Campo",
           172
          ],
          [
           "Fuenteheridos",
           711.6528
          ],
          [
           "Galaroza",
           562.1963
          ],
          [
           "Gibraleón",
           29.21607
          ],
          [
           "Granada de Río-Tinto, La",
           null
          ],
          [
           "Granado, El",
           null
          ],
          [
           "Higuera de la Sierra",
           627.3121
          ],
          [
           "Hinojales",
           615.3049
          ],
          [
           "Hinojos",
           83.66503
          ],
          [
           "Huelva",
           20.74414
          ],
          [
           "Isla Cristina",
           6.336774
          ],
          [
           "Jabugo",
           658.2429
          ],
          [
           "Lepe",
           24.5359
          ],
          [
           "Linares de la Sierra",
           490.7656
          ],
          [
           "Lucena del Puerto",
           83.68538
          ],
          [
           "Manzanilla",
           163.7289
          ],
          [
           "Marines, Los",
           null
          ],
          [
           "Minas de Riotinto",
           417.6434
          ],
          [
           "Moguer",
           53.91101
          ],
          [
           "Nava, La",
           null
          ],
          [
           "Nerva",
           336.9252
          ],
          [
           "Niebla",
           42.88836
          ],
          [
           "Palma del Condado, La",
           null
          ],
          [
           "Palos de la Frontera",
           29.09229
          ],
          [
           "Paterna del Campo",
           184.3562
          ],
          [
           "Paymogo",
           180.5523
          ],
          [
           "Puebla de Guzmán",
           212.8246
          ],
          [
           "Puerto Moral",
           519.9462
          ],
          [
           "Punta Umbría",
           7.50116
          ],
          [
           "Rociana del Condado",
           97.39848
          ],
          [
           "Rosal de la Frontera",
           221.4779
          ],
          [
           "San Bartolomé de la Torre",
           131.2254
          ],
          [
           "San Juan del Puerto",
           8
          ],
          [
           "Sanlúcar de Guadiana",
           15.38703
          ],
          [
           "San Silvestre de Guzmán",
           152.8138
          ],
          [
           "Santa Ana la Real",
           637.6948
          ],
          [
           "Santa Bárbara de Casa",
           310.5924
          ],
          [
           "Santa Olalla del Cala",
           518.6226
          ],
          [
           "Trigueros",
           78.58913
          ],
          [
           "Valdelarco",
           619.3045
          ],
          [
           "Valverde del Camino",
           282.4763
          ],
          [
           "Villablanca",
           95.63974
          ],
          [
           "Villalba del Alcor",
           161.8071
          ],
          [
           "Villanueva de las Cruces",
           119.6258
          ],
          [
           "Villanueva de los Castillejos",
           225
          ],
          [
           "Villarrasa",
           66.98409
          ],
          [
           "Zalamea la Real",
           409.5469
          ],
          [
           "Zufre",
           441.5297
          ],
          [
           "Zarza-Perrunal, La",
           null
          ],
          [
           "Abiego",
           527.2344
          ],
          [
           "Abizanda",
           603.4579
          ],
          [
           "Adahuesca",
           605.8567
          ],
          [
           "Agüero",
           665.527
          ],
          [
           "Aisa",
           1818.995
          ],
          [
           "Albalate de Cinca",
           193.5133
          ],
          [
           "Albalatillo",
           261.1216
          ],
          [
           "Albelda",
           364.2167
          ],
          [
           "Albero Alto",
           438.0544
          ],
          [
           "Albero Bajo",
           400
          ],
          [
           "Alberuela de Tubo",
           350.1249
          ],
          [
           "Alcalá de Gurrea",
           446.0858
          ],
          [
           "Alcalá del Obispo",
           512.0583
          ],
          [
           "Alcampell",
           503.4557
          ],
          [
           "Alcolea de Cinca",
           196.6943
          ],
          [
           "Alcubierre",
           452.4926
          ],
          [
           "Alerre",
           500
          ],
          [
           "Alfántega",
           248.8059
          ],
          [
           "Almudévar",
           401.6333
          ],
          [
           "Almunia de San Juan",
           352.0343
          ],
          [
           "Almuniente",
           340.9094
          ],
          [
           "Alquézar",
           629.8254
          ],
          [
           "Altorricón",
           264.4067
          ],
          [
           "Angüés",
           540
          ],
          [
           "Ansó",
           866.3192
          ],
          [
           "Antillón",
           488.7307
          ],
          [
           "Aragüés del Puerto",
           948.0828
          ],
          [
           "Arén",
           754.0966
          ],
          [
           "Argavieso",
           471.885
          ],
          [
           "Arguis",
           1058.686
          ],
          [
           "Ayerbe",
           592.9154
          ],
          [
           "Azanuy-Alins",
           449.2497
          ],
          [
           "Azara",
           440
          ],
          [
           "Azlor",
           487.5061
          ],
          [
           "Baélls",
           613.6285
          ],
          [
           "Bailo",
           700.7607
          ],
          [
           "Baldellou",
           464.8766
          ],
          [
           "Ballobar",
           158.806
          ],
          [
           "Banastás",
           534.7084
          ],
          [
           "Barbastro",
           336.4226
          ],
          [
           "Barbués",
           360.2759
          ],
          [
           "Barbuñales",
           459.5806
          ],
          [
           "Bárcabo",
           718.25
          ],
          [
           "Belver de Cinca",
           195.5677
          ],
          [
           "Benabarre",
           720.4813
          ],
          [
           "Benasque",
           1158.04
          ],
          [
           "Berbegal",
           513.5282
          ],
          [
           "Bielsa",
           1021.674
          ],
          [
           "Bierge",
           571.966
          ],
          [
           "Biescas",
           866.7526
          ],
          [
           "Binaced",
           281.8098
          ],
          [
           "Binéfar",
           288.9169
          ],
          [
           "Bisaurri",
           1059.666
          ],
          [
           "Biscarrués",
           460.8647
          ],
          [
           "Blecua y Torres",
           462.2051
          ],
          [
           "Boltaña",
           581.7597
          ],
          [
           "Bonansa",
           1248.454
          ],
          [
           "Borau",
           993.8726
          ],
          [
           "Broto",
           900.7473
          ],
          [
           "Caldearenas",
           646.5828
          ],
          [
           "Campo",
           666.6902
          ],
          [
           "Camporrélls",
           619.9485
          ],
          [
           "Canal de Berdún",
           657.1034
          ],
          [
           "Candasnos",
           285.8304
          ],
          [
           "Canfranc",
           1056.137
          ],
          [
           "Capdesaso",
           308.4349
          ],
          [
           "Capella",
           506.7932
          ],
          [
           "Casbas de Huesca",
           560.2505
          ],
          [
           "Castejón del Puente",
           346.0452
          ],
          [
           "Castejón de Monegros",
           470.3977
          ],
          [
           "Castejón de Sos",
           914.6373
          ],
          [
           "Castelflorite",
           310.2441
          ],
          [
           "Castiello de Jaca",
           898.745
          ],
          [
           "Castigaleu",
           836.4407
          ],
          [
           "Castillazuelo",
           362.4823
          ],
          [
           "Castillonroy",
           460.0535
          ],
          [
           "Colungo",
           592.0106
          ],
          [
           "Chalamera",
           194.1678
          ],
          [
           "Chía",
           1178.088
          ],
          [
           "Chimillas",
           521.475
          ],
          [
           "Esplús",
           280.312
          ],
          [
           "Estada",
           370.5751
          ],
          [
           "Estadilla",
           452.7106
          ],
          [
           "Estopiñán del Castillo",
           734.6618
          ],
          [
           "Fago",
           900
          ],
          [
           "Fanlo",
           1362.342
          ],
          [
           "Fiscal",
           768.2214
          ],
          [
           "Fonz",
           442.3823
          ],
          [
           "Foradada del Toscar",
           984.6446
          ],
          [
           "Fraga",
           129.2042
          ],
          [
           "Fueva, La",
           null
          ],
          [
           "Gistaín",
           1436.18
          ],
          [
           "Grado, El",
           null
          ],
          [
           "Grañén",
           328.7679
          ],
          [
           "Graus",
           457.7887
          ],
          [
           "Gurrea de Gállego",
           339.3757
          ],
          [
           "Hoz de Jaca",
           1257.866
          ],
          [
           "Huerto",
           372.563
          ],
          [
           "Huesca",
           467
          ],
          [
           "Ibieca",
           640
          ],
          [
           "Igriés",
           602.9488
          ],
          [
           "Ilche",
           321.2749
          ],
          [
           "Isábena",
           793.2245
          ],
          [
           "Jaca",
           815.3232
          ],
          [
           "Jasa",
           950.1556
          ],
          [
           "Labuerda",
           568.3488
          ],
          [
           "Laluenga",
           469.2747
          ],
          [
           "Lalueza",
           287.3316
          ],
          [
           "Lanaja",
           373.5856
          ],
          [
           "Laperdiguera",
           460.3023
          ],
          [
           "Lascellas-Ponzano",
           520
          ],
          [
           "Lascuarre",
           639.2742
          ],
          [
           "Laspaúles",
           1445.999
          ],
          [
           "Laspuña",
           699.6177
          ],
          [
           "Loarre",
           778.4832
          ],
          [
           "Loporzano",
           575.7261
          ],
          [
           "Loscorrales",
           622.3267
          ],
          [
           "Monesma y Cajigar",
           1022.985
          ],
          [
           "Monflorite-Lascasas",
           435.7766
          ],
          [
           "Montanuy",
           1190.101
          ],
          [
           "Monzón",
           283.2903
          ],
          [
           "Naval",
           605.8396
          ],
          [
           "Novales",
           448.5544
          ],
          [
           "Nueno",
           725.6004
          ],
          [
           "Olvena",
           516.8267
          ],
          [
           "Ontiñena",
           203.3611
          ],
          [
           "Osso de Cinca",
           171.382
          ],
          [
           "Palo",
           706.9058
          ],
          [
           "Panticosa",
           1168.466
          ],
          [
           "Peñalba",
           248.4572
          ],
          [
           "Peñas de Riglos, Las",
           null
          ],
          [
           "Peralta de Alcofea",
           401.0762
          ],
          [
           "Peralta de Calasanz",
           749.5464
          ],
          [
           "Peraltilla",
           425.7468
          ],
          [
           "Perarrúa",
           509.4039
          ],
          [
           "Pertusa",
           349.1424
          ],
          [
           "Piracés",
           420.6216
          ],
          [
           "Plan",
           1009.788
          ],
          [
           "Poleñino",
           296.7819
          ],
          [
           "Pozán de Vero",
           395.2215
          ],
          [
           "Puebla de Castro, La",
           null
          ],
          [
           "Puente de Montañana",
           533.9636
          ],
          [
           "Puértolas",
           1167.452
          ],
          [
           "Pueyo de Araguás, El",
           null
          ],
          [
           "Pueyo de Santa Cruz",
           253.1434
          ],
          [
           "Quicena",
           478.8754
          ],
          [
           "Robres",
           401.188
          ],
          [
           "Sabiñánigo",
           798.9523
          ],
          [
           "Sahún",
           1150.486
          ],
          [
           "Salas Altas",
           532.2599
          ],
          [
           "Salas Bajas",
           445.015
          ],
          [
           "Salillas",
           417.588
          ],
          [
           "Sallent de Gállego",
           1311.04
          ],
          [
           "San Esteban de Litera",
           429.2248
          ],
          [
           "Sangarrén",
           364.8689
          ],
          [
           "San Juan de Plan",
           1160.746
          ],
          [
           "Santa Cilia",
           645.163
          ],
          [
           "Santa Cruz de la Serós",
           782.9228
          ],
          [
           "Santaliestra y San Quílez",
           560.1749
          ],
          [
           "Sariñena",
           287.0003
          ],
          [
           "Secastilla",
           603.276
          ],
          [
           "Seira",
           898.3008
          ],
          [
           "Sena",
           218.4069
          ],
          [
           "Senés de Alcubierre",
           390.8914
          ],
          [
           "Sesa",
           443.4355
          ],
          [
           "Sesué",
           1010.999
          ],
          [
           "Siétamo",
           552.3276
          ],
          [
           "Sopeira",
           749.4668
          ],
          [
           "Tamarite de Litera",
           361.4778
          ],
          [
           "Tardienta",
           383.5266
          ],
          [
           "Tella-Sin",
           873.3126
          ],
          [
           "Tierz",
           465.9984
          ],
          [
           "Tolva",
           680.778
          ],
          [
           "Torla-Ordesa",
           null
          ],
          [
           "Torralba de Aragón",
           391.9379
          ],
          [
           "Torre la Ribera",
           1119.165
          ],
          [
           "Torrente de Cinca",
           113.8372
          ],
          [
           "Torres de Alcanadre",
           390.6137
          ],
          [
           "Torres de Barbués",
           356.6004
          ],
          [
           "Tramaced",
           401.6354
          ],
          [
           "Valfarta",
           366.5498
          ],
          [
           "Valle de Bardají",
           953.4558
          ],
          [
           "Valle de Lierp",
           1064.261
          ],
          [
           "Velilla de Cinca",
           129.0712
          ],
          [
           "Beranuy",
           null
          ],
          [
           "Viacamp y Litera",
           892.478
          ],
          [
           "Vicién",
           397.6077
          ],
          [
           "Villanova",
           982.9814
          ],
          [
           "Villanúa",
           955.9241
          ],
          [
           "Villanueva de Sigena",
           231.32
          ],
          [
           "Yebra de Basa",
           890.7194
          ],
          [
           "Yésero",
           1076.43
          ],
          [
           "Zaidín",
           162.6138
          ],
          [
           "Valle de Hecho",
           836.0576
          ],
          [
           "Puente la Reina de Jaca",
           621.0272
          ],
          [
           "San Miguel del Cinca",
           264.1327
          ],
          [
           "Sotonera, La",
           null
          ],
          [
           "Lupiñén-Ortilla",
           464.1017
          ],
          [
           "Santa María de Dulcis",
           444.2901
          ],
          [
           "Aínsa-Sobrarbe",
           533.0886
          ],
          [
           "Hoz y Costean",
           567.6984
          ],
          [
           "Vencillón",
           199.0715
          ],
          [
           "Albanchez de Mágina",
           838.4496
          ],
          [
           "Alcalá la Real",
           929.4698
          ],
          [
           "Alcaudete",
           660.8123
          ],
          [
           "Aldeaquemada",
           700.2711
          ],
          [
           "Andújar",
           215.333
          ],
          [
           "Arjona",
           436.5915
          ],
          [
           "Arjonilla",
           348.891
          ],
          [
           "Arquillos",
           382.3034
          ],
          [
           "Baeza",
           759.475
          ],
          [
           "Bailén",
           350.999
          ],
          [
           "Baños de la Encina",
           419.4892
          ],
          [
           "Beas de Segura",
           581.1347
          ],
          [
           "Begíjar",
           556.9252
          ],
          [
           "Bélmez de la Moraleda",
           863.7288
          ],
          [
           "Benatae",
           854.9232
          ],
          [
           "Cabra del Santo Cristo",
           946.8475
          ],
          [
           "Cambil",
           766.1705
          ],
          [
           "Campillo de Arenas",
           873.8444
          ],
          [
           "Canena",
           522.5807
          ],
          [
           "Carboneros",
           403.3349
          ],
          [
           "Carolina, La",
           null
          ],
          [
           "Castellar",
           755.1962
          ],
          [
           "Castillo de Locubín",
           702.9443
          ],
          [
           "Cazalilla",
           299.448
          ],
          [
           "Cazorla",
           803.9982
          ],
          [
           "Chiclana de Segura",
           849.2234
          ],
          [
           "Chilluévar",
           731.5903
          ],
          [
           "Escañuela",
           319.1237
          ],
          [
           "Espeluy",
           null
          ],
          [
           "Frailes",
           965.3821
          ],
          [
           "Fuensanta de Martos",
           739.0327
          ],
          [
           "Fuerte del Rey",
           436.6272
          ],
          [
           "Génave",
           828.0142
          ],
          [
           "Guardia de Jaén, La",
           null
          ],
          [
           "Guarromán",
           348.1273
          ],
          [
           "Lahiguera",
           372.6848
          ],
          [
           "Higuera de Calatrava",
           327.069
          ],
          [
           "Hinojares",
           662.6468
          ],
          [
           "Hornos",
           856.1879
          ],
          [
           "Huelma",
           957.8574
          ],
          [
           "Huesa",
           633.4688
          ],
          [
           "Ibros",
           595.4207
          ],
          [
           "Iruela, La",
           null
          ],
          [
           "Iznatoraf",
           1037.591
          ],
          [
           "Jabalquinto",
           487.9245
          ],
          [
           "Jaén",
           576.3939
          ],
          [
           "Jamilena",
           754.0273
          ],
          [
           "Jimena",
           610.7731
          ],
          [
           "Jódar",
           650.8392
          ],
          [
           "Larva",
           736.2119
          ],
          [
           "Linares",
           410.825
          ],
          [
           "Lopera",
           272.2022
          ],
          [
           "Lupión",
           500.9033
          ],
          [
           "Mancha Real",
           759.8338
          ],
          [
           "Marmolejo",
           244.3259
          ],
          [
           "Martos",
           739.3722
          ],
          [
           "Mengíbar",
           322.3982
          ],
          [
           "Montizón",
           644.2109
          ],
          [
           "Navas de San Juan",
           660.0787
          ],
          [
           "Noalejo",
           1090.677
          ],
          [
           "Orcera",
           758.6879
          ],
          [
           "Peal de Becerro",
           548.8191
          ],
          [
           "Pegalajar",
           795.4036
          ],
          [
           "Porcuna",
           468.4524
          ],
          [
           "Pozo Alcón",
           866.2172
          ],
          [
           "Puente de Génave",
           546.5222
          ],
          [
           "Puerta de Segura, La",
           null
          ],
          [
           "Quesada",
           679.3597
          ],
          [
           "Rus",
           589.6185
          ],
          [
           "Sabiote",
           829.248
          ],
          [
           "Santa Elena",
           744.1349
          ],
          [
           "Santiago de Calatrava",
           391.0764
          ],
          [
           "Santisteban del Puerto",
           706.2657
          ],
          [
           "Santo Tomé",
           450.9806
          ],
          [
           "Segura de la Sierra",
           1110.403
          ],
          [
           "Siles",
           831.9842
          ],
          [
           "Sorihuela del Guadalimar",
           630.3478
          ],
          [
           "Torreblascopedro",
           329.4734
          ],
          [
           "Torredelcampo",
           null
          ],
          [
           "Torredonjimeno",
           585.9095
          ],
          [
           "Torreperogil",
           757.6904
          ],
          [
           "Torres",
           885.6928
          ],
          [
           "Torres de Albánchez",
           830.6685
          ],
          [
           "Úbeda",
           737.4617
          ],
          [
           "Valdepeñas de Jaén",
           921.3818
          ],
          [
           "Vilches",
           546.2039
          ],
          [
           "Villacarrillo",
           793.0148
          ],
          [
           "Villanueva de la Reina",
           220.4884
          ],
          [
           "Villanueva del Arzobispo",
           673.1283
          ],
          [
           "Villardompardo",
           443.1493
          ],
          [
           "Villares, Los",
           null
          ],
          [
           "Villarrodrigo",
           870.652
          ],
          [
           "Cárcheles",
           797.9011
          ],
          [
           "Bedmar y Garcíez",
           645.4688
          ],
          [
           "Villatorres",
           302.4043
          ],
          [
           "Santiago-Pontones",
           1229.572
          ],
          [
           "Arroyo del Ojanco",
           540.2305
          ],
          [
           "Acebedo",
           1156.151
          ],
          [
           "Algadefe",
           740.688
          ],
          [
           "Alija del Infantado",
           740.0895
          ],
          [
           "Almanza",
           920.5887
          ],
          [
           "Antigua, La",
           null
          ],
          [
           "Ardón",
           781.1647
          ],
          [
           "Arganza",
           591.5208
          ],
          [
           "Astorga",
           877.6437
          ],
          [
           "Balboa",
           688.6499
          ],
          [
           "Bañeza, La",
           null
          ],
          [
           "Barjas",
           845.5484
          ],
          [
           "Barrios de Luna, Los",
           null
          ],
          [
           "Bembibre",
           650.2163
          ],
          [
           "Benavides",
           843.1052
          ],
          [
           "Benuza",
           790.2425
          ],
          [
           "Bercianos del Páramo",
           820.048
          ],
          [
           "Bercianos del Real Camino",
           854.1403
          ],
          [
           "Berlanga del Bierzo",
           794.8105
          ],
          [
           "Boca de Huérgano",
           1111.524
          ],
          [
           "Boñar",
           976.9141
          ],
          [
           "Borrenes",
           557.0456
          ],
          [
           "Brazuelo",
           968.3392
          ],
          [
           "Burgo Ranero, El",
           null
          ],
          [
           "Burón",
           1098.104
          ],
          [
           "Bustillo del Páramo",
           847.2374
          ],
          [
           "Cabañas Raras",
           564.647
          ],
          [
           "Cabreros del Río",
           764.4465
          ],
          [
           "Cabrillanes",
           1248.003
          ],
          [
           "Cacabelos",
           483.8384
          ],
          [
           "Calzada del Coto",
           823.7811
          ],
          [
           "Campazas",
           767.0551
          ],
          [
           "Campo de Villavidel",
           769.7337
          ],
          [
           "Camponaraya",
           490.8461
          ],
          [
           "Valle de Ancares",
           null
          ],
          [
           "Cármenes",
           1168.941
          ],
          [
           "Carracedelo",
           454.8716
          ],
          [
           "Carrizo",
           891.8846
          ],
          [
           "Carrocera",
           1050.971
          ],
          [
           "Carucedo",
           506.0289
          ],
          [
           "Castilfalé",
           824.5781
          ],
          [
           "Castrillo de Cabrera",
           1064.227
          ],
          [
           "Castrillo de la Valduerna",
           909.4456
          ],
          [
           "Castrocalbón",
           809.9485
          ],
          [
           "Castrocontrigo",
           915
          ],
          [
           "Castropodame",
           746.3535
          ],
          [
           "Castrotierra de Valmadrigal",
           849
          ],
          [
           "Cea",
           840.9099
          ],
          [
           "Cebanico",
           951.4104
          ],
          [
           "Cebrones del Río",
           759.5551
          ],
          [
           "Cimanes de la Vega",
           722.0102
          ],
          [
           "Cimanes del Tejar",
           900.9469
          ],
          [
           "Cistierna",
           948.1119
          ],
          [
           "Congosto",
           691.2043
          ],
          [
           "Corbillos de los Oteros",
           792
          ],
          [
           "Corullón",
           484.8051
          ],
          [
           "Crémenes",
           995.2369
          ],
          [
           "Cuadros",
           903.5613
          ],
          [
           "Cubillas de los Oteros",
           772.6264
          ],
          [
           "Cubillas de Rueda",
           893.3711
          ],
          [
           "Cubillos del Sil",
           584.8532
          ],
          [
           "Chozas de Abajo",
           882.439
          ],
          [
           "Destriana",
           893.5352
          ],
          [
           "Encinedo",
           983.8217
          ],
          [
           "Ercina, La",
           null
          ],
          [
           "Escobar de Campos",
           823.3975
          ],
          [
           "Fabero",
           700.0787
          ],
          [
           "Folgoso de la Ribera",
           777.3079
          ],
          [
           "Fresno de la Vega",
           754
          ],
          [
           "Fuentes de Carbajal",
           805.9653
          ],
          [
           "Garrafe de Torío",
           918.4145
          ],
          [
           "Gordaliza del Pino",
           822.9027
          ],
          [
           "Gordoncillo",
           749.6256
          ],
          [
           "Gradefes",
           855.98
          ],
          [
           "Grajal de Campos",
           804.4705
          ],
          [
           "Gusendos de los Oteros",
           799.3569
          ],
          [
           "Hospital de Órbigo",
           819.4772
          ],
          [
           "Igüeña",
           917.6442
          ],
          [
           "Izagre",
           783.4506
          ],
          [
           "Joarilla de las Matas",
           791.1022
          ],
          [
           "Laguna Dalga",
           800.6324
          ],
          [
           "Laguna de Negrillos",
           782
          ],
          [
           "León",
           841.3373
          ],
          [
           "Lucillo",
           1221.828
          ],
          [
           "Luyego",
           1050.455
          ],
          [
           "Llamas de la Ribera",
           897.8275
          ],
          [
           "Magaz de Cepeda",
           895.6011
          ],
          [
           "Mansilla de las Mulas",
           797.9987
          ],
          [
           "Mansilla Mayor",
           792.6296
          ],
          [
           "Maraña",
           1240.478
          ],
          [
           "Matadeón de los Oteros",
           862.5037
          ],
          [
           "Matallana de Torío",
           1012.9
          ],
          [
           "Matanza",
           832.1714
          ],
          [
           "Molinaseca",
           581.7184
          ],
          [
           "Murias de Paredes",
           1247.882
          ],
          [
           "Noceda del Bierzo",
           829.9746
          ],
          [
           "Oencia",
           842.3768
          ],
          [
           "Omañas, Las",
           null
          ],
          [
           "Onzonilla",
           806.4099
          ],
          [
           "Oseja de Sajambre",
           762.0876
          ],
          [
           "Pajares de los Oteros",
           790.4992
          ],
          [
           "Palacios de la Valduerna",
           795.884
          ],
          [
           "Palacios del Sil",
           876.0037
          ],
          [
           "Páramo del Sil",
           873.4056
          ],
          [
           "Peranzanes",
           944.1578
          ],
          [
           "Pobladura de Pelayo García",
           797
          ],
          [
           "Pola de Gordón, La",
           null
          ],
          [
           "Ponferrada",
           537.8424
          ],
          [
           "Posada de Valdeón",
           915.0911
          ],
          [
           "Pozuelo del Páramo",
           757.3731
          ],
          [
           "Prado de la Guzpeña",
           1052.656
          ],
          [
           "Priaranza del Bierzo",
           512.7617
          ],
          [
           "Prioro",
           1116.744
          ],
          [
           "Puebla de Lillo",
           1142.314
          ],
          [
           "Puente de Domingo Flórez",
           376.8705
          ],
          [
           "Quintana del Castillo",
           1015.925
          ],
          [
           "Quintana del Marco",
           747.4242
          ],
          [
           "Quintana y Congosto",
           815.3561
          ],
          [
           "Regueras de Arriba",
           768.0805
          ],
          [
           "Reyero",
           1147.963
          ],
          [
           "Riaño",
           1110.109
          ],
          [
           "Riego de la Vega",
           809.6022
          ],
          [
           "Riello",
           1050.043
          ],
          [
           "Rioseco de Tapia",
           954.6298
          ],
          [
           "Robla, La",
           null
          ],
          [
           "Roperuelos del Páramo",
           772
          ],
          [
           "Sabero",
           984.9694
          ],
          [
           "Sahagún",
           823.8625
          ],
          [
           "San Adrián del Valle",
           731.8175
          ],
          [
           "San Andrés del Rabanedo",
           855.3212
          ],
          [
           "Sancedo",
           685.0873
          ],
          [
           "San Cristóbal de la Polantera",
           799.5095
          ],
          [
           "San Emiliano",
           1182.807
          ],
          [
           "San Esteban de Nogales",
           785.158
          ],
          [
           "San Justo de la Vega",
           851.7037
          ],
          [
           "San Millán de los Caballeros",
           750.4792
          ],
          [
           "San Pedro Bercianos",
           823.5859
          ],
          [
           "Santa Colomba de Curueño",
           926.4728
          ],
          [
           "Santa Colomba de Somoza",
           998.198
          ],
          [
           "Santa Cristina de Valmadrigal",
           806.7304
          ],
          [
           "Santa Elena de Jamuz",
           767.0479
          ],
          [
           "Santa María de la Isla",
           788.8663
          ],
          [
           "Santa María del Monte de Cea",
           889.7578
          ],
          [
           "Santa María del Páramo",
           812.0701
          ],
          [
           "Santa María de Ordás",
           949.3904
          ],
          [
           "Santa Marina del Rey",
           845.9294
          ],
          [
           "Santas Martas",
           834.6781
          ],
          [
           "Santiago Millas",
           933.2487
          ],
          [
           "Santovenia de la Valdoncina",
           839.5405
          ],
          [
           "Sariegos",
           870.648
          ],
          [
           "Sena de Luna",
           1146.444
          ],
          [
           "Sobrado",
           441.7868
          ],
          [
           "Sobrado",
           531.1628
          ],
          [
           "Soto de la Vega",
           779.906
          ],
          [
           "Soto y Amío",
           1063.305
          ],
          [
           "Toral de los Guzmanes",
           744.2477
          ],
          [
           "Toreno",
           653.8434
          ],
          [
           "Torre del Bierzo",
           738.916
          ],
          [
           "Trabadelo",
           573.4517
          ],
          [
           "Truchas",
           1119.999
          ],
          [
           "Turcia",
           850.9941
          ],
          [
           "Urdiales del Páramo",
           810.6698
          ],
          [
           "Valdefresno",
           871.7318
          ],
          [
           "Valdefuentes del Páramo",
           786.8314
          ],
          [
           "Valdelugueros",
           1194.567
          ],
          [
           "Valdemora",
           777.129
          ],
          [
           "Valdepiélago",
           1030.69
          ],
          [
           "Valdepolo",
           873.5519
          ],
          [
           "Valderas",
           752.0427
          ],
          [
           "Valderrey",
           830.6566
          ],
          [
           "Valderrueda",
           1023.137
          ],
          [
           "Valdesamario",
           1021.253
          ],
          [
           "Val de San Lorenzo",
           886.899
          ],
          [
           "Valdevimbre",
           810.7202
          ],
          [
           "Valencia de Don Juan",
           767.8869
          ],
          [
           "Valverde de la Virgen",
           890.2882
          ],
          [
           "Valverde-Enrique",
           833.2962
          ],
          [
           "Vallecillo",
           846.0903
          ],
          [
           "Vecilla, La",
           null
          ],
          [
           "Vegacervera",
           1046.433
          ],
          [
           "Vega de Espinareda",
           607.2139
          ],
          [
           "Vega de Infanzones",
           780
          ],
          [
           "Vega de Valcarce",
           629.737
          ],
          [
           "Vegaquemada",
           938.0208
          ],
          [
           "Vegas del Condado",
           862
          ],
          [
           "Villablino",
           989.2762
          ],
          [
           "Villabraz",
           847.0239
          ],
          [
           "Villadangos del Páramo",
           899.3542
          ],
          [
           "Toral de los Vados",
           null
          ],
          [
           "Villademor de la Vega",
           748.9046
          ],
          [
           "Villafranca del Bierzo",
           518.9436
          ],
          [
           "Villagatón",
           1015.718
          ],
          [
           "Villamandos",
           727.7506
          ],
          [
           "Villamañán",
           762.7079
          ],
          [
           "Villamartín de Don Sancho",
           892.331
          ],
          [
           "Villamejil",
           909.9926
          ],
          [
           "Villamol",
           819.0361
          ],
          [
           "Villamontán de la Valduerna",
           822.5558
          ],
          [
           "Villamoratiel de las Matas",
           845.7986
          ],
          [
           "Villanueva de las Manzanas",
           780.3629
          ],
          [
           "Villaobispo de Otero",
           868.2292
          ],
          [
           "Villaquejida",
           724.3493
          ],
          [
           "Villaquilambre",
           864.2917
          ],
          [
           "Villarejo de Órbigo",
           816.7586
          ],
          [
           "Villares de Órbigo",
           831.3205
          ],
          [
           "Villasabariego",
           851.8769
          ],
          [
           "Villaselán",
           862.9064
          ],
          [
           "Villaturiel",
           797.6174
          ],
          [
           "Villazala",
           799.6208
          ],
          [
           "Villazanzo de Valderaduey",
           916.1418
          ],
          [
           "Zotes del Páramo",
           782.1282
          ],
          [
           "Villamanín",
           1138.44
          ],
          [
           "Villaornate y Castro",
           737.9659
          ],
          [
           "Abella de la Conca",
           952.1764
          ],
          [
           "Àger",
           607.9741
          ],
          [
           "Agramunt",
           338.7131
          ],
          [
           "Alamús, Els",
           null
          ],
          [
           "Alàs i Cerc",
           745.4337
          ],
          [
           "Albagés, L'",
           null
          ],
          [
           "Albatàrrec",
           151.8978
          ],
          [
           "Albesa",
           238.3108
          ],
          [
           "Albi, L'",
           null
          ],
          [
           "Alcanó",
           216.0127
          ],
          [
           "Alcarràs",
           136.5219
          ],
          [
           "Alcoletge",
           213.2258
          ],
          [
           "Alfarràs",
           298.5017
          ],
          [
           "Alfés",
           233.033
          ],
          [
           "Algerri",
           347.6021
          ],
          [
           "Alguaire",
           282.0707
          ],
          [
           "Alins",
           1056.239
          ],
          [
           "Almacelles",
           249.5397
          ],
          [
           "Almatret",
           468.0571
          ],
          [
           "Almenar",
           300.9621
          ],
          [
           "Alòs de Balaguer",
           298.3662
          ],
          [
           "Alpicat",
           264.9039
          ],
          [
           "Alt Àneu",
           1091.135
          ],
          [
           "Naut Aran",
           1273.032
          ],
          [
           "Anglesola",
           342
          ],
          [
           "Arbeca",
           306.752
          ],
          [
           "Pont de Bar, El",
           null
          ],
          [
           "Arres",
           1300.125
          ],
          [
           "Arsèguel",
           985.8667
          ],
          [
           "Artesa de Lleida",
           201.7782
          ],
          [
           "Artesa de Segre",
           332.3418
          ],
          [
           "Sentiu de Sió, La",
           null
          ],
          [
           "Aspa",
           256.8022
          ],
          [
           "Avellanes i Santa Linya, Les",
           null
          ],
          [
           "Aitona",
           114.3093
          ],
          [
           "Baix Pallars",
           606.2668
          ],
          [
           "Balaguer",
           227.2513
          ],
          [
           "Barbens",
           284.5768
          ],
          [
           "Baronia de Rialb, La",
           null
          ],
          [
           "Vall de Boí, La",
           null
          ],
          [
           "Bassella",
           413.0881
          ],
          [
           "Bausen",
           904.0203
          ],
          [
           "Belianes",
           375.9277
          ],
          [
           "Bellcaire d'Urgell",
           264.6959
          ],
          [
           "Bell-lloc d'Urgell",
           199.3234
          ],
          [
           "Bellmunt d'Urgell",
           347.8303
          ],
          [
           "Bellpuig",
           293.6344
          ],
          [
           "Bellver de Cerdanya",
           1033.611
          ],
          [
           "Bellvís",
           209
          ],
          [
           "Benavent de Segrià",
           234.1884
          ],
          [
           "Biosca",
           433.4449
          ],
          [
           "Bovera",
           302.8737
          ],
          [
           "Bòrdes, Es",
           null
          ],
          [
           "Borges Blanques, Les",
           null
          ],
          [
           "Bossòst",
           712.4904
          ],
          [
           "Cabanabona",
           427.6726
          ],
          [
           "Cabó",
           722.8973
          ],
          [
           "Camarasa",
           259.0302
          ],
          [
           "Canejan",
           824.3683
          ],
          [
           "Castellar de la Ribera",
           645.1425
          ],
          [
           "Castelldans",
           354.4236
          ],
          [
           "Castellnou de Seana",
           275.9631
          ],
          [
           "Castelló de Farfanya",
           322.9813
          ],
          [
           "Castellserà",
           269.1279
          ],
          [
           "Cava",
           1260.723
          ],
          [
           "Cervera",
           514.1133
          ],
          [
           "Cervià de les Garrigues",
           455.9915
          ],
          [
           "Ciutadilla",
           490.5793
          ],
          [
           "Clariana de Cardener",
           505.0493
          ],
          [
           "Cogul, El",
           null
          ],
          [
           "Coll de Nargó",
           562.6977
          ],
          [
           "Corbins",
           195.6501
          ],
          [
           "Cubells",
           470.9419
          ],
          [
           "Espluga Calba, L'",
           null
          ],
          [
           "Espot",
           1329.839
          ],
          [
           "Estaràs",
           592.5443
          ],
          [
           "Esterri d'Àneu",
           958.5542
          ],
          [
           "Esterri de Cardós",
           1192.209
          ],
          [
           "Estamariu",
           1044.079
          ],
          [
           "Farrera",
           1347.608
          ],
          [
           "Floresta, La",
           null
          ],
          [
           "Fondarella",
           239.177
          ],
          [
           "Foradada",
           433.8825
          ],
          [
           "Fuliola, La",
           null
          ],
          [
           "Fulleda",
           580.2524
          ],
          [
           "Gavet de la Conca",
           419.0891
          ],
          [
           "Golmés",
           270.857
          ],
          [
           "Gósol",
           1425.53
          ],
          [
           "Granadella, La",
           null
          ],
          [
           "Granja d'Escarp, La",
           null
          ],
          [
           "Granyanella",
           507.9074
          ],
          [
           "Granyena de Segarra",
           585.0941
          ],
          [
           "Granyena de les Garrigues",
           357.5183
          ],
          [
           "Guimerà",
           512.8314
          ],
          [
           "Guissona",
           494.9318
          ],
          [
           "Guixers",
           877.1038
          ],
          [
           "Ivars de Noguera",
           326.9235
          ],
          [
           "Ivars d'Urgell",
           265.9485
          ],
          [
           "Ivorra",
           553.0552
          ],
          [
           "Isona i Conca Dellà",
           659.2741
          ],
          [
           "Juncosa",
           572.8483
          ],
          [
           "Juneda",
           266.91
          ],
          [
           "Lleida",
           166.4499
          ],
          [
           "Les",
           638.8151
          ],
          [
           "Linyola",
           249.5356
          ],
          [
           "Lladorre",
           1071.652
          ],
          [
           "Lladurs",
           820
          ],
          [
           "Llardecans",
           397.0908
          ],
          [
           "Llavorsí",
           796.6211
          ],
          [
           "Lles de Cerdanya",
           1467.283
          ],
          [
           "Llimiana",
           753.4308
          ],
          [
           "Llobera",
           846.8084
          ],
          [
           "Maldà",
           418.2859
          ],
          [
           "Massalcoreig",
           94.94318
          ],
          [
           "Massoteres",
           503.74
          ],
          [
           "Maials",
           374.7433
          ],
          [
           "Menàrguens",
           208.0313
          ],
          [
           "Miralcamp",
           267.9695
          ],
          [
           "Molsosa, La",
           null
          ],
          [
           "Mollerussa",
           255.1743
          ],
          [
           "Montgai",
           285.5883
          ],
          [
           "Montellà i Martinet",
           960.6633
          ],
          [
           "Montferrer i Castellbò",
           718.1434
          ],
          [
           "Montoliu de Segarra",
           683.5535
          ],
          [
           "Montoliu de Lleida",
           148.1022
          ],
          [
           "Montornès de Segarra",
           586.9286
          ],
          [
           "Nalec",
           468.2451
          ],
          [
           "Navès",
           602.2256
          ],
          [
           "Odèn",
           1283.885
          ],
          [
           "Oliana",
           456.1855
          ],
          [
           "Oliola",
           415.9434
          ],
          [
           "Olius",
           555.1147
          ],
          [
           "Oluges, Les",
           null
          ],
          [
           "Omellons, Els",
           null
          ],
          [
           "Omells de na Gaia, Els",
           null
          ],
          [
           "Organyà",
           551.4544
          ],
          [
           "Os de Balaguer",
           462.0808
          ],
          [
           "Ossó de Sió",
           387.8812
          ],
          [
           "Palau d'Anglesola, El",
           null
          ],
          [
           "Conca de Dalt",
           502.1039
          ],
          [
           "Coma i la Pedra, La",
           null
          ],
          [
           "Penelles",
           283.3288
          ],
          [
           "Peramola",
           565.0052
          ],
          [
           "Pinell de Solsonès",
           632.7087
          ],
          [
           "Pinós",
           798.8068
          ],
          [
           "Poal, El",
           null
          ],
          [
           "Pobla de Cérvoles, La",
           null
          ],
          [
           "Bellaguarda",
           630.9696
          ],
          [
           "Pobla de Segur, La",
           null
          ],
          [
           "Ponts",
           365.3082
          ],
          [
           "Pont de Suert, El",
           null
          ],
          [
           "Portella, La",
           null
          ],
          [
           "Prats i Sansor",
           1104.549
          ],
          [
           "Preixana",
           310.7234
          ],
          [
           "Preixens",
           310.299
          ],
          [
           "Prullans",
           1148.77
          ],
          [
           "Puiggròs",
           316.5753
          ],
          [
           "Puigverd d'Agramunt",
           347.943
          ],
          [
           "Puigverd de Lleida",
           211.46
          ],
          [
           "Rialp",
           716.666
          ],
          [
           "Ribera d'Urgellet",
           647.853
          ],
          [
           "Riner",
           698.1688
          ],
          [
           "Rosselló",
           257
          ],
          [
           "Salàs de Pallars",
           544.2087
          ],
          [
           "Sanaüja",
           405.1787
          ],
          [
           "Sant Guim de Freixenet",
           742.983
          ],
          [
           "Sant Llorenç de Morunys",
           931.3393
          ],
          [
           "Sant Ramon",
           660.8257
          ],
          [
           "Sant Esteve de la Sarga",
           906.1107
          ],
          [
           "Sant Guim de la Plana",
           554.3297
          ],
          [
           "Sarroca de Lleida",
           194.3455
          ],
          [
           "Sarroca de Bellera",
           958.9928
          ],
          [
           "Senterada",
           735.4564
          ],
          [
           "Seu d'Urgell, La",
           null
          ],
          [
           "Seròs",
           105.2147
          ],
          [
           "Sidamon",
           230.7424
          ],
          [
           "Soleràs, El",
           null
          ],
          [
           "Solsona",
           679.2817
          ],
          [
           "Soriguera",
           1182.144
          ],
          [
           "Sort",
           690.4686
          ],
          [
           "Soses",
           124.5909
          ],
          [
           "Sudanell",
           156.6789
          ],
          [
           "Sunyer",
           213.2605
          ],
          [
           "Talarn",
           543.7527
          ],
          [
           "Talavera",
           757.597
          ],
          [
           "Tàrrega",
           382.5588
          ],
          [
           "Tarrés",
           585.189
          ],
          [
           "Tarroja de Segarra",
           467.2543
          ],
          [
           "Térmens",
           208.6154
          ],
          [
           "Tírvia",
           1019.093
          ],
          [
           "Tiurana",
           395.5405
          ],
          [
           "Torà",
           436.7267
          ],
          [
           "Torms, Els",
           null
          ],
          [
           "Tornabous",
           294.4711
          ],
          [
           "Torrebesses",
           262.0064
          ],
          [
           "Torre de Cabdella, La",
           null
          ],
          [
           "Torrefarrera",
           218.273
          ],
          [
           "Torregrossa",
           238.2074
          ],
          [
           "Torrelameu",
           202.6676
          ],
          [
           "Torres de Segre",
           125.5436
          ],
          [
           "Torre-serona",
           194.7614
          ],
          [
           "Tremp",
           470.7209
          ],
          [
           "Vallbona de les Monges",
           494.5486
          ],
          [
           "Valls de Valira, Les",
           null
          ],
          [
           "Vallfogona de Balaguer",
           232.8295
          ],
          [
           "Verdú",
           437.169
          ],
          [
           "Vielha e Mijaran",
           990.1799
          ],
          [
           "Vilagrassa",
           355.2005
          ],
          [
           "Vilaller",
           980.9213
          ],
          [
           "Vilamòs",
           1260.609
          ],
          [
           "Vilanova de Bellpuig",
           293.5143
          ],
          [
           "Vilanova de l'Aguda",
           398.3846
          ],
          [
           "Vilanova de Meià",
           608.9849
          ],
          [
           "Vilanova de Segrià",
           255.3218
          ],
          [
           "Vila-sana",
           249.5091
          ],
          [
           "Vilosell, El",
           null
          ],
          [
           "Vilanova de la Barca",
           197.9396
          ],
          [
           "Vinaixa",
           483.3008
          ],
          [
           "Vall de Cardós",
           938.0867
          ],
          [
           "Sant Martí de Riucorb",
           407.3113
          ],
          [
           "Guingueta d'Àneu, La",
           null
          ],
          [
           "Castell de Mur",
           867.5153
          ],
          [
           "Ribera d'Ondara",
           557.7328
          ],
          [
           "Valls d'Aguilar, Les",
           null
          ],
          [
           "Torrefeta i Florejacs",
           473.3801
          ],
          [
           "Fígols i Alinyà",
           638.1115
          ],
          [
           "Vansa i Fórnols, La",
           null
          ],
          [
           "Josa i Tuixén",
           1182.531
          ],
          [
           "Plans de Sió, Els",
           null
          ],
          [
           "Gimenells i el Pla de la Font",
           258.7494
          ],
          [
           "Riu de Cerdanya",
           1174.395
          ],
          [
           "Ábalos",
           590.3367
          ],
          [
           "Agoncillo",
           346.0684
          ],
          [
           "Aguilar del Río Alhama",
           642.4493
          ],
          [
           "Ajamil de Cameros",
           1013.896
          ],
          [
           "Albelda de Iregua",
           527.8994
          ],
          [
           "Alberite",
           451.6525
          ],
          [
           "Alcanadre",
           346.884
          ],
          [
           "Aldeanueva de Ebro",
           347
          ],
          [
           "Alesanco",
           565.6456
          ],
          [
           "Alesón",
           573.7119
          ],
          [
           "Alfaro",
           308.5974
          ],
          [
           "Almarza de Cameros",
           1069.351
          ],
          [
           "Anguciana",
           479.3135
          ],
          [
           "Anguiano",
           652.6512
          ],
          [
           "Arenzana de Abajo",
           546.6681
          ],
          [
           "Arenzana de Arriba",
           597.5667
          ],
          [
           "Arnedillo",
           671.225
          ],
          [
           "Arnedo",
           529.8414
          ],
          [
           "Arrúbal",
           356.6617
          ],
          [
           "Ausejo",
           559.8897
          ],
          [
           "Autol",
           447.7715
          ],
          [
           "Azofra",
           549.5315
          ],
          [
           "Badarán",
           626.2255
          ],
          [
           "Bañares",
           594.9688
          ],
          [
           "Baños de Rioja",
           549.6365
          ],
          [
           "Baños de Río Tobía",
           579.7742
          ],
          [
           "Berceo",
           725.8651
          ],
          [
           "Bergasa",
           659.4448
          ],
          [
           "Bergasillas Bajera",
           835.3159
          ],
          [
           "Bezares",
           691.6075
          ],
          [
           "Bobadilla",
           575.4393
          ],
          [
           "Brieva de Cameros",
           962.1104
          ],
          [
           "Briñas",
           451.1893
          ],
          [
           "Briones",
           502.3963
          ],
          [
           "Cabezón de Cameros",
           933.9756
          ],
          [
           "Calahorra",
           350.8057
          ],
          [
           "Camprovín",
           655.001
          ],
          [
           "Canales de la Sierra",
           1034.365
          ],
          [
           "Canillas de Río Tuerto",
           622.8653
          ],
          [
           "Cañas",
           644.0715
          ],
          [
           "Cárdenas",
           569.4557
          ],
          [
           "Casalarreina",
           499.5124
          ],
          [
           "Castañares de Rioja",
           544.8438
          ],
          [
           "Castroviejo",
           957.0941
          ],
          [
           "Cellorigo",
           779.0795
          ],
          [
           "Cenicero",
           433.9284
          ],
          [
           "Cervera del Río Alhama",
           533.9604
          ],
          [
           "Cidamón",
           584.6813
          ],
          [
           "Cihuri",
           487.6716
          ],
          [
           "Cirueña",
           753.5059
          ],
          [
           "Clavijo",
           870.1968
          ],
          [
           "Cordovín",
           591.1239
          ],
          [
           "Corera",
           524.1997
          ],
          [
           "Cornago",
           700.761
          ],
          [
           "Corporales",
           729.3324
          ],
          [
           "Cuzcurrita de Río Tirón",
           518.9031
          ],
          [
           "Daroca de Rioja",
           718.0956
          ],
          [
           "Enciso",
           800.3494
          ],
          [
           "Entrena",
           556.1802
          ],
          [
           "Estollo",
           748.5827
          ],
          [
           "Ezcaray",
           813.0378
          ],
          [
           "Foncea",
           696.9241
          ],
          [
           "Fonzaleche",
           558.2291
          ],
          [
           "Fuenmayor",
           436.0469
          ],
          [
           "Galbárruli",
           656.6448
          ],
          [
           "Galilea",
           558.0848
          ],
          [
           "Gallinero de Cameros",
           1052.772
          ],
          [
           "Gimileo",
           480.4563
          ],
          [
           "Grañón",
           728.1026
          ],
          [
           "Grávalos",
           757.1207
          ],
          [
           "Haro",
           478.9891
          ],
          [
           "Herce",
           592.4082
          ],
          [
           "Herramélluri",
           572.0812
          ],
          [
           "Hervías",
           655.4955
          ],
          [
           "Hormilla",
           515.5236
          ],
          [
           "Hormilleja",
           492.3883
          ],
          [
           "Hornillos de Cameros",
           1145.726
          ],
          [
           "Hornos de Moncalvillo",
           677.0172
          ],
          [
           "Huércanos",
           514.9982
          ],
          [
           "Igea",
           568.7258
          ],
          [
           "Jalón de Cameros",
           869.4159
          ],
          [
           "Laguna de Cameros",
           1043.967
          ],
          [
           "Lagunilla del Jubera",
           612.0925
          ],
          [
           "Lardero",
           438.448
          ],
          [
           "Ledesma de la Cogolla",
           748.3919
          ],
          [
           "Leiva",
           586.0123
          ],
          [
           "Leza de Río Leza",
           574.0675
          ],
          [
           "Logroño",
           396.4728
          ],
          [
           "Lumbreras de Cameros",
           null
          ],
          [
           "Manjarrés",
           630.46
          ],
          [
           "Mansilla de la Sierra",
           959.0128
          ],
          [
           "Manzanares de Rioja",
           800.946
          ],
          [
           "Matute",
           685.0762
          ],
          [
           "Medrano",
           599.9323
          ],
          [
           "Munilla",
           801.2989
          ],
          [
           "Murillo de Río Leza",
           409.3719
          ],
          [
           "Muro de Aguas",
           881.153
          ],
          [
           "Muro en Cameros",
           1102.083
          ],
          [
           "Nájera",
           491.8676
          ],
          [
           "Nalda",
           621.6317
          ],
          [
           "Navajún",
           927.8933
          ],
          [
           "Navarrete",
           505.4879
          ],
          [
           "Nestares",
           861.1385
          ],
          [
           "Nieva de Cameros",
           1008.789
          ],
          [
           "Ocón",
           885.0756
          ],
          [
           "Ochánduri",
           550.3547
          ],
          [
           "Ojacastro",
           792.9922
          ],
          [
           "Ollauri",
           499.6054
          ],
          [
           "Ortigosa de Cameros",
           1061.807
          ],
          [
           "Pazuengos",
           1160.065
          ],
          [
           "Pedroso",
           1699.063
          ],
          [
           "Pinillos",
           1009.915
          ],
          [
           "Pradejón",
           364.7923
          ],
          [
           "Pradillo",
           884.1365
          ],
          [
           "Préjano",
           705.9279
          ],
          [
           "Quel",
           477.9927
          ],
          [
           "Rabanera",
           973.8629
          ],
          [
           "Rasillo de Cameros, El",
           null
          ],
          [
           "Redal, El",
           null
          ],
          [
           "Ribafrecha",
           499.8856
          ],
          [
           "Rincón de Soto",
           291.5012
          ],
          [
           "Robres del Castillo",
           732.1305
          ],
          [
           "Rodezno",
           546.4205
          ],
          [
           "Sajazarra",
           515.8929
          ],
          [
           "San Asensio",
           535.0013
          ],
          [
           "San Millán de la Cogolla",
           725.5252
          ],
          [
           "San Millán de Yécora",
           658
          ],
          [
           "San Román de Cameros",
           841.6791
          ],
          [
           "Santa Coloma",
           763.788
          ],
          [
           "Santa Engracia del Jubera",
           651.6323
          ],
          [
           "Santa Eulalia Bajera",
           633.9897
          ],
          [
           "Santo Domingo de la Calzada",
           641.3798
          ],
          [
           "San Torcuato",
           599.8317
          ],
          [
           "Santurde de Rioja",
           713.6771
          ],
          [
           "Santurdejo",
           776.8748
          ],
          [
           "San Vicente de la Sonsierra",
           499.6028
          ],
          [
           "Sojuela",
           666.7807
          ],
          [
           "Sorzano",
           722.3146
          ],
          [
           "Sotés",
           670.8347
          ],
          [
           "Soto en Cameros",
           732.1506
          ],
          [
           "Terroba",
           799.225
          ],
          [
           "Tirgo",
           521.4808
          ],
          [
           "Tobía",
           689.8137
          ],
          [
           "Tormantos",
           608.6924
          ],
          [
           "Torrecilla en Cameros",
           751.1946
          ],
          [
           "Torrecilla sobre Alesanco",
           613.0709
          ],
          [
           "Torre en Cameros",
           1134.403
          ],
          [
           "Torremontalbo",
           424.9834
          ],
          [
           "Treviana",
           586.3843
          ],
          [
           "Tricio",
           563.7631
          ],
          [
           "Tudelilla",
           541.8914
          ],
          [
           "Uruñuela",
           498.3737
          ],
          [
           "Valdemadera",
           965.7645
          ],
          [
           "Valgañón",
           937.2846
          ],
          [
           "Ventosa",
           640.8217
          ],
          [
           "Ventrosa",
           968.6185
          ],
          [
           "Viguera",
           687.5367
          ],
          [
           "Villalba de Rioja",
           552.1461
          ],
          [
           "Villalobar de Rioja",
           586.6432
          ],
          [
           "Villamediana de Iregua",
           444.9522
          ],
          [
           "Villanueva de Cameros",
           886.7664
          ],
          [
           "Villar de Arnedo, El",
           null
          ],
          [
           "Villar de Torre",
           766.6995
          ],
          [
           "Villarejo",
           833.6031
          ],
          [
           "Villarroya",
           920.0107
          ],
          [
           "Villarta-Quintana",
           754.0377
          ],
          [
           "Villavelayo",
           952.2856
          ],
          [
           "Villaverde de Rioja",
           798.5352
          ],
          [
           "Villoslada de Cameros",
           1072.263
          ],
          [
           "Viniegra de Abajo",
           887.5325
          ],
          [
           "Viniegra de Arriba",
           1193.244
          ],
          [
           "Zarratón",
           560.7578
          ],
          [
           "Zarzosa",
           937.8779
          ],
          [
           "Zorraquín",
           872.1453
          ],
          [
           "Abadín",
           475.1587
          ],
          [
           "Alfoz",
           56.10721
          ],
          [
           "Antas de Ulla",
           558.4615
          ],
          [
           "Baleira",
           661.8257
          ],
          [
           "Barreiros",
           193.2786
          ],
          [
           "Becerreá",
           641.6993
          ],
          [
           "Begonte",
           416.7638
          ],
          [
           "Bóveda",
           358.4192
          ],
          [
           "Carballedo",
           556.9655
          ],
          [
           "Castro de Rei",
           431.6718
          ],
          [
           "Castroverde",
           589.1481
          ],
          [
           "Cervantes",
           648.1846
          ],
          [
           "Cervo",
           59.01057
          ],
          [
           "Corgo, O",
           null
          ],
          [
           "Cospeito",
           426.1127
          ],
          [
           "Chantada",
           491.9615
          ],
          [
           "Folgoso do Courel",
           597.0881
          ],
          [
           "Fonsagrada, A",
           null
          ],
          [
           "Foz",
           6.783125
          ],
          [
           "Friol",
           483.822
          ],
          [
           "Xermade",
           468.3652
          ],
          [
           "Guitiriz",
           448.572
          ],
          [
           "Guntín",
           465.0538
          ],
          [
           "Incio, O",
           null
          ],
          [
           "Xove",
           61.07624
          ],
          [
           "Láncara",
           409.2137
          ],
          [
           "Lourenzá",
           56.24402
          ],
          [
           "Lugo",
           468.2347
          ],
          [
           "Meira",
           488.5347
          ],
          [
           "Mondoñedo",
           132.6622
          ],
          [
           "Monforte de Lemos",
           299.166
          ],
          [
           "Monterroso",
           542.8273
          ],
          [
           "Muras",
           486.4558
          ],
          [
           "Navia de Suarna",
           324.8547
          ],
          [
           "Negueira de Muñiz",
           358.476
          ],
          [
           "Nogais, As",
           null
          ],
          [
           "Ourol",
           253.6125
          ],
          [
           "Outeiro de Rei",
           410.7439
          ],
          [
           "Palas de Rei",
           558.8809
          ],
          [
           "Pantón",
           304.506
          ],
          [
           "Paradela",
           559.2864
          ],
          [
           "Páramo, O",
           null
          ],
          [
           "Pastoriza, A",
           null
          ],
          [
           "Pedrafita do Cebreiro",
           1110.924
          ],
          [
           "Pol",
           530.1712
          ],
          [
           "Pobra do Brollón, A",
           null
          ],
          [
           "Pontenova, A",
           null
          ],
          [
           "Portomarín",
           387.5597
          ],
          [
           "Quiroga",
           268.3575
          ],
          [
           "Ribadeo",
           41.25553
          ],
          [
           "Ribas de Sil",
           532.9442
          ],
          [
           "Ribeira de Piquín",
           616.5509
          ],
          [
           "Riotorto",
           393.7881
          ],
          [
           "Samos",
           542.352
          ],
          [
           "Rábade",
           404.1569
          ],
          [
           "Sarria",
           447.6552
          ],
          [
           "Saviñao, O",
           null
          ],
          [
           "Sober",
           398.1687
          ],
          [
           "Taboada",
           542.3445
          ],
          [
           "Trabada",
           214.7123
          ],
          [
           "Triacastela",
           671.5583
          ],
          [
           "Valadouro, O",
           null
          ],
          [
           "Vicedo, O",
           null
          ],
          [
           "Vilalba",
           452.9068
          ],
          [
           "Viveiro",
           21.87932
          ],
          [
           "Baralla",
           488.2265
          ],
          [
           "Burela",
           62.66413
          ],
          [
           "Acebeda, La",
           null
          ],
          [
           "Ajalvir",
           680.1722
          ],
          [
           "Alameda del Valle",
           1109.934
          ],
          [
           "Álamo, El",
           null
          ],
          [
           "Alcalá de Henares",
           593.7416
          ],
          [
           "Alcobendas",
           694.4304
          ],
          [
           "Alcorcón",
           717.5549
          ],
          [
           "Aldea del Fresno",
           476.7994
          ],
          [
           "Algete",
           712.8972
          ],
          [
           "Alpedrete",
           916.7029
          ],
          [
           "Ambite",
           667.338
          ],
          [
           "Anchuelo",
           761.7067
          ],
          [
           "Aranjuez",
           502.3892
          ],
          [
           "Arganda del Rey",
           626.9236
          ],
          [
           "Arroyomolinos",
           397.1799
          ],
          [
           "Arroyomolinos",
           597.4142
          ],
          [
           "Atazar, El",
           null
          ],
          [
           "Batres",
           603.6849
          ],
          [
           "Becerril de la Sierra",
           1086.586
          ],
          [
           "Belmonte de Tajo",
           732.0183
          ],
          [
           "Berzosa del Lozoya",
           1079.826
          ],
          [
           "Berrueco, El",
           null
          ],
          [
           "Boadilla del Monte",
           673.7737
          ],
          [
           "Boalo, El",
           null
          ],
          [
           "Braojos",
           1189.477
          ],
          [
           "Brea de Tajo",
           722.8417
          ],
          [
           "Brunete",
           654.7903
          ],
          [
           "Buitrago del Lozoya",
           977.8387
          ],
          [
           "Bustarviejo",
           1217.359
          ],
          [
           "Cabanillas de la Sierra",
           921.8676
          ],
          [
           "Cabrera, La",
           null
          ],
          [
           "Cadalso de los Vidrios",
           799.9886
          ],
          [
           "Camarma de Esteruelas",
           639.19
          ],
          [
           "Campo Real",
           765.6791
          ],
          [
           "Canencia",
           1142.31
          ],
          [
           "Carabaña",
           612.9524
          ],
          [
           "Casarrubuelos",
           624.7643
          ],
          [
           "Cenicientos",
           778.7822
          ],
          [
           "Cercedilla",
           1191.372
          ],
          [
           "Cervera de Buitrago",
           916.3304
          ],
          [
           "Ciempozuelos",
           580.2641
          ],
          [
           "Cobeña",
           677.4468
          ],
          [
           "Colmenar del Arroyo",
           679.1825
          ],
          [
           "Colmenar de Oreja",
           756.9265
          ],
          [
           "Colmenarejo",
           875.1868
          ],
          [
           "Colmenar Viejo",
           880.6345
          ],
          [
           "Collado Mediano",
           1029.724
          ],
          [
           "Collado Villalba",
           875.7213
          ],
          [
           "Corpa",
           819.1653
          ],
          [
           "Coslada",
           628.7247
          ],
          [
           "Cubas de la Sagra",
           648.7275
          ],
          [
           "Chapinería",
           679.6159
          ],
          [
           "Chinchón",
           777.1609
          ],
          [
           "Daganzo de Arriba",
           665.5711
          ],
          [
           "Escorial, El",
           null
          ],
          [
           "Estremera",
           643.0197
          ],
          [
           "Fresnedillas de la Oliva",
           895.7322
          ],
          [
           "Fresno de Torote",
           657.2809
          ],
          [
           "Fuenlabrada",
           679.0076
          ],
          [
           "Fuente el Saz de Jarama",
           642.1251
          ],
          [
           "Fuentidueña de Tajo",
           565.6978
          ],
          [
           "Galapagar",
           884.4304
          ],
          [
           "Garganta de los Montes",
           1125.801
          ],
          [
           "Gargantilla del Lozoya y Pinilla de Buitrago",
           1136.591
          ],
          [
           "Gascones",
           1046.484
          ],
          [
           "Getafe",
           632.1449
          ],
          [
           "Griñón",
           676.9866
          ],
          [
           "Guadalix de la Sierra",
           841
          ],
          [
           "Guadarrama",
           965.5875
          ],
          [
           "Hiruela, La",
           null
          ],
          [
           "Horcajo de la Sierra-Aoslos",
           null
          ],
          [
           "Horcajuelo de la Sierra",
           1138.176
          ],
          [
           "Hoyo de Manzanares",
           1005.688
          ],
          [
           "Humanes de Madrid",
           675.6912
          ],
          [
           "Leganés",
           658.15
          ],
          [
           "Loeches",
           639.8891
          ],
          [
           "Lozoya",
           1111.051
          ],
          [
           "Madarcos",
           1057.624
          ],
          [
           "Madrid",
           653.0047
          ],
          [
           "Majadahonda",
           743.4514
          ],
          [
           "Manzanares el Real",
           917.528
          ],
          [
           "Meco",
           670.2038
          ],
          [
           "Mejorada del Campo",
           580.1962
          ],
          [
           "Miraflores de la Sierra",
           1149.553
          ],
          [
           "Molar, El",
           null
          ],
          [
           "Molinos, Los",
           null
          ],
          [
           "Montejo de la Sierra",
           1151.855
          ],
          [
           "Moraleja de Enmedio",
           682.4211
          ],
          [
           "Moralzarzal",
           982.0547
          ],
          [
           "Morata de Tajuña",
           559.4251
          ],
          [
           "Móstoles",
           665.2133
          ],
          [
           "Navacerrada",
           1193.742
          ],
          [
           "Navalafuente",
           906.057
          ],
          [
           "Navalagamella",
           759.7007
          ],
          [
           "Navalcarnero",
           672.8241
          ],
          [
           "Navarredonda y San Mamés",
           1219.314
          ],
          [
           "Navas del Rey",
           717.2259
          ],
          [
           "Nuevo Baztán",
           834.9736
          ],
          [
           "Olmeda de las Fuentes",
           785.2642
          ],
          [
           "Orusco de Tajuña",
           662.3139
          ],
          [
           "Paracuellos de Jarama",
           692.0413
          ],
          [
           "Parla",
           651.0903
          ],
          [
           "Patones",
           713.0287
          ],
          [
           "Pedrezuela",
           869.5692
          ],
          [
           "Pelayos de la Presa",
           561.4791
          ],
          [
           "Perales de Tajuña",
           577.9905
          ],
          [
           "Pezuela de las Torres",
           855.1563
          ],
          [
           "Pinilla del Valle",
           1097.138
          ],
          [
           "Pinto",
           609.3594
          ],
          [
           "Piñuécar-Gandullas",
           1063.421
          ],
          [
           "Pozuelo de Alarcón",
           697.1177
          ],
          [
           "Pozuelo del Rey",
           807.1237
          ],
          [
           "Prádena del Rincón",
           1114.976
          ],
          [
           "Puebla de la Sierra",
           1160.507
          ],
          [
           "Quijorna",
           574.5786
          ],
          [
           "Rascafría",
           1157.038
          ],
          [
           "Redueña",
           823.9578
          ],
          [
           "Ribatejada",
           761.6322
          ],
          [
           "Rivas-Vaciamadrid",
           560.5495
          ],
          [
           "Robledillo de la Jara",
           1017.706
          ],
          [
           "Robledo de Chavela",
           893.4601
          ],
          [
           "Robregordo",
           1297.608
          ],
          [
           "Rozas de Madrid, Las",
           null
          ],
          [
           "Rozas de Puerto Real",
           876.1035
          ],
          [
           "San Agustín del Guadalix",
           667.7155
          ],
          [
           "San Fernando de Henares",
           591.3853
          ],
          [
           "San Lorenzo de El Escorial",
           1052.468
          ],
          [
           "San Martín de la Vega",
           517.0689
          ],
          [
           "San Martín de Valdeiglesias",
           677.8516
          ],
          [
           "San Sebastián de los Reyes",
           681.644
          ],
          [
           "Santa María de la Alameda",
           1411.015
          ],
          [
           "Santorcaz",
           864.0168
          ],
          [
           "Santos de la Humosa, Los",
           null
          ],
          [
           "Serna del Monte, La",
           null
          ],
          [
           "Serranillos del Valle",
           650.8673
          ],
          [
           "Sevilla la Nueva",
           674.3175
          ],
          [
           "Somosierra",
           1436.419
          ],
          [
           "Soto del Real",
           922.4442
          ],
          [
           "Talamanca de Jarama",
           655.0905
          ],
          [
           "Tielmes",
           580.7983
          ],
          [
           "Titulcia",
           514.1019
          ],
          [
           "Torrejón de Ardoz",
           591.0876
          ],
          [
           "Torrejón de la Calzada",
           632.9291
          ],
          [
           "Torrejón de Velasco",
           609.1476
          ],
          [
           "Torrelaguna",
           742.3256
          ],
          [
           "Torrelodones",
           847.145
          ],
          [
           "Torremocha de Jarama",
           705.3375
          ],
          [
           "Torres de la Alameda",
           668.0449
          ],
          [
           "Valdaracete",
           737.9929
          ],
          [
           "Valdeavero",
           713.679
          ],
          [
           "Valdelaguna",
           710.8623
          ],
          [
           "Valdemanco",
           1133.363
          ],
          [
           "Valdemaqueda",
           864.9176
          ],
          [
           "Valdemorillo",
           820.9337
          ],
          [
           "Valdemoro",
           612.726
          ],
          [
           "Valdeolmos-Alalpardo",
           680.2087
          ],
          [
           "Valdepiélagos",
           744.8907
          ],
          [
           "Valdetorres de Jarama",
           651.753
          ],
          [
           "Valdilecha",
           724.2806
          ],
          [
           "Valverde de Alcalá",
           733.9373
          ],
          [
           "Velilla de San Antonio",
           555.8903
          ],
          [
           "Vellón, El",
           null
          ],
          [
           "Venturada",
           883.1885
          ],
          [
           "Villaconejos",
           635.7664
          ],
          [
           "Villa del Prado",
           512.4543
          ],
          [
           "Villalbilla",
           744.6702
          ],
          [
           "Villamanrique de Tajo",
           549.4291
          ],
          [
           "Villamanta",
           550.4752
          ],
          [
           "Villamantilla",
           550.092
          ],
          [
           "Villanueva de la Cañada",
           655.8425
          ],
          [
           "Villanueva del Pardillo",
           653.1323
          ],
          [
           "Villanueva de Perales",
           594.7557
          ],
          [
           "Villar del Olmo",
           680.3748
          ],
          [
           "Villarejo de Salvanés",
           759.0782
          ],
          [
           "Villaviciosa de Odón",
           647.7311
          ],
          [
           "Villavieja del Lozoya",
           1062.474
          ],
          [
           "Zarzalejo",
           1105.808
          ],
          [
           "Lozoyuela-Navas-Sieteiglesias",
           1022.991
          ],
          [
           "Puentes Viejas",
           1065.958
          ],
          [
           "Tres Cantos",
           744.3729
          ],
          [
           "Alameda",
           431.0601
          ],
          [
           "Alcaucín",
           506.8431
          ],
          [
           "Alfarnate",
           890.3339
          ],
          [
           "Alfarnatejo",
           853.526
          ],
          [
           "Algarrobo",
           76.22504
          ],
          [
           "Algatocín",
           711.4503
          ],
          [
           "Alhaurín de la Torre",
           55.9206
          ],
          [
           "Alhaurín el Grande",
           262.0032
          ],
          [
           "Almáchar",
           251.3838
          ],
          [
           "Almargen",
           511.2607
          ],
          [
           "Almogía",
           369.3161
          ],
          [
           "Álora",
           217.7383
          ],
          [
           "Alozaina",
           367.5125
          ],
          [
           "Alpandeire",
           691.1627
          ],
          [
           "Antequera",
           519.31
          ],
          [
           "Árchez",
           434.6224
          ],
          [
           "Archidona",
           711.6459
          ],
          [
           "Ardales",
           408.7493
          ],
          [
           "Arenas",
           395.6026
          ],
          [
           "Arriate",
           596.1475
          ],
          [
           "Atajate",
           743.5022
          ],
          [
           "Benadalid",
           694.8373
          ],
          [
           "Benahavís",
           169.0831
          ],
          [
           "Benalauría",
           680.5325
          ],
          [
           "Benalmádena",
           246.0654
          ],
          [
           "Benamargosa",
           107.37
          ],
          [
           "Benamocarra",
           129.8485
          ],
          [
           "Benaoján",
           565.6541
          ],
          [
           "Benarrabá",
           536.6716
          ],
          [
           "Borge, El",
           null
          ],
          [
           "Burgo, El",
           null
          ],
          [
           "Campillos",
           458.5459
          ],
          [
           "Canillas de Aceituno",
           653.6641
          ],
          [
           "Canillas de Albaida",
           579.2617
          ],
          [
           "Cañete la Real",
           750.4806
          ],
          [
           "Carratraca",
           527.6124
          ],
          [
           "Cartajima",
           835.1337
          ],
          [
           "Cártama",
           103.493
          ],
          [
           "Casabermeja",
           543.2839
          ],
          [
           "Casarabonela",
           469.9098
          ],
          [
           "Casares",
           395.2425
          ],
          [
           "Coín",
           212.3918
          ],
          [
           "Colmenar",
           674.2641
          ],
          [
           "Comares",
           691.9902
          ],
          [
           "Cómpeta",
           631.6203
          ],
          [
           "Cortes de la Frontera",
           623.0131
          ],
          [
           "Cuevas Bajas",
           316.253
          ],
          [
           "Cuevas del Becerro",
           727.9931
          ],
          [
           "Cuevas de San Marcos",
           407.2341
          ],
          [
           "Cútar",
           297.5281
          ],
          [
           "Estepona",
           9.655864
          ],
          [
           "Faraján",
           632.2032
          ],
          [
           "Frigiliana",
           326.0266
          ],
          [
           "Fuengirola",
           9.702183
          ],
          [
           "Fuente de Piedra",
           444.6066
          ],
          [
           "Gaucín",
           609.3961
          ],
          [
           "Genalguacil",
           508.3251
          ],
          [
           "Guaro",
           347.6602
          ],
          [
           "Humilladero",
           447
          ],
          [
           "Igualeja",
           692.6473
          ],
          [
           "Istán",
           295.7882
          ],
          [
           "Iznate",
           305.813
          ],
          [
           "Jimera de Líbar",
           548.8419
          ],
          [
           "Jubrique",
           556.0103
          ],
          [
           "Júzcar",
           622.4206
          ],
          [
           "Macharaviaya",
           232.853
          ],
          [
           "Málaga",
           20.76588
          ],
          [
           "Manilva",
           135.0445
          ],
          [
           "Marbella",
           23.81581
          ],
          [
           "Mijas",
           421.1643
          ],
          [
           "Moclinejo",
           443.1213
          ],
          [
           "Mollina",
           476.1912
          ],
          [
           "Monda",
           359.9482
          ],
          [
           "Montejaque",
           696.3243
          ],
          [
           "Nerja",
           25.00439
          ],
          [
           "Ojén",
           314.1743
          ],
          [
           "Parauta",
           819.9631
          ],
          [
           "Periana",
           570.6861
          ],
          [
           "Pizarra",
           88.95549
          ],
          [
           "Pujerra",
           781.4251
          ],
          [
           "Rincón de la Victoria",
           3.764837
          ],
          [
           "Riogordo",
           390.2326
          ],
          [
           "Ronda",
           721.0318
          ],
          [
           "Salares",
           585.0521
          ],
          [
           "Sayalonga",
           364.6231
          ],
          [
           "Sedella",
           697.3375
          ],
          [
           "Sierra de Yeguas",
           451.5096
          ],
          [
           "Teba",
           541.6072
          ],
          [
           "Tolox",
           305.9531
          ],
          [
           "Torrox",
           146.8773
          ],
          [
           "Totalán",
           285.3225
          ],
          [
           "Valle de Abdalajís",
           345.6492
          ],
          [
           "Vélez-Málaga",
           55.92748
          ],
          [
           "Villanueva de Algaidas",
           542.5474
          ],
          [
           "Villanueva del Rosario",
           694.9512
          ],
          [
           "Villanueva del Trabuco",
           685.7935
          ],
          [
           "Villanueva de Tapia",
           659.881
          ],
          [
           "Viñuela",
           166.8159
          ],
          [
           "Yunquera",
           675.0898
          ],
          [
           "Torremolinos",
           52.33766
          ],
          [
           "Villanueva de la Concepción",
           null
          ],
          [
           "Montecorto",
           null
          ],
          [
           "Serrato",
           null
          ],
          [
           "Abanilla",
           215.4028
          ],
          [
           "Abarán",
           200.7275
          ],
          [
           "Águilas",
           8.231929
          ],
          [
           "Albudeite",
           180.3854
          ],
          [
           "Alcantarilla",
           73.48013
          ],
          [
           "Aledo",
           604.458
          ],
          [
           "Alguazas",
           84.25748
          ],
          [
           "Alhama de Murcia",
           201.4063
          ],
          [
           "Archena",
           105.1455
          ],
          [
           "Beniel",
           31.7415
          ],
          [
           "Blanca",
           149.6207
          ],
          [
           "Bullas",
           647.6263
          ],
          [
           "Calasparra",
           356.5284
          ],
          [
           "Campos del Río",
           181.1191
          ],
          [
           "Caravaca de la Cruz",
           636.1376
          ],
          [
           "Cartagena",
           11.15692
          ],
          [
           "Cehegín",
           540.0687
          ],
          [
           "Ceutí",
           93.69875
          ],
          [
           "Cieza",
           238.8728
          ],
          [
           "Cieza",
           189.8739
          ],
          [
           "Fortuna",
           204.3466
          ],
          [
           "Fuente Álamo de Murcia",
           131.1901
          ],
          [
           "Jumilla",
           502.642
          ],
          [
           "Librilla",
           174.8965
          ],
          [
           "Lorca",
           336.2687
          ],
          [
           "Lorquí",
           92.61366
          ],
          [
           "Mazarrón",
           65.57575
          ],
          [
           "Molina de Segura",
           94.52602
          ],
          [
           "Moratalla",
           630.5613
          ],
          [
           "Mula",
           295.3519
          ],
          [
           "Murcia",
           51.07087
          ],
          [
           "Ojós",
           128.2413
          ],
          [
           "Pliego",
           386.3144
          ],
          [
           "Puerto Lumbreras",
           470.1874
          ],
          [
           "Ricote",
           293.4324
          ],
          [
           "San Javier",
           26.81056
          ],
          [
           "San Pedro del Pinatar",
           16.43622
          ],
          [
           "Torre-Pacheco",
           41.09187
          ],
          [
           "Torres de Cotillas, Las",
           null
          ],
          [
           "Totana",
           259.0672
          ],
          [
           "Ulea",
           126.4072
          ],
          [
           "Unión, La",
           null
          ],
          [
           "Villanueva del Río Segura",
           138.7037
          ],
          [
           "Yecla",
           604.7735
          ],
          [
           "Santomera",
           39.86995
          ],
          [
           "Alcázares, Los",
           null
          ],
          [
           "Abáigar",
           485.6676
          ],
          [
           "Abárzuza/Abartzuza",
           null
          ],
          [
           "Abaurregaina/Abaurrea Alta",
           1050.703
          ],
          [
           "Abaurrepea/Abaurrea Baja",
           1050.703
          ],
          [
           "Aberin",
           507.0975
          ],
          [
           "Ablitas",
           390.1332
          ],
          [
           "Adiós",
           480.1988
          ],
          [
           "Aguilar de Codés",
           722.7128
          ],
          [
           "Aibar/Oibar",
           551.8924
          ],
          [
           "Altsasu/Alsasua",
           531.4604
          ],
          [
           "Allín/Allin",
           null
          ],
          [
           "Allo",
           429.8232
          ],
          [
           "Améscoa Baja",
           928.2976
          ],
          [
           "Ancín/Antzin",
           null
          ],
          [
           "Andosilla",
           316.7053
          ],
          [
           "Ansoáin/Antsoain",
           null
          ],
          [
           "Anue",
           799.0044
          ],
          [
           "Añorbe",
           573.9486
          ],
          [
           "Aoiz/Agoitz",
           501.6778
          ],
          [
           "Araitz",
           228.7052
          ],
          [
           "Aranarache/Aranaratxe",
           null
          ],
          [
           "Arantza",
           267.3421
          ],
          [
           "Aranguren",
           622.8678
          ],
          [
           "Arano",
           455.9649
          ],
          [
           "Arakil",
           438.7797
          ],
          [
           "Aras",
           636.3009
          ],
          [
           "Arbizu",
           494.9281
          ],
          [
           "Arce/Artzi",
           762.4823
          ],
          [
           "Arcos, Los",
           null
          ],
          [
           "Arellano",
           644.5254
          ],
          [
           "Areso",
           462.8911
          ],
          [
           "Arguedas",
           266.3666
          ],
          [
           "Aria",
           860.5184
          ],
          [
           "Aribe",
           701.3161
          ],
          [
           "Armañanzas",
           496.7855
          ],
          [
           "Arróniz",
           564.7612
          ],
          [
           "Arruazu",
           469.7116
          ],
          [
           "Artajona",
           450.9516
          ],
          [
           "Artazu",
           440.7018
          ],
          [
           "Atetz",
           null
          ],
          [
           "Ayegui/Aiegi",
           null
          ],
          [
           "Azagra",
           293.2846
          ],
          [
           "Azuelo",
           611.0732
          ],
          [
           "Bakaiku",
           518.6227
          ],
          [
           "Barásoain",
           530.6812
          ],
          [
           "Barbarin",
           602.2934
          ],
          [
           "Bargota",
           589.0367
          ],
          [
           "Barillas",
           388.5261
          ],
          [
           "Basaburua",
           659.5215
          ],
          [
           "Baztan",
           431.7236
          ],
          [
           "Beire",
           367.1117
          ],
          [
           "Belascoáin",
           423.4454
          ],
          [
           "Berbinzana",
           318.8264
          ],
          [
           "Bertizarana",
           135.3993
          ],
          [
           "Betelu",
           236.0627
          ],
          [
           "Biurrun-Olcoz",
           603.0551
          ],
          [
           "Buñuel",
           247
          ],
          [
           "Auritz/Burguete",
           895.7919
          ],
          [
           "Burgui/Burgi",
           627.7626
          ],
          [
           "Burlada/Burlata",
           436.4857
          ],
          [
           "Busto, El",
           null
          ],
          [
           "Cabanillas",
           261.1255
          ],
          [
           "Cabredo",
           660.035
          ],
          [
           "Cadreita",
           287.9483
          ],
          [
           "Caparroso",
           303
          ],
          [
           "Cárcar",
           335.9902
          ],
          [
           "Carcastillo",
           354.3764
          ],
          [
           "Cascante",
           365.7855
          ],
          [
           "Cáseda",
           428.3817
          ],
          [
           "Castejón",
           860.5991
          ],
          [
           "Castejón",
           279.5263
          ],
          [
           "Castillonuevo",
           774.6876
          ],
          [
           "Cintruénigo",
           399.6217
          ],
          [
           "Ziordia",
           554.5064
          ],
          [
           "Cirauqui/Zirauki",
           null
          ],
          [
           "Ciriza/Ziritza",
           null
          ],
          [
           "Cizur",
           464.4124
          ],
          [
           "Corella",
           376.7392
          ],
          [
           "Cortes",
           259
          ],
          [
           "Desojo",
           522.1982
          ],
          [
           "Dicastillo",
           557.3284
          ],
          [
           "Donamaria",
           198.6831
          ],
          [
           "Etxalar",
           102.0956
          ],
          [
           "Echarri/Etxarri",
           null
          ],
          [
           "Etxarri Aranatz",
           null
          ],
          [
           "Etxauri",
           412.8882
          ],
          [
           "Valle de Egüés/Eguesibar",
           null
          ],
          [
           "Elgorriaga",
           149.3327
          ],
          [
           "Noáin (Valle de Elorz)/Noain (Elortzibar)",
           459.8526
          ],
          [
           "Enériz/Eneritz",
           null
          ],
          [
           "Eratsun",
           518.8293
          ],
          [
           "Ergoiena",
           583.5241
          ],
          [
           "Erro",
           661.9404
          ],
          [
           "Ezcároz/Ezkaroze",
           741.0762
          ],
          [
           "Eslava",
           545.7512
          ],
          [
           "Esparza de Salazar/Espartza Zaraitzu",
           705.2322
          ],
          [
           "Espronceda",
           539.9223
          ],
          [
           "Estella-Lizarra",
           null
          ],
          [
           "Esteribar",
           804.6992
          ],
          [
           "Etayo",
           572.3201
          ],
          [
           "Eulate",
           730.8936
          ],
          [
           "Ezcabarte",
           473.964
          ],
          [
           "Ezkurra",
           525.4611
          ],
          [
           "Ezprogui",
           524.7435
          ],
          [
           "Falces",
           296.4245
          ],
          [
           "Fitero",
           428.2101
          ],
          [
           "Fontellas",
           278.3386
          ],
          [
           "Funes",
           304.42
          ],
          [
           "Fustiñana",
           260.782
          ],
          [
           "Galar",
           548.4805
          ],
          [
           "Gallipienzo/Galipentzu",
           null
          ],
          [
           "Gallués/Galoze",
           634.5071
          ],
          [
           "Garaioa",
           779.7978
          ],
          [
           "Garde",
           745.9025
          ],
          [
           "Garínoain",
           537.0995
          ],
          [
           "Garralda",
           846.9196
          ],
          [
           "Genevilla",
           616.5192
          ],
          [
           "Goizueta",
           157.4991
          ],
          [
           "Goñi",
           885.0417
          ],
          [
           "Güesa/Gorza",
           656.9835
          ],
          [
           "Guesálaz/Gesalatz",
           null
          ],
          [
           "Guirguillano",
           614.8031
          ],
          [
           "Huarte/Uharte",
           443.3268
          ],
          [
           "Uharte Arakil",
           null
          ],
          [
           "Ibargoiti",
           589.6138
          ],
          [
           "Igúzquiza",
           521.692
          ],
          [
           "Imotz",
           708.5986
          ],
          [
           "Irañeta",
           462.9885
          ],
          [
           "Isaba/Izaba",
           792.2268
          ],
          [
           "Ituren",
           157.9286
          ],
          [
           "Iturmendi",
           527.0626
          ],
          [
           "Iza/Itza",
           null
          ],
          [
           "Izagaondoa",
           656.3472
          ],
          [
           "Izalzu/Itzaltzu",
           813.3014
          ],
          [
           "Jaurrieta",
           915.8698
          ],
          [
           "Javier",
           453.4229
          ],
          [
           "Juslapeña/Txulapain",
           null
          ],
          [
           "Beintza-Labaien",
           446.4482
          ],
          [
           "Lakuntza",
           493.4403
          ],
          [
           "Lana",
           583.7512
          ],
          [
           "Lantz",
           632.9497
          ],
          [
           "Lapoblación",
           966.2166
          ],
          [
           "Larraga",
           397.0584
          ],
          [
           "Larraona",
           771.8146
          ],
          [
           "Larraun",
           667.3818
          ],
          [
           "Lazagurría",
           393.9949
          ],
          [
           "Leache/Leatxe",
           null
          ],
          [
           "Legarda",
           476.2949
          ],
          [
           "Legaria",
           476.4376
          ],
          [
           "Leitza",
           475.8446
          ],
          [
           "Leoz/Leotz",
           null
          ],
          [
           "Lerga",
           614.0958
          ],
          [
           "Lerín",
           435.6659
          ],
          [
           "Lesaka",
           77.67777
          ],
          [
           "Lezaun",
           null
          ],
          [
           "Liédena",
           434.2063
          ],
          [
           "Lizoain-Arriasgoiti/Lizoainibar-Arriasgoiti",
           null
          ],
          [
           "Lodosa",
           329.6654
          ],
          [
           "Lónguida/Longida",
           480.7935
          ],
          [
           "Lumbier",
           468.2798
          ],
          [
           "Luquin",
           595.0789
          ],
          [
           "Mañeru",
           456.9252
          ],
          [
           "Marañón",
           631.9917
          ],
          [
           "Marcilla",
           293.0134
          ],
          [
           "Mélida",
           351.4484
          ],
          [
           "Mendavia",
           358.8896
          ],
          [
           "Mendaza",
           648.1318
          ],
          [
           "Mendigorria",
           null
          ],
          [
           "Metauten",
           526.5096
          ],
          [
           "Milagro",
           294.1204
          ],
          [
           "Mirafuentes",
           644
          ],
          [
           "Miranda de Arga",
           337.395
          ],
          [
           "Monreal/Elo",
           null
          ],
          [
           "Monteagudo",
           403.3899
          ],
          [
           "Morentin",
           535.4586
          ],
          [
           "Mues",
           518.3762
          ],
          [
           "Murchante",
           318.6382
          ],
          [
           "Murieta",
           467.4558
          ],
          [
           "Murillo el Cuende",
           338.5544
          ],
          [
           "Murillo el Fruto",
           362.163
          ],
          [
           "Muruzábal",
           442.5836
          ],
          [
           "Navascués/Nabaskoze",
           null
          ],
          [
           "Nazar",
           740.0682
          ],
          [
           "Obanos",
           414.2519
          ],
          [
           "Oco",
           492.338
          ],
          [
           "Ochagavía/Otsagabia",
           763.3962
          ],
          [
           "Odieta",
           535.4056
          ],
          [
           "Oiz",
           null
          ],
          [
           "Olaibar",
           479.1287
          ],
          [
           "Olazti/Olazagutía",
           542.6686
          ],
          [
           "Olejua",
           574.1867
          ],
          [
           "Olite/Erriberri",
           null
          ],
          [
           "Olóriz/Oloritz",
           null
          ],
          [
           "Cendea de Olza/Oltza Zendea",
           431.3969
          ],
          [
           "Valle de Ollo/Ollaran",
           null
          ],
          [
           "Orbaizeta",
           null
          ],
          [
           "Orbara",
           757.6503
          ],
          [
           "Orísoain",
           578.1315
          ],
          [
           "Oronz/Orontze",
           723.6107
          ],
          [
           "Oroz-Betelu/Orotz-Betelu",
           null
          ],
          [
           "Oteiza",
           510.9438
          ],
          [
           "Pamplona/Iruña",
           458.1406
          ],
          [
           "Peralta/Azkoien",
           null
          ],
          [
           "Petilla de Aragón",
           831.5078
          ],
          [
           "Piedramillera",
           617.1473
          ],
          [
           "Pitillas",
           351.164
          ],
          [
           "Puente la Reina/Gares",
           348.5276
          ],
          [
           "Pueyo/Puiu",
           null
          ],
          [
           "Ribaforada",
           263.6679
          ],
          [
           "Romanzado/Erromantzatua",
           null
          ],
          [
           "Roncal/Erronkari",
           699.3717
          ],
          [
           "Orreaga/Roncesvalles",
           954.5584
          ],
          [
           "Sada",
           8.367744
          ],
          [
           "Sada",
           485.6982
          ],
          [
           "Saldías",
           553.2933
          ],
          [
           "Salinas de Oro/Jaitz",
           null
          ],
          [
           "San Adrián",
           298.6025
          ],
          [
           "Sangüesa/Zangoza",
           399.6167
          ],
          [
           "San Martín de Unx",
           597.6311
          ],
          [
           "Sansol",
           494.1248
          ],
          [
           "Santacara",
           351.041
          ],
          [
           "Doneztebe/Santesteban",
           130.5545
          ],
          [
           "Sarriés/Sartze",
           687.5157
          ],
          [
           "Sartaguda",
           338.0532
          ],
          [
           "Sesma",
           434.409
          ],
          [
           "Sorlada",
           570.1953
          ],
          [
           "Sunbilla",
           106.4811
          ],
          [
           "Tafalla",
           433.6423
          ],
          [
           "Tiebas-Muruarte de Reta",
           574.0651
          ],
          [
           "Tirapu",
           498.1133
          ],
          [
           "Torralba del Río",
           626.2723
          ],
          [
           "Torres del Río",
           461.8875
          ],
          [
           "Tudela",
           268.958
          ],
          [
           "Tulebras",
           372.949
          ],
          [
           "Ucar",
           503.2144
          ],
          [
           "Ujué/Uxue",
           null
          ],
          [
           "Ultzama",
           546.3792
          ],
          [
           "Unciti",
           605.3009
          ],
          [
           "Unzué/Untzue",
           null
          ],
          [
           "Urdazubi/Urdax",
           98.64223
          ],
          [
           "Urdiain",
           551.1738
          ],
          [
           "Urraul Alto",
           573.8953
          ],
          [
           "Urraul Bajo",
           458.3008
          ],
          [
           "Urroz-Villa",
           527.5408
          ],
          [
           "Urroz",
           null
          ],
          [
           "Urzainqui/Urzainki",
           733.1646
          ],
          [
           "Uterga",
           494.9627
          ],
          [
           "Uztárroz/Uztarroze",
           856.1575
          ],
          [
           "Luzaide/Valcarlos",
           364.558
          ],
          [
           "Valtierra",
           270.1983
          ],
          [
           "Bera",
           null
          ],
          [
           "Viana",
           475.407
          ],
          [
           "Vidángoz/Bidankoze",
           769.7194
          ],
          [
           "Bidaurreta",
           444.6025
          ],
          [
           "Villafranca",
           292.0777
          ],
          [
           "Villamayor de Monjardín",
           673.8203
          ],
          [
           "Hiriberri/Villanueva de Aezkoa",
           922.5541
          ],
          [
           "Villatuerta",
           440.6565
          ],
          [
           "Villava/Atarrabia",
           434.213
          ],
          [
           "Igantzi",
           208.3124
          ],
          [
           "Valle de Yerri/Deierri",
           508.0046
          ],
          [
           "Yesa",
           494.9805
          ],
          [
           "Zabalza/Zabaltza",
           null
          ],
          [
           "Zubieta",
           210.3568
          ],
          [
           "Zugarramurdi",
           209.7609
          ],
          [
           "Zúñiga",
           577.4291
          ],
          [
           "Barañáin/Barañain",
           null
          ],
          [
           "Berrioplano/Berriobeiti",
           null
          ],
          [
           "Berriozar",
           430.5623
          ],
          [
           "Irurtzun",
           472.6737
          ],
          [
           "Beriáin",
           499.5828
          ],
          [
           "Orkoien",
           442.7829
          ],
          [
           "Zizur Mayor/Zizur Nagusia",
           441.8872
          ],
          [
           "Lekunberri",
           567.6735
          ],
          [
           "Allariz",
           460.7867
          ],
          [
           "Amoeiro",
           442.1121
          ],
          [
           "Arnoia, A",
           null
          ],
          [
           "Avión",
           446.5516
          ],
          [
           "Baltar",
           823.1027
          ],
          [
           "Bande",
           723.6759
          ],
          [
           "Baños de Molgas",
           513.4908
          ],
          [
           "Barbadás",
           241.3901
          ],
          [
           "Barco de Valdeorras, O",
           null
          ],
          [
           "Beade",
           202.2736
          ],
          [
           "Beariz",
           641.1476
          ],
          [
           "Blancos, Os",
           null
          ],
          [
           "Boborás",
           432.1264
          ],
          [
           "Bola, A",
           null
          ],
          [
           "Bolo, O",
           null
          ],
          [
           "Calvos de Randín",
           910.7596
          ],
          [
           "Carballeda de Valdeorras",
           587.8499
          ],
          [
           "Carballeda de Avia",
           250.0053
          ],
          [
           "Carballiño, O",
           null
          ],
          [
           "Cartelle",
           366.1181
          ],
          [
           "Castrelo do Val",
           433.7377
          ],
          [
           "Castrelo de Miño",
           198.8711
          ],
          [
           "Castro Caldelas",
           625.1702
          ],
          [
           "Celanova",
           525.2849
          ],
          [
           "Cenlle",
           406.6471
          ],
          [
           "Coles",
           356.0888
          ],
          [
           "Cortegada",
           144.2422
          ],
          [
           "Cualedro",
           842.0068
          ],
          [
           "Chandrexa de Queixa",
           990.6727
          ],
          [
           "Entrimo",
           501.8381
          ],
          [
           "Esgos",
           579.329
          ],
          [
           "Xinzo de Limia",
           624.355
          ],
          [
           "Gomesende",
           403.7807
          ],
          [
           "Gudiña, A",
           null
          ],
          [
           "Irixo, O",
           null
          ],
          [
           "Xunqueira de Ambía",
           541.0165
          ],
          [
           "Xunqueira de Espadanedo",
           688.6356
          ],
          [
           "Larouco",
           533.1442
          ],
          [
           "Laza",
           479.0535
          ],
          [
           "Leiro",
           88.74213
          ],
          [
           "Lobeira",
           605.1371
          ],
          [
           "Lobios",
           477.3125
          ],
          [
           "Maceda",
           582.2949
          ],
          [
           "Manzaneda",
           642.83
          ],
          [
           "Maside",
           379.7209
          ],
          [
           "Melón",
           482.1991
          ],
          [
           "Merca, A",
           null
          ],
          [
           "Mezquita, A",
           null
          ],
          [
           "Montederramo",
           906.4658
          ],
          [
           "Monterrei",
           511.1087
          ],
          [
           "Muíños",
           585.7645
          ],
          [
           "Nogueira de Ramuín",
           613.3605
          ],
          [
           "Oímbra",
           389.4346
          ],
          [
           "Ourense",
           144.5574
          ],
          [
           "Paderne de Allariz",
           440.9869
          ],
          [
           "Padrenda",
           273.543
          ],
          [
           "Parada de Sil",
           662.7356
          ],
          [
           "Pereiro de Aguiar, O",
           null
          ],
          [
           "Peroxa, A",
           null
          ],
          [
           "Petín",
           300.702
          ],
          [
           "Piñor",
           553.8872
          ],
          [
           "Porqueira",
           640.7926
          ],
          [
           "Pobra de Trives, A",
           null
          ],
          [
           "Pontedeva",
           144.9253
          ],
          [
           "Punxín",
           320.7976
          ],
          [
           "Quintela de Leirado",
           365.5756
          ],
          [
           "Rairiz de Veiga",
           620
          ],
          [
           "Ramirás",
           364.6565
          ],
          [
           "Ribadavia",
           103.0358
          ],
          [
           "San Xoán de Río",
           879.6433
          ],
          [
           "Riós",
           805.391
          ],
          [
           "Rúa, A",
           null
          ],
          [
           "Rubiá",
           548.2453
          ],
          [
           "San Amaro",
           482.8099
          ],
          [
           "San Cibrao das Viñas",
           271.6895
          ],
          [
           "San Cristovo de Cea",
           510.0587
          ],
          [
           "Sandiás",
           639.2228
          ],
          [
           "Sarreaus",
           650.4904
          ],
          [
           "Taboadela",
           387.0332
          ],
          [
           "Teixeira, A",
           null
          ],
          [
           "Toén",
           375.3269
          ],
          [
           "Trasmiras",
           644.9832
          ],
          [
           "Veiga, A",
           null
          ],
          [
           "Verea",
           727.3734
          ],
          [
           "Verín",
           387.786
          ],
          [
           "Viana do Bolo",
           703.6934
          ],
          [
           "Vilamarín",
           504.0667
          ],
          [
           "Vilamartín de Valdeorras",
           319.5154
          ],
          [
           "Vilar de Barrio",
           665.1714
          ],
          [
           "Vilar de Santos",
           638.7435
          ],
          [
           "Vilardevós",
           741.3065
          ],
          [
           "Vilariño de Conso",
           796.0936
          ],
          [
           "Allande",
           580.7288
          ],
          [
           "Aller",
           870.3992
          ],
          [
           "Amieva",
           595.183
          ],
          [
           "Avilés",
           8.896673
          ],
          [
           "Belmonte de Miranda",
           220.3919
          ],
          [
           "Bimenes",
           320.1294
          ],
          [
           "Boal",
           461.5823
          ],
          [
           "Cabrales",
           135.4523
          ],
          [
           "Cabranes",
           290.5875
          ],
          [
           "Candamo",
           40.71626
          ],
          [
           "Cangas del Narcea",
           395.787
          ],
          [
           "Cangas de Onís",
           83.8837
          ],
          [
           "Caravia",
           362.6237
          ],
          [
           "Carreño",
           84.34576
          ],
          [
           "Caso",
           623.0895
          ],
          [
           "Castrillón",
           86.8708
          ],
          [
           "Castropol",
           22.08328
          ],
          [
           "Coaña",
           80.89793
          ],
          [
           "Colunga",
           17.92281
          ],
          [
           "Corvera de Asturias",
           56.71637
          ],
          [
           "Cudillero",
           69.32003
          ],
          [
           "Degaña",
           847.1716
          ],
          [
           "Franco, El",
           null
          ],
          [
           "Gijón",
           10.46988
          ],
          [
           "Gozón",
           23.33944
          ],
          [
           "Grado",
           70.00195
          ],
          [
           "Grandas de Salime",
           567.9332
          ],
          [
           "Ibias",
           363.6068
          ],
          [
           "Illano",
           336.2966
          ],
          [
           "Illas",
           156.5609
          ],
          [
           "Langreo",
           216.0747
          ],
          [
           "Laviana",
           297.8459
          ],
          [
           "Lena",
           316.1207
          ],
          [
           "Valdés",
           18.18302
          ],
          [
           "Llanera",
           234.8832
          ],
          [
           "Llanes",
           19.37611
          ],
          [
           "Mieres",
           210.1827
          ],
          [
           "Mieres",
           275.4319
          ],
          [
           "Morcín",
           236.8473
          ],
          [
           "Muros de Nalón",
           114.3644
          ],
          [
           "Nava",
           244.3763
          ],
          [
           "Navia",
           8.619591
          ],
          [
           "Noreña",
           207.6058
          ],
          [
           "Onís",
           198.1296
          ],
          [
           "Oviedo",
           238.8659
          ],
          [
           "Parres",
           139.5952
          ],
          [
           "Peñamellera Alta",
           185.3078
          ],
          [
           "Peñamellera Baja",
           260.1066
          ],
          [
           "Pesoz",
           317.0693
          ],
          [
           "Piloña",
           180.9473
          ],
          [
           "Ponga",
           706.3737
          ],
          [
           "Pravia",
           41.19317
          ],
          [
           "Proaza",
           201.1137
          ],
          [
           "Quirós",
           596.6254
          ],
          [
           "Regueras, Las",
           null
          ],
          [
           "Ribadedeva",
           73.00428
          ],
          [
           "Ribadesella",
           23.78174
          ],
          [
           "Ribera de Arriba",
           201.4535
          ],
          [
           "Riosa",
           1073.679
          ],
          [
           "Salas",
           243.8303
          ],
          [
           "San Martín del Rey Aurelio",
           266.8616
          ],
          [
           "San Martín de Oscos",
           701.4034
          ],
          [
           "Santa Eulalia de Oscos",
           547.0981
          ],
          [
           "San Tirso de Abres",
           40.88018
          ],
          [
           "Santo Adriano",
           475.4342
          ],
          [
           "Sariego",
           283.0529
          ],
          [
           "Siero",
           266.4884
          ],
          [
           "Sobrescobio",
           579.3365
          ],
          [
           "Somiedo",
           1017.7
          ],
          [
           "Soto del Barco",
           68.42937
          ],
          [
           "Tapia de Casariego",
           25.45387
          ],
          [
           "Taramundi",
           279.6605
          ],
          [
           "Teverga",
           693.9147
          ],
          [
           "Tineo",
           671.4896
          ],
          [
           "Vegadeo",
           5.833657
          ],
          [
           "Villanueva de Oscos",
           645.1224
          ],
          [
           "Villaviciosa",
           8.267545
          ],
          [
           "Villayón",
           372.2103
          ],
          [
           "Yernes y Tameza",
           687.0248
          ],
          [
           "Abarca de Campos",
           758.1901
          ],
          [
           "Abia de las Torres",
           836.1696
          ],
          [
           "Aguilar de Campoo",
           897.081
          ],
          [
           "Alar del Rey",
           853.8849
          ],
          [
           "Alba de Cerrato",
           780.3799
          ],
          [
           "Amayuelas de Arriba",
           787.3027
          ],
          [
           "Ampudia",
           794.2702
          ],
          [
           "Amusco",
           773.6923
          ],
          [
           "Antigüedad",
           833.6262
          ],
          [
           "Arconada",
           804.9647
          ],
          [
           "Astudillo",
           788.4464
          ],
          [
           "Autilla del Pino",
           870.6778
          ],
          [
           "Autillo de Campos",
           762.9597
          ],
          [
           "Ayuela",
           952.0762
          ],
          [
           "Baltanás",
           784.0414
          ],
          [
           "Venta de Baños",
           722.1985
          ],
          [
           "Baquerín de Campos",
           749.9719
          ],
          [
           "Bárcena de Campos",
           845.1735
          ],
          [
           "Barruelo de Santullán",
           1051.277
          ],
          [
           "Báscones de Ojeda",
           962.8129
          ],
          [
           "Becerril de Campos",
           769.5222
          ],
          [
           "Belmonte de Campos",
           743.8493
          ],
          [
           "Berzosilla",
           826.7042
          ],
          [
           "Boada de Campos",
           748
          ],
          [
           "Boadilla del Camino",
           782.657
          ],
          [
           "Boadilla de Rioseco",
           783.1019
          ],
          [
           "Brañosera",
           1200.068
          ],
          [
           "Buenavista de Valdavia",
           926.9855
          ],
          [
           "Bustillo de la Vega",
           885
          ],
          [
           "Bustillo del Páramo de Carrión",
           854.3857
          ],
          [
           "Calahorra de Boedo",
           868.8841
          ],
          [
           "Calzada de los Molinos",
           827.0596
          ],
          [
           "Capillas",
           760.7122
          ],
          [
           "Cardeñosa de Volpejera",
           827.3951
          ],
          [
           "Carrión de los Condes",
           837.2867
          ],
          [
           "Castil de Vela",
           759.6097
          ],
          [
           "Castrejón de la Peña",
           1121.003
          ],
          [
           "Castrillo de Don Juan",
           830.5445
          ],
          [
           "Castrillo de Onielo",
           821.9319
          ],
          [
           "Castrillo de Villavega",
           851.3707
          ],
          [
           "Castromocho",
           758.2964
          ],
          [
           "Cervatos de la Cueza",
           853.0574
          ],
          [
           "Cervera de Pisuerga",
           1007.858
          ],
          [
           "Cevico de la Torre",
           754.6013
          ],
          [
           "Cevico Navero",
           829.4386
          ],
          [
           "Cisneros",
           804.7203
          ],
          [
           "Cobos de Cerrato",
           819.4964
          ],
          [
           "Collazos de Boedo",
           916.8154
          ],
          [
           "Congosto de Valdavia",
           973.56
          ],
          [
           "Cordovilla la Real",
           745.9448
          ],
          [
           "Cubillas de Cerrato",
           743.376
          ],
          [
           "Dehesa de Montejo",
           1091.726
          ],
          [
           "Dehesa de Romanos",
           943.8187
          ],
          [
           "Dueñas",
           723.9095
          ],
          [
           "Espinosa de Cerrato",
           864.7267
          ],
          [
           "Espinosa de Villagonzalo",
           831.9033
          ],
          [
           "Frechilla",
           775.0347
          ],
          [
           "Fresno del Río",
           1015.25
          ],
          [
           "Frómista",
           783.3309
          ],
          [
           "Fuentes de Nava",
           756.5685
          ],
          [
           "Fuentes de Valdepero",
           796.7946
          ],
          [
           "Grijota",
           746.9368
          ],
          [
           "Guardo",
           1095.632
          ],
          [
           "Guaza de Campos",
           794.0911
          ],
          [
           "Hérmedes de Cerrato",
           900.4366
          ],
          [
           "Herrera de Pisuerga",
           847.2326
          ],
          [
           "Herrera de Valdecañas",
           778.0357
          ],
          [
           "Hontoria de Cerrato",
           744.5811
          ],
          [
           "Hornillos de Cerrato",
           794.4394
          ],
          [
           "Husillos",
           744.5184
          ],
          [
           "Itero de la Vega",
           770.6241
          ],
          [
           "Lagartos",
           914.8121
          ],
          [
           "Lantadilla",
           788.4019
          ],
          [
           "Vid de Ojeda, La",
           null
          ],
          [
           "Ledigos",
           876.8804
          ],
          [
           "Lomas",
           825.279
          ],
          [
           "Magaz de Pisuerga",
           731.0358
          ],
          [
           "Manquillos",
           776.0267
          ],
          [
           "Mantinos",
           1068.459
          ],
          [
           "Marcilla de Campos",
           816.3467
          ],
          [
           "Mazariegos",
           739.4893
          ],
          [
           "Mazuecos de Valdeginate",
           781.7784
          ],
          [
           "Melgar de Yuso",
           771.8138
          ],
          [
           "Meneses de Campos",
           749.4305
          ],
          [
           "Micieces de Ojeda",
           935.5956
          ],
          [
           "Monzón de Campos",
           751.6661
          ],
          [
           "Moratinos",
           858.9825
          ],
          [
           "Mudá",
           997.7184
          ],
          [
           "Nogal de las Huertas",
           846.8398
          ],
          [
           "Olea de Boedo",
           929.4524
          ],
          [
           "Olmos de Ojeda",
           926.6885
          ],
          [
           "Osornillo",
           812.6404
          ],
          [
           "Palencia",
           745.8375
          ],
          [
           "Palenzuela",
           797.952
          ],
          [
           "Páramo de Boedo",
           877.6904
          ],
          [
           "Paredes de Nava",
           784.7175
          ],
          [
           "Payo de Ojeda",
           1001.883
          ],
          [
           "Pedraza de Campos",
           755.1041
          ],
          [
           "Pedrosa de la Vega",
           892.6549
          ],
          [
           "Perales",
           777.6556
          ],
          [
           "Pino del Río",
           997.0795
          ],
          [
           "Piña de Campos",
           764
          ],
          [
           "Población de Arroyo",
           856.0229
          ],
          [
           "Población de Campos",
           783.4893
          ],
          [
           "Población de Cerrato",
           757.9332
          ],
          [
           "Polentinos",
           1274.941
          ],
          [
           "Pomar de Valdivia",
           933.123
          ],
          [
           "Poza de la Vega",
           948.2457
          ],
          [
           "Pozo de Urama",
           822.1624
          ],
          [
           "Prádanos de Ojeda",
           940.287
          ],
          [
           "Puebla de Valdavia, La",
           null
          ],
          [
           "Quintana del Puente",
           749.798
          ],
          [
           "Quintanilla de Onsoña",
           887
          ],
          [
           "Reinoso de Cerrato",
           743.1708
          ],
          [
           "Renedo de la Vega",
           874.2899
          ],
          [
           "Requena de Campos",
           797.9777
          ],
          [
           "Respenda de la Peña",
           1013.032
          ],
          [
           "Revenga de Campos",
           787.4664
          ],
          [
           "Revilla de Collazos",
           932.0509
          ],
          [
           "Ribas de Campos",
           774.9756
          ],
          [
           "Riberos de la Cueza",
           832.8394
          ],
          [
           "Saldaña",
           916.6245
          ],
          [
           "Salinas de Pisuerga",
           944.0237
          ],
          [
           "San Cebrián de Campos",
           790.2224
          ],
          [
           "San Cebrián de Mudá",
           1037.153
          ],
          [
           "San Cristóbal de Boedo",
           869.1218
          ],
          [
           "San Mamés de Campos",
           820.2789
          ],
          [
           "San Román de la Cuba",
           807.9491
          ],
          [
           "Santa Cecilia del Alcor",
           842.3927
          ],
          [
           "Santa Cruz de Boedo",
           846.978
          ],
          [
           "Santervás de la Vega",
           923.4318
          ],
          [
           "Santibáñez de Ecla",
           948.8027
          ],
          [
           "Santibáñez de la Peña",
           1111.072
          ],
          [
           "Santoyo",
           795.4398
          ],
          [
           "Serna, La",
           null
          ],
          [
           "Sotobañado y Priorato",
           893.8764
          ],
          [
           "Soto de Cerrato",
           727
          ],
          [
           "Tabanera de Cerrato",
           839.3667
          ],
          [
           "Tabanera de Valdavia",
           976.2473
          ],
          [
           "Támara de Campos",
           792.7064
          ],
          [
           "Tariego de Cerrato",
           736.2674
          ],
          [
           "Torquemada",
           746.9241
          ],
          [
           "Torremormojón",
           773.3138
          ],
          [
           "Triollo",
           1301.146
          ],
          [
           "Valbuena de Pisuerga",
           775.9148
          ],
          [
           "Valdeolmillos",
           786.3863
          ],
          [
           "Valderrábano",
           955.5308
          ],
          [
           "Valde-Ucieza",
           819.1132
          ],
          [
           "Valle de Cerrato",
           816.1359
          ],
          [
           "Velilla del Río Carrión",
           1121.064
          ],
          [
           "Vertavillo",
           813.3558
          ],
          [
           "Villabasta de Valdavia",
           923.1686
          ],
          [
           "Villacidaler",
           793.0969
          ],
          [
           "Villaconancio",
           815.3722
          ],
          [
           "Villada",
           798.712
          ],
          [
           "Villaeles de Valdavia",
           885.7921
          ],
          [
           "Villahán",
           805.9824
          ],
          [
           "Villaherreros",
           826
          ],
          [
           "Villalaco",
           760.3248
          ],
          [
           "Villalba de Guardo",
           1052.94
          ],
          [
           "Villalcázar de Sirga",
           807.4279
          ],
          [
           "Villalcón",
           826.2475
          ],
          [
           "Villalobón",
           756.4676
          ],
          [
           "Villaluenga de la Vega",
           916
          ],
          [
           "Villamartín de Campos",
           750.0041
          ],
          [
           "Villamediana",
           785.6046
          ],
          [
           "Villameriel",
           904.6328
          ],
          [
           "Villamoronta",
           857.4798
          ],
          [
           "Villamuera de la Cueza",
           835.5288
          ],
          [
           "Villamuriel de Cerrato",
           727.2947
          ],
          [
           "Villanueva del Rebollar",
           840
          ],
          [
           "Villanuño de Valdavia",
           872.7621
          ],
          [
           "Villaprovedo",
           871.5985
          ],
          [
           "Villarmentero de Campos",
           789.4766
          ],
          [
           "Villarrabé",
           902.7899
          ],
          [
           "Villarramiel",
           767.2833
          ],
          [
           "Villasarracino",
           841.2697
          ],
          [
           "Villasila de Valdavia",
           867.3951
          ],
          [
           "Villaturde",
           843.3107
          ],
          [
           "Villaumbrales",
           760.1631
          ],
          [
           "Villaviudas",
           764.9033
          ],
          [
           "Villerías de Campos",
           755.412
          ],
          [
           "Villodre",
           766.6766
          ],
          [
           "Villodrigo",
           764.4204
          ],
          [
           "Villoldo",
           790.9491
          ],
          [
           "Villota del Páramo",
           1001.102
          ],
          [
           "Villovieco",
           787.0002
          ],
          [
           "Osorno la Mayor",
           808.4557
          ],
          [
           "Valle del Retortillo",
           800.4486
          ],
          [
           "Loma de Ucieza",
           841.5579
          ],
          [
           "Pernía, La",
           null
          ],
          [
           "Agaete",
           50.89878
          ],
          [
           "Agüimes",
           274.6894
          ],
          [
           "Antigua",
           257.4895
          ],
          [
           "Arrecife",
           4.273663
          ],
          [
           "Artenara",
           1229.801
          ],
          [
           "Arucas",
           251.5649
          ],
          [
           "Betancuria",
           392.2021
          ],
          [
           "Firgas",
           501.9252
          ],
          [
           "Gáldar",
           114.2928
          ],
          [
           "Haría",
           278.1612
          ],
          [
           "Ingenio",
           312.7698
          ],
          [
           "Mogán",
           253.7186
          ],
          [
           "Moya",
           553.071
          ],
          [
           "Moya",
           1073.251
          ],
          [
           "Oliva, La",
           null
          ],
          [
           "Pájara",
           199.2286
          ],
          [
           "Palmas de Gran Canaria, Las",
           null
          ],
          [
           "Puerto del Rosario",
           17.26586
          ],
          [
           "San Bartolomé",
           886.5434
          ],
          [
           "San Bartolomé de Tirajana",
           886.5434
          ],
          [
           "Aldea de San Nicolás, La",
           null
          ],
          [
           "Santa Brígida",
           554.6102
          ],
          [
           "Santa Lucía de Tirajana",
           685.452
          ],
          [
           "Santa María de Guía de Gran Canaria",
           184.0675
          ],
          [
           "Teguise",
           303.7625
          ],
          [
           "Tejeda",
           1047.64
          ],
          [
           "Telde",
           150.629
          ],
          [
           "Teror",
           591.0235
          ],
          [
           "Tías",
           203.0193
          ],
          [
           "Tinajo",
           197.1857
          ],
          [
           "Tuineje",
           184.2644
          ],
          [
           "Valsequillo de Gran Canaria",
           579.2171
          ],
          [
           "Valleseco",
           1046.185
          ],
          [
           "Vega de San Mateo",
           832.0562
          ],
          [
           "Yaiza",
           180.6911
          ],
          [
           "Arbo",
           150.7691
          ],
          [
           "Barro",
           66.8885
          ],
          [
           "Baiona",
           21.20054
          ],
          [
           "Bueu",
           44.66146
          ],
          [
           "Caldas de Reis",
           27.27038
          ],
          [
           "Cambados",
           14.76714
          ],
          [
           "Campo Lameiro",
           243.4357
          ],
          [
           "Cangas",
           10.73197
          ],
          [
           "Cañiza, A",
           null
          ],
          [
           "Catoira",
           18.32608
          ],
          [
           "Covelo",
           380.7574
          ],
          [
           "Crecente",
           197.8595
          ],
          [
           "Cuntis",
           160.0568
          ],
          [
           "Dozón",
           748.7759
          ],
          [
           "Estrada, A",
           null
          ],
          [
           "Forcarei",
           592.3196
          ],
          [
           "Fornelos de Montes",
           331.3943
          ],
          [
           "Agolada",
           583.5956
          ],
          [
           "Gondomar",
           17.18025
          ],
          [
           "Grove, O",
           null
          ],
          [
           "Guarda, A",
           null
          ],
          [
           "Lalín",
           557.2646
          ],
          [
           "Lama, A",
           null
          ],
          [
           "Marín",
           19.78863
          ],
          [
           "Meaño",
           118.3362
          ],
          [
           "Meis",
           58.83432
          ],
          [
           "Moaña",
           129.5525
          ],
          [
           "Mondariz",
           117.1311
          ],
          [
           "Mondariz-Balneario",
           62.12397
          ],
          [
           "Moraña",
           381.2427
          ],
          [
           "Mos",
           212.5747
          ],
          [
           "Neves, As",
           null
          ],
          [
           "Nigrán",
           56.04147
          ],
          [
           "Oia",
           24.84615
          ],
          [
           "Pazos de Borbén",
           236.8124
          ],
          [
           "Pontevedra",
           18.60786
          ],
          [
           "Porriño, O",
           null
          ],
          [
           "Portas",
           129.5794
          ],
          [
           "Poio",
           195.026
          ],
          [
           "Ponteareas",
           41.39864
          ],
          [
           "Ponte Caldelas",
           292.4084
          ],
          [
           "Pontecesures",
           19.25962
          ],
          [
           "Redondela",
           15.94175
          ],
          [
           "Ribadumia",
           26.51637
          ],
          [
           "Rodeiro",
           630.3114
          ],
          [
           "Rosal, O",
           null
          ],
          [
           "Salceda de Caselas",
           75.80363
          ],
          [
           "Salvaterra de Miño",
           32.76922
          ],
          [
           "Sanxenxo",
           7.093974
          ],
          [
           "Silleda",
           483.7768
          ],
          [
           "Soutomaior",
           118.3894
          ],
          [
           "Tomiño",
           40.81437
          ],
          [
           "Tui",
           43.46014
          ],
          [
           "Valga",
           45.98117
          ],
          [
           "Vigo",
           104.1391
          ],
          [
           "Vilaboa",
           72.6324
          ],
          [
           "Vila de Cruces",
           476.3511
          ],
          [
           "Vilagarcía de Arousa",
           11.04834
          ],
          [
           "Vilanova de Arousa",
           5.737418
          ],
          [
           "Illa de Arousa, A",
           null
          ],
          [
           "Cerdedo-Cotobade",
           null
          ],
          [
           "Abusejo",
           841.0999
          ],
          [
           "Agallas",
           801.2192
          ],
          [
           "Ahigal de los Aceiteros",
           643.92
          ],
          [
           "Ahigal de Villarino",
           765.2227
          ],
          [
           "Alameda de Gardón, La",
           null
          ],
          [
           "Alamedilla, La",
           null
          ],
          [
           "Alaraz",
           884.6996
          ],
          [
           "Alba de Tormes",
           812.1788
          ],
          [
           "Alba de Yeltes",
           786.7349
          ],
          [
           "Alberca, La",
           null
          ],
          [
           "Alberguería de Argañán, La",
           null
          ],
          [
           "Alconada",
           831
          ],
          [
           "Aldeacipreste",
           867.7499
          ],
          [
           "Aldeadávila de la Ribera",
           685.362
          ],
          [
           "Aldea del Obispo",
           688.4317
          ],
          [
           "Aldealengua",
           789.8329
          ],
          [
           "Aldeanueva de Figueroa",
           869.1683
          ],
          [
           "Aldeanueva de la Sierra",
           980.8896
          ],
          [
           "Aldearrodrigo",
           782.8179
          ],
          [
           "Aldearrubia",
           813.3408
          ],
          [
           "Aldeaseca de Alba",
           864.6688
          ],
          [
           "Aldeaseca de la Frontera",
           870.618
          ],
          [
           "Aldeatejada",
           796.4962
          ],
          [
           "Aldeavieja de Tormes",
           911.0995
          ],
          [
           "Aldehuela de la Bóveda",
           790.1174
          ],
          [
           "Aldehuela de Yeltes",
           834.0591
          ],
          [
           "Almenara de Tormes",
           782.0564
          ],
          [
           "Almendra",
           765.9304
          ],
          [
           "Anaya de Alba",
           881.7967
          ],
          [
           "Añover de Tormes",
           804.0237
          ],
          [
           "Arabayona de Mógica",
           851.54
          ],
          [
           "Arapiles",
           841.4503
          ],
          [
           "Arcediano",
           825.3879
          ],
          [
           "Arco, El",
           null
          ],
          [
           "Armenteros",
           1051.29
          ],
          [
           "San Miguel del Robledo",
           1016.15
          ],
          [
           "Atalaya, La",
           null
          ],
          [
           "Babilafuente",
           800.2728
          ],
          [
           "Bañobárez",
           745.1431
          ],
          [
           "Barbadillo",
           805.1871
          ],
          [
           "Barbalos",
           904.4462
          ],
          [
           "Barceo",
           725.3111
          ],
          [
           "Barruecopardo",
           714.7976
          ],
          [
           "Bastida, La",
           null
          ],
          [
           "Béjar",
           946.3267
          ],
          [
           "Beleña",
           885.9651
          ],
          [
           "Bermellar",
           634.8019
          ],
          [
           "Berrocal de Huebra",
           901.111
          ],
          [
           "Berrocal de Salvatierra",
           903.2983
          ],
          [
           "Boada",
           780.2197
          ],
          [
           "Bodón, El",
           null
          ],
          [
           "Bogajo",
           711.4703
          ],
          [
           "Bouza, La",
           null
          ],
          [
           "Bóveda del Río Almar",
           882.0773
          ],
          [
           "Brincones",
           764.189
          ],
          [
           "Buenamadre",
           759.6102
          ],
          [
           "Buenavista",
           941.6581
          ],
          [
           "Cabaco, El",
           null
          ],
          [
           "Cabezabellosa de la Calzada",
           855.9011
          ],
          [
           "Cabeza de Béjar, La",
           null
          ],
          [
           "Cabeza del Caballo",
           730.4404
          ],
          [
           "Cabrerizos",
           825.5041
          ],
          [
           "Cabrillas",
           798.0694
          ],
          [
           "Calvarrasa de Abajo",
           800.4495
          ],
          [
           "Calvarrasa de Arriba",
           850.1463
          ],
          [
           "Calzada de Béjar, La",
           null
          ],
          [
           "Calzada de Don Diego",
           815.0586
          ],
          [
           "Calzada de Valdunciel",
           801.944
          ],
          [
           "Campillo de Azaba",
           654.696
          ],
          [
           "Campo de Peñaranda, El",
           null
          ],
          [
           "Candelario",
           1091.34
          ],
          [
           "Canillas de Abajo",
           811.4039
          ],
          [
           "Cantagallo",
           915.337
          ],
          [
           "Cantalapiedra",
           784.8248
          ],
          [
           "Cantalpino",
           809.6198
          ],
          [
           "Cantaracillo",
           913.4099
          ],
          [
           "Carbajosa de la Sagrada",
           793.0272
          ],
          [
           "Carpio de Azaba",
           682.3234
          ],
          [
           "Carrascal de Barregas",
           794.4115
          ],
          [
           "Carrascal del Obispo",
           899.0852
          ],
          [
           "Casafranca",
           929.7108
          ],
          [
           "Casas del Conde, Las",
           null
          ],
          [
           "Casillas de Flores",
           856.6022
          ],
          [
           "Castellanos de Moriscos",
           834.6884
          ],
          [
           "Castillejo de Martín Viejo",
           667.963
          ],
          [
           "Castraz",
           761.6857
          ],
          [
           "Cepeda",
           627.2601
          ],
          [
           "Cereceda de la Sierra",
           981.321
          ],
          [
           "Cerezal de Peñahorcada",
           701.7072
          ],
          [
           "Cerralbo",
           680.7393
          ],
          [
           "Cerro, El",
           null
          ],
          [
           "Cespedosa de Tormes",
           1026.923
          ],
          [
           "Cilleros de la Bastida",
           1066.91
          ],
          [
           "Cipérez",
           774.0986
          ],
          [
           "Ciudad Rodrigo",
           642.403
          ],
          [
           "Coca de Alba",
           835.9797
          ],
          [
           "Colmenar de Montemayor",
           832.6315
          ],
          [
           "Cordovilla",
           829.8961
          ],
          [
           "Cristóbal",
           879.3582
          ],
          [
           "Cubo de Don Sancho, El",
           null
          ],
          [
           "Chagarcía Medianero",
           1037.603
          ],
          [
           "Dios le Guarde",
           827.7272
          ],
          [
           "Doñinos de Ledesma",
           847.0023
          ],
          [
           "Doñinos de Salamanca",
           825.1975
          ],
          [
           "Éjeme",
           null
          ],
          [
           "Encina, La",
           null
          ],
          [
           "Encina de San Silvestre",
           803.7103
          ],
          [
           "Encinas de Abajo",
           791.9091
          ],
          [
           "Encinas de Arriba",
           817.2836
          ],
          [
           "Encinasola de los Comendadores",
           708.7699
          ],
          [
           "Endrinal",
           923.6503
          ],
          [
           "Escurial de la Sierra",
           958.3282
          ],
          [
           "Espadaña",
           785.398
          ],
          [
           "Espeja",
           698.6036
          ],
          [
           "Espino de la Orbada",
           799.1531
          ],
          [
           "Florida de Liébana",
           767.7192
          ],
          [
           "Forfoleda",
           792
          ],
          [
           "Frades de la Sierra",
           969.7409
          ],
          [
           "Fregeneda, La",
           null
          ],
          [
           "Fresnedoso",
           1020.359
          ],
          [
           "Fresno Alhándiga",
           831.5128
          ],
          [
           "Fuente de San Esteban, La",
           null
          ],
          [
           "Fuenteguinaldo",
           857.3421
          ],
          [
           "Fuenteliante",
           722.4082
          ],
          [
           "Fuenterroble de Salvatierra",
           952.5548
          ],
          [
           "Fuentes de Béjar",
           906.1965
          ],
          [
           "Fuentes de Oñoro",
           737.6271
          ],
          [
           "Gajates",
           854.1697
          ],
          [
           "Galindo y Perahuy",
           798.0319
          ],
          [
           "Galinduste",
           947.1396
          ],
          [
           "Galisancho",
           820.5486
          ],
          [
           "Gallegos de Argañán",
           664.0316
          ],
          [
           "Gallegos de Solmirón",
           1109.974
          ],
          [
           "Garcibuey",
           699.9051
          ],
          [
           "Garcihernández",
           815.0062
          ],
          [
           "Garcirrey",
           812.2611
          ],
          [
           "Gejuelo del Barro",
           807.9324
          ],
          [
           "Golpejas",
           783.9107
          ],
          [
           "Gomecello",
           843.8534
          ],
          [
           "Guadramiro",
           748.9703
          ],
          [
           "Guijo de Ávila",
           972.0184
          ],
          [
           "Guijuelo",
           1015.943
          ],
          [
           "Herguijuela de Ciudad Rodrigo",
           805.5259
          ],
          [
           "Herguijuela de la Sierra",
           649.6334
          ],
          [
           "Herguijuela del Campo",
           925.9821
          ],
          [
           "Hinojosa de Duero",
           608.4411
          ],
          [
           "Horcajo de Montemayor",
           736.9137
          ],
          [
           "Horcajo Medianero",
           1001.317
          ],
          [
           "Hoya, La",
           null
          ],
          [
           "Huerta",
           788.3081
          ],
          [
           "Iruelos",
           780.4797
          ],
          [
           "Ituero de Azaba",
           669.289
          ],
          [
           "Juzbado",
           795.5882
          ],
          [
           "Lagunilla",
           932.2834
          ],
          [
           "Larrodrigo",
           867.775
          ],
          [
           "Ledesma",
           773.7244
          ],
          [
           "Ledrada",
           884.9431
          ],
          [
           "Linares de Riofrío",
           957.4563
          ],
          [
           "Lumbrales",
           675.5071
          ],
          [
           "Macotera",
           893.4735
          ],
          [
           "Machacón",
           807.2266
          ],
          [
           "Madroñal",
           674.8745
          ],
          [
           "Maíllo, El",
           null
          ],
          [
           "Malpartida",
           897.3098
          ],
          [
           "Mancera de Abajo",
           897.7108
          ],
          [
           "Manzano, El",
           null
          ],
          [
           "Martiago",
           811.0814
          ],
          [
           "Martinamor",
           954.91
          ],
          [
           "Martín de Yeltes",
           762.9928
          ],
          [
           "Masueco",
           680.6115
          ],
          [
           "Castellanos de Villiquera",
           829.2123
          ],
          [
           "Mata de Ledesma, La",
           null
          ],
          [
           "Matilla de los Caños del Río",
           826.0807
          ],
          [
           "Maya, La",
           null
          ],
          [
           "Membribe de la Sierra",
           1025.661
          ],
          [
           "Mieza",
           662.1299
          ],
          [
           "Milano, El",
           null
          ],
          [
           "Miranda de Azán",
           821.7861
          ],
          [
           "Miranda del Castañar",
           636.434
          ],
          [
           "Mogarraz",
           782.6704
          ],
          [
           "Molinillo",
           725.483
          ],
          [
           "Monforte de la Sierra",
           821.5292
          ],
          [
           "Monleón",
           872.0361
          ],
          [
           "Monleras",
           752.909
          ],
          [
           "Monsagro",
           965.6917
          ],
          [
           "Montejo",
           927.8253
          ],
          [
           "Montemayor del Río",
           643.6966
          ],
          [
           "Monterrubio de Armuña",
           799.7922
          ],
          [
           "Monterrubio de la Sierra",
           964.4607
          ],
          [
           "Morasverdes",
           896.1119
          ],
          [
           "Morille",
           933.8912
          ],
          [
           "Moríñigo",
           803.5493
          ],
          [
           "Moriscos",
           844.4398
          ],
          [
           "Moronta",
           764.1678
          ],
          [
           "Mozárbez",
           874.7148
          ],
          [
           "Narros de Matalayegua",
           985.0504
          ],
          [
           "Navacarros",
           1126.157
          ],
          [
           "Nava de Béjar",
           1046.605
          ],
          [
           "Nava de Francia",
           1042.738
          ],
          [
           "Nava de Sotrobal",
           856.4819
          ],
          [
           "Navales",
           847.2195
          ],
          [
           "Navalmoral de Béjar",
           926.4265
          ],
          [
           "Navamorales",
           989.564
          ],
          [
           "Navarredonda de la Rinconada",
           1026.249
          ],
          [
           "Navasfrías",
           903.6105
          ],
          [
           "Negrilla de Palencia",
           824.7216
          ],
          [
           "Olmedo de Camaces",
           711.8811
          ],
          [
           "Orbada, La",
           null
          ],
          [
           "Pajares de la Laguna",
           827.5972
          ],
          [
           "Palacios del Arzobispo",
           823.892
          ],
          [
           "Palaciosrubios",
           806.4166
          ],
          [
           "Palencia de Negrilla",
           824.9493
          ],
          [
           "Parada de Arriba",
           824.8565
          ],
          [
           "Parada de Rubiales",
           845.3183
          ],
          [
           "Paradinas de San Juan",
           852.3538
          ],
          [
           "Pastores",
           769.4645
          ],
          [
           "Payo, El",
           null
          ],
          [
           "Pedraza de Alba",
           896.6031
          ],
          [
           "Pedrosillo de Alba",
           837.5592
          ],
          [
           "Pedrosillo de los Aires",
           956.5556
          ],
          [
           "Pedrosillo el Ralo",
           815.6058
          ],
          [
           "Pedroso de la Armuña, El",
           null
          ],
          [
           "Pelabravo",
           815.6241
          ],
          [
           "Pelarrodríguez",
           756.4791
          ],
          [
           "Pelayos",
           935.5426
          ],
          [
           "Peña, La",
           null
          ],
          [
           "Peñacaballera",
           874.3146
          ],
          [
           "Peñaparda",
           863.9899
          ],
          [
           "Peñaranda de Bracamonte",
           899.5543
          ],
          [
           "Peñarandilla",
           821.0045
          ],
          [
           "Peralejos de Abajo",
           773.447
          ],
          [
           "Peralejos de Arriba",
           788.0662
          ],
          [
           "Pereña de la Ribera",
           698.2541
          ],
          [
           "Peromingo",
           791.4692
          ],
          [
           "Pinedas",
           790.9607
          ],
          [
           "Pino de Tormes, El",
           null
          ],
          [
           "Pitiegua",
           846.9292
          ],
          [
           "Pizarral",
           908.2397
          ],
          [
           "Poveda de las Cintas",
           807.0439
          ],
          [
           "Pozos de Hinojo",
           735.0233
          ],
          [
           "Puebla de Azaba",
           665.5089
          ],
          [
           "Puebla de San Medel",
           967.3432
          ],
          [
           "Puebla de Yeltes",
           881.7862
          ],
          [
           "Puente del Congosto",
           941.1274
          ],
          [
           "Puertas",
           784.341
          ],
          [
           "Puerto de Béjar",
           929.1489
          ],
          [
           "Puerto Seguro",
           641.8528
          ],
          [
           "Rágama",
           847.4322
          ],
          [
           "Redonda, La",
           null
          ],
          [
           "Retortillo",
           735.7136
          ],
          [
           "Rinconada de la Sierra, La",
           null
          ],
          [
           "Robleda",
           837.2068
          ],
          [
           "Robliza de Cojos",
           818.6881
          ],
          [
           "Rollán",
           802.2749
          ],
          [
           "Saelices el Chico",
           658.7722
          ],
          [
           "Sagrada, La",
           null
          ],
          [
           "Salamanca",
           802.7915
          ],
          [
           "Saldeana",
           664.0504
          ],
          [
           "Salmoral",
           910.3112
          ],
          [
           "Salvatierra de Tormes",
           900.8209
          ],
          [
           "San Cristóbal de la Cuesta",
           820.1966
          ],
          [
           "Sancti-Spíritus",
           760.9977
          ],
          [
           "Sancti-Spíritus",
           486.562
          ],
          [
           "Sanchón de la Ribera",
           725.8375
          ],
          [
           "Sanchón de la Sagrada",
           862.8228
          ],
          [
           "Sanchotello",
           938.9756
          ],
          [
           "Sando",
           838.4528
          ],
          [
           "San Esteban de la Sierra",
           631.8868
          ],
          [
           "San Felices de los Gallegos",
           667.4055
          ],
          [
           "San Martín del Castañar",
           841.831
          ],
          [
           "San Miguel de Valero",
           932.705
          ],
          [
           "San Morales",
           794.9968
          ],
          [
           "San Muñoz",
           783.1349
          ],
          [
           "San Pedro del Valle",
           790.4227
          ],
          [
           "San Pedro de Rozados",
           975.6448
          ],
          [
           "San Pelayo de Guareña",
           789.7009
          ],
          [
           "Santa María de Sando",
           824.6718
          ],
          [
           "Santa Marta de Tormes",
           779.7791
          ],
          [
           "Santiago de la Puebla",
           868.9525
          ],
          [
           "Santibáñez de Béjar",
           922.2231
          ],
          [
           "Santibáñez de la Sierra",
           615.7195
          ],
          [
           "Santiz",
           892
          ],
          [
           "Santos, Los",
           null
          ],
          [
           "Sardón de los Frailes",
           737.1103
          ],
          [
           "Saucelle",
           666.158
          ],
          [
           "Sahugo, El",
           null
          ],
          [
           "Sepulcro-Hilario",
           831.1911
          ],
          [
           "Sequeros",
           943.9675
          ],
          [
           "Serradilla del Arroyo",
           853.9916
          ],
          [
           "Serradilla del Llano",
           876.2202
          ],
          [
           "Sierpe, La",
           null
          ],
          [
           "Sieteiglesias de Tormes",
           821
          ],
          [
           "Sobradillo",
           652.3832
          ],
          [
           "Sorihuela",
           1001.709
          ],
          [
           "Sotoserrano",
           509.2324
          ],
          [
           "Tabera de Abajo",
           810.5211
          ],
          [
           "Tala, La",
           null
          ],
          [
           "Tamames",
           901.3917
          ],
          [
           "Tarazona de Guareña",
           770.5272
          ],
          [
           "Tardáguila",
           831.7318
          ],
          [
           "Tejado, El",
           null
          ],
          [
           "Tejeda y Segoyuela",
           929.616
          ],
          [
           "Tenebrón",
           824.368
          ],
          [
           "Terradillos",
           890.0266
          ],
          [
           "Topas",
           824.9239
          ],
          [
           "Tordillos",
           838.7855
          ],
          [
           "Tornadizo, El",
           null
          ],
          [
           "Torresmenudas",
           789.4065
          ],
          [
           "Trabanca",
           743.7527
          ],
          [
           "Tremedal de Tormes",
           767.5543
          ],
          [
           "Valdecarros",
           883.4447
          ],
          [
           "Valdefuentes de Sangusín",
           897.4296
          ],
          [
           "Valdehijaderos",
           778.0461
          ],
          [
           "Valdelacasa",
           957.9121
          ],
          [
           "Valdelageve",
           657.5203
          ],
          [
           "Valdelosa",
           841.7576
          ],
          [
           "Valdemierque",
           938.8387
          ],
          [
           "Valderrodrigo",
           733.0906
          ],
          [
           "Valdunciel",
           806.5008
          ],
          [
           "Valero",
           595.4124
          ],
          [
           "Valsalabroso",
           729.0405
          ],
          [
           "Valverde de Valdelacasa",
           804.0566
          ],
          [
           "Valverdón",
           767.7844
          ],
          [
           "Vallejera de Riofrío",
           1140.328
          ],
          [
           "Vecinos",
           888.3599
          ],
          [
           "Vega de Tirados",
           783.0811
          ],
          [
           "Veguillas, Las",
           null
          ],
          [
           "Vellés, La",
           null
          ],
          [
           "Ventosa del Río Almar",
           853.9965
          ],
          [
           "Vídola, La",
           null
          ],
          [
           "Vilvestre",
           582.2014
          ],
          [
           "Villaflores",
           794.5469
          ],
          [
           "Villagonzalo de Tormes",
           805.2603
          ],
          [
           "Villalba de los Llanos",
           835.8166
          ],
          [
           "Villamayor",
           786.5375
          ],
          [
           "Villanueva del Conde",
           800.9477
          ],
          [
           "Villar de Argañán",
           717.7349
          ],
          [
           "Villar de Ciervo",
           678.7781
          ],
          [
           "Villar de Gallimazo",
           857.1204
          ],
          [
           "Villar de la Yegua",
           711.8369
          ],
          [
           "Villar de Peralonso",
           820.0938
          ],
          [
           "Villar de Samaniego",
           743.1362
          ],
          [
           "Villares de la Reina",
           817.9556
          ],
          [
           "Villares de Yeltes",
           719.8795
          ],
          [
           "Villarino de los Aires",
           605.4351
          ],
          [
           "Villarmayor",
           827.4609
          ],
          [
           "Villarmuerto",
           767.4649
          ],
          [
           "Villasbuenas",
           734.7009
          ],
          [
           "Villasdardo",
           813.8005
          ],
          [
           "Villaseco de los Gamitos",
           834.4906
          ],
          [
           "Villaseco de los Reyes",
           771.2275
          ],
          [
           "Villasrubias",
           850.7972
          ],
          [
           "Villaverde de Guareña",
           829.9338
          ],
          [
           "Villavieja de Yeltes",
           741.9375
          ],
          [
           "Villoria",
           818.5666
          ],
          [
           "Villoruela",
           824.9141
          ],
          [
           "Vitigudino",
           763.2999
          ],
          [
           "Yecla de Yeltes",
           721.6814
          ],
          [
           "Zamarra",
           777.2296
          ],
          [
           "Zamayón",
           813.7863
          ],
          [
           "Zarapicos",
           783.1765
          ],
          [
           "Zarza de Pumareda, La",
           null
          ],
          [
           "Zorita de la Frontera",
           830.3544
          ],
          [
           "Adeje",
           288.9392
          ],
          [
           "Agulo",
           199.3272
          ],
          [
           "Alajeró",
           821.5216
          ],
          [
           "Arafo",
           432.3514
          ],
          [
           "Arico",
           362.0416
          ],
          [
           "Arona",
           630.8655
          ],
          [
           "Barlovento",
           560.6917
          ],
          [
           "Breña Alta",
           370.9761
          ],
          [
           "Breña Baja",
           539.2067
          ],
          [
           "Buenavista del Norte",
           127.8591
          ],
          [
           "Candelaria",
           10
          ],
          [
           "Fasnia",
           482.8613
          ],
          [
           "Frontera",
           339.0463
          ],
          [
           "Fuencaliente de la Palma",
           604.7274
          ],
          [
           "Garachico",
           11.52424
          ],
          [
           "Garafía",
           899.6116
          ],
          [
           "Granadilla de Abona",
           647.0933
          ],
          [
           "Guancha, La",
           null
          ],
          [
           "Guía de Isora",
           590.0607
          ],
          [
           "Güímar",
           307.1391
          ],
          [
           "Hermigua",
           127.1466
          ],
          [
           "Icod de los Vinos",
           229.9812
          ],
          [
           "San Cristóbal de La Laguna",
           548.1752
          ],
          [
           "Llanos de Aridane, Los",
           null
          ],
          [
           "Matanza de Acentejo, La",
           null
          ],
          [
           "Orotava, La",
           null
          ],
          [
           "Paso, El",
           null
          ],
          [
           "Puerto de la Cruz",
           53.82357
          ],
          [
           "Puntagorda",
           849.1637
          ],
          [
           "Puntallana",
           494.2469
          ],
          [
           "Realejos, Los",
           null
          ],
          [
           "Rosario, El",
           null
          ],
          [
           "San Andrés y Sauces",
           60.90185
          ],
          [
           "San Juan de la Rambla",
           50.26696
          ],
          [
           "San Miguel de Abona",
           604.5886
          ],
          [
           "San Sebastián de la Gomera",
           2.807406
          ],
          [
           "Santa Cruz de la Palma",
           3.883548
          ],
          [
           "Santa Cruz de Tenerife",
           41.29388
          ],
          [
           "Santa Úrsula",
           284.0858
          ],
          [
           "Santiago del Teide",
           929.3008
          ],
          [
           "Sauzal, El",
           null
          ],
          [
           "Silos, Los",
           null
          ],
          [
           "Tacoronte",
           488.9084
          ],
          [
           "Tanque, El",
           null
          ],
          [
           "Tazacorte",
           124.7486
          ],
          [
           "Tegueste",
           412.2942
          ],
          [
           "Tijarafe",
           615.9692
          ],
          [
           "Valverde",
           588.4797
          ],
          [
           "Valle Gran Rey",
           607.2831
          ],
          [
           "Vallehermoso",
           181.5817
          ],
          [
           "Victoria de Acentejo, La",
           null
          ],
          [
           "Vilaflor de Chasna",
           null
          ],
          [
           "Villa de Mazo",
           965.7053
          ],
          [
           "Pinar de El Hierro, El",
           null
          ],
          [
           "Alfoz de Lloredo",
           191.1736
          ],
          [
           "Ampuero",
           14.41542
          ],
          [
           "Anievas",
           307.6791
          ],
          [
           "Arenas de Iguña",
           175.7548
          ],
          [
           "Argoños",
           7.686848
          ],
          [
           "Arnuero",
           58.03693
          ],
          [
           "Arredondo",
           162.1712
          ],
          [
           "Astillero, El",
           null
          ],
          [
           "Bárcena de Cicero",
           8.115047
          ],
          [
           "Bárcena de Pie de Concha",
           341.4135
          ],
          [
           "Bareyo",
           74.22401
          ],
          [
           "Cabezón de la Sal",
           126.715
          ],
          [
           "Cabezón de Liébana",
           368.491
          ],
          [
           "Cabuérniga",
           279.0297
          ],
          [
           "Camaleño",
           442.6653
          ],
          [
           "Camargo",
           27.12142
          ],
          [
           "Campoo de Yuso",
           854.9267
          ],
          [
           "Cartes",
           34.01722
          ],
          [
           "Castañeda",
           51.33138
          ],
          [
           "Castro-Urdiales",
           13.48153
          ],
          [
           "Cieza",
           238.8728
          ],
          [
           "Cieza",
           189.8739
          ],
          [
           "Cillorigo de Liébana",
           491.4029
          ],
          [
           "Colindres",
           7.550448
          ],
          [
           "Comillas",
           24.99873
          ],
          [
           "Corrales de Buelna, Los",
           null
          ],
          [
           "Corvera de Toranzo",
           317.1393
          ],
          [
           "Campoo de Enmedio",
           878.4844
          ],
          [
           "Entrambasaguas",
           44.69009
          ],
          [
           "Escalante",
           8.192403
          ],
          [
           "Guriezo",
           13.48724
          ],
          [
           "Hazas de Cesto",
           66.35742
          ],
          [
           "Hermandad de Campoo de Suso",
           912.019
          ],
          [
           "Herrerías",
           193.9438
          ],
          [
           "Lamasón",
           315.1235
          ],
          [
           "Laredo",
           13.43072
          ],
          [
           "Liendo",
           29.383
          ],
          [
           "Liérganes",
           87.95516
          ],
          [
           "Limpias",
           305.4288
          ],
          [
           "Luena",
           495.1068
          ],
          [
           "Marina de Cudeyo",
           16.28183
          ],
          [
           "Mazcuerras",
           133.059
          ],
          [
           "Medio Cudeyo",
           37.2541
          ],
          [
           "Meruelo",
           35.97668
          ],
          [
           "Miengo",
           14.39486
          ],
          [
           "Miera",
           338.0346
          ],
          [
           "Molledo",
           248.2709
          ],
          [
           "Noja",
           24.97051
          ],
          [
           "Penagos",
           129.0727
          ],
          [
           "Peñarrubia",
           475.7796
          ],
          [
           "Pesaguero",
           608.4185
          ],
          [
           "Pesquera",
           614.1819
          ],
          [
           "Piélagos",
           39.58884
          ],
          [
           "Polaciones",
           887.2664
          ],
          [
           "Polanco",
           52.85626
          ],
          [
           "Potes",
           309.7742
          ],
          [
           "Puente Viesgo",
           70.55008
          ],
          [
           "Ramales de la Victoria",
           86.5575
          ],
          [
           "Rasines",
           88.65132
          ],
          [
           "Reinosa",
           853.8888
          ],
          [
           "Reocín",
           115.7464
          ],
          [
           "Ribamontán al Mar",
           29.16733
          ],
          [
           "Ribamontán al Monte",
           59.71571
          ],
          [
           "Rionansa",
           210.4719
          ],
          [
           "Riotuerto",
           126.3817
          ],
          [
           "Rozas de Valdearroyo, Las",
           null
          ],
          [
           "Ruente",
           189.9705
          ],
          [
           "Ruesga",
           149.2516
          ],
          [
           "Ruiloba",
           44.85384
          ],
          [
           "San Felices de Buelna",
           105.392
          ],
          [
           "San Miguel de Aguayo",
           839.2117
          ],
          [
           "San Pedro del Romeral",
           755.9124
          ],
          [
           "San Roque de Riomiera",
           378.2011
          ],
          [
           "Santa Cruz de Bezana",
           42.96122
          ],
          [
           "Santa María de Cayón",
           94.75117
          ],
          [
           "Santander",
           4.1
          ],
          [
           "Santillana del Mar",
           84.16537
          ],
          [
           "Santiurde de Reinosa",
           647.917
          ],
          [
           "Santiurde de Toranzo",
           122.0352
          ],
          [
           "Santoña",
           8.660443
          ],
          [
           "San Vicente de la Barquera",
           3.441201
          ],
          [
           "Saro",
           162.4471
          ],
          [
           "Selaya",
           242.945
          ],
          [
           "Soba",
           320.8042
          ],
          [
           "Solórzano",
           89.04234
          ],
          [
           "Suances",
           90.53543
          ],
          [
           "Tojos, Los",
           null
          ],
          [
           "Torrelavega",
           24.9647
          ],
          [
           "Tresviso",
           888.7922
          ],
          [
           "Tudanca",
           420.3354
          ],
          [
           "Udías",
           169.41
          ],
          [
           "Valdáliga",
           46.15511
          ],
          [
           "Valdeolea",
           930.1546
          ],
          [
           "Valdeprado del Río",
           914.2877
          ],
          [
           "Valderredible",
           725.1385
          ],
          [
           "Val de San Vicente",
           32.28376
          ],
          [
           "Vega de Liébana",
           1232.006
          ],
          [
           "Vega de Pas",
           357.8255
          ],
          [
           "Villacarriedo",
           213.2215
          ],
          [
           "Villaescusa",
           22.27066
          ],
          [
           "Villaescusa",
           824.9127
          ],
          [
           "Villafufre",
           224.6329
          ],
          [
           "Valle de Villaverde",
           194.6136
          ],
          [
           "Voto",
           30.99223
          ],
          [
           "Abades",
           972.9816
          ],
          [
           "Adrada de Pirón",
           1025.208
          ],
          [
           "Adrados",
           885.7927
          ],
          [
           "Aguilafuente",
           890.7866
          ],
          [
           "Alconada de Maderuelo",
           941.0287
          ],
          [
           "Aldealcorvo",
           954.9659
          ],
          [
           "Aldealengua de Pedraza",
           1224.668
          ],
          [
           "Aldealengua de Santa María",
           956.4097
          ],
          [
           "Aldeanueva de la Serrezuela",
           1133.43
          ],
          [
           "Aldeanueva del Codonal",
           860.4335
          ],
          [
           "Aldea Real",
           1180.345
          ],
          [
           "Aldeasoña",
           829.5284
          ],
          [
           "Aldehorno",
           961.0057
          ],
          [
           "Aldehuela del Codonal",
           860.6868
          ],
          [
           "Aldeonte",
           966.3133
          ],
          [
           "Anaya",
           888.5967
          ],
          [
           "Añe",
           876.4594
          ],
          [
           "Arahuetes",
           1094.234
          ],
          [
           "Arcones",
           1151.102
          ],
          [
           "Arevalillo de Cega",
           1042.221
          ],
          [
           "Armuña",
           908.2159
          ],
          [
           "Ayllón",
           1000.703
          ],
          [
           "Barbolla",
           942.1429
          ],
          [
           "Basardilla",
           1094.927
          ],
          [
           "Bercial",
           972.6617
          ],
          [
           "Bercimuel",
           967.4302
          ],
          [
           "Bernardos",
           901.9694
          ],
          [
           "Bernuy de Porreros",
           1016.847
          ],
          [
           "Boceguillas",
           962.1383
          ],
          [
           "Brieva",
           1090.915
          ],
          [
           "Caballar",
           1009.216
          ],
          [
           "Cabañas de Polendos",
           940.3881
          ],
          [
           "Cabezuela",
           950.7864
          ],
          [
           "Calabazas de Fuentidueña",
           909.485
          ],
          [
           "Campo de San Pedro",
           970.5167
          ],
          [
           "Cantalejo",
           963.2977
          ],
          [
           "Cantimpalos",
           909.5023
          ],
          [
           "Carbonero el Mayor",
           922.6301
          ],
          [
           "Carrascal del Río",
           856.5717
          ],
          [
           "Casla",
           1077.447
          ],
          [
           "Castillejo de Mesleón",
           1015.715
          ],
          [
           "Castro de Fuentidueña",
           1099.253
          ],
          [
           "Castrojimeno",
           1083.13
          ],
          [
           "Castroserna de Abajo",
           986.5969
          ],
          [
           "Castroserracín",
           1136.012
          ],
          [
           "Cedillo de la Torre",
           1021.628
          ],
          [
           "Cerezo de Abajo",
           1047.832
          ],
          [
           "Cerezo de Arriba",
           1128.88
          ],
          [
           "Cilleruelo de San Mamés",
           986.2485
          ],
          [
           "Cobos de Fuentidueña",
           837.217
          ],
          [
           "Coca",
           783.8333
          ],
          [
           "Codorniz",
           889.9684
          ],
          [
           "Collado Hermoso",
           1220.754
          ],
          [
           "Condado de Castilnovo",
           998.777
          ],
          [
           "Corral de Ayllón",
           1027.357
          ],
          [
           "Cubillo",
           1066.817
          ],
          [
           "Cuéllar",
           873.2888
          ],
          [
           "Chañe",
           767.6998
          ],
          [
           "Domingo García",
           899.2606
          ],
          [
           "Donhierro",
           804.6583
          ],
          [
           "Duruelo",
           1012.408
          ],
          [
           "Encinas",
           1009.99
          ],
          [
           "Encinillas",
           949.6232
          ],
          [
           "Escalona del Prado",
           896.3405
          ],
          [
           "Escarabajosa de Cabezas",
           884.6951
          ],
          [
           "Escobar de Polendos",
           905.3851
          ],
          [
           "Espinar, El",
           null
          ],
          [
           "Espirdo",
           1067.382
          ],
          [
           "Fresneda de Cuéllar",
           766.7217
          ],
          [
           "Fresno de Cantespino",
           1037.505
          ],
          [
           "Fresno de la Fuente",
           1040.055
          ],
          [
           "Frumales",
           820
          ],
          [
           "Fuente de Santa Cruz",
           831.7021
          ],
          [
           "Fuente el Olmo de Fuentidueña",
           851.1677
          ],
          [
           "Fuente el Olmo de Íscar",
           775.7598
          ],
          [
           "Fuentepelayo",
           869.318
          ],
          [
           "Fuentepiñel",
           891.1735
          ],
          [
           "Fuenterrebollo",
           929.0509
          ],
          [
           "Fuentesaúco de Fuentidueña",
           897.0123
          ],
          [
           "Fuentesoto",
           942.894
          ],
          [
           "Fuentidueña",
           838.3236
          ],
          [
           "Gallegos",
           1234.033
          ],
          [
           "Garcillán",
           917
          ],
          [
           "Gomezserracín",
           805
          ],
          [
           "Grajera",
           1012.895
          ],
          [
           "Honrubia de la Cuesta",
           993.7116
          ],
          [
           "Hontalbilla",
           893.8555
          ],
          [
           "Hontanares de Eresma",
           880.4162
          ],
          [
           "Huertos, Los",
           null
          ],
          [
           "Ituero y Lama",
           1002.227
          ],
          [
           "Juarros de Riomoros",
           916.307
          ],
          [
           "Juarros de Voltoya",
           853.621
          ],
          [
           "Labajos",
           1063.336
          ],
          [
           "Laguna de Contreras",
           801.9667
          ],
          [
           "Languilla",
           947.9021
          ],
          [
           "Lastras de Cuéllar",
           902.9059
          ],
          [
           "Lastras del Pozo",
           966.7155
          ],
          [
           "Lastrilla, La",
           null
          ],
          [
           "Losa, La",
           null
          ],
          [
           "Maderuelo",
           948.9968
          ],
          [
           "Marazuela",
           909.9414
          ],
          [
           "Martín Miguel",
           916.2261
          ],
          [
           "Martín Muñoz de la Dehesa",
           835.0771
          ],
          [
           "Martín Muñoz de las Posadas",
           895.8978
          ],
          [
           "Marugán",
           958.082
          ],
          [
           "Matabuena",
           1157.678
          ],
          [
           "Mata de Cuéllar",
           753
          ],
          [
           "Matilla, La",
           null
          ],
          [
           "Melque de Cercos",
           859.2445
          ],
          [
           "Membibre de la Hoz",
           866.361
          ],
          [
           "Migueláñez",
           885.0084
          ],
          [
           "Montejo de Arévalo",
           801.1225
          ],
          [
           "Montejo de la Vega de la Serrezuela",
           865.232
          ],
          [
           "Monterrubio",
           948.3826
          ],
          [
           "Moral de Hornuez",
           1095.375
          ],
          [
           "Mozoncillo",
           947.8896
          ],
          [
           "Muñopedro",
           1023
          ],
          [
           "Muñoveros",
           962.0355
          ],
          [
           "Nava de la Asunción",
           807.3397
          ],
          [
           "Navafría",
           1203.15
          ],
          [
           "Navalilla",
           900.9603
          ],
          [
           "Navalmanzano",
           840.0873
          ],
          [
           "Navares de Ayuso",
           1013.812
          ],
          [
           "Navares de Enmedio",
           1041.241
          ],
          [
           "Navares de las Cuevas",
           1115.182
          ],
          [
           "Navas de Oro",
           808.3718
          ],
          [
           "Navas de San Antonio",
           1165.014
          ],
          [
           "Nieva",
           842.8079
          ],
          [
           "Olombrada",
           874.9899
          ],
          [
           "Orejana",
           1060.189
          ],
          [
           "Ortigosa de Pestaño",
           858.879
          ],
          [
           "Otero de Herreros",
           1140.483
          ],
          [
           "Pajarejos",
           988.6074
          ],
          [
           "Palazuelos de Eresma",
           1084.439
          ],
          [
           "Pedraza",
           1048.704
          ],
          [
           "Pelayos del Arroyo",
           1142.212
          ],
          [
           "Perosillo",
           833.2657
          ],
          [
           "Pinarejos",
           821
          ],
          [
           "Pinarnegrillo",
           856
          ],
          [
           "Carabias",
           null
          ],
          [
           "Prádena",
           1121.578
          ],
          [
           "Puebla de Pedraza",
           949.6524
          ],
          [
           "Rapariegos",
           857.2944
          ],
          [
           "Rebollo",
           985.6013
          ],
          [
           "Remondo",
           755.8116
          ],
          [
           "Riaguas de San Bartolomé",
           931.5925
          ],
          [
           "Riaza",
           1194.166
          ],
          [
           "Ribota",
           1032.616
          ],
          [
           "Riofrío de Riaza",
           1322.25
          ],
          [
           "Roda de Eresma",
           938.513
          ],
          [
           "Sacramenia",
           850.554
          ],
          [
           "Samboal",
           795
          ],
          [
           "San Cristóbal de Cuéllar",
           809.5489
          ],
          [
           "San Cristóbal de la Vega",
           858.2177
          ],
          [
           "Sanchonuño",
           805.1132
          ],
          [
           "Sangarcía",
           945.6377
          ],
          [
           "Real Sitio de San Ildefonso",
           null
          ],
          [
           "San Martín y Mudrián",
           818.941
          ],
          [
           "San Miguel de Bernuy",
           840.4734
          ],
          [
           "San Pedro de Gaíllos",
           988.7416
          ],
          [
           "Santa María la Real de Nieva",
           900.8523
          ],
          [
           "Santa Marta del Cerro",
           1024.784
          ],
          [
           "Santiuste de Pedraza",
           1156.046
          ],
          [
           "Santiuste de San Juan Bautista",
           820.4395
          ],
          [
           "Santo Domingo de Pirón",
           1083.149
          ],
          [
           "Santo Tomé del Puerto",
           1269.86
          ],
          [
           "Sauquillo de Cabezas",
           908.03
          ],
          [
           "Sebúlcor",
           938.8392
          ],
          [
           "Segovia",
           1012.785
          ],
          [
           "Sepúlveda",
           976.1324
          ],
          [
           "Sequera de Fresno",
           1000.115
          ],
          [
           "Sotillo",
           982.9819
          ],
          [
           "Sotosalbos",
           1163.243
          ],
          [
           "Tabanera la Luenga",
           905.6036
          ],
          [
           "Tolocirio",
           809.3814
          ],
          [
           "Torreadrada",
           1087.067
          ],
          [
           "Torrecaballeros",
           1159.816
          ],
          [
           "Torrecilla del Pinar",
           871.2332
          ],
          [
           "Torreiglesias",
           1019.401
          ],
          [
           "Torre Val de San Pedro",
           1118.942
          ],
          [
           "Trescasas",
           1117.163
          ],
          [
           "Turégano",
           943.3245
          ],
          [
           "Urueñas",
           1051.304
          ],
          [
           "Valdeprados",
           987.1275
          ],
          [
           "Valdevacas de Montejo",
           1121.339
          ],
          [
           "Valdevacas y Guijar",
           1097.263
          ],
          [
           "Valseca",
           942.7326
          ],
          [
           "Valtiendas",
           918.6631
          ],
          [
           "Valverde del Majano",
           924.8687
          ],
          [
           "Valle de Tabladillo",
           940.5837
          ],
          [
           "Vallelado",
           779.4292
          ],
          [
           "Valleruela de Pedraza",
           1093.092
          ],
          [
           "Valleruela de Sepúlveda",
           1095.099
          ],
          [
           "Veganzones",
           916.5224
          ],
          [
           "Vegas de Matute",
           1020.674
          ],
          [
           "Ventosilla y Tejadilla",
           1126.269
          ],
          [
           "Villacastín",
           1102.828
          ],
          [
           "Villaverde de Íscar",
           763.1172
          ],
          [
           "Villaverde de Montejo",
           1043.897
          ],
          [
           "Villeguillo",
           770.3413
          ],
          [
           "Yanguas de Eresma",
           889.0092
          ],
          [
           "Zarzuela del Monte",
           1005.036
          ],
          [
           "Zarzuela del Pinar",
           877.3031
          ],
          [
           "Ortigosa del Monte",
           1107.927
          ],
          [
           "Cozuelos de Fuentidueña",
           878.4466
          ],
          [
           "Marazoleja",
           912.3766
          ],
          [
           "Navas de Riofrío",
           1102.874
          ],
          [
           "Cuevas de Provanco",
           887.5039
          ],
          [
           "San Cristóbal de Segovia",
           1075.621
          ],
          [
           "Aguadulce",
           269.4199
          ],
          [
           "Alanís",
           674.499
          ],
          [
           "Albaida del Aljarafe",
           165.9894
          ],
          [
           "Alcalá de Guadaíra",
           55.89719
          ],
          [
           "Alcalá del Río",
           27.89068
          ],
          [
           "Alcolea del Río",
           31.59125
          ],
          [
           "Algaba, La",
           null
          ],
          [
           "Algámitas",
           426.4051
          ],
          [
           "Almadén de la Plata",
           454.1956
          ],
          [
           "Almensilla",
           46.3095
          ],
          [
           "Arahal",
           119.1923
          ],
          [
           "Aznalcázar",
           66.94781
          ],
          [
           "Aznalcóllar",
           142.9431
          ],
          [
           "Badolatosa",
           223.3192
          ],
          [
           "Benacazón",
           122.7115
          ],
          [
           "Bollullos de la Mitación",
           89.16615
          ],
          [
           "Bormujos",
           100.3896
          ],
          [
           "Brenes",
           20.4634
          ],
          [
           "Burguillos",
           82.8983
          ],
          [
           "Cabezas de San Juan, Las",
           null
          ],
          [
           "Camas",
           10.96704
          ],
          [
           "Campana, La",
           null
          ],
          [
           "Cantillana",
           31.12143
          ],
          [
           "Carmona",
           217.9807
          ],
          [
           "Carrión de los Céspedes",
           101.1786
          ],
          [
           "Casariche",
           307.1805
          ],
          [
           "Castilblanco de los Arroyos",
           328.9605
          ],
          [
           "Castilleja de Guzmán",
           132.0701
          ],
          [
           "Castilleja de la Cuesta",
           99.49868
          ],
          [
           "Castilleja del Campo",
           117.3369
          ],
          [
           "Castillo de las Guardas, El",
           null
          ],
          [
           "Cazalla de la Sierra",
           589.1179
          ],
          [
           "Constantina",
           562.725
          ],
          [
           "Coria del Río",
           12.71133
          ],
          [
           "Coripe",
           322.8958
          ],
          [
           "Coronil, El",
           null
          ],
          [
           "Corrales, Los",
           null
          ],
          [
           "Dos Hermanas",
           47.75739
          ],
          [
           "Écija",
           109
          ],
          [
           "Espartinas",
           129.527
          ],
          [
           "Estepa",
           536.463
          ],
          [
           "Fuentes de Andalucía",
           181.6506
          ],
          [
           "Garrobo, El",
           null
          ],
          [
           "Gelves",
           9.087679
          ],
          [
           "Gerena",
           91.18767
          ],
          [
           "Gilena",
           466
          ],
          [
           "Gines",
           122.6012
          ],
          [
           "Guadalcanal",
           666.4088
          ],
          [
           "Guillena",
           23.11958
          ],
          [
           "Herrera",
           250.9977
          ],
          [
           "Huévar del Aljarafe",
           72.44372
          ],
          [
           "Lantejuela",
           null
          ],
          [
           "Lebrija",
           36.06404
          ],
          [
           "Lora de Estepa",
           447.5596
          ],
          [
           "Lora del Río",
           42.94636
          ],
          [
           "Luisiana, La",
           null
          ],
          [
           "Madroño, El",
           null
          ],
          [
           "Mairena del Alcor",
           131.1066
          ],
          [
           "Mairena del Aljarafe",
           67.95491
          ],
          [
           "Marchena",
           132.541
          ],
          [
           "Marinaleda",
           211.5678
          ],
          [
           "Martín de la Jara",
           403.103
          ],
          [
           "Molares, Los",
           null
          ],
          [
           "Montellano",
           270.6418
          ],
          [
           "Morón de la Frontera",
           231.4267
          ],
          [
           "Navas de la Concepción, Las",
           null
          ],
          [
           "Olivares",
           173.8805
          ],
          [
           "Osuna",
           291.4922
          ],
          [
           "Palacios y Villafranca, Los",
           null
          ],
          [
           "Palomares del Río",
           38.78385
          ],
          [
           "Paradas",
           124.3341
          ],
          [
           "Pedrera",
           456.6477
          ],
          [
           "Pedroso, El",
           null
          ],
          [
           "Peñaflor",
           56.938
          ],
          [
           "Pilas",
           69.78975
          ],
          [
           "Pruna",
           546.836
          ],
          [
           "Puebla de Cazalla, La",
           null
          ],
          [
           "Puebla de los Infantes, La",
           null
          ],
          [
           "Puebla del Río, La",
           null
          ],
          [
           "Real de la Jara, El",
           null
          ],
          [
           "Rinconada, La",
           null
          ],
          [
           "Roda de Andalucía, La",
           null
          ],
          [
           "Ronquillo, El",
           null
          ],
          [
           "Rubio, El",
           null
          ],
          [
           "Salteras",
           153.2617
          ],
          [
           "San Juan de Aznalfarache",
           52.55407
          ],
          [
           "Sanlúcar la Mayor",
           135.8951
          ],
          [
           "San Nicolás del Puerto",
           588.4053
          ],
          [
           "Santiponce",
           16.95212
          ],
          [
           "Saucejo, El",
           null
          ],
          [
           "Sevilla",
           8.265573
          ],
          [
           "Tocina",
           29.86999
          ],
          [
           "Tomares",
           69.09997
          ],
          [
           "Umbrete",
           126.0343
          ],
          [
           "Utrera",
           49.07016
          ],
          [
           "Valencina de la Concepción",
           150.983
          ],
          [
           "Villamanrique de la Condesa",
           32.61857
          ],
          [
           "Villanueva del Ariscal",
           152.3999
          ],
          [
           "Villanueva del Río y Minas",
           55.40402
          ],
          [
           "Villanueva de San Juan",
           467.6487
          ],
          [
           "Villaverde del Río",
           19.56544
          ],
          [
           "Viso del Alcor, El",
           null
          ],
          [
           "Cañada Rosal",
           157.5748
          ],
          [
           "Isla Mayor",
           4
          ],
          [
           "Cuervo de Sevilla, El",
           null
          ],
          [
           "Palmar de Troya, El",
           null
          ],
          [
           "Abejar",
           1145.182
          ],
          [
           "Adradas",
           1053.24
          ],
          [
           "Ágreda",
           939.9912
          ],
          [
           "Alconaba",
           1008.273
          ],
          [
           "Alcubilla de Avellaneda",
           926.149
          ],
          [
           "Alcubilla de las Peñas",
           1123.342
          ],
          [
           "Aldealafuente",
           1008.722
          ],
          [
           "Aldealices",
           1133.837
          ],
          [
           "Aldealpozo",
           1056.476
          ],
          [
           "Aldealseñor",
           1090.4
          ],
          [
           "Aldehuela de Periáñez",
           1053.012
          ],
          [
           "Aldehuelas, Las",
           null
          ],
          [
           "Alentisque",
           1060.366
          ],
          [
           "Aliud",
           1012.084
          ],
          [
           "Almajano",
           1054
          ],
          [
           "Almaluez",
           823.894
          ],
          [
           "Almarza",
           1152.273
          ],
          [
           "Almazán",
           962.2736
          ],
          [
           "Almazul",
           981.7079
          ],
          [
           "Almenar de Soria",
           1020.456
          ],
          [
           "Alpanseque",
           1113.177
          ],
          [
           "Arancón",
           1064.569
          ],
          [
           "Arcos de Jalón",
           829.8203
          ],
          [
           "Arenillas",
           1097.583
          ],
          [
           "Arévalo de la Sierra",
           1209.113
          ],
          [
           "Ausejo de la Sierra",
           1097.726
          ],
          [
           "Baraona",
           1122.398
          ],
          [
           "Barca",
           956.5942
          ],
          [
           "Barcones",
           1095.072
          ],
          [
           "Bayubas de Abajo",
           921.9889
          ],
          [
           "Bayubas de Arriba",
           960.613
          ],
          [
           "Beratón",
           1386.368
          ],
          [
           "Berlanga de Duero",
           937.0346
          ],
          [
           "Blacos",
           989.2947
          ],
          [
           "Bliecos",
           1044.849
          ],
          [
           "Borjabad",
           1014.908
          ],
          [
           "Borobia",
           1115.851
          ],
          [
           "Buberos",
           1022.386
          ],
          [
           "Buitrago",
           1033.595
          ],
          [
           "Burgo de Osma-Ciudad de Osma",
           902.5478
          ],
          [
           "Cabrejas del Campo",
           992.3073
          ],
          [
           "Cabrejas del Pinar",
           1157.918
          ],
          [
           "Calatañazor",
           1058.661
          ],
          [
           "Caltojar",
           968.6671
          ],
          [
           "Candilichera",
           1004.845
          ],
          [
           "Cañamaque",
           961.6105
          ],
          [
           "Carabantes",
           1004.526
          ],
          [
           "Caracena",
           1079.824
          ],
          [
           "Carrascosa de Abajo",
           1021.172
          ],
          [
           "Carrascosa de la Sierra",
           1185.388
          ],
          [
           "Casarejos",
           1084.931
          ],
          [
           "Castilfrío de la Sierra",
           1204.084
          ],
          [
           "Castilruiz",
           1012.292
          ],
          [
           "Castillejo de Robledo",
           958.3167
          ],
          [
           "Centenera de Andaluz",
           945.2386
          ],
          [
           "Cerbón",
           1118.104
          ],
          [
           "Cidones",
           1088.646
          ],
          [
           "Cigudosa",
           744.5455
          ],
          [
           "Cihuela",
           823.4209
          ],
          [
           "Ciria",
           1037.322
          ],
          [
           "Cirujales del Río",
           1068.647
          ],
          [
           "Coscurita",
           964.2791
          ],
          [
           "Covaleda",
           1200.42
          ],
          [
           "Cubilla",
           1091.318
          ],
          [
           "Cubo de la Solana",
           992.694
          ],
          [
           "Cueva de Ágreda",
           1297.624
          ],
          [
           "Dévanos",
           936.56
          ],
          [
           "Deza",
           883.1517
          ],
          [
           "Duruelo de la Sierra",
           1192.476
          ],
          [
           "Escobosa de Almazán",
           1086.438
          ],
          [
           "Espeja de San Marcelino",
           1032.547
          ],
          [
           "Espejón",
           1032.613
          ],
          [
           "Estepa de San Juan",
           1254.505
          ],
          [
           "Frechilla de Almazán",
           984.3314
          ],
          [
           "Fresno de Caracena",
           954.0523
          ],
          [
           "Fuentearmegil",
           986.2681
          ],
          [
           "Fuentecambrón",
           1016.823
          ],
          [
           "Fuentecantos",
           1030.378
          ],
          [
           "Fuentelmonge",
           866.837
          ],
          [
           "Fuentelsaz de Soria",
           1072.903
          ],
          [
           "Fuentepinilla",
           938.7756
          ],
          [
           "Fuentes de Magaña",
           1142.983
          ],
          [
           "Fuentestrún",
           1010.144
          ],
          [
           "Garray",
           1013.721
          ],
          [
           "Golmayo",
           1051.163
          ],
          [
           "Gómara",
           1048.483
          ],
          [
           "Gormaz",
           957.7652
          ],
          [
           "Herrera de Soria",
           1094.928
          ],
          [
           "Hinojosa del Campo",
           1033.897
          ],
          [
           "Langa de Duero",
           844.9768
          ],
          [
           "Liceras",
           1125.616
          ],
          [
           "Losilla, La",
           null
          ],
          [
           "Magaña",
           954.0438
          ],
          [
           "Maján",
           1145.01
          ],
          [
           "Matalebreras",
           995.2419
          ],
          [
           "Matamala de Almazán",
           946.6416
          ],
          [
           "Medinaceli",
           1201.395
          ],
          [
           "Miño de Medinaceli",
           1158.736
          ],
          [
           "Miño de San Esteban",
           942.0782
          ],
          [
           "Molinos de Duero",
           1101.836
          ],
          [
           "Momblona",
           1063.584
          ],
          [
           "Monteagudo de las Vicarías",
           792.3184
          ],
          [
           "Montejo de Tiermes",
           1157.937
          ],
          [
           "Montenegro de Cameros",
           1243.88
          ],
          [
           "Morón de Almazán",
           1007.026
          ],
          [
           "Muriel de la Fuente",
           1018.385
          ],
          [
           "Muriel Viejo",
           1090.473
          ],
          [
           "Nafría de Ucero",
           1021.318
          ],
          [
           "Narros",
           1112.726
          ],
          [
           "Navaleno",
           1117.306
          ],
          [
           "Nepas",
           1041.625
          ],
          [
           "Nolay",
           1073.411
          ],
          [
           "Noviercas",
           1096.912
          ],
          [
           "Ólvega",
           1040.087
          ],
          [
           "Oncala",
           1300.732
          ],
          [
           "Pinilla del Campo",
           1047.87
          ],
          [
           "Portillo de Soria",
           1024.967
          ],
          [
           "Póveda de Soria, La",
           null
          ],
          [
           "Pozalmuro",
           1049.624
          ],
          [
           "Quintana Redonda",
           1025.763
          ],
          [
           "Quintanas de Gormaz",
           937.9619
          ],
          [
           "Quiñonería",
           1182.47
          ],
          [
           "Rábanos, Los",
           null
          ],
          [
           "Rebollar",
           1134.53
          ],
          [
           "Rebollar",
           610.1049
          ],
          [
           "Recuerda",
           897.7146
          ],
          [
           "Rello",
           1069.715
          ],
          [
           "Renieblas",
           1038.175
          ],
          [
           "Retortillo de Soria",
           1241.513
          ],
          [
           "Reznos",
           1054.53
          ],
          [
           "Riba de Escalote, La",
           null
          ],
          [
           "Rioseco de Soria",
           1010.689
          ],
          [
           "Rollamienta",
           1140.99
          ],
          [
           "Royo, El",
           null
          ],
          [
           "Salduero",
           1103.849
          ],
          [
           "San Esteban de Gormaz",
           859.9746
          ],
          [
           "San Felices",
           925.8511
          ],
          [
           "San Leonardo de Yagüe",
           1040.925
          ],
          [
           "San Pedro Manrique",
           1075.933
          ],
          [
           "Santa Cruz de Yanguas",
           1215.854
          ],
          [
           "Santa María de Huerta",
           771.3453
          ],
          [
           "Santa María de las Hoyas",
           1071.299
          ],
          [
           "Serón de Nágima",
           948.1932
          ],
          [
           "Soliedra",
           1099.303
          ],
          [
           "Soria",
           1064.823
          ],
          [
           "Sotillo del Rincón",
           1112.06
          ],
          [
           "Suellacabras",
           1196.337
          ],
          [
           "Tajahuerce",
           1055.238
          ],
          [
           "Tajueco",
           931.3216
          ],
          [
           "Talveila",
           1065.593
          ],
          [
           "Tardelcuende",
           994.6984
          ],
          [
           "Taroda",
           1028.943
          ],
          [
           "Tejado",
           989.0667
          ],
          [
           "Torlengua",
           863.2959
          ],
          [
           "Torreblacos",
           971.5205
          ],
          [
           "Torrubia de Soria",
           1045.725
          ],
          [
           "Trévago",
           1043.339
          ],
          [
           "Ucero",
           963.3094
          ],
          [
           "Vadillo",
           1103.603
          ],
          [
           "Valdeavellano de Tera",
           1141.217
          ],
          [
           "Valdegeña",
           1065.195
          ],
          [
           "Valdelagua del Cerro",
           1119.735
          ],
          [
           "Valdemaluque",
           946.3261
          ],
          [
           "Valdenebro",
           935.8683
          ],
          [
           "Valdeprado",
           844.049
          ],
          [
           "Valderrodilla",
           936.3094
          ],
          [
           "Valtajeros",
           1243.831
          ],
          [
           "Velamazán",
           975.5469
          ],
          [
           "Velilla de la Sierra",
           1032.823
          ],
          [
           "Velilla de los Ajos",
           1002.944
          ],
          [
           "Viana de Duero",
           992.69
          ],
          [
           "Villaciervos",
           1182.621
          ],
          [
           "Villanueva de Gormaz",
           967.6007
          ],
          [
           "Villar del Ala",
           1147.78
          ],
          [
           "Villar del Campo",
           1035.49
          ],
          [
           "Villar del Río",
           1008.998
          ],
          [
           "Villares de Soria, Los",
           null
          ],
          [
           "Villasayas",
           1026.527
          ],
          [
           "Villaseca de Arciel",
           1006.2
          ],
          [
           "Vinuesa",
           1105.639
          ],
          [
           "Vizmanos",
           1200.711
          ],
          [
           "Vozmediano",
           884.5366
          ],
          [
           "Yanguas",
           988.0257
          ],
          [
           "Yelo",
           1124.461
          ],
          [
           "Aiguamúrcia",
           275.8484
          ],
          [
           "Albinyana",
           164.6246
          ],
          [
           "Albiol, L'",
           null
          ],
          [
           "Alcanar",
           76.73789
          ],
          [
           "Alcover",
           243.6683
          ],
          [
           "Aldover",
           22.51767
          ],
          [
           "Aleixar, L'",
           null
          ],
          [
           "Alfara de Carles",
           330.2164
          ],
          [
           "Alforja",
           377.2571
          ],
          [
           "Alió",
           260.8962
          ],
          [
           "Almoster",
           279.3624
          ],
          [
           "Altafulla",
           40.74033
          ],
          [
           "Ametlla de Mar, L'",
           null
          ],
          [
           "Amposta",
           13.08101
          ],
          [
           "Arbolí",
           722.0569
          ],
          [
           "Arboç, L'",
           null
          ],
          [
           "Argentera, L'",
           null
          ],
          [
           "Arnes",
           502.1081
          ],
          [
           "Ascó",
           47.97315
          ],
          [
           "Banyeres del Penedès",
           161.0753
          ],
          [
           "Barberà de la Conca",
           445.4714
          ],
          [
           "Batea",
           366.6695
          ],
          [
           "Bellmunt del Priorat",
           265.5596
          ],
          [
           "Bellvei",
           103.1995
          ],
          [
           "Benifallet",
           20.97804
          ],
          [
           "Benissanet",
           30.95802
          ],
          [
           "Bisbal de Falset, La",
           null
          ],
          [
           "Bisbal del Penedès, La",
           null
          ],
          [
           "Blancafort",
           428.1689
          ],
          [
           "Bonastre",
           178.1962
          ],
          [
           "Borges del Camp, Les",
           null
          ],
          [
           "Bot",
           289.0362
          ],
          [
           "Botarell",
           191.7195
          ],
          [
           "Bràfim",
           241.3834
          ],
          [
           "Cabacés",
           321.5059
          ],
          [
           "Cabra del Camp",
           496.1121
          ],
          [
           "Calafell",
           49.04614
          ],
          [
           "Cambrils",
           8.722612
          ],
          [
           "Capafonts",
           744.4973
          ],
          [
           "Capçanes",
           216.5009
          ],
          [
           "Caseres",
           325.9239
          ],
          [
           "Castellvell del Camp",
           211.4699
          ],
          [
           "Catllar, El",
           null
          ],
          [
           "Sénia, La",
           null
          ],
          [
           "Colldejou",
           418.8255
          ],
          [
           "Conesa",
           703.0317
          ],
          [
           "Constantí",
           71.37662
          ],
          [
           "Corbera d'Ebre",
           298.1901
          ],
          [
           "Cornudella de Montsant",
           538.842
          ],
          [
           "Creixell",
           37.14136
          ],
          [
           "Cunit",
           13.48558
          ],
          [
           "Xerta",
           15.96906
          ],
          [
           "Duesaigües",
           257.8097
          ],
          [
           "Espluga de Francolí, L'",
           null
          ],
          [
           "Falset",
           372
          ],
          [
           "Fatarella, La",
           null
          ],
          [
           "Febró, La",
           null
          ],
          [
           "Figuera, La",
           null
          ],
          [
           "Figuerola del Camp",
           494.4908
          ],
          [
           "Flix",
           89.04555
          ],
          [
           "Forès",
           812.8558
          ],
          [
           "Freginals",
           112.4258
          ],
          [
           "Galera, La",
           null
          ],
          [
           "Gandesa",
           377.5729
          ],
          [
           "Garcia",
           45.94114
          ],
          [
           "Garidells, Els",
           null
          ],
          [
           "Ginestar",
           28.55884
          ],
          [
           "Godall",
           174.054
          ],
          [
           "Gratallops",
           315.0264
          ],
          [
           "Guiamets, Els",
           null
          ],
          [
           "Horta de Sant Joan",
           524.2277
          ],
          [
           "Lloar, El",
           null
          ],
          [
           "Llorac",
           644.8692
          ],
          [
           "Llorenç del Penedès",
           164.474
          ],
          [
           "Margalef",
           377.8307
          ],
          [
           "Marçà",
           318.0693
          ],
          [
           "Mas de Barberans",
           360.4406
          ],
          [
           "Masdenverge",
           47.8704
          ],
          [
           "Masllorenç",
           308.2999
          ],
          [
           "Masó, La",
           null
          ],
          [
           "Maspujols",
           203.1914
          ],
          [
           "Masroig, El",
           null
          ],
          [
           "Milà, El",
           null
          ],
          [
           "Miravet",
           31.31219
          ],
          [
           "Molar, El",
           null
          ],
          [
           "Montblanc",
           352.0974
          ],
          [
           "Montbrió del Camp",
           136.6262
          ],
          [
           "Montferri",
           232.4649
          ],
          [
           "Montmell, El",
           null
          ],
          [
           "Mont-ral",
           856.2275
          ],
          [
           "Mont-roig del Camp",
           99.48418
          ],
          [
           "Móra d'Ebre",
           51.02542
          ],
          [
           "Móra la Nova",
           39.38612
          ],
          [
           "Morell, El",
           null
          ],
          [
           "Morera de Montsant, La",
           null
          ],
          [
           "Nou de Gaià, La",
           null
          ],
          [
           "Nulles",
           226.6075
          ],
          [
           "Palma d'Ebre, La",
           null
          ],
          [
           "Pallaresos, Els",
           null
          ],
          [
           "Passanant i Belltall",
           715.6676
          ],
          [
           "Paüls",
           306.6884
          ],
          [
           "Perafort",
           124.8244
          ],
          [
           "Perelló, El",
           null
          ],
          [
           "Piles, Les",
           null
          ],
          [
           "Pinell de Brai, El",
           null
          ],
          [
           "Pira",
           395.6909
          ],
          [
           "Pla de Santa Maria, El",
           null
          ],
          [
           "Pobla de Mafumet, La",
           null
          ],
          [
           "Pobla de Massaluca, La",
           null
          ],
          [
           "Pobla de Montornès, La",
           null
          ],
          [
           "Poboleda",
           363.0493
          ],
          [
           "Pont d'Armentera, El",
           null
          ],
          [
           "Porrera",
           309.0124
          ],
          [
           "Pradell de la Teixeta",
           470.191
          ],
          [
           "Prades",
           949.0946
          ],
          [
           "Prat de Comte",
           347.2015
          ],
          [
           "Pratdip",
           235.3322
          ],
          [
           "Puigpelat",
           253.6263
          ],
          [
           "Querol",
           530.1125
          ],
          [
           "Rasquera",
           175.2991
          ],
          [
           "Renau",
           170.6811
          ],
          [
           "Reus",
           127.8296
          ],
          [
           "Riba, La",
           null
          ],
          [
           "Riba-roja d'Ebre",
           88.89165
          ],
          [
           "Riera de Gaià, La",
           null
          ],
          [
           "Riudecanyes",
           187.1033
          ],
          [
           "Riudecols",
           296.2064
          ],
          [
           "Riudoms",
           113.1621
          ],
          [
           "Rocafort de Queralt",
           564.9393
          ],
          [
           "Roda de Berà",
           null
          ],
          [
           "Rodonyà",
           319.4084
          ],
          [
           "Roquetes",
           16.51928
          ],
          [
           "Rourell, El",
           null
          ],
          [
           "Salomó",
           168.8046
          ],
          [
           "Ràpita, La",
           null
          ],
          [
           "Sant Jaume dels Domenys",
           212.2896
          ],
          [
           "Santa Bàrbara",
           86.20828
          ],
          [
           "Santa Coloma de Queralt",
           687.3315
          ],
          [
           "Santa Oliva",
           97.12163
          ],
          [
           "Pontils",
           549.0671
          ],
          [
           "Sarral",
           468.9105
          ],
          [
           "Savallà del Comtat",
           815.1319
          ],
          [
           "Secuita, La",
           null
          ],
          [
           "Selva del Camp, La",
           null
          ],
          [
           "Senan",
           628.7389
          ],
          [
           "Solivella",
           492.9866
          ],
          [
           "Tarragona",
           26.26264
          ],
          [
           "Tivenys",
           15.66767
          ],
          [
           "Tivissa",
           317.5723
          ],
          [
           "Torre de Fontaubella, La",
           null
          ],
          [
           "Torre de l'Espanyol, La",
           null
          ],
          [
           "Torredembarra",
           20.92576
          ],
          [
           "Torroja del Priorat",
           337.0303
          ],
          [
           "Tortosa",
           15.76711
          ],
          [
           "Ulldecona",
           143.1908
          ],
          [
           "Ulldemolins",
           644.6638
          ],
          [
           "Vallclara",
           626.184
          ],
          [
           "Vallfogona de Riucorb",
           579.2309
          ],
          [
           "Vallmoll",
           165.112
          ],
          [
           "Valls",
           226.6943
          ],
          [
           "Vandellòs i l'Hospitalet de l'Infant",
           270.6138
          ],
          [
           "Vendrell, El",
           null
          ],
          [
           "Vespella de Gaià",
           176.4136
          ],
          [
           "Vilabella",
           256.6517
          ],
          [
           "Vilallonga del Camp",
           116.4445
          ],
          [
           "Vilanova d'Escornalbou",
           234.1977
          ],
          [
           "Vilanova de Prades",
           889.7278
          ],
          [
           "Vilaplana",
           367.4236
          ],
          [
           "Vila-rodona",
           257.237
          ],
          [
           "Vila-seca",
           46.76463
          ],
          [
           "Vilaverd",
           269.632
          ],
          [
           "Vilella Alta, La",
           null
          ],
          [
           "Vilella Baixa, La",
           null
          ],
          [
           "Vilalba dels Arcs",
           454.0479
          ],
          [
           "Vimbodí i Poblet",
           479.068
          ],
          [
           "Vinebre",
           44.57071
          ],
          [
           "Vinyols i els Arcs",
           94.72616
          ],
          [
           "Deltebre",
           3
          ],
          [
           "Sant Jaume d'Enveja",
           3
          ],
          [
           "Camarles",
           8.301858
          ],
          [
           "Aldea, L'",
           null
          ],
          [
           "Salou",
           5.432057
          ],
          [
           "Ampolla, L'",
           null
          ],
          [
           "Canonja, La",
           null
          ],
          [
           "Ababuj",
           1368.157
          ],
          [
           "Abejuela",
           1164.137
          ],
          [
           "Aguatón",
           1226.572
          ],
          [
           "Aguaviva",
           547.9809
          ],
          [
           "Aguilar del Alfambra",
           1299.894
          ],
          [
           "Alacón",
           685.4042
          ],
          [
           "Alba",
           978.1422
          ],
          [
           "Albalate del Arzobispo",
           347.3883
          ],
          [
           "Albarracín",
           1157.773
          ],
          [
           "Albentosa",
           951.7792
          ],
          [
           "Alcaine",
           652.5018
          ],
          [
           "Alcalá de la Selva",
           1403.888
          ],
          [
           "Alcañiz",
           341.0952
          ],
          [
           "Alcorisa",
           639.8223
          ],
          [
           "Alfambra",
           1045.46
          ],
          [
           "Aliaga",
           1111.888
          ],
          [
           "Almohaja",
           1198.996
          ],
          [
           "Alobras",
           1108.156
          ],
          [
           "Alpeñés",
           1228.397
          ],
          [
           "Allepuz",
           1449.011
          ],
          [
           "Alloza",
           664.2663
          ],
          [
           "Allueva",
           1199.221
          ],
          [
           "Anadón",
           1114.096
          ],
          [
           "Andorra",
           721.1627
          ],
          [
           "Arcos de las Salinas",
           1062.09
          ],
          [
           "Arens de Lledó",
           365.9177
          ],
          [
           "Argente",
           1250.66
          ],
          [
           "Ariño",
           524.2899
          ],
          [
           "Azaila",
           275.2942
          ],
          [
           "Bádenas",
           1000.731
          ],
          [
           "Báguena",
           806.7857
          ],
          [
           "Bañón",
           1136.515
          ],
          [
           "Barrachina",
           1043.846
          ],
          [
           "Bea",
           1130.035
          ],
          [
           "Beceite",
           556.1799
          ],
          [
           "Belmonte de San José",
           658.2455
          ],
          [
           "Bello",
           1007.419
          ],
          [
           "Berge",
           719.4134
          ],
          [
           "Bezas",
           1175.002
          ],
          [
           "Blancas",
           1049.592
          ],
          [
           "Blesa",
           770.5961
          ],
          [
           "Bordón",
           821.2313
          ],
          [
           "Bronchales",
           1574.81
          ],
          [
           "Bueña",
           1221.145
          ],
          [
           "Burbáguena",
           817.4083
          ],
          [
           "Cabra de Mora",
           1092.803
          ],
          [
           "Calaceite",
           515.0114
          ],
          [
           "Calamocha",
           885.8004
          ],
          [
           "Calanda",
           459.9382
          ],
          [
           "Calomarde",
           1319.318
          ],
          [
           "Camañas",
           1234.744
          ],
          [
           "Camarena de la Sierra",
           1299.181
          ],
          [
           "Camarillas",
           1322.207
          ],
          [
           "Caminreal",
           922.4971
          ],
          [
           "Cantavieja",
           1303.577
          ],
          [
           "Cañada de Benatanduz",
           1420.062
          ],
          [
           "Cañada de Verich, La",
           null
          ],
          [
           "Cañada Vellida",
           1314.846
          ],
          [
           "Cañizar del Olivar",
           961.6534
          ],
          [
           "Cascante del Río",
           986.0148
          ],
          [
           "Castejón de Tornos",
           1084.944
          ],
          [
           "Castel de Cabra",
           1089.548
          ],
          [
           "Castelnou",
           194.6102
          ],
          [
           "Castelserás",
           359.8336
          ],
          [
           "Castellar, El",
           null
          ],
          [
           "Castellote",
           791.4321
          ],
          [
           "Cedrillas",
           1353.48
          ],
          [
           "Celadas",
           1119.179
          ],
          [
           "Cella",
           1033.89
          ],
          [
           "Cerollera, La",
           null
          ],
          [
           "Codoñera, La",
           null
          ],
          [
           "Corbalán",
           1262.557
          ],
          [
           "Cortes de Aragón",
           930.5992
          ],
          [
           "Cosa",
           1192.21
          ],
          [
           "Cretas",
           569.0511
          ],
          [
           "Crivillén",
           795.6636
          ],
          [
           "Cuba, La",
           null
          ],
          [
           "Cubla",
           1095.818
          ],
          [
           "Cucalón",
           1034.456
          ],
          [
           "Cuervo, El",
           null
          ],
          [
           "Cuevas de Almudén",
           1274.424
          ],
          [
           "Cuevas Labradas",
           967.5995
          ],
          [
           "Ejulve",
           1111.811
          ],
          [
           "Escorihuela",
           1135.115
          ],
          [
           "Escucha",
           1070.983
          ],
          [
           "Estercuel",
           822.3273
          ],
          [
           "Ferreruela de Huerva",
           1016.397
          ],
          [
           "Fonfría",
           1248.398
          ],
          [
           "Fonfría",
           826.7355
          ],
          [
           "Formiche Alto",
           1119.593
          ],
          [
           "Fórnoles",
           713.966
          ],
          [
           "Fortanete",
           1366.681
          ],
          [
           "Foz-Calanda",
           503.1189
          ],
          [
           "Fresneda, La",
           null
          ],
          [
           "Frías de Albarracín",
           1459.496
          ],
          [
           "Fuenferrada",
           1109.536
          ],
          [
           "Fuentes Calientes",
           1218.51
          ],
          [
           "Fuentes Claras",
           911.9739
          ],
          [
           "Fuentes de Rubielos",
           960.2522
          ],
          [
           "Fuentespalda",
           717.0623
          ],
          [
           "Galve",
           1184.569
          ],
          [
           "Gargallo",
           944.585
          ],
          [
           "Gea de Albarracín",
           1039.181
          ],
          [
           "Ginebrosa, La",
           null
          ],
          [
           "Griegos",
           1601.854
          ],
          [
           "Guadalaviar",
           1526.078
          ],
          [
           "Gúdar",
           1583.481
          ],
          [
           "Híjar",
           286.6444
          ],
          [
           "Hinojosa de Jarque",
           1217.436
          ],
          [
           "Hoz de la Vieja, La",
           null
          ],
          [
           "Huesa del Común",
           874.5453
          ],
          [
           "Iglesuela del Cid, La",
           null
          ],
          [
           "Jabaloyas",
           1405.788
          ],
          [
           "Jarque de la Val",
           1263.365
          ],
          [
           "Jatiel",
           209.4427
          ],
          [
           "Jorcas",
           1337.114
          ],
          [
           "Josa",
           772.5401
          ],
          [
           "Lagueruela",
           1070.561
          ],
          [
           "Lanzuela",
           1013.573
          ],
          [
           "Libros",
           780.3804
          ],
          [
           "Lidón",
           1210.994
          ],
          [
           "Linares de Mora",
           1315.215
          ],
          [
           "Loscos",
           982.0676
          ],
          [
           "Lledó",
           462.8823
          ],
          [
           "Maicas",
           956.8483
          ],
          [
           "Manzanera",
           992.3011
          ],
          [
           "Martín del Río",
           916.4581
          ],
          [
           "Mas de las Matas",
           501.934
          ],
          [
           "Mata de los Olmos, La",
           null
          ],
          [
           "Mazaleón",
           351.4925
          ],
          [
           "Mezquita de Jarque",
           1257.285
          ],
          [
           "Mirambel",
           917.4668
          ],
          [
           "Miravete de la Sierra",
           1224.324
          ],
          [
           "Molinos",
           845.5135
          ],
          [
           "Monforte de Moyuela",
           1010.717
          ],
          [
           "Monreal del Campo",
           944.271
          ],
          [
           "Monroyo",
           863.434
          ],
          [
           "Montalbán",
           852.6946
          ],
          [
           "Monteagudo del Castillo",
           1463.322
          ],
          [
           "Monterde de Albarracín",
           1284.938
          ],
          [
           "Mora de Rubielos",
           1052.556
          ],
          [
           "Moscardón",
           1402.289
          ],
          [
           "Mosqueruela",
           1476.994
          ],
          [
           "Muniesa",
           785.425
          ],
          [
           "Noguera de Albarracín",
           1394.706
          ],
          [
           "Nogueras",
           855.6604
          ],
          [
           "Nogueruelas",
           1136.51
          ],
          [
           "Obón",
           690.8731
          ],
          [
           "Odón",
           1091.026
          ],
          [
           "Ojos Negros",
           1155.657
          ],
          [
           "Olba",
           657.7572
          ],
          [
           "Oliete",
           544.2368
          ],
          [
           "Olmos, Los",
           null
          ],
          [
           "Orihuela del Tremedal",
           1444.746
          ],
          [
           "Orrios",
           1054.297
          ],
          [
           "Palomar de Arroyos",
           1206.51
          ],
          [
           "Pancrudo",
           1238.756
          ],
          [
           "Parras de Castellote, Las",
           null
          ],
          [
           "Peñarroya de Tastavins",
           743.4257
          ],
          [
           "Peracense",
           1219.819
          ],
          [
           "Peralejos",
           1004.824
          ],
          [
           "Perales del Alfambra",
           1167.249
          ],
          [
           "Pitarque",
           994.9604
          ],
          [
           "Plou",
           905.438
          ],
          [
           "Pobo, El",
           null
          ],
          [
           "Portellada, La",
           null
          ],
          [
           "Pozondón",
           1410.839
          ],
          [
           "Pozuel del Campo",
           1115.931
          ],
          [
           "Puebla de Híjar, La",
           null
          ],
          [
           "Puebla de Valverde, La",
           null
          ],
          [
           "Puertomingalvo",
           1452.379
          ],
          [
           "Ráfales",
           630.261
          ],
          [
           "Rillo",
           1271.442
          ],
          [
           "Riodeva",
           973.0439
          ],
          [
           "Ródenas",
           1372.425
          ],
          [
           "Royuela",
           1214.825
          ],
          [
           "Rubiales",
           1156.471
          ],
          [
           "Rubielos de la Cérida",
           1230.612
          ],
          [
           "Rubielos de Mora",
           940.7538
          ],
          [
           "Salcedillo",
           1194.813
          ],
          [
           "Saldón",
           1406.871
          ],
          [
           "Samper de Calanda",
           253.1136
          ],
          [
           "San Agustín",
           968.0305
          ],
          [
           "San Martín del Río",
           784.4639
          ],
          [
           "Santa Cruz de Nogueras",
           888.4601
          ],
          [
           "Santa Eulalia",
           988.6647
          ],
          [
           "Sarrión",
           988.1364
          ],
          [
           "Segura de los Baños",
           1122.329
          ],
          [
           "Seno",
           799.8929
          ],
          [
           "Singra",
           1041.093
          ],
          [
           "Terriente",
           1435.32
          ],
          [
           "Teruel",
           927.4562
          ],
          [
           "Toril y Masegoso",
           1488.103
          ],
          [
           "Tormón",
           1062.348
          ],
          [
           "Tornos",
           1023.637
          ],
          [
           "Torralba de los Sisones",
           1046.971
          ],
          [
           "Torrecilla de Alcañiz",
           443.3759
          ],
          [
           "Torrecilla del Rebollar",
           1146.378
          ],
          [
           "Torre de Arcas",
           743.3999
          ],
          [
           "Torre de las Arcas",
           952.6594
          ],
          [
           "Torre del Compte",
           504.8756
          ],
          [
           "Torrelacárcel",
           980.6982
          ],
          [
           "Torre los Negros",
           1082.536
          ],
          [
           "Torremocha de Jiloca",
           983.9276
          ],
          [
           "Torres de Albarracín",
           1228.083
          ],
          [
           "Torrevelilla",
           610.9653
          ],
          [
           "Torrijas",
           1356.925
          ],
          [
           "Torrijo del Campo",
           923.381
          ],
          [
           "Tramacastiel",
           887.387
          ],
          [
           "Tramacastilla",
           1251.911
          ],
          [
           "Tronchón",
           1096.603
          ],
          [
           "Urrea de Gaén",
           313.7285
          ],
          [
           "Utrillas",
           945.4211
          ],
          [
           "Valacloche",
           1003.039
          ],
          [
           "Valbona",
           951.9821
          ],
          [
           "Valdealgorfa",
           513.6993
          ],
          [
           "Valdecuenca",
           1329.863
          ],
          [
           "Valdelinares",
           1699.088
          ],
          [
           "Valdeltormo",
           426.9926
          ],
          [
           "Valderrobres",
           506.0121
          ],
          [
           "Valjunquera",
           557.3394
          ],
          [
           "Vallecillo, El",
           null
          ],
          [
           "Veguillas de la Sierra",
           1267.169
          ],
          [
           "Villafranca del Campo",
           962.5623
          ],
          [
           "Villahermosa del Campo",
           957.9505
          ],
          [
           "Villanueva del Rebollar de la Sierra",
           1090.223
          ],
          [
           "Villar del Cobo",
           1437.745
          ],
          [
           "Villar del Salz",
           1215.276
          ],
          [
           "Villarluengo",
           1112.27
          ],
          [
           "Villarquemado",
           998.2739
          ],
          [
           "Villarroya de los Pinares",
           1326.217
          ],
          [
           "Villastar",
           860.7039
          ],
          [
           "Villel",
           839.2695
          ],
          [
           "Vinaceite",
           303.0283
          ],
          [
           "Visiedo",
           1187.011
          ],
          [
           "Vivel del Río Martín",
           974.8438
          ],
          [
           "Zoma, La",
           null
          ],
          [
           "Ajofrín",
           771.9454
          ],
          [
           "Alameda de la Sagra",
           595.9953
          ],
          [
           "Albarreal de Tajo",
           452.7595
          ],
          [
           "Alcabón",
           529.2844
          ],
          [
           "Alcañizo",
           373.982
          ],
          [
           "Alcaudete de la Jara",
           408.8566
          ],
          [
           "Alcolea de Tajo",
           353.2964
          ],
          [
           "Aldea en Cabo",
           478.3156
          ],
          [
           "Aldeanueva de Barbarroya",
           492.4827
          ],
          [
           "Aldeanueva de San Bartolomé",
           572.8758
          ],
          [
           "Almendral de la Cañada",
           625.25
          ],
          [
           "Almonacid de Toledo",
           715.1904
          ],
          [
           "Almorox",
           535.3524
          ],
          [
           "Añover de Tajo",
           591.5134
          ],
          [
           "Arcicóllar",
           543.9216
          ],
          [
           "Argés",
           653.7512
          ],
          [
           "Azután",
           337.5748
          ],
          [
           "Barcience",
           517.1357
          ],
          [
           "Bargas",
           599.7254
          ],
          [
           "Belvís de la Jara",
           451.4582
          ],
          [
           "Borox",
           582.6509
          ],
          [
           "Buenaventura",
           433.1037
          ],
          [
           "Burguillos de Toledo",
           679.2315
          ],
          [
           "Burujón",
           501.4543
          ],
          [
           "Cabañas de la Sagra",
           551
          ],
          [
           "Cabañas de Yepes",
           706.7368
          ],
          [
           "Cabezamesada",
           736.1016
          ],
          [
           "Calera y Chozas",
           394.1816
          ],
          [
           "Caleruela",
           374.1803
          ],
          [
           "Calzada de Oropesa",
           351.9175
          ],
          [
           "Camarena",
           575.9206
          ],
          [
           "Camarenilla",
           509.2571
          ],
          [
           "Campillo de la Jara, El",
           null
          ],
          [
           "Camuñas",
           672.9465
          ],
          [
           "Cardiel de los Montes",
           407.2493
          ],
          [
           "Carmena",
           562
          ],
          [
           "Carpio de Tajo, El",
           null
          ],
          [
           "Carranque",
           660.4978
          ],
          [
           "Carriches",
           553.2783
          ],
          [
           "Casar de Escalona, El",
           null
          ],
          [
           "Casarrubios del Monte",
           616.3093
          ],
          [
           "Casasbuenas",
           687.2794
          ],
          [
           "Castillo de Bayuela",
           549.2681
          ],
          [
           "Cazalegas",
           440.9979
          ],
          [
           "Cebolla",
           428.8371
          ],
          [
           "Cedillo del Condado",
           647.5012
          ],
          [
           "Cerralbos, Los",
           null
          ],
          [
           "Cervera de los Montes",
           536.5416
          ],
          [
           "Ciruelos",
           708.9604
          ],
          [
           "Cobeja",
           508.5462
          ],
          [
           "Cobisa",
           676.1328
          ],
          [
           "Consuegra",
           709.5399
          ],
          [
           "Corral de Almaguer",
           705.971
          ],
          [
           "Cuerva",
           773.9889
          ],
          [
           "Chozas de Canales",
           544.3453
          ],
          [
           "Chueca",
           742.0029
          ],
          [
           "Domingo Pérez",
           497.8713
          ],
          [
           "Dosbarrios",
           709.6131
          ],
          [
           "Erustes",
           536.0446
          ],
          [
           "Escalona",
           463.5558
          ],
          [
           "Escalonilla",
           547.6719
          ],
          [
           "Espinoso del Rey",
           724.8951
          ],
          [
           "Esquivias",
           611.5911
          ],
          [
           "Estrella, La",
           null
          ],
          [
           "Fuensalida",
           595.3815
          ],
          [
           "Gálvez",
           709.8111
          ],
          [
           "Garciotum",
           468.3595
          ],
          [
           "Gerindote",
           552.425
          ],
          [
           "Guadamur",
           636.7328
          ],
          [
           "Guardia, La",
           null
          ],
          [
           "Herencias, Las",
           null
          ],
          [
           "Herreruela de Oropesa",
           378.2414
          ],
          [
           "Hinojosa de San Vicente",
           659.1536
          ],
          [
           "Hontanar",
           840.3611
          ],
          [
           "Hormigos",
           464.7229
          ],
          [
           "Huecas",
           552.931
          ],
          [
           "Huerta de Valdecarábanos",
           627.6873
          ],
          [
           "Iglesuela del Tiétar, La",
           null
          ],
          [
           "Illán de Vacas",
           480.7694
          ],
          [
           "Illescas",
           592.8992
          ],
          [
           "Lagartera",
           396.1818
          ],
          [
           "Layos",
           651.8649
          ],
          [
           "Lillo",
           685.3505
          ],
          [
           "Lominchar",
           646.8894
          ],
          [
           "Lucillos",
           477.0321
          ],
          [
           "Madridejos",
           688.0627
          ],
          [
           "Magán",
           483.2254
          ],
          [
           "Malpica de Tajo",
           397.5589
          ],
          [
           "Manzaneque",
           718.4171
          ],
          [
           "Maqueda",
           489.5274
          ],
          [
           "Marjaliza",
           857.3539
          ],
          [
           "Marrupe",
           592.5861
          ],
          [
           "Mascaraque",
           714.0005
          ],
          [
           "Mata, La",
           null
          ],
          [
           "Mazarambroz",
           778.5905
          ],
          [
           "Mejorada",
           548.898
          ],
          [
           "Menasalbas",
           704.96
          ],
          [
           "Méntrida",
           533.4263
          ],
          [
           "Mesegar de Tajo",
           482.0789
          ],
          [
           "Miguel Esteban",
           682.11
          ],
          [
           "Mocejón",
           481.0487
          ],
          [
           "Mohedas de la Jara",
           643.3585
          ],
          [
           "Montearagón",
           432.5179
          ],
          [
           "Montesclaros",
           558.0593
          ],
          [
           "Mora",
           722.1462
          ],
          [
           "Nambroca",
           677.4409
          ],
          [
           "Nava de Ricomalillo, La",
           null
          ],
          [
           "Navahermosa",
           735.2842
          ],
          [
           "Navalcán",
           394.0665
          ],
          [
           "Navalmoralejo",
           427.2085
          ],
          [
           "Navalmorales, Los",
           null
          ],
          [
           "Navalucillos, Los",
           null
          ],
          [
           "Navamorcuende",
           771.2516
          ],
          [
           "Noblejas",
           743.8586
          ],
          [
           "Noez",
           757.0864
          ],
          [
           "Nombela",
           492.1309
          ],
          [
           "Novés",
           566.3942
          ],
          [
           "Numancia de la Sagra",
           526
          ],
          [
           "Nuño Gómez",
           473.3011
          ],
          [
           "Ocaña",
           735.3221
          ],
          [
           "Olías del Rey",
           592.4843
          ],
          [
           "Ontígola",
           609.2897
          ],
          [
           "Orgaz",
           748.8485
          ],
          [
           "Oropesa",
           421.104
          ],
          [
           "Otero",
           463.8867
          ],
          [
           "Palomeque",
           609.2781
          ],
          [
           "Pantoja",
           523.6249
          ],
          [
           "Paredes de Escalona",
           488.917
          ],
          [
           "Parrillas",
           397.2186
          ],
          [
           "Pelahustán",
           673.2676
          ],
          [
           "Pepino",
           444.1442
          ],
          [
           "Polán",
           652.066
          ],
          [
           "Portillo de Toledo",
           594.792
          ],
          [
           "Puebla de Almoradiel, La",
           null
          ],
          [
           "Puebla de Montalbán, La",
           null
          ],
          [
           "Pueblanueva, La",
           null
          ],
          [
           "Puente del Arzobispo, El",
           null
          ],
          [
           "Puerto de San Vicente",
           752.8705
          ],
          [
           "Pulgar",
           724.0479
          ],
          [
           "Quero",
           648.4975
          ],
          [
           "Quintanar de la Orden",
           696
          ],
          [
           "Quismondo",
           549.3548
          ],
          [
           "Real de San Vicente, El",
           null
          ],
          [
           "Recas",
           567.7425
          ],
          [
           "Retamoso de la Jara",
           608.0787
          ],
          [
           "Rielves",
           495.0737
          ],
          [
           "Robledo del Mazo",
           733.2631
          ],
          [
           "Romeral, El",
           null
          ],
          [
           "San Bartolomé de las Abiertas",
           555.0835
          ],
          [
           "San Martín de Montalbán",
           655.0389
          ],
          [
           "San Martín de Pusa",
           501.6586
          ],
          [
           "San Pablo de los Montes",
           910.0876
          ],
          [
           "San Román de los Montes",
           452.9428
          ],
          [
           "Santa Ana de Pusa",
           579.5608
          ],
          [
           "Santa Cruz de la Zarza",
           778.1476
          ],
          [
           "Santa Cruz del Retamar",
           596.1041
          ],
          [
           "Santa Olalla",
           487.3168
          ],
          [
           "Sartajada",
           460.2389
          ],
          [
           "Segurilla",
           566.5943
          ],
          [
           "Seseña",
           612.9283
          ],
          [
           "Sevilleja de la Jara",
           670.1891
          ],
          [
           "Sonseca",
           759.9934
          ],
          [
           "Sotillo de las Palomas",
           565.0426
          ],
          [
           "Talavera de la Reina",
           373.9266
          ],
          [
           "Tembleque",
           638.9656
          ],
          [
           "Toboso, El",
           null
          ],
          [
           "Toledo",
           524.0618
          ],
          [
           "Torralba de Oropesa",
           378.0818
          ],
          [
           "Torrecilla de la Jara",
           642.9003
          ],
          [
           "Torre de Esteban Hambrán, La",
           null
          ],
          [
           "Torrico",
           443.2747
          ],
          [
           "Torrijos",
           531.6115
          ],
          [
           "Totanés",
           730.3002
          ],
          [
           "Turleque",
           693.6431
          ],
          [
           "Ugena",
           656.1516
          ],
          [
           "Urda",
           767.5526
          ],
          [
           "Valdeverdeja",
           477.4793
          ],
          [
           "Valmojado",
           657.4002
          ],
          [
           "Velada",
           438.305
          ],
          [
           "Ventas con Peña Aguilera, Las",
           null
          ],
          [
           "Ventas de Retamosa, Las",
           null
          ],
          [
           "Ventas de San Julián, Las",
           null
          ],
          [
           "Villacañas",
           667.0467
          ],
          [
           "Villa de Don Fadrique, La",
           null
          ],
          [
           "Villafranca de los Caballeros",
           646.3422
          ],
          [
           "Villaluenga de la Sagra",
           528
          ],
          [
           "Villamiel de Toledo",
           486.4659
          ],
          [
           "Villaminaya",
           728.4374
          ],
          [
           "Villamuelas",
           591.9915
          ],
          [
           "Villanueva de Alcardete",
           728.4774
          ],
          [
           "Villanueva de Bogas",
           655.7781
          ],
          [
           "Villarejo de Montalbán",
           533.8467
          ],
          [
           "Villarrubia de Santiago",
           755.729
          ],
          [
           "Villaseca de la Sagra",
           485.9981
          ],
          [
           "Villasequilla",
           510.8198
          ],
          [
           "Villatobas",
           736.1024
          ],
          [
           "Viso de San Juan, El",
           null
          ],
          [
           "Yébenes, Los",
           null
          ],
          [
           "Yeles",
           551.9601
          ],
          [
           "Yepes",
           698.4963
          ],
          [
           "Yuncler",
           536.7993
          ],
          [
           "Yunclillos",
           515.6655
          ],
          [
           "Yuncos",
           546.3137
          ],
          [
           "Santo Domingo-Caudilla",
           547.0987
          ],
          [
           "Ademuz",
           753.2866
          ],
          [
           "Ador",
           99.2018
          ],
          [
           "Atzeneta d'Albaida",
           397.5668
          ],
          [
           "Agullent",
           426.091
          ],
          [
           "Alaquàs",
           46.73926
          ],
          [
           "Albaida",
           344.094
          ],
          [
           "Albal",
           13.72922
          ],
          [
           "Albalat de la Ribera",
           16.92992
          ],
          [
           "Albalat dels Sorells",
           20.43682
          ],
          [
           "Albalat dels Tarongers",
           102.3577
          ],
          [
           "Alberic",
           33.56151
          ],
          [
           "Alborache",
           314.9452
          ],
          [
           "Alboraia/Alboraya",
           null
          ],
          [
           "Albuixech",
           12
          ],
          [
           "Alcàsser",
           29.1877
          ],
          [
           "Alcàntera de Xúquer",
           45
          ],
          [
           "Alzira",
           27.81557
          ],
          [
           "Alcublas",
           779.1219
          ],
          [
           "Alcúdia, l'",
           null
          ],
          [
           "Alcúdia de Crespins, l'",
           null
          ],
          [
           "Aldaia",
           49.20547
          ],
          [
           "Alfafar",
           14.41185
          ],
          [
           "Alfauir",
           89.19871
          ],
          [
           "Alfara de la Baronia",
           null
          ],
          [
           "Alfara del Patriarca",
           34
          ],
          [
           "Alfarb",
           null
          ],
          [
           "Alfarrasí",
           201.9004
          ],
          [
           "Algar de Palància",
           null
          ],
          [
           "Algemesí",
           23.95206
          ],
          [
           "Algímia d'Alfara",
           null
          ],
          [
           "Alginet",
           33.26551
          ],
          [
           "Almàssera",
           13.57227
          ],
          [
           "Almiserà",
           147.6635
          ],
          [
           "Almoines",
           37.68532
          ],
          [
           "Almussafes",
           12.22051
          ],
          [
           "Alpuente",
           967.8577
          ],
          [
           "Alqueria de la Comtessa, l'",
           null
          ],
          [
           "Andilla",
           898.008
          ],
          [
           "Anna",
           206.8878
          ],
          [
           "Antella",
           45.31253
          ],
          [
           "Aras de los Olmos",
           941.6501
          ],
          [
           "Aielo de Malferit",
           282.5617
          ],
          [
           "Aielo de Rugat",
           267.1081
          ],
          [
           "Ayora",
           600.3483
          ],
          [
           "Barxeta",
           119.2042
          ],
          [
           "Barx",
           345.9779
          ],
          [
           "Bèlgida",
           276.6864
          ],
          [
           "Bellreguard",
           30.94795
          ],
          [
           "Bellús",
           135.4684
          ],
          [
           "Benagéber",
           783.6801
          ],
          [
           "Benaguasil",
           129.399
          ],
          [
           "Benavites",
           39.9698
          ],
          [
           "Beneixida",
           57.80067
          ],
          [
           "Benetússer",
           16.70827
          ],
          [
           "Beniarjó",
           48.86893
          ],
          [
           "Beniatjar",
           393.6027
          ],
          [
           "Benicolet",
           246.7301
          ],
          [
           "Benifairó de les Valls",
           57.70965
          ],
          [
           "Benifairó de la Valldigna",
           40.15332
          ],
          [
           "Benifaió",
           25.18363
          ],
          [
           "Beniflá",
           49
          ],
          [
           "Benigànim",
           null
          ],
          [
           "Benimodo",
           48.09188
          ],
          [
           "Benimuslem",
           25.46984
          ],
          [
           "Beniparrell",
           9.134038
          ],
          [
           "Benirredrà",
           32.96222
          ],
          [
           "Benissanó",
           null
          ],
          [
           "Benissoda",
           334.6183
          ],
          [
           "Benissuera",
           null
          ],
          [
           "Bétera",
           107.5116
          ],
          [
           "Bicorp",
           293.4095
          ],
          [
           "Bocairent",
           625.4228
          ],
          [
           "Bolbaite",
           243.4025
          ],
          [
           "Bonrepòs i Mirambell",
           16.36778
          ],
          [
           "Bufali",
           238.4063
          ],
          [
           "Bugarra",
           180.4909
          ],
          [
           "Buñol",
           357.3485
          ],
          [
           "Burjassot",
           43.95247
          ],
          [
           "Calles",
           356.5529
          ],
          [
           "Camporrobles",
           914.2482
          ],
          [
           "Canals",
           161.0747
          ],
          [
           "Canet d'En Berenguer",
           14.79732
          ],
          [
           "Carcaixent",
           30.51869
          ],
          [
           "Càrcer",
           43
          ],
          [
           "Carlet",
           55.64799
          ],
          [
           "Carrícola",
           336.8991
          ],
          [
           "Casas Altas",
           728.7411
          ],
          [
           "Casas Bajas",
           694.5356
          ],
          [
           "Casinos",
           321.9998
          ],
          [
           "Castelló de Rugat",
           321.0983
          ],
          [
           "Castellonet de la Conquesta",
           183.2389
          ],
          [
           "Castielfabib",
           922.0709
          ],
          [
           "Catadau",
           96.20319
          ],
          [
           "Catarroja",
           16.26744
          ],
          [
           "Caudete de las Fuentes",
           783.4852
          ],
          [
           "Cerdà",
           148.9015
          ],
          [
           "Cofrentes",
           382.015
          ],
          [
           "Corbera",
           17.43971
          ],
          [
           "Cortes de Pallás",
           426.9374
          ],
          [
           "Cotes",
           43.87196
          ],
          [
           "Quart de les Valls",
           55.67834
          ],
          [
           "Quart de Poblet",
           48
          ],
          [
           "Quartell",
           45.31203
          ],
          [
           "Quatretonda",
           225.2918
          ],
          [
           "Cullera",
           12.5917
          ],
          [
           "Chelva",
           475.5616
          ],
          [
           "Chella",
           227.4745
          ],
          [
           "Chera",
           642.4711
          ],
          [
           "Cheste",
           220.9698
          ],
          [
           "Xirivella",
           35.01973
          ],
          [
           "Chiva",
           279.1065
          ],
          [
           "Chulilla",
           319.9139
          ],
          [
           "Daimús",
           12.69039
          ],
          [
           "Domeño",
           209.0107
          ],
          [
           "Dos Aguas",
           362.2265
          ],
          [
           "Eliana, l'",
           null
          ],
          [
           "Emperador",
           19.49965
          ],
          [
           "Enguera",
           313.453
          ],
          [
           "Énova, l'",
           null
          ],
          [
           "Estivella",
           118.094
          ],
          [
           "Estubeny",
           167.0915
          ],
          [
           "Faura",
           41.90349
          ],
          [
           "Favara",
           10.1655
          ],
          [
           "Fontanars dels Alforins",
           628.7396
          ],
          [
           "Fortaleny",
           10.85651
          ],
          [
           "Foios",
           21.95792
          ],
          [
           "Font d'en Carròs, la",
           null
          ],
          [
           "Font de la Figuera, la",
           null
          ],
          [
           "Fuenterrobles",
           890.5018
          ],
          [
           "Gavarda",
           35.14901
          ],
          [
           "Gandia",
           36.61599
          ],
          [
           "Genovés, el",
           null
          ],
          [
           "Gestalgar",
           195.7673
          ],
          [
           "Gilet",
           146.7077
          ],
          [
           "Godella",
           49.22687
          ],
          [
           "Godelleta",
           265.5036
          ],
          [
           "Granja de la Costera, la",
           null
          ],
          [
           "Guadasséquies",
           null
          ],
          [
           "Guadassuar",
           33.0038
          ],
          [
           "Guardamar de la Safor",
           12
          ],
          [
           "Higueruelas",
           772.9467
          ],
          [
           "Jalance",
           447.1678
          ],
          [
           "Xeraco",
           13.36815
          ],
          [
           "Jarafuel",
           591.8452
          ],
          [
           "Xàtiva",
           118.2864
          ],
          [
           "Xeresa",
           34.05847
          ],
          [
           "Llíria",
           179.2893
          ],
          [
           "Loriguilla",
           112.4705
          ],
          [
           "Losa del Obispo",
           386.8517
          ],
          [
           "Llutxent",
           295.1466
          ],
          [
           "Llocnou d'En Fenollet",
           96.64848
          ],
          [
           "Llocnou de la Corona",
           6
          ],
          [
           "Llocnou de Sant Jeroni",
           153.7695
          ],
          [
           "Llanera de Ranes",
           145.5483
          ],
          [
           "Llaurí",
           17.93051
          ],
          [
           "Llombai",
           102.9383
          ],
          [
           "Llosa de Ranes, la",
           null
          ],
          [
           "Macastre",
           372.9472
          ],
          [
           "Manises",
           51.54403
          ],
          [
           "Manuel",
           52.98642
          ],
          [
           "Marines",
           216.1194
          ],
          [
           "Massalavés",
           null
          ],
          [
           "Massalfassar",
           15.84554
          ],
          [
           "Massamagrell",
           20.72736
          ],
          [
           "Massanassa",
           18.94774
          ],
          [
           "Meliana",
           17.93604
          ],
          [
           "Millares",
           363.7968
          ],
          [
           "Miramar",
           13.39062
          ],
          [
           "Mislata",
           33.95041
          ],
          [
           "Moixent/Mogente",
           null
          ],
          [
           "Moncada",
           34.29377
          ],
          [
           "Montserrat",
           167.5811
          ],
          [
           "Montaverner",
           188.4312
          ],
          [
           "Montesa",
           286.9374
          ],
          [
           "Montitxelvo/Montichelvo",
           267.0021
          ],
          [
           "Montroi/Montroy",
           null
          ],
          [
           "Museros",
           21.05551
          ],
          [
           "Nàquera/Náquera",
           null
          ],
          [
           "Navarrés",
           279.2114
          ],
          [
           "Novetlè",
           null
          ],
          [
           "Oliva",
           32.63683
          ],
          [
           "Olocau",
           276.5376
          ],
          [
           "Olleria, l'",
           null
          ],
          [
           "Ontinyent",
           357.7181
          ],
          [
           "Otos",
           326.1026
          ],
          [
           "Paiporta",
           25.99648
          ],
          [
           "Palma de Gandía",
           67.23204
          ],
          [
           "Palmera",
           25.12042
          ],
          [
           "Palomar, el",
           null
          ],
          [
           "Paterna",
           59.44596
          ],
          [
           "Pedralba",
           157.6005
          ],
          [
           "Petrés",
           79.98814
          ],
          [
           "Picanya",
           29.60459
          ],
          [
           "Picassent",
           55.50201
          ],
          [
           "Piles",
           13.96428
          ],
          [
           "Pinet",
           352.6049
          ],
          [
           "Polinyà de Xúquer",
           15.4143
          ],
          [
           "Potries",
           null
          ],
          [
           "Pobla de Farnals, la",
           null
          ],
          [
           "Pobla del Duc, la",
           null
          ],
          [
           "Puebla de San Miguel",
           1097.674
          ],
          [
           "Pobla de Vallbona, la",
           null
          ],
          [
           "Pobla Llarga, la",
           null
          ],
          [
           "Puig de Santa Maria, el",
           null
          ],
          [
           "Puçol",
           12.53519
          ],
          [
           "Quesa",
           223.3543
          ],
          [
           "Rafelbunyol",
           null
          ],
          [
           "Rafelcofer",
           36.06348
          ],
          [
           "Rafelguaraf",
           48.39763
          ],
          [
           "Ráfol de Salem",
           295.8902
          ],
          [
           "Real de Gandia, el",
           null
          ],
          [
           "Real",
           null
          ],
          [
           "Requena",
           701.6198
          ],
          [
           "Riba-roja de Túria",
           100.1154
          ],
          [
           "Riola",
           12.24097
          ],
          [
           "Rocafort",
           40.4511
          ],
          [
           "Rotglà i Corberà",
           125.9154
          ],
          [
           "Ròtova",
           null
          ],
          [
           "Rugat",
           294.8879
          ],
          [
           "Sagunt/Sagunto",
           null
          ],
          [
           "Salem",
           371.894
          ],
          [
           "Sant Joanet",
           null
          ],
          [
           "Sedaví",
           13.74977
          ],
          [
           "Segart",
           273.3418
          ],
          [
           "Sellent",
           82.35025
          ],
          [
           "Sempere",
           169.2104
          ],
          [
           "Senyera",
           42.80965
          ],
          [
           "Serra",
           354.7964
          ],
          [
           "Siete Aguas",
           706.5231
          ],
          [
           "Silla",
           13
          ],
          [
           "Simat de la Valldigna",
           59.11103
          ],
          [
           "Sinarcas",
           896.1122
          ],
          [
           "Sollana",
           6.460212
          ],
          [
           "Sot de Chera",
           345.3529
          ],
          [
           "Sueca",
           13.82494
          ],
          [
           "Sumacàrcer",
           59.70922
          ],
          [
           "Tavernes Blanques",
           17.46152
          ],
          [
           "Tavernes de la Valldigna",
           24.54434
          ],
          [
           "Teresa de Cofrentes",
           535.5968
          ],
          [
           "Terrateig",
           258.0876
          ],
          [
           "Titaguas",
           838.8098
          ],
          [
           "Torrebaja",
           744.5679
          ],
          [
           "Torrella",
           150.0653
          ],
          [
           "Torrent",
           39.58279
          ],
          [
           "Torrent",
           51.56449
          ],
          [
           "Torres Torres",
           187.0952
          ],
          [
           "Tous",
           100.126
          ],
          [
           "Tuéjar",
           608.8101
          ],
          [
           "Turís",
           278.5063
          ],
          [
           "Utiel",
           740.0797
          ],
          [
           "València",
           null
          ],
          [
           "Vallada",
           292.5007
          ],
          [
           "Vallanca",
           967.4936
          ],
          [
           "Vallés",
           118.1331
          ],
          [
           "Venta del Moro",
           720.7908
          ],
          [
           "Vilallonga/Villalonga",
           null
          ],
          [
           "Vilamarxant",
           106.5428
          ],
          [
           "Castelló",
           null
          ],
          [
           "Villar del Arzobispo",
           519.1837
          ],
          [
           "Villargordo del Cabriel",
           850.9744
          ],
          [
           "Vinalesa",
           27
          ],
          [
           "Yátova",
           441.8114
          ],
          [
           "Yesa, La",
           null
          ],
          [
           "Zarra",
           576.0366
          ],
          [
           "Gátova",
           595.0809
          ],
          [
           "San Antonio de Benagéber",
           117.6917
          ],
          [
           "Benicull de Xúquer",
           24.44505
          ],
          [
           "Adalia",
           774.0638
          ],
          [
           "Aguasal",
           754.7618
          ],
          [
           "Aguilar de Campos",
           775.4413
          ],
          [
           "Alaejos",
           754.8231
          ],
          [
           "Alcazarén",
           739.1025
          ],
          [
           "Aldea de San Miguel",
           742.0247
          ],
          [
           "Aldeamayor de San Martín",
           705.3611
          ],
          [
           "Almenara de Adaja",
           780.494
          ],
          [
           "Amusquillo",
           775.3448
          ],
          [
           "Arroyo de la Encomienda",
           693.9595
          ],
          [
           "Ataquines",
           795.7349
          ],
          [
           "Bahabón",
           884.0493
          ],
          [
           "Barcial de la Loma",
           739.793
          ],
          [
           "Barruelo del Valle",
           821.5405
          ],
          [
           "Becilla de Valderaduey",
           735.9683
          ],
          [
           "Benafarces",
           737.5884
          ],
          [
           "Bercero",
           740.9147
          ],
          [
           "Berceruelo",
           775.9297
          ],
          [
           "Berrueces",
           770.9304
          ],
          [
           "Bobadilla del Campo",
           756.3861
          ],
          [
           "Bocigas",
           774.3849
          ],
          [
           "Bocos de Duero",
           756.6528
          ],
          [
           "Boecillo",
           725.8821
          ],
          [
           "Bolaños de Campos",
           712
          ],
          [
           "Brahojos de Medina",
           753.1693
          ],
          [
           "Bustillo de Chaves",
           817.1871
          ],
          [
           "Cabezón de Pisuerga",
           705.7026
          ],
          [
           "Cabezón de Valderaduey",
           756.4937
          ],
          [
           "Cabreros del Monte",
           729.8631
          ],
          [
           "Campaspero",
           901.7211
          ],
          [
           "Campillo, El",
           null
          ],
          [
           "Camporredondo",
           803.1887
          ],
          [
           "Canalejas de Peñafiel",
           903.6031
          ],
          [
           "Canillas de Esgueva",
           810.6504
          ],
          [
           "Carpio",
           764.988
          ],
          [
           "Casasola de Arión",
           709.0289
          ],
          [
           "Castrejón de Trabancos",
           741.9911
          ],
          [
           "Castrillo de Duero",
           808.0878
          ],
          [
           "Castrillo-Tejeriego",
           790.9167
          ],
          [
           "Castrobol",
           773.2532
          ],
          [
           "Castrodeza",
           758.6043
          ],
          [
           "Castromembibre",
           783.701
          ],
          [
           "Castromonte",
           840.7011
          ],
          [
           "Castronuevo de Esgueva",
           756.0091
          ],
          [
           "Castronuño",
           679.5443
          ],
          [
           "Castroponce",
           739.4788
          ],
          [
           "Castroverde de Cerrato",
           781.6545
          ],
          [
           "Ceinos de Campos",
           764.9077
          ],
          [
           "Cervillego de la Cruz",
           756.5815
          ],
          [
           "Cigales",
           749.6985
          ],
          [
           "Ciguñuela",
           821.8818
          ],
          [
           "Cistérniga",
           737.3728
          ],
          [
           "Cogeces de Íscar",
           735.7125
          ],
          [
           "Cogeces del Monte",
           888.127
          ],
          [
           "Corcos",
           790.5931
          ],
          [
           "Corrales de Duero",
           815.4689
          ],
          [
           "Cubillas de Santa Marta",
           777.5655
          ],
          [
           "Cuenca de Campos",
           776.9031
          ],
          [
           "Curiel de Duero",
           791.8405
          ],
          [
           "Encinas de Esgueva",
           809.3292
          ],
          [
           "Esguevillas de Esgueva",
           781.1326
          ],
          [
           "Fombellida",
           796.8898
          ],
          [
           "Fompedraza",
           891.0166
          ],
          [
           "Fontihoyuelo",
           813.03
          ],
          [
           "Fresno el Viejo",
           761.5059
          ],
          [
           "Fuensaldaña",
           744.3545
          ],
          [
           "Fuente el Sol",
           759
          ],
          [
           "Fuente-Olmedo",
           795.1333
          ],
          [
           "Gallegos de Hornija",
           715.3704
          ],
          [
           "Gatón de Campos",
           760.637
          ],
          [
           "Geria",
           721.1685
          ],
          [
           "Herrín de Campos",
           776.4446
          ],
          [
           "Hornillos de Eresma",
           722.429
          ],
          [
           "Íscar",
           766.1356
          ],
          [
           "Laguna de Duero",
           704.4346
          ],
          [
           "Langayo",
           820.6713
          ],
          [
           "Lomoviejo",
           769.1982
          ],
          [
           "Llano de Olmedo",
           780.7407
          ],
          [
           "Manzanillo",
           793.6913
          ],
          [
           "Marzales",
           707.8522
          ],
          [
           "Matapozuelos",
           728.4459
          ],
          [
           "Matilla de los Caños",
           742.8641
          ],
          [
           "Mayorga",
           768.469
          ],
          [
           "Medina del Campo",
           723.588
          ],
          [
           "Medina de Rioseco",
           753.9636
          ],
          [
           "Megeces",
           743.8407
          ],
          [
           "Melgar de Abajo",
           806.2461
          ],
          [
           "Melgar de Arriba",
           793.4097
          ],
          [
           "Mojados",
           719.6595
          ],
          [
           "Monasterio de Vega",
           772.8459
          ],
          [
           "Montealegre de Campos",
           810.0027
          ],
          [
           "Montemayor de Pililla",
           868.4648
          ],
          [
           "Moral de la Reina",
           766.6082
          ],
          [
           "Moraleja de las Panaderas",
           731.7545
          ],
          [
           "Morales de Campos",
           748.6636
          ],
          [
           "Mota del Marqués",
           741.4532
          ],
          [
           "Mucientes",
           763.4631
          ],
          [
           "Mudarra, La",
           null
          ],
          [
           "Muriel",
           777.2006
          ],
          [
           "Nava del Rey",
           746.9993
          ],
          [
           "Nueva Villa de las Torres",
           744.9686
          ],
          [
           "Olivares de Duero",
           743.037
          ],
          [
           "Olmedo",
           772.1889
          ],
          [
           "Olmos de Esgueva",
           732.9462
          ],
          [
           "Olmos de Peñafiel",
           790.216
          ],
          [
           "Palazuelo de Vedija",
           787.4673
          ],
          [
           "Parrilla, La",
           null
          ],
          [
           "Pedraja de Portillo, La",
           null
          ],
          [
           "Pedrajas de San Esteban",
           754
          ],
          [
           "Pedrosa del Rey",
           720.1923
          ],
          [
           "Peñafiel",
           760.3983
          ],
          [
           "Peñaflor de Hornija",
           840.8401
          ],
          [
           "Pesquera de Duero",
           747.1731
          ],
          [
           "Piña de Esgueva",
           749.317
          ],
          [
           "Piñel de Abajo",
           786.3028
          ],
          [
           "Piñel de Arriba",
           830.6583
          ],
          [
           "Pollos",
           669.3666
          ],
          [
           "Portillo",
           847.6613
          ],
          [
           "Pozal de Gallinas",
           728.573
          ],
          [
           "Pozaldez",
           790.4047
          ],
          [
           "Pozuelo de la Orden",
           724.2658
          ],
          [
           "Puras",
           803.8533
          ],
          [
           "Quintanilla de Arriba",
           741.261
          ],
          [
           "Quintanilla del Molar",
           747.7817
          ],
          [
           "Quintanilla de Onésimo",
           728.6448
          ],
          [
           "Quintanilla de Trigueros",
           795.2899
          ],
          [
           "Rábano",
           780.519
          ],
          [
           "Ramiro",
           760.1485
          ],
          [
           "Renedo de Esgueva",
           714
          ],
          [
           "Roales de Campos",
           743.9281
          ],
          [
           "Robladillo",
           773.9286
          ],
          [
           "Roturas",
           824.9166
          ],
          [
           "Rubí de Bracamonte",
           754.1117
          ],
          [
           "Rueda",
           736.6745
          ],
          [
           "Saelices de Mayorga",
           769.856
          ],
          [
           "Salvador de Zapardiel",
           771.4283
          ],
          [
           "San Cebrián de Mazote",
           763.8837
          ],
          [
           "San Llorente",
           881.8113
          ],
          [
           "San Martín de Valvení",
           736.2048
          ],
          [
           "San Miguel del Arroyo",
           823.384
          ],
          [
           "San Miguel del Pino",
           677.4659
          ],
          [
           "San Pablo de la Moraleja",
           795.316
          ],
          [
           "San Pedro de Latarce",
           708.7725
          ],
          [
           "San Pelayo",
           772.2509
          ],
          [
           "San Román de Hornija",
           672.574
          ],
          [
           "San Salvador",
           722.0958
          ],
          [
           "Santa Eufemia del Arroyo",
           714.4111
          ],
          [
           "Santervás de Campos",
           767.0978
          ],
          [
           "Santibáñez de Valcorba",
           749.9538
          ],
          [
           "Santovenia de Pisuerga",
           695.9589
          ],
          [
           "San Vicente del Palacio",
           747
          ],
          [
           "Sardón de Duero",
           720.0624
          ],
          [
           "Seca, La",
           null
          ],
          [
           "Serrada",
           726.9307
          ],
          [
           "Siete Iglesias de Trabancos",
           726.464
          ],
          [
           "Simancas",
           715.7623
          ],
          [
           "Tamariz de Campos",
           750.1976
          ],
          [
           "Tiedra",
           821.9064
          ],
          [
           "Tordehumos",
           753.7995
          ],
          [
           "Tordesillas",
           700.5994
          ],
          [
           "Torrecilla de la Abadesa",
           685.116
          ],
          [
           "Torrecilla de la Orden",
           776.2607
          ],
          [
           "Torrecilla de la Torre",
           755.2628
          ],
          [
           "Torre de Esgueva",
           810.9865
          ],
          [
           "Torre de Peñafiel",
           792.0806
          ],
          [
           "Torrelobatón",
           750.7936
          ],
          [
           "Torrescárcela",
           891.451
          ],
          [
           "Traspinedo",
           736.7956
          ],
          [
           "Trigueros del Valle",
           762.3388
          ],
          [
           "Tudela de Duero",
           708.5769
          ],
          [
           "Unión de Campos, La",
           null
          ],
          [
           "Urones de Castroponce",
           751.2286
          ],
          [
           "Urueña",
           832.098
          ],
          [
           "Valbuena de Duero",
           734.545
          ],
          [
           "Valdearcos de la Vega",
           783.0189
          ],
          [
           "Valdenebro de los Valles",
           808.7703
          ],
          [
           "Valdestillas",
           703
          ],
          [
           "Valdunquillo",
           742.0706
          ],
          [
           "Valoria la Buena",
           730.0471
          ],
          [
           "Valverde de Campos",
           770.9928
          ],
          [
           "Valladolid",
           699.4927
          ],
          [
           "Vega de Ruiponce",
           751.2102
          ],
          [
           "Vega de Valdetronco",
           712.2534
          ],
          [
           "Velascálvaro",
           744.2465
          ],
          [
           "Velilla",
           784.9809
          ],
          [
           "Velliza",
           776.5533
          ],
          [
           "Ventosa de la Cuesta",
           764.8138
          ],
          [
           "Viana de Cega",
           691.8729
          ],
          [
           "Viloria",
           873.8669
          ],
          [
           "Villabáñez",
           740.6144
          ],
          [
           "Villabaruz de Campos",
           751.3663
          ],
          [
           "Villabrágima",
           727.4385
          ],
          [
           "Villacarralón",
           790.7327
          ],
          [
           "Villacid de Campos",
           779.7687
          ],
          [
           "Villaco",
           783.8756
          ],
          [
           "Villafrades de Campos",
           763.1504
          ],
          [
           "Villafranca de Duero",
           657
          ],
          [
           "Villafrechós",
           744.8799
          ],
          [
           "Villafuerte",
           819.951
          ],
          [
           "Villagarcía de Campos",
           719.0961
          ],
          [
           "Villagómez la Nueva",
           754.6724
          ],
          [
           "Villalán de Campos",
           755.7052
          ],
          [
           "Villalar de los Comuneros",
           710.9124
          ],
          [
           "Villalba de la Loma",
           769.6681
          ],
          [
           "Villalba de los Alcores",
           847.8523
          ],
          [
           "Villalbarba",
           719.6545
          ],
          [
           "Villalón de Campos",
           788.3907
          ],
          [
           "Villamuriel de Campos",
           738.6995
          ],
          [
           "Villán de Tordesillas",
           751.797
          ],
          [
           "Villanubla",
           842.8672
          ],
          [
           "Villanueva de Duero",
           691.0079
          ],
          [
           "Villanueva de la Condesa",
           786.3748
          ],
          [
           "Villanueva de los Caballeros",
           712.459
          ],
          [
           "Villanueva de los Infantes",
           884.9601
          ],
          [
           "Villanueva de los Infantes",
           743.701
          ],
          [
           "Villanueva de San Mancio",
           744.4049
          ],
          [
           "Villardefrades",
           726.2296
          ],
          [
           "Villarmentero de Esgueva",
           729.276
          ],
          [
           "Villasexmir",
           725.1
          ],
          [
           "Villavaquerín",
           765.7326
          ],
          [
           "Villavellid",
           770.2872
          ],
          [
           "Villaverde de Medina",
           733.2005
          ],
          [
           "Villavicencio de los Caballeros",
           722.9398
          ],
          [
           "Wamba",
           787.3964
          ],
          [
           "Zaratán",
           752.6955
          ],
          [
           "Zarza, La",
           null
          ],
          [
           "Abadiño",
           139.5298
          ],
          [
           "Abanto y Ciérvana-Abanto Zierbena",
           65.98425
          ],
          [
           "Amorebieta-Etxano",
           74.85185
          ],
          [
           "Amoroto",
           167.2689
          ],
          [
           "Arakaldo",
           191.3967
          ],
          [
           "Arantzazu",
           98.17124
          ],
          [
           "Munitibar-Arbatzegi Gerrikaitz",
           192.7225
          ],
          [
           "Artzentales",
           245.3207
          ],
          [
           "Arrankudiaga-Zollo",
           null
          ],
          [
           "Arrieta",
           175.4774
          ],
          [
           "Arrigorriaga",
           59.69678
          ],
          [
           "Bakio",
           2.838547
          ],
          [
           "Barakaldo",
           32.29025
          ],
          [
           "Barrika",
           71.81126
          ],
          [
           "Basauri",
           46.02919
          ],
          [
           "Berango",
           21.28287
          ],
          [
           "Bermeo",
           25.29399
          ],
          [
           "Berriatua",
           124.6662
          ],
          [
           "Berriz",
           249.695
          ],
          [
           "Bilbao",
           17.88842
          ],
          [
           "Busturia",
           18.90419
          ],
          [
           "Karrantza Harana/Valle de Carranza",
           173.5333
          ],
          [
           "Artea",
           128.3002
          ],
          [
           "Zeanuri",
           172.2116
          ],
          [
           "Zeberio",
           184.4285
          ],
          [
           "Dima",
           120.6062
          ],
          [
           "Durango",
           119.8463
          ],
          [
           "Ea",
           14.61585
          ],
          [
           "Etxebarri",
           35.72557
          ],
          [
           "Etxebarria",
           103.6294
          ],
          [
           "Elantxobe",
           73.22169
          ],
          [
           "Elorrio",
           187.1315
          ],
          [
           "Ereño",
           263.127
          ],
          [
           "Ermua",
           176.2473
          ],
          [
           "Fruiz",
           52.61327
          ],
          [
           "Galdakao",
           50.10822
          ],
          [
           "Galdames",
           440.9984
          ],
          [
           "Gamiz-Fika",
           93.4413
          ],
          [
           "Garai",
           266.8056
          ],
          [
           "Gatika",
           72.61108
          ],
          [
           "Gautegiz Arteaga",
           39.71872
          ],
          [
           "Gordexola",
           77.9446
          ],
          [
           "Gorliz",
           24.43753
          ],
          [
           "Getxo",
           47.59218
          ],
          [
           "Güeñes",
           75.42332
          ],
          [
           "Gernika-Lumo",
           11.34349
          ],
          [
           "Gizaburuaga",
           43.54258
          ],
          [
           "Ibarrangelu",
           84.87255
          ],
          [
           "Ispaster",
           117.9179
          ],
          [
           "Izurtza",
           156.2756
          ],
          [
           "Lanestosa",
           287.1597
          ],
          [
           "Larrabetzu",
           75.54598
          ],
          [
           "Laukiz",
           50.3518
          ],
          [
           "Leioa",
           15.54233
          ],
          [
           "Lemoa",
           64.37141
          ],
          [
           "Lemoiz",
           90.53293
          ],
          [
           "Lekeitio",
           22.27852
          ],
          [
           "Mallabia",
           261.5383
          ],
          [
           "Mañaria",
           198.9331
          ],
          [
           "Markina-Xemein",
           79.80217
          ],
          [
           "Maruri-Jatabe",
           16.75051
          ],
          [
           "Mendata",
           107.8886
          ],
          [
           "Mendexa",
           163.8673
          ],
          [
           "Meñaka",
           104.5382
          ],
          [
           "Ugao-Miraballes",
           75.86762
          ],
          [
           "Morga",
           201.8646
          ],
          [
           "Muxika",
           18.95764
          ],
          [
           "Mundaka",
           13.86142
          ],
          [
           "Mungia",
           30.57701
          ],
          [
           "Aulesti",
           93.12842
          ],
          [
           "Muskiz",
           39.0695
          ],
          [
           "Otxandio",
           559.9855
          ],
          [
           "Ondarroa",
           7.727888
          ],
          [
           "Urduña/Orduña",
           291.8751
          ],
          [
           "Orozko",
           157.4331
          ],
          [
           "Sukarrieta",
           29.37888
          ],
          [
           "Plentzia",
           2.770658
          ],
          [
           "Portugalete",
           43.67228
          ],
          [
           "Errigoiti",
           239.4783
          ],
          [
           "Valle de Trápaga-Trapagaran",
           24.57367
          ],
          [
           "Lezama",
           69.00446
          ],
          [
           "Santurtzi",
           10.96747
          ],
          [
           "Ortuella",
           90.76665
          ],
          [
           "Sestao",
           64.24418
          ],
          [
           "Sopela",
           null
          ],
          [
           "Sopuerta",
           77.18089
          ],
          [
           "Trucios-Turtzioz",
           420.5313
          ],
          [
           "Ubide",
           587.656
          ],
          [
           "Urduliz",
           63.88716
          ],
          [
           "Balmaseda",
           151.5686
          ],
          [
           "Atxondo",
           167.8765
          ],
          [
           "Bedia",
           68.43693
          ],
          [
           "Areatza",
           135.7863
          ],
          [
           "Igorre",
           86.60947
          ],
          [
           "Zaldibar",
           202.9217
          ],
          [
           "Zalla",
           96.03481
          ],
          [
           "Zaratamo",
           167.1853
          ],
          [
           "Derio",
           53.1399
          ],
          [
           "Erandio",
           7.186315
          ],
          [
           "Loiu",
           27.39079
          ],
          [
           "Sondika",
           29.5489
          ],
          [
           "Zamudio",
           44.55854
          ],
          [
           "Forua",
           28.36767
          ],
          [
           "Kortezubi",
           17.82089
          ],
          [
           "Murueta",
           50.08335
          ],
          [
           "Nabarniz",
           356.5077
          ],
          [
           "Iurreta",
           115.2097
          ],
          [
           "Ajangiz",
           13.37307
          ],
          [
           "Alonsotegi",
           23.9028
          ],
          [
           "Zierbena",
           95.27987
          ],
          [
           "Arratzu",
           63.8907
          ],
          [
           "Ziortza-Bolibar",
           179.7434
          ],
          [
           "Usansolo",
           null
          ],
          [
           "Abezames",
           734.649
          ],
          [
           "Alcañices",
           800.8787
          ],
          [
           "Alcubilla de Nogales",
           780.9072
          ],
          [
           "Alfaraz de Sayago",
           823.1807
          ],
          [
           "Algodre",
           660.188
          ],
          [
           "Almaraz de Duero",
           724.4616
          ],
          [
           "Almeida de Sayago",
           788.2532
          ],
          [
           "Andavías",
           700.6663
          ],
          [
           "Arcenillas",
           701.8715
          ],
          [
           "Arcos de la Polvorosa",
           701.8065
          ],
          [
           "Argañín",
           741.4979
          ],
          [
           "Argujillo",
           767.8745
          ],
          [
           "Arquillinos",
           670.2195
          ],
          [
           "Arrabalde",
           774.8352
          ],
          [
           "Aspariegos",
           670.0681
          ],
          [
           "Asturianos",
           968.9544
          ],
          [
           "Ayoó de Vidriales",
           796.757
          ],
          [
           "Barcial del Barco",
           716.0553
          ],
          [
           "Belver de los Montes",
           691.9913
          ],
          [
           "Benavente",
           723.4604
          ],
          [
           "Benegiles",
           647
          ],
          [
           "Bermillo de Sayago",
           794.7465
          ],
          [
           "Bóveda de Toro, La",
           null
          ],
          [
           "Bretó",
           695.636
          ],
          [
           "Bretocino",
           714.0786
          ],
          [
           "Brime de Sog",
           764.0367
          ],
          [
           "Brime de Urz",
           719.4198
          ],
          [
           "Burganes de Valverde",
           709.8783
          ],
          [
           "Bustillo del Oro",
           705.8235
          ],
          [
           "Cabañas de Sayago",
           766.5292
          ],
          [
           "Calzadilla de Tera",
           752.9898
          ],
          [
           "Camarzana de Tera",
           736.6218
          ],
          [
           "Cañizal",
           789.5921
          ],
          [
           "Cañizo",
           676.3501
          ],
          [
           "Carbajales de Alba",
           757.5706
          ],
          [
           "Carbellino",
           766.8657
          ],
          [
           "Casaseca de Campeán",
           762.1086
          ],
          [
           "Casaseca de las Chanas",
           711.7141
          ],
          [
           "Castrillo de la Guareña",
           735.9915
          ],
          [
           "Castrogonzalo",
           729.8262
          ],
          [
           "Castronuevo",
           690.7584
          ],
          [
           "Castroverde de Campos",
           709.8859
          ],
          [
           "Cazurra",
           727.3829
          ],
          [
           "Cerecinos de Campos",
           699.6163
          ],
          [
           "Cerecinos del Carrizal",
           684.9042
          ],
          [
           "Cernadilla",
           909.2853
          ],
          [
           "Cobreros",
           1001.473
          ],
          [
           "Coomonte",
           734.2988
          ],
          [
           "Coreses",
           648.8304
          ],
          [
           "Corrales del Vino",
           null
          ],
          [
           "Cotanes del Monte",
           716.3132
          ],
          [
           "Cubillos",
           670
          ],
          [
           "Cubo de Benavente",
           812.4978
          ],
          [
           "Cubo de Tierra del Vino, El",
           null
          ],
          [
           "Cuelgamures",
           806.4151
          ],
          [
           "Entrala",
           705.7349
          ],
          [
           "Espadañedo",
           1036.841
          ],
          [
           "Faramontanos de Tábara",
           724.9462
          ],
          [
           "Fariza",
           699.1072
          ],
          [
           "Fermoselle",
           678.808
          ],
          [
           "Ferreras de Abajo",
           822.2217
          ],
          [
           "Ferreras de Arriba",
           898.3244
          ],
          [
           "Ferreruela",
           830.2149
          ],
          [
           "Figueruela de Arriba",
           860.8643
          ],
          [
           "Fonfría",
           1248.398
          ],
          [
           "Fonfría",
           826.7355
          ],
          [
           "Fresno de la Polvorosa",
           723.4755
          ],
          [
           "Fresno de la Ribera",
           655.308
          ],
          [
           "Fresno de Sayago",
           800.6821
          ],
          [
           "Friera de Valverde",
           718.6683
          ],
          [
           "Fuente Encalada",
           755.1226
          ],
          [
           "Fuentelapeña",
           744.6506
          ],
          [
           "Fuentesaúco",
           805
          ],
          [
           "Fuentes de Ropel",
           721.5773
          ],
          [
           "Fuentesecas",
           771.0013
          ],
          [
           "Fuentespreadas",
           763.1371
          ],
          [
           "Galende",
           964.0846
          ],
          [
           "Gallegos del Pan",
           692.2368
          ],
          [
           "Gallegos del Río",
           717.4845
          ],
          [
           "Gamones",
           753.5652
          ],
          [
           "Gema",
           712.2343
          ],
          [
           "Granja de Moreruela",
           715.2015
          ],
          [
           "Granucillo",
           725.7559
          ],
          [
           "Guarrate",
           728.3583
          ],
          [
           "Hermisende",
           838.3806
          ],
          [
           "Hiniesta, La",
           null
          ],
          [
           "Jambrina",
           708.1685
          ],
          [
           "Justel",
           987.8643
          ],
          [
           "Losacino",
           696.3899
          ],
          [
           "Losacio",
           749.7023
          ],
          [
           "Lubián",
           1034.373
          ],
          [
           "Luelmo",
           774.9664
          ],
          [
           "Maderal, El",
           null
          ],
          [
           "Madridanos",
           650
          ],
          [
           "Mahide",
           824.5887
          ],
          [
           "Maire de Castroponce",
           738.4753
          ],
          [
           "Malva",
           716.3611
          ],
          [
           "Manganeses de la Lampreana",
           704.8086
          ],
          [
           "Manganeses de la Polvorosa",
           721.1735
          ],
          [
           "Manzanal de Arriba",
           891.8854
          ],
          [
           "Manzanal del Barco",
           710.2052
          ],
          [
           "Manzanal de los Infantes",
           922.5501
          ],
          [
           "Matilla de Arzón",
           741.0653
          ],
          [
           "Matilla la Seca",
           740.5352
          ],
          [
           "Mayalde",
           871.8036
          ],
          [
           "Melgar de Tera",
           747.1895
          ],
          [
           "Micereces de Tera",
           719.7667
          ],
          [
           "Milles de la Polvorosa",
           704.9008
          ],
          [
           "Molacillos",
           639.7747
          ],
          [
           "Molezuelas de la Carballeda",
           803.29
          ],
          [
           "Mombuey",
           892.9008
          ],
          [
           "Monfarracinos",
           643.5111
          ],
          [
           "Montamarta",
           693.1759
          ],
          [
           "Moral de Sayago",
           745.4995
          ],
          [
           "Moraleja del Vino",
           686
          ],
          [
           "Moraleja de Sayago",
           796.6891
          ],
          [
           "Morales del Vino",
           699.6177
          ],
          [
           "Morales de Rey",
           724.2993
          ],
          [
           "Morales de Toro",
           706.527
          ],
          [
           "Morales de Valverde",
           724.1026
          ],
          [
           "Moralina",
           764.3427
          ],
          [
           "Moreruela de los Infanzones",
           671.5699
          ],
          [
           "Moreruela de Tábara",
           698
          ],
          [
           "Muelas de los Caballeros",
           994.2617
          ],
          [
           "Muelas del Pan",
           765.3066
          ],
          [
           "Muga de Sayago",
           788.1932
          ],
          [
           "Navianos de Valverde",
           710.5422
          ],
          [
           "Olmillos de Castro",
           770.5227
          ],
          [
           "Otero de Bodas",
           827.4964
          ],
          [
           "Pajares de la Lampreana",
           692.6044
          ],
          [
           "Palacios del Pan",
           719.6092
          ],
          [
           "Palacios de Sanabria",
           964.4566
          ],
          [
           "Pedralba de la Pradería",
           992.087
          ],
          [
           "Pego, El",
           null
          ],
          [
           "Peleagonzalo",
           648.9901
          ],
          [
           "Peleas de Abajo",
           711.8881
          ],
          [
           "Peñausende",
           868.9768
          ],
          [
           "Peque",
           851.3065
          ],
          [
           "Perdigón, El",
           null
          ],
          [
           "Pereruela",
           768.8405
          ],
          [
           "Perilla de Castro",
           723.7376
          ],
          [
           "Pías",
           1049.735
          ],
          [
           "Piedrahita de Castro",
           700.9993
          ],
          [
           "Pinilla de Toro",
           764.5831
          ],
          [
           "Pino del Oro",
           738.6063
          ],
          [
           "Piñero, El",
           null
          ],
          [
           "Pobladura del Valle",
           738.1398
          ],
          [
           "Pobladura de Valderaduey",
           668.3034
          ],
          [
           "Porto",
           1207.48
          ],
          [
           "Pozoantiguo",
           713.8331
          ],
          [
           "Pozuelo de Tábara",
           702.0159
          ],
          [
           "Prado",
           712.8901
          ],
          [
           "Puebla de Sanabria",
           937.181
          ],
          [
           "Pueblica de Valverde",
           727.9575
          ],
          [
           "Quintanilla del Monte",
           694.7986
          ],
          [
           "Quintanilla del Olmo",
           695.5483
          ],
          [
           "Quintanilla de Urz",
           716.7808
          ],
          [
           "Quiruelas de Vidriales",
           714.9902
          ],
          [
           "Rabanales",
           840.1841
          ],
          [
           "Rábano de Aliste",
           804.8948
          ],
          [
           "Requejo",
           991.0104
          ],
          [
           "Revellinos",
           697
          ],
          [
           "Riofrío de Aliste",
           791.1357
          ],
          [
           "Rionegro del Puente",
           801.0129
          ],
          [
           "Roales",
           743.9281
          ],
          [
           "Robleda-Cervantes",
           1019.21
          ],
          [
           "Roelos de Sayago",
           774.9606
          ],
          [
           "Rosinos de la Requejada",
           1012.096
          ],
          [
           "Salce",
           747.0807
          ],
          [
           "Samir de los Caños",
           792.2667
          ],
          [
           "San Agustín del Pozo",
           695.4661
          ],
          [
           "San Cebrián de Castro",
           689.8808
          ],
          [
           "San Cristóbal de Entreviñas",
           716.2618
          ],
          [
           "San Esteban del Molar",
           732.3524
          ],
          [
           "San Justo",
           1075.053
          ],
          [
           "San Martín de Valderaduey",
           686.815
          ],
          [
           "San Miguel de la Ribera",
           753.823
          ],
          [
           "San Miguel del Valle",
           738.6041
          ],
          [
           "San Pedro de Ceque",
           761.2156
          ],
          [
           "San Pedro de la Nave-Almendra",
           712.9648
          ],
          [
           "Santa Clara de Avedillo",
           772.0454
          ],
          [
           "Santa Colomba de las Monjas",
           702.0335
          ],
          [
           "Santa Cristina de la Polvorosa",
           709.6334
          ],
          [
           "Santa Croya de Tera",
           725
          ],
          [
           "Santa Eufemia del Barco",
           712.1947
          ],
          [
           "Santa María de la Vega",
           730.9682
          ],
          [
           "Santa María de Valverde",
           733.6366
          ],
          [
           "Santibáñez de Tera",
           729.7665
          ],
          [
           "Santibáñez de Vidriales",
           743.3671
          ],
          [
           "Santovenia",
           714.5436
          ],
          [
           "San Vicente de la Cabeza",
           756.4977
          ],
          [
           "San Vitero",
           865.2906
          ],
          [
           "Sanzoles",
           719.1744
          ],
          [
           "Tábara",
           751.6248
          ],
          [
           "Tapioles",
           688.6124
          ],
          [
           "Toro",
           730.0003
          ],
          [
           "Torre del Valle, La",
           null
          ],
          [
           "Torregamones",
           784.8227
          ],
          [
           "Torres del Carrizal",
           648
          ],
          [
           "Trabazos",
           728.6976
          ],
          [
           "Trefacio",
           976.9877
          ],
          [
           "Uña de Quintana",
           782.5795
          ],
          [
           "Vadillo de la Guareña",
           717.0134
          ],
          [
           "Valcabado",
           682.3292
          ],
          [
           "Valdefinjas",
           722.6641
          ],
          [
           "Valdescorriel",
           734.973
          ],
          [
           "Vallesa de la Guareña",
           765.7673
          ],
          [
           "Vega de Tera",
           763.4651
          ],
          [
           "Vega de Villalobos",
           732.9785
          ],
          [
           "Vegalatrave",
           692.9553
          ],
          [
           "Venialbo",
           714.8421
          ],
          [
           "Vezdemarbán",
           767.9186
          ],
          [
           "Vidayanes",
           704.1667
          ],
          [
           "Videmala",
           776.7166
          ],
          [
           "Villabrázaro",
           726.3007
          ],
          [
           "Villabuena del Puente",
           702.1939
          ],
          [
           "Villadepera",
           726.3047
          ],
          [
           "Villaescusa",
           22.27066
          ],
          [
           "Villaescusa",
           824.9127
          ],
          [
           "Villafáfila",
           688.5735
          ],
          [
           "Villaferrueña",
           744.5328
          ],
          [
           "Villageriz",
           775.0306
          ],
          [
           "Villalazán",
           660.7059
          ],
          [
           "Villalba de la Lampreana",
           683.9111
          ],
          [
           "Villalcampo",
           784.3217
          ],
          [
           "Villalobos",
           725.785
          ],
          [
           "Villalonso",
           722.1978
          ],
          [
           "Villalpando",
           693.7587
          ],
          [
           "Villalube",
           733.0415
          ],
          [
           "Villamayor de Campos",
           695.6239
          ],
          [
           "Villamor de los Escuderos",
           836.3304
          ],
          [
           "Villanázar",
           709.184
          ],
          [
           "Villanueva de Azoague",
           703.6188
          ],
          [
           "Villanueva de Campeán",
           760.7177
          ],
          [
           "Villanueva de las Peras",
           746.8168
          ],
          [
           "Villanueva del Campo",
           757.225
          ],
          [
           "Villaralbo",
           636.7354
          ],
          [
           "Villardeciervos",
           855.7898
          ],
          [
           "Villar de Fallaves",
           696.1533
          ],
          [
           "Villar del Buey",
           776.983
          ],
          [
           "Villardiegua de la Ribera",
           764.6822
          ],
          [
           "Villárdiga",
           684.5942
          ],
          [
           "Villardondiego",
           736.6719
          ],
          [
           "Villarrín de Campos",
           685.7974
          ],
          [
           "Villaseco del Pan",
           753.9724
          ],
          [
           "Villavendimio",
           726.9139
          ],
          [
           "Villaveza del Agua",
           702.1813
          ],
          [
           "Villaveza de Valverde",
           711.7657
          ],
          [
           "Viñas",
           752.655
          ],
          [
           "Zamora",
           657.1658
          ],
          [
           "Abanto",
           922.4666
          ],
          [
           "Acered",
           835.0305
          ],
          [
           "Agón",
           321.5412
          ],
          [
           "Aguarón",
           667.286
          ],
          [
           "Aguilón",
           689.9364
          ],
          [
           "Ainzón",
           434.0218
          ],
          [
           "Aladrén",
           780.4907
          ],
          [
           "Alagón",
           238.9708
          ],
          [
           "Alarba",
           848.114
          ],
          [
           "Alberite de San Juan",
           377.7354
          ],
          [
           "Albeta",
           421.3977
          ],
          [
           "Alborge",
           158.166
          ],
          [
           "Alcalá de Ebro",
           222.1754
          ],
          [
           "Alcalá de Moncayo",
           754.1453
          ],
          [
           "Alconchel de Ariza",
           889.6893
          ],
          [
           "Aldehuela de Liestos",
           993.9887
          ],
          [
           "Alfajarín",
           196.5611
          ],
          [
           "Alfamén",
           447.2267
          ],
          [
           "Alforque",
           164.0169
          ],
          [
           "Alhama de Aragón",
           663.7305
          ],
          [
           "Almochuel",
           275.4481
          ],
          [
           "Almolda, La",
           null
          ],
          [
           "Almonacid de la Cuba",
           483.7066
          ],
          [
           "Almonacid de la Sierra",
           605.9109
          ],
          [
           "Almunia de Doña Godina, La",
           null
          ],
          [
           "Alpartir",
           507.0749
          ],
          [
           "Ambel",
           587.8949
          ],
          [
           "Anento",
           927.0677
          ],
          [
           "Aniñón",
           713.344
          ],
          [
           "Añón de Moncayo",
           830.1616
          ],
          [
           "Aranda de Moncayo",
           905.0275
          ],
          [
           "Arándiga",
           464.0809
          ],
          [
           "Ardisa",
           422.0101
          ],
          [
           "Ariza",
           713.859
          ],
          [
           "Artieda",
           630.9939
          ],
          [
           "Asín",
           583.3365
          ],
          [
           "Atea",
           846.9442
          ],
          [
           "Ateca",
           599.9296
          ],
          [
           "Azuara",
           580.366
          ],
          [
           "Badules",
           918.8503
          ],
          [
           "Bagüés",
           808.4211
          ],
          [
           "Balconchán",
           890.5054
          ],
          [
           "Bárboles",
           260.1506
          ],
          [
           "Bardallur",
           284.6658
          ],
          [
           "Belchite",
           443.8954
          ],
          [
           "Belmonte de Gracián",
           705.7676
          ],
          [
           "Berdejo",
           969.7459
          ],
          [
           "Berrueco",
           1093.496
          ],
          [
           "Bijuesca",
           927.1331
          ],
          [
           "Biota",
           490.6575
          ],
          [
           "Bisimbre",
           321.3621
          ],
          [
           "Boquiñeni",
           227.7671
          ],
          [
           "Bordalba",
           933.4196
          ],
          [
           "Borja",
           452.7229
          ],
          [
           "Botorrita",
           376.1743
          ],
          [
           "Brea de Aragón",
           575.503
          ],
          [
           "Bubierca",
           654.7245
          ],
          [
           "Bujaraloz",
           329.2621
          ],
          [
           "Bulbuente",
           519.8422
          ],
          [
           "Bureta",
           409.647
          ],
          [
           "Burgo de Ebro, El",
           null
          ],
          [
           "Buste, El",
           null
          ],
          [
           "Cabañas de Ebro",
           218.6309
          ],
          [
           "Cabolafuente",
           945.4361
          ],
          [
           "Cadrete",
           305.3771
          ],
          [
           "Calatayud",
           541.744
          ],
          [
           "Calatorao",
           344.1744
          ],
          [
           "Calcena",
           856.4086
          ],
          [
           "Calmarza",
           841.7386
          ],
          [
           "Campillo de Aragón",
           1050.241
          ],
          [
           "Carenas",
           662.4408
          ],
          [
           "Cariñena",
           600.7257
          ],
          [
           "Caspe",
           162.4285
          ],
          [
           "Castejón de Alarba",
           927.9485
          ],
          [
           "Castejón de las Armas",
           604.1856
          ],
          [
           "Castejón de Valdejasa",
           525.1101
          ],
          [
           "Castiliscar",
           483.1245
          ],
          [
           "Cervera de la Cañada",
           677.2734
          ],
          [
           "Cerveruela",
           807.4222
          ],
          [
           "Cetina",
           693.1022
          ],
          [
           "Cimballa",
           913.0313
          ],
          [
           "Cinco Olivas",
           154.3324
          ],
          [
           "Clarés de Ribota",
           948.5849
          ],
          [
           "Codo",
           342.8191
          ],
          [
           "Codos",
           748.881
          ],
          [
           "Contamina",
           668.5798
          ],
          [
           "Cosuenda",
           632.6768
          ],
          [
           "Cuarte de Huerva",
           268.2757
          ],
          [
           "Cubel",
           1107.119
          ],
          [
           "Cuerlas, Las",
           null
          ],
          [
           "Chiprana",
           152.1577
          ],
          [
           "Chodes",
           413.5298
          ],
          [
           "Daroca",
           783.9178
          ],
          [
           "Ejea de los Caballeros",
           343.5083
          ],
          [
           "Embid de Ariza",
           780.9568
          ],
          [
           "Encinacorba",
           756.7845
          ],
          [
           "Épila",
           313.3686
          ],
          [
           "Erla",
           430.376
          ],
          [
           "Escatrón",
           144.0067
          ],
          [
           "Fabara",
           237.3806
          ],
          [
           "Farlete",
           410.4063
          ],
          [
           "Fayón",
           196.4334
          ],
          [
           "Fayos, Los",
           null
          ],
          [
           "Figueruelas",
           255.9903
          ],
          [
           "Fombuena",
           1015.665
          ],
          [
           "Frago, El",
           null
          ],
          [
           "Frasno, El",
           null
          ],
          [
           "Fréscano",
           302.2807
          ],
          [
           "Fuendejalón",
           470.615
          ],
          [
           "Fuendetodos",
           751.9825
          ],
          [
           "Fuentes de Ebro",
           192.7446
          ],
          [
           "Fuentes de Jiloca",
           687.3452
          ],
          [
           "Gallocanta",
           1020.754
          ],
          [
           "Gallur",
           243.1283
          ],
          [
           "Gelsa",
           153.7756
          ],
          [
           "Godojos",
           764.7232
          ],
          [
           "Gotor",
           607.3821
          ],
          [
           "Grisel",
           623.9782
          ],
          [
           "Grisén",
           246.7064
          ],
          [
           "Herrera de los Navarros",
           815.6729
          ],
          [
           "Ibdes",
           741.9872
          ],
          [
           "Illueca",
           589.6152
          ],
          [
           "Isuerre",
           640.5793
          ],
          [
           "Jaraba",
           763.7606
          ],
          [
           "Jarque de Moncayo",
           null
          ],
          [
           "Jaulín",
           516.2281
          ],
          [
           "Joyosa, La",
           null
          ],
          [
           "Lagata",
           526.7678
          ],
          [
           "Langa del Castillo",
           882.7292
          ],
          [
           "Layana",
           484.5312
          ],
          [
           "Lécera",
           531.8742
          ],
          [
           "Leciñena",
           418.5828
          ],
          [
           "Lechón",
           985.0991
          ],
          [
           "Letux",
           517.6309
          ],
          [
           "Litago",
           780.5075
          ],
          [
           "Lituénigo",
           763.7889
          ],
          [
           "Lobera de Onsella",
           658.759
          ],
          [
           "Longares",
           535.3199
          ],
          [
           "Longás",
           739.2802
          ],
          [
           "Lucena de Jalón",
           347.0133
          ],
          [
           "Luceni",
           234.3191
          ],
          [
           "Luesia",
           804.2617
          ],
          [
           "Luesma",
           943.9291
          ],
          [
           "Lumpiaque",
           314.7662
          ],
          [
           "Luna",
           467.4077
          ],
          [
           "Maella",
           285.3151
          ],
          [
           "Magallón",
           395.1459
          ],
          [
           "Mainar",
           868.0479
          ],
          [
           "Malanquilla",
           1046.061
          ],
          [
           "Maleján",
           466.0901
          ],
          [
           "Malón",
           427.1692
          ],
          [
           "Maluenda",
           595.9858
          ],
          [
           "Mallén",
           287.8513
          ],
          [
           "Manchones",
           740.1449
          ],
          [
           "Mara",
           691.8807
          ],
          [
           "María de Huerva",
           332.9163
          ],
          [
           "Mediana de Aragón",
           289.3042
          ],
          [
           "Mequinenza",
           92.34655
          ],
          [
           "Mesones de Isuela",
           538.4012
          ],
          [
           "Mezalocha",
           491.086
          ],
          [
           "Mianos",
           651.1317
          ],
          [
           "Miedes de Aragón",
           771.8868
          ],
          [
           "Monegrillo",
           441.6924
          ],
          [
           "Moneva",
           652.3671
          ],
          [
           "Monreal de Ariza",
           751.1902
          ],
          [
           "Monterde",
           804.4403
          ],
          [
           "Montón",
           693.9522
          ],
          [
           "Morata de Jalón",
           421.1948
          ],
          [
           "Morata de Jiloca",
           625.0764
          ],
          [
           "Morés",
           457.6555
          ],
          [
           "Moros",
           704.5184
          ],
          [
           "Moyuela",
           745.7245
          ],
          [
           "Mozota",
           397.1876
          ],
          [
           "Muel",
           434.2508
          ],
          [
           "Muela, La",
           null
          ],
          [
           "Munébrega",
           747.0544
          ],
          [
           "Murero",
           713.1721
          ],
          [
           "Murillo de Gállego",
           530.8543
          ],
          [
           "Navardún",
           493.5045
          ],
          [
           "Nigüella",
           497.1727
          ],
          [
           "Nombrevilla",
           908.814
          ],
          [
           "Nonaspe",
           176.9074
          ],
          [
           "Novallas",
           431.939
          ],
          [
           "Novillas",
           240.4928
          ],
          [
           "Nuévalos",
           717.2357
          ],
          [
           "Nuez de Ebro",
           181.9229
          ],
          [
           "Olvés",
           783.3309
          ],
          [
           "Orcajo",
           926.5969
          ],
          [
           "Orera",
           738.5802
          ],
          [
           "Orés",
           645.9177
          ],
          [
           "Oseja",
           825.8478
          ],
          [
           "Osera de Ebro",
           174.2535
          ],
          [
           "Paniza",
           707.4536
          ],
          [
           "Paracuellos de Jiloca",
           570.9234
          ],
          [
           "Paracuellos de la Ribera",
           459.8566
          ],
          [
           "Pastriz",
           186.568
          ],
          [
           "Pedrola",
           234.6053
          ],
          [
           "Pedrosas, Las",
           null
          ],
          [
           "Perdiguera",
           467.8797
          ],
          [
           "Piedratajada",
           420.7992
          ],
          [
           "Pina de Ebro",
           160.1591
          ],
          [
           "Pinseque",
           229.0275
          ],
          [
           "Pintanos, Los",
           null
          ],
          [
           "Plasencia de Jalón",
           276.0325
          ],
          [
           "Pleitas",
           259.7592
          ],
          [
           "Plenas",
           813.9236
          ],
          [
           "Pomer",
           1119.364
          ],
          [
           "Pozuel de Ariza",
           775.4199
          ],
          [
           "Pozuelo de Aragón",
           412.067
          ],
          [
           "Pradilla de Ebro",
           228.6879
          ],
          [
           "Puebla de Albortón",
           476.9889
          ],
          [
           "Puebla de Alfindén, La",
           null
          ],
          [
           "Puendeluna",
           392.1512
          ],
          [
           "Purujosa",
           951.7919
          ],
          [
           "Quinto",
           174.2326
          ],
          [
           "Remolinos",
           230.4963
          ],
          [
           "Retascón",
           888.5198
          ],
          [
           "Ricla",
           369.2624
          ],
          [
           "Romanos",
           948.4423
          ],
          [
           "Rueda de Jalón",
           316.6192
          ],
          [
           "Ruesca",
           760.8224
          ],
          [
           "Sádaba",
           445.3837
          ],
          [
           "Salillas de Jalón",
           334.7121
          ],
          [
           "Salvatierra de Esca",
           585.1468
          ],
          [
           "Samper del Salz",
           535.9286
          ],
          [
           "San Martín de la Virgen de Moncayo",
           819.6014
          ],
          [
           "San Mateo de Gállego",
           281.4621
          ],
          [
           "Santa Cruz de Grío",
           636.499
          ],
          [
           "Santa Cruz de Moncayo",
           627.8763
          ],
          [
           "Santa Eulalia de Gállego",
           501.9988
          ],
          [
           "Santed",
           1060.648
          ],
          [
           "Sástago",
           149.263
          ],
          [
           "Sabiñán",
           451.3482
          ],
          [
           "Sediles",
           735.8391
          ],
          [
           "Sestrica",
           566.4533
          ],
          [
           "Sierra de Luna",
           458.6502
          ],
          [
           "Sigüés",
           519.9214
          ],
          [
           "Sisamón",
           1027.812
          ],
          [
           "Sobradiel",
           207.2028
          ],
          [
           "Sos del Rey Católico",
           631.5082
          ],
          [
           "Tabuenca",
           773.7258
          ],
          [
           "Talamantes",
           873.8474
          ],
          [
           "Tarazona",
           487.6725
          ],
          [
           "Tauste",
           274.6931
          ],
          [
           "Terrer",
           561.5784
          ],
          [
           "Tierga",
           631.0844
          ],
          [
           "Tobed",
           659.6277
          ],
          [
           "Torralba de los Frailes",
           1095.4
          ],
          [
           "Torralba de Ribota",
           647.3879
          ],
          [
           "Torralbilla",
           883.6472
          ],
          [
           "Torrehermosa",
           844.7177
          ],
          [
           "Torrelapaja",
           991.0995
          ],
          [
           "Torrellas",
           570.2052
          ],
          [
           "Torres de Berrellén",
           215.0211
          ],
          [
           "Torrijo de la Cañada",
           794.6323
          ],
          [
           "Tosos",
           584.2983
          ],
          [
           "Trasmoz",
           726.384
          ],
          [
           "Trasobares",
           671.2911
          ],
          [
           "Uncastillo",
           621.2198
          ],
          [
           "Undués de Lerda",
           622.4462
          ],
          [
           "Urrea de Jalón",
           287.5544
          ],
          [
           "Urriés",
           552.7125
          ],
          [
           "Used",
           1044.506
          ],
          [
           "Utebo",
           208.7015
          ],
          [
           "Valdehorna",
           879.848
          ],
          [
           "Val de San Martín",
           981.3766
          ],
          [
           "Valmadrid",
           523.022
          ],
          [
           "Valpalmas",
           492.2236
          ],
          [
           "Valtorres",
           676.4613
          ],
          [
           "Velilla de Ebro",
           153.2637
          ],
          [
           "Velilla de Jiloca",
           604.6818
          ],
          [
           "Vera de Moncayo",
           631.6308
          ],
          [
           "Vierlas",
           449.5351
          ],
          [
           "Vilueña, La",
           null
          ],
          [
           "Villadoz",
           890.6553
          ],
          [
           "Villafeliche",
           684.1865
          ],
          [
           "Villafranca de Ebro",
           176.0309
          ],
          [
           "Villalba de Perejil",
           624.0992
          ],
          [
           "Villalengua",
           762.2932
          ],
          [
           "Villanueva de Gállego",
           251.0012
          ],
          [
           "Villanueva de Jiloca",
           775.7328
          ],
          [
           "Villanueva de Huerva",
           545.6921
          ],
          [
           "Villar de los Navarros",
           800.2396
          ],
          [
           "Villarreal de Huerva",
           867.4806
          ],
          [
           "Villarroya de la Sierra",
           738.6608
          ],
          [
           "Villarroya del Campo",
           924.395
          ],
          [
           "Vistabella",
           755.5722
          ],
          [
           "Zaida, La",
           null
          ],
          [
           "Zaragoza",
           204.0027
          ],
          [
           "Zuera",
           285
          ],
          [
           "Biel",
           754.2445
          ],
          [
           "Marracos",
           404.7361
          ],
          [
           "Villamayor de Gállego",
           231.1234
          ],
          [
           "Ceuta",
           13.47725
          ],
          [
           "Melilla",
           10.3337
          ]
         ],
         "hovertemplate": "population=%{marker.color}<br>lat=%{lat}<br>lon=%{lon}<br>municipality_name=%{customdata[0]}<br>altitude=%{customdata[1]}<extra></extra>",
         "lat": {
          "bdata": "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",
          "dtype": "f8"
         },
         "legendgroup": "",
         "lon": {
          "bdata": "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",
          "dtype": "f8"
         },
         "marker": {
          "color": {
           "bdata": "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",
           "dtype": "i4"
          },
          "coloraxis": "coloraxis",
          "size": {
           "bdata": "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",
           "dtype": "i4"
          },
          "sizemode": "area",
          "sizeref": 1000
         },
         "mode": "markers",
         "name": "",
         "showlegend": false,
         "subplot": "map",
         "type": "scattermap"
        }
       ],
       "layout": {
        "coloraxis": {
         "colorbar": {
          "title": {
           "text": "Population"
          }
         },
         "colorscale": [
          [
           0,
           "rgb(36, 86, 104)"
          ],
          [
           0.16666666666666666,
           "rgb(15, 114, 121)"
          ],
          [
           0.3333333333333333,
           "rgb(13, 143, 129)"
          ],
          [
           0.5,
           "rgb(57, 171, 126)"
          ],
          [
           0.6666666666666666,
           "rgb(110, 197, 116)"
          ],
          [
           0.8333333333333334,
           "rgb(169, 220, 103)"
          ],
          [
           1,
           "rgb(237, 239, 93)"
          ]
         ]
        },
        "geo": {
         "fitbounds": "locations"
        },
        "height": 1000,
        "legend": {
         "itemsizing": "constant",
         "tracegroupgap": 0
        },
        "map": {
         "center": {
          "lat": 40.76968206411471,
          "lon": -3.1365670973353175
         },
         "domain": {
          "x": [
           0,
           1
          ],
          "y": [
           0,
           1
          ]
         },
         "zoom": 5
        },
        "mapbox": {
         "center": {
          "lat": 40.76968206411471,
          "lon": -3.1365670973353175
         },
         "style": "open-street-map",
         "zoom": 5
        },
        "margin": {
         "b": 50,
         "l": 50,
         "r": 50,
         "t": 50
        },
        "template": {
         "data": {
          "bar": [
           {
            "error_x": {
             "color": "#2a3f5f"
            },
            "error_y": {
             "color": "#2a3f5f"
            },
            "marker": {
             "line": {
              "color": "#E5ECF6",
              "width": 0.5
             },
             "pattern": {
              "fillmode": "overlay",
              "size": 10,
              "solidity": 0.2
             }
            },
            "type": "bar"
           }
          ],
          "barpolar": [
           {
            "marker": {
             "line": {
              "color": "#E5ECF6",
              "width": 0.5
             },
             "pattern": {
              "fillmode": "overlay",
              "size": 10,
              "solidity": 0.2
             }
            },
            "type": "barpolar"
           }
          ],
          "carpet": [
           {
            "aaxis": {
             "endlinecolor": "#2a3f5f",
             "gridcolor": "white",
             "linecolor": "white",
             "minorgridcolor": "white",
             "startlinecolor": "#2a3f5f"
            },
            "baxis": {
             "endlinecolor": "#2a3f5f",
             "gridcolor": "white",
             "linecolor": "white",
             "minorgridcolor": "white",
             "startlinecolor": "#2a3f5f"
            },
            "type": "carpet"
           }
          ],
          "choropleth": [
           {
            "colorbar": {
             "outlinewidth": 0,
             "ticks": ""
            },
            "type": "choropleth"
           }
          ],
          "contour": [
           {
            "colorbar": {
             "outlinewidth": 0,
             "ticks": ""
            },
            "colorscale": [
             [
              0,
              "#0d0887"
             ],
             [
              0.1111111111111111,
              "#46039f"
             ],
             [
              0.2222222222222222,
              "#7201a8"
             ],
             [
              0.3333333333333333,
              "#9c179e"
             ],
             [
              0.4444444444444444,
              "#bd3786"
             ],
             [
              0.5555555555555556,
              "#d8576b"
             ],
             [
              0.6666666666666666,
              "#ed7953"
             ],
             [
              0.7777777777777778,
              "#fb9f3a"
             ],
             [
              0.8888888888888888,
              "#fdca26"
             ],
             [
              1,
              "#f0f921"
             ]
            ],
            "type": "contour"
           }
          ],
          "contourcarpet": [
           {
            "colorbar": {
             "outlinewidth": 0,
             "ticks": ""
            },
            "type": "contourcarpet"
           }
          ],
          "heatmap": [
           {
            "colorbar": {
             "outlinewidth": 0,
             "ticks": ""
            },
            "colorscale": [
             [
              0,
              "#0d0887"
             ],
             [
              0.1111111111111111,
              "#46039f"
             ],
             [
              0.2222222222222222,
              "#7201a8"
             ],
             [
              0.3333333333333333,
              "#9c179e"
             ],
             [
              0.4444444444444444,
              "#bd3786"
             ],
             [
              0.5555555555555556,
              "#d8576b"
             ],
             [
              0.6666666666666666,
              "#ed7953"
             ],
             [
              0.7777777777777778,
              "#fb9f3a"
             ],
             [
              0.8888888888888888,
              "#fdca26"
             ],
             [
              1,
              "#f0f921"
             ]
            ],
            "type": "heatmap"
           }
          ],
          "histogram": [
           {
            "marker": {
             "pattern": {
              "fillmode": "overlay",
              "size": 10,
              "solidity": 0.2
             }
            },
            "type": "histogram"
           }
          ],
          "histogram2d": [
           {
            "colorbar": {
             "outlinewidth": 0,
             "ticks": ""
            },
            "colorscale": [
             [
              0,
              "#0d0887"
             ],
             [
              0.1111111111111111,
              "#46039f"
             ],
             [
              0.2222222222222222,
              "#7201a8"
             ],
             [
              0.3333333333333333,
              "#9c179e"
             ],
             [
              0.4444444444444444,
              "#bd3786"
             ],
             [
              0.5555555555555556,
              "#d8576b"
             ],
             [
              0.6666666666666666,
              "#ed7953"
             ],
             [
              0.7777777777777778,
              "#fb9f3a"
             ],
             [
              0.8888888888888888,
              "#fdca26"
             ],
             [
              1,
              "#f0f921"
             ]
            ],
            "type": "histogram2d"
           }
          ],
          "histogram2dcontour": [
           {
            "colorbar": {
             "outlinewidth": 0,
             "ticks": ""
            },
            "colorscale": [
             [
              0,
              "#0d0887"
             ],
             [
              0.1111111111111111,
              "#46039f"
             ],
             [
              0.2222222222222222,
              "#7201a8"
             ],
             [
              0.3333333333333333,
              "#9c179e"
             ],
             [
              0.4444444444444444,
              "#bd3786"
             ],
             [
              0.5555555555555556,
              "#d8576b"
             ],
             [
              0.6666666666666666,
              "#ed7953"
             ],
             [
              0.7777777777777778,
              "#fb9f3a"
             ],
             [
              0.8888888888888888,
              "#fdca26"
             ],
             [
              1,
              "#f0f921"
             ]
            ],
            "type": "histogram2dcontour"
           }
          ],
          "mesh3d": [
           {
            "colorbar": {
             "outlinewidth": 0,
             "ticks": ""
            },
            "type": "mesh3d"
           }
          ],
          "parcoords": [
           {
            "line": {
             "colorbar": {
              "outlinewidth": 0,
              "ticks": ""
             }
            },
            "type": "parcoords"
           }
          ],
          "pie": [
           {
            "automargin": true,
            "type": "pie"
           }
          ],
          "scatter": [
           {
            "fillpattern": {
             "fillmode": "overlay",
             "size": 10,
             "solidity": 0.2
            },
            "type": "scatter"
           }
          ],
          "scatter3d": [
           {
            "line": {
             "colorbar": {
              "outlinewidth": 0,
              "ticks": ""
             }
            },
            "marker": {
             "colorbar": {
              "outlinewidth": 0,
              "ticks": ""
             }
            },
            "type": "scatter3d"
           }
          ],
          "scattercarpet": [
           {
            "marker": {
             "colorbar": {
              "outlinewidth": 0,
              "ticks": ""
             }
            },
            "type": "scattercarpet"
           }
          ],
          "scattergeo": [
           {
            "marker": {
             "colorbar": {
              "outlinewidth": 0,
              "ticks": ""
             }
            },
            "type": "scattergeo"
           }
          ],
          "scattergl": [
           {
            "marker": {
             "colorbar": {
              "outlinewidth": 0,
              "ticks": ""
             }
            },
            "type": "scattergl"
           }
          ],
          "scattermap": [
           {
            "marker": {
             "colorbar": {
              "outlinewidth": 0,
              "ticks": ""
             }
            },
            "type": "scattermap"
           }
          ],
          "scattermapbox": [
           {
            "marker": {
             "colorbar": {
              "outlinewidth": 0,
              "ticks": ""
             }
            },
            "type": "scattermapbox"
           }
          ],
          "scatterpolar": [
           {
            "marker": {
             "colorbar": {
              "outlinewidth": 0,
              "ticks": ""
             }
            },
            "type": "scatterpolar"
           }
          ],
          "scatterpolargl": [
           {
            "marker": {
             "colorbar": {
              "outlinewidth": 0,
              "ticks": ""
             }
            },
            "type": "scatterpolargl"
           }
          ],
          "scatterternary": [
           {
            "marker": {
             "colorbar": {
              "outlinewidth": 0,
              "ticks": ""
             }
            },
            "type": "scatterternary"
           }
          ],
          "surface": [
           {
            "colorbar": {
             "outlinewidth": 0,
             "ticks": ""
            },
            "colorscale": [
             [
              0,
              "#0d0887"
             ],
             [
              0.1111111111111111,
              "#46039f"
             ],
             [
              0.2222222222222222,
              "#7201a8"
             ],
             [
              0.3333333333333333,
              "#9c179e"
             ],
             [
              0.4444444444444444,
              "#bd3786"
             ],
             [
              0.5555555555555556,
              "#d8576b"
             ],
             [
              0.6666666666666666,
              "#ed7953"
             ],
             [
              0.7777777777777778,
              "#fb9f3a"
             ],
             [
              0.8888888888888888,
              "#fdca26"
             ],
             [
              1,
              "#f0f921"
             ]
            ],
            "type": "surface"
           }
          ],
          "table": [
           {
            "cells": {
             "fill": {
              "color": "#EBF0F8"
             },
             "line": {
              "color": "white"
             }
            },
            "header": {
             "fill": {
              "color": "#C8D4E3"
             },
             "line": {
              "color": "white"
             }
            },
            "type": "table"
           }
          ]
         },
         "layout": {
          "annotationdefaults": {
           "arrowcolor": "#2a3f5f",
           "arrowhead": 0,
           "arrowwidth": 1
          },
          "autotypenumbers": "strict",
          "coloraxis": {
           "colorbar": {
            "outlinewidth": 0,
            "ticks": ""
           }
          },
          "colorscale": {
           "diverging": [
            [
             0,
             "#8e0152"
            ],
            [
             0.1,
             "#c51b7d"
            ],
            [
             0.2,
             "#de77ae"
            ],
            [
             0.3,
             "#f1b6da"
            ],
            [
             0.4,
             "#fde0ef"
            ],
            [
             0.5,
             "#f7f7f7"
            ],
            [
             0.6,
             "#e6f5d0"
            ],
            [
             0.7,
             "#b8e186"
            ],
            [
             0.8,
             "#7fbc41"
            ],
            [
             0.9,
             "#4d9221"
            ],
            [
             1,
             "#276419"
            ]
           ],
           "sequential": [
            [
             0,
             "#0d0887"
            ],
            [
             0.1111111111111111,
             "#46039f"
            ],
            [
             0.2222222222222222,
             "#7201a8"
            ],
            [
             0.3333333333333333,
             "#9c179e"
            ],
            [
             0.4444444444444444,
             "#bd3786"
            ],
            [
             0.5555555555555556,
             "#d8576b"
            ],
            [
             0.6666666666666666,
             "#ed7953"
            ],
            [
             0.7777777777777778,
             "#fb9f3a"
            ],
            [
             0.8888888888888888,
             "#fdca26"
            ],
            [
             1,
             "#f0f921"
            ]
           ],
           "sequentialminus": [
            [
             0,
             "#0d0887"
            ],
            [
             0.1111111111111111,
             "#46039f"
            ],
            [
             0.2222222222222222,
             "#7201a8"
            ],
            [
             0.3333333333333333,
             "#9c179e"
            ],
            [
             0.4444444444444444,
             "#bd3786"
            ],
            [
             0.5555555555555556,
             "#d8576b"
            ],
            [
             0.6666666666666666,
             "#ed7953"
            ],
            [
             0.7777777777777778,
             "#fb9f3a"
            ],
            [
             0.8888888888888888,
             "#fdca26"
            ],
            [
             1,
             "#f0f921"
            ]
           ]
          },
          "colorway": [
           "#636efa",
           "#EF553B",
           "#00cc96",
           "#ab63fa",
           "#FFA15A",
           "#19d3f3",
           "#FF6692",
           "#B6E880",
           "#FF97FF",
           "#FECB52"
          ],
          "font": {
           "color": "#2a3f5f"
          },
          "geo": {
           "bgcolor": "white",
           "lakecolor": "white",
           "landcolor": "#E5ECF6",
           "showlakes": true,
           "showland": true,
           "subunitcolor": "white"
          },
          "hoverlabel": {
           "align": "left"
          },
          "hovermode": "closest",
          "mapbox": {
           "style": "light"
          },
          "paper_bgcolor": "white",
          "plot_bgcolor": "#E5ECF6",
          "polar": {
           "angularaxis": {
            "gridcolor": "white",
            "linecolor": "white",
            "ticks": ""
           },
           "bgcolor": "#E5ECF6",
           "radialaxis": {
            "gridcolor": "white",
            "linecolor": "white",
            "ticks": ""
           }
          },
          "scene": {
           "xaxis": {
            "backgroundcolor": "#E5ECF6",
            "gridcolor": "white",
            "gridwidth": 2,
            "linecolor": "white",
            "showbackground": true,
            "ticks": "",
            "zerolinecolor": "white"
           },
           "yaxis": {
            "backgroundcolor": "#E5ECF6",
            "gridcolor": "white",
            "gridwidth": 2,
            "linecolor": "white",
            "showbackground": true,
            "ticks": "",
            "zerolinecolor": "white"
           },
           "zaxis": {
            "backgroundcolor": "#E5ECF6",
            "gridcolor": "white",
            "gridwidth": 2,
            "linecolor": "white",
            "showbackground": true,
            "ticks": "",
            "zerolinecolor": "white"
           }
          },
          "shapedefaults": {
           "line": {
            "color": "#2a3f5f"
           }
          },
          "ternary": {
           "aaxis": {
            "gridcolor": "white",
            "linecolor": "white",
            "ticks": ""
           },
           "baxis": {
            "gridcolor": "white",
            "linecolor": "white",
            "ticks": ""
           },
           "bgcolor": "#E5ECF6",
           "caxis": {
            "gridcolor": "white",
            "linecolor": "white",
            "ticks": ""
           }
          },
          "title": {
           "x": 0.05
          },
          "xaxis": {
           "automargin": true,
           "gridcolor": "white",
           "linecolor": "white",
           "ticks": "",
           "title": {
            "standoff": 15
           },
           "zerolinecolor": "white",
           "zerolinewidth": 2
          },
          "yaxis": {
           "automargin": true,
           "gridcolor": "white",
           "linecolor": "white",
           "ticks": "",
           "title": {
            "standoff": 15
           },
           "zerolinecolor": "white",
           "zerolinewidth": 2
          }
         }
        },
        "title": {
         "text": "Communities in Spain by population size"
        },
        "width": 1000
       }
      }
     },
     "metadata": {},
     "output_type": "display_data"
    }
   ],
   "source": [
    "title = \"Communities in Spain\"\n",
    "\n",
    "lats = df.latitude\n",
    "lons = df.longitude\n",
    "\n",
    "fig = px.scatter_map(df, \n",
    "                     lat=lats, \n",
    "                     lon=lons,\n",
    "                     hover_data=[\"municipality_name\", \"altitude\"], \n",
    "                     size='population',\n",
    "                     color='population',\n",
    "                     color_continuous_scale=px.colors.carto.Aggrnyl,\n",
    "                     zoom=5,\n",
    "                     size_max=50  # Increase max size of markers\n",
    "                     )\n",
    "\n",
    "# Adjust the size reference to make small points more visible\n",
    "fig.update_traces(marker=dict(sizeref=1000))  # Decrease this value to make points larger\n",
    "\n",
    "fig.update_geos(fitbounds=\"locations\")\n",
    "fig.update_layout(height=1000, width=1000)\n",
    "fig.update_layout(mapbox_style=\"open-street-map\")\n",
    "fig.update_layout(margin={\"r\":50,\"t\":50,\"l\":50,\"b\":50})\n",
    "fig.update_layout(\n",
    "    coloraxis_colorbar=dict(title='Population')\n",
    ")\n",
    "fig.update_layout(title=\"Communities in Spain by population size\")\n",
    "\n",
    "fig.show()"
   ]
  },
  {
   "cell_type": "code",
   "execution_count": 354,
   "metadata": {},
   "outputs": [
    {
     "data": {
      "text/html": [
       "<div>\n",
       "<style scoped>\n",
       "    .dataframe tbody tr th:only-of-type {\n",
       "        vertical-align: middle;\n",
       "    }\n",
       "\n",
       "    .dataframe tbody tr th {\n",
       "        vertical-align: top;\n",
       "    }\n",
       "\n",
       "    .dataframe thead th {\n",
       "        text-align: right;\n",
       "    }\n",
       "</style>\n",
       "<table border=\"1\" class=\"dataframe\">\n",
       "  <thead>\n",
       "    <tr style=\"text-align: right;\">\n",
       "      <th></th>\n",
       "      <th>province_code</th>\n",
       "      <th>province</th>\n",
       "      <th>municipality_code</th>\n",
       "      <th>municipality_name</th>\n",
       "      <th>population</th>\n",
       "      <th>male</th>\n",
       "      <th>female</th>\n",
       "      <th>latitude</th>\n",
       "      <th>longitude</th>\n",
       "      <th>altitude</th>\n",
       "    </tr>\n",
       "  </thead>\n",
       "  <tbody>\n",
       "    <tr>\n",
       "      <th>7259</th>\n",
       "      <td>46</td>\n",
       "      <td>Valencia/València</td>\n",
       "      <td>250</td>\n",
       "      <td>València</td>\n",
       "      <td>825948</td>\n",
       "      <td>391970</td>\n",
       "      <td>433978</td>\n",
       "      <td>NaN</td>\n",
       "      <td>NaN</td>\n",
       "      <td>NaN</td>\n",
       "    </tr>\n",
       "  </tbody>\n",
       "</table>\n",
       "</div>"
      ],
      "text/plain": [
       "      province_code           province  municipality_code municipality_name  \\\n",
       "7259             46  Valencia/València                250          València   \n",
       "\n",
       "      population    male  female  latitude  longitude  altitude  \n",
       "7259      825948  391970  433978       NaN        NaN       NaN  "
      ]
     },
     "execution_count": 354,
     "metadata": {},
     "output_type": "execute_result"
    }
   ],
   "source": [
    "df[df[\"municipality_name\"] == \"València\"]"
   ]
  },
  {
   "cell_type": "code",
   "execution_count": 352,
   "metadata": {},
   "outputs": [
    {
     "data": {
      "text/html": [
       "<div>\n",
       "<style scoped>\n",
       "    .dataframe tbody tr th:only-of-type {\n",
       "        vertical-align: middle;\n",
       "    }\n",
       "\n",
       "    .dataframe tbody tr th {\n",
       "        vertical-align: top;\n",
       "    }\n",
       "\n",
       "    .dataframe thead th {\n",
       "        text-align: right;\n",
       "    }\n",
       "</style>\n",
       "<table border=\"1\" class=\"dataframe\">\n",
       "  <thead>\n",
       "    <tr style=\"text-align: right;\">\n",
       "      <th></th>\n",
       "      <th>province_code</th>\n",
       "      <th>province</th>\n",
       "      <th>municipality_code</th>\n",
       "      <th>municipality_name</th>\n",
       "      <th>population</th>\n",
       "      <th>male</th>\n",
       "      <th>female</th>\n",
       "    </tr>\n",
       "  </thead>\n",
       "  <tbody>\n",
       "    <tr>\n",
       "      <th>7234</th>\n",
       "      <td>46</td>\n",
       "      <td>Valencia/València</td>\n",
       "      <td>250</td>\n",
       "      <td>València</td>\n",
       "      <td>825948</td>\n",
       "      <td>391970</td>\n",
       "      <td>433978</td>\n",
       "    </tr>\n",
       "  </tbody>\n",
       "</table>\n",
       "</div>"
      ],
      "text/plain": [
       "      province_code           province  municipality_code municipality_name  \\\n",
       "7234             46  Valencia/València                250          València   \n",
       "\n",
       "      population    male  female  \n",
       "7234      825948  391970  433978  "
      ]
     },
     "execution_count": 352,
     "metadata": {},
     "output_type": "execute_result"
    }
   ],
   "source": [
    "df_communities[df_communities[\"municipality_name\"] == \"València\"]"
   ]
  },
  {
   "cell_type": "code",
   "execution_count": 353,
   "metadata": {},
   "outputs": [
    {
     "data": {
      "text/html": [
       "<div>\n",
       "<style scoped>\n",
       "    .dataframe tbody tr th:only-of-type {\n",
       "        vertical-align: middle;\n",
       "    }\n",
       "\n",
       "    .dataframe tbody tr th {\n",
       "        vertical-align: top;\n",
       "    }\n",
       "\n",
       "    .dataframe thead th {\n",
       "        text-align: right;\n",
       "    }\n",
       "</style>\n",
       "<table border=\"1\" class=\"dataframe\">\n",
       "  <thead>\n",
       "    <tr style=\"text-align: right;\">\n",
       "      <th></th>\n",
       "      <th>community</th>\n",
       "      <th>province</th>\n",
       "      <th>municipality_name</th>\n",
       "      <th>latitude</th>\n",
       "      <th>longitude</th>\n",
       "      <th>altitude</th>\n",
       "      <th>population</th>\n",
       "      <th>male</th>\n",
       "      <th>female</th>\n",
       "    </tr>\n",
       "  </thead>\n",
       "  <tbody>\n",
       "    <tr>\n",
       "      <th>8094</th>\n",
       "      <td>Valencia</td>\n",
       "      <td>Valencia/València</td>\n",
       "      <td>Valencia</td>\n",
       "      <td>39.47024</td>\n",
       "      <td>-0.376805</td>\n",
       "      <td>23.3349</td>\n",
       "      <td>814208</td>\n",
       "      <td>392300</td>\n",
       "      <td>421908</td>\n",
       "    </tr>\n",
       "  </tbody>\n",
       "</table>\n",
       "</div>"
      ],
      "text/plain": [
       "     community           province municipality_name  latitude  longitude  \\\n",
       "8094  Valencia  Valencia/València          Valencia  39.47024  -0.376805   \n",
       "\n",
       "      altitude  population    male  female  \n",
       "8094   23.3349      814208  392300  421908  "
      ]
     },
     "execution_count": 353,
     "metadata": {},
     "output_type": "execute_result"
    }
   ],
   "source": [
    "df_coordinates[df_coordinates[\"municipality_name\"] == \"Valencia\"]"
   ]
  }
 ],
 "metadata": {
  "kernelspec": {
   "display_name": ".venv",
   "language": "python",
   "name": "python3"
  },
  "language_info": {
   "codemirror_mode": {
    "name": "ipython",
    "version": 3
   },
   "file_extension": ".py",
   "mimetype": "text/x-python",
   "name": "python",
   "nbconvert_exporter": "python",
   "pygments_lexer": "ipython3",
   "version": "3.11.3"
  }
 },
 "nbformat": 4,
 "nbformat_minor": 2
}
