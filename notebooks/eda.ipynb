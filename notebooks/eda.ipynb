{
 "cells": [
  {
   "cell_type": "markdown",
   "metadata": {},
   "source": [
    "## Basic EDA for first incoming data"
   ]
  },
  {
   "cell_type": "code",
   "execution_count": 19,
   "metadata": {},
   "outputs": [],
   "source": [
    "import sys\n",
    "import os\n",
    "import re\n",
    "sys.path.insert(0, os.path.abspath(os.path.join(os.getcwd(), '..')))\n",
    "\n",
    "import pandas as pd\n",
    "import plotly.express as px\n",
    "import numpy as np\n",
    "\n",
    "from scripts.accent_cleaner import AccentCleaner\n",
    "from scripts.column_aligner import ColumnAligner\n",
    "from scripts.utils import split_at_char, replace_with"
   ]
  },
  {
   "cell_type": "code",
   "execution_count": 20,
   "metadata": {},
   "outputs": [],
   "source": [
    "df_communities = pd.read_csv(\n",
    "    \"../data/raw/population_towns.csv\", \n",
    "    encoding=\"ISO-8859-1\",  # or \"latin1\",\n",
    "    sep=\";\",\n",
    "    decimal=\",\")\n",
    "df_coordinates = pd.read_csv(\n",
    "    \"../data/raw/coordinates_towns_spain.csv\",\n",
    "    encoding=\"ISO-8859-1\",  # or \"latin1\"\n",
    "    sep=\";\",\n",
    "    decimal=\",\"\n",
    ")"
   ]
  },
  {
   "cell_type": "code",
   "execution_count": 21,
   "metadata": {},
   "outputs": [],
   "source": [
    "columns_communities_english = ['province_code', 'province', 'municipality_code', 'municipality_name', 'population', 'male', 'female']\n",
    "columns_coordinates_english = ['community', 'province', 'municipality_name', 'latitude', 'longitude', 'altitude',\n",
    "    'population', 'male', 'female']\n",
    "\n",
    "\n",
    "def map_cols_es_en(es: list, en: list):\n",
    "    dict_cols = dict(zip(es, en))\n",
    "    return dict_cols.values()\n",
    "\n",
    "\n",
    "df_communities.columns = map_cols_es_en(df_communities.columns.to_list(), columns_communities_english)\n",
    "df_coordinates.columns = map_cols_es_en(df_coordinates.columns.to_list(), columns_coordinates_english)"
   ]
  },
  {
   "cell_type": "code",
   "execution_count": 22,
   "metadata": {},
   "outputs": [
    {
     "data": {
      "text/html": [
       "<div>\n",
       "<style scoped>\n",
       "    .dataframe tbody tr th:only-of-type {\n",
       "        vertical-align: middle;\n",
       "    }\n",
       "\n",
       "    .dataframe tbody tr th {\n",
       "        vertical-align: top;\n",
       "    }\n",
       "\n",
       "    .dataframe thead th {\n",
       "        text-align: right;\n",
       "    }\n",
       "</style>\n",
       "<table border=\"1\" class=\"dataframe\">\n",
       "  <thead>\n",
       "    <tr style=\"text-align: right;\">\n",
       "      <th></th>\n",
       "      <th>community</th>\n",
       "      <th>province</th>\n",
       "      <th>municipality_name</th>\n",
       "      <th>latitude</th>\n",
       "      <th>longitude</th>\n",
       "      <th>altitude</th>\n",
       "      <th>population</th>\n",
       "      <th>male</th>\n",
       "      <th>female</th>\n",
       "    </tr>\n",
       "  </thead>\n",
       "  <tbody>\n",
       "    <tr>\n",
       "      <th>5379</th>\n",
       "      <td>Catalunya</td>\n",
       "      <td>Girona</td>\n",
       "      <td>Queralbs</td>\n",
       "      <td>42.34953</td>\n",
       "      <td>2.163350</td>\n",
       "      <td>1212.2680</td>\n",
       "      <td>199</td>\n",
       "      <td>115</td>\n",
       "      <td>84</td>\n",
       "    </tr>\n",
       "    <tr>\n",
       "      <th>4958</th>\n",
       "      <td>Catalunya</td>\n",
       "      <td>Barcelona</td>\n",
       "      <td>Bellprat</td>\n",
       "      <td>41.51725</td>\n",
       "      <td>1.433458</td>\n",
       "      <td>644.4128</td>\n",
       "      <td>92</td>\n",
       "      <td>50</td>\n",
       "      <td>42</td>\n",
       "    </tr>\n",
       "    <tr>\n",
       "      <th>3356</th>\n",
       "      <td>Castilla León</td>\n",
       "      <td>León</td>\n",
       "      <td>Chozas de Abajo</td>\n",
       "      <td>42.50726</td>\n",
       "      <td>-5.686552</td>\n",
       "      <td>882.4390</td>\n",
       "      <td>2419</td>\n",
       "      <td>1258</td>\n",
       "      <td>1161</td>\n",
       "    </tr>\n",
       "    <tr>\n",
       "      <th>1301</th>\n",
       "      <td>Aragón</td>\n",
       "      <td>Zaragoza</td>\n",
       "      <td>Daroca</td>\n",
       "      <td>41.11533</td>\n",
       "      <td>-1.413934</td>\n",
       "      <td>783.9178</td>\n",
       "      <td>2331</td>\n",
       "      <td>1156</td>\n",
       "      <td>1175</td>\n",
       "    </tr>\n",
       "    <tr>\n",
       "      <th>929</th>\n",
       "      <td>Aragón</td>\n",
       "      <td>Huesca</td>\n",
       "      <td>San Miguel del Cinca</td>\n",
       "      <td>41.82222</td>\n",
       "      <td>0.076111</td>\n",
       "      <td>264.1327</td>\n",
       "      <td>853</td>\n",
       "      <td>438</td>\n",
       "      <td>415</td>\n",
       "    </tr>\n",
       "  </tbody>\n",
       "</table>\n",
       "</div>"
      ],
      "text/plain": [
       "          community   province     municipality_name  latitude  longitude  \\\n",
       "5379      Catalunya     Girona              Queralbs  42.34953   2.163350   \n",
       "4958      Catalunya  Barcelona              Bellprat  41.51725   1.433458   \n",
       "3356  Castilla León       León       Chozas de Abajo  42.50726  -5.686552   \n",
       "1301         Aragón   Zaragoza                Daroca  41.11533  -1.413934   \n",
       "929          Aragón     Huesca  San Miguel del Cinca  41.82222   0.076111   \n",
       "\n",
       "       altitude  population  male  female  \n",
       "5379  1212.2680         199   115      84  \n",
       "4958   644.4128          92    50      42  \n",
       "3356   882.4390        2419  1258    1161  \n",
       "1301   783.9178        2331  1156    1175  \n",
       "929    264.1327         853   438     415  "
      ]
     },
     "execution_count": 22,
     "metadata": {},
     "output_type": "execute_result"
    }
   ],
   "source": [
    "df_coordinates.sample(5)"
   ]
  },
  {
   "cell_type": "code",
   "execution_count": 23,
   "metadata": {},
   "outputs": [
    {
     "data": {
      "text/html": [
       "<div>\n",
       "<style scoped>\n",
       "    .dataframe tbody tr th:only-of-type {\n",
       "        vertical-align: middle;\n",
       "    }\n",
       "\n",
       "    .dataframe tbody tr th {\n",
       "        vertical-align: top;\n",
       "    }\n",
       "\n",
       "    .dataframe thead th {\n",
       "        text-align: right;\n",
       "    }\n",
       "</style>\n",
       "<table border=\"1\" class=\"dataframe\">\n",
       "  <thead>\n",
       "    <tr style=\"text-align: right;\">\n",
       "      <th></th>\n",
       "      <th>province_code</th>\n",
       "      <th>province</th>\n",
       "      <th>municipality_code</th>\n",
       "      <th>municipality_name</th>\n",
       "      <th>population</th>\n",
       "      <th>male</th>\n",
       "      <th>female</th>\n",
       "    </tr>\n",
       "  </thead>\n",
       "  <tbody>\n",
       "    <tr>\n",
       "      <th>5211</th>\n",
       "      <td>34</td>\n",
       "      <td>Palencia</td>\n",
       "      <td>204</td>\n",
       "      <td>Villacidaler</td>\n",
       "      <td>46</td>\n",
       "      <td>26</td>\n",
       "      <td>20</td>\n",
       "    </tr>\n",
       "    <tr>\n",
       "      <th>4074</th>\n",
       "      <td>26</td>\n",
       "      <td>La Rioja</td>\n",
       "      <td>26</td>\n",
       "      <td>Baños de Río Tobía</td>\n",
       "      <td>1605</td>\n",
       "      <td>820</td>\n",
       "      <td>785</td>\n",
       "    </tr>\n",
       "    <tr>\n",
       "      <th>6340</th>\n",
       "      <td>42</td>\n",
       "      <td>Soria</td>\n",
       "      <td>195</td>\n",
       "      <td>Valdenebro</td>\n",
       "      <td>94</td>\n",
       "      <td>55</td>\n",
       "      <td>39</td>\n",
       "    </tr>\n",
       "    <tr>\n",
       "      <th>6864</th>\n",
       "      <td>45</td>\n",
       "      <td>Toledo</td>\n",
       "      <td>85</td>\n",
       "      <td>Lominchar</td>\n",
       "      <td>2815</td>\n",
       "      <td>1512</td>\n",
       "      <td>1303</td>\n",
       "    </tr>\n",
       "    <tr>\n",
       "      <th>155</th>\n",
       "      <td>3</td>\n",
       "      <td>Alicante</td>\n",
       "      <td>18</td>\n",
       "      <td>Altea</td>\n",
       "      <td>23963</td>\n",
       "      <td>11693</td>\n",
       "      <td>12270</td>\n",
       "    </tr>\n",
       "  </tbody>\n",
       "</table>\n",
       "</div>"
      ],
      "text/plain": [
       "      province_code  province  municipality_code   municipality_name  \\\n",
       "5211             34  Palencia                204        Villacidaler   \n",
       "4074             26  La Rioja                 26  Baños de Río Tobía   \n",
       "6340             42     Soria                195          Valdenebro   \n",
       "6864             45    Toledo                 85           Lominchar   \n",
       "155               3  Alicante                 18               Altea   \n",
       "\n",
       "      population   male  female  \n",
       "5211          46     26      20  \n",
       "4074        1605    820     785  \n",
       "6340          94     55      39  \n",
       "6864        2815   1512    1303  \n",
       "155        23963  11693   12270  "
      ]
     },
     "execution_count": 23,
     "metadata": {},
     "output_type": "execute_result"
    }
   ],
   "source": [
    "df_communities.sample(5)"
   ]
  },
  {
   "cell_type": "code",
   "execution_count": 24,
   "metadata": {},
   "outputs": [
    {
     "data": {
      "text/html": [
       "<div>\n",
       "<style scoped>\n",
       "    .dataframe tbody tr th:only-of-type {\n",
       "        vertical-align: middle;\n",
       "    }\n",
       "\n",
       "    .dataframe tbody tr th {\n",
       "        vertical-align: top;\n",
       "    }\n",
       "\n",
       "    .dataframe thead th {\n",
       "        text-align: right;\n",
       "    }\n",
       "</style>\n",
       "<table border=\"1\" class=\"dataframe\">\n",
       "  <thead>\n",
       "    <tr style=\"text-align: right;\">\n",
       "      <th></th>\n",
       "      <th>community</th>\n",
       "      <th>province</th>\n",
       "      <th>municipality_name</th>\n",
       "      <th>latitude</th>\n",
       "      <th>longitude</th>\n",
       "      <th>altitude</th>\n",
       "      <th>population</th>\n",
       "      <th>male</th>\n",
       "      <th>female</th>\n",
       "    </tr>\n",
       "  </thead>\n",
       "  <tbody>\n",
       "    <tr>\n",
       "      <th>7458</th>\n",
       "      <td>País Vasco</td>\n",
       "      <td>Bizcaia</td>\n",
       "      <td>Abadiño</td>\n",
       "      <td>43.15000</td>\n",
       "      <td>-2.610278</td>\n",
       "      <td>139.52980</td>\n",
       "      <td>7260</td>\n",
       "      <td>3647</td>\n",
       "      <td>3613</td>\n",
       "    </tr>\n",
       "    <tr>\n",
       "      <th>7459</th>\n",
       "      <td>País Vasco</td>\n",
       "      <td>Bizcaia</td>\n",
       "      <td>Abanto y Ciérvana-Abanto Zierbena</td>\n",
       "      <td>43.31688</td>\n",
       "      <td>-3.087678</td>\n",
       "      <td>65.98425</td>\n",
       "      <td>9647</td>\n",
       "      <td>4779</td>\n",
       "      <td>4868</td>\n",
       "    </tr>\n",
       "    <tr>\n",
       "      <th>7460</th>\n",
       "      <td>País Vasco</td>\n",
       "      <td>Bizcaia</td>\n",
       "      <td>Ajangiz</td>\n",
       "      <td>43.30100</td>\n",
       "      <td>-2.671000</td>\n",
       "      <td>13.37307</td>\n",
       "      <td>445</td>\n",
       "      <td>216</td>\n",
       "      <td>229</td>\n",
       "    </tr>\n",
       "    <tr>\n",
       "      <th>7461</th>\n",
       "      <td>País Vasco</td>\n",
       "      <td>Bizcaia</td>\n",
       "      <td>Alonsotegi</td>\n",
       "      <td>43.24519</td>\n",
       "      <td>-2.988702</td>\n",
       "      <td>23.90280</td>\n",
       "      <td>2835</td>\n",
       "      <td>1390</td>\n",
       "      <td>1445</td>\n",
       "    </tr>\n",
       "    <tr>\n",
       "      <th>7462</th>\n",
       "      <td>País Vasco</td>\n",
       "      <td>Bizcaia</td>\n",
       "      <td>Amorebieta-Etxano</td>\n",
       "      <td>43.22050</td>\n",
       "      <td>-2.733236</td>\n",
       "      <td>74.85185</td>\n",
       "      <td>17842</td>\n",
       "      <td>8793</td>\n",
       "      <td>9049</td>\n",
       "    </tr>\n",
       "    <tr>\n",
       "      <th>...</th>\n",
       "      <td>...</td>\n",
       "      <td>...</td>\n",
       "      <td>...</td>\n",
       "      <td>...</td>\n",
       "      <td>...</td>\n",
       "      <td>...</td>\n",
       "      <td>...</td>\n",
       "      <td>...</td>\n",
       "      <td>...</td>\n",
       "    </tr>\n",
       "    <tr>\n",
       "      <th>7565</th>\n",
       "      <td>País Vasco</td>\n",
       "      <td>Bizcaia</td>\n",
       "      <td>Zaratamo</td>\n",
       "      <td>43.21151</td>\n",
       "      <td>-2.873626</td>\n",
       "      <td>167.18530</td>\n",
       "      <td>1735</td>\n",
       "      <td>877</td>\n",
       "      <td>858</td>\n",
       "    </tr>\n",
       "    <tr>\n",
       "      <th>7566</th>\n",
       "      <td>País Vasco</td>\n",
       "      <td>Bizcaia</td>\n",
       "      <td>Zeanuri</td>\n",
       "      <td>43.09966</td>\n",
       "      <td>-2.749615</td>\n",
       "      <td>172.21160</td>\n",
       "      <td>1330</td>\n",
       "      <td>686</td>\n",
       "      <td>644</td>\n",
       "    </tr>\n",
       "    <tr>\n",
       "      <th>7567</th>\n",
       "      <td>País Vasco</td>\n",
       "      <td>Bizcaia</td>\n",
       "      <td>Zeberio</td>\n",
       "      <td>43.15278</td>\n",
       "      <td>-2.852778</td>\n",
       "      <td>184.42850</td>\n",
       "      <td>1054</td>\n",
       "      <td>523</td>\n",
       "      <td>531</td>\n",
       "    </tr>\n",
       "    <tr>\n",
       "      <th>7568</th>\n",
       "      <td>País Vasco</td>\n",
       "      <td>Bizcaia</td>\n",
       "      <td>Zierbena</td>\n",
       "      <td>43.34766</td>\n",
       "      <td>-3.086152</td>\n",
       "      <td>95.27987</td>\n",
       "      <td>1382</td>\n",
       "      <td>753</td>\n",
       "      <td>629</td>\n",
       "    </tr>\n",
       "    <tr>\n",
       "      <th>7569</th>\n",
       "      <td>País Vasco</td>\n",
       "      <td>Bizcaia</td>\n",
       "      <td>Ziortza-Bolibar</td>\n",
       "      <td>43.24982</td>\n",
       "      <td>-2.550174</td>\n",
       "      <td>179.74340</td>\n",
       "      <td>396</td>\n",
       "      <td>212</td>\n",
       "      <td>184</td>\n",
       "    </tr>\n",
       "  </tbody>\n",
       "</table>\n",
       "<p>112 rows × 9 columns</p>\n",
       "</div>"
      ],
      "text/plain": [
       "       community province                  municipality_name  latitude  \\\n",
       "7458  País Vasco  Bizcaia                            Abadiño  43.15000   \n",
       "7459  País Vasco  Bizcaia  Abanto y Ciérvana-Abanto Zierbena  43.31688   \n",
       "7460  País Vasco  Bizcaia                            Ajangiz  43.30100   \n",
       "7461  País Vasco  Bizcaia                         Alonsotegi  43.24519   \n",
       "7462  País Vasco  Bizcaia                  Amorebieta-Etxano  43.22050   \n",
       "...          ...      ...                                ...       ...   \n",
       "7565  País Vasco  Bizcaia                           Zaratamo  43.21151   \n",
       "7566  País Vasco  Bizcaia                            Zeanuri  43.09966   \n",
       "7567  País Vasco  Bizcaia                            Zeberio  43.15278   \n",
       "7568  País Vasco  Bizcaia                           Zierbena  43.34766   \n",
       "7569  País Vasco  Bizcaia                    Ziortza-Bolibar  43.24982   \n",
       "\n",
       "      longitude   altitude  population  male  female  \n",
       "7458  -2.610278  139.52980        7260  3647    3613  \n",
       "7459  -3.087678   65.98425        9647  4779    4868  \n",
       "7460  -2.671000   13.37307         445   216     229  \n",
       "7461  -2.988702   23.90280        2835  1390    1445  \n",
       "7462  -2.733236   74.85185       17842  8793    9049  \n",
       "...         ...        ...         ...   ...     ...  \n",
       "7565  -2.873626  167.18530        1735   877     858  \n",
       "7566  -2.749615  172.21160        1330   686     644  \n",
       "7567  -2.852778  184.42850        1054   523     531  \n",
       "7568  -3.086152   95.27987        1382   753     629  \n",
       "7569  -2.550174  179.74340         396   212     184  \n",
       "\n",
       "[112 rows x 9 columns]"
      ]
     },
     "execution_count": 24,
     "metadata": {},
     "output_type": "execute_result"
    }
   ],
   "source": [
    "df_coordinates = replace_with(df_coordinates, 'province', 'Vizcaya', 'Bizcaia')\n",
    "df_coordinates[df_coordinates['province'] == \"Bizcaia\"]"
   ]
  },
  {
   "cell_type": "code",
   "execution_count": 25,
   "metadata": {},
   "outputs": [],
   "source": [
    "cleaner = AccentCleaner([df_communities, df_coordinates], ['municipality_name', 'province'])\n",
    "cleaner.cleanAccents()\n",
    "\n",
    "\n",
    "aligner = ColumnAligner(df_communities, df_coordinates, 'municipality_name_clean', re.compile(r\"\\*,\\s\"))\n",
    "aligner.alignColumns()\n",
    "\n",
    "df_communities = split_at_char(df_communities, 'province_clean', '/')\n",
    "df_communities = split_at_char(df_communities, 'municipality_name_clean', '/')\n",
    "df_coordinates = split_at_char(df_coordinates, 'province_clean', '/')\n",
    "df_coordinates = split_at_char(df_coordinates, 'municipality_name_clean', '/')"
   ]
  },
  {
   "cell_type": "code",
   "execution_count": 26,
   "metadata": {},
   "outputs": [
    {
     "data": {
      "text/html": [
       "<div>\n",
       "<style scoped>\n",
       "    .dataframe tbody tr th:only-of-type {\n",
       "        vertical-align: middle;\n",
       "    }\n",
       "\n",
       "    .dataframe tbody tr th {\n",
       "        vertical-align: top;\n",
       "    }\n",
       "\n",
       "    .dataframe thead th {\n",
       "        text-align: right;\n",
       "    }\n",
       "</style>\n",
       "<table border=\"1\" class=\"dataframe\">\n",
       "  <thead>\n",
       "    <tr style=\"text-align: right;\">\n",
       "      <th></th>\n",
       "      <th>community</th>\n",
       "      <th>province</th>\n",
       "      <th>municipality_name</th>\n",
       "      <th>latitude</th>\n",
       "      <th>longitude</th>\n",
       "      <th>altitude</th>\n",
       "      <th>population</th>\n",
       "      <th>male</th>\n",
       "      <th>female</th>\n",
       "      <th>municipality_name_clean</th>\n",
       "      <th>province_clean</th>\n",
       "    </tr>\n",
       "  </thead>\n",
       "  <tbody>\n",
       "    <tr>\n",
       "      <th>7458</th>\n",
       "      <td>País Vasco</td>\n",
       "      <td>Bizcaia</td>\n",
       "      <td>Abadiño</td>\n",
       "      <td>43.15000</td>\n",
       "      <td>-2.610278</td>\n",
       "      <td>139.52980</td>\n",
       "      <td>7260</td>\n",
       "      <td>3647</td>\n",
       "      <td>3613</td>\n",
       "      <td>abadino</td>\n",
       "      <td>bizcaia</td>\n",
       "    </tr>\n",
       "    <tr>\n",
       "      <th>7459</th>\n",
       "      <td>País Vasco</td>\n",
       "      <td>Bizcaia</td>\n",
       "      <td>Abanto y Ciérvana-Abanto Zierbena</td>\n",
       "      <td>43.31688</td>\n",
       "      <td>-3.087678</td>\n",
       "      <td>65.98425</td>\n",
       "      <td>9647</td>\n",
       "      <td>4779</td>\n",
       "      <td>4868</td>\n",
       "      <td>abanto y ciervana-abanto zierbena</td>\n",
       "      <td>bizcaia</td>\n",
       "    </tr>\n",
       "    <tr>\n",
       "      <th>7460</th>\n",
       "      <td>País Vasco</td>\n",
       "      <td>Bizcaia</td>\n",
       "      <td>Ajangiz</td>\n",
       "      <td>43.30100</td>\n",
       "      <td>-2.671000</td>\n",
       "      <td>13.37307</td>\n",
       "      <td>445</td>\n",
       "      <td>216</td>\n",
       "      <td>229</td>\n",
       "      <td>ajangiz</td>\n",
       "      <td>bizcaia</td>\n",
       "    </tr>\n",
       "    <tr>\n",
       "      <th>7461</th>\n",
       "      <td>País Vasco</td>\n",
       "      <td>Bizcaia</td>\n",
       "      <td>Alonsotegi</td>\n",
       "      <td>43.24519</td>\n",
       "      <td>-2.988702</td>\n",
       "      <td>23.90280</td>\n",
       "      <td>2835</td>\n",
       "      <td>1390</td>\n",
       "      <td>1445</td>\n",
       "      <td>alonsotegi</td>\n",
       "      <td>bizcaia</td>\n",
       "    </tr>\n",
       "    <tr>\n",
       "      <th>7462</th>\n",
       "      <td>País Vasco</td>\n",
       "      <td>Bizcaia</td>\n",
       "      <td>Amorebieta-Etxano</td>\n",
       "      <td>43.22050</td>\n",
       "      <td>-2.733236</td>\n",
       "      <td>74.85185</td>\n",
       "      <td>17842</td>\n",
       "      <td>8793</td>\n",
       "      <td>9049</td>\n",
       "      <td>amorebieta-etxano</td>\n",
       "      <td>bizcaia</td>\n",
       "    </tr>\n",
       "    <tr>\n",
       "      <th>...</th>\n",
       "      <td>...</td>\n",
       "      <td>...</td>\n",
       "      <td>...</td>\n",
       "      <td>...</td>\n",
       "      <td>...</td>\n",
       "      <td>...</td>\n",
       "      <td>...</td>\n",
       "      <td>...</td>\n",
       "      <td>...</td>\n",
       "      <td>...</td>\n",
       "      <td>...</td>\n",
       "    </tr>\n",
       "    <tr>\n",
       "      <th>7565</th>\n",
       "      <td>País Vasco</td>\n",
       "      <td>Bizcaia</td>\n",
       "      <td>Zaratamo</td>\n",
       "      <td>43.21151</td>\n",
       "      <td>-2.873626</td>\n",
       "      <td>167.18530</td>\n",
       "      <td>1735</td>\n",
       "      <td>877</td>\n",
       "      <td>858</td>\n",
       "      <td>zaratamo</td>\n",
       "      <td>bizcaia</td>\n",
       "    </tr>\n",
       "    <tr>\n",
       "      <th>7566</th>\n",
       "      <td>País Vasco</td>\n",
       "      <td>Bizcaia</td>\n",
       "      <td>Zeanuri</td>\n",
       "      <td>43.09966</td>\n",
       "      <td>-2.749615</td>\n",
       "      <td>172.21160</td>\n",
       "      <td>1330</td>\n",
       "      <td>686</td>\n",
       "      <td>644</td>\n",
       "      <td>zeanuri</td>\n",
       "      <td>bizcaia</td>\n",
       "    </tr>\n",
       "    <tr>\n",
       "      <th>7567</th>\n",
       "      <td>País Vasco</td>\n",
       "      <td>Bizcaia</td>\n",
       "      <td>Zeberio</td>\n",
       "      <td>43.15278</td>\n",
       "      <td>-2.852778</td>\n",
       "      <td>184.42850</td>\n",
       "      <td>1054</td>\n",
       "      <td>523</td>\n",
       "      <td>531</td>\n",
       "      <td>zeberio</td>\n",
       "      <td>bizcaia</td>\n",
       "    </tr>\n",
       "    <tr>\n",
       "      <th>7568</th>\n",
       "      <td>País Vasco</td>\n",
       "      <td>Bizcaia</td>\n",
       "      <td>Zierbena</td>\n",
       "      <td>43.34766</td>\n",
       "      <td>-3.086152</td>\n",
       "      <td>95.27987</td>\n",
       "      <td>1382</td>\n",
       "      <td>753</td>\n",
       "      <td>629</td>\n",
       "      <td>zierbena</td>\n",
       "      <td>bizcaia</td>\n",
       "    </tr>\n",
       "    <tr>\n",
       "      <th>7569</th>\n",
       "      <td>País Vasco</td>\n",
       "      <td>Bizcaia</td>\n",
       "      <td>Ziortza-Bolibar</td>\n",
       "      <td>43.24982</td>\n",
       "      <td>-2.550174</td>\n",
       "      <td>179.74340</td>\n",
       "      <td>396</td>\n",
       "      <td>212</td>\n",
       "      <td>184</td>\n",
       "      <td>ziortza-bolibar</td>\n",
       "      <td>bizcaia</td>\n",
       "    </tr>\n",
       "  </tbody>\n",
       "</table>\n",
       "<p>112 rows × 11 columns</p>\n",
       "</div>"
      ],
      "text/plain": [
       "       community province                  municipality_name  latitude  \\\n",
       "7458  País Vasco  Bizcaia                            Abadiño  43.15000   \n",
       "7459  País Vasco  Bizcaia  Abanto y Ciérvana-Abanto Zierbena  43.31688   \n",
       "7460  País Vasco  Bizcaia                            Ajangiz  43.30100   \n",
       "7461  País Vasco  Bizcaia                         Alonsotegi  43.24519   \n",
       "7462  País Vasco  Bizcaia                  Amorebieta-Etxano  43.22050   \n",
       "...          ...      ...                                ...       ...   \n",
       "7565  País Vasco  Bizcaia                           Zaratamo  43.21151   \n",
       "7566  País Vasco  Bizcaia                            Zeanuri  43.09966   \n",
       "7567  País Vasco  Bizcaia                            Zeberio  43.15278   \n",
       "7568  País Vasco  Bizcaia                           Zierbena  43.34766   \n",
       "7569  País Vasco  Bizcaia                    Ziortza-Bolibar  43.24982   \n",
       "\n",
       "      longitude   altitude  population  male  female  \\\n",
       "7458  -2.610278  139.52980        7260  3647    3613   \n",
       "7459  -3.087678   65.98425        9647  4779    4868   \n",
       "7460  -2.671000   13.37307         445   216     229   \n",
       "7461  -2.988702   23.90280        2835  1390    1445   \n",
       "7462  -2.733236   74.85185       17842  8793    9049   \n",
       "...         ...        ...         ...   ...     ...   \n",
       "7565  -2.873626  167.18530        1735   877     858   \n",
       "7566  -2.749615  172.21160        1330   686     644   \n",
       "7567  -2.852778  184.42850        1054   523     531   \n",
       "7568  -3.086152   95.27987        1382   753     629   \n",
       "7569  -2.550174  179.74340         396   212     184   \n",
       "\n",
       "                municipality_name_clean province_clean  \n",
       "7458                            abadino        bizcaia  \n",
       "7459  abanto y ciervana-abanto zierbena        bizcaia  \n",
       "7460                            ajangiz        bizcaia  \n",
       "7461                         alonsotegi        bizcaia  \n",
       "7462                  amorebieta-etxano        bizcaia  \n",
       "...                                 ...            ...  \n",
       "7565                           zaratamo        bizcaia  \n",
       "7566                            zeanuri        bizcaia  \n",
       "7567                            zeberio        bizcaia  \n",
       "7568                           zierbena        bizcaia  \n",
       "7569                    ziortza-bolibar        bizcaia  \n",
       "\n",
       "[112 rows x 11 columns]"
      ]
     },
     "execution_count": 26,
     "metadata": {},
     "output_type": "execute_result"
    }
   ],
   "source": [
    "df_coordinates[df_coordinates['province'] == \"Bizcaia\"]"
   ]
  },
  {
   "cell_type": "code",
   "execution_count": 27,
   "metadata": {},
   "outputs": [
    {
     "data": {
      "text/html": [
       "<div>\n",
       "<style scoped>\n",
       "    .dataframe tbody tr th:only-of-type {\n",
       "        vertical-align: middle;\n",
       "    }\n",
       "\n",
       "    .dataframe tbody tr th {\n",
       "        vertical-align: top;\n",
       "    }\n",
       "\n",
       "    .dataframe thead th {\n",
       "        text-align: right;\n",
       "    }\n",
       "</style>\n",
       "<table border=\"1\" class=\"dataframe\">\n",
       "  <thead>\n",
       "    <tr style=\"text-align: right;\">\n",
       "      <th></th>\n",
       "      <th>province_code</th>\n",
       "      <th>province</th>\n",
       "      <th>municipality_code</th>\n",
       "      <th>municipality_name</th>\n",
       "      <th>population</th>\n",
       "      <th>male</th>\n",
       "      <th>female</th>\n",
       "      <th>municipality_name_clean</th>\n",
       "      <th>province_clean</th>\n",
       "    </tr>\n",
       "  </thead>\n",
       "  <tbody>\n",
       "    <tr>\n",
       "      <th>8034</th>\n",
       "      <td>50</td>\n",
       "      <td>Zaragoza</td>\n",
       "      <td>205</td>\n",
       "      <td>Pedrosas, Las</td>\n",
       "      <td>113</td>\n",
       "      <td>56</td>\n",
       "      <td>57</td>\n",
       "      <td>pedrosas, las</td>\n",
       "      <td>zaragoza</td>\n",
       "    </tr>\n",
       "  </tbody>\n",
       "</table>\n",
       "</div>"
      ],
      "text/plain": [
       "      province_code  province  municipality_code municipality_name  \\\n",
       "8034             50  Zaragoza                205     Pedrosas, Las   \n",
       "\n",
       "      population  male  female municipality_name_clean province_clean  \n",
       "8034         113    56      57           pedrosas, las       zaragoza  "
      ]
     },
     "execution_count": 27,
     "metadata": {},
     "output_type": "execute_result"
    }
   ],
   "source": [
    "df_communities\n",
    "df_communities[df_communities['municipality_name_clean'] == \"pedrosas, las\"]"
   ]
  },
  {
   "cell_type": "code",
   "execution_count": 28,
   "metadata": {},
   "outputs": [
    {
     "data": {
      "text/html": [
       "<div>\n",
       "<style scoped>\n",
       "    .dataframe tbody tr th:only-of-type {\n",
       "        vertical-align: middle;\n",
       "    }\n",
       "\n",
       "    .dataframe tbody tr th {\n",
       "        vertical-align: top;\n",
       "    }\n",
       "\n",
       "    .dataframe thead th {\n",
       "        text-align: right;\n",
       "    }\n",
       "</style>\n",
       "<table border=\"1\" class=\"dataframe\">\n",
       "  <thead>\n",
       "    <tr style=\"text-align: right;\">\n",
       "      <th></th>\n",
       "      <th>community</th>\n",
       "      <th>province</th>\n",
       "      <th>municipality_name</th>\n",
       "      <th>latitude</th>\n",
       "      <th>longitude</th>\n",
       "      <th>altitude</th>\n",
       "      <th>population</th>\n",
       "      <th>male</th>\n",
       "      <th>female</th>\n",
       "      <th>municipality_name_clean</th>\n",
       "      <th>province_clean</th>\n",
       "    </tr>\n",
       "  </thead>\n",
       "  <tbody>\n",
       "    <tr>\n",
       "      <th>0</th>\n",
       "      <td>Andalucía</td>\n",
       "      <td>Almería</td>\n",
       "      <td>Abla</td>\n",
       "      <td>37.14114</td>\n",
       "      <td>-2.780104</td>\n",
       "      <td>871.16840</td>\n",
       "      <td>1504</td>\n",
       "      <td>783</td>\n",
       "      <td>721</td>\n",
       "      <td>abla</td>\n",
       "      <td>almeria</td>\n",
       "    </tr>\n",
       "    <tr>\n",
       "      <th>1</th>\n",
       "      <td>Andalucía</td>\n",
       "      <td>Almería</td>\n",
       "      <td>Abrucena</td>\n",
       "      <td>37.13305</td>\n",
       "      <td>-2.797098</td>\n",
       "      <td>976.93870</td>\n",
       "      <td>1341</td>\n",
       "      <td>682</td>\n",
       "      <td>659</td>\n",
       "      <td>abrucena</td>\n",
       "      <td>almeria</td>\n",
       "    </tr>\n",
       "    <tr>\n",
       "      <th>2</th>\n",
       "      <td>Andalucía</td>\n",
       "      <td>Almería</td>\n",
       "      <td>Adra</td>\n",
       "      <td>36.74807</td>\n",
       "      <td>-3.022522</td>\n",
       "      <td>10.97898</td>\n",
       "      <td>24373</td>\n",
       "      <td>12338</td>\n",
       "      <td>12035</td>\n",
       "      <td>adra</td>\n",
       "      <td>almeria</td>\n",
       "    </tr>\n",
       "    <tr>\n",
       "      <th>3</th>\n",
       "      <td>Andalucía</td>\n",
       "      <td>Almería</td>\n",
       "      <td>Albánchez</td>\n",
       "      <td>37.28710</td>\n",
       "      <td>-2.181163</td>\n",
       "      <td>481.31230</td>\n",
       "      <td>815</td>\n",
       "      <td>422</td>\n",
       "      <td>393</td>\n",
       "      <td>albanchez</td>\n",
       "      <td>almeria</td>\n",
       "    </tr>\n",
       "    <tr>\n",
       "      <th>4</th>\n",
       "      <td>Andalucía</td>\n",
       "      <td>Almería</td>\n",
       "      <td>Alboloduy</td>\n",
       "      <td>37.03319</td>\n",
       "      <td>-2.621750</td>\n",
       "      <td>388.43460</td>\n",
       "      <td>674</td>\n",
       "      <td>334</td>\n",
       "      <td>340</td>\n",
       "      <td>alboloduy</td>\n",
       "      <td>almeria</td>\n",
       "    </tr>\n",
       "    <tr>\n",
       "      <th>...</th>\n",
       "      <td>...</td>\n",
       "      <td>...</td>\n",
       "      <td>...</td>\n",
       "      <td>...</td>\n",
       "      <td>...</td>\n",
       "      <td>...</td>\n",
       "      <td>...</td>\n",
       "      <td>...</td>\n",
       "      <td>...</td>\n",
       "      <td>...</td>\n",
       "      <td>...</td>\n",
       "    </tr>\n",
       "    <tr>\n",
       "      <th>8107</th>\n",
       "      <td>Valencia</td>\n",
       "      <td>Valencia/València</td>\n",
       "      <td>Xeresa</td>\n",
       "      <td>39.00910</td>\n",
       "      <td>-0.217992</td>\n",
       "      <td>34.05847</td>\n",
       "      <td>2221</td>\n",
       "      <td>1124</td>\n",
       "      <td>1097</td>\n",
       "      <td>xeresa</td>\n",
       "      <td>valencia</td>\n",
       "    </tr>\n",
       "    <tr>\n",
       "      <th>8108</th>\n",
       "      <td>Valencia</td>\n",
       "      <td>Valencia/València</td>\n",
       "      <td>Xirivella</td>\n",
       "      <td>39.46669</td>\n",
       "      <td>-0.427794</td>\n",
       "      <td>35.01973</td>\n",
       "      <td>30691</td>\n",
       "      <td>15474</td>\n",
       "      <td>15217</td>\n",
       "      <td>xirivella</td>\n",
       "      <td>valencia</td>\n",
       "    </tr>\n",
       "    <tr>\n",
       "      <th>8109</th>\n",
       "      <td>Valencia</td>\n",
       "      <td>Valencia/València</td>\n",
       "      <td>Yátova</td>\n",
       "      <td>39.38500</td>\n",
       "      <td>-0.808174</td>\n",
       "      <td>441.81140</td>\n",
       "      <td>2199</td>\n",
       "      <td>1140</td>\n",
       "      <td>1059</td>\n",
       "      <td>yatova</td>\n",
       "      <td>valencia</td>\n",
       "    </tr>\n",
       "    <tr>\n",
       "      <th>8110</th>\n",
       "      <td>Valencia</td>\n",
       "      <td>Valencia/València</td>\n",
       "      <td>Yesa (La)</td>\n",
       "      <td>39.49916</td>\n",
       "      <td>-0.426125</td>\n",
       "      <td>52.28455</td>\n",
       "      <td>260</td>\n",
       "      <td>141</td>\n",
       "      <td>119</td>\n",
       "      <td>yesa, la</td>\n",
       "      <td>valencia</td>\n",
       "    </tr>\n",
       "    <tr>\n",
       "      <th>8111</th>\n",
       "      <td>Valencia</td>\n",
       "      <td>Valencia/València</td>\n",
       "      <td>Zarra</td>\n",
       "      <td>39.09138</td>\n",
       "      <td>-1.075068</td>\n",
       "      <td>576.03660</td>\n",
       "      <td>551</td>\n",
       "      <td>302</td>\n",
       "      <td>249</td>\n",
       "      <td>zarra</td>\n",
       "      <td>valencia</td>\n",
       "    </tr>\n",
       "  </tbody>\n",
       "</table>\n",
       "<p>8112 rows × 11 columns</p>\n",
       "</div>"
      ],
      "text/plain": [
       "      community           province municipality_name  latitude  longitude  \\\n",
       "0     Andalucía            Almería              Abla  37.14114  -2.780104   \n",
       "1     Andalucía            Almería          Abrucena  37.13305  -2.797098   \n",
       "2     Andalucía            Almería              Adra  36.74807  -3.022522   \n",
       "3     Andalucía            Almería         Albánchez  37.28710  -2.181163   \n",
       "4     Andalucía            Almería         Alboloduy  37.03319  -2.621750   \n",
       "...         ...                ...               ...       ...        ...   \n",
       "8107   Valencia  Valencia/València            Xeresa  39.00910  -0.217992   \n",
       "8108   Valencia  Valencia/València         Xirivella  39.46669  -0.427794   \n",
       "8109   Valencia  Valencia/València            Yátova  39.38500  -0.808174   \n",
       "8110   Valencia  Valencia/València         Yesa (La)  39.49916  -0.426125   \n",
       "8111   Valencia  Valencia/València             Zarra  39.09138  -1.075068   \n",
       "\n",
       "       altitude  population   male  female municipality_name_clean  \\\n",
       "0     871.16840        1504    783     721                    abla   \n",
       "1     976.93870        1341    682     659                abrucena   \n",
       "2      10.97898       24373  12338   12035                    adra   \n",
       "3     481.31230         815    422     393               albanchez   \n",
       "4     388.43460         674    334     340               alboloduy   \n",
       "...         ...         ...    ...     ...                     ...   \n",
       "8107   34.05847        2221   1124    1097                  xeresa   \n",
       "8108   35.01973       30691  15474   15217               xirivella   \n",
       "8109  441.81140        2199   1140    1059                  yatova   \n",
       "8110   52.28455         260    141     119                yesa, la   \n",
       "8111  576.03660         551    302     249                   zarra   \n",
       "\n",
       "     province_clean  \n",
       "0           almeria  \n",
       "1           almeria  \n",
       "2           almeria  \n",
       "3           almeria  \n",
       "4           almeria  \n",
       "...             ...  \n",
       "8107       valencia  \n",
       "8108       valencia  \n",
       "8109       valencia  \n",
       "8110       valencia  \n",
       "8111       valencia  \n",
       "\n",
       "[8112 rows x 11 columns]"
      ]
     },
     "execution_count": 28,
     "metadata": {},
     "output_type": "execute_result"
    }
   ],
   "source": [
    "df_coordinates[df_coordinates['municipality_name'] == \"Amurrio\"]\n",
    "df_coordinates[df_coordinates['municipality_name_clean'] == \"pedrosas\"]\n",
    "df_coordinates[df_coordinates['municipality_name'].str.contains(r'pedrosas', case=False, na=False)]\n",
    "\n",
    "df_coordinates"
   ]
  },
  {
   "cell_type": "code",
   "execution_count": 29,
   "metadata": {},
   "outputs": [],
   "source": [
    "df = pd.merge(df_communities, df_coordinates[['altitude', 'longitude', 'latitude', 'municipality_name_clean', 'province_clean']], \n",
    "              on=['municipality_name_clean', 'province_clean'], \n",
    "              how='left')\n",
    "\n",
    "# df = pd.merge(df_coordinates[['altitude', 'longitude', 'latitude', 'municipality_name_clean', 'province_clean']], df_communities, \n",
    "#               on=['municipality_name_clean', 'province_clean'], \n",
    "#               how='left')"
   ]
  },
  {
   "cell_type": "code",
   "execution_count": 30,
   "metadata": {},
   "outputs": [
    {
     "data": {
      "text/html": [
       "<div>\n",
       "<style scoped>\n",
       "    .dataframe tbody tr th:only-of-type {\n",
       "        vertical-align: middle;\n",
       "    }\n",
       "\n",
       "    .dataframe tbody tr th {\n",
       "        vertical-align: top;\n",
       "    }\n",
       "\n",
       "    .dataframe thead th {\n",
       "        text-align: right;\n",
       "    }\n",
       "</style>\n",
       "<table border=\"1\" class=\"dataframe\">\n",
       "  <thead>\n",
       "    <tr style=\"text-align: right;\">\n",
       "      <th></th>\n",
       "      <th>province_code</th>\n",
       "      <th>province</th>\n",
       "      <th>municipality_code</th>\n",
       "      <th>municipality_name</th>\n",
       "      <th>population</th>\n",
       "      <th>male</th>\n",
       "      <th>female</th>\n",
       "      <th>municipality_name_clean</th>\n",
       "      <th>province_clean</th>\n",
       "      <th>altitude</th>\n",
       "      <th>longitude</th>\n",
       "      <th>latitude</th>\n",
       "    </tr>\n",
       "  </thead>\n",
       "  <tbody>\n",
       "    <tr>\n",
       "      <th>0</th>\n",
       "      <td>1</td>\n",
       "      <td>Álava</td>\n",
       "      <td>1</td>\n",
       "      <td>Alegría-Dulantzi</td>\n",
       "      <td>2971</td>\n",
       "      <td>1531</td>\n",
       "      <td>1440</td>\n",
       "      <td>alegria-dulantzi</td>\n",
       "      <td>alava</td>\n",
       "      <td>561.68570</td>\n",
       "      <td>-2.513507</td>\n",
       "      <td>42.84149</td>\n",
       "    </tr>\n",
       "    <tr>\n",
       "      <th>1</th>\n",
       "      <td>1</td>\n",
       "      <td>Álava</td>\n",
       "      <td>2</td>\n",
       "      <td>Amurrio</td>\n",
       "      <td>10330</td>\n",
       "      <td>5149</td>\n",
       "      <td>5181</td>\n",
       "      <td>amurrio</td>\n",
       "      <td>alava</td>\n",
       "      <td>219.69100</td>\n",
       "      <td>-3.001022</td>\n",
       "      <td>43.05265</td>\n",
       "    </tr>\n",
       "    <tr>\n",
       "      <th>2</th>\n",
       "      <td>1</td>\n",
       "      <td>Álava</td>\n",
       "      <td>3</td>\n",
       "      <td>Aramaio</td>\n",
       "      <td>1381</td>\n",
       "      <td>709</td>\n",
       "      <td>672</td>\n",
       "      <td>aramaio</td>\n",
       "      <td>alava</td>\n",
       "      <td>381.87970</td>\n",
       "      <td>-2.566000</td>\n",
       "      <td>43.05400</td>\n",
       "    </tr>\n",
       "    <tr>\n",
       "      <th>3</th>\n",
       "      <td>1</td>\n",
       "      <td>Álava</td>\n",
       "      <td>4</td>\n",
       "      <td>Artziniega</td>\n",
       "      <td>1856</td>\n",
       "      <td>913</td>\n",
       "      <td>943</td>\n",
       "      <td>artziniega</td>\n",
       "      <td>alava</td>\n",
       "      <td>196.98080</td>\n",
       "      <td>-3.128209</td>\n",
       "      <td>43.12220</td>\n",
       "    </tr>\n",
       "    <tr>\n",
       "      <th>4</th>\n",
       "      <td>1</td>\n",
       "      <td>Álava</td>\n",
       "      <td>6</td>\n",
       "      <td>Armiñón</td>\n",
       "      <td>247</td>\n",
       "      <td>127</td>\n",
       "      <td>120</td>\n",
       "      <td>arminon</td>\n",
       "      <td>alava</td>\n",
       "      <td>463.58150</td>\n",
       "      <td>-2.872574</td>\n",
       "      <td>42.72305</td>\n",
       "    </tr>\n",
       "    <tr>\n",
       "      <th>...</th>\n",
       "      <td>...</td>\n",
       "      <td>...</td>\n",
       "      <td>...</td>\n",
       "      <td>...</td>\n",
       "      <td>...</td>\n",
       "      <td>...</td>\n",
       "      <td>...</td>\n",
       "      <td>...</td>\n",
       "      <td>...</td>\n",
       "      <td>...</td>\n",
       "      <td>...</td>\n",
       "      <td>...</td>\n",
       "    </tr>\n",
       "    <tr>\n",
       "      <th>8128</th>\n",
       "      <td>50</td>\n",
       "      <td>Zaragoza</td>\n",
       "      <td>901</td>\n",
       "      <td>Biel</td>\n",
       "      <td>170</td>\n",
       "      <td>104</td>\n",
       "      <td>66</td>\n",
       "      <td>biel</td>\n",
       "      <td>zaragoza</td>\n",
       "      <td>754.24450</td>\n",
       "      <td>-0.936588</td>\n",
       "      <td>42.38749</td>\n",
       "    </tr>\n",
       "    <tr>\n",
       "      <th>8129</th>\n",
       "      <td>50</td>\n",
       "      <td>Zaragoza</td>\n",
       "      <td>902</td>\n",
       "      <td>Marracos</td>\n",
       "      <td>85</td>\n",
       "      <td>43</td>\n",
       "      <td>42</td>\n",
       "      <td>marracos</td>\n",
       "      <td>zaragoza</td>\n",
       "      <td>404.73610</td>\n",
       "      <td>-0.776047</td>\n",
       "      <td>42.09059</td>\n",
       "    </tr>\n",
       "    <tr>\n",
       "      <th>8130</th>\n",
       "      <td>50</td>\n",
       "      <td>Zaragoza</td>\n",
       "      <td>903</td>\n",
       "      <td>Villamayor de Gállego</td>\n",
       "      <td>2854</td>\n",
       "      <td>1446</td>\n",
       "      <td>1408</td>\n",
       "      <td>villamayor de gallego</td>\n",
       "      <td>zaragoza</td>\n",
       "      <td>231.12340</td>\n",
       "      <td>-0.773315</td>\n",
       "      <td>41.68518</td>\n",
       "    </tr>\n",
       "    <tr>\n",
       "      <th>8131</th>\n",
       "      <td>51</td>\n",
       "      <td>Ceuta</td>\n",
       "      <td>1</td>\n",
       "      <td>Ceuta</td>\n",
       "      <td>83229</td>\n",
       "      <td>41980</td>\n",
       "      <td>41249</td>\n",
       "      <td>ceuta</td>\n",
       "      <td>ceuta</td>\n",
       "      <td>13.47725</td>\n",
       "      <td>-5.316195</td>\n",
       "      <td>35.88829</td>\n",
       "    </tr>\n",
       "    <tr>\n",
       "      <th>8132</th>\n",
       "      <td>52</td>\n",
       "      <td>Melilla</td>\n",
       "      <td>1</td>\n",
       "      <td>Melilla</td>\n",
       "      <td>85811</td>\n",
       "      <td>43154</td>\n",
       "      <td>42657</td>\n",
       "      <td>melilla</td>\n",
       "      <td>melilla</td>\n",
       "      <td>10.33370</td>\n",
       "      <td>-2.938794</td>\n",
       "      <td>35.29234</td>\n",
       "    </tr>\n",
       "  </tbody>\n",
       "</table>\n",
       "<p>8133 rows × 12 columns</p>\n",
       "</div>"
      ],
      "text/plain": [
       "      province_code  province  municipality_code      municipality_name  \\\n",
       "0                 1     Álava                  1       Alegría-Dulantzi   \n",
       "1                 1     Álava                  2                Amurrio   \n",
       "2                 1     Álava                  3                Aramaio   \n",
       "3                 1     Álava                  4             Artziniega   \n",
       "4                 1     Álava                  6                Armiñón   \n",
       "...             ...       ...                ...                    ...   \n",
       "8128             50  Zaragoza                901                   Biel   \n",
       "8129             50  Zaragoza                902               Marracos   \n",
       "8130             50  Zaragoza                903  Villamayor de Gállego   \n",
       "8131             51     Ceuta                  1                  Ceuta   \n",
       "8132             52   Melilla                  1                Melilla   \n",
       "\n",
       "      population   male  female municipality_name_clean province_clean  \\\n",
       "0           2971   1531    1440        alegria-dulantzi          alava   \n",
       "1          10330   5149    5181                 amurrio          alava   \n",
       "2           1381    709     672                 aramaio          alava   \n",
       "3           1856    913     943              artziniega          alava   \n",
       "4            247    127     120                 arminon          alava   \n",
       "...          ...    ...     ...                     ...            ...   \n",
       "8128         170    104      66                    biel       zaragoza   \n",
       "8129          85     43      42                marracos       zaragoza   \n",
       "8130        2854   1446    1408   villamayor de gallego       zaragoza   \n",
       "8131       83229  41980   41249                   ceuta          ceuta   \n",
       "8132       85811  43154   42657                 melilla        melilla   \n",
       "\n",
       "       altitude  longitude  latitude  \n",
       "0     561.68570  -2.513507  42.84149  \n",
       "1     219.69100  -3.001022  43.05265  \n",
       "2     381.87970  -2.566000  43.05400  \n",
       "3     196.98080  -3.128209  43.12220  \n",
       "4     463.58150  -2.872574  42.72305  \n",
       "...         ...        ...       ...  \n",
       "8128  754.24450  -0.936588  42.38749  \n",
       "8129  404.73610  -0.776047  42.09059  \n",
       "8130  231.12340  -0.773315  41.68518  \n",
       "8131   13.47725  -5.316195  35.88829  \n",
       "8132   10.33370  -2.938794  35.29234  \n",
       "\n",
       "[8133 rows x 12 columns]"
      ]
     },
     "execution_count": 30,
     "metadata": {},
     "output_type": "execute_result"
    }
   ],
   "source": [
    "df"
   ]
  },
  {
   "cell_type": "code",
   "execution_count": 31,
   "metadata": {},
   "outputs": [
    {
     "data": {
      "text/html": [
       "<div>\n",
       "<style scoped>\n",
       "    .dataframe tbody tr th:only-of-type {\n",
       "        vertical-align: middle;\n",
       "    }\n",
       "\n",
       "    .dataframe tbody tr th {\n",
       "        vertical-align: top;\n",
       "    }\n",
       "\n",
       "    .dataframe thead th {\n",
       "        text-align: right;\n",
       "    }\n",
       "</style>\n",
       "<table border=\"1\" class=\"dataframe\">\n",
       "  <thead>\n",
       "    <tr style=\"text-align: right;\">\n",
       "      <th></th>\n",
       "      <th>community</th>\n",
       "      <th>province</th>\n",
       "      <th>municipality_name</th>\n",
       "      <th>latitude</th>\n",
       "      <th>longitude</th>\n",
       "      <th>altitude</th>\n",
       "      <th>population</th>\n",
       "      <th>male</th>\n",
       "      <th>female</th>\n",
       "      <th>municipality_name_clean</th>\n",
       "      <th>province_clean</th>\n",
       "    </tr>\n",
       "  </thead>\n",
       "  <tbody>\n",
       "    <tr>\n",
       "      <th>7846</th>\n",
       "      <td>Valencia</td>\n",
       "      <td>Valencia/València</td>\n",
       "      <td>Ademuz</td>\n",
       "      <td>40.06174</td>\n",
       "      <td>-1.286526</td>\n",
       "      <td>753.28660</td>\n",
       "      <td>1286</td>\n",
       "      <td>689</td>\n",
       "      <td>597</td>\n",
       "      <td>ademuz</td>\n",
       "      <td>valencia</td>\n",
       "    </tr>\n",
       "    <tr>\n",
       "      <th>7847</th>\n",
       "      <td>Valencia</td>\n",
       "      <td>Valencia/València</td>\n",
       "      <td>Ador</td>\n",
       "      <td>38.91941</td>\n",
       "      <td>-0.224290</td>\n",
       "      <td>99.20180</td>\n",
       "      <td>1474</td>\n",
       "      <td>766</td>\n",
       "      <td>708</td>\n",
       "      <td>ador</td>\n",
       "      <td>valencia</td>\n",
       "    </tr>\n",
       "    <tr>\n",
       "      <th>7848</th>\n",
       "      <td>Valencia</td>\n",
       "      <td>Valencia/València</td>\n",
       "      <td>Agullent</td>\n",
       "      <td>38.82132</td>\n",
       "      <td>-0.548935</td>\n",
       "      <td>426.09100</td>\n",
       "      <td>2449</td>\n",
       "      <td>1199</td>\n",
       "      <td>1250</td>\n",
       "      <td>agullent</td>\n",
       "      <td>valencia</td>\n",
       "    </tr>\n",
       "    <tr>\n",
       "      <th>7849</th>\n",
       "      <td>Valencia</td>\n",
       "      <td>Valencia/València</td>\n",
       "      <td>Aielo de Malferit</td>\n",
       "      <td>38.87661</td>\n",
       "      <td>-0.592110</td>\n",
       "      <td>282.56170</td>\n",
       "      <td>4679</td>\n",
       "      <td>2339</td>\n",
       "      <td>2340</td>\n",
       "      <td>aielo de malferit</td>\n",
       "      <td>valencia</td>\n",
       "    </tr>\n",
       "    <tr>\n",
       "      <th>7850</th>\n",
       "      <td>Valencia</td>\n",
       "      <td>Valencia/València</td>\n",
       "      <td>Aielo de Rugat</td>\n",
       "      <td>38.88166</td>\n",
       "      <td>-0.343009</td>\n",
       "      <td>267.10810</td>\n",
       "      <td>189</td>\n",
       "      <td>104</td>\n",
       "      <td>85</td>\n",
       "      <td>aielo de rugat</td>\n",
       "      <td>valencia</td>\n",
       "    </tr>\n",
       "    <tr>\n",
       "      <th>...</th>\n",
       "      <td>...</td>\n",
       "      <td>...</td>\n",
       "      <td>...</td>\n",
       "      <td>...</td>\n",
       "      <td>...</td>\n",
       "      <td>...</td>\n",
       "      <td>...</td>\n",
       "      <td>...</td>\n",
       "      <td>...</td>\n",
       "      <td>...</td>\n",
       "      <td>...</td>\n",
       "    </tr>\n",
       "    <tr>\n",
       "      <th>8107</th>\n",
       "      <td>Valencia</td>\n",
       "      <td>Valencia/València</td>\n",
       "      <td>Xeresa</td>\n",
       "      <td>39.00910</td>\n",
       "      <td>-0.217992</td>\n",
       "      <td>34.05847</td>\n",
       "      <td>2221</td>\n",
       "      <td>1124</td>\n",
       "      <td>1097</td>\n",
       "      <td>xeresa</td>\n",
       "      <td>valencia</td>\n",
       "    </tr>\n",
       "    <tr>\n",
       "      <th>8108</th>\n",
       "      <td>Valencia</td>\n",
       "      <td>Valencia/València</td>\n",
       "      <td>Xirivella</td>\n",
       "      <td>39.46669</td>\n",
       "      <td>-0.427794</td>\n",
       "      <td>35.01973</td>\n",
       "      <td>30691</td>\n",
       "      <td>15474</td>\n",
       "      <td>15217</td>\n",
       "      <td>xirivella</td>\n",
       "      <td>valencia</td>\n",
       "    </tr>\n",
       "    <tr>\n",
       "      <th>8109</th>\n",
       "      <td>Valencia</td>\n",
       "      <td>Valencia/València</td>\n",
       "      <td>Yátova</td>\n",
       "      <td>39.38500</td>\n",
       "      <td>-0.808174</td>\n",
       "      <td>441.81140</td>\n",
       "      <td>2199</td>\n",
       "      <td>1140</td>\n",
       "      <td>1059</td>\n",
       "      <td>yatova</td>\n",
       "      <td>valencia</td>\n",
       "    </tr>\n",
       "    <tr>\n",
       "      <th>8110</th>\n",
       "      <td>Valencia</td>\n",
       "      <td>Valencia/València</td>\n",
       "      <td>Yesa (La)</td>\n",
       "      <td>39.49916</td>\n",
       "      <td>-0.426125</td>\n",
       "      <td>52.28455</td>\n",
       "      <td>260</td>\n",
       "      <td>141</td>\n",
       "      <td>119</td>\n",
       "      <td>yesa, la</td>\n",
       "      <td>valencia</td>\n",
       "    </tr>\n",
       "    <tr>\n",
       "      <th>8111</th>\n",
       "      <td>Valencia</td>\n",
       "      <td>Valencia/València</td>\n",
       "      <td>Zarra</td>\n",
       "      <td>39.09138</td>\n",
       "      <td>-1.075068</td>\n",
       "      <td>576.03660</td>\n",
       "      <td>551</td>\n",
       "      <td>302</td>\n",
       "      <td>249</td>\n",
       "      <td>zarra</td>\n",
       "      <td>valencia</td>\n",
       "    </tr>\n",
       "  </tbody>\n",
       "</table>\n",
       "<p>266 rows × 11 columns</p>\n",
       "</div>"
      ],
      "text/plain": [
       "     community           province  municipality_name  latitude  longitude  \\\n",
       "7846  Valencia  Valencia/València             Ademuz  40.06174  -1.286526   \n",
       "7847  Valencia  Valencia/València               Ador  38.91941  -0.224290   \n",
       "7848  Valencia  Valencia/València           Agullent  38.82132  -0.548935   \n",
       "7849  Valencia  Valencia/València  Aielo de Malferit  38.87661  -0.592110   \n",
       "7850  Valencia  Valencia/València     Aielo de Rugat  38.88166  -0.343009   \n",
       "...        ...                ...                ...       ...        ...   \n",
       "8107  Valencia  Valencia/València             Xeresa  39.00910  -0.217992   \n",
       "8108  Valencia  Valencia/València          Xirivella  39.46669  -0.427794   \n",
       "8109  Valencia  Valencia/València             Yátova  39.38500  -0.808174   \n",
       "8110  Valencia  Valencia/València          Yesa (La)  39.49916  -0.426125   \n",
       "8111  Valencia  Valencia/València              Zarra  39.09138  -1.075068   \n",
       "\n",
       "       altitude  population   male  female municipality_name_clean  \\\n",
       "7846  753.28660        1286    689     597                  ademuz   \n",
       "7847   99.20180        1474    766     708                    ador   \n",
       "7848  426.09100        2449   1199    1250                agullent   \n",
       "7849  282.56170        4679   2339    2340       aielo de malferit   \n",
       "7850  267.10810         189    104      85          aielo de rugat   \n",
       "...         ...         ...    ...     ...                     ...   \n",
       "8107   34.05847        2221   1124    1097                  xeresa   \n",
       "8108   35.01973       30691  15474   15217               xirivella   \n",
       "8109  441.81140        2199   1140    1059                  yatova   \n",
       "8110   52.28455         260    141     119                yesa, la   \n",
       "8111  576.03660         551    302     249                   zarra   \n",
       "\n",
       "     province_clean  \n",
       "7846       valencia  \n",
       "7847       valencia  \n",
       "7848       valencia  \n",
       "7849       valencia  \n",
       "7850       valencia  \n",
       "...             ...  \n",
       "8107       valencia  \n",
       "8108       valencia  \n",
       "8109       valencia  \n",
       "8110       valencia  \n",
       "8111       valencia  \n",
       "\n",
       "[266 rows x 11 columns]"
      ]
     },
     "execution_count": 31,
     "metadata": {},
     "output_type": "execute_result"
    }
   ],
   "source": [
    "valencia = df_coordinates[df_coordinates['province_clean'] == 'valencia']\n",
    "valencia"
   ]
  },
  {
   "cell_type": "code",
   "execution_count": 32,
   "metadata": {},
   "outputs": [
    {
     "data": {
      "text/html": [
       "<div>\n",
       "<style scoped>\n",
       "    .dataframe tbody tr th:only-of-type {\n",
       "        vertical-align: middle;\n",
       "    }\n",
       "\n",
       "    .dataframe tbody tr th {\n",
       "        vertical-align: top;\n",
       "    }\n",
       "\n",
       "    .dataframe thead th {\n",
       "        text-align: right;\n",
       "    }\n",
       "</style>\n",
       "<table border=\"1\" class=\"dataframe\">\n",
       "  <thead>\n",
       "    <tr style=\"text-align: right;\">\n",
       "      <th></th>\n",
       "      <th>province_code</th>\n",
       "      <th>province</th>\n",
       "      <th>municipality_code</th>\n",
       "      <th>municipality_name</th>\n",
       "      <th>population</th>\n",
       "      <th>male</th>\n",
       "      <th>female</th>\n",
       "      <th>municipality_name_clean</th>\n",
       "      <th>province_clean</th>\n",
       "      <th>altitude</th>\n",
       "      <th>longitude</th>\n",
       "      <th>latitude</th>\n",
       "    </tr>\n",
       "  </thead>\n",
       "  <tbody>\n",
       "    <tr>\n",
       "      <th>7106</th>\n",
       "      <td>46</td>\n",
       "      <td>Valencia</td>\n",
       "      <td>121</td>\n",
       "      <td>Estubeny</td>\n",
       "      <td>109</td>\n",
       "      <td>54</td>\n",
       "      <td>55</td>\n",
       "      <td>estubeny</td>\n",
       "      <td>valencia</td>\n",
       "      <td>167.09150</td>\n",
       "      <td>-0.623651</td>\n",
       "      <td>39.01794</td>\n",
       "    </tr>\n",
       "    <tr>\n",
       "      <th>7052</th>\n",
       "      <td>46</td>\n",
       "      <td>Valencia</td>\n",
       "      <td>67</td>\n",
       "      <td>Benissanó</td>\n",
       "      <td>2427</td>\n",
       "      <td>1186</td>\n",
       "      <td>1241</td>\n",
       "      <td>benissano</td>\n",
       "      <td>valencia</td>\n",
       "      <td>NaN</td>\n",
       "      <td>NaN</td>\n",
       "      <td>NaN</td>\n",
       "    </tr>\n",
       "    <tr>\n",
       "      <th>7006</th>\n",
       "      <td>46</td>\n",
       "      <td>Valencia</td>\n",
       "      <td>21</td>\n",
       "      <td>Aldaia</td>\n",
       "      <td>34035</td>\n",
       "      <td>17136</td>\n",
       "      <td>16899</td>\n",
       "      <td>aldaia</td>\n",
       "      <td>valencia</td>\n",
       "      <td>49.20547</td>\n",
       "      <td>-0.461358</td>\n",
       "      <td>39.46505</td>\n",
       "    </tr>\n",
       "    <tr>\n",
       "      <th>7181</th>\n",
       "      <td>46</td>\n",
       "      <td>Valencia</td>\n",
       "      <td>196</td>\n",
       "      <td>Pinet</td>\n",
       "      <td>148</td>\n",
       "      <td>72</td>\n",
       "      <td>76</td>\n",
       "      <td>pinet</td>\n",
       "      <td>valencia</td>\n",
       "      <td>352.60490</td>\n",
       "      <td>-0.338099</td>\n",
       "      <td>38.98334</td>\n",
       "    </tr>\n",
       "    <tr>\n",
       "      <th>7124</th>\n",
       "      <td>46</td>\n",
       "      <td>Valencia</td>\n",
       "      <td>139</td>\n",
       "      <td>Guadassuar</td>\n",
       "      <td>5992</td>\n",
       "      <td>2901</td>\n",
       "      <td>3091</td>\n",
       "      <td>guadassuar</td>\n",
       "      <td>valencia</td>\n",
       "      <td>33.00380</td>\n",
       "      <td>-0.479225</td>\n",
       "      <td>39.18823</td>\n",
       "    </tr>\n",
       "    <tr>\n",
       "      <th>7241</th>\n",
       "      <td>46</td>\n",
       "      <td>Valencia</td>\n",
       "      <td>256</td>\n",
       "      <td>Vilamarxant</td>\n",
       "      <td>11041</td>\n",
       "      <td>5729</td>\n",
       "      <td>5312</td>\n",
       "      <td>vilamarxant</td>\n",
       "      <td>valencia</td>\n",
       "      <td>106.54280</td>\n",
       "      <td>-0.622273</td>\n",
       "      <td>39.56751</td>\n",
       "    </tr>\n",
       "    <tr>\n",
       "      <th>7159</th>\n",
       "      <td>46</td>\n",
       "      <td>Valencia</td>\n",
       "      <td>174</td>\n",
       "      <td>Montesa</td>\n",
       "      <td>1134</td>\n",
       "      <td>571</td>\n",
       "      <td>563</td>\n",
       "      <td>montesa</td>\n",
       "      <td>valencia</td>\n",
       "      <td>286.93740</td>\n",
       "      <td>-0.651104</td>\n",
       "      <td>38.94968</td>\n",
       "    </tr>\n",
       "    <tr>\n",
       "      <th>7071</th>\n",
       "      <td>46</td>\n",
       "      <td>Valencia</td>\n",
       "      <td>86</td>\n",
       "      <td>Carrícola</td>\n",
       "      <td>99</td>\n",
       "      <td>49</td>\n",
       "      <td>50</td>\n",
       "      <td>carricola</td>\n",
       "      <td>valencia</td>\n",
       "      <td>336.89910</td>\n",
       "      <td>-0.471664</td>\n",
       "      <td>38.84059</td>\n",
       "    </tr>\n",
       "    <tr>\n",
       "      <th>7053</th>\n",
       "      <td>46</td>\n",
       "      <td>Valencia</td>\n",
       "      <td>68</td>\n",
       "      <td>Benissoda</td>\n",
       "      <td>485</td>\n",
       "      <td>260</td>\n",
       "      <td>225</td>\n",
       "      <td>benissoda</td>\n",
       "      <td>valencia</td>\n",
       "      <td>334.61830</td>\n",
       "      <td>-0.530893</td>\n",
       "      <td>38.83270</td>\n",
       "    </tr>\n",
       "    <tr>\n",
       "      <th>7250</th>\n",
       "      <td>46</td>\n",
       "      <td>Valencia</td>\n",
       "      <td>903</td>\n",
       "      <td>San Antonio de Benagéber</td>\n",
       "      <td>10630</td>\n",
       "      <td>5227</td>\n",
       "      <td>5403</td>\n",
       "      <td>san antonio de benageber</td>\n",
       "      <td>valencia</td>\n",
       "      <td>117.69170</td>\n",
       "      <td>-0.500475</td>\n",
       "      <td>39.56189</td>\n",
       "    </tr>\n",
       "  </tbody>\n",
       "</table>\n",
       "</div>"
      ],
      "text/plain": [
       "      province_code  province  municipality_code         municipality_name  \\\n",
       "7106             46  Valencia                121                  Estubeny   \n",
       "7052             46  Valencia                 67                 Benissanó   \n",
       "7006             46  Valencia                 21                    Aldaia   \n",
       "7181             46  Valencia                196                     Pinet   \n",
       "7124             46  Valencia                139                Guadassuar   \n",
       "7241             46  Valencia                256               Vilamarxant   \n",
       "7159             46  Valencia                174                   Montesa   \n",
       "7071             46  Valencia                 86                 Carrícola   \n",
       "7053             46  Valencia                 68                 Benissoda   \n",
       "7250             46  Valencia                903  San Antonio de Benagéber   \n",
       "\n",
       "      population   male  female   municipality_name_clean province_clean  \\\n",
       "7106         109     54      55                  estubeny       valencia   \n",
       "7052        2427   1186    1241                 benissano       valencia   \n",
       "7006       34035  17136   16899                    aldaia       valencia   \n",
       "7181         148     72      76                     pinet       valencia   \n",
       "7124        5992   2901    3091                guadassuar       valencia   \n",
       "7241       11041   5729    5312               vilamarxant       valencia   \n",
       "7159        1134    571     563                   montesa       valencia   \n",
       "7071          99     49      50                 carricola       valencia   \n",
       "7053         485    260     225                 benissoda       valencia   \n",
       "7250       10630   5227    5403  san antonio de benageber       valencia   \n",
       "\n",
       "       altitude  longitude  latitude  \n",
       "7106  167.09150  -0.623651  39.01794  \n",
       "7052        NaN        NaN       NaN  \n",
       "7006   49.20547  -0.461358  39.46505  \n",
       "7181  352.60490  -0.338099  38.98334  \n",
       "7124   33.00380  -0.479225  39.18823  \n",
       "7241  106.54280  -0.622273  39.56751  \n",
       "7159  286.93740  -0.651104  38.94968  \n",
       "7071  336.89910  -0.471664  38.84059  \n",
       "7053  334.61830  -0.530893  38.83270  \n",
       "7250  117.69170  -0.500475  39.56189  "
      ]
     },
     "execution_count": 32,
     "metadata": {},
     "output_type": "execute_result"
    }
   ],
   "source": [
    "valencia = df[df['province_clean'] == 'valencia']\n",
    "valencia.sample(10)"
   ]
  },
  {
   "cell_type": "code",
   "execution_count": 34,
   "metadata": {},
   "outputs": [
    {
     "data": {
      "text/html": [
       "<div>\n",
       "<style scoped>\n",
       "    .dataframe tbody tr th:only-of-type {\n",
       "        vertical-align: middle;\n",
       "    }\n",
       "\n",
       "    .dataframe tbody tr th {\n",
       "        vertical-align: top;\n",
       "    }\n",
       "\n",
       "    .dataframe thead th {\n",
       "        text-align: right;\n",
       "    }\n",
       "</style>\n",
       "<table border=\"1\" class=\"dataframe\">\n",
       "  <thead>\n",
       "    <tr style=\"text-align: right;\">\n",
       "      <th></th>\n",
       "      <th>province_code</th>\n",
       "      <th>province</th>\n",
       "      <th>municipality_code</th>\n",
       "      <th>municipality_name</th>\n",
       "      <th>population</th>\n",
       "      <th>male</th>\n",
       "      <th>female</th>\n",
       "      <th>municipality_name_clean</th>\n",
       "      <th>province_clean</th>\n",
       "      <th>altitude</th>\n",
       "      <th>longitude</th>\n",
       "      <th>latitude</th>\n",
       "    </tr>\n",
       "  </thead>\n",
       "  <tbody>\n",
       "    <tr>\n",
       "      <th>4359</th>\n",
       "      <td>28</td>\n",
       "      <td>Madrid</td>\n",
       "      <td>70</td>\n",
       "      <td>Horcajo de la Sierra-Aoslos</td>\n",
       "      <td>233</td>\n",
       "      <td>113</td>\n",
       "      <td>120</td>\n",
       "      <td>horcajo de la sierra-aoslos</td>\n",
       "      <td>madrid</td>\n",
       "      <td>NaN</td>\n",
       "      <td>NaN</td>\n",
       "      <td>NaN</td>\n",
       "    </tr>\n",
       "    <tr>\n",
       "      <th>7498</th>\n",
       "      <td>48</td>\n",
       "      <td>Bizkaia</td>\n",
       "      <td>22</td>\n",
       "      <td>Karrantza Harana/Valle de Carranza</td>\n",
       "      <td>2711</td>\n",
       "      <td>1418</td>\n",
       "      <td>1293</td>\n",
       "      <td>karrantza harana</td>\n",
       "      <td>bizkaia</td>\n",
       "      <td>NaN</td>\n",
       "      <td>NaN</td>\n",
       "      <td>NaN</td>\n",
       "    </tr>\n",
       "    <tr>\n",
       "      <th>3160</th>\n",
       "      <td>20</td>\n",
       "      <td>Gipuzkoa</td>\n",
       "      <td>21</td>\n",
       "      <td>Belauntza</td>\n",
       "      <td>288</td>\n",
       "      <td>150</td>\n",
       "      <td>138</td>\n",
       "      <td>belauntza</td>\n",
       "      <td>gipuzkoa</td>\n",
       "      <td>NaN</td>\n",
       "      <td>NaN</td>\n",
       "      <td>NaN</td>\n",
       "    </tr>\n",
       "    <tr>\n",
       "      <th>7556</th>\n",
       "      <td>48</td>\n",
       "      <td>Bizkaia</td>\n",
       "      <td>80</td>\n",
       "      <td>Valle de Trápaga-Trapagaran</td>\n",
       "      <td>11898</td>\n",
       "      <td>5804</td>\n",
       "      <td>6094</td>\n",
       "      <td>valle de trapaga-trapagaran</td>\n",
       "      <td>bizkaia</td>\n",
       "      <td>NaN</td>\n",
       "      <td>NaN</td>\n",
       "      <td>NaN</td>\n",
       "    </tr>\n",
       "    <tr>\n",
       "      <th>3161</th>\n",
       "      <td>20</td>\n",
       "      <td>Gipuzkoa</td>\n",
       "      <td>22</td>\n",
       "      <td>Berastegi</td>\n",
       "      <td>1111</td>\n",
       "      <td>575</td>\n",
       "      <td>536</td>\n",
       "      <td>berastegi</td>\n",
       "      <td>gipuzkoa</td>\n",
       "      <td>NaN</td>\n",
       "      <td>NaN</td>\n",
       "      <td>NaN</td>\n",
       "    </tr>\n",
       "    <tr>\n",
       "      <th>3173</th>\n",
       "      <td>20</td>\n",
       "      <td>Gipuzkoa</td>\n",
       "      <td>34</td>\n",
       "      <td>Eskoriatza</td>\n",
       "      <td>4241</td>\n",
       "      <td>2131</td>\n",
       "      <td>2110</td>\n",
       "      <td>eskoriatza</td>\n",
       "      <td>gipuzkoa</td>\n",
       "      <td>NaN</td>\n",
       "      <td>NaN</td>\n",
       "      <td>NaN</td>\n",
       "    </tr>\n",
       "    <tr>\n",
       "      <th>7207</th>\n",
       "      <td>46</td>\n",
       "      <td>Valencia</td>\n",
       "      <td>222</td>\n",
       "      <td>Sant Joanet</td>\n",
       "      <td>526</td>\n",
       "      <td>256</td>\n",
       "      <td>270</td>\n",
       "      <td>sant joanet</td>\n",
       "      <td>valencia</td>\n",
       "      <td>NaN</td>\n",
       "      <td>NaN</td>\n",
       "      <td>NaN</td>\n",
       "    </tr>\n",
       "    <tr>\n",
       "      <th>3172</th>\n",
       "      <td>20</td>\n",
       "      <td>Gipuzkoa</td>\n",
       "      <td>33</td>\n",
       "      <td>Elgeta</td>\n",
       "      <td>1130</td>\n",
       "      <td>564</td>\n",
       "      <td>566</td>\n",
       "      <td>elgeta</td>\n",
       "      <td>gipuzkoa</td>\n",
       "      <td>NaN</td>\n",
       "      <td>NaN</td>\n",
       "      <td>NaN</td>\n",
       "    </tr>\n",
       "    <tr>\n",
       "      <th>7530</th>\n",
       "      <td>48</td>\n",
       "      <td>Bizkaia</td>\n",
       "      <td>54</td>\n",
       "      <td>Leioa</td>\n",
       "      <td>32683</td>\n",
       "      <td>15979</td>\n",
       "      <td>16704</td>\n",
       "      <td>leioa</td>\n",
       "      <td>bizkaia</td>\n",
       "      <td>NaN</td>\n",
       "      <td>NaN</td>\n",
       "      <td>NaN</td>\n",
       "    </tr>\n",
       "    <tr>\n",
       "      <th>1931</th>\n",
       "      <td>12</td>\n",
       "      <td>Castellón</td>\n",
       "      <td>129</td>\n",
       "      <td>Vilafranca/Villafranca del Cid</td>\n",
       "      <td>2139</td>\n",
       "      <td>1088</td>\n",
       "      <td>1051</td>\n",
       "      <td>vilafranca</td>\n",
       "      <td>castellon</td>\n",
       "      <td>NaN</td>\n",
       "      <td>NaN</td>\n",
       "      <td>NaN</td>\n",
       "    </tr>\n",
       "    <tr>\n",
       "      <th>151</th>\n",
       "      <td>3</td>\n",
       "      <td>Alicante</td>\n",
       "      <td>14</td>\n",
       "      <td>Alacant/Alicante</td>\n",
       "      <td>358720</td>\n",
       "      <td>173006</td>\n",
       "      <td>185714</td>\n",
       "      <td>alacant</td>\n",
       "      <td>alicante</td>\n",
       "      <td>NaN</td>\n",
       "      <td>NaN</td>\n",
       "      <td>NaN</td>\n",
       "    </tr>\n",
       "    <tr>\n",
       "      <th>7544</th>\n",
       "      <td>48</td>\n",
       "      <td>Bizkaia</td>\n",
       "      <td>68</td>\n",
       "      <td>Mundaka</td>\n",
       "      <td>1828</td>\n",
       "      <td>902</td>\n",
       "      <td>926</td>\n",
       "      <td>mundaka</td>\n",
       "      <td>bizkaia</td>\n",
       "      <td>NaN</td>\n",
       "      <td>NaN</td>\n",
       "      <td>NaN</td>\n",
       "    </tr>\n",
       "    <tr>\n",
       "      <th>3186</th>\n",
       "      <td>20</td>\n",
       "      <td>Gipuzkoa</td>\n",
       "      <td>47</td>\n",
       "      <td>Itsasondo</td>\n",
       "      <td>670</td>\n",
       "      <td>339</td>\n",
       "      <td>331</td>\n",
       "      <td>itsasondo</td>\n",
       "      <td>gipuzkoa</td>\n",
       "      <td>NaN</td>\n",
       "      <td>NaN</td>\n",
       "      <td>NaN</td>\n",
       "    </tr>\n",
       "    <tr>\n",
       "      <th>6019</th>\n",
       "      <td>40</td>\n",
       "      <td>Segovia</td>\n",
       "      <td>181</td>\n",
       "      <td>Real Sitio de San Ildefonso</td>\n",
       "      <td>5205</td>\n",
       "      <td>2549</td>\n",
       "      <td>2656</td>\n",
       "      <td>real sitio de san ildefonso</td>\n",
       "      <td>segovia</td>\n",
       "      <td>NaN</td>\n",
       "      <td>NaN</td>\n",
       "      <td>NaN</td>\n",
       "    </tr>\n",
       "    <tr>\n",
       "      <th>3150</th>\n",
       "      <td>20</td>\n",
       "      <td>Gipuzkoa</td>\n",
       "      <td>11</td>\n",
       "      <td>Antzuola</td>\n",
       "      <td>2069</td>\n",
       "      <td>1022</td>\n",
       "      <td>1047</td>\n",
       "      <td>antzuola</td>\n",
       "      <td>gipuzkoa</td>\n",
       "      <td>NaN</td>\n",
       "      <td>NaN</td>\n",
       "      <td>NaN</td>\n",
       "    </tr>\n",
       "  </tbody>\n",
       "</table>\n",
       "</div>"
      ],
      "text/plain": [
       "      province_code   province  municipality_code  \\\n",
       "4359             28     Madrid                 70   \n",
       "7498             48    Bizkaia                 22   \n",
       "3160             20   Gipuzkoa                 21   \n",
       "7556             48    Bizkaia                 80   \n",
       "3161             20   Gipuzkoa                 22   \n",
       "3173             20   Gipuzkoa                 34   \n",
       "7207             46   Valencia                222   \n",
       "3172             20   Gipuzkoa                 33   \n",
       "7530             48    Bizkaia                 54   \n",
       "1931             12  Castellón                129   \n",
       "151               3   Alicante                 14   \n",
       "7544             48    Bizkaia                 68   \n",
       "3186             20   Gipuzkoa                 47   \n",
       "6019             40    Segovia                181   \n",
       "3150             20   Gipuzkoa                 11   \n",
       "\n",
       "                       municipality_name  population    male  female  \\\n",
       "4359         Horcajo de la Sierra-Aoslos         233     113     120   \n",
       "7498  Karrantza Harana/Valle de Carranza        2711    1418    1293   \n",
       "3160                           Belauntza         288     150     138   \n",
       "7556         Valle de Trápaga-Trapagaran       11898    5804    6094   \n",
       "3161                           Berastegi        1111     575     536   \n",
       "3173                          Eskoriatza        4241    2131    2110   \n",
       "7207                         Sant Joanet         526     256     270   \n",
       "3172                              Elgeta        1130     564     566   \n",
       "7530                               Leioa       32683   15979   16704   \n",
       "1931      Vilafranca/Villafranca del Cid        2139    1088    1051   \n",
       "151                     Alacant/Alicante      358720  173006  185714   \n",
       "7544                             Mundaka        1828     902     926   \n",
       "3186                           Itsasondo         670     339     331   \n",
       "6019         Real Sitio de San Ildefonso        5205    2549    2656   \n",
       "3150                            Antzuola        2069    1022    1047   \n",
       "\n",
       "          municipality_name_clean province_clean  altitude  longitude  \\\n",
       "4359  horcajo de la sierra-aoslos         madrid       NaN        NaN   \n",
       "7498             karrantza harana        bizkaia       NaN        NaN   \n",
       "3160                    belauntza       gipuzkoa       NaN        NaN   \n",
       "7556  valle de trapaga-trapagaran        bizkaia       NaN        NaN   \n",
       "3161                    berastegi       gipuzkoa       NaN        NaN   \n",
       "3173                   eskoriatza       gipuzkoa       NaN        NaN   \n",
       "7207                  sant joanet       valencia       NaN        NaN   \n",
       "3172                       elgeta       gipuzkoa       NaN        NaN   \n",
       "7530                        leioa        bizkaia       NaN        NaN   \n",
       "1931                   vilafranca      castellon       NaN        NaN   \n",
       "151                       alacant       alicante       NaN        NaN   \n",
       "7544                      mundaka        bizkaia       NaN        NaN   \n",
       "3186                    itsasondo       gipuzkoa       NaN        NaN   \n",
       "6019  real sitio de san ildefonso        segovia       NaN        NaN   \n",
       "3150                     antzuola       gipuzkoa       NaN        NaN   \n",
       "\n",
       "      latitude  \n",
       "4359       NaN  \n",
       "7498       NaN  \n",
       "3160       NaN  \n",
       "7556       NaN  \n",
       "3161       NaN  \n",
       "3173       NaN  \n",
       "7207       NaN  \n",
       "3172       NaN  \n",
       "7530       NaN  \n",
       "1931       NaN  \n",
       "151        NaN  \n",
       "7544       NaN  \n",
       "3186       NaN  \n",
       "6019       NaN  \n",
       "3150       NaN  "
      ]
     },
     "execution_count": 34,
     "metadata": {},
     "output_type": "execute_result"
    }
   ],
   "source": [
    "# Display rows with any NaN values and count them\n",
    "nan_rows = df[df.isna().any(axis=1)]\n",
    "nan_rows.sample(15)"
   ]
  },
  {
   "cell_type": "code",
   "execution_count": 16,
   "metadata": {},
   "outputs": [
    {
     "data": {
      "text/html": [
       "<div>\n",
       "<style scoped>\n",
       "    .dataframe tbody tr th:only-of-type {\n",
       "        vertical-align: middle;\n",
       "    }\n",
       "\n",
       "    .dataframe tbody tr th {\n",
       "        vertical-align: top;\n",
       "    }\n",
       "\n",
       "    .dataframe thead th {\n",
       "        text-align: right;\n",
       "    }\n",
       "</style>\n",
       "<table border=\"1\" class=\"dataframe\">\n",
       "  <thead>\n",
       "    <tr style=\"text-align: right;\">\n",
       "      <th></th>\n",
       "      <th>province_code</th>\n",
       "      <th>province</th>\n",
       "      <th>municipality_code</th>\n",
       "      <th>municipality_name</th>\n",
       "      <th>population</th>\n",
       "      <th>male</th>\n",
       "      <th>female</th>\n",
       "      <th>municipality_name_clean</th>\n",
       "      <th>province_clean</th>\n",
       "      <th>altitude</th>\n",
       "      <th>longitude</th>\n",
       "      <th>latitude</th>\n",
       "    </tr>\n",
       "  </thead>\n",
       "  <tbody>\n",
       "    <tr>\n",
       "      <th>0</th>\n",
       "      <td>1</td>\n",
       "      <td>Álava</td>\n",
       "      <td>1</td>\n",
       "      <td>Alegría-Dulantzi</td>\n",
       "      <td>2971</td>\n",
       "      <td>1531</td>\n",
       "      <td>1440</td>\n",
       "      <td>alegria-dulantzi</td>\n",
       "      <td>alava</td>\n",
       "      <td>561.68570</td>\n",
       "      <td>-2.513507</td>\n",
       "      <td>42.84149</td>\n",
       "    </tr>\n",
       "    <tr>\n",
       "      <th>1</th>\n",
       "      <td>1</td>\n",
       "      <td>Álava</td>\n",
       "      <td>2</td>\n",
       "      <td>Amurrio</td>\n",
       "      <td>10330</td>\n",
       "      <td>5149</td>\n",
       "      <td>5181</td>\n",
       "      <td>amurrio</td>\n",
       "      <td>alava</td>\n",
       "      <td>219.69100</td>\n",
       "      <td>-3.001022</td>\n",
       "      <td>43.05265</td>\n",
       "    </tr>\n",
       "    <tr>\n",
       "      <th>2</th>\n",
       "      <td>1</td>\n",
       "      <td>Álava</td>\n",
       "      <td>3</td>\n",
       "      <td>Aramaio</td>\n",
       "      <td>1381</td>\n",
       "      <td>709</td>\n",
       "      <td>672</td>\n",
       "      <td>aramaio</td>\n",
       "      <td>alava</td>\n",
       "      <td>381.87970</td>\n",
       "      <td>-2.566000</td>\n",
       "      <td>43.05400</td>\n",
       "    </tr>\n",
       "    <tr>\n",
       "      <th>3</th>\n",
       "      <td>1</td>\n",
       "      <td>Álava</td>\n",
       "      <td>4</td>\n",
       "      <td>Artziniega</td>\n",
       "      <td>1856</td>\n",
       "      <td>913</td>\n",
       "      <td>943</td>\n",
       "      <td>artziniega</td>\n",
       "      <td>alava</td>\n",
       "      <td>196.98080</td>\n",
       "      <td>-3.128209</td>\n",
       "      <td>43.12220</td>\n",
       "    </tr>\n",
       "    <tr>\n",
       "      <th>4</th>\n",
       "      <td>1</td>\n",
       "      <td>Álava</td>\n",
       "      <td>6</td>\n",
       "      <td>Armiñón</td>\n",
       "      <td>247</td>\n",
       "      <td>127</td>\n",
       "      <td>120</td>\n",
       "      <td>arminon</td>\n",
       "      <td>alava</td>\n",
       "      <td>463.58150</td>\n",
       "      <td>-2.872574</td>\n",
       "      <td>42.72305</td>\n",
       "    </tr>\n",
       "    <tr>\n",
       "      <th>...</th>\n",
       "      <td>...</td>\n",
       "      <td>...</td>\n",
       "      <td>...</td>\n",
       "      <td>...</td>\n",
       "      <td>...</td>\n",
       "      <td>...</td>\n",
       "      <td>...</td>\n",
       "      <td>...</td>\n",
       "      <td>...</td>\n",
       "      <td>...</td>\n",
       "      <td>...</td>\n",
       "      <td>...</td>\n",
       "    </tr>\n",
       "    <tr>\n",
       "      <th>7752</th>\n",
       "      <td>50</td>\n",
       "      <td>Zaragoza</td>\n",
       "      <td>901</td>\n",
       "      <td>Biel</td>\n",
       "      <td>170</td>\n",
       "      <td>104</td>\n",
       "      <td>66</td>\n",
       "      <td>biel</td>\n",
       "      <td>zaragoza</td>\n",
       "      <td>754.24450</td>\n",
       "      <td>-0.936588</td>\n",
       "      <td>42.38749</td>\n",
       "    </tr>\n",
       "    <tr>\n",
       "      <th>7753</th>\n",
       "      <td>50</td>\n",
       "      <td>Zaragoza</td>\n",
       "      <td>902</td>\n",
       "      <td>Marracos</td>\n",
       "      <td>85</td>\n",
       "      <td>43</td>\n",
       "      <td>42</td>\n",
       "      <td>marracos</td>\n",
       "      <td>zaragoza</td>\n",
       "      <td>404.73610</td>\n",
       "      <td>-0.776047</td>\n",
       "      <td>42.09059</td>\n",
       "    </tr>\n",
       "    <tr>\n",
       "      <th>7754</th>\n",
       "      <td>50</td>\n",
       "      <td>Zaragoza</td>\n",
       "      <td>903</td>\n",
       "      <td>Villamayor de Gállego</td>\n",
       "      <td>2854</td>\n",
       "      <td>1446</td>\n",
       "      <td>1408</td>\n",
       "      <td>villamayor de gallego</td>\n",
       "      <td>zaragoza</td>\n",
       "      <td>231.12340</td>\n",
       "      <td>-0.773315</td>\n",
       "      <td>41.68518</td>\n",
       "    </tr>\n",
       "    <tr>\n",
       "      <th>7755</th>\n",
       "      <td>51</td>\n",
       "      <td>Ceuta</td>\n",
       "      <td>1</td>\n",
       "      <td>Ceuta</td>\n",
       "      <td>83229</td>\n",
       "      <td>41980</td>\n",
       "      <td>41249</td>\n",
       "      <td>ceuta</td>\n",
       "      <td>ceuta</td>\n",
       "      <td>13.47725</td>\n",
       "      <td>-5.316195</td>\n",
       "      <td>35.88829</td>\n",
       "    </tr>\n",
       "    <tr>\n",
       "      <th>7756</th>\n",
       "      <td>52</td>\n",
       "      <td>Melilla</td>\n",
       "      <td>1</td>\n",
       "      <td>Melilla</td>\n",
       "      <td>85811</td>\n",
       "      <td>43154</td>\n",
       "      <td>42657</td>\n",
       "      <td>melilla</td>\n",
       "      <td>melilla</td>\n",
       "      <td>10.33370</td>\n",
       "      <td>-2.938794</td>\n",
       "      <td>35.29234</td>\n",
       "    </tr>\n",
       "  </tbody>\n",
       "</table>\n",
       "<p>7757 rows × 12 columns</p>\n",
       "</div>"
      ],
      "text/plain": [
       "      province_code  province  municipality_code      municipality_name  \\\n",
       "0                 1     Álava                  1       Alegría-Dulantzi   \n",
       "1                 1     Álava                  2                Amurrio   \n",
       "2                 1     Álava                  3                Aramaio   \n",
       "3                 1     Álava                  4             Artziniega   \n",
       "4                 1     Álava                  6                Armiñón   \n",
       "...             ...       ...                ...                    ...   \n",
       "7752             50  Zaragoza                901                   Biel   \n",
       "7753             50  Zaragoza                902               Marracos   \n",
       "7754             50  Zaragoza                903  Villamayor de Gállego   \n",
       "7755             51     Ceuta                  1                  Ceuta   \n",
       "7756             52   Melilla                  1                Melilla   \n",
       "\n",
       "      population   male  female municipality_name_clean province_clean  \\\n",
       "0           2971   1531    1440        alegria-dulantzi          alava   \n",
       "1          10330   5149    5181                 amurrio          alava   \n",
       "2           1381    709     672                 aramaio          alava   \n",
       "3           1856    913     943              artziniega          alava   \n",
       "4            247    127     120                 arminon          alava   \n",
       "...          ...    ...     ...                     ...            ...   \n",
       "7752         170    104      66                    biel       zaragoza   \n",
       "7753          85     43      42                marracos       zaragoza   \n",
       "7754        2854   1446    1408   villamayor de gallego       zaragoza   \n",
       "7755       83229  41980   41249                   ceuta          ceuta   \n",
       "7756       85811  43154   42657                 melilla        melilla   \n",
       "\n",
       "       altitude  longitude  latitude  \n",
       "0     561.68570  -2.513507  42.84149  \n",
       "1     219.69100  -3.001022  43.05265  \n",
       "2     381.87970  -2.566000  43.05400  \n",
       "3     196.98080  -3.128209  43.12220  \n",
       "4     463.58150  -2.872574  42.72305  \n",
       "...         ...        ...       ...  \n",
       "7752  754.24450  -0.936588  42.38749  \n",
       "7753  404.73610  -0.776047  42.09059  \n",
       "7754  231.12340  -0.773315  41.68518  \n",
       "7755   13.47725  -5.316195  35.88829  \n",
       "7756   10.33370  -2.938794  35.29234  \n",
       "\n",
       "[7757 rows x 12 columns]"
      ]
     },
     "execution_count": 16,
     "metadata": {},
     "output_type": "execute_result"
    }
   ],
   "source": [
    "df"
   ]
  },
  {
   "cell_type": "markdown",
   "metadata": {},
   "source": [
    "## Problems\n",
    "\n",
    "Spelling is different in the two dataset, we might have to remove the accents first"
   ]
  },
  {
   "cell_type": "code",
   "execution_count": null,
   "metadata": {},
   "outputs": [],
   "source": [
    "df_communities[df_communities['municipality_name'].str.contains(r'Val.*ncia', case=False, na=False)]"
   ]
  },
  {
   "cell_type": "code",
   "execution_count": null,
   "metadata": {},
   "outputs": [],
   "source": [
    "df_coordinates[df_coordinates['municipality_name'].str.contains(r'Val.*ncia', case=False, na=False)]"
   ]
  },
  {
   "cell_type": "code",
   "execution_count": 17,
   "metadata": {},
   "outputs": [
    {
     "data": {
      "application/vnd.plotly.v1+json": {
       "config": {
        "plotlyServerURL": "https://plot.ly"
       },
       "data": [
        {
         "customdata": [
          [
           "Alegría-Dulantzi",
           561.6857
          ],
          [
           "Amurrio",
           219.691
          ],
          [
           "Aramaio",
           381.8797
          ],
          [
           "Artziniega",
           196.9808
          ],
          [
           "Armiñón",
           463.5815
          ],
          [
           "Asparrena",
           631.652
          ],
          [
           "Ayala/Aiara",
           300.2789
          ],
          [
           "Baños de Ebro/Mañueta",
           428.0221
          ],
          [
           "Barrundia",
           555.0674
          ],
          [
           "Berantevilla",
           468.8318
          ],
          [
           "Bernedo",
           713.1542
          ],
          [
           "Campezo/Kanpezu",
           742.2458
          ],
          [
           "Zigoitia",
           599.7416
          ],
          [
           "Kripan",
           695.0848
          ],
          [
           "Kuartango",
           572.6608
          ],
          [
           "Elburgo/Burgelu",
           540.8835
          ],
          [
           "Elciego",
           461.4185
          ],
          [
           "Elvillar/Bilar",
           592
          ],
          [
           "Iruraiz-Gauna",
           601.8067
          ],
          [
           "Labastida/Bastida",
           547.173
          ],
          [
           "Lagrán",
           749.7421
          ],
          [
           "Laguardia",
           629.8966
          ],
          [
           "Lanciego/Lantziego",
           548.5494
          ],
          [
           "Lapuebla de Labarca",
           445.6386
          ],
          [
           "Leza",
           573.1453
          ],
          [
           "Laudio/Llodio",
           127.9116
          ],
          [
           "Arraia-Maeztu",
           657.7902
          ],
          [
           "Moreda de Álava/Moreda Araba",
           463.9432
          ],
          [
           "Navaridas",
           524.3116
          ],
          [
           "Okondo",
           145.3144
          ],
          [
           "Oyón-Oion",
           437.9938
          ],
          [
           "Peñacerrada-Urizaharra",
           749.8625
          ],
          [
           "Erriberagoitia/Ribera Alta",
           479.5812
          ],
          [
           "Ribera Baja/Erriberabeitia",
           478.6605
          ],
          [
           "Añana",
           628.5115
          ],
          [
           "Samaniego",
           578.5411
          ],
          [
           "San Millán/Donemiliaga",
           596.2991
          ],
          [
           "Urkabustaiz",
           680.2825
          ],
          [
           "Valdegovía/Gaubea",
           574.0443
          ],
          [
           "Harana/Valle de Arana",
           831.0966
          ],
          [
           "Villabuena de Álava/Eskuernaga",
           486.5453
          ],
          [
           "Vitoria-Gasteiz",
           534.3582
          ],
          [
           "Yécora/Iekora",
           688.1754
          ],
          [
           "Zalduondo",
           608.8599
          ],
          [
           "Zambrana",
           455.7371
          ],
          [
           "Zuia",
           803.4551
          ],
          [
           "Iruña Oka/Iruña de Oca",
           498.6791
          ],
          [
           "Lantarón",
           615.6439
          ],
          [
           "Abengibre",
           635.9763
          ],
          [
           "Alatoz",
           856.581
          ],
          [
           "Albacete",
           685.9573
          ],
          [
           "Albatana",
           583.8509
          ],
          [
           "Alborea",
           700.4382
          ],
          [
           "Alcadozo",
           926.3744
          ],
          [
           "Alcalá del Júcar",
           564.6768
          ],
          [
           "Alcaraz",
           946.7922
          ],
          [
           "Almansa",
           699.0923
          ],
          [
           "Alpera",
           855.4849
          ],
          [
           "Ayna",
           705.988
          ],
          [
           "Balazote",
           774.1191
          ],
          [
           "Balsa de Ves",
           753.8686
          ],
          [
           "Ballestero, El",
           1022.816
          ],
          [
           "Barrax",
           730.8005
          ],
          [
           "Bienservida",
           892.105
          ],
          [
           "Bogarra",
           877.0484
          ],
          [
           "Bonete",
           892.0386
          ],
          [
           "Bonillo, El",
           1068.339
          ],
          [
           "Carcelén",
           917.2548
          ],
          [
           "Casas de Juan Núñez",
           708.0665
          ],
          [
           "Casas de Lázaro",
           955.0565
          ],
          [
           "Casas de Ves",
           705.2325
          ],
          [
           "Casas-Ibáñez",
           708.7758
          ],
          [
           "Caudete",
           576.1887
          ],
          [
           "Cenizate",
           709.0714
          ],
          [
           "Corral-Rubio",
           874.6991
          ],
          [
           "Cotillas",
           937.312
          ],
          [
           "Chinchilla de Monte-Aragón",
           886.0651
          ],
          [
           "Elche de la Sierra",
           641.3206
          ],
          [
           "Férez",
           678.098
          ],
          [
           "Fuensanta",
           704.071
          ],
          [
           "Fuente-Álamo",
           823.3177
          ],
          [
           "Fuentealbilla",
           664.727
          ],
          [
           "Gineta, La",
           691.8901
          ],
          [
           "Golosalvo",
           737.8311
          ],
          [
           "Hellín",
           571.8438
          ],
          [
           "Herrera, La",
           715.7388
          ],
          [
           "Higueruela",
           1038.131
          ],
          [
           "Hoya-Gonzalo",
           935.8157
          ],
          [
           "Jorquera",
           620.2926
          ],
          [
           "Letur",
           746.7882
          ],
          [
           "Lezuza",
           916.73
          ],
          [
           "Liétor",
           671.197
          ],
          [
           "Madrigueras",
           692.8739
          ],
          [
           "Mahora",
           667.1957
          ],
          [
           "Masegoso",
           1109.367
          ],
          [
           "Minaya",
           725.5837
          ],
          [
           "Molinicos",
           857.9905
          ],
          [
           "Montalvos",
           710
          ],
          [
           "Montealegre del Castillo",
           811.8585
          ],
          [
           "Motilleja",
           679.5121
          ],
          [
           "Munera",
           934.6063
          ],
          [
           "Navas de Jorquera",
           711
          ],
          [
           "Nerpio",
           1084.768
          ],
          [
           "Ontur",
           656.9244
          ],
          [
           "Ossa de Montiel",
           911.2698
          ],
          [
           "Paterna del Madera",
           1136.959
          ],
          [
           "Peñascosa",
           1170.48
          ],
          [
           "Peñas de San Pedro",
           1023.151
          ],
          [
           "Pétrola",
           878.49
          ],
          [
           "Povedilla",
           871.9346
          ],
          [
           "Pozohondo",
           872.5624
          ],
          [
           "Pozo-Lorente",
           773.0806
          ],
          [
           "Pozuelo",
           850.8868
          ],
          [
           "Recueja, La",
           541.1991
          ],
          [
           "Riópar",
           971.0583
          ],
          [
           "Robledo",
           1029.824
          ],
          [
           "Roda, La",
           679.9437
          ],
          [
           "Salobre",
           924.4268
          ],
          [
           "San Pedro",
           844.3685
          ],
          [
           "Socovos",
           751.4481
          ],
          [
           "Tarazona de la Mancha",
           715.6435
          ],
          [
           "Tobarra",
           642.4951
          ],
          [
           "Valdeganga",
           668.1237
          ],
          [
           "Vianos",
           1117.031
          ],
          [
           "Villa de Ves",
           741.5894
          ],
          [
           "Villalgordo del Júcar",
           687.8445
          ],
          [
           "Villamalea",
           743.7635
          ],
          [
           "Villapalacios",
           837.8229
          ],
          [
           "Villarrobledo",
           728.5291
          ],
          [
           "Villatoya",
           416.7317
          ],
          [
           "Villavaliente",
           728.5188
          ],
          [
           "Villaverde de Guadalimar",
           796.1951
          ],
          [
           "Viveros",
           1012.303
          ],
          [
           "Yeste",
           862.6873
          ],
          [
           "Pozo Cañada",
           826.6574
          ],
          [
           "Agost",
           332.424
          ],
          [
           "Agres",
           724.617
          ],
          [
           "Aigües",
           325.356
          ],
          [
           "Albatera",
           21.50101
          ],
          [
           "Alcalalí",
           290.6824
          ],
          [
           "Alcoleja",
           751.6678
          ],
          [
           "Alfafara",
           587.1841
          ],
          [
           "Alfàs del Pi, l'",
           96.30521
          ],
          [
           "Algorfa",
           29.95276
          ],
          [
           "Algueña",
           536.0125
          ],
          [
           "Almoradí",
           17.38357
          ],
          [
           "Almudaina",
           575.8386
          ],
          [
           "Alqueria d'Asnar, l'",
           358.3362
          ],
          [
           "Altea",
           21.23566
          ],
          [
           "Aspe",
           230.3877
          ],
          [
           "Balones",
           663.7676
          ],
          [
           "Banyeres de Mariola",
           825.7204
          ],
          [
           "Benasau",
           695.5562
          ],
          [
           "Beneixama",
           595.4329
          ],
          [
           "Benejúzar",
           25.65035
          ],
          [
           "Benferri",
           54.47756
          ],
          [
           "Beniarbeig",
           46.27847
          ],
          [
           "Beniarrés",
           391.1873
          ],
          [
           "Benigembla",
           310.3394
          ],
          [
           "Benidoleig",
           102.7022
          ],
          [
           "Benidorm",
           21.19977
          ],
          [
           "Benifallim",
           730.8427
          ],
          [
           "Benifato",
           654.8287
          ],
          [
           "Benijófar",
           35.03075
          ],
          [
           "Benilloba",
           535.0692
          ],
          [
           "Benillup",
           561.1097
          ],
          [
           "Benimantell",
           562.9584
          ],
          [
           "Benimarfull",
           427.3933
          ],
          [
           "Benimassot",
           729.0436
          ],
          [
           "Benimeli",
           95.25533
          ],
          [
           "Benissa",
           253.765
          ],
          [
           "Poble Nou de Benitatxell, el/Benitachell",
           154.6002
          ],
          [
           "Biar",
           703.2366
          ],
          [
           "Bigastro",
           29.8936
          ],
          [
           "Bolulla",
           220.4359
          ],
          [
           "Busot",
           331.5273
          ],
          [
           "Callosa d'en Sarrià",
           254.6619
          ],
          [
           "Callosa de Segura",
           22.56134
          ],
          [
           "Campello, el",
           25.46509
          ],
          [
           "Camp de Mirra, el/Campo de Mirra",
           588.4718
          ],
          [
           "Cañada",
           561.0671
          ],
          [
           "Castalla",
           685.3792
          ],
          [
           "Castell de Castells",
           425.5766
          ],
          [
           "Catral",
           11
          ],
          [
           "Cocentaina",
           446.2317
          ],
          [
           "Confrides",
           789.8048
          ],
          [
           "Cox",
           20.62896
          ],
          [
           "Crevillent",
           120.1649
          ],
          [
           "Quatretondeta",
           622.546
          ],
          [
           "Daya Nueva",
           8.224919
          ],
          [
           "Daya Vieja",
           6.833565
          ],
          [
           "Dénia",
           11.78009
          ],
          [
           "Dolores",
           9.227216
          ],
          [
           "Elda",
           413.189
          ],
          [
           "Famorca",
           691.6473
          ],
          [
           "Finestrat",
           261.4681
          ],
          [
           "Formentera del Segura",
           10.79573
          ],
          [
           "Gata de Gorgos",
           85.46293
          ],
          [
           "Gaianes",
           414.3354
          ],
          [
           "Gorga",
           555.8732
          ],
          [
           "Granja de Rocamora",
           18.04087
          ],
          [
           "Castell de Guadalest, el",
           555.7478
          ],
          [
           "Guardamar del Segura",
           26.48124
          ],
          [
           "Fondó de les Neus, el/Hondón de las Nieves",
           493.7399
          ],
          [
           "Hondón de los Frailes",
           418.041
          ],
          [
           "Ibi",
           753.7646
          ],
          [
           "Jacarilla",
           27.33402
          ],
          [
           "Xaló",
           196.9115
          ],
          [
           "Orxa, l'/Lorcha",
           273.9026
          ],
          [
           "Llíber",
           185.6137
          ],
          [
           "Millena",
           634.1902
          ],
          [
           "Monforte del Cid",
           223.6606
          ],
          [
           "Mutxamel",
           65.50282
          ],
          [
           "Murla",
           291.5551
          ],
          [
           "Muro de Alcoy",
           411.4849
          ],
          [
           "Novelda",
           247.5291
          ],
          [
           "Nucia, la",
           235.7798
          ],
          [
           "Ondara",
           37.3018
          ],
          [
           "Onil",
           676.8312
          ],
          [
           "Orba",
           160.1064
          ],
          [
           "Orxeta",
           186.9968
          ],
          [
           "Orihuela",
           36.18137
          ],
          [
           "Parcent",
           289.9498
          ],
          [
           "Pedreguer",
           87.95199
          ],
          [
           "Pego",
           83.52785
          ],
          [
           "Penàguila",
           689.5314
          ],
          [
           "Petrer",
           437.8267
          ],
          [
           "Pinós, el/Pinoso",
           572.8075
          ],
          [
           "Planes",
           444.3655
          ],
          [
           "Polop",
           237.3766
          ],
          [
           "Rafal",
           16.86083
          ],
          [
           "Ràfol d'Almúnia, el",
           93.19769
          ],
          [
           "Redován",
           26.24458
          ],
          [
           "Relleu",
           439.6355
          ],
          [
           "Rojales",
           13.9656
          ],
          [
           "Romana, la",
           448.9331
          ],
          [
           "Sagra",
           113.3374
          ],
          [
           "Salinas",
           491.3814
          ],
          [
           "Sanet y Negrals",
           92.4516
          ],
          [
           "San Fulgencio",
           7.573623
          ],
          [
           "Sant Joan d'Alacant",
           41.32392
          ],
          [
           "San Miguel de Salinas",
           77.87773
          ],
          [
           "Santa Pola",
           10
          ],
          [
           "Sax",
           480.8817
          ],
          [
           "Sella",
           421.4968
          ],
          [
           "Senija",
           239.5632
          ],
          [
           "Tàrbena",
           573.9403
          ],
          [
           "Teulada",
           181.3972
          ],
          [
           "Tibi",
           493.401
          ],
          [
           "Tollos",
           771.4578
          ],
          [
           "Tormos",
           130.5348
          ],
          [
           "Torre de les Maçanes, la/Torremanzanas",
           812.3563
          ],
          [
           "Torrevieja",
           15.69942
          ],
          [
           "Vall d'Alcalà, la",
           641.0916
          ],
          [
           "Vall d'Ebo, la",
           381.5167
          ],
          [
           "Vall de Laguar, la",
           548.257
          ],
          [
           "Verger, el",
           10.94339
          ],
          [
           "Vila Joiosa, la/Villajoyosa",
           43.88388
          ],
          [
           "Villena",
           522.7245
          ],
          [
           "Poblets, els",
           12.50598
          ],
          [
           "Pilar de la Horadada",
           32.33976
          ],
          [
           "Montesinos, Los",
           21.59749
          ],
          [
           "San Isidro",
           10.8566
          ],
          [
           "Abla",
           871.1684
          ],
          [
           "Abrucena",
           976.9387
          ],
          [
           "Adra",
           10.97898
          ],
          [
           "Albanchez",
           481.3123
          ],
          [
           "Alboloduy",
           388.4346
          ],
          [
           "Albox",
           426.4268
          ],
          [
           "Alcolea",
           744.6956
          ],
          [
           "Alcóntar",
           955.1331
          ],
          [
           "Alcudia de Monteagud",
           1018.354
          ],
          [
           "Alhabia",
           288.056
          ],
          [
           "Alhama de Almería",
           523.1963
          ],
          [
           "Alicún",
           420.4872
          ],
          [
           "Almería",
           27.00703
          ],
          [
           "Almócita",
           831.1343
          ],
          [
           "Alsodux",
           312.0394
          ],
          [
           "Antas",
           107.2613
          ],
          [
           "Arboleas",
           288.0828
          ],
          [
           "Armuña de Almanzora",
           625.5285
          ],
          [
           "Bacares",
           1202.631
          ],
          [
           "Bayárcal",
           1271.166
          ],
          [
           "Bayarque",
           816.2208
          ],
          [
           "Bédar",
           391.56
          ],
          [
           "Beires",
           919.2347
          ],
          [
           "Benahadux",
           113.9746
          ],
          [
           "Benitagla",
           945.0856
          ],
          [
           "Benizalón",
           933.7475
          ],
          [
           "Bentarique",
           319.8048
          ],
          [
           "Berja",
           340.7863
          ],
          [
           "Canjáyar",
           607.9745
          ],
          [
           "Cantoria",
           388.6553
          ],
          [
           "Carboneras",
           6.721787
          ],
          [
           "Castro de Filabres",
           943.7071
          ],
          [
           "Cóbdar",
           606.9962
          ],
          [
           "Cuevas del Almanzora",
           97.29103
          ],
          [
           "Chercos",
           789.6791
          ],
          [
           "Chirivel",
           1039.713
          ],
          [
           "Dalías",
           415.9644
          ],
          [
           "Enix",
           720.6339
          ],
          [
           "Felix",
           822.4271
          ],
          [
           "Fines",
           448.7018
          ],
          [
           "Fiñana",
           950.4163
          ],
          [
           "Fondón",
           858.4697
          ],
          [
           "Gádor",
           169.0004
          ],
          [
           "Gallardos, Los",
           113.9905
          ],
          [
           "Garrucha",
           2.56615
          ],
          [
           "Gérgal",
           750.5009
          ],
          [
           "Huécija",
           410.0447
          ],
          [
           "Huércal de Almería",
           72.52909
          ],
          [
           "Huércal-Overa",
           284.6117
          ],
          [
           "Íllar",
           428.1185
          ],
          [
           "Instinción",
           434.57
          ],
          [
           "Laroya",
           854.0873
          ],
          [
           "Láujar de Andarax",
           910.9894
          ],
          [
           "Líjar",
           593.4965
          ],
          [
           "Lubrín",
           521.5203
          ],
          [
           "Lucainena de las Torres",
           533.8752
          ],
          [
           "Lúcar",
           901.753
          ],
          [
           "Macael",
           538.7327
          ],
          [
           "María",
           1196.435
          ],
          [
           "Mojácar",
           165.0597
          ],
          [
           "Nacimiento",
           596.8992
          ],
          [
           "Níjar",
           353.1248
          ],
          [
           "Ohanes",
           953.4253
          ],
          [
           "Olula de Castro",
           1054.839
          ],
          [
           "Olula del Río",
           486.5961
          ],
          [
           "Oria",
           1038.982
          ],
          [
           "Padules",
           745.1029
          ],
          [
           "Partaloa",
           548.585
          ],
          [
           "Paterna del Río",
           1201.81
          ],
          [
           "Pechina",
           107.5108
          ],
          [
           "Pulpí",
           194.9947
          ],
          [
           "Purchena",
           540.9984
          ],
          [
           "Rágol",
           404.8323
          ],
          [
           "Rioja",
           133.2092
          ],
          [
           "Roquetas de Mar",
           11.84886
          ],
          [
           "Santa Cruz de Marchena",
           328.9739
          ],
          [
           "Santa Fe de Mondújar",
           210.5975
          ],
          [
           "Senés",
           1007.387
          ],
          [
           "Serón",
           800.137
          ],
          [
           "Sierro",
           721.0729
          ],
          [
           "Somontín",
           816.8105
          ],
          [
           "Sorbas",
           391.5779
          ],
          [
           "Suflí",
           636.8499
          ],
          [
           "Tabernas",
           405.9641
          ],
          [
           "Taberno",
           702.8022
          ],
          [
           "Tahal",
           1008.582
          ],
          [
           "Terque",
           282.4351
          ],
          [
           "Tíjola",
           685.379
          ],
          [
           "Turre",
           49.41454
          ],
          [
           "Turrillas",
           840.3381
          ],
          [
           "Uleila del Campo",
           629.6137
          ],
          [
           "Urrácal",
           744.7553
          ],
          [
           "Velefique",
           937.5716
          ],
          [
           "Vélez-Blanco",
           1072.432
          ],
          [
           "Vélez-Rubio",
           842.2859
          ],
          [
           "Vera",
           102.0657
          ],
          [
           "Viator",
           74.79173
          ],
          [
           "Vícar",
           276.2602
          ],
          [
           "Zurgena",
           248.1582
          ],
          [
           "Tres Villas, Las",
           693.0934
          ],
          [
           "Ejido, El",
           80
          ],
          [
           "Mojonera, La",
           41.25403
          ],
          [
           "Adanero",
           905.2096
          ],
          [
           "Adrada, La",
           622.7286
          ],
          [
           "Albornos",
           909.7402
          ],
          [
           "Aldeanueva de Santa Cruz",
           1166.277
          ],
          [
           "Aldeaseca",
           861.7283
          ],
          [
           "Aldehuela, La",
           959.1974
          ],
          [
           "Amavida",
           1175.522
          ],
          [
           "Arenal, El",
           890.2292
          ],
          [
           "Arenas de San Pedro",
           514.0571
          ],
          [
           "Arevalillo",
           1137.772
          ],
          [
           "Arévalo",
           826.179
          ],
          [
           "Aveinte",
           1000.345
          ],
          [
           "Avellaneda",
           1351.883
          ],
          [
           "Ávila",
           1129.841
          ],
          [
           "Barco de Ávila, El",
           1018.091
          ],
          [
           "Barraco, El",
           1007.118
          ],
          [
           "Barromán",
           795.3719
          ],
          [
           "Becedas",
           1100.157
          ],
          [
           "Becedillas",
           1055.372
          ],
          [
           "Bercial de Zapardiel",
           806.9874
          ],
          [
           "Berlanas, Las",
           947.4949
          ],
          [
           "Bernuy-Zapardiel",
           865.666
          ],
          [
           "Berrocalejo de Aragona",
           1093.834
          ],
          [
           "Blascomillán",
           949.7968
          ],
          [
           "Blasconuño de Matacabras",
           786.0962
          ],
          [
           "Blascosancho",
           904.3203
          ],
          [
           "Bohodón, El",
           884
          ],
          [
           "Bohoyo",
           1152.302
          ],
          [
           "Bonilla de la Sierra",
           1078.679
          ],
          [
           "Brabos",
           981.4635
          ],
          [
           "Bularros",
           1169.908
          ],
          [
           "Burgohondo",
           841.5716
          ],
          [
           "Cabezas de Alambre",
           889.5198
          ],
          [
           "Cabezas del Pozo",
           844.806
          ],
          [
           "Cabezas del Villar",
           1047.323
          ],
          [
           "Cabizuela",
           880.9836
          ],
          [
           "Canales",
           856.6454
          ],
          [
           "Candeleda",
           432.1873
          ],
          [
           "Cantiveros",
           878.133
          ],
          [
           "Cardeñosa",
           1106.686
          ],
          [
           "Carrera, La",
           1055.56
          ],
          [
           "Casas del Puerto",
           1181.79
          ],
          [
           "Casasola",
           1316.782
          ],
          [
           "Casavieja",
           560.0256
          ],
          [
           "Casillas",
           1033.86
          ],
          [
           "Castellanos de Zapardiel",
           784.2825
          ],
          [
           "Cebreros",
           762.6259
          ],
          [
           "Cepeda la Mora",
           1496.214
          ],
          [
           "Cillán",
           1213.872
          ],
          [
           "Cisla",
           849.4051
          ],
          [
           "Colilla, La",
           1137.412
          ],
          [
           "Collado de Contreras",
           916.2794
          ],
          [
           "Collado del Mirón",
           1166.182
          ],
          [
           "Constanzana",
           890.7895
          ],
          [
           "Crespos",
           924.7823
          ],
          [
           "Cuevas del Valle",
           850.9416
          ],
          [
           "Chamartín",
           1200.419
          ],
          [
           "Donjimeno",
           885.1403
          ],
          [
           "Donvidas",
           863.8016
          ],
          [
           "Espinosa de los Caballeros",
           859.3159
          ],
          [
           "Flores de Ávila",
           894.5298
          ],
          [
           "Fontiveros",
           883.9694
          ],
          [
           "Fresnedilla",
           622.42
          ],
          [
           "Fresno, El",
           1077.998
          ],
          [
           "Fuente el Saúz",
           872.8679
          ],
          [
           "Fuentes de Año",
           825.9651
          ],
          [
           "Gallegos de Altamiros",
           1243.297
          ],
          [
           "Gallegos de Sobrinos",
           1165.116
          ],
          [
           "Garganta del Villar",
           1468.859
          ],
          [
           "Gavilanes",
           666.3435
          ],
          [
           "Gemuño",
           1103.707
          ],
          [
           "Gilbuena",
           1046.664
          ],
          [
           "Gil García",
           1149.134
          ],
          [
           "Gimialcón",
           949.9352
          ],
          [
           "Gotarrendura",
           931.7262
          ],
          [
           "Grandes y San Martín",
           1004.375
          ],
          [
           "Guisando",
           760.2384
          ],
          [
           "Gutierre-Muñoz",
           885.0555
          ],
          [
           "Hernansancho",
           907.3092
          ],
          [
           "Herradón de Pinares",
           1339.181
          ],
          [
           "Herreros de Suso",
           1014.149
          ],
          [
           "Higuera de las Dueñas",
           636.0223
          ],
          [
           "Hija de Dios, La",
           1190.105
          ],
          [
           "Horcajada, La",
           1013.886
          ],
          [
           "Horcajo de las Torres",
           817.9778
          ],
          [
           "Hornillo, El",
           750.8702
          ],
          [
           "Hoyocasero",
           1340.283
          ],
          [
           "Hoyo de Pinares, El",
           850.6945
          ],
          [
           "Hoyorredondo",
           1041.056
          ],
          [
           "Hoyos del Collado",
           1496.277
          ],
          [
           "Hoyos del Espino",
           1476.058
          ],
          [
           "Hoyos de Miguel Muñoz",
           1537.814
          ],
          [
           "Hurtumpascual",
           1170.533
          ],
          [
           "Junciana",
           996.5219
          ],
          [
           "Langa",
           867.0062
          ],
          [
           "Lanzahíta",
           452.3451
          ],
          [
           "Losar del Barco, El",
           1011.311
          ],
          [
           "Llanos de Tormes, Los",
           1051.062
          ],
          [
           "Madrigal de las Altas Torres",
           811.4847
          ],
          [
           "Maello",
           1031.561
          ],
          [
           "Malpartida de Corneja",
           1023.512
          ],
          [
           "Mamblas",
           820.2225
          ],
          [
           "Mancera de Arriba",
           938.9207
          ],
          [
           "Marlín",
           1214.861
          ],
          [
           "Martiherrero",
           1228.818
          ],
          [
           "Martínez",
           1100.179
          ],
          [
           "Mediana de Voltoya",
           1112.355
          ],
          [
           "Medinilla",
           1066.206
          ],
          [
           "Mengamuñoz",
           1348.081
          ],
          [
           "Mesegar de Corneja",
           1022.489
          ],
          [
           "Mijares",
           864.0565
          ],
          [
           "Mingorría",
           1034.813
          ],
          [
           "Mirón, El",
           1261.807
          ],
          [
           "Mironcillo",
           1119.956
          ],
          [
           "Mirueña de los Infanzones",
           1132.032
          ],
          [
           "Mombeltrán",
           638.0334
          ],
          [
           "Monsalupe",
           1001.826
          ],
          [
           "Moraleja de Matacabras",
           784.5509
          ],
          [
           "Muñana",
           1166.34
          ],
          [
           "Muñico",
           1088.301
          ],
          [
           "Muñogalindo",
           1126.354
          ],
          [
           "Muñogrande",
           945.0131
          ],
          [
           "Muñomer del Peco",
           897.2045
          ],
          [
           "Muñopepe",
           1136.208
          ],
          [
           "Muñosancho",
           904.1495
          ],
          [
           "Muñotello",
           1153.327
          ],
          [
           "Narrillos del Álamo",
           1119.065
          ],
          [
           "Narrillos del Rebollar",
           1393.928
          ],
          [
           "Narros del Castillo",
           955.416
          ],
          [
           "Narros del Puerto",
           1150.127
          ],
          [
           "Narros de Saldueña",
           899.7995
          ],
          [
           "Navacepedilla de Corneja",
           1254.679
          ],
          [
           "Nava de Arévalo",
           867.2231
          ],
          [
           "Nava del Barco",
           1143.579
          ],
          [
           "Navadijos",
           1522.013
          ],
          [
           "Navaescurial",
           1204.329
          ],
          [
           "Navahondilla",
           722.1689
          ],
          [
           "Navalacruz",
           1242.845
          ],
          [
           "Navalmoral",
           1059.723
          ],
          [
           "Navalonguilla",
           1166.513
          ],
          [
           "Navalosa",
           1302.457
          ],
          [
           "Navalperal de Pinares",
           1276.434
          ],
          [
           "Navalperal de Tormes",
           1301.761
          ],
          [
           "Navaluenga",
           761.1091
          ],
          [
           "Navaquesera",
           1510.378
          ],
          [
           "Navarredonda de Gredos",
           1533.715
          ],
          [
           "Navarredondilla",
           1133.272
          ],
          [
           "Navarrevisca",
           1125.35
          ],
          [
           "Navas del Marqués, Las",
           1301.798
          ],
          [
           "Navatalgordo",
           1277.847
          ],
          [
           "Navatejares",
           1045.835
          ],
          [
           "Neila de San Miguel",
           1163.344
          ],
          [
           "Niharra",
           1092.125
          ],
          [
           "Ojos-Albos",
           1228.249
          ],
          [
           "Orbita",
           868.4173
          ],
          [
           "Oso, El",
           896.0026
          ],
          [
           "Padiernos",
           1106
          ],
          [
           "Pajares de Adaja",
           881.6708
          ],
          [
           "Palacios de Goda",
           820.0026
          ],
          [
           "Papatrigo",
           889
          ],
          [
           "Parral, El",
           1049.357
          ],
          [
           "Pascualcobo",
           1065.825
          ],
          [
           "Pedro Bernardo",
           802.8278
          ],
          [
           "Pedro-Rodríguez",
           877.0702
          ],
          [
           "Peguerinos",
           1361.598
          ],
          [
           "Peñalba de Ávila",
           1073.66
          ],
          [
           "Piedrahíta",
           1064.406
          ],
          [
           "Piedralaves",
           712.4528
          ],
          [
           "Poveda",
           1201.02
          ],
          [
           "Poyales del Hoyo",
           554.1748
          ],
          [
           "Pozanco",
           909.6544
          ],
          [
           "Pradosegar",
           1171.21
          ],
          [
           "Puerto Castilla",
           1169.832
          ],
          [
           "Rasueros",
           831.9698
          ],
          [
           "Riocabado",
           909.7188
          ],
          [
           "Riofrío",
           1186.845
          ],
          [
           "Rivilla de Barajas",
           899.2758
          ],
          [
           "Salobral",
           1087.409
          ],
          [
           "Salvadiós",
           951.5007
          ],
          [
           "San Bartolomé de Béjar",
           1120.649
          ],
          [
           "San Bartolomé de Corneja",
           993.1846
          ],
          [
           "San Bartolomé de Pinares",
           1047.196
          ],
          [
           "Sanchidrián",
           924.6989
          ],
          [
           "Sanchorreja",
           1312.153
          ],
          [
           "San Esteban de los Patos",
           1118.933
          ],
          [
           "San Esteban del Valle",
           795.9105
          ],
          [
           "San Esteban de Zapardiel",
           780.4639
          ],
          [
           "San García de Ingelmos",
           1067
          ],
          [
           "San Juan de la Encinilla",
           913.4266
          ],
          [
           "San Juan de la Nava",
           1126.167
          ],
          [
           "San Juan del Molinillo",
           1141.855
          ],
          [
           "San Juan del Olmo",
           1287.153
          ],
          [
           "San Lorenzo de Tormes",
           1028.796
          ],
          [
           "San Martín de la Vega del Alberche",
           1510.816
          ],
          [
           "San Martín del Pimpollar",
           1336.265
          ],
          [
           "San Miguel de Corneja",
           1063.416
          ],
          [
           "San Miguel de Serrezuela",
           1094.398
          ],
          [
           "San Pascual",
           883.3102
          ],
          [
           "San Pedro del Arroyo",
           938.8323
          ],
          [
           "Santa Cruz del Valle",
           733.2361
          ],
          [
           "Santa Cruz de Pinares",
           1004.647
          ],
          [
           "Santa María del Arroyo",
           1130.864
          ],
          [
           "Santa María del Berrocal",
           1051.094
          ],
          [
           "Santa María de los Caballeros",
           1041.178
          ],
          [
           "Santa María del Tiétar",
           695.9569
          ],
          [
           "Santiago del Collado",
           1221.392
          ],
          [
           "Santo Domingo de las Posadas",
           928.1381
          ],
          [
           "Santo Tomé de Zabarcos",
           958.0378
          ],
          [
           "San Vicente de Arévalo",
           877.5375
          ],
          [
           "Serrada, La",
           1108.781
          ],
          [
           "Serranillos",
           1222.104
          ],
          [
           "Sigeres",
           962.441
          ],
          [
           "Sinlabajos",
           826.5585
          ],
          [
           "Solana de Ávila",
           1148.975
          ],
          [
           "Solana de Rioalmar",
           1122.234
          ],
          [
           "Solosancho",
           1120.799
          ],
          [
           "Sotalbo",
           1159.905
          ],
          [
           "Sotillo de la Adrada",
           643.7815
          ],
          [
           "Tiemblo, El",
           699.9511
          ],
          [
           "Tiñosillos",
           872.8295
          ],
          [
           "Tolbaños",
           1112.758
          ],
          [
           "Tormellas",
           1063.159
          ],
          [
           "Tornadizos de Ávila",
           1197.256
          ],
          [
           "Tórtoles",
           1242.698
          ],
          [
           "Torre, La",
           1131.327
          ],
          [
           "Umbrías",
           1102.692
          ],
          [
           "Vadillo de la Sierra",
           1347.321
          ],
          [
           "Valdecasa",
           1367.423
          ],
          [
           "Vega de Santa María",
           946.2527
          ],
          [
           "Velayos",
           937.4861
          ],
          [
           "Villaflor",
           981.3378
          ],
          [
           "Villafranca de la Sierra",
           1105.417
          ],
          [
           "Villanueva de Gómez",
           888.3561
          ],
          [
           "Villanueva del Aceral",
           846.7498
          ],
          [
           "Villanueva del Campillo",
           1446.368
          ],
          [
           "Villar de Corneja",
           998.0105
          ],
          [
           "Villarejo del Valle",
           830.5555
          ],
          [
           "Villatoro",
           1195.601
          ],
          [
           "Viñegra de Moraña",
           907.2875
          ],
          [
           "Vita",
           991.2439
          ],
          [
           "Zapardiel de la Cañada",
           1143.392
          ],
          [
           "Zapardiel de la Ribera",
           1356.206
          ],
          [
           "San Juan de Gredos",
           1530.967
          ],
          [
           "Santa María del Cubillo",
           1212.193
          ],
          [
           "Diego del Carpio",
           1018.423
          ],
          [
           "Santiago del Tormes",
           1539.357
          ],
          [
           "Villanueva de Ávila",
           1060.641
          ],
          [
           "Acedera",
           308.0381
          ],
          [
           "Aceuchal",
           307
          ],
          [
           "Ahillones",
           579.7605
          ],
          [
           "Alange",
           322.5832
          ],
          [
           "Albuera, La",
           249.9245
          ],
          [
           "Alburquerque",
           442.164
          ],
          [
           "Alconchel",
           284.3204
          ],
          [
           "Alconera",
           518.1642
          ],
          [
           "Aljucén",
           249.3199
          ],
          [
           "Almendral",
           329.3619
          ],
          [
           "Almendralejo",
           336.7314
          ],
          [
           "Arroyo de San Serván",
           225.0338
          ],
          [
           "Atalaya",
           503.989
          ],
          [
           "Azuaga",
           588.9749
          ],
          [
           "Badajoz",
           192.0375
          ],
          [
           "Barcarrota",
           488.5576
          ],
          [
           "Baterno",
           561.4879
          ],
          [
           "Benquerencia de la Serena",
           668.4374
          ],
          [
           "Berlanga",
           567.5744
          ],
          [
           "Bienvenida",
           610.3852
          ],
          [
           "Bodonal de la Sierra",
           611.0769
          ],
          [
           "Burguillos del Cerro",
           404.4514
          ],
          [
           "Cabeza del Buey",
           536.211
          ],
          [
           "Cabeza la Vaca",
           759.3353
          ],
          [
           "Calamonte",
           225.6309
          ],
          [
           "Calera de León",
           698.5616
          ],
          [
           "Calzadilla de los Barros",
           560.012
          ],
          [
           "Campanario",
           399.8418
          ],
          [
           "Campillo de Llerena",
           499.8665
          ],
          [
           "Capilla",
           494.1088
          ],
          [
           "Carmonita",
           380.518
          ],
          [
           "Carrascalejo, El",
           298.9797
          ],
          [
           "Casas de Don Pedro",
           386.5399
          ],
          [
           "Casas de Reina",
           633.2156
          ],
          [
           "Castilblanco",
           503.2614
          ],
          [
           "Castuera",
           507.8511
          ],
          [
           "Codosera, La",
           317.7365
          ],
          [
           "Cordobilla de Lácara",
           304.6748
          ],
          [
           "Coronada, La",
           361.9379
          ],
          [
           "Corte de Peleas",
           242.0632
          ],
          [
           "Cristina",
           292.6012
          ],
          [
           "Cheles",
           196.9729
          ],
          [
           "Don Álvaro",
           261.4249
          ],
          [
           "Don Benito",
           286.0323
          ],
          [
           "Entrín Bajo",
           243.4635
          ],
          [
           "Esparragalejo",
           221.896
          ],
          [
           "Esparragosa de la Serena",
           454.5637
          ],
          [
           "Esparragosa de Lares",
           471.0262
          ],
          [
           "Feria",
           558.8891
          ],
          [
           "Fregenal de la Sierra",
           563.0306
          ],
          [
           "Fuenlabrada de los Montes",
           544.9579
          ],
          [
           "Fuente de Cantos",
           583.8423
          ],
          [
           "Fuente del Arco",
           698.8098
          ],
          [
           "Fuente del Maestre",
           445.575
          ],
          [
           "Fuentes de León",
           759.8053
          ],
          [
           "Garbayuela",
           487.4009
          ],
          [
           "Garlitos",
           538.7179
          ],
          [
           "Garrovilla, La",
           207.8057
          ],
          [
           "Granja de Torrehermosa",
           590.6907
          ],
          [
           "Guareña",
           285.5005
          ],
          [
           "Haba, La",
           311.9093
          ],
          [
           "Helechosa de los Montes",
           441.6037
          ],
          [
           "Herrera del Duque",
           459.3652
          ],
          [
           "Higuera de la Serena",
           476.8962
          ],
          [
           "Higuera de Llerena",
           517.9836
          ],
          [
           "Higuera de Vargas",
           361.537
          ],
          [
           "Higuera la Real",
           623.5339
          ],
          [
           "Hinojosa del Valle",
           441.5001
          ],
          [
           "Hornachos",
           484.8826
          ],
          [
           "Jerez de los Caballeros",
           486.1686
          ],
          [
           "Lapa, La",
           467.7335
          ],
          [
           "Lobón",
           242.9643
          ],
          [
           "Llera",
           488.1218
          ],
          [
           "Llerena",
           644.6722
          ],
          [
           "Magacela",
           473.8124
          ],
          [
           "Maguilla",
           527.6955
          ],
          [
           "Malcocinado",
           625.1129
          ],
          [
           "Malpartida de la Serena",
           483.3142
          ],
          [
           "Manchita",
           335.4408
          ],
          [
           "Medellín",
           250.0114
          ],
          [
           "Medina de las Torres",
           526.7921
          ],
          [
           "Mengabril",
           253
          ],
          [
           "Mérida",
           227.433
          ],
          [
           "Mirandilla",
           294.3425
          ],
          [
           "Monesterio",
           754.8566
          ],
          [
           "Montemolín",
           617.7222
          ],
          [
           "Monterrubio de la Serena",
           553.7913
          ],
          [
           "Montijo",
           203.0528
          ],
          [
           "Morera, La",
           426.6002
          ],
          [
           "Nava de Santiago, La",
           265.6057
          ],
          [
           "Navalvillar de Pela",
           349.6248
          ],
          [
           "Nogales",
           372.3395
          ],
          [
           "Oliva de la Frontera",
           376.0301
          ],
          [
           "Oliva de Mérida",
           322.3082
          ],
          [
           "Olivenza",
           258.1104
          ],
          [
           "Orellana de la Sierra",
           398.1514
          ],
          [
           "Orellana la Vieja",
           359.3995
          ],
          [
           "Palomas",
           322.4935
          ],
          [
           "Parra, La",
           521.9587
          ],
          [
           "Peñalsordo",
           431.0298
          ],
          [
           "Peraleda del Zaucejo",
           542.9088
          ],
          [
           "Puebla de Alcocer",
           534.4778
          ],
          [
           "Puebla de la Calzada",
           191.7965
          ],
          [
           "Puebla de la Reina",
           375.599
          ],
          [
           "Puebla del Maestre",
           554.0134
          ],
          [
           "Puebla del Prior",
           381.7524
          ],
          [
           "Puebla de Obando",
           380.0834
          ],
          [
           "Puebla de Sancho Pérez",
           522.9659
          ],
          [
           "Quintana de la Serena",
           409.9685
          ],
          [
           "Reina",
           717.8853
          ],
          [
           "Rena",
           261.9456
          ],
          [
           "Retamal de Llerena",
           464.8723
          ],
          [
           "Ribera del Fresno",
           398.8069
          ],
          [
           "Risco",
           493.8158
          ],
          [
           "Roca de la Sierra, La",
           248.0425
          ],
          [
           "Salvaleón",
           529.4485
          ],
          [
           "Salvatierra de los Barros",
           625.0818
          ],
          [
           "Sancti-Spíritus",
           486.562
          ],
          [
           "San Pedro de Mérida",
           281.0936
          ],
          [
           "Santa Amalia",
           255.474
          ],
          [
           "Santa Marta",
           345.2148
          ],
          [
           "Santos de Maimona, Los",
           534.4554
          ],
          [
           "San Vicente de Alcántara",
           502.4301
          ],
          [
           "Segura de León",
           681.7979
          ],
          [
           "Siruela",
           512.6407
          ],
          [
           "Solana de los Barros",
           266.4142
          ],
          [
           "Talarrubias",
           439.8815
          ],
          [
           "Talavera la Real",
           187.5183
          ],
          [
           "Táliga",
           304.307
          ],
          [
           "Tamurejo",
           546.1544
          ],
          [
           "Torre de Miguel Sesmero",
           323.1891
          ],
          [
           "Torremayor",
           195.9215
          ],
          [
           "Torremejía",
           291.6581
          ],
          [
           "Trasierra",
           700.4008
          ],
          [
           "Trujillanos",
           257.3852
          ],
          [
           "Usagre",
           561.4595
          ],
          [
           "Valdecaballeros",
           383.3043
          ],
          [
           "Valdetorres",
           244.8665
          ],
          [
           "Valencia de las Torres",
           514.027
          ],
          [
           "Valencia del Mombuey",
           295.6457
          ],
          [
           "Valencia del Ventoso",
           496.0627
          ],
          [
           "Valverde de Burguillos",
           412.0819
          ],
          [
           "Valverde de Leganés",
           291.0059
          ],
          [
           "Valverde de Llerena",
           575.8016
          ],
          [
           "Valverde de Mérida",
           271.6688
          ],
          [
           "Valle de la Serena",
           429.2383
          ],
          [
           "Valle de Matamoros",
           588.3872
          ],
          [
           "Valle de Santa Ana",
           492.5686
          ],
          [
           "Villafranca de los Barros",
           424.6475
          ],
          [
           "Villagarcía de la Torre",
           592.4898
          ],
          [
           "Villagonzalo",
           238.0459
          ],
          [
           "Villalba de los Barros",
           310.169
          ],
          [
           "Villanueva de la Serena",
           298.9061
          ],
          [
           "Villanueva del Fresno",
           255.68
          ],
          [
           "Villar del Rey",
           247.6167
          ],
          [
           "Villar de Rena",
           268.562
          ],
          [
           "Villarta de los Montes",
           546.1343
          ],
          [
           "Zafra",
           517.2546
          ],
          [
           "Zahínos",
           345.8639
          ],
          [
           "Zalamea de la Serena",
           482.5517
          ],
          [
           "Zarza-Capilla",
           533.903
          ],
          [
           "Zarza, La",
           285.378
          ],
          [
           "Valdelacalzada",
           184.8226
          ],
          [
           "Pueblonuevo del Guadiana",
           181.9205
          ],
          [
           "Alaró",
           224.2227
          ],
          [
           "Alaior",
           114
          ],
          [
           "Alcúdia",
           15.67431
          ],
          [
           "Algaida",
           193.2809
          ],
          [
           "Andratx",
           60.20264
          ],
          [
           "Artà",
           130.6105
          ],
          [
           "Banyalbufar",
           109.7573
          ],
          [
           "Binissalem",
           129.6953
          ],
          [
           "Búger",
           93.89581
          ],
          [
           "Bunyola",
           216.3141
          ],
          [
           "Calvià",
           114.0867
          ],
          [
           "Campanet",
           127.2656
          ],
          [
           "Campos",
           22.76925
          ],
          [
           "Capdepera",
           117.9911
          ],
          [
           "Ciutadella de Menorca",
           26.66946
          ],
          [
           "Consell",
           148.8572
          ],
          [
           "Costitx",
           135.5031
          ],
          [
           "Escorca",
           690.5303
          ],
          [
           "Esporles",
           187.8363
          ],
          [
           "Estellencs",
           151.0275
          ],
          [
           "Felanitx",
           116.2949
          ],
          [
           "Ferreries",
           74.94495
          ],
          [
           "Formentera",
           21.56246
          ],
          [
           "Fornalutx",
           148.4023
          ],
          [
           "Eivissa",
           9.813921
          ],
          [
           "Inca",
           116.5367
          ],
          [
           "Lloret de Vistalegre",
           159.5069
          ],
          [
           "Lloseta",
           166.5043
          ],
          [
           "Llubí",
           69.92153
          ],
          [
           "Llucmajor",
           138.0817
          ],
          [
           "Maó",
           39.57444
          ],
          [
           "Manacor",
           75.37592
          ],
          [
           "Mancor de la Vall",
           205.7321
          ],
          [
           "Maria de la Salut",
           86.95065
          ],
          [
           "Marratxí",
           125.666
          ],
          [
           "Mercadal, Es",
           58.13219
          ],
          [
           "Montuïri",
           152.9209
          ],
          [
           "Muro",
           62.19497
          ],
          [
           "Palma",
           31.92724
          ],
          [
           "Petra",
           112.8493
          ],
          [
           "Pollença",
           49.42315
          ],
          [
           "Porreres",
           130.0504
          ],
          [
           "Pobla, Sa",
           24.64385
          ],
          [
           "Puigpunyent",
           221.9999
          ],
          [
           "Sant Antoni de Portmany",
           4.347667
          ],
          [
           "Sencelles",
           117.951
          ],
          [
           "Sant Josep de sa Talaia",
           201.3573
          ],
          [
           "Sant Joan",
           138.863
          ],
          [
           "Sant Joan de Labritja",
           189.9139
          ],
          [
           "Sant Llorenç des Cardassar",
           73.45789
          ],
          [
           "Sant Lluís",
           59.16509
          ],
          [
           "Santa Eugènia",
           130.224
          ],
          [
           "Santa Margalida",
           80.91718
          ],
          [
           "Santa María del Camí",
           128.8374
          ],
          [
           "Santanyí",
           62.64299
          ],
          [
           "Selva",
           193.6428
          ],
          [
           "Salines, Ses",
           42.5712
          ],
          [
           "Sineu",
           141.6883
          ],
          [
           "Sóller",
           42.06099
          ],
          [
           "Son Servera",
           73.98268
          ],
          [
           "Valldemossa",
           415.1554
          ],
          [
           "Castell, Es",
           19.78382
          ],
          [
           "Vilafranca de Bonany",
           98.93115
          ],
          [
           "Ariany",
           122.6419
          ],
          [
           "Migjorn Gran, Es",
           114.6791
          ],
          [
           "Abrera",
           109.4215
          ],
          [
           "Aguilar de Segarra",
           485.7191
          ],
          [
           "Alella",
           98.87153
          ],
          [
           "Alpens",
           871.324
          ],
          [
           "Ametlla del Vallès, L'",
           292.0488
          ],
          [
           "Arenys de Mar",
           13.99495
          ],
          [
           "Arenys de Munt",
           135.549
          ],
          [
           "Argençola",
           713.9279
          ],
          [
           "Argentona",
           92.69514
          ],
          [
           "Artés",
           318.0594
          ],
          [
           "Avià",
           666.2902
          ],
          [
           "Avinyó",
           358.056
          ],
          [
           "Avinyonet del Penedès",
           283.9233
          ],
          [
           "Aiguafreda",
           410.6152
          ],
          [
           "Badalona",
           16.7426
          ],
          [
           "Bagà",
           756.5488
          ],
          [
           "Balenyà",
           593.3597
          ],
          [
           "Balsareny",
           332.1174
          ],
          [
           "Barcelona",
           19.99069
          ],
          [
           "Begues",
           371.5191
          ],
          [
           "Bellprat",
           644.4128
          ],
          [
           "Berga",
           717.4442
          ],
          [
           "Borredà",
           854.1898
          ],
          [
           "Bruc, El",
           486.0568
          ],
          [
           "Brull, El",
           844.6136
          ],
          [
           "Cabanyes, Les",
           255.9891
          ],
          [
           "Cabrera d'Anoia",
           298.3023
          ],
          [
           "Cabrera de Mar",
           91.71696
          ],
          [
           "Cabrils",
           143.7525
          ],
          [
           "Calaf",
           682.8802
          ],
          [
           "Caldes d'Estrac",
           26.84373
          ],
          [
           "Caldes de Montbui",
           207.0234
          ],
          [
           "Calders",
           553.9763
          ],
          [
           "Calella",
           11.84439
          ],
          [
           "Calonge de Segarra",
           600.3174
          ],
          [
           "Calldetenes",
           492.9868
          ],
          [
           "Callús",
           259.3951
          ],
          [
           "Campins",
           326.2226
          ],
          [
           "Canet de Mar",
           20.65502
          ],
          [
           "Canovelles",
           152.383
          ],
          [
           "Cànoves i Samalús",
           353.0184
          ],
          [
           "Canyelles",
           141.6833
          ],
          [
           "Capellades",
           371.6293
          ],
          [
           "Capolat",
           1256.905
          ],
          [
           "Cardedeu",
           195.9439
          ],
          [
           "Cardona",
           513.4745
          ],
          [
           "Carme",
           333.2925
          ],
          [
           "Casserres",
           589.9404
          ],
          [
           "Castellar del Riu",
           1513.436
          ],
          [
           "Castellar del Vallès",
           326.716
          ],
          [
           "Castellar de n'Hug",
           1395.379
          ],
          [
           "Castellbell i el Vilar",
           204.0168
          ],
          [
           "Castellbisbal",
           155.6016
          ],
          [
           "Castellcir",
           777.0593
          ],
          [
           "Castelldefels",
           11.07469
          ],
          [
           "Castell de l'Areny",
           968.3701
          ],
          [
           "Castellet i la Gornal",
           136.4205
          ],
          [
           "Castellfollit del Boix",
           698.686
          ],
          [
           "Castellfollit de Riubregós",
           490.0403
          ],
          [
           "Castellgalí",
           253.3427
          ],
          [
           "Castellnou de Bages",
           495.1176
          ],
          [
           "Castellolí",
           398.4724
          ],
          [
           "Castellterçol",
           726.6985
          ],
          [
           "Castellví de la Marca",
           245.9974
          ],
          [
           "Castellví de Rosanes",
           180.9096
          ],
          [
           "Centelles",
           520.1739
          ],
          [
           "Cervelló",
           124.1015
          ],
          [
           "Collbató",
           356.3489
          ],
          [
           "Collsuspina",
           903.0676
          ],
          [
           "Copons",
           427.6519
          ],
          [
           "Corbera de Llobregat",
           247.6125
          ],
          [
           "Cornellà de Llobregat",
           34.61025
          ],
          [
           "Cubelles",
           17.76687
          ],
          [
           "Dosrius",
           145.7481
          ],
          [
           "Esparreguera",
           186.3232
          ],
          [
           "Esplugues de Llobregat",
           102.3782
          ],
          [
           "Espunyola, L'",
           800.0547
          ],
          [
           "Estany, L'",
           871.5331
          ],
          [
           "Fígols",
           1165.989
          ],
          [
           "Fogars de Montclús",
           387.6345
          ],
          [
           "Fogars de la Selva",
           103.0012
          ],
          [
           "Folgueroles",
           549.4312
          ],
          [
           "Fonollosa",
           543.1286
          ],
          [
           "Font-rubí",
           570.7221
          ],
          [
           "Franqueses del Vallès, Les",
           193.2448
          ],
          [
           "Gallifa",
           499.525
          ],
          [
           "Garriga, La",
           254.3281
          ],
          [
           "Gavà",
           17.60962
          ],
          [
           "Gaià",
           476.878
          ],
          [
           "Gelida",
           179.6132
          ],
          [
           "Gironella",
           448.126
          ],
          [
           "Gisclareny",
           1322.767
          ],
          [
           "Granada, La",
           262.5426
          ],
          [
           "Granera",
           770.4465
          ],
          [
           "Granollers",
           153.9423
          ],
          [
           "Gualba",
           179.8176
          ],
          [
           "Sant Salvador de Guardiola",
           328.5852
          ],
          [
           "Guardiola de Berguedà",
           736.9873
          ],
          [
           "Gurb",
           510.7029
          ],
          [
           "Hospitalet de Llobregat, L'",
           15.67791
          ],
          [
           "Igualada",
           324.2647
          ],
          [
           "Jorba",
           392.2477
          ],
          [
           "Llacuna, La",
           2.997324
          ],
          [
           "Llagosta, La",
           54.71911
          ],
          [
           "Llinars del Vallès",
           188.906
          ],
          [
           "Lliçà d'Amunt",
           130.7585
          ],
          [
           "Lliçà de Vall",
           116.4834
          ],
          [
           "Lluçà",
           751.5039
          ],
          [
           "Malgrat de Mar",
           9.097663
          ],
          [
           "Malla",
           575.686
          ],
          [
           "Manlleu",
           453.0776
          ],
          [
           "Manresa",
           236.034
          ],
          [
           "Martorell",
           66.23137
          ],
          [
           "Martorelles",
           115.5095
          ],
          [
           "Masies de Voltregà, Les",
           536.5225
          ],
          [
           "Masnou, El",
           10.36085
          ],
          [
           "Masquefa",
           258.067
          ],
          [
           "Matadepera",
           421.1513
          ],
          [
           "Mataró",
           20.37009
          ],
          [
           "Mediona",
           526.9124
          ],
          [
           "Molins de Rei",
           33.16643
          ],
          [
           "Mollet del Vallès",
           74.09034
          ],
          [
           "Montcada i Reixac",
           37.0056
          ],
          [
           "Montgat",
           22.97567
          ],
          [
           "Monistrol de Montserrat",
           168.2423
          ],
          [
           "Monistrol de Calders",
           452.798
          ],
          [
           "Muntanyola",
           802.8712
          ],
          [
           "Montclar",
           699.5048
          ],
          [
           "Montesquiu",
           575.4601
          ],
          [
           "Montmajor",
           757.0117
          ],
          [
           "Montmaneu",
           714.0361
          ],
          [
           "Figaró-Montmany",
           326.0451
          ],
          [
           "Montmeló",
           84.53434
          ],
          [
           "Montornès del Vallès",
           100.0693
          ],
          [
           "Montseny",
           535.3168
          ],
          [
           "Moià",
           730.1093
          ],
          [
           "Mura",
           470.6466
          ],
          [
           "Navarcles",
           255.0479
          ],
          [
           "Navàs",
           371.9668
          ],
          [
           "Nou de Berguedà, La",
           865.2148
          ],
          [
           "Òdena",
           404.7818
          ],
          [
           "Olvan",
           566.9895
          ],
          [
           "Olèrdola",
           179.9567
          ],
          [
           "Olesa de Bonesvalls",
           273.3946
          ],
          [
           "Olesa de Montserrat",
           105.909
          ],
          [
           "Olivella",
           207.4666
          ],
          [
           "Olost",
           572.0165
          ],
          [
           "Orís",
           570.6917
          ],
          [
           "Oristà",
           467.3857
          ],
          [
           "Orpí",
           482.553
          ],
          [
           "Òrrius",
           254.5491
          ],
          [
           "Pacs del Penedès",
           210.873
          ],
          [
           "Palafolls",
           10.6715
          ],
          [
           "Palau-solità i Plegamans",
           137.2143
          ],
          [
           "Pallejà",
           43.74018
          ],
          [
           "Papiol, El",
           129.2383
          ],
          [
           "Parets del Vallès",
           97.48323
          ],
          [
           "Perafita",
           753.5203
          ],
          [
           "Piera",
           282.576
          ],
          [
           "Hostalets de Pierola, Els",
           369.2267
          ],
          [
           "Pineda de Mar",
           12.10963
          ],
          [
           "Pla del Penedès, El",
           227.2813
          ],
          [
           "Pobla de Claramunt, La",
           272.2743
          ],
          [
           "Pobla de Lillet, La",
           854.4056
          ],
          [
           "Polinyà",
           129.1282
          ],
          [
           "Pontons",
           588.9841
          ],
          [
           "Prat de Llobregat, El",
           10.36917
          ],
          [
           "Prats de Rei, Els",
           614.0353
          ],
          [
           "Prats de Lluçanès",
           709.0973
          ],
          [
           "Premià de Mar",
           13.17984
          ],
          [
           "Puigdàlber",
           239.9502
          ],
          [
           "Puig-reig",
           444.6947
          ],
          [
           "Pujalt",
           749.2104
          ],
          [
           "Quar, La",
           850.0149
          ],
          [
           "Rajadell",
           343.1941
          ],
          [
           "Rellinars",
           344.744
          ],
          [
           "Ripollet",
           81.84142
          ],
          [
           "Roca del Vallès, La",
           131.0679
          ],
          [
           "Pont de Vilomara i Rocafort, El",
           203.9381
          ],
          [
           "Roda de Ter",
           454.8112
          ],
          [
           "Rubí",
           133.4794
          ],
          [
           "Rubió",
           600.4712
          ],
          [
           "Sabadell",
           198.7852
          ],
          [
           "Sagàs",
           712.4318
          ],
          [
           "Sant Pere Sallavinera",
           587.7723
          ],
          [
           "Saldes",
           1233.967
          ],
          [
           "Sallent",
           279.7943
          ],
          [
           "Santpedor",
           324.6286
          ],
          [
           "Sant Iscle de Vallalta",
           127
          ],
          [
           "Sant Adrià de Besòs",
           18.77083
          ],
          [
           "Sant Agustí de Lluçanès",
           831.834
          ],
          [
           "Sant Andreu de la Barca",
           48.89596
          ],
          [
           "Sant Andreu de Llavaneres",
           112.0381
          ],
          [
           "Sant Antoni de Vilamajor",
           260.0836
          ],
          [
           "Sant Bartomeu del Grau",
           877.1983
          ],
          [
           "Sant Boi de Llobregat",
           22.73825
          ],
          [
           "Sant Boi de Lluçanès",
           807
          ],
          [
           "Sant Celoni",
           157.3233
          ],
          [
           "Sant Cebrià de Vallalta",
           77.32714
          ],
          [
           "Sant Climent de Llobregat",
           80.42606
          ],
          [
           "Sant Cugat del Vallès",
           130.2749
          ],
          [
           "Sant Cugat Sesgarrigues",
           269.0334
          ],
          [
           "Sant Esteve de Palautordera",
           237.4874
          ],
          [
           "Sant Esteve Sesrovires",
           178.7557
          ],
          [
           "Sant Fost de Campsentelles",
           112.3262
          ],
          [
           "Sant Feliu de Codines",
           486.7332
          ],
          [
           "Sant Feliu de Llobregat",
           31.72373
          ],
          [
           "Sant Feliu Sasserra",
           617.3484
          ],
          [
           "Sant Fruitós de Bages",
           261.4637
          ],
          [
           "Vilassar de Dalt",
           133.6058
          ],
          [
           "Sant Hipòlit de Voltregà",
           531.1494
          ],
          [
           "Sant Jaume de Frontanyà",
           1074.112
          ],
          [
           "Sant Joan Despí",
           20.53358
          ],
          [
           "Sant Joan de Vilatorrada",
           228.8402
          ],
          [
           "Vilassar de Mar",
           10.80674
          ],
          [
           "Sant Julià de Vilatorta",
           599.2924
          ],
          [
           "Sant Just Desvern",
           122.1042
          ],
          [
           "Sant Llorenç d'Hortons",
           216.0685
          ],
          [
           "Sant Llorenç Savall",
           487.5616
          ],
          [
           "Sant Martí de Centelles",
           724.98
          ],
          [
           "Sant Martí d'Albars",
           628.8278
          ],
          [
           "Sant Martí de Tous",
           444.6292
          ],
          [
           "Sant Martí Sarroca",
           296.2319
          ],
          [
           "Sant Martí Sesgueioles",
           646.0749
          ],
          [
           "Sant Mateu de Bages",
           572.9196
          ],
          [
           "Premià de Dalt",
           133.3237
          ],
          [
           "Sant Pere de Ribes",
           45.06723
          ],
          [
           "Sant Pere de Riudebitlles",
           252.1739
          ],
          [
           "Sant Pere de Torelló",
           621.7791
          ],
          [
           "Sant Pere de Vilamajor",
           298.7486
          ],
          [
           "Sant Pol de Mar",
           13.29345
          ],
          [
           "Sant Quintí de Mediona",
           333.5246
          ],
          [
           "Sant Quirze de Besora",
           572.5922
          ],
          [
           "Sant Quirze del Vallès",
           165.9138
          ],
          [
           "Sant Quirze Safaja",
           603.6134
          ],
          [
           "Sant Sadurní d'Anoia",
           168.4416
          ],
          [
           "Sant Sadurní d'Osormort",
           533.9646
          ],
          [
           "Marganell",
           313.6546
          ],
          [
           "Santa Cecília de Voltregà",
           522.2773
          ],
          [
           "Santa Coloma de Cervelló",
           76.92886
          ],
          [
           "Santa Coloma de Gramenet",
           37.66038
          ],
          [
           "Santa Eugènia de Berga",
           536.6241
          ],
          [
           "Santa Eulàlia de Riuprimer",
           575.5924
          ],
          [
           "Santa Eulàlia de Ronçana",
           221.9401
          ],
          [
           "Santa Fe del Penedès",
           239.9169
          ],
          [
           "Santa Margarida de Montbui",
           388.9097
          ],
          [
           "Santa Margarida i els Monjos",
           171.3222
          ],
          [
           "Barberà del Vallès",
           142.2961
          ],
          [
           "Santa Maria de Besora",
           871.7925
          ],
          [
           "Santa Maria de Merlès",
           518.8036
          ],
          [
           "Santa Maria de Martorelles",
           178.528
          ],
          [
           "Santa Maria de Miralles",
           553.0007
          ],
          [
           "Santa Maria d'Oló",
           515.0869
          ],
          [
           "Santa Maria de Palautordera",
           211.9186
          ],
          [
           "Santa Perpètua de Mogoda",
           81.15939
          ],
          [
           "Santa Susanna",
           50.67278
          ],
          [
           "Sant Vicenç de Castellet",
           175.3337
          ],
          [
           "Sant Vicenç dels Horts",
           32.74398
          ],
          [
           "Sant Vicenç de Montalt",
           177.863
          ],
          [
           "Sant Vicenç de Torelló",
           558.8644
          ],
          [
           "Cerdanyola del Vallès",
           87.2362
          ],
          [
           "Sentmenat",
           229.8691
          ],
          [
           "Cercs",
           749.4134
          ],
          [
           "Seva",
           672.0496
          ],
          [
           "Sitges",
           9.967733
          ],
          [
           "Sobremunt",
           881.4683
          ],
          [
           "Sora",
           695.3496
          ],
          [
           "Subirats",
           274.2937
          ],
          [
           "Súria",
           284.714
          ],
          [
           "Tavèrnoles",
           529.109
          ],
          [
           "Tagamanent",
           348.8652
          ],
          [
           "Talamanca",
           553.4589
          ],
          [
           "Taradell",
           633.068
          ],
          [
           "Terrassa",
           285.6018
          ],
          [
           "Tavertet",
           868.5259
          ],
          [
           "Teià",
           117.6808
          ],
          [
           "Tiana",
           124.7599
          ],
          [
           "Tona",
           602.5104
          ],
          [
           "Tordera",
           31.37682
          ],
          [
           "Torelló",
           507.7611
          ],
          [
           "Torre de Claramunt, La",
           367.9993
          ],
          [
           "Torrelavit",
           201.7227
          ],
          [
           "Torrelles de Foix",
           380.5124
          ],
          [
           "Torrelles de Llobregat",
           154.783
          ],
          [
           "Ullastrell",
           314.4088
          ],
          [
           "Vacarisses",
           406.7665
          ],
          [
           "Vallbona d'Anoia",
           297.2954
          ],
          [
           "Vallcebre",
           1127.919
          ],
          [
           "Vallgorguina",
           223.2106
          ],
          [
           "Vallirana",
           184.8448
          ],
          [
           "Vallromanes",
           155.1461
          ],
          [
           "Veciana",
           556.9959
          ],
          [
           "Vic",
           505.4679
          ],
          [
           "Vilada",
           724.7032
          ],
          [
           "Viladecavalls",
           265.7476
          ],
          [
           "Viladecans",
           19.77518
          ],
          [
           "Vilanova del Camí",
           313.7972
          ],
          [
           "Vilanova de Sau",
           557.92
          ],
          [
           "Vilobí del Penedès",
           284.1465
          ],
          [
           "Vilafranca del Penedès",
           230.5926
          ],
          [
           "Vilalba Sasserra",
           221.1936
          ],
          [
           "Vilanova i la Geltrú",
           25.03975
          ],
          [
           "Viver i Serrateix",
           724.3826
          ],
          [
           "Rupit i Pruit",
           843.8084
          ],
          [
           "Vilanova del Vallès",
           92.16563
          ],
          [
           "Sant Julià de Cerdanyola",
           967.7538
          ],
          [
           "Badia del Vallès",
           122.4438
          ],
          [
           "Palma de Cervelló, La",
           110.9084
          ],
          [
           "Abajas",
           837.949
          ],
          [
           "Adrada de Haza",
           824.687
          ],
          [
           "Aguas Cándidas",
           712.041
          ],
          [
           "Aguilar de Bureba",
           689.226
          ],
          [
           "Albillos",
           832.9681
          ],
          [
           "Alcocero de Mola",
           799.6028
          ],
          [
           "Alfoz de Bricia",
           847.3563
          ],
          [
           "Alfoz de Santa Gadea",
           882.3184
          ],
          [
           "Altable",
           711.29
          ],
          [
           "Altos, Los",
           1026.667
          ],
          [
           "Ameyugo",
           553.5253
          ],
          [
           "Anguix",
           814.4943
          ],
          [
           "Aranda de Duero",
           805.1658
          ],
          [
           "Arandilla",
           885.0873
          ],
          [
           "Arauzo de Miel",
           1003.22
          ],
          [
           "Arauzo de Salce",
           944.5539
          ],
          [
           "Arauzo de Torre",
           922.907
          ],
          [
           "Arcos",
           851.1382
          ],
          [
           "Arenillas de Riopisuerga",
           788.459
          ],
          [
           "Arija",
           844.3306
          ],
          [
           "Arlanzón",
           995.9109
          ],
          [
           "Arraya de Oca",
           926.2366
          ],
          [
           "Atapuerca",
           953.9974
          ],
          [
           "Ausines, Los",
           914.6774
          ],
          [
           "Avellanosa de Muñó",
           870.7616
          ],
          [
           "Bahabón de Esgueva",
           916.0064
          ],
          [
           "Balbases, Los",
           811.7905
          ],
          [
           "Baños de Valdearados",
           870.1116
          ],
          [
           "Bañuelos de Bureba",
           784.2388
          ],
          [
           "Barbadillo de Herreros",
           1408.983
          ],
          [
           "Barbadillo del Mercado",
           955.1722
          ],
          [
           "Barbadillo del Pez",
           1053.858
          ],
          [
           "Barrio de Muñó",
           782.927
          ],
          [
           "Barrios de Bureba, Los",
           631.6701
          ],
          [
           "Barrios de Colina",
           964.8784
          ],
          [
           "Basconcillos del Tozo",
           910.5488
          ],
          [
           "Bascuñana",
           800.0485
          ],
          [
           "Belbimbre",
           793.7833
          ],
          [
           "Belorado",
           773.8459
          ],
          [
           "Berberana",
           620.4984
          ],
          [
           "Berlangas de Roa",
           781.4107
          ],
          [
           "Berzosa de Bureba",
           679.3917
          ],
          [
           "Bozoó",
           572.3182
          ],
          [
           "Brazacorta",
           909.0886
          ],
          [
           "Briviesca",
           725
          ],
          [
           "Bugedo",
           533.7709
          ],
          [
           "Buniel",
           819.815
          ],
          [
           "Burgos",
           865.8016
          ],
          [
           "Busto de Bureba",
           708.1784
          ],
          [
           "Cabañes de Esgueva",
           885.2454
          ],
          [
           "Cabezón de la Sierra",
           1016.805
          ],
          [
           "Cavia",
           815.5443
          ],
          [
           "Caleruega",
           955.7069
          ],
          [
           "Campillo de Aranda",
           912.9706
          ],
          [
           "Campolara",
           971.9648
          ],
          [
           "Canicosa de la Sierra",
           1130.863
          ],
          [
           "Cantabrana",
           636.0662
          ],
          [
           "Carazo",
           1127.545
          ],
          [
           "Carcedo de Bureba",
           751.9003
          ],
          [
           "Carcedo de Burgos",
           989.6016
          ],
          [
           "Cardeñadijo",
           899.719
          ],
          [
           "Cardeñajimeno",
           924.9677
          ],
          [
           "Cardeñuela Riopico",
           926.5973
          ],
          [
           "Carrias",
           821.5297
          ],
          [
           "Cascajares de Bureba",
           802.5067
          ],
          [
           "Cascajares de la Sierra",
           927.9459
          ],
          [
           "Castellanos de Castro",
           873.9877
          ],
          [
           "Castildelgado",
           768.4348
          ],
          [
           "Castil de Peones",
           790.1807
          ],
          [
           "Castrillo de la Reina",
           978.027
          ],
          [
           "Castrillo de la Vega",
           808.438
          ],
          [
           "Castrillo del Val",
           942.9785
          ],
          [
           "Castrillo de Riopisuerga",
           816.8545
          ],
          [
           "Castrojeriz",
           816.0674
          ],
          [
           "Cayuela",
           821.8987
          ],
          [
           "Cebrecos",
           950.4548
          ],
          [
           "Celada del Camino",
           796.4451
          ],
          [
           "Cerezo de Río Tirón",
           650.4071
          ],
          [
           "Cerratón de Juarros",
           959.26
          ],
          [
           "Ciadoncha",
           789.7081
          ],
          [
           "Cillaperlata",
           540.39
          ],
          [
           "Cilleruelo de Abajo",
           915.1015
          ],
          [
           "Cilleruelo de Arriba",
           966.1483
          ],
          [
           "Ciruelos de Cervera",
           1019.25
          ],
          [
           "Cogollos",
           887.1991
          ],
          [
           "Condado de Treviño",
           561.0759
          ],
          [
           "Contreras",
           1023.346
          ],
          [
           "Coruña del Conde",
           907.8076
          ],
          [
           "Covarrubias",
           895.1803
          ],
          [
           "Cubillo del Campo",
           991.9786
          ],
          [
           "Cubo de Bureba",
           685
          ],
          [
           "Cueva de Roa, La",
           768.5865
          ],
          [
           "Cuevas de San Clemente",
           1030.792
          ],
          [
           "Encío",
           588.3317
          ],
          [
           "Espinosa de Cervera",
           1030.725
          ],
          [
           "Espinosa del Camino",
           894.847
          ],
          [
           "Espinosa de los Monteros",
           753.3468
          ],
          [
           "Estépar",
           810.9069
          ],
          [
           "Fontioso",
           959.9049
          ],
          [
           "Frandovínez",
           823.8157
          ],
          [
           "Fresneda de la Sierra Tirón",
           983.1557
          ],
          [
           "Fresneña",
           843.5111
          ],
          [
           "Fresnillo de las Dueñas",
           803.7737
          ],
          [
           "Fresno de Río Tirón",
           706.4641
          ],
          [
           "Fresno de Rodilla",
           975.9765
          ],
          [
           "Frías",
           552.6826
          ],
          [
           "Fuentebureba",
           679.7742
          ],
          [
           "Fuentecén",
           823.7171
          ],
          [
           "Fuentelcésped",
           891.0616
          ],
          [
           "Fuentelisendo",
           829.7731
          ],
          [
           "Fuentemolinos",
           881.0905
          ],
          [
           "Fuentenebro",
           917.0896
          ],
          [
           "Fuentespina",
           824.6624
          ],
          [
           "Galbarros",
           942.7526
          ],
          [
           "Gallega, La",
           1113.472
          ],
          [
           "Grijalba",
           813.0934
          ],
          [
           "Grisaleña",
           743.1436
          ],
          [
           "Gumiel de Izán",
           857.4003
          ],
          [
           "Gumiel de Mercado",
           836.8545
          ],
          [
           "Hacinas",
           999.0156
          ],
          [
           "Haza",
           902.7407
          ],
          [
           "Hontanas",
           864.0971
          ],
          [
           "Hontangas",
           839.5234
          ],
          [
           "Hontoria de la Cantera",
           942.0605
          ],
          [
           "Hontoria del Pinar",
           1059.013
          ],
          [
           "Hontoria de Valdearados",
           867.0024
          ],
          [
           "Hormazas, Las",
           1009.913
          ],
          [
           "Hornillos del Camino",
           821.6969
          ],
          [
           "Horra, La",
           807.9294
          ],
          [
           "Hortigüela",
           937.3899
          ],
          [
           "Hoyales de Roa",
           795.561
          ],
          [
           "Huérmeces",
           886.0017
          ],
          [
           "Huerta de Arriba",
           1206.336
          ],
          [
           "Huerta de Rey",
           991.6105
          ],
          [
           "Humada",
           954.9947
          ],
          [
           "Hurones",
           915.0182
          ],
          [
           "Ibeas de Juarros",
           932.6844
          ],
          [
           "Ibrillos",
           739.1857
          ],
          [
           "Iglesiarrubia",
           886.8805
          ],
          [
           "Iglesias",
           850.6342
          ],
          [
           "Isar",
           835.423
          ],
          [
           "Itero del Castillo",
           775.8432
          ],
          [
           "Jaramillo de la Fuente",
           1056.931
          ],
          [
           "Jaramillo Quemado",
           975.7737
          ],
          [
           "Junta de Traslaloma",
           674.0426
          ],
          [
           "Junta de Villalba de Losa",
           665.9935
          ],
          [
           "Jurisdicción de Lara",
           991.6866
          ],
          [
           "Jurisdicción de San Zadornil",
           645.5733
          ],
          [
           "Lerma",
           861.3351
          ],
          [
           "Llano de Bureba",
           643.2963
          ],
          [
           "Madrigal del Monte",
           936.2405
          ],
          [
           "Madrigalejo del Monte",
           893.5258
          ],
          [
           "Mahamud",
           829.49
          ],
          [
           "Mambrilla de Castrejón",
           825.6786
          ],
          [
           "Mambrillas de Lara",
           991.4476
          ],
          [
           "Mamolar",
           1087.678
          ],
          [
           "Manciles",
           883.8896
          ],
          [
           "Mazuela",
           823.2963
          ],
          [
           "Mecerreyes",
           988.3194
          ],
          [
           "Medina de Pomar",
           600.9326
          ],
          [
           "Melgar de Fernamental",
           804.4712
          ],
          [
           "Merindad de Cuesta-Urria",
           914.2464
          ],
          [
           "Merindad de Montija",
           739.4695
          ],
          [
           "Merindad de Sotoscueva",
           760.6615
          ],
          [
           "Merindad de Valdeporres",
           754.3774
          ],
          [
           "Merindad de Valdivielso",
           594.3845
          ],
          [
           "Milagros",
           848.9799
          ],
          [
           "Miranda de Ebro",
           465.1602
          ],
          [
           "Miraveche",
           804.4718
          ],
          [
           "Modúbar de la Emparedada",
           887.0018
          ],
          [
           "Monasterio de la Sierra",
           1169.284
          ],
          [
           "Monasterio de Rodilla",
           877.2269
          ],
          [
           "Moncalvillo",
           1049.716
          ],
          [
           "Monterrubio de la Demanda",
           1209.271
          ],
          [
           "Montorio",
           945.1601
          ],
          [
           "Moradillo de Roa",
           919.9839
          ],
          [
           "Nava de Roa",
           785.074
          ],
          [
           "Navas de Bureba",
           764.6017
          ],
          [
           "Nebreda",
           916.8637
          ],
          [
           "Neila",
           1180.486
          ],
          [
           "Olmedillo de Roa",
           840.8633
          ],
          [
           "Olmillos de Muñó",
           807.4762
          ],
          [
           "Oña",
           585.5073
          ],
          [
           "Oquillas",
           913.3432
          ],
          [
           "Orbaneja Riopico",
           911.2252
          ],
          [
           "Padilla de Abajo",
           798.9708
          ],
          [
           "Padilla de Arriba",
           830.7649
          ],
          [
           "Padrones de Bureba",
           781.8212
          ],
          [
           "Palacios de la Sierra",
           1065.092
          ],
          [
           "Palacios de Riopisuerga",
           777.4734
          ],
          [
           "Palazuelos de la Sierra",
           1107.045
          ],
          [
           "Palazuelos de Muñó",
           786.5093
          ],
          [
           "Pampliega",
           807.5865
          ],
          [
           "Pancorbo",
           631.5779
          ],
          [
           "Pardilla",
           883.9958
          ],
          [
           "Partido de la Sierra en Tobalina",
           919.4133
          ],
          [
           "Pedrosa de Duero",
           840.3677
          ],
          [
           "Pedrosa del Páramo",
           943.9882
          ],
          [
           "Pedrosa del Príncipe",
           772.689
          ],
          [
           "Pedrosa de Río Úrbel",
           844.2335
          ],
          [
           "Peñaranda de Duero",
           863.9903
          ],
          [
           "Peral de Arlanza",
           774.4771
          ],
          [
           "Piérnigas",
           742.1521
          ],
          [
           "Pineda de la Sierra",
           1207.499
          ],
          [
           "Pineda Trasmonte",
           951.4017
          ],
          [
           "Pinilla de los Barruecos",
           1078.882
          ],
          [
           "Pinilla de los Moros",
           972.2211
          ],
          [
           "Pinilla Trasmonte",
           935.5198
          ],
          [
           "Poza de la Sal",
           756.3673
          ],
          [
           "Prádanos de Bureba",
           757.1823
          ],
          [
           "Pradoluengo",
           967.4692
          ],
          [
           "Presencio",
           812.668
          ],
          [
           "Puebla de Arganzón, La",
           481.9095
          ],
          [
           "Puentedura",
           863.5676
          ],
          [
           "Quemada",
           845.9969
          ],
          [
           "Quintanabureba",
           685.0708
          ],
          [
           "Quintana del Pidio",
           845.543
          ],
          [
           "Quintanaélez",
           706.2351
          ],
          [
           "Quintanaortuño",
           866.8036
          ],
          [
           "Quintanapalla",
           926.6073
          ],
          [
           "Quintanar de la Sierra",
           1123.957
          ],
          [
           "Quintanavides",
           821.1276
          ],
          [
           "Quintanilla de la Mata",
           879.5328
          ],
          [
           "Quintanilla del Coco",
           944.5446
          ],
          [
           "Quintanillas, Las",
           845.5656
          ],
          [
           "Quintanilla San García",
           728.1328
          ],
          [
           "Quintanilla Vivar",
           847.6979
          ],
          [
           "Rabanera del Pinar",
           1089.831
          ],
          [
           "Rábanos",
           1169.908
          ],
          [
           "Rabé de las Calzadas",
           828.6588
          ],
          [
           "Rebolledo de la Torre",
           946.585
          ],
          [
           "Redecilla del Camino",
           742.664
          ],
          [
           "Redecilla del Campo",
           744.6154
          ],
          [
           "Regumiel de la Sierra",
           1119.525
          ],
          [
           "Reinoso",
           857.253
          ],
          [
           "Retuerta",
           898.2924
          ],
          [
           "Revilla y Ahedo, La",
           1016.2
          ],
          [
           "Revilla del Campo",
           943.8928
          ],
          [
           "Revillarruz",
           887.4633
          ],
          [
           "Revilla Vallejera",
           790.5965
          ],
          [
           "Rezmondo",
           829.0405
          ],
          [
           "Riocavado de la Sierra",
           1138.1
          ],
          [
           "Roa",
           816.1801
          ],
          [
           "Rojas",
           722.4857
          ],
          [
           "Royuela de Río Franco",
           836.2991
          ],
          [
           "Rubena",
           907.232
          ],
          [
           "Rublacedo de Abajo",
           791.6646
          ],
          [
           "Rucandio",
           814.6119
          ],
          [
           "Salas de Bureba",
           636.4282
          ],
          [
           "Salas de los Infantes",
           955.1323
          ],
          [
           "Saldaña de Burgos",
           865.5466
          ],
          [
           "Salinillas de Bureba",
           864.7104
          ],
          [
           "San Adrián de Juarros",
           1046.845
          ],
          [
           "San Juan del Monte",
           840.6755
          ],
          [
           "San Mamés de Burgos",
           839.3281
          ],
          [
           "San Martín de Rubiales",
           807.8439
          ],
          [
           "San Millán de Lara",
           1091.387
          ],
          [
           "Santa Cecilia",
           838.1049
          ],
          [
           "Santa Cruz de la Salceda",
           877.335
          ],
          [
           "Santa Cruz del Valle Urbión",
           966.4688
          ],
          [
           "Santa Gadea del Cid",
           504.1093
          ],
          [
           "Santa Inés",
           855.8006
          ],
          [
           "Santa María del Campo",
           820.0243
          ],
          [
           "Santa María del Invierno",
           856.8571
          ],
          [
           "Santa María del Mercadillo",
           961.0493
          ],
          [
           "Santa Olalla de Bureba",
           842.1753
          ],
          [
           "Santibáñez de Esgueva",
           916.1117
          ],
          [
           "Santibáñez del Val",
           940.0613
          ],
          [
           "Santo Domingo de Silos",
           1003.193
          ],
          [
           "San Vicente del Valle",
           959.6901
          ],
          [
           "Sargentes de la Lora",
           1016.58
          ],
          [
           "Sarracín",
           861.6798
          ],
          [
           "Sasamón",
           822.8265
          ],
          [
           "Sequera de Haza, La",
           865.857
          ],
          [
           "Solarana",
           903.6647
          ],
          [
           "Sordillos",
           820.5914
          ],
          [
           "Sotillo de la Ribera",
           846.7383
          ],
          [
           "Sotragero",
           848.6204
          ],
          [
           "Sotresgudo",
           867.8129
          ],
          [
           "Susinos del Páramo",
           891.6351
          ],
          [
           "Tamarón",
           819.7283
          ],
          [
           "Tardajos",
           820.7985
          ],
          [
           "Tejada",
           1088.137
          ],
          [
           "Terradillos de Esgueva",
           871.492
          ],
          [
           "Tinieblas de la Sierra",
           1117.56
          ],
          [
           "Tobar",
           881.2235
          ],
          [
           "Tordómar",
           810.6567
          ],
          [
           "Torrecilla del Monte",
           940.4993
          ],
          [
           "Torregalindo",
           837.1947
          ],
          [
           "Torrelara",
           994.3602
          ],
          [
           "Torrepadre",
           804.0082
          ],
          [
           "Torresandino",
           855.1797
          ],
          [
           "Tórtoles de Esgueva",
           847.5756
          ],
          [
           "Tosantos",
           821.4364
          ],
          [
           "Trespaderne",
           553.7908
          ],
          [
           "Tubilla del Agua",
           765.2631
          ],
          [
           "Tubilla del Lago",
           890.4365
          ],
          [
           "Úrbel del Castillo",
           939.2537
          ],
          [
           "Vadocondes",
           811.2837
          ],
          [
           "Valdeande",
           953.6688
          ],
          [
           "Valdezate",
           819.2969
          ],
          [
           "Valdorros",
           902.2606
          ],
          [
           "Valmala",
           992.0233
          ],
          [
           "Vallarta de Bureba",
           716.6888
          ],
          [
           "Valle de Manzanedo",
           620.3103
          ],
          [
           "Valle de Mena",
           316.4509
          ],
          [
           "Valle de Oca",
           861.2545
          ],
          [
           "Valle de Tobalina",
           551.9635
          ],
          [
           "Valle de Valdebezana",
           837.9944
          ],
          [
           "Valle de Valdelaguna",
           1153.362
          ],
          [
           "Valle de Valdelucio",
           956.92
          ],
          [
           "Valle de Zamanzas",
           732.0581
          ],
          [
           "Vallejera",
           809.662
          ],
          [
           "Valles de Palenzuela",
           800.1052
          ],
          [
           "Valluércanes",
           702.7288
          ],
          [
           "Vid y Barrios, La",
           821.0573
          ],
          [
           "Vid de Bureba, La",
           695.98
          ],
          [
           "Vileña",
           664.5483
          ],
          [
           "Viloria de Rioja",
           797.8878
          ],
          [
           "Vilviestre del Pinar",
           1125.399
          ],
          [
           "Villadiego",
           839.8806
          ],
          [
           "Villaescusa de Roa",
           897.6312
          ],
          [
           "Villaescusa la Sombría",
           905.8726
          ],
          [
           "Villaespasa",
           960.8056
          ],
          [
           "Villafranca Montes de Oca",
           957.1002
          ],
          [
           "Villafruela",
           909.7965
          ],
          [
           "Villagalijo",
           896.4912
          ],
          [
           "Villagonzalo Pedernales",
           901.259
          ],
          [
           "Villahoz",
           825.1154
          ],
          [
           "Villalba de Duero",
           812.4379
          ],
          [
           "Villalbilla de Burgos",
           840.6373
          ],
          [
           "Villalbilla de Gumiel",
           912.6685
          ],
          [
           "Villaldemiro",
           808.5146
          ],
          [
           "Villalmanzo",
           856.2233
          ],
          [
           "Villamayor de los Montes",
           886.0144
          ],
          [
           "Villamayor de Treviño",
           820.1368
          ],
          [
           "Villambistia",
           853.298
          ],
          [
           "Villamedianilla",
           799.8643
          ],
          [
           "Villamiel de la Sierra",
           1149.774
          ],
          [
           "Villangómez",
           845.0154
          ],
          [
           "Villanueva de Argaño",
           837.6054
          ],
          [
           "Villanueva de Carazo",
           1059.717
          ],
          [
           "Villanueva de Gumiel",
           844.9825
          ],
          [
           "Villanueva de Teba",
           722.023
          ],
          [
           "Villaquirán de la Puebla",
           812.8803
          ],
          [
           "Villaquirán de los Infantes",
           814.3567
          ],
          [
           "Villariezo",
           862.4636
          ],
          [
           "Villasandino",
           792.2771
          ],
          [
           "Villasur de Herreros",
           1030.04
          ],
          [
           "Villatuelda",
           858.7932
          ],
          [
           "Villaverde del Monte",
           848.5208
          ],
          [
           "Villaverde-Mogina",
           773.155
          ],
          [
           "Villayerno Morquillas",
           911.3355
          ],
          [
           "Villazopeque",
           782.1231
          ],
          [
           "Villegas",
           823
          ],
          [
           "Villoruebo",
           1121.721
          ],
          [
           "Vizcaínos",
           1025.813
          ],
          [
           "Zael",
           843.672
          ],
          [
           "Zarzosa de Río Pisuerga",
           821.7172
          ],
          [
           "Zazuar",
           839.9166
          ],
          [
           "Zuñeda",
           719.7062
          ],
          [
           "Quintanilla del Agua y Tordueles",
           886.2692
          ],
          [
           "Valle de Santibáñez",
           956.8112
          ],
          [
           "Villarcayo de Merindad de Castilla la Vieja",
           598.8633
          ],
          [
           "Valle de las Navas",
           880.0316
          ],
          [
           "Valle de Sedano",
           758.8844
          ],
          [
           "Merindad de Río Ubierna",
           965.3793
          ],
          [
           "Alfoz de Quintanadueñas",
           847.4794
          ],
          [
           "Valle de Losa",
           697.9474
          ],
          [
           "Abadía",
           452.6463
          ],
          [
           "Abertura",
           401.0113
          ],
          [
           "Acebo",
           514.3077
          ],
          [
           "Acehúche",
           338.1039
          ],
          [
           "Aceituna",
           484.0965
          ],
          [
           "Ahigal",
           389.4077
          ],
          [
           "Albalá",
           499.4348
          ],
          [
           "Alcántara",
           230.2392
          ],
          [
           "Alcollarín",
           314.6408
          ],
          [
           "Alcuéscar",
           473.301
          ],
          [
           "Aldeacentenera",
           566.658
          ],
          [
           "Aldea del Cano",
           397.4777
          ],
          [
           "Aldea del Obispo, La",
           436.7204
          ],
          [
           "Aldeanueva de la Vera",
           652.1578
          ],
          [
           "Aldeanueva del Camino",
           527.226
          ],
          [
           "Aldehuela de Jerte",
           260.1803
          ],
          [
           "Alía",
           578.4503
          ],
          [
           "Aliseda",
           325.5008
          ],
          [
           "Almaraz",
           272.2951
          ],
          [
           "Almoharín",
           305.6157
          ],
          [
           "Arroyo de la Luz",
           348.1518
          ],
          [
           "Arroyomolinos de la Vera",
           608.2899
          ],
          [
           "Arroyomolinos",
           397.1799
          ],
          [
           "Baños de Montemayor",
           700.7947
          ],
          [
           "Barrado",
           776.6094
          ],
          [
           "Belvís de Monroy",
           391.3559
          ],
          [
           "Benquerencia",
           444.9597
          ],
          [
           "Berrocalejo",
           375.8121
          ],
          [
           "Berzocana",
           718.6393
          ],
          [
           "Bohonal de Ibor",
           349.8538
          ],
          [
           "Botija",
           424.9815
          ],
          [
           "Brozas",
           410.4544
          ],
          [
           "Cabañas del Castillo",
           760.3389
          ],
          [
           "Cabezabellosa",
           855.8938
          ],
          [
           "Cabezuela del Valle",
           514.3602
          ],
          [
           "Cabrero",
           739.8882
          ],
          [
           "Cáceres",
           434.6162
          ],
          [
           "Cachorrilla",
           316.3804
          ],
          [
           "Cadalso",
           448.0928
          ],
          [
           "Calzadilla",
           359.1857
          ],
          [
           "Caminomorisco",
           467.3217
          ],
          [
           "Campillo de Deleitosa",
           491.2502
          ],
          [
           "Campo Lugar",
           303.4392
          ],
          [
           "Cañamero",
           609.7376
          ],
          [
           "Cañaveral",
           353.1965
          ],
          [
           "Carbajo",
           336.2229
          ],
          [
           "Carcaboso",
           275.1561
          ],
          [
           "Carrascalejo",
           591.9044
          ],
          [
           "Casar de Cáceres",
           366.4607
          ],
          [
           "Casar de Palomero",
           524.2137
          ],
          [
           "Casares de las Hurdes",
           688.3028
          ],
          [
           "Casas de Don Antonio",
           390.6183
          ],
          [
           "Casas de Don Gómez",
           322.1144
          ],
          [
           "Casas del Castañar",
           662.9862
          ],
          [
           "Casas del Monte",
           578.4438
          ],
          [
           "Casas de Millán",
           456.3329
          ],
          [
           "Casas de Miravete",
           442.9554
          ],
          [
           "Casatejada",
           273.4576
          ],
          [
           "Casillas de Coria",
           244.7277
          ],
          [
           "Castañar de Ibor",
           663.5353
          ],
          [
           "Ceclavín",
           329.5323
          ],
          [
           "Cedillo",
           265.7721
          ],
          [
           "Cerezo",
           394.5923
          ],
          [
           "Cilleros",
           448.878
          ],
          [
           "Conquista de la Sierra",
           441.5334
          ],
          [
           "Coria",
           239.4233
          ],
          [
           "Cuacos de Yuste",
           527.3668
          ],
          [
           "Cumbre, La",
           480.9445
          ],
          [
           "Deleitosa",
           566.3511
          ],
          [
           "Descargamaría",
           509.1357
          ],
          [
           "Eljas",
           578.0947
          ],
          [
           "Escurial",
           322.175
          ],
          [
           "Fresnedoso de Ibor",
           518.2465
          ],
          [
           "Galisteo",
           281.1528
          ],
          [
           "Garciaz",
           663.9293
          ],
          [
           "Garganta, La",
           1132.181
          ],
          [
           "Garganta la Olla",
           587.8572
          ],
          [
           "Gargantilla",
           641.0802
          ],
          [
           "Gargüera",
           526.4066
          ],
          [
           "Garrovillas de Alconétar",
           326.4898
          ],
          [
           "Garvín",
           501.7299
          ],
          [
           "Gata",
           665.3049
          ],
          [
           "Gordo, El",
           321.6666
          ],
          [
           "Granja, La",
           416.166
          ],
          [
           "Guadalupe",
           616.1213
          ],
          [
           "Guijo de Coria",
           446.9364
          ],
          [
           "Guijo de Galisteo",
           428.5826
          ],
          [
           "Guijo de Granadilla",
           390.9599
          ],
          [
           "Guijo de Santa Bárbara",
           865.0514
          ],
          [
           "Herguijuela",
           464.2786
          ],
          [
           "Hernán-Pérez",
           440.8669
          ],
          [
           "Herrera de Alcántara",
           255.0923
          ],
          [
           "Herreruela",
           324.7979
          ],
          [
           "Hervás",
           664.4932
          ],
          [
           "Hinojal",
           348.0721
          ],
          [
           "Holguera",
           280.2364
          ],
          [
           "Hoyos",
           525.2888
          ],
          [
           "Huélaga",
           283.5962
          ],
          [
           "Ibahernando",
           536.6814
          ],
          [
           "Jaraicejo",
           504.3943
          ],
          [
           "Jaraíz de la Vera",
           568.9706
          ],
          [
           "Jarandilla de la Vera",
           604.6482
          ],
          [
           "Jarilla",
           480.6181
          ],
          [
           "Jerte",
           593.6707
          ],
          [
           "Ladrillar",
           709.2778
          ],
          [
           "Logrosán",
           482.4496
          ],
          [
           "Losar de la Vera",
           533.0191
          ],
          [
           "Madrigal de la Vera",
           407.2852
          ],
          [
           "Madrigalejo",
           294.8462
          ],
          [
           "Madroñera",
           591.7178
          ],
          [
           "Majadas",
           260.0658
          ],
          [
           "Malpartida de Cáceres",
           374.2109
          ],
          [
           "Malpartida de Plasencia",
           442.2609
          ],
          [
           "Marchagaz",
           516.7504
          ],
          [
           "Mata de Alcántara",
           344.6729
          ],
          [
           "Membrío",
           327.1987
          ],
          [
           "Mesas de Ibor",
           488.5139
          ],
          [
           "Miajadas",
           299.2762
          ],
          [
           "Millanes",
           361.245
          ],
          [
           "Mirabel",
           504.2706
          ],
          [
           "Mohedas de Granadilla",
           448.7007
          ],
          [
           "Monroy",
           378.6369
          ],
          [
           "Montánchez",
           696.2783
          ],
          [
           "Montehermoso",
           397.063
          ],
          [
           "Moraleja",
           261.4155
          ],
          [
           "Morcillo",
           272.8168
          ],
          [
           "Navaconcejo",
           477.2957
          ],
          [
           "Navalmoral de la Mata",
           315.4144
          ],
          [
           "Navalvillar de Ibor",
           667.4202
          ],
          [
           "Navas del Madroño",
           434.7237
          ],
          [
           "Navezuelas",
           941.8161
          ],
          [
           "Nuñomoral",
           496.7727
          ],
          [
           "Oliva de Plasencia",
           408.5221
          ],
          [
           "Palomero",
           453.1881
          ],
          [
           "Pasarón de la Vera",
           600.1179
          ],
          [
           "Pedroso de Acim",
           470.9969
          ],
          [
           "Peraleda de la Mata",
           334.5811
          ],
          [
           "Peraleda de San Román",
           472.4771
          ],
          [
           "Perales del Puerto",
           434.3814
          ],
          [
           "Pescueza",
           333.9729
          ],
          [
           "Pesga, La",
           436.7784
          ],
          [
           "Piedras Albas",
           362.7316
          ],
          [
           "Pinofranqueado",
           457.8624
          ],
          [
           "Piornal",
           1169.494
          ],
          [
           "Plasencia",
           366.9232
          ],
          [
           "Plasenzuela",
           426.8089
          ],
          [
           "Portaje",
           377.8726
          ],
          [
           "Portezuelo",
           361.0681
          ],
          [
           "Pozuelo de Zarzón",
           465.7742
          ],
          [
           "Puerto de Santa Cruz",
           450.3737
          ],
          [
           "Rebollar",
           610.1049
          ],
          [
           "Riolobos",
           267.9027
          ],
          [
           "Robledillo de Gata",
           607.127
          ],
          [
           "Robledillo de la Vera",
           453.7922
          ],
          [
           "Robledillo de Trujillo",
           500.2191
          ],
          [
           "Robledollano",
           708.3437
          ],
          [
           "Romangordo",
           419.6048
          ],
          [
           "Ruanes",
           482.6433
          ],
          [
           "Salorino",
           328.6313
          ],
          [
           "Salvatierra de Santiago",
           438.1557
          ],
          [
           "San Martín de Trevejo",
           617.9815
          ],
          [
           "Santa Ana",
           488.676
          ],
          [
           "Santa Cruz de la Sierra",
           453.5517
          ],
          [
           "Santa Cruz de Paniagua",
           478.2463
          ],
          [
           "Santa Marta de Magasca",
           376.2589
          ],
          [
           "Santiago de Alcántara",
           346.0968
          ],
          [
           "Santiago del Campo",
           344.4483
          ],
          [
           "Santibáñez el Alto",
           645.5109
          ],
          [
           "Santibáñez el Bajo",
           374.1523
          ],
          [
           "Saucedilla",
           261.0471
          ],
          [
           "Segura de Toro",
           636.4227
          ],
          [
           "Serradilla",
           408.8365
          ],
          [
           "Serrejón",
           338.5384
          ],
          [
           "Sierra de Fuentes",
           439.375
          ],
          [
           "Talaván",
           402.4283
          ],
          [
           "Talaveruela de la Vera",
           574.3057
          ],
          [
           "Talayuela",
           287.0548
          ],
          [
           "Tejeda de Tiétar",
           446.3588
          ],
          [
           "Toril",
           258.9532
          ],
          [
           "Tornavacas",
           863.4183
          ],
          [
           "Torno, El",
           771.9241
          ],
          [
           "Torrecilla de los Ángeles",
           466.4605
          ],
          [
           "Torrecillas de la Tiesa",
           501.9348
          ],
          [
           "Torre de Don Miguel",
           555.9983
          ],
          [
           "Torre de Santa María",
           490.2715
          ],
          [
           "Torrejoncillo",
           323.6587
          ],
          [
           "Torrejón el Rubio",
           304.923
          ],
          [
           "Torremenga",
           528.885
          ],
          [
           "Torremocha",
           444.2932
          ],
          [
           "Torreorgaz",
           430.9886
          ],
          [
           "Torrequemada",
           441.6732
          ],
          [
           "Trujillo",
           529.2547
          ],
          [
           "Valdastillas",
           615.739
          ],
          [
           "Valdecañas de Tajo",
           368.6411
          ],
          [
           "Valdefuentes",
           478.5953
          ],
          [
           "Valdehúncar",
           372.1376
          ],
          [
           "Valdelacasa de Tajo",
           453.4802
          ],
          [
           "Valdemorales",
           440.133
          ],
          [
           "Valdeobispo",
           334.7701
          ],
          [
           "Valencia de Alcántara",
           462.1811
          ],
          [
           "Valverde de la Vera",
           504.3288
          ],
          [
           "Valverde del Fresno",
           492.8723
          ],
          [
           "Viandar de la Vera",
           548.8549
          ],
          [
           "Villa del Campo",
           469.004
          ],
          [
           "Villa del Rey",
           338.1065
          ],
          [
           "Villamesías",
           363.7874
          ],
          [
           "Villamiel",
           745.9667
          ],
          [
           "Villanueva de la Sierra",
           500.2086
          ],
          [
           "Villanueva de la Vera",
           512.8276
          ],
          [
           "Villar del Pedroso",
           495.528
          ],
          [
           "Villar de Plasencia",
           450.0623
          ],
          [
           "Villasbuenas de Gata",
           424.338
          ],
          [
           "Zarza de Granadilla",
           398.6644
          ],
          [
           "Zarza de Montánchez",
           452.4351
          ],
          [
           "Zarza la Mayor",
           303.9268
          ],
          [
           "Zorita",
           429.6986
          ],
          [
           "Rosalejo",
           278.185
          ],
          [
           "Alcalá de los Gazules",
           158.3963
          ],
          [
           "Alcalá del Valle",
           623.3366
          ],
          [
           "Algar",
           213.0833
          ],
          [
           "Algeciras",
           22.40544
          ],
          [
           "Algodonales",
           370.124
          ],
          [
           "Arcos de la Frontera",
           139.2057
          ],
          [
           "Barbate",
           15.97273
          ],
          [
           "Benaocaz",
           792.0704
          ],
          [
           "Bornos",
           153.5913
          ],
          [
           "Bosque, El",
           273.1861
          ],
          [
           "Cádiz",
           15.42415
          ],
          [
           "Castellar de la Frontera",
           30.78278
          ],
          [
           "Conil de la Frontera",
           33.70992
          ],
          [
           "Chiclana de la Frontera",
           13.2455
          ],
          [
           "Chipiona",
           11.72497
          ],
          [
           "Espera",
           147.471
          ],
          [
           "Gastor, El",
           600.3022
          ],
          [
           "Grazalema",
           830.5287
          ],
          [
           "Jerez de la Frontera",
           55.74849
          ],
          [
           "Jimena de la Frontera",
           131.443
          ],
          [
           "Línea de la Concepción, La",
           10.4049
          ],
          [
           "Olvera",
           606.7288
          ],
          [
           "Paterna de Rivera",
           125.9705
          ],
          [
           "Prado del Rey",
           423.1529
          ],
          [
           "Puerto de Santa María, El",
           14.76373
          ],
          [
           "Puerto Real",
           11.78617
          ],
          [
           "Puerto Serrano",
           162.2749
          ],
          [
           "Rota",
           14.28653
          ],
          [
           "San Fernando",
           21.14313
          ],
          [
           "Sanlúcar de Barrameda",
           11.0011
          ],
          [
           "San Roque",
           106.1072
          ],
          [
           "Setenil de las Bodegas",
           555.0465
          ],
          [
           "Tarifa",
           14.66109
          ],
          [
           "Torre Alháquime",
           471.3644
          ],
          [
           "Trebujena",
           72.16942
          ],
          [
           "Ubrique",
           326.7233
          ],
          [
           "Vejer de la Frontera",
           178.6806
          ],
          [
           "Villaluenga del Rosario",
           874.9724
          ],
          [
           "Villamartín",
           167.8091
          ],
          [
           "Zahara",
           507.4048
          ],
          [
           "Benalup-Casas Viejas",
           75.25459
          ],
          [
           "San José del Valle",
           142.0624
          ],
          [
           "Atzeneta del Maestrat",
           405.6302
          ],
          [
           "Aín",
           497.9523
          ],
          [
           "Albocàsser",
           534.062
          ],
          [
           "Alcalà de Xivert",
           159.6516
          ],
          [
           "Alcora, l'",
           274.3336
          ],
          [
           "Alcudia de Veo",
           476.4656
          ],
          [
           "Alfondeguilla",
           217.8936
          ],
          [
           "Algimia de Almonacid",
           496.8173
          ],
          [
           "Almedíjar",
           400.144
          ],
          [
           "Almenara",
           39.3216
          ],
          [
           "Altura",
           405.5518
          ],
          [
           "Arañuel",
           413.3797
          ],
          [
           "Argelita",
           312.0536
          ],
          [
           "Artana",
           256.8818
          ],
          [
           "Ayódar",
           388.7343
          ],
          [
           "Azuébar",
           277.0367
          ],
          [
           "Barracas",
           985.0495
          ],
          [
           "Betxí",
           99.3914
          ],
          [
           "Bejís",
           762.8378
          ],
          [
           "Benafer",
           588.7029
          ],
          [
           "Benafigos",
           932.0203
          ],
          [
           "Benicarló",
           17.99488
          ],
          [
           "Borriol",
           189.3589
          ],
          [
           "Borriana/Burriana",
           20.2599
          ],
          [
           "Cabanes",
           282.71
          ],
          [
           "Càlig",
           120.5571
          ],
          [
           "Canet lo Roig",
           327.9641
          ],
          [
           "Castell de Cabres",
           1137.328
          ],
          [
           "Castellfort",
           1170.34
          ],
          [
           "Castellnovo",
           370.4679
          ],
          [
           "Castillo de Villamalefa",
           817.1827
          ],
          [
           "Catí",
           663.7772
          ],
          [
           "Caudiel",
           635.6085
          ],
          [
           "Cervera del Maestre",
           262.3612
          ],
          [
           "Cinctorres",
           907.1009
          ],
          [
           "Cirat",
           390.5959
          ],
          [
           "Cortes de Arenoso",
           970.9901
          ],
          [
           "Costur",
           459.0224
          ],
          [
           "Coves de Vinromà, les",
           181.3896
          ],
          [
           "Culla",
           1086.087
          ],
          [
           "Chilches/Xilxes",
           9.052402
          ],
          [
           "Chóvar",
           416.2556
          ],
          [
           "Eslida",
           346.7823
          ],
          [
           "Espadilla",
           275.2972
          ],
          [
           "Fanzara",
           224.8748
          ],
          [
           "Figueroles",
           366.5962
          ],
          [
           "Forcall",
           704.9049
          ],
          [
           "Fuente la Reina",
           813.2039
          ],
          [
           "Fuentes de Ayódar",
           505.947
          ],
          [
           "Gaibiel",
           515.2784
          ],
          [
           "Geldo",
           304.1663
          ],
          [
           "Higueras",
           668.3716
          ],
          [
           "Jana, la",
           41.33101
          ],
          [
           "Jérica",
           491.4277
          ],
          [
           "Ludiente",
           429.9383
          ],
          [
           "Llosa, la",
           13.79891
          ],
          [
           "Mata de Morella, la",
           809.3206
          ],
          [
           "Matet",
           574.554
          ],
          [
           "Moncofa",
           8.799705
          ],
          [
           "Montán",
           554.3556
          ],
          [
           "Montanejos",
           471.2018
          ],
          [
           "Morella",
           932.5529
          ],
          [
           "Navajas",
           389.9204
          ],
          [
           "Nules",
           18
          ],
          [
           "Olocau del Rey",
           1041.123
          ],
          [
           "Onda",
           192.7921
          ],
          [
           "Palanques",
           670.4368
          ],
          [
           "Pavías",
           743.4716
          ],
          [
           "Peníscola/Peñíscola",
           6.325546
          ],
          [
           "Pina de Montalgrao",
           1035.532
          ],
          [
           "Portell de Morella",
           1073.041
          ],
          [
           "Puebla de Arenoso",
           631.926
          ],
          [
           "Pobla de Benifassà, la",
           0
          ],
          [
           "Pobla Tornesa, la",
           302.0061
          ],
          [
           "Ribesalbes",
           190.1019
          ],
          [
           "Rossell",
           462.5298
          ],
          [
           "Sacañet",
           1010.367
          ],
          [
           "Salzadella, la",
           338.2381
          ],
          [
           "Sant Jordi/San Jorge",
           102.6032
          ],
          [
           "Sant Mateu",
           331.4508
          ],
          [
           "San Rafael del Río",
           249.5198
          ],
          [
           "Santa Magdalena de Pulpis",
           123.8502
          ],
          [
           "Segorbe",
           375.6049
          ],
          [
           "Sierra Engarcerán",
           750.2902
          ],
          [
           "Soneja",
           267.8589
          ],
          [
           "Sot de Ferrer",
           235.5191
          ],
          [
           "Tales",
           247.6615
          ],
          [
           "Teresa",
           626.5689
          ],
          [
           "Tírig",
           468.7827
          ],
          [
           "Todolella",
           783.9756
          ],
          [
           "Toga",
           296.1505
          ],
          [
           "Torás",
           774.2517
          ],
          [
           "Toro, El",
           32.42348
          ],
          [
           "Torralba del Pinar",
           731.1648
          ],
          [
           "Torreblanca",
           34.1963
          ],
          [
           "Torrechiva",
           349.2405
          ],
          [
           "Torre d'en Besora, la",
           57.74568
          ],
          [
           "Torre d'en Doménec, la",
           309.2723
          ],
          [
           "Traiguera",
           253.9798
          ],
          [
           "Useres, les/Useras",
           312.8526
          ],
          [
           "Vallat",
           263.3033
          ],
          [
           "Vall d'Alba",
           299.7388
          ],
          [
           "Vall de Almonacid",
           436.3145
          ],
          [
           "Vall d'Uixó, la",
           120.3759
          ],
          [
           "Vallibona",
           661.4194
          ],
          [
           "Vilafamés",
           318.6055
          ],
          [
           "Villahermosa del Río",
           739.1841
          ],
          [
           "Villamalur",
           638.889
          ],
          [
           "Vilanova d'Alcolea",
           349.054
          ],
          [
           "Villanueva de Viver",
           895.2736
          ],
          [
           "Vilar de Canes",
           663.0408
          ],
          [
           "Vila-real",
           46.86089
          ],
          [
           "Vilavella, la",
           37.97432
          ],
          [
           "Villores",
           732.9604
          ],
          [
           "Vinaròs",
           12.0655
          ],
          [
           "Viver",
           552.3644
          ],
          [
           "Zorita del Maestrazgo",
           652.5302
          ],
          [
           "Zucaina",
           813.7024
          ],
          [
           "Sant Joan de Moró",
           189.6783
          ],
          [
           "Abenójar",
           615.0128
          ],
          [
           "Agudo",
           570.6345
          ],
          [
           "Alamillo",
           446.2332
          ],
          [
           "Albaladejo",
           929.5974
          ],
          [
           "Alcázar de San Juan",
           645.0808
          ],
          [
           "Alcoba",
           639.0863
          ],
          [
           "Alcolea de Calatrava",
           651.9843
          ],
          [
           "Alcubillas",
           805.7009
          ],
          [
           "Aldea del Rey",
           668
          ],
          [
           "Alhambra",
           862.3749
          ],
          [
           "Almadén",
           575.5337
          ],
          [
           "Almadenejos",
           522.0008
          ],
          [
           "Almagro",
           649.1187
          ],
          [
           "Almedina",
           895.957
          ],
          [
           "Almodóvar del Campo",
           673.6144
          ],
          [
           "Almuradiel",
           808.8304
          ],
          [
           "Anchuras",
           548.6761
          ],
          [
           "Arenas de San Juan",
           627.8014
          ],
          [
           "Argamasilla de Alba",
           676.2275
          ],
          [
           "Argamasilla de Calatrava",
           677.0089
          ],
          [
           "Arroba de los Montes",
           623.9471
          ],
          [
           "Ballesteros de Calatrava",
           660.202
          ],
          [
           "Bolaños de Calatrava",
           649.2621
          ],
          [
           "Brazatortas",
           712.3827
          ],
          [
           "Cabezarados",
           687
          ],
          [
           "Cabezarrubias del Puerto",
           737.0226
          ],
          [
           "Calzada de Calatrava",
           648.8996
          ],
          [
           "Campo de Criptana",
           697.7733
          ],
          [
           "Cañada de Calatrava",
           644.0776
          ],
          [
           "Caracuel de Calatrava",
           643.8336
          ],
          [
           "Carrión de Calatrava",
           618.5354
          ],
          [
           "Carrizosa",
           822.2133
          ],
          [
           "Castellar de Santiago",
           830.7982
          ],
          [
           "Ciudad Real",
           636.7003
          ],
          [
           "Corral de Calatrava",
           594.7799
          ],
          [
           "Cortijos, Los",
           788.311
          ],
          [
           "Cózar",
           863.0718
          ],
          [
           "Chillón",
           526.6155
          ],
          [
           "Daimiel",
           628.4135
          ],
          [
           "Fernán Caballero",
           613.9147
          ],
          [
           "Fontanarejo",
           648.4183
          ],
          [
           "Fuencaliente",
           684.3738
          ],
          [
           "Fuenllana",
           909.6342
          ],
          [
           "Fuente el Fresno",
           694.6024
          ],
          [
           "Granátula de Calatrava",
           659.4633
          ],
          [
           "Guadalmez",
           363.9143
          ],
          [
           "Herencia",
           646.795
          ],
          [
           "Hinojosas de Calatrava",
           762.2877
          ],
          [
           "Horcajo de los Montes",
           586.9252
          ],
          [
           "Labores, Las",
           650.0912
          ],
          [
           "Luciana",
           541.933
          ],
          [
           "Malagón",
           633.9963
          ],
          [
           "Manzanares",
           665.636
          ],
          [
           "Membrilla",
           667.7634
          ],
          [
           "Mestanza",
           742.0979
          ],
          [
           "Miguelturra",
           630.9375
          ],
          [
           "Montiel",
           900.929
          ],
          [
           "Moral de Calatrava",
           673.0731
          ],
          [
           "Navalpino",
           619.7184
          ],
          [
           "Navas de Estena",
           666.7495
          ],
          [
           "Pedro Muñoz",
           660.1461
          ],
          [
           "Picón",
           602.3293
          ],
          [
           "Piedrabuena",
           584.9067
          ],
          [
           "Poblete",
           625.8102
          ],
          [
           "Porzuna",
           649.3252
          ],
          [
           "Pozuelo de Calatrava",
           627.6234
          ],
          [
           "Pozuelos de Calatrava, Los",
           581.7253
          ],
          [
           "Puebla de Don Rodrigo",
           501.1769
          ],
          [
           "Puebla del Príncipe",
           940.8134
          ],
          [
           "Puerto Lápice",
           676.8574
          ],
          [
           "Puertollano",
           710.2035
          ],
          [
           "Retuerta del Bullaque",
           733.4877
          ],
          [
           "Saceruela",
           578.8517
          ],
          [
           "San Carlos del Valle",
           757.9612
          ],
          [
           "San Lorenzo de Calatrava",
           765.8392
          ],
          [
           "Santa Cruz de los Cáñamos",
           985.9399
          ],
          [
           "Santa Cruz de Mudela",
           717.6976
          ],
          [
           "Socuéllamos",
           676.6555
          ],
          [
           "Solana, La",
           772.6749
          ],
          [
           "Solana del Pino",
           740.4377
          ],
          [
           "Terrinches",
           930.9041
          ],
          [
           "Tomelloso",
           667.3932
          ],
          [
           "Torralba de Calatrava",
           621.1816
          ],
          [
           "Torre de Juan Abad",
           828.8683
          ],
          [
           "Torrenueva",
           733.0852
          ],
          [
           "Valdemanco del Esteras",
           578.7386
          ],
          [
           "Valdepeñas",
           710.3396
          ],
          [
           "Valenzuela de Calatrava",
           658.9473
          ],
          [
           "Villahermosa",
           959.6011
          ],
          [
           "Villamanrique",
           849.2779
          ],
          [
           "Villamayor de Calatrava",
           663.199
          ],
          [
           "Villanueva de la Fuente",
           1008.476
          ],
          [
           "Villanueva de los Infantes",
           884.9601
          ],
          [
           "Villanueva de San Carlos",
           652.488
          ],
          [
           "Villar del Pozo",
           637.9165
          ],
          [
           "Villarrubia de los Ojos",
           629.3639
          ],
          [
           "Villarta de San Juan",
           626.9672
          ],
          [
           "Viso del Marqués",
           781.8405
          ],
          [
           "Robledo, El",
           587.5879
          ],
          [
           "Ruidera",
           799.8744
          ],
          [
           "Arenales de San Gregorio",
           645.2104
          ],
          [
           "Llanos del Caudillo",
           648.3378
          ],
          [
           "Adamuz",
           245.2438
          ],
          [
           "Aguilar de la Frontera",
           374.5963
          ],
          [
           "Alcaracejos",
           611.311
          ],
          [
           "Almedinilla",
           643.6762
          ],
          [
           "Almodóvar del Río",
           119.838
          ],
          [
           "Añora",
           629.9739
          ],
          [
           "Baena",
           432.8641
          ],
          [
           "Belalcázar",
           492.9109
          ],
          [
           "Belmez",
           530.0388
          ],
          [
           "Benamejí",
           458.9315
          ],
          [
           "Blázquez, Los",
           594.3582
          ],
          [
           "Bujalance",
           345.5078
          ],
          [
           "Cabra",
           503.6198
          ],
          [
           "Cañete de las Torres",
           320.6117
          ],
          [
           "Carcabuey",
           628.2857
          ],
          [
           "Cardeña",
           747.5234
          ],
          [
           "Carlota, La",
           215.4566
          ],
          [
           "Carpio, El",
           180.5471
          ],
          [
           "Castro del Río",
           229.5285
          ],
          [
           "Conquista",
           597.3675
          ],
          [
           "Córdoba",
           131.9102
          ],
          [
           "Doña Mencía",
           598.4364
          ],
          [
           "Dos Torres",
           589.4772
          ],
          [
           "Encinas Reales",
           446.9231
          ],
          [
           "Espejo",
           391.4622
          ],
          [
           "Espiel",
           548.5708
          ],
          [
           "Fernán-Núñez",
           310.7925
          ],
          [
           "Fuente la Lancha",
           559.9954
          ],
          [
           "Fuente Obejuna",
           622.7498
          ],
          [
           "Fuente Palmera",
           160.0771
          ],
          [
           "Fuente-Tójar",
           589.3212
          ],
          [
           "Granjuela, La",
           554.3214
          ],
          [
           "Guadalcázar",
           161.6661
          ],
          [
           "Guijo, El",
           565.6235
          ],
          [
           "Hinojosa del Duque",
           551.713
          ],
          [
           "Hornachuelos",
           177.4551
          ],
          [
           "Iznájar",
           519.9057
          ],
          [
           "Lucena",
           494.1765
          ],
          [
           "Luque",
           662.4076
          ],
          [
           "Montalbán de Córdoba",
           277.8563
          ],
          [
           "Montemayor",
           386.187
          ],
          [
           "Montilla",
           385.7791
          ],
          [
           "Montoro",
           201.329
          ],
          [
           "Monturque",
           376.9995
          ],
          [
           "Moriles",
           379.1501
          ],
          [
           "Nueva Carteya",
           444.7657
          ],
          [
           "Obejo",
           692.8661
          ],
          [
           "Palenciana",
           396.5208
          ],
          [
           "Palma del Río",
           60.91507
          ],
          [
           "Pedro Abad",
           163.2774
          ],
          [
           "Pedroche",
           623.1253
          ],
          [
           "Peñarroya-Pueblonuevo",
           541.6902
          ],
          [
           "Posadas",
           88.41434
          ],
          [
           "Pozoblanco",
           652.3784
          ],
          [
           "Priego de Córdoba",
           657.6609
          ],
          [
           "Puente Genil",
           219.0715
          ],
          [
           "Rambla, La",
           331.6505
          ],
          [
           "Rute",
           632.5386
          ],
          [
           "San Sebastián de los Ballesteros",
           306.4553
          ],
          [
           "Santaella",
           238.2158
          ],
          [
           "Santa Eufemia",
           547.0313
          ],
          [
           "Torrecampo",
           576.4257
          ],
          [
           "Valenzuela",
           341.0233
          ],
          [
           "Valsequillo",
           578.0466
          ],
          [
           "Victoria, La",
           122.8182
          ],
          [
           "Villa del Río",
           164.0046
          ],
          [
           "Villafranca de Córdoba",
           143.0544
          ],
          [
           "Villaharta",
           578.8654
          ],
          [
           "Villanueva de Córdoba",
           728.5879
          ],
          [
           "Villanueva del Duque",
           583.8452
          ],
          [
           "Villanueva del Rey",
           556.6314
          ],
          [
           "Villaralto",
           586.7803
          ],
          [
           "Villaviciosa de Córdoba",
           699.2513
          ],
          [
           "Viso, El",
           578.6813
          ],
          [
           "Zuheros",
           652.7948
          ],
          [
           "Abegondo",
           99.71806
          ],
          [
           "Ames",
           216.3797
          ],
          [
           "Aranga",
           275.3901
          ],
          [
           "Ares",
           9.654655
          ],
          [
           "Arteixo",
           36.12324
          ],
          [
           "Arzúa",
           385.5346
          ],
          [
           "Baña, A",
           132.5069
          ],
          [
           "Bergondo",
           111.32
          ],
          [
           "Betanzos",
           30.77564
          ],
          [
           "Boimorto",
           486.9221
          ],
          [
           "Boiro",
           39.57637
          ],
          [
           "Boqueixón",
           295.4394
          ],
          [
           "Brión",
           113.9952
          ],
          [
           "Cabana de Bergantiños",
           91.22826
          ],
          [
           "Cabanas",
           14.01326
          ],
          [
           "Camariñas",
           8.057896
          ],
          [
           "Cambre",
           59.3171
          ],
          [
           "Capela, A",
           69.87862
          ],
          [
           "Carballo",
           108.2141
          ],
          [
           "Carnota",
           39.35276
          ],
          [
           "Carral",
           143.3725
          ],
          [
           "Cedeira",
           9.32181
          ],
          [
           "Cee",
           5.529384
          ],
          [
           "Cerceda",
           340.3528
          ],
          [
           "Cerdido",
           127.0117
          ],
          [
           "Coirós",
           214.9906
          ],
          [
           "Corcubión",
           12.05067
          ],
          [
           "Coristanco",
           121.6658
          ],
          [
           "Coruña, A",
           16.76067
          ],
          [
           "Culleredo",
           60.64721
          ],
          [
           "Curtis",
           524.2576
          ],
          [
           "Dodro",
           8.638529
          ],
          [
           "Dumbría",
           196.8048
          ],
          [
           "Fene",
           31.51714
          ],
          [
           "Ferrol",
           17.92745
          ],
          [
           "Fisterra",
           26.53479
          ],
          [
           "Frades",
           330.4912
          ],
          [
           "Irixoa",
           362.8766
          ],
          [
           "Laxe",
           10.11361
          ],
          [
           "Laracha, A",
           165.5166
          ],
          [
           "Lousame",
           76.47759
          ],
          [
           "Malpica de Bergantiños",
           18.54621
          ],
          [
           "Mañón",
           122.7509
          ],
          [
           "Mazaricos",
           309.7912
          ],
          [
           "Melide",
           456.2325
          ],
          [
           "Mesía",
           396.5716
          ],
          [
           "Miño",
           35.12242
          ],
          [
           "Moeche",
           124.2339
          ],
          [
           "Monfero",
           313.0533
          ],
          [
           "Mugardos",
           26.80462
          ],
          [
           "Muxía",
           10.06232
          ],
          [
           "Muros",
           13.47934
          ],
          [
           "Narón",
           54.86041
          ],
          [
           "Neda",
           17.3906
          ],
          [
           "Negreira",
           165.9285
          ],
          [
           "Noia",
           14.17139
          ],
          [
           "Oleiros",
           121.4051
          ],
          [
           "Ordes",
           287.7448
          ],
          [
           "Oroso",
           265.2925
          ],
          [
           "Ortigueira",
           12.5302
          ],
          [
           "Outes",
           155.6038
          ],
          [
           "Paderne",
           151.441
          ],
          [
           "Padrón",
           12.52071
          ],
          [
           "Pino, O",
           325.1911
          ],
          [
           "Pobra do Caramiñal, A",
           10.39054
          ],
          [
           "Ponteceso",
           9.338658
          ],
          [
           "Pontedeume",
           52.01764
          ],
          [
           "Pontes de García Rodríguez, As",
           346.5103
          ],
          [
           "Porto do Son",
           13.61645
          ],
          [
           "Rianxo",
           12.18667
          ],
          [
           "Ribeira",
           9.570827
          ],
          [
           "Rois",
           91.43814
          ],
          [
           "Sada",
           8.367744
          ],
          [
           "San Sadurniño",
           235.7317
          ],
          [
           "Santa Comba",
           357.9261
          ],
          [
           "Santiago de Compostela",
           250.5518
          ],
          [
           "Santiso",
           395.2911
          ],
          [
           "Sobrado",
           531.1628
          ],
          [
           "Somozas, As",
           365.4666
          ],
          [
           "Teo",
           210.1551
          ],
          [
           "Toques",
           550.1306
          ],
          [
           "Tordoia",
           372.4156
          ],
          [
           "Touro",
           322.1459
          ],
          [
           "Trazo",
           308.1545
          ],
          [
           "Valdoviño",
           168.3914
          ],
          [
           "Val do Dubra",
           308.1521
          ],
          [
           "Vedra",
           230.7933
          ],
          [
           "Vilasantar",
           442.1523
          ],
          [
           "Vilarmaior",
           195.4239
          ],
          [
           "Vimianzo",
           131.8647
          ],
          [
           "Zas",
           221.0706
          ],
          [
           "Cariño",
           9.662794
          ],
          [
           "Abia de la Obispalía",
           1027.756
          ],
          [
           "Acebrón, El",
           765.3969
          ],
          [
           "Alarcón",
           804.5475
          ],
          [
           "Albaladejo del Cuende",
           873.7691
          ],
          [
           "Albalate de las Nogueras",
           836.6561
          ],
          [
           "Albendea",
           836.6441
          ],
          [
           "Alberca de Záncara, La",
           799.9388
          ],
          [
           "Alcalá de la Vega",
           1149.662
          ],
          [
           "Alcantud",
           846.5696
          ],
          [
           "Alcázar del Rey",
           868.6633
          ],
          [
           "Alcohujate",
           805.8046
          ],
          [
           "Alconchel de la Estrella",
           830.2779
          ],
          [
           "Algarra",
           1260.539
          ],
          [
           "Aliaguilla",
           1004.316
          ],
          [
           "Almarcha, La",
           850.5306
          ],
          [
           "Almendros",
           867.5738
          ],
          [
           "Almodóvar del Pinar",
           993.7385
          ],
          [
           "Almonacid del Marquesado",
           893.4148
          ],
          [
           "Altarejos",
           882.3251
          ],
          [
           "Arandilla del Arroyo",
           891.51
          ],
          [
           "Arcos de la Sierra",
           1008.144
          ],
          [
           "Chillarón de Cuenca",
           918.1243
          ],
          [
           "Arguisuelas",
           1051.319
          ],
          [
           "Arrancacepas",
           921.0117
          ],
          [
           "Atalaya del Cañavate",
           818.4755
          ],
          [
           "Barajas de Melo",
           707.7529
          ],
          [
           "Barchín del Hoyo",
           953.0204
          ],
          [
           "Bascuñana de San Pedro",
           1049.3
          ],
          [
           "Beamud",
           1337.114
          ],
          [
           "Belinchón",
           765.4058
          ],
          [
           "Belmonte",
           747.8671
          ],
          [
           "Belmontejo",
           842.4863
          ],
          [
           "Beteta",
           1221.365
          ],
          [
           "Boniches",
           1031.188
          ],
          [
           "Buciegas",
           806.0385
          ],
          [
           "Buenache de Alarcón",
           814.0424
          ],
          [
           "Buenache de la Sierra",
           1296.91
          ],
          [
           "Buendía",
           740.683
          ],
          [
           "Campillo de Altobuey",
           934.0833
          ],
          [
           "Campillos-Paravientos",
           1161.948
          ],
          [
           "Campillos-Sierra",
           1253.863
          ],
          [
           "Canalejas del Arroyo",
           793.2876
          ],
          [
           "Cañada del Hoyo",
           1021.962
          ],
          [
           "Cañada Juncosa",
           806.1784
          ],
          [
           "Cañamares",
           886.0988
          ],
          [
           "Cañavate, El",
           783.1061
          ],
          [
           "Cañaveras",
           807.5058
          ],
          [
           "Cañaveruelas",
           802.4179
          ],
          [
           "Cañete",
           1077.501
          ],
          [
           "Cañizares",
           1040.13
          ],
          [
           "Carboneras de Guadazaón",
           1022.764
          ],
          [
           "Cardenete",
           955.3456
          ],
          [
           "Carrascosa",
           1258.964
          ],
          [
           "Carrascosa de Haro",
           775.2598
          ],
          [
           "Casas de Benítez",
           748.9084
          ],
          [
           "Casas de Fernando Alonso",
           725.363
          ],
          [
           "Casas de Garcimolina",
           1149.788
          ],
          [
           "Casas de Guijarro",
           752.5666
          ],
          [
           "Casas de Haro",
           723.1393
          ],
          [
           "Casas de los Pinos",
           725.2875
          ],
          [
           "Casasimarro",
           761.5946
          ],
          [
           "Castejón",
           860.5991
          ],
          [
           "Castillejo de Iniesta",
           824.4532
          ],
          [
           "Castillejo-Sierra",
           1007.348
          ],
          [
           "Castillo-Albaráñez",
           902.1082
          ],
          [
           "Castillo de Garcimuñoz",
           929.5831
          ],
          [
           "Cervera del Llano",
           895.8052
          ],
          [
           "Cierva, La",
           1226.243
          ],
          [
           "Cuenca",
           930.4124
          ],
          [
           "Cueva del Hierro",
           1332.456
          ],
          [
           "Chumillas",
           1070.247
          ],
          [
           "Enguídanos",
           748.1066
          ],
          [
           "Fresneda de Altarejos",
           901.7247
          ],
          [
           "Fresneda de la Sierra",
           992.2727
          ],
          [
           "Frontera, La",
           979.7111
          ],
          [
           "Fuente de Pedro Naharro",
           776.6147
          ],
          [
           "Fuentelespino de Haro",
           845.7111
          ],
          [
           "Fuentelespino de Moya",
           1109.693
          ],
          [
           "Fuentes",
           1015.49
          ],
          [
           "Fuertescusa",
           983.9594
          ],
          [
           "Gabaldón",
           926.3343
          ],
          [
           "Garaballa",
           936.6948
          ],
          [
           "Gascueña",
           929.3591
          ],
          [
           "Graja de Campalbo",
           1099.037
          ],
          [
           "Graja de Iniesta",
           836.5309
          ],
          [
           "Henarejos",
           1078.359
          ],
          [
           "Herrumblar, El",
           774.7962
          ],
          [
           "Hinojosa, La",
           939.3533
          ],
          [
           "Hinojosos, Los",
           772.5016
          ],
          [
           "Hito, El",
           859.4034
          ],
          [
           "Honrubia",
           809.0587
          ],
          [
           "Hontanaya",
           816.0445
          ],
          [
           "Hontecillas",
           824.0103
          ],
          [
           "Horcajo de Santiago",
           750.2389
          ],
          [
           "Huélamo",
           1283.993
          ],
          [
           "Huelves",
           819.4783
          ],
          [
           "Huérguina",
           1114.769
          ],
          [
           "Huerta de la Obispalía",
           905.3899
          ],
          [
           "Huerta del Marquesado",
           1278.528
          ],
          [
           "Huete",
           806.872
          ],
          [
           "Iniesta",
           755.802
          ],
          [
           "Laguna del Marquesado",
           1324.043
          ],
          [
           "Lagunaseca",
           1362.387
          ],
          [
           "Landete",
           985.8491
          ],
          [
           "Ledaña",
           733.5328
          ],
          [
           "Leganiel",
           760.6712
          ],
          [
           "Majadas, Las",
           1393.425
          ],
          [
           "Mariana",
           968.0659
          ],
          [
           "Masegosa",
           1378.719
          ],
          [
           "Mesas, Las",
           683.0196
          ],
          [
           "Minglanilla",
           805.3
          ],
          [
           "Mira",
           820.1528
          ],
          [
           "Monreal del Llano",
           733.7571
          ],
          [
           "Montalbanejo",
           907.4093
          ],
          [
           "Montalbo",
           884.257
          ],
          [
           "Monteagudo de las Salinas",
           1011.875
          ],
          [
           "Mota de Altarejos",
           859.7838
          ],
          [
           "Mota del Cuervo",
           708
          ],
          [
           "Motilla del Palancar",
           837.0458
          ],
          [
           "Moya",
           1073.251
          ],
          [
           "Narboneta",
           849.3128
          ],
          [
           "Olivares de Júcar",
           920.282
          ],
          [
           "Olmeda de la Cuesta",
           899.1359
          ],
          [
           "Olmeda del Rey",
           937.1072
          ],
          [
           "Olmedilla de Alarcón",
           824.7698
          ],
          [
           "Olmedilla de Eliz",
           872.5022
          ],
          [
           "Osa de la Vega",
           767.8908
          ],
          [
           "Pajarón",
           1056.773
          ],
          [
           "Pajaroncillo",
           980.0659
          ],
          [
           "Palomares del Campo",
           877.8651
          ],
          [
           "Palomera",
           1073.156
          ],
          [
           "Paracuellos",
           965.203
          ],
          [
           "Paredes",
           836.0471
          ],
          [
           "Parra de las Vegas, La",
           1019.173
          ],
          [
           "Pedroñeras, Las",
           694.9729
          ],
          [
           "Peral, El",
           790.2858
          ],
          [
           "Peraleja, La",
           859.0751
          ],
          [
           "Pesquera, La",
           792.0108
          ],
          [
           "Picazo, El",
           699.0256
          ],
          [
           "Pinarejo",
           873.2295
          ],
          [
           "Pineda de Gigüela",
           974.069
          ],
          [
           "Piqueras del Castillo",
           922.2267
          ],
          [
           "Portalrubio de Guadamejud",
           818.1326
          ],
          [
           "Portilla",
           1066.127
          ],
          [
           "Poyatos",
           1238.396
          ],
          [
           "Pozoamargo",
           754.7365
          ],
          [
           "Pozuelo, El",
           1221.442
          ],
          [
           "Priego",
           859.0313
          ],
          [
           "Provencio, El",
           701.4172
          ],
          [
           "Puebla de Almenara",
           851.6243
          ],
          [
           "Puebla del Salvador",
           849.067
          ],
          [
           "Quintanar del Rey",
           731.144
          ],
          [
           "Rada de Haro",
           817.4881
          ],
          [
           "Reíllo",
           1010.97
          ],
          [
           "Rozalén del Monte",
           874.4917
          ],
          [
           "Saceda-Trasierra",
           914.9257
          ],
          [
           "Saelices",
           926.687
          ],
          [
           "Salinas del Manzano",
           1129.487
          ],
          [
           "Salmeroncillos",
           784.0395
          ],
          [
           "Salvacañete",
           1177.807
          ],
          [
           "San Clemente",
           718.2497
          ],
          [
           "San Lorenzo de la Parrilla",
           958.508
          ],
          [
           "San Martín de Boniches",
           1204.745
          ],
          [
           "San Pedro Palmiches",
           827.0442
          ],
          [
           "Santa Cruz de Moya",
           764.4127
          ],
          [
           "Santa María del Campo Rus",
           789.3281
          ],
          [
           "Santa María de los Llanos",
           723.399
          ],
          [
           "Santa María del Val",
           1208.035
          ],
          [
           "Sisante",
           745.213
          ],
          [
           "Solera de Gabaldón",
           1049.117
          ],
          [
           "Talayuelas",
           989.6467
          ],
          [
           "Tarancón",
           817.9774
          ],
          [
           "Tébar",
           892.4076
          ],
          [
           "Tejadillos",
           1221.846
          ],
          [
           "Tinajas",
           868.139
          ],
          [
           "Torralba",
           910.9871
          ],
          [
           "Torrejoncillo del Rey",
           925.6471
          ],
          [
           "Torrubia del Campo",
           804.85
          ],
          [
           "Torrubia del Castillo",
           844.5839
          ],
          [
           "Tragacete",
           1280.023
          ],
          [
           "Tresjuncos",
           794.4161
          ],
          [
           "Tribaldos",
           829.7798
          ],
          [
           "Uclés",
           836.3397
          ],
          [
           "Uña",
           1133.798
          ],
          [
           "Valdemeca",
           1316.776
          ],
          [
           "Valdemorillo de la Sierra",
           1193.025
          ],
          [
           "Valdemoro-Sierra",
           1117.267
          ],
          [
           "Valdeolivas",
           927.0674
          ],
          [
           "Valhermoso de la Fuente",
           800.9288
          ],
          [
           "Valsalobre",
           1219.73
          ],
          [
           "Valverde de Júcar",
           846.4824
          ],
          [
           "Valverdejo",
           865.129
          ],
          [
           "Vara de Rey",
           820.9382
          ],
          [
           "Vega del Codorno",
           1390.018
          ],
          [
           "Vellisca",
           944.9796
          ],
          [
           "Villaconejos de Trabaque",
           808.2476
          ],
          [
           "Villaescusa de Haro",
           826.9725
          ],
          [
           "Villagarcía del Llano",
           733.049
          ],
          [
           "Villalba de la Sierra",
           992.4644
          ],
          [
           "Villalba del Rey",
           788.1654
          ],
          [
           "Villalgordo del Marquesado",
           861.0096
          ],
          [
           "Villalpardo",
           771.2595
          ],
          [
           "Villamayor de Santiago",
           775.3732
          ],
          [
           "Villanueva de Guadamejud",
           805.5494
          ],
          [
           "Villanueva de la Jara",
           767.3646
          ],
          [
           "Villar de Cañas",
           817.3677
          ],
          [
           "Villar de Domingo García",
           938.7158
          ],
          [
           "Villar de la Encina",
           843.0084
          ],
          [
           "Villar del Humo",
           997.0957
          ],
          [
           "Villar del Infantado",
           767.527
          ],
          [
           "Villar de Olalla",
           901.751
          ],
          [
           "Villarejo de Fuentes",
           864.325
          ],
          [
           "Villarejo de la Peñuela",
           941.4399
          ],
          [
           "Villarejo-Periesteban",
           919.6758
          ],
          [
           "Villares del Saz",
           867.2699
          ],
          [
           "Villarrubio",
           825.1577
          ],
          [
           "Villarta",
           758.9042
          ],
          [
           "Villas de la Ventosa",
           844.56
          ],
          [
           "Villaverde y Pasaconsol",
           859.9142
          ],
          [
           "Víllora",
           878.9189
          ],
          [
           "Vindel",
           898.5792
          ],
          [
           "Yémeda",
           866.7178
          ],
          [
           "Zafra de Záncara",
           898.8863
          ],
          [
           "Zafrilla",
           1418.941
          ],
          [
           "Zarza de Tajo",
           708.5762
          ],
          [
           "Zarzuela",
           1040.219
          ],
          [
           "Campos del Paraíso",
           914.1959
          ],
          [
           "Valdetórtola",
           898.9784
          ],
          [
           "Valeras, Las",
           935.2037
          ],
          [
           "Fuentenava de Jábaga",
           969.4885
          ],
          [
           "Valdecolmenas, Los",
           940.6137
          ],
          [
           "Pozorrubielos de la Mancha",
           784.6632
          ],
          [
           "Sotorribas",
           989.6494
          ],
          [
           "Villar y Velasco",
           975.5555
          ],
          [
           "Agullana",
           170.1884
          ],
          [
           "Aiguaviva",
           156.0045
          ],
          [
           "Albanyà",
           240.982
          ],
          [
           "Albons",
           11.20031
          ],
          [
           "Far d'Empordà, El",
           34.56885
          ],
          [
           "Alp",
           1140.202
          ],
          [
           "Amer",
           187.6956
          ],
          [
           "Anglès",
           163.2895
          ],
          [
           "Arbúcies",
           294.5572
          ],
          [
           "Argelaguer",
           189.7633
          ],
          [
           "Armentera, L'",
           8.210299
          ],
          [
           "Avinyonet de Puigventós",
           68.95233
          ],
          [
           "Begur",
           206.9355
          ],
          [
           "Vajol, La",
           540.9069
          ],
          [
           "Banyoles",
           180.4805
          ],
          [
           "Bàscara",
           66.21327
          ],
          [
           "Bellcaire d'Empordà",
           16.70415
          ],
          [
           "Besalú",
           153.8543
          ],
          [
           "Bescanó",
           103.575
          ],
          [
           "Beuda",
           330.3628
          ],
          [
           "Bisbal d'Empordà, La",
           41.58906
          ],
          [
           "Blanes",
           12.55464
          ],
          [
           "Bolvir",
           1111.693
          ],
          [
           "Bordils",
           39.80887
          ],
          [
           "Borrassà",
           73.4845
          ],
          [
           "Breda",
           165.5123
          ],
          [
           "Boadella i les Escaules",
           90.38374
          ],
          [
           "Cabanes",
           23.85813
          ],
          [
           "Cabanelles",
           186.2474
          ],
          [
           "Cadaqués",
           8.404613
          ],
          [
           "Caldes de Malavella",
           99.86514
          ],
          [
           "Camós",
           162.4646
          ],
          [
           "Campdevànol",
           735.8078
          ],
          [
           "Campelles",
           1312.842
          ],
          [
           "Campllong",
           111.6642
          ],
          [
           "Camprodon",
           949.9839
          ],
          [
           "Canet d'Adri",
           225.7504
          ],
          [
           "Cantallops",
           199.0593
          ],
          [
           "Capmany",
           102.8205
          ],
          [
           "Queralbs",
           1212.268
          ],
          [
           "Cassà de la Selva",
           157.0528
          ],
          [
           "Castellfollit de la Roca",
           299.2567
          ],
          [
           "Castelló d'Empúries",
           19.59589
          ],
          [
           "Celrà",
           74.95261
          ],
          [
           "Cervià de Ter",
           41.124
          ],
          [
           "Cistella",
           131.848
          ],
          [
           "Siurana",
           30.35726
          ],
          [
           "Colera",
           15.71049
          ],
          [
           "Colomers",
           27.86927
          ],
          [
           "Cornellà del Terri",
           97.63062
          ],
          [
           "Corçà",
           43
          ],
          [
           "Crespià",
           134.7197
          ],
          [
           "Darnius",
           195.8332
          ],
          [
           "Das",
           1210.801
          ],
          [
           "Escala, L'",
           19.85101
          ],
          [
           "Espinelves",
           721.2335
          ],
          [
           "Espolla",
           110.9502
          ],
          [
           "Esponellà",
           124.58
          ],
          [
           "Figueres",
           44.94663
          ],
          [
           "Flaçà",
           34.53658
          ],
          [
           "Foixà",
           77.76812
          ],
          [
           "Fontanals de Cerdanya",
           1296.071
          ],
          [
           "Fontanilles",
           11.98482
          ],
          [
           "Fontcoberta",
           224.6868
          ],
          [
           "Fornells de la Selva",
           100.7511
          ],
          [
           "Fortià",
           5.550827
          ],
          [
           "Garrigàs",
           106.7004
          ],
          [
           "Garrigoles",
           87.58198
          ],
          [
           "Garriguella",
           60.73549
          ],
          [
           "Ger",
           1124.158
          ],
          [
           "Girona",
           69.02268
          ],
          [
           "Gombrèn",
           913.7407
          ],
          [
           "Gualta",
           10.82926
          ],
          [
           "Guils de Cerdanya",
           1345.239
          ],
          [
           "Hostalric",
           98.26152
          ],
          [
           "Isòvol",
           1044.986
          ],
          [
           "Jafre",
           26.08789
          ],
          [
           "Jonquera, La",
           112.039
          ],
          [
           "Juià",
           103.731
          ],
          [
           "Lladó",
           203.6406
          ],
          [
           "Llagostera",
           137.2177
          ],
          [
           "Llambilles",
           123.2293
          ],
          [
           "Llanars",
           987.0015
          ],
          [
           "Llançà",
           26.3534
          ],
          [
           "Llers",
           164.3831
          ],
          [
           "Llívia",
           1201.004
          ],
          [
           "Lloret de Mar",
           14.34469
          ],
          [
           "Llosses, Les",
           906.8428
          ],
          [
           "Madremanya",
           171.2928
          ],
          [
           "Maià de Montcal",
           222.8625
          ],
          [
           "Meranges",
           1552.41
          ],
          [
           "Masarac",
           80.04425
          ],
          [
           "Massanes",
           139.9525
          ],
          [
           "Maçanet de Cabrenys",
           348.9143
          ],
          [
           "Maçanet de la Selva",
           98.14079
          ],
          [
           "Mieres",
           275.4319
          ],
          [
           "Mollet de Peralada",
           56.86679
          ],
          [
           "Molló",
           1178.97
          ],
          [
           "Montagut i Oix",
           278.7967
          ],
          [
           "Mont-ras",
           56.59036
          ],
          [
           "Navata",
           147.3417
          ],
          [
           "Ogassa",
           955.7571
          ],
          [
           "Olot",
           445.0352
          ],
          [
           "Ordis",
           97.83067
          ],
          [
           "Osor",
           350.0396
          ],
          [
           "Palafrugell",
           68.42641
          ],
          [
           "Palamós",
           14.00687
          ],
          [
           "Palau de Santa Eulàlia",
           81.56111
          ],
          [
           "Palau-saverdera",
           94.26295
          ],
          [
           "Palau-sator",
           19.59593
          ],
          [
           "Palol de Revardit",
           134.0089
          ],
          [
           "Pals",
           19.10723
          ],
          [
           "Pardines",
           1231.859
          ],
          [
           "Parlavà",
           30.01262
          ],
          [
           "Pau",
           27.27005
          ],
          [
           "Pedret i Marzà",
           28.24896
          ],
          [
           "Pera, La",
           78.5508
          ],
          [
           "Peralada",
           33.71151
          ],
          [
           "Planes d'Hostoles, Les",
           357.5643
          ],
          [
           "Planoles",
           1138.85
          ],
          [
           "Pont de Molins",
           46.54617
          ],
          [
           "Pontós",
           90.42199
          ],
          [
           "Porqueres",
           183.2214
          ],
          [
           "Portbou",
           12.24183
          ],
          [
           "Preses, Les",
           466.8972
          ],
          [
           "Port de la Selva, El",
           6.634849
          ],
          [
           "Puigcerdà",
           1184.155
          ],
          [
           "Quart",
           98.03844
          ],
          [
           "Rabós",
           114.9361
          ],
          [
           "Regencós",
           74.76754
          ],
          [
           "Ribes de Freser",
           919.8904
          ],
          [
           "Riells i Viabrea",
           96.39582
          ],
          [
           "Ripoll",
           696.5365
          ],
          [
           "Riudarenes",
           90
          ],
          [
           "Riudaura",
           578.0961
          ],
          [
           "Riudellots de la Selva",
           100.0308
          ],
          [
           "Riumors",
           3.91416
          ],
          [
           "Roses",
           6.046805
          ],
          [
           "Rupià",
           63.82626
          ],
          [
           "Sales de Llierca",
           266.1104
          ],
          [
           "Salt",
           87.70262
          ],
          [
           "Sant Andreu Salou",
           132.717
          ],
          [
           "Sant Climent Sescebes",
           83.43581
          ],
          [
           "Sant Feliu de Buixalleu",
           400.1262
          ],
          [
           "Sant Feliu de Guíxols",
           9.581546
          ],
          [
           "Sant Feliu de Pallerols",
           467.6071
          ],
          [
           "Sant Ferriol",
           195.0925
          ],
          [
           "Sant Gregori",
           105.9555
          ],
          [
           "Sant Hilari Sacalm",
           798.2343
          ],
          [
           "Sant Jaume de Llierca",
           212.891
          ],
          [
           "Sant Jordi Desvalls",
           52.30774
          ],
          [
           "Sant Joan de les Abadesses",
           778.5472
          ],
          [
           "Sant Joan de Mollet",
           47.70493
          ],
          [
           "Sant Julià de Ramis",
           174.7159
          ],
          [
           "Vallfogona de Ripollès",
           948.5323
          ],
          [
           "Sant Llorenç de la Muga",
           170.0117
          ],
          [
           "Sant Martí de Llémena",
           249.9684
          ],
          [
           "Sant Martí Vell",
           72.49802
          ],
          [
           "Sant Miquel de Campmajor",
           225.4033
          ],
          [
           "Sant Miquel de Fluvià",
           30.44114
          ],
          [
           "Sant Mori",
           39.63519
          ],
          [
           "Sant Pau de Segúries",
           860.9708
          ],
          [
           "Sant Pere Pescador",
           7.999541
          ],
          [
           "Santa Coloma de Farners",
           140.2747
          ],
          [
           "Santa Cristina d'Aro",
           54.80076
          ],
          [
           "Santa Llogaia d'Àlguema",
           42.30609
          ],
          [
           "Sant Aniol de Finestres",
           403.899
          ],
          [
           "Santa Pau",
           496.2841
          ],
          [
           "Sant Joan les Fonts",
           340.3424
          ],
          [
           "Sarrià de Ter",
           59.73502
          ],
          [
           "Saus, Camallera i Llampaies",
           94.31184
          ],
          [
           "Selva de Mar, La",
           53.85229
          ],
          [
           "Cellera de Ter, La",
           167.5866
          ],
          [
           "Serinyà",
           188.9648
          ],
          [
           "Serra de Daró",
           12.04134
          ],
          [
           "Setcases",
           1265.82
          ],
          [
           "Sils",
           78.97491
          ],
          [
           "Susqueda",
           337.0181
          ],
          [
           "Tallada d'Empordà, La",
           14.32662
          ],
          [
           "Terrades",
           227.8623
          ],
          [
           "Torrent",
           39.58279
          ],
          [
           "Torroella de Fluvià",
           9.374322
          ],
          [
           "Torroella de Montgrí",
           31.4563
          ],
          [
           "Tortellà",
           278.4685
          ],
          [
           "Toses",
           1426.833
          ],
          [
           "Tossa de Mar",
           11.30567
          ],
          [
           "Ultramort",
           21.90849
          ],
          [
           "Ullà",
           24.18182
          ],
          [
           "Ullastret",
           42.31542
          ],
          [
           "Urús",
           1269.748
          ],
          [
           "Vall d'en Bas, La",
           487.257
          ],
          [
           "Vall de Bianya, La",
           387.5479
          ],
          [
           "Vall-llobrega",
           61.32427
          ],
          [
           "Ventalló",
           29.75963
          ],
          [
           "Verges",
           18.31838
          ],
          [
           "Vidrà",
           984.6575
          ],
          [
           "Vidreres",
           95.18577
          ],
          [
           "Vilabertran",
           20
          ],
          [
           "Vilablareix",
           115.8257
          ],
          [
           "Viladasens",
           90.55965
          ],
          [
           "Viladamat",
           7.623611
          ],
          [
           "Vilademuls",
           121.4595
          ],
          [
           "Viladrau",
           826.043
          ],
          [
           "Vilafant",
           54.1561
          ],
          [
           "Vilaür",
           67.55302
          ],
          [
           "Vilajuïga",
           27.58708
          ],
          [
           "Vilallonga de Ter",
           1063.586
          ],
          [
           "Vilamacolum",
           6
          ],
          [
           "Vilamalla",
           45.89511
          ],
          [
           "Vilamaniscle",
           148.8217
          ],
          [
           "Vilanant",
           100.9817
          ],
          [
           "Vila-sacra",
           13.35783
          ],
          [
           "Vilopriu",
           71.60316
          ],
          [
           "Vilobí d'Onyar",
           121.8775
          ],
          [
           "Biure",
           67.65877
          ],
          [
           "Cruïlles, Monells i Sant Sadurní de l'Heura",
           110.6651
          ],
          [
           "Forallac",
           50.96644
          ],
          [
           "Sant Julià del Llor i Bonmatí",
           156.8956
          ],
          [
           "Agrón",
           1057.493
          ],
          [
           "Alamedilla",
           867.9614
          ],
          [
           "Albolote",
           650.2138
          ],
          [
           "Albondón",
           894.4161
          ],
          [
           "Albuñán",
           1115.975
          ],
          [
           "Albuñol",
           247.2122
          ],
          [
           "Albuñuelas",
           728.1844
          ],
          [
           "Aldeire",
           1274.015
          ],
          [
           "Alfacar",
           915.6451
          ],
          [
           "Algarinejo",
           596.2101
          ],
          [
           "Alhama de Granada",
           890.953
          ],
          [
           "Alhendín",
           736.6528
          ],
          [
           "Alicún de Ortega",
           692.778
          ],
          [
           "Almegíjar",
           811.4709
          ],
          [
           "Almuñécar",
           24.01802
          ],
          [
           "Alquife",
           1202.946
          ],
          [
           "Arenas del Rey",
           870.3409
          ],
          [
           "Armilla",
           671.618
          ],
          [
           "Atarfe",
           604.92
          ],
          [
           "Baza",
           850.2978
          ],
          [
           "Beas de Granada",
           1068.34
          ],
          [
           "Beas de Guadix",
           955.7032
          ],
          [
           "Benalúa",
           858.6871
          ],
          [
           "Benalúa de las Villas",
           848.7814
          ],
          [
           "Benamaurel",
           719.2347
          ],
          [
           "Bérchules",
           1330.123
          ],
          [
           "Bubión",
           1298.578
          ],
          [
           "Busquístar",
           1160.204
          ],
          [
           "Cacín",
           701.9979
          ],
          [
           "Cádiar",
           926.387
          ],
          [
           "Cájar",
           730.5661
          ],
          [
           "Calicasas",
           764.5505
          ],
          [
           "Campotéjar",
           925.5419
          ],
          [
           "Caniles",
           914.9191
          ],
          [
           "Cáñar",
           1026.397
          ],
          [
           "Capileira",
           1444.893
          ],
          [
           "Carataunas",
           761.6864
          ],
          [
           "Cástaras",
           1021.059
          ],
          [
           "Castilléjar",
           770.9531
          ],
          [
           "Castril",
           904.8172
          ],
          [
           "Cenes de la Vega",
           746.4172
          ],
          [
           "Cijuela",
           539.7335
          ],
          [
           "Cogollos de Guadix",
           1142.019
          ],
          [
           "Cogollos de la Vega",
           997.7243
          ],
          [
           "Colomera",
           855.0217
          ],
          [
           "Cortes de Baza",
           707.9819
          ],
          [
           "Cortes y Graena",
           976.4355
          ],
          [
           "Cúllar",
           895.665
          ],
          [
           "Cúllar Vega",
           643.1689
          ],
          [
           "Chauchina",
           552.4158
          ],
          [
           "Chimeneas",
           699.7101
          ],
          [
           "Churriana de la Vega",
           657.35
          ],
          [
           "Darro",
           1115.744
          ],
          [
           "Dehesas de Guadix",
           684.2996
          ],
          [
           "Deifontes",
           744.6108
          ],
          [
           "Diezma",
           1227.448
          ],
          [
           "Dílar",
           878.0067
          ],
          [
           "Dólar",
           1204.454
          ],
          [
           "Dúdar",
           812.0253
          ],
          [
           "Dúrcal",
           786.6514
          ],
          [
           "Escúzar",
           873.6536
          ],
          [
           "Ferreira",
           1267.67
          ],
          [
           "Fonelas",
           785.6204
          ],
          [
           "Freila",
           824.4169
          ],
          [
           "Fuente Vaqueros",
           545.4914
          ],
          [
           "Galera",
           837.2482
          ],
          [
           "Gobernador",
           1039.05
          ],
          [
           "Gójar",
           791.8748
          ],
          [
           "Gor",
           1241.51
          ],
          [
           "Gorafe",
           847.6644
          ],
          [
           "Granada",
           697.486
          ],
          [
           "Guadahortuna",
           968.3403
          ],
          [
           "Guadix",
           919.4025
          ],
          [
           "Gualchos",
           335.95
          ],
          [
           "Güéjar Sierra",
           1098.16
          ],
          [
           "Güevéjar",
           876.2341
          ],
          [
           "Huélago",
           914.9307
          ],
          [
           "Huéneja",
           1155.85
          ],
          [
           "Huéscar",
           959.9781
          ],
          [
           "Huétor de Santillán",
           1019.823
          ],
          [
           "Huétor Tájar",
           489
          ],
          [
           "Huétor Vega",
           739.9867
          ],
          [
           "Íllora",
           775.8689
          ],
          [
           "Ítrabo",
           384.3103
          ],
          [
           "Iznalloz",
           816.3354
          ],
          [
           "Jayena",
           911.8392
          ],
          [
           "Jérez del Marquesado",
           1237.271
          ],
          [
           "Jete",
           134.2804
          ],
          [
           "Jun",
           763.6108
          ],
          [
           "Juviles",
           1258.52
          ],
          [
           "Láchar",
           559.7148
          ],
          [
           "Lanjarón",
           662.3086
          ],
          [
           "Lanteira",
           1279.618
          ],
          [
           "Lecrín",
           705.3149
          ],
          [
           "Lentegí",
           638.0128
          ],
          [
           "Lobras",
           917.7236
          ],
          [
           "Loja",
           456.7311
          ],
          [
           "Lugros",
           1241.42
          ],
          [
           "Lújar",
           509.9037
          ],
          [
           "Malahá, La",
           709.616
          ],
          [
           "Maracena",
           649.4002
          ],
          [
           "Marchal",
           926.4476
          ],
          [
           "Moclín",
           1061.082
          ],
          [
           "Molvízar",
           239.2467
          ],
          [
           "Monachil",
           811.2473
          ],
          [
           "Montefrío",
           835.1361
          ],
          [
           "Montejícar",
           1145.294
          ],
          [
           "Montillana",
           1019.378
          ],
          [
           "Moraleda de Zafayona",
           621.8634
          ],
          [
           "Motril",
           41.48437
          ],
          [
           "Murtas",
           1134.923
          ],
          [
           "Nigüelas",
           927.8786
          ],
          [
           "Nívar",
           1038.031
          ],
          [
           "Ogíjares",
           721.7737
          ],
          [
           "Orce",
           932.2527
          ],
          [
           "Órgiva",
           465.8732
          ],
          [
           "Otívar",
           266.5227
          ],
          [
           "Padul",
           757.9304
          ],
          [
           "Pampaneira",
           1054.911
          ],
          [
           "Pedro Martínez",
           1036.34
          ],
          [
           "Peligros",
           687.5328
          ],
          [
           "Peza, La",
           996.5889
          ],
          [
           "Pinos Genil",
           777.8843
          ],
          [
           "Pinos Puente",
           575.2888
          ],
          [
           "Píñar",
           912.619
          ],
          [
           "Polícar",
           1146.402
          ],
          [
           "Polopos",
           783.9265
          ],
          [
           "Pórtugos",
           1312.607
          ],
          [
           "Puebla de Don Fadrique",
           1160.896
          ],
          [
           "Pulianas",
           728.1589
          ],
          [
           "Purullena",
           907.9955
          ],
          [
           "Quéntar",
           855.6412
          ],
          [
           "Rubite",
           778.7302
          ],
          [
           "Salar",
           545.4207
          ],
          [
           "Salobreña",
           20.95912
          ],
          [
           "Santa Cruz del Comercio",
           737.3204
          ],
          [
           "Santa Fe",
           582.6545
          ],
          [
           "Soportújar",
           944.0207
          ],
          [
           "Sorvilán",
           769.9988
          ],
          [
           "Torre-Cardela",
           1219.53
          ],
          [
           "Torvizcón",
           667.7946
          ],
          [
           "Trevélez",
           1542.32
          ],
          [
           "Turón",
           698.5202
          ],
          [
           "Ugíjar",
           547.5222
          ],
          [
           "Válor",
           901.9865
          ],
          [
           "Vélez de Benaudalla",
           170.5154
          ],
          [
           "Ventas de Huelma",
           858.721
          ],
          [
           "Villanueva de las Torres",
           645.9392
          ],
          [
           "Villanueva Mesía",
           493.5079
          ],
          [
           "Víznar",
           1074.323
          ],
          [
           "Zafarraya",
           896.4373
          ],
          [
           "Zújar",
           771.5205
          ],
          [
           "Taha, La",
           1100.905
          ],
          [
           "Valle, El",
           1245.152
          ],
          [
           "Nevada",
           792.3126
          ],
          [
           "Alpujarra de la Sierra",
           1238.541
          ],
          [
           "Gabias, Las",
           703.1069
          ],
          [
           "Guájares, Los",
           475.6051
          ],
          [
           "Valle del Zalabí",
           1245.152
          ],
          [
           "Villamena",
           762.7578
          ],
          [
           "Morelábor",
           1023.947
          ],
          [
           "Pinar, El",
           912.619
          ],
          [
           "Vegas del Genil",
           615
          ],
          [
           "Cuevas del Campo",
           832.7582
          ],
          [
           "Zagra",
           680.0646
          ],
          [
           "Abánades",
           1031.429
          ],
          [
           "Ablanque",
           1045.646
          ],
          [
           "Adobes",
           1379.7
          ],
          [
           "Alaminos",
           1063.001
          ],
          [
           "Alarilla",
           830.985
          ],
          [
           "Albalate de Zorita",
           776.8889
          ],
          [
           "Albares",
           748.9675
          ],
          [
           "Albendiego",
           1191.034
          ],
          [
           "Alcocer",
           784.08
          ],
          [
           "Alcolea de las Peñas",
           1008.211
          ],
          [
           "Alcolea del Pinar",
           1201.03
          ],
          [
           "Alcoroches",
           1411.883
          ],
          [
           "Aldeanueva de Guadalajara",
           950.4051
          ],
          [
           "Algar de Mesa",
           922.8428
          ],
          [
           "Algora",
           1111.185
          ],
          [
           "Alhóndiga",
           811.9917
          ],
          [
           "Alique",
           920.197
          ],
          [
           "Almadrones",
           1054.043
          ],
          [
           "Almoguera",
           658.963
          ],
          [
           "Almonacid de Zorita",
           710.4469
          ],
          [
           "Alocén",
           954.1763
          ],
          [
           "Alovera",
           648.2296
          ],
          [
           "Alustante",
           1398.75
          ],
          [
           "Angón",
           981.9118
          ],
          [
           "Anguita",
           1123.483
          ],
          [
           "Anquela del Ducado",
           1186.507
          ],
          [
           "Anquela del Pedregal",
           1281.853
          ],
          [
           "Aranzueque",
           686.1259
          ],
          [
           "Arbancón",
           902.12
          ],
          [
           "Arbeteta",
           989.9099
          ],
          [
           "Argecilla",
           956.304
          ],
          [
           "Armallones",
           1206.545
          ],
          [
           "Armuña de Tajuña",
           718.0318
          ],
          [
           "Arroyo de las Fraguas",
           1225.092
          ],
          [
           "Atanzón",
           952.7128
          ],
          [
           "Atienza",
           1153.596
          ],
          [
           "Auñón",
           771.4276
          ],
          [
           "Azuqueca de Henares",
           633.6434
          ],
          [
           "Baides",
           841.8666
          ],
          [
           "Baños de Tajo",
           1257.18
          ],
          [
           "Bañuelos",
           1156.416
          ],
          [
           "Barriopedro",
           893.6289
          ],
          [
           "Berninches",
           930.7506
          ],
          [
           "Bodera, La",
           1130.464
          ],
          [
           "Brihuega",
           912.4825
          ],
          [
           "Budia",
           897.6595
          ],
          [
           "Bujalaro",
           847.1917
          ],
          [
           "Bustares",
           1289.387
          ],
          [
           "Cabanillas del Campo",
           686.0259
          ],
          [
           "Campillo de Dueñas",
           1117.296
          ],
          [
           "Campillo de Ranas",
           1097.048
          ],
          [
           "Campisábalos",
           1349.99
          ],
          [
           "Canredondo",
           1159.82
          ],
          [
           "Cantalojas",
           1314.269
          ],
          [
           "Cañizar",
           783.3613
          ],
          [
           "Cardoso de la Sierra, El",
           1283.771
          ],
          [
           "Casa de Uceda",
           915.0853
          ],
          [
           "Casar, El",
           829.6438
          ],
          [
           "Casas de San Galindo",
           1028.008
          ],
          [
           "Caspueñas",
           857.5028
          ],
          [
           "Castejón de Henares",
           959.337
          ],
          [
           "Castellar de la Muela",
           1210.087
          ],
          [
           "Castilforte",
           986.4266
          ],
          [
           "Castilnuevo",
           1084.918
          ],
          [
           "Cendejas de Enmedio",
           912.9671
          ],
          [
           "Cendejas de la Torre",
           957.337
          ],
          [
           "Centenera",
           818.259
          ],
          [
           "Cifuentes",
           897.1795
          ],
          [
           "Cincovillas",
           1016.226
          ],
          [
           "Ciruelas",
           823.9545
          ],
          [
           "Ciruelos del Pinar",
           1265.071
          ],
          [
           "Cobeta",
           1125.074
          ],
          [
           "Cogollor",
           945.5419
          ],
          [
           "Cogolludo",
           878.9348
          ],
          [
           "Condemios de Abajo",
           1313.768
          ],
          [
           "Condemios de Arriba",
           1312.75
          ],
          [
           "Congostrina",
           1010.113
          ],
          [
           "Copernal",
           844.6374
          ],
          [
           "Corduente",
           1058.495
          ],
          [
           "Cubillo de Uceda, El",
           894.9387
          ],
          [
           "Checa",
           1364.288
          ],
          [
           "Chequilla",
           1357.645
          ],
          [
           "Chiloeches",
           793.2838
          ],
          [
           "Chillarón del Rey",
           793.6684
          ],
          [
           "Driebes",
           729.485
          ],
          [
           "Durón",
           736.4201
          ],
          [
           "Embid",
           1084.913
          ],
          [
           "Escamilla",
           1021.877
          ],
          [
           "Escariche",
           791.7507
          ],
          [
           "Escopete",
           869.3793
          ],
          [
           "Espinosa de Henares",
           769.5982
          ],
          [
           "Esplegares",
           1151.916
          ],
          [
           "Establés",
           1148.052
          ],
          [
           "Estriégana",
           1103.077
          ],
          [
           "Fontanar",
           688
          ],
          [
           "Fuembellida",
           1224.531
          ],
          [
           "Fuencemillán",
           832.7535
          ],
          [
           "Fuentelahiguera de Albatages",
           900.9053
          ],
          [
           "Fuentelencina",
           969.9274
          ],
          [
           "Fuentelsaz",
           1122.968
          ],
          [
           "Fuentelviejo",
           902.558
          ],
          [
           "Fuentenovilla",
           800.5488
          ],
          [
           "Gajanejos",
           1031.304
          ],
          [
           "Galápagos",
           736.8546
          ],
          [
           "Galve de Sorbe",
           1364.459
          ],
          [
           "Gascueña de Bornova",
           1207.064
          ],
          [
           "Guadalajara",
           714.2177
          ],
          [
           "Henche",
           821.3327
          ],
          [
           "Heras de Ayuso",
           708.7994
          ],
          [
           "Herrería",
           1085.296
          ],
          [
           "Hiendelaencina",
           1087.683
          ],
          [
           "Hijes",
           1162.066
          ],
          [
           "Hita",
           855.7426
          ],
          [
           "Hombrados",
           1234.546
          ],
          [
           "Hontoba",
           733.9285
          ],
          [
           "Horche",
           921.676
          ],
          [
           "Hortezuela de Océn",
           1096.975
          ],
          [
           "Huerce, La",
           1270.942
          ],
          [
           "Huérmeces del Cerro",
           874.1462
          ],
          [
           "Huertahernando",
           1151.298
          ],
          [
           "Hueva",
           895.2715
          ],
          [
           "Humanes",
           749.6636
          ],
          [
           "Illana",
           750.5403
          ],
          [
           "Iniéstola",
           1157.162
          ],
          [
           "Inviernas, Las",
           971.1691
          ],
          [
           "Irueste",
           854.0027
          ],
          [
           "Jadraque",
           829.6091
          ],
          [
           "Jirueque",
           836.55
          ],
          [
           "Ledanca",
           916.9545
          ],
          [
           "Loranca de Tajuña",
           674.3804
          ],
          [
           "Lupiana",
           768.1111
          ],
          [
           "Luzaga",
           1066.36
          ],
          [
           "Luzón",
           1181.69
          ],
          [
           "Majaelrayo",
           1193.425
          ],
          [
           "Málaga del Fresno",
           784.2536
          ],
          [
           "Malaguilla",
           824.4382
          ],
          [
           "Mandayona",
           869.4004
          ],
          [
           "Mantiel",
           922.6431
          ],
          [
           "Maranchón",
           1250.432
          ],
          [
           "Marchamalo",
           675.0148
          ],
          [
           "Masegoso de Tajuña",
           887.7745
          ],
          [
           "Matarrubia",
           864.5784
          ],
          [
           "Matillas",
           817.9203
          ],
          [
           "Mazarete",
           1211.015
          ],
          [
           "Mazuecos",
           708.3503
          ],
          [
           "Medranda",
           818.2693
          ],
          [
           "Megina",
           1250.206
          ],
          [
           "Membrillera",
           830.0648
          ],
          [
           "Miedes de Atienza",
           1150.024
          ],
          [
           "Mierla, La",
           949.7092
          ],
          [
           "Milmarcos",
           1061.394
          ],
          [
           "Millana",
           819.1633
          ],
          [
           "Miñosa, La",
           1025.995
          ],
          [
           "Mirabueno",
           1069.348
          ],
          [
           "Miralrío",
           1039.837
          ],
          [
           "Mochales",
           993.5259
          ],
          [
           "Mohernando",
           781.8551
          ],
          [
           "Molina de Aragón",
           1066.345
          ],
          [
           "Monasterio",
           931.1225
          ],
          [
           "Mondéjar",
           798.318
          ],
          [
           "Montarrón",
           836.7844
          ],
          [
           "Moratilla de los Meleros",
           843.6528
          ],
          [
           "Morenilla",
           1188.845
          ],
          [
           "Muduex",
           818.524
          ],
          [
           "Navas de Jadraque, Las",
           1160.806
          ],
          [
           "Negredo",
           986.1238
          ],
          [
           "Ocentejo",
           861.1108
          ],
          [
           "Olivar, El",
           1039.425
          ],
          [
           "Olmeda de Cobeta",
           1136.275
          ],
          [
           "Olmeda de Jadraque, La",
           988.519
          ],
          [
           "Ordial, El",
           1233.109
          ],
          [
           "Orea",
           1501.279
          ],
          [
           "Pálmaces de Jadraque",
           916.1491
          ],
          [
           "Pardos",
           1185.159
          ],
          [
           "Paredes de Sigüenza",
           1002.631
          ],
          [
           "Pareja",
           753.7086
          ],
          [
           "Pastrana",
           760.5256
          ],
          [
           "Pedregal, El",
           1192.786
          ],
          [
           "Peñalén",
           1349.393
          ],
          [
           "Peñalver",
           941.0283
          ],
          [
           "Peralejos de las Truchas",
           1195.926
          ],
          [
           "Peralveche",
           1109.689
          ],
          [
           "Pinilla de Jadraque",
           837.084
          ],
          [
           "Pinilla de Molina",
           1218.99
          ],
          [
           "Pioz",
           877.6891
          ],
          [
           "Piqueras",
           1377.206
          ],
          [
           "Pobo de Dueñas, El",
           1265.469
          ],
          [
           "Poveda de la Sierra",
           1188.949
          ],
          [
           "Pozo de Almoguera",
           783.4164
          ],
          [
           "Pozo de Guadalajara",
           890.155
          ],
          [
           "Prádena de Atienza",
           1143.877
          ],
          [
           "Prados Redondos",
           1158.477
          ],
          [
           "Puebla de Beleña",
           920.8109
          ],
          [
           "Puebla de Valles",
           846.1002
          ],
          [
           "Quer",
           706.5587
          ],
          [
           "Rebollosa de Jadraque",
           1028.823
          ],
          [
           "Recuenco, El",
           978.4645
          ],
          [
           "Renera",
           758.5328
          ],
          [
           "Retiendas",
           889.69
          ],
          [
           "Riba de Saelices",
           987.1724
          ],
          [
           "Rillo de Gallo",
           1056.004
          ],
          [
           "Riofrío del Llano",
           1018.82
          ],
          [
           "Robledillo de Mohernando",
           885.8916
          ],
          [
           "Robledo de Corpes",
           1151.281
          ],
          [
           "Romanillos de Atienza",
           1105.959
          ],
          [
           "Romanones",
           750.4893
          ],
          [
           "Rueda de la Sierra",
           1149.894
          ],
          [
           "Sacecorbo",
           1120.788
          ],
          [
           "Sacedón",
           744.1919
          ],
          [
           "Saelices de la Sal",
           994.9368
          ],
          [
           "Salmerón",
           826.9052
          ],
          [
           "San Andrés del Congosto",
           867.291
          ],
          [
           "San Andrés del Rey",
           1020.218
          ],
          [
           "Santiuste",
           917.553
          ],
          [
           "Saúca",
           1105.572
          ],
          [
           "Sayatón",
           653.2286
          ],
          [
           "Selas",
           1213.464
          ],
          [
           "Setiles",
           1260.147
          ],
          [
           "Sienes",
           1035.452
          ],
          [
           "Sigüenza",
           997.2746
          ],
          [
           "Solanillos del Extremo",
           997.022
          ],
          [
           "Somolinos",
           1253.444
          ],
          [
           "Sotillo, El",
           1049.94
          ],
          [
           "Sotodosos",
           1138.66
          ],
          [
           "Tamajón",
           1034.312
          ],
          [
           "Taragudo",
           765.4358
          ],
          [
           "Taravilla",
           1318.905
          ],
          [
           "Tartanedo",
           1189.511
          ],
          [
           "Tendilla",
           798.4559
          ],
          [
           "Terzaga",
           1178.228
          ],
          [
           "Tierzo",
           1144.808
          ],
          [
           "Toba, La",
           945.3749
          ],
          [
           "Tordelrábano",
           1019.433
          ],
          [
           "Tordellego",
           1248.824
          ],
          [
           "Tordesilos",
           1344.611
          ],
          [
           "Torija",
           969.4859
          ],
          [
           "Torrecuadrada de Molina",
           1188.343
          ],
          [
           "Torrecuadradilla",
           1020.426
          ],
          [
           "Torre del Burgo",
           722.6486
          ],
          [
           "Torrejón del Rey",
           720.3807
          ],
          [
           "Torremocha de Jadraque",
           934.535
          ],
          [
           "Torremocha del Campo",
           1087.207
          ],
          [
           "Torremocha del Pinar",
           1278.072
          ],
          [
           "Torremochuela",
           1169.329
          ],
          [
           "Torrubia",
           1168.836
          ],
          [
           "Tórtola de Henares",
           723.7584
          ],
          [
           "Tortuera",
           1112.692
          ],
          [
           "Tortuero",
           896.6824
          ],
          [
           "Traíd",
           1391.918
          ],
          [
           "Trijueque",
           997.5736
          ],
          [
           "Trillo",
           734.2948
          ],
          [
           "Uceda",
           778.0472
          ],
          [
           "Ujados",
           1148.512
          ],
          [
           "Utande",
           838.1349
          ],
          [
           "Valdarachas",
           765.6512
          ],
          [
           "Valdearenas",
           786.662
          ],
          [
           "Valdeavellano",
           967.1561
          ],
          [
           "Valdeaveruelo",
           731.2949
          ],
          [
           "Valdeconcha",
           740.5092
          ],
          [
           "Valdegrudas",
           925.311
          ],
          [
           "Valdelcubo",
           1019.085
          ],
          [
           "Valdenuño Fernández",
           846.8645
          ],
          [
           "Valdepeñas de la Sierra",
           914.8377
          ],
          [
           "Valderrebollo",
           875.3423
          ],
          [
           "Valdesotos",
           835.3204
          ],
          [
           "Valfermoso de Tajuña",
           958.9691
          ],
          [
           "Valhermoso",
           1229.919
          ],
          [
           "Valtablado del Río",
           842.2578
          ],
          [
           "Valverde de los Arroyos",
           1258.747
          ],
          [
           "Viana de Jadraque",
           868.2767
          ],
          [
           "Villanueva de Alcorón",
           1267.838
          ],
          [
           "Villanueva de Argecilla",
           1024.961
          ],
          [
           "Villanueva de la Torre",
           694
          ],
          [
           "Villares de Jadraque",
           1037.886
          ],
          [
           "Villaseca de Henares",
           856.4547
          ],
          [
           "Villaseca de Uceda",
           914.4682
          ],
          [
           "Villel de Mesa",
           933.9042
          ],
          [
           "Viñuelas",
           903.8938
          ],
          [
           "Yebes",
           890.4029
          ],
          [
           "Yebra",
           753.6019
          ],
          [
           "Yélamos de Abajo",
           916.2587
          ],
          [
           "Yélamos de Arriba",
           947.1408
          ],
          [
           "Yunquera de Henares",
           695.682
          ],
          [
           "Yunta, La",
           1105.882
          ],
          [
           "Zaorejas",
           1225.005
          ],
          [
           "Zarzuela de Jadraque",
           1040.29
          ],
          [
           "Zorita de los Canes",
           596.4229
          ],
          [
           "Semillas",
           1201.821
          ],
          [
           "Alájar",
           578.1751
          ],
          [
           "Aljaraque",
           36.69819
          ],
          [
           "Almendro, El",
           235.1584
          ],
          [
           "Almonaster la Real",
           581.577
          ],
          [
           "Almonte",
           77.07417
          ],
          [
           "Alosno",
           183.9688
          ],
          [
           "Aracena",
           673.9959
          ],
          [
           "Aroche",
           407.155
          ],
          [
           "Arroyomolinos de León",
           599.7921
          ],
          [
           "Ayamonte",
           3.156081
          ],
          [
           "Beas",
           120.9826
          ],
          [
           "Berrocal",
           465.0762
          ],
          [
           "Bollullos Par del Condado",
           116.0159
          ],
          [
           "Bonares",
           82.23658
          ],
          [
           "Cabezas Rubias",
           222.5471
          ],
          [
           "Cala",
           594.0731
          ],
          [
           "Calañas",
           297.4208
          ],
          [
           "Campillo, El",
           434.6812
          ],
          [
           "Campofrío",
           518.697
          ],
          [
           "Cañaveral de León",
           545.9366
          ],
          [
           "Cartaya",
           24.17416
          ],
          [
           "Castaño del Robledo",
           739.8133
          ],
          [
           "Cerro de Andévalo, El",
           301.119
          ],
          [
           "Corteconcepción",
           581.7432
          ],
          [
           "Cortegana",
           686.309
          ],
          [
           "Cortelazor",
           624.8343
          ],
          [
           "Cumbres de Enmedio",
           592.3164
          ],
          [
           "Cumbres de San Bartolomé",
           579.4737
          ],
          [
           "Cumbres Mayores",
           694.7698
          ],
          [
           "Chucena",
           148.2157
          ],
          [
           "Encinasola",
           430.9646
          ],
          [
           "Escacena del Campo",
           172
          ],
          [
           "Fuenteheridos",
           711.6528
          ],
          [
           "Galaroza",
           562.1963
          ],
          [
           "Gibraleón",
           29.21607
          ],
          [
           "Granada de Río-Tinto, La",
           0
          ],
          [
           "Granado, El",
           18.32656
          ],
          [
           "Higuera de la Sierra",
           627.3121
          ],
          [
           "Hinojales",
           615.3049
          ],
          [
           "Hinojos",
           83.66503
          ],
          [
           "Huelva",
           20.74414
          ],
          [
           "Isla Cristina",
           6.336774
          ],
          [
           "Jabugo",
           658.2429
          ],
          [
           "Lepe",
           24.5359
          ],
          [
           "Linares de la Sierra",
           490.7656
          ],
          [
           "Lucena del Puerto",
           83.68538
          ],
          [
           "Manzanilla",
           163.7289
          ],
          [
           "Marines, Los",
           723.576
          ],
          [
           "Minas de Riotinto",
           417.6434
          ],
          [
           "Moguer",
           53.91101
          ],
          [
           "Nava, La",
           424.0233
          ],
          [
           "Nerva",
           336.9252
          ],
          [
           "Niebla",
           42.88836
          ],
          [
           "Palma del Condado, La",
           96.01058
          ],
          [
           "Palos de la Frontera",
           29.09229
          ],
          [
           "Paterna del Campo",
           184.3562
          ],
          [
           "Paymogo",
           180.5523
          ],
          [
           "Puebla de Guzmán",
           212.8246
          ],
          [
           "Puerto Moral",
           519.9462
          ],
          [
           "Punta Umbría",
           7.50116
          ],
          [
           "Rociana del Condado",
           97.39848
          ],
          [
           "Rosal de la Frontera",
           221.4779
          ],
          [
           "San Bartolomé de la Torre",
           131.2254
          ],
          [
           "San Juan del Puerto",
           8
          ],
          [
           "Sanlúcar de Guadiana",
           15.38703
          ],
          [
           "San Silvestre de Guzmán",
           152.8138
          ],
          [
           "Santa Ana la Real",
           637.6948
          ],
          [
           "Santa Bárbara de Casa",
           310.5924
          ],
          [
           "Santa Olalla del Cala",
           518.6226
          ],
          [
           "Trigueros",
           78.58913
          ],
          [
           "Valdelarco",
           619.3045
          ],
          [
           "Valverde del Camino",
           282.4763
          ],
          [
           "Villablanca",
           95.63974
          ],
          [
           "Villalba del Alcor",
           161.8071
          ],
          [
           "Villanueva de las Cruces",
           119.6258
          ],
          [
           "Villanueva de los Castillejos",
           225
          ],
          [
           "Villarrasa",
           66.98409
          ],
          [
           "Zalamea la Real",
           409.5469
          ],
          [
           "Zufre",
           441.5297
          ],
          [
           "Abiego",
           527.2344
          ],
          [
           "Abizanda",
           603.4579
          ],
          [
           "Adahuesca",
           605.8567
          ],
          [
           "Agüero",
           665.527
          ],
          [
           "Aisa",
           1818.995
          ],
          [
           "Albalate de Cinca",
           193.5133
          ],
          [
           "Albalatillo",
           261.1216
          ],
          [
           "Albelda",
           364.2167
          ],
          [
           "Albero Alto",
           438.0544
          ],
          [
           "Albero Bajo",
           400
          ],
          [
           "Alberuela de Tubo",
           350.1249
          ],
          [
           "Alcalá de Gurrea",
           446.0858
          ],
          [
           "Alcalá del Obispo",
           512.0583
          ],
          [
           "Alcampell",
           503.4557
          ],
          [
           "Alcolea de Cinca",
           196.6943
          ],
          [
           "Alcubierre",
           452.4926
          ],
          [
           "Alerre",
           500
          ],
          [
           "Alfántega",
           248.8059
          ],
          [
           "Almudévar",
           401.6333
          ],
          [
           "Almunia de San Juan",
           352.0343
          ],
          [
           "Almuniente",
           340.9094
          ],
          [
           "Alquézar",
           629.8254
          ],
          [
           "Altorricón",
           264.4067
          ],
          [
           "Angüés",
           540
          ],
          [
           "Ansó",
           866.3192
          ],
          [
           "Antillón",
           488.7307
          ],
          [
           "Aragüés del Puerto",
           948.0828
          ],
          [
           "Arén",
           754.0966
          ],
          [
           "Argavieso",
           471.885
          ],
          [
           "Arguis",
           1058.686
          ],
          [
           "Ayerbe",
           592.9154
          ],
          [
           "Azanuy-Alins",
           449.2497
          ],
          [
           "Azara",
           440
          ],
          [
           "Azlor",
           487.5061
          ],
          [
           "Baélls",
           613.6285
          ],
          [
           "Bailo",
           700.7607
          ],
          [
           "Baldellou",
           464.8766
          ],
          [
           "Ballobar",
           158.806
          ],
          [
           "Banastás",
           534.7084
          ],
          [
           "Barbastro",
           336.4226
          ],
          [
           "Barbués",
           360.2759
          ],
          [
           "Barbuñales",
           459.5806
          ],
          [
           "Bárcabo",
           718.25
          ],
          [
           "Belver de Cinca",
           195.5677
          ],
          [
           "Benabarre",
           720.4813
          ],
          [
           "Benasque",
           1158.04
          ],
          [
           "Berbegal",
           513.5282
          ],
          [
           "Bielsa",
           1021.674
          ],
          [
           "Bierge",
           571.966
          ],
          [
           "Biescas",
           866.7526
          ],
          [
           "Binaced",
           281.8098
          ],
          [
           "Binéfar",
           288.9169
          ],
          [
           "Bisaurri",
           1059.666
          ],
          [
           "Biscarrués",
           460.8647
          ],
          [
           "Blecua y Torres",
           462.2051
          ],
          [
           "Boltaña",
           581.7597
          ],
          [
           "Bonansa",
           1248.454
          ],
          [
           "Borau",
           993.8726
          ],
          [
           "Broto",
           900.7473
          ],
          [
           "Caldearenas",
           646.5828
          ],
          [
           "Campo",
           666.6902
          ],
          [
           "Camporrélls",
           619.9485
          ],
          [
           "Canal de Berdún",
           657.1034
          ],
          [
           "Candasnos",
           285.8304
          ],
          [
           "Canfranc",
           1056.137
          ],
          [
           "Capdesaso",
           308.4349
          ],
          [
           "Capella",
           506.7932
          ],
          [
           "Casbas de Huesca",
           560.2505
          ],
          [
           "Castejón del Puente",
           346.0452
          ],
          [
           "Castejón de Monegros",
           470.3977
          ],
          [
           "Castejón de Sos",
           914.6373
          ],
          [
           "Castelflorite",
           310.2441
          ],
          [
           "Castiello de Jaca",
           898.745
          ],
          [
           "Castigaleu",
           836.4407
          ],
          [
           "Castillazuelo",
           362.4823
          ],
          [
           "Castillonroy",
           460.0535
          ],
          [
           "Colungo",
           592.0106
          ],
          [
           "Chalamera",
           194.1678
          ],
          [
           "Chía",
           1178.088
          ],
          [
           "Chimillas",
           521.475
          ],
          [
           "Esplús",
           280.312
          ],
          [
           "Estada",
           370.5751
          ],
          [
           "Estadilla",
           452.7106
          ],
          [
           "Estopiñán del Castillo",
           734.6618
          ],
          [
           "Fago",
           900
          ],
          [
           "Fanlo",
           1362.342
          ],
          [
           "Fiscal",
           768.2214
          ],
          [
           "Fonz",
           442.3823
          ],
          [
           "Foradada del Toscar",
           984.6446
          ],
          [
           "Fraga",
           129.2042
          ],
          [
           "Fueva, La",
           958.5854
          ],
          [
           "Gistaín",
           1436.18
          ],
          [
           "Grado, El",
           421.8172
          ],
          [
           "Grañén",
           328.7679
          ],
          [
           "Graus",
           457.7887
          ],
          [
           "Gurrea de Gállego",
           339.3757
          ],
          [
           "Hoz de Jaca",
           1257.866
          ],
          [
           "Huerto",
           372.563
          ],
          [
           "Huesca",
           467
          ],
          [
           "Ibieca",
           640
          ],
          [
           "Igriés",
           602.9488
          ],
          [
           "Ilche",
           321.2749
          ],
          [
           "Isábena",
           793.2245
          ],
          [
           "Jaca",
           815.3232
          ],
          [
           "Jasa",
           950.1556
          ],
          [
           "Labuerda",
           568.3488
          ],
          [
           "Laluenga",
           469.2747
          ],
          [
           "Lalueza",
           287.3316
          ],
          [
           "Lanaja",
           373.5856
          ],
          [
           "Laperdiguera",
           460.3023
          ],
          [
           "Lascellas-Ponzano",
           520
          ],
          [
           "Lascuarre",
           639.2742
          ],
          [
           "Laspaúles",
           1445.999
          ],
          [
           "Laspuña",
           699.6177
          ],
          [
           "Loarre",
           778.4832
          ],
          [
           "Loporzano",
           575.7261
          ],
          [
           "Loscorrales",
           622.3267
          ],
          [
           "Monesma y Cajigar",
           1022.985
          ],
          [
           "Monflorite-Lascasas",
           435.7766
          ],
          [
           "Montanuy",
           1190.101
          ],
          [
           "Monzón",
           283.2903
          ],
          [
           "Naval",
           605.8396
          ],
          [
           "Novales",
           448.5544
          ],
          [
           "Nueno",
           725.6004
          ],
          [
           "Olvena",
           516.8267
          ],
          [
           "Ontiñena",
           203.3611
          ],
          [
           "Osso de Cinca",
           171.382
          ],
          [
           "Palo",
           706.9058
          ],
          [
           "Panticosa",
           1168.466
          ],
          [
           "Peñalba",
           248.4572
          ],
          [
           "Peñas de Riglos, Las",
           675.6453
          ],
          [
           "Peralta de Alcofea",
           401.0762
          ],
          [
           "Peralta de Calasanz",
           749.5464
          ],
          [
           "Peraltilla",
           425.7468
          ],
          [
           "Perarrúa",
           509.4039
          ],
          [
           "Pertusa",
           349.1424
          ],
          [
           "Piracés",
           420.6216
          ],
          [
           "Plan",
           1009.788
          ],
          [
           "Poleñino",
           296.7819
          ],
          [
           "Pozán de Vero",
           395.2215
          ],
          [
           "Puebla de Castro, La",
           639.121
          ],
          [
           "Puente de Montañana",
           533.9636
          ],
          [
           "Puértolas",
           1167.452
          ],
          [
           "Pueyo de Araguás, El",
           683.9696
          ],
          [
           "Pueyo de Santa Cruz",
           253.1434
          ],
          [
           "Quicena",
           478.8754
          ],
          [
           "Robres",
           401.188
          ],
          [
           "Sabiñánigo",
           798.9523
          ],
          [
           "Sahún",
           1150.486
          ],
          [
           "Salas Altas",
           532.2599
          ],
          [
           "Salas Bajas",
           445.015
          ],
          [
           "Salillas",
           417.588
          ],
          [
           "Sallent de Gállego",
           1311.04
          ],
          [
           "San Esteban de Litera",
           429.2248
          ],
          [
           "Sangarrén",
           364.8689
          ],
          [
           "San Juan de Plan",
           1160.746
          ],
          [
           "Santa Cilia",
           645.163
          ],
          [
           "Santa Cruz de la Serós",
           782.9228
          ],
          [
           "Santaliestra y San Quílez",
           560.1749
          ],
          [
           "Sariñena",
           287.0003
          ],
          [
           "Secastilla",
           603.276
          ],
          [
           "Seira",
           898.3008
          ],
          [
           "Sena",
           218.4069
          ],
          [
           "Senés de Alcubierre",
           390.8914
          ],
          [
           "Sesa",
           443.4355
          ],
          [
           "Sesué",
           1010.999
          ],
          [
           "Siétamo",
           552.3276
          ],
          [
           "Sopeira",
           749.4668
          ],
          [
           "Tamarite de Litera",
           361.4778
          ],
          [
           "Tardienta",
           383.5266
          ],
          [
           "Tella-Sin",
           873.3126
          ],
          [
           "Tierz",
           465.9984
          ],
          [
           "Tolva",
           680.778
          ],
          [
           "Torralba de Aragón",
           391.9379
          ],
          [
           "Torre la Ribera",
           1119.165
          ],
          [
           "Torrente de Cinca",
           113.8372
          ],
          [
           "Torres de Alcanadre",
           390.6137
          ],
          [
           "Torres de Barbués",
           356.6004
          ],
          [
           "Tramaced",
           401.6354
          ],
          [
           "Valfarta",
           366.5498
          ],
          [
           "Valle de Bardají",
           953.4558
          ],
          [
           "Valle de Lierp",
           1064.261
          ],
          [
           "Velilla de Cinca",
           129.0712
          ],
          [
           "Viacamp y Litera",
           892.478
          ],
          [
           "Vicién",
           397.6077
          ],
          [
           "Villanova",
           982.9814
          ],
          [
           "Villanúa",
           955.9241
          ],
          [
           "Villanueva de Sigena",
           231.32
          ],
          [
           "Yebra de Basa",
           890.7194
          ],
          [
           "Yésero",
           1076.43
          ],
          [
           "Zaidín",
           162.6138
          ],
          [
           "Valle de Hecho",
           836.0576
          ],
          [
           "Puente la Reina de Jaca",
           621.0272
          ],
          [
           "San Miguel del Cinca",
           264.1327
          ],
          [
           "Sotonera, La",
           600.4966
          ],
          [
           "Lupiñén-Ortilla",
           464.1017
          ],
          [
           "Santa María de Dulcis",
           444.2901
          ],
          [
           "Aínsa-Sobrarbe",
           533.0886
          ],
          [
           "Hoz y Costean",
           567.6984
          ],
          [
           "Vencillón",
           199.0715
          ],
          [
           "Albanchez de Mágina",
           838.4496
          ],
          [
           "Alcalá la Real",
           929.4698
          ],
          [
           "Alcaudete",
           660.8123
          ],
          [
           "Aldeaquemada",
           700.2711
          ],
          [
           "Andújar",
           215.333
          ],
          [
           "Arjona",
           436.5915
          ],
          [
           "Arjonilla",
           348.891
          ],
          [
           "Arquillos",
           382.3034
          ],
          [
           "Baeza",
           759.475
          ],
          [
           "Bailén",
           350.999
          ],
          [
           "Baños de la Encina",
           419.4892
          ],
          [
           "Beas de Segura",
           581.1347
          ],
          [
           "Begíjar",
           556.9252
          ],
          [
           "Bélmez de la Moraleda",
           863.7288
          ],
          [
           "Benatae",
           854.9232
          ],
          [
           "Cabra del Santo Cristo",
           946.8475
          ],
          [
           "Cambil",
           766.1705
          ],
          [
           "Campillo de Arenas",
           873.8444
          ],
          [
           "Canena",
           522.5807
          ],
          [
           "Carboneros",
           403.3349
          ],
          [
           "Carolina, La",
           598.452
          ],
          [
           "Castellar",
           755.1962
          ],
          [
           "Castillo de Locubín",
           702.9443
          ],
          [
           "Cazalilla",
           299.448
          ],
          [
           "Cazorla",
           803.9982
          ],
          [
           "Chiclana de Segura",
           849.2234
          ],
          [
           "Chilluévar",
           731.5903
          ],
          [
           "Escañuela",
           319.1237
          ],
          [
           "Espeluy",
           279.3584
          ],
          [
           "Frailes",
           965.3821
          ],
          [
           "Fuensanta de Martos",
           739.0327
          ],
          [
           "Fuerte del Rey",
           436.6272
          ],
          [
           "Génave",
           828.0142
          ],
          [
           "Guardia de Jaén, La",
           617.7798
          ],
          [
           "Guarromán",
           348.1273
          ],
          [
           "Lahiguera",
           372.6848
          ],
          [
           "Higuera de Calatrava",
           327.069
          ],
          [
           "Hinojares",
           662.6468
          ],
          [
           "Hornos",
           856.1879
          ],
          [
           "Huelma",
           957.8574
          ],
          [
           "Huesa",
           633.4688
          ],
          [
           "Ibros",
           595.4207
          ],
          [
           "Iruela, La",
           940.507
          ],
          [
           "Iznatoraf",
           1037.591
          ],
          [
           "Jabalquinto",
           487.9245
          ],
          [
           "Jaén",
           576.3939
          ],
          [
           "Jamilena",
           754.0273
          ],
          [
           "Jimena",
           610.7731
          ],
          [
           "Jódar",
           650.8392
          ],
          [
           "Larva",
           736.2119
          ],
          [
           "Linares",
           410.825
          ],
          [
           "Lopera",
           272.2022
          ],
          [
           "Lupión",
           500.9033
          ],
          [
           "Mancha Real",
           759.8338
          ],
          [
           "Marmolejo",
           244.3259
          ],
          [
           "Martos",
           739.3722
          ],
          [
           "Mengíbar",
           322.3982
          ],
          [
           "Montizón",
           644.2109
          ],
          [
           "Navas de San Juan",
           660.0787
          ],
          [
           "Noalejo",
           1090.677
          ],
          [
           "Orcera",
           758.6879
          ],
          [
           "Peal de Becerro",
           548.8191
          ],
          [
           "Pegalajar",
           795.4036
          ],
          [
           "Porcuna",
           468.4524
          ],
          [
           "Pozo Alcón",
           866.2172
          ],
          [
           "Puente de Génave",
           546.5222
          ],
          [
           "Puerta de Segura, La",
           584.877
          ],
          [
           "Quesada",
           679.3597
          ],
          [
           "Rus",
           589.6185
          ],
          [
           "Sabiote",
           829.248
          ],
          [
           "Santa Elena",
           744.1349
          ],
          [
           "Santiago de Calatrava",
           391.0764
          ],
          [
           "Santisteban del Puerto",
           706.2657
          ],
          [
           "Santo Tomé",
           450.9806
          ],
          [
           "Segura de la Sierra",
           1110.403
          ],
          [
           "Siles",
           831.9842
          ],
          [
           "Sorihuela del Guadalimar",
           630.3478
          ],
          [
           "Torreblascopedro",
           329.4734
          ],
          [
           "Torredonjimeno",
           585.9095
          ],
          [
           "Torreperogil",
           757.6904
          ],
          [
           "Torres",
           885.6928
          ],
          [
           "Torres de Albánchez",
           830.6685
          ],
          [
           "Úbeda",
           737.4617
          ],
          [
           "Valdepeñas de Jaén",
           921.3818
          ],
          [
           "Vilches",
           546.2039
          ],
          [
           "Villacarrillo",
           793.0148
          ],
          [
           "Villanueva de la Reina",
           220.4884
          ],
          [
           "Villanueva del Arzobispo",
           673.1283
          ],
          [
           "Villardompardo",
           443.1493
          ],
          [
           "Villares, Los",
           636.1295
          ],
          [
           "Villarrodrigo",
           870.652
          ],
          [
           "Cárcheles",
           797.9011
          ],
          [
           "Bedmar y Garcíez",
           645.4688
          ],
          [
           "Villatorres",
           302.4043
          ],
          [
           "Santiago-Pontones",
           1229.572
          ],
          [
           "Arroyo del Ojanco",
           540.2305
          ],
          [
           "Acebedo",
           1156.151
          ],
          [
           "Algadefe",
           740.688
          ],
          [
           "Alija del Infantado",
           740.0895
          ],
          [
           "Almanza",
           920.5887
          ],
          [
           "Antigua, La",
           753.6923
          ],
          [
           "Ardón",
           781.1647
          ],
          [
           "Arganza",
           591.5208
          ],
          [
           "Astorga",
           877.6437
          ],
          [
           "Balboa",
           688.6499
          ],
          [
           "Bañeza, La",
           779.588
          ],
          [
           "Barjas",
           845.5484
          ],
          [
           "Barrios de Luna, Los",
           1062.226
          ],
          [
           "Bembibre",
           650.2163
          ],
          [
           "Benavides",
           843.1052
          ],
          [
           "Benuza",
           790.2425
          ],
          [
           "Bercianos del Páramo",
           820.048
          ],
          [
           "Bercianos del Real Camino",
           854.1403
          ],
          [
           "Berlanga del Bierzo",
           794.8105
          ],
          [
           "Boca de Huérgano",
           1111.524
          ],
          [
           "Boñar",
           976.9141
          ],
          [
           "Borrenes",
           557.0456
          ],
          [
           "Brazuelo",
           968.3392
          ],
          [
           "Burgo Ranero, El",
           879.6293
          ],
          [
           "Burón",
           1098.104
          ],
          [
           "Bustillo del Páramo",
           847.2374
          ],
          [
           "Cabañas Raras",
           564.647
          ],
          [
           "Cabreros del Río",
           764.4465
          ],
          [
           "Cabrillanes",
           1248.003
          ],
          [
           "Cacabelos",
           483.8384
          ],
          [
           "Calzada del Coto",
           823.7811
          ],
          [
           "Campazas",
           767.0551
          ],
          [
           "Campo de Villavidel",
           769.7337
          ],
          [
           "Camponaraya",
           490.8461
          ],
          [
           "Cármenes",
           1168.941
          ],
          [
           "Carracedelo",
           454.8716
          ],
          [
           "Carrizo",
           891.8846
          ],
          [
           "Carrocera",
           1050.971
          ],
          [
           "Carucedo",
           506.0289
          ],
          [
           "Castilfalé",
           824.5781
          ],
          [
           "Castrillo de Cabrera",
           1064.227
          ],
          [
           "Castrillo de la Valduerna",
           909.4456
          ],
          [
           "Castrocalbón",
           809.9485
          ],
          [
           "Castrocontrigo",
           915
          ],
          [
           "Castropodame",
           746.3535
          ],
          [
           "Castrotierra de Valmadrigal",
           849
          ],
          [
           "Cea",
           840.9099
          ],
          [
           "Cebanico",
           951.4104
          ],
          [
           "Cebrones del Río",
           759.5551
          ],
          [
           "Cimanes de la Vega",
           722.0102
          ],
          [
           "Cimanes del Tejar",
           900.9469
          ],
          [
           "Cistierna",
           948.1119
          ],
          [
           "Congosto",
           691.2043
          ],
          [
           "Corbillos de los Oteros",
           792
          ],
          [
           "Corullón",
           484.8051
          ],
          [
           "Crémenes",
           995.2369
          ],
          [
           "Cuadros",
           903.5613
          ],
          [
           "Cubillas de los Oteros",
           772.6264
          ],
          [
           "Cubillas de Rueda",
           893.3711
          ],
          [
           "Cubillos del Sil",
           584.8532
          ],
          [
           "Chozas de Abajo",
           882.439
          ],
          [
           "Destriana",
           893.5352
          ],
          [
           "Encinedo",
           983.8217
          ],
          [
           "Ercina, La",
           1098.1
          ],
          [
           "Escobar de Campos",
           823.3975
          ],
          [
           "Fabero",
           700.0787
          ],
          [
           "Folgoso de la Ribera",
           777.3079
          ],
          [
           "Fresno de la Vega",
           754
          ],
          [
           "Fuentes de Carbajal",
           805.9653
          ],
          [
           "Garrafe de Torío",
           918.4145
          ],
          [
           "Gordaliza del Pino",
           822.9027
          ],
          [
           "Gordoncillo",
           749.6256
          ],
          [
           "Gradefes",
           855.98
          ],
          [
           "Grajal de Campos",
           804.4705
          ],
          [
           "Gusendos de los Oteros",
           799.3569
          ],
          [
           "Hospital de Órbigo",
           819.4772
          ],
          [
           "Igüeña",
           917.6442
          ],
          [
           "Izagre",
           783.4506
          ],
          [
           "Joarilla de las Matas",
           791.1022
          ],
          [
           "Laguna Dalga",
           800.6324
          ],
          [
           "Laguna de Negrillos",
           782
          ],
          [
           "León",
           841.3373
          ],
          [
           "Lucillo",
           1221.828
          ],
          [
           "Luyego",
           1050.455
          ],
          [
           "Llamas de la Ribera",
           897.8275
          ],
          [
           "Magaz de Cepeda",
           895.6011
          ],
          [
           "Mansilla de las Mulas",
           797.9987
          ],
          [
           "Mansilla Mayor",
           792.6296
          ],
          [
           "Maraña",
           1240.478
          ],
          [
           "Matadeón de los Oteros",
           862.5037
          ],
          [
           "Matallana de Torío",
           1012.9
          ],
          [
           "Matanza",
           832.1714
          ],
          [
           "Molinaseca",
           581.7184
          ],
          [
           "Murias de Paredes",
           1247.882
          ],
          [
           "Noceda del Bierzo",
           829.9746
          ],
          [
           "Oencia",
           842.3768
          ],
          [
           "Omañas, Las",
           936.036
          ],
          [
           "Onzonilla",
           806.4099
          ],
          [
           "Oseja de Sajambre",
           762.0876
          ],
          [
           "Pajares de los Oteros",
           790.4992
          ],
          [
           "Palacios de la Valduerna",
           795.884
          ],
          [
           "Palacios del Sil",
           876.0037
          ],
          [
           "Páramo del Sil",
           873.4056
          ],
          [
           "Peranzanes",
           944.1578
          ],
          [
           "Pobladura de Pelayo García",
           797
          ],
          [
           "Pola de Gordón, La",
           1012.029
          ],
          [
           "Ponferrada",
           537.8424
          ],
          [
           "Posada de Valdeón",
           915.0911
          ],
          [
           "Pozuelo del Páramo",
           757.3731
          ],
          [
           "Prado de la Guzpeña",
           1052.656
          ],
          [
           "Priaranza del Bierzo",
           512.7617
          ],
          [
           "Prioro",
           1116.744
          ],
          [
           "Puebla de Lillo",
           1142.314
          ],
          [
           "Puente de Domingo Flórez",
           376.8705
          ],
          [
           "Quintana del Castillo",
           1015.925
          ],
          [
           "Quintana del Marco",
           747.4242
          ],
          [
           "Quintana y Congosto",
           815.3561
          ],
          [
           "Regueras de Arriba",
           768.0805
          ],
          [
           "Reyero",
           1147.963
          ],
          [
           "Riaño",
           1110.109
          ],
          [
           "Riego de la Vega",
           809.6022
          ],
          [
           "Riello",
           1050.043
          ],
          [
           "Rioseco de Tapia",
           954.6298
          ],
          [
           "Robla, La",
           958.3334
          ],
          [
           "Roperuelos del Páramo",
           772
          ],
          [
           "Sabero",
           984.9694
          ],
          [
           "Sahagún",
           823.8625
          ],
          [
           "San Adrián del Valle",
           731.8175
          ],
          [
           "San Andrés del Rabanedo",
           855.3212
          ],
          [
           "Sancedo",
           685.0873
          ],
          [
           "San Cristóbal de la Polantera",
           799.5095
          ],
          [
           "San Emiliano",
           1182.807
          ],
          [
           "San Esteban de Nogales",
           785.158
          ],
          [
           "San Justo de la Vega",
           851.7037
          ],
          [
           "San Millán de los Caballeros",
           750.4792
          ],
          [
           "San Pedro Bercianos",
           823.5859
          ],
          [
           "Santa Colomba de Curueño",
           926.4728
          ],
          [
           "Santa Colomba de Somoza",
           998.198
          ],
          [
           "Santa Cristina de Valmadrigal",
           806.7304
          ],
          [
           "Santa Elena de Jamuz",
           767.0479
          ],
          [
           "Santa María de la Isla",
           788.8663
          ],
          [
           "Santa María del Monte de Cea",
           889.7578
          ],
          [
           "Santa María del Páramo",
           812.0701
          ],
          [
           "Santa María de Ordás",
           949.3904
          ],
          [
           "Santa Marina del Rey",
           845.9294
          ],
          [
           "Santas Martas",
           834.6781
          ],
          [
           "Santiago Millas",
           933.2487
          ],
          [
           "Santovenia de la Valdoncina",
           839.5405
          ],
          [
           "Sariegos",
           870.648
          ],
          [
           "Sena de Luna",
           1146.444
          ],
          [
           "Sobrado",
           441.7868
          ],
          [
           "Soto de la Vega",
           779.906
          ],
          [
           "Soto y Amío",
           1063.305
          ],
          [
           "Toral de los Guzmanes",
           744.2477
          ],
          [
           "Toreno",
           653.8434
          ],
          [
           "Torre del Bierzo",
           738.916
          ],
          [
           "Trabadelo",
           573.4517
          ],
          [
           "Truchas",
           1119.999
          ],
          [
           "Turcia",
           850.9941
          ],
          [
           "Urdiales del Páramo",
           810.6698
          ],
          [
           "Valdefresno",
           871.7318
          ],
          [
           "Valdefuentes del Páramo",
           786.8314
          ],
          [
           "Valdelugueros",
           1194.567
          ],
          [
           "Valdemora",
           777.129
          ],
          [
           "Valdepiélago",
           1030.69
          ],
          [
           "Valdepolo",
           873.5519
          ],
          [
           "Valderas",
           752.0427
          ],
          [
           "Valderrey",
           830.6566
          ],
          [
           "Valderrueda",
           1023.137
          ],
          [
           "Valdesamario",
           1021.253
          ],
          [
           "Val de San Lorenzo",
           886.899
          ],
          [
           "Valdevimbre",
           810.7202
          ],
          [
           "Valencia de Don Juan",
           767.8869
          ],
          [
           "Valverde de la Virgen",
           890.2882
          ],
          [
           "Valverde-Enrique",
           833.2962
          ],
          [
           "Vallecillo",
           846.0903
          ],
          [
           "Vecilla, La",
           1009.372
          ],
          [
           "Vegacervera",
           1046.433
          ],
          [
           "Vega de Espinareda",
           607.2139
          ],
          [
           "Vega de Infanzones",
           780
          ],
          [
           "Vega de Valcarce",
           629.737
          ],
          [
           "Vegaquemada",
           938.0208
          ],
          [
           "Vegas del Condado",
           862
          ],
          [
           "Villablino",
           989.2762
          ],
          [
           "Villabraz",
           847.0239
          ],
          [
           "Villadangos del Páramo",
           899.3542
          ],
          [
           "Villademor de la Vega",
           748.9046
          ],
          [
           "Villafranca del Bierzo",
           518.9436
          ],
          [
           "Villagatón",
           1015.718
          ],
          [
           "Villamandos",
           727.7506
          ],
          [
           "Villamañán",
           762.7079
          ],
          [
           "Villamartín de Don Sancho",
           892.331
          ],
          [
           "Villamejil",
           909.9926
          ],
          [
           "Villamol",
           819.0361
          ],
          [
           "Villamontán de la Valduerna",
           822.5558
          ],
          [
           "Villamoratiel de las Matas",
           845.7986
          ],
          [
           "Villanueva de las Manzanas",
           780.3629
          ],
          [
           "Villaobispo de Otero",
           868.2292
          ],
          [
           "Villaquejida",
           724.3493
          ],
          [
           "Villaquilambre",
           864.2917
          ],
          [
           "Villarejo de Órbigo",
           816.7586
          ],
          [
           "Villares de Órbigo",
           831.3205
          ],
          [
           "Villasabariego",
           851.8769
          ],
          [
           "Villaselán",
           862.9064
          ],
          [
           "Villaturiel",
           797.6174
          ],
          [
           "Villazala",
           799.6208
          ],
          [
           "Villazanzo de Valderaduey",
           916.1418
          ],
          [
           "Zotes del Páramo",
           782.1282
          ],
          [
           "Villamanín",
           1138.44
          ],
          [
           "Villaornate y Castro",
           737.9659
          ],
          [
           "Abella de la Conca",
           952.1764
          ],
          [
           "Àger",
           607.9741
          ],
          [
           "Agramunt",
           338.7131
          ],
          [
           "Alamús, Els",
           207.9185
          ],
          [
           "Alàs i Cerc",
           745.4337
          ],
          [
           "Albagés, L'",
           370.0416
          ],
          [
           "Albatàrrec",
           151.8978
          ],
          [
           "Albesa",
           238.3108
          ],
          [
           "Albi, L'",
           534.4882
          ],
          [
           "Alcanó",
           216.0127
          ],
          [
           "Alcarràs",
           136.5219
          ],
          [
           "Alcoletge",
           213.2258
          ],
          [
           "Alfarràs",
           298.5017
          ],
          [
           "Alfés",
           233.033
          ],
          [
           "Algerri",
           347.6021
          ],
          [
           "Alguaire",
           282.0707
          ],
          [
           "Alins",
           1056.239
          ],
          [
           "Almacelles",
           249.5397
          ],
          [
           "Almatret",
           468.0571
          ],
          [
           "Almenar",
           300.9621
          ],
          [
           "Alòs de Balaguer",
           298.3662
          ],
          [
           "Alpicat",
           264.9039
          ],
          [
           "Alt Àneu",
           1091.135
          ],
          [
           "Naut Aran",
           1273.032
          ],
          [
           "Anglesola",
           342
          ],
          [
           "Arbeca",
           306.752
          ],
          [
           "Pont de Bar, El",
           867.9058
          ],
          [
           "Arres",
           1300.125
          ],
          [
           "Arsèguel",
           985.8667
          ],
          [
           "Artesa de Lleida",
           201.7782
          ],
          [
           "Artesa de Segre",
           332.3418
          ],
          [
           "Sentiu de Sió, La",
           253.8751
          ],
          [
           "Aspa",
           256.8022
          ],
          [
           "Avellanes i Santa Linya, Les",
           571.9478
          ],
          [
           "Aitona",
           114.3093
          ],
          [
           "Baix Pallars",
           606.2668
          ],
          [
           "Balaguer",
           227.2513
          ],
          [
           "Barbens",
           284.5768
          ],
          [
           "Baronia de Rialb, La",
           598.8065
          ],
          [
           "Vall de Boí, La",
           1100
          ],
          [
           "Bassella",
           413.0881
          ],
          [
           "Bausen",
           904.0203
          ],
          [
           "Belianes",
           375.9277
          ],
          [
           "Bellcaire d'Urgell",
           264.6959
          ],
          [
           "Bell-lloc d'Urgell",
           199.3234
          ],
          [
           "Bellmunt d'Urgell",
           347.8303
          ],
          [
           "Bellpuig",
           293.6344
          ],
          [
           "Bellver de Cerdanya",
           1033.611
          ],
          [
           "Bellvís",
           209
          ],
          [
           "Benavent de Segrià",
           234.1884
          ],
          [
           "Biosca",
           433.4449
          ],
          [
           "Bovera",
           302.8737
          ],
          [
           "Bòrdes, Es",
           843.9403
          ],
          [
           "Borges Blanques, Les",
           305.5594
          ],
          [
           "Bossòst",
           712.4904
          ],
          [
           "Cabanabona",
           427.6726
          ],
          [
           "Cabó",
           722.8973
          ],
          [
           "Camarasa",
           259.0302
          ],
          [
           "Canejan",
           824.3683
          ],
          [
           "Castellar de la Ribera",
           645.1425
          ],
          [
           "Castelldans",
           354.4236
          ],
          [
           "Castellnou de Seana",
           275.9631
          ],
          [
           "Castelló de Farfanya",
           322.9813
          ],
          [
           "Castellserà",
           269.1279
          ],
          [
           "Cava",
           1260.723
          ],
          [
           "Cervera",
           514.1133
          ],
          [
           "Cervià de les Garrigues",
           455.9915
          ],
          [
           "Ciutadilla",
           490.5793
          ],
          [
           "Clariana de Cardener",
           505.0493
          ],
          [
           "Cogul, El",
           281.9914
          ],
          [
           "Coll de Nargó",
           562.6977
          ],
          [
           "Corbins",
           195.6501
          ],
          [
           "Cubells",
           470.9419
          ],
          [
           "Espluga Calba, L'",
           430.8572
          ],
          [
           "Espot",
           1329.839
          ],
          [
           "Estaràs",
           592.5443
          ],
          [
           "Esterri d'Àneu",
           958.5542
          ],
          [
           "Esterri de Cardós",
           1192.209
          ],
          [
           "Estamariu",
           1044.079
          ],
          [
           "Farrera",
           1347.608
          ],
          [
           "Floresta, La",
           326.3009
          ],
          [
           "Fondarella",
           239.177
          ],
          [
           "Foradada",
           433.8825
          ],
          [
           "Fuliola, La",
           273.3843
          ],
          [
           "Fulleda",
           580.2524
          ],
          [
           "Gavet de la Conca",
           419.0891
          ],
          [
           "Golmés",
           270.857
          ],
          [
           "Gósol",
           1425.53
          ],
          [
           "Granadella, La",
           519.9661
          ],
          [
           "Granja d'Escarp, La",
           86.5028
          ],
          [
           "Granyanella",
           507.9074
          ],
          [
           "Granyena de Segarra",
           585.0941
          ],
          [
           "Granyena de les Garrigues",
           357.5183
          ],
          [
           "Guimerà",
           512.8314
          ],
          [
           "Guissona",
           494.9318
          ],
          [
           "Guixers",
           877.1038
          ],
          [
           "Ivars de Noguera",
           326.9235
          ],
          [
           "Ivars d'Urgell",
           265.9485
          ],
          [
           "Ivorra",
           553.0552
          ],
          [
           "Isona i Conca Dellà",
           659.2741
          ],
          [
           "Juncosa",
           572.8483
          ],
          [
           "Juneda",
           266.91
          ],
          [
           "Lleida",
           166.4499
          ],
          [
           "Les",
           638.8151
          ],
          [
           "Linyola",
           249.5356
          ],
          [
           "Lladorre",
           1071.652
          ],
          [
           "Lladurs",
           820
          ],
          [
           "Llardecans",
           397.0908
          ],
          [
           "Llavorsí",
           796.6211
          ],
          [
           "Lles de Cerdanya",
           1467.283
          ],
          [
           "Llimiana",
           753.4308
          ],
          [
           "Llobera",
           846.8084
          ],
          [
           "Maldà",
           418.2859
          ],
          [
           "Massalcoreig",
           94.94318
          ],
          [
           "Massoteres",
           503.74
          ],
          [
           "Maials",
           374.7433
          ],
          [
           "Menàrguens",
           208.0313
          ],
          [
           "Miralcamp",
           267.9695
          ],
          [
           "Molsosa, La",
           641.0245
          ],
          [
           "Mollerussa",
           255.1743
          ],
          [
           "Montgai",
           285.5883
          ],
          [
           "Montellà i Martinet",
           960.6633
          ],
          [
           "Montferrer i Castellbò",
           718.1434
          ],
          [
           "Montoliu de Segarra",
           683.5535
          ],
          [
           "Montoliu de Lleida",
           148.1022
          ],
          [
           "Montornès de Segarra",
           586.9286
          ],
          [
           "Nalec",
           468.2451
          ],
          [
           "Navès",
           602.2256
          ],
          [
           "Odèn",
           1283.885
          ],
          [
           "Oliana",
           456.1855
          ],
          [
           "Oliola",
           415.9434
          ],
          [
           "Olius",
           555.1147
          ],
          [
           "Oluges, Les",
           520.3976
          ],
          [
           "Omellons, Els",
           383.1201
          ],
          [
           "Omells de na Gaia, Els",
           559.9135
          ],
          [
           "Organyà",
           551.4544
          ],
          [
           "Os de Balaguer",
           462.0808
          ],
          [
           "Ossó de Sió",
           387.8812
          ],
          [
           "Palau d'Anglesola, El",
           239.3142
          ],
          [
           "Conca de Dalt",
           502.1039
          ],
          [
           "Coma i la Pedra, La",
           961.528
          ],
          [
           "Penelles",
           283.3288
          ],
          [
           "Peramola",
           565.0052
          ],
          [
           "Pinell de Solsonès",
           632.7087
          ],
          [
           "Pinós",
           798.8068
          ],
          [
           "Poal, El",
           213.3557
          ],
          [
           "Pobla de Cérvoles, La",
           675.3557
          ],
          [
           "Bellaguarda",
           630.9696
          ],
          [
           "Pobla de Segur, La",
           513.2694
          ],
          [
           "Ponts",
           365.3082
          ],
          [
           "Pont de Suert, El",
           829.2844
          ],
          [
           "Portella, La",
           255.1998
          ],
          [
           "Prats i Sansor",
           1104.549
          ],
          [
           "Preixana",
           310.7234
          ],
          [
           "Preixens",
           310.299
          ],
          [
           "Prullans",
           1148.77
          ],
          [
           "Puiggròs",
           316.5753
          ],
          [
           "Puigverd d'Agramunt",
           347.943
          ],
          [
           "Puigverd de Lleida",
           211.46
          ],
          [
           "Rialp",
           716.666
          ],
          [
           "Ribera d'Urgellet",
           647.853
          ],
          [
           "Riner",
           698.1688
          ],
          [
           "Rosselló",
           257
          ],
          [
           "Salàs de Pallars",
           544.2087
          ],
          [
           "Sanaüja",
           405.1787
          ],
          [
           "Sant Guim de Freixenet",
           742.983
          ],
          [
           "Sant Llorenç de Morunys",
           931.3393
          ],
          [
           "Sant Ramon",
           660.8257
          ],
          [
           "Sant Esteve de la Sarga",
           906.1107
          ],
          [
           "Sant Guim de la Plana",
           554.3297
          ],
          [
           "Sarroca de Lleida",
           194.3455
          ],
          [
           "Sarroca de Bellera",
           958.9928
          ],
          [
           "Senterada",
           735.4564
          ],
          [
           "Seu d'Urgell, La",
           687.3732
          ],
          [
           "Seròs",
           105.2147
          ],
          [
           "Sidamon",
           230.7424
          ],
          [
           "Soleràs, El",
           389.3676
          ],
          [
           "Solsona",
           679.2817
          ],
          [
           "Soriguera",
           1182.144
          ],
          [
           "Sort",
           690.4686
          ],
          [
           "Soses",
           124.5909
          ],
          [
           "Sudanell",
           156.6789
          ],
          [
           "Sunyer",
           213.2605
          ],
          [
           "Talarn",
           543.7527
          ],
          [
           "Talavera",
           757.597
          ],
          [
           "Tàrrega",
           382.5588
          ],
          [
           "Tarrés",
           585.189
          ],
          [
           "Tarroja de Segarra",
           467.2543
          ],
          [
           "Térmens",
           208.6154
          ],
          [
           "Tírvia",
           1019.093
          ],
          [
           "Tiurana",
           395.5405
          ],
          [
           "Torà",
           436.7267
          ],
          [
           "Torms, Els",
           465.9422
          ],
          [
           "Tornabous",
           294.4711
          ],
          [
           "Torrebesses",
           262.0064
          ],
          [
           "Torre de Cabdella, La",
           1300
          ],
          [
           "Torrefarrera",
           218.273
          ],
          [
           "Torregrossa",
           238.2074
          ],
          [
           "Torrelameu",
           202.6676
          ],
          [
           "Torres de Segre",
           125.5436
          ],
          [
           "Torre-serona",
           194.7614
          ],
          [
           "Tremp",
           470.7209
          ],
          [
           "Vallbona de les Monges",
           494.5486
          ],
          [
           "Valls de Valira, Les",
           756.8403
          ],
          [
           "Vallfogona de Balaguer",
           232.8295
          ],
          [
           "Verdú",
           437.169
          ],
          [
           "Vielha e Mijaran",
           990.1799
          ],
          [
           "Vilagrassa",
           355.2005
          ],
          [
           "Vilaller",
           980.9213
          ],
          [
           "Vilamòs",
           1260.609
          ],
          [
           "Vilanova de Bellpuig",
           293.5143
          ],
          [
           "Vilanova de l'Aguda",
           398.3846
          ],
          [
           "Vilanova de Meià",
           608.9849
          ],
          [
           "Vilanova de Segrià",
           255.3218
          ],
          [
           "Vila-sana",
           249.5091
          ],
          [
           "Vilosell, El",
           655.3639
          ],
          [
           "Vilanova de la Barca",
           197.9396
          ],
          [
           "Vinaixa",
           483.3008
          ],
          [
           "Vall de Cardós",
           938.0867
          ],
          [
           "Sant Martí de Riucorb",
           407.3113
          ],
          [
           "Guingueta d'Àneu, La",
           950.3268
          ],
          [
           "Castell de Mur",
           867.5153
          ],
          [
           "Ribera d'Ondara",
           557.7328
          ],
          [
           "Valls d'Aguilar, Les",
           643.6229
          ],
          [
           "Torrefeta i Florejacs",
           473.3801
          ],
          [
           "Fígols i Alinyà",
           638.1115
          ],
          [
           "Vansa i Fórnols, La",
           1115.894
          ],
          [
           "Josa i Tuixén",
           1182.531
          ],
          [
           "Plans de Sió, Els",
           412.8737
          ],
          [
           "Gimenells i el Pla de la Font",
           258.7494
          ],
          [
           "Riu de Cerdanya",
           1174.395
          ],
          [
           "Ábalos",
           590.3367
          ],
          [
           "Agoncillo",
           346.0684
          ],
          [
           "Aguilar del Río Alhama",
           642.4493
          ],
          [
           "Ajamil de Cameros",
           1013.896
          ],
          [
           "Albelda de Iregua",
           527.8994
          ],
          [
           "Alberite",
           451.6525
          ],
          [
           "Alcanadre",
           346.884
          ],
          [
           "Aldeanueva de Ebro",
           347
          ],
          [
           "Alesanco",
           565.6456
          ],
          [
           "Alesón",
           573.7119
          ],
          [
           "Alfaro",
           308.5974
          ],
          [
           "Almarza de Cameros",
           1069.351
          ],
          [
           "Anguciana",
           479.3135
          ],
          [
           "Anguiano",
           652.6512
          ],
          [
           "Arenzana de Abajo",
           546.6681
          ],
          [
           "Arenzana de Arriba",
           597.5667
          ],
          [
           "Arnedillo",
           671.225
          ],
          [
           "Arnedo",
           529.8414
          ],
          [
           "Arrúbal",
           356.6617
          ],
          [
           "Ausejo",
           559.8897
          ],
          [
           "Autol",
           447.7715
          ],
          [
           "Azofra",
           549.5315
          ],
          [
           "Badarán",
           626.2255
          ],
          [
           "Bañares",
           594.9688
          ],
          [
           "Baños de Rioja",
           549.6365
          ],
          [
           "Baños de Río Tobía",
           579.7742
          ],
          [
           "Berceo",
           725.8651
          ],
          [
           "Bergasa",
           659.4448
          ],
          [
           "Bergasillas Bajera",
           835.3159
          ],
          [
           "Bezares",
           691.6075
          ],
          [
           "Bobadilla",
           575.4393
          ],
          [
           "Brieva de Cameros",
           962.1104
          ],
          [
           "Briñas",
           451.1893
          ],
          [
           "Briones",
           502.3963
          ],
          [
           "Cabezón de Cameros",
           933.9756
          ],
          [
           "Calahorra",
           350.8057
          ],
          [
           "Camprovín",
           655.001
          ],
          [
           "Canales de la Sierra",
           1034.365
          ],
          [
           "Canillas de Río Tuerto",
           622.8653
          ],
          [
           "Cañas",
           644.0715
          ],
          [
           "Cárdenas",
           569.4557
          ],
          [
           "Casalarreina",
           499.5124
          ],
          [
           "Castañares de Rioja",
           544.8438
          ],
          [
           "Castroviejo",
           957.0941
          ],
          [
           "Cellorigo",
           779.0795
          ],
          [
           "Cenicero",
           433.9284
          ],
          [
           "Cervera del Río Alhama",
           533.9604
          ],
          [
           "Cidamón",
           584.6813
          ],
          [
           "Cihuri",
           487.6716
          ],
          [
           "Cirueña",
           753.5059
          ],
          [
           "Clavijo",
           870.1968
          ],
          [
           "Cordovín",
           591.1239
          ],
          [
           "Corera",
           524.1997
          ],
          [
           "Cornago",
           700.761
          ],
          [
           "Corporales",
           729.3324
          ],
          [
           "Cuzcurrita de Río Tirón",
           518.9031
          ],
          [
           "Daroca de Rioja",
           718.0956
          ],
          [
           "Enciso",
           800.3494
          ],
          [
           "Entrena",
           556.1802
          ],
          [
           "Estollo",
           748.5827
          ],
          [
           "Ezcaray",
           813.0378
          ],
          [
           "Foncea",
           696.9241
          ],
          [
           "Fonzaleche",
           558.2291
          ],
          [
           "Fuenmayor",
           436.0469
          ],
          [
           "Galbárruli",
           656.6448
          ],
          [
           "Galilea",
           558.0848
          ],
          [
           "Gallinero de Cameros",
           1052.772
          ],
          [
           "Gimileo",
           480.4563
          ],
          [
           "Grañón",
           728.1026
          ],
          [
           "Grávalos",
           757.1207
          ],
          [
           "Haro",
           478.9891
          ],
          [
           "Herce",
           592.4082
          ],
          [
           "Herramélluri",
           572.0812
          ],
          [
           "Hervías",
           655.4955
          ],
          [
           "Hormilla",
           515.5236
          ],
          [
           "Hormilleja",
           492.3883
          ],
          [
           "Hornillos de Cameros",
           1145.726
          ],
          [
           "Hornos de Moncalvillo",
           677.0172
          ],
          [
           "Huércanos",
           514.9982
          ],
          [
           "Igea",
           568.7258
          ],
          [
           "Jalón de Cameros",
           869.4159
          ],
          [
           "Laguna de Cameros",
           1043.967
          ],
          [
           "Lagunilla del Jubera",
           612.0925
          ],
          [
           "Lardero",
           438.448
          ],
          [
           "Ledesma de la Cogolla",
           748.3919
          ],
          [
           "Leiva",
           586.0123
          ],
          [
           "Leza de Río Leza",
           574.0675
          ],
          [
           "Logroño",
           396.4728
          ],
          [
           "Manjarrés",
           630.46
          ],
          [
           "Mansilla de la Sierra",
           959.0128
          ],
          [
           "Manzanares de Rioja",
           800.946
          ],
          [
           "Matute",
           685.0762
          ],
          [
           "Medrano",
           599.9323
          ],
          [
           "Munilla",
           801.2989
          ],
          [
           "Murillo de Río Leza",
           409.3719
          ],
          [
           "Muro de Aguas",
           881.153
          ],
          [
           "Muro en Cameros",
           1102.083
          ],
          [
           "Nájera",
           491.8676
          ],
          [
           "Nalda",
           621.6317
          ],
          [
           "Navajún",
           927.8933
          ],
          [
           "Navarrete",
           505.4879
          ],
          [
           "Nestares",
           861.1385
          ],
          [
           "Nieva de Cameros",
           1008.789
          ],
          [
           "Ocón",
           885.0756
          ],
          [
           "Ochánduri",
           550.3547
          ],
          [
           "Ojacastro",
           792.9922
          ],
          [
           "Ollauri",
           499.6054
          ],
          [
           "Ortigosa de Cameros",
           1061.807
          ],
          [
           "Pazuengos",
           1160.065
          ],
          [
           "Pedroso",
           1699.063
          ],
          [
           "Pinillos",
           1009.915
          ],
          [
           "Pradejón",
           364.7923
          ],
          [
           "Pradillo",
           884.1365
          ],
          [
           "Préjano",
           705.9279
          ],
          [
           "Quel",
           477.9927
          ],
          [
           "Rabanera",
           973.8629
          ],
          [
           "Rasillo de Cameros, El",
           1098.583
          ],
          [
           "Redal, El",
           530.1921
          ],
          [
           "Ribafrecha",
           499.8856
          ],
          [
           "Rincón de Soto",
           291.5012
          ],
          [
           "Robres del Castillo",
           732.1305
          ],
          [
           "Rodezno",
           546.4205
          ],
          [
           "Sajazarra",
           515.8929
          ],
          [
           "San Asensio",
           535.0013
          ],
          [
           "San Millán de la Cogolla",
           725.5252
          ],
          [
           "San Millán de Yécora",
           658
          ],
          [
           "San Román de Cameros",
           841.6791
          ],
          [
           "Santa Coloma",
           763.788
          ],
          [
           "Santa Engracia del Jubera",
           651.6323
          ],
          [
           "Santa Eulalia Bajera",
           633.9897
          ],
          [
           "Santo Domingo de la Calzada",
           641.3798
          ],
          [
           "San Torcuato",
           599.8317
          ],
          [
           "Santurde de Rioja",
           713.6771
          ],
          [
           "Santurdejo",
           776.8748
          ],
          [
           "San Vicente de la Sonsierra",
           499.6028
          ],
          [
           "Sojuela",
           666.7807
          ],
          [
           "Sorzano",
           722.3146
          ],
          [
           "Sotés",
           670.8347
          ],
          [
           "Soto en Cameros",
           732.1506
          ],
          [
           "Terroba",
           799.225
          ],
          [
           "Tirgo",
           521.4808
          ],
          [
           "Tobía",
           689.8137
          ],
          [
           "Tormantos",
           608.6924
          ],
          [
           "Torrecilla en Cameros",
           751.1946
          ],
          [
           "Torrecilla sobre Alesanco",
           613.0709
          ],
          [
           "Torre en Cameros",
           1134.403
          ],
          [
           "Torremontalbo",
           424.9834
          ],
          [
           "Treviana",
           586.3843
          ],
          [
           "Tricio",
           563.7631
          ],
          [
           "Tudelilla",
           541.8914
          ],
          [
           "Uruñuela",
           498.3737
          ],
          [
           "Valdemadera",
           965.7645
          ],
          [
           "Valgañón",
           937.2846
          ],
          [
           "Ventosa",
           640.8217
          ],
          [
           "Ventrosa",
           968.6185
          ],
          [
           "Viguera",
           687.5367
          ],
          [
           "Villalba de Rioja",
           552.1461
          ],
          [
           "Villalobar de Rioja",
           586.6432
          ],
          [
           "Villamediana de Iregua",
           444.9522
          ],
          [
           "Villanueva de Cameros",
           886.7664
          ],
          [
           "Villar de Arnedo, El",
           433.9665
          ],
          [
           "Villar de Torre",
           766.6995
          ],
          [
           "Villarejo",
           833.6031
          ],
          [
           "Villarroya",
           920.0107
          ],
          [
           "Villarta-Quintana",
           754.0377
          ],
          [
           "Villavelayo",
           952.2856
          ],
          [
           "Villaverde de Rioja",
           798.5352
          ],
          [
           "Villoslada de Cameros",
           1072.263
          ],
          [
           "Viniegra de Abajo",
           887.5325
          ],
          [
           "Viniegra de Arriba",
           1193.244
          ],
          [
           "Zarratón",
           560.7578
          ],
          [
           "Zarzosa",
           937.8779
          ],
          [
           "Zorraquín",
           872.1453
          ],
          [
           "Abadín",
           475.1587
          ],
          [
           "Alfoz",
           56.10721
          ],
          [
           "Antas de Ulla",
           558.4615
          ],
          [
           "Baleira",
           661.8257
          ],
          [
           "Barreiros",
           193.2786
          ],
          [
           "Becerreá",
           641.6993
          ],
          [
           "Begonte",
           416.7638
          ],
          [
           "Bóveda",
           358.4192
          ],
          [
           "Carballedo",
           556.9655
          ],
          [
           "Castro de Rei",
           431.6718
          ],
          [
           "Castroverde",
           589.1481
          ],
          [
           "Cervantes",
           648.1846
          ],
          [
           "Cervo",
           59.01057
          ],
          [
           "Corgo, O",
           423.9196
          ],
          [
           "Cospeito",
           426.1127
          ],
          [
           "Chantada",
           491.9615
          ],
          [
           "Folgoso do Courel",
           597.0881
          ],
          [
           "Fonsagrada, A",
           957.5945
          ],
          [
           "Foz",
           6.783125
          ],
          [
           "Friol",
           483.822
          ],
          [
           "Xermade",
           468.3652
          ],
          [
           "Guitiriz",
           448.572
          ],
          [
           "Guntín",
           465.0538
          ],
          [
           "Incio, O",
           733.6429
          ],
          [
           "Xove",
           61.07624
          ],
          [
           "Láncara",
           409.2137
          ],
          [
           "Lourenzá",
           56.24402
          ],
          [
           "Lugo",
           468.2347
          ],
          [
           "Meira",
           488.5347
          ],
          [
           "Mondoñedo",
           132.6622
          ],
          [
           "Monforte de Lemos",
           299.166
          ],
          [
           "Monterroso",
           542.8273
          ],
          [
           "Muras",
           486.4558
          ],
          [
           "Navia de Suarna",
           324.8547
          ],
          [
           "Negueira de Muñiz",
           358.476
          ],
          [
           "Nogais, As",
           512.5035
          ],
          [
           "Ourol",
           253.6125
          ],
          [
           "Outeiro de Rei",
           410.7439
          ],
          [
           "Palas de Rei",
           558.8809
          ],
          [
           "Pantón",
           304.506
          ],
          [
           "Paradela",
           559.2864
          ],
          [
           "Páramo, O",
           376.2073
          ],
          [
           "Pastoriza, A",
           545.8884
          ],
          [
           "Pedrafita do Cebreiro",
           1110.924
          ],
          [
           "Pol",
           530.1712
          ],
          [
           "Pobra do Brollón, A",
           384.0419
          ],
          [
           "Pontenova, A",
           84.54995
          ],
          [
           "Portomarín",
           387.5597
          ],
          [
           "Quiroga",
           268.3575
          ],
          [
           "Ribadeo",
           41.25553
          ],
          [
           "Ribas de Sil",
           532.9442
          ],
          [
           "Ribeira de Piquín",
           616.5509
          ],
          [
           "Riotorto",
           393.7881
          ],
          [
           "Samos",
           542.352
          ],
          [
           "Rábade",
           404.1569
          ],
          [
           "Sarria",
           447.6552
          ],
          [
           "Saviñao, O",
           450.5526
          ],
          [
           "Sober",
           398.1687
          ],
          [
           "Taboada",
           542.3445
          ],
          [
           "Trabada",
           214.7123
          ],
          [
           "Triacastela",
           671.5583
          ],
          [
           "Valadouro, O",
           262.7564
          ],
          [
           "Vicedo, O",
           13.50312
          ],
          [
           "Vilalba",
           452.9068
          ],
          [
           "Viveiro",
           21.87932
          ],
          [
           "Baralla",
           488.2265
          ],
          [
           "Burela",
           62.66413
          ],
          [
           "Acebeda, La",
           1266.542
          ],
          [
           "Ajalvir",
           680.1722
          ],
          [
           "Alameda del Valle",
           1109.934
          ],
          [
           "Álamo, El",
           606.2238
          ],
          [
           "Alcalá de Henares",
           593.7416
          ],
          [
           "Alcobendas",
           694.4304
          ],
          [
           "Alcorcón",
           717.5549
          ],
          [
           "Aldea del Fresno",
           476.7994
          ],
          [
           "Algete",
           712.8972
          ],
          [
           "Alpedrete",
           916.7029
          ],
          [
           "Ambite",
           667.338
          ],
          [
           "Anchuelo",
           761.7067
          ],
          [
           "Aranjuez",
           502.3892
          ],
          [
           "Arganda del Rey",
           626.9236
          ],
          [
           "Arroyomolinos",
           597.4142
          ],
          [
           "Atazar, El",
           900.2352
          ],
          [
           "Batres",
           603.6849
          ],
          [
           "Becerril de la Sierra",
           1086.586
          ],
          [
           "Belmonte de Tajo",
           732.0183
          ],
          [
           "Berzosa del Lozoya",
           1079.826
          ],
          [
           "Berrueco, El",
           937.1234
          ],
          [
           "Boadilla del Monte",
           673.7737
          ],
          [
           "Boalo, El",
           953.0439
          ],
          [
           "Braojos",
           1189.477
          ],
          [
           "Brea de Tajo",
           722.8417
          ],
          [
           "Brunete",
           654.7903
          ],
          [
           "Buitrago del Lozoya",
           977.8387
          ],
          [
           "Bustarviejo",
           1217.359
          ],
          [
           "Cabanillas de la Sierra",
           921.8676
          ],
          [
           "Cabrera, La",
           1040.395
          ],
          [
           "Cadalso de los Vidrios",
           799.9886
          ],
          [
           "Camarma de Esteruelas",
           639.19
          ],
          [
           "Campo Real",
           765.6791
          ],
          [
           "Canencia",
           1142.31
          ],
          [
           "Carabaña",
           612.9524
          ],
          [
           "Casarrubuelos",
           624.7643
          ],
          [
           "Cenicientos",
           778.7822
          ],
          [
           "Cercedilla",
           1191.372
          ],
          [
           "Cervera de Buitrago",
           916.3304
          ],
          [
           "Ciempozuelos",
           580.2641
          ],
          [
           "Cobeña",
           677.4468
          ],
          [
           "Colmenar del Arroyo",
           679.1825
          ],
          [
           "Colmenar de Oreja",
           756.9265
          ],
          [
           "Colmenarejo",
           875.1868
          ],
          [
           "Colmenar Viejo",
           880.6345
          ],
          [
           "Collado Mediano",
           1029.724
          ],
          [
           "Collado Villalba",
           875.7213
          ],
          [
           "Corpa",
           819.1653
          ],
          [
           "Coslada",
           628.7247
          ],
          [
           "Cubas de la Sagra",
           648.7275
          ],
          [
           "Chapinería",
           679.6159
          ],
          [
           "Chinchón",
           777.1609
          ],
          [
           "Daganzo de Arriba",
           665.5711
          ],
          [
           "Escorial, El",
           915.7729
          ],
          [
           "Estremera",
           643.0197
          ],
          [
           "Fresnedillas de la Oliva",
           895.7322
          ],
          [
           "Fresno de Torote",
           657.2809
          ],
          [
           "Fuenlabrada",
           679.0076
          ],
          [
           "Fuente el Saz de Jarama",
           642.1251
          ],
          [
           "Fuentidueña de Tajo",
           565.6978
          ],
          [
           "Galapagar",
           884.4304
          ],
          [
           "Garganta de los Montes",
           1125.801
          ],
          [
           "Gargantilla del Lozoya y Pinilla de Buitrago",
           1136.591
          ],
          [
           "Gascones",
           1046.484
          ],
          [
           "Getafe",
           632.1449
          ],
          [
           "Griñón",
           676.9866
          ],
          [
           "Guadalix de la Sierra",
           841
          ],
          [
           "Guadarrama",
           965.5875
          ],
          [
           "Horcajuelo de la Sierra",
           1138.176
          ],
          [
           "Hoyo de Manzanares",
           1005.688
          ],
          [
           "Humanes de Madrid",
           675.6912
          ],
          [
           "Leganés",
           658.15
          ],
          [
           "Loeches",
           639.8891
          ],
          [
           "Lozoya",
           1111.051
          ],
          [
           "Madarcos",
           1057.624
          ],
          [
           "Madrid",
           653.0047
          ],
          [
           "Majadahonda",
           743.4514
          ],
          [
           "Manzanares el Real",
           917.528
          ],
          [
           "Meco",
           670.2038
          ],
          [
           "Mejorada del Campo",
           580.1962
          ],
          [
           "Miraflores de la Sierra",
           1149.553
          ],
          [
           "Molar, El",
           819.3329
          ],
          [
           "Molinos, Los",
           1046.887
          ],
          [
           "Montejo de la Sierra",
           1151.855
          ],
          [
           "Moraleja de Enmedio",
           682.4211
          ],
          [
           "Moralzarzal",
           982.0547
          ],
          [
           "Morata de Tajuña",
           559.4251
          ],
          [
           "Móstoles",
           665.2133
          ],
          [
           "Navacerrada",
           1193.742
          ],
          [
           "Navalafuente",
           906.057
          ],
          [
           "Navalagamella",
           759.7007
          ],
          [
           "Navalcarnero",
           672.8241
          ],
          [
           "Navarredonda y San Mamés",
           1219.314
          ],
          [
           "Navas del Rey",
           717.2259
          ],
          [
           "Nuevo Baztán",
           834.9736
          ],
          [
           "Olmeda de las Fuentes",
           785.2642
          ],
          [
           "Orusco de Tajuña",
           662.3139
          ],
          [
           "Paracuellos de Jarama",
           692.0413
          ],
          [
           "Parla",
           651.0903
          ],
          [
           "Patones",
           713.0287
          ],
          [
           "Pedrezuela",
           869.5692
          ],
          [
           "Pelayos de la Presa",
           561.4791
          ],
          [
           "Perales de Tajuña",
           577.9905
          ],
          [
           "Pezuela de las Torres",
           855.1563
          ],
          [
           "Pinilla del Valle",
           1097.138
          ],
          [
           "Pinto",
           609.3594
          ],
          [
           "Piñuécar-Gandullas",
           1063.421
          ],
          [
           "Pozuelo de Alarcón",
           697.1177
          ],
          [
           "Pozuelo del Rey",
           807.1237
          ],
          [
           "Prádena del Rincón",
           1114.976
          ],
          [
           "Puebla de la Sierra",
           1160.507
          ],
          [
           "Quijorna",
           574.5786
          ],
          [
           "Rascafría",
           1157.038
          ],
          [
           "Redueña",
           823.9578
          ],
          [
           "Ribatejada",
           761.6322
          ],
          [
           "Rivas-Vaciamadrid",
           560.5495
          ],
          [
           "Robledillo de la Jara",
           1017.706
          ],
          [
           "Robledo de Chavela",
           893.4601
          ],
          [
           "Robregordo",
           1297.608
          ],
          [
           "Rozas de Madrid, Las",
           876.1035
          ],
          [
           "Rozas de Puerto Real",
           876.1035
          ],
          [
           "San Agustín del Guadalix",
           667.7155
          ],
          [
           "San Fernando de Henares",
           591.3853
          ],
          [
           "San Lorenzo de El Escorial",
           1052.468
          ],
          [
           "San Martín de la Vega",
           517.0689
          ],
          [
           "San Martín de Valdeiglesias",
           677.8516
          ],
          [
           "San Sebastián de los Reyes",
           681.644
          ],
          [
           "Santa María de la Alameda",
           1411.015
          ],
          [
           "Santorcaz",
           864.0168
          ],
          [
           "Santos de la Humosa, Los",
           875.056
          ],
          [
           "Serna del Monte, La",
           1072.925
          ],
          [
           "Serranillos del Valle",
           650.8673
          ],
          [
           "Sevilla la Nueva",
           674.3175
          ],
          [
           "Somosierra",
           1436.419
          ],
          [
           "Soto del Real",
           922.4442
          ],
          [
           "Talamanca de Jarama",
           655.0905
          ],
          [
           "Tielmes",
           580.7983
          ],
          [
           "Titulcia",
           514.1019
          ],
          [
           "Torrejón de Ardoz",
           591.0876
          ],
          [
           "Torrejón de la Calzada",
           632.9291
          ],
          [
           "Torrejón de Velasco",
           609.1476
          ],
          [
           "Torrelaguna",
           742.3256
          ],
          [
           "Torrelodones",
           847.145
          ],
          [
           "Torremocha de Jarama",
           705.3375
          ],
          [
           "Torres de la Alameda",
           668.0449
          ],
          [
           "Valdaracete",
           737.9929
          ],
          [
           "Valdeavero",
           713.679
          ],
          [
           "Valdelaguna",
           710.8623
          ],
          [
           "Valdemanco",
           1133.363
          ],
          [
           "Valdemaqueda",
           864.9176
          ],
          [
           "Valdemorillo",
           820.9337
          ],
          [
           "Valdemoro",
           612.726
          ],
          [
           "Valdeolmos-Alalpardo",
           680.2087
          ],
          [
           "Valdepiélagos",
           744.8907
          ],
          [
           "Valdetorres de Jarama",
           651.753
          ],
          [
           "Valdilecha",
           724.2806
          ],
          [
           "Valverde de Alcalá",
           733.9373
          ],
          [
           "Velilla de San Antonio",
           555.8903
          ],
          [
           "Vellón, El",
           894.388
          ],
          [
           "Venturada",
           883.1885
          ],
          [
           "Villaconejos",
           635.7664
          ],
          [
           "Villa del Prado",
           512.4543
          ],
          [
           "Villalbilla",
           744.6702
          ],
          [
           "Villamanrique de Tajo",
           549.4291
          ],
          [
           "Villamanta",
           550.4752
          ],
          [
           "Villamantilla",
           550.092
          ],
          [
           "Villanueva de la Cañada",
           655.8425
          ],
          [
           "Villanueva del Pardillo",
           653.1323
          ],
          [
           "Villanueva de Perales",
           594.7557
          ],
          [
           "Villar del Olmo",
           680.3748
          ],
          [
           "Villarejo de Salvanés",
           759.0782
          ],
          [
           "Villaviciosa de Odón",
           647.7311
          ],
          [
           "Villavieja del Lozoya",
           1062.474
          ],
          [
           "Zarzalejo",
           1105.808
          ],
          [
           "Lozoyuela-Navas-Sieteiglesias",
           1022.991
          ],
          [
           "Puentes Viejas",
           1065.958
          ],
          [
           "Tres Cantos",
           744.3729
          ],
          [
           "Alameda",
           431.0601
          ],
          [
           "Alcaucín",
           506.8431
          ],
          [
           "Alfarnate",
           890.3339
          ],
          [
           "Alfarnatejo",
           853.526
          ],
          [
           "Algarrobo",
           76.22504
          ],
          [
           "Algatocín",
           711.4503
          ],
          [
           "Alhaurín de la Torre",
           55.9206
          ],
          [
           "Alhaurín el Grande",
           262.0032
          ],
          [
           "Almáchar",
           251.3838
          ],
          [
           "Almargen",
           511.2607
          ],
          [
           "Almogía",
           369.3161
          ],
          [
           "Álora",
           217.7383
          ],
          [
           "Alozaina",
           367.5125
          ],
          [
           "Alpandeire",
           691.1627
          ],
          [
           "Antequera",
           519.31
          ],
          [
           "Árchez",
           434.6224
          ],
          [
           "Archidona",
           711.6459
          ],
          [
           "Ardales",
           408.7493
          ],
          [
           "Arenas",
           395.6026
          ],
          [
           "Arriate",
           596.1475
          ],
          [
           "Atajate",
           743.5022
          ],
          [
           "Benadalid",
           694.8373
          ],
          [
           "Benahavís",
           169.0831
          ],
          [
           "Benalauría",
           680.5325
          ],
          [
           "Benalmádena",
           246.0654
          ],
          [
           "Benamargosa",
           107.37
          ],
          [
           "Benamocarra",
           129.8485
          ],
          [
           "Benaoján",
           565.6541
          ],
          [
           "Benarrabá",
           536.6716
          ],
          [
           "Borge, El",
           253.297
          ],
          [
           "Burgo, El",
           578.5044
          ],
          [
           "Campillos",
           458.5459
          ],
          [
           "Canillas de Aceituno",
           653.6641
          ],
          [
           "Canillas de Albaida",
           579.2617
          ],
          [
           "Cañete la Real",
           750.4806
          ],
          [
           "Carratraca",
           527.6124
          ],
          [
           "Cartajima",
           835.1337
          ],
          [
           "Cártama",
           103.493
          ],
          [
           "Casabermeja",
           543.2839
          ],
          [
           "Casarabonela",
           469.9098
          ],
          [
           "Casares",
           395.2425
          ],
          [
           "Coín",
           212.3918
          ],
          [
           "Colmenar",
           674.2641
          ],
          [
           "Comares",
           691.9902
          ],
          [
           "Cómpeta",
           631.6203
          ],
          [
           "Cortes de la Frontera",
           623.0131
          ],
          [
           "Cuevas Bajas",
           316.253
          ],
          [
           "Cuevas del Becerro",
           727.9931
          ],
          [
           "Cuevas de San Marcos",
           407.2341
          ],
          [
           "Cútar",
           297.5281
          ],
          [
           "Estepona",
           9.655864
          ],
          [
           "Faraján",
           632.2032
          ],
          [
           "Frigiliana",
           326.0266
          ],
          [
           "Fuengirola",
           9.702183
          ],
          [
           "Fuente de Piedra",
           444.6066
          ],
          [
           "Gaucín",
           609.3961
          ],
          [
           "Genalguacil",
           508.3251
          ],
          [
           "Guaro",
           347.6602
          ],
          [
           "Humilladero",
           447
          ],
          [
           "Igualeja",
           692.6473
          ],
          [
           "Istán",
           295.7882
          ],
          [
           "Iznate",
           305.813
          ],
          [
           "Jimera de Líbar",
           548.8419
          ],
          [
           "Jubrique",
           556.0103
          ],
          [
           "Júzcar",
           622.4206
          ],
          [
           "Macharaviaya",
           232.853
          ],
          [
           "Málaga",
           20.76588
          ],
          [
           "Manilva",
           135.0445
          ],
          [
           "Marbella",
           23.81581
          ],
          [
           "Mijas",
           421.1643
          ],
          [
           "Moclinejo",
           443.1213
          ],
          [
           "Mollina",
           476.1912
          ],
          [
           "Monda",
           359.9482
          ],
          [
           "Montejaque",
           696.3243
          ],
          [
           "Nerja",
           25.00439
          ],
          [
           "Ojén",
           314.1743
          ],
          [
           "Parauta",
           819.9631
          ],
          [
           "Periana",
           570.6861
          ],
          [
           "Pizarra",
           88.95549
          ],
          [
           "Pujerra",
           781.4251
          ],
          [
           "Rincón de la Victoria",
           3.764837
          ],
          [
           "Riogordo",
           390.2326
          ],
          [
           "Ronda",
           721.0318
          ],
          [
           "Salares",
           585.0521
          ],
          [
           "Sayalonga",
           364.6231
          ],
          [
           "Sedella",
           697.3375
          ],
          [
           "Sierra de Yeguas",
           451.5096
          ],
          [
           "Teba",
           541.6072
          ],
          [
           "Tolox",
           305.9531
          ],
          [
           "Torrox",
           146.8773
          ],
          [
           "Totalán",
           285.3225
          ],
          [
           "Valle de Abdalajís",
           345.6492
          ],
          [
           "Vélez-Málaga",
           55.92748
          ],
          [
           "Villanueva de Algaidas",
           542.5474
          ],
          [
           "Villanueva del Rosario",
           694.9512
          ],
          [
           "Villanueva del Trabuco",
           685.7935
          ],
          [
           "Villanueva de Tapia",
           659.881
          ],
          [
           "Viñuela",
           166.8159
          ],
          [
           "Yunquera",
           675.0898
          ],
          [
           "Torremolinos",
           52.33766
          ],
          [
           "Abanilla",
           215.4028
          ],
          [
           "Abarán",
           200.7275
          ],
          [
           "Águilas",
           8.231929
          ],
          [
           "Albudeite",
           180.3854
          ],
          [
           "Alcantarilla",
           73.48013
          ],
          [
           "Aledo",
           604.458
          ],
          [
           "Alguazas",
           84.25748
          ],
          [
           "Alhama de Murcia",
           201.4063
          ],
          [
           "Archena",
           105.1455
          ],
          [
           "Beniel",
           31.7415
          ],
          [
           "Blanca",
           149.6207
          ],
          [
           "Bullas",
           647.6263
          ],
          [
           "Calasparra",
           356.5284
          ],
          [
           "Campos del Río",
           181.1191
          ],
          [
           "Caravaca de la Cruz",
           636.1376
          ],
          [
           "Cartagena",
           11.15692
          ],
          [
           "Cehegín",
           540.0687
          ],
          [
           "Ceutí",
           93.69875
          ],
          [
           "Cieza",
           189.8739
          ],
          [
           "Fortuna",
           204.3466
          ],
          [
           "Fuente Álamo de Murcia",
           131.1901
          ],
          [
           "Jumilla",
           502.642
          ],
          [
           "Librilla",
           174.8965
          ],
          [
           "Lorca",
           336.2687
          ],
          [
           "Lorquí",
           92.61366
          ],
          [
           "Mazarrón",
           65.57575
          ],
          [
           "Molina de Segura",
           94.52602
          ],
          [
           "Moratalla",
           630.5613
          ],
          [
           "Mula",
           295.3519
          ],
          [
           "Murcia",
           51.07087
          ],
          [
           "Ojós",
           128.2413
          ],
          [
           "Pliego",
           386.3144
          ],
          [
           "Puerto Lumbreras",
           470.1874
          ],
          [
           "Ricote",
           293.4324
          ],
          [
           "San Javier",
           26.81056
          ],
          [
           "San Pedro del Pinatar",
           16.43622
          ],
          [
           "Torre-Pacheco",
           41.09187
          ],
          [
           "Torres de Cotillas, Las",
           86.27866
          ],
          [
           "Totana",
           259.0672
          ],
          [
           "Ulea",
           126.4072
          ],
          [
           "Unión, La",
           112.227
          ],
          [
           "Villanueva del Río Segura",
           138.7037
          ],
          [
           "Yecla",
           604.7735
          ],
          [
           "Santomera",
           39.86995
          ],
          [
           "Alcázares, Los",
           2.761286
          ],
          [
           "Abáigar",
           485.6676
          ],
          [
           "Abárzuza/Abartzuza",
           568.4764
          ],
          [
           "Abaurregaina/Abaurrea Alta",
           1050.703
          ],
          [
           "Abaurrepea/Abaurrea Baja",
           1050.703
          ],
          [
           "Aberin",
           507.0975
          ],
          [
           "Ablitas",
           390.1332
          ],
          [
           "Adiós",
           480.1988
          ],
          [
           "Aguilar de Codés",
           722.7128
          ],
          [
           "Aibar/Oibar",
           551.8924
          ],
          [
           "Altsasu/Alsasua",
           531.4604
          ],
          [
           "Allín/Allin",
           455.8627
          ],
          [
           "Allo",
           429.8232
          ],
          [
           "Améscoa Baja",
           928.2976
          ],
          [
           "Ancín/Antzin",
           477.146
          ],
          [
           "Andosilla",
           316.7053
          ],
          [
           "Ansoáin/Antsoain",
           429.1146
          ],
          [
           "Anue",
           799.0044
          ],
          [
           "Añorbe",
           573.9486
          ],
          [
           "Aoiz/Agoitz",
           501.6778
          ],
          [
           "Araitz",
           228.7052
          ],
          [
           "Aranarache/Aranaratxe",
           785.7566
          ],
          [
           "Arantza",
           267.3421
          ],
          [
           "Aranguren",
           622.8678
          ],
          [
           "Arano",
           455.9649
          ],
          [
           "Arakil",
           438.7797
          ],
          [
           "Aras",
           636.3009
          ],
          [
           "Arbizu",
           494.9281
          ],
          [
           "Arce/Artzi",
           762.4823
          ],
          [
           "Arcos, Los",
           449.6534
          ],
          [
           "Arellano",
           644.5254
          ],
          [
           "Areso",
           462.8911
          ],
          [
           "Arguedas",
           266.3666
          ],
          [
           "Aria",
           860.5184
          ],
          [
           "Aribe",
           701.3161
          ],
          [
           "Armañanzas",
           496.7855
          ],
          [
           "Arróniz",
           564.7612
          ],
          [
           "Arruazu",
           469.7116
          ],
          [
           "Artajona",
           450.9516
          ],
          [
           "Artazu",
           440.7018
          ],
          [
           "Ayegui/Aiegi",
           490.2995
          ],
          [
           "Azagra",
           293.2846
          ],
          [
           "Azuelo",
           611.0732
          ],
          [
           "Bakaiku",
           518.6227
          ],
          [
           "Barásoain",
           530.6812
          ],
          [
           "Barbarin",
           602.2934
          ],
          [
           "Bargota",
           589.0367
          ],
          [
           "Barillas",
           388.5261
          ],
          [
           "Basaburua",
           659.5215
          ],
          [
           "Baztan",
           431.7236
          ],
          [
           "Beire",
           367.1117
          ],
          [
           "Belascoáin",
           423.4454
          ],
          [
           "Berbinzana",
           318.8264
          ],
          [
           "Bertizarana",
           135.3993
          ],
          [
           "Betelu",
           236.0627
          ],
          [
           "Biurrun-Olcoz",
           603.0551
          ],
          [
           "Buñuel",
           247
          ],
          [
           "Auritz/Burguete",
           895.7919
          ],
          [
           "Burgui/Burgi",
           627.7626
          ],
          [
           "Burlada/Burlata",
           436.4857
          ],
          [
           "Busto, El",
           429.9118
          ],
          [
           "Cabanillas",
           261.1255
          ],
          [
           "Cabredo",
           660.035
          ],
          [
           "Cadreita",
           287.9483
          ],
          [
           "Caparroso",
           303
          ],
          [
           "Cárcar",
           335.9902
          ],
          [
           "Carcastillo",
           354.3764
          ],
          [
           "Cascante",
           365.7855
          ],
          [
           "Cáseda",
           428.3817
          ],
          [
           "Castejón",
           279.5263
          ],
          [
           "Castillonuevo",
           774.6876
          ],
          [
           "Cintruénigo",
           399.6217
          ],
          [
           "Ziordia",
           554.5064
          ],
          [
           "Cirauqui/Zirauki",
           494.0934
          ],
          [
           "Ciriza/Ziritza",
           462.1488
          ],
          [
           "Cizur",
           464.4124
          ],
          [
           "Corella",
           376.7392
          ],
          [
           "Cortes",
           259
          ],
          [
           "Desojo",
           522.1982
          ],
          [
           "Dicastillo",
           557.3284
          ],
          [
           "Donamaria",
           198.6831
          ],
          [
           "Etxalar",
           102.0956
          ],
          [
           "Echarri/Etxarri",
           403.1423
          ],
          [
           "Etxauri",
           412.8882
          ],
          [
           "Elgorriaga",
           149.3327
          ],
          [
           "Noáin (Valle de Elorz)/Noain (Elortzibar)",
           459.8526
          ],
          [
           "Enériz/Eneritz",
           426.3388
          ],
          [
           "Eratsun",
           518.8293
          ],
          [
           "Ergoiena",
           583.5241
          ],
          [
           "Erro",
           661.9404
          ],
          [
           "Ezcároz/Ezkaroze",
           741.0762
          ],
          [
           "Eslava",
           545.7512
          ],
          [
           "Esparza de Salazar/Espartza Zaraitzu",
           705.2322
          ],
          [
           "Espronceda",
           539.9223
          ],
          [
           "Esteribar",
           804.6992
          ],
          [
           "Etayo",
           572.3201
          ],
          [
           "Eulate",
           730.8936
          ],
          [
           "Ezcabarte",
           473.964
          ],
          [
           "Ezkurra",
           525.4611
          ],
          [
           "Ezprogui",
           524.7435
          ],
          [
           "Falces",
           296.4245
          ],
          [
           "Fitero",
           428.2101
          ],
          [
           "Fontellas",
           278.3386
          ],
          [
           "Funes",
           304.42
          ],
          [
           "Fustiñana",
           260.782
          ],
          [
           "Galar",
           548.4805
          ],
          [
           "Gallipienzo/Galipentzu",
           525.1298
          ],
          [
           "Gallués/Galoze",
           634.5071
          ],
          [
           "Garaioa",
           779.7978
          ],
          [
           "Garde",
           745.9025
          ],
          [
           "Garínoain",
           537.0995
          ],
          [
           "Garralda",
           846.9196
          ],
          [
           "Genevilla",
           616.5192
          ],
          [
           "Goizueta",
           157.4991
          ],
          [
           "Goñi",
           885.0417
          ],
          [
           "Güesa/Gorza",
           656.9835
          ],
          [
           "Guesálaz/Gesalatz",
           541.5654
          ],
          [
           "Guirguillano",
           614.8031
          ],
          [
           "Huarte/Uharte",
           443.3268
          ],
          [
           "Ibargoiti",
           589.6138
          ],
          [
           "Igúzquiza",
           521.692
          ],
          [
           "Imotz",
           708.5986
          ],
          [
           "Irañeta",
           462.9885
          ],
          [
           "Isaba/Izaba",
           792.2268
          ],
          [
           "Ituren",
           157.9286
          ],
          [
           "Iturmendi",
           527.0626
          ],
          [
           "Iza/Itza",
           437.0211
          ],
          [
           "Izagaondoa",
           656.3472
          ],
          [
           "Izalzu/Itzaltzu",
           813.3014
          ],
          [
           "Jaurrieta",
           915.8698
          ],
          [
           "Javier",
           453.4229
          ],
          [
           "Juslapeña/Txulapain",
           529.6924
          ],
          [
           "Beintza-Labaien",
           446.4482
          ],
          [
           "Lakuntza",
           493.4403
          ],
          [
           "Lana",
           583.7512
          ],
          [
           "Lantz",
           632.9497
          ],
          [
           "Lapoblación",
           966.2166
          ],
          [
           "Larraga",
           397.0584
          ],
          [
           "Larraona",
           771.8146
          ],
          [
           "Larraun",
           667.3818
          ],
          [
           "Lazagurría",
           393.9949
          ],
          [
           "Leache/Leatxe",
           591.1342
          ],
          [
           "Legarda",
           476.2949
          ],
          [
           "Legaria",
           476.4376
          ],
          [
           "Leitza",
           475.8446
          ],
          [
           "Leoz/Leotz",
           767.5615
          ],
          [
           "Lerga",
           614.0958
          ],
          [
           "Lerín",
           435.6659
          ],
          [
           "Lesaka",
           77.67777
          ],
          [
           "Lezaun",
           823.1769
          ],
          [
           "Liédena",
           434.2063
          ],
          [
           "Lodosa",
           329.6654
          ],
          [
           "Lónguida/Longida",
           480.7935
          ],
          [
           "Lumbier",
           468.2798
          ],
          [
           "Luquin",
           595.0789
          ],
          [
           "Mañeru",
           456.9252
          ],
          [
           "Marañón",
           631.9917
          ],
          [
           "Marcilla",
           293.0134
          ],
          [
           "Mélida",
           351.4484
          ],
          [
           "Mendavia",
           358.8896
          ],
          [
           "Mendaza",
           648.1318
          ],
          [
           "Mendigorria",
           400.2758
          ],
          [
           "Metauten",
           526.5096
          ],
          [
           "Milagro",
           294.1204
          ],
          [
           "Mirafuentes",
           644
          ],
          [
           "Miranda de Arga",
           337.395
          ],
          [
           "Monreal/Elo",
           544.6546
          ],
          [
           "Monteagudo",
           403.3899
          ],
          [
           "Morentin",
           535.4586
          ],
          [
           "Mues",
           518.3762
          ],
          [
           "Murchante",
           318.6382
          ],
          [
           "Murieta",
           467.4558
          ],
          [
           "Murillo el Cuende",
           338.5544
          ],
          [
           "Murillo el Fruto",
           362.163
          ],
          [
           "Muruzábal",
           442.5836
          ],
          [
           "Navascués/Nabaskoze",
           633.8943
          ],
          [
           "Nazar",
           740.0682
          ],
          [
           "Obanos",
           414.2519
          ],
          [
           "Oco",
           492.338
          ],
          [
           "Ochagavía/Otsagabia",
           763.3962
          ],
          [
           "Odieta",
           535.4056
          ],
          [
           "Olaibar",
           479.1287
          ],
          [
           "Olazti/Olazagutía",
           542.6686
          ],
          [
           "Olejua",
           574.1867
          ],
          [
           "Olite/Erriberri",
           394.055
          ],
          [
           "Olóriz/Oloritz",
           597.8652
          ],
          [
           "Cendea de Olza/Oltza Zendea",
           431.3969
          ],
          [
           "Orbara",
           757.6503
          ],
          [
           "Orísoain",
           578.1315
          ],
          [
           "Oronz/Orontze",
           723.6107
          ],
          [
           "Oroz-Betelu/Orotz-Betelu",
           604.8019
          ],
          [
           "Oteiza",
           510.9438
          ],
          [
           "Pamplona/Iruña",
           458.1406
          ],
          [
           "Peralta/Azkoien",
           299.4853
          ],
          [
           "Petilla de Aragón",
           831.5078
          ],
          [
           "Piedramillera",
           617.1473
          ],
          [
           "Pitillas",
           351.164
          ],
          [
           "Puente la Reina/Gares",
           348.5276
          ],
          [
           "Pueyo/Puiu",
           517.1697
          ],
          [
           "Ribaforada",
           263.6679
          ],
          [
           "Romanzado/Erromantzatua",
           522.5592
          ],
          [
           "Roncal/Erronkari",
           699.3717
          ],
          [
           "Orreaga/Roncesvalles",
           954.5584
          ],
          [
           "Sada",
           485.6982
          ],
          [
           "Saldías",
           553.2933
          ],
          [
           "Salinas de Oro/Jaitz",
           682.4023
          ],
          [
           "San Adrián",
           298.6025
          ],
          [
           "Sangüesa/Zangoza",
           399.6167
          ],
          [
           "San Martín de Unx",
           597.6311
          ],
          [
           "Sansol",
           494.1248
          ],
          [
           "Santacara",
           351.041
          ],
          [
           "Doneztebe/Santesteban",
           130.5545
          ],
          [
           "Sarriés/Sartze",
           687.5157
          ],
          [
           "Sartaguda",
           338.0532
          ],
          [
           "Sesma",
           434.409
          ],
          [
           "Sorlada",
           570.1953
          ],
          [
           "Sunbilla",
           106.4811
          ],
          [
           "Tafalla",
           433.6423
          ],
          [
           "Tiebas-Muruarte de Reta",
           574.0651
          ],
          [
           "Tirapu",
           498.1133
          ],
          [
           "Torralba del Río",
           626.2723
          ],
          [
           "Torres del Río",
           461.8875
          ],
          [
           "Tudela",
           268.958
          ],
          [
           "Tulebras",
           372.949
          ],
          [
           "Ucar",
           503.2144
          ],
          [
           "Ujué/Uxue",
           787.8973
          ],
          [
           "Ultzama",
           546.3792
          ],
          [
           "Unciti",
           605.3009
          ],
          [
           "Unzué/Untzue",
           653.5177
          ],
          [
           "Urdazubi/Urdax",
           98.64223
          ],
          [
           "Urdiain",
           551.1738
          ],
          [
           "Urraul Alto",
           573.8953
          ],
          [
           "Urraul Bajo",
           458.3008
          ],
          [
           "Urroz-Villa",
           527.5408
          ],
          [
           "Urzainqui/Urzainki",
           733.1646
          ],
          [
           "Uterga",
           494.9627
          ],
          [
           "Uztárroz/Uztarroze",
           856.1575
          ],
          [
           "Luzaide/Valcarlos",
           364.558
          ],
          [
           "Valtierra",
           270.1983
          ],
          [
           "Bera",
           42.49012
          ],
          [
           "Viana",
           475.407
          ],
          [
           "Vidángoz/Bidankoze",
           769.7194
          ],
          [
           "Bidaurreta",
           444.6025
          ],
          [
           "Villafranca",
           292.0777
          ],
          [
           "Villamayor de Monjardín",
           673.8203
          ],
          [
           "Hiriberri/Villanueva de Aezkoa",
           922.5541
          ],
          [
           "Villatuerta",
           440.6565
          ],
          [
           "Villava/Atarrabia",
           434.213
          ],
          [
           "Igantzi",
           208.3124
          ],
          [
           "Valle de Yerri/Deierri",
           508.0046
          ],
          [
           "Yesa",
           494.9805
          ],
          [
           "Zabalza/Zabaltza",
           435.8728
          ],
          [
           "Zubieta",
           210.3568
          ],
          [
           "Zugarramurdi",
           209.7609
          ],
          [
           "Zúñiga",
           577.4291
          ],
          [
           "Barañáin/Barañain",
           436.32
          ],
          [
           "Berrioplano/Berriobeiti",
           451.1977
          ],
          [
           "Berriozar",
           430.5623
          ],
          [
           "Irurtzun",
           472.6737
          ],
          [
           "Beriáin",
           499.5828
          ],
          [
           "Orkoien",
           442.7829
          ],
          [
           "Zizur Mayor/Zizur Nagusia",
           441.8872
          ],
          [
           "Lekunberri",
           567.6735
          ],
          [
           "Allariz",
           460.7867
          ],
          [
           "Amoeiro",
           442.1121
          ],
          [
           "Arnoia, A",
           159.5033
          ],
          [
           "Avión",
           446.5516
          ],
          [
           "Baltar",
           823.1027
          ],
          [
           "Bande",
           723.6759
          ],
          [
           "Baños de Molgas",
           513.4908
          ],
          [
           "Barbadás",
           241.3901
          ],
          [
           "Barco de Valdeorras, O",
           324.8651
          ],
          [
           "Beade",
           202.2736
          ],
          [
           "Beariz",
           641.1476
          ],
          [
           "Blancos, Os",
           801.8071
          ],
          [
           "Boborás",
           432.1264
          ],
          [
           "Bola, A",
           479.8777
          ],
          [
           "Bolo, O",
           501.6701
          ],
          [
           "Calvos de Randín",
           910.7596
          ],
          [
           "Carballeda de Valdeorras",
           587.8499
          ],
          [
           "Carballeda de Avia",
           250.0053
          ],
          [
           "Carballiño, O",
           401.1974
          ],
          [
           "Cartelle",
           366.1181
          ],
          [
           "Castrelo do Val",
           433.7377
          ],
          [
           "Castrelo de Miño",
           198.8711
          ],
          [
           "Castro Caldelas",
           625.1702
          ],
          [
           "Celanova",
           525.2849
          ],
          [
           "Cenlle",
           406.6471
          ],
          [
           "Coles",
           356.0888
          ],
          [
           "Cortegada",
           144.2422
          ],
          [
           "Cualedro",
           842.0068
          ],
          [
           "Chandrexa de Queixa",
           990.6727
          ],
          [
           "Entrimo",
           501.8381
          ],
          [
           "Esgos",
           579.329
          ],
          [
           "Xinzo de Limia",
           624.355
          ],
          [
           "Gomesende",
           403.7807
          ],
          [
           "Gudiña, A",
           980.4539
          ],
          [
           "Irixo, O",
           561.9305
          ],
          [
           "Xunqueira de Ambía",
           541.0165
          ],
          [
           "Xunqueira de Espadanedo",
           688.6356
          ],
          [
           "Larouco",
           533.1442
          ],
          [
           "Laza",
           479.0535
          ],
          [
           "Leiro",
           88.74213
          ],
          [
           "Lobeira",
           605.1371
          ],
          [
           "Lobios",
           477.3125
          ],
          [
           "Maceda",
           582.2949
          ],
          [
           "Manzaneda",
           642.83
          ],
          [
           "Maside",
           379.7209
          ],
          [
           "Melón",
           482.1991
          ],
          [
           "Merca, A",
           488.3453
          ],
          [
           "Mezquita, A",
           991.7155
          ],
          [
           "Montederramo",
           906.4658
          ],
          [
           "Monterrei",
           511.1087
          ],
          [
           "Muíños",
           585.7645
          ],
          [
           "Nogueira de Ramuín",
           613.3605
          ],
          [
           "Oímbra",
           389.4346
          ],
          [
           "Ourense",
           144.5574
          ],
          [
           "Paderne de Allariz",
           440.9869
          ],
          [
           "Padrenda",
           273.543
          ],
          [
           "Parada de Sil",
           662.7356
          ],
          [
           "Pereiro de Aguiar, O",
           321.2264
          ],
          [
           "Peroxa, A",
           498.0891
          ],
          [
           "Petín",
           300.702
          ],
          [
           "Piñor",
           553.8872
          ],
          [
           "Porqueira",
           640.7926
          ],
          [
           "Pobra de Trives, A",
           745.8318
          ],
          [
           "Pontedeva",
           144.9253
          ],
          [
           "Punxín",
           320.7976
          ],
          [
           "Quintela de Leirado",
           365.5756
          ],
          [
           "Rairiz de Veiga",
           620
          ],
          [
           "Ramirás",
           364.6565
          ],
          [
           "Ribadavia",
           103.0358
          ],
          [
           "San Xoán de Río",
           879.6433
          ],
          [
           "Riós",
           805.391
          ],
          [
           "Rúa, A",
           297.6577
          ],
          [
           "Rubiá",
           548.2453
          ],
          [
           "San Amaro",
           482.8099
          ],
          [
           "San Cibrao das Viñas",
           271.6895
          ],
          [
           "San Cristovo de Cea",
           510.0587
          ],
          [
           "Sandiás",
           639.2228
          ],
          [
           "Sarreaus",
           650.4904
          ],
          [
           "Taboadela",
           387.0332
          ],
          [
           "Teixeira, A",
           846.8474
          ],
          [
           "Toén",
           375.3269
          ],
          [
           "Trasmiras",
           644.9832
          ],
          [
           "Veiga, A",
           882.0123
          ],
          [
           "Verea",
           727.3734
          ],
          [
           "Verín",
           387.786
          ],
          [
           "Viana do Bolo",
           703.6934
          ],
          [
           "Vilamarín",
           504.0667
          ],
          [
           "Vilamartín de Valdeorras",
           319.5154
          ],
          [
           "Vilar de Barrio",
           665.1714
          ],
          [
           "Vilar de Santos",
           638.7435
          ],
          [
           "Vilardevós",
           741.3065
          ],
          [
           "Vilariño de Conso",
           796.0936
          ],
          [
           "Allande",
           580.7288
          ],
          [
           "Aller",
           870.3992
          ],
          [
           "Amieva",
           595.183
          ],
          [
           "Avilés",
           8.896673
          ],
          [
           "Belmonte de Miranda",
           220.3919
          ],
          [
           "Bimenes",
           320.1294
          ],
          [
           "Boal",
           461.5823
          ],
          [
           "Cabrales",
           135.4523
          ],
          [
           "Cabranes",
           290.5875
          ],
          [
           "Candamo",
           40.71626
          ],
          [
           "Cangas del Narcea",
           395.787
          ],
          [
           "Cangas de Onís",
           83.8837
          ],
          [
           "Caravia",
           362.6237
          ],
          [
           "Carreño",
           84.34576
          ],
          [
           "Caso",
           623.0895
          ],
          [
           "Castrillón",
           86.8708
          ],
          [
           "Castropol",
           22.08328
          ],
          [
           "Coaña",
           80.89793
          ],
          [
           "Colunga",
           17.92281
          ],
          [
           "Corvera de Asturias",
           56.71637
          ],
          [
           "Cudillero",
           69.32003
          ],
          [
           "Degaña",
           847.1716
          ],
          [
           "Franco, El",
           54.68772
          ],
          [
           "Gijón",
           10.46988
          ],
          [
           "Gozón",
           23.33944
          ],
          [
           "Grado",
           70.00195
          ],
          [
           "Grandas de Salime",
           567.9332
          ],
          [
           "Ibias",
           363.6068
          ],
          [
           "Illano",
           336.2966
          ],
          [
           "Illas",
           156.5609
          ],
          [
           "Langreo",
           216.0747
          ],
          [
           "Laviana",
           297.8459
          ],
          [
           "Lena",
           316.1207
          ],
          [
           "Valdés",
           18.18302
          ],
          [
           "Llanera",
           234.8832
          ],
          [
           "Llanes",
           19.37611
          ],
          [
           "Mieres",
           210.1827
          ],
          [
           "Morcín",
           236.8473
          ],
          [
           "Muros de Nalón",
           114.3644
          ],
          [
           "Nava",
           244.3763
          ],
          [
           "Navia",
           8.619591
          ],
          [
           "Noreña",
           207.6058
          ],
          [
           "Onís",
           198.1296
          ],
          [
           "Oviedo",
           238.8659
          ],
          [
           "Parres",
           139.5952
          ],
          [
           "Peñamellera Alta",
           185.3078
          ],
          [
           "Peñamellera Baja",
           260.1066
          ],
          [
           "Pesoz",
           317.0693
          ],
          [
           "Piloña",
           180.9473
          ],
          [
           "Ponga",
           706.3737
          ],
          [
           "Pravia",
           41.19317
          ],
          [
           "Proaza",
           201.1137
          ],
          [
           "Quirós",
           596.6254
          ],
          [
           "Regueras, Las",
           183.5744
          ],
          [
           "Ribadedeva",
           73.00428
          ],
          [
           "Ribadesella",
           23.78174
          ],
          [
           "Ribera de Arriba",
           201.4535
          ],
          [
           "Riosa",
           1073.679
          ],
          [
           "Salas",
           243.8303
          ],
          [
           "San Martín del Rey Aurelio",
           266.8616
          ],
          [
           "San Martín de Oscos",
           701.4034
          ],
          [
           "Santa Eulalia de Oscos",
           547.0981
          ],
          [
           "San Tirso de Abres",
           40.88018
          ],
          [
           "Santo Adriano",
           475.4342
          ],
          [
           "Sariego",
           283.0529
          ],
          [
           "Siero",
           266.4884
          ],
          [
           "Sobrescobio",
           579.3365
          ],
          [
           "Somiedo",
           1017.7
          ],
          [
           "Soto del Barco",
           68.42937
          ],
          [
           "Tapia de Casariego",
           25.45387
          ],
          [
           "Taramundi",
           279.6605
          ],
          [
           "Teverga",
           693.9147
          ],
          [
           "Tineo",
           671.4896
          ],
          [
           "Vegadeo",
           5.833657
          ],
          [
           "Villanueva de Oscos",
           645.1224
          ],
          [
           "Villaviciosa",
           8.267545
          ],
          [
           "Villayón",
           372.2103
          ],
          [
           "Yernes y Tameza",
           687.0248
          ],
          [
           "Abarca de Campos",
           758.1901
          ],
          [
           "Abia de las Torres",
           836.1696
          ],
          [
           "Aguilar de Campoo",
           897.081
          ],
          [
           "Alar del Rey",
           853.8849
          ],
          [
           "Alba de Cerrato",
           780.3799
          ],
          [
           "Amayuelas de Arriba",
           787.3027
          ],
          [
           "Ampudia",
           794.2702
          ],
          [
           "Amusco",
           773.6923
          ],
          [
           "Antigüedad",
           833.6262
          ],
          [
           "Arconada",
           804.9647
          ],
          [
           "Astudillo",
           788.4464
          ],
          [
           "Autilla del Pino",
           870.6778
          ],
          [
           "Autillo de Campos",
           762.9597
          ],
          [
           "Ayuela",
           952.0762
          ],
          [
           "Baltanás",
           784.0414
          ],
          [
           "Venta de Baños",
           722.1985
          ],
          [
           "Baquerín de Campos",
           749.9719
          ],
          [
           "Bárcena de Campos",
           845.1735
          ],
          [
           "Barruelo de Santullán",
           1051.277
          ],
          [
           "Báscones de Ojeda",
           962.8129
          ],
          [
           "Becerril de Campos",
           769.5222
          ],
          [
           "Belmonte de Campos",
           743.8493
          ],
          [
           "Berzosilla",
           826.7042
          ],
          [
           "Boada de Campos",
           748
          ],
          [
           "Boadilla del Camino",
           782.657
          ],
          [
           "Boadilla de Rioseco",
           783.1019
          ],
          [
           "Brañosera",
           1200.068
          ],
          [
           "Buenavista de Valdavia",
           926.9855
          ],
          [
           "Bustillo de la Vega",
           885
          ],
          [
           "Bustillo del Páramo de Carrión",
           854.3857
          ],
          [
           "Calahorra de Boedo",
           868.8841
          ],
          [
           "Calzada de los Molinos",
           827.0596
          ],
          [
           "Capillas",
           760.7122
          ],
          [
           "Cardeñosa de Volpejera",
           827.3951
          ],
          [
           "Carrión de los Condes",
           837.2867
          ],
          [
           "Castil de Vela",
           759.6097
          ],
          [
           "Castrejón de la Peña",
           1121.003
          ],
          [
           "Castrillo de Don Juan",
           830.5445
          ],
          [
           "Castrillo de Onielo",
           821.9319
          ],
          [
           "Castrillo de Villavega",
           851.3707
          ],
          [
           "Castromocho",
           758.2964
          ],
          [
           "Cervatos de la Cueza",
           853.0574
          ],
          [
           "Cervera de Pisuerga",
           1007.858
          ],
          [
           "Cevico de la Torre",
           754.6013
          ],
          [
           "Cevico Navero",
           829.4386
          ],
          [
           "Cisneros",
           804.7203
          ],
          [
           "Cobos de Cerrato",
           819.4964
          ],
          [
           "Collazos de Boedo",
           916.8154
          ],
          [
           "Congosto de Valdavia",
           973.56
          ],
          [
           "Cordovilla la Real",
           745.9448
          ],
          [
           "Cubillas de Cerrato",
           743.376
          ],
          [
           "Dehesa de Montejo",
           1091.726
          ],
          [
           "Dehesa de Romanos",
           943.8187
          ],
          [
           "Dueñas",
           723.9095
          ],
          [
           "Espinosa de Cerrato",
           864.7267
          ],
          [
           "Espinosa de Villagonzalo",
           831.9033
          ],
          [
           "Frechilla",
           775.0347
          ],
          [
           "Fresno del Río",
           1015.25
          ],
          [
           "Frómista",
           783.3309
          ],
          [
           "Fuentes de Nava",
           756.5685
          ],
          [
           "Fuentes de Valdepero",
           796.7946
          ],
          [
           "Grijota",
           746.9368
          ],
          [
           "Guardo",
           1095.632
          ],
          [
           "Guaza de Campos",
           794.0911
          ],
          [
           "Hérmedes de Cerrato",
           900.4366
          ],
          [
           "Herrera de Pisuerga",
           847.2326
          ],
          [
           "Herrera de Valdecañas",
           778.0357
          ],
          [
           "Hontoria de Cerrato",
           744.5811
          ],
          [
           "Hornillos de Cerrato",
           794.4394
          ],
          [
           "Husillos",
           744.5184
          ],
          [
           "Itero de la Vega",
           770.6241
          ],
          [
           "Lagartos",
           914.8121
          ],
          [
           "Lantadilla",
           788.4019
          ],
          [
           "Vid de Ojeda, La",
           875.674
          ],
          [
           "Ledigos",
           876.8804
          ],
          [
           "Lomas",
           825.279
          ],
          [
           "Magaz de Pisuerga",
           731.0358
          ],
          [
           "Manquillos",
           776.0267
          ],
          [
           "Mantinos",
           1068.459
          ],
          [
           "Marcilla de Campos",
           816.3467
          ],
          [
           "Mazariegos",
           739.4893
          ],
          [
           "Mazuecos de Valdeginate",
           781.7784
          ],
          [
           "Melgar de Yuso",
           771.8138
          ],
          [
           "Meneses de Campos",
           749.4305
          ],
          [
           "Micieces de Ojeda",
           935.5956
          ],
          [
           "Monzón de Campos",
           751.6661
          ],
          [
           "Moratinos",
           858.9825
          ],
          [
           "Mudá",
           997.7184
          ],
          [
           "Nogal de las Huertas",
           846.8398
          ],
          [
           "Olea de Boedo",
           929.4524
          ],
          [
           "Olmos de Ojeda",
           926.6885
          ],
          [
           "Osornillo",
           812.6404
          ],
          [
           "Palencia",
           745.8375
          ],
          [
           "Palenzuela",
           797.952
          ],
          [
           "Páramo de Boedo",
           877.6904
          ],
          [
           "Paredes de Nava",
           784.7175
          ],
          [
           "Payo de Ojeda",
           1001.883
          ],
          [
           "Pedraza de Campos",
           755.1041
          ],
          [
           "Pedrosa de la Vega",
           892.6549
          ],
          [
           "Perales",
           777.6556
          ],
          [
           "Pino del Río",
           997.0795
          ],
          [
           "Piña de Campos",
           764
          ],
          [
           "Población de Arroyo",
           856.0229
          ],
          [
           "Población de Campos",
           783.4893
          ],
          [
           "Población de Cerrato",
           757.9332
          ],
          [
           "Polentinos",
           1274.941
          ],
          [
           "Pomar de Valdivia",
           933.123
          ],
          [
           "Poza de la Vega",
           948.2457
          ],
          [
           "Pozo de Urama",
           822.1624
          ],
          [
           "Prádanos de Ojeda",
           940.287
          ],
          [
           "Puebla de Valdavia, La",
           941.0842
          ],
          [
           "Quintana del Puente",
           749.798
          ],
          [
           "Quintanilla de Onsoña",
           887
          ],
          [
           "Reinoso de Cerrato",
           743.1708
          ],
          [
           "Renedo de la Vega",
           874.2899
          ],
          [
           "Requena de Campos",
           797.9777
          ],
          [
           "Respenda de la Peña",
           1013.032
          ],
          [
           "Revenga de Campos",
           787.4664
          ],
          [
           "Revilla de Collazos",
           932.0509
          ],
          [
           "Ribas de Campos",
           774.9756
          ],
          [
           "Riberos de la Cueza",
           832.8394
          ],
          [
           "Saldaña",
           916.6245
          ],
          [
           "Salinas de Pisuerga",
           944.0237
          ],
          [
           "San Cebrián de Campos",
           790.2224
          ],
          [
           "San Cebrián de Mudá",
           1037.153
          ],
          [
           "San Cristóbal de Boedo",
           869.1218
          ],
          [
           "San Mamés de Campos",
           820.2789
          ],
          [
           "San Román de la Cuba",
           807.9491
          ],
          [
           "Santa Cecilia del Alcor",
           842.3927
          ],
          [
           "Santa Cruz de Boedo",
           846.978
          ],
          [
           "Santervás de la Vega",
           923.4318
          ],
          [
           "Santibáñez de Ecla",
           948.8027
          ],
          [
           "Santibáñez de la Peña",
           1111.072
          ],
          [
           "Santoyo",
           795.4398
          ],
          [
           "Serna, La",
           868.7706
          ],
          [
           "Sotobañado y Priorato",
           893.8764
          ],
          [
           "Soto de Cerrato",
           727
          ],
          [
           "Tabanera de Cerrato",
           839.3667
          ],
          [
           "Tabanera de Valdavia",
           976.2473
          ],
          [
           "Támara de Campos",
           792.7064
          ],
          [
           "Tariego de Cerrato",
           736.2674
          ],
          [
           "Torquemada",
           746.9241
          ],
          [
           "Torremormojón",
           773.3138
          ],
          [
           "Triollo",
           1301.146
          ],
          [
           "Valbuena de Pisuerga",
           775.9148
          ],
          [
           "Valdeolmillos",
           786.3863
          ],
          [
           "Valderrábano",
           955.5308
          ],
          [
           "Valde-Ucieza",
           819.1132
          ],
          [
           "Valle de Cerrato",
           816.1359
          ],
          [
           "Velilla del Río Carrión",
           1121.064
          ],
          [
           "Vertavillo",
           813.3558
          ],
          [
           "Villabasta de Valdavia",
           923.1686
          ],
          [
           "Villacidaler",
           793.0969
          ],
          [
           "Villaconancio",
           815.3722
          ],
          [
           "Villada",
           798.712
          ],
          [
           "Villaeles de Valdavia",
           885.7921
          ],
          [
           "Villahán",
           805.9824
          ],
          [
           "Villaherreros",
           826
          ],
          [
           "Villalaco",
           760.3248
          ],
          [
           "Villalba de Guardo",
           1052.94
          ],
          [
           "Villalcázar de Sirga",
           807.4279
          ],
          [
           "Villalcón",
           826.2475
          ],
          [
           "Villalobón",
           756.4676
          ],
          [
           "Villaluenga de la Vega",
           916
          ],
          [
           "Villamartín de Campos",
           750.0041
          ],
          [
           "Villamediana",
           785.6046
          ],
          [
           "Villameriel",
           904.6328
          ],
          [
           "Villamoronta",
           857.4798
          ],
          [
           "Villamuera de la Cueza",
           835.5288
          ],
          [
           "Villamuriel de Cerrato",
           727.2947
          ],
          [
           "Villanueva del Rebollar",
           840
          ],
          [
           "Villanuño de Valdavia",
           872.7621
          ],
          [
           "Villaprovedo",
           871.5985
          ],
          [
           "Villarmentero de Campos",
           789.4766
          ],
          [
           "Villarrabé",
           902.7899
          ],
          [
           "Villarramiel",
           767.2833
          ],
          [
           "Villasarracino",
           841.2697
          ],
          [
           "Villasila de Valdavia",
           867.3951
          ],
          [
           "Villaturde",
           843.3107
          ],
          [
           "Villaumbrales",
           760.1631
          ],
          [
           "Villaviudas",
           764.9033
          ],
          [
           "Villerías de Campos",
           755.412
          ],
          [
           "Villodre",
           766.6766
          ],
          [
           "Villodrigo",
           764.4204
          ],
          [
           "Villoldo",
           790.9491
          ],
          [
           "Villota del Páramo",
           1001.102
          ],
          [
           "Villovieco",
           787.0002
          ],
          [
           "Osorno la Mayor",
           808.4557
          ],
          [
           "Valle del Retortillo",
           800.4486
          ],
          [
           "Loma de Ucieza",
           841.5579
          ],
          [
           "Pernía, La",
           1229.659
          ],
          [
           "Arbo",
           150.7691
          ],
          [
           "Barro",
           66.8885
          ],
          [
           "Baiona",
           21.20054
          ],
          [
           "Bueu",
           44.66146
          ],
          [
           "Caldas de Reis",
           27.27038
          ],
          [
           "Cambados",
           14.76714
          ],
          [
           "Campo Lameiro",
           243.4357
          ],
          [
           "Cangas",
           10.73197
          ],
          [
           "Cañiza, A",
           568.6797
          ],
          [
           "Catoira",
           18.32608
          ],
          [
           "Covelo",
           380.7574
          ],
          [
           "Crecente",
           197.8595
          ],
          [
           "Cuntis",
           160.0568
          ],
          [
           "Dozón",
           748.7759
          ],
          [
           "Estrada, A",
           302.9033
          ],
          [
           "Forcarei",
           592.3196
          ],
          [
           "Fornelos de Montes",
           331.3943
          ],
          [
           "Agolada",
           583.5956
          ],
          [
           "Gondomar",
           17.18025
          ],
          [
           "Grove, O",
           14.24437
          ],
          [
           "Guarda, A",
           41.92845
          ],
          [
           "Lalín",
           557.2646
          ],
          [
           "Lama, A",
           97.33536
          ],
          [
           "Marín",
           19.78863
          ],
          [
           "Meaño",
           118.3362
          ],
          [
           "Meis",
           58.83432
          ],
          [
           "Moaña",
           129.5525
          ],
          [
           "Mondariz",
           117.1311
          ],
          [
           "Mondariz-Balneario",
           62.12397
          ],
          [
           "Moraña",
           381.2427
          ],
          [
           "Mos",
           212.5747
          ],
          [
           "Neves, As",
           162.8347
          ],
          [
           "Nigrán",
           56.04147
          ],
          [
           "Oia",
           24.84615
          ],
          [
           "Pazos de Borbén",
           236.8124
          ],
          [
           "Pontevedra",
           18.60786
          ],
          [
           "Porriño, O",
           40.00508
          ],
          [
           "Portas",
           129.5794
          ],
          [
           "Poio",
           195.026
          ],
          [
           "Ponteareas",
           41.39864
          ],
          [
           "Ponte Caldelas",
           292.4084
          ],
          [
           "Pontecesures",
           19.25962
          ],
          [
           "Redondela",
           15.94175
          ],
          [
           "Ribadumia",
           26.51637
          ],
          [
           "Rodeiro",
           630.3114
          ],
          [
           "Rosal, O",
           28.4151
          ],
          [
           "Salceda de Caselas",
           75.80363
          ],
          [
           "Salvaterra de Miño",
           32.76922
          ],
          [
           "Sanxenxo",
           7.093974
          ],
          [
           "Silleda",
           483.7768
          ],
          [
           "Soutomaior",
           118.3894
          ],
          [
           "Tomiño",
           40.81437
          ],
          [
           "Tui",
           43.46014
          ],
          [
           "Valga",
           45.98117
          ],
          [
           "Vigo",
           104.1391
          ],
          [
           "Vilaboa",
           72.6324
          ],
          [
           "Vila de Cruces",
           476.3511
          ],
          [
           "Vilagarcía de Arousa",
           11.04834
          ],
          [
           "Vilanova de Arousa",
           5.737418
          ],
          [
           "Illa de Arousa, A",
           0
          ],
          [
           "Abusejo",
           841.0999
          ],
          [
           "Agallas",
           801.2192
          ],
          [
           "Ahigal de los Aceiteros",
           643.92
          ],
          [
           "Ahigal de Villarino",
           765.2227
          ],
          [
           "Alameda de Gardón, La",
           717.412
          ],
          [
           "Alamedilla, La",
           757.1732
          ],
          [
           "Alaraz",
           884.6996
          ],
          [
           "Alba de Tormes",
           812.1788
          ],
          [
           "Alba de Yeltes",
           786.7349
          ],
          [
           "Alberca, La",
           1055.864
          ],
          [
           "Alberguería de Argañán, La",
           742.2288
          ],
          [
           "Alconada",
           831
          ],
          [
           "Aldeacipreste",
           867.7499
          ],
          [
           "Aldeadávila de la Ribera",
           685.362
          ],
          [
           "Aldea del Obispo",
           688.4317
          ],
          [
           "Aldealengua",
           789.8329
          ],
          [
           "Aldeanueva de Figueroa",
           869.1683
          ],
          [
           "Aldeanueva de la Sierra",
           980.8896
          ],
          [
           "Aldearrodrigo",
           782.8179
          ],
          [
           "Aldearrubia",
           813.3408
          ],
          [
           "Aldeaseca de Alba",
           864.6688
          ],
          [
           "Aldeaseca de la Frontera",
           870.618
          ],
          [
           "Aldeatejada",
           796.4962
          ],
          [
           "Aldeavieja de Tormes",
           911.0995
          ],
          [
           "Aldehuela de la Bóveda",
           790.1174
          ],
          [
           "Aldehuela de Yeltes",
           834.0591
          ],
          [
           "Almenara de Tormes",
           782.0564
          ],
          [
           "Almendra",
           765.9304
          ],
          [
           "Anaya de Alba",
           881.7967
          ],
          [
           "Añover de Tormes",
           804.0237
          ],
          [
           "Arabayona de Mógica",
           851.54
          ],
          [
           "Arapiles",
           841.4503
          ],
          [
           "Arcediano",
           825.3879
          ],
          [
           "Armenteros",
           1051.29
          ],
          [
           "San Miguel del Robledo",
           1016.15
          ],
          [
           "Atalaya, La",
           795.277
          ],
          [
           "Babilafuente",
           800.2728
          ],
          [
           "Bañobárez",
           745.1431
          ],
          [
           "Barbadillo",
           805.1871
          ],
          [
           "Barbalos",
           904.4462
          ],
          [
           "Barceo",
           725.3111
          ],
          [
           "Barruecopardo",
           714.7976
          ],
          [
           "Bastida, La",
           1114.442
          ],
          [
           "Béjar",
           946.3267
          ],
          [
           "Beleña",
           885.9651
          ],
          [
           "Bermellar",
           634.8019
          ],
          [
           "Berrocal de Huebra",
           901.111
          ],
          [
           "Berrocal de Salvatierra",
           903.2983
          ],
          [
           "Boada",
           780.2197
          ],
          [
           "Bodón, El",
           794.6262
          ],
          [
           "Bogajo",
           711.4703
          ],
          [
           "Bouza, La",
           611.4578
          ],
          [
           "Bóveda del Río Almar",
           882.0773
          ],
          [
           "Brincones",
           764.189
          ],
          [
           "Buenamadre",
           759.6102
          ],
          [
           "Buenavista",
           941.6581
          ],
          [
           "Cabaco, El",
           964.9015
          ],
          [
           "Cabezabellosa de la Calzada",
           855.9011
          ],
          [
           "Cabeza de Béjar, La",
           1029.441
          ],
          [
           "Cabeza del Caballo",
           730.4404
          ],
          [
           "Cabrerizos",
           825.5041
          ],
          [
           "Cabrillas",
           798.0694
          ],
          [
           "Calvarrasa de Abajo",
           800.4495
          ],
          [
           "Calvarrasa de Arriba",
           850.1463
          ],
          [
           "Calzada de Béjar, La",
           794.4747
          ],
          [
           "Calzada de Don Diego",
           815.0586
          ],
          [
           "Calzada de Valdunciel",
           801.944
          ],
          [
           "Campillo de Azaba",
           654.696
          ],
          [
           "Campo de Peñaranda, El",
           837.7207
          ],
          [
           "Candelario",
           1091.34
          ],
          [
           "Canillas de Abajo",
           811.4039
          ],
          [
           "Cantagallo",
           915.337
          ],
          [
           "Cantalapiedra",
           784.8248
          ],
          [
           "Cantalpino",
           809.6198
          ],
          [
           "Cantaracillo",
           913.4099
          ],
          [
           "Carbajosa de la Sagrada",
           793.0272
          ],
          [
           "Carpio de Azaba",
           682.3234
          ],
          [
           "Carrascal de Barregas",
           794.4115
          ],
          [
           "Carrascal del Obispo",
           899.0852
          ],
          [
           "Casafranca",
           929.7108
          ],
          [
           "Casas del Conde, Las",
           679.6074
          ],
          [
           "Casillas de Flores",
           856.6022
          ],
          [
           "Castellanos de Moriscos",
           834.6884
          ],
          [
           "Castillejo de Martín Viejo",
           667.963
          ],
          [
           "Castraz",
           761.6857
          ],
          [
           "Cepeda",
           627.2601
          ],
          [
           "Cereceda de la Sierra",
           981.321
          ],
          [
           "Cerezal de Peñahorcada",
           701.7072
          ],
          [
           "Cerralbo",
           680.7393
          ],
          [
           "Cerro, El",
           988.4806
          ],
          [
           "Cespedosa de Tormes",
           1026.923
          ],
          [
           "Cilleros de la Bastida",
           1066.91
          ],
          [
           "Cipérez",
           774.0986
          ],
          [
           "Ciudad Rodrigo",
           642.403
          ],
          [
           "Coca de Alba",
           835.9797
          ],
          [
           "Colmenar de Montemayor",
           832.6315
          ],
          [
           "Cordovilla",
           829.8961
          ],
          [
           "Cristóbal",
           879.3582
          ],
          [
           "Cubo de Don Sancho, El",
           727.9621
          ],
          [
           "Chagarcía Medianero",
           1037.603
          ],
          [
           "Dios le Guarde",
           827.7272
          ],
          [
           "Doñinos de Ledesma",
           847.0023
          ],
          [
           "Doñinos de Salamanca",
           825.1975
          ],
          [
           "Éjeme",
           814.8564
          ],
          [
           "Encina, La",
           803.7103
          ],
          [
           "Encina de San Silvestre",
           803.7103
          ],
          [
           "Encinas de Abajo",
           791.9091
          ],
          [
           "Encinas de Arriba",
           817.2836
          ],
          [
           "Encinasola de los Comendadores",
           708.7699
          ],
          [
           "Endrinal",
           923.6503
          ],
          [
           "Escurial de la Sierra",
           958.3282
          ],
          [
           "Espadaña",
           785.398
          ],
          [
           "Espeja",
           698.6036
          ],
          [
           "Espino de la Orbada",
           799.1531
          ],
          [
           "Florida de Liébana",
           767.7192
          ],
          [
           "Forfoleda",
           792
          ],
          [
           "Frades de la Sierra",
           969.7409
          ],
          [
           "Fregeneda, La",
           524.0632
          ],
          [
           "Fresnedoso",
           1020.359
          ],
          [
           "Fresno Alhándiga",
           831.5128
          ],
          [
           "Fuente de San Esteban, La",
           769.7069
          ],
          [
           "Fuenteguinaldo",
           857.3421
          ],
          [
           "Fuenteliante",
           722.4082
          ],
          [
           "Fuenterroble de Salvatierra",
           952.5548
          ],
          [
           "Fuentes de Béjar",
           906.1965
          ],
          [
           "Fuentes de Oñoro",
           737.6271
          ],
          [
           "Gajates",
           854.1697
          ],
          [
           "Galindo y Perahuy",
           798.0319
          ],
          [
           "Galinduste",
           947.1396
          ],
          [
           "Galisancho",
           820.5486
          ],
          [
           "Gallegos de Argañán",
           664.0316
          ],
          [
           "Gallegos de Solmirón",
           1109.974
          ],
          [
           "Garcibuey",
           699.9051
          ],
          [
           "Garcihernández",
           815.0062
          ],
          [
           "Garcirrey",
           812.2611
          ],
          [
           "Gejuelo del Barro",
           807.9324
          ],
          [
           "Golpejas",
           783.9107
          ],
          [
           "Gomecello",
           843.8534
          ],
          [
           "Guadramiro",
           748.9703
          ],
          [
           "Guijo de Ávila",
           972.0184
          ],
          [
           "Guijuelo",
           1015.943
          ],
          [
           "Herguijuela de Ciudad Rodrigo",
           805.5259
          ],
          [
           "Herguijuela de la Sierra",
           649.6334
          ],
          [
           "Herguijuela del Campo",
           925.9821
          ],
          [
           "Hinojosa de Duero",
           608.4411
          ],
          [
           "Horcajo de Montemayor",
           736.9137
          ],
          [
           "Horcajo Medianero",
           1001.317
          ],
          [
           "Hoya, La",
           1247.21
          ],
          [
           "Huerta",
           788.3081
          ],
          [
           "Iruelos",
           780.4797
          ],
          [
           "Ituero de Azaba",
           669.289
          ],
          [
           "Juzbado",
           795.5882
          ],
          [
           "Lagunilla",
           932.2834
          ],
          [
           "Larrodrigo",
           867.775
          ],
          [
           "Ledesma",
           773.7244
          ],
          [
           "Ledrada",
           884.9431
          ],
          [
           "Linares de Riofrío",
           957.4563
          ],
          [
           "Lumbrales",
           675.5071
          ],
          [
           "Macotera",
           893.4735
          ],
          [
           "Machacón",
           807.2266
          ],
          [
           "Madroñal",
           674.8745
          ],
          [
           "Maíllo, El",
           985.4587
          ],
          [
           "Malpartida",
           897.3098
          ],
          [
           "Mancera de Abajo",
           897.7108
          ],
          [
           "Manzano, El",
           779.5687
          ],
          [
           "Martiago",
           811.0814
          ],
          [
           "Martinamor",
           954.91
          ],
          [
           "Martín de Yeltes",
           762.9928
          ],
          [
           "Masueco",
           680.6115
          ],
          [
           "Castellanos de Villiquera",
           829.2123
          ],
          [
           "Mata de Ledesma, La",
           814.1835
          ],
          [
           "Matilla de los Caños del Río",
           826.0807
          ],
          [
           "Maya, La",
           834.4459
          ],
          [
           "Membribe de la Sierra",
           1025.661
          ],
          [
           "Mieza",
           662.1299
          ],
          [
           "Milano, El",
           731.6552
          ],
          [
           "Miranda de Azán",
           821.7861
          ],
          [
           "Miranda del Castañar",
           636.434
          ],
          [
           "Mogarraz",
           782.6704
          ],
          [
           "Molinillo",
           725.483
          ],
          [
           "Monforte de la Sierra",
           821.5292
          ],
          [
           "Monleón",
           872.0361
          ],
          [
           "Monleras",
           752.909
          ],
          [
           "Monsagro",
           965.6917
          ],
          [
           "Montejo",
           927.8253
          ],
          [
           "Montemayor del Río",
           643.6966
          ],
          [
           "Monterrubio de Armuña",
           799.7922
          ],
          [
           "Monterrubio de la Sierra",
           964.4607
          ],
          [
           "Morasverdes",
           896.1119
          ],
          [
           "Morille",
           933.8912
          ],
          [
           "Moríñigo",
           803.5493
          ],
          [
           "Moriscos",
           844.4398
          ],
          [
           "Moronta",
           764.1678
          ],
          [
           "Mozárbez",
           874.7148
          ],
          [
           "Narros de Matalayegua",
           985.0504
          ],
          [
           "Navacarros",
           1126.157
          ],
          [
           "Nava de Béjar",
           1046.605
          ],
          [
           "Nava de Francia",
           1042.738
          ],
          [
           "Nava de Sotrobal",
           856.4819
          ],
          [
           "Navales",
           847.2195
          ],
          [
           "Navalmoral de Béjar",
           926.4265
          ],
          [
           "Navamorales",
           989.564
          ],
          [
           "Navarredonda de la Rinconada",
           1026.249
          ],
          [
           "Navasfrías",
           903.6105
          ],
          [
           "Negrilla de Palencia",
           824.7216
          ],
          [
           "Olmedo de Camaces",
           711.8811
          ],
          [
           "Orbada, La",
           819.0842
          ],
          [
           "Pajares de la Laguna",
           827.5972
          ],
          [
           "Palacios del Arzobispo",
           823.892
          ],
          [
           "Palaciosrubios",
           806.4166
          ],
          [
           "Palencia de Negrilla",
           824.9493
          ],
          [
           "Parada de Arriba",
           824.8565
          ],
          [
           "Parada de Rubiales",
           845.3183
          ],
          [
           "Paradinas de San Juan",
           852.3538
          ],
          [
           "Pastores",
           769.4645
          ],
          [
           "Payo, El",
           924.1714
          ],
          [
           "Pedraza de Alba",
           896.6031
          ],
          [
           "Pedrosillo de Alba",
           837.5592
          ],
          [
           "Pedrosillo de los Aires",
           956.5556
          ],
          [
           "Pedrosillo el Ralo",
           815.6058
          ],
          [
           "Pedroso de la Armuña, El",
           826.4706
          ],
          [
           "Pelabravo",
           815.6241
          ],
          [
           "Pelarrodríguez",
           756.4791
          ],
          [
           "Pelayos",
           935.5426
          ],
          [
           "Peña, La",
           698.4894
          ],
          [
           "Peñacaballera",
           874.3146
          ],
          [
           "Peñaparda",
           863.9899
          ],
          [
           "Peñaranda de Bracamonte",
           899.5543
          ],
          [
           "Peñarandilla",
           821.0045
          ],
          [
           "Peralejos de Abajo",
           773.447
          ],
          [
           "Peralejos de Arriba",
           788.0662
          ],
          [
           "Pereña de la Ribera",
           698.2541
          ],
          [
           "Peromingo",
           791.4692
          ],
          [
           "Pinedas",
           790.9607
          ],
          [
           "Pino de Tormes, El",
           761.6423
          ],
          [
           "Pitiegua",
           846.9292
          ],
          [
           "Pizarral",
           908.2397
          ],
          [
           "Poveda de las Cintas",
           807.0439
          ],
          [
           "Pozos de Hinojo",
           735.0233
          ],
          [
           "Puebla de Azaba",
           665.5089
          ],
          [
           "Puebla de San Medel",
           967.3432
          ],
          [
           "Puebla de Yeltes",
           881.7862
          ],
          [
           "Puente del Congosto",
           941.1274
          ],
          [
           "Puertas",
           784.341
          ],
          [
           "Puerto de Béjar",
           929.1489
          ],
          [
           "Puerto Seguro",
           641.8528
          ],
          [
           "Rágama",
           847.4322
          ],
          [
           "Redonda, La",
           669.5419
          ],
          [
           "Retortillo",
           735.7136
          ],
          [
           "Rinconada de la Sierra, La",
           1000.196
          ],
          [
           "Robleda",
           837.2068
          ],
          [
           "Robliza de Cojos",
           818.6881
          ],
          [
           "Rollán",
           802.2749
          ],
          [
           "Saelices el Chico",
           658.7722
          ],
          [
           "Salamanca",
           802.7915
          ],
          [
           "Saldeana",
           664.0504
          ],
          [
           "Salmoral",
           910.3112
          ],
          [
           "Salvatierra de Tormes",
           900.8209
          ],
          [
           "San Cristóbal de la Cuesta",
           820.1966
          ],
          [
           "Sancti-Spíritus",
           760.9977
          ],
          [
           "Sanchón de la Ribera",
           725.8375
          ],
          [
           "Sanchón de la Sagrada",
           862.8228
          ],
          [
           "Sanchotello",
           938.9756
          ],
          [
           "Sando",
           838.4528
          ],
          [
           "San Esteban de la Sierra",
           631.8868
          ],
          [
           "San Felices de los Gallegos",
           667.4055
          ],
          [
           "San Martín del Castañar",
           841.831
          ],
          [
           "San Miguel de Valero",
           932.705
          ],
          [
           "San Morales",
           794.9968
          ],
          [
           "San Muñoz",
           783.1349
          ],
          [
           "San Pedro del Valle",
           790.4227
          ],
          [
           "San Pedro de Rozados",
           975.6448
          ],
          [
           "San Pelayo de Guareña",
           789.7009
          ],
          [
           "Santa María de Sando",
           824.6718
          ],
          [
           "Santa Marta de Tormes",
           779.7791
          ],
          [
           "Santiago de la Puebla",
           868.9525
          ],
          [
           "Santibáñez de Béjar",
           922.2231
          ],
          [
           "Santibáñez de la Sierra",
           615.7195
          ],
          [
           "Santiz",
           892
          ],
          [
           "Santos, Los",
           944.6475
          ],
          [
           "Sardón de los Frailes",
           737.1103
          ],
          [
           "Saucelle",
           666.158
          ],
          [
           "Sahugo, El",
           818.3651
          ],
          [
           "Sepulcro-Hilario",
           831.1911
          ],
          [
           "Sequeros",
           943.9675
          ],
          [
           "Serradilla del Arroyo",
           853.9916
          ],
          [
           "Serradilla del Llano",
           876.2202
          ],
          [
           "Sierpe, La",
           925.3212
          ],
          [
           "Sieteiglesias de Tormes",
           821
          ],
          [
           "Sobradillo",
           652.3832
          ],
          [
           "Sorihuela",
           1001.709
          ],
          [
           "Sotoserrano",
           509.2324
          ],
          [
           "Tabera de Abajo",
           810.5211
          ],
          [
           "Tala, La",
           918.5034
          ],
          [
           "Tamames",
           901.3917
          ],
          [
           "Tarazona de Guareña",
           770.5272
          ],
          [
           "Tardáguila",
           831.7318
          ],
          [
           "Tejado, El",
           976.1771
          ],
          [
           "Tejeda y Segoyuela",
           929.616
          ],
          [
           "Tenebrón",
           824.368
          ],
          [
           "Terradillos",
           890.0266
          ],
          [
           "Topas",
           824.9239
          ],
          [
           "Tordillos",
           838.7855
          ],
          [
           "Tornadizo, El",
           884.6722
          ],
          [
           "Torresmenudas",
           789.4065
          ],
          [
           "Trabanca",
           743.7527
          ],
          [
           "Tremedal de Tormes",
           767.5543
          ],
          [
           "Valdecarros",
           883.4447
          ],
          [
           "Valdefuentes de Sangusín",
           897.4296
          ],
          [
           "Valdehijaderos",
           778.0461
          ],
          [
           "Valdelacasa",
           957.9121
          ],
          [
           "Valdelageve",
           657.5203
          ],
          [
           "Valdelosa",
           841.7576
          ],
          [
           "Valdemierque",
           938.8387
          ],
          [
           "Valderrodrigo",
           733.0906
          ],
          [
           "Valdunciel",
           806.5008
          ],
          [
           "Valero",
           595.4124
          ],
          [
           "Valsalabroso",
           729.0405
          ],
          [
           "Valverde de Valdelacasa",
           804.0566
          ],
          [
           "Valverdón",
           767.7844
          ],
          [
           "Vallejera de Riofrío",
           1140.328
          ],
          [
           "Vecinos",
           888.3599
          ],
          [
           "Vega de Tirados",
           783.0811
          ],
          [
           "Veguillas, Las",
           1041.142
          ],
          [
           "Vellés, La",
           809.2722
          ],
          [
           "Ventosa del Río Almar",
           853.9965
          ],
          [
           "Vídola, La",
           697.9411
          ],
          [
           "Vilvestre",
           582.2014
          ],
          [
           "Villaflores",
           794.5469
          ],
          [
           "Villagonzalo de Tormes",
           805.2603
          ],
          [
           "Villalba de los Llanos",
           835.8166
          ],
          [
           "Villamayor",
           786.5375
          ],
          [
           "Villanueva del Conde",
           800.9477
          ],
          [
           "Villar de Argañán",
           717.7349
          ],
          [
           "Villar de Ciervo",
           678.7781
          ],
          [
           "Villar de Gallimazo",
           857.1204
          ],
          [
           "Villar de la Yegua",
           711.8369
          ],
          [
           "Villar de Peralonso",
           820.0938
          ],
          [
           "Villar de Samaniego",
           743.1362
          ],
          [
           "Villares de la Reina",
           817.9556
          ],
          [
           "Villares de Yeltes",
           719.8795
          ],
          [
           "Villarino de los Aires",
           605.4351
          ],
          [
           "Villarmayor",
           827.4609
          ],
          [
           "Villarmuerto",
           767.4649
          ],
          [
           "Villasbuenas",
           734.7009
          ],
          [
           "Villasdardo",
           813.8005
          ],
          [
           "Villaseco de los Gamitos",
           834.4906
          ],
          [
           "Villaseco de los Reyes",
           771.2275
          ],
          [
           "Villasrubias",
           850.7972
          ],
          [
           "Villaverde de Guareña",
           829.9338
          ],
          [
           "Villavieja de Yeltes",
           741.9375
          ],
          [
           "Villoria",
           818.5666
          ],
          [
           "Villoruela",
           824.9141
          ],
          [
           "Vitigudino",
           763.2999
          ],
          [
           "Yecla de Yeltes",
           721.6814
          ],
          [
           "Zamarra",
           777.2296
          ],
          [
           "Zamayón",
           813.7863
          ],
          [
           "Zarapicos",
           783.1765
          ],
          [
           "Zarza de Pumareda, La",
           702.669
          ],
          [
           "Zorita de la Frontera",
           830.3544
          ],
          [
           "Adeje",
           288.9392
          ],
          [
           "Agulo",
           199.3272
          ],
          [
           "Alajeró",
           821.5216
          ],
          [
           "Arafo",
           432.3514
          ],
          [
           "Arico",
           362.0416
          ],
          [
           "Arona",
           630.8655
          ],
          [
           "Barlovento",
           560.6917
          ],
          [
           "Breña Alta",
           370.9761
          ],
          [
           "Breña Baja",
           539.2067
          ],
          [
           "Buenavista del Norte",
           127.8591
          ],
          [
           "Candelaria",
           10
          ],
          [
           "Fasnia",
           482.8613
          ],
          [
           "Frontera",
           339.0463
          ],
          [
           "Fuencaliente de la Palma",
           604.7274
          ],
          [
           "Garachico",
           11.52424
          ],
          [
           "Garafía",
           899.6116
          ],
          [
           "Granadilla de Abona",
           647.0933
          ],
          [
           "Guancha, La",
           483.8696
          ],
          [
           "Guía de Isora",
           590.0607
          ],
          [
           "Güímar",
           307.1391
          ],
          [
           "Hermigua",
           127.1466
          ],
          [
           "Icod de los Vinos",
           229.9812
          ],
          [
           "San Cristóbal de La Laguna",
           548.1752
          ],
          [
           "Llanos de Aridane, Los",
           345.7089
          ],
          [
           "Matanza de Acentejo, La",
           282.3254
          ],
          [
           "Orotava, La",
           342.5714
          ],
          [
           "Paso, El",
           669.5245
          ],
          [
           "Puerto de la Cruz",
           53.82357
          ],
          [
           "Puntagorda",
           849.1637
          ],
          [
           "Puntallana",
           494.2469
          ],
          [
           "Realejos, Los",
           596.4269
          ],
          [
           "Rosario, El",
           722.4636
          ],
          [
           "San Andrés y Sauces",
           60.90185
          ],
          [
           "San Juan de la Rambla",
           50.26696
          ],
          [
           "San Miguel de Abona",
           604.5886
          ],
          [
           "San Sebastián de la Gomera",
           2.807406
          ],
          [
           "Santa Cruz de la Palma",
           3.883548
          ],
          [
           "Santa Cruz de Tenerife",
           41.29388
          ],
          [
           "Santa Úrsula",
           284.0858
          ],
          [
           "Santiago del Teide",
           929.3008
          ],
          [
           "Sauzal, El",
           323.1106
          ],
          [
           "Silos, Los",
           99.97398
          ],
          [
           "Tacoronte",
           488.9084
          ],
          [
           "Tanque, El",
           1027.389
          ],
          [
           "Tazacorte",
           124.7486
          ],
          [
           "Tegueste",
           412.2942
          ],
          [
           "Tijarafe",
           615.9692
          ],
          [
           "Valverde",
           588.4797
          ],
          [
           "Valle Gran Rey",
           607.2831
          ],
          [
           "Vallehermoso",
           181.5817
          ],
          [
           "Victoria de Acentejo, La",
           387.9303
          ],
          [
           "Villa de Mazo",
           965.7053
          ],
          [
           "Pinar de El Hierro, El",
           1330.287
          ],
          [
           "Alfoz de Lloredo",
           191.1736
          ],
          [
           "Ampuero",
           14.41542
          ],
          [
           "Anievas",
           307.6791
          ],
          [
           "Arenas de Iguña",
           175.7548
          ],
          [
           "Argoños",
           7.686848
          ],
          [
           "Arnuero",
           58.03693
          ],
          [
           "Arredondo",
           162.1712
          ],
          [
           "Astillero, El",
           15.58059
          ],
          [
           "Bárcena de Cicero",
           8.115047
          ],
          [
           "Bárcena de Pie de Concha",
           341.4135
          ],
          [
           "Bareyo",
           74.22401
          ],
          [
           "Cabezón de la Sal",
           126.715
          ],
          [
           "Cabezón de Liébana",
           368.491
          ],
          [
           "Cabuérniga",
           279.0297
          ],
          [
           "Camaleño",
           442.6653
          ],
          [
           "Camargo",
           27.12142
          ],
          [
           "Campoo de Yuso",
           854.9267
          ],
          [
           "Cartes",
           34.01722
          ],
          [
           "Castañeda",
           51.33138
          ],
          [
           "Castro-Urdiales",
           13.48153
          ],
          [
           "Cieza",
           238.8728
          ],
          [
           "Cillorigo de Liébana",
           491.4029
          ],
          [
           "Colindres",
           7.550448
          ],
          [
           "Comillas",
           24.99873
          ],
          [
           "Corrales de Buelna, Los",
           92.81157
          ],
          [
           "Corvera de Toranzo",
           317.1393
          ],
          [
           "Campoo de Enmedio",
           878.4844
          ],
          [
           "Entrambasaguas",
           44.69009
          ],
          [
           "Escalante",
           8.192403
          ],
          [
           "Guriezo",
           13.48724
          ],
          [
           "Hazas de Cesto",
           66.35742
          ],
          [
           "Hermandad de Campoo de Suso",
           912.019
          ],
          [
           "Herrerías",
           193.9438
          ],
          [
           "Lamasón",
           315.1235
          ],
          [
           "Laredo",
           13.43072
          ],
          [
           "Liendo",
           29.383
          ],
          [
           "Liérganes",
           87.95516
          ],
          [
           "Limpias",
           305.4288
          ],
          [
           "Luena",
           495.1068
          ],
          [
           "Marina de Cudeyo",
           16.28183
          ],
          [
           "Mazcuerras",
           133.059
          ],
          [
           "Medio Cudeyo",
           37.2541
          ],
          [
           "Meruelo",
           35.97668
          ],
          [
           "Miengo",
           14.39486
          ],
          [
           "Miera",
           338.0346
          ],
          [
           "Molledo",
           248.2709
          ],
          [
           "Noja",
           24.97051
          ],
          [
           "Penagos",
           129.0727
          ],
          [
           "Peñarrubia",
           475.7796
          ],
          [
           "Pesaguero",
           608.4185
          ],
          [
           "Pesquera",
           614.1819
          ],
          [
           "Piélagos",
           39.58884
          ],
          [
           "Polaciones",
           887.2664
          ],
          [
           "Polanco",
           52.85626
          ],
          [
           "Potes",
           309.7742
          ],
          [
           "Puente Viesgo",
           70.55008
          ],
          [
           "Ramales de la Victoria",
           86.5575
          ],
          [
           "Rasines",
           88.65132
          ],
          [
           "Reinosa",
           853.8888
          ],
          [
           "Reocín",
           115.7464
          ],
          [
           "Ribamontán al Mar",
           29.16733
          ],
          [
           "Ribamontán al Monte",
           59.71571
          ],
          [
           "Rionansa",
           210.4719
          ],
          [
           "Riotuerto",
           126.3817
          ],
          [
           "Rozas de Valdearroyo, Las",
           854.1373
          ],
          [
           "Ruente",
           189.9705
          ],
          [
           "Ruesga",
           149.2516
          ],
          [
           "Ruiloba",
           44.85384
          ],
          [
           "San Felices de Buelna",
           105.392
          ],
          [
           "San Miguel de Aguayo",
           839.2117
          ],
          [
           "San Pedro del Romeral",
           755.9124
          ],
          [
           "San Roque de Riomiera",
           378.2011
          ],
          [
           "Santa Cruz de Bezana",
           42.96122
          ],
          [
           "Santa María de Cayón",
           94.75117
          ],
          [
           "Santander",
           4.1
          ],
          [
           "Santillana del Mar",
           84.16537
          ],
          [
           "Santiurde de Reinosa",
           647.917
          ],
          [
           "Santiurde de Toranzo",
           122.0352
          ],
          [
           "Santoña",
           8.660443
          ],
          [
           "San Vicente de la Barquera",
           3.441201
          ],
          [
           "Saro",
           162.4471
          ],
          [
           "Selaya",
           242.945
          ],
          [
           "Soba",
           320.8042
          ],
          [
           "Solórzano",
           89.04234
          ],
          [
           "Suances",
           90.53543
          ],
          [
           "Tojos, Los",
           623.6432
          ],
          [
           "Torrelavega",
           24.9647
          ],
          [
           "Tresviso",
           888.7922
          ],
          [
           "Tudanca",
           420.3354
          ],
          [
           "Udías",
           169.41
          ],
          [
           "Valdáliga",
           46.15511
          ],
          [
           "Valdeolea",
           930.1546
          ],
          [
           "Valdeprado del Río",
           914.2877
          ],
          [
           "Valderredible",
           725.1385
          ],
          [
           "Val de San Vicente",
           32.28376
          ],
          [
           "Vega de Liébana",
           1232.006
          ],
          [
           "Vega de Pas",
           357.8255
          ],
          [
           "Villacarriedo",
           213.2215
          ],
          [
           "Villaescusa",
           22.27066
          ],
          [
           "Villafufre",
           224.6329
          ],
          [
           "Valle de Villaverde",
           194.6136
          ],
          [
           "Voto",
           30.99223
          ],
          [
           "Abades",
           972.9816
          ],
          [
           "Adrada de Pirón",
           1025.208
          ],
          [
           "Adrados",
           885.7927
          ],
          [
           "Aguilafuente",
           890.7866
          ],
          [
           "Alconada de Maderuelo",
           941.0287
          ],
          [
           "Aldealcorvo",
           954.9659
          ],
          [
           "Aldealengua de Pedraza",
           1224.668
          ],
          [
           "Aldealengua de Santa María",
           956.4097
          ],
          [
           "Aldeanueva de la Serrezuela",
           1133.43
          ],
          [
           "Aldeanueva del Codonal",
           860.4335
          ],
          [
           "Aldea Real",
           1180.345
          ],
          [
           "Aldeasoña",
           829.5284
          ],
          [
           "Aldehorno",
           961.0057
          ],
          [
           "Aldehuela del Codonal",
           860.6868
          ],
          [
           "Aldeonte",
           966.3133
          ],
          [
           "Anaya",
           888.5967
          ],
          [
           "Añe",
           876.4594
          ],
          [
           "Arahuetes",
           1094.234
          ],
          [
           "Arcones",
           1151.102
          ],
          [
           "Arevalillo de Cega",
           1042.221
          ],
          [
           "Armuña",
           908.2159
          ],
          [
           "Ayllón",
           1000.703
          ],
          [
           "Barbolla",
           942.1429
          ],
          [
           "Basardilla",
           1094.927
          ],
          [
           "Bercial",
           972.6617
          ],
          [
           "Bercimuel",
           967.4302
          ],
          [
           "Bernardos",
           901.9694
          ],
          [
           "Bernuy de Porreros",
           1016.847
          ],
          [
           "Boceguillas",
           962.1383
          ],
          [
           "Brieva",
           1090.915
          ],
          [
           "Caballar",
           1009.216
          ],
          [
           "Cabañas de Polendos",
           940.3881
          ],
          [
           "Cabezuela",
           950.7864
          ],
          [
           "Calabazas de Fuentidueña",
           909.485
          ],
          [
           "Campo de San Pedro",
           970.5167
          ],
          [
           "Cantalejo",
           963.2977
          ],
          [
           "Cantimpalos",
           909.5023
          ],
          [
           "Carbonero el Mayor",
           922.6301
          ],
          [
           "Carrascal del Río",
           856.5717
          ],
          [
           "Casla",
           1077.447
          ],
          [
           "Castillejo de Mesleón",
           1015.715
          ],
          [
           "Castro de Fuentidueña",
           1099.253
          ],
          [
           "Castrojimeno",
           1083.13
          ],
          [
           "Castroserna de Abajo",
           986.5969
          ],
          [
           "Castroserracín",
           1136.012
          ],
          [
           "Cedillo de la Torre",
           1021.628
          ],
          [
           "Cerezo de Abajo",
           1047.832
          ],
          [
           "Cerezo de Arriba",
           1128.88
          ],
          [
           "Cilleruelo de San Mamés",
           986.2485
          ],
          [
           "Cobos de Fuentidueña",
           837.217
          ],
          [
           "Coca",
           783.8333
          ],
          [
           "Codorniz",
           889.9684
          ],
          [
           "Collado Hermoso",
           1220.754
          ],
          [
           "Condado de Castilnovo",
           998.777
          ],
          [
           "Corral de Ayllón",
           1027.357
          ],
          [
           "Cubillo",
           1066.817
          ],
          [
           "Cuéllar",
           873.2888
          ],
          [
           "Chañe",
           767.6998
          ],
          [
           "Domingo García",
           899.2606
          ],
          [
           "Donhierro",
           804.6583
          ],
          [
           "Duruelo",
           1012.408
          ],
          [
           "Encinas",
           1009.99
          ],
          [
           "Encinillas",
           949.6232
          ],
          [
           "Escalona del Prado",
           896.3405
          ],
          [
           "Escarabajosa de Cabezas",
           884.6951
          ],
          [
           "Escobar de Polendos",
           905.3851
          ],
          [
           "Espirdo",
           1067.382
          ],
          [
           "Fresneda de Cuéllar",
           766.7217
          ],
          [
           "Fresno de Cantespino",
           1037.505
          ],
          [
           "Fresno de la Fuente",
           1040.055
          ],
          [
           "Frumales",
           820
          ],
          [
           "Fuente de Santa Cruz",
           831.7021
          ],
          [
           "Fuente el Olmo de Fuentidueña",
           851.1677
          ],
          [
           "Fuente el Olmo de Íscar",
           775.7598
          ],
          [
           "Fuentepelayo",
           869.318
          ],
          [
           "Fuentepiñel",
           891.1735
          ],
          [
           "Fuenterrebollo",
           929.0509
          ],
          [
           "Fuentesaúco de Fuentidueña",
           897.0123
          ],
          [
           "Fuentesoto",
           942.894
          ],
          [
           "Fuentidueña",
           838.3236
          ],
          [
           "Gallegos",
           1234.033
          ],
          [
           "Garcillán",
           917
          ],
          [
           "Gomezserracín",
           805
          ],
          [
           "Grajera",
           1012.895
          ],
          [
           "Honrubia de la Cuesta",
           993.7116
          ],
          [
           "Hontalbilla",
           893.8555
          ],
          [
           "Hontanares de Eresma",
           880.4162
          ],
          [
           "Huertos, Los",
           874.0368
          ],
          [
           "Ituero y Lama",
           1002.227
          ],
          [
           "Juarros de Riomoros",
           916.307
          ],
          [
           "Juarros de Voltoya",
           853.621
          ],
          [
           "Labajos",
           1063.336
          ],
          [
           "Laguna de Contreras",
           801.9667
          ],
          [
           "Languilla",
           947.9021
          ],
          [
           "Lastras de Cuéllar",
           902.9059
          ],
          [
           "Lastras del Pozo",
           966.7155
          ],
          [
           "Lastrilla, La",
           1065.97
          ],
          [
           "Maderuelo",
           948.9968
          ],
          [
           "Marazuela",
           909.9414
          ],
          [
           "Martín Miguel",
           916.2261
          ],
          [
           "Martín Muñoz de la Dehesa",
           835.0771
          ],
          [
           "Martín Muñoz de las Posadas",
           895.8978
          ],
          [
           "Marugán",
           958.082
          ],
          [
           "Matabuena",
           1157.678
          ],
          [
           "Mata de Cuéllar",
           753
          ],
          [
           "Matilla, La",
           1084.459
          ],
          [
           "Melque de Cercos",
           859.2445
          ],
          [
           "Membibre de la Hoz",
           866.361
          ],
          [
           "Migueláñez",
           885.0084
          ],
          [
           "Montejo de Arévalo",
           801.1225
          ],
          [
           "Montejo de la Vega de la Serrezuela",
           865.232
          ],
          [
           "Monterrubio",
           948.3826
          ],
          [
           "Moral de Hornuez",
           1095.375
          ],
          [
           "Mozoncillo",
           947.8896
          ],
          [
           "Muñopedro",
           1023
          ],
          [
           "Muñoveros",
           962.0355
          ],
          [
           "Nava de la Asunción",
           807.3397
          ],
          [
           "Navafría",
           1203.15
          ],
          [
           "Navalilla",
           900.9603
          ],
          [
           "Navalmanzano",
           840.0873
          ],
          [
           "Navares de Ayuso",
           1013.812
          ],
          [
           "Navares de Enmedio",
           1041.241
          ],
          [
           "Navares de las Cuevas",
           1115.182
          ],
          [
           "Navas de Oro",
           808.3718
          ],
          [
           "Navas de San Antonio",
           1165.014
          ],
          [
           "Nieva",
           842.8079
          ],
          [
           "Olombrada",
           874.9899
          ],
          [
           "Orejana",
           1060.189
          ],
          [
           "Ortigosa de Pestaño",
           858.879
          ],
          [
           "Otero de Herreros",
           1140.483
          ],
          [
           "Pajarejos",
           988.6074
          ],
          [
           "Palazuelos de Eresma",
           1084.439
          ],
          [
           "Pedraza",
           1048.704
          ],
          [
           "Pelayos del Arroyo",
           1142.212
          ],
          [
           "Perosillo",
           833.2657
          ],
          [
           "Pinarejos",
           821
          ],
          [
           "Pinarnegrillo",
           856
          ],
          [
           "Prádena",
           1121.578
          ],
          [
           "Puebla de Pedraza",
           949.6524
          ],
          [
           "Rapariegos",
           857.2944
          ],
          [
           "Rebollo",
           985.6013
          ],
          [
           "Remondo",
           755.8116
          ],
          [
           "Riaguas de San Bartolomé",
           931.5925
          ],
          [
           "Riaza",
           1194.166
          ],
          [
           "Ribota",
           1032.616
          ],
          [
           "Riofrío de Riaza",
           1322.25
          ],
          [
           "Roda de Eresma",
           938.513
          ],
          [
           "Sacramenia",
           850.554
          ],
          [
           "Samboal",
           795
          ],
          [
           "San Cristóbal de Cuéllar",
           809.5489
          ],
          [
           "San Cristóbal de la Vega",
           858.2177
          ],
          [
           "Sanchonuño",
           805.1132
          ],
          [
           "Sangarcía",
           945.6377
          ],
          [
           "San Martín y Mudrián",
           818.941
          ],
          [
           "San Miguel de Bernuy",
           840.4734
          ],
          [
           "San Pedro de Gaíllos",
           988.7416
          ],
          [
           "Santa María la Real de Nieva",
           900.8523
          ],
          [
           "Santa Marta del Cerro",
           1024.784
          ],
          [
           "Santiuste de Pedraza",
           1156.046
          ],
          [
           "Santiuste de San Juan Bautista",
           820.4395
          ],
          [
           "Santo Domingo de Pirón",
           1083.149
          ],
          [
           "Santo Tomé del Puerto",
           1269.86
          ],
          [
           "Sauquillo de Cabezas",
           908.03
          ],
          [
           "Sebúlcor",
           938.8392
          ],
          [
           "Segovia",
           1012.785
          ],
          [
           "Sepúlveda",
           976.1324
          ],
          [
           "Sequera de Fresno",
           1000.115
          ],
          [
           "Sotillo",
           982.9819
          ],
          [
           "Sotosalbos",
           1163.243
          ],
          [
           "Tabanera la Luenga",
           905.6036
          ],
          [
           "Tolocirio",
           809.3814
          ],
          [
           "Torreadrada",
           1087.067
          ],
          [
           "Torrecaballeros",
           1159.816
          ],
          [
           "Torrecilla del Pinar",
           871.2332
          ],
          [
           "Torreiglesias",
           1019.401
          ],
          [
           "Torre Val de San Pedro",
           1118.942
          ],
          [
           "Trescasas",
           1117.163
          ],
          [
           "Turégano",
           943.3245
          ],
          [
           "Urueñas",
           1051.304
          ],
          [
           "Valdeprados",
           987.1275
          ],
          [
           "Valdevacas de Montejo",
           1121.339
          ],
          [
           "Valdevacas y Guijar",
           1097.263
          ],
          [
           "Valseca",
           942.7326
          ],
          [
           "Valtiendas",
           918.6631
          ],
          [
           "Valverde del Majano",
           924.8687
          ],
          [
           "Valle de Tabladillo",
           940.5837
          ],
          [
           "Vallelado",
           779.4292
          ],
          [
           "Valleruela de Pedraza",
           1093.092
          ],
          [
           "Valleruela de Sepúlveda",
           1095.099
          ],
          [
           "Veganzones",
           916.5224
          ],
          [
           "Vegas de Matute",
           1020.674
          ],
          [
           "Ventosilla y Tejadilla",
           1126.269
          ],
          [
           "Villacastín",
           1102.828
          ],
          [
           "Villaverde de Íscar",
           763.1172
          ],
          [
           "Villaverde de Montejo",
           1043.897
          ],
          [
           "Villeguillo",
           770.3413
          ],
          [
           "Yanguas de Eresma",
           889.0092
          ],
          [
           "Zarzuela del Monte",
           1005.036
          ],
          [
           "Zarzuela del Pinar",
           877.3031
          ],
          [
           "Ortigosa del Monte",
           1107.927
          ],
          [
           "Cozuelos de Fuentidueña",
           878.4466
          ],
          [
           "Marazoleja",
           912.3766
          ],
          [
           "Navas de Riofrío",
           1102.874
          ],
          [
           "Cuevas de Provanco",
           887.5039
          ],
          [
           "San Cristóbal de Segovia",
           1075.621
          ],
          [
           "Aguadulce",
           269.4199
          ],
          [
           "Alanís",
           674.499
          ],
          [
           "Albaida del Aljarafe",
           165.9894
          ],
          [
           "Alcalá de Guadaíra",
           55.89719
          ],
          [
           "Alcalá del Río",
           27.89068
          ],
          [
           "Alcolea del Río",
           31.59125
          ],
          [
           "Algaba, La",
           11.90946
          ],
          [
           "Algámitas",
           426.4051
          ],
          [
           "Almadén de la Plata",
           454.1956
          ],
          [
           "Almensilla",
           46.3095
          ],
          [
           "Arahal",
           119.1923
          ],
          [
           "Aznalcázar",
           66.94781
          ],
          [
           "Aznalcóllar",
           142.9431
          ],
          [
           "Badolatosa",
           223.3192
          ],
          [
           "Benacazón",
           122.7115
          ],
          [
           "Bollullos de la Mitación",
           89.16615
          ],
          [
           "Bormujos",
           100.3896
          ],
          [
           "Brenes",
           20.4634
          ],
          [
           "Burguillos",
           82.8983
          ],
          [
           "Cabezas de San Juan, Las",
           66.06638
          ],
          [
           "Camas",
           10.96704
          ],
          [
           "Campana, La",
           138.4237
          ],
          [
           "Cantillana",
           31.12143
          ],
          [
           "Carmona",
           217.9807
          ],
          [
           "Carrión de los Céspedes",
           101.1786
          ],
          [
           "Casariche",
           307.1805
          ],
          [
           "Castilblanco de los Arroyos",
           328.9605
          ],
          [
           "Castilleja de Guzmán",
           132.0701
          ],
          [
           "Castilleja de la Cuesta",
           99.49868
          ],
          [
           "Castilleja del Campo",
           117.3369
          ],
          [
           "Castillo de las Guardas, El",
           344.4214
          ],
          [
           "Cazalla de la Sierra",
           589.1179
          ],
          [
           "Constantina",
           562.725
          ],
          [
           "Coria del Río",
           12.71133
          ],
          [
           "Coripe",
           322.8958
          ],
          [
           "Coronil, El",
           135
          ],
          [
           "Corrales, Los",
           387.234
          ],
          [
           "Dos Hermanas",
           47.75739
          ],
          [
           "Écija",
           109
          ],
          [
           "Espartinas",
           129.527
          ],
          [
           "Estepa",
           536.463
          ],
          [
           "Fuentes de Andalucía",
           181.6506
          ],
          [
           "Garrobo, El",
           269.6107
          ],
          [
           "Gelves",
           9.087679
          ],
          [
           "Gerena",
           91.18767
          ],
          [
           "Gilena",
           466
          ],
          [
           "Gines",
           122.6012
          ],
          [
           "Guadalcanal",
           666.4088
          ],
          [
           "Guillena",
           23.11958
          ],
          [
           "Herrera",
           250.9977
          ],
          [
           "Huévar del Aljarafe",
           72.44372
          ],
          [
           "Lebrija",
           36.06404
          ],
          [
           "Lora de Estepa",
           447.5596
          ],
          [
           "Lora del Río",
           42.94636
          ],
          [
           "Luisiana, La",
           170.004
          ],
          [
           "Madroño, El",
           357.1227
          ],
          [
           "Mairena del Alcor",
           131.1066
          ],
          [
           "Mairena del Aljarafe",
           67.95491
          ],
          [
           "Marchena",
           132.541
          ],
          [
           "Marinaleda",
           211.5678
          ],
          [
           "Martín de la Jara",
           403.103
          ],
          [
           "Molares, Los",
           78.48339
          ],
          [
           "Montellano",
           270.6418
          ],
          [
           "Morón de la Frontera",
           231.4267
          ],
          [
           "Navas de la Concepción, Las",
           433.0268
          ],
          [
           "Olivares",
           173.8805
          ],
          [
           "Osuna",
           291.4922
          ],
          [
           "Palacios y Villafranca, Los",
           8.847688
          ],
          [
           "Palomares del Río",
           38.78385
          ],
          [
           "Paradas",
           124.3341
          ],
          [
           "Pedrera",
           456.6477
          ],
          [
           "Peñaflor",
           56.938
          ],
          [
           "Pilas",
           69.78975
          ],
          [
           "Pruna",
           546.836
          ],
          [
           "Puebla de Cazalla, La",
           173.4698
          ],
          [
           "Puebla de los Infantes, La",
           235.6329
          ],
          [
           "Puebla del Río, La",
           21.86605
          ],
          [
           "Real de la Jara, El",
           462.9557
          ],
          [
           "Rinconada, La",
           11.99988
          ],
          [
           "Roda de Andalucía, La",
           403.1315
          ],
          [
           "Ronquillo, El",
           337.517
          ],
          [
           "Rubio, El",
           207.1797
          ],
          [
           "Salteras",
           153.2617
          ],
          [
           "San Juan de Aznalfarache",
           52.55407
          ],
          [
           "Sanlúcar la Mayor",
           135.8951
          ],
          [
           "San Nicolás del Puerto",
           588.4053
          ],
          [
           "Santiponce",
           16.95212
          ],
          [
           "Saucejo, El",
           533.4467
          ],
          [
           "Sevilla",
           8.265573
          ],
          [
           "Tocina",
           29.86999
          ],
          [
           "Tomares",
           69.09997
          ],
          [
           "Umbrete",
           126.0343
          ],
          [
           "Utrera",
           49.07016
          ],
          [
           "Valencina de la Concepción",
           150.983
          ],
          [
           "Villamanrique de la Condesa",
           32.61857
          ],
          [
           "Villanueva del Ariscal",
           152.3999
          ],
          [
           "Villanueva del Río y Minas",
           55.40402
          ],
          [
           "Villanueva de San Juan",
           467.6487
          ],
          [
           "Villaverde del Río",
           19.56544
          ],
          [
           "Viso del Alcor, El",
           145.2844
          ],
          [
           "Cañada Rosal",
           157.5748
          ],
          [
           "Isla Mayor",
           4
          ],
          [
           "Cuervo de Sevilla, El",
           59.24586
          ],
          [
           "Abejar",
           1145.182
          ],
          [
           "Adradas",
           1053.24
          ],
          [
           "Ágreda",
           939.9912
          ],
          [
           "Alconaba",
           1008.273
          ],
          [
           "Alcubilla de Avellaneda",
           926.149
          ],
          [
           "Alcubilla de las Peñas",
           1123.342
          ],
          [
           "Aldealafuente",
           1008.722
          ],
          [
           "Aldealices",
           1133.837
          ],
          [
           "Aldealpozo",
           1056.476
          ],
          [
           "Aldealseñor",
           1090.4
          ],
          [
           "Aldehuela de Periáñez",
           1053.012
          ],
          [
           "Aldehuelas, Las",
           1267.252
          ],
          [
           "Alentisque",
           1060.366
          ],
          [
           "Aliud",
           1012.084
          ],
          [
           "Almajano",
           1054
          ],
          [
           "Almaluez",
           823.894
          ],
          [
           "Almarza",
           1152.273
          ],
          [
           "Almazán",
           962.2736
          ],
          [
           "Almazul",
           981.7079
          ],
          [
           "Almenar de Soria",
           1020.456
          ],
          [
           "Alpanseque",
           1113.177
          ],
          [
           "Arancón",
           1064.569
          ],
          [
           "Arcos de Jalón",
           829.8203
          ],
          [
           "Arenillas",
           1097.583
          ],
          [
           "Arévalo de la Sierra",
           1209.113
          ],
          [
           "Ausejo de la Sierra",
           1097.726
          ],
          [
           "Baraona",
           1122.398
          ],
          [
           "Barca",
           956.5942
          ],
          [
           "Barcones",
           1095.072
          ],
          [
           "Bayubas de Abajo",
           921.9889
          ],
          [
           "Bayubas de Arriba",
           960.613
          ],
          [
           "Beratón",
           1386.368
          ],
          [
           "Berlanga de Duero",
           937.0346
          ],
          [
           "Blacos",
           989.2947
          ],
          [
           "Bliecos",
           1044.849
          ],
          [
           "Borjabad",
           1014.908
          ],
          [
           "Borobia",
           1115.851
          ],
          [
           "Buberos",
           1022.386
          ],
          [
           "Buitrago",
           1033.595
          ],
          [
           "Burgo de Osma-Ciudad de Osma",
           902.5478
          ],
          [
           "Cabrejas del Campo",
           992.3073
          ],
          [
           "Cabrejas del Pinar",
           1157.918
          ],
          [
           "Calatañazor",
           1058.661
          ],
          [
           "Caltojar",
           968.6671
          ],
          [
           "Candilichera",
           1004.845
          ],
          [
           "Cañamaque",
           961.6105
          ],
          [
           "Carabantes",
           1004.526
          ],
          [
           "Caracena",
           1079.824
          ],
          [
           "Carrascosa de Abajo",
           1021.172
          ],
          [
           "Carrascosa de la Sierra",
           1185.388
          ],
          [
           "Casarejos",
           1084.931
          ],
          [
           "Castilfrío de la Sierra",
           1204.084
          ],
          [
           "Castilruiz",
           1012.292
          ],
          [
           "Castillejo de Robledo",
           958.3167
          ],
          [
           "Centenera de Andaluz",
           945.2386
          ],
          [
           "Cerbón",
           1118.104
          ],
          [
           "Cidones",
           1088.646
          ],
          [
           "Cigudosa",
           744.5455
          ],
          [
           "Cihuela",
           823.4209
          ],
          [
           "Ciria",
           1037.322
          ],
          [
           "Cirujales del Río",
           1068.647
          ],
          [
           "Coscurita",
           964.2791
          ],
          [
           "Covaleda",
           1200.42
          ],
          [
           "Cubilla",
           1091.318
          ],
          [
           "Cubo de la Solana",
           992.694
          ],
          [
           "Cueva de Ágreda",
           1297.624
          ],
          [
           "Dévanos",
           936.56
          ],
          [
           "Deza",
           883.1517
          ],
          [
           "Duruelo de la Sierra",
           1192.476
          ],
          [
           "Escobosa de Almazán",
           1086.438
          ],
          [
           "Espeja de San Marcelino",
           1032.547
          ],
          [
           "Espejón",
           1032.613
          ],
          [
           "Estepa de San Juan",
           1254.505
          ],
          [
           "Frechilla de Almazán",
           984.3314
          ],
          [
           "Fresno de Caracena",
           954.0523
          ],
          [
           "Fuentearmegil",
           986.2681
          ],
          [
           "Fuentecambrón",
           1016.823
          ],
          [
           "Fuentecantos",
           1030.378
          ],
          [
           "Fuentelmonge",
           866.837
          ],
          [
           "Fuentelsaz de Soria",
           1072.903
          ],
          [
           "Fuentepinilla",
           938.7756
          ],
          [
           "Fuentes de Magaña",
           1142.983
          ],
          [
           "Fuentestrún",
           1010.144
          ],
          [
           "Garray",
           1013.721
          ],
          [
           "Golmayo",
           1051.163
          ],
          [
           "Gómara",
           1048.483
          ],
          [
           "Gormaz",
           957.7652
          ],
          [
           "Herrera de Soria",
           1094.928
          ],
          [
           "Hinojosa del Campo",
           1033.897
          ],
          [
           "Langa de Duero",
           844.9768
          ],
          [
           "Liceras",
           1125.616
          ],
          [
           "Losilla, La",
           1175.729
          ],
          [
           "Magaña",
           954.0438
          ],
          [
           "Maján",
           1145.01
          ],
          [
           "Matalebreras",
           995.2419
          ],
          [
           "Matamala de Almazán",
           946.6416
          ],
          [
           "Medinaceli",
           1201.395
          ],
          [
           "Miño de Medinaceli",
           1158.736
          ],
          [
           "Miño de San Esteban",
           942.0782
          ],
          [
           "Molinos de Duero",
           1101.836
          ],
          [
           "Momblona",
           1063.584
          ],
          [
           "Monteagudo de las Vicarías",
           792.3184
          ],
          [
           "Montejo de Tiermes",
           1157.937
          ],
          [
           "Montenegro de Cameros",
           1243.88
          ],
          [
           "Morón de Almazán",
           1007.026
          ],
          [
           "Muriel de la Fuente",
           1018.385
          ],
          [
           "Muriel Viejo",
           1090.473
          ],
          [
           "Nafría de Ucero",
           1021.318
          ],
          [
           "Narros",
           1112.726
          ],
          [
           "Navaleno",
           1117.306
          ],
          [
           "Nepas",
           1041.625
          ],
          [
           "Nolay",
           1073.411
          ],
          [
           "Noviercas",
           1096.912
          ],
          [
           "Ólvega",
           1040.087
          ],
          [
           "Oncala",
           1300.732
          ],
          [
           "Pinilla del Campo",
           1047.87
          ],
          [
           "Portillo de Soria",
           1024.967
          ],
          [
           "Póveda de Soria, La",
           1298.482
          ],
          [
           "Pozalmuro",
           1049.624
          ],
          [
           "Quintana Redonda",
           1025.763
          ],
          [
           "Quintanas de Gormaz",
           937.9619
          ],
          [
           "Quiñonería",
           1182.47
          ],
          [
           "Rábanos, Los",
           1028.691
          ],
          [
           "Rebollar",
           1134.53
          ],
          [
           "Recuerda",
           897.7146
          ],
          [
           "Rello",
           1069.715
          ],
          [
           "Renieblas",
           1038.175
          ],
          [
           "Retortillo de Soria",
           1241.513
          ],
          [
           "Reznos",
           1054.53
          ],
          [
           "Riba de Escalote, La",
           1031.044
          ],
          [
           "Rioseco de Soria",
           1010.689
          ],
          [
           "Rollamienta",
           1140.99
          ],
          [
           "Salduero",
           1103.849
          ],
          [
           "San Esteban de Gormaz",
           859.9746
          ],
          [
           "San Felices",
           925.8511
          ],
          [
           "San Leonardo de Yagüe",
           1040.925
          ],
          [
           "San Pedro Manrique",
           1075.933
          ],
          [
           "Santa Cruz de Yanguas",
           1215.854
          ],
          [
           "Santa María de Huerta",
           771.3453
          ],
          [
           "Santa María de las Hoyas",
           1071.299
          ],
          [
           "Serón de Nágima",
           948.1932
          ],
          [
           "Soliedra",
           1099.303
          ],
          [
           "Soria",
           1064.823
          ],
          [
           "Sotillo del Rincón",
           1112.06
          ],
          [
           "Suellacabras",
           1196.337
          ],
          [
           "Tajahuerce",
           1055.238
          ],
          [
           "Tajueco",
           931.3216
          ],
          [
           "Talveila",
           1065.593
          ],
          [
           "Tardelcuende",
           994.6984
          ],
          [
           "Taroda",
           1028.943
          ],
          [
           "Tejado",
           989.0667
          ],
          [
           "Torlengua",
           863.2959
          ],
          [
           "Torreblacos",
           971.5205
          ],
          [
           "Torrubia de Soria",
           1045.725
          ],
          [
           "Trévago",
           1043.339
          ],
          [
           "Ucero",
           963.3094
          ],
          [
           "Vadillo",
           1103.603
          ],
          [
           "Valdeavellano de Tera",
           1141.217
          ],
          [
           "Valdegeña",
           1065.195
          ],
          [
           "Valdelagua del Cerro",
           1119.735
          ],
          [
           "Valdemaluque",
           946.3261
          ],
          [
           "Valdenebro",
           935.8683
          ],
          [
           "Valdeprado",
           844.049
          ],
          [
           "Valderrodilla",
           936.3094
          ],
          [
           "Valtajeros",
           1243.831
          ],
          [
           "Velamazán",
           975.5469
          ],
          [
           "Velilla de la Sierra",
           1032.823
          ],
          [
           "Velilla de los Ajos",
           1002.944
          ],
          [
           "Viana de Duero",
           992.69
          ],
          [
           "Villaciervos",
           1182.621
          ],
          [
           "Villanueva de Gormaz",
           967.6007
          ],
          [
           "Villar del Ala",
           1147.78
          ],
          [
           "Villar del Campo",
           1035.49
          ],
          [
           "Villar del Río",
           1008.998
          ],
          [
           "Villares de Soria, Los",
           1060.938
          ],
          [
           "Villasayas",
           1026.527
          ],
          [
           "Villaseca de Arciel",
           1006.2
          ],
          [
           "Vinuesa",
           1105.639
          ],
          [
           "Vizmanos",
           1200.711
          ],
          [
           "Vozmediano",
           884.5366
          ],
          [
           "Yanguas",
           988.0257
          ],
          [
           "Yelo",
           1124.461
          ],
          [
           "Aiguamúrcia",
           275.8484
          ],
          [
           "Albinyana",
           164.6246
          ],
          [
           "Albiol, L'",
           820.2056
          ],
          [
           "Alcanar",
           76.73789
          ],
          [
           "Alcover",
           243.6683
          ],
          [
           "Aldover",
           22.51767
          ],
          [
           "Aleixar, L'",
           265.6363
          ],
          [
           "Alfara de Carles",
           330.2164
          ],
          [
           "Alforja",
           377.2571
          ],
          [
           "Alió",
           260.8962
          ],
          [
           "Almoster",
           279.3624
          ],
          [
           "Altafulla",
           40.74033
          ],
          [
           "Ametlla de Mar, L'",
           22.80147
          ],
          [
           "Amposta",
           13.08101
          ],
          [
           "Arbolí",
           722.0569
          ],
          [
           "Arboç, L'",
           159.0804
          ],
          [
           "Argentera, L'",
           343.2802
          ],
          [
           "Arnes",
           502.1081
          ],
          [
           "Ascó",
           47.97315
          ],
          [
           "Banyeres del Penedès",
           161.0753
          ],
          [
           "Barberà de la Conca",
           445.4714
          ],
          [
           "Batea",
           366.6695
          ],
          [
           "Bellmunt del Priorat",
           265.5596
          ],
          [
           "Bellvei",
           103.1995
          ],
          [
           "Benifallet",
           20.97804
          ],
          [
           "Benissanet",
           30.95802
          ],
          [
           "Bisbal de Falset, La",
           350.8352
          ],
          [
           "Bisbal del Penedès, La",
           186.8171
          ],
          [
           "Blancafort",
           428.1689
          ],
          [
           "Bonastre",
           178.1962
          ],
          [
           "Borges del Camp, Les",
           244.0695
          ],
          [
           "Bot",
           289.0362
          ],
          [
           "Botarell",
           191.7195
          ],
          [
           "Bràfim",
           241.3834
          ],
          [
           "Cabacés",
           321.5059
          ],
          [
           "Cabra del Camp",
           496.1121
          ],
          [
           "Calafell",
           49.04614
          ],
          [
           "Cambrils",
           8.722612
          ],
          [
           "Capafonts",
           744.4973
          ],
          [
           "Capçanes",
           216.5009
          ],
          [
           "Caseres",
           325.9239
          ],
          [
           "Castellvell del Camp",
           211.4699
          ],
          [
           "Catllar, El",
           74.44913
          ],
          [
           "Sénia, La",
           365.2491
          ],
          [
           "Colldejou",
           418.8255
          ],
          [
           "Conesa",
           703.0317
          ],
          [
           "Constantí",
           71.37662
          ],
          [
           "Corbera d'Ebre",
           298.1901
          ],
          [
           "Cornudella de Montsant",
           538.842
          ],
          [
           "Creixell",
           37.14136
          ],
          [
           "Cunit",
           13.48558
          ],
          [
           "Xerta",
           15.96906
          ],
          [
           "Duesaigües",
           257.8097
          ],
          [
           "Espluga de Francolí, L'",
           427.1004
          ],
          [
           "Falset",
           372
          ],
          [
           "Fatarella, La",
           506.5272
          ],
          [
           "Febró, La",
           740.9882
          ],
          [
           "Figuera, La",
           557.129
          ],
          [
           "Figuerola del Camp",
           494.4908
          ],
          [
           "Flix",
           89.04555
          ],
          [
           "Forès",
           812.8558
          ],
          [
           "Freginals",
           112.4258
          ],
          [
           "Galera, La",
           115
          ],
          [
           "Gandesa",
           377.5729
          ],
          [
           "Garcia",
           45.94114
          ],
          [
           "Garidells, Els",
           126.6692
          ],
          [
           "Ginestar",
           28.55884
          ],
          [
           "Godall",
           174.054
          ],
          [
           "Gratallops",
           315.0264
          ],
          [
           "Guiamets, Els",
           223.7729
          ],
          [
           "Horta de Sant Joan",
           524.2277
          ],
          [
           "Lloar, El",
           217.868
          ],
          [
           "Llorac",
           644.8692
          ],
          [
           "Llorenç del Penedès",
           164.474
          ],
          [
           "Margalef",
           377.8307
          ],
          [
           "Marçà",
           318.0693
          ],
          [
           "Mas de Barberans",
           360.4406
          ],
          [
           "Masdenverge",
           47.8704
          ],
          [
           "Masllorenç",
           308.2999
          ],
          [
           "Masó, La",
           113.9378
          ],
          [
           "Maspujols",
           203.1914
          ],
          [
           "Masroig, El",
           191.0335
          ],
          [
           "Milà, El",
           167.8536
          ],
          [
           "Miravet",
           31.31219
          ],
          [
           "Molar, El",
           221.6313
          ],
          [
           "Montblanc",
           352.0974
          ],
          [
           "Montbrió del Camp",
           136.6262
          ],
          [
           "Montferri",
           232.4649
          ],
          [
           "Montmell, El",
           433.5698
          ],
          [
           "Mont-ral",
           856.2275
          ],
          [
           "Mont-roig del Camp",
           99.48418
          ],
          [
           "Móra d'Ebre",
           51.02542
          ],
          [
           "Móra la Nova",
           39.38612
          ],
          [
           "Morell, El",
           100.157
          ],
          [
           "Morera de Montsant, La",
           753.5471
          ],
          [
           "Nou de Gaià, La",
           79.46999
          ],
          [
           "Nulles",
           226.6075
          ],
          [
           "Palma d'Ebre, La",
           338.6448
          ],
          [
           "Pallaresos, Els",
           125.749
          ],
          [
           "Passanant i Belltall",
           715.6676
          ],
          [
           "Paüls",
           306.6884
          ],
          [
           "Perafort",
           124.8244
          ],
          [
           "Perelló, El",
           151.6562
          ],
          [
           "Piles, Les",
           676.3849
          ],
          [
           "Pinell de Brai, El",
           176.9608
          ],
          [
           "Pira",
           395.6909
          ],
          [
           "Pla de Santa Maria, El",
           381.2327
          ],
          [
           "Pobla de Mafumet, La",
           100.1319
          ],
          [
           "Pobla de Massaluca, La",
           359.1324
          ],
          [
           "Pobla de Montornès, La",
           68.08212
          ],
          [
           "Poboleda",
           363.0493
          ],
          [
           "Porrera",
           309.0124
          ],
          [
           "Pradell de la Teixeta",
           470.191
          ],
          [
           "Prades",
           949.0946
          ],
          [
           "Prat de Comte",
           347.2015
          ],
          [
           "Pratdip",
           235.3322
          ],
          [
           "Puigpelat",
           253.6263
          ],
          [
           "Querol",
           530.1125
          ],
          [
           "Rasquera",
           175.2991
          ],
          [
           "Renau",
           170.6811
          ],
          [
           "Reus",
           127.8296
          ],
          [
           "Riba, La",
           232.3366
          ],
          [
           "Riba-roja d'Ebre",
           88.89165
          ],
          [
           "Riera de Gaià, La",
           41
          ],
          [
           "Riudecanyes",
           187.1033
          ],
          [
           "Riudecols",
           296.2064
          ],
          [
           "Riudoms",
           113.1621
          ],
          [
           "Rocafort de Queralt",
           564.9393
          ],
          [
           "Rodonyà",
           319.4084
          ],
          [
           "Roquetes",
           16.51928
          ],
          [
           "Rourell, El",
           114.257
          ],
          [
           "Salomó",
           168.8046
          ],
          [
           "Sant Jaume dels Domenys",
           212.2896
          ],
          [
           "Santa Bàrbara",
           86.20828
          ],
          [
           "Santa Coloma de Queralt",
           687.3315
          ],
          [
           "Santa Oliva",
           97.12163
          ],
          [
           "Pontils",
           549.0671
          ],
          [
           "Sarral",
           468.9105
          ],
          [
           "Savallà del Comtat",
           815.1319
          ],
          [
           "Secuita, La",
           167.3639
          ],
          [
           "Selva del Camp, La",
           232.8907
          ],
          [
           "Senan",
           628.7389
          ],
          [
           "Solivella",
           492.9866
          ],
          [
           "Tarragona",
           26.26264
          ],
          [
           "Tivenys",
           15.66767
          ],
          [
           "Tivissa",
           317.5723
          ],
          [
           "Torre de Fontaubella, La",
           377.168
          ],
          [
           "Torre de l'Espanyol, La",
           155.5197
          ],
          [
           "Torredembarra",
           20.92576
          ],
          [
           "Torroja del Priorat",
           337.0303
          ],
          [
           "Tortosa",
           15.76711
          ],
          [
           "Ulldecona",
           143.1908
          ],
          [
           "Ulldemolins",
           644.6638
          ],
          [
           "Vallclara",
           626.184
          ],
          [
           "Vallfogona de Riucorb",
           579.2309
          ],
          [
           "Vallmoll",
           165.112
          ],
          [
           "Valls",
           226.6943
          ],
          [
           "Vandellòs i l'Hospitalet de l'Infant",
           270.6138
          ],
          [
           "Vendrell, El",
           55.17534
          ],
          [
           "Vespella de Gaià",
           176.4136
          ],
          [
           "Vilabella",
           256.6517
          ],
          [
           "Vilallonga del Camp",
           116.4445
          ],
          [
           "Vilanova d'Escornalbou",
           234.1977
          ],
          [
           "Vilanova de Prades",
           889.7278
          ],
          [
           "Vilaplana",
           367.4236
          ],
          [
           "Vila-rodona",
           257.237
          ],
          [
           "Vila-seca",
           46.76463
          ],
          [
           "Vilaverd",
           269.632
          ],
          [
           "Vilella Alta, La",
           326.739
          ],
          [
           "Vilella Baixa, La",
           207.4648
          ],
          [
           "Vilalba dels Arcs",
           454.0479
          ],
          [
           "Vimbodí i Poblet",
           479.068
          ],
          [
           "Vinebre",
           44.57071
          ],
          [
           "Vinyols i els Arcs",
           94.72616
          ],
          [
           "Deltebre",
           3
          ],
          [
           "Sant Jaume d'Enveja",
           3
          ],
          [
           "Camarles",
           8.301858
          ],
          [
           "Aldea, L'",
           10.09355
          ],
          [
           "Salou",
           5.432057
          ],
          [
           "Ampolla, L'",
           7.180099
          ],
          [
           "Ababuj",
           1368.157
          ],
          [
           "Abejuela",
           1164.137
          ],
          [
           "Aguatón",
           1226.572
          ],
          [
           "Aguaviva",
           547.9809
          ],
          [
           "Aguilar del Alfambra",
           1299.894
          ],
          [
           "Alacón",
           685.4042
          ],
          [
           "Alba",
           978.1422
          ],
          [
           "Albalate del Arzobispo",
           347.3883
          ],
          [
           "Albarracín",
           1157.773
          ],
          [
           "Albentosa",
           951.7792
          ],
          [
           "Alcaine",
           652.5018
          ],
          [
           "Alcalá de la Selva",
           1403.888
          ],
          [
           "Alcañiz",
           341.0952
          ],
          [
           "Alcorisa",
           639.8223
          ],
          [
           "Alfambra",
           1045.46
          ],
          [
           "Aliaga",
           1111.888
          ],
          [
           "Almohaja",
           1198.996
          ],
          [
           "Alobras",
           1108.156
          ],
          [
           "Alpeñés",
           1228.397
          ],
          [
           "Allepuz",
           1449.011
          ],
          [
           "Alloza",
           664.2663
          ],
          [
           "Allueva",
           1199.221
          ],
          [
           "Anadón",
           1114.096
          ],
          [
           "Andorra",
           721.1627
          ],
          [
           "Arcos de las Salinas",
           1062.09
          ],
          [
           "Arens de Lledó",
           365.9177
          ],
          [
           "Argente",
           1250.66
          ],
          [
           "Ariño",
           524.2899
          ],
          [
           "Azaila",
           275.2942
          ],
          [
           "Bádenas",
           1000.731
          ],
          [
           "Báguena",
           806.7857
          ],
          [
           "Bañón",
           1136.515
          ],
          [
           "Barrachina",
           1043.846
          ],
          [
           "Bea",
           1130.035
          ],
          [
           "Beceite",
           556.1799
          ],
          [
           "Belmonte de San José",
           658.2455
          ],
          [
           "Bello",
           1007.419
          ],
          [
           "Berge",
           719.4134
          ],
          [
           "Bezas",
           1175.002
          ],
          [
           "Blancas",
           1049.592
          ],
          [
           "Blesa",
           770.5961
          ],
          [
           "Bordón",
           821.2313
          ],
          [
           "Bronchales",
           1574.81
          ],
          [
           "Bueña",
           1221.145
          ],
          [
           "Burbáguena",
           817.4083
          ],
          [
           "Cabra de Mora",
           1092.803
          ],
          [
           "Calaceite",
           515.0114
          ],
          [
           "Calamocha",
           885.8004
          ],
          [
           "Calanda",
           459.9382
          ],
          [
           "Calomarde",
           1319.318
          ],
          [
           "Camañas",
           1234.744
          ],
          [
           "Camarena de la Sierra",
           1299.181
          ],
          [
           "Camarillas",
           1322.207
          ],
          [
           "Caminreal",
           922.4971
          ],
          [
           "Cantavieja",
           1303.577
          ],
          [
           "Cañada de Benatanduz",
           1420.062
          ],
          [
           "Cañada de Verich, La",
           743.9012
          ],
          [
           "Cañada Vellida",
           1314.846
          ],
          [
           "Cañizar del Olivar",
           961.6534
          ],
          [
           "Cascante del Río",
           986.0148
          ],
          [
           "Castejón de Tornos",
           1084.944
          ],
          [
           "Castel de Cabra",
           1089.548
          ],
          [
           "Castelnou",
           194.6102
          ],
          [
           "Castelserás",
           359.8336
          ],
          [
           "Castellar, El",
           1246.68
          ],
          [
           "Castellote",
           791.4321
          ],
          [
           "Cedrillas",
           1353.48
          ],
          [
           "Celadas",
           1119.179
          ],
          [
           "Cella",
           1033.89
          ],
          [
           "Cerollera, La",
           846.5733
          ],
          [
           "Codoñera, La",
           499.7471
          ],
          [
           "Corbalán",
           1262.557
          ],
          [
           "Cortes de Aragón",
           930.5992
          ],
          [
           "Cosa",
           1192.21
          ],
          [
           "Cretas",
           569.0511
          ],
          [
           "Crivillén",
           795.6636
          ],
          [
           "Cuba, La",
           878.1436
          ],
          [
           "Cubla",
           1095.818
          ],
          [
           "Cucalón",
           1034.456
          ],
          [
           "Cuervo, El",
           909.1442
          ],
          [
           "Cuevas de Almudén",
           1274.424
          ],
          [
           "Cuevas Labradas",
           967.5995
          ],
          [
           "Ejulve",
           1111.811
          ],
          [
           "Escorihuela",
           1135.115
          ],
          [
           "Escucha",
           1070.983
          ],
          [
           "Estercuel",
           822.3273
          ],
          [
           "Ferreruela de Huerva",
           1016.397
          ],
          [
           "Fonfría",
           1248.398
          ],
          [
           "Formiche Alto",
           1119.593
          ],
          [
           "Fórnoles",
           713.966
          ],
          [
           "Fortanete",
           1366.681
          ],
          [
           "Foz-Calanda",
           503.1189
          ],
          [
           "Fresneda, La",
           551.9633
          ],
          [
           "Frías de Albarracín",
           1459.496
          ],
          [
           "Fuenferrada",
           1109.536
          ],
          [
           "Fuentes Calientes",
           1218.51
          ],
          [
           "Fuentes Claras",
           911.9739
          ],
          [
           "Fuentes de Rubielos",
           960.2522
          ],
          [
           "Fuentespalda",
           717.0623
          ],
          [
           "Galve",
           1184.569
          ],
          [
           "Gargallo",
           944.585
          ],
          [
           "Gea de Albarracín",
           1039.181
          ],
          [
           "Ginebrosa, La",
           706.7698
          ],
          [
           "Griegos",
           1601.854
          ],
          [
           "Guadalaviar",
           1526.078
          ],
          [
           "Gúdar",
           1583.481
          ],
          [
           "Híjar",
           286.6444
          ],
          [
           "Hinojosa de Jarque",
           1217.436
          ],
          [
           "Hoz de la Vieja, La",
           932.5383
          ],
          [
           "Huesa del Común",
           874.5453
          ],
          [
           "Iglesuela del Cid, La",
           1231.687
          ],
          [
           "Jabaloyas",
           1405.788
          ],
          [
           "Jarque de la Val",
           1263.365
          ],
          [
           "Jatiel",
           209.4427
          ],
          [
           "Jorcas",
           1337.114
          ],
          [
           "Josa",
           772.5401
          ],
          [
           "Lagueruela",
           1070.561
          ],
          [
           "Lanzuela",
           1013.573
          ],
          [
           "Libros",
           780.3804
          ],
          [
           "Lidón",
           1210.994
          ],
          [
           "Linares de Mora",
           1315.215
          ],
          [
           "Loscos",
           982.0676
          ],
          [
           "Lledó",
           462.8823
          ],
          [
           "Maicas",
           956.8483
          ],
          [
           "Manzanera",
           992.3011
          ],
          [
           "Martín del Río",
           916.4581
          ],
          [
           "Mas de las Matas",
           501.934
          ],
          [
           "Mata de los Olmos, La",
           906.572
          ],
          [
           "Mata de los Olmos, La",
           867.6914
          ],
          [
           "Mazaleón",
           351.4925
          ],
          [
           "Mezquita de Jarque",
           1257.285
          ],
          [
           "Mirambel",
           917.4668
          ],
          [
           "Miravete de la Sierra",
           1224.324
          ],
          [
           "Molinos",
           845.5135
          ],
          [
           "Monforte de Moyuela",
           1010.717
          ],
          [
           "Monreal del Campo",
           944.271
          ],
          [
           "Monroyo",
           863.434
          ],
          [
           "Montalbán",
           852.6946
          ],
          [
           "Monteagudo del Castillo",
           1463.322
          ],
          [
           "Monterde de Albarracín",
           1284.938
          ],
          [
           "Mora de Rubielos",
           1052.556
          ],
          [
           "Moscardón",
           1402.289
          ],
          [
           "Mosqueruela",
           1476.994
          ],
          [
           "Muniesa",
           785.425
          ],
          [
           "Noguera de Albarracín",
           1394.706
          ],
          [
           "Nogueras",
           855.6604
          ],
          [
           "Nogueruelas",
           1136.51
          ],
          [
           "Obón",
           690.8731
          ],
          [
           "Odón",
           1091.026
          ],
          [
           "Ojos Negros",
           1155.657
          ],
          [
           "Olba",
           657.7572
          ],
          [
           "Oliete",
           544.2368
          ],
          [
           "Orihuela del Tremedal",
           1444.746
          ],
          [
           "Orrios",
           1054.297
          ],
          [
           "Palomar de Arroyos",
           1206.51
          ],
          [
           "Pancrudo",
           1238.756
          ],
          [
           "Parras de Castellote, Las",
           703.3917
          ],
          [
           "Peñarroya de Tastavins",
           743.4257
          ],
          [
           "Peracense",
           1219.819
          ],
          [
           "Peralejos",
           1004.824
          ],
          [
           "Perales del Alfambra",
           1167.249
          ],
          [
           "Pitarque",
           994.9604
          ],
          [
           "Plou",
           905.438
          ],
          [
           "Pobo, El",
           1397.511
          ],
          [
           "Portellada, La",
           576.3449
          ],
          [
           "Pozondón",
           1410.839
          ],
          [
           "Pozuel del Campo",
           1115.931
          ],
          [
           "Puebla de Híjar, La",
           249.8602
          ],
          [
           "Puebla de Valverde, La",
           1122.581
          ],
          [
           "Puertomingalvo",
           1452.379
          ],
          [
           "Ráfales",
           630.261
          ],
          [
           "Rillo",
           1271.442
          ],
          [
           "Riodeva",
           973.0439
          ],
          [
           "Ródenas",
           1372.425
          ],
          [
           "Royuela",
           1214.825
          ],
          [
           "Rubiales",
           1156.471
          ],
          [
           "Rubielos de la Cérida",
           1230.612
          ],
          [
           "Rubielos de Mora",
           940.7538
          ],
          [
           "Salcedillo",
           1194.813
          ],
          [
           "Saldón",
           1406.871
          ],
          [
           "Samper de Calanda",
           253.1136
          ],
          [
           "San Agustín",
           968.0305
          ],
          [
           "San Martín del Río",
           784.4639
          ],
          [
           "Santa Cruz de Nogueras",
           888.4601
          ],
          [
           "Santa Eulalia",
           988.6647
          ],
          [
           "Sarrión",
           988.1364
          ],
          [
           "Segura de los Baños",
           1122.329
          ],
          [
           "Seno",
           799.8929
          ],
          [
           "Singra",
           1041.093
          ],
          [
           "Terriente",
           1435.32
          ],
          [
           "Teruel",
           927.4562
          ],
          [
           "Toril y Masegoso",
           1488.103
          ],
          [
           "Tormón",
           1062.348
          ],
          [
           "Tornos",
           1023.637
          ],
          [
           "Torralba de los Sisones",
           1046.971
          ],
          [
           "Torrecilla de Alcañiz",
           443.3759
          ],
          [
           "Torrecilla del Rebollar",
           1146.378
          ],
          [
           "Torre de Arcas",
           743.3999
          ],
          [
           "Torre de las Arcas",
           952.6594
          ],
          [
           "Torre del Compte",
           504.8756
          ],
          [
           "Torrelacárcel",
           980.6982
          ],
          [
           "Torre los Negros",
           1082.536
          ],
          [
           "Torremocha de Jiloca",
           983.9276
          ],
          [
           "Torres de Albarracín",
           1228.083
          ],
          [
           "Torrevelilla",
           610.9653
          ],
          [
           "Torrijas",
           1356.925
          ],
          [
           "Torrijo del Campo",
           923.381
          ],
          [
           "Tramacastiel",
           887.387
          ],
          [
           "Tramacastilla",
           1251.911
          ],
          [
           "Tronchón",
           1096.603
          ],
          [
           "Urrea de Gaén",
           313.7285
          ],
          [
           "Utrillas",
           945.4211
          ],
          [
           "Valacloche",
           1003.039
          ],
          [
           "Valbona",
           951.9821
          ],
          [
           "Valdealgorfa",
           513.6993
          ],
          [
           "Valdecuenca",
           1329.863
          ],
          [
           "Valdelinares",
           1699.088
          ],
          [
           "Valdeltormo",
           426.9926
          ],
          [
           "Valderrobres",
           506.0121
          ],
          [
           "Valjunquera",
           557.3394
          ],
          [
           "Vallecillo, El",
           1435.69
          ],
          [
           "Veguillas de la Sierra",
           1267.169
          ],
          [
           "Villafranca del Campo",
           962.5623
          ],
          [
           "Villahermosa del Campo",
           957.9505
          ],
          [
           "Villanueva del Rebollar de la Sierra",
           1090.223
          ],
          [
           "Villar del Cobo",
           1437.745
          ],
          [
           "Villar del Salz",
           1215.276
          ],
          [
           "Villarluengo",
           1112.27
          ],
          [
           "Villarquemado",
           998.2739
          ],
          [
           "Villarroya de los Pinares",
           1326.217
          ],
          [
           "Villastar",
           860.7039
          ],
          [
           "Villel",
           839.2695
          ],
          [
           "Vinaceite",
           303.0283
          ],
          [
           "Visiedo",
           1187.011
          ],
          [
           "Vivel del Río Martín",
           974.8438
          ],
          [
           "Zoma, La",
           1144.094
          ],
          [
           "Ajofrín",
           771.9454
          ],
          [
           "Alameda de la Sagra",
           595.9953
          ],
          [
           "Albarreal de Tajo",
           452.7595
          ],
          [
           "Alcabón",
           529.2844
          ],
          [
           "Alcañizo",
           373.982
          ],
          [
           "Alcaudete de la Jara",
           408.8566
          ],
          [
           "Alcolea de Tajo",
           353.2964
          ],
          [
           "Aldea en Cabo",
           478.3156
          ],
          [
           "Aldeanueva de Barbarroya",
           492.4827
          ],
          [
           "Aldeanueva de San Bartolomé",
           572.8758
          ],
          [
           "Almendral de la Cañada",
           625.25
          ],
          [
           "Almonacid de Toledo",
           715.1904
          ],
          [
           "Almorox",
           535.3524
          ],
          [
           "Añover de Tajo",
           591.5134
          ],
          [
           "Arcicóllar",
           543.9216
          ],
          [
           "Argés",
           653.7512
          ],
          [
           "Azután",
           337.5748
          ],
          [
           "Barcience",
           517.1357
          ],
          [
           "Bargas",
           599.7254
          ],
          [
           "Belvís de la Jara",
           451.4582
          ],
          [
           "Borox",
           582.6509
          ],
          [
           "Buenaventura",
           433.1037
          ],
          [
           "Burguillos de Toledo",
           679.2315
          ],
          [
           "Burujón",
           501.4543
          ],
          [
           "Cabañas de la Sagra",
           551
          ],
          [
           "Cabañas de Yepes",
           706.7368
          ],
          [
           "Cabezamesada",
           736.1016
          ],
          [
           "Calera y Chozas",
           394.1816
          ],
          [
           "Caleruela",
           374.1803
          ],
          [
           "Calzada de Oropesa",
           351.9175
          ],
          [
           "Camarena",
           575.9206
          ],
          [
           "Camarenilla",
           509.2571
          ],
          [
           "Campillo de la Jara, El",
           651.1703
          ],
          [
           "Camuñas",
           672.9465
          ],
          [
           "Cardiel de los Montes",
           407.2493
          ],
          [
           "Carmena",
           562
          ],
          [
           "Carpio de Tajo, El",
           482.838
          ],
          [
           "Carranque",
           660.4978
          ],
          [
           "Carriches",
           553.2783
          ],
          [
           "Casar de Escalona, El",
           466.5611
          ],
          [
           "Casarrubios del Monte",
           616.3093
          ],
          [
           "Casasbuenas",
           687.2794
          ],
          [
           "Castillo de Bayuela",
           549.2681
          ],
          [
           "Cazalegas",
           440.9979
          ],
          [
           "Cebolla",
           428.8371
          ],
          [
           "Cedillo del Condado",
           647.5012
          ],
          [
           "Cerralbos, Los",
           465.1712
          ],
          [
           "Cervera de los Montes",
           536.5416
          ],
          [
           "Ciruelos",
           708.9604
          ],
          [
           "Cobeja",
           508.5462
          ],
          [
           "Cobisa",
           676.1328
          ],
          [
           "Consuegra",
           709.5399
          ],
          [
           "Corral de Almaguer",
           705.971
          ],
          [
           "Cuerva",
           773.9889
          ],
          [
           "Chozas de Canales",
           544.3453
          ],
          [
           "Chueca",
           742.0029
          ],
          [
           "Domingo Pérez",
           497.8713
          ],
          [
           "Dosbarrios",
           709.6131
          ],
          [
           "Erustes",
           536.0446
          ],
          [
           "Escalona",
           463.5558
          ],
          [
           "Escalonilla",
           547.6719
          ],
          [
           "Espinoso del Rey",
           724.8951
          ],
          [
           "Esquivias",
           611.5911
          ],
          [
           "Estrella, La",
           549.2997
          ],
          [
           "Fuensalida",
           595.3815
          ],
          [
           "Gálvez",
           709.8111
          ],
          [
           "Garciotum",
           468.3595
          ],
          [
           "Gerindote",
           552.425
          ],
          [
           "Guadamur",
           636.7328
          ],
          [
           "Guardia, La",
           697.0734
          ],
          [
           "Herencias, Las",
           358.7523
          ],
          [
           "Herreruela de Oropesa",
           378.2414
          ],
          [
           "Hinojosa de San Vicente",
           659.1536
          ],
          [
           "Hontanar",
           840.3611
          ],
          [
           "Hormigos",
           464.7229
          ],
          [
           "Huecas",
           552.931
          ],
          [
           "Huerta de Valdecarábanos",
           627.6873
          ],
          [
           "Illán de Vacas",
           480.7694
          ],
          [
           "Illescas",
           592.8992
          ],
          [
           "Lagartera",
           396.1818
          ],
          [
           "Layos",
           651.8649
          ],
          [
           "Lillo",
           685.3505
          ],
          [
           "Lominchar",
           646.8894
          ],
          [
           "Lucillos",
           477.0321
          ],
          [
           "Madridejos",
           688.0627
          ],
          [
           "Magán",
           483.2254
          ],
          [
           "Malpica de Tajo",
           397.5589
          ],
          [
           "Manzaneque",
           718.4171
          ],
          [
           "Maqueda",
           489.5274
          ],
          [
           "Marjaliza",
           857.3539
          ],
          [
           "Marrupe",
           592.5861
          ],
          [
           "Mascaraque",
           714.0005
          ],
          [
           "Mata, La",
           567.7911
          ],
          [
           "Mazarambroz",
           778.5905
          ],
          [
           "Mejorada",
           548.898
          ],
          [
           "Menasalbas",
           704.96
          ],
          [
           "Méntrida",
           533.4263
          ],
          [
           "Mesegar de Tajo",
           482.0789
          ],
          [
           "Miguel Esteban",
           682.11
          ],
          [
           "Mocejón",
           481.0487
          ],
          [
           "Mohedas de la Jara",
           643.3585
          ],
          [
           "Montearagón",
           432.5179
          ],
          [
           "Montesclaros",
           558.0593
          ],
          [
           "Mora",
           722.1462
          ],
          [
           "Nambroca",
           677.4409
          ],
          [
           "Nava de Ricomalillo, La",
           650.6389
          ],
          [
           "Navahermosa",
           735.2842
          ],
          [
           "Navalcán",
           394.0665
          ],
          [
           "Navalmoralejo",
           427.2085
          ],
          [
           "Navalmorales, Los",
           659.6473
          ],
          [
           "Navalucillos, Los",
           742.7283
          ],
          [
           "Navamorcuende",
           771.2516
          ],
          [
           "Noblejas",
           743.8586
          ],
          [
           "Noez",
           757.0864
          ],
          [
           "Nombela",
           492.1309
          ],
          [
           "Novés",
           566.3942
          ],
          [
           "Numancia de la Sagra",
           526
          ],
          [
           "Nuño Gómez",
           473.3011
          ],
          [
           "Ocaña",
           735.3221
          ],
          [
           "Olías del Rey",
           592.4843
          ],
          [
           "Ontígola",
           609.2897
          ],
          [
           "Orgaz",
           748.8485
          ],
          [
           "Oropesa",
           421.104
          ],
          [
           "Otero",
           463.8867
          ],
          [
           "Palomeque",
           609.2781
          ],
          [
           "Pantoja",
           523.6249
          ],
          [
           "Paredes de Escalona",
           488.917
          ],
          [
           "Parrillas",
           397.2186
          ],
          [
           "Pelahustán",
           673.2676
          ],
          [
           "Pepino",
           444.1442
          ],
          [
           "Polán",
           652.066
          ],
          [
           "Portillo de Toledo",
           594.792
          ],
          [
           "Puebla de Almoradiel, La",
           695.3882
          ],
          [
           "Puebla de Montalbán, La",
           496.2206
          ],
          [
           "Pueblanueva, La",
           483.6057
          ],
          [
           "Puente del Arzobispo, El",
           338.4842
          ],
          [
           "Puerto de San Vicente",
           752.8705
          ],
          [
           "Pulgar",
           724.0479
          ],
          [
           "Quero",
           648.4975
          ],
          [
           "Quintanar de la Orden",
           696
          ],
          [
           "Quismondo",
           549.3548
          ],
          [
           "Real de San Vicente, El",
           755.4675
          ],
          [
           "Recas",
           567.7425
          ],
          [
           "Retamoso de la Jara",
           608.0787
          ],
          [
           "Rielves",
           495.0737
          ],
          [
           "Robledo del Mazo",
           733.2631
          ],
          [
           "Romeral, El",
           662
          ],
          [
           "San Bartolomé de las Abiertas",
           555.0835
          ],
          [
           "San Martín de Montalbán",
           655.0389
          ],
          [
           "San Martín de Pusa",
           501.6586
          ],
          [
           "San Pablo de los Montes",
           910.0876
          ],
          [
           "San Román de los Montes",
           452.9428
          ],
          [
           "Santa Ana de Pusa",
           579.5608
          ],
          [
           "Santa Cruz de la Zarza",
           778.1476
          ],
          [
           "Santa Cruz del Retamar",
           596.1041
          ],
          [
           "Santa Olalla",
           487.3168
          ],
          [
           "Sartajada",
           460.2389
          ],
          [
           "Segurilla",
           566.5943
          ],
          [
           "Seseña",
           612.9283
          ],
          [
           "Sevilleja de la Jara",
           670.1891
          ],
          [
           "Sonseca",
           759.9934
          ],
          [
           "Sotillo de las Palomas",
           565.0426
          ],
          [
           "Talavera de la Reina",
           373.9266
          ],
          [
           "Tembleque",
           638.9656
          ],
          [
           "Toledo",
           524.0618
          ],
          [
           "Torralba de Oropesa",
           378.0818
          ],
          [
           "Torrecilla de la Jara",
           642.9003
          ],
          [
           "Torre de Esteban Hambrán, La",
           560.457
          ],
          [
           "Torrico",
           443.2747
          ],
          [
           "Torrijos",
           531.6115
          ],
          [
           "Totanés",
           730.3002
          ],
          [
           "Turleque",
           693.6431
          ],
          [
           "Ugena",
           656.1516
          ],
          [
           "Urda",
           767.5526
          ],
          [
           "Valdeverdeja",
           477.4793
          ],
          [
           "Valmojado",
           657.4002
          ],
          [
           "Velada",
           438.305
          ],
          [
           "Ventas con Peña Aguilera, Las",
           792.7462
          ],
          [
           "Ventas de Retamosa, Las",
           625.0803
          ],
          [
           "Ventas de San Julián, Las",
           313.025
          ],
          [
           "Villacañas",
           667.0467
          ],
          [
           "Villa de Don Fadrique, La",
           674.587
          ],
          [
           "Villafranca de los Caballeros",
           646.3422
          ],
          [
           "Villaluenga de la Sagra",
           528
          ],
          [
           "Villamiel de Toledo",
           486.4659
          ],
          [
           "Villaminaya",
           728.4374
          ],
          [
           "Villamuelas",
           591.9915
          ],
          [
           "Villanueva de Alcardete",
           728.4774
          ],
          [
           "Villanueva de Bogas",
           655.7781
          ],
          [
           "Villarejo de Montalbán",
           533.8467
          ],
          [
           "Villarrubia de Santiago",
           755.729
          ],
          [
           "Villaseca de la Sagra",
           485.9981
          ],
          [
           "Villasequilla",
           510.8198
          ],
          [
           "Villatobas",
           736.1024
          ],
          [
           "Viso de San Juan, El",
           652.3853
          ],
          [
           "Yébenes, Los",
           820.0996
          ],
          [
           "Yeles",
           551.9601
          ],
          [
           "Yepes",
           698.4963
          ],
          [
           "Yuncler",
           536.7993
          ],
          [
           "Yunclillos",
           515.6655
          ],
          [
           "Yuncos",
           546.3137
          ],
          [
           "Santo Domingo-Caudilla",
           547.0987
          ],
          [
           "Ademuz",
           753.2866
          ],
          [
           "Ador",
           99.2018
          ],
          [
           "Atzeneta d'Albaida",
           397.5668
          ],
          [
           "Agullent",
           426.091
          ],
          [
           "Alaquàs",
           46.73926
          ],
          [
           "Albaida",
           344.094
          ],
          [
           "Albal",
           13.72922
          ],
          [
           "Albalat de la Ribera",
           16.92992
          ],
          [
           "Albalat dels Sorells",
           20.43682
          ],
          [
           "Albalat dels Tarongers",
           102.3577
          ],
          [
           "Alberic",
           33.56151
          ],
          [
           "Alborache",
           314.9452
          ],
          [
           "Albuixech",
           12
          ],
          [
           "Alcàsser",
           29.1877
          ],
          [
           "Alcàntera de Xúquer",
           45
          ],
          [
           "Alzira",
           27.81557
          ],
          [
           "Alcublas",
           779.1219
          ],
          [
           "Alcúdia, l'",
           40.6911
          ],
          [
           "Alcúdia de Crespins, l'",
           162.9035
          ],
          [
           "Aldaia",
           49.20547
          ],
          [
           "Alfafar",
           14.41185
          ],
          [
           "Alfauir",
           89.19871
          ],
          [
           "Alfara del Patriarca",
           34
          ],
          [
           "Alfarrasí",
           201.9004
          ],
          [
           "Algemesí",
           23.95206
          ],
          [
           "Alginet",
           33.26551
          ],
          [
           "Almàssera",
           13.57227
          ],
          [
           "Almiserà",
           147.6635
          ],
          [
           "Almoines",
           37.68532
          ],
          [
           "Almussafes",
           12.22051
          ],
          [
           "Alpuente",
           967.8577
          ],
          [
           "Alqueria de la Comtessa, l'",
           28.50795
          ],
          [
           "Andilla",
           898.008
          ],
          [
           "Anna",
           206.8878
          ],
          [
           "Antella",
           45.31253
          ],
          [
           "Aras de los Olmos",
           941.6501
          ],
          [
           "Aielo de Malferit",
           282.5617
          ],
          [
           "Aielo de Rugat",
           267.1081
          ],
          [
           "Ayora",
           600.3483
          ],
          [
           "Barxeta",
           119.2042
          ],
          [
           "Barx",
           345.9779
          ],
          [
           "Bèlgida",
           276.6864
          ],
          [
           "Bellreguard",
           30.94795
          ],
          [
           "Bellús",
           135.4684
          ],
          [
           "Benagéber",
           783.6801
          ],
          [
           "Benaguasil",
           129.399
          ],
          [
           "Benavites",
           39.9698
          ],
          [
           "Beneixida",
           57.80067
          ],
          [
           "Benetússer",
           16.70827
          ],
          [
           "Beniarjó",
           48.86893
          ],
          [
           "Beniatjar",
           393.6027
          ],
          [
           "Benicolet",
           246.7301
          ],
          [
           "Benifairó de les Valls",
           57.70965
          ],
          [
           "Benifairó de la Valldigna",
           40.15332
          ],
          [
           "Benifaió",
           25.18363
          ],
          [
           "Beniflá",
           49
          ],
          [
           "Benimodo",
           48.09188
          ],
          [
           "Benimuslem",
           25.46984
          ],
          [
           "Beniparrell",
           9.134038
          ],
          [
           "Benirredrà",
           32.96222
          ],
          [
           "Benissoda",
           334.6183
          ],
          [
           "Bétera",
           107.5116
          ],
          [
           "Bicorp",
           293.4095
          ],
          [
           "Bocairent",
           625.4228
          ],
          [
           "Bolbaite",
           243.4025
          ],
          [
           "Bonrepòs i Mirambell",
           16.36778
          ],
          [
           "Bufali",
           238.4063
          ],
          [
           "Bugarra",
           180.4909
          ],
          [
           "Buñol",
           357.3485
          ],
          [
           "Burjassot",
           43.95247
          ],
          [
           "Calles",
           356.5529
          ],
          [
           "Camporrobles",
           914.2482
          ],
          [
           "Canals",
           161.0747
          ],
          [
           "Canet d'En Berenguer",
           14.79732
          ],
          [
           "Carcaixent",
           30.51869
          ],
          [
           "Càrcer",
           43
          ],
          [
           "Carlet",
           55.64799
          ],
          [
           "Carrícola",
           336.8991
          ],
          [
           "Casas Altas",
           728.7411
          ],
          [
           "Casas Bajas",
           694.5356
          ],
          [
           "Casinos",
           321.9998
          ],
          [
           "Castelló de Rugat",
           321.0983
          ],
          [
           "Castellonet de la Conquesta",
           183.2389
          ],
          [
           "Castielfabib",
           922.0709
          ],
          [
           "Catadau",
           96.20319
          ],
          [
           "Catarroja",
           16.26744
          ],
          [
           "Caudete de las Fuentes",
           783.4852
          ],
          [
           "Cerdà",
           148.9015
          ],
          [
           "Cofrentes",
           382.015
          ],
          [
           "Corbera",
           17.43971
          ],
          [
           "Cortes de Pallás",
           426.9374
          ],
          [
           "Cotes",
           43.87196
          ],
          [
           "Quart de les Valls",
           55.67834
          ],
          [
           "Quart de Poblet",
           48
          ],
          [
           "Quartell",
           45.31203
          ],
          [
           "Quatretonda",
           225.2918
          ],
          [
           "Cullera",
           12.5917
          ],
          [
           "Chelva",
           475.5616
          ],
          [
           "Chella",
           227.4745
          ],
          [
           "Chera",
           642.4711
          ],
          [
           "Cheste",
           220.9698
          ],
          [
           "Xirivella",
           35.01973
          ],
          [
           "Chiva",
           279.1065
          ],
          [
           "Chulilla",
           319.9139
          ],
          [
           "Daimús",
           12.69039
          ],
          [
           "Domeño",
           209.0107
          ],
          [
           "Dos Aguas",
           362.2265
          ],
          [
           "Eliana, l'",
           93.11724
          ],
          [
           "Emperador",
           19.49965
          ],
          [
           "Enguera",
           313.453
          ],
          [
           "Estivella",
           118.094
          ],
          [
           "Estubeny",
           167.0915
          ],
          [
           "Faura",
           41.90349
          ],
          [
           "Favara",
           10.1655
          ],
          [
           "Fontanars dels Alforins",
           628.7396
          ],
          [
           "Fortaleny",
           10.85651
          ],
          [
           "Foios",
           21.95792
          ],
          [
           "Font d'en Carròs, la",
           5.068284
          ],
          [
           "Fuenterrobles",
           890.5018
          ],
          [
           "Gavarda",
           35.14901
          ],
          [
           "Gandia",
           36.61599
          ],
          [
           "Gestalgar",
           195.7673
          ],
          [
           "Gilet",
           146.7077
          ],
          [
           "Godella",
           49.22687
          ],
          [
           "Godelleta",
           265.5036
          ],
          [
           "Granja de la Costera, la",
           114.7557
          ],
          [
           "Guadassuar",
           33.0038
          ],
          [
           "Guardamar de la Safor",
           12
          ],
          [
           "Higueruelas",
           772.9467
          ],
          [
           "Jalance",
           447.1678
          ],
          [
           "Xeraco",
           13.36815
          ],
          [
           "Jarafuel",
           591.8452
          ],
          [
           "Xàtiva",
           118.2864
          ],
          [
           "Xeresa",
           34.05847
          ],
          [
           "Llíria",
           179.2893
          ],
          [
           "Loriguilla",
           112.4705
          ],
          [
           "Losa del Obispo",
           386.8517
          ],
          [
           "Llutxent",
           295.1466
          ],
          [
           "Llocnou d'En Fenollet",
           96.64848
          ],
          [
           "Llocnou de la Corona",
           6
          ],
          [
           "Llocnou de Sant Jeroni",
           153.7695
          ],
          [
           "Llanera de Ranes",
           145.5483
          ],
          [
           "Llaurí",
           17.93051
          ],
          [
           "Llombai",
           102.9383
          ],
          [
           "Llosa de Ranes, la",
           115.6288
          ],
          [
           "Macastre",
           372.9472
          ],
          [
           "Manises",
           51.54403
          ],
          [
           "Manuel",
           52.98642
          ],
          [
           "Marines",
           216.1194
          ],
          [
           "Massalfassar",
           15.84554
          ],
          [
           "Massamagrell",
           20.72736
          ],
          [
           "Massanassa",
           18.94774
          ],
          [
           "Meliana",
           17.93604
          ],
          [
           "Millares",
           363.7968
          ],
          [
           "Miramar",
           13.39062
          ],
          [
           "Mislata",
           33.95041
          ],
          [
           "Moncada",
           34.29377
          ],
          [
           "Montserrat",
           167.5811
          ],
          [
           "Montaverner",
           188.4312
          ],
          [
           "Montesa",
           286.9374
          ],
          [
           "Montitxelvo/Montichelvo",
           267.0021
          ],
          [
           "Museros",
           21.05551
          ],
          [
           "Navarrés",
           279.2114
          ],
          [
           "Oliva",
           32.63683
          ],
          [
           "Olocau",
           276.5376
          ],
          [
           "Olleria, l'",
           263.7793
          ],
          [
           "Ontinyent",
           357.7181
          ],
          [
           "Otos",
           326.1026
          ],
          [
           "Paiporta",
           25.99648
          ],
          [
           "Palma de Gandía",
           67.23204
          ],
          [
           "Palmera",
           25.12042
          ],
          [
           "Palomar, el",
           315.6286
          ],
          [
           "Paterna",
           59.44596
          ],
          [
           "Pedralba",
           157.6005
          ],
          [
           "Petrés",
           79.98814
          ],
          [
           "Picanya",
           29.60459
          ],
          [
           "Picassent",
           55.50201
          ],
          [
           "Piles",
           13.96428
          ],
          [
           "Pinet",
           352.6049
          ],
          [
           "Polinyà de Xúquer",
           15.4143
          ],
          [
           "Potries",
           66.22852
          ],
          [
           "Pobla de Farnals, la",
           17.41248
          ],
          [
           "Pobla del Duc, la",
           243.4341
          ],
          [
           "Puebla de San Miguel",
           1097.674
          ],
          [
           "Pobla de Vallbona, la",
           100.6849
          ],
          [
           "Pobla Llarga, la",
           35.54498
          ],
          [
           "Puçol",
           12.53519
          ],
          [
           "Quesa",
           223.3543
          ],
          [
           "Rafelcofer",
           36.06348
          ],
          [
           "Rafelguaraf",
           48.39763
          ],
          [
           "Ráfol de Salem",
           295.8902
          ],
          [
           "Requena",
           701.6198
          ],
          [
           "Riba-roja de Túria",
           100.1154
          ],
          [
           "Riola",
           12.24097
          ],
          [
           "Rocafort",
           40.4511
          ],
          [
           "Rotglà i Corberà",
           125.9154
          ],
          [
           "Rugat",
           294.8879
          ],
          [
           "Salem",
           371.894
          ],
          [
           "Sedaví",
           13.74977
          ],
          [
           "Segart",
           273.3418
          ],
          [
           "Sellent",
           82.35025
          ],
          [
           "Sempere",
           169.2104
          ],
          [
           "Senyera",
           42.80965
          ],
          [
           "Serra",
           354.7964
          ],
          [
           "Siete Aguas",
           706.5231
          ],
          [
           "Silla",
           13
          ],
          [
           "Simat de la Valldigna",
           59.11103
          ],
          [
           "Sinarcas",
           896.1122
          ],
          [
           "Sollana",
           6.460212
          ],
          [
           "Sot de Chera",
           345.3529
          ],
          [
           "Sueca",
           13.82494
          ],
          [
           "Sumacàrcer",
           59.70922
          ],
          [
           "Tavernes Blanques",
           17.46152
          ],
          [
           "Tavernes de la Valldigna",
           24.54434
          ],
          [
           "Teresa de Cofrentes",
           535.5968
          ],
          [
           "Terrateig",
           258.0876
          ],
          [
           "Titaguas",
           838.8098
          ],
          [
           "Torrebaja",
           744.5679
          ],
          [
           "Torrella",
           150.0653
          ],
          [
           "Torrent",
           51.56449
          ],
          [
           "Torres Torres",
           187.0952
          ],
          [
           "Tous",
           100.126
          ],
          [
           "Tuéjar",
           608.8101
          ],
          [
           "Turís",
           278.5063
          ],
          [
           "Utiel",
           740.0797
          ],
          [
           "València",
           23.3349
          ],
          [
           "Vallada",
           292.5007
          ],
          [
           "Vallanca",
           967.4936
          ],
          [
           "Vallés",
           118.1331
          ],
          [
           "Venta del Moro",
           720.7908
          ],
          [
           "Vilamarxant",
           106.5428
          ],
          [
           "Villar del Arzobispo",
           519.1837
          ],
          [
           "Villargordo del Cabriel",
           850.9744
          ],
          [
           "Vinalesa",
           27
          ],
          [
           "Yátova",
           441.8114
          ],
          [
           "Yesa, La",
           52.28455
          ],
          [
           "Zarra",
           576.0366
          ],
          [
           "Gátova",
           595.0809
          ],
          [
           "San Antonio de Benagéber",
           117.6917
          ],
          [
           "Benicull de Xúquer",
           24.44505
          ],
          [
           "Adalia",
           774.0638
          ],
          [
           "Aguasal",
           754.7618
          ],
          [
           "Aguilar de Campos",
           775.4413
          ],
          [
           "Alaejos",
           754.8231
          ],
          [
           "Alcazarén",
           739.1025
          ],
          [
           "Aldea de San Miguel",
           742.0247
          ],
          [
           "Aldeamayor de San Martín",
           705.3611
          ],
          [
           "Almenara de Adaja",
           780.494
          ],
          [
           "Amusquillo",
           775.3448
          ],
          [
           "Arroyo de la Encomienda",
           693.9595
          ],
          [
           "Ataquines",
           795.7349
          ],
          [
           "Bahabón",
           884.0493
          ],
          [
           "Barcial de la Loma",
           739.793
          ],
          [
           "Barruelo del Valle",
           821.5405
          ],
          [
           "Becilla de Valderaduey",
           735.9683
          ],
          [
           "Benafarces",
           737.5884
          ],
          [
           "Bercero",
           740.9147
          ],
          [
           "Berceruelo",
           775.9297
          ],
          [
           "Berrueces",
           770.9304
          ],
          [
           "Bobadilla del Campo",
           756.3861
          ],
          [
           "Bocigas",
           774.3849
          ],
          [
           "Bocos de Duero",
           756.6528
          ],
          [
           "Boecillo",
           725.8821
          ],
          [
           "Bolaños de Campos",
           712
          ],
          [
           "Brahojos de Medina",
           753.1693
          ],
          [
           "Bustillo de Chaves",
           817.1871
          ],
          [
           "Cabezón de Pisuerga",
           705.7026
          ],
          [
           "Cabezón de Valderaduey",
           756.4937
          ],
          [
           "Cabreros del Monte",
           729.8631
          ],
          [
           "Campaspero",
           901.7211
          ],
          [
           "Campillo, El",
           744.0497
          ],
          [
           "Camporredondo",
           803.1887
          ],
          [
           "Canalejas de Peñafiel",
           903.6031
          ],
          [
           "Canillas de Esgueva",
           810.6504
          ],
          [
           "Carpio",
           764.988
          ],
          [
           "Casasola de Arión",
           709.0289
          ],
          [
           "Castrejón de Trabancos",
           741.9911
          ],
          [
           "Castrillo de Duero",
           808.0878
          ],
          [
           "Castrillo-Tejeriego",
           790.9167
          ],
          [
           "Castrobol",
           773.2532
          ],
          [
           "Castrodeza",
           758.6043
          ],
          [
           "Castromembibre",
           783.701
          ],
          [
           "Castromonte",
           840.7011
          ],
          [
           "Castronuevo de Esgueva",
           756.0091
          ],
          [
           "Castronuño",
           679.5443
          ],
          [
           "Castroponce",
           739.4788
          ],
          [
           "Castroverde de Cerrato",
           781.6545
          ],
          [
           "Ceinos de Campos",
           764.9077
          ],
          [
           "Cervillego de la Cruz",
           756.5815
          ],
          [
           "Cigales",
           749.6985
          ],
          [
           "Ciguñuela",
           821.8818
          ],
          [
           "Cistérniga",
           737.3728
          ],
          [
           "Cogeces de Íscar",
           735.7125
          ],
          [
           "Cogeces del Monte",
           888.127
          ],
          [
           "Corcos",
           790.5931
          ],
          [
           "Corrales de Duero",
           815.4689
          ],
          [
           "Cubillas de Santa Marta",
           777.5655
          ],
          [
           "Cuenca de Campos",
           776.9031
          ],
          [
           "Curiel de Duero",
           791.8405
          ],
          [
           "Encinas de Esgueva",
           809.3292
          ],
          [
           "Esguevillas de Esgueva",
           781.1326
          ],
          [
           "Fombellida",
           796.8898
          ],
          [
           "Fompedraza",
           891.0166
          ],
          [
           "Fontihoyuelo",
           813.03
          ],
          [
           "Fresno el Viejo",
           761.5059
          ],
          [
           "Fuensaldaña",
           744.3545
          ],
          [
           "Fuente el Sol",
           759
          ],
          [
           "Fuente-Olmedo",
           795.1333
          ],
          [
           "Gallegos de Hornija",
           715.3704
          ],
          [
           "Gatón de Campos",
           760.637
          ],
          [
           "Geria",
           721.1685
          ],
          [
           "Herrín de Campos",
           776.4446
          ],
          [
           "Hornillos de Eresma",
           722.429
          ],
          [
           "Íscar",
           766.1356
          ],
          [
           "Laguna de Duero",
           704.4346
          ],
          [
           "Langayo",
           820.6713
          ],
          [
           "Lomoviejo",
           769.1982
          ],
          [
           "Llano de Olmedo",
           780.7407
          ],
          [
           "Manzanillo",
           793.6913
          ],
          [
           "Marzales",
           707.8522
          ],
          [
           "Matapozuelos",
           728.4459
          ],
          [
           "Matilla de los Caños",
           742.8641
          ],
          [
           "Mayorga",
           768.469
          ],
          [
           "Medina del Campo",
           723.588
          ],
          [
           "Medina de Rioseco",
           753.9636
          ],
          [
           "Megeces",
           743.8407
          ],
          [
           "Melgar de Abajo",
           806.2461
          ],
          [
           "Melgar de Arriba",
           793.4097
          ],
          [
           "Mojados",
           719.6595
          ],
          [
           "Monasterio de Vega",
           772.8459
          ],
          [
           "Montealegre de Campos",
           810.0027
          ],
          [
           "Montemayor de Pililla",
           868.4648
          ],
          [
           "Moral de la Reina",
           766.6082
          ],
          [
           "Moraleja de las Panaderas",
           731.7545
          ],
          [
           "Morales de Campos",
           748.6636
          ],
          [
           "Mota del Marqués",
           741.4532
          ],
          [
           "Mucientes",
           763.4631
          ],
          [
           "Mudarra, La",
           846.0627
          ],
          [
           "Muriel",
           777.2006
          ],
          [
           "Nava del Rey",
           746.9993
          ],
          [
           "Nueva Villa de las Torres",
           744.9686
          ],
          [
           "Olivares de Duero",
           743.037
          ],
          [
           "Olmedo",
           772.1889
          ],
          [
           "Olmos de Esgueva",
           732.9462
          ],
          [
           "Olmos de Peñafiel",
           790.216
          ],
          [
           "Palazuelo de Vedija",
           787.4673
          ],
          [
           "Parrilla, La",
           859.4028
          ],
          [
           "Pedraja de Portillo, La",
           719.7362
          ],
          [
           "Pedrajas de San Esteban",
           754
          ],
          [
           "Pedrosa del Rey",
           720.1923
          ],
          [
           "Peñafiel",
           760.3983
          ],
          [
           "Peñaflor de Hornija",
           840.8401
          ],
          [
           "Pesquera de Duero",
           747.1731
          ],
          [
           "Piña de Esgueva",
           749.317
          ],
          [
           "Piñel de Abajo",
           786.3028
          ],
          [
           "Piñel de Arriba",
           830.6583
          ],
          [
           "Pollos",
           669.3666
          ],
          [
           "Portillo",
           847.6613
          ],
          [
           "Pozal de Gallinas",
           728.573
          ],
          [
           "Pozaldez",
           790.4047
          ],
          [
           "Pozuelo de la Orden",
           724.2658
          ],
          [
           "Puras",
           803.8533
          ],
          [
           "Quintanilla de Arriba",
           741.261
          ],
          [
           "Quintanilla del Molar",
           747.7817
          ],
          [
           "Quintanilla de Onésimo",
           728.6448
          ],
          [
           "Quintanilla de Trigueros",
           795.2899
          ],
          [
           "Rábano",
           780.519
          ],
          [
           "Ramiro",
           760.1485
          ],
          [
           "Renedo de Esgueva",
           714
          ],
          [
           "Roales de Campos",
           743.9281
          ],
          [
           "Robladillo",
           773.9286
          ],
          [
           "Roturas",
           824.9166
          ],
          [
           "Rubí de Bracamonte",
           754.1117
          ],
          [
           "Rueda",
           736.6745
          ],
          [
           "Saelices de Mayorga",
           769.856
          ],
          [
           "Salvador de Zapardiel",
           771.4283
          ],
          [
           "San Cebrián de Mazote",
           763.8837
          ],
          [
           "San Llorente",
           881.8113
          ],
          [
           "San Martín de Valvení",
           736.2048
          ],
          [
           "San Miguel del Arroyo",
           823.384
          ],
          [
           "San Miguel del Pino",
           677.4659
          ],
          [
           "San Pablo de la Moraleja",
           795.316
          ],
          [
           "San Pedro de Latarce",
           708.7725
          ],
          [
           "San Pelayo",
           772.2509
          ],
          [
           "San Román de Hornija",
           672.574
          ],
          [
           "San Salvador",
           722.0958
          ],
          [
           "Santa Eufemia del Arroyo",
           714.4111
          ],
          [
           "Santervás de Campos",
           767.0978
          ],
          [
           "Santibáñez de Valcorba",
           749.9538
          ],
          [
           "Santovenia de Pisuerga",
           695.9589
          ],
          [
           "San Vicente del Palacio",
           747
          ],
          [
           "Sardón de Duero",
           720.0624
          ],
          [
           "Seca, La",
           733.1006
          ],
          [
           "Serrada",
           726.9307
          ],
          [
           "Siete Iglesias de Trabancos",
           726.464
          ],
          [
           "Simancas",
           715.7623
          ],
          [
           "Tamariz de Campos",
           750.1976
          ],
          [
           "Tiedra",
           821.9064
          ],
          [
           "Tordehumos",
           753.7995
          ],
          [
           "Tordesillas",
           700.5994
          ],
          [
           "Torrecilla de la Abadesa",
           685.116
          ],
          [
           "Torrecilla de la Orden",
           776.2607
          ],
          [
           "Torrecilla de la Torre",
           755.2628
          ],
          [
           "Torre de Esgueva",
           810.9865
          ],
          [
           "Torre de Peñafiel",
           792.0806
          ],
          [
           "Torrelobatón",
           750.7936
          ],
          [
           "Torrescárcela",
           891.451
          ],
          [
           "Traspinedo",
           736.7956
          ],
          [
           "Trigueros del Valle",
           762.3388
          ],
          [
           "Tudela de Duero",
           708.5769
          ],
          [
           "Unión de Campos, La",
           767.1444
          ],
          [
           "Urones de Castroponce",
           751.2286
          ],
          [
           "Urueña",
           832.098
          ],
          [
           "Valbuena de Duero",
           734.545
          ],
          [
           "Valdearcos de la Vega",
           783.0189
          ],
          [
           "Valdenebro de los Valles",
           808.7703
          ],
          [
           "Valdestillas",
           703
          ],
          [
           "Valdunquillo",
           742.0706
          ],
          [
           "Valoria la Buena",
           730.0471
          ],
          [
           "Valverde de Campos",
           770.9928
          ],
          [
           "Valladolid",
           699.4927
          ],
          [
           "Vega de Ruiponce",
           751.2102
          ],
          [
           "Vega de Valdetronco",
           712.2534
          ],
          [
           "Velascálvaro",
           744.2465
          ],
          [
           "Velilla",
           784.9809
          ],
          [
           "Velliza",
           776.5533
          ],
          [
           "Ventosa de la Cuesta",
           764.8138
          ],
          [
           "Viana de Cega",
           691.8729
          ],
          [
           "Viloria",
           873.8669
          ],
          [
           "Villabáñez",
           740.6144
          ],
          [
           "Villabaruz de Campos",
           751.3663
          ],
          [
           "Villabrágima",
           727.4385
          ],
          [
           "Villacarralón",
           790.7327
          ],
          [
           "Villacid de Campos",
           779.7687
          ],
          [
           "Villaco",
           783.8756
          ],
          [
           "Villafrades de Campos",
           763.1504
          ],
          [
           "Villafranca de Duero",
           657
          ],
          [
           "Villafrechós",
           744.8799
          ],
          [
           "Villafuerte",
           819.951
          ],
          [
           "Villagarcía de Campos",
           719.0961
          ],
          [
           "Villagómez la Nueva",
           754.6724
          ],
          [
           "Villalán de Campos",
           755.7052
          ],
          [
           "Villalar de los Comuneros",
           710.9124
          ],
          [
           "Villalba de la Loma",
           769.6681
          ],
          [
           "Villalba de los Alcores",
           847.8523
          ],
          [
           "Villalbarba",
           719.6545
          ],
          [
           "Villalón de Campos",
           788.3907
          ],
          [
           "Villamuriel de Campos",
           738.6995
          ],
          [
           "Villán de Tordesillas",
           751.797
          ],
          [
           "Villanubla",
           842.8672
          ],
          [
           "Villanueva de Duero",
           691.0079
          ],
          [
           "Villanueva de la Condesa",
           786.3748
          ],
          [
           "Villanueva de los Caballeros",
           712.459
          ],
          [
           "Villanueva de los Infantes",
           743.701
          ],
          [
           "Villanueva de San Mancio",
           744.4049
          ],
          [
           "Villardefrades",
           726.2296
          ],
          [
           "Villarmentero de Esgueva",
           729.276
          ],
          [
           "Villasexmir",
           725.1
          ],
          [
           "Villavaquerín",
           765.7326
          ],
          [
           "Villavellid",
           770.2872
          ],
          [
           "Villaverde de Medina",
           733.2005
          ],
          [
           "Villavicencio de los Caballeros",
           722.9398
          ],
          [
           "Wamba",
           787.3964
          ],
          [
           "Zaratán",
           752.6955
          ],
          [
           "Zarza, La",
           758.8602
          ],
          [
           "Abezames",
           734.649
          ],
          [
           "Alcañices",
           800.8787
          ],
          [
           "Alcubilla de Nogales",
           780.9072
          ],
          [
           "Alfaraz de Sayago",
           823.1807
          ],
          [
           "Algodre",
           660.188
          ],
          [
           "Almaraz de Duero",
           724.4616
          ],
          [
           "Almeida de Sayago",
           788.2532
          ],
          [
           "Andavías",
           700.6663
          ],
          [
           "Arcenillas",
           701.8715
          ],
          [
           "Arcos de la Polvorosa",
           701.8065
          ],
          [
           "Argañín",
           741.4979
          ],
          [
           "Argujillo",
           767.8745
          ],
          [
           "Arquillinos",
           670.2195
          ],
          [
           "Arrabalde",
           774.8352
          ],
          [
           "Aspariegos",
           670.0681
          ],
          [
           "Asturianos",
           968.9544
          ],
          [
           "Ayoó de Vidriales",
           796.757
          ],
          [
           "Barcial del Barco",
           716.0553
          ],
          [
           "Belver de los Montes",
           691.9913
          ],
          [
           "Benavente",
           723.4604
          ],
          [
           "Benegiles",
           647
          ],
          [
           "Bermillo de Sayago",
           794.7465
          ],
          [
           "Bretó",
           695.636
          ],
          [
           "Bretocino",
           714.0786
          ],
          [
           "Brime de Sog",
           764.0367
          ],
          [
           "Brime de Urz",
           719.4198
          ],
          [
           "Burganes de Valverde",
           709.8783
          ],
          [
           "Bustillo del Oro",
           705.8235
          ],
          [
           "Cabañas de Sayago",
           766.5292
          ],
          [
           "Calzadilla de Tera",
           752.9898
          ],
          [
           "Camarzana de Tera",
           736.6218
          ],
          [
           "Cañizal",
           789.5921
          ],
          [
           "Cañizo",
           676.3501
          ],
          [
           "Carbajales de Alba",
           757.5706
          ],
          [
           "Carbellino",
           766.8657
          ],
          [
           "Casaseca de Campeán",
           762.1086
          ],
          [
           "Casaseca de las Chanas",
           711.7141
          ],
          [
           "Castrillo de la Guareña",
           735.9915
          ],
          [
           "Castrogonzalo",
           729.8262
          ],
          [
           "Castronuevo",
           690.7584
          ],
          [
           "Castroverde de Campos",
           709.8859
          ],
          [
           "Cazurra",
           727.3829
          ],
          [
           "Cerecinos de Campos",
           699.6163
          ],
          [
           "Cerecinos del Carrizal",
           684.9042
          ],
          [
           "Cernadilla",
           909.2853
          ],
          [
           "Cobreros",
           1001.473
          ],
          [
           "Coomonte",
           734.2988
          ],
          [
           "Coreses",
           648.8304
          ],
          [
           "Cotanes del Monte",
           716.3132
          ],
          [
           "Cubillos",
           670
          ],
          [
           "Cubo de Benavente",
           812.4978
          ],
          [
           "Cubo de Tierra del Vino, El",
           841.0046
          ],
          [
           "Cuelgamures",
           806.4151
          ],
          [
           "Entrala",
           705.7349
          ],
          [
           "Espadañedo",
           1036.841
          ],
          [
           "Faramontanos de Tábara",
           724.9462
          ],
          [
           "Fariza",
           699.1072
          ],
          [
           "Fermoselle",
           678.808
          ],
          [
           "Ferreras de Abajo",
           822.2217
          ],
          [
           "Ferreras de Arriba",
           898.3244
          ],
          [
           "Ferreruela",
           830.2149
          ],
          [
           "Figueruela de Arriba",
           860.8643
          ],
          [
           "Fonfría",
           826.7355
          ],
          [
           "Fresno de la Polvorosa",
           723.4755
          ],
          [
           "Fresno de la Ribera",
           655.308
          ],
          [
           "Fresno de Sayago",
           800.6821
          ],
          [
           "Friera de Valverde",
           718.6683
          ],
          [
           "Fuente Encalada",
           755.1226
          ],
          [
           "Fuentelapeña",
           744.6506
          ],
          [
           "Fuentesaúco",
           805
          ],
          [
           "Fuentes de Ropel",
           721.5773
          ],
          [
           "Fuentesecas",
           771.0013
          ],
          [
           "Fuentespreadas",
           763.1371
          ],
          [
           "Galende",
           964.0846
          ],
          [
           "Gallegos del Pan",
           692.2368
          ],
          [
           "Gallegos del Río",
           717.4845
          ],
          [
           "Gamones",
           753.5652
          ],
          [
           "Gema",
           712.2343
          ],
          [
           "Granja de Moreruela",
           715.2015
          ],
          [
           "Granucillo",
           725.7559
          ],
          [
           "Guarrate",
           728.3583
          ],
          [
           "Hermisende",
           838.3806
          ],
          [
           "Hiniesta, La",
           695.3338
          ],
          [
           "Jambrina",
           708.1685
          ],
          [
           "Justel",
           987.8643
          ],
          [
           "Losacino",
           696.3899
          ],
          [
           "Losacio",
           749.7023
          ],
          [
           "Lubián",
           1034.373
          ],
          [
           "Luelmo",
           774.9664
          ],
          [
           "Maderal, El",
           832.0909
          ],
          [
           "Madridanos",
           650
          ],
          [
           "Mahide",
           824.5887
          ],
          [
           "Maire de Castroponce",
           738.4753
          ],
          [
           "Malva",
           716.3611
          ],
          [
           "Manganeses de la Lampreana",
           704.8086
          ],
          [
           "Manganeses de la Polvorosa",
           721.1735
          ],
          [
           "Manzanal de Arriba",
           891.8854
          ],
          [
           "Manzanal del Barco",
           710.2052
          ],
          [
           "Manzanal de los Infantes",
           922.5501
          ],
          [
           "Matilla de Arzón",
           741.0653
          ],
          [
           "Matilla la Seca",
           740.5352
          ],
          [
           "Mayalde",
           871.8036
          ],
          [
           "Melgar de Tera",
           747.1895
          ],
          [
           "Micereces de Tera",
           719.7667
          ],
          [
           "Milles de la Polvorosa",
           704.9008
          ],
          [
           "Molacillos",
           639.7747
          ],
          [
           "Molezuelas de la Carballeda",
           803.29
          ],
          [
           "Mombuey",
           892.9008
          ],
          [
           "Monfarracinos",
           643.5111
          ],
          [
           "Montamarta",
           693.1759
          ],
          [
           "Moral de Sayago",
           745.4995
          ],
          [
           "Moraleja del Vino",
           686
          ],
          [
           "Moraleja de Sayago",
           796.6891
          ],
          [
           "Morales del Vino",
           699.6177
          ],
          [
           "Morales de Rey",
           724.2993
          ],
          [
           "Morales de Toro",
           706.527
          ],
          [
           "Morales de Valverde",
           724.1026
          ],
          [
           "Moralina",
           764.3427
          ],
          [
           "Moreruela de los Infanzones",
           671.5699
          ],
          [
           "Moreruela de Tábara",
           698
          ],
          [
           "Muelas de los Caballeros",
           994.2617
          ],
          [
           "Muelas del Pan",
           765.3066
          ],
          [
           "Muga de Sayago",
           788.1932
          ],
          [
           "Navianos de Valverde",
           710.5422
          ],
          [
           "Olmillos de Castro",
           770.5227
          ],
          [
           "Otero de Bodas",
           827.4964
          ],
          [
           "Pajares de la Lampreana",
           692.6044
          ],
          [
           "Palacios del Pan",
           719.6092
          ],
          [
           "Palacios de Sanabria",
           964.4566
          ],
          [
           "Pedralba de la Pradería",
           992.087
          ],
          [
           "Pego, El",
           760.7218
          ],
          [
           "Peleagonzalo",
           648.9901
          ],
          [
           "Peleas de Abajo",
           711.8881
          ],
          [
           "Peñausende",
           868.9768
          ],
          [
           "Peque",
           851.3065
          ],
          [
           "Perdigón, El",
           732.0176
          ],
          [
           "Pereruela",
           768.8405
          ],
          [
           "Perilla de Castro",
           723.7376
          ],
          [
           "Pías",
           1049.735
          ],
          [
           "Piedrahita de Castro",
           700.9993
          ],
          [
           "Pinilla de Toro",
           764.5831
          ],
          [
           "Pino del Oro",
           738.6063
          ],
          [
           "Piñero, El",
           744.402
          ],
          [
           "Pobladura del Valle",
           738.1398
          ],
          [
           "Pobladura de Valderaduey",
           668.3034
          ],
          [
           "Porto",
           1207.48
          ],
          [
           "Pozoantiguo",
           713.8331
          ],
          [
           "Pozuelo de Tábara",
           702.0159
          ],
          [
           "Prado",
           712.8901
          ],
          [
           "Puebla de Sanabria",
           937.181
          ],
          [
           "Pueblica de Valverde",
           727.9575
          ],
          [
           "Quintanilla del Monte",
           694.7986
          ],
          [
           "Quintanilla del Olmo",
           695.5483
          ],
          [
           "Quintanilla de Urz",
           716.7808
          ],
          [
           "Quiruelas de Vidriales",
           714.9902
          ],
          [
           "Rabanales",
           840.1841
          ],
          [
           "Rábano de Aliste",
           804.8948
          ],
          [
           "Requejo",
           991.0104
          ],
          [
           "Revellinos",
           697
          ],
          [
           "Riofrío de Aliste",
           791.1357
          ],
          [
           "Rionegro del Puente",
           801.0129
          ],
          [
           "Roales",
           743.9281
          ],
          [
           "Robleda-Cervantes",
           1019.21
          ],
          [
           "Roelos de Sayago",
           774.9606
          ],
          [
           "Rosinos de la Requejada",
           1012.096
          ],
          [
           "Salce",
           747.0807
          ],
          [
           "Samir de los Caños",
           792.2667
          ],
          [
           "San Agustín del Pozo",
           695.4661
          ],
          [
           "San Cebrián de Castro",
           689.8808
          ],
          [
           "San Cristóbal de Entreviñas",
           716.2618
          ],
          [
           "San Esteban del Molar",
           732.3524
          ],
          [
           "San Justo",
           1075.053
          ],
          [
           "San Martín de Valderaduey",
           686.815
          ],
          [
           "San Miguel de la Ribera",
           753.823
          ],
          [
           "San Miguel del Valle",
           738.6041
          ],
          [
           "San Pedro de Ceque",
           761.2156
          ],
          [
           "San Pedro de la Nave-Almendra",
           712.9648
          ],
          [
           "Santa Clara de Avedillo",
           772.0454
          ],
          [
           "Santa Colomba de las Monjas",
           702.0335
          ],
          [
           "Santa Cristina de la Polvorosa",
           709.6334
          ],
          [
           "Santa Croya de Tera",
           725
          ],
          [
           "Santa Eufemia del Barco",
           712.1947
          ],
          [
           "Santa María de la Vega",
           730.9682
          ],
          [
           "Santa María de Valverde",
           733.6366
          ],
          [
           "Santibáñez de Tera",
           729.7665
          ],
          [
           "Santibáñez de Vidriales",
           743.3671
          ],
          [
           "Santovenia",
           714.5436
          ],
          [
           "San Vicente de la Cabeza",
           756.4977
          ],
          [
           "San Vitero",
           865.2906
          ],
          [
           "Sanzoles",
           719.1744
          ],
          [
           "Tábara",
           751.6248
          ],
          [
           "Tapioles",
           688.6124
          ],
          [
           "Toro",
           730.0003
          ],
          [
           "Torregamones",
           784.8227
          ],
          [
           "Torres del Carrizal",
           648
          ],
          [
           "Trabazos",
           728.6976
          ],
          [
           "Trefacio",
           976.9877
          ],
          [
           "Uña de Quintana",
           782.5795
          ],
          [
           "Vadillo de la Guareña",
           717.0134
          ],
          [
           "Valcabado",
           682.3292
          ],
          [
           "Valdefinjas",
           722.6641
          ],
          [
           "Valdescorriel",
           734.973
          ],
          [
           "Vallesa de la Guareña",
           765.7673
          ],
          [
           "Vega de Tera",
           763.4651
          ],
          [
           "Vega de Villalobos",
           732.9785
          ],
          [
           "Vegalatrave",
           692.9553
          ],
          [
           "Venialbo",
           714.8421
          ],
          [
           "Vezdemarbán",
           767.9186
          ],
          [
           "Vidayanes",
           704.1667
          ],
          [
           "Videmala",
           776.7166
          ],
          [
           "Villabrázaro",
           726.3007
          ],
          [
           "Villabuena del Puente",
           702.1939
          ],
          [
           "Villadepera",
           726.3047
          ],
          [
           "Villaescusa",
           824.9127
          ],
          [
           "Villafáfila",
           688.5735
          ],
          [
           "Villaferrueña",
           744.5328
          ],
          [
           "Villageriz",
           775.0306
          ],
          [
           "Villalazán",
           660.7059
          ],
          [
           "Villalba de la Lampreana",
           683.9111
          ],
          [
           "Villalcampo",
           784.3217
          ],
          [
           "Villalobos",
           725.785
          ],
          [
           "Villalonso",
           722.1978
          ],
          [
           "Villalpando",
           693.7587
          ],
          [
           "Villalube",
           733.0415
          ],
          [
           "Villamayor de Campos",
           695.6239
          ],
          [
           "Villamor de los Escuderos",
           836.3304
          ],
          [
           "Villanázar",
           709.184
          ],
          [
           "Villanueva de Azoague",
           703.6188
          ],
          [
           "Villanueva de Campeán",
           760.7177
          ],
          [
           "Villanueva de las Peras",
           746.8168
          ],
          [
           "Villanueva del Campo",
           757.225
          ],
          [
           "Villaralbo",
           636.7354
          ],
          [
           "Villardeciervos",
           855.7898
          ],
          [
           "Villar de Fallaves",
           696.1533
          ],
          [
           "Villar del Buey",
           776.983
          ],
          [
           "Villardiegua de la Ribera",
           764.6822
          ],
          [
           "Villárdiga",
           684.5942
          ],
          [
           "Villardondiego",
           736.6719
          ],
          [
           "Villarrín de Campos",
           685.7974
          ],
          [
           "Villaseco del Pan",
           753.9724
          ],
          [
           "Villavendimio",
           726.9139
          ],
          [
           "Villaveza del Agua",
           702.1813
          ],
          [
           "Villaveza de Valverde",
           711.7657
          ],
          [
           "Viñas",
           752.655
          ],
          [
           "Zamora",
           657.1658
          ],
          [
           "Abanto",
           922.4666
          ],
          [
           "Acered",
           835.0305
          ],
          [
           "Agón",
           321.5412
          ],
          [
           "Aguarón",
           667.286
          ],
          [
           "Aguilón",
           689.9364
          ],
          [
           "Ainzón",
           434.0218
          ],
          [
           "Aladrén",
           780.4907
          ],
          [
           "Alagón",
           238.9708
          ],
          [
           "Alarba",
           848.114
          ],
          [
           "Alberite de San Juan",
           377.7354
          ],
          [
           "Albeta",
           421.3977
          ],
          [
           "Alborge",
           158.166
          ],
          [
           "Alcalá de Ebro",
           222.1754
          ],
          [
           "Alcalá de Moncayo",
           754.1453
          ],
          [
           "Alconchel de Ariza",
           889.6893
          ],
          [
           "Aldehuela de Liestos",
           993.9887
          ],
          [
           "Alfajarín",
           196.5611
          ],
          [
           "Alfamén",
           447.2267
          ],
          [
           "Alforque",
           164.0169
          ],
          [
           "Alhama de Aragón",
           663.7305
          ],
          [
           "Almochuel",
           275.4481
          ],
          [
           "Almolda, La",
           460.9749
          ],
          [
           "Almonacid de la Cuba",
           483.7066
          ],
          [
           "Almonacid de la Sierra",
           605.9109
          ],
          [
           "Almunia de Doña Godina, La",
           371.3371
          ],
          [
           "Alpartir",
           507.0749
          ],
          [
           "Ambel",
           587.8949
          ],
          [
           "Anento",
           927.0677
          ],
          [
           "Aniñón",
           713.344
          ],
          [
           "Añón de Moncayo",
           830.1616
          ],
          [
           "Aranda de Moncayo",
           905.0275
          ],
          [
           "Arándiga",
           464.0809
          ],
          [
           "Ardisa",
           422.0101
          ],
          [
           "Ariza",
           713.859
          ],
          [
           "Artieda",
           630.9939
          ],
          [
           "Asín",
           583.3365
          ],
          [
           "Atea",
           846.9442
          ],
          [
           "Ateca",
           599.9296
          ],
          [
           "Azuara",
           580.366
          ],
          [
           "Badules",
           918.8503
          ],
          [
           "Bagüés",
           808.4211
          ],
          [
           "Balconchán",
           890.5054
          ],
          [
           "Bárboles",
           260.1506
          ],
          [
           "Bardallur",
           284.6658
          ],
          [
           "Belchite",
           443.8954
          ],
          [
           "Belmonte de Gracián",
           705.7676
          ],
          [
           "Berdejo",
           969.7459
          ],
          [
           "Berrueco",
           1093.496
          ],
          [
           "Bijuesca",
           927.1331
          ],
          [
           "Biota",
           490.6575
          ],
          [
           "Bisimbre",
           321.3621
          ],
          [
           "Boquiñeni",
           227.7671
          ],
          [
           "Bordalba",
           933.4196
          ],
          [
           "Borja",
           452.7229
          ],
          [
           "Botorrita",
           376.1743
          ],
          [
           "Brea de Aragón",
           575.503
          ],
          [
           "Bubierca",
           654.7245
          ],
          [
           "Bujaraloz",
           329.2621
          ],
          [
           "Bulbuente",
           519.8422
          ],
          [
           "Bureta",
           409.647
          ],
          [
           "Burgo de Ebro, El",
           186
          ],
          [
           "Buste, El",
           682.9518
          ],
          [
           "Cabañas de Ebro",
           218.6309
          ],
          [
           "Cabolafuente",
           945.4361
          ],
          [
           "Cadrete",
           305.3771
          ],
          [
           "Calatayud",
           541.744
          ],
          [
           "Calatorao",
           344.1744
          ],
          [
           "Calcena",
           856.4086
          ],
          [
           "Calmarza",
           841.7386
          ],
          [
           "Campillo de Aragón",
           1050.241
          ],
          [
           "Carenas",
           662.4408
          ],
          [
           "Cariñena",
           600.7257
          ],
          [
           "Caspe",
           162.4285
          ],
          [
           "Castejón de Alarba",
           927.9485
          ],
          [
           "Castejón de las Armas",
           604.1856
          ],
          [
           "Castejón de Valdejasa",
           525.1101
          ],
          [
           "Castiliscar",
           483.1245
          ],
          [
           "Cervera de la Cañada",
           677.2734
          ],
          [
           "Cerveruela",
           807.4222
          ],
          [
           "Cetina",
           693.1022
          ],
          [
           "Cimballa",
           913.0313
          ],
          [
           "Cinco Olivas",
           154.3324
          ],
          [
           "Clarés de Ribota",
           948.5849
          ],
          [
           "Codo",
           342.8191
          ],
          [
           "Codos",
           748.881
          ],
          [
           "Contamina",
           668.5798
          ],
          [
           "Cosuenda",
           632.6768
          ],
          [
           "Cuarte de Huerva",
           268.2757
          ],
          [
           "Cubel",
           1107.119
          ],
          [
           "Cuerlas, Las",
           1006.177
          ],
          [
           "Chiprana",
           152.1577
          ],
          [
           "Chodes",
           413.5298
          ],
          [
           "Daroca",
           783.9178
          ],
          [
           "Ejea de los Caballeros",
           343.5083
          ],
          [
           "Embid de Ariza",
           780.9568
          ],
          [
           "Encinacorba",
           756.7845
          ],
          [
           "Épila",
           313.3686
          ],
          [
           "Erla",
           430.376
          ],
          [
           "Escatrón",
           144.0067
          ],
          [
           "Fabara",
           237.3806
          ],
          [
           "Farlete",
           410.4063
          ],
          [
           "Fayón",
           196.4334
          ],
          [
           "Fayos, Los",
           561.1594
          ],
          [
           "Figueruelas",
           255.9903
          ],
          [
           "Fombuena",
           1015.665
          ],
          [
           "Frago, El",
           595.4272
          ],
          [
           "Frasno, El",
           681.258
          ],
          [
           "Fréscano",
           302.2807
          ],
          [
           "Fuendejalón",
           470.615
          ],
          [
           "Fuendetodos",
           751.9825
          ],
          [
           "Fuentes de Ebro",
           192.7446
          ],
          [
           "Fuentes de Jiloca",
           687.3452
          ],
          [
           "Gallocanta",
           1020.754
          ],
          [
           "Gallur",
           243.1283
          ],
          [
           "Gelsa",
           153.7756
          ],
          [
           "Godojos",
           764.7232
          ],
          [
           "Gotor",
           607.3821
          ],
          [
           "Grisel",
           623.9782
          ],
          [
           "Grisén",
           246.7064
          ],
          [
           "Herrera de los Navarros",
           815.6729
          ],
          [
           "Ibdes",
           741.9872
          ],
          [
           "Illueca",
           589.6152
          ],
          [
           "Isuerre",
           640.5793
          ],
          [
           "Jaraba",
           763.7606
          ],
          [
           "Jaulín",
           516.2281
          ],
          [
           "Joyosa, La",
           216.2196
          ],
          [
           "Lagata",
           526.7678
          ],
          [
           "Langa del Castillo",
           882.7292
          ],
          [
           "Layana",
           484.5312
          ],
          [
           "Lécera",
           531.8742
          ],
          [
           "Leciñena",
           418.5828
          ],
          [
           "Lechón",
           985.0991
          ],
          [
           "Letux",
           517.6309
          ],
          [
           "Litago",
           780.5075
          ],
          [
           "Lituénigo",
           763.7889
          ],
          [
           "Lobera de Onsella",
           658.759
          ],
          [
           "Longares",
           535.3199
          ],
          [
           "Longás",
           739.2802
          ],
          [
           "Lucena de Jalón",
           347.0133
          ],
          [
           "Luceni",
           234.3191
          ],
          [
           "Luesia",
           804.2617
          ],
          [
           "Luesma",
           943.9291
          ],
          [
           "Lumpiaque",
           314.7662
          ],
          [
           "Luna",
           467.4077
          ],
          [
           "Maella",
           285.3151
          ],
          [
           "Magallón",
           395.1459
          ],
          [
           "Mainar",
           868.0479
          ],
          [
           "Malanquilla",
           1046.061
          ],
          [
           "Maleján",
           466.0901
          ],
          [
           "Malón",
           427.1692
          ],
          [
           "Maluenda",
           595.9858
          ],
          [
           "Mallén",
           287.8513
          ],
          [
           "Manchones",
           740.1449
          ],
          [
           "Mara",
           691.8807
          ],
          [
           "María de Huerva",
           332.9163
          ],
          [
           "Mediana de Aragón",
           289.3042
          ],
          [
           "Mequinenza",
           92.34655
          ],
          [
           "Mesones de Isuela",
           538.4012
          ],
          [
           "Mezalocha",
           491.086
          ],
          [
           "Mianos",
           651.1317
          ],
          [
           "Miedes de Aragón",
           771.8868
          ],
          [
           "Monegrillo",
           441.6924
          ],
          [
           "Moneva",
           652.3671
          ],
          [
           "Monreal de Ariza",
           751.1902
          ],
          [
           "Monterde",
           804.4403
          ],
          [
           "Montón",
           693.9522
          ],
          [
           "Morata de Jalón",
           421.1948
          ],
          [
           "Morata de Jiloca",
           625.0764
          ],
          [
           "Morés",
           457.6555
          ],
          [
           "Moros",
           704.5184
          ],
          [
           "Moyuela",
           745.7245
          ],
          [
           "Mozota",
           397.1876
          ],
          [
           "Muel",
           434.2508
          ],
          [
           "Muela, La",
           595.3652
          ],
          [
           "Munébrega",
           747.0544
          ],
          [
           "Murero",
           713.1721
          ],
          [
           "Murillo de Gállego",
           530.8543
          ],
          [
           "Navardún",
           493.5045
          ],
          [
           "Nigüella",
           497.1727
          ],
          [
           "Nombrevilla",
           908.814
          ],
          [
           "Nonaspe",
           176.9074
          ],
          [
           "Novallas",
           431.939
          ],
          [
           "Novillas",
           240.4928
          ],
          [
           "Nuévalos",
           717.2357
          ],
          [
           "Nuez de Ebro",
           181.9229
          ],
          [
           "Olvés",
           783.3309
          ],
          [
           "Orcajo",
           926.5969
          ],
          [
           "Orera",
           738.5802
          ],
          [
           "Orés",
           645.9177
          ],
          [
           "Oseja",
           825.8478
          ],
          [
           "Osera de Ebro",
           174.2535
          ],
          [
           "Paniza",
           707.4536
          ],
          [
           "Paracuellos de Jiloca",
           570.9234
          ],
          [
           "Paracuellos de la Ribera",
           459.8566
          ],
          [
           "Pastriz",
           186.568
          ],
          [
           "Pedrola",
           234.6053
          ],
          [
           "Pedrosas, Las",
           459.5541
          ],
          [
           "Perdiguera",
           467.8797
          ],
          [
           "Piedratajada",
           420.7992
          ],
          [
           "Pina de Ebro",
           160.1591
          ],
          [
           "Pinseque",
           229.0275
          ],
          [
           "Pintanos, Los",
           788.4658
          ],
          [
           "Plasencia de Jalón",
           276.0325
          ],
          [
           "Pleitas",
           259.7592
          ],
          [
           "Plenas",
           813.9236
          ],
          [
           "Pomer",
           1119.364
          ],
          [
           "Pozuel de Ariza",
           775.4199
          ],
          [
           "Pozuelo de Aragón",
           412.067
          ],
          [
           "Pradilla de Ebro",
           228.6879
          ],
          [
           "Puebla de Albortón",
           476.9889
          ],
          [
           "Puebla de Alfindén, La",
           192.6578
          ],
          [
           "Puendeluna",
           392.1512
          ],
          [
           "Purujosa",
           951.7919
          ],
          [
           "Quinto",
           174.2326
          ],
          [
           "Remolinos",
           230.4963
          ],
          [
           "Retascón",
           888.5198
          ],
          [
           "Ricla",
           369.2624
          ],
          [
           "Romanos",
           948.4423
          ],
          [
           "Rueda de Jalón",
           316.6192
          ],
          [
           "Ruesca",
           760.8224
          ],
          [
           "Sádaba",
           445.3837
          ],
          [
           "Salillas de Jalón",
           334.7121
          ],
          [
           "Salvatierra de Esca",
           585.1468
          ],
          [
           "Samper del Salz",
           535.9286
          ],
          [
           "San Martín de la Virgen de Moncayo",
           819.6014
          ],
          [
           "San Mateo de Gállego",
           281.4621
          ],
          [
           "Santa Cruz de Grío",
           636.499
          ],
          [
           "Santa Cruz de Moncayo",
           627.8763
          ],
          [
           "Santa Eulalia de Gállego",
           501.9988
          ],
          [
           "Santed",
           1060.648
          ],
          [
           "Sástago",
           149.263
          ],
          [
           "Sabiñán",
           451.3482
          ],
          [
           "Sediles",
           735.8391
          ],
          [
           "Sestrica",
           566.4533
          ],
          [
           "Sierra de Luna",
           458.6502
          ],
          [
           "Sigüés",
           519.9214
          ],
          [
           "Sisamón",
           1027.812
          ],
          [
           "Sobradiel",
           207.2028
          ],
          [
           "Sos del Rey Católico",
           631.5082
          ],
          [
           "Tabuenca",
           773.7258
          ],
          [
           "Talamantes",
           873.8474
          ],
          [
           "Tarazona",
           487.6725
          ],
          [
           "Tauste",
           274.6931
          ],
          [
           "Terrer",
           561.5784
          ],
          [
           "Tierga",
           631.0844
          ],
          [
           "Tobed",
           659.6277
          ],
          [
           "Torralba de los Frailes",
           1095.4
          ],
          [
           "Torralba de Ribota",
           647.3879
          ],
          [
           "Torralbilla",
           883.6472
          ],
          [
           "Torrehermosa",
           844.7177
          ],
          [
           "Torrelapaja",
           991.0995
          ],
          [
           "Torrellas",
           570.2052
          ],
          [
           "Torres de Berrellén",
           215.0211
          ],
          [
           "Torrijo de la Cañada",
           794.6323
          ],
          [
           "Tosos",
           584.2983
          ],
          [
           "Trasmoz",
           726.384
          ],
          [
           "Trasobares",
           671.2911
          ],
          [
           "Uncastillo",
           621.2198
          ],
          [
           "Undués de Lerda",
           622.4462
          ],
          [
           "Urrea de Jalón",
           287.5544
          ],
          [
           "Urriés",
           552.7125
          ],
          [
           "Used",
           1044.506
          ],
          [
           "Utebo",
           208.7015
          ],
          [
           "Valdehorna",
           879.848
          ],
          [
           "Val de San Martín",
           981.3766
          ],
          [
           "Valmadrid",
           523.022
          ],
          [
           "Valpalmas",
           492.2236
          ],
          [
           "Valtorres",
           676.4613
          ],
          [
           "Velilla de Ebro",
           153.2637
          ],
          [
           "Velilla de Jiloca",
           604.6818
          ],
          [
           "Vera de Moncayo",
           631.6308
          ],
          [
           "Vierlas",
           449.5351
          ],
          [
           "Vilueña, La",
           696.5842
          ],
          [
           "Villadoz",
           890.6553
          ],
          [
           "Villafeliche",
           684.1865
          ],
          [
           "Villafranca de Ebro",
           176.0309
          ],
          [
           "Villalba de Perejil",
           624.0992
          ],
          [
           "Villalengua",
           762.2932
          ],
          [
           "Villanueva de Gállego",
           251.0012
          ],
          [
           "Villanueva de Jiloca",
           775.7328
          ],
          [
           "Villanueva de Huerva",
           545.6921
          ],
          [
           "Villar de los Navarros",
           800.2396
          ],
          [
           "Villarreal de Huerva",
           867.4806
          ],
          [
           "Villarroya de la Sierra",
           738.6608
          ],
          [
           "Villarroya del Campo",
           924.395
          ],
          [
           "Vistabella",
           755.5722
          ],
          [
           "Zaida, La",
           158.4921
          ],
          [
           "Zaragoza",
           204.0027
          ],
          [
           "Zuera",
           285
          ],
          [
           "Biel",
           754.2445
          ],
          [
           "Marracos",
           404.7361
          ],
          [
           "Villamayor de Gállego",
           231.1234
          ],
          [
           "Ceuta",
           13.47725
          ],
          [
           "Melilla",
           10.3337
          ]
         ],
         "hovertemplate": "population=%{marker.color}<br>latitude=%{lat}<br>longitude=%{lon}<br>municipality_name=%{customdata[0]}<br>altitude=%{customdata[1]}<extra></extra>",
         "lat": {
          "bdata": "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",
          "dtype": "f8"
         },
         "legendgroup": "",
         "lon": {
          "bdata": "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",
          "dtype": "f8"
         },
         "marker": {
          "color": {
           "bdata": "mwsAAFooAABlBQAAQAcAAPcAAABLBgAAfgsAACMBAABvAwAAywEAACICAAA9BAAANAcAALIAAACYAQAAggIAALsDAAA/AQAAKQIAAB0GAACqAAAAxgUAAK0CAABbAwAA0gAAAD5GAAA2AwAA1wAAAL8AAACqBAAAVQ0AAC4BAABNAwAAnwUAAI4AAAAiAQAA0AIAALYFAAAwBAAA1gAAACIBAACw7wMACQEAAMIAAAC6AQAARAkAACkOAACeAwAA9wIAAPEBAAA5qAIAlwIAAKQCAACBAgAAXQQAABgFAADZXgAA1AgAAGACAABLCQAAfAAAAJ0BAABIBwAAKAIAAOwCAADKAwAAQAoAAOcBAABRBQAANwEAACQCAADvEQAACSgAAIgEAAAuAQAAfgAAABISAAAMDgAAXQIAAB8BAABxCQAABwcAAEsKAABVAAAAXHgAAC8BAAB2BAAAUQIAAGYBAACaAwAAGQUAACcEAAAyEgAAuQUAAHQAAABrBQAAEQMAAFEAAAD2BwAAnAIAAEMNAAAVAgAAfgQAAGIHAACoCAAAUwEAAEgBAAC6BQAAmQIAAIgBAAARBgAAggEAANMBAADdAAAASQUAAIkBAAD6PAAAugEAAKEEAAB+BgAA5RcAAAsfAACpBwAAQAEAADcAAABoBAAAhQ8AADICAACuYgAAcQAAAMkAAAA2AQAAMQEAAM0JAACECgAA8xMAAGICAAClBAAA8DMAAH4FAAC6AAAAnQEAAMBOAABkDgAAPgUAAMBXAAB2AAAABwIAAJtdAADRVQAAgwAAAIscAACrAAAAjwYAAEEWAAAFCAAAUAkAAEgEAAAvAgAAwwQAAKcjAQB0AAAAkAAAAI8NAADrAgAAbQAAACQCAAC/AQAAYAAAAMUBAAAdMAAA8xIAADIOAAAHHQAA5gEAAC0OAAAXHwAAykwAAIh3AAC9AQAAyQQAAGYtAAC8AQAAzyQAAJMsAAAoAQAAxh0AAHl3AACGAAAAKAcAAJECAABetwAAph8AADrSAAAsAAAAiCQAAI0SAAADGgAAKQIAABwBAACzCgAAGgEAAL9GAACICgAAHgUAAJJeAABKCAAA4gsAAEUCAACJAwAA+QAAAAcjAABxbAAASQIAAIEkAABlZgAAX0kAAGIdAAAXHwAAUwkAAG8DAAAIRwEA/QMAAO8hAACIKQAAJQEAAByFAADXIAAAuAIAABIWAAAkEwAAvwIAAF0gAAAIBQAACkMAAHAKAAC5AQAA7wYAANICAADZJAAAPmUAAEAbAACclgAAvCcAAFwCAAC4AgAAegIAACIyAAALBwAAJgAAAEgBAADoAgAAU3IBAK8AAADmAAAAhwMAAJgUAAAbkAAAUYYAAHwKAAAkXQAAMhYAAAgJAAD4BAAA0wQAAKtjAACqAgAASQIAAHgwAAA9AwAALQIAAIAAAADVAgAAJg8AANcAAACzFwMA0gAAAIoAAAB6DQAA3xAAAEsBAADvAAAAKAEAAOAAAADQAwAAlAAAAMgSAAA8AAAA/AAAAOMAAACLMgAAbgQAAPENAAD5IAAAZQAAAL4AAACOOwAALwEAAB8GAABJEAAAVgIAAAIDAADuCAAAwAcAAG0EAAD7CwAA/wsAAGspAACnBAAAGQIAAJhIAACBUAAAzAEAAPIBAADRAAAAegYAAIkBAACUBQAAygIAADkDAAA0FQAAqwQAAF0dAAD1AQAANIEAACMCAAC1AAAAHRkAAJcIAAC4AQAAawMAAIwBAABvEQAAgi4AAP0FAAAqAQAANQYAAJSqAQD1AAAA7gEAABYBAABVCAAAeAEAAAwCAADdCQAA5wAAAAEQAADCAwAAdwEAAIABAADdDQAAcRAAAAwBAAAwAwAAXgEAAPYAAACNBwAA1RkAACBMAAB/GAAAo3AAAK4LAAA+AgAAF2ABAOUhAADQAAAA7AoAAK8AAABmAAAAywAAAI8AAACFAAAA0gMAACYZAAA6AAAAlh4AAEkAAAAXAAAA/+IAAPkIAADrBwAArwAAAJcAAABFAAAArQAAAEMBAABUAAAAOAAAAKoAAAAOAAAAZAAAAG4AAADWAAAAowAAACMAAAA3AAAA4QQAAJkAAABSAAAA4AAAAFgAAAAjAAAApxMAAGMAAACjAQAAoAAAAFMAAAA/AAAAcgUAAJ0CAABxAAAApwwAAEIAAABPAAAAZgAAAHcBAACRAAAAFAAAAGMAAADiAQAABQIAAD4AAABIAAAAJAAAAGEAAAAOAQAA1QIAAGEAAABPAgAAlwAAAFgAAAA8AAAALQAAACcAAAARAgAAjgAAAC8AAAAwAAAAQgAAAKcAAAAgAAAA2gEAAEAAAACOAAAA7wEAAIwAAAAOAQAASwAAAMkBAAC5AQAAGAEAADcBAACHCAAAOwAAAB4AAABYAQAAGwAAACoAAAAoAAAAwgEAABQDAABnAAAAPwAAABMFAAC8AgAAWwAAAMQAAABGAAAAHwAAAGkBAABsAAAAdQAAAE0AAAA2AAAAQgAAANsCAACaAQAAYgAAAHAAAABfAAAAlAMAADsAAAA1AAAA9gEAAFAAAAAsAQAASgAAAG8AAABoAAAAWAAAADEAAAA7AAAAIgAAAJgAAAAcAAAAagAAAGQAAACXAgAAUwAAAB0AAAA1AAAAYQEAAMwAAACcAQAAuQAAAEQBAAA6AwAATQAAAHwIAAArAAAAvgEAAJ4AAAArAQAA1hUAAO0AAAAyAAAAPgAAALcAAABgAAAARQAAAIEAAAATAQAAfwAAAI0BAADbAAAAPgAAACcAAAD2AgAAhgAAACYBAABpAAAAZQYAAGYIAAAhAAAA5wEAADwAAAB1AAAAYgAAAKAAAAB9AAAAvwAAADgAAABmAAAARwAAADEAAAAjAAAA6QEAAMQCAABPAAAAFAAAAN4CAAAoAAAAQgAAAEYAAACqAQAA6gAAAFEAAAAeAAAAmQAAANsAAABGAAAAagAAAC0AAAD1AQAAMAEAAKoAAABmAAAAfgEAAEgAAAApAgAAogAAAEUAAABHAAAApQAAAIcAAAD8AAAAKQAAAIcAAABkAAAAigAAAPYCAAD1AAAAixMAAK4RAAD0AgAAVgAAACMAAADRAQAAJgAAANQAAABkAAAAMwAAADgAAABWAAAA2QAAAGMAAACGAAAAcwAAAFwAAABlAAAAJAAAADoBAAChAAAAMAAAAEcAAABUAAAAXAAAAOQAAABCAQAAagAAAGsAAADjAAAAIgMAABwVAAAQAwAAEAcAAMgHAACGEwAAWgYAAPQCAAD/AAAArQQAAOyFAADdDwAAAgEAAKsdAAAqTAIAkQ0AAO4AAAAVAwAApggAAOUHAADhAwAAmgsAAK4RAADnBAAA6BcAAJYDAACtAgAAYRIAACIFAACRAAAACAIAAE0AAABaBQAAzwAAAEwDAAB5FQAA6QcAADsDAABkCAAAjQQAACMCAACZBAAALwMAAGCTAAAcAgAA1gUAAKUDAABWAwAAFwQAAIcSAACtBgAA8BEAAJQCAACnGQAAbggAANsBAAASAgAA9AgAAGwHAAD5GQAAvgQAADICAABHDQAAdwMAAFMBAABABwAAmggAAOABAABEDQAAmCMAACUBAACuCgAAIgMAAA0WAADyAQAAoQMAAFoBAAAGAgAA4QIAAL0IAACOBAAA6wEAANHpAADeBAAAhhAAAPMEAACXCAAAgDsAAMACAACSAwAA+RAAAIACAABIEwAAjwYAAN4tAAAFAQAADQoAAJYCAAAEBQAAOAMAAN8BAABTBAAA4xYAALcCAACSAgAAzAEAAA4HAABLCgAAZxEAAI4AAABlAgAArQEAAHMMAAB/AAAArQUAAHgGAAAXBgAAkQAAAF0DAABQDwAAMRAAAIYfAABUFAAAAAcAAOsGAADuCQAAuwwAALIUAACUAgAAxwAAANkEAADsAwAArggAAFECAABmBQAAuwYAABsEAABvBAAA4AEAAMkCAABdBwAADgEAAHoQAAA2AgAA8gMAAEUEAABMAQAAUwQAAEowAAB7AwAAxwQAAKcFAAC4ZAAAygwAACAIAAArBQAAiwEAAEdBAADNCgAAZw0AACsBAAARDQAAwwoAAKEHAACVFwAAOicAALNUAACnGAAAHi8AAMMgAABBAgAAQSQAAK8EAABCHQAA89AAAAgLAACDLwAAPDIAAMV8AAAvEQAA7AUAAMsAAACEFAAAdgEAAKJJAAD6EwAAfSwAAMsCAADV0QAARosAAFMGAAA4GQAAyQkAAOibAADTdgAAoboAAKYGAABdCQAAj5wAAEcYAACQDAAAsx8AAKGVBgBwDAAAukQAAAAXAAAmOQAA8wcAAMFvAAA8DwAA4HMAALQIAAAkGwAAcyQAANobAABrBwAAvTUAAMcdAABXMgAAxhAAAAkUAAB1EQAAsDUAAOUvAADgBwAAXB4AAOgOAAD6AwAAmgYAANYyAAAjAQAA6ScAAA4BAAD2JAAAAkEAAPIkAADtAAAALDIAAMQXAADDCAAACQkAANAGAAAQCgAAC3cDAIYIAADEDwAAAA0AAJP6GQAmHQAARQAAAAhDAACjAQAA8AgAACUBAAD0AwAArQYAAJoTAABXHgAAIg4AALsMAACgRwAAWgQAAJFPAACuAAAAggoAAGEIAABeAgAAJDsAAKBDAADzDAAA9xQAAL8VAABcAAAAeEoAAN4RAAAuAwAAjAYAAKMAAADqYgAApAAAACoQAACsMgAAEAMAAEoPAQBFAAAAcgoAAMsBAACXAAAAKwkAAJYFAACSAgAA1QoAALQGAAA6CAAAXx4AAK8lAADxEgAAhQEAAF8BAABuPQAAxWUBAFtDAAD+FwAAFlgAAP25AAAGAQAAkQEAACkAAAD2AQAAkAYAANcIAAAxBgAApgUAAOtQAACsAAAAmUMAAIe7AACyAAAAoh8AAL8TAAAeAAAA1wgAAFQAAAC1+gAAygYAAJQNAAC5AwAAmAoAALlFBAD6oQAAOwMAANYDAAAdMwAA9CkAAH0/AADNGgAAIAEAALFLAAAQAQAAZFMAAEk5AQBbbwAAexMAANwMAACfXwAANicAAFcmAADWAgIATQoAAERpAAA7zAAAIZEAAFExAAB+DAAA+QIAAMgCAACEAAAASwQAANgBAADIAAAApAQAAMoiAADBQgAAfAEAAFIaAADoAAAAEBgAACkYAACjAAAAfg4AAJEDAABqDwAALQgAAGVgAABDEQAAwAQAAF4BAAA5AgAAsgAAACUDAACnAwAA0iYAAGA8AAAxLgAACxEAAMFJAAC2AQAAk0QAAJ8MAAAPcwAASAUAADEJAABVBAAAayEAAAYCAACIAgEAKQIAAIAKAAAXcQAAdQIAAIkRAADSAAAAKgAAAFICAACYAwAAJpoAANIqAAAsEAAA9BoAAHw+AQDtAAAA4WMDAJkAAACeAAAALQEAAA8bAAAkHgAAsgUAAFqWAABsAAAAtmkAAJ0uAAAMGgAArwMAAF9LAQA/AgAASUkAAPQOAABWEAAAPYEBAAcEAAAIDAAAfB8AAAskAAAFGgAA2rUAAHUCAAAgJAAAQSQAAGcOAAAaAAAAC4kAAAkrAACqUgAA4QwAAJFRAAA5CgAAGgoAAOsEAACMAAAA+wQAAD8NAABoAQAAfQIAAGIpAAB5fQAAwQkAACAKAABNEwAAyhYAAMgJAABPCAAAwU4AAJ0CAABzMgAAVAAAADQBAADAAAAAjyAAAHPZAQAECQAAzwUAAOceAABoAQAANSkAADgeAAAngwAApAAAAK8AAABpAwAAiQAAADUEAAAYJwAAaGUAALcPAACTJwAAmG8AADgaAAAsCAAA9OIAAFElAACpBAAA1g4AAJV+AABlAAAA2wAAANEMAADKFwAAVQEAAFMBAADUAAAAvBoAAGR9AwCDAAAAohoAAFkkAAA/IQAAXEkAAPU6AAAaEAAA5QUAAGEKAAALGAAAgAgAAIsdAAB+BQAADwEAAH4MAABxPgAAtgoAAKwAAAB6wQAAuwEAAHoeAAAUBwEALDIAAD0BAAB+BAAAIKIAAAwDAAASEwEArwAAABkBAAAAFgAA6AAAAD4zAADkCwAAHAAAAM0AAAA7AAAAMgAAANYAAAApAAAARAAAAGUAAAAvAAAAugAAAGwAAACcAAAA3YMAAJsAAAASAQAALgAAAD0AAAArBwAApgAAAHMAAACoAQAANQAAALQAAAClAAAAYAAAAFQAAAAuAQAAPgEAAB8AAABoAAAAhgAAAEIAAAAgAAAAsgAAADcAAAAmAQAAEgAAADYAAAAqBwAAMAAAAMsAAAAaAAAAZgAAAC0AAACgGQAAvQAAAGQCAAAXrwIAjwAAAJUAAAAkAAAA+AAAAJABAACrAAAAMAAAAKgBAAAXAAAAJwAAACUAAADkAQAAlgUAAJEEAABvAAAAGAAAABsAAAAbAAAALgAAACMAAAAcAAAAngAAAG0CAAA3AwAAOgAAAAoDAAC9AAAAOgAAAFoAAADqAQAALQAAAEYAAAAeAAAA0QAAADEAAABjAAAApQIAANEFAABXAAAAZAAAAPkBAABlAAAAZQAAAFkAAAAtAAAAKQAAAFUAAAAqAAAAcAYAAHoCAAA2AAAAYAAAAGEAAABCAAAAtQIAAKAAAAAxAAAADgEAADgAAADtAAAAEQEAAGMAAABbAAAAiAAAADADAAAbAAAAJwAAAHAAAAA1AAAASAIAAHwBAACVAAAAIgAAAEcAAABjAAAArgAAAGICAACkAAAAYwAAAC4AAAAvAQAAawAAANQAAACZAAAAgAAAAHEDAAB0AAAANQAAAKUFAAAdAAAALQAAAI0AAAAcAQAARwAAAC8AAAAKAAAAegAAAE4AAAApAAAAQgAAAPwJAAAxAAAAjwAAALAAAABpAAAAawAAADgAAAAcAAAAFQAAADgAAAC8AAAAbRcAAOkFAAAOAQAA4AIAAJwBAAClAQAAkQEAAJ8BAACyjAAAXwAAAAEDAAAoAAAAqQAAAEwAAAA4AAAAlQAAAKoAAADHAAAAGAAAADcAAAB3AAAAswAAACgAAAC3AwAAMQAAAF4BAABDAAAAXAAAADwAAACjAgAAEgAAAF0AAAA2AAAAIwEAALUBAABmAAAAUQAAAMwBAABZAAAAowAAAPMAAADRAQAAqgAAACcAAABeAAAAYgAAAGIAAAAhAAAAoQAAABsBAAA4AAAALgQAAM8AAAAtAgAAegAAAO4AAAAfAAAAlQAAAC8AAAAcAQAAeAAAAOkFAABAAAAAbAAAADIAAACEAQAARAAAAHUDAABjAAAATwAAAPoAAABcAAAAXQAAAEMAAAAtAQAAEgAAADsAAABlAAAAXgAAAHoCAABzAAAAEQAAADcAAADECAAAPAAAAKoAAADZAAAAIQAAAEgAAACBAAAAwAcAAMkAAAAwAAAAVgAAAJgAAAA2AQAAiwAAAD0AAABpAAAAhgAAAGcAAAChAAAAmwAAAAsCAABDAAAAbAAAACYAAABNAAAARgAAAPcAAAAcAAAAhQAAAAUBAACQAwAAGwAAAE0AAAAWAAAA1gEAAC0BAACkAQAAdgAAADcAAABgAwAAIwAAAEAAAAAXAAAAGwAAACoBAABPAAAAewAAACAAAABBAAAAPgIAAIMBAAA1AAAAyQIAAIAAAACrAAAAOgAAAGwBAABiAAAAeQAAAHcBAAAaAAAAKgAAAHMAAAAsEAAAowAAAF8DAADiAQAAvwAAAEoBAAAtAAAAJwAAAEsAAAA/AAAA9QAAABgAAAAbAAAAJQAAAPgBAACvBQAAWgAAADwAAAAWAAAAegAAAI8AAAA0AAAAWgcAAB8BAADCAgAA6gUAAEoAAABbAAAAmgEAAKAAAAA4AAAAKwAAAAkAAAArAAAA6AAAAHoAAAAbAAAAFwEAACoAAAAuAAAAigAAAM8CAACyAAAAEQEAADUAAABsAAAASwAAAM0AAAA0AAAATwAAAD8AAAAoAAAAcwAAAB8AAADRAAAAOQAAAE8BAADfAQAAzw8AAB8CAACZAQAAgwUAAFUIAADwAQAASwEAAHABAABAAgAAJQMAAEUCAABFBQAAkQIAAEMFAAAKAQAAlgkAAFECAABYAgAAHgEAAM0HAADAAgAAYAEAAOoCAAC8BgAATwYAAPMGAACQFQAAqgEAACwDAADhAgAAfgEAAOcCAABUAAAAfAAAAIsBAAD3AQAAvAAAANIGAACXAQAATwEAAE8IAABdAQAAuXgBAFIAAACXAQAAxwEAAGAEAABUAAAAJAMAAEEGAADwAwAAsQAAAC0EAADhAAAAfREAAOEDAABxAQAAsQAAAEoBAABCAgAAAAMAADQCAABwAAAAZgUAAFgBAAAIBAAA9QYAALIBAACTAAAAEwYAALcAAABSLwAAPQMAADwDAACqAgAAbAAAAEQDAABlAwAA7wAAAEMDAACYAgAAYQEAAHMDAABsAQAAtgAAAKcHAABeAAAASQUAAHEBAAA5AQAA2AYAAL0AAADPBQAA5wEAAGsBAAALAQAAmwEAAOAAAABFAQAAUQ8AAIQBAABRAgAAWgMAAM0AAAAhAgAAtAEAAEAaAAAdCwAAiwAAALAEAAC5AAAAbwcAAPUKAAD9BQAArAYAADwJAADzBAAAvg8AAEESAADsAAAAHgEAADwCAACYAAAAmiQAAN8AAAB4AgAAUgMAAHQDAABIBgAA0hUAALIZAABxAQAA/AcAAIRCAAB6AQAA6wQAAIkCAACyBAAAJAEAAL0BAABQAgAAXAAAAJcFAAAVAQAAhwMAAJYAAAC7AwAAfQAAAOMGAACuBQAAlZsAAAYCAAB8AQAAzgAAAKwBAAAIAQAAxAAAAJwEAABeAAAAAwEAAHABAABAAQAA+wAAAFEAAAAZAgAA+AAAAL4CAAAzAQAAQgEAAB4BAAAkAQAA0QEAAPcAAAB7AQAAxgIAAOIDAAC0AAAAygUAAJcBAAAICAAAAQMAAC0BAACIHAAA/gIAAJ8AAADfAwAAQQMAAIACAAAXBAAA3AEAAAUCAADNCgAAFwIAAGgCAADgAgAAjAYAADACAACrIQAAPwEAAGAAAABMBAAAugAAAFYBAADXAAAAYgIAAEwUAADAAQAASQgAANoAAAC3AQAAdAAAABMBAAB7AQAA7QEAAD4IAAAsAgAA5wAAAP4BAAALBwAABwIAAF0EAADgBAAAMAUAAGcUAABIEwAAnAUAADLoAQBDFQAARnkAALVYAADyAgAAbR0AAMkIAABCsQEAoAsAALxdAADCXgEAy00AAMEOAACiBgAAzgcAALhCAwAnGgAAsfoAALgeAACBFQAAIxYAAGhfAQCnpAAA8hoAAHBzAADNbQEA9BABAI6FAABACgAA6EgAAB4DAABnGwAAN0AAAHMyAADOAQAAiS8AAEsFAAA8HAAAeBEAAB0FAACDAAAAOgUAAAgcAABVKQAA1QAAAGYDAAACAQAAIAEAADYaAADODgAAnwAAAJIAAACzBwAAtgAAAGABAADDAAAA2BUAAJABAACqAAAAfgAAAKdzAAA5FwAAP5AAAPEMAAAACAAAuwIAABYAAAC+AAAAdAMAAHEAAAD4AgAA0gIAAIMCAAC6AQAA1gAAADcBAAAXAgAASQcAAO0BAAAWDAAAOAEAABEDAABZAAAAKQEAAAYCAADdAQAAOwAAAF8AAADHAAAAiwIAAC4AAACwAgAAvgYAAK8AAAASBAAAuAAAAFsAAABLHwAApQEAAIMCAAC+CQAATgMAAO42AACHAAAA2WQAACIAAABJAAAAMCEAAHYAAACbAAAArgAAAPAAAAAtBQAAiwQAAHwDAABNAAAApgIAAGUFAADUBwAAEgIAAAADAACoJQAAEwQAAOkFAADyAQAAQgMAAOcAAACwAQAAkwAAAGwAAAAMAQAABgEAADsAAAAqFgAAfwAAAKMAAAC2AAAAFAUAAMEDAABHAAAAHwwAABkBAACMfAAAQAAAAJIHAADqAQAAYQAAAEkCAABiAAAAnAAAABnNAAABDAAANQAAAEZ2AACQBgAAbwAAAK4AAAA8DgAALAUAAEQGAADNAQAA6wMAAJZ6AAA3AgAAUQUAAKIBAAApBgAAyQMAACYTAACJAQAAWSMAAOIBAABKFgAA8AIAABIBAAALBAAADRsAAKoWAACWAQAAaQEAACMvAADpAwAAKQEAAOgBAACPDgAAhDIAAGcAAACGAAAAoQwAAFIEAADiBgAAhSgBAGgEAABPAwAAgwMAAO0GAADtRAAAxQMAAOkAAADpAwAAyAAAAOcLAACuAgAAwwIAAAshAAD8AQAAGwMAACMCAABoAQAASh4AAFFFAADPFgAAkQIAANo9AACtBAAA7xMAAMMAAAAaAQAAjx0AALICAAD5EAAAfAsAALwNAAA2DwAAWQEAAHEEAACHAgAAYQMAAIuwAABjAwAABgIAAC8EAADFAAAA1wEAAB8PAAB9LwAAeTsAAEwBAABKAgAAq44AAAMMAACwAwAAbQoAAKMAAACZdwAAjQIAAK0GAAAwBAAAawIAAFsHAACxEgAAEAEAAC8AAACUJQAAigoAACEIAAAZBAAAFQIAAGkCAACRAgAA+w8AAJozAADdBQAAEwkAAC0fAADfBQAABEgAABsMAAACCwAALhMAAHsCAADeGwAAOE4AAPYKAAD7CAAAjgUAAC04AADlEAAAvB0AAHUBAAD77AQAfhEAAD0JAAC6CAAAaQwAACUJAACmJQAAUwEAAPoQAACzJgAAqQIAAJ4BAAAUBgAAWgEAAKMZAAAmEQAAmw4AAE6oAAD5CgAAUxEAAC0PAAA9VwAAWSMAAI0HAAA7DgAAuxQAACUIAACXBQAAQlAAAAELAACwBQAAMSgAADgcAAAyQgAAQlUAAJR0AAAOHQAAJSYAAFYDAAAvEgAAxgIAAOgDAAARBAAAagEAAB8JAADPGgAAFhMAAHoCAAC9IAAAfAUAAPYDAAAzBAAA+AsAAM8JAABgAgAAyhUAACyAAAAHBwAADBgAAPaEAAD/FgAA2wwAAEobAADNMwAACQcAAEpKAABoEAAABSAAAAIQAADgDAAA6hMAAM1gAACeBAAAa3sAANgOAAB3GgAAlBkAADweAADdEwAA7AMAAIsHAACOBgAAcBYAAK3NAwBteQAAVRAAADwKAADYCgAA8jAAANr6AABgEgAAcwgAAC4FAABnCwAAUy0AABsMAACTFAAAxwQAAIcOAAA2HgAATwkAACIbAACwBAAAGgcAAEsUAAAcEQAA+B8AAHWZAAAEEwAAMRsAAAw3AAC9lQAA5DEAAE0eAAAqFQAAoRcAAFMJAABAIAAA5REAAOAjAADGFAAAIB0AADYmAABoIwAA/CkAAOdpAAArEQAA9EIAAK0KAABnJAAA0IQBAK0FAADaBgAALAQAAGVKAAAuBAAAbQwAADsNAACjCwAAyRoAAJYOAABOEwAAzQQAAOQEAACYGgAApRAAAGsOAAA7AAAA5gAAALAAAADXAAAADwEAAHcAAAD7BQAARgAAADoAAACnAAAAGwAAAEsAAAAZAAAAYwIAAKcBAADuAAAAjQEAAKEBAADMAAAADgAAAFYAAABgAwAAgQAAABAAAABiAAAAzQMAAGUAAAAYAAAAMAAAALUBAADpBgAAgQAAAOsAAACIAAAAJgAAALgBAABtAAAApwEAAAYFAABuAAAAIAAAAJ0AAADmAAAA2QAAAMYBAACAAAAA3AAAAHYAAABLAwAAuAEAABMDAADaAQAARgAAAFsAAABCAwAAQAQAAB4AAABmAAAARAMAAIUBAACFDAAAggAAAGYAAAAhAAAAFQAAAIQAAADRAAAAJwAAALXQAAAZAAAANwAAACYBAAAmAAAAKQAAAJQAAAD1BAAA9QAAAGkAAADUAQAARQAAAJ8AAAA9AAAAggAAAFUAAABlAQAAgwAAABEDAADDAAAA0QIAAIIAAAAGBgAAAQEAADcAAACqDgAARgAAAFgAAAAsAAAAggAAAK0AAAAeBwAArREAADsAAAAxAAAAvwQAAEIGAADiAAAA2QAAADoBAAA+AAAA3wgAABIJAACZAwAALQAAAFQAAADBAgAAfAAAABsAAADpFwAAcxgAAJQAAAArAAAAKQEAABQAAAB7AAAAgAAAABMAAAC7AQAASwAAAD4AAAArAgAAvwAAAGMAAABEAAAAIwAAAHYZAACIAgAASwAAAOoAAADAAgAAtQAAADcAAAAoAAAAKgAAAD0AAABHAAAACQEAACsAAACdAwAANgkAADgBAADFAAAAPB0AAC8AAABmAAAANgAAACkAAADQAQAASwAAAGYAAAAgAQAAnBoAAG4EAAAnAAAAOAAAAOgAAAANAgAAnAIAAD8AAAB8BgAAIQAAAHIDAABOQAAAJQEAAGcAAADDAAAAcQAAAFIBAAA4AQAAKgAAAAUBAAAGAQAAYgAAAOsAAABZAAAAUgAAADgAAABjAAAAygAAADsAAAAUAAAASQQAAFcAAADWAQAAjwAAAH0AAABFAQAAywEAAPUCAAAxAgAA4wEAAEAAAADoAwAAQgkAADUAAAAkCQAAcAEAANcAAACVAAAAsAAAAB8AAADoBQAAkAEAABIAAAB5AQAA7wEAANUAAABPAwAA3QAAAEEBAAB/AAAAEAAAABMAAABaAAAANQAAABIBAACjAAAAiAIAAHsAAAAcBgAAYgIAAEcAAACkAAAAwwIAAEwAAACNAwAAIgMAAKgAAAA+AwAAcgIAAMAGAABvCQAAURcAAK4ZAADEAQAALgQAAJQGAACVEAAAYAAAAHdQAAAhBAAA4QIAABcKAAAVFAAAzAAAAKMtAADWpAAA8QEAAAwHAAAFAwAAWg8AAAQBAADSAwAAGQEAAGYLAAA9IQAAxwIAAL4MAAClAAAAIAIAAN8JAADoAgAAWgEAALUCAADOAAAAvyoAAL0DAACDLwAAuRUAAOUDAAAmAQAAtAAAAOsBAADNAAAAVgkAAAIFAAD6AAAAJAIAAA4BAAC9KAAA/gAAAJwBAAC2AQAA674AAHkEAAAkAQAAEwIAAKgAAADfBQAA3QoAACEDAADYAQAAuQAAAMcDAADuAQAAGKIBAMQAAACjAQAANgIAAF4RAABKAQAAgwEAAFANAABWAQAAPQMAACQlAADaAgAAAwIAAE8TAADgBAAAGAYAAGimAADHAAAAIQEAAOsBAABwAAAAKQEAAEsDAAAEAwAAGh8AAF0BAADXAAAAdgEAAOgDAACaBgAAvQUAANoAAACmlwAAkAEAAKIBAADsXgAA20gAAIgAAADfBQAALAEAANEBAAD8CQAAoQAAAKsBAABIAgAAvAAAAMIBAAD/BwAA0gYAADIBAABAAgAAIgEAAMQSAAA6BAAAhQcAACUEAAAYJwAAAxAAAOYAAAAXAQAANwcAAJMRAADEKQAAjQkAABECAABeCAAABgEAAIpPAABKAQAAngAAAHCEAACsAAAAowIAAG4DAAAKWgAAnAYAAOkAAACTEAAAXhcAAFEDAABnAwAALw0AAA4CAAA8DgAA3gAAAAIBAADCAgAACAEAAP4AAABHAwAAowAAANQCAADBCAAAWTUAAOoWAACNAQAAdAEAAEsGAAAnDAAAEBUAAIIDAADcAAAA3gcAAK4EAADlAAAAvwAAAEAaAABhAAAA3gEAAFkBAACtAAAABAMAAOkwAAA8AwAAvwAAAIIYAADWAAAAwwQAAAQBAADPAAAAkwwAAEYFAACKAwAAewMAAKMEAACpAAAAWiEAANgDAAC8DgAA1AAAAOwBAABiAwAAlAQAAEoWAACqAAAAmwQAAIsBAAB4AQAAxAQAAMkAAACSAQAAKwMAAMkAAADzDAAA3wAAADEFAADmBgAAXQUAAPQAAAAfAgAAg0wAAMgCAACmAQAAvRwAABoDAABQAgAAmBYAAB8JAAAZFgAAnygAAMYBAABFAQAAr2oAAC0CAABiAgAAPWMAAOdPAABSUAAA8QMAADwBAAALDQAA/QMAAMYIAAC3AgAANwEAADQBAAAZAgAA7QUAAHQVAACSAgAA3QQAAEIPAACFAQAAQAIAAOMAAADSAAAACQUAALAHAABoIAAAgg4AAH8CAAAkCAAA/gQAAAEHAADGAwAAYA8AAIEeAACVFgAA2gQAADVBAACfBgAAfwEAAD4KAAAqAwAADwkAAF4CAAB1AQAAKRwAAE0DAAAvAQAAxAMAAJoDAAAREgAAXAQAAO0AAADEGAAA6AIAAHUBAAANjQMAJgcAACVJAAC9FAAAbgsAAGQKAABmAQAAmQQAAEIcAACSBwAAnSkAAAYwAAC+JgAAvAMAACIUAADdAwAA3gMAAOMDAAAxEAAAigAAAPIOAABMDgAAHwIAANwIAABeAQAAhgAAAG5RAAA0AQAA5wEAAFAHAAAmVwAAqQEAAMkNAACqCgAAoCEAALkUAADkBwAAIQQAADcMAADw6AAAtQEAANcEAAAtBAAA1zoAAHwEAAAqFgAADgQAAEAlAAA6AQAAewQAAJotAABTBAAAZgYAAOwlAAAkBAAACgEAAIcGAACBAQAAmggAAPwVAAAiCQAArwMAAKoBAAAlCgAAdDEAAAMCAAClOwAAFgEAAP8BAADIAgAAbQIAAL8CAADVAAAAAQoAAJQCAADuCwAAogIAAAcCAAC7BwAA5QMAAI0IAAA/CgAA9wIAAKkDAABIBAAAowMAABZbAABlBAAASggAAO0DAABLAgAAZgMAACUwAADvBgAAegMAADwAAABJAAAAHAAAADgAAACJAAAAegQAAGACAAAsAAAAOwEAAA4AAABQAQAAfwAAAGoAAAAuAAAAYAAAALAAAAAPAAAAQwAAAF0FAACTAgAAmwAAABE1AACRAAAABwAAAJwAAAAyAAAAHQAAAIwBAACSAAAAEAAAAEgAAAA2AAAACAEAACEAAABVAAAApgEAAJ8AAAA2jAAAMwAAAA4AAAANAAAAGAAAAC0AAAAUAAAAAAsAANgAAAA1AAAARAAAAEEsAABKAAAAmAAAAFAAAABRAAAAdQAAAEkAAAAyAAAAbwAAADw1AAAUAAAAhQAAADsAAAATAAAAOAAAAAgAAABHAAAAGAAAAIwAAAClBgAAEwAAAIsAAAAbAAAAZwAAABMAAAAqAgAADgAAAHEAAAARAAAALgAAACIBAABtAAAADwEAAA4AAADjDwAAVAAAAFYBAABvAAAAIQAAAEEAAAC5AAAATwAAALICAAAhAAAAIgAAAAwAAABNCgAADgAAAFUAAAB2AAAAPwEAAFMAAAA4AAAARwIAADYAAAC8CgAAXwAAABkAAAAdYwEAVAAAAOsAAAARAAAAbgAAABUAAABLAQAAKwAAALcBAAB2CwAAIQAAADcAAAAqAAAAOgAAAHMAAAD4BgAAlwMAABIAAAA1AAAAVgAAALIFAAAvAAAAYwAAAEgGAABFAQAARAAAADoAAAA5AAAAqgAAAM8AAAAkAQAAHwAAANoAAAAxIQAAUAAAAE8AAABzAAAAGwAAABoBAABJAAAAGwAAAGEAAAA7AAAAJgAAAEYAAAB8AAAAIAAAAFUAAAA3AAAAIwAAAKQAAADQDAAADwAAAFQLAAAgAAAAYAAAADAAAABtAAAAJgAAAA0AAAAPAAAAVAAAADkAAAATAAAAJAAAAMMAAAAuAAAAIgAAABYAAADdAQAAewMAAD8AAABLAAAAtQAAAKIAAABJAAAANgAAAAsAAABUFAAAIQAAAGMAAABpAAAAbQAAAKMGAAA0AAAALgAAADkAAAA9AAAAFQQAAAoAAABAAAAAZwAAADUAAABeAAAAKQAAADwAAAC3AAAAKAAAACEAAAB2AAAAJgAAAGEAAAA7BgAALwAAAJQAAABEAAAAJQAAABAAAAAwAAAARQAAACMAAABUAAAAKgAAAN4SAABNAAAAGgAAAB8AAAAhAAAAmgAAADAAAAApAAAAnQAAAE8BAAAUAAAAIgAAAEsAAAALAAAAKAAAAFoAAADkBgAAFgAAABwAAADtAQAAtBgAABcAAAC4AAAAIwAAAAgAAAAaAAAAaAUAAJ0AAAAVAAAAEwAAAFoGAAB0BQAA5wwAABwAAAAfAAAANwAAAFsAAABhAAAACgUAAC0AAAA0AAAAKQAAAEwBAACVAAAAGQAAAB8AAABLAAAAEgAAAAgAAABbAAAAKQAAAJQAAAAgAAAAKBoAAC0AAAAdAAAAOQAAAKYAAAC3AAAALRUAAPIBAAA6AAAAWQAAANYRAABbAAAAcwAAADQAAABBAAAAHQAAABcDAADZVwAAWgMAANcGAAAfYQAAjg8AAMggAAC1CwAAnQMAAHZUAAAWEQAAIAEAABc4AAAJGAAAxgIAAF0EAADHCgAA3gcAANQCAAB9AQAAoFMAAOIAAADUCAAAPQIAAAoSAAA4AQAAPQAAAGwBAADBBgAAvggAAOwEAAAOCQAALgMAAFkFAABYMwAA9AAAAO0BAAAbBQAARQEAANgPAAC6LwIAiVQAAJQIAAA5cgAAEwEAADwNAACoCAAAqAEAAIEOAAD/WwAA/wAAANETAAC8EAAA1SkAAHcxAABUDQAAdwQAABcMAAAYAQAACT8AADEfAACHBgAAxA8AAFMmAACgAQAAhAIAANgBAABoBAAADQgAAK4fAADtAAAAQzEAAKMLAADmDAAAfAEAAHgLAABQCAAAkwsAAN8CAAAIAQAAowAAAM8AAACMAAAAOQEAAHYEAADTAAAAxQIAAIAAAABvAAAAGwEAABABAAB0AQAAfwIAAFUEAACQAQAA4QAAAIEAAACFCQAAxAIAALwBAABSAQAAwAUAAGwBAACdAQAAfgAAAHIAAAAyAQAAcAAAAKUAAAAqBAAAtwAAAKQAAACdAAAAWgAAAAcBAABSAAAAYAMAAEgBAACWRAAAWgAAAF8AAAB6AAAA9gQAAHEEAAA6CQAARQEAAOcBAADzAAAASQYAAEEGAACGJwAAswAAALsAAACsAAAATgQAAFYAAABVAAAAYAIAAO0AAADjAQAAngAAAEoBAACmAQAAZAIAAMkAAABfAQAAJAEAAE4BAADUAQAAZAMAAGcAAAAJAQAAVwAAAKYAAABCAQAAhAAAAIMAAABeAAAAmgEAAJgCAADWAAAANgMAAIgAAAAZAAAAdgAAAHsBAAB9AwAAqQAAAB48AABVAgAAdAAAAIIBAACgBgAANA0AAJMFAABNAAAA4gAAALDVAABoAAAA4QIAALkAAADtAAAAOzYAAF4AAACtAAAAzwAAAGQDAAB1BAAAWAAAAIsAAACHAAAA+wAAABYBAABfAQAALQIAAGgAAABFAAAA6gEAAOMAAADoRgAAEQEAAKUAAAA4AgAAQQAAAAECAACMAgAAIQAAAI0DAAC3AgAADAEAAEsCAADXAAAA1wAAAHAAAACIAAAAXwAAABcBAADNAAAA6wAAAKsBAABfAAAA4AAAAKsAAABDAQAAWgEAABMCAAB4JQAAPwEAACgBAAC0AAAAZQAAAOwFAACBAgAA3QAAAJcAAAD0AAAAvAAAAFMAAAAnEAAAlQAAAJIAAADcAQAANAAAAKIAAAB0AAAAqQIAAFQAAABlDQAAqQMAANkAAAA5AwAAhAAAAGsAAABkAAAAfAQAAFwAAAAOAQAAagAAADYAAAA3AAAAOgAAAPsBAAApAAAAiQAAAKoAAAA7AgAAWQEAAKAAAAA+AAAA+QYAAB4DAAAIAQAAEAMAAIcDAABdAQAA0QAAAA0JAADnAAAAiQEAAKIDAABNVAAAAygAAMgBAAAjiwAAABUAAMsNAACVBgAAPT0AAHBDAAADCgAAaBMAAIMLAADlBQAArQEAAHMGAABICgAApwYAAOEGAABVAgAAWTkAAFQMAAAADwAAAwMAAGQbAABlAwAAKgUAAIYDAABPAgAADwYAAK4LAAA+BQAAIwIAAGIUAADICgAANAYAAE8CAABXAQAAPQIAAJIVAABzCQAAzAoAAEsHAAByAwAAqQcAAMq1AQDiDAAA0gQAAGYsAAC0AQAA3dcAANMNAAAmAwAAeSwAAGsZAACEXwAAGycAADEGAAA5EQAA9wYAALUGAACcFAAACwsAABMXAADGEQAAjAgAAMYIAABYEwAATw0AAMQOAABiAwAAkQIAAGkRAAAdCAAAmAYAAD0IAAAKBAAAYgkAAM0zAADJGwAAPwUAAOUCAACKgwAA5A0AAF4QAABQKAAAhAsAAEkeAACZAwAAvxcAAIYBAAANBQAACwoAAKsQAACNCgAAXwgAALgAAAAtAQAAPQIAAGECAABIAQAAJgIAACUDAABEKAAABwEAACcnAACRAAAAJgEAAN4fAAAmCQAAugEAAAoCAAC6AAAAQgEAAKoBAADmBgAALwEAADgBAACyAgAAIAEAACEEAAAWBQAAmAEAAMMCAAB/EgAA3wAAAGsAAADNAAAACBAAAE0BAABfDQAArggAALgBAADjAQAAPgAAAGYAAACPAAAAkQMAAJ0CAAAmBgAAaQAAAHoBAACPAAAAswEAALMBAADiAgAAWQsAAJEFAACwAAAAMwMAAAACAAAqCAAAiQAAAIEBAAC3BgAAdgoAAKgBAABoAgAAqQEAAB8AAADdDwAA1gMAAN0BAABMAAAAaAYAAO8AAAA0AQAAnQMAANEAAAB+AAAAvAMAABkEAACJAAAA9QAAAHICAAAWBAAAg90BAGQBAAAqAgAAFwMAAF0BAAB/BgAARAEAAG8AAADdAAAAzAQAAKwAAABoAwAAVAEAAF0CAAAVAQAAAwEAAJYHAADiAAAA6wAAAGEBAABMAwAAkQQAAA8BAABiAQAAGgsAABL2AACVAQAAiAEAAGgAAAC7AgAAXQEAAI4CAABpBQAAzQIAAD8BAACgAQAACAEAAIAAAADaAQAAygIAAEYCAACPAQAAFQ4AAPMBAAD9AwAAXgkAAFQAAAC8dAAAEAIAAHECAABUAgAA8wAAAO8GAAC/AAAA4gAAAPsBAADuAQAAEQEAAPcDAAC7AQAA0QAAALcLAABFAQAA0QYAAPACAABnAQAAEAgAAEQVAACGAQAAGgEAANUFAADNAgAA8wEAACcLAACwBwAAPwEAAIgBAADaAwAAwQEAAB8JAAAyAQAA5gEAADkAAAA0AQAAvwQAANEFAACgAQAANQMAAK8AAADsAQAAfgMAAOYTAAB+HgAAmAAAAGUAAAB6AQAAAgEAANcHAABHAwAAKAIAALUBAACCBAAAHR4AAF8AAADTBAAAIwEAAGMKAAB8AgAAFQEAADQEAACQAAAAjQIAAIgAAACrAgAAeAAAAPYBAAAGAgAAIwMAANdIAAA5CwAAMwIAAHwEAAC0AAAALgcAAFQCAABwAQAAkgEAAGwDAABRAQAAngAAAFoCAAD9FQAAIAMAAEIBAABYAQAAywgAADAGAAD+AgAA7wAAACInAAAKDgAA2goAABkBAACoAQAAqgsAABMBAADwGgAAMQEAAAoNAAB4AAAA8xgAAMcBAABrBwAAVwUAACEIAAClAAAAQAAAAE4AAAADBgAAnQ0AAMcBAADcAAAArgEAACsKAABUAQAAKUUAAJ4DAADnAAAAXAQAANIAAAA8AAAABQIAAMwEAAA3CQAAtgAAAJwUAADUCAAA3QgAACoGAACwAAAA9wAAABgBAADrGAAAdQQAAEEAAABZAAAAJQMAAGUAAACQAAAAewMAANMCAAAgAgAA4QMAACcAAAA9JQAAgQIAAMIAAAChAAAAoQAAAEsCAADeBQAAVwEAAEsBAAB7AQAAogAAAJkDAAA/AAAAhAAAAH8AAACkAAAAJQMAAMMAAADWBAAAWwAAAAMBAAB8BwAA1wAAAPYCAACvAwAAjAAAAJEAAACjAAAA9gAAANMdAACGAAAAPgEAADYGAABkAAAAFgQAAIYBAACRDQAAYzUCAPUDAAC9CgAA/gAAALkAAACsAQAAUAEAAB0BAACDAAAA0QAAAOwAAABIAgAA2AAAAJkDAAAVAwAAbgUAAGcAAAC4PAAAfQIAAGwCAACMBAAAtAAAANsBAABYAAAAWQAAACwBAADmAAAALwcAAMQAAADrAwAApwAAAL4AAAB5AAAAKwMAADMEAADDAAAAnQgAALIBAAAaAQAAswEAAGUBAADLAAAAFQEAAI0CAADNAAAAIAEAAMcLAACPCgAATAkAAN8CAAD5AAAAlgEAAIgBAAD8AAAAAgEAAPAAAACKBQAAmAIAAMUDAAAGAQAAGQ0AAF0BAAB7AQAAxgQAAOsDAADvAQAAfwAAAMEAAAB9AQAAcwAAAJ4AAAAfMgAAbgcAAP8CAAA2AQAACCUAALwBAAClCAAAWQcAAIEDAAA5AQAAGwIAABgBAABuSAAAfQAAAKoAAABDBQAAkAAAAEIAAAC3BAAAiQAAAFMDAAARAQAAEQMAAP0SAACSCAAA/gIAAA4JAACzAQAAfxcAAN8AAAAqAwAA0AcAAHYDAADIFgAAeQIAAPoBAACvAAAAkAQAAMEAAADSAQAAKQQAAPECAADCAAAAUwQAAMIBAAB3AQAAoQIAAB0BAACqAAAAxgEAAAYBAABdAgAA8wAAALwAAAB6AAAAAAIAAEkEAABjAAAAAAEAACIFAACqAQAAVQAAAA8PAAByCgAAhwIAAIMKAADgAQAAYAAAAJImAAAoAAAAqwEAAOgBAAAHAQAAIwAAAKwBAABzOwAANQIAACgDAAALEwAAyQAAAO0BAADHAAAAUwAAAEUGAACKAAAAqgAAACQAAAAVAAAAZQAAACYAAAC7AAAA7QIAABYAAADoYQAAnwAAAFIAAAAsAAAAYAAAAIEAAAAmBAAAlAEAADgAAAAKAAAAKwgAAM8IAAARAAAAyAAAAMEAAAAoAQAAnwAAABEBAAAfAQAAKgAAACUCAABCAAAAqgAAAGMGAABWAAAAMggAAF0AAAB8AAAAzgwAAE8AAACXAQAAEAAAAHgAAADdAAAAuQAAAMsuAABSAQAAbgAAAIkAAACvAQAAhwAAAAwAAABiAAAASAMAAIkCAAAXAAAAcwAAAIYBAACKLQAAEAAAAPUAAAArAAAAfE4CAGsAAAA9AAAAPQAAAFgAAABjAQAAYgAAAIEGAAA2AAAAIwAAAO4fAAAbBQAACAAAAN4LAABVAAAAVgAAAEsBAABSAAAAswAAADgBAADYAAAAGQAAAFoAAAATAAAAqg4AAEAAAADfAAAAWwgAAB8AAACZAAAAjgAAACkEAAC4DwAAGAAAAN4AAAB9AAAASwQAANcAAAAgAAAAfwAAAGcAAADAAAAAbwAAAMwYAABAAAAA/gAAAGAAAAD2AwAAkwIAANkAAAAEAQAAVQAAACcAAACrAAAALQAAAHoAAADKAQAANwAAAAgAAAAHAAAAkgAAAHYBAABvAQAA3gMAAAwAAACEAAAAvQAAADMAAAB7AQAAoQAAAEkAAAD3IwAARwAAAGkCAACTAAAAGwAAAAQAAACCAAAAKQAAAEsAAABcAQAASwAAACgAAAD/AAAADgAAAFYAAACpCAAA8wUAAB4HAABgBAAA1gsAAI8KAABZCwAAgQUAAPwHAACxEwAAwQkAAKMEAABYEAAAKg0AAHUQAACcHwAA0gMAACwMAADWJwAADg4AAKIGAAACFAAA4QkAAOQFAAD/DAAAxAkAADIIAACahAEA3AYAABgNAACASAAAMA4AAFgCAADTAwAA8AAAAK4DAADZAwAA7hQAAMMMAAAkCQAANwYAABAFAADjCgAAggMAAAYGAABTBgAATAgAAAYFAADxCwAA+iYAAIgDAADsAQAAmwQAAK4EAADbBQAAkzQAAKANAABRCAAAKQoAADsEAABhAgAAcgcAADUGAADbNQAAcTsAAJcJAABLJQAARAAAAP8SAAD/AAAAvigAAP4PAwAd2gEAOaYCAF4NAACvUgAAtzwAALkCAABwBQAAVPMAAHnoAABYkQAAawAAAJcHAACtGQAAfQcAAOcAAAAwAwAALwEBAGMhAADbAAAAQwIAACQsAAC1BwAADQsAAK0DAABqCwAAnAwAAKofAACSGgAA1QEAADAJAABzEAAAZAgAAN8dAAChAAAAHGYAAE8eAADfBwAAuCIAAJclAADF3gAAex0AAIoEAQAYAwAAeDsBAEwbAABSCgAAuhYAAM8pAAAYQwAAuwUAAC0HAAD0CQAARukCANMcAAAYCQAAWI0AAKABAACNAQAA7wAAANLlAgDeKQAA+BoAAKZCAABvAAAA2iMAAGpOAAAk9gIA8CMAAGkCAABGAAAAwyI0AIseAQBOJQAAdD0AAFNgAADjGwAARCcAAHsSAAB2AQAAyBUAAPo4AAB/IAAA9kMDANoMAACIBgAAJwwAAKt/AACXAAAAEw0AAKscAACYAQAA5wUAAGZqAACxDgIAWgIAAEMZAABADAAAhwwAAN0DAADIAAAAw9oAALkAAAAiXQEADAUAAIsAAABdAAAAoQ8AAKsGAAAgAQAAhAMAAD2OAQCDAAAAdRIAAEkAAAAegQEARAIAAMI1AABEmAAAL0kAAP1QAADHIwAA+XIBAO0FAADnAwAA4QoAAGkAAAAaEgAAuSUAAF8AAADhJAAAtREAAPoKAABrBQAAUiUCAIooAAAdEwAAfxMAAORiAABsBAAATh4AAIUCAAAfBwAARgQAABwEAABBAwAAVDcAADNGAQDYEQAAawIAAKITAACNDAAAKQIAALM2AAB2CAAA/wkAALQNAAANHQAAUEYAADkDAAAHCwAAWAYAAPdcAACmRgAAigYAAOUIAADcHgAAWXIAAEQBAABSBwAAywUAAAcDAADEzgAASRUAAF0KAAAWBAAAcwEAAP0aAABCAwAAGawAAP9rAACHBwAAeQcAACQQAAACNQAAUggAAAIBAACTogAAmwEAAGofAADUCQAA6wQAAOkPAAC7AAAA6gAAAHUjAADRAQAAVi8BABAGAAArDAAAlAUAAM4BAACtAwAA3gYAADMhAADxBgAAHwMAADMGAAASAwAA5QAAAAZxAADhDwAAxgoAACYhAADRZAAA2Q0AAEIFAACXDgAAuAsAAD0FAABFBgAAJA4AAEsCAABNMgEAHAEAAO4MAABjTwEAjgsAADcGAACNAQAApQkAACANAAAGAwAAVgYAALMDAACOAQAAQgIAAOMAAAD6AQAAFQcJALNGAAAYbQIAdmwBAMsEAABJFQAApQsAALgDAACrVgAAShIAABkBAAAWDQAAwScAACIBAAAGzAAA2goAAKuCAADGAAAAbgYAAFgCAAB8DQAAdg4AAEYJAABPVAAACAMAAIMJAADmTwEA6w8AAEkNAAAiFQAAdAUAANYHAAA0CwAAFRUBAD4YAADIMgAAKZIAAHgFAAAbqgAAVAQAANwnAAAaXAAA8FEAAA8tAACpGgAAES4AAC4oAABnCAAAjGUAAIFaAwCMOAAAKjIAACGKAACvKwAAH0kAAH9qAACRFgAAHoABAFoeAAAbiQAAtS4BAKkdAACxRAAA+T0HABQCAAB8DwAAnkUAALwEAAAgjAAAInAAAIqcAACGVwAAf4MAAHsDAAChUgAAaA8AAHWMAADAPwAAMkwAAFYAAAAGAgAAdwAAAB0AAAB/AQAAbQoAAL8AAABLAAAA+gIAAB4eAACDAwAA4QMAANcCAABaAQAAYQsAAJEpAADmAQAAcwIAAL8LAAAIAgAARgAAAGsCAADzMQAAbgAAAOcDAACbAAAAVAQAAC0BAACnBAAAnwAAAAoBAAD/CAAALwAAACAAAAA1AAAAHgQAAHoAAADuBgAAfAAAAPYJAACsDgAAIQAAAFQBAABSAgAALgAAAPcAAADuAAAAQQMAALceAAAgAQAAgQAAAKICAACOAgAAfwEAAOwAAAALCQAA5gAAAL4AAABWUgAANgAAAGAFAABLAAAAlQgAAC0LAAB0BAAAawkAACMQAACvAwAAeREAAA8AAACNIAAAYQEAANEBAAChAAAAZA8AAAgiAABYDAAARgAAADsCAADEAQAALgMAAE4AAACWAgAA0gAAABUhAABHAQAAmQAAAH4BAAArAwAAMAEAAGoAAABMAAAAbAAAAD0LAABGAAAADwEAAE4HAACIAAAAMwAAADEJAACuCAAA/gMAAP4JAACTCQAAYAkAAGIAAABdAAAAWgAAAIMAAAAOAgAAtAAAAEQAAAC0AgAArAAAACMAAACxAQAASQAAADkeAAAOAQAALgEAAJwBAACqAAAAgQEAAA4CAACwAQAAZAUAAJ8AAAAmAAAAtAAAAG8AAAA1AgAA2QAAAC0FAACdAAAAlwAAAH4AAABVCAAAaQAAAIUDAACuAAAAKAAAAJIAAAB3AAAAwwsAANIAAAArAAAA9wYAAJwKAAD3AAAAXwEAAEMTAAAtAQAALwUAAIMAAADCAQAAMgAAAGkLAADcAgAAzw0AACMBAADCBAAABgEAADcOAAA6AAAAhwMAAAACAAA9BAAAawAAAEwAAACPEAAAWAEAAMgCAACYAgAAEwEAAHQAAAArAAAAjgMAAD8AAADoAQAAegEAAJcBAAC4BQAALwAAAPcPAADXAAAAMgcAAB0AAABIAAAAMwAAAI8AAAC2AwAAoSsDAHMXAAAaAAAALQAAABECAAByCwAAaQEAAHUOAAC/AAAA1gAAABUAAACAAAAAewAAAHAAAABRGQAA/hIAAGwBAABZAAAAWgMAAEQHAAA7AAAALQUAAN8EAAArAAAAogIAABoqAACUAgAAMwAAAGEAAABzAAAAHZcAAJsAAAC+AAAArAAAAFwGAADpAAAApQAAAGwBAACCAgAAiAAAAEMBAACUAQAATgAAAKsAAACMAAAANQEAAKAJAACzDgAAPREAAEwAAACqAAAABQwAAHEAAABjAAAA9AQAACAnAABPAgAAHgYAACIBAAApAQAAIgEAAOMAAABSAAAAlkwAAM8dAADBKwAADAkAAGUQAAABEAAA/D4AAKEGAAAKGQAAXwkAAMoDAAC/BgAAVQMAAMEFAADgBQAAqCsAAPQzAABuAQAAtQMAAMwCAACXCAAAQwQAABgDAACEAgAAPQUAAKoEAAD7NgAAxAkAALcDAAAMBQAA1gQAAF8WAAA0BAAAZAwAAAAEAAAyBgAA3gEAADcEAABOBAAAoCUAAJgCAACiBAAATQUAAEgFAAChAgAAtQEAAIwEAADJBQAAzgIAABwHAAAVCwAAHgMAALYKAABVBAAAfAcAAO4DAACeAgAAXQkAAIoFAAAACAAArwYAALuZAQBIBQAA/gUAAAoCAABLGgAA4QYAAF0DAABfBAAAQAMAALAHAADKAQAA8wIAAFICAACbBAAA5AUAAEgTAAAGAgAAfwUAAH8QAABuBQAADwQAAFYWAADFBwAAWQQAAC0EAADQBQAARgEAAB0JAADEBAAAdwMAALsDAADmNQAAsAoAAD4HAAAeBwAArwQAABsDAAB+BgAA/gEAAPoFAAAcJwAAWwIAAFcmAQByBQAAcQYAAGQFAAB0BwAASQQAAGsHAACdLAAArBgAAOwBAAAQKAAAkwUAAGxWAAC0DAAA+wwAAEwMAAAVPQAAIBMAAAwDAACgDgAAERkEAKUoAADYJQAACwMAAEoEAAAhAQAACgQAAIqVAAD8LwAAEygAAI8qAAByNgAA7TQAACSNAADpCQAAlgcAAFMUAACwHwAA7hMAANwCAAB/XQMAIBQAAAYCAACkBAAAhwAAAGEaAABAAgAAbh4AAKMCAACIBAAAUwcAAJ0GAACwFQAAPAcAALAGAAC/EgAALTwAAFABAACpAQAAkAEAACEBAADxBAAAcc0AAE0DAAApBAAA3w4AAPsNAAAuAgAAAwYAAEEiAABaDwAA+AAAAO47AAAoBAAAiAAAACYAAACqAAAApxoAAJADAABSAAAAJgAAAEMCAACaAQAAUAEAACwAAAAPBAAA2wAAAIIAAAA1AAAAzAQAALsYAAAWAAAANQAAAIgEAACGAAAA9QIAAB4AAAAvAAAAEAAAAHIAAABlAAAA/QAAACgBAAANAQAANwAAAFMAAAAxAQAASAAAADwAAADPBwAANwAAAEABAAC1AAAAWwAAAKgAAADFAAAA8QAAAOwIAADbAQAAsgAAAK4BAACAAAAAYwAAAIwAAACBAAAAQAAAAIcAAAAuAAAAGwoAAHwAAACaAAAAiAAAAKsAAADsAgAANwIAAOQBAADlCgAArBUAADcAAABKAAAAagcAAJ4AAABqAAAAqgAAAIkBAACQAAAAdQAAABEBAABaAAAAPgAAACkAAAAHBAAAOgAAAJEAAAA6AAAAygAAAE8AAAAPAQAAZQAAAEcAAABHAgAAOwAAAFAAAAAuAAAAJwAAAKoAAAA7AAAAwisBANcAAABoAAAAdwcAADkAAABIAAAAGAEAAHYAAACjAAAAwQAAACoAAAB6AAAAYgAAACgAAADqAQAApgAAABIAAAC1AAAAUQAAAPsAAAC0AAAAOQAAAMAAAAAdAAAAjQAAAIgAAABLAAAAmQAAADYAAAA1CwAASQEAAJcBAACWAAAAFAAAADEAAAA1AAAAXAAAADQAAACQAQAAKgAAAKYDAADAAAAAXQAAAJ4AAACwAAAAigAAABYAAABKAAAA9AEAAMYDAAAtAAAASgAAADQAAAA8AAAALwAAAEwAAABTAAAAaQQAAKcAAAAhAAAALgAAADIAAABCAwAAMAAAAGMAAADRAAAAPQAAAMkAAACuAAAAMAAAAGwHAAAHAgAAqQAAALcAAABpAAAA7wAAACUAAABsGQAAQwAAAF0AAAAuAAAAHAAAALAAAAAUAwAAhAAAADwAAACTAAAAbwIAAG4BAABMAAAAGAAAAGAAAABTAQAAKwEAAD4AAACmBAAAqAAAAMEAAAA5AQAATAoAAEkOAABcMAAAPS4AAI4lAAC4NQAAoQYAAFpoAAC2EwAAxAwAAHYJAACSBwAAoxEAANkDAACrTgAANwwAAGUGAADqCAAA/zoAAEUqAAA5JwAANU8AANMJAABaXgAAkBQAAF8SAABzSwAASREAAMcCAAAOEAAAMDsAAF4OAAAgRwAACAwAALoLAACFRAEA51AAAN0KAAARRAAAnFoAAMwVAAAQDAAAMHEAAFwUAADECAAAbRkAANYkAADnKAAA+kUAAKYiAACgHQAA1jUAAC5EAAAnFgAAWXwEAO0WAACpEwAAgZMAAPEnAADxEgAAjwAAAIQAAABYAAAAHwAAAEoAAABlAAAAwAEAAAIUAADIAAAAFQQAAGIAAACGAAAAWwAAAGAEAAD8AAAAyQIAAP0AAABiAAAAlgAAAAcCAABAAAAA+AAAABsKAABjAAAACQEAALUAAAAxAQAAhAAAALcAAABZAAAARQEAAOMCAABgAAAAugAAACsAAABkAAAAnQMAABgBAACGAQAASQAAADAAAAClAQAAGgAAALUuAAD7AAAAgwAAAEsAAABGAAAADAEAAPUAAACBAAAAMQAAAMQAAAA7AAAAbQAAAG0BAADhAAAASgAAADwAAADtAAAAghAAAEIBAACxBAAAZwIAAFUAAACDAAAAvAIAAI4AAAD6AAAASwMAAEYAAAAXAQAAjwMAACQDAAC+AAAA1B0AAHAAAACfBQAAuwAAAEQAAAA/AAAAqAAAAOsLAADNAAAAIgAAAC8BAAA+AAAAQwAAAG8AAABtAQAA8AEAABcAAADhAAAARi4AAF8AAACtAAAAbAAAAKIAAAB5AQAASQAAAH0AAABBAAAAoQgAAJAAAABkAAAAbAAAAGsCAADiAAAAlAAAAMwAAAD0AAAAIgAAANMAAAD1AAAA9AAAAMwAAACnAAAANAEAAGIAAAC1AAAA/wQAAIwCAABUAAAA/AAAAPQAAADxAwAAjAAAAMACAACQAQAARQEAAAgBAABtAAAAzAAAAJsBAAA3AAAAHwAAAJAAAACcAQAAfAAAAE4AAACEFQAARQAAAOIAAAA+AAAAQQIAAGUAAADNAAAAHgAAAB0BAAAfAAAAxwAAALcAAACsAQAAugAAAO0FAADRAQAAkQMAAOYFAADpAwAAvQEAAIcAAAAaAQAAUAAAAMUAAAA5AAAA+gAAAFIAAACDAQAA+wAAAL8CAABlAAAAZQIAAJ4AAABpAAAAsAAAAFgAAAC/AQAAfQEAAPwAAAArAAAANQAAAFUAAAD1AAAAfwAAAMYAAAAGAQAAMwUAAJQAAADlAAAA4AAAAFgAAAA2AgAATAAAAP4BAADGAAAAhQAAAEoAAAB4AAAAoAAAADcBAAA4AAAALAAAAJcAAABqAQAATAAAAF4AAAC2AAAAcgAAAJcAAAArAQAAigAAABABAADxAAAAgAEAADgAAAA5AQAA3AAAAHwAAAA6AQAAhwAAANcAAABWBQAAnwAAAEgAAABGAAAAmQAAADQBAACvFwAAtQAAAKsAAAAjAAAAOgEAAHoAAABeAAAAlQAAALYAAABAAAAAwgAAADQAAACOAAAAIQAAAI4AAADhAAAAQQAAAGABAAA3AAAAxQAAAEEAAACuAAAAZAAAAMkBAAC7AAAAUQEAAK0AAADiNQIAYwAAAHAAAABIAAAAdwQAANsCAABDAAAAMwAAANQAAABxAAAAdAEAAF4BAADqAAAALwEAAG4BAADJAAAAkQAAAA0BAABcAAAAXwAAAIY5AAAaAQAAvAEAAJUAAADlAAAARAIAAGUAAAD8AAAAtQAAAJ0AAADPAAAA9gAAAIoAAAAqAAAApAAAAK0AAAAAAQAAAQIAAGMAAABMAAAAEQMAAA0BAADFAAAAUwAAAGEAAAB5AAAAlAwAAP8BAAA8AQAAVgAAALgAAACgAAAAIwAAADYBAAC9AAAAVAAAAL0AAABDAAAAlAEAADsAAACAAAAAbgAAAB4BAAB3AAAAOQAAAAgBAABIAAAA2wAAAJUAAAATAQAAHAIAAGMAAABrAAAAiwEAAAQBAADYAAAAbgAAAPUdAACuAAAAYgAAAP0AAADGAAAAmwAAAMwAAABOAAAAQxoAAGAAAADjAgAAmgAAACgAAACkAAAAFgAAAIkAAAAqAQAA7AAAAIoAAACwAgAA6gQAANsCAAA5CQAA3gAAAEcAAADAAAAAMQAAAIUAAACYAAAAdcUAAFQEAAAXCAAAkBYAAKAjAABgUgEA3gcAAAQdAADgFwAASBIAAHtwAAD6CwAAsBEAAGwHAAA8EwAAvwcAADffAADZFQAAclgAANRUAABfBwAA3V4AAAJyAgA7TwAAyCMAAFmmAADcHwAAkXoAADMJAACLCgAAkpIAAD9GAADIEAAAKBMAAGJaAABaJQAAzTwAAJ85AwAaPAAAVTAAAD4kAABhEgAAqmAAAOMKAADPEQAAjSwAAHwKAACUFAAA9hIAAIoLAABhJAAAzhMAANoHAADDCQAAfREAAAsBAADcBgAAUAcAAOcIAADdAQAAI0gAAIUSAACiAgAAVQgAAOIfAAAcAgAA5gMAAMkDAADWdgAAoQIAAOkWAAC0DAAAyoIAACICAABSBQAAXCEAAGIIAAA9KgAAWwgAAJgOAAAOFgAA4AIAAJoJAABLBwAAUAYAAEUCAAD2AAAAACoAAMoEAABWCQAAxwcAAGACAABGFAAALQgAAAYeAAAHCQAAZRQAAI4BAADIBQAAjAoAAM4IAAA6AQAAFAEAAEYAAACfaAAAygAAAF8YAABJBQAAQQsAAPULAADKAwAAdiEAANAgAAAHEgAA6gkAAOoDAACLBgAABQEAADAEAAA9AwAA+AIAAEgJAACoAAAAsAEAAFYBAAAINgAAlyQAABWoAgBzEAAAAAEAAMsGAACkKgAAmA8AAPwBAAA2BwAANAQAAFsEAACEIwAAdwEAAM/JAAA1AAAAnQAAALIDAABoCAAAdAMAAEABAACjAwAA7AoAALICAAAAAwAAlQYAAHEPAAD8AwAA/AAAAIELAABbAwAAKAAAAHsAAAA0AgAAGgAAABIAAABPAAAAOwAAACoAAABsAAAAHwEAAEMAAAA7AAAAGAAAADcAAAB3AAAAQgAAAB8AAAC0AAAAEgAAAPEAAABRBAAAlgAAAIgAAABpAAAAJAAAAM8BAADfBAAA0QIAAFYAAABLAAAAxwAAAJACAAAZAAAAAwEAAOYNAACTBQAAxgkAAIgAAACbAAAAbgAAADAAAAAfAAAAIAAAABgAAABRAAAAkQAAAIYAAAAjAAAAHAAAAKcGAAAzAQAAdgAAAE8AAABNAAAASQAAADolAADlAgAAIAAAAEsAAACrAAAAKAAAAGABAADUAQAAFAEAAKYAAABHBgAAqgAAACABAABNAAAAeAAAAGMAAACLAQAALQAAAAQDAABEAAAAUwEAAN8AAABkAAAAhQAAAF0AAAADAgAAcQIAAAABAAAxAAAAKwEAAH4GAACqAAAAwAEAAC0AAAC4AAAAagAAAHMAAABUAAAAMwEAAEAAAABZEgAAZQAAADUAAAAHAQAAMwEAAPkAAAD7AgAAzwAAAAcBAABHAAAAQQAAACsAAACKAAAAoQAAAHwAAAA4AAAAKAAAAIsDAAA1AQAAkQAAAOMKAAAXAQAAYQAAABQEAAA1AAAAXAAAABkAAAD6BAAAbgEAAAABAAD3AQAAPgAAADUAAADGAwAAGAAAAFAXAABdAQAAMAAAABQAAADCAAAAYAAAANQBAAAzAAAAwgAAAEoAAAA8AQAAGwAAAGAIAAArAAAAGwAAAP0AAABKAQAAzQEAAJoAAABTAAAAAwQAABcBAAD7AAAAhgAAADcBAAB1AwAAMQAAAFUAAAAXAgAAMwAAAOoAAACJAAAA8QAAAEXJAADcAwAALwAAAB4AAACHAAAANQAAACQAAAAyAAAA2AUAALMAAAAAAQAAtAAAAFEEAAD5AwAAYgAAADwAAAAdAAAAUAAAANoAAABNAAAAZgQAAEoAAADYAgAAQQAAADQAAADFAAAAUwEAABEAAAD1BQAAUQIAABUAAAB4AAAAdQAAAPIBAACYAQAASwIAAGkAAABgAAAAtwEAAIQAAABRDAAA+gcAAIkGAACXDAAAeiwBANovAADPDAAAGkEAANkEAAAwBQAA/RkAANlLAAAWEwAAvxcAAAYMAAC+HAAA8ysAALpZAABTMgAAnxwAABpAAAAhcAAADBQAAOgpAACvdAAAOQoAALsUAAAOFAAALwsAAAFDAABkAgAA5wUAABUSAABuFgAAd3kAAK4EAABZEgAAgg8AAI4kAgBMmgAAYkAAAGowAABPHAAALAMAAOkoAADzHgAASg4AANQ0AADaCQAA8DYAAKYZAAAgDQAAYWwAAHgDAAANRwAAEhIAADEBAACuXgAAGrsAALZLAAD7CQAAUwoAADQOAAB3GwAAXGoAAPAFAAAgJQAA3kMAAGWXAAA9JAAAexoAAN0TAABWDgAAGTcAAM0JAAAvKgAAbwsAAF8uAAD7BQAAUZ4AAFQQAACfBQAA2gwAAMwVAAAyWgAAJzgAAFgCAACxIQAAdRAAAIB9CgCdJAAAkGMAALIkAADNywAAkB8AAEUSAAAaGwAAqRMAAOoDAAByHgAAbksAAFINAACVFgAADCIAAIIBAAA6AAAAFgwAAMcAAABrAAAAOwAAAFMAAAAUAAAAEgAAABwAAAAeAAAAPAAAABgAAAAVAAAAtgAAAHwAAAByAgAAZBUAADwAAADYAAAAMwAAAEwAAAAJBgAAKgAAAEYAAABzAAAAegAAAGsAAAAZAAAAkAAAADwAAAApAAAAPwMAACYAAAAaAAAAHgAAAOQAAAAcAAAASgAAAFQUAAA1AAAAKwEAACsAAAAzAAAAaAAAABsAAAAWAAAADgAAABIAAAATAAAAkgAAACIAAACeAAAAXwAAABUAAAAeAAAAOgEAAA8AAAAnAAAARgAAABQAAABEAAAAJgYAABgAAACjAAAARQAAAEgAAAClAAAAAgQAABQAAACXAAAAgAAAAA0AAAAVAAAAEwAAAJYAAAAgAAAAQQAAAD0AAABAAAAATgAAADMAAAA0AAAAEQMAAPMLAAAgAQAAGgAAAAsAAAAZAAAAzAIAADEAAAANAAAAQAAAAAkAAABRAAAA/gAAAJ8CAABOAAAAKAAAAJ4AAAASAAAAsQAAAIwAAAAtAAAAygAAADcAAABLAAAAJAAAAEcAAADcAgAAMgAAADAAAACsAAAA/g4AAD0AAAASAAAADAAAAG4AAAAuAAAAAAIAAH8AAAAKAAAA3AEAACQAAAA+AAAAFAAAAG4AAACCAAAAFgAAAAgAAAB7AAAALAAAAJEAAAB3CwAAOwAAAJ0HAABrAgAAOAAAAPIAAABxAAAAegAAACEAAAAunwAArwAAACEAAAAXAAAAOQAAAGUAAACoAQAALgAAAGAAAAAtAAAAGgAAADgAAAAvAAAAWwAAAFMAAADaAAAAJQAAAA0AAACJAAAAXgAAAAgAAAA+AAAAEwAAAEMAAAAbAAAADwAAADEAAABWAAAACAAAADIAAAAeAAAAnAAAAEsAAAA8AAAAGAAAAEEDAAAeAAAAIQAAAGoAAAAlAAAAvQMAAHUKAAAZAgAA1yYAAOQUAABwAwAAwgMAAGkBAADjBwAA+AEAADoFAADOFgAAzRwAAG1YAACBAAAAfhYAAIEAAADPAQAASAYAABMNAADXAQAAVQcAACoBAABxCQAAzgIAAKIEAADQAAAASBAAAIkBAAD4AgAA1AgAACoCAACWBAAAuAIAAC4BAAApBQAAVHwAAPGPAABqAAAArAEAAPAAAACzCwAAYhQAANoVAACgAAAAcQAAAOgaAAD7AwAA/wMAAF4QAAC8PQAAhAQAAN4AAADpDgAAKAsAAFQDAAAkAAAAegAAAFkBAAD8DAAAKAAAAKgBAADEAgAAXgwAAB8CAADKAAAAGgMAAGQCAADlAAAAAgEAAIUEAABlAAAAZQAAAH8JAABqAAAAVgIAACMCAAB9BAAAPQIAACABAAB5AwAA4AEAAMUAAACwAgAAMwEAAH4dAAA4DAAA2QEAAH0HAAC4AAAAIjcAAF4WAADyDAAAJg8AAIoAAABjAgAAKAIAAE8BAACOEwAAogAAACACAAAcBQAAWwsAAOUAAADTAwAA8gEAAFUJAAATEAAAWAEAAAENAABOAQAAoQEAALIAAACZAgAAuQAAAPcCAAC1BAAATwIAABgDAACeAAAAaq0BADkCAABoBAAADwcAAEEFAADQBAAA+RoAAPYAAAAJAgAAsSAAAJMBAAANAgAA8woAAPMOAADwCgAAWA4AAHsAAAAvBgAAMgAAACQHAAC7FgAALgAAAHICAABfJwIAqAMAAGAGAAB3AAAAdwIAAEBGAACJAAAAwYkAAJcZAACgAQAAWQAAAGEAAACfBwAA12EAAMAbAAD4nQAA+gEAANMCAACTCQAAYgIAAG8AAAApAgAAXgUAABJdAADUAQAAgAAAAM8AAABgAgAAfQMAAKgBAABgCQAAry4AAFMOAABADQAAdxEAAFp4AABhDgAASgAAADkAAAARAAAAIwIAAFIAAADQAAAAuwAAAI0HAADqAwAAKwEAACcAAAB6AQAAdz8AAKIMAADnAQAAWQEAAAwAAABFAAAAGgAAAHwAAAAnAgAAHgAAACIAAABaHAAAbgAAAMIAAADJAAAAeAIAAF8AAAAYAAAAJwEAAJsAAABzAAAAGwAAADICAACHAAAA1QAAANgAAABEAAAAhgAAAEwAAABxAAAAwwEAADcAAABgAQAAQgAAAMADAAC+EQAAXg4AAEoAAAB/AAAAjgAAAHgAAABbAgAAzwIAACcAAABQAAAAJgAAAG8AAABBAAAAQgAAAFQAAABjAAAAIQMAADgAAACXAgAAhwIAAEkBAACCCgAATQAAAEEBAAB2AAAAQQAAAD4AAAA6AgAAWwAAADIAAAA6AAAATwAAAF8AAABzAAAAiAAAAKkAAACNAAAABAMAAMsAAABOAAAAIwAAAJ4AAABIAAAA2AAAABkBAADLAQAAcAAAACMAAABSAAAAswEAAJwAAAAhAQAAkAAAAFcAAADTAQAAxAAAAI4AAADtAAAASQAAAOAGAABjAAAAVwAAADkAAAB5AQAAPwAAAD4AAAAxAAAAJwAAACMAAABHAAAAGAAAAGYAAAA4AAAA6QAAAHAAAACZAAAAIwAAABsCAAByAQAAyQQAAA8BAAAPAQAA4QEAAFEAAABrAAAAIAAAAOQAAABLAAAA7QkAADQBAACNBAAAKwAAADoAAABSBgAAPQAAACACAAA8AgAAggAAACAAAADBAAAAHwAAAMUAAABIAQAAJgEAAG8BAADKAQAAdwAAAKAAAABxAAAAOQAAAMwBAABKAAAAWQAAAA8BAAA9AAAALgAAAGIAAADxAAAANgAAAEIAAACmAwAA0QEAAI0AAACVAAAAYgAAAHkAAAA9AAAA4QAAACsAAAAaAAAAZwIAAA0AAAAaAAAA2gIAAIkAAACIAAAAGAAAAPwDAADABAAAMAAAACYAAABLAAAA0gAAAGmPAAAiAAAAHwAAALYAAACSAAAAtAEAAHUAAABSAAAAFAAAAHoAAACDAAAAUAAAAGcAAAC/AAAAtgAAACQAAAD2AQAAOgAAAIIAAAA8AAAAuAEAAB4MAAAgAAAAwAAAAEQCAAAcAAAASwAAADEBAADxCQAASAEAACUAAAAYAAAAKAEAAF0AAAAwAAAAogAAADUAAACjAAAAZgMAAKMAAAAnAgAAUQEAALYAAACDAAAAPwAAABsAAAAuCQAAjxAAAPoCAAD5AgAAEwEAAH4GAAA9AwAAzQAAAM0BAACdAQAAWQEAAKMDAACoCQAA6hQAADoEAABmGwAAIQEAABkEAABbKwAAlAUAAJoQAAB5AQAAnw4AADQFAABZCAAAMgEAAEwBAAClEgAAyQAAAAYCAAAaEgAAXgIAAEIBAADnBgAAhgEAAEQDAABRBwAAKhUAAAoBAABQCAAAuhsAAMEAAACZAwAAMggAAKIMAADxEAAAqQEAAO8BAACnAgAAbAoAAJQRAAAeJgAAdRQAAOwEAAAXEwAA+QAAAIsBAACbCAAA4gAAANkOAADZBQAAogEAAMgWAAALAQAA3DAAAL4LAADXAAAAzwoAAPYGAABwCAAAGAMAAEgBAAB8AQAAlwAAAOADAABrAwAA6wYAAAIAAACffQAAIwUAAIoDAAC9CQAA/woAAHUCAAB2JwAAEhAAAI4GAACOAQAA+AEAAAgBAACiAAAAqAEAAJMDAAD2BAAAaQUAALUJAACBGAAAyAAAAH0SAAA0FAAAmgEAAEwCAABtAQAAyiYAAIIUAAADAgAACA4AAEcHAAA2AAAASAgAAGkHAABXAgAAcA8AAN4DAAB/AwAAhw0AAPAVAACrAAAAhTgAAPMiAACAEwAAIwoAAAQKAACvAQAAngQAAMMNAACBAAAAXwEAAEsBAAC7DAAAXA8AACoJAAAXEwAAYB8AAFoIAAB/BAAAkwAAAEAGAADTAwAAuisAAAYHAADVAwAAnxMAAG4AAABbAwAA/AAAAB0CAABbAgAA9wIAAFwCAABsBgAAQAgAAFYBAAAEEAAAxg8AAK4NAABkAAAAYgUAANV1AABsAgAAQCwAALcAAAACSwEA2QcAAP5RAQDBAAAA3gAAAIwHAAC+AgAAEzcAAHMBAAC0AgAAqhYAAL4JAAA1AgAAoxIAAFsLAABeBAAAQBAAAOcAAAARJQAA4Q0AACETAABLEAAALQQAAPEBAABlAgAAkwsAAKQCAABOAAAA/wkAAEMHAAA9CgAAKgsAABQYAAB5FgAA+RkAAKUVAACpEwAAMAMAAB8yAADNBAAA7AMAAMEGAACRBAAAcAkAAEZ1AABbGAAAjkIAAHYNAACZEAAA7AUAAMEqAAC/BQAAQxEAALQpAACRBQAA57gAAKsCAAByMAAAPhUAAPOEAABzVgAA6QEAACcOAACXBAAAQG0AADw5AAD4HQAAHQEAAFMKAABhIwAAvAIAAAgGAABEAQAAIwoAAFoEAACIAQAA9xEAAKAAAACkFAAAMgYAANoFAACAAgAATxMAAC4BAACrAAAAMDAAAJUCAACJAgAAwj8AAHMHAADRAAAAXQIAAA4JAAAYBgAAYi8AAPYBAAAMCQAAmQIAACsIAAAZBgAA5QEAAMBrAAAwAgAANBAAADUFAADQDwAAmgAAAA0DAAAlJgAAup4AAL8BAACkBAAAZzQAAFseAABFUwAADgcAACxAAABjAAAAiwAAAKcAAAApDAAAMAkAAJAAAAAfAQAAlwsAAL51AADQAgAAbwEAAGMEAABlDAAA9gIAADcBAAAQBAAAwGYAAHkGAACeCAAAdV4AAI0GAACHCQAA6wEAAD4jAAABfAAAXUMAAKUCAABbDQAAswIAAFIBAACNTAAAtQIAAKESAABfBgAAbQAAAFcOAACNCgAAswMAAO0DAABRHgAAYg8AALcCAAAMBAAA3zgBADACAAAvDwAAfTQAAFYQAAAmAQAAaBcAAF8CAAAWAgAAIwMAAJwXAAD1AgAAqnYAACUJAAD1YQAAiggAAAsCAAAfCQAAnAMAAHkAAABKAgAAIQQAANQEAADPCgAAmA4AAMMFAAARfgAA3AkAAIEHAABdCgAAQEMAAGkoAADuKgAASQEAAMwLAABJtAAA6VUAALglAABaBgAAbgQAAEECAABTGgAA7wsAAApmAAB5CQAAyCEAAE6OAAC4AQAAZGwAABgHAAAEBAAAVgIAAEYkAQA0DAAAdgQAAGQuAACnWAAAewwAAJQAAAD3CQAAUAQAAHQjAACRCQAAMwAAALBpAADZEQAAMlMAAKMCAABeBQAALgkAANABAAAEUQAApl4AAOoGAABJHgAAhgQAAKsAAACKAQAAnCoAAKcAAAB/AQAAHQAAAGQEAACNDgAA/wQAAJVOAADZDAAAgQQAAKsTAACwAQAAQG8AABIEAACjJQAA30QAAF0CAAAiAQAA7gEAAIcBAACWAAAAOV0BAO4CAABNBQAA0QQAAHgdAAC3LQAAXJoMAAcMAACDAAAAlAAAAIYEAAAhKwAAvw4AAFICAADLDQAAwggAAOsAAACCAQAArQEAAIYpAAB4BAAAMgAAABMAAAADAQAAfwUAAGYCAADaAAAAExgAABYAAABjAAAA/FYAAD0CAABdAAAAZAAAADQAAADIAAAARgAAALEAAAAkAAAAXQAAABwBAABLAAAAUQAAAAURAAD+AAAAZQAAAEEAAAA3DwAAIQAAADgAAADsAwAAxgAAAJMAAAD8AAAASQAAAKoDAADXAAAAsAAAAHkAAACYAAAALQAAAI4AAAAxAAAARgEAAIkBAAD/AgAAgAAAAL0AAACsAAAAWwAAAPQUAABmAQAAQSQAAJAAAACEAgAA0gAAAGkAAACUAQAAwAAAAHcAAADaAAAAAgEAAK8AAABvAAAAHwAAAEQDAABZCAAAmQAAACoAAABtAAAAKQAAAOgBAABwAAAAqwAAAPwYAAB7WQAA+gAAAKEAAAAzAAAAMAAAACkAAAD3AwAAcQAAAIEFAACBTgAAuREAAKYBAAByAAAAogAAAEENAABPAAAAaQAAAFwDAACSAAAAJgAAAIIAAABKAQAAswIAAKkAAABvAAAAhQcAABYBAABHAQAA7A0AAMUAAAAmAAAApAAAAOABAACXBAAATg0AAJQAAABEFAAAXgEAAKcBAAA2AQAAowAAAFgAAAAyAgAAQAkAABoCAAD0AQAAMgAAAC0AAACbAAAALwAAAOADAABlAAAAsAAAAC4AAACEDwAApQAAAFcAAAAaAAAA1gAAAE8EAABvAAAAZwAAAGcAAABeAAAAVAAAAIYCAABvAQAAawAAALIBAAAwAAAALQEAABcAAABJAAAAbAAAALsAAABfEgAAoAAAAF8CAAD1AwAAVQQAAKMBAACiFQAAVAAAABoBAAB3AQAAviEAAPoAAADjAAAAHAAAAD4AAAA5AAAAggEAAKQAAADYBAAAOgEAAFIiAADKAAAAZAAAAMsAAACPAQAAQAAAALkAAABMBgAAdAAAAOkCAABbAAAASpYEAFEAAABbAAAAowAAAHEAAAB5AAAAZQAAAPQIAABLAQAA+wEAACAAAAAYBAAAQgAAAFIAAABLAAAAPQAAAPEAAADUAQAAVgAAACABAAAzAAAAIAAAAOoBAAA6AAAAiAEAAGQAAADYBQAAMwAAAHoAAABjCwAA6gQAADsAAACdAAAAcAAAAGYAAACIAAAAZgAAAEMAAACRAAAANQAAABECAADdAAAAJwEAAO8YAAB2AAAAPAAAACUEAABsAAAAfAAAAIcAAACNAQAApgEAAKQBAADAAQAA2AAAAFAAAADaAAAAcQAAAMIAAADhAAAABAEAABIBAAD9AAAA/QAAAF5DAAAMAQAAAgQAAKYAAADDAAAAdAAAAGMAAABqAgAATwAAAJcAAAAfAQAA6gIAAKUBAADJAAAA0gEAALYAAABWAAAAdQEAAHYAAACuAQAA2gAAAAABAABKAAAA6gAAAGwAAABuAAAAIQIAALMAAAANBAAAUgAAACcBAAB1AAAAKgEAAFAAAAB/AAAAaAAAAFQBAADwAQAAfQQAAMMBAABmAQAAowEAAD4BAAD7AgAAcgAAAFYBAACPAAAAfwAAAFkAAABXAgAARgYAAGkBAAAsAAAAIgEAAAAEAAB0AAAA0wEAAFwAAADFAAAA+gAAAGgAAAA6AQAA2AAAADMBAACVAAAATgAAALsAAABZAAAAIgEAAJUAAACpAAAAxQEAADYBAACMAAAAZAAAALcBAACBAgAAXgEAAIAAAACHAAAAnQAAACQAAACYAAAAXwEAAJ4BAADHAAAA6QAAAC4AAACCAQAA4wMAAB8CAAAGAQAADgcAACsBAAANDAAABQIAAJcDAACWAAAA2wAAAEQBAAAgAQAAvAAAAGgCAAA9AQAAowAAAMEAAACmAAAAGAEAAPAAAADmAAAAwwAAABwBAAAmAQAA/wAAAHcBAAB6AAAAigIAAPABAACUAAAAXgAAAGoAAAC4AAAArwAAANcAAAARAQAAIwAAAJwAAAC+AAAAkQAAADUAAABWBQAAsQAAAF8AAAAtAAAAYQAAAHsCAADoAQAAOgEAAG8AAADlAAAAVwIAAOoAAAD+AwAAkAEAAIoAAAAxAQAAVQAAAJwAAACmAAAA+QAAACYFAABtAAAA1wAAAC0AAAD8AAAAdwAAAKUBAABCAQAAnwAAAOgAAAADBAAABAEAAKkAAAAiAQAAMwAAAGYBAABMAwAA4wAAAEMBAACtAQAA0gEAAOwCAAB8AAAAsSAAAOIAAACXAQAARgMAAKUAAAB5AAAA8wAAAJ8BAAA7AAAAgwAAAEQAAAAfAQAAWwAAAE8AAACvAQAAtwEAAEwAAACMAAAABwEAAEoCAACzAAAA7QAAALgBAABqAAAAQAAAAPgAAADUAAAAewEAAMEAAABPAAAAdwUAAJMAAABTAQAAbQEAAPkAAAB9AQAAdQAAAFkAAAD5AgAADQcAAIgBAAAxAAAAAgIAAHQAAAA+AAAAfwAAAJ8BAADPAAAAnAAAAKMAAABIAAAAoAAAAHLoAABQAAAAjQAAAIUAAABXAgAAEQEAABMEAAA+AAAAGh0AAF0AAABUAAAAjQAAAGYAAADzAAAAmQAAAE4AAAAxAAAAbwkAANYFAAA9AAAAnQMAABYAAAAfAgAA6QAAAPcCAAABHwAATQIAAP4AAABwAAAAqwIAANgAAAB1AAAACAEAAEwAAAA6BAAAVgAAAFkAAACIAAAAxAYAABkCAABRAAAAEQAAABMAAAAeAQAA5AAAAOUFAAC1AAAAJgAAACEAAABdAAAASAMAAFsAAADvAgAALwAAAEcUAABDAgAA4gUAADkAAAC5AwAA8AAAANAAAACQCgAAOwAAAOEBAAAyAAAAHxIAAIpNAABaCwAASAAAADoAAABwAAAApwAAAIANAADAKAAATwAAAFgAAADGAAAA1gAAAAMBAAAlAAAAKAIAAFAAAABmAAAARgAAAMkAAADZAAAAIQAAAEkBAAAIOwAAjwAAACkAAAD0AQAAZgAAAH8HAADtQgAAHQAAALYAAADVEQAAcwEAAJkEAAAXBAAAigEAAK4BAACFAAAA9gQAADcAAACGAAAAaQEAAMIAAAD7AgAAkQAAABcSAADRAAAAhQAAACsKAADaAwAANgAAADIBAABgAAAAeAIAAPgBAAB0AQAApwoAAB4AAAAnAQAAJAEAAGwEAABzAAAAbgAAAGIAAABXAgAAQgQAACwAAABkAQAAwAAAAHwAAAAbAAAAPgMAAC0AAADgAAAA6wMAAEsBAAApAAAAXgMAAKMCAAApCAAARQQAAKsAAABJAAAAFwEAALoBAACTAwAAhwsAAGAAAAChAAAA4xgAAMkBAAC4CAAACgEAAM4AAAAcAAAAkwEAAHwBAAB2AAAArQAAAJgAAABgAAAAOgQAAOsAAAAvAQAADQEAAOMAAACCAAAAwgUAAKQZAABpAQAAXAAAAMsAAAAnAAAAPgAAACcAAAD0AwAAWwMAAPYBAAAyAQAAiwMAAG8AAAA6AAAAZQAAAEoAAAAsAAAArAEAAD8CAABfAgAAcAAAABkFAAC2DgAAcQAAACACAABhAAAAjgkAAMcRAAAlAAAAfgEAAB4AAABvAAAAGAAAABgAAAD5AAAAIgIAAIgAAAAaGQAAKgAAAB0AAABcBwAA/wMAAEkAAACFCwAAkQAAAEUBAABCAAAA6gQAAGcBAADCAAAAUgAAABIBAABRDQAAaAAAAHwAAABlAAAARwAAAEMEAACzAgAAbwAAAFQBAAADAQAARgAAAC8AAABnBAAASQIAADcBAABSAAAAMyoAAKEaAABJAgAAsQAAAMYAAABEAAAAqQAAACgAAABKAAAAHQAAAOcAAADiBQAAwQAAAK8AAABTAAAAegAAAGcCAAA3AAAAuAEAADEAAAAEAQAATkoAAB8AAAA7AAAAfwAAAH4AAABLAAAAzwAAAEoAAAA7AQAAWgAAADkAAABRAAAAnwAAAEMDAABUAAAAIQEAAM4SAABFAAAAeAEAAJ0AAAANAQAAnQEAAEUAAAAzAAAArAEAAIp7CgAFIgAAqgAAAFUAAAAmCwAAHUUBADNPAQA=",
           "dtype": "i4"
          },
          "coloraxis": "coloraxis",
          "size": {
           "bdata": "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",
           "dtype": "i4"
          },
          "sizemode": "area",
          "sizeref": 1000
         },
         "mode": "markers",
         "name": "",
         "showlegend": false,
         "subplot": "map",
         "type": "scattermap"
        }
       ],
       "layout": {
        "coloraxis": {
         "colorbar": {
          "title": {
           "text": "Population"
          }
         },
         "colorscale": [
          [
           0,
           "rgb(36, 86, 104)"
          ],
          [
           0.16666666666666666,
           "rgb(15, 114, 121)"
          ],
          [
           0.3333333333333333,
           "rgb(13, 143, 129)"
          ],
          [
           0.5,
           "rgb(57, 171, 126)"
          ],
          [
           0.6666666666666666,
           "rgb(110, 197, 116)"
          ],
          [
           0.8333333333333334,
           "rgb(169, 220, 103)"
          ],
          [
           1,
           "rgb(237, 239, 93)"
          ]
         ]
        },
        "geo": {
         "fitbounds": "locations"
        },
        "height": 1000,
        "legend": {
         "itemsizing": "constant",
         "tracegroupgap": 0
        },
        "map": {
         "center": {
          "lat": 40.73104854969704,
          "lon": -3.088087930772206
         },
         "domain": {
          "x": [
           0,
           1
          ],
          "y": [
           0,
           1
          ]
         },
         "zoom": 5
        },
        "mapbox": {
         "center": {
          "lat": 40.73104854969704,
          "lon": -3.088087930772206
         },
         "style": "open-street-map",
         "zoom": 5
        },
        "margin": {
         "b": 50,
         "l": 50,
         "r": 50,
         "t": 50
        },
        "template": {
         "data": {
          "bar": [
           {
            "error_x": {
             "color": "#2a3f5f"
            },
            "error_y": {
             "color": "#2a3f5f"
            },
            "marker": {
             "line": {
              "color": "#E5ECF6",
              "width": 0.5
             },
             "pattern": {
              "fillmode": "overlay",
              "size": 10,
              "solidity": 0.2
             }
            },
            "type": "bar"
           }
          ],
          "barpolar": [
           {
            "marker": {
             "line": {
              "color": "#E5ECF6",
              "width": 0.5
             },
             "pattern": {
              "fillmode": "overlay",
              "size": 10,
              "solidity": 0.2
             }
            },
            "type": "barpolar"
           }
          ],
          "carpet": [
           {
            "aaxis": {
             "endlinecolor": "#2a3f5f",
             "gridcolor": "white",
             "linecolor": "white",
             "minorgridcolor": "white",
             "startlinecolor": "#2a3f5f"
            },
            "baxis": {
             "endlinecolor": "#2a3f5f",
             "gridcolor": "white",
             "linecolor": "white",
             "minorgridcolor": "white",
             "startlinecolor": "#2a3f5f"
            },
            "type": "carpet"
           }
          ],
          "choropleth": [
           {
            "colorbar": {
             "outlinewidth": 0,
             "ticks": ""
            },
            "type": "choropleth"
           }
          ],
          "contour": [
           {
            "colorbar": {
             "outlinewidth": 0,
             "ticks": ""
            },
            "colorscale": [
             [
              0,
              "#0d0887"
             ],
             [
              0.1111111111111111,
              "#46039f"
             ],
             [
              0.2222222222222222,
              "#7201a8"
             ],
             [
              0.3333333333333333,
              "#9c179e"
             ],
             [
              0.4444444444444444,
              "#bd3786"
             ],
             [
              0.5555555555555556,
              "#d8576b"
             ],
             [
              0.6666666666666666,
              "#ed7953"
             ],
             [
              0.7777777777777778,
              "#fb9f3a"
             ],
             [
              0.8888888888888888,
              "#fdca26"
             ],
             [
              1,
              "#f0f921"
             ]
            ],
            "type": "contour"
           }
          ],
          "contourcarpet": [
           {
            "colorbar": {
             "outlinewidth": 0,
             "ticks": ""
            },
            "type": "contourcarpet"
           }
          ],
          "heatmap": [
           {
            "colorbar": {
             "outlinewidth": 0,
             "ticks": ""
            },
            "colorscale": [
             [
              0,
              "#0d0887"
             ],
             [
              0.1111111111111111,
              "#46039f"
             ],
             [
              0.2222222222222222,
              "#7201a8"
             ],
             [
              0.3333333333333333,
              "#9c179e"
             ],
             [
              0.4444444444444444,
              "#bd3786"
             ],
             [
              0.5555555555555556,
              "#d8576b"
             ],
             [
              0.6666666666666666,
              "#ed7953"
             ],
             [
              0.7777777777777778,
              "#fb9f3a"
             ],
             [
              0.8888888888888888,
              "#fdca26"
             ],
             [
              1,
              "#f0f921"
             ]
            ],
            "type": "heatmap"
           }
          ],
          "histogram": [
           {
            "marker": {
             "pattern": {
              "fillmode": "overlay",
              "size": 10,
              "solidity": 0.2
             }
            },
            "type": "histogram"
           }
          ],
          "histogram2d": [
           {
            "colorbar": {
             "outlinewidth": 0,
             "ticks": ""
            },
            "colorscale": [
             [
              0,
              "#0d0887"
             ],
             [
              0.1111111111111111,
              "#46039f"
             ],
             [
              0.2222222222222222,
              "#7201a8"
             ],
             [
              0.3333333333333333,
              "#9c179e"
             ],
             [
              0.4444444444444444,
              "#bd3786"
             ],
             [
              0.5555555555555556,
              "#d8576b"
             ],
             [
              0.6666666666666666,
              "#ed7953"
             ],
             [
              0.7777777777777778,
              "#fb9f3a"
             ],
             [
              0.8888888888888888,
              "#fdca26"
             ],
             [
              1,
              "#f0f921"
             ]
            ],
            "type": "histogram2d"
           }
          ],
          "histogram2dcontour": [
           {
            "colorbar": {
             "outlinewidth": 0,
             "ticks": ""
            },
            "colorscale": [
             [
              0,
              "#0d0887"
             ],
             [
              0.1111111111111111,
              "#46039f"
             ],
             [
              0.2222222222222222,
              "#7201a8"
             ],
             [
              0.3333333333333333,
              "#9c179e"
             ],
             [
              0.4444444444444444,
              "#bd3786"
             ],
             [
              0.5555555555555556,
              "#d8576b"
             ],
             [
              0.6666666666666666,
              "#ed7953"
             ],
             [
              0.7777777777777778,
              "#fb9f3a"
             ],
             [
              0.8888888888888888,
              "#fdca26"
             ],
             [
              1,
              "#f0f921"
             ]
            ],
            "type": "histogram2dcontour"
           }
          ],
          "mesh3d": [
           {
            "colorbar": {
             "outlinewidth": 0,
             "ticks": ""
            },
            "type": "mesh3d"
           }
          ],
          "parcoords": [
           {
            "line": {
             "colorbar": {
              "outlinewidth": 0,
              "ticks": ""
             }
            },
            "type": "parcoords"
           }
          ],
          "pie": [
           {
            "automargin": true,
            "type": "pie"
           }
          ],
          "scatter": [
           {
            "fillpattern": {
             "fillmode": "overlay",
             "size": 10,
             "solidity": 0.2
            },
            "type": "scatter"
           }
          ],
          "scatter3d": [
           {
            "line": {
             "colorbar": {
              "outlinewidth": 0,
              "ticks": ""
             }
            },
            "marker": {
             "colorbar": {
              "outlinewidth": 0,
              "ticks": ""
             }
            },
            "type": "scatter3d"
           }
          ],
          "scattercarpet": [
           {
            "marker": {
             "colorbar": {
              "outlinewidth": 0,
              "ticks": ""
             }
            },
            "type": "scattercarpet"
           }
          ],
          "scattergeo": [
           {
            "marker": {
             "colorbar": {
              "outlinewidth": 0,
              "ticks": ""
             }
            },
            "type": "scattergeo"
           }
          ],
          "scattergl": [
           {
            "marker": {
             "colorbar": {
              "outlinewidth": 0,
              "ticks": ""
             }
            },
            "type": "scattergl"
           }
          ],
          "scattermap": [
           {
            "marker": {
             "colorbar": {
              "outlinewidth": 0,
              "ticks": ""
             }
            },
            "type": "scattermap"
           }
          ],
          "scattermapbox": [
           {
            "marker": {
             "colorbar": {
              "outlinewidth": 0,
              "ticks": ""
             }
            },
            "type": "scattermapbox"
           }
          ],
          "scatterpolar": [
           {
            "marker": {
             "colorbar": {
              "outlinewidth": 0,
              "ticks": ""
             }
            },
            "type": "scatterpolar"
           }
          ],
          "scatterpolargl": [
           {
            "marker": {
             "colorbar": {
              "outlinewidth": 0,
              "ticks": ""
             }
            },
            "type": "scatterpolargl"
           }
          ],
          "scatterternary": [
           {
            "marker": {
             "colorbar": {
              "outlinewidth": 0,
              "ticks": ""
             }
            },
            "type": "scatterternary"
           }
          ],
          "surface": [
           {
            "colorbar": {
             "outlinewidth": 0,
             "ticks": ""
            },
            "colorscale": [
             [
              0,
              "#0d0887"
             ],
             [
              0.1111111111111111,
              "#46039f"
             ],
             [
              0.2222222222222222,
              "#7201a8"
             ],
             [
              0.3333333333333333,
              "#9c179e"
             ],
             [
              0.4444444444444444,
              "#bd3786"
             ],
             [
              0.5555555555555556,
              "#d8576b"
             ],
             [
              0.6666666666666666,
              "#ed7953"
             ],
             [
              0.7777777777777778,
              "#fb9f3a"
             ],
             [
              0.8888888888888888,
              "#fdca26"
             ],
             [
              1,
              "#f0f921"
             ]
            ],
            "type": "surface"
           }
          ],
          "table": [
           {
            "cells": {
             "fill": {
              "color": "#EBF0F8"
             },
             "line": {
              "color": "white"
             }
            },
            "header": {
             "fill": {
              "color": "#C8D4E3"
             },
             "line": {
              "color": "white"
             }
            },
            "type": "table"
           }
          ]
         },
         "layout": {
          "annotationdefaults": {
           "arrowcolor": "#2a3f5f",
           "arrowhead": 0,
           "arrowwidth": 1
          },
          "autotypenumbers": "strict",
          "coloraxis": {
           "colorbar": {
            "outlinewidth": 0,
            "ticks": ""
           }
          },
          "colorscale": {
           "diverging": [
            [
             0,
             "#8e0152"
            ],
            [
             0.1,
             "#c51b7d"
            ],
            [
             0.2,
             "#de77ae"
            ],
            [
             0.3,
             "#f1b6da"
            ],
            [
             0.4,
             "#fde0ef"
            ],
            [
             0.5,
             "#f7f7f7"
            ],
            [
             0.6,
             "#e6f5d0"
            ],
            [
             0.7,
             "#b8e186"
            ],
            [
             0.8,
             "#7fbc41"
            ],
            [
             0.9,
             "#4d9221"
            ],
            [
             1,
             "#276419"
            ]
           ],
           "sequential": [
            [
             0,
             "#0d0887"
            ],
            [
             0.1111111111111111,
             "#46039f"
            ],
            [
             0.2222222222222222,
             "#7201a8"
            ],
            [
             0.3333333333333333,
             "#9c179e"
            ],
            [
             0.4444444444444444,
             "#bd3786"
            ],
            [
             0.5555555555555556,
             "#d8576b"
            ],
            [
             0.6666666666666666,
             "#ed7953"
            ],
            [
             0.7777777777777778,
             "#fb9f3a"
            ],
            [
             0.8888888888888888,
             "#fdca26"
            ],
            [
             1,
             "#f0f921"
            ]
           ],
           "sequentialminus": [
            [
             0,
             "#0d0887"
            ],
            [
             0.1111111111111111,
             "#46039f"
            ],
            [
             0.2222222222222222,
             "#7201a8"
            ],
            [
             0.3333333333333333,
             "#9c179e"
            ],
            [
             0.4444444444444444,
             "#bd3786"
            ],
            [
             0.5555555555555556,
             "#d8576b"
            ],
            [
             0.6666666666666666,
             "#ed7953"
            ],
            [
             0.7777777777777778,
             "#fb9f3a"
            ],
            [
             0.8888888888888888,
             "#fdca26"
            ],
            [
             1,
             "#f0f921"
            ]
           ]
          },
          "colorway": [
           "#636efa",
           "#EF553B",
           "#00cc96",
           "#ab63fa",
           "#FFA15A",
           "#19d3f3",
           "#FF6692",
           "#B6E880",
           "#FF97FF",
           "#FECB52"
          ],
          "font": {
           "color": "#2a3f5f"
          },
          "geo": {
           "bgcolor": "white",
           "lakecolor": "white",
           "landcolor": "#E5ECF6",
           "showlakes": true,
           "showland": true,
           "subunitcolor": "white"
          },
          "hoverlabel": {
           "align": "left"
          },
          "hovermode": "closest",
          "mapbox": {
           "style": "light"
          },
          "paper_bgcolor": "white",
          "plot_bgcolor": "#E5ECF6",
          "polar": {
           "angularaxis": {
            "gridcolor": "white",
            "linecolor": "white",
            "ticks": ""
           },
           "bgcolor": "#E5ECF6",
           "radialaxis": {
            "gridcolor": "white",
            "linecolor": "white",
            "ticks": ""
           }
          },
          "scene": {
           "xaxis": {
            "backgroundcolor": "#E5ECF6",
            "gridcolor": "white",
            "gridwidth": 2,
            "linecolor": "white",
            "showbackground": true,
            "ticks": "",
            "zerolinecolor": "white"
           },
           "yaxis": {
            "backgroundcolor": "#E5ECF6",
            "gridcolor": "white",
            "gridwidth": 2,
            "linecolor": "white",
            "showbackground": true,
            "ticks": "",
            "zerolinecolor": "white"
           },
           "zaxis": {
            "backgroundcolor": "#E5ECF6",
            "gridcolor": "white",
            "gridwidth": 2,
            "linecolor": "white",
            "showbackground": true,
            "ticks": "",
            "zerolinecolor": "white"
           }
          },
          "shapedefaults": {
           "line": {
            "color": "#2a3f5f"
           }
          },
          "ternary": {
           "aaxis": {
            "gridcolor": "white",
            "linecolor": "white",
            "ticks": ""
           },
           "baxis": {
            "gridcolor": "white",
            "linecolor": "white",
            "ticks": ""
           },
           "bgcolor": "#E5ECF6",
           "caxis": {
            "gridcolor": "white",
            "linecolor": "white",
            "ticks": ""
           }
          },
          "title": {
           "x": 0.05
          },
          "xaxis": {
           "automargin": true,
           "gridcolor": "white",
           "linecolor": "white",
           "ticks": "",
           "title": {
            "standoff": 15
           },
           "zerolinecolor": "white",
           "zerolinewidth": 2
          },
          "yaxis": {
           "automargin": true,
           "gridcolor": "white",
           "linecolor": "white",
           "ticks": "",
           "title": {
            "standoff": 15
           },
           "zerolinecolor": "white",
           "zerolinewidth": 2
          }
         }
        },
        "title": {
         "text": "Communities in Spain by population size"
        },
        "width": 1000
       }
      }
     },
     "metadata": {},
     "output_type": "display_data"
    }
   ],
   "source": [
    "title = \"Communities in Spain\"\n",
    "\n",
    "lats = df.latitude\n",
    "lons = df.longitude\n",
    "\n",
    "fig = px.scatter_map(df, \n",
    "                     lat=lats, \n",
    "                     lon=lons,\n",
    "                     hover_data=[\"municipality_name\", \"altitude\"], \n",
    "                     size='population',\n",
    "                     color='population',\n",
    "                     color_continuous_scale=px.colors.carto.Aggrnyl,\n",
    "                     zoom=5,\n",
    "                     size_max=50  # Increase max size of markers\n",
    "                     )\n",
    "\n",
    "# Adjust the size reference to make small points more visible\n",
    "fig.update_traces(marker=dict(sizeref=1000))  # Decrease this value to make points larger\n",
    "\n",
    "fig.update_geos(fitbounds=\"locations\")\n",
    "fig.update_layout(height=1000, width=1000)\n",
    "fig.update_layout(mapbox_style=\"open-street-map\")\n",
    "fig.update_layout(margin={\"r\":50,\"t\":50,\"l\":50,\"b\":50})\n",
    "fig.update_layout(\n",
    "    coloraxis_colorbar=dict(title='Population')\n",
    ")\n",
    "fig.update_layout(title=\"Communities in Spain by population size\")\n",
    "\n",
    "fig.show()"
   ]
  },
  {
   "cell_type": "code",
   "execution_count": null,
   "metadata": {},
   "outputs": [],
   "source": [
    "df[df[\"municipality_name_clean\"] == \"valencia\"]"
   ]
  },
  {
   "cell_type": "code",
   "execution_count": null,
   "metadata": {},
   "outputs": [],
   "source": [
    "df_communities[df_communities[\"municipality_name\"] == \"València\"]"
   ]
  },
  {
   "cell_type": "code",
   "execution_count": null,
   "metadata": {},
   "outputs": [],
   "source": [
    "df_coordinates[df_coordinates[\"municipality_name\"] == \"Valencia\"]"
   ]
  }
 ],
 "metadata": {
  "kernelspec": {
   "display_name": ".venv",
   "language": "python",
   "name": "python3"
  },
  "language_info": {
   "codemirror_mode": {
    "name": "ipython",
    "version": 3
   },
   "file_extension": ".py",
   "mimetype": "text/x-python",
   "name": "python",
   "nbconvert_exporter": "python",
   "pygments_lexer": "ipython3",
   "version": "3.11.3"
  }
 },
 "nbformat": 4,
 "nbformat_minor": 2
}
