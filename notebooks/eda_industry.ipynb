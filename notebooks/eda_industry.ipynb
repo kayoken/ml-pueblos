{
 "cells": [
  {
   "cell_type": "code",
   "execution_count": null,
   "metadata": {
    "execution": {
     "iopub.execute_input": "2025-02-17T09:35:42.711480Z",
     "iopub.status.busy": "2025-02-17T09:35:42.711187Z",
     "iopub.status.idle": "2025-02-17T09:35:42.988668Z",
     "shell.execute_reply": "2025-02-17T09:35:42.988048Z"
    }
   },
   "outputs": [],
   "source": [
    "import sys\n",
    "import os\n",
    "import re\n",
    "sys.path.insert(0, os.path.abspath(os.path.join(os.getcwd(), '..')))\n",
    "\n",
    "import pandas as pd\n",
    "import plotly.express as px\n",
    "import numpy as np\n",
    "\n",
    "from scripts.accent_cleaner import AccentCleaner\n",
    "from scripts.column_aligner import ColumnAligner\n",
    "from scripts.utils import split_at_char, replace_with"
   ]
  },
  {
   "cell_type": "code",
   "execution_count": null,
   "metadata": {
    "execution": {
     "iopub.execute_input": "2025-02-17T09:35:42.994083Z",
     "iopub.status.busy": "2025-02-17T09:35:42.993925Z",
     "iopub.status.idle": "2025-02-17T09:35:43.435157Z",
     "shell.execute_reply": "2025-02-17T09:35:43.434833Z"
    }
   },
   "outputs": [],
   "source": [
    "df_industry = pd.read_csv(\"../data/raw/industry.csv\", sep=\";\")"
   ]
  },
  {
   "cell_type": "code",
   "execution_count": null,
   "metadata": {
    "execution": {
     "iopub.execute_input": "2025-02-17T09:35:43.436497Z",
     "iopub.status.busy": "2025-02-17T09:35:43.436409Z",
     "iopub.status.idle": "2025-02-17T09:35:43.508850Z",
     "shell.execute_reply": "2025-02-17T09:35:43.508568Z"
    }
   },
   "outputs": [],
   "source": [
    "df_industry.info()"
   ]
  },
  {
   "cell_type": "code",
   "execution_count": null,
   "metadata": {
    "execution": {
     "iopub.execute_input": "2025-02-17T09:35:43.510012Z",
     "iopub.status.busy": "2025-02-17T09:35:43.509943Z",
     "iopub.status.idle": "2025-02-17T09:35:43.580057Z",
     "shell.execute_reply": "2025-02-17T09:35:43.579845Z"
    }
   },
   "outputs": [],
   "source": [
    "df_industry.isna().sum()"
   ]
  },
  {
   "cell_type": "code",
   "execution_count": null,
   "metadata": {
    "execution": {
     "iopub.execute_input": "2025-02-17T09:35:43.581221Z",
     "iopub.status.busy": "2025-02-17T09:35:43.581136Z",
     "iopub.status.idle": "2025-02-17T09:35:43.583157Z",
     "shell.execute_reply": "2025-02-17T09:35:43.582902Z"
    }
   },
   "outputs": [],
   "source": [
    "df_industry.rename(columns={\"Totales Territoriales\": \"territory_total\", \n",
    "                   \"Provincias\": \"province\",\n",
    "                   \"Municipios\": \"municipality\", \n",
    "                   \"Grupos CNAE\": \"sector\",\n",
    "                   \"Periodo\": \"period\", \n",
    "                   \"Total\": \"total\"},\n",
    "                    inplace=True)"
   ]
  },
  {
   "cell_type": "code",
   "execution_count": null,
   "metadata": {
    "execution": {
     "iopub.execute_input": "2025-02-17T09:35:43.584162Z",
     "iopub.status.busy": "2025-02-17T09:35:43.584100Z",
     "iopub.status.idle": "2025-02-17T09:35:43.588273Z",
     "shell.execute_reply": "2025-02-17T09:35:43.588056Z"
    }
   },
   "outputs": [],
   "source": [
    "df_industry"
   ]
  },
  {
   "cell_type": "code",
   "execution_count": null,
   "metadata": {
    "execution": {
     "iopub.execute_input": "2025-02-17T09:35:43.589322Z",
     "iopub.status.busy": "2025-02-17T09:35:43.589261Z",
     "iopub.status.idle": "2025-02-17T09:35:43.596611Z",
     "shell.execute_reply": "2025-02-17T09:35:43.596330Z"
    }
   },
   "outputs": [],
   "source": [
    "df_industry = df_industry.query(\"period == 2024\")"
   ]
  },
  {
   "cell_type": "code",
   "execution_count": null,
   "metadata": {
    "execution": {
     "iopub.execute_input": "2025-02-17T09:35:43.597933Z",
     "iopub.status.busy": "2025-02-17T09:35:43.597845Z",
     "iopub.status.idle": "2025-02-17T09:35:43.607115Z",
     "shell.execute_reply": "2025-02-17T09:35:43.606828Z"
    }
   },
   "outputs": [],
   "source": [
    "df_industry.info()"
   ]
  },
  {
   "cell_type": "code",
   "execution_count": null,
   "metadata": {
    "execution": {
     "iopub.execute_input": "2025-02-17T09:35:43.608386Z",
     "iopub.status.busy": "2025-02-17T09:35:43.608308Z",
     "iopub.status.idle": "2025-02-17T09:35:43.616188Z",
     "shell.execute_reply": "2025-02-17T09:35:43.615874Z"
    }
   },
   "outputs": [],
   "source": [
    "df_industry.isna().sum()"
   ]
  },
  {
   "cell_type": "code",
   "execution_count": null,
   "metadata": {
    "execution": {
     "iopub.execute_input": "2025-02-17T09:35:43.617218Z",
     "iopub.status.busy": "2025-02-17T09:35:43.617152Z",
     "iopub.status.idle": "2025-02-17T09:35:43.620666Z",
     "shell.execute_reply": "2025-02-17T09:35:43.620463Z"
    }
   },
   "outputs": [],
   "source": [
    "df_industry[\"territory_total\"].unique()"
   ]
  },
  {
   "cell_type": "code",
   "execution_count": null,
   "metadata": {
    "execution": {
     "iopub.execute_input": "2025-02-17T09:35:43.621856Z",
     "iopub.status.busy": "2025-02-17T09:35:43.621751Z",
     "iopub.status.idle": "2025-02-17T09:35:43.625948Z",
     "shell.execute_reply": "2025-02-17T09:35:43.625493Z"
    }
   },
   "outputs": [],
   "source": [
    "df_industry = df_industry.drop([\"territory_total\", \"period\"], axis=1)"
   ]
  },
  {
   "cell_type": "code",
   "execution_count": null,
   "metadata": {
    "execution": {
     "iopub.execute_input": "2025-02-17T09:35:43.627465Z",
     "iopub.status.busy": "2025-02-17T09:35:43.627373Z",
     "iopub.status.idle": "2025-02-17T09:35:43.631737Z",
     "shell.execute_reply": "2025-02-17T09:35:43.631487Z"
    }
   },
   "outputs": [],
   "source": [
    "df_industry[\"sector\"].unique()"
   ]
  },
  {
   "cell_type": "code",
   "execution_count": null,
   "metadata": {
    "execution": {
     "iopub.execute_input": "2025-02-17T09:35:43.633595Z",
     "iopub.status.busy": "2025-02-17T09:35:43.633469Z",
     "iopub.status.idle": "2025-02-17T09:35:43.639293Z",
     "shell.execute_reply": "2025-02-17T09:35:43.639042Z"
    }
   },
   "outputs": [],
   "source": [
    "df_industry = df_industry.query(\"sector != 'Total servicios'\")"
   ]
  },
  {
   "cell_type": "code",
   "execution_count": null,
   "metadata": {
    "execution": {
     "iopub.execute_input": "2025-02-17T09:35:43.640642Z",
     "iopub.status.busy": "2025-02-17T09:35:43.640573Z",
     "iopub.status.idle": "2025-02-17T09:35:43.645712Z",
     "shell.execute_reply": "2025-02-17T09:35:43.645443Z"
    }
   },
   "outputs": [],
   "source": [
    "df_industry = df_industry.query(\"sector != 'Total'\")"
   ]
  },
  {
   "cell_type": "code",
   "execution_count": null,
   "metadata": {
    "execution": {
     "iopub.execute_input": "2025-02-17T09:35:43.646798Z",
     "iopub.status.busy": "2025-02-17T09:35:43.646719Z",
     "iopub.status.idle": "2025-02-17T09:35:43.648496Z",
     "shell.execute_reply": "2025-02-17T09:35:43.648145Z"
    }
   },
   "outputs": [],
   "source": [
    "translations = {\n",
    "    'B_E Industria': 'n_industry',\n",
    "    'F Construcción': 'n_construction',\n",
    "    'Comercio, transporte y hostelería': 'n_trade_transport_hospitality',\n",
    "    'J Información y comunicaciones': 'n_info_communications',\n",
    "    'K Actividades financieras y de seguros': 'n_financial_insurance',\n",
    "    'L Actividades inmobiliarias': 'n_real_estate',\n",
    "    'Actividades profesionales y técnicas': 'n_professional_technical',\n",
    "    'Educación, sanidad y servicios sociales': 'n_eduation_health_social',\n",
    "    'Otros servicios personales': 'n_other',\n",
    "}\n"
   ]
  },
  {
   "cell_type": "code",
   "execution_count": null,
   "metadata": {
    "execution": {
     "iopub.execute_input": "2025-02-17T09:35:43.649619Z",
     "iopub.status.busy": "2025-02-17T09:35:43.649537Z",
     "iopub.status.idle": "2025-02-17T09:35:43.653693Z",
     "shell.execute_reply": "2025-02-17T09:35:43.653477Z"
    }
   },
   "outputs": [],
   "source": [
    "df_industry['sector'] = df_industry['sector'].map(translations)"
   ]
  },
  {
   "cell_type": "code",
   "execution_count": null,
   "metadata": {
    "execution": {
     "iopub.execute_input": "2025-02-17T09:35:43.654648Z",
     "iopub.status.busy": "2025-02-17T09:35:43.654588Z",
     "iopub.status.idle": "2025-02-17T09:35:43.660485Z",
     "shell.execute_reply": "2025-02-17T09:35:43.660242Z"
    }
   },
   "outputs": [],
   "source": [
    "df_industry.isna().sum()"
   ]
  },
  {
   "cell_type": "code",
   "execution_count": null,
   "metadata": {
    "execution": {
     "iopub.execute_input": "2025-02-17T09:35:43.661714Z",
     "iopub.status.busy": "2025-02-17T09:35:43.661643Z",
     "iopub.status.idle": "2025-02-17T09:35:43.669540Z",
     "shell.execute_reply": "2025-02-17T09:35:43.669298Z"
    }
   },
   "outputs": [],
   "source": [
    "df_industry.info()"
   ]
  },
  {
   "cell_type": "code",
   "execution_count": null,
   "metadata": {
    "execution": {
     "iopub.execute_input": "2025-02-17T09:35:43.670626Z",
     "iopub.status.busy": "2025-02-17T09:35:43.670560Z",
     "iopub.status.idle": "2025-02-17T09:35:43.673738Z",
     "shell.execute_reply": "2025-02-17T09:35:43.673525Z"
    }
   },
   "outputs": [],
   "source": [
    "df_industry"
   ]
  },
  {
   "cell_type": "code",
   "execution_count": null,
   "metadata": {
    "execution": {
     "iopub.execute_input": "2025-02-17T09:35:43.674765Z",
     "iopub.status.busy": "2025-02-17T09:35:43.674703Z",
     "iopub.status.idle": "2025-02-17T09:35:43.679481Z",
     "shell.execute_reply": "2025-02-17T09:35:43.679238Z"
    }
   },
   "outputs": [],
   "source": [
    "df_industry = df_industry.dropna(subset=['municipality'])"
   ]
  },
  {
   "cell_type": "code",
   "execution_count": null,
   "metadata": {
    "execution": {
     "iopub.execute_input": "2025-02-17T09:35:43.680444Z",
     "iopub.status.busy": "2025-02-17T09:35:43.680384Z",
     "iopub.status.idle": "2025-02-17T09:35:43.685742Z",
     "shell.execute_reply": "2025-02-17T09:35:43.685492Z"
    }
   },
   "outputs": [],
   "source": [
    "df_industry.dropna(subset=['total'])"
   ]
  },
  {
   "cell_type": "code",
   "execution_count": null,
   "metadata": {
    "execution": {
     "iopub.execute_input": "2025-02-17T09:35:43.686691Z",
     "iopub.status.busy": "2025-02-17T09:35:43.686637Z",
     "iopub.status.idle": "2025-02-17T09:35:43.730089Z",
     "shell.execute_reply": "2025-02-17T09:35:43.729767Z"
    }
   },
   "outputs": [],
   "source": [
    "df_industry[['cod_prov', 'province']] = df_industry['province'].str.split(' ', n=1, expand=True)\n",
    "df_industry"
   ]
  },
  {
   "cell_type": "code",
   "execution_count": null,
   "metadata": {
    "execution": {
     "iopub.execute_input": "2025-02-17T09:35:43.731201Z",
     "iopub.status.busy": "2025-02-17T09:35:43.731121Z",
     "iopub.status.idle": "2025-02-17T09:35:43.790628Z",
     "shell.execute_reply": "2025-02-17T09:35:43.790270Z"
    }
   },
   "outputs": [],
   "source": [
    "df_industry[['cmun', 'municipality']] = df_industry['municipality'].str.split(' ', n=1, expand=True)"
   ]
  },
  {
   "cell_type": "code",
   "execution_count": null,
   "metadata": {
    "execution": {
     "iopub.execute_input": "2025-02-17T09:35:43.791832Z",
     "iopub.status.busy": "2025-02-17T09:35:43.791721Z",
     "iopub.status.idle": "2025-02-17T09:35:43.796746Z",
     "shell.execute_reply": "2025-02-17T09:35:43.796453Z"
    }
   },
   "outputs": [],
   "source": [
    "df_industry = df_industry[[\"cmun\",\"municipality\",\"province\",\"sector\", \"total\"]]"
   ]
  },
  {
   "cell_type": "code",
   "execution_count": null,
   "metadata": {
    "execution": {
     "iopub.execute_input": "2025-02-17T09:35:43.798055Z",
     "iopub.status.busy": "2025-02-17T09:35:43.797939Z",
     "iopub.status.idle": "2025-02-17T09:35:43.801731Z",
     "shell.execute_reply": "2025-02-17T09:35:43.801497Z"
    }
   },
   "outputs": [],
   "source": [
    "df_industry.query(\"total == '.'\")\n",
    "df_industry.loc[df_industry['total'] == '.', 'total'] = '0'\n"
   ]
  },
  {
   "cell_type": "code",
   "execution_count": null,
   "metadata": {
    "execution": {
     "iopub.execute_input": "2025-02-17T09:35:43.803102Z",
     "iopub.status.busy": "2025-02-17T09:35:43.803032Z",
     "iopub.status.idle": "2025-02-17T09:35:43.806568Z",
     "shell.execute_reply": "2025-02-17T09:35:43.806318Z"
    }
   },
   "outputs": [],
   "source": [
    "df_industry[\"sector\"].unique()"
   ]
  },
  {
   "cell_type": "code",
   "execution_count": null,
   "metadata": {
    "execution": {
     "iopub.execute_input": "2025-02-17T09:35:43.807739Z",
     "iopub.status.busy": "2025-02-17T09:35:43.807672Z",
     "iopub.status.idle": "2025-02-17T09:35:43.831117Z",
     "shell.execute_reply": "2025-02-17T09:35:43.830776Z"
    }
   },
   "outputs": [],
   "source": [
    "pivot_df = df_industry.pivot_table(\n",
    "    index='cmun',\n",
    "    columns='sector',\n",
    "    values='total',\n",
    "    aggfunc='sum',\n",
    "    fill_value=0  # fill missing combinations with 0\n",
    ").reset_index()\n"
   ]
  },
  {
   "cell_type": "code",
   "execution_count": null,
   "metadata": {
    "execution": {
     "iopub.execute_input": "2025-02-17T09:35:43.832592Z",
     "iopub.status.busy": "2025-02-17T09:35:43.832507Z",
     "iopub.status.idle": "2025-02-17T09:35:43.835221Z",
     "shell.execute_reply": "2025-02-17T09:35:43.834968Z"
    }
   },
   "outputs": [],
   "source": [
    "industry_group_order = ['n_industry', 'n_construction', 'N_trade_transport_hospitality',\n",
    "       'n_info_communications', 'n_financial_insurance', 'n_real_estate',\n",
    "       'n_professional_technical', 'n_eduation_health_social', 'n_other']\n",
    "pivot_df = pivot_df[['cmun'] + [grp for grp in industry_group_order if grp in pivot_df.columns]]\n"
   ]
  },
  {
   "cell_type": "code",
   "execution_count": null,
   "metadata": {
    "execution": {
     "iopub.execute_input": "2025-02-17T09:35:43.836429Z",
     "iopub.status.busy": "2025-02-17T09:35:43.836342Z",
     "iopub.status.idle": "2025-02-17T09:35:43.840600Z",
     "shell.execute_reply": "2025-02-17T09:35:43.840358Z"
    }
   },
   "outputs": [],
   "source": [
    "pivot_df"
   ]
  },
  {
   "cell_type": "code",
   "execution_count": null,
   "metadata": {
    "execution": {
     "iopub.execute_input": "2025-02-17T09:35:43.841598Z",
     "iopub.status.busy": "2025-02-17T09:35:43.841540Z",
     "iopub.status.idle": "2025-02-17T09:35:43.845099Z",
     "shell.execute_reply": "2025-02-17T09:35:43.844903Z"
    }
   },
   "outputs": [],
   "source": [
    "pivot_df.isna().sum()"
   ]
  },
  {
   "cell_type": "code",
   "execution_count": null,
   "metadata": {
    "execution": {
     "iopub.execute_input": "2025-02-17T09:35:43.846041Z",
     "iopub.status.busy": "2025-02-17T09:35:43.845984Z",
     "iopub.status.idle": "2025-02-17T09:35:43.850822Z",
     "shell.execute_reply": "2025-02-17T09:35:43.850612Z"
    }
   },
   "outputs": [],
   "source": [
    "df_industry.drop([\"sector\", \"total\"], axis=1, inplace=True)"
   ]
  },
  {
   "cell_type": "code",
   "execution_count": null,
   "metadata": {
    "execution": {
     "iopub.execute_input": "2025-02-17T09:35:43.851866Z",
     "iopub.status.busy": "2025-02-17T09:35:43.851808Z",
     "iopub.status.idle": "2025-02-17T09:35:43.861210Z",
     "shell.execute_reply": "2025-02-17T09:35:43.860812Z"
    }
   },
   "outputs": [],
   "source": [
    "df_industry= df_industry.drop_duplicates()"
   ]
  },
  {
   "cell_type": "code",
   "execution_count": null,
   "metadata": {
    "execution": {
     "iopub.execute_input": "2025-02-17T09:35:43.862584Z",
     "iopub.status.busy": "2025-02-17T09:35:43.862498Z",
     "iopub.status.idle": "2025-02-17T09:35:43.865818Z",
     "shell.execute_reply": "2025-02-17T09:35:43.865528Z"
    }
   },
   "outputs": [],
   "source": [
    "df_industry"
   ]
  },
  {
   "cell_type": "code",
   "execution_count": null,
   "metadata": {
    "execution": {
     "iopub.execute_input": "2025-02-17T09:35:43.866930Z",
     "iopub.status.busy": "2025-02-17T09:35:43.866851Z",
     "iopub.status.idle": "2025-02-17T09:35:43.872785Z",
     "shell.execute_reply": "2025-02-17T09:35:43.872534Z"
    }
   },
   "outputs": [],
   "source": [
    "df_industry = df_industry.merge(pivot_df, how =\"left\")\n",
    "df_industry.head(20)"
   ]
  },
  {
   "cell_type": "code",
   "execution_count": null,
   "metadata": {
    "execution": {
     "iopub.execute_input": "2025-02-17T09:35:43.874049Z",
     "iopub.status.busy": "2025-02-17T09:35:43.873971Z",
     "iopub.status.idle": "2025-02-17T09:35:43.876314Z",
     "shell.execute_reply": "2025-02-17T09:35:43.876083Z"
    }
   },
   "outputs": [],
   "source": [
    "df_industry.drop([\"municipality\", \"province\"], axis = 1, inplace=True)"
   ]
  },
  {
   "cell_type": "code",
   "execution_count": null,
   "metadata": {
    "execution": {
     "iopub.execute_input": "2025-02-17T09:35:43.877264Z",
     "iopub.status.busy": "2025-02-17T09:35:43.877194Z",
     "iopub.status.idle": "2025-02-17T09:35:43.885949Z",
     "shell.execute_reply": "2025-02-17T09:35:43.885745Z"
    }
   },
   "outputs": [],
   "source": [
    "df_industry.to_csv(\"../data/processed/filtered_industry.csv\", index=False)"
   ]
  }
 ],
 "metadata": {
  "kernelspec": {
   "display_name": ".venv",
   "language": "python",
   "name": "python3"
  },
  "language_info": {
   "codemirror_mode": {
    "name": "ipython",
    "version": 3
   },
   "file_extension": ".py",
   "mimetype": "text/x-python",
   "name": "python",
   "nbconvert_exporter": "python",
   "pygments_lexer": "ipython3",
   "version": "3.11.3"
  }
 },
 "nbformat": 4,
 "nbformat_minor": 2
}
