{
 "cells": [
  {
   "cell_type": "markdown",
   "metadata": {},
   "source": [
    "## Geographical Data and Main Information of Municipalities"
   ]
  },
  {
   "cell_type": "markdown",
   "metadata": {},
   "source": [
    "### Main notes\n",
    "\n",
    "* We have had a lot of problems when matching different languages\n",
    "* From the original dataset, we have lost 97 municipalities that we weren't able to match with coordinates. \n",
    "* We have dropped Population data from this dataset, as it will be covered in a different notebook (demographics)"
   ]
  },
  {
   "cell_type": "code",
   "execution_count": 1,
   "metadata": {
    "execution": {
     "iopub.execute_input": "2025-02-17T09:35:39.629788Z",
     "iopub.status.busy": "2025-02-17T09:35:39.629681Z",
     "iopub.status.idle": "2025-02-17T09:35:39.915780Z",
     "shell.execute_reply": "2025-02-17T09:35:39.915451Z"
    }
   },
   "outputs": [],
   "source": [
    "import sys\n",
    "import os\n",
    "import re\n",
    "from unidecode import unidecode\n",
    "\n",
    "sys.path.insert(0, os.path.abspath(os.path.join(os.getcwd(), '..')))\n",
    "\n",
    "import pandas as pd\n",
    "import plotly.express as px\n",
    "import numpy as np\n",
    "\n",
    "from scripts.accent_cleaner import AccentCleaner\n",
    "from scripts.column_aligner import ColumnAligner\n",
    "from scripts.utils import split_at_char, replace_with"
   ]
  },
  {
   "cell_type": "code",
   "execution_count": 2,
   "metadata": {
    "execution": {
     "iopub.execute_input": "2025-02-17T09:35:39.917105Z",
     "iopub.status.busy": "2025-02-17T09:35:39.917004Z",
     "iopub.status.idle": "2025-02-17T09:35:39.928523Z",
     "shell.execute_reply": "2025-02-17T09:35:39.928216Z"
    }
   },
   "outputs": [],
   "source": [
    "df_municipalities = pd.read_csv(\n",
    "    \"../data/raw/population_towns.csv\", \n",
    "    encoding=\"ISO-8859-1\",  # or \"latin1\",\n",
    "    sep=\";\",\n",
    "    decimal=\",\")\n",
    "df_municipalities_coordinates = pd.read_csv(\n",
    "    \"../data/raw/coordinates_towns_spain.csv\",\n",
    "    encoding=\"ISO-8859-1\",  # or \"latin1\"\n",
    "    sep=\";\",\n",
    "    decimal=\",\"\n",
    ")"
   ]
  },
  {
   "cell_type": "code",
   "execution_count": 3,
   "metadata": {},
   "outputs": [
    {
     "data": {
      "text/plain": [
       "(8132, 7)"
      ]
     },
     "execution_count": 3,
     "metadata": {},
     "output_type": "execute_result"
    }
   ],
   "source": [
    "df_municipalities.shape"
   ]
  },
  {
   "cell_type": "code",
   "execution_count": 4,
   "metadata": {
    "execution": {
     "iopub.execute_input": "2025-02-17T09:35:39.935053Z",
     "iopub.status.busy": "2025-02-17T09:35:39.934973Z",
     "iopub.status.idle": "2025-02-17T09:35:39.939398Z",
     "shell.execute_reply": "2025-02-17T09:35:39.938634Z"
    }
   },
   "outputs": [
    {
     "data": {
      "text/plain": [
       "(8112, 9)"
      ]
     },
     "execution_count": 4,
     "metadata": {},
     "output_type": "execute_result"
    }
   ],
   "source": [
    "df_municipalities_coordinates.shape"
   ]
  },
  {
   "cell_type": "code",
   "execution_count": 5,
   "metadata": {},
   "outputs": [],
   "source": [
    "df_municipalities.rename(columns={\n",
    "                          \"PROVINCIA\": \"province\",\n",
    "                          \"NOMBRE\": \"municipality\",\n",
    "                          \"POB24\": \"population\",\n",
    "                          \"MUJERES\": \"female\",\n",
    "                          \"HOMBRES\": \"male\" }, inplace=True)"
   ]
  },
  {
   "cell_type": "code",
   "execution_count": 6,
   "metadata": {},
   "outputs": [],
   "source": [
    "df_municipalities_coordinates.rename(columns={\"Comunidad\": \"autonomous_community\",\n",
    "                          \"Provincia\": \"province\",\n",
    "                            \"Población\": \"municipality\",\n",
    "                          \"Habitantes\": \"population\",\n",
    "                            \"Hombres\": \"male\",\n",
    "                            \"Mujeres\": \"female\",\n",
    "                          \"Latitud\": \"latitude\",\n",
    "                          \"Longitud\": \"longitude\",\n",
    "                          \"Altitud\": \"altitude\" }, inplace=True)"
   ]
  },
  {
   "cell_type": "code",
   "execution_count": 7,
   "metadata": {},
   "outputs": [],
   "source": [
    "df_municipalities = df_municipalities.drop([\"population\", \"female\", \"male\"], axis = 1)\n",
    "df_municipalities_coordinates = df_municipalities_coordinates.drop([\"population\", \"female\", \"male\"], axis = 1)"
   ]
  },
  {
   "cell_type": "code",
   "execution_count": 8,
   "metadata": {
    "execution": {
     "iopub.execute_input": "2025-02-17T09:35:39.963589Z",
     "iopub.status.busy": "2025-02-17T09:35:39.963519Z",
     "iopub.status.idle": "2025-02-17T09:35:39.968696Z",
     "shell.execute_reply": "2025-02-17T09:35:39.968446Z"
    }
   },
   "outputs": [],
   "source": [
    "df_municipalities_coordinates = replace_with(df_municipalities_coordinates, 'province', 'Vizcaya', 'Bizkaia')\n",
    "df_municipalities_coordinates = replace_with(df_municipalities_coordinates, 'province', 'Alicante/Alacant', 'Alicante')\n",
    "df_municipalities_coordinates = replace_with(df_municipalities_coordinates, 'province', 'Castellón/Castelló', 'Castellón')\n",
    "df_municipalities_coordinates = replace_with(df_municipalities_coordinates, 'province', 'Valencia/València', 'Valencia')\n",
    "df_municipalities_coordinates = replace_with(df_municipalities_coordinates, 'province', 'Guipúzcoa', 'Gipuzkoa')"
   ]
  },
  {
   "cell_type": "code",
   "execution_count": 9,
   "metadata": {},
   "outputs": [],
   "source": [
    "df_municipalities_coordinates = replace_with(df_municipalities_coordinates, 'autonomous_community', 'Catalunya', 'Cataluña')"
   ]
  },
  {
   "cell_type": "markdown",
   "metadata": {},
   "source": [
    "# Split columns and clean"
   ]
  },
  {
   "cell_type": "code",
   "execution_count": 10,
   "metadata": {},
   "outputs": [],
   "source": [
    "# Split municipality names into two columns\n",
    "df_municipalities[['municipality_1', 'municipality_2']] = df_municipalities['municipality'].str.split('/', n=1, expand=True)\n",
    "\n",
    "# Fill missing values in municipality_2 with \"none\" (as a string)\n",
    "df_municipalities[\"municipality_2\"] = df_municipalities[\"municipality_2\"].fillna(\"none\")\n"
   ]
  },
  {
   "cell_type": "code",
   "execution_count": 11,
   "metadata": {},
   "outputs": [],
   "source": [
    "#split municipality names into two columns\n",
    "df_municipalities_coordinates[['municipality_1', 'municipality_2']] = df_municipalities_coordinates['municipality'].str.split('/', n=1, expand=True)\n",
    "\n",
    "# Fill missing values in municipality_2 with \"none\" (as a string)\n",
    "df_municipalities_coordinates[\"municipality_2\"] = df_municipalities_coordinates[\"municipality_2\"].fillna(\"none\")"
   ]
  },
  {
   "cell_type": "code",
   "execution_count": 12,
   "metadata": {},
   "outputs": [],
   "source": [
    "# Function to clean a column (remove accents, normalize case)\n",
    "def clean_column(column):\n",
    "    return column.apply(lambda x: unidecode(str(x)).strip().lower() if pd.notna(x) else x)\n",
    "\n",
    "# Apply cleaning to df_municipalities\n",
    "df_municipalities[\"municipality_1\"] = clean_column(df_municipalities[\"municipality_1\"])\n",
    "df_municipalities[\"municipality_2\"] = clean_column(df_municipalities[\"municipality_2\"])\n",
    "\n",
    "# Apply cleaning to df_municipalities_coordinates\n",
    "df_municipalities_coordinates[\"municipality_1\"] = clean_column(df_municipalities_coordinates[\"municipality_1\"])\n",
    "df_municipalities_coordinates[\"municipality_2\"] = clean_column(df_municipalities_coordinates[\"municipality_2\"])"
   ]
  },
  {
   "cell_type": "code",
   "execution_count": 13,
   "metadata": {},
   "outputs": [],
   "source": [
    "df_municipalities['municipality_1'] = df_municipalities['municipality_1'].str.replace(\" \",\"\")\n",
    "df_municipalities['municipality_1'] = df_municipalities['municipality_1'].str.replace(\",\",\"\")\n",
    "df_municipalities['municipality_1'] = df_municipalities['municipality_1'].str.replace(\"(\",\"\")\n",
    "df_municipalities['municipality_1'] = df_municipalities['municipality_1'].str.replace(\")\",\"\")\n",
    "df_municipalities['municipality_1'] = df_municipalities['municipality_1'].str.replace(\"-\",\"\")\n",
    "df_municipalities['municipality_1'] = df_municipalities['municipality_1'].str.replace(\"ñ\",\"n\")\n",
    "\n",
    "df_municipalities['municipality_2'] = df_municipalities['municipality_2'].str.replace(\" \",\"\")\n",
    "df_municipalities['municipality_2'] = df_municipalities['municipality_2'].str.replace(\",\",\"\")\n",
    "df_municipalities['municipality_2'] = df_municipalities['municipality_2'].str.replace(\"(\",\"\")\n",
    "df_municipalities['municipality_2'] = df_municipalities['municipality_2'].str.replace(\")\",\"\")\n",
    "df_municipalities['municipality_2'] = df_municipalities['municipality_2'].str.replace(\"-\",\"\")\n",
    "df_municipalities['municipality_2'] = df_municipalities['municipality_2'].str.replace(\"ñ\",\"n\")"
   ]
  },
  {
   "cell_type": "code",
   "execution_count": 14,
   "metadata": {},
   "outputs": [],
   "source": [
    "df_municipalities_coordinates['municipality_1'] = df_municipalities_coordinates['municipality_1'].str.replace(\" \",\"\")\n",
    "df_municipalities_coordinates['municipality_1'] = df_municipalities_coordinates['municipality_1'].str.replace(\",\",\"\")\n",
    "df_municipalities_coordinates['municipality_1'] = df_municipalities_coordinates['municipality_1'].str.replace(\"(\",\"\")\n",
    "df_municipalities_coordinates['municipality_1'] = df_municipalities_coordinates['municipality_1'].str.replace(\")\",\"\")\n",
    "df_municipalities_coordinates['municipality_1'] = df_municipalities_coordinates['municipality_1'].str.replace(\"-\",\"\")\n",
    "df_municipalities_coordinates['municipality_1'] = df_municipalities_coordinates['municipality_1'].str.replace(\"ñ\",\"n\")\n",
    "\n",
    "df_municipalities_coordinates['municipality_2'] = df_municipalities_coordinates['municipality_2'].str.replace(\" \",\"\")\n",
    "df_municipalities_coordinates['municipality_2'] = df_municipalities_coordinates['municipality_2'].str.replace(\",\",\"\")\n",
    "df_municipalities_coordinates['municipality_2'] = df_municipalities_coordinates['municipality_2'].str.replace(\"(\",\"\")\n",
    "df_municipalities_coordinates['municipality_2'] = df_municipalities_coordinates['municipality_2'].str.replace(\")\",\"\")\n",
    "df_municipalities_coordinates['municipality_2'] = df_municipalities_coordinates['municipality_2'].str.replace(\"-\",\"\")\n",
    "df_municipalities_coordinates['municipality_2'] = df_municipalities_coordinates['municipality_2'].str.replace(\"ñ\",\"n\")"
   ]
  },
  {
   "cell_type": "markdown",
   "metadata": {},
   "source": [
    "# Merging DFs"
   ]
  },
  {
   "cell_type": "code",
   "execution_count": 15,
   "metadata": {},
   "outputs": [],
   "source": [
    "df_municipalities.loc[df_municipalities[\"municipality_2\"].isna(), \"language\"] = \"language\"\n",
    "df_municipalities_coordinates.loc[df_municipalities_coordinates[\"municipality_2\"].isna(), \"language\"] = \"language\""
   ]
  },
  {
   "cell_type": "code",
   "execution_count": 16,
   "metadata": {},
   "outputs": [],
   "source": [
    "merge_1 = df_municipalities.merge(df_municipalities_coordinates, on = \"municipality_1\", how=\"left\")"
   ]
  },
  {
   "cell_type": "code",
   "execution_count": 17,
   "metadata": {},
   "outputs": [],
   "source": [
    "merge_1 = merge_1.dropna(subset=['latitude'])"
   ]
  },
  {
   "cell_type": "code",
   "execution_count": 18,
   "metadata": {},
   "outputs": [],
   "source": [
    "merge_2 = df_municipalities.merge(df_municipalities_coordinates, left_on=\"municipality_1\", right_on=\"municipality_2\", how=\"left\")"
   ]
  },
  {
   "cell_type": "code",
   "execution_count": 19,
   "metadata": {},
   "outputs": [],
   "source": [
    "merge_2 = merge_2.dropna(subset=['latitude'])"
   ]
  },
  {
   "cell_type": "code",
   "execution_count": 20,
   "metadata": {},
   "outputs": [],
   "source": [
    "merged_df = pd.concat([merge_1, merge_2])"
   ]
  },
  {
   "cell_type": "code",
   "execution_count": 21,
   "metadata": {},
   "outputs": [
    {
     "data": {
      "text/plain": [
       "(8069, 17)"
      ]
     },
     "execution_count": 21,
     "metadata": {},
     "output_type": "execute_result"
    }
   ],
   "source": [
    "merged_df.shape"
   ]
  },
  {
   "cell_type": "code",
   "execution_count": 22,
   "metadata": {},
   "outputs": [
    {
     "data": {
      "text/plain": [
       "CPRO                       0\n",
       "province_x                 0\n",
       "CMUN                       0\n",
       "municipality_x             0\n",
       "municipality_1            28\n",
       "municipality_2_x           0\n",
       "language_x              8069\n",
       "autonomous_community       0\n",
       "province_y                 0\n",
       "municipality_y             0\n",
       "latitude                   0\n",
       "longitude                  0\n",
       "altitude                   0\n",
       "municipality_2_y           0\n",
       "language_y              8069\n",
       "municipality_1_x        8041\n",
       "municipality_1_y        8041\n",
       "dtype: int64"
      ]
     },
     "execution_count": 22,
     "metadata": {},
     "output_type": "execute_result"
    }
   ],
   "source": [
    "merged_df.isna().sum()"
   ]
  },
  {
   "cell_type": "code",
   "execution_count": 23,
   "metadata": {},
   "outputs": [
    {
     "data": {
      "text/plain": [
       "(8069, 17)"
      ]
     },
     "execution_count": 23,
     "metadata": {},
     "output_type": "execute_result"
    }
   ],
   "source": [
    "merged_df.shape"
   ]
  },
  {
   "cell_type": "code",
   "execution_count": 24,
   "metadata": {},
   "outputs": [],
   "source": [
    "merge_3 = df_municipalities.merge(df_municipalities_coordinates, left_on=\"municipality_2\", right_on=\"municipality_1\", how=\"left\")"
   ]
  },
  {
   "cell_type": "code",
   "execution_count": 25,
   "metadata": {},
   "outputs": [],
   "source": [
    "merge_3 = merge_3.dropna(subset=['latitude'])"
   ]
  },
  {
   "cell_type": "code",
   "execution_count": 26,
   "metadata": {},
   "outputs": [],
   "source": [
    "merged_df = pd.concat([merged_df, merge_3])"
   ]
  },
  {
   "cell_type": "code",
   "execution_count": 27,
   "metadata": {},
   "outputs": [
    {
     "data": {
      "text/plain": [
       "(8099, 17)"
      ]
     },
     "execution_count": 27,
     "metadata": {},
     "output_type": "execute_result"
    }
   ],
   "source": [
    "merged_df.shape"
   ]
  },
  {
   "cell_type": "code",
   "execution_count": 28,
   "metadata": {},
   "outputs": [
    {
     "data": {
      "text/plain": [
       "CPRO                       0\n",
       "province_x                 0\n",
       "CMUN                       0\n",
       "municipality_x             0\n",
       "municipality_1            58\n",
       "municipality_2_x           0\n",
       "language_x              8099\n",
       "autonomous_community       0\n",
       "province_y                 0\n",
       "municipality_y             0\n",
       "latitude                   0\n",
       "longitude                  0\n",
       "altitude                   0\n",
       "municipality_2_y           0\n",
       "language_y              8099\n",
       "municipality_1_x        8041\n",
       "municipality_1_y        8041\n",
       "dtype: int64"
      ]
     },
     "execution_count": 28,
     "metadata": {},
     "output_type": "execute_result"
    }
   ],
   "source": [
    "merged_df.isna().sum()"
   ]
  },
  {
   "cell_type": "code",
   "execution_count": 29,
   "metadata": {},
   "outputs": [],
   "source": [
    "df_municipalities_coordinates = df_municipalities_coordinates[df_municipalities_coordinates[\"municipality_2\"] != \"none\"]\n",
    "df_municipalities = df_municipalities[df_municipalities[\"municipality_2\"] != \"none\"]\n"
   ]
  },
  {
   "cell_type": "code",
   "execution_count": 30,
   "metadata": {},
   "outputs": [],
   "source": [
    "# Perform merges on all combinations\n",
    "merge_4 = df_municipalities.merge(df_municipalities_coordinates, left_on=\"municipality_2\", right_on=\"municipality_2\", how=\"left\")"
   ]
  },
  {
   "cell_type": "code",
   "execution_count": 31,
   "metadata": {},
   "outputs": [
    {
     "data": {
      "text/plain": [
       "CPRO                      0\n",
       "province_x                0\n",
       "CMUN                      0\n",
       "municipality_x            0\n",
       "municipality_1_x          0\n",
       "municipality_2            0\n",
       "language_x              126\n",
       "autonomous_community     62\n",
       "province_y               62\n",
       "municipality_y           62\n",
       "latitude                 62\n",
       "longitude                62\n",
       "altitude                 62\n",
       "municipality_1_y         62\n",
       "language_y              126\n",
       "dtype: int64"
      ]
     },
     "execution_count": 31,
     "metadata": {},
     "output_type": "execute_result"
    }
   ],
   "source": [
    "merge_4.isna().sum()"
   ]
  },
  {
   "cell_type": "code",
   "execution_count": 32,
   "metadata": {},
   "outputs": [],
   "source": [
    "merge_4 = merge_4.dropna(subset=['latitude'])"
   ]
  },
  {
   "cell_type": "code",
   "execution_count": 33,
   "metadata": {},
   "outputs": [],
   "source": [
    "# Concatenate results and drop duplicates\n",
    "merged_df = pd.concat([merged_df, merge_4])"
   ]
  },
  {
   "cell_type": "code",
   "execution_count": 34,
   "metadata": {},
   "outputs": [
    {
     "data": {
      "text/plain": [
       "22"
      ]
     },
     "execution_count": 34,
     "metadata": {},
     "output_type": "execute_result"
    }
   ],
   "source": [
    "merged_df.duplicated().sum()"
   ]
  },
  {
   "cell_type": "code",
   "execution_count": 35,
   "metadata": {},
   "outputs": [
    {
     "data": {
      "text/html": [
       "<div>\n",
       "<style scoped>\n",
       "    .dataframe tbody tr th:only-of-type {\n",
       "        vertical-align: middle;\n",
       "    }\n",
       "\n",
       "    .dataframe tbody tr th {\n",
       "        vertical-align: top;\n",
       "    }\n",
       "\n",
       "    .dataframe thead th {\n",
       "        text-align: right;\n",
       "    }\n",
       "</style>\n",
       "<table border=\"1\" class=\"dataframe\">\n",
       "  <thead>\n",
       "    <tr style=\"text-align: right;\">\n",
       "      <th></th>\n",
       "      <th>CPRO</th>\n",
       "      <th>province_x</th>\n",
       "      <th>CMUN</th>\n",
       "      <th>municipality_x</th>\n",
       "      <th>municipality_1</th>\n",
       "      <th>municipality_2_x</th>\n",
       "      <th>language_x</th>\n",
       "      <th>autonomous_community</th>\n",
       "      <th>province_y</th>\n",
       "      <th>municipality_y</th>\n",
       "      <th>latitude</th>\n",
       "      <th>longitude</th>\n",
       "      <th>altitude</th>\n",
       "      <th>municipality_2_y</th>\n",
       "      <th>language_y</th>\n",
       "      <th>municipality_1_x</th>\n",
       "      <th>municipality_1_y</th>\n",
       "      <th>municipality_2</th>\n",
       "    </tr>\n",
       "  </thead>\n",
       "  <tbody>\n",
       "    <tr>\n",
       "      <th>0</th>\n",
       "      <td>1</td>\n",
       "      <td>Álava</td>\n",
       "      <td>1</td>\n",
       "      <td>Alegría-Dulantzi</td>\n",
       "      <td>alegriadulantzi</td>\n",
       "      <td>none</td>\n",
       "      <td>NaN</td>\n",
       "      <td>País Vasco</td>\n",
       "      <td>Álava</td>\n",
       "      <td>Alegría-Dulantzi</td>\n",
       "      <td>42.84149</td>\n",
       "      <td>-2.513507</td>\n",
       "      <td>561.6857</td>\n",
       "      <td>none</td>\n",
       "      <td>NaN</td>\n",
       "      <td>NaN</td>\n",
       "      <td>NaN</td>\n",
       "      <td>NaN</td>\n",
       "    </tr>\n",
       "    <tr>\n",
       "      <th>1</th>\n",
       "      <td>1</td>\n",
       "      <td>Álava</td>\n",
       "      <td>2</td>\n",
       "      <td>Amurrio</td>\n",
       "      <td>amurrio</td>\n",
       "      <td>none</td>\n",
       "      <td>NaN</td>\n",
       "      <td>País Vasco</td>\n",
       "      <td>Álava</td>\n",
       "      <td>Amurrio</td>\n",
       "      <td>43.05265</td>\n",
       "      <td>-3.001022</td>\n",
       "      <td>219.6910</td>\n",
       "      <td>none</td>\n",
       "      <td>NaN</td>\n",
       "      <td>NaN</td>\n",
       "      <td>NaN</td>\n",
       "      <td>NaN</td>\n",
       "    </tr>\n",
       "    <tr>\n",
       "      <th>2</th>\n",
       "      <td>1</td>\n",
       "      <td>Álava</td>\n",
       "      <td>3</td>\n",
       "      <td>Aramaio</td>\n",
       "      <td>aramaio</td>\n",
       "      <td>none</td>\n",
       "      <td>NaN</td>\n",
       "      <td>País Vasco</td>\n",
       "      <td>Álava</td>\n",
       "      <td>Aramaio</td>\n",
       "      <td>43.05400</td>\n",
       "      <td>-2.566000</td>\n",
       "      <td>381.8797</td>\n",
       "      <td>none</td>\n",
       "      <td>NaN</td>\n",
       "      <td>NaN</td>\n",
       "      <td>NaN</td>\n",
       "      <td>NaN</td>\n",
       "    </tr>\n",
       "    <tr>\n",
       "      <th>3</th>\n",
       "      <td>1</td>\n",
       "      <td>Álava</td>\n",
       "      <td>4</td>\n",
       "      <td>Artziniega</td>\n",
       "      <td>artziniega</td>\n",
       "      <td>none</td>\n",
       "      <td>NaN</td>\n",
       "      <td>País Vasco</td>\n",
       "      <td>Álava</td>\n",
       "      <td>Artziniega</td>\n",
       "      <td>43.12220</td>\n",
       "      <td>-3.128209</td>\n",
       "      <td>196.9808</td>\n",
       "      <td>none</td>\n",
       "      <td>NaN</td>\n",
       "      <td>NaN</td>\n",
       "      <td>NaN</td>\n",
       "      <td>NaN</td>\n",
       "    </tr>\n",
       "    <tr>\n",
       "      <th>4</th>\n",
       "      <td>1</td>\n",
       "      <td>Álava</td>\n",
       "      <td>6</td>\n",
       "      <td>Armiñón</td>\n",
       "      <td>arminon</td>\n",
       "      <td>none</td>\n",
       "      <td>NaN</td>\n",
       "      <td>País Vasco</td>\n",
       "      <td>Álava</td>\n",
       "      <td>Armiñón</td>\n",
       "      <td>42.72305</td>\n",
       "      <td>-2.872574</td>\n",
       "      <td>463.5815</td>\n",
       "      <td>none</td>\n",
       "      <td>NaN</td>\n",
       "      <td>NaN</td>\n",
       "      <td>NaN</td>\n",
       "      <td>NaN</td>\n",
       "    </tr>\n",
       "    <tr>\n",
       "      <th>...</th>\n",
       "      <td>...</td>\n",
       "      <td>...</td>\n",
       "      <td>...</td>\n",
       "      <td>...</td>\n",
       "      <td>...</td>\n",
       "      <td>...</td>\n",
       "      <td>...</td>\n",
       "      <td>...</td>\n",
       "      <td>...</td>\n",
       "      <td>...</td>\n",
       "      <td>...</td>\n",
       "      <td>...</td>\n",
       "      <td>...</td>\n",
       "      <td>...</td>\n",
       "      <td>...</td>\n",
       "      <td>...</td>\n",
       "      <td>...</td>\n",
       "      <td>...</td>\n",
       "    </tr>\n",
       "    <tr>\n",
       "      <th>112</th>\n",
       "      <td>31</td>\n",
       "      <td>Navarra</td>\n",
       "      <td>260</td>\n",
       "      <td>Valle de Yerri/Deierri</td>\n",
       "      <td>NaN</td>\n",
       "      <td>NaN</td>\n",
       "      <td>NaN</td>\n",
       "      <td>Navarra</td>\n",
       "      <td>Navarra</td>\n",
       "      <td>Valle de Yerri/Deierri</td>\n",
       "      <td>42.71667</td>\n",
       "      <td>-2.000000</td>\n",
       "      <td>508.0046</td>\n",
       "      <td>NaN</td>\n",
       "      <td>NaN</td>\n",
       "      <td>valledeyerri</td>\n",
       "      <td>valledeyerri</td>\n",
       "      <td>deierri</td>\n",
       "    </tr>\n",
       "    <tr>\n",
       "      <th>116</th>\n",
       "      <td>31</td>\n",
       "      <td>Navarra</td>\n",
       "      <td>907</td>\n",
       "      <td>Zizur Mayor/Zizur Nagusia</td>\n",
       "      <td>NaN</td>\n",
       "      <td>NaN</td>\n",
       "      <td>NaN</td>\n",
       "      <td>Navarra</td>\n",
       "      <td>Navarra</td>\n",
       "      <td>Zizur Mayor/Zizur Nagusia</td>\n",
       "      <td>42.78680</td>\n",
       "      <td>-1.690832</td>\n",
       "      <td>441.8872</td>\n",
       "      <td>NaN</td>\n",
       "      <td>NaN</td>\n",
       "      <td>zizurmayor</td>\n",
       "      <td>zizurmayor</td>\n",
       "      <td>zizurnagusia</td>\n",
       "    </tr>\n",
       "    <tr>\n",
       "      <th>119</th>\n",
       "      <td>46</td>\n",
       "      <td>Valencia</td>\n",
       "      <td>175</td>\n",
       "      <td>Montitxelvo/Montichelvo</td>\n",
       "      <td>NaN</td>\n",
       "      <td>NaN</td>\n",
       "      <td>NaN</td>\n",
       "      <td>Valencia</td>\n",
       "      <td>Valencia</td>\n",
       "      <td>Montitxelvo/Montichelvo</td>\n",
       "      <td>38.89122</td>\n",
       "      <td>-0.338918</td>\n",
       "      <td>267.0021</td>\n",
       "      <td>NaN</td>\n",
       "      <td>NaN</td>\n",
       "      <td>montitxelvo</td>\n",
       "      <td>montitxelvo</td>\n",
       "      <td>montichelvo</td>\n",
       "    </tr>\n",
       "    <tr>\n",
       "      <th>124</th>\n",
       "      <td>48</td>\n",
       "      <td>Bizkaia</td>\n",
       "      <td>22</td>\n",
       "      <td>Karrantza Harana/Valle de Carranza</td>\n",
       "      <td>NaN</td>\n",
       "      <td>NaN</td>\n",
       "      <td>NaN</td>\n",
       "      <td>País Vasco</td>\n",
       "      <td>Bizkaia</td>\n",
       "      <td>Karrantza Harana/Valle de Carranza</td>\n",
       "      <td>43.22528</td>\n",
       "      <td>-3.359444</td>\n",
       "      <td>173.5333</td>\n",
       "      <td>NaN</td>\n",
       "      <td>NaN</td>\n",
       "      <td>karrantzaharana</td>\n",
       "      <td>karrantzaharana</td>\n",
       "      <td>valledecarranza</td>\n",
       "    </tr>\n",
       "    <tr>\n",
       "      <th>125</th>\n",
       "      <td>48</td>\n",
       "      <td>Bizkaia</td>\n",
       "      <td>74</td>\n",
       "      <td>Urduña/Orduña</td>\n",
       "      <td>NaN</td>\n",
       "      <td>NaN</td>\n",
       "      <td>NaN</td>\n",
       "      <td>País Vasco</td>\n",
       "      <td>Bizkaia</td>\n",
       "      <td>Urduña/Orduña</td>\n",
       "      <td>42.99445</td>\n",
       "      <td>-3.009623</td>\n",
       "      <td>291.8751</td>\n",
       "      <td>NaN</td>\n",
       "      <td>NaN</td>\n",
       "      <td>urduna</td>\n",
       "      <td>urduna</td>\n",
       "      <td>orduna</td>\n",
       "    </tr>\n",
       "  </tbody>\n",
       "</table>\n",
       "<p>8141 rows × 18 columns</p>\n",
       "</div>"
      ],
      "text/plain": [
       "     CPRO province_x  CMUN                      municipality_x  \\\n",
       "0       1      Álava     1                    Alegría-Dulantzi   \n",
       "1       1      Álava     2                             Amurrio   \n",
       "2       1      Álava     3                             Aramaio   \n",
       "3       1      Álava     4                          Artziniega   \n",
       "4       1      Álava     6                             Armiñón   \n",
       "..    ...        ...   ...                                 ...   \n",
       "112    31    Navarra   260              Valle de Yerri/Deierri   \n",
       "116    31    Navarra   907           Zizur Mayor/Zizur Nagusia   \n",
       "119    46   Valencia   175             Montitxelvo/Montichelvo   \n",
       "124    48    Bizkaia    22  Karrantza Harana/Valle de Carranza   \n",
       "125    48    Bizkaia    74                       Urduña/Orduña   \n",
       "\n",
       "      municipality_1 municipality_2_x language_x autonomous_community  \\\n",
       "0    alegriadulantzi             none        NaN           País Vasco   \n",
       "1            amurrio             none        NaN           País Vasco   \n",
       "2            aramaio             none        NaN           País Vasco   \n",
       "3         artziniega             none        NaN           País Vasco   \n",
       "4            arminon             none        NaN           País Vasco   \n",
       "..               ...              ...        ...                  ...   \n",
       "112              NaN              NaN        NaN              Navarra   \n",
       "116              NaN              NaN        NaN              Navarra   \n",
       "119              NaN              NaN        NaN             Valencia   \n",
       "124              NaN              NaN        NaN           País Vasco   \n",
       "125              NaN              NaN        NaN           País Vasco   \n",
       "\n",
       "    province_y                      municipality_y  latitude  longitude  \\\n",
       "0        Álava                    Alegría-Dulantzi  42.84149  -2.513507   \n",
       "1        Álava                             Amurrio  43.05265  -3.001022   \n",
       "2        Álava                             Aramaio  43.05400  -2.566000   \n",
       "3        Álava                          Artziniega  43.12220  -3.128209   \n",
       "4        Álava                             Armiñón  42.72305  -2.872574   \n",
       "..         ...                                 ...       ...        ...   \n",
       "112    Navarra              Valle de Yerri/Deierri  42.71667  -2.000000   \n",
       "116    Navarra           Zizur Mayor/Zizur Nagusia  42.78680  -1.690832   \n",
       "119   Valencia             Montitxelvo/Montichelvo  38.89122  -0.338918   \n",
       "124    Bizkaia  Karrantza Harana/Valle de Carranza  43.22528  -3.359444   \n",
       "125    Bizkaia                       Urduña/Orduña  42.99445  -3.009623   \n",
       "\n",
       "     altitude municipality_2_y language_y municipality_1_x municipality_1_y  \\\n",
       "0    561.6857             none        NaN              NaN              NaN   \n",
       "1    219.6910             none        NaN              NaN              NaN   \n",
       "2    381.8797             none        NaN              NaN              NaN   \n",
       "3    196.9808             none        NaN              NaN              NaN   \n",
       "4    463.5815             none        NaN              NaN              NaN   \n",
       "..        ...              ...        ...              ...              ...   \n",
       "112  508.0046              NaN        NaN     valledeyerri     valledeyerri   \n",
       "116  441.8872              NaN        NaN       zizurmayor       zizurmayor   \n",
       "119  267.0021              NaN        NaN      montitxelvo      montitxelvo   \n",
       "124  173.5333              NaN        NaN  karrantzaharana  karrantzaharana   \n",
       "125  291.8751              NaN        NaN           urduna           urduna   \n",
       "\n",
       "      municipality_2  \n",
       "0                NaN  \n",
       "1                NaN  \n",
       "2                NaN  \n",
       "3                NaN  \n",
       "4                NaN  \n",
       "..               ...  \n",
       "112          deierri  \n",
       "116     zizurnagusia  \n",
       "119      montichelvo  \n",
       "124  valledecarranza  \n",
       "125           orduna  \n",
       "\n",
       "[8141 rows x 18 columns]"
      ]
     },
     "execution_count": 35,
     "metadata": {},
     "output_type": "execute_result"
    }
   ],
   "source": [
    "merged_df.drop_duplicates()"
   ]
  },
  {
   "cell_type": "code",
   "execution_count": 36,
   "metadata": {},
   "outputs": [],
   "source": [
    "merged_df = merged_df.drop_duplicates(subset=['municipality_x', 'municipality_y'])"
   ]
  },
  {
   "cell_type": "code",
   "execution_count": 37,
   "metadata": {},
   "outputs": [
    {
     "data": {
      "text/plain": [
       "(8022, 18)"
      ]
     },
     "execution_count": 37,
     "metadata": {},
     "output_type": "execute_result"
    }
   ],
   "source": [
    "merged_df.shape"
   ]
  },
  {
   "cell_type": "code",
   "execution_count": 38,
   "metadata": {},
   "outputs": [
    {
     "data": {
      "text/plain": [
       "CPRO                       0\n",
       "province_x                 0\n",
       "CMUN                       0\n",
       "municipality_x             0\n",
       "municipality_1            32\n",
       "municipality_2_x           0\n",
       "language_x              8022\n",
       "autonomous_community       0\n",
       "province_y                 0\n",
       "municipality_y             0\n",
       "latitude                   0\n",
       "longitude                  0\n",
       "altitude                   0\n",
       "municipality_2_y           0\n",
       "language_y              8022\n",
       "municipality_1_x        7990\n",
       "municipality_1_y        7990\n",
       "municipality_2          8022\n",
       "dtype: int64"
      ]
     },
     "execution_count": 38,
     "metadata": {},
     "output_type": "execute_result"
    }
   ],
   "source": [
    "merged_df.isna().sum()"
   ]
  },
  {
   "cell_type": "markdown",
   "metadata": {},
   "source": [
    "---"
   ]
  },
  {
   "cell_type": "markdown",
   "metadata": {},
   "source": [
    "## Now clean and match on municipalities SPA"
   ]
  },
  {
   "cell_type": "code",
   "execution_count": 39,
   "metadata": {},
   "outputs": [
    {
     "data": {
      "text/plain": [
       "Index(['CPRO', 'province_x', 'CMUN', 'municipality_x', 'municipality_1',\n",
       "       'municipality_2_x', 'language_x', 'autonomous_community', 'province_y',\n",
       "       'municipality_y', 'latitude', 'longitude', 'altitude',\n",
       "       'municipality_2_y', 'language_y', 'municipality_1_x',\n",
       "       'municipality_1_y', 'municipality_2'],\n",
       "      dtype='object')"
      ]
     },
     "execution_count": 39,
     "metadata": {},
     "output_type": "execute_result"
    }
   ],
   "source": [
    "merged_df.columns"
   ]
  },
  {
   "cell_type": "code",
   "execution_count": 40,
   "metadata": {},
   "outputs": [],
   "source": [
    "merged_df = merged_df[['CPRO', 'province_x', 'CMUN', 'municipality_x', 'municipality_1', 'municipality_2', 'municipality_1_y', 'municipality_2_y', 'autonomous_community',   'latitude', 'longitude', 'altitude']]"
   ]
  },
  {
   "cell_type": "code",
   "execution_count": 41,
   "metadata": {},
   "outputs": [],
   "source": [
    "mask = (merged_df[\"municipality_1\"].isna()) & (merged_df[\"municipality_2\"].isna())\n",
    "\n",
    "merged_df.loc[mask, \"municipality_1\"] = merged_df.loc[mask, \"municipality_1_y\"].copy()\n",
    "merged_df.loc[mask, \"municipality_2\"] = merged_df.loc[mask, \"municipality_2_y\"].copy()\n"
   ]
  },
  {
   "cell_type": "code",
   "execution_count": 42,
   "metadata": {},
   "outputs": [
    {
     "data": {
      "text/plain": [
       "CPRO                       0\n",
       "province_x                 0\n",
       "CMUN                       0\n",
       "municipality_x             0\n",
       "municipality_1             0\n",
       "municipality_2          7990\n",
       "municipality_1_y        7990\n",
       "municipality_2_y           0\n",
       "autonomous_community       0\n",
       "latitude                   0\n",
       "longitude                  0\n",
       "altitude                   0\n",
       "dtype: int64"
      ]
     },
     "execution_count": 42,
     "metadata": {},
     "output_type": "execute_result"
    }
   ],
   "source": [
    "merged_df.isna().sum()"
   ]
  },
  {
   "cell_type": "code",
   "execution_count": 43,
   "metadata": {},
   "outputs": [
    {
     "data": {
      "text/plain": [
       "Index(['CPRO', 'province_x', 'CMUN', 'municipality_x', 'municipality_1',\n",
       "       'municipality_2', 'municipality_1_y', 'municipality_2_y',\n",
       "       'autonomous_community', 'latitude', 'longitude', 'altitude'],\n",
       "      dtype='object')"
      ]
     },
     "execution_count": 43,
     "metadata": {},
     "output_type": "execute_result"
    }
   ],
   "source": [
    "merged_df.columns"
   ]
  },
  {
   "cell_type": "code",
   "execution_count": 44,
   "metadata": {},
   "outputs": [],
   "source": [
    "merged_df = merged_df[['CPRO', 'province_x', 'CMUN', 'municipality_x', 'municipality_1',\n",
    "       'municipality_2', \n",
    "       'autonomous_community', 'latitude', 'longitude', 'altitude']]"
   ]
  },
  {
   "cell_type": "code",
   "execution_count": 45,
   "metadata": {},
   "outputs": [],
   "source": [
    "merged_df.rename(columns={      \"province_x\": \"province\",\n",
    "                          \"municipality_x\": \"municipality\", \n",
    "                         }, inplace=True)"
   ]
  },
  {
   "cell_type": "code",
   "execution_count": 46,
   "metadata": {},
   "outputs": [
    {
     "data": {
      "text/plain": [
       "(8022, 10)"
      ]
     },
     "execution_count": 46,
     "metadata": {},
     "output_type": "execute_result"
    }
   ],
   "source": [
    "merged_df.shape"
   ]
  },
  {
   "cell_type": "code",
   "execution_count": 47,
   "metadata": {
    "execution": {
     "iopub.execute_input": "2025-02-17T09:35:41.653963Z",
     "iopub.status.busy": "2025-02-17T09:35:41.653886Z",
     "iopub.status.idle": "2025-02-17T09:35:41.663764Z",
     "shell.execute_reply": "2025-02-17T09:35:41.663229Z"
    }
   },
   "outputs": [],
   "source": [
    "def get_zeros(stringlength, fill_length):\n",
    "    if stringlength < fill_length:\n",
    "        return '0'* (fill_length - stringlength)\n",
    "    return None\n",
    "\n",
    "\n",
    "merged_df[\"CPRO\"] = merged_df[\"CPRO\"].astype(str)\n",
    "merged_df[\"CMUN\"] = merged_df[\"CMUN\"].astype(str)\n",
    "\n",
    "merged_df[\"CPRO\"] = merged_df[\"CPRO\"].apply(lambda x: '0' + x if len(x) < 2 else x )\n",
    "merged_df[\"CMUN\"] = merged_df[\"CMUN\"].apply(lambda x: get_zeros(len(x), 3) + x if len(x) < 3 else x)\n",
    "\n",
    "merged_df['cmun'] = merged_df[\"CPRO\"] + merged_df[\"CMUN\"]\n",
    "merged_df.cmun = merged_df.cmun.astype(\"int32\")"
   ]
  },
  {
   "cell_type": "code",
   "execution_count": 48,
   "metadata": {
    "execution": {
     "iopub.execute_input": "2025-02-17T09:35:41.665263Z",
     "iopub.status.busy": "2025-02-17T09:35:41.665148Z",
     "iopub.status.idle": "2025-02-17T09:35:41.669977Z",
     "shell.execute_reply": "2025-02-17T09:35:41.669758Z"
    }
   },
   "outputs": [
    {
     "data": {
      "text/html": [
       "<div>\n",
       "<style scoped>\n",
       "    .dataframe tbody tr th:only-of-type {\n",
       "        vertical-align: middle;\n",
       "    }\n",
       "\n",
       "    .dataframe tbody tr th {\n",
       "        vertical-align: top;\n",
       "    }\n",
       "\n",
       "    .dataframe thead th {\n",
       "        text-align: right;\n",
       "    }\n",
       "</style>\n",
       "<table border=\"1\" class=\"dataframe\">\n",
       "  <thead>\n",
       "    <tr style=\"text-align: right;\">\n",
       "      <th></th>\n",
       "      <th>CPRO</th>\n",
       "      <th>province</th>\n",
       "      <th>CMUN</th>\n",
       "      <th>municipality</th>\n",
       "      <th>municipality_1</th>\n",
       "      <th>municipality_2</th>\n",
       "      <th>autonomous_community</th>\n",
       "      <th>latitude</th>\n",
       "      <th>longitude</th>\n",
       "      <th>altitude</th>\n",
       "      <th>cmun</th>\n",
       "    </tr>\n",
       "  </thead>\n",
       "  <tbody>\n",
       "    <tr>\n",
       "      <th>0</th>\n",
       "      <td>01</td>\n",
       "      <td>Álava</td>\n",
       "      <td>001</td>\n",
       "      <td>Alegría-Dulantzi</td>\n",
       "      <td>alegriadulantzi</td>\n",
       "      <td>NaN</td>\n",
       "      <td>País Vasco</td>\n",
       "      <td>42.84149</td>\n",
       "      <td>-2.513507</td>\n",
       "      <td>561.68570</td>\n",
       "      <td>1001</td>\n",
       "    </tr>\n",
       "    <tr>\n",
       "      <th>1</th>\n",
       "      <td>01</td>\n",
       "      <td>Álava</td>\n",
       "      <td>002</td>\n",
       "      <td>Amurrio</td>\n",
       "      <td>amurrio</td>\n",
       "      <td>NaN</td>\n",
       "      <td>País Vasco</td>\n",
       "      <td>43.05265</td>\n",
       "      <td>-3.001022</td>\n",
       "      <td>219.69100</td>\n",
       "      <td>1002</td>\n",
       "    </tr>\n",
       "    <tr>\n",
       "      <th>2</th>\n",
       "      <td>01</td>\n",
       "      <td>Álava</td>\n",
       "      <td>003</td>\n",
       "      <td>Aramaio</td>\n",
       "      <td>aramaio</td>\n",
       "      <td>NaN</td>\n",
       "      <td>País Vasco</td>\n",
       "      <td>43.05400</td>\n",
       "      <td>-2.566000</td>\n",
       "      <td>381.87970</td>\n",
       "      <td>1003</td>\n",
       "    </tr>\n",
       "    <tr>\n",
       "      <th>3</th>\n",
       "      <td>01</td>\n",
       "      <td>Álava</td>\n",
       "      <td>004</td>\n",
       "      <td>Artziniega</td>\n",
       "      <td>artziniega</td>\n",
       "      <td>NaN</td>\n",
       "      <td>País Vasco</td>\n",
       "      <td>43.12220</td>\n",
       "      <td>-3.128209</td>\n",
       "      <td>196.98080</td>\n",
       "      <td>1004</td>\n",
       "    </tr>\n",
       "    <tr>\n",
       "      <th>4</th>\n",
       "      <td>01</td>\n",
       "      <td>Álava</td>\n",
       "      <td>006</td>\n",
       "      <td>Armiñón</td>\n",
       "      <td>arminon</td>\n",
       "      <td>NaN</td>\n",
       "      <td>País Vasco</td>\n",
       "      <td>42.72305</td>\n",
       "      <td>-2.872574</td>\n",
       "      <td>463.58150</td>\n",
       "      <td>1006</td>\n",
       "    </tr>\n",
       "    <tr>\n",
       "      <th>...</th>\n",
       "      <td>...</td>\n",
       "      <td>...</td>\n",
       "      <td>...</td>\n",
       "      <td>...</td>\n",
       "      <td>...</td>\n",
       "      <td>...</td>\n",
       "      <td>...</td>\n",
       "      <td>...</td>\n",
       "      <td>...</td>\n",
       "      <td>...</td>\n",
       "      <td>...</td>\n",
       "    </tr>\n",
       "    <tr>\n",
       "      <th>1875</th>\n",
       "      <td>12</td>\n",
       "      <td>Castellón</td>\n",
       "      <td>072</td>\n",
       "      <td>Llucena/Lucena del Cid</td>\n",
       "      <td>lucenadelcid</td>\n",
       "      <td>none</td>\n",
       "      <td>Valencia</td>\n",
       "      <td>40.13850</td>\n",
       "      <td>-0.279997</td>\n",
       "      <td>564.10640</td>\n",
       "      <td>12072</td>\n",
       "    </tr>\n",
       "    <tr>\n",
       "      <th>1945</th>\n",
       "      <td>12</td>\n",
       "      <td>Castellón</td>\n",
       "      <td>901</td>\n",
       "      <td>Alqueries, les/Alquerías del Niño Perdido</td>\n",
       "      <td>alqueriasdelninoperdido</td>\n",
       "      <td>none</td>\n",
       "      <td>Valencia</td>\n",
       "      <td>39.89653</td>\n",
       "      <td>-0.113446</td>\n",
       "      <td>25.46689</td>\n",
       "      <td>12901</td>\n",
       "    </tr>\n",
       "    <tr>\n",
       "      <th>6997</th>\n",
       "      <td>46</td>\n",
       "      <td>Valencia</td>\n",
       "      <td>013</td>\n",
       "      <td>Alboraia/Alboraya</td>\n",
       "      <td>alboraya</td>\n",
       "      <td>none</td>\n",
       "      <td>Valencia</td>\n",
       "      <td>39.49935</td>\n",
       "      <td>-0.349783</td>\n",
       "      <td>10.95999</td>\n",
       "      <td>46013</td>\n",
       "    </tr>\n",
       "    <tr>\n",
       "      <th>7160</th>\n",
       "      <td>46</td>\n",
       "      <td>Valencia</td>\n",
       "      <td>176</td>\n",
       "      <td>Montroi/Montroy</td>\n",
       "      <td>montroy</td>\n",
       "      <td>none</td>\n",
       "      <td>Valencia</td>\n",
       "      <td>39.34037</td>\n",
       "      <td>-0.614546</td>\n",
       "      <td>142.12200</td>\n",
       "      <td>46176</td>\n",
       "    </tr>\n",
       "    <tr>\n",
       "      <th>7239</th>\n",
       "      <td>46</td>\n",
       "      <td>Valencia</td>\n",
       "      <td>255</td>\n",
       "      <td>Vilallonga/Villalonga</td>\n",
       "      <td>villalonga</td>\n",
       "      <td>none</td>\n",
       "      <td>Valencia</td>\n",
       "      <td>38.88487</td>\n",
       "      <td>-0.209364</td>\n",
       "      <td>110.53350</td>\n",
       "      <td>46255</td>\n",
       "    </tr>\n",
       "  </tbody>\n",
       "</table>\n",
       "<p>8022 rows × 11 columns</p>\n",
       "</div>"
      ],
      "text/plain": [
       "     CPRO   province CMUN                               municipality  \\\n",
       "0      01      Álava  001                           Alegría-Dulantzi   \n",
       "1      01      Álava  002                                    Amurrio   \n",
       "2      01      Álava  003                                    Aramaio   \n",
       "3      01      Álava  004                                 Artziniega   \n",
       "4      01      Álava  006                                    Armiñón   \n",
       "...   ...        ...  ...                                        ...   \n",
       "1875   12  Castellón  072                     Llucena/Lucena del Cid   \n",
       "1945   12  Castellón  901  Alqueries, les/Alquerías del Niño Perdido   \n",
       "6997   46   Valencia  013                          Alboraia/Alboraya   \n",
       "7160   46   Valencia  176                            Montroi/Montroy   \n",
       "7239   46   Valencia  255                      Vilallonga/Villalonga   \n",
       "\n",
       "               municipality_1 municipality_2 autonomous_community  latitude  \\\n",
       "0             alegriadulantzi            NaN           País Vasco  42.84149   \n",
       "1                     amurrio            NaN           País Vasco  43.05265   \n",
       "2                     aramaio            NaN           País Vasco  43.05400   \n",
       "3                  artziniega            NaN           País Vasco  43.12220   \n",
       "4                     arminon            NaN           País Vasco  42.72305   \n",
       "...                       ...            ...                  ...       ...   \n",
       "1875             lucenadelcid           none             Valencia  40.13850   \n",
       "1945  alqueriasdelninoperdido           none             Valencia  39.89653   \n",
       "6997                 alboraya           none             Valencia  39.49935   \n",
       "7160                  montroy           none             Valencia  39.34037   \n",
       "7239               villalonga           none             Valencia  38.88487   \n",
       "\n",
       "      longitude   altitude   cmun  \n",
       "0     -2.513507  561.68570   1001  \n",
       "1     -3.001022  219.69100   1002  \n",
       "2     -2.566000  381.87970   1003  \n",
       "3     -3.128209  196.98080   1004  \n",
       "4     -2.872574  463.58150   1006  \n",
       "...         ...        ...    ...  \n",
       "1875  -0.279997  564.10640  12072  \n",
       "1945  -0.113446   25.46689  12901  \n",
       "6997  -0.349783   10.95999  46013  \n",
       "7160  -0.614546  142.12200  46176  \n",
       "7239  -0.209364  110.53350  46255  \n",
       "\n",
       "[8022 rows x 11 columns]"
      ]
     },
     "execution_count": 48,
     "metadata": {},
     "output_type": "execute_result"
    }
   ],
   "source": [
    "merged_df"
   ]
  },
  {
   "cell_type": "code",
   "execution_count": 50,
   "metadata": {},
   "outputs": [],
   "source": [
    "merged_df = merged_df[['cmun', 'municipality', 'municipality_1', 'municipality_2','province',  \n",
    "       'autonomous_community', 'latitude', 'longitude', 'altitude', ]]"
   ]
  },
  {
   "cell_type": "code",
   "execution_count": 51,
   "metadata": {},
   "outputs": [
    {
     "data": {
      "text/plain": [
       "cmun                       0\n",
       "municipality               0\n",
       "municipality_1             0\n",
       "municipality_2          7990\n",
       "province                   0\n",
       "autonomous_community       0\n",
       "latitude                   0\n",
       "longitude                  0\n",
       "altitude                   0\n",
       "dtype: int64"
      ]
     },
     "execution_count": 51,
     "metadata": {},
     "output_type": "execute_result"
    }
   ],
   "source": [
    "merged_df.isna().sum()"
   ]
  },
  {
   "cell_type": "code",
   "execution_count": 52,
   "metadata": {},
   "outputs": [
    {
     "data": {
      "text/html": [
       "<div>\n",
       "<style scoped>\n",
       "    .dataframe tbody tr th:only-of-type {\n",
       "        vertical-align: middle;\n",
       "    }\n",
       "\n",
       "    .dataframe tbody tr th {\n",
       "        vertical-align: top;\n",
       "    }\n",
       "\n",
       "    .dataframe thead th {\n",
       "        text-align: right;\n",
       "    }\n",
       "</style>\n",
       "<table border=\"1\" class=\"dataframe\">\n",
       "  <thead>\n",
       "    <tr style=\"text-align: right;\">\n",
       "      <th></th>\n",
       "      <th>cmun</th>\n",
       "      <th>municipality</th>\n",
       "      <th>municipality_1</th>\n",
       "      <th>municipality_2</th>\n",
       "      <th>province</th>\n",
       "      <th>autonomous_community</th>\n",
       "      <th>latitude</th>\n",
       "      <th>longitude</th>\n",
       "      <th>altitude</th>\n",
       "    </tr>\n",
       "  </thead>\n",
       "  <tbody>\n",
       "  </tbody>\n",
       "</table>\n",
       "</div>"
      ],
      "text/plain": [
       "Empty DataFrame\n",
       "Columns: [cmun, municipality, municipality_1, municipality_2, province, autonomous_community, latitude, longitude, altitude]\n",
       "Index: []"
      ]
     },
     "execution_count": 52,
     "metadata": {},
     "output_type": "execute_result"
    }
   ],
   "source": [
    "merged_df[merged_df[\"municipality\"] == \"Donostia\"]"
   ]
  },
  {
   "cell_type": "code",
   "execution_count": 53,
   "metadata": {
    "execution": {
     "iopub.execute_input": "2025-02-17T09:35:41.684339Z",
     "iopub.status.busy": "2025-02-17T09:35:41.684275Z",
     "iopub.status.idle": "2025-02-17T09:35:41.702862Z",
     "shell.execute_reply": "2025-02-17T09:35:41.702568Z"
    }
   },
   "outputs": [],
   "source": [
    "merged_df.to_csv(\"../data/processed/filtered_files/filtered_municipalities.csv\", index=False)"
   ]
  }
 ],
 "metadata": {
  "kernelspec": {
   "display_name": ".venv",
   "language": "python",
   "name": "python3"
  },
  "language_info": {
   "codemirror_mode": {
    "name": "ipython",
    "version": 3
   },
   "file_extension": ".py",
   "mimetype": "text/x-python",
   "name": "python",
   "nbconvert_exporter": "python",
   "pygments_lexer": "ipython3",
   "version": "3.11.3"
  }
 },
 "nbformat": 4,
 "nbformat_minor": 2
}
