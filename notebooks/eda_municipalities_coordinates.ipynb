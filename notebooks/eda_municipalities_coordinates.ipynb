{
 "cells": [
  {
   "cell_type": "markdown",
   "metadata": {},
   "source": [
    "## Basic EDA for first incoming data"
   ]
  },
  {
   "cell_type": "code",
   "execution_count": null,
   "metadata": {
    "execution": {
     "iopub.execute_input": "2025-02-17T09:35:39.629788Z",
     "iopub.status.busy": "2025-02-17T09:35:39.629681Z",
     "iopub.status.idle": "2025-02-17T09:35:39.915780Z",
     "shell.execute_reply": "2025-02-17T09:35:39.915451Z"
    }
   },
   "outputs": [],
   "source": [
    "import sys\n",
    "import os\n",
    "import re\n",
    "sys.path.insert(0, os.path.abspath(os.path.join(os.getcwd(), '..')))\n",
    "\n",
    "import pandas as pd\n",
    "import plotly.express as px\n",
    "import numpy as np\n",
    "\n",
    "from scripts.accent_cleaner import AccentCleaner\n",
    "from scripts.column_aligner import ColumnAligner\n",
    "from scripts.utils import split_at_char, replace_with"
   ]
  },
  {
   "cell_type": "code",
   "execution_count": null,
   "metadata": {
    "execution": {
     "iopub.execute_input": "2025-02-17T09:35:39.917105Z",
     "iopub.status.busy": "2025-02-17T09:35:39.917004Z",
     "iopub.status.idle": "2025-02-17T09:35:39.928523Z",
     "shell.execute_reply": "2025-02-17T09:35:39.928216Z"
    }
   },
   "outputs": [],
   "source": [
    "df_communities = pd.read_csv(\n",
    "    \"../data/raw/population_towns.csv\", \n",
    "    encoding=\"ISO-8859-1\",  # or \"latin1\",\n",
    "    sep=\";\",\n",
    "    decimal=\",\")\n",
    "df_coordinates = pd.read_csv(\n",
    "    \"../data/raw/coordinates_towns_spain.csv\",\n",
    "    encoding=\"ISO-8859-1\",  # or \"latin1\"\n",
    "    sep=\";\",\n",
    "    decimal=\",\"\n",
    ")"
   ]
  },
  {
   "cell_type": "code",
   "execution_count": null,
   "metadata": {
    "execution": {
     "iopub.execute_input": "2025-02-17T09:35:39.930046Z",
     "iopub.status.busy": "2025-02-17T09:35:39.929926Z",
     "iopub.status.idle": "2025-02-17T09:35:39.934032Z",
     "shell.execute_reply": "2025-02-17T09:35:39.933802Z"
    }
   },
   "outputs": [],
   "source": [
    "df_communities.info()"
   ]
  },
  {
   "cell_type": "code",
   "execution_count": null,
   "metadata": {
    "execution": {
     "iopub.execute_input": "2025-02-17T09:35:39.935053Z",
     "iopub.status.busy": "2025-02-17T09:35:39.934973Z",
     "iopub.status.idle": "2025-02-17T09:35:39.939398Z",
     "shell.execute_reply": "2025-02-17T09:35:39.938634Z"
    }
   },
   "outputs": [],
   "source": [
    "df_coordinates.info()"
   ]
  },
  {
   "cell_type": "code",
   "execution_count": null,
   "metadata": {
    "execution": {
     "iopub.execute_input": "2025-02-17T09:35:39.940726Z",
     "iopub.status.busy": "2025-02-17T09:35:39.940631Z",
     "iopub.status.idle": "2025-02-17T09:35:39.943687Z",
     "shell.execute_reply": "2025-02-17T09:35:39.943450Z"
    }
   },
   "outputs": [],
   "source": [
    "df_coordinates[\"Comunidad\"].unique()\n",
    "\n",
    "# We need to change:\n",
    "# Catalunya -> Cataluña\n",
    "# Ceuta y Melilla --> Ceuta\n",
    "#                     Melilla\n"
   ]
  },
  {
   "cell_type": "code",
   "execution_count": null,
   "metadata": {
    "execution": {
     "iopub.execute_input": "2025-02-17T09:35:39.944693Z",
     "iopub.status.busy": "2025-02-17T09:35:39.944629Z",
     "iopub.status.idle": "2025-02-17T09:35:39.946767Z",
     "shell.execute_reply": "2025-02-17T09:35:39.946566Z"
    }
   },
   "outputs": [],
   "source": [
    "df_coordinates[\"Provincia\"].unique()\n",
    "\n",
    "# We need to change:\n",
    "# 'Alicante/Alacant' --> Alicante\n",
    "# 'Castellón/Castelló' -> Castellón\n",
    "# 'Valencia/València' --> Valencia\n",
    "# Guipúzcoa --> Gipuzkoa\n",
    "# Vizcaya --> Bizkaia\n"
   ]
  },
  {
   "cell_type": "code",
   "execution_count": null,
   "metadata": {
    "execution": {
     "iopub.execute_input": "2025-02-17T09:35:39.947691Z",
     "iopub.status.busy": "2025-02-17T09:35:39.947632Z",
     "iopub.status.idle": "2025-02-17T09:35:39.949744Z",
     "shell.execute_reply": "2025-02-17T09:35:39.949537Z"
    }
   },
   "outputs": [],
   "source": [
    "df_communities[\"PROVINCIA\"].unique()\n"
   ]
  },
  {
   "cell_type": "code",
   "execution_count": null,
   "metadata": {
    "execution": {
     "iopub.execute_input": "2025-02-17T09:35:39.950713Z",
     "iopub.status.busy": "2025-02-17T09:35:39.950634Z",
     "iopub.status.idle": "2025-02-17T09:35:39.954262Z",
     "shell.execute_reply": "2025-02-17T09:35:39.954006Z"
    }
   },
   "outputs": [],
   "source": [
    "df_communities.head()"
   ]
  },
  {
   "cell_type": "code",
   "execution_count": null,
   "metadata": {
    "execution": {
     "iopub.execute_input": "2025-02-17T09:35:39.955301Z",
     "iopub.status.busy": "2025-02-17T09:35:39.955232Z",
     "iopub.status.idle": "2025-02-17T09:35:39.957293Z",
     "shell.execute_reply": "2025-02-17T09:35:39.957060Z"
    }
   },
   "outputs": [],
   "source": [
    "columns_communities_english = ['province_code', 'province', 'municipality_code', 'municipality_name', 'population', 'male', 'female']\n",
    "columns_coordinates_english = ['community', 'province', 'municipality_name', 'latitude', 'longitude', 'altitude',\n",
    "    'population', 'male', 'female']\n",
    "\n",
    "\n",
    "def map_cols_es_en(es: list, en: list):\n",
    "    dict_cols = dict(zip(es, en))\n",
    "    return dict_cols.values()\n",
    "\n",
    "\n",
    "df_communities.columns = map_cols_es_en(df_communities.columns.to_list(), columns_communities_english)\n",
    "df_coordinates.columns = map_cols_es_en(df_coordinates.columns.to_list(), columns_coordinates_english)"
   ]
  },
  {
   "cell_type": "code",
   "execution_count": null,
   "metadata": {
    "execution": {
     "iopub.execute_input": "2025-02-17T09:35:39.958274Z",
     "iopub.status.busy": "2025-02-17T09:35:39.958216Z",
     "iopub.status.idle": "2025-02-17T09:35:39.962396Z",
     "shell.execute_reply": "2025-02-17T09:35:39.962116Z"
    }
   },
   "outputs": [],
   "source": [
    "df_coordinates.sample(5)"
   ]
  },
  {
   "cell_type": "code",
   "execution_count": null,
   "metadata": {
    "execution": {
     "iopub.execute_input": "2025-02-17T09:35:39.963589Z",
     "iopub.status.busy": "2025-02-17T09:35:39.963519Z",
     "iopub.status.idle": "2025-02-17T09:35:39.968696Z",
     "shell.execute_reply": "2025-02-17T09:35:39.968446Z"
    }
   },
   "outputs": [],
   "source": [
    "df_coordinates = replace_with(df_coordinates, 'province', 'Vizcaya', 'Bizkaia')\n",
    "df_coordinates = replace_with(df_coordinates, 'province', 'Alicante/Alacant', 'Alicante')\n",
    "df_coordinates = replace_with(df_coordinates, 'province', 'Castellón/Castelló', 'Castellón')\n",
    "df_coordinates = replace_with(df_coordinates, 'province', 'Valencia/València', 'Valencia')\n",
    "df_coordinates = replace_with(df_coordinates, 'province', 'Guipúzcoa', 'Gipuzkoa')"
   ]
  },
  {
   "cell_type": "code",
   "execution_count": null,
   "metadata": {
    "execution": {
     "iopub.execute_input": "2025-02-17T09:35:39.969772Z",
     "iopub.status.busy": "2025-02-17T09:35:39.969703Z",
     "iopub.status.idle": "2025-02-17T09:35:41.327010Z",
     "shell.execute_reply": "2025-02-17T09:35:41.326657Z"
    }
   },
   "outputs": [],
   "source": [
    "cleaner = AccentCleaner([df_communities, df_coordinates], ['municipality_name', 'province'])\n",
    "cleaner.cleanAccents()\n",
    "\n",
    "aligner = ColumnAligner(df_communities, df_coordinates, 'municipality_name_clean', re.compile(r\"\\*,\\s\"))\n",
    "aligner.alignColumns()\n",
    "\n",
    "df_communities = split_at_char(df_communities, 'municipality_name_clean', '/')\n",
    "df_coordinates = split_at_char(df_coordinates, 'municipality_name_clean', '/')"
   ]
  },
  {
   "cell_type": "code",
   "execution_count": null,
   "metadata": {
    "execution": {
     "iopub.execute_input": "2025-02-17T09:35:41.328449Z",
     "iopub.status.busy": "2025-02-17T09:35:41.328357Z",
     "iopub.status.idle": "2025-02-17T09:35:41.332616Z",
     "shell.execute_reply": "2025-02-17T09:35:41.332343Z"
    }
   },
   "outputs": [],
   "source": [
    "df_coordinates[df_coordinates['municipality_name_clean'] == \"arantzazu\"]\n"
   ]
  },
  {
   "cell_type": "code",
   "execution_count": null,
   "metadata": {
    "execution": {
     "iopub.execute_input": "2025-02-17T09:35:41.333741Z",
     "iopub.status.busy": "2025-02-17T09:35:41.333662Z",
     "iopub.status.idle": "2025-02-17T09:35:41.344069Z",
     "shell.execute_reply": "2025-02-17T09:35:41.343754Z"
    }
   },
   "outputs": [],
   "source": [
    "df_communities['municipality_name_clean'] = df_communities['municipality_name_clean'].str.strip().str.lower()\n",
    "df_communities['province_clean'] = df_communities['province_clean'].str.strip().str.lower()\n",
    "df_coordinates['municipality_name_clean'] = df_coordinates['municipality_name_clean'].str.strip().str.lower()\n",
    "df_coordinates['province_clean'] = df_coordinates['province_clean'].str.strip().str.lower()\n",
    "\n",
    "df = pd.merge(df_communities, df_coordinates[['altitude', 'longitude', 'latitude', 'municipality_name_clean', 'province_clean']], \n",
    "              on=['municipality_name_clean', 'province_clean'], \n",
    "              how='left')\n",
    "\n",
    "# df = pd.merge(df_coordinates[['altitude', 'longitude', 'latitude', 'municipality_name_clean', 'province_clean']], df_communities, \n",
    "#               on=['municipality_name_clean', 'province_clean'], \n",
    "#               how='left')"
   ]
  },
  {
   "cell_type": "code",
   "execution_count": null,
   "metadata": {
    "execution": {
     "iopub.execute_input": "2025-02-17T09:35:41.345114Z",
     "iopub.status.busy": "2025-02-17T09:35:41.345046Z",
     "iopub.status.idle": "2025-02-17T09:35:41.349080Z",
     "shell.execute_reply": "2025-02-17T09:35:41.348872Z"
    }
   },
   "outputs": [],
   "source": [
    "df.head(10)"
   ]
  },
  {
   "cell_type": "code",
   "execution_count": null,
   "metadata": {
    "execution": {
     "iopub.execute_input": "2025-02-17T09:35:41.350109Z",
     "iopub.status.busy": "2025-02-17T09:35:41.350050Z",
     "iopub.status.idle": "2025-02-17T09:35:41.352992Z",
     "shell.execute_reply": "2025-02-17T09:35:41.352792Z"
    }
   },
   "outputs": [],
   "source": [
    "# Display rows with any NaN values and count them\n",
    "nan_rows = df[df.isna().any(axis=1)]\n",
    "df.dropna(inplace=True)"
   ]
  },
  {
   "cell_type": "code",
   "execution_count": null,
   "metadata": {
    "execution": {
     "iopub.execute_input": "2025-02-17T09:35:41.354033Z",
     "iopub.status.busy": "2025-02-17T09:35:41.353956Z",
     "iopub.status.idle": "2025-02-17T09:35:41.358194Z",
     "shell.execute_reply": "2025-02-17T09:35:41.357949Z"
    }
   },
   "outputs": [],
   "source": [
    "df.head(10)"
   ]
  },
  {
   "cell_type": "markdown",
   "metadata": {},
   "source": [
    "## Problems\n",
    "\n",
    "Spelling is different in the two dataset, we might have to remove the accents first"
   ]
  },
  {
   "cell_type": "code",
   "execution_count": null,
   "metadata": {
    "execution": {
     "iopub.execute_input": "2025-02-17T09:35:41.359374Z",
     "iopub.status.busy": "2025-02-17T09:35:41.359310Z",
     "iopub.status.idle": "2025-02-17T09:35:41.364153Z",
     "shell.execute_reply": "2025-02-17T09:35:41.363908Z"
    }
   },
   "outputs": [],
   "source": [
    "df_communities[df_communities['municipality_name'].str.contains(r'Val.*ncia', case=False, na=False)]"
   ]
  },
  {
   "cell_type": "code",
   "execution_count": null,
   "metadata": {
    "execution": {
     "iopub.execute_input": "2025-02-17T09:35:41.365411Z",
     "iopub.status.busy": "2025-02-17T09:35:41.365331Z",
     "iopub.status.idle": "2025-02-17T09:35:41.576025Z",
     "shell.execute_reply": "2025-02-17T09:35:41.575455Z"
    }
   },
   "outputs": [],
   "source": [
    "title = \"Communities in Spain\"\n",
    "\n",
    "lats = df.latitude\n",
    "lons = df.longitude\n",
    "\n",
    "fig = px.scatter_map(df, \n",
    "                     lat=lats, \n",
    "                     lon=lons,\n",
    "                     hover_data=[\"municipality_name\", \"altitude\"], \n",
    "                     size='population',\n",
    "                     color='population',\n",
    "                     color_continuous_scale=px.colors.carto.Aggrnyl,\n",
    "                     zoom=5,\n",
    "                     size_max=50  # Increase max size of markers\n",
    "                     )\n",
    "\n",
    "# Adjust the size reference to make small points more visible\n",
    "fig.update_traces(marker=dict(sizeref=1000))  # Decrease this value to make points larger\n",
    "\n",
    "fig.update_geos(fitbounds=\"locations\")\n",
    "fig.update_layout(height=1000, width=1000)\n",
    "fig.update_layout(mapbox_style=\"open-street-map\")\n",
    "fig.update_layout(margin={\"r\":50,\"t\":50,\"l\":50,\"b\":50})\n",
    "fig.update_layout(\n",
    "    coloraxis_colorbar=dict(title='Population')\n",
    ")\n",
    "fig.update_layout(title=\"Communities in Spain by population size\")\n",
    "\n",
    "fig.show()"
   ]
  },
  {
   "cell_type": "code",
   "execution_count": null,
   "metadata": {
    "execution": {
     "iopub.execute_input": "2025-02-17T09:35:41.627676Z",
     "iopub.status.busy": "2025-02-17T09:35:41.626971Z",
     "iopub.status.idle": "2025-02-17T09:35:41.652784Z",
     "shell.execute_reply": "2025-02-17T09:35:41.652541Z"
    }
   },
   "outputs": [],
   "source": [
    "df.query(\"municipality_name_clean == 'villatuelda'\")\n",
    "df.info()\n",
    "\n",
    "df.sample()"
   ]
  },
  {
   "cell_type": "code",
   "execution_count": null,
   "metadata": {
    "execution": {
     "iopub.execute_input": "2025-02-17T09:35:41.653963Z",
     "iopub.status.busy": "2025-02-17T09:35:41.653886Z",
     "iopub.status.idle": "2025-02-17T09:35:41.663764Z",
     "shell.execute_reply": "2025-02-17T09:35:41.663229Z"
    }
   },
   "outputs": [],
   "source": [
    "def get_zeros(stringlength, fill_length):\n",
    "    if stringlength < fill_length:\n",
    "        return '0'* (fill_length - stringlength)\n",
    "    return None\n",
    "\n",
    "\n",
    "df[\"province_code\"] = df[\"province_code\"].astype(str)\n",
    "df[\"municipality_code\"] = df[\"municipality_code\"].astype(str)\n",
    "\n",
    "df[\"province_code\"] = df[\"province_code\"].apply(lambda x: '0' + x if len(x) < 2 else x )\n",
    "df[\"municipality_code\"] = df[\"municipality_code\"].apply(lambda x: get_zeros(len(x), 3) + x if len(x) < 3 else x)\n",
    "\n",
    "df['cmun'] = df[\"province_code\"] + df[\"municipality_code\"]\n",
    "df.cmun = df.cmun.astype(\"int32\")"
   ]
  },
  {
   "cell_type": "code",
   "execution_count": null,
   "metadata": {
    "execution": {
     "iopub.execute_input": "2025-02-17T09:35:41.665263Z",
     "iopub.status.busy": "2025-02-17T09:35:41.665148Z",
     "iopub.status.idle": "2025-02-17T09:35:41.669977Z",
     "shell.execute_reply": "2025-02-17T09:35:41.669758Z"
    }
   },
   "outputs": [],
   "source": [
    "df"
   ]
  },
  {
   "cell_type": "code",
   "execution_count": null,
   "metadata": {
    "execution": {
     "iopub.execute_input": "2025-02-17T09:35:41.671111Z",
     "iopub.status.busy": "2025-02-17T09:35:41.671047Z",
     "iopub.status.idle": "2025-02-17T09:35:41.675477Z",
     "shell.execute_reply": "2025-02-17T09:35:41.675220Z"
    }
   },
   "outputs": [],
   "source": [
    "df = df.drop(columns=['province_code', 'municipality_code'])\n",
    "df.info()"
   ]
  },
  {
   "cell_type": "code",
   "execution_count": null,
   "metadata": {
    "execution": {
     "iopub.execute_input": "2025-02-17T09:35:41.677256Z",
     "iopub.status.busy": "2025-02-17T09:35:41.677157Z",
     "iopub.status.idle": "2025-02-17T09:35:41.683274Z",
     "shell.execute_reply": "2025-02-17T09:35:41.683052Z"
    }
   },
   "outputs": [],
   "source": [
    "df.query(\"cmun <= 20000\")\n",
    "df.query(\"municipality_name_clean == 'villatuelda'\")"
   ]
  },
  {
   "cell_type": "code",
   "execution_count": null,
   "metadata": {
    "execution": {
     "iopub.execute_input": "2025-02-17T09:35:41.684339Z",
     "iopub.status.busy": "2025-02-17T09:35:41.684275Z",
     "iopub.status.idle": "2025-02-17T09:35:41.702862Z",
     "shell.execute_reply": "2025-02-17T09:35:41.702568Z"
    }
   },
   "outputs": [],
   "source": [
    "df.to_csv(\"../data/processed/filtered_municipalities.csv\", index=False)"
   ]
  }
 ],
 "metadata": {
  "kernelspec": {
   "display_name": ".venv",
   "language": "python",
   "name": "python3"
  },
  "language_info": {
   "codemirror_mode": {
    "name": "ipython",
    "version": 3
   },
   "file_extension": ".py",
   "mimetype": "text/x-python",
   "name": "python",
   "nbconvert_exporter": "python",
   "pygments_lexer": "ipython3",
   "version": "3.11.3"
  }
 },
 "nbformat": 4,
 "nbformat_minor": 2
}
