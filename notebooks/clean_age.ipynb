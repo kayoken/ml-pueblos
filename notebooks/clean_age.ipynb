{
 "cells": [
  {
   "cell_type": "code",
   "execution_count": null,
   "metadata": {},
   "outputs": [],
   "source": [
    "import sys\n",
    "import os\n",
    "import re\n",
    "sys.path.insert(0, os.path.abspath(os.path.join(os.getcwd(), '..')))\n",
    "\n",
    "import pandas as pd\n",
    "import plotly.express as px\n",
    "import numpy as np\n",
    "\n",
    "from scripts.accent_cleaner import AccentCleaner\n",
    "from scripts.column_aligner import ColumnAligner\n",
    "from scripts.utils import split_at_char, replace_with"
   ]
  },
  {
   "cell_type": "code",
   "execution_count": null,
   "metadata": {},
   "outputs": [],
   "source": [
    "df_raw = pd.read_csv(\"../data/raw/68542.csv\", sep=\";\", decimal=\",\")"
   ]
  },
  {
   "cell_type": "code",
   "execution_count": null,
   "metadata": {},
   "outputs": [],
   "source": [
    "df_raw.head()"
   ]
  },
  {
   "cell_type": "code",
   "execution_count": null,
   "metadata": {},
   "outputs": [],
   "source": [
    "df_raw.info()"
   ]
  },
  {
   "cell_type": "code",
   "execution_count": null,
   "metadata": {},
   "outputs": [],
   "source": [
    "df_raw.sample(15)"
   ]
  },
  {
   "cell_type": "code",
   "execution_count": null,
   "metadata": {},
   "outputs": [],
   "source": [
    "df_raw.drop(columns=['National Total'], inplace=True)"
   ]
  },
  {
   "cell_type": "code",
   "execution_count": null,
   "metadata": {},
   "outputs": [],
   "source": [
    "df_raw.isnull().sum()"
   ]
  },
  {
   "cell_type": "code",
   "execution_count": null,
   "metadata": {},
   "outputs": [],
   "source": [
    "df_municipalities_null = df_raw[df_raw['Municipalities'].isnull()]\n",
    "df_municipalities_null[df_municipalities_null[\"Provinces\"] == \"08 Barcelona\"]"
   ]
  },
  {
   "cell_type": "markdown",
   "metadata": {},
   "source": [
    "### We have information about provinces without the municipalities, we should drop them"
   ]
  },
  {
   "cell_type": "code",
   "execution_count": null,
   "metadata": {},
   "outputs": [],
   "source": [
    "df_raw[df_raw['Provinces'] == \"25 Lleida\"].sample(5)"
   ]
  },
  {
   "cell_type": "code",
   "execution_count": null,
   "metadata": {},
   "outputs": [],
   "source": [
    "\n",
    "prov_null = df_raw[[\"Provinces\", \"Municipalities\"]]\n",
    "\n",
    "prov_null[(prov_null[\"Provinces\"].isnull()) & (prov_null[\"Municipalities\"].isnull())]"
   ]
  },
  {
   "cell_type": "code",
   "execution_count": null,
   "metadata": {},
   "outputs": [],
   "source": [
    "\n",
    "prov_null[(prov_null[\"Provinces\"].isnull())]"
   ]
  },
  {
   "cell_type": "code",
   "execution_count": null,
   "metadata": {},
   "outputs": [],
   "source": [
    "df_raw[df_raw['Total'].isnull()].sample(30)"
   ]
  },
  {
   "cell_type": "code",
   "execution_count": null,
   "metadata": {},
   "outputs": [],
   "source": [
    "df_raw = df_raw.dropna(subset=[\"Provinces\", \"Municipalities\", \"Total\"], how=\"any\")"
   ]
  },
  {
   "cell_type": "code",
   "execution_count": null,
   "metadata": {},
   "outputs": [],
   "source": [
    "df_2024 = df_raw[df_raw['Periodo'] == 2024].copy()"
   ]
  },
  {
   "cell_type": "code",
   "execution_count": null,
   "metadata": {},
   "outputs": [],
   "source": [
    "df_2024.reset_index(drop=True, inplace=True)"
   ]
  },
  {
   "cell_type": "code",
   "execution_count": null,
   "metadata": {},
   "outputs": [],
   "source": [
    "idx = pd.Index([\"Provinces\", \"Municipalities\", \"Sex\", \"Age\", \"Periodo\", \"Total\"])\n",
    "eng = pd.Index([\"province\", \"municipality\", \"sex\", \"age\", \"year\", \"total\"])\n",
    "\n",
    "df_2024.rename(columns=dict(zip(idx, eng)), inplace=True)"
   ]
  },
  {
   "cell_type": "markdown",
   "metadata": {},
   "source": [
    "### Get the correct types"
   ]
  },
  {
   "cell_type": "code",
   "execution_count": null,
   "metadata": {},
   "outputs": [],
   "source": [
    "df_2024[\"total\"] = pd.to_numeric(df_2024[\"total\"].str.replace(\".\", \"\", regex=False)).astype(\"int32\")"
   ]
  },
  {
   "cell_type": "code",
   "execution_count": null,
   "metadata": {},
   "outputs": [],
   "source": [
    "df_2024 = df_2024[df_2024[\"age\"] != \"All ages\"]"
   ]
  },
  {
   "cell_type": "code",
   "execution_count": null,
   "metadata": {},
   "outputs": [],
   "source": [
    "(df_2024[\"age\"].str.contains(r\"^\\d\"))"
   ]
  },
  {
   "cell_type": "code",
   "execution_count": null,
   "metadata": {},
   "outputs": [],
   "source": [
    "from scripts.utils import split_column_at\n",
    "\n",
    "df_2024[\"cprov\"] = split_column_at(df_2024, \"province\", \" \", index=0)\n",
    "df_2024[\"province\"] = split_column_at(df_2024, \"province\", \" \", index=1)\n",
    "df_2024[\"cmun\"] = split_column_at(df_2024, \"municipality\", \" \", index=0)\n",
    "df_2024[\"municipality\"] = split_column_at(df_2024, \"municipality\", \" \", index=1)\n",
    "df_2024[\"age\"] = split_column_at(df_2024, \"age\", \" \", index=0)"
   ]
  },
  {
   "cell_type": "code",
   "execution_count": null,
   "metadata": {},
   "outputs": [],
   "source": [
    "df_2024[\"age\"] = pd.to_numeric(df_2024[\"age\"].str.replace(\".\", \"\", regex=False)).astype(\"int32\")"
   ]
  },
  {
   "cell_type": "code",
   "execution_count": null,
   "metadata": {},
   "outputs": [],
   "source": [
    "df_2024[\"cprov\"] = pd.to_numeric(df_2024[\"cprov\"].str.replace(\".\", \"\", regex=False)).astype(\"int32\")\n",
    "df_2024[\"cmun\"] = pd.to_numeric(df_2024[\"cmun\"].str.replace(\".\", \"\", regex=False)).astype(\"int32\")"
   ]
  },
  {
   "cell_type": "code",
   "execution_count": null,
   "metadata": {},
   "outputs": [],
   "source": [
    "cleaner = AccentCleaner([df_2024], ['municipality', 'province'])\n",
    "cleaner.cleanAccents()"
   ]
  }
 ],
 "metadata": {
  "kernelspec": {
   "display_name": ".venv",
   "language": "python",
   "name": "python3"
  },
  "language_info": {
   "codemirror_mode": {
    "name": "ipython",
    "version": 3
   },
   "file_extension": ".py",
   "mimetype": "text/x-python",
   "name": "python",
   "nbconvert_exporter": "python",
   "pygments_lexer": "ipython3",
   "version": "3.11.3"
  }
 },
 "nbformat": 4,
 "nbformat_minor": 2
}
